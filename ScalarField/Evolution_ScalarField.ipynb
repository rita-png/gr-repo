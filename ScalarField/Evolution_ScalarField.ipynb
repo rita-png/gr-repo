{
 "cells": [
  {
   "cell_type": "markdown",
   "id": "d88601a8",
   "metadata": {
    "papermill": {
     "duration": 0.010813,
     "end_time": "2023-03-28T18:06:09.878411",
     "exception": false,
     "start_time": "2023-03-28T18:06:09.867598",
     "status": "completed"
    },
    "tags": []
   },
   "source": [
    "# Evolution of Einstein's equations"
   ]
  },
  {
   "cell_type": "markdown",
   "id": "03c607c7",
   "metadata": {
    "papermill": {
     "duration": 0.006777,
     "end_time": "2023-03-28T18:06:09.893152",
     "exception": false,
     "start_time": "2023-03-28T18:06:09.886375",
     "status": "completed"
    },
    "tags": []
   },
   "source": [
    "# Initial data , setting length of the domain and discretization\n"
   ]
  },
  {
   "cell_type": "markdown",
   "id": "43aebde7",
   "metadata": {
    "execution": {
     "iopub.execute_input": "2023-03-28T19:06:10.907000Z",
     "iopub.status.busy": "2023-03-28T19:06:09.907000Z",
     "iopub.status.idle": "2023-03-28T19:06:12.147000Z",
     "shell.execute_reply": "2023-03-28T19:06:12.110000Z"
    },
    "papermill": {
     "duration": 2.251282,
     "end_time": "2023-03-28T18:06:12.151193",
     "exception": false,
     "start_time": "2023-03-28T18:06:09.899911",
     "status": "completed"
    },
    "tags": [
     "injected-parameters"
    ]
   },
   "source": [
    "# Parameters"
   ]
  },
  {
   "cell_type": "code",
   "execution_count": 428,
   "id": "28f9b745",
   "metadata": {},
   "outputs": [
    {
     "data": {
      "text/plain": [
       "1"
      ]
     },
     "execution_count": 428,
     "metadata": {},
     "output_type": "execute_result"
    }
   ],
   "source": [
    "m = 3\n",
    "A = 0.001#0.049375#0.07#0.05#0.1124921875#0.125\n",
    "run = 1"
   ]
  },
  {
   "cell_type": "code",
   "execution_count": 429,
   "id": "80a113e0",
   "metadata": {},
   "outputs": [
    {
     "name": "stdout",
     "output_type": "stream",
     "text": [
      "1.0"
     ]
    }
   ],
   "source": [
    "res=m;\n",
    "N=2.0^m*400.0/2.0\n",
    "Xf=1.0;\n",
    "\n",
    "dx=Xf/N;\n",
    "dt=round(dx,digits=10);\n",
    "Nt=2.0^m*400.0/2.0\n",
    "Tf=Nt*dt; #final time\n",
    "print(Tf)"
   ]
  },
  {
   "cell_type": "code",
   "execution_count": 430,
   "id": "4f752d54",
   "metadata": {
    "execution": {
     "iopub.execute_input": "2023-03-28T19:06:12.356000Z",
     "iopub.status.busy": "2023-03-28T19:06:12.356000Z",
     "iopub.status.idle": "2023-03-28T19:06:12.364000Z",
     "shell.execute_reply": "2023-03-28T19:06:12.364000Z"
    },
    "papermill": {
     "duration": 0.020815,
     "end_time": "2023-03-28T18:06:12.368761",
     "exception": false,
     "start_time": "2023-03-28T18:06:12.347946",
     "status": "completed"
    },
    "tags": []
   },
   "outputs": [
    {
     "name": "stdout",
     "output_type": "stream",
     "text": [
      "1600.0"
     ]
    }
   ],
   "source": [
    "print(N)"
   ]
  },
  {
   "cell_type": "code",
   "execution_count": 431,
   "id": "ad48576a",
   "metadata": {
    "execution": {
     "iopub.execute_input": "2023-03-28T19:06:12.386000Z",
     "iopub.status.busy": "2023-03-28T19:06:12.385000Z",
     "iopub.status.idle": "2023-03-28T19:06:12.398000Z",
     "shell.execute_reply": "2023-03-28T19:06:12.398000Z"
    },
    "papermill": {
     "duration": 0.024143,
     "end_time": "2023-03-28T18:06:12.402660",
     "exception": false,
     "start_time": "2023-03-28T18:06:12.378517",
     "status": "completed"
    },
    "tags": []
   },
   "outputs": [
    {
     "name": "stdout",
     "output_type": "stream",
     "text": [
      "dx =0.000625\n",
      "dt =0.000625\n",
      "dx/dt =1.0\n"
     ]
    }
   ],
   "source": [
    "println(\"dx =\", dx)\n",
    "println(\"dt =\", dt)\n",
    "println(\"dx/dt =\", dx/dt)"
   ]
  },
  {
   "cell_type": "code",
   "execution_count": 432,
   "id": "78fb78a5",
   "metadata": {
    "execution": {
     "iopub.execute_input": "2023-03-28T19:06:12.419000Z",
     "iopub.status.busy": "2023-03-28T19:06:12.419000Z",
     "iopub.status.idle": "2023-03-28T19:06:13.308000Z",
     "shell.execute_reply": "2023-03-28T19:06:13.308000Z"
    },
    "papermill": {
     "duration": 0.90283,
     "end_time": "2023-03-28T18:06:13.314381",
     "exception": false,
     "start_time": "2023-03-28T18:06:12.411551",
     "status": "completed"
    },
    "tags": []
   },
   "outputs": [
    {
     "data": {
      "text/plain": [
       "\"/home/rita13santos/Desktop/MSc Thesis/Git/ScalarField/DATA\""
      ]
     },
     "execution_count": 432,
     "metadata": {},
     "output_type": "execute_result"
    }
   ],
   "source": [
    "global dir = \"/home/rita13santos/Desktop/MSc Thesis/Git/ScalarField/DATA\"\n",
    "#global dir = \"/home/rita13santos/Desktop/MSc Thesis/Git/ScalarField/DATA\""
   ]
  },
  {
   "cell_type": "markdown",
   "id": "e2dd4335",
   "metadata": {
    "papermill": {
     "duration": 0.007006,
     "end_time": "2023-03-28T18:06:13.351329",
     "exception": false,
     "start_time": "2023-03-28T18:06:13.344323",
     "status": "completed"
    },
    "tags": []
   },
   "source": [
    "# Grid"
   ]
  },
  {
   "cell_type": "code",
   "execution_count": 433,
   "id": "bc5288f8",
   "metadata": {
    "execution": {
     "iopub.execute_input": "2023-03-28T19:06:13.636000Z",
     "iopub.status.busy": "2023-03-28T19:06:13.636000Z",
     "iopub.status.idle": "2023-03-28T19:06:14.762000Z",
     "shell.execute_reply": "2023-03-28T19:06:14.762000Z"
    },
    "papermill": {
     "duration": 1.137394,
     "end_time": "2023-03-28T18:06:14.765909",
     "exception": false,
     "start_time": "2023-03-28T18:06:13.628515",
     "status": "completed"
    },
    "tags": []
   },
   "outputs": [],
   "source": [
    "using Printf\n",
    "include(\"./ScalarField.jl\");"
   ]
  },
  {
   "cell_type": "code",
   "execution_count": 434,
   "id": "de24fea3",
   "metadata": {
    "execution": {
     "iopub.execute_input": "2023-03-28T19:06:13.366000Z",
     "iopub.status.busy": "2023-03-28T19:06:13.366000Z",
     "iopub.status.idle": "2023-03-28T19:06:13.571000Z",
     "shell.execute_reply": "2023-03-28T19:06:13.571000Z"
    },
    "papermill": {
     "duration": 0.216104,
     "end_time": "2023-03-28T18:06:13.574666",
     "exception": false,
     "start_time": "2023-03-28T18:06:13.358562",
     "status": "completed"
    },
    "tags": []
   },
   "outputs": [
    {
     "name": "stdout",
     "output_type": "stream",
     "text": [
      "step size is  0.000625\n",
      "the time step is 0.000625\n"
     ]
    }
   ],
   "source": [
    "ori=0.0;\n",
    "initX1 = nothing\n",
    "N=int(N)\n",
    "initX1=range(ori, stop=Xf, step=dx);\n",
    "\n",
    "initX = range(round(ori-3.0*dx,digits=10), stop=Xf+3.0*dx, step=dx)\n",
    "\n",
    "L=length(initX);\n",
    "println(\"step size is  \", dx)\n",
    "println(\"the time step is \", dt)"
   ]
  },
  {
   "cell_type": "code",
   "execution_count": 435,
   "id": "f4c71bab",
   "metadata": {},
   "outputs": [],
   "source": [
    "\"\"\"if m==1\n",
    "    initX1=chebyshev(int((L-6)))\n",
    "    L1=L;\n",
    "elseif m==2\n",
    "    initX1=doublegrid(chebyshev(int((L1-6))))\n",
    "else\n",
    "    initX1=doublegrid(doublegrid(chebyshev(int((L1-6)))))\n",
    "end\n",
    "initX=collect(initX)\n",
    "initX[4:L-3]=initX1;\"\"\";"
   ]
  },
  {
   "cell_type": "markdown",
   "id": "80ab1480",
   "metadata": {
    "papermill": {
     "duration": 0.007525,
     "end_time": "2023-03-28T18:06:14.783937",
     "exception": false,
     "start_time": "2023-03-28T18:06:14.776412",
     "status": "completed"
    },
    "tags": []
   },
   "source": [
    "# Initial data of m β Ψ and Ψ,x"
   ]
  },
  {
   "cell_type": "code",
   "execution_count": 436,
   "id": "d0af654c",
   "metadata": {
    "execution": {
     "iopub.execute_input": "2023-03-28T19:06:14.799000Z",
     "iopub.status.busy": "2023-03-28T19:06:14.799000Z",
     "iopub.status.idle": "2023-03-28T19:06:22.269000Z",
     "shell.execute_reply": "2023-03-28T19:06:22.269000Z"
    },
    "papermill": {
     "duration": 7.48258,
     "end_time": "2023-03-28T18:06:22.273970",
     "exception": false,
     "start_time": "2023-03-28T18:06:14.791390",
     "status": "completed"
    },
    "tags": []
   },
   "outputs": [],
   "source": [
    "using Dierckx\n",
    "using Quadmath\n",
    "\n",
    "\n",
    "####\n",
    "#initm=Array{Float128}(undef, L)\n",
    "#initbeta=Array{Float128}(undef, L)\n",
    "#initpsi=Array{Float128}(undef, L)\n",
    "#initderpsi=Array{Float128}(undef, L)\n",
    "initm=zeros(L);\n",
    "initbeta=zeros(L);\n",
    "initpsi=zeros(L);\n",
    "initderpsi=zeros(L);\n",
    "\n",
    "state_array=[initm initbeta initpsi initderpsi initX];\n",
    "\n",
    "#PSI\n",
    "r0=0.7#0.01#0.7#0.01#0.7#0.7#0.7#0.01#0.7#0.3\n",
    "sigma=0.3\n",
    "initpsi[4:L-3] = init_gaussian(initX1,r0,sigma,A)\n",
    "\n",
    "state_array[:,3] = initpsi\n",
    "state_array = ghost(state_array)\n",
    "\n",
    "#PSI,X FROM PSI\n",
    "initderpsi[4:L-3] = init_gaussian_der(initX1,r0,sigma,A)\n",
    "state_array[:,4] = initderpsi\n",
    "state_array=ghost(state_array)\n",
    "\n",
    "####\n",
    "\n",
    "derpsi_func = Spline1D(initX[4:L-3], state_array[4:L-3,4],  k=4);"
   ]
  },
  {
   "cell_type": "code",
   "execution_count": 437,
   "id": "9cc776ac",
   "metadata": {},
   "outputs": [],
   "source": [
    "##AUX\n",
    "auxinitm=zeros((L-6)*2+5);\n",
    "auxinitbeta=zeros((L-6)*2+5);\n",
    "auxinitpsi=zeros((L-6)*2+5);\n",
    "auxinitderpsi=zeros((L-6)*2+5);\n",
    "auxinitX=range(round(ori-3.0*dx/2,digits=10), stop=Xf+3.0*dx/2, step=dx/2)\n",
    "auxinitX1=auxinitX[4:length(auxinitX)-3]\n",
    "auxL=length(auxinitX)\n",
    "\n",
    "auxstate_array=[auxinitm auxinitbeta auxinitpsi auxinitderpsi auxinitX];\n",
    "\n",
    "#PSI\n",
    "r0=0.7\n",
    "sigma=0.3\n",
    "auxinitpsi[4:auxL-3] = init_gaussian(auxinitX1,r0,sigma,A)\n",
    "\n",
    "auxstate_array[:,3] = auxinitpsi\n",
    "auxstate_array = ghost(auxstate_array)\n",
    "\n",
    "#PSI,X FROM PSI\n",
    "auxinitderpsi[4:auxL-3] = init_gaussian_der(auxinitX1,r0,sigma,A)\n",
    "auxstate_array[:,4] = auxinitderpsi\n",
    "auxstate_array=ghost(auxstate_array)\n",
    "\n",
    "####\n",
    "\n",
    "auxderpsi_func = Spline1D(auxinitX[4:auxL-3], auxstate_array[4:auxL-3,4],  k=4);"
   ]
  },
  {
   "cell_type": "code",
   "execution_count": 438,
   "id": "16b359eb",
   "metadata": {},
   "outputs": [
    {
     "data": {
      "text/plain": [
       "\"integ=integrator(initX,derpsi_func)\\nplot(initX1, integ[4:L-3],xlim=[0,0.001])\""
      ]
     },
     "execution_count": 438,
     "metadata": {},
     "output_type": "execute_result"
    }
   ],
   "source": [
    "\"\"\"integ=integrator(initX,derpsi_func)\n",
    "plot(initX1, integ[4:L-3],xlim=[0,0.001])\"\"\""
   ]
  },
  {
   "cell_type": "code",
   "execution_count": 439,
   "id": "d4a56f84",
   "metadata": {},
   "outputs": [],
   "source": [
    "##AUX\n",
    "y0=[0 0 0]\n",
    "auxstate_array[4:auxL-3,1:3] = n_rk4wrapper(RHS,y0,auxinitX[4:auxL-3],0,auxderpsi_func,auxstate_array[:,:]);"
   ]
  },
  {
   "cell_type": "code",
   "execution_count": 440,
   "id": "384597fa",
   "metadata": {
    "execution": {
     "iopub.execute_input": "2023-03-28T19:06:22.817000Z",
     "iopub.status.busy": "2023-03-28T19:06:22.325000Z",
     "iopub.status.idle": "2023-03-28T19:06:25.288000Z",
     "shell.execute_reply": "2023-03-28T19:06:25.288000Z"
    },
    "papermill": {
     "duration": 2.998847,
     "end_time": "2023-03-28T18:06:25.292099",
     "exception": false,
     "start_time": "2023-03-28T18:06:22.293252",
     "status": "completed"
    },
    "tags": []
   },
   "outputs": [],
   "source": [
    "y0=[0 0 0]\n",
    "#state_array[4:L-3,1:3] = n_rk4wrapper(RHS,y0,initX[4:L-3],0,derpsi_func,state_array[:,:],auxstate_array); #ghost grid\n",
    "\n",
    "state_array[4:L-3,1:3] = n_rk4wrapper(RHS,y0,initX[4:L-3],0,derpsi_func,state_array[:,:]);\n",
    "\n",
    "state_array = ghost(state_array);"
   ]
  },
  {
   "cell_type": "code",
   "execution_count": 441,
   "id": "48f10a76",
   "metadata": {
    "execution": {
     "iopub.execute_input": "2023-03-28T19:06:25.312000Z",
     "iopub.status.busy": "2023-03-28T19:06:25.312000Z",
     "iopub.status.idle": "2023-03-28T19:06:25.348000Z",
     "shell.execute_reply": "2023-03-28T19:06:25.347000Z"
    },
    "papermill": {
     "duration": 0.048534,
     "end_time": "2023-03-28T18:06:25.352888",
     "exception": false,
     "start_time": "2023-03-28T18:06:25.304354",
     "status": "completed"
    },
    "tags": []
   },
   "outputs": [
    {
     "data": {
      "image/svg+xml": [
       "<?xml version=\"1.0\" encoding=\"utf-8\"?>\n",
       "<svg xmlns=\"http://www.w3.org/2000/svg\" xmlns:xlink=\"http://www.w3.org/1999/xlink\" width=\"600\" height=\"400\" viewBox=\"0 0 2400 1600\">\n",
       "<defs>\n",
       "  <clipPath id=\"clip790\">\n",
       "    <rect x=\"0\" y=\"0\" width=\"2400\" height=\"1600\"/>\n",
       "  </clipPath>\n",
       "</defs>\n",
       "<path clip-path=\"url(#clip790)\" d=\"M0 1600 L2400 1600 L2400 0 L0 0  Z\" fill=\"#ffffff\" fill-rule=\"evenodd\" fill-opacity=\"1\"/>\n",
       "<defs>\n",
       "  <clipPath id=\"clip791\">\n",
       "    <rect x=\"480\" y=\"0\" width=\"1681\" height=\"1600\"/>\n",
       "  </clipPath>\n",
       "</defs>\n",
       "<path clip-path=\"url(#clip790)\" d=\"M284.422 1423.18 L2352.76 1423.18 L2352.76 123.472 L284.422 123.472  Z\" fill=\"#ffffff\" fill-rule=\"evenodd\" fill-opacity=\"1\"/>\n",
       "<defs>\n",
       "  <clipPath id=\"clip792\">\n",
       "    <rect x=\"284\" y=\"123\" width=\"2069\" height=\"1301\"/>\n",
       "  </clipPath>\n",
       "</defs>\n",
       "<polyline clip-path=\"url(#clip792)\" style=\"stroke:#000000; stroke-linecap:round; stroke-linejoin:round; stroke-width:2; stroke-opacity:0.1; fill:none\" points=\"342.959,1423.18 342.959,123.472 \"/>\n",
       "<polyline clip-path=\"url(#clip792)\" style=\"stroke:#000000; stroke-linecap:round; stroke-linejoin:round; stroke-width:2; stroke-opacity:0.1; fill:none\" points=\"830.774,1423.18 830.774,123.472 \"/>\n",
       "<polyline clip-path=\"url(#clip792)\" style=\"stroke:#000000; stroke-linecap:round; stroke-linejoin:round; stroke-width:2; stroke-opacity:0.1; fill:none\" points=\"1318.59,1423.18 1318.59,123.472 \"/>\n",
       "<polyline clip-path=\"url(#clip792)\" style=\"stroke:#000000; stroke-linecap:round; stroke-linejoin:round; stroke-width:2; stroke-opacity:0.1; fill:none\" points=\"1806.4,1423.18 1806.4,123.472 \"/>\n",
       "<polyline clip-path=\"url(#clip792)\" style=\"stroke:#000000; stroke-linecap:round; stroke-linejoin:round; stroke-width:2; stroke-opacity:0.1; fill:none\" points=\"2294.22,1423.18 2294.22,123.472 \"/>\n",
       "<polyline clip-path=\"url(#clip790)\" style=\"stroke:#000000; stroke-linecap:round; stroke-linejoin:round; stroke-width:4; stroke-opacity:1; fill:none\" points=\"284.422,1423.18 2352.76,1423.18 \"/>\n",
       "<polyline clip-path=\"url(#clip790)\" style=\"stroke:#000000; stroke-linecap:round; stroke-linejoin:round; stroke-width:4; stroke-opacity:1; fill:none\" points=\"342.959,1423.18 342.959,1404.28 \"/>\n",
       "<polyline clip-path=\"url(#clip790)\" style=\"stroke:#000000; stroke-linecap:round; stroke-linejoin:round; stroke-width:4; stroke-opacity:1; fill:none\" points=\"830.774,1423.18 830.774,1404.28 \"/>\n",
       "<polyline clip-path=\"url(#clip790)\" style=\"stroke:#000000; stroke-linecap:round; stroke-linejoin:round; stroke-width:4; stroke-opacity:1; fill:none\" points=\"1318.59,1423.18 1318.59,1404.28 \"/>\n",
       "<polyline clip-path=\"url(#clip790)\" style=\"stroke:#000000; stroke-linecap:round; stroke-linejoin:round; stroke-width:4; stroke-opacity:1; fill:none\" points=\"1806.4,1423.18 1806.4,1404.28 \"/>\n",
       "<polyline clip-path=\"url(#clip790)\" style=\"stroke:#000000; stroke-linecap:round; stroke-linejoin:round; stroke-width:4; stroke-opacity:1; fill:none\" points=\"2294.22,1423.18 2294.22,1404.28 \"/>\n",
       "<path clip-path=\"url(#clip790)\" d=\"M305.263 1454.1 Q301.652 1454.1 299.823 1457.66 Q298.017 1461.2 298.017 1468.33 Q298.017 1475.44 299.823 1479.01 Q301.652 1482.55 305.263 1482.55 Q308.897 1482.55 310.703 1479.01 Q312.531 1475.44 312.531 1468.33 Q312.531 1461.2 310.703 1457.66 Q308.897 1454.1 305.263 1454.1 M305.263 1450.39 Q311.073 1450.39 314.129 1455 Q317.207 1459.58 317.207 1468.33 Q317.207 1477.06 314.129 1481.67 Q311.073 1486.25 305.263 1486.25 Q299.453 1486.25 296.374 1481.67 Q293.318 1477.06 293.318 1468.33 Q293.318 1459.58 296.374 1455 Q299.453 1450.39 305.263 1450.39 Z\" fill=\"#000000\" fill-rule=\"evenodd\" fill-opacity=\"1\" /><path clip-path=\"url(#clip790)\" d=\"M325.425 1479.7 L330.309 1479.7 L330.309 1485.58 L325.425 1485.58 L325.425 1479.7 Z\" fill=\"#000000\" fill-rule=\"evenodd\" fill-opacity=\"1\" /><path clip-path=\"url(#clip790)\" d=\"M350.494 1454.1 Q346.883 1454.1 345.054 1457.66 Q343.249 1461.2 343.249 1468.33 Q343.249 1475.44 345.054 1479.01 Q346.883 1482.55 350.494 1482.55 Q354.128 1482.55 355.934 1479.01 Q357.763 1475.44 357.763 1468.33 Q357.763 1461.2 355.934 1457.66 Q354.128 1454.1 350.494 1454.1 M350.494 1450.39 Q356.304 1450.39 359.36 1455 Q362.438 1459.58 362.438 1468.33 Q362.438 1477.06 359.36 1481.67 Q356.304 1486.25 350.494 1486.25 Q344.684 1486.25 341.605 1481.67 Q338.55 1477.06 338.55 1468.33 Q338.55 1459.58 341.605 1455 Q344.684 1450.39 350.494 1450.39 Z\" fill=\"#000000\" fill-rule=\"evenodd\" fill-opacity=\"1\" /><path clip-path=\"url(#clip790)\" d=\"M380.656 1454.1 Q377.045 1454.1 375.216 1457.66 Q373.411 1461.2 373.411 1468.33 Q373.411 1475.44 375.216 1479.01 Q377.045 1482.55 380.656 1482.55 Q384.29 1482.55 386.096 1479.01 Q387.924 1475.44 387.924 1468.33 Q387.924 1461.2 386.096 1457.66 Q384.29 1454.1 380.656 1454.1 M380.656 1450.39 Q386.466 1450.39 389.522 1455 Q392.6 1459.58 392.6 1468.33 Q392.6 1477.06 389.522 1481.67 Q386.466 1486.25 380.656 1486.25 Q374.846 1486.25 371.767 1481.67 Q368.712 1477.06 368.712 1468.33 Q368.712 1459.58 371.767 1455 Q374.846 1450.39 380.656 1450.39 Z\" fill=\"#000000\" fill-rule=\"evenodd\" fill-opacity=\"1\" /><path clip-path=\"url(#clip790)\" d=\"M793.575 1454.1 Q789.964 1454.1 788.135 1457.66 Q786.33 1461.2 786.33 1468.33 Q786.33 1475.44 788.135 1479.01 Q789.964 1482.55 793.575 1482.55 Q797.209 1482.55 799.015 1479.01 Q800.844 1475.44 800.844 1468.33 Q800.844 1461.2 799.015 1457.66 Q797.209 1454.1 793.575 1454.1 M793.575 1450.39 Q799.385 1450.39 802.441 1455 Q805.52 1459.58 805.52 1468.33 Q805.52 1477.06 802.441 1481.67 Q799.385 1486.25 793.575 1486.25 Q787.765 1486.25 784.686 1481.67 Q781.631 1477.06 781.631 1468.33 Q781.631 1459.58 784.686 1455 Q787.765 1450.39 793.575 1450.39 Z\" fill=\"#000000\" fill-rule=\"evenodd\" fill-opacity=\"1\" /><path clip-path=\"url(#clip790)\" d=\"M813.737 1479.7 L818.621 1479.7 L818.621 1485.58 L813.737 1485.58 L813.737 1479.7 Z\" fill=\"#000000\" fill-rule=\"evenodd\" fill-opacity=\"1\" /><path clip-path=\"url(#clip790)\" d=\"M832.834 1481.64 L849.154 1481.64 L849.154 1485.58 L827.209 1485.58 L827.209 1481.64 Q829.871 1478.89 834.455 1474.26 Q839.061 1469.61 840.242 1468.27 Q842.487 1465.74 843.367 1464.01 Q844.269 1462.25 844.269 1460.56 Q844.269 1457.8 842.325 1456.07 Q840.404 1454.33 837.302 1454.33 Q835.103 1454.33 832.649 1455.09 Q830.219 1455.86 827.441 1457.41 L827.441 1452.69 Q830.265 1451.55 832.719 1450.97 Q835.172 1450.39 837.209 1450.39 Q842.58 1450.39 845.774 1453.08 Q848.968 1455.77 848.968 1460.26 Q848.968 1462.39 848.158 1464.31 Q847.371 1466.2 845.265 1468.8 Q844.686 1469.47 841.584 1472.69 Q838.482 1475.88 832.834 1481.64 Z\" fill=\"#000000\" fill-rule=\"evenodd\" fill-opacity=\"1\" /><path clip-path=\"url(#clip790)\" d=\"M859.015 1451.02 L877.371 1451.02 L877.371 1454.96 L863.297 1454.96 L863.297 1463.43 Q864.316 1463.08 865.334 1462.92 Q866.353 1462.73 867.371 1462.73 Q873.158 1462.73 876.538 1465.9 Q879.917 1469.08 879.917 1474.49 Q879.917 1480.07 876.445 1483.17 Q872.973 1486.25 866.654 1486.25 Q864.478 1486.25 862.209 1485.88 Q859.964 1485.51 857.556 1484.77 L857.556 1480.07 Q859.64 1481.2 861.862 1481.76 Q864.084 1482.32 866.561 1482.32 Q870.566 1482.32 872.903 1480.21 Q875.241 1478.1 875.241 1474.49 Q875.241 1470.88 872.903 1468.77 Q870.566 1466.67 866.561 1466.67 Q864.686 1466.67 862.811 1467.08 Q860.959 1467.5 859.015 1468.38 L859.015 1451.02 Z\" fill=\"#000000\" fill-rule=\"evenodd\" fill-opacity=\"1\" /><path clip-path=\"url(#clip790)\" d=\"M1280.89 1454.1 Q1277.28 1454.1 1275.45 1457.66 Q1273.65 1461.2 1273.65 1468.33 Q1273.65 1475.44 1275.45 1479.01 Q1277.28 1482.55 1280.89 1482.55 Q1284.53 1482.55 1286.33 1479.01 Q1288.16 1475.44 1288.16 1468.33 Q1288.16 1461.2 1286.33 1457.66 Q1284.53 1454.1 1280.89 1454.1 M1280.89 1450.39 Q1286.7 1450.39 1289.76 1455 Q1292.84 1459.58 1292.84 1468.33 Q1292.84 1477.06 1289.76 1481.67 Q1286.7 1486.25 1280.89 1486.25 Q1275.08 1486.25 1272 1481.67 Q1268.95 1477.06 1268.95 1468.33 Q1268.95 1459.58 1272 1455 Q1275.08 1450.39 1280.89 1450.39 Z\" fill=\"#000000\" fill-rule=\"evenodd\" fill-opacity=\"1\" /><path clip-path=\"url(#clip790)\" d=\"M1301.05 1479.7 L1305.94 1479.7 L1305.94 1485.58 L1301.05 1485.58 L1301.05 1479.7 Z\" fill=\"#000000\" fill-rule=\"evenodd\" fill-opacity=\"1\" /><path clip-path=\"url(#clip790)\" d=\"M1316.17 1451.02 L1334.53 1451.02 L1334.53 1454.96 L1320.45 1454.96 L1320.45 1463.43 Q1321.47 1463.08 1322.49 1462.92 Q1323.51 1462.73 1324.53 1462.73 Q1330.31 1462.73 1333.69 1465.9 Q1337.07 1469.08 1337.07 1474.49 Q1337.07 1480.07 1333.6 1483.17 Q1330.13 1486.25 1323.81 1486.25 Q1321.63 1486.25 1319.36 1485.88 Q1317.12 1485.51 1314.71 1484.77 L1314.71 1480.07 Q1316.79 1481.2 1319.02 1481.76 Q1321.24 1482.32 1323.72 1482.32 Q1327.72 1482.32 1330.06 1480.21 Q1332.4 1478.1 1332.4 1474.49 Q1332.4 1470.88 1330.06 1468.77 Q1327.72 1466.67 1323.72 1466.67 Q1321.84 1466.67 1319.97 1467.08 Q1318.11 1467.5 1316.17 1468.38 L1316.17 1451.02 Z\" fill=\"#000000\" fill-rule=\"evenodd\" fill-opacity=\"1\" /><path clip-path=\"url(#clip790)\" d=\"M1356.29 1454.1 Q1352.67 1454.1 1350.85 1457.66 Q1349.04 1461.2 1349.04 1468.33 Q1349.04 1475.44 1350.85 1479.01 Q1352.67 1482.55 1356.29 1482.55 Q1359.92 1482.55 1361.73 1479.01 Q1363.55 1475.44 1363.55 1468.33 Q1363.55 1461.2 1361.73 1457.66 Q1359.92 1454.1 1356.29 1454.1 M1356.29 1450.39 Q1362.1 1450.39 1365.15 1455 Q1368.23 1459.58 1368.23 1468.33 Q1368.23 1477.06 1365.15 1481.67 Q1362.1 1486.25 1356.29 1486.25 Q1350.48 1486.25 1347.4 1481.67 Q1344.34 1477.06 1344.34 1468.33 Q1344.34 1459.58 1347.4 1455 Q1350.48 1450.39 1356.29 1450.39 Z\" fill=\"#000000\" fill-rule=\"evenodd\" fill-opacity=\"1\" /><path clip-path=\"url(#clip790)\" d=\"M1769.2 1454.1 Q1765.59 1454.1 1763.76 1457.66 Q1761.96 1461.2 1761.96 1468.33 Q1761.96 1475.44 1763.76 1479.01 Q1765.59 1482.55 1769.2 1482.55 Q1772.84 1482.55 1774.64 1479.01 Q1776.47 1475.44 1776.47 1468.33 Q1776.47 1461.2 1774.64 1457.66 Q1772.84 1454.1 1769.2 1454.1 M1769.2 1450.39 Q1775.01 1450.39 1778.07 1455 Q1781.15 1459.58 1781.15 1468.33 Q1781.15 1477.06 1778.07 1481.67 Q1775.01 1486.25 1769.2 1486.25 Q1763.39 1486.25 1760.32 1481.67 Q1757.26 1477.06 1757.26 1468.33 Q1757.26 1459.58 1760.32 1455 Q1763.39 1450.39 1769.2 1450.39 Z\" fill=\"#000000\" fill-rule=\"evenodd\" fill-opacity=\"1\" /><path clip-path=\"url(#clip790)\" d=\"M1789.37 1479.7 L1794.25 1479.7 L1794.25 1485.58 L1789.37 1485.58 L1789.37 1479.7 Z\" fill=\"#000000\" fill-rule=\"evenodd\" fill-opacity=\"1\" /><path clip-path=\"url(#clip790)\" d=\"M1803.26 1451.02 L1825.48 1451.02 L1825.48 1453.01 L1812.93 1485.58 L1808.05 1485.58 L1819.85 1454.96 L1803.26 1454.96 L1803.26 1451.02 Z\" fill=\"#000000\" fill-rule=\"evenodd\" fill-opacity=\"1\" /><path clip-path=\"url(#clip790)\" d=\"M1834.64 1451.02 L1853 1451.02 L1853 1454.96 L1838.93 1454.96 L1838.93 1463.43 Q1839.94 1463.08 1840.96 1462.92 Q1841.98 1462.73 1843 1462.73 Q1848.79 1462.73 1852.17 1465.9 Q1855.55 1469.08 1855.55 1474.49 Q1855.55 1480.07 1852.07 1483.17 Q1848.6 1486.25 1842.28 1486.25 Q1840.11 1486.25 1837.84 1485.88 Q1835.59 1485.51 1833.19 1484.77 L1833.19 1480.07 Q1835.27 1481.2 1837.49 1481.76 Q1839.71 1482.32 1842.19 1482.32 Q1846.19 1482.32 1848.53 1480.21 Q1850.87 1478.1 1850.87 1474.49 Q1850.87 1470.88 1848.53 1468.77 Q1846.19 1466.67 1842.19 1466.67 Q1840.32 1466.67 1838.44 1467.08 Q1836.59 1467.5 1834.64 1468.38 L1834.64 1451.02 Z\" fill=\"#000000\" fill-rule=\"evenodd\" fill-opacity=\"1\" /><path clip-path=\"url(#clip790)\" d=\"M2246.29 1481.64 L2253.93 1481.64 L2253.93 1455.28 L2245.62 1456.95 L2245.62 1452.69 L2253.88 1451.02 L2258.56 1451.02 L2258.56 1481.64 L2266.2 1481.64 L2266.2 1485.58 L2246.29 1485.58 L2246.29 1481.64 Z\" fill=\"#000000\" fill-rule=\"evenodd\" fill-opacity=\"1\" /><path clip-path=\"url(#clip790)\" d=\"M2275.64 1479.7 L2280.53 1479.7 L2280.53 1485.58 L2275.64 1485.58 L2275.64 1479.7 Z\" fill=\"#000000\" fill-rule=\"evenodd\" fill-opacity=\"1\" /><path clip-path=\"url(#clip790)\" d=\"M2300.71 1454.1 Q2297.1 1454.1 2295.27 1457.66 Q2293.47 1461.2 2293.47 1468.33 Q2293.47 1475.44 2295.27 1479.01 Q2297.1 1482.55 2300.71 1482.55 Q2304.35 1482.55 2306.15 1479.01 Q2307.98 1475.44 2307.98 1468.33 Q2307.98 1461.2 2306.15 1457.66 Q2304.35 1454.1 2300.71 1454.1 M2300.71 1450.39 Q2306.52 1450.39 2309.58 1455 Q2312.66 1459.58 2312.66 1468.33 Q2312.66 1477.06 2309.58 1481.67 Q2306.52 1486.25 2300.71 1486.25 Q2294.9 1486.25 2291.82 1481.67 Q2288.77 1477.06 2288.77 1468.33 Q2288.77 1459.58 2291.82 1455 Q2294.9 1450.39 2300.71 1450.39 Z\" fill=\"#000000\" fill-rule=\"evenodd\" fill-opacity=\"1\" /><path clip-path=\"url(#clip790)\" d=\"M2330.87 1454.1 Q2327.26 1454.1 2325.43 1457.66 Q2323.63 1461.2 2323.63 1468.33 Q2323.63 1475.44 2325.43 1479.01 Q2327.26 1482.55 2330.87 1482.55 Q2334.51 1482.55 2336.31 1479.01 Q2338.14 1475.44 2338.14 1468.33 Q2338.14 1461.2 2336.31 1457.66 Q2334.51 1454.1 2330.87 1454.1 M2330.87 1450.39 Q2336.68 1450.39 2339.74 1455 Q2342.82 1459.58 2342.82 1468.33 Q2342.82 1477.06 2339.74 1481.67 Q2336.68 1486.25 2330.87 1486.25 Q2325.06 1486.25 2321.98 1481.67 Q2318.93 1477.06 2318.93 1468.33 Q2318.93 1459.58 2321.98 1455 Q2325.06 1450.39 2330.87 1450.39 Z\" fill=\"#000000\" fill-rule=\"evenodd\" fill-opacity=\"1\" /><path clip-path=\"url(#clip790)\" d=\"M1335.2 1532.4 L1322.31 1549.74 L1335.87 1568.04 L1328.96 1568.04 L1318.59 1554.04 L1308.21 1568.04 L1301.31 1568.04 L1315.15 1549.39 L1302.48 1532.4 L1309.39 1532.4 L1318.84 1545.1 L1328.3 1532.4 L1335.2 1532.4 Z\" fill=\"#000000\" fill-rule=\"evenodd\" fill-opacity=\"1\" /><polyline clip-path=\"url(#clip792)\" style=\"stroke:#000000; stroke-linecap:round; stroke-linejoin:round; stroke-width:2; stroke-opacity:0.1; fill:none\" points=\"284.422,1244.6 2352.76,1244.6 \"/>\n",
       "<polyline clip-path=\"url(#clip792)\" style=\"stroke:#000000; stroke-linecap:round; stroke-linejoin:round; stroke-width:2; stroke-opacity:0.1; fill:none\" points=\"284.422,952.832 2352.76,952.832 \"/>\n",
       "<polyline clip-path=\"url(#clip792)\" style=\"stroke:#000000; stroke-linecap:round; stroke-linejoin:round; stroke-width:2; stroke-opacity:0.1; fill:none\" points=\"284.422,661.066 2352.76,661.066 \"/>\n",
       "<polyline clip-path=\"url(#clip792)\" style=\"stroke:#000000; stroke-linecap:round; stroke-linejoin:round; stroke-width:2; stroke-opacity:0.1; fill:none\" points=\"284.422,369.299 2352.76,369.299 \"/>\n",
       "<polyline clip-path=\"url(#clip790)\" style=\"stroke:#000000; stroke-linecap:round; stroke-linejoin:round; stroke-width:4; stroke-opacity:1; fill:none\" points=\"284.422,1423.18 284.422,123.472 \"/>\n",
       "<polyline clip-path=\"url(#clip790)\" style=\"stroke:#000000; stroke-linecap:round; stroke-linejoin:round; stroke-width:4; stroke-opacity:1; fill:none\" points=\"284.422,1244.6 303.319,1244.6 \"/>\n",
       "<polyline clip-path=\"url(#clip790)\" style=\"stroke:#000000; stroke-linecap:round; stroke-linejoin:round; stroke-width:4; stroke-opacity:1; fill:none\" points=\"284.422,952.832 303.319,952.832 \"/>\n",
       "<polyline clip-path=\"url(#clip790)\" style=\"stroke:#000000; stroke-linecap:round; stroke-linejoin:round; stroke-width:4; stroke-opacity:1; fill:none\" points=\"284.422,661.066 303.319,661.066 \"/>\n",
       "<polyline clip-path=\"url(#clip790)\" style=\"stroke:#000000; stroke-linecap:round; stroke-linejoin:round; stroke-width:4; stroke-opacity:1; fill:none\" points=\"284.422,369.299 303.319,369.299 \"/>\n",
       "<path clip-path=\"url(#clip790)\" d=\"M50.9921 1245.05 L80.6679 1245.05 L80.6679 1248.99 L50.9921 1248.99 L50.9921 1245.05 Z\" fill=\"#000000\" fill-rule=\"evenodd\" fill-opacity=\"1\" /><path clip-path=\"url(#clip790)\" d=\"M100.76 1230.4 Q97.1493 1230.4 95.3206 1233.96 Q93.515 1237.5 93.515 1244.63 Q93.515 1251.74 95.3206 1255.31 Q97.1493 1258.85 100.76 1258.85 Q104.395 1258.85 106.2 1255.31 Q108.029 1251.74 108.029 1244.63 Q108.029 1237.5 106.2 1233.96 Q104.395 1230.4 100.76 1230.4 M100.76 1226.69 Q106.571 1226.69 109.626 1231.3 Q112.705 1235.88 112.705 1244.63 Q112.705 1253.36 109.626 1257.97 Q106.571 1262.55 100.76 1262.55 Q94.9502 1262.55 91.8715 1257.97 Q88.816 1253.36 88.816 1244.63 Q88.816 1235.88 91.8715 1231.3 Q94.9502 1226.69 100.76 1226.69 Z\" fill=\"#000000\" fill-rule=\"evenodd\" fill-opacity=\"1\" /><path clip-path=\"url(#clip790)\" d=\"M120.922 1256 L125.807 1256 L125.807 1261.88 L120.922 1261.88 L120.922 1256 Z\" fill=\"#000000\" fill-rule=\"evenodd\" fill-opacity=\"1\" /><path clip-path=\"url(#clip790)\" d=\"M145.992 1230.4 Q142.381 1230.4 140.552 1233.96 Q138.746 1237.5 138.746 1244.63 Q138.746 1251.74 140.552 1255.31 Q142.381 1258.85 145.992 1258.85 Q149.626 1258.85 151.431 1255.31 Q153.26 1251.74 153.26 1244.63 Q153.26 1237.5 151.431 1233.96 Q149.626 1230.4 145.992 1230.4 M145.992 1226.69 Q151.802 1226.69 154.857 1231.3 Q157.936 1235.88 157.936 1244.63 Q157.936 1253.36 154.857 1257.97 Q151.802 1262.55 145.992 1262.55 Q140.181 1262.55 137.103 1257.97 Q134.047 1253.36 134.047 1244.63 Q134.047 1235.88 137.103 1231.3 Q140.181 1226.69 145.992 1226.69 Z\" fill=\"#000000\" fill-rule=\"evenodd\" fill-opacity=\"1\" /><path clip-path=\"url(#clip790)\" d=\"M176.153 1230.4 Q172.542 1230.4 170.714 1233.96 Q168.908 1237.5 168.908 1244.63 Q168.908 1251.74 170.714 1255.31 Q172.542 1258.85 176.153 1258.85 Q179.788 1258.85 181.593 1255.31 Q183.422 1251.74 183.422 1244.63 Q183.422 1237.5 181.593 1233.96 Q179.788 1230.4 176.153 1230.4 M176.153 1226.69 Q181.964 1226.69 185.019 1231.3 Q188.098 1235.88 188.098 1244.63 Q188.098 1253.36 185.019 1257.97 Q181.964 1262.55 176.153 1262.55 Q170.343 1262.55 167.265 1257.97 Q164.209 1253.36 164.209 1244.63 Q164.209 1235.88 167.265 1231.3 Q170.343 1226.69 176.153 1226.69 Z\" fill=\"#000000\" fill-rule=\"evenodd\" fill-opacity=\"1\" /><path clip-path=\"url(#clip790)\" d=\"M196.362 1227.32 L214.718 1227.32 L214.718 1231.25 L200.644 1231.25 L200.644 1239.73 Q201.663 1239.38 202.681 1239.22 Q203.7 1239.03 204.718 1239.03 Q210.505 1239.03 213.885 1242.2 Q217.264 1245.37 217.264 1250.79 Q217.264 1256.37 213.792 1259.47 Q210.32 1262.55 204.001 1262.55 Q201.825 1262.55 199.556 1262.18 Q197.311 1261.81 194.903 1261.07 L194.903 1256.37 Q196.987 1257.5 199.209 1258.06 Q201.431 1258.62 203.908 1258.62 Q207.913 1258.62 210.251 1256.51 Q212.588 1254.4 212.588 1250.79 Q212.588 1247.18 210.251 1245.07 Q207.913 1242.97 203.908 1242.97 Q202.033 1242.97 200.158 1243.38 Q198.306 1243.8 196.362 1244.68 L196.362 1227.32 Z\" fill=\"#000000\" fill-rule=\"evenodd\" fill-opacity=\"1\" /><path clip-path=\"url(#clip790)\" d=\"M236.477 1230.4 Q232.866 1230.4 231.037 1233.96 Q229.232 1237.5 229.232 1244.63 Q229.232 1251.74 231.037 1255.31 Q232.866 1258.85 236.477 1258.85 Q240.111 1258.85 241.917 1255.31 Q243.746 1251.74 243.746 1244.63 Q243.746 1237.5 241.917 1233.96 Q240.111 1230.4 236.477 1230.4 M236.477 1226.69 Q242.287 1226.69 245.343 1231.3 Q248.422 1235.88 248.422 1244.63 Q248.422 1253.36 245.343 1257.97 Q242.287 1262.55 236.477 1262.55 Q230.667 1262.55 227.588 1257.97 Q224.533 1253.36 224.533 1244.63 Q224.533 1235.88 227.588 1231.3 Q230.667 1226.69 236.477 1226.69 Z\" fill=\"#000000\" fill-rule=\"evenodd\" fill-opacity=\"1\" /><path clip-path=\"url(#clip790)\" d=\"M51.9875 953.284 L81.6633 953.284 L81.6633 957.219 L51.9875 957.219 L51.9875 953.284 Z\" fill=\"#000000\" fill-rule=\"evenodd\" fill-opacity=\"1\" /><path clip-path=\"url(#clip790)\" d=\"M101.756 938.631 Q98.1447 938.631 96.316 942.196 Q94.5104 945.738 94.5104 952.867 Q94.5104 959.974 96.316 963.538 Q98.1447 967.08 101.756 967.08 Q105.39 967.08 107.196 963.538 Q109.024 959.974 109.024 952.867 Q109.024 945.738 107.196 942.196 Q105.39 938.631 101.756 938.631 M101.756 934.927 Q107.566 934.927 110.621 939.534 Q113.7 944.117 113.7 952.867 Q113.7 961.594 110.621 966.2 Q107.566 970.784 101.756 970.784 Q95.9456 970.784 92.8669 966.2 Q89.8114 961.594 89.8114 952.867 Q89.8114 944.117 92.8669 939.534 Q95.9456 934.927 101.756 934.927 Z\" fill=\"#000000\" fill-rule=\"evenodd\" fill-opacity=\"1\" /><path clip-path=\"url(#clip790)\" d=\"M121.918 964.233 L126.802 964.233 L126.802 970.112 L121.918 970.112 L121.918 964.233 Z\" fill=\"#000000\" fill-rule=\"evenodd\" fill-opacity=\"1\" /><path clip-path=\"url(#clip790)\" d=\"M146.987 938.631 Q143.376 938.631 141.547 942.196 Q139.742 945.738 139.742 952.867 Q139.742 959.974 141.547 963.538 Q143.376 967.08 146.987 967.08 Q150.621 967.08 152.427 963.538 Q154.255 959.974 154.255 952.867 Q154.255 945.738 152.427 942.196 Q150.621 938.631 146.987 938.631 M146.987 934.927 Q152.797 934.927 155.853 939.534 Q158.931 944.117 158.931 952.867 Q158.931 961.594 155.853 966.2 Q152.797 970.784 146.987 970.784 Q141.177 970.784 138.098 966.2 Q135.043 961.594 135.043 952.867 Q135.043 944.117 138.098 939.534 Q141.177 934.927 146.987 934.927 Z\" fill=\"#000000\" fill-rule=\"evenodd\" fill-opacity=\"1\" /><path clip-path=\"url(#clip790)\" d=\"M177.149 938.631 Q173.538 938.631 171.709 942.196 Q169.904 945.738 169.904 952.867 Q169.904 959.974 171.709 963.538 Q173.538 967.08 177.149 967.08 Q180.783 967.08 182.589 963.538 Q184.417 959.974 184.417 952.867 Q184.417 945.738 182.589 942.196 Q180.783 938.631 177.149 938.631 M177.149 934.927 Q182.959 934.927 186.015 939.534 Q189.093 944.117 189.093 952.867 Q189.093 961.594 186.015 966.2 Q182.959 970.784 177.149 970.784 Q171.339 970.784 168.26 966.2 Q165.204 961.594 165.204 952.867 Q165.204 944.117 168.26 939.534 Q171.339 934.927 177.149 934.927 Z\" fill=\"#000000\" fill-rule=\"evenodd\" fill-opacity=\"1\" /><path clip-path=\"url(#clip790)\" d=\"M201.339 966.177 L217.658 966.177 L217.658 970.112 L195.714 970.112 L195.714 966.177 Q198.376 963.423 202.959 958.793 Q207.565 954.14 208.746 952.798 Q210.991 950.275 211.871 948.538 Q212.774 946.779 212.774 945.089 Q212.774 942.335 210.829 940.599 Q208.908 938.863 205.806 938.863 Q203.607 938.863 201.153 939.626 Q198.723 940.39 195.945 941.941 L195.945 937.219 Q198.769 936.085 201.223 935.506 Q203.676 934.927 205.714 934.927 Q211.084 934.927 214.278 937.613 Q217.473 940.298 217.473 944.788 Q217.473 946.918 216.663 948.839 Q215.876 950.738 213.769 953.33 Q213.19 954.001 210.088 957.219 Q206.987 960.413 201.339 966.177 Z\" fill=\"#000000\" fill-rule=\"evenodd\" fill-opacity=\"1\" /><path clip-path=\"url(#clip790)\" d=\"M227.519 935.552 L245.875 935.552 L245.875 939.488 L231.801 939.488 L231.801 947.96 Q232.82 947.613 233.838 947.45 Q234.857 947.265 235.875 947.265 Q241.662 947.265 245.042 950.437 Q248.422 953.608 248.422 959.025 Q248.422 964.603 244.949 967.705 Q241.477 970.784 235.158 970.784 Q232.982 970.784 230.713 970.413 Q228.468 970.043 226.061 969.302 L226.061 964.603 Q228.144 965.737 230.366 966.293 Q232.588 966.849 235.065 966.849 Q239.07 966.849 241.408 964.742 Q243.746 962.636 243.746 959.025 Q243.746 955.413 241.408 953.307 Q239.07 951.2 235.065 951.2 Q233.19 951.2 231.315 951.617 Q229.463 952.034 227.519 952.913 L227.519 935.552 Z\" fill=\"#000000\" fill-rule=\"evenodd\" fill-opacity=\"1\" /><path clip-path=\"url(#clip790)\" d=\"M100.76 646.864 Q97.1493 646.864 95.3206 650.429 Q93.515 653.971 93.515 661.1 Q93.515 668.207 95.3206 671.772 Q97.1493 675.313 100.76 675.313 Q104.395 675.313 106.2 671.772 Q108.029 668.207 108.029 661.1 Q108.029 653.971 106.2 650.429 Q104.395 646.864 100.76 646.864 M100.76 643.161 Q106.571 643.161 109.626 647.767 Q112.705 652.35 112.705 661.1 Q112.705 669.827 109.626 674.434 Q106.571 679.017 100.76 679.017 Q94.9502 679.017 91.8715 674.434 Q88.816 669.827 88.816 661.1 Q88.816 652.35 91.8715 647.767 Q94.9502 643.161 100.76 643.161 Z\" fill=\"#000000\" fill-rule=\"evenodd\" fill-opacity=\"1\" /><path clip-path=\"url(#clip790)\" d=\"M120.922 672.466 L125.807 672.466 L125.807 678.346 L120.922 678.346 L120.922 672.466 Z\" fill=\"#000000\" fill-rule=\"evenodd\" fill-opacity=\"1\" /><path clip-path=\"url(#clip790)\" d=\"M145.992 646.864 Q142.381 646.864 140.552 650.429 Q138.746 653.971 138.746 661.1 Q138.746 668.207 140.552 671.772 Q142.381 675.313 145.992 675.313 Q149.626 675.313 151.431 671.772 Q153.26 668.207 153.26 661.1 Q153.26 653.971 151.431 650.429 Q149.626 646.864 145.992 646.864 M145.992 643.161 Q151.802 643.161 154.857 647.767 Q157.936 652.35 157.936 661.1 Q157.936 669.827 154.857 674.434 Q151.802 679.017 145.992 679.017 Q140.181 679.017 137.103 674.434 Q134.047 669.827 134.047 661.1 Q134.047 652.35 137.103 647.767 Q140.181 643.161 145.992 643.161 Z\" fill=\"#000000\" fill-rule=\"evenodd\" fill-opacity=\"1\" /><path clip-path=\"url(#clip790)\" d=\"M176.153 646.864 Q172.542 646.864 170.714 650.429 Q168.908 653.971 168.908 661.1 Q168.908 668.207 170.714 671.772 Q172.542 675.313 176.153 675.313 Q179.788 675.313 181.593 671.772 Q183.422 668.207 183.422 661.1 Q183.422 653.971 181.593 650.429 Q179.788 646.864 176.153 646.864 M176.153 643.161 Q181.964 643.161 185.019 647.767 Q188.098 652.35 188.098 661.1 Q188.098 669.827 185.019 674.434 Q181.964 679.017 176.153 679.017 Q170.343 679.017 167.265 674.434 Q164.209 669.827 164.209 661.1 Q164.209 652.35 167.265 647.767 Q170.343 643.161 176.153 643.161 Z\" fill=\"#000000\" fill-rule=\"evenodd\" fill-opacity=\"1\" /><path clip-path=\"url(#clip790)\" d=\"M206.315 646.864 Q202.704 646.864 200.876 650.429 Q199.07 653.971 199.07 661.1 Q199.07 668.207 200.876 671.772 Q202.704 675.313 206.315 675.313 Q209.95 675.313 211.755 671.772 Q213.584 668.207 213.584 661.1 Q213.584 653.971 211.755 650.429 Q209.95 646.864 206.315 646.864 M206.315 643.161 Q212.126 643.161 215.181 647.767 Q218.26 652.35 218.26 661.1 Q218.26 669.827 215.181 674.434 Q212.126 679.017 206.315 679.017 Q200.505 679.017 197.427 674.434 Q194.371 669.827 194.371 661.1 Q194.371 652.35 197.427 647.767 Q200.505 643.161 206.315 643.161 Z\" fill=\"#000000\" fill-rule=\"evenodd\" fill-opacity=\"1\" /><path clip-path=\"url(#clip790)\" d=\"M236.477 646.864 Q232.866 646.864 231.037 650.429 Q229.232 653.971 229.232 661.1 Q229.232 668.207 231.037 671.772 Q232.866 675.313 236.477 675.313 Q240.111 675.313 241.917 671.772 Q243.746 668.207 243.746 661.1 Q243.746 653.971 241.917 650.429 Q240.111 646.864 236.477 646.864 M236.477 643.161 Q242.287 643.161 245.343 647.767 Q248.422 652.35 248.422 661.1 Q248.422 669.827 245.343 674.434 Q242.287 679.017 236.477 679.017 Q230.667 679.017 227.588 674.434 Q224.533 669.827 224.533 661.1 Q224.533 652.35 227.588 647.767 Q230.667 643.161 236.477 643.161 Z\" fill=\"#000000\" fill-rule=\"evenodd\" fill-opacity=\"1\" /><path clip-path=\"url(#clip790)\" d=\"M101.756 355.098 Q98.1447 355.098 96.316 358.662 Q94.5104 362.204 94.5104 369.334 Q94.5104 376.44 96.316 380.005 Q98.1447 383.547 101.756 383.547 Q105.39 383.547 107.196 380.005 Q109.024 376.44 109.024 369.334 Q109.024 362.204 107.196 358.662 Q105.39 355.098 101.756 355.098 M101.756 351.394 Q107.566 351.394 110.621 356 Q113.7 360.584 113.7 369.334 Q113.7 378.06 110.621 382.667 Q107.566 387.25 101.756 387.25 Q95.9456 387.25 92.8669 382.667 Q89.8114 378.06 89.8114 369.334 Q89.8114 360.584 92.8669 356 Q95.9456 351.394 101.756 351.394 Z\" fill=\"#000000\" fill-rule=\"evenodd\" fill-opacity=\"1\" /><path clip-path=\"url(#clip790)\" d=\"M121.918 380.699 L126.802 380.699 L126.802 386.579 L121.918 386.579 L121.918 380.699 Z\" fill=\"#000000\" fill-rule=\"evenodd\" fill-opacity=\"1\" /><path clip-path=\"url(#clip790)\" d=\"M146.987 355.098 Q143.376 355.098 141.547 358.662 Q139.742 362.204 139.742 369.334 Q139.742 376.44 141.547 380.005 Q143.376 383.547 146.987 383.547 Q150.621 383.547 152.427 380.005 Q154.255 376.44 154.255 369.334 Q154.255 362.204 152.427 358.662 Q150.621 355.098 146.987 355.098 M146.987 351.394 Q152.797 351.394 155.853 356 Q158.931 360.584 158.931 369.334 Q158.931 378.06 155.853 382.667 Q152.797 387.25 146.987 387.25 Q141.177 387.25 138.098 382.667 Q135.043 378.06 135.043 369.334 Q135.043 360.584 138.098 356 Q141.177 351.394 146.987 351.394 Z\" fill=\"#000000\" fill-rule=\"evenodd\" fill-opacity=\"1\" /><path clip-path=\"url(#clip790)\" d=\"M177.149 355.098 Q173.538 355.098 171.709 358.662 Q169.904 362.204 169.904 369.334 Q169.904 376.44 171.709 380.005 Q173.538 383.547 177.149 383.547 Q180.783 383.547 182.589 380.005 Q184.417 376.44 184.417 369.334 Q184.417 362.204 182.589 358.662 Q180.783 355.098 177.149 355.098 M177.149 351.394 Q182.959 351.394 186.015 356 Q189.093 360.584 189.093 369.334 Q189.093 378.06 186.015 382.667 Q182.959 387.25 177.149 387.25 Q171.339 387.25 168.26 382.667 Q165.204 378.06 165.204 369.334 Q165.204 360.584 168.26 356 Q171.339 351.394 177.149 351.394 Z\" fill=\"#000000\" fill-rule=\"evenodd\" fill-opacity=\"1\" /><path clip-path=\"url(#clip790)\" d=\"M201.339 382.644 L217.658 382.644 L217.658 386.579 L195.714 386.579 L195.714 382.644 Q198.376 379.889 202.959 375.26 Q207.565 370.607 208.746 369.264 Q210.991 366.741 211.871 365.005 Q212.774 363.246 212.774 361.556 Q212.774 358.801 210.829 357.065 Q208.908 355.329 205.806 355.329 Q203.607 355.329 201.153 356.093 Q198.723 356.857 195.945 358.408 L195.945 353.686 Q198.769 352.551 201.223 351.973 Q203.676 351.394 205.714 351.394 Q211.084 351.394 214.278 354.079 Q217.473 356.764 217.473 361.255 Q217.473 363.385 216.663 365.306 Q215.876 367.204 213.769 369.797 Q213.19 370.468 210.088 373.685 Q206.987 376.88 201.339 382.644 Z\" fill=\"#000000\" fill-rule=\"evenodd\" fill-opacity=\"1\" /><path clip-path=\"url(#clip790)\" d=\"M227.519 352.019 L245.875 352.019 L245.875 355.954 L231.801 355.954 L231.801 364.426 Q232.82 364.079 233.838 363.917 Q234.857 363.732 235.875 363.732 Q241.662 363.732 245.042 366.903 Q248.422 370.074 248.422 375.491 Q248.422 381.07 244.949 384.172 Q241.477 387.25 235.158 387.25 Q232.982 387.25 230.713 386.88 Q228.468 386.509 226.061 385.769 L226.061 381.07 Q228.144 382.204 230.366 382.76 Q232.588 383.315 235.065 383.315 Q239.07 383.315 241.408 381.209 Q243.746 379.102 243.746 375.491 Q243.746 371.88 241.408 369.773 Q239.07 367.667 235.065 367.667 Q233.19 367.667 231.315 368.084 Q229.463 368.5 227.519 369.38 L227.519 352.019 Z\" fill=\"#000000\" fill-rule=\"evenodd\" fill-opacity=\"1\" /><path clip-path=\"url(#clip790)\" d=\"M1099.41 12.096 L1107.6 12.096 L1107.6 72.576 L1099.41 72.576 L1099.41 12.096 Z\" fill=\"#000000\" fill-rule=\"evenodd\" fill-opacity=\"1\" /><path clip-path=\"url(#clip790)\" d=\"M1161.27 45.1919 L1161.27 72.576 L1153.82 72.576 L1153.82 45.4349 Q1153.82 38.994 1151.31 35.7938 Q1148.8 32.5936 1143.77 32.5936 Q1137.74 32.5936 1134.25 36.4419 Q1130.77 40.2903 1130.77 46.9338 L1130.77 72.576 L1123.27 72.576 L1123.27 27.2059 L1130.77 27.2059 L1130.77 34.2544 Q1133.44 30.163 1137.05 28.1376 Q1140.69 26.1121 1145.43 26.1121 Q1153.25 26.1121 1157.26 30.9732 Q1161.27 35.7938 1161.27 45.1919 Z\" fill=\"#000000\" fill-rule=\"evenodd\" fill-opacity=\"1\" /><path clip-path=\"url(#clip790)\" d=\"M1176.14 27.2059 L1183.59 27.2059 L1183.59 72.576 L1176.14 72.576 L1176.14 27.2059 M1176.14 9.54393 L1183.59 9.54393 L1183.59 18.9825 L1176.14 18.9825 L1176.14 9.54393 Z\" fill=\"#000000\" fill-rule=\"evenodd\" fill-opacity=\"1\" /><path clip-path=\"url(#clip790)\" d=\"M1206.56 14.324 L1206.56 27.2059 L1221.91 27.2059 L1221.91 32.9987 L1206.56 32.9987 L1206.56 57.6282 Q1206.56 63.1779 1208.06 64.7578 Q1209.6 66.3376 1214.26 66.3376 L1221.91 66.3376 L1221.91 72.576 L1214.26 72.576 Q1205.63 72.576 1202.35 69.3758 Q1199.07 66.1351 1199.07 57.6282 L1199.07 32.9987 L1193.6 32.9987 L1193.6 27.2059 L1199.07 27.2059 L1199.07 14.324 L1206.56 14.324 Z\" fill=\"#000000\" fill-rule=\"evenodd\" fill-opacity=\"1\" /><path clip-path=\"url(#clip790)\" d=\"M1231.72 27.2059 L1239.17 27.2059 L1239.17 72.576 L1231.72 72.576 L1231.72 27.2059 M1231.72 9.54393 L1239.17 9.54393 L1239.17 18.9825 L1231.72 18.9825 L1231.72 9.54393 Z\" fill=\"#000000\" fill-rule=\"evenodd\" fill-opacity=\"1\" /><path clip-path=\"url(#clip790)\" d=\"M1275.39 49.7694 Q1266.35 49.7694 1262.87 51.8354 Q1259.38 53.9013 1259.38 58.8839 Q1259.38 62.8538 1261.98 65.2034 Q1264.61 67.5124 1269.11 67.5124 Q1275.3 67.5124 1279.03 63.1374 Q1282.8 58.7219 1282.8 51.4303 L1282.8 49.7694 L1275.39 49.7694 M1290.25 46.6907 L1290.25 72.576 L1282.8 72.576 L1282.8 65.6895 Q1280.25 69.8214 1276.44 71.8063 Q1272.63 73.7508 1267.12 73.7508 Q1260.15 73.7508 1256.02 69.8619 Q1251.93 65.9325 1251.93 59.3701 Q1251.93 51.7138 1257.04 47.825 Q1262.18 43.9361 1272.35 43.9361 L1282.8 43.9361 L1282.8 43.2069 Q1282.8 38.0623 1279.4 35.2672 Q1276.03 32.4315 1269.92 32.4315 Q1266.03 32.4315 1262.34 33.3632 Q1258.66 34.295 1255.25 36.1584 L1255.25 29.2718 Q1259.34 27.692 1263.19 26.9223 Q1267.04 26.1121 1270.69 26.1121 Q1280.53 26.1121 1285.39 31.2163 Q1290.25 36.3204 1290.25 46.6907 Z\" fill=\"#000000\" fill-rule=\"evenodd\" fill-opacity=\"1\" /><path clip-path=\"url(#clip790)\" d=\"M1305.61 9.54393 L1313.06 9.54393 L1313.06 72.576 L1305.61 72.576 L1305.61 9.54393 Z\" fill=\"#000000\" fill-rule=\"evenodd\" fill-opacity=\"1\" /><path clip-path=\"url(#clip790)\" d=\"M1363.53 18.8205 L1363.53 65.8515 L1373.42 65.8515 Q1385.94 65.8515 1391.73 60.1802 Q1397.56 54.509 1397.56 42.2752 Q1397.56 30.1225 1391.73 24.4918 Q1385.94 18.8205 1373.42 18.8205 L1363.53 18.8205 M1355.35 12.096 L1372.16 12.096 Q1389.74 12.096 1397.97 19.4281 Q1406.19 26.7198 1406.19 42.2752 Q1406.19 57.9117 1397.93 65.2439 Q1389.66 72.576 1372.16 72.576 L1355.35 72.576 L1355.35 12.096 Z\" fill=\"#000000\" fill-rule=\"evenodd\" fill-opacity=\"1\" /><path clip-path=\"url(#clip790)\" d=\"M1439.53 49.7694 Q1430.49 49.7694 1427.01 51.8354 Q1423.53 53.9013 1423.53 58.8839 Q1423.53 62.8538 1426.12 65.2034 Q1428.75 67.5124 1433.25 67.5124 Q1439.45 67.5124 1443.17 63.1374 Q1446.94 58.7219 1446.94 51.4303 L1446.94 49.7694 L1439.53 49.7694 M1454.4 46.6907 L1454.4 72.576 L1446.94 72.576 L1446.94 65.6895 Q1444.39 69.8214 1440.58 71.8063 Q1436.77 73.7508 1431.26 73.7508 Q1424.3 73.7508 1420.17 69.8619 Q1416.07 65.9325 1416.07 59.3701 Q1416.07 51.7138 1421.18 47.825 Q1426.32 43.9361 1436.49 43.9361 L1446.94 43.9361 L1446.94 43.2069 Q1446.94 38.0623 1443.54 35.2672 Q1440.18 32.4315 1434.06 32.4315 Q1430.17 32.4315 1426.48 33.3632 Q1422.8 34.295 1419.4 36.1584 L1419.4 29.2718 Q1423.49 27.692 1427.34 26.9223 Q1431.18 26.1121 1434.83 26.1121 Q1444.67 26.1121 1449.53 31.2163 Q1454.4 36.3204 1454.4 46.6907 Z\" fill=\"#000000\" fill-rule=\"evenodd\" fill-opacity=\"1\" /><path clip-path=\"url(#clip790)\" d=\"M1477.12 14.324 L1477.12 27.2059 L1492.47 27.2059 L1492.47 32.9987 L1477.12 32.9987 L1477.12 57.6282 Q1477.12 63.1779 1478.62 64.7578 Q1480.16 66.3376 1484.82 66.3376 L1492.47 66.3376 L1492.47 72.576 L1484.82 72.576 Q1476.19 72.576 1472.91 69.3758 Q1469.63 66.1351 1469.63 57.6282 L1469.63 32.9987 L1464.16 32.9987 L1464.16 27.2059 L1469.63 27.2059 L1469.63 14.324 L1477.12 14.324 Z\" fill=\"#000000\" fill-rule=\"evenodd\" fill-opacity=\"1\" /><path clip-path=\"url(#clip790)\" d=\"M1522.9 49.7694 Q1513.86 49.7694 1510.38 51.8354 Q1506.9 53.9013 1506.9 58.8839 Q1506.9 62.8538 1509.49 65.2034 Q1512.12 67.5124 1516.62 67.5124 Q1522.82 67.5124 1526.54 63.1374 Q1530.31 58.7219 1530.31 51.4303 L1530.31 49.7694 L1522.9 49.7694 M1537.76 46.6907 L1537.76 72.576 L1530.31 72.576 L1530.31 65.6895 Q1527.76 69.8214 1523.95 71.8063 Q1520.14 73.7508 1514.63 73.7508 Q1507.66 73.7508 1503.53 69.8619 Q1499.44 65.9325 1499.44 59.3701 Q1499.44 51.7138 1504.55 47.825 Q1509.69 43.9361 1519.86 43.9361 L1530.31 43.9361 L1530.31 43.2069 Q1530.31 38.0623 1526.91 35.2672 Q1523.54 32.4315 1517.43 32.4315 Q1513.54 32.4315 1509.85 33.3632 Q1506.17 34.295 1502.76 36.1584 L1502.76 29.2718 Q1506.85 27.692 1510.7 26.9223 Q1514.55 26.1121 1518.2 26.1121 Q1528.04 26.1121 1532.9 31.2163 Q1537.76 36.3204 1537.76 46.6907 Z\" fill=\"#000000\" fill-rule=\"evenodd\" fill-opacity=\"1\" /><polyline clip-path=\"url(#clip792)\" style=\"stroke:#009af9; stroke-linecap:round; stroke-linejoin:round; stroke-width:4; stroke-opacity:1; fill:none\" points=\"342.959,661.066 344.179,661.066 345.398,661.066 346.618,661.066 347.838,661.066 349.057,661.066 350.277,661.066 351.496,661.066 352.716,661.066 353.935,661.066 355.155,661.066 356.374,661.066 357.594,661.066 358.813,661.066 360.033,661.066 361.252,661.066 362.472,661.066 363.692,661.066 364.911,661.066 366.131,661.066 367.35,661.066 368.57,661.066 369.789,661.066 371.009,661.066 372.228,661.066 373.448,661.066 374.667,661.066 375.887,661.066 377.106,661.066 378.326,661.066 379.545,661.066 380.765,661.066 381.985,661.066 383.204,661.066 384.424,661.066 385.643,661.066 386.863,661.066 388.082,661.066 389.302,661.066 390.521,661.066 391.741,661.066 392.96,661.066 394.18,661.066 395.399,661.066 396.619,661.066 397.839,661.066 399.058,661.066 400.278,661.066 401.497,661.066 402.717,661.066 403.936,661.066 405.156,661.066 406.375,661.066 407.595,661.066 408.814,661.066 410.034,661.066 411.253,661.066 412.473,661.066 413.693,661.066 414.912,661.066 416.132,661.066 417.351,661.066 418.571,661.066 419.79,661.066 421.01,661.066 422.229,661.066 423.449,661.066 424.668,661.066 425.888,661.066 427.107,661.066 428.327,661.066 429.546,661.066 430.766,661.066 431.986,661.066 433.205,661.066 434.425,661.066 435.644,661.066 436.864,661.066 438.083,661.066 439.303,661.066 440.522,661.066 441.742,661.066 442.961,661.066 444.181,661.066 445.4,661.066 446.62,661.066 447.84,661.066 449.059,661.066 450.279,661.066 451.498,661.066 452.718,661.066 453.937,661.066 455.157,661.066 456.376,661.066 457.596,661.066 458.815,661.066 460.035,661.066 461.254,661.066 462.474,661.066 463.694,661.066 464.913,661.066 466.133,661.066 467.352,661.066 468.572,661.066 469.791,661.066 471.011,661.066 472.23,661.066 473.45,661.066 474.669,661.066 475.889,661.066 477.108,661.066 478.328,661.066 479.547,661.066 480.767,661.066 481.987,661.066 483.206,661.066 484.426,661.066 485.645,661.066 486.865,661.066 488.084,661.066 489.304,661.066 490.523,661.066 491.743,661.066 492.962,661.066 494.182,661.066 495.401,661.066 496.621,661.066 497.841,661.066 499.06,661.066 500.28,661.066 501.499,661.066 502.719,661.066 503.938,661.066 505.158,661.066 506.377,661.066 507.597,661.066 508.816,661.066 510.036,661.066 511.255,661.066 512.475,661.066 513.695,661.066 514.914,661.066 516.134,661.066 517.353,661.066 518.573,661.066 519.792,661.066 521.012,661.066 522.231,661.066 523.451,661.066 524.67,661.066 525.89,661.066 527.109,661.066 528.329,661.066 529.549,661.066 530.768,661.066 531.988,661.066 533.207,661.066 534.427,661.066 535.646,661.066 536.866,661.066 538.085,661.066 539.305,661.066 540.524,661.066 541.744,661.066 542.963,661.066 544.183,661.066 545.402,661.066 546.622,661.066 547.842,661.066 549.061,661.066 550.281,661.066 551.5,661.066 552.72,661.066 553.939,661.066 555.159,661.066 556.378,661.066 557.598,661.066 558.817,661.066 560.037,661.066 561.256,661.066 562.476,661.066 563.696,661.066 564.915,661.066 566.135,661.066 567.354,661.066 568.574,661.066 569.793,661.066 571.013,661.066 572.232,661.066 573.452,661.066 574.671,661.066 575.891,661.066 577.11,661.066 578.33,661.066 579.55,661.066 580.769,661.066 581.989,661.066 583.208,661.066 584.428,661.066 585.647,661.066 586.867,661.066 588.086,661.066 589.306,661.066 590.525,661.066 591.745,661.066 592.964,661.066 594.184,661.066 595.403,661.066 596.623,661.066 597.843,661.066 599.062,661.066 600.282,661.066 601.501,661.066 602.721,661.066 603.94,661.066 605.16,661.066 606.379,661.066 607.599,661.066 608.818,661.066 610.038,661.066 611.257,661.066 612.477,661.066 613.697,661.066 614.916,661.066 616.136,661.066 617.355,661.066 618.575,661.066 619.794,661.066 621.014,661.066 622.233,661.066 623.453,661.066 624.672,661.066 625.892,661.066 627.111,661.066 628.331,661.066 629.551,661.066 630.77,661.066 631.99,661.066 633.209,661.066 634.429,661.066 635.648,661.066 636.868,661.066 638.087,661.066 639.307,661.066 640.526,661.066 641.746,661.066 642.965,661.066 644.185,661.066 645.404,661.066 646.624,661.066 647.844,661.066 649.063,661.066 650.283,661.066 651.502,661.066 652.722,661.066 653.941,661.066 655.161,661.066 656.38,661.066 657.6,661.066 658.819,661.066 660.039,661.066 661.258,661.066 662.478,661.066 663.698,661.066 664.917,661.066 666.137,661.066 667.356,661.066 668.576,661.066 669.795,661.066 671.015,661.066 672.234,661.066 673.454,661.066 674.673,661.066 675.893,661.066 677.112,661.066 678.332,661.066 679.552,661.066 680.771,661.066 681.991,661.066 683.21,661.066 684.43,661.066 685.649,661.066 686.869,661.066 688.088,661.066 689.308,661.066 690.527,661.066 691.747,661.066 692.966,661.066 694.186,661.066 695.405,661.066 696.625,661.066 697.845,661.066 699.064,661.066 700.284,661.066 701.503,661.066 702.723,661.066 703.942,661.066 705.162,661.066 706.381,661.066 707.601,661.066 708.82,661.066 710.04,661.066 711.259,661.066 712.479,661.066 713.699,661.066 714.918,661.066 716.138,661.066 717.357,661.066 718.577,661.066 719.796,661.066 721.016,661.066 722.235,661.066 723.455,661.066 724.674,661.066 725.894,661.066 727.113,661.066 728.333,661.066 729.553,661.066 730.772,661.066 731.992,661.066 733.211,661.066 734.431,661.066 735.65,661.066 736.87,661.066 738.089,661.066 739.309,661.066 740.528,661.066 741.748,661.066 742.967,661.066 744.187,661.066 745.407,661.066 746.626,661.066 747.846,661.066 749.065,661.066 750.285,661.066 751.504,661.066 752.724,661.066 753.943,661.066 755.163,661.066 756.382,661.066 757.602,661.066 758.821,661.066 760.041,661.066 761.26,661.066 762.48,661.066 763.7,661.066 764.919,661.066 766.139,661.066 767.358,661.066 768.578,661.066 769.797,661.066 771.017,661.066 772.236,661.066 773.456,661.066 774.675,661.066 775.895,661.066 777.114,661.066 778.334,661.066 779.554,661.066 780.773,661.066 781.993,661.066 783.212,661.066 784.432,661.066 785.651,661.066 786.871,661.066 788.09,661.066 789.31,661.066 790.529,661.066 791.749,661.066 792.968,661.066 794.188,661.066 795.408,661.066 796.627,661.066 797.847,661.066 799.066,661.066 800.286,661.066 801.505,661.066 802.725,661.066 803.944,661.066 805.164,661.066 806.383,661.066 807.603,661.066 808.822,661.066 810.042,661.065 811.261,661.065 812.481,661.065 813.701,661.065 814.92,661.065 816.14,661.065 817.359,661.065 818.579,661.065 819.798,661.065 821.018,661.065 822.237,661.065 823.457,661.065 824.676,661.065 825.896,661.065 827.115,661.065 828.335,661.065 829.555,661.065 830.774,661.065 831.994,661.065 833.213,661.065 834.433,661.065 835.652,661.065 836.872,661.065 838.091,661.065 839.311,661.065 840.53,661.065 841.75,661.065 842.969,661.065 844.189,661.065 845.409,661.065 846.628,661.065 847.848,661.065 849.067,661.065 850.287,661.065 851.506,661.065 852.726,661.065 853.945,661.065 855.165,661.065 856.384,661.065 857.604,661.065 858.823,661.065 860.043,661.065 861.262,661.065 862.482,661.065 863.702,661.065 864.921,661.065 866.141,661.065 867.36,661.065 868.58,661.065 869.799,661.065 871.019,661.065 872.238,661.065 873.458,661.065 874.677,661.065 875.897,661.065 877.116,661.065 878.336,661.064 879.556,661.064 880.775,661.064 881.995,661.064 883.214,661.064 884.434,661.064 885.653,661.064 886.873,661.064 888.092,661.064 889.312,661.064 890.531,661.064 891.751,661.064 892.97,661.064 894.19,661.064 895.41,661.064 896.629,661.064 897.849,661.064 899.068,661.064 900.288,661.064 901.507,661.063 902.727,661.063 903.946,661.063 905.166,661.063 906.385,661.063 907.605,661.063 908.824,661.063 910.044,661.063 911.263,661.063 912.483,661.063 913.703,661.063 914.922,661.063 916.142,661.062 917.361,661.062 918.581,661.062 919.8,661.062 921.02,661.062 922.239,661.062 923.459,661.062 924.678,661.062 925.898,661.062 927.117,661.061 928.337,661.061 929.557,661.061 930.776,661.061 931.996,661.061 933.215,661.061 934.435,661.061 935.654,661.06 936.874,661.06 938.093,661.06 939.313,661.06 940.532,661.06 941.752,661.06 942.971,661.06 944.191,661.059 945.411,661.059 946.63,661.059 947.85,661.059 949.069,661.059 950.289,661.058 951.508,661.058 952.728,661.058 953.947,661.058 955.167,661.057 956.386,661.057 957.606,661.057 958.825,661.057 960.045,661.057 961.265,661.056 962.484,661.056 963.704,661.056 964.923,661.055 966.143,661.055 967.362,661.055 968.582,661.055 969.801,661.054 971.021,661.054 972.24,661.054 973.46,661.053 974.679,661.053 975.899,661.053 977.118,661.052 978.338,661.052 979.558,661.052 980.777,661.051 981.997,661.051 983.216,661.05 984.436,661.05 985.655,661.05 986.875,661.049 988.094,661.049 989.314,661.048 990.533,661.048 991.753,661.047 992.972,661.047 994.192,661.047 995.412,661.046 996.631,661.046 997.851,661.045 999.07,661.045 1000.29,661.044 1001.51,661.043 1002.73,661.043 1003.95,661.042 1005.17,661.042 1006.39,661.041 1007.61,661.041 1008.83,661.04 1010.05,661.039 1011.27,661.039 1012.49,661.038 1013.7,661.037 1014.92,661.037 1016.14,661.036 1017.36,661.035 1018.58,661.035 1019.8,661.034 1021.02,661.033 1022.24,661.033 1023.46,661.032 1024.68,661.031 1025.9,661.03 1027.12,661.029 1028.34,661.029 1029.56,661.028 1030.78,661.027 1032,661.026 1033.22,661.025 1034.44,661.024 1035.66,661.023 1036.88,661.023 1038.1,661.022 1039.31,661.021 1040.53,661.02 1041.75,661.019 1042.97,661.018 1044.19,661.017 1045.41,661.016 1046.63,661.015 1047.85,661.014 1049.07,661.013 1050.29,661.012 1051.51,661.011 1052.73,661.009 1053.95,661.008 1055.17,661.007 1056.39,661.006 1057.61,661.005 1058.83,661.004 1060.05,661.003 1061.27,661.001 1062.49,661 1063.71,660.999 1064.93,660.998 1066.14,660.996 1067.36,660.995 1068.58,660.994 1069.8,660.993 1071.02,660.991 1072.24,660.99 1073.46,660.989 1074.68,660.987 1075.9,660.986 1077.12,660.985 1078.34,660.983 1079.56,660.982 1080.78,660.98 1082,660.979 1083.22,660.977 1084.44,660.976 1085.66,660.975 1086.88,660.973 1088.1,660.972 1089.32,660.97 1090.54,660.969 1091.75,660.967 1092.97,660.966 1094.19,660.964 1095.41,660.963 1096.63,660.961 1097.85,660.96 1099.07,660.958 1100.29,660.957 1101.51,660.955 1102.73,660.953 1103.95,660.952 1105.17,660.95 1106.39,660.949 1107.61,660.947 1108.83,660.946 1110.05,660.944 1111.27,660.943 1112.49,660.941 1113.71,660.939 1114.93,660.938 1116.15,660.936 1117.37,660.935 1118.58,660.933 1119.8,660.932 1121.02,660.93 1122.24,660.929 1123.46,660.927 1124.68,660.926 1125.9,660.924 1127.12,660.923 1128.34,660.921 1129.56,660.92 1130.78,660.918 1132,660.917 1133.22,660.915 1134.44,660.914 1135.66,660.912 1136.88,660.911 1138.1,660.909 1139.32,660.908 1140.54,660.907 1141.76,660.905 1142.98,660.904 1144.2,660.903 1145.41,660.901 1146.63,660.9 1147.85,660.899 1149.07,660.898 1150.29,660.896 1151.51,660.895 1152.73,660.894 1153.95,660.893 1155.17,660.892 1156.39,660.891 1157.61,660.89 1158.83,660.889 1160.05,660.888 1161.27,660.887 1162.49,660.886 1163.71,660.885 1164.93,660.884 1166.15,660.883 1167.37,660.882 1168.59,660.881 1169.81,660.88 1171.02,660.88 1172.24,660.879 1173.46,660.878 1174.68,660.877 1175.9,660.877 1177.12,660.876 1178.34,660.875 1179.56,660.875 1180.78,660.874 1182,660.874 1183.22,660.873 1184.44,660.873 1185.66,660.872 1186.88,660.872 1188.1,660.872 1189.32,660.871 1190.54,660.871 1191.76,660.871 1192.98,660.87 1194.2,660.87 1195.42,660.87 1196.64,660.87 1197.85,660.869 1199.07,660.869 1200.29,660.869 1201.51,660.869 1202.73,660.869 1203.95,660.869 1205.17,660.869 1206.39,660.869 1207.61,660.869 1208.83,660.869 1210.05,660.869 1211.27,660.869 1212.49,660.868 1213.71,660.868 1214.93,660.868 1216.15,660.868 1217.37,660.868 1218.59,660.868 1219.81,660.868 1221.03,660.868 1222.25,660.868 1223.46,660.868 1224.68,660.868 1225.9,660.868 1227.12,660.868 1228.34,660.868 1229.56,660.868 1230.78,660.868 1232,660.868 1233.22,660.868 1234.44,660.868 1235.66,660.867 1236.88,660.867 1238.1,660.867 1239.32,660.866 1240.54,660.866 1241.76,660.866 1242.98,660.865 1244.2,660.865 1245.42,660.864 1246.64,660.864 1247.86,660.863 1249.08,660.862 1250.29,660.862 1251.51,660.861 1252.73,660.86 1253.95,660.859 1255.17,660.858 1256.39,660.857 1257.61,660.856 1258.83,660.855 1260.05,660.853 1261.27,660.852 1262.49,660.851 1263.71,660.849 1264.93,660.847 1266.15,660.846 1267.37,660.844 1268.59,660.842 1269.81,660.84 1271.03,660.838 1272.25,660.836 1273.47,660.834 1274.69,660.832 1275.9,660.829 1277.12,660.827 1278.34,660.824 1279.56,660.822 1280.78,660.819 1282,660.816 1283.22,660.813 1284.44,660.81 1285.66,660.807 1286.88,660.804 1288.1,660.8 1289.32,660.797 1290.54,660.793 1291.76,660.79 1292.98,660.786 1294.2,660.782 1295.42,660.778 1296.64,660.774 1297.86,660.77 1299.08,660.766 1300.3,660.762 1301.52,660.758 1302.73,660.753 1303.95,660.749 1305.17,660.744 1306.39,660.739 1307.61,660.734 1308.83,660.73 1310.05,660.725 1311.27,660.72 1312.49,660.715 1313.71,660.71 1314.93,660.704 1316.15,660.699 1317.37,660.694 1318.59,660.688 1319.81,660.683 1321.03,660.678 1322.25,660.672 1323.47,660.666 1324.69,660.661 1325.91,660.655 1327.13,660.649 1328.35,660.644 1329.56,660.638 1330.78,660.632 1332,660.626 1333.22,660.621 1334.44,660.615 1335.66,660.609 1336.88,660.603 1338.1,660.597 1339.32,660.591 1340.54,660.585 1341.76,660.58 1342.98,660.574 1344.2,660.568 1345.42,660.562 1346.64,660.556 1347.86,660.55 1349.08,660.545 1350.3,660.539 1351.52,660.533 1352.74,660.528 1353.96,660.522 1355.17,660.516 1356.39,660.511 1357.61,660.505 1358.83,660.5 1360.05,660.495 1361.27,660.489 1362.49,660.484 1363.71,660.479 1364.93,660.474 1366.15,660.468 1367.37,660.463 1368.59,660.458 1369.81,660.454 1371.03,660.449 1372.25,660.444 1373.47,660.439 1374.69,660.435 1375.91,660.43 1377.13,660.426 1378.35,660.422 1379.57,660.417 1380.79,660.413 1382,660.409 1383.22,660.405 1384.44,660.401 1385.66,660.397 1386.88,660.394 1388.1,660.39 1389.32,660.386 1390.54,660.383 1391.76,660.379 1392.98,660.376 1394.2,660.373 1395.42,660.37 1396.64,660.367 1397.86,660.364 1399.08,660.361 1400.3,660.358 1401.52,660.355 1402.74,660.353 1403.96,660.35 1405.18,660.348 1406.4,660.345 1407.61,660.343 1408.83,660.341 1410.05,660.339 1411.27,660.337 1412.49,660.335 1413.71,660.333 1414.93,660.331 1416.15,660.329 1417.37,660.327 1418.59,660.326 1419.81,660.324 1421.03,660.323 1422.25,660.321 1423.47,660.32 1424.69,660.318 1425.91,660.317 1427.13,660.316 1428.35,660.315 1429.57,660.314 1430.79,660.313 1432.01,660.312 1433.23,660.311 1434.44,660.31 1435.66,660.309 1436.88,660.308 1438.1,660.307 1439.32,660.306 1440.54,660.306 1441.76,660.305 1442.98,660.304 1444.2,660.304 1445.42,660.303 1446.64,660.303 1447.86,660.302 1449.08,660.302 1450.3,660.301 1451.52,660.301 1452.74,660.3 1453.96,660.3 1455.18,660.3 1456.4,660.299 1457.62,660.299 1458.84,660.299 1460.06,660.298 1461.27,660.298 1462.49,660.298 1463.71,660.298 1464.93,660.298 1466.15,660.297 1467.37,660.297 1468.59,660.297 1469.81,660.297 1471.03,660.297 1472.25,660.297 1473.47,660.296 1474.69,660.296 1475.91,660.296 1477.13,660.296 1478.35,660.296 1479.57,660.296 1480.79,660.296 1482.01,660.296 1483.23,660.296 1484.45,660.296 1485.67,660.296 1486.88,660.296 1488.1,660.295 1489.32,660.295 1490.54,660.295 1491.76,660.295 1492.98,660.295 1494.2,660.295 1495.42,660.295 1496.64,660.295 1497.86,660.295 1499.08,660.295 1500.3,660.295 1501.52,660.295 1502.74,660.295 1503.96,660.295 1505.18,660.295 1506.4,660.295 1507.62,660.295 1508.84,660.295 1510.06,660.295 1511.28,660.295 1512.5,660.295 1513.71,660.295 1514.93,660.295 1516.15,660.295 1517.37,660.295 1518.59,660.295 1519.81,660.295 1521.03,660.295 1522.25,660.295 1523.47,660.295 1524.69,660.295 1525.91,660.295 1527.13,660.295 1528.35,660.295 1529.57,660.295 1530.79,660.295 1532.01,660.295 1533.23,660.295 1534.45,660.295 1535.67,660.295 1536.89,660.295 1538.11,660.295 1539.32,660.295 1540.54,660.295 1541.76,660.295 1542.98,660.295 1544.2,660.295 1545.42,660.295 1546.64,660.295 1547.86,660.295 1549.08,660.295 1550.3,660.295 1551.52,660.295 1552.74,660.295 1553.96,660.295 1555.18,660.295 1556.4,660.295 1557.62,660.295 1558.84,660.295 1560.06,660.295 1561.28,660.295 1562.5,660.295 1563.72,660.295 1564.94,660.295 1566.15,660.295 1567.37,660.295 1568.59,660.295 1569.81,660.295 1571.03,660.295 1572.25,660.295 1573.47,660.295 1574.69,660.295 1575.91,660.295 1577.13,660.295 1578.35,660.295 1579.57,660.295 1580.79,660.295 1582.01,660.295 1583.23,660.295 1584.45,660.295 1585.67,660.295 1586.89,660.295 1588.11,660.295 1589.33,660.295 1590.55,660.295 1591.76,660.295 1592.98,660.295 1594.2,660.295 1595.42,660.295 1596.64,660.295 1597.86,660.295 1599.08,660.295 1600.3,660.295 1601.52,660.295 1602.74,660.295 1603.96,660.295 1605.18,660.295 1606.4,660.295 1607.62,660.295 1608.84,660.295 1610.06,660.295 1611.28,660.295 1612.5,660.295 1613.72,660.295 1614.94,660.295 1616.16,660.295 1617.38,660.295 1618.59,660.295 1619.81,660.295 1621.03,660.295 1622.25,660.295 1623.47,660.295 1624.69,660.295 1625.91,660.295 1627.13,660.295 1628.35,660.295 1629.57,660.295 1630.79,660.295 1632.01,660.295 1633.23,660.295 1634.45,660.295 1635.67,660.295 1636.89,660.295 1638.11,660.295 1639.33,660.295 1640.55,660.295 1641.77,660.295 1642.99,660.295 1644.21,660.295 1645.42,660.295 1646.64,660.295 1647.86,660.295 1649.08,660.295 1650.3,660.295 1651.52,660.295 1652.74,660.295 1653.96,660.295 1655.18,660.295 1656.4,660.295 1657.62,660.295 1658.84,660.295 1660.06,660.295 1661.28,660.295 1662.5,660.295 1663.72,660.295 1664.94,660.295 1666.16,660.295 1667.38,660.295 1668.6,660.295 1669.82,660.295 1671.03,660.295 1672.25,660.295 1673.47,660.295 1674.69,660.295 1675.91,660.295 1677.13,660.295 1678.35,660.295 1679.57,660.295 1680.79,660.295 1682.01,660.295 1683.23,660.295 1684.45,660.295 1685.67,660.295 1686.89,660.295 1688.11,660.295 1689.33,660.295 1690.55,660.295 1691.77,660.295 1692.99,660.295 1694.21,660.295 1695.43,660.295 1696.65,660.295 1697.86,660.295 1699.08,660.295 1700.3,660.295 1701.52,660.295 1702.74,660.295 1703.96,660.295 1705.18,660.295 1706.4,660.295 1707.62,660.295 1708.84,660.295 1710.06,660.295 1711.28,660.295 1712.5,660.295 1713.72,660.295 1714.94,660.295 1716.16,660.295 1717.38,660.295 1718.6,660.295 1719.82,660.295 1721.04,660.295 1722.26,660.295 1723.47,660.295 1724.69,660.295 1725.91,660.295 1727.13,660.295 1728.35,660.295 1729.57,660.295 1730.79,660.295 1732.01,660.295 1733.23,660.295 1734.45,660.295 1735.67,660.295 1736.89,660.295 1738.11,660.295 1739.33,660.295 1740.55,660.295 1741.77,660.295 1742.99,660.295 1744.21,660.295 1745.43,660.295 1746.65,660.295 1747.87,660.295 1749.09,660.295 1750.3,660.295 1751.52,660.295 1752.74,660.295 1753.96,660.295 1755.18,660.295 1756.4,660.295 1757.62,660.295 1758.84,660.295 1760.06,660.295 1761.28,660.295 1762.5,660.295 1763.72,660.295 1764.94,660.295 1766.16,660.295 1767.38,660.295 1768.6,660.295 1769.82,660.295 1771.04,660.295 1772.26,660.295 1773.48,660.295 1774.7,660.295 1775.92,660.295 1777.13,660.295 1778.35,660.295 1779.57,660.295 1780.79,660.295 1782.01,660.295 1783.23,660.295 1784.45,660.295 1785.67,660.295 1786.89,660.295 1788.11,660.295 1789.33,660.295 1790.55,660.295 1791.77,660.295 1792.99,660.295 1794.21,660.295 1795.43,660.295 1796.65,660.295 1797.87,660.295 1799.09,660.295 1800.31,660.295 1801.53,660.295 1802.74,660.295 1803.96,660.295 1805.18,660.295 1806.4,660.295 1807.62,660.295 1808.84,660.295 1810.06,660.295 1811.28,660.295 1812.5,660.295 1813.72,660.295 1814.94,660.295 1816.16,660.295 1817.38,660.295 1818.6,660.295 1819.82,660.295 1821.04,660.295 1822.26,660.295 1823.48,660.295 1824.7,660.295 1825.92,660.295 1827.14,660.295 1828.36,660.295 1829.57,660.295 1830.79,660.295 1832.01,660.295 1833.23,660.295 1834.45,660.295 1835.67,660.295 1836.89,660.295 1838.11,660.295 1839.33,660.295 1840.55,660.295 1841.77,660.295 1842.99,660.295 1844.21,660.295 1845.43,660.295 1846.65,660.295 1847.87,660.295 1849.09,660.295 1850.31,660.295 1851.53,660.295 1852.75,660.295 1853.97,660.295 1855.18,660.295 1856.4,660.295 1857.62,660.295 1858.84,660.295 1860.06,660.295 1861.28,660.295 1862.5,660.295 1863.72,660.295 1864.94,660.295 1866.16,660.295 1867.38,660.295 1868.6,660.295 1869.82,660.295 1871.04,660.295 1872.26,660.295 1873.48,660.295 1874.7,660.295 1875.92,660.295 1877.14,660.295 1878.36,660.295 1879.58,660.295 1880.8,660.295 1882.01,660.295 1883.23,660.295 1884.45,660.295 1885.67,660.295 1886.89,660.295 1888.11,660.295 1889.33,660.295 1890.55,660.295 1891.77,660.295 1892.99,660.295 1894.21,660.295 1895.43,660.295 1896.65,660.295 1897.87,660.295 1899.09,660.295 1900.31,660.295 1901.53,660.295 1902.75,660.295 1903.97,660.295 1905.19,660.295 1906.41,660.295 1907.63,660.295 1908.84,660.295 1910.06,660.295 1911.28,660.295 1912.5,660.295 1913.72,660.295 1914.94,660.295 1916.16,660.295 1917.38,660.295 1918.6,660.295 1919.82,660.295 1921.04,660.295 1922.26,660.295 1923.48,660.295 1924.7,660.295 1925.92,660.295 1927.14,660.295 1928.36,660.295 1929.58,660.295 1930.8,660.295 1932.02,660.295 1933.24,660.295 1934.45,660.295 1935.67,660.295 1936.89,660.295 1938.11,660.295 1939.33,660.295 1940.55,660.295 1941.77,660.295 1942.99,660.295 1944.21,660.295 1945.43,660.295 1946.65,660.295 1947.87,660.295 1949.09,660.295 1950.31,660.295 1951.53,660.295 1952.75,660.295 1953.97,660.295 1955.19,660.295 1956.41,660.295 1957.63,660.295 1958.85,660.295 1960.07,660.295 1961.28,660.295 1962.5,660.295 1963.72,660.295 1964.94,660.295 1966.16,660.295 1967.38,660.295 1968.6,660.295 1969.82,660.295 1971.04,660.295 1972.26,660.295 1973.48,660.295 1974.7,660.295 1975.92,660.295 1977.14,660.295 1978.36,660.295 1979.58,660.295 1980.8,660.295 1982.02,660.295 1983.24,660.295 1984.46,660.295 1985.68,660.295 1986.89,660.295 1988.11,660.295 1989.33,660.295 1990.55,660.295 1991.77,660.295 1992.99,660.295 1994.21,660.295 1995.43,660.295 1996.65,660.295 1997.87,660.295 1999.09,660.295 2000.31,660.295 2001.53,660.295 2002.75,660.295 2003.97,660.295 2005.19,660.295 2006.41,660.295 2007.63,660.295 2008.85,660.295 2010.07,660.295 2011.29,660.295 2012.51,660.295 2013.72,660.295 2014.94,660.295 2016.16,660.295 2017.38,660.295 2018.6,660.295 2019.82,660.295 2021.04,660.295 2022.26,660.295 2023.48,660.295 2024.7,660.295 2025.92,660.295 2027.14,660.295 2028.36,660.295 2029.58,660.295 2030.8,660.295 2032.02,660.295 2033.24,660.295 2034.46,660.295 2035.68,660.295 2036.9,660.295 2038.12,660.295 2039.33,660.295 2040.55,660.295 2041.77,660.295 2042.99,660.295 2044.21,660.295 2045.43,660.295 2046.65,660.295 2047.87,660.295 2049.09,660.295 2050.31,660.295 2051.53,660.295 2052.75,660.295 2053.97,660.295 2055.19,660.295 2056.41,660.295 2057.63,660.295 2058.85,660.295 2060.07,660.295 2061.29,660.295 2062.51,660.295 2063.73,660.295 2064.95,660.295 2066.16,660.295 2067.38,660.295 2068.6,660.295 2069.82,660.295 2071.04,660.295 2072.26,660.295 2073.48,660.295 2074.7,660.295 2075.92,660.295 2077.14,660.295 2078.36,660.295 2079.58,660.295 2080.8,660.295 2082.02,660.295 2083.24,660.295 2084.46,660.295 2085.68,660.295 2086.9,660.295 2088.12,660.295 2089.34,660.295 2090.56,660.295 2091.78,660.295 2092.99,660.295 2094.21,660.295 2095.43,660.295 2096.65,660.295 2097.87,660.295 2099.09,660.295 2100.31,660.295 2101.53,660.295 2102.75,660.295 2103.97,660.295 2105.19,660.295 2106.41,660.295 2107.63,660.295 2108.85,660.295 2110.07,660.295 2111.29,660.295 2112.51,660.295 2113.73,660.295 2114.95,660.295 2116.17,660.295 2117.39,660.295 2118.6,660.295 2119.82,660.295 2121.04,660.295 2122.26,660.295 2123.48,660.295 2124.7,660.295 2125.92,660.295 2127.14,660.295 2128.36,660.295 2129.58,660.295 2130.8,660.295 2132.02,660.295 2133.24,660.295 2134.46,660.295 2135.68,660.295 2136.9,660.295 2138.12,660.295 2139.34,660.295 2140.56,660.295 2141.78,660.295 2143,660.295 2144.22,660.295 2145.43,660.295 2146.65,660.295 2147.87,660.295 2149.09,660.295 2150.31,660.295 2151.53,660.295 2152.75,660.295 2153.97,660.295 2155.19,660.295 2156.41,660.295 2157.63,660.295 2158.85,660.295 2160.07,660.295 2161.29,660.295 2162.51,660.295 2163.73,660.295 2164.95,660.295 2166.17,660.295 2167.39,660.295 2168.61,660.295 2169.83,660.295 2171.04,660.295 2172.26,660.295 2173.48,660.295 2174.7,660.295 2175.92,660.295 2177.14,660.295 2178.36,660.295 2179.58,660.295 2180.8,660.295 2182.02,660.295 2183.24,660.295 2184.46,660.295 2185.68,660.295 2186.9,660.295 2188.12,660.295 2189.34,660.295 2190.56,660.295 2191.78,660.295 2193,660.295 2194.22,660.295 2195.44,660.295 2196.66,660.295 2197.87,660.295 2199.09,660.295 2200.31,660.295 2201.53,660.295 2202.75,660.295 2203.97,660.295 2205.19,660.295 2206.41,660.295 2207.63,660.295 2208.85,660.295 2210.07,660.295 2211.29,660.295 2212.51,660.295 2213.73,660.295 2214.95,660.295 2216.17,660.295 2217.39,660.295 2218.61,660.295 2219.83,660.295 2221.05,660.295 2222.27,660.295 2223.49,660.295 2224.7,660.295 2225.92,660.295 2227.14,660.295 2228.36,660.295 2229.58,660.295 2230.8,660.295 2232.02,660.295 2233.24,660.295 2234.46,660.295 2235.68,660.295 2236.9,660.295 2238.12,660.295 2239.34,660.295 2240.56,660.295 2241.78,660.295 2243,660.295 2244.22,660.295 2245.44,660.295 2246.66,660.295 2247.88,660.295 2249.1,660.295 2250.31,660.295 2251.53,660.295 2252.75,660.295 2253.97,660.295 2255.19,660.295 2256.41,660.295 2257.63,660.295 2258.85,660.295 2260.07,660.295 2261.29,660.295 2262.51,660.295 2263.73,660.295 2264.95,660.295 2266.17,660.295 2267.39,660.295 2268.61,660.295 2269.83,660.295 2271.05,660.295 2272.27,660.295 2273.49,660.295 2274.71,660.295 2275.93,660.295 2277.14,660.295 2278.36,660.295 2279.58,660.295 2280.8,660.295 2282.02,660.295 2283.24,660.295 2284.46,660.295 2285.68,660.295 2286.9,660.295 2288.12,660.295 2289.34,660.295 2290.56,660.295 2291.78,660.295 2293,660.295 2294.22,660.295 \"/>\n",
       "<polyline clip-path=\"url(#clip792)\" style=\"stroke:#e26f46; stroke-linecap:round; stroke-linejoin:round; stroke-width:4; stroke-opacity:1; fill:none\" points=\"342.959,661.066 344.179,661.066 345.398,661.066 346.618,661.066 347.838,661.066 349.057,661.066 350.277,661.066 351.496,661.066 352.716,661.066 353.935,661.066 355.155,661.066 356.374,661.066 357.594,661.066 358.813,661.066 360.033,661.066 361.252,661.066 362.472,661.066 363.692,661.066 364.911,661.066 366.131,661.066 367.35,661.066 368.57,661.066 369.789,661.066 371.009,661.066 372.228,661.066 373.448,661.066 374.667,661.066 375.887,661.066 377.106,661.066 378.326,661.066 379.545,661.066 380.765,661.066 381.985,661.066 383.204,661.066 384.424,661.066 385.643,661.066 386.863,661.066 388.082,661.066 389.302,661.066 390.521,661.066 391.741,661.066 392.96,661.066 394.18,661.066 395.399,661.066 396.619,661.066 397.839,661.066 399.058,661.066 400.278,661.066 401.497,661.066 402.717,661.066 403.936,661.066 405.156,661.066 406.375,661.066 407.595,661.066 408.814,661.066 410.034,661.066 411.253,661.066 412.473,661.066 413.693,661.066 414.912,661.066 416.132,661.066 417.351,661.066 418.571,661.066 419.79,661.066 421.01,661.066 422.229,661.066 423.449,661.066 424.668,661.066 425.888,661.066 427.107,661.066 428.327,661.066 429.546,661.066 430.766,661.066 431.986,661.066 433.205,661.066 434.425,661.066 435.644,661.066 436.864,661.066 438.083,661.066 439.303,661.066 440.522,661.066 441.742,661.066 442.961,661.066 444.181,661.066 445.4,661.066 446.62,661.066 447.84,661.066 449.059,661.066 450.279,661.066 451.498,661.066 452.718,661.066 453.937,661.066 455.157,661.066 456.376,661.066 457.596,661.066 458.815,661.066 460.035,661.066 461.254,661.066 462.474,661.066 463.694,661.066 464.913,661.066 466.133,661.066 467.352,661.066 468.572,661.066 469.791,661.066 471.011,661.066 472.23,661.066 473.45,661.066 474.669,661.066 475.889,661.066 477.108,661.066 478.328,661.066 479.547,661.066 480.767,661.066 481.987,661.066 483.206,661.066 484.426,661.066 485.645,661.066 486.865,661.066 488.084,661.066 489.304,661.066 490.523,661.066 491.743,661.066 492.962,661.066 494.182,661.066 495.401,661.066 496.621,661.066 497.841,661.066 499.06,661.066 500.28,661.066 501.499,661.066 502.719,661.066 503.938,661.066 505.158,661.066 506.377,661.066 507.597,661.066 508.816,661.066 510.036,661.066 511.255,661.066 512.475,661.066 513.695,661.066 514.914,661.066 516.134,661.066 517.353,661.066 518.573,661.066 519.792,661.066 521.012,661.066 522.231,661.066 523.451,661.066 524.67,661.066 525.89,661.066 527.109,661.066 528.329,661.066 529.549,661.066 530.768,661.066 531.988,661.066 533.207,661.066 534.427,661.066 535.646,661.066 536.866,661.066 538.085,661.066 539.305,661.066 540.524,661.066 541.744,661.066 542.963,661.066 544.183,661.066 545.402,661.066 546.622,661.066 547.842,661.066 549.061,661.066 550.281,661.066 551.5,661.066 552.72,661.066 553.939,661.066 555.159,661.066 556.378,661.066 557.598,661.066 558.817,661.066 560.037,661.066 561.256,661.066 562.476,661.066 563.696,661.066 564.915,661.066 566.135,661.066 567.354,661.066 568.574,661.066 569.793,661.066 571.013,661.066 572.232,661.066 573.452,661.066 574.671,661.066 575.891,661.066 577.11,661.066 578.33,661.066 579.55,661.066 580.769,661.066 581.989,661.066 583.208,661.066 584.428,661.066 585.647,661.066 586.867,661.066 588.086,661.066 589.306,661.066 590.525,661.066 591.745,661.066 592.964,661.066 594.184,661.066 595.403,661.066 596.623,661.066 597.843,661.066 599.062,661.066 600.282,661.066 601.501,661.066 602.721,661.066 603.94,661.066 605.16,661.066 606.379,661.066 607.599,661.066 608.818,661.066 610.038,661.066 611.257,661.066 612.477,661.066 613.697,661.066 614.916,661.066 616.136,661.066 617.355,661.066 618.575,661.066 619.794,661.066 621.014,661.066 622.233,661.066 623.453,661.066 624.672,661.066 625.892,661.066 627.111,661.066 628.331,661.066 629.551,661.066 630.77,661.066 631.99,661.066 633.209,661.066 634.429,661.066 635.648,661.066 636.868,661.066 638.087,661.066 639.307,661.066 640.526,661.066 641.746,661.066 642.965,661.066 644.185,661.066 645.404,661.066 646.624,661.066 647.844,661.066 649.063,661.066 650.283,661.066 651.502,661.066 652.722,661.066 653.941,661.066 655.161,661.066 656.38,661.066 657.6,661.066 658.819,661.066 660.039,661.066 661.258,661.066 662.478,661.066 663.698,661.066 664.917,661.066 666.137,661.066 667.356,661.066 668.576,661.066 669.795,661.066 671.015,661.066 672.234,661.066 673.454,661.066 674.673,661.066 675.893,661.066 677.112,661.066 678.332,661.066 679.552,661.066 680.771,661.066 681.991,661.066 683.21,661.066 684.43,661.066 685.649,661.066 686.869,661.066 688.088,661.066 689.308,661.066 690.527,661.066 691.747,661.066 692.966,661.066 694.186,661.066 695.405,661.066 696.625,661.066 697.845,661.066 699.064,661.066 700.284,661.066 701.503,661.066 702.723,661.066 703.942,661.066 705.162,661.066 706.381,661.066 707.601,661.066 708.82,661.066 710.04,661.066 711.259,661.066 712.479,661.066 713.699,661.066 714.918,661.066 716.138,661.066 717.357,661.066 718.577,661.066 719.796,661.066 721.016,661.066 722.235,661.066 723.455,661.066 724.674,661.066 725.894,661.066 727.113,661.066 728.333,661.066 729.553,661.066 730.772,661.066 731.992,661.066 733.211,661.066 734.431,661.066 735.65,661.066 736.87,661.066 738.089,661.066 739.309,661.066 740.528,661.066 741.748,661.066 742.967,661.066 744.187,661.066 745.407,661.066 746.626,661.066 747.846,661.066 749.065,661.066 750.285,661.066 751.504,661.066 752.724,661.066 753.943,661.066 755.163,661.066 756.382,661.066 757.602,661.066 758.821,661.066 760.041,661.066 761.26,661.066 762.48,661.066 763.7,661.066 764.919,661.065 766.139,661.065 767.358,661.065 768.578,661.065 769.797,661.065 771.017,661.065 772.236,661.065 773.456,661.065 774.675,661.065 775.895,661.065 777.114,661.065 778.334,661.065 779.554,661.065 780.773,661.065 781.993,661.065 783.212,661.065 784.432,661.065 785.651,661.065 786.871,661.065 788.09,661.065 789.31,661.065 790.529,661.065 791.749,661.065 792.968,661.065 794.188,661.065 795.408,661.065 796.627,661.065 797.847,661.065 799.066,661.065 800.286,661.065 801.505,661.065 802.725,661.065 803.944,661.065 805.164,661.065 806.383,661.065 807.603,661.065 808.822,661.065 810.042,661.065 811.261,661.065 812.481,661.065 813.701,661.065 814.92,661.065 816.14,661.065 817.359,661.065 818.579,661.065 819.798,661.065 821.018,661.065 822.237,661.065 823.457,661.065 824.676,661.065 825.896,661.065 827.115,661.065 828.335,661.065 829.555,661.065 830.774,661.065 831.994,661.065 833.213,661.065 834.433,661.065 835.652,661.064 836.872,661.064 838.091,661.064 839.311,661.064 840.53,661.064 841.75,661.064 842.969,661.064 844.189,661.064 845.409,661.064 846.628,661.064 847.848,661.064 849.067,661.064 850.287,661.064 851.506,661.064 852.726,661.064 853.945,661.064 855.165,661.064 856.384,661.064 857.604,661.064 858.823,661.063 860.043,661.063 861.262,661.063 862.482,661.063 863.702,661.063 864.921,661.063 866.141,661.063 867.36,661.063 868.58,661.063 869.799,661.063 871.019,661.063 872.238,661.063 873.458,661.063 874.677,661.062 875.897,661.062 877.116,661.062 878.336,661.062 879.556,661.062 880.775,661.062 881.995,661.062 883.214,661.062 884.434,661.062 885.653,661.061 886.873,661.061 888.092,661.061 889.312,661.061 890.531,661.061 891.751,661.061 892.97,661.061 894.19,661.061 895.41,661.06 896.629,661.06 897.849,661.06 899.068,661.06 900.288,661.06 901.507,661.06 902.727,661.059 903.946,661.059 905.166,661.059 906.385,661.059 907.605,661.059 908.824,661.058 910.044,661.058 911.263,661.058 912.483,661.058 913.703,661.058 914.922,661.057 916.142,661.057 917.361,661.057 918.581,661.057 919.8,661.056 921.02,661.056 922.239,661.056 923.459,661.056 924.678,661.055 925.898,661.055 927.117,661.055 928.337,661.054 929.557,661.054 930.776,661.054 931.996,661.054 933.215,661.053 934.435,661.053 935.654,661.053 936.874,661.052 938.093,661.052 939.313,661.051 940.532,661.051 941.752,661.051 942.971,661.05 944.191,661.05 945.411,661.049 946.63,661.049 947.85,661.049 949.069,661.048 950.289,661.048 951.508,661.047 952.728,661.047 953.947,661.046 955.167,661.046 956.386,661.045 957.606,661.045 958.825,661.044 960.045,661.044 961.265,661.043 962.484,661.043 963.704,661.042 964.923,661.041 966.143,661.041 967.362,661.04 968.582,661.04 969.801,661.039 971.021,661.038 972.24,661.038 973.46,661.037 974.679,661.036 975.899,661.036 977.118,661.035 978.338,661.034 979.558,661.033 980.777,661.033 981.997,661.032 983.216,661.031 984.436,661.03 985.655,661.029 986.875,661.028 988.094,661.028 989.314,661.027 990.533,661.026 991.753,661.025 992.972,661.024 994.192,661.023 995.412,661.022 996.631,661.021 997.851,661.02 999.07,661.019 1000.29,661.018 1001.51,661.017 1002.73,661.016 1003.95,661.015 1005.17,661.014 1006.39,661.013 1007.61,661.011 1008.83,661.01 1010.05,661.009 1011.27,661.008 1012.49,661.007 1013.7,661.005 1014.92,661.004 1016.14,661.003 1017.36,661.002 1018.58,661 1019.8,660.999 1021.02,660.997 1022.24,660.996 1023.46,660.995 1024.68,660.993 1025.9,660.992 1027.12,660.99 1028.34,660.989 1029.56,660.987 1030.78,660.986 1032,660.984 1033.22,660.983 1034.44,660.981 1035.66,660.979 1036.88,660.978 1038.1,660.976 1039.31,660.974 1040.53,660.973 1041.75,660.971 1042.97,660.969 1044.19,660.967 1045.41,660.966 1046.63,660.964 1047.85,660.962 1049.07,660.96 1050.29,660.958 1051.51,660.956 1052.73,660.954 1053.95,660.952 1055.17,660.95 1056.39,660.948 1057.61,660.946 1058.83,660.944 1060.05,660.942 1061.27,660.94 1062.49,660.938 1063.71,660.936 1064.93,660.934 1066.14,660.932 1067.36,660.93 1068.58,660.928 1069.8,660.925 1071.02,660.923 1072.24,660.921 1073.46,660.919 1074.68,660.916 1075.9,660.914 1077.12,660.912 1078.34,660.91 1079.56,660.907 1080.78,660.905 1082,660.903 1083.22,660.9 1084.44,660.898 1085.66,660.896 1086.88,660.893 1088.1,660.891 1089.32,660.889 1090.54,660.886 1091.75,660.884 1092.97,660.881 1094.19,660.879 1095.41,660.876 1096.63,660.874 1097.85,660.872 1099.07,660.869 1100.29,660.867 1101.51,660.864 1102.73,660.862 1103.95,660.859 1105.17,660.857 1106.39,660.855 1107.61,660.852 1108.83,660.85 1110.05,660.847 1111.27,660.845 1112.49,660.843 1113.71,660.84 1114.93,660.838 1116.15,660.835 1117.37,660.833 1118.58,660.831 1119.8,660.828 1121.02,660.826 1122.24,660.824 1123.46,660.821 1124.68,660.819 1125.9,660.817 1127.12,660.815 1128.34,660.812 1129.56,660.81 1130.78,660.808 1132,660.806 1133.22,660.804 1134.44,660.802 1135.66,660.8 1136.88,660.797 1138.1,660.795 1139.32,660.793 1140.54,660.791 1141.76,660.789 1142.98,660.788 1144.2,660.786 1145.41,660.784 1146.63,660.782 1147.85,660.78 1149.07,660.778 1150.29,660.777 1151.51,660.775 1152.73,660.773 1153.95,660.772 1155.17,660.77 1156.39,660.769 1157.61,660.767 1158.83,660.766 1160.05,660.764 1161.27,660.763 1162.49,660.761 1163.71,660.76 1164.93,660.759 1166.15,660.758 1167.37,660.756 1168.59,660.755 1169.81,660.754 1171.02,660.753 1172.24,660.752 1173.46,660.751 1174.68,660.75 1175.9,660.749 1177.12,660.749 1178.34,660.748 1179.56,660.747 1180.78,660.746 1182,660.745 1183.22,660.745 1184.44,660.744 1185.66,660.744 1186.88,660.743 1188.1,660.743 1189.32,660.742 1190.54,660.742 1191.76,660.741 1192.98,660.741 1194.2,660.741 1195.42,660.74 1196.64,660.74 1197.85,660.74 1199.07,660.74 1200.29,660.739 1201.51,660.739 1202.73,660.739 1203.95,660.739 1205.17,660.739 1206.39,660.739 1207.61,660.739 1208.83,660.739 1210.05,660.739 1211.27,660.739 1212.49,660.739 1213.71,660.739 1214.93,660.739 1216.15,660.739 1217.37,660.739 1218.59,660.739 1219.81,660.739 1221.03,660.739 1222.25,660.739 1223.46,660.739 1224.68,660.738 1225.9,660.738 1227.12,660.738 1228.34,660.738 1229.56,660.738 1230.78,660.738 1232,660.738 1233.22,660.738 1234.44,660.737 1235.66,660.737 1236.88,660.737 1238.1,660.737 1239.32,660.736 1240.54,660.736 1241.76,660.735 1242.98,660.735 1244.2,660.734 1245.42,660.734 1246.64,660.733 1247.86,660.732 1249.08,660.731 1250.29,660.73 1251.51,660.73 1252.73,660.729 1253.95,660.728 1255.17,660.726 1256.39,660.725 1257.61,660.724 1258.83,660.723 1260.05,660.721 1261.27,660.72 1262.49,660.718 1263.71,660.716 1264.93,660.714 1266.15,660.713 1267.37,660.711 1268.59,660.709 1269.81,660.707 1271.03,660.704 1272.25,660.702 1273.47,660.7 1274.69,660.697 1275.9,660.694 1277.12,660.692 1278.34,660.689 1279.56,660.686 1280.78,660.683 1282,660.68 1283.22,660.677 1284.44,660.674 1285.66,660.67 1286.88,660.667 1288.1,660.663 1289.32,660.66 1290.54,660.656 1291.76,660.652 1292.98,660.648 1294.2,660.644 1295.42,660.64 1296.64,660.636 1297.86,660.632 1299.08,660.627 1300.3,660.623 1301.52,660.618 1302.73,660.614 1303.95,660.609 1305.17,660.604 1306.39,660.6 1307.61,660.595 1308.83,660.59 1310.05,660.585 1311.27,660.58 1312.49,660.575 1313.71,660.569 1314.93,660.564 1316.15,660.559 1317.37,660.553 1318.59,660.548 1319.81,660.543 1321.03,660.537 1322.25,660.532 1323.47,660.526 1324.69,660.521 1325.91,660.515 1327.13,660.509 1328.35,660.504 1329.56,660.498 1330.78,660.493 1332,660.487 1333.22,660.481 1334.44,660.476 1335.66,660.47 1336.88,660.464 1338.1,660.459 1339.32,660.453 1340.54,660.447 1341.76,660.442 1342.98,660.436 1344.2,660.431 1345.42,660.425 1346.64,660.42 1347.86,660.414 1349.08,660.409 1350.3,660.403 1351.52,660.398 1352.74,660.393 1353.96,660.388 1355.17,660.382 1356.39,660.377 1357.61,660.372 1358.83,660.367 1360.05,660.362 1361.27,660.357 1362.49,660.352 1363.71,660.348 1364.93,660.343 1366.15,660.338 1367.37,660.334 1368.59,660.329 1369.81,660.325 1371.03,660.321 1372.25,660.316 1373.47,660.312 1374.69,660.308 1375.91,660.304 1377.13,660.3 1378.35,660.296 1379.57,660.293 1380.79,660.289 1382,660.285 1383.22,660.282 1384.44,660.278 1385.66,660.275 1386.88,660.272 1388.1,660.269 1389.32,660.266 1390.54,660.263 1391.76,660.26 1392.98,660.257 1394.2,660.254 1395.42,660.251 1396.64,660.249 1397.86,660.246 1399.08,660.244 1400.3,660.241 1401.52,660.239 1402.74,660.237 1403.96,660.235 1405.18,660.233 1406.4,660.231 1407.61,660.229 1408.83,660.227 1410.05,660.225 1411.27,660.224 1412.49,660.222 1413.71,660.22 1414.93,660.219 1416.15,660.217 1417.37,660.216 1418.59,660.215 1419.81,660.213 1421.03,660.212 1422.25,660.211 1423.47,660.21 1424.69,660.209 1425.91,660.208 1427.13,660.207 1428.35,660.206 1429.57,660.205 1430.79,660.204 1432.01,660.203 1433.23,660.202 1434.44,660.202 1435.66,660.201 1436.88,660.2 1438.1,660.2 1439.32,660.199 1440.54,660.199 1441.76,660.198 1442.98,660.198 1444.2,660.197 1445.42,660.197 1446.64,660.196 1447.86,660.196 1449.08,660.195 1450.3,660.195 1451.52,660.195 1452.74,660.194 1453.96,660.194 1455.18,660.194 1456.4,660.194 1457.62,660.193 1458.84,660.193 1460.06,660.193 1461.27,660.193 1462.49,660.193 1463.71,660.192 1464.93,660.192 1466.15,660.192 1467.37,660.192 1468.59,660.192 1469.81,660.192 1471.03,660.192 1472.25,660.192 1473.47,660.191 1474.69,660.191 1475.91,660.191 1477.13,660.191 1478.35,660.191 1479.57,660.191 1480.79,660.191 1482.01,660.191 1483.23,660.191 1484.45,660.191 1485.67,660.191 1486.88,660.191 1488.1,660.191 1489.32,660.191 1490.54,660.191 1491.76,660.191 1492.98,660.191 1494.2,660.191 1495.42,660.191 1496.64,660.191 1497.86,660.191 1499.08,660.191 1500.3,660.191 1501.52,660.191 1502.74,660.191 1503.96,660.191 1505.18,660.191 1506.4,660.191 1507.62,660.191 1508.84,660.191 1510.06,660.191 1511.28,660.191 1512.5,660.191 1513.71,660.191 1514.93,660.191 1516.15,660.191 1517.37,660.191 1518.59,660.191 1519.81,660.191 1521.03,660.191 1522.25,660.191 1523.47,660.191 1524.69,660.191 1525.91,660.19 1527.13,660.19 1528.35,660.19 1529.57,660.19 1530.79,660.19 1532.01,660.19 1533.23,660.19 1534.45,660.19 1535.67,660.19 1536.89,660.19 1538.11,660.19 1539.32,660.19 1540.54,660.19 1541.76,660.19 1542.98,660.19 1544.2,660.19 1545.42,660.19 1546.64,660.19 1547.86,660.19 1549.08,660.19 1550.3,660.19 1551.52,660.19 1552.74,660.19 1553.96,660.19 1555.18,660.19 1556.4,660.19 1557.62,660.19 1558.84,660.19 1560.06,660.19 1561.28,660.19 1562.5,660.19 1563.72,660.19 1564.94,660.19 1566.15,660.19 1567.37,660.19 1568.59,660.19 1569.81,660.19 1571.03,660.19 1572.25,660.19 1573.47,660.19 1574.69,660.19 1575.91,660.19 1577.13,660.19 1578.35,660.19 1579.57,660.19 1580.79,660.19 1582.01,660.19 1583.23,660.19 1584.45,660.19 1585.67,660.19 1586.89,660.19 1588.11,660.19 1589.33,660.19 1590.55,660.19 1591.76,660.19 1592.98,660.19 1594.2,660.19 1595.42,660.19 1596.64,660.19 1597.86,660.19 1599.08,660.19 1600.3,660.19 1601.52,660.19 1602.74,660.19 1603.96,660.19 1605.18,660.19 1606.4,660.19 1607.62,660.19 1608.84,660.19 1610.06,660.19 1611.28,660.19 1612.5,660.19 1613.72,660.19 1614.94,660.19 1616.16,660.19 1617.38,660.19 1618.59,660.19 1619.81,660.19 1621.03,660.19 1622.25,660.19 1623.47,660.19 1624.69,660.19 1625.91,660.19 1627.13,660.19 1628.35,660.19 1629.57,660.19 1630.79,660.19 1632.01,660.19 1633.23,660.19 1634.45,660.19 1635.67,660.19 1636.89,660.19 1638.11,660.19 1639.33,660.19 1640.55,660.19 1641.77,660.19 1642.99,660.19 1644.21,660.19 1645.42,660.19 1646.64,660.19 1647.86,660.19 1649.08,660.19 1650.3,660.19 1651.52,660.19 1652.74,660.19 1653.96,660.19 1655.18,660.19 1656.4,660.19 1657.62,660.19 1658.84,660.19 1660.06,660.19 1661.28,660.19 1662.5,660.19 1663.72,660.19 1664.94,660.19 1666.16,660.19 1667.38,660.19 1668.6,660.19 1669.82,660.19 1671.03,660.19 1672.25,660.19 1673.47,660.19 1674.69,660.19 1675.91,660.19 1677.13,660.19 1678.35,660.19 1679.57,660.19 1680.79,660.19 1682.01,660.19 1683.23,660.19 1684.45,660.19 1685.67,660.19 1686.89,660.19 1688.11,660.19 1689.33,660.19 1690.55,660.19 1691.77,660.19 1692.99,660.19 1694.21,660.19 1695.43,660.19 1696.65,660.19 1697.86,660.19 1699.08,660.19 1700.3,660.19 1701.52,660.19 1702.74,660.19 1703.96,660.19 1705.18,660.19 1706.4,660.19 1707.62,660.19 1708.84,660.19 1710.06,660.19 1711.28,660.19 1712.5,660.19 1713.72,660.19 1714.94,660.19 1716.16,660.19 1717.38,660.19 1718.6,660.19 1719.82,660.19 1721.04,660.19 1722.26,660.19 1723.47,660.19 1724.69,660.19 1725.91,660.19 1727.13,660.19 1728.35,660.19 1729.57,660.19 1730.79,660.19 1732.01,660.19 1733.23,660.19 1734.45,660.19 1735.67,660.19 1736.89,660.19 1738.11,660.19 1739.33,660.19 1740.55,660.19 1741.77,660.19 1742.99,660.19 1744.21,660.19 1745.43,660.19 1746.65,660.19 1747.87,660.19 1749.09,660.19 1750.3,660.19 1751.52,660.19 1752.74,660.19 1753.96,660.19 1755.18,660.19 1756.4,660.19 1757.62,660.19 1758.84,660.19 1760.06,660.19 1761.28,660.19 1762.5,660.19 1763.72,660.19 1764.94,660.19 1766.16,660.19 1767.38,660.19 1768.6,660.19 1769.82,660.19 1771.04,660.19 1772.26,660.19 1773.48,660.19 1774.7,660.19 1775.92,660.19 1777.13,660.19 1778.35,660.19 1779.57,660.19 1780.79,660.19 1782.01,660.19 1783.23,660.19 1784.45,660.19 1785.67,660.19 1786.89,660.19 1788.11,660.19 1789.33,660.19 1790.55,660.19 1791.77,660.19 1792.99,660.19 1794.21,660.19 1795.43,660.19 1796.65,660.19 1797.87,660.19 1799.09,660.19 1800.31,660.19 1801.53,660.19 1802.74,660.19 1803.96,660.19 1805.18,660.19 1806.4,660.19 1807.62,660.19 1808.84,660.19 1810.06,660.19 1811.28,660.19 1812.5,660.19 1813.72,660.19 1814.94,660.19 1816.16,660.19 1817.38,660.19 1818.6,660.19 1819.82,660.19 1821.04,660.19 1822.26,660.19 1823.48,660.19 1824.7,660.19 1825.92,660.19 1827.14,660.19 1828.36,660.19 1829.57,660.19 1830.79,660.19 1832.01,660.19 1833.23,660.19 1834.45,660.19 1835.67,660.19 1836.89,660.19 1838.11,660.19 1839.33,660.19 1840.55,660.19 1841.77,660.19 1842.99,660.19 1844.21,660.19 1845.43,660.19 1846.65,660.19 1847.87,660.19 1849.09,660.19 1850.31,660.19 1851.53,660.19 1852.75,660.19 1853.97,660.19 1855.18,660.19 1856.4,660.19 1857.62,660.19 1858.84,660.19 1860.06,660.19 1861.28,660.19 1862.5,660.19 1863.72,660.19 1864.94,660.19 1866.16,660.19 1867.38,660.19 1868.6,660.19 1869.82,660.19 1871.04,660.19 1872.26,660.19 1873.48,660.19 1874.7,660.19 1875.92,660.19 1877.14,660.19 1878.36,660.19 1879.58,660.19 1880.8,660.19 1882.01,660.19 1883.23,660.19 1884.45,660.19 1885.67,660.19 1886.89,660.19 1888.11,660.19 1889.33,660.19 1890.55,660.19 1891.77,660.19 1892.99,660.19 1894.21,660.19 1895.43,660.19 1896.65,660.19 1897.87,660.19 1899.09,660.19 1900.31,660.19 1901.53,660.19 1902.75,660.19 1903.97,660.19 1905.19,660.19 1906.41,660.19 1907.63,660.19 1908.84,660.19 1910.06,660.19 1911.28,660.19 1912.5,660.19 1913.72,660.19 1914.94,660.19 1916.16,660.19 1917.38,660.19 1918.6,660.19 1919.82,660.19 1921.04,660.19 1922.26,660.19 1923.48,660.19 1924.7,660.19 1925.92,660.19 1927.14,660.19 1928.36,660.19 1929.58,660.19 1930.8,660.19 1932.02,660.19 1933.24,660.19 1934.45,660.19 1935.67,660.19 1936.89,660.19 1938.11,660.19 1939.33,660.19 1940.55,660.19 1941.77,660.19 1942.99,660.19 1944.21,660.19 1945.43,660.19 1946.65,660.19 1947.87,660.19 1949.09,660.19 1950.31,660.19 1951.53,660.19 1952.75,660.19 1953.97,660.19 1955.19,660.19 1956.41,660.19 1957.63,660.19 1958.85,660.19 1960.07,660.19 1961.28,660.19 1962.5,660.19 1963.72,660.19 1964.94,660.19 1966.16,660.19 1967.38,660.19 1968.6,660.19 1969.82,660.19 1971.04,660.19 1972.26,660.19 1973.48,660.19 1974.7,660.19 1975.92,660.19 1977.14,660.19 1978.36,660.19 1979.58,660.19 1980.8,660.19 1982.02,660.19 1983.24,660.19 1984.46,660.19 1985.68,660.19 1986.89,660.19 1988.11,660.19 1989.33,660.19 1990.55,660.19 1991.77,660.19 1992.99,660.19 1994.21,660.19 1995.43,660.19 1996.65,660.19 1997.87,660.19 1999.09,660.19 2000.31,660.19 2001.53,660.19 2002.75,660.19 2003.97,660.19 2005.19,660.19 2006.41,660.19 2007.63,660.19 2008.85,660.19 2010.07,660.19 2011.29,660.19 2012.51,660.19 2013.72,660.19 2014.94,660.19 2016.16,660.19 2017.38,660.19 2018.6,660.19 2019.82,660.19 2021.04,660.19 2022.26,660.19 2023.48,660.19 2024.7,660.19 2025.92,660.19 2027.14,660.19 2028.36,660.19 2029.58,660.19 2030.8,660.19 2032.02,660.19 2033.24,660.19 2034.46,660.19 2035.68,660.19 2036.9,660.19 2038.12,660.19 2039.33,660.19 2040.55,660.19 2041.77,660.19 2042.99,660.19 2044.21,660.19 2045.43,660.19 2046.65,660.19 2047.87,660.19 2049.09,660.19 2050.31,660.19 2051.53,660.19 2052.75,660.19 2053.97,660.19 2055.19,660.19 2056.41,660.19 2057.63,660.19 2058.85,660.19 2060.07,660.19 2061.29,660.19 2062.51,660.19 2063.73,660.19 2064.95,660.19 2066.16,660.19 2067.38,660.19 2068.6,660.19 2069.82,660.19 2071.04,660.19 2072.26,660.19 2073.48,660.19 2074.7,660.19 2075.92,660.19 2077.14,660.19 2078.36,660.19 2079.58,660.19 2080.8,660.19 2082.02,660.19 2083.24,660.19 2084.46,660.19 2085.68,660.19 2086.9,660.19 2088.12,660.19 2089.34,660.19 2090.56,660.19 2091.78,660.19 2092.99,660.19 2094.21,660.19 2095.43,660.19 2096.65,660.19 2097.87,660.19 2099.09,660.19 2100.31,660.19 2101.53,660.19 2102.75,660.19 2103.97,660.19 2105.19,660.19 2106.41,660.19 2107.63,660.19 2108.85,660.19 2110.07,660.19 2111.29,660.19 2112.51,660.19 2113.73,660.19 2114.95,660.19 2116.17,660.19 2117.39,660.19 2118.6,660.19 2119.82,660.19 2121.04,660.19 2122.26,660.19 2123.48,660.19 2124.7,660.19 2125.92,660.19 2127.14,660.19 2128.36,660.19 2129.58,660.19 2130.8,660.19 2132.02,660.19 2133.24,660.19 2134.46,660.19 2135.68,660.19 2136.9,660.19 2138.12,660.19 2139.34,660.19 2140.56,660.19 2141.78,660.19 2143,660.19 2144.22,660.19 2145.43,660.19 2146.65,660.19 2147.87,660.19 2149.09,660.19 2150.31,660.19 2151.53,660.19 2152.75,660.19 2153.97,660.19 2155.19,660.19 2156.41,660.19 2157.63,660.19 2158.85,660.19 2160.07,660.19 2161.29,660.19 2162.51,660.19 2163.73,660.19 2164.95,660.19 2166.17,660.19 2167.39,660.19 2168.61,660.19 2169.83,660.19 2171.04,660.19 2172.26,660.19 2173.48,660.19 2174.7,660.19 2175.92,660.19 2177.14,660.19 2178.36,660.19 2179.58,660.19 2180.8,660.19 2182.02,660.19 2183.24,660.19 2184.46,660.19 2185.68,660.19 2186.9,660.19 2188.12,660.19 2189.34,660.19 2190.56,660.19 2191.78,660.19 2193,660.19 2194.22,660.19 2195.44,660.19 2196.66,660.19 2197.87,660.19 2199.09,660.19 2200.31,660.19 2201.53,660.19 2202.75,660.19 2203.97,660.19 2205.19,660.19 2206.41,660.19 2207.63,660.19 2208.85,660.19 2210.07,660.19 2211.29,660.19 2212.51,660.19 2213.73,660.19 2214.95,660.19 2216.17,660.19 2217.39,660.19 2218.61,660.19 2219.83,660.19 2221.05,660.19 2222.27,660.19 2223.49,660.19 2224.7,660.19 2225.92,660.19 2227.14,660.19 2228.36,660.19 2229.58,660.19 2230.8,660.19 2232.02,660.19 2233.24,660.19 2234.46,660.19 2235.68,660.19 2236.9,660.19 2238.12,660.19 2239.34,660.19 2240.56,660.19 2241.78,660.19 2243,660.19 2244.22,660.19 2245.44,660.19 2246.66,660.19 2247.88,660.19 2249.1,660.19 2250.31,660.19 2251.53,660.19 2252.75,660.19 2253.97,660.19 2255.19,660.19 2256.41,660.19 2257.63,660.19 2258.85,660.19 2260.07,660.19 2261.29,660.19 2262.51,660.19 2263.73,660.19 2264.95,660.19 2266.17,660.19 2267.39,660.19 2268.61,660.19 2269.83,660.19 2271.05,660.19 2272.27,660.19 2273.49,660.19 2274.71,660.19 2275.93,660.19 2277.14,660.19 2278.36,660.19 2279.58,660.19 2280.8,660.19 2282.02,660.19 2283.24,660.19 2284.46,660.19 2285.68,660.19 2286.9,660.19 2288.12,660.19 2289.34,660.19 2290.56,660.19 2291.78,660.19 2293,660.19 2294.22,660.19 \"/>\n",
       "<polyline clip-path=\"url(#clip792)\" style=\"stroke:#3da44d; stroke-linecap:round; stroke-linejoin:round; stroke-width:4; stroke-opacity:1; fill:none\" points=\"342.959,661.066 344.179,661.066 345.398,661.066 346.618,661.066 347.838,661.066 349.057,661.066 350.277,661.066 351.496,661.066 352.716,661.066 353.935,661.066 355.155,661.066 356.374,661.066 357.594,661.066 358.813,661.066 360.033,661.066 361.252,661.066 362.472,661.066 363.692,661.066 364.911,661.066 366.131,661.066 367.35,661.066 368.57,661.066 369.789,661.066 371.009,661.066 372.228,661.066 373.448,661.066 374.667,661.066 375.887,661.066 377.106,661.066 378.326,661.066 379.545,661.066 380.765,661.066 381.985,661.066 383.204,661.066 384.424,661.066 385.643,661.066 386.863,661.066 388.082,661.066 389.302,661.066 390.521,661.066 391.741,661.066 392.96,661.066 394.18,661.066 395.399,661.066 396.619,661.066 397.839,661.066 399.058,661.066 400.278,661.066 401.497,661.066 402.717,661.066 403.936,661.066 405.156,661.066 406.375,661.066 407.595,661.066 408.814,661.066 410.034,661.066 411.253,661.066 412.473,661.066 413.693,661.066 414.912,661.066 416.132,661.066 417.351,661.066 418.571,661.066 419.79,661.066 421.01,661.066 422.229,661.066 423.449,661.066 424.668,661.066 425.888,661.066 427.107,661.066 428.327,661.066 429.546,661.066 430.766,661.066 431.986,661.066 433.205,661.066 434.425,661.066 435.644,661.066 436.864,661.066 438.083,661.066 439.303,661.066 440.522,661.066 441.742,661.066 442.961,661.065 444.181,661.065 445.4,661.065 446.62,661.065 447.84,661.065 449.059,661.065 450.279,661.065 451.498,661.065 452.718,661.065 453.937,661.065 455.157,661.065 456.376,661.065 457.596,661.065 458.815,661.065 460.035,661.065 461.254,661.065 462.474,661.065 463.694,661.065 464.913,661.065 466.133,661.065 467.352,661.065 468.572,661.065 469.791,661.065 471.011,661.065 472.23,661.065 473.45,661.065 474.669,661.065 475.889,661.065 477.108,661.065 478.328,661.065 479.547,661.065 480.767,661.065 481.987,661.065 483.206,661.065 484.426,661.065 485.645,661.065 486.865,661.065 488.084,661.065 489.304,661.065 490.523,661.065 491.743,661.065 492.962,661.065 494.182,661.065 495.401,661.065 496.621,661.065 497.841,661.065 499.06,661.064 500.28,661.064 501.499,661.064 502.719,661.064 503.938,661.064 505.158,661.064 506.377,661.064 507.597,661.064 508.816,661.064 510.036,661.064 511.255,661.064 512.475,661.064 513.695,661.064 514.914,661.064 516.134,661.064 517.353,661.064 518.573,661.064 519.792,661.064 521.012,661.063 522.231,661.063 523.451,661.063 524.67,661.063 525.89,661.063 527.109,661.063 528.329,661.063 529.549,661.063 530.768,661.063 531.988,661.063 533.207,661.063 534.427,661.063 535.646,661.062 536.866,661.062 538.085,661.062 539.305,661.062 540.524,661.062 541.744,661.062 542.963,661.062 544.183,661.062 545.402,661.062 546.622,661.061 547.842,661.061 549.061,661.061 550.281,661.061 551.5,661.061 552.72,661.061 553.939,661.061 555.159,661.06 556.378,661.06 557.598,661.06 558.817,661.06 560.037,661.06 561.256,661.06 562.476,661.06 563.696,661.059 564.915,661.059 566.135,661.059 567.354,661.059 568.574,661.059 569.793,661.058 571.013,661.058 572.232,661.058 573.452,661.058 574.671,661.057 575.891,661.057 577.11,661.057 578.33,661.057 579.55,661.057 580.769,661.056 581.989,661.056 583.208,661.056 584.428,661.055 585.647,661.055 586.867,661.055 588.086,661.055 589.306,661.054 590.525,661.054 591.745,661.054 592.964,661.053 594.184,661.053 595.403,661.053 596.623,661.052 597.843,661.052 599.062,661.052 600.282,661.051 601.501,661.051 602.721,661.05 603.94,661.05 605.16,661.05 606.379,661.049 607.599,661.049 608.818,661.048 610.038,661.048 611.257,661.047 612.477,661.047 613.697,661.046 614.916,661.046 616.136,661.045 617.355,661.045 618.575,661.044 619.794,661.044 621.014,661.043 622.233,661.043 623.453,661.042 624.672,661.041 625.892,661.041 627.111,661.04 628.331,661.039 629.551,661.039 630.77,661.038 631.99,661.037 633.209,661.037 634.429,661.036 635.648,661.035 636.868,661.034 638.087,661.034 639.307,661.033 640.526,661.032 641.746,661.031 642.965,661.03 644.185,661.029 645.404,661.029 646.624,661.028 647.844,661.027 649.063,661.026 650.283,661.025 651.502,661.024 652.722,661.023 653.941,661.022 655.161,661.021 656.38,661.02 657.6,661.018 658.819,661.017 660.039,661.016 661.258,661.015 662.478,661.014 663.698,661.012 664.917,661.011 666.137,661.01 667.356,661.009 668.576,661.007 669.795,661.006 671.015,661.004 672.234,661.003 673.454,661.001 674.673,661 675.893,660.998 677.112,660.997 678.332,660.995 679.552,660.994 680.771,660.992 681.991,660.99 683.21,660.988 684.43,660.987 685.649,660.985 686.869,660.983 688.088,660.981 689.308,660.979 690.527,660.977 691.747,660.975 692.966,660.973 694.186,660.971 695.405,660.969 696.625,660.966 697.845,660.964 699.064,660.962 700.284,660.959 701.503,660.957 702.723,660.955 703.942,660.952 705.162,660.949 706.381,660.947 707.601,660.944 708.82,660.941 710.04,660.939 711.259,660.936 712.479,660.933 713.699,660.93 714.918,660.927 716.138,660.924 717.357,660.921 718.577,660.918 719.796,660.914 721.016,660.911 722.235,660.907 723.455,660.904 724.674,660.9 725.894,660.897 727.113,660.893 728.333,660.889 729.553,660.885 730.772,660.882 731.992,660.878 733.211,660.873 734.431,660.869 735.65,660.865 736.87,660.861 738.089,660.856 739.309,660.852 740.528,660.847 741.748,660.842 742.967,660.838 744.187,660.833 745.407,660.828 746.626,660.823 747.846,660.818 749.065,660.812 750.285,660.807 751.504,660.801 752.724,660.796 753.943,660.79 755.163,660.784 756.382,660.778 757.602,660.772 758.821,660.766 760.041,660.76 761.26,660.753 762.48,660.747 763.7,660.74 764.919,660.733 766.139,660.726 767.358,660.719 768.578,660.712 769.797,660.705 771.017,660.697 772.236,660.69 773.456,660.682 774.675,660.674 775.895,660.666 777.114,660.658 778.334,660.649 779.554,660.641 780.773,660.632 781.993,660.623 783.212,660.614 784.432,660.605 785.651,660.596 786.871,660.586 788.09,660.576 789.31,660.566 790.529,660.556 791.749,660.546 792.968,660.536 794.188,660.525 795.408,660.514 796.627,660.503 797.847,660.492 799.066,660.48 800.286,660.468 801.505,660.456 802.725,660.444 803.944,660.432 805.164,660.419 806.383,660.407 807.603,660.394 808.822,660.38 810.042,660.367 811.261,660.353 812.481,660.339 813.701,660.325 814.92,660.31 816.14,660.295 817.359,660.28 818.579,660.265 819.798,660.249 821.018,660.233 822.237,660.217 823.457,660.201 824.676,660.184 825.896,660.167 827.115,660.149 828.335,660.132 829.555,660.114 830.774,660.095 831.994,660.077 833.213,660.058 834.433,660.038 835.652,660.019 836.872,659.999 838.091,659.978 839.311,659.958 840.53,659.936 841.75,659.915 842.969,659.893 844.189,659.871 845.409,659.848 846.628,659.826 847.848,659.802 849.067,659.778 850.287,659.754 851.506,659.73 852.726,659.705 853.945,659.679 855.165,659.653 856.384,659.627 857.604,659.6 858.823,659.573 860.043,659.545 861.262,659.517 862.482,659.489 863.702,659.46 864.921,659.43 866.141,659.4 867.36,659.369 868.58,659.338 869.799,659.307 871.019,659.274 872.238,659.242 873.458,659.209 874.677,659.175 875.897,659.141 877.116,659.106 878.336,659.07 879.556,659.034 880.775,658.998 881.995,658.96 883.214,658.923 884.434,658.884 885.653,658.845 886.873,658.805 888.092,658.765 889.312,658.724 890.531,658.682 891.751,658.64 892.97,658.597 894.19,658.554 895.41,658.509 896.629,658.464 897.849,658.418 899.068,658.372 900.288,658.325 901.507,658.277 902.727,658.228 903.946,658.179 905.166,658.128 906.385,658.077 907.605,658.026 908.824,657.973 910.044,657.92 911.263,657.865 912.483,657.81 913.703,657.754 914.922,657.698 916.142,657.64 917.361,657.581 918.581,657.522 919.8,657.462 921.02,657.401 922.239,657.338 923.459,657.275 924.678,657.211 925.898,657.147 927.117,657.081 928.337,657.014 929.557,656.946 930.776,656.877 931.996,656.807 933.215,656.736 934.435,656.664 935.654,656.592 936.874,656.518 938.093,656.442 939.313,656.366 940.532,656.289 941.752,656.211 942.971,656.131 944.191,656.051 945.411,655.969 946.63,655.886 947.85,655.802 949.069,655.717 950.289,655.63 951.508,655.543 952.728,655.454 953.947,655.364 955.167,655.273 956.386,655.18 957.606,655.086 958.825,654.991 960.045,654.895 961.265,654.797 962.484,654.698 963.704,654.598 964.923,654.496 966.143,654.393 967.362,654.288 968.582,654.183 969.801,654.075 971.021,653.967 972.24,653.857 973.46,653.745 974.679,653.633 975.899,653.518 977.118,653.402 978.338,653.285 979.558,653.166 980.777,653.046 981.997,652.924 983.216,652.801 984.436,652.676 985.655,652.55 986.875,652.422 988.094,652.292 989.314,652.161 990.533,652.028 991.753,651.894 992.972,651.758 994.192,651.62 995.412,651.481 996.631,651.34 997.851,651.197 999.07,651.053 1000.29,650.907 1001.51,650.759 1002.73,650.61 1003.95,650.458 1005.17,650.305 1006.39,650.151 1007.61,649.994 1008.83,649.836 1010.05,649.676 1011.27,649.515 1012.49,649.351 1013.7,649.186 1014.92,649.018 1016.14,648.85 1017.36,648.679 1018.58,648.506 1019.8,648.332 1021.02,648.155 1022.24,647.977 1023.46,647.797 1024.68,647.615 1025.9,647.431 1027.12,647.245 1028.34,647.058 1029.56,646.868 1030.78,646.677 1032,646.484 1033.22,646.288 1034.44,646.091 1035.66,645.892 1036.88,645.691 1038.1,645.488 1039.31,645.283 1040.53,645.076 1041.75,644.868 1042.97,644.657 1044.19,644.445 1045.41,644.23 1046.63,644.013 1047.85,643.795 1049.07,643.575 1050.29,643.352 1051.51,643.128 1052.73,642.902 1053.95,642.674 1055.17,642.444 1056.39,642.212 1057.61,641.978 1058.83,641.743 1060.05,641.505 1061.27,641.265 1062.49,641.024 1063.71,640.781 1064.93,640.536 1066.14,640.289 1067.36,640.04 1068.58,639.789 1069.8,639.536 1071.02,639.282 1072.24,639.026 1073.46,638.768 1074.68,638.508 1075.9,638.246 1077.12,637.983 1078.34,637.718 1079.56,637.451 1080.78,637.183 1082,636.913 1083.22,636.641 1084.44,636.367 1085.66,636.092 1086.88,635.816 1088.1,635.537 1089.32,635.258 1090.54,634.976 1091.75,634.693 1092.97,634.409 1094.19,634.123 1095.41,633.836 1096.63,633.547 1097.85,633.257 1099.07,632.966 1100.29,632.673 1101.51,632.379 1102.73,632.084 1103.95,631.787 1105.17,631.49 1106.39,631.191 1107.61,630.891 1108.83,630.59 1110.05,630.288 1111.27,629.985 1112.49,629.681 1113.71,629.376 1114.93,629.071 1116.15,628.764 1117.37,628.457 1118.58,628.149 1119.8,627.84 1121.02,627.531 1122.24,627.221 1123.46,626.91 1124.68,626.599 1125.9,626.288 1127.12,625.976 1128.34,625.664 1129.56,625.351 1130.78,625.039 1132,624.726 1133.22,624.413 1134.44,624.1 1135.66,623.787 1136.88,623.474 1138.1,623.161 1139.32,622.849 1140.54,622.536 1141.76,622.224 1142.98,621.913 1144.2,621.601 1145.41,621.291 1146.63,620.981 1147.85,620.671 1149.07,620.362 1150.29,620.055 1151.51,619.748 1152.73,619.441 1153.95,619.136 1155.17,618.832 1156.39,618.53 1157.61,618.228 1158.83,617.928 1160.05,617.629 1161.27,617.332 1162.49,617.036 1163.71,616.742 1164.93,616.449 1166.15,616.158 1167.37,615.87 1168.59,615.583 1169.81,615.298 1171.02,615.015 1172.24,614.735 1173.46,614.457 1174.68,614.181 1175.9,613.908 1177.12,613.637 1178.34,613.369 1179.56,613.103 1180.78,612.841 1182,612.581 1183.22,612.324 1184.44,612.071 1185.66,611.82 1186.88,611.573 1188.1,611.329 1189.32,611.089 1190.54,610.852 1191.76,610.619 1192.98,610.389 1194.2,610.164 1195.42,609.942 1196.64,609.724 1197.85,609.51 1199.07,609.3 1200.29,609.095 1201.51,608.894 1202.73,608.697 1203.95,608.505 1205.17,608.317 1206.39,608.134 1207.61,607.956 1208.83,607.782 1210.05,607.614 1211.27,607.451 1212.49,607.292 1213.71,607.139 1214.93,606.991 1216.15,606.848 1217.37,606.711 1218.59,606.579 1219.81,606.453 1221.03,606.333 1222.25,606.218 1223.46,606.109 1224.68,606.006 1225.9,605.909 1227.12,605.818 1228.34,605.732 1229.56,605.654 1230.78,605.581 1232,605.514 1233.22,605.454 1234.44,605.4 1235.66,605.353 1236.88,605.312 1238.1,605.278 1239.32,605.25 1240.54,605.229 1241.76,605.215 1242.98,605.208 1244.2,605.207 1245.42,605.213 1246.64,605.226 1247.86,605.246 1249.08,605.273 1250.29,605.307 1251.51,605.348 1252.73,605.396 1253.95,605.451 1255.17,605.513 1256.39,605.582 1257.61,605.659 1258.83,605.743 1260.05,605.833 1261.27,605.931 1262.49,606.036 1263.71,606.149 1264.93,606.268 1266.15,606.395 1267.37,606.529 1268.59,606.67 1269.81,606.818 1271.03,606.974 1272.25,607.136 1273.47,607.306 1274.69,607.483 1275.9,607.667 1277.12,607.858 1278.34,608.056 1279.56,608.26 1280.78,608.472 1282,608.691 1283.22,608.917 1284.44,609.149 1285.66,609.388 1286.88,609.634 1288.1,609.887 1289.32,610.146 1290.54,610.411 1291.76,610.683 1292.98,610.962 1294.2,611.247 1295.42,611.538 1296.64,611.835 1297.86,612.138 1299.08,612.447 1300.3,612.763 1301.52,613.084 1302.73,613.41 1303.95,613.743 1305.17,614.081 1306.39,614.424 1307.61,614.773 1308.83,615.126 1310.05,615.485 1311.27,615.849 1312.49,616.218 1313.71,616.592 1314.93,616.97 1316.15,617.353 1317.37,617.74 1318.59,618.132 1319.81,618.527 1321.03,618.927 1322.25,619.33 1323.47,619.738 1324.69,620.149 1325.91,620.563 1327.13,620.981 1328.35,621.401 1329.56,621.825 1330.78,622.252 1332,622.682 1333.22,623.114 1334.44,623.548 1335.66,623.985 1336.88,624.425 1338.1,624.866 1339.32,625.309 1340.54,625.753 1341.76,626.2 1342.98,626.647 1344.2,627.096 1345.42,627.546 1346.64,627.997 1347.86,628.449 1349.08,628.901 1350.3,629.354 1351.52,629.807 1352.74,630.26 1353.96,630.714 1355.17,631.167 1356.39,631.62 1357.61,632.072 1358.83,632.524 1360.05,632.975 1361.27,633.425 1362.49,633.874 1363.71,634.323 1364.93,634.769 1366.15,635.215 1367.37,635.658 1368.59,636.1 1369.81,636.54 1371.03,636.978 1372.25,637.414 1373.47,637.848 1374.69,638.279 1375.91,638.707 1377.13,639.133 1378.35,639.557 1379.57,639.977 1380.79,640.394 1382,640.809 1383.22,641.22 1384.44,641.627 1385.66,642.031 1386.88,642.432 1388.1,642.829 1389.32,643.222 1390.54,643.612 1391.76,643.997 1392.98,644.378 1394.2,644.756 1395.42,645.129 1396.64,645.498 1397.86,645.862 1399.08,646.223 1400.3,646.578 1401.52,646.929 1402.74,647.276 1403.96,647.618 1405.18,647.955 1406.4,648.288 1407.61,648.615 1408.83,648.938 1410.05,649.256 1411.27,649.57 1412.49,649.878 1413.71,650.181 1414.93,650.479 1416.15,650.772 1417.37,651.061 1418.59,651.344 1419.81,651.622 1421.03,651.895 1422.25,652.163 1423.47,652.426 1424.69,652.684 1425.91,652.936 1427.13,653.184 1428.35,653.427 1429.57,653.665 1430.79,653.897 1432.01,654.125 1433.23,654.348 1434.44,654.566 1435.66,654.778 1436.88,654.986 1438.1,655.19 1439.32,655.388 1440.54,655.582 1441.76,655.771 1442.98,655.955 1444.2,656.135 1445.42,656.31 1446.64,656.48 1447.86,656.646 1449.08,656.808 1450.3,656.965 1451.52,657.118 1452.74,657.267 1453.96,657.411 1455.18,657.551 1456.4,657.688 1457.62,657.82 1458.84,657.948 1460.06,658.072 1461.27,658.193 1462.49,658.31 1463.71,658.423 1464.93,658.532 1466.15,658.638 1467.37,658.741 1468.59,658.84 1469.81,658.936 1471.03,659.028 1472.25,659.118 1473.47,659.204 1474.69,659.287 1475.91,659.367 1477.13,659.445 1478.35,659.519 1479.57,659.591 1480.79,659.66 1482.01,659.726 1483.23,659.79 1484.45,659.851 1485.67,659.91 1486.88,659.967 1488.1,660.021 1489.32,660.073 1490.54,660.123 1491.76,660.171 1492.98,660.217 1494.2,660.261 1495.42,660.303 1496.64,660.343 1497.86,660.381 1499.08,660.418 1500.3,660.453 1501.52,660.486 1502.74,660.518 1503.96,660.548 1505.18,660.577 1506.4,660.605 1507.62,660.631 1508.84,660.656 1510.06,660.68 1511.28,660.703 1512.5,660.724 1513.71,660.744 1514.93,660.764 1516.15,660.782 1517.37,660.799 1518.59,660.816 1519.81,660.831 1521.03,660.846 1522.25,660.86 1523.47,660.873 1524.69,660.885 1525.91,660.897 1527.13,660.908 1528.35,660.918 1529.57,660.928 1530.79,660.937 1532.01,660.946 1533.23,660.954 1534.45,660.962 1535.67,660.969 1536.89,660.976 1538.11,660.982 1539.32,660.988 1540.54,660.994 1541.76,660.999 1542.98,661.004 1544.2,661.008 1545.42,661.013 1546.64,661.017 1547.86,661.02 1549.08,661.024 1550.3,661.027 1551.52,661.03 1552.74,661.033 1553.96,661.035 1555.18,661.038 1556.4,661.04 1557.62,661.042 1558.84,661.044 1560.06,661.046 1561.28,661.047 1562.5,661.049 1563.72,661.05 1564.94,661.052 1566.15,661.053 1567.37,661.054 1568.59,661.055 1569.81,661.056 1571.03,661.057 1572.25,661.058 1573.47,661.058 1574.69,661.059 1575.91,661.06 1577.13,661.06 1578.35,661.061 1579.57,661.061 1580.79,661.062 1582.01,661.062 1583.23,661.062 1584.45,661.063 1585.67,661.063 1586.89,661.063 1588.11,661.063 1589.33,661.064 1590.55,661.064 1591.76,661.064 1592.98,661.064 1594.2,661.064 1595.42,661.064 1596.64,661.065 1597.86,661.065 1599.08,661.065 1600.3,661.065 1601.52,661.065 1602.74,661.065 1603.96,661.065 1605.18,661.065 1606.4,661.065 1607.62,661.065 1608.84,661.065 1610.06,661.065 1611.28,661.065 1612.5,661.065 1613.72,661.065 1614.94,661.065 1616.16,661.066 1617.38,661.066 1618.59,661.066 1619.81,661.066 1621.03,661.066 1622.25,661.066 1623.47,661.066 1624.69,661.066 1625.91,661.066 1627.13,661.066 1628.35,661.066 1629.57,661.066 1630.79,661.066 1632.01,661.066 1633.23,661.066 1634.45,661.066 1635.67,661.066 1636.89,661.066 1638.11,661.066 1639.33,661.066 1640.55,661.066 1641.77,661.066 1642.99,661.066 1644.21,661.066 1645.42,661.066 1646.64,661.066 1647.86,661.066 1649.08,661.066 1650.3,661.066 1651.52,661.066 1652.74,661.066 1653.96,661.066 1655.18,661.066 1656.4,661.066 1657.62,661.066 1658.84,661.066 1660.06,661.066 1661.28,661.066 1662.5,661.066 1663.72,661.066 1664.94,661.066 1666.16,661.066 1667.38,661.066 1668.6,661.066 1669.82,661.066 1671.03,661.066 1672.25,661.066 1673.47,661.066 1674.69,661.066 1675.91,661.066 1677.13,661.066 1678.35,661.066 1679.57,661.066 1680.79,661.066 1682.01,661.066 1683.23,661.066 1684.45,661.066 1685.67,661.066 1686.89,661.066 1688.11,661.066 1689.33,661.066 1690.55,661.066 1691.77,661.066 1692.99,661.066 1694.21,661.066 1695.43,661.066 1696.65,661.066 1697.86,661.066 1699.08,661.066 1700.3,661.066 1701.52,661.066 1702.74,661.066 1703.96,661.066 1705.18,661.066 1706.4,661.066 1707.62,661.066 1708.84,661.066 1710.06,661.066 1711.28,661.066 1712.5,661.066 1713.72,661.066 1714.94,661.066 1716.16,661.066 1717.38,661.066 1718.6,661.066 1719.82,661.066 1721.04,661.066 1722.26,661.066 1723.47,661.066 1724.69,661.066 1725.91,661.066 1727.13,661.066 1728.35,661.066 1729.57,661.066 1730.79,661.066 1732.01,661.066 1733.23,661.066 1734.45,661.066 1735.67,661.066 1736.89,661.066 1738.11,661.066 1739.33,661.066 1740.55,661.066 1741.77,661.066 1742.99,661.066 1744.21,661.066 1745.43,661.066 1746.65,661.066 1747.87,661.066 1749.09,661.066 1750.3,661.066 1751.52,661.066 1752.74,661.066 1753.96,661.066 1755.18,661.066 1756.4,661.066 1757.62,661.066 1758.84,661.066 1760.06,661.066 1761.28,661.066 1762.5,661.066 1763.72,661.066 1764.94,661.066 1766.16,661.066 1767.38,661.066 1768.6,661.066 1769.82,661.066 1771.04,661.066 1772.26,661.066 1773.48,661.066 1774.7,661.066 1775.92,661.066 1777.13,661.066 1778.35,661.066 1779.57,661.066 1780.79,661.066 1782.01,661.066 1783.23,661.066 1784.45,661.066 1785.67,661.066 1786.89,661.066 1788.11,661.066 1789.33,661.066 1790.55,661.066 1791.77,661.066 1792.99,661.066 1794.21,661.066 1795.43,661.066 1796.65,661.066 1797.87,661.066 1799.09,661.066 1800.31,661.066 1801.53,661.066 1802.74,661.066 1803.96,661.066 1805.18,661.066 1806.4,661.066 1807.62,661.066 1808.84,661.066 1810.06,661.066 1811.28,661.066 1812.5,661.066 1813.72,661.066 1814.94,661.066 1816.16,661.066 1817.38,661.066 1818.6,661.066 1819.82,661.066 1821.04,661.066 1822.26,661.066 1823.48,661.066 1824.7,661.066 1825.92,661.066 1827.14,661.066 1828.36,661.066 1829.57,661.066 1830.79,661.066 1832.01,661.066 1833.23,661.066 1834.45,661.066 1835.67,661.066 1836.89,661.066 1838.11,661.066 1839.33,661.066 1840.55,661.066 1841.77,661.066 1842.99,661.066 1844.21,661.066 1845.43,661.066 1846.65,661.066 1847.87,661.066 1849.09,661.066 1850.31,661.066 1851.53,661.066 1852.75,661.066 1853.97,661.066 1855.18,661.066 1856.4,661.066 1857.62,661.066 1858.84,661.066 1860.06,661.066 1861.28,661.066 1862.5,661.066 1863.72,661.066 1864.94,661.066 1866.16,661.066 1867.38,661.066 1868.6,661.066 1869.82,661.066 1871.04,661.066 1872.26,661.066 1873.48,661.066 1874.7,661.066 1875.92,661.066 1877.14,661.066 1878.36,661.066 1879.58,661.066 1880.8,661.066 1882.01,661.066 1883.23,661.066 1884.45,661.066 1885.67,661.066 1886.89,661.066 1888.11,661.066 1889.33,661.066 1890.55,661.066 1891.77,661.066 1892.99,661.066 1894.21,661.066 1895.43,661.066 1896.65,661.066 1897.87,661.066 1899.09,661.066 1900.31,661.066 1901.53,661.066 1902.75,661.066 1903.97,661.066 1905.19,661.066 1906.41,661.066 1907.63,661.066 1908.84,661.066 1910.06,661.066 1911.28,661.066 1912.5,661.066 1913.72,661.066 1914.94,661.066 1916.16,661.066 1917.38,661.066 1918.6,661.066 1919.82,661.066 1921.04,661.066 1922.26,661.066 1923.48,661.066 1924.7,661.066 1925.92,661.066 1927.14,661.066 1928.36,661.066 1929.58,661.066 1930.8,661.066 1932.02,661.066 1933.24,661.066 1934.45,661.066 1935.67,661.066 1936.89,661.066 1938.11,661.066 1939.33,661.066 1940.55,661.066 1941.77,661.066 1942.99,661.066 1944.21,661.066 1945.43,661.066 1946.65,661.066 1947.87,661.066 1949.09,661.066 1950.31,661.066 1951.53,661.066 1952.75,661.066 1953.97,661.066 1955.19,661.066 1956.41,661.066 1957.63,661.066 1958.85,661.066 1960.07,661.066 1961.28,661.066 1962.5,661.066 1963.72,661.066 1964.94,661.066 1966.16,661.066 1967.38,661.066 1968.6,661.066 1969.82,661.066 1971.04,661.066 1972.26,661.066 1973.48,661.066 1974.7,661.066 1975.92,661.066 1977.14,661.066 1978.36,661.066 1979.58,661.066 1980.8,661.066 1982.02,661.066 1983.24,661.066 1984.46,661.066 1985.68,661.066 1986.89,661.066 1988.11,661.066 1989.33,661.066 1990.55,661.066 1991.77,661.066 1992.99,661.066 1994.21,661.066 1995.43,661.066 1996.65,661.066 1997.87,661.066 1999.09,661.066 2000.31,661.066 2001.53,661.066 2002.75,661.066 2003.97,661.066 2005.19,661.066 2006.41,661.066 2007.63,661.066 2008.85,661.066 2010.07,661.066 2011.29,661.066 2012.51,661.066 2013.72,661.066 2014.94,661.066 2016.16,661.066 2017.38,661.066 2018.6,661.066 2019.82,661.066 2021.04,661.066 2022.26,661.066 2023.48,661.066 2024.7,661.066 2025.92,661.066 2027.14,661.066 2028.36,661.066 2029.58,661.066 2030.8,661.066 2032.02,661.066 2033.24,661.066 2034.46,661.066 2035.68,661.066 2036.9,661.066 2038.12,661.066 2039.33,661.066 2040.55,661.066 2041.77,661.066 2042.99,661.066 2044.21,661.066 2045.43,661.066 2046.65,661.066 2047.87,661.066 2049.09,661.066 2050.31,661.066 2051.53,661.066 2052.75,661.066 2053.97,661.066 2055.19,661.066 2056.41,661.066 2057.63,661.066 2058.85,661.066 2060.07,661.066 2061.29,661.066 2062.51,661.066 2063.73,661.066 2064.95,661.066 2066.16,661.066 2067.38,661.066 2068.6,661.066 2069.82,661.066 2071.04,661.066 2072.26,661.066 2073.48,661.066 2074.7,661.066 2075.92,661.066 2077.14,661.066 2078.36,661.066 2079.58,661.066 2080.8,661.066 2082.02,661.066 2083.24,661.066 2084.46,661.066 2085.68,661.066 2086.9,661.066 2088.12,661.066 2089.34,661.066 2090.56,661.066 2091.78,661.066 2092.99,661.066 2094.21,661.066 2095.43,661.066 2096.65,661.066 2097.87,661.066 2099.09,661.066 2100.31,661.066 2101.53,661.066 2102.75,661.066 2103.97,661.066 2105.19,661.066 2106.41,661.066 2107.63,661.066 2108.85,661.066 2110.07,661.066 2111.29,661.066 2112.51,661.066 2113.73,661.066 2114.95,661.066 2116.17,661.066 2117.39,661.066 2118.6,661.066 2119.82,661.066 2121.04,661.066 2122.26,661.066 2123.48,661.066 2124.7,661.066 2125.92,661.066 2127.14,661.066 2128.36,661.066 2129.58,661.066 2130.8,661.066 2132.02,661.066 2133.24,661.066 2134.46,661.066 2135.68,661.066 2136.9,661.066 2138.12,661.066 2139.34,661.066 2140.56,661.066 2141.78,661.066 2143,661.066 2144.22,661.066 2145.43,661.066 2146.65,661.066 2147.87,661.066 2149.09,661.066 2150.31,661.066 2151.53,661.066 2152.75,661.066 2153.97,661.066 2155.19,661.066 2156.41,661.066 2157.63,661.066 2158.85,661.066 2160.07,661.066 2161.29,661.066 2162.51,661.066 2163.73,661.066 2164.95,661.066 2166.17,661.066 2167.39,661.066 2168.61,661.066 2169.83,661.066 2171.04,661.066 2172.26,661.066 2173.48,661.066 2174.7,661.066 2175.92,661.066 2177.14,661.066 2178.36,661.066 2179.58,661.066 2180.8,661.066 2182.02,661.066 2183.24,661.066 2184.46,661.066 2185.68,661.066 2186.9,661.066 2188.12,661.066 2189.34,661.066 2190.56,661.066 2191.78,661.066 2193,661.066 2194.22,661.066 2195.44,661.066 2196.66,661.066 2197.87,661.066 2199.09,661.066 2200.31,661.066 2201.53,661.066 2202.75,661.066 2203.97,661.066 2205.19,661.066 2206.41,661.066 2207.63,661.066 2208.85,661.066 2210.07,661.066 2211.29,661.066 2212.51,661.066 2213.73,661.066 2214.95,661.066 2216.17,661.066 2217.39,661.066 2218.61,661.066 2219.83,661.066 2221.05,661.066 2222.27,661.066 2223.49,661.066 2224.7,661.066 2225.92,661.066 2227.14,661.066 2228.36,661.066 2229.58,661.066 2230.8,661.066 2232.02,661.066 2233.24,661.066 2234.46,661.066 2235.68,661.066 2236.9,661.066 2238.12,661.066 2239.34,661.066 2240.56,661.066 2241.78,661.066 2243,661.066 2244.22,661.066 2245.44,661.066 2246.66,661.066 2247.88,661.066 2249.1,661.066 2250.31,661.066 2251.53,661.066 2252.75,661.066 2253.97,661.066 2255.19,661.066 2256.41,661.066 2257.63,661.066 2258.85,661.066 2260.07,661.066 2261.29,661.066 2262.51,661.066 2263.73,661.066 2264.95,661.066 2266.17,661.066 2267.39,661.066 2268.61,661.066 2269.83,661.066 2271.05,661.066 2272.27,661.066 2273.49,661.066 2274.71,661.066 2275.93,661.066 2277.14,661.066 2278.36,661.066 2279.58,661.066 2280.8,661.066 2282.02,661.066 2283.24,661.066 2284.46,661.066 2285.68,661.066 2286.9,661.066 2288.12,661.066 2289.34,661.066 2290.56,661.066 2291.78,661.066 2293,661.066 2294.22,661.066 \"/>\n",
       "<polyline clip-path=\"url(#clip792)\" style=\"stroke:#c271d2; stroke-linecap:round; stroke-linejoin:round; stroke-width:4; stroke-opacity:1; fill:none\" points=\"342.959,661.066 344.179,661.066 345.398,661.066 346.618,661.066 347.838,661.066 349.057,661.066 350.277,661.066 351.496,661.066 352.716,661.066 353.935,661.066 355.155,661.066 356.374,661.066 357.594,661.066 358.813,661.066 360.033,661.066 361.252,661.066 362.472,661.065 363.692,661.065 364.911,661.065 366.131,661.065 367.35,661.065 368.57,661.065 369.789,661.065 371.009,661.065 372.228,661.065 373.448,661.065 374.667,661.065 375.887,661.065 377.106,661.065 378.326,661.065 379.545,661.065 380.765,661.065 381.985,661.065 383.204,661.065 384.424,661.065 385.643,661.064 386.863,661.064 388.082,661.064 389.302,661.064 390.521,661.064 391.741,661.064 392.96,661.064 394.18,661.064 395.399,661.064 396.619,661.063 397.839,661.063 399.058,661.063 400.278,661.063 401.497,661.063 402.717,661.063 403.936,661.062 405.156,661.062 406.375,661.062 407.595,661.062 408.814,661.062 410.034,661.062 411.253,661.061 412.473,661.061 413.693,661.061 414.912,661.061 416.132,661.06 417.351,661.06 418.571,661.06 419.79,661.06 421.01,661.059 422.229,661.059 423.449,661.059 424.668,661.058 425.888,661.058 427.107,661.058 428.327,661.057 429.546,661.057 430.766,661.056 431.986,661.056 433.205,661.056 434.425,661.055 435.644,661.055 436.864,661.054 438.083,661.054 439.303,661.053 440.522,661.053 441.742,661.052 442.961,661.052 444.181,661.051 445.4,661.051 446.62,661.05 447.84,661.05 449.059,661.049 450.279,661.048 451.498,661.048 452.718,661.047 453.937,661.046 455.157,661.045 456.376,661.045 457.596,661.044 458.815,661.043 460.035,661.042 461.254,661.041 462.474,661.041 463.694,661.04 464.913,661.039 466.133,661.038 467.352,661.037 468.572,661.036 469.791,661.035 471.011,661.034 472.23,661.033 473.45,661.031 474.669,661.03 475.889,661.029 477.108,661.028 478.328,661.027 479.547,661.025 480.767,661.024 481.987,661.022 483.206,661.021 484.426,661.02 485.645,661.018 486.865,661.017 488.084,661.015 489.304,661.013 490.523,661.012 491.743,661.01 492.962,661.008 494.182,661.006 495.401,661.005 496.621,661.003 497.841,661.001 499.06,660.999 500.28,660.997 501.499,660.994 502.719,660.992 503.938,660.99 505.158,660.988 506.377,660.985 507.597,660.983 508.816,660.98 510.036,660.978 511.255,660.975 512.475,660.973 513.695,660.97 514.914,660.967 516.134,660.964 517.353,660.961 518.573,660.958 519.792,660.955 521.012,660.952 522.231,660.949 523.451,660.945 524.67,660.942 525.89,660.938 527.109,660.935 528.329,660.931 529.549,660.927 530.768,660.923 531.988,660.919 533.207,660.915 534.427,660.911 535.646,660.907 536.866,660.902 538.085,660.898 539.305,660.893 540.524,660.888 541.744,660.883 542.963,660.878 544.183,660.873 545.402,660.868 546.622,660.863 547.842,660.857 549.061,660.852 550.281,660.846 551.5,660.84 552.72,660.834 553.939,660.828 555.159,660.822 556.378,660.815 557.598,660.808 558.817,660.802 560.037,660.795 561.256,660.788 562.476,660.78 563.696,660.773 564.915,660.765 566.135,660.758 567.354,660.75 568.574,660.742 569.793,660.733 571.013,660.725 572.232,660.716 573.452,660.707 574.671,660.698 575.891,660.689 577.11,660.679 578.33,660.669 579.55,660.659 580.769,660.649 581.989,660.639 583.208,660.628 584.428,660.617 585.647,660.606 586.867,660.594 588.086,660.583 589.306,660.571 590.525,660.558 591.745,660.546 592.964,660.533 594.184,660.52 595.403,660.507 596.623,660.493 597.843,660.479 599.062,660.465 600.282,660.45 601.501,660.435 602.721,660.42 603.94,660.404 605.16,660.388 606.379,660.372 607.599,660.356 608.818,660.339 610.038,660.321 611.257,660.303 612.477,660.285 613.697,660.267 614.916,660.248 616.136,660.229 617.355,660.209 618.575,660.189 619.794,660.168 621.014,660.147 622.233,660.125 623.453,660.103 624.672,660.081 625.892,660.058 627.111,660.035 628.331,660.011 629.551,659.986 630.77,659.961 631.99,659.936 633.209,659.91 634.429,659.883 635.648,659.856 636.868,659.829 638.087,659.8 639.307,659.771 640.526,659.742 641.746,659.712 642.965,659.681 644.185,659.65 645.404,659.618 646.624,659.585 647.844,659.552 649.063,659.518 650.283,659.483 651.502,659.447 652.722,659.411 653.941,659.374 655.161,659.337 656.38,659.298 657.6,659.259 658.819,659.219 660.039,659.178 661.258,659.136 662.478,659.093 663.698,659.05 664.917,659.006 666.137,658.96 667.356,658.914 668.576,658.867 669.795,658.819 671.015,658.77 672.234,658.72 673.454,658.669 674.673,658.617 675.893,658.564 677.112,658.51 678.332,658.455 679.552,658.398 680.771,658.341 681.991,658.282 683.21,658.222 684.43,658.162 685.649,658.099 686.869,658.036 688.088,657.971 689.308,657.905 690.527,657.838 691.747,657.77 692.966,657.7 694.186,657.629 695.405,657.556 696.625,657.482 697.845,657.406 699.064,657.33 700.284,657.251 701.503,657.171 702.723,657.09 703.942,657.006 705.162,656.922 706.381,656.835 707.601,656.747 708.82,656.658 710.04,656.566 711.259,656.473 712.479,656.378 713.699,656.281 714.918,656.183 716.138,656.082 717.357,655.98 718.577,655.875 719.796,655.769 721.016,655.661 722.235,655.55 723.455,655.438 724.674,655.323 725.894,655.207 727.113,655.088 728.333,654.967 729.553,654.843 730.772,654.717 731.992,654.589 733.211,654.459 734.431,654.326 735.65,654.191 736.87,654.053 738.089,653.912 739.309,653.769 740.528,653.624 741.748,653.475 742.967,653.324 744.187,653.17 745.407,653.014 746.626,652.854 747.846,652.692 749.065,652.526 750.285,652.358 751.504,652.187 752.724,652.012 753.943,651.834 755.163,651.654 756.382,651.469 757.602,651.282 758.821,651.091 760.041,650.897 761.26,650.699 762.48,650.498 763.7,650.293 764.919,650.084 766.139,649.872 767.358,649.656 768.578,649.436 769.797,649.212 771.017,648.985 772.236,648.753 773.456,648.517 774.675,648.278 775.895,648.033 777.114,647.785 778.334,647.532 779.554,647.275 780.773,647.014 781.993,646.748 783.212,646.477 784.432,646.202 785.651,645.922 786.871,645.637 788.09,645.347 789.31,645.052 790.529,644.752 791.749,644.447 792.968,644.137 794.188,643.822 795.408,643.501 796.627,643.175 797.847,642.843 799.066,642.506 800.286,642.163 801.505,641.814 802.725,641.459 803.944,641.099 805.164,640.732 806.383,640.359 807.603,639.98 808.822,639.595 810.042,639.204 811.261,638.806 812.481,638.401 813.701,637.99 814.92,637.572 816.14,637.147 817.359,636.716 818.579,636.277 819.798,635.831 821.018,635.378 822.237,634.918 823.457,634.45 824.676,633.974 825.896,633.491 827.115,633.001 828.335,632.502 829.555,631.996 830.774,631.481 831.994,630.958 833.213,630.427 834.433,629.888 835.652,629.34 836.872,628.784 838.091,628.218 839.311,627.644 840.53,627.061 841.75,626.469 842.969,625.868 844.189,625.258 845.409,624.638 846.628,624.008 847.848,623.369 849.067,622.72 850.287,622.062 851.506,621.393 852.726,620.714 853.945,620.025 855.165,619.325 856.384,618.615 857.604,617.895 858.823,617.163 860.043,616.421 861.262,615.667 862.482,614.903 863.702,614.127 864.921,613.34 866.141,612.541 867.36,611.731 868.58,610.908 869.799,610.074 871.019,609.228 872.238,608.369 873.458,607.499 874.677,606.615 875.897,605.719 877.116,604.811 878.336,603.889 879.556,602.954 880.775,602.007 881.995,601.046 883.214,600.071 884.434,599.083 885.653,598.081 886.873,597.066 888.092,596.036 889.312,594.992 890.531,593.934 891.751,592.861 892.97,591.774 894.19,590.673 895.41,589.556 896.629,588.424 897.849,587.278 899.068,586.116 900.288,584.939 901.507,583.746 902.727,582.537 903.946,581.313 905.166,580.073 906.385,578.816 907.605,577.544 908.824,576.255 910.044,574.95 911.263,573.628 912.483,572.289 913.703,570.933 914.922,569.561 916.142,568.171 917.361,566.764 918.581,565.34 919.8,563.898 921.02,562.439 922.239,560.961 923.459,559.466 924.678,557.953 925.898,556.422 927.117,554.873 928.337,553.305 929.557,551.719 930.776,550.114 931.996,548.49 933.215,546.848 934.435,545.187 935.654,543.507 936.874,541.808 938.093,540.089 939.313,538.352 940.532,536.595 941.752,534.818 942.971,533.022 944.191,531.207 945.411,529.372 946.63,527.517 947.85,525.642 949.069,523.747 950.289,521.833 951.508,519.898 952.728,517.943 953.947,515.969 955.167,513.974 956.386,511.959 957.606,509.923 958.825,507.867 960.045,505.792 961.265,503.695 962.484,501.579 963.704,499.442 964.923,497.284 966.143,495.107 967.362,492.909 968.582,490.69 969.801,488.452 971.021,486.193 972.24,483.913 973.46,481.614 974.679,479.294 975.899,476.954 977.118,474.594 978.338,472.215 979.558,469.815 980.777,467.395 981.997,464.955 983.216,462.496 984.436,460.017 985.655,457.519 986.875,455.001 988.094,452.464 989.314,449.908 990.533,447.334 991.753,444.74 992.972,442.127 994.192,439.496 995.412,436.847 996.631,434.18 997.851,431.495 999.07,428.792 1000.29,426.072 1001.51,423.334 1002.73,420.58 1003.95,417.808 1005.17,415.021 1006.39,412.217 1007.61,409.397 1008.83,406.562 1010.05,403.711 1011.27,400.845 1012.49,397.965 1013.7,395.07 1014.92,392.162 1016.14,389.24 1017.36,386.305 1018.58,383.357 1019.8,380.396 1021.02,377.424 1022.24,374.44 1023.46,371.446 1024.68,368.44 1025.9,365.425 1027.12,362.4 1028.34,359.366 1029.56,356.323 1030.78,353.273 1032,350.215 1033.22,347.15 1034.44,344.078 1035.66,341.001 1036.88,337.919 1038.1,334.833 1039.31,331.743 1040.53,328.65 1041.75,325.554 1042.97,322.456 1044.19,319.358 1045.41,316.259 1046.63,313.16 1047.85,310.063 1049.07,306.968 1050.29,303.876 1051.51,300.787 1052.73,297.703 1053.95,294.624 1055.17,291.551 1056.39,288.485 1057.61,285.427 1058.83,282.378 1060.05,279.339 1061.27,276.311 1062.49,273.294 1063.71,270.29 1064.93,267.3 1066.14,264.324 1067.36,261.365 1068.58,258.422 1069.8,255.497 1071.02,252.591 1072.24,249.705 1073.46,246.841 1074.68,243.999 1075.9,241.181 1077.12,238.387 1078.34,235.62 1079.56,232.879 1080.78,230.167 1082,227.485 1083.22,224.834 1084.44,222.214 1085.66,219.629 1086.88,217.078 1088.1,214.563 1089.32,212.086 1090.54,209.648 1091.75,207.25 1092.97,204.894 1094.19,202.581 1095.41,200.312 1096.63,198.089 1097.85,195.913 1099.07,193.786 1100.29,191.71 1101.51,189.685 1102.73,187.714 1103.95,185.797 1105.17,183.937 1106.39,182.134 1107.61,180.391 1108.83,178.708 1110.05,177.088 1111.27,175.532 1112.49,174.042 1113.71,172.619 1114.93,171.265 1116.15,169.981 1117.37,168.768 1118.58,167.63 1119.8,166.567 1121.02,165.58 1122.24,164.672 1123.46,163.843 1124.68,163.097 1125.9,162.434 1127.12,161.855 1128.34,161.363 1129.56,160.959 1130.78,160.645 1132,160.422 1133.22,160.292 1134.44,160.256 1135.66,160.317 1136.88,160.475 1138.1,160.733 1139.32,161.091 1140.54,161.552 1141.76,162.116 1142.98,162.786 1144.2,163.563 1145.41,164.449 1146.63,165.444 1147.85,166.551 1149.07,167.771 1150.29,169.105 1151.51,170.555 1152.73,172.122 1153.95,173.807 1155.17,175.612 1156.39,177.539 1157.61,179.588 1158.83,181.76 1160.05,184.057 1161.27,186.481 1162.49,189.032 1163.71,191.711 1164.93,194.52 1166.15,197.46 1167.37,200.531 1168.59,203.735 1169.81,207.072 1171.02,210.544 1172.24,214.151 1173.46,217.895 1174.68,221.776 1175.9,225.794 1177.12,229.951 1178.34,234.247 1179.56,238.682 1180.78,243.258 1182,247.974 1183.22,252.832 1184.44,257.831 1185.66,262.972 1186.88,268.255 1188.1,273.68 1189.32,279.247 1190.54,284.958 1191.76,290.81 1192.98,296.805 1194.2,302.943 1195.42,309.222 1196.64,315.643 1197.85,322.206 1199.07,328.91 1200.29,335.755 1201.51,342.74 1202.73,349.865 1203.95,357.128 1205.17,364.529 1206.39,372.068 1207.61,379.743 1208.83,387.553 1210.05,395.498 1211.27,403.575 1212.49,411.785 1213.71,420.125 1214.93,428.594 1216.15,437.19 1217.37,445.913 1218.59,454.76 1219.81,463.73 1221.03,472.82 1222.25,482.03 1223.46,491.356 1224.68,500.797 1225.9,510.35 1227.12,520.014 1228.34,529.786 1229.56,539.664 1230.78,549.645 1232,559.726 1233.22,569.905 1234.44,580.179 1235.66,590.545 1236.88,601 1238.1,611.541 1239.32,622.165 1240.54,632.869 1241.76,643.65 1242.98,654.504 1244.2,665.427 1245.42,676.417 1246.64,687.469 1247.86,698.58 1249.08,709.746 1250.29,720.964 1251.51,732.229 1252.73,743.537 1253.95,754.885 1255.17,766.268 1256.39,777.682 1257.61,789.123 1258.83,800.586 1260.05,812.068 1261.27,823.563 1262.49,835.067 1263.71,846.577 1264.93,858.086 1266.15,869.59 1267.37,881.086 1268.59,892.567 1269.81,904.03 1271.03,915.469 1272.25,926.879 1273.47,938.256 1274.69,949.595 1275.9,960.891 1277.12,972.139 1278.34,983.333 1279.56,994.47 1280.78,1005.54 1282,1016.55 1283.22,1027.48 1284.44,1038.33 1285.66,1049.1 1286.88,1059.79 1288.1,1070.38 1289.32,1080.87 1290.54,1091.25 1291.76,1101.53 1292.98,1111.7 1294.2,1121.75 1295.42,1131.67 1296.64,1141.47 1297.86,1151.13 1299.08,1160.66 1300.3,1170.05 1301.52,1179.28 1302.73,1188.37 1303.95,1197.3 1305.17,1206.07 1306.39,1214.68 1307.61,1223.12 1308.83,1231.38 1310.05,1239.47 1311.27,1247.37 1312.49,1255.09 1313.71,1262.62 1314.93,1269.95 1316.15,1277.09 1317.37,1284.03 1318.59,1290.76 1319.81,1297.29 1321.03,1303.61 1322.25,1309.71 1323.47,1315.59 1324.69,1321.26 1325.91,1326.7 1327.13,1331.92 1328.35,1336.91 1329.56,1341.67 1330.78,1346.2 1332,1350.49 1333.22,1354.55 1334.44,1358.37 1335.66,1361.95 1336.88,1365.29 1338.1,1368.38 1339.32,1371.24 1340.54,1373.84 1341.76,1376.21 1342.98,1378.33 1344.2,1380.2 1345.42,1381.82 1346.64,1383.2 1347.86,1384.33 1349.08,1385.22 1350.3,1385.85 1351.52,1386.25 1352.74,1386.4 1353.96,1386.3 1355.17,1385.96 1356.39,1385.38 1357.61,1384.56 1358.83,1383.5 1360.05,1382.2 1361.27,1380.67 1362.49,1378.9 1363.71,1376.91 1364.93,1374.68 1366.15,1372.23 1367.37,1369.56 1368.59,1366.66 1369.81,1363.55 1371.03,1360.22 1372.25,1356.68 1373.47,1352.94 1374.69,1348.99 1375.91,1344.84 1377.13,1340.49 1378.35,1335.96 1379.57,1331.23 1380.79,1326.32 1382,1321.23 1383.22,1315.96 1384.44,1310.53 1385.66,1304.93 1386.88,1299.16 1388.1,1293.24 1389.32,1287.17 1390.54,1280.96 1391.76,1274.6 1392.98,1268.11 1394.2,1261.48 1395.42,1254.73 1396.64,1247.87 1397.86,1240.88 1399.08,1233.79 1400.3,1226.59 1401.52,1219.3 1402.74,1211.91 1403.96,1204.44 1405.18,1196.89 1406.4,1189.26 1407.61,1181.56 1408.83,1173.8 1410.05,1165.98 1411.27,1158.1 1412.49,1150.18 1413.71,1142.22 1414.93,1134.22 1416.15,1126.19 1417.37,1118.14 1418.59,1110.06 1419.81,1101.98 1421.03,1093.88 1422.25,1085.78 1423.47,1077.68 1424.69,1069.59 1425.91,1061.5 1427.13,1053.44 1428.35,1045.39 1429.57,1037.38 1430.79,1029.39 1432.01,1021.44 1433.23,1013.53 1434.44,1005.66 1435.66,997.84 1436.88,990.073 1438.1,982.363 1439.32,974.712 1440.54,967.126 1441.76,959.608 1442.98,952.161 1444.2,944.789 1445.42,937.494 1446.64,930.28 1447.86,923.15 1449.08,916.107 1450.3,909.153 1451.52,902.291 1452.74,895.524 1453.96,888.852 1455.18,882.28 1456.4,875.808 1457.62,869.439 1458.84,863.174 1460.06,857.015 1461.27,850.963 1462.49,845.019 1463.71,839.185 1464.93,833.462 1466.15,827.85 1467.37,822.351 1468.59,816.964 1469.81,811.69 1471.03,806.53 1472.25,801.484 1473.47,796.552 1474.69,791.734 1475.91,787.03 1477.13,782.439 1478.35,777.962 1479.57,773.598 1480.79,769.346 1482.01,765.205 1483.23,761.175 1484.45,757.256 1485.67,753.445 1486.88,749.743 1488.1,746.148 1489.32,742.658 1490.54,739.273 1491.76,735.991 1492.98,732.811 1494.2,729.732 1495.42,726.752 1496.64,723.868 1497.86,721.081 1499.08,718.388 1500.3,715.787 1501.52,713.277 1502.74,710.855 1503.96,708.521 1505.18,706.272 1506.4,704.107 1507.62,702.023 1508.84,700.019 1510.06,698.092 1511.28,696.241 1512.5,694.465 1513.71,692.76 1514.93,691.125 1516.15,689.558 1517.37,688.058 1518.59,686.622 1519.81,685.248 1521.03,683.934 1522.25,682.68 1523.47,681.482 1524.69,680.338 1525.91,679.248 1527.13,678.21 1528.35,677.22 1529.57,676.279 1530.79,675.383 1532.01,674.532 1533.23,673.723 1534.45,672.955 1535.67,672.227 1536.89,671.537 1538.11,670.883 1539.32,670.264 1540.54,669.678 1541.76,669.124 1542.98,668.601 1544.2,668.107 1545.42,667.641 1546.64,667.202 1547.86,666.788 1549.08,666.398 1550.3,666.032 1551.52,665.687 1552.74,665.363 1553.96,665.059 1555.18,664.774 1556.4,664.507 1557.62,664.256 1558.84,664.022 1560.06,663.803 1561.28,663.598 1562.5,663.407 1563.72,663.229 1564.94,663.062 1566.15,662.907 1567.37,662.763 1568.59,662.629 1569.81,662.504 1571.03,662.388 1572.25,662.281 1573.47,662.181 1574.69,662.089 1575.91,662.004 1577.13,661.925 1578.35,661.852 1579.57,661.784 1580.79,661.722 1582.01,661.665 1583.23,661.612 1584.45,661.563 1585.67,661.519 1586.89,661.478 1588.11,661.44 1589.33,661.406 1590.55,661.374 1591.76,661.345 1592.98,661.319 1594.2,661.295 1595.42,661.273 1596.64,661.252 1597.86,661.234 1599.08,661.218 1600.3,661.202 1601.52,661.189 1602.74,661.176 1603.96,661.165 1605.18,661.155 1606.4,661.145 1607.62,661.137 1608.84,661.129 1610.06,661.123 1611.28,661.117 1612.5,661.111 1613.72,661.106 1614.94,661.102 1616.16,661.098 1617.38,661.094 1618.59,661.091 1619.81,661.088 1621.03,661.085 1622.25,661.083 1623.47,661.081 1624.69,661.079 1625.91,661.078 1627.13,661.076 1628.35,661.075 1629.57,661.074 1630.79,661.073 1632.01,661.072 1633.23,661.071 1634.45,661.07 1635.67,661.07 1636.89,661.069 1638.11,661.069 1639.33,661.068 1640.55,661.068 1641.77,661.068 1642.99,661.067 1644.21,661.067 1645.42,661.067 1646.64,661.067 1647.86,661.067 1649.08,661.067 1650.3,661.066 1651.52,661.066 1652.74,661.066 1653.96,661.066 1655.18,661.066 1656.4,661.066 1657.62,661.066 1658.84,661.066 1660.06,661.066 1661.28,661.066 1662.5,661.066 1663.72,661.066 1664.94,661.066 1666.16,661.066 1667.38,661.066 1668.6,661.066 1669.82,661.066 1671.03,661.066 1672.25,661.066 1673.47,661.066 1674.69,661.066 1675.91,661.066 1677.13,661.066 1678.35,661.066 1679.57,661.066 1680.79,661.066 1682.01,661.066 1683.23,661.066 1684.45,661.066 1685.67,661.066 1686.89,661.066 1688.11,661.066 1689.33,661.066 1690.55,661.066 1691.77,661.066 1692.99,661.066 1694.21,661.066 1695.43,661.066 1696.65,661.066 1697.86,661.066 1699.08,661.066 1700.3,661.066 1701.52,661.066 1702.74,661.066 1703.96,661.066 1705.18,661.066 1706.4,661.066 1707.62,661.066 1708.84,661.066 1710.06,661.066 1711.28,661.066 1712.5,661.066 1713.72,661.066 1714.94,661.066 1716.16,661.066 1717.38,661.066 1718.6,661.066 1719.82,661.066 1721.04,661.066 1722.26,661.066 1723.47,661.066 1724.69,661.066 1725.91,661.066 1727.13,661.066 1728.35,661.066 1729.57,661.066 1730.79,661.066 1732.01,661.066 1733.23,661.066 1734.45,661.066 1735.67,661.066 1736.89,661.066 1738.11,661.066 1739.33,661.066 1740.55,661.066 1741.77,661.066 1742.99,661.066 1744.21,661.066 1745.43,661.066 1746.65,661.066 1747.87,661.066 1749.09,661.066 1750.3,661.066 1751.52,661.066 1752.74,661.066 1753.96,661.066 1755.18,661.066 1756.4,661.066 1757.62,661.066 1758.84,661.066 1760.06,661.066 1761.28,661.066 1762.5,661.066 1763.72,661.066 1764.94,661.066 1766.16,661.066 1767.38,661.066 1768.6,661.066 1769.82,661.066 1771.04,661.066 1772.26,661.066 1773.48,661.066 1774.7,661.066 1775.92,661.066 1777.13,661.066 1778.35,661.066 1779.57,661.066 1780.79,661.066 1782.01,661.066 1783.23,661.066 1784.45,661.066 1785.67,661.066 1786.89,661.066 1788.11,661.066 1789.33,661.066 1790.55,661.066 1791.77,661.066 1792.99,661.066 1794.21,661.066 1795.43,661.066 1796.65,661.066 1797.87,661.066 1799.09,661.066 1800.31,661.066 1801.53,661.066 1802.74,661.066 1803.96,661.066 1805.18,661.066 1806.4,661.066 1807.62,661.066 1808.84,661.066 1810.06,661.066 1811.28,661.066 1812.5,661.066 1813.72,661.066 1814.94,661.066 1816.16,661.066 1817.38,661.066 1818.6,661.066 1819.82,661.066 1821.04,661.066 1822.26,661.066 1823.48,661.066 1824.7,661.066 1825.92,661.066 1827.14,661.066 1828.36,661.066 1829.57,661.066 1830.79,661.066 1832.01,661.066 1833.23,661.066 1834.45,661.066 1835.67,661.066 1836.89,661.066 1838.11,661.066 1839.33,661.066 1840.55,661.066 1841.77,661.066 1842.99,661.066 1844.21,661.066 1845.43,661.066 1846.65,661.066 1847.87,661.066 1849.09,661.066 1850.31,661.066 1851.53,661.066 1852.75,661.066 1853.97,661.066 1855.18,661.066 1856.4,661.066 1857.62,661.066 1858.84,661.066 1860.06,661.066 1861.28,661.066 1862.5,661.066 1863.72,661.066 1864.94,661.066 1866.16,661.066 1867.38,661.066 1868.6,661.066 1869.82,661.066 1871.04,661.066 1872.26,661.066 1873.48,661.066 1874.7,661.066 1875.92,661.066 1877.14,661.066 1878.36,661.066 1879.58,661.066 1880.8,661.066 1882.01,661.066 1883.23,661.066 1884.45,661.066 1885.67,661.066 1886.89,661.066 1888.11,661.066 1889.33,661.066 1890.55,661.066 1891.77,661.066 1892.99,661.066 1894.21,661.066 1895.43,661.066 1896.65,661.066 1897.87,661.066 1899.09,661.066 1900.31,661.066 1901.53,661.066 1902.75,661.066 1903.97,661.066 1905.19,661.066 1906.41,661.066 1907.63,661.066 1908.84,661.066 1910.06,661.066 1911.28,661.066 1912.5,661.066 1913.72,661.066 1914.94,661.066 1916.16,661.066 1917.38,661.066 1918.6,661.066 1919.82,661.066 1921.04,661.066 1922.26,661.066 1923.48,661.066 1924.7,661.066 1925.92,661.066 1927.14,661.066 1928.36,661.066 1929.58,661.066 1930.8,661.066 1932.02,661.066 1933.24,661.066 1934.45,661.066 1935.67,661.066 1936.89,661.066 1938.11,661.066 1939.33,661.066 1940.55,661.066 1941.77,661.066 1942.99,661.066 1944.21,661.066 1945.43,661.066 1946.65,661.066 1947.87,661.066 1949.09,661.066 1950.31,661.066 1951.53,661.066 1952.75,661.066 1953.97,661.066 1955.19,661.066 1956.41,661.066 1957.63,661.066 1958.85,661.066 1960.07,661.066 1961.28,661.066 1962.5,661.066 1963.72,661.066 1964.94,661.066 1966.16,661.066 1967.38,661.066 1968.6,661.066 1969.82,661.066 1971.04,661.066 1972.26,661.066 1973.48,661.066 1974.7,661.066 1975.92,661.066 1977.14,661.066 1978.36,661.066 1979.58,661.066 1980.8,661.066 1982.02,661.066 1983.24,661.066 1984.46,661.066 1985.68,661.066 1986.89,661.066 1988.11,661.066 1989.33,661.066 1990.55,661.066 1991.77,661.066 1992.99,661.066 1994.21,661.066 1995.43,661.066 1996.65,661.066 1997.87,661.066 1999.09,661.066 2000.31,661.066 2001.53,661.066 2002.75,661.066 2003.97,661.066 2005.19,661.066 2006.41,661.066 2007.63,661.066 2008.85,661.066 2010.07,661.066 2011.29,661.066 2012.51,661.066 2013.72,661.066 2014.94,661.066 2016.16,661.066 2017.38,661.066 2018.6,661.066 2019.82,661.066 2021.04,661.066 2022.26,661.066 2023.48,661.066 2024.7,661.066 2025.92,661.066 2027.14,661.066 2028.36,661.066 2029.58,661.066 2030.8,661.066 2032.02,661.066 2033.24,661.066 2034.46,661.066 2035.68,661.066 2036.9,661.066 2038.12,661.066 2039.33,661.066 2040.55,661.066 2041.77,661.066 2042.99,661.066 2044.21,661.066 2045.43,661.066 2046.65,661.066 2047.87,661.066 2049.09,661.066 2050.31,661.066 2051.53,661.066 2052.75,661.066 2053.97,661.066 2055.19,661.066 2056.41,661.066 2057.63,661.066 2058.85,661.066 2060.07,661.066 2061.29,661.066 2062.51,661.066 2063.73,661.066 2064.95,661.066 2066.16,661.066 2067.38,661.066 2068.6,661.066 2069.82,661.066 2071.04,661.066 2072.26,661.066 2073.48,661.066 2074.7,661.066 2075.92,661.066 2077.14,661.066 2078.36,661.066 2079.58,661.066 2080.8,661.066 2082.02,661.066 2083.24,661.066 2084.46,661.066 2085.68,661.066 2086.9,661.066 2088.12,661.066 2089.34,661.066 2090.56,661.066 2091.78,661.066 2092.99,661.066 2094.21,661.066 2095.43,661.066 2096.65,661.066 2097.87,661.066 2099.09,661.066 2100.31,661.066 2101.53,661.066 2102.75,661.066 2103.97,661.066 2105.19,661.066 2106.41,661.066 2107.63,661.066 2108.85,661.066 2110.07,661.066 2111.29,661.066 2112.51,661.066 2113.73,661.066 2114.95,661.066 2116.17,661.066 2117.39,661.066 2118.6,661.066 2119.82,661.066 2121.04,661.066 2122.26,661.066 2123.48,661.066 2124.7,661.066 2125.92,661.066 2127.14,661.066 2128.36,661.066 2129.58,661.066 2130.8,661.066 2132.02,661.066 2133.24,661.066 2134.46,661.066 2135.68,661.066 2136.9,661.066 2138.12,661.066 2139.34,661.066 2140.56,661.066 2141.78,661.066 2143,661.066 2144.22,661.066 2145.43,661.066 2146.65,661.066 2147.87,661.066 2149.09,661.066 2150.31,661.066 2151.53,661.066 2152.75,661.066 2153.97,661.066 2155.19,661.066 2156.41,661.066 2157.63,661.066 2158.85,661.066 2160.07,661.066 2161.29,661.066 2162.51,661.066 2163.73,661.066 2164.95,661.066 2166.17,661.066 2167.39,661.066 2168.61,661.066 2169.83,661.066 2171.04,661.066 2172.26,661.066 2173.48,661.066 2174.7,661.066 2175.92,661.066 2177.14,661.066 2178.36,661.066 2179.58,661.066 2180.8,661.066 2182.02,661.066 2183.24,661.066 2184.46,661.066 2185.68,661.066 2186.9,661.066 2188.12,661.066 2189.34,661.066 2190.56,661.066 2191.78,661.066 2193,661.066 2194.22,661.066 2195.44,661.066 2196.66,661.066 2197.87,661.066 2199.09,661.066 2200.31,661.066 2201.53,661.066 2202.75,661.066 2203.97,661.066 2205.19,661.066 2206.41,661.066 2207.63,661.066 2208.85,661.066 2210.07,661.066 2211.29,661.066 2212.51,661.066 2213.73,661.066 2214.95,661.066 2216.17,661.066 2217.39,661.066 2218.61,661.066 2219.83,661.066 2221.05,661.066 2222.27,661.066 2223.49,661.066 2224.7,661.066 2225.92,661.066 2227.14,661.066 2228.36,661.066 2229.58,661.066 2230.8,661.066 2232.02,661.066 2233.24,661.066 2234.46,661.066 2235.68,661.066 2236.9,661.066 2238.12,661.066 2239.34,661.066 2240.56,661.066 2241.78,661.066 2243,661.066 2244.22,661.066 2245.44,661.066 2246.66,661.066 2247.88,661.066 2249.1,661.066 2250.31,661.066 2251.53,661.066 2252.75,661.066 2253.97,661.066 2255.19,661.066 2256.41,661.066 2257.63,661.066 2258.85,661.066 2260.07,661.066 2261.29,661.066 2262.51,661.066 2263.73,661.066 2264.95,661.066 2266.17,661.066 2267.39,661.066 2268.61,661.066 2269.83,661.066 2271.05,661.066 2272.27,661.066 2273.49,661.066 2274.71,661.066 2275.93,661.066 2277.14,661.066 2278.36,661.066 2279.58,661.066 2280.8,661.066 2282.02,661.066 2283.24,661.066 2284.46,661.066 2285.68,661.066 2286.9,661.066 2288.12,661.066 2289.34,661.066 2290.56,661.066 2291.78,661.066 2293,661.066 2294.22,661.066 \"/>\n",
       "<path clip-path=\"url(#clip790)\" d=\"M1971.75 425.996 L2283.81 425.996 L2283.81 166.796 L1971.75 166.796  Z\" fill=\"#ffffff\" fill-rule=\"evenodd\" fill-opacity=\"1\"/>\n",
       "<polyline clip-path=\"url(#clip790)\" style=\"stroke:#000000; stroke-linecap:round; stroke-linejoin:round; stroke-width:4; stroke-opacity:1; fill:none\" points=\"1971.75,425.996 2283.81,425.996 2283.81,166.796 1971.75,166.796 1971.75,425.996 \"/>\n",
       "<polyline clip-path=\"url(#clip790)\" style=\"stroke:#009af9; stroke-linecap:round; stroke-linejoin:round; stroke-width:4; stroke-opacity:1; fill:none\" points=\"1994.73,218.636 2132.62,218.636 \"/>\n",
       "<path clip-path=\"url(#clip790)\" d=\"M2175.95 214.967 Q2177.54 212.096 2179.77 210.731 Q2181.99 209.365 2185 209.365 Q2189.05 209.365 2191.25 212.212 Q2193.45 215.036 2193.45 220.268 L2193.45 235.916 L2189.16 235.916 L2189.16 220.407 Q2189.16 216.68 2187.84 214.874 Q2186.52 213.069 2183.82 213.069 Q2180.51 213.069 2178.59 215.268 Q2176.66 217.467 2176.66 221.263 L2176.66 235.916 L2172.38 235.916 L2172.38 220.407 Q2172.38 216.657 2171.06 214.874 Q2169.74 213.069 2166.99 213.069 Q2163.72 213.069 2161.8 215.291 Q2159.88 217.49 2159.88 221.263 L2159.88 235.916 L2155.6 235.916 L2155.6 209.99 L2159.88 209.99 L2159.88 214.018 Q2161.34 211.633 2163.38 210.499 Q2165.41 209.365 2168.21 209.365 Q2171.04 209.365 2173.01 210.8 Q2175 212.235 2175.95 214.967 Z\" fill=\"#000000\" fill-rule=\"evenodd\" fill-opacity=\"1\" /><polyline clip-path=\"url(#clip790)\" style=\"stroke:#e26f46; stroke-linecap:round; stroke-linejoin:round; stroke-width:4; stroke-opacity:1; fill:none\" points=\"1994.73,270.476 2132.62,270.476 \"/>\n",
       "<path clip-path=\"url(#clip790)\" d=\"M2174.37 274.816 Q2174.37 270.117 2172.43 267.455 Q2170.51 264.77 2167.13 264.77 Q2163.75 264.77 2161.8 267.455 Q2159.88 270.117 2159.88 274.816 Q2159.88 279.515 2161.8 282.2 Q2163.75 284.862 2167.13 284.862 Q2170.51 284.862 2172.43 282.2 Q2174.37 279.515 2174.37 274.816 M2159.88 265.765 Q2161.22 263.45 2163.26 262.339 Q2165.32 261.205 2168.17 261.205 Q2172.89 261.205 2175.83 264.955 Q2178.79 268.705 2178.79 274.816 Q2178.79 280.927 2175.83 284.677 Q2172.89 288.427 2168.17 288.427 Q2165.32 288.427 2163.26 287.316 Q2161.22 286.182 2159.88 283.867 L2159.88 287.756 L2155.6 287.756 L2155.6 251.737 L2159.88 251.737 L2159.88 265.765 Z\" fill=\"#000000\" fill-rule=\"evenodd\" fill-opacity=\"1\" /><path clip-path=\"url(#clip790)\" d=\"M2208.03 273.728 L2208.03 275.811 L2188.45 275.811 Q2188.72 280.209 2191.08 282.524 Q2193.47 284.816 2197.71 284.816 Q2200.16 284.816 2202.45 284.214 Q2204.77 283.612 2207.03 282.409 L2207.03 286.436 Q2204.74 287.408 2202.33 287.918 Q2199.93 288.427 2197.45 288.427 Q2191.25 288.427 2187.61 284.816 Q2184 281.205 2184 275.047 Q2184 268.682 2187.43 264.955 Q2190.88 261.205 2196.71 261.205 Q2201.94 261.205 2204.97 264.585 Q2208.03 267.941 2208.03 273.728 M2203.77 272.478 Q2203.72 268.983 2201.8 266.899 Q2199.9 264.816 2196.76 264.816 Q2193.19 264.816 2191.04 266.83 Q2188.91 268.844 2188.58 272.501 L2203.77 272.478 Z\" fill=\"#000000\" fill-rule=\"evenodd\" fill-opacity=\"1\" /><path clip-path=\"url(#clip790)\" d=\"M2219.23 254.469 L2219.23 261.83 L2228.01 261.83 L2228.01 265.14 L2219.23 265.14 L2219.23 279.214 Q2219.23 282.385 2220.09 283.288 Q2220.97 284.191 2223.63 284.191 L2228.01 284.191 L2228.01 287.756 L2223.63 287.756 Q2218.7 287.756 2216.83 285.927 Q2214.95 284.075 2214.95 279.214 L2214.95 265.14 L2211.83 265.14 L2211.83 261.83 L2214.95 261.83 L2214.95 254.469 L2219.23 254.469 Z\" fill=\"#000000\" fill-rule=\"evenodd\" fill-opacity=\"1\" /><path clip-path=\"url(#clip790)\" d=\"M2245.39 274.723 Q2240.23 274.723 2238.24 275.904 Q2236.25 277.084 2236.25 279.932 Q2236.25 282.2 2237.73 283.543 Q2239.23 284.862 2241.8 284.862 Q2245.34 284.862 2247.47 282.362 Q2249.63 279.839 2249.63 275.672 L2249.63 274.723 L2245.39 274.723 M2253.89 272.964 L2253.89 287.756 L2249.63 287.756 L2249.63 283.821 Q2248.17 286.182 2245.99 287.316 Q2243.82 288.427 2240.67 288.427 Q2236.69 288.427 2234.33 286.205 Q2231.99 283.959 2231.99 280.209 Q2231.99 275.834 2234.9 273.612 Q2237.84 271.39 2243.65 271.39 L2249.63 271.39 L2249.63 270.973 Q2249.63 268.034 2247.68 266.436 Q2245.76 264.816 2242.27 264.816 Q2240.04 264.816 2237.94 265.348 Q2235.83 265.881 2233.89 266.946 L2233.89 263.01 Q2236.22 262.108 2238.42 261.668 Q2240.62 261.205 2242.71 261.205 Q2248.33 261.205 2251.11 264.122 Q2253.89 267.038 2253.89 272.964 Z\" fill=\"#000000\" fill-rule=\"evenodd\" fill-opacity=\"1\" /><polyline clip-path=\"url(#clip790)\" style=\"stroke:#3da44d; stroke-linecap:round; stroke-linejoin:round; stroke-width:4; stroke-opacity:1; fill:none\" points=\"1994.73,322.316 2132.62,322.316 \"/>\n",
       "<path clip-path=\"url(#clip790)\" d=\"M2159.88 335.707 L2159.88 349.457 L2155.6 349.457 L2155.6 313.67 L2159.88 313.67 L2159.88 317.605 Q2161.22 315.29 2163.26 314.179 Q2165.32 313.045 2168.17 313.045 Q2172.89 313.045 2175.83 316.795 Q2178.79 320.545 2178.79 326.656 Q2178.79 332.767 2175.83 336.517 Q2172.89 340.267 2168.17 340.267 Q2165.32 340.267 2163.26 339.156 Q2161.22 338.022 2159.88 335.707 M2174.37 326.656 Q2174.37 321.957 2172.43 319.295 Q2170.51 316.61 2167.13 316.61 Q2163.75 316.61 2161.8 319.295 Q2159.88 321.957 2159.88 326.656 Q2159.88 331.355 2161.8 334.04 Q2163.75 336.702 2167.13 336.702 Q2170.51 336.702 2172.43 334.04 Q2174.37 331.355 2174.37 326.656 Z\" fill=\"#000000\" fill-rule=\"evenodd\" fill-opacity=\"1\" /><path clip-path=\"url(#clip790)\" d=\"M2202.38 314.434 L2202.38 318.462 Q2200.58 317.536 2198.63 317.073 Q2196.69 316.61 2194.6 316.61 Q2191.43 316.61 2189.83 317.582 Q2188.26 318.554 2188.26 320.499 Q2188.26 321.98 2189.4 322.837 Q2190.53 323.67 2193.96 324.434 L2195.41 324.758 Q2199.95 325.73 2201.85 327.512 Q2203.77 329.272 2203.77 332.443 Q2203.77 336.054 2200.9 338.161 Q2198.05 340.267 2193.05 340.267 Q2190.97 340.267 2188.7 339.85 Q2186.46 339.457 2183.96 338.647 L2183.96 334.249 Q2186.32 335.475 2188.61 336.1 Q2190.9 336.702 2193.15 336.702 Q2196.15 336.702 2197.77 335.684 Q2199.4 334.642 2199.4 332.767 Q2199.4 331.031 2198.21 330.105 Q2197.06 329.179 2193.1 328.323 L2191.62 327.975 Q2187.66 327.142 2185.9 325.429 Q2184.14 323.693 2184.14 320.684 Q2184.14 317.026 2186.73 315.036 Q2189.33 313.045 2194.09 313.045 Q2196.46 313.045 2198.54 313.392 Q2200.62 313.739 2202.38 314.434 Z\" fill=\"#000000\" fill-rule=\"evenodd\" fill-opacity=\"1\" /><path clip-path=\"url(#clip790)\" d=\"M2210.55 313.67 L2214.81 313.67 L2214.81 339.596 L2210.55 339.596 L2210.55 313.67 M2210.55 303.577 L2214.81 303.577 L2214.81 308.971 L2210.55 308.971 L2210.55 303.577 Z\" fill=\"#000000\" fill-rule=\"evenodd\" fill-opacity=\"1\" /><polyline clip-path=\"url(#clip790)\" style=\"stroke:#c271d2; stroke-linecap:round; stroke-linejoin:round; stroke-width:4; stroke-opacity:1; fill:none\" points=\"1994.73,374.156 2132.62,374.156 \"/>\n",
       "<path clip-path=\"url(#clip790)\" d=\"M2159.88 387.547 L2159.88 401.297 L2155.6 401.297 L2155.6 365.51 L2159.88 365.51 L2159.88 369.445 Q2161.22 367.13 2163.26 366.019 Q2165.32 364.885 2168.17 364.885 Q2172.89 364.885 2175.83 368.635 Q2178.79 372.385 2178.79 378.496 Q2178.79 384.607 2175.83 388.357 Q2172.89 392.107 2168.17 392.107 Q2165.32 392.107 2163.26 390.996 Q2161.22 389.862 2159.88 387.547 M2174.37 378.496 Q2174.37 373.797 2172.43 371.135 Q2170.51 368.45 2167.13 368.45 Q2163.75 368.45 2161.8 371.135 Q2159.88 373.797 2159.88 378.496 Q2159.88 383.195 2161.8 385.88 Q2163.75 388.542 2167.13 388.542 Q2170.51 388.542 2172.43 385.88 Q2174.37 383.195 2174.37 378.496 Z\" fill=\"#000000\" fill-rule=\"evenodd\" fill-opacity=\"1\" /><path clip-path=\"url(#clip790)\" d=\"M2202.38 366.274 L2202.38 370.302 Q2200.58 369.376 2198.63 368.913 Q2196.69 368.45 2194.6 368.45 Q2191.43 368.45 2189.83 369.422 Q2188.26 370.394 2188.26 372.339 Q2188.26 373.82 2189.4 374.677 Q2190.53 375.51 2193.96 376.274 L2195.41 376.598 Q2199.95 377.57 2201.85 379.352 Q2203.77 381.112 2203.77 384.283 Q2203.77 387.894 2200.9 390.001 Q2198.05 392.107 2193.05 392.107 Q2190.97 392.107 2188.7 391.69 Q2186.46 391.297 2183.96 390.487 L2183.96 386.089 Q2186.32 387.315 2188.61 387.94 Q2190.9 388.542 2193.15 388.542 Q2196.15 388.542 2197.77 387.524 Q2199.4 386.482 2199.4 384.607 Q2199.4 382.871 2198.21 381.945 Q2197.06 381.019 2193.1 380.163 L2191.62 379.815 Q2187.66 378.982 2185.9 377.269 Q2184.14 375.533 2184.14 372.524 Q2184.14 368.866 2186.73 366.876 Q2189.33 364.885 2194.09 364.885 Q2196.46 364.885 2198.54 365.232 Q2200.62 365.579 2202.38 366.274 Z\" fill=\"#000000\" fill-rule=\"evenodd\" fill-opacity=\"1\" /><path clip-path=\"url(#clip790)\" d=\"M2210.55 365.51 L2214.81 365.51 L2214.81 391.436 L2210.55 391.436 L2210.55 365.51 M2210.55 355.417 L2214.81 355.417 L2214.81 360.811 L2210.55 360.811 L2210.55 355.417 Z\" fill=\"#000000\" fill-rule=\"evenodd\" fill-opacity=\"1\" /><path clip-path=\"url(#clip790)\" d=\"M2224.81 385.556 L2229.7 385.556 L2229.7 389.538 L2225.9 396.945 L2222.91 396.945 L2224.81 389.538 L2224.81 385.556 Z\" fill=\"#000000\" fill-rule=\"evenodd\" fill-opacity=\"1\" /><path clip-path=\"url(#clip790)\" d=\"M2260.34 365.51 L2250.97 378.126 L2260.83 391.436 L2255.81 391.436 L2248.26 381.251 L2240.71 391.436 L2235.69 391.436 L2245.76 377.871 L2236.55 365.51 L2241.57 365.51 L2248.45 374.746 L2255.32 365.51 L2260.34 365.51 Z\" fill=\"#000000\" fill-rule=\"evenodd\" fill-opacity=\"1\" /></svg>\n"
      ]
     },
     "execution_count": 441,
     "metadata": {},
     "output_type": "execute_result"
    }
   ],
   "source": [
    "using Plots #showing initial data and the initial status of the horizon finder\n",
    "plot(initX[4:L-3], state_array[4:L-3,1:4], xaxis=\"x\",title=\"Initial Data\", labels=[\"m\" \"beta\" \"psi\" \"psi,x\"])"
   ]
  },
  {
   "cell_type": "markdown",
   "id": "9b444ece",
   "metadata": {
    "papermill": {
     "duration": 0.009161,
     "end_time": "2023-03-28T18:06:25.373170",
     "exception": false,
     "start_time": "2023-03-28T18:06:25.364009",
     "status": "completed"
    },
    "tags": []
   },
   "source": [
    "# Defining the initial state array for the evolution m β Ψ and Ψ,x"
   ]
  },
  {
   "cell_type": "code",
   "execution_count": 442,
   "id": "9902ffab",
   "metadata": {
    "execution": {
     "iopub.execute_input": "2023-03-28T19:06:25.389000Z",
     "iopub.status.busy": "2023-03-28T19:06:25.388000Z",
     "iopub.status.idle": "2023-03-28T19:06:32.710000Z",
     "shell.execute_reply": "2023-03-28T19:06:32.710000Z"
    },
    "papermill": {
     "duration": 7.335269,
     "end_time": "2023-03-28T18:06:32.715990",
     "exception": false,
     "start_time": "2023-03-28T18:06:25.380721",
     "status": "completed"
    },
    "tags": []
   },
   "outputs": [],
   "source": [
    "using CSV, Tables, Printf\n",
    "#CSV.write(dir*\"/time_step0.csv\", Tables.table(transpose(Matrix(state_array))), writeheader=false)\n",
    "CSV.write(dir*\"/res$res/time_step0.csv\", Tables.table(state_array), writeheader=false)\n",
    "\n",
    "open(dir*\"/res$res/data.txt\", \"w\") do file\n",
    "    print_muninn(file, 0, state_array[:,1:5])\n",
    "end"
   ]
  },
  {
   "cell_type": "code",
   "execution_count": 443,
   "id": "fff1426a",
   "metadata": {
    "execution": {
     "iopub.execute_input": "2023-03-28T19:06:33.154000Z",
     "iopub.status.busy": "2023-03-28T19:06:32.734000Z",
     "iopub.status.idle": "2023-03-28T19:06:33.884000Z",
     "shell.execute_reply": "2023-03-28T19:06:33.884000Z"
    },
    "papermill": {
     "duration": 1.164178,
     "end_time": "2023-03-28T18:06:33.889802",
     "exception": false,
     "start_time": "2023-03-28T18:06:32.725624",
     "status": "completed"
    },
    "tags": []
   },
   "outputs": [
    {
     "data": {
      "text/plain": [
       "\"/home/rita13santos/Desktop/MSc Thesis/Git/ScalarField/DATA/parameters.csv\""
      ]
     },
     "execution_count": 443,
     "metadata": {},
     "output_type": "execute_result"
    }
   ],
   "source": [
    "time=0.0\n",
    "criticality=0.0\n",
    "explode=0.0\n",
    "evol_stats = [criticality A sigma r0 time explode run]\n",
    "monitor_ratio = zeros(L)\n",
    "CSV.write(dir*\"/parameters.csv\", Tables.table(evol_stats), writeheader=true, header=[\"criticality\", \"A\", \"sigma\", \"r0\", \"time\", \"explode\", \"run\"])"
   ]
  },
  {
   "cell_type": "code",
   "execution_count": 444,
   "id": "9e9abd7d",
   "metadata": {},
   "outputs": [
    {
     "name": "stdout",
     "output_type": "stream",
     "text": [
      "1.0\n"
     ]
    }
   ],
   "source": [
    "ginit=dt_scale(initX,state_array[:,1],state_array[:,2],dx)\n",
    "println(update_dt(initX,state_array[:,1],state_array[:,2],dx,ginit)/dt)"
   ]
  },
  {
   "cell_type": "markdown",
   "id": "42e2c73d",
   "metadata": {
    "papermill": {
     "duration": 0.007626,
     "end_time": "2023-03-28T18:06:33.908346",
     "exception": false,
     "start_time": "2023-03-28T18:06:33.900720",
     "status": "completed"
    },
    "tags": []
   },
   "source": [
    " ## Time evolution"
   ]
  },
  {
   "cell_type": "markdown",
   "id": "7da47594",
   "metadata": {
    "papermill": {
     "duration": 0.007471,
     "end_time": "2023-03-28T18:06:33.923805",
     "exception": false,
     "start_time": "2023-03-28T18:06:33.916334",
     "status": "completed"
    },
    "tags": []
   },
   "source": [
    "fixed grid"
   ]
  },
  {
   "cell_type": "code",
   "execution_count": 445,
   "id": "fcb7ae3f",
   "metadata": {
    "execution": {
     "iopub.execute_input": "2023-03-28T19:06:33.940000Z",
     "iopub.status.busy": "2023-03-28T19:06:33.940000Z",
     "iopub.status.idle": "2023-03-28T21:02:19.379000Z",
     "shell.execute_reply": "2023-03-28T21:02:19.378000Z"
    },
    "papermill": {
     "duration": 6945.452732,
     "end_time": "2023-03-28T20:02:19.384591",
     "exception": false,
     "start_time": "2023-03-28T18:06:33.931859",
     "status": "completed"
    },
    "tags": []
   },
   "outputs": [
    {
     "name": "stdout",
     "output_type": "stream",
     "text": [
      "iteration 10 dt is 0.000625, time of iteration is 0.00625\n",
      "iteration 20 dt is 0.000625, time of iteration is 0.0125\n",
      "iteration 30 dt is 0.000625, time of iteration is 0.01875\n",
      "iteration 40 dt is 0.000625, time of iteration is 0.025\n",
      "iteration 50 dt is 0.000625, time of iteration is 0.03125\n",
      "iteration 60 dt is 0.000625, time of iteration is 0.0375\n",
      "iteration 70 dt is 0.000625, time of iteration is 0.04375\n",
      "iteration 80 dt is 0.000625, time of iteration is 0.05\n",
      "iteration 90 dt is 0.000625, time of iteration is 0.05625\n",
      "iteration 100 dt is 0.000625, time of iteration is 0.0625\n",
      "iteration 110 dt is 0.000625, time of iteration is 0.06875\n",
      "iteration 120 dt is 0.000625, time of iteration is 0.075\n",
      "iteration 130 dt is 0.000625, time of iteration is 0.08125\n",
      "iteration 140 dt is 0.000625, time of iteration is 0.0875\n",
      "iteration 150 dt is 0.000625, time of iteration is 0.09375\n",
      "iteration 160 dt is 0.000625, time of iteration is 0.1\n",
      "iteration 170 dt is 0.000625, time of iteration is 0.10625\n",
      "iteration 180 dt is 0.000625, time of iteration is 0.1125\n",
      "iteration 190 dt is 0.000625, time of iteration is 0.11875\n",
      "iteration 200 dt is 0.000625, time of iteration is 0.125\n",
      "iteration 210 dt is 0.000625, time of iteration is 0.13125\n",
      "iteration 220 dt is 0.000625, time of iteration is 0.1375\n",
      "iteration 230 dt is 0.000625, time of iteration is 0.14375\n",
      "iteration 240 dt is 0.000625, time of iteration is 0.15\n",
      "iteration 250 dt is 0.000625, time of iteration is 0.15625\n",
      "iteration 260 dt is 0.000625, time of iteration is 0.1625\n",
      "iteration 270 dt is 0.000625, time of iteration is 0.16875\n",
      "iteration 280 dt is 0.000625, time of iteration is 0.175\n",
      "iteration 290 dt is 0.000625, time of iteration is 0.18125\n",
      "iteration 300 dt is 0.000625, time of iteration is 0.1875\n",
      "iteration 310 dt is 0.000625, time of iteration is 0.19375\n",
      "iteration 320 dt is 0.000625, time of iteration is 0.2\n",
      "iteration 330 dt is 0.000625, time of iteration is 0.20625\n",
      "iteration 340 dt is 0.000625, time of iteration is 0.2125\n",
      "iteration 350 dt is 0.000625, time of iteration is 0.21875\n",
      "iteration 360 dt is 0.000625, time of iteration is 0.225\n",
      "iteration 370 dt is 0.000625, time of iteration is 0.23125\n",
      "iteration 380 dt is 0.000625, time of iteration is 0.2375\n",
      "iteration 390 dt is 0.000625, time of iteration is 0.24375\n",
      "iteration 400 dt is 0.000625, time of iteration is 0.25\n",
      "iteration 410 dt is 0.000625, time of iteration is 0.25625\n",
      "iteration 420 dt is 0.000625, time of iteration is 0.2625\n",
      "iteration 430 dt is 0.000625, time of iteration is 0.26875\n",
      "iteration 440 dt is 0.000625, time of iteration is 0.275\n",
      "iteration 450 dt is 0.000625, time of iteration is 0.28125\n",
      "iteration 460 dt is 0.000625, time of iteration is 0.2875\n",
      "iteration 470 dt is 0.000625, time of iteration is 0.29375\n",
      "iteration 480 dt is 0.000625, time of iteration is 0.3\n",
      "iteration 490 dt is 0.000625, time of iteration is 0.30625\n",
      "iteration 500 dt is 0.000625, time of iteration is 0.3125\n",
      "iteration 510 dt is 0.000625, time of iteration is 0.31875\n",
      "iteration 520 dt is 0.000625, time of iteration is 0.325\n",
      "iteration 530 dt is 0.000625, time of iteration is 0.33125\n",
      "iteration 540 dt is 0.000625, time of iteration is 0.3375\n",
      "iteration 550 dt is 0.000625, time of iteration is 0.34375\n",
      "iteration 560 dt is 0.000625, time of iteration is 0.35\n",
      "iteration 570 dt is 0.000625, time of iteration is 0.35625\n",
      "iteration 580 dt is 0.000625, time of iteration is 0.3625\n",
      "iteration 590 dt is 0.000625, time of iteration is 0.36875\n",
      "iteration 600 dt is 0.000625, time of iteration is 0.375\n",
      "iteration 610 dt is 0.000625, time of iteration is 0.38125\n",
      "iteration 620 dt is 0.000625, time of iteration is 0.3875\n",
      "iteration 630 dt is 0.000625, time of iteration is 0.39375\n",
      "iteration 640 dt is 0.000625, time of iteration is 0.4\n",
      "iteration 650 dt is 0.000625, time of iteration is 0.40625\n",
      "iteration 660 dt is 0.000625, time of iteration is 0.4125\n",
      "iteration 670 dt is 0.000625, time of iteration is 0.41875\n",
      "iteration 680 dt is 0.000625, time of iteration is 0.425\n",
      "iteration 690 dt is 0.000625, time of iteration is 0.43125\n",
      "iteration 700 dt is 0.000625, time of iteration is 0.4375\n",
      "iteration 710 dt is 0.000625, time of iteration is 0.44375\n",
      "iteration 720 dt is 0.000625, time of iteration is 0.45\n",
      "iteration 730 dt is 0.000625, time of iteration is 0.45625\n",
      "iteration 740 dt is 0.000625, time of iteration is 0.4625\n",
      "iteration 750 dt is 0.000625, time of iteration is 0.46875\n",
      "iteration 760 dt is 0.000625, time of iteration is 0.475\n",
      "iteration 770 dt is 0.000625, time of iteration is 0.48125\n",
      "iteration 780 dt is 0.000625, time of iteration is 0.4875\n",
      "iteration 790 dt is 0.000625, time of iteration is 0.49375\n",
      "iteration 800 dt is 0.000625, time of iteration is 0.5\n",
      "iteration 810 dt is 0.000625, time of iteration is 0.50625\n",
      "iteration 820 dt is 0.000625, time of iteration is 0.5125\n",
      "iteration 830 dt is 0.000625, time of iteration is 0.51875\n",
      "iteration 840 dt is 0.000625, time of iteration is 0.525\n",
      "iteration 850 dt is 0.000625, time of iteration is 0.53125\n",
      "iteration 860 dt is 0.000625, time of iteration is 0.5375\n",
      "iteration 870 dt is 0.000625, time of iteration is 0.54375\n",
      "iteration 880 dt is 0.000625, time of iteration is 0.55\n",
      "iteration 890 dt is 0.000625, time of iteration is 0.55625\n",
      "iteration 900 dt is 0.000625, time of iteration is 0.5625\n",
      "iteration 910 dt is 0.000625, time of iteration is 0.56875\n",
      "iteration 920 dt is 0.000625, time of iteration is 0.575\n",
      "iteration 930 dt is 0.000625, time of iteration is 0.58125\n",
      "iteration 940 dt is 0.000625, time of iteration is 0.5875\n",
      "iteration 950 dt is 0.000625, time of iteration is 0.59375\n",
      "iteration 960 dt is 0.000625, time of iteration is 0.6\n",
      "iteration 970 dt is 0.000625, time of iteration is 0.60625\n",
      "iteration 980 dt is 0.000625, time of iteration is 0.6125\n",
      "iteration 990 dt is 0.000625, time of iteration is 0.61875\n",
      "iteration 1000 dt is 0.000625, time of iteration is 0.625\n",
      "iteration 1010 dt is 0.000625, time of iteration is 0.63125\n",
      "iteration 1020 dt is 0.000625, time of iteration is 0.6375\n",
      "iteration 1030 dt is 0.000625, time of iteration is 0.64375\n",
      "iteration 1040 dt is 0.000625, time of iteration is 0.65\n",
      "iteration 1050 dt is 0.000625, time of iteration is 0.65625\n",
      "iteration 1060 dt is 0.000625, time of iteration is 0.6625\n",
      "iteration 1070 dt is 0.000625, time of iteration is 0.66875\n",
      "iteration 1080 dt is 0.000625, time of iteration is 0.675\n",
      "iteration 1090 dt is 0.000625, time of iteration is 0.68125\n",
      "iteration 1100 dt is 0.000625, time of iteration is 0.6875\n",
      "iteration 1110 dt is 0.000625, time of iteration is 0.69375\n",
      "iteration 1120 dt is 0.000625, time of iteration is 0.7\n",
      "iteration 1130 dt is 0.000625, time of iteration is 0.70625\n",
      "iteration 1140 dt is 0.000625, time of iteration is 0.7125\n",
      "iteration 1150 dt is 0.000625, time of iteration is 0.71875\n",
      "iteration 1160 dt is 0.000625, time of iteration is 0.725\n",
      "iteration 1170 dt is 0.000625, time of iteration is 0.73125\n",
      "iteration 1180 dt is 0.000625, time of iteration is 0.7375\n",
      "iteration 1190 dt is 0.000625, time of iteration is 0.74375\n",
      "iteration 1200 dt is 0.000625, time of iteration is 0.75\n",
      "iteration 1210 dt is 0.000625, time of iteration is 0.75625\n",
      "iteration 1220 dt is 0.000625, time of iteration is 0.7625\n",
      "iteration 1230 dt is 0.000625, time of iteration is 0.76875\n",
      "iteration 1240 dt is 0.000625, time of iteration is 0.775\n",
      "iteration 1250 dt is 0.000625, time of iteration is 0.78125\n",
      "iteration 1260 dt is 0.000625, time of iteration is 0.7875\n",
      "iteration 1270 dt is 0.000625, time of iteration is 0.79375\n",
      "iteration 1280 dt is 0.000625, time of iteration is 0.8\n",
      "iteration 1290 dt is 0.000625, time of iteration is 0.80625\n",
      "iteration 1300 dt is 0.000625, time of iteration is 0.8125\n",
      "iteration 1310 dt is 0.000625, time of iteration is 0.81875\n",
      "iteration 1320 dt is 0.000625, time of iteration is 0.825\n",
      "iteration 1330 dt is 0.000625, time of iteration is 0.83125\n",
      "iteration 1340 dt is 0.000625, time of iteration is 0.8375\n",
      "iteration 1350 dt is 0.000625, time of iteration is 0.84375\n",
      "iteration 1360 dt is 0.000625, time of iteration is 0.85\n",
      "iteration 1370 dt is 0.000625, time of iteration is 0.85625\n",
      "iteration 1380 dt is 0.000625, time of iteration is 0.8625\n",
      "iteration 1390 dt is 0.000625, time of iteration is 0.86875\n",
      "iteration 1400 dt is 0.000625, time of iteration is 0.875\n",
      "iteration 1410 dt is 0.000625, time of iteration is 0.88125\n"
     ]
    },
    {
     "name": "stdout",
     "output_type": "stream",
     "text": [
      "iteration 1420 dt is 0.000625, time of iteration is 0.8875\n",
      "iteration 1430 dt is 0.000625, time of iteration is 0.89375\n",
      "iteration 1440 dt is 0.000625, time of iteration is 0.9\n",
      "iteration 1450 dt is 0.000625, time of iteration is 0.90625\n",
      "iteration 1460 dt is 0.000625, time of iteration is 0.9125\n",
      "iteration 1470 dt is 0.000625, time of iteration is 0.91875\n",
      "iteration 1480 dt is 0.000625, time of iteration is 0.925\n",
      "iteration 1490 dt is 0.000625, time of iteration is 0.93125\n",
      "iteration 1500 dt is 0.000625, time of iteration is 0.9375\n",
      "iteration 1510 dt is 0.000625, time of iteration is 0.94375\n",
      "iteration 1520 dt is 0.000625, time of iteration is 0.95\n",
      "iteration 1530 dt is 0.000625, time of iteration is 0.95625\n",
      "iteration 1540 dt is 0.000625, time of iteration is 0.9625\n",
      "iteration 1550 dt is 0.000625, time of iteration is 0.96875\n",
      "iteration 1560 dt is 0.000625, time of iteration is 0.975\n",
      "iteration 1570 dt is 0.000625, time of iteration is 0.98125\n",
      "iteration 1580 dt is 0.000625, time of iteration is 0.9875\n",
      "iteration 1590 dt is 0.000625, time of iteration is 0.99375\n",
      "iteration 1600 dt is 0.000625, time of iteration is 1.0\n",
      "iteration 1610 dt is 0.000625, time of iteration is 1.00625\n",
      "iteration 1620 dt is 0.000625, time of iteration is 1.0125\n",
      "iteration 1630 dt is 0.000625, time of iteration is 1.01875\n",
      "iteration 1640 dt is 0.000625, time of iteration is 1.025\n",
      "iteration 1650 dt is 0.000625, time of iteration is 1.03125\n",
      "iteration 1660 dt is 0.000625, time of iteration is 1.0375\n",
      "iteration 1670 dt is 0.000625, time of iteration is 1.04375\n",
      "iteration 1680 dt is 0.000625, time of iteration is 1.05\n",
      "iteration 1690 dt is 0.000625, time of iteration is 1.05625\n",
      "iteration 1700 dt is 0.000625, time of iteration is 1.0625\n",
      "iteration 1710 dt is 0.000625, time of iteration is 1.06875\n",
      "iteration 1720 dt is 0.000625, time of iteration is 1.075\n",
      "iteration 1730 dt is 0.000625, time of iteration is 1.08125\n",
      "iteration 1740 dt is 0.000625, time of iteration is 1.0875\n",
      "iteration 1750 dt is 0.000625, time of iteration is 1.09375\n",
      "iteration 1760 dt is 0.000625, time of iteration is 1.1\n",
      "iteration 1770 dt is 0.000625, time of iteration is 1.10625\n",
      "iteration 1780 dt is 0.000625, time of iteration is 1.1125\n",
      "iteration 1790 dt is 0.000625, time of iteration is 1.11875\n",
      "iteration 1800 dt is 0.000625, time of iteration is 1.125\n",
      "iteration 1810 dt is 0.000625, time of iteration is 1.13125\n",
      "iteration 1820 dt is 0.000625, time of iteration is 1.1375\n",
      "iteration 1830 dt is 0.000625, time of iteration is 1.14375\n",
      "iteration 1840 dt is 0.000625, time of iteration is 1.15\n",
      "iteration 1850 dt is 0.000625, time of iteration is 1.15625\n",
      "iteration 1860 dt is 0.000625, time of iteration is 1.1625\n",
      "iteration 1870 dt is 0.000625, time of iteration is 1.16875\n",
      "iteration 1880 dt is 0.000625, time of iteration is 1.175\n",
      "iteration 1890 dt is 0.000625, time of iteration is 1.18125\n",
      "iteration 1900 dt is 0.000625, time of iteration is 1.1875\n",
      "iteration 1910 dt is 0.000625, time of iteration is 1.19375\n",
      "iteration 1920 dt is 0.000625, time of iteration is 1.2\n",
      "iteration 1930 dt is 0.000625, time of iteration is 1.20625\n",
      "iteration 1940 dt is 0.000625, time of iteration is 1.2125\n",
      "iteration 1950 dt is 0.000625, time of iteration is 1.21875\n",
      "iteration 1960 dt is 0.000625, time of iteration is 1.225\n",
      "iteration 1970 dt is 0.000625, time of iteration is 1.23125\n",
      "iteration 1980 dt is 0.000625, time of iteration is 1.2375\n",
      "iteration 1990 dt is 0.000625, time of iteration is 1.24375\n",
      "iteration 2000 dt is 0.000625, time of iteration is 1.25\n",
      "iteration 2010 dt is 0.000625, time of iteration is 1.25625\n",
      "iteration 2020 dt is 0.000625, time of iteration is 1.2625\n",
      "iteration 2030 dt is 0.000625, time of iteration is 1.26875\n",
      "iteration 2040 dt is 0.000625, time of iteration is 1.275\n",
      "iteration 2050 dt is 0.000625, time of iteration is 1.28125\n",
      "iteration 2060 dt is 0.000625, time of iteration is 1.2875\n",
      "iteration 2070 dt is 0.000625, time of iteration is 1.29375\n",
      "iteration 2080 dt is 0.000625, time of iteration is 1.3\n"
     ]
    }
   ],
   "source": [
    "finaltime=1.3#2#1.3#0.08*2#0.005*10*5#1#0.9#0.8#0.04*5*4#length(T)-1\n",
    "evol_stats, T_interp = timeevolution(state_array,finaltime,dir*\"/res$res\",run,auxstate_array);\n",
    "CSV.write(dir*\"/timearray$res.csv\", Tables.table(T_interp), writeheader=false);\n",
    "#CSV.write(dir*\"/parameters.csv\", Tables.table(evol_stats), writeheader=false);"
   ]
  },
  {
   "cell_type": "code",
   "execution_count": null,
   "id": "92b6a47c",
   "metadata": {},
   "outputs": [],
   "source": []
  },
  {
   "cell_type": "code",
   "execution_count": null,
   "id": "89a36d17",
   "metadata": {},
   "outputs": [],
   "source": []
  },
  {
   "cell_type": "code",
   "execution_count": null,
   "id": "e8cf6a68",
   "metadata": {},
   "outputs": [],
   "source": []
  },
  {
   "cell_type": "code",
   "execution_count": null,
   "id": "3b33adb7",
   "metadata": {},
   "outputs": [],
   "source": []
  },
  {
   "cell_type": "code",
   "execution_count": null,
   "id": "6982fce3",
   "metadata": {},
   "outputs": [],
   "source": []
  },
  {
   "cell_type": "markdown",
   "id": "715897d3",
   "metadata": {
    "papermill": {
     "duration": 0.007626,
     "end_time": "2023-03-28T18:06:33.908346",
     "exception": false,
     "start_time": "2023-03-28T18:06:33.900720",
     "status": "completed"
    },
    "tags": []
   },
   "source": [
    " ## Movie of the evolution"
   ]
  },
  {
   "cell_type": "code",
   "execution_count": 107,
   "id": "973cea47",
   "metadata": {},
   "outputs": [
    {
     "name": "stderr",
     "output_type": "stream",
     "text": [
      "\u001b[36m\u001b[1m[ \u001b[22m\u001b[39m\u001b[36m\u001b[1mInfo: \u001b[22m\u001b[39mSaved animation to /home/rita13santos/Desktop/MSc Thesis/Git/ScalarField/anim_res1.gif\n"
     ]
    },
    {
     "data": {
      "text/html": [
       "<img src=\"data:image/gif;base64,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\" />"
      ],
      "text/plain": [
       "Plots.AnimatedGif(\"/home/rita13santos/Desktop/MSc Thesis/Git/ScalarField/anim_res1.gif\")"
      ]
     },
     "execution_count": 107,
     "metadata": {},
     "output_type": "execute_result"
    }
   ],
   "source": [
    "using Plots, CSV, DataFrames\n",
    "import GR\n",
    "anim = @animate for n in 10:10:80\n",
    "    \n",
    "    \n",
    "    IJulia.clear_output(true)\n",
    "    \n",
    "    functions3=DataFrame(CSV.File(dir*\"/res$res/time_step$n.csv\",header=false, delim=\",\"))\n",
    "    plot()\n",
    "        plot1=functions3.Column1[4:L-3];\n",
    "        plot2=functions3.Column2[4:L-3];\n",
    "        plot3=functions3.Column3[4:L-3];\n",
    "        plot4=functions3.Column4[4:L-3];\n",
    "        plot5=functions3.Column5[4:L-3];\n",
    "    temp=round(n*dt,digits=2)\n",
    "    plot!(initX1, [plot1 plot2 plot3 plot4], labels=[\"m\" \"beta\" \"psi\" \"psi,x\"], title=\"$temp\", ylim=[-0.001, 0.001],xlim=[0.0, 1])#, xlim=[0, 0.1])# |> display \n",
    "    #plot!(initX[4:L-3], [plot1], labels=[\"m\" \"beta\" \"psi\" \"psi,x\"],ylim=[-1,1])#, xlim=[0, 0.1]) |> display \n",
    "    \n",
    "    end\n",
    "\n",
    "gif(anim, \"anim_res$res.gif\", fps = 10)"
   ]
  },
  {
   "cell_type": "code",
   "execution_count": 113,
   "id": "136494ed",
   "metadata": {},
   "outputs": [
    {
     "data": {
      "text/plain": [
       "0.015625"
      ]
     },
     "execution_count": 113,
     "metadata": {},
     "output_type": "execute_result"
    }
   ],
   "source": [
    "epsilon(dt,dx)"
   ]
  },
  {
   "cell_type": "code",
   "execution_count": 114,
   "id": "61515e30",
   "metadata": {},
   "outputs": [
    {
     "data": {
      "text/plain": [
       "1.25"
      ]
     },
     "execution_count": 114,
     "metadata": {},
     "output_type": "execute_result"
    }
   ],
   "source": [
    "1000*dt"
   ]
  },
  {
   "cell_type": "code",
   "execution_count": null,
   "id": "1337e83d",
   "metadata": {},
   "outputs": [],
   "source": []
  },
  {
   "cell_type": "code",
   "execution_count": 115,
   "id": "c6b8b7bc",
   "metadata": {},
   "outputs": [
    {
     "ename": "LoadError",
     "evalue": "ArgumentError: \"/home/rita13santos/Desktop/MSc Thesis/Git/ScalarField/DATA/res2/monitor_ratio10.csv\" is not a valid file or doesn't exist",
     "output_type": "error",
     "traceback": [
      "ArgumentError: \"/home/rita13santos/Desktop/MSc Thesis/Git/ScalarField/DATA/res2/monitor_ratio10.csv\" is not a valid file or doesn't exist",
      "",
      "Stacktrace:",
      " [1] CSV.Context(source::CSV.Arg, header::CSV.Arg, normalizenames::CSV.Arg, datarow::CSV.Arg, skipto::CSV.Arg, footerskip::CSV.Arg, transpose::CSV.Arg, comment::CSV.Arg, ignoreemptyrows::CSV.Arg, ignoreemptylines::CSV.Arg, select::CSV.Arg, drop::CSV.Arg, limit::CSV.Arg, buffer_in_memory::CSV.Arg, threaded::CSV.Arg, ntasks::CSV.Arg, tasks::CSV.Arg, rows_to_check::CSV.Arg, lines_to_check::CSV.Arg, missingstrings::CSV.Arg, missingstring::CSV.Arg, delim::CSV.Arg, ignorerepeated::CSV.Arg, quoted::CSV.Arg, quotechar::CSV.Arg, openquotechar::CSV.Arg, closequotechar::CSV.Arg, escapechar::CSV.Arg, dateformat::CSV.Arg, dateformats::CSV.Arg, decimal::CSV.Arg, truestrings::CSV.Arg, falsestrings::CSV.Arg, stripwhitespace::CSV.Arg, type::CSV.Arg, types::CSV.Arg, typemap::CSV.Arg, pool::CSV.Arg, downcast::CSV.Arg, lazystrings::CSV.Arg, stringtype::CSV.Arg, strict::CSV.Arg, silencewarnings::CSV.Arg, maxwarnings::CSV.Arg, debug::CSV.Arg, parsingdebug::CSV.Arg, validate::CSV.Arg, streaming::CSV.Arg)",
      "   @ CSV ~/.julia/packages/CSV/b8ebJ/src/context.jl:306",
      " [2] #File#28",
      "   @ ~/.julia/packages/CSV/b8ebJ/src/file.jl:221 [inlined]",
      " [3] macro expansion",
      "   @ ./In[115]:7 [inlined]",
      " [4] top-level scope",
      "   @ ~/.julia/packages/Plots/bMtsB/src/animation.jl:251"
     ]
    }
   ],
   "source": [
    "using Plots, CSV, DataFrames\n",
    "import GR\n",
    "anim = @animate for n in 10:10:1000#length(T)-1\n",
    "    \n",
    "    IJulia.clear_output(true)\n",
    "    \n",
    "    functions3=DataFrame(CSV.File(dir*\"/res$res/monitor_ratio$n.csv\",header=false, delim=\",\"))\n",
    "    plot()\n",
    "        plot1=functions3.Column1[4:L-3];\n",
    "    \n",
    "    plot!(initX1, [plot1], labels=[\"monitor ratio\"], ylim=[0, 1])# |> display \n",
    "    #plot!(initX[4:L-3], [plot1], labels=[\"m\" \"beta\" \"psi\" \"psi,x\"],ylim=[-1,1])#, xlim=[0, 0.1]) |> display \n",
    "    \n",
    "    end\n",
    "\n",
    "gif(anim, \"anim_res$res.gif\", fps = 5)"
   ]
  },
  {
   "cell_type": "code",
   "execution_count": 208,
   "id": "72e525b5",
   "metadata": {},
   "outputs": [
    {
     "data": {
      "text/plain": [
       "0.015625"
      ]
     },
     "execution_count": 208,
     "metadata": {},
     "output_type": "execute_result"
    }
   ],
   "source": [
    "epsilon(dx,dt)"
   ]
  },
  {
   "cell_type": "code",
   "execution_count": 316,
   "id": "34adf7fe",
   "metadata": {},
   "outputs": [
    {
     "data": {
      "text/plain": [
       "0.001"
      ]
     },
     "execution_count": 316,
     "metadata": {},
     "output_type": "execute_result"
    }
   ],
   "source": [
    "dt"
   ]
  },
  {
   "cell_type": "code",
   "execution_count": 318,
   "id": "af4f5c73",
   "metadata": {},
   "outputs": [
    {
     "data": {
      "text/plain": [
       "0.0078125"
      ]
     },
     "execution_count": 318,
     "metadata": {},
     "output_type": "execute_result"
    }
   ],
   "source": []
  },
  {
   "cell_type": "code",
   "execution_count": null,
   "id": "f2ce4c53",
   "metadata": {},
   "outputs": [],
   "source": []
  },
  {
   "cell_type": "code",
   "execution_count": 31,
   "id": "77840b7c",
   "metadata": {},
   "outputs": [
    {
     "data": {
      "text/plain": [
       "207-element Vector{Float64}:\n",
       " -2.365518250288725e-9\n",
       " -9.136367842295702e-10\n",
       " -2.14954583648039e-10\n",
       "  0.0\n",
       "  6.986152586784135e-13\n",
       "  5.661291067212787e-11\n",
       "  4.3721453478448e-10\n",
       "  1.681826439904089e-9\n",
       "  4.6038562839992895e-9\n",
       "  1.0296050405382373e-8\n",
       "  2.0137407051887777e-8\n",
       "  3.5801665455811194e-8\n",
       "  5.926726083699171e-8\n",
       "  ⋮\n",
       " -0.0\n",
       " -0.0\n",
       " -0.0\n",
       " -0.0\n",
       " -0.0\n",
       "  0.0\n",
       "  0.0\n",
       "  0.0\n",
       "  0.0\n",
       "  0.0\n",
       "  0.0\n",
       "  0.0"
      ]
     },
     "execution_count": 31,
     "metadata": {},
     "output_type": "execute_result"
    }
   ],
   "source": [
    "state_array[:,4]"
   ]
  },
  {
   "cell_type": "code",
   "execution_count": 37,
   "id": "fab5b30a",
   "metadata": {},
   "outputs": [
    {
     "name": "stdout",
     "output_type": "stream",
     "text": [
      "3.017168193837207e-8\n",
      "0.00017208804225226937\n"
     ]
    }
   ],
   "source": [
    "\n",
    "auxinitX= range(0,1,step=dx)\n",
    "println(Der(state_array,6,4,auxinitX))\n",
    "\n",
    "spl= Spline1D(initX[4:L-3], state_array[4:L-3,4],  k=4);\n",
    "println(derivative(spl, auxinitX[6]))"
   ]
  },
  {
   "cell_type": "code",
   "execution_count": 53,
   "id": "654d7d27",
   "metadata": {},
   "outputs": [
    {
     "name": "stdout",
     "output_type": "stream",
     "text": [
      "0.014407887381376435\n",
      "0.014407810796996974\n",
      "-7.658437946138352e-8\n"
     ]
    }
   ],
   "source": [
    "println(Der(state_array,60,4,initX))\n",
    "\n",
    "spl= Spline1D(initX[4:L-3], state_array[4:L-3,4],  k=4);\n",
    "println(derivative(spl, initX[60]))\n",
    "\n",
    "println(derivative(spl, initX[60]).-Der(state_array,60,4,initX))"
   ]
  },
  {
   "cell_type": "code",
   "execution_count": 30,
   "id": "a05acb5f",
   "metadata": {},
   "outputs": [
    {
     "data": {
      "text/plain": [
       "0.2713799770174635"
      ]
     },
     "execution_count": 30,
     "metadata": {},
     "output_type": "execute_result"
    }
   ],
   "source": [
    "using Roots\n",
    "find_zero(derpsi_func, (0,0.5), Bisection())"
   ]
  },
  {
   "cell_type": "code",
   "execution_count": 23,
   "id": "eb36f345",
   "metadata": {},
   "outputs": [
    {
     "data": {
      "image/svg+xml": [
       "<?xml version=\"1.0\" encoding=\"utf-8\"?>\n",
       "<svg xmlns=\"http://www.w3.org/2000/svg\" xmlns:xlink=\"http://www.w3.org/1999/xlink\" width=\"600\" height=\"400\" viewBox=\"0 0 2400 1600\">\n",
       "<defs>\n",
       "  <clipPath id=\"clip640\">\n",
       "    <rect x=\"0\" y=\"0\" width=\"2400\" height=\"1600\"/>\n",
       "  </clipPath>\n",
       "</defs>\n",
       "<path clip-path=\"url(#clip640)\" d=\"M0 1600 L2400 1600 L2400 0 L0 0  Z\" fill=\"#ffffff\" fill-rule=\"evenodd\" fill-opacity=\"1\"/>\n",
       "<defs>\n",
       "  <clipPath id=\"clip641\">\n",
       "    <rect x=\"480\" y=\"0\" width=\"1681\" height=\"1600\"/>\n",
       "  </clipPath>\n",
       "</defs>\n",
       "<path clip-path=\"url(#clip640)\" d=\"M314.583 1486.45 L2352.76 1486.45 L2352.76 47.2441 L314.583 47.2441  Z\" fill=\"#ffffff\" fill-rule=\"evenodd\" fill-opacity=\"1\"/>\n",
       "<defs>\n",
       "  <clipPath id=\"clip642\">\n",
       "    <rect x=\"314\" y=\"47\" width=\"2039\" height=\"1440\"/>\n",
       "  </clipPath>\n",
       "</defs>\n",
       "<polyline clip-path=\"url(#clip642)\" style=\"stroke:#000000; stroke-linecap:round; stroke-linejoin:round; stroke-width:2; stroke-opacity:0.1; fill:none\" points=\"372.268,1486.45 372.268,47.2441 \"/>\n",
       "<polyline clip-path=\"url(#clip642)\" style=\"stroke:#000000; stroke-linecap:round; stroke-linejoin:round; stroke-width:2; stroke-opacity:0.1; fill:none\" points=\"853.035,1486.45 853.035,47.2441 \"/>\n",
       "<polyline clip-path=\"url(#clip642)\" style=\"stroke:#000000; stroke-linecap:round; stroke-linejoin:round; stroke-width:2; stroke-opacity:0.1; fill:none\" points=\"1333.8,1486.45 1333.8,47.2441 \"/>\n",
       "<polyline clip-path=\"url(#clip642)\" style=\"stroke:#000000; stroke-linecap:round; stroke-linejoin:round; stroke-width:2; stroke-opacity:0.1; fill:none\" points=\"1814.57,1486.45 1814.57,47.2441 \"/>\n",
       "<polyline clip-path=\"url(#clip642)\" style=\"stroke:#000000; stroke-linecap:round; stroke-linejoin:round; stroke-width:2; stroke-opacity:0.1; fill:none\" points=\"2295.34,1486.45 2295.34,47.2441 \"/>\n",
       "<polyline clip-path=\"url(#clip640)\" style=\"stroke:#000000; stroke-linecap:round; stroke-linejoin:round; stroke-width:4; stroke-opacity:1; fill:none\" points=\"314.583,1486.45 2352.76,1486.45 \"/>\n",
       "<polyline clip-path=\"url(#clip640)\" style=\"stroke:#000000; stroke-linecap:round; stroke-linejoin:round; stroke-width:4; stroke-opacity:1; fill:none\" points=\"372.268,1486.45 372.268,1467.55 \"/>\n",
       "<polyline clip-path=\"url(#clip640)\" style=\"stroke:#000000; stroke-linecap:round; stroke-linejoin:round; stroke-width:4; stroke-opacity:1; fill:none\" points=\"853.035,1486.45 853.035,1467.55 \"/>\n",
       "<polyline clip-path=\"url(#clip640)\" style=\"stroke:#000000; stroke-linecap:round; stroke-linejoin:round; stroke-width:4; stroke-opacity:1; fill:none\" points=\"1333.8,1486.45 1333.8,1467.55 \"/>\n",
       "<polyline clip-path=\"url(#clip640)\" style=\"stroke:#000000; stroke-linecap:round; stroke-linejoin:round; stroke-width:4; stroke-opacity:1; fill:none\" points=\"1814.57,1486.45 1814.57,1467.55 \"/>\n",
       "<polyline clip-path=\"url(#clip640)\" style=\"stroke:#000000; stroke-linecap:round; stroke-linejoin:round; stroke-width:4; stroke-opacity:1; fill:none\" points=\"2295.34,1486.45 2295.34,1467.55 \"/>\n",
       "<path clip-path=\"url(#clip640)\" d=\"M334.571 1517.37 Q330.96 1517.37 329.131 1520.93 Q327.326 1524.47 327.326 1531.6 Q327.326 1538.71 329.131 1542.27 Q330.96 1545.82 334.571 1545.82 Q338.205 1545.82 340.011 1542.27 Q341.84 1538.71 341.84 1531.6 Q341.84 1524.47 340.011 1520.93 Q338.205 1517.37 334.571 1517.37 M334.571 1513.66 Q340.381 1513.66 343.437 1518.27 Q346.515 1522.85 346.515 1531.6 Q346.515 1540.33 343.437 1544.94 Q340.381 1549.52 334.571 1549.52 Q328.761 1549.52 325.682 1544.94 Q322.627 1540.33 322.627 1531.6 Q322.627 1522.85 325.682 1518.27 Q328.761 1513.66 334.571 1513.66 Z\" fill=\"#000000\" fill-rule=\"evenodd\" fill-opacity=\"1\" /><path clip-path=\"url(#clip640)\" d=\"M354.733 1542.97 L359.617 1542.97 L359.617 1548.85 L354.733 1548.85 L354.733 1542.97 Z\" fill=\"#000000\" fill-rule=\"evenodd\" fill-opacity=\"1\" /><path clip-path=\"url(#clip640)\" d=\"M379.802 1517.37 Q376.191 1517.37 374.363 1520.93 Q372.557 1524.47 372.557 1531.6 Q372.557 1538.71 374.363 1542.27 Q376.191 1545.82 379.802 1545.82 Q383.437 1545.82 385.242 1542.27 Q387.071 1538.71 387.071 1531.6 Q387.071 1524.47 385.242 1520.93 Q383.437 1517.37 379.802 1517.37 M379.802 1513.66 Q385.612 1513.66 388.668 1518.27 Q391.747 1522.85 391.747 1531.6 Q391.747 1540.33 388.668 1544.94 Q385.612 1549.52 379.802 1549.52 Q373.992 1549.52 370.913 1544.94 Q367.858 1540.33 367.858 1531.6 Q367.858 1522.85 370.913 1518.27 Q373.992 1513.66 379.802 1513.66 Z\" fill=\"#000000\" fill-rule=\"evenodd\" fill-opacity=\"1\" /><path clip-path=\"url(#clip640)\" d=\"M409.964 1517.37 Q406.353 1517.37 404.524 1520.93 Q402.719 1524.47 402.719 1531.6 Q402.719 1538.71 404.524 1542.27 Q406.353 1545.82 409.964 1545.82 Q413.598 1545.82 415.404 1542.27 Q417.233 1538.71 417.233 1531.6 Q417.233 1524.47 415.404 1520.93 Q413.598 1517.37 409.964 1517.37 M409.964 1513.66 Q415.774 1513.66 418.83 1518.27 Q421.909 1522.85 421.909 1531.6 Q421.909 1540.33 418.83 1544.94 Q415.774 1549.52 409.964 1549.52 Q404.154 1549.52 401.075 1544.94 Q398.02 1540.33 398.02 1531.6 Q398.02 1522.85 401.075 1518.27 Q404.154 1513.66 409.964 1513.66 Z\" fill=\"#000000\" fill-rule=\"evenodd\" fill-opacity=\"1\" /><path clip-path=\"url(#clip640)\" d=\"M815.836 1517.37 Q812.225 1517.37 810.396 1520.93 Q808.591 1524.47 808.591 1531.6 Q808.591 1538.71 810.396 1542.27 Q812.225 1545.82 815.836 1545.82 Q819.47 1545.82 821.276 1542.27 Q823.104 1538.71 823.104 1531.6 Q823.104 1524.47 821.276 1520.93 Q819.47 1517.37 815.836 1517.37 M815.836 1513.66 Q821.646 1513.66 824.702 1518.27 Q827.78 1522.85 827.78 1531.6 Q827.78 1540.33 824.702 1544.94 Q821.646 1549.52 815.836 1549.52 Q810.026 1549.52 806.947 1544.94 Q803.891 1540.33 803.891 1531.6 Q803.891 1522.85 806.947 1518.27 Q810.026 1513.66 815.836 1513.66 Z\" fill=\"#000000\" fill-rule=\"evenodd\" fill-opacity=\"1\" /><path clip-path=\"url(#clip640)\" d=\"M835.998 1542.97 L840.882 1542.97 L840.882 1548.85 L835.998 1548.85 L835.998 1542.97 Z\" fill=\"#000000\" fill-rule=\"evenodd\" fill-opacity=\"1\" /><path clip-path=\"url(#clip640)\" d=\"M855.095 1544.91 L871.414 1544.91 L871.414 1548.85 L849.47 1548.85 L849.47 1544.91 Q852.132 1542.16 856.715 1537.53 Q861.322 1532.88 862.502 1531.53 Q864.748 1529.01 865.627 1527.27 Q866.53 1525.51 866.53 1523.82 Q866.53 1521.07 864.586 1519.33 Q862.664 1517.6 859.562 1517.6 Q857.363 1517.6 854.91 1518.36 Q852.479 1519.13 849.701 1520.68 L849.701 1515.95 Q852.525 1514.82 854.979 1514.24 Q857.433 1513.66 859.47 1513.66 Q864.84 1513.66 868.035 1516.35 Q871.229 1519.03 871.229 1523.52 Q871.229 1525.65 870.419 1527.57 Q869.632 1529.47 867.525 1532.07 Q866.947 1532.74 863.845 1535.95 Q860.743 1539.15 855.095 1544.91 Z\" fill=\"#000000\" fill-rule=\"evenodd\" fill-opacity=\"1\" /><path clip-path=\"url(#clip640)\" d=\"M881.275 1514.29 L899.632 1514.29 L899.632 1518.22 L885.558 1518.22 L885.558 1526.7 Q886.576 1526.35 887.595 1526.19 Q888.613 1526 889.632 1526 Q895.419 1526 898.798 1529.17 Q902.178 1532.34 902.178 1537.76 Q902.178 1543.34 898.706 1546.44 Q895.234 1549.52 888.914 1549.52 Q886.738 1549.52 884.47 1549.15 Q882.224 1548.78 879.817 1548.04 L879.817 1543.34 Q881.9 1544.47 884.123 1545.03 Q886.345 1545.58 888.822 1545.58 Q892.826 1545.58 895.164 1543.48 Q897.502 1541.37 897.502 1537.76 Q897.502 1534.15 895.164 1532.04 Q892.826 1529.94 888.822 1529.94 Q886.947 1529.94 885.072 1530.35 Q883.22 1530.77 881.275 1531.65 L881.275 1514.29 Z\" fill=\"#000000\" fill-rule=\"evenodd\" fill-opacity=\"1\" /><path clip-path=\"url(#clip640)\" d=\"M1296.11 1517.37 Q1292.49 1517.37 1290.67 1520.93 Q1288.86 1524.47 1288.86 1531.6 Q1288.86 1538.71 1290.67 1542.27 Q1292.49 1545.82 1296.11 1545.82 Q1299.74 1545.82 1301.55 1542.27 Q1303.37 1538.71 1303.37 1531.6 Q1303.37 1524.47 1301.55 1520.93 Q1299.74 1517.37 1296.11 1517.37 M1296.11 1513.66 Q1301.92 1513.66 1304.97 1518.27 Q1308.05 1522.85 1308.05 1531.6 Q1308.05 1540.33 1304.97 1544.94 Q1301.92 1549.52 1296.11 1549.52 Q1290.3 1549.52 1287.22 1544.94 Q1284.16 1540.33 1284.16 1531.6 Q1284.16 1522.85 1287.22 1518.27 Q1290.3 1513.66 1296.11 1513.66 Z\" fill=\"#000000\" fill-rule=\"evenodd\" fill-opacity=\"1\" /><path clip-path=\"url(#clip640)\" d=\"M1316.27 1542.97 L1321.15 1542.97 L1321.15 1548.85 L1316.27 1548.85 L1316.27 1542.97 Z\" fill=\"#000000\" fill-rule=\"evenodd\" fill-opacity=\"1\" /><path clip-path=\"url(#clip640)\" d=\"M1331.38 1514.29 L1349.74 1514.29 L1349.74 1518.22 L1335.67 1518.22 L1335.67 1526.7 Q1336.68 1526.35 1337.7 1526.19 Q1338.72 1526 1339.74 1526 Q1345.53 1526 1348.91 1529.17 Q1352.29 1532.34 1352.29 1537.76 Q1352.29 1543.34 1348.81 1546.44 Q1345.34 1549.52 1339.02 1549.52 Q1336.85 1549.52 1334.58 1549.15 Q1332.33 1548.78 1329.92 1548.04 L1329.92 1543.34 Q1332.01 1544.47 1334.23 1545.03 Q1336.45 1545.58 1338.93 1545.58 Q1342.93 1545.58 1345.27 1543.48 Q1347.61 1541.37 1347.61 1537.76 Q1347.61 1534.15 1345.27 1532.04 Q1342.93 1529.94 1338.93 1529.94 Q1337.05 1529.94 1335.18 1530.35 Q1333.33 1530.77 1331.38 1531.65 L1331.38 1514.29 Z\" fill=\"#000000\" fill-rule=\"evenodd\" fill-opacity=\"1\" /><path clip-path=\"url(#clip640)\" d=\"M1371.5 1517.37 Q1367.89 1517.37 1366.06 1520.93 Q1364.25 1524.47 1364.25 1531.6 Q1364.25 1538.71 1366.06 1542.27 Q1367.89 1545.82 1371.5 1545.82 Q1375.13 1545.82 1376.94 1542.27 Q1378.77 1538.71 1378.77 1531.6 Q1378.77 1524.47 1376.94 1520.93 Q1375.13 1517.37 1371.5 1517.37 M1371.5 1513.66 Q1377.31 1513.66 1380.36 1518.27 Q1383.44 1522.85 1383.44 1531.6 Q1383.44 1540.33 1380.36 1544.94 Q1377.31 1549.52 1371.5 1549.52 Q1365.69 1549.52 1362.61 1544.94 Q1359.55 1540.33 1359.55 1531.6 Q1359.55 1522.85 1362.61 1518.27 Q1365.69 1513.66 1371.5 1513.66 Z\" fill=\"#000000\" fill-rule=\"evenodd\" fill-opacity=\"1\" /><path clip-path=\"url(#clip640)\" d=\"M1777.37 1517.37 Q1773.76 1517.37 1771.93 1520.93 Q1770.12 1524.47 1770.12 1531.6 Q1770.12 1538.71 1771.93 1542.27 Q1773.76 1545.82 1777.37 1545.82 Q1781 1545.82 1782.81 1542.27 Q1784.64 1538.71 1784.64 1531.6 Q1784.64 1524.47 1782.81 1520.93 Q1781 1517.37 1777.37 1517.37 M1777.37 1513.66 Q1783.18 1513.66 1786.24 1518.27 Q1789.31 1522.85 1789.31 1531.6 Q1789.31 1540.33 1786.24 1544.94 Q1783.18 1549.52 1777.37 1549.52 Q1771.56 1549.52 1768.48 1544.94 Q1765.43 1540.33 1765.43 1531.6 Q1765.43 1522.85 1768.48 1518.27 Q1771.56 1513.66 1777.37 1513.66 Z\" fill=\"#000000\" fill-rule=\"evenodd\" fill-opacity=\"1\" /><path clip-path=\"url(#clip640)\" d=\"M1797.53 1542.97 L1802.42 1542.97 L1802.42 1548.85 L1797.53 1548.85 L1797.53 1542.97 Z\" fill=\"#000000\" fill-rule=\"evenodd\" fill-opacity=\"1\" /><path clip-path=\"url(#clip640)\" d=\"M1811.42 1514.29 L1833.64 1514.29 L1833.64 1516.28 L1821.1 1548.85 L1816.21 1548.85 L1828.02 1518.22 L1811.42 1518.22 L1811.42 1514.29 Z\" fill=\"#000000\" fill-rule=\"evenodd\" fill-opacity=\"1\" /><path clip-path=\"url(#clip640)\" d=\"M1842.81 1514.29 L1861.17 1514.29 L1861.17 1518.22 L1847.09 1518.22 L1847.09 1526.7 Q1848.11 1526.35 1849.13 1526.19 Q1850.15 1526 1851.17 1526 Q1856.95 1526 1860.33 1529.17 Q1863.71 1532.34 1863.71 1537.76 Q1863.71 1543.34 1860.24 1546.44 Q1856.77 1549.52 1850.45 1549.52 Q1848.27 1549.52 1846 1549.15 Q1843.76 1548.78 1841.35 1548.04 L1841.35 1543.34 Q1843.43 1544.47 1845.66 1545.03 Q1847.88 1545.58 1850.36 1545.58 Q1854.36 1545.58 1856.7 1543.48 Q1859.04 1541.37 1859.04 1537.76 Q1859.04 1534.15 1856.7 1532.04 Q1854.36 1529.94 1850.36 1529.94 Q1848.48 1529.94 1846.61 1530.35 Q1844.75 1530.77 1842.81 1531.65 L1842.81 1514.29 Z\" fill=\"#000000\" fill-rule=\"evenodd\" fill-opacity=\"1\" /><path clip-path=\"url(#clip640)\" d=\"M2247.41 1544.91 L2255.05 1544.91 L2255.05 1518.55 L2246.74 1520.21 L2246.74 1515.95 L2255 1514.29 L2259.68 1514.29 L2259.68 1544.91 L2267.32 1544.91 L2267.32 1548.85 L2247.41 1548.85 L2247.41 1544.91 Z\" fill=\"#000000\" fill-rule=\"evenodd\" fill-opacity=\"1\" /><path clip-path=\"url(#clip640)\" d=\"M2276.76 1542.97 L2281.64 1542.97 L2281.64 1548.85 L2276.76 1548.85 L2276.76 1542.97 Z\" fill=\"#000000\" fill-rule=\"evenodd\" fill-opacity=\"1\" /><path clip-path=\"url(#clip640)\" d=\"M2301.83 1517.37 Q2298.22 1517.37 2296.39 1520.93 Q2294.58 1524.47 2294.58 1531.6 Q2294.58 1538.71 2296.39 1542.27 Q2298.22 1545.82 2301.83 1545.82 Q2305.46 1545.82 2307.27 1542.27 Q2309.1 1538.71 2309.1 1531.6 Q2309.1 1524.47 2307.27 1520.93 Q2305.46 1517.37 2301.83 1517.37 M2301.83 1513.66 Q2307.64 1513.66 2310.69 1518.27 Q2313.77 1522.85 2313.77 1531.6 Q2313.77 1540.33 2310.69 1544.94 Q2307.64 1549.52 2301.83 1549.52 Q2296.02 1549.52 2292.94 1544.94 Q2289.88 1540.33 2289.88 1531.6 Q2289.88 1522.85 2292.94 1518.27 Q2296.02 1513.66 2301.83 1513.66 Z\" fill=\"#000000\" fill-rule=\"evenodd\" fill-opacity=\"1\" /><path clip-path=\"url(#clip640)\" d=\"M2331.99 1517.37 Q2328.38 1517.37 2326.55 1520.93 Q2324.75 1524.47 2324.75 1531.6 Q2324.75 1538.71 2326.55 1542.27 Q2328.38 1545.82 2331.99 1545.82 Q2335.63 1545.82 2337.43 1542.27 Q2339.26 1538.71 2339.26 1531.6 Q2339.26 1524.47 2337.43 1520.93 Q2335.63 1517.37 2331.99 1517.37 M2331.99 1513.66 Q2337.8 1513.66 2340.86 1518.27 Q2343.94 1522.85 2343.94 1531.6 Q2343.94 1540.33 2340.86 1544.94 Q2337.8 1549.52 2331.99 1549.52 Q2326.18 1549.52 2323.1 1544.94 Q2320.05 1540.33 2320.05 1531.6 Q2320.05 1522.85 2323.1 1518.27 Q2326.18 1513.66 2331.99 1513.66 Z\" fill=\"#000000\" fill-rule=\"evenodd\" fill-opacity=\"1\" /><polyline clip-path=\"url(#clip642)\" style=\"stroke:#000000; stroke-linecap:round; stroke-linejoin:round; stroke-width:2; stroke-opacity:0.1; fill:none\" points=\"314.583,1427.6 2352.76,1427.6 \"/>\n",
       "<polyline clip-path=\"url(#clip642)\" style=\"stroke:#000000; stroke-linecap:round; stroke-linejoin:round; stroke-width:2; stroke-opacity:0.1; fill:none\" points=\"314.583,1070.66 2352.76,1070.66 \"/>\n",
       "<polyline clip-path=\"url(#clip642)\" style=\"stroke:#000000; stroke-linecap:round; stroke-linejoin:round; stroke-width:2; stroke-opacity:0.1; fill:none\" points=\"314.583,713.733 2352.76,713.733 \"/>\n",
       "<polyline clip-path=\"url(#clip642)\" style=\"stroke:#000000; stroke-linecap:round; stroke-linejoin:round; stroke-width:2; stroke-opacity:0.1; fill:none\" points=\"314.583,356.802 2352.76,356.802 \"/>\n",
       "<polyline clip-path=\"url(#clip640)\" style=\"stroke:#000000; stroke-linecap:round; stroke-linejoin:round; stroke-width:4; stroke-opacity:1; fill:none\" points=\"314.583,1486.45 314.583,47.2441 \"/>\n",
       "<polyline clip-path=\"url(#clip640)\" style=\"stroke:#000000; stroke-linecap:round; stroke-linejoin:round; stroke-width:4; stroke-opacity:1; fill:none\" points=\"314.583,1427.6 333.481,1427.6 \"/>\n",
       "<polyline clip-path=\"url(#clip640)\" style=\"stroke:#000000; stroke-linecap:round; stroke-linejoin:round; stroke-width:4; stroke-opacity:1; fill:none\" points=\"314.583,1070.66 333.481,1070.66 \"/>\n",
       "<polyline clip-path=\"url(#clip640)\" style=\"stroke:#000000; stroke-linecap:round; stroke-linejoin:round; stroke-width:4; stroke-opacity:1; fill:none\" points=\"314.583,713.733 333.481,713.733 \"/>\n",
       "<polyline clip-path=\"url(#clip640)\" style=\"stroke:#000000; stroke-linecap:round; stroke-linejoin:round; stroke-width:4; stroke-opacity:1; fill:none\" points=\"314.583,356.802 333.481,356.802 \"/>\n",
       "<path clip-path=\"url(#clip640)\" d=\"M50.9921 1428.05 L80.6679 1428.05 L80.6679 1431.98 L50.9921 1431.98 L50.9921 1428.05 Z\" fill=\"#000000\" fill-rule=\"evenodd\" fill-opacity=\"1\" /><path clip-path=\"url(#clip640)\" d=\"M100.76 1413.39 Q97.1493 1413.39 95.3206 1416.96 Q93.515 1420.5 93.515 1427.63 Q93.515 1434.74 95.3206 1438.3 Q97.1493 1441.84 100.76 1441.84 Q104.395 1441.84 106.2 1438.3 Q108.029 1434.74 108.029 1427.63 Q108.029 1420.5 106.2 1416.96 Q104.395 1413.39 100.76 1413.39 M100.76 1409.69 Q106.571 1409.69 109.626 1414.3 Q112.705 1418.88 112.705 1427.63 Q112.705 1436.36 109.626 1440.96 Q106.571 1445.55 100.76 1445.55 Q94.9502 1445.55 91.8715 1440.96 Q88.816 1436.36 88.816 1427.63 Q88.816 1418.88 91.8715 1414.3 Q94.9502 1409.69 100.76 1409.69 Z\" fill=\"#000000\" fill-rule=\"evenodd\" fill-opacity=\"1\" /><path clip-path=\"url(#clip640)\" d=\"M120.922 1439 L125.807 1439 L125.807 1444.88 L120.922 1444.88 L120.922 1439 Z\" fill=\"#000000\" fill-rule=\"evenodd\" fill-opacity=\"1\" /><path clip-path=\"url(#clip640)\" d=\"M145.992 1413.39 Q142.381 1413.39 140.552 1416.96 Q138.746 1420.5 138.746 1427.63 Q138.746 1434.74 140.552 1438.3 Q142.381 1441.84 145.992 1441.84 Q149.626 1441.84 151.431 1438.3 Q153.26 1434.74 153.26 1427.63 Q153.26 1420.5 151.431 1416.96 Q149.626 1413.39 145.992 1413.39 M145.992 1409.69 Q151.802 1409.69 154.857 1414.3 Q157.936 1418.88 157.936 1427.63 Q157.936 1436.36 154.857 1440.96 Q151.802 1445.55 145.992 1445.55 Q140.181 1445.55 137.103 1440.96 Q134.047 1436.36 134.047 1427.63 Q134.047 1418.88 137.103 1414.3 Q140.181 1409.69 145.992 1409.69 Z\" fill=\"#000000\" fill-rule=\"evenodd\" fill-opacity=\"1\" /><path clip-path=\"url(#clip640)\" d=\"M176.153 1413.39 Q172.542 1413.39 170.714 1416.96 Q168.908 1420.5 168.908 1427.63 Q168.908 1434.74 170.714 1438.3 Q172.542 1441.84 176.153 1441.84 Q179.788 1441.84 181.593 1438.3 Q183.422 1434.74 183.422 1427.63 Q183.422 1420.5 181.593 1416.96 Q179.788 1413.39 176.153 1413.39 M176.153 1409.69 Q181.964 1409.69 185.019 1414.3 Q188.098 1418.88 188.098 1427.63 Q188.098 1436.36 185.019 1440.96 Q181.964 1445.55 176.153 1445.55 Q170.343 1445.55 167.265 1440.96 Q164.209 1436.36 164.209 1427.63 Q164.209 1418.88 167.265 1414.3 Q170.343 1409.69 176.153 1409.69 Z\" fill=\"#000000\" fill-rule=\"evenodd\" fill-opacity=\"1\" /><path clip-path=\"url(#clip640)\" d=\"M206.315 1413.39 Q202.704 1413.39 200.876 1416.96 Q199.07 1420.5 199.07 1427.63 Q199.07 1434.74 200.876 1438.3 Q202.704 1441.84 206.315 1441.84 Q209.95 1441.84 211.755 1438.3 Q213.584 1434.74 213.584 1427.63 Q213.584 1420.5 211.755 1416.96 Q209.95 1413.39 206.315 1413.39 M206.315 1409.69 Q212.126 1409.69 215.181 1414.3 Q218.26 1418.88 218.26 1427.63 Q218.26 1436.36 215.181 1440.96 Q212.126 1445.55 206.315 1445.55 Q200.505 1445.55 197.427 1440.96 Q194.371 1436.36 194.371 1427.63 Q194.371 1418.88 197.427 1414.3 Q200.505 1409.69 206.315 1409.69 Z\" fill=\"#000000\" fill-rule=\"evenodd\" fill-opacity=\"1\" /><path clip-path=\"url(#clip640)\" d=\"M227.287 1440.94 L234.926 1440.94 L234.926 1414.57 L226.616 1416.24 L226.616 1411.98 L234.88 1410.32 L239.556 1410.32 L239.556 1440.94 L247.195 1440.94 L247.195 1444.88 L227.287 1444.88 L227.287 1440.94 Z\" fill=\"#000000\" fill-rule=\"evenodd\" fill-opacity=\"1\" /><path clip-path=\"url(#clip640)\" d=\"M266.639 1413.39 Q263.028 1413.39 261.199 1416.96 Q259.394 1420.5 259.394 1427.63 Q259.394 1434.74 261.199 1438.3 Q263.028 1441.84 266.639 1441.84 Q270.273 1441.84 272.079 1438.3 Q273.908 1434.74 273.908 1427.63 Q273.908 1420.5 272.079 1416.96 Q270.273 1413.39 266.639 1413.39 M266.639 1409.69 Q272.449 1409.69 275.505 1414.3 Q278.583 1418.88 278.583 1427.63 Q278.583 1436.36 275.505 1440.96 Q272.449 1445.55 266.639 1445.55 Q260.829 1445.55 257.75 1440.96 Q254.695 1436.36 254.695 1427.63 Q254.695 1418.88 257.75 1414.3 Q260.829 1409.69 266.639 1409.69 Z\" fill=\"#000000\" fill-rule=\"evenodd\" fill-opacity=\"1\" /><path clip-path=\"url(#clip640)\" d=\"M51.9875 1071.12 L81.6633 1071.12 L81.6633 1075.05 L51.9875 1075.05 L51.9875 1071.12 Z\" fill=\"#000000\" fill-rule=\"evenodd\" fill-opacity=\"1\" /><path clip-path=\"url(#clip640)\" d=\"M101.756 1056.46 Q98.1447 1056.46 96.316 1060.03 Q94.5104 1063.57 94.5104 1070.7 Q94.5104 1077.81 96.316 1081.37 Q98.1447 1084.91 101.756 1084.91 Q105.39 1084.91 107.196 1081.37 Q109.024 1077.81 109.024 1070.7 Q109.024 1063.57 107.196 1060.03 Q105.39 1056.46 101.756 1056.46 M101.756 1052.76 Q107.566 1052.76 110.621 1057.37 Q113.7 1061.95 113.7 1070.7 Q113.7 1079.43 110.621 1084.03 Q107.566 1088.62 101.756 1088.62 Q95.9456 1088.62 92.8669 1084.03 Q89.8114 1079.43 89.8114 1070.7 Q89.8114 1061.95 92.8669 1057.37 Q95.9456 1052.76 101.756 1052.76 Z\" fill=\"#000000\" fill-rule=\"evenodd\" fill-opacity=\"1\" /><path clip-path=\"url(#clip640)\" d=\"M121.918 1082.06 L126.802 1082.06 L126.802 1087.94 L121.918 1087.94 L121.918 1082.06 Z\" fill=\"#000000\" fill-rule=\"evenodd\" fill-opacity=\"1\" /><path clip-path=\"url(#clip640)\" d=\"M146.987 1056.46 Q143.376 1056.46 141.547 1060.03 Q139.742 1063.57 139.742 1070.7 Q139.742 1077.81 141.547 1081.37 Q143.376 1084.91 146.987 1084.91 Q150.621 1084.91 152.427 1081.37 Q154.255 1077.81 154.255 1070.7 Q154.255 1063.57 152.427 1060.03 Q150.621 1056.46 146.987 1056.46 M146.987 1052.76 Q152.797 1052.76 155.853 1057.37 Q158.931 1061.95 158.931 1070.7 Q158.931 1079.43 155.853 1084.03 Q152.797 1088.62 146.987 1088.62 Q141.177 1088.62 138.098 1084.03 Q135.043 1079.43 135.043 1070.7 Q135.043 1061.95 138.098 1057.37 Q141.177 1052.76 146.987 1052.76 Z\" fill=\"#000000\" fill-rule=\"evenodd\" fill-opacity=\"1\" /><path clip-path=\"url(#clip640)\" d=\"M177.149 1056.46 Q173.538 1056.46 171.709 1060.03 Q169.904 1063.57 169.904 1070.7 Q169.904 1077.81 171.709 1081.37 Q173.538 1084.91 177.149 1084.91 Q180.783 1084.91 182.589 1081.37 Q184.417 1077.81 184.417 1070.7 Q184.417 1063.57 182.589 1060.03 Q180.783 1056.46 177.149 1056.46 M177.149 1052.76 Q182.959 1052.76 186.015 1057.37 Q189.093 1061.95 189.093 1070.7 Q189.093 1079.43 186.015 1084.03 Q182.959 1088.62 177.149 1088.62 Q171.339 1088.62 168.26 1084.03 Q165.204 1079.43 165.204 1070.7 Q165.204 1061.95 168.26 1057.37 Q171.339 1052.76 177.149 1052.76 Z\" fill=\"#000000\" fill-rule=\"evenodd\" fill-opacity=\"1\" /><path clip-path=\"url(#clip640)\" d=\"M207.311 1056.46 Q203.7 1056.46 201.871 1060.03 Q200.065 1063.57 200.065 1070.7 Q200.065 1077.81 201.871 1081.37 Q203.7 1084.91 207.311 1084.91 Q210.945 1084.91 212.751 1081.37 Q214.579 1077.81 214.579 1070.7 Q214.579 1063.57 212.751 1060.03 Q210.945 1056.46 207.311 1056.46 M207.311 1052.76 Q213.121 1052.76 216.176 1057.37 Q219.255 1061.95 219.255 1070.7 Q219.255 1079.43 216.176 1084.03 Q213.121 1088.62 207.311 1088.62 Q201.501 1088.62 198.422 1084.03 Q195.366 1079.43 195.366 1070.7 Q195.366 1061.95 198.422 1057.37 Q201.501 1052.76 207.311 1052.76 Z\" fill=\"#000000\" fill-rule=\"evenodd\" fill-opacity=\"1\" /><path clip-path=\"url(#clip640)\" d=\"M237.473 1056.46 Q233.862 1056.46 232.033 1060.03 Q230.227 1063.57 230.227 1070.7 Q230.227 1077.81 232.033 1081.37 Q233.862 1084.91 237.473 1084.91 Q241.107 1084.91 242.912 1081.37 Q244.741 1077.81 244.741 1070.7 Q244.741 1063.57 242.912 1060.03 Q241.107 1056.46 237.473 1056.46 M237.473 1052.76 Q243.283 1052.76 246.338 1057.37 Q249.417 1061.95 249.417 1070.7 Q249.417 1079.43 246.338 1084.03 Q243.283 1088.62 237.473 1088.62 Q231.662 1088.62 228.584 1084.03 Q225.528 1079.43 225.528 1070.7 Q225.528 1061.95 228.584 1057.37 Q231.662 1052.76 237.473 1052.76 Z\" fill=\"#000000\" fill-rule=\"evenodd\" fill-opacity=\"1\" /><path clip-path=\"url(#clip640)\" d=\"M257.681 1053.38 L276.037 1053.38 L276.037 1057.32 L261.963 1057.32 L261.963 1065.79 Q262.982 1065.44 264 1065.28 Q265.019 1065.1 266.037 1065.1 Q271.824 1065.1 275.204 1068.27 Q278.583 1071.44 278.583 1076.86 Q278.583 1082.44 275.111 1085.54 Q271.639 1088.62 265.32 1088.62 Q263.144 1088.62 260.875 1088.25 Q258.63 1087.87 256.223 1087.13 L256.223 1082.44 Q258.306 1083.57 260.528 1084.12 Q262.75 1084.68 265.227 1084.68 Q269.232 1084.68 271.57 1082.57 Q273.908 1080.47 273.908 1076.86 Q273.908 1073.25 271.57 1071.14 Q269.232 1069.03 265.227 1069.03 Q263.352 1069.03 261.477 1069.45 Q259.625 1069.87 257.681 1070.75 L257.681 1053.38 Z\" fill=\"#000000\" fill-rule=\"evenodd\" fill-opacity=\"1\" /><path clip-path=\"url(#clip640)\" d=\"M100.76 699.532 Q97.1493 699.532 95.3206 703.096 Q93.515 706.638 93.515 713.768 Q93.515 720.874 95.3206 724.439 Q97.1493 727.981 100.76 727.981 Q104.395 727.981 106.2 724.439 Q108.029 720.874 108.029 713.768 Q108.029 706.638 106.2 703.096 Q104.395 699.532 100.76 699.532 M100.76 695.828 Q106.571 695.828 109.626 700.434 Q112.705 705.018 112.705 713.768 Q112.705 722.495 109.626 727.101 Q106.571 731.684 100.76 731.684 Q94.9502 731.684 91.8715 727.101 Q88.816 722.495 88.816 713.768 Q88.816 705.018 91.8715 700.434 Q94.9502 695.828 100.76 695.828 Z\" fill=\"#000000\" fill-rule=\"evenodd\" fill-opacity=\"1\" /><path clip-path=\"url(#clip640)\" d=\"M120.922 725.133 L125.807 725.133 L125.807 731.013 L120.922 731.013 L120.922 725.133 Z\" fill=\"#000000\" fill-rule=\"evenodd\" fill-opacity=\"1\" /><path clip-path=\"url(#clip640)\" d=\"M145.992 699.532 Q142.381 699.532 140.552 703.096 Q138.746 706.638 138.746 713.768 Q138.746 720.874 140.552 724.439 Q142.381 727.981 145.992 727.981 Q149.626 727.981 151.431 724.439 Q153.26 720.874 153.26 713.768 Q153.26 706.638 151.431 703.096 Q149.626 699.532 145.992 699.532 M145.992 695.828 Q151.802 695.828 154.857 700.434 Q157.936 705.018 157.936 713.768 Q157.936 722.495 154.857 727.101 Q151.802 731.684 145.992 731.684 Q140.181 731.684 137.103 727.101 Q134.047 722.495 134.047 713.768 Q134.047 705.018 137.103 700.434 Q140.181 695.828 145.992 695.828 Z\" fill=\"#000000\" fill-rule=\"evenodd\" fill-opacity=\"1\" /><path clip-path=\"url(#clip640)\" d=\"M176.153 699.532 Q172.542 699.532 170.714 703.096 Q168.908 706.638 168.908 713.768 Q168.908 720.874 170.714 724.439 Q172.542 727.981 176.153 727.981 Q179.788 727.981 181.593 724.439 Q183.422 720.874 183.422 713.768 Q183.422 706.638 181.593 703.096 Q179.788 699.532 176.153 699.532 M176.153 695.828 Q181.964 695.828 185.019 700.434 Q188.098 705.018 188.098 713.768 Q188.098 722.495 185.019 727.101 Q181.964 731.684 176.153 731.684 Q170.343 731.684 167.265 727.101 Q164.209 722.495 164.209 713.768 Q164.209 705.018 167.265 700.434 Q170.343 695.828 176.153 695.828 Z\" fill=\"#000000\" fill-rule=\"evenodd\" fill-opacity=\"1\" /><path clip-path=\"url(#clip640)\" d=\"M206.315 699.532 Q202.704 699.532 200.876 703.096 Q199.07 706.638 199.07 713.768 Q199.07 720.874 200.876 724.439 Q202.704 727.981 206.315 727.981 Q209.95 727.981 211.755 724.439 Q213.584 720.874 213.584 713.768 Q213.584 706.638 211.755 703.096 Q209.95 699.532 206.315 699.532 M206.315 695.828 Q212.126 695.828 215.181 700.434 Q218.26 705.018 218.26 713.768 Q218.26 722.495 215.181 727.101 Q212.126 731.684 206.315 731.684 Q200.505 731.684 197.427 727.101 Q194.371 722.495 194.371 713.768 Q194.371 705.018 197.427 700.434 Q200.505 695.828 206.315 695.828 Z\" fill=\"#000000\" fill-rule=\"evenodd\" fill-opacity=\"1\" /><path clip-path=\"url(#clip640)\" d=\"M236.477 699.532 Q232.866 699.532 231.037 703.096 Q229.232 706.638 229.232 713.768 Q229.232 720.874 231.037 724.439 Q232.866 727.981 236.477 727.981 Q240.111 727.981 241.917 724.439 Q243.746 720.874 243.746 713.768 Q243.746 706.638 241.917 703.096 Q240.111 699.532 236.477 699.532 M236.477 695.828 Q242.287 695.828 245.343 700.434 Q248.422 705.018 248.422 713.768 Q248.422 722.495 245.343 727.101 Q242.287 731.684 236.477 731.684 Q230.667 731.684 227.588 727.101 Q224.533 722.495 224.533 713.768 Q224.533 705.018 227.588 700.434 Q230.667 695.828 236.477 695.828 Z\" fill=\"#000000\" fill-rule=\"evenodd\" fill-opacity=\"1\" /><path clip-path=\"url(#clip640)\" d=\"M266.639 699.532 Q263.028 699.532 261.199 703.096 Q259.394 706.638 259.394 713.768 Q259.394 720.874 261.199 724.439 Q263.028 727.981 266.639 727.981 Q270.273 727.981 272.079 724.439 Q273.908 720.874 273.908 713.768 Q273.908 706.638 272.079 703.096 Q270.273 699.532 266.639 699.532 M266.639 695.828 Q272.449 695.828 275.505 700.434 Q278.583 705.018 278.583 713.768 Q278.583 722.495 275.505 727.101 Q272.449 731.684 266.639 731.684 Q260.829 731.684 257.75 727.101 Q254.695 722.495 254.695 713.768 Q254.695 705.018 257.75 700.434 Q260.829 695.828 266.639 695.828 Z\" fill=\"#000000\" fill-rule=\"evenodd\" fill-opacity=\"1\" /><path clip-path=\"url(#clip640)\" d=\"M101.756 342.6 Q98.1447 342.6 96.316 346.165 Q94.5104 349.707 94.5104 356.836 Q94.5104 363.943 96.316 367.508 Q98.1447 371.049 101.756 371.049 Q105.39 371.049 107.196 367.508 Q109.024 363.943 109.024 356.836 Q109.024 349.707 107.196 346.165 Q105.39 342.6 101.756 342.6 M101.756 338.897 Q107.566 338.897 110.621 343.503 Q113.7 348.086 113.7 356.836 Q113.7 365.563 110.621 370.17 Q107.566 374.753 101.756 374.753 Q95.9456 374.753 92.8669 370.17 Q89.8114 365.563 89.8114 356.836 Q89.8114 348.086 92.8669 343.503 Q95.9456 338.897 101.756 338.897 Z\" fill=\"#000000\" fill-rule=\"evenodd\" fill-opacity=\"1\" /><path clip-path=\"url(#clip640)\" d=\"M121.918 368.202 L126.802 368.202 L126.802 374.082 L121.918 374.082 L121.918 368.202 Z\" fill=\"#000000\" fill-rule=\"evenodd\" fill-opacity=\"1\" /><path clip-path=\"url(#clip640)\" d=\"M146.987 342.6 Q143.376 342.6 141.547 346.165 Q139.742 349.707 139.742 356.836 Q139.742 363.943 141.547 367.508 Q143.376 371.049 146.987 371.049 Q150.621 371.049 152.427 367.508 Q154.255 363.943 154.255 356.836 Q154.255 349.707 152.427 346.165 Q150.621 342.6 146.987 342.6 M146.987 338.897 Q152.797 338.897 155.853 343.503 Q158.931 348.086 158.931 356.836 Q158.931 365.563 155.853 370.17 Q152.797 374.753 146.987 374.753 Q141.177 374.753 138.098 370.17 Q135.043 365.563 135.043 356.836 Q135.043 348.086 138.098 343.503 Q141.177 338.897 146.987 338.897 Z\" fill=\"#000000\" fill-rule=\"evenodd\" fill-opacity=\"1\" /><path clip-path=\"url(#clip640)\" d=\"M177.149 342.6 Q173.538 342.6 171.709 346.165 Q169.904 349.707 169.904 356.836 Q169.904 363.943 171.709 367.508 Q173.538 371.049 177.149 371.049 Q180.783 371.049 182.589 367.508 Q184.417 363.943 184.417 356.836 Q184.417 349.707 182.589 346.165 Q180.783 342.6 177.149 342.6 M177.149 338.897 Q182.959 338.897 186.015 343.503 Q189.093 348.086 189.093 356.836 Q189.093 365.563 186.015 370.17 Q182.959 374.753 177.149 374.753 Q171.339 374.753 168.26 370.17 Q165.204 365.563 165.204 356.836 Q165.204 348.086 168.26 343.503 Q171.339 338.897 177.149 338.897 Z\" fill=\"#000000\" fill-rule=\"evenodd\" fill-opacity=\"1\" /><path clip-path=\"url(#clip640)\" d=\"M207.311 342.6 Q203.7 342.6 201.871 346.165 Q200.065 349.707 200.065 356.836 Q200.065 363.943 201.871 367.508 Q203.7 371.049 207.311 371.049 Q210.945 371.049 212.751 367.508 Q214.579 363.943 214.579 356.836 Q214.579 349.707 212.751 346.165 Q210.945 342.6 207.311 342.6 M207.311 338.897 Q213.121 338.897 216.176 343.503 Q219.255 348.086 219.255 356.836 Q219.255 365.563 216.176 370.17 Q213.121 374.753 207.311 374.753 Q201.501 374.753 198.422 370.17 Q195.366 365.563 195.366 356.836 Q195.366 348.086 198.422 343.503 Q201.501 338.897 207.311 338.897 Z\" fill=\"#000000\" fill-rule=\"evenodd\" fill-opacity=\"1\" /><path clip-path=\"url(#clip640)\" d=\"M237.473 342.6 Q233.862 342.6 232.033 346.165 Q230.227 349.707 230.227 356.836 Q230.227 363.943 232.033 367.508 Q233.862 371.049 237.473 371.049 Q241.107 371.049 242.912 367.508 Q244.741 363.943 244.741 356.836 Q244.741 349.707 242.912 346.165 Q241.107 342.6 237.473 342.6 M237.473 338.897 Q243.283 338.897 246.338 343.503 Q249.417 348.086 249.417 356.836 Q249.417 365.563 246.338 370.17 Q243.283 374.753 237.473 374.753 Q231.662 374.753 228.584 370.17 Q225.528 365.563 225.528 356.836 Q225.528 348.086 228.584 343.503 Q231.662 338.897 237.473 338.897 Z\" fill=\"#000000\" fill-rule=\"evenodd\" fill-opacity=\"1\" /><path clip-path=\"url(#clip640)\" d=\"M257.681 339.522 L276.037 339.522 L276.037 343.457 L261.963 343.457 L261.963 351.929 Q262.982 351.582 264 351.42 Q265.019 351.235 266.037 351.235 Q271.824 351.235 275.204 354.406 Q278.583 357.577 278.583 362.994 Q278.583 368.572 275.111 371.674 Q271.639 374.753 265.32 374.753 Q263.144 374.753 260.875 374.383 Q258.63 374.012 256.223 373.272 L256.223 368.572 Q258.306 369.707 260.528 370.262 Q262.75 370.818 265.227 370.818 Q269.232 370.818 271.57 368.711 Q273.908 366.605 273.908 362.994 Q273.908 359.383 271.57 357.276 Q269.232 355.17 265.227 355.17 Q263.352 355.17 261.477 355.586 Q259.625 356.003 257.681 356.883 L257.681 339.522 Z\" fill=\"#000000\" fill-rule=\"evenodd\" fill-opacity=\"1\" /><polyline clip-path=\"url(#clip642)\" style=\"stroke:#009af9; stroke-linecap:round; stroke-linejoin:round; stroke-width:4; stroke-opacity:1; fill:none\" points=\"372.268,713.733 372.297,713.733 372.532,713.733 373.002,713.73 373.706,713.721 374.645,713.7 375.818,713.66 377.225,713.589 378.866,713.477 380.741,713.31 382.848,713.07 385.187,712.74 387.758,712.298 390.56,711.72 393.593,710.98 396.855,710.049 400.347,708.894 404.066,707.482 408.012,705.775 412.185,703.73 416.582,701.305 421.204,698.451 426.049,695.119 431.115,691.255 436.402,686.804 441.908,681.705 447.632,675.898 453.572,669.319 459.728,661.903 466.097,653.585 472.678,644.297 479.469,633.975 486.469,622.554 493.676,609.975 501.089,596.181 508.704,581.123 516.522,564.758 524.539,547.057 532.753,528.002 541.164,507.59 549.767,485.84 558.563,462.791 567.548,438.507 576.72,413.084 586.077,386.651 595.616,359.371 605.336,331.453 615.234,303.146 625.308,274.75 635.554,246.615 645.971,219.141 656.556,192.785 667.307,168.055 678.22,145.51 689.294,125.755 700.525,109.437 711.91,97.2354 723.448,89.8472 735.135,87.9763 746.968,92.313 758.944,103.513 771.061,122.173 783.315,148.803 795.703,183.797 808.224,227.398 820.872,279.673 833.646,340.474 846.542,409.417 859.557,485.856 872.688,568.863 885.931,657.228 899.284,749.46 912.743,843.804 926.305,938.28 939.967,1030.73 953.724,1118.89 967.575,1200.47 981.515,1273.25 995.541,1335.19 1009.65,1384.53 1023.84,1419.89 1038.1,1440.4 1052.44,1445.72 1066.84,1436.11 1081.31,1412.46 1095.84,1376.22 1110.43,1329.35 1125.08,1274.2 1139.77,1213.4 1154.51,1149.65 1169.3,1085.57 1184.13,1023.56 1198.99,965.629 1213.89,913.323 1228.81,867.648 1243.76,829.077 1258.74,797.598 1273.73,772.788 1288.73,753.929 1303.75,740.124 1318.77,730.408 1333.8,723.848 1348.83,719.608 1363.85,716.99 1378.87,715.452 1393.88,714.593 1408.87,714.14 1423.84,713.914 1438.79,713.809 1453.72,713.762 1468.61,713.744 1483.48,713.737 1498.3,713.734 1513.09,713.733 1527.83,713.733 1542.53,713.733 1557.17,713.733 1571.76,713.733 1586.29,713.733 1600.76,713.733 1615.17,713.733 1629.5,713.733 1643.77,713.733 1657.95,713.733 1672.06,713.733 1686.09,713.733 1700.03,713.733 1713.88,713.733 1727.64,713.733 1741.3,713.733 1754.86,713.733 1768.32,713.733 1781.67,713.733 1794.92,713.733 1808.05,713.733 1821.06,713.733 1833.96,713.733 1846.73,713.733 1859.38,713.733 1871.9,713.733 1884.29,713.733 1896.54,713.733 1908.66,713.733 1920.64,713.733 1932.47,713.733 1944.16,713.733 1955.69,713.733 1967.08,713.733 1978.31,713.733 1989.38,713.733 2000.3,713.733 2011.05,713.733 2021.63,713.733 2032.05,713.733 2042.3,713.733 2052.37,713.733 2062.27,713.733 2071.99,713.733 2081.53,713.733 2090.88,713.733 2100.06,713.733 2109.04,713.733 2117.84,713.733 2126.44,713.733 2134.85,713.733 2143.06,713.733 2151.08,713.733 2158.9,713.733 2166.51,713.733 2173.93,713.733 2181.13,713.733 2188.13,713.733 2194.93,713.733 2201.51,713.733 2207.88,713.733 2214.03,713.733 2219.97,713.733 2225.7,713.733 2231.2,713.733 2236.49,713.733 2241.56,713.733 2246.4,713.733 2251.02,713.733 2255.42,713.733 2259.59,713.733 2263.54,713.733 2267.26,713.733 2270.75,713.733 2274.01,713.733 2277.04,713.733 2279.85,713.733 2282.42,713.733 2284.76,713.733 2286.86,713.733 2288.74,713.733 2290.38,713.733 2291.79,713.733 2292.96,713.733 2293.9,713.733 2294.6,713.733 2295.07,713.733 \"/>\n",
       "<path clip-path=\"url(#clip640)\" d=\"M2028.57 198.898 L2284.82 198.898 L2284.82 95.2176 L2028.57 95.2176  Z\" fill=\"#ffffff\" fill-rule=\"evenodd\" fill-opacity=\"1\"/>\n",
       "<polyline clip-path=\"url(#clip640)\" style=\"stroke:#000000; stroke-linecap:round; stroke-linejoin:round; stroke-width:4; stroke-opacity:1; fill:none\" points=\"2028.57,198.898 2284.82,198.898 2284.82,95.2176 2028.57,95.2176 2028.57,198.898 \"/>\n",
       "<polyline clip-path=\"url(#clip640)\" style=\"stroke:#009af9; stroke-linecap:round; stroke-linejoin:round; stroke-width:4; stroke-opacity:1; fill:none\" points=\"2051.22,147.058 2187.09,147.058 \"/>\n",
       "<path clip-path=\"url(#clip640)\" d=\"M2223.58 166.745 Q2221.78 171.375 2220.06 172.787 Q2218.35 174.199 2215.48 174.199 L2212.08 174.199 L2212.08 170.634 L2214.58 170.634 Q2216.34 170.634 2217.31 169.8 Q2218.28 168.967 2219.46 165.865 L2220.23 163.921 L2209.74 138.412 L2214.25 138.412 L2222.36 158.689 L2230.46 138.412 L2234.97 138.412 L2223.58 166.745 Z\" fill=\"#000000\" fill-rule=\"evenodd\" fill-opacity=\"1\" /><path clip-path=\"url(#clip640)\" d=\"M2242.26 160.402 L2249.9 160.402 L2249.9 134.037 L2241.59 135.703 L2241.59 131.444 L2249.86 129.778 L2254.53 129.778 L2254.53 160.402 L2262.17 160.402 L2262.17 164.338 L2242.26 164.338 L2242.26 160.402 Z\" fill=\"#000000\" fill-rule=\"evenodd\" fill-opacity=\"1\" /></svg>\n"
      ]
     },
     "execution_count": 23,
     "metadata": {},
     "output_type": "execute_result"
    }
   ],
   "source": [
    "using Plots\n",
    "plot(initX1, derpsi_func(initX1))"
   ]
  },
  {
   "cell_type": "code",
   "execution_count": 66,
   "id": "6e1862b9",
   "metadata": {},
   "outputs": [
    {
     "data": {
      "text/plain": [
       "-1.5086563198078306e-16"
      ]
     },
     "execution_count": 66,
     "metadata": {},
     "output_type": "execute_result"
    }
   ],
   "source": [
    "m_func = Spline1D(initX[4:L-3],state_array[4:L-3,1],k=4)\n",
    "beta_func = Spline1D(initX[4:L-3],state_array[4:L-3,2],k=4)\n",
    "der_funcs=[derivative(m_func,initX) derivative(beta_func,initX) derivative(derpsi_func,initX)]\n",
    "der_funcs[2,1] # i is gridpoint, j is function"
   ]
  },
  {
   "cell_type": "code",
   "execution_count": 58,
   "id": "fe637a43",
   "metadata": {},
   "outputs": [
    {
     "data": {
      "text/plain": [
       "207-element Vector{Float64}:\n",
       " -3.6298572062043756e-16\n",
       " -1.5086563198078306e-16\n",
       " -4.2846357130174216e-17\n",
       " -3.826449677788914e-18\n",
       "  1.2955367671949918e-18\n",
       "  7.621048595599677e-18\n",
       "  5.1885306005563256e-17\n",
       "  2.109734086495333e-16\n",
       "  6.633715930192716e-16\n",
       "  1.768094158067992e-15\n",
       "  4.2032891114686175e-15\n",
       "  9.186535719427543e-15\n",
       "  1.882331476354324e-14\n",
       "  ⋮\n",
       " -3.776355223175436e-19\n",
       " -1.7646519734465227e-20\n",
       "  1.0587911840678348e-20\n",
       "  2.2651714422785337e-19\n",
       " -1.4750589189488752e-19\n",
       " -3.7472920178666525e-19\n",
       "  6.78866591885402e-20\n",
       " -2.96640705754548e-20\n",
       "  5.421010862427541e-19\n",
       "  3.1064380724396854e-18\n",
       "  8.986602830812212e-18\n",
       "  1.9505851304156383e-17"
      ]
     },
     "execution_count": 58,
     "metadata": {},
     "output_type": "execute_result"
    }
   ],
   "source": [
    "derivative(m_func,initX)"
   ]
  },
  {
   "cell_type": "code",
   "execution_count": null,
   "id": "ad5a5420",
   "metadata": {},
   "outputs": [],
   "source": []
  },
  {
   "cell_type": "code",
   "execution_count": null,
   "id": "45f11e59",
   "metadata": {},
   "outputs": [],
   "source": []
  },
  {
   "cell_type": "code",
   "execution_count": 166,
   "id": "ebb47395",
   "metadata": {},
   "outputs": [
    {
     "data": {
      "text/plain": [
       "3.9599527939805415e-10"
      ]
     },
     "execution_count": 166,
     "metadata": {},
     "output_type": "execute_result"
    }
   ],
   "source": [
    "derivative(derpsi_func,initX1[1])"
   ]
  },
  {
   "cell_type": "code",
   "execution_count": 163,
   "id": "f9796baf",
   "metadata": {},
   "outputs": [
    {
     "data": {
      "text/plain": [
       "3.9599527939805415e-10"
      ]
     },
     "execution_count": 163,
     "metadata": {},
     "output_type": "execute_result"
    }
   ],
   "source": [
    "derivative(derpsi_func,initX1)[1]"
   ]
  },
  {
   "cell_type": "code",
   "execution_count": 161,
   "id": "7901660a",
   "metadata": {},
   "outputs": [
    {
     "data": {
      "text/plain": [
       "3.9599527939805415e-10"
      ]
     },
     "execution_count": 161,
     "metadata": {},
     "output_type": "execute_result"
    }
   ],
   "source": [
    "derivative(derpsi_func,initX)[4]"
   ]
  },
  {
   "cell_type": "code",
   "execution_count": null,
   "id": "281f96fd",
   "metadata": {},
   "outputs": [],
   "source": []
  },
  {
   "cell_type": "code",
   "execution_count": null,
   "id": "07ddc6d6",
   "metadata": {},
   "outputs": [],
   "source": []
  },
  {
   "cell_type": "code",
   "execution_count": null,
   "id": "61c7c8bd",
   "metadata": {},
   "outputs": [],
   "source": []
  },
  {
   "cell_type": "code",
   "execution_count": null,
   "id": "3ec9634d",
   "metadata": {},
   "outputs": [],
   "source": [
    "aux=doublegrid(initX1)\n",
    "\n",
    "using Plots\n",
    "plot(aux, derpsi_func(aux).-init_gaussian_der(aux,r0,sigma,A), xaxis=\"x\",title=\"Initial Data\", labels=[\"m\" \"beta\" \"psi\" \"psi,x\"])#, ylim=[0, 10^(-13)])\n",
    "\n",
    "##\n",
    "\n",
    "x2=aux\n",
    "y2=derpsi_func(aux).-init_gaussian_der(aux,r0,sigma,A);\n",
    "\n",
    "##\n",
    "\n",
    "double_resolution=y2\n",
    "basis_resolution=y1\n",
    "xs = ( x1, x2 )\n",
    "ys = ( basis_resolution, double_resolution*16*4 )\n",
    "p = plot()\n",
    "map(x->plot!(x[1],x[2],xaxis=\"x\",title=\"Interpolation error\", legend=false), zip(xs, ys))\n",
    "display(p)\n",
    "     "
   ]
  }
 ],
 "metadata": {
  "@webio": {
   "lastCommId": null,
   "lastKernelId": null
  },
  "kernelspec": {
   "display_name": "Julia 1.8.0",
   "language": "julia",
   "name": "julia-1.8"
  },
  "language_info": {
   "file_extension": ".jl",
   "mimetype": "application/julia",
   "name": "julia",
   "version": "1.8.0"
  },
  "papermill": {
   "default_parameters": {},
   "duration": 7025.507115,
   "end_time": "2023-03-28T20:03:06.430756",
   "environment_variables": {},
   "exception": null,
   "input_path": "Evolution_ScalarField.ipynb",
   "output_path": "Evolution_ScalarField.ipynb",
   "parameters": {
    "A": 0.001,
    "m": 3
   },
   "start_time": "2023-03-28T18:06:00.923641",
   "version": "2.4.0"
  }
 },
 "nbformat": 4,
 "nbformat_minor": 5
}
