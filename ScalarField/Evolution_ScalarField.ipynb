{
 "cells": [
  {
   "cell_type": "markdown",
   "id": "d88601a8",
   "metadata": {
    "papermill": {
     "duration": 0.015163,
     "end_time": "2023-06-25T23:42:57.186088",
     "exception": false,
     "start_time": "2023-06-25T23:42:57.170925",
     "status": "completed"
    },
    "tags": []
   },
   "source": [
    "# Evolution of Einstein's equations"
   ]
  },
  {
   "cell_type": "markdown",
   "id": "03c607c7",
   "metadata": {
    "papermill": {
     "duration": 0.010424,
     "end_time": "2023-06-25T23:42:57.208893",
     "exception": false,
     "start_time": "2023-06-25T23:42:57.198469",
     "status": "completed"
    },
    "tags": []
   },
   "source": [
    "# Initial data , setting length of the domain and discretization\n"
   ]
  },
  {
   "cell_type": "code",
   "execution_count": 18,
   "id": "28f9b745",
   "metadata": {
    "execution": {
     "iopub.execute_input": "2023-06-26T00:42:59.100000Z",
     "iopub.status.busy": "2023-06-26T00:42:59.099000Z",
     "iopub.status.idle": "2023-06-26T00:42:59.434000Z",
     "shell.execute_reply": "2023-06-26T00:42:59.433000Z"
    },
    "papermill": {
     "duration": 0.350967,
     "end_time": "2023-06-25T23:42:59.438671",
     "exception": false,
     "start_time": "2023-06-25T23:42:59.087704",
     "status": "completed"
    },
    "tags": []
   },
   "outputs": [
    {
     "data": {
      "text/plain": [
       "1"
      ]
     },
     "execution_count": 18,
     "metadata": {},
     "output_type": "execute_result"
    }
   ],
   "source": [
    "m = 1\n",
    "A = 0.01#0.0492646484375#0.001#0.049375#5#0.0492645084166179#0.049264507293701174#0.049264508247375494#0.04925#0.0493#0.001#0.049375#0.07#0.05#0.1124921875#0.125\n",
    "run = 1"
   ]
  },
  {
   "cell_type": "code",
   "execution_count": 19,
   "id": "2ff5e8df",
   "metadata": {
    "execution": {
     "iopub.execute_input": "2023-06-26T00:42:59.466000Z",
     "iopub.status.busy": "2023-06-26T00:42:59.466000Z",
     "iopub.status.idle": "2023-06-26T00:42:59.523000Z",
     "shell.execute_reply": "2023-06-26T00:42:59.522000Z"
    },
    "papermill": {
     "duration": 0.071685,
     "end_time": "2023-06-25T23:42:59.525548",
     "exception": false,
     "start_time": "2023-06-25T23:42:59.453863",
     "status": "completed"
    },
    "tags": []
   },
   "outputs": [],
   "source": [
    "global loggrid=false#true\n",
    "global bisection=false\n",
    "global meshrefinement=false;"
   ]
  },
  {
   "cell_type": "code",
   "execution_count": 20,
   "id": "80a113e0",
   "metadata": {
    "execution": {
     "iopub.execute_input": "2023-06-26T00:42:59.552000Z",
     "iopub.status.busy": "2023-06-26T00:42:59.552000Z",
     "iopub.status.idle": "2023-06-26T00:42:59.621000Z",
     "shell.execute_reply": "2023-06-26T00:42:59.621000Z"
    },
    "papermill": {
     "duration": 0.08251,
     "end_time": "2023-06-25T23:42:59.622720",
     "exception": false,
     "start_time": "2023-06-25T23:42:59.540210",
     "status": "completed"
    },
    "tags": []
   },
   "outputs": [],
   "source": [
    "using Quadmath, Printf\n",
    "\n",
    "res=m;\n",
    "N=100.0#2.0^m*1600.0/2.0#2.0^m*1000.0/2.0#Nt=2.0^m*1000.0/2.0\n",
    "Xf=1.0#Float128(1.0);\n",
    "\n",
    "dx=Xf/N#Float128(Xf/N);\n",
    "if loggrid==false\n",
    "    dt=0.5*round(dx,digits=10)\n",
    "else\n",
    "    dt=0.1*round(dx,digits=10)\n",
    "end\n",
    "Nt=100.0#2.0^m*1600.0/2.0#2.0^m*1000.0/2.0#Nt=2.0^m*1000.0/2.0\n",
    "Tf=Nt*dt; #final time\n",
    "#print(Tf)"
   ]
  },
  {
   "cell_type": "code",
   "execution_count": 21,
   "id": "4f752d54",
   "metadata": {
    "execution": {
     "iopub.execute_input": "2023-06-26T00:42:59.638000Z",
     "iopub.status.busy": "2023-06-26T00:42:59.638000Z",
     "iopub.status.idle": "2023-06-26T00:42:59.702000Z",
     "shell.execute_reply": "2023-06-26T00:42:59.702000Z"
    },
    "papermill": {
     "duration": 0.077298,
     "end_time": "2023-06-25T23:42:59.707408",
     "exception": false,
     "start_time": "2023-06-25T23:42:59.630110",
     "status": "completed"
    },
    "tags": []
   },
   "outputs": [
    {
     "name": "stdout",
     "output_type": "stream",
     "text": [
      "100.0"
     ]
    }
   ],
   "source": [
    "print(N)"
   ]
  },
  {
   "cell_type": "code",
   "execution_count": 22,
   "id": "ad48576a",
   "metadata": {
    "execution": {
     "iopub.execute_input": "2023-06-26T00:42:59.729000Z",
     "iopub.status.busy": "2023-06-26T00:42:59.729000Z",
     "iopub.status.idle": "2023-06-26T00:42:59.783000Z",
     "shell.execute_reply": "2023-06-26T00:42:59.783000Z"
    },
    "papermill": {
     "duration": 0.067163,
     "end_time": "2023-06-25T23:42:59.787014",
     "exception": false,
     "start_time": "2023-06-25T23:42:59.719851",
     "status": "completed"
    },
    "tags": []
   },
   "outputs": [
    {
     "name": "stdout",
     "output_type": "stream",
     "text": [
      "dx =0.01\n",
      "dt =0.005\n",
      "dx/dt =2.0\n"
     ]
    }
   ],
   "source": [
    "println(\"dx =\", dx)\n",
    "println(\"dt =\", dt)\n",
    "println(\"dx/dt =\", dx/dt)"
   ]
  },
  {
   "cell_type": "code",
   "execution_count": 23,
   "id": "78fb78a5",
   "metadata": {
    "execution": {
     "iopub.execute_input": "2023-06-26T00:42:59.810000Z",
     "iopub.status.busy": "2023-06-26T00:42:59.810000Z",
     "iopub.status.idle": "2023-06-26T00:43:00.498000Z",
     "shell.execute_reply": "2023-06-26T00:43:00.497000Z"
    },
    "papermill": {
     "duration": 0.702356,
     "end_time": "2023-06-25T23:43:00.502911",
     "exception": false,
     "start_time": "2023-06-25T23:42:59.800555",
     "status": "completed"
    },
    "tags": []
   },
   "outputs": [
    {
     "data": {
      "text/plain": [
       "\"/home/rita13santos/Desktop/MSc Thesis/Git/ScalarField/DATA\""
      ]
     },
     "execution_count": 23,
     "metadata": {},
     "output_type": "execute_result"
    }
   ],
   "source": [
    "global dir = \"/home/rita13santos/Desktop/MSc Thesis/Git/ScalarField/DATA\" #~/data/ritapsantos/\n",
    "#global dir = \"/home/rita13santos/Desktop/MSc Thesis/Git/ScalarField/DATA\""
   ]
  },
  {
   "cell_type": "markdown",
   "id": "e2dd4335",
   "metadata": {
    "papermill": {
     "duration": 0.006798,
     "end_time": "2023-06-25T23:43:00.521277",
     "exception": false,
     "start_time": "2023-06-25T23:43:00.514479",
     "status": "completed"
    },
    "tags": []
   },
   "source": [
    "# Grid"
   ]
  },
  {
   "cell_type": "code",
   "execution_count": 24,
   "id": "bc5288f8",
   "metadata": {
    "execution": {
     "iopub.execute_input": "2023-06-26T00:43:00.535000Z",
     "iopub.status.busy": "2023-06-26T00:43:00.535000Z",
     "iopub.status.idle": "2023-06-26T00:43:00.813000Z",
     "shell.execute_reply": "2023-06-26T00:43:00.812000Z"
    },
    "papermill": {
     "duration": 0.288149,
     "end_time": "2023-06-25T23:43:00.816198",
     "exception": false,
     "start_time": "2023-06-25T23:43:00.528049",
     "status": "completed"
    },
    "tags": []
   },
   "outputs": [],
   "source": [
    "using Printf\n",
    "include(\"./ScalarField.jl\");"
   ]
  },
  {
   "cell_type": "code",
   "execution_count": 25,
   "id": "de24fea3",
   "metadata": {
    "execution": {
     "iopub.execute_input": "2023-06-26T00:43:00.841000Z",
     "iopub.status.busy": "2023-06-26T00:43:00.841000Z",
     "iopub.status.idle": "2023-06-26T00:43:01.456000Z",
     "shell.execute_reply": "2023-06-26T00:43:01.456000Z"
    },
    "papermill": {
     "duration": 0.631177,
     "end_time": "2023-06-25T23:43:01.461452",
     "exception": false,
     "start_time": "2023-06-25T23:43:00.830275",
     "status": "completed"
    },
    "tags": []
   },
   "outputs": [
    {
     "name": "stdout",
     "output_type": "stream",
     "text": [
      "step size is  0.01\n",
      "the time step is 0.005\n"
     ]
    }
   ],
   "source": [
    "ori=0.0#Float128(0.0)#0.0;\n",
    "initX1 = nothing\n",
    "N=int(N)\n",
    "initX1=range(ori, stop=Xf, step=dx);\n",
    "#initX1=create_range(ori,Xf,dx,N)\n",
    "initX = range(round(ori-3.0*dx,digits=10), stop=Xf+3.0*dx, step=dx)\n",
    "#initX=create_range(ori-3.0*dx,Xf+3.0*dx,dx,N+6)\n",
    "\n",
    "L=length(initX);\n",
    "println(\"step size is  \", dx)\n",
    "println(\"the time step is \", dt)\n",
    "\n",
    "if loggrid==true\n",
    "    \"\"\"global originalX=initX\n",
    "    xtilde=gridfunc(initX1)\n",
    "    initX1=xtilde\n",
    "    initX=collect(initX)\n",
    "    initX[4:L-3]=xtilde\"\"\"\n",
    "    global originalX=initX\n",
    "    xtilde=gridfunc(initX1)\n",
    "    initX1=xtilde\n",
    "    initX=collect(initX)\n",
    "    initX[4:L-4]=xtilde[1:length(xtilde)-1]\n",
    "end;"
   ]
  },
  {
   "cell_type": "code",
   "execution_count": 26,
   "id": "ebd8190d",
   "metadata": {},
   "outputs": [
    {
     "data": {
      "image/svg+xml": [
       "<?xml version=\"1.0\" encoding=\"utf-8\"?>\n",
       "<svg xmlns=\"http://www.w3.org/2000/svg\" xmlns:xlink=\"http://www.w3.org/1999/xlink\" width=\"600\" height=\"400\" viewBox=\"0 0 2400 1600\">\n",
       "<defs>\n",
       "  <clipPath id=\"clip960\">\n",
       "    <rect x=\"0\" y=\"0\" width=\"2400\" height=\"1600\"/>\n",
       "  </clipPath>\n",
       "</defs>\n",
       "<path clip-path=\"url(#clip960)\" d=\"M0 1600 L2400 1600 L2400 0 L0 0  Z\" fill=\"#ffffff\" fill-rule=\"evenodd\" fill-opacity=\"1\"/>\n",
       "<defs>\n",
       "  <clipPath id=\"clip961\">\n",
       "    <rect x=\"480\" y=\"0\" width=\"1681\" height=\"1600\"/>\n",
       "  </clipPath>\n",
       "</defs>\n",
       "<path clip-path=\"url(#clip960)\" d=\"M193.936 1486.45 L2352.76 1486.45 L2352.76 47.2441 L193.936 47.2441  Z\" fill=\"#ffffff\" fill-rule=\"evenodd\" fill-opacity=\"1\"/>\n",
       "<defs>\n",
       "  <clipPath id=\"clip962\">\n",
       "    <rect x=\"193\" y=\"47\" width=\"2160\" height=\"1440\"/>\n",
       "  </clipPath>\n",
       "</defs>\n",
       "<polyline clip-path=\"url(#clip962)\" style=\"stroke:#000000; stroke-linecap:round; stroke-linejoin:round; stroke-width:2; stroke-opacity:0.1; fill:none\" points=\"312.675,1486.45 312.675,47.2441 \"/>\n",
       "<polyline clip-path=\"url(#clip962)\" style=\"stroke:#000000; stroke-linecap:round; stroke-linejoin:round; stroke-width:2; stroke-opacity:0.1; fill:none\" points=\"793.01,1486.45 793.01,47.2441 \"/>\n",
       "<polyline clip-path=\"url(#clip962)\" style=\"stroke:#000000; stroke-linecap:round; stroke-linejoin:round; stroke-width:2; stroke-opacity:0.1; fill:none\" points=\"1273.35,1486.45 1273.35,47.2441 \"/>\n",
       "<polyline clip-path=\"url(#clip962)\" style=\"stroke:#000000; stroke-linecap:round; stroke-linejoin:round; stroke-width:2; stroke-opacity:0.1; fill:none\" points=\"1753.68,1486.45 1753.68,47.2441 \"/>\n",
       "<polyline clip-path=\"url(#clip962)\" style=\"stroke:#000000; stroke-linecap:round; stroke-linejoin:round; stroke-width:2; stroke-opacity:0.1; fill:none\" points=\"2234.02,1486.45 2234.02,47.2441 \"/>\n",
       "<polyline clip-path=\"url(#clip960)\" style=\"stroke:#000000; stroke-linecap:round; stroke-linejoin:round; stroke-width:4; stroke-opacity:1; fill:none\" points=\"193.936,1486.45 2352.76,1486.45 \"/>\n",
       "<polyline clip-path=\"url(#clip960)\" style=\"stroke:#000000; stroke-linecap:round; stroke-linejoin:round; stroke-width:4; stroke-opacity:1; fill:none\" points=\"312.675,1486.45 312.675,1467.55 \"/>\n",
       "<polyline clip-path=\"url(#clip960)\" style=\"stroke:#000000; stroke-linecap:round; stroke-linejoin:round; stroke-width:4; stroke-opacity:1; fill:none\" points=\"793.01,1486.45 793.01,1467.55 \"/>\n",
       "<polyline clip-path=\"url(#clip960)\" style=\"stroke:#000000; stroke-linecap:round; stroke-linejoin:round; stroke-width:4; stroke-opacity:1; fill:none\" points=\"1273.35,1486.45 1273.35,1467.55 \"/>\n",
       "<polyline clip-path=\"url(#clip960)\" style=\"stroke:#000000; stroke-linecap:round; stroke-linejoin:round; stroke-width:4; stroke-opacity:1; fill:none\" points=\"1753.68,1486.45 1753.68,1467.55 \"/>\n",
       "<polyline clip-path=\"url(#clip960)\" style=\"stroke:#000000; stroke-linecap:round; stroke-linejoin:round; stroke-width:4; stroke-opacity:1; fill:none\" points=\"2234.02,1486.45 2234.02,1467.55 \"/>\n",
       "<path clip-path=\"url(#clip960)\" d=\"M274.978 1517.37 Q271.367 1517.37 269.539 1520.93 Q267.733 1524.47 267.733 1531.6 Q267.733 1538.71 269.539 1542.27 Q271.367 1545.82 274.978 1545.82 Q278.613 1545.82 280.418 1542.27 Q282.247 1538.71 282.247 1531.6 Q282.247 1524.47 280.418 1520.93 Q278.613 1517.37 274.978 1517.37 M274.978 1513.66 Q280.789 1513.66 283.844 1518.27 Q286.923 1522.85 286.923 1531.6 Q286.923 1540.33 283.844 1544.94 Q280.789 1549.52 274.978 1549.52 Q269.168 1549.52 266.09 1544.94 Q263.034 1540.33 263.034 1531.6 Q263.034 1522.85 266.09 1518.27 Q269.168 1513.66 274.978 1513.66 Z\" fill=\"#000000\" fill-rule=\"evenodd\" fill-opacity=\"1\" /><path clip-path=\"url(#clip960)\" d=\"M295.14 1542.97 L300.025 1542.97 L300.025 1548.85 L295.14 1548.85 L295.14 1542.97 Z\" fill=\"#000000\" fill-rule=\"evenodd\" fill-opacity=\"1\" /><path clip-path=\"url(#clip960)\" d=\"M320.21 1517.37 Q316.599 1517.37 314.77 1520.93 Q312.964 1524.47 312.964 1531.6 Q312.964 1538.71 314.77 1542.27 Q316.599 1545.82 320.21 1545.82 Q323.844 1545.82 325.649 1542.27 Q327.478 1538.71 327.478 1531.6 Q327.478 1524.47 325.649 1520.93 Q323.844 1517.37 320.21 1517.37 M320.21 1513.66 Q326.02 1513.66 329.075 1518.27 Q332.154 1522.85 332.154 1531.6 Q332.154 1540.33 329.075 1544.94 Q326.02 1549.52 320.21 1549.52 Q314.399 1549.52 311.321 1544.94 Q308.265 1540.33 308.265 1531.6 Q308.265 1522.85 311.321 1518.27 Q314.399 1513.66 320.21 1513.66 Z\" fill=\"#000000\" fill-rule=\"evenodd\" fill-opacity=\"1\" /><path clip-path=\"url(#clip960)\" d=\"M350.371 1517.37 Q346.76 1517.37 344.932 1520.93 Q343.126 1524.47 343.126 1531.6 Q343.126 1538.71 344.932 1542.27 Q346.76 1545.82 350.371 1545.82 Q354.006 1545.82 355.811 1542.27 Q357.64 1538.71 357.64 1531.6 Q357.64 1524.47 355.811 1520.93 Q354.006 1517.37 350.371 1517.37 M350.371 1513.66 Q356.182 1513.66 359.237 1518.27 Q362.316 1522.85 362.316 1531.6 Q362.316 1540.33 359.237 1544.94 Q356.182 1549.52 350.371 1549.52 Q344.561 1549.52 341.483 1544.94 Q338.427 1540.33 338.427 1531.6 Q338.427 1522.85 341.483 1518.27 Q344.561 1513.66 350.371 1513.66 Z\" fill=\"#000000\" fill-rule=\"evenodd\" fill-opacity=\"1\" /><path clip-path=\"url(#clip960)\" d=\"M755.812 1517.37 Q752.2 1517.37 750.372 1520.93 Q748.566 1524.47 748.566 1531.6 Q748.566 1538.71 750.372 1542.27 Q752.2 1545.82 755.812 1545.82 Q759.446 1545.82 761.251 1542.27 Q763.08 1538.71 763.08 1531.6 Q763.08 1524.47 761.251 1520.93 Q759.446 1517.37 755.812 1517.37 M755.812 1513.66 Q761.622 1513.66 764.677 1518.27 Q767.756 1522.85 767.756 1531.6 Q767.756 1540.33 764.677 1544.94 Q761.622 1549.52 755.812 1549.52 Q750.001 1549.52 746.923 1544.94 Q743.867 1540.33 743.867 1531.6 Q743.867 1522.85 746.923 1518.27 Q750.001 1513.66 755.812 1513.66 Z\" fill=\"#000000\" fill-rule=\"evenodd\" fill-opacity=\"1\" /><path clip-path=\"url(#clip960)\" d=\"M775.973 1542.97 L780.858 1542.97 L780.858 1548.85 L775.973 1548.85 L775.973 1542.97 Z\" fill=\"#000000\" fill-rule=\"evenodd\" fill-opacity=\"1\" /><path clip-path=\"url(#clip960)\" d=\"M795.071 1544.91 L811.39 1544.91 L811.39 1548.85 L789.446 1548.85 L789.446 1544.91 Q792.108 1542.16 796.691 1537.53 Q801.297 1532.88 802.478 1531.53 Q804.723 1529.01 805.603 1527.27 Q806.506 1525.51 806.506 1523.82 Q806.506 1521.07 804.561 1519.33 Q802.64 1517.6 799.538 1517.6 Q797.339 1517.6 794.885 1518.36 Q792.455 1519.13 789.677 1520.68 L789.677 1515.95 Q792.501 1514.82 794.955 1514.24 Q797.409 1513.66 799.446 1513.66 Q804.816 1513.66 808.01 1516.35 Q811.205 1519.03 811.205 1523.52 Q811.205 1525.65 810.395 1527.57 Q809.608 1529.47 807.501 1532.07 Q806.922 1532.74 803.821 1535.95 Q800.719 1539.15 795.071 1544.91 Z\" fill=\"#000000\" fill-rule=\"evenodd\" fill-opacity=\"1\" /><path clip-path=\"url(#clip960)\" d=\"M821.251 1514.29 L839.607 1514.29 L839.607 1518.22 L825.533 1518.22 L825.533 1526.7 Q826.552 1526.35 827.57 1526.19 Q828.589 1526 829.607 1526 Q835.394 1526 838.774 1529.17 Q842.154 1532.34 842.154 1537.76 Q842.154 1543.34 838.681 1546.44 Q835.209 1549.52 828.89 1549.52 Q826.714 1549.52 824.445 1549.15 Q822.2 1548.78 819.793 1548.04 L819.793 1543.34 Q821.876 1544.47 824.098 1545.03 Q826.32 1545.58 828.797 1545.58 Q832.802 1545.58 835.14 1543.48 Q837.478 1541.37 837.478 1537.76 Q837.478 1534.15 835.14 1532.04 Q832.802 1529.94 828.797 1529.94 Q826.922 1529.94 825.047 1530.35 Q823.195 1530.77 821.251 1531.65 L821.251 1514.29 Z\" fill=\"#000000\" fill-rule=\"evenodd\" fill-opacity=\"1\" /><path clip-path=\"url(#clip960)\" d=\"M1235.65 1517.37 Q1232.04 1517.37 1230.21 1520.93 Q1228.4 1524.47 1228.4 1531.6 Q1228.4 1538.71 1230.21 1542.27 Q1232.04 1545.82 1235.65 1545.82 Q1239.28 1545.82 1241.09 1542.27 Q1242.92 1538.71 1242.92 1531.6 Q1242.92 1524.47 1241.09 1520.93 Q1239.28 1517.37 1235.65 1517.37 M1235.65 1513.66 Q1241.46 1513.66 1244.52 1518.27 Q1247.59 1522.85 1247.59 1531.6 Q1247.59 1540.33 1244.52 1544.94 Q1241.46 1549.52 1235.65 1549.52 Q1229.84 1549.52 1226.76 1544.94 Q1223.71 1540.33 1223.71 1531.6 Q1223.71 1522.85 1226.76 1518.27 Q1229.84 1513.66 1235.65 1513.66 Z\" fill=\"#000000\" fill-rule=\"evenodd\" fill-opacity=\"1\" /><path clip-path=\"url(#clip960)\" d=\"M1255.81 1542.97 L1260.7 1542.97 L1260.7 1548.85 L1255.81 1548.85 L1255.81 1542.97 Z\" fill=\"#000000\" fill-rule=\"evenodd\" fill-opacity=\"1\" /><path clip-path=\"url(#clip960)\" d=\"M1270.93 1514.29 L1289.28 1514.29 L1289.28 1518.22 L1275.21 1518.22 L1275.21 1526.7 Q1276.23 1526.35 1277.25 1526.19 Q1278.26 1526 1279.28 1526 Q1285.07 1526 1288.45 1529.17 Q1291.83 1532.34 1291.83 1537.76 Q1291.83 1543.34 1288.36 1546.44 Q1284.89 1549.52 1278.57 1549.52 Q1276.39 1549.52 1274.12 1549.15 Q1271.88 1548.78 1269.47 1548.04 L1269.47 1543.34 Q1271.55 1544.47 1273.77 1545.03 Q1276 1545.58 1278.47 1545.58 Q1282.48 1545.58 1284.82 1543.48 Q1287.15 1541.37 1287.15 1537.76 Q1287.15 1534.15 1284.82 1532.04 Q1282.48 1529.94 1278.47 1529.94 Q1276.6 1529.94 1274.72 1530.35 Q1272.87 1530.77 1270.93 1531.65 L1270.93 1514.29 Z\" fill=\"#000000\" fill-rule=\"evenodd\" fill-opacity=\"1\" /><path clip-path=\"url(#clip960)\" d=\"M1311.04 1517.37 Q1307.43 1517.37 1305.6 1520.93 Q1303.8 1524.47 1303.8 1531.6 Q1303.8 1538.71 1305.6 1542.27 Q1307.43 1545.82 1311.04 1545.82 Q1314.68 1545.82 1316.48 1542.27 Q1318.31 1538.71 1318.31 1531.6 Q1318.31 1524.47 1316.48 1520.93 Q1314.68 1517.37 1311.04 1517.37 M1311.04 1513.66 Q1316.85 1513.66 1319.91 1518.27 Q1322.99 1522.85 1322.99 1531.6 Q1322.99 1540.33 1319.91 1544.94 Q1316.85 1549.52 1311.04 1549.52 Q1305.23 1549.52 1302.15 1544.94 Q1299.1 1540.33 1299.1 1531.6 Q1299.1 1522.85 1302.15 1518.27 Q1305.23 1513.66 1311.04 1513.66 Z\" fill=\"#000000\" fill-rule=\"evenodd\" fill-opacity=\"1\" /><path clip-path=\"url(#clip960)\" d=\"M1716.48 1517.37 Q1712.87 1517.37 1711.04 1520.93 Q1709.24 1524.47 1709.24 1531.6 Q1709.24 1538.71 1711.04 1542.27 Q1712.87 1545.82 1716.48 1545.82 Q1720.12 1545.82 1721.92 1542.27 Q1723.75 1538.71 1723.75 1531.6 Q1723.75 1524.47 1721.92 1520.93 Q1720.12 1517.37 1716.48 1517.37 M1716.48 1513.66 Q1722.29 1513.66 1725.35 1518.27 Q1728.43 1522.85 1728.43 1531.6 Q1728.43 1540.33 1725.35 1544.94 Q1722.29 1549.52 1716.48 1549.52 Q1710.67 1549.52 1707.59 1544.94 Q1704.54 1540.33 1704.54 1531.6 Q1704.54 1522.85 1707.59 1518.27 Q1710.67 1513.66 1716.48 1513.66 Z\" fill=\"#000000\" fill-rule=\"evenodd\" fill-opacity=\"1\" /><path clip-path=\"url(#clip960)\" d=\"M1736.64 1542.97 L1741.53 1542.97 L1741.53 1548.85 L1736.64 1548.85 L1736.64 1542.97 Z\" fill=\"#000000\" fill-rule=\"evenodd\" fill-opacity=\"1\" /><path clip-path=\"url(#clip960)\" d=\"M1750.53 1514.29 L1772.76 1514.29 L1772.76 1516.28 L1760.21 1548.85 L1755.32 1548.85 L1767.13 1518.22 L1750.53 1518.22 L1750.53 1514.29 Z\" fill=\"#000000\" fill-rule=\"evenodd\" fill-opacity=\"1\" /><path clip-path=\"url(#clip960)\" d=\"M1781.92 1514.29 L1800.28 1514.29 L1800.28 1518.22 L1786.2 1518.22 L1786.2 1526.7 Q1787.22 1526.35 1788.24 1526.19 Q1789.26 1526 1790.28 1526 Q1796.07 1526 1799.45 1529.17 Q1802.82 1532.34 1802.82 1537.76 Q1802.82 1543.34 1799.35 1546.44 Q1795.88 1549.52 1789.56 1549.52 Q1787.38 1549.52 1785.12 1549.15 Q1782.87 1548.78 1780.46 1548.04 L1780.46 1543.34 Q1782.55 1544.47 1784.77 1545.03 Q1786.99 1545.58 1789.47 1545.58 Q1793.47 1545.58 1795.81 1543.48 Q1798.15 1541.37 1798.15 1537.76 Q1798.15 1534.15 1795.81 1532.04 Q1793.47 1529.94 1789.47 1529.94 Q1787.59 1529.94 1785.72 1530.35 Q1783.87 1530.77 1781.92 1531.65 L1781.92 1514.29 Z\" fill=\"#000000\" fill-rule=\"evenodd\" fill-opacity=\"1\" /><path clip-path=\"url(#clip960)\" d=\"M2186.09 1544.91 L2193.73 1544.91 L2193.73 1518.55 L2185.42 1520.21 L2185.42 1515.95 L2193.68 1514.29 L2198.36 1514.29 L2198.36 1544.91 L2206 1544.91 L2206 1548.85 L2186.09 1548.85 L2186.09 1544.91 Z\" fill=\"#000000\" fill-rule=\"evenodd\" fill-opacity=\"1\" /><path clip-path=\"url(#clip960)\" d=\"M2215.44 1542.97 L2220.32 1542.97 L2220.32 1548.85 L2215.44 1548.85 L2215.44 1542.97 Z\" fill=\"#000000\" fill-rule=\"evenodd\" fill-opacity=\"1\" /><path clip-path=\"url(#clip960)\" d=\"M2240.51 1517.37 Q2236.9 1517.37 2235.07 1520.93 Q2233.26 1524.47 2233.26 1531.6 Q2233.26 1538.71 2235.07 1542.27 Q2236.9 1545.82 2240.51 1545.82 Q2244.14 1545.82 2245.95 1542.27 Q2247.78 1538.71 2247.78 1531.6 Q2247.78 1524.47 2245.95 1520.93 Q2244.14 1517.37 2240.51 1517.37 M2240.51 1513.66 Q2246.32 1513.66 2249.38 1518.27 Q2252.45 1522.85 2252.45 1531.6 Q2252.45 1540.33 2249.38 1544.94 Q2246.32 1549.52 2240.51 1549.52 Q2234.7 1549.52 2231.62 1544.94 Q2228.57 1540.33 2228.57 1531.6 Q2228.57 1522.85 2231.62 1518.27 Q2234.7 1513.66 2240.51 1513.66 Z\" fill=\"#000000\" fill-rule=\"evenodd\" fill-opacity=\"1\" /><path clip-path=\"url(#clip960)\" d=\"M2270.67 1517.37 Q2267.06 1517.37 2265.23 1520.93 Q2263.43 1524.47 2263.43 1531.6 Q2263.43 1538.71 2265.23 1542.27 Q2267.06 1545.82 2270.67 1545.82 Q2274.31 1545.82 2276.11 1542.27 Q2277.94 1538.71 2277.94 1531.6 Q2277.94 1524.47 2276.11 1520.93 Q2274.31 1517.37 2270.67 1517.37 M2270.67 1513.66 Q2276.48 1513.66 2279.54 1518.27 Q2282.62 1522.85 2282.62 1531.6 Q2282.62 1540.33 2279.54 1544.94 Q2276.48 1549.52 2270.67 1549.52 Q2264.86 1549.52 2261.78 1544.94 Q2258.73 1540.33 2258.73 1531.6 Q2258.73 1522.85 2261.78 1518.27 Q2264.86 1513.66 2270.67 1513.66 Z\" fill=\"#000000\" fill-rule=\"evenodd\" fill-opacity=\"1\" /><polyline clip-path=\"url(#clip962)\" style=\"stroke:#000000; stroke-linecap:round; stroke-linejoin:round; stroke-width:2; stroke-opacity:0.1; fill:none\" points=\"193.936,1486.45 2352.76,1486.45 \"/>\n",
       "<polyline clip-path=\"url(#clip962)\" style=\"stroke:#000000; stroke-linecap:round; stroke-linejoin:round; stroke-width:2; stroke-opacity:0.1; fill:none\" points=\"193.936,1126.65 2352.76,1126.65 \"/>\n",
       "<polyline clip-path=\"url(#clip962)\" style=\"stroke:#000000; stroke-linecap:round; stroke-linejoin:round; stroke-width:2; stroke-opacity:0.1; fill:none\" points=\"193.936,766.846 2352.76,766.846 \"/>\n",
       "<polyline clip-path=\"url(#clip962)\" style=\"stroke:#000000; stroke-linecap:round; stroke-linejoin:round; stroke-width:2; stroke-opacity:0.1; fill:none\" points=\"193.936,407.045 2352.76,407.045 \"/>\n",
       "<polyline clip-path=\"url(#clip962)\" style=\"stroke:#000000; stroke-linecap:round; stroke-linejoin:round; stroke-width:2; stroke-opacity:0.1; fill:none\" points=\"193.936,47.2441 2352.76,47.2441 \"/>\n",
       "<polyline clip-path=\"url(#clip960)\" style=\"stroke:#000000; stroke-linecap:round; stroke-linejoin:round; stroke-width:4; stroke-opacity:1; fill:none\" points=\"193.936,1486.45 193.936,47.2441 \"/>\n",
       "<polyline clip-path=\"url(#clip960)\" style=\"stroke:#000000; stroke-linecap:round; stroke-linejoin:round; stroke-width:4; stroke-opacity:1; fill:none\" points=\"193.936,1486.45 212.834,1486.45 \"/>\n",
       "<polyline clip-path=\"url(#clip960)\" style=\"stroke:#000000; stroke-linecap:round; stroke-linejoin:round; stroke-width:4; stroke-opacity:1; fill:none\" points=\"193.936,1126.65 212.834,1126.65 \"/>\n",
       "<polyline clip-path=\"url(#clip960)\" style=\"stroke:#000000; stroke-linecap:round; stroke-linejoin:round; stroke-width:4; stroke-opacity:1; fill:none\" points=\"193.936,766.846 212.834,766.846 \"/>\n",
       "<polyline clip-path=\"url(#clip960)\" style=\"stroke:#000000; stroke-linecap:round; stroke-linejoin:round; stroke-width:4; stroke-opacity:1; fill:none\" points=\"193.936,407.045 212.834,407.045 \"/>\n",
       "<polyline clip-path=\"url(#clip960)\" style=\"stroke:#000000; stroke-linecap:round; stroke-linejoin:round; stroke-width:4; stroke-opacity:1; fill:none\" points=\"193.936,47.2441 212.834,47.2441 \"/>\n",
       "<path clip-path=\"url(#clip960)\" d=\"M50.9921 1486.9 L80.6679 1486.9 L80.6679 1490.83 L50.9921 1490.83 L50.9921 1486.9 Z\" fill=\"#000000\" fill-rule=\"evenodd\" fill-opacity=\"1\" /><path clip-path=\"url(#clip960)\" d=\"M91.5706 1499.79 L99.2095 1499.79 L99.2095 1473.43 L90.8993 1475.09 L90.8993 1470.83 L99.1632 1469.17 L103.839 1469.17 L103.839 1499.79 L111.478 1499.79 L111.478 1503.73 L91.5706 1503.73 L91.5706 1499.79 Z\" fill=\"#000000\" fill-rule=\"evenodd\" fill-opacity=\"1\" /><path clip-path=\"url(#clip960)\" d=\"M120.922 1497.85 L125.807 1497.85 L125.807 1503.73 L120.922 1503.73 L120.922 1497.85 Z\" fill=\"#000000\" fill-rule=\"evenodd\" fill-opacity=\"1\" /><path clip-path=\"url(#clip960)\" d=\"M145.992 1472.25 Q142.381 1472.25 140.552 1475.81 Q138.746 1479.35 138.746 1486.48 Q138.746 1493.59 140.552 1497.15 Q142.381 1500.7 145.992 1500.7 Q149.626 1500.7 151.431 1497.15 Q153.26 1493.59 153.26 1486.48 Q153.26 1479.35 151.431 1475.81 Q149.626 1472.25 145.992 1472.25 M145.992 1468.54 Q151.802 1468.54 154.857 1473.15 Q157.936 1477.73 157.936 1486.48 Q157.936 1495.21 154.857 1499.82 Q151.802 1504.4 145.992 1504.4 Q140.181 1504.4 137.103 1499.82 Q134.047 1495.21 134.047 1486.48 Q134.047 1477.73 137.103 1473.15 Q140.181 1468.54 145.992 1468.54 Z\" fill=\"#000000\" fill-rule=\"evenodd\" fill-opacity=\"1\" /><path clip-path=\"url(#clip960)\" d=\"M51.9875 1127.1 L81.6633 1127.1 L81.6633 1131.03 L51.9875 1131.03 L51.9875 1127.1 Z\" fill=\"#000000\" fill-rule=\"evenodd\" fill-opacity=\"1\" /><path clip-path=\"url(#clip960)\" d=\"M101.756 1112.45 Q98.1447 1112.45 96.316 1116.01 Q94.5104 1119.55 94.5104 1126.68 Q94.5104 1133.79 96.316 1137.35 Q98.1447 1140.89 101.756 1140.89 Q105.39 1140.89 107.196 1137.35 Q109.024 1133.79 109.024 1126.68 Q109.024 1119.55 107.196 1116.01 Q105.39 1112.45 101.756 1112.45 M101.756 1108.74 Q107.566 1108.74 110.621 1113.35 Q113.7 1117.93 113.7 1126.68 Q113.7 1135.41 110.621 1140.01 Q107.566 1144.6 101.756 1144.6 Q95.9456 1144.6 92.8669 1140.01 Q89.8114 1135.41 89.8114 1126.68 Q89.8114 1117.93 92.8669 1113.35 Q95.9456 1108.74 101.756 1108.74 Z\" fill=\"#000000\" fill-rule=\"evenodd\" fill-opacity=\"1\" /><path clip-path=\"url(#clip960)\" d=\"M121.918 1138.05 L126.802 1138.05 L126.802 1143.93 L121.918 1143.93 L121.918 1138.05 Z\" fill=\"#000000\" fill-rule=\"evenodd\" fill-opacity=\"1\" /><path clip-path=\"url(#clip960)\" d=\"M137.033 1109.37 L155.39 1109.37 L155.39 1113.3 L141.316 1113.3 L141.316 1121.77 Q142.334 1121.43 143.353 1121.27 Q144.371 1121.08 145.39 1121.08 Q151.177 1121.08 154.556 1124.25 Q157.936 1127.42 157.936 1132.84 Q157.936 1138.42 154.464 1141.52 Q150.992 1144.6 144.672 1144.6 Q142.496 1144.6 140.228 1144.23 Q137.982 1143.86 135.575 1143.12 L135.575 1138.42 Q137.658 1139.55 139.881 1140.11 Q142.103 1140.66 144.58 1140.66 Q148.584 1140.66 150.922 1138.56 Q153.26 1136.45 153.26 1132.84 Q153.26 1129.23 150.922 1127.12 Q148.584 1125.01 144.58 1125.01 Q142.705 1125.01 140.83 1125.43 Q138.978 1125.85 137.033 1126.73 L137.033 1109.37 Z\" fill=\"#000000\" fill-rule=\"evenodd\" fill-opacity=\"1\" /><path clip-path=\"url(#clip960)\" d=\"M100.76 752.645 Q97.1493 752.645 95.3206 756.209 Q93.515 759.751 93.515 766.881 Q93.515 773.987 95.3206 777.552 Q97.1493 781.094 100.76 781.094 Q104.395 781.094 106.2 777.552 Q108.029 773.987 108.029 766.881 Q108.029 759.751 106.2 756.209 Q104.395 752.645 100.76 752.645 M100.76 748.941 Q106.571 748.941 109.626 753.547 Q112.705 758.131 112.705 766.881 Q112.705 775.608 109.626 780.214 Q106.571 784.797 100.76 784.797 Q94.9502 784.797 91.8715 780.214 Q88.816 775.608 88.816 766.881 Q88.816 758.131 91.8715 753.547 Q94.9502 748.941 100.76 748.941 Z\" fill=\"#000000\" fill-rule=\"evenodd\" fill-opacity=\"1\" /><path clip-path=\"url(#clip960)\" d=\"M120.922 778.246 L125.807 778.246 L125.807 784.126 L120.922 784.126 L120.922 778.246 Z\" fill=\"#000000\" fill-rule=\"evenodd\" fill-opacity=\"1\" /><path clip-path=\"url(#clip960)\" d=\"M145.992 752.645 Q142.381 752.645 140.552 756.209 Q138.746 759.751 138.746 766.881 Q138.746 773.987 140.552 777.552 Q142.381 781.094 145.992 781.094 Q149.626 781.094 151.431 777.552 Q153.26 773.987 153.26 766.881 Q153.26 759.751 151.431 756.209 Q149.626 752.645 145.992 752.645 M145.992 748.941 Q151.802 748.941 154.857 753.547 Q157.936 758.131 157.936 766.881 Q157.936 775.608 154.857 780.214 Q151.802 784.797 145.992 784.797 Q140.181 784.797 137.103 780.214 Q134.047 775.608 134.047 766.881 Q134.047 758.131 137.103 753.547 Q140.181 748.941 145.992 748.941 Z\" fill=\"#000000\" fill-rule=\"evenodd\" fill-opacity=\"1\" /><path clip-path=\"url(#clip960)\" d=\"M101.756 392.844 Q98.1447 392.844 96.316 396.409 Q94.5104 399.95 94.5104 407.08 Q94.5104 414.186 96.316 417.751 Q98.1447 421.293 101.756 421.293 Q105.39 421.293 107.196 417.751 Q109.024 414.186 109.024 407.08 Q109.024 399.95 107.196 396.409 Q105.39 392.844 101.756 392.844 M101.756 389.14 Q107.566 389.14 110.621 393.746 Q113.7 398.33 113.7 407.08 Q113.7 415.807 110.621 420.413 Q107.566 424.996 101.756 424.996 Q95.9456 424.996 92.8669 420.413 Q89.8114 415.807 89.8114 407.08 Q89.8114 398.33 92.8669 393.746 Q95.9456 389.14 101.756 389.14 Z\" fill=\"#000000\" fill-rule=\"evenodd\" fill-opacity=\"1\" /><path clip-path=\"url(#clip960)\" d=\"M121.918 418.445 L126.802 418.445 L126.802 424.325 L121.918 424.325 L121.918 418.445 Z\" fill=\"#000000\" fill-rule=\"evenodd\" fill-opacity=\"1\" /><path clip-path=\"url(#clip960)\" d=\"M137.033 389.765 L155.39 389.765 L155.39 393.7 L141.316 393.7 L141.316 402.172 Q142.334 401.825 143.353 401.663 Q144.371 401.478 145.39 401.478 Q151.177 401.478 154.556 404.649 Q157.936 407.82 157.936 413.237 Q157.936 418.816 154.464 421.918 Q150.992 424.996 144.672 424.996 Q142.496 424.996 140.228 424.626 Q137.982 424.256 135.575 423.515 L135.575 418.816 Q137.658 419.95 139.881 420.506 Q142.103 421.061 144.58 421.061 Q148.584 421.061 150.922 418.955 Q153.26 416.848 153.26 413.237 Q153.26 409.626 150.922 407.52 Q148.584 405.413 144.58 405.413 Q142.705 405.413 140.83 405.83 Q138.978 406.246 137.033 407.126 L137.033 389.765 Z\" fill=\"#000000\" fill-rule=\"evenodd\" fill-opacity=\"1\" /><path clip-path=\"url(#clip960)\" d=\"M91.5706 60.5889 L99.2095 60.5889 L99.2095 34.2233 L90.8993 35.89 L90.8993 31.6308 L99.1632 29.9641 L103.839 29.9641 L103.839 60.5889 L111.478 60.5889 L111.478 64.5241 L91.5706 64.5241 L91.5706 60.5889 Z\" fill=\"#000000\" fill-rule=\"evenodd\" fill-opacity=\"1\" /><path clip-path=\"url(#clip960)\" d=\"M120.922 58.6445 L125.807 58.6445 L125.807 64.5241 L120.922 64.5241 L120.922 58.6445 Z\" fill=\"#000000\" fill-rule=\"evenodd\" fill-opacity=\"1\" /><path clip-path=\"url(#clip960)\" d=\"M145.992 33.0428 Q142.381 33.0428 140.552 36.6076 Q138.746 40.1492 138.746 47.2788 Q138.746 54.3853 140.552 57.9501 Q142.381 61.4917 145.992 61.4917 Q149.626 61.4917 151.431 57.9501 Q153.26 54.3853 153.26 47.2788 Q153.26 40.1492 151.431 36.6076 Q149.626 33.0428 145.992 33.0428 M145.992 29.3391 Q151.802 29.3391 154.857 33.9456 Q157.936 38.5289 157.936 47.2788 Q157.936 56.0056 154.857 60.6121 Q151.802 65.1954 145.992 65.1954 Q140.181 65.1954 137.103 60.6121 Q134.047 56.0056 134.047 47.2788 Q134.047 38.5289 137.103 33.9456 Q140.181 29.3391 145.992 29.3391 Z\" fill=\"#000000\" fill-rule=\"evenodd\" fill-opacity=\"1\" /><circle clip-path=\"url(#clip962)\" cx=\"255.035\" cy=\"766.846\" r=\"14.4\" fill=\"#009af9\" fill-rule=\"evenodd\" fill-opacity=\"1\" stroke=\"#000000\" stroke-opacity=\"1\" stroke-width=\"3.2\"/>\n",
       "<circle clip-path=\"url(#clip962)\" cx=\"274.248\" cy=\"766.846\" r=\"14.4\" fill=\"#009af9\" fill-rule=\"evenodd\" fill-opacity=\"1\" stroke=\"#000000\" stroke-opacity=\"1\" stroke-width=\"3.2\"/>\n",
       "<circle clip-path=\"url(#clip962)\" cx=\"293.462\" cy=\"766.846\" r=\"14.4\" fill=\"#009af9\" fill-rule=\"evenodd\" fill-opacity=\"1\" stroke=\"#000000\" stroke-opacity=\"1\" stroke-width=\"3.2\"/>\n",
       "<circle clip-path=\"url(#clip962)\" cx=\"312.675\" cy=\"766.846\" r=\"14.4\" fill=\"#009af9\" fill-rule=\"evenodd\" fill-opacity=\"1\" stroke=\"#000000\" stroke-opacity=\"1\" stroke-width=\"3.2\"/>\n",
       "<circle clip-path=\"url(#clip962)\" cx=\"331.888\" cy=\"766.846\" r=\"14.4\" fill=\"#009af9\" fill-rule=\"evenodd\" fill-opacity=\"1\" stroke=\"#000000\" stroke-opacity=\"1\" stroke-width=\"3.2\"/>\n",
       "<circle clip-path=\"url(#clip962)\" cx=\"351.102\" cy=\"766.846\" r=\"14.4\" fill=\"#009af9\" fill-rule=\"evenodd\" fill-opacity=\"1\" stroke=\"#000000\" stroke-opacity=\"1\" stroke-width=\"3.2\"/>\n",
       "<circle clip-path=\"url(#clip962)\" cx=\"370.315\" cy=\"766.846\" r=\"14.4\" fill=\"#009af9\" fill-rule=\"evenodd\" fill-opacity=\"1\" stroke=\"#000000\" stroke-opacity=\"1\" stroke-width=\"3.2\"/>\n",
       "<circle clip-path=\"url(#clip962)\" cx=\"389.529\" cy=\"766.846\" r=\"14.4\" fill=\"#009af9\" fill-rule=\"evenodd\" fill-opacity=\"1\" stroke=\"#000000\" stroke-opacity=\"1\" stroke-width=\"3.2\"/>\n",
       "<circle clip-path=\"url(#clip962)\" cx=\"408.742\" cy=\"766.846\" r=\"14.4\" fill=\"#009af9\" fill-rule=\"evenodd\" fill-opacity=\"1\" stroke=\"#000000\" stroke-opacity=\"1\" stroke-width=\"3.2\"/>\n",
       "<circle clip-path=\"url(#clip962)\" cx=\"427.955\" cy=\"766.846\" r=\"14.4\" fill=\"#009af9\" fill-rule=\"evenodd\" fill-opacity=\"1\" stroke=\"#000000\" stroke-opacity=\"1\" stroke-width=\"3.2\"/>\n",
       "<circle clip-path=\"url(#clip962)\" cx=\"447.169\" cy=\"766.846\" r=\"14.4\" fill=\"#009af9\" fill-rule=\"evenodd\" fill-opacity=\"1\" stroke=\"#000000\" stroke-opacity=\"1\" stroke-width=\"3.2\"/>\n",
       "<circle clip-path=\"url(#clip962)\" cx=\"466.382\" cy=\"766.846\" r=\"14.4\" fill=\"#009af9\" fill-rule=\"evenodd\" fill-opacity=\"1\" stroke=\"#000000\" stroke-opacity=\"1\" stroke-width=\"3.2\"/>\n",
       "<circle clip-path=\"url(#clip962)\" cx=\"485.596\" cy=\"766.846\" r=\"14.4\" fill=\"#009af9\" fill-rule=\"evenodd\" fill-opacity=\"1\" stroke=\"#000000\" stroke-opacity=\"1\" stroke-width=\"3.2\"/>\n",
       "<circle clip-path=\"url(#clip962)\" cx=\"504.809\" cy=\"766.846\" r=\"14.4\" fill=\"#009af9\" fill-rule=\"evenodd\" fill-opacity=\"1\" stroke=\"#000000\" stroke-opacity=\"1\" stroke-width=\"3.2\"/>\n",
       "<circle clip-path=\"url(#clip962)\" cx=\"524.023\" cy=\"766.846\" r=\"14.4\" fill=\"#009af9\" fill-rule=\"evenodd\" fill-opacity=\"1\" stroke=\"#000000\" stroke-opacity=\"1\" stroke-width=\"3.2\"/>\n",
       "<circle clip-path=\"url(#clip962)\" cx=\"543.236\" cy=\"766.846\" r=\"14.4\" fill=\"#009af9\" fill-rule=\"evenodd\" fill-opacity=\"1\" stroke=\"#000000\" stroke-opacity=\"1\" stroke-width=\"3.2\"/>\n",
       "<circle clip-path=\"url(#clip962)\" cx=\"562.449\" cy=\"766.846\" r=\"14.4\" fill=\"#009af9\" fill-rule=\"evenodd\" fill-opacity=\"1\" stroke=\"#000000\" stroke-opacity=\"1\" stroke-width=\"3.2\"/>\n",
       "<circle clip-path=\"url(#clip962)\" cx=\"581.663\" cy=\"766.846\" r=\"14.4\" fill=\"#009af9\" fill-rule=\"evenodd\" fill-opacity=\"1\" stroke=\"#000000\" stroke-opacity=\"1\" stroke-width=\"3.2\"/>\n",
       "<circle clip-path=\"url(#clip962)\" cx=\"600.876\" cy=\"766.846\" r=\"14.4\" fill=\"#009af9\" fill-rule=\"evenodd\" fill-opacity=\"1\" stroke=\"#000000\" stroke-opacity=\"1\" stroke-width=\"3.2\"/>\n",
       "<circle clip-path=\"url(#clip962)\" cx=\"620.09\" cy=\"766.846\" r=\"14.4\" fill=\"#009af9\" fill-rule=\"evenodd\" fill-opacity=\"1\" stroke=\"#000000\" stroke-opacity=\"1\" stroke-width=\"3.2\"/>\n",
       "<circle clip-path=\"url(#clip962)\" cx=\"639.303\" cy=\"766.846\" r=\"14.4\" fill=\"#009af9\" fill-rule=\"evenodd\" fill-opacity=\"1\" stroke=\"#000000\" stroke-opacity=\"1\" stroke-width=\"3.2\"/>\n",
       "<circle clip-path=\"url(#clip962)\" cx=\"658.517\" cy=\"766.846\" r=\"14.4\" fill=\"#009af9\" fill-rule=\"evenodd\" fill-opacity=\"1\" stroke=\"#000000\" stroke-opacity=\"1\" stroke-width=\"3.2\"/>\n",
       "<circle clip-path=\"url(#clip962)\" cx=\"677.73\" cy=\"766.846\" r=\"14.4\" fill=\"#009af9\" fill-rule=\"evenodd\" fill-opacity=\"1\" stroke=\"#000000\" stroke-opacity=\"1\" stroke-width=\"3.2\"/>\n",
       "<circle clip-path=\"url(#clip962)\" cx=\"696.943\" cy=\"766.846\" r=\"14.4\" fill=\"#009af9\" fill-rule=\"evenodd\" fill-opacity=\"1\" stroke=\"#000000\" stroke-opacity=\"1\" stroke-width=\"3.2\"/>\n",
       "<circle clip-path=\"url(#clip962)\" cx=\"716.157\" cy=\"766.846\" r=\"14.4\" fill=\"#009af9\" fill-rule=\"evenodd\" fill-opacity=\"1\" stroke=\"#000000\" stroke-opacity=\"1\" stroke-width=\"3.2\"/>\n",
       "<circle clip-path=\"url(#clip962)\" cx=\"735.37\" cy=\"766.846\" r=\"14.4\" fill=\"#009af9\" fill-rule=\"evenodd\" fill-opacity=\"1\" stroke=\"#000000\" stroke-opacity=\"1\" stroke-width=\"3.2\"/>\n",
       "<circle clip-path=\"url(#clip962)\" cx=\"754.584\" cy=\"766.846\" r=\"14.4\" fill=\"#009af9\" fill-rule=\"evenodd\" fill-opacity=\"1\" stroke=\"#000000\" stroke-opacity=\"1\" stroke-width=\"3.2\"/>\n",
       "<circle clip-path=\"url(#clip962)\" cx=\"773.797\" cy=\"766.846\" r=\"14.4\" fill=\"#009af9\" fill-rule=\"evenodd\" fill-opacity=\"1\" stroke=\"#000000\" stroke-opacity=\"1\" stroke-width=\"3.2\"/>\n",
       "<circle clip-path=\"url(#clip962)\" cx=\"793.01\" cy=\"766.846\" r=\"14.4\" fill=\"#009af9\" fill-rule=\"evenodd\" fill-opacity=\"1\" stroke=\"#000000\" stroke-opacity=\"1\" stroke-width=\"3.2\"/>\n",
       "<circle clip-path=\"url(#clip962)\" cx=\"812.224\" cy=\"766.846\" r=\"14.4\" fill=\"#009af9\" fill-rule=\"evenodd\" fill-opacity=\"1\" stroke=\"#000000\" stroke-opacity=\"1\" stroke-width=\"3.2\"/>\n",
       "<circle clip-path=\"url(#clip962)\" cx=\"831.437\" cy=\"766.846\" r=\"14.4\" fill=\"#009af9\" fill-rule=\"evenodd\" fill-opacity=\"1\" stroke=\"#000000\" stroke-opacity=\"1\" stroke-width=\"3.2\"/>\n",
       "<circle clip-path=\"url(#clip962)\" cx=\"850.651\" cy=\"766.846\" r=\"14.4\" fill=\"#009af9\" fill-rule=\"evenodd\" fill-opacity=\"1\" stroke=\"#000000\" stroke-opacity=\"1\" stroke-width=\"3.2\"/>\n",
       "<circle clip-path=\"url(#clip962)\" cx=\"869.864\" cy=\"766.846\" r=\"14.4\" fill=\"#009af9\" fill-rule=\"evenodd\" fill-opacity=\"1\" stroke=\"#000000\" stroke-opacity=\"1\" stroke-width=\"3.2\"/>\n",
       "<circle clip-path=\"url(#clip962)\" cx=\"889.078\" cy=\"766.846\" r=\"14.4\" fill=\"#009af9\" fill-rule=\"evenodd\" fill-opacity=\"1\" stroke=\"#000000\" stroke-opacity=\"1\" stroke-width=\"3.2\"/>\n",
       "<circle clip-path=\"url(#clip962)\" cx=\"908.291\" cy=\"766.846\" r=\"14.4\" fill=\"#009af9\" fill-rule=\"evenodd\" fill-opacity=\"1\" stroke=\"#000000\" stroke-opacity=\"1\" stroke-width=\"3.2\"/>\n",
       "<circle clip-path=\"url(#clip962)\" cx=\"927.504\" cy=\"766.846\" r=\"14.4\" fill=\"#009af9\" fill-rule=\"evenodd\" fill-opacity=\"1\" stroke=\"#000000\" stroke-opacity=\"1\" stroke-width=\"3.2\"/>\n",
       "<circle clip-path=\"url(#clip962)\" cx=\"946.718\" cy=\"766.846\" r=\"14.4\" fill=\"#009af9\" fill-rule=\"evenodd\" fill-opacity=\"1\" stroke=\"#000000\" stroke-opacity=\"1\" stroke-width=\"3.2\"/>\n",
       "<circle clip-path=\"url(#clip962)\" cx=\"965.931\" cy=\"766.846\" r=\"14.4\" fill=\"#009af9\" fill-rule=\"evenodd\" fill-opacity=\"1\" stroke=\"#000000\" stroke-opacity=\"1\" stroke-width=\"3.2\"/>\n",
       "<circle clip-path=\"url(#clip962)\" cx=\"985.145\" cy=\"766.846\" r=\"14.4\" fill=\"#009af9\" fill-rule=\"evenodd\" fill-opacity=\"1\" stroke=\"#000000\" stroke-opacity=\"1\" stroke-width=\"3.2\"/>\n",
       "<circle clip-path=\"url(#clip962)\" cx=\"1004.36\" cy=\"766.846\" r=\"14.4\" fill=\"#009af9\" fill-rule=\"evenodd\" fill-opacity=\"1\" stroke=\"#000000\" stroke-opacity=\"1\" stroke-width=\"3.2\"/>\n",
       "<circle clip-path=\"url(#clip962)\" cx=\"1023.57\" cy=\"766.846\" r=\"14.4\" fill=\"#009af9\" fill-rule=\"evenodd\" fill-opacity=\"1\" stroke=\"#000000\" stroke-opacity=\"1\" stroke-width=\"3.2\"/>\n",
       "<circle clip-path=\"url(#clip962)\" cx=\"1042.78\" cy=\"766.846\" r=\"14.4\" fill=\"#009af9\" fill-rule=\"evenodd\" fill-opacity=\"1\" stroke=\"#000000\" stroke-opacity=\"1\" stroke-width=\"3.2\"/>\n",
       "<circle clip-path=\"url(#clip962)\" cx=\"1062\" cy=\"766.846\" r=\"14.4\" fill=\"#009af9\" fill-rule=\"evenodd\" fill-opacity=\"1\" stroke=\"#000000\" stroke-opacity=\"1\" stroke-width=\"3.2\"/>\n",
       "<circle clip-path=\"url(#clip962)\" cx=\"1081.21\" cy=\"766.846\" r=\"14.4\" fill=\"#009af9\" fill-rule=\"evenodd\" fill-opacity=\"1\" stroke=\"#000000\" stroke-opacity=\"1\" stroke-width=\"3.2\"/>\n",
       "<circle clip-path=\"url(#clip962)\" cx=\"1100.43\" cy=\"766.846\" r=\"14.4\" fill=\"#009af9\" fill-rule=\"evenodd\" fill-opacity=\"1\" stroke=\"#000000\" stroke-opacity=\"1\" stroke-width=\"3.2\"/>\n",
       "<circle clip-path=\"url(#clip962)\" cx=\"1119.64\" cy=\"766.846\" r=\"14.4\" fill=\"#009af9\" fill-rule=\"evenodd\" fill-opacity=\"1\" stroke=\"#000000\" stroke-opacity=\"1\" stroke-width=\"3.2\"/>\n",
       "<circle clip-path=\"url(#clip962)\" cx=\"1138.85\" cy=\"766.846\" r=\"14.4\" fill=\"#009af9\" fill-rule=\"evenodd\" fill-opacity=\"1\" stroke=\"#000000\" stroke-opacity=\"1\" stroke-width=\"3.2\"/>\n",
       "<circle clip-path=\"url(#clip962)\" cx=\"1158.07\" cy=\"766.846\" r=\"14.4\" fill=\"#009af9\" fill-rule=\"evenodd\" fill-opacity=\"1\" stroke=\"#000000\" stroke-opacity=\"1\" stroke-width=\"3.2\"/>\n",
       "<circle clip-path=\"url(#clip962)\" cx=\"1177.28\" cy=\"766.846\" r=\"14.4\" fill=\"#009af9\" fill-rule=\"evenodd\" fill-opacity=\"1\" stroke=\"#000000\" stroke-opacity=\"1\" stroke-width=\"3.2\"/>\n",
       "<circle clip-path=\"url(#clip962)\" cx=\"1196.49\" cy=\"766.846\" r=\"14.4\" fill=\"#009af9\" fill-rule=\"evenodd\" fill-opacity=\"1\" stroke=\"#000000\" stroke-opacity=\"1\" stroke-width=\"3.2\"/>\n",
       "<circle clip-path=\"url(#clip962)\" cx=\"1215.71\" cy=\"766.846\" r=\"14.4\" fill=\"#009af9\" fill-rule=\"evenodd\" fill-opacity=\"1\" stroke=\"#000000\" stroke-opacity=\"1\" stroke-width=\"3.2\"/>\n",
       "<circle clip-path=\"url(#clip962)\" cx=\"1234.92\" cy=\"766.846\" r=\"14.4\" fill=\"#009af9\" fill-rule=\"evenodd\" fill-opacity=\"1\" stroke=\"#000000\" stroke-opacity=\"1\" stroke-width=\"3.2\"/>\n",
       "<circle clip-path=\"url(#clip962)\" cx=\"1254.13\" cy=\"766.846\" r=\"14.4\" fill=\"#009af9\" fill-rule=\"evenodd\" fill-opacity=\"1\" stroke=\"#000000\" stroke-opacity=\"1\" stroke-width=\"3.2\"/>\n",
       "<circle clip-path=\"url(#clip962)\" cx=\"1273.35\" cy=\"766.846\" r=\"14.4\" fill=\"#009af9\" fill-rule=\"evenodd\" fill-opacity=\"1\" stroke=\"#000000\" stroke-opacity=\"1\" stroke-width=\"3.2\"/>\n",
       "<circle clip-path=\"url(#clip962)\" cx=\"1292.56\" cy=\"766.846\" r=\"14.4\" fill=\"#009af9\" fill-rule=\"evenodd\" fill-opacity=\"1\" stroke=\"#000000\" stroke-opacity=\"1\" stroke-width=\"3.2\"/>\n",
       "<circle clip-path=\"url(#clip962)\" cx=\"1311.77\" cy=\"766.846\" r=\"14.4\" fill=\"#009af9\" fill-rule=\"evenodd\" fill-opacity=\"1\" stroke=\"#000000\" stroke-opacity=\"1\" stroke-width=\"3.2\"/>\n",
       "<circle clip-path=\"url(#clip962)\" cx=\"1330.99\" cy=\"766.846\" r=\"14.4\" fill=\"#009af9\" fill-rule=\"evenodd\" fill-opacity=\"1\" stroke=\"#000000\" stroke-opacity=\"1\" stroke-width=\"3.2\"/>\n",
       "<circle clip-path=\"url(#clip962)\" cx=\"1350.2\" cy=\"766.846\" r=\"14.4\" fill=\"#009af9\" fill-rule=\"evenodd\" fill-opacity=\"1\" stroke=\"#000000\" stroke-opacity=\"1\" stroke-width=\"3.2\"/>\n",
       "<circle clip-path=\"url(#clip962)\" cx=\"1369.41\" cy=\"766.846\" r=\"14.4\" fill=\"#009af9\" fill-rule=\"evenodd\" fill-opacity=\"1\" stroke=\"#000000\" stroke-opacity=\"1\" stroke-width=\"3.2\"/>\n",
       "<circle clip-path=\"url(#clip962)\" cx=\"1388.63\" cy=\"766.846\" r=\"14.4\" fill=\"#009af9\" fill-rule=\"evenodd\" fill-opacity=\"1\" stroke=\"#000000\" stroke-opacity=\"1\" stroke-width=\"3.2\"/>\n",
       "<circle clip-path=\"url(#clip962)\" cx=\"1407.84\" cy=\"766.846\" r=\"14.4\" fill=\"#009af9\" fill-rule=\"evenodd\" fill-opacity=\"1\" stroke=\"#000000\" stroke-opacity=\"1\" stroke-width=\"3.2\"/>\n",
       "<circle clip-path=\"url(#clip962)\" cx=\"1427.05\" cy=\"766.846\" r=\"14.4\" fill=\"#009af9\" fill-rule=\"evenodd\" fill-opacity=\"1\" stroke=\"#000000\" stroke-opacity=\"1\" stroke-width=\"3.2\"/>\n",
       "<circle clip-path=\"url(#clip962)\" cx=\"1446.27\" cy=\"766.846\" r=\"14.4\" fill=\"#009af9\" fill-rule=\"evenodd\" fill-opacity=\"1\" stroke=\"#000000\" stroke-opacity=\"1\" stroke-width=\"3.2\"/>\n",
       "<circle clip-path=\"url(#clip962)\" cx=\"1465.48\" cy=\"766.846\" r=\"14.4\" fill=\"#009af9\" fill-rule=\"evenodd\" fill-opacity=\"1\" stroke=\"#000000\" stroke-opacity=\"1\" stroke-width=\"3.2\"/>\n",
       "<circle clip-path=\"url(#clip962)\" cx=\"1484.69\" cy=\"766.846\" r=\"14.4\" fill=\"#009af9\" fill-rule=\"evenodd\" fill-opacity=\"1\" stroke=\"#000000\" stroke-opacity=\"1\" stroke-width=\"3.2\"/>\n",
       "<circle clip-path=\"url(#clip962)\" cx=\"1503.91\" cy=\"766.846\" r=\"14.4\" fill=\"#009af9\" fill-rule=\"evenodd\" fill-opacity=\"1\" stroke=\"#000000\" stroke-opacity=\"1\" stroke-width=\"3.2\"/>\n",
       "<circle clip-path=\"url(#clip962)\" cx=\"1523.12\" cy=\"766.846\" r=\"14.4\" fill=\"#009af9\" fill-rule=\"evenodd\" fill-opacity=\"1\" stroke=\"#000000\" stroke-opacity=\"1\" stroke-width=\"3.2\"/>\n",
       "<circle clip-path=\"url(#clip962)\" cx=\"1542.33\" cy=\"766.846\" r=\"14.4\" fill=\"#009af9\" fill-rule=\"evenodd\" fill-opacity=\"1\" stroke=\"#000000\" stroke-opacity=\"1\" stroke-width=\"3.2\"/>\n",
       "<circle clip-path=\"url(#clip962)\" cx=\"1561.55\" cy=\"766.846\" r=\"14.4\" fill=\"#009af9\" fill-rule=\"evenodd\" fill-opacity=\"1\" stroke=\"#000000\" stroke-opacity=\"1\" stroke-width=\"3.2\"/>\n",
       "<circle clip-path=\"url(#clip962)\" cx=\"1580.76\" cy=\"766.846\" r=\"14.4\" fill=\"#009af9\" fill-rule=\"evenodd\" fill-opacity=\"1\" stroke=\"#000000\" stroke-opacity=\"1\" stroke-width=\"3.2\"/>\n",
       "<circle clip-path=\"url(#clip962)\" cx=\"1599.97\" cy=\"766.846\" r=\"14.4\" fill=\"#009af9\" fill-rule=\"evenodd\" fill-opacity=\"1\" stroke=\"#000000\" stroke-opacity=\"1\" stroke-width=\"3.2\"/>\n",
       "<circle clip-path=\"url(#clip962)\" cx=\"1619.19\" cy=\"766.846\" r=\"14.4\" fill=\"#009af9\" fill-rule=\"evenodd\" fill-opacity=\"1\" stroke=\"#000000\" stroke-opacity=\"1\" stroke-width=\"3.2\"/>\n",
       "<circle clip-path=\"url(#clip962)\" cx=\"1638.4\" cy=\"766.846\" r=\"14.4\" fill=\"#009af9\" fill-rule=\"evenodd\" fill-opacity=\"1\" stroke=\"#000000\" stroke-opacity=\"1\" stroke-width=\"3.2\"/>\n",
       "<circle clip-path=\"url(#clip962)\" cx=\"1657.61\" cy=\"766.846\" r=\"14.4\" fill=\"#009af9\" fill-rule=\"evenodd\" fill-opacity=\"1\" stroke=\"#000000\" stroke-opacity=\"1\" stroke-width=\"3.2\"/>\n",
       "<circle clip-path=\"url(#clip962)\" cx=\"1676.83\" cy=\"766.846\" r=\"14.4\" fill=\"#009af9\" fill-rule=\"evenodd\" fill-opacity=\"1\" stroke=\"#000000\" stroke-opacity=\"1\" stroke-width=\"3.2\"/>\n",
       "<circle clip-path=\"url(#clip962)\" cx=\"1696.04\" cy=\"766.846\" r=\"14.4\" fill=\"#009af9\" fill-rule=\"evenodd\" fill-opacity=\"1\" stroke=\"#000000\" stroke-opacity=\"1\" stroke-width=\"3.2\"/>\n",
       "<circle clip-path=\"url(#clip962)\" cx=\"1715.25\" cy=\"766.846\" r=\"14.4\" fill=\"#009af9\" fill-rule=\"evenodd\" fill-opacity=\"1\" stroke=\"#000000\" stroke-opacity=\"1\" stroke-width=\"3.2\"/>\n",
       "<circle clip-path=\"url(#clip962)\" cx=\"1734.47\" cy=\"766.846\" r=\"14.4\" fill=\"#009af9\" fill-rule=\"evenodd\" fill-opacity=\"1\" stroke=\"#000000\" stroke-opacity=\"1\" stroke-width=\"3.2\"/>\n",
       "<circle clip-path=\"url(#clip962)\" cx=\"1753.68\" cy=\"766.846\" r=\"14.4\" fill=\"#009af9\" fill-rule=\"evenodd\" fill-opacity=\"1\" stroke=\"#000000\" stroke-opacity=\"1\" stroke-width=\"3.2\"/>\n",
       "<circle clip-path=\"url(#clip962)\" cx=\"1772.89\" cy=\"766.846\" r=\"14.4\" fill=\"#009af9\" fill-rule=\"evenodd\" fill-opacity=\"1\" stroke=\"#000000\" stroke-opacity=\"1\" stroke-width=\"3.2\"/>\n",
       "<circle clip-path=\"url(#clip962)\" cx=\"1792.11\" cy=\"766.846\" r=\"14.4\" fill=\"#009af9\" fill-rule=\"evenodd\" fill-opacity=\"1\" stroke=\"#000000\" stroke-opacity=\"1\" stroke-width=\"3.2\"/>\n",
       "<circle clip-path=\"url(#clip962)\" cx=\"1811.32\" cy=\"766.846\" r=\"14.4\" fill=\"#009af9\" fill-rule=\"evenodd\" fill-opacity=\"1\" stroke=\"#000000\" stroke-opacity=\"1\" stroke-width=\"3.2\"/>\n",
       "<circle clip-path=\"url(#clip962)\" cx=\"1830.54\" cy=\"766.846\" r=\"14.4\" fill=\"#009af9\" fill-rule=\"evenodd\" fill-opacity=\"1\" stroke=\"#000000\" stroke-opacity=\"1\" stroke-width=\"3.2\"/>\n",
       "<circle clip-path=\"url(#clip962)\" cx=\"1849.75\" cy=\"766.846\" r=\"14.4\" fill=\"#009af9\" fill-rule=\"evenodd\" fill-opacity=\"1\" stroke=\"#000000\" stroke-opacity=\"1\" stroke-width=\"3.2\"/>\n",
       "<circle clip-path=\"url(#clip962)\" cx=\"1868.96\" cy=\"766.846\" r=\"14.4\" fill=\"#009af9\" fill-rule=\"evenodd\" fill-opacity=\"1\" stroke=\"#000000\" stroke-opacity=\"1\" stroke-width=\"3.2\"/>\n",
       "<circle clip-path=\"url(#clip962)\" cx=\"1888.18\" cy=\"766.846\" r=\"14.4\" fill=\"#009af9\" fill-rule=\"evenodd\" fill-opacity=\"1\" stroke=\"#000000\" stroke-opacity=\"1\" stroke-width=\"3.2\"/>\n",
       "<circle clip-path=\"url(#clip962)\" cx=\"1907.39\" cy=\"766.846\" r=\"14.4\" fill=\"#009af9\" fill-rule=\"evenodd\" fill-opacity=\"1\" stroke=\"#000000\" stroke-opacity=\"1\" stroke-width=\"3.2\"/>\n",
       "<circle clip-path=\"url(#clip962)\" cx=\"1926.6\" cy=\"766.846\" r=\"14.4\" fill=\"#009af9\" fill-rule=\"evenodd\" fill-opacity=\"1\" stroke=\"#000000\" stroke-opacity=\"1\" stroke-width=\"3.2\"/>\n",
       "<circle clip-path=\"url(#clip962)\" cx=\"1945.82\" cy=\"766.846\" r=\"14.4\" fill=\"#009af9\" fill-rule=\"evenodd\" fill-opacity=\"1\" stroke=\"#000000\" stroke-opacity=\"1\" stroke-width=\"3.2\"/>\n",
       "<circle clip-path=\"url(#clip962)\" cx=\"1965.03\" cy=\"766.846\" r=\"14.4\" fill=\"#009af9\" fill-rule=\"evenodd\" fill-opacity=\"1\" stroke=\"#000000\" stroke-opacity=\"1\" stroke-width=\"3.2\"/>\n",
       "<circle clip-path=\"url(#clip962)\" cx=\"1984.24\" cy=\"766.846\" r=\"14.4\" fill=\"#009af9\" fill-rule=\"evenodd\" fill-opacity=\"1\" stroke=\"#000000\" stroke-opacity=\"1\" stroke-width=\"3.2\"/>\n",
       "<circle clip-path=\"url(#clip962)\" cx=\"2003.46\" cy=\"766.846\" r=\"14.4\" fill=\"#009af9\" fill-rule=\"evenodd\" fill-opacity=\"1\" stroke=\"#000000\" stroke-opacity=\"1\" stroke-width=\"3.2\"/>\n",
       "<circle clip-path=\"url(#clip962)\" cx=\"2022.67\" cy=\"766.846\" r=\"14.4\" fill=\"#009af9\" fill-rule=\"evenodd\" fill-opacity=\"1\" stroke=\"#000000\" stroke-opacity=\"1\" stroke-width=\"3.2\"/>\n",
       "<circle clip-path=\"url(#clip962)\" cx=\"2041.88\" cy=\"766.846\" r=\"14.4\" fill=\"#009af9\" fill-rule=\"evenodd\" fill-opacity=\"1\" stroke=\"#000000\" stroke-opacity=\"1\" stroke-width=\"3.2\"/>\n",
       "<circle clip-path=\"url(#clip962)\" cx=\"2061.1\" cy=\"766.846\" r=\"14.4\" fill=\"#009af9\" fill-rule=\"evenodd\" fill-opacity=\"1\" stroke=\"#000000\" stroke-opacity=\"1\" stroke-width=\"3.2\"/>\n",
       "<circle clip-path=\"url(#clip962)\" cx=\"2080.31\" cy=\"766.846\" r=\"14.4\" fill=\"#009af9\" fill-rule=\"evenodd\" fill-opacity=\"1\" stroke=\"#000000\" stroke-opacity=\"1\" stroke-width=\"3.2\"/>\n",
       "<circle clip-path=\"url(#clip962)\" cx=\"2099.52\" cy=\"766.846\" r=\"14.4\" fill=\"#009af9\" fill-rule=\"evenodd\" fill-opacity=\"1\" stroke=\"#000000\" stroke-opacity=\"1\" stroke-width=\"3.2\"/>\n",
       "<circle clip-path=\"url(#clip962)\" cx=\"2118.74\" cy=\"766.846\" r=\"14.4\" fill=\"#009af9\" fill-rule=\"evenodd\" fill-opacity=\"1\" stroke=\"#000000\" stroke-opacity=\"1\" stroke-width=\"3.2\"/>\n",
       "<circle clip-path=\"url(#clip962)\" cx=\"2137.95\" cy=\"766.846\" r=\"14.4\" fill=\"#009af9\" fill-rule=\"evenodd\" fill-opacity=\"1\" stroke=\"#000000\" stroke-opacity=\"1\" stroke-width=\"3.2\"/>\n",
       "<circle clip-path=\"url(#clip962)\" cx=\"2157.16\" cy=\"766.846\" r=\"14.4\" fill=\"#009af9\" fill-rule=\"evenodd\" fill-opacity=\"1\" stroke=\"#000000\" stroke-opacity=\"1\" stroke-width=\"3.2\"/>\n",
       "<circle clip-path=\"url(#clip962)\" cx=\"2176.38\" cy=\"766.846\" r=\"14.4\" fill=\"#009af9\" fill-rule=\"evenodd\" fill-opacity=\"1\" stroke=\"#000000\" stroke-opacity=\"1\" stroke-width=\"3.2\"/>\n",
       "<circle clip-path=\"url(#clip962)\" cx=\"2195.59\" cy=\"766.846\" r=\"14.4\" fill=\"#009af9\" fill-rule=\"evenodd\" fill-opacity=\"1\" stroke=\"#000000\" stroke-opacity=\"1\" stroke-width=\"3.2\"/>\n",
       "<circle clip-path=\"url(#clip962)\" cx=\"2214.8\" cy=\"766.846\" r=\"14.4\" fill=\"#009af9\" fill-rule=\"evenodd\" fill-opacity=\"1\" stroke=\"#000000\" stroke-opacity=\"1\" stroke-width=\"3.2\"/>\n",
       "<circle clip-path=\"url(#clip962)\" cx=\"2234.02\" cy=\"766.846\" r=\"14.4\" fill=\"#009af9\" fill-rule=\"evenodd\" fill-opacity=\"1\" stroke=\"#000000\" stroke-opacity=\"1\" stroke-width=\"3.2\"/>\n",
       "<circle clip-path=\"url(#clip962)\" cx=\"2253.23\" cy=\"766.846\" r=\"14.4\" fill=\"#009af9\" fill-rule=\"evenodd\" fill-opacity=\"1\" stroke=\"#000000\" stroke-opacity=\"1\" stroke-width=\"3.2\"/>\n",
       "<circle clip-path=\"url(#clip962)\" cx=\"2272.44\" cy=\"766.846\" r=\"14.4\" fill=\"#009af9\" fill-rule=\"evenodd\" fill-opacity=\"1\" stroke=\"#000000\" stroke-opacity=\"1\" stroke-width=\"3.2\"/>\n",
       "<circle clip-path=\"url(#clip962)\" cx=\"2291.66\" cy=\"766.846\" r=\"14.4\" fill=\"#009af9\" fill-rule=\"evenodd\" fill-opacity=\"1\" stroke=\"#000000\" stroke-opacity=\"1\" stroke-width=\"3.2\"/>\n",
       "<path clip-path=\"url(#clip960)\" d=\"M2012.48 198.898 L2280.8 198.898 L2280.8 95.2176 L2012.48 95.2176  Z\" fill=\"#ffffff\" fill-rule=\"evenodd\" fill-opacity=\"1\"/>\n",
       "<polyline clip-path=\"url(#clip960)\" style=\"stroke:#000000; stroke-linecap:round; stroke-linejoin:round; stroke-width:4; stroke-opacity:1; fill:none\" points=\"2012.48,198.898 2280.8,198.898 2280.8,95.2176 2012.48,95.2176 2012.48,198.898 \"/>\n",
       "<circle clip-path=\"url(#clip960)\" cx=\"2108.43\" cy=\"147.058\" r=\"23.04\" fill=\"#009af9\" fill-rule=\"evenodd\" fill-opacity=\"1\" stroke=\"#000000\" stroke-opacity=\"1\" stroke-width=\"5.12\"/>\n",
       "<path clip-path=\"url(#clip960)\" d=\"M2218.22 166.745 Q2216.42 171.375 2214.7 172.787 Q2212.99 174.199 2210.12 174.199 L2206.72 174.199 L2206.72 170.634 L2209.22 170.634 Q2210.98 170.634 2211.95 169.8 Q2212.92 168.967 2214.1 165.865 L2214.86 163.921 L2204.38 138.412 L2208.89 138.412 L2216.99 158.689 L2225.1 138.412 L2229.61 138.412 L2218.22 166.745 Z\" fill=\"#000000\" fill-rule=\"evenodd\" fill-opacity=\"1\" /><path clip-path=\"url(#clip960)\" d=\"M2236.9 160.402 L2244.54 160.402 L2244.54 134.037 L2236.23 135.703 L2236.23 131.444 L2244.49 129.778 L2249.17 129.778 L2249.17 160.402 L2256.81 160.402 L2256.81 164.338 L2236.9 164.338 L2236.9 160.402 Z\" fill=\"#000000\" fill-rule=\"evenodd\" fill-opacity=\"1\" /></svg>\n"
      ]
     },
     "execution_count": 26,
     "metadata": {},
     "output_type": "execute_result"
    }
   ],
   "source": [
    "scatter(initX,zeros(L),ylim=[-1,1])"
   ]
  },
  {
   "cell_type": "code",
   "execution_count": 27,
   "id": "3c2ea07d",
   "metadata": {},
   "outputs": [],
   "source": [
    "Narray=zeros(length(initX1))\n",
    "for i in 1:length(initX1)-1\n",
    "    Narray[i+1]=Narray[i]+1\n",
    "end\n",
    "\n",
    "#x=originalX[4:L-3]\n",
    "#y=Narray"
   ]
  },
  {
   "cell_type": "code",
   "execution_count": 28,
   "id": "edf84878",
   "metadata": {},
   "outputs": [
    {
     "ename": "LoadError",
     "evalue": "UndefVarError: x not defined",
     "output_type": "error",
     "traceback": [
      "UndefVarError: x not defined",
      "",
      "Stacktrace:",
      " [1] top-level scope",
      "   @ In[28]:2"
     ]
    }
   ],
   "source": [
    "using Plots\n",
    "plot([initX1,x],[Narray,y],xlim=[0,0.008],ylim=[0,400],label=[\"N=1000 uneven grid\" \"N=7500 even grid\"],ylabel=\"Number of points\",xlabel=\"x\")\n"
   ]
  },
  {
   "cell_type": "markdown",
   "id": "80ab1480",
   "metadata": {
    "papermill": {
     "duration": 0.012577,
     "end_time": "2023-06-25T23:43:01.489367",
     "exception": false,
     "start_time": "2023-06-25T23:43:01.476790",
     "status": "completed"
    },
    "tags": []
   },
   "source": [
    "# Initial data of m β Ψ and Ψ,x"
   ]
  },
  {
   "cell_type": "code",
   "execution_count": 29,
   "id": "d0af654c",
   "metadata": {
    "execution": {
     "iopub.execute_input": "2023-06-26T00:43:01.510000Z",
     "iopub.status.busy": "2023-06-26T00:43:01.510000Z",
     "iopub.status.idle": "2023-06-26T00:43:03.001000Z",
     "shell.execute_reply": "2023-06-26T00:43:03.001000Z"
    },
    "papermill": {
     "duration": 1.504498,
     "end_time": "2023-06-25T23:43:03.004679",
     "exception": false,
     "start_time": "2023-06-25T23:43:01.500181",
     "status": "completed"
    },
    "tags": []
   },
   "outputs": [],
   "source": [
    "using Dierckx\n",
    "using Quadmath\n",
    "\n",
    "\n",
    "####\n",
    "#initm=Array{Float128}(undef, L)\n",
    "#initbeta=Array{Float128}(undef, L)\n",
    "#initpsi=Array{Float128}(undef, L)\n",
    "#initderpsi=Array{Float128}(undef, L)\n",
    "initm=zeros(L);\n",
    "initbeta=zeros(L);\n",
    "initpsi=zeros(L);\n",
    "initderpsi=zeros(L);\n",
    "\n",
    "state_array=[initm initbeta initpsi initderpsi initX];\n",
    "\n",
    "#PSI\n",
    "r0=0.7#0.01#0.7#0.01#0.7#0.7#0.7#0.01#0.7#0.3\n",
    "sigma=0.3\n",
    "initpsi[4:L-3] = init_gaussian(initX1,r0,sigma,A)\n",
    "\n",
    "state_array[:,3] = initpsi\n",
    "state_array = ghost(state_array)\n",
    "\n",
    "#PSI,X FROM PSI\n",
    "initderpsi[4:L-3] = init_gaussian_der(initX1,r0,sigma,A)\n",
    "state_array[:,4] = initderpsi\n",
    "state_array=ghost(state_array)\n",
    "\n",
    "####\n",
    "\n",
    "derpsi_func = Spline1D(initX[4:L-3], state_array[4:L-3,4],  k=4);"
   ]
  },
  {
   "cell_type": "code",
   "execution_count": 30,
   "id": "384597fa",
   "metadata": {
    "execution": {
     "iopub.execute_input": "2023-06-26T00:43:03.034000Z",
     "iopub.status.busy": "2023-06-26T00:43:03.034000Z",
     "iopub.status.idle": "2023-06-26T00:43:04.138000Z",
     "shell.execute_reply": "2023-06-26T00:43:04.138000Z"
    },
    "papermill": {
     "duration": 1.120928,
     "end_time": "2023-06-25T23:43:04.140984",
     "exception": false,
     "start_time": "2023-06-25T23:43:03.020056",
     "status": "completed"
    },
    "tags": []
   },
   "outputs": [],
   "source": [
    "y0=[0 0 0]\n",
    "\n",
    "state_array[4:L-3,1:3] = n_rk4wrapper(RHS,y0,initX[4:L-3],0,derpsi_func,state_array[:,:]);\n",
    "\n",
    "state_array = ghost(state_array);"
   ]
  },
  {
   "cell_type": "code",
   "execution_count": 31,
   "id": "48f10a76",
   "metadata": {
    "execution": {
     "iopub.execute_input": "2023-06-26T00:43:04.172000Z",
     "iopub.status.busy": "2023-06-26T00:43:04.172000Z",
     "iopub.status.idle": "2023-06-26T00:43:20.413000Z",
     "shell.execute_reply": "2023-06-26T00:43:20.413000Z"
    },
    "papermill": {
     "duration": 16.259104,
     "end_time": "2023-06-25T23:43:20.416060",
     "exception": false,
     "start_time": "2023-06-25T23:43:04.156956",
     "status": "completed"
    },
    "tags": []
   },
   "outputs": [
    {
     "data": {
      "image/svg+xml": [
       "<?xml version=\"1.0\" encoding=\"utf-8\"?>\n",
       "<svg xmlns=\"http://www.w3.org/2000/svg\" xmlns:xlink=\"http://www.w3.org/1999/xlink\" width=\"600\" height=\"400\" viewBox=\"0 0 2400 1600\">\n",
       "<defs>\n",
       "  <clipPath id=\"clip000\">\n",
       "    <rect x=\"0\" y=\"0\" width=\"2400\" height=\"1600\"/>\n",
       "  </clipPath>\n",
       "</defs>\n",
       "<path clip-path=\"url(#clip000)\" d=\"M0 1600 L2400 1600 L2400 0 L0 0  Z\" fill=\"#ffffff\" fill-rule=\"evenodd\" fill-opacity=\"1\"/>\n",
       "<defs>\n",
       "  <clipPath id=\"clip001\">\n",
       "    <rect x=\"480\" y=\"0\" width=\"1681\" height=\"1600\"/>\n",
       "  </clipPath>\n",
       "</defs>\n",
       "<path clip-path=\"url(#clip000)\" d=\"M254.26 1423.18 L2352.76 1423.18 L2352.76 123.472 L254.26 123.472  Z\" fill=\"#ffffff\" fill-rule=\"evenodd\" fill-opacity=\"1\"/>\n",
       "<defs>\n",
       "  <clipPath id=\"clip002\">\n",
       "    <rect x=\"254\" y=\"123\" width=\"2099\" height=\"1301\"/>\n",
       "  </clipPath>\n",
       "</defs>\n",
       "<polyline clip-path=\"url(#clip002)\" style=\"stroke:#000000; stroke-linecap:round; stroke-linejoin:round; stroke-width:2; stroke-opacity:0.1; fill:none\" points=\"313.651,1423.18 313.651,123.472 \"/>\n",
       "<polyline clip-path=\"url(#clip002)\" style=\"stroke:#000000; stroke-linecap:round; stroke-linejoin:round; stroke-width:2; stroke-opacity:0.1; fill:none\" points=\"808.579,1423.18 808.579,123.472 \"/>\n",
       "<polyline clip-path=\"url(#clip002)\" style=\"stroke:#000000; stroke-linecap:round; stroke-linejoin:round; stroke-width:2; stroke-opacity:0.1; fill:none\" points=\"1303.51,1423.18 1303.51,123.472 \"/>\n",
       "<polyline clip-path=\"url(#clip002)\" style=\"stroke:#000000; stroke-linecap:round; stroke-linejoin:round; stroke-width:2; stroke-opacity:0.1; fill:none\" points=\"1798.44,1423.18 1798.44,123.472 \"/>\n",
       "<polyline clip-path=\"url(#clip002)\" style=\"stroke:#000000; stroke-linecap:round; stroke-linejoin:round; stroke-width:2; stroke-opacity:0.1; fill:none\" points=\"2293.36,1423.18 2293.36,123.472 \"/>\n",
       "<polyline clip-path=\"url(#clip000)\" style=\"stroke:#000000; stroke-linecap:round; stroke-linejoin:round; stroke-width:4; stroke-opacity:1; fill:none\" points=\"254.26,1423.18 2352.76,1423.18 \"/>\n",
       "<polyline clip-path=\"url(#clip000)\" style=\"stroke:#000000; stroke-linecap:round; stroke-linejoin:round; stroke-width:4; stroke-opacity:1; fill:none\" points=\"313.651,1423.18 313.651,1404.28 \"/>\n",
       "<polyline clip-path=\"url(#clip000)\" style=\"stroke:#000000; stroke-linecap:round; stroke-linejoin:round; stroke-width:4; stroke-opacity:1; fill:none\" points=\"808.579,1423.18 808.579,1404.28 \"/>\n",
       "<polyline clip-path=\"url(#clip000)\" style=\"stroke:#000000; stroke-linecap:round; stroke-linejoin:round; stroke-width:4; stroke-opacity:1; fill:none\" points=\"1303.51,1423.18 1303.51,1404.28 \"/>\n",
       "<polyline clip-path=\"url(#clip000)\" style=\"stroke:#000000; stroke-linecap:round; stroke-linejoin:round; stroke-width:4; stroke-opacity:1; fill:none\" points=\"1798.44,1423.18 1798.44,1404.28 \"/>\n",
       "<polyline clip-path=\"url(#clip000)\" style=\"stroke:#000000; stroke-linecap:round; stroke-linejoin:round; stroke-width:4; stroke-opacity:1; fill:none\" points=\"2293.36,1423.18 2293.36,1404.28 \"/>\n",
       "<path clip-path=\"url(#clip000)\" d=\"M275.955 1454.1 Q272.343 1454.1 270.515 1457.66 Q268.709 1461.2 268.709 1468.33 Q268.709 1475.44 270.515 1479.01 Q272.343 1482.55 275.955 1482.55 Q279.589 1482.55 281.394 1479.01 Q283.223 1475.44 283.223 1468.33 Q283.223 1461.2 281.394 1457.66 Q279.589 1454.1 275.955 1454.1 M275.955 1450.39 Q281.765 1450.39 284.82 1455 Q287.899 1459.58 287.899 1468.33 Q287.899 1477.06 284.82 1481.67 Q281.765 1486.25 275.955 1486.25 Q270.144 1486.25 267.066 1481.67 Q264.01 1477.06 264.01 1468.33 Q264.01 1459.58 267.066 1455 Q270.144 1450.39 275.955 1450.39 Z\" fill=\"#000000\" fill-rule=\"evenodd\" fill-opacity=\"1\" /><path clip-path=\"url(#clip000)\" d=\"M296.117 1479.7 L301.001 1479.7 L301.001 1485.58 L296.117 1485.58 L296.117 1479.7 Z\" fill=\"#000000\" fill-rule=\"evenodd\" fill-opacity=\"1\" /><path clip-path=\"url(#clip000)\" d=\"M321.186 1454.1 Q317.575 1454.1 315.746 1457.66 Q313.94 1461.2 313.94 1468.33 Q313.94 1475.44 315.746 1479.01 Q317.575 1482.55 321.186 1482.55 Q324.82 1482.55 326.626 1479.01 Q328.454 1475.44 328.454 1468.33 Q328.454 1461.2 326.626 1457.66 Q324.82 1454.1 321.186 1454.1 M321.186 1450.39 Q326.996 1450.39 330.052 1455 Q333.13 1459.58 333.13 1468.33 Q333.13 1477.06 330.052 1481.67 Q326.996 1486.25 321.186 1486.25 Q315.376 1486.25 312.297 1481.67 Q309.241 1477.06 309.241 1468.33 Q309.241 1459.58 312.297 1455 Q315.376 1450.39 321.186 1450.39 Z\" fill=\"#000000\" fill-rule=\"evenodd\" fill-opacity=\"1\" /><path clip-path=\"url(#clip000)\" d=\"M351.348 1454.1 Q347.737 1454.1 345.908 1457.66 Q344.102 1461.2 344.102 1468.33 Q344.102 1475.44 345.908 1479.01 Q347.737 1482.55 351.348 1482.55 Q354.982 1482.55 356.787 1479.01 Q358.616 1475.44 358.616 1468.33 Q358.616 1461.2 356.787 1457.66 Q354.982 1454.1 351.348 1454.1 M351.348 1450.39 Q357.158 1450.39 360.213 1455 Q363.292 1459.58 363.292 1468.33 Q363.292 1477.06 360.213 1481.67 Q357.158 1486.25 351.348 1486.25 Q345.538 1486.25 342.459 1481.67 Q339.403 1477.06 339.403 1468.33 Q339.403 1459.58 342.459 1455 Q345.538 1450.39 351.348 1450.39 Z\" fill=\"#000000\" fill-rule=\"evenodd\" fill-opacity=\"1\" /><path clip-path=\"url(#clip000)\" d=\"M771.381 1454.1 Q767.77 1454.1 765.941 1457.66 Q764.135 1461.2 764.135 1468.33 Q764.135 1475.44 765.941 1479.01 Q767.77 1482.55 771.381 1482.55 Q775.015 1482.55 776.82 1479.01 Q778.649 1475.44 778.649 1468.33 Q778.649 1461.2 776.82 1457.66 Q775.015 1454.1 771.381 1454.1 M771.381 1450.39 Q777.191 1450.39 780.246 1455 Q783.325 1459.58 783.325 1468.33 Q783.325 1477.06 780.246 1481.67 Q777.191 1486.25 771.381 1486.25 Q765.57 1486.25 762.492 1481.67 Q759.436 1477.06 759.436 1468.33 Q759.436 1459.58 762.492 1455 Q765.57 1450.39 771.381 1450.39 Z\" fill=\"#000000\" fill-rule=\"evenodd\" fill-opacity=\"1\" /><path clip-path=\"url(#clip000)\" d=\"M791.543 1479.7 L796.427 1479.7 L796.427 1485.58 L791.543 1485.58 L791.543 1479.7 Z\" fill=\"#000000\" fill-rule=\"evenodd\" fill-opacity=\"1\" /><path clip-path=\"url(#clip000)\" d=\"M810.64 1481.64 L826.959 1481.64 L826.959 1485.58 L805.015 1485.58 L805.015 1481.64 Q807.677 1478.89 812.26 1474.26 Q816.866 1469.61 818.047 1468.27 Q820.292 1465.74 821.172 1464.01 Q822.075 1462.25 822.075 1460.56 Q822.075 1457.8 820.13 1456.07 Q818.209 1454.33 815.107 1454.33 Q812.908 1454.33 810.454 1455.09 Q808.024 1455.86 805.246 1457.41 L805.246 1452.69 Q808.07 1451.55 810.524 1450.97 Q812.978 1450.39 815.015 1450.39 Q820.385 1450.39 823.579 1453.08 Q826.774 1455.77 826.774 1460.26 Q826.774 1462.39 825.964 1464.31 Q825.177 1466.2 823.07 1468.8 Q822.491 1469.47 819.39 1472.69 Q816.288 1475.88 810.64 1481.64 Z\" fill=\"#000000\" fill-rule=\"evenodd\" fill-opacity=\"1\" /><path clip-path=\"url(#clip000)\" d=\"M836.82 1451.02 L855.176 1451.02 L855.176 1454.96 L841.102 1454.96 L841.102 1463.43 Q842.121 1463.08 843.139 1462.92 Q844.158 1462.73 845.177 1462.73 Q850.964 1462.73 854.343 1465.9 Q857.723 1469.08 857.723 1474.49 Q857.723 1480.07 854.251 1483.17 Q850.778 1486.25 844.459 1486.25 Q842.283 1486.25 840.015 1485.88 Q837.769 1485.51 835.362 1484.77 L835.362 1480.07 Q837.445 1481.2 839.667 1481.76 Q841.889 1482.32 844.366 1482.32 Q848.371 1482.32 850.709 1480.21 Q853.047 1478.1 853.047 1474.49 Q853.047 1470.88 850.709 1468.77 Q848.371 1466.67 844.366 1466.67 Q842.491 1466.67 840.616 1467.08 Q838.765 1467.5 836.82 1468.38 L836.82 1451.02 Z\" fill=\"#000000\" fill-rule=\"evenodd\" fill-opacity=\"1\" /><path clip-path=\"url(#clip000)\" d=\"M1265.81 1454.1 Q1262.2 1454.1 1260.37 1457.66 Q1258.57 1461.2 1258.57 1468.33 Q1258.57 1475.44 1260.37 1479.01 Q1262.2 1482.55 1265.81 1482.55 Q1269.45 1482.55 1271.25 1479.01 Q1273.08 1475.44 1273.08 1468.33 Q1273.08 1461.2 1271.25 1457.66 Q1269.45 1454.1 1265.81 1454.1 M1265.81 1450.39 Q1271.62 1450.39 1274.68 1455 Q1277.76 1459.58 1277.76 1468.33 Q1277.76 1477.06 1274.68 1481.67 Q1271.62 1486.25 1265.81 1486.25 Q1260 1486.25 1256.92 1481.67 Q1253.87 1477.06 1253.87 1468.33 Q1253.87 1459.58 1256.92 1455 Q1260 1450.39 1265.81 1450.39 Z\" fill=\"#000000\" fill-rule=\"evenodd\" fill-opacity=\"1\" /><path clip-path=\"url(#clip000)\" d=\"M1285.97 1479.7 L1290.86 1479.7 L1290.86 1485.58 L1285.97 1485.58 L1285.97 1479.7 Z\" fill=\"#000000\" fill-rule=\"evenodd\" fill-opacity=\"1\" /><path clip-path=\"url(#clip000)\" d=\"M1301.09 1451.02 L1319.45 1451.02 L1319.45 1454.96 L1305.37 1454.96 L1305.37 1463.43 Q1306.39 1463.08 1307.41 1462.92 Q1308.43 1462.73 1309.45 1462.73 Q1315.23 1462.73 1318.61 1465.9 Q1321.99 1469.08 1321.99 1474.49 Q1321.99 1480.07 1318.52 1483.17 Q1315.05 1486.25 1308.73 1486.25 Q1306.55 1486.25 1304.28 1485.88 Q1302.04 1485.51 1299.63 1484.77 L1299.63 1480.07 Q1301.71 1481.2 1303.94 1481.76 Q1306.16 1482.32 1308.64 1482.32 Q1312.64 1482.32 1314.98 1480.21 Q1317.32 1478.1 1317.32 1474.49 Q1317.32 1470.88 1314.98 1468.77 Q1312.64 1466.67 1308.64 1466.67 Q1306.76 1466.67 1304.89 1467.08 Q1303.03 1467.5 1301.09 1468.38 L1301.09 1451.02 Z\" fill=\"#000000\" fill-rule=\"evenodd\" fill-opacity=\"1\" /><path clip-path=\"url(#clip000)\" d=\"M1341.2 1454.1 Q1337.59 1454.1 1335.76 1457.66 Q1333.96 1461.2 1333.96 1468.33 Q1333.96 1475.44 1335.76 1479.01 Q1337.59 1482.55 1341.2 1482.55 Q1344.84 1482.55 1346.64 1479.01 Q1348.47 1475.44 1348.47 1468.33 Q1348.47 1461.2 1346.64 1457.66 Q1344.84 1454.1 1341.2 1454.1 M1341.2 1450.39 Q1347.01 1450.39 1350.07 1455 Q1353.15 1459.58 1353.15 1468.33 Q1353.15 1477.06 1350.07 1481.67 Q1347.01 1486.25 1341.2 1486.25 Q1335.39 1486.25 1332.32 1481.67 Q1329.26 1477.06 1329.26 1468.33 Q1329.26 1459.58 1332.32 1455 Q1335.39 1450.39 1341.2 1450.39 Z\" fill=\"#000000\" fill-rule=\"evenodd\" fill-opacity=\"1\" /><path clip-path=\"url(#clip000)\" d=\"M1761.24 1454.1 Q1757.63 1454.1 1755.8 1457.66 Q1753.99 1461.2 1753.99 1468.33 Q1753.99 1475.44 1755.8 1479.01 Q1757.63 1482.55 1761.24 1482.55 Q1764.87 1482.55 1766.68 1479.01 Q1768.51 1475.44 1768.51 1468.33 Q1768.51 1461.2 1766.68 1457.66 Q1764.87 1454.1 1761.24 1454.1 M1761.24 1450.39 Q1767.05 1450.39 1770.1 1455 Q1773.18 1459.58 1773.18 1468.33 Q1773.18 1477.06 1770.1 1481.67 Q1767.05 1486.25 1761.24 1486.25 Q1755.43 1486.25 1752.35 1481.67 Q1749.29 1477.06 1749.29 1468.33 Q1749.29 1459.58 1752.35 1455 Q1755.43 1450.39 1761.24 1450.39 Z\" fill=\"#000000\" fill-rule=\"evenodd\" fill-opacity=\"1\" /><path clip-path=\"url(#clip000)\" d=\"M1781.4 1479.7 L1786.28 1479.7 L1786.28 1485.58 L1781.4 1485.58 L1781.4 1479.7 Z\" fill=\"#000000\" fill-rule=\"evenodd\" fill-opacity=\"1\" /><path clip-path=\"url(#clip000)\" d=\"M1795.29 1451.02 L1817.51 1451.02 L1817.51 1453.01 L1804.96 1485.58 L1800.08 1485.58 L1811.89 1454.96 L1795.29 1454.96 L1795.29 1451.02 Z\" fill=\"#000000\" fill-rule=\"evenodd\" fill-opacity=\"1\" /><path clip-path=\"url(#clip000)\" d=\"M1826.68 1451.02 L1845.03 1451.02 L1845.03 1454.96 L1830.96 1454.96 L1830.96 1463.43 Q1831.98 1463.08 1833 1462.92 Q1834.01 1462.73 1835.03 1462.73 Q1840.82 1462.73 1844.2 1465.9 Q1847.58 1469.08 1847.58 1474.49 Q1847.58 1480.07 1844.11 1483.17 Q1840.64 1486.25 1834.32 1486.25 Q1832.14 1486.25 1829.87 1485.88 Q1827.63 1485.51 1825.22 1484.77 L1825.22 1480.07 Q1827.3 1481.2 1829.52 1481.76 Q1831.75 1482.32 1834.22 1482.32 Q1838.23 1482.32 1840.57 1480.21 Q1842.9 1478.1 1842.9 1474.49 Q1842.9 1470.88 1840.57 1468.77 Q1838.23 1466.67 1834.22 1466.67 Q1832.35 1466.67 1830.47 1467.08 Q1828.62 1467.5 1826.68 1468.38 L1826.68 1451.02 Z\" fill=\"#000000\" fill-rule=\"evenodd\" fill-opacity=\"1\" /><path clip-path=\"url(#clip000)\" d=\"M2245.44 1481.64 L2253.08 1481.64 L2253.08 1455.28 L2244.77 1456.95 L2244.77 1452.69 L2253.03 1451.02 L2257.7 1451.02 L2257.7 1481.64 L2265.34 1481.64 L2265.34 1485.58 L2245.44 1485.58 L2245.44 1481.64 Z\" fill=\"#000000\" fill-rule=\"evenodd\" fill-opacity=\"1\" /><path clip-path=\"url(#clip000)\" d=\"M2274.79 1479.7 L2279.67 1479.7 L2279.67 1485.58 L2274.79 1485.58 L2274.79 1479.7 Z\" fill=\"#000000\" fill-rule=\"evenodd\" fill-opacity=\"1\" /><path clip-path=\"url(#clip000)\" d=\"M2299.86 1454.1 Q2296.25 1454.1 2294.42 1457.66 Q2292.61 1461.2 2292.61 1468.33 Q2292.61 1475.44 2294.42 1479.01 Q2296.25 1482.55 2299.86 1482.55 Q2303.49 1482.55 2305.3 1479.01 Q2307.13 1475.44 2307.13 1468.33 Q2307.13 1461.2 2305.3 1457.66 Q2303.49 1454.1 2299.86 1454.1 M2299.86 1450.39 Q2305.67 1450.39 2308.72 1455 Q2311.8 1459.58 2311.8 1468.33 Q2311.8 1477.06 2308.72 1481.67 Q2305.67 1486.25 2299.86 1486.25 Q2294.05 1486.25 2290.97 1481.67 Q2287.91 1477.06 2287.91 1468.33 Q2287.91 1459.58 2290.97 1455 Q2294.05 1450.39 2299.86 1450.39 Z\" fill=\"#000000\" fill-rule=\"evenodd\" fill-opacity=\"1\" /><path clip-path=\"url(#clip000)\" d=\"M2330.02 1454.1 Q2326.41 1454.1 2324.58 1457.66 Q2322.77 1461.2 2322.77 1468.33 Q2322.77 1475.44 2324.58 1479.01 Q2326.41 1482.55 2330.02 1482.55 Q2333.65 1482.55 2335.46 1479.01 Q2337.29 1475.44 2337.29 1468.33 Q2337.29 1461.2 2335.46 1457.66 Q2333.65 1454.1 2330.02 1454.1 M2330.02 1450.39 Q2335.83 1450.39 2338.89 1455 Q2341.96 1459.58 2341.96 1468.33 Q2341.96 1477.06 2338.89 1481.67 Q2335.83 1486.25 2330.02 1486.25 Q2324.21 1486.25 2321.13 1481.67 Q2318.08 1477.06 2318.08 1468.33 Q2318.08 1459.58 2321.13 1455 Q2324.21 1450.39 2330.02 1450.39 Z\" fill=\"#000000\" fill-rule=\"evenodd\" fill-opacity=\"1\" /><path clip-path=\"url(#clip000)\" d=\"M1320.12 1532.4 L1307.23 1549.74 L1320.79 1568.04 L1313.88 1568.04 L1303.51 1554.04 L1293.13 1568.04 L1286.22 1568.04 L1300.07 1549.39 L1287.4 1532.4 L1294.31 1532.4 L1303.76 1545.1 L1313.22 1532.4 L1320.12 1532.4 Z\" fill=\"#000000\" fill-rule=\"evenodd\" fill-opacity=\"1\" /><polyline clip-path=\"url(#clip002)\" style=\"stroke:#000000; stroke-linecap:round; stroke-linejoin:round; stroke-width:2; stroke-opacity:0.1; fill:none\" points=\"254.26,1245.94 2352.76,1245.94 \"/>\n",
       "<polyline clip-path=\"url(#clip002)\" style=\"stroke:#000000; stroke-linecap:round; stroke-linejoin:round; stroke-width:2; stroke-opacity:0.1; fill:none\" points=\"254.26,953.127 2352.76,953.127 \"/>\n",
       "<polyline clip-path=\"url(#clip002)\" style=\"stroke:#000000; stroke-linecap:round; stroke-linejoin:round; stroke-width:2; stroke-opacity:0.1; fill:none\" points=\"254.26,660.317 2352.76,660.317 \"/>\n",
       "<polyline clip-path=\"url(#clip002)\" style=\"stroke:#000000; stroke-linecap:round; stroke-linejoin:round; stroke-width:2; stroke-opacity:0.1; fill:none\" points=\"254.26,367.507 2352.76,367.507 \"/>\n",
       "<polyline clip-path=\"url(#clip000)\" style=\"stroke:#000000; stroke-linecap:round; stroke-linejoin:round; stroke-width:4; stroke-opacity:1; fill:none\" points=\"254.26,1423.18 254.26,123.472 \"/>\n",
       "<polyline clip-path=\"url(#clip000)\" style=\"stroke:#000000; stroke-linecap:round; stroke-linejoin:round; stroke-width:4; stroke-opacity:1; fill:none\" points=\"254.26,1245.94 273.157,1245.94 \"/>\n",
       "<polyline clip-path=\"url(#clip000)\" style=\"stroke:#000000; stroke-linecap:round; stroke-linejoin:round; stroke-width:4; stroke-opacity:1; fill:none\" points=\"254.26,953.127 273.157,953.127 \"/>\n",
       "<polyline clip-path=\"url(#clip000)\" style=\"stroke:#000000; stroke-linecap:round; stroke-linejoin:round; stroke-width:4; stroke-opacity:1; fill:none\" points=\"254.26,660.317 273.157,660.317 \"/>\n",
       "<polyline clip-path=\"url(#clip000)\" style=\"stroke:#000000; stroke-linecap:round; stroke-linejoin:round; stroke-width:4; stroke-opacity:1; fill:none\" points=\"254.26,367.507 273.157,367.507 \"/>\n",
       "<path clip-path=\"url(#clip000)\" d=\"M50.9921 1246.39 L80.6679 1246.39 L80.6679 1250.32 L50.9921 1250.32 L50.9921 1246.39 Z\" fill=\"#000000\" fill-rule=\"evenodd\" fill-opacity=\"1\" /><path clip-path=\"url(#clip000)\" d=\"M100.76 1231.73 Q97.1493 1231.73 95.3206 1235.3 Q93.515 1238.84 93.515 1245.97 Q93.515 1253.08 95.3206 1256.64 Q97.1493 1260.18 100.76 1260.18 Q104.395 1260.18 106.2 1256.64 Q108.029 1253.08 108.029 1245.97 Q108.029 1238.84 106.2 1235.3 Q104.395 1231.73 100.76 1231.73 M100.76 1228.03 Q106.571 1228.03 109.626 1232.64 Q112.705 1237.22 112.705 1245.97 Q112.705 1254.7 109.626 1259.3 Q106.571 1263.89 100.76 1263.89 Q94.9502 1263.89 91.8715 1259.3 Q88.816 1254.7 88.816 1245.97 Q88.816 1237.22 91.8715 1232.64 Q94.9502 1228.03 100.76 1228.03 Z\" fill=\"#000000\" fill-rule=\"evenodd\" fill-opacity=\"1\" /><path clip-path=\"url(#clip000)\" d=\"M120.922 1257.34 L125.807 1257.34 L125.807 1263.22 L120.922 1263.22 L120.922 1257.34 Z\" fill=\"#000000\" fill-rule=\"evenodd\" fill-opacity=\"1\" /><path clip-path=\"url(#clip000)\" d=\"M145.992 1231.73 Q142.381 1231.73 140.552 1235.3 Q138.746 1238.84 138.746 1245.97 Q138.746 1253.08 140.552 1256.64 Q142.381 1260.18 145.992 1260.18 Q149.626 1260.18 151.431 1256.64 Q153.26 1253.08 153.26 1245.97 Q153.26 1238.84 151.431 1235.3 Q149.626 1231.73 145.992 1231.73 M145.992 1228.03 Q151.802 1228.03 154.857 1232.64 Q157.936 1237.22 157.936 1245.97 Q157.936 1254.7 154.857 1259.3 Q151.802 1263.89 145.992 1263.89 Q140.181 1263.89 137.103 1259.3 Q134.047 1254.7 134.047 1245.97 Q134.047 1237.22 137.103 1232.64 Q140.181 1228.03 145.992 1228.03 Z\" fill=\"#000000\" fill-rule=\"evenodd\" fill-opacity=\"1\" /><path clip-path=\"url(#clip000)\" d=\"M166.2 1228.66 L184.556 1228.66 L184.556 1232.59 L170.482 1232.59 L170.482 1241.06 Q171.501 1240.72 172.519 1240.55 Q173.538 1240.37 174.556 1240.37 Q180.343 1240.37 183.723 1243.54 Q187.103 1246.71 187.103 1252.13 Q187.103 1257.71 183.63 1260.81 Q180.158 1263.89 173.839 1263.89 Q171.663 1263.89 169.394 1263.52 Q167.149 1263.15 164.742 1262.41 L164.742 1257.71 Q166.825 1258.84 169.047 1259.4 Q171.269 1259.95 173.746 1259.95 Q177.751 1259.95 180.089 1257.85 Q182.427 1255.74 182.427 1252.13 Q182.427 1248.52 180.089 1246.41 Q177.751 1244.3 173.746 1244.3 Q171.871 1244.3 169.996 1244.72 Q168.144 1245.14 166.2 1246.02 L166.2 1228.66 Z\" fill=\"#000000\" fill-rule=\"evenodd\" fill-opacity=\"1\" /><path clip-path=\"url(#clip000)\" d=\"M206.315 1231.73 Q202.704 1231.73 200.876 1235.3 Q199.07 1238.84 199.07 1245.97 Q199.07 1253.08 200.876 1256.64 Q202.704 1260.18 206.315 1260.18 Q209.95 1260.18 211.755 1256.64 Q213.584 1253.08 213.584 1245.97 Q213.584 1238.84 211.755 1235.3 Q209.95 1231.73 206.315 1231.73 M206.315 1228.03 Q212.126 1228.03 215.181 1232.64 Q218.26 1237.22 218.26 1245.97 Q218.26 1254.7 215.181 1259.3 Q212.126 1263.89 206.315 1263.89 Q200.505 1263.89 197.427 1259.3 Q194.371 1254.7 194.371 1245.97 Q194.371 1237.22 197.427 1232.64 Q200.505 1228.03 206.315 1228.03 Z\" fill=\"#000000\" fill-rule=\"evenodd\" fill-opacity=\"1\" /><path clip-path=\"url(#clip000)\" d=\"M51.9875 953.578 L81.6633 953.578 L81.6633 957.513 L51.9875 957.513 L51.9875 953.578 Z\" fill=\"#000000\" fill-rule=\"evenodd\" fill-opacity=\"1\" /><path clip-path=\"url(#clip000)\" d=\"M101.756 938.925 Q98.1447 938.925 96.316 942.49 Q94.5104 946.032 94.5104 953.161 Q94.5104 960.268 96.316 963.832 Q98.1447 967.374 101.756 967.374 Q105.39 967.374 107.196 963.832 Q109.024 960.268 109.024 953.161 Q109.024 946.032 107.196 942.49 Q105.39 938.925 101.756 938.925 M101.756 935.222 Q107.566 935.222 110.621 939.828 Q113.7 944.411 113.7 953.161 Q113.7 961.888 110.621 966.495 Q107.566 971.078 101.756 971.078 Q95.9456 971.078 92.8669 966.495 Q89.8114 961.888 89.8114 953.161 Q89.8114 944.411 92.8669 939.828 Q95.9456 935.222 101.756 935.222 Z\" fill=\"#000000\" fill-rule=\"evenodd\" fill-opacity=\"1\" /><path clip-path=\"url(#clip000)\" d=\"M121.918 964.527 L126.802 964.527 L126.802 970.407 L121.918 970.407 L121.918 964.527 Z\" fill=\"#000000\" fill-rule=\"evenodd\" fill-opacity=\"1\" /><path clip-path=\"url(#clip000)\" d=\"M146.987 938.925 Q143.376 938.925 141.547 942.49 Q139.742 946.032 139.742 953.161 Q139.742 960.268 141.547 963.832 Q143.376 967.374 146.987 967.374 Q150.621 967.374 152.427 963.832 Q154.255 960.268 154.255 953.161 Q154.255 946.032 152.427 942.49 Q150.621 938.925 146.987 938.925 M146.987 935.222 Q152.797 935.222 155.853 939.828 Q158.931 944.411 158.931 953.161 Q158.931 961.888 155.853 966.495 Q152.797 971.078 146.987 971.078 Q141.177 971.078 138.098 966.495 Q135.043 961.888 135.043 953.161 Q135.043 944.411 138.098 939.828 Q141.177 935.222 146.987 935.222 Z\" fill=\"#000000\" fill-rule=\"evenodd\" fill-opacity=\"1\" /><path clip-path=\"url(#clip000)\" d=\"M171.177 966.471 L187.496 966.471 L187.496 970.407 L165.552 970.407 L165.552 966.471 Q168.214 963.717 172.797 959.087 Q177.403 954.434 178.584 953.092 Q180.829 950.569 181.709 948.833 Q182.612 947.073 182.612 945.384 Q182.612 942.629 180.667 940.893 Q178.746 939.157 175.644 939.157 Q173.445 939.157 170.991 939.921 Q168.561 940.684 165.783 942.235 L165.783 937.513 Q168.607 936.379 171.061 935.8 Q173.515 935.222 175.552 935.222 Q180.922 935.222 184.116 937.907 Q187.311 940.592 187.311 945.083 Q187.311 947.212 186.501 949.133 Q185.714 951.032 183.607 953.624 Q183.028 954.296 179.927 957.513 Q176.825 960.708 171.177 966.471 Z\" fill=\"#000000\" fill-rule=\"evenodd\" fill-opacity=\"1\" /><path clip-path=\"url(#clip000)\" d=\"M197.357 935.847 L215.713 935.847 L215.713 939.782 L201.639 939.782 L201.639 948.254 Q202.658 947.907 203.676 947.745 Q204.695 947.559 205.714 947.559 Q211.501 947.559 214.88 950.731 Q218.26 953.902 218.26 959.319 Q218.26 964.897 214.788 967.999 Q211.315 971.078 204.996 971.078 Q202.82 971.078 200.552 970.707 Q198.306 970.337 195.899 969.596 L195.899 964.897 Q197.982 966.032 200.204 966.587 Q202.426 967.143 204.903 967.143 Q208.908 967.143 211.246 965.036 Q213.584 962.93 213.584 959.319 Q213.584 955.708 211.246 953.601 Q208.908 951.495 204.903 951.495 Q203.028 951.495 201.153 951.911 Q199.302 952.328 197.357 953.208 L197.357 935.847 Z\" fill=\"#000000\" fill-rule=\"evenodd\" fill-opacity=\"1\" /><path clip-path=\"url(#clip000)\" d=\"M100.76 646.116 Q97.1493 646.116 95.3206 649.68 Q93.515 653.222 93.515 660.352 Q93.515 667.458 95.3206 671.023 Q97.1493 674.564 100.76 674.564 Q104.395 674.564 106.2 671.023 Q108.029 667.458 108.029 660.352 Q108.029 653.222 106.2 649.68 Q104.395 646.116 100.76 646.116 M100.76 642.412 Q106.571 642.412 109.626 647.018 Q112.705 651.602 112.705 660.352 Q112.705 669.078 109.626 673.685 Q106.571 678.268 100.76 678.268 Q94.9502 678.268 91.8715 673.685 Q88.816 669.078 88.816 660.352 Q88.816 651.602 91.8715 647.018 Q94.9502 642.412 100.76 642.412 Z\" fill=\"#000000\" fill-rule=\"evenodd\" fill-opacity=\"1\" /><path clip-path=\"url(#clip000)\" d=\"M120.922 671.717 L125.807 671.717 L125.807 677.597 L120.922 677.597 L120.922 671.717 Z\" fill=\"#000000\" fill-rule=\"evenodd\" fill-opacity=\"1\" /><path clip-path=\"url(#clip000)\" d=\"M145.992 646.116 Q142.381 646.116 140.552 649.68 Q138.746 653.222 138.746 660.352 Q138.746 667.458 140.552 671.023 Q142.381 674.564 145.992 674.564 Q149.626 674.564 151.431 671.023 Q153.26 667.458 153.26 660.352 Q153.26 653.222 151.431 649.68 Q149.626 646.116 145.992 646.116 M145.992 642.412 Q151.802 642.412 154.857 647.018 Q157.936 651.602 157.936 660.352 Q157.936 669.078 154.857 673.685 Q151.802 678.268 145.992 678.268 Q140.181 678.268 137.103 673.685 Q134.047 669.078 134.047 660.352 Q134.047 651.602 137.103 647.018 Q140.181 642.412 145.992 642.412 Z\" fill=\"#000000\" fill-rule=\"evenodd\" fill-opacity=\"1\" /><path clip-path=\"url(#clip000)\" d=\"M176.153 646.116 Q172.542 646.116 170.714 649.68 Q168.908 653.222 168.908 660.352 Q168.908 667.458 170.714 671.023 Q172.542 674.564 176.153 674.564 Q179.788 674.564 181.593 671.023 Q183.422 667.458 183.422 660.352 Q183.422 653.222 181.593 649.68 Q179.788 646.116 176.153 646.116 M176.153 642.412 Q181.964 642.412 185.019 647.018 Q188.098 651.602 188.098 660.352 Q188.098 669.078 185.019 673.685 Q181.964 678.268 176.153 678.268 Q170.343 678.268 167.265 673.685 Q164.209 669.078 164.209 660.352 Q164.209 651.602 167.265 647.018 Q170.343 642.412 176.153 642.412 Z\" fill=\"#000000\" fill-rule=\"evenodd\" fill-opacity=\"1\" /><path clip-path=\"url(#clip000)\" d=\"M206.315 646.116 Q202.704 646.116 200.876 649.68 Q199.07 653.222 199.07 660.352 Q199.07 667.458 200.876 671.023 Q202.704 674.564 206.315 674.564 Q209.95 674.564 211.755 671.023 Q213.584 667.458 213.584 660.352 Q213.584 653.222 211.755 649.68 Q209.95 646.116 206.315 646.116 M206.315 642.412 Q212.126 642.412 215.181 647.018 Q218.26 651.602 218.26 660.352 Q218.26 669.078 215.181 673.685 Q212.126 678.268 206.315 678.268 Q200.505 678.268 197.427 673.685 Q194.371 669.078 194.371 660.352 Q194.371 651.602 197.427 647.018 Q200.505 642.412 206.315 642.412 Z\" fill=\"#000000\" fill-rule=\"evenodd\" fill-opacity=\"1\" /><path clip-path=\"url(#clip000)\" d=\"M101.756 353.306 Q98.1447 353.306 96.316 356.871 Q94.5104 360.412 94.5104 367.542 Q94.5104 374.648 96.316 378.213 Q98.1447 381.755 101.756 381.755 Q105.39 381.755 107.196 378.213 Q109.024 374.648 109.024 367.542 Q109.024 360.412 107.196 356.871 Q105.39 353.306 101.756 353.306 M101.756 349.602 Q107.566 349.602 110.621 354.209 Q113.7 358.792 113.7 367.542 Q113.7 376.269 110.621 380.875 Q107.566 385.458 101.756 385.458 Q95.9456 385.458 92.8669 380.875 Q89.8114 376.269 89.8114 367.542 Q89.8114 358.792 92.8669 354.209 Q95.9456 349.602 101.756 349.602 Z\" fill=\"#000000\" fill-rule=\"evenodd\" fill-opacity=\"1\" /><path clip-path=\"url(#clip000)\" d=\"M121.918 378.908 L126.802 378.908 L126.802 384.787 L121.918 384.787 L121.918 378.908 Z\" fill=\"#000000\" fill-rule=\"evenodd\" fill-opacity=\"1\" /><path clip-path=\"url(#clip000)\" d=\"M146.987 353.306 Q143.376 353.306 141.547 356.871 Q139.742 360.412 139.742 367.542 Q139.742 374.648 141.547 378.213 Q143.376 381.755 146.987 381.755 Q150.621 381.755 152.427 378.213 Q154.255 374.648 154.255 367.542 Q154.255 360.412 152.427 356.871 Q150.621 353.306 146.987 353.306 M146.987 349.602 Q152.797 349.602 155.853 354.209 Q158.931 358.792 158.931 367.542 Q158.931 376.269 155.853 380.875 Q152.797 385.458 146.987 385.458 Q141.177 385.458 138.098 380.875 Q135.043 376.269 135.043 367.542 Q135.043 358.792 138.098 354.209 Q141.177 349.602 146.987 349.602 Z\" fill=\"#000000\" fill-rule=\"evenodd\" fill-opacity=\"1\" /><path clip-path=\"url(#clip000)\" d=\"M171.177 380.852 L187.496 380.852 L187.496 384.787 L165.552 384.787 L165.552 380.852 Q168.214 378.097 172.797 373.468 Q177.403 368.815 178.584 367.472 Q180.829 364.949 181.709 363.213 Q182.612 361.454 182.612 359.764 Q182.612 357.009 180.667 355.273 Q178.746 353.537 175.644 353.537 Q173.445 353.537 170.991 354.301 Q168.561 355.065 165.783 356.616 L165.783 351.894 Q168.607 350.76 171.061 350.181 Q173.515 349.602 175.552 349.602 Q180.922 349.602 184.116 352.287 Q187.311 354.972 187.311 359.463 Q187.311 361.593 186.501 363.514 Q185.714 365.412 183.607 368.005 Q183.028 368.676 179.927 371.894 Q176.825 375.088 171.177 380.852 Z\" fill=\"#000000\" fill-rule=\"evenodd\" fill-opacity=\"1\" /><path clip-path=\"url(#clip000)\" d=\"M197.357 350.227 L215.713 350.227 L215.713 354.162 L201.639 354.162 L201.639 362.634 Q202.658 362.287 203.676 362.125 Q204.695 361.94 205.714 361.94 Q211.501 361.94 214.88 365.111 Q218.26 368.283 218.26 373.699 Q218.26 379.278 214.788 382.38 Q211.315 385.458 204.996 385.458 Q202.82 385.458 200.552 385.088 Q198.306 384.718 195.899 383.977 L195.899 379.278 Q197.982 380.412 200.204 380.968 Q202.426 381.523 204.903 381.523 Q208.908 381.523 211.246 379.417 Q213.584 377.31 213.584 373.699 Q213.584 370.088 211.246 367.982 Q208.908 365.875 204.903 365.875 Q203.028 365.875 201.153 366.292 Q199.302 366.709 197.357 367.588 L197.357 350.227 Z\" fill=\"#000000\" fill-rule=\"evenodd\" fill-opacity=\"1\" /><path clip-path=\"url(#clip000)\" d=\"M1084.33 12.096 L1092.52 12.096 L1092.52 72.576 L1084.33 72.576 L1084.33 12.096 Z\" fill=\"#000000\" fill-rule=\"evenodd\" fill-opacity=\"1\" /><path clip-path=\"url(#clip000)\" d=\"M1146.19 45.1919 L1146.19 72.576 L1138.74 72.576 L1138.74 45.4349 Q1138.74 38.994 1136.23 35.7938 Q1133.71 32.5936 1128.69 32.5936 Q1122.66 32.5936 1119.17 36.4419 Q1115.69 40.2903 1115.69 46.9338 L1115.69 72.576 L1108.19 72.576 L1108.19 27.2059 L1115.69 27.2059 L1115.69 34.2544 Q1118.36 30.163 1121.97 28.1376 Q1125.61 26.1121 1130.35 26.1121 Q1138.17 26.1121 1142.18 30.9732 Q1146.19 35.7938 1146.19 45.1919 Z\" fill=\"#000000\" fill-rule=\"evenodd\" fill-opacity=\"1\" /><path clip-path=\"url(#clip000)\" d=\"M1161.06 27.2059 L1168.51 27.2059 L1168.51 72.576 L1161.06 72.576 L1161.06 27.2059 M1161.06 9.54393 L1168.51 9.54393 L1168.51 18.9825 L1161.06 18.9825 L1161.06 9.54393 Z\" fill=\"#000000\" fill-rule=\"evenodd\" fill-opacity=\"1\" /><path clip-path=\"url(#clip000)\" d=\"M1191.48 14.324 L1191.48 27.2059 L1206.83 27.2059 L1206.83 32.9987 L1191.48 32.9987 L1191.48 57.6282 Q1191.48 63.1779 1192.98 64.7578 Q1194.52 66.3376 1199.18 66.3376 L1206.83 66.3376 L1206.83 72.576 L1199.18 72.576 Q1190.55 72.576 1187.27 69.3758 Q1183.99 66.1351 1183.99 57.6282 L1183.99 32.9987 L1178.52 32.9987 L1178.52 27.2059 L1183.99 27.2059 L1183.99 14.324 L1191.48 14.324 Z\" fill=\"#000000\" fill-rule=\"evenodd\" fill-opacity=\"1\" /><path clip-path=\"url(#clip000)\" d=\"M1216.64 27.2059 L1224.09 27.2059 L1224.09 72.576 L1216.64 72.576 L1216.64 27.2059 M1216.64 9.54393 L1224.09 9.54393 L1224.09 18.9825 L1216.64 18.9825 L1216.64 9.54393 Z\" fill=\"#000000\" fill-rule=\"evenodd\" fill-opacity=\"1\" /><path clip-path=\"url(#clip000)\" d=\"M1260.3 49.7694 Q1251.27 49.7694 1247.79 51.8354 Q1244.3 53.9013 1244.3 58.8839 Q1244.3 62.8538 1246.9 65.2034 Q1249.53 67.5124 1254.03 67.5124 Q1260.22 67.5124 1263.95 63.1374 Q1267.72 58.7219 1267.72 51.4303 L1267.72 49.7694 L1260.3 49.7694 M1275.17 46.6907 L1275.17 72.576 L1267.72 72.576 L1267.72 65.6895 Q1265.17 69.8214 1261.36 71.8063 Q1257.55 73.7508 1252.04 73.7508 Q1245.07 73.7508 1240.94 69.8619 Q1236.85 65.9325 1236.85 59.3701 Q1236.85 51.7138 1241.95 47.825 Q1247.1 43.9361 1257.27 43.9361 L1267.72 43.9361 L1267.72 43.2069 Q1267.72 38.0623 1264.32 35.2672 Q1260.95 32.4315 1254.84 32.4315 Q1250.95 32.4315 1247.26 33.3632 Q1243.57 34.295 1240.17 36.1584 L1240.17 29.2718 Q1244.26 27.692 1248.11 26.9223 Q1251.96 26.1121 1255.61 26.1121 Q1265.45 26.1121 1270.31 31.2163 Q1275.17 36.3204 1275.17 46.6907 Z\" fill=\"#000000\" fill-rule=\"evenodd\" fill-opacity=\"1\" /><path clip-path=\"url(#clip000)\" d=\"M1290.52 9.54393 L1297.98 9.54393 L1297.98 72.576 L1290.52 72.576 L1290.52 9.54393 Z\" fill=\"#000000\" fill-rule=\"evenodd\" fill-opacity=\"1\" /><path clip-path=\"url(#clip000)\" d=\"M1348.45 18.8205 L1348.45 65.8515 L1358.34 65.8515 Q1370.85 65.8515 1376.65 60.1802 Q1382.48 54.509 1382.48 42.2752 Q1382.48 30.1225 1376.65 24.4918 Q1370.85 18.8205 1358.34 18.8205 L1348.45 18.8205 M1340.27 12.096 L1357.08 12.096 Q1374.66 12.096 1382.89 19.4281 Q1391.11 26.7198 1391.11 42.2752 Q1391.11 57.9117 1382.84 65.2439 Q1374.58 72.576 1357.08 72.576 L1340.27 72.576 L1340.27 12.096 Z\" fill=\"#000000\" fill-rule=\"evenodd\" fill-opacity=\"1\" /><path clip-path=\"url(#clip000)\" d=\"M1424.45 49.7694 Q1415.41 49.7694 1411.93 51.8354 Q1408.45 53.9013 1408.45 58.8839 Q1408.45 62.8538 1411.04 65.2034 Q1413.67 67.5124 1418.17 67.5124 Q1424.37 67.5124 1428.09 63.1374 Q1431.86 58.7219 1431.86 51.4303 L1431.86 49.7694 L1424.45 49.7694 M1439.31 46.6907 L1439.31 72.576 L1431.86 72.576 L1431.86 65.6895 Q1429.31 69.8214 1425.5 71.8063 Q1421.69 73.7508 1416.18 73.7508 Q1409.22 73.7508 1405.08 69.8619 Q1400.99 65.9325 1400.99 59.3701 Q1400.99 51.7138 1406.1 47.825 Q1411.24 43.9361 1421.41 43.9361 L1431.86 43.9361 L1431.86 43.2069 Q1431.86 38.0623 1428.46 35.2672 Q1425.1 32.4315 1418.98 32.4315 Q1415.09 32.4315 1411.4 33.3632 Q1407.72 34.295 1404.31 36.1584 L1404.31 29.2718 Q1408.41 27.692 1412.25 26.9223 Q1416.1 26.1121 1419.75 26.1121 Q1429.59 26.1121 1434.45 31.2163 Q1439.31 36.3204 1439.31 46.6907 Z\" fill=\"#000000\" fill-rule=\"evenodd\" fill-opacity=\"1\" /><path clip-path=\"url(#clip000)\" d=\"M1462.04 14.324 L1462.04 27.2059 L1477.39 27.2059 L1477.39 32.9987 L1462.04 32.9987 L1462.04 57.6282 Q1462.04 63.1779 1463.54 64.7578 Q1465.08 66.3376 1469.74 66.3376 L1477.39 66.3376 L1477.39 72.576 L1469.74 72.576 Q1461.11 72.576 1457.83 69.3758 Q1454.55 66.1351 1454.55 57.6282 L1454.55 32.9987 L1449.08 32.9987 L1449.08 27.2059 L1454.55 27.2059 L1454.55 14.324 L1462.04 14.324 Z\" fill=\"#000000\" fill-rule=\"evenodd\" fill-opacity=\"1\" /><path clip-path=\"url(#clip000)\" d=\"M1507.82 49.7694 Q1498.78 49.7694 1495.3 51.8354 Q1491.81 53.9013 1491.81 58.8839 Q1491.81 62.8538 1494.41 65.2034 Q1497.04 67.5124 1501.54 67.5124 Q1507.73 67.5124 1511.46 63.1374 Q1515.23 58.7219 1515.23 51.4303 L1515.23 49.7694 L1507.82 49.7694 M1522.68 46.6907 L1522.68 72.576 L1515.23 72.576 L1515.23 65.6895 Q1512.68 69.8214 1508.87 71.8063 Q1505.06 73.7508 1499.55 73.7508 Q1492.58 73.7508 1488.45 69.8619 Q1484.36 65.9325 1484.36 59.3701 Q1484.36 51.7138 1489.46 47.825 Q1494.61 43.9361 1504.78 43.9361 L1515.23 43.9361 L1515.23 43.2069 Q1515.23 38.0623 1511.83 35.2672 Q1508.46 32.4315 1502.35 32.4315 Q1498.46 32.4315 1494.77 33.3632 Q1491.08 34.295 1487.68 36.1584 L1487.68 29.2718 Q1491.77 27.692 1495.62 26.9223 Q1499.47 26.1121 1503.12 26.1121 Q1512.96 26.1121 1517.82 31.2163 Q1522.68 36.3204 1522.68 46.6907 Z\" fill=\"#000000\" fill-rule=\"evenodd\" fill-opacity=\"1\" /><polyline clip-path=\"url(#clip002)\" style=\"stroke:#009af9; stroke-linecap:round; stroke-linejoin:round; stroke-width:4; stroke-opacity:1; fill:none\" points=\"313.651,660.317 333.448,660.317 353.245,660.317 373.043,660.317 392.84,660.317 412.637,660.317 432.434,660.317 452.231,660.317 472.028,660.317 491.825,660.317 511.622,660.317 531.42,660.317 551.217,660.317 571.014,660.317 590.811,660.317 610.608,660.317 630.405,660.317 650.202,660.317 670,660.317 689.797,660.317 709.594,660.317 729.391,660.317 749.188,660.316 768.985,660.316 788.782,660.315 808.579,660.314 828.377,660.311 848.174,660.307 867.971,660.301 887.768,660.29 907.565,660.273 927.362,660.247 947.159,660.209 966.957,660.152 986.754,660.071 1006.55,659.961 1026.35,659.816 1046.15,659.634 1065.94,659.418 1085.74,659.176 1105.54,658.926 1125.33,658.695 1145.13,658.51 1164.93,658.392 1184.73,658.344 1204.52,658.338 1224.32,658.314 1244.12,658.186 1263.91,657.868 1283.71,657.312 1303.51,656.532 1323.3,655.617 1343.1,654.696 1362.9,653.9 1382.7,653.307 1402.49,652.93 1422.29,652.726 1442.09,652.635 1461.88,652.601 1481.68,652.59 1501.48,652.588 1521.28,652.588 1541.07,652.588 1560.87,652.588 1580.67,652.588 1600.46,652.588 1620.26,652.588 1640.06,652.588 1659.86,652.588 1679.65,652.588 1699.45,652.588 1719.25,652.588 1739.04,652.588 1758.84,652.588 1778.64,652.588 1798.44,652.588 1818.23,652.588 1838.03,652.588 1857.83,652.588 1877.62,652.588 1897.42,652.588 1917.22,652.588 1937.02,652.588 1956.81,652.588 1976.61,652.588 1996.41,652.588 2016.2,652.588 2036,652.588 2055.8,652.588 2075.6,652.588 2095.39,652.588 2115.19,652.588 2134.99,652.588 2154.78,652.588 2174.58,652.588 2194.38,652.588 2214.18,652.588 2233.97,652.588 2253.77,652.588 2273.57,652.588 2293.36,652.588 \"/>\n",
       "<polyline clip-path=\"url(#clip002)\" style=\"stroke:#e26f46; stroke-linecap:round; stroke-linejoin:round; stroke-width:4; stroke-opacity:1; fill:none\" points=\"313.651,660.317 333.448,660.317 353.245,660.317 373.043,660.317 392.84,660.317 412.637,660.317 432.434,660.317 452.231,660.317 472.028,660.317 491.825,660.317 511.622,660.317 531.42,660.317 551.217,660.317 571.014,660.317 590.811,660.317 610.608,660.317 630.405,660.317 650.202,660.317 670,660.317 689.797,660.316 709.594,660.316 729.391,660.316 749.188,660.315 768.985,660.313 788.782,660.31 808.579,660.306 828.377,660.299 848.174,660.288 867.971,660.271 887.768,660.244 907.565,660.204 927.362,660.146 947.159,660.061 966.957,659.943 986.754,659.784 1006.55,659.575 1026.35,659.312 1046.15,658.995 1065.94,658.634 1085.74,658.247 1105.54,657.866 1125.33,657.525 1145.13,657.264 1164.93,657.104 1184.73,657.041 1204.52,657.034 1224.32,657.006 1244.12,656.859 1263.91,656.508 1283.71,655.917 1303.51,655.123 1323.3,654.225 1343.1,653.357 1362.9,652.635 1382.7,652.119 1402.49,651.803 1422.29,651.639 1442.09,651.568 1461.88,651.543 1481.68,651.536 1501.48,651.534 1521.28,651.534 1541.07,651.534 1560.87,651.534 1580.67,651.534 1600.46,651.534 1620.26,651.534 1640.06,651.534 1659.86,651.534 1679.65,651.534 1699.45,651.534 1719.25,651.534 1739.04,651.534 1758.84,651.534 1778.64,651.534 1798.44,651.534 1818.23,651.534 1838.03,651.534 1857.83,651.534 1877.62,651.534 1897.42,651.534 1917.22,651.534 1937.02,651.534 1956.81,651.534 1976.61,651.534 1996.41,651.534 2016.2,651.534 2036,651.534 2055.8,651.534 2075.6,651.534 2095.39,651.534 2115.19,651.534 2134.99,651.534 2154.78,651.534 2174.58,651.534 2194.38,651.534 2214.18,651.534 2233.97,651.534 2253.77,651.534 2273.57,651.534 2293.36,651.534 \"/>\n",
       "<polyline clip-path=\"url(#clip002)\" style=\"stroke:#3da44d; stroke-linecap:round; stroke-linejoin:round; stroke-width:4; stroke-opacity:1; fill:none\" points=\"313.651,660.317 333.448,660.317 353.245,660.317 373.043,660.317 392.84,660.317 412.637,660.317 432.434,660.316 452.231,660.316 472.028,660.316 491.825,660.315 511.622,660.313 531.42,660.311 551.217,660.308 571.014,660.303 590.811,660.296 610.608,660.286 630.405,660.272 650.202,660.251 670,660.222 689.797,660.181 709.594,660.124 729.391,660.046 749.188,659.939 768.985,659.795 788.782,659.601 808.579,659.343 828.377,659.001 848.174,658.551 867.971,657.967 887.768,657.213 907.565,656.25 927.362,655.034 947.159,653.515 966.957,651.642 986.754,649.363 1006.55,646.634 1026.35,643.421 1046.15,639.713 1065.94,635.53 1085.74,630.934 1105.54,626.039 1125.33,621.024 1145.13,616.129 1164.93,611.659 1184.73,607.958 1204.52,605.388 1224.32,604.281 1244.12,604.887 1263.91,607.323 1283.71,611.525 1303.51,617.229 1323.3,623.987 1343.1,631.22 1362.9,638.306 1382.7,644.693 1402.49,649.987 1422.29,654.007 1442.09,656.79 1461.88,658.532 1481.68,659.509 1501.48,659.994 1521.28,660.205 1541.07,660.284 1560.87,660.309 1580.67,660.315 1600.46,660.317 1620.26,660.317 1640.06,660.317 1659.86,660.317 1679.65,660.317 1699.45,660.317 1719.25,660.317 1739.04,660.317 1758.84,660.317 1778.64,660.317 1798.44,660.317 1818.23,660.317 1838.03,660.317 1857.83,660.317 1877.62,660.317 1897.42,660.317 1917.22,660.317 1937.02,660.317 1956.81,660.317 1976.61,660.317 1996.41,660.317 2016.2,660.317 2036,660.317 2055.8,660.317 2075.6,660.317 2095.39,660.317 2115.19,660.317 2134.99,660.317 2154.78,660.317 2174.58,660.317 2194.38,660.317 2214.18,660.317 2233.97,660.317 2253.77,660.317 2273.57,660.317 2293.36,660.317 \"/>\n",
       "<polyline clip-path=\"url(#clip002)\" style=\"stroke:#c271d2; stroke-linecap:round; stroke-linejoin:round; stroke-width:4; stroke-opacity:1; fill:none\" points=\"313.651,660.317 333.448,660.317 353.245,660.316 373.043,660.314 392.84,660.31 412.637,660.304 432.434,660.293 452.231,660.276 472.028,660.25 491.825,660.209 511.622,660.148 531.42,660.059 551.217,659.929 571.014,659.742 590.811,659.477 610.608,659.103 630.405,658.582 650.202,657.859 670,656.867 689.797,655.515 709.594,653.686 729.391,651.231 749.188,647.96 768.985,643.639 788.782,637.977 808.579,630.626 828.377,621.173 848.174,609.143 867.971,594.007 887.768,575.203 907.565,552.171 927.362,524.409 947.159,491.559 966.957,453.516 986.754,410.578 1006.55,363.619 1026.35,314.277 1046.15,265.143 1065.94,219.897 1085.74,183.349 1105.54,161.317 1125.33,160.256 1145.13,186.596 1164.93,245.749 1184.73,340.853 1204.52,471.398 1224.32,632.02 1244.12,811.859 1263.91,994.913 1283.71,1161.7 1303.51,1292.27 1323.3,1370.16 1343.1,1386.4 1362.9,1342.17 1382.7,1249.21 1402.49,1127.11 1422.29,998.295 1442.09,882.322 1461.88,791.452 1481.68,729.229 1501.48,692.124 1521.28,673.019 1541.07,664.63 1560.87,661.536 1580.67,660.597 1600.46,660.368 1620.26,660.324 1640.06,660.318 1659.86,660.317 1679.65,660.317 1699.45,660.317 1719.25,660.317 1739.04,660.317 1758.84,660.317 1778.64,660.317 1798.44,660.317 1818.23,660.317 1838.03,660.317 1857.83,660.317 1877.62,660.317 1897.42,660.317 1917.22,660.317 1937.02,660.317 1956.81,660.317 1976.61,660.317 1996.41,660.317 2016.2,660.317 2036,660.317 2055.8,660.317 2075.6,660.317 2095.39,660.317 2115.19,660.317 2134.99,660.317 2154.78,660.317 2174.58,660.317 2194.38,660.317 2214.18,660.317 2233.97,660.317 2253.77,660.317 2273.57,660.317 2293.36,660.317 \"/>\n",
       "<path clip-path=\"url(#clip000)\" d=\"M1967.73 425.996 L2282.81 425.996 L2282.81 166.796 L1967.73 166.796  Z\" fill=\"#ffffff\" fill-rule=\"evenodd\" fill-opacity=\"1\"/>\n",
       "<polyline clip-path=\"url(#clip000)\" style=\"stroke:#000000; stroke-linecap:round; stroke-linejoin:round; stroke-width:4; stroke-opacity:1; fill:none\" points=\"1967.73,425.996 2282.81,425.996 2282.81,166.796 1967.73,166.796 1967.73,425.996 \"/>\n",
       "<polyline clip-path=\"url(#clip000)\" style=\"stroke:#009af9; stroke-linecap:round; stroke-linejoin:round; stroke-width:4; stroke-opacity:1; fill:none\" points=\"1991.04,218.636 2130.94,218.636 \"/>\n",
       "<path clip-path=\"url(#clip000)\" d=\"M2174.61 214.967 Q2176.2 212.096 2178.43 210.731 Q2180.65 209.365 2183.66 209.365 Q2187.71 209.365 2189.91 212.212 Q2192.11 215.036 2192.11 220.268 L2192.11 235.916 L2187.82 235.916 L2187.82 220.407 Q2187.82 216.68 2186.5 214.874 Q2185.18 213.069 2182.48 213.069 Q2179.17 213.069 2177.24 215.268 Q2175.32 217.467 2175.32 221.263 L2175.32 235.916 L2171.04 235.916 L2171.04 220.407 Q2171.04 216.657 2169.72 214.874 Q2168.4 213.069 2165.65 213.069 Q2162.38 213.069 2160.46 215.291 Q2158.54 217.49 2158.54 221.263 L2158.54 235.916 L2154.26 235.916 L2154.26 209.99 L2158.54 209.99 L2158.54 214.018 Q2160 211.633 2162.04 210.499 Q2164.07 209.365 2166.87 209.365 Q2169.7 209.365 2171.67 210.8 Q2173.66 212.235 2174.61 214.967 Z\" fill=\"#000000\" fill-rule=\"evenodd\" fill-opacity=\"1\" /><polyline clip-path=\"url(#clip000)\" style=\"stroke:#e26f46; stroke-linecap:round; stroke-linejoin:round; stroke-width:4; stroke-opacity:1; fill:none\" points=\"1991.04,270.476 2130.94,270.476 \"/>\n",
       "<path clip-path=\"url(#clip000)\" d=\"M2173.03 274.816 Q2173.03 270.117 2171.09 267.455 Q2169.17 264.77 2165.79 264.77 Q2162.41 264.77 2160.46 267.455 Q2158.54 270.117 2158.54 274.816 Q2158.54 279.515 2160.46 282.2 Q2162.41 284.862 2165.79 284.862 Q2169.17 284.862 2171.09 282.2 Q2173.03 279.515 2173.03 274.816 M2158.54 265.765 Q2159.88 263.45 2161.92 262.339 Q2163.98 261.205 2166.83 261.205 Q2171.55 261.205 2174.49 264.955 Q2177.45 268.705 2177.45 274.816 Q2177.45 280.927 2174.49 284.677 Q2171.55 288.427 2166.83 288.427 Q2163.98 288.427 2161.92 287.316 Q2159.88 286.182 2158.54 283.867 L2158.54 287.756 L2154.26 287.756 L2154.26 251.737 L2158.54 251.737 L2158.54 265.765 Z\" fill=\"#000000\" fill-rule=\"evenodd\" fill-opacity=\"1\" /><path clip-path=\"url(#clip000)\" d=\"M2206.69 273.728 L2206.69 275.811 L2187.11 275.811 Q2187.38 280.209 2189.74 282.524 Q2192.13 284.816 2196.36 284.816 Q2198.82 284.816 2201.11 284.214 Q2203.42 283.612 2205.69 282.409 L2205.69 286.436 Q2203.4 287.408 2200.99 287.918 Q2198.59 288.427 2196.11 288.427 Q2189.91 288.427 2186.27 284.816 Q2182.66 281.205 2182.66 275.047 Q2182.66 268.682 2186.09 264.955 Q2189.54 261.205 2195.37 261.205 Q2200.6 261.205 2203.63 264.585 Q2206.69 267.941 2206.69 273.728 M2202.43 272.478 Q2202.38 268.983 2200.46 266.899 Q2198.56 264.816 2195.42 264.816 Q2191.85 264.816 2189.7 266.83 Q2187.57 268.844 2187.24 272.501 L2202.43 272.478 Z\" fill=\"#000000\" fill-rule=\"evenodd\" fill-opacity=\"1\" /><path clip-path=\"url(#clip000)\" d=\"M2217.89 254.469 L2217.89 261.83 L2226.67 261.83 L2226.67 265.14 L2217.89 265.14 L2217.89 279.214 Q2217.89 282.385 2218.75 283.288 Q2219.63 284.191 2222.29 284.191 L2226.67 284.191 L2226.67 287.756 L2222.29 287.756 Q2217.36 287.756 2215.49 285.927 Q2213.61 284.075 2213.61 279.214 L2213.61 265.14 L2210.49 265.14 L2210.49 261.83 L2213.61 261.83 L2213.61 254.469 L2217.89 254.469 Z\" fill=\"#000000\" fill-rule=\"evenodd\" fill-opacity=\"1\" /><path clip-path=\"url(#clip000)\" d=\"M2244.05 274.723 Q2238.89 274.723 2236.9 275.904 Q2234.91 277.084 2234.91 279.932 Q2234.91 282.2 2236.39 283.543 Q2237.89 284.862 2240.46 284.862 Q2244 284.862 2246.13 282.362 Q2248.29 279.839 2248.29 275.672 L2248.29 274.723 L2244.05 274.723 M2252.55 272.964 L2252.55 287.756 L2248.29 287.756 L2248.29 283.821 Q2246.83 286.182 2244.65 287.316 Q2242.48 288.427 2239.33 288.427 Q2235.35 288.427 2232.98 286.205 Q2230.65 283.959 2230.65 280.209 Q2230.65 275.834 2233.56 273.612 Q2236.5 271.39 2242.31 271.39 L2248.29 271.39 L2248.29 270.973 Q2248.29 268.034 2246.34 266.436 Q2244.42 264.816 2240.92 264.816 Q2238.7 264.816 2236.6 265.348 Q2234.49 265.881 2232.55 266.946 L2232.55 263.01 Q2234.88 262.108 2237.08 261.668 Q2239.28 261.205 2241.36 261.205 Q2246.99 261.205 2249.77 264.122 Q2252.55 267.038 2252.55 272.964 Z\" fill=\"#000000\" fill-rule=\"evenodd\" fill-opacity=\"1\" /><polyline clip-path=\"url(#clip000)\" style=\"stroke:#3da44d; stroke-linecap:round; stroke-linejoin:round; stroke-width:4; stroke-opacity:1; fill:none\" points=\"1991.04,322.316 2130.94,322.316 \"/>\n",
       "<path clip-path=\"url(#clip000)\" d=\"M2158.54 335.707 L2158.54 349.457 L2154.26 349.457 L2154.26 313.67 L2158.54 313.67 L2158.54 317.605 Q2159.88 315.29 2161.92 314.179 Q2163.98 313.045 2166.83 313.045 Q2171.55 313.045 2174.49 316.795 Q2177.45 320.545 2177.45 326.656 Q2177.45 332.767 2174.49 336.517 Q2171.55 340.267 2166.83 340.267 Q2163.98 340.267 2161.92 339.156 Q2159.88 338.022 2158.54 335.707 M2173.03 326.656 Q2173.03 321.957 2171.09 319.295 Q2169.17 316.61 2165.79 316.61 Q2162.41 316.61 2160.46 319.295 Q2158.54 321.957 2158.54 326.656 Q2158.54 331.355 2160.46 334.04 Q2162.41 336.702 2165.79 336.702 Q2169.17 336.702 2171.09 334.04 Q2173.03 331.355 2173.03 326.656 Z\" fill=\"#000000\" fill-rule=\"evenodd\" fill-opacity=\"1\" /><path clip-path=\"url(#clip000)\" d=\"M2201.04 314.434 L2201.04 318.462 Q2199.24 317.536 2197.29 317.073 Q2195.35 316.61 2193.26 316.61 Q2190.09 316.61 2188.49 317.582 Q2186.92 318.554 2186.92 320.499 Q2186.92 321.98 2188.05 322.837 Q2189.19 323.67 2192.61 324.434 L2194.07 324.758 Q2198.61 325.73 2200.51 327.512 Q2202.43 329.272 2202.43 332.443 Q2202.43 336.054 2199.56 338.161 Q2196.71 340.267 2191.71 340.267 Q2189.63 340.267 2187.36 339.85 Q2185.11 339.457 2182.61 338.647 L2182.61 334.249 Q2184.98 335.475 2187.27 336.1 Q2189.56 336.702 2191.8 336.702 Q2194.81 336.702 2196.43 335.684 Q2198.05 334.642 2198.05 332.767 Q2198.05 331.031 2196.87 330.105 Q2195.72 329.179 2191.76 328.323 L2190.28 327.975 Q2186.32 327.142 2184.56 325.429 Q2182.8 323.693 2182.8 320.684 Q2182.8 317.026 2185.39 315.036 Q2187.99 313.045 2192.75 313.045 Q2195.11 313.045 2197.2 313.392 Q2199.28 313.739 2201.04 314.434 Z\" fill=\"#000000\" fill-rule=\"evenodd\" fill-opacity=\"1\" /><path clip-path=\"url(#clip000)\" d=\"M2209.21 313.67 L2213.47 313.67 L2213.47 339.596 L2209.21 339.596 L2209.21 313.67 M2209.21 303.577 L2213.47 303.577 L2213.47 308.971 L2209.21 308.971 L2209.21 303.577 Z\" fill=\"#000000\" fill-rule=\"evenodd\" fill-opacity=\"1\" /><polyline clip-path=\"url(#clip000)\" style=\"stroke:#c271d2; stroke-linecap:round; stroke-linejoin:round; stroke-width:4; stroke-opacity:1; fill:none\" points=\"1991.04,374.156 2130.94,374.156 \"/>\n",
       "<path clip-path=\"url(#clip000)\" d=\"M2158.54 387.547 L2158.54 401.297 L2154.26 401.297 L2154.26 365.51 L2158.54 365.51 L2158.54 369.445 Q2159.88 367.13 2161.92 366.019 Q2163.98 364.885 2166.83 364.885 Q2171.55 364.885 2174.49 368.635 Q2177.45 372.385 2177.45 378.496 Q2177.45 384.607 2174.49 388.357 Q2171.55 392.107 2166.83 392.107 Q2163.98 392.107 2161.92 390.996 Q2159.88 389.862 2158.54 387.547 M2173.03 378.496 Q2173.03 373.797 2171.09 371.135 Q2169.17 368.45 2165.79 368.45 Q2162.41 368.45 2160.46 371.135 Q2158.54 373.797 2158.54 378.496 Q2158.54 383.195 2160.46 385.88 Q2162.41 388.542 2165.79 388.542 Q2169.17 388.542 2171.09 385.88 Q2173.03 383.195 2173.03 378.496 Z\" fill=\"#000000\" fill-rule=\"evenodd\" fill-opacity=\"1\" /><path clip-path=\"url(#clip000)\" d=\"M2201.04 366.274 L2201.04 370.302 Q2199.24 369.376 2197.29 368.913 Q2195.35 368.45 2193.26 368.45 Q2190.09 368.45 2188.49 369.422 Q2186.92 370.394 2186.92 372.339 Q2186.92 373.82 2188.05 374.677 Q2189.19 375.51 2192.61 376.274 L2194.07 376.598 Q2198.61 377.57 2200.51 379.352 Q2202.43 381.112 2202.43 384.283 Q2202.43 387.894 2199.56 390.001 Q2196.71 392.107 2191.71 392.107 Q2189.63 392.107 2187.36 391.69 Q2185.11 391.297 2182.61 390.487 L2182.61 386.089 Q2184.98 387.315 2187.27 387.94 Q2189.56 388.542 2191.8 388.542 Q2194.81 388.542 2196.43 387.524 Q2198.05 386.482 2198.05 384.607 Q2198.05 382.871 2196.87 381.945 Q2195.72 381.019 2191.76 380.163 L2190.28 379.815 Q2186.32 378.982 2184.56 377.269 Q2182.8 375.533 2182.8 372.524 Q2182.8 368.866 2185.39 366.876 Q2187.99 364.885 2192.75 364.885 Q2195.11 364.885 2197.2 365.232 Q2199.28 365.579 2201.04 366.274 Z\" fill=\"#000000\" fill-rule=\"evenodd\" fill-opacity=\"1\" /><path clip-path=\"url(#clip000)\" d=\"M2209.21 365.51 L2213.47 365.51 L2213.47 391.436 L2209.21 391.436 L2209.21 365.51 M2209.21 355.417 L2213.47 355.417 L2213.47 360.811 L2209.21 360.811 L2209.21 355.417 Z\" fill=\"#000000\" fill-rule=\"evenodd\" fill-opacity=\"1\" /><path clip-path=\"url(#clip000)\" d=\"M2223.47 385.556 L2228.36 385.556 L2228.36 389.538 L2224.56 396.945 L2221.57 396.945 L2223.47 389.538 L2223.47 385.556 Z\" fill=\"#000000\" fill-rule=\"evenodd\" fill-opacity=\"1\" /><path clip-path=\"url(#clip000)\" d=\"M2259 365.51 L2249.63 378.126 L2259.49 391.436 L2254.47 391.436 L2246.92 381.251 L2239.37 391.436 L2234.35 391.436 L2244.42 377.871 L2235.21 365.51 L2240.23 365.51 L2247.11 374.746 L2253.98 365.51 L2259 365.51 Z\" fill=\"#000000\" fill-rule=\"evenodd\" fill-opacity=\"1\" /></svg>\n"
      ]
     },
     "execution_count": 31,
     "metadata": {},
     "output_type": "execute_result"
    }
   ],
   "source": [
    "using Plots #showing initial data and the initial status of the horizon finder\n",
    "plot(initX[4:L-3], state_array[4:L-3,1:4], xaxis=\"x\",title=\"Initial Data\", labels=[\"m\" \"beta\" \"psi\" \"psi,x\"])"
   ]
  },
  {
   "cell_type": "markdown",
   "id": "9b444ece",
   "metadata": {
    "papermill": {
     "duration": 0.007863,
     "end_time": "2023-06-25T23:43:20.431994",
     "exception": false,
     "start_time": "2023-06-25T23:43:20.424131",
     "status": "completed"
    },
    "tags": []
   },
   "source": [
    "# Defining the initial state array for the evolution m β Ψ and Ψ,x"
   ]
  },
  {
   "cell_type": "code",
   "execution_count": 32,
   "id": "9902ffab",
   "metadata": {
    "execution": {
     "iopub.execute_input": "2023-06-26T00:43:20.962000Z",
     "iopub.status.busy": "2023-06-26T00:43:20.448000Z",
     "iopub.status.idle": "2023-06-26T00:43:23.484000Z",
     "shell.execute_reply": "2023-06-26T00:43:23.484000Z"
    },
    "papermill": {
     "duration": 3.047994,
     "end_time": "2023-06-25T23:43:23.487839",
     "exception": false,
     "start_time": "2023-06-25T23:43:20.439845",
     "status": "completed"
    },
    "tags": []
   },
   "outputs": [],
   "source": [
    "using CSV, Tables, Printf\n",
    "#CSV.write(dir*\"/time_step0.csv\", Tables.table(transpose(Matrix(state_array))), writeheader=false)\n",
    "#CSV.write(dir*\"/res$res/time_step0.csv\", Tables.table(state_array), writeheader=false)\n",
    "\n",
    "global files=[\"m\", \"beta\", \"psi\", \"derpsi\"]\n",
    "\n",
    "print_muninn(files, 0, state_array[:,1:5],res,\"w\")"
   ]
  },
  {
   "cell_type": "code",
   "execution_count": 33,
   "id": "fff1426a",
   "metadata": {
    "execution": {
     "iopub.execute_input": "2023-06-26T00:43:24.210000Z",
     "iopub.status.busy": "2023-06-26T00:43:23.520000Z",
     "iopub.status.idle": "2023-06-26T00:43:25.884000Z",
     "shell.execute_reply": "2023-06-26T00:43:25.884000Z"
    },
    "papermill": {
     "duration": 2.383692,
     "end_time": "2023-06-25T23:43:25.889556",
     "exception": false,
     "start_time": "2023-06-25T23:43:23.505864",
     "status": "completed"
    },
    "tags": []
   },
   "outputs": [
    {
     "data": {
      "text/plain": [
       "\"/home/rita13santos/Desktop/MSc Thesis/Git/ScalarField/DATA/parameters.csv\""
      ]
     },
     "execution_count": 33,
     "metadata": {},
     "output_type": "execute_result"
    }
   ],
   "source": [
    "time=0.0\n",
    "criticality=0.0\n",
    "explode=0.0\n",
    "evol_stats = [criticality A sigma r0 time explode run]\n",
    "monitor_ratio = zeros(L)\n",
    "CSV.write(dir*\"/parameters.csv\", Tables.table(evol_stats), writeheader=true, header=[\"criticality\", \"A\", \"sigma\", \"r0\", \"time\", \"explode\", \"run\"])"
   ]
  },
  {
   "cell_type": "code",
   "execution_count": 34,
   "id": "9e9abd7d",
   "metadata": {
    "execution": {
     "iopub.execute_input": "2023-06-26T00:43:25.921000Z",
     "iopub.status.busy": "2023-06-26T00:43:25.921000Z",
     "iopub.status.idle": "2023-06-26T00:43:26.887000Z",
     "shell.execute_reply": "2023-06-26T00:43:26.887000Z"
    },
    "papermill": {
     "duration": 0.984943,
     "end_time": "2023-06-25T23:43:26.892187",
     "exception": false,
     "start_time": "2023-06-25T23:43:25.907244",
     "status": "completed"
    },
    "tags": []
   },
   "outputs": [
    {
     "name": "stdout",
     "output_type": "stream",
     "text": [
      "2.0406081012141617\n"
     ]
    }
   ],
   "source": [
    "ginit=speed(initX,state_array[:,1],state_array[:,2])\n",
    "println(update_dt(initX,state_array[:,1],state_array[:,2],dx,ginit)/dt)"
   ]
  },
  {
   "cell_type": "code",
   "execution_count": 35,
   "id": "6a7e1787",
   "metadata": {
    "execution": {
     "iopub.execute_input": "2023-06-26T00:43:26.923000Z",
     "iopub.status.busy": "2023-06-26T00:43:26.923000Z",
     "iopub.status.idle": "2023-06-26T00:43:26.992000Z",
     "shell.execute_reply": "2023-06-26T00:43:26.992000Z"
    },
    "papermill": {
     "duration": 0.08784,
     "end_time": "2023-06-25T23:43:26.997291",
     "exception": false,
     "start_time": "2023-06-25T23:43:26.909451",
     "status": "completed"
    },
    "tags": []
   },
   "outputs": [
    {
     "data": {
      "text/plain": [
       "4"
      ]
     },
     "execution_count": 35,
     "metadata": {},
     "output_type": "execute_result"
    }
   ],
   "source": [
    "using Base.Threads\n",
    "Threads.nthreads()"
   ]
  },
  {
   "cell_type": "code",
   "execution_count": 37,
   "id": "2e2ddf23",
   "metadata": {},
   "outputs": [
    {
     "data": {
      "text/plain": [
       "0.005"
      ]
     },
     "execution_count": 37,
     "metadata": {},
     "output_type": "execute_result"
    }
   ],
   "source": [
    "dt"
   ]
  },
  {
   "cell_type": "markdown",
   "id": "42e2c73d",
   "metadata": {
    "papermill": {
     "duration": 0.018669,
     "end_time": "2023-06-25T23:43:27.033041",
     "exception": false,
     "start_time": "2023-06-25T23:43:27.014372",
     "status": "completed"
    },
    "tags": []
   },
   "source": [
    " ## Time evolution"
   ]
  },
  {
   "cell_type": "markdown",
   "id": "7da47594",
   "metadata": {
    "papermill": {
     "duration": 0.01267,
     "end_time": "2023-06-25T23:43:27.253249",
     "exception": false,
     "start_time": "2023-06-25T23:43:27.240579",
     "status": "completed"
    },
    "tags": []
   },
   "source": [
    "fixed grid"
   ]
  },
  {
   "cell_type": "code",
   "execution_count": 36,
   "id": "fcb7ae3f",
   "metadata": {
    "execution": {
     "iopub.execute_input": "2023-06-26T00:43:27.280000Z",
     "iopub.status.busy": "2023-06-26T00:43:27.279000Z",
     "iopub.status.idle": "2023-06-26T01:23:38.457000Z",
     "shell.execute_reply": "2023-06-26T01:23:38.457000Z"
    },
    "papermill": {
     "duration": 2411.197201,
     "end_time": "2023-06-26T00:23:38.463773",
     "exception": false,
     "start_time": "2023-06-25T23:43:27.266572",
     "status": "completed"
    },
    "tags": []
   },
   "outputs": [
    {
     "name": "stdout",
     "output_type": "stream",
     "text": [
      "\n",
      "\n",
      "iteration 10 dt is 0.005, t=0.049999999999999996 speed is 0.4900500000000121, dx/dt=2.0\n",
      "\n",
      "\n",
      "iteration 20 dt is 0.005, t=0.10000000000000002 speed is 0.4900500000002425, dx/dt=2.0\n",
      "\n",
      "\n",
      "iteration 30 dt is 0.005, t=0.15000000000000005 speed is 0.4900500000025029, dx/dt=2.0\n",
      "\n",
      "\n",
      "iteration 40 dt is 0.005, t=0.2000000000000001 speed is 0.4900500000191322, dx/dt=2.0\n",
      "\n",
      "\n",
      "iteration 50 dt is 0.005, t=0.2500000000000001 speed is 0.49005000012189287, dx/dt=2.0\n",
      "\n",
      "\n",
      "iteration 60 dt is 0.005, t=0.30000000000000016 speed is 0.4900500006815501, dx/dt=2.0\n",
      "\n",
      "\n",
      "iteration 70 dt is 0.005, t=0.3500000000000002 speed is 0.4900500034268669, dx/dt=2.0\n",
      "\n",
      "\n",
      "iteration 80 dt is 0.005, t=0.40000000000000024 speed is 0.49005001564343337, dx/dt=2.0\n",
      "\n",
      "\n",
      "iteration 90 dt is 0.005, t=0.4500000000000003 speed is 0.49005006479078067, dx/dt=2.0\n",
      "\n",
      "\n",
      "iteration 100 dt is 0.005, t=0.5000000000000003 speed is 0.4900502410931814, dx/dt=2.0\n",
      "\n",
      "\n",
      "iteration 110 dt is 0.005, t=0.5500000000000004 speed is 0.4900507898986091, dx/dt=2.0\n",
      "\n",
      "\n",
      "iteration 120 dt is 0.005, t=0.6000000000000004 speed is 0.490052200285712, dx/dt=2.0\n",
      "\n",
      "\n",
      "iteration 130 dt is 0.005, t=0.6500000000000005 speed is 0.490054902706997, dx/dt=2.0\n",
      "\n",
      "\n",
      "iteration 140 dt is 0.005, t=0.7000000000000005 speed is 0.49005775122329204, dx/dt=2.0\n",
      "\n",
      "\n",
      "iteration 150 dt is 0.005, t=0.7500000000000006 speed is 0.4900563251269075, dx/dt=2.0\n",
      "\n",
      "\n",
      "iteration 160 dt is 0.005, t=0.8000000000000006 speed is 0.49005027002303775, dx/dt=2.0\n",
      "\n",
      "\n",
      "iteration 170 dt is 0.005, t=0.8500000000000006 speed is 0.4900654756189179, dx/dt=2.0\n",
      "\n",
      "\n",
      "iteration 180 dt is 0.005, t=0.9000000000000007 speed is 0.490132334648329, dx/dt=2.0\n",
      "\n",
      "\n",
      "iteration 190 dt is 0.005, t=0.9500000000000007 speed is 0.4901729054031355, dx/dt=2.0\n",
      "\n",
      "\n",
      "iteration 200 dt is 0.005, t=1.0000000000000007 speed is 0.4900879173154941, dx/dt=2.0\n",
      "\n",
      "\n",
      "iteration 210 dt is 0.005, t=1.0499999999999996 speed is 0.4900614537298185, dx/dt=2.0\n",
      "\n",
      "\n",
      "iteration 220 dt is 0.005, t=1.0999999999999985 speed is 0.4901230942923029, dx/dt=2.0\n",
      "\n",
      "\n",
      "iteration 230 dt is 0.005, t=1.1499999999999975 speed is 0.4900837365331502, dx/dt=2.0\n",
      "\n",
      "\n",
      "iteration 240 dt is 0.005, t=1.1999999999999964 speed is 0.49005155904543063, dx/dt=2.0\n",
      "\n",
      "\n",
      "iteration 250 dt is 0.005, t=1.2499999999999953 speed is 0.4900500052859844, dx/dt=2.0\n",
      "\n",
      "\n",
      "iteration 260 dt is 0.005, t=1.2999999999999943 speed is 0.49005000986443636, dx/dt=2.0\n",
      "\n",
      "\n",
      "iteration 270 dt is 0.005, t=1.3499999999999932 speed is 0.49005000005049165, dx/dt=2.0\n",
      "\n",
      "\n",
      "iteration 280 dt is 0.005, t=1.3999999999999921 speed is 0.4900500003427047, dx/dt=2.0\n",
      "\n",
      "\n",
      "iteration 290 dt is 0.005, t=1.449999999999991 speed is 0.4900500001027355, dx/dt=2.0\n",
      "\n",
      "\n",
      "iteration 300 dt is 0.005, t=1.49999999999999 speed is 0.4900500000740353, dx/dt=2.0\n",
      "\n",
      "\n",
      "iteration 310 dt is 0.005, t=1.549999999999989 speed is 0.49005000000215887, dx/dt=2.0\n",
      "\n",
      "\n",
      "iteration 320 dt is 0.005, t=1.5999999999999879 speed is 0.4900500000021166, dx/dt=2.0\n",
      "\n",
      "\n",
      "iteration 330 dt is 0.005, t=1.6499999999999868 speed is 0.49005000000067145, dx/dt=2.0\n",
      "\n",
      "\n",
      "iteration 340 dt is 0.005, t=1.6999999999999857 speed is 0.4900500000000041, dx/dt=2.0\n",
      "\n",
      "\n",
      "iteration 350 dt is 0.005, t=1.7499999999999847 speed is 0.49005000000044213, dx/dt=2.0\n",
      "\n",
      "\n",
      "iteration 360 dt is 0.005, t=1.7999999999999836 speed is 0.49005000000000026, dx/dt=2.0\n",
      "\n",
      "\n",
      "iteration 370 dt is 0.005, t=1.8499999999999825 speed is 0.49005000000010707, dx/dt=2.0\n",
      "\n",
      "\n",
      "iteration 380 dt is 0.005, t=1.8999999999999815 speed is 0.49005000000000204, dx/dt=2.0\n",
      "\n",
      "\n",
      "iteration 390 dt is 0.005, t=1.9499999999999804 speed is 0.4900500000000213, dx/dt=2.0\n",
      "\n",
      "\n",
      "iteration 400 dt is 0.005, t=1.9999999999999793 speed is 0.4900500000000024, dx/dt=2.0\n"
     ]
    }
   ],
   "source": [
    "finaltime=2.0#1.3#2.0#1.3#1.6#2#1.3#0.08*2#0.005*10*5#1#0.9#0.8#0.04*5*4#length(T)-1\n",
    "evol_stats, T_interp = timeevolution(state_array,finaltime,run);#timeevolution(state_array,finaltime,dir*\"/res$res\",run,auxstate_array);\n",
    "#CSV.write(dir*\"/timearray$res.csv\", Tables.table(T_interp), writeheader=false);"
   ]
  },
  {
   "cell_type": "code",
   "execution_count": null,
   "id": "34192588",
   "metadata": {
    "papermill": {
     "duration": 0.007834,
     "end_time": "2023-06-26T00:23:38.486931",
     "exception": false,
     "start_time": "2023-06-26T00:23:38.479097",
     "status": "completed"
    },
    "tags": []
   },
   "outputs": [],
   "source": []
  },
  {
   "cell_type": "code",
   "execution_count": null,
   "id": "e5bac15d",
   "metadata": {
    "papermill": {
     "duration": 0.007993,
     "end_time": "2023-06-26T00:23:38.502852",
     "exception": false,
     "start_time": "2023-06-26T00:23:38.494859",
     "status": "completed"
    },
    "tags": []
   },
   "outputs": [],
   "source": []
  },
  {
   "cell_type": "markdown",
   "id": "715897d3",
   "metadata": {
    "papermill": {
     "duration": 0.012003,
     "end_time": "2023-06-26T00:23:38.523601",
     "exception": false,
     "start_time": "2023-06-26T00:23:38.511598",
     "status": "completed"
    },
    "tags": []
   },
   "source": [
    " ## Movie of the evolution"
   ]
  },
  {
   "cell_type": "code",
   "execution_count": 19,
   "id": "973cea47",
   "metadata": {
    "execution": {
     "iopub.execute_input": "2023-06-26T01:23:38.542000Z",
     "iopub.status.busy": "2023-06-26T01:23:38.542000Z",
     "iopub.status.idle": "2023-06-26T01:23:47.832000Z",
     "shell.execute_reply": "2023-06-26T01:23:47.832000Z"
    },
    "papermill": {
     "duration": 9.304365,
     "end_time": "2023-06-26T00:23:47.837017",
     "exception": true,
     "start_time": "2023-06-26T00:23:38.532652",
     "status": "failed"
    },
    "tags": []
   },
   "outputs": [
    {
     "ename": "LoadError",
     "evalue": "ArgumentError: \"/home/rita13santos/Desktop/MSc Thesis/Git/ScalarField/DATA/res1/time_step0.csv\" is not a valid file or doesn't exist",
     "output_type": "error",
     "traceback": [
      "ArgumentError: \"/home/rita13santos/Desktop/MSc Thesis/Git/ScalarField/DATA/res1/time_step0.csv\" is not a valid file or doesn't exist",
      "",
      "Stacktrace:",
      " [1] CSV.Context(source::CSV.Arg, header::CSV.Arg, normalizenames::CSV.Arg, datarow::CSV.Arg, skipto::CSV.Arg, footerskip::CSV.Arg, transpose::CSV.Arg, comment::CSV.Arg, ignoreemptyrows::CSV.Arg, ignoreemptylines::CSV.Arg, select::CSV.Arg, drop::CSV.Arg, limit::CSV.Arg, buffer_in_memory::CSV.Arg, threaded::CSV.Arg, ntasks::CSV.Arg, tasks::CSV.Arg, rows_to_check::CSV.Arg, lines_to_check::CSV.Arg, missingstrings::CSV.Arg, missingstring::CSV.Arg, delim::CSV.Arg, ignorerepeated::CSV.Arg, quoted::CSV.Arg, quotechar::CSV.Arg, openquotechar::CSV.Arg, closequotechar::CSV.Arg, escapechar::CSV.Arg, dateformat::CSV.Arg, dateformats::CSV.Arg, decimal::CSV.Arg, truestrings::CSV.Arg, falsestrings::CSV.Arg, stripwhitespace::CSV.Arg, type::CSV.Arg, types::CSV.Arg, typemap::CSV.Arg, pool::CSV.Arg, downcast::CSV.Arg, lazystrings::CSV.Arg, stringtype::CSV.Arg, strict::CSV.Arg, silencewarnings::CSV.Arg, maxwarnings::CSV.Arg, debug::CSV.Arg, parsingdebug::CSV.Arg, validate::CSV.Arg, streaming::CSV.Arg)",
      "   @ CSV ~/.julia/packages/CSV/b8ebJ/src/context.jl:306",
      " [2] #File#28",
      "   @ ~/.julia/packages/CSV/b8ebJ/src/file.jl:221 [inlined]",
      " [3] macro expansion",
      "   @ ./In[19]:8 [inlined]",
      " [4] top-level scope",
      "   @ ~/.julia/packages/Plots/bMtsB/src/animation.jl:251"
     ]
    }
   ],
   "source": [
    "using Plots, CSV, DataFrames\n",
    "import GR\n",
    "anim = @animate for n in 0:100:3800#870\n",
    "    \n",
    "    \n",
    "    IJulia.clear_output(true)\n",
    "    \n",
    "    functions3=DataFrame(CSV.File(dir*\"/res$res/time_step$n.csv\",header=false, delim=\",\"))\n",
    "    \n",
    "    #functions3=DataFrame(CSV.File(\"/home/rita13santos/Desktop/MSc Thesis/Git/ScalarField/DATA/bisectionsearch/run1\"*\"/time_step$n.csv\",header=false, delim=\",\"))\n",
    "    plot()\n",
    "        plot1=functions3.Column1[4:L-3];\n",
    "        plot2=functions3.Column2[4:L-3];\n",
    "        plot3=functions3.Column3[4:L-3];\n",
    "        plot4=functions3.Column4[4:L-3];\n",
    "        plot5=functions3.Column5[4:L-3];\n",
    "    temp=round(n*dt,digits=2)\n",
    "    plot!(initX1, [plot1 plot2 plot3 plot4], labels=[\"m\" \"beta\" \"psi\" \"psi,x\"], title=\"$temp\", ylim=[-0.01, 0.01],xlim=[0, 1])#, xlim=[0, 0.1])# |> display \n",
    "    #plot!(initX[4:L-3], [plot1], labels=[\"m\" \"beta\" \"psi\" \"psi,x\"],ylim=[-1,1])#, xlim=[0, 0.1]) |> display \n",
    "    \n",
    "    end\n",
    "\n",
    "gif(anim, \"anim_res$res.gif\", fps = 10)"
   ]
  },
  {
   "cell_type": "code",
   "execution_count": null,
   "id": "2f4d41cf",
   "metadata": {
    "papermill": {
     "duration": null,
     "end_time": null,
     "exception": null,
     "start_time": null,
     "status": "pending"
    },
    "tags": []
   },
   "outputs": [],
   "source": []
  },
  {
   "cell_type": "code",
   "execution_count": null,
   "id": "c6b8b7bc",
   "metadata": {
    "papermill": {
     "duration": null,
     "end_time": null,
     "exception": null,
     "start_time": null,
     "status": "pending"
    },
    "tags": []
   },
   "outputs": [],
   "source": [
    "using Plots, CSV, DataFrames\n",
    "import GR\n",
    "anim = @animate for n in 10:10:1000#length(T)-1\n",
    "    \n",
    "    IJulia.clear_output(true)\n",
    "    \n",
    "    functions3=DataFrame(CSV.File(dir*\"/res$res/monitor_ratio$n.csv\",header=false, delim=\",\"))\n",
    "    plot()\n",
    "        plot1=functions3.Column1[4:L-3];\n",
    "    \n",
    "    plot!(initX1, [plot1], labels=[\"monitor ratio\"], ylim=[0, 1])# |> display \n",
    "    #plot!(initX[4:L-3], [plot1], labels=[\"m\" \"beta\" \"psi\" \"psi,x\"],ylim=[-1,1])#, xlim=[0, 0.1]) |> display \n",
    "    \n",
    "    end\n",
    "\n",
    "gif(anim, \"anim_res$res.gif\", fps = 5)"
   ]
  },
  {
   "cell_type": "code",
   "execution_count": null,
   "id": "baafffa1",
   "metadata": {
    "papermill": {
     "duration": null,
     "end_time": null,
     "exception": null,
     "start_time": null,
     "status": "pending"
    },
    "tags": []
   },
   "outputs": [],
   "source": []
  },
  {
   "cell_type": "markdown",
   "id": "178a4797",
   "metadata": {
    "papermill": {
     "duration": null,
     "end_time": null,
     "exception": null,
     "start_time": null,
     "status": "pending"
    },
    "tags": []
   },
   "source": [
    "# New test"
   ]
  },
  {
   "cell_type": "code",
   "execution_count": 266,
   "id": "3ec9634d",
   "metadata": {
    "papermill": {
     "duration": null,
     "end_time": null,
     "exception": null,
     "start_time": null,
     "status": "pending"
    },
    "tags": []
   },
   "outputs": [],
   "source": [
    "include(\"./ScalarField.jl\");\n",
    "\n",
    "function ff(x)\n",
    "\n",
    "    return x^2\n",
    "\n",
    "end\n",
    "function gridd(x)\n",
    "\n",
    "    #return(1/2+1/2*cos(pi*(1-0.9*x)))\n",
    "    return(1/2 .+ 1/2 .* cos.(pi .* (1 .- x)))\n",
    "\n",
    "end;"
   ]
  },
  {
   "cell_type": "code",
   "execution_count": 267,
   "id": "640a2dd2",
   "metadata": {
    "papermill": {
     "duration": null,
     "end_time": null,
     "exception": null,
     "start_time": null,
     "status": "pending"
    },
    "tags": []
   },
   "outputs": [],
   "source": [
    "res=1\n",
    "\n",
    "dx=0.01\n",
    "\n",
    "x=range(-3*dx,1+3*dx,step=dx)\n",
    "\n",
    "y=ff.(x);"
   ]
  },
  {
   "cell_type": "code",
   "execution_count": 268,
   "id": "01dcc993",
   "metadata": {
    "papermill": {
     "duration": null,
     "end_time": null,
     "exception": null,
     "start_time": null,
     "status": "pending"
    },
    "tags": []
   },
   "outputs": [
    {
     "name": "stdout",
     "output_type": "stream",
     "text": [
      "[-5.421010862427522e-18, 0.02, 0.04, 0.05999999999999999, 0.08000000000000002, 0.10000000000000005, 0.1199999999999999, 0.1400000000000001, 0.16000000000000003, 0.1799999999999999, 0.2000000000000001, 0.22, 0.2399999999999999, 0.25999999999999995, 0.2800000000000004, 0.29999999999999966, 0.32000000000000006, 0.34000000000000047, 0.35999999999999943, 0.3800000000000001, 0.4000000000000004, 0.41999999999999915, 0.44000000000000006, 0.46000000000000085, 0.4799999999999994, 0.5, 0.5199999999999999, 0.5399999999999997, 0.560000000000002, 0.5799999999999987, 0.6, 0.6199999999999999, 0.6399999999999997, 0.6600000000000003, 0.6800000000000018, 0.699999999999998, 0.7199999999999999, 0.7399999999999998, 0.7600000000000002, 0.7800000000000008, 0.8000000000000017, 0.8199999999999964, 0.8399999999999997, 0.8600000000000003, 0.8800000000000008, 0.9, 0.9200000000000029, 0.9399999999999983, 0.9599999999999989, 0.9799999999999994, 1.0, 1.0200000000000005, 1.0400000000000011, 1.059999999999999, 1.0799999999999994, 1.1, 1.1200000000000074, 1.1399999999999955, 1.1599999999999988, 1.1799999999999995, 1.2, 1.2200000000000006, 1.240000000000001, 1.259999999999999, 1.2799999999999994, 1.3, 1.3200000000000005, 1.3400000000000012, 1.3600000000000056, 1.379999999999991, 1.4000000000000028, 1.4200000000000006, 1.4399999999999955, 1.4599999999999989, 1.4800000000000022, 1.5, 1.5199999999999978, 1.5400000000000011, 1.5600000000000045, 1.5800000000000023, 1.6, 1.6200000000000048, 1.63999999999999, 1.6599999999999988, 1.6799999999999966, 1.7, 1.7200000000000033, 1.740000000000001, 1.759999999999999, 1.7800000000000022, 1.8, 1.8199999999999978, 1.8400000000000012, 1.860000000000014, 1.879999999999991, 1.9, 1.9199999999999977, 1.9399999999999955, 1.9599999999999989, 1.9800000000000022, 2.0]\n"
     ]
    },
    {
     "data": {
      "text/plain": [
       "107×2 Matrix{Float64}:\n",
       " 0.0009       0.0\n",
       " 0.0004       0.0\n",
       " 0.0001       0.0\n",
       " 0.0          0.0\n",
       " 6.08707e-8   0.0\n",
       " 9.7345e-7    0.0\n",
       " 4.92404e-6   0.0\n",
       " 1.55445e-5   0.0\n",
       " 3.78942e-5   0.0\n",
       " 7.84354e-5   0.0\n",
       " 0.000145001  0.0\n",
       " 0.000246754  0.0\n",
       " 0.000394148  0.0\n",
       " ⋮            \n",
       " 0.96883      0.0\n",
       " 0.976062     0.0\n",
       " 0.982366     0.0\n",
       " 0.987726     0.0\n",
       " 0.99213      0.0\n",
       " 0.995567     0.0\n",
       " 0.998028     0.0\n",
       " 0.999507     0.0\n",
       " 1.0          0.0\n",
       " 1.0201       0.0\n",
       " 1.0404       0.0\n",
       " 1.0609       0.0"
      ]
     },
     "execution_count": 268,
     "metadata": {},
     "output_type": "execute_result"
    }
   ],
   "source": [
    "L=length(x)\n",
    "aux=zeros(L)\n",
    "\n",
    "\n",
    "for i in 4:L-3\n",
    "\n",
    "    aux[i]=Dertest(y,i,x)\n",
    "\n",
    "end\n",
    "\n",
    "println(aux[4:L-3]);\n",
    "xnew=collect(x)\n",
    "xnew[4:L-3]=gridd(x[4:L-3])\n",
    "\n",
    "#ynew=ff.(xnew);\n",
    "ynew=[ff.(xnew) zeros(L)]"
   ]
  },
  {
   "cell_type": "code",
   "execution_count": 269,
   "id": "85a26205",
   "metadata": {
    "papermill": {
     "duration": null,
     "end_time": null,
     "exception": null,
     "start_time": null,
     "status": "pending"
    },
    "tags": []
   },
   "outputs": [
    {
     "name": "stdout",
     "output_type": "stream",
     "text": [
      " \n",
      "[1.015648370447264e-16, 0.0005482301902749086, 0.001973271571728468, 0.0044380353969199916, 0.007885298685522223, 0.012311659404862337, 0.017712749271311282, 0.02408323806125268, 0.03141683887136893, 0.03970631432305701, 0.04894348370484647, 0.05911923104577456, 0.07022351411174863, 0.08224537431601885, 0.09517294753398073, 0.10899347581163228, 0.12369331995613629, 0.1392579729960566, 0.15567207449798479, 0.1729194257254383, 0.19098300562505244, 0.2098449876243095, 0.22948675722421108, 0.2498889303695403, 0.2710313725785885, 0.29289321881345254, 0.31545289407131144, 0.33868813467634734, 0.3625760102513108, 0.38709294634702446, 0.41221474770752714, 0.43791662214787025, 0.46417320502100506, 0.49095858424962846, 0.5182463258982851, 0.5460095002604536, 0.574220708434928, 0.6028521093652197, 0.6318754473153203, 0.6612620797547106, 0.6909830056250531, 0.7210088939607736, 0.7513101128351458, 0.7818567586034563, 0.8126186854142732, 0.8435655349597684, 0.8746667664356949, 0.9058916866814866, 0.9372094804706849, 0.9685892409218728, 0.9999999999999986, 1.0314107590781274, 1.0627905195293108, 1.0941083133185165, 1.1253332335643091, 1.1564344650402298, 1.1873813145857235, 1.2181432413965423, 1.2486898871648568, 1.278991106039232, 1.3090169943749435, 1.3387379202452931, 1.3681245526846817, 1.3971478906347758, 1.4257792915650718, 1.4539904997395396, 1.4817536741017134, 1.5090414157503693, 1.535826794978986, 1.562083377852123, 1.5877852522924734, 1.6129070536529668, 1.637423989748694, 1.6613118653236332, 1.6845471059287018, 1.7071067811865388, 1.7289686274214036, 1.750111069630457, 1.7705132427758015, 1.7901550123756864, 1.8090169943749432, 1.8270805742745724, 1.844327925502048, 1.8607420270039638, 1.8763066800438526, 1.8910065241884046, 1.904827052466015, 1.9177546256839986, 1.9297764858882467, 1.9408807689541965, 1.9510565162951485, 1.960293685676926, 1.968583161128644, 1.9759167619387785, 1.9822872507287672, 1.9876883405951633, 1.992114701314529, 1.9955619646033442, 1.9980267284294662, 1.9995065603656839, 2.0000000000015]\n",
      " \n",
      "[0.0, 0.0004934396342684, 0.001973271571728441, 0.004438035396920004, 0.007885298685522235, 0.01231165940486234, 0.01771274927131128, 0.024083238061252676, 0.031416838871368924, 0.039706314323057046, 0.04894348370484647, 0.059119231045774545, 0.07022351411174865, 0.08224537431601886, 0.09517294753398065, 0.10899347581163221, 0.12369331995613642, 0.13925797299605647, 0.15567207449798492, 0.17291942572543828, 0.19098300562505266, 0.2098449876243096, 0.22948675722421086, 0.24988893036954052, 0.27103137257858867, 0.29289321881345254, 0.3154528940713113, 0.3386881346763483, 0.36257601025131025, 0.38709294634702374, 0.412214747707527, 0.4379166221478693, 0.46417320502100357, 0.4909585842496287, 0.518246325898285, 0.5460095002604533, 0.5742207084349273, 0.6028521093652195, 0.6318754473153223, 0.6612620797547089, 0.6909830056250524, 0.7210088939607706, 0.7513101128351451, 0.7818567586034575, 0.8126186854142754, 0.8435655349597692, 0.8746667664356956, 0.9058916866814857, 0.9372094804706866, 0.9685892409218717, 1.0, 1.031410759078128, 1.0627905195293132, 1.0941083133185143, 1.1253332335643043, 1.156434465040231, 1.1873813145857248, 1.2181432413965425, 1.2486898871648546, 1.2789911060392294, 1.3090169943749475, 1.3387379202452916, 1.368124552684678, 1.3971478906347805, 1.4257792915650727, 1.4539904997395467, 1.4817536741017154, 1.5090414157503713, 1.5358267949789968, 1.5620833778521306, 1.587785252292473, 1.6129070536529766, 1.6374239897486897, 1.661311865323652, 1.6845471059286887, 1.7071067811865475, 1.7289686274214116, 1.7501110696304596, 1.7705132427757895, 1.7901550123756904, 1.8090169943749475, 1.8270805742745617, 1.8443279255020149, 1.8607420270039436, 1.8763066800438635, 1.891006524188368, 1.9048270524660196, 1.917754625683981, 1.9297764858882513, 1.9408807689542256, 1.9510565162951536, 1.960293685676943, 1.968583161128631, 1.9759167619387474, 1.9822872507286888, 1.9876883405951378, 1.992114701314478, 1.99556196460308, 1.9980267284282716, 1.9995065603657316, 2.0]\n"
     ]
    }
   ],
   "source": [
    "spl=Spline1D(xnew[4:L-3],ynew[4:L-3],k=4)\n",
    "spl=[spl spl]\n",
    "auxnew=zeros(L);\n",
    "k=1\n",
    "\n",
    "for i in 4:L-3\n",
    "    auxnew[i]=unevenDer(ynew,i,k,xnew,spl)\n",
    "end\n",
    "\n",
    "println(\" \")\n",
    "println(auxnew[4:L-3])\n",
    "println(\" \")\n",
    "println(2 .* xnew[4:L-3])"
   ]
  },
  {
   "cell_type": "code",
   "execution_count": 270,
   "id": "ec129a6b",
   "metadata": {},
   "outputs": [
    {
     "data": {
      "text/plain": [
       "104"
      ]
     },
     "execution_count": 270,
     "metadata": {},
     "output_type": "execute_result"
    }
   ],
   "source": [
    "L-3"
   ]
  },
  {
   "cell_type": "code",
   "execution_count": null,
   "id": "930ad652",
   "metadata": {},
   "outputs": [],
   "source": []
  },
  {
   "cell_type": "code",
   "execution_count": 272,
   "id": "6e2c9f0d",
   "metadata": {
    "papermill": {
     "duration": null,
     "end_time": null,
     "exception": null,
     "start_time": null,
     "status": "pending"
    },
    "tags": []
   },
   "outputs": [
    {
     "data": {
      "image/svg+xml": [
       "<?xml version=\"1.0\" encoding=\"utf-8\"?>\n",
       "<svg xmlns=\"http://www.w3.org/2000/svg\" xmlns:xlink=\"http://www.w3.org/1999/xlink\" width=\"600\" height=\"400\" viewBox=\"0 0 2400 1600\">\n",
       "<defs>\n",
       "  <clipPath id=\"clip050\">\n",
       "    <rect x=\"0\" y=\"0\" width=\"2400\" height=\"1600\"/>\n",
       "  </clipPath>\n",
       "</defs>\n",
       "<path clip-path=\"url(#clip050)\" d=\"M0 1600 L2400 1600 L2400 0 L0 0  Z\" fill=\"#ffffff\" fill-rule=\"evenodd\" fill-opacity=\"1\"/>\n",
       "<defs>\n",
       "  <clipPath id=\"clip051\">\n",
       "    <rect x=\"480\" y=\"0\" width=\"1681\" height=\"1600\"/>\n",
       "  </clipPath>\n",
       "</defs>\n",
       "<path clip-path=\"url(#clip050)\" d=\"M156.112 1486.45 L2352.76 1486.45 L2352.76 47.2441 L156.112 47.2441  Z\" fill=\"#ffffff\" fill-rule=\"evenodd\" fill-opacity=\"1\"/>\n",
       "<defs>\n",
       "  <clipPath id=\"clip052\">\n",
       "    <rect x=\"156\" y=\"47\" width=\"2198\" height=\"1440\"/>\n",
       "  </clipPath>\n",
       "</defs>\n",
       "<polyline clip-path=\"url(#clip052)\" style=\"stroke:#000000; stroke-linecap:round; stroke-linejoin:round; stroke-width:2; stroke-opacity:0.1; fill:none\" points=\"156.112,1486.45 156.112,47.2441 \"/>\n",
       "<polyline clip-path=\"url(#clip052)\" style=\"stroke:#000000; stroke-linecap:round; stroke-linejoin:round; stroke-width:2; stroke-opacity:0.1; fill:none\" points=\"595.441,1486.45 595.441,47.2441 \"/>\n",
       "<polyline clip-path=\"url(#clip052)\" style=\"stroke:#000000; stroke-linecap:round; stroke-linejoin:round; stroke-width:2; stroke-opacity:0.1; fill:none\" points=\"1034.77,1486.45 1034.77,47.2441 \"/>\n",
       "<polyline clip-path=\"url(#clip052)\" style=\"stroke:#000000; stroke-linecap:round; stroke-linejoin:round; stroke-width:2; stroke-opacity:0.1; fill:none\" points=\"1474.1,1486.45 1474.1,47.2441 \"/>\n",
       "<polyline clip-path=\"url(#clip052)\" style=\"stroke:#000000; stroke-linecap:round; stroke-linejoin:round; stroke-width:2; stroke-opacity:0.1; fill:none\" points=\"1913.43,1486.45 1913.43,47.2441 \"/>\n",
       "<polyline clip-path=\"url(#clip050)\" style=\"stroke:#000000; stroke-linecap:round; stroke-linejoin:round; stroke-width:4; stroke-opacity:1; fill:none\" points=\"156.112,1486.45 2352.76,1486.45 \"/>\n",
       "<polyline clip-path=\"url(#clip050)\" style=\"stroke:#000000; stroke-linecap:round; stroke-linejoin:round; stroke-width:4; stroke-opacity:1; fill:none\" points=\"156.112,1486.45 156.112,1467.55 \"/>\n",
       "<polyline clip-path=\"url(#clip050)\" style=\"stroke:#000000; stroke-linecap:round; stroke-linejoin:round; stroke-width:4; stroke-opacity:1; fill:none\" points=\"595.441,1486.45 595.441,1467.55 \"/>\n",
       "<polyline clip-path=\"url(#clip050)\" style=\"stroke:#000000; stroke-linecap:round; stroke-linejoin:round; stroke-width:4; stroke-opacity:1; fill:none\" points=\"1034.77,1486.45 1034.77,1467.55 \"/>\n",
       "<polyline clip-path=\"url(#clip050)\" style=\"stroke:#000000; stroke-linecap:round; stroke-linejoin:round; stroke-width:4; stroke-opacity:1; fill:none\" points=\"1474.1,1486.45 1474.1,1467.55 \"/>\n",
       "<polyline clip-path=\"url(#clip050)\" style=\"stroke:#000000; stroke-linecap:round; stroke-linejoin:round; stroke-width:4; stroke-opacity:1; fill:none\" points=\"1913.43,1486.45 1913.43,1467.55 \"/>\n",
       "<path clip-path=\"url(#clip050)\" d=\"M118.416 1517.37 Q114.804 1517.37 112.976 1520.93 Q111.17 1524.47 111.17 1531.6 Q111.17 1538.71 112.976 1542.27 Q114.804 1545.82 118.416 1545.82 Q122.05 1545.82 123.855 1542.27 Q125.684 1538.71 125.684 1531.6 Q125.684 1524.47 123.855 1520.93 Q122.05 1517.37 118.416 1517.37 M118.416 1513.66 Q124.226 1513.66 127.281 1518.27 Q130.36 1522.85 130.36 1531.6 Q130.36 1540.33 127.281 1544.94 Q124.226 1549.52 118.416 1549.52 Q112.605 1549.52 109.527 1544.94 Q106.471 1540.33 106.471 1531.6 Q106.471 1522.85 109.527 1518.27 Q112.605 1513.66 118.416 1513.66 Z\" fill=\"#000000\" fill-rule=\"evenodd\" fill-opacity=\"1\" /><path clip-path=\"url(#clip050)\" d=\"M138.577 1542.97 L143.462 1542.97 L143.462 1548.85 L138.577 1548.85 L138.577 1542.97 Z\" fill=\"#000000\" fill-rule=\"evenodd\" fill-opacity=\"1\" /><path clip-path=\"url(#clip050)\" d=\"M153.786 1548.13 L153.786 1543.87 Q155.545 1544.7 157.351 1545.14 Q159.156 1545.58 160.892 1545.58 Q165.522 1545.58 167.952 1542.48 Q170.406 1539.36 170.753 1533.01 Q169.411 1535.01 167.35 1536.07 Q165.29 1537.13 162.79 1537.13 Q157.605 1537.13 154.573 1534.01 Q151.564 1530.86 151.564 1525.42 Q151.564 1520.1 154.712 1516.88 Q157.86 1513.66 163.091 1513.66 Q169.087 1513.66 172.235 1518.27 Q175.406 1522.85 175.406 1531.6 Q175.406 1539.77 171.517 1544.66 Q167.651 1549.52 161.101 1549.52 Q159.341 1549.52 157.536 1549.17 Q155.73 1548.82 153.786 1548.13 M163.091 1533.48 Q166.239 1533.48 168.068 1531.32 Q169.92 1529.17 169.92 1525.42 Q169.92 1521.7 168.068 1519.54 Q166.239 1517.37 163.091 1517.37 Q159.943 1517.37 158.091 1519.54 Q156.263 1521.7 156.263 1525.42 Q156.263 1529.17 158.091 1531.32 Q159.943 1533.48 163.091 1533.48 Z\" fill=\"#000000\" fill-rule=\"evenodd\" fill-opacity=\"1\" /><path clip-path=\"url(#clip050)\" d=\"M193.809 1517.37 Q190.198 1517.37 188.369 1520.93 Q186.563 1524.47 186.563 1531.6 Q186.563 1538.71 188.369 1542.27 Q190.198 1545.82 193.809 1545.82 Q197.443 1545.82 199.248 1542.27 Q201.077 1538.71 201.077 1531.6 Q201.077 1524.47 199.248 1520.93 Q197.443 1517.37 193.809 1517.37 M193.809 1513.66 Q199.619 1513.66 202.674 1518.27 Q205.753 1522.85 205.753 1531.6 Q205.753 1540.33 202.674 1544.94 Q199.619 1549.52 193.809 1549.52 Q187.999 1549.52 184.92 1544.94 Q181.864 1540.33 181.864 1531.6 Q181.864 1522.85 184.92 1518.27 Q187.999 1513.66 193.809 1513.66 Z\" fill=\"#000000\" fill-rule=\"evenodd\" fill-opacity=\"1\" /><path clip-path=\"url(#clip050)\" d=\"M558.543 1517.37 Q554.932 1517.37 553.103 1520.93 Q551.298 1524.47 551.298 1531.6 Q551.298 1538.71 553.103 1542.27 Q554.932 1545.82 558.543 1545.82 Q562.177 1545.82 563.983 1542.27 Q565.811 1538.71 565.811 1531.6 Q565.811 1524.47 563.983 1520.93 Q562.177 1517.37 558.543 1517.37 M558.543 1513.66 Q564.353 1513.66 567.409 1518.27 Q570.487 1522.85 570.487 1531.6 Q570.487 1540.33 567.409 1544.94 Q564.353 1549.52 558.543 1549.52 Q552.733 1549.52 549.654 1544.94 Q546.599 1540.33 546.599 1531.6 Q546.599 1522.85 549.654 1518.27 Q552.733 1513.66 558.543 1513.66 Z\" fill=\"#000000\" fill-rule=\"evenodd\" fill-opacity=\"1\" /><path clip-path=\"url(#clip050)\" d=\"M578.705 1542.97 L583.589 1542.97 L583.589 1548.85 L578.705 1548.85 L578.705 1542.97 Z\" fill=\"#000000\" fill-rule=\"evenodd\" fill-opacity=\"1\" /><path clip-path=\"url(#clip050)\" d=\"M593.913 1548.13 L593.913 1543.87 Q595.672 1544.7 597.478 1545.14 Q599.283 1545.58 601.02 1545.58 Q605.649 1545.58 608.08 1542.48 Q610.533 1539.36 610.881 1533.01 Q609.538 1535.01 607.478 1536.07 Q605.418 1537.13 602.918 1537.13 Q597.733 1537.13 594.7 1534.01 Q591.691 1530.86 591.691 1525.42 Q591.691 1520.1 594.839 1516.88 Q597.987 1513.66 603.219 1513.66 Q609.214 1513.66 612.362 1518.27 Q615.533 1522.85 615.533 1531.6 Q615.533 1539.77 611.644 1544.66 Q607.779 1549.52 601.228 1549.52 Q599.469 1549.52 597.663 1549.17 Q595.858 1548.82 593.913 1548.13 M603.219 1533.48 Q606.367 1533.48 608.195 1531.32 Q610.047 1529.17 610.047 1525.42 Q610.047 1521.7 608.195 1519.54 Q606.367 1517.37 603.219 1517.37 Q600.07 1517.37 598.219 1519.54 Q596.39 1521.7 596.39 1525.42 Q596.39 1529.17 598.219 1531.32 Q600.07 1533.48 603.219 1533.48 Z\" fill=\"#000000\" fill-rule=\"evenodd\" fill-opacity=\"1\" /><path clip-path=\"url(#clip050)\" d=\"M627.964 1544.91 L644.283 1544.91 L644.283 1548.85 L622.339 1548.85 L622.339 1544.91 Q625.001 1542.16 629.584 1537.53 Q634.191 1532.88 635.371 1531.53 Q637.617 1529.01 638.496 1527.27 Q639.399 1525.51 639.399 1523.82 Q639.399 1521.07 637.455 1519.33 Q635.533 1517.6 632.431 1517.6 Q630.232 1517.6 627.779 1518.36 Q625.348 1519.13 622.57 1520.68 L622.57 1515.95 Q625.394 1514.82 627.848 1514.24 Q630.302 1513.66 632.339 1513.66 Q637.709 1513.66 640.904 1516.35 Q644.098 1519.03 644.098 1523.52 Q644.098 1525.65 643.288 1527.57 Q642.501 1529.47 640.394 1532.07 Q639.816 1532.74 636.714 1535.95 Q633.612 1539.15 627.964 1544.91 Z\" fill=\"#000000\" fill-rule=\"evenodd\" fill-opacity=\"1\" /><path clip-path=\"url(#clip050)\" d=\"M996.83 1517.37 Q993.219 1517.37 991.39 1520.93 Q989.585 1524.47 989.585 1531.6 Q989.585 1538.71 991.39 1542.27 Q993.219 1545.82 996.83 1545.82 Q1000.46 1545.82 1002.27 1542.27 Q1004.1 1538.71 1004.1 1531.6 Q1004.1 1524.47 1002.27 1520.93 Q1000.46 1517.37 996.83 1517.37 M996.83 1513.66 Q1002.64 1513.66 1005.7 1518.27 Q1008.77 1522.85 1008.77 1531.6 Q1008.77 1540.33 1005.7 1544.94 Q1002.64 1549.52 996.83 1549.52 Q991.02 1549.52 987.941 1544.94 Q984.886 1540.33 984.886 1531.6 Q984.886 1522.85 987.941 1518.27 Q991.02 1513.66 996.83 1513.66 Z\" fill=\"#000000\" fill-rule=\"evenodd\" fill-opacity=\"1\" /><path clip-path=\"url(#clip050)\" d=\"M1016.99 1542.97 L1021.88 1542.97 L1021.88 1548.85 L1016.99 1548.85 L1016.99 1542.97 Z\" fill=\"#000000\" fill-rule=\"evenodd\" fill-opacity=\"1\" /><path clip-path=\"url(#clip050)\" d=\"M1032.2 1548.13 L1032.2 1543.87 Q1033.96 1544.7 1035.77 1545.14 Q1037.57 1545.58 1039.31 1545.58 Q1043.94 1545.58 1046.37 1542.48 Q1048.82 1539.36 1049.17 1533.01 Q1047.83 1535.01 1045.76 1536.07 Q1043.7 1537.13 1041.2 1537.13 Q1036.02 1537.13 1032.99 1534.01 Q1029.98 1530.86 1029.98 1525.42 Q1029.98 1520.1 1033.13 1516.88 Q1036.27 1513.66 1041.51 1513.66 Q1047.5 1513.66 1050.65 1518.27 Q1053.82 1522.85 1053.82 1531.6 Q1053.82 1539.77 1049.93 1544.66 Q1046.07 1549.52 1039.51 1549.52 Q1037.76 1549.52 1035.95 1549.17 Q1034.14 1548.82 1032.2 1548.13 M1041.51 1533.48 Q1044.65 1533.48 1046.48 1531.32 Q1048.33 1529.17 1048.33 1525.42 Q1048.33 1521.7 1046.48 1519.54 Q1044.65 1517.37 1041.51 1517.37 Q1038.36 1517.37 1036.51 1519.54 Q1034.68 1521.7 1034.68 1525.42 Q1034.68 1529.17 1036.51 1531.32 Q1038.36 1533.48 1041.51 1533.48 Z\" fill=\"#000000\" fill-rule=\"evenodd\" fill-opacity=\"1\" /><path clip-path=\"url(#clip050)\" d=\"M1075.07 1518.36 L1063.26 1536.81 L1075.07 1536.81 L1075.07 1518.36 M1073.84 1514.29 L1079.72 1514.29 L1079.72 1536.81 L1084.65 1536.81 L1084.65 1540.7 L1079.72 1540.7 L1079.72 1548.85 L1075.07 1548.85 L1075.07 1540.7 L1059.47 1540.7 L1059.47 1536.19 L1073.84 1514.29 Z\" fill=\"#000000\" fill-rule=\"evenodd\" fill-opacity=\"1\" /><path clip-path=\"url(#clip050)\" d=\"M1436.32 1517.37 Q1432.71 1517.37 1430.88 1520.93 Q1429.08 1524.47 1429.08 1531.6 Q1429.08 1538.71 1430.88 1542.27 Q1432.71 1545.82 1436.32 1545.82 Q1439.96 1545.82 1441.76 1542.27 Q1443.59 1538.71 1443.59 1531.6 Q1443.59 1524.47 1441.76 1520.93 Q1439.96 1517.37 1436.32 1517.37 M1436.32 1513.66 Q1442.13 1513.66 1445.19 1518.27 Q1448.27 1522.85 1448.27 1531.6 Q1448.27 1540.33 1445.19 1544.94 Q1442.13 1549.52 1436.32 1549.52 Q1430.51 1549.52 1427.43 1544.94 Q1424.38 1540.33 1424.38 1531.6 Q1424.38 1522.85 1427.43 1518.27 Q1430.51 1513.66 1436.32 1513.66 Z\" fill=\"#000000\" fill-rule=\"evenodd\" fill-opacity=\"1\" /><path clip-path=\"url(#clip050)\" d=\"M1456.48 1542.97 L1461.37 1542.97 L1461.37 1548.85 L1456.48 1548.85 L1456.48 1542.97 Z\" fill=\"#000000\" fill-rule=\"evenodd\" fill-opacity=\"1\" /><path clip-path=\"url(#clip050)\" d=\"M1471.69 1548.13 L1471.69 1543.87 Q1473.45 1544.7 1475.26 1545.14 Q1477.06 1545.58 1478.8 1545.58 Q1483.43 1545.58 1485.86 1542.48 Q1488.31 1539.36 1488.66 1533.01 Q1487.32 1535.01 1485.26 1536.07 Q1483.2 1537.13 1480.7 1537.13 Q1475.51 1537.13 1472.48 1534.01 Q1469.47 1530.86 1469.47 1525.42 Q1469.47 1520.1 1472.62 1516.88 Q1475.77 1513.66 1481 1513.66 Q1486.99 1513.66 1490.14 1518.27 Q1493.31 1522.85 1493.31 1531.6 Q1493.31 1539.77 1489.42 1544.66 Q1485.56 1549.52 1479.01 1549.52 Q1477.25 1549.52 1475.44 1549.17 Q1473.64 1548.82 1471.69 1548.13 M1481 1533.48 Q1484.14 1533.48 1485.97 1531.32 Q1487.83 1529.17 1487.83 1525.42 Q1487.83 1521.7 1485.97 1519.54 Q1484.14 1517.37 1481 1517.37 Q1477.85 1517.37 1476 1519.54 Q1474.17 1521.7 1474.17 1525.42 Q1474.17 1529.17 1476 1531.32 Q1477.85 1533.48 1481 1533.48 Z\" fill=\"#000000\" fill-rule=\"evenodd\" fill-opacity=\"1\" /><path clip-path=\"url(#clip050)\" d=\"M1512.29 1529.7 Q1509.14 1529.7 1507.29 1531.86 Q1505.46 1534.01 1505.46 1537.76 Q1505.46 1541.49 1507.29 1543.66 Q1509.14 1545.82 1512.29 1545.82 Q1515.44 1545.82 1517.27 1543.66 Q1519.12 1541.49 1519.12 1537.76 Q1519.12 1534.01 1517.27 1531.86 Q1515.44 1529.7 1512.29 1529.7 M1521.57 1515.05 L1521.57 1519.31 Q1519.82 1518.48 1518.01 1518.04 Q1516.23 1517.6 1514.47 1517.6 Q1509.84 1517.6 1507.39 1520.72 Q1504.95 1523.85 1504.61 1530.17 Q1505.97 1528.15 1508.03 1527.09 Q1510.09 1526 1512.57 1526 Q1517.78 1526 1520.79 1529.17 Q1523.82 1532.32 1523.82 1537.76 Q1523.82 1543.08 1520.67 1546.3 Q1517.52 1549.52 1512.29 1549.52 Q1506.3 1549.52 1503.13 1544.94 Q1499.95 1540.33 1499.95 1531.6 Q1499.95 1523.41 1503.84 1518.55 Q1507.73 1513.66 1514.28 1513.66 Q1516.04 1513.66 1517.83 1514.01 Q1519.63 1514.36 1521.57 1515.05 Z\" fill=\"#000000\" fill-rule=\"evenodd\" fill-opacity=\"1\" /><path clip-path=\"url(#clip050)\" d=\"M1875.78 1517.37 Q1872.17 1517.37 1870.34 1520.93 Q1868.53 1524.47 1868.53 1531.6 Q1868.53 1538.71 1870.34 1542.27 Q1872.17 1545.82 1875.78 1545.82 Q1879.41 1545.82 1881.22 1542.27 Q1883.05 1538.71 1883.05 1531.6 Q1883.05 1524.47 1881.22 1520.93 Q1879.41 1517.37 1875.78 1517.37 M1875.78 1513.66 Q1881.59 1513.66 1884.64 1518.27 Q1887.72 1522.85 1887.72 1531.6 Q1887.72 1540.33 1884.64 1544.94 Q1881.59 1549.52 1875.78 1549.52 Q1869.97 1549.52 1866.89 1544.94 Q1863.83 1540.33 1863.83 1531.6 Q1863.83 1522.85 1866.89 1518.27 Q1869.97 1513.66 1875.78 1513.66 Z\" fill=\"#000000\" fill-rule=\"evenodd\" fill-opacity=\"1\" /><path clip-path=\"url(#clip050)\" d=\"M1895.94 1542.97 L1900.82 1542.97 L1900.82 1548.85 L1895.94 1548.85 L1895.94 1542.97 Z\" fill=\"#000000\" fill-rule=\"evenodd\" fill-opacity=\"1\" /><path clip-path=\"url(#clip050)\" d=\"M1911.15 1548.13 L1911.15 1543.87 Q1912.91 1544.7 1914.71 1545.14 Q1916.52 1545.58 1918.25 1545.58 Q1922.88 1545.58 1925.31 1542.48 Q1927.77 1539.36 1928.11 1533.01 Q1926.77 1535.01 1924.71 1536.07 Q1922.65 1537.13 1920.15 1537.13 Q1914.97 1537.13 1911.93 1534.01 Q1908.92 1530.86 1908.92 1525.42 Q1908.92 1520.1 1912.07 1516.88 Q1915.22 1513.66 1920.45 1513.66 Q1926.45 1513.66 1929.6 1518.27 Q1932.77 1522.85 1932.77 1531.6 Q1932.77 1539.77 1928.88 1544.66 Q1925.01 1549.52 1918.46 1549.52 Q1916.7 1549.52 1914.9 1549.17 Q1913.09 1548.82 1911.15 1548.13 M1920.45 1533.48 Q1923.6 1533.48 1925.43 1531.32 Q1927.28 1529.17 1927.28 1525.42 Q1927.28 1521.7 1925.43 1519.54 Q1923.6 1517.37 1920.45 1517.37 Q1917.3 1517.37 1915.45 1519.54 Q1913.62 1521.7 1913.62 1525.42 Q1913.62 1529.17 1915.45 1531.32 Q1917.3 1533.48 1920.45 1533.48 Z\" fill=\"#000000\" fill-rule=\"evenodd\" fill-opacity=\"1\" /><path clip-path=\"url(#clip050)\" d=\"M1951.17 1532.44 Q1947.84 1532.44 1945.92 1534.22 Q1944.02 1536 1944.02 1539.13 Q1944.02 1542.25 1945.92 1544.03 Q1947.84 1545.82 1951.17 1545.82 Q1954.5 1545.82 1956.42 1544.03 Q1958.35 1542.23 1958.35 1539.13 Q1958.35 1536 1956.42 1534.22 Q1954.53 1532.44 1951.17 1532.44 M1946.49 1530.45 Q1943.48 1529.7 1941.8 1527.64 Q1940.13 1525.58 1940.13 1522.62 Q1940.13 1518.48 1943.07 1516.07 Q1946.03 1513.66 1951.17 1513.66 Q1956.33 1513.66 1959.27 1516.07 Q1962.21 1518.48 1962.21 1522.62 Q1962.21 1525.58 1960.52 1527.64 Q1958.86 1529.7 1955.87 1530.45 Q1959.25 1531.23 1961.12 1533.52 Q1963.02 1535.82 1963.02 1539.13 Q1963.02 1544.15 1959.94 1546.83 Q1956.89 1549.52 1951.17 1549.52 Q1945.45 1549.52 1942.37 1546.83 Q1939.32 1544.15 1939.32 1539.13 Q1939.32 1535.82 1941.22 1533.52 Q1943.11 1531.23 1946.49 1530.45 M1944.78 1523.06 Q1944.78 1525.75 1946.45 1527.25 Q1948.14 1528.76 1951.17 1528.76 Q1954.18 1528.76 1955.87 1527.25 Q1957.58 1525.75 1957.58 1523.06 Q1957.58 1520.38 1955.87 1518.87 Q1954.18 1517.37 1951.17 1517.37 Q1948.14 1517.37 1946.45 1518.87 Q1944.78 1520.38 1944.78 1523.06 Z\" fill=\"#000000\" fill-rule=\"evenodd\" fill-opacity=\"1\" /><polyline clip-path=\"url(#clip052)\" style=\"stroke:#000000; stroke-linecap:round; stroke-linejoin:round; stroke-width:2; stroke-opacity:0.1; fill:none\" points=\"156.112,1445.72 2352.76,1445.72 \"/>\n",
       "<polyline clip-path=\"url(#clip052)\" style=\"stroke:#000000; stroke-linecap:round; stroke-linejoin:round; stroke-width:2; stroke-opacity:0.1; fill:none\" points=\"156.112,1106.28 2352.76,1106.28 \"/>\n",
       "<polyline clip-path=\"url(#clip052)\" style=\"stroke:#000000; stroke-linecap:round; stroke-linejoin:round; stroke-width:2; stroke-opacity:0.1; fill:none\" points=\"156.112,766.846 2352.76,766.846 \"/>\n",
       "<polyline clip-path=\"url(#clip052)\" style=\"stroke:#000000; stroke-linecap:round; stroke-linejoin:round; stroke-width:2; stroke-opacity:0.1; fill:none\" points=\"156.112,427.411 2352.76,427.411 \"/>\n",
       "<polyline clip-path=\"url(#clip052)\" style=\"stroke:#000000; stroke-linecap:round; stroke-linejoin:round; stroke-width:2; stroke-opacity:0.1; fill:none\" points=\"156.112,87.9763 2352.76,87.9763 \"/>\n",
       "<polyline clip-path=\"url(#clip050)\" style=\"stroke:#000000; stroke-linecap:round; stroke-linejoin:round; stroke-width:4; stroke-opacity:1; fill:none\" points=\"156.112,1486.45 156.112,47.2441 \"/>\n",
       "<polyline clip-path=\"url(#clip050)\" style=\"stroke:#000000; stroke-linecap:round; stroke-linejoin:round; stroke-width:4; stroke-opacity:1; fill:none\" points=\"156.112,1445.72 175.01,1445.72 \"/>\n",
       "<polyline clip-path=\"url(#clip050)\" style=\"stroke:#000000; stroke-linecap:round; stroke-linejoin:round; stroke-width:4; stroke-opacity:1; fill:none\" points=\"156.112,1106.28 175.01,1106.28 \"/>\n",
       "<polyline clip-path=\"url(#clip050)\" style=\"stroke:#000000; stroke-linecap:round; stroke-linejoin:round; stroke-width:4; stroke-opacity:1; fill:none\" points=\"156.112,766.846 175.01,766.846 \"/>\n",
       "<polyline clip-path=\"url(#clip050)\" style=\"stroke:#000000; stroke-linecap:round; stroke-linejoin:round; stroke-width:4; stroke-opacity:1; fill:none\" points=\"156.112,427.411 175.01,427.411 \"/>\n",
       "<polyline clip-path=\"url(#clip050)\" style=\"stroke:#000000; stroke-linecap:round; stroke-linejoin:round; stroke-width:4; stroke-opacity:1; fill:none\" points=\"156.112,87.9763 175.01,87.9763 \"/>\n",
       "<path clip-path=\"url(#clip050)\" d=\"M62.9365 1431.51 Q59.3254 1431.51 57.4967 1435.08 Q55.6912 1438.62 55.6912 1445.75 Q55.6912 1452.86 57.4967 1456.42 Q59.3254 1459.96 62.9365 1459.96 Q66.5707 1459.96 68.3763 1456.42 Q70.205 1452.86 70.205 1445.75 Q70.205 1438.62 68.3763 1435.08 Q66.5707 1431.51 62.9365 1431.51 M62.9365 1427.81 Q68.7467 1427.81 71.8022 1432.42 Q74.8809 1437 74.8809 1445.75 Q74.8809 1454.48 71.8022 1459.08 Q68.7467 1463.67 62.9365 1463.67 Q57.1264 1463.67 54.0477 1459.08 Q50.9921 1454.48 50.9921 1445.75 Q50.9921 1437 54.0477 1432.42 Q57.1264 1427.81 62.9365 1427.81 Z\" fill=\"#000000\" fill-rule=\"evenodd\" fill-opacity=\"1\" /><path clip-path=\"url(#clip050)\" d=\"M83.0984 1457.12 L87.9827 1457.12 L87.9827 1463 L83.0984 1463 L83.0984 1457.12 Z\" fill=\"#000000\" fill-rule=\"evenodd\" fill-opacity=\"1\" /><path clip-path=\"url(#clip050)\" d=\"M108.168 1431.51 Q104.557 1431.51 102.728 1435.08 Q100.922 1438.62 100.922 1445.75 Q100.922 1452.86 102.728 1456.42 Q104.557 1459.96 108.168 1459.96 Q111.802 1459.96 113.608 1456.42 Q115.436 1452.86 115.436 1445.75 Q115.436 1438.62 113.608 1435.08 Q111.802 1431.51 108.168 1431.51 M108.168 1427.81 Q113.978 1427.81 117.033 1432.42 Q120.112 1437 120.112 1445.75 Q120.112 1454.48 117.033 1459.08 Q113.978 1463.67 108.168 1463.67 Q102.358 1463.67 99.2789 1459.08 Q96.2234 1454.48 96.2234 1445.75 Q96.2234 1437 99.2789 1432.42 Q102.358 1427.81 108.168 1427.81 Z\" fill=\"#000000\" fill-rule=\"evenodd\" fill-opacity=\"1\" /><path clip-path=\"url(#clip050)\" d=\"M63.9319 1092.08 Q60.3208 1092.08 58.4921 1095.64 Q56.6865 1099.19 56.6865 1106.32 Q56.6865 1113.42 58.4921 1116.99 Q60.3208 1120.53 63.9319 1120.53 Q67.5661 1120.53 69.3717 1116.99 Q71.2004 1113.42 71.2004 1106.32 Q71.2004 1099.19 69.3717 1095.64 Q67.5661 1092.08 63.9319 1092.08 M63.9319 1088.38 Q69.742 1088.38 72.7976 1092.98 Q75.8763 1097.57 75.8763 1106.32 Q75.8763 1115.04 72.7976 1119.65 Q69.742 1124.23 63.9319 1124.23 Q58.1217 1124.23 55.043 1119.65 Q51.9875 1115.04 51.9875 1106.32 Q51.9875 1097.57 55.043 1092.98 Q58.1217 1088.38 63.9319 1088.38 Z\" fill=\"#000000\" fill-rule=\"evenodd\" fill-opacity=\"1\" /><path clip-path=\"url(#clip050)\" d=\"M84.0938 1117.68 L88.978 1117.68 L88.978 1123.56 L84.0938 1123.56 L84.0938 1117.68 Z\" fill=\"#000000\" fill-rule=\"evenodd\" fill-opacity=\"1\" /><path clip-path=\"url(#clip050)\" d=\"M99.2095 1089 L117.566 1089 L117.566 1092.94 L103.492 1092.94 L103.492 1101.41 Q104.51 1101.06 105.529 1100.9 Q106.547 1100.71 107.566 1100.71 Q113.353 1100.71 116.733 1103.89 Q120.112 1107.06 120.112 1112.47 Q120.112 1118.05 116.64 1121.15 Q113.168 1124.23 106.848 1124.23 Q104.672 1124.23 102.404 1123.86 Q100.159 1123.49 97.7511 1122.75 L97.7511 1118.05 Q99.8345 1119.19 102.057 1119.74 Q104.279 1120.3 106.756 1120.3 Q110.76 1120.3 113.098 1118.19 Q115.436 1116.08 115.436 1112.47 Q115.436 1108.86 113.098 1106.76 Q110.76 1104.65 106.756 1104.65 Q104.881 1104.65 103.006 1105.07 Q101.154 1105.48 99.2095 1106.36 L99.2095 1089 Z\" fill=\"#000000\" fill-rule=\"evenodd\" fill-opacity=\"1\" /><path clip-path=\"url(#clip050)\" d=\"M53.7467 780.191 L61.3856 780.191 L61.3856 753.825 L53.0754 755.492 L53.0754 751.233 L61.3393 749.566 L66.0152 749.566 L66.0152 780.191 L73.654 780.191 L73.654 784.126 L53.7467 784.126 L53.7467 780.191 Z\" fill=\"#000000\" fill-rule=\"evenodd\" fill-opacity=\"1\" /><path clip-path=\"url(#clip050)\" d=\"M83.0984 778.246 L87.9827 778.246 L87.9827 784.126 L83.0984 784.126 L83.0984 778.246 Z\" fill=\"#000000\" fill-rule=\"evenodd\" fill-opacity=\"1\" /><path clip-path=\"url(#clip050)\" d=\"M108.168 752.645 Q104.557 752.645 102.728 756.209 Q100.922 759.751 100.922 766.881 Q100.922 773.987 102.728 777.552 Q104.557 781.094 108.168 781.094 Q111.802 781.094 113.608 777.552 Q115.436 773.987 115.436 766.881 Q115.436 759.751 113.608 756.209 Q111.802 752.645 108.168 752.645 M108.168 748.941 Q113.978 748.941 117.033 753.547 Q120.112 758.131 120.112 766.881 Q120.112 775.608 117.033 780.214 Q113.978 784.797 108.168 784.797 Q102.358 784.797 99.2789 780.214 Q96.2234 775.608 96.2234 766.881 Q96.2234 758.131 99.2789 753.547 Q102.358 748.941 108.168 748.941 Z\" fill=\"#000000\" fill-rule=\"evenodd\" fill-opacity=\"1\" /><path clip-path=\"url(#clip050)\" d=\"M54.7421 440.756 L62.381 440.756 L62.381 414.39 L54.0708 416.057 L54.0708 411.798 L62.3347 410.131 L67.0106 410.131 L67.0106 440.756 L74.6494 440.756 L74.6494 444.691 L54.7421 444.691 L54.7421 440.756 Z\" fill=\"#000000\" fill-rule=\"evenodd\" fill-opacity=\"1\" /><path clip-path=\"url(#clip050)\" d=\"M84.0938 438.812 L88.978 438.812 L88.978 444.691 L84.0938 444.691 L84.0938 438.812 Z\" fill=\"#000000\" fill-rule=\"evenodd\" fill-opacity=\"1\" /><path clip-path=\"url(#clip050)\" d=\"M99.2095 410.131 L117.566 410.131 L117.566 414.066 L103.492 414.066 L103.492 422.538 Q104.51 422.191 105.529 422.029 Q106.547 421.844 107.566 421.844 Q113.353 421.844 116.733 425.015 Q120.112 428.187 120.112 433.603 Q120.112 439.182 116.64 442.284 Q113.168 445.362 106.848 445.362 Q104.672 445.362 102.404 444.992 Q100.159 444.622 97.7511 443.881 L97.7511 439.182 Q99.8345 440.316 102.057 440.872 Q104.279 441.427 106.756 441.427 Q110.76 441.427 113.098 439.321 Q115.436 437.214 115.436 433.603 Q115.436 429.992 113.098 427.886 Q110.76 425.779 106.756 425.779 Q104.881 425.779 103.006 426.196 Q101.154 426.613 99.2095 427.492 L99.2095 410.131 Z\" fill=\"#000000\" fill-rule=\"evenodd\" fill-opacity=\"1\" /><path clip-path=\"url(#clip050)\" d=\"M56.9643 101.321 L73.2837 101.321 L73.2837 105.256 L51.3393 105.256 L51.3393 101.321 Q54.0014 98.5665 58.5847 93.9369 Q63.1911 89.2841 64.3717 87.9416 Q66.617 85.4184 67.4967 83.6823 Q68.3994 81.9231 68.3994 80.2333 Q68.3994 77.4786 66.455 75.7425 Q64.5337 74.0064 61.4319 74.0064 Q59.2328 74.0064 56.7791 74.7703 Q54.3486 75.5342 51.5708 77.0851 L51.5708 72.3629 Q54.3949 71.2287 56.8486 70.65 Q59.3023 70.0713 61.3393 70.0713 Q66.7096 70.0713 69.9041 72.7565 Q73.0985 75.4416 73.0985 79.9323 Q73.0985 82.062 72.2883 83.9832 Q71.5013 85.8814 69.3948 88.474 Q68.8161 89.1453 65.7143 92.3628 Q62.6124 95.5573 56.9643 101.321 Z\" fill=\"#000000\" fill-rule=\"evenodd\" fill-opacity=\"1\" /><path clip-path=\"url(#clip050)\" d=\"M83.0984 99.3767 L87.9827 99.3767 L87.9827 105.256 L83.0984 105.256 L83.0984 99.3767 Z\" fill=\"#000000\" fill-rule=\"evenodd\" fill-opacity=\"1\" /><path clip-path=\"url(#clip050)\" d=\"M108.168 73.775 Q104.557 73.775 102.728 77.3398 Q100.922 80.8814 100.922 88.011 Q100.922 95.1174 102.728 98.6822 Q104.557 102.224 108.168 102.224 Q111.802 102.224 113.608 98.6822 Q115.436 95.1174 115.436 88.011 Q115.436 80.8814 113.608 77.3398 Q111.802 73.775 108.168 73.775 M108.168 70.0713 Q113.978 70.0713 117.033 74.6777 Q120.112 79.261 120.112 88.011 Q120.112 96.7378 117.033 101.344 Q113.978 105.928 108.168 105.928 Q102.358 105.928 99.2789 101.344 Q96.2234 96.7378 96.2234 88.011 Q96.2234 79.261 99.2789 74.6777 Q102.358 70.0713 108.168 70.0713 Z\" fill=\"#000000\" fill-rule=\"evenodd\" fill-opacity=\"1\" /><circle clip-path=\"url(#clip052)\" cx=\"255.148\" cy=\"217.629\" r=\"14.4\" fill=\"#009af9\" fill-rule=\"evenodd\" fill-opacity=\"1\" stroke=\"#000000\" stroke-opacity=\"1\" stroke-width=\"3.2\"/>\n",
       "<circle clip-path=\"url(#clip052)\" cx=\"453.544\" cy=\"205.366\" r=\"14.4\" fill=\"#009af9\" fill-rule=\"evenodd\" fill-opacity=\"1\" stroke=\"#000000\" stroke-opacity=\"1\" stroke-width=\"3.2\"/>\n",
       "<circle clip-path=\"url(#clip052)\" cx=\"642.975\" cy=\"193.657\" r=\"14.4\" fill=\"#009af9\" fill-rule=\"evenodd\" fill-opacity=\"1\" stroke=\"#000000\" stroke-opacity=\"1\" stroke-width=\"3.2\"/>\n",
       "<circle clip-path=\"url(#clip052)\" cx=\"823.255\" cy=\"182.514\" r=\"14.4\" fill=\"#009af9\" fill-rule=\"evenodd\" fill-opacity=\"1\" stroke=\"#000000\" stroke-opacity=\"1\" stroke-width=\"3.2\"/>\n",
       "<circle clip-path=\"url(#clip052)\" cx=\"994.205\" cy=\"171.948\" r=\"14.4\" fill=\"#009af9\" fill-rule=\"evenodd\" fill-opacity=\"1\" stroke=\"#000000\" stroke-opacity=\"1\" stroke-width=\"3.2\"/>\n",
       "<circle clip-path=\"url(#clip052)\" cx=\"1155.66\" cy=\"161.969\" r=\"14.4\" fill=\"#009af9\" fill-rule=\"evenodd\" fill-opacity=\"1\" stroke=\"#000000\" stroke-opacity=\"1\" stroke-width=\"3.2\"/>\n",
       "<circle clip-path=\"url(#clip052)\" cx=\"1307.45\" cy=\"152.586\" r=\"14.4\" fill=\"#009af9\" fill-rule=\"evenodd\" fill-opacity=\"1\" stroke=\"#000000\" stroke-opacity=\"1\" stroke-width=\"3.2\"/>\n",
       "<circle clip-path=\"url(#clip052)\" cx=\"1449.44\" cy=\"143.81\" r=\"14.4\" fill=\"#009af9\" fill-rule=\"evenodd\" fill-opacity=\"1\" stroke=\"#000000\" stroke-opacity=\"1\" stroke-width=\"3.2\"/>\n",
       "<circle clip-path=\"url(#clip052)\" cx=\"1581.48\" cy=\"135.649\" r=\"14.4\" fill=\"#009af9\" fill-rule=\"evenodd\" fill-opacity=\"1\" stroke=\"#000000\" stroke-opacity=\"1\" stroke-width=\"3.2\"/>\n",
       "<circle clip-path=\"url(#clip052)\" cx=\"1703.44\" cy=\"128.111\" r=\"14.4\" fill=\"#009af9\" fill-rule=\"evenodd\" fill-opacity=\"1\" stroke=\"#000000\" stroke-opacity=\"1\" stroke-width=\"3.2\"/>\n",
       "<circle clip-path=\"url(#clip052)\" cx=\"1815.2\" cy=\"121.203\" r=\"14.4\" fill=\"#009af9\" fill-rule=\"evenodd\" fill-opacity=\"1\" stroke=\"#000000\" stroke-opacity=\"1\" stroke-width=\"3.2\"/>\n",
       "<circle clip-path=\"url(#clip052)\" cx=\"1916.65\" cy=\"114.932\" r=\"14.4\" fill=\"#009af9\" fill-rule=\"evenodd\" fill-opacity=\"1\" stroke=\"#000000\" stroke-opacity=\"1\" stroke-width=\"3.2\"/>\n",
       "<circle clip-path=\"url(#clip052)\" cx=\"2007.7\" cy=\"109.304\" r=\"14.4\" fill=\"#009af9\" fill-rule=\"evenodd\" fill-opacity=\"1\" stroke=\"#000000\" stroke-opacity=\"1\" stroke-width=\"3.2\"/>\n",
       "<circle clip-path=\"url(#clip052)\" cx=\"2088.24\" cy=\"104.326\" r=\"14.4\" fill=\"#009af9\" fill-rule=\"evenodd\" fill-opacity=\"1\" stroke=\"#000000\" stroke-opacity=\"1\" stroke-width=\"3.2\"/>\n",
       "<circle clip-path=\"url(#clip052)\" cx=\"2158.21\" cy=\"100.001\" r=\"14.4\" fill=\"#009af9\" fill-rule=\"evenodd\" fill-opacity=\"1\" stroke=\"#000000\" stroke-opacity=\"1\" stroke-width=\"3.2\"/>\n",
       "<circle clip-path=\"url(#clip052)\" cx=\"2217.53\" cy=\"96.3343\" r=\"14.4\" fill=\"#009af9\" fill-rule=\"evenodd\" fill-opacity=\"1\" stroke=\"#000000\" stroke-opacity=\"1\" stroke-width=\"3.2\"/>\n",
       "<circle clip-path=\"url(#clip052)\" cx=\"2266.15\" cy=\"93.3294\" r=\"14.4\" fill=\"#009af9\" fill-rule=\"evenodd\" fill-opacity=\"1\" stroke=\"#000000\" stroke-opacity=\"1\" stroke-width=\"3.2\"/>\n",
       "<circle clip-path=\"url(#clip052)\" cx=\"2304.01\" cy=\"90.9891\" r=\"14.4\" fill=\"#009af9\" fill-rule=\"evenodd\" fill-opacity=\"1\" stroke=\"#000000\" stroke-opacity=\"1\" stroke-width=\"3.2\"/>\n",
       "<circle clip-path=\"url(#clip052)\" cx=\"2331.08\" cy=\"89.3159\" r=\"14.4\" fill=\"#009af9\" fill-rule=\"evenodd\" fill-opacity=\"1\" stroke=\"#000000\" stroke-opacity=\"1\" stroke-width=\"3.2\"/>\n",
       "<circle clip-path=\"url(#clip052)\" cx=\"2347.34\" cy=\"88.3113\" r=\"14.4\" fill=\"#009af9\" fill-rule=\"evenodd\" fill-opacity=\"1\" stroke=\"#000000\" stroke-opacity=\"1\" stroke-width=\"3.2\"/>\n",
       "<circle clip-path=\"url(#clip052)\" cx=\"2352.76\" cy=\"87.9763\" r=\"14.4\" fill=\"#009af9\" fill-rule=\"evenodd\" fill-opacity=\"1\" stroke=\"#000000\" stroke-opacity=\"1\" stroke-width=\"3.2\"/>\n",
       "<path clip-path=\"url(#clip050)\" d=\"M2007.44 1438.47 L2279.53 1438.47 L2279.53 1334.79 L2007.44 1334.79  Z\" fill=\"#ffffff\" fill-rule=\"evenodd\" fill-opacity=\"1\"/>\n",
       "<polyline clip-path=\"url(#clip050)\" style=\"stroke:#000000; stroke-linecap:round; stroke-linejoin:round; stroke-width:4; stroke-opacity:1; fill:none\" points=\"2007.44,1438.47 2279.53,1438.47 2279.53,1334.79 2007.44,1334.79 2007.44,1438.47 \"/>\n",
       "<circle clip-path=\"url(#clip050)\" cx=\"2105.07\" cy=\"1386.63\" r=\"23.04\" fill=\"#009af9\" fill-rule=\"evenodd\" fill-opacity=\"1\" stroke=\"#000000\" stroke-opacity=\"1\" stroke-width=\"5.12\"/>\n",
       "<path clip-path=\"url(#clip050)\" d=\"M2216.54 1406.32 Q2214.73 1410.95 2213.02 1412.36 Q2211.31 1413.78 2208.44 1413.78 L2205.03 1413.78 L2205.03 1410.21 L2207.53 1410.21 Q2209.29 1410.21 2210.27 1409.38 Q2211.24 1408.54 2212.42 1405.44 L2213.18 1403.5 L2202.7 1377.99 L2207.21 1377.99 L2215.31 1398.27 L2223.41 1377.99 L2227.93 1377.99 L2216.54 1406.32 Z\" fill=\"#000000\" fill-rule=\"evenodd\" fill-opacity=\"1\" /><path clip-path=\"url(#clip050)\" d=\"M2235.22 1399.98 L2242.86 1399.98 L2242.86 1373.61 L2234.55 1375.28 L2234.55 1371.02 L2242.81 1369.35 L2247.49 1369.35 L2247.49 1399.98 L2255.13 1399.98 L2255.13 1403.91 L2235.22 1403.91 L2235.22 1399.98 Z\" fill=\"#000000\" fill-rule=\"evenodd\" fill-opacity=\"1\" /></svg>\n"
      ]
     },
     "execution_count": 272,
     "metadata": {},
     "output_type": "execute_result"
    }
   ],
   "source": [
    "\n",
    "#plot(x,y)\n",
    "\n",
    "scatter(xnew[4:L-3],auxnew[4:L-3],xlim=[0.9,1])\n",
    "\n",
    "#plot(x[4:L-3],aux[4:L-3])"
   ]
  },
  {
   "cell_type": "code",
   "execution_count": 164,
   "id": "d08f8450",
   "metadata": {
    "papermill": {
     "duration": null,
     "end_time": null,
     "exception": null,
     "start_time": null,
     "status": "pending"
    },
    "tags": []
   },
   "outputs": [
    {
     "data": {
      "text/plain": [
       "2.0000000000015"
      ]
     },
     "execution_count": 164,
     "metadata": {},
     "output_type": "execute_result"
    }
   ],
   "source": [
    "auxnew[L-3]"
   ]
  },
  {
   "cell_type": "code",
   "execution_count": null,
   "id": "3fd2297c",
   "metadata": {
    "papermill": {
     "duration": null,
     "end_time": null,
     "exception": null,
     "start_time": null,
     "status": "pending"
    },
    "tags": []
   },
   "outputs": [],
   "source": []
  },
  {
   "cell_type": "code",
   "execution_count": null,
   "id": "4677437a",
   "metadata": {
    "papermill": {
     "duration": null,
     "end_time": null,
     "exception": null,
     "start_time": null,
     "status": "pending"
    },
    "tags": []
   },
   "outputs": [],
   "source": []
  },
  {
   "cell_type": "code",
   "execution_count": null,
   "id": "805c0934",
   "metadata": {},
   "outputs": [],
   "source": []
  }
 ],
 "metadata": {
  "@webio": {
   "lastCommId": null,
   "lastKernelId": null
  },
  "kernelspec": {
   "display_name": "Julia 1.8.0",
   "language": "julia",
   "name": "julia-1.8"
  },
  "language_info": {
   "file_extension": ".jl",
   "mimetype": "application/julia",
   "name": "julia",
   "version": "1.8.0"
  },
  "papermill": {
   "default_parameters": {},
   "duration": 2464.038479,
   "end_time": "2023-06-26T00:23:52.938089",
   "environment_variables": {},
   "exception": true,
   "input_path": "Evolution_ScalarField.ipynb",
   "output_path": "Evolution_ScalarField.ipynb",
   "parameters": {
    "A": 0.01,
    "m": 1
   },
   "start_time": "2023-06-25T23:42:48.899610",
   "version": "2.4.0"
  }
 },
 "nbformat": 4,
 "nbformat_minor": 5
}
