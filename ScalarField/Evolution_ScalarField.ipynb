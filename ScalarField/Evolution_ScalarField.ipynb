{
 "cells": [
  {
   "cell_type": "markdown",
   "id": "d88601a8",
   "metadata": {
    "papermill": {
     "duration": 0.010813,
     "end_time": "2023-03-28T18:06:09.878411",
     "exception": false,
     "start_time": "2023-03-28T18:06:09.867598",
     "status": "completed"
    },
    "tags": []
   },
   "source": [
    "# Evolution of Einstein's equations"
   ]
  },
  {
   "cell_type": "markdown",
   "id": "03c607c7",
   "metadata": {
    "papermill": {
     "duration": 0.006777,
     "end_time": "2023-03-28T18:06:09.893152",
     "exception": false,
     "start_time": "2023-03-28T18:06:09.886375",
     "status": "completed"
    },
    "tags": []
   },
   "source": [
    "# Initial data , setting length of the domain and discretization\n"
   ]
  },
  {
   "cell_type": "code",
   "execution_count": 105,
   "id": "f362b590",
   "metadata": {
    "execution": {
     "iopub.execute_input": "2023-03-28T19:06:10.907000Z",
     "iopub.status.busy": "2023-03-28T19:06:09.907000Z",
     "iopub.status.idle": "2023-03-28T19:06:12.147000Z",
     "shell.execute_reply": "2023-03-28T19:06:12.110000Z"
    },
    "papermill": {
     "duration": 2.251282,
     "end_time": "2023-03-28T18:06:12.151193",
     "exception": false,
     "start_time": "2023-03-28T18:06:09.899911",
     "status": "completed"
    },
    "tags": [
     "injected-parameters"
    ]
   },
   "outputs": [
    {
     "data": {
      "text/plain": [
       "0.125"
      ]
     },
     "execution_count": 105,
     "metadata": {},
     "output_type": "execute_result"
    }
   ],
   "source": [
    "# Parameters\n",
    "m = 1\n",
    "A = 0.125"
   ]
  },
  {
   "cell_type": "code",
   "execution_count": 106,
   "id": "80bb0a34",
   "metadata": {
    "execution": {
     "iopub.execute_input": "2023-03-28T19:06:12.170000Z",
     "iopub.status.busy": "2023-03-28T19:06:12.170000Z",
     "iopub.status.idle": "2023-03-28T19:06:12.334000Z",
     "shell.execute_reply": "2023-03-28T19:06:12.334000Z"
    },
    "papermill": {
     "duration": 0.175967,
     "end_time": "2023-03-28T18:06:12.338215",
     "exception": false,
     "start_time": "2023-03-28T18:06:12.162248",
     "status": "completed"
    },
    "tags": []
   },
   "outputs": [
    {
     "data": {
      "text/plain": [
       "\"res=m;\\nN=2.0^m*100#2.0^m*1000.0;#2.0^m*500.0;#N=2.0^m*500.0#2.0^m*100.0;\\nXf=1.0;\\n\\ndx=Xf/N;\\ndt=round(dx,digits=10);\\nNt=2^m*100.0#100.0*2^m*10\\nTf=Nt*dt; #final time\\n\\nprintln(\\\"the final time is \\\", Tf)\""
      ]
     },
     "execution_count": 106,
     "metadata": {},
     "output_type": "execute_result"
    }
   ],
   "source": [
    "\"\"\"res=m;\n",
    "N=2.0^m*100#2.0^m*1000.0;#2.0^m*500.0;#N=2.0^m*500.0#2.0^m*100.0;\n",
    "Xf=1.0;\n",
    "\n",
    "dx=Xf/N;\n",
    "dt=round(dx,digits=10);\n",
    "Nt=2^m*100.0#100.0*2^m*10\n",
    "Tf=Nt*dt; #final time\n",
    "\n",
    "println(\"the final time is \", Tf)\"\"\""
   ]
  },
  {
   "cell_type": "code",
   "execution_count": 107,
   "id": "80a113e0",
   "metadata": {},
   "outputs": [
    {
     "name": "stdout",
     "output_type": "stream",
     "text": [
      "1.0"
     ]
    }
   ],
   "source": [
    "res=m;\n",
    "N=2.0^m*500.0/2#2.0^m*1000.0;#2.0^m*500.0;#N=2.0^m*500.0#2.0^m*100.0;\n",
    "Xf=1.0;\n",
    "\n",
    "dx=Xf/N;\n",
    "dt=round(dx,digits=10);\n",
    "Nt=100.0*2^m*5/2#100.0*2^m*10\n",
    "Tf=Nt*dt; #final time\n",
    "print(Tf)"
   ]
  },
  {
   "cell_type": "code",
   "execution_count": 108,
   "id": "4f752d54",
   "metadata": {
    "execution": {
     "iopub.execute_input": "2023-03-28T19:06:12.356000Z",
     "iopub.status.busy": "2023-03-28T19:06:12.356000Z",
     "iopub.status.idle": "2023-03-28T19:06:12.364000Z",
     "shell.execute_reply": "2023-03-28T19:06:12.364000Z"
    },
    "papermill": {
     "duration": 0.020815,
     "end_time": "2023-03-28T18:06:12.368761",
     "exception": false,
     "start_time": "2023-03-28T18:06:12.347946",
     "status": "completed"
    },
    "tags": []
   },
   "outputs": [
    {
     "name": "stdout",
     "output_type": "stream",
     "text": [
      "500.0"
     ]
    }
   ],
   "source": [
    "print(N)"
   ]
  },
  {
   "cell_type": "code",
   "execution_count": 109,
   "id": "ad48576a",
   "metadata": {
    "execution": {
     "iopub.execute_input": "2023-03-28T19:06:12.386000Z",
     "iopub.status.busy": "2023-03-28T19:06:12.385000Z",
     "iopub.status.idle": "2023-03-28T19:06:12.398000Z",
     "shell.execute_reply": "2023-03-28T19:06:12.398000Z"
    },
    "papermill": {
     "duration": 0.024143,
     "end_time": "2023-03-28T18:06:12.402660",
     "exception": false,
     "start_time": "2023-03-28T18:06:12.378517",
     "status": "completed"
    },
    "tags": []
   },
   "outputs": [
    {
     "name": "stdout",
     "output_type": "stream",
     "text": [
      "dx =0.002\n",
      "dt =0.002\n",
      "dx/dt =1.0\n",
      "epsilon <= dx/dt * (1/2)^(2*2-1) = 0.125\n",
      "epsilon = dx/dt * (1/2)^(2*2) = 0.0625\n",
      "epsilon = dx/dt * (1/2)^(2*3) = 0.015625\n",
      "epsilon = dx/dt * (1/2)^(2) = 0.25\n"
     ]
    }
   ],
   "source": [
    "println(\"dx =\", dx)\n",
    "println(\"dt =\", dt)\n",
    "println(\"dx/dt =\", dx/dt)\n",
    "println(\"epsilon <= dx/dt * (1/2)^(2*2-1) = \", dx/dt*(1/2)^(2*2-1))\n",
    "\n",
    "println(\"epsilon = dx/dt * (1/2)^(2*2) = \", dx/dt*(1/2)^(2*2))\n",
    "\n",
    "println(\"epsilon = dx/dt * (1/2)^(2*3) = \", dx/dt*(1/2)^(2*3))\n",
    "\n",
    "println(\"epsilon = dx/dt * (1/2)^(2) = \", dx/dt*(1/2)^(2))"
   ]
  },
  {
   "cell_type": "code",
   "execution_count": 110,
   "id": "78fb78a5",
   "metadata": {
    "execution": {
     "iopub.execute_input": "2023-03-28T19:06:12.419000Z",
     "iopub.status.busy": "2023-03-28T19:06:12.419000Z",
     "iopub.status.idle": "2023-03-28T19:06:13.308000Z",
     "shell.execute_reply": "2023-03-28T19:06:13.308000Z"
    },
    "papermill": {
     "duration": 0.90283,
     "end_time": "2023-03-28T18:06:13.314381",
     "exception": false,
     "start_time": "2023-03-28T18:06:12.411551",
     "status": "completed"
    },
    "tags": []
   },
   "outputs": [
    {
     "data": {
      "text/plain": [
       "\"/home/rita13santos/Desktop/MSc Thesis/Git/ScalarField/DATA/res1\""
      ]
     },
     "execution_count": 110,
     "metadata": {},
     "output_type": "execute_result"
    }
   ],
   "source": [
    "# Setting RESOLUTION\n",
    "\n",
    "global dir = \"/home/rita13santos/Desktop/MSc Thesis/Git/ScalarField/DATA/res$res\"\n",
    "#global dir = \"/home/rita13santos/Desktop/MSc Thesis/Git/ScalarField/DATA/res\""
   ]
  },
  {
   "cell_type": "code",
   "execution_count": 111,
   "id": "9732fbb0",
   "metadata": {
    "execution": {
     "iopub.execute_input": "2023-03-28T19:06:13.332000Z",
     "iopub.status.busy": "2023-03-28T19:06:13.332000Z",
     "iopub.status.idle": "2023-03-28T19:06:13.334000Z",
     "shell.execute_reply": "2023-03-28T19:06:13.334000Z"
    },
    "papermill": {
     "duration": 0.012869,
     "end_time": "2023-03-28T18:06:13.337171",
     "exception": false,
     "start_time": "2023-03-28T18:06:13.324302",
     "status": "completed"
    },
    "tags": []
   },
   "outputs": [
    {
     "data": {
      "text/plain": [
       "0.1"
      ]
     },
     "execution_count": 111,
     "metadata": {},
     "output_type": "execute_result"
    }
   ],
   "source": [
    "epsilon=0.1##0.01#0.05; #05; #02;#0.05; #0.05; #0.05;#0.05;#0.05; #dissipation strength (-1 for backwards integration)"
   ]
  },
  {
   "cell_type": "markdown",
   "id": "e2dd4335",
   "metadata": {
    "papermill": {
     "duration": 0.007006,
     "end_time": "2023-03-28T18:06:13.351329",
     "exception": false,
     "start_time": "2023-03-28T18:06:13.344323",
     "status": "completed"
    },
    "tags": []
   },
   "source": [
    "# Grid"
   ]
  },
  {
   "cell_type": "code",
   "execution_count": 112,
   "id": "de24fea3",
   "metadata": {
    "execution": {
     "iopub.execute_input": "2023-03-28T19:06:13.366000Z",
     "iopub.status.busy": "2023-03-28T19:06:13.366000Z",
     "iopub.status.idle": "2023-03-28T19:06:13.571000Z",
     "shell.execute_reply": "2023-03-28T19:06:13.571000Z"
    },
    "papermill": {
     "duration": 0.216104,
     "end_time": "2023-03-28T18:06:13.574666",
     "exception": false,
     "start_time": "2023-03-28T18:06:13.358562",
     "status": "completed"
    },
    "tags": []
   },
   "outputs": [],
   "source": [
    "ori=0.0;\n",
    "initX1 = nothing\n",
    "initX1=range(ori, stop=Xf, step=dx);"
   ]
  },
  {
   "cell_type": "code",
   "execution_count": 113,
   "id": "7376d222",
   "metadata": {
    "execution": {
     "iopub.execute_input": "2023-03-28T19:06:13.594000Z",
     "iopub.status.busy": "2023-03-28T19:06:13.594000Z",
     "iopub.status.idle": "2023-03-28T19:06:13.614000Z",
     "shell.execute_reply": "2023-03-28T19:06:13.613000Z"
    },
    "papermill": {
     "duration": 0.032546,
     "end_time": "2023-03-28T18:06:13.618614",
     "exception": false,
     "start_time": "2023-03-28T18:06:13.586068",
     "status": "completed"
    },
    "scrolled": true,
    "tags": []
   },
   "outputs": [
    {
     "name": "stdout",
     "output_type": "stream",
     "text": [
      "step size is  0.002\n",
      "the time step is 0.002\n"
     ]
    }
   ],
   "source": [
    "initX = range(round(ori-3.0*dx,digits=10), stop=Xf+3.0*dx, step=dx)\n",
    "\n",
    "L=length(initX);\n",
    "println(\"step size is  \", dx)\n",
    "\n",
    "#T=range(dt,stop=Tf,step=dt)\n",
    "T=range(0,stop=Tf,step=dt)\n",
    "println(\"the time step is \", dt)"
   ]
  },
  {
   "cell_type": "code",
   "execution_count": 122,
   "id": "bc5288f8",
   "metadata": {
    "execution": {
     "iopub.execute_input": "2023-03-28T19:06:13.636000Z",
     "iopub.status.busy": "2023-03-28T19:06:13.636000Z",
     "iopub.status.idle": "2023-03-28T19:06:14.762000Z",
     "shell.execute_reply": "2023-03-28T19:06:14.762000Z"
    },
    "papermill": {
     "duration": 1.137394,
     "end_time": "2023-03-28T18:06:14.765909",
     "exception": false,
     "start_time": "2023-03-28T18:06:13.628515",
     "status": "completed"
    },
    "tags": []
   },
   "outputs": [],
   "source": [
    "include(\"./ScalarField.jl\");"
   ]
  },
  {
   "cell_type": "markdown",
   "id": "80ab1480",
   "metadata": {
    "papermill": {
     "duration": 0.007525,
     "end_time": "2023-03-28T18:06:14.783937",
     "exception": false,
     "start_time": "2023-03-28T18:06:14.776412",
     "status": "completed"
    },
    "tags": []
   },
   "source": [
    "# Initial data of m β Ψ and Ψ,x"
   ]
  },
  {
   "cell_type": "code",
   "execution_count": 123,
   "id": "d0af654c",
   "metadata": {
    "execution": {
     "iopub.execute_input": "2023-03-28T19:06:14.799000Z",
     "iopub.status.busy": "2023-03-28T19:06:14.799000Z",
     "iopub.status.idle": "2023-03-28T19:06:22.269000Z",
     "shell.execute_reply": "2023-03-28T19:06:22.269000Z"
    },
    "papermill": {
     "duration": 7.48258,
     "end_time": "2023-03-28T18:06:22.273970",
     "exception": false,
     "start_time": "2023-03-28T18:06:14.791390",
     "status": "completed"
    },
    "tags": []
   },
   "outputs": [],
   "source": [
    "using PyCall   \n",
    "using Interpolations\n",
    "\n",
    "scipy = pyimport(\"scipy\")\n",
    "scipyinterpolate = pyimport(\"scipy.interpolate\")\n",
    "\n",
    "\n",
    "####\n",
    "\n",
    "initm=zeros(L);\n",
    "initbeta=zeros(L);\n",
    "initpsi=zeros(L);\n",
    "initderpsi=zeros(L);\n",
    "\n",
    "state_array=[initm initbeta initpsi initderpsi initX];\n",
    "\n",
    "#PSI\n",
    "r0=0.7#0.3\n",
    "sigma=0.3\n",
    "initpsi[4:L-3] = init_gaussian(initX1,r0,sigma,A)\n",
    "\n",
    "state_array[:,3] = initpsi\n",
    "state_array = ghost(state_array)\n",
    "\n",
    "#PSI,X FROM PSI\n",
    "\"\"\"for i in 4:L-3\n",
    "    initderpsi[i]=Der(state_array[:,:],i,3,initX)\n",
    "end\n",
    "\n",
    "state_array[:,4] = initderpsi\n",
    "state_array = ghost(state_array)\"\"\"\n",
    "\n",
    "#new\n",
    "initderpsi[4:L-3] = init_gaussian_der(initX1,r0,sigma,A)\n",
    "state_array[:,4] = initderpsi\n",
    "state_array=ghost(state_array)\n",
    "\n",
    "####\n",
    "\n",
    "\"\"\"spl_psi = scipyinterpolate.splrep(initX[4:L-3], state_array[4:L-3,3],k=4)\n",
    "psi_func(x) = scipyinterpolate.splev(x, spl_psi)\n",
    "\n",
    "spl_derpsi = scipyinterpolate.splrep(initX[4:L-3], initderpsi[4:L-3],k=4)\n",
    "derpsi_func(x) = scipyinterpolate.splev(x, spl_derpsi)\"\"\"\n",
    "psi_func = cubic_spline_interpolation(initX[4:L-3], state_array[4:L-3,3],  extrapolation_bc = Line())\n",
    "derpsi_func = cubic_spline_interpolation(initX[4:L-3], initderpsi[4:L-3],  extrapolation_bc = Line())\n",
    "\n",
    "funcs = [psi_func, derpsi_func];"
   ]
  },
  {
   "cell_type": "code",
   "execution_count": 124,
   "id": "384597fa",
   "metadata": {
    "execution": {
     "iopub.execute_input": "2023-03-28T19:06:22.817000Z",
     "iopub.status.busy": "2023-03-28T19:06:22.325000Z",
     "iopub.status.idle": "2023-03-28T19:06:25.288000Z",
     "shell.execute_reply": "2023-03-28T19:06:25.288000Z"
    },
    "papermill": {
     "duration": 2.998847,
     "end_time": "2023-03-28T18:06:25.292099",
     "exception": false,
     "start_time": "2023-03-28T18:06:22.293252",
     "status": "completed"
    },
    "tags": []
   },
   "outputs": [],
   "source": [
    "#BETA\n",
    "beta0=0\n",
    "initbeta[4:L-3]=rk4wrapper(SFconstraint_beta,beta0,initX1,0,funcs)\n",
    "state_array[:,2]=initbeta;\n",
    "state_array=ghost(state_array);\n",
    "\n",
    "\n",
    "#M\n",
    "m0=0\n",
    "initm[4:L-3]=rk4wrapper(SFconstraint_m,m0,initX1,0,funcs)\n",
    "state_array[:,1]=initm;\n",
    "state_array = ghost(state_array);"
   ]
  },
  {
   "cell_type": "code",
   "execution_count": 125,
   "id": "48f10a76",
   "metadata": {
    "execution": {
     "iopub.execute_input": "2023-03-28T19:06:25.312000Z",
     "iopub.status.busy": "2023-03-28T19:06:25.312000Z",
     "iopub.status.idle": "2023-03-28T19:06:25.348000Z",
     "shell.execute_reply": "2023-03-28T19:06:25.347000Z"
    },
    "papermill": {
     "duration": 0.048534,
     "end_time": "2023-03-28T18:06:25.352888",
     "exception": false,
     "start_time": "2023-03-28T18:06:25.304354",
     "status": "completed"
    },
    "tags": []
   },
   "outputs": [
    {
     "data": {
      "text/plain": [
       "\"using Plots #showing initial data and the initial status of the horizon finder\\nplot(initX, state_array[:,1:4], xaxis=\\\"x\\\",title=\\\"Initial Data\\\", labels=[\\\"m\\\" \\\"beta\\\" \\\"psi\\\" \\\"psi,x\\\"])\""
      ]
     },
     "execution_count": 125,
     "metadata": {},
     "output_type": "execute_result"
    }
   ],
   "source": [
    "\"\"\"using Plots #showing initial data and the initial status of the horizon finder\n",
    "plot(initX, state_array[:,1:4], xaxis=\"x\",title=\"Initial Data\", labels=[\"m\" \"beta\" \"psi\" \"psi,x\"])\"\"\""
   ]
  },
  {
   "cell_type": "markdown",
   "id": "9b444ece",
   "metadata": {
    "papermill": {
     "duration": 0.009161,
     "end_time": "2023-03-28T18:06:25.373170",
     "exception": false,
     "start_time": "2023-03-28T18:06:25.364009",
     "status": "completed"
    },
    "tags": []
   },
   "source": [
    "# Defining the initial state array for the evolution m β Ψ and Ψ,x"
   ]
  },
  {
   "cell_type": "code",
   "execution_count": 126,
   "id": "9902ffab",
   "metadata": {
    "execution": {
     "iopub.execute_input": "2023-03-28T19:06:25.389000Z",
     "iopub.status.busy": "2023-03-28T19:06:25.388000Z",
     "iopub.status.idle": "2023-03-28T19:06:32.710000Z",
     "shell.execute_reply": "2023-03-28T19:06:32.710000Z"
    },
    "papermill": {
     "duration": 7.335269,
     "end_time": "2023-03-28T18:06:32.715990",
     "exception": false,
     "start_time": "2023-03-28T18:06:25.380721",
     "status": "completed"
    },
    "tags": []
   },
   "outputs": [
    {
     "data": {
      "text/plain": [
       "\"/home/rita13santos/Desktop/MSc Thesis/Git/ScalarField/DATA/res1/time_step0.csv\""
      ]
     },
     "execution_count": 126,
     "metadata": {},
     "output_type": "execute_result"
    }
   ],
   "source": [
    "using CSV, Tables\n",
    "#CSV.write(dir*\"/time_step0.csv\", Tables.table(transpose(Matrix(state_array))), writeheader=false)\n",
    "CSV.write(dir*\"/time_step0.csv\", Tables.table(state_array), writeheader=false)"
   ]
  },
  {
   "cell_type": "code",
   "execution_count": 127,
   "id": "fff1426a",
   "metadata": {
    "execution": {
     "iopub.execute_input": "2023-03-28T19:06:33.154000Z",
     "iopub.status.busy": "2023-03-28T19:06:32.734000Z",
     "iopub.status.idle": "2023-03-28T19:06:33.884000Z",
     "shell.execute_reply": "2023-03-28T19:06:33.884000Z"
    },
    "papermill": {
     "duration": 1.164178,
     "end_time": "2023-03-28T18:06:33.889802",
     "exception": false,
     "start_time": "2023-03-28T18:06:32.725624",
     "status": "completed"
    },
    "tags": []
   },
   "outputs": [
    {
     "data": {
      "text/plain": [
       "\"/home/rita13santos/Desktop/MSc Thesis/Git/ScalarField/DATA/parameters.csv\""
      ]
     },
     "execution_count": 127,
     "metadata": {},
     "output_type": "execute_result"
    }
   ],
   "source": [
    "timestep=0\n",
    "criticality=0.0\n",
    "explode=0.0\n",
    "evol_stats = [criticality A sigma r0 timestep explode]\n",
    "monitor_ratio = zeros(L)\n",
    "CSV.write(\"/home/rita13santos/Desktop/MSc Thesis/Git/ScalarField/DATA/parameters.csv\", Tables.table(evol_stats), writeheader=true, header=[\"criticality\", \"A\", \"sigma\", \"r0\", \"timestep\", \"explode\"])"
   ]
  },
  {
   "cell_type": "markdown",
   "id": "42e2c73d",
   "metadata": {
    "papermill": {
     "duration": 0.007626,
     "end_time": "2023-03-28T18:06:33.908346",
     "exception": false,
     "start_time": "2023-03-28T18:06:33.900720",
     "status": "completed"
    },
    "tags": []
   },
   "source": [
    " ## Time evolution"
   ]
  },
  {
   "cell_type": "markdown",
   "id": "7da47594",
   "metadata": {
    "papermill": {
     "duration": 0.007471,
     "end_time": "2023-03-28T18:06:33.923805",
     "exception": false,
     "start_time": "2023-03-28T18:06:33.916334",
     "status": "completed"
    },
    "tags": []
   },
   "source": [
    "fixed grid"
   ]
  },
  {
   "cell_type": "code",
   "execution_count": 128,
   "id": "fcb7ae3f",
   "metadata": {
    "execution": {
     "iopub.execute_input": "2023-03-28T19:06:33.940000Z",
     "iopub.status.busy": "2023-03-28T19:06:33.940000Z",
     "iopub.status.idle": "2023-03-28T21:02:19.379000Z",
     "shell.execute_reply": "2023-03-28T21:02:19.378000Z"
    },
    "papermill": {
     "duration": 6945.452732,
     "end_time": "2023-03-28T20:02:19.384591",
     "exception": false,
     "start_time": "2023-03-28T18:06:33.931859",
     "status": "completed"
    },
    "tags": []
   },
   "outputs": [
    {
     "name": "stdout",
     "output_type": "stream",
     "text": [
      "iteration 1iteration 2"
     ]
    },
    {
     "name": "stderr",
     "output_type": "stream",
     "text": [
      "\r",
      "\u001b[32mProgress:   0%|▏                                        |  ETA: 0:27:17\u001b[39m"
     ]
    },
    {
     "name": "stdout",
     "output_type": "stream",
     "text": [
      "iteration 3"
     ]
    },
    {
     "name": "stderr",
     "output_type": "stream",
     "text": [
      "\r",
      "\u001b[32mProgress:   1%|▎                                        |  ETA: 0:22:37\u001b[39m"
     ]
    },
    {
     "name": "stdout",
     "output_type": "stream",
     "text": [
      "iteration 4"
     ]
    },
    {
     "name": "stderr",
     "output_type": "stream",
     "text": [
      "\r",
      "\u001b[32mProgress:   1%|▍                                        |  ETA: 0:20:38\u001b[39m"
     ]
    },
    {
     "name": "stdout",
     "output_type": "stream",
     "text": [
      "iteration 5"
     ]
    },
    {
     "name": "stderr",
     "output_type": "stream",
     "text": [
      "\r",
      "\u001b[32mProgress:   1%|▍                                        |  ETA: 0:19:28\u001b[39m"
     ]
    },
    {
     "name": "stdout",
     "output_type": "stream",
     "text": [
      "iteration 6"
     ]
    },
    {
     "name": "stderr",
     "output_type": "stream",
     "text": [
      "\r",
      "\u001b[32mProgress:   1%|▌                                        |  ETA: 0:18:53\u001b[39m"
     ]
    },
    {
     "name": "stdout",
     "output_type": "stream",
     "text": [
      "iteration 7"
     ]
    },
    {
     "name": "stderr",
     "output_type": "stream",
     "text": [
      "\r",
      "\u001b[32mProgress:   1%|▋                                        |  ETA: 0:18:20\u001b[39m"
     ]
    },
    {
     "name": "stdout",
     "output_type": "stream",
     "text": [
      "iteration 8"
     ]
    },
    {
     "name": "stderr",
     "output_type": "stream",
     "text": [
      "\r",
      "\u001b[32mProgress:   2%|▋                                        |  ETA: 0:17:37\u001b[39m"
     ]
    },
    {
     "name": "stdout",
     "output_type": "stream",
     "text": [
      "iteration 9"
     ]
    },
    {
     "name": "stderr",
     "output_type": "stream",
     "text": [
      "\r",
      "\u001b[32mProgress:   2%|▊                                        |  ETA: 0:17:20\u001b[39m"
     ]
    },
    {
     "name": "stdout",
     "output_type": "stream",
     "text": [
      "iteration 10"
     ]
    },
    {
     "name": "stderr",
     "output_type": "stream",
     "text": [
      "\r",
      "\u001b[32mProgress:   2%|▉                                        |  ETA: 0:17:16\u001b[39m"
     ]
    },
    {
     "name": "stdout",
     "output_type": "stream",
     "text": [
      "iteration 11"
     ]
    },
    {
     "name": "stderr",
     "output_type": "stream",
     "text": [
      "\r",
      "\u001b[32mProgress:   2%|▉                                        |  ETA: 0:16:56\u001b[39m"
     ]
    },
    {
     "name": "stdout",
     "output_type": "stream",
     "text": [
      "iteration 12"
     ]
    },
    {
     "name": "stderr",
     "output_type": "stream",
     "text": [
      "\r",
      "\u001b[32mProgress:   2%|█                                        |  ETA: 0:16:54\u001b[39m"
     ]
    },
    {
     "name": "stdout",
     "output_type": "stream",
     "text": [
      "iteration 13"
     ]
    },
    {
     "name": "stderr",
     "output_type": "stream",
     "text": [
      "\r",
      "\u001b[32mProgress:   3%|█▏                                       |  ETA: 0:16:43\u001b[39m"
     ]
    },
    {
     "name": "stdout",
     "output_type": "stream",
     "text": [
      "iteration 14"
     ]
    },
    {
     "name": "stderr",
     "output_type": "stream",
     "text": [
      "\r",
      "\u001b[32mProgress:   3%|█▏                                       |  ETA: 0:16:35\u001b[39m"
     ]
    },
    {
     "name": "stdout",
     "output_type": "stream",
     "text": [
      "iteration 15"
     ]
    },
    {
     "name": "stderr",
     "output_type": "stream",
     "text": [
      "\r",
      "\u001b[32mProgress:   3%|█▎                                       |  ETA: 0:16:23\u001b[39m"
     ]
    },
    {
     "name": "stdout",
     "output_type": "stream",
     "text": [
      "iteration 16"
     ]
    },
    {
     "name": "stderr",
     "output_type": "stream",
     "text": [
      "\r",
      "\u001b[32mProgress:   3%|█▎                                       |  ETA: 0:16:16\u001b[39m"
     ]
    },
    {
     "name": "stdout",
     "output_type": "stream",
     "text": [
      "iteration 17"
     ]
    },
    {
     "name": "stderr",
     "output_type": "stream",
     "text": [
      "\r",
      "\u001b[32mProgress:   3%|█▍                                       |  ETA: 0:16:12\u001b[39m"
     ]
    },
    {
     "name": "stdout",
     "output_type": "stream",
     "text": [
      "iteration 18"
     ]
    },
    {
     "name": "stderr",
     "output_type": "stream",
     "text": [
      "\r",
      "\u001b[32mProgress:   4%|█▌                                       |  ETA: 0:16:11\u001b[39m"
     ]
    },
    {
     "name": "stdout",
     "output_type": "stream",
     "text": [
      "iteration 19"
     ]
    },
    {
     "name": "stderr",
     "output_type": "stream",
     "text": [
      "\r",
      "\u001b[32mProgress:   4%|█▌                                       |  ETA: 0:16:00\u001b[39m"
     ]
    },
    {
     "name": "stdout",
     "output_type": "stream",
     "text": [
      "iteration 20"
     ]
    },
    {
     "name": "stderr",
     "output_type": "stream",
     "text": [
      "\r",
      "\u001b[32mProgress:   4%|█▋                                       |  ETA: 0:15:55\u001b[39m"
     ]
    },
    {
     "name": "stdout",
     "output_type": "stream",
     "text": [
      "iteration 21"
     ]
    },
    {
     "name": "stderr",
     "output_type": "stream",
     "text": [
      "\r",
      "\u001b[32mProgress:   4%|█▊                                       |  ETA: 0:15:51\u001b[39m"
     ]
    },
    {
     "name": "stdout",
     "output_type": "stream",
     "text": [
      "iteration 22"
     ]
    },
    {
     "name": "stderr",
     "output_type": "stream",
     "text": [
      "\r",
      "\u001b[32mProgress:   4%|█▊                                       |  ETA: 0:15:47\u001b[39m"
     ]
    },
    {
     "name": "stdout",
     "output_type": "stream",
     "text": [
      "iteration 23"
     ]
    },
    {
     "name": "stderr",
     "output_type": "stream",
     "text": [
      "\r",
      "\u001b[32mProgress:   5%|█▉                                       |  ETA: 0:15:39\u001b[39m"
     ]
    },
    {
     "name": "stdout",
     "output_type": "stream",
     "text": [
      "iteration 24"
     ]
    },
    {
     "name": "stderr",
     "output_type": "stream",
     "text": [
      "\r",
      "\u001b[32mProgress:   5%|██                                       |  ETA: 0:15:35\u001b[39m"
     ]
    },
    {
     "name": "stdout",
     "output_type": "stream",
     "text": [
      "iteration 25"
     ]
    },
    {
     "ename": "LoadError",
     "evalue": "InterruptException:",
     "output_type": "error",
     "traceback": [
      "InterruptException:",
      "",
      "Stacktrace:",
      "  [1] sigatomic_end",
      "    @ ./c.jl:452 [inlined]",
      "  [2] disable_sigint",
      "    @ ./c.jl:475 [inlined]",
      "  [3] __pycall!",
      "    @ ~/.julia/packages/PyCall/twYvK/src/pyfncall.jl:42 [inlined]",
      "  [4] _pycall!(ret::PyObject, o::PyObject, args::Tuple{Float64, Tuple{Vector{Float64}, Vector{Float64}, Int64}}, nargs::Int64, kw::Ptr{Nothing})",
      "    @ PyCall ~/.julia/packages/PyCall/twYvK/src/pyfncall.jl:29",
      "  [5] _pycall!(ret::PyObject, o::PyObject, args::Tuple{Float64, Tuple{Vector{Float64}, Vector{Float64}, Int64}}, kwargs::Base.Pairs{Symbol, Union{}, Tuple{}, NamedTuple{(), Tuple{}}})",
      "    @ PyCall ~/.julia/packages/PyCall/twYvK/src/pyfncall.jl:11",
      "  [6] (::PyObject)(::Float64, ::Vararg{Any}; kwargs::Base.Pairs{Symbol, Union{}, Tuple{}, NamedTuple{(), Tuple{}}})",
      "    @ PyCall ~/.julia/packages/PyCall/twYvK/src/pyfncall.jl:86",
      "  [7] (::PyObject)(::Float64, ::Vararg{Any})",
      "    @ PyCall ~/.julia/packages/PyCall/twYvK/src/pyfncall.jl:86",
      "  [8] (::var\"#psi_func#45\"{Tuple{Vector{Float64}, Vector{Float64}, Int64}})(x::Float64)",
      "    @ Main ~/Desktop/MSc Thesis/Git/ScalarField/ScalarField.jl:380",
      "  [9] SFconstraint_m(m0::Float64, x1::Float64, time::Float64, funcs::Matrix{Function})",
      "    @ Main ~/Desktop/MSc Thesis/Git/ScalarField/ScalarField.jl:0",
      " [10] rk4wrapper(f::typeof(SFconstraint_m), y0::Int64, x::Vector{Float64}, u::Float64, spl_funcs::Matrix{Function})",
      "    @ Main ~/Desktop/MSc Thesis/Git/ScalarField/ScalarField.jl:157",
      " [11] SF_RHS(data::Matrix{Float64}, t::Float64, X::Vector{Float64})",
      "    @ Main ~/Desktop/MSc Thesis/Git/ScalarField/ScalarField.jl:393",
      " [12] rungekutta4molstep(f::typeof(SF_RHS), y00::Matrix{Float64}, T::StepRangeLen{Float64, Base.TwicePrecision{Float64}, Base.TwicePrecision{Float64}, Int64}, w::Int64, ex::Int64, X::StepRangeLen{Float64, Base.TwicePrecision{Float64}, Base.TwicePrecision{Float64}, Int64})",
      "    @ Main ~/Desktop/MSc Thesis/Git/ScalarField/ScalarField.jl:119",
      " [13] macro expansion",
      "    @ ~/Desktop/MSc Thesis/Git/ScalarField/ScalarField.jl:500 [inlined]",
      " [14] macro expansion",
      "    @ ~/.julia/packages/ProgressMeter/sN2xr/src/ProgressMeter.jl:938 [inlined]",
      " [15] timeevolution(state_array::Matrix{Float64}, finaltime::Int64, dir::String, dt::Int64)",
      "    @ Main ~/Desktop/MSc Thesis/Git/ScalarField/ScalarField.jl:481",
      " [16] top-level scope",
      "    @ In[128]:2"
     ]
    }
   ],
   "source": [
    "finaltime=length(T)-1\n",
    "timeevolution(state_array,finaltime,dir,res)"
   ]
  },
  {
   "cell_type": "markdown",
   "id": "14770155",
   "metadata": {
    "papermill": {
     "duration": 0.070219,
     "end_time": "2023-03-28T20:02:20.058458",
     "exception": false,
     "start_time": "2023-03-28T20:02:19.988239",
     "status": "completed"
    },
    "tags": []
   },
   "source": [
    "## Movie of the evolution"
   ]
  },
  {
   "cell_type": "code",
   "execution_count": null,
   "id": "973cea47",
   "metadata": {},
   "outputs": [],
   "source": []
  },
  {
   "cell_type": "code",
   "execution_count": null,
   "id": "44735d2c",
   "metadata": {},
   "outputs": [],
   "source": []
  }
 ],
 "metadata": {
  "@webio": {
   "lastCommId": null,
   "lastKernelId": null
  },
  "kernelspec": {
   "display_name": "Julia 1.8.0",
   "language": "julia",
   "name": "julia-1.8"
  },
  "language_info": {
   "file_extension": ".jl",
   "mimetype": "application/julia",
   "name": "julia",
   "version": "1.8.0"
  },
  "papermill": {
   "default_parameters": {},
   "duration": 7025.507115,
   "end_time": "2023-03-28T20:03:06.430756",
   "environment_variables": {},
   "exception": null,
   "input_path": "Evolution_ScalarField.ipynb",
   "output_path": "Evolution_ScalarField.ipynb",
   "parameters": {
    "A": 0.001,
    "m": 3
   },
   "start_time": "2023-03-28T18:06:00.923641",
   "version": "2.4.0"
  }
 },
 "nbformat": 4,
 "nbformat_minor": 5
}
