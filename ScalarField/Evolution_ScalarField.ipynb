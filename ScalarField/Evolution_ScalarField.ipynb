{
 "cells": [
  {
   "cell_type": "markdown",
   "id": "d88601a8",
   "metadata": {
    "papermill": {
     "duration": null,
     "end_time": null,
     "exception": null,
     "start_time": null,
     "status": "completed"
    },
    "tags": []
   },
   "source": [
    "# Evolution of Einstein's equations"
   ]
  },
  {
   "cell_type": "markdown",
   "id": "03c607c7",
   "metadata": {
    "papermill": {
     "duration": null,
     "end_time": null,
     "exception": null,
     "start_time": null,
     "status": "completed"
    },
    "tags": []
   },
   "source": [
    "# Initial data , setting length of the domain and discretization\n"
   ]
  },
  {
   "cell_type": "code",
   "execution_count": 574,
   "id": "e3ef6d22",
   "metadata": {
    "papermill": {
     "duration": null,
     "end_time": null,
     "exception": null,
     "start_time": null,
     "status": "completed"
    },
    "tags": [
     "injected-parameters"
    ]
   },
   "outputs": [
    {
     "data": {
      "text/plain": [
       "0.1"
      ]
     },
     "execution_count": 574,
     "metadata": {},
     "output_type": "execute_result"
    }
   ],
   "source": [
    "# Parameters\n",
    "m = 3\n",
    "A = 0.1#0.1449"
   ]
  },
  {
   "cell_type": "code",
   "execution_count": 575,
   "id": "80bb0a34",
   "metadata": {
    "execution": {
     "iopub.execute_input": "2023-03-01T09:49:50.032000Z",
     "iopub.status.busy": "2023-03-01T09:49:50.032000Z",
     "iopub.status.idle": "2023-03-01T09:49:50.289000Z",
     "shell.execute_reply": "2023-03-01T09:49:50.289000Z"
    },
    "papermill": {
     "duration": null,
     "end_time": null,
     "exception": null,
     "start_time": null,
     "status": "completed"
    },
    "tags": []
   },
   "outputs": [
    {
     "name": "stdout",
     "output_type": "stream",
     "text": [
      "the final time is 4.0\n"
     ]
    }
   ],
   "source": [
    "res=m;\n",
    "N=2.0^m*100.0#2.0^m*1000.0;#2.0^m*500.0;#N=2.0^m*500.0#2.0^m*100.0;\n",
    "Xf=1.0;\n",
    "\n",
    "dx=Xf/N;\n",
    "dt=round(dx*0.4,digits=10);\n",
    "Nt=100.0*2^m*10#100.0*2^m*10\n",
    "Tf=Nt*dt; #final time\n",
    "\n",
    "println(\"the final time is \", Tf)"
   ]
  },
  {
   "cell_type": "code",
   "execution_count": 576,
   "id": "2b95e4c8",
   "metadata": {
    "execution": {
     "iopub.execute_input": "2023-03-01T09:49:50.314000Z",
     "iopub.status.busy": "2023-03-01T09:49:50.313000Z",
     "iopub.status.idle": "2023-03-01T09:49:50.325000Z",
     "shell.execute_reply": "2023-03-01T09:49:50.325000Z"
    },
    "papermill": {
     "duration": null,
     "end_time": null,
     "exception": null,
     "start_time": null,
     "status": "completed"
    },
    "tags": []
   },
   "outputs": [
    {
     "name": "stdout",
     "output_type": "stream",
     "text": [
      "800.0"
     ]
    }
   ],
   "source": [
    "print(N)"
   ]
  },
  {
   "cell_type": "code",
   "execution_count": 577,
   "id": "ad48576a",
   "metadata": {
    "execution": {
     "iopub.execute_input": "2023-03-01T09:49:50.355000Z",
     "iopub.status.busy": "2023-03-01T09:49:50.355000Z",
     "iopub.status.idle": "2023-03-01T09:49:50.371000Z",
     "shell.execute_reply": "2023-03-01T09:49:50.371000Z"
    },
    "papermill": {
     "duration": null,
     "end_time": null,
     "exception": null,
     "start_time": null,
     "status": "completed"
    },
    "tags": []
   },
   "outputs": [
    {
     "name": "stdout",
     "output_type": "stream",
     "text": [
      "dx =0.00125\n",
      "dt =0.0005\n",
      "dx/dt =2.5\n",
      "epsilon <= dx/dt * (1/2)^(2*2-1) = 0.3125\n",
      "epsilon = dx/dt * (1/2)^(2*2) = 0.15625\n",
      "epsilon = dx/dt * (1/2)^(2*3) = 0.0390625\n",
      "epsilon = dx/dt * (1/2)^(2) = 0.625\n"
     ]
    }
   ],
   "source": [
    "println(\"dx =\", dx)\n",
    "println(\"dt =\", dt)\n",
    "println(\"dx/dt =\", dx/dt)\n",
    "println(\"epsilon <= dx/dt * (1/2)^(2*2-1) = \", dx/dt*(1/2)^(2*2-1))\n",
    "\n",
    "println(\"epsilon = dx/dt * (1/2)^(2*2) = \", dx/dt*(1/2)^(2*2))\n",
    "\n",
    "println(\"epsilon = dx/dt * (1/2)^(2*3) = \", dx/dt*(1/2)^(2*3))\n",
    "\n",
    "println(\"epsilon = dx/dt * (1/2)^(2) = \", dx/dt*(1/2)^(2))"
   ]
  },
  {
   "cell_type": "code",
   "execution_count": 578,
   "id": "78fb78a5",
   "metadata": {
    "execution": {
     "iopub.execute_input": "2023-03-01T09:49:50.399000Z",
     "iopub.status.busy": "2023-03-01T09:49:50.399000Z",
     "iopub.status.idle": "2023-03-01T09:49:51.712000Z",
     "shell.execute_reply": "2023-03-01T09:49:51.712000Z"
    },
    "papermill": {
     "duration": null,
     "end_time": null,
     "exception": null,
     "start_time": null,
     "status": "completed"
    },
    "tags": []
   },
   "outputs": [
    {
     "data": {
      "text/plain": [
       "\"/home/rita13santos/Desktop/MSc Thesis/Git/ScalarField/DATA/res3\""
      ]
     },
     "execution_count": 578,
     "metadata": {},
     "output_type": "execute_result"
    }
   ],
   "source": [
    "# Setting RESOLUTION\n",
    "\n",
    "global dir = \"/home/rita13santos/Desktop/MSc Thesis/Git/ScalarField/DATA/res$res\""
   ]
  },
  {
   "cell_type": "code",
   "execution_count": 579,
   "id": "9732fbb0",
   "metadata": {
    "execution": {
     "iopub.execute_input": "2023-03-01T09:49:51.817000Z",
     "iopub.status.busy": "2023-03-01T09:49:51.817000Z",
     "iopub.status.idle": "2023-03-01T09:49:52.350000Z",
     "shell.execute_reply": "2023-03-01T09:49:52.350000Z"
    },
    "papermill": {
     "duration": null,
     "end_time": null,
     "exception": null,
     "start_time": null,
     "status": "completed"
    },
    "tags": []
   },
   "outputs": [
    {
     "data": {
      "text/plain": [
       "0.1"
      ]
     },
     "execution_count": 579,
     "metadata": {},
     "output_type": "execute_result"
    }
   ],
   "source": [
    "epsilon=0.1##0.01#0.05; #05; #02;#0.05; #0.05; #0.05;#0.05;#0.05; #dissipation strength (-1 for backwards integration)"
   ]
  },
  {
   "cell_type": "markdown",
   "id": "e2dd4335",
   "metadata": {
    "papermill": {
     "duration": null,
     "end_time": null,
     "exception": null,
     "start_time": null,
     "status": "completed"
    },
    "tags": []
   },
   "source": [
    "# Grid"
   ]
  },
  {
   "cell_type": "code",
   "execution_count": 580,
   "id": "de24fea3",
   "metadata": {
    "execution": {
     "iopub.execute_input": "2023-03-01T09:49:52.407000Z",
     "iopub.status.busy": "2023-03-01T09:49:52.407000Z",
     "iopub.status.idle": "2023-03-01T09:49:52.633000Z",
     "shell.execute_reply": "2023-03-01T09:49:52.633000Z"
    },
    "papermill": {
     "duration": null,
     "end_time": null,
     "exception": null,
     "start_time": null,
     "status": "completed"
    },
    "tags": []
   },
   "outputs": [],
   "source": [
    "ori=0.0;\n",
    "initX1 = nothing\n",
    "initX1=range(ori, stop=Xf, step=dx);"
   ]
  },
  {
   "cell_type": "code",
   "execution_count": 581,
   "id": "7376d222",
   "metadata": {
    "execution": {
     "iopub.execute_input": "2023-03-01T09:49:52.659000Z",
     "iopub.status.busy": "2023-03-01T09:49:52.659000Z",
     "iopub.status.idle": "2023-03-01T09:49:52.688000Z",
     "shell.execute_reply": "2023-03-01T09:49:52.688000Z"
    },
    "papermill": {
     "duration": null,
     "end_time": null,
     "exception": null,
     "start_time": null,
     "status": "completed"
    },
    "scrolled": true,
    "tags": []
   },
   "outputs": [
    {
     "name": "stdout",
     "output_type": "stream",
     "text": [
      "step size is  0.00125\n",
      "the time step is 0.0005\n"
     ]
    }
   ],
   "source": [
    "initX = range(round(ori-3.0*dx,digits=10), stop=Xf+3.0*dx, step=dx)\n",
    "\n",
    "L=length(initX);\n",
    "println(\"step size is  \", dx)\n",
    "\n",
    "#T=range(dt,stop=Tf,step=dt)\n",
    "T=range(0,stop=Tf,step=dt)\n",
    "println(\"the time step is \", dt)"
   ]
  },
  {
   "cell_type": "code",
   "execution_count": 582,
   "id": "bc5288f8",
   "metadata": {
    "execution": {
     "iopub.execute_input": "2023-03-01T09:49:53.003000Z",
     "iopub.status.busy": "2023-03-01T09:49:53.002000Z",
     "iopub.status.idle": "2023-03-01T09:49:53.101000Z",
     "shell.execute_reply": "2023-03-01T09:49:53.101000Z"
    },
    "papermill": {
     "duration": null,
     "end_time": null,
     "exception": null,
     "start_time": null,
     "status": "completed"
    },
    "tags": []
   },
   "outputs": [],
   "source": [
    "include(\"./ScalarField.jl\");"
   ]
  },
  {
   "cell_type": "code",
   "execution_count": 583,
   "id": "d153473f",
   "metadata": {
    "execution": {
     "iopub.execute_input": "2023-03-01T09:49:53.129000Z",
     "iopub.status.busy": "2023-03-01T09:49:53.129000Z",
     "iopub.status.idle": "2023-03-01T09:49:55.021000Z",
     "shell.execute_reply": "2023-03-01T09:49:55.021000Z"
    },
    "papermill": {
     "duration": null,
     "end_time": null,
     "exception": null,
     "start_time": null,
     "status": "completed"
    },
    "tags": []
   },
   "outputs": [],
   "source": [
    "using Interpolations"
   ]
  },
  {
   "cell_type": "markdown",
   "id": "80ab1480",
   "metadata": {
    "papermill": {
     "duration": null,
     "end_time": null,
     "exception": null,
     "start_time": null,
     "status": "completed"
    },
    "tags": []
   },
   "source": [
    "# Initial data of m β Ψ and Ψ,x"
   ]
  },
  {
   "cell_type": "code",
   "execution_count": 584,
   "id": "d0af654c",
   "metadata": {
    "execution": {
     "iopub.execute_input": "2023-03-01T09:49:55.270000Z",
     "iopub.status.busy": "2023-03-01T09:49:55.065000Z",
     "iopub.status.idle": "2023-03-01T09:50:01.597000Z",
     "shell.execute_reply": "2023-03-01T09:50:01.597000Z"
    },
    "papermill": {
     "duration": null,
     "end_time": null,
     "exception": null,
     "start_time": null,
     "status": "completed"
    },
    "tags": []
   },
   "outputs": [
    {
     "data": {
      "text/plain": [
       "1×2 Matrix{Function}:\n",
       " psi_func  derpsi_func"
      ]
     },
     "execution_count": 584,
     "metadata": {},
     "output_type": "execute_result"
    }
   ],
   "source": [
    "using PyCall   \n",
    "\n",
    "\n",
    "scipy = pyimport(\"scipy\")\n",
    "scipyinterpolate = pyimport(\"scipy.interpolate\")\n",
    "\n",
    "\n",
    "####\n",
    "\n",
    "initm=zeros(L);\n",
    "initbeta=zeros(L);\n",
    "initpsi=zeros(L);\n",
    "initderpsi=zeros(L);\n",
    "\n",
    "state_array=[initm initbeta initpsi initderpsi initX];\n",
    "\n",
    "#PSI\n",
    "r0=0.7#0.3\n",
    "sigma=0.3\n",
    "initpsi[4:L-3] = init_gaussian(initX1,r0,sigma,A)\n",
    "\n",
    "state_array[:,3] = initpsi\n",
    "state_array = ghost(state_array)\n",
    "\n",
    "#PSI,X FROM PSI\n",
    "\"\"\"for i in 4:L-3\n",
    "    initderpsi[i]=Der(state_array[:,:],i,3,initX)\n",
    "end\n",
    "\n",
    "state_array[:,4] = initderpsi\n",
    "state_array = ghost(state_array)\"\"\"\n",
    "\n",
    "#new\n",
    "initderpsi[4:L-3] = init_gaussian_der(initX1,r0,sigma,A)\n",
    "state_array[:,4] = initderpsi\n",
    "state_array=ghost(state_array)\n",
    "\n",
    "####\n",
    "\n",
    "spl_psi = scipyinterpolate.splrep(initX[4:L-3], state_array[4:L-3,3],k=4)\n",
    "psi_func(x) = scipyinterpolate.splev(x, spl_psi)\n",
    "\n",
    "spl_derpsi = scipyinterpolate.splrep(initX[4:L-3], initderpsi[4:L-3],k=4)\n",
    "derpsi_func(x) = scipyinterpolate.splev(x, spl_derpsi)\n",
    "\n",
    "funcs = [psi_func derpsi_func]"
   ]
  },
  {
   "cell_type": "code",
   "execution_count": 585,
   "id": "384597fa",
   "metadata": {
    "execution": {
     "iopub.execute_input": "2023-03-01T09:50:37.023000Z",
     "iopub.status.busy": "2023-03-01T09:50:36.468000Z",
     "iopub.status.idle": "2023-03-01T09:50:43.960000Z",
     "shell.execute_reply": "2023-03-01T09:50:43.960000Z"
    },
    "papermill": {
     "duration": null,
     "end_time": null,
     "exception": null,
     "start_time": null,
     "status": "completed"
    },
    "tags": []
   },
   "outputs": [],
   "source": [
    "#BETA\n",
    "beta0=0\n",
    "initbeta[4:L-3]=rk4wrapper(SFconstraint_beta,beta0,initX1,0,funcs)\n",
    "state_array[:,2]=initbeta;\n",
    "state_array=ghost(state_array);\n",
    "\n",
    "\n",
    "#M\n",
    "m0=0\n",
    "initm[4:L-3]=rk4wrapper(SFconstraint_m,m0,initX1,0,funcs)\n",
    "state_array[:,1]=initm;\n",
    "state_array = ghost(state_array);"
   ]
  },
  {
   "cell_type": "code",
   "execution_count": 586,
   "id": "48f10a76",
   "metadata": {},
   "outputs": [
    {
     "data": {
      "image/svg+xml": [
       "<?xml version=\"1.0\" encoding=\"utf-8\"?>\n",
       "<svg xmlns=\"http://www.w3.org/2000/svg\" xmlns:xlink=\"http://www.w3.org/1999/xlink\" width=\"600\" height=\"400\" viewBox=\"0 0 2400 1600\">\n",
       "<defs>\n",
       "  <clipPath id=\"clip040\">\n",
       "    <rect x=\"0\" y=\"0\" width=\"2400\" height=\"1600\"/>\n",
       "  </clipPath>\n",
       "</defs>\n",
       "<path clip-path=\"url(#clip040)\" d=\"M0 1600 L2400 1600 L2400 0 L0 0  Z\" fill=\"#ffffff\" fill-rule=\"evenodd\" fill-opacity=\"1\"/>\n",
       "<defs>\n",
       "  <clipPath id=\"clip041\">\n",
       "    <rect x=\"480\" y=\"0\" width=\"1681\" height=\"1600\"/>\n",
       "  </clipPath>\n",
       "</defs>\n",
       "<path clip-path=\"url(#clip040)\" d=\"M224.098 1423.18 L2352.76 1423.18 L2352.76 123.472 L224.098 123.472  Z\" fill=\"#ffffff\" fill-rule=\"evenodd\" fill-opacity=\"1\"/>\n",
       "<defs>\n",
       "  <clipPath id=\"clip042\">\n",
       "    <rect x=\"224\" y=\"123\" width=\"2130\" height=\"1301\"/>\n",
       "  </clipPath>\n",
       "</defs>\n",
       "<polyline clip-path=\"url(#clip042)\" style=\"stroke:#000000; stroke-linecap:round; stroke-linejoin:round; stroke-width:2; stroke-opacity:0.1; fill:none\" points=\"291.817,1423.18 291.817,123.472 \"/>\n",
       "<polyline clip-path=\"url(#clip042)\" style=\"stroke:#000000; stroke-linecap:round; stroke-linejoin:round; stroke-width:2; stroke-opacity:0.1; fill:none\" points=\"790.122,1423.18 790.122,123.472 \"/>\n",
       "<polyline clip-path=\"url(#clip042)\" style=\"stroke:#000000; stroke-linecap:round; stroke-linejoin:round; stroke-width:2; stroke-opacity:0.1; fill:none\" points=\"1288.43,1423.18 1288.43,123.472 \"/>\n",
       "<polyline clip-path=\"url(#clip042)\" style=\"stroke:#000000; stroke-linecap:round; stroke-linejoin:round; stroke-width:2; stroke-opacity:0.1; fill:none\" points=\"1786.73,1423.18 1786.73,123.472 \"/>\n",
       "<polyline clip-path=\"url(#clip042)\" style=\"stroke:#000000; stroke-linecap:round; stroke-linejoin:round; stroke-width:2; stroke-opacity:0.1; fill:none\" points=\"2285.04,1423.18 2285.04,123.472 \"/>\n",
       "<polyline clip-path=\"url(#clip040)\" style=\"stroke:#000000; stroke-linecap:round; stroke-linejoin:round; stroke-width:4; stroke-opacity:1; fill:none\" points=\"224.098,1423.18 2352.76,1423.18 \"/>\n",
       "<polyline clip-path=\"url(#clip040)\" style=\"stroke:#000000; stroke-linecap:round; stroke-linejoin:round; stroke-width:4; stroke-opacity:1; fill:none\" points=\"291.817,1423.18 291.817,1404.28 \"/>\n",
       "<polyline clip-path=\"url(#clip040)\" style=\"stroke:#000000; stroke-linecap:round; stroke-linejoin:round; stroke-width:4; stroke-opacity:1; fill:none\" points=\"790.122,1423.18 790.122,1404.28 \"/>\n",
       "<polyline clip-path=\"url(#clip040)\" style=\"stroke:#000000; stroke-linecap:round; stroke-linejoin:round; stroke-width:4; stroke-opacity:1; fill:none\" points=\"1288.43,1423.18 1288.43,1404.28 \"/>\n",
       "<polyline clip-path=\"url(#clip040)\" style=\"stroke:#000000; stroke-linecap:round; stroke-linejoin:round; stroke-width:4; stroke-opacity:1; fill:none\" points=\"1786.73,1423.18 1786.73,1404.28 \"/>\n",
       "<polyline clip-path=\"url(#clip040)\" style=\"stroke:#000000; stroke-linecap:round; stroke-linejoin:round; stroke-width:4; stroke-opacity:1; fill:none\" points=\"2285.04,1423.18 2285.04,1404.28 \"/>\n",
       "<path clip-path=\"url(#clip040)\" d=\"M254.121 1454.1 Q250.51 1454.1 248.681 1457.66 Q246.876 1461.2 246.876 1468.33 Q246.876 1475.44 248.681 1479.01 Q250.51 1482.55 254.121 1482.55 Q257.755 1482.55 259.561 1479.01 Q261.389 1475.44 261.389 1468.33 Q261.389 1461.2 259.561 1457.66 Q257.755 1454.1 254.121 1454.1 M254.121 1450.39 Q259.931 1450.39 262.987 1455 Q266.065 1459.58 266.065 1468.33 Q266.065 1477.06 262.987 1481.67 Q259.931 1486.25 254.121 1486.25 Q248.311 1486.25 245.232 1481.67 Q242.177 1477.06 242.177 1468.33 Q242.177 1459.58 245.232 1455 Q248.311 1450.39 254.121 1450.39 Z\" fill=\"#000000\" fill-rule=\"evenodd\" fill-opacity=\"1\" /><path clip-path=\"url(#clip040)\" d=\"M274.283 1479.7 L279.167 1479.7 L279.167 1485.58 L274.283 1485.58 L274.283 1479.7 Z\" fill=\"#000000\" fill-rule=\"evenodd\" fill-opacity=\"1\" /><path clip-path=\"url(#clip040)\" d=\"M299.352 1454.1 Q295.741 1454.1 293.912 1457.66 Q292.107 1461.2 292.107 1468.33 Q292.107 1475.44 293.912 1479.01 Q295.741 1482.55 299.352 1482.55 Q302.986 1482.55 304.792 1479.01 Q306.621 1475.44 306.621 1468.33 Q306.621 1461.2 304.792 1457.66 Q302.986 1454.1 299.352 1454.1 M299.352 1450.39 Q305.162 1450.39 308.218 1455 Q311.297 1459.58 311.297 1468.33 Q311.297 1477.06 308.218 1481.67 Q305.162 1486.25 299.352 1486.25 Q293.542 1486.25 290.463 1481.67 Q287.408 1477.06 287.408 1468.33 Q287.408 1459.58 290.463 1455 Q293.542 1450.39 299.352 1450.39 Z\" fill=\"#000000\" fill-rule=\"evenodd\" fill-opacity=\"1\" /><path clip-path=\"url(#clip040)\" d=\"M329.514 1454.1 Q325.903 1454.1 324.074 1457.66 Q322.269 1461.2 322.269 1468.33 Q322.269 1475.44 324.074 1479.01 Q325.903 1482.55 329.514 1482.55 Q333.148 1482.55 334.954 1479.01 Q336.783 1475.44 336.783 1468.33 Q336.783 1461.2 334.954 1457.66 Q333.148 1454.1 329.514 1454.1 M329.514 1450.39 Q335.324 1450.39 338.38 1455 Q341.458 1459.58 341.458 1468.33 Q341.458 1477.06 338.38 1481.67 Q335.324 1486.25 329.514 1486.25 Q323.704 1486.25 320.625 1481.67 Q317.57 1477.06 317.57 1468.33 Q317.57 1459.58 320.625 1455 Q323.704 1450.39 329.514 1450.39 Z\" fill=\"#000000\" fill-rule=\"evenodd\" fill-opacity=\"1\" /><path clip-path=\"url(#clip040)\" d=\"M752.923 1454.1 Q749.312 1454.1 747.484 1457.66 Q745.678 1461.2 745.678 1468.33 Q745.678 1475.44 747.484 1479.01 Q749.312 1482.55 752.923 1482.55 Q756.558 1482.55 758.363 1479.01 Q760.192 1475.44 760.192 1468.33 Q760.192 1461.2 758.363 1457.66 Q756.558 1454.1 752.923 1454.1 M752.923 1450.39 Q758.733 1450.39 761.789 1455 Q764.868 1459.58 764.868 1468.33 Q764.868 1477.06 761.789 1481.67 Q758.733 1486.25 752.923 1486.25 Q747.113 1486.25 744.034 1481.67 Q740.979 1477.06 740.979 1468.33 Q740.979 1459.58 744.034 1455 Q747.113 1450.39 752.923 1450.39 Z\" fill=\"#000000\" fill-rule=\"evenodd\" fill-opacity=\"1\" /><path clip-path=\"url(#clip040)\" d=\"M773.085 1479.7 L777.969 1479.7 L777.969 1485.58 L773.085 1485.58 L773.085 1479.7 Z\" fill=\"#000000\" fill-rule=\"evenodd\" fill-opacity=\"1\" /><path clip-path=\"url(#clip040)\" d=\"M792.182 1481.64 L808.502 1481.64 L808.502 1485.58 L786.557 1485.58 L786.557 1481.64 Q789.219 1478.89 793.803 1474.26 Q798.409 1469.61 799.59 1468.27 Q801.835 1465.74 802.715 1464.01 Q803.617 1462.25 803.617 1460.56 Q803.617 1457.8 801.673 1456.07 Q799.752 1454.33 796.65 1454.33 Q794.451 1454.33 791.997 1455.09 Q789.567 1455.86 786.789 1457.41 L786.789 1452.69 Q789.613 1451.55 792.067 1450.97 Q794.52 1450.39 796.557 1450.39 Q801.928 1450.39 805.122 1453.08 Q808.317 1455.77 808.317 1460.26 Q808.317 1462.39 807.506 1464.31 Q806.719 1466.2 804.613 1468.8 Q804.034 1469.47 800.932 1472.69 Q797.83 1475.88 792.182 1481.64 Z\" fill=\"#000000\" fill-rule=\"evenodd\" fill-opacity=\"1\" /><path clip-path=\"url(#clip040)\" d=\"M818.363 1451.02 L836.719 1451.02 L836.719 1454.96 L822.645 1454.96 L822.645 1463.43 Q823.664 1463.08 824.682 1462.92 Q825.701 1462.73 826.719 1462.73 Q832.506 1462.73 835.886 1465.9 Q839.265 1469.08 839.265 1474.49 Q839.265 1480.07 835.793 1483.17 Q832.321 1486.25 826.002 1486.25 Q823.826 1486.25 821.557 1485.88 Q819.312 1485.51 816.904 1484.77 L816.904 1480.07 Q818.988 1481.2 821.21 1481.76 Q823.432 1482.32 825.909 1482.32 Q829.914 1482.32 832.252 1480.21 Q834.59 1478.1 834.59 1474.49 Q834.59 1470.88 832.252 1468.77 Q829.914 1466.67 825.909 1466.67 Q824.034 1466.67 822.159 1467.08 Q820.307 1467.5 818.363 1468.38 L818.363 1451.02 Z\" fill=\"#000000\" fill-rule=\"evenodd\" fill-opacity=\"1\" /><path clip-path=\"url(#clip040)\" d=\"M1250.73 1454.1 Q1247.12 1454.1 1245.29 1457.66 Q1243.49 1461.2 1243.49 1468.33 Q1243.49 1475.44 1245.29 1479.01 Q1247.12 1482.55 1250.73 1482.55 Q1254.36 1482.55 1256.17 1479.01 Q1258 1475.44 1258 1468.33 Q1258 1461.2 1256.17 1457.66 Q1254.36 1454.1 1250.73 1454.1 M1250.73 1450.39 Q1256.54 1450.39 1259.6 1455 Q1262.67 1459.58 1262.67 1468.33 Q1262.67 1477.06 1259.6 1481.67 Q1256.54 1486.25 1250.73 1486.25 Q1244.92 1486.25 1241.84 1481.67 Q1238.79 1477.06 1238.79 1468.33 Q1238.79 1459.58 1241.84 1455 Q1244.92 1450.39 1250.73 1450.39 Z\" fill=\"#000000\" fill-rule=\"evenodd\" fill-opacity=\"1\" /><path clip-path=\"url(#clip040)\" d=\"M1270.89 1479.7 L1275.78 1479.7 L1275.78 1485.58 L1270.89 1485.58 L1270.89 1479.7 Z\" fill=\"#000000\" fill-rule=\"evenodd\" fill-opacity=\"1\" /><path clip-path=\"url(#clip040)\" d=\"M1286.01 1451.02 L1304.36 1451.02 L1304.36 1454.96 L1290.29 1454.96 L1290.29 1463.43 Q1291.31 1463.08 1292.33 1462.92 Q1293.35 1462.73 1294.36 1462.73 Q1300.15 1462.73 1303.53 1465.9 Q1306.91 1469.08 1306.91 1474.49 Q1306.91 1480.07 1303.44 1483.17 Q1299.97 1486.25 1293.65 1486.25 Q1291.47 1486.25 1289.2 1485.88 Q1286.96 1485.51 1284.55 1484.77 L1284.55 1480.07 Q1286.63 1481.2 1288.86 1481.76 Q1291.08 1482.32 1293.55 1482.32 Q1297.56 1482.32 1299.9 1480.21 Q1302.23 1478.1 1302.23 1474.49 Q1302.23 1470.88 1299.9 1468.77 Q1297.56 1466.67 1293.55 1466.67 Q1291.68 1466.67 1289.8 1467.08 Q1287.95 1467.5 1286.01 1468.38 L1286.01 1451.02 Z\" fill=\"#000000\" fill-rule=\"evenodd\" fill-opacity=\"1\" /><path clip-path=\"url(#clip040)\" d=\"M1326.12 1454.1 Q1322.51 1454.1 1320.68 1457.66 Q1318.88 1461.2 1318.88 1468.33 Q1318.88 1475.44 1320.68 1479.01 Q1322.51 1482.55 1326.12 1482.55 Q1329.76 1482.55 1331.56 1479.01 Q1333.39 1475.44 1333.39 1468.33 Q1333.39 1461.2 1331.56 1457.66 Q1329.76 1454.1 1326.12 1454.1 M1326.12 1450.39 Q1331.93 1450.39 1334.99 1455 Q1338.07 1459.58 1338.07 1468.33 Q1338.07 1477.06 1334.99 1481.67 Q1331.93 1486.25 1326.12 1486.25 Q1320.31 1486.25 1317.23 1481.67 Q1314.18 1477.06 1314.18 1468.33 Q1314.18 1459.58 1317.23 1455 Q1320.31 1450.39 1326.12 1450.39 Z\" fill=\"#000000\" fill-rule=\"evenodd\" fill-opacity=\"1\" /><path clip-path=\"url(#clip040)\" d=\"M1749.53 1454.1 Q1745.92 1454.1 1744.09 1457.66 Q1742.29 1461.2 1742.29 1468.33 Q1742.29 1475.44 1744.09 1479.01 Q1745.92 1482.55 1749.53 1482.55 Q1753.17 1482.55 1754.97 1479.01 Q1756.8 1475.44 1756.8 1468.33 Q1756.8 1461.2 1754.97 1457.66 Q1753.17 1454.1 1749.53 1454.1 M1749.53 1450.39 Q1755.34 1450.39 1758.4 1455 Q1761.48 1459.58 1761.48 1468.33 Q1761.48 1477.06 1758.4 1481.67 Q1755.34 1486.25 1749.53 1486.25 Q1743.72 1486.25 1740.64 1481.67 Q1737.59 1477.06 1737.59 1468.33 Q1737.59 1459.58 1740.64 1455 Q1743.72 1450.39 1749.53 1450.39 Z\" fill=\"#000000\" fill-rule=\"evenodd\" fill-opacity=\"1\" /><path clip-path=\"url(#clip040)\" d=\"M1769.69 1479.7 L1774.58 1479.7 L1774.58 1485.58 L1769.69 1485.58 L1769.69 1479.7 Z\" fill=\"#000000\" fill-rule=\"evenodd\" fill-opacity=\"1\" /><path clip-path=\"url(#clip040)\" d=\"M1783.58 1451.02 L1805.81 1451.02 L1805.81 1453.01 L1793.26 1485.58 L1788.38 1485.58 L1800.18 1454.96 L1783.58 1454.96 L1783.58 1451.02 Z\" fill=\"#000000\" fill-rule=\"evenodd\" fill-opacity=\"1\" /><path clip-path=\"url(#clip040)\" d=\"M1814.97 1451.02 L1833.33 1451.02 L1833.33 1454.96 L1819.25 1454.96 L1819.25 1463.43 Q1820.27 1463.08 1821.29 1462.92 Q1822.31 1462.73 1823.33 1462.73 Q1829.12 1462.73 1832.5 1465.9 Q1835.87 1469.08 1835.87 1474.49 Q1835.87 1480.07 1832.4 1483.17 Q1828.93 1486.25 1822.61 1486.25 Q1820.44 1486.25 1818.17 1485.88 Q1815.92 1485.51 1813.51 1484.77 L1813.51 1480.07 Q1815.6 1481.2 1817.82 1481.76 Q1820.04 1482.32 1822.52 1482.32 Q1826.52 1482.32 1828.86 1480.21 Q1831.2 1478.1 1831.2 1474.49 Q1831.2 1470.88 1828.86 1468.77 Q1826.52 1466.67 1822.52 1466.67 Q1820.64 1466.67 1818.77 1467.08 Q1816.92 1467.5 1814.97 1468.38 L1814.97 1451.02 Z\" fill=\"#000000\" fill-rule=\"evenodd\" fill-opacity=\"1\" /><path clip-path=\"url(#clip040)\" d=\"M2237.11 1481.64 L2244.75 1481.64 L2244.75 1455.28 L2236.44 1456.95 L2236.44 1452.69 L2244.7 1451.02 L2249.38 1451.02 L2249.38 1481.64 L2257.02 1481.64 L2257.02 1485.58 L2237.11 1485.58 L2237.11 1481.64 Z\" fill=\"#000000\" fill-rule=\"evenodd\" fill-opacity=\"1\" /><path clip-path=\"url(#clip040)\" d=\"M2266.46 1479.7 L2271.34 1479.7 L2271.34 1485.58 L2266.46 1485.58 L2266.46 1479.7 Z\" fill=\"#000000\" fill-rule=\"evenodd\" fill-opacity=\"1\" /><path clip-path=\"url(#clip040)\" d=\"M2291.53 1454.1 Q2287.92 1454.1 2286.09 1457.66 Q2284.28 1461.2 2284.28 1468.33 Q2284.28 1475.44 2286.09 1479.01 Q2287.92 1482.55 2291.53 1482.55 Q2295.16 1482.55 2296.97 1479.01 Q2298.8 1475.44 2298.8 1468.33 Q2298.8 1461.2 2296.97 1457.66 Q2295.16 1454.1 2291.53 1454.1 M2291.53 1450.39 Q2297.34 1450.39 2300.4 1455 Q2303.47 1459.58 2303.47 1468.33 Q2303.47 1477.06 2300.4 1481.67 Q2297.34 1486.25 2291.53 1486.25 Q2285.72 1486.25 2282.64 1481.67 Q2279.58 1477.06 2279.58 1468.33 Q2279.58 1459.58 2282.64 1455 Q2285.72 1450.39 2291.53 1450.39 Z\" fill=\"#000000\" fill-rule=\"evenodd\" fill-opacity=\"1\" /><path clip-path=\"url(#clip040)\" d=\"M2321.69 1454.1 Q2318.08 1454.1 2316.25 1457.66 Q2314.45 1461.2 2314.45 1468.33 Q2314.45 1475.44 2316.25 1479.01 Q2318.08 1482.55 2321.69 1482.55 Q2325.33 1482.55 2327.13 1479.01 Q2328.96 1475.44 2328.96 1468.33 Q2328.96 1461.2 2327.13 1457.66 Q2325.33 1454.1 2321.69 1454.1 M2321.69 1450.39 Q2327.5 1450.39 2330.56 1455 Q2333.64 1459.58 2333.64 1468.33 Q2333.64 1477.06 2330.56 1481.67 Q2327.5 1486.25 2321.69 1486.25 Q2315.88 1486.25 2312.8 1481.67 Q2309.75 1477.06 2309.75 1468.33 Q2309.75 1459.58 2312.8 1455 Q2315.88 1450.39 2321.69 1450.39 Z\" fill=\"#000000\" fill-rule=\"evenodd\" fill-opacity=\"1\" /><path clip-path=\"url(#clip040)\" d=\"M1305.04 1532.4 L1292.15 1549.74 L1305.71 1568.04 L1298.8 1568.04 L1288.43 1554.04 L1278.05 1568.04 L1271.14 1568.04 L1284.99 1549.39 L1272.32 1532.4 L1279.23 1532.4 L1288.68 1545.1 L1298.13 1532.4 L1305.04 1532.4 Z\" fill=\"#000000\" fill-rule=\"evenodd\" fill-opacity=\"1\" /><polyline clip-path=\"url(#clip042)\" style=\"stroke:#000000; stroke-linecap:round; stroke-linejoin:round; stroke-width:2; stroke-opacity:0.1; fill:none\" points=\"224.098,1244.6 2352.76,1244.6 \"/>\n",
       "<polyline clip-path=\"url(#clip042)\" style=\"stroke:#000000; stroke-linecap:round; stroke-linejoin:round; stroke-width:2; stroke-opacity:0.1; fill:none\" points=\"224.098,952.82 2352.76,952.82 \"/>\n",
       "<polyline clip-path=\"url(#clip042)\" style=\"stroke:#000000; stroke-linecap:round; stroke-linejoin:round; stroke-width:2; stroke-opacity:0.1; fill:none\" points=\"224.098,661.045 2352.76,661.045 \"/>\n",
       "<polyline clip-path=\"url(#clip042)\" style=\"stroke:#000000; stroke-linecap:round; stroke-linejoin:round; stroke-width:2; stroke-opacity:0.1; fill:none\" points=\"224.098,369.269 2352.76,369.269 \"/>\n",
       "<polyline clip-path=\"url(#clip040)\" style=\"stroke:#000000; stroke-linecap:round; stroke-linejoin:round; stroke-width:4; stroke-opacity:1; fill:none\" points=\"224.098,1423.18 224.098,123.472 \"/>\n",
       "<polyline clip-path=\"url(#clip040)\" style=\"stroke:#000000; stroke-linecap:round; stroke-linejoin:round; stroke-width:4; stroke-opacity:1; fill:none\" points=\"224.098,1244.6 242.996,1244.6 \"/>\n",
       "<polyline clip-path=\"url(#clip040)\" style=\"stroke:#000000; stroke-linecap:round; stroke-linejoin:round; stroke-width:4; stroke-opacity:1; fill:none\" points=\"224.098,952.82 242.996,952.82 \"/>\n",
       "<polyline clip-path=\"url(#clip040)\" style=\"stroke:#000000; stroke-linecap:round; stroke-linejoin:round; stroke-width:4; stroke-opacity:1; fill:none\" points=\"224.098,661.045 242.996,661.045 \"/>\n",
       "<polyline clip-path=\"url(#clip040)\" style=\"stroke:#000000; stroke-linecap:round; stroke-linejoin:round; stroke-width:4; stroke-opacity:1; fill:none\" points=\"224.098,369.269 242.996,369.269 \"/>\n",
       "<path clip-path=\"url(#clip040)\" d=\"M50.9921 1245.05 L80.6679 1245.05 L80.6679 1248.98 L50.9921 1248.98 L50.9921 1245.05 Z\" fill=\"#000000\" fill-rule=\"evenodd\" fill-opacity=\"1\" /><path clip-path=\"url(#clip040)\" d=\"M100.76 1230.39 Q97.1493 1230.39 95.3206 1233.96 Q93.515 1237.5 93.515 1244.63 Q93.515 1251.74 95.3206 1255.3 Q97.1493 1258.84 100.76 1258.84 Q104.395 1258.84 106.2 1255.3 Q108.029 1251.74 108.029 1244.63 Q108.029 1237.5 106.2 1233.96 Q104.395 1230.39 100.76 1230.39 M100.76 1226.69 Q106.571 1226.69 109.626 1231.3 Q112.705 1235.88 112.705 1244.63 Q112.705 1253.36 109.626 1257.96 Q106.571 1262.55 100.76 1262.55 Q94.9502 1262.55 91.8715 1257.96 Q88.816 1253.36 88.816 1244.63 Q88.816 1235.88 91.8715 1231.3 Q94.9502 1226.69 100.76 1226.69 Z\" fill=\"#000000\" fill-rule=\"evenodd\" fill-opacity=\"1\" /><path clip-path=\"url(#clip040)\" d=\"M120.922 1256 L125.807 1256 L125.807 1261.88 L120.922 1261.88 L120.922 1256 Z\" fill=\"#000000\" fill-rule=\"evenodd\" fill-opacity=\"1\" /><path clip-path=\"url(#clip040)\" d=\"M136.038 1227.32 L154.394 1227.32 L154.394 1231.25 L140.32 1231.25 L140.32 1239.72 Q141.339 1239.38 142.357 1239.21 Q143.376 1239.03 144.394 1239.03 Q150.181 1239.03 153.561 1242.2 Q156.941 1245.37 156.941 1250.79 Q156.941 1256.37 153.468 1259.47 Q149.996 1262.55 143.677 1262.55 Q141.501 1262.55 139.232 1262.18 Q136.987 1261.81 134.58 1261.06 L134.58 1256.37 Q136.663 1257.5 138.885 1258.06 Q141.107 1258.61 143.584 1258.61 Q147.589 1258.61 149.927 1256.5 Q152.265 1254.4 152.265 1250.79 Q152.265 1247.18 149.927 1245.07 Q147.589 1242.96 143.584 1242.96 Q141.709 1242.96 139.834 1243.38 Q137.982 1243.8 136.038 1244.68 L136.038 1227.32 Z\" fill=\"#000000\" fill-rule=\"evenodd\" fill-opacity=\"1\" /><path clip-path=\"url(#clip040)\" d=\"M176.153 1230.39 Q172.542 1230.39 170.714 1233.96 Q168.908 1237.5 168.908 1244.63 Q168.908 1251.74 170.714 1255.3 Q172.542 1258.84 176.153 1258.84 Q179.788 1258.84 181.593 1255.3 Q183.422 1251.74 183.422 1244.63 Q183.422 1237.5 181.593 1233.96 Q179.788 1230.39 176.153 1230.39 M176.153 1226.69 Q181.964 1226.69 185.019 1231.3 Q188.098 1235.88 188.098 1244.63 Q188.098 1253.36 185.019 1257.96 Q181.964 1262.55 176.153 1262.55 Q170.343 1262.55 167.265 1257.96 Q164.209 1253.36 164.209 1244.63 Q164.209 1235.88 167.265 1231.3 Q170.343 1226.69 176.153 1226.69 Z\" fill=\"#000000\" fill-rule=\"evenodd\" fill-opacity=\"1\" /><path clip-path=\"url(#clip040)\" d=\"M51.9875 953.271 L81.6633 953.271 L81.6633 957.206 L51.9875 957.206 L51.9875 953.271 Z\" fill=\"#000000\" fill-rule=\"evenodd\" fill-opacity=\"1\" /><path clip-path=\"url(#clip040)\" d=\"M101.756 938.619 Q98.1447 938.619 96.316 942.183 Q94.5104 945.725 94.5104 952.855 Q94.5104 959.961 96.316 963.526 Q98.1447 967.067 101.756 967.067 Q105.39 967.067 107.196 963.526 Q109.024 959.961 109.024 952.855 Q109.024 945.725 107.196 942.183 Q105.39 938.619 101.756 938.619 M101.756 934.915 Q107.566 934.915 110.621 939.521 Q113.7 944.105 113.7 952.855 Q113.7 961.581 110.621 966.188 Q107.566 970.771 101.756 970.771 Q95.9456 970.771 92.8669 966.188 Q89.8114 961.581 89.8114 952.855 Q89.8114 944.105 92.8669 939.521 Q95.9456 934.915 101.756 934.915 Z\" fill=\"#000000\" fill-rule=\"evenodd\" fill-opacity=\"1\" /><path clip-path=\"url(#clip040)\" d=\"M121.918 964.22 L126.802 964.22 L126.802 970.1 L121.918 970.1 L121.918 964.22 Z\" fill=\"#000000\" fill-rule=\"evenodd\" fill-opacity=\"1\" /><path clip-path=\"url(#clip040)\" d=\"M141.015 966.165 L157.334 966.165 L157.334 970.1 L135.39 970.1 L135.39 966.165 Q138.052 963.41 142.635 958.78 Q147.242 954.128 148.422 952.785 Q150.668 950.262 151.547 948.526 Q152.45 946.767 152.45 945.077 Q152.45 942.322 150.505 940.586 Q148.584 938.85 145.482 938.85 Q143.283 938.85 140.83 939.614 Q138.399 940.378 135.621 941.929 L135.621 937.207 Q138.445 936.072 140.899 935.494 Q143.353 934.915 145.39 934.915 Q150.76 934.915 153.955 937.6 Q157.149 940.285 157.149 944.776 Q157.149 946.906 156.339 948.827 Q155.552 950.725 153.445 953.318 Q152.867 953.989 149.765 957.206 Q146.663 960.401 141.015 966.165 Z\" fill=\"#000000\" fill-rule=\"evenodd\" fill-opacity=\"1\" /><path clip-path=\"url(#clip040)\" d=\"M167.195 935.54 L185.552 935.54 L185.552 939.475 L171.478 939.475 L171.478 947.947 Q172.496 947.6 173.515 947.438 Q174.533 947.253 175.552 947.253 Q181.339 947.253 184.718 950.424 Q188.098 953.595 188.098 959.012 Q188.098 964.591 184.626 967.692 Q181.153 970.771 174.834 970.771 Q172.658 970.771 170.39 970.401 Q168.144 970.03 165.737 969.29 L165.737 964.591 Q167.82 965.725 170.042 966.28 Q172.265 966.836 174.741 966.836 Q178.746 966.836 181.084 964.73 Q183.422 962.623 183.422 959.012 Q183.422 955.401 181.084 953.294 Q178.746 951.188 174.741 951.188 Q172.866 951.188 170.991 951.605 Q169.14 952.021 167.195 952.901 L167.195 935.54 Z\" fill=\"#000000\" fill-rule=\"evenodd\" fill-opacity=\"1\" /><path clip-path=\"url(#clip040)\" d=\"M100.76 646.843 Q97.1493 646.843 95.3206 650.408 Q93.515 653.95 93.515 661.079 Q93.515 668.186 95.3206 671.751 Q97.1493 675.292 100.76 675.292 Q104.395 675.292 106.2 671.751 Q108.029 668.186 108.029 661.079 Q108.029 653.95 106.2 650.408 Q104.395 646.843 100.76 646.843 M100.76 643.14 Q106.571 643.14 109.626 647.746 Q112.705 652.329 112.705 661.079 Q112.705 669.806 109.626 674.413 Q106.571 678.996 100.76 678.996 Q94.9502 678.996 91.8715 674.413 Q88.816 669.806 88.816 661.079 Q88.816 652.329 91.8715 647.746 Q94.9502 643.14 100.76 643.14 Z\" fill=\"#000000\" fill-rule=\"evenodd\" fill-opacity=\"1\" /><path clip-path=\"url(#clip040)\" d=\"M120.922 672.445 L125.807 672.445 L125.807 678.325 L120.922 678.325 L120.922 672.445 Z\" fill=\"#000000\" fill-rule=\"evenodd\" fill-opacity=\"1\" /><path clip-path=\"url(#clip040)\" d=\"M145.992 646.843 Q142.381 646.843 140.552 650.408 Q138.746 653.95 138.746 661.079 Q138.746 668.186 140.552 671.751 Q142.381 675.292 145.992 675.292 Q149.626 675.292 151.431 671.751 Q153.26 668.186 153.26 661.079 Q153.26 653.95 151.431 650.408 Q149.626 646.843 145.992 646.843 M145.992 643.14 Q151.802 643.14 154.857 647.746 Q157.936 652.329 157.936 661.079 Q157.936 669.806 154.857 674.413 Q151.802 678.996 145.992 678.996 Q140.181 678.996 137.103 674.413 Q134.047 669.806 134.047 661.079 Q134.047 652.329 137.103 647.746 Q140.181 643.14 145.992 643.14 Z\" fill=\"#000000\" fill-rule=\"evenodd\" fill-opacity=\"1\" /><path clip-path=\"url(#clip040)\" d=\"M176.153 646.843 Q172.542 646.843 170.714 650.408 Q168.908 653.95 168.908 661.079 Q168.908 668.186 170.714 671.751 Q172.542 675.292 176.153 675.292 Q179.788 675.292 181.593 671.751 Q183.422 668.186 183.422 661.079 Q183.422 653.95 181.593 650.408 Q179.788 646.843 176.153 646.843 M176.153 643.14 Q181.964 643.14 185.019 647.746 Q188.098 652.329 188.098 661.079 Q188.098 669.806 185.019 674.413 Q181.964 678.996 176.153 678.996 Q170.343 678.996 167.265 674.413 Q164.209 669.806 164.209 661.079 Q164.209 652.329 167.265 647.746 Q170.343 643.14 176.153 643.14 Z\" fill=\"#000000\" fill-rule=\"evenodd\" fill-opacity=\"1\" /><path clip-path=\"url(#clip040)\" d=\"M101.756 355.068 Q98.1447 355.068 96.316 358.633 Q94.5104 362.175 94.5104 369.304 Q94.5104 376.411 96.316 379.975 Q98.1447 383.517 101.756 383.517 Q105.39 383.517 107.196 379.975 Q109.024 376.411 109.024 369.304 Q109.024 362.175 107.196 358.633 Q105.39 355.068 101.756 355.068 M101.756 351.364 Q107.566 351.364 110.621 355.971 Q113.7 360.554 113.7 369.304 Q113.7 378.031 110.621 382.637 Q107.566 387.221 101.756 387.221 Q95.9456 387.221 92.8669 382.637 Q89.8114 378.031 89.8114 369.304 Q89.8114 360.554 92.8669 355.971 Q95.9456 351.364 101.756 351.364 Z\" fill=\"#000000\" fill-rule=\"evenodd\" fill-opacity=\"1\" /><path clip-path=\"url(#clip040)\" d=\"M121.918 380.67 L126.802 380.67 L126.802 386.549 L121.918 386.549 L121.918 380.67 Z\" fill=\"#000000\" fill-rule=\"evenodd\" fill-opacity=\"1\" /><path clip-path=\"url(#clip040)\" d=\"M141.015 382.614 L157.334 382.614 L157.334 386.549 L135.39 386.549 L135.39 382.614 Q138.052 379.86 142.635 375.23 Q147.242 370.577 148.422 369.235 Q150.668 366.712 151.547 364.976 Q152.45 363.216 152.45 361.526 Q152.45 358.772 150.505 357.036 Q148.584 355.3 145.482 355.3 Q143.283 355.3 140.83 356.064 Q138.399 356.827 135.621 358.378 L135.621 353.656 Q138.445 352.522 140.899 351.943 Q143.353 351.364 145.39 351.364 Q150.76 351.364 153.955 354.05 Q157.149 356.735 157.149 361.226 Q157.149 363.355 156.339 365.276 Q155.552 367.175 153.445 369.767 Q152.867 370.438 149.765 373.656 Q146.663 376.85 141.015 382.614 Z\" fill=\"#000000\" fill-rule=\"evenodd\" fill-opacity=\"1\" /><path clip-path=\"url(#clip040)\" d=\"M167.195 351.989 L185.552 351.989 L185.552 355.925 L171.478 355.925 L171.478 364.397 Q172.496 364.05 173.515 363.888 Q174.533 363.702 175.552 363.702 Q181.339 363.702 184.718 366.874 Q188.098 370.045 188.098 375.462 Q188.098 381.04 184.626 384.142 Q181.153 387.221 174.834 387.221 Q172.658 387.221 170.39 386.85 Q168.144 386.48 165.737 385.739 L165.737 381.04 Q167.82 382.174 170.042 382.73 Q172.265 383.286 174.741 383.286 Q178.746 383.286 181.084 381.179 Q183.422 379.073 183.422 375.462 Q183.422 371.85 181.084 369.744 Q178.746 367.638 174.741 367.638 Q172.866 367.638 170.991 368.054 Q169.14 368.471 167.195 369.35 L167.195 351.989 Z\" fill=\"#000000\" fill-rule=\"evenodd\" fill-opacity=\"1\" /><path clip-path=\"url(#clip040)\" d=\"M1069.25 12.096 L1077.44 12.096 L1077.44 72.576 L1069.25 72.576 L1069.25 12.096 Z\" fill=\"#000000\" fill-rule=\"evenodd\" fill-opacity=\"1\" /><path clip-path=\"url(#clip040)\" d=\"M1131.11 45.1919 L1131.11 72.576 L1123.66 72.576 L1123.66 45.4349 Q1123.66 38.994 1121.14 35.7938 Q1118.63 32.5936 1113.61 32.5936 Q1107.57 32.5936 1104.09 36.4419 Q1100.61 40.2903 1100.61 46.9338 L1100.61 72.576 L1093.11 72.576 L1093.11 27.2059 L1100.61 27.2059 L1100.61 34.2544 Q1103.28 30.163 1106.89 28.1376 Q1110.53 26.1121 1115.27 26.1121 Q1123.09 26.1121 1127.1 30.9732 Q1131.11 35.7938 1131.11 45.1919 Z\" fill=\"#000000\" fill-rule=\"evenodd\" fill-opacity=\"1\" /><path clip-path=\"url(#clip040)\" d=\"M1145.98 27.2059 L1153.43 27.2059 L1153.43 72.576 L1145.98 72.576 L1145.98 27.2059 M1145.98 9.54393 L1153.43 9.54393 L1153.43 18.9825 L1145.98 18.9825 L1145.98 9.54393 Z\" fill=\"#000000\" fill-rule=\"evenodd\" fill-opacity=\"1\" /><path clip-path=\"url(#clip040)\" d=\"M1176.4 14.324 L1176.4 27.2059 L1191.75 27.2059 L1191.75 32.9987 L1176.4 32.9987 L1176.4 57.6282 Q1176.4 63.1779 1177.9 64.7578 Q1179.44 66.3376 1184.1 66.3376 L1191.75 66.3376 L1191.75 72.576 L1184.1 72.576 Q1175.47 72.576 1172.19 69.3758 Q1168.9 66.1351 1168.9 57.6282 L1168.9 32.9987 L1163.44 32.9987 L1163.44 27.2059 L1168.9 27.2059 L1168.9 14.324 L1176.4 14.324 Z\" fill=\"#000000\" fill-rule=\"evenodd\" fill-opacity=\"1\" /><path clip-path=\"url(#clip040)\" d=\"M1201.56 27.2059 L1209.01 27.2059 L1209.01 72.576 L1201.56 72.576 L1201.56 27.2059 M1201.56 9.54393 L1209.01 9.54393 L1209.01 18.9825 L1201.56 18.9825 L1201.56 9.54393 Z\" fill=\"#000000\" fill-rule=\"evenodd\" fill-opacity=\"1\" /><path clip-path=\"url(#clip040)\" d=\"M1245.22 49.7694 Q1236.19 49.7694 1232.71 51.8354 Q1229.22 53.9013 1229.22 58.8839 Q1229.22 62.8538 1231.82 65.2034 Q1234.45 67.5124 1238.95 67.5124 Q1245.14 67.5124 1248.87 63.1374 Q1252.64 58.7219 1252.64 51.4303 L1252.64 49.7694 L1245.22 49.7694 M1260.09 46.6907 L1260.09 72.576 L1252.64 72.576 L1252.64 65.6895 Q1250.09 69.8214 1246.28 71.8063 Q1242.47 73.7508 1236.96 73.7508 Q1229.99 73.7508 1225.86 69.8619 Q1221.77 65.9325 1221.77 59.3701 Q1221.77 51.7138 1226.87 47.825 Q1232.02 43.9361 1242.19 43.9361 L1252.64 43.9361 L1252.64 43.2069 Q1252.64 38.0623 1249.23 35.2672 Q1245.87 32.4315 1239.76 32.4315 Q1235.87 32.4315 1232.18 33.3632 Q1228.49 34.295 1225.09 36.1584 L1225.09 29.2718 Q1229.18 27.692 1233.03 26.9223 Q1236.88 26.1121 1240.52 26.1121 Q1250.37 26.1121 1255.23 31.2163 Q1260.09 36.3204 1260.09 46.6907 Z\" fill=\"#000000\" fill-rule=\"evenodd\" fill-opacity=\"1\" /><path clip-path=\"url(#clip040)\" d=\"M1275.44 9.54393 L1282.9 9.54393 L1282.9 72.576 L1275.44 72.576 L1275.44 9.54393 Z\" fill=\"#000000\" fill-rule=\"evenodd\" fill-opacity=\"1\" /><path clip-path=\"url(#clip040)\" d=\"M1333.37 18.8205 L1333.37 65.8515 L1343.26 65.8515 Q1355.77 65.8515 1361.57 60.1802 Q1367.4 54.509 1367.4 42.2752 Q1367.4 30.1225 1361.57 24.4918 Q1355.77 18.8205 1343.26 18.8205 L1333.37 18.8205 M1325.19 12.096 L1342 12.096 Q1359.58 12.096 1367.8 19.4281 Q1376.03 26.7198 1376.03 42.2752 Q1376.03 57.9117 1367.76 65.2439 Q1359.5 72.576 1342 72.576 L1325.19 72.576 L1325.19 12.096 Z\" fill=\"#000000\" fill-rule=\"evenodd\" fill-opacity=\"1\" /><path clip-path=\"url(#clip040)\" d=\"M1409.37 49.7694 Q1400.33 49.7694 1396.85 51.8354 Q1393.37 53.9013 1393.37 58.8839 Q1393.37 62.8538 1395.96 65.2034 Q1398.59 67.5124 1403.09 67.5124 Q1409.29 67.5124 1413.01 63.1374 Q1416.78 58.7219 1416.78 51.4303 L1416.78 49.7694 L1409.37 49.7694 M1424.23 46.6907 L1424.23 72.576 L1416.78 72.576 L1416.78 65.6895 Q1414.23 69.8214 1410.42 71.8063 Q1406.61 73.7508 1401.1 73.7508 Q1394.14 73.7508 1390 69.8619 Q1385.91 65.9325 1385.91 59.3701 Q1385.91 51.7138 1391.02 47.825 Q1396.16 43.9361 1406.33 43.9361 L1416.78 43.9361 L1416.78 43.2069 Q1416.78 38.0623 1413.38 35.2672 Q1410.01 32.4315 1403.9 32.4315 Q1400.01 32.4315 1396.32 33.3632 Q1392.64 34.295 1389.23 36.1584 L1389.23 29.2718 Q1393.33 27.692 1397.17 26.9223 Q1401.02 26.1121 1404.67 26.1121 Q1414.51 26.1121 1419.37 31.2163 Q1424.23 36.3204 1424.23 46.6907 Z\" fill=\"#000000\" fill-rule=\"evenodd\" fill-opacity=\"1\" /><path clip-path=\"url(#clip040)\" d=\"M1446.96 14.324 L1446.96 27.2059 L1462.31 27.2059 L1462.31 32.9987 L1446.96 32.9987 L1446.96 57.6282 Q1446.96 63.1779 1448.46 64.7578 Q1450 66.3376 1454.66 66.3376 L1462.31 66.3376 L1462.31 72.576 L1454.66 72.576 Q1446.03 72.576 1442.75 69.3758 Q1439.46 66.1351 1439.46 57.6282 L1439.46 32.9987 L1434 32.9987 L1434 27.2059 L1439.46 27.2059 L1439.46 14.324 L1446.96 14.324 Z\" fill=\"#000000\" fill-rule=\"evenodd\" fill-opacity=\"1\" /><path clip-path=\"url(#clip040)\" d=\"M1492.73 49.7694 Q1483.7 49.7694 1480.22 51.8354 Q1476.73 53.9013 1476.73 58.8839 Q1476.73 62.8538 1479.33 65.2034 Q1481.96 67.5124 1486.46 67.5124 Q1492.65 67.5124 1496.38 63.1374 Q1500.15 58.7219 1500.15 51.4303 L1500.15 49.7694 L1492.73 49.7694 M1507.6 46.6907 L1507.6 72.576 L1500.15 72.576 L1500.15 65.6895 Q1497.6 69.8214 1493.79 71.8063 Q1489.98 73.7508 1484.47 73.7508 Q1477.5 73.7508 1473.37 69.8619 Q1469.28 65.9325 1469.28 59.3701 Q1469.28 51.7138 1474.38 47.825 Q1479.53 43.9361 1489.7 43.9361 L1500.15 43.9361 L1500.15 43.2069 Q1500.15 38.0623 1496.74 35.2672 Q1493.38 32.4315 1487.27 32.4315 Q1483.38 32.4315 1479.69 33.3632 Q1476 34.295 1472.6 36.1584 L1472.6 29.2718 Q1476.69 27.692 1480.54 26.9223 Q1484.39 26.1121 1488.04 26.1121 Q1497.88 26.1121 1502.74 31.2163 Q1507.6 36.3204 1507.6 46.6907 Z\" fill=\"#000000\" fill-rule=\"evenodd\" fill-opacity=\"1\" /><polyline clip-path=\"url(#clip042)\" style=\"stroke:#009af9; stroke-linecap:round; stroke-linejoin:round; stroke-width:4; stroke-opacity:1; fill:none\" points=\"284.343,661.045 286.834,661.045 289.326,661.045 291.817,661.045 294.309,661.045 296.801,661.045 299.292,661.045 301.784,661.045 304.275,661.045 306.767,661.045 309.258,661.045 311.75,661.045 314.241,661.045 316.733,661.045 319.224,661.045 321.716,661.045 324.207,661.045 326.699,661.045 329.19,661.045 331.682,661.045 334.173,661.045 336.665,661.045 339.156,661.045 341.648,661.045 344.139,661.045 346.631,661.045 349.123,661.045 351.614,661.045 354.106,661.045 356.597,661.045 359.089,661.045 361.58,661.045 364.072,661.045 366.563,661.045 369.055,661.045 371.546,661.045 374.038,661.045 376.529,661.045 379.021,661.045 381.512,661.045 384.004,661.045 386.495,661.045 388.987,661.045 391.478,661.045 393.97,661.045 396.461,661.045 398.953,661.045 401.445,661.045 403.936,661.045 406.428,661.045 408.919,661.045 411.411,661.045 413.902,661.045 416.394,661.045 418.885,661.045 421.377,661.045 423.868,661.045 426.36,661.045 428.851,661.045 431.343,661.045 433.834,661.045 436.326,661.045 438.817,661.045 441.309,661.045 443.8,661.045 446.292,661.045 448.783,661.045 451.275,661.045 453.767,661.045 456.258,661.045 458.75,661.045 461.241,661.045 463.733,661.045 466.224,661.045 468.716,661.045 471.207,661.045 473.699,661.045 476.19,661.045 478.682,661.045 481.173,661.045 483.665,661.045 486.156,661.045 488.648,661.045 491.139,661.045 493.631,661.045 496.122,661.045 498.614,661.045 501.105,661.045 503.597,661.045 506.089,661.045 508.58,661.045 511.072,661.045 513.563,661.045 516.055,661.045 518.546,661.045 521.038,661.045 523.529,661.045 526.021,661.045 528.512,661.045 531.004,661.045 533.495,661.045 535.987,661.045 538.478,661.045 540.97,661.045 543.461,661.045 545.953,661.045 548.444,661.045 550.936,661.045 553.427,661.045 555.919,661.045 558.41,661.045 560.902,661.045 563.394,661.045 565.885,661.045 568.377,661.045 570.868,661.045 573.36,661.045 575.851,661.045 578.343,661.045 580.834,661.045 583.326,661.045 585.817,661.045 588.309,661.045 590.8,661.045 593.292,661.045 595.783,661.045 598.275,661.045 600.766,661.045 603.258,661.045 605.749,661.045 608.241,661.045 610.732,661.045 613.224,661.045 615.716,661.045 618.207,661.045 620.699,661.045 623.19,661.044 625.682,661.044 628.173,661.044 630.665,661.044 633.156,661.044 635.648,661.044 638.139,661.044 640.631,661.044 643.122,661.044 645.614,661.044 648.105,661.044 650.597,661.044 653.088,661.044 655.58,661.044 658.071,661.044 660.563,661.044 663.054,661.044 665.546,661.044 668.038,661.044 670.529,661.044 673.021,661.044 675.512,661.044 678.004,661.044 680.495,661.044 682.987,661.043 685.478,661.043 687.97,661.043 690.461,661.043 692.953,661.043 695.444,661.043 697.936,661.043 700.427,661.043 702.919,661.042 705.41,661.042 707.902,661.042 710.393,661.042 712.885,661.041 715.376,661.041 717.868,661.041 720.36,661.041 722.851,661.04 725.343,661.04 727.834,661.04 730.326,661.039 732.817,661.039 735.309,661.038 737.8,661.038 740.292,661.037 742.783,661.037 745.275,661.036 747.766,661.035 750.258,661.035 752.749,661.034 755.241,661.033 757.732,661.032 760.224,661.031 762.715,661.03 765.207,661.029 767.698,661.028 770.19,661.027 772.682,661.025 775.173,661.024 777.665,661.022 780.156,661.021 782.648,661.019 785.139,661.017 787.631,661.015 790.122,661.013 792.614,661.01 795.105,661.008 797.597,661.005 800.088,661.002 802.58,660.999 805.071,660.996 807.563,660.993 810.054,660.989 812.546,660.985 815.037,660.981 817.529,660.976 820.02,660.971 822.512,660.966 825.004,660.961 827.495,660.955 829.987,660.949 832.478,660.942 834.97,660.936 837.461,660.928 839.953,660.92 842.444,660.912 844.936,660.903 847.427,660.894 849.919,660.883 852.41,660.873 854.902,660.862 857.393,660.85 859.885,660.837 862.376,660.823 864.868,660.809 867.359,660.794 869.851,660.778 872.342,660.761 874.834,660.743 877.326,660.724 879.817,660.704 882.309,660.682 884.8,660.66 887.292,660.636 889.783,660.611 892.275,660.585 894.766,660.557 897.258,660.527 899.749,660.496 902.241,660.463 904.732,660.429 907.224,660.393 909.715,660.354 912.207,660.314 914.698,660.272 917.19,660.227 919.681,660.18 922.173,660.131 924.664,660.08 927.156,660.026 929.648,659.969 932.139,659.909 934.631,659.847 937.122,659.781 939.614,659.713 942.105,659.641 944.597,659.566 947.088,659.488 949.58,659.406 952.071,659.32 954.563,659.231 957.054,659.138 959.546,659.04 962.037,658.939 964.529,658.834 967.02,658.724 969.512,658.609 972.003,658.491 974.495,658.367 976.986,658.239 979.478,658.106 981.969,657.967 984.461,657.824 986.953,657.676 989.444,657.522 991.936,657.364 994.427,657.199 996.919,657.03 999.41,656.854 1001.9,656.674 1004.39,656.487 1006.88,656.295 1009.38,656.098 1011.87,655.894 1014.36,655.685 1016.85,655.471 1019.34,655.251 1021.83,655.025 1024.33,654.793 1026.82,654.557 1029.31,654.315 1031.8,654.067 1034.29,653.815 1036.78,653.558 1039.27,653.295 1041.77,653.028 1044.26,652.757 1046.75,652.482 1049.24,652.202 1051.73,651.919 1054.22,651.632 1056.72,651.342 1059.21,651.049 1061.7,650.754 1064.19,650.456 1066.68,650.157 1069.17,649.856 1071.66,649.554 1074.16,649.252 1076.65,648.95 1079.14,648.647 1081.63,648.346 1084.12,648.046 1086.61,647.748 1089.11,647.452 1091.6,647.159 1094.09,646.87 1096.58,646.584 1099.07,646.303 1101.56,646.026 1104.05,645.755 1106.55,645.491 1109.04,645.232 1111.53,644.981 1114.02,644.738 1116.51,644.502 1119,644.275 1121.49,644.057 1123.99,643.848 1126.48,643.648 1128.97,643.459 1131.46,643.28 1133.95,643.112 1136.44,642.954 1138.94,642.808 1141.43,642.672 1143.92,642.548 1146.41,642.434 1148.9,642.332 1151.39,642.24 1153.88,642.159 1156.38,642.088 1158.87,642.028 1161.36,641.976 1163.85,641.934 1166.34,641.9 1168.83,641.873 1171.33,641.853 1173.82,641.84 1176.31,641.831 1178.8,641.826 1181.29,641.824 1183.78,641.824 1186.27,641.823 1188.77,641.822 1191.26,641.819 1193.75,641.811 1196.24,641.798 1198.73,641.778 1201.22,641.749 1203.72,641.71 1206.21,641.658 1208.7,641.593 1211.19,641.512 1213.68,641.414 1216.17,641.296 1218.66,641.158 1221.16,640.997 1223.65,640.812 1226.14,640.601 1228.63,640.363 1231.12,640.097 1233.61,639.8 1236.1,639.472 1238.6,639.111 1241.09,638.717 1243.58,638.289 1246.07,637.826 1248.56,637.327 1251.05,636.793 1253.55,636.222 1256.04,635.615 1258.53,634.971 1261.02,634.292 1263.51,633.578 1266,632.828 1268.49,632.045 1270.99,631.229 1273.48,630.381 1275.97,629.503 1278.46,628.597 1280.95,627.663 1283.44,626.704 1285.94,625.721 1288.43,624.718 1290.92,623.695 1293.41,622.656 1295.9,621.603 1298.39,620.538 1300.88,619.463 1303.38,618.382 1305.87,617.297 1308.36,616.21 1310.85,615.124 1313.34,614.042 1315.83,612.965 1318.33,611.898 1320.82,610.841 1323.31,609.797 1325.8,608.769 1328.29,607.759 1330.78,606.768 1333.27,605.798 1335.77,604.852 1338.26,603.93 1340.75,603.035 1343.24,602.167 1345.73,601.327 1348.22,600.517 1350.71,599.737 1353.21,598.988 1355.7,598.271 1358.19,597.585 1360.68,596.931 1363.17,596.309 1365.66,595.719 1368.16,595.16 1370.65,594.633 1373.14,594.136 1375.63,593.67 1378.12,593.232 1380.61,592.824 1383.1,592.443 1385.6,592.089 1388.09,591.76 1390.58,591.456 1393.07,591.176 1395.56,590.919 1398.05,590.682 1400.55,590.466 1403.04,590.269 1405.53,590.089 1408.02,589.927 1410.51,589.78 1413,589.647 1415.49,589.528 1417.99,589.421 1420.48,589.326 1422.97,589.241 1425.46,589.166 1427.95,589.099 1430.44,589.04 1432.94,588.989 1435.43,588.943 1437.92,588.904 1440.41,588.869 1442.9,588.839 1445.39,588.814 1447.88,588.791 1450.38,588.772 1452.87,588.756 1455.36,588.742 1457.85,588.73 1460.34,588.72 1462.83,588.712 1465.33,588.705 1467.82,588.699 1470.31,588.694 1472.8,588.69 1475.29,588.687 1477.78,588.684 1480.27,588.682 1482.77,588.68 1485.26,588.679 1487.75,588.677 1490.24,588.676 1492.73,588.676 1495.22,588.675 1497.71,588.674 1500.21,588.674 1502.7,588.674 1505.19,588.674 1507.68,588.673 1510.17,588.673 1512.66,588.673 1515.16,588.673 1517.65,588.673 1520.14,588.673 1522.63,588.673 1525.12,588.673 1527.61,588.673 1530.1,588.673 1532.6,588.673 1535.09,588.673 1537.58,588.673 1540.07,588.673 1542.56,588.673 1545.05,588.673 1547.55,588.673 1550.04,588.673 1552.53,588.673 1555.02,588.673 1557.51,588.673 1560,588.673 1562.49,588.673 1564.99,588.673 1567.48,588.673 1569.97,588.673 1572.46,588.673 1574.95,588.673 1577.44,588.673 1579.94,588.673 1582.43,588.673 1584.92,588.673 1587.41,588.673 1589.9,588.673 1592.39,588.673 1594.88,588.673 1597.38,588.673 1599.87,588.673 1602.36,588.673 1604.85,588.673 1607.34,588.673 1609.83,588.673 1612.32,588.673 1614.82,588.673 1617.31,588.673 1619.8,588.673 1622.29,588.673 1624.78,588.673 1627.27,588.673 1629.77,588.673 1632.26,588.673 1634.75,588.673 1637.24,588.673 1639.73,588.673 1642.22,588.673 1644.71,588.673 1647.21,588.673 1649.7,588.673 1652.19,588.673 1654.68,588.673 1657.17,588.673 1659.66,588.673 1662.16,588.673 1664.65,588.673 1667.14,588.673 1669.63,588.673 1672.12,588.673 1674.61,588.673 1677.1,588.673 1679.6,588.673 1682.09,588.673 1684.58,588.673 1687.07,588.673 1689.56,588.673 1692.05,588.673 1694.55,588.673 1697.04,588.673 1699.53,588.673 1702.02,588.673 1704.51,588.673 1707,588.673 1709.49,588.673 1711.99,588.673 1714.48,588.673 1716.97,588.673 1719.46,588.673 1721.95,588.673 1724.44,588.673 1726.94,588.673 1729.43,588.673 1731.92,588.673 1734.41,588.673 1736.9,588.673 1739.39,588.673 1741.88,588.673 1744.38,588.673 1746.87,588.673 1749.36,588.673 1751.85,588.673 1754.34,588.673 1756.83,588.673 1759.32,588.673 1761.82,588.673 1764.31,588.673 1766.8,588.673 1769.29,588.673 1771.78,588.673 1774.27,588.673 1776.77,588.673 1779.26,588.673 1781.75,588.673 1784.24,588.673 1786.73,588.673 1789.22,588.673 1791.71,588.673 1794.21,588.673 1796.7,588.673 1799.19,588.673 1801.68,588.673 1804.17,588.673 1806.66,588.673 1809.16,588.673 1811.65,588.673 1814.14,588.673 1816.63,588.673 1819.12,588.673 1821.61,588.673 1824.1,588.673 1826.6,588.673 1829.09,588.673 1831.58,588.673 1834.07,588.673 1836.56,588.673 1839.05,588.673 1841.55,588.673 1844.04,588.673 1846.53,588.673 1849.02,588.673 1851.51,588.673 1854,588.673 1856.49,588.673 1858.99,588.673 1861.48,588.673 1863.97,588.673 1866.46,588.673 1868.95,588.673 1871.44,588.673 1873.93,588.673 1876.43,588.673 1878.92,588.673 1881.41,588.673 1883.9,588.673 1886.39,588.673 1888.88,588.673 1891.38,588.673 1893.87,588.673 1896.36,588.673 1898.85,588.673 1901.34,588.673 1903.83,588.673 1906.32,588.673 1908.82,588.673 1911.31,588.673 1913.8,588.673 1916.29,588.673 1918.78,588.673 1921.27,588.673 1923.77,588.673 1926.26,588.673 1928.75,588.673 1931.24,588.673 1933.73,588.673 1936.22,588.673 1938.71,588.673 1941.21,588.673 1943.7,588.673 1946.19,588.673 1948.68,588.673 1951.17,588.673 1953.66,588.673 1956.16,588.673 1958.65,588.673 1961.14,588.673 1963.63,588.673 1966.12,588.673 1968.61,588.673 1971.1,588.673 1973.6,588.673 1976.09,588.673 1978.58,588.673 1981.07,588.673 1983.56,588.673 1986.05,588.673 1988.54,588.673 1991.04,588.673 1993.53,588.673 1996.02,588.673 1998.51,588.673 2001,588.673 2003.49,588.673 2005.99,588.673 2008.48,588.673 2010.97,588.673 2013.46,588.673 2015.95,588.673 2018.44,588.673 2020.93,588.673 2023.43,588.673 2025.92,588.673 2028.41,588.673 2030.9,588.673 2033.39,588.673 2035.88,588.673 2038.38,588.673 2040.87,588.673 2043.36,588.673 2045.85,588.673 2048.34,588.673 2050.83,588.673 2053.32,588.673 2055.82,588.673 2058.31,588.673 2060.8,588.673 2063.29,588.673 2065.78,588.673 2068.27,588.673 2070.77,588.673 2073.26,588.673 2075.75,588.673 2078.24,588.673 2080.73,588.673 2083.22,588.673 2085.71,588.673 2088.21,588.673 2090.7,588.673 2093.19,588.673 2095.68,588.673 2098.17,588.673 2100.66,588.673 2103.16,588.673 2105.65,588.673 2108.14,588.673 2110.63,588.673 2113.12,588.673 2115.61,588.673 2118.1,588.673 2120.6,588.673 2123.09,588.673 2125.58,588.673 2128.07,588.673 2130.56,588.673 2133.05,588.673 2135.54,588.673 2138.04,588.673 2140.53,588.673 2143.02,588.673 2145.51,588.673 2148,588.673 2150.49,588.673 2152.99,588.673 2155.48,588.673 2157.97,588.673 2160.46,588.673 2162.95,588.673 2165.44,588.673 2167.93,588.673 2170.43,588.673 2172.92,588.673 2175.41,588.673 2177.9,588.673 2180.39,588.673 2182.88,588.673 2185.38,588.673 2187.87,588.673 2190.36,588.673 2192.85,588.673 2195.34,588.673 2197.83,588.673 2200.32,588.673 2202.82,588.673 2205.31,588.673 2207.8,588.673 2210.29,588.673 2212.78,588.673 2215.27,588.673 2217.77,588.673 2220.26,588.673 2222.75,588.673 2225.24,588.673 2227.73,588.673 2230.22,588.673 2232.71,588.673 2235.21,588.673 2237.7,588.673 2240.19,588.673 2242.68,588.673 2245.17,588.673 2247.66,588.673 2250.15,588.673 2252.65,588.673 2255.14,588.673 2257.63,588.673 2260.12,588.673 2262.61,588.673 2265.1,588.673 2267.6,588.673 2270.09,588.673 2272.58,588.673 2275.07,588.673 2277.56,588.673 2280.05,588.673 2282.54,588.673 2285.04,588.673 2287.53,588.673 2290.02,588.673 2292.51,588.673 \"/>\n",
       "<polyline clip-path=\"url(#clip042)\" style=\"stroke:#e26f46; stroke-linecap:round; stroke-linejoin:round; stroke-width:4; stroke-opacity:1; fill:none\" points=\"284.343,661.045 286.834,661.045 289.326,661.045 291.817,661.045 294.309,661.045 296.801,661.045 299.292,661.045 301.784,661.045 304.275,661.045 306.767,661.045 309.258,661.045 311.75,661.045 314.241,661.045 316.733,661.045 319.224,661.045 321.716,661.045 324.207,661.045 326.699,661.045 329.19,661.045 331.682,661.045 334.173,661.045 336.665,661.045 339.156,661.045 341.648,661.045 344.139,661.045 346.631,661.045 349.123,661.045 351.614,661.045 354.106,661.045 356.597,661.045 359.089,661.045 361.58,661.045 364.072,661.045 366.563,661.045 369.055,661.045 371.546,661.045 374.038,661.045 376.529,661.045 379.021,661.045 381.512,661.045 384.004,661.045 386.495,661.045 388.987,661.045 391.478,661.045 393.97,661.045 396.461,661.045 398.953,661.045 401.445,661.045 403.936,661.045 406.428,661.045 408.919,661.045 411.411,661.045 413.902,661.045 416.394,661.045 418.885,661.045 421.377,661.045 423.868,661.045 426.36,661.045 428.851,661.045 431.343,661.045 433.834,661.045 436.326,661.045 438.817,661.045 441.309,661.045 443.8,661.045 446.292,661.045 448.783,661.045 451.275,661.045 453.767,661.045 456.258,661.045 458.75,661.045 461.241,661.045 463.733,661.045 466.224,661.045 468.716,661.045 471.207,661.045 473.699,661.045 476.19,661.045 478.682,661.045 481.173,661.045 483.665,661.045 486.156,661.045 488.648,661.045 491.139,661.045 493.631,661.045 496.122,661.045 498.614,661.045 501.105,661.045 503.597,661.045 506.089,661.045 508.58,661.045 511.072,661.045 513.563,661.045 516.055,661.045 518.546,661.045 521.038,661.045 523.529,661.045 526.021,661.045 528.512,661.045 531.004,661.045 533.495,661.045 535.987,661.045 538.478,661.045 540.97,661.045 543.461,661.045 545.953,661.045 548.444,661.045 550.936,661.045 553.427,661.045 555.919,661.045 558.41,661.045 560.902,661.045 563.394,661.045 565.885,661.045 568.377,661.045 570.868,661.044 573.36,661.044 575.851,661.044 578.343,661.044 580.834,661.044 583.326,661.044 585.817,661.044 588.309,661.044 590.8,661.044 593.292,661.044 595.783,661.044 598.275,661.044 600.766,661.044 603.258,661.044 605.749,661.044 608.241,661.044 610.732,661.044 613.224,661.044 615.716,661.044 618.207,661.044 620.699,661.044 623.19,661.044 625.682,661.044 628.173,661.044 630.665,661.044 633.156,661.043 635.648,661.043 638.139,661.043 640.631,661.043 643.122,661.043 645.614,661.043 648.105,661.043 650.597,661.043 653.088,661.042 655.58,661.042 658.071,661.042 660.563,661.042 663.054,661.042 665.546,661.041 668.038,661.041 670.529,661.041 673.021,661.041 675.512,661.04 678.004,661.04 680.495,661.039 682.987,661.039 685.478,661.039 687.97,661.038 690.461,661.038 692.953,661.037 695.444,661.037 697.936,661.036 700.427,661.035 702.919,661.035 705.41,661.034 707.902,661.033 710.393,661.032 712.885,661.031 715.376,661.03 717.868,661.029 720.36,661.028 722.851,661.027 725.343,661.026 727.834,661.025 730.326,661.023 732.817,661.022 735.309,661.02 737.8,661.018 740.292,661.016 742.783,661.014 745.275,661.012 747.766,661.01 750.258,661.007 752.749,661.005 755.241,661.002 757.732,660.999 760.224,660.996 762.715,660.993 765.207,660.989 767.698,660.985 770.19,660.981 772.682,660.977 775.173,660.973 777.665,660.968 780.156,660.963 782.648,660.957 785.139,660.951 787.631,660.945 790.122,660.939 792.614,660.932 795.105,660.924 797.597,660.916 800.088,660.908 802.58,660.899 805.071,660.89 807.563,660.88 810.054,660.869 812.546,660.858 815.037,660.846 817.529,660.834 820.02,660.82 822.512,660.806 825.004,660.791 827.495,660.776 829.987,660.759 832.478,660.741 834.97,660.723 837.461,660.703 839.953,660.682 842.444,660.66 844.936,660.637 847.427,660.612 849.919,660.586 852.41,660.559 854.902,660.53 857.393,660.5 859.885,660.468 862.376,660.434 864.868,660.398 867.359,660.361 869.851,660.321 872.342,660.28 874.834,660.236 877.326,660.19 879.817,660.142 882.309,660.091 884.8,660.038 887.292,659.982 889.783,659.923 892.275,659.862 894.766,659.797 897.258,659.729 899.749,659.658 902.241,659.583 904.732,659.505 907.224,659.423 909.715,659.338 912.207,659.248 914.698,659.154 917.19,659.056 919.681,658.954 922.173,658.847 924.664,658.736 927.156,658.619 929.648,658.497 932.139,658.371 934.631,658.239 937.122,658.101 939.614,657.958 942.105,657.808 944.597,657.653 947.088,657.492 949.58,657.324 952.071,657.15 954.563,656.969 957.054,656.781 959.546,656.586 962.037,656.384 964.529,656.175 967.02,655.958 969.512,655.734 972.003,655.502 974.495,655.262 976.986,655.014 979.478,654.759 981.969,654.494 984.461,654.222 986.953,653.941 989.444,653.652 991.936,653.355 994.427,653.048 996.919,652.734 999.41,652.41 1001.9,652.078 1004.39,651.738 1006.88,651.389 1009.38,651.031 1011.87,650.665 1014.36,650.291 1016.85,649.908 1019.34,649.517 1021.83,649.118 1024.33,648.712 1026.82,648.298 1029.31,647.876 1031.8,647.448 1034.29,647.013 1036.78,646.571 1039.27,646.123 1041.77,645.669 1044.26,645.21 1046.75,644.746 1049.24,644.277 1051.73,643.804 1054.22,643.327 1056.72,642.848 1059.21,642.366 1061.7,641.882 1064.19,641.397 1066.68,640.911 1069.17,640.425 1071.66,639.939 1074.16,639.455 1076.65,638.973 1079.14,638.494 1081.63,638.018 1084.12,637.546 1086.61,637.079 1089.11,636.619 1091.6,636.164 1094.09,635.717 1096.58,635.278 1099.07,634.848 1101.56,634.427 1104.05,634.017 1106.55,633.618 1109.04,633.23 1111.53,632.855 1114.02,632.492 1116.51,632.144 1119,631.809 1121.49,631.489 1123.99,631.185 1126.48,630.896 1128.97,630.622 1131.46,630.365 1133.95,630.124 1136.44,629.9 1138.94,629.692 1141.43,629.501 1143.92,629.327 1146.41,629.169 1148.9,629.026 1151.39,628.9 1153.88,628.788 1156.38,628.692 1158.87,628.609 1161.36,628.54 1163.85,628.482 1166.34,628.437 1168.83,628.401 1171.33,628.375 1173.82,628.357 1176.31,628.346 1178.8,628.339 1181.29,628.337 1183.78,628.336 1186.27,628.336 1188.77,628.335 1191.26,628.33 1193.75,628.32 1196.24,628.304 1198.73,628.279 1201.22,628.243 1203.72,628.194 1206.21,628.131 1208.7,628.051 1211.19,627.952 1213.68,627.833 1216.17,627.691 1218.66,627.525 1221.16,627.333 1223.65,627.113 1226.14,626.864 1228.63,626.584 1231.12,626.271 1233.61,625.925 1236.1,625.544 1238.6,625.128 1241.09,624.674 1243.58,624.184 1246.07,623.656 1248.56,623.089 1251.05,622.485 1253.55,621.842 1256.04,621.161 1258.53,620.442 1261.02,619.687 1263.51,618.895 1266,618.068 1268.49,617.207 1270.99,616.313 1273.48,615.387 1275.97,614.433 1278.46,613.45 1280.95,612.442 1283.44,611.41 1285.94,610.357 1288.43,609.285 1290.92,608.197 1293.41,607.094 1295.9,605.981 1298.39,604.858 1300.88,603.73 1303.38,602.599 1305.87,601.467 1308.36,600.338 1310.85,599.213 1313.34,598.096 1315.83,596.99 1318.33,595.896 1320.82,594.817 1323.31,593.755 1325.8,592.713 1328.29,591.692 1330.78,590.695 1333.27,589.724 1335.77,588.779 1338.26,587.862 1340.75,586.975 1343.24,586.118 1345.73,585.293 1348.22,584.5 1350.71,583.74 1353.21,583.013 1355.7,582.32 1358.19,581.66 1360.68,581.034 1363.17,580.441 1365.66,579.881 1368.16,579.353 1370.65,578.857 1373.14,578.392 1375.63,577.958 1378.12,577.552 1380.61,577.176 1383.1,576.826 1385.6,576.503 1388.09,576.204 1390.58,575.93 1393.07,575.678 1395.56,575.447 1398.05,575.237 1400.55,575.045 1403.04,574.872 1405.53,574.715 1408.02,574.573 1410.51,574.445 1413,574.331 1415.49,574.229 1417.99,574.138 1420.48,574.057 1422.97,573.986 1425.46,573.922 1427.95,573.867 1430.44,573.818 1432.94,573.775 1435.43,573.738 1437.92,573.706 1440.41,573.678 1442.9,573.654 1445.39,573.633 1447.88,573.615 1450.38,573.6 1452.87,573.588 1455.36,573.577 1457.85,573.567 1460.34,573.56 1462.83,573.553 1465.33,573.548 1467.82,573.543 1470.31,573.54 1472.8,573.537 1475.29,573.534 1477.78,573.532 1480.27,573.53 1482.77,573.529 1485.26,573.528 1487.75,573.527 1490.24,573.526 1492.73,573.526 1495.22,573.525 1497.71,573.525 1500.21,573.525 1502.7,573.525 1505.19,573.524 1507.68,573.524 1510.17,573.524 1512.66,573.524 1515.16,573.524 1517.65,573.524 1520.14,573.524 1522.63,573.524 1525.12,573.524 1527.61,573.524 1530.1,573.524 1532.6,573.524 1535.09,573.524 1537.58,573.524 1540.07,573.524 1542.56,573.524 1545.05,573.524 1547.55,573.524 1550.04,573.524 1552.53,573.524 1555.02,573.524 1557.51,573.524 1560,573.524 1562.49,573.524 1564.99,573.524 1567.48,573.524 1569.97,573.524 1572.46,573.524 1574.95,573.524 1577.44,573.524 1579.94,573.524 1582.43,573.524 1584.92,573.524 1587.41,573.524 1589.9,573.524 1592.39,573.524 1594.88,573.524 1597.38,573.524 1599.87,573.524 1602.36,573.524 1604.85,573.524 1607.34,573.524 1609.83,573.524 1612.32,573.524 1614.82,573.524 1617.31,573.524 1619.8,573.524 1622.29,573.524 1624.78,573.524 1627.27,573.524 1629.77,573.524 1632.26,573.524 1634.75,573.524 1637.24,573.524 1639.73,573.524 1642.22,573.524 1644.71,573.524 1647.21,573.524 1649.7,573.524 1652.19,573.524 1654.68,573.524 1657.17,573.524 1659.66,573.524 1662.16,573.524 1664.65,573.524 1667.14,573.524 1669.63,573.524 1672.12,573.524 1674.61,573.524 1677.1,573.524 1679.6,573.524 1682.09,573.524 1684.58,573.524 1687.07,573.524 1689.56,573.524 1692.05,573.524 1694.55,573.524 1697.04,573.524 1699.53,573.524 1702.02,573.524 1704.51,573.524 1707,573.524 1709.49,573.524 1711.99,573.524 1714.48,573.524 1716.97,573.524 1719.46,573.524 1721.95,573.524 1724.44,573.524 1726.94,573.524 1729.43,573.524 1731.92,573.524 1734.41,573.524 1736.9,573.524 1739.39,573.524 1741.88,573.524 1744.38,573.524 1746.87,573.524 1749.36,573.524 1751.85,573.524 1754.34,573.524 1756.83,573.524 1759.32,573.524 1761.82,573.524 1764.31,573.524 1766.8,573.524 1769.29,573.524 1771.78,573.524 1774.27,573.524 1776.77,573.524 1779.26,573.524 1781.75,573.524 1784.24,573.524 1786.73,573.524 1789.22,573.524 1791.71,573.524 1794.21,573.524 1796.7,573.524 1799.19,573.524 1801.68,573.524 1804.17,573.524 1806.66,573.524 1809.16,573.524 1811.65,573.524 1814.14,573.524 1816.63,573.524 1819.12,573.524 1821.61,573.524 1824.1,573.524 1826.6,573.524 1829.09,573.524 1831.58,573.524 1834.07,573.524 1836.56,573.524 1839.05,573.524 1841.55,573.524 1844.04,573.524 1846.53,573.524 1849.02,573.524 1851.51,573.524 1854,573.524 1856.49,573.524 1858.99,573.524 1861.48,573.524 1863.97,573.524 1866.46,573.524 1868.95,573.524 1871.44,573.524 1873.93,573.524 1876.43,573.524 1878.92,573.524 1881.41,573.524 1883.9,573.524 1886.39,573.524 1888.88,573.524 1891.38,573.524 1893.87,573.524 1896.36,573.524 1898.85,573.524 1901.34,573.524 1903.83,573.524 1906.32,573.524 1908.82,573.524 1911.31,573.524 1913.8,573.524 1916.29,573.524 1918.78,573.524 1921.27,573.524 1923.77,573.524 1926.26,573.524 1928.75,573.524 1931.24,573.524 1933.73,573.524 1936.22,573.524 1938.71,573.524 1941.21,573.524 1943.7,573.524 1946.19,573.524 1948.68,573.524 1951.17,573.524 1953.66,573.524 1956.16,573.524 1958.65,573.524 1961.14,573.524 1963.63,573.524 1966.12,573.524 1968.61,573.524 1971.1,573.524 1973.6,573.524 1976.09,573.524 1978.58,573.524 1981.07,573.524 1983.56,573.524 1986.05,573.524 1988.54,573.524 1991.04,573.524 1993.53,573.524 1996.02,573.524 1998.51,573.524 2001,573.524 2003.49,573.524 2005.99,573.524 2008.48,573.524 2010.97,573.524 2013.46,573.524 2015.95,573.524 2018.44,573.524 2020.93,573.524 2023.43,573.524 2025.92,573.524 2028.41,573.524 2030.9,573.524 2033.39,573.524 2035.88,573.524 2038.38,573.524 2040.87,573.524 2043.36,573.524 2045.85,573.524 2048.34,573.524 2050.83,573.524 2053.32,573.524 2055.82,573.524 2058.31,573.524 2060.8,573.524 2063.29,573.524 2065.78,573.524 2068.27,573.524 2070.77,573.524 2073.26,573.524 2075.75,573.524 2078.24,573.524 2080.73,573.524 2083.22,573.524 2085.71,573.524 2088.21,573.524 2090.7,573.524 2093.19,573.524 2095.68,573.524 2098.17,573.524 2100.66,573.524 2103.16,573.524 2105.65,573.524 2108.14,573.524 2110.63,573.524 2113.12,573.524 2115.61,573.524 2118.1,573.524 2120.6,573.524 2123.09,573.524 2125.58,573.524 2128.07,573.524 2130.56,573.524 2133.05,573.524 2135.54,573.524 2138.04,573.524 2140.53,573.524 2143.02,573.524 2145.51,573.524 2148,573.524 2150.49,573.524 2152.99,573.524 2155.48,573.524 2157.97,573.524 2160.46,573.524 2162.95,573.524 2165.44,573.524 2167.93,573.524 2170.43,573.524 2172.92,573.524 2175.41,573.524 2177.9,573.524 2180.39,573.524 2182.88,573.524 2185.38,573.524 2187.87,573.524 2190.36,573.524 2192.85,573.524 2195.34,573.524 2197.83,573.524 2200.32,573.524 2202.82,573.524 2205.31,573.524 2207.8,573.524 2210.29,573.524 2212.78,573.524 2215.27,573.524 2217.77,573.524 2220.26,573.524 2222.75,573.524 2225.24,573.524 2227.73,573.524 2230.22,573.524 2232.71,573.524 2235.21,573.524 2237.7,573.524 2240.19,573.524 2242.68,573.524 2245.17,573.524 2247.66,573.524 2250.15,573.524 2252.65,573.524 2255.14,573.524 2257.63,573.524 2260.12,573.524 2262.61,573.524 2265.1,573.524 2267.6,573.524 2270.09,573.524 2272.58,573.524 2275.07,573.524 2277.56,573.524 2280.05,573.524 2282.54,573.524 2285.04,573.524 2287.53,573.524 2290.02,573.524 2292.51,573.524 \"/>\n",
       "<polyline clip-path=\"url(#clip042)\" style=\"stroke:#3da44d; stroke-linecap:round; stroke-linejoin:round; stroke-width:4; stroke-opacity:1; fill:none\" points=\"284.343,661.045 286.834,661.045 289.326,661.045 291.817,661.045 294.309,661.045 296.801,661.045 299.292,661.045 301.784,661.045 304.275,661.045 306.767,661.045 309.258,661.045 311.75,661.045 314.241,661.045 316.733,661.045 319.224,661.045 321.716,661.045 324.207,661.045 326.699,661.045 329.19,661.045 331.682,661.045 334.173,661.045 336.665,661.045 339.156,661.045 341.648,661.045 344.139,661.045 346.631,661.045 349.123,661.045 351.614,661.045 354.106,661.045 356.597,661.045 359.089,661.045 361.58,661.045 364.072,661.045 366.563,661.045 369.055,661.045 371.546,661.045 374.038,661.045 376.529,661.045 379.021,661.045 381.512,661.045 384.004,661.045 386.495,661.045 388.987,661.045 391.478,661.044 393.97,661.044 396.461,661.044 398.953,661.044 401.445,661.044 403.936,661.044 406.428,661.044 408.919,661.044 411.411,661.044 413.902,661.044 416.394,661.044 418.885,661.044 421.377,661.044 423.868,661.044 426.36,661.044 428.851,661.044 431.343,661.044 433.834,661.044 436.326,661.044 438.817,661.044 441.309,661.044 443.8,661.044 446.292,661.044 448.783,661.044 451.275,661.043 453.767,661.043 456.258,661.043 458.75,661.043 461.241,661.043 463.733,661.043 466.224,661.043 468.716,661.043 471.207,661.043 473.699,661.042 476.19,661.042 478.682,661.042 481.173,661.042 483.665,661.042 486.156,661.042 488.648,661.041 491.139,661.041 493.631,661.041 496.122,661.041 498.614,661.041 501.105,661.04 503.597,661.04 506.089,661.04 508.58,661.039 511.072,661.039 513.563,661.039 516.055,661.038 518.546,661.038 521.038,661.038 523.529,661.037 526.021,661.037 528.512,661.036 531.004,661.036 533.495,661.035 535.987,661.035 538.478,661.034 540.97,661.034 543.461,661.033 545.953,661.033 548.444,661.032 550.936,661.031 553.427,661.031 555.919,661.03 558.41,661.029 560.902,661.028 563.394,661.027 565.885,661.026 568.377,661.025 570.868,661.024 573.36,661.023 575.851,661.022 578.343,661.021 580.834,661.02 583.326,661.018 585.817,661.017 588.309,661.016 590.8,661.014 593.292,661.013 595.783,661.011 598.275,661.009 600.766,661.008 603.258,661.006 605.749,661.004 608.241,661.002 610.732,661 613.224,660.997 615.716,660.995 618.207,660.993 620.699,660.99 623.19,660.988 625.682,660.985 628.173,660.982 630.665,660.979 633.156,660.976 635.648,660.973 638.139,660.969 640.631,660.966 643.122,660.962 645.614,660.958 648.105,660.954 650.597,660.95 653.088,660.945 655.58,660.941 658.071,660.936 660.563,660.931 663.054,660.926 665.546,660.92 668.038,660.915 670.529,660.909 673.021,660.903 675.512,660.896 678.004,660.89 680.495,660.883 682.987,660.876 685.478,660.868 687.97,660.861 690.461,660.852 692.953,660.844 695.444,660.835 697.936,660.826 700.427,660.817 702.919,660.807 705.41,660.797 707.902,660.786 710.393,660.775 712.885,660.763 715.376,660.751 717.868,660.739 720.36,660.726 722.851,660.712 725.343,660.698 727.834,660.684 730.326,660.669 732.817,660.653 735.309,660.637 737.8,660.62 740.292,660.602 742.783,660.584 745.275,660.565 747.766,660.545 750.258,660.525 752.749,660.504 755.241,660.482 757.732,660.459 760.224,660.435 762.715,660.411 765.207,660.386 767.698,660.359 770.19,660.332 772.682,660.304 775.173,660.274 777.665,660.244 780.156,660.212 782.648,660.179 785.139,660.146 787.631,660.111 790.122,660.074 792.614,660.037 795.105,659.998 797.597,659.957 800.088,659.915 802.58,659.872 805.071,659.827 807.563,659.781 810.054,659.733 812.546,659.684 815.037,659.632 817.529,659.579 820.02,659.524 822.512,659.468 825.004,659.409 827.495,659.348 829.987,659.286 832.478,659.221 834.97,659.154 837.461,659.085 839.953,659.013 842.444,658.939 844.936,658.863 847.427,658.784 849.919,658.703 852.41,658.619 854.902,658.532 857.393,658.443 859.885,658.351 862.376,658.256 864.868,658.157 867.359,658.056 869.851,657.952 872.342,657.844 874.834,657.733 877.326,657.619 879.817,657.501 882.309,657.379 884.8,657.254 887.292,657.125 889.783,656.993 892.275,656.856 894.766,656.715 897.258,656.57 899.749,656.421 902.241,656.268 904.732,656.11 907.224,655.948 909.715,655.781 912.207,655.609 914.698,655.433 917.19,655.251 919.681,655.065 922.173,654.873 924.664,654.677 927.156,654.475 929.648,654.267 932.139,654.054 934.631,653.836 937.122,653.611 939.614,653.381 942.105,653.145 944.597,652.903 947.088,652.655 949.58,652.4 952.071,652.14 954.563,651.872 957.054,651.599 959.546,651.318 962.037,651.031 964.529,650.738 967.02,650.437 969.512,650.129 972.003,649.815 974.495,649.493 976.986,649.164 979.478,648.828 981.969,648.485 984.461,648.134 986.953,647.776 989.444,647.41 991.936,647.036 994.427,646.655 996.919,646.267 999.41,645.871 1001.9,645.467 1004.39,645.055 1006.88,644.636 1009.38,644.208 1011.87,643.774 1014.36,643.331 1016.85,642.881 1019.34,642.423 1021.83,641.957 1024.33,641.483 1026.82,641.002 1029.31,640.514 1031.8,640.018 1034.29,639.515 1036.78,639.004 1039.27,638.486 1041.77,637.961 1044.26,637.43 1046.75,636.891 1049.24,636.346 1051.73,635.794 1054.22,635.236 1056.72,634.671 1059.21,634.101 1061.7,633.525 1064.19,632.944 1066.68,632.357 1069.17,631.765 1071.66,631.169 1074.16,630.568 1076.65,629.963 1079.14,629.354 1081.63,628.742 1084.12,628.127 1086.61,627.509 1089.11,626.888 1091.6,626.266 1094.09,625.642 1096.58,625.017 1099.07,624.391 1101.56,623.765 1104.05,623.139 1106.55,622.514 1109.04,621.89 1111.53,621.269 1114.02,620.649 1116.51,620.032 1119,619.419 1121.49,618.81 1123.99,618.206 1126.48,617.607 1128.97,617.013 1131.46,616.427 1133.95,615.847 1136.44,615.276 1138.94,614.712 1141.43,614.159 1143.92,613.614 1146.41,613.081 1148.9,612.559 1151.39,612.048 1153.88,611.551 1156.38,611.067 1158.87,610.596 1161.36,610.141 1163.85,609.701 1166.34,609.278 1168.83,608.871 1171.33,608.482 1173.82,608.112 1176.31,607.76 1178.8,607.428 1181.29,607.116 1183.78,606.826 1186.27,606.557 1188.77,606.31 1191.26,606.086 1193.75,605.886 1196.24,605.71 1198.73,605.558 1201.22,605.431 1203.72,605.33 1206.21,605.255 1208.7,605.207 1211.19,605.185 1213.68,605.19 1216.17,605.223 1218.66,605.284 1221.16,605.373 1223.65,605.491 1226.14,605.636 1228.63,605.811 1231.12,606.014 1233.61,606.246 1236.1,606.506 1238.6,606.796 1241.09,607.114 1243.58,607.46 1246.07,607.835 1248.56,608.238 1251.05,608.669 1253.55,609.127 1256.04,609.612 1258.53,610.123 1261.02,610.661 1263.51,611.224 1266,611.812 1268.49,612.425 1270.99,613.061 1273.48,613.72 1275.97,614.402 1278.46,615.104 1280.95,615.827 1283.44,616.57 1285.94,617.331 1288.43,618.109 1290.92,618.905 1293.41,619.715 1295.9,620.541 1298.39,621.379 1300.88,622.23 1303.38,623.092 1305.87,623.963 1308.36,624.844 1310.85,625.731 1313.34,626.625 1315.83,627.524 1318.33,628.427 1320.82,629.332 1323.31,630.238 1325.8,631.145 1328.29,632.05 1330.78,632.953 1333.27,633.853 1335.77,634.747 1338.26,635.636 1340.75,636.518 1343.24,637.392 1345.73,638.257 1348.22,639.112 1350.71,639.955 1353.21,640.787 1355.7,641.606 1358.19,642.41 1360.68,643.201 1363.17,643.975 1365.66,644.734 1368.16,645.476 1370.65,646.201 1373.14,646.908 1375.63,647.597 1378.12,648.266 1380.61,648.917 1383.1,649.548 1385.6,650.16 1388.09,650.751 1390.58,651.322 1393.07,651.874 1395.56,652.404 1398.05,652.915 1400.55,653.406 1403.04,653.876 1405.53,654.326 1408.02,654.757 1410.51,655.169 1413,655.561 1415.49,655.934 1417.99,656.288 1420.48,656.625 1422.97,656.944 1425.46,657.245 1427.95,657.53 1430.44,657.799 1432.94,658.051 1435.43,658.289 1437.92,658.511 1440.41,658.72 1442.9,658.915 1445.39,659.097 1447.88,659.266 1450.38,659.424 1452.87,659.57 1455.36,659.705 1457.85,659.83 1460.34,659.946 1462.83,660.052 1465.33,660.15 1467.82,660.24 1470.31,660.322 1472.8,660.397 1475.29,660.465 1477.78,660.527 1480.27,660.584 1482.77,660.635 1485.26,660.681 1487.75,660.723 1490.24,660.761 1492.73,660.795 1495.22,660.825 1497.71,660.852 1500.21,660.876 1502.7,660.897 1505.19,660.916 1507.68,660.933 1510.17,660.948 1512.66,660.961 1515.16,660.973 1517.65,660.983 1520.14,660.992 1522.63,660.999 1525.12,661.006 1527.61,661.012 1530.1,661.017 1532.6,661.021 1535.09,661.025 1537.58,661.028 1540.07,661.031 1542.56,661.033 1545.05,661.035 1547.55,661.037 1550.04,661.038 1552.53,661.039 1555.02,661.04 1557.51,661.041 1560,661.042 1562.49,661.042 1564.99,661.043 1567.48,661.043 1569.97,661.043 1572.46,661.044 1574.95,661.044 1577.44,661.044 1579.94,661.044 1582.43,661.044 1584.92,661.044 1587.41,661.044 1589.9,661.044 1592.39,661.045 1594.88,661.045 1597.38,661.045 1599.87,661.045 1602.36,661.045 1604.85,661.045 1607.34,661.045 1609.83,661.045 1612.32,661.045 1614.82,661.045 1617.31,661.045 1619.8,661.045 1622.29,661.045 1624.78,661.045 1627.27,661.045 1629.77,661.045 1632.26,661.045 1634.75,661.045 1637.24,661.045 1639.73,661.045 1642.22,661.045 1644.71,661.045 1647.21,661.045 1649.7,661.045 1652.19,661.045 1654.68,661.045 1657.17,661.045 1659.66,661.045 1662.16,661.045 1664.65,661.045 1667.14,661.045 1669.63,661.045 1672.12,661.045 1674.61,661.045 1677.1,661.045 1679.6,661.045 1682.09,661.045 1684.58,661.045 1687.07,661.045 1689.56,661.045 1692.05,661.045 1694.55,661.045 1697.04,661.045 1699.53,661.045 1702.02,661.045 1704.51,661.045 1707,661.045 1709.49,661.045 1711.99,661.045 1714.48,661.045 1716.97,661.045 1719.46,661.045 1721.95,661.045 1724.44,661.045 1726.94,661.045 1729.43,661.045 1731.92,661.045 1734.41,661.045 1736.9,661.045 1739.39,661.045 1741.88,661.045 1744.38,661.045 1746.87,661.045 1749.36,661.045 1751.85,661.045 1754.34,661.045 1756.83,661.045 1759.32,661.045 1761.82,661.045 1764.31,661.045 1766.8,661.045 1769.29,661.045 1771.78,661.045 1774.27,661.045 1776.77,661.045 1779.26,661.045 1781.75,661.045 1784.24,661.045 1786.73,661.045 1789.22,661.045 1791.71,661.045 1794.21,661.045 1796.7,661.045 1799.19,661.045 1801.68,661.045 1804.17,661.045 1806.66,661.045 1809.16,661.045 1811.65,661.045 1814.14,661.045 1816.63,661.045 1819.12,661.045 1821.61,661.045 1824.1,661.045 1826.6,661.045 1829.09,661.045 1831.58,661.045 1834.07,661.045 1836.56,661.045 1839.05,661.045 1841.55,661.045 1844.04,661.045 1846.53,661.045 1849.02,661.045 1851.51,661.045 1854,661.045 1856.49,661.045 1858.99,661.045 1861.48,661.045 1863.97,661.045 1866.46,661.045 1868.95,661.045 1871.44,661.045 1873.93,661.045 1876.43,661.045 1878.92,661.045 1881.41,661.045 1883.9,661.045 1886.39,661.045 1888.88,661.045 1891.38,661.045 1893.87,661.045 1896.36,661.045 1898.85,661.045 1901.34,661.045 1903.83,661.045 1906.32,661.045 1908.82,661.045 1911.31,661.045 1913.8,661.045 1916.29,661.045 1918.78,661.045 1921.27,661.045 1923.77,661.045 1926.26,661.045 1928.75,661.045 1931.24,661.045 1933.73,661.045 1936.22,661.045 1938.71,661.045 1941.21,661.045 1943.7,661.045 1946.19,661.045 1948.68,661.045 1951.17,661.045 1953.66,661.045 1956.16,661.045 1958.65,661.045 1961.14,661.045 1963.63,661.045 1966.12,661.045 1968.61,661.045 1971.1,661.045 1973.6,661.045 1976.09,661.045 1978.58,661.045 1981.07,661.045 1983.56,661.045 1986.05,661.045 1988.54,661.045 1991.04,661.045 1993.53,661.045 1996.02,661.045 1998.51,661.045 2001,661.045 2003.49,661.045 2005.99,661.045 2008.48,661.045 2010.97,661.045 2013.46,661.045 2015.95,661.045 2018.44,661.045 2020.93,661.045 2023.43,661.045 2025.92,661.045 2028.41,661.045 2030.9,661.045 2033.39,661.045 2035.88,661.045 2038.38,661.045 2040.87,661.045 2043.36,661.045 2045.85,661.045 2048.34,661.045 2050.83,661.045 2053.32,661.045 2055.82,661.045 2058.31,661.045 2060.8,661.045 2063.29,661.045 2065.78,661.045 2068.27,661.045 2070.77,661.045 2073.26,661.045 2075.75,661.045 2078.24,661.045 2080.73,661.045 2083.22,661.045 2085.71,661.045 2088.21,661.045 2090.7,661.045 2093.19,661.045 2095.68,661.045 2098.17,661.045 2100.66,661.045 2103.16,661.045 2105.65,661.045 2108.14,661.045 2110.63,661.045 2113.12,661.045 2115.61,661.045 2118.1,661.045 2120.6,661.045 2123.09,661.045 2125.58,661.045 2128.07,661.045 2130.56,661.045 2133.05,661.045 2135.54,661.045 2138.04,661.045 2140.53,661.045 2143.02,661.045 2145.51,661.045 2148,661.045 2150.49,661.045 2152.99,661.045 2155.48,661.045 2157.97,661.045 2160.46,661.045 2162.95,661.045 2165.44,661.045 2167.93,661.045 2170.43,661.045 2172.92,661.045 2175.41,661.045 2177.9,661.045 2180.39,661.045 2182.88,661.045 2185.38,661.045 2187.87,661.045 2190.36,661.045 2192.85,661.045 2195.34,661.045 2197.83,661.045 2200.32,661.045 2202.82,661.045 2205.31,661.045 2207.8,661.045 2210.29,661.045 2212.78,661.045 2215.27,661.045 2217.77,661.045 2220.26,661.045 2222.75,661.045 2225.24,661.045 2227.73,661.045 2230.22,661.045 2232.71,661.045 2235.21,661.045 2237.7,661.045 2240.19,661.045 2242.68,661.045 2245.17,661.045 2247.66,661.045 2250.15,661.045 2252.65,661.045 2255.14,661.045 2257.63,661.045 2260.12,661.045 2262.61,661.045 2265.1,661.045 2267.6,661.045 2270.09,661.045 2272.58,661.045 2275.07,661.045 2277.56,661.045 2280.05,661.045 2282.54,661.045 2285.04,661.045 2287.53,661.045 2290.02,661.045 2292.51,661.045 \"/>\n",
       "<polyline clip-path=\"url(#clip042)\" style=\"stroke:#c271d2; stroke-linecap:round; stroke-linejoin:round; stroke-width:4; stroke-opacity:1; fill:none\" points=\"284.343,661.045 286.834,661.045 289.326,661.045 291.817,661.045 294.309,661.045 296.801,661.045 299.292,661.045 301.784,661.045 304.275,661.045 306.767,661.045 309.258,661.045 311.75,661.044 314.241,661.044 316.733,661.044 319.224,661.044 321.716,661.044 324.207,661.044 326.699,661.044 329.19,661.044 331.682,661.044 334.173,661.044 336.665,661.043 339.156,661.043 341.648,661.043 344.139,661.043 346.631,661.042 349.123,661.042 351.614,661.042 354.106,661.041 356.597,661.041 359.089,661.041 361.58,661.04 364.072,661.04 366.563,661.039 369.055,661.039 371.546,661.038 374.038,661.038 376.529,661.037 379.021,661.036 381.512,661.035 384.004,661.035 386.495,661.034 388.987,661.033 391.478,661.032 393.97,661.031 396.461,661.03 398.953,661.028 401.445,661.027 403.936,661.026 406.428,661.024 408.919,661.023 411.411,661.021 413.902,661.02 416.394,661.018 418.885,661.016 421.377,661.014 423.868,661.012 426.36,661.009 428.851,661.007 431.343,661.004 433.834,661.001 436.326,660.999 438.817,660.996 441.309,660.992 443.8,660.989 446.292,660.985 448.783,660.982 451.275,660.978 453.767,660.973 456.258,660.969 458.75,660.964 461.241,660.959 463.733,660.954 466.224,660.949 468.716,660.943 471.207,660.937 473.699,660.931 476.19,660.924 478.682,660.917 481.173,660.91 483.665,660.902 486.156,660.894 488.648,660.886 491.139,660.877 493.631,660.867 496.122,660.857 498.614,660.847 501.105,660.836 503.597,660.825 506.089,660.813 508.58,660.801 511.072,660.787 513.563,660.774 516.055,660.759 518.546,660.744 521.038,660.729 523.529,660.712 526.021,660.695 528.512,660.677 531.004,660.658 533.495,660.638 535.987,660.617 538.478,660.596 540.97,660.573 543.461,660.55 545.953,660.525 548.444,660.499 550.936,660.472 553.427,660.444 555.919,660.414 558.41,660.383 560.902,660.351 563.394,660.318 565.885,660.282 568.377,660.246 570.868,660.208 573.36,660.168 575.851,660.126 578.343,660.082 580.834,660.037 583.326,659.99 585.817,659.94 588.309,659.889 590.8,659.835 593.292,659.779 595.783,659.721 598.275,659.66 600.766,659.597 603.258,659.531 605.749,659.462 608.241,659.39 610.732,659.315 613.224,659.238 615.716,659.157 618.207,659.072 620.699,658.985 623.19,658.893 625.682,658.798 628.173,658.699 630.665,658.596 633.156,658.489 635.648,658.377 638.139,658.261 640.631,658.14 643.122,658.015 645.614,657.884 648.105,657.749 650.597,657.608 653.088,657.461 655.58,657.308 658.071,657.15 660.563,656.985 663.054,656.814 665.546,656.637 668.038,656.452 670.529,656.26 673.021,656.061 675.512,655.854 678.004,655.64 680.495,655.417 682.987,655.185 685.478,654.945 687.97,654.696 690.461,654.438 692.953,654.169 695.444,653.891 697.936,653.602 700.427,653.303 702.919,652.993 705.41,652.671 707.902,652.337 710.393,651.991 712.885,651.632 715.376,651.261 717.868,650.875 720.36,650.476 722.851,650.063 725.343,649.635 727.834,649.191 730.326,648.732 732.817,648.256 735.309,647.764 737.8,647.254 740.292,646.726 742.783,646.18 745.275,645.615 747.766,645.031 750.258,644.426 752.749,643.8 755.241,643.153 757.732,642.484 760.224,641.792 762.715,641.077 765.207,640.338 767.698,639.574 770.19,638.784 772.682,637.968 775.173,637.126 777.665,636.255 780.156,635.356 782.648,634.428 785.139,633.47 787.631,632.48 790.122,631.459 792.614,630.405 795.105,629.318 797.597,628.196 800.088,627.039 802.58,625.846 805.071,624.616 807.563,623.347 810.054,622.039 812.546,620.692 815.037,619.303 817.529,617.872 820.02,616.398 822.512,614.88 825.004,613.317 827.495,611.708 829.987,610.052 832.478,608.347 834.97,606.593 837.461,604.788 839.953,602.932 842.444,601.023 844.936,599.06 847.427,597.043 849.919,594.969 852.41,592.838 854.902,590.65 857.393,588.401 859.885,586.093 862.376,583.722 864.868,581.29 867.359,578.793 869.851,576.232 872.342,573.604 874.834,570.91 877.326,568.148 879.817,565.316 882.309,562.415 884.8,559.442 887.292,556.398 889.783,553.281 892.275,550.09 894.766,546.824 897.258,543.482 899.749,540.065 902.241,536.57 904.732,532.998 907.224,529.347 909.715,525.617 912.207,521.808 914.698,517.918 917.19,513.948 919.681,509.898 922.173,505.766 924.664,501.553 927.156,497.259 929.648,492.883 932.139,488.426 934.631,483.887 937.122,479.268 939.614,474.568 942.105,469.788 944.597,464.929 947.088,459.991 949.58,454.974 952.071,449.881 954.563,444.712 957.054,439.469 959.546,434.152 962.037,428.764 964.529,423.306 967.02,417.78 969.512,412.189 972.003,406.533 974.495,400.817 976.986,395.042 979.478,389.211 981.969,383.328 984.461,377.395 986.953,371.416 989.444,365.395 991.936,359.336 994.427,353.243 996.919,347.119 999.41,340.971 1001.9,334.803 1004.39,328.619 1006.88,322.425 1009.38,316.228 1011.87,310.032 1014.36,303.844 1016.85,297.671 1019.34,291.519 1021.83,285.395 1024.33,279.307 1026.82,273.262 1029.31,267.267 1031.8,261.332 1034.29,255.464 1036.78,249.672 1039.27,243.966 1041.77,238.354 1044.26,232.846 1046.75,227.451 1049.24,222.181 1051.73,217.044 1054.22,212.052 1056.72,207.216 1059.21,202.546 1061.7,198.054 1064.19,193.752 1066.68,189.651 1069.17,185.762 1071.66,182.099 1074.16,178.673 1076.65,175.497 1079.14,172.584 1081.63,169.945 1084.12,167.595 1086.61,165.545 1089.11,163.808 1091.6,162.398 1094.09,161.327 1096.58,160.609 1099.07,160.256 1101.56,160.281 1104.05,160.697 1106.55,161.516 1109.04,162.751 1111.53,164.413 1114.02,166.516 1116.51,169.07 1119,172.087 1121.49,175.577 1123.99,179.553 1126.48,184.023 1128.97,188.997 1131.46,194.486 1133.95,200.496 1136.44,207.038 1138.94,214.117 1141.43,221.742 1143.92,229.917 1146.41,238.649 1148.9,247.941 1151.39,257.798 1153.88,268.222 1156.38,279.215 1158.87,290.778 1161.36,302.911 1163.85,315.612 1166.34,328.88 1168.83,342.71 1171.33,357.098 1173.82,372.039 1176.31,387.524 1178.8,403.547 1181.29,420.097 1183.78,437.163 1186.27,454.733 1188.77,472.794 1191.26,491.33 1193.75,510.325 1196.24,529.762 1198.73,549.621 1201.22,569.881 1203.72,590.521 1206.21,611.518 1208.7,632.847 1211.19,654.482 1213.68,676.396 1216.17,698.56 1218.66,720.944 1221.16,743.518 1223.65,766.25 1226.14,789.106 1228.63,812.051 1231.12,835.051 1233.61,858.07 1236.1,881.071 1238.6,904.016 1241.09,926.866 1243.58,949.583 1246.07,972.127 1248.56,994.459 1251.05,1016.54 1253.55,1038.32 1256.04,1059.78 1258.53,1080.86 1261.02,1101.53 1263.51,1121.74 1266,1141.46 1268.49,1160.65 1270.99,1179.28 1273.48,1197.3 1275.97,1214.67 1278.46,1231.37 1280.95,1247.37 1283.44,1262.61 1285.94,1277.09 1288.43,1290.76 1290.92,1303.6 1293.41,1315.59 1295.9,1326.7 1298.39,1336.91 1300.88,1346.2 1303.38,1354.55 1305.87,1361.95 1308.36,1368.38 1310.85,1373.84 1313.34,1378.33 1315.83,1381.82 1318.33,1384.33 1320.82,1385.85 1323.31,1386.4 1325.8,1385.96 1328.29,1384.56 1330.78,1382.2 1333.27,1378.9 1335.77,1374.68 1338.26,1369.55 1340.75,1363.55 1343.24,1356.68 1345.73,1348.99 1348.22,1340.49 1350.71,1331.23 1353.21,1321.23 1355.7,1310.53 1358.19,1299.16 1360.68,1287.17 1363.17,1274.6 1365.66,1261.48 1368.16,1247.86 1370.65,1233.78 1373.14,1219.29 1375.63,1204.44 1378.12,1189.25 1380.61,1173.79 1383.1,1158.1 1385.6,1142.21 1388.09,1126.18 1390.58,1110.06 1393.07,1093.87 1395.56,1077.67 1398.05,1061.49 1400.55,1045.38 1403.04,1029.38 1405.53,1013.52 1408.02,997.829 1410.51,982.351 1413,967.114 1415.49,952.148 1417.99,937.481 1420.48,923.137 1422.97,909.139 1425.46,895.509 1427.95,882.266 1430.44,869.424 1432.94,857 1435.43,845.004 1437.92,833.446 1440.41,822.334 1442.9,811.673 1445.39,801.467 1447.88,791.717 1450.38,782.422 1452.87,773.58 1455.36,765.187 1457.85,757.238 1460.34,749.725 1462.83,742.639 1465.33,735.972 1467.82,729.713 1470.31,723.849 1472.8,718.368 1475.29,713.257 1477.78,708.502 1480.27,704.087 1482.77,699.999 1485.26,696.221 1487.75,692.74 1490.24,689.538 1492.73,686.601 1495.22,683.914 1497.71,681.461 1500.21,679.228 1502.7,677.2 1505.19,675.362 1507.68,673.702 1510.17,672.207 1512.66,670.862 1515.16,669.657 1517.65,668.58 1520.14,667.62 1522.63,666.767 1525.12,666.011 1527.61,665.342 1530.1,664.753 1532.6,664.236 1535.09,663.782 1537.58,663.386 1540.07,663.041 1542.56,662.742 1545.05,662.483 1547.55,662.26 1550.04,662.068 1552.53,661.904 1555.02,661.763 1557.51,661.644 1560,661.542 1562.49,661.457 1564.99,661.385 1567.48,661.324 1569.97,661.274 1572.46,661.231 1574.95,661.197 1577.44,661.168 1579.94,661.144 1582.43,661.124 1584.92,661.108 1587.41,661.096 1589.9,661.085 1592.39,661.077 1594.88,661.07 1597.38,661.064 1599.87,661.06 1602.36,661.057 1604.85,661.054 1607.34,661.052 1609.83,661.05 1612.32,661.049 1614.82,661.048 1617.31,661.047 1619.8,661.046 1622.29,661.046 1624.78,661.046 1627.27,661.045 1629.77,661.045 1632.26,661.045 1634.75,661.045 1637.24,661.045 1639.73,661.045 1642.22,661.045 1644.71,661.045 1647.21,661.045 1649.7,661.045 1652.19,661.045 1654.68,661.045 1657.17,661.045 1659.66,661.045 1662.16,661.045 1664.65,661.045 1667.14,661.045 1669.63,661.045 1672.12,661.045 1674.61,661.045 1677.1,661.045 1679.6,661.045 1682.09,661.045 1684.58,661.045 1687.07,661.045 1689.56,661.045 1692.05,661.045 1694.55,661.045 1697.04,661.045 1699.53,661.045 1702.02,661.045 1704.51,661.045 1707,661.045 1709.49,661.045 1711.99,661.045 1714.48,661.045 1716.97,661.045 1719.46,661.045 1721.95,661.045 1724.44,661.045 1726.94,661.045 1729.43,661.045 1731.92,661.045 1734.41,661.045 1736.9,661.045 1739.39,661.045 1741.88,661.045 1744.38,661.045 1746.87,661.045 1749.36,661.045 1751.85,661.045 1754.34,661.045 1756.83,661.045 1759.32,661.045 1761.82,661.045 1764.31,661.045 1766.8,661.045 1769.29,661.045 1771.78,661.045 1774.27,661.045 1776.77,661.045 1779.26,661.045 1781.75,661.045 1784.24,661.045 1786.73,661.045 1789.22,661.045 1791.71,661.045 1794.21,661.045 1796.7,661.045 1799.19,661.045 1801.68,661.045 1804.17,661.045 1806.66,661.045 1809.16,661.045 1811.65,661.045 1814.14,661.045 1816.63,661.045 1819.12,661.045 1821.61,661.045 1824.1,661.045 1826.6,661.045 1829.09,661.045 1831.58,661.045 1834.07,661.045 1836.56,661.045 1839.05,661.045 1841.55,661.045 1844.04,661.045 1846.53,661.045 1849.02,661.045 1851.51,661.045 1854,661.045 1856.49,661.045 1858.99,661.045 1861.48,661.045 1863.97,661.045 1866.46,661.045 1868.95,661.045 1871.44,661.045 1873.93,661.045 1876.43,661.045 1878.92,661.045 1881.41,661.045 1883.9,661.045 1886.39,661.045 1888.88,661.045 1891.38,661.045 1893.87,661.045 1896.36,661.045 1898.85,661.045 1901.34,661.045 1903.83,661.045 1906.32,661.045 1908.82,661.045 1911.31,661.045 1913.8,661.045 1916.29,661.045 1918.78,661.045 1921.27,661.045 1923.77,661.045 1926.26,661.045 1928.75,661.045 1931.24,661.045 1933.73,661.045 1936.22,661.045 1938.71,661.045 1941.21,661.045 1943.7,661.045 1946.19,661.045 1948.68,661.045 1951.17,661.045 1953.66,661.045 1956.16,661.045 1958.65,661.045 1961.14,661.045 1963.63,661.045 1966.12,661.045 1968.61,661.045 1971.1,661.045 1973.6,661.045 1976.09,661.045 1978.58,661.045 1981.07,661.045 1983.56,661.045 1986.05,661.045 1988.54,661.045 1991.04,661.045 1993.53,661.045 1996.02,661.045 1998.51,661.045 2001,661.045 2003.49,661.045 2005.99,661.045 2008.48,661.045 2010.97,661.045 2013.46,661.045 2015.95,661.045 2018.44,661.045 2020.93,661.045 2023.43,661.045 2025.92,661.045 2028.41,661.045 2030.9,661.045 2033.39,661.045 2035.88,661.045 2038.38,661.045 2040.87,661.045 2043.36,661.045 2045.85,661.045 2048.34,661.045 2050.83,661.045 2053.32,661.045 2055.82,661.045 2058.31,661.045 2060.8,661.045 2063.29,661.045 2065.78,661.045 2068.27,661.045 2070.77,661.045 2073.26,661.045 2075.75,661.045 2078.24,661.045 2080.73,661.045 2083.22,661.045 2085.71,661.045 2088.21,661.045 2090.7,661.045 2093.19,661.045 2095.68,661.045 2098.17,661.045 2100.66,661.045 2103.16,661.045 2105.65,661.045 2108.14,661.045 2110.63,661.045 2113.12,661.045 2115.61,661.045 2118.1,661.045 2120.6,661.045 2123.09,661.045 2125.58,661.045 2128.07,661.045 2130.56,661.045 2133.05,661.045 2135.54,661.045 2138.04,661.045 2140.53,661.045 2143.02,661.045 2145.51,661.045 2148,661.045 2150.49,661.045 2152.99,661.045 2155.48,661.045 2157.97,661.045 2160.46,661.045 2162.95,661.045 2165.44,661.045 2167.93,661.045 2170.43,661.045 2172.92,661.045 2175.41,661.045 2177.9,661.045 2180.39,661.045 2182.88,661.045 2185.38,661.045 2187.87,661.045 2190.36,661.045 2192.85,661.045 2195.34,661.045 2197.83,661.045 2200.32,661.045 2202.82,661.045 2205.31,661.045 2207.8,661.045 2210.29,661.045 2212.78,661.045 2215.27,661.045 2217.77,661.045 2220.26,661.045 2222.75,661.045 2225.24,661.045 2227.73,661.045 2230.22,661.045 2232.71,661.045 2235.21,661.045 2237.7,661.045 2240.19,661.045 2242.68,661.045 2245.17,661.045 2247.66,661.045 2250.15,661.045 2252.65,661.045 2255.14,661.045 2257.63,661.045 2260.12,661.045 2262.61,661.045 2265.1,661.045 2267.6,661.045 2270.09,661.045 2272.58,661.045 2275.07,661.045 2277.56,661.045 2280.05,661.045 2282.54,661.045 2285.04,661.045 2287.53,661.045 2290.02,661.045 2292.51,661.045 \"/>\n",
       "<path clip-path=\"url(#clip040)\" d=\"M1963.7 425.996 L2281.8 425.996 L2281.8 166.796 L1963.7 166.796  Z\" fill=\"#ffffff\" fill-rule=\"evenodd\" fill-opacity=\"1\"/>\n",
       "<polyline clip-path=\"url(#clip040)\" style=\"stroke:#000000; stroke-linecap:round; stroke-linejoin:round; stroke-width:4; stroke-opacity:1; fill:none\" points=\"1963.7,425.996 2281.8,425.996 2281.8,166.796 1963.7,166.796 1963.7,425.996 \"/>\n",
       "<polyline clip-path=\"url(#clip040)\" style=\"stroke:#009af9; stroke-linecap:round; stroke-linejoin:round; stroke-width:4; stroke-opacity:1; fill:none\" points=\"1987.36,218.636 2129.27,218.636 \"/>\n",
       "<path clip-path=\"url(#clip040)\" d=\"M2173.27 214.967 Q2174.86 212.096 2177.08 210.731 Q2179.31 209.365 2182.32 209.365 Q2186.37 209.365 2188.57 212.212 Q2190.76 215.036 2190.76 220.268 L2190.76 235.916 L2186.48 235.916 L2186.48 220.407 Q2186.48 216.68 2185.16 214.874 Q2183.84 213.069 2181.14 213.069 Q2177.83 213.069 2175.9 215.268 Q2173.98 217.467 2173.98 221.263 L2173.98 235.916 L2169.7 235.916 L2169.7 220.407 Q2169.7 216.657 2168.38 214.874 Q2167.06 213.069 2164.31 213.069 Q2161.04 213.069 2159.12 215.291 Q2157.2 217.49 2157.2 221.263 L2157.2 235.916 L2152.92 235.916 L2152.92 209.99 L2157.2 209.99 L2157.2 214.018 Q2158.66 211.633 2160.7 210.499 Q2162.73 209.365 2165.53 209.365 Q2168.36 209.365 2170.33 210.8 Q2172.32 212.235 2173.27 214.967 Z\" fill=\"#000000\" fill-rule=\"evenodd\" fill-opacity=\"1\" /><polyline clip-path=\"url(#clip040)\" style=\"stroke:#e26f46; stroke-linecap:round; stroke-linejoin:round; stroke-width:4; stroke-opacity:1; fill:none\" points=\"1987.36,270.476 2129.27,270.476 \"/>\n",
       "<path clip-path=\"url(#clip040)\" d=\"M2171.69 274.816 Q2171.69 270.117 2169.75 267.455 Q2167.83 264.77 2164.45 264.77 Q2161.07 264.77 2159.12 267.455 Q2157.2 270.117 2157.2 274.816 Q2157.2 279.515 2159.12 282.2 Q2161.07 284.862 2164.45 284.862 Q2167.83 284.862 2169.75 282.2 Q2171.69 279.515 2171.69 274.816 M2157.2 265.765 Q2158.54 263.45 2160.58 262.339 Q2162.64 261.205 2165.49 261.205 Q2170.21 261.205 2173.15 264.955 Q2176.11 268.705 2176.11 274.816 Q2176.11 280.927 2173.15 284.677 Q2170.21 288.427 2165.49 288.427 Q2162.64 288.427 2160.58 287.316 Q2158.54 286.182 2157.2 283.867 L2157.2 287.756 L2152.92 287.756 L2152.92 251.737 L2157.2 251.737 L2157.2 265.765 Z\" fill=\"#000000\" fill-rule=\"evenodd\" fill-opacity=\"1\" /><path clip-path=\"url(#clip040)\" d=\"M2205.35 273.728 L2205.35 275.811 L2185.77 275.811 Q2186.04 280.209 2188.4 282.524 Q2190.79 284.816 2195.02 284.816 Q2197.48 284.816 2199.77 284.214 Q2202.08 283.612 2204.35 282.409 L2204.35 286.436 Q2202.06 287.408 2199.65 287.918 Q2197.25 288.427 2194.77 288.427 Q2188.57 288.427 2184.93 284.816 Q2181.32 281.205 2181.32 275.047 Q2181.32 268.682 2184.75 264.955 Q2188.2 261.205 2194.03 261.205 Q2199.26 261.205 2202.29 264.585 Q2205.35 267.941 2205.35 273.728 M2201.09 272.478 Q2201.04 268.983 2199.12 266.899 Q2197.22 264.816 2194.08 264.816 Q2190.51 264.816 2188.36 266.83 Q2186.23 268.844 2185.9 272.501 L2201.09 272.478 Z\" fill=\"#000000\" fill-rule=\"evenodd\" fill-opacity=\"1\" /><path clip-path=\"url(#clip040)\" d=\"M2216.55 254.469 L2216.55 261.83 L2225.32 261.83 L2225.32 265.14 L2216.55 265.14 L2216.55 279.214 Q2216.55 282.385 2217.41 283.288 Q2218.29 284.191 2220.95 284.191 L2225.32 284.191 L2225.32 287.756 L2220.95 287.756 Q2216.02 287.756 2214.14 285.927 Q2212.27 284.075 2212.27 279.214 L2212.27 265.14 L2209.14 265.14 L2209.14 261.83 L2212.27 261.83 L2212.27 254.469 L2216.55 254.469 Z\" fill=\"#000000\" fill-rule=\"evenodd\" fill-opacity=\"1\" /><path clip-path=\"url(#clip040)\" d=\"M2242.71 274.723 Q2237.55 274.723 2235.56 275.904 Q2233.57 277.084 2233.57 279.932 Q2233.57 282.2 2235.05 283.543 Q2236.55 284.862 2239.12 284.862 Q2242.66 284.862 2244.79 282.362 Q2246.95 279.839 2246.95 275.672 L2246.95 274.723 L2242.71 274.723 M2251.2 272.964 L2251.2 287.756 L2246.95 287.756 L2246.95 283.821 Q2245.49 286.182 2243.31 287.316 Q2241.14 288.427 2237.99 288.427 Q2234.01 288.427 2231.64 286.205 Q2229.31 283.959 2229.31 280.209 Q2229.31 275.834 2232.22 273.612 Q2235.16 271.39 2240.97 271.39 L2246.95 271.39 L2246.95 270.973 Q2246.95 268.034 2245 266.436 Q2243.08 264.816 2239.58 264.816 Q2237.36 264.816 2235.26 265.348 Q2233.15 265.881 2231.2 266.946 L2231.2 263.01 Q2233.54 262.108 2235.74 261.668 Q2237.94 261.205 2240.02 261.205 Q2245.65 261.205 2248.43 264.122 Q2251.2 267.038 2251.2 272.964 Z\" fill=\"#000000\" fill-rule=\"evenodd\" fill-opacity=\"1\" /><polyline clip-path=\"url(#clip040)\" style=\"stroke:#3da44d; stroke-linecap:round; stroke-linejoin:round; stroke-width:4; stroke-opacity:1; fill:none\" points=\"1987.36,322.316 2129.27,322.316 \"/>\n",
       "<path clip-path=\"url(#clip040)\" d=\"M2157.2 335.707 L2157.2 349.457 L2152.92 349.457 L2152.92 313.67 L2157.2 313.67 L2157.2 317.605 Q2158.54 315.29 2160.58 314.179 Q2162.64 313.045 2165.49 313.045 Q2170.21 313.045 2173.15 316.795 Q2176.11 320.545 2176.11 326.656 Q2176.11 332.767 2173.15 336.517 Q2170.21 340.267 2165.49 340.267 Q2162.64 340.267 2160.58 339.156 Q2158.54 338.022 2157.2 335.707 M2171.69 326.656 Q2171.69 321.957 2169.75 319.295 Q2167.83 316.61 2164.45 316.61 Q2161.07 316.61 2159.12 319.295 Q2157.2 321.957 2157.2 326.656 Q2157.2 331.355 2159.12 334.04 Q2161.07 336.702 2164.45 336.702 Q2167.83 336.702 2169.75 334.04 Q2171.69 331.355 2171.69 326.656 Z\" fill=\"#000000\" fill-rule=\"evenodd\" fill-opacity=\"1\" /><path clip-path=\"url(#clip040)\" d=\"M2199.7 314.434 L2199.7 318.462 Q2197.89 317.536 2195.95 317.073 Q2194.01 316.61 2191.92 316.61 Q2188.75 316.61 2187.15 317.582 Q2185.58 318.554 2185.58 320.499 Q2185.58 321.98 2186.71 322.837 Q2187.85 323.67 2191.27 324.434 L2192.73 324.758 Q2197.27 325.73 2199.17 327.512 Q2201.09 329.272 2201.09 332.443 Q2201.09 336.054 2198.22 338.161 Q2195.37 340.267 2190.37 340.267 Q2188.29 340.267 2186.02 339.85 Q2183.77 339.457 2181.27 338.647 L2181.27 334.249 Q2183.64 335.475 2185.93 336.1 Q2188.22 336.702 2190.46 336.702 Q2193.47 336.702 2195.09 335.684 Q2196.71 334.642 2196.71 332.767 Q2196.71 331.031 2195.53 330.105 Q2194.38 329.179 2190.42 328.323 L2188.94 327.975 Q2184.98 327.142 2183.22 325.429 Q2181.46 323.693 2181.46 320.684 Q2181.46 317.026 2184.05 315.036 Q2186.64 313.045 2191.41 313.045 Q2193.77 313.045 2195.86 313.392 Q2197.94 313.739 2199.7 314.434 Z\" fill=\"#000000\" fill-rule=\"evenodd\" fill-opacity=\"1\" /><path clip-path=\"url(#clip040)\" d=\"M2207.87 313.67 L2212.13 313.67 L2212.13 339.596 L2207.87 339.596 L2207.87 313.67 M2207.87 303.577 L2212.13 303.577 L2212.13 308.971 L2207.87 308.971 L2207.87 303.577 Z\" fill=\"#000000\" fill-rule=\"evenodd\" fill-opacity=\"1\" /><polyline clip-path=\"url(#clip040)\" style=\"stroke:#c271d2; stroke-linecap:round; stroke-linejoin:round; stroke-width:4; stroke-opacity:1; fill:none\" points=\"1987.36,374.156 2129.27,374.156 \"/>\n",
       "<path clip-path=\"url(#clip040)\" d=\"M2157.2 387.547 L2157.2 401.297 L2152.92 401.297 L2152.92 365.51 L2157.2 365.51 L2157.2 369.445 Q2158.54 367.13 2160.58 366.019 Q2162.64 364.885 2165.49 364.885 Q2170.21 364.885 2173.15 368.635 Q2176.11 372.385 2176.11 378.496 Q2176.11 384.607 2173.15 388.357 Q2170.21 392.107 2165.49 392.107 Q2162.64 392.107 2160.58 390.996 Q2158.54 389.862 2157.2 387.547 M2171.69 378.496 Q2171.69 373.797 2169.75 371.135 Q2167.83 368.45 2164.45 368.45 Q2161.07 368.45 2159.12 371.135 Q2157.2 373.797 2157.2 378.496 Q2157.2 383.195 2159.12 385.88 Q2161.07 388.542 2164.45 388.542 Q2167.83 388.542 2169.75 385.88 Q2171.69 383.195 2171.69 378.496 Z\" fill=\"#000000\" fill-rule=\"evenodd\" fill-opacity=\"1\" /><path clip-path=\"url(#clip040)\" d=\"M2199.7 366.274 L2199.7 370.302 Q2197.89 369.376 2195.95 368.913 Q2194.01 368.45 2191.92 368.45 Q2188.75 368.45 2187.15 369.422 Q2185.58 370.394 2185.58 372.339 Q2185.58 373.82 2186.71 374.677 Q2187.85 375.51 2191.27 376.274 L2192.73 376.598 Q2197.27 377.57 2199.17 379.352 Q2201.09 381.112 2201.09 384.283 Q2201.09 387.894 2198.22 390.001 Q2195.37 392.107 2190.37 392.107 Q2188.29 392.107 2186.02 391.69 Q2183.77 391.297 2181.27 390.487 L2181.27 386.089 Q2183.64 387.315 2185.93 387.94 Q2188.22 388.542 2190.46 388.542 Q2193.47 388.542 2195.09 387.524 Q2196.71 386.482 2196.71 384.607 Q2196.71 382.871 2195.53 381.945 Q2194.38 381.019 2190.42 380.163 L2188.94 379.815 Q2184.98 378.982 2183.22 377.269 Q2181.46 375.533 2181.46 372.524 Q2181.46 368.866 2184.05 366.876 Q2186.64 364.885 2191.41 364.885 Q2193.77 364.885 2195.86 365.232 Q2197.94 365.579 2199.7 366.274 Z\" fill=\"#000000\" fill-rule=\"evenodd\" fill-opacity=\"1\" /><path clip-path=\"url(#clip040)\" d=\"M2207.87 365.51 L2212.13 365.51 L2212.13 391.436 L2207.87 391.436 L2207.87 365.51 M2207.87 355.417 L2212.13 355.417 L2212.13 360.811 L2207.87 360.811 L2207.87 355.417 Z\" fill=\"#000000\" fill-rule=\"evenodd\" fill-opacity=\"1\" /><path clip-path=\"url(#clip040)\" d=\"M2222.13 385.556 L2227.01 385.556 L2227.01 389.538 L2223.22 396.945 L2220.23 396.945 L2222.13 389.538 L2222.13 385.556 Z\" fill=\"#000000\" fill-rule=\"evenodd\" fill-opacity=\"1\" /><path clip-path=\"url(#clip040)\" d=\"M2257.66 365.51 L2248.29 378.126 L2258.15 391.436 L2253.13 391.436 L2245.58 381.251 L2238.03 391.436 L2233.01 391.436 L2243.08 377.871 L2233.87 365.51 L2238.89 365.51 L2245.76 374.746 L2252.64 365.51 L2257.66 365.51 Z\" fill=\"#000000\" fill-rule=\"evenodd\" fill-opacity=\"1\" /></svg>\n"
      ]
     },
     "execution_count": 586,
     "metadata": {},
     "output_type": "execute_result"
    }
   ],
   "source": [
    "using Plots #showing initial data and the initial status of the horizon finder\n",
    "plot(initX, state_array[:,1:4], xaxis=\"x\",title=\"Initial Data\", labels=[\"m\" \"beta\" \"psi\" \"psi,x\"])#, xlim=[-0.001, 0.001])\"\"\""
   ]
  },
  {
   "cell_type": "markdown",
   "id": "9b444ece",
   "metadata": {
    "papermill": {
     "duration": null,
     "end_time": null,
     "exception": null,
     "start_time": null,
     "status": "completed"
    },
    "tags": []
   },
   "source": [
    "# Defining the initial state array for the evolution m β Ψ and Ψ,x"
   ]
  },
  {
   "cell_type": "code",
   "execution_count": 587,
   "id": "9902ffab",
   "metadata": {
    "execution": {
     "iopub.execute_input": "2023-03-01T09:50:44.779000Z",
     "iopub.status.busy": "2023-03-01T09:50:44.779000Z",
     "iopub.status.idle": "2023-03-01T09:50:53.694000Z",
     "shell.execute_reply": "2023-03-01T09:50:53.694000Z"
    },
    "papermill": {
     "duration": null,
     "end_time": null,
     "exception": null,
     "start_time": null,
     "status": "completed"
    },
    "tags": []
   },
   "outputs": [
    {
     "data": {
      "text/plain": [
       "\"/home/rita13santos/Desktop/MSc Thesis/Git/ScalarField/DATA/res3/time_step0.csv\""
      ]
     },
     "execution_count": 587,
     "metadata": {},
     "output_type": "execute_result"
    }
   ],
   "source": [
    "using CSV, Tables\n",
    "#CSV.write(dir*\"/time_step0.csv\", Tables.table(transpose(Matrix(state_array))), writeheader=false)\n",
    "CSV.write(dir*\"/time_step0.csv\", Tables.table(state_array), writeheader=false)"
   ]
  },
  {
   "cell_type": "code",
   "execution_count": 588,
   "id": "fff1426a",
   "metadata": {},
   "outputs": [
    {
     "data": {
      "text/plain": [
       "\"/home/rita13santos/Desktop/MSc Thesis/Git/ScalarField/DATA/parameters.csv\""
      ]
     },
     "execution_count": 588,
     "metadata": {},
     "output_type": "execute_result"
    }
   ],
   "source": [
    "timestep=0\n",
    "criticality=false\n",
    "explode=false\n",
    "critical_stop=0\n",
    "evol_stats = [criticality A sigma r0 timestep explode]\n",
    "monitor_ratio = zeros(L)\n",
    "CSV.write(\"/home/rita13santos/Desktop/MSc Thesis/Git/ScalarField/DATA/parameters.csv\", Tables.table(evol_stats), writeheader=true, header=[\"criticality\", \"A\", \"sigma\", \"r0\", \"timestep\", \"explode\"])"
   ]
  },
  {
   "cell_type": "markdown",
   "id": "42e2c73d",
   "metadata": {
    "papermill": {
     "duration": null,
     "end_time": null,
     "exception": null,
     "start_time": null,
     "status": "completed"
    },
    "tags": []
   },
   "source": [
    " ## Time evolution"
   ]
  },
  {
   "cell_type": "markdown",
   "id": "7da47594",
   "metadata": {
    "papermill": {
     "duration": null,
     "end_time": null,
     "exception": null,
     "start_time": null,
     "status": "completed"
    },
    "tags": []
   },
   "source": [
    "fixed grid"
   ]
  },
  {
   "cell_type": "code",
   "execution_count": 589,
   "id": "01bca6ee",
   "metadata": {
    "execution": {
     "iopub.execute_input": "2023-03-01T09:50:54.690000Z",
     "iopub.status.busy": "2023-03-01T09:50:53.766000Z",
     "iopub.status.idle": "2023-03-01T09:51:14.077000Z",
     "shell.execute_reply": "2023-03-01T09:51:14.076000Z"
    },
    "papermill": {
     "duration": null,
     "end_time": null,
     "exception": null,
     "start_time": null,
     "status": "completed"
    },
    "tags": []
   },
   "outputs": [
    {
     "name": "stderr",
     "output_type": "stream",
     "text": [
      "\u001b[32mProgress: 100%|█████████████████████████████████████████| Time: 0:00:38\u001b[39m\n"
     ]
    },
    {
     "data": {
      "text/plain": [
       "\"/home/rita13santos/Desktop/MSc Thesis/Git/ScalarField/DATA/parameters.csv\""
      ]
     },
     "execution_count": 589,
     "metadata": {},
     "output_type": "execute_result"
    }
   ],
   "source": [
    "using Interpolations\n",
    "using ProgressMeter\n",
    "@showprogress for t in 1:10#length(T)\n",
    "    \n",
    "    if isnan(state_array[L-3,4])\n",
    "        print(\"boom\")\n",
    "        explode = true\n",
    "        timestep = t\n",
    "        break\n",
    "    end\n",
    "    \n",
    "    \n",
    "    X=initX #state_array[:,5]\n",
    "    X1=X[4:L-3]\n",
    "\n",
    "    #update ghost points\n",
    "    #state_array=boundarySF(state_array,X)\n",
    "   \n",
    "    #evolve psi,x\n",
    "    global state_array[:,1:4] = rungekutta4molstep(SF_RHS,state_array[:,1:4],T,t,0,initX) #evolve psi,x\n",
    "    global state_array=ghost(state_array)\n",
    "\n",
    "    #global aux=SF_RHS(state_array[:,:], 0,0,X)\n",
    "    \n",
    "    #calculate psi from psi,x\n",
    "    global spl_derpsi = scipyinterpolate.splrep(initX[4:L-3], state_array[4:L-3,4],k=4)\n",
    "    psi0=0\n",
    "    SFconstraint_psi(psi0,x) = scipyinterpolate.splev(x, spl_derpsi)\n",
    "\n",
    "    global state_array[4:L-3,3] = rungekutta4(SFconstraint_psi,psi0,initX1)\n",
    "    global state_array=ghost(state_array);\n",
    "\n",
    "    global spl_psi = scipyinterpolate.splrep(initX[4:L-3], state_array[4:L-3,3],k=4)\n",
    "    global psi_func(x) = scipyinterpolate.splev(x, spl_psi)\n",
    "    global derpsi_func(x) = scipyinterpolate.splev(x, spl_derpsi)\n",
    "\n",
    "    global funcs = [psi_func derpsi_func]\n",
    "    \n",
    "    #evolve beta\n",
    "    global state_array[4:L-3,2]=rk4wrapper(SFconstraint_beta,beta0,X1,T[t+1],funcs)\n",
    "    global state_array=ghost(state_array)\n",
    "    \n",
    "    #evolve m\n",
    "    global state_array[4:L-3,1]=rk4wrapper(SFconstraint_m,m0,X1,T[t+1],funcs)\n",
    "    global state_array=ghost(state_array)\n",
    "    \n",
    "    #CSV.write(dir*\"/time_step$k.csv\", Tables.table(transpose(Matrix(state_array))), writeheader=false)\n",
    "    CSV.write(dir*\"/time_step$t.csv\", Tables.table(state_array), writeheader=false)\n",
    "    \n",
    "    \n",
    "    #threshold for apparent black hole formation\n",
    "    \"\"\"global monitor_ratio = zeros(L)\n",
    "    for i in 1:L\n",
    "        global monitor_ratio[i] = 2*state_array[i,1]/initX[i]*(1-initX[i])\n",
    "        if monitor_ratio[i]>0.6\n",
    "            global criticality = true\n",
    "            println(\"Supercritical evolution!\")\n",
    "            println(\"i = \", i, \" t = \", t, \" monitor ratio = \", monitor_ratio[i])\n",
    "            critical_stop += 1\n",
    "            timestep = t\n",
    "        end\n",
    "    end\n",
    "    \n",
    "    if critical_stop >=15\n",
    "        print(\"Found apparent horizon formation\")\n",
    "        timestep = t\n",
    "        break\n",
    "    end\"\"\"\n",
    "    timestep = t\n",
    "end\n",
    "\n",
    "\n",
    "global evol_stats = [criticality A sigma r0 timestep explode]\n",
    "\n",
    "CSV.write(\"/home/rita13santos/Desktop/MSc Thesis/Git/ScalarField/DATA/parameters.csv\", Tables.table(evol_stats), writeheader=true,header=[\"criticality\", \"A\", \"sigma\", \"r0\", \"timestep\", \"explode\"])\n",
    "\n",
    "#CSV.write(\"/home/rita13santos/Desktop/MSc Thesis/Git/ScalarField/DATA/parameters.csv\", Tables.table(transpose(Array(monitor_ratio))), delim = ';', writeheader=false, append=true)"
   ]
  },
  {
   "cell_type": "code",
   "execution_count": null,
   "id": "62ac7cf3",
   "metadata": {},
   "outputs": [],
   "source": []
  },
  {
   "cell_type": "code",
   "execution_count": null,
   "id": "eeca1ea7",
   "metadata": {},
   "outputs": [],
   "source": []
  },
  {
   "cell_type": "code",
   "execution_count": null,
   "id": "1e97fedd",
   "metadata": {},
   "outputs": [],
   "source": []
  },
  {
   "cell_type": "code",
   "execution_count": null,
   "id": "e38f53a6",
   "metadata": {},
   "outputs": [],
   "source": []
  },
  {
   "cell_type": "code",
   "execution_count": null,
   "id": "7abd60a2",
   "metadata": {},
   "outputs": [],
   "source": []
  },
  {
   "cell_type": "code",
   "execution_count": null,
   "id": "70f2c204",
   "metadata": {},
   "outputs": [],
   "source": []
  },
  {
   "cell_type": "code",
   "execution_count": null,
   "id": "0e1bb132",
   "metadata": {},
   "outputs": [],
   "source": []
  },
  {
   "cell_type": "code",
   "execution_count": null,
   "id": "92c9d582",
   "metadata": {},
   "outputs": [],
   "source": []
  },
  {
   "cell_type": "code",
   "execution_count": null,
   "id": "dd336b87",
   "metadata": {},
   "outputs": [],
   "source": []
  },
  {
   "cell_type": "code",
   "execution_count": null,
   "id": "001bf55c",
   "metadata": {},
   "outputs": [],
   "source": []
  },
  {
   "cell_type": "code",
   "execution_count": 357,
   "id": "4d9d50bc",
   "metadata": {},
   "outputs": [],
   "source": [
    "#aux2 = range(1,10,step=0.01/2)"
   ]
  },
  {
   "cell_type": "code",
   "execution_count": 358,
   "id": "4548adb3",
   "metadata": {},
   "outputs": [
    {
     "ename": "LoadError",
     "evalue": "UndefVarError: x2 not defined",
     "output_type": "error",
     "traceback": [
      "UndefVarError: x2 not defined",
      "",
      "Stacktrace:",
      " [1] top-level scope",
      "   @ In[358]:2"
     ]
    }
   ],
   "source": [
    "#spl2 = scipyinterpolate.splrep(aux2, sin.(aux2),k=2)\n",
    "func2 = cubic_spline_interpolation(x2, var2,  extrapolation_bc = Line());\n",
    "#func2(x) = scipyinterpolate.splev(x, spl2)\n",
    "\n"
   ]
  },
  {
   "cell_type": "code",
   "execution_count": 494,
   "id": "0780fc6b",
   "metadata": {},
   "outputs": [],
   "source": [
    "#aux4 = range(1,10,step=0.01/4)\n",
    "#spl4 = scipyinterpolate.splrep(aux4, sin.(aux4),k=2)\n",
    "func4 = cubic_spline_interpolation(x4, var4,  extrapolation_bc = Line());\n",
    "#func4(x) = scipyinterpolate.splev(x, spl4)"
   ]
  },
  {
   "cell_type": "code",
   "execution_count": 508,
   "id": "6ca22fcf",
   "metadata": {},
   "outputs": [
    {
     "data": {
      "application/vnd.plotly.v1+json": {
       "data": [
        {
         "colorbar": {
          "len": 0.8657316272965879,
          "title": "",
          "x": 0.9934383202099737,
          "y": 0.5086805555555556
         },
         "legendgroup": "m",
         "marker": {
          "color": "rgba(0, 154, 250, 1.000)",
          "line": {
           "color": "rgba(0, 0, 0, 1.000)",
           "width": 1
          },
          "size": 8,
          "symbol": "circle"
         },
         "mode": "markers",
         "name": "m",
         "showlegend": true,
         "type": "scatter",
         "x": [
          0,
          0.0125,
          0.025,
          0.0375,
          0.05,
          0.0625,
          0.075,
          0.0875,
          0.1,
          0.1125,
          0.125,
          0.1375,
          0.15,
          0.1625,
          0.175,
          0.1875,
          0.2,
          0.2125,
          0.225,
          0.2375,
          0.25,
          0.2625,
          0.275,
          0.2875,
          0.3,
          0.3125,
          0.325,
          0.3375,
          0.35,
          0.3625,
          0.375,
          0.3875,
          0.4,
          0.4125,
          0.425,
          0.4375,
          0.45,
          0.4625,
          0.475,
          0.4875,
          0.5,
          0.5125,
          0.525,
          0.5375,
          0.55,
          0.5625,
          0.575,
          0.5875,
          0.6,
          0.6125,
          0.625,
          0.6375,
          0.65,
          0.6625,
          0.675,
          0.6875,
          0.7,
          0.7125,
          0.725,
          0.7375,
          0.75,
          0.7625,
          0.775,
          0.7875,
          0.8,
          0.8125,
          0.825,
          0.8375,
          0.85,
          0.8625,
          0.875,
          0.8875,
          0.9,
          0.9125,
          0.925,
          0.9375,
          0.95,
          0.9625,
          0.975,
          0.9875,
          1
         ],
         "xaxis": "x",
         "y": [
          2.524354896707238e-29,
          2.653548819787416e-13,
          3.4267112225405353e-13,
          9.395592942292557e-13,
          1.420675575019025e-12,
          1.8742113002375045e-12,
          9.107153960577793e-12,
          4.578985844218926e-11,
          6.572037829890896e-11,
          3.987475309436353e-10,
          3.773518861408886e-10,
          2.6421284038432525e-09,
          1.9166246971927022e-09,
          1.4443760461586736e-08,
          8.638871438808261e-09,
          6.986025300685386e-08,
          3.4738202990377333e-08,
          2.9737912928834176e-07,
          1.232462226039363e-07,
          1.1249401861592031e-06,
          3.753102887126339e-07,
          3.6386847290474774e-06,
          9.248651283136258e-07,
          9.638011608303909e-06,
          1.589407109591455e-06,
          1.753457245022398e-05,
          8.16209621470193e-07,
          9.065308822345242e-06,
          4.7345214393285096e-06,
          6.54255175625007e-05,
          1.2857863299867156e-05,
          0.00016716245828832244,
          1.5473389050613129e-06,
          2.0533200623451542e-05,
          6.0076637293460244e-05,
          0.0007137979816407847,
          6.776908688743699e-05,
          0.0001745918120816814,
          5.390734246885076e-05,
          0.0020224027894178986,
          1.782200546746049e-05,
          0.0007294517963032376,
          5.517052185510796e-05,
          0.0013399472947609459,
          9.845308569578215e-05,
          0.000634438899901113,
          9.065554539533505e-05,
          1.654275637963387e-05,
          6.015601903242018e-05,
          7.580763415793168e-05,
          5.6430482521130365e-05,
          5.233238802959672e-05,
          5.6365991120688186e-05,
          5.745464120066046e-05,
          5.636593917834887e-05,
          5.6074223921509514e-05,
          5.636593429236836e-05,
          5.6444097759955625e-05,
          5.636593374291898e-05,
          5.63449897478252e-05,
          5.6365933682300806e-05,
          5.6371545591571426e-05,
          5.636593367586151e-05,
          5.6364429967370455e-05,
          5.636593367519538e-05,
          5.6366336592450494e-05,
          5.6365933674973334e-05,
          5.636582571366677e-05,
          5.6365933675084356e-05,
          5.636596260338855e-05,
          5.6365933675084356e-05,
          5.636592592361822e-05,
          5.6365933675084356e-05,
          5.6365935752311636e-05,
          5.6365933674973334e-05,
          5.6365933117641376e-05,
          5.6365933675084356e-05,
          5.6365933826851844e-05,
          5.636593367519538e-05,
          5.636593362456921e-05,
          5.63659336753064e-05
         ],
         "yaxis": "y"
        },
        {
         "colorbar": {
          "len": 0.8657316272965879,
          "title": "",
          "x": 0.9934383202099737,
          "y": 0.5086805555555556
         },
         "legendgroup": "beta",
         "marker": {
          "color": "rgba(227, 111, 71, 1.000)",
          "line": {
           "color": "rgba(0, 0, 0, 1.000)",
           "width": 1
          },
          "size": 8,
          "symbol": "circle"
         },
         "mode": "markers",
         "name": "beta",
         "showlegend": true,
         "type": "scatter",
         "x": [
          0,
          0.0125,
          0.025,
          0.0375,
          0.05,
          0.0625,
          0.075,
          0.0875,
          0.1,
          0.1125,
          0.125,
          0.1375,
          0.15,
          0.1625,
          0.175,
          0.1875,
          0.2,
          0.2125,
          0.225,
          0.2375,
          0.25,
          0.2625,
          0.275,
          0.2875,
          0.3,
          0.3125,
          0.325,
          0.3375,
          0.35,
          0.3625,
          0.375,
          0.3875,
          0.4,
          0.4125,
          0.425,
          0.4375,
          0.45,
          0.4625,
          0.475,
          0.4875,
          0.5,
          0.5125,
          0.525,
          0.5375,
          0.55,
          0.5625,
          0.575,
          0.5875,
          0.6,
          0.6125,
          0.625,
          0.6375,
          0.65,
          0.6625,
          0.675,
          0.6875,
          0.7,
          0.7125,
          0.725,
          0.7375,
          0.75,
          0.7625,
          0.775,
          0.7875,
          0.8,
          0.8125,
          0.825,
          0.8375,
          0.85,
          0.8625,
          0.875,
          0.8875,
          0.9,
          0.9125,
          0.925,
          0.9375,
          0.95,
          0.9625,
          0.975,
          0.9875,
          1
         ],
         "xaxis": "x",
         "y": [
          1.9852336278994475e-23,
          4.964467068745265e-08,
          7.94303132948866e-08,
          6.949820505562747e-08,
          9.155543621861291e-12,
          1.29097786558623e-07,
          2.383689934683725e-07,
          2.2853182431822704e-07,
          1.3100999574904205e-10,
          4.665906108967497e-07,
          8.724334517401627e-07,
          8.400580139212062e-07,
          1.4781011333155785e-09,
          1.7320420245251275e-06,
          3.273596917510104e-06,
          3.222621581711114e-06,
          3.1561350064796776e-08,
          6.62903944085397e-06,
          1.207220697123112e-05,
          1.0869048849388985e-05,
          3.605721205655936e-07,
          2.1820533655669064e-05,
          4.305843075331638e-05,
          4.706370033186332e-05,
          1.249429713151009e-06,
          0.00010844906024217002,
          0.00020643116492169216,
          0.00019876180544076485,
          7.833289577515671e-06,
          0.00036955123612894547,
          0.0006552726567582851,
          0.0005553853697678988,
          6.046209492880511e-06,
          0.0009119519368012176,
          0.0014912487703323644,
          0.0011051374867650406,
          0.00020203296560594025,
          0.0020155359821253487,
          0.0031222825043121932,
          0.0024955725073512944,
          0.0006526245549163187,
          0.0014511057254083595,
          0.0026511330388845483,
          0.0021510417258286466,
          0.0008357243339297479,
          0.00017566811018648182,
          0.0005082588715210404,
          0.00011331867321157096,
          0.0004975662206839274,
          0.0008043148075560572,
          0.0008131826715101487,
          0.0006622002623003359,
          0.0004901609055615458,
          0.0004066381547856851,
          0.00040356359901202316,
          0.0004435081461054771,
          0.0004892419436866163,
          0.0005114389546416534,
          0.0005121891631641867,
          0.0005014401350183981,
          0.0004891537409434099,
          0.0004831891847490652,
          0.0004829806975530093,
          0.0004858565240627097,
          0.0004891459360371331,
          0.0004907427610856413,
          0.0004907980231679404,
          0.0004900270637659132,
          0.0004891452981005753,
          0.0004887170096535692,
          0.0004887018812104252,
          0.0004889084467061544,
          0.0004891452453700054,
          0.0004892611248487819,
          0.0004892661611653887,
          0.0004892107375316437,
          0.0004891452375393873,
          0.000489109968119128,
          0.0004891049291761082,
          0.0004891200438655943,
          0.0004891452353681658
         ],
         "yaxis": "y"
        }
       ],
       "layout": {
        "annotations": [
         {
          "font": {
           "color": "rgba(0, 0, 0, 1.000)",
           "family": "sans-serif",
           "size": 20
          },
          "rotation": 0,
          "showarrow": false,
          "text": "Initial Data",
          "x": 0.5370370370370371,
          "xanchor": "center",
          "xref": "paper",
          "y": 1,
          "yanchor": "top",
          "yref": "paper"
         }
        ],
        "height": 400,
        "legend": {
         "bgcolor": "rgba(255, 255, 255, 1.000)",
         "bordercolor": "rgba(0, 0, 0, 1.000)",
         "borderwidth": 1,
         "font": {
          "color": "rgba(0, 0, 0, 1.000)",
          "family": "sans-serif",
          "size": 11
         },
         "title": {
          "font": {
           "color": "rgba(0, 0, 0, 1.000)",
           "family": "sans-serif",
           "size": 15
          },
          "text": ""
         },
         "tracegroupgap": 0,
         "traceorder": "normal",
         "x": 1,
         "xanchor": "auto",
         "y": 1,
         "yanchor": "auto"
        },
        "margin": {
         "b": 20,
         "l": 0,
         "r": 0,
         "t": 20
        },
        "paper_bgcolor": "rgba(255, 255, 255, 1.000)",
        "plot_bgcolor": "rgba(255, 255, 255, 1.000)",
        "showlegend": true,
        "width": 600,
        "xaxis": {
         "anchor": "y",
         "domain": [
          0.08063575386410031,
          0.9934383202099737
         ],
         "gridcolor": "rgba(0, 0, 0, 0.100)",
         "gridwidth": 0.5,
         "linecolor": "rgba(0, 0, 0, 1.000)",
         "mirror": false,
         "range": [
          -0.030000000000000027,
          1.03
         ],
         "showgrid": true,
         "showline": true,
         "showticklabels": true,
         "tickangle": 0,
         "tickcolor": "rgb(0, 0, 0)",
         "tickfont": {
          "color": "rgba(0, 0, 0, 1.000)",
          "family": "sans-serif",
          "size": 11
         },
         "tickmode": "array",
         "ticks": "inside",
         "ticktext": [
          "0.00",
          "0.25",
          "0.50",
          "0.75",
          "1.00"
         ],
         "tickvals": [
          0,
          0.25,
          0.5,
          0.75,
          1
         ],
         "title": "x",
         "titlefont": {
          "color": "rgba(0, 0, 0, 1.000)",
          "family": "sans-serif",
          "size": 15
         },
         "type": "-",
         "visible": true,
         "zeroline": false,
         "zerolinecolor": "rgba(0, 0, 0, 1.000)"
        },
        "yaxis": {
         "anchor": "x",
         "domain": [
          0.07581474190726165,
          0.9415463692038496
         ],
         "gridcolor": "rgba(0, 0, 0, 0.100)",
         "gridwidth": 0.5,
         "linecolor": "rgba(0, 0, 0, 1.000)",
         "mirror": false,
         "range": [
          -9.366847512936585e-05,
          0.003215950979441559
         ],
         "showgrid": true,
         "showline": true,
         "showticklabels": true,
         "tickangle": 0,
         "tickcolor": "rgb(0, 0, 0)",
         "tickfont": {
          "color": "rgba(0, 0, 0, 1.000)",
          "family": "sans-serif",
          "size": 11
         },
         "tickmode": "array",
         "ticks": "inside",
         "ticktext": [
          "0.000",
          "0.001",
          "0.002",
          "0.003"
         ],
         "tickvals": [
          0,
          0.001,
          0.002,
          0.003
         ],
         "title": "",
         "titlefont": {
          "color": "rgba(0, 0, 0, 1.000)",
          "family": "sans-serif",
          "size": 15
         },
         "type": "-",
         "visible": true,
         "zeroline": false,
         "zerolinecolor": "rgba(0, 0, 0, 1.000)"
        }
       }
      },
      "text/html": [
       "    <div id=\"a09df3bf-d089-4e0a-a3d1-2069b3fb09e8\" style=\"width:600px;height:400px;\"></div>\n",
       "    <script>\n",
       "        requirejs.config({\n",
       "        paths: {\n",
       "            plotly: 'https://cdn.plot.ly/plotly-2.6.3.min'\n",
       "        }\n",
       "    });\n",
       "    require(['plotly'], function (Plotly) {\n",
       "\n",
       "    Plotly.newPlot('a09df3bf-d089-4e0a-a3d1-2069b3fb09e8', [\n",
       "    {\n",
       "        \"xaxis\": \"x\",\n",
       "        \"colorbar\": {\n",
       "            \"y\": 0.5086805555555556,\n",
       "            \"title\": \"\",\n",
       "            \"len\": 0.8657316272965879,\n",
       "            \"x\": 0.9934383202099737\n",
       "        },\n",
       "        \"yaxis\": \"y\",\n",
       "        \"x\": [\n",
       "            0.0,\n",
       "            0.0125,\n",
       "            0.025,\n",
       "            0.0375,\n",
       "            0.05,\n",
       "            0.0625,\n",
       "            0.075,\n",
       "            0.0875,\n",
       "            0.1,\n",
       "            0.1125,\n",
       "            0.125,\n",
       "            0.1375,\n",
       "            0.15,\n",
       "            0.1625,\n",
       "            0.175,\n",
       "            0.1875,\n",
       "            0.2,\n",
       "            0.2125,\n",
       "            0.225,\n",
       "            0.2375,\n",
       "            0.25,\n",
       "            0.2625,\n",
       "            0.275,\n",
       "            0.2875,\n",
       "            0.3,\n",
       "            0.3125,\n",
       "            0.325,\n",
       "            0.3375,\n",
       "            0.35,\n",
       "            0.3625,\n",
       "            0.375,\n",
       "            0.3875,\n",
       "            0.4,\n",
       "            0.4125,\n",
       "            0.425,\n",
       "            0.4375,\n",
       "            0.45,\n",
       "            0.4625,\n",
       "            0.475,\n",
       "            0.4875,\n",
       "            0.5,\n",
       "            0.5125,\n",
       "            0.525,\n",
       "            0.5375,\n",
       "            0.55,\n",
       "            0.5625,\n",
       "            0.575,\n",
       "            0.5875,\n",
       "            0.6,\n",
       "            0.6125,\n",
       "            0.625,\n",
       "            0.6375,\n",
       "            0.65,\n",
       "            0.6625,\n",
       "            0.675,\n",
       "            0.6875,\n",
       "            0.7,\n",
       "            0.7125,\n",
       "            0.725,\n",
       "            0.7375,\n",
       "            0.75,\n",
       "            0.7625,\n",
       "            0.775,\n",
       "            0.7875,\n",
       "            0.8,\n",
       "            0.8125,\n",
       "            0.825,\n",
       "            0.8375,\n",
       "            0.85,\n",
       "            0.8625,\n",
       "            0.875,\n",
       "            0.8875,\n",
       "            0.9,\n",
       "            0.9125,\n",
       "            0.925,\n",
       "            0.9375,\n",
       "            0.95,\n",
       "            0.9625,\n",
       "            0.975,\n",
       "            0.9875,\n",
       "            1.0\n",
       "        ],\n",
       "        \"showlegend\": true,\n",
       "        \"mode\": \"markers\",\n",
       "        \"name\": \"m\",\n",
       "        \"legendgroup\": \"m\",\n",
       "        \"marker\": {\n",
       "            \"symbol\": \"circle\",\n",
       "            \"color\": \"rgba(0, 154, 250, 1.000)\",\n",
       "            \"line\": {\n",
       "                \"color\": \"rgba(0, 0, 0, 1.000)\",\n",
       "                \"width\": 1\n",
       "            },\n",
       "            \"size\": 8\n",
       "        },\n",
       "        \"y\": [\n",
       "            2.524354896707238e-29,\n",
       "            2.653548819787416e-13,\n",
       "            3.4267112225405353e-13,\n",
       "            9.395592942292557e-13,\n",
       "            1.420675575019025e-12,\n",
       "            1.8742113002375045e-12,\n",
       "            9.107153960577793e-12,\n",
       "            4.578985844218926e-11,\n",
       "            6.572037829890896e-11,\n",
       "            3.987475309436353e-10,\n",
       "            3.773518861408886e-10,\n",
       "            2.6421284038432525e-9,\n",
       "            1.9166246971927022e-9,\n",
       "            1.4443760461586736e-8,\n",
       "            8.638871438808261e-9,\n",
       "            6.986025300685386e-8,\n",
       "            3.4738202990377333e-8,\n",
       "            2.9737912928834176e-7,\n",
       "            1.232462226039363e-7,\n",
       "            1.1249401861592031e-6,\n",
       "            3.753102887126339e-7,\n",
       "            3.6386847290474774e-6,\n",
       "            9.248651283136258e-7,\n",
       "            9.638011608303909e-6,\n",
       "            1.589407109591455e-6,\n",
       "            1.753457245022398e-5,\n",
       "            8.16209621470193e-7,\n",
       "            9.065308822345242e-6,\n",
       "            4.7345214393285096e-6,\n",
       "            6.54255175625007e-5,\n",
       "            1.2857863299867156e-5,\n",
       "            0.00016716245828832244,\n",
       "            1.5473389050613129e-6,\n",
       "            2.0533200623451542e-5,\n",
       "            6.0076637293460244e-5,\n",
       "            0.0007137979816407847,\n",
       "            6.776908688743699e-5,\n",
       "            0.0001745918120816814,\n",
       "            5.390734246885076e-5,\n",
       "            0.0020224027894178986,\n",
       "            1.782200546746049e-5,\n",
       "            0.0007294517963032376,\n",
       "            5.517052185510796e-5,\n",
       "            0.0013399472947609459,\n",
       "            9.845308569578215e-5,\n",
       "            0.000634438899901113,\n",
       "            9.065554539533505e-5,\n",
       "            1.654275637963387e-5,\n",
       "            6.015601903242018e-5,\n",
       "            7.580763415793168e-5,\n",
       "            5.6430482521130365e-5,\n",
       "            5.233238802959672e-5,\n",
       "            5.6365991120688186e-5,\n",
       "            5.745464120066046e-5,\n",
       "            5.636593917834887e-5,\n",
       "            5.6074223921509514e-5,\n",
       "            5.636593429236836e-5,\n",
       "            5.6444097759955625e-5,\n",
       "            5.636593374291898e-5,\n",
       "            5.63449897478252e-5,\n",
       "            5.6365933682300806e-5,\n",
       "            5.6371545591571426e-5,\n",
       "            5.636593367586151e-5,\n",
       "            5.6364429967370455e-5,\n",
       "            5.636593367519538e-5,\n",
       "            5.6366336592450494e-5,\n",
       "            5.6365933674973334e-5,\n",
       "            5.636582571366677e-5,\n",
       "            5.6365933675084356e-5,\n",
       "            5.636596260338855e-5,\n",
       "            5.6365933675084356e-5,\n",
       "            5.636592592361822e-5,\n",
       "            5.6365933675084356e-5,\n",
       "            5.6365935752311636e-5,\n",
       "            5.6365933674973334e-5,\n",
       "            5.6365933117641376e-5,\n",
       "            5.6365933675084356e-5,\n",
       "            5.6365933826851844e-5,\n",
       "            5.636593367519538e-5,\n",
       "            5.636593362456921e-5,\n",
       "            5.63659336753064e-5\n",
       "        ],\n",
       "        \"type\": \"scatter\"\n",
       "    },\n",
       "    {\n",
       "        \"xaxis\": \"x\",\n",
       "        \"colorbar\": {\n",
       "            \"y\": 0.5086805555555556,\n",
       "            \"title\": \"\",\n",
       "            \"len\": 0.8657316272965879,\n",
       "            \"x\": 0.9934383202099737\n",
       "        },\n",
       "        \"yaxis\": \"y\",\n",
       "        \"x\": [\n",
       "            0.0,\n",
       "            0.0125,\n",
       "            0.025,\n",
       "            0.0375,\n",
       "            0.05,\n",
       "            0.0625,\n",
       "            0.075,\n",
       "            0.0875,\n",
       "            0.1,\n",
       "            0.1125,\n",
       "            0.125,\n",
       "            0.1375,\n",
       "            0.15,\n",
       "            0.1625,\n",
       "            0.175,\n",
       "            0.1875,\n",
       "            0.2,\n",
       "            0.2125,\n",
       "            0.225,\n",
       "            0.2375,\n",
       "            0.25,\n",
       "            0.2625,\n",
       "            0.275,\n",
       "            0.2875,\n",
       "            0.3,\n",
       "            0.3125,\n",
       "            0.325,\n",
       "            0.3375,\n",
       "            0.35,\n",
       "            0.3625,\n",
       "            0.375,\n",
       "            0.3875,\n",
       "            0.4,\n",
       "            0.4125,\n",
       "            0.425,\n",
       "            0.4375,\n",
       "            0.45,\n",
       "            0.4625,\n",
       "            0.475,\n",
       "            0.4875,\n",
       "            0.5,\n",
       "            0.5125,\n",
       "            0.525,\n",
       "            0.5375,\n",
       "            0.55,\n",
       "            0.5625,\n",
       "            0.575,\n",
       "            0.5875,\n",
       "            0.6,\n",
       "            0.6125,\n",
       "            0.625,\n",
       "            0.6375,\n",
       "            0.65,\n",
       "            0.6625,\n",
       "            0.675,\n",
       "            0.6875,\n",
       "            0.7,\n",
       "            0.7125,\n",
       "            0.725,\n",
       "            0.7375,\n",
       "            0.75,\n",
       "            0.7625,\n",
       "            0.775,\n",
       "            0.7875,\n",
       "            0.8,\n",
       "            0.8125,\n",
       "            0.825,\n",
       "            0.8375,\n",
       "            0.85,\n",
       "            0.8625,\n",
       "            0.875,\n",
       "            0.8875,\n",
       "            0.9,\n",
       "            0.9125,\n",
       "            0.925,\n",
       "            0.9375,\n",
       "            0.95,\n",
       "            0.9625,\n",
       "            0.975,\n",
       "            0.9875,\n",
       "            1.0\n",
       "        ],\n",
       "        \"showlegend\": true,\n",
       "        \"mode\": \"markers\",\n",
       "        \"name\": \"beta\",\n",
       "        \"legendgroup\": \"beta\",\n",
       "        \"marker\": {\n",
       "            \"symbol\": \"circle\",\n",
       "            \"color\": \"rgba(227, 111, 71, 1.000)\",\n",
       "            \"line\": {\n",
       "                \"color\": \"rgba(0, 0, 0, 1.000)\",\n",
       "                \"width\": 1\n",
       "            },\n",
       "            \"size\": 8\n",
       "        },\n",
       "        \"y\": [\n",
       "            1.9852336278994475e-23,\n",
       "            4.964467068745265e-8,\n",
       "            7.94303132948866e-8,\n",
       "            6.949820505562747e-8,\n",
       "            9.155543621861291e-12,\n",
       "            1.29097786558623e-7,\n",
       "            2.383689934683725e-7,\n",
       "            2.2853182431822704e-7,\n",
       "            1.3100999574904205e-10,\n",
       "            4.665906108967497e-7,\n",
       "            8.724334517401627e-7,\n",
       "            8.400580139212062e-7,\n",
       "            1.4781011333155785e-9,\n",
       "            1.7320420245251275e-6,\n",
       "            3.273596917510104e-6,\n",
       "            3.222621581711114e-6,\n",
       "            3.1561350064796776e-8,\n",
       "            6.62903944085397e-6,\n",
       "            1.207220697123112e-5,\n",
       "            1.0869048849388985e-5,\n",
       "            3.605721205655936e-7,\n",
       "            2.1820533655669064e-5,\n",
       "            4.305843075331638e-5,\n",
       "            4.706370033186332e-5,\n",
       "            1.249429713151009e-6,\n",
       "            0.00010844906024217002,\n",
       "            0.00020643116492169216,\n",
       "            0.00019876180544076485,\n",
       "            7.833289577515671e-6,\n",
       "            0.00036955123612894547,\n",
       "            0.0006552726567582851,\n",
       "            0.0005553853697678988,\n",
       "            6.046209492880511e-6,\n",
       "            0.0009119519368012176,\n",
       "            0.0014912487703323644,\n",
       "            0.0011051374867650406,\n",
       "            0.00020203296560594025,\n",
       "            0.0020155359821253487,\n",
       "            0.0031222825043121932,\n",
       "            0.0024955725073512944,\n",
       "            0.0006526245549163187,\n",
       "            0.0014511057254083595,\n",
       "            0.0026511330388845483,\n",
       "            0.0021510417258286466,\n",
       "            0.0008357243339297479,\n",
       "            0.00017566811018648182,\n",
       "            0.0005082588715210404,\n",
       "            0.00011331867321157096,\n",
       "            0.0004975662206839274,\n",
       "            0.0008043148075560572,\n",
       "            0.0008131826715101487,\n",
       "            0.0006622002623003359,\n",
       "            0.0004901609055615458,\n",
       "            0.0004066381547856851,\n",
       "            0.00040356359901202316,\n",
       "            0.0004435081461054771,\n",
       "            0.0004892419436866163,\n",
       "            0.0005114389546416534,\n",
       "            0.0005121891631641867,\n",
       "            0.0005014401350183981,\n",
       "            0.0004891537409434099,\n",
       "            0.0004831891847490652,\n",
       "            0.0004829806975530093,\n",
       "            0.0004858565240627097,\n",
       "            0.0004891459360371331,\n",
       "            0.0004907427610856413,\n",
       "            0.0004907980231679404,\n",
       "            0.0004900270637659132,\n",
       "            0.0004891452981005753,\n",
       "            0.0004887170096535692,\n",
       "            0.0004887018812104252,\n",
       "            0.0004889084467061544,\n",
       "            0.0004891452453700054,\n",
       "            0.0004892611248487819,\n",
       "            0.0004892661611653887,\n",
       "            0.0004892107375316437,\n",
       "            0.0004891452375393873,\n",
       "            0.000489109968119128,\n",
       "            0.0004891049291761082,\n",
       "            0.0004891200438655943,\n",
       "            0.0004891452353681658\n",
       "        ],\n",
       "        \"type\": \"scatter\"\n",
       "    }\n",
       "]\n",
       ", {\n",
       "    \"showlegend\": true,\n",
       "    \"xaxis\": {\n",
       "        \"showticklabels\": true,\n",
       "        \"gridwidth\": 0.5,\n",
       "        \"tickvals\": [\n",
       "            0.0,\n",
       "            0.25,\n",
       "            0.5,\n",
       "            0.75,\n",
       "            1.0\n",
       "        ],\n",
       "        \"range\": [\n",
       "            -0.030000000000000027,\n",
       "            1.03\n",
       "        ],\n",
       "        \"domain\": [\n",
       "            0.08063575386410031,\n",
       "            0.9934383202099737\n",
       "        ],\n",
       "        \"mirror\": false,\n",
       "        \"tickangle\": 0,\n",
       "        \"showline\": true,\n",
       "        \"ticktext\": [\n",
       "            \"0.00\",\n",
       "            \"0.25\",\n",
       "            \"0.50\",\n",
       "            \"0.75\",\n",
       "            \"1.00\"\n",
       "        ],\n",
       "        \"zeroline\": false,\n",
       "        \"tickfont\": {\n",
       "            \"color\": \"rgba(0, 0, 0, 1.000)\",\n",
       "            \"family\": \"sans-serif\",\n",
       "            \"size\": 11\n",
       "        },\n",
       "        \"zerolinecolor\": \"rgba(0, 0, 0, 1.000)\",\n",
       "        \"anchor\": \"y\",\n",
       "        \"visible\": true,\n",
       "        \"ticks\": \"inside\",\n",
       "        \"tickmode\": \"array\",\n",
       "        \"linecolor\": \"rgba(0, 0, 0, 1.000)\",\n",
       "        \"showgrid\": true,\n",
       "        \"title\": \"x\",\n",
       "        \"gridcolor\": \"rgba(0, 0, 0, 0.100)\",\n",
       "        \"titlefont\": {\n",
       "            \"color\": \"rgba(0, 0, 0, 1.000)\",\n",
       "            \"family\": \"sans-serif\",\n",
       "            \"size\": 15\n",
       "        },\n",
       "        \"tickcolor\": \"rgb(0, 0, 0)\",\n",
       "        \"type\": \"-\"\n",
       "    },\n",
       "    \"paper_bgcolor\": \"rgba(255, 255, 255, 1.000)\",\n",
       "    \"annotations\": [\n",
       "        {\n",
       "            \"yanchor\": \"top\",\n",
       "            \"xanchor\": \"center\",\n",
       "            \"rotation\": -0.0,\n",
       "            \"y\": 1.0,\n",
       "            \"font\": {\n",
       "                \"color\": \"rgba(0, 0, 0, 1.000)\",\n",
       "                \"family\": \"sans-serif\",\n",
       "                \"size\": 20\n",
       "            },\n",
       "            \"yref\": \"paper\",\n",
       "            \"showarrow\": false,\n",
       "            \"text\": \"Initial Data\",\n",
       "            \"xref\": \"paper\",\n",
       "            \"x\": 0.5370370370370371\n",
       "        }\n",
       "    ],\n",
       "    \"height\": 400,\n",
       "    \"margin\": {\n",
       "        \"l\": 0,\n",
       "        \"b\": 20,\n",
       "        \"r\": 0,\n",
       "        \"t\": 20\n",
       "    },\n",
       "    \"plot_bgcolor\": \"rgba(255, 255, 255, 1.000)\",\n",
       "    \"yaxis\": {\n",
       "        \"showticklabels\": true,\n",
       "        \"gridwidth\": 0.5,\n",
       "        \"tickvals\": [\n",
       "            0.0,\n",
       "            0.001,\n",
       "            0.002,\n",
       "            0.003\n",
       "        ],\n",
       "        \"range\": [\n",
       "            -9.366847512936585e-5,\n",
       "            0.003215950979441559\n",
       "        ],\n",
       "        \"domain\": [\n",
       "            0.07581474190726165,\n",
       "            0.9415463692038496\n",
       "        ],\n",
       "        \"mirror\": false,\n",
       "        \"tickangle\": 0,\n",
       "        \"showline\": true,\n",
       "        \"ticktext\": [\n",
       "            \"0.000\",\n",
       "            \"0.001\",\n",
       "            \"0.002\",\n",
       "            \"0.003\"\n",
       "        ],\n",
       "        \"zeroline\": false,\n",
       "        \"tickfont\": {\n",
       "            \"color\": \"rgba(0, 0, 0, 1.000)\",\n",
       "            \"family\": \"sans-serif\",\n",
       "            \"size\": 11\n",
       "        },\n",
       "        \"zerolinecolor\": \"rgba(0, 0, 0, 1.000)\",\n",
       "        \"anchor\": \"x\",\n",
       "        \"visible\": true,\n",
       "        \"ticks\": \"inside\",\n",
       "        \"tickmode\": \"array\",\n",
       "        \"linecolor\": \"rgba(0, 0, 0, 1.000)\",\n",
       "        \"showgrid\": true,\n",
       "        \"title\": \"\",\n",
       "        \"gridcolor\": \"rgba(0, 0, 0, 0.100)\",\n",
       "        \"titlefont\": {\n",
       "            \"color\": \"rgba(0, 0, 0, 1.000)\",\n",
       "            \"family\": \"sans-serif\",\n",
       "            \"size\": 15\n",
       "        },\n",
       "        \"tickcolor\": \"rgb(0, 0, 0)\",\n",
       "        \"type\": \"-\"\n",
       "    },\n",
       "    \"legend\": {\n",
       "        \"yanchor\": \"auto\",\n",
       "        \"xanchor\": \"auto\",\n",
       "        \"bordercolor\": \"rgba(0, 0, 0, 1.000)\",\n",
       "        \"bgcolor\": \"rgba(255, 255, 255, 1.000)\",\n",
       "        \"borderwidth\": 1,\n",
       "        \"tracegroupgap\": 0,\n",
       "        \"y\": 1.0,\n",
       "        \"font\": {\n",
       "            \"color\": \"rgba(0, 0, 0, 1.000)\",\n",
       "            \"family\": \"sans-serif\",\n",
       "            \"size\": 11\n",
       "        },\n",
       "        \"title\": {\n",
       "            \"font\": {\n",
       "                \"color\": \"rgba(0, 0, 0, 1.000)\",\n",
       "                \"family\": \"sans-serif\",\n",
       "                \"size\": 15\n",
       "            },\n",
       "            \"text\": \"\"\n",
       "        },\n",
       "        \"traceorder\": \"normal\",\n",
       "        \"x\": 1.0\n",
       "    },\n",
       "    \"width\": 600\n",
       "}\n",
       ");\n",
       "    });\n",
       "    </script>\n"
      ]
     },
     "execution_count": 508,
     "metadata": {},
     "output_type": "execute_result"
    }
   ],
   "source": [
    "using Plots #showing initial data and the initial status of the horizon finder\n",
    "plotlyjs()\n",
    "aux_test = range(0,1,step=0.001)\n",
    "\n",
    "#plot(aux, [(abs.(func4(aux).-func2(aux))) abs.(func2(aux).-func(aux))], xaxis=\"x\",title=\"Initial Data\", labels=[\"m\" \"beta\" \"psi\" \"psi,x\"])#, xlim=[0, 1])#,ylim=[0.001 1*10])\n",
    "scatter(x4, [abs.((func4(x4).-func2(x4)))*16 abs.(func2(x4).-func(x4))], xaxis=\"x\",title=\"Initial Data\", labels=[\"m\" \"beta\" \"psi\" \"psi,x\"])#, xlim=[0, 1])#,ylim=[0.001 1*10])\n",
    "\n"
   ]
  },
  {
   "cell_type": "code",
   "execution_count": 502,
   "id": "ec2821c1",
   "metadata": {},
   "outputs": [
    {
     "data": {
      "text/plain": [
       "21×3 Matrix{Float64}:\n",
       " 0.0   0.0   0.0\n",
       " 0.05  0.05  0.05\n",
       " 0.1   0.1   0.1\n",
       " 0.15  0.15  0.15\n",
       " 0.2   0.2   0.2\n",
       " 0.25  0.25  0.25\n",
       " 0.3   0.3   0.3\n",
       " 0.35  0.35  0.35\n",
       " 0.4   0.4   0.4\n",
       " 0.45  0.45  0.45\n",
       " 0.5   0.5   0.5\n",
       " 0.55  0.55  0.55\n",
       " 0.6   0.6   0.6\n",
       " 0.65  0.65  0.65\n",
       " 0.7   0.7   0.7\n",
       " 0.75  0.75  0.75\n",
       " 0.8   0.8   0.8\n",
       " 0.85  0.85  0.85\n",
       " 0.9   0.9   0.9\n",
       " 0.95  0.95  0.95\n",
       " 1.0   1.0   1.0"
      ]
     },
     "execution_count": 502,
     "metadata": {},
     "output_type": "execute_result"
    }
   ],
   "source": [
    "[x1 x2[1:2:length(x2)] x4[1:4:length(x4)]]"
   ]
  },
  {
   "cell_type": "code",
   "execution_count": 33,
   "id": "a282b147",
   "metadata": {},
   "outputs": [
    {
     "data": {
      "text/plain": [
       "101-element Vector{Float64}:\n",
       " -2.168404344971009e-19\n",
       "  0.0\n",
       "  6.938893903907228e-18\n",
       "  1.3877787807814457e-17\n",
       " -1.3877787807814457e-17\n",
       "  0.0\n",
       " -2.7755575615628914e-17\n",
       "  5.551115123125783e-17\n",
       "  2.7755575615628914e-17\n",
       "  0.0\n",
       "  5.551115123125783e-17\n",
       " -5.551115123125783e-17\n",
       "  0.0\n",
       "  ⋮\n",
       "  5.551115123125783e-17\n",
       " -5.551115123125783e-17\n",
       " -5.551115123125783e-17\n",
       "  5.551115123125783e-17\n",
       "  5.551115123125783e-17\n",
       "  0.0\n",
       "  0.0\n",
       " -5.551115123125783e-17\n",
       "  2.7755575615628914e-17\n",
       "  2.7755575615628914e-17\n",
       "  2.7755575615628914e-17\n",
       "  0.0"
      ]
     },
     "execution_count": 33,
     "metadata": {},
     "output_type": "execute_result"
    }
   ],
   "source": [
    "func(aux_test).-func2(aux_test)"
   ]
  },
  {
   "cell_type": "code",
   "execution_count": 519,
   "id": "abfbd8f4",
   "metadata": {},
   "outputs": [
    {
     "data": {
      "text/plain": [
       "0.00035"
      ]
     },
     "execution_count": 519,
     "metadata": {},
     "output_type": "execute_result"
    }
   ],
   "source": [
    "T=collect(T)\n",
    "T[8]"
   ]
  },
  {
   "cell_type": "code",
   "execution_count": 498,
   "id": "a4e863b4",
   "metadata": {},
   "outputs": [
    {
     "data": {
      "text/plain": [
       "0.0006"
      ]
     },
     "execution_count": 498,
     "metadata": {},
     "output_type": "execute_result"
    }
   ],
   "source": [
    "T[7]"
   ]
  },
  {
   "cell_type": "code",
   "execution_count": 499,
   "id": "19eefd8f",
   "metadata": {},
   "outputs": [
    {
     "data": {
      "text/plain": [
       "0.00010000000000000005"
      ]
     },
     "execution_count": 499,
     "metadata": {},
     "output_type": "execute_result"
    }
   ],
   "source": [
    "T[8]-T[7]"
   ]
  },
  {
   "cell_type": "code",
   "execution_count": 500,
   "id": "cba0212f",
   "metadata": {},
   "outputs": [
    {
     "data": {
      "text/plain": [
       "0.0001"
      ]
     },
     "execution_count": 500,
     "metadata": {},
     "output_type": "execute_result"
    }
   ],
   "source": [
    "round(T[8]-T[7],digits=8)"
   ]
  },
  {
   "cell_type": "markdown",
   "id": "14770155",
   "metadata": {
    "papermill": {
     "duration": null,
     "end_time": null,
     "exception": null,
     "start_time": null,
     "status": "completed"
    },
    "tags": []
   },
   "source": [
    "## Movie of the evolution"
   ]
  },
  {
   "cell_type": "code",
   "execution_count": 510,
   "id": "f3ee0b86",
   "metadata": {
    "execution": {
     "iopub.execute_input": "2023-03-01T09:51:14.266000Z",
     "iopub.status.busy": "2023-03-01T09:51:14.266000Z"
    },
    "papermill": {
     "duration": null,
     "end_time": null,
     "exception": null,
     "start_time": null,
     "status": "completed"
    },
    "tags": []
   },
   "outputs": [
    {
     "name": "stderr",
     "output_type": "stream",
     "text": [
      "\u001b[36m\u001b[1m[ \u001b[22m\u001b[39m\u001b[36m\u001b[1mInfo: \u001b[22m\u001b[39mSaved animation to /home/rita13santos/Desktop/MSc Thesis/Git/ScalarField/anim_res1.gif\n"
     ]
    },
    {
     "data": {
      "text/html": [
       "<img src=\"data:image/gif;base64,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\" />"
      ],
      "text/plain": [
       "Plots.AnimatedGif(\"/home/rita13santos/Desktop/MSc Thesis/Git/ScalarField/anim_res1.gif\")"
      ]
     },
     "execution_count": 510,
     "metadata": {},
     "output_type": "execute_result"
    }
   ],
   "source": [
    "using Plots, CSV, DataFrames\n",
    "import GR\n",
    "anim = @animate for n in 1:10#00:2:length(T)-1\n",
    "    time_step=T[n+1]-T[n];\n",
    "    IJulia.clear_output(true)\n",
    "    functions3=DataFrame(CSV.File(dir*\"/time_step$n.csv\",header=false, delim=\",\"))\n",
    "    plot()\n",
    "        plot1=functions3.Column1[4:L-3];\n",
    "        plot2=functions3.Column2[4:L-3];\n",
    "        plot3=functions3.Column3[4:L-3];\n",
    "        plot4=functions3.Column4[4:L-3];\n",
    "    d=round(T[n],digits=1)\n",
    "    plot!(initX[4:L-3], [plot1 plot2 plot3 plot4], labels=[\"m\" \"beta\" \"psi\" \"psi,x\"])#, xlim=[0.9 1]) |> display \n",
    "    \n",
    "    end\n",
    "\n",
    "gif(anim, \"anim_res$res.gif\", fps = 15)"
   ]
  },
  {
   "cell_type": "code",
   "execution_count": null,
   "id": "aab227cd",
   "metadata": {
    "papermill": {
     "duration": null,
     "end_time": null,
     "exception": null,
     "start_time": null,
     "status": "completed"
    },
    "tags": []
   },
   "outputs": [],
   "source": []
  },
  {
   "cell_type": "code",
   "execution_count": null,
   "id": "e2ad8ec7",
   "metadata": {},
   "outputs": [],
   "source": []
  },
  {
   "cell_type": "code",
   "execution_count": null,
   "id": "4f25b9c4",
   "metadata": {},
   "outputs": [],
   "source": []
  },
  {
   "cell_type": "code",
   "execution_count": null,
   "id": "92f262e0",
   "metadata": {},
   "outputs": [],
   "source": []
  },
  {
   "cell_type": "code",
   "execution_count": null,
   "id": "2d6f7925",
   "metadata": {
    "papermill": {
     "duration": null,
     "end_time": null,
     "exception": null,
     "start_time": null,
     "status": "completed"
    },
    "tags": []
   },
   "outputs": [],
   "source": []
  },
  {
   "cell_type": "code",
   "execution_count": null,
   "id": "1e5cda18",
   "metadata": {
    "papermill": {
     "duration": null,
     "end_time": null,
     "exception": null,
     "start_time": null,
     "status": "completed"
    },
    "tags": []
   },
   "outputs": [],
   "source": []
  },
  {
   "cell_type": "code",
   "execution_count": null,
   "id": "bb273c13",
   "metadata": {
    "papermill": {
     "duration": null,
     "end_time": null,
     "exception": null,
     "start_time": null,
     "status": "completed"
    },
    "tags": []
   },
   "outputs": [],
   "source": []
  },
  {
   "cell_type": "code",
   "execution_count": null,
   "id": "8af976db",
   "metadata": {
    "papermill": {
     "duration": null,
     "end_time": null,
     "exception": null,
     "start_time": null,
     "status": "completed"
    },
    "tags": []
   },
   "outputs": [],
   "source": []
  },
  {
   "cell_type": "code",
   "execution_count": null,
   "id": "70499025",
   "metadata": {
    "papermill": {
     "duration": null,
     "end_time": null,
     "exception": null,
     "start_time": null,
     "status": "completed"
    },
    "tags": []
   },
   "outputs": [],
   "source": []
  },
  {
   "cell_type": "code",
   "execution_count": null,
   "id": "db049318",
   "metadata": {
    "papermill": {
     "duration": null,
     "end_time": null,
     "exception": null,
     "start_time": null,
     "status": "completed"
    },
    "tags": []
   },
   "outputs": [],
   "source": []
  },
  {
   "cell_type": "code",
   "execution_count": null,
   "id": "606071f3",
   "metadata": {
    "papermill": {
     "duration": null,
     "end_time": null,
     "exception": null,
     "start_time": null,
     "status": "completed"
    },
    "tags": []
   },
   "outputs": [],
   "source": []
  },
  {
   "cell_type": "code",
   "execution_count": null,
   "id": "a79386f8",
   "metadata": {
    "papermill": {
     "duration": null,
     "end_time": null,
     "exception": null,
     "start_time": null,
     "status": "completed"
    },
    "tags": []
   },
   "outputs": [],
   "source": []
  },
  {
   "cell_type": "code",
   "execution_count": null,
   "id": "6b59436c",
   "metadata": {
    "papermill": {
     "duration": null,
     "end_time": null,
     "exception": null,
     "start_time": null,
     "status": "completed"
    },
    "tags": []
   },
   "outputs": [],
   "source": []
  },
  {
   "cell_type": "markdown",
   "id": "5d3d3f14",
   "metadata": {
    "papermill": {
     "duration": null,
     "end_time": null,
     "exception": null,
     "start_time": null,
     "status": "completed"
    },
    "tags": []
   },
   "source": [
    "changing grid"
   ]
  },
  {
   "cell_type": "code",
   "execution_count": null,
   "id": "2fb97908",
   "metadata": {
    "papermill": {
     "duration": null,
     "end_time": null,
     "exception": null,
     "start_time": null,
     "status": "completed"
    },
    "tags": []
   },
   "outputs": [],
   "source": [
    "\"using Interpolations\n",
    "using ProgressMeter\n",
    "@showprogress for k in 1:length(T)\n",
    "\n",
    "    #evolve grid\n",
    "    X=update_grid(state_array,dx,T,k,spl_funcs)\n",
    "    state_array[:,5]=X\n",
    "    L=length(X)\n",
    "    X1=X[4:L-3]\n",
    "    \n",
    "    #evolve psi,x\n",
    "    state_array=rungekutta4molstep(SF_RHS,state_array,T,k,0) #evolve psi,x\n",
    "    state_array=ghost(state_array,X)\n",
    "    \n",
    "    X=state_array[:,5]\n",
    "    X1=X[4:L-3]\n",
    "    \n",
    "    spl_derpsi = scipyinterpolate.splrep(X[4:L-3], state_array[4:L-3,4],k=4)\n",
    "    derpsi_func(x) = scipyinterpolate.splev(x, spl_derpsi)\n",
    "    spl_funcs[4] = derpsi_func\n",
    "    \n",
    "    #calculate psi form psi,x\n",
    "    psi0=0\n",
    "    SFconstraint_psi(psi0,x) = derpsi_func(x)\n",
    "    state_array[4:L-3,3] = rungekutta4(SFconstraint_psi,psi0,X1)\n",
    "    state_array=ghost(state_array,X);\n",
    "    \n",
    "    spl_psi = scipyinterpolate.splrep(X[4:L-3], state_array[4:L-3,3],k=4)\n",
    "    psi_func(x) = scipyinterpolate.splev(x, spl_psi)\n",
    "    spl_funcs[3] = psi_func\n",
    "    \n",
    "    #evolve beta\n",
    "    beta0=0\n",
    "    state_array[4:L-3,2]=rk4wrapper(SFconstraint_beta,beta0,X1,T,spl_funcs)\n",
    "    state_array=ghost(state_array,X)\n",
    "    \n",
    "    spl_beta = scipyinterpolate.splrep(X[4:L-3], state_array[4:L-3,2],k=4)\n",
    "    beta_func(x) = scipyinterpolate.splev(x, spl_beta)\n",
    "    spl_funcs[2] = beta_func\n",
    "    \n",
    "    #evolve m\n",
    "    m0=0\n",
    "    state_array[4:L-3,1]=m_rk4wrapper(SFconstraint_m,m0,X1,T,spl_funcs)\n",
    "    state_array=ghost(state_array,X)\n",
    "    \n",
    "    spl_m = scipyinterpolate.splrep(X[4:L-3], state_array[4:L-3,1],k=4)\n",
    "    m_func(x) = scipyinterpolate.splev(x, spl_m)\n",
    "    spl_funcs[1] = m_func\n",
    "    \n",
    "    CSV.write(dir*\"/time_step$k.csv\", Tables.table(state_array), writeheader=false)\n",
    "end\""
   ]
  },
  {
   "cell_type": "code",
   "execution_count": null,
   "id": "ad80ad55",
   "metadata": {
    "execution": {
     "iopub.execute_input": "2023-03-01T09:51:14.139000Z",
     "iopub.status.busy": "2023-03-01T09:51:14.139000Z",
     "iopub.status.idle": "2023-03-01T09:51:14.151000Z",
     "shell.execute_reply": "2023-03-01T09:51:14.151000Z"
    },
    "papermill": {
     "duration": null,
     "end_time": null,
     "exception": null,
     "start_time": null,
     "status": "completed"
    },
    "tags": []
   },
   "outputs": [],
   "source": [
    "print(dir)"
   ]
  },
  {
   "cell_type": "code",
   "execution_count": null,
   "id": "951c8482",
   "metadata": {
    "execution": {
     "iopub.execute_input": "2023-03-01T09:50:44.056000Z",
     "iopub.status.busy": "2023-03-01T09:50:44.056000Z",
     "iopub.status.idle": "2023-03-01T09:50:44.450000Z",
     "shell.execute_reply": "2023-03-01T09:50:44.450000Z"
    },
    "papermill": {
     "duration": null,
     "end_time": null,
     "exception": null,
     "start_time": null,
     "status": "completed"
    },
    "tags": []
   },
   "outputs": [],
   "source": []
  },
  {
   "cell_type": "code",
   "execution_count": null,
   "id": "9ff604d3",
   "metadata": {
    "papermill": {
     "duration": null,
     "end_time": null,
     "exception": null,
     "start_time": null,
     "status": "completed"
    },
    "tags": []
   },
   "outputs": [],
   "source": [
    "\"\"\"#monitor_ratio = 1-v/rexp(-2beta)\n",
    "monitor_ratio = zeros(L)\n",
    "for i in 1:L\n",
    "    monitor_ratio[i] = 2*state_array[i,1]/initX[i]*(1-initX[i])\n",
    "    if monitor_ratio[i]>0.6\n",
    "        print(monitor_ratio[i])\n",
    "    end\n",
    "end\"\"\""
   ]
  },
  {
   "cell_type": "code",
   "execution_count": null,
   "id": "71a685b9",
   "metadata": {
    "papermill": {
     "duration": null,
     "end_time": null,
     "exception": null,
     "start_time": null,
     "status": "completed"
    },
    "tags": []
   },
   "outputs": [],
   "source": []
  }
 ],
 "metadata": {
  "@webio": {
   "lastCommId": null,
   "lastKernelId": null
  },
  "kernelspec": {
   "display_name": "Julia 1.8.0",
   "language": "julia",
   "name": "julia-1.8"
  },
  "language_info": {
   "file_extension": ".jl",
   "mimetype": "application/julia",
   "name": "julia",
   "version": "1.8.0"
  },
  "papermill": {
   "default_parameters": {},
   "duration": 0.964144,
   "end_time": "2023-03-10T15:49:43.780135",
   "environment_variables": {},
   "exception": null,
   "input_path": "Evolution_ScalarField.ipynb",
   "output_path": "Evolution_ScalarField.ipynb",
   "parameters": {
    "m": 3
   },
   "start_time": "2023-03-10T15:49:42.815991",
   "version": "2.4.0"
  }
 },
 "nbformat": 4,
 "nbformat_minor": 5
}
