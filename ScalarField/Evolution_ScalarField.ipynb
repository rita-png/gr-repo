{
 "cells": [
  {
   "cell_type": "markdown",
   "id": "d88601a8",
   "metadata": {
    "papermill": {
     "duration": 0.010813,
     "end_time": "2023-03-28T18:06:09.878411",
     "exception": false,
     "start_time": "2023-03-28T18:06:09.867598",
     "status": "completed"
    },
    "tags": []
   },
   "source": [
    "# Evolution of Einstein's equations"
   ]
  },
  {
   "cell_type": "markdown",
   "id": "03c607c7",
   "metadata": {
    "papermill": {
     "duration": 0.006777,
     "end_time": "2023-03-28T18:06:09.893152",
     "exception": false,
     "start_time": "2023-03-28T18:06:09.886375",
     "status": "completed"
    },
    "tags": []
   },
   "source": [
    "# Initial data , setting length of the domain and discretization\n"
   ]
  },
  {
   "cell_type": "markdown",
   "id": "43aebde7",
   "metadata": {
    "execution": {
     "iopub.execute_input": "2023-03-28T19:06:10.907000Z",
     "iopub.status.busy": "2023-03-28T19:06:09.907000Z",
     "iopub.status.idle": "2023-03-28T19:06:12.147000Z",
     "shell.execute_reply": "2023-03-28T19:06:12.110000Z"
    },
    "papermill": {
     "duration": 2.251282,
     "end_time": "2023-03-28T18:06:12.151193",
     "exception": false,
     "start_time": "2023-03-28T18:06:09.899911",
     "status": "completed"
    },
    "tags": [
     "injected-parameters"
    ]
   },
   "source": [
    "# Parameters"
   ]
  },
  {
   "cell_type": "code",
   "execution_count": 736,
   "id": "28f9b745",
   "metadata": {},
   "outputs": [
    {
     "data": {
      "text/plain": [
       "1"
      ]
     },
     "execution_count": 736,
     "metadata": {},
     "output_type": "execute_result"
    }
   ],
   "source": [
    "m = 1\n",
    "A = 0.001#0.05#0.049375#0.07#0.05#0.1124921875#0.125\n",
    "run = 1"
   ]
  },
  {
   "cell_type": "code",
   "execution_count": 737,
   "id": "80a113e0",
   "metadata": {},
   "outputs": [
    {
     "name": "stdout",
     "output_type": "stream",
     "text": [
      "1.0"
     ]
    }
   ],
   "source": [
    "res=m;\n",
    "N=2.0^m*500.0/5.0\n",
    "Xf=1.0;\n",
    "\n",
    "dx=Xf/N;\n",
    "dt=round(dx,digits=10);\n",
    "Nt=2.0^m*500.0/5.0\n",
    "Tf=Nt*dt; #final time\n",
    "print(Tf)"
   ]
  },
  {
   "cell_type": "code",
   "execution_count": 738,
   "id": "4f752d54",
   "metadata": {
    "execution": {
     "iopub.execute_input": "2023-03-28T19:06:12.356000Z",
     "iopub.status.busy": "2023-03-28T19:06:12.356000Z",
     "iopub.status.idle": "2023-03-28T19:06:12.364000Z",
     "shell.execute_reply": "2023-03-28T19:06:12.364000Z"
    },
    "papermill": {
     "duration": 0.020815,
     "end_time": "2023-03-28T18:06:12.368761",
     "exception": false,
     "start_time": "2023-03-28T18:06:12.347946",
     "status": "completed"
    },
    "tags": []
   },
   "outputs": [
    {
     "name": "stdout",
     "output_type": "stream",
     "text": [
      "200.0"
     ]
    }
   ],
   "source": [
    "print(N)"
   ]
  },
  {
   "cell_type": "code",
   "execution_count": 739,
   "id": "ad48576a",
   "metadata": {
    "execution": {
     "iopub.execute_input": "2023-03-28T19:06:12.386000Z",
     "iopub.status.busy": "2023-03-28T19:06:12.385000Z",
     "iopub.status.idle": "2023-03-28T19:06:12.398000Z",
     "shell.execute_reply": "2023-03-28T19:06:12.398000Z"
    },
    "papermill": {
     "duration": 0.024143,
     "end_time": "2023-03-28T18:06:12.402660",
     "exception": false,
     "start_time": "2023-03-28T18:06:12.378517",
     "status": "completed"
    },
    "tags": []
   },
   "outputs": [
    {
     "name": "stdout",
     "output_type": "stream",
     "text": [
      "dx =0.005\n",
      "dt =0.005\n",
      "dx/dt =1.0\n"
     ]
    }
   ],
   "source": [
    "println(\"dx =\", dx)\n",
    "println(\"dt =\", dt)\n",
    "println(\"dx/dt =\", dx/dt)"
   ]
  },
  {
   "cell_type": "code",
   "execution_count": 740,
   "id": "78fb78a5",
   "metadata": {
    "execution": {
     "iopub.execute_input": "2023-03-28T19:06:12.419000Z",
     "iopub.status.busy": "2023-03-28T19:06:12.419000Z",
     "iopub.status.idle": "2023-03-28T19:06:13.308000Z",
     "shell.execute_reply": "2023-03-28T19:06:13.308000Z"
    },
    "papermill": {
     "duration": 0.90283,
     "end_time": "2023-03-28T18:06:13.314381",
     "exception": false,
     "start_time": "2023-03-28T18:06:12.411551",
     "status": "completed"
    },
    "tags": []
   },
   "outputs": [
    {
     "data": {
      "text/plain": [
       "\"/home/rita13santos/Desktop/MSc Thesis/Git/ScalarField/DATA\""
      ]
     },
     "execution_count": 740,
     "metadata": {},
     "output_type": "execute_result"
    }
   ],
   "source": [
    "global dir = \"/home/rita13santos/Desktop/MSc Thesis/Git/ScalarField/DATA\"\n",
    "#global dir = \"/home/rita13santos/Desktop/MSc Thesis/Git/ScalarField/DATA\""
   ]
  },
  {
   "cell_type": "markdown",
   "id": "e2dd4335",
   "metadata": {
    "papermill": {
     "duration": 0.007006,
     "end_time": "2023-03-28T18:06:13.351329",
     "exception": false,
     "start_time": "2023-03-28T18:06:13.344323",
     "status": "completed"
    },
    "tags": []
   },
   "source": [
    "# Grid"
   ]
  },
  {
   "cell_type": "code",
   "execution_count": 741,
   "id": "bc5288f8",
   "metadata": {
    "execution": {
     "iopub.execute_input": "2023-03-28T19:06:13.636000Z",
     "iopub.status.busy": "2023-03-28T19:06:13.636000Z",
     "iopub.status.idle": "2023-03-28T19:06:14.762000Z",
     "shell.execute_reply": "2023-03-28T19:06:14.762000Z"
    },
    "papermill": {
     "duration": 1.137394,
     "end_time": "2023-03-28T18:06:14.765909",
     "exception": false,
     "start_time": "2023-03-28T18:06:13.628515",
     "status": "completed"
    },
    "tags": []
   },
   "outputs": [],
   "source": [
    "include(\"./ScalarField.jl\");"
   ]
  },
  {
   "cell_type": "code",
   "execution_count": 742,
   "id": "de24fea3",
   "metadata": {
    "execution": {
     "iopub.execute_input": "2023-03-28T19:06:13.366000Z",
     "iopub.status.busy": "2023-03-28T19:06:13.366000Z",
     "iopub.status.idle": "2023-03-28T19:06:13.571000Z",
     "shell.execute_reply": "2023-03-28T19:06:13.571000Z"
    },
    "papermill": {
     "duration": 0.216104,
     "end_time": "2023-03-28T18:06:13.574666",
     "exception": false,
     "start_time": "2023-03-28T18:06:13.358562",
     "status": "completed"
    },
    "tags": []
   },
   "outputs": [
    {
     "name": "stdout",
     "output_type": "stream",
     "text": [
      "step size is  0.005\n",
      "the time step is 0.005\n"
     ]
    }
   ],
   "source": [
    "ori=0.0;\n",
    "initX1 = nothing\n",
    "N=int(N)\n",
    "initX1=range(ori, stop=Xf, step=dx);\n",
    "\n",
    "initX = range(round(ori-3.0*dx,digits=10), stop=Xf+3.0*dx, step=dx)\n",
    "\n",
    "L=length(initX);\n",
    "println(\"step size is  \", dx)\n",
    "println(\"the time step is \", dt)"
   ]
  },
  {
   "cell_type": "code",
   "execution_count": 743,
   "id": "f4c71bab",
   "metadata": {},
   "outputs": [
    {
     "data": {
      "text/plain": [
       "\"if m==1\\n    initX1=chebyshev(int((L-6)))\\n    L1=L;\\nelseif m==2\\n    initX1=doublegrid(chebyshev(int((L1-6))))\\nelse\\n    initX1=doublegrid(doublegrid(chebyshev(int((L1-6)))))\\nend\\ninitX=collect(initX)\\ninitX[4:L-3]=initX1;\""
      ]
     },
     "execution_count": 743,
     "metadata": {},
     "output_type": "execute_result"
    }
   ],
   "source": [
    "\"\"\"if m==1\n",
    "    initX1=chebyshev(int((L-6)))\n",
    "    L1=L;\n",
    "elseif m==2\n",
    "    initX1=doublegrid(chebyshev(int((L1-6))))\n",
    "else\n",
    "    initX1=doublegrid(doublegrid(chebyshev(int((L1-6)))))\n",
    "end\n",
    "initX=collect(initX)\n",
    "initX[4:L-3]=initX1;\"\"\""
   ]
  },
  {
   "cell_type": "markdown",
   "id": "80ab1480",
   "metadata": {
    "papermill": {
     "duration": 0.007525,
     "end_time": "2023-03-28T18:06:14.783937",
     "exception": false,
     "start_time": "2023-03-28T18:06:14.776412",
     "status": "completed"
    },
    "tags": []
   },
   "source": [
    "# Initial data of m β Ψ and Ψ,x"
   ]
  },
  {
   "cell_type": "code",
   "execution_count": 744,
   "id": "d0af654c",
   "metadata": {
    "execution": {
     "iopub.execute_input": "2023-03-28T19:06:14.799000Z",
     "iopub.status.busy": "2023-03-28T19:06:14.799000Z",
     "iopub.status.idle": "2023-03-28T19:06:22.269000Z",
     "shell.execute_reply": "2023-03-28T19:06:22.269000Z"
    },
    "papermill": {
     "duration": 7.48258,
     "end_time": "2023-03-28T18:06:22.273970",
     "exception": false,
     "start_time": "2023-03-28T18:06:14.791390",
     "status": "completed"
    },
    "tags": []
   },
   "outputs": [],
   "source": [
    "using Dierckx\n",
    "\n",
    "####\n",
    "\n",
    "initm=zeros(L);\n",
    "initbeta=zeros(L);\n",
    "initpsi=zeros(L);\n",
    "initderpsi=zeros(L);\n",
    "\n",
    "state_array=[initm initbeta initpsi initderpsi initX];\n",
    "\n",
    "#PSI\n",
    "r0=0.01#0.7#0.01#0.7#0.01#0.7#0.7#0.7#0.01#0.7#0.3\n",
    "sigma=0.3\n",
    "initpsi[4:L-3] = init_gaussian(initX1,r0,sigma,A)\n",
    "\n",
    "state_array[:,3] = initpsi\n",
    "state_array = ghost(state_array)\n",
    "\n",
    "#PSI,X FROM PSI\n",
    "initderpsi[4:L-3] = init_gaussian_der(initX1,r0,sigma,A)\n",
    "state_array[:,4] = initderpsi\n",
    "state_array=ghost(state_array)\n",
    "\n",
    "####\n",
    "\n",
    "derpsi_func = Spline1D(initX[4:L-3], state_array[4:L-3,4],  k=4);"
   ]
  },
  {
   "cell_type": "code",
   "execution_count": 745,
   "id": "9cc776ac",
   "metadata": {},
   "outputs": [],
   "source": [
    "##AUX\n",
    "auxinitm=zeros((L-6)*2+5);\n",
    "auxinitbeta=zeros((L-6)*2+5);\n",
    "auxinitpsi=zeros((L-6)*2+5);\n",
    "auxinitderpsi=zeros((L-6)*2+5);\n",
    "auxinitX=range(round(ori-3.0*dx/2,digits=10), stop=Xf+3.0*dx/2, step=dx/2)\n",
    "auxinitX1=auxinitX[4:length(auxinitX)-3]\n",
    "auxL=length(auxinitX)\n",
    "\n",
    "auxstate_array=[auxinitm auxinitbeta auxinitpsi auxinitderpsi auxinitX];\n",
    "\n",
    "#PSI\n",
    "r0=0.7#0.01#0.7#0.01#0.7#0.7#0.7#0.01#0.7#0.3\n",
    "sigma=0.3\n",
    "auxinitpsi[4:auxL-3] = init_gaussian(auxinitX1,r0,sigma,A)\n",
    "\n",
    "auxstate_array[:,3] = auxinitpsi\n",
    "auxstate_array = ghost(auxstate_array)\n",
    "\n",
    "#PSI,X FROM PSI\n",
    "auxinitderpsi[4:auxL-3] = init_gaussian_der(auxinitX1,r0,sigma,A)\n",
    "auxstate_array[:,4] = auxinitderpsi\n",
    "auxstate_array=ghost(auxstate_array)\n",
    "\n",
    "####\n",
    "\n",
    "auxderpsi_func = Spline1D(auxinitX[4:auxL-3], auxstate_array[4:auxL-3,4],  k=4);"
   ]
  },
  {
   "cell_type": "code",
   "execution_count": 746,
   "id": "16b359eb",
   "metadata": {},
   "outputs": [
    {
     "data": {
      "text/plain": [
       "\"integ=integrator(initX,derpsi_func)\\nplot(initX1, integ[4:L-3],xlim=[0,0.001])\""
      ]
     },
     "execution_count": 746,
     "metadata": {},
     "output_type": "execute_result"
    }
   ],
   "source": [
    "\"\"\"integ=integrator(initX,derpsi_func)\n",
    "plot(initX1, integ[4:L-3],xlim=[0,0.001])\"\"\""
   ]
  },
  {
   "cell_type": "code",
   "execution_count": 747,
   "id": "d4a56f84",
   "metadata": {},
   "outputs": [],
   "source": [
    "##AUX\n",
    "y0=[0 0 0]\n",
    "auxstate_array[4:auxL-3,1:3] = n_rk4wrapper(RHS,y0,auxinitX[4:auxL-3],0,auxderpsi_func,auxstate_array[:,:]);"
   ]
  },
  {
   "cell_type": "code",
   "execution_count": 748,
   "id": "384597fa",
   "metadata": {
    "execution": {
     "iopub.execute_input": "2023-03-28T19:06:22.817000Z",
     "iopub.status.busy": "2023-03-28T19:06:22.325000Z",
     "iopub.status.idle": "2023-03-28T19:06:25.288000Z",
     "shell.execute_reply": "2023-03-28T19:06:25.288000Z"
    },
    "papermill": {
     "duration": 2.998847,
     "end_time": "2023-03-28T18:06:25.292099",
     "exception": false,
     "start_time": "2023-03-28T18:06:22.293252",
     "status": "completed"
    },
    "tags": []
   },
   "outputs": [],
   "source": [
    "y0=[0 0 0]\n",
    "state_array[4:L-3,1:3] = n_rk4wrapper(RHS,y0,initX[4:L-3],0,derpsi_func,state_array[:,:],auxstate_array);\n",
    "\n",
    "#state_array = ghost(state_array);\n",
    "\n",
    "#state_array[4:L-3,3] = rk4wrapper(psiRHS,0,initX[4:L-3],0,derpsi_func,state_array[:,:])\n",
    "\n",
    "#state_array[4:L-3,3] = integrator(initX,derpsi_func)[4:L-3]\n",
    "\n",
    "#psi_func = Spline1D(initX[4:L-3],state_array[4:L-3,3],k=4)\n",
    "#funcs = [psi_func derpsi_func]\n",
    "        \n",
    "#y0=[0.0 0.0]\n",
    "#state_array[4:L-3,1:2] = n_rk4wrapper(mbetaRHS,y0,initX[4:L-3],0,funcs,state_array[:,:]);"
   ]
  },
  {
   "cell_type": "code",
   "execution_count": 749,
   "id": "48f10a76",
   "metadata": {
    "execution": {
     "iopub.execute_input": "2023-03-28T19:06:25.312000Z",
     "iopub.status.busy": "2023-03-28T19:06:25.312000Z",
     "iopub.status.idle": "2023-03-28T19:06:25.348000Z",
     "shell.execute_reply": "2023-03-28T19:06:25.347000Z"
    },
    "papermill": {
     "duration": 0.048534,
     "end_time": "2023-03-28T18:06:25.352888",
     "exception": false,
     "start_time": "2023-03-28T18:06:25.304354",
     "status": "completed"
    },
    "tags": []
   },
   "outputs": [
    {
     "data": {
      "image/svg+xml": [
       "<?xml version=\"1.0\" encoding=\"utf-8\"?>\n",
       "<svg xmlns=\"http://www.w3.org/2000/svg\" xmlns:xlink=\"http://www.w3.org/1999/xlink\" width=\"600\" height=\"400\" viewBox=\"0 0 2400 1600\">\n",
       "<defs>\n",
       "  <clipPath id=\"clip130\">\n",
       "    <rect x=\"0\" y=\"0\" width=\"2400\" height=\"1600\"/>\n",
       "  </clipPath>\n",
       "</defs>\n",
       "<path clip-path=\"url(#clip130)\" d=\"M0 1600 L2400 1600 L2400 0 L0 0  Z\" fill=\"#ffffff\" fill-rule=\"evenodd\" fill-opacity=\"1\"/>\n",
       "<defs>\n",
       "  <clipPath id=\"clip131\">\n",
       "    <rect x=\"480\" y=\"0\" width=\"1681\" height=\"1600\"/>\n",
       "  </clipPath>\n",
       "</defs>\n",
       "<path clip-path=\"url(#clip130)\" d=\"M314.583 1423.18 L2352.76 1423.18 L2352.76 123.472 L314.583 123.472  Z\" fill=\"#ffffff\" fill-rule=\"evenodd\" fill-opacity=\"1\"/>\n",
       "<defs>\n",
       "  <clipPath id=\"clip132\">\n",
       "    <rect x=\"314\" y=\"123\" width=\"2039\" height=\"1301\"/>\n",
       "  </clipPath>\n",
       "</defs>\n",
       "<polyline clip-path=\"url(#clip132)\" style=\"stroke:#000000; stroke-linecap:round; stroke-linejoin:round; stroke-width:2; stroke-opacity:0.1; fill:none\" points=\"372.268,1423.18 372.268,123.472 \"/>\n",
       "<polyline clip-path=\"url(#clip132)\" style=\"stroke:#000000; stroke-linecap:round; stroke-linejoin:round; stroke-width:2; stroke-opacity:0.1; fill:none\" points=\"852.969,1423.18 852.969,123.472 \"/>\n",
       "<polyline clip-path=\"url(#clip132)\" style=\"stroke:#000000; stroke-linecap:round; stroke-linejoin:round; stroke-width:2; stroke-opacity:0.1; fill:none\" points=\"1333.67,1423.18 1333.67,123.472 \"/>\n",
       "<polyline clip-path=\"url(#clip132)\" style=\"stroke:#000000; stroke-linecap:round; stroke-linejoin:round; stroke-width:2; stroke-opacity:0.1; fill:none\" points=\"1814.37,1423.18 1814.37,123.472 \"/>\n",
       "<polyline clip-path=\"url(#clip132)\" style=\"stroke:#000000; stroke-linecap:round; stroke-linejoin:round; stroke-width:2; stroke-opacity:0.1; fill:none\" points=\"2295.07,1423.18 2295.07,123.472 \"/>\n",
       "<polyline clip-path=\"url(#clip130)\" style=\"stroke:#000000; stroke-linecap:round; stroke-linejoin:round; stroke-width:4; stroke-opacity:1; fill:none\" points=\"314.583,1423.18 2352.76,1423.18 \"/>\n",
       "<polyline clip-path=\"url(#clip130)\" style=\"stroke:#000000; stroke-linecap:round; stroke-linejoin:round; stroke-width:4; stroke-opacity:1; fill:none\" points=\"372.268,1423.18 372.268,1404.28 \"/>\n",
       "<polyline clip-path=\"url(#clip130)\" style=\"stroke:#000000; stroke-linecap:round; stroke-linejoin:round; stroke-width:4; stroke-opacity:1; fill:none\" points=\"852.969,1423.18 852.969,1404.28 \"/>\n",
       "<polyline clip-path=\"url(#clip130)\" style=\"stroke:#000000; stroke-linecap:round; stroke-linejoin:round; stroke-width:4; stroke-opacity:1; fill:none\" points=\"1333.67,1423.18 1333.67,1404.28 \"/>\n",
       "<polyline clip-path=\"url(#clip130)\" style=\"stroke:#000000; stroke-linecap:round; stroke-linejoin:round; stroke-width:4; stroke-opacity:1; fill:none\" points=\"1814.37,1423.18 1814.37,1404.28 \"/>\n",
       "<polyline clip-path=\"url(#clip130)\" style=\"stroke:#000000; stroke-linecap:round; stroke-linejoin:round; stroke-width:4; stroke-opacity:1; fill:none\" points=\"2295.07,1423.18 2295.07,1404.28 \"/>\n",
       "<path clip-path=\"url(#clip130)\" d=\"M334.571 1454.1 Q330.96 1454.1 329.131 1457.66 Q327.326 1461.2 327.326 1468.33 Q327.326 1475.44 329.131 1479.01 Q330.96 1482.55 334.571 1482.55 Q338.205 1482.55 340.011 1479.01 Q341.84 1475.44 341.84 1468.33 Q341.84 1461.2 340.011 1457.66 Q338.205 1454.1 334.571 1454.1 M334.571 1450.39 Q340.381 1450.39 343.437 1455 Q346.515 1459.58 346.515 1468.33 Q346.515 1477.06 343.437 1481.67 Q340.381 1486.25 334.571 1486.25 Q328.761 1486.25 325.682 1481.67 Q322.627 1477.06 322.627 1468.33 Q322.627 1459.58 325.682 1455 Q328.761 1450.39 334.571 1450.39 Z\" fill=\"#000000\" fill-rule=\"evenodd\" fill-opacity=\"1\" /><path clip-path=\"url(#clip130)\" d=\"M354.733 1479.7 L359.617 1479.7 L359.617 1485.58 L354.733 1485.58 L354.733 1479.7 Z\" fill=\"#000000\" fill-rule=\"evenodd\" fill-opacity=\"1\" /><path clip-path=\"url(#clip130)\" d=\"M379.802 1454.1 Q376.191 1454.1 374.363 1457.66 Q372.557 1461.2 372.557 1468.33 Q372.557 1475.44 374.363 1479.01 Q376.191 1482.55 379.802 1482.55 Q383.437 1482.55 385.242 1479.01 Q387.071 1475.44 387.071 1468.33 Q387.071 1461.2 385.242 1457.66 Q383.437 1454.1 379.802 1454.1 M379.802 1450.39 Q385.612 1450.39 388.668 1455 Q391.747 1459.58 391.747 1468.33 Q391.747 1477.06 388.668 1481.67 Q385.612 1486.25 379.802 1486.25 Q373.992 1486.25 370.913 1481.67 Q367.858 1477.06 367.858 1468.33 Q367.858 1459.58 370.913 1455 Q373.992 1450.39 379.802 1450.39 Z\" fill=\"#000000\" fill-rule=\"evenodd\" fill-opacity=\"1\" /><path clip-path=\"url(#clip130)\" d=\"M409.964 1454.1 Q406.353 1454.1 404.524 1457.66 Q402.719 1461.2 402.719 1468.33 Q402.719 1475.44 404.524 1479.01 Q406.353 1482.55 409.964 1482.55 Q413.598 1482.55 415.404 1479.01 Q417.233 1475.44 417.233 1468.33 Q417.233 1461.2 415.404 1457.66 Q413.598 1454.1 409.964 1454.1 M409.964 1450.39 Q415.774 1450.39 418.83 1455 Q421.909 1459.58 421.909 1468.33 Q421.909 1477.06 418.83 1481.67 Q415.774 1486.25 409.964 1486.25 Q404.154 1486.25 401.075 1481.67 Q398.02 1477.06 398.02 1468.33 Q398.02 1459.58 401.075 1455 Q404.154 1450.39 409.964 1450.39 Z\" fill=\"#000000\" fill-rule=\"evenodd\" fill-opacity=\"1\" /><path clip-path=\"url(#clip130)\" d=\"M815.77 1454.1 Q812.159 1454.1 810.33 1457.66 Q808.524 1461.2 808.524 1468.33 Q808.524 1475.44 810.33 1479.01 Q812.159 1482.55 815.77 1482.55 Q819.404 1482.55 821.21 1479.01 Q823.038 1475.44 823.038 1468.33 Q823.038 1461.2 821.21 1457.66 Q819.404 1454.1 815.77 1454.1 M815.77 1450.39 Q821.58 1450.39 824.635 1455 Q827.714 1459.58 827.714 1468.33 Q827.714 1477.06 824.635 1481.67 Q821.58 1486.25 815.77 1486.25 Q809.96 1486.25 806.881 1481.67 Q803.825 1477.06 803.825 1468.33 Q803.825 1459.58 806.881 1455 Q809.96 1450.39 815.77 1450.39 Z\" fill=\"#000000\" fill-rule=\"evenodd\" fill-opacity=\"1\" /><path clip-path=\"url(#clip130)\" d=\"M835.932 1479.7 L840.816 1479.7 L840.816 1485.58 L835.932 1485.58 L835.932 1479.7 Z\" fill=\"#000000\" fill-rule=\"evenodd\" fill-opacity=\"1\" /><path clip-path=\"url(#clip130)\" d=\"M855.029 1481.64 L871.348 1481.64 L871.348 1485.58 L849.404 1485.58 L849.404 1481.64 Q852.066 1478.89 856.649 1474.26 Q861.256 1469.61 862.436 1468.27 Q864.682 1465.74 865.561 1464.01 Q866.464 1462.25 866.464 1460.56 Q866.464 1457.8 864.52 1456.07 Q862.598 1454.33 859.496 1454.33 Q857.297 1454.33 854.844 1455.09 Q852.413 1455.86 849.635 1457.41 L849.635 1452.69 Q852.459 1451.55 854.913 1450.97 Q857.367 1450.39 859.404 1450.39 Q864.774 1450.39 867.969 1453.08 Q871.163 1455.77 871.163 1460.26 Q871.163 1462.39 870.353 1464.31 Q869.566 1466.2 867.459 1468.8 Q866.881 1469.47 863.779 1472.69 Q860.677 1475.88 855.029 1481.64 Z\" fill=\"#000000\" fill-rule=\"evenodd\" fill-opacity=\"1\" /><path clip-path=\"url(#clip130)\" d=\"M881.209 1451.02 L899.566 1451.02 L899.566 1454.96 L885.492 1454.96 L885.492 1463.43 Q886.51 1463.08 887.529 1462.92 Q888.547 1462.73 889.566 1462.73 Q895.353 1462.73 898.732 1465.9 Q902.112 1469.08 902.112 1474.49 Q902.112 1480.07 898.64 1483.17 Q895.168 1486.25 888.848 1486.25 Q886.672 1486.25 884.404 1485.88 Q882.158 1485.51 879.751 1484.77 L879.751 1480.07 Q881.834 1481.2 884.056 1481.76 Q886.279 1482.32 888.756 1482.32 Q892.76 1482.32 895.098 1480.21 Q897.436 1478.1 897.436 1474.49 Q897.436 1470.88 895.098 1468.77 Q892.76 1466.67 888.756 1466.67 Q886.881 1466.67 885.006 1467.08 Q883.154 1467.5 881.209 1468.38 L881.209 1451.02 Z\" fill=\"#000000\" fill-rule=\"evenodd\" fill-opacity=\"1\" /><path clip-path=\"url(#clip130)\" d=\"M1295.97 1454.1 Q1292.36 1454.1 1290.53 1457.66 Q1288.73 1461.2 1288.73 1468.33 Q1288.73 1475.44 1290.53 1479.01 Q1292.36 1482.55 1295.97 1482.55 Q1299.61 1482.55 1301.41 1479.01 Q1303.24 1475.44 1303.24 1468.33 Q1303.24 1461.2 1301.41 1457.66 Q1299.61 1454.1 1295.97 1454.1 M1295.97 1450.39 Q1301.78 1450.39 1304.84 1455 Q1307.92 1459.58 1307.92 1468.33 Q1307.92 1477.06 1304.84 1481.67 Q1301.78 1486.25 1295.97 1486.25 Q1290.16 1486.25 1287.08 1481.67 Q1284.03 1477.06 1284.03 1468.33 Q1284.03 1459.58 1287.08 1455 Q1290.16 1450.39 1295.97 1450.39 Z\" fill=\"#000000\" fill-rule=\"evenodd\" fill-opacity=\"1\" /><path clip-path=\"url(#clip130)\" d=\"M1316.14 1479.7 L1321.02 1479.7 L1321.02 1485.58 L1316.14 1485.58 L1316.14 1479.7 Z\" fill=\"#000000\" fill-rule=\"evenodd\" fill-opacity=\"1\" /><path clip-path=\"url(#clip130)\" d=\"M1331.25 1451.02 L1349.61 1451.02 L1349.61 1454.96 L1335.53 1454.96 L1335.53 1463.43 Q1336.55 1463.08 1337.57 1462.92 Q1338.59 1462.73 1339.61 1462.73 Q1345.39 1462.73 1348.77 1465.9 Q1352.15 1469.08 1352.15 1474.49 Q1352.15 1480.07 1348.68 1483.17 Q1345.21 1486.25 1338.89 1486.25 Q1336.71 1486.25 1334.45 1485.88 Q1332.2 1485.51 1329.79 1484.77 L1329.79 1480.07 Q1331.88 1481.2 1334.1 1481.76 Q1336.32 1482.32 1338.8 1482.32 Q1342.8 1482.32 1345.14 1480.21 Q1347.48 1478.1 1347.48 1474.49 Q1347.48 1470.88 1345.14 1468.77 Q1342.8 1466.67 1338.8 1466.67 Q1336.92 1466.67 1335.05 1467.08 Q1333.2 1467.5 1331.25 1468.38 L1331.25 1451.02 Z\" fill=\"#000000\" fill-rule=\"evenodd\" fill-opacity=\"1\" /><path clip-path=\"url(#clip130)\" d=\"M1371.37 1454.1 Q1367.76 1454.1 1365.93 1457.66 Q1364.12 1461.2 1364.12 1468.33 Q1364.12 1475.44 1365.93 1479.01 Q1367.76 1482.55 1371.37 1482.55 Q1375 1482.55 1376.81 1479.01 Q1378.63 1475.44 1378.63 1468.33 Q1378.63 1461.2 1376.81 1457.66 Q1375 1454.1 1371.37 1454.1 M1371.37 1450.39 Q1377.18 1450.39 1380.23 1455 Q1383.31 1459.58 1383.31 1468.33 Q1383.31 1477.06 1380.23 1481.67 Q1377.18 1486.25 1371.37 1486.25 Q1365.56 1486.25 1362.48 1481.67 Q1359.42 1477.06 1359.42 1468.33 Q1359.42 1459.58 1362.48 1455 Q1365.56 1450.39 1371.37 1450.39 Z\" fill=\"#000000\" fill-rule=\"evenodd\" fill-opacity=\"1\" /><path clip-path=\"url(#clip130)\" d=\"M1777.17 1454.1 Q1773.56 1454.1 1771.73 1457.66 Q1769.93 1461.2 1769.93 1468.33 Q1769.93 1475.44 1771.73 1479.01 Q1773.56 1482.55 1777.17 1482.55 Q1780.81 1482.55 1782.61 1479.01 Q1784.44 1475.44 1784.44 1468.33 Q1784.44 1461.2 1782.61 1457.66 Q1780.81 1454.1 1777.17 1454.1 M1777.17 1450.39 Q1782.98 1450.39 1786.04 1455 Q1789.12 1459.58 1789.12 1468.33 Q1789.12 1477.06 1786.04 1481.67 Q1782.98 1486.25 1777.17 1486.25 Q1771.36 1486.25 1768.28 1481.67 Q1765.23 1477.06 1765.23 1468.33 Q1765.23 1459.58 1768.28 1455 Q1771.36 1450.39 1777.17 1450.39 Z\" fill=\"#000000\" fill-rule=\"evenodd\" fill-opacity=\"1\" /><path clip-path=\"url(#clip130)\" d=\"M1797.33 1479.7 L1802.22 1479.7 L1802.22 1485.58 L1797.33 1485.58 L1797.33 1479.7 Z\" fill=\"#000000\" fill-rule=\"evenodd\" fill-opacity=\"1\" /><path clip-path=\"url(#clip130)\" d=\"M1811.22 1451.02 L1833.44 1451.02 L1833.44 1453.01 L1820.9 1485.58 L1816.01 1485.58 L1827.82 1454.96 L1811.22 1454.96 L1811.22 1451.02 Z\" fill=\"#000000\" fill-rule=\"evenodd\" fill-opacity=\"1\" /><path clip-path=\"url(#clip130)\" d=\"M1842.61 1451.02 L1860.97 1451.02 L1860.97 1454.96 L1846.89 1454.96 L1846.89 1463.43 Q1847.91 1463.08 1848.93 1462.92 Q1849.95 1462.73 1850.97 1462.73 Q1856.75 1462.73 1860.13 1465.9 Q1863.51 1469.08 1863.51 1474.49 Q1863.51 1480.07 1860.04 1483.17 Q1856.57 1486.25 1850.25 1486.25 Q1848.07 1486.25 1845.81 1485.88 Q1843.56 1485.51 1841.15 1484.77 L1841.15 1480.07 Q1843.24 1481.2 1845.46 1481.76 Q1847.68 1482.32 1850.16 1482.32 Q1854.16 1482.32 1856.5 1480.21 Q1858.84 1478.1 1858.84 1474.49 Q1858.84 1470.88 1856.5 1468.77 Q1854.16 1466.67 1850.16 1466.67 Q1848.28 1466.67 1846.41 1467.08 Q1844.56 1467.5 1842.61 1468.38 L1842.61 1451.02 Z\" fill=\"#000000\" fill-rule=\"evenodd\" fill-opacity=\"1\" /><path clip-path=\"url(#clip130)\" d=\"M2247.14 1481.64 L2254.78 1481.64 L2254.78 1455.28 L2246.47 1456.95 L2246.47 1452.69 L2254.74 1451.02 L2259.41 1451.02 L2259.41 1481.64 L2267.05 1481.64 L2267.05 1485.58 L2247.14 1485.58 L2247.14 1481.64 Z\" fill=\"#000000\" fill-rule=\"evenodd\" fill-opacity=\"1\" /><path clip-path=\"url(#clip130)\" d=\"M2276.5 1479.7 L2281.38 1479.7 L2281.38 1485.58 L2276.5 1485.58 L2276.5 1479.7 Z\" fill=\"#000000\" fill-rule=\"evenodd\" fill-opacity=\"1\" /><path clip-path=\"url(#clip130)\" d=\"M2301.56 1454.1 Q2297.95 1454.1 2296.13 1457.66 Q2294.32 1461.2 2294.32 1468.33 Q2294.32 1475.44 2296.13 1479.01 Q2297.95 1482.55 2301.56 1482.55 Q2305.2 1482.55 2307 1479.01 Q2308.83 1475.44 2308.83 1468.33 Q2308.83 1461.2 2307 1457.66 Q2305.2 1454.1 2301.56 1454.1 M2301.56 1450.39 Q2307.37 1450.39 2310.43 1455 Q2313.51 1459.58 2313.51 1468.33 Q2313.51 1477.06 2310.43 1481.67 Q2307.37 1486.25 2301.56 1486.25 Q2295.75 1486.25 2292.68 1481.67 Q2289.62 1477.06 2289.62 1468.33 Q2289.62 1459.58 2292.68 1455 Q2295.75 1450.39 2301.56 1450.39 Z\" fill=\"#000000\" fill-rule=\"evenodd\" fill-opacity=\"1\" /><path clip-path=\"url(#clip130)\" d=\"M2331.73 1454.1 Q2328.12 1454.1 2326.29 1457.66 Q2324.48 1461.2 2324.48 1468.33 Q2324.48 1475.44 2326.29 1479.01 Q2328.12 1482.55 2331.73 1482.55 Q2335.36 1482.55 2337.17 1479.01 Q2339 1475.44 2339 1468.33 Q2339 1461.2 2337.17 1457.66 Q2335.36 1454.1 2331.73 1454.1 M2331.73 1450.39 Q2337.54 1450.39 2340.59 1455 Q2343.67 1459.58 2343.67 1468.33 Q2343.67 1477.06 2340.59 1481.67 Q2337.54 1486.25 2331.73 1486.25 Q2325.92 1486.25 2322.84 1481.67 Q2319.78 1477.06 2319.78 1468.33 Q2319.78 1459.58 2322.84 1455 Q2325.92 1450.39 2331.73 1450.39 Z\" fill=\"#000000\" fill-rule=\"evenodd\" fill-opacity=\"1\" /><path clip-path=\"url(#clip130)\" d=\"M1350.28 1532.4 L1337.39 1549.74 L1350.95 1568.04 L1344.05 1568.04 L1333.67 1554.04 L1323.29 1568.04 L1316.39 1568.04 L1330.23 1549.39 L1317.56 1532.4 L1324.47 1532.4 L1333.92 1545.1 L1343.38 1532.4 L1350.28 1532.4 Z\" fill=\"#000000\" fill-rule=\"evenodd\" fill-opacity=\"1\" /><polyline clip-path=\"url(#clip132)\" style=\"stroke:#000000; stroke-linecap:round; stroke-linejoin:round; stroke-width:2; stroke-opacity:0.1; fill:none\" points=\"314.583,1370.58 2352.76,1370.58 \"/>\n",
       "<polyline clip-path=\"url(#clip132)\" style=\"stroke:#000000; stroke-linecap:round; stroke-linejoin:round; stroke-width:2; stroke-opacity:0.1; fill:none\" points=\"314.583,1048.01 2352.76,1048.01 \"/>\n",
       "<polyline clip-path=\"url(#clip132)\" style=\"stroke:#000000; stroke-linecap:round; stroke-linejoin:round; stroke-width:2; stroke-opacity:0.1; fill:none\" points=\"314.583,725.434 2352.76,725.434 \"/>\n",
       "<polyline clip-path=\"url(#clip132)\" style=\"stroke:#000000; stroke-linecap:round; stroke-linejoin:round; stroke-width:2; stroke-opacity:0.1; fill:none\" points=\"314.583,402.86 2352.76,402.86 \"/>\n",
       "<polyline clip-path=\"url(#clip130)\" style=\"stroke:#000000; stroke-linecap:round; stroke-linejoin:round; stroke-width:4; stroke-opacity:1; fill:none\" points=\"314.583,1423.18 314.583,123.472 \"/>\n",
       "<polyline clip-path=\"url(#clip130)\" style=\"stroke:#000000; stroke-linecap:round; stroke-linejoin:round; stroke-width:4; stroke-opacity:1; fill:none\" points=\"314.583,1370.58 333.481,1370.58 \"/>\n",
       "<polyline clip-path=\"url(#clip130)\" style=\"stroke:#000000; stroke-linecap:round; stroke-linejoin:round; stroke-width:4; stroke-opacity:1; fill:none\" points=\"314.583,1048.01 333.481,1048.01 \"/>\n",
       "<polyline clip-path=\"url(#clip130)\" style=\"stroke:#000000; stroke-linecap:round; stroke-linejoin:round; stroke-width:4; stroke-opacity:1; fill:none\" points=\"314.583,725.434 333.481,725.434 \"/>\n",
       "<polyline clip-path=\"url(#clip130)\" style=\"stroke:#000000; stroke-linecap:round; stroke-linejoin:round; stroke-width:4; stroke-opacity:1; fill:none\" points=\"314.583,402.86 333.481,402.86 \"/>\n",
       "<path clip-path=\"url(#clip130)\" d=\"M50.9921 1371.03 L80.6679 1371.03 L80.6679 1374.97 L50.9921 1374.97 L50.9921 1371.03 Z\" fill=\"#000000\" fill-rule=\"evenodd\" fill-opacity=\"1\" /><path clip-path=\"url(#clip130)\" d=\"M100.76 1356.38 Q97.1493 1356.38 95.3206 1359.95 Q93.515 1363.49 93.515 1370.62 Q93.515 1377.72 95.3206 1381.29 Q97.1493 1384.83 100.76 1384.83 Q104.395 1384.83 106.2 1381.29 Q108.029 1377.72 108.029 1370.62 Q108.029 1363.49 106.2 1359.95 Q104.395 1356.38 100.76 1356.38 M100.76 1352.68 Q106.571 1352.68 109.626 1357.28 Q112.705 1361.87 112.705 1370.62 Q112.705 1379.34 109.626 1383.95 Q106.571 1388.53 100.76 1388.53 Q94.9502 1388.53 91.8715 1383.95 Q88.816 1379.34 88.816 1370.62 Q88.816 1361.87 91.8715 1357.28 Q94.9502 1352.68 100.76 1352.68 Z\" fill=\"#000000\" fill-rule=\"evenodd\" fill-opacity=\"1\" /><path clip-path=\"url(#clip130)\" d=\"M120.922 1381.98 L125.807 1381.98 L125.807 1387.86 L120.922 1387.86 L120.922 1381.98 Z\" fill=\"#000000\" fill-rule=\"evenodd\" fill-opacity=\"1\" /><path clip-path=\"url(#clip130)\" d=\"M145.992 1356.38 Q142.381 1356.38 140.552 1359.95 Q138.746 1363.49 138.746 1370.62 Q138.746 1377.72 140.552 1381.29 Q142.381 1384.83 145.992 1384.83 Q149.626 1384.83 151.431 1381.29 Q153.26 1377.72 153.26 1370.62 Q153.26 1363.49 151.431 1359.95 Q149.626 1356.38 145.992 1356.38 M145.992 1352.68 Q151.802 1352.68 154.857 1357.28 Q157.936 1361.87 157.936 1370.62 Q157.936 1379.34 154.857 1383.95 Q151.802 1388.53 145.992 1388.53 Q140.181 1388.53 137.103 1383.95 Q134.047 1379.34 134.047 1370.62 Q134.047 1361.87 137.103 1357.28 Q140.181 1352.68 145.992 1352.68 Z\" fill=\"#000000\" fill-rule=\"evenodd\" fill-opacity=\"1\" /><path clip-path=\"url(#clip130)\" d=\"M176.153 1356.38 Q172.542 1356.38 170.714 1359.95 Q168.908 1363.49 168.908 1370.62 Q168.908 1377.72 170.714 1381.29 Q172.542 1384.83 176.153 1384.83 Q179.788 1384.83 181.593 1381.29 Q183.422 1377.72 183.422 1370.62 Q183.422 1363.49 181.593 1359.95 Q179.788 1356.38 176.153 1356.38 M176.153 1352.68 Q181.964 1352.68 185.019 1357.28 Q188.098 1361.87 188.098 1370.62 Q188.098 1379.34 185.019 1383.95 Q181.964 1388.53 176.153 1388.53 Q170.343 1388.53 167.265 1383.95 Q164.209 1379.34 164.209 1370.62 Q164.209 1361.87 167.265 1357.28 Q170.343 1352.68 176.153 1352.68 Z\" fill=\"#000000\" fill-rule=\"evenodd\" fill-opacity=\"1\" /><path clip-path=\"url(#clip130)\" d=\"M206.315 1356.38 Q202.704 1356.38 200.876 1359.95 Q199.07 1363.49 199.07 1370.62 Q199.07 1377.72 200.876 1381.29 Q202.704 1384.83 206.315 1384.83 Q209.95 1384.83 211.755 1381.29 Q213.584 1377.72 213.584 1370.62 Q213.584 1363.49 211.755 1359.95 Q209.95 1356.38 206.315 1356.38 M206.315 1352.68 Q212.126 1352.68 215.181 1357.28 Q218.26 1361.87 218.26 1370.62 Q218.26 1379.34 215.181 1383.95 Q212.126 1388.53 206.315 1388.53 Q200.505 1388.53 197.427 1383.95 Q194.371 1379.34 194.371 1370.62 Q194.371 1361.87 197.427 1357.28 Q200.505 1352.68 206.315 1352.68 Z\" fill=\"#000000\" fill-rule=\"evenodd\" fill-opacity=\"1\" /><path clip-path=\"url(#clip130)\" d=\"M227.287 1383.93 L234.926 1383.93 L234.926 1357.56 L226.616 1359.23 L226.616 1354.97 L234.88 1353.3 L239.556 1353.3 L239.556 1383.93 L247.195 1383.93 L247.195 1387.86 L227.287 1387.86 L227.287 1383.93 Z\" fill=\"#000000\" fill-rule=\"evenodd\" fill-opacity=\"1\" /><path clip-path=\"url(#clip130)\" d=\"M266.639 1356.38 Q263.028 1356.38 261.199 1359.95 Q259.394 1363.49 259.394 1370.62 Q259.394 1377.72 261.199 1381.29 Q263.028 1384.83 266.639 1384.83 Q270.273 1384.83 272.079 1381.29 Q273.908 1377.72 273.908 1370.62 Q273.908 1363.49 272.079 1359.95 Q270.273 1356.38 266.639 1356.38 M266.639 1352.68 Q272.449 1352.68 275.505 1357.28 Q278.583 1361.87 278.583 1370.62 Q278.583 1379.34 275.505 1383.95 Q272.449 1388.53 266.639 1388.53 Q260.829 1388.53 257.75 1383.95 Q254.695 1379.34 254.695 1370.62 Q254.695 1361.87 257.75 1357.28 Q260.829 1352.68 266.639 1352.68 Z\" fill=\"#000000\" fill-rule=\"evenodd\" fill-opacity=\"1\" /><path clip-path=\"url(#clip130)\" d=\"M51.9875 1048.46 L81.6633 1048.46 L81.6633 1052.39 L51.9875 1052.39 L51.9875 1048.46 Z\" fill=\"#000000\" fill-rule=\"evenodd\" fill-opacity=\"1\" /><path clip-path=\"url(#clip130)\" d=\"M101.756 1033.81 Q98.1447 1033.81 96.316 1037.37 Q94.5104 1040.91 94.5104 1048.04 Q94.5104 1055.15 96.316 1058.71 Q98.1447 1062.26 101.756 1062.26 Q105.39 1062.26 107.196 1058.71 Q109.024 1055.15 109.024 1048.04 Q109.024 1040.91 107.196 1037.37 Q105.39 1033.81 101.756 1033.81 M101.756 1030.1 Q107.566 1030.1 110.621 1034.71 Q113.7 1039.29 113.7 1048.04 Q113.7 1056.77 110.621 1061.38 Q107.566 1065.96 101.756 1065.96 Q95.9456 1065.96 92.8669 1061.38 Q89.8114 1056.77 89.8114 1048.04 Q89.8114 1039.29 92.8669 1034.71 Q95.9456 1030.1 101.756 1030.1 Z\" fill=\"#000000\" fill-rule=\"evenodd\" fill-opacity=\"1\" /><path clip-path=\"url(#clip130)\" d=\"M121.918 1059.41 L126.802 1059.41 L126.802 1065.29 L121.918 1065.29 L121.918 1059.41 Z\" fill=\"#000000\" fill-rule=\"evenodd\" fill-opacity=\"1\" /><path clip-path=\"url(#clip130)\" d=\"M146.987 1033.81 Q143.376 1033.81 141.547 1037.37 Q139.742 1040.91 139.742 1048.04 Q139.742 1055.15 141.547 1058.71 Q143.376 1062.26 146.987 1062.26 Q150.621 1062.26 152.427 1058.71 Q154.255 1055.15 154.255 1048.04 Q154.255 1040.91 152.427 1037.37 Q150.621 1033.81 146.987 1033.81 M146.987 1030.1 Q152.797 1030.1 155.853 1034.71 Q158.931 1039.29 158.931 1048.04 Q158.931 1056.77 155.853 1061.38 Q152.797 1065.96 146.987 1065.96 Q141.177 1065.96 138.098 1061.38 Q135.043 1056.77 135.043 1048.04 Q135.043 1039.29 138.098 1034.71 Q141.177 1030.1 146.987 1030.1 Z\" fill=\"#000000\" fill-rule=\"evenodd\" fill-opacity=\"1\" /><path clip-path=\"url(#clip130)\" d=\"M177.149 1033.81 Q173.538 1033.81 171.709 1037.37 Q169.904 1040.91 169.904 1048.04 Q169.904 1055.15 171.709 1058.71 Q173.538 1062.26 177.149 1062.26 Q180.783 1062.26 182.589 1058.71 Q184.417 1055.15 184.417 1048.04 Q184.417 1040.91 182.589 1037.37 Q180.783 1033.81 177.149 1033.81 M177.149 1030.1 Q182.959 1030.1 186.015 1034.71 Q189.093 1039.29 189.093 1048.04 Q189.093 1056.77 186.015 1061.38 Q182.959 1065.96 177.149 1065.96 Q171.339 1065.96 168.26 1061.38 Q165.204 1056.77 165.204 1048.04 Q165.204 1039.29 168.26 1034.71 Q171.339 1030.1 177.149 1030.1 Z\" fill=\"#000000\" fill-rule=\"evenodd\" fill-opacity=\"1\" /><path clip-path=\"url(#clip130)\" d=\"M207.311 1033.81 Q203.7 1033.81 201.871 1037.37 Q200.065 1040.91 200.065 1048.04 Q200.065 1055.15 201.871 1058.71 Q203.7 1062.26 207.311 1062.26 Q210.945 1062.26 212.751 1058.71 Q214.579 1055.15 214.579 1048.04 Q214.579 1040.91 212.751 1037.37 Q210.945 1033.81 207.311 1033.81 M207.311 1030.1 Q213.121 1030.1 216.176 1034.71 Q219.255 1039.29 219.255 1048.04 Q219.255 1056.77 216.176 1061.38 Q213.121 1065.96 207.311 1065.96 Q201.501 1065.96 198.422 1061.38 Q195.366 1056.77 195.366 1048.04 Q195.366 1039.29 198.422 1034.71 Q201.501 1030.1 207.311 1030.1 Z\" fill=\"#000000\" fill-rule=\"evenodd\" fill-opacity=\"1\" /><path clip-path=\"url(#clip130)\" d=\"M237.473 1033.81 Q233.862 1033.81 232.033 1037.37 Q230.227 1040.91 230.227 1048.04 Q230.227 1055.15 232.033 1058.71 Q233.862 1062.26 237.473 1062.26 Q241.107 1062.26 242.912 1058.71 Q244.741 1055.15 244.741 1048.04 Q244.741 1040.91 242.912 1037.37 Q241.107 1033.81 237.473 1033.81 M237.473 1030.1 Q243.283 1030.1 246.338 1034.71 Q249.417 1039.29 249.417 1048.04 Q249.417 1056.77 246.338 1061.38 Q243.283 1065.96 237.473 1065.96 Q231.662 1065.96 228.584 1061.38 Q225.528 1056.77 225.528 1048.04 Q225.528 1039.29 228.584 1034.71 Q231.662 1030.1 237.473 1030.1 Z\" fill=\"#000000\" fill-rule=\"evenodd\" fill-opacity=\"1\" /><path clip-path=\"url(#clip130)\" d=\"M257.681 1030.73 L276.037 1030.73 L276.037 1034.66 L261.963 1034.66 L261.963 1043.14 Q262.982 1042.79 264 1042.63 Q265.019 1042.44 266.037 1042.44 Q271.824 1042.44 275.204 1045.61 Q278.583 1048.78 278.583 1054.2 Q278.583 1059.78 275.111 1062.88 Q271.639 1065.96 265.32 1065.96 Q263.144 1065.96 260.875 1065.59 Q258.63 1065.22 256.223 1064.48 L256.223 1059.78 Q258.306 1060.91 260.528 1061.47 Q262.75 1062.02 265.227 1062.02 Q269.232 1062.02 271.57 1059.92 Q273.908 1057.81 273.908 1054.2 Q273.908 1050.59 271.57 1048.48 Q269.232 1046.38 265.227 1046.38 Q263.352 1046.38 261.477 1046.79 Q259.625 1047.21 257.681 1048.09 L257.681 1030.73 Z\" fill=\"#000000\" fill-rule=\"evenodd\" fill-opacity=\"1\" /><path clip-path=\"url(#clip130)\" d=\"M100.76 711.233 Q97.1493 711.233 95.3206 714.797 Q93.515 718.339 93.515 725.469 Q93.515 732.575 95.3206 736.14 Q97.1493 739.681 100.76 739.681 Q104.395 739.681 106.2 736.14 Q108.029 732.575 108.029 725.469 Q108.029 718.339 106.2 714.797 Q104.395 711.233 100.76 711.233 M100.76 707.529 Q106.571 707.529 109.626 712.135 Q112.705 716.719 112.705 725.469 Q112.705 734.195 109.626 738.802 Q106.571 743.385 100.76 743.385 Q94.9502 743.385 91.8715 738.802 Q88.816 734.195 88.816 725.469 Q88.816 716.719 91.8715 712.135 Q94.9502 707.529 100.76 707.529 Z\" fill=\"#000000\" fill-rule=\"evenodd\" fill-opacity=\"1\" /><path clip-path=\"url(#clip130)\" d=\"M120.922 736.834 L125.807 736.834 L125.807 742.714 L120.922 742.714 L120.922 736.834 Z\" fill=\"#000000\" fill-rule=\"evenodd\" fill-opacity=\"1\" /><path clip-path=\"url(#clip130)\" d=\"M145.992 711.233 Q142.381 711.233 140.552 714.797 Q138.746 718.339 138.746 725.469 Q138.746 732.575 140.552 736.14 Q142.381 739.681 145.992 739.681 Q149.626 739.681 151.431 736.14 Q153.26 732.575 153.26 725.469 Q153.26 718.339 151.431 714.797 Q149.626 711.233 145.992 711.233 M145.992 707.529 Q151.802 707.529 154.857 712.135 Q157.936 716.719 157.936 725.469 Q157.936 734.195 154.857 738.802 Q151.802 743.385 145.992 743.385 Q140.181 743.385 137.103 738.802 Q134.047 734.195 134.047 725.469 Q134.047 716.719 137.103 712.135 Q140.181 707.529 145.992 707.529 Z\" fill=\"#000000\" fill-rule=\"evenodd\" fill-opacity=\"1\" /><path clip-path=\"url(#clip130)\" d=\"M176.153 711.233 Q172.542 711.233 170.714 714.797 Q168.908 718.339 168.908 725.469 Q168.908 732.575 170.714 736.14 Q172.542 739.681 176.153 739.681 Q179.788 739.681 181.593 736.14 Q183.422 732.575 183.422 725.469 Q183.422 718.339 181.593 714.797 Q179.788 711.233 176.153 711.233 M176.153 707.529 Q181.964 707.529 185.019 712.135 Q188.098 716.719 188.098 725.469 Q188.098 734.195 185.019 738.802 Q181.964 743.385 176.153 743.385 Q170.343 743.385 167.265 738.802 Q164.209 734.195 164.209 725.469 Q164.209 716.719 167.265 712.135 Q170.343 707.529 176.153 707.529 Z\" fill=\"#000000\" fill-rule=\"evenodd\" fill-opacity=\"1\" /><path clip-path=\"url(#clip130)\" d=\"M206.315 711.233 Q202.704 711.233 200.876 714.797 Q199.07 718.339 199.07 725.469 Q199.07 732.575 200.876 736.14 Q202.704 739.681 206.315 739.681 Q209.95 739.681 211.755 736.14 Q213.584 732.575 213.584 725.469 Q213.584 718.339 211.755 714.797 Q209.95 711.233 206.315 711.233 M206.315 707.529 Q212.126 707.529 215.181 712.135 Q218.26 716.719 218.26 725.469 Q218.26 734.195 215.181 738.802 Q212.126 743.385 206.315 743.385 Q200.505 743.385 197.427 738.802 Q194.371 734.195 194.371 725.469 Q194.371 716.719 197.427 712.135 Q200.505 707.529 206.315 707.529 Z\" fill=\"#000000\" fill-rule=\"evenodd\" fill-opacity=\"1\" /><path clip-path=\"url(#clip130)\" d=\"M236.477 711.233 Q232.866 711.233 231.037 714.797 Q229.232 718.339 229.232 725.469 Q229.232 732.575 231.037 736.14 Q232.866 739.681 236.477 739.681 Q240.111 739.681 241.917 736.14 Q243.746 732.575 243.746 725.469 Q243.746 718.339 241.917 714.797 Q240.111 711.233 236.477 711.233 M236.477 707.529 Q242.287 707.529 245.343 712.135 Q248.422 716.719 248.422 725.469 Q248.422 734.195 245.343 738.802 Q242.287 743.385 236.477 743.385 Q230.667 743.385 227.588 738.802 Q224.533 734.195 224.533 725.469 Q224.533 716.719 227.588 712.135 Q230.667 707.529 236.477 707.529 Z\" fill=\"#000000\" fill-rule=\"evenodd\" fill-opacity=\"1\" /><path clip-path=\"url(#clip130)\" d=\"M266.639 711.233 Q263.028 711.233 261.199 714.797 Q259.394 718.339 259.394 725.469 Q259.394 732.575 261.199 736.14 Q263.028 739.681 266.639 739.681 Q270.273 739.681 272.079 736.14 Q273.908 732.575 273.908 725.469 Q273.908 718.339 272.079 714.797 Q270.273 711.233 266.639 711.233 M266.639 707.529 Q272.449 707.529 275.505 712.135 Q278.583 716.719 278.583 725.469 Q278.583 734.195 275.505 738.802 Q272.449 743.385 266.639 743.385 Q260.829 743.385 257.75 738.802 Q254.695 734.195 254.695 725.469 Q254.695 716.719 257.75 712.135 Q260.829 707.529 266.639 707.529 Z\" fill=\"#000000\" fill-rule=\"evenodd\" fill-opacity=\"1\" /><path clip-path=\"url(#clip130)\" d=\"M101.756 388.659 Q98.1447 388.659 96.316 392.223 Q94.5104 395.765 94.5104 402.895 Q94.5104 410.001 96.316 413.566 Q98.1447 417.108 101.756 417.108 Q105.39 417.108 107.196 413.566 Q109.024 410.001 109.024 402.895 Q109.024 395.765 107.196 392.223 Q105.39 388.659 101.756 388.659 M101.756 384.955 Q107.566 384.955 110.621 389.561 Q113.7 394.145 113.7 402.895 Q113.7 411.621 110.621 416.228 Q107.566 420.811 101.756 420.811 Q95.9456 420.811 92.8669 416.228 Q89.8114 411.621 89.8114 402.895 Q89.8114 394.145 92.8669 389.561 Q95.9456 384.955 101.756 384.955 Z\" fill=\"#000000\" fill-rule=\"evenodd\" fill-opacity=\"1\" /><path clip-path=\"url(#clip130)\" d=\"M121.918 414.26 L126.802 414.26 L126.802 420.14 L121.918 420.14 L121.918 414.26 Z\" fill=\"#000000\" fill-rule=\"evenodd\" fill-opacity=\"1\" /><path clip-path=\"url(#clip130)\" d=\"M146.987 388.659 Q143.376 388.659 141.547 392.223 Q139.742 395.765 139.742 402.895 Q139.742 410.001 141.547 413.566 Q143.376 417.108 146.987 417.108 Q150.621 417.108 152.427 413.566 Q154.255 410.001 154.255 402.895 Q154.255 395.765 152.427 392.223 Q150.621 388.659 146.987 388.659 M146.987 384.955 Q152.797 384.955 155.853 389.561 Q158.931 394.145 158.931 402.895 Q158.931 411.621 155.853 416.228 Q152.797 420.811 146.987 420.811 Q141.177 420.811 138.098 416.228 Q135.043 411.621 135.043 402.895 Q135.043 394.145 138.098 389.561 Q141.177 384.955 146.987 384.955 Z\" fill=\"#000000\" fill-rule=\"evenodd\" fill-opacity=\"1\" /><path clip-path=\"url(#clip130)\" d=\"M177.149 388.659 Q173.538 388.659 171.709 392.223 Q169.904 395.765 169.904 402.895 Q169.904 410.001 171.709 413.566 Q173.538 417.108 177.149 417.108 Q180.783 417.108 182.589 413.566 Q184.417 410.001 184.417 402.895 Q184.417 395.765 182.589 392.223 Q180.783 388.659 177.149 388.659 M177.149 384.955 Q182.959 384.955 186.015 389.561 Q189.093 394.145 189.093 402.895 Q189.093 411.621 186.015 416.228 Q182.959 420.811 177.149 420.811 Q171.339 420.811 168.26 416.228 Q165.204 411.621 165.204 402.895 Q165.204 394.145 168.26 389.561 Q171.339 384.955 177.149 384.955 Z\" fill=\"#000000\" fill-rule=\"evenodd\" fill-opacity=\"1\" /><path clip-path=\"url(#clip130)\" d=\"M207.311 388.659 Q203.7 388.659 201.871 392.223 Q200.065 395.765 200.065 402.895 Q200.065 410.001 201.871 413.566 Q203.7 417.108 207.311 417.108 Q210.945 417.108 212.751 413.566 Q214.579 410.001 214.579 402.895 Q214.579 395.765 212.751 392.223 Q210.945 388.659 207.311 388.659 M207.311 384.955 Q213.121 384.955 216.176 389.561 Q219.255 394.145 219.255 402.895 Q219.255 411.621 216.176 416.228 Q213.121 420.811 207.311 420.811 Q201.501 420.811 198.422 416.228 Q195.366 411.621 195.366 402.895 Q195.366 394.145 198.422 389.561 Q201.501 384.955 207.311 384.955 Z\" fill=\"#000000\" fill-rule=\"evenodd\" fill-opacity=\"1\" /><path clip-path=\"url(#clip130)\" d=\"M237.473 388.659 Q233.862 388.659 232.033 392.223 Q230.227 395.765 230.227 402.895 Q230.227 410.001 232.033 413.566 Q233.862 417.108 237.473 417.108 Q241.107 417.108 242.912 413.566 Q244.741 410.001 244.741 402.895 Q244.741 395.765 242.912 392.223 Q241.107 388.659 237.473 388.659 M237.473 384.955 Q243.283 384.955 246.338 389.561 Q249.417 394.145 249.417 402.895 Q249.417 411.621 246.338 416.228 Q243.283 420.811 237.473 420.811 Q231.662 420.811 228.584 416.228 Q225.528 411.621 225.528 402.895 Q225.528 394.145 228.584 389.561 Q231.662 384.955 237.473 384.955 Z\" fill=\"#000000\" fill-rule=\"evenodd\" fill-opacity=\"1\" /><path clip-path=\"url(#clip130)\" d=\"M257.681 385.58 L276.037 385.58 L276.037 389.515 L261.963 389.515 L261.963 397.987 Q262.982 397.64 264 397.478 Q265.019 397.293 266.037 397.293 Q271.824 397.293 275.204 400.464 Q278.583 403.635 278.583 409.052 Q278.583 414.631 275.111 417.733 Q271.639 420.811 265.32 420.811 Q263.144 420.811 260.875 420.441 Q258.63 420.07 256.223 419.33 L256.223 414.631 Q258.306 415.765 260.528 416.32 Q262.75 416.876 265.227 416.876 Q269.232 416.876 271.57 414.77 Q273.908 412.663 273.908 409.052 Q273.908 405.441 271.57 403.334 Q269.232 401.228 265.227 401.228 Q263.352 401.228 261.477 401.645 Q259.625 402.061 257.681 402.941 L257.681 385.58 Z\" fill=\"#000000\" fill-rule=\"evenodd\" fill-opacity=\"1\" /><path clip-path=\"url(#clip130)\" d=\"M1114.5 12.096 L1122.68 12.096 L1122.68 72.576 L1114.5 72.576 L1114.5 12.096 Z\" fill=\"#000000\" fill-rule=\"evenodd\" fill-opacity=\"1\" /><path clip-path=\"url(#clip130)\" d=\"M1176.35 45.1919 L1176.35 72.576 L1168.9 72.576 L1168.9 45.4349 Q1168.9 38.994 1166.39 35.7938 Q1163.88 32.5936 1158.85 32.5936 Q1152.82 32.5936 1149.33 36.4419 Q1145.85 40.2903 1145.85 46.9338 L1145.85 72.576 L1138.36 72.576 L1138.36 27.2059 L1145.85 27.2059 L1145.85 34.2544 Q1148.52 30.163 1152.13 28.1376 Q1155.77 26.1121 1160.51 26.1121 Q1168.33 26.1121 1172.34 30.9732 Q1176.35 35.7938 1176.35 45.1919 Z\" fill=\"#000000\" fill-rule=\"evenodd\" fill-opacity=\"1\" /><path clip-path=\"url(#clip130)\" d=\"M1191.22 27.2059 L1198.67 27.2059 L1198.67 72.576 L1191.22 72.576 L1191.22 27.2059 M1191.22 9.54393 L1198.67 9.54393 L1198.67 18.9825 L1191.22 18.9825 L1191.22 9.54393 Z\" fill=\"#000000\" fill-rule=\"evenodd\" fill-opacity=\"1\" /><path clip-path=\"url(#clip130)\" d=\"M1221.64 14.324 L1221.64 27.2059 L1236.99 27.2059 L1236.99 32.9987 L1221.64 32.9987 L1221.64 57.6282 Q1221.64 63.1779 1223.14 64.7578 Q1224.68 66.3376 1229.34 66.3376 L1236.99 66.3376 L1236.99 72.576 L1229.34 72.576 Q1220.71 72.576 1217.43 69.3758 Q1214.15 66.1351 1214.15 57.6282 L1214.15 32.9987 L1208.68 32.9987 L1208.68 27.2059 L1214.15 27.2059 L1214.15 14.324 L1221.64 14.324 Z\" fill=\"#000000\" fill-rule=\"evenodd\" fill-opacity=\"1\" /><path clip-path=\"url(#clip130)\" d=\"M1246.8 27.2059 L1254.25 27.2059 L1254.25 72.576 L1246.8 72.576 L1246.8 27.2059 M1246.8 9.54393 L1254.25 9.54393 L1254.25 18.9825 L1246.8 18.9825 L1246.8 9.54393 Z\" fill=\"#000000\" fill-rule=\"evenodd\" fill-opacity=\"1\" /><path clip-path=\"url(#clip130)\" d=\"M1290.47 49.7694 Q1281.43 49.7694 1277.95 51.8354 Q1274.47 53.9013 1274.47 58.8839 Q1274.47 62.8538 1277.06 65.2034 Q1279.69 67.5124 1284.19 67.5124 Q1290.39 67.5124 1294.11 63.1374 Q1297.88 58.7219 1297.88 51.4303 L1297.88 49.7694 L1290.47 49.7694 M1305.33 46.6907 L1305.33 72.576 L1297.88 72.576 L1297.88 65.6895 Q1295.33 69.8214 1291.52 71.8063 Q1287.71 73.7508 1282.2 73.7508 Q1275.24 73.7508 1271.1 69.8619 Q1267.01 65.9325 1267.01 59.3701 Q1267.01 51.7138 1272.12 47.825 Q1277.26 43.9361 1287.43 43.9361 L1297.88 43.9361 L1297.88 43.2069 Q1297.88 38.0623 1294.48 35.2672 Q1291.11 32.4315 1285 32.4315 Q1281.11 32.4315 1277.42 33.3632 Q1273.74 34.295 1270.33 36.1584 L1270.33 29.2718 Q1274.43 27.692 1278.27 26.9223 Q1282.12 26.1121 1285.77 26.1121 Q1295.61 26.1121 1300.47 31.2163 Q1305.33 36.3204 1305.33 46.6907 Z\" fill=\"#000000\" fill-rule=\"evenodd\" fill-opacity=\"1\" /><path clip-path=\"url(#clip130)\" d=\"M1320.69 9.54393 L1328.14 9.54393 L1328.14 72.576 L1320.69 72.576 L1320.69 9.54393 Z\" fill=\"#000000\" fill-rule=\"evenodd\" fill-opacity=\"1\" /><path clip-path=\"url(#clip130)\" d=\"M1378.61 18.8205 L1378.61 65.8515 L1388.5 65.8515 Q1401.02 65.8515 1406.81 60.1802 Q1412.64 54.509 1412.64 42.2752 Q1412.64 30.1225 1406.81 24.4918 Q1401.02 18.8205 1388.5 18.8205 L1378.61 18.8205 M1370.43 12.096 L1387.24 12.096 Q1404.82 12.096 1413.05 19.4281 Q1421.27 26.7198 1421.27 42.2752 Q1421.27 57.9117 1413.01 65.2439 Q1404.74 72.576 1387.24 72.576 L1370.43 72.576 L1370.43 12.096 Z\" fill=\"#000000\" fill-rule=\"evenodd\" fill-opacity=\"1\" /><path clip-path=\"url(#clip130)\" d=\"M1454.61 49.7694 Q1445.58 49.7694 1442.09 51.8354 Q1438.61 53.9013 1438.61 58.8839 Q1438.61 62.8538 1441.2 65.2034 Q1443.83 67.5124 1448.33 67.5124 Q1454.53 67.5124 1458.26 63.1374 Q1462.02 58.7219 1462.02 51.4303 L1462.02 49.7694 L1454.61 49.7694 M1469.48 46.6907 L1469.48 72.576 L1462.02 72.576 L1462.02 65.6895 Q1459.47 69.8214 1455.66 71.8063 Q1451.85 73.7508 1446.35 73.7508 Q1439.38 73.7508 1435.25 69.8619 Q1431.15 65.9325 1431.15 59.3701 Q1431.15 51.7138 1436.26 47.825 Q1441.4 43.9361 1451.57 43.9361 L1462.02 43.9361 L1462.02 43.2069 Q1462.02 38.0623 1458.62 35.2672 Q1455.26 32.4315 1449.14 32.4315 Q1445.25 32.4315 1441.57 33.3632 Q1437.88 34.295 1434.48 36.1584 L1434.48 29.2718 Q1438.57 27.692 1442.42 26.9223 Q1446.26 26.1121 1449.91 26.1121 Q1459.75 26.1121 1464.62 31.2163 Q1469.48 36.3204 1469.48 46.6907 Z\" fill=\"#000000\" fill-rule=\"evenodd\" fill-opacity=\"1\" /><path clip-path=\"url(#clip130)\" d=\"M1492.2 14.324 L1492.2 27.2059 L1507.55 27.2059 L1507.55 32.9987 L1492.2 32.9987 L1492.2 57.6282 Q1492.2 63.1779 1493.7 64.7578 Q1495.24 66.3376 1499.9 66.3376 L1507.55 66.3376 L1507.55 72.576 L1499.9 72.576 Q1491.27 72.576 1487.99 69.3758 Q1484.71 66.1351 1484.71 57.6282 L1484.71 32.9987 L1479.24 32.9987 L1479.24 27.2059 L1484.71 27.2059 L1484.71 14.324 L1492.2 14.324 Z\" fill=\"#000000\" fill-rule=\"evenodd\" fill-opacity=\"1\" /><path clip-path=\"url(#clip130)\" d=\"M1537.98 49.7694 Q1528.94 49.7694 1525.46 51.8354 Q1521.98 53.9013 1521.98 58.8839 Q1521.98 62.8538 1524.57 65.2034 Q1527.2 67.5124 1531.7 67.5124 Q1537.9 67.5124 1541.62 63.1374 Q1545.39 58.7219 1545.39 51.4303 L1545.39 49.7694 L1537.98 49.7694 M1552.84 46.6907 L1552.84 72.576 L1545.39 72.576 L1545.39 65.6895 Q1542.84 69.8214 1539.03 71.8063 Q1535.22 73.7508 1529.71 73.7508 Q1522.75 73.7508 1518.61 69.8619 Q1514.52 65.9325 1514.52 59.3701 Q1514.52 51.7138 1519.63 47.825 Q1524.77 43.9361 1534.94 43.9361 L1545.39 43.9361 L1545.39 43.2069 Q1545.39 38.0623 1541.99 35.2672 Q1538.63 32.4315 1532.51 32.4315 Q1528.62 32.4315 1524.93 33.3632 Q1521.25 34.295 1517.84 36.1584 L1517.84 29.2718 Q1521.94 27.692 1525.78 26.9223 Q1529.63 26.1121 1533.28 26.1121 Q1543.12 26.1121 1547.98 31.2163 Q1552.84 36.3204 1552.84 46.6907 Z\" fill=\"#000000\" fill-rule=\"evenodd\" fill-opacity=\"1\" /><polyline clip-path=\"url(#clip132)\" style=\"stroke:#009af9; stroke-linecap:round; stroke-linejoin:round; stroke-width:4; stroke-opacity:1; fill:none\" points=\"372.268,725.434 381.882,725.434 391.496,725.434 401.11,725.434 410.724,725.434 420.338,725.434 429.952,725.434 439.566,725.434 449.18,725.434 458.794,725.434 468.408,725.434 478.022,725.434 487.636,725.434 497.25,725.434 506.864,725.434 516.478,725.434 526.092,725.434 535.706,725.434 545.32,725.434 554.934,725.434 564.548,725.433 574.162,725.433 583.776,725.433 593.39,725.433 603.004,725.433 612.618,725.433 622.232,725.433 631.846,725.432 641.46,725.432 651.074,725.432 660.688,725.432 670.302,725.431 679.916,725.431 689.53,725.431 699.144,725.431 708.758,725.43 718.372,725.43 727.986,725.43 737.6,725.43 747.214,725.429 756.828,725.429 766.442,725.429 776.056,725.429 785.671,725.429 795.285,725.429 804.899,725.429 814.513,725.429 824.127,725.429 833.741,725.429 843.355,725.429 852.969,725.429 862.583,725.429 872.197,725.428 881.811,725.428 891.425,725.428 901.039,725.427 910.653,725.427 920.267,725.426 929.881,725.425 939.495,725.425 949.109,725.424 958.723,725.422 968.337,725.421 977.951,725.42 987.565,725.418 997.179,725.417 1006.79,725.415 1016.41,725.413 1026.02,725.412 1035.64,725.41 1045.25,725.409 1054.86,725.407 1064.48,725.406 1074.09,725.404 1083.71,725.403 1093.32,725.402 1102.93,725.401 1112.55,725.4 1122.16,725.4 1131.78,725.399 1141.39,725.399 1151,725.398 1160.62,725.398 1170.23,725.397 1179.85,725.397 1189.46,725.397 1199.07,725.397 1208.69,725.397 1218.3,725.397 1227.92,725.397 1237.53,725.397 1247.14,725.397 1256.76,725.397 1266.37,725.397 1275.99,725.397 1285.6,725.397 1295.21,725.397 1304.83,725.397 1314.44,725.397 1324.06,725.397 1333.67,725.397 1343.28,725.397 1352.9,725.397 1362.51,725.397 1372.13,725.397 1381.74,725.397 1391.35,725.397 1400.97,725.397 1410.58,725.397 1420.2,725.397 1429.81,725.397 1439.42,725.397 1449.04,725.397 1458.65,725.397 1468.27,725.397 1477.88,725.397 1487.49,725.397 1497.11,725.397 1506.72,725.397 1516.34,725.397 1525.95,725.397 1535.56,725.397 1545.18,725.397 1554.79,725.397 1564.41,725.397 1574.02,725.397 1583.63,725.397 1593.25,725.397 1602.86,725.397 1612.48,725.397 1622.09,725.397 1631.7,725.397 1641.32,725.397 1650.93,725.397 1660.55,725.397 1670.16,725.397 1679.77,725.397 1689.39,725.397 1699,725.397 1708.62,725.397 1718.23,725.397 1727.84,725.397 1737.46,725.397 1747.07,725.397 1756.69,725.397 1766.3,725.397 1775.91,725.397 1785.53,725.397 1795.14,725.397 1804.76,725.397 1814.37,725.397 1823.98,725.397 1833.6,725.397 1843.21,725.397 1852.83,725.397 1862.44,725.397 1872.05,725.397 1881.67,725.397 1891.28,725.397 1900.9,725.397 1910.51,725.397 1920.12,725.397 1929.74,725.397 1939.35,725.397 1948.97,725.397 1958.58,725.397 1968.2,725.397 1977.81,725.397 1987.42,725.397 1997.04,725.397 2006.65,725.397 2016.27,725.397 2025.88,725.397 2035.49,725.397 2045.11,725.397 2054.72,725.397 2064.34,725.397 2073.95,725.397 2083.56,725.397 2093.18,725.397 2102.79,725.397 2112.41,725.397 2122.02,725.397 2131.63,725.397 2141.25,725.397 2150.86,725.397 2160.48,725.397 2170.09,725.397 2179.7,725.397 2189.32,725.397 2198.93,725.397 2208.55,725.397 2218.16,725.397 2227.77,725.397 2237.39,725.397 2247,725.397 2256.62,725.397 2266.23,725.397 2275.84,725.397 2285.46,725.397 2295.07,725.397 \"/>\n",
       "<polyline clip-path=\"url(#clip132)\" style=\"stroke:#e26f46; stroke-linecap:round; stroke-linejoin:round; stroke-width:4; stroke-opacity:1; fill:none\" points=\"372.268,725.434 381.882,725.434 391.496,725.434 401.11,725.434 410.724,725.434 420.338,725.434 429.952,725.434 439.566,725.434 449.18,725.434 458.794,725.434 468.408,725.434 478.022,725.433 487.636,725.433 497.25,725.433 506.864,725.433 516.478,725.432 526.092,725.432 535.706,725.431 545.32,725.431 554.934,725.43 564.548,725.429 574.162,725.428 583.776,725.427 593.39,725.426 603.004,725.425 612.618,725.424 622.232,725.423 631.846,725.421 641.46,725.42 651.074,725.418 660.688,725.417 670.302,725.415 679.916,725.414 689.53,725.412 699.144,725.411 708.758,725.41 718.372,725.408 727.986,725.407 737.6,725.406 747.214,725.406 756.828,725.405 766.442,725.404 776.056,725.404 785.671,725.404 795.285,725.403 804.899,725.403 814.513,725.403 824.127,725.403 833.741,725.403 843.355,725.403 852.969,725.403 862.583,725.403 872.197,725.402 881.811,725.402 891.425,725.401 901.039,725.4 910.653,725.398 920.267,725.397 929.881,725.395 939.495,725.393 949.109,725.39 958.723,725.387 968.337,725.384 977.951,725.381 987.565,725.378 997.179,725.375 1006.79,725.371 1016.41,725.368 1026.02,725.365 1035.64,725.362 1045.25,725.359 1054.86,725.356 1064.48,725.354 1074.09,725.352 1083.71,725.349 1093.32,725.348 1102.93,725.346 1112.55,725.345 1122.16,725.344 1131.78,725.343 1141.39,725.342 1151,725.341 1160.62,725.341 1170.23,725.34 1179.85,725.34 1189.46,725.34 1199.07,725.34 1208.69,725.34 1218.3,725.34 1227.92,725.34 1237.53,725.34 1247.14,725.339 1256.76,725.339 1266.37,725.339 1275.99,725.339 1285.6,725.339 1295.21,725.339 1304.83,725.339 1314.44,725.339 1324.06,725.339 1333.67,725.339 1343.28,725.339 1352.9,725.339 1362.51,725.339 1372.13,725.339 1381.74,725.339 1391.35,725.339 1400.97,725.339 1410.58,725.339 1420.2,725.339 1429.81,725.339 1439.42,725.339 1449.04,725.339 1458.65,725.339 1468.27,725.339 1477.88,725.339 1487.49,725.339 1497.11,725.339 1506.72,725.339 1516.34,725.339 1525.95,725.339 1535.56,725.339 1545.18,725.339 1554.79,725.339 1564.41,725.339 1574.02,725.339 1583.63,725.339 1593.25,725.339 1602.86,725.339 1612.48,725.339 1622.09,725.339 1631.7,725.339 1641.32,725.339 1650.93,725.339 1660.55,725.339 1670.16,725.339 1679.77,725.339 1689.39,725.339 1699,725.339 1708.62,725.339 1718.23,725.339 1727.84,725.339 1737.46,725.339 1747.07,725.339 1756.69,725.339 1766.3,725.339 1775.91,725.339 1785.53,725.339 1795.14,725.339 1804.76,725.339 1814.37,725.339 1823.98,725.339 1833.6,725.339 1843.21,725.339 1852.83,725.339 1862.44,725.339 1872.05,725.339 1881.67,725.339 1891.28,725.339 1900.9,725.339 1910.51,725.339 1920.12,725.339 1929.74,725.339 1939.35,725.339 1948.97,725.339 1958.58,725.339 1968.2,725.339 1977.81,725.339 1987.42,725.339 1997.04,725.339 2006.65,725.339 2016.27,725.339 2025.88,725.339 2035.49,725.339 2045.11,725.339 2054.72,725.339 2064.34,725.339 2073.95,725.339 2083.56,725.339 2093.18,725.339 2102.79,725.339 2112.41,725.339 2122.02,725.339 2131.63,725.339 2141.25,725.339 2150.86,725.339 2160.48,725.339 2170.09,725.339 2179.7,725.339 2189.32,725.339 2198.93,725.339 2208.55,725.339 2218.16,725.339 2227.77,725.339 2237.39,725.339 2247,725.339 2256.62,725.339 2266.23,725.339 2275.84,725.339 2285.46,725.339 2295.07,725.339 \"/>\n",
       "<polyline clip-path=\"url(#clip132)\" style=\"stroke:#3da44d; stroke-linecap:round; stroke-linejoin:round; stroke-width:4; stroke-opacity:1; fill:none\" points=\"372.268,725.434 381.882,725.433 391.496,725.427 401.11,725.411 410.724,725.379 420.338,725.325 429.952,725.244 439.566,725.128 449.18,724.972 458.794,724.769 468.408,724.512 478.022,724.194 487.636,723.809 497.25,723.35 506.864,722.81 516.478,722.183 526.092,721.462 535.706,720.642 545.32,719.717 554.934,718.683 564.548,717.534 574.162,716.268 583.776,714.88 593.39,713.37 603.004,711.734 612.618,709.975 622.232,708.091 631.846,706.085 641.46,703.961 651.074,701.722 660.688,699.375 670.302,696.928 679.916,694.388 689.53,691.766 699.144,689.074 708.758,686.325 718.372,683.533 727.986,680.715 737.6,677.888 747.214,675.07 756.828,672.28 766.442,669.54 776.056,666.87 785.671,664.292 795.285,661.828 804.899,659.5 814.513,657.33 824.127,655.339 833.741,653.55 843.355,651.98 852.969,650.648 862.583,649.572 872.197,648.766 881.811,648.242 891.425,648.01 901.039,648.078 910.653,648.449 920.267,649.125 929.881,650.104 939.495,651.379 949.109,652.941 958.723,654.779 968.337,656.876 977.951,659.214 987.565,661.77 997.179,664.52 1006.79,667.438 1016.41,670.495 1026.02,673.661 1035.64,676.905 1045.25,680.196 1054.86,683.503 1064.48,686.796 1074.09,690.045 1083.71,693.222 1093.32,696.303 1102.93,699.264 1112.55,702.085 1122.16,704.751 1131.78,707.247 1141.39,709.564 1151,711.695 1160.62,713.637 1170.23,715.39 1179.85,716.959 1189.46,718.347 1199.07,719.565 1208.69,720.621 1218.3,721.527 1227.92,722.297 1237.53,722.943 1247.14,723.478 1256.76,723.917 1266.37,724.272 1275.99,724.556 1285.6,724.779 1295.21,724.953 1304.83,725.085 1314.44,725.185 1324.06,725.26 1333.67,725.314 1343.28,725.352 1352.9,725.38 1362.51,725.398 1372.13,725.411 1381.74,725.42 1391.35,725.425 1400.97,725.429 1410.58,725.431 1420.2,725.432 1429.81,725.433 1439.42,725.433 1449.04,725.434 1458.65,725.434 1468.27,725.434 1477.88,725.434 1487.49,725.434 1497.11,725.434 1506.72,725.434 1516.34,725.434 1525.95,725.434 1535.56,725.434 1545.18,725.434 1554.79,725.434 1564.41,725.434 1574.02,725.434 1583.63,725.434 1593.25,725.434 1602.86,725.434 1612.48,725.434 1622.09,725.434 1631.7,725.434 1641.32,725.434 1650.93,725.434 1660.55,725.434 1670.16,725.434 1679.77,725.434 1689.39,725.434 1699,725.434 1708.62,725.434 1718.23,725.434 1727.84,725.434 1737.46,725.434 1747.07,725.434 1756.69,725.434 1766.3,725.434 1775.91,725.434 1785.53,725.434 1795.14,725.434 1804.76,725.434 1814.37,725.434 1823.98,725.434 1833.6,725.434 1843.21,725.434 1852.83,725.434 1862.44,725.434 1872.05,725.434 1881.67,725.434 1891.28,725.434 1900.9,725.434 1910.51,725.434 1920.12,725.434 1929.74,725.434 1939.35,725.434 1948.97,725.434 1958.58,725.434 1968.2,725.434 1977.81,725.434 1987.42,725.434 1997.04,725.434 2006.65,725.434 2016.27,725.434 2025.88,725.434 2035.49,725.434 2045.11,725.434 2054.72,725.434 2064.34,725.434 2073.95,725.434 2083.56,725.434 2093.18,725.434 2102.79,725.434 2112.41,725.434 2122.02,725.434 2131.63,725.434 2141.25,725.434 2150.86,725.434 2160.48,725.434 2170.09,725.434 2179.7,725.434 2189.32,725.434 2198.93,725.434 2208.55,725.434 2218.16,725.434 2227.77,725.434 2237.39,725.434 2247,725.434 2256.62,725.434 2266.23,725.434 2275.84,725.434 2285.46,725.434 2295.07,725.434 \"/>\n",
       "<polyline clip-path=\"url(#clip132)\" style=\"stroke:#c271d2; stroke-linecap:round; stroke-linejoin:round; stroke-width:4; stroke-opacity:1; fill:none\" points=\"372.268,725.434 381.882,724.94 391.496,723.419 401.11,720.812 410.724,717.064 420.338,712.124 429.952,705.947 439.566,698.494 449.18,689.73 458.794,679.632 468.408,668.184 478.022,655.378 487.636,641.218 497.25,625.722 506.864,608.917 516.478,590.846 526.092,571.565 535.706,551.146 545.32,529.678 554.934,507.266 564.548,484.031 574.162,460.113 583.776,435.669 593.39,410.874 603.004,385.921 612.618,361.021 622.232,336.398 631.846,312.295 641.46,288.966 651.074,266.681 660.688,245.717 670.302,226.361 679.916,208.904 689.53,193.642 699.144,180.868 708.758,170.869 718.372,163.926 727.986,160.305 737.6,160.256 747.214,164.006 756.828,171.753 766.442,183.665 776.056,199.873 785.671,220.465 795.285,245.483 804.899,274.919 814.513,308.712 824.127,346.741 833.741,388.828 843.355,434.731 852.969,484.151 862.583,536.723 872.197,592.024 881.811,649.577 891.425,708.849 901.039,769.262 910.653,830.199 920.267,891.01 929.881,951.026 939.495,1009.56 949.109,1065.94 958.723,1119.49 968.337,1169.56 977.951,1215.56 987.565,1256.93 997.179,1293.17 1006.79,1323.89 1016.41,1348.74 1026.02,1367.49 1035.64,1380.02 1045.25,1386.3 1054.86,1386.4 1064.48,1380.51 1074.09,1368.93 1083.71,1352.04 1093.32,1330.33 1102.93,1304.33 1112.55,1274.66 1122.16,1241.98 1131.78,1206.98 1141.39,1170.35 1151,1132.78 1160.62,1094.94 1170.23,1057.45 1179.85,1020.88 1189.46,985.73 1199.07,952.421 1208.69,921.296 1218.3,892.608 1227.92,866.527 1237.53,843.139 1247.14,822.454 1256.76,804.413 1266.37,788.901 1275.99,775.756 1285.6,764.782 1295.21,755.758 1304.83,748.454 1314.44,742.637 1324.06,738.082 1333.67,734.575 1343.28,731.924 1352.9,729.957 1362.51,728.526 1372.13,727.505 1381.74,726.792 1391.35,726.305 1400.97,725.98 1410.58,725.768 1420.2,725.633 1429.81,725.549 1439.42,725.499 1449.04,725.47 1458.65,725.453 1468.27,725.444 1477.88,725.439 1487.49,725.436 1497.11,725.435 1506.72,725.434 1516.34,725.434 1525.95,725.434 1535.56,725.434 1545.18,725.434 1554.79,725.434 1564.41,725.434 1574.02,725.434 1583.63,725.434 1593.25,725.434 1602.86,725.434 1612.48,725.434 1622.09,725.434 1631.7,725.434 1641.32,725.434 1650.93,725.434 1660.55,725.434 1670.16,725.434 1679.77,725.434 1689.39,725.434 1699,725.434 1708.62,725.434 1718.23,725.434 1727.84,725.434 1737.46,725.434 1747.07,725.434 1756.69,725.434 1766.3,725.434 1775.91,725.434 1785.53,725.434 1795.14,725.434 1804.76,725.434 1814.37,725.434 1823.98,725.434 1833.6,725.434 1843.21,725.434 1852.83,725.434 1862.44,725.434 1872.05,725.434 1881.67,725.434 1891.28,725.434 1900.9,725.434 1910.51,725.434 1920.12,725.434 1929.74,725.434 1939.35,725.434 1948.97,725.434 1958.58,725.434 1968.2,725.434 1977.81,725.434 1987.42,725.434 1997.04,725.434 2006.65,725.434 2016.27,725.434 2025.88,725.434 2035.49,725.434 2045.11,725.434 2054.72,725.434 2064.34,725.434 2073.95,725.434 2083.56,725.434 2093.18,725.434 2102.79,725.434 2112.41,725.434 2122.02,725.434 2131.63,725.434 2141.25,725.434 2150.86,725.434 2160.48,725.434 2170.09,725.434 2179.7,725.434 2189.32,725.434 2198.93,725.434 2208.55,725.434 2218.16,725.434 2227.77,725.434 2237.39,725.434 2247,725.434 2256.62,725.434 2266.23,725.434 2275.84,725.434 2285.46,725.434 2295.07,725.434 \"/>\n",
       "<path clip-path=\"url(#clip130)\" d=\"M1975.77 425.996 L2284.82 425.996 L2284.82 166.796 L1975.77 166.796  Z\" fill=\"#ffffff\" fill-rule=\"evenodd\" fill-opacity=\"1\"/>\n",
       "<polyline clip-path=\"url(#clip130)\" style=\"stroke:#000000; stroke-linecap:round; stroke-linejoin:round; stroke-width:4; stroke-opacity:1; fill:none\" points=\"1975.77,425.996 2284.82,425.996 2284.82,166.796 1975.77,166.796 1975.77,425.996 \"/>\n",
       "<polyline clip-path=\"url(#clip130)\" style=\"stroke:#009af9; stroke-linecap:round; stroke-linejoin:round; stroke-width:4; stroke-opacity:1; fill:none\" points=\"1998.42,218.636 2134.29,218.636 \"/>\n",
       "<path clip-path=\"url(#clip130)\" d=\"M2177.29 214.967 Q2178.88 212.096 2181.11 210.731 Q2183.33 209.365 2186.34 209.365 Q2190.39 209.365 2192.59 212.212 Q2194.79 215.036 2194.79 220.268 L2194.79 235.916 L2190.5 235.916 L2190.5 220.407 Q2190.5 216.68 2189.18 214.874 Q2187.87 213.069 2185.16 213.069 Q2181.85 213.069 2179.93 215.268 Q2178 217.467 2178 221.263 L2178 235.916 L2173.72 235.916 L2173.72 220.407 Q2173.72 216.657 2172.4 214.874 Q2171.08 213.069 2168.33 213.069 Q2165.06 213.069 2163.14 215.291 Q2161.22 217.49 2161.22 221.263 L2161.22 235.916 L2156.94 235.916 L2156.94 209.99 L2161.22 209.99 L2161.22 214.018 Q2162.68 211.633 2164.72 210.499 Q2166.75 209.365 2169.56 209.365 Q2172.38 209.365 2174.35 210.8 Q2176.34 212.235 2177.29 214.967 Z\" fill=\"#000000\" fill-rule=\"evenodd\" fill-opacity=\"1\" /><polyline clip-path=\"url(#clip130)\" style=\"stroke:#e26f46; stroke-linecap:round; stroke-linejoin:round; stroke-width:4; stroke-opacity:1; fill:none\" points=\"1998.42,270.476 2134.29,270.476 \"/>\n",
       "<path clip-path=\"url(#clip130)\" d=\"M2175.71 274.816 Q2175.71 270.117 2173.77 267.455 Q2171.85 264.77 2168.47 264.77 Q2165.09 264.77 2163.14 267.455 Q2161.22 270.117 2161.22 274.816 Q2161.22 279.515 2163.14 282.2 Q2165.09 284.862 2168.47 284.862 Q2171.85 284.862 2173.77 282.2 Q2175.71 279.515 2175.71 274.816 M2161.22 265.765 Q2162.56 263.45 2164.6 262.339 Q2166.66 261.205 2169.51 261.205 Q2174.23 261.205 2177.17 264.955 Q2180.13 268.705 2180.13 274.816 Q2180.13 280.927 2177.17 284.677 Q2174.23 288.427 2169.51 288.427 Q2166.66 288.427 2164.6 287.316 Q2162.56 286.182 2161.22 283.867 L2161.22 287.756 L2156.94 287.756 L2156.94 251.737 L2161.22 251.737 L2161.22 265.765 Z\" fill=\"#000000\" fill-rule=\"evenodd\" fill-opacity=\"1\" /><path clip-path=\"url(#clip130)\" d=\"M2209.37 273.728 L2209.37 275.811 L2189.79 275.811 Q2190.06 280.209 2192.43 282.524 Q2194.81 284.816 2199.05 284.816 Q2201.5 284.816 2203.79 284.214 Q2206.11 283.612 2208.37 282.409 L2208.37 286.436 Q2206.08 287.408 2203.68 287.918 Q2201.27 288.427 2198.79 288.427 Q2192.59 288.427 2188.95 284.816 Q2185.34 281.205 2185.34 275.047 Q2185.34 268.682 2188.77 264.955 Q2192.22 261.205 2198.05 261.205 Q2203.28 261.205 2206.31 264.585 Q2209.37 267.941 2209.37 273.728 M2205.11 272.478 Q2205.06 268.983 2203.14 266.899 Q2201.24 264.816 2198.1 264.816 Q2194.53 264.816 2192.38 266.83 Q2190.25 268.844 2189.93 272.501 L2205.11 272.478 Z\" fill=\"#000000\" fill-rule=\"evenodd\" fill-opacity=\"1\" /><path clip-path=\"url(#clip130)\" d=\"M2220.57 254.469 L2220.57 261.83 L2229.35 261.83 L2229.35 265.14 L2220.57 265.14 L2220.57 279.214 Q2220.57 282.385 2221.43 283.288 Q2222.31 284.191 2224.97 284.191 L2229.35 284.191 L2229.35 287.756 L2224.97 287.756 Q2220.04 287.756 2218.17 285.927 Q2216.29 284.075 2216.29 279.214 L2216.29 265.14 L2213.17 265.14 L2213.17 261.83 L2216.29 261.83 L2216.29 254.469 L2220.57 254.469 Z\" fill=\"#000000\" fill-rule=\"evenodd\" fill-opacity=\"1\" /><path clip-path=\"url(#clip130)\" d=\"M2246.73 274.723 Q2241.57 274.723 2239.58 275.904 Q2237.59 277.084 2237.59 279.932 Q2237.59 282.2 2239.07 283.543 Q2240.57 284.862 2243.14 284.862 Q2246.68 284.862 2248.81 282.362 Q2250.97 279.839 2250.97 275.672 L2250.97 274.723 L2246.73 274.723 M2255.23 272.964 L2255.23 287.756 L2250.97 287.756 L2250.97 283.821 Q2249.51 286.182 2247.33 287.316 Q2245.16 288.427 2242.01 288.427 Q2238.03 288.427 2235.67 286.205 Q2233.33 283.959 2233.33 280.209 Q2233.33 275.834 2236.24 273.612 Q2239.18 271.39 2244.99 271.39 L2250.97 271.39 L2250.97 270.973 Q2250.97 268.034 2249.02 266.436 Q2247.1 264.816 2243.61 264.816 Q2241.38 264.816 2239.28 265.348 Q2237.17 265.881 2235.23 266.946 L2235.23 263.01 Q2237.56 262.108 2239.76 261.668 Q2241.96 261.205 2244.05 261.205 Q2249.67 261.205 2252.45 264.122 Q2255.23 267.038 2255.23 272.964 Z\" fill=\"#000000\" fill-rule=\"evenodd\" fill-opacity=\"1\" /><polyline clip-path=\"url(#clip130)\" style=\"stroke:#3da44d; stroke-linecap:round; stroke-linejoin:round; stroke-width:4; stroke-opacity:1; fill:none\" points=\"1998.42,322.316 2134.29,322.316 \"/>\n",
       "<path clip-path=\"url(#clip130)\" d=\"M2161.22 335.707 L2161.22 349.457 L2156.94 349.457 L2156.94 313.67 L2161.22 313.67 L2161.22 317.605 Q2162.56 315.29 2164.6 314.179 Q2166.66 313.045 2169.51 313.045 Q2174.23 313.045 2177.17 316.795 Q2180.13 320.545 2180.13 326.656 Q2180.13 332.767 2177.17 336.517 Q2174.23 340.267 2169.51 340.267 Q2166.66 340.267 2164.6 339.156 Q2162.56 338.022 2161.22 335.707 M2175.71 326.656 Q2175.71 321.957 2173.77 319.295 Q2171.85 316.61 2168.47 316.61 Q2165.09 316.61 2163.14 319.295 Q2161.22 321.957 2161.22 326.656 Q2161.22 331.355 2163.14 334.04 Q2165.09 336.702 2168.47 336.702 Q2171.85 336.702 2173.77 334.04 Q2175.71 331.355 2175.71 326.656 Z\" fill=\"#000000\" fill-rule=\"evenodd\" fill-opacity=\"1\" /><path clip-path=\"url(#clip130)\" d=\"M2203.72 314.434 L2203.72 318.462 Q2201.92 317.536 2199.97 317.073 Q2198.03 316.61 2195.94 316.61 Q2192.77 316.61 2191.18 317.582 Q2189.6 318.554 2189.6 320.499 Q2189.6 321.98 2190.74 322.837 Q2191.87 323.67 2195.3 324.434 L2196.75 324.758 Q2201.29 325.73 2203.19 327.512 Q2205.11 329.272 2205.11 332.443 Q2205.11 336.054 2202.24 338.161 Q2199.39 340.267 2194.39 340.267 Q2192.31 340.267 2190.04 339.85 Q2187.8 339.457 2185.3 338.647 L2185.3 334.249 Q2187.66 335.475 2189.95 336.1 Q2192.24 336.702 2194.49 336.702 Q2197.49 336.702 2199.12 335.684 Q2200.74 334.642 2200.74 332.767 Q2200.74 331.031 2199.56 330.105 Q2198.4 329.179 2194.44 328.323 L2192.96 327.975 Q2189 327.142 2187.24 325.429 Q2185.48 323.693 2185.48 320.684 Q2185.48 317.026 2188.07 315.036 Q2190.67 313.045 2195.43 313.045 Q2197.8 313.045 2199.88 313.392 Q2201.96 313.739 2203.72 314.434 Z\" fill=\"#000000\" fill-rule=\"evenodd\" fill-opacity=\"1\" /><path clip-path=\"url(#clip130)\" d=\"M2211.89 313.67 L2216.15 313.67 L2216.15 339.596 L2211.89 339.596 L2211.89 313.67 M2211.89 303.577 L2216.15 303.577 L2216.15 308.971 L2211.89 308.971 L2211.89 303.577 Z\" fill=\"#000000\" fill-rule=\"evenodd\" fill-opacity=\"1\" /><polyline clip-path=\"url(#clip130)\" style=\"stroke:#c271d2; stroke-linecap:round; stroke-linejoin:round; stroke-width:4; stroke-opacity:1; fill:none\" points=\"1998.42,374.156 2134.29,374.156 \"/>\n",
       "<path clip-path=\"url(#clip130)\" d=\"M2161.22 387.547 L2161.22 401.297 L2156.94 401.297 L2156.94 365.51 L2161.22 365.51 L2161.22 369.445 Q2162.56 367.13 2164.6 366.019 Q2166.66 364.885 2169.51 364.885 Q2174.23 364.885 2177.17 368.635 Q2180.13 372.385 2180.13 378.496 Q2180.13 384.607 2177.17 388.357 Q2174.23 392.107 2169.51 392.107 Q2166.66 392.107 2164.6 390.996 Q2162.56 389.862 2161.22 387.547 M2175.71 378.496 Q2175.71 373.797 2173.77 371.135 Q2171.85 368.45 2168.47 368.45 Q2165.09 368.45 2163.14 371.135 Q2161.22 373.797 2161.22 378.496 Q2161.22 383.195 2163.14 385.88 Q2165.09 388.542 2168.47 388.542 Q2171.85 388.542 2173.77 385.88 Q2175.71 383.195 2175.71 378.496 Z\" fill=\"#000000\" fill-rule=\"evenodd\" fill-opacity=\"1\" /><path clip-path=\"url(#clip130)\" d=\"M2203.72 366.274 L2203.72 370.302 Q2201.92 369.376 2199.97 368.913 Q2198.03 368.45 2195.94 368.45 Q2192.77 368.45 2191.18 369.422 Q2189.6 370.394 2189.6 372.339 Q2189.6 373.82 2190.74 374.677 Q2191.87 375.51 2195.3 376.274 L2196.75 376.598 Q2201.29 377.57 2203.19 379.352 Q2205.11 381.112 2205.11 384.283 Q2205.11 387.894 2202.24 390.001 Q2199.39 392.107 2194.39 392.107 Q2192.31 392.107 2190.04 391.69 Q2187.8 391.297 2185.3 390.487 L2185.3 386.089 Q2187.66 387.315 2189.95 387.94 Q2192.24 388.542 2194.49 388.542 Q2197.49 388.542 2199.12 387.524 Q2200.74 386.482 2200.74 384.607 Q2200.74 382.871 2199.56 381.945 Q2198.4 381.019 2194.44 380.163 L2192.96 379.815 Q2189 378.982 2187.24 377.269 Q2185.48 375.533 2185.48 372.524 Q2185.48 368.866 2188.07 366.876 Q2190.67 364.885 2195.43 364.885 Q2197.8 364.885 2199.88 365.232 Q2201.96 365.579 2203.72 366.274 Z\" fill=\"#000000\" fill-rule=\"evenodd\" fill-opacity=\"1\" /><path clip-path=\"url(#clip130)\" d=\"M2211.89 365.51 L2216.15 365.51 L2216.15 391.436 L2211.89 391.436 L2211.89 365.51 M2211.89 355.417 L2216.15 355.417 L2216.15 360.811 L2211.89 360.811 L2211.89 355.417 Z\" fill=\"#000000\" fill-rule=\"evenodd\" fill-opacity=\"1\" /><path clip-path=\"url(#clip130)\" d=\"M2226.15 385.556 L2231.04 385.556 L2231.04 389.538 L2227.24 396.945 L2224.25 396.945 L2226.15 389.538 L2226.15 385.556 Z\" fill=\"#000000\" fill-rule=\"evenodd\" fill-opacity=\"1\" /><path clip-path=\"url(#clip130)\" d=\"M2261.68 365.51 L2252.31 378.126 L2262.17 391.436 L2257.15 391.436 L2249.6 381.251 L2242.05 391.436 L2237.03 391.436 L2247.1 377.871 L2237.89 365.51 L2242.91 365.51 L2249.79 374.746 L2256.66 365.51 L2261.68 365.51 Z\" fill=\"#000000\" fill-rule=\"evenodd\" fill-opacity=\"1\" /></svg>\n"
      ]
     },
     "execution_count": 749,
     "metadata": {},
     "output_type": "execute_result"
    }
   ],
   "source": [
    "using Plots #showing initial data and the initial status of the horizon finder\n",
    "plot(initX[4:L-3], state_array[4:L-3,1:4], xaxis=\"x\",title=\"Initial Data\", labels=[\"m\" \"beta\" \"psi\" \"psi,x\"])"
   ]
  },
  {
   "cell_type": "markdown",
   "id": "9b444ece",
   "metadata": {
    "papermill": {
     "duration": 0.009161,
     "end_time": "2023-03-28T18:06:25.373170",
     "exception": false,
     "start_time": "2023-03-28T18:06:25.364009",
     "status": "completed"
    },
    "tags": []
   },
   "source": [
    "# Defining the initial state array for the evolution m β Ψ and Ψ,x"
   ]
  },
  {
   "cell_type": "code",
   "execution_count": 750,
   "id": "9902ffab",
   "metadata": {
    "execution": {
     "iopub.execute_input": "2023-03-28T19:06:25.389000Z",
     "iopub.status.busy": "2023-03-28T19:06:25.388000Z",
     "iopub.status.idle": "2023-03-28T19:06:32.710000Z",
     "shell.execute_reply": "2023-03-28T19:06:32.710000Z"
    },
    "papermill": {
     "duration": 7.335269,
     "end_time": "2023-03-28T18:06:32.715990",
     "exception": false,
     "start_time": "2023-03-28T18:06:25.380721",
     "status": "completed"
    },
    "tags": []
   },
   "outputs": [
    {
     "data": {
      "text/plain": [
       "\"/home/rita13santos/Desktop/MSc Thesis/Git/ScalarField/DATA/res1/time_step0.csv\""
      ]
     },
     "execution_count": 750,
     "metadata": {},
     "output_type": "execute_result"
    }
   ],
   "source": [
    "using CSV, Tables\n",
    "#CSV.write(dir*\"/time_step0.csv\", Tables.table(transpose(Matrix(state_array))), writeheader=false)\n",
    "CSV.write(dir*\"/res$res/time_step0.csv\", Tables.table(state_array), writeheader=false)"
   ]
  },
  {
   "cell_type": "code",
   "execution_count": null,
   "id": "dc53bde1",
   "metadata": {},
   "outputs": [],
   "source": []
  },
  {
   "cell_type": "code",
   "execution_count": null,
   "id": "313950d4",
   "metadata": {},
   "outputs": [],
   "source": []
  },
  {
   "cell_type": "code",
   "execution_count": null,
   "id": "523e0f1d",
   "metadata": {},
   "outputs": [],
   "source": []
  },
  {
   "cell_type": "code",
   "execution_count": 585,
   "id": "fff1426a",
   "metadata": {
    "execution": {
     "iopub.execute_input": "2023-03-28T19:06:33.154000Z",
     "iopub.status.busy": "2023-03-28T19:06:32.734000Z",
     "iopub.status.idle": "2023-03-28T19:06:33.884000Z",
     "shell.execute_reply": "2023-03-28T19:06:33.884000Z"
    },
    "papermill": {
     "duration": 1.164178,
     "end_time": "2023-03-28T18:06:33.889802",
     "exception": false,
     "start_time": "2023-03-28T18:06:32.725624",
     "status": "completed"
    },
    "tags": []
   },
   "outputs": [
    {
     "data": {
      "text/plain": [
       "\"/home/rita13santos/Desktop/MSc Thesis/Git/ScalarField/DATA/parameters.csv\""
      ]
     },
     "execution_count": 585,
     "metadata": {},
     "output_type": "execute_result"
    }
   ],
   "source": [
    "time=0.0\n",
    "criticality=0.0\n",
    "explode=0.0\n",
    "evol_stats = [criticality A sigma r0 time explode run]\n",
    "monitor_ratio = zeros(L)\n",
    "CSV.write(dir*\"/parameters.csv\", Tables.table(evol_stats), writeheader=true, header=[\"criticality\", \"A\", \"sigma\", \"r0\", \"time\", \"explode\", \"run\"])"
   ]
  },
  {
   "cell_type": "code",
   "execution_count": 449,
   "id": "9e9abd7d",
   "metadata": {},
   "outputs": [
    {
     "name": "stdout",
     "output_type": "stream",
     "text": [
      "1.0\n"
     ]
    }
   ],
   "source": [
    "ginit=dt_scale(initX,state_array[:,1],state_array[:,2],dx)\n",
    "println(update_dt(initX,state_array[:,1],state_array[:,2],dx,ginit)/dt)"
   ]
  },
  {
   "cell_type": "markdown",
   "id": "42e2c73d",
   "metadata": {
    "papermill": {
     "duration": 0.007626,
     "end_time": "2023-03-28T18:06:33.908346",
     "exception": false,
     "start_time": "2023-03-28T18:06:33.900720",
     "status": "completed"
    },
    "tags": []
   },
   "source": [
    " ## Time evolution"
   ]
  },
  {
   "cell_type": "markdown",
   "id": "7da47594",
   "metadata": {
    "papermill": {
     "duration": 0.007471,
     "end_time": "2023-03-28T18:06:33.923805",
     "exception": false,
     "start_time": "2023-03-28T18:06:33.916334",
     "status": "completed"
    },
    "tags": []
   },
   "source": [
    "fixed grid"
   ]
  },
  {
   "cell_type": "code",
   "execution_count": 236,
   "id": "fcb7ae3f",
   "metadata": {
    "execution": {
     "iopub.execute_input": "2023-03-28T19:06:33.940000Z",
     "iopub.status.busy": "2023-03-28T19:06:33.940000Z",
     "iopub.status.idle": "2023-03-28T21:02:19.379000Z",
     "shell.execute_reply": "2023-03-28T21:02:19.378000Z"
    },
    "papermill": {
     "duration": 6945.452732,
     "end_time": "2023-03-28T20:02:19.384591",
     "exception": false,
     "start_time": "2023-03-28T18:06:33.931859",
     "status": "completed"
    },
    "tags": []
   },
   "outputs": [
    {
     "name": "stdout",
     "output_type": "stream",
     "text": [
      "iteration 10 dt is 0.005, time of iteration is 0.05\n",
      "iteration 20 dt is 0.005, time of iteration is 0.1\n",
      "iteration 30 dt is 0.005, time of iteration is 0.15\n",
      "iteration 40 dt is 0.005, time of iteration is 0.2\n",
      "iteration 50 dt is 0.005, time of iteration is 0.25\n",
      "iteration 60 dt is 0.005, time of iteration is 0.3\n",
      "iteration 70 dt is 0.005, time of iteration is 0.35\n",
      "iteration 80 dt is 0.005, time of iteration is 0.4\n",
      "iteration 90 dt is 0.005, time of iteration is 0.45\n",
      "iteration 100 dt is 0.005, time of iteration is 0.5\n"
     ]
    }
   ],
   "source": [
    "finaltime=0.5#0.08*2#0.005*10*5#1#0.9#0.8#0.04*5*4#length(T)-1\n",
    "evol_stats, T_interp = timeevolution(state_array,finaltime,dir*\"/res$res\",run,auxstate_array);\n",
    "CSV.write(dir*\"/timearray$res.csv\", Tables.table(T_interp), writeheader=false);\n",
    "#CSV.write(dir*\"/parameters.csv\", Tables.table(evol_stats), writeheader=false);"
   ]
  },
  {
   "cell_type": "markdown",
   "id": "715897d3",
   "metadata": {
    "papermill": {
     "duration": 0.007626,
     "end_time": "2023-03-28T18:06:33.908346",
     "exception": false,
     "start_time": "2023-03-28T18:06:33.900720",
     "status": "completed"
    },
    "tags": []
   },
   "source": [
    " ## Movie of the evolution"
   ]
  },
  {
   "cell_type": "code",
   "execution_count": 128,
   "id": "973cea47",
   "metadata": {},
   "outputs": [
    {
     "name": "stderr",
     "output_type": "stream",
     "text": [
      "\u001b[36m\u001b[1m[ \u001b[22m\u001b[39m\u001b[36m\u001b[1mInfo: \u001b[22m\u001b[39mSaved animation to /home/rita13santos/Desktop/MSc Thesis/Git/ScalarField/anim_res3.gif\n"
     ]
    },
    {
     "data": {
      "text/html": [
       "<img src=\"data:image/gif;base64,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\" />"
      ],
      "text/plain": [
       "Plots.AnimatedGif(\"/home/rita13santos/Desktop/MSc Thesis/Git/ScalarField/anim_res3.gif\")"
      ]
     },
     "execution_count": 128,
     "metadata": {},
     "output_type": "execute_result"
    }
   ],
   "source": [
    "using Plots, CSV, DataFrames\n",
    "import GR\n",
    "anim = @animate for n in 0:10:400\n",
    "    \n",
    "    \n",
    "    IJulia.clear_output(true)\n",
    "    \n",
    "    functions3=DataFrame(CSV.File(dir*\"/res$res/time_step$n.csv\",header=false, delim=\",\"))\n",
    "    plot()\n",
    "        plot1=functions3.Column1[4:L-3];\n",
    "        plot2=functions3.Column2[4:L-3];\n",
    "        plot3=functions3.Column3[4:L-3];\n",
    "        plot4=functions3.Column4[4:L-3];\n",
    "        plot5=functions3.Column5[4:L-3];\n",
    "    \n",
    "    plot!(initX1, [plot1 plot2 ], labels=[\"m\" \"beta\" \"psi\" \"psi,x\"], ylim=[-0.001, 0.001],xlim=[0.0, 1])#, xlim=[0, 0.1])# |> display \n",
    "    #plot!(initX[4:L-3], [plot1], labels=[\"m\" \"beta\" \"psi\" \"psi,x\"],ylim=[-1,1])#, xlim=[0, 0.1]) |> display \n",
    "    \n",
    "    end\n",
    "\n",
    "gif(anim, \"anim_res$res.gif\", fps = 10)"
   ]
  },
  {
   "cell_type": "code",
   "execution_count": 312,
   "id": "c6b8b7bc",
   "metadata": {},
   "outputs": [
    {
     "ename": "LoadError",
     "evalue": "ArgumentError: \"/home/rita13santos/Desktop/MSc Thesis/Git/ScalarField/DATA/res1/monitor_ratio10.csv\" is not a valid file or doesn't exist",
     "output_type": "error",
     "traceback": [
      "ArgumentError: \"/home/rita13santos/Desktop/MSc Thesis/Git/ScalarField/DATA/res1/monitor_ratio10.csv\" is not a valid file or doesn't exist",
      "",
      "Stacktrace:",
      " [1] CSV.Context(source::CSV.Arg, header::CSV.Arg, normalizenames::CSV.Arg, datarow::CSV.Arg, skipto::CSV.Arg, footerskip::CSV.Arg, transpose::CSV.Arg, comment::CSV.Arg, ignoreemptyrows::CSV.Arg, ignoreemptylines::CSV.Arg, select::CSV.Arg, drop::CSV.Arg, limit::CSV.Arg, buffer_in_memory::CSV.Arg, threaded::CSV.Arg, ntasks::CSV.Arg, tasks::CSV.Arg, rows_to_check::CSV.Arg, lines_to_check::CSV.Arg, missingstrings::CSV.Arg, missingstring::CSV.Arg, delim::CSV.Arg, ignorerepeated::CSV.Arg, quoted::CSV.Arg, quotechar::CSV.Arg, openquotechar::CSV.Arg, closequotechar::CSV.Arg, escapechar::CSV.Arg, dateformat::CSV.Arg, dateformats::CSV.Arg, decimal::CSV.Arg, truestrings::CSV.Arg, falsestrings::CSV.Arg, stripwhitespace::CSV.Arg, type::CSV.Arg, types::CSV.Arg, typemap::CSV.Arg, pool::CSV.Arg, downcast::CSV.Arg, lazystrings::CSV.Arg, stringtype::CSV.Arg, strict::CSV.Arg, silencewarnings::CSV.Arg, maxwarnings::CSV.Arg, debug::CSV.Arg, parsingdebug::CSV.Arg, validate::CSV.Arg, streaming::CSV.Arg)",
      "   @ CSV ~/.julia/packages/CSV/b8ebJ/src/context.jl:306",
      " [2] #File#28",
      "   @ ~/.julia/packages/CSV/b8ebJ/src/file.jl:221 [inlined]",
      " [3] macro expansion",
      "   @ ./In[312]:7 [inlined]",
      " [4] top-level scope",
      "   @ ~/.julia/packages/Plots/bMtsB/src/animation.jl:251"
     ]
    }
   ],
   "source": [
    "using Plots, CSV, DataFrames\n",
    "import GR\n",
    "anim = @animate for n in 10:10:1000#length(T)-1\n",
    "    \n",
    "    IJulia.clear_output(true)\n",
    "    \n",
    "    functions3=DataFrame(CSV.File(dir*\"/res$res/monitor_ratio$n.csv\",header=false, delim=\",\"))\n",
    "    plot()\n",
    "        plot1=functions3.Column1[4:L-3];\n",
    "    \n",
    "    plot!(initX1, [plot1], labels=[\"monitor ratio\"], ylim=[0, 1])# |> display \n",
    "    #plot!(initX[4:L-3], [plot1], labels=[\"m\" \"beta\" \"psi\" \"psi,x\"],ylim=[-1,1])#, xlim=[0, 0.1]) |> display \n",
    "    \n",
    "    end\n",
    "\n",
    "gif(anim, \"anim_res$res.gif\", fps = 5)"
   ]
  },
  {
   "cell_type": "code",
   "execution_count": 316,
   "id": "34adf7fe",
   "metadata": {},
   "outputs": [
    {
     "data": {
      "text/plain": [
       "0.001"
      ]
     },
     "execution_count": 316,
     "metadata": {},
     "output_type": "execute_result"
    }
   ],
   "source": [
    "dt"
   ]
  },
  {
   "cell_type": "code",
   "execution_count": 318,
   "id": "af4f5c73",
   "metadata": {},
   "outputs": [
    {
     "data": {
      "text/plain": [
       "0.0078125"
      ]
     },
     "execution_count": 318,
     "metadata": {},
     "output_type": "execute_result"
    }
   ],
   "source": []
  },
  {
   "cell_type": "code",
   "execution_count": null,
   "id": "f2ce4c53",
   "metadata": {},
   "outputs": [],
   "source": []
  },
  {
   "cell_type": "code",
   "execution_count": 31,
   "id": "77840b7c",
   "metadata": {},
   "outputs": [
    {
     "data": {
      "text/plain": [
       "207-element Vector{Float64}:\n",
       " -2.365518250288725e-9\n",
       " -9.136367842295702e-10\n",
       " -2.14954583648039e-10\n",
       "  0.0\n",
       "  6.986152586784135e-13\n",
       "  5.661291067212787e-11\n",
       "  4.3721453478448e-10\n",
       "  1.681826439904089e-9\n",
       "  4.6038562839992895e-9\n",
       "  1.0296050405382373e-8\n",
       "  2.0137407051887777e-8\n",
       "  3.5801665455811194e-8\n",
       "  5.926726083699171e-8\n",
       "  ⋮\n",
       " -0.0\n",
       " -0.0\n",
       " -0.0\n",
       " -0.0\n",
       " -0.0\n",
       "  0.0\n",
       "  0.0\n",
       "  0.0\n",
       "  0.0\n",
       "  0.0\n",
       "  0.0\n",
       "  0.0"
      ]
     },
     "execution_count": 31,
     "metadata": {},
     "output_type": "execute_result"
    }
   ],
   "source": [
    "state_array[:,4]"
   ]
  },
  {
   "cell_type": "code",
   "execution_count": 37,
   "id": "fab5b30a",
   "metadata": {},
   "outputs": [
    {
     "name": "stdout",
     "output_type": "stream",
     "text": [
      "3.017168193837207e-8\n",
      "0.00017208804225226937\n"
     ]
    }
   ],
   "source": [
    "\n",
    "auxinitX= range(0,1,step=dx)\n",
    "println(Der(state_array,6,4,auxinitX))\n",
    "\n",
    "spl= Spline1D(initX[4:L-3], state_array[4:L-3,4],  k=4);\n",
    "println(derivative(spl, auxinitX[6]))"
   ]
  },
  {
   "cell_type": "code",
   "execution_count": 53,
   "id": "654d7d27",
   "metadata": {},
   "outputs": [
    {
     "name": "stdout",
     "output_type": "stream",
     "text": [
      "0.014407887381376435\n",
      "0.014407810796996974\n",
      "-7.658437946138352e-8\n"
     ]
    }
   ],
   "source": [
    "println(Der(state_array,60,4,initX))\n",
    "\n",
    "spl= Spline1D(initX[4:L-3], state_array[4:L-3,4],  k=4);\n",
    "println(derivative(spl, initX[60]))\n",
    "\n",
    "println(derivative(spl, initX[60]).-Der(state_array,60,4,initX))"
   ]
  },
  {
   "cell_type": "code",
   "execution_count": 30,
   "id": "a05acb5f",
   "metadata": {},
   "outputs": [
    {
     "data": {
      "text/plain": [
       "0.2713799770174635"
      ]
     },
     "execution_count": 30,
     "metadata": {},
     "output_type": "execute_result"
    }
   ],
   "source": [
    "using Roots\n",
    "find_zero(derpsi_func, (0,0.5), Bisection())"
   ]
  },
  {
   "cell_type": "code",
   "execution_count": 23,
   "id": "eb36f345",
   "metadata": {},
   "outputs": [
    {
     "data": {
      "image/svg+xml": [
       "<?xml version=\"1.0\" encoding=\"utf-8\"?>\n",
       "<svg xmlns=\"http://www.w3.org/2000/svg\" xmlns:xlink=\"http://www.w3.org/1999/xlink\" width=\"600\" height=\"400\" viewBox=\"0 0 2400 1600\">\n",
       "<defs>\n",
       "  <clipPath id=\"clip640\">\n",
       "    <rect x=\"0\" y=\"0\" width=\"2400\" height=\"1600\"/>\n",
       "  </clipPath>\n",
       "</defs>\n",
       "<path clip-path=\"url(#clip640)\" d=\"M0 1600 L2400 1600 L2400 0 L0 0  Z\" fill=\"#ffffff\" fill-rule=\"evenodd\" fill-opacity=\"1\"/>\n",
       "<defs>\n",
       "  <clipPath id=\"clip641\">\n",
       "    <rect x=\"480\" y=\"0\" width=\"1681\" height=\"1600\"/>\n",
       "  </clipPath>\n",
       "</defs>\n",
       "<path clip-path=\"url(#clip640)\" d=\"M314.583 1486.45 L2352.76 1486.45 L2352.76 47.2441 L314.583 47.2441  Z\" fill=\"#ffffff\" fill-rule=\"evenodd\" fill-opacity=\"1\"/>\n",
       "<defs>\n",
       "  <clipPath id=\"clip642\">\n",
       "    <rect x=\"314\" y=\"47\" width=\"2039\" height=\"1440\"/>\n",
       "  </clipPath>\n",
       "</defs>\n",
       "<polyline clip-path=\"url(#clip642)\" style=\"stroke:#000000; stroke-linecap:round; stroke-linejoin:round; stroke-width:2; stroke-opacity:0.1; fill:none\" points=\"372.268,1486.45 372.268,47.2441 \"/>\n",
       "<polyline clip-path=\"url(#clip642)\" style=\"stroke:#000000; stroke-linecap:round; stroke-linejoin:round; stroke-width:2; stroke-opacity:0.1; fill:none\" points=\"853.035,1486.45 853.035,47.2441 \"/>\n",
       "<polyline clip-path=\"url(#clip642)\" style=\"stroke:#000000; stroke-linecap:round; stroke-linejoin:round; stroke-width:2; stroke-opacity:0.1; fill:none\" points=\"1333.8,1486.45 1333.8,47.2441 \"/>\n",
       "<polyline clip-path=\"url(#clip642)\" style=\"stroke:#000000; stroke-linecap:round; stroke-linejoin:round; stroke-width:2; stroke-opacity:0.1; fill:none\" points=\"1814.57,1486.45 1814.57,47.2441 \"/>\n",
       "<polyline clip-path=\"url(#clip642)\" style=\"stroke:#000000; stroke-linecap:round; stroke-linejoin:round; stroke-width:2; stroke-opacity:0.1; fill:none\" points=\"2295.34,1486.45 2295.34,47.2441 \"/>\n",
       "<polyline clip-path=\"url(#clip640)\" style=\"stroke:#000000; stroke-linecap:round; stroke-linejoin:round; stroke-width:4; stroke-opacity:1; fill:none\" points=\"314.583,1486.45 2352.76,1486.45 \"/>\n",
       "<polyline clip-path=\"url(#clip640)\" style=\"stroke:#000000; stroke-linecap:round; stroke-linejoin:round; stroke-width:4; stroke-opacity:1; fill:none\" points=\"372.268,1486.45 372.268,1467.55 \"/>\n",
       "<polyline clip-path=\"url(#clip640)\" style=\"stroke:#000000; stroke-linecap:round; stroke-linejoin:round; stroke-width:4; stroke-opacity:1; fill:none\" points=\"853.035,1486.45 853.035,1467.55 \"/>\n",
       "<polyline clip-path=\"url(#clip640)\" style=\"stroke:#000000; stroke-linecap:round; stroke-linejoin:round; stroke-width:4; stroke-opacity:1; fill:none\" points=\"1333.8,1486.45 1333.8,1467.55 \"/>\n",
       "<polyline clip-path=\"url(#clip640)\" style=\"stroke:#000000; stroke-linecap:round; stroke-linejoin:round; stroke-width:4; stroke-opacity:1; fill:none\" points=\"1814.57,1486.45 1814.57,1467.55 \"/>\n",
       "<polyline clip-path=\"url(#clip640)\" style=\"stroke:#000000; stroke-linecap:round; stroke-linejoin:round; stroke-width:4; stroke-opacity:1; fill:none\" points=\"2295.34,1486.45 2295.34,1467.55 \"/>\n",
       "<path clip-path=\"url(#clip640)\" d=\"M334.571 1517.37 Q330.96 1517.37 329.131 1520.93 Q327.326 1524.47 327.326 1531.6 Q327.326 1538.71 329.131 1542.27 Q330.96 1545.82 334.571 1545.82 Q338.205 1545.82 340.011 1542.27 Q341.84 1538.71 341.84 1531.6 Q341.84 1524.47 340.011 1520.93 Q338.205 1517.37 334.571 1517.37 M334.571 1513.66 Q340.381 1513.66 343.437 1518.27 Q346.515 1522.85 346.515 1531.6 Q346.515 1540.33 343.437 1544.94 Q340.381 1549.52 334.571 1549.52 Q328.761 1549.52 325.682 1544.94 Q322.627 1540.33 322.627 1531.6 Q322.627 1522.85 325.682 1518.27 Q328.761 1513.66 334.571 1513.66 Z\" fill=\"#000000\" fill-rule=\"evenodd\" fill-opacity=\"1\" /><path clip-path=\"url(#clip640)\" d=\"M354.733 1542.97 L359.617 1542.97 L359.617 1548.85 L354.733 1548.85 L354.733 1542.97 Z\" fill=\"#000000\" fill-rule=\"evenodd\" fill-opacity=\"1\" /><path clip-path=\"url(#clip640)\" d=\"M379.802 1517.37 Q376.191 1517.37 374.363 1520.93 Q372.557 1524.47 372.557 1531.6 Q372.557 1538.71 374.363 1542.27 Q376.191 1545.82 379.802 1545.82 Q383.437 1545.82 385.242 1542.27 Q387.071 1538.71 387.071 1531.6 Q387.071 1524.47 385.242 1520.93 Q383.437 1517.37 379.802 1517.37 M379.802 1513.66 Q385.612 1513.66 388.668 1518.27 Q391.747 1522.85 391.747 1531.6 Q391.747 1540.33 388.668 1544.94 Q385.612 1549.52 379.802 1549.52 Q373.992 1549.52 370.913 1544.94 Q367.858 1540.33 367.858 1531.6 Q367.858 1522.85 370.913 1518.27 Q373.992 1513.66 379.802 1513.66 Z\" fill=\"#000000\" fill-rule=\"evenodd\" fill-opacity=\"1\" /><path clip-path=\"url(#clip640)\" d=\"M409.964 1517.37 Q406.353 1517.37 404.524 1520.93 Q402.719 1524.47 402.719 1531.6 Q402.719 1538.71 404.524 1542.27 Q406.353 1545.82 409.964 1545.82 Q413.598 1545.82 415.404 1542.27 Q417.233 1538.71 417.233 1531.6 Q417.233 1524.47 415.404 1520.93 Q413.598 1517.37 409.964 1517.37 M409.964 1513.66 Q415.774 1513.66 418.83 1518.27 Q421.909 1522.85 421.909 1531.6 Q421.909 1540.33 418.83 1544.94 Q415.774 1549.52 409.964 1549.52 Q404.154 1549.52 401.075 1544.94 Q398.02 1540.33 398.02 1531.6 Q398.02 1522.85 401.075 1518.27 Q404.154 1513.66 409.964 1513.66 Z\" fill=\"#000000\" fill-rule=\"evenodd\" fill-opacity=\"1\" /><path clip-path=\"url(#clip640)\" d=\"M815.836 1517.37 Q812.225 1517.37 810.396 1520.93 Q808.591 1524.47 808.591 1531.6 Q808.591 1538.71 810.396 1542.27 Q812.225 1545.82 815.836 1545.82 Q819.47 1545.82 821.276 1542.27 Q823.104 1538.71 823.104 1531.6 Q823.104 1524.47 821.276 1520.93 Q819.47 1517.37 815.836 1517.37 M815.836 1513.66 Q821.646 1513.66 824.702 1518.27 Q827.78 1522.85 827.78 1531.6 Q827.78 1540.33 824.702 1544.94 Q821.646 1549.52 815.836 1549.52 Q810.026 1549.52 806.947 1544.94 Q803.891 1540.33 803.891 1531.6 Q803.891 1522.85 806.947 1518.27 Q810.026 1513.66 815.836 1513.66 Z\" fill=\"#000000\" fill-rule=\"evenodd\" fill-opacity=\"1\" /><path clip-path=\"url(#clip640)\" d=\"M835.998 1542.97 L840.882 1542.97 L840.882 1548.85 L835.998 1548.85 L835.998 1542.97 Z\" fill=\"#000000\" fill-rule=\"evenodd\" fill-opacity=\"1\" /><path clip-path=\"url(#clip640)\" d=\"M855.095 1544.91 L871.414 1544.91 L871.414 1548.85 L849.47 1548.85 L849.47 1544.91 Q852.132 1542.16 856.715 1537.53 Q861.322 1532.88 862.502 1531.53 Q864.748 1529.01 865.627 1527.27 Q866.53 1525.51 866.53 1523.82 Q866.53 1521.07 864.586 1519.33 Q862.664 1517.6 859.562 1517.6 Q857.363 1517.6 854.91 1518.36 Q852.479 1519.13 849.701 1520.68 L849.701 1515.95 Q852.525 1514.82 854.979 1514.24 Q857.433 1513.66 859.47 1513.66 Q864.84 1513.66 868.035 1516.35 Q871.229 1519.03 871.229 1523.52 Q871.229 1525.65 870.419 1527.57 Q869.632 1529.47 867.525 1532.07 Q866.947 1532.74 863.845 1535.95 Q860.743 1539.15 855.095 1544.91 Z\" fill=\"#000000\" fill-rule=\"evenodd\" fill-opacity=\"1\" /><path clip-path=\"url(#clip640)\" d=\"M881.275 1514.29 L899.632 1514.29 L899.632 1518.22 L885.558 1518.22 L885.558 1526.7 Q886.576 1526.35 887.595 1526.19 Q888.613 1526 889.632 1526 Q895.419 1526 898.798 1529.17 Q902.178 1532.34 902.178 1537.76 Q902.178 1543.34 898.706 1546.44 Q895.234 1549.52 888.914 1549.52 Q886.738 1549.52 884.47 1549.15 Q882.224 1548.78 879.817 1548.04 L879.817 1543.34 Q881.9 1544.47 884.123 1545.03 Q886.345 1545.58 888.822 1545.58 Q892.826 1545.58 895.164 1543.48 Q897.502 1541.37 897.502 1537.76 Q897.502 1534.15 895.164 1532.04 Q892.826 1529.94 888.822 1529.94 Q886.947 1529.94 885.072 1530.35 Q883.22 1530.77 881.275 1531.65 L881.275 1514.29 Z\" fill=\"#000000\" fill-rule=\"evenodd\" fill-opacity=\"1\" /><path clip-path=\"url(#clip640)\" d=\"M1296.11 1517.37 Q1292.49 1517.37 1290.67 1520.93 Q1288.86 1524.47 1288.86 1531.6 Q1288.86 1538.71 1290.67 1542.27 Q1292.49 1545.82 1296.11 1545.82 Q1299.74 1545.82 1301.55 1542.27 Q1303.37 1538.71 1303.37 1531.6 Q1303.37 1524.47 1301.55 1520.93 Q1299.74 1517.37 1296.11 1517.37 M1296.11 1513.66 Q1301.92 1513.66 1304.97 1518.27 Q1308.05 1522.85 1308.05 1531.6 Q1308.05 1540.33 1304.97 1544.94 Q1301.92 1549.52 1296.11 1549.52 Q1290.3 1549.52 1287.22 1544.94 Q1284.16 1540.33 1284.16 1531.6 Q1284.16 1522.85 1287.22 1518.27 Q1290.3 1513.66 1296.11 1513.66 Z\" fill=\"#000000\" fill-rule=\"evenodd\" fill-opacity=\"1\" /><path clip-path=\"url(#clip640)\" d=\"M1316.27 1542.97 L1321.15 1542.97 L1321.15 1548.85 L1316.27 1548.85 L1316.27 1542.97 Z\" fill=\"#000000\" fill-rule=\"evenodd\" fill-opacity=\"1\" /><path clip-path=\"url(#clip640)\" d=\"M1331.38 1514.29 L1349.74 1514.29 L1349.74 1518.22 L1335.67 1518.22 L1335.67 1526.7 Q1336.68 1526.35 1337.7 1526.19 Q1338.72 1526 1339.74 1526 Q1345.53 1526 1348.91 1529.17 Q1352.29 1532.34 1352.29 1537.76 Q1352.29 1543.34 1348.81 1546.44 Q1345.34 1549.52 1339.02 1549.52 Q1336.85 1549.52 1334.58 1549.15 Q1332.33 1548.78 1329.92 1548.04 L1329.92 1543.34 Q1332.01 1544.47 1334.23 1545.03 Q1336.45 1545.58 1338.93 1545.58 Q1342.93 1545.58 1345.27 1543.48 Q1347.61 1541.37 1347.61 1537.76 Q1347.61 1534.15 1345.27 1532.04 Q1342.93 1529.94 1338.93 1529.94 Q1337.05 1529.94 1335.18 1530.35 Q1333.33 1530.77 1331.38 1531.65 L1331.38 1514.29 Z\" fill=\"#000000\" fill-rule=\"evenodd\" fill-opacity=\"1\" /><path clip-path=\"url(#clip640)\" d=\"M1371.5 1517.37 Q1367.89 1517.37 1366.06 1520.93 Q1364.25 1524.47 1364.25 1531.6 Q1364.25 1538.71 1366.06 1542.27 Q1367.89 1545.82 1371.5 1545.82 Q1375.13 1545.82 1376.94 1542.27 Q1378.77 1538.71 1378.77 1531.6 Q1378.77 1524.47 1376.94 1520.93 Q1375.13 1517.37 1371.5 1517.37 M1371.5 1513.66 Q1377.31 1513.66 1380.36 1518.27 Q1383.44 1522.85 1383.44 1531.6 Q1383.44 1540.33 1380.36 1544.94 Q1377.31 1549.52 1371.5 1549.52 Q1365.69 1549.52 1362.61 1544.94 Q1359.55 1540.33 1359.55 1531.6 Q1359.55 1522.85 1362.61 1518.27 Q1365.69 1513.66 1371.5 1513.66 Z\" fill=\"#000000\" fill-rule=\"evenodd\" fill-opacity=\"1\" /><path clip-path=\"url(#clip640)\" d=\"M1777.37 1517.37 Q1773.76 1517.37 1771.93 1520.93 Q1770.12 1524.47 1770.12 1531.6 Q1770.12 1538.71 1771.93 1542.27 Q1773.76 1545.82 1777.37 1545.82 Q1781 1545.82 1782.81 1542.27 Q1784.64 1538.71 1784.64 1531.6 Q1784.64 1524.47 1782.81 1520.93 Q1781 1517.37 1777.37 1517.37 M1777.37 1513.66 Q1783.18 1513.66 1786.24 1518.27 Q1789.31 1522.85 1789.31 1531.6 Q1789.31 1540.33 1786.24 1544.94 Q1783.18 1549.52 1777.37 1549.52 Q1771.56 1549.52 1768.48 1544.94 Q1765.43 1540.33 1765.43 1531.6 Q1765.43 1522.85 1768.48 1518.27 Q1771.56 1513.66 1777.37 1513.66 Z\" fill=\"#000000\" fill-rule=\"evenodd\" fill-opacity=\"1\" /><path clip-path=\"url(#clip640)\" d=\"M1797.53 1542.97 L1802.42 1542.97 L1802.42 1548.85 L1797.53 1548.85 L1797.53 1542.97 Z\" fill=\"#000000\" fill-rule=\"evenodd\" fill-opacity=\"1\" /><path clip-path=\"url(#clip640)\" d=\"M1811.42 1514.29 L1833.64 1514.29 L1833.64 1516.28 L1821.1 1548.85 L1816.21 1548.85 L1828.02 1518.22 L1811.42 1518.22 L1811.42 1514.29 Z\" fill=\"#000000\" fill-rule=\"evenodd\" fill-opacity=\"1\" /><path clip-path=\"url(#clip640)\" d=\"M1842.81 1514.29 L1861.17 1514.29 L1861.17 1518.22 L1847.09 1518.22 L1847.09 1526.7 Q1848.11 1526.35 1849.13 1526.19 Q1850.15 1526 1851.17 1526 Q1856.95 1526 1860.33 1529.17 Q1863.71 1532.34 1863.71 1537.76 Q1863.71 1543.34 1860.24 1546.44 Q1856.77 1549.52 1850.45 1549.52 Q1848.27 1549.52 1846 1549.15 Q1843.76 1548.78 1841.35 1548.04 L1841.35 1543.34 Q1843.43 1544.47 1845.66 1545.03 Q1847.88 1545.58 1850.36 1545.58 Q1854.36 1545.58 1856.7 1543.48 Q1859.04 1541.37 1859.04 1537.76 Q1859.04 1534.15 1856.7 1532.04 Q1854.36 1529.94 1850.36 1529.94 Q1848.48 1529.94 1846.61 1530.35 Q1844.75 1530.77 1842.81 1531.65 L1842.81 1514.29 Z\" fill=\"#000000\" fill-rule=\"evenodd\" fill-opacity=\"1\" /><path clip-path=\"url(#clip640)\" d=\"M2247.41 1544.91 L2255.05 1544.91 L2255.05 1518.55 L2246.74 1520.21 L2246.74 1515.95 L2255 1514.29 L2259.68 1514.29 L2259.68 1544.91 L2267.32 1544.91 L2267.32 1548.85 L2247.41 1548.85 L2247.41 1544.91 Z\" fill=\"#000000\" fill-rule=\"evenodd\" fill-opacity=\"1\" /><path clip-path=\"url(#clip640)\" d=\"M2276.76 1542.97 L2281.64 1542.97 L2281.64 1548.85 L2276.76 1548.85 L2276.76 1542.97 Z\" fill=\"#000000\" fill-rule=\"evenodd\" fill-opacity=\"1\" /><path clip-path=\"url(#clip640)\" d=\"M2301.83 1517.37 Q2298.22 1517.37 2296.39 1520.93 Q2294.58 1524.47 2294.58 1531.6 Q2294.58 1538.71 2296.39 1542.27 Q2298.22 1545.82 2301.83 1545.82 Q2305.46 1545.82 2307.27 1542.27 Q2309.1 1538.71 2309.1 1531.6 Q2309.1 1524.47 2307.27 1520.93 Q2305.46 1517.37 2301.83 1517.37 M2301.83 1513.66 Q2307.64 1513.66 2310.69 1518.27 Q2313.77 1522.85 2313.77 1531.6 Q2313.77 1540.33 2310.69 1544.94 Q2307.64 1549.52 2301.83 1549.52 Q2296.02 1549.52 2292.94 1544.94 Q2289.88 1540.33 2289.88 1531.6 Q2289.88 1522.85 2292.94 1518.27 Q2296.02 1513.66 2301.83 1513.66 Z\" fill=\"#000000\" fill-rule=\"evenodd\" fill-opacity=\"1\" /><path clip-path=\"url(#clip640)\" d=\"M2331.99 1517.37 Q2328.38 1517.37 2326.55 1520.93 Q2324.75 1524.47 2324.75 1531.6 Q2324.75 1538.71 2326.55 1542.27 Q2328.38 1545.82 2331.99 1545.82 Q2335.63 1545.82 2337.43 1542.27 Q2339.26 1538.71 2339.26 1531.6 Q2339.26 1524.47 2337.43 1520.93 Q2335.63 1517.37 2331.99 1517.37 M2331.99 1513.66 Q2337.8 1513.66 2340.86 1518.27 Q2343.94 1522.85 2343.94 1531.6 Q2343.94 1540.33 2340.86 1544.94 Q2337.8 1549.52 2331.99 1549.52 Q2326.18 1549.52 2323.1 1544.94 Q2320.05 1540.33 2320.05 1531.6 Q2320.05 1522.85 2323.1 1518.27 Q2326.18 1513.66 2331.99 1513.66 Z\" fill=\"#000000\" fill-rule=\"evenodd\" fill-opacity=\"1\" /><polyline clip-path=\"url(#clip642)\" style=\"stroke:#000000; stroke-linecap:round; stroke-linejoin:round; stroke-width:2; stroke-opacity:0.1; fill:none\" points=\"314.583,1427.6 2352.76,1427.6 \"/>\n",
       "<polyline clip-path=\"url(#clip642)\" style=\"stroke:#000000; stroke-linecap:round; stroke-linejoin:round; stroke-width:2; stroke-opacity:0.1; fill:none\" points=\"314.583,1070.66 2352.76,1070.66 \"/>\n",
       "<polyline clip-path=\"url(#clip642)\" style=\"stroke:#000000; stroke-linecap:round; stroke-linejoin:round; stroke-width:2; stroke-opacity:0.1; fill:none\" points=\"314.583,713.733 2352.76,713.733 \"/>\n",
       "<polyline clip-path=\"url(#clip642)\" style=\"stroke:#000000; stroke-linecap:round; stroke-linejoin:round; stroke-width:2; stroke-opacity:0.1; fill:none\" points=\"314.583,356.802 2352.76,356.802 \"/>\n",
       "<polyline clip-path=\"url(#clip640)\" style=\"stroke:#000000; stroke-linecap:round; stroke-linejoin:round; stroke-width:4; stroke-opacity:1; fill:none\" points=\"314.583,1486.45 314.583,47.2441 \"/>\n",
       "<polyline clip-path=\"url(#clip640)\" style=\"stroke:#000000; stroke-linecap:round; stroke-linejoin:round; stroke-width:4; stroke-opacity:1; fill:none\" points=\"314.583,1427.6 333.481,1427.6 \"/>\n",
       "<polyline clip-path=\"url(#clip640)\" style=\"stroke:#000000; stroke-linecap:round; stroke-linejoin:round; stroke-width:4; stroke-opacity:1; fill:none\" points=\"314.583,1070.66 333.481,1070.66 \"/>\n",
       "<polyline clip-path=\"url(#clip640)\" style=\"stroke:#000000; stroke-linecap:round; stroke-linejoin:round; stroke-width:4; stroke-opacity:1; fill:none\" points=\"314.583,713.733 333.481,713.733 \"/>\n",
       "<polyline clip-path=\"url(#clip640)\" style=\"stroke:#000000; stroke-linecap:round; stroke-linejoin:round; stroke-width:4; stroke-opacity:1; fill:none\" points=\"314.583,356.802 333.481,356.802 \"/>\n",
       "<path clip-path=\"url(#clip640)\" d=\"M50.9921 1428.05 L80.6679 1428.05 L80.6679 1431.98 L50.9921 1431.98 L50.9921 1428.05 Z\" fill=\"#000000\" fill-rule=\"evenodd\" fill-opacity=\"1\" /><path clip-path=\"url(#clip640)\" d=\"M100.76 1413.39 Q97.1493 1413.39 95.3206 1416.96 Q93.515 1420.5 93.515 1427.63 Q93.515 1434.74 95.3206 1438.3 Q97.1493 1441.84 100.76 1441.84 Q104.395 1441.84 106.2 1438.3 Q108.029 1434.74 108.029 1427.63 Q108.029 1420.5 106.2 1416.96 Q104.395 1413.39 100.76 1413.39 M100.76 1409.69 Q106.571 1409.69 109.626 1414.3 Q112.705 1418.88 112.705 1427.63 Q112.705 1436.36 109.626 1440.96 Q106.571 1445.55 100.76 1445.55 Q94.9502 1445.55 91.8715 1440.96 Q88.816 1436.36 88.816 1427.63 Q88.816 1418.88 91.8715 1414.3 Q94.9502 1409.69 100.76 1409.69 Z\" fill=\"#000000\" fill-rule=\"evenodd\" fill-opacity=\"1\" /><path clip-path=\"url(#clip640)\" d=\"M120.922 1439 L125.807 1439 L125.807 1444.88 L120.922 1444.88 L120.922 1439 Z\" fill=\"#000000\" fill-rule=\"evenodd\" fill-opacity=\"1\" /><path clip-path=\"url(#clip640)\" d=\"M145.992 1413.39 Q142.381 1413.39 140.552 1416.96 Q138.746 1420.5 138.746 1427.63 Q138.746 1434.74 140.552 1438.3 Q142.381 1441.84 145.992 1441.84 Q149.626 1441.84 151.431 1438.3 Q153.26 1434.74 153.26 1427.63 Q153.26 1420.5 151.431 1416.96 Q149.626 1413.39 145.992 1413.39 M145.992 1409.69 Q151.802 1409.69 154.857 1414.3 Q157.936 1418.88 157.936 1427.63 Q157.936 1436.36 154.857 1440.96 Q151.802 1445.55 145.992 1445.55 Q140.181 1445.55 137.103 1440.96 Q134.047 1436.36 134.047 1427.63 Q134.047 1418.88 137.103 1414.3 Q140.181 1409.69 145.992 1409.69 Z\" fill=\"#000000\" fill-rule=\"evenodd\" fill-opacity=\"1\" /><path clip-path=\"url(#clip640)\" d=\"M176.153 1413.39 Q172.542 1413.39 170.714 1416.96 Q168.908 1420.5 168.908 1427.63 Q168.908 1434.74 170.714 1438.3 Q172.542 1441.84 176.153 1441.84 Q179.788 1441.84 181.593 1438.3 Q183.422 1434.74 183.422 1427.63 Q183.422 1420.5 181.593 1416.96 Q179.788 1413.39 176.153 1413.39 M176.153 1409.69 Q181.964 1409.69 185.019 1414.3 Q188.098 1418.88 188.098 1427.63 Q188.098 1436.36 185.019 1440.96 Q181.964 1445.55 176.153 1445.55 Q170.343 1445.55 167.265 1440.96 Q164.209 1436.36 164.209 1427.63 Q164.209 1418.88 167.265 1414.3 Q170.343 1409.69 176.153 1409.69 Z\" fill=\"#000000\" fill-rule=\"evenodd\" fill-opacity=\"1\" /><path clip-path=\"url(#clip640)\" d=\"M206.315 1413.39 Q202.704 1413.39 200.876 1416.96 Q199.07 1420.5 199.07 1427.63 Q199.07 1434.74 200.876 1438.3 Q202.704 1441.84 206.315 1441.84 Q209.95 1441.84 211.755 1438.3 Q213.584 1434.74 213.584 1427.63 Q213.584 1420.5 211.755 1416.96 Q209.95 1413.39 206.315 1413.39 M206.315 1409.69 Q212.126 1409.69 215.181 1414.3 Q218.26 1418.88 218.26 1427.63 Q218.26 1436.36 215.181 1440.96 Q212.126 1445.55 206.315 1445.55 Q200.505 1445.55 197.427 1440.96 Q194.371 1436.36 194.371 1427.63 Q194.371 1418.88 197.427 1414.3 Q200.505 1409.69 206.315 1409.69 Z\" fill=\"#000000\" fill-rule=\"evenodd\" fill-opacity=\"1\" /><path clip-path=\"url(#clip640)\" d=\"M227.287 1440.94 L234.926 1440.94 L234.926 1414.57 L226.616 1416.24 L226.616 1411.98 L234.88 1410.32 L239.556 1410.32 L239.556 1440.94 L247.195 1440.94 L247.195 1444.88 L227.287 1444.88 L227.287 1440.94 Z\" fill=\"#000000\" fill-rule=\"evenodd\" fill-opacity=\"1\" /><path clip-path=\"url(#clip640)\" d=\"M266.639 1413.39 Q263.028 1413.39 261.199 1416.96 Q259.394 1420.5 259.394 1427.63 Q259.394 1434.74 261.199 1438.3 Q263.028 1441.84 266.639 1441.84 Q270.273 1441.84 272.079 1438.3 Q273.908 1434.74 273.908 1427.63 Q273.908 1420.5 272.079 1416.96 Q270.273 1413.39 266.639 1413.39 M266.639 1409.69 Q272.449 1409.69 275.505 1414.3 Q278.583 1418.88 278.583 1427.63 Q278.583 1436.36 275.505 1440.96 Q272.449 1445.55 266.639 1445.55 Q260.829 1445.55 257.75 1440.96 Q254.695 1436.36 254.695 1427.63 Q254.695 1418.88 257.75 1414.3 Q260.829 1409.69 266.639 1409.69 Z\" fill=\"#000000\" fill-rule=\"evenodd\" fill-opacity=\"1\" /><path clip-path=\"url(#clip640)\" d=\"M51.9875 1071.12 L81.6633 1071.12 L81.6633 1075.05 L51.9875 1075.05 L51.9875 1071.12 Z\" fill=\"#000000\" fill-rule=\"evenodd\" fill-opacity=\"1\" /><path clip-path=\"url(#clip640)\" d=\"M101.756 1056.46 Q98.1447 1056.46 96.316 1060.03 Q94.5104 1063.57 94.5104 1070.7 Q94.5104 1077.81 96.316 1081.37 Q98.1447 1084.91 101.756 1084.91 Q105.39 1084.91 107.196 1081.37 Q109.024 1077.81 109.024 1070.7 Q109.024 1063.57 107.196 1060.03 Q105.39 1056.46 101.756 1056.46 M101.756 1052.76 Q107.566 1052.76 110.621 1057.37 Q113.7 1061.95 113.7 1070.7 Q113.7 1079.43 110.621 1084.03 Q107.566 1088.62 101.756 1088.62 Q95.9456 1088.62 92.8669 1084.03 Q89.8114 1079.43 89.8114 1070.7 Q89.8114 1061.95 92.8669 1057.37 Q95.9456 1052.76 101.756 1052.76 Z\" fill=\"#000000\" fill-rule=\"evenodd\" fill-opacity=\"1\" /><path clip-path=\"url(#clip640)\" d=\"M121.918 1082.06 L126.802 1082.06 L126.802 1087.94 L121.918 1087.94 L121.918 1082.06 Z\" fill=\"#000000\" fill-rule=\"evenodd\" fill-opacity=\"1\" /><path clip-path=\"url(#clip640)\" d=\"M146.987 1056.46 Q143.376 1056.46 141.547 1060.03 Q139.742 1063.57 139.742 1070.7 Q139.742 1077.81 141.547 1081.37 Q143.376 1084.91 146.987 1084.91 Q150.621 1084.91 152.427 1081.37 Q154.255 1077.81 154.255 1070.7 Q154.255 1063.57 152.427 1060.03 Q150.621 1056.46 146.987 1056.46 M146.987 1052.76 Q152.797 1052.76 155.853 1057.37 Q158.931 1061.95 158.931 1070.7 Q158.931 1079.43 155.853 1084.03 Q152.797 1088.62 146.987 1088.62 Q141.177 1088.62 138.098 1084.03 Q135.043 1079.43 135.043 1070.7 Q135.043 1061.95 138.098 1057.37 Q141.177 1052.76 146.987 1052.76 Z\" fill=\"#000000\" fill-rule=\"evenodd\" fill-opacity=\"1\" /><path clip-path=\"url(#clip640)\" d=\"M177.149 1056.46 Q173.538 1056.46 171.709 1060.03 Q169.904 1063.57 169.904 1070.7 Q169.904 1077.81 171.709 1081.37 Q173.538 1084.91 177.149 1084.91 Q180.783 1084.91 182.589 1081.37 Q184.417 1077.81 184.417 1070.7 Q184.417 1063.57 182.589 1060.03 Q180.783 1056.46 177.149 1056.46 M177.149 1052.76 Q182.959 1052.76 186.015 1057.37 Q189.093 1061.95 189.093 1070.7 Q189.093 1079.43 186.015 1084.03 Q182.959 1088.62 177.149 1088.62 Q171.339 1088.62 168.26 1084.03 Q165.204 1079.43 165.204 1070.7 Q165.204 1061.95 168.26 1057.37 Q171.339 1052.76 177.149 1052.76 Z\" fill=\"#000000\" fill-rule=\"evenodd\" fill-opacity=\"1\" /><path clip-path=\"url(#clip640)\" d=\"M207.311 1056.46 Q203.7 1056.46 201.871 1060.03 Q200.065 1063.57 200.065 1070.7 Q200.065 1077.81 201.871 1081.37 Q203.7 1084.91 207.311 1084.91 Q210.945 1084.91 212.751 1081.37 Q214.579 1077.81 214.579 1070.7 Q214.579 1063.57 212.751 1060.03 Q210.945 1056.46 207.311 1056.46 M207.311 1052.76 Q213.121 1052.76 216.176 1057.37 Q219.255 1061.95 219.255 1070.7 Q219.255 1079.43 216.176 1084.03 Q213.121 1088.62 207.311 1088.62 Q201.501 1088.62 198.422 1084.03 Q195.366 1079.43 195.366 1070.7 Q195.366 1061.95 198.422 1057.37 Q201.501 1052.76 207.311 1052.76 Z\" fill=\"#000000\" fill-rule=\"evenodd\" fill-opacity=\"1\" /><path clip-path=\"url(#clip640)\" d=\"M237.473 1056.46 Q233.862 1056.46 232.033 1060.03 Q230.227 1063.57 230.227 1070.7 Q230.227 1077.81 232.033 1081.37 Q233.862 1084.91 237.473 1084.91 Q241.107 1084.91 242.912 1081.37 Q244.741 1077.81 244.741 1070.7 Q244.741 1063.57 242.912 1060.03 Q241.107 1056.46 237.473 1056.46 M237.473 1052.76 Q243.283 1052.76 246.338 1057.37 Q249.417 1061.95 249.417 1070.7 Q249.417 1079.43 246.338 1084.03 Q243.283 1088.62 237.473 1088.62 Q231.662 1088.62 228.584 1084.03 Q225.528 1079.43 225.528 1070.7 Q225.528 1061.95 228.584 1057.37 Q231.662 1052.76 237.473 1052.76 Z\" fill=\"#000000\" fill-rule=\"evenodd\" fill-opacity=\"1\" /><path clip-path=\"url(#clip640)\" d=\"M257.681 1053.38 L276.037 1053.38 L276.037 1057.32 L261.963 1057.32 L261.963 1065.79 Q262.982 1065.44 264 1065.28 Q265.019 1065.1 266.037 1065.1 Q271.824 1065.1 275.204 1068.27 Q278.583 1071.44 278.583 1076.86 Q278.583 1082.44 275.111 1085.54 Q271.639 1088.62 265.32 1088.62 Q263.144 1088.62 260.875 1088.25 Q258.63 1087.87 256.223 1087.13 L256.223 1082.44 Q258.306 1083.57 260.528 1084.12 Q262.75 1084.68 265.227 1084.68 Q269.232 1084.68 271.57 1082.57 Q273.908 1080.47 273.908 1076.86 Q273.908 1073.25 271.57 1071.14 Q269.232 1069.03 265.227 1069.03 Q263.352 1069.03 261.477 1069.45 Q259.625 1069.87 257.681 1070.75 L257.681 1053.38 Z\" fill=\"#000000\" fill-rule=\"evenodd\" fill-opacity=\"1\" /><path clip-path=\"url(#clip640)\" d=\"M100.76 699.532 Q97.1493 699.532 95.3206 703.096 Q93.515 706.638 93.515 713.768 Q93.515 720.874 95.3206 724.439 Q97.1493 727.981 100.76 727.981 Q104.395 727.981 106.2 724.439 Q108.029 720.874 108.029 713.768 Q108.029 706.638 106.2 703.096 Q104.395 699.532 100.76 699.532 M100.76 695.828 Q106.571 695.828 109.626 700.434 Q112.705 705.018 112.705 713.768 Q112.705 722.495 109.626 727.101 Q106.571 731.684 100.76 731.684 Q94.9502 731.684 91.8715 727.101 Q88.816 722.495 88.816 713.768 Q88.816 705.018 91.8715 700.434 Q94.9502 695.828 100.76 695.828 Z\" fill=\"#000000\" fill-rule=\"evenodd\" fill-opacity=\"1\" /><path clip-path=\"url(#clip640)\" d=\"M120.922 725.133 L125.807 725.133 L125.807 731.013 L120.922 731.013 L120.922 725.133 Z\" fill=\"#000000\" fill-rule=\"evenodd\" fill-opacity=\"1\" /><path clip-path=\"url(#clip640)\" d=\"M145.992 699.532 Q142.381 699.532 140.552 703.096 Q138.746 706.638 138.746 713.768 Q138.746 720.874 140.552 724.439 Q142.381 727.981 145.992 727.981 Q149.626 727.981 151.431 724.439 Q153.26 720.874 153.26 713.768 Q153.26 706.638 151.431 703.096 Q149.626 699.532 145.992 699.532 M145.992 695.828 Q151.802 695.828 154.857 700.434 Q157.936 705.018 157.936 713.768 Q157.936 722.495 154.857 727.101 Q151.802 731.684 145.992 731.684 Q140.181 731.684 137.103 727.101 Q134.047 722.495 134.047 713.768 Q134.047 705.018 137.103 700.434 Q140.181 695.828 145.992 695.828 Z\" fill=\"#000000\" fill-rule=\"evenodd\" fill-opacity=\"1\" /><path clip-path=\"url(#clip640)\" d=\"M176.153 699.532 Q172.542 699.532 170.714 703.096 Q168.908 706.638 168.908 713.768 Q168.908 720.874 170.714 724.439 Q172.542 727.981 176.153 727.981 Q179.788 727.981 181.593 724.439 Q183.422 720.874 183.422 713.768 Q183.422 706.638 181.593 703.096 Q179.788 699.532 176.153 699.532 M176.153 695.828 Q181.964 695.828 185.019 700.434 Q188.098 705.018 188.098 713.768 Q188.098 722.495 185.019 727.101 Q181.964 731.684 176.153 731.684 Q170.343 731.684 167.265 727.101 Q164.209 722.495 164.209 713.768 Q164.209 705.018 167.265 700.434 Q170.343 695.828 176.153 695.828 Z\" fill=\"#000000\" fill-rule=\"evenodd\" fill-opacity=\"1\" /><path clip-path=\"url(#clip640)\" d=\"M206.315 699.532 Q202.704 699.532 200.876 703.096 Q199.07 706.638 199.07 713.768 Q199.07 720.874 200.876 724.439 Q202.704 727.981 206.315 727.981 Q209.95 727.981 211.755 724.439 Q213.584 720.874 213.584 713.768 Q213.584 706.638 211.755 703.096 Q209.95 699.532 206.315 699.532 M206.315 695.828 Q212.126 695.828 215.181 700.434 Q218.26 705.018 218.26 713.768 Q218.26 722.495 215.181 727.101 Q212.126 731.684 206.315 731.684 Q200.505 731.684 197.427 727.101 Q194.371 722.495 194.371 713.768 Q194.371 705.018 197.427 700.434 Q200.505 695.828 206.315 695.828 Z\" fill=\"#000000\" fill-rule=\"evenodd\" fill-opacity=\"1\" /><path clip-path=\"url(#clip640)\" d=\"M236.477 699.532 Q232.866 699.532 231.037 703.096 Q229.232 706.638 229.232 713.768 Q229.232 720.874 231.037 724.439 Q232.866 727.981 236.477 727.981 Q240.111 727.981 241.917 724.439 Q243.746 720.874 243.746 713.768 Q243.746 706.638 241.917 703.096 Q240.111 699.532 236.477 699.532 M236.477 695.828 Q242.287 695.828 245.343 700.434 Q248.422 705.018 248.422 713.768 Q248.422 722.495 245.343 727.101 Q242.287 731.684 236.477 731.684 Q230.667 731.684 227.588 727.101 Q224.533 722.495 224.533 713.768 Q224.533 705.018 227.588 700.434 Q230.667 695.828 236.477 695.828 Z\" fill=\"#000000\" fill-rule=\"evenodd\" fill-opacity=\"1\" /><path clip-path=\"url(#clip640)\" d=\"M266.639 699.532 Q263.028 699.532 261.199 703.096 Q259.394 706.638 259.394 713.768 Q259.394 720.874 261.199 724.439 Q263.028 727.981 266.639 727.981 Q270.273 727.981 272.079 724.439 Q273.908 720.874 273.908 713.768 Q273.908 706.638 272.079 703.096 Q270.273 699.532 266.639 699.532 M266.639 695.828 Q272.449 695.828 275.505 700.434 Q278.583 705.018 278.583 713.768 Q278.583 722.495 275.505 727.101 Q272.449 731.684 266.639 731.684 Q260.829 731.684 257.75 727.101 Q254.695 722.495 254.695 713.768 Q254.695 705.018 257.75 700.434 Q260.829 695.828 266.639 695.828 Z\" fill=\"#000000\" fill-rule=\"evenodd\" fill-opacity=\"1\" /><path clip-path=\"url(#clip640)\" d=\"M101.756 342.6 Q98.1447 342.6 96.316 346.165 Q94.5104 349.707 94.5104 356.836 Q94.5104 363.943 96.316 367.508 Q98.1447 371.049 101.756 371.049 Q105.39 371.049 107.196 367.508 Q109.024 363.943 109.024 356.836 Q109.024 349.707 107.196 346.165 Q105.39 342.6 101.756 342.6 M101.756 338.897 Q107.566 338.897 110.621 343.503 Q113.7 348.086 113.7 356.836 Q113.7 365.563 110.621 370.17 Q107.566 374.753 101.756 374.753 Q95.9456 374.753 92.8669 370.17 Q89.8114 365.563 89.8114 356.836 Q89.8114 348.086 92.8669 343.503 Q95.9456 338.897 101.756 338.897 Z\" fill=\"#000000\" fill-rule=\"evenodd\" fill-opacity=\"1\" /><path clip-path=\"url(#clip640)\" d=\"M121.918 368.202 L126.802 368.202 L126.802 374.082 L121.918 374.082 L121.918 368.202 Z\" fill=\"#000000\" fill-rule=\"evenodd\" fill-opacity=\"1\" /><path clip-path=\"url(#clip640)\" d=\"M146.987 342.6 Q143.376 342.6 141.547 346.165 Q139.742 349.707 139.742 356.836 Q139.742 363.943 141.547 367.508 Q143.376 371.049 146.987 371.049 Q150.621 371.049 152.427 367.508 Q154.255 363.943 154.255 356.836 Q154.255 349.707 152.427 346.165 Q150.621 342.6 146.987 342.6 M146.987 338.897 Q152.797 338.897 155.853 343.503 Q158.931 348.086 158.931 356.836 Q158.931 365.563 155.853 370.17 Q152.797 374.753 146.987 374.753 Q141.177 374.753 138.098 370.17 Q135.043 365.563 135.043 356.836 Q135.043 348.086 138.098 343.503 Q141.177 338.897 146.987 338.897 Z\" fill=\"#000000\" fill-rule=\"evenodd\" fill-opacity=\"1\" /><path clip-path=\"url(#clip640)\" d=\"M177.149 342.6 Q173.538 342.6 171.709 346.165 Q169.904 349.707 169.904 356.836 Q169.904 363.943 171.709 367.508 Q173.538 371.049 177.149 371.049 Q180.783 371.049 182.589 367.508 Q184.417 363.943 184.417 356.836 Q184.417 349.707 182.589 346.165 Q180.783 342.6 177.149 342.6 M177.149 338.897 Q182.959 338.897 186.015 343.503 Q189.093 348.086 189.093 356.836 Q189.093 365.563 186.015 370.17 Q182.959 374.753 177.149 374.753 Q171.339 374.753 168.26 370.17 Q165.204 365.563 165.204 356.836 Q165.204 348.086 168.26 343.503 Q171.339 338.897 177.149 338.897 Z\" fill=\"#000000\" fill-rule=\"evenodd\" fill-opacity=\"1\" /><path clip-path=\"url(#clip640)\" d=\"M207.311 342.6 Q203.7 342.6 201.871 346.165 Q200.065 349.707 200.065 356.836 Q200.065 363.943 201.871 367.508 Q203.7 371.049 207.311 371.049 Q210.945 371.049 212.751 367.508 Q214.579 363.943 214.579 356.836 Q214.579 349.707 212.751 346.165 Q210.945 342.6 207.311 342.6 M207.311 338.897 Q213.121 338.897 216.176 343.503 Q219.255 348.086 219.255 356.836 Q219.255 365.563 216.176 370.17 Q213.121 374.753 207.311 374.753 Q201.501 374.753 198.422 370.17 Q195.366 365.563 195.366 356.836 Q195.366 348.086 198.422 343.503 Q201.501 338.897 207.311 338.897 Z\" fill=\"#000000\" fill-rule=\"evenodd\" fill-opacity=\"1\" /><path clip-path=\"url(#clip640)\" d=\"M237.473 342.6 Q233.862 342.6 232.033 346.165 Q230.227 349.707 230.227 356.836 Q230.227 363.943 232.033 367.508 Q233.862 371.049 237.473 371.049 Q241.107 371.049 242.912 367.508 Q244.741 363.943 244.741 356.836 Q244.741 349.707 242.912 346.165 Q241.107 342.6 237.473 342.6 M237.473 338.897 Q243.283 338.897 246.338 343.503 Q249.417 348.086 249.417 356.836 Q249.417 365.563 246.338 370.17 Q243.283 374.753 237.473 374.753 Q231.662 374.753 228.584 370.17 Q225.528 365.563 225.528 356.836 Q225.528 348.086 228.584 343.503 Q231.662 338.897 237.473 338.897 Z\" fill=\"#000000\" fill-rule=\"evenodd\" fill-opacity=\"1\" /><path clip-path=\"url(#clip640)\" d=\"M257.681 339.522 L276.037 339.522 L276.037 343.457 L261.963 343.457 L261.963 351.929 Q262.982 351.582 264 351.42 Q265.019 351.235 266.037 351.235 Q271.824 351.235 275.204 354.406 Q278.583 357.577 278.583 362.994 Q278.583 368.572 275.111 371.674 Q271.639 374.753 265.32 374.753 Q263.144 374.753 260.875 374.383 Q258.63 374.012 256.223 373.272 L256.223 368.572 Q258.306 369.707 260.528 370.262 Q262.75 370.818 265.227 370.818 Q269.232 370.818 271.57 368.711 Q273.908 366.605 273.908 362.994 Q273.908 359.383 271.57 357.276 Q269.232 355.17 265.227 355.17 Q263.352 355.17 261.477 355.586 Q259.625 356.003 257.681 356.883 L257.681 339.522 Z\" fill=\"#000000\" fill-rule=\"evenodd\" fill-opacity=\"1\" /><polyline clip-path=\"url(#clip642)\" style=\"stroke:#009af9; stroke-linecap:round; stroke-linejoin:round; stroke-width:4; stroke-opacity:1; fill:none\" points=\"372.268,713.733 372.297,713.733 372.532,713.733 373.002,713.73 373.706,713.721 374.645,713.7 375.818,713.66 377.225,713.589 378.866,713.477 380.741,713.31 382.848,713.07 385.187,712.74 387.758,712.298 390.56,711.72 393.593,710.98 396.855,710.049 400.347,708.894 404.066,707.482 408.012,705.775 412.185,703.73 416.582,701.305 421.204,698.451 426.049,695.119 431.115,691.255 436.402,686.804 441.908,681.705 447.632,675.898 453.572,669.319 459.728,661.903 466.097,653.585 472.678,644.297 479.469,633.975 486.469,622.554 493.676,609.975 501.089,596.181 508.704,581.123 516.522,564.758 524.539,547.057 532.753,528.002 541.164,507.59 549.767,485.84 558.563,462.791 567.548,438.507 576.72,413.084 586.077,386.651 595.616,359.371 605.336,331.453 615.234,303.146 625.308,274.75 635.554,246.615 645.971,219.141 656.556,192.785 667.307,168.055 678.22,145.51 689.294,125.755 700.525,109.437 711.91,97.2354 723.448,89.8472 735.135,87.9763 746.968,92.313 758.944,103.513 771.061,122.173 783.315,148.803 795.703,183.797 808.224,227.398 820.872,279.673 833.646,340.474 846.542,409.417 859.557,485.856 872.688,568.863 885.931,657.228 899.284,749.46 912.743,843.804 926.305,938.28 939.967,1030.73 953.724,1118.89 967.575,1200.47 981.515,1273.25 995.541,1335.19 1009.65,1384.53 1023.84,1419.89 1038.1,1440.4 1052.44,1445.72 1066.84,1436.11 1081.31,1412.46 1095.84,1376.22 1110.43,1329.35 1125.08,1274.2 1139.77,1213.4 1154.51,1149.65 1169.3,1085.57 1184.13,1023.56 1198.99,965.629 1213.89,913.323 1228.81,867.648 1243.76,829.077 1258.74,797.598 1273.73,772.788 1288.73,753.929 1303.75,740.124 1318.77,730.408 1333.8,723.848 1348.83,719.608 1363.85,716.99 1378.87,715.452 1393.88,714.593 1408.87,714.14 1423.84,713.914 1438.79,713.809 1453.72,713.762 1468.61,713.744 1483.48,713.737 1498.3,713.734 1513.09,713.733 1527.83,713.733 1542.53,713.733 1557.17,713.733 1571.76,713.733 1586.29,713.733 1600.76,713.733 1615.17,713.733 1629.5,713.733 1643.77,713.733 1657.95,713.733 1672.06,713.733 1686.09,713.733 1700.03,713.733 1713.88,713.733 1727.64,713.733 1741.3,713.733 1754.86,713.733 1768.32,713.733 1781.67,713.733 1794.92,713.733 1808.05,713.733 1821.06,713.733 1833.96,713.733 1846.73,713.733 1859.38,713.733 1871.9,713.733 1884.29,713.733 1896.54,713.733 1908.66,713.733 1920.64,713.733 1932.47,713.733 1944.16,713.733 1955.69,713.733 1967.08,713.733 1978.31,713.733 1989.38,713.733 2000.3,713.733 2011.05,713.733 2021.63,713.733 2032.05,713.733 2042.3,713.733 2052.37,713.733 2062.27,713.733 2071.99,713.733 2081.53,713.733 2090.88,713.733 2100.06,713.733 2109.04,713.733 2117.84,713.733 2126.44,713.733 2134.85,713.733 2143.06,713.733 2151.08,713.733 2158.9,713.733 2166.51,713.733 2173.93,713.733 2181.13,713.733 2188.13,713.733 2194.93,713.733 2201.51,713.733 2207.88,713.733 2214.03,713.733 2219.97,713.733 2225.7,713.733 2231.2,713.733 2236.49,713.733 2241.56,713.733 2246.4,713.733 2251.02,713.733 2255.42,713.733 2259.59,713.733 2263.54,713.733 2267.26,713.733 2270.75,713.733 2274.01,713.733 2277.04,713.733 2279.85,713.733 2282.42,713.733 2284.76,713.733 2286.86,713.733 2288.74,713.733 2290.38,713.733 2291.79,713.733 2292.96,713.733 2293.9,713.733 2294.6,713.733 2295.07,713.733 \"/>\n",
       "<path clip-path=\"url(#clip640)\" d=\"M2028.57 198.898 L2284.82 198.898 L2284.82 95.2176 L2028.57 95.2176  Z\" fill=\"#ffffff\" fill-rule=\"evenodd\" fill-opacity=\"1\"/>\n",
       "<polyline clip-path=\"url(#clip640)\" style=\"stroke:#000000; stroke-linecap:round; stroke-linejoin:round; stroke-width:4; stroke-opacity:1; fill:none\" points=\"2028.57,198.898 2284.82,198.898 2284.82,95.2176 2028.57,95.2176 2028.57,198.898 \"/>\n",
       "<polyline clip-path=\"url(#clip640)\" style=\"stroke:#009af9; stroke-linecap:round; stroke-linejoin:round; stroke-width:4; stroke-opacity:1; fill:none\" points=\"2051.22,147.058 2187.09,147.058 \"/>\n",
       "<path clip-path=\"url(#clip640)\" d=\"M2223.58 166.745 Q2221.78 171.375 2220.06 172.787 Q2218.35 174.199 2215.48 174.199 L2212.08 174.199 L2212.08 170.634 L2214.58 170.634 Q2216.34 170.634 2217.31 169.8 Q2218.28 168.967 2219.46 165.865 L2220.23 163.921 L2209.74 138.412 L2214.25 138.412 L2222.36 158.689 L2230.46 138.412 L2234.97 138.412 L2223.58 166.745 Z\" fill=\"#000000\" fill-rule=\"evenodd\" fill-opacity=\"1\" /><path clip-path=\"url(#clip640)\" d=\"M2242.26 160.402 L2249.9 160.402 L2249.9 134.037 L2241.59 135.703 L2241.59 131.444 L2249.86 129.778 L2254.53 129.778 L2254.53 160.402 L2262.17 160.402 L2262.17 164.338 L2242.26 164.338 L2242.26 160.402 Z\" fill=\"#000000\" fill-rule=\"evenodd\" fill-opacity=\"1\" /></svg>\n"
      ]
     },
     "execution_count": 23,
     "metadata": {},
     "output_type": "execute_result"
    }
   ],
   "source": [
    "using Plots\n",
    "plot(initX1, derpsi_func(initX1))"
   ]
  },
  {
   "cell_type": "code",
   "execution_count": 66,
   "id": "6e1862b9",
   "metadata": {},
   "outputs": [
    {
     "data": {
      "text/plain": [
       "-1.5086563198078306e-16"
      ]
     },
     "execution_count": 66,
     "metadata": {},
     "output_type": "execute_result"
    }
   ],
   "source": [
    "m_func = Spline1D(initX[4:L-3],state_array[4:L-3,1],k=4)\n",
    "beta_func = Spline1D(initX[4:L-3],state_array[4:L-3,2],k=4)\n",
    "der_funcs=[derivative(m_func,initX) derivative(beta_func,initX) derivative(derpsi_func,initX)]\n",
    "der_funcs[2,1] # i is gridpoint, j is function"
   ]
  },
  {
   "cell_type": "code",
   "execution_count": 58,
   "id": "fe637a43",
   "metadata": {},
   "outputs": [
    {
     "data": {
      "text/plain": [
       "207-element Vector{Float64}:\n",
       " -3.6298572062043756e-16\n",
       " -1.5086563198078306e-16\n",
       " -4.2846357130174216e-17\n",
       " -3.826449677788914e-18\n",
       "  1.2955367671949918e-18\n",
       "  7.621048595599677e-18\n",
       "  5.1885306005563256e-17\n",
       "  2.109734086495333e-16\n",
       "  6.633715930192716e-16\n",
       "  1.768094158067992e-15\n",
       "  4.2032891114686175e-15\n",
       "  9.186535719427543e-15\n",
       "  1.882331476354324e-14\n",
       "  ⋮\n",
       " -3.776355223175436e-19\n",
       " -1.7646519734465227e-20\n",
       "  1.0587911840678348e-20\n",
       "  2.2651714422785337e-19\n",
       " -1.4750589189488752e-19\n",
       " -3.7472920178666525e-19\n",
       "  6.78866591885402e-20\n",
       " -2.96640705754548e-20\n",
       "  5.421010862427541e-19\n",
       "  3.1064380724396854e-18\n",
       "  8.986602830812212e-18\n",
       "  1.9505851304156383e-17"
      ]
     },
     "execution_count": 58,
     "metadata": {},
     "output_type": "execute_result"
    }
   ],
   "source": [
    "derivative(m_func,initX)"
   ]
  },
  {
   "cell_type": "code",
   "execution_count": null,
   "id": "ad5a5420",
   "metadata": {},
   "outputs": [],
   "source": []
  },
  {
   "cell_type": "code",
   "execution_count": null,
   "id": "45f11e59",
   "metadata": {},
   "outputs": [],
   "source": []
  },
  {
   "cell_type": "code",
   "execution_count": 166,
   "id": "ebb47395",
   "metadata": {},
   "outputs": [
    {
     "data": {
      "text/plain": [
       "3.9599527939805415e-10"
      ]
     },
     "execution_count": 166,
     "metadata": {},
     "output_type": "execute_result"
    }
   ],
   "source": [
    "derivative(derpsi_func,initX1[1])"
   ]
  },
  {
   "cell_type": "code",
   "execution_count": 163,
   "id": "f9796baf",
   "metadata": {},
   "outputs": [
    {
     "data": {
      "text/plain": [
       "3.9599527939805415e-10"
      ]
     },
     "execution_count": 163,
     "metadata": {},
     "output_type": "execute_result"
    }
   ],
   "source": [
    "derivative(derpsi_func,initX1)[1]"
   ]
  },
  {
   "cell_type": "code",
   "execution_count": 161,
   "id": "7901660a",
   "metadata": {},
   "outputs": [
    {
     "data": {
      "text/plain": [
       "3.9599527939805415e-10"
      ]
     },
     "execution_count": 161,
     "metadata": {},
     "output_type": "execute_result"
    }
   ],
   "source": [
    "derivative(derpsi_func,initX)[4]"
   ]
  },
  {
   "cell_type": "code",
   "execution_count": null,
   "id": "281f96fd",
   "metadata": {},
   "outputs": [],
   "source": []
  },
  {
   "cell_type": "code",
   "execution_count": null,
   "id": "07ddc6d6",
   "metadata": {},
   "outputs": [],
   "source": []
  },
  {
   "cell_type": "code",
   "execution_count": null,
   "id": "61c7c8bd",
   "metadata": {},
   "outputs": [],
   "source": []
  },
  {
   "cell_type": "code",
   "execution_count": null,
   "id": "3ec9634d",
   "metadata": {},
   "outputs": [],
   "source": [
    "aux=doublegrid(initX1)\n",
    "\n",
    "using Plots\n",
    "plot(aux, derpsi_func(aux).-init_gaussian_der(aux,r0,sigma,A), xaxis=\"x\",title=\"Initial Data\", labels=[\"m\" \"beta\" \"psi\" \"psi,x\"])#, ylim=[0, 10^(-13)])\n",
    "\n",
    "##\n",
    "\n",
    "x2=aux\n",
    "y2=derpsi_func(aux).-init_gaussian_der(aux,r0,sigma,A);\n",
    "\n",
    "##\n",
    "\n",
    "double_resolution=y2\n",
    "basis_resolution=y1\n",
    "xs = ( x1, x2 )\n",
    "ys = ( basis_resolution, double_resolution*16*4 )\n",
    "p = plot()\n",
    "map(x->plot!(x[1],x[2],xaxis=\"x\",title=\"Interpolation error\", legend=false), zip(xs, ys))\n",
    "display(p)\n",
    "     "
   ]
  }
 ],
 "metadata": {
  "@webio": {
   "lastCommId": null,
   "lastKernelId": null
  },
  "kernelspec": {
   "display_name": "Julia 1.8.0",
   "language": "julia",
   "name": "julia-1.8"
  },
  "language_info": {
   "file_extension": ".jl",
   "mimetype": "application/julia",
   "name": "julia",
   "version": "1.8.0"
  },
  "papermill": {
   "default_parameters": {},
   "duration": 7025.507115,
   "end_time": "2023-03-28T20:03:06.430756",
   "environment_variables": {},
   "exception": null,
   "input_path": "Evolution_ScalarField.ipynb",
   "output_path": "Evolution_ScalarField.ipynb",
   "parameters": {
    "A": 0.001,
    "m": 3
   },
   "start_time": "2023-03-28T18:06:00.923641",
   "version": "2.4.0"
  }
 },
 "nbformat": 4,
 "nbformat_minor": 5
}
