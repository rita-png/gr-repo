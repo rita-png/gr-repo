{
 "cells": [
  {
   "cell_type": "markdown",
   "id": "d88601a8",
   "metadata": {
    "papermill": {
     "duration": 0.015163,
     "end_time": "2023-06-25T23:42:57.186088",
     "exception": false,
     "start_time": "2023-06-25T23:42:57.170925",
     "status": "completed"
    },
    "tags": []
   },
   "source": [
    "# Evolution of Einstein's equations"
   ]
  },
  {
   "cell_type": "markdown",
   "id": "03c607c7",
   "metadata": {
    "papermill": {
     "duration": 0.010424,
     "end_time": "2023-06-25T23:42:57.208893",
     "exception": false,
     "start_time": "2023-06-25T23:42:57.198469",
     "status": "completed"
    },
    "tags": []
   },
   "source": [
    "# Initial data , setting length of the domain and discretization\n"
   ]
  },
  {
   "cell_type": "code",
   "execution_count": 306,
   "id": "28f9b745",
   "metadata": {
    "execution": {
     "iopub.execute_input": "2023-06-26T00:42:59.100000Z",
     "iopub.status.busy": "2023-06-26T00:42:59.099000Z",
     "iopub.status.idle": "2023-06-26T00:42:59.434000Z",
     "shell.execute_reply": "2023-06-26T00:42:59.433000Z"
    },
    "papermill": {
     "duration": 0.350967,
     "end_time": "2023-06-25T23:42:59.438671",
     "exception": false,
     "start_time": "2023-06-25T23:42:59.087704",
     "status": "completed"
    },
    "tags": []
   },
   "outputs": [
    {
     "data": {
      "text/plain": [
       "1"
      ]
     },
     "execution_count": 306,
     "metadata": {},
     "output_type": "execute_result"
    }
   ],
   "source": [
    "m = 1\n",
    "A = 0.001#0.0492646484375#0.001#0.049375#5#0.0492645084166179#0.049264507293701174#0.049264508247375494#0.04925#0.0493#0.001#0.049375#0.07#0.05#0.1124921875#0.125\n",
    "run = 1"
   ]
  },
  {
   "cell_type": "code",
   "execution_count": 307,
   "id": "2ff5e8df",
   "metadata": {
    "execution": {
     "iopub.execute_input": "2023-06-26T00:42:59.466000Z",
     "iopub.status.busy": "2023-06-26T00:42:59.466000Z",
     "iopub.status.idle": "2023-06-26T00:42:59.523000Z",
     "shell.execute_reply": "2023-06-26T00:42:59.522000Z"
    },
    "papermill": {
     "duration": 0.071685,
     "end_time": "2023-06-25T23:42:59.525548",
     "exception": false,
     "start_time": "2023-06-25T23:42:59.453863",
     "status": "completed"
    },
    "tags": []
   },
   "outputs": [],
   "source": [
    "global loggrid=true#true\n",
    "global bisection=false\n",
    "global meshrefinement=false;"
   ]
  },
  {
   "cell_type": "code",
   "execution_count": 308,
   "id": "80a113e0",
   "metadata": {
    "execution": {
     "iopub.execute_input": "2023-06-26T00:42:59.552000Z",
     "iopub.status.busy": "2023-06-26T00:42:59.552000Z",
     "iopub.status.idle": "2023-06-26T00:42:59.621000Z",
     "shell.execute_reply": "2023-06-26T00:42:59.621000Z"
    },
    "papermill": {
     "duration": 0.08251,
     "end_time": "2023-06-25T23:42:59.622720",
     "exception": false,
     "start_time": "2023-06-25T23:42:59.540210",
     "status": "completed"
    },
    "tags": []
   },
   "outputs": [],
   "source": [
    "using Quadmath, Printf\n",
    "\n",
    "res=m;\n",
    "N=2.0^m*100.0#2.0^m*1000.0/2.0#Nt=2.0^m*1000.0/2.0\n",
    "Xf=1.0#Float128(1.0);\n",
    "\n",
    "dx=Xf/N#Float128(Xf/N);\n",
    "if loggrid==false\n",
    "    dt=0.5*round(dx,digits=10)\n",
    "else\n",
    "    dt=0.1*round(dx,digits=10)\n",
    "end\n",
    "Nt=2.0^m*100.0#2.0^m*1000.0/2.0#Nt=2.0^m*1000.0/2.0\n",
    "Tf=Nt*dt; #final time\n",
    "#print(Tf)"
   ]
  },
  {
   "cell_type": "code",
   "execution_count": 309,
   "id": "4f752d54",
   "metadata": {
    "execution": {
     "iopub.execute_input": "2023-06-26T00:42:59.638000Z",
     "iopub.status.busy": "2023-06-26T00:42:59.638000Z",
     "iopub.status.idle": "2023-06-26T00:42:59.702000Z",
     "shell.execute_reply": "2023-06-26T00:42:59.702000Z"
    },
    "papermill": {
     "duration": 0.077298,
     "end_time": "2023-06-25T23:42:59.707408",
     "exception": false,
     "start_time": "2023-06-25T23:42:59.630110",
     "status": "completed"
    },
    "tags": []
   },
   "outputs": [
    {
     "name": "stdout",
     "output_type": "stream",
     "text": [
      "200.0"
     ]
    }
   ],
   "source": [
    "print(N)"
   ]
  },
  {
   "cell_type": "code",
   "execution_count": 310,
   "id": "ad48576a",
   "metadata": {
    "execution": {
     "iopub.execute_input": "2023-06-26T00:42:59.729000Z",
     "iopub.status.busy": "2023-06-26T00:42:59.729000Z",
     "iopub.status.idle": "2023-06-26T00:42:59.783000Z",
     "shell.execute_reply": "2023-06-26T00:42:59.783000Z"
    },
    "papermill": {
     "duration": 0.067163,
     "end_time": "2023-06-25T23:42:59.787014",
     "exception": false,
     "start_time": "2023-06-25T23:42:59.719851",
     "status": "completed"
    },
    "tags": []
   },
   "outputs": [
    {
     "name": "stdout",
     "output_type": "stream",
     "text": [
      "dx =0.005\n",
      "dt =0.0005\n",
      "dx/dt =10.0\n"
     ]
    }
   ],
   "source": [
    "println(\"dx =\", dx)\n",
    "println(\"dt =\", dt)\n",
    "println(\"dx/dt =\", dx/dt)"
   ]
  },
  {
   "cell_type": "code",
   "execution_count": 311,
   "id": "78fb78a5",
   "metadata": {
    "execution": {
     "iopub.execute_input": "2023-06-26T00:42:59.810000Z",
     "iopub.status.busy": "2023-06-26T00:42:59.810000Z",
     "iopub.status.idle": "2023-06-26T00:43:00.498000Z",
     "shell.execute_reply": "2023-06-26T00:43:00.497000Z"
    },
    "papermill": {
     "duration": 0.702356,
     "end_time": "2023-06-25T23:43:00.502911",
     "exception": false,
     "start_time": "2023-06-25T23:42:59.800555",
     "status": "completed"
    },
    "tags": []
   },
   "outputs": [
    {
     "data": {
      "text/plain": [
       "\"/home/rita13santos/Desktop/MSc Thesis/Git/ScalarField/DATA\""
      ]
     },
     "execution_count": 311,
     "metadata": {},
     "output_type": "execute_result"
    }
   ],
   "source": [
    "global dir = \"/home/rita13santos/Desktop/MSc Thesis/Git/ScalarField/DATA\" #~/data/ritapsantos/\n",
    "#global dir = \"/home/rita13santos/Desktop/MSc Thesis/Git/ScalarField/DATA\""
   ]
  },
  {
   "cell_type": "markdown",
   "id": "e2dd4335",
   "metadata": {
    "papermill": {
     "duration": 0.006798,
     "end_time": "2023-06-25T23:43:00.521277",
     "exception": false,
     "start_time": "2023-06-25T23:43:00.514479",
     "status": "completed"
    },
    "tags": []
   },
   "source": [
    "# Grid"
   ]
  },
  {
   "cell_type": "code",
   "execution_count": 312,
   "id": "bc5288f8",
   "metadata": {
    "execution": {
     "iopub.execute_input": "2023-06-26T00:43:00.535000Z",
     "iopub.status.busy": "2023-06-26T00:43:00.535000Z",
     "iopub.status.idle": "2023-06-26T00:43:00.813000Z",
     "shell.execute_reply": "2023-06-26T00:43:00.812000Z"
    },
    "papermill": {
     "duration": 0.288149,
     "end_time": "2023-06-25T23:43:00.816198",
     "exception": false,
     "start_time": "2023-06-25T23:43:00.528049",
     "status": "completed"
    },
    "tags": []
   },
   "outputs": [],
   "source": [
    "using Printf\n",
    "include(\"./ScalarField.jl\");"
   ]
  },
  {
   "cell_type": "code",
   "execution_count": 313,
   "id": "de24fea3",
   "metadata": {
    "execution": {
     "iopub.execute_input": "2023-06-26T00:43:00.841000Z",
     "iopub.status.busy": "2023-06-26T00:43:00.841000Z",
     "iopub.status.idle": "2023-06-26T00:43:01.456000Z",
     "shell.execute_reply": "2023-06-26T00:43:01.456000Z"
    },
    "papermill": {
     "duration": 0.631177,
     "end_time": "2023-06-25T23:43:01.461452",
     "exception": false,
     "start_time": "2023-06-25T23:43:00.830275",
     "status": "completed"
    },
    "tags": []
   },
   "outputs": [
    {
     "name": "stdout",
     "output_type": "stream",
     "text": [
      "step size is  0.005\n",
      "the time step is 0.0005\n"
     ]
    }
   ],
   "source": [
    "ori=0.0#Float128(0.0)#0.0;\n",
    "initX1 = nothing\n",
    "N=int(N)\n",
    "initX1=range(ori, stop=Xf, step=dx);\n",
    "#initX1=create_range(ori,Xf,dx,N)\n",
    "initX = range(round(ori-3.0*dx,digits=10), stop=Xf+3.0*dx, step=dx)\n",
    "#initX=create_range(ori-3.0*dx,Xf+3.0*dx,dx,N+6)\n",
    "\n",
    "L=length(initX);\n",
    "println(\"step size is  \", dx)\n",
    "println(\"the time step is \", dt)\n",
    "\n",
    "if loggrid==true\n",
    "    \"\"\"global originalX=initX\n",
    "    xtilde=gridfunc(initX1)\n",
    "    initX1=xtilde\n",
    "    initX=collect(initX)\n",
    "    initX[4:L-3]=xtilde\"\"\"\n",
    "    global originalX=initX\n",
    "    xtilde=gridfunc(initX1)\n",
    "    initX1=xtilde\n",
    "    initX=collect(initX)\n",
    "    initX[4:L-4]=xtilde[1:length(xtilde)-1]\n",
    "end;"
   ]
  },
  {
   "cell_type": "code",
   "execution_count": 314,
   "id": "46b7c021",
   "metadata": {},
   "outputs": [
    {
     "data": {
      "image/svg+xml": [
       "<?xml version=\"1.0\" encoding=\"utf-8\"?>\n",
       "<svg xmlns=\"http://www.w3.org/2000/svg\" xmlns:xlink=\"http://www.w3.org/1999/xlink\" width=\"600\" height=\"400\" viewBox=\"0 0 2400 1600\">\n",
       "<defs>\n",
       "  <clipPath id=\"clip290\">\n",
       "    <rect x=\"0\" y=\"0\" width=\"2400\" height=\"1600\"/>\n",
       "  </clipPath>\n",
       "</defs>\n",
       "<path clip-path=\"url(#clip290)\" d=\"M0 1600 L2400 1600 L2400 0 L0 0  Z\" fill=\"#ffffff\" fill-rule=\"evenodd\" fill-opacity=\"1\"/>\n",
       "<defs>\n",
       "  <clipPath id=\"clip291\">\n",
       "    <rect x=\"480\" y=\"0\" width=\"1681\" height=\"1600\"/>\n",
       "  </clipPath>\n",
       "</defs>\n",
       "<path clip-path=\"url(#clip290)\" d=\"M193.936 1486.45 L2352.76 1486.45 L2352.76 47.2441 L193.936 47.2441  Z\" fill=\"#ffffff\" fill-rule=\"evenodd\" fill-opacity=\"1\"/>\n",
       "<defs>\n",
       "  <clipPath id=\"clip292\">\n",
       "    <rect x=\"193\" y=\"47\" width=\"2160\" height=\"1440\"/>\n",
       "  </clipPath>\n",
       "</defs>\n",
       "<polyline clip-path=\"url(#clip292)\" style=\"stroke:#000000; stroke-linecap:round; stroke-linejoin:round; stroke-width:2; stroke-opacity:0.1; fill:none\" points=\"193.936,1486.45 193.936,47.2441 \"/>\n",
       "<polyline clip-path=\"url(#clip292)\" style=\"stroke:#000000; stroke-linecap:round; stroke-linejoin:round; stroke-width:2; stroke-opacity:0.1; fill:none\" points=\"625.7,1486.45 625.7,47.2441 \"/>\n",
       "<polyline clip-path=\"url(#clip292)\" style=\"stroke:#000000; stroke-linecap:round; stroke-linejoin:round; stroke-width:2; stroke-opacity:0.1; fill:none\" points=\"1057.46,1486.45 1057.46,47.2441 \"/>\n",
       "<polyline clip-path=\"url(#clip292)\" style=\"stroke:#000000; stroke-linecap:round; stroke-linejoin:round; stroke-width:2; stroke-opacity:0.1; fill:none\" points=\"1489.23,1486.45 1489.23,47.2441 \"/>\n",
       "<polyline clip-path=\"url(#clip292)\" style=\"stroke:#000000; stroke-linecap:round; stroke-linejoin:round; stroke-width:2; stroke-opacity:0.1; fill:none\" points=\"1920.99,1486.45 1920.99,47.2441 \"/>\n",
       "<polyline clip-path=\"url(#clip290)\" style=\"stroke:#000000; stroke-linecap:round; stroke-linejoin:round; stroke-width:4; stroke-opacity:1; fill:none\" points=\"193.936,1486.45 2352.76,1486.45 \"/>\n",
       "<polyline clip-path=\"url(#clip290)\" style=\"stroke:#000000; stroke-linecap:round; stroke-linejoin:round; stroke-width:4; stroke-opacity:1; fill:none\" points=\"193.936,1486.45 193.936,1467.55 \"/>\n",
       "<polyline clip-path=\"url(#clip290)\" style=\"stroke:#000000; stroke-linecap:round; stroke-linejoin:round; stroke-width:4; stroke-opacity:1; fill:none\" points=\"625.7,1486.45 625.7,1467.55 \"/>\n",
       "<polyline clip-path=\"url(#clip290)\" style=\"stroke:#000000; stroke-linecap:round; stroke-linejoin:round; stroke-width:4; stroke-opacity:1; fill:none\" points=\"1057.46,1486.45 1057.46,1467.55 \"/>\n",
       "<polyline clip-path=\"url(#clip290)\" style=\"stroke:#000000; stroke-linecap:round; stroke-linejoin:round; stroke-width:4; stroke-opacity:1; fill:none\" points=\"1489.23,1486.45 1489.23,1467.55 \"/>\n",
       "<polyline clip-path=\"url(#clip290)\" style=\"stroke:#000000; stroke-linecap:round; stroke-linejoin:round; stroke-width:4; stroke-opacity:1; fill:none\" points=\"1920.99,1486.45 1920.99,1467.55 \"/>\n",
       "<path clip-path=\"url(#clip290)\" d=\"M156.239 1517.37 Q152.628 1517.37 150.8 1520.93 Q148.994 1524.47 148.994 1531.6 Q148.994 1538.71 150.8 1542.27 Q152.628 1545.82 156.239 1545.82 Q159.874 1545.82 161.679 1542.27 Q163.508 1538.71 163.508 1531.6 Q163.508 1524.47 161.679 1520.93 Q159.874 1517.37 156.239 1517.37 M156.239 1513.66 Q162.05 1513.66 165.105 1518.27 Q168.184 1522.85 168.184 1531.6 Q168.184 1540.33 165.105 1544.94 Q162.05 1549.52 156.239 1549.52 Q150.429 1549.52 147.351 1544.94 Q144.295 1540.33 144.295 1531.6 Q144.295 1522.85 147.351 1518.27 Q150.429 1513.66 156.239 1513.66 Z\" fill=\"#000000\" fill-rule=\"evenodd\" fill-opacity=\"1\" /><path clip-path=\"url(#clip290)\" d=\"M176.401 1542.97 L181.286 1542.97 L181.286 1548.85 L176.401 1548.85 L176.401 1542.97 Z\" fill=\"#000000\" fill-rule=\"evenodd\" fill-opacity=\"1\" /><path clip-path=\"url(#clip290)\" d=\"M191.61 1548.13 L191.61 1543.87 Q193.369 1544.7 195.174 1545.14 Q196.98 1545.58 198.716 1545.58 Q203.346 1545.58 205.776 1542.48 Q208.23 1539.36 208.577 1533.01 Q207.235 1535.01 205.174 1536.07 Q203.114 1537.13 200.614 1537.13 Q195.429 1537.13 192.397 1534.01 Q189.387 1530.86 189.387 1525.42 Q189.387 1520.1 192.536 1516.88 Q195.684 1513.66 200.915 1513.66 Q206.91 1513.66 210.059 1518.27 Q213.23 1522.85 213.23 1531.6 Q213.23 1539.77 209.341 1544.66 Q205.475 1549.52 198.924 1549.52 Q197.165 1549.52 195.36 1549.17 Q193.554 1548.82 191.61 1548.13 M200.915 1533.48 Q204.063 1533.48 205.892 1531.32 Q207.744 1529.17 207.744 1525.42 Q207.744 1521.7 205.892 1519.54 Q204.063 1517.37 200.915 1517.37 Q197.767 1517.37 195.915 1519.54 Q194.086 1521.7 194.086 1525.42 Q194.086 1529.17 195.915 1531.32 Q197.767 1533.48 200.915 1533.48 Z\" fill=\"#000000\" fill-rule=\"evenodd\" fill-opacity=\"1\" /><path clip-path=\"url(#clip290)\" d=\"M231.633 1517.37 Q228.021 1517.37 226.193 1520.93 Q224.387 1524.47 224.387 1531.6 Q224.387 1538.71 226.193 1542.27 Q228.021 1545.82 231.633 1545.82 Q235.267 1545.82 237.072 1542.27 Q238.901 1538.71 238.901 1531.6 Q238.901 1524.47 237.072 1520.93 Q235.267 1517.37 231.633 1517.37 M231.633 1513.66 Q237.443 1513.66 240.498 1518.27 Q243.577 1522.85 243.577 1531.6 Q243.577 1540.33 240.498 1544.94 Q237.443 1549.52 231.633 1549.52 Q225.822 1549.52 222.744 1544.94 Q219.688 1540.33 219.688 1531.6 Q219.688 1522.85 222.744 1518.27 Q225.822 1513.66 231.633 1513.66 Z\" fill=\"#000000\" fill-rule=\"evenodd\" fill-opacity=\"1\" /><path clip-path=\"url(#clip290)\" d=\"M588.802 1517.37 Q585.191 1517.37 583.362 1520.93 Q581.557 1524.47 581.557 1531.6 Q581.557 1538.71 583.362 1542.27 Q585.191 1545.82 588.802 1545.82 Q592.436 1545.82 594.242 1542.27 Q596.071 1538.71 596.071 1531.6 Q596.071 1524.47 594.242 1520.93 Q592.436 1517.37 588.802 1517.37 M588.802 1513.66 Q594.612 1513.66 597.668 1518.27 Q600.746 1522.85 600.746 1531.6 Q600.746 1540.33 597.668 1544.94 Q594.612 1549.52 588.802 1549.52 Q582.992 1549.52 579.913 1544.94 Q576.858 1540.33 576.858 1531.6 Q576.858 1522.85 579.913 1518.27 Q582.992 1513.66 588.802 1513.66 Z\" fill=\"#000000\" fill-rule=\"evenodd\" fill-opacity=\"1\" /><path clip-path=\"url(#clip290)\" d=\"M608.964 1542.97 L613.848 1542.97 L613.848 1548.85 L608.964 1548.85 L608.964 1542.97 Z\" fill=\"#000000\" fill-rule=\"evenodd\" fill-opacity=\"1\" /><path clip-path=\"url(#clip290)\" d=\"M624.172 1548.13 L624.172 1543.87 Q625.931 1544.7 627.737 1545.14 Q629.543 1545.58 631.279 1545.58 Q635.908 1545.58 638.339 1542.48 Q640.792 1539.36 641.14 1533.01 Q639.797 1535.01 637.737 1536.07 Q635.677 1537.13 633.177 1537.13 Q627.992 1537.13 624.959 1534.01 Q621.95 1530.86 621.95 1525.42 Q621.95 1520.1 625.098 1516.88 Q628.246 1513.66 633.478 1513.66 Q639.473 1513.66 642.621 1518.27 Q645.792 1522.85 645.792 1531.6 Q645.792 1539.77 641.904 1544.66 Q638.038 1549.52 631.487 1549.52 Q629.728 1549.52 627.922 1549.17 Q626.117 1548.82 624.172 1548.13 M633.478 1533.48 Q636.626 1533.48 638.455 1531.32 Q640.306 1529.17 640.306 1525.42 Q640.306 1521.7 638.455 1519.54 Q636.626 1517.37 633.478 1517.37 Q630.33 1517.37 628.478 1519.54 Q626.649 1521.7 626.649 1525.42 Q626.649 1529.17 628.478 1531.32 Q630.33 1533.48 633.478 1533.48 Z\" fill=\"#000000\" fill-rule=\"evenodd\" fill-opacity=\"1\" /><path clip-path=\"url(#clip290)\" d=\"M658.223 1544.91 L674.542 1544.91 L674.542 1548.85 L652.598 1548.85 L652.598 1544.91 Q655.26 1542.16 659.843 1537.53 Q664.45 1532.88 665.63 1531.53 Q667.876 1529.01 668.755 1527.27 Q669.658 1525.51 669.658 1523.82 Q669.658 1521.07 667.714 1519.33 Q665.792 1517.6 662.691 1517.6 Q660.491 1517.6 658.038 1518.36 Q655.607 1519.13 652.829 1520.68 L652.829 1515.95 Q655.654 1514.82 658.107 1514.24 Q660.561 1513.66 662.598 1513.66 Q667.968 1513.66 671.163 1516.35 Q674.357 1519.03 674.357 1523.52 Q674.357 1525.65 673.547 1527.57 Q672.76 1529.47 670.653 1532.07 Q670.075 1532.74 666.973 1535.95 Q663.871 1539.15 658.223 1544.91 Z\" fill=\"#000000\" fill-rule=\"evenodd\" fill-opacity=\"1\" /><path clip-path=\"url(#clip290)\" d=\"M1019.52 1517.37 Q1015.91 1517.37 1014.08 1520.93 Q1012.28 1524.47 1012.28 1531.6 Q1012.28 1538.71 1014.08 1542.27 Q1015.91 1545.82 1019.52 1545.82 Q1023.16 1545.82 1024.96 1542.27 Q1026.79 1538.71 1026.79 1531.6 Q1026.79 1524.47 1024.96 1520.93 Q1023.16 1517.37 1019.52 1517.37 M1019.52 1513.66 Q1025.33 1513.66 1028.39 1518.27 Q1031.47 1522.85 1031.47 1531.6 Q1031.47 1540.33 1028.39 1544.94 Q1025.33 1549.52 1019.52 1549.52 Q1013.71 1549.52 1010.64 1544.94 Q1007.58 1540.33 1007.58 1531.6 Q1007.58 1522.85 1010.64 1518.27 Q1013.71 1513.66 1019.52 1513.66 Z\" fill=\"#000000\" fill-rule=\"evenodd\" fill-opacity=\"1\" /><path clip-path=\"url(#clip290)\" d=\"M1039.69 1542.97 L1044.57 1542.97 L1044.57 1548.85 L1039.69 1548.85 L1039.69 1542.97 Z\" fill=\"#000000\" fill-rule=\"evenodd\" fill-opacity=\"1\" /><path clip-path=\"url(#clip290)\" d=\"M1054.89 1548.13 L1054.89 1543.87 Q1056.65 1544.7 1058.46 1545.14 Q1060.26 1545.58 1062 1545.58 Q1066.63 1545.58 1069.06 1542.48 Q1071.51 1539.36 1071.86 1533.01 Q1070.52 1535.01 1068.46 1536.07 Q1066.4 1537.13 1063.9 1537.13 Q1058.71 1537.13 1055.68 1534.01 Q1052.67 1530.86 1052.67 1525.42 Q1052.67 1520.1 1055.82 1516.88 Q1058.97 1513.66 1064.2 1513.66 Q1070.2 1513.66 1073.34 1518.27 Q1076.51 1522.85 1076.51 1531.6 Q1076.51 1539.77 1072.63 1544.66 Q1068.76 1549.52 1062.21 1549.52 Q1060.45 1549.52 1058.64 1549.17 Q1056.84 1548.82 1054.89 1548.13 M1064.2 1533.48 Q1067.35 1533.48 1069.18 1531.32 Q1071.03 1529.17 1071.03 1525.42 Q1071.03 1521.7 1069.18 1519.54 Q1067.35 1517.37 1064.2 1517.37 Q1061.05 1517.37 1059.2 1519.54 Q1057.37 1521.7 1057.37 1525.42 Q1057.37 1529.17 1059.2 1531.32 Q1061.05 1533.48 1064.2 1533.48 Z\" fill=\"#000000\" fill-rule=\"evenodd\" fill-opacity=\"1\" /><path clip-path=\"url(#clip290)\" d=\"M1097.76 1518.36 L1085.96 1536.81 L1097.76 1536.81 L1097.76 1518.36 M1096.54 1514.29 L1102.42 1514.29 L1102.42 1536.81 L1107.35 1536.81 L1107.35 1540.7 L1102.42 1540.7 L1102.42 1548.85 L1097.76 1548.85 L1097.76 1540.7 L1082.16 1540.7 L1082.16 1536.19 L1096.54 1514.29 Z\" fill=\"#000000\" fill-rule=\"evenodd\" fill-opacity=\"1\" /><path clip-path=\"url(#clip290)\" d=\"M1451.45 1517.37 Q1447.84 1517.37 1446.01 1520.93 Q1444.21 1524.47 1444.21 1531.6 Q1444.21 1538.71 1446.01 1542.27 Q1447.84 1545.82 1451.45 1545.82 Q1455.08 1545.82 1456.89 1542.27 Q1458.72 1538.71 1458.72 1531.6 Q1458.72 1524.47 1456.89 1520.93 Q1455.08 1517.37 1451.45 1517.37 M1451.45 1513.66 Q1457.26 1513.66 1460.32 1518.27 Q1463.39 1522.85 1463.39 1531.6 Q1463.39 1540.33 1460.32 1544.94 Q1457.26 1549.52 1451.45 1549.52 Q1445.64 1549.52 1442.56 1544.94 Q1439.51 1540.33 1439.51 1531.6 Q1439.51 1522.85 1442.56 1518.27 Q1445.64 1513.66 1451.45 1513.66 Z\" fill=\"#000000\" fill-rule=\"evenodd\" fill-opacity=\"1\" /><path clip-path=\"url(#clip290)\" d=\"M1471.61 1542.97 L1476.5 1542.97 L1476.5 1548.85 L1471.61 1548.85 L1471.61 1542.97 Z\" fill=\"#000000\" fill-rule=\"evenodd\" fill-opacity=\"1\" /><path clip-path=\"url(#clip290)\" d=\"M1486.82 1548.13 L1486.82 1543.87 Q1488.58 1544.7 1490.39 1545.14 Q1492.19 1545.58 1493.93 1545.58 Q1498.56 1545.58 1500.99 1542.48 Q1503.44 1539.36 1503.79 1533.01 Q1502.45 1535.01 1500.39 1536.07 Q1498.33 1537.13 1495.83 1537.13 Q1490.64 1537.13 1487.61 1534.01 Q1484.6 1530.86 1484.6 1525.42 Q1484.6 1520.1 1487.75 1516.88 Q1490.89 1513.66 1496.13 1513.66 Q1502.12 1513.66 1505.27 1518.27 Q1508.44 1522.85 1508.44 1531.6 Q1508.44 1539.77 1504.55 1544.66 Q1500.69 1549.52 1494.14 1549.52 Q1492.38 1549.52 1490.57 1549.17 Q1488.76 1548.82 1486.82 1548.13 M1496.13 1533.48 Q1499.27 1533.48 1501.1 1531.32 Q1502.95 1529.17 1502.95 1525.42 Q1502.95 1521.7 1501.1 1519.54 Q1499.27 1517.37 1496.13 1517.37 Q1492.98 1517.37 1491.13 1519.54 Q1489.3 1521.7 1489.3 1525.42 Q1489.3 1529.17 1491.13 1531.32 Q1492.98 1533.48 1496.13 1533.48 Z\" fill=\"#000000\" fill-rule=\"evenodd\" fill-opacity=\"1\" /><path clip-path=\"url(#clip290)\" d=\"M1527.42 1529.7 Q1524.27 1529.7 1522.42 1531.86 Q1520.59 1534.01 1520.59 1537.76 Q1520.59 1541.49 1522.42 1543.66 Q1524.27 1545.82 1527.42 1545.82 Q1530.57 1545.82 1532.4 1543.66 Q1534.25 1541.49 1534.25 1537.76 Q1534.25 1534.01 1532.4 1531.86 Q1530.57 1529.7 1527.42 1529.7 M1536.7 1515.05 L1536.7 1519.31 Q1534.95 1518.48 1533.14 1518.04 Q1531.36 1517.6 1529.6 1517.6 Q1524.97 1517.6 1522.51 1520.72 Q1520.08 1523.85 1519.74 1530.17 Q1521.1 1528.15 1523.16 1527.09 Q1525.22 1526 1527.7 1526 Q1532.91 1526 1535.92 1529.17 Q1538.95 1532.32 1538.95 1537.76 Q1538.95 1543.08 1535.8 1546.3 Q1532.65 1549.52 1527.42 1549.52 Q1521.43 1549.52 1518.26 1544.94 Q1515.08 1540.33 1515.08 1531.6 Q1515.08 1523.41 1518.97 1518.55 Q1522.86 1513.66 1529.41 1513.66 Q1531.17 1513.66 1532.95 1514.01 Q1534.76 1514.36 1536.7 1515.05 Z\" fill=\"#000000\" fill-rule=\"evenodd\" fill-opacity=\"1\" /><path clip-path=\"url(#clip290)\" d=\"M1883.34 1517.37 Q1879.73 1517.37 1877.9 1520.93 Q1876.1 1524.47 1876.1 1531.6 Q1876.1 1538.71 1877.9 1542.27 Q1879.73 1545.82 1883.34 1545.82 Q1886.98 1545.82 1888.78 1542.27 Q1890.61 1538.71 1890.61 1531.6 Q1890.61 1524.47 1888.78 1520.93 Q1886.98 1517.37 1883.34 1517.37 M1883.34 1513.66 Q1889.15 1513.66 1892.21 1518.27 Q1895.29 1522.85 1895.29 1531.6 Q1895.29 1540.33 1892.21 1544.94 Q1889.15 1549.52 1883.34 1549.52 Q1877.53 1549.52 1874.45 1544.94 Q1871.4 1540.33 1871.4 1531.6 Q1871.4 1522.85 1874.45 1518.27 Q1877.53 1513.66 1883.34 1513.66 Z\" fill=\"#000000\" fill-rule=\"evenodd\" fill-opacity=\"1\" /><path clip-path=\"url(#clip290)\" d=\"M1903.5 1542.97 L1908.39 1542.97 L1908.39 1548.85 L1903.5 1548.85 L1903.5 1542.97 Z\" fill=\"#000000\" fill-rule=\"evenodd\" fill-opacity=\"1\" /><path clip-path=\"url(#clip290)\" d=\"M1918.71 1548.13 L1918.71 1543.87 Q1920.47 1544.7 1922.28 1545.14 Q1924.08 1545.58 1925.82 1545.58 Q1930.45 1545.58 1932.88 1542.48 Q1935.33 1539.36 1935.68 1533.01 Q1934.34 1535.01 1932.28 1536.07 Q1930.22 1537.13 1927.72 1537.13 Q1922.53 1537.13 1919.5 1534.01 Q1916.49 1530.86 1916.49 1525.42 Q1916.49 1520.1 1919.64 1516.88 Q1922.79 1513.66 1928.02 1513.66 Q1934.01 1513.66 1937.16 1518.27 Q1940.33 1522.85 1940.33 1531.6 Q1940.33 1539.77 1936.44 1544.66 Q1932.58 1549.52 1926.03 1549.52 Q1924.27 1549.52 1922.46 1549.17 Q1920.66 1548.82 1918.71 1548.13 M1928.02 1533.48 Q1931.17 1533.48 1932.99 1531.32 Q1934.85 1529.17 1934.85 1525.42 Q1934.85 1521.7 1932.99 1519.54 Q1931.17 1517.37 1928.02 1517.37 Q1924.87 1517.37 1923.02 1519.54 Q1921.19 1521.7 1921.19 1525.42 Q1921.19 1529.17 1923.02 1531.32 Q1924.87 1533.48 1928.02 1533.48 Z\" fill=\"#000000\" fill-rule=\"evenodd\" fill-opacity=\"1\" /><path clip-path=\"url(#clip290)\" d=\"M1958.73 1532.44 Q1955.4 1532.44 1953.48 1534.22 Q1951.58 1536 1951.58 1539.13 Q1951.58 1542.25 1953.48 1544.03 Q1955.4 1545.82 1958.73 1545.82 Q1962.07 1545.82 1963.99 1544.03 Q1965.91 1542.23 1965.91 1539.13 Q1965.91 1536 1963.99 1534.22 Q1962.09 1532.44 1958.73 1532.44 M1954.06 1530.45 Q1951.05 1529.7 1949.36 1527.64 Q1947.69 1525.58 1947.69 1522.62 Q1947.69 1518.48 1950.63 1516.07 Q1953.6 1513.66 1958.73 1513.66 Q1963.9 1513.66 1966.84 1516.07 Q1969.78 1518.48 1969.78 1522.62 Q1969.78 1525.58 1968.09 1527.64 Q1966.42 1529.7 1963.43 1530.45 Q1966.81 1531.23 1968.69 1533.52 Q1970.59 1535.82 1970.59 1539.13 Q1970.59 1544.15 1967.51 1546.83 Q1964.45 1549.52 1958.73 1549.52 Q1953.02 1549.52 1949.94 1546.83 Q1946.88 1544.15 1946.88 1539.13 Q1946.88 1535.82 1948.78 1533.52 Q1950.68 1531.23 1954.06 1530.45 M1952.35 1523.06 Q1952.35 1525.75 1954.01 1527.25 Q1955.7 1528.76 1958.73 1528.76 Q1961.74 1528.76 1963.43 1527.25 Q1965.15 1525.75 1965.15 1523.06 Q1965.15 1520.38 1963.43 1518.87 Q1961.74 1517.37 1958.73 1517.37 Q1955.7 1517.37 1954.01 1518.87 Q1952.35 1520.38 1952.35 1523.06 Z\" fill=\"#000000\" fill-rule=\"evenodd\" fill-opacity=\"1\" /><polyline clip-path=\"url(#clip292)\" style=\"stroke:#000000; stroke-linecap:round; stroke-linejoin:round; stroke-width:2; stroke-opacity:0.1; fill:none\" points=\"193.936,1486.45 2352.76,1486.45 \"/>\n",
       "<polyline clip-path=\"url(#clip292)\" style=\"stroke:#000000; stroke-linecap:round; stroke-linejoin:round; stroke-width:2; stroke-opacity:0.1; fill:none\" points=\"193.936,1126.65 2352.76,1126.65 \"/>\n",
       "<polyline clip-path=\"url(#clip292)\" style=\"stroke:#000000; stroke-linecap:round; stroke-linejoin:round; stroke-width:2; stroke-opacity:0.1; fill:none\" points=\"193.936,766.846 2352.76,766.846 \"/>\n",
       "<polyline clip-path=\"url(#clip292)\" style=\"stroke:#000000; stroke-linecap:round; stroke-linejoin:round; stroke-width:2; stroke-opacity:0.1; fill:none\" points=\"193.936,407.045 2352.76,407.045 \"/>\n",
       "<polyline clip-path=\"url(#clip292)\" style=\"stroke:#000000; stroke-linecap:round; stroke-linejoin:round; stroke-width:2; stroke-opacity:0.1; fill:none\" points=\"193.936,47.2441 2352.76,47.2441 \"/>\n",
       "<polyline clip-path=\"url(#clip290)\" style=\"stroke:#000000; stroke-linecap:round; stroke-linejoin:round; stroke-width:4; stroke-opacity:1; fill:none\" points=\"193.936,1486.45 193.936,47.2441 \"/>\n",
       "<polyline clip-path=\"url(#clip290)\" style=\"stroke:#000000; stroke-linecap:round; stroke-linejoin:round; stroke-width:4; stroke-opacity:1; fill:none\" points=\"193.936,1486.45 212.834,1486.45 \"/>\n",
       "<polyline clip-path=\"url(#clip290)\" style=\"stroke:#000000; stroke-linecap:round; stroke-linejoin:round; stroke-width:4; stroke-opacity:1; fill:none\" points=\"193.936,1126.65 212.834,1126.65 \"/>\n",
       "<polyline clip-path=\"url(#clip290)\" style=\"stroke:#000000; stroke-linecap:round; stroke-linejoin:round; stroke-width:4; stroke-opacity:1; fill:none\" points=\"193.936,766.846 212.834,766.846 \"/>\n",
       "<polyline clip-path=\"url(#clip290)\" style=\"stroke:#000000; stroke-linecap:round; stroke-linejoin:round; stroke-width:4; stroke-opacity:1; fill:none\" points=\"193.936,407.045 212.834,407.045 \"/>\n",
       "<polyline clip-path=\"url(#clip290)\" style=\"stroke:#000000; stroke-linecap:round; stroke-linejoin:round; stroke-width:4; stroke-opacity:1; fill:none\" points=\"193.936,47.2441 212.834,47.2441 \"/>\n",
       "<path clip-path=\"url(#clip290)\" d=\"M50.9921 1486.9 L80.6679 1486.9 L80.6679 1490.83 L50.9921 1490.83 L50.9921 1486.9 Z\" fill=\"#000000\" fill-rule=\"evenodd\" fill-opacity=\"1\" /><path clip-path=\"url(#clip290)\" d=\"M91.5706 1499.79 L99.2095 1499.79 L99.2095 1473.43 L90.8993 1475.09 L90.8993 1470.83 L99.1632 1469.17 L103.839 1469.17 L103.839 1499.79 L111.478 1499.79 L111.478 1503.73 L91.5706 1503.73 L91.5706 1499.79 Z\" fill=\"#000000\" fill-rule=\"evenodd\" fill-opacity=\"1\" /><path clip-path=\"url(#clip290)\" d=\"M120.922 1497.85 L125.807 1497.85 L125.807 1503.73 L120.922 1503.73 L120.922 1497.85 Z\" fill=\"#000000\" fill-rule=\"evenodd\" fill-opacity=\"1\" /><path clip-path=\"url(#clip290)\" d=\"M145.992 1472.25 Q142.381 1472.25 140.552 1475.81 Q138.746 1479.35 138.746 1486.48 Q138.746 1493.59 140.552 1497.15 Q142.381 1500.7 145.992 1500.7 Q149.626 1500.7 151.431 1497.15 Q153.26 1493.59 153.26 1486.48 Q153.26 1479.35 151.431 1475.81 Q149.626 1472.25 145.992 1472.25 M145.992 1468.54 Q151.802 1468.54 154.857 1473.15 Q157.936 1477.73 157.936 1486.48 Q157.936 1495.21 154.857 1499.82 Q151.802 1504.4 145.992 1504.4 Q140.181 1504.4 137.103 1499.82 Q134.047 1495.21 134.047 1486.48 Q134.047 1477.73 137.103 1473.15 Q140.181 1468.54 145.992 1468.54 Z\" fill=\"#000000\" fill-rule=\"evenodd\" fill-opacity=\"1\" /><path clip-path=\"url(#clip290)\" d=\"M51.9875 1127.1 L81.6633 1127.1 L81.6633 1131.03 L51.9875 1131.03 L51.9875 1127.1 Z\" fill=\"#000000\" fill-rule=\"evenodd\" fill-opacity=\"1\" /><path clip-path=\"url(#clip290)\" d=\"M101.756 1112.45 Q98.1447 1112.45 96.316 1116.01 Q94.5104 1119.55 94.5104 1126.68 Q94.5104 1133.79 96.316 1137.35 Q98.1447 1140.89 101.756 1140.89 Q105.39 1140.89 107.196 1137.35 Q109.024 1133.79 109.024 1126.68 Q109.024 1119.55 107.196 1116.01 Q105.39 1112.45 101.756 1112.45 M101.756 1108.74 Q107.566 1108.74 110.621 1113.35 Q113.7 1117.93 113.7 1126.68 Q113.7 1135.41 110.621 1140.01 Q107.566 1144.6 101.756 1144.6 Q95.9456 1144.6 92.8669 1140.01 Q89.8114 1135.41 89.8114 1126.68 Q89.8114 1117.93 92.8669 1113.35 Q95.9456 1108.74 101.756 1108.74 Z\" fill=\"#000000\" fill-rule=\"evenodd\" fill-opacity=\"1\" /><path clip-path=\"url(#clip290)\" d=\"M121.918 1138.05 L126.802 1138.05 L126.802 1143.93 L121.918 1143.93 L121.918 1138.05 Z\" fill=\"#000000\" fill-rule=\"evenodd\" fill-opacity=\"1\" /><path clip-path=\"url(#clip290)\" d=\"M137.033 1109.37 L155.39 1109.37 L155.39 1113.3 L141.316 1113.3 L141.316 1121.77 Q142.334 1121.43 143.353 1121.27 Q144.371 1121.08 145.39 1121.08 Q151.177 1121.08 154.556 1124.25 Q157.936 1127.42 157.936 1132.84 Q157.936 1138.42 154.464 1141.52 Q150.992 1144.6 144.672 1144.6 Q142.496 1144.6 140.228 1144.23 Q137.982 1143.86 135.575 1143.12 L135.575 1138.42 Q137.658 1139.55 139.881 1140.11 Q142.103 1140.66 144.58 1140.66 Q148.584 1140.66 150.922 1138.56 Q153.26 1136.45 153.26 1132.84 Q153.26 1129.23 150.922 1127.12 Q148.584 1125.01 144.58 1125.01 Q142.705 1125.01 140.83 1125.43 Q138.978 1125.85 137.033 1126.73 L137.033 1109.37 Z\" fill=\"#000000\" fill-rule=\"evenodd\" fill-opacity=\"1\" /><path clip-path=\"url(#clip290)\" d=\"M100.76 752.645 Q97.1493 752.645 95.3206 756.209 Q93.515 759.751 93.515 766.881 Q93.515 773.987 95.3206 777.552 Q97.1493 781.094 100.76 781.094 Q104.395 781.094 106.2 777.552 Q108.029 773.987 108.029 766.881 Q108.029 759.751 106.2 756.209 Q104.395 752.645 100.76 752.645 M100.76 748.941 Q106.571 748.941 109.626 753.547 Q112.705 758.131 112.705 766.881 Q112.705 775.608 109.626 780.214 Q106.571 784.797 100.76 784.797 Q94.9502 784.797 91.8715 780.214 Q88.816 775.608 88.816 766.881 Q88.816 758.131 91.8715 753.547 Q94.9502 748.941 100.76 748.941 Z\" fill=\"#000000\" fill-rule=\"evenodd\" fill-opacity=\"1\" /><path clip-path=\"url(#clip290)\" d=\"M120.922 778.246 L125.807 778.246 L125.807 784.126 L120.922 784.126 L120.922 778.246 Z\" fill=\"#000000\" fill-rule=\"evenodd\" fill-opacity=\"1\" /><path clip-path=\"url(#clip290)\" d=\"M145.992 752.645 Q142.381 752.645 140.552 756.209 Q138.746 759.751 138.746 766.881 Q138.746 773.987 140.552 777.552 Q142.381 781.094 145.992 781.094 Q149.626 781.094 151.431 777.552 Q153.26 773.987 153.26 766.881 Q153.26 759.751 151.431 756.209 Q149.626 752.645 145.992 752.645 M145.992 748.941 Q151.802 748.941 154.857 753.547 Q157.936 758.131 157.936 766.881 Q157.936 775.608 154.857 780.214 Q151.802 784.797 145.992 784.797 Q140.181 784.797 137.103 780.214 Q134.047 775.608 134.047 766.881 Q134.047 758.131 137.103 753.547 Q140.181 748.941 145.992 748.941 Z\" fill=\"#000000\" fill-rule=\"evenodd\" fill-opacity=\"1\" /><path clip-path=\"url(#clip290)\" d=\"M101.756 392.844 Q98.1447 392.844 96.316 396.409 Q94.5104 399.95 94.5104 407.08 Q94.5104 414.186 96.316 417.751 Q98.1447 421.293 101.756 421.293 Q105.39 421.293 107.196 417.751 Q109.024 414.186 109.024 407.08 Q109.024 399.95 107.196 396.409 Q105.39 392.844 101.756 392.844 M101.756 389.14 Q107.566 389.14 110.621 393.746 Q113.7 398.33 113.7 407.08 Q113.7 415.807 110.621 420.413 Q107.566 424.996 101.756 424.996 Q95.9456 424.996 92.8669 420.413 Q89.8114 415.807 89.8114 407.08 Q89.8114 398.33 92.8669 393.746 Q95.9456 389.14 101.756 389.14 Z\" fill=\"#000000\" fill-rule=\"evenodd\" fill-opacity=\"1\" /><path clip-path=\"url(#clip290)\" d=\"M121.918 418.445 L126.802 418.445 L126.802 424.325 L121.918 424.325 L121.918 418.445 Z\" fill=\"#000000\" fill-rule=\"evenodd\" fill-opacity=\"1\" /><path clip-path=\"url(#clip290)\" d=\"M137.033 389.765 L155.39 389.765 L155.39 393.7 L141.316 393.7 L141.316 402.172 Q142.334 401.825 143.353 401.663 Q144.371 401.478 145.39 401.478 Q151.177 401.478 154.556 404.649 Q157.936 407.82 157.936 413.237 Q157.936 418.816 154.464 421.918 Q150.992 424.996 144.672 424.996 Q142.496 424.996 140.228 424.626 Q137.982 424.256 135.575 423.515 L135.575 418.816 Q137.658 419.95 139.881 420.506 Q142.103 421.061 144.58 421.061 Q148.584 421.061 150.922 418.955 Q153.26 416.848 153.26 413.237 Q153.26 409.626 150.922 407.52 Q148.584 405.413 144.58 405.413 Q142.705 405.413 140.83 405.83 Q138.978 406.246 137.033 407.126 L137.033 389.765 Z\" fill=\"#000000\" fill-rule=\"evenodd\" fill-opacity=\"1\" /><path clip-path=\"url(#clip290)\" d=\"M91.5706 60.5889 L99.2095 60.5889 L99.2095 34.2233 L90.8993 35.89 L90.8993 31.6308 L99.1632 29.9641 L103.839 29.9641 L103.839 60.5889 L111.478 60.5889 L111.478 64.5241 L91.5706 64.5241 L91.5706 60.5889 Z\" fill=\"#000000\" fill-rule=\"evenodd\" fill-opacity=\"1\" /><path clip-path=\"url(#clip290)\" d=\"M120.922 58.6445 L125.807 58.6445 L125.807 64.5241 L120.922 64.5241 L120.922 58.6445 Z\" fill=\"#000000\" fill-rule=\"evenodd\" fill-opacity=\"1\" /><path clip-path=\"url(#clip290)\" d=\"M145.992 33.0428 Q142.381 33.0428 140.552 36.6076 Q138.746 40.1492 138.746 47.2788 Q138.746 54.3853 140.552 57.9501 Q142.381 61.4917 145.992 61.4917 Q149.626 61.4917 151.431 57.9501 Q153.26 54.3853 153.26 47.2788 Q153.26 40.1492 151.431 36.6076 Q149.626 33.0428 145.992 33.0428 M145.992 29.3391 Q151.802 29.3391 154.857 33.9456 Q157.936 38.5289 157.936 47.2788 Q157.936 56.0056 154.857 60.6121 Q151.802 65.1954 145.992 65.1954 Q140.181 65.1954 137.103 60.6121 Q134.047 56.0056 134.047 47.2788 Q134.047 38.5289 137.103 33.9456 Q140.181 29.3391 145.992 29.3391 Z\" fill=\"#000000\" fill-rule=\"evenodd\" fill-opacity=\"1\" /><circle clip-path=\"url(#clip292)\" cx=\"220.977\" cy=\"766.846\" r=\"14.4\" fill=\"#009af9\" fill-rule=\"evenodd\" fill-opacity=\"1\" stroke=\"#000000\" stroke-opacity=\"1\" stroke-width=\"3.2\"/>\n",
       "<circle clip-path=\"url(#clip292)\" cx=\"311.155\" cy=\"766.846\" r=\"14.4\" fill=\"#009af9\" fill-rule=\"evenodd\" fill-opacity=\"1\" stroke=\"#000000\" stroke-opacity=\"1\" stroke-width=\"3.2\"/>\n",
       "<circle clip-path=\"url(#clip292)\" cx=\"399.584\" cy=\"766.846\" r=\"14.4\" fill=\"#009af9\" fill-rule=\"evenodd\" fill-opacity=\"1\" stroke=\"#000000\" stroke-opacity=\"1\" stroke-width=\"3.2\"/>\n",
       "<circle clip-path=\"url(#clip292)\" cx=\"486.246\" cy=\"766.846\" r=\"14.4\" fill=\"#009af9\" fill-rule=\"evenodd\" fill-opacity=\"1\" stroke=\"#000000\" stroke-opacity=\"1\" stroke-width=\"3.2\"/>\n",
       "<circle clip-path=\"url(#clip292)\" cx=\"571.124\" cy=\"766.846\" r=\"14.4\" fill=\"#009af9\" fill-rule=\"evenodd\" fill-opacity=\"1\" stroke=\"#000000\" stroke-opacity=\"1\" stroke-width=\"3.2\"/>\n",
       "<circle clip-path=\"url(#clip292)\" cx=\"654.201\" cy=\"766.846\" r=\"14.4\" fill=\"#009af9\" fill-rule=\"evenodd\" fill-opacity=\"1\" stroke=\"#000000\" stroke-opacity=\"1\" stroke-width=\"3.2\"/>\n",
       "<circle clip-path=\"url(#clip292)\" cx=\"735.46\" cy=\"766.846\" r=\"14.4\" fill=\"#009af9\" fill-rule=\"evenodd\" fill-opacity=\"1\" stroke=\"#000000\" stroke-opacity=\"1\" stroke-width=\"3.2\"/>\n",
       "<circle clip-path=\"url(#clip292)\" cx=\"814.884\" cy=\"766.846\" r=\"14.4\" fill=\"#009af9\" fill-rule=\"evenodd\" fill-opacity=\"1\" stroke=\"#000000\" stroke-opacity=\"1\" stroke-width=\"3.2\"/>\n",
       "<circle clip-path=\"url(#clip292)\" cx=\"892.459\" cy=\"766.846\" r=\"14.4\" fill=\"#009af9\" fill-rule=\"evenodd\" fill-opacity=\"1\" stroke=\"#000000\" stroke-opacity=\"1\" stroke-width=\"3.2\"/>\n",
       "<circle clip-path=\"url(#clip292)\" cx=\"968.169\" cy=\"766.846\" r=\"14.4\" fill=\"#009af9\" fill-rule=\"evenodd\" fill-opacity=\"1\" stroke=\"#000000\" stroke-opacity=\"1\" stroke-width=\"3.2\"/>\n",
       "<circle clip-path=\"url(#clip292)\" cx=\"1042\" cy=\"766.846\" r=\"14.4\" fill=\"#009af9\" fill-rule=\"evenodd\" fill-opacity=\"1\" stroke=\"#000000\" stroke-opacity=\"1\" stroke-width=\"3.2\"/>\n",
       "<circle clip-path=\"url(#clip292)\" cx=\"1113.93\" cy=\"766.846\" r=\"14.4\" fill=\"#009af9\" fill-rule=\"evenodd\" fill-opacity=\"1\" stroke=\"#000000\" stroke-opacity=\"1\" stroke-width=\"3.2\"/>\n",
       "<circle clip-path=\"url(#clip292)\" cx=\"1183.96\" cy=\"766.846\" r=\"14.4\" fill=\"#009af9\" fill-rule=\"evenodd\" fill-opacity=\"1\" stroke=\"#000000\" stroke-opacity=\"1\" stroke-width=\"3.2\"/>\n",
       "<circle clip-path=\"url(#clip292)\" cx=\"1252.06\" cy=\"766.846\" r=\"14.4\" fill=\"#009af9\" fill-rule=\"evenodd\" fill-opacity=\"1\" stroke=\"#000000\" stroke-opacity=\"1\" stroke-width=\"3.2\"/>\n",
       "<circle clip-path=\"url(#clip292)\" cx=\"1318.22\" cy=\"766.846\" r=\"14.4\" fill=\"#009af9\" fill-rule=\"evenodd\" fill-opacity=\"1\" stroke=\"#000000\" stroke-opacity=\"1\" stroke-width=\"3.2\"/>\n",
       "<circle clip-path=\"url(#clip292)\" cx=\"1382.43\" cy=\"766.846\" r=\"14.4\" fill=\"#009af9\" fill-rule=\"evenodd\" fill-opacity=\"1\" stroke=\"#000000\" stroke-opacity=\"1\" stroke-width=\"3.2\"/>\n",
       "<circle clip-path=\"url(#clip292)\" cx=\"1444.68\" cy=\"766.846\" r=\"14.4\" fill=\"#009af9\" fill-rule=\"evenodd\" fill-opacity=\"1\" stroke=\"#000000\" stroke-opacity=\"1\" stroke-width=\"3.2\"/>\n",
       "<circle clip-path=\"url(#clip292)\" cx=\"1504.95\" cy=\"766.846\" r=\"14.4\" fill=\"#009af9\" fill-rule=\"evenodd\" fill-opacity=\"1\" stroke=\"#000000\" stroke-opacity=\"1\" stroke-width=\"3.2\"/>\n",
       "<circle clip-path=\"url(#clip292)\" cx=\"1563.24\" cy=\"766.846\" r=\"14.4\" fill=\"#009af9\" fill-rule=\"evenodd\" fill-opacity=\"1\" stroke=\"#000000\" stroke-opacity=\"1\" stroke-width=\"3.2\"/>\n",
       "<circle clip-path=\"url(#clip292)\" cx=\"1619.52\" cy=\"766.846\" r=\"14.4\" fill=\"#009af9\" fill-rule=\"evenodd\" fill-opacity=\"1\" stroke=\"#000000\" stroke-opacity=\"1\" stroke-width=\"3.2\"/>\n",
       "<circle clip-path=\"url(#clip292)\" cx=\"1673.8\" cy=\"766.846\" r=\"14.4\" fill=\"#009af9\" fill-rule=\"evenodd\" fill-opacity=\"1\" stroke=\"#000000\" stroke-opacity=\"1\" stroke-width=\"3.2\"/>\n",
       "<circle clip-path=\"url(#clip292)\" cx=\"1726.05\" cy=\"766.846\" r=\"14.4\" fill=\"#009af9\" fill-rule=\"evenodd\" fill-opacity=\"1\" stroke=\"#000000\" stroke-opacity=\"1\" stroke-width=\"3.2\"/>\n",
       "<circle clip-path=\"url(#clip292)\" cx=\"1776.28\" cy=\"766.846\" r=\"14.4\" fill=\"#009af9\" fill-rule=\"evenodd\" fill-opacity=\"1\" stroke=\"#000000\" stroke-opacity=\"1\" stroke-width=\"3.2\"/>\n",
       "<circle clip-path=\"url(#clip292)\" cx=\"1824.46\" cy=\"766.846\" r=\"14.4\" fill=\"#009af9\" fill-rule=\"evenodd\" fill-opacity=\"1\" stroke=\"#000000\" stroke-opacity=\"1\" stroke-width=\"3.2\"/>\n",
       "<path clip-path=\"url(#clip290)\" d=\"M2012.48 198.898 L2280.8 198.898 L2280.8 95.2176 L2012.48 95.2176  Z\" fill=\"#ffffff\" fill-rule=\"evenodd\" fill-opacity=\"1\"/>\n",
       "<polyline clip-path=\"url(#clip290)\" style=\"stroke:#000000; stroke-linecap:round; stroke-linejoin:round; stroke-width:4; stroke-opacity:1; fill:none\" points=\"2012.48,198.898 2280.8,198.898 2280.8,95.2176 2012.48,95.2176 2012.48,198.898 \"/>\n",
       "<circle clip-path=\"url(#clip290)\" cx=\"2108.43\" cy=\"147.058\" r=\"23.04\" fill=\"#009af9\" fill-rule=\"evenodd\" fill-opacity=\"1\" stroke=\"#000000\" stroke-opacity=\"1\" stroke-width=\"5.12\"/>\n",
       "<path clip-path=\"url(#clip290)\" d=\"M2218.22 166.745 Q2216.42 171.375 2214.7 172.787 Q2212.99 174.199 2210.12 174.199 L2206.72 174.199 L2206.72 170.634 L2209.22 170.634 Q2210.98 170.634 2211.95 169.8 Q2212.92 168.967 2214.1 165.865 L2214.86 163.921 L2204.38 138.412 L2208.89 138.412 L2216.99 158.689 L2225.1 138.412 L2229.61 138.412 L2218.22 166.745 Z\" fill=\"#000000\" fill-rule=\"evenodd\" fill-opacity=\"1\" /><path clip-path=\"url(#clip290)\" d=\"M2236.9 160.402 L2244.54 160.402 L2244.54 134.037 L2236.23 135.703 L2236.23 131.444 L2244.49 129.778 L2249.17 129.778 L2249.17 160.402 L2256.81 160.402 L2256.81 164.338 L2236.9 164.338 L2236.9 160.402 Z\" fill=\"#000000\" fill-rule=\"evenodd\" fill-opacity=\"1\" /></svg>\n"
      ]
     },
     "execution_count": 314,
     "metadata": {},
     "output_type": "execute_result"
    }
   ],
   "source": [
    "scatter(initX1,zeros(length(initX1)),ylim=[-1,1],xlim=[0.9,1])"
   ]
  },
  {
   "cell_type": "markdown",
   "id": "80ab1480",
   "metadata": {
    "papermill": {
     "duration": 0.012577,
     "end_time": "2023-06-25T23:43:01.489367",
     "exception": false,
     "start_time": "2023-06-25T23:43:01.476790",
     "status": "completed"
    },
    "tags": []
   },
   "source": [
    "# Initial data of m β Ψ and Ψ,x"
   ]
  },
  {
   "cell_type": "code",
   "execution_count": 315,
   "id": "d0af654c",
   "metadata": {
    "execution": {
     "iopub.execute_input": "2023-06-26T00:43:01.510000Z",
     "iopub.status.busy": "2023-06-26T00:43:01.510000Z",
     "iopub.status.idle": "2023-06-26T00:43:03.001000Z",
     "shell.execute_reply": "2023-06-26T00:43:03.001000Z"
    },
    "papermill": {
     "duration": 1.504498,
     "end_time": "2023-06-25T23:43:03.004679",
     "exception": false,
     "start_time": "2023-06-25T23:43:01.500181",
     "status": "completed"
    },
    "tags": []
   },
   "outputs": [],
   "source": [
    "using Dierckx\n",
    "using Quadmath\n",
    "\n",
    "\n",
    "####\n",
    "#initm=Array{Float128}(undef, L)\n",
    "#initbeta=Array{Float128}(undef, L)\n",
    "#initpsi=Array{Float128}(undef, L)\n",
    "#initderpsi=Array{Float128}(undef, L)\n",
    "initm=zeros(L);\n",
    "initbeta=zeros(L);\n",
    "initpsi=zeros(L);\n",
    "initderpsi=zeros(L);\n",
    "\n",
    "state_array=[initm initbeta initpsi initderpsi initX];\n",
    "\n",
    "#PSI\n",
    "r0=0.7#0.01#0.7#0.01#0.7#0.7#0.7#0.01#0.7#0.3\n",
    "sigma=0.3\n",
    "initpsi[4:L-3] = init_gaussian(initX1,r0,sigma,A)\n",
    "\n",
    "state_array[:,3] = initpsi\n",
    "state_array = ghost(state_array)\n",
    "\n",
    "#PSI,X FROM PSI\n",
    "initderpsi[4:L-3] = init_gaussian_der(initX1,r0,sigma,A)\n",
    "state_array[:,4] = initderpsi\n",
    "state_array=ghost(state_array)\n",
    "\n",
    "####\n",
    "\n",
    "derpsi_func = Spline1D(initX[4:L-3], state_array[4:L-3,4],  k=4);"
   ]
  },
  {
   "cell_type": "code",
   "execution_count": 316,
   "id": "384597fa",
   "metadata": {
    "execution": {
     "iopub.execute_input": "2023-06-26T00:43:03.034000Z",
     "iopub.status.busy": "2023-06-26T00:43:03.034000Z",
     "iopub.status.idle": "2023-06-26T00:43:04.138000Z",
     "shell.execute_reply": "2023-06-26T00:43:04.138000Z"
    },
    "papermill": {
     "duration": 1.120928,
     "end_time": "2023-06-25T23:43:04.140984",
     "exception": false,
     "start_time": "2023-06-25T23:43:03.020056",
     "status": "completed"
    },
    "tags": []
   },
   "outputs": [],
   "source": [
    "y0=[0 0 0]\n",
    "\n",
    "state_array[4:L-3,1:3] = n_rk4wrapper(RHS,y0,initX[4:L-3],0,derpsi_func,state_array[:,:]);\n",
    "\n",
    "state_array = ghost(state_array);"
   ]
  },
  {
   "cell_type": "code",
   "execution_count": 317,
   "id": "48f10a76",
   "metadata": {
    "execution": {
     "iopub.execute_input": "2023-06-26T00:43:04.172000Z",
     "iopub.status.busy": "2023-06-26T00:43:04.172000Z",
     "iopub.status.idle": "2023-06-26T00:43:20.413000Z",
     "shell.execute_reply": "2023-06-26T00:43:20.413000Z"
    },
    "papermill": {
     "duration": 16.259104,
     "end_time": "2023-06-25T23:43:20.416060",
     "exception": false,
     "start_time": "2023-06-25T23:43:04.156956",
     "status": "completed"
    },
    "tags": []
   },
   "outputs": [
    {
     "data": {
      "image/svg+xml": [
       "<?xml version=\"1.0\" encoding=\"utf-8\"?>\n",
       "<svg xmlns=\"http://www.w3.org/2000/svg\" xmlns:xlink=\"http://www.w3.org/1999/xlink\" width=\"600\" height=\"400\" viewBox=\"0 0 2400 1600\">\n",
       "<defs>\n",
       "  <clipPath id=\"clip330\">\n",
       "    <rect x=\"0\" y=\"0\" width=\"2400\" height=\"1600\"/>\n",
       "  </clipPath>\n",
       "</defs>\n",
       "<path clip-path=\"url(#clip330)\" d=\"M0 1600 L2400 1600 L2400 0 L0 0  Z\" fill=\"#ffffff\" fill-rule=\"evenodd\" fill-opacity=\"1\"/>\n",
       "<defs>\n",
       "  <clipPath id=\"clip331\">\n",
       "    <rect x=\"480\" y=\"0\" width=\"1681\" height=\"1600\"/>\n",
       "  </clipPath>\n",
       "</defs>\n",
       "<path clip-path=\"url(#clip330)\" d=\"M284.422 1423.18 L2352.76 1423.18 L2352.76 123.472 L284.422 123.472  Z\" fill=\"#ffffff\" fill-rule=\"evenodd\" fill-opacity=\"1\"/>\n",
       "<defs>\n",
       "  <clipPath id=\"clip332\">\n",
       "    <rect x=\"284\" y=\"123\" width=\"2069\" height=\"1301\"/>\n",
       "  </clipPath>\n",
       "</defs>\n",
       "<polyline clip-path=\"url(#clip332)\" style=\"stroke:#000000; stroke-linecap:round; stroke-linejoin:round; stroke-width:2; stroke-opacity:0.1; fill:none\" points=\"342.959,1423.18 342.959,123.472 \"/>\n",
       "<polyline clip-path=\"url(#clip332)\" style=\"stroke:#000000; stroke-linecap:round; stroke-linejoin:round; stroke-width:2; stroke-opacity:0.1; fill:none\" points=\"830.774,1423.18 830.774,123.472 \"/>\n",
       "<polyline clip-path=\"url(#clip332)\" style=\"stroke:#000000; stroke-linecap:round; stroke-linejoin:round; stroke-width:2; stroke-opacity:0.1; fill:none\" points=\"1318.59,1423.18 1318.59,123.472 \"/>\n",
       "<polyline clip-path=\"url(#clip332)\" style=\"stroke:#000000; stroke-linecap:round; stroke-linejoin:round; stroke-width:2; stroke-opacity:0.1; fill:none\" points=\"1806.4,1423.18 1806.4,123.472 \"/>\n",
       "<polyline clip-path=\"url(#clip332)\" style=\"stroke:#000000; stroke-linecap:round; stroke-linejoin:round; stroke-width:2; stroke-opacity:0.1; fill:none\" points=\"2294.22,1423.18 2294.22,123.472 \"/>\n",
       "<polyline clip-path=\"url(#clip330)\" style=\"stroke:#000000; stroke-linecap:round; stroke-linejoin:round; stroke-width:4; stroke-opacity:1; fill:none\" points=\"284.422,1423.18 2352.76,1423.18 \"/>\n",
       "<polyline clip-path=\"url(#clip330)\" style=\"stroke:#000000; stroke-linecap:round; stroke-linejoin:round; stroke-width:4; stroke-opacity:1; fill:none\" points=\"342.959,1423.18 342.959,1404.28 \"/>\n",
       "<polyline clip-path=\"url(#clip330)\" style=\"stroke:#000000; stroke-linecap:round; stroke-linejoin:round; stroke-width:4; stroke-opacity:1; fill:none\" points=\"830.774,1423.18 830.774,1404.28 \"/>\n",
       "<polyline clip-path=\"url(#clip330)\" style=\"stroke:#000000; stroke-linecap:round; stroke-linejoin:round; stroke-width:4; stroke-opacity:1; fill:none\" points=\"1318.59,1423.18 1318.59,1404.28 \"/>\n",
       "<polyline clip-path=\"url(#clip330)\" style=\"stroke:#000000; stroke-linecap:round; stroke-linejoin:round; stroke-width:4; stroke-opacity:1; fill:none\" points=\"1806.4,1423.18 1806.4,1404.28 \"/>\n",
       "<polyline clip-path=\"url(#clip330)\" style=\"stroke:#000000; stroke-linecap:round; stroke-linejoin:round; stroke-width:4; stroke-opacity:1; fill:none\" points=\"2294.22,1423.18 2294.22,1404.28 \"/>\n",
       "<path clip-path=\"url(#clip330)\" d=\"M305.263 1454.1 Q301.652 1454.1 299.823 1457.66 Q298.017 1461.2 298.017 1468.33 Q298.017 1475.44 299.823 1479.01 Q301.652 1482.55 305.263 1482.55 Q308.897 1482.55 310.703 1479.01 Q312.531 1475.44 312.531 1468.33 Q312.531 1461.2 310.703 1457.66 Q308.897 1454.1 305.263 1454.1 M305.263 1450.39 Q311.073 1450.39 314.129 1455 Q317.207 1459.58 317.207 1468.33 Q317.207 1477.06 314.129 1481.67 Q311.073 1486.25 305.263 1486.25 Q299.453 1486.25 296.374 1481.67 Q293.318 1477.06 293.318 1468.33 Q293.318 1459.58 296.374 1455 Q299.453 1450.39 305.263 1450.39 Z\" fill=\"#000000\" fill-rule=\"evenodd\" fill-opacity=\"1\" /><path clip-path=\"url(#clip330)\" d=\"M325.425 1479.7 L330.309 1479.7 L330.309 1485.58 L325.425 1485.58 L325.425 1479.7 Z\" fill=\"#000000\" fill-rule=\"evenodd\" fill-opacity=\"1\" /><path clip-path=\"url(#clip330)\" d=\"M350.494 1454.1 Q346.883 1454.1 345.054 1457.66 Q343.249 1461.2 343.249 1468.33 Q343.249 1475.44 345.054 1479.01 Q346.883 1482.55 350.494 1482.55 Q354.128 1482.55 355.934 1479.01 Q357.763 1475.44 357.763 1468.33 Q357.763 1461.2 355.934 1457.66 Q354.128 1454.1 350.494 1454.1 M350.494 1450.39 Q356.304 1450.39 359.36 1455 Q362.438 1459.58 362.438 1468.33 Q362.438 1477.06 359.36 1481.67 Q356.304 1486.25 350.494 1486.25 Q344.684 1486.25 341.605 1481.67 Q338.55 1477.06 338.55 1468.33 Q338.55 1459.58 341.605 1455 Q344.684 1450.39 350.494 1450.39 Z\" fill=\"#000000\" fill-rule=\"evenodd\" fill-opacity=\"1\" /><path clip-path=\"url(#clip330)\" d=\"M380.656 1454.1 Q377.045 1454.1 375.216 1457.66 Q373.411 1461.2 373.411 1468.33 Q373.411 1475.44 375.216 1479.01 Q377.045 1482.55 380.656 1482.55 Q384.29 1482.55 386.096 1479.01 Q387.924 1475.44 387.924 1468.33 Q387.924 1461.2 386.096 1457.66 Q384.29 1454.1 380.656 1454.1 M380.656 1450.39 Q386.466 1450.39 389.522 1455 Q392.6 1459.58 392.6 1468.33 Q392.6 1477.06 389.522 1481.67 Q386.466 1486.25 380.656 1486.25 Q374.846 1486.25 371.767 1481.67 Q368.712 1477.06 368.712 1468.33 Q368.712 1459.58 371.767 1455 Q374.846 1450.39 380.656 1450.39 Z\" fill=\"#000000\" fill-rule=\"evenodd\" fill-opacity=\"1\" /><path clip-path=\"url(#clip330)\" d=\"M793.575 1454.1 Q789.964 1454.1 788.135 1457.66 Q786.33 1461.2 786.33 1468.33 Q786.33 1475.44 788.135 1479.01 Q789.964 1482.55 793.575 1482.55 Q797.209 1482.55 799.015 1479.01 Q800.844 1475.44 800.844 1468.33 Q800.844 1461.2 799.015 1457.66 Q797.209 1454.1 793.575 1454.1 M793.575 1450.39 Q799.385 1450.39 802.441 1455 Q805.52 1459.58 805.52 1468.33 Q805.52 1477.06 802.441 1481.67 Q799.385 1486.25 793.575 1486.25 Q787.765 1486.25 784.686 1481.67 Q781.631 1477.06 781.631 1468.33 Q781.631 1459.58 784.686 1455 Q787.765 1450.39 793.575 1450.39 Z\" fill=\"#000000\" fill-rule=\"evenodd\" fill-opacity=\"1\" /><path clip-path=\"url(#clip330)\" d=\"M813.737 1479.7 L818.621 1479.7 L818.621 1485.58 L813.737 1485.58 L813.737 1479.7 Z\" fill=\"#000000\" fill-rule=\"evenodd\" fill-opacity=\"1\" /><path clip-path=\"url(#clip330)\" d=\"M832.834 1481.64 L849.154 1481.64 L849.154 1485.58 L827.209 1485.58 L827.209 1481.64 Q829.871 1478.89 834.455 1474.26 Q839.061 1469.61 840.242 1468.27 Q842.487 1465.74 843.367 1464.01 Q844.269 1462.25 844.269 1460.56 Q844.269 1457.8 842.325 1456.07 Q840.404 1454.33 837.302 1454.33 Q835.103 1454.33 832.649 1455.09 Q830.219 1455.86 827.441 1457.41 L827.441 1452.69 Q830.265 1451.55 832.719 1450.97 Q835.172 1450.39 837.209 1450.39 Q842.58 1450.39 845.774 1453.08 Q848.968 1455.77 848.968 1460.26 Q848.968 1462.39 848.158 1464.31 Q847.371 1466.2 845.265 1468.8 Q844.686 1469.47 841.584 1472.69 Q838.482 1475.88 832.834 1481.64 Z\" fill=\"#000000\" fill-rule=\"evenodd\" fill-opacity=\"1\" /><path clip-path=\"url(#clip330)\" d=\"M859.015 1451.02 L877.371 1451.02 L877.371 1454.96 L863.297 1454.96 L863.297 1463.43 Q864.316 1463.08 865.334 1462.92 Q866.353 1462.73 867.371 1462.73 Q873.158 1462.73 876.538 1465.9 Q879.917 1469.08 879.917 1474.49 Q879.917 1480.07 876.445 1483.17 Q872.973 1486.25 866.654 1486.25 Q864.478 1486.25 862.209 1485.88 Q859.964 1485.51 857.556 1484.77 L857.556 1480.07 Q859.64 1481.2 861.862 1481.76 Q864.084 1482.32 866.561 1482.32 Q870.566 1482.32 872.903 1480.21 Q875.241 1478.1 875.241 1474.49 Q875.241 1470.88 872.903 1468.77 Q870.566 1466.67 866.561 1466.67 Q864.686 1466.67 862.811 1467.08 Q860.959 1467.5 859.015 1468.38 L859.015 1451.02 Z\" fill=\"#000000\" fill-rule=\"evenodd\" fill-opacity=\"1\" /><path clip-path=\"url(#clip330)\" d=\"M1280.89 1454.1 Q1277.28 1454.1 1275.45 1457.66 Q1273.65 1461.2 1273.65 1468.33 Q1273.65 1475.44 1275.45 1479.01 Q1277.28 1482.55 1280.89 1482.55 Q1284.53 1482.55 1286.33 1479.01 Q1288.16 1475.44 1288.16 1468.33 Q1288.16 1461.2 1286.33 1457.66 Q1284.53 1454.1 1280.89 1454.1 M1280.89 1450.39 Q1286.7 1450.39 1289.76 1455 Q1292.84 1459.58 1292.84 1468.33 Q1292.84 1477.06 1289.76 1481.67 Q1286.7 1486.25 1280.89 1486.25 Q1275.08 1486.25 1272 1481.67 Q1268.95 1477.06 1268.95 1468.33 Q1268.95 1459.58 1272 1455 Q1275.08 1450.39 1280.89 1450.39 Z\" fill=\"#000000\" fill-rule=\"evenodd\" fill-opacity=\"1\" /><path clip-path=\"url(#clip330)\" d=\"M1301.05 1479.7 L1305.94 1479.7 L1305.94 1485.58 L1301.05 1485.58 L1301.05 1479.7 Z\" fill=\"#000000\" fill-rule=\"evenodd\" fill-opacity=\"1\" /><path clip-path=\"url(#clip330)\" d=\"M1316.17 1451.02 L1334.53 1451.02 L1334.53 1454.96 L1320.45 1454.96 L1320.45 1463.43 Q1321.47 1463.08 1322.49 1462.92 Q1323.51 1462.73 1324.53 1462.73 Q1330.31 1462.73 1333.69 1465.9 Q1337.07 1469.08 1337.07 1474.49 Q1337.07 1480.07 1333.6 1483.17 Q1330.13 1486.25 1323.81 1486.25 Q1321.63 1486.25 1319.36 1485.88 Q1317.12 1485.51 1314.71 1484.77 L1314.71 1480.07 Q1316.79 1481.2 1319.02 1481.76 Q1321.24 1482.32 1323.72 1482.32 Q1327.72 1482.32 1330.06 1480.21 Q1332.4 1478.1 1332.4 1474.49 Q1332.4 1470.88 1330.06 1468.77 Q1327.72 1466.67 1323.72 1466.67 Q1321.84 1466.67 1319.97 1467.08 Q1318.11 1467.5 1316.17 1468.38 L1316.17 1451.02 Z\" fill=\"#000000\" fill-rule=\"evenodd\" fill-opacity=\"1\" /><path clip-path=\"url(#clip330)\" d=\"M1356.29 1454.1 Q1352.67 1454.1 1350.85 1457.66 Q1349.04 1461.2 1349.04 1468.33 Q1349.04 1475.44 1350.85 1479.01 Q1352.67 1482.55 1356.29 1482.55 Q1359.92 1482.55 1361.73 1479.01 Q1363.55 1475.44 1363.55 1468.33 Q1363.55 1461.2 1361.73 1457.66 Q1359.92 1454.1 1356.29 1454.1 M1356.29 1450.39 Q1362.1 1450.39 1365.15 1455 Q1368.23 1459.58 1368.23 1468.33 Q1368.23 1477.06 1365.15 1481.67 Q1362.1 1486.25 1356.29 1486.25 Q1350.48 1486.25 1347.4 1481.67 Q1344.34 1477.06 1344.34 1468.33 Q1344.34 1459.58 1347.4 1455 Q1350.48 1450.39 1356.29 1450.39 Z\" fill=\"#000000\" fill-rule=\"evenodd\" fill-opacity=\"1\" /><path clip-path=\"url(#clip330)\" d=\"M1769.2 1454.1 Q1765.59 1454.1 1763.76 1457.66 Q1761.96 1461.2 1761.96 1468.33 Q1761.96 1475.44 1763.76 1479.01 Q1765.59 1482.55 1769.2 1482.55 Q1772.84 1482.55 1774.64 1479.01 Q1776.47 1475.44 1776.47 1468.33 Q1776.47 1461.2 1774.64 1457.66 Q1772.84 1454.1 1769.2 1454.1 M1769.2 1450.39 Q1775.01 1450.39 1778.07 1455 Q1781.15 1459.58 1781.15 1468.33 Q1781.15 1477.06 1778.07 1481.67 Q1775.01 1486.25 1769.2 1486.25 Q1763.39 1486.25 1760.32 1481.67 Q1757.26 1477.06 1757.26 1468.33 Q1757.26 1459.58 1760.32 1455 Q1763.39 1450.39 1769.2 1450.39 Z\" fill=\"#000000\" fill-rule=\"evenodd\" fill-opacity=\"1\" /><path clip-path=\"url(#clip330)\" d=\"M1789.37 1479.7 L1794.25 1479.7 L1794.25 1485.58 L1789.37 1485.58 L1789.37 1479.7 Z\" fill=\"#000000\" fill-rule=\"evenodd\" fill-opacity=\"1\" /><path clip-path=\"url(#clip330)\" d=\"M1803.26 1451.02 L1825.48 1451.02 L1825.48 1453.01 L1812.93 1485.58 L1808.05 1485.58 L1819.85 1454.96 L1803.26 1454.96 L1803.26 1451.02 Z\" fill=\"#000000\" fill-rule=\"evenodd\" fill-opacity=\"1\" /><path clip-path=\"url(#clip330)\" d=\"M1834.64 1451.02 L1853 1451.02 L1853 1454.96 L1838.93 1454.96 L1838.93 1463.43 Q1839.94 1463.08 1840.96 1462.92 Q1841.98 1462.73 1843 1462.73 Q1848.79 1462.73 1852.17 1465.9 Q1855.55 1469.08 1855.55 1474.49 Q1855.55 1480.07 1852.07 1483.17 Q1848.6 1486.25 1842.28 1486.25 Q1840.11 1486.25 1837.84 1485.88 Q1835.59 1485.51 1833.19 1484.77 L1833.19 1480.07 Q1835.27 1481.2 1837.49 1481.76 Q1839.71 1482.32 1842.19 1482.32 Q1846.19 1482.32 1848.53 1480.21 Q1850.87 1478.1 1850.87 1474.49 Q1850.87 1470.88 1848.53 1468.77 Q1846.19 1466.67 1842.19 1466.67 Q1840.32 1466.67 1838.44 1467.08 Q1836.59 1467.5 1834.64 1468.38 L1834.64 1451.02 Z\" fill=\"#000000\" fill-rule=\"evenodd\" fill-opacity=\"1\" /><path clip-path=\"url(#clip330)\" d=\"M2246.29 1481.64 L2253.93 1481.64 L2253.93 1455.28 L2245.62 1456.95 L2245.62 1452.69 L2253.88 1451.02 L2258.56 1451.02 L2258.56 1481.64 L2266.2 1481.64 L2266.2 1485.58 L2246.29 1485.58 L2246.29 1481.64 Z\" fill=\"#000000\" fill-rule=\"evenodd\" fill-opacity=\"1\" /><path clip-path=\"url(#clip330)\" d=\"M2275.64 1479.7 L2280.53 1479.7 L2280.53 1485.58 L2275.64 1485.58 L2275.64 1479.7 Z\" fill=\"#000000\" fill-rule=\"evenodd\" fill-opacity=\"1\" /><path clip-path=\"url(#clip330)\" d=\"M2300.71 1454.1 Q2297.1 1454.1 2295.27 1457.66 Q2293.47 1461.2 2293.47 1468.33 Q2293.47 1475.44 2295.27 1479.01 Q2297.1 1482.55 2300.71 1482.55 Q2304.35 1482.55 2306.15 1479.01 Q2307.98 1475.44 2307.98 1468.33 Q2307.98 1461.2 2306.15 1457.66 Q2304.35 1454.1 2300.71 1454.1 M2300.71 1450.39 Q2306.52 1450.39 2309.58 1455 Q2312.66 1459.58 2312.66 1468.33 Q2312.66 1477.06 2309.58 1481.67 Q2306.52 1486.25 2300.71 1486.25 Q2294.9 1486.25 2291.82 1481.67 Q2288.77 1477.06 2288.77 1468.33 Q2288.77 1459.58 2291.82 1455 Q2294.9 1450.39 2300.71 1450.39 Z\" fill=\"#000000\" fill-rule=\"evenodd\" fill-opacity=\"1\" /><path clip-path=\"url(#clip330)\" d=\"M2330.87 1454.1 Q2327.26 1454.1 2325.43 1457.66 Q2323.63 1461.2 2323.63 1468.33 Q2323.63 1475.44 2325.43 1479.01 Q2327.26 1482.55 2330.87 1482.55 Q2334.51 1482.55 2336.31 1479.01 Q2338.14 1475.44 2338.14 1468.33 Q2338.14 1461.2 2336.31 1457.66 Q2334.51 1454.1 2330.87 1454.1 M2330.87 1450.39 Q2336.68 1450.39 2339.74 1455 Q2342.82 1459.58 2342.82 1468.33 Q2342.82 1477.06 2339.74 1481.67 Q2336.68 1486.25 2330.87 1486.25 Q2325.06 1486.25 2321.98 1481.67 Q2318.93 1477.06 2318.93 1468.33 Q2318.93 1459.58 2321.98 1455 Q2325.06 1450.39 2330.87 1450.39 Z\" fill=\"#000000\" fill-rule=\"evenodd\" fill-opacity=\"1\" /><path clip-path=\"url(#clip330)\" d=\"M1335.2 1532.4 L1322.31 1549.74 L1335.87 1568.04 L1328.96 1568.04 L1318.59 1554.04 L1308.21 1568.04 L1301.31 1568.04 L1315.15 1549.39 L1302.48 1532.4 L1309.39 1532.4 L1318.84 1545.1 L1328.3 1532.4 L1335.2 1532.4 Z\" fill=\"#000000\" fill-rule=\"evenodd\" fill-opacity=\"1\" /><polyline clip-path=\"url(#clip332)\" style=\"stroke:#000000; stroke-linecap:round; stroke-linejoin:round; stroke-width:2; stroke-opacity:0.1; fill:none\" points=\"284.422,1246.75 2352.76,1246.75 \"/>\n",
       "<polyline clip-path=\"url(#clip332)\" style=\"stroke:#000000; stroke-linecap:round; stroke-linejoin:round; stroke-width:2; stroke-opacity:0.1; fill:none\" points=\"284.422,954.226 2352.76,954.226 \"/>\n",
       "<polyline clip-path=\"url(#clip332)\" style=\"stroke:#000000; stroke-linecap:round; stroke-linejoin:round; stroke-width:2; stroke-opacity:0.1; fill:none\" points=\"284.422,661.7 2352.76,661.7 \"/>\n",
       "<polyline clip-path=\"url(#clip332)\" style=\"stroke:#000000; stroke-linecap:round; stroke-linejoin:round; stroke-width:2; stroke-opacity:0.1; fill:none\" points=\"284.422,369.175 2352.76,369.175 \"/>\n",
       "<polyline clip-path=\"url(#clip330)\" style=\"stroke:#000000; stroke-linecap:round; stroke-linejoin:round; stroke-width:4; stroke-opacity:1; fill:none\" points=\"284.422,1423.18 284.422,123.472 \"/>\n",
       "<polyline clip-path=\"url(#clip330)\" style=\"stroke:#000000; stroke-linecap:round; stroke-linejoin:round; stroke-width:4; stroke-opacity:1; fill:none\" points=\"284.422,1246.75 303.319,1246.75 \"/>\n",
       "<polyline clip-path=\"url(#clip330)\" style=\"stroke:#000000; stroke-linecap:round; stroke-linejoin:round; stroke-width:4; stroke-opacity:1; fill:none\" points=\"284.422,954.226 303.319,954.226 \"/>\n",
       "<polyline clip-path=\"url(#clip330)\" style=\"stroke:#000000; stroke-linecap:round; stroke-linejoin:round; stroke-width:4; stroke-opacity:1; fill:none\" points=\"284.422,661.7 303.319,661.7 \"/>\n",
       "<polyline clip-path=\"url(#clip330)\" style=\"stroke:#000000; stroke-linecap:round; stroke-linejoin:round; stroke-width:4; stroke-opacity:1; fill:none\" points=\"284.422,369.175 303.319,369.175 \"/>\n",
       "<path clip-path=\"url(#clip330)\" d=\"M50.9921 1247.2 L80.6679 1247.2 L80.6679 1251.14 L50.9921 1251.14 L50.9921 1247.2 Z\" fill=\"#000000\" fill-rule=\"evenodd\" fill-opacity=\"1\" /><path clip-path=\"url(#clip330)\" d=\"M100.76 1232.55 Q97.1493 1232.55 95.3206 1236.11 Q93.515 1239.66 93.515 1246.79 Q93.515 1253.89 95.3206 1257.46 Q97.1493 1261 100.76 1261 Q104.395 1261 106.2 1257.46 Q108.029 1253.89 108.029 1246.79 Q108.029 1239.66 106.2 1236.11 Q104.395 1232.55 100.76 1232.55 M100.76 1228.85 Q106.571 1228.85 109.626 1233.45 Q112.705 1238.04 112.705 1246.79 Q112.705 1255.51 109.626 1260.12 Q106.571 1264.7 100.76 1264.7 Q94.9502 1264.7 91.8715 1260.12 Q88.816 1255.51 88.816 1246.79 Q88.816 1238.04 91.8715 1233.45 Q94.9502 1228.85 100.76 1228.85 Z\" fill=\"#000000\" fill-rule=\"evenodd\" fill-opacity=\"1\" /><path clip-path=\"url(#clip330)\" d=\"M120.922 1258.15 L125.807 1258.15 L125.807 1264.03 L120.922 1264.03 L120.922 1258.15 Z\" fill=\"#000000\" fill-rule=\"evenodd\" fill-opacity=\"1\" /><path clip-path=\"url(#clip330)\" d=\"M145.992 1232.55 Q142.381 1232.55 140.552 1236.11 Q138.746 1239.66 138.746 1246.79 Q138.746 1253.89 140.552 1257.46 Q142.381 1261 145.992 1261 Q149.626 1261 151.431 1257.46 Q153.26 1253.89 153.26 1246.79 Q153.26 1239.66 151.431 1236.11 Q149.626 1232.55 145.992 1232.55 M145.992 1228.85 Q151.802 1228.85 154.857 1233.45 Q157.936 1238.04 157.936 1246.79 Q157.936 1255.51 154.857 1260.12 Q151.802 1264.7 145.992 1264.7 Q140.181 1264.7 137.103 1260.12 Q134.047 1255.51 134.047 1246.79 Q134.047 1238.04 137.103 1233.45 Q140.181 1228.85 145.992 1228.85 Z\" fill=\"#000000\" fill-rule=\"evenodd\" fill-opacity=\"1\" /><path clip-path=\"url(#clip330)\" d=\"M176.153 1232.55 Q172.542 1232.55 170.714 1236.11 Q168.908 1239.66 168.908 1246.79 Q168.908 1253.89 170.714 1257.46 Q172.542 1261 176.153 1261 Q179.788 1261 181.593 1257.46 Q183.422 1253.89 183.422 1246.79 Q183.422 1239.66 181.593 1236.11 Q179.788 1232.55 176.153 1232.55 M176.153 1228.85 Q181.964 1228.85 185.019 1233.45 Q188.098 1238.04 188.098 1246.79 Q188.098 1255.51 185.019 1260.12 Q181.964 1264.7 176.153 1264.7 Q170.343 1264.7 167.265 1260.12 Q164.209 1255.51 164.209 1246.79 Q164.209 1238.04 167.265 1233.45 Q170.343 1228.85 176.153 1228.85 Z\" fill=\"#000000\" fill-rule=\"evenodd\" fill-opacity=\"1\" /><path clip-path=\"url(#clip330)\" d=\"M196.362 1229.47 L214.718 1229.47 L214.718 1233.41 L200.644 1233.41 L200.644 1241.88 Q201.663 1241.53 202.681 1241.37 Q203.7 1241.18 204.718 1241.18 Q210.505 1241.18 213.885 1244.36 Q217.264 1247.53 217.264 1252.94 Q217.264 1258.52 213.792 1261.62 Q210.32 1264.7 204.001 1264.7 Q201.825 1264.7 199.556 1264.33 Q197.311 1263.96 194.903 1263.22 L194.903 1258.52 Q196.987 1259.66 199.209 1260.21 Q201.431 1260.77 203.908 1260.77 Q207.913 1260.77 210.251 1258.66 Q212.588 1256.55 212.588 1252.94 Q212.588 1249.33 210.251 1247.23 Q207.913 1245.12 203.908 1245.12 Q202.033 1245.12 200.158 1245.54 Q198.306 1245.95 196.362 1246.83 L196.362 1229.47 Z\" fill=\"#000000\" fill-rule=\"evenodd\" fill-opacity=\"1\" /><path clip-path=\"url(#clip330)\" d=\"M236.477 1232.55 Q232.866 1232.55 231.037 1236.11 Q229.232 1239.66 229.232 1246.79 Q229.232 1253.89 231.037 1257.46 Q232.866 1261 236.477 1261 Q240.111 1261 241.917 1257.46 Q243.746 1253.89 243.746 1246.79 Q243.746 1239.66 241.917 1236.11 Q240.111 1232.55 236.477 1232.55 M236.477 1228.85 Q242.287 1228.85 245.343 1233.45 Q248.422 1238.04 248.422 1246.79 Q248.422 1255.51 245.343 1260.12 Q242.287 1264.7 236.477 1264.7 Q230.667 1264.7 227.588 1260.12 Q224.533 1255.51 224.533 1246.79 Q224.533 1238.04 227.588 1233.45 Q230.667 1228.85 236.477 1228.85 Z\" fill=\"#000000\" fill-rule=\"evenodd\" fill-opacity=\"1\" /><path clip-path=\"url(#clip330)\" d=\"M51.9875 954.677 L81.6633 954.677 L81.6633 958.612 L51.9875 958.612 L51.9875 954.677 Z\" fill=\"#000000\" fill-rule=\"evenodd\" fill-opacity=\"1\" /><path clip-path=\"url(#clip330)\" d=\"M101.756 940.024 Q98.1447 940.024 96.316 943.589 Q94.5104 947.131 94.5104 954.26 Q94.5104 961.367 96.316 964.932 Q98.1447 968.473 101.756 968.473 Q105.39 968.473 107.196 964.932 Q109.024 961.367 109.024 954.26 Q109.024 947.131 107.196 943.589 Q105.39 940.024 101.756 940.024 M101.756 936.321 Q107.566 936.321 110.621 940.927 Q113.7 945.51 113.7 954.26 Q113.7 962.987 110.621 967.594 Q107.566 972.177 101.756 972.177 Q95.9456 972.177 92.8669 967.594 Q89.8114 962.987 89.8114 954.26 Q89.8114 945.51 92.8669 940.927 Q95.9456 936.321 101.756 936.321 Z\" fill=\"#000000\" fill-rule=\"evenodd\" fill-opacity=\"1\" /><path clip-path=\"url(#clip330)\" d=\"M121.918 965.626 L126.802 965.626 L126.802 971.506 L121.918 971.506 L121.918 965.626 Z\" fill=\"#000000\" fill-rule=\"evenodd\" fill-opacity=\"1\" /><path clip-path=\"url(#clip330)\" d=\"M146.987 940.024 Q143.376 940.024 141.547 943.589 Q139.742 947.131 139.742 954.26 Q139.742 961.367 141.547 964.932 Q143.376 968.473 146.987 968.473 Q150.621 968.473 152.427 964.932 Q154.255 961.367 154.255 954.26 Q154.255 947.131 152.427 943.589 Q150.621 940.024 146.987 940.024 M146.987 936.321 Q152.797 936.321 155.853 940.927 Q158.931 945.51 158.931 954.26 Q158.931 962.987 155.853 967.594 Q152.797 972.177 146.987 972.177 Q141.177 972.177 138.098 967.594 Q135.043 962.987 135.043 954.26 Q135.043 945.51 138.098 940.927 Q141.177 936.321 146.987 936.321 Z\" fill=\"#000000\" fill-rule=\"evenodd\" fill-opacity=\"1\" /><path clip-path=\"url(#clip330)\" d=\"M177.149 940.024 Q173.538 940.024 171.709 943.589 Q169.904 947.131 169.904 954.26 Q169.904 961.367 171.709 964.932 Q173.538 968.473 177.149 968.473 Q180.783 968.473 182.589 964.932 Q184.417 961.367 184.417 954.26 Q184.417 947.131 182.589 943.589 Q180.783 940.024 177.149 940.024 M177.149 936.321 Q182.959 936.321 186.015 940.927 Q189.093 945.51 189.093 954.26 Q189.093 962.987 186.015 967.594 Q182.959 972.177 177.149 972.177 Q171.339 972.177 168.26 967.594 Q165.204 962.987 165.204 954.26 Q165.204 945.51 168.26 940.927 Q171.339 936.321 177.149 936.321 Z\" fill=\"#000000\" fill-rule=\"evenodd\" fill-opacity=\"1\" /><path clip-path=\"url(#clip330)\" d=\"M201.339 967.571 L217.658 967.571 L217.658 971.506 L195.714 971.506 L195.714 967.571 Q198.376 964.816 202.959 960.186 Q207.565 955.534 208.746 954.191 Q210.991 951.668 211.871 949.932 Q212.774 948.172 212.774 946.483 Q212.774 943.728 210.829 941.992 Q208.908 940.256 205.806 940.256 Q203.607 940.256 201.153 941.02 Q198.723 941.784 195.945 943.335 L195.945 938.612 Q198.769 937.478 201.223 936.899 Q203.676 936.321 205.714 936.321 Q211.084 936.321 214.278 939.006 Q217.473 941.691 217.473 946.182 Q217.473 948.311 216.663 950.233 Q215.876 952.131 213.769 954.723 Q213.19 955.395 210.088 958.612 Q206.987 961.807 201.339 967.571 Z\" fill=\"#000000\" fill-rule=\"evenodd\" fill-opacity=\"1\" /><path clip-path=\"url(#clip330)\" d=\"M227.519 936.946 L245.875 936.946 L245.875 940.881 L231.801 940.881 L231.801 949.353 Q232.82 949.006 233.838 948.844 Q234.857 948.659 235.875 948.659 Q241.662 948.659 245.042 951.83 Q248.422 955.001 248.422 960.418 Q248.422 965.996 244.949 969.098 Q241.477 972.177 235.158 972.177 Q232.982 972.177 230.713 971.807 Q228.468 971.436 226.061 970.696 L226.061 965.996 Q228.144 967.131 230.366 967.686 Q232.588 968.242 235.065 968.242 Q239.07 968.242 241.408 966.135 Q243.746 964.029 243.746 960.418 Q243.746 956.807 241.408 954.7 Q239.07 952.594 235.065 952.594 Q233.19 952.594 231.315 953.01 Q229.463 953.427 227.519 954.307 L227.519 936.946 Z\" fill=\"#000000\" fill-rule=\"evenodd\" fill-opacity=\"1\" /><path clip-path=\"url(#clip330)\" d=\"M100.76 647.499 Q97.1493 647.499 95.3206 651.064 Q93.515 654.605 93.515 661.735 Q93.515 668.841 95.3206 672.406 Q97.1493 675.948 100.76 675.948 Q104.395 675.948 106.2 672.406 Q108.029 668.841 108.029 661.735 Q108.029 654.605 106.2 651.064 Q104.395 647.499 100.76 647.499 M100.76 643.795 Q106.571 643.795 109.626 648.402 Q112.705 652.985 112.705 661.735 Q112.705 670.462 109.626 675.068 Q106.571 679.651 100.76 679.651 Q94.9502 679.651 91.8715 675.068 Q88.816 670.462 88.816 661.735 Q88.816 652.985 91.8715 648.402 Q94.9502 643.795 100.76 643.795 Z\" fill=\"#000000\" fill-rule=\"evenodd\" fill-opacity=\"1\" /><path clip-path=\"url(#clip330)\" d=\"M120.922 673.101 L125.807 673.101 L125.807 678.98 L120.922 678.98 L120.922 673.101 Z\" fill=\"#000000\" fill-rule=\"evenodd\" fill-opacity=\"1\" /><path clip-path=\"url(#clip330)\" d=\"M145.992 647.499 Q142.381 647.499 140.552 651.064 Q138.746 654.605 138.746 661.735 Q138.746 668.841 140.552 672.406 Q142.381 675.948 145.992 675.948 Q149.626 675.948 151.431 672.406 Q153.26 668.841 153.26 661.735 Q153.26 654.605 151.431 651.064 Q149.626 647.499 145.992 647.499 M145.992 643.795 Q151.802 643.795 154.857 648.402 Q157.936 652.985 157.936 661.735 Q157.936 670.462 154.857 675.068 Q151.802 679.651 145.992 679.651 Q140.181 679.651 137.103 675.068 Q134.047 670.462 134.047 661.735 Q134.047 652.985 137.103 648.402 Q140.181 643.795 145.992 643.795 Z\" fill=\"#000000\" fill-rule=\"evenodd\" fill-opacity=\"1\" /><path clip-path=\"url(#clip330)\" d=\"M176.153 647.499 Q172.542 647.499 170.714 651.064 Q168.908 654.605 168.908 661.735 Q168.908 668.841 170.714 672.406 Q172.542 675.948 176.153 675.948 Q179.788 675.948 181.593 672.406 Q183.422 668.841 183.422 661.735 Q183.422 654.605 181.593 651.064 Q179.788 647.499 176.153 647.499 M176.153 643.795 Q181.964 643.795 185.019 648.402 Q188.098 652.985 188.098 661.735 Q188.098 670.462 185.019 675.068 Q181.964 679.651 176.153 679.651 Q170.343 679.651 167.265 675.068 Q164.209 670.462 164.209 661.735 Q164.209 652.985 167.265 648.402 Q170.343 643.795 176.153 643.795 Z\" fill=\"#000000\" fill-rule=\"evenodd\" fill-opacity=\"1\" /><path clip-path=\"url(#clip330)\" d=\"M206.315 647.499 Q202.704 647.499 200.876 651.064 Q199.07 654.605 199.07 661.735 Q199.07 668.841 200.876 672.406 Q202.704 675.948 206.315 675.948 Q209.95 675.948 211.755 672.406 Q213.584 668.841 213.584 661.735 Q213.584 654.605 211.755 651.064 Q209.95 647.499 206.315 647.499 M206.315 643.795 Q212.126 643.795 215.181 648.402 Q218.26 652.985 218.26 661.735 Q218.26 670.462 215.181 675.068 Q212.126 679.651 206.315 679.651 Q200.505 679.651 197.427 675.068 Q194.371 670.462 194.371 661.735 Q194.371 652.985 197.427 648.402 Q200.505 643.795 206.315 643.795 Z\" fill=\"#000000\" fill-rule=\"evenodd\" fill-opacity=\"1\" /><path clip-path=\"url(#clip330)\" d=\"M236.477 647.499 Q232.866 647.499 231.037 651.064 Q229.232 654.605 229.232 661.735 Q229.232 668.841 231.037 672.406 Q232.866 675.948 236.477 675.948 Q240.111 675.948 241.917 672.406 Q243.746 668.841 243.746 661.735 Q243.746 654.605 241.917 651.064 Q240.111 647.499 236.477 647.499 M236.477 643.795 Q242.287 643.795 245.343 648.402 Q248.422 652.985 248.422 661.735 Q248.422 670.462 245.343 675.068 Q242.287 679.651 236.477 679.651 Q230.667 679.651 227.588 675.068 Q224.533 670.462 224.533 661.735 Q224.533 652.985 227.588 648.402 Q230.667 643.795 236.477 643.795 Z\" fill=\"#000000\" fill-rule=\"evenodd\" fill-opacity=\"1\" /><path clip-path=\"url(#clip330)\" d=\"M101.756 354.973 Q98.1447 354.973 96.316 358.538 Q94.5104 362.08 94.5104 369.209 Q94.5104 376.316 96.316 379.881 Q98.1447 383.422 101.756 383.422 Q105.39 383.422 107.196 379.881 Q109.024 376.316 109.024 369.209 Q109.024 362.08 107.196 358.538 Q105.39 354.973 101.756 354.973 M101.756 351.27 Q107.566 351.27 110.621 355.876 Q113.7 360.459 113.7 369.209 Q113.7 377.936 110.621 382.543 Q107.566 387.126 101.756 387.126 Q95.9456 387.126 92.8669 382.543 Q89.8114 377.936 89.8114 369.209 Q89.8114 360.459 92.8669 355.876 Q95.9456 351.27 101.756 351.27 Z\" fill=\"#000000\" fill-rule=\"evenodd\" fill-opacity=\"1\" /><path clip-path=\"url(#clip330)\" d=\"M121.918 380.575 L126.802 380.575 L126.802 386.455 L121.918 386.455 L121.918 380.575 Z\" fill=\"#000000\" fill-rule=\"evenodd\" fill-opacity=\"1\" /><path clip-path=\"url(#clip330)\" d=\"M146.987 354.973 Q143.376 354.973 141.547 358.538 Q139.742 362.08 139.742 369.209 Q139.742 376.316 141.547 379.881 Q143.376 383.422 146.987 383.422 Q150.621 383.422 152.427 379.881 Q154.255 376.316 154.255 369.209 Q154.255 362.08 152.427 358.538 Q150.621 354.973 146.987 354.973 M146.987 351.27 Q152.797 351.27 155.853 355.876 Q158.931 360.459 158.931 369.209 Q158.931 377.936 155.853 382.543 Q152.797 387.126 146.987 387.126 Q141.177 387.126 138.098 382.543 Q135.043 377.936 135.043 369.209 Q135.043 360.459 138.098 355.876 Q141.177 351.27 146.987 351.27 Z\" fill=\"#000000\" fill-rule=\"evenodd\" fill-opacity=\"1\" /><path clip-path=\"url(#clip330)\" d=\"M177.149 354.973 Q173.538 354.973 171.709 358.538 Q169.904 362.08 169.904 369.209 Q169.904 376.316 171.709 379.881 Q173.538 383.422 177.149 383.422 Q180.783 383.422 182.589 379.881 Q184.417 376.316 184.417 369.209 Q184.417 362.08 182.589 358.538 Q180.783 354.973 177.149 354.973 M177.149 351.27 Q182.959 351.27 186.015 355.876 Q189.093 360.459 189.093 369.209 Q189.093 377.936 186.015 382.543 Q182.959 387.126 177.149 387.126 Q171.339 387.126 168.26 382.543 Q165.204 377.936 165.204 369.209 Q165.204 360.459 168.26 355.876 Q171.339 351.27 177.149 351.27 Z\" fill=\"#000000\" fill-rule=\"evenodd\" fill-opacity=\"1\" /><path clip-path=\"url(#clip330)\" d=\"M201.339 382.52 L217.658 382.52 L217.658 386.455 L195.714 386.455 L195.714 382.52 Q198.376 379.765 202.959 375.135 Q207.565 370.483 208.746 369.14 Q210.991 366.617 211.871 364.881 Q212.774 363.122 212.774 361.432 Q212.774 358.677 210.829 356.941 Q208.908 355.205 205.806 355.205 Q203.607 355.205 201.153 355.969 Q198.723 356.733 195.945 358.284 L195.945 353.561 Q198.769 352.427 201.223 351.848 Q203.676 351.27 205.714 351.27 Q211.084 351.27 214.278 353.955 Q217.473 356.64 217.473 361.131 Q217.473 363.26 216.663 365.182 Q215.876 367.08 213.769 369.672 Q213.19 370.344 210.088 373.561 Q206.987 376.756 201.339 382.52 Z\" fill=\"#000000\" fill-rule=\"evenodd\" fill-opacity=\"1\" /><path clip-path=\"url(#clip330)\" d=\"M227.519 351.895 L245.875 351.895 L245.875 355.83 L231.801 355.83 L231.801 364.302 Q232.82 363.955 233.838 363.793 Q234.857 363.608 235.875 363.608 Q241.662 363.608 245.042 366.779 Q248.422 369.95 248.422 375.367 Q248.422 380.945 244.949 384.047 Q241.477 387.126 235.158 387.126 Q232.982 387.126 230.713 386.756 Q228.468 386.385 226.061 385.645 L226.061 380.945 Q228.144 382.08 230.366 382.635 Q232.588 383.191 235.065 383.191 Q239.07 383.191 241.408 381.084 Q243.746 378.978 243.746 375.367 Q243.746 371.756 241.408 369.649 Q239.07 367.543 235.065 367.543 Q233.19 367.543 231.315 367.959 Q229.463 368.376 227.519 369.256 L227.519 351.895 Z\" fill=\"#000000\" fill-rule=\"evenodd\" fill-opacity=\"1\" /><path clip-path=\"url(#clip330)\" d=\"M1099.41 12.096 L1107.6 12.096 L1107.6 72.576 L1099.41 72.576 L1099.41 12.096 Z\" fill=\"#000000\" fill-rule=\"evenodd\" fill-opacity=\"1\" /><path clip-path=\"url(#clip330)\" d=\"M1161.27 45.1919 L1161.27 72.576 L1153.82 72.576 L1153.82 45.4349 Q1153.82 38.994 1151.31 35.7938 Q1148.8 32.5936 1143.77 32.5936 Q1137.74 32.5936 1134.25 36.4419 Q1130.77 40.2903 1130.77 46.9338 L1130.77 72.576 L1123.27 72.576 L1123.27 27.2059 L1130.77 27.2059 L1130.77 34.2544 Q1133.44 30.163 1137.05 28.1376 Q1140.69 26.1121 1145.43 26.1121 Q1153.25 26.1121 1157.26 30.9732 Q1161.27 35.7938 1161.27 45.1919 Z\" fill=\"#000000\" fill-rule=\"evenodd\" fill-opacity=\"1\" /><path clip-path=\"url(#clip330)\" d=\"M1176.14 27.2059 L1183.59 27.2059 L1183.59 72.576 L1176.14 72.576 L1176.14 27.2059 M1176.14 9.54393 L1183.59 9.54393 L1183.59 18.9825 L1176.14 18.9825 L1176.14 9.54393 Z\" fill=\"#000000\" fill-rule=\"evenodd\" fill-opacity=\"1\" /><path clip-path=\"url(#clip330)\" d=\"M1206.56 14.324 L1206.56 27.2059 L1221.91 27.2059 L1221.91 32.9987 L1206.56 32.9987 L1206.56 57.6282 Q1206.56 63.1779 1208.06 64.7578 Q1209.6 66.3376 1214.26 66.3376 L1221.91 66.3376 L1221.91 72.576 L1214.26 72.576 Q1205.63 72.576 1202.35 69.3758 Q1199.07 66.1351 1199.07 57.6282 L1199.07 32.9987 L1193.6 32.9987 L1193.6 27.2059 L1199.07 27.2059 L1199.07 14.324 L1206.56 14.324 Z\" fill=\"#000000\" fill-rule=\"evenodd\" fill-opacity=\"1\" /><path clip-path=\"url(#clip330)\" d=\"M1231.72 27.2059 L1239.17 27.2059 L1239.17 72.576 L1231.72 72.576 L1231.72 27.2059 M1231.72 9.54393 L1239.17 9.54393 L1239.17 18.9825 L1231.72 18.9825 L1231.72 9.54393 Z\" fill=\"#000000\" fill-rule=\"evenodd\" fill-opacity=\"1\" /><path clip-path=\"url(#clip330)\" d=\"M1275.39 49.7694 Q1266.35 49.7694 1262.87 51.8354 Q1259.38 53.9013 1259.38 58.8839 Q1259.38 62.8538 1261.98 65.2034 Q1264.61 67.5124 1269.11 67.5124 Q1275.3 67.5124 1279.03 63.1374 Q1282.8 58.7219 1282.8 51.4303 L1282.8 49.7694 L1275.39 49.7694 M1290.25 46.6907 L1290.25 72.576 L1282.8 72.576 L1282.8 65.6895 Q1280.25 69.8214 1276.44 71.8063 Q1272.63 73.7508 1267.12 73.7508 Q1260.15 73.7508 1256.02 69.8619 Q1251.93 65.9325 1251.93 59.3701 Q1251.93 51.7138 1257.04 47.825 Q1262.18 43.9361 1272.35 43.9361 L1282.8 43.9361 L1282.8 43.2069 Q1282.8 38.0623 1279.4 35.2672 Q1276.03 32.4315 1269.92 32.4315 Q1266.03 32.4315 1262.34 33.3632 Q1258.66 34.295 1255.25 36.1584 L1255.25 29.2718 Q1259.34 27.692 1263.19 26.9223 Q1267.04 26.1121 1270.69 26.1121 Q1280.53 26.1121 1285.39 31.2163 Q1290.25 36.3204 1290.25 46.6907 Z\" fill=\"#000000\" fill-rule=\"evenodd\" fill-opacity=\"1\" /><path clip-path=\"url(#clip330)\" d=\"M1305.61 9.54393 L1313.06 9.54393 L1313.06 72.576 L1305.61 72.576 L1305.61 9.54393 Z\" fill=\"#000000\" fill-rule=\"evenodd\" fill-opacity=\"1\" /><path clip-path=\"url(#clip330)\" d=\"M1363.53 18.8205 L1363.53 65.8515 L1373.42 65.8515 Q1385.94 65.8515 1391.73 60.1802 Q1397.56 54.509 1397.56 42.2752 Q1397.56 30.1225 1391.73 24.4918 Q1385.94 18.8205 1373.42 18.8205 L1363.53 18.8205 M1355.35 12.096 L1372.16 12.096 Q1389.74 12.096 1397.97 19.4281 Q1406.19 26.7198 1406.19 42.2752 Q1406.19 57.9117 1397.93 65.2439 Q1389.66 72.576 1372.16 72.576 L1355.35 72.576 L1355.35 12.096 Z\" fill=\"#000000\" fill-rule=\"evenodd\" fill-opacity=\"1\" /><path clip-path=\"url(#clip330)\" d=\"M1439.53 49.7694 Q1430.49 49.7694 1427.01 51.8354 Q1423.53 53.9013 1423.53 58.8839 Q1423.53 62.8538 1426.12 65.2034 Q1428.75 67.5124 1433.25 67.5124 Q1439.45 67.5124 1443.17 63.1374 Q1446.94 58.7219 1446.94 51.4303 L1446.94 49.7694 L1439.53 49.7694 M1454.4 46.6907 L1454.4 72.576 L1446.94 72.576 L1446.94 65.6895 Q1444.39 69.8214 1440.58 71.8063 Q1436.77 73.7508 1431.26 73.7508 Q1424.3 73.7508 1420.17 69.8619 Q1416.07 65.9325 1416.07 59.3701 Q1416.07 51.7138 1421.18 47.825 Q1426.32 43.9361 1436.49 43.9361 L1446.94 43.9361 L1446.94 43.2069 Q1446.94 38.0623 1443.54 35.2672 Q1440.18 32.4315 1434.06 32.4315 Q1430.17 32.4315 1426.48 33.3632 Q1422.8 34.295 1419.4 36.1584 L1419.4 29.2718 Q1423.49 27.692 1427.34 26.9223 Q1431.18 26.1121 1434.83 26.1121 Q1444.67 26.1121 1449.53 31.2163 Q1454.4 36.3204 1454.4 46.6907 Z\" fill=\"#000000\" fill-rule=\"evenodd\" fill-opacity=\"1\" /><path clip-path=\"url(#clip330)\" d=\"M1477.12 14.324 L1477.12 27.2059 L1492.47 27.2059 L1492.47 32.9987 L1477.12 32.9987 L1477.12 57.6282 Q1477.12 63.1779 1478.62 64.7578 Q1480.16 66.3376 1484.82 66.3376 L1492.47 66.3376 L1492.47 72.576 L1484.82 72.576 Q1476.19 72.576 1472.91 69.3758 Q1469.63 66.1351 1469.63 57.6282 L1469.63 32.9987 L1464.16 32.9987 L1464.16 27.2059 L1469.63 27.2059 L1469.63 14.324 L1477.12 14.324 Z\" fill=\"#000000\" fill-rule=\"evenodd\" fill-opacity=\"1\" /><path clip-path=\"url(#clip330)\" d=\"M1522.9 49.7694 Q1513.86 49.7694 1510.38 51.8354 Q1506.9 53.9013 1506.9 58.8839 Q1506.9 62.8538 1509.49 65.2034 Q1512.12 67.5124 1516.62 67.5124 Q1522.82 67.5124 1526.54 63.1374 Q1530.31 58.7219 1530.31 51.4303 L1530.31 49.7694 L1522.9 49.7694 M1537.76 46.6907 L1537.76 72.576 L1530.31 72.576 L1530.31 65.6895 Q1527.76 69.8214 1523.95 71.8063 Q1520.14 73.7508 1514.63 73.7508 Q1507.66 73.7508 1503.53 69.8619 Q1499.44 65.9325 1499.44 59.3701 Q1499.44 51.7138 1504.55 47.825 Q1509.69 43.9361 1519.86 43.9361 L1530.31 43.9361 L1530.31 43.2069 Q1530.31 38.0623 1526.91 35.2672 Q1523.54 32.4315 1517.43 32.4315 Q1513.54 32.4315 1509.85 33.3632 Q1506.17 34.295 1502.76 36.1584 L1502.76 29.2718 Q1506.85 27.692 1510.7 26.9223 Q1514.55 26.1121 1518.2 26.1121 Q1528.04 26.1121 1532.9 31.2163 Q1537.76 36.3204 1537.76 46.6907 Z\" fill=\"#000000\" fill-rule=\"evenodd\" fill-opacity=\"1\" /><polyline clip-path=\"url(#clip332)\" style=\"stroke:#009af9; stroke-linecap:round; stroke-linejoin:round; stroke-width:4; stroke-opacity:1; fill:none\" points=\"342.959,661.7 343.057,661.7 343.349,661.7 343.837,661.7 344.519,661.7 345.396,661.7 346.467,661.7 347.733,661.7 349.192,661.7 350.846,661.7 352.693,661.7 354.732,661.7 356.965,661.7 359.39,661.7 362.006,661.7 364.814,661.7 367.812,661.7 371,661.7 374.377,661.7 377.944,661.7 381.698,661.7 385.64,661.7 389.768,661.7 394.081,661.7 398.579,661.7 403.262,661.7 408.127,661.7 413.174,661.7 418.402,661.7 423.81,661.7 429.397,661.7 435.161,661.7 441.103,661.7 447.219,661.7 453.51,661.7 459.973,661.7 466.608,661.7 473.414,661.7 480.388,661.7 487.53,661.7 494.838,661.7 502.31,661.7 509.946,661.7 517.743,661.7 525.7,661.7 533.816,661.7 542.089,661.7 550.517,661.7 559.098,661.7 567.831,661.7 576.714,661.7 585.746,661.7 594.924,661.7 604.246,661.7 613.712,661.7 623.318,661.7 633.063,661.7 642.945,661.7 652.962,661.7 663.112,661.7 673.393,661.7 683.804,661.7 694.341,661.7 705.002,661.7 715.787,661.7 726.692,661.7 737.715,661.7 748.854,661.7 760.107,661.7 771.472,661.7 782.946,661.7 794.527,661.7 806.213,661.7 818.001,661.7 829.89,661.7 841.876,661.7 853.957,661.7 866.131,661.699 878.395,661.699 890.748,661.699 903.186,661.698 915.707,661.697 928.309,661.696 940.988,661.694 953.743,661.692 966.571,661.69 979.469,661.686 992.435,661.682 1005.47,661.676 1018.56,661.669 1031.71,661.661 1044.93,661.651 1058.19,661.639 1071.51,661.625 1084.88,661.61 1098.29,661.593 1111.75,661.576 1125.25,661.559 1138.79,661.543 1152.36,661.529 1165.97,661.517 1179.6,661.509 1193.27,661.504 1206.96,661.503 1220.67,661.502 1234.41,661.502 1248.15,661.497 1261.92,661.485 1275.69,661.464 1289.48,661.43 1303.26,661.385 1317.06,661.329 1330.85,661.265 1344.64,661.199 1358.42,661.135 1372.2,661.077 1385.97,661.029 1399.72,660.992 1413.45,660.966 1427.17,660.949 1440.87,660.938 1454.54,660.932 1468.18,660.93 1481.8,660.928 1495.38,660.928 1508.92,660.928 1522.43,660.928 1535.9,660.928 1549.32,660.928 1562.7,660.928 1576.03,660.928 1589.31,660.928 1602.53,660.928 1615.7,660.928 1628.81,660.928 1641.85,660.928 1654.83,660.928 1667.75,660.928 1680.59,660.928 1693.36,660.928 1706.06,660.928 1718.68,660.928 1731.22,660.928 1743.67,660.928 1756.04,660.928 1768.33,660.928 1780.52,660.928 1792.63,660.928 1804.63,660.928 1816.54,660.928 1828.35,660.928 1840.06,660.928 1851.67,660.928 1863.17,660.928 1874.55,660.928 1885.83,660.928 1897,660.928 1908.05,660.928 1918.98,660.928 1929.79,660.928 1940.48,660.928 1951.04,660.928 1961.48,660.928 1971.79,660.928 1981.97,660.928 1992.02,660.928 2001.93,660.928 2011.71,660.928 2021.34,660.928 2030.84,660.928 2040.19,660.928 2049.4,660.928 2058.47,660.928 2067.39,660.928 2076.15,660.928 2084.77,660.928 2093.23,660.928 2101.54,660.928 2109.69,660.928 2117.68,660.928 2125.51,660.928 2133.18,660.928 2140.69,660.928 2148.04,660.928 2155.22,660.928 2162.23,660.928 2169.07,660.928 2175.74,660.928 2182.25,660.928 2188.58,660.928 2194.73,660.928 2200.71,660.928 2206.51,660.928 2212.14,660.928 2217.59,660.928 2222.86,660.928 2227.94,660.928 2232.85,660.928 2237.57,660.928 2242.11,660.928 2294.22,660.928 \"/>\n",
       "<polyline clip-path=\"url(#clip332)\" style=\"stroke:#e26f46; stroke-linecap:round; stroke-linejoin:round; stroke-width:4; stroke-opacity:1; fill:none\" points=\"342.959,661.7 343.057,661.7 343.349,661.7 343.837,661.7 344.519,661.7 345.396,661.7 346.467,661.7 347.733,661.7 349.192,661.7 350.846,661.7 352.693,661.7 354.732,661.7 356.965,661.7 359.39,661.7 362.006,661.7 364.814,661.7 367.812,661.7 371,661.7 374.377,661.7 377.944,661.7 381.698,661.7 385.64,661.7 389.768,661.7 394.081,661.7 398.579,661.7 403.262,661.7 408.127,661.7 413.174,661.7 418.402,661.7 423.81,661.7 429.397,661.7 435.161,661.7 441.103,661.7 447.219,661.7 453.51,661.7 459.973,661.7 466.608,661.7 473.414,661.7 480.388,661.7 487.53,661.7 494.838,661.7 502.31,661.7 509.946,661.7 517.743,661.7 525.7,661.7 533.816,661.7 542.089,661.7 550.517,661.7 559.098,661.7 567.831,661.7 576.714,661.7 585.746,661.7 594.924,661.7 604.246,661.7 613.712,661.7 623.318,661.7 633.063,661.7 642.945,661.7 652.962,661.7 663.112,661.7 673.393,661.7 683.804,661.7 694.341,661.7 705.002,661.7 715.787,661.7 726.692,661.7 737.715,661.7 748.854,661.7 760.107,661.7 771.472,661.7 782.946,661.7 794.527,661.7 806.213,661.7 818.001,661.699 829.89,661.699 841.876,661.699 853.957,661.698 866.131,661.698 878.395,661.697 890.748,661.695 903.186,661.694 915.707,661.692 928.309,661.689 940.988,661.685 953.743,661.681 966.571,661.675 979.469,661.668 992.435,661.659 1005.47,661.648 1018.56,661.635 1031.71,661.619 1044.93,661.601 1058.19,661.58 1071.51,661.556 1084.88,661.531 1098.29,661.505 1111.75,661.478 1125.25,661.452 1138.79,661.428 1152.36,661.408 1165.97,661.392 1179.6,661.381 1193.27,661.375 1206.96,661.372 1220.67,661.372 1234.41,661.371 1248.15,661.366 1261.92,661.352 1275.69,661.329 1289.48,661.293 1303.26,661.245 1317.06,661.188 1330.85,661.125 1344.64,661.062 1358.42,661.002 1372.2,660.949 1385.97,660.907 1399.72,660.875 1413.45,660.853 1427.17,660.839 1440.87,660.831 1454.54,660.826 1468.18,660.824 1481.8,660.823 1495.38,660.823 1508.92,660.823 1522.43,660.823 1535.9,660.823 1549.32,660.823 1562.7,660.823 1576.03,660.823 1589.31,660.823 1602.53,660.823 1615.7,660.823 1628.81,660.823 1641.85,660.823 1654.83,660.823 1667.75,660.823 1680.59,660.823 1693.36,660.823 1706.06,660.823 1718.68,660.823 1731.22,660.823 1743.67,660.823 1756.04,660.823 1768.33,660.823 1780.52,660.823 1792.63,660.823 1804.63,660.823 1816.54,660.823 1828.35,660.823 1840.06,660.823 1851.67,660.823 1863.17,660.823 1874.55,660.823 1885.83,660.823 1897,660.823 1908.05,660.823 1918.98,660.823 1929.79,660.823 1940.48,660.823 1951.04,660.823 1961.48,660.823 1971.79,660.823 1981.97,660.823 1992.02,660.823 2001.93,660.823 2011.71,660.823 2021.34,660.823 2030.84,660.823 2040.19,660.823 2049.4,660.823 2058.47,660.823 2067.39,660.823 2076.15,660.823 2084.77,660.823 2093.23,660.823 2101.54,660.823 2109.69,660.823 2117.68,660.823 2125.51,660.823 2133.18,660.823 2140.69,660.823 2148.04,660.823 2155.22,660.823 2162.23,660.823 2169.07,660.823 2175.74,660.823 2182.25,660.823 2188.58,660.823 2194.73,660.823 2200.71,660.823 2206.51,660.823 2212.14,660.823 2217.59,660.823 2222.86,660.823 2227.94,660.823 2232.85,660.823 2237.57,660.823 2242.11,660.823 2294.22,660.823 \"/>\n",
       "<polyline clip-path=\"url(#clip332)\" style=\"stroke:#3da44d; stroke-linecap:round; stroke-linejoin:round; stroke-width:4; stroke-opacity:1; fill:none\" points=\"342.959,661.7 343.057,661.7 343.349,661.7 343.837,661.7 344.519,661.7 345.396,661.7 346.467,661.7 347.733,661.7 349.192,661.7 350.846,661.7 352.693,661.7 354.732,661.7 356.965,661.7 359.39,661.7 362.006,661.7 364.814,661.7 367.812,661.7 371,661.7 374.377,661.7 377.944,661.7 381.698,661.7 385.64,661.7 389.768,661.7 394.081,661.7 398.579,661.7 403.262,661.7 408.127,661.7 413.174,661.7 418.402,661.7 423.81,661.7 429.397,661.7 435.161,661.7 441.103,661.7 447.219,661.7 453.51,661.7 459.973,661.7 466.608,661.7 473.414,661.7 480.388,661.7 487.53,661.699 494.838,661.699 502.31,661.699 509.946,661.699 517.743,661.698 525.7,661.698 533.816,661.697 542.089,661.696 550.517,661.696 559.098,661.694 567.831,661.693 576.714,661.692 585.746,661.69 594.924,661.687 604.246,661.684 613.712,661.681 623.318,661.676 633.063,661.671 642.945,661.665 652.962,661.657 663.112,661.647 673.393,661.636 683.804,661.622 694.341,661.605 705.002,661.584 715.787,661.559 726.692,661.528 737.715,661.492 748.854,661.447 760.107,661.393 771.472,661.328 782.946,661.25 794.527,661.155 806.213,661.041 818.001,660.905 829.89,660.741 841.876,660.544 853.957,660.31 866.131,660.03 878.395,659.698 890.748,659.303 903.186,658.837 915.707,658.286 928.309,657.639 940.988,656.882 953.743,655.999 966.571,654.973 979.469,653.789 992.435,652.428 1005.47,650.874 1018.56,649.111 1031.71,647.125 1044.93,644.907 1058.19,642.45 1071.51,639.758 1084.88,636.839 1098.29,633.715 1111.75,630.419 1125.25,626.999 1138.79,623.52 1152.36,620.061 1165.97,616.719 1179.6,613.604 1193.27,610.837 1206.96,608.547 1220.67,606.859 1234.41,605.892 1248.15,605.741 1261.92,606.477 1275.69,608.13 1289.48,610.681 1303.26,614.065 1317.06,618.162 1330.85,622.808 1344.64,627.805 1358.42,632.932 1372.2,637.97 1385.97,642.716 1399.72,647.006 1413.45,650.723 1427.17,653.807 1440.87,656.253 1454.54,658.104 1468.18,659.436 1481.8,660.346 1495.38,660.934 1508.92,661.291 1522.43,661.496 1535.9,661.605 1549.32,661.659 1562.7,661.684 1576.03,661.694 1589.31,661.698 1602.53,661.7 1615.7,661.7 1628.81,661.7 1641.85,661.7 1654.83,661.7 1667.75,661.7 1680.59,661.7 1693.36,661.7 1706.06,661.7 1718.68,661.7 1731.22,661.7 1743.67,661.7 1756.04,661.7 1768.33,661.7 1780.52,661.7 1792.63,661.7 1804.63,661.7 1816.54,661.7 1828.35,661.7 1840.06,661.7 1851.67,661.7 1863.17,661.7 1874.55,661.7 1885.83,661.7 1897,661.7 1908.05,661.7 1918.98,661.7 1929.79,661.7 1940.48,661.7 1951.04,661.7 1961.48,661.7 1971.79,661.7 1981.97,661.7 1992.02,661.7 2001.93,661.7 2011.71,661.7 2021.34,661.7 2030.84,661.7 2040.19,661.7 2049.4,661.7 2058.47,661.7 2067.39,661.7 2076.15,661.7 2084.77,661.7 2093.23,661.7 2101.54,661.7 2109.69,661.7 2117.68,661.7 2125.51,661.7 2133.18,661.7 2140.69,661.7 2148.04,661.7 2155.22,661.7 2162.23,661.7 2169.07,661.7 2175.74,661.7 2182.25,661.7 2188.58,661.7 2194.73,661.7 2200.71,661.7 2206.51,661.7 2212.14,661.7 2217.59,661.7 2222.86,661.7 2227.94,661.7 2232.85,661.7 2237.57,661.7 2242.11,661.7 2294.22,661.7 \"/>\n",
       "<polyline clip-path=\"url(#clip332)\" style=\"stroke:#c271d2; stroke-linecap:round; stroke-linejoin:round; stroke-width:4; stroke-opacity:1; fill:none\" points=\"342.959,661.7 343.057,661.7 343.349,661.7 343.837,661.7 344.519,661.7 345.396,661.7 346.467,661.7 347.733,661.7 349.192,661.7 350.846,661.7 352.693,661.7 354.732,661.7 356.965,661.7 359.39,661.7 362.006,661.7 364.814,661.7 367.812,661.7 371,661.7 374.377,661.7 377.944,661.699 381.698,661.699 385.64,661.699 389.768,661.699 394.081,661.698 398.579,661.698 403.262,661.697 408.127,661.696 413.174,661.695 418.402,661.694 423.81,661.693 429.397,661.691 435.161,661.689 441.103,661.687 447.219,661.684 453.51,661.681 459.973,661.677 466.608,661.672 473.414,661.666 480.388,661.659 487.53,661.65 494.838,661.64 502.31,661.627 509.946,661.612 517.743,661.594 525.7,661.573 533.816,661.547 542.089,661.516 550.517,661.479 559.098,661.434 567.831,661.38 576.714,661.316 585.746,661.238 594.924,661.145 604.246,661.033 613.712,660.899 623.318,660.738 633.063,660.545 642.945,660.313 652.962,660.034 663.112,659.7 673.393,659.3 683.804,658.82 694.341,658.245 705.002,657.557 715.787,656.733 726.692,655.748 737.715,654.572 748.854,653.168 760.107,651.494 771.472,649.502 782.946,647.133 794.527,644.322 806.213,640.993 818.001,637.056 829.89,632.414 841.876,626.952 853.957,620.546 866.131,613.056 878.395,604.33 890.748,594.204 903.186,582.507 915.707,569.063 928.309,553.696 940.988,536.242 953.743,516.559 966.571,494.538 979.469,470.126 992.435,443.348 1005.47,414.328 1018.56,383.323 1031.71,350.753 1044.93,317.237 1058.19,283.621 1071.51,251.007 1084.88,220.771 1098.29,194.567 1111.75,174.307 1125.25,162.118 1138.79,160.256 1152.36,170.993 1165.97,196.445 1179.6,238.377 1193.27,297.959 1206.96,375.523 1220.67,470.316 1234.41,580.302 1248.15,702.05 1261.92,830.739 1275.69,960.333 1289.48,1083.93 1303.26,1194.28 1317.06,1284.52 1330.85,1348.85 1344.64,1383.32 1358.42,1386.4 1372.2,1359.27 1385.97,1305.82 1399.72,1232.14 1413.45,1145.8 1427.17,1054.8 1440.87,966.541 1454.54,886.925 1468.18,819.802 1481.8,766.817 1495.38,727.661 1508.92,700.612 1522.43,683.188 1535.9,672.755 1549.32,666.972 1562.7,664.017 1576.03,662.633 1589.31,662.042 1602.53,661.813 1615.7,661.734 1628.81,661.709 1641.85,661.702 1654.83,661.701 1667.75,661.7 1680.59,661.7 1693.36,661.7 1706.06,661.7 1718.68,661.7 1731.22,661.7 1743.67,661.7 1756.04,661.7 1768.33,661.7 1780.52,661.7 1792.63,661.7 1804.63,661.7 1816.54,661.7 1828.35,661.7 1840.06,661.7 1851.67,661.7 1863.17,661.7 1874.55,661.7 1885.83,661.7 1897,661.7 1908.05,661.7 1918.98,661.7 1929.79,661.7 1940.48,661.7 1951.04,661.7 1961.48,661.7 1971.79,661.7 1981.97,661.7 1992.02,661.7 2001.93,661.7 2011.71,661.7 2021.34,661.7 2030.84,661.7 2040.19,661.7 2049.4,661.7 2058.47,661.7 2067.39,661.7 2076.15,661.7 2084.77,661.7 2093.23,661.7 2101.54,661.7 2109.69,661.7 2117.68,661.7 2125.51,661.7 2133.18,661.7 2140.69,661.7 2148.04,661.7 2155.22,661.7 2162.23,661.7 2169.07,661.7 2175.74,661.7 2182.25,661.7 2188.58,661.7 2194.73,661.7 2200.71,661.7 2206.51,661.7 2212.14,661.7 2217.59,661.7 2222.86,661.7 2227.94,661.7 2232.85,661.7 2237.57,661.7 2242.11,661.7 2294.22,661.7 \"/>\n",
       "<path clip-path=\"url(#clip330)\" d=\"M1971.75 425.996 L2283.81 425.996 L2283.81 166.796 L1971.75 166.796  Z\" fill=\"#ffffff\" fill-rule=\"evenodd\" fill-opacity=\"1\"/>\n",
       "<polyline clip-path=\"url(#clip330)\" style=\"stroke:#000000; stroke-linecap:round; stroke-linejoin:round; stroke-width:4; stroke-opacity:1; fill:none\" points=\"1971.75,425.996 2283.81,425.996 2283.81,166.796 1971.75,166.796 1971.75,425.996 \"/>\n",
       "<polyline clip-path=\"url(#clip330)\" style=\"stroke:#009af9; stroke-linecap:round; stroke-linejoin:round; stroke-width:4; stroke-opacity:1; fill:none\" points=\"1994.73,218.636 2132.62,218.636 \"/>\n",
       "<path clip-path=\"url(#clip330)\" d=\"M2175.95 214.967 Q2177.54 212.096 2179.77 210.731 Q2181.99 209.365 2185 209.365 Q2189.05 209.365 2191.25 212.212 Q2193.45 215.036 2193.45 220.268 L2193.45 235.916 L2189.16 235.916 L2189.16 220.407 Q2189.16 216.68 2187.84 214.874 Q2186.52 213.069 2183.82 213.069 Q2180.51 213.069 2178.59 215.268 Q2176.66 217.467 2176.66 221.263 L2176.66 235.916 L2172.38 235.916 L2172.38 220.407 Q2172.38 216.657 2171.06 214.874 Q2169.74 213.069 2166.99 213.069 Q2163.72 213.069 2161.8 215.291 Q2159.88 217.49 2159.88 221.263 L2159.88 235.916 L2155.6 235.916 L2155.6 209.99 L2159.88 209.99 L2159.88 214.018 Q2161.34 211.633 2163.38 210.499 Q2165.41 209.365 2168.21 209.365 Q2171.04 209.365 2173.01 210.8 Q2175 212.235 2175.95 214.967 Z\" fill=\"#000000\" fill-rule=\"evenodd\" fill-opacity=\"1\" /><polyline clip-path=\"url(#clip330)\" style=\"stroke:#e26f46; stroke-linecap:round; stroke-linejoin:round; stroke-width:4; stroke-opacity:1; fill:none\" points=\"1994.73,270.476 2132.62,270.476 \"/>\n",
       "<path clip-path=\"url(#clip330)\" d=\"M2174.37 274.816 Q2174.37 270.117 2172.43 267.455 Q2170.51 264.77 2167.13 264.77 Q2163.75 264.77 2161.8 267.455 Q2159.88 270.117 2159.88 274.816 Q2159.88 279.515 2161.8 282.2 Q2163.75 284.862 2167.13 284.862 Q2170.51 284.862 2172.43 282.2 Q2174.37 279.515 2174.37 274.816 M2159.88 265.765 Q2161.22 263.45 2163.26 262.339 Q2165.32 261.205 2168.17 261.205 Q2172.89 261.205 2175.83 264.955 Q2178.79 268.705 2178.79 274.816 Q2178.79 280.927 2175.83 284.677 Q2172.89 288.427 2168.17 288.427 Q2165.32 288.427 2163.26 287.316 Q2161.22 286.182 2159.88 283.867 L2159.88 287.756 L2155.6 287.756 L2155.6 251.737 L2159.88 251.737 L2159.88 265.765 Z\" fill=\"#000000\" fill-rule=\"evenodd\" fill-opacity=\"1\" /><path clip-path=\"url(#clip330)\" d=\"M2208.03 273.728 L2208.03 275.811 L2188.45 275.811 Q2188.72 280.209 2191.08 282.524 Q2193.47 284.816 2197.71 284.816 Q2200.16 284.816 2202.45 284.214 Q2204.77 283.612 2207.03 282.409 L2207.03 286.436 Q2204.74 287.408 2202.33 287.918 Q2199.93 288.427 2197.45 288.427 Q2191.25 288.427 2187.61 284.816 Q2184 281.205 2184 275.047 Q2184 268.682 2187.43 264.955 Q2190.88 261.205 2196.71 261.205 Q2201.94 261.205 2204.97 264.585 Q2208.03 267.941 2208.03 273.728 M2203.77 272.478 Q2203.72 268.983 2201.8 266.899 Q2199.9 264.816 2196.76 264.816 Q2193.19 264.816 2191.04 266.83 Q2188.91 268.844 2188.58 272.501 L2203.77 272.478 Z\" fill=\"#000000\" fill-rule=\"evenodd\" fill-opacity=\"1\" /><path clip-path=\"url(#clip330)\" d=\"M2219.23 254.469 L2219.23 261.83 L2228.01 261.83 L2228.01 265.14 L2219.23 265.14 L2219.23 279.214 Q2219.23 282.385 2220.09 283.288 Q2220.97 284.191 2223.63 284.191 L2228.01 284.191 L2228.01 287.756 L2223.63 287.756 Q2218.7 287.756 2216.83 285.927 Q2214.95 284.075 2214.95 279.214 L2214.95 265.14 L2211.83 265.14 L2211.83 261.83 L2214.95 261.83 L2214.95 254.469 L2219.23 254.469 Z\" fill=\"#000000\" fill-rule=\"evenodd\" fill-opacity=\"1\" /><path clip-path=\"url(#clip330)\" d=\"M2245.39 274.723 Q2240.23 274.723 2238.24 275.904 Q2236.25 277.084 2236.25 279.932 Q2236.25 282.2 2237.73 283.543 Q2239.23 284.862 2241.8 284.862 Q2245.34 284.862 2247.47 282.362 Q2249.63 279.839 2249.63 275.672 L2249.63 274.723 L2245.39 274.723 M2253.89 272.964 L2253.89 287.756 L2249.63 287.756 L2249.63 283.821 Q2248.17 286.182 2245.99 287.316 Q2243.82 288.427 2240.67 288.427 Q2236.69 288.427 2234.33 286.205 Q2231.99 283.959 2231.99 280.209 Q2231.99 275.834 2234.9 273.612 Q2237.84 271.39 2243.65 271.39 L2249.63 271.39 L2249.63 270.973 Q2249.63 268.034 2247.68 266.436 Q2245.76 264.816 2242.27 264.816 Q2240.04 264.816 2237.94 265.348 Q2235.83 265.881 2233.89 266.946 L2233.89 263.01 Q2236.22 262.108 2238.42 261.668 Q2240.62 261.205 2242.71 261.205 Q2248.33 261.205 2251.11 264.122 Q2253.89 267.038 2253.89 272.964 Z\" fill=\"#000000\" fill-rule=\"evenodd\" fill-opacity=\"1\" /><polyline clip-path=\"url(#clip330)\" style=\"stroke:#3da44d; stroke-linecap:round; stroke-linejoin:round; stroke-width:4; stroke-opacity:1; fill:none\" points=\"1994.73,322.316 2132.62,322.316 \"/>\n",
       "<path clip-path=\"url(#clip330)\" d=\"M2159.88 335.707 L2159.88 349.457 L2155.6 349.457 L2155.6 313.67 L2159.88 313.67 L2159.88 317.605 Q2161.22 315.29 2163.26 314.179 Q2165.32 313.045 2168.17 313.045 Q2172.89 313.045 2175.83 316.795 Q2178.79 320.545 2178.79 326.656 Q2178.79 332.767 2175.83 336.517 Q2172.89 340.267 2168.17 340.267 Q2165.32 340.267 2163.26 339.156 Q2161.22 338.022 2159.88 335.707 M2174.37 326.656 Q2174.37 321.957 2172.43 319.295 Q2170.51 316.61 2167.13 316.61 Q2163.75 316.61 2161.8 319.295 Q2159.88 321.957 2159.88 326.656 Q2159.88 331.355 2161.8 334.04 Q2163.75 336.702 2167.13 336.702 Q2170.51 336.702 2172.43 334.04 Q2174.37 331.355 2174.37 326.656 Z\" fill=\"#000000\" fill-rule=\"evenodd\" fill-opacity=\"1\" /><path clip-path=\"url(#clip330)\" d=\"M2202.38 314.434 L2202.38 318.462 Q2200.58 317.536 2198.63 317.073 Q2196.69 316.61 2194.6 316.61 Q2191.43 316.61 2189.83 317.582 Q2188.26 318.554 2188.26 320.499 Q2188.26 321.98 2189.4 322.837 Q2190.53 323.67 2193.96 324.434 L2195.41 324.758 Q2199.95 325.73 2201.85 327.512 Q2203.77 329.272 2203.77 332.443 Q2203.77 336.054 2200.9 338.161 Q2198.05 340.267 2193.05 340.267 Q2190.97 340.267 2188.7 339.85 Q2186.46 339.457 2183.96 338.647 L2183.96 334.249 Q2186.32 335.475 2188.61 336.1 Q2190.9 336.702 2193.15 336.702 Q2196.15 336.702 2197.77 335.684 Q2199.4 334.642 2199.4 332.767 Q2199.4 331.031 2198.21 330.105 Q2197.06 329.179 2193.1 328.323 L2191.62 327.975 Q2187.66 327.142 2185.9 325.429 Q2184.14 323.693 2184.14 320.684 Q2184.14 317.026 2186.73 315.036 Q2189.33 313.045 2194.09 313.045 Q2196.46 313.045 2198.54 313.392 Q2200.62 313.739 2202.38 314.434 Z\" fill=\"#000000\" fill-rule=\"evenodd\" fill-opacity=\"1\" /><path clip-path=\"url(#clip330)\" d=\"M2210.55 313.67 L2214.81 313.67 L2214.81 339.596 L2210.55 339.596 L2210.55 313.67 M2210.55 303.577 L2214.81 303.577 L2214.81 308.971 L2210.55 308.971 L2210.55 303.577 Z\" fill=\"#000000\" fill-rule=\"evenodd\" fill-opacity=\"1\" /><polyline clip-path=\"url(#clip330)\" style=\"stroke:#c271d2; stroke-linecap:round; stroke-linejoin:round; stroke-width:4; stroke-opacity:1; fill:none\" points=\"1994.73,374.156 2132.62,374.156 \"/>\n",
       "<path clip-path=\"url(#clip330)\" d=\"M2159.88 387.547 L2159.88 401.297 L2155.6 401.297 L2155.6 365.51 L2159.88 365.51 L2159.88 369.445 Q2161.22 367.13 2163.26 366.019 Q2165.32 364.885 2168.17 364.885 Q2172.89 364.885 2175.83 368.635 Q2178.79 372.385 2178.79 378.496 Q2178.79 384.607 2175.83 388.357 Q2172.89 392.107 2168.17 392.107 Q2165.32 392.107 2163.26 390.996 Q2161.22 389.862 2159.88 387.547 M2174.37 378.496 Q2174.37 373.797 2172.43 371.135 Q2170.51 368.45 2167.13 368.45 Q2163.75 368.45 2161.8 371.135 Q2159.88 373.797 2159.88 378.496 Q2159.88 383.195 2161.8 385.88 Q2163.75 388.542 2167.13 388.542 Q2170.51 388.542 2172.43 385.88 Q2174.37 383.195 2174.37 378.496 Z\" fill=\"#000000\" fill-rule=\"evenodd\" fill-opacity=\"1\" /><path clip-path=\"url(#clip330)\" d=\"M2202.38 366.274 L2202.38 370.302 Q2200.58 369.376 2198.63 368.913 Q2196.69 368.45 2194.6 368.45 Q2191.43 368.45 2189.83 369.422 Q2188.26 370.394 2188.26 372.339 Q2188.26 373.82 2189.4 374.677 Q2190.53 375.51 2193.96 376.274 L2195.41 376.598 Q2199.95 377.57 2201.85 379.352 Q2203.77 381.112 2203.77 384.283 Q2203.77 387.894 2200.9 390.001 Q2198.05 392.107 2193.05 392.107 Q2190.97 392.107 2188.7 391.69 Q2186.46 391.297 2183.96 390.487 L2183.96 386.089 Q2186.32 387.315 2188.61 387.94 Q2190.9 388.542 2193.15 388.542 Q2196.15 388.542 2197.77 387.524 Q2199.4 386.482 2199.4 384.607 Q2199.4 382.871 2198.21 381.945 Q2197.06 381.019 2193.1 380.163 L2191.62 379.815 Q2187.66 378.982 2185.9 377.269 Q2184.14 375.533 2184.14 372.524 Q2184.14 368.866 2186.73 366.876 Q2189.33 364.885 2194.09 364.885 Q2196.46 364.885 2198.54 365.232 Q2200.62 365.579 2202.38 366.274 Z\" fill=\"#000000\" fill-rule=\"evenodd\" fill-opacity=\"1\" /><path clip-path=\"url(#clip330)\" d=\"M2210.55 365.51 L2214.81 365.51 L2214.81 391.436 L2210.55 391.436 L2210.55 365.51 M2210.55 355.417 L2214.81 355.417 L2214.81 360.811 L2210.55 360.811 L2210.55 355.417 Z\" fill=\"#000000\" fill-rule=\"evenodd\" fill-opacity=\"1\" /><path clip-path=\"url(#clip330)\" d=\"M2224.81 385.556 L2229.7 385.556 L2229.7 389.538 L2225.9 396.945 L2222.91 396.945 L2224.81 389.538 L2224.81 385.556 Z\" fill=\"#000000\" fill-rule=\"evenodd\" fill-opacity=\"1\" /><path clip-path=\"url(#clip330)\" d=\"M2260.34 365.51 L2250.97 378.126 L2260.83 391.436 L2255.81 391.436 L2248.26 381.251 L2240.71 391.436 L2235.69 391.436 L2245.76 377.871 L2236.55 365.51 L2241.57 365.51 L2248.45 374.746 L2255.32 365.51 L2260.34 365.51 Z\" fill=\"#000000\" fill-rule=\"evenodd\" fill-opacity=\"1\" /></svg>\n"
      ]
     },
     "execution_count": 317,
     "metadata": {},
     "output_type": "execute_result"
    }
   ],
   "source": [
    "using Plots #showing initial data and the initial status of the horizon finder\n",
    "plot(initX[4:L-3], state_array[4:L-3,1:4], xaxis=\"x\",title=\"Initial Data\", labels=[\"m\" \"beta\" \"psi\" \"psi,x\"])"
   ]
  },
  {
   "cell_type": "markdown",
   "id": "9b444ece",
   "metadata": {
    "papermill": {
     "duration": 0.007863,
     "end_time": "2023-06-25T23:43:20.431994",
     "exception": false,
     "start_time": "2023-06-25T23:43:20.424131",
     "status": "completed"
    },
    "tags": []
   },
   "source": [
    "# Defining the initial state array for the evolution m β Ψ and Ψ,x"
   ]
  },
  {
   "cell_type": "code",
   "execution_count": 318,
   "id": "9902ffab",
   "metadata": {
    "execution": {
     "iopub.execute_input": "2023-06-26T00:43:20.962000Z",
     "iopub.status.busy": "2023-06-26T00:43:20.448000Z",
     "iopub.status.idle": "2023-06-26T00:43:23.484000Z",
     "shell.execute_reply": "2023-06-26T00:43:23.484000Z"
    },
    "papermill": {
     "duration": 3.047994,
     "end_time": "2023-06-25T23:43:23.487839",
     "exception": false,
     "start_time": "2023-06-25T23:43:20.439845",
     "status": "completed"
    },
    "tags": []
   },
   "outputs": [],
   "source": [
    "using CSV, Tables, Printf\n",
    "#CSV.write(dir*\"/time_step0.csv\", Tables.table(transpose(Matrix(state_array))), writeheader=false)\n",
    "#CSV.write(dir*\"/res$res/time_step0.csv\", Tables.table(state_array), writeheader=false)\n",
    "\n",
    "global files=[\"m\", \"beta\", \"psi\", \"derpsi\"]\n",
    "\n",
    "print_muninn(files, 0, state_array[:,1:5],res,\"w\")"
   ]
  },
  {
   "cell_type": "code",
   "execution_count": 319,
   "id": "fff1426a",
   "metadata": {
    "execution": {
     "iopub.execute_input": "2023-06-26T00:43:24.210000Z",
     "iopub.status.busy": "2023-06-26T00:43:23.520000Z",
     "iopub.status.idle": "2023-06-26T00:43:25.884000Z",
     "shell.execute_reply": "2023-06-26T00:43:25.884000Z"
    },
    "papermill": {
     "duration": 2.383692,
     "end_time": "2023-06-25T23:43:25.889556",
     "exception": false,
     "start_time": "2023-06-25T23:43:23.505864",
     "status": "completed"
    },
    "tags": []
   },
   "outputs": [
    {
     "data": {
      "text/plain": [
       "\"/home/rita13santos/Desktop/MSc Thesis/Git/ScalarField/DATA/parameters.csv\""
      ]
     },
     "execution_count": 319,
     "metadata": {},
     "output_type": "execute_result"
    }
   ],
   "source": [
    "time=0.0\n",
    "criticality=0.0\n",
    "explode=0.0\n",
    "evol_stats = [criticality A sigma r0 time explode run]\n",
    "monitor_ratio = zeros(L)\n",
    "CSV.write(dir*\"/parameters.csv\", Tables.table(evol_stats), writeheader=true, header=[\"criticality\", \"A\", \"sigma\", \"r0\", \"time\", \"explode\", \"run\"])"
   ]
  },
  {
   "cell_type": "code",
   "execution_count": 320,
   "id": "9e9abd7d",
   "metadata": {
    "execution": {
     "iopub.execute_input": "2023-06-26T00:43:25.921000Z",
     "iopub.status.busy": "2023-06-26T00:43:25.921000Z",
     "iopub.status.idle": "2023-06-26T00:43:26.887000Z",
     "shell.execute_reply": "2023-06-26T00:43:26.887000Z"
    },
    "papermill": {
     "duration": 0.984943,
     "end_time": "2023-06-25T23:43:26.892187",
     "exception": false,
     "start_time": "2023-06-25T23:43:25.907244",
     "status": "completed"
    },
    "tags": []
   },
   "outputs": [
    {
     "name": "stdout",
     "output_type": "stream",
     "text": [
      "0.09993806661615758\n"
     ]
    }
   ],
   "source": [
    "ginit=speed(initX,state_array[:,1],state_array[:,2])\n",
    "println(update_dt(initX,state_array[:,1],state_array[:,2],dx,ginit)/dt)"
   ]
  },
  {
   "cell_type": "code",
   "execution_count": 321,
   "id": "6a7e1787",
   "metadata": {
    "execution": {
     "iopub.execute_input": "2023-06-26T00:43:26.923000Z",
     "iopub.status.busy": "2023-06-26T00:43:26.923000Z",
     "iopub.status.idle": "2023-06-26T00:43:26.992000Z",
     "shell.execute_reply": "2023-06-26T00:43:26.992000Z"
    },
    "papermill": {
     "duration": 0.08784,
     "end_time": "2023-06-25T23:43:26.997291",
     "exception": false,
     "start_time": "2023-06-25T23:43:26.909451",
     "status": "completed"
    },
    "tags": []
   },
   "outputs": [
    {
     "data": {
      "text/plain": [
       "4"
      ]
     },
     "execution_count": 321,
     "metadata": {},
     "output_type": "execute_result"
    }
   ],
   "source": [
    "using Base.Threads\n",
    "Threads.nthreads()"
   ]
  },
  {
   "cell_type": "markdown",
   "id": "42e2c73d",
   "metadata": {
    "papermill": {
     "duration": 0.018669,
     "end_time": "2023-06-25T23:43:27.033041",
     "exception": false,
     "start_time": "2023-06-25T23:43:27.014372",
     "status": "completed"
    },
    "tags": []
   },
   "source": [
    " ## Time evolution"
   ]
  },
  {
   "cell_type": "code",
   "execution_count": 322,
   "id": "f77af8b7",
   "metadata": {
    "papermill": {
     "duration": 0.014981,
     "end_time": "2023-06-25T23:43:27.066159",
     "exception": false,
     "start_time": "2023-06-25T23:43:27.051178",
     "status": "completed"
    },
    "tags": []
   },
   "outputs": [
    {
     "data": {
      "text/plain": [
       "207-element Vector{Float64}:\n",
       " -0.015\n",
       " -0.01\n",
       " -0.005\n",
       "  0.0\n",
       "  4.996404012325151e-5\n",
       "  0.00019984617487173173\n",
       "  0.0004496164493775212\n",
       "  0.0007992249455124889\n",
       "  0.0012486017918649783\n",
       "  0.0017976571777038042\n",
       "  0.0024462813709277276\n",
       "  0.0031943447399958025\n",
       "  0.004041697779835374\n",
       "  ⋮\n",
       "  0.9550529853424978\n",
       "  0.9579364635883048\n",
       "  0.9607284204107492\n",
       "  0.9634282978200603\n",
       "  0.9660355562291054\n",
       "  0.9685496745612294\n",
       "  0.9709701503543953\n",
       "  0.9732964998616046\n",
       "  1.0\n",
       "  1.005\n",
       "  1.01\n",
       "  1.015"
      ]
     },
     "execution_count": 322,
     "metadata": {},
     "output_type": "execute_result"
    }
   ],
   "source": [
    "initX"
   ]
  },
  {
   "cell_type": "code",
   "execution_count": 323,
   "id": "1e8736e3",
   "metadata": {
    "papermill": {
     "duration": 0.01194,
     "end_time": "2023-06-25T23:43:27.094037",
     "exception": false,
     "start_time": "2023-06-25T23:43:27.082097",
     "status": "completed"
    },
    "tags": []
   },
   "outputs": [
    {
     "ename": "LoadError",
     "evalue": "syntax: extra token \"gridpoints\" after end of expression",
     "output_type": "error",
     "traceback": [
      "syntax: extra token \"gridpoints\" after end of expression",
      "",
      "Stacktrace:",
      " [1] top-level scope",
      "   @ In[323]:1"
     ]
    }
   ],
   "source": [
    "7500 gridpoints evenly spaced means"
   ]
  },
  {
   "cell_type": "code",
   "execution_count": null,
   "id": "c8208558",
   "metadata": {
    "papermill": {
     "duration": 0.013762,
     "end_time": "2023-06-25T23:43:27.120998",
     "exception": false,
     "start_time": "2023-06-25T23:43:27.107236",
     "status": "completed"
    },
    "tags": []
   },
   "outputs": [],
   "source": []
  },
  {
   "cell_type": "markdown",
   "id": "7da47594",
   "metadata": {
    "papermill": {
     "duration": 0.01267,
     "end_time": "2023-06-25T23:43:27.253249",
     "exception": false,
     "start_time": "2023-06-25T23:43:27.240579",
     "status": "completed"
    },
    "tags": []
   },
   "source": [
    "fixed grid"
   ]
  },
  {
   "cell_type": "code",
   "execution_count": 324,
   "id": "fcb7ae3f",
   "metadata": {
    "execution": {
     "iopub.execute_input": "2023-06-26T00:43:27.280000Z",
     "iopub.status.busy": "2023-06-26T00:43:27.279000Z",
     "iopub.status.idle": "2023-06-26T01:23:38.457000Z",
     "shell.execute_reply": "2023-06-26T01:23:38.457000Z"
    },
    "papermill": {
     "duration": 2411.197201,
     "end_time": "2023-06-26T00:23:38.463773",
     "exception": false,
     "start_time": "2023-06-25T23:43:27.266572",
     "status": "completed"
    },
    "tags": []
   },
   "outputs": [
    {
     "name": "stdout",
     "output_type": "stream",
     "text": [
      "\n",
      "\n",
      "iteration 100 dt is 4.996903330807879e-5, t=0.004996903330807885 speed is 0.49995003720807946, dx/dt=100.06197176505354\n",
      "\n",
      "\n",
      "iteration 200 dt is 4.996903330807879e-5, t=0.009993806661615777 speed is 0.49995003720807946, dx/dt=100.06197176505354\n",
      "\n",
      "\n",
      "iteration 300 dt is 4.996903330807879e-5, t=0.014990709992423669 speed is 0.49995003720807946, dx/dt=100.06197176505354\n",
      "\n",
      "\n",
      "iteration 400 dt is 4.996903330807879e-5, t=0.01998761332323156 speed is 0.49995003720807946, dx/dt=100.06197176505354\n",
      "\n",
      "\n",
      "iteration 500 dt is 4.996903330807879e-5, t=0.024984516654039453 speed is 0.49995003720807946, dx/dt=100.06197176505354\n",
      "\n",
      "\n",
      "iteration 600 dt is 4.996903330807879e-5, t=0.029981419984847345 speed is 0.49995003720807946, dx/dt=100.06197176505354\n",
      "\n",
      "\n",
      "iteration 700 dt is 4.996903330807879e-5, t=0.03497832331565498 speed is 0.49995003720807946, dx/dt=100.06197176505354\n",
      "\n",
      "\n",
      "iteration 800 dt is 4.996903330807879e-5, t=0.039975226646462525 speed is 0.49995003720807946, dx/dt=100.06197176505354\n",
      "\n",
      "\n",
      "iteration 900 dt is 4.996903330807879e-5, t=0.04497212997727007 speed is 0.49995003720807946, dx/dt=100.06197176505354\n",
      "\n",
      "\n",
      "iteration 1000 dt is 4.996903330807879e-5, t=0.049969033308077615 speed is 0.49995003720807946, dx/dt=100.06197176505354\n",
      "\n",
      "\n",
      "iteration 1100 dt is 4.996903330807879e-5, t=0.05496593663888516 speed is 0.49995003720807946, dx/dt=100.06197176505354\n",
      "\n",
      "\n",
      "iteration 1200 dt is 4.996903330807879e-5, t=0.059962839969692705 speed is 0.49995003720807946, dx/dt=100.06197176505354\n",
      "\n",
      "\n",
      "iteration 1300 dt is 4.996903330807879e-5, t=0.06495974330050025 speed is 0.49995003720807946, dx/dt=100.06197176505354\n",
      "\n",
      "\n",
      "iteration 1400 dt is 4.996903330807879e-5, t=0.0699566466313078 speed is 0.49995003720807946, dx/dt=100.06197176505354\n",
      "\n",
      "\n",
      "iteration 1500 dt is 4.996903330807879e-5, t=0.07495354996211534 speed is 0.49995003720807946, dx/dt=100.06197176505354\n",
      "\n",
      "\n",
      "iteration 1600 dt is 4.996903330807879e-5, t=0.07995045329292289 speed is 0.49995003720807946, dx/dt=100.06197176505354\n",
      "\n",
      "\n",
      "iteration 1700 dt is 4.996903330807879e-5, t=0.08494735662373043 speed is 0.49995003720807946, dx/dt=100.06197176505354\n",
      "\n",
      "\n",
      "iteration 1800 dt is 4.996903330807879e-5, t=0.08994425995453798 speed is 0.49995003720807946, dx/dt=100.06197176505354\n",
      "\n",
      "\n",
      "iteration 1900 dt is 4.996903330807879e-5, t=0.09494116328534552 speed is 0.49995003720807946, dx/dt=100.06197176505354\n",
      "\n",
      "\n",
      "iteration 2000 dt is 4.996903330807879e-5, t=0.09993806661615307 speed is 0.49995003720807946, dx/dt=100.06197176505354\n",
      "\n",
      "\n",
      "iteration 2100 dt is 4.996903330807879e-5, t=0.10493496994696061 speed is 0.49995003720807946, dx/dt=100.06197176505354\n",
      "\n",
      "\n",
      "iteration 2200 dt is 4.996903330807879e-5, t=0.10993187327776816 speed is 0.49995003720807946, dx/dt=100.06197176505354\n",
      "\n",
      "\n",
      "iteration 2300 dt is 4.996903330807879e-5, t=0.1149287766085757 speed is 0.49995003720807946, dx/dt=100.06197176505354\n",
      "\n",
      "\n",
      "iteration 2400 dt is 4.996903330807879e-5, t=0.11992567993938325 speed is 0.49995003720807946, dx/dt=100.06197176505354\n",
      "\n",
      "\n",
      "iteration 2500 dt is 4.996903330807879e-5, t=0.12492258327019079 speed is 0.49995003720807946, dx/dt=100.06197176505354\n",
      "\n",
      "\n",
      "iteration 2600 dt is 4.996903330807879e-5, t=0.1299194866009997 speed is 0.49995003720807946, dx/dt=100.06197176505354\n",
      "\n",
      "\n",
      "iteration 2700 dt is 4.996903330807879e-5, t=0.13491638993180863 speed is 0.49995003720807946, dx/dt=100.06197176505354\n",
      "\n",
      "\n",
      "iteration 2800 dt is 4.996903330807879e-5, t=0.13991329326261756 speed is 0.49995003720807946, dx/dt=100.06197176505354\n",
      "\n",
      "\n",
      "iteration 2900 dt is 4.996903330807879e-5, t=0.1449101965934265 speed is 0.49995003720807946, dx/dt=100.06197176505354\n",
      "\n",
      "\n",
      "iteration 3000 dt is 4.996903330807879e-5, t=0.14990709992423543 speed is 0.49995003720807946, dx/dt=100.06197176505354\n",
      "\n",
      "\n",
      "iteration 3100 dt is 4.996903330807879e-5, t=0.15490400325504436 speed is 0.49995003720807946, dx/dt=100.06197176505354\n",
      "\n",
      "\n",
      "iteration 3200 dt is 4.996903330807879e-5, t=0.1599009065858533 speed is 0.49995003720807946, dx/dt=100.06197176505354\n",
      "\n",
      "\n",
      "iteration 3300 dt is 4.996903330807879e-5, t=0.16489780991666222 speed is 0.49995003720807946, dx/dt=100.06197176505354\n",
      "\n",
      "\n",
      "iteration 3400 dt is 4.996903330807879e-5, t=0.16989471324747116 speed is 0.49995003720807946, dx/dt=100.06197176505354\n",
      "\n",
      "\n",
      "iteration 3500 dt is 4.996903330807879e-5, t=0.1748916165782801 speed is 0.49995003720807946, dx/dt=100.06197176505354\n",
      "\n",
      "\n",
      "iteration 3600 dt is 4.996903330807879e-5, t=0.17988851990908902 speed is 0.49995003720807946, dx/dt=100.06197176505354\n",
      "\n",
      "\n",
      "iteration 3700 dt is 4.996903330807879e-5, t=0.18488542323989796 speed is 0.49995003720807946, dx/dt=100.06197176505354\n",
      "\n",
      "\n",
      "iteration 3800 dt is 4.996903330807879e-5, t=0.1898823265707069 speed is 0.49995003720807946, dx/dt=100.06197176505354\n",
      "\n",
      "\n",
      "iteration 3900 dt is 4.996903330807879e-5, t=0.19487922990151582 speed is 0.49995003720807946, dx/dt=100.06197176505354\n",
      "\n",
      "\n",
      "iteration 4000 dt is 4.996903330807879e-5, t=0.19987613323232475 speed is 0.49995003720807946, dx/dt=100.06197176505354\n",
      "\n",
      "\n",
      "iteration 4100 dt is 4.996903330807879e-5, t=0.2048730365631337 speed is 0.49995003720807946, dx/dt=100.06197176505354\n",
      "\n",
      "\n",
      "iteration 4200 dt is 4.996903330807879e-5, t=0.20986993989394262 speed is 0.49995003720807946, dx/dt=100.06197176505354\n",
      "\n",
      "\n",
      "iteration 4300 dt is 4.996903330807879e-5, t=0.21486684322475155 speed is 0.49995003720807946, dx/dt=100.06197176505354\n",
      "\n",
      "\n",
      "iteration 4400 dt is 4.996903330807879e-5, t=0.21986374655556049 speed is 0.49995003720807946, dx/dt=100.06197176505354\n",
      "\n",
      "\n",
      "iteration 4500 dt is 4.996903330807879e-5, t=0.22486064988636942 speed is 0.49995003720807946, dx/dt=100.06197176505354\n",
      "\n",
      "\n",
      "iteration 4600 dt is 4.996903330807879e-5, t=0.22985755321717835 speed is 0.49995003720807946, dx/dt=100.06197176505354\n",
      "\n",
      "\n",
      "iteration 4700 dt is 4.9969033308078784e-5, t=0.23485445654798728 speed is 0.49995003720807957, dx/dt=100.06197176505356\n",
      "\n",
      "\n",
      "iteration 4800 dt is 4.9969033308078784e-5, t=0.23985135987879622 speed is 0.4999500372080795, dx/dt=100.06197176505356\n",
      "\n",
      "\n",
      "iteration 4900 dt is 4.9969033308078784e-5, t=0.24484826320960515 speed is 0.4999500372080795, dx/dt=100.06197176505356\n",
      "\n",
      "\n",
      "iteration 5000 dt is 4.996903330807878e-5, t=0.24984516654041408 speed is 0.4999500372080796, dx/dt=100.06197176505357\n",
      "\n",
      "\n",
      "iteration 5100 dt is 4.9969033308078784e-5, t=0.2548420698712203 speed is 0.49995003720807957, dx/dt=100.06197176505356\n",
      "\n",
      "\n",
      "iteration 5200 dt is 4.996903330807878e-5, t=0.2598389732020265 speed is 0.4999500372080796, dx/dt=100.06197176505357\n",
      "\n",
      "\n",
      "iteration 5300 dt is 4.9969033308078784e-5, t=0.26483587653283264 speed is 0.49995003720807957, dx/dt=100.06197176505356\n",
      "\n",
      "\n",
      "iteration 5400 dt is 4.996903330807878e-5, t=0.2698327798636388 speed is 0.4999500372080796, dx/dt=100.06197176505357\n",
      "\n",
      "\n",
      "iteration 5500 dt is 4.996903330807877e-5, t=0.27482968319444495 speed is 0.4999500372080797, dx/dt=100.06197176505358\n",
      "\n",
      "\n",
      "iteration 5600 dt is 4.996903330807877e-5, t=0.2798265865252511 speed is 0.4999500372080797, dx/dt=100.06197176505358\n",
      "\n",
      "\n",
      "iteration 5700 dt is 4.996903330807875e-5, t=0.28482348985605727 speed is 0.49995003720807984, dx/dt=100.06197176505363\n",
      "\n",
      "\n",
      "iteration 5800 dt is 4.996903330807875e-5, t=0.2898203931868634 speed is 0.49995003720807984, dx/dt=100.06197176505363\n",
      "\n",
      "\n",
      "iteration 5900 dt is 4.996903330807875e-5, t=0.2948172965176696 speed is 0.4999500372080799, dx/dt=100.06197176505363\n",
      "\n",
      "\n",
      "iteration 6000 dt is 4.996903330807872e-5, t=0.29981419984847574 speed is 0.4999500372080801, dx/dt=100.06197176505368\n",
      "\n",
      "\n",
      "iteration 6100 dt is 4.9969033308078716e-5, t=0.3048111031792819 speed is 0.49995003720808023, dx/dt=100.0619717650537\n",
      "\n",
      "\n",
      "iteration 6200 dt is 4.996903330807871e-5, t=0.30980800651008805 speed is 0.4999500372080803, dx/dt=100.06197176505371\n",
      "\n",
      "\n",
      "iteration 6300 dt is 4.996903330807869e-5, t=0.3148049098408942 speed is 0.4999500372080805, dx/dt=100.06197176505376\n",
      "\n",
      "\n",
      "iteration 6400 dt is 4.996903330807866e-5, t=0.31980181317170037 speed is 0.49995003720808073, dx/dt=100.0619717650538\n",
      "\n",
      "\n",
      "iteration 6500 dt is 4.9969033308078635e-5, t=0.3247987165025065 speed is 0.499950037208081, dx/dt=100.06197176505385\n",
      "\n",
      "\n",
      "iteration 6600 dt is 4.996903330807861e-5, t=0.3297956198333127 speed is 0.4999500372080813, dx/dt=100.06197176505391\n",
      "\n",
      "\n",
      "iteration 6700 dt is 4.9969033308078574e-5, t=0.33479252316411884 speed is 0.4999500372080816, dx/dt=100.06197176505398\n",
      "\n",
      "\n",
      "iteration 6800 dt is 4.996903330807854e-5, t=0.339789426494925 speed is 0.49995003720808195, dx/dt=100.06197176505405\n"
     ]
    },
    {
     "name": "stdout",
     "output_type": "stream",
     "text": [
      "\n",
      "\n",
      "iteration 6900 dt is 4.99690333080785e-5, t=0.34478632982573115 speed is 0.4999500372080824, dx/dt=100.06197176505412\n",
      "\n",
      "\n",
      "iteration 7000 dt is 4.996903330807845e-5, t=0.3497832331565373 speed is 0.49995003720808284, dx/dt=100.06197176505422\n",
      "\n",
      "\n",
      "iteration 7100 dt is 4.9969033308078384e-5, t=0.35478013648734347 speed is 0.4999500372080835, dx/dt=100.06197176505437\n",
      "\n",
      "\n",
      "iteration 7200 dt is 4.996903330807833e-5, t=0.3597770398181496 speed is 0.49995003720808406, dx/dt=100.06197176505447\n",
      "\n",
      "\n",
      "iteration 7300 dt is 4.996903330807824e-5, t=0.3647739431489558 speed is 0.49995003720808495, dx/dt=100.06197176505465\n",
      "\n",
      "\n",
      "iteration 7400 dt is 4.996903330807817e-5, t=0.36977084647976194 speed is 0.49995003720808573, dx/dt=100.06197176505479\n",
      "\n",
      "\n",
      "iteration 7500 dt is 4.9969033308078045e-5, t=0.3747677498105681 speed is 0.4999500372080869, dx/dt=100.06197176505503\n",
      "\n",
      "\n",
      "iteration 7600 dt is 4.9969033308077923e-5, t=0.37976465314137425 speed is 0.49995003720808817, dx/dt=100.06197176505528\n",
      "\n",
      "\n",
      "iteration 7700 dt is 4.996903330807778e-5, t=0.3847615564721804 speed is 0.49995003720808956, dx/dt=100.06197176505556\n",
      "\n",
      "\n",
      "iteration 7800 dt is 4.996903330807764e-5, t=0.38975845980298657 speed is 0.499950037208091, dx/dt=100.06197176505586\n",
      "\n",
      "\n",
      "iteration 7900 dt is 4.9969033308077436e-5, t=0.3947553631337927 speed is 0.499950037208093, dx/dt=100.06197176505626\n",
      "\n",
      "\n",
      "iteration 8000 dt is 4.9969033308077225e-5, t=0.3997522664645989 speed is 0.4999500372080951, dx/dt=100.06197176505668\n",
      "\n",
      "\n",
      "iteration 8100 dt is 4.996903330807697e-5, t=0.40474916979540504 speed is 0.4999500372080977, dx/dt=100.0619717650572\n",
      "\n",
      "\n",
      "iteration 8200 dt is 4.9969033308076677e-5, t=0.4097460731262112 speed is 0.4999500372081006, dx/dt=100.06197176505778\n",
      "\n",
      "\n",
      "iteration 8300 dt is 4.996903330807636e-5, t=0.41474297645701735 speed is 0.4999500372081038, dx/dt=100.06197176505842\n",
      "\n",
      "\n",
      "iteration 8400 dt is 4.9969033308075965e-5, t=0.4197398797878235 speed is 0.4999500372081077, dx/dt=100.0619717650592\n",
      "\n",
      "\n",
      "iteration 8500 dt is 4.9969033308075545e-5, t=0.42473678311862967 speed is 0.49995003720811193, dx/dt=100.06197176506005\n",
      "\n",
      "\n",
      "iteration 8600 dt is 4.996903330807505e-5, t=0.4297336864494358 speed is 0.4999500372081169, dx/dt=100.06197176506103\n",
      "\n",
      "\n",
      "iteration 8700 dt is 4.996903330807448e-5, t=0.434730589780242 speed is 0.4999500372081226, dx/dt=100.06197176506218\n",
      "\n",
      "\n",
      "iteration 8800 dt is 4.9969033308073824e-5, t=0.43972749311104814 speed is 0.4999500372081292, dx/dt=100.06197176506349\n",
      "\n",
      "\n",
      "iteration 8900 dt is 4.9969033308073085e-5, t=0.4447243964418543 speed is 0.4999500372081365, dx/dt=100.06197176506497\n",
      "\n",
      "\n",
      "iteration 9000 dt is 4.996903330807223e-5, t=0.44972129977266045 speed is 0.4999500372081451, dx/dt=100.06197176506669\n",
      "\n",
      "\n",
      "iteration 9100 dt is 4.996903330807126e-5, t=0.4547182031034666 speed is 0.4999500372081548, dx/dt=100.06197176506862\n",
      "\n",
      "\n",
      "iteration 9200 dt is 4.996903330807018e-5, t=0.45971510643427277 speed is 0.4999500372081656, dx/dt=100.0619717650708\n",
      "\n",
      "\n",
      "iteration 9300 dt is 4.996903330806893e-5, t=0.4647120097650789 speed is 0.4999500372081781, dx/dt=100.0619717650733\n",
      "\n",
      "\n",
      "iteration 9400 dt is 4.996903330806751e-5, t=0.4697089130958851 speed is 0.49995003720819237, dx/dt=100.06197176507614\n",
      "\n",
      "\n",
      "iteration 9500 dt is 4.99690333080659e-5, t=0.47470581642669124 speed is 0.4999500372082084, dx/dt=100.06197176507935\n",
      "\n",
      "\n",
      "iteration 9600 dt is 4.996903330806408e-5, t=0.4797027197574974 speed is 0.49995003720822667, dx/dt=100.061971765083\n",
      "\n",
      "\n",
      "iteration 9700 dt is 4.996903330806202e-5, t=0.48469962308830356 speed is 0.49995003720824727, dx/dt=100.06197176508712\n",
      "\n",
      "\n",
      "iteration 9800 dt is 4.99690333080597e-5, t=0.4896965264191097 speed is 0.49995003720827047, dx/dt=100.06197176509177\n",
      "\n",
      "\n",
      "iteration 9900 dt is 4.996903330805707e-5, t=0.49469342974991587 speed is 0.4999500372082968, dx/dt=100.06197176509704\n",
      "\n",
      "\n",
      "iteration 10000 dt is 4.9969033308054125e-5, t=0.499690333080722 speed is 0.49995003720832626, dx/dt=100.06197176510294\n",
      "\n",
      "\n",
      "iteration 10100 dt is 4.9969033308050805e-5, t=0.504687236411523 speed is 0.49995003720835945, dx/dt=100.06197176510959\n",
      "\n",
      "\n",
      "iteration 10200 dt is 4.99690333080471e-5, t=0.5096841397423236 speed is 0.4999500372083966, dx/dt=100.06197176511701\n",
      "\n",
      "\n",
      "iteration 10300 dt is 4.9969033308042904e-5, t=0.5146810430731242 speed is 0.4999500372084385, dx/dt=100.0619717651254\n",
      "\n",
      "\n",
      "iteration 10400 dt is 4.9969033308038235e-5, t=0.5196779464039248 speed is 0.49995003720848524, dx/dt=100.06197176513476\n",
      "\n",
      "\n",
      "iteration 10500 dt is 4.9969033308033024e-5, t=0.5246748497347254 speed is 0.49995003720853737, dx/dt=100.06197176514519\n",
      "\n",
      "\n",
      "iteration 10600 dt is 4.99690333080272e-5, t=0.529671753065526 speed is 0.4999500372085956, dx/dt=100.06197176515685\n",
      "\n",
      "\n",
      "iteration 10700 dt is 4.9969033308020705e-5, t=0.5346686563963267 speed is 0.4999500372086606, dx/dt=100.06197176516986\n",
      "\n",
      "\n",
      "iteration 10800 dt is 4.996903330801351e-5, t=0.5396655597271273 speed is 0.49995003720873266, dx/dt=100.06197176518427\n",
      "\n",
      "\n",
      "iteration 10900 dt is 4.996903330800552e-5, t=0.5446624630579279 speed is 0.49995003720881254, dx/dt=100.06197176520027\n",
      "\n",
      "\n",
      "iteration 11000 dt is 4.9969033307996656e-5, t=0.5496593663887285 speed is 0.49995003720890124, dx/dt=100.06197176521802\n",
      "\n",
      "\n",
      "iteration 11100 dt is 4.996903330798688e-5, t=0.5546562697195291 speed is 0.4999500372089991, dx/dt=100.0619717652376\n",
      "\n",
      "\n",
      "iteration 11200 dt is 4.996903330797609e-5, t=0.5596531730503297 speed is 0.499950037209107, dx/dt=100.0619717652592\n",
      "\n",
      "\n",
      "iteration 11300 dt is 4.996903330796421e-5, t=0.5646500763811303 speed is 0.4999500372092259, dx/dt=100.06197176528299\n",
      "\n",
      "\n",
      "iteration 11400 dt is 4.996903330795118e-5, t=0.5696469797119309 speed is 0.49995003720935627, dx/dt=100.06197176530908\n",
      "\n",
      "\n",
      "iteration 11500 dt is 4.996903330793691e-5, t=0.5746438830427208 speed is 0.499950037209499, dx/dt=100.06197176533766\n",
      "\n",
      "\n",
      "iteration 11600 dt is 4.996903330792131e-5, t=0.5796407863735104 speed is 0.4999500372096551, dx/dt=100.0619717653689\n",
      "\n",
      "\n",
      "iteration 11700 dt is 4.996903330790431e-5, t=0.5846376897042999 speed is 0.49995003720982517, dx/dt=100.06197176540294\n",
      "\n",
      "\n",
      "iteration 11800 dt is 4.996903330788584e-5, t=0.5896345930350894 speed is 0.49995003721001, dx/dt=100.06197176543994\n",
      "\n",
      "\n",
      "iteration 11900 dt is 4.996903330786581e-5, t=0.5946314963658789 speed is 0.49995003721021036, dx/dt=100.06197176548002\n",
      "\n",
      "\n",
      "iteration 12000 dt is 4.996903330784417e-5, t=0.5996283996966684 speed is 0.4999500372104269, dx/dt=100.06197176552337\n",
      "\n",
      "\n",
      "iteration 12100 dt is 4.996903330782086e-5, t=0.604625303027449 speed is 0.4999500372106601, dx/dt=100.06197176557005\n",
      "\n",
      "\n",
      "iteration 12200 dt is 4.9969033307795834e-5, t=0.6096222063582274 speed is 0.49995003721091047, dx/dt=100.06197176562016\n",
      "\n",
      "\n",
      "iteration 12300 dt is 4.996903330776905e-5, t=0.6146191096890058 speed is 0.4999500372111785, dx/dt=100.0619717656738\n",
      "\n",
      "\n",
      "iteration 12400 dt is 4.996903330774051e-5, t=0.6196160130197842 speed is 0.49995003721146397, dx/dt=100.06197176573095\n",
      "\n",
      "\n",
      "iteration 12500 dt is 4.996903330771021e-5, t=0.6246129163505559 speed is 0.49995003721176723, dx/dt=100.06197176579163\n",
      "\n",
      "\n",
      "iteration 12600 dt is 4.996903330767817e-5, t=0.6296098196813232 speed is 0.49995003721208775, dx/dt=100.06197176585577\n",
      "\n",
      "\n",
      "iteration 12700 dt is 4.9969033307644466e-5, t=0.6346067230120905 speed is 0.499950037212425, dx/dt=100.06197176592327\n",
      "\n",
      "\n",
      "iteration 12800 dt is 4.996903330760915e-5, t=0.6396036263428552 speed is 0.49995003721277836, dx/dt=100.06197176599399\n",
      "\n",
      "\n",
      "iteration 12900 dt is 4.996903330757238e-5, t=0.6446005296736114 speed is 0.49995003721314624, dx/dt=100.06197176606763\n",
      "\n",
      "\n",
      "iteration 13000 dt is 4.99690333075343e-5, t=0.6495974330043676 speed is 0.4999500372135272, dx/dt=100.06197176614388\n",
      "\n",
      "\n",
      "iteration 13100 dt is 4.996903330749511e-5, t=0.6545943363351205 speed is 0.4999500372139193, dx/dt=100.06197176622236\n",
      "\n",
      "\n",
      "iteration 13200 dt is 4.996903330745508e-5, t=0.6595912396658656 speed is 0.4999500372143198, dx/dt=100.0619717663025\n",
      "\n",
      "\n",
      "iteration 13300 dt is 4.9969033307414514e-5, t=0.6645881429966107 speed is 0.4999500372147257, dx/dt=100.06197176638375\n",
      "\n",
      "\n",
      "iteration 13400 dt is 4.996903330737375e-5, t=0.6695850463273498 speed is 0.49995003721513354, dx/dt=100.06197176646538\n",
      "\n",
      "\n",
      "iteration 13500 dt is 4.996903330733323e-5, t=0.6745819496580838 speed is 0.49995003721553893, dx/dt=100.0619717665465\n",
      "\n",
      "\n",
      "iteration 13600 dt is 4.996903330729343e-5, t=0.6795788529888178 speed is 0.49995003721593717, dx/dt=100.06197176662621\n"
     ]
    },
    {
     "name": "stdout",
     "output_type": "stream",
     "text": [
      "\n",
      "\n",
      "iteration 13700 dt is 4.996903330725486e-5, t=0.6845757563195433 speed is 0.4999500372163231, dx/dt=100.06197176670345\n",
      "\n",
      "\n",
      "iteration 13800 dt is 4.9969033307218124e-5, t=0.6895726596502662 speed is 0.4999500372166906, dx/dt=100.061971766777\n",
      "\n",
      "\n",
      "iteration 13900 dt is 4.9969033307183884e-5, t=0.694569562980989 speed is 0.4999500372170332, dx/dt=100.06197176684557\n",
      "\n",
      "\n",
      "iteration 14000 dt is 4.996903330715281e-5, t=0.6995664663117044 speed is 0.4999500372173441, dx/dt=100.0619717669078\n",
      "\n",
      "\n",
      "iteration 14100 dt is 4.9969033307125655e-5, t=0.7045633696424162 speed is 0.4999500372176158, dx/dt=100.06197176696217\n",
      "\n",
      "\n",
      "iteration 14200 dt is 4.99690333071032e-5, t=0.709560272973128 speed is 0.4999500372178405, dx/dt=100.06197176700715\n",
      "\n",
      "\n",
      "iteration 14300 dt is 4.996903330708621e-5, t=0.7145571763038397 speed is 0.49995003721801046, dx/dt=100.06197176704117\n",
      "\n",
      "\n",
      "iteration 14400 dt is 4.996903330707549e-5, t=0.7195540796345515 speed is 0.4999500372181177, dx/dt=100.06197176706263\n",
      "\n",
      "\n",
      "iteration 14500 dt is 4.996903330707181e-5, t=0.7245509829652633 speed is 0.4999500372181545, dx/dt=100.06197176707\n",
      "\n",
      "\n",
      "iteration 14600 dt is 4.996903330707589e-5, t=0.7295478862959751 speed is 0.4999500372181137, dx/dt=100.06197176706183\n",
      "\n",
      "\n",
      "iteration 14700 dt is 4.996903330708841e-5, t=0.7345447896266869 speed is 0.4999500372179884, dx/dt=100.06197176703675\n",
      "\n",
      "\n",
      "iteration 14800 dt is 4.9969033307109893e-5, t=0.7395416929573987 speed is 0.4999500372177735, dx/dt=100.06197176699374\n",
      "\n",
      "\n",
      "iteration 14900 dt is 4.9969033307140766e-5, t=0.7445385962881105 speed is 0.4999500372174646, dx/dt=100.06197176693192\n",
      "\n",
      "\n",
      "iteration 15000 dt is 4.996903330718125e-5, t=0.7495354996188243 speed is 0.49995003721705955, dx/dt=100.06197176685086\n",
      "\n",
      "\n",
      "iteration 15100 dt is 4.996903330723134e-5, t=0.7545324029495472 speed is 0.4999500372165584, dx/dt=100.06197176675055\n",
      "\n",
      "\n",
      "iteration 15200 dt is 4.996903330729078e-5, t=0.7595293062802713 speed is 0.49995003721596365, dx/dt=100.06197176663152\n",
      "\n",
      "\n",
      "iteration 15300 dt is 4.996903330735896e-5, t=0.7645262096110053 speed is 0.4999500372152815, dx/dt=100.06197176649499\n",
      "\n",
      "\n",
      "iteration 15400 dt is 4.9969033307434944e-5, t=0.7695231129417449 speed is 0.49995003721452125, dx/dt=100.06197176634284\n",
      "\n",
      "\n",
      "iteration 15500 dt is 4.996903330751733e-5, t=0.7745200162724915 speed is 0.499950037213697, dx/dt=100.06197176617786\n",
      "\n",
      "\n",
      "iteration 15600 dt is 4.9969033307604276e-5, t=0.7795169196032476 speed is 0.49995003721282705, dx/dt=100.06197176600375\n",
      "\n",
      "\n",
      "iteration 15700 dt is 4.9969033307693465e-5, t=0.7845138229340134 speed is 0.4999500372119347, dx/dt=100.06197176582515\n",
      "\n",
      "\n",
      "iteration 15800 dt is 4.996903330778197e-5, t=0.7895107262647875 speed is 0.4999500372110492, dx/dt=100.06197176564793\n",
      "\n",
      "\n",
      "iteration 15900 dt is 4.996903330786642e-5, t=0.7945076295955695 speed is 0.49995003721020426, dx/dt=100.0619717654788\n",
      "\n",
      "\n",
      "iteration 16000 dt is 4.9969033307942764e-5, t=0.799504532926359 speed is 0.4999500372094404, dx/dt=100.06197176532594\n",
      "\n",
      "\n",
      "iteration 16100 dt is 4.996903330800647e-5, t=0.8045014362571584 speed is 0.4999500372088031, dx/dt=100.06197176519836\n",
      "\n",
      "\n",
      "iteration 16200 dt is 4.9969033308052424e-5, t=0.809498339587959 speed is 0.4999500372083433, dx/dt=100.06197176510635\n",
      "\n",
      "\n",
      "iteration 16300 dt is 4.996903330807505e-5, t=0.8144952429187676 speed is 0.4999500372081169, dx/dt=100.06197176506103\n",
      "\n",
      "\n",
      "iteration 16400 dt is 4.996903330806834e-5, t=0.8194921462495793 speed is 0.499950037208184, dx/dt=100.06197176507447\n",
      "\n",
      "\n",
      "iteration 16500 dt is 4.9969033308025977e-5, t=0.8244890495803826 speed is 0.49995003720860787, dx/dt=100.0619717651593\n",
      "\n",
      "\n",
      "iteration 16600 dt is 4.9969033307941477e-5, t=0.8294859529111822 speed is 0.49995003720945336, dx/dt=100.06197176532851\n",
      "\n",
      "\n",
      "iteration 16700 dt is 4.996903330780829e-5, t=0.8344828562419694 speed is 0.4999500372107859, dx/dt=100.06197176559522\n",
      "\n",
      "\n",
      "iteration 16800 dt is 4.996903330762003e-5, t=0.8394797595727418 speed is 0.49995003721266945, dx/dt=100.0619717659722\n",
      "\n",
      "\n",
      "iteration 16900 dt is 4.9969033307370705e-5, t=0.8444766629034913 speed is 0.499950037215164, dx/dt=100.06197176647147\n",
      "\n",
      "\n",
      "iteration 17000 dt is 4.9969033307054924e-5, t=0.8494735662342131 speed is 0.4999500372183235, dx/dt=100.06197176710381\n",
      "\n",
      "\n",
      "iteration 17100 dt is 4.996903330666818e-5, t=0.8544704695648994 speed is 0.4999500372221929, dx/dt=100.06197176787826\n",
      "\n",
      "\n",
      "iteration 17200 dt is 4.996903330620714e-5, t=0.8594673728955435 speed is 0.4999500372268057, dx/dt=100.06197176880148\n",
      "\n",
      "\n",
      "iteration 17300 dt is 4.9969033305669904e-5, t=0.8644642762261378 speed is 0.49995003723218084, dx/dt=100.06197176987729\n",
      "\n",
      "\n",
      "iteration 17400 dt is 4.996903330505628e-5, t=0.8694611795566745 speed is 0.4999500372383203, dx/dt=100.06197177110606\n",
      "\n",
      "\n",
      "iteration 17500 dt is 4.996903330436812e-5, t=0.8744580828871458 speed is 0.4999500372452054, dx/dt=100.06197177248409\n",
      "\n",
      "\n",
      "iteration 17600 dt is 4.99690333036095e-5, t=0.879454986217545 speed is 0.49995003725279563, dx/dt=100.06197177400321\n",
      "\n",
      "\n",
      "iteration 17700 dt is 4.996903330278691e-5, t=0.8844518895478649 speed is 0.49995003726102577, dx/dt=100.06197177565043\n",
      "\n",
      "\n",
      "iteration 17800 dt is 4.996903330190947e-5, t=0.8894487928780997 speed is 0.49995003726980475, dx/dt=100.06197177740748\n",
      "\n",
      "\n",
      "iteration 17900 dt is 4.996903330098888e-5, t=0.8944456962082444 speed is 0.49995003727901544, dx/dt=100.06197177925094\n",
      "\n",
      "\n",
      "iteration 18000 dt is 4.996903330003949e-5, t=0.8994425995382956 speed is 0.4999500372885142, dx/dt=100.06197178115208\n",
      "\n",
      "\n",
      "iteration 18100 dt is 4.996903329907821e-5, t=0.9044395028682511 speed is 0.49995003729813203, dx/dt=100.06197178307703\n",
      "\n",
      "\n",
      "iteration 18200 dt is 4.996903329812413e-5, t=0.9094364061981105 speed is 0.49995003730767784, dx/dt=100.06197178498755\n",
      "\n",
      "\n",
      "iteration 18300 dt is 4.996903329719827e-5, t=0.9144333095278759 speed is 0.4999500373169412, dx/dt=100.06197178684155\n",
      "\n",
      "\n",
      "iteration 18400 dt is 4.99690332963231e-5, t=0.919430212857551 speed is 0.4999500373256975, dx/dt=100.06197178859408\n",
      "\n",
      "\n",
      "iteration 18500 dt is 4.996903329552189e-5, t=0.9244271161871421 speed is 0.4999500373337137, dx/dt=100.06197179019847\n",
      "\n",
      "\n",
      "iteration 18600 dt is 4.996903329481803e-5, t=0.9294240195166578 speed is 0.499950037340756, dx/dt=100.06197179160795\n",
      "\n",
      "\n",
      "iteration 18700 dt is 4.996903329423423e-5, t=0.934420922846109 speed is 0.49995003734659704, dx/dt=100.061971792777\n",
      "\n",
      "\n",
      "iteration 18800 dt is 4.996903329379157e-5, t=0.9394178261755087 speed is 0.49995003735102594, dx/dt=100.06197179366342\n",
      "\n",
      "\n",
      "iteration 18900 dt is 4.996903329350869e-5, t=0.9444147295048726 speed is 0.4999500373538562, dx/dt=100.06197179422988\n",
      "\n",
      "\n",
      "iteration 19000 dt is 4.996903329340076e-5, t=0.9494116328342168 speed is 0.49995003735493604, dx/dt=100.06197179444601\n",
      "\n",
      "\n",
      "iteration 19100 dt is 4.9969033293478714e-5, t=0.9544085361635591 speed is 0.4999500373541561, dx/dt=100.0619717942899\n",
      "\n",
      "\n",
      "iteration 19200 dt is 4.996903329374828e-5, t=0.9594054394929187 speed is 0.49995003735145904, dx/dt=100.0619717937501\n",
      "\n",
      "\n",
      "iteration 19300 dt is 4.9969033294209514e-5, t=0.9644023428223153 speed is 0.49995003734684434, dx/dt=100.06197179282648\n",
      "\n",
      "\n",
      "iteration 19400 dt is 4.9969033294856166e-5, t=0.9693992461517673 speed is 0.49995003734037446, dx/dt=100.06197179153158\n",
      "\n",
      "\n",
      "iteration 19500 dt is 4.996903329567552e-5, t=0.974396149481293 speed is 0.4999500373321767, dx/dt=100.06197178989085\n",
      "\n",
      "\n",
      "iteration 19600 dt is 4.9969033296648406e-5, t=0.9793930528109086 speed is 0.49995003732244275, dx/dt=100.06197178794265\n",
      "\n",
      "\n",
      "iteration 19700 dt is 4.996903329774944e-5, t=0.9843899561406282 speed is 0.4999500373114267, dx/dt=100.06197178573785\n",
      "\n",
      "\n",
      "iteration 19800 dt is 4.996903329894777e-5, t=0.989386859470463 speed is 0.49995003729943716, dx/dt=100.06197178333824\n",
      "\n",
      "\n",
      "iteration 19900 dt is 4.996903330020786e-5, t=0.9943837628004212 speed is 0.49995003728682963, dx/dt=100.06197178081491\n",
      "\n",
      "\n",
      "iteration 20000 dt is 4.9969033301490846e-5, t=0.9993806661305067 speed is 0.4999500372739931, dx/dt=100.06197177824576\n",
      "\n",
      "\n",
      "iteration 20100 dt is 4.9969033302755893e-5, t=1.00437756946072 speed is 0.49995003726133613, dx/dt=100.06197177571254\n",
      "\n",
      "\n",
      "iteration 20200 dt is 4.996903330396189e-5, t=1.0093744727910574 speed is 0.49995003724926984, dx/dt=100.06197177329756\n",
      "\n",
      "\n",
      "iteration 20300 dt is 4.9969033305069195e-5, t=1.0143713761215103 speed is 0.4999500372381911, dx/dt=100.0619717710802\n",
      "\n",
      "\n",
      "iteration 20400 dt is 4.9969033306041466e-5, t=1.0193682794520675 speed is 0.4999500372284633, dx/dt=100.06197176913325\n"
     ]
    },
    {
     "name": "stdout",
     "output_type": "stream",
     "text": [
      "\n",
      "\n",
      "iteration 20500 dt is 4.9969033306847307e-5, t=1.0243651827827138 speed is 0.4999500372204007, dx/dt=100.06197176751957\n",
      "\n",
      "\n",
      "iteration 20600 dt is 4.9969033307461934e-5, t=1.0293620861134305 speed is 0.49995003721425124, dx/dt=100.06197176628879\n",
      "\n",
      "\n",
      "iteration 20700 dt is 4.9969033307868374e-5, t=1.034358989444199 speed is 0.4999500372101847, dx/dt=100.0619717654749\n",
      "\n",
      "\n",
      "iteration 20800 dt is 4.9969033308058374e-5, t=1.0393558927749975 speed is 0.49995003720828374, dx/dt=100.06197176509443\n",
      "\n",
      "\n",
      "iteration 20900 dt is 4.996903330803302e-5, t=1.0443527961057981 speed is 0.4999500372085374, dx/dt=100.0619717651452\n",
      "\n",
      "\n",
      "iteration 21000 dt is 4.9969033307802665e-5, t=1.0493496994365916 speed is 0.49995003721084214, dx/dt=100.06197176560649\n",
      "\n",
      "\n",
      "iteration 21100 dt is 4.996903330738647e-5, t=1.0543466027673525 speed is 0.4999500372150063, dx/dt=100.06197176643991\n",
      "\n",
      "\n",
      "iteration 21200 dt is 4.9969033306811535e-5, t=1.0593435060980638 speed is 0.49995003722075865, dx/dt=100.0619717675912\n",
      "\n",
      "\n",
      "iteration 21300 dt is 4.9969033306111425e-5, t=1.0643404094287108 speed is 0.4999500372277633, dx/dt=100.06197176899316\n",
      "\n",
      "\n",
      "iteration 21400 dt is 4.9969033305324545e-5, t=1.0693373127592822 speed is 0.49995003723563625, dx/dt=100.06197177056886\n",
      "\n",
      "\n",
      "iteration 21500 dt is 4.996903330449201e-5, t=1.0743342160897729 speed is 0.4999500372439659, dx/dt=100.06197177223599\n",
      "\n",
      "\n",
      "iteration 21600 dt is 4.996903330365561e-5, t=1.07933111942018 speed is 0.4999500372523342, dx/dt=100.06197177391087\n",
      "\n",
      "\n",
      "iteration 21700 dt is 4.996903330285561e-5, t=1.0843280227505045 speed is 0.4999500372603384, dx/dt=100.06197177551286\n",
      "\n",
      "\n",
      "iteration 21800 dt is 4.996903330212878e-5, t=1.0893249260807534 speed is 0.4999500372676105, dx/dt=100.06197177696832\n",
      "\n",
      "\n",
      "iteration 21900 dt is 4.9969033301506574e-5, t=1.0943218294109334 speed is 0.4999500372738358, dx/dt=100.06197177821427\n",
      "\n",
      "\n",
      "iteration 22000 dt is 4.9969033301013804e-5, t=1.099318732741059 speed is 0.499950037278766, dx/dt=100.06197177920103\n",
      "\n",
      "\n",
      "iteration 22100 dt is 4.9969033300667625e-5, t=1.10431563607114 speed is 0.49995003728222964, dx/dt=100.06197177989425\n",
      "\n",
      "\n",
      "iteration 22200 dt is 4.996903330047714e-5, t=1.109312539401195 speed is 0.4999500372841355, dx/dt=100.0619717802757\n",
      "\n",
      "\n",
      "iteration 22300 dt is 4.996903330044335e-5, t=1.1143094427312406 speed is 0.4999500372844735, dx/dt=100.06197178034336\n",
      "\n",
      "\n",
      "iteration 22400 dt is 4.996903330055978e-5, t=1.1193063460612862 speed is 0.4999500372833086, dx/dt=100.06197178011021\n",
      "\n",
      "\n",
      "iteration 22500 dt is 4.996903330081337e-5, t=1.124303249391355 speed is 0.4999500372807715, dx/dt=100.0619717796024\n",
      "\n",
      "\n",
      "iteration 22600 dt is 4.996903330118571e-5, t=1.1293001527214548 speed is 0.49995003727704607, dx/dt=100.0619717788568\n",
      "\n",
      "\n",
      "iteration 22700 dt is 4.9969033301654595e-5, t=1.134297056051596 speed is 0.4999500372723548, dx/dt=100.06197177791786\n",
      "\n",
      "\n",
      "iteration 22800 dt is 4.996903330219557e-5, t=1.139293959381789 speed is 0.49995003726694226, dx/dt=100.06197177683457\n",
      "\n",
      "\n",
      "iteration 22900 dt is 4.996903330278352e-5, t=1.1442908627120372 speed is 0.4999500372610597, dx/dt=100.06197177565721\n",
      "\n",
      "\n",
      "iteration 23000 dt is 4.9969033303394156e-5, t=1.149287766042347 speed is 0.4999500372549502, dx/dt=100.06197177443443\n",
      "\n",
      "\n",
      "iteration 23100 dt is 4.9969033304005206e-5, t=1.1542846693727178 speed is 0.4999500372488365, dx/dt=100.06197177321081\n",
      "\n",
      "\n",
      "iteration 23200 dt is 4.9969033304597336e-5, t=1.1592815727031478 speed is 0.4999500372429121, dx/dt=100.06197177202509\n",
      "\n",
      "\n",
      "iteration 23300 dt is 4.996903330515493e-5, t=1.1642784760336364 speed is 0.4999500372373333, dx/dt=100.06197177090853\n",
      "\n",
      "\n",
      "iteration 23400 dt is 4.996903330566631e-5, t=1.1692753793641772 speed is 0.4999500372322168, dx/dt=100.06197176988448\n",
      "\n",
      "\n",
      "iteration 23500 dt is 4.996903330612373e-5, t=1.1742722826947676 speed is 0.49995003722764025, dx/dt=100.06197176896852\n",
      "\n",
      "\n",
      "iteration 23600 dt is 4.99690333065232e-5, t=1.1792691860254012 speed is 0.49995003722364345, dx/dt=100.06197176816859\n",
      "\n",
      "\n",
      "iteration 23700 dt is 4.996903330686404e-5, t=1.184266089356072 speed is 0.49995003722023335, dx/dt=100.06197176748607\n",
      "\n",
      "\n",
      "iteration 23800 dt is 4.996903330714825e-5, t=1.1892629926867733 speed is 0.49995003721738973, dx/dt=100.06197176691694\n",
      "\n",
      "\n",
      "iteration 23900 dt is 4.9969033307379894e-5, t=1.1942598960175002 speed is 0.4999500372150721, dx/dt=100.06197176645307\n",
      "\n",
      "\n",
      "iteration 24000 dt is 4.996903330756442e-5, t=1.1992567993482486 speed is 0.4999500372132259, dx/dt=100.06197176608356\n",
      "\n",
      "\n",
      "iteration 24100 dt is 4.996903330770804e-5, t=1.2042537026790108 speed is 0.4999500372117889, dx/dt=100.06197176579596\n",
      "\n",
      "\n",
      "iteration 24200 dt is 4.996903330781727e-5, t=1.2092506060097892 speed is 0.4999500372106961, dx/dt=100.06197176557724\n",
      "\n",
      "\n",
      "iteration 24300 dt is 4.9969033307898346e-5, t=1.2142475093405687 speed is 0.49995003720988485, dx/dt=100.06197176541488\n",
      "\n",
      "\n",
      "iteration 24400 dt is 4.9969033307957096e-5, t=1.2192444126713693 speed is 0.49995003720929704, dx/dt=100.06197176529723\n",
      "\n",
      "\n",
      "iteration 24500 dt is 4.9969033307998614e-5, t=1.22424131600217 speed is 0.49995003720888165, dx/dt=100.0619717652141\n",
      "\n",
      "\n",
      "iteration 24600 dt is 4.99690333080272e-5, t=1.2292382193329705 speed is 0.4999500372085956, dx/dt=100.06197176515685\n",
      "\n",
      "\n",
      "iteration 24700 dt is 4.9969033308046393e-5, t=1.2342351226637711 speed is 0.49995003720840364, dx/dt=100.06197176511841\n",
      "\n",
      "\n",
      "iteration 24800 dt is 4.996903330805891e-5, t=1.2392320259945717 speed is 0.4999500372082784, dx/dt=100.06197176509336\n",
      "\n",
      "\n",
      "iteration 24900 dt is 4.9969033308066885e-5, t=1.2442289293253723 speed is 0.4999500372081986, dx/dt=100.06197176507739\n",
      "\n",
      "\n",
      "iteration 25000 dt is 4.9969033308071804e-5, t=1.249225832656173 speed is 0.4999500372081494, dx/dt=100.06197176506754\n",
      "\n",
      "\n",
      "iteration 25100 dt is 4.996903330807477e-5, t=1.2542227359869735 speed is 0.4999500372081197, dx/dt=100.06197176506159\n",
      "\n",
      "\n",
      "iteration 25200 dt is 4.9969033308076514e-5, t=1.2592196393177741 speed is 0.4999500372081022, dx/dt=100.0619717650581\n",
      "\n",
      "\n",
      "iteration 25300 dt is 4.99690333080775e-5, t=1.2642165426485747 speed is 0.49995003720809233, dx/dt=100.06197176505613\n",
      "\n",
      "\n",
      "iteration 25400 dt is 4.996903330807807e-5, t=1.2692134459793754 speed is 0.4999500372080867, dx/dt=100.06197176505498\n",
      "\n",
      "\n",
      "iteration 25500 dt is 4.9969033308078384e-5, t=1.274210349310176 speed is 0.4999500372080835, dx/dt=100.06197176505437\n",
      "\n",
      "\n",
      "iteration 25600 dt is 4.996903330807856e-5, t=1.2792072526409766 speed is 0.4999500372080818, dx/dt=100.06197176505401\n",
      "\n",
      "\n",
      "iteration 25700 dt is 4.996903330807865e-5, t=1.2842041559717772 speed is 0.4999500372080809, dx/dt=100.06197176505383\n",
      "\n",
      "\n",
      "iteration 25800 dt is 4.996903330807871e-5, t=1.2892010593025778 speed is 0.4999500372080803, dx/dt=100.06197176505371\n",
      "\n",
      "\n",
      "iteration 25900 dt is 4.996903330807873e-5, t=1.2941979626333784 speed is 0.49995003720808007, dx/dt=100.06197176505367\n",
      "\n",
      "\n",
      "iteration 26000 dt is 4.996903330807875e-5, t=1.299194865964179 speed is 0.49995003720807984, dx/dt=100.06197176505363\n"
     ]
    }
   ],
   "source": [
    "finaltime=1.3#2.0#1.3#1.6#2#1.3#0.08*2#0.005*10*5#1#0.9#0.8#0.04*5*4#length(T)-1\n",
    "evol_stats, T_interp = timeevolution(state_array,finaltime,run);#timeevolution(state_array,finaltime,dir*\"/res$res\",run,auxstate_array);\n",
    "#CSV.write(dir*\"/timearray$res.csv\", Tables.table(T_interp), writeheader=false);"
   ]
  },
  {
   "cell_type": "code",
   "execution_count": null,
   "id": "34192588",
   "metadata": {
    "papermill": {
     "duration": 0.007834,
     "end_time": "2023-06-26T00:23:38.486931",
     "exception": false,
     "start_time": "2023-06-26T00:23:38.479097",
     "status": "completed"
    },
    "tags": []
   },
   "outputs": [],
   "source": []
  },
  {
   "cell_type": "code",
   "execution_count": null,
   "id": "e5bac15d",
   "metadata": {
    "papermill": {
     "duration": 0.007993,
     "end_time": "2023-06-26T00:23:38.502852",
     "exception": false,
     "start_time": "2023-06-26T00:23:38.494859",
     "status": "completed"
    },
    "tags": []
   },
   "outputs": [],
   "source": []
  },
  {
   "cell_type": "markdown",
   "id": "715897d3",
   "metadata": {
    "papermill": {
     "duration": 0.012003,
     "end_time": "2023-06-26T00:23:38.523601",
     "exception": false,
     "start_time": "2023-06-26T00:23:38.511598",
     "status": "completed"
    },
    "tags": []
   },
   "source": [
    " ## Movie of the evolution"
   ]
  },
  {
   "cell_type": "code",
   "execution_count": 19,
   "id": "973cea47",
   "metadata": {
    "execution": {
     "iopub.execute_input": "2023-06-26T01:23:38.542000Z",
     "iopub.status.busy": "2023-06-26T01:23:38.542000Z",
     "iopub.status.idle": "2023-06-26T01:23:47.832000Z",
     "shell.execute_reply": "2023-06-26T01:23:47.832000Z"
    },
    "papermill": {
     "duration": 9.304365,
     "end_time": "2023-06-26T00:23:47.837017",
     "exception": true,
     "start_time": "2023-06-26T00:23:38.532652",
     "status": "failed"
    },
    "tags": []
   },
   "outputs": [
    {
     "ename": "LoadError",
     "evalue": "ArgumentError: \"/home/rita13santos/Desktop/MSc Thesis/Git/ScalarField/DATA/res1/time_step0.csv\" is not a valid file or doesn't exist",
     "output_type": "error",
     "traceback": [
      "ArgumentError: \"/home/rita13santos/Desktop/MSc Thesis/Git/ScalarField/DATA/res1/time_step0.csv\" is not a valid file or doesn't exist",
      "",
      "Stacktrace:",
      " [1] CSV.Context(source::CSV.Arg, header::CSV.Arg, normalizenames::CSV.Arg, datarow::CSV.Arg, skipto::CSV.Arg, footerskip::CSV.Arg, transpose::CSV.Arg, comment::CSV.Arg, ignoreemptyrows::CSV.Arg, ignoreemptylines::CSV.Arg, select::CSV.Arg, drop::CSV.Arg, limit::CSV.Arg, buffer_in_memory::CSV.Arg, threaded::CSV.Arg, ntasks::CSV.Arg, tasks::CSV.Arg, rows_to_check::CSV.Arg, lines_to_check::CSV.Arg, missingstrings::CSV.Arg, missingstring::CSV.Arg, delim::CSV.Arg, ignorerepeated::CSV.Arg, quoted::CSV.Arg, quotechar::CSV.Arg, openquotechar::CSV.Arg, closequotechar::CSV.Arg, escapechar::CSV.Arg, dateformat::CSV.Arg, dateformats::CSV.Arg, decimal::CSV.Arg, truestrings::CSV.Arg, falsestrings::CSV.Arg, stripwhitespace::CSV.Arg, type::CSV.Arg, types::CSV.Arg, typemap::CSV.Arg, pool::CSV.Arg, downcast::CSV.Arg, lazystrings::CSV.Arg, stringtype::CSV.Arg, strict::CSV.Arg, silencewarnings::CSV.Arg, maxwarnings::CSV.Arg, debug::CSV.Arg, parsingdebug::CSV.Arg, validate::CSV.Arg, streaming::CSV.Arg)",
      "   @ CSV ~/.julia/packages/CSV/b8ebJ/src/context.jl:306",
      " [2] #File#28",
      "   @ ~/.julia/packages/CSV/b8ebJ/src/file.jl:221 [inlined]",
      " [3] macro expansion",
      "   @ ./In[19]:8 [inlined]",
      " [4] top-level scope",
      "   @ ~/.julia/packages/Plots/bMtsB/src/animation.jl:251"
     ]
    }
   ],
   "source": [
    "using Plots, CSV, DataFrames\n",
    "import GR\n",
    "anim = @animate for n in 0:100:3800#870\n",
    "    \n",
    "    \n",
    "    IJulia.clear_output(true)\n",
    "    \n",
    "    functions3=DataFrame(CSV.File(dir*\"/res$res/time_step$n.csv\",header=false, delim=\",\"))\n",
    "    \n",
    "    #functions3=DataFrame(CSV.File(\"/home/rita13santos/Desktop/MSc Thesis/Git/ScalarField/DATA/bisectionsearch/run1\"*\"/time_step$n.csv\",header=false, delim=\",\"))\n",
    "    plot()\n",
    "        plot1=functions3.Column1[4:L-3];\n",
    "        plot2=functions3.Column2[4:L-3];\n",
    "        plot3=functions3.Column3[4:L-3];\n",
    "        plot4=functions3.Column4[4:L-3];\n",
    "        plot5=functions3.Column5[4:L-3];\n",
    "    temp=round(n*dt,digits=2)\n",
    "    plot!(initX1, [plot1 plot2 plot3 plot4], labels=[\"m\" \"beta\" \"psi\" \"psi,x\"], title=\"$temp\", ylim=[-0.01, 0.01],xlim=[0, 1])#, xlim=[0, 0.1])# |> display \n",
    "    #plot!(initX[4:L-3], [plot1], labels=[\"m\" \"beta\" \"psi\" \"psi,x\"],ylim=[-1,1])#, xlim=[0, 0.1]) |> display \n",
    "    \n",
    "    end\n",
    "\n",
    "gif(anim, \"anim_res$res.gif\", fps = 10)"
   ]
  },
  {
   "cell_type": "code",
   "execution_count": null,
   "id": "2f4d41cf",
   "metadata": {
    "papermill": {
     "duration": null,
     "end_time": null,
     "exception": null,
     "start_time": null,
     "status": "pending"
    },
    "tags": []
   },
   "outputs": [],
   "source": []
  },
  {
   "cell_type": "code",
   "execution_count": null,
   "id": "c6b8b7bc",
   "metadata": {
    "papermill": {
     "duration": null,
     "end_time": null,
     "exception": null,
     "start_time": null,
     "status": "pending"
    },
    "tags": []
   },
   "outputs": [],
   "source": [
    "using Plots, CSV, DataFrames\n",
    "import GR\n",
    "anim = @animate for n in 10:10:1000#length(T)-1\n",
    "    \n",
    "    IJulia.clear_output(true)\n",
    "    \n",
    "    functions3=DataFrame(CSV.File(dir*\"/res$res/monitor_ratio$n.csv\",header=false, delim=\",\"))\n",
    "    plot()\n",
    "        plot1=functions3.Column1[4:L-3];\n",
    "    \n",
    "    plot!(initX1, [plot1], labels=[\"monitor ratio\"], ylim=[0, 1])# |> display \n",
    "    #plot!(initX[4:L-3], [plot1], labels=[\"m\" \"beta\" \"psi\" \"psi,x\"],ylim=[-1,1])#, xlim=[0, 0.1]) |> display \n",
    "    \n",
    "    end\n",
    "\n",
    "gif(anim, \"anim_res$res.gif\", fps = 5)"
   ]
  },
  {
   "cell_type": "code",
   "execution_count": null,
   "id": "baafffa1",
   "metadata": {
    "papermill": {
     "duration": null,
     "end_time": null,
     "exception": null,
     "start_time": null,
     "status": "pending"
    },
    "tags": []
   },
   "outputs": [],
   "source": []
  },
  {
   "cell_type": "markdown",
   "id": "178a4797",
   "metadata": {
    "papermill": {
     "duration": null,
     "end_time": null,
     "exception": null,
     "start_time": null,
     "status": "pending"
    },
    "tags": []
   },
   "source": [
    "# New test"
   ]
  },
  {
   "cell_type": "code",
   "execution_count": 266,
   "id": "3ec9634d",
   "metadata": {
    "papermill": {
     "duration": null,
     "end_time": null,
     "exception": null,
     "start_time": null,
     "status": "pending"
    },
    "tags": []
   },
   "outputs": [],
   "source": [
    "include(\"./ScalarField.jl\");\n",
    "\n",
    "function ff(x)\n",
    "\n",
    "    return x^2\n",
    "\n",
    "end\n",
    "function gridd(x)\n",
    "\n",
    "    #return(1/2+1/2*cos(pi*(1-0.9*x)))\n",
    "    return(1/2 .+ 1/2 .* cos.(pi .* (1 .- x)))\n",
    "\n",
    "end;"
   ]
  },
  {
   "cell_type": "code",
   "execution_count": 267,
   "id": "640a2dd2",
   "metadata": {
    "papermill": {
     "duration": null,
     "end_time": null,
     "exception": null,
     "start_time": null,
     "status": "pending"
    },
    "tags": []
   },
   "outputs": [],
   "source": [
    "res=1\n",
    "\n",
    "dx=0.01\n",
    "\n",
    "x=range(-3*dx,1+3*dx,step=dx)\n",
    "\n",
    "y=ff.(x);"
   ]
  },
  {
   "cell_type": "code",
   "execution_count": 268,
   "id": "01dcc993",
   "metadata": {
    "papermill": {
     "duration": null,
     "end_time": null,
     "exception": null,
     "start_time": null,
     "status": "pending"
    },
    "tags": []
   },
   "outputs": [
    {
     "name": "stdout",
     "output_type": "stream",
     "text": [
      "[-5.421010862427522e-18, 0.02, 0.04, 0.05999999999999999, 0.08000000000000002, 0.10000000000000005, 0.1199999999999999, 0.1400000000000001, 0.16000000000000003, 0.1799999999999999, 0.2000000000000001, 0.22, 0.2399999999999999, 0.25999999999999995, 0.2800000000000004, 0.29999999999999966, 0.32000000000000006, 0.34000000000000047, 0.35999999999999943, 0.3800000000000001, 0.4000000000000004, 0.41999999999999915, 0.44000000000000006, 0.46000000000000085, 0.4799999999999994, 0.5, 0.5199999999999999, 0.5399999999999997, 0.560000000000002, 0.5799999999999987, 0.6, 0.6199999999999999, 0.6399999999999997, 0.6600000000000003, 0.6800000000000018, 0.699999999999998, 0.7199999999999999, 0.7399999999999998, 0.7600000000000002, 0.7800000000000008, 0.8000000000000017, 0.8199999999999964, 0.8399999999999997, 0.8600000000000003, 0.8800000000000008, 0.9, 0.9200000000000029, 0.9399999999999983, 0.9599999999999989, 0.9799999999999994, 1.0, 1.0200000000000005, 1.0400000000000011, 1.059999999999999, 1.0799999999999994, 1.1, 1.1200000000000074, 1.1399999999999955, 1.1599999999999988, 1.1799999999999995, 1.2, 1.2200000000000006, 1.240000000000001, 1.259999999999999, 1.2799999999999994, 1.3, 1.3200000000000005, 1.3400000000000012, 1.3600000000000056, 1.379999999999991, 1.4000000000000028, 1.4200000000000006, 1.4399999999999955, 1.4599999999999989, 1.4800000000000022, 1.5, 1.5199999999999978, 1.5400000000000011, 1.5600000000000045, 1.5800000000000023, 1.6, 1.6200000000000048, 1.63999999999999, 1.6599999999999988, 1.6799999999999966, 1.7, 1.7200000000000033, 1.740000000000001, 1.759999999999999, 1.7800000000000022, 1.8, 1.8199999999999978, 1.8400000000000012, 1.860000000000014, 1.879999999999991, 1.9, 1.9199999999999977, 1.9399999999999955, 1.9599999999999989, 1.9800000000000022, 2.0]\n"
     ]
    },
    {
     "data": {
      "text/plain": [
       "107×2 Matrix{Float64}:\n",
       " 0.0009       0.0\n",
       " 0.0004       0.0\n",
       " 0.0001       0.0\n",
       " 0.0          0.0\n",
       " 6.08707e-8   0.0\n",
       " 9.7345e-7    0.0\n",
       " 4.92404e-6   0.0\n",
       " 1.55445e-5   0.0\n",
       " 3.78942e-5   0.0\n",
       " 7.84354e-5   0.0\n",
       " 0.000145001  0.0\n",
       " 0.000246754  0.0\n",
       " 0.000394148  0.0\n",
       " ⋮            \n",
       " 0.96883      0.0\n",
       " 0.976062     0.0\n",
       " 0.982366     0.0\n",
       " 0.987726     0.0\n",
       " 0.99213      0.0\n",
       " 0.995567     0.0\n",
       " 0.998028     0.0\n",
       " 0.999507     0.0\n",
       " 1.0          0.0\n",
       " 1.0201       0.0\n",
       " 1.0404       0.0\n",
       " 1.0609       0.0"
      ]
     },
     "execution_count": 268,
     "metadata": {},
     "output_type": "execute_result"
    }
   ],
   "source": [
    "L=length(x)\n",
    "aux=zeros(L)\n",
    "\n",
    "\n",
    "for i in 4:L-3\n",
    "\n",
    "    aux[i]=Dertest(y,i,x)\n",
    "\n",
    "end\n",
    "\n",
    "println(aux[4:L-3]);\n",
    "xnew=collect(x)\n",
    "xnew[4:L-3]=gridd(x[4:L-3])\n",
    "\n",
    "#ynew=ff.(xnew);\n",
    "ynew=[ff.(xnew) zeros(L)]"
   ]
  },
  {
   "cell_type": "code",
   "execution_count": 269,
   "id": "85a26205",
   "metadata": {
    "papermill": {
     "duration": null,
     "end_time": null,
     "exception": null,
     "start_time": null,
     "status": "pending"
    },
    "tags": []
   },
   "outputs": [
    {
     "name": "stdout",
     "output_type": "stream",
     "text": [
      " \n",
      "[1.015648370447264e-16, 0.0005482301902749086, 0.001973271571728468, 0.0044380353969199916, 0.007885298685522223, 0.012311659404862337, 0.017712749271311282, 0.02408323806125268, 0.03141683887136893, 0.03970631432305701, 0.04894348370484647, 0.05911923104577456, 0.07022351411174863, 0.08224537431601885, 0.09517294753398073, 0.10899347581163228, 0.12369331995613629, 0.1392579729960566, 0.15567207449798479, 0.1729194257254383, 0.19098300562505244, 0.2098449876243095, 0.22948675722421108, 0.2498889303695403, 0.2710313725785885, 0.29289321881345254, 0.31545289407131144, 0.33868813467634734, 0.3625760102513108, 0.38709294634702446, 0.41221474770752714, 0.43791662214787025, 0.46417320502100506, 0.49095858424962846, 0.5182463258982851, 0.5460095002604536, 0.574220708434928, 0.6028521093652197, 0.6318754473153203, 0.6612620797547106, 0.6909830056250531, 0.7210088939607736, 0.7513101128351458, 0.7818567586034563, 0.8126186854142732, 0.8435655349597684, 0.8746667664356949, 0.9058916866814866, 0.9372094804706849, 0.9685892409218728, 0.9999999999999986, 1.0314107590781274, 1.0627905195293108, 1.0941083133185165, 1.1253332335643091, 1.1564344650402298, 1.1873813145857235, 1.2181432413965423, 1.2486898871648568, 1.278991106039232, 1.3090169943749435, 1.3387379202452931, 1.3681245526846817, 1.3971478906347758, 1.4257792915650718, 1.4539904997395396, 1.4817536741017134, 1.5090414157503693, 1.535826794978986, 1.562083377852123, 1.5877852522924734, 1.6129070536529668, 1.637423989748694, 1.6613118653236332, 1.6845471059287018, 1.7071067811865388, 1.7289686274214036, 1.750111069630457, 1.7705132427758015, 1.7901550123756864, 1.8090169943749432, 1.8270805742745724, 1.844327925502048, 1.8607420270039638, 1.8763066800438526, 1.8910065241884046, 1.904827052466015, 1.9177546256839986, 1.9297764858882467, 1.9408807689541965, 1.9510565162951485, 1.960293685676926, 1.968583161128644, 1.9759167619387785, 1.9822872507287672, 1.9876883405951633, 1.992114701314529, 1.9955619646033442, 1.9980267284294662, 1.9995065603656839, 2.0000000000015]\n",
      " \n",
      "[0.0, 0.0004934396342684, 0.001973271571728441, 0.004438035396920004, 0.007885298685522235, 0.01231165940486234, 0.01771274927131128, 0.024083238061252676, 0.031416838871368924, 0.039706314323057046, 0.04894348370484647, 0.059119231045774545, 0.07022351411174865, 0.08224537431601886, 0.09517294753398065, 0.10899347581163221, 0.12369331995613642, 0.13925797299605647, 0.15567207449798492, 0.17291942572543828, 0.19098300562505266, 0.2098449876243096, 0.22948675722421086, 0.24988893036954052, 0.27103137257858867, 0.29289321881345254, 0.3154528940713113, 0.3386881346763483, 0.36257601025131025, 0.38709294634702374, 0.412214747707527, 0.4379166221478693, 0.46417320502100357, 0.4909585842496287, 0.518246325898285, 0.5460095002604533, 0.5742207084349273, 0.6028521093652195, 0.6318754473153223, 0.6612620797547089, 0.6909830056250524, 0.7210088939607706, 0.7513101128351451, 0.7818567586034575, 0.8126186854142754, 0.8435655349597692, 0.8746667664356956, 0.9058916866814857, 0.9372094804706866, 0.9685892409218717, 1.0, 1.031410759078128, 1.0627905195293132, 1.0941083133185143, 1.1253332335643043, 1.156434465040231, 1.1873813145857248, 1.2181432413965425, 1.2486898871648546, 1.2789911060392294, 1.3090169943749475, 1.3387379202452916, 1.368124552684678, 1.3971478906347805, 1.4257792915650727, 1.4539904997395467, 1.4817536741017154, 1.5090414157503713, 1.5358267949789968, 1.5620833778521306, 1.587785252292473, 1.6129070536529766, 1.6374239897486897, 1.661311865323652, 1.6845471059286887, 1.7071067811865475, 1.7289686274214116, 1.7501110696304596, 1.7705132427757895, 1.7901550123756904, 1.8090169943749475, 1.8270805742745617, 1.8443279255020149, 1.8607420270039436, 1.8763066800438635, 1.891006524188368, 1.9048270524660196, 1.917754625683981, 1.9297764858882513, 1.9408807689542256, 1.9510565162951536, 1.960293685676943, 1.968583161128631, 1.9759167619387474, 1.9822872507286888, 1.9876883405951378, 1.992114701314478, 1.99556196460308, 1.9980267284282716, 1.9995065603657316, 2.0]\n"
     ]
    }
   ],
   "source": [
    "spl=Spline1D(xnew[4:L-3],ynew[4:L-3],k=4)\n",
    "spl=[spl spl]\n",
    "auxnew=zeros(L);\n",
    "k=1\n",
    "\n",
    "for i in 4:L-3\n",
    "    auxnew[i]=unevenDer(ynew,i,k,xnew,spl)\n",
    "end\n",
    "\n",
    "println(\" \")\n",
    "println(auxnew[4:L-3])\n",
    "println(\" \")\n",
    "println(2 .* xnew[4:L-3])"
   ]
  },
  {
   "cell_type": "code",
   "execution_count": 270,
   "id": "ad479da5",
   "metadata": {},
   "outputs": [
    {
     "data": {
      "text/plain": [
       "104"
      ]
     },
     "execution_count": 270,
     "metadata": {},
     "output_type": "execute_result"
    }
   ],
   "source": [
    "L-3"
   ]
  },
  {
   "cell_type": "code",
   "execution_count": null,
   "id": "2f8cde7b",
   "metadata": {},
   "outputs": [],
   "source": []
  },
  {
   "cell_type": "code",
   "execution_count": 272,
   "id": "6e2c9f0d",
   "metadata": {
    "papermill": {
     "duration": null,
     "end_time": null,
     "exception": null,
     "start_time": null,
     "status": "pending"
    },
    "tags": []
   },
   "outputs": [
    {
     "data": {
      "image/svg+xml": [
       "<?xml version=\"1.0\" encoding=\"utf-8\"?>\n",
       "<svg xmlns=\"http://www.w3.org/2000/svg\" xmlns:xlink=\"http://www.w3.org/1999/xlink\" width=\"600\" height=\"400\" viewBox=\"0 0 2400 1600\">\n",
       "<defs>\n",
       "  <clipPath id=\"clip050\">\n",
       "    <rect x=\"0\" y=\"0\" width=\"2400\" height=\"1600\"/>\n",
       "  </clipPath>\n",
       "</defs>\n",
       "<path clip-path=\"url(#clip050)\" d=\"M0 1600 L2400 1600 L2400 0 L0 0  Z\" fill=\"#ffffff\" fill-rule=\"evenodd\" fill-opacity=\"1\"/>\n",
       "<defs>\n",
       "  <clipPath id=\"clip051\">\n",
       "    <rect x=\"480\" y=\"0\" width=\"1681\" height=\"1600\"/>\n",
       "  </clipPath>\n",
       "</defs>\n",
       "<path clip-path=\"url(#clip050)\" d=\"M156.112 1486.45 L2352.76 1486.45 L2352.76 47.2441 L156.112 47.2441  Z\" fill=\"#ffffff\" fill-rule=\"evenodd\" fill-opacity=\"1\"/>\n",
       "<defs>\n",
       "  <clipPath id=\"clip052\">\n",
       "    <rect x=\"156\" y=\"47\" width=\"2198\" height=\"1440\"/>\n",
       "  </clipPath>\n",
       "</defs>\n",
       "<polyline clip-path=\"url(#clip052)\" style=\"stroke:#000000; stroke-linecap:round; stroke-linejoin:round; stroke-width:2; stroke-opacity:0.1; fill:none\" points=\"156.112,1486.45 156.112,47.2441 \"/>\n",
       "<polyline clip-path=\"url(#clip052)\" style=\"stroke:#000000; stroke-linecap:round; stroke-linejoin:round; stroke-width:2; stroke-opacity:0.1; fill:none\" points=\"595.441,1486.45 595.441,47.2441 \"/>\n",
       "<polyline clip-path=\"url(#clip052)\" style=\"stroke:#000000; stroke-linecap:round; stroke-linejoin:round; stroke-width:2; stroke-opacity:0.1; fill:none\" points=\"1034.77,1486.45 1034.77,47.2441 \"/>\n",
       "<polyline clip-path=\"url(#clip052)\" style=\"stroke:#000000; stroke-linecap:round; stroke-linejoin:round; stroke-width:2; stroke-opacity:0.1; fill:none\" points=\"1474.1,1486.45 1474.1,47.2441 \"/>\n",
       "<polyline clip-path=\"url(#clip052)\" style=\"stroke:#000000; stroke-linecap:round; stroke-linejoin:round; stroke-width:2; stroke-opacity:0.1; fill:none\" points=\"1913.43,1486.45 1913.43,47.2441 \"/>\n",
       "<polyline clip-path=\"url(#clip050)\" style=\"stroke:#000000; stroke-linecap:round; stroke-linejoin:round; stroke-width:4; stroke-opacity:1; fill:none\" points=\"156.112,1486.45 2352.76,1486.45 \"/>\n",
       "<polyline clip-path=\"url(#clip050)\" style=\"stroke:#000000; stroke-linecap:round; stroke-linejoin:round; stroke-width:4; stroke-opacity:1; fill:none\" points=\"156.112,1486.45 156.112,1467.55 \"/>\n",
       "<polyline clip-path=\"url(#clip050)\" style=\"stroke:#000000; stroke-linecap:round; stroke-linejoin:round; stroke-width:4; stroke-opacity:1; fill:none\" points=\"595.441,1486.45 595.441,1467.55 \"/>\n",
       "<polyline clip-path=\"url(#clip050)\" style=\"stroke:#000000; stroke-linecap:round; stroke-linejoin:round; stroke-width:4; stroke-opacity:1; fill:none\" points=\"1034.77,1486.45 1034.77,1467.55 \"/>\n",
       "<polyline clip-path=\"url(#clip050)\" style=\"stroke:#000000; stroke-linecap:round; stroke-linejoin:round; stroke-width:4; stroke-opacity:1; fill:none\" points=\"1474.1,1486.45 1474.1,1467.55 \"/>\n",
       "<polyline clip-path=\"url(#clip050)\" style=\"stroke:#000000; stroke-linecap:round; stroke-linejoin:round; stroke-width:4; stroke-opacity:1; fill:none\" points=\"1913.43,1486.45 1913.43,1467.55 \"/>\n",
       "<path clip-path=\"url(#clip050)\" d=\"M118.416 1517.37 Q114.804 1517.37 112.976 1520.93 Q111.17 1524.47 111.17 1531.6 Q111.17 1538.71 112.976 1542.27 Q114.804 1545.82 118.416 1545.82 Q122.05 1545.82 123.855 1542.27 Q125.684 1538.71 125.684 1531.6 Q125.684 1524.47 123.855 1520.93 Q122.05 1517.37 118.416 1517.37 M118.416 1513.66 Q124.226 1513.66 127.281 1518.27 Q130.36 1522.85 130.36 1531.6 Q130.36 1540.33 127.281 1544.94 Q124.226 1549.52 118.416 1549.52 Q112.605 1549.52 109.527 1544.94 Q106.471 1540.33 106.471 1531.6 Q106.471 1522.85 109.527 1518.27 Q112.605 1513.66 118.416 1513.66 Z\" fill=\"#000000\" fill-rule=\"evenodd\" fill-opacity=\"1\" /><path clip-path=\"url(#clip050)\" d=\"M138.577 1542.97 L143.462 1542.97 L143.462 1548.85 L138.577 1548.85 L138.577 1542.97 Z\" fill=\"#000000\" fill-rule=\"evenodd\" fill-opacity=\"1\" /><path clip-path=\"url(#clip050)\" d=\"M153.786 1548.13 L153.786 1543.87 Q155.545 1544.7 157.351 1545.14 Q159.156 1545.58 160.892 1545.58 Q165.522 1545.58 167.952 1542.48 Q170.406 1539.36 170.753 1533.01 Q169.411 1535.01 167.35 1536.07 Q165.29 1537.13 162.79 1537.13 Q157.605 1537.13 154.573 1534.01 Q151.564 1530.86 151.564 1525.42 Q151.564 1520.1 154.712 1516.88 Q157.86 1513.66 163.091 1513.66 Q169.087 1513.66 172.235 1518.27 Q175.406 1522.85 175.406 1531.6 Q175.406 1539.77 171.517 1544.66 Q167.651 1549.52 161.101 1549.52 Q159.341 1549.52 157.536 1549.17 Q155.73 1548.82 153.786 1548.13 M163.091 1533.48 Q166.239 1533.48 168.068 1531.32 Q169.92 1529.17 169.92 1525.42 Q169.92 1521.7 168.068 1519.54 Q166.239 1517.37 163.091 1517.37 Q159.943 1517.37 158.091 1519.54 Q156.263 1521.7 156.263 1525.42 Q156.263 1529.17 158.091 1531.32 Q159.943 1533.48 163.091 1533.48 Z\" fill=\"#000000\" fill-rule=\"evenodd\" fill-opacity=\"1\" /><path clip-path=\"url(#clip050)\" d=\"M193.809 1517.37 Q190.198 1517.37 188.369 1520.93 Q186.563 1524.47 186.563 1531.6 Q186.563 1538.71 188.369 1542.27 Q190.198 1545.82 193.809 1545.82 Q197.443 1545.82 199.248 1542.27 Q201.077 1538.71 201.077 1531.6 Q201.077 1524.47 199.248 1520.93 Q197.443 1517.37 193.809 1517.37 M193.809 1513.66 Q199.619 1513.66 202.674 1518.27 Q205.753 1522.85 205.753 1531.6 Q205.753 1540.33 202.674 1544.94 Q199.619 1549.52 193.809 1549.52 Q187.999 1549.52 184.92 1544.94 Q181.864 1540.33 181.864 1531.6 Q181.864 1522.85 184.92 1518.27 Q187.999 1513.66 193.809 1513.66 Z\" fill=\"#000000\" fill-rule=\"evenodd\" fill-opacity=\"1\" /><path clip-path=\"url(#clip050)\" d=\"M558.543 1517.37 Q554.932 1517.37 553.103 1520.93 Q551.298 1524.47 551.298 1531.6 Q551.298 1538.71 553.103 1542.27 Q554.932 1545.82 558.543 1545.82 Q562.177 1545.82 563.983 1542.27 Q565.811 1538.71 565.811 1531.6 Q565.811 1524.47 563.983 1520.93 Q562.177 1517.37 558.543 1517.37 M558.543 1513.66 Q564.353 1513.66 567.409 1518.27 Q570.487 1522.85 570.487 1531.6 Q570.487 1540.33 567.409 1544.94 Q564.353 1549.52 558.543 1549.52 Q552.733 1549.52 549.654 1544.94 Q546.599 1540.33 546.599 1531.6 Q546.599 1522.85 549.654 1518.27 Q552.733 1513.66 558.543 1513.66 Z\" fill=\"#000000\" fill-rule=\"evenodd\" fill-opacity=\"1\" /><path clip-path=\"url(#clip050)\" d=\"M578.705 1542.97 L583.589 1542.97 L583.589 1548.85 L578.705 1548.85 L578.705 1542.97 Z\" fill=\"#000000\" fill-rule=\"evenodd\" fill-opacity=\"1\" /><path clip-path=\"url(#clip050)\" d=\"M593.913 1548.13 L593.913 1543.87 Q595.672 1544.7 597.478 1545.14 Q599.283 1545.58 601.02 1545.58 Q605.649 1545.58 608.08 1542.48 Q610.533 1539.36 610.881 1533.01 Q609.538 1535.01 607.478 1536.07 Q605.418 1537.13 602.918 1537.13 Q597.733 1537.13 594.7 1534.01 Q591.691 1530.86 591.691 1525.42 Q591.691 1520.1 594.839 1516.88 Q597.987 1513.66 603.219 1513.66 Q609.214 1513.66 612.362 1518.27 Q615.533 1522.85 615.533 1531.6 Q615.533 1539.77 611.644 1544.66 Q607.779 1549.52 601.228 1549.52 Q599.469 1549.52 597.663 1549.17 Q595.858 1548.82 593.913 1548.13 M603.219 1533.48 Q606.367 1533.48 608.195 1531.32 Q610.047 1529.17 610.047 1525.42 Q610.047 1521.7 608.195 1519.54 Q606.367 1517.37 603.219 1517.37 Q600.07 1517.37 598.219 1519.54 Q596.39 1521.7 596.39 1525.42 Q596.39 1529.17 598.219 1531.32 Q600.07 1533.48 603.219 1533.48 Z\" fill=\"#000000\" fill-rule=\"evenodd\" fill-opacity=\"1\" /><path clip-path=\"url(#clip050)\" d=\"M627.964 1544.91 L644.283 1544.91 L644.283 1548.85 L622.339 1548.85 L622.339 1544.91 Q625.001 1542.16 629.584 1537.53 Q634.191 1532.88 635.371 1531.53 Q637.617 1529.01 638.496 1527.27 Q639.399 1525.51 639.399 1523.82 Q639.399 1521.07 637.455 1519.33 Q635.533 1517.6 632.431 1517.6 Q630.232 1517.6 627.779 1518.36 Q625.348 1519.13 622.57 1520.68 L622.57 1515.95 Q625.394 1514.82 627.848 1514.24 Q630.302 1513.66 632.339 1513.66 Q637.709 1513.66 640.904 1516.35 Q644.098 1519.03 644.098 1523.52 Q644.098 1525.65 643.288 1527.57 Q642.501 1529.47 640.394 1532.07 Q639.816 1532.74 636.714 1535.95 Q633.612 1539.15 627.964 1544.91 Z\" fill=\"#000000\" fill-rule=\"evenodd\" fill-opacity=\"1\" /><path clip-path=\"url(#clip050)\" d=\"M996.83 1517.37 Q993.219 1517.37 991.39 1520.93 Q989.585 1524.47 989.585 1531.6 Q989.585 1538.71 991.39 1542.27 Q993.219 1545.82 996.83 1545.82 Q1000.46 1545.82 1002.27 1542.27 Q1004.1 1538.71 1004.1 1531.6 Q1004.1 1524.47 1002.27 1520.93 Q1000.46 1517.37 996.83 1517.37 M996.83 1513.66 Q1002.64 1513.66 1005.7 1518.27 Q1008.77 1522.85 1008.77 1531.6 Q1008.77 1540.33 1005.7 1544.94 Q1002.64 1549.52 996.83 1549.52 Q991.02 1549.52 987.941 1544.94 Q984.886 1540.33 984.886 1531.6 Q984.886 1522.85 987.941 1518.27 Q991.02 1513.66 996.83 1513.66 Z\" fill=\"#000000\" fill-rule=\"evenodd\" fill-opacity=\"1\" /><path clip-path=\"url(#clip050)\" d=\"M1016.99 1542.97 L1021.88 1542.97 L1021.88 1548.85 L1016.99 1548.85 L1016.99 1542.97 Z\" fill=\"#000000\" fill-rule=\"evenodd\" fill-opacity=\"1\" /><path clip-path=\"url(#clip050)\" d=\"M1032.2 1548.13 L1032.2 1543.87 Q1033.96 1544.7 1035.77 1545.14 Q1037.57 1545.58 1039.31 1545.58 Q1043.94 1545.58 1046.37 1542.48 Q1048.82 1539.36 1049.17 1533.01 Q1047.83 1535.01 1045.76 1536.07 Q1043.7 1537.13 1041.2 1537.13 Q1036.02 1537.13 1032.99 1534.01 Q1029.98 1530.86 1029.98 1525.42 Q1029.98 1520.1 1033.13 1516.88 Q1036.27 1513.66 1041.51 1513.66 Q1047.5 1513.66 1050.65 1518.27 Q1053.82 1522.85 1053.82 1531.6 Q1053.82 1539.77 1049.93 1544.66 Q1046.07 1549.52 1039.51 1549.52 Q1037.76 1549.52 1035.95 1549.17 Q1034.14 1548.82 1032.2 1548.13 M1041.51 1533.48 Q1044.65 1533.48 1046.48 1531.32 Q1048.33 1529.17 1048.33 1525.42 Q1048.33 1521.7 1046.48 1519.54 Q1044.65 1517.37 1041.51 1517.37 Q1038.36 1517.37 1036.51 1519.54 Q1034.68 1521.7 1034.68 1525.42 Q1034.68 1529.17 1036.51 1531.32 Q1038.36 1533.48 1041.51 1533.48 Z\" fill=\"#000000\" fill-rule=\"evenodd\" fill-opacity=\"1\" /><path clip-path=\"url(#clip050)\" d=\"M1075.07 1518.36 L1063.26 1536.81 L1075.07 1536.81 L1075.07 1518.36 M1073.84 1514.29 L1079.72 1514.29 L1079.72 1536.81 L1084.65 1536.81 L1084.65 1540.7 L1079.72 1540.7 L1079.72 1548.85 L1075.07 1548.85 L1075.07 1540.7 L1059.47 1540.7 L1059.47 1536.19 L1073.84 1514.29 Z\" fill=\"#000000\" fill-rule=\"evenodd\" fill-opacity=\"1\" /><path clip-path=\"url(#clip050)\" d=\"M1436.32 1517.37 Q1432.71 1517.37 1430.88 1520.93 Q1429.08 1524.47 1429.08 1531.6 Q1429.08 1538.71 1430.88 1542.27 Q1432.71 1545.82 1436.32 1545.82 Q1439.96 1545.82 1441.76 1542.27 Q1443.59 1538.71 1443.59 1531.6 Q1443.59 1524.47 1441.76 1520.93 Q1439.96 1517.37 1436.32 1517.37 M1436.32 1513.66 Q1442.13 1513.66 1445.19 1518.27 Q1448.27 1522.85 1448.27 1531.6 Q1448.27 1540.33 1445.19 1544.94 Q1442.13 1549.52 1436.32 1549.52 Q1430.51 1549.52 1427.43 1544.94 Q1424.38 1540.33 1424.38 1531.6 Q1424.38 1522.85 1427.43 1518.27 Q1430.51 1513.66 1436.32 1513.66 Z\" fill=\"#000000\" fill-rule=\"evenodd\" fill-opacity=\"1\" /><path clip-path=\"url(#clip050)\" d=\"M1456.48 1542.97 L1461.37 1542.97 L1461.37 1548.85 L1456.48 1548.85 L1456.48 1542.97 Z\" fill=\"#000000\" fill-rule=\"evenodd\" fill-opacity=\"1\" /><path clip-path=\"url(#clip050)\" d=\"M1471.69 1548.13 L1471.69 1543.87 Q1473.45 1544.7 1475.26 1545.14 Q1477.06 1545.58 1478.8 1545.58 Q1483.43 1545.58 1485.86 1542.48 Q1488.31 1539.36 1488.66 1533.01 Q1487.32 1535.01 1485.26 1536.07 Q1483.2 1537.13 1480.7 1537.13 Q1475.51 1537.13 1472.48 1534.01 Q1469.47 1530.86 1469.47 1525.42 Q1469.47 1520.1 1472.62 1516.88 Q1475.77 1513.66 1481 1513.66 Q1486.99 1513.66 1490.14 1518.27 Q1493.31 1522.85 1493.31 1531.6 Q1493.31 1539.77 1489.42 1544.66 Q1485.56 1549.52 1479.01 1549.52 Q1477.25 1549.52 1475.44 1549.17 Q1473.64 1548.82 1471.69 1548.13 M1481 1533.48 Q1484.14 1533.48 1485.97 1531.32 Q1487.83 1529.17 1487.83 1525.42 Q1487.83 1521.7 1485.97 1519.54 Q1484.14 1517.37 1481 1517.37 Q1477.85 1517.37 1476 1519.54 Q1474.17 1521.7 1474.17 1525.42 Q1474.17 1529.17 1476 1531.32 Q1477.85 1533.48 1481 1533.48 Z\" fill=\"#000000\" fill-rule=\"evenodd\" fill-opacity=\"1\" /><path clip-path=\"url(#clip050)\" d=\"M1512.29 1529.7 Q1509.14 1529.7 1507.29 1531.86 Q1505.46 1534.01 1505.46 1537.76 Q1505.46 1541.49 1507.29 1543.66 Q1509.14 1545.82 1512.29 1545.82 Q1515.44 1545.82 1517.27 1543.66 Q1519.12 1541.49 1519.12 1537.76 Q1519.12 1534.01 1517.27 1531.86 Q1515.44 1529.7 1512.29 1529.7 M1521.57 1515.05 L1521.57 1519.31 Q1519.82 1518.48 1518.01 1518.04 Q1516.23 1517.6 1514.47 1517.6 Q1509.84 1517.6 1507.39 1520.72 Q1504.95 1523.85 1504.61 1530.17 Q1505.97 1528.15 1508.03 1527.09 Q1510.09 1526 1512.57 1526 Q1517.78 1526 1520.79 1529.17 Q1523.82 1532.32 1523.82 1537.76 Q1523.82 1543.08 1520.67 1546.3 Q1517.52 1549.52 1512.29 1549.52 Q1506.3 1549.52 1503.13 1544.94 Q1499.95 1540.33 1499.95 1531.6 Q1499.95 1523.41 1503.84 1518.55 Q1507.73 1513.66 1514.28 1513.66 Q1516.04 1513.66 1517.83 1514.01 Q1519.63 1514.36 1521.57 1515.05 Z\" fill=\"#000000\" fill-rule=\"evenodd\" fill-opacity=\"1\" /><path clip-path=\"url(#clip050)\" d=\"M1875.78 1517.37 Q1872.17 1517.37 1870.34 1520.93 Q1868.53 1524.47 1868.53 1531.6 Q1868.53 1538.71 1870.34 1542.27 Q1872.17 1545.82 1875.78 1545.82 Q1879.41 1545.82 1881.22 1542.27 Q1883.05 1538.71 1883.05 1531.6 Q1883.05 1524.47 1881.22 1520.93 Q1879.41 1517.37 1875.78 1517.37 M1875.78 1513.66 Q1881.59 1513.66 1884.64 1518.27 Q1887.72 1522.85 1887.72 1531.6 Q1887.72 1540.33 1884.64 1544.94 Q1881.59 1549.52 1875.78 1549.52 Q1869.97 1549.52 1866.89 1544.94 Q1863.83 1540.33 1863.83 1531.6 Q1863.83 1522.85 1866.89 1518.27 Q1869.97 1513.66 1875.78 1513.66 Z\" fill=\"#000000\" fill-rule=\"evenodd\" fill-opacity=\"1\" /><path clip-path=\"url(#clip050)\" d=\"M1895.94 1542.97 L1900.82 1542.97 L1900.82 1548.85 L1895.94 1548.85 L1895.94 1542.97 Z\" fill=\"#000000\" fill-rule=\"evenodd\" fill-opacity=\"1\" /><path clip-path=\"url(#clip050)\" d=\"M1911.15 1548.13 L1911.15 1543.87 Q1912.91 1544.7 1914.71 1545.14 Q1916.52 1545.58 1918.25 1545.58 Q1922.88 1545.58 1925.31 1542.48 Q1927.77 1539.36 1928.11 1533.01 Q1926.77 1535.01 1924.71 1536.07 Q1922.65 1537.13 1920.15 1537.13 Q1914.97 1537.13 1911.93 1534.01 Q1908.92 1530.86 1908.92 1525.42 Q1908.92 1520.1 1912.07 1516.88 Q1915.22 1513.66 1920.45 1513.66 Q1926.45 1513.66 1929.6 1518.27 Q1932.77 1522.85 1932.77 1531.6 Q1932.77 1539.77 1928.88 1544.66 Q1925.01 1549.52 1918.46 1549.52 Q1916.7 1549.52 1914.9 1549.17 Q1913.09 1548.82 1911.15 1548.13 M1920.45 1533.48 Q1923.6 1533.48 1925.43 1531.32 Q1927.28 1529.17 1927.28 1525.42 Q1927.28 1521.7 1925.43 1519.54 Q1923.6 1517.37 1920.45 1517.37 Q1917.3 1517.37 1915.45 1519.54 Q1913.62 1521.7 1913.62 1525.42 Q1913.62 1529.17 1915.45 1531.32 Q1917.3 1533.48 1920.45 1533.48 Z\" fill=\"#000000\" fill-rule=\"evenodd\" fill-opacity=\"1\" /><path clip-path=\"url(#clip050)\" d=\"M1951.17 1532.44 Q1947.84 1532.44 1945.92 1534.22 Q1944.02 1536 1944.02 1539.13 Q1944.02 1542.25 1945.92 1544.03 Q1947.84 1545.82 1951.17 1545.82 Q1954.5 1545.82 1956.42 1544.03 Q1958.35 1542.23 1958.35 1539.13 Q1958.35 1536 1956.42 1534.22 Q1954.53 1532.44 1951.17 1532.44 M1946.49 1530.45 Q1943.48 1529.7 1941.8 1527.64 Q1940.13 1525.58 1940.13 1522.62 Q1940.13 1518.48 1943.07 1516.07 Q1946.03 1513.66 1951.17 1513.66 Q1956.33 1513.66 1959.27 1516.07 Q1962.21 1518.48 1962.21 1522.62 Q1962.21 1525.58 1960.52 1527.64 Q1958.86 1529.7 1955.87 1530.45 Q1959.25 1531.23 1961.12 1533.52 Q1963.02 1535.82 1963.02 1539.13 Q1963.02 1544.15 1959.94 1546.83 Q1956.89 1549.52 1951.17 1549.52 Q1945.45 1549.52 1942.37 1546.83 Q1939.32 1544.15 1939.32 1539.13 Q1939.32 1535.82 1941.22 1533.52 Q1943.11 1531.23 1946.49 1530.45 M1944.78 1523.06 Q1944.78 1525.75 1946.45 1527.25 Q1948.14 1528.76 1951.17 1528.76 Q1954.18 1528.76 1955.87 1527.25 Q1957.58 1525.75 1957.58 1523.06 Q1957.58 1520.38 1955.87 1518.87 Q1954.18 1517.37 1951.17 1517.37 Q1948.14 1517.37 1946.45 1518.87 Q1944.78 1520.38 1944.78 1523.06 Z\" fill=\"#000000\" fill-rule=\"evenodd\" fill-opacity=\"1\" /><polyline clip-path=\"url(#clip052)\" style=\"stroke:#000000; stroke-linecap:round; stroke-linejoin:round; stroke-width:2; stroke-opacity:0.1; fill:none\" points=\"156.112,1445.72 2352.76,1445.72 \"/>\n",
       "<polyline clip-path=\"url(#clip052)\" style=\"stroke:#000000; stroke-linecap:round; stroke-linejoin:round; stroke-width:2; stroke-opacity:0.1; fill:none\" points=\"156.112,1106.28 2352.76,1106.28 \"/>\n",
       "<polyline clip-path=\"url(#clip052)\" style=\"stroke:#000000; stroke-linecap:round; stroke-linejoin:round; stroke-width:2; stroke-opacity:0.1; fill:none\" points=\"156.112,766.846 2352.76,766.846 \"/>\n",
       "<polyline clip-path=\"url(#clip052)\" style=\"stroke:#000000; stroke-linecap:round; stroke-linejoin:round; stroke-width:2; stroke-opacity:0.1; fill:none\" points=\"156.112,427.411 2352.76,427.411 \"/>\n",
       "<polyline clip-path=\"url(#clip052)\" style=\"stroke:#000000; stroke-linecap:round; stroke-linejoin:round; stroke-width:2; stroke-opacity:0.1; fill:none\" points=\"156.112,87.9763 2352.76,87.9763 \"/>\n",
       "<polyline clip-path=\"url(#clip050)\" style=\"stroke:#000000; stroke-linecap:round; stroke-linejoin:round; stroke-width:4; stroke-opacity:1; fill:none\" points=\"156.112,1486.45 156.112,47.2441 \"/>\n",
       "<polyline clip-path=\"url(#clip050)\" style=\"stroke:#000000; stroke-linecap:round; stroke-linejoin:round; stroke-width:4; stroke-opacity:1; fill:none\" points=\"156.112,1445.72 175.01,1445.72 \"/>\n",
       "<polyline clip-path=\"url(#clip050)\" style=\"stroke:#000000; stroke-linecap:round; stroke-linejoin:round; stroke-width:4; stroke-opacity:1; fill:none\" points=\"156.112,1106.28 175.01,1106.28 \"/>\n",
       "<polyline clip-path=\"url(#clip050)\" style=\"stroke:#000000; stroke-linecap:round; stroke-linejoin:round; stroke-width:4; stroke-opacity:1; fill:none\" points=\"156.112,766.846 175.01,766.846 \"/>\n",
       "<polyline clip-path=\"url(#clip050)\" style=\"stroke:#000000; stroke-linecap:round; stroke-linejoin:round; stroke-width:4; stroke-opacity:1; fill:none\" points=\"156.112,427.411 175.01,427.411 \"/>\n",
       "<polyline clip-path=\"url(#clip050)\" style=\"stroke:#000000; stroke-linecap:round; stroke-linejoin:round; stroke-width:4; stroke-opacity:1; fill:none\" points=\"156.112,87.9763 175.01,87.9763 \"/>\n",
       "<path clip-path=\"url(#clip050)\" d=\"M62.9365 1431.51 Q59.3254 1431.51 57.4967 1435.08 Q55.6912 1438.62 55.6912 1445.75 Q55.6912 1452.86 57.4967 1456.42 Q59.3254 1459.96 62.9365 1459.96 Q66.5707 1459.96 68.3763 1456.42 Q70.205 1452.86 70.205 1445.75 Q70.205 1438.62 68.3763 1435.08 Q66.5707 1431.51 62.9365 1431.51 M62.9365 1427.81 Q68.7467 1427.81 71.8022 1432.42 Q74.8809 1437 74.8809 1445.75 Q74.8809 1454.48 71.8022 1459.08 Q68.7467 1463.67 62.9365 1463.67 Q57.1264 1463.67 54.0477 1459.08 Q50.9921 1454.48 50.9921 1445.75 Q50.9921 1437 54.0477 1432.42 Q57.1264 1427.81 62.9365 1427.81 Z\" fill=\"#000000\" fill-rule=\"evenodd\" fill-opacity=\"1\" /><path clip-path=\"url(#clip050)\" d=\"M83.0984 1457.12 L87.9827 1457.12 L87.9827 1463 L83.0984 1463 L83.0984 1457.12 Z\" fill=\"#000000\" fill-rule=\"evenodd\" fill-opacity=\"1\" /><path clip-path=\"url(#clip050)\" d=\"M108.168 1431.51 Q104.557 1431.51 102.728 1435.08 Q100.922 1438.62 100.922 1445.75 Q100.922 1452.86 102.728 1456.42 Q104.557 1459.96 108.168 1459.96 Q111.802 1459.96 113.608 1456.42 Q115.436 1452.86 115.436 1445.75 Q115.436 1438.62 113.608 1435.08 Q111.802 1431.51 108.168 1431.51 M108.168 1427.81 Q113.978 1427.81 117.033 1432.42 Q120.112 1437 120.112 1445.75 Q120.112 1454.48 117.033 1459.08 Q113.978 1463.67 108.168 1463.67 Q102.358 1463.67 99.2789 1459.08 Q96.2234 1454.48 96.2234 1445.75 Q96.2234 1437 99.2789 1432.42 Q102.358 1427.81 108.168 1427.81 Z\" fill=\"#000000\" fill-rule=\"evenodd\" fill-opacity=\"1\" /><path clip-path=\"url(#clip050)\" d=\"M63.9319 1092.08 Q60.3208 1092.08 58.4921 1095.64 Q56.6865 1099.19 56.6865 1106.32 Q56.6865 1113.42 58.4921 1116.99 Q60.3208 1120.53 63.9319 1120.53 Q67.5661 1120.53 69.3717 1116.99 Q71.2004 1113.42 71.2004 1106.32 Q71.2004 1099.19 69.3717 1095.64 Q67.5661 1092.08 63.9319 1092.08 M63.9319 1088.38 Q69.742 1088.38 72.7976 1092.98 Q75.8763 1097.57 75.8763 1106.32 Q75.8763 1115.04 72.7976 1119.65 Q69.742 1124.23 63.9319 1124.23 Q58.1217 1124.23 55.043 1119.65 Q51.9875 1115.04 51.9875 1106.32 Q51.9875 1097.57 55.043 1092.98 Q58.1217 1088.38 63.9319 1088.38 Z\" fill=\"#000000\" fill-rule=\"evenodd\" fill-opacity=\"1\" /><path clip-path=\"url(#clip050)\" d=\"M84.0938 1117.68 L88.978 1117.68 L88.978 1123.56 L84.0938 1123.56 L84.0938 1117.68 Z\" fill=\"#000000\" fill-rule=\"evenodd\" fill-opacity=\"1\" /><path clip-path=\"url(#clip050)\" d=\"M99.2095 1089 L117.566 1089 L117.566 1092.94 L103.492 1092.94 L103.492 1101.41 Q104.51 1101.06 105.529 1100.9 Q106.547 1100.71 107.566 1100.71 Q113.353 1100.71 116.733 1103.89 Q120.112 1107.06 120.112 1112.47 Q120.112 1118.05 116.64 1121.15 Q113.168 1124.23 106.848 1124.23 Q104.672 1124.23 102.404 1123.86 Q100.159 1123.49 97.7511 1122.75 L97.7511 1118.05 Q99.8345 1119.19 102.057 1119.74 Q104.279 1120.3 106.756 1120.3 Q110.76 1120.3 113.098 1118.19 Q115.436 1116.08 115.436 1112.47 Q115.436 1108.86 113.098 1106.76 Q110.76 1104.65 106.756 1104.65 Q104.881 1104.65 103.006 1105.07 Q101.154 1105.48 99.2095 1106.36 L99.2095 1089 Z\" fill=\"#000000\" fill-rule=\"evenodd\" fill-opacity=\"1\" /><path clip-path=\"url(#clip050)\" d=\"M53.7467 780.191 L61.3856 780.191 L61.3856 753.825 L53.0754 755.492 L53.0754 751.233 L61.3393 749.566 L66.0152 749.566 L66.0152 780.191 L73.654 780.191 L73.654 784.126 L53.7467 784.126 L53.7467 780.191 Z\" fill=\"#000000\" fill-rule=\"evenodd\" fill-opacity=\"1\" /><path clip-path=\"url(#clip050)\" d=\"M83.0984 778.246 L87.9827 778.246 L87.9827 784.126 L83.0984 784.126 L83.0984 778.246 Z\" fill=\"#000000\" fill-rule=\"evenodd\" fill-opacity=\"1\" /><path clip-path=\"url(#clip050)\" d=\"M108.168 752.645 Q104.557 752.645 102.728 756.209 Q100.922 759.751 100.922 766.881 Q100.922 773.987 102.728 777.552 Q104.557 781.094 108.168 781.094 Q111.802 781.094 113.608 777.552 Q115.436 773.987 115.436 766.881 Q115.436 759.751 113.608 756.209 Q111.802 752.645 108.168 752.645 M108.168 748.941 Q113.978 748.941 117.033 753.547 Q120.112 758.131 120.112 766.881 Q120.112 775.608 117.033 780.214 Q113.978 784.797 108.168 784.797 Q102.358 784.797 99.2789 780.214 Q96.2234 775.608 96.2234 766.881 Q96.2234 758.131 99.2789 753.547 Q102.358 748.941 108.168 748.941 Z\" fill=\"#000000\" fill-rule=\"evenodd\" fill-opacity=\"1\" /><path clip-path=\"url(#clip050)\" d=\"M54.7421 440.756 L62.381 440.756 L62.381 414.39 L54.0708 416.057 L54.0708 411.798 L62.3347 410.131 L67.0106 410.131 L67.0106 440.756 L74.6494 440.756 L74.6494 444.691 L54.7421 444.691 L54.7421 440.756 Z\" fill=\"#000000\" fill-rule=\"evenodd\" fill-opacity=\"1\" /><path clip-path=\"url(#clip050)\" d=\"M84.0938 438.812 L88.978 438.812 L88.978 444.691 L84.0938 444.691 L84.0938 438.812 Z\" fill=\"#000000\" fill-rule=\"evenodd\" fill-opacity=\"1\" /><path clip-path=\"url(#clip050)\" d=\"M99.2095 410.131 L117.566 410.131 L117.566 414.066 L103.492 414.066 L103.492 422.538 Q104.51 422.191 105.529 422.029 Q106.547 421.844 107.566 421.844 Q113.353 421.844 116.733 425.015 Q120.112 428.187 120.112 433.603 Q120.112 439.182 116.64 442.284 Q113.168 445.362 106.848 445.362 Q104.672 445.362 102.404 444.992 Q100.159 444.622 97.7511 443.881 L97.7511 439.182 Q99.8345 440.316 102.057 440.872 Q104.279 441.427 106.756 441.427 Q110.76 441.427 113.098 439.321 Q115.436 437.214 115.436 433.603 Q115.436 429.992 113.098 427.886 Q110.76 425.779 106.756 425.779 Q104.881 425.779 103.006 426.196 Q101.154 426.613 99.2095 427.492 L99.2095 410.131 Z\" fill=\"#000000\" fill-rule=\"evenodd\" fill-opacity=\"1\" /><path clip-path=\"url(#clip050)\" d=\"M56.9643 101.321 L73.2837 101.321 L73.2837 105.256 L51.3393 105.256 L51.3393 101.321 Q54.0014 98.5665 58.5847 93.9369 Q63.1911 89.2841 64.3717 87.9416 Q66.617 85.4184 67.4967 83.6823 Q68.3994 81.9231 68.3994 80.2333 Q68.3994 77.4786 66.455 75.7425 Q64.5337 74.0064 61.4319 74.0064 Q59.2328 74.0064 56.7791 74.7703 Q54.3486 75.5342 51.5708 77.0851 L51.5708 72.3629 Q54.3949 71.2287 56.8486 70.65 Q59.3023 70.0713 61.3393 70.0713 Q66.7096 70.0713 69.9041 72.7565 Q73.0985 75.4416 73.0985 79.9323 Q73.0985 82.062 72.2883 83.9832 Q71.5013 85.8814 69.3948 88.474 Q68.8161 89.1453 65.7143 92.3628 Q62.6124 95.5573 56.9643 101.321 Z\" fill=\"#000000\" fill-rule=\"evenodd\" fill-opacity=\"1\" /><path clip-path=\"url(#clip050)\" d=\"M83.0984 99.3767 L87.9827 99.3767 L87.9827 105.256 L83.0984 105.256 L83.0984 99.3767 Z\" fill=\"#000000\" fill-rule=\"evenodd\" fill-opacity=\"1\" /><path clip-path=\"url(#clip050)\" d=\"M108.168 73.775 Q104.557 73.775 102.728 77.3398 Q100.922 80.8814 100.922 88.011 Q100.922 95.1174 102.728 98.6822 Q104.557 102.224 108.168 102.224 Q111.802 102.224 113.608 98.6822 Q115.436 95.1174 115.436 88.011 Q115.436 80.8814 113.608 77.3398 Q111.802 73.775 108.168 73.775 M108.168 70.0713 Q113.978 70.0713 117.033 74.6777 Q120.112 79.261 120.112 88.011 Q120.112 96.7378 117.033 101.344 Q113.978 105.928 108.168 105.928 Q102.358 105.928 99.2789 101.344 Q96.2234 96.7378 96.2234 88.011 Q96.2234 79.261 99.2789 74.6777 Q102.358 70.0713 108.168 70.0713 Z\" fill=\"#000000\" fill-rule=\"evenodd\" fill-opacity=\"1\" /><circle clip-path=\"url(#clip052)\" cx=\"255.148\" cy=\"217.629\" r=\"14.4\" fill=\"#009af9\" fill-rule=\"evenodd\" fill-opacity=\"1\" stroke=\"#000000\" stroke-opacity=\"1\" stroke-width=\"3.2\"/>\n",
       "<circle clip-path=\"url(#clip052)\" cx=\"453.544\" cy=\"205.366\" r=\"14.4\" fill=\"#009af9\" fill-rule=\"evenodd\" fill-opacity=\"1\" stroke=\"#000000\" stroke-opacity=\"1\" stroke-width=\"3.2\"/>\n",
       "<circle clip-path=\"url(#clip052)\" cx=\"642.975\" cy=\"193.657\" r=\"14.4\" fill=\"#009af9\" fill-rule=\"evenodd\" fill-opacity=\"1\" stroke=\"#000000\" stroke-opacity=\"1\" stroke-width=\"3.2\"/>\n",
       "<circle clip-path=\"url(#clip052)\" cx=\"823.255\" cy=\"182.514\" r=\"14.4\" fill=\"#009af9\" fill-rule=\"evenodd\" fill-opacity=\"1\" stroke=\"#000000\" stroke-opacity=\"1\" stroke-width=\"3.2\"/>\n",
       "<circle clip-path=\"url(#clip052)\" cx=\"994.205\" cy=\"171.948\" r=\"14.4\" fill=\"#009af9\" fill-rule=\"evenodd\" fill-opacity=\"1\" stroke=\"#000000\" stroke-opacity=\"1\" stroke-width=\"3.2\"/>\n",
       "<circle clip-path=\"url(#clip052)\" cx=\"1155.66\" cy=\"161.969\" r=\"14.4\" fill=\"#009af9\" fill-rule=\"evenodd\" fill-opacity=\"1\" stroke=\"#000000\" stroke-opacity=\"1\" stroke-width=\"3.2\"/>\n",
       "<circle clip-path=\"url(#clip052)\" cx=\"1307.45\" cy=\"152.586\" r=\"14.4\" fill=\"#009af9\" fill-rule=\"evenodd\" fill-opacity=\"1\" stroke=\"#000000\" stroke-opacity=\"1\" stroke-width=\"3.2\"/>\n",
       "<circle clip-path=\"url(#clip052)\" cx=\"1449.44\" cy=\"143.81\" r=\"14.4\" fill=\"#009af9\" fill-rule=\"evenodd\" fill-opacity=\"1\" stroke=\"#000000\" stroke-opacity=\"1\" stroke-width=\"3.2\"/>\n",
       "<circle clip-path=\"url(#clip052)\" cx=\"1581.48\" cy=\"135.649\" r=\"14.4\" fill=\"#009af9\" fill-rule=\"evenodd\" fill-opacity=\"1\" stroke=\"#000000\" stroke-opacity=\"1\" stroke-width=\"3.2\"/>\n",
       "<circle clip-path=\"url(#clip052)\" cx=\"1703.44\" cy=\"128.111\" r=\"14.4\" fill=\"#009af9\" fill-rule=\"evenodd\" fill-opacity=\"1\" stroke=\"#000000\" stroke-opacity=\"1\" stroke-width=\"3.2\"/>\n",
       "<circle clip-path=\"url(#clip052)\" cx=\"1815.2\" cy=\"121.203\" r=\"14.4\" fill=\"#009af9\" fill-rule=\"evenodd\" fill-opacity=\"1\" stroke=\"#000000\" stroke-opacity=\"1\" stroke-width=\"3.2\"/>\n",
       "<circle clip-path=\"url(#clip052)\" cx=\"1916.65\" cy=\"114.932\" r=\"14.4\" fill=\"#009af9\" fill-rule=\"evenodd\" fill-opacity=\"1\" stroke=\"#000000\" stroke-opacity=\"1\" stroke-width=\"3.2\"/>\n",
       "<circle clip-path=\"url(#clip052)\" cx=\"2007.7\" cy=\"109.304\" r=\"14.4\" fill=\"#009af9\" fill-rule=\"evenodd\" fill-opacity=\"1\" stroke=\"#000000\" stroke-opacity=\"1\" stroke-width=\"3.2\"/>\n",
       "<circle clip-path=\"url(#clip052)\" cx=\"2088.24\" cy=\"104.326\" r=\"14.4\" fill=\"#009af9\" fill-rule=\"evenodd\" fill-opacity=\"1\" stroke=\"#000000\" stroke-opacity=\"1\" stroke-width=\"3.2\"/>\n",
       "<circle clip-path=\"url(#clip052)\" cx=\"2158.21\" cy=\"100.001\" r=\"14.4\" fill=\"#009af9\" fill-rule=\"evenodd\" fill-opacity=\"1\" stroke=\"#000000\" stroke-opacity=\"1\" stroke-width=\"3.2\"/>\n",
       "<circle clip-path=\"url(#clip052)\" cx=\"2217.53\" cy=\"96.3343\" r=\"14.4\" fill=\"#009af9\" fill-rule=\"evenodd\" fill-opacity=\"1\" stroke=\"#000000\" stroke-opacity=\"1\" stroke-width=\"3.2\"/>\n",
       "<circle clip-path=\"url(#clip052)\" cx=\"2266.15\" cy=\"93.3294\" r=\"14.4\" fill=\"#009af9\" fill-rule=\"evenodd\" fill-opacity=\"1\" stroke=\"#000000\" stroke-opacity=\"1\" stroke-width=\"3.2\"/>\n",
       "<circle clip-path=\"url(#clip052)\" cx=\"2304.01\" cy=\"90.9891\" r=\"14.4\" fill=\"#009af9\" fill-rule=\"evenodd\" fill-opacity=\"1\" stroke=\"#000000\" stroke-opacity=\"1\" stroke-width=\"3.2\"/>\n",
       "<circle clip-path=\"url(#clip052)\" cx=\"2331.08\" cy=\"89.3159\" r=\"14.4\" fill=\"#009af9\" fill-rule=\"evenodd\" fill-opacity=\"1\" stroke=\"#000000\" stroke-opacity=\"1\" stroke-width=\"3.2\"/>\n",
       "<circle clip-path=\"url(#clip052)\" cx=\"2347.34\" cy=\"88.3113\" r=\"14.4\" fill=\"#009af9\" fill-rule=\"evenodd\" fill-opacity=\"1\" stroke=\"#000000\" stroke-opacity=\"1\" stroke-width=\"3.2\"/>\n",
       "<circle clip-path=\"url(#clip052)\" cx=\"2352.76\" cy=\"87.9763\" r=\"14.4\" fill=\"#009af9\" fill-rule=\"evenodd\" fill-opacity=\"1\" stroke=\"#000000\" stroke-opacity=\"1\" stroke-width=\"3.2\"/>\n",
       "<path clip-path=\"url(#clip050)\" d=\"M2007.44 1438.47 L2279.53 1438.47 L2279.53 1334.79 L2007.44 1334.79  Z\" fill=\"#ffffff\" fill-rule=\"evenodd\" fill-opacity=\"1\"/>\n",
       "<polyline clip-path=\"url(#clip050)\" style=\"stroke:#000000; stroke-linecap:round; stroke-linejoin:round; stroke-width:4; stroke-opacity:1; fill:none\" points=\"2007.44,1438.47 2279.53,1438.47 2279.53,1334.79 2007.44,1334.79 2007.44,1438.47 \"/>\n",
       "<circle clip-path=\"url(#clip050)\" cx=\"2105.07\" cy=\"1386.63\" r=\"23.04\" fill=\"#009af9\" fill-rule=\"evenodd\" fill-opacity=\"1\" stroke=\"#000000\" stroke-opacity=\"1\" stroke-width=\"5.12\"/>\n",
       "<path clip-path=\"url(#clip050)\" d=\"M2216.54 1406.32 Q2214.73 1410.95 2213.02 1412.36 Q2211.31 1413.78 2208.44 1413.78 L2205.03 1413.78 L2205.03 1410.21 L2207.53 1410.21 Q2209.29 1410.21 2210.27 1409.38 Q2211.24 1408.54 2212.42 1405.44 L2213.18 1403.5 L2202.7 1377.99 L2207.21 1377.99 L2215.31 1398.27 L2223.41 1377.99 L2227.93 1377.99 L2216.54 1406.32 Z\" fill=\"#000000\" fill-rule=\"evenodd\" fill-opacity=\"1\" /><path clip-path=\"url(#clip050)\" d=\"M2235.22 1399.98 L2242.86 1399.98 L2242.86 1373.61 L2234.55 1375.28 L2234.55 1371.02 L2242.81 1369.35 L2247.49 1369.35 L2247.49 1399.98 L2255.13 1399.98 L2255.13 1403.91 L2235.22 1403.91 L2235.22 1399.98 Z\" fill=\"#000000\" fill-rule=\"evenodd\" fill-opacity=\"1\" /></svg>\n"
      ]
     },
     "execution_count": 272,
     "metadata": {},
     "output_type": "execute_result"
    }
   ],
   "source": [
    "\n",
    "#plot(x,y)\n",
    "\n",
    "scatter(xnew[4:L-3],auxnew[4:L-3],xlim=[0.9,1])\n",
    "\n",
    "#plot(x[4:L-3],aux[4:L-3])"
   ]
  },
  {
   "cell_type": "code",
   "execution_count": 164,
   "id": "d08f8450",
   "metadata": {
    "papermill": {
     "duration": null,
     "end_time": null,
     "exception": null,
     "start_time": null,
     "status": "pending"
    },
    "tags": []
   },
   "outputs": [
    {
     "data": {
      "text/plain": [
       "2.0000000000015"
      ]
     },
     "execution_count": 164,
     "metadata": {},
     "output_type": "execute_result"
    }
   ],
   "source": [
    "auxnew[L-3]"
   ]
  },
  {
   "cell_type": "code",
   "execution_count": null,
   "id": "3fd2297c",
   "metadata": {
    "papermill": {
     "duration": null,
     "end_time": null,
     "exception": null,
     "start_time": null,
     "status": "pending"
    },
    "tags": []
   },
   "outputs": [],
   "source": []
  },
  {
   "cell_type": "code",
   "execution_count": null,
   "id": "4677437a",
   "metadata": {
    "papermill": {
     "duration": null,
     "end_time": null,
     "exception": null,
     "start_time": null,
     "status": "pending"
    },
    "tags": []
   },
   "outputs": [],
   "source": []
  },
  {
   "cell_type": "code",
   "execution_count": null,
   "id": "4d7b2101",
   "metadata": {},
   "outputs": [],
   "source": []
  }
 ],
 "metadata": {
  "@webio": {
   "lastCommId": null,
   "lastKernelId": null
  },
  "kernelspec": {
   "display_name": "Julia 1.8.0",
   "language": "julia",
   "name": "julia-1.8"
  },
  "language_info": {
   "file_extension": ".jl",
   "mimetype": "application/julia",
   "name": "julia",
   "version": "1.8.0"
  },
  "papermill": {
   "default_parameters": {},
   "duration": 2464.038479,
   "end_time": "2023-06-26T00:23:52.938089",
   "environment_variables": {},
   "exception": true,
   "input_path": "Evolution_ScalarField.ipynb",
   "output_path": "Evolution_ScalarField.ipynb",
   "parameters": {
    "A": 0.01,
    "m": 1
   },
   "start_time": "2023-06-25T23:42:48.899610",
   "version": "2.4.0"
  }
 },
 "nbformat": 4,
 "nbformat_minor": 5
}
