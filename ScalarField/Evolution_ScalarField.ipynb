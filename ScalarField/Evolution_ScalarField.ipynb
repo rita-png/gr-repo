{
 "cells": [
  {
   "cell_type": "markdown",
   "id": "d88601a8",
   "metadata": {
    "papermill": {
     "duration": 0.010813,
     "end_time": "2023-03-28T18:06:09.878411",
     "exception": false,
     "start_time": "2023-03-28T18:06:09.867598",
     "status": "completed"
    },
    "tags": []
   },
   "source": [
    "# Evolution of Einstein's equations"
   ]
  },
  {
   "cell_type": "markdown",
   "id": "03c607c7",
   "metadata": {
    "papermill": {
     "duration": 0.006777,
     "end_time": "2023-03-28T18:06:09.893152",
     "exception": false,
     "start_time": "2023-03-28T18:06:09.886375",
     "status": "completed"
    },
    "tags": []
   },
   "source": [
    "# Initial data , setting length of the domain and discretization\n"
   ]
  },
  {
   "cell_type": "code",
   "execution_count": 746,
   "id": "f362b590",
   "metadata": {
    "execution": {
     "iopub.execute_input": "2023-03-28T19:06:10.907000Z",
     "iopub.status.busy": "2023-03-28T19:06:09.907000Z",
     "iopub.status.idle": "2023-03-28T19:06:12.147000Z",
     "shell.execute_reply": "2023-03-28T19:06:12.110000Z"
    },
    "papermill": {
     "duration": 2.251282,
     "end_time": "2023-03-28T18:06:12.151193",
     "exception": false,
     "start_time": "2023-03-28T18:06:09.899911",
     "status": "completed"
    },
    "tags": [
     "injected-parameters"
    ]
   },
   "outputs": [
    {
     "data": {
      "text/plain": [
       "1"
      ]
     },
     "execution_count": 746,
     "metadata": {},
     "output_type": "execute_result"
    }
   ],
   "source": [
    "# Parameters\n",
    "m = 3\n",
    "A = 0.001#0.05#0.049375#0.07#0.05#0.1124921875#0.125\n",
    "run = 1"
   ]
  },
  {
   "cell_type": "code",
   "execution_count": 747,
   "id": "80a113e0",
   "metadata": {},
   "outputs": [
    {
     "name": "stdout",
     "output_type": "stream",
     "text": [
      "1.0"
     ]
    }
   ],
   "source": [
    "res=m;\n",
    "N=2.0^m*500/5.0\n",
    "Xf=1.0;\n",
    "\n",
    "dx=Xf/N;\n",
    "dt=round(dx,digits=10);\n",
    "Nt=2.0^m*500.0/5.0\n",
    "Tf=Nt*dt; #final time\n",
    "print(Tf)"
   ]
  },
  {
   "cell_type": "code",
   "execution_count": 748,
   "id": "4f752d54",
   "metadata": {
    "execution": {
     "iopub.execute_input": "2023-03-28T19:06:12.356000Z",
     "iopub.status.busy": "2023-03-28T19:06:12.356000Z",
     "iopub.status.idle": "2023-03-28T19:06:12.364000Z",
     "shell.execute_reply": "2023-03-28T19:06:12.364000Z"
    },
    "papermill": {
     "duration": 0.020815,
     "end_time": "2023-03-28T18:06:12.368761",
     "exception": false,
     "start_time": "2023-03-28T18:06:12.347946",
     "status": "completed"
    },
    "tags": []
   },
   "outputs": [
    {
     "name": "stdout",
     "output_type": "stream",
     "text": [
      "800.0"
     ]
    }
   ],
   "source": [
    "print(N)"
   ]
  },
  {
   "cell_type": "code",
   "execution_count": 749,
   "id": "ad48576a",
   "metadata": {
    "execution": {
     "iopub.execute_input": "2023-03-28T19:06:12.386000Z",
     "iopub.status.busy": "2023-03-28T19:06:12.385000Z",
     "iopub.status.idle": "2023-03-28T19:06:12.398000Z",
     "shell.execute_reply": "2023-03-28T19:06:12.398000Z"
    },
    "papermill": {
     "duration": 0.024143,
     "end_time": "2023-03-28T18:06:12.402660",
     "exception": false,
     "start_time": "2023-03-28T18:06:12.378517",
     "status": "completed"
    },
    "tags": []
   },
   "outputs": [
    {
     "name": "stdout",
     "output_type": "stream",
     "text": [
      "dx =0.00125\n",
      "dt =0.00125\n",
      "dx/dt =1.0\n"
     ]
    }
   ],
   "source": [
    "println(\"dx =\", dx)\n",
    "println(\"dt =\", dt)\n",
    "println(\"dx/dt =\", dx/dt)"
   ]
  },
  {
   "cell_type": "code",
   "execution_count": 750,
   "id": "78fb78a5",
   "metadata": {
    "execution": {
     "iopub.execute_input": "2023-03-28T19:06:12.419000Z",
     "iopub.status.busy": "2023-03-28T19:06:12.419000Z",
     "iopub.status.idle": "2023-03-28T19:06:13.308000Z",
     "shell.execute_reply": "2023-03-28T19:06:13.308000Z"
    },
    "papermill": {
     "duration": 0.90283,
     "end_time": "2023-03-28T18:06:13.314381",
     "exception": false,
     "start_time": "2023-03-28T18:06:12.411551",
     "status": "completed"
    },
    "tags": []
   },
   "outputs": [
    {
     "data": {
      "text/plain": [
       "\"/home/rita13santos/Desktop/MSc Thesis/Git/ScalarField/DATA\""
      ]
     },
     "execution_count": 750,
     "metadata": {},
     "output_type": "execute_result"
    }
   ],
   "source": [
    "global dir = \"/home/rita13santos/Desktop/MSc Thesis/Git/ScalarField/DATA\"\n",
    "#global dir = \"/home/rita13santos/Desktop/MSc Thesis/Git/ScalarField/DATA\""
   ]
  },
  {
   "cell_type": "markdown",
   "id": "e2dd4335",
   "metadata": {
    "papermill": {
     "duration": 0.007006,
     "end_time": "2023-03-28T18:06:13.351329",
     "exception": false,
     "start_time": "2023-03-28T18:06:13.344323",
     "status": "completed"
    },
    "tags": []
   },
   "source": [
    "# Grid"
   ]
  },
  {
   "cell_type": "code",
   "execution_count": 751,
   "id": "bc5288f8",
   "metadata": {
    "execution": {
     "iopub.execute_input": "2023-03-28T19:06:13.636000Z",
     "iopub.status.busy": "2023-03-28T19:06:13.636000Z",
     "iopub.status.idle": "2023-03-28T19:06:14.762000Z",
     "shell.execute_reply": "2023-03-28T19:06:14.762000Z"
    },
    "papermill": {
     "duration": 1.137394,
     "end_time": "2023-03-28T18:06:14.765909",
     "exception": false,
     "start_time": "2023-03-28T18:06:13.628515",
     "status": "completed"
    },
    "tags": []
   },
   "outputs": [],
   "source": [
    "include(\"./ScalarField.jl\");"
   ]
  },
  {
   "cell_type": "code",
   "execution_count": 752,
   "id": "de24fea3",
   "metadata": {
    "execution": {
     "iopub.execute_input": "2023-03-28T19:06:13.366000Z",
     "iopub.status.busy": "2023-03-28T19:06:13.366000Z",
     "iopub.status.idle": "2023-03-28T19:06:13.571000Z",
     "shell.execute_reply": "2023-03-28T19:06:13.571000Z"
    },
    "papermill": {
     "duration": 0.216104,
     "end_time": "2023-03-28T18:06:13.574666",
     "exception": false,
     "start_time": "2023-03-28T18:06:13.358562",
     "status": "completed"
    },
    "tags": []
   },
   "outputs": [
    {
     "name": "stdout",
     "output_type": "stream",
     "text": [
      "step size is  0.00125\n",
      "the time step is 0.00125\n"
     ]
    }
   ],
   "source": [
    "ori=0.0;\n",
    "initX1 = nothing\n",
    "N=int(N)\n",
    "initX1=range(ori, stop=Xf, step=dx);\n",
    "\n",
    "initX = range(round(ori-3.0*dx,digits=10), stop=Xf+3.0*dx, step=dx)\n",
    "\n",
    "L=length(initX);\n",
    "println(\"step size is  \", dx)\n",
    "println(\"the time step is \", dt)"
   ]
  },
  {
   "cell_type": "markdown",
   "id": "80ab1480",
   "metadata": {
    "papermill": {
     "duration": 0.007525,
     "end_time": "2023-03-28T18:06:14.783937",
     "exception": false,
     "start_time": "2023-03-28T18:06:14.776412",
     "status": "completed"
    },
    "tags": []
   },
   "source": [
    "# Initial data of m β Ψ and Ψ,x"
   ]
  },
  {
   "cell_type": "code",
   "execution_count": 753,
   "id": "7de83a9b",
   "metadata": {},
   "outputs": [],
   "source": [
    "if m==1\n",
    "    initX1=chebishev(int((L-6)))\n",
    "    L1=L;\n",
    "elseif m==2\n",
    "    initX1=doublegrid(chebishev(int((L1-6))))\n",
    "else\n",
    "    initX1=doublegrid(doublegrid(chebishev(int((L1-6)))))\n",
    "end\n",
    "initX=collect(initX)\n",
    "initX[4:L-3]=initX1;"
   ]
  },
  {
   "cell_type": "code",
   "execution_count": 754,
   "id": "d0af654c",
   "metadata": {
    "execution": {
     "iopub.execute_input": "2023-03-28T19:06:14.799000Z",
     "iopub.status.busy": "2023-03-28T19:06:14.799000Z",
     "iopub.status.idle": "2023-03-28T19:06:22.269000Z",
     "shell.execute_reply": "2023-03-28T19:06:22.269000Z"
    },
    "papermill": {
     "duration": 7.48258,
     "end_time": "2023-03-28T18:06:22.273970",
     "exception": false,
     "start_time": "2023-03-28T18:06:14.791390",
     "status": "completed"
    },
    "tags": []
   },
   "outputs": [],
   "source": [
    "using Dierckx\n",
    "\n",
    "####\n",
    "\n",
    "initm=zeros(L);\n",
    "initbeta=zeros(L);\n",
    "initpsi=zeros(L);\n",
    "initderpsi=zeros(L);\n",
    "\n",
    "state_array=[initm initbeta initpsi initderpsi initX];\n",
    "\n",
    "#PSI\n",
    "r0=0.01#0.7#0.3\n",
    "sigma=0.3\n",
    "initpsi[4:L-3] = init_gaussian(initX1,r0,sigma,A)\n",
    "\n",
    "state_array[:,3] = initpsi\n",
    "state_array = ghost(state_array)\n",
    "\n",
    "#PSI,X FROM PSI\n",
    "initderpsi[4:L-3] = init_gaussian_der(initX1,r0,sigma,A)\n",
    "state_array[:,4] = initderpsi\n",
    "state_array=ghost(state_array)\n",
    "\n",
    "####\n",
    "\n",
    "derpsi_func = Spline1D(initX[4:L-3], initderpsi[4:L-3],  k=4);"
   ]
  },
  {
   "cell_type": "code",
   "execution_count": 755,
   "id": "36d97305",
   "metadata": {},
   "outputs": [
    {
     "data": {
      "text/plain": [
       "\"aux=doublegrid(initX1)\\nderpsi_func(aux);\\n\\nusing Plots\\nplot(aux, derpsi_func(aux).-init_gaussian_der(aux,r0,sigma,A), xaxis=\\\"x\\\",title=\\\"Initial Data\\\", labels=[\\\"m\\\" \\\"beta\\\" \\\"psi\\\" \\\"psi,x\\\"])#, ylim=[0, 10^(-13)])\""
      ]
     },
     "execution_count": 755,
     "metadata": {},
     "output_type": "execute_result"
    }
   ],
   "source": [
    "\"\"\"aux=doublegrid(initX1)\n",
    "derpsi_func(aux);\n",
    "\n",
    "using Plots\n",
    "plot(aux, derpsi_func(aux).-init_gaussian_der(aux,r0,sigma,A), xaxis=\"x\",title=\"Initial Data\", labels=[\"m\" \"beta\" \"psi\" \"psi,x\"])#, ylim=[0, 10^(-13)])\"\"\""
   ]
  },
  {
   "cell_type": "code",
   "execution_count": 756,
   "id": "3bc80b6d",
   "metadata": {},
   "outputs": [
    {
     "data": {
      "text/plain": [
       "\"x1=aux\\ny1=derpsi_func(aux).-init_gaussian_der(aux,r0,sigma,A)\""
      ]
     },
     "execution_count": 756,
     "metadata": {},
     "output_type": "execute_result"
    }
   ],
   "source": [
    "\"\"\"x1=aux\n",
    "y1=derpsi_func(aux).-init_gaussian_der(aux,r0,sigma,A)\"\"\""
   ]
  },
  {
   "cell_type": "code",
   "execution_count": 757,
   "id": "06d94bee",
   "metadata": {},
   "outputs": [
    {
     "data": {
      "text/plain": [
       "\"x2=aux\\ny2=derpsi_func(aux).-init_gaussian_der(aux,r0,sigma,A)\""
      ]
     },
     "execution_count": 757,
     "metadata": {},
     "output_type": "execute_result"
    }
   ],
   "source": [
    "\"\"\"x2=aux\n",
    "y2=derpsi_func(aux).-init_gaussian_der(aux,r0,sigma,A)\"\"\""
   ]
  },
  {
   "cell_type": "code",
   "execution_count": 758,
   "id": "82e683a7",
   "metadata": {},
   "outputs": [
    {
     "data": {
      "text/plain": [
       "\"\\ndouble_resolution=y2\\nbasis_resolution=y1\\nxs = ( x1, x2 )\\nys = ( basis_resolution, double_resolution*16*4 )\\np = plot()\\nmap(x->plot!(x[1],x[2],xaxis=\\\"x\\\",title=\\\"Interpolation error\\\", legend=false), zip(xs, ys))\\ndisplay(p)\\n     \\n\""
      ]
     },
     "execution_count": 758,
     "metadata": {},
     "output_type": "execute_result"
    }
   ],
   "source": [
    "\"\"\"\n",
    "\n",
    "double_resolution=y2\n",
    "basis_resolution=y1\n",
    "xs = ( x1, x2 )\n",
    "ys = ( basis_resolution, double_resolution*16*4 )\n",
    "p = plot()\n",
    "map(x->plot!(x[1],x[2],xaxis=\"x\",title=\"Interpolation error\", legend=false), zip(xs, ys))\n",
    "display(p)\n",
    "     \n",
    "\"\"\""
   ]
  },
  {
   "cell_type": "code",
   "execution_count": 759,
   "id": "384597fa",
   "metadata": {
    "execution": {
     "iopub.execute_input": "2023-03-28T19:06:22.817000Z",
     "iopub.status.busy": "2023-03-28T19:06:22.325000Z",
     "iopub.status.idle": "2023-03-28T19:06:25.288000Z",
     "shell.execute_reply": "2023-03-28T19:06:25.288000Z"
    },
    "papermill": {
     "duration": 2.998847,
     "end_time": "2023-03-28T18:06:25.292099",
     "exception": false,
     "start_time": "2023-03-28T18:06:22.293252",
     "status": "completed"
    },
    "tags": []
   },
   "outputs": [],
   "source": [
    "y0=[0 0 0]\n",
    "state_array[4:L-3,1:3] = n_rk4wrapper(RHS,y0,initX[4:L-3],0,derpsi_func,state_array[:,:])\n",
    "\n",
    "\"\"\"y0=[0]\n",
    "state_array[4:L-3,3] = n_rk4wrapper(psi_RHS,y0,initX[4:L-3],0,derpsi_func,state_array[4:L-3,:])\n",
    "\"\"\"\n",
    "state_array = ghost(state_array);"
   ]
  },
  {
   "cell_type": "code",
   "execution_count": 760,
   "id": "48f10a76",
   "metadata": {
    "execution": {
     "iopub.execute_input": "2023-03-28T19:06:25.312000Z",
     "iopub.status.busy": "2023-03-28T19:06:25.312000Z",
     "iopub.status.idle": "2023-03-28T19:06:25.348000Z",
     "shell.execute_reply": "2023-03-28T19:06:25.347000Z"
    },
    "papermill": {
     "duration": 0.048534,
     "end_time": "2023-03-28T18:06:25.352888",
     "exception": false,
     "start_time": "2023-03-28T18:06:25.304354",
     "status": "completed"
    },
    "tags": []
   },
   "outputs": [
    {
     "data": {
      "image/svg+xml": [
       "<?xml version=\"1.0\" encoding=\"utf-8\"?>\n",
       "<svg xmlns=\"http://www.w3.org/2000/svg\" xmlns:xlink=\"http://www.w3.org/1999/xlink\" width=\"600\" height=\"400\" viewBox=\"0 0 2400 1600\">\n",
       "<defs>\n",
       "  <clipPath id=\"clip830\">\n",
       "    <rect x=\"0\" y=\"0\" width=\"2400\" height=\"1600\"/>\n",
       "  </clipPath>\n",
       "</defs>\n",
       "<path clip-path=\"url(#clip830)\" d=\"M0 1600 L2400 1600 L2400 0 L0 0  Z\" fill=\"#ffffff\" fill-rule=\"evenodd\" fill-opacity=\"1\"/>\n",
       "<defs>\n",
       "  <clipPath id=\"clip831\">\n",
       "    <rect x=\"480\" y=\"0\" width=\"1681\" height=\"1600\"/>\n",
       "  </clipPath>\n",
       "</defs>\n",
       "<path clip-path=\"url(#clip830)\" d=\"M335.778 1423.18 L2352.76 1423.18 L2352.76 123.472 L335.778 123.472  Z\" fill=\"#ffffff\" fill-rule=\"evenodd\" fill-opacity=\"1\"/>\n",
       "<defs>\n",
       "  <clipPath id=\"clip832\">\n",
       "    <rect x=\"335\" y=\"123\" width=\"2018\" height=\"1301\"/>\n",
       "  </clipPath>\n",
       "</defs>\n",
       "<polyline clip-path=\"url(#clip832)\" style=\"stroke:#000000; stroke-linecap:round; stroke-linejoin:round; stroke-width:2; stroke-opacity:0.1; fill:none\" points=\"335.778,1423.18 335.778,123.472 \"/>\n",
       "<polyline clip-path=\"url(#clip832)\" style=\"stroke:#000000; stroke-linecap:round; stroke-linejoin:round; stroke-width:2; stroke-opacity:0.1; fill:none\" points=\"739.174,1423.18 739.174,123.472 \"/>\n",
       "<polyline clip-path=\"url(#clip832)\" style=\"stroke:#000000; stroke-linecap:round; stroke-linejoin:round; stroke-width:2; stroke-opacity:0.1; fill:none\" points=\"1142.57,1423.18 1142.57,123.472 \"/>\n",
       "<polyline clip-path=\"url(#clip832)\" style=\"stroke:#000000; stroke-linecap:round; stroke-linejoin:round; stroke-width:2; stroke-opacity:0.1; fill:none\" points=\"1545.96,1423.18 1545.96,123.472 \"/>\n",
       "<polyline clip-path=\"url(#clip832)\" style=\"stroke:#000000; stroke-linecap:round; stroke-linejoin:round; stroke-width:2; stroke-opacity:0.1; fill:none\" points=\"1949.36,1423.18 1949.36,123.472 \"/>\n",
       "<polyline clip-path=\"url(#clip832)\" style=\"stroke:#000000; stroke-linecap:round; stroke-linejoin:round; stroke-width:2; stroke-opacity:0.1; fill:none\" points=\"2352.76,1423.18 2352.76,123.472 \"/>\n",
       "<polyline clip-path=\"url(#clip830)\" style=\"stroke:#000000; stroke-linecap:round; stroke-linejoin:round; stroke-width:4; stroke-opacity:1; fill:none\" points=\"335.778,1423.18 2352.76,1423.18 \"/>\n",
       "<polyline clip-path=\"url(#clip830)\" style=\"stroke:#000000; stroke-linecap:round; stroke-linejoin:round; stroke-width:4; stroke-opacity:1; fill:none\" points=\"335.778,1423.18 335.778,1404.28 \"/>\n",
       "<polyline clip-path=\"url(#clip830)\" style=\"stroke:#000000; stroke-linecap:round; stroke-linejoin:round; stroke-width:4; stroke-opacity:1; fill:none\" points=\"739.174,1423.18 739.174,1404.28 \"/>\n",
       "<polyline clip-path=\"url(#clip830)\" style=\"stroke:#000000; stroke-linecap:round; stroke-linejoin:round; stroke-width:4; stroke-opacity:1; fill:none\" points=\"1142.57,1423.18 1142.57,1404.28 \"/>\n",
       "<polyline clip-path=\"url(#clip830)\" style=\"stroke:#000000; stroke-linecap:round; stroke-linejoin:round; stroke-width:4; stroke-opacity:1; fill:none\" points=\"1545.96,1423.18 1545.96,1404.28 \"/>\n",
       "<polyline clip-path=\"url(#clip830)\" style=\"stroke:#000000; stroke-linecap:round; stroke-linejoin:round; stroke-width:4; stroke-opacity:1; fill:none\" points=\"1949.36,1423.18 1949.36,1404.28 \"/>\n",
       "<polyline clip-path=\"url(#clip830)\" style=\"stroke:#000000; stroke-linecap:round; stroke-linejoin:round; stroke-width:4; stroke-opacity:1; fill:none\" points=\"2352.76,1423.18 2352.76,1404.28 \"/>\n",
       "<path clip-path=\"url(#clip830)\" d=\"M313.163 1454.1 Q309.552 1454.1 307.723 1457.66 Q305.917 1461.2 305.917 1468.33 Q305.917 1475.44 307.723 1479.01 Q309.552 1482.55 313.163 1482.55 Q316.797 1482.55 318.603 1479.01 Q320.431 1475.44 320.431 1468.33 Q320.431 1461.2 318.603 1457.66 Q316.797 1454.1 313.163 1454.1 M313.163 1450.39 Q318.973 1450.39 322.028 1455 Q325.107 1459.58 325.107 1468.33 Q325.107 1477.06 322.028 1481.67 Q318.973 1486.25 313.163 1486.25 Q307.353 1486.25 304.274 1481.67 Q301.218 1477.06 301.218 1468.33 Q301.218 1459.58 304.274 1455 Q307.353 1450.39 313.163 1450.39 Z\" fill=\"#000000\" fill-rule=\"evenodd\" fill-opacity=\"1\" /><path clip-path=\"url(#clip830)\" d=\"M333.325 1479.7 L338.209 1479.7 L338.209 1485.58 L333.325 1485.58 L333.325 1479.7 Z\" fill=\"#000000\" fill-rule=\"evenodd\" fill-opacity=\"1\" /><path clip-path=\"url(#clip830)\" d=\"M358.394 1454.1 Q354.783 1454.1 352.954 1457.66 Q351.149 1461.2 351.149 1468.33 Q351.149 1475.44 352.954 1479.01 Q354.783 1482.55 358.394 1482.55 Q362.028 1482.55 363.834 1479.01 Q365.663 1475.44 365.663 1468.33 Q365.663 1461.2 363.834 1457.66 Q362.028 1454.1 358.394 1454.1 M358.394 1450.39 Q364.204 1450.39 367.26 1455 Q370.338 1459.58 370.338 1468.33 Q370.338 1477.06 367.26 1481.67 Q364.204 1486.25 358.394 1486.25 Q352.584 1486.25 349.505 1481.67 Q346.45 1477.06 346.45 1468.33 Q346.45 1459.58 349.505 1455 Q352.584 1450.39 358.394 1450.39 Z\" fill=\"#000000\" fill-rule=\"evenodd\" fill-opacity=\"1\" /><path clip-path=\"url(#clip830)\" d=\"M717.357 1454.1 Q713.746 1454.1 711.917 1457.66 Q710.112 1461.2 710.112 1468.33 Q710.112 1475.44 711.917 1479.01 Q713.746 1482.55 717.357 1482.55 Q720.991 1482.55 722.797 1479.01 Q724.625 1475.44 724.625 1468.33 Q724.625 1461.2 722.797 1457.66 Q720.991 1454.1 717.357 1454.1 M717.357 1450.39 Q723.167 1450.39 726.223 1455 Q729.301 1459.58 729.301 1468.33 Q729.301 1477.06 726.223 1481.67 Q723.167 1486.25 717.357 1486.25 Q711.547 1486.25 708.468 1481.67 Q705.413 1477.06 705.413 1468.33 Q705.413 1459.58 708.468 1455 Q711.547 1450.39 717.357 1450.39 Z\" fill=\"#000000\" fill-rule=\"evenodd\" fill-opacity=\"1\" /><path clip-path=\"url(#clip830)\" d=\"M737.519 1479.7 L742.403 1479.7 L742.403 1485.58 L737.519 1485.58 L737.519 1479.7 Z\" fill=\"#000000\" fill-rule=\"evenodd\" fill-opacity=\"1\" /><path clip-path=\"url(#clip830)\" d=\"M756.616 1481.64 L772.935 1481.64 L772.935 1485.58 L750.991 1485.58 L750.991 1481.64 Q753.653 1478.89 758.236 1474.26 Q762.843 1469.61 764.023 1468.27 Q766.269 1465.74 767.148 1464.01 Q768.051 1462.25 768.051 1460.56 Q768.051 1457.8 766.107 1456.07 Q764.185 1454.33 761.084 1454.33 Q758.884 1454.33 756.431 1455.09 Q754 1455.86 751.222 1457.41 L751.222 1452.69 Q754.047 1451.55 756.5 1450.97 Q758.954 1450.39 760.991 1450.39 Q766.361 1450.39 769.556 1453.08 Q772.75 1455.77 772.75 1460.26 Q772.75 1462.39 771.94 1464.31 Q771.153 1466.2 769.046 1468.8 Q768.468 1469.47 765.366 1472.69 Q762.264 1475.88 756.616 1481.64 Z\" fill=\"#000000\" fill-rule=\"evenodd\" fill-opacity=\"1\" /><path clip-path=\"url(#clip830)\" d=\"M1119.71 1454.1 Q1116.1 1454.1 1114.27 1457.66 Q1112.47 1461.2 1112.47 1468.33 Q1112.47 1475.44 1114.27 1479.01 Q1116.1 1482.55 1119.71 1482.55 Q1123.34 1482.55 1125.15 1479.01 Q1126.98 1475.44 1126.98 1468.33 Q1126.98 1461.2 1125.15 1457.66 Q1123.34 1454.1 1119.71 1454.1 M1119.71 1450.39 Q1125.52 1450.39 1128.58 1455 Q1131.66 1459.58 1131.66 1468.33 Q1131.66 1477.06 1128.58 1481.67 Q1125.52 1486.25 1119.71 1486.25 Q1113.9 1486.25 1110.82 1481.67 Q1107.77 1477.06 1107.77 1468.33 Q1107.77 1459.58 1110.82 1455 Q1113.9 1450.39 1119.71 1450.39 Z\" fill=\"#000000\" fill-rule=\"evenodd\" fill-opacity=\"1\" /><path clip-path=\"url(#clip830)\" d=\"M1139.87 1479.7 L1144.76 1479.7 L1144.76 1485.58 L1139.87 1485.58 L1139.87 1479.7 Z\" fill=\"#000000\" fill-rule=\"evenodd\" fill-opacity=\"1\" /><path clip-path=\"url(#clip830)\" d=\"M1167.79 1455.09 L1155.98 1473.54 L1167.79 1473.54 L1167.79 1455.09 M1166.56 1451.02 L1172.44 1451.02 L1172.44 1473.54 L1177.37 1473.54 L1177.37 1477.43 L1172.44 1477.43 L1172.44 1485.58 L1167.79 1485.58 L1167.79 1477.43 L1152.19 1477.43 L1152.19 1472.92 L1166.56 1451.02 Z\" fill=\"#000000\" fill-rule=\"evenodd\" fill-opacity=\"1\" /><path clip-path=\"url(#clip830)\" d=\"M1523.27 1454.1 Q1519.66 1454.1 1517.83 1457.66 Q1516.02 1461.2 1516.02 1468.33 Q1516.02 1475.44 1517.83 1479.01 Q1519.66 1482.55 1523.27 1482.55 Q1526.9 1482.55 1528.71 1479.01 Q1530.54 1475.44 1530.54 1468.33 Q1530.54 1461.2 1528.71 1457.66 Q1526.9 1454.1 1523.27 1454.1 M1523.27 1450.39 Q1529.08 1450.39 1532.13 1455 Q1535.21 1459.58 1535.21 1468.33 Q1535.21 1477.06 1532.13 1481.67 Q1529.08 1486.25 1523.27 1486.25 Q1517.46 1486.25 1514.38 1481.67 Q1511.32 1477.06 1511.32 1468.33 Q1511.32 1459.58 1514.38 1455 Q1517.46 1450.39 1523.27 1450.39 Z\" fill=\"#000000\" fill-rule=\"evenodd\" fill-opacity=\"1\" /><path clip-path=\"url(#clip830)\" d=\"M1543.43 1479.7 L1548.31 1479.7 L1548.31 1485.58 L1543.43 1485.58 L1543.43 1479.7 Z\" fill=\"#000000\" fill-rule=\"evenodd\" fill-opacity=\"1\" /><path clip-path=\"url(#clip830)\" d=\"M1569.08 1466.44 Q1565.93 1466.44 1564.08 1468.59 Q1562.25 1470.74 1562.25 1474.49 Q1562.25 1478.22 1564.08 1480.39 Q1565.93 1482.55 1569.08 1482.55 Q1572.23 1482.55 1574.06 1480.39 Q1575.91 1478.22 1575.91 1474.49 Q1575.91 1470.74 1574.06 1468.59 Q1572.23 1466.44 1569.08 1466.44 M1578.36 1451.78 L1578.36 1456.04 Q1576.6 1455.21 1574.8 1454.77 Q1573.01 1454.33 1571.25 1454.33 Q1566.62 1454.33 1564.17 1457.45 Q1561.74 1460.58 1561.39 1466.9 Q1562.76 1464.89 1564.82 1463.82 Q1566.88 1462.73 1569.36 1462.73 Q1574.56 1462.73 1577.57 1465.9 Q1580.61 1469.05 1580.61 1474.49 Q1580.61 1479.82 1577.46 1483.03 Q1574.31 1486.25 1569.08 1486.25 Q1563.08 1486.25 1559.91 1481.67 Q1556.74 1477.06 1556.74 1468.33 Q1556.74 1460.14 1560.63 1455.28 Q1564.52 1450.39 1571.07 1450.39 Q1572.83 1450.39 1574.61 1450.74 Q1576.42 1451.09 1578.36 1451.78 Z\" fill=\"#000000\" fill-rule=\"evenodd\" fill-opacity=\"1\" /><path clip-path=\"url(#clip830)\" d=\"M1926.79 1454.1 Q1923.18 1454.1 1921.35 1457.66 Q1919.55 1461.2 1919.55 1468.33 Q1919.55 1475.44 1921.35 1479.01 Q1923.18 1482.55 1926.79 1482.55 Q1930.43 1482.55 1932.23 1479.01 Q1934.06 1475.44 1934.06 1468.33 Q1934.06 1461.2 1932.23 1457.66 Q1930.43 1454.1 1926.79 1454.1 M1926.79 1450.39 Q1932.6 1450.39 1935.66 1455 Q1938.74 1459.58 1938.74 1468.33 Q1938.74 1477.06 1935.66 1481.67 Q1932.6 1486.25 1926.79 1486.25 Q1920.98 1486.25 1917.9 1481.67 Q1914.85 1477.06 1914.85 1468.33 Q1914.85 1459.58 1917.9 1455 Q1920.98 1450.39 1926.79 1450.39 Z\" fill=\"#000000\" fill-rule=\"evenodd\" fill-opacity=\"1\" /><path clip-path=\"url(#clip830)\" d=\"M1946.95 1479.7 L1951.84 1479.7 L1951.84 1485.58 L1946.95 1485.58 L1946.95 1479.7 Z\" fill=\"#000000\" fill-rule=\"evenodd\" fill-opacity=\"1\" /><path clip-path=\"url(#clip830)\" d=\"M1972.02 1469.17 Q1968.69 1469.17 1966.77 1470.95 Q1964.87 1472.73 1964.87 1475.86 Q1964.87 1478.98 1966.77 1480.77 Q1968.69 1482.55 1972.02 1482.55 Q1975.36 1482.55 1977.28 1480.77 Q1979.2 1478.96 1979.2 1475.86 Q1979.2 1472.73 1977.28 1470.95 Q1975.38 1469.17 1972.02 1469.17 M1967.35 1467.18 Q1964.34 1466.44 1962.65 1464.38 Q1960.98 1462.32 1960.98 1459.35 Q1960.98 1455.21 1963.92 1452.8 Q1966.88 1450.39 1972.02 1450.39 Q1977.18 1450.39 1980.12 1452.8 Q1983.06 1455.21 1983.06 1459.35 Q1983.06 1462.32 1981.37 1464.38 Q1979.71 1466.44 1976.72 1467.18 Q1980.1 1467.96 1981.98 1470.26 Q1983.87 1472.55 1983.87 1475.86 Q1983.87 1480.88 1980.8 1483.57 Q1977.74 1486.25 1972.02 1486.25 Q1966.3 1486.25 1963.23 1483.57 Q1960.17 1480.88 1960.17 1475.86 Q1960.17 1472.55 1962.07 1470.26 Q1963.97 1467.96 1967.35 1467.18 M1965.63 1459.79 Q1965.63 1462.48 1967.3 1463.98 Q1968.99 1465.49 1972.02 1465.49 Q1975.03 1465.49 1976.72 1463.98 Q1978.43 1462.48 1978.43 1459.79 Q1978.43 1457.11 1976.72 1455.6 Q1975.03 1454.1 1972.02 1454.1 Q1968.99 1454.1 1967.3 1455.6 Q1965.63 1457.11 1965.63 1459.79 Z\" fill=\"#000000\" fill-rule=\"evenodd\" fill-opacity=\"1\" /><path clip-path=\"url(#clip830)\" d=\"M2319.91 1481.64 L2327.55 1481.64 L2327.55 1455.28 L2319.24 1456.95 L2319.24 1452.69 L2327.5 1451.02 L2332.18 1451.02 L2332.18 1481.64 L2339.82 1481.64 L2339.82 1485.58 L2319.91 1485.58 L2319.91 1481.64 Z\" fill=\"#000000\" fill-rule=\"evenodd\" fill-opacity=\"1\" /><path clip-path=\"url(#clip830)\" d=\"M2349.26 1479.7 L2354.14 1479.7 L2354.14 1485.58 L2349.26 1485.58 L2349.26 1479.7 Z\" fill=\"#000000\" fill-rule=\"evenodd\" fill-opacity=\"1\" /><path clip-path=\"url(#clip830)\" d=\"M2374.33 1454.1 Q2370.72 1454.1 2368.89 1457.66 Q2367.08 1461.2 2367.08 1468.33 Q2367.08 1475.44 2368.89 1479.01 Q2370.72 1482.55 2374.33 1482.55 Q2377.96 1482.55 2379.77 1479.01 Q2381.6 1475.44 2381.6 1468.33 Q2381.6 1461.2 2379.77 1457.66 Q2377.96 1454.1 2374.33 1454.1 M2374.33 1450.39 Q2380.14 1450.39 2383.2 1455 Q2386.27 1459.58 2386.27 1468.33 Q2386.27 1477.06 2383.2 1481.67 Q2380.14 1486.25 2374.33 1486.25 Q2368.52 1486.25 2365.44 1481.67 Q2362.39 1477.06 2362.39 1468.33 Q2362.39 1459.58 2365.44 1455 Q2368.52 1450.39 2374.33 1450.39 Z\" fill=\"#000000\" fill-rule=\"evenodd\" fill-opacity=\"1\" /><path clip-path=\"url(#clip830)\" d=\"M1360.88 1532.4 L1347.99 1549.74 L1361.55 1568.04 L1354.64 1568.04 L1344.27 1554.04 L1333.89 1568.04 L1326.98 1568.04 L1340.83 1549.39 L1328.16 1532.4 L1335.07 1532.4 L1344.52 1545.1 L1353.97 1532.4 L1360.88 1532.4 Z\" fill=\"#000000\" fill-rule=\"evenodd\" fill-opacity=\"1\" /><polyline clip-path=\"url(#clip832)\" style=\"stroke:#000000; stroke-linecap:round; stroke-linejoin:round; stroke-width:2; stroke-opacity:0.1; fill:none\" points=\"335.778,1386.4 2352.76,1386.4 \"/>\n",
       "<polyline clip-path=\"url(#clip832)\" style=\"stroke:#000000; stroke-linecap:round; stroke-linejoin:round; stroke-width:2; stroke-opacity:0.1; fill:none\" points=\"335.778,967.482 2352.76,967.482 \"/>\n",
       "<polyline clip-path=\"url(#clip832)\" style=\"stroke:#000000; stroke-linecap:round; stroke-linejoin:round; stroke-width:2; stroke-opacity:0.1; fill:none\" points=\"335.778,548.569 2352.76,548.569 \"/>\n",
       "<polyline clip-path=\"url(#clip832)\" style=\"stroke:#000000; stroke-linecap:round; stroke-linejoin:round; stroke-width:2; stroke-opacity:0.1; fill:none\" points=\"335.778,129.655 2352.76,129.655 \"/>\n",
       "<polyline clip-path=\"url(#clip830)\" style=\"stroke:#000000; stroke-linecap:round; stroke-linejoin:round; stroke-width:4; stroke-opacity:1; fill:none\" points=\"335.778,1423.18 335.778,123.472 \"/>\n",
       "<polyline clip-path=\"url(#clip830)\" style=\"stroke:#000000; stroke-linecap:round; stroke-linejoin:round; stroke-width:4; stroke-opacity:1; fill:none\" points=\"335.778,1386.4 354.676,1386.4 \"/>\n",
       "<polyline clip-path=\"url(#clip830)\" style=\"stroke:#000000; stroke-linecap:round; stroke-linejoin:round; stroke-width:4; stroke-opacity:1; fill:none\" points=\"335.778,967.482 354.676,967.482 \"/>\n",
       "<polyline clip-path=\"url(#clip830)\" style=\"stroke:#000000; stroke-linecap:round; stroke-linejoin:round; stroke-width:4; stroke-opacity:1; fill:none\" points=\"335.778,548.569 354.676,548.569 \"/>\n",
       "<polyline clip-path=\"url(#clip830)\" style=\"stroke:#000000; stroke-linecap:round; stroke-linejoin:round; stroke-width:4; stroke-opacity:1; fill:none\" points=\"335.778,129.655 354.676,129.655 \"/>\n",
       "<path clip-path=\"url(#clip830)\" d=\"M287.834 1372.19 Q284.223 1372.19 282.394 1375.76 Q280.589 1379.3 280.589 1386.43 Q280.589 1393.54 282.394 1397.1 Q284.223 1400.64 287.834 1400.64 Q291.468 1400.64 293.274 1397.1 Q295.103 1393.54 295.103 1386.43 Q295.103 1379.3 293.274 1375.76 Q291.468 1372.19 287.834 1372.19 M287.834 1368.49 Q293.644 1368.49 296.7 1373.1 Q299.778 1377.68 299.778 1386.43 Q299.778 1395.16 296.7 1399.76 Q293.644 1404.35 287.834 1404.35 Q282.024 1404.35 278.945 1399.76 Q275.89 1395.16 275.89 1386.43 Q275.89 1377.68 278.945 1373.1 Q282.024 1368.49 287.834 1368.49 Z\" fill=\"#000000\" fill-rule=\"evenodd\" fill-opacity=\"1\" /><path clip-path=\"url(#clip830)\" d=\"M52.4505 956.65 L70.8068 956.65 L70.8068 960.585 L56.7328 960.585 L56.7328 969.057 Q57.7513 968.71 58.7699 968.548 Q59.7884 968.363 60.8069 968.363 Q66.5939 968.363 69.9735 971.534 Q73.3531 974.705 73.3531 980.122 Q73.3531 985.701 69.8809 988.802 Q66.4087 991.881 60.0893 991.881 Q57.9134 991.881 55.6449 991.511 Q53.3995 991.14 50.9921 990.4 L50.9921 985.701 Q53.0754 986.835 55.2977 987.39 Q57.5199 987.946 59.9967 987.946 Q64.0013 987.946 66.3393 985.839 Q68.6772 983.733 68.6772 980.122 Q68.6772 976.511 66.3393 974.404 Q64.0013 972.298 59.9967 972.298 Q58.1217 972.298 56.2467 972.715 Q54.3949 973.131 52.4505 974.011 L52.4505 956.65 Z\" fill=\"#000000\" fill-rule=\"evenodd\" fill-opacity=\"1\" /><path clip-path=\"url(#clip830)\" d=\"M82.566 985.33 L87.4503 985.33 L87.4503 991.21 L82.566 991.21 L82.566 985.33 Z\" fill=\"#000000\" fill-rule=\"evenodd\" fill-opacity=\"1\" /><path clip-path=\"url(#clip830)\" d=\"M107.635 959.728 Q104.024 959.728 102.196 963.293 Q100.39 966.835 100.39 973.965 Q100.39 981.071 102.196 984.636 Q104.024 988.177 107.635 988.177 Q111.27 988.177 113.075 984.636 Q114.904 981.071 114.904 973.965 Q114.904 966.835 113.075 963.293 Q111.27 959.728 107.635 959.728 M107.635 956.025 Q113.445 956.025 116.501 960.631 Q119.58 965.215 119.58 973.965 Q119.58 982.691 116.501 987.298 Q113.445 991.881 107.635 991.881 Q101.825 991.881 98.7465 987.298 Q95.691 982.691 95.691 973.965 Q95.691 965.215 98.7465 960.631 Q101.825 956.025 107.635 956.025 Z\" fill=\"#000000\" fill-rule=\"evenodd\" fill-opacity=\"1\" /><path clip-path=\"url(#clip830)\" d=\"M137.797 959.728 Q134.186 959.728 132.357 963.293 Q130.552 966.835 130.552 973.965 Q130.552 981.071 132.357 984.636 Q134.186 988.177 137.797 988.177 Q141.431 988.177 143.237 984.636 Q145.066 981.071 145.066 973.965 Q145.066 966.835 143.237 963.293 Q141.431 959.728 137.797 959.728 M137.797 956.025 Q143.607 956.025 146.663 960.631 Q149.742 965.215 149.742 973.965 Q149.742 982.691 146.663 987.298 Q143.607 991.881 137.797 991.881 Q131.987 991.881 128.908 987.298 Q125.853 982.691 125.853 973.965 Q125.853 965.215 128.908 960.631 Q131.987 956.025 137.797 956.025 Z\" fill=\"#000000\" fill-rule=\"evenodd\" fill-opacity=\"1\" /><path clip-path=\"url(#clip830)\" d=\"M186.13 965.747 L175.552 976.372 L186.13 986.951 L183.376 989.751 L172.751 979.127 L162.126 989.751 L159.394 986.951 L169.95 976.372 L159.394 965.747 L162.126 962.946 L172.751 973.571 L183.376 962.946 L186.13 965.747 Z\" fill=\"#000000\" fill-rule=\"evenodd\" fill-opacity=\"1\" /><path clip-path=\"url(#clip830)\" d=\"M198.491 987.275 L206.13 987.275 L206.13 960.909 L197.82 962.576 L197.82 958.316 L206.084 956.65 L210.76 956.65 L210.76 987.275 L218.399 987.275 L218.399 991.21 L198.491 991.21 L198.491 987.275 Z\" fill=\"#000000\" fill-rule=\"evenodd\" fill-opacity=\"1\" /><path clip-path=\"url(#clip830)\" d=\"M237.843 959.728 Q234.232 959.728 232.403 963.293 Q230.598 966.835 230.598 973.965 Q230.598 981.071 232.403 984.636 Q234.232 988.177 237.843 988.177 Q241.477 988.177 243.283 984.636 Q245.111 981.071 245.111 973.965 Q245.111 966.835 243.283 963.293 Q241.477 959.728 237.843 959.728 M237.843 956.025 Q243.653 956.025 246.709 960.631 Q249.787 965.215 249.787 973.965 Q249.787 982.691 246.709 987.298 Q243.653 991.881 237.843 991.881 Q232.033 991.881 228.954 987.298 Q225.899 982.691 225.899 973.965 Q225.899 965.215 228.954 960.631 Q232.033 956.025 237.843 956.025 Z\" fill=\"#000000\" fill-rule=\"evenodd\" fill-opacity=\"1\" /><path clip-path=\"url(#clip830)\" d=\"M249.787 950.126 L273.899 950.126 L273.899 953.323 L249.787 953.323 L249.787 950.126 Z\" fill=\"#000000\" fill-rule=\"evenodd\" fill-opacity=\"1\" /><path clip-path=\"url(#clip830)\" d=\"M282.212 963.216 L282.212 959.756 Q283.641 960.433 285.108 960.79 Q286.575 961.147 287.986 961.147 Q291.747 961.147 293.722 958.627 Q295.716 956.088 295.998 950.935 Q294.907 952.552 293.233 953.417 Q291.559 954.283 289.528 954.283 Q285.315 954.283 282.851 951.744 Q280.406 949.186 280.406 944.766 Q280.406 940.44 282.964 937.826 Q285.522 935.212 289.773 935.212 Q294.644 935.212 297.202 938.954 Q299.778 942.678 299.778 949.788 Q299.778 956.427 296.619 960.395 Q293.478 964.345 288.155 964.345 Q286.726 964.345 285.259 964.063 Q283.792 963.781 282.212 963.216 M289.773 951.311 Q292.331 951.311 293.816 949.562 Q295.321 947.813 295.321 944.766 Q295.321 941.738 293.816 939.989 Q292.331 938.221 289.773 938.221 Q287.215 938.221 285.71 939.989 Q284.224 941.738 284.224 944.766 Q284.224 947.813 285.71 949.562 Q287.215 951.311 289.773 951.311 Z\" fill=\"#000000\" fill-rule=\"evenodd\" fill-opacity=\"1\" /><path clip-path=\"url(#clip830)\" d=\"M53.1391 568.361 L60.778 568.361 L60.778 541.996 L52.4678 543.662 L52.4678 539.403 L60.7317 537.736 L65.4076 537.736 L65.4076 568.361 L73.0464 568.361 L73.0464 572.296 L53.1391 572.296 L53.1391 568.361 Z\" fill=\"#000000\" fill-rule=\"evenodd\" fill-opacity=\"1\" /><path clip-path=\"url(#clip830)\" d=\"M82.4908 566.417 L87.375 566.417 L87.375 572.296 L82.4908 572.296 L82.4908 566.417 Z\" fill=\"#000000\" fill-rule=\"evenodd\" fill-opacity=\"1\" /><path clip-path=\"url(#clip830)\" d=\"M107.56 540.815 Q103.949 540.815 102.12 544.38 Q100.315 547.921 100.315 555.051 Q100.315 562.157 102.12 565.722 Q103.949 569.264 107.56 569.264 Q111.194 569.264 113 565.722 Q114.829 562.157 114.829 555.051 Q114.829 547.921 113 544.38 Q111.194 540.815 107.56 540.815 M107.56 537.111 Q113.37 537.111 116.426 541.718 Q119.504 546.301 119.504 555.051 Q119.504 563.778 116.426 568.384 Q113.37 572.968 107.56 572.968 Q101.75 572.968 98.6713 568.384 Q95.6157 563.778 95.6157 555.051 Q95.6157 546.301 98.6713 541.718 Q101.75 537.111 107.56 537.111 Z\" fill=\"#000000\" fill-rule=\"evenodd\" fill-opacity=\"1\" /><path clip-path=\"url(#clip830)\" d=\"M137.722 540.815 Q134.111 540.815 132.282 544.38 Q130.477 547.921 130.477 555.051 Q130.477 562.157 132.282 565.722 Q134.111 569.264 137.722 569.264 Q141.356 569.264 143.162 565.722 Q144.99 562.157 144.99 555.051 Q144.99 547.921 143.162 544.38 Q141.356 540.815 137.722 540.815 M137.722 537.111 Q143.532 537.111 146.588 541.718 Q149.666 546.301 149.666 555.051 Q149.666 563.778 146.588 568.384 Q143.532 572.968 137.722 572.968 Q131.912 572.968 128.833 568.384 Q125.778 563.778 125.778 555.051 Q125.778 546.301 128.833 541.718 Q131.912 537.111 137.722 537.111 Z\" fill=\"#000000\" fill-rule=\"evenodd\" fill-opacity=\"1\" /><path clip-path=\"url(#clip830)\" d=\"M186.055 546.833 L175.476 557.458 L186.055 568.037 L183.3 570.838 L172.676 560.213 L162.051 570.838 L159.319 568.037 L169.875 557.458 L159.319 546.833 L162.051 544.033 L172.676 554.658 L183.3 544.033 L186.055 546.833 Z\" fill=\"#000000\" fill-rule=\"evenodd\" fill-opacity=\"1\" /><path clip-path=\"url(#clip830)\" d=\"M198.416 568.361 L206.055 568.361 L206.055 541.996 L197.745 543.662 L197.745 539.403 L206.009 537.736 L210.685 537.736 L210.685 568.361 L218.323 568.361 L218.323 572.296 L198.416 572.296 L198.416 568.361 Z\" fill=\"#000000\" fill-rule=\"evenodd\" fill-opacity=\"1\" /><path clip-path=\"url(#clip830)\" d=\"M237.768 540.815 Q234.157 540.815 232.328 544.38 Q230.522 547.921 230.522 555.051 Q230.522 562.157 232.328 565.722 Q234.157 569.264 237.768 569.264 Q241.402 569.264 243.208 565.722 Q245.036 562.157 245.036 555.051 Q245.036 547.921 243.208 544.38 Q241.402 540.815 237.768 540.815 M237.768 537.111 Q243.578 537.111 246.633 541.718 Q249.712 546.301 249.712 555.051 Q249.712 563.778 246.633 568.384 Q243.578 572.968 237.768 572.968 Q231.958 572.968 228.879 568.384 Q225.823 563.778 225.823 555.051 Q225.823 546.301 228.879 541.718 Q231.958 537.111 237.768 537.111 Z\" fill=\"#000000\" fill-rule=\"evenodd\" fill-opacity=\"1\" /><path clip-path=\"url(#clip830)\" d=\"M249.712 531.213 L273.824 531.213 L273.824 534.41 L249.712 534.41 L249.712 531.213 Z\" fill=\"#000000\" fill-rule=\"evenodd\" fill-opacity=\"1\" /><path clip-path=\"url(#clip830)\" d=\"M290.149 531.551 Q287.441 531.551 285.879 532.999 Q284.337 534.448 284.337 536.987 Q284.337 539.526 285.879 540.974 Q287.441 542.422 290.149 542.422 Q292.857 542.422 294.418 540.974 Q295.979 539.507 295.979 536.987 Q295.979 534.448 294.418 532.999 Q292.876 531.551 290.149 531.551 M286.35 529.934 Q283.905 529.332 282.532 527.658 Q281.178 525.984 281.178 523.577 Q281.178 520.21 283.566 518.254 Q285.974 516.298 290.149 516.298 Q294.343 516.298 296.732 518.254 Q299.12 520.21 299.12 523.577 Q299.12 525.984 297.747 527.658 Q296.393 529.332 293.967 529.934 Q296.713 530.573 298.236 532.435 Q299.778 534.297 299.778 536.987 Q299.778 541.068 297.277 543.25 Q294.794 545.431 290.149 545.431 Q285.503 545.431 283.002 543.25 Q280.519 541.068 280.519 536.987 Q280.519 534.297 282.061 532.435 Q283.604 530.573 286.35 529.934 M284.958 523.934 Q284.958 526.116 286.312 527.338 Q287.685 528.561 290.149 528.561 Q292.594 528.561 293.967 527.338 Q295.359 526.116 295.359 523.934 Q295.359 521.752 293.967 520.53 Q292.594 519.307 290.149 519.307 Q287.685 519.307 286.312 520.53 Q284.958 521.752 284.958 523.934 Z\" fill=\"#000000\" fill-rule=\"evenodd\" fill-opacity=\"1\" /><path clip-path=\"url(#clip830)\" d=\"M53.1391 149.448 L60.778 149.448 L60.778 123.082 L52.4678 124.749 L52.4678 120.489 L60.7317 118.823 L65.4076 118.823 L65.4076 149.448 L73.0464 149.448 L73.0464 153.383 L53.1391 153.383 L53.1391 149.448 Z\" fill=\"#000000\" fill-rule=\"evenodd\" fill-opacity=\"1\" /><path clip-path=\"url(#clip830)\" d=\"M82.4908 147.503 L87.375 147.503 L87.375 153.383 L82.4908 153.383 L82.4908 147.503 Z\" fill=\"#000000\" fill-rule=\"evenodd\" fill-opacity=\"1\" /><path clip-path=\"url(#clip830)\" d=\"M97.6065 118.823 L115.963 118.823 L115.963 122.758 L101.889 122.758 L101.889 131.23 Q102.907 130.883 103.926 130.721 Q104.944 130.536 105.963 130.536 Q111.75 130.536 115.13 133.707 Q118.509 136.878 118.509 142.295 Q118.509 147.874 115.037 150.975 Q111.565 154.054 105.245 154.054 Q103.069 154.054 100.801 153.684 Q98.5555 153.313 96.1481 152.573 L96.1481 147.874 Q98.2315 149.008 100.454 149.563 Q102.676 150.119 105.153 150.119 Q109.157 150.119 111.495 148.012 Q113.833 145.906 113.833 142.295 Q113.833 138.684 111.495 136.577 Q109.157 134.471 105.153 134.471 Q103.278 134.471 101.403 134.888 Q99.5509 135.304 97.6065 136.184 L97.6065 118.823 Z\" fill=\"#000000\" fill-rule=\"evenodd\" fill-opacity=\"1\" /><path clip-path=\"url(#clip830)\" d=\"M137.722 121.902 Q134.111 121.902 132.282 125.466 Q130.477 129.008 130.477 136.138 Q130.477 143.244 132.282 146.809 Q134.111 150.35 137.722 150.35 Q141.356 150.35 143.162 146.809 Q144.99 143.244 144.99 136.138 Q144.99 129.008 143.162 125.466 Q141.356 121.902 137.722 121.902 M137.722 118.198 Q143.532 118.198 146.588 122.804 Q149.666 127.388 149.666 136.138 Q149.666 144.864 146.588 149.471 Q143.532 154.054 137.722 154.054 Q131.912 154.054 128.833 149.471 Q125.778 144.864 125.778 136.138 Q125.778 127.388 128.833 122.804 Q131.912 118.198 137.722 118.198 Z\" fill=\"#000000\" fill-rule=\"evenodd\" fill-opacity=\"1\" /><path clip-path=\"url(#clip830)\" d=\"M186.055 127.92 L175.476 138.545 L186.055 149.124 L183.3 151.924 L172.676 141.3 L162.051 151.924 L159.319 149.124 L169.875 138.545 L159.319 127.92 L162.051 125.119 L172.676 135.744 L183.3 125.119 L186.055 127.92 Z\" fill=\"#000000\" fill-rule=\"evenodd\" fill-opacity=\"1\" /><path clip-path=\"url(#clip830)\" d=\"M198.416 149.448 L206.055 149.448 L206.055 123.082 L197.745 124.749 L197.745 120.489 L206.009 118.823 L210.685 118.823 L210.685 149.448 L218.323 149.448 L218.323 153.383 L198.416 153.383 L198.416 149.448 Z\" fill=\"#000000\" fill-rule=\"evenodd\" fill-opacity=\"1\" /><path clip-path=\"url(#clip830)\" d=\"M237.768 121.902 Q234.157 121.902 232.328 125.466 Q230.522 129.008 230.522 136.138 Q230.522 143.244 232.328 146.809 Q234.157 150.35 237.768 150.35 Q241.402 150.35 243.208 146.809 Q245.036 143.244 245.036 136.138 Q245.036 129.008 243.208 125.466 Q241.402 121.902 237.768 121.902 M237.768 118.198 Q243.578 118.198 246.633 122.804 Q249.712 127.388 249.712 136.138 Q249.712 144.864 246.633 149.471 Q243.578 154.054 237.768 154.054 Q231.958 154.054 228.879 149.471 Q225.823 144.864 225.823 136.138 Q225.823 127.388 228.879 122.804 Q231.958 118.198 237.768 118.198 Z\" fill=\"#000000\" fill-rule=\"evenodd\" fill-opacity=\"1\" /><path clip-path=\"url(#clip830)\" d=\"M249.712 112.299 L273.824 112.299 L273.824 115.496 L249.712 115.496 L249.712 112.299 Z\" fill=\"#000000\" fill-rule=\"evenodd\" fill-opacity=\"1\" /><path clip-path=\"url(#clip830)\" d=\"M290.149 112.638 Q287.441 112.638 285.879 114.086 Q284.337 115.534 284.337 118.073 Q284.337 120.612 285.879 122.06 Q287.441 123.509 290.149 123.509 Q292.857 123.509 294.418 122.06 Q295.979 120.593 295.979 118.073 Q295.979 115.534 294.418 114.086 Q292.876 112.638 290.149 112.638 M286.35 111.02 Q283.905 110.418 282.532 108.745 Q281.178 107.071 281.178 104.663 Q281.178 101.297 283.566 99.3406 Q285.974 97.3846 290.149 97.3846 Q294.343 97.3846 296.732 99.3406 Q299.12 101.297 299.12 104.663 Q299.12 107.071 297.747 108.745 Q296.393 110.418 293.967 111.02 Q296.713 111.66 298.236 113.522 Q299.778 115.384 299.778 118.073 Q299.778 122.154 297.277 124.336 Q294.794 126.518 290.149 126.518 Q285.503 126.518 283.002 124.336 Q280.519 122.154 280.519 118.073 Q280.519 115.384 282.061 113.522 Q283.604 111.66 286.35 111.02 M284.958 105.021 Q284.958 107.202 286.312 108.425 Q287.685 109.647 290.149 109.647 Q292.594 109.647 293.967 108.425 Q295.359 107.202 295.359 105.021 Q295.359 102.839 293.967 101.616 Q292.594 100.394 290.149 100.394 Q287.685 100.394 286.312 101.616 Q284.958 102.839 284.958 105.021 Z\" fill=\"#000000\" fill-rule=\"evenodd\" fill-opacity=\"1\" /><path clip-path=\"url(#clip830)\" d=\"M1125.09 12.096 L1133.28 12.096 L1133.28 72.576 L1125.09 72.576 L1125.09 12.096 Z\" fill=\"#000000\" fill-rule=\"evenodd\" fill-opacity=\"1\" /><path clip-path=\"url(#clip830)\" d=\"M1186.95 45.1919 L1186.95 72.576 L1179.5 72.576 L1179.5 45.4349 Q1179.5 38.994 1176.99 35.7938 Q1174.47 32.5936 1169.45 32.5936 Q1163.41 32.5936 1159.93 36.4419 Q1156.45 40.2903 1156.45 46.9338 L1156.45 72.576 L1148.95 72.576 L1148.95 27.2059 L1156.45 27.2059 L1156.45 34.2544 Q1159.12 30.163 1162.73 28.1376 Q1166.37 26.1121 1171.11 26.1121 Q1178.93 26.1121 1182.94 30.9732 Q1186.95 35.7938 1186.95 45.1919 Z\" fill=\"#000000\" fill-rule=\"evenodd\" fill-opacity=\"1\" /><path clip-path=\"url(#clip830)\" d=\"M1201.82 27.2059 L1209.27 27.2059 L1209.27 72.576 L1201.82 72.576 L1201.82 27.2059 M1201.82 9.54393 L1209.27 9.54393 L1209.27 18.9825 L1201.82 18.9825 L1201.82 9.54393 Z\" fill=\"#000000\" fill-rule=\"evenodd\" fill-opacity=\"1\" /><path clip-path=\"url(#clip830)\" d=\"M1232.24 14.324 L1232.24 27.2059 L1247.59 27.2059 L1247.59 32.9987 L1232.24 32.9987 L1232.24 57.6282 Q1232.24 63.1779 1233.74 64.7578 Q1235.28 66.3376 1239.94 66.3376 L1247.59 66.3376 L1247.59 72.576 L1239.94 72.576 Q1231.31 72.576 1228.03 69.3758 Q1224.75 66.1351 1224.75 57.6282 L1224.75 32.9987 L1219.28 32.9987 L1219.28 27.2059 L1224.75 27.2059 L1224.75 14.324 L1232.24 14.324 Z\" fill=\"#000000\" fill-rule=\"evenodd\" fill-opacity=\"1\" /><path clip-path=\"url(#clip830)\" d=\"M1257.4 27.2059 L1264.85 27.2059 L1264.85 72.576 L1257.4 72.576 L1257.4 27.2059 M1257.4 9.54393 L1264.85 9.54393 L1264.85 18.9825 L1257.4 18.9825 L1257.4 9.54393 Z\" fill=\"#000000\" fill-rule=\"evenodd\" fill-opacity=\"1\" /><path clip-path=\"url(#clip830)\" d=\"M1301.06 49.7694 Q1292.03 49.7694 1288.55 51.8354 Q1285.06 53.9013 1285.06 58.8839 Q1285.06 62.8538 1287.66 65.2034 Q1290.29 67.5124 1294.79 67.5124 Q1300.98 67.5124 1304.71 63.1374 Q1308.48 58.7219 1308.48 51.4303 L1308.48 49.7694 L1301.06 49.7694 M1315.93 46.6907 L1315.93 72.576 L1308.48 72.576 L1308.48 65.6895 Q1305.93 69.8214 1302.12 71.8063 Q1298.31 73.7508 1292.8 73.7508 Q1285.83 73.7508 1281.7 69.8619 Q1277.61 65.9325 1277.61 59.3701 Q1277.61 51.7138 1282.71 47.825 Q1287.86 43.9361 1298.03 43.9361 L1308.48 43.9361 L1308.48 43.2069 Q1308.48 38.0623 1305.07 35.2672 Q1301.71 32.4315 1295.6 32.4315 Q1291.71 32.4315 1288.02 33.3632 Q1284.33 34.295 1280.93 36.1584 L1280.93 29.2718 Q1285.02 27.692 1288.87 26.9223 Q1292.72 26.1121 1296.37 26.1121 Q1306.21 26.1121 1311.07 31.2163 Q1315.93 36.3204 1315.93 46.6907 Z\" fill=\"#000000\" fill-rule=\"evenodd\" fill-opacity=\"1\" /><path clip-path=\"url(#clip830)\" d=\"M1331.28 9.54393 L1338.74 9.54393 L1338.74 72.576 L1331.28 72.576 L1331.28 9.54393 Z\" fill=\"#000000\" fill-rule=\"evenodd\" fill-opacity=\"1\" /><path clip-path=\"url(#clip830)\" d=\"M1389.21 18.8205 L1389.21 65.8515 L1399.1 65.8515 Q1411.61 65.8515 1417.41 60.1802 Q1423.24 54.509 1423.24 42.2752 Q1423.24 30.1225 1417.41 24.4918 Q1411.61 18.8205 1399.1 18.8205 L1389.21 18.8205 M1381.03 12.096 L1397.84 12.096 Q1415.42 12.096 1423.64 19.4281 Q1431.87 26.7198 1431.87 42.2752 Q1431.87 57.9117 1423.6 65.2439 Q1415.34 72.576 1397.84 72.576 L1381.03 72.576 L1381.03 12.096 Z\" fill=\"#000000\" fill-rule=\"evenodd\" fill-opacity=\"1\" /><path clip-path=\"url(#clip830)\" d=\"M1465.21 49.7694 Q1456.17 49.7694 1452.69 51.8354 Q1449.21 53.9013 1449.21 58.8839 Q1449.21 62.8538 1451.8 65.2034 Q1454.43 67.5124 1458.93 67.5124 Q1465.13 67.5124 1468.85 63.1374 Q1472.62 58.7219 1472.62 51.4303 L1472.62 49.7694 L1465.21 49.7694 M1480.07 46.6907 L1480.07 72.576 L1472.62 72.576 L1472.62 65.6895 Q1470.07 69.8214 1466.26 71.8063 Q1462.45 73.7508 1456.94 73.7508 Q1449.98 73.7508 1445.84 69.8619 Q1441.75 65.9325 1441.75 59.3701 Q1441.75 51.7138 1446.86 47.825 Q1452 43.9361 1462.17 43.9361 L1472.62 43.9361 L1472.62 43.2069 Q1472.62 38.0623 1469.22 35.2672 Q1465.86 32.4315 1459.74 32.4315 Q1455.85 32.4315 1452.16 33.3632 Q1448.48 34.295 1445.07 36.1584 L1445.07 29.2718 Q1449.17 27.692 1453.01 26.9223 Q1456.86 26.1121 1460.51 26.1121 Q1470.35 26.1121 1475.21 31.2163 Q1480.07 36.3204 1480.07 46.6907 Z\" fill=\"#000000\" fill-rule=\"evenodd\" fill-opacity=\"1\" /><path clip-path=\"url(#clip830)\" d=\"M1502.8 14.324 L1502.8 27.2059 L1518.15 27.2059 L1518.15 32.9987 L1502.8 32.9987 L1502.8 57.6282 Q1502.8 63.1779 1504.3 64.7578 Q1505.84 66.3376 1510.5 66.3376 L1518.15 66.3376 L1518.15 72.576 L1510.5 72.576 Q1501.87 72.576 1498.59 69.3758 Q1495.31 66.1351 1495.31 57.6282 L1495.31 32.9987 L1489.84 32.9987 L1489.84 27.2059 L1495.31 27.2059 L1495.31 14.324 L1502.8 14.324 Z\" fill=\"#000000\" fill-rule=\"evenodd\" fill-opacity=\"1\" /><path clip-path=\"url(#clip830)\" d=\"M1548.57 49.7694 Q1539.54 49.7694 1536.06 51.8354 Q1532.57 53.9013 1532.57 58.8839 Q1532.57 62.8538 1535.17 65.2034 Q1537.8 67.5124 1542.3 67.5124 Q1548.49 67.5124 1552.22 63.1374 Q1555.99 58.7219 1555.99 51.4303 L1555.99 49.7694 L1548.57 49.7694 M1563.44 46.6907 L1563.44 72.576 L1555.99 72.576 L1555.99 65.6895 Q1553.44 69.8214 1549.63 71.8063 Q1545.82 73.7508 1540.31 73.7508 Q1533.34 73.7508 1529.21 69.8619 Q1525.12 65.9325 1525.12 59.3701 Q1525.12 51.7138 1530.22 47.825 Q1535.37 43.9361 1545.54 43.9361 L1555.99 43.9361 L1555.99 43.2069 Q1555.99 38.0623 1552.58 35.2672 Q1549.22 32.4315 1543.11 32.4315 Q1539.22 32.4315 1535.53 33.3632 Q1531.84 34.295 1528.44 36.1584 L1528.44 29.2718 Q1532.53 27.692 1536.38 26.9223 Q1540.23 26.1121 1543.88 26.1121 Q1553.72 26.1121 1558.58 31.2163 Q1563.44 36.3204 1563.44 46.6907 Z\" fill=\"#000000\" fill-rule=\"evenodd\" fill-opacity=\"1\" /><polyline clip-path=\"url(#clip832)\" style=\"stroke:#009af9; stroke-linecap:round; stroke-linejoin:round; stroke-width:4; stroke-opacity:1; fill:none\" points=\"335.778,1386.4 335.786,1386.4 335.794,1386.4 335.802,1386.4 335.809,1386.4 335.871,1386.4 335.932,1386.4 335.994,1386.4 336.056,1386.4 336.179,1386.4 336.302,1386.4 336.425,1386.4 336.548,1386.4 336.733,1386.4 336.918,1386.4 337.102,1386.4 337.287,1386.4 337.533,1386.4 337.779,1386.4 338.026,1386.4 338.272,1386.4 338.579,1386.4 338.887,1386.4 339.195,1386.4 339.502,1386.4 339.871,1386.4 340.24,1386.4 340.609,1386.4 340.978,1386.4 341.409,1386.4 341.839,1386.4 342.269,1386.4 342.699,1386.4 343.191,1386.4 343.682,1386.4 344.174,1386.4 344.665,1386.4 345.218,1386.4 345.77,1386.4 346.323,1386.4 346.875,1386.4 347.489,1386.4 348.102,1386.4 348.715,1386.4 349.329,1386.4 350.003,1386.4 350.677,1386.4 351.351,1386.4 352.025,1386.4 352.76,1386.4 353.495,1386.4 354.23,1386.4 354.965,1386.4 355.76,1386.4 356.555,1386.4 357.35,1386.4 358.145,1386.4 359.001,1386.4 359.856,1386.4 360.711,1386.4 361.567,1386.4 362.482,1386.4 363.398,1386.4 364.313,1386.4 365.229,1386.4 366.204,1386.4 367.179,1386.4 368.154,1386.4 369.129,1386.4 370.164,1386.4 371.199,1386.39 372.234,1386.39 373.268,1386.39 374.362,1386.39 375.457,1386.39 376.551,1386.39 377.645,1386.39 378.798,1386.39 379.951,1386.39 381.104,1386.39 382.257,1386.39 383.469,1386.39 384.681,1386.39 385.893,1386.39 387.104,1386.39 388.375,1386.39 389.645,1386.39 390.915,1386.39 392.186,1386.39 393.514,1386.39 394.843,1386.39 396.171,1386.38 397.499,1386.38 398.886,1386.38 400.272,1386.38 401.658,1386.38 403.045,1386.38 404.488,1386.37 405.932,1386.37 407.376,1386.37 408.82,1386.36 410.32,1386.36 411.821,1386.36 413.322,1386.35 414.823,1386.35 416.381,1386.34 417.938,1386.34 419.496,1386.33 421.054,1386.33 422.668,1386.32 424.282,1386.31 425.896,1386.31 427.51,1386.3 429.18,1386.29 430.85,1386.28 432.52,1386.27 434.19,1386.25 435.915,1386.24 437.641,1386.23 439.367,1386.21 441.092,1386.2 442.873,1386.18 444.654,1386.16 446.434,1386.14 448.215,1386.12 450.051,1386.09 451.886,1386.07 453.722,1386.04 455.557,1386.01 457.447,1385.98 459.337,1385.95 461.226,1385.91 463.116,1385.87 465.06,1385.83 467.003,1385.78 468.947,1385.74 470.89,1385.69 472.887,1385.63 474.884,1385.58 476.881,1385.51 478.878,1385.45 480.928,1385.38 482.977,1385.31 485.027,1385.23 487.077,1385.15 489.179,1385.06 491.281,1384.96 493.383,1384.86 495.485,1384.76 497.639,1384.65 499.793,1384.53 501.947,1384.4 504.101,1384.27 506.306,1384.13 508.512,1383.98 510.717,1383.83 512.922,1383.67 515.178,1383.49 517.434,1383.31 519.69,1383.12 521.946,1382.92 524.252,1382.71 526.559,1382.49 528.865,1382.25 531.171,1382.01 533.527,1381.75 535.883,1381.48 538.239,1381.2 540.595,1380.91 543,1380.6 545.405,1380.28 547.81,1379.94 550.215,1379.6 552.668,1379.23 555.122,1378.85 557.575,1378.45 560.028,1378.04 562.53,1377.61 565.031,1377.16 567.533,1376.69 570.034,1376.22 572.583,1375.71 575.131,1375.19 577.68,1374.66 580.229,1374.11 582.824,1373.53 585.419,1372.93 588.014,1372.32 590.61,1371.69 593.251,1371.03 595.892,1370.36 598.534,1369.67 601.175,1368.96 603.862,1368.22 606.549,1367.47 609.235,1366.7 611.922,1365.91 614.653,1365.09 617.385,1364.26 620.116,1363.41 622.848,1362.55 625.623,1361.66 628.399,1360.76 631.174,1359.84 633.95,1358.91 636.769,1357.95 639.588,1356.99 642.406,1356.01 645.225,1355.02 648.087,1354.01 650.948,1352.99 653.81,1351.97 656.672,1350.94 659.575,1349.89 662.479,1348.84 665.382,1347.79 668.286,1346.75 671.231,1345.68 674.176,1344.62 677.12,1343.57 680.065,1342.52 683.051,1341.47 686.036,1340.43 689.022,1339.4 692.007,1338.38 695.032,1337.36 698.057,1336.37 701.083,1335.39 704.108,1334.43 707.172,1333.48 710.237,1332.56 713.301,1331.67 716.365,1330.8 719.468,1329.95 722.571,1329.13 725.673,1328.35 728.776,1327.6 731.916,1326.87 735.057,1326.19 738.197,1325.54 741.337,1324.93 744.514,1324.35 747.691,1323.81 750.869,1323.31 754.046,1322.85 757.259,1322.43 760.472,1322.05 763.685,1321.71 766.898,1321.41 770.147,1321.15 773.395,1320.92 776.643,1320.72 779.892,1320.56 783.175,1320.43 786.458,1320.33 789.741,1320.25 793.023,1320.2 796.34,1320.17 799.656,1320.15 802.973,1320.14 806.29,1320.14 809.639,1320.14 812.988,1320.13 816.338,1320.12 819.687,1320.09 823.069,1320.04 826.45,1319.96 829.831,1319.84 833.213,1319.69 836.626,1319.48 840.038,1319.21 843.451,1318.87 846.863,1318.47 850.306,1317.98 853.75,1317.39 857.193,1316.71 860.636,1315.92 864.108,1315.01 867.581,1313.97 871.053,1312.8 874.526,1311.49 878.027,1310.02 881.528,1308.39 885.03,1306.59 888.531,1304.63 892.06,1302.47 895.589,1300.12 899.118,1297.58 902.647,1294.84 906.203,1291.88 909.759,1288.71 913.315,1285.33 916.871,1281.74 920.453,1277.9 924.036,1273.85 927.618,1269.57 931.2,1265.08 934.807,1260.34 938.415,1255.38 942.022,1250.21 945.629,1244.82 949.261,1239.2 952.893,1233.37 956.525,1227.35 960.156,1221.15 963.811,1214.72 967.467,1208.13 971.122,1201.37 974.777,1194.47 978.455,1187.38 982.133,1180.17 985.81,1172.84 989.488,1165.42 993.187,1157.87 996.887,1150.24 1000.59,1142.56 1004.29,1134.83 1008.01,1127.04 1011.73,1119.23 1015.45,1111.43 1019.17,1103.65 1022.91,1095.86 1026.65,1088.12 1030.39,1080.45 1034.13,1072.86 1037.89,1065.33 1041.64,1057.91 1045.4,1050.61 1049.16,1043.44 1052.94,1036.39 1056.72,1029.5 1060.49,1022.78 1064.27,1016.24 1068.06,1009.85 1071.86,1003.66 1075.65,997.68 1079.45,991.903 1083.26,986.316 1087.07,980.947 1090.88,975.799 1094.69,970.874 1098.51,966.154 1102.34,961.658 1106.16,957.386 1109.99,953.336 1113.83,949.491 1117.67,945.862 1121.51,942.446 1125.35,939.238 1129.2,936.222 1133.06,933.404 1136.91,930.776 1140.76,928.333 1144.63,926.059 1148.49,923.956 1152.36,922.015 1156.22,920.229 1160.1,918.584 1163.98,917.079 1167.86,915.705 1171.73,914.454 1175.62,913.315 1179.51,912.284 1183.4,911.354 1187.28,910.517 1191.18,909.763 1195.08,909.089 1198.97,908.488 1202.87,907.954 1206.78,907.479 1210.68,907.06 1214.59,906.69 1218.5,906.366 1222.41,906.081 1226.32,905.833 1230.24,905.618 1234.15,905.431 1238.07,905.27 1241.99,905.131 1245.91,905.012 1249.83,904.91 1253.76,904.824 1257.68,904.751 1261.61,904.689 1265.53,904.637 1269.47,904.593 1273.4,904.556 1277.33,904.526 1281.26,904.501 1285.19,904.48 1289.13,904.464 1293.06,904.45 1297,904.438 1300.93,904.429 1304.87,904.422 1308.81,904.416 1312.75,904.411 1316.69,904.408 1320.63,904.405 1324.57,904.402 1328.51,904.4 1332.45,904.399 1336.39,904.398 1340.33,904.397 1344.27,904.396 1348.21,904.396 1352.15,904.395 1356.09,904.395 1360.03,904.395 1363.97,904.395 1367.91,904.395 1371.85,904.395 1375.79,904.395 1379.72,904.394 1383.66,904.394 1387.6,904.394 1391.54,904.394 1395.47,904.394 1399.41,904.394 1403.34,904.394 1407.28,904.394 1411.21,904.394 1415.14,904.394 1419.07,904.394 1423,904.394 1426.93,904.394 1430.85,904.394 1434.78,904.394 1438.7,904.394 1442.62,904.394 1446.54,904.394 1450.46,904.394 1454.38,904.394 1458.3,904.394 1462.21,904.394 1466.13,904.394 1470.04,904.394 1473.94,904.394 1477.85,904.394 1481.76,904.394 1485.66,904.394 1489.56,904.394 1493.46,904.394 1497.35,904.394 1501.25,904.394 1505.14,904.394 1509.03,904.394 1512.91,904.394 1516.8,904.394 1520.68,904.394 1524.56,904.394 1528.43,904.394 1532.31,904.394 1536.18,904.394 1540.04,904.394 1543.91,904.394 1547.77,904.394 1551.63,904.394 1555.48,904.394 1559.33,904.394 1563.19,904.394 1567.03,904.394 1570.86,904.394 1574.7,904.394 1578.54,904.394 1582.37,904.394 1586.2,904.394 1590.02,904.394 1593.85,904.394 1597.66,904.394 1601.47,904.394 1605.28,904.394 1609.09,904.394 1612.88,904.394 1616.68,904.394 1620.47,904.394 1624.26,904.394 1628.04,904.394 1631.82,904.394 1635.59,904.394 1639.37,904.394 1643.13,904.394 1646.89,904.394 1650.65,904.394 1654.41,904.394 1658.15,904.394 1661.89,904.394 1665.63,904.394 1669.37,904.394 1673.09,904.394 1676.81,904.394 1680.53,904.394 1684.25,904.394 1687.95,904.394 1691.65,904.394 1695.35,904.394 1699.05,904.394 1702.72,904.394 1706.4,904.394 1710.08,904.394 1713.76,904.394 1717.41,904.394 1721.07,904.394 1724.72,904.394 1728.38,904.394 1732.01,904.394 1735.64,904.394 1739.27,904.394 1742.9,904.394 1746.51,904.394 1750.12,904.394 1753.73,904.394 1757.33,904.394 1760.92,904.394 1764.5,904.394 1768.08,904.394 1771.66,904.394 1775.22,904.394 1778.78,904.394 1782.33,904.394 1785.89,904.394 1789.42,904.394 1792.95,904.394 1796.47,904.394 1800,904.394 1803.5,904.394 1807.01,904.394 1810.51,904.394 1814.01,904.394 1817.48,904.394 1820.95,904.394 1824.43,904.394 1827.9,904.394 1831.34,904.394 1834.78,904.394 1838.23,904.394 1841.67,904.394 1845.08,904.394 1848.5,904.394 1851.91,904.394 1855.32,904.394 1858.7,904.394 1862.08,904.394 1865.47,904.394 1868.85,904.394 1872.2,904.394 1875.55,904.394 1878.9,904.394 1882.24,904.394 1885.56,904.394 1888.88,904.394 1892.19,904.394 1895.51,904.394 1898.79,904.394 1902.08,904.394 1905.36,904.394 1908.64,904.394 1911.89,904.394 1915.14,904.394 1918.39,904.394 1921.64,904.394 1924.85,904.394 1928.06,904.394 1931.28,904.394 1934.49,904.394 1937.67,904.394 1940.84,904.394 1944.02,904.394 1947.2,904.394 1950.34,904.394 1953.48,904.394 1956.62,904.394 1959.76,904.394 1962.86,904.394 1965.96,904.394 1969.07,904.394 1972.17,904.394 1975.23,904.394 1978.3,904.394 1981.36,904.394 1984.43,904.394 1987.45,904.394 1990.48,904.394 1993.5,904.394 1996.53,904.394 1999.51,904.394 2002.5,904.394 2005.48,904.394 2008.47,904.394 2011.41,904.394 2014.36,904.394 2017.3,904.394 2020.25,904.394 2023.15,904.394 2026.06,904.394 2028.96,904.394 2031.86,904.394 2034.72,904.394 2037.59,904.394 2040.45,904.394 2043.31,904.394 2046.13,904.394 2048.95,904.394 2051.77,904.394 2054.58,904.394 2057.36,904.394 2060.14,904.394 2062.91,904.394 2065.69,904.394 2068.42,904.394 2071.15,904.394 2073.88,904.394 2076.61,904.394 2079.3,904.394 2081.99,904.394 2084.67,904.394 2087.36,904.394 2090,904.394 2092.64,904.394 2095.28,904.394 2097.92,904.394 2100.52,904.394 2103.12,904.394 2105.71,904.394 2108.31,904.394 2110.85,904.394 2113.4,904.394 2115.95,904.394 2118.5,904.394 2121,904.394 2123.5,904.394 2126,904.394 2128.51,904.394 2130.96,904.394 2133.41,904.394 2135.87,904.394 2138.32,904.394 2140.72,904.394 2143.13,904.394 2145.53,904.394 2147.94,904.394 2150.3,904.394 2152.65,904.394 2155.01,904.394 2157.36,904.394 2159.67,904.394 2161.98,904.394 2164.28,904.394 2166.59,904.394 2168.84,904.394 2171.1,904.394 2173.36,904.394 2175.61,904.394 2177.82,904.394 2180.02,904.394 2182.23,904.394 2184.43,904.394 2186.59,904.394 2188.74,904.394 2190.9,904.394 2193.05,904.394 2195.15,904.394 2197.25,904.394 2199.36,904.394 2201.46,904.394 2203.51,904.394 2205.56,904.394 2207.61,904.394 2209.66,904.394 2211.65,904.394 2213.65,904.394 2215.65,904.394 2217.64,904.394 2219.59,904.394 2221.53,904.394 2223.47,904.394 2225.42,904.394 2227.31,904.394 2229.2,904.394 2231.09,904.394 2232.98,904.394 2234.81,904.394 2236.65,904.394 2238.48,904.394 2240.32,904.394 2242.1,904.394 2243.88,904.394 2245.66,904.394 2247.44,904.394 2249.17,904.394 2250.89,904.394 2252.62,904.394 2254.34,904.394 2256.01,904.394 2257.68,904.394 2259.35,904.394 2261.02,904.394 2262.64,904.394 2264.25,904.394 2265.87,904.394 2267.48,904.394 2269.04,904.394 2270.6,904.394 2272.15,904.394 2273.71,904.394 2275.21,904.394 2276.71,904.394 2278.21,904.394 2279.71,904.394 2281.16,904.394 2282.6,904.394 2284.05,904.394 2285.49,904.394 2286.88,904.394 2288.26,904.394 2289.65,904.394 2291.03,904.394 2292.36,904.394 2293.69,904.394 2295.02,904.394 2296.35,904.394 2297.62,904.394 2298.89,904.394 2300.16,904.394 2301.43,904.394 2302.64,904.394 2303.85,904.394 2305.07,904.394 2306.28,904.394 2307.43,904.394 2308.58,904.394 2309.74,904.394 2310.89,904.394 2311.98,904.394 2313.08,904.394 2314.17,904.394 2315.27,904.394 2316.3,904.394 2317.34,904.394 2318.37,904.394 2319.4,904.394 2320.38,904.394 2321.36,904.394 2322.33,904.394 2323.31,904.394 2324.22,904.394 2325.14,904.394 2326.05,904.394 2326.97,904.394 2327.82,904.394 2328.68,904.394 2329.53,904.394 2330.39,904.394 2331.18,904.394 2331.98,904.394 2332.77,904.394 2333.57,904.394 2334.3,904.394 2335.04,904.394 2335.77,904.394 2336.51,904.394 2337.18,904.394 2337.86,904.394 2338.53,904.394 2339.21,904.394 2339.82,904.394 2340.43,904.394 2341.05,904.394 2341.66,904.394 2342.21,904.394 2342.76,904.394 2343.32,904.394 2343.87,904.394 2344.36,904.394 2344.85,904.394 2345.34,904.394 2345.83,904.394 2346.27,904.394 2346.7,904.394 2347.13,904.394 2347.56,904.394 2347.92,904.394 2348.29,904.394 2348.66,904.394 2349.03,904.394 2349.34,904.394 2349.65,904.394 2349.95,904.394 2350.26,904.394 2350.51,904.394 2350.75,904.394 2351,904.394 2351.25,904.394 2351.43,904.394 2351.62,904.394 2351.8,904.394 2351.99,904.394 2352.11,904.394 2352.23,904.394 2352.36,904.394 2352.48,904.394 \"/>\n",
       "<polyline clip-path=\"url(#clip832)\" style=\"stroke:#e26f46; stroke-linecap:round; stroke-linejoin:round; stroke-width:4; stroke-opacity:1; fill:none\" points=\"335.778,1386.4 335.786,1386.4 335.794,1386.4 335.802,1386.4 335.809,1386.4 335.871,1386.4 335.932,1386.4 335.994,1386.4 336.056,1386.4 336.179,1386.4 336.302,1386.4 336.425,1386.4 336.548,1386.4 336.733,1386.4 336.918,1386.4 337.102,1386.4 337.287,1386.4 337.533,1386.4 337.779,1386.4 338.026,1386.4 338.272,1386.4 338.579,1386.4 338.887,1386.4 339.195,1386.4 339.502,1386.4 339.871,1386.4 340.24,1386.4 340.609,1386.4 340.978,1386.4 341.409,1386.4 341.839,1386.4 342.269,1386.4 342.699,1386.4 343.191,1386.4 343.682,1386.4 344.174,1386.4 344.665,1386.4 345.218,1386.4 345.77,1386.4 346.323,1386.4 346.875,1386.4 347.489,1386.4 348.102,1386.39 348.715,1386.39 349.329,1386.39 350.003,1386.39 350.677,1386.39 351.351,1386.39 352.025,1386.39 352.76,1386.39 353.495,1386.39 354.23,1386.39 354.965,1386.39 355.76,1386.39 356.555,1386.39 357.35,1386.39 358.145,1386.39 359.001,1386.39 359.856,1386.38 360.711,1386.38 361.567,1386.38 362.482,1386.38 363.398,1386.38 364.313,1386.37 365.229,1386.37 366.204,1386.37 367.179,1386.36 368.154,1386.36 369.129,1386.35 370.164,1386.35 371.199,1386.34 372.234,1386.34 373.268,1386.33 374.362,1386.32 375.457,1386.31 376.551,1386.3 377.645,1386.29 378.798,1386.28 379.951,1386.26 381.104,1386.25 382.257,1386.23 383.469,1386.22 384.681,1386.2 385.893,1386.18 387.104,1386.15 388.375,1386.13 389.645,1386.1 390.915,1386.07 392.186,1386.04 393.514,1386 394.843,1385.97 396.171,1385.92 397.499,1385.88 398.886,1385.83 400.272,1385.78 401.658,1385.72 403.045,1385.66 404.488,1385.6 405.932,1385.53 407.376,1385.45 408.82,1385.37 410.32,1385.28 411.821,1385.19 413.322,1385.09 414.823,1384.98 416.381,1384.86 417.938,1384.74 419.496,1384.61 421.054,1384.47 422.668,1384.31 424.282,1384.15 425.896,1383.98 427.51,1383.8 429.18,1383.6 430.85,1383.39 432.52,1383.17 434.19,1382.94 435.915,1382.69 437.641,1382.42 439.367,1382.14 441.092,1381.84 442.873,1381.52 444.654,1381.18 446.434,1380.83 448.215,1380.46 450.051,1380.06 451.886,1379.63 453.722,1379.19 455.557,1378.73 457.447,1378.23 459.337,1377.7 461.226,1377.15 463.116,1376.58 465.06,1375.97 467.003,1375.32 468.947,1374.65 470.89,1373.95 472.887,1373.2 474.884,1372.41 476.881,1371.6 478.878,1370.74 480.928,1369.83 482.977,1368.89 485.027,1367.9 487.077,1366.88 489.179,1365.78 491.281,1364.65 493.383,1363.47 495.485,1362.25 497.639,1360.95 499.793,1359.6 501.947,1358.21 504.101,1356.76 506.306,1355.23 508.512,1353.64 510.717,1352 512.922,1350.3 515.178,1348.51 517.434,1346.65 519.69,1344.74 521.946,1342.77 524.252,1340.69 526.559,1338.54 528.865,1336.33 531.171,1334.06 533.527,1331.67 535.883,1329.21 538.239,1326.68 540.595,1324.08 543,1321.35 545.405,1318.56 547.81,1315.69 550.215,1312.74 552.668,1309.67 555.122,1306.52 557.575,1303.29 560.028,1299.99 562.53,1296.55 565.031,1293.04 567.533,1289.45 570.034,1285.78 572.583,1281.98 575.131,1278.09 577.68,1274.14 580.229,1270.11 582.824,1265.94 585.419,1261.7 588.014,1257.39 590.61,1253.02 593.251,1248.5 595.892,1243.92 598.534,1239.27 601.175,1234.57 603.862,1229.73 606.549,1224.84 609.235,1219.9 611.922,1214.91 614.653,1209.79 617.385,1204.64 620.116,1199.45 622.848,1194.22 625.623,1188.89 628.399,1183.53 631.174,1178.15 633.95,1172.76 636.769,1167.28 639.588,1161.79 642.406,1156.31 645.225,1150.83 648.087,1145.29 650.948,1139.76 653.81,1134.27 656.672,1128.8 659.575,1123.3 662.479,1117.84 665.382,1112.44 668.286,1107.09 671.231,1101.74 674.176,1096.46 677.12,1091.26 680.065,1086.14 683.051,1081.05 686.036,1076.07 689.022,1071.19 692.007,1066.42 695.032,1061.71 698.057,1057.13 701.083,1052.69 704.108,1048.38 707.172,1044.16 710.237,1040.1 713.301,1036.19 716.365,1032.44 719.468,1028.81 722.571,1025.34 725.673,1022.05 728.776,1018.94 731.916,1015.96 735.057,1013.16 738.197,1010.54 741.337,1008.1 744.514,1005.82 747.691,1003.71 750.869,1001.78 754.046,1000.03 757.259,998.424 760.472,996.991 763.685,995.721 766.898,994.607 770.147,993.632 773.395,992.801 776.643,992.106 779.892,991.535 783.175,991.075 786.458,990.72 789.741,990.458 793.023,990.276 796.34,990.16 799.656,990.095 802.973,990.068 806.29,990.062 809.639,990.061 812.988,990.047 816.338,990.003 819.687,989.91 823.069,989.748 826.45,989.498 829.831,989.14 833.213,988.656 836.626,988.018 840.038,987.212 843.451,986.217 846.863,985.013 850.306,983.568 853.75,981.872 857.193,979.906 860.636,977.653 864.108,975.07 867.581,972.161 871.053,968.907 874.526,965.295 878.027,961.276 881.528,956.864 885.03,952.049 888.531,946.819 892.06,941.119 895.589,934.981 899.118,928.399 902.647,921.369 906.203,913.828 909.759,905.827 913.315,897.367 916.871,888.451 920.453,879.012 924.036,869.121 927.618,858.785 931.2,848.014 934.807,836.74 938.415,825.05 942.022,812.961 945.629,800.489 949.261,787.565 952.893,774.294 956.525,760.696 960.156,746.796 963.811,732.526 967.467,718.001 971.122,703.249 974.777,688.298 978.455,673.083 982.133,657.726 985.81,642.258 989.488,626.71 993.187,611.022 996.887,595.316 1000.59,579.623 1004.29,563.976 1008.01,548.317 1011.73,532.766 1015.45,517.352 1019.17,502.103 1022.91,486.969 1026.65,472.058 1030.39,457.396 1034.13,443.007 1037.89,428.844 1041.64,415 1045.4,401.497 1049.16,388.351 1052.94,375.52 1056.72,363.08 1060.49,351.045 1064.27,339.424 1068.06,328.178 1071.86,317.366 1075.65,306.993 1079.45,297.061 1083.26,287.534 1087.07,278.452 1090.88,269.814 1094.69,261.616 1098.51,253.823 1102.34,246.46 1106.16,239.519 1109.99,232.991 1113.83,226.843 1117.67,221.088 1121.51,215.714 1125.35,210.706 1129.2,206.037 1133.06,201.707 1136.91,197.703 1140.76,194.01 1144.63,190.6 1148.49,187.47 1152.36,184.606 1156.22,181.99 1160.1,179.601 1163.98,177.432 1167.86,175.467 1171.73,173.693 1175.62,172.09 1179.51,170.651 1183.4,169.362 1187.28,168.211 1191.18,167.184 1195.08,166.273 1198.97,165.466 1202.87,164.755 1206.78,164.128 1210.68,163.578 1214.59,163.097 1218.5,162.679 1222.41,162.315 1226.32,162 1230.24,161.728 1234.15,161.495 1238.07,161.295 1241.99,161.124 1245.91,160.978 1249.83,160.855 1253.76,160.751 1257.68,160.664 1261.61,160.591 1265.53,160.53 1269.47,160.479 1273.4,160.437 1277.33,160.402 1281.26,160.373 1285.19,160.35 1289.13,160.331 1293.06,160.316 1297,160.303 1300.93,160.293 1304.87,160.285 1308.81,160.279 1312.75,160.274 1316.69,160.27 1320.63,160.267 1324.57,160.264 1328.51,160.262 1332.45,160.261 1336.39,160.26 1340.33,160.259 1344.27,160.258 1348.21,160.258 1352.15,160.257 1356.09,160.257 1360.03,160.257 1363.97,160.257 1367.91,160.257 1371.85,160.257 1375.79,160.256 1379.72,160.256 1383.66,160.256 1387.6,160.256 1391.54,160.256 1395.47,160.256 1399.41,160.256 1403.34,160.256 1407.28,160.256 1411.21,160.256 1415.14,160.256 1419.07,160.256 1423,160.256 1426.93,160.256 1430.85,160.256 1434.78,160.256 1438.7,160.256 1442.62,160.256 1446.54,160.256 1450.46,160.256 1454.38,160.256 1458.3,160.256 1462.21,160.256 1466.13,160.256 1470.04,160.256 1473.94,160.256 1477.85,160.256 1481.76,160.256 1485.66,160.256 1489.56,160.256 1493.46,160.256 1497.35,160.256 1501.25,160.256 1505.14,160.256 1509.03,160.256 1512.91,160.256 1516.8,160.256 1520.68,160.256 1524.56,160.256 1528.43,160.256 1532.31,160.256 1536.18,160.256 1540.04,160.256 1543.91,160.256 1547.77,160.256 1551.63,160.256 1555.48,160.256 1559.33,160.256 1563.19,160.256 1567.03,160.256 1570.86,160.256 1574.7,160.256 1578.54,160.256 1582.37,160.256 1586.2,160.256 1590.02,160.256 1593.85,160.256 1597.66,160.256 1601.47,160.256 1605.28,160.256 1609.09,160.256 1612.88,160.256 1616.68,160.256 1620.47,160.256 1624.26,160.256 1628.04,160.256 1631.82,160.256 1635.59,160.256 1639.37,160.256 1643.13,160.256 1646.89,160.256 1650.65,160.256 1654.41,160.256 1658.15,160.256 1661.89,160.256 1665.63,160.256 1669.37,160.256 1673.09,160.256 1676.81,160.256 1680.53,160.256 1684.25,160.256 1687.95,160.256 1691.65,160.256 1695.35,160.256 1699.05,160.256 1702.72,160.256 1706.4,160.256 1710.08,160.256 1713.76,160.256 1717.41,160.256 1721.07,160.256 1724.72,160.256 1728.38,160.256 1732.01,160.256 1735.64,160.256 1739.27,160.256 1742.9,160.256 1746.51,160.256 1750.12,160.256 1753.73,160.256 1757.33,160.256 1760.92,160.256 1764.5,160.256 1768.08,160.256 1771.66,160.256 1775.22,160.256 1778.78,160.256 1782.33,160.256 1785.89,160.256 1789.42,160.256 1792.95,160.256 1796.47,160.256 1800,160.256 1803.5,160.256 1807.01,160.256 1810.51,160.256 1814.01,160.256 1817.48,160.256 1820.95,160.256 1824.43,160.256 1827.9,160.256 1831.34,160.256 1834.78,160.256 1838.23,160.256 1841.67,160.256 1845.08,160.256 1848.5,160.256 1851.91,160.256 1855.32,160.256 1858.7,160.256 1862.08,160.256 1865.47,160.256 1868.85,160.256 1872.2,160.256 1875.55,160.256 1878.9,160.256 1882.24,160.256 1885.56,160.256 1888.88,160.256 1892.19,160.256 1895.51,160.256 1898.79,160.256 1902.08,160.256 1905.36,160.256 1908.64,160.256 1911.89,160.256 1915.14,160.256 1918.39,160.256 1921.64,160.256 1924.85,160.256 1928.06,160.256 1931.28,160.256 1934.49,160.256 1937.67,160.256 1940.84,160.256 1944.02,160.256 1947.2,160.256 1950.34,160.256 1953.48,160.256 1956.62,160.256 1959.76,160.256 1962.86,160.256 1965.96,160.256 1969.07,160.256 1972.17,160.256 1975.23,160.256 1978.3,160.256 1981.36,160.256 1984.43,160.256 1987.45,160.256 1990.48,160.256 1993.5,160.256 1996.53,160.256 1999.51,160.256 2002.5,160.256 2005.48,160.256 2008.47,160.256 2011.41,160.256 2014.36,160.256 2017.3,160.256 2020.25,160.256 2023.15,160.256 2026.06,160.256 2028.96,160.256 2031.86,160.256 2034.72,160.256 2037.59,160.256 2040.45,160.256 2043.31,160.256 2046.13,160.256 2048.95,160.256 2051.77,160.256 2054.58,160.256 2057.36,160.256 2060.14,160.256 2062.91,160.256 2065.69,160.256 2068.42,160.256 2071.15,160.256 2073.88,160.256 2076.61,160.256 2079.3,160.256 2081.99,160.256 2084.67,160.256 2087.36,160.256 2090,160.256 2092.64,160.256 2095.28,160.256 2097.92,160.256 2100.52,160.256 2103.12,160.256 2105.71,160.256 2108.31,160.256 2110.85,160.256 2113.4,160.256 2115.95,160.256 2118.5,160.256 2121,160.256 2123.5,160.256 2126,160.256 2128.51,160.256 2130.96,160.256 2133.41,160.256 2135.87,160.256 2138.32,160.256 2140.72,160.256 2143.13,160.256 2145.53,160.256 2147.94,160.256 2150.3,160.256 2152.65,160.256 2155.01,160.256 2157.36,160.256 2159.67,160.256 2161.98,160.256 2164.28,160.256 2166.59,160.256 2168.84,160.256 2171.1,160.256 2173.36,160.256 2175.61,160.256 2177.82,160.256 2180.02,160.256 2182.23,160.256 2184.43,160.256 2186.59,160.256 2188.74,160.256 2190.9,160.256 2193.05,160.256 2195.15,160.256 2197.25,160.256 2199.36,160.256 2201.46,160.256 2203.51,160.256 2205.56,160.256 2207.61,160.256 2209.66,160.256 2211.65,160.256 2213.65,160.256 2215.65,160.256 2217.64,160.256 2219.59,160.256 2221.53,160.256 2223.47,160.256 2225.42,160.256 2227.31,160.256 2229.2,160.256 2231.09,160.256 2232.98,160.256 2234.81,160.256 2236.65,160.256 2238.48,160.256 2240.32,160.256 2242.1,160.256 2243.88,160.256 2245.66,160.256 2247.44,160.256 2249.17,160.256 2250.89,160.256 2252.62,160.256 2254.34,160.256 2256.01,160.256 2257.68,160.256 2259.35,160.256 2261.02,160.256 2262.64,160.256 2264.25,160.256 2265.87,160.256 2267.48,160.256 2269.04,160.256 2270.6,160.256 2272.15,160.256 2273.71,160.256 2275.21,160.256 2276.71,160.256 2278.21,160.256 2279.71,160.256 2281.16,160.256 2282.6,160.256 2284.05,160.256 2285.49,160.256 2286.88,160.256 2288.26,160.256 2289.65,160.256 2291.03,160.256 2292.36,160.256 2293.69,160.256 2295.02,160.256 2296.35,160.256 2297.62,160.256 2298.89,160.256 2300.16,160.256 2301.43,160.256 2302.64,160.256 2303.85,160.256 2305.07,160.256 2306.28,160.256 2307.43,160.256 2308.58,160.256 2309.74,160.256 2310.89,160.256 2311.98,160.256 2313.08,160.256 2314.17,160.256 2315.27,160.256 2316.3,160.256 2317.34,160.256 2318.37,160.256 2319.4,160.256 2320.38,160.256 2321.36,160.256 2322.33,160.256 2323.31,160.256 2324.22,160.256 2325.14,160.256 2326.05,160.256 2326.97,160.256 2327.82,160.256 2328.68,160.256 2329.53,160.256 2330.39,160.256 2331.18,160.256 2331.98,160.256 2332.77,160.256 2333.57,160.256 2334.3,160.256 2335.04,160.256 2335.77,160.256 2336.51,160.256 2337.18,160.256 2337.86,160.256 2338.53,160.256 2339.21,160.256 2339.82,160.256 2340.43,160.256 2341.05,160.256 2341.66,160.256 2342.21,160.256 2342.76,160.256 2343.32,160.256 2343.87,160.256 2344.36,160.256 2344.85,160.256 2345.34,160.256 2345.83,160.256 2346.27,160.256 2346.7,160.256 2347.13,160.256 2347.56,160.256 2347.92,160.256 2348.29,160.256 2348.66,160.256 2349.03,160.256 2349.34,160.256 2349.65,160.256 2349.95,160.256 2350.26,160.256 2350.51,160.256 2350.75,160.256 2351,160.256 2351.25,160.256 2351.43,160.256 2351.62,160.256 2351.8,160.256 2351.99,160.256 2352.11,160.256 2352.23,160.256 2352.36,160.256 2352.48,160.256 \"/>\n",
       "<path clip-path=\"url(#clip830)\" d=\"M403.011 322.316 L702.995 322.316 L702.995 166.796 L403.011 166.796  Z\" fill=\"#ffffff\" fill-rule=\"evenodd\" fill-opacity=\"1\"/>\n",
       "<polyline clip-path=\"url(#clip830)\" style=\"stroke:#000000; stroke-linecap:round; stroke-linejoin:round; stroke-width:4; stroke-opacity:1; fill:none\" points=\"403.011,322.316 702.995,322.316 702.995,166.796 403.011,166.796 403.011,322.316 \"/>\n",
       "<polyline clip-path=\"url(#clip830)\" style=\"stroke:#009af9; stroke-linecap:round; stroke-linejoin:round; stroke-width:4; stroke-opacity:1; fill:none\" points=\"425.422,218.636 559.887,218.636 \"/>\n",
       "<path clip-path=\"url(#clip830)\" d=\"M602.645 214.967 Q604.242 212.096 606.464 210.731 Q608.687 209.365 611.696 209.365 Q615.747 209.365 617.946 212.212 Q620.145 215.036 620.145 220.268 L620.145 235.916 L615.863 235.916 L615.863 220.407 Q615.863 216.68 614.543 214.874 Q613.224 213.069 610.515 213.069 Q607.205 213.069 605.284 215.268 Q603.363 217.467 603.363 221.263 L603.363 235.916 L599.08 235.916 L599.08 220.407 Q599.08 216.657 597.761 214.874 Q596.441 213.069 593.687 213.069 Q590.423 213.069 588.502 215.291 Q586.58 217.49 586.58 221.263 L586.58 235.916 L582.298 235.916 L582.298 209.99 L586.58 209.99 L586.58 214.018 Q588.039 211.633 590.076 210.499 Q592.113 209.365 594.914 209.365 Q597.738 209.365 599.705 210.8 Q601.696 212.235 602.645 214.967 Z\" fill=\"#000000\" fill-rule=\"evenodd\" fill-opacity=\"1\" /><polyline clip-path=\"url(#clip830)\" style=\"stroke:#e26f46; stroke-linecap:round; stroke-linejoin:round; stroke-width:4; stroke-opacity:1; fill:none\" points=\"425.422,270.476 559.887,270.476 \"/>\n",
       "<path clip-path=\"url(#clip830)\" d=\"M601.071 274.816 Q601.071 270.117 599.126 267.455 Q597.205 264.77 593.826 264.77 Q590.446 264.77 588.502 267.455 Q586.58 270.117 586.58 274.816 Q586.58 279.515 588.502 282.2 Q590.446 284.862 593.826 284.862 Q597.205 284.862 599.126 282.2 Q601.071 279.515 601.071 274.816 M586.58 265.765 Q587.923 263.45 589.96 262.339 Q592.02 261.205 594.867 261.205 Q599.589 261.205 602.529 264.955 Q605.492 268.705 605.492 274.816 Q605.492 280.927 602.529 284.677 Q599.589 288.427 594.867 288.427 Q592.02 288.427 589.96 287.316 Q587.923 286.182 586.58 283.867 L586.58 287.756 L582.298 287.756 L582.298 251.737 L586.58 251.737 L586.58 265.765 Z\" fill=\"#000000\" fill-rule=\"evenodd\" fill-opacity=\"1\" /><path clip-path=\"url(#clip830)\" d=\"M634.728 273.728 L634.728 275.811 L615.145 275.811 Q615.423 280.209 617.784 282.524 Q620.168 284.816 624.404 284.816 Q626.858 284.816 629.149 284.214 Q631.464 283.612 633.733 282.409 L633.733 286.436 Q631.441 287.408 629.034 287.918 Q626.626 288.427 624.15 288.427 Q617.946 288.427 614.312 284.816 Q610.701 281.205 610.701 275.047 Q610.701 268.682 614.126 264.955 Q617.575 261.205 623.409 261.205 Q628.64 261.205 631.673 264.585 Q634.728 267.941 634.728 273.728 M630.469 272.478 Q630.423 268.983 628.501 266.899 Q626.603 264.816 623.455 264.816 Q619.89 264.816 617.738 266.83 Q615.608 268.844 615.284 272.501 L630.469 272.478 Z\" fill=\"#000000\" fill-rule=\"evenodd\" fill-opacity=\"1\" /><path clip-path=\"url(#clip830)\" d=\"M645.932 254.469 L645.932 261.83 L654.705 261.83 L654.705 265.14 L645.932 265.14 L645.932 279.214 Q645.932 282.385 646.788 283.288 Q647.668 284.191 650.33 284.191 L654.705 284.191 L654.705 287.756 L650.33 287.756 Q645.399 287.756 643.524 285.927 Q641.649 284.075 641.649 279.214 L641.649 265.14 L638.524 265.14 L638.524 261.83 L641.649 261.83 L641.649 254.469 L645.932 254.469 Z\" fill=\"#000000\" fill-rule=\"evenodd\" fill-opacity=\"1\" /><path clip-path=\"url(#clip830)\" d=\"M672.089 274.723 Q666.927 274.723 664.936 275.904 Q662.946 277.084 662.946 279.932 Q662.946 282.2 664.427 283.543 Q665.932 284.862 668.501 284.862 Q672.043 284.862 674.172 282.362 Q676.325 279.839 676.325 275.672 L676.325 274.723 L672.089 274.723 M680.584 272.964 L680.584 287.756 L676.325 287.756 L676.325 283.821 Q674.867 286.182 672.691 287.316 Q670.515 288.427 667.367 288.427 Q663.385 288.427 661.024 286.205 Q658.686 283.959 658.686 280.209 Q658.686 275.834 661.603 273.612 Q664.543 271.39 670.353 271.39 L676.325 271.39 L676.325 270.973 Q676.325 268.034 674.381 266.436 Q672.459 264.816 668.964 264.816 Q666.742 264.816 664.635 265.348 Q662.529 265.881 660.584 266.946 L660.584 263.01 Q662.922 262.108 665.122 261.668 Q667.321 261.205 669.404 261.205 Q675.029 261.205 677.807 264.122 Q680.584 267.038 680.584 272.964 Z\" fill=\"#000000\" fill-rule=\"evenodd\" fill-opacity=\"1\" /></svg>\n"
      ]
     },
     "execution_count": 760,
     "metadata": {},
     "output_type": "execute_result"
    }
   ],
   "source": [
    "using Plots #showing initial data and the initial status of the horizon finder\n",
    "plot(initX[4:L-3], state_array[4:L-3,1:2], xaxis=\"x\",title=\"Initial Data\", labels=[\"m\" \"beta\" \"psi\" \"psi,x\"],xlim=[0,1])"
   ]
  },
  {
   "cell_type": "markdown",
   "id": "9b444ece",
   "metadata": {
    "papermill": {
     "duration": 0.009161,
     "end_time": "2023-03-28T18:06:25.373170",
     "exception": false,
     "start_time": "2023-03-28T18:06:25.364009",
     "status": "completed"
    },
    "tags": []
   },
   "source": [
    "# Defining the initial state array for the evolution m β Ψ and Ψ,x"
   ]
  },
  {
   "cell_type": "code",
   "execution_count": 761,
   "id": "9902ffab",
   "metadata": {
    "execution": {
     "iopub.execute_input": "2023-03-28T19:06:25.389000Z",
     "iopub.status.busy": "2023-03-28T19:06:25.388000Z",
     "iopub.status.idle": "2023-03-28T19:06:32.710000Z",
     "shell.execute_reply": "2023-03-28T19:06:32.710000Z"
    },
    "papermill": {
     "duration": 7.335269,
     "end_time": "2023-03-28T18:06:32.715990",
     "exception": false,
     "start_time": "2023-03-28T18:06:25.380721",
     "status": "completed"
    },
    "tags": []
   },
   "outputs": [
    {
     "data": {
      "text/plain": [
       "\"/home/rita13santos/Desktop/MSc Thesis/Git/ScalarField/DATA/res3/time_step0.csv\""
      ]
     },
     "execution_count": 761,
     "metadata": {},
     "output_type": "execute_result"
    }
   ],
   "source": [
    "using CSV, Tables\n",
    "#CSV.write(dir*\"/time_step0.csv\", Tables.table(transpose(Matrix(state_array))), writeheader=false)\n",
    "CSV.write(dir*\"/res$res/time_step0.csv\", Tables.table(state_array), writeheader=false)"
   ]
  },
  {
   "cell_type": "code",
   "execution_count": 450,
   "id": "fff1426a",
   "metadata": {
    "execution": {
     "iopub.execute_input": "2023-03-28T19:06:33.154000Z",
     "iopub.status.busy": "2023-03-28T19:06:32.734000Z",
     "iopub.status.idle": "2023-03-28T19:06:33.884000Z",
     "shell.execute_reply": "2023-03-28T19:06:33.884000Z"
    },
    "papermill": {
     "duration": 1.164178,
     "end_time": "2023-03-28T18:06:33.889802",
     "exception": false,
     "start_time": "2023-03-28T18:06:32.725624",
     "status": "completed"
    },
    "tags": []
   },
   "outputs": [
    {
     "data": {
      "text/plain": [
       "\"/home/rita13santos/Desktop/MSc Thesis/Git/ScalarField/DATA/parameters.csv\""
      ]
     },
     "execution_count": 450,
     "metadata": {},
     "output_type": "execute_result"
    }
   ],
   "source": [
    "time=0.0\n",
    "criticality=0.0\n",
    "explode=0.0\n",
    "evol_stats = [criticality A sigma r0 time explode run]\n",
    "monitor_ratio = zeros(L)\n",
    "CSV.write(dir*\"/parameters.csv\", Tables.table(evol_stats), writeheader=true, header=[\"criticality\", \"A\", \"sigma\", \"r0\", \"time\", \"explode\", \"run\"])"
   ]
  },
  {
   "cell_type": "code",
   "execution_count": 451,
   "id": "9e9abd7d",
   "metadata": {},
   "outputs": [
    {
     "name": "stdout",
     "output_type": "stream",
     "text": [
      "1.0\n"
     ]
    }
   ],
   "source": [
    "ginit=dt_scale(initX,state_array[:,1],state_array[:,2],dx)\n",
    "println(update_dt(initX,state_array[:,1],state_array[:,2],dx,ginit)/dt)"
   ]
  },
  {
   "cell_type": "markdown",
   "id": "42e2c73d",
   "metadata": {
    "papermill": {
     "duration": 0.007626,
     "end_time": "2023-03-28T18:06:33.908346",
     "exception": false,
     "start_time": "2023-03-28T18:06:33.900720",
     "status": "completed"
    },
    "tags": []
   },
   "source": [
    " ## Time evolution"
   ]
  },
  {
   "cell_type": "markdown",
   "id": "7da47594",
   "metadata": {
    "papermill": {
     "duration": 0.007471,
     "end_time": "2023-03-28T18:06:33.923805",
     "exception": false,
     "start_time": "2023-03-28T18:06:33.916334",
     "status": "completed"
    },
    "tags": []
   },
   "source": [
    "fixed grid"
   ]
  },
  {
   "cell_type": "code",
   "execution_count": 433,
   "id": "fcb7ae3f",
   "metadata": {
    "execution": {
     "iopub.execute_input": "2023-03-28T19:06:33.940000Z",
     "iopub.status.busy": "2023-03-28T19:06:33.940000Z",
     "iopub.status.idle": "2023-03-28T21:02:19.379000Z",
     "shell.execute_reply": "2023-03-28T21:02:19.378000Z"
    },
    "papermill": {
     "duration": 6945.452732,
     "end_time": "2023-03-28T20:02:19.384591",
     "exception": false,
     "start_time": "2023-03-28T18:06:33.931859",
     "status": "completed"
    },
    "tags": []
   },
   "outputs": [
    {
     "name": "stdout",
     "output_type": "stream",
     "text": [
      "iteration 1 dt is 0.00125, time of iteration is 0.00125\n",
      "iteration 2 dt is 0.00125, time of iteration is 0.0025\n",
      "iteration 3 dt is 0.00125, time of iteration is 0.00375\n",
      "iteration 4 dt is 0.00125, time of iteration is 0.005\n",
      "iteration 5 dt is 0.00125, time of iteration is 0.00625\n",
      "iteration 6 dt is 0.00125, time of iteration is 0.0075\n",
      "iteration 7 dt is 0.00125, time of iteration is 0.00875\n",
      "iteration 8 dt is 0.00125, time of iteration is 0.01\n",
      "iteration 9 dt is 0.00125, time of iteration is 0.01125\n",
      "iteration 10 dt is 0.00125, time of iteration is 0.0125\n",
      "iteration 11 dt is 0.00125, time of iteration is 0.01375\n",
      "iteration 12 dt is 0.00125, time of iteration is 0.015\n",
      "iteration 13 dt is 0.00125, time of iteration is 0.01625\n",
      "iteration 14 dt is 0.00125, time of iteration is 0.0175\n",
      "iteration 15 dt is 0.00125, time of iteration is 0.01875\n",
      "iteration 16 dt is 0.00125, time of iteration is 0.02\n",
      "iteration 17 dt is 0.00125, time of iteration is 0.02125\n",
      "iteration 18 dt is 0.00125, time of iteration is 0.0225\n",
      "iteration 19 dt is 0.00125, time of iteration is 0.02375\n",
      "iteration 20 dt is 0.00125, time of iteration is 0.025\n",
      "iteration 21 dt is 0.00125, time of iteration is 0.02625\n",
      "iteration 22 dt is 0.00125, time of iteration is 0.0275\n",
      "iteration 23 dt is 0.00125, time of iteration is 0.02875\n",
      "iteration 24 dt is 0.00125, time of iteration is 0.03\n",
      "iteration 25 dt is 0.00125, time of iteration is 0.03125\n",
      "iteration 26 dt is 0.00125, time of iteration is 0.0325\n",
      "iteration 27 dt is 0.00125, time of iteration is 0.03375\n",
      "iteration 28 dt is 0.00125, time of iteration is 0.035\n",
      "iteration 29 dt is 0.00125, time of iteration is 0.03625\n",
      "iteration 30 dt is 0.00125, time of iteration is 0.0375\n",
      "iteration 31 dt is 0.00125, time of iteration is 0.03875\n",
      "iteration 32 dt is 0.00125, time of iteration is 0.04\n",
      "iteration 33 dt is 0.00125, time of iteration is 0.04125\n",
      "iteration 34 dt is 0.00125, time of iteration is 0.0425\n",
      "iteration 35 dt is 0.00125, time of iteration is 0.04375\n",
      "iteration 36 dt is 0.00125, time of iteration is 0.045\n",
      "iteration 37 dt is 0.00125, time of iteration is 0.04625\n",
      "iteration 38 dt is 0.00125, time of iteration is 0.0475\n",
      "iteration 39 dt is 0.00125, time of iteration is 0.04875\n",
      "iteration 40 dt is 0.00125, time of iteration is 0.05\n",
      "iteration 41 dt is 0.00125, time of iteration is 0.05125\n",
      "iteration 42 dt is 0.00125, time of iteration is 0.0525\n",
      "iteration 43 dt is 0.00125, time of iteration is 0.05375\n",
      "iteration 44 dt is 0.00125, time of iteration is 0.055\n",
      "iteration 45 dt is 0.00125, time of iteration is 0.05625\n",
      "iteration 46 dt is 0.00125, time of iteration is 0.0575\n",
      "iteration 47 dt is 0.00125, time of iteration is 0.05875\n",
      "iteration 48 dt is 0.00125, time of iteration is 0.06\n",
      "iteration 49 dt is 0.00125, time of iteration is 0.06125\n",
      "iteration 50 dt is 0.00125, time of iteration is 0.0625\n",
      "iteration 51 dt is 0.00125, time of iteration is 0.06375\n",
      "iteration 52 dt is 0.00125, time of iteration is 0.065\n",
      "iteration 53 dt is 0.00125, time of iteration is 0.06625\n",
      "iteration 54 dt is 0.00125, time of iteration is 0.0675\n",
      "iteration 55 dt is 0.00125, time of iteration is 0.06875\n",
      "iteration 56 dt is 0.00125, time of iteration is 0.07\n",
      "iteration 57 dt is 0.00125, time of iteration is 0.07125\n",
      "iteration 58 dt is 0.00125, time of iteration is 0.0725\n",
      "iteration 59 dt is 0.00125, time of iteration is 0.07375\n",
      "iteration 60 dt is 0.00125, time of iteration is 0.075\n",
      "iteration 61 dt is 0.00125, time of iteration is 0.07625\n",
      "iteration 62 dt is 0.00125, time of iteration is 0.0775\n",
      "iteration 63 dt is 0.00125, time of iteration is 0.07875\n",
      "iteration 64 dt is 0.00125, time of iteration is 0.08\n",
      "iteration 65 dt is 0.00125, time of iteration is 0.08125\n",
      "iteration 66 dt is 0.00125, time of iteration is 0.0825\n",
      "iteration 67 dt is 0.00125, time of iteration is 0.08375\n",
      "iteration 68 dt is 0.00125, time of iteration is 0.085\n",
      "iteration 69 dt is 0.00125, time of iteration is 0.08625\n",
      "iteration 70 dt is 0.00125, time of iteration is 0.0875\n",
      "iteration 71 dt is 0.00125, time of iteration is 0.08875\n",
      "iteration 72 dt is 0.00125, time of iteration is 0.09\n",
      "iteration 73 dt is 0.00125, time of iteration is 0.09125\n",
      "iteration 74 dt is 0.00125, time of iteration is 0.0925\n",
      "iteration 75 dt is 0.00125, time of iteration is 0.09375\n",
      "iteration 76 dt is 0.00125, time of iteration is 0.095\n",
      "iteration 77 dt is 0.00125, time of iteration is 0.09625\n",
      "iteration 78 dt is 0.00125, time of iteration is 0.0975\n",
      "iteration 79 dt is 0.00125, time of iteration is 0.09875\n",
      "iteration 80 dt is 0.00125, time of iteration is 0.1\n",
      "iteration 81 dt is 0.00125, time of iteration is 0.10125\n",
      "iteration 82 dt is 0.00125, time of iteration is 0.1025\n",
      "iteration 83 dt is 0.00125, time of iteration is 0.10375\n",
      "iteration 84 dt is 0.00125, time of iteration is 0.105\n",
      "iteration 85 dt is 0.00125, time of iteration is 0.10625\n",
      "iteration 86 dt is 0.00125, time of iteration is 0.1075\n",
      "iteration 87 dt is 0.00125, time of iteration is 0.10875\n",
      "iteration 88 dt is 0.00125, time of iteration is 0.11\n",
      "iteration 89 dt is 0.00125, time of iteration is 0.11125\n",
      "iteration 90 dt is 0.00125, time of iteration is 0.1125\n",
      "iteration 91 dt is 0.00125, time of iteration is 0.11375\n",
      "iteration 92 dt is 0.00125, time of iteration is 0.115\n",
      "iteration 93 dt is 0.00125, time of iteration is 0.11625\n",
      "iteration 94 dt is 0.00125, time of iteration is 0.1175\n",
      "iteration 95 dt is 0.00125, time of iteration is 0.11875\n",
      "iteration 96 dt is 0.00125, time of iteration is 0.12\n",
      "iteration 97 dt is 0.00125, time of iteration is 0.12125\n",
      "iteration 98 dt is 0.00125, time of iteration is 0.1225\n",
      "iteration 99 dt is 0.00125, time of iteration is 0.12375\n",
      "iteration 100 dt is 0.00125, time of iteration is 0.125\n",
      "iteration 101 dt is 0.00125, time of iteration is 0.12625\n",
      "iteration 102 dt is 0.00125, time of iteration is 0.1275\n",
      "iteration 103 dt is 0.00125, time of iteration is 0.12875\n",
      "iteration 104 dt is 0.00125, time of iteration is 0.13\n",
      "iteration 105 dt is 0.00125, time of iteration is 0.13125\n",
      "iteration 106 dt is 0.00125, time of iteration is 0.1325\n",
      "iteration 107 dt is 0.00125, time of iteration is 0.13375\n",
      "iteration 108 dt is 0.00125, time of iteration is 0.135\n",
      "iteration 109 dt is 0.00125, time of iteration is 0.13625\n",
      "iteration 110 dt is 0.00125, time of iteration is 0.1375\n",
      "iteration 111 dt is 0.00125, time of iteration is 0.13875\n",
      "iteration 112 dt is 0.00125, time of iteration is 0.14\n",
      "iteration 113 dt is 0.00125, time of iteration is 0.14125\n",
      "iteration 114 dt is 0.00125, time of iteration is 0.1425\n",
      "iteration 115 dt is 0.00125, time of iteration is 0.14375\n",
      "iteration 116 dt is 0.00125, time of iteration is 0.145\n",
      "iteration 117 dt is 0.00125, time of iteration is 0.14625\n",
      "iteration 118 dt is 0.00125, time of iteration is 0.1475\n",
      "iteration 119 dt is 0.00125, time of iteration is 0.14875\n",
      "iteration 120 dt is 0.00125, time of iteration is 0.15\n",
      "iteration 121 dt is 0.00125, time of iteration is 0.15125\n",
      "iteration 122 dt is 0.00125, time of iteration is 0.1525\n",
      "iteration 123 dt is 0.00125, time of iteration is 0.15375\n",
      "iteration 124 dt is 0.00125, time of iteration is 0.155\n",
      "iteration 125 dt is 0.00125, time of iteration is 0.15625\n",
      "iteration 126 dt is 0.00125, time of iteration is 0.1575\n",
      "iteration 127 dt is 0.00125, time of iteration is 0.15875\n",
      "iteration 128 dt is 0.00125, time of iteration is 0.16\n",
      "iteration 129 dt is 0.00125, time of iteration is 0.16125\n",
      "iteration 130 dt is 0.00125, time of iteration is 0.1625\n",
      "iteration 131 dt is 0.00125, time of iteration is 0.16375\n",
      "iteration 132 dt is 0.00125, time of iteration is 0.165\n",
      "iteration 133 dt is 0.00125, time of iteration is 0.16625\n",
      "iteration 134 dt is 0.00125, time of iteration is 0.1675\n",
      "iteration 135 dt is 0.00125, time of iteration is 0.16875\n",
      "iteration 136 dt is 0.00125, time of iteration is 0.17\n",
      "iteration 137 dt is 0.00125, time of iteration is 0.17125\n",
      "iteration 138 dt is 0.00125, time of iteration is 0.1725\n",
      "iteration 139 dt is 0.00125, time of iteration is 0.17375\n",
      "iteration 140 dt is 0.00125, time of iteration is 0.175\n",
      "iteration 141 dt is 0.00125, time of iteration is 0.17625\n",
      "iteration 142 dt is 0.00125, time of iteration is 0.1775\n",
      "iteration 143 dt is 0.00125, time of iteration is 0.17875\n",
      "iteration 144 dt is 0.00125, time of iteration is 0.18\n",
      "iteration 145 dt is 0.00125, time of iteration is 0.18125\n",
      "iteration 146 dt is 0.00125, time of iteration is 0.1825\n"
     ]
    },
    {
     "name": "stdout",
     "output_type": "stream",
     "text": [
      "iteration 147 dt is 0.00125, time of iteration is 0.18375\n",
      "iteration 148 dt is 0.00125, time of iteration is 0.185\n",
      "iteration 149 dt is 0.00125, time of iteration is 0.18625\n",
      "iteration 150 dt is 0.00125, time of iteration is 0.1875\n",
      "iteration 151 dt is 0.00125, time of iteration is 0.18875\n",
      "iteration 152 dt is 0.00125, time of iteration is 0.19\n",
      "iteration 153 dt is 0.00125, time of iteration is 0.19125\n",
      "iteration 154 dt is 0.00125, time of iteration is 0.1925\n",
      "iteration 155 dt is 0.00125, time of iteration is 0.19375\n",
      "iteration 156 dt is 0.00125, time of iteration is 0.195\n",
      "iteration 157 dt is 0.00125, time of iteration is 0.19625\n",
      "iteration 158 dt is 0.00125, time of iteration is 0.1975\n",
      "iteration 159 dt is 0.00125, time of iteration is 0.19875\n",
      "iteration 160 dt is 0.00125, time of iteration is 0.2\n",
      "iteration 161 dt is 0.00125, time of iteration is 0.20125\n",
      "iteration 162 dt is 0.00125, time of iteration is 0.2025\n",
      "iteration 163 dt is 0.00125, time of iteration is 0.20375\n",
      "iteration 164 dt is 0.00125, time of iteration is 0.205\n",
      "iteration 165 dt is 0.00125, time of iteration is 0.20625\n",
      "iteration 166 dt is 0.00125, time of iteration is 0.2075\n",
      "iteration 167 dt is 0.00125, time of iteration is 0.20875\n",
      "iteration 168 dt is 0.00125, time of iteration is 0.21\n",
      "iteration 169 dt is 0.00125, time of iteration is 0.21125\n",
      "iteration 170 dt is 0.00125, time of iteration is 0.2125\n",
      "iteration 171 dt is 0.00125, time of iteration is 0.21375\n",
      "iteration 172 dt is 0.00125, time of iteration is 0.215\n",
      "iteration 173 dt is 0.00125, time of iteration is 0.21625\n",
      "iteration 174 dt is 0.00125, time of iteration is 0.2175\n",
      "iteration 175 dt is 0.00125, time of iteration is 0.21875\n",
      "iteration 176 dt is 0.00125, time of iteration is 0.22\n",
      "iteration 177 dt is 0.00125, time of iteration is 0.22125\n",
      "iteration 178 dt is 0.00125, time of iteration is 0.2225\n",
      "iteration 179 dt is 0.00125, time of iteration is 0.22375\n",
      "iteration 180 dt is 0.00125, time of iteration is 0.225\n",
      "iteration 181 dt is 0.00125, time of iteration is 0.22625\n",
      "iteration 182 dt is 0.00125, time of iteration is 0.2275\n",
      "iteration 183 dt is 0.00125, time of iteration is 0.22875\n",
      "iteration 184 dt is 0.00125, time of iteration is 0.23\n",
      "iteration 185 dt is 0.00125, time of iteration is 0.23125\n",
      "iteration 186 dt is 0.00125, time of iteration is 0.2325\n",
      "iteration 187 dt is 0.00125, time of iteration is 0.23375\n",
      "iteration 188 dt is 0.00125, time of iteration is 0.235\n",
      "iteration 189 dt is 0.00125, time of iteration is 0.23625\n",
      "iteration 190 dt is 0.00125, time of iteration is 0.2375\n",
      "iteration 191 dt is 0.00125, time of iteration is 0.23875\n",
      "iteration 192 dt is 0.00125, time of iteration is 0.24\n",
      "iteration 193 dt is 0.00125, time of iteration is 0.24125\n",
      "iteration 194 dt is 0.00125, time of iteration is 0.2425\n",
      "iteration 195 dt is 0.00125, time of iteration is 0.24375\n",
      "iteration 196 dt is 0.00125, time of iteration is 0.245\n",
      "iteration 197 dt is 0.00125, time of iteration is 0.24625\n",
      "iteration 198 dt is 0.00125, time of iteration is 0.2475\n",
      "iteration 199 dt is 0.00125, time of iteration is 0.24875\n",
      "iteration 200 dt is 0.00125, time of iteration is 0.25\n",
      "iteration 201 dt is 0.00125, time of iteration is 0.25125\n",
      "iteration 202 dt is 0.00125, time of iteration is 0.2525\n",
      "iteration 203 dt is 0.00125, time of iteration is 0.25375\n",
      "iteration 204 dt is 0.00125, time of iteration is 0.255\n",
      "iteration 205 dt is 0.00125, time of iteration is 0.25625\n",
      "iteration 206 dt is 0.00125, time of iteration is 0.2575\n",
      "iteration 207 dt is 0.00125, time of iteration is 0.25875\n",
      "iteration 208 dt is 0.00125, time of iteration is 0.26\n",
      "iteration 209 dt is 0.00125, time of iteration is 0.26125\n",
      "iteration 210 dt is 0.00125, time of iteration is 0.2625\n",
      "iteration 211 dt is 0.00125, time of iteration is 0.26375\n",
      "iteration 212 dt is 0.00125, time of iteration is 0.265\n",
      "iteration 213 dt is 0.00125, time of iteration is 0.26625\n",
      "iteration 214 dt is 0.00125, time of iteration is 0.2675\n",
      "iteration 215 dt is 0.00125, time of iteration is 0.26875\n",
      "iteration 216 dt is 0.00125, time of iteration is 0.27\n",
      "iteration 217 dt is 0.00125, time of iteration is 0.27125\n",
      "iteration 218 dt is 0.00125, time of iteration is 0.2725\n",
      "iteration 219 dt is 0.00125, time of iteration is 0.27375\n",
      "iteration 220 dt is 0.00125, time of iteration is 0.275\n",
      "iteration 221 dt is 0.00125, time of iteration is 0.27625\n",
      "iteration 222 dt is 0.00125, time of iteration is 0.2775\n",
      "iteration 223 dt is 0.00125, time of iteration is 0.27875\n",
      "iteration 224 dt is 0.00125, time of iteration is 0.28\n",
      "iteration 225 dt is 0.00125, time of iteration is 0.28125\n",
      "iteration 226 dt is 0.00125, time of iteration is 0.2825\n",
      "iteration 227 dt is 0.00125, time of iteration is 0.28375\n",
      "iteration 228 dt is 0.00125, time of iteration is 0.285\n",
      "iteration 229 dt is 0.00125, time of iteration is 0.28625\n",
      "iteration 230 dt is 0.00125, time of iteration is 0.2875\n",
      "iteration 231 dt is 0.00125, time of iteration is 0.28875\n",
      "iteration 232 dt is 0.00125, time of iteration is 0.29\n",
      "iteration 233 dt is 0.00125, time of iteration is 0.29125\n",
      "iteration 234 dt is 0.00125, time of iteration is 0.2925\n",
      "iteration 235 dt is 0.00125, time of iteration is 0.29375\n",
      "iteration 236 dt is 0.00125, time of iteration is 0.295\n",
      "iteration 237 dt is 0.00125, time of iteration is 0.29625\n",
      "iteration 238 dt is 0.00125, time of iteration is 0.2975\n",
      "iteration 239 dt is 0.00125, time of iteration is 0.29875\n",
      "iteration 240 dt is 0.00125, time of iteration is 0.3\n",
      "iteration 241 dt is 0.00125, time of iteration is 0.30125\n",
      "iteration 242 dt is 0.00125, time of iteration is 0.3025\n",
      "iteration 243 dt is 0.00125, time of iteration is 0.30375\n",
      "iteration 244 dt is 0.00125, time of iteration is 0.305\n",
      "iteration 245 dt is 0.00125, time of iteration is 0.30625\n",
      "iteration 246 dt is 0.00125, time of iteration is 0.3075\n",
      "iteration 247 dt is 0.00125, time of iteration is 0.30875\n",
      "iteration 248 dt is 0.00125, time of iteration is 0.31\n",
      "iteration 249 dt is 0.00125, time of iteration is 0.31125\n",
      "iteration 250 dt is 0.00125, time of iteration is 0.3125\n",
      "iteration 251 dt is 0.00125, time of iteration is 0.31375\n",
      "iteration 252 dt is 0.00125, time of iteration is 0.315\n",
      "iteration 253 dt is 0.00125, time of iteration is 0.31625\n",
      "iteration 254 dt is 0.00125, time of iteration is 0.3175\n",
      "iteration 255 dt is 0.00125, time of iteration is 0.31875\n",
      "iteration 256 dt is 0.00125, time of iteration is 0.32\n",
      "iteration 257 dt is 0.00125, time of iteration is 0.32125\n",
      "iteration 258 dt is 0.00125, time of iteration is 0.3225\n",
      "iteration 259 dt is 0.00125, time of iteration is 0.32375\n",
      "iteration 260 dt is 0.00125, time of iteration is 0.325\n",
      "iteration 261 dt is 0.00125, time of iteration is 0.32625\n",
      "iteration 262 dt is 0.00125, time of iteration is 0.3275\n",
      "iteration 263 dt is 0.00125, time of iteration is 0.32875\n",
      "iteration 264 dt is 0.00125, time of iteration is 0.33\n",
      "iteration 265 dt is 0.00125, time of iteration is 0.33125\n",
      "iteration 266 dt is 0.00125, time of iteration is 0.3325\n",
      "iteration 267 dt is 0.00125, time of iteration is 0.33375\n",
      "iteration 268 dt is 0.00125, time of iteration is 0.335\n",
      "iteration 269 dt is 0.00125, time of iteration is 0.33625\n",
      "iteration 270 dt is 0.00125, time of iteration is 0.3375\n",
      "iteration 271 dt is 0.00125, time of iteration is 0.33875\n",
      "iteration 272 dt is 0.00125, time of iteration is 0.34\n",
      "iteration 273 dt is 0.00125, time of iteration is 0.34125\n",
      "iteration 274 dt is 0.00125, time of iteration is 0.3425\n",
      "iteration 275 dt is 0.00125, time of iteration is 0.34375\n",
      "iteration 276 dt is 0.00125, time of iteration is 0.345\n",
      "iteration 277 dt is 0.00125, time of iteration is 0.34625\n",
      "iteration 278 dt is 0.00125, time of iteration is 0.3475\n",
      "iteration 279 dt is 0.00125, time of iteration is 0.34875\n",
      "iteration 280 dt is 0.00125, time of iteration is 0.35\n",
      "iteration 281 dt is 0.00125, time of iteration is 0.35125\n",
      "iteration 282 dt is 0.00125, time of iteration is 0.3525\n",
      "iteration 283 dt is 0.00125, time of iteration is 0.35375\n",
      "iteration 284 dt is 0.00125, time of iteration is 0.355\n",
      "iteration 285 dt is 0.00125, time of iteration is 0.35625\n",
      "iteration 286 dt is 0.00125, time of iteration is 0.3575\n",
      "iteration 287 dt is 0.00125, time of iteration is 0.35875\n",
      "iteration 288 dt is 0.00125, time of iteration is 0.36\n",
      "iteration 289 dt is 0.00125, time of iteration is 0.36125\n",
      "iteration 290 dt is 0.00125, time of iteration is 0.3625\n",
      "iteration 291 dt is 0.00125, time of iteration is 0.36375\n"
     ]
    },
    {
     "name": "stdout",
     "output_type": "stream",
     "text": [
      "iteration 292 dt is 0.00125, time of iteration is 0.365\n",
      "iteration 293 dt is 0.00125, time of iteration is 0.36625\n",
      "iteration 294 dt is 0.00125, time of iteration is 0.3675\n",
      "iteration 295 dt is 0.00125, time of iteration is 0.36875\n",
      "iteration 296 dt is 0.00125, time of iteration is 0.37\n",
      "iteration 297 dt is 0.00125, time of iteration is 0.37125\n",
      "iteration 298 dt is 0.00125, time of iteration is 0.3725\n",
      "iteration 299 dt is 0.00125, time of iteration is 0.37375\n",
      "iteration 300 dt is 0.00125, time of iteration is 0.375\n",
      "iteration 301 dt is 0.00125, time of iteration is 0.37625\n",
      "iteration 302 dt is 0.00125, time of iteration is 0.3775\n",
      "iteration 303 dt is 0.00125, time of iteration is 0.37875\n",
      "iteration 304 dt is 0.00125, time of iteration is 0.38\n",
      "iteration 305 dt is 0.00125, time of iteration is 0.38125\n",
      "iteration 306 dt is 0.00125, time of iteration is 0.3825\n",
      "iteration 307 dt is 0.00125, time of iteration is 0.38375\n",
      "iteration 308 dt is 0.00125, time of iteration is 0.385\n",
      "iteration 309 dt is 0.00125, time of iteration is 0.38625\n",
      "iteration 310 dt is 0.00125, time of iteration is 0.3875\n",
      "iteration 311 dt is 0.00125, time of iteration is 0.38875\n",
      "iteration 312 dt is 0.00125, time of iteration is 0.39\n",
      "iteration 313 dt is 0.00125, time of iteration is 0.39125\n",
      "iteration 314 dt is 0.00125, time of iteration is 0.3925\n",
      "iteration 315 dt is 0.00125, time of iteration is 0.39375\n",
      "iteration 316 dt is 0.00125, time of iteration is 0.395\n",
      "iteration 317 dt is 0.00125, time of iteration is 0.39625\n",
      "iteration 318 dt is 0.00125, time of iteration is 0.3975\n",
      "iteration 319 dt is 0.00125, time of iteration is 0.39875\n",
      "iteration 320 dt is 0.00125, time of iteration is 0.4\n",
      "iteration 321 dt is 0.00125, time of iteration is 0.40125\n",
      "iteration 322 dt is 0.00125, time of iteration is 0.4025\n",
      "iteration 323 dt is 0.00125, time of iteration is 0.40375\n",
      "iteration 324 dt is 0.00125, time of iteration is 0.405\n",
      "iteration 325 dt is 0.00125, time of iteration is 0.40625\n",
      "iteration 326 dt is 0.00125, time of iteration is 0.4075\n",
      "iteration 327 dt is 0.00125, time of iteration is 0.40875\n",
      "iteration 328 dt is 0.00125, time of iteration is 0.41\n",
      "iteration 329 dt is 0.00125, time of iteration is 0.41125\n",
      "iteration 330 dt is 0.00125, time of iteration is 0.4125\n",
      "iteration 331 dt is 0.00125, time of iteration is 0.41375\n",
      "iteration 332 dt is 0.00125, time of iteration is 0.415\n",
      "iteration 333 dt is 0.00125, time of iteration is 0.41625\n",
      "iteration 334 dt is 0.00125, time of iteration is 0.4175\n",
      "iteration 335 dt is 0.00125, time of iteration is 0.41875\n",
      "iteration 336 dt is 0.00125, time of iteration is 0.42\n",
      "iteration 337 dt is 0.00125, time of iteration is 0.42125\n",
      "iteration 338 dt is 0.00125, time of iteration is 0.4225\n",
      "iteration 339 dt is 0.00125, time of iteration is 0.42375\n",
      "iteration 340 dt is 0.00125, time of iteration is 0.425\n",
      "iteration 341 dt is 0.00125, time of iteration is 0.42625\n",
      "iteration 342 dt is 0.00125, time of iteration is 0.4275\n",
      "iteration 343 dt is 0.00125, time of iteration is 0.42875\n",
      "iteration 344 dt is 0.00125, time of iteration is 0.43\n",
      "iteration 345 dt is 0.00125, time of iteration is 0.43125\n",
      "iteration 346 dt is 0.00125, time of iteration is 0.4325\n",
      "iteration 347 dt is 0.00125, time of iteration is 0.43375\n",
      "iteration 348 dt is 0.00125, time of iteration is 0.435\n",
      "iteration 349 dt is 0.00125, time of iteration is 0.43625\n",
      "iteration 350 dt is 0.00125, time of iteration is 0.4375\n",
      "iteration 351 dt is 0.00125, time of iteration is 0.43875\n",
      "iteration 352 dt is 0.00125, time of iteration is 0.44\n",
      "iteration 353 dt is 0.00125, time of iteration is 0.44125\n",
      "iteration 354 dt is 0.00125, time of iteration is 0.4425\n",
      "iteration 355 dt is 0.00125, time of iteration is 0.44375\n",
      "iteration 356 dt is 0.00125, time of iteration is 0.445\n",
      "iteration 357 dt is 0.00125, time of iteration is 0.44625\n",
      "iteration 358 dt is 0.00125, time of iteration is 0.4475\n",
      "iteration 359 dt is 0.00125, time of iteration is 0.44875\n",
      "iteration 360 dt is 0.00125, time of iteration is 0.45\n",
      "iteration 361 dt is 0.00125, time of iteration is 0.45125\n",
      "iteration 362 dt is 0.00125, time of iteration is 0.4525\n",
      "iteration 363 dt is 0.00125, time of iteration is 0.45375\n",
      "iteration 364 dt is 0.00125, time of iteration is 0.455\n",
      "iteration 365 dt is 0.00125, time of iteration is 0.45625\n",
      "iteration 366 dt is 0.00125, time of iteration is 0.4575\n",
      "iteration 367 dt is 0.00125, time of iteration is 0.45875\n",
      "iteration 368 dt is 0.00125, time of iteration is 0.46\n",
      "iteration 369 dt is 0.00125, time of iteration is 0.46125\n",
      "iteration 370 dt is 0.00125, time of iteration is 0.4625\n",
      "iteration 371 dt is 0.00125, time of iteration is 0.46375\n",
      "iteration 372 dt is 0.00125, time of iteration is 0.465\n",
      "iteration 373 dt is 0.00125, time of iteration is 0.46625\n",
      "iteration 374 dt is 0.00125, time of iteration is 0.4675\n",
      "iteration 375 dt is 0.00125, time of iteration is 0.46875\n",
      "iteration 376 dt is 0.00125, time of iteration is 0.47\n",
      "iteration 377 dt is 0.00125, time of iteration is 0.47125\n",
      "iteration 378 dt is 0.00125, time of iteration is 0.4725\n",
      "iteration 379 dt is 0.00125, time of iteration is 0.47375\n",
      "iteration 380 dt is 0.00125, time of iteration is 0.475\n",
      "iteration 381 dt is 0.00125, time of iteration is 0.47625\n",
      "iteration 382 dt is 0.00125, time of iteration is 0.4775\n",
      "iteration 383 dt is 0.00125, time of iteration is 0.47875\n",
      "iteration 384 dt is 0.00125, time of iteration is 0.48\n",
      "iteration 385 dt is 0.00125, time of iteration is 0.48125\n",
      "iteration 386 dt is 0.00125, time of iteration is 0.4825\n",
      "iteration 387 dt is 0.00125, time of iteration is 0.48375\n",
      "iteration 388 dt is 0.00125, time of iteration is 0.485\n",
      "iteration 389 dt is 0.00125, time of iteration is 0.48625\n",
      "iteration 390 dt is 0.00125, time of iteration is 0.4875\n",
      "iteration 391 dt is 0.00125, time of iteration is 0.48875\n",
      "iteration 392 dt is 0.00125, time of iteration is 0.49\n",
      "iteration 393 dt is 0.00125, time of iteration is 0.49125\n",
      "iteration 394 dt is 0.00125, time of iteration is 0.4925\n",
      "iteration 395 dt is 0.00125, time of iteration is 0.49375\n",
      "iteration 396 dt is 0.00125, time of iteration is 0.495\n",
      "iteration 397 dt is 0.00125, time of iteration is 0.49625\n",
      "iteration 398 dt is 0.00125, time of iteration is 0.4975\n",
      "iteration 399 dt is 0.00125, time of iteration is 0.49875\n",
      "iteration 400 dt is 0.00125, time of iteration is 0.5\n",
      "iteration 401 dt is 0.00125, time of iteration is 0.50125\n",
      "iteration 402 dt is 0.00125, time of iteration is 0.5025\n",
      "iteration 403 dt is 0.00125, time of iteration is 0.50375\n",
      "iteration 404 dt is 0.00125, time of iteration is 0.505\n",
      "iteration 405 dt is 0.00125, time of iteration is 0.50625\n",
      "iteration 406 dt is 0.00125, time of iteration is 0.5075\n",
      "iteration 407 dt is 0.00125, time of iteration is 0.50875\n",
      "iteration 408 dt is 0.00125, time of iteration is 0.51\n",
      "iteration 409 dt is 0.00125, time of iteration is 0.51125\n",
      "iteration 410 dt is 0.00125, time of iteration is 0.5125\n",
      "iteration 411 dt is 0.00125, time of iteration is 0.51375\n",
      "iteration 412 dt is 0.00125, time of iteration is 0.515\n",
      "iteration 413 dt is 0.00125, time of iteration is 0.51625\n",
      "iteration 414 dt is 0.00125, time of iteration is 0.5175\n",
      "iteration 415 dt is 0.00125, time of iteration is 0.51875\n",
      "iteration 416 dt is 0.00125, time of iteration is 0.52\n",
      "iteration 417 dt is 0.00125, time of iteration is 0.52125\n",
      "iteration 418 dt is 0.00125, time of iteration is 0.5225\n",
      "iteration 419 dt is 0.00125, time of iteration is 0.52375\n",
      "iteration 420 dt is 0.00125, time of iteration is 0.525\n",
      "iteration 421 dt is 0.00125, time of iteration is 0.52625\n",
      "iteration 422 dt is 0.00125, time of iteration is 0.5275\n",
      "iteration 423 dt is 0.00125, time of iteration is 0.52875\n",
      "iteration 424 dt is 0.00125, time of iteration is 0.53\n",
      "iteration 425 dt is 0.00125, time of iteration is 0.53125\n",
      "iteration 426 dt is 0.00125, time of iteration is 0.5325\n",
      "iteration 427 dt is 0.00125, time of iteration is 0.53375\n",
      "iteration 428 dt is 0.00125, time of iteration is 0.535\n",
      "iteration 429 dt is 0.00125, time of iteration is 0.53625\n",
      "iteration 430 dt is 0.00125, time of iteration is 0.5375\n",
      "iteration 431 dt is 0.00125, time of iteration is 0.53875\n",
      "iteration 432 dt is 0.00125, time of iteration is 0.54\n",
      "iteration 433 dt is 0.00125, time of iteration is 0.54125\n",
      "iteration 434 dt is 0.00125, time of iteration is 0.5425\n",
      "iteration 435 dt is 0.00125, time of iteration is 0.54375\n",
      "iteration 436 dt is 0.00125, time of iteration is 0.545\n"
     ]
    },
    {
     "name": "stdout",
     "output_type": "stream",
     "text": [
      "iteration 437 dt is 0.00125, time of iteration is 0.54625\n",
      "iteration 438 dt is 0.00125, time of iteration is 0.5475\n",
      "iteration 439 dt is 0.00125, time of iteration is 0.54875\n",
      "iteration 440 dt is 0.00125, time of iteration is 0.55\n",
      "iteration 441 dt is 0.00125, time of iteration is 0.55125\n",
      "iteration 442 dt is 0.00125, time of iteration is 0.5525\n",
      "iteration 443 dt is 0.00125, time of iteration is 0.55375\n",
      "iteration 444 dt is 0.00125, time of iteration is 0.555\n",
      "iteration 445 dt is 0.00125, time of iteration is 0.55625\n",
      "iteration 446 dt is 0.00125, time of iteration is 0.5575\n",
      "iteration 447 dt is 0.00125, time of iteration is 0.55875\n",
      "iteration 448 dt is 0.00125, time of iteration is 0.56\n",
      "iteration 449 dt is 0.00125, time of iteration is 0.56125\n",
      "iteration 450 dt is 0.00125, time of iteration is 0.5625\n",
      "iteration 451 dt is 0.00125, time of iteration is 0.56375\n",
      "iteration 452 dt is 0.00125, time of iteration is 0.565\n",
      "iteration 453 dt is 0.00125, time of iteration is 0.56625\n",
      "iteration 454 dt is 0.00125, time of iteration is 0.5675\n",
      "iteration 455 dt is 0.00125, time of iteration is 0.56875\n",
      "iteration 456 dt is 0.00125, time of iteration is 0.57\n",
      "iteration 457 dt is 0.00125, time of iteration is 0.57125\n",
      "iteration 458 dt is 0.00125, time of iteration is 0.5725\n",
      "iteration 459 dt is 0.00125, time of iteration is 0.57375\n",
      "iteration 460 dt is 0.00125, time of iteration is 0.575\n",
      "iteration 461 dt is 0.00125, time of iteration is 0.57625\n",
      "iteration 462 dt is 0.00125, time of iteration is 0.5775\n",
      "iteration 463 dt is 0.00125, time of iteration is 0.57875\n",
      "iteration 464 dt is 0.00125, time of iteration is 0.58\n",
      "iteration 465 dt is 0.00125, time of iteration is 0.58125\n",
      "iteration 466 dt is 0.00125, time of iteration is 0.5825\n",
      "iteration 467 dt is 0.00125, time of iteration is 0.58375\n",
      "iteration 468 dt is 0.00125, time of iteration is 0.585\n",
      "iteration 469 dt is 0.00125, time of iteration is 0.58625\n",
      "iteration 470 dt is 0.00125, time of iteration is 0.5875\n",
      "iteration 471 dt is 0.00125, time of iteration is 0.58875\n",
      "iteration 472 dt is 0.00125, time of iteration is 0.59\n",
      "iteration 473 dt is 0.00125, time of iteration is 0.59125\n",
      "iteration 474 dt is 0.00125, time of iteration is 0.5925\n",
      "iteration 475 dt is 0.00125, time of iteration is 0.59375\n",
      "iteration 476 dt is 0.00125, time of iteration is 0.595\n",
      "iteration 477 dt is 0.00125, time of iteration is 0.59625\n",
      "iteration 478 dt is 0.00125, time of iteration is 0.5975\n",
      "iteration 479 dt is 0.00125, time of iteration is 0.59875\n",
      "iteration 480 dt is 0.00125, time of iteration is 0.6\n",
      "iteration 481 dt is 0.00125, time of iteration is 0.60125\n",
      "iteration 482 dt is 0.00125, time of iteration is 0.6025\n",
      "iteration 483 dt is 0.00125, time of iteration is 0.60375\n",
      "iteration 484 dt is 0.00125, time of iteration is 0.605\n",
      "iteration 485 dt is 0.00125, time of iteration is 0.60625\n",
      "iteration 486 dt is 0.00125, time of iteration is 0.6075\n",
      "iteration 487 dt is 0.00125, time of iteration is 0.60875\n",
      "iteration 488 dt is 0.00125, time of iteration is 0.61\n",
      "iteration 489 dt is 0.00125, time of iteration is 0.61125\n",
      "iteration 490 dt is 0.00125, time of iteration is 0.6125\n",
      "iteration 491 dt is 0.00125, time of iteration is 0.61375\n",
      "iteration 492 dt is 0.00125, time of iteration is 0.615\n",
      "iteration 493 dt is 0.00125, time of iteration is 0.61625\n",
      "iteration 494 dt is 0.00125, time of iteration is 0.6175\n",
      "iteration 495 dt is 0.00125, time of iteration is 0.61875\n",
      "iteration 496 dt is 0.00125, time of iteration is 0.62\n",
      "iteration 497 dt is 0.00125, time of iteration is 0.62125\n",
      "iteration 498 dt is 0.00125, time of iteration is 0.6225\n",
      "iteration 499 dt is 0.00125, time of iteration is 0.62375\n",
      "iteration 500 dt is 0.00125, time of iteration is 0.625\n",
      "iteration 501 dt is 0.00125, time of iteration is 0.62625\n",
      "iteration 502 dt is 0.00125, time of iteration is 0.6275\n",
      "iteration 503 dt is 0.00125, time of iteration is 0.62875\n",
      "iteration 504 dt is 0.00125, time of iteration is 0.63\n",
      "iteration 505 dt is 0.00125, time of iteration is 0.63125\n",
      "iteration 506 dt is 0.00125, time of iteration is 0.6325\n",
      "iteration 507 dt is 0.00125, time of iteration is 0.63375\n",
      "iteration 508 dt is 0.00125, time of iteration is 0.635\n",
      "iteration 509 dt is 0.00125, time of iteration is 0.63625\n",
      "iteration 510 dt is 0.00125, time of iteration is 0.6375\n",
      "iteration 511 dt is 0.00125, time of iteration is 0.63875\n",
      "iteration 512 dt is 0.00125, time of iteration is 0.64\n",
      "iteration 513 dt is 0.00125, time of iteration is 0.64125\n",
      "iteration 514 dt is 0.00125, time of iteration is 0.6425\n",
      "iteration 515 dt is 0.00125, time of iteration is 0.64375\n",
      "iteration 516 dt is 0.00125, time of iteration is 0.645\n",
      "iteration 517 dt is 0.00125, time of iteration is 0.64625\n",
      "iteration 518 dt is 0.00125, time of iteration is 0.6475\n",
      "iteration 519 dt is 0.00125, time of iteration is 0.64875\n",
      "iteration 520 dt is 0.00125, time of iteration is 0.65\n",
      "iteration 521 dt is 0.00125, time of iteration is 0.65125\n",
      "iteration 522 dt is 0.00125, time of iteration is 0.6525\n",
      "iteration 523 dt is 0.00125, time of iteration is 0.65375\n",
      "iteration 524 dt is 0.00125, time of iteration is 0.655\n",
      "iteration 525 dt is 0.00125, time of iteration is 0.65625\n",
      "iteration 526 dt is 0.00125, time of iteration is 0.6575\n",
      "iteration 527 dt is 0.00125, time of iteration is 0.65875\n",
      "iteration 528 dt is 0.00125, time of iteration is 0.66\n",
      "iteration 529 dt is 0.00125, time of iteration is 0.66125\n",
      "iteration 530 dt is 0.00125, time of iteration is 0.6625\n",
      "iteration 531 dt is 0.00125, time of iteration is 0.66375\n",
      "iteration 532 dt is 0.00125, time of iteration is 0.665\n",
      "iteration 533 dt is 0.00125, time of iteration is 0.66625\n",
      "iteration 534 dt is 0.00125, time of iteration is 0.6675\n",
      "iteration 535 dt is 0.00125, time of iteration is 0.66875\n",
      "iteration 536 dt is 0.00125, time of iteration is 0.67\n",
      "iteration 537 dt is 0.00125, time of iteration is 0.67125\n",
      "iteration 538 dt is 0.00125, time of iteration is 0.6725\n",
      "iteration 539 dt is 0.00125, time of iteration is 0.67375\n",
      "iteration 540 dt is 0.00125, time of iteration is 0.675\n",
      "iteration 541 dt is 0.00125, time of iteration is 0.67625\n",
      "iteration 542 dt is 0.00125, time of iteration is 0.6775\n",
      "iteration 543 dt is 0.00125, time of iteration is 0.67875\n",
      "iteration 544 dt is 0.00125, time of iteration is 0.68\n",
      "iteration 545 dt is 0.00125, time of iteration is 0.68125\n",
      "iteration 546 dt is 0.00125, time of iteration is 0.6825\n",
      "iteration 547 dt is 0.00125, time of iteration is 0.68375\n",
      "iteration 548 dt is 0.00125, time of iteration is 0.685\n",
      "iteration 549 dt is 0.00125, time of iteration is 0.68625\n",
      "iteration 550 dt is 0.00125, time of iteration is 0.6875\n",
      "iteration 551 dt is 0.00125, time of iteration is 0.68875\n",
      "iteration 552 dt is 0.00125, time of iteration is 0.69\n",
      "iteration 553 dt is 0.00125, time of iteration is 0.69125\n",
      "iteration 554 dt is 0.00125, time of iteration is 0.6925\n",
      "iteration 555 dt is 0.00125, time of iteration is 0.69375\n",
      "iteration 556 dt is 0.00125, time of iteration is 0.695\n",
      "iteration 557 dt is 0.00125, time of iteration is 0.69625\n",
      "iteration 558 dt is 0.00125, time of iteration is 0.6975\n",
      "iteration 559 dt is 0.00125, time of iteration is 0.69875\n",
      "iteration 560 dt is 0.00125, time of iteration is 0.7\n",
      "iteration 561 dt is 0.00125, time of iteration is 0.70125\n",
      "iteration 562 dt is 0.00125, time of iteration is 0.7025\n",
      "iteration 563 dt is 0.00125, time of iteration is 0.70375\n",
      "iteration 564 dt is 0.00125, time of iteration is 0.705\n",
      "iteration 565 dt is 0.00125, time of iteration is 0.70625\n",
      "iteration 566 dt is 0.00125, time of iteration is 0.7075\n",
      "iteration 567 dt is 0.00125, time of iteration is 0.70875\n",
      "iteration 568 dt is 0.00125, time of iteration is 0.71\n",
      "iteration 569 dt is 0.00125, time of iteration is 0.71125\n",
      "iteration 570 dt is 0.00125, time of iteration is 0.7125\n",
      "iteration 571 dt is 0.00125, time of iteration is 0.71375\n",
      "iteration 572 dt is 0.00125, time of iteration is 0.715\n",
      "iteration 573 dt is 0.00125, time of iteration is 0.71625\n",
      "iteration 574 dt is 0.00125, time of iteration is 0.7175\n",
      "iteration 575 dt is 0.00125, time of iteration is 0.71875\n",
      "iteration 576 dt is 0.00125, time of iteration is 0.72\n",
      "iteration 577 dt is 0.00125, time of iteration is 0.72125\n",
      "iteration 578 dt is 0.00125, time of iteration is 0.7225\n",
      "iteration 579 dt is 0.00125, time of iteration is 0.72375\n",
      "iteration 580 dt is 0.00125, time of iteration is 0.725\n",
      "iteration 581 dt is 0.00125, time of iteration is 0.72625\n"
     ]
    },
    {
     "name": "stdout",
     "output_type": "stream",
     "text": [
      "iteration 582 dt is 0.00125, time of iteration is 0.7275\n",
      "iteration 583 dt is 0.00125, time of iteration is 0.72875\n",
      "iteration 584 dt is 0.00125, time of iteration is 0.73\n",
      "iteration 585 dt is 0.00125, time of iteration is 0.73125\n",
      "iteration 586 dt is 0.00125, time of iteration is 0.7325\n",
      "iteration 587 dt is 0.00125, time of iteration is 0.73375\n",
      "iteration 588 dt is 0.00125, time of iteration is 0.735\n",
      "iteration 589 dt is 0.00125, time of iteration is 0.73625\n",
      "iteration 590 dt is 0.00125, time of iteration is 0.7375\n",
      "iteration 591 dt is 0.00125, time of iteration is 0.73875\n",
      "iteration 592 dt is 0.00125, time of iteration is 0.74\n",
      "iteration 593 dt is 0.00125, time of iteration is 0.74125\n",
      "iteration 594 dt is 0.00125, time of iteration is 0.7425\n",
      "iteration 595 dt is 0.00125, time of iteration is 0.74375\n",
      "iteration 596 dt is 0.00125, time of iteration is 0.745\n",
      "iteration 597 dt is 0.00125, time of iteration is 0.74625\n",
      "iteration 598 dt is 0.00125, time of iteration is 0.7475\n",
      "iteration 599 dt is 0.00125, time of iteration is 0.74875\n",
      "iteration 600 dt is 0.00125, time of iteration is 0.75\n",
      "iteration 601 dt is 0.00125, time of iteration is 0.75125\n",
      "iteration 602 dt is 0.00125, time of iteration is 0.7525\n",
      "iteration 603 dt is 0.00125, time of iteration is 0.75375\n",
      "iteration 604 dt is 0.00125, time of iteration is 0.755\n",
      "iteration 605 dt is 0.00125, time of iteration is 0.75625\n",
      "iteration 606 dt is 0.00125, time of iteration is 0.7575\n",
      "iteration 607 dt is 0.00125, time of iteration is 0.75875\n",
      "iteration 608 dt is 0.00125, time of iteration is 0.76\n",
      "iteration 609 dt is 0.00125, time of iteration is 0.76125\n",
      "iteration 610 dt is 0.00125, time of iteration is 0.7625\n",
      "iteration 611 dt is 0.00125, time of iteration is 0.76375\n",
      "iteration 612 dt is 0.00125, time of iteration is 0.765\n",
      "iteration 613 dt is 0.00125, time of iteration is 0.76625\n",
      "iteration 614 dt is 0.00125, time of iteration is 0.7675\n",
      "iteration 615 dt is 0.00125, time of iteration is 0.76875\n",
      "iteration 616 dt is 0.00125, time of iteration is 0.77\n",
      "iteration 617 dt is 0.00125, time of iteration is 0.77125\n",
      "iteration 618 dt is 0.00125, time of iteration is 0.7725\n",
      "iteration 619 dt is 0.00125, time of iteration is 0.77375\n",
      "iteration 620 dt is 0.00125, time of iteration is 0.775\n",
      "iteration 621 dt is 0.00125, time of iteration is 0.77625\n",
      "iteration 622 dt is 0.00125, time of iteration is 0.7775\n",
      "iteration 623 dt is 0.00125, time of iteration is 0.77875\n",
      "iteration 624 dt is 0.00125, time of iteration is 0.78\n",
      "iteration 625 dt is 0.00125, time of iteration is 0.78125\n",
      "iteration 626 dt is 0.00125, time of iteration is 0.7825\n",
      "iteration 627 dt is 0.00125, time of iteration is 0.78375\n",
      "iteration 628 dt is 0.00125, time of iteration is 0.785\n",
      "iteration 629 dt is 0.00125, time of iteration is 0.78625\n",
      "iteration 630 dt is 0.00125, time of iteration is 0.7875\n",
      "iteration 631 dt is 0.00125, time of iteration is 0.78875\n",
      "iteration 632 dt is 0.00125, time of iteration is 0.79\n",
      "iteration 633 dt is 0.00125, time of iteration is 0.79125\n",
      "iteration 634 dt is 0.00125, time of iteration is 0.7925\n",
      "iteration 635 dt is 0.00125, time of iteration is 0.79375\n",
      "iteration 636 dt is 0.00125, time of iteration is 0.795\n",
      "iteration 637 dt is 0.00125, time of iteration is 0.79625\n",
      "iteration 638 dt is 0.00125, time of iteration is 0.7975\n",
      "iteration 639 dt is 0.00125, time of iteration is 0.79875\n",
      "iteration 640 dt is 0.00125, time of iteration is 0.8\n",
      "iteration 641 dt is 0.00125, time of iteration is 0.80125\n",
      "iteration 642 dt is 0.00125, time of iteration is 0.8025\n",
      "iteration 643 dt is 0.00125, time of iteration is 0.80375\n",
      "iteration 644 dt is 0.00125, time of iteration is 0.805\n",
      "iteration 645 dt is 0.00125, time of iteration is 0.80625\n",
      "iteration 646 dt is 0.00125, time of iteration is 0.8075\n",
      "iteration 647 dt is 0.00125, time of iteration is 0.80875\n",
      "iteration 648 dt is 0.00125, time of iteration is 0.81\n",
      "iteration 649 dt is 0.00125, time of iteration is 0.81125\n",
      "iteration 650 dt is 0.00125, time of iteration is 0.8125\n",
      "iteration 651 dt is 0.00125, time of iteration is 0.81375\n",
      "iteration 652 dt is 0.00125, time of iteration is 0.815\n",
      "iteration 653 dt is 0.00125, time of iteration is 0.81625\n",
      "iteration 654 dt is 0.00125, time of iteration is 0.8175\n",
      "iteration 655 dt is 0.00125, time of iteration is 0.81875\n",
      "iteration 656 dt is 0.00125, time of iteration is 0.82\n",
      "iteration 657 dt is 0.00125, time of iteration is 0.82125\n",
      "iteration 658 dt is 0.00125, time of iteration is 0.8225\n",
      "iteration 659 dt is 0.00125, time of iteration is 0.82375\n",
      "iteration 660 dt is 0.00125, time of iteration is 0.825\n",
      "iteration 661 dt is 0.00125, time of iteration is 0.82625\n",
      "iteration 662 dt is 0.00125, time of iteration is 0.8275\n",
      "iteration 663 dt is 0.00125, time of iteration is 0.82875\n",
      "iteration 664 dt is 0.00125, time of iteration is 0.83\n",
      "iteration 665 dt is 0.00125, time of iteration is 0.83125\n",
      "iteration 666 dt is 0.00125, time of iteration is 0.8325\n",
      "iteration 667 dt is 0.00125, time of iteration is 0.83375\n",
      "iteration 668 dt is 0.00125, time of iteration is 0.835\n",
      "iteration 669 dt is 0.00125, time of iteration is 0.83625\n",
      "iteration 670 dt is 0.00125, time of iteration is 0.8375\n",
      "iteration 671 dt is 0.00125, time of iteration is 0.83875\n",
      "iteration 672 dt is 0.00125, time of iteration is 0.84\n",
      "iteration 673 dt is 0.00125, time of iteration is 0.84125\n",
      "iteration 674 dt is 0.00125, time of iteration is 0.8425\n",
      "iteration 675 dt is 0.00125, time of iteration is 0.84375\n",
      "iteration 676 dt is 0.00125, time of iteration is 0.845\n",
      "iteration 677 dt is 0.00125, time of iteration is 0.84625\n",
      "iteration 678 dt is 0.00125, time of iteration is 0.8475\n",
      "iteration 679 dt is 0.00125, time of iteration is 0.84875\n",
      "iteration 680 dt is 0.00125, time of iteration is 0.85\n",
      "iteration 681 dt is 0.00125, time of iteration is 0.85125\n",
      "iteration 682 dt is 0.00125, time of iteration is 0.8525\n",
      "iteration 683 dt is 0.00125, time of iteration is 0.85375\n",
      "iteration 684 dt is 0.00125, time of iteration is 0.855\n",
      "iteration 685 dt is 0.00125, time of iteration is 0.85625\n",
      "iteration 686 dt is 0.00125, time of iteration is 0.8575\n",
      "iteration 687 dt is 0.00125, time of iteration is 0.85875\n",
      "iteration 688 dt is 0.00125, time of iteration is 0.86\n",
      "iteration 689 dt is 0.00125, time of iteration is 0.86125\n",
      "iteration 690 dt is 0.00125, time of iteration is 0.8625\n",
      "iteration 691 dt is 0.00125, time of iteration is 0.86375\n",
      "iteration 692 dt is 0.00125, time of iteration is 0.865\n",
      "iteration 693 dt is 0.00125, time of iteration is 0.86625\n",
      "iteration 694 dt is 0.00125, time of iteration is 0.8675\n",
      "iteration 695 dt is 0.00125, time of iteration is 0.86875\n",
      "iteration 696 dt is 0.00125, time of iteration is 0.87\n",
      "iteration 697 dt is 0.00125, time of iteration is 0.87125\n",
      "iteration 698 dt is 0.00125, time of iteration is 0.8725\n",
      "iteration 699 dt is 0.00125, time of iteration is 0.87375\n",
      "iteration 700 dt is 0.00125, time of iteration is 0.875\n",
      "iteration 701 dt is 0.00125, time of iteration is 0.87625\n",
      "iteration 702 dt is 0.00125, time of iteration is 0.8775\n",
      "iteration 703 dt is 0.00125, time of iteration is 0.87875\n",
      "iteration 704 dt is 0.00125, time of iteration is 0.88\n",
      "iteration 705 dt is 0.00125, time of iteration is 0.88125\n",
      "iteration 706 dt is 0.00125, time of iteration is 0.8825\n",
      "iteration 707 dt is 0.00125, time of iteration is 0.88375\n",
      "iteration 708 dt is 0.00125, time of iteration is 0.885\n",
      "iteration 709 dt is 0.00125, time of iteration is 0.88625\n",
      "iteration 710 dt is 0.00125, time of iteration is 0.8875\n",
      "iteration 711 dt is 0.00125, time of iteration is 0.88875\n",
      "iteration 712 dt is 0.00125, time of iteration is 0.89\n",
      "iteration 713 dt is 0.00125, time of iteration is 0.89125\n",
      "iteration 714 dt is 0.00125, time of iteration is 0.8925\n",
      "iteration 715 dt is 0.00125, time of iteration is 0.89375\n",
      "iteration 716 dt is 0.00125, time of iteration is 0.895\n",
      "iteration 717 dt is 0.00125, time of iteration is 0.89625\n",
      "iteration 718 dt is 0.00125, time of iteration is 0.8975\n",
      "iteration 719 dt is 0.00125, time of iteration is 0.89875\n",
      "iteration 720 dt is 0.00125, time of iteration is 0.9\n",
      "iteration 721 dt is 0.00125, time of iteration is 0.90125\n",
      "iteration 722 dt is 0.00125, time of iteration is 0.9025\n",
      "iteration 723 dt is 0.00125, time of iteration is 0.90375\n",
      "iteration 724 dt is 0.00125, time of iteration is 0.905\n",
      "iteration 725 dt is 0.00125, time of iteration is 0.90625\n",
      "iteration 726 dt is 0.00125, time of iteration is 0.9075\n"
     ]
    },
    {
     "name": "stdout",
     "output_type": "stream",
     "text": [
      "iteration 727 dt is 0.00125, time of iteration is 0.90875\n",
      "iteration 728 dt is 0.00125, time of iteration is 0.91\n",
      "iteration 729 dt is 0.00125, time of iteration is 0.91125\n",
      "iteration 730 dt is 0.00125, time of iteration is 0.9125\n",
      "iteration 731 dt is 0.00125, time of iteration is 0.91375\n",
      "iteration 732 dt is 0.00125, time of iteration is 0.915\n",
      "iteration 733 dt is 0.00125, time of iteration is 0.91625\n",
      "iteration 734 dt is 0.00125, time of iteration is 0.9175\n",
      "iteration 735 dt is 0.00125, time of iteration is 0.91875\n",
      "iteration 736 dt is 0.00125, time of iteration is 0.92\n",
      "iteration 737 dt is 0.00125, time of iteration is 0.92125\n",
      "iteration 738 dt is 0.00125, time of iteration is 0.9225\n",
      "iteration 739 dt is 0.00125, time of iteration is 0.92375\n",
      "iteration 740 dt is 0.00125, time of iteration is 0.925\n",
      "iteration 741 dt is 0.00125, time of iteration is 0.92625\n",
      "iteration 742 dt is 0.00125, time of iteration is 0.9275\n",
      "iteration 743 dt is 0.00125, time of iteration is 0.92875\n",
      "iteration 744 dt is 0.00125, time of iteration is 0.93\n",
      "iteration 745 dt is 0.00125, time of iteration is 0.93125\n",
      "iteration 746 dt is 0.00125, time of iteration is 0.9325\n",
      "iteration 747 dt is 0.00125, time of iteration is 0.93375\n",
      "iteration 748 dt is 0.00125, time of iteration is 0.935\n",
      "iteration 749 dt is 0.00125, time of iteration is 0.93625\n",
      "iteration 750 dt is 0.00125, time of iteration is 0.9375\n",
      "iteration 751 dt is 0.00125, time of iteration is 0.93875\n",
      "iteration 752 dt is 0.00125, time of iteration is 0.94\n",
      "iteration 753 dt is 0.00125, time of iteration is 0.94125\n",
      "iteration 754 dt is 0.00125, time of iteration is 0.9425\n",
      "iteration 755 dt is 0.00125, time of iteration is 0.94375\n",
      "iteration 756 dt is 0.00125, time of iteration is 0.945\n",
      "iteration 757 dt is 0.00125, time of iteration is 0.94625\n",
      "iteration 758 dt is 0.00125, time of iteration is 0.9475\n",
      "iteration 759 dt is 0.00125, time of iteration is 0.94875\n",
      "iteration 760 dt is 0.00125, time of iteration is 0.95\n",
      "iteration 761 dt is 0.00125, time of iteration is 0.95125\n",
      "iteration 762 dt is 0.00125, time of iteration is 0.9525\n",
      "iteration 763 dt is 0.00125, time of iteration is 0.95375\n",
      "iteration 764 dt is 0.00125, time of iteration is 0.955\n",
      "iteration 765 dt is 0.00125, time of iteration is 0.95625\n",
      "iteration 766 dt is 0.00125, time of iteration is 0.9575\n",
      "iteration 767 dt is 0.00125, time of iteration is 0.95875\n",
      "iteration 768 dt is 0.00125, time of iteration is 0.96\n",
      "iteration 769 dt is 0.00125, time of iteration is 0.96125\n",
      "iteration 770 dt is 0.00125, time of iteration is 0.9625\n",
      "iteration 771 dt is 0.00125, time of iteration is 0.96375\n",
      "iteration 772 dt is 0.00125, time of iteration is 0.965\n",
      "iteration 773 dt is 0.00125, time of iteration is 0.96625\n",
      "iteration 774 dt is 0.00125, time of iteration is 0.9675\n",
      "iteration 775 dt is 0.00125, time of iteration is 0.96875\n",
      "iteration 776 dt is 0.00125, time of iteration is 0.97\n",
      "iteration 777 dt is 0.00125, time of iteration is 0.97125\n",
      "iteration 778 dt is 0.00125, time of iteration is 0.9725\n",
      "iteration 779 dt is 0.00125, time of iteration is 0.97375\n",
      "iteration 780 dt is 0.00125, time of iteration is 0.975\n",
      "iteration 781 dt is 0.00125, time of iteration is 0.97625\n",
      "iteration 782 dt is 0.00125, time of iteration is 0.9775\n",
      "iteration 783 dt is 0.00125, time of iteration is 0.97875\n",
      "iteration 784 dt is 0.00125, time of iteration is 0.98\n",
      "iteration 785 dt is 0.00125, time of iteration is 0.98125\n",
      "iteration 786 dt is 0.00125, time of iteration is 0.9825\n",
      "iteration 787 dt is 0.00125, time of iteration is 0.98375\n",
      "iteration 788 dt is 0.00125, time of iteration is 0.985\n",
      "iteration 789 dt is 0.00125, time of iteration is 0.98625\n",
      "iteration 790 dt is 0.00125, time of iteration is 0.9875\n",
      "iteration 791 dt is 0.00125, time of iteration is 0.98875\n",
      "iteration 792 dt is 0.00125, time of iteration is 0.99\n",
      "iteration 793 dt is 0.00125, time of iteration is 0.99125\n",
      "iteration 794 dt is 0.00125, time of iteration is 0.9925\n",
      "iteration 795 dt is 0.00125, time of iteration is 0.99375\n",
      "iteration 796 dt is 0.00125, time of iteration is 0.995\n",
      "iteration 797 dt is 0.00125, time of iteration is 0.99625\n",
      "iteration 798 dt is 0.00125, time of iteration is 0.9975\n",
      "iteration 799 dt is 0.00125, time of iteration is 0.99875\n",
      "iteration 800 dt is 0.00125, time of iteration is 1.0\n",
      "iteration 801 dt is 0.00125, time of iteration is 1.00125\n"
     ]
    }
   ],
   "source": [
    "finaltime=1#0.9#0.8#0.04*5*4#length(T)-1\n",
    "evol_stats, T_interp = timeevolution(state_array,finaltime,dir*\"/res$res\",run);\n",
    "CSV.write(dir*\"/timearray$res.csv\", Tables.table(T_interp), writeheader=false);\n",
    "#CSV.write(dir*\"/parameters.csv\", Tables.table(evol_stats), writeheader=false);"
   ]
  },
  {
   "cell_type": "markdown",
   "id": "715897d3",
   "metadata": {
    "papermill": {
     "duration": 0.007626,
     "end_time": "2023-03-28T18:06:33.908346",
     "exception": false,
     "start_time": "2023-03-28T18:06:33.900720",
     "status": "completed"
    },
    "tags": []
   },
   "source": [
    " ## Movie of the evolution"
   ]
  },
  {
   "cell_type": "code",
   "execution_count": 301,
   "id": "973cea47",
   "metadata": {},
   "outputs": [
    {
     "name": "stderr",
     "output_type": "stream",
     "text": [
      "\u001b[36m\u001b[1m[ \u001b[22m\u001b[39m\u001b[36m\u001b[1mInfo: \u001b[22m\u001b[39mSaved animation to /home/rita13santos/Desktop/MSc Thesis/Git/ScalarField/anim_res1.gif\n"
     ]
    },
    {
     "data": {
      "text/html": [
       "<img src=\"data:image/gif;base64,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\" />"
      ],
      "text/plain": [
       "Plots.AnimatedGif(\"/home/rita13santos/Desktop/MSc Thesis/Git/ScalarField/anim_res1.gif\")"
      ]
     },
     "execution_count": 301,
     "metadata": {},
     "output_type": "execute_result"
    }
   ],
   "source": [
    "using Plots, CSV, DataFrames\n",
    "import GR\n",
    "anim = @animate for n in 0:1:2\n",
    "    \n",
    "    IJulia.clear_output(true)\n",
    "    \n",
    "    functions3=DataFrame(CSV.File(dir*\"/res$res/time_step$n.csv\",header=false, delim=\",\"))\n",
    "    plot()\n",
    "        plot1=functions3.Column1[4:L-3];\n",
    "        plot2=functions3.Column2[4:L-3];\n",
    "        plot3=functions3.Column3[4:L-3];\n",
    "        plot4=functions3.Column4[4:L-3];\n",
    "        plot5=functions3.Column5[4:L-3];\n",
    "    \n",
    "    plot!(initX1, [plot1 plot2 plot3 plot4], labels=[\"m\" \"beta\" \"psi\" \"psi,x\"], ylim=[-0.1, 0.1])#, xlim=[0, 0.1])# |> display \n",
    "    #plot!(initX[4:L-3], [plot1], labels=[\"m\" \"beta\" \"psi\" \"psi,x\"],ylim=[-1,1])#, xlim=[0, 0.1]) |> display \n",
    "    \n",
    "    end\n",
    "\n",
    "gif(anim, \"anim_res$res.gif\", fps = 20)"
   ]
  },
  {
   "cell_type": "code",
   "execution_count": 432,
   "id": "c6b8b7bc",
   "metadata": {},
   "outputs": [
    {
     "ename": "LoadError",
     "evalue": "ArgumentError: \"/home/rita13santos/Desktop/MSc Thesis/Git/ScalarField/DATA/res2/monitor_ratio10.csv\" is not a valid file or doesn't exist",
     "output_type": "error",
     "traceback": [
      "ArgumentError: \"/home/rita13santos/Desktop/MSc Thesis/Git/ScalarField/DATA/res2/monitor_ratio10.csv\" is not a valid file or doesn't exist",
      "",
      "Stacktrace:",
      " [1] CSV.Context(source::CSV.Arg, header::CSV.Arg, normalizenames::CSV.Arg, datarow::CSV.Arg, skipto::CSV.Arg, footerskip::CSV.Arg, transpose::CSV.Arg, comment::CSV.Arg, ignoreemptyrows::CSV.Arg, ignoreemptylines::CSV.Arg, select::CSV.Arg, drop::CSV.Arg, limit::CSV.Arg, buffer_in_memory::CSV.Arg, threaded::CSV.Arg, ntasks::CSV.Arg, tasks::CSV.Arg, rows_to_check::CSV.Arg, lines_to_check::CSV.Arg, missingstrings::CSV.Arg, missingstring::CSV.Arg, delim::CSV.Arg, ignorerepeated::CSV.Arg, quoted::CSV.Arg, quotechar::CSV.Arg, openquotechar::CSV.Arg, closequotechar::CSV.Arg, escapechar::CSV.Arg, dateformat::CSV.Arg, dateformats::CSV.Arg, decimal::CSV.Arg, truestrings::CSV.Arg, falsestrings::CSV.Arg, stripwhitespace::CSV.Arg, type::CSV.Arg, types::CSV.Arg, typemap::CSV.Arg, pool::CSV.Arg, downcast::CSV.Arg, lazystrings::CSV.Arg, stringtype::CSV.Arg, strict::CSV.Arg, silencewarnings::CSV.Arg, maxwarnings::CSV.Arg, debug::CSV.Arg, parsingdebug::CSV.Arg, validate::CSV.Arg, streaming::CSV.Arg)",
      "   @ CSV ~/.julia/packages/CSV/b8ebJ/src/context.jl:306",
      " [2] #File#28",
      "   @ ~/.julia/packages/CSV/b8ebJ/src/file.jl:221 [inlined]",
      " [3] macro expansion",
      "   @ ./In[432]:7 [inlined]",
      " [4] top-level scope",
      "   @ ~/.julia/packages/Plots/bMtsB/src/animation.jl:251"
     ]
    }
   ],
   "source": [
    "using Plots, CSV, DataFrames\n",
    "import GR\n",
    "anim = @animate for n in 10:10:290#length(T)-1\n",
    "    \n",
    "    IJulia.clear_output(true)\n",
    "    \n",
    "    functions3=DataFrame(CSV.File(dir*\"/res$res/monitor_ratio$n.csv\",header=false, delim=\",\"))\n",
    "    plot()\n",
    "        plot1=functions3.Column1[4:L-3];\n",
    "    \n",
    "    plot!(initX1, [plot1], labels=[\"monitor ratio\"], ylim=[0, 1])# |> display \n",
    "    #plot!(initX[4:L-3], [plot1], labels=[\"m\" \"beta\" \"psi\" \"psi,x\"],ylim=[-1,1])#, xlim=[0, 0.1]) |> display \n",
    "    \n",
    "    end\n",
    "\n",
    "gif(anim, \"anim_res$res.gif\", fps = 5)"
   ]
  },
  {
   "cell_type": "code",
   "execution_count": 51,
   "id": "34adf7fe",
   "metadata": {},
   "outputs": [
    {
     "data": {
      "text/plain": [
       "0.015625"
      ]
     },
     "execution_count": 51,
     "metadata": {},
     "output_type": "execute_result"
    }
   ],
   "source": [
    "epsilon(dt,dx)"
   ]
  },
  {
   "cell_type": "code",
   "execution_count": null,
   "id": "a05acb5f",
   "metadata": {},
   "outputs": [],
   "source": []
  },
  {
   "cell_type": "code",
   "execution_count": null,
   "id": "01c840df",
   "metadata": {},
   "outputs": [],
   "source": []
  },
  {
   "cell_type": "code",
   "execution_count": null,
   "id": "eb36f345",
   "metadata": {},
   "outputs": [],
   "source": []
  },
  {
   "cell_type": "code",
   "execution_count": null,
   "id": "6e1862b9",
   "metadata": {},
   "outputs": [],
   "source": []
  }
 ],
 "metadata": {
  "@webio": {
   "lastCommId": null,
   "lastKernelId": null
  },
  "kernelspec": {
   "display_name": "Julia 1.8.0",
   "language": "julia",
   "name": "julia-1.8"
  },
  "language_info": {
   "file_extension": ".jl",
   "mimetype": "application/julia",
   "name": "julia",
   "version": "1.8.0"
  },
  "papermill": {
   "default_parameters": {},
   "duration": 7025.507115,
   "end_time": "2023-03-28T20:03:06.430756",
   "environment_variables": {},
   "exception": null,
   "input_path": "Evolution_ScalarField.ipynb",
   "output_path": "Evolution_ScalarField.ipynb",
   "parameters": {
    "A": 0.001,
    "m": 3
   },
   "start_time": "2023-03-28T18:06:00.923641",
   "version": "2.4.0"
  }
 },
 "nbformat": 4,
 "nbformat_minor": 5
}
