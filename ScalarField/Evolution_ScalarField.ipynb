{
 "cells": [
  {
   "cell_type": "code",
   "execution_count": null,
   "id": "6ac4ba58",
   "metadata": {
    "papermill": {
     "duration": null,
     "end_time": null,
     "exception": null,
     "start_time": null,
     "status": "completed"
    },
    "tags": [
     "injected-parameters"
    ]
   },
   "outputs": [],
   "source": [
    "# Parameters\n",
    "m = 3\n",
    "A = 0.01\n"
   ]
  },
  {
   "cell_type": "markdown",
   "id": "d88601a8",
   "metadata": {
    "papermill": {
     "duration": null,
     "end_time": null,
     "exception": null,
     "start_time": null,
     "status": "completed"
    },
    "tags": []
   },
   "source": [
    "# Evolution of Einstein's equations"
   ]
  },
  {
   "cell_type": "markdown",
   "id": "03c607c7",
   "metadata": {
    "papermill": {
     "duration": null,
     "end_time": null,
     "exception": null,
     "start_time": null,
     "status": "completed"
    },
    "tags": []
   },
   "source": [
    "# Initial data , setting length of the domain and discretization\n"
   ]
  },
  {
   "cell_type": "code",
   "execution_count": null,
   "id": "28f9b745",
   "metadata": {
    "execution": {
     "iopub.execute_input": "2023-06-26T00:42:59.100000Z",
     "iopub.status.busy": "2023-06-26T00:42:59.099000Z",
     "iopub.status.idle": "2023-06-26T00:42:59.434000Z",
     "shell.execute_reply": "2023-06-26T00:42:59.433000Z"
    },
    "papermill": {
     "duration": null,
     "end_time": null,
     "exception": null,
     "start_time": null,
     "status": "completed"
    },
    "tags": []
   },
   "outputs": [],
   "source": [
    "m = 2\n",
    "A = 0.01#0.0492646484375#0.001#0.049375#5#0.0492645084166179#0.049264507293701174#0.049264508247375494#0.04925#0.0493#0.001#0.049375#0.07#0.05#0.1124921875#0.125\n",
    "run = 1"
   ]
  },
  {
   "cell_type": "code",
   "execution_count": null,
   "id": "2ff5e8df",
   "metadata": {
    "execution": {
     "iopub.execute_input": "2023-06-26T00:42:59.466000Z",
     "iopub.status.busy": "2023-06-26T00:42:59.466000Z",
     "iopub.status.idle": "2023-06-26T00:42:59.523000Z",
     "shell.execute_reply": "2023-06-26T00:42:59.522000Z"
    },
    "papermill": {
     "duration": null,
     "end_time": null,
     "exception": null,
     "start_time": null,
     "status": "completed"
    },
    "tags": []
   },
   "outputs": [],
   "source": [
    "global loggrid=true#true\n",
    "global bisection=false\n",
    "global meshrefinement=false;"
   ]
  },
  {
   "cell_type": "code",
   "execution_count": null,
   "id": "80a113e0",
   "metadata": {
    "execution": {
     "iopub.execute_input": "2023-06-26T00:42:59.552000Z",
     "iopub.status.busy": "2023-06-26T00:42:59.552000Z",
     "iopub.status.idle": "2023-06-26T00:42:59.621000Z",
     "shell.execute_reply": "2023-06-26T00:42:59.621000Z"
    },
    "papermill": {
     "duration": null,
     "end_time": null,
     "exception": null,
     "start_time": null,
     "status": "completed"
    },
    "tags": []
   },
   "outputs": [],
   "source": [
    "using Quadmath, Printf\n",
    "\n",
    "res=m;\n",
    "N=2.0^m*100.0#2.0^m*1000.0/2.0#Nt=2.0^m*1000.0/2.0\n",
    "Xf=1.0#Float128(1.0);\n",
    "\n",
    "dx=Xf/N#Float128(Xf/N);\n",
    "if loggrid==false\n",
    "    dt=0.5*round(dx,digits=10)\n",
    "else\n",
    "    dt=0.1*round(dx,digits=10)\n",
    "end\n",
    "Nt=2.0^m*100.0#2.0^m*1000.0/2.0#Nt=2.0^m*1000.0/2.0\n",
    "Tf=Nt*dt; #final time\n",
    "#print(Tf)"
   ]
  },
  {
   "cell_type": "code",
   "execution_count": null,
   "id": "4f752d54",
   "metadata": {
    "execution": {
     "iopub.execute_input": "2023-06-26T00:42:59.638000Z",
     "iopub.status.busy": "2023-06-26T00:42:59.638000Z",
     "iopub.status.idle": "2023-06-26T00:42:59.702000Z",
     "shell.execute_reply": "2023-06-26T00:42:59.702000Z"
    },
    "papermill": {
     "duration": null,
     "end_time": null,
     "exception": null,
     "start_time": null,
     "status": "completed"
    },
    "tags": []
   },
   "outputs": [],
   "source": [
    "print(N)"
   ]
  },
  {
   "cell_type": "code",
   "execution_count": null,
   "id": "ad48576a",
   "metadata": {
    "execution": {
     "iopub.execute_input": "2023-06-26T00:42:59.729000Z",
     "iopub.status.busy": "2023-06-26T00:42:59.729000Z",
     "iopub.status.idle": "2023-06-26T00:42:59.783000Z",
     "shell.execute_reply": "2023-06-26T00:42:59.783000Z"
    },
    "papermill": {
     "duration": null,
     "end_time": null,
     "exception": null,
     "start_time": null,
     "status": "completed"
    },
    "tags": []
   },
   "outputs": [],
   "source": [
    "println(\"dx =\", dx)\n",
    "println(\"dt =\", dt)\n",
    "println(\"dx/dt =\", dx/dt)"
   ]
  },
  {
   "cell_type": "code",
   "execution_count": null,
   "id": "78fb78a5",
   "metadata": {
    "execution": {
     "iopub.execute_input": "2023-06-26T00:42:59.810000Z",
     "iopub.status.busy": "2023-06-26T00:42:59.810000Z",
     "iopub.status.idle": "2023-06-26T00:43:00.498000Z",
     "shell.execute_reply": "2023-06-26T00:43:00.497000Z"
    },
    "papermill": {
     "duration": null,
     "end_time": null,
     "exception": null,
     "start_time": null,
     "status": "completed"
    },
    "tags": []
   },
   "outputs": [],
   "source": [
    "global dir = \"/home/rita13santos/Desktop/MSc Thesis/Git/ScalarField/DATA\" #~/data/ritapsantos/\n",
    "#global dir = \"/home/rita13santos/Desktop/MSc Thesis/Git/ScalarField/DATA\""
   ]
  },
  {
   "cell_type": "markdown",
   "id": "e2dd4335",
   "metadata": {
    "papermill": {
     "duration": null,
     "end_time": null,
     "exception": null,
     "start_time": null,
     "status": "completed"
    },
    "tags": []
   },
   "source": [
    "# Grid"
   ]
  },
  {
   "cell_type": "code",
   "execution_count": null,
   "id": "bc5288f8",
   "metadata": {
    "execution": {
     "iopub.execute_input": "2023-06-26T00:43:00.535000Z",
     "iopub.status.busy": "2023-06-26T00:43:00.535000Z",
     "iopub.status.idle": "2023-06-26T00:43:00.813000Z",
     "shell.execute_reply": "2023-06-26T00:43:00.812000Z"
    },
    "papermill": {
     "duration": null,
     "end_time": null,
     "exception": null,
     "start_time": null,
     "status": "completed"
    },
    "tags": []
   },
   "outputs": [],
   "source": [
    "using Printf\n",
    "include(\"./ScalarField.jl\");"
   ]
  },
  {
   "cell_type": "code",
   "execution_count": null,
   "id": "de24fea3",
   "metadata": {
    "execution": {
     "iopub.execute_input": "2023-06-26T00:43:00.841000Z",
     "iopub.status.busy": "2023-06-26T00:43:00.841000Z",
     "iopub.status.idle": "2023-06-26T00:43:01.456000Z",
     "shell.execute_reply": "2023-06-26T00:43:01.456000Z"
    },
    "papermill": {
     "duration": null,
     "end_time": null,
     "exception": null,
     "start_time": null,
     "status": "completed"
    },
    "tags": []
   },
   "outputs": [],
   "source": [
    "ori=0.0#Float128(0.0)#0.0;\n",
    "initX1 = nothing\n",
    "N=int(N)\n",
    "initX1=range(ori, stop=Xf, step=dx);\n",
    "#initX1=create_range(ori,Xf,dx,N)\n",
    "initX = range(round(ori-3.0*dx,digits=10), stop=Xf+3.0*dx, step=dx)\n",
    "#initX=create_range(ori-3.0*dx,Xf+3.0*dx,dx,N+6)\n",
    "\n",
    "L=length(initX);\n",
    "println(\"step size is  \", dx)\n",
    "println(\"the time step is \", dt)\n",
    "\n",
    "if loggrid==true\n",
    "    global originalX=initX\n",
    "    xtilde=gridfunc(initX1)\n",
    "    initX1=xtilde\n",
    "    initX=collect(initX)\n",
    "    initX[4:L-3]=xtilde\n",
    "end;"
   ]
  },
  {
   "cell_type": "markdown",
   "id": "80ab1480",
   "metadata": {
    "papermill": {
     "duration": null,
     "end_time": null,
     "exception": null,
     "start_time": null,
     "status": "completed"
    },
    "tags": []
   },
   "source": [
    "# Initial data of m β Ψ and Ψ,x"
   ]
  },
  {
   "cell_type": "code",
   "execution_count": null,
   "id": "d0af654c",
   "metadata": {
    "execution": {
     "iopub.execute_input": "2023-06-26T00:43:01.510000Z",
     "iopub.status.busy": "2023-06-26T00:43:01.510000Z",
     "iopub.status.idle": "2023-06-26T00:43:03.001000Z",
     "shell.execute_reply": "2023-06-26T00:43:03.001000Z"
    },
    "papermill": {
     "duration": null,
     "end_time": null,
     "exception": null,
     "start_time": null,
     "status": "completed"
    },
    "tags": []
   },
   "outputs": [],
   "source": [
    "using Dierckx\n",
    "using Quadmath\n",
    "\n",
    "\n",
    "####\n",
    "#initm=Array{Float128}(undef, L)\n",
    "#initbeta=Array{Float128}(undef, L)\n",
    "#initpsi=Array{Float128}(undef, L)\n",
    "#initderpsi=Array{Float128}(undef, L)\n",
    "initm=zeros(L);\n",
    "initbeta=zeros(L);\n",
    "initpsi=zeros(L);\n",
    "initderpsi=zeros(L);\n",
    "\n",
    "state_array=[initm initbeta initpsi initderpsi initX];\n",
    "\n",
    "#PSI\n",
    "r0=0.7#0.01#0.7#0.01#0.7#0.7#0.7#0.01#0.7#0.3\n",
    "sigma=0.3\n",
    "initpsi[4:L-3] = init_gaussian(initX1,r0,sigma,A)\n",
    "\n",
    "state_array[:,3] = initpsi\n",
    "state_array = ghost(state_array)\n",
    "\n",
    "#PSI,X FROM PSI\n",
    "initderpsi[4:L-3] = init_gaussian_der(initX1,r0,sigma,A)\n",
    "state_array[:,4] = initderpsi\n",
    "state_array=ghost(state_array)\n",
    "\n",
    "####\n",
    "\n",
    "derpsi_func = Spline1D(initX[4:L-3], state_array[4:L-3,4],  k=4);"
   ]
  },
  {
   "cell_type": "code",
   "execution_count": null,
   "id": "384597fa",
   "metadata": {
    "execution": {
     "iopub.execute_input": "2023-06-26T00:43:03.034000Z",
     "iopub.status.busy": "2023-06-26T00:43:03.034000Z",
     "iopub.status.idle": "2023-06-26T00:43:04.138000Z",
     "shell.execute_reply": "2023-06-26T00:43:04.138000Z"
    },
    "papermill": {
     "duration": null,
     "end_time": null,
     "exception": null,
     "start_time": null,
     "status": "completed"
    },
    "tags": []
   },
   "outputs": [],
   "source": [
    "y0=[0 0 0]\n",
    "\n",
    "state_array[4:L-3,1:3] = n_rk4wrapper(RHS,y0,initX[4:L-3],0,derpsi_func,state_array[:,:]);\n",
    "\n",
    "state_array = ghost(state_array);"
   ]
  },
  {
   "cell_type": "code",
   "execution_count": null,
   "id": "48f10a76",
   "metadata": {
    "execution": {
     "iopub.execute_input": "2023-06-26T00:43:04.172000Z",
     "iopub.status.busy": "2023-06-26T00:43:04.172000Z",
     "iopub.status.idle": "2023-06-26T00:43:20.413000Z",
     "shell.execute_reply": "2023-06-26T00:43:20.413000Z"
    },
    "papermill": {
     "duration": null,
     "end_time": null,
     "exception": null,
     "start_time": null,
     "status": "completed"
    },
    "tags": []
   },
   "outputs": [],
   "source": [
    "using Plots #showing initial data and the initial status of the horizon finder\n",
    "plot(initX[4:L-3], state_array[4:L-3,1:4], xaxis=\"x\",title=\"Initial Data\", labels=[\"m\" \"beta\" \"psi\" \"psi,x\"])"
   ]
  },
  {
   "cell_type": "markdown",
   "id": "9b444ece",
   "metadata": {
    "papermill": {
     "duration": null,
     "end_time": null,
     "exception": null,
     "start_time": null,
     "status": "completed"
    },
    "tags": []
   },
   "source": [
    "# Defining the initial state array for the evolution m β Ψ and Ψ,x"
   ]
  },
  {
   "cell_type": "code",
   "execution_count": null,
   "id": "9902ffab",
   "metadata": {
    "execution": {
     "iopub.execute_input": "2023-06-26T00:43:20.962000Z",
     "iopub.status.busy": "2023-06-26T00:43:20.448000Z",
     "iopub.status.idle": "2023-06-26T00:43:23.484000Z",
     "shell.execute_reply": "2023-06-26T00:43:23.484000Z"
    },
    "papermill": {
     "duration": null,
     "end_time": null,
     "exception": null,
     "start_time": null,
     "status": "completed"
    },
    "tags": []
   },
   "outputs": [],
   "source": [
    "using CSV, Tables, Printf\n",
    "#CSV.write(dir*\"/time_step0.csv\", Tables.table(transpose(Matrix(state_array))), writeheader=false)\n",
    "#CSV.write(dir*\"/res$res/time_step0.csv\", Tables.table(state_array), writeheader=false)\n",
    "\n",
    "global files=[\"m\", \"beta\", \"psi\", \"derpsi\"]\n",
    "\n",
    "print_muninn(files, 0, state_array[:,1:5],res,\"w\")"
   ]
  },
  {
   "cell_type": "code",
   "execution_count": null,
   "id": "fff1426a",
   "metadata": {
    "execution": {
     "iopub.execute_input": "2023-06-26T00:43:24.210000Z",
     "iopub.status.busy": "2023-06-26T00:43:23.520000Z",
     "iopub.status.idle": "2023-06-26T00:43:25.884000Z",
     "shell.execute_reply": "2023-06-26T00:43:25.884000Z"
    },
    "papermill": {
     "duration": null,
     "end_time": null,
     "exception": null,
     "start_time": null,
     "status": "completed"
    },
    "tags": []
   },
   "outputs": [],
   "source": [
    "time=0.0\n",
    "criticality=0.0\n",
    "explode=0.0\n",
    "evol_stats = [criticality A sigma r0 time explode run]\n",
    "monitor_ratio = zeros(L)\n",
    "CSV.write(dir*\"/parameters.csv\", Tables.table(evol_stats), writeheader=true, header=[\"criticality\", \"A\", \"sigma\", \"r0\", \"time\", \"explode\", \"run\"])"
   ]
  },
  {
   "cell_type": "code",
   "execution_count": null,
   "id": "9e9abd7d",
   "metadata": {
    "execution": {
     "iopub.execute_input": "2023-06-26T00:43:25.921000Z",
     "iopub.status.busy": "2023-06-26T00:43:25.921000Z",
     "iopub.status.idle": "2023-06-26T00:43:26.887000Z",
     "shell.execute_reply": "2023-06-26T00:43:26.887000Z"
    },
    "papermill": {
     "duration": null,
     "end_time": null,
     "exception": null,
     "start_time": null,
     "status": "completed"
    },
    "tags": []
   },
   "outputs": [],
   "source": [
    "ginit=speed(initX,state_array[:,1],state_array[:,2])\n",
    "println(update_dt(initX,state_array[:,1],state_array[:,2],dx,ginit)/dt)"
   ]
  },
  {
   "cell_type": "code",
   "execution_count": null,
   "id": "6a7e1787",
   "metadata": {
    "execution": {
     "iopub.execute_input": "2023-06-26T00:43:26.923000Z",
     "iopub.status.busy": "2023-06-26T00:43:26.923000Z",
     "iopub.status.idle": "2023-06-26T00:43:26.992000Z",
     "shell.execute_reply": "2023-06-26T00:43:26.992000Z"
    },
    "papermill": {
     "duration": null,
     "end_time": null,
     "exception": null,
     "start_time": null,
     "status": "completed"
    },
    "tags": []
   },
   "outputs": [],
   "source": [
    "using Base.Threads\n",
    "Threads.nthreads()"
   ]
  },
  {
   "cell_type": "markdown",
   "id": "42e2c73d",
   "metadata": {
    "papermill": {
     "duration": null,
     "end_time": null,
     "exception": null,
     "start_time": null,
     "status": "completed"
    },
    "tags": []
   },
   "source": [
    " ## Time evolution"
   ]
  },
  {
   "cell_type": "code",
   "execution_count": null,
   "id": "f77af8b7",
   "metadata": {
    "papermill": {
     "duration": null,
     "end_time": null,
     "exception": null,
     "start_time": null,
     "status": "completed"
    },
    "tags": []
   },
   "outputs": [],
   "source": []
  },
  {
   "cell_type": "code",
   "execution_count": null,
   "id": "1e8736e3",
   "metadata": {
    "papermill": {
     "duration": null,
     "end_time": null,
     "exception": null,
     "start_time": null,
     "status": "completed"
    },
    "tags": []
   },
   "outputs": [],
   "source": []
  },
  {
   "cell_type": "code",
   "execution_count": null,
   "id": "c8208558",
   "metadata": {
    "papermill": {
     "duration": null,
     "end_time": null,
     "exception": null,
     "start_time": null,
     "status": "completed"
    },
    "tags": []
   },
   "outputs": [],
   "source": []
  },
  {
   "cell_type": "code",
   "execution_count": null,
   "id": "a145ac21",
   "metadata": {
    "execution": {
     "iopub.execute_input": "2023-06-26T00:43:27.155000Z",
     "iopub.status.busy": "2023-06-26T00:43:27.155000Z",
     "iopub.status.idle": "2023-06-26T00:43:27.222000Z",
     "shell.execute_reply": "2023-06-26T00:43:27.222000Z"
    },
    "papermill": {
     "duration": null,
     "end_time": null,
     "exception": null,
     "start_time": null,
     "status": "completed"
    },
    "tags": []
   },
   "outputs": [],
   "source": [
    "#global dt = 5e-5/2/2/2 #RES3\n",
    "if m==1\n",
    "    global dt=5e-5/2/5\n",
    "elseif m==2\n",
    "    global dt=5e-5/2/2/5\n",
    "else\n",
    "    global dt=5e-5/2/2/2/5\n",
    "end"
   ]
  },
  {
   "cell_type": "markdown",
   "id": "7da47594",
   "metadata": {
    "papermill": {
     "duration": null,
     "end_time": null,
     "exception": null,
     "start_time": null,
     "status": "completed"
    },
    "tags": []
   },
   "source": [
    "fixed grid"
   ]
  },
  {
   "cell_type": "code",
   "execution_count": null,
   "id": "fcb7ae3f",
   "metadata": {
    "execution": {
     "iopub.execute_input": "2023-06-26T00:43:27.280000Z",
     "iopub.status.busy": "2023-06-26T00:43:27.279000Z",
     "iopub.status.idle": "2023-06-26T01:23:38.457000Z",
     "shell.execute_reply": "2023-06-26T01:23:38.457000Z"
    },
    "papermill": {
     "duration": null,
     "end_time": null,
     "exception": null,
     "start_time": null,
     "status": "completed"
    },
    "tags": []
   },
   "outputs": [],
   "source": [
    "finaltime=2.0#1.3#1.6#2#1.3#0.08*2#0.005*10*5#1#0.9#0.8#0.04*5*4#length(T)-1\n",
    "evol_stats, T_interp = timeevolution(state_array,finaltime,run);#timeevolution(state_array,finaltime,dir*\"/res$res\",run,auxstate_array);\n",
    "#CSV.write(dir*\"/timearray$res.csv\", Tables.table(T_interp), writeheader=false);"
   ]
  },
  {
   "cell_type": "code",
   "execution_count": null,
   "id": "34192588",
   "metadata": {
    "papermill": {
     "duration": null,
     "end_time": null,
     "exception": null,
     "start_time": null,
     "status": "completed"
    },
    "tags": []
   },
   "outputs": [],
   "source": []
  },
  {
   "cell_type": "code",
   "execution_count": null,
   "id": "e5bac15d",
   "metadata": {
    "papermill": {
     "duration": null,
     "end_time": null,
     "exception": null,
     "start_time": null,
     "status": "completed"
    },
    "tags": []
   },
   "outputs": [],
   "source": []
  },
  {
   "cell_type": "markdown",
   "id": "715897d3",
   "metadata": {
    "papermill": {
     "duration": null,
     "end_time": null,
     "exception": null,
     "start_time": null,
     "status": "completed"
    },
    "tags": []
   },
   "source": [
    " ## Movie of the evolution"
   ]
  },
  {
   "cell_type": "code",
   "execution_count": null,
   "id": "973cea47",
   "metadata": {
    "execution": {
     "iopub.execute_input": "2023-06-26T01:23:38.542000Z",
     "iopub.status.busy": "2023-06-26T01:23:38.542000Z",
     "iopub.status.idle": "2023-06-26T01:23:47.832000Z",
     "shell.execute_reply": "2023-06-26T01:23:47.832000Z"
    },
    "papermill": {
     "duration": null,
     "end_time": null,
     "exception": null,
     "start_time": null,
     "status": "completed"
    },
    "tags": []
   },
   "outputs": [],
   "source": [
    "using Plots, CSV, DataFrames\n",
    "import GR\n",
    "anim = @animate for n in 0:100:3800#870\n",
    "    \n",
    "    \n",
    "    IJulia.clear_output(true)\n",
    "    \n",
    "    functions3=DataFrame(CSV.File(dir*\"/res$res/time_step$n.csv\",header=false, delim=\",\"))\n",
    "    \n",
    "    #functions3=DataFrame(CSV.File(\"/home/rita13santos/Desktop/MSc Thesis/Git/ScalarField/DATA/bisectionsearch/run1\"*\"/time_step$n.csv\",header=false, delim=\",\"))\n",
    "    plot()\n",
    "        plot1=functions3.Column1[4:L-3];\n",
    "        plot2=functions3.Column2[4:L-3];\n",
    "        plot3=functions3.Column3[4:L-3];\n",
    "        plot4=functions3.Column4[4:L-3];\n",
    "        plot5=functions3.Column5[4:L-3];\n",
    "    temp=round(n*dt,digits=2)\n",
    "    plot!(initX1, [plot1 plot2 plot3 plot4], labels=[\"m\" \"beta\" \"psi\" \"psi,x\"], title=\"$temp\", ylim=[-0.01, 0.01],xlim=[0, 1])#, xlim=[0, 0.1])# |> display \n",
    "    #plot!(initX[4:L-3], [plot1], labels=[\"m\" \"beta\" \"psi\" \"psi,x\"],ylim=[-1,1])#, xlim=[0, 0.1]) |> display \n",
    "    \n",
    "    end\n",
    "\n",
    "gif(anim, \"anim_res$res.gif\", fps = 10)"
   ]
  },
  {
   "cell_type": "code",
   "execution_count": null,
   "id": "2f4d41cf",
   "metadata": {
    "papermill": {
     "duration": null,
     "end_time": null,
     "exception": null,
     "start_time": null,
     "status": "completed"
    },
    "tags": []
   },
   "outputs": [],
   "source": []
  },
  {
   "cell_type": "code",
   "execution_count": null,
   "id": "c6b8b7bc",
   "metadata": {
    "papermill": {
     "duration": null,
     "end_time": null,
     "exception": null,
     "start_time": null,
     "status": "completed"
    },
    "tags": []
   },
   "outputs": [],
   "source": [
    "using Plots, CSV, DataFrames\n",
    "import GR\n",
    "anim = @animate for n in 10:10:1000#length(T)-1\n",
    "    \n",
    "    IJulia.clear_output(true)\n",
    "    \n",
    "    functions3=DataFrame(CSV.File(dir*\"/res$res/monitor_ratio$n.csv\",header=false, delim=\",\"))\n",
    "    plot()\n",
    "        plot1=functions3.Column1[4:L-3];\n",
    "    \n",
    "    plot!(initX1, [plot1], labels=[\"monitor ratio\"], ylim=[0, 1])# |> display \n",
    "    #plot!(initX[4:L-3], [plot1], labels=[\"m\" \"beta\" \"psi\" \"psi,x\"],ylim=[-1,1])#, xlim=[0, 0.1]) |> display \n",
    "    \n",
    "    end\n",
    "\n",
    "gif(anim, \"anim_res$res.gif\", fps = 5)"
   ]
  },
  {
   "cell_type": "code",
   "execution_count": null,
   "id": "baafffa1",
   "metadata": {
    "papermill": {
     "duration": null,
     "end_time": null,
     "exception": null,
     "start_time": null,
     "status": "completed"
    },
    "tags": []
   },
   "outputs": [],
   "source": []
  },
  {
   "cell_type": "markdown",
   "id": "178a4797",
   "metadata": {
    "papermill": {
     "duration": null,
     "end_time": null,
     "exception": null,
     "start_time": null,
     "status": "completed"
    },
    "tags": []
   },
   "source": [
    "# New test"
   ]
  },
  {
   "cell_type": "code",
   "execution_count": null,
   "id": "3ec9634d",
   "metadata": {
    "papermill": {
     "duration": null,
     "end_time": null,
     "exception": null,
     "start_time": null,
     "status": "completed"
    },
    "tags": []
   },
   "outputs": [],
   "source": [
    "include(\"./ScalarField.jl\");\n",
    "\n",
    "function ff(x)\n",
    "\n",
    "    return x^2\n",
    "\n",
    "end\n",
    "function gridd(x)\n",
    "\n",
    "    #return(1/2+1/2*cos(pi*(1-0.9*x)))\n",
    "    return(1/2 .+ 1/2 .* cos.(pi .* (1 .- x)))\n",
    "\n",
    "end;"
   ]
  },
  {
   "cell_type": "code",
   "execution_count": null,
   "id": "640a2dd2",
   "metadata": {
    "papermill": {
     "duration": null,
     "end_time": null,
     "exception": null,
     "start_time": null,
     "status": "completed"
    },
    "tags": []
   },
   "outputs": [],
   "source": [
    "res=1\n",
    "\n",
    "dx=0.1\n",
    "\n",
    "x=range(-3*dx,1+3*dx,step=dx)\n",
    "\n",
    "y=ff.(x);"
   ]
  },
  {
   "cell_type": "code",
   "execution_count": null,
   "id": "01dcc993",
   "metadata": {
    "papermill": {
     "duration": null,
     "end_time": null,
     "exception": null,
     "start_time": null,
     "status": "completed"
    },
    "tags": []
   },
   "outputs": [],
   "source": [
    "L=length(x)\n",
    "aux=zeros(L)\n",
    "\n",
    "\n",
    "for i in 4:L-3\n",
    "\n",
    "    aux[i]=Dertest(y,i,x)\n",
    "\n",
    "end\n",
    "\n",
    "println(aux[4:L-3]);\n",
    "xnew=x\n",
    "xnew[4:L-3]=gridd(x)[4:L-3]\n",
    "\n",
    "#ynew=ff.(xnew);\n",
    "ynew=[ff.(xnew) zeros(L)]"
   ]
  },
  {
   "cell_type": "code",
   "execution_count": null,
   "id": "5829c97d",
   "metadata": {
    "papermill": {
     "duration": null,
     "end_time": null,
     "exception": null,
     "start_time": null,
     "status": "completed"
    },
    "tags": []
   },
   "outputs": [],
   "source": [
    "gridd(x)[4:L-3]"
   ]
  },
  {
   "cell_type": "code",
   "execution_count": null,
   "id": "85a26205",
   "metadata": {
    "papermill": {
     "duration": null,
     "end_time": null,
     "exception": null,
     "start_time": null,
     "status": "completed"
    },
    "tags": []
   },
   "outputs": [],
   "source": [
    "spl=Spline1D(xnew[4:L-3],ynew[4:L-3],k=4)\n",
    "spl=[spl spl]\n",
    "auxnew=zeros(L);\n",
    "k=1\n",
    "\n",
    "for i in 4:L-3\n",
    "    auxnew[i]=unevenDer(ynew,i,k,xnew,spl)\n",
    "end\n",
    "\n",
    "println(\" \")\n",
    "println(auxnew[4:L-3])\n",
    "println(\" \")\n",
    "println(2 .* xnew[4:L-3])"
   ]
  },
  {
   "cell_type": "code",
   "execution_count": null,
   "id": "6e2c9f0d",
   "metadata": {
    "papermill": {
     "duration": null,
     "end_time": null,
     "exception": null,
     "start_time": null,
     "status": "completed"
    },
    "tags": []
   },
   "outputs": [],
   "source": [
    "\n",
    "#plot(x,y)\n",
    "\n",
    "scatter(xnew[4:L-3],auxnew[4:L-3])#,xlim=[0,0.2])\n",
    "\n",
    "#plot(x[4:L-3],aux[4:L-3])"
   ]
  },
  {
   "cell_type": "code",
   "execution_count": null,
   "id": "d08f8450",
   "metadata": {
    "papermill": {
     "duration": null,
     "end_time": null,
     "exception": null,
     "start_time": null,
     "status": "completed"
    },
    "tags": []
   },
   "outputs": [],
   "source": [
    "auxnew[L-3]"
   ]
  },
  {
   "cell_type": "code",
   "execution_count": null,
   "id": "3fd2297c",
   "metadata": {
    "papermill": {
     "duration": null,
     "end_time": null,
     "exception": null,
     "start_time": null,
     "status": "completed"
    },
    "tags": []
   },
   "outputs": [],
   "source": []
  },
  {
   "cell_type": "code",
   "execution_count": null,
   "id": "4677437a",
   "metadata": {
    "papermill": {
     "duration": null,
     "end_time": null,
     "exception": null,
     "start_time": null,
     "status": "completed"
    },
    "tags": []
   },
   "outputs": [],
   "source": []
  }
 ],
 "metadata": {
  "@webio": {
   "lastCommId": null,
   "lastKernelId": null
  },
  "kernelspec": {
   "display_name": "Julia 1.8.0",
   "language": "julia",
   "name": "julia-1.8"
  },
  "language_info": {
   "file_extension": ".jl",
   "mimetype": "application/julia",
   "name": "julia",
   "version": "1.8.0"
  },
  "papermill": {
   "default_parameters": {},
   "duration": 1.205578,
   "end_time": "2023-06-26T09:59:57.839915",
   "environment_variables": {},
   "exception": null,
   "input_path": "Evolution_ScalarField.ipynb",
   "output_path": "Evolution_ScalarField.ipynb",
   "parameters": {
    "A": 0.01,
    "m": 3
   },
   "start_time": "2023-06-26T09:59:56.634337",
   "version": "2.4.0"
  }
 },
 "nbformat": 4,
 "nbformat_minor": 5
}