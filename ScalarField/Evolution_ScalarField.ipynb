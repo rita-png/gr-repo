{
 "cells": [
  {
   "cell_type": "markdown",
   "id": "d88601a8",
   "metadata": {
    "papermill": {
     "duration": null,
     "end_time": null,
     "exception": null,
     "start_time": null,
     "status": "completed"
    },
    "tags": []
   },
   "source": [
    "# Evolution of Einstein's equations"
   ]
  },
  {
   "cell_type": "markdown",
   "id": "03c607c7",
   "metadata": {
    "papermill": {
     "duration": null,
     "end_time": null,
     "exception": null,
     "start_time": null,
     "status": "completed"
    },
    "tags": []
   },
   "source": [
    "# Initial data , setting length of the domain and discretization\n"
   ]
  },
  {
   "cell_type": "code",
   "execution_count": 565,
   "id": "e3ef6d22",
   "metadata": {
    "papermill": {
     "duration": null,
     "end_time": null,
     "exception": null,
     "start_time": null,
     "status": "completed"
    },
    "tags": [
     "injected-parameters"
    ]
   },
   "outputs": [
    {
     "data": {
      "text/plain": [
       "0.001"
      ]
     },
     "execution_count": 565,
     "metadata": {},
     "output_type": "execute_result"
    }
   ],
   "source": [
    "# Parameters\n",
    "m = 1\n",
    "A = 0.001#0.1449"
   ]
  },
  {
   "cell_type": "code",
   "execution_count": 566,
   "id": "80bb0a34",
   "metadata": {
    "execution": {
     "iopub.execute_input": "2023-03-01T09:49:50.032000Z",
     "iopub.status.busy": "2023-03-01T09:49:50.032000Z",
     "iopub.status.idle": "2023-03-01T09:49:50.289000Z",
     "shell.execute_reply": "2023-03-01T09:49:50.289000Z"
    },
    "papermill": {
     "duration": null,
     "end_time": null,
     "exception": null,
     "start_time": null,
     "status": "completed"
    },
    "tags": []
   },
   "outputs": [
    {
     "name": "stdout",
     "output_type": "stream",
     "text": [
      "the final time is 20.0\n"
     ]
    }
   ],
   "source": [
    "res=m;\n",
    "N=2.0^m*75/3*2#2.0^m*1000.0;#2.0^m*500.0;#N=2.0^m*500.0#2.0^m*100.0;\n",
    "Xf=1.0;\n",
    "\n",
    "dx=Xf/N;\n",
    "dt=round(dx,digits=10);\n",
    "Nt=100.0*2^m*10#100.0*2^m*10\n",
    "Tf=Nt*dt; #final time\n",
    "\n",
    "println(\"the final time is \", Tf)"
   ]
  },
  {
   "cell_type": "code",
   "execution_count": 567,
   "id": "2b95e4c8",
   "metadata": {
    "execution": {
     "iopub.execute_input": "2023-03-01T09:49:50.314000Z",
     "iopub.status.busy": "2023-03-01T09:49:50.313000Z",
     "iopub.status.idle": "2023-03-01T09:49:50.325000Z",
     "shell.execute_reply": "2023-03-01T09:49:50.325000Z"
    },
    "papermill": {
     "duration": null,
     "end_time": null,
     "exception": null,
     "start_time": null,
     "status": "completed"
    },
    "tags": []
   },
   "outputs": [
    {
     "name": "stdout",
     "output_type": "stream",
     "text": [
      "100.0"
     ]
    }
   ],
   "source": [
    "print(N)"
   ]
  },
  {
   "cell_type": "code",
   "execution_count": 568,
   "id": "ad48576a",
   "metadata": {
    "execution": {
     "iopub.execute_input": "2023-03-01T09:49:50.355000Z",
     "iopub.status.busy": "2023-03-01T09:49:50.355000Z",
     "iopub.status.idle": "2023-03-01T09:49:50.371000Z",
     "shell.execute_reply": "2023-03-01T09:49:50.371000Z"
    },
    "papermill": {
     "duration": null,
     "end_time": null,
     "exception": null,
     "start_time": null,
     "status": "completed"
    },
    "tags": []
   },
   "outputs": [
    {
     "name": "stdout",
     "output_type": "stream",
     "text": [
      "dx =0.01\n",
      "dt =0.01\n",
      "dx/dt =1.0\n",
      "epsilon <= dx/dt * (1/2)^(2*2-1) = 0.125\n",
      "epsilon = dx/dt * (1/2)^(2*2) = 0.0625\n",
      "epsilon = dx/dt * (1/2)^(2*3) = 0.015625\n",
      "epsilon = dx/dt * (1/2)^(2) = 0.25\n"
     ]
    }
   ],
   "source": [
    "println(\"dx =\", dx)\n",
    "println(\"dt =\", dt)\n",
    "println(\"dx/dt =\", dx/dt)\n",
    "println(\"epsilon <= dx/dt * (1/2)^(2*2-1) = \", dx/dt*(1/2)^(2*2-1))\n",
    "\n",
    "println(\"epsilon = dx/dt * (1/2)^(2*2) = \", dx/dt*(1/2)^(2*2))\n",
    "\n",
    "println(\"epsilon = dx/dt * (1/2)^(2*3) = \", dx/dt*(1/2)^(2*3))\n",
    "\n",
    "println(\"epsilon = dx/dt * (1/2)^(2) = \", dx/dt*(1/2)^(2))"
   ]
  },
  {
   "cell_type": "code",
   "execution_count": 569,
   "id": "78fb78a5",
   "metadata": {
    "execution": {
     "iopub.execute_input": "2023-03-01T09:49:50.399000Z",
     "iopub.status.busy": "2023-03-01T09:49:50.399000Z",
     "iopub.status.idle": "2023-03-01T09:49:51.712000Z",
     "shell.execute_reply": "2023-03-01T09:49:51.712000Z"
    },
    "papermill": {
     "duration": null,
     "end_time": null,
     "exception": null,
     "start_time": null,
     "status": "completed"
    },
    "tags": []
   },
   "outputs": [
    {
     "data": {
      "text/plain": [
       "\"/home/rita13santos/Desktop/MSc Thesis/Git/ScalarField/DATA/res1\""
      ]
     },
     "execution_count": 569,
     "metadata": {},
     "output_type": "execute_result"
    }
   ],
   "source": [
    "# Setting RESOLUTION\n",
    "\n",
    "global dir = \"/home/rita13santos/Desktop/MSc Thesis/Git/ScalarField/DATA/res$res\"\n",
    "#global dir = \"/home/rita13santos/Desktop/MSc Thesis/Git/ScalarField/DATA/res\""
   ]
  },
  {
   "cell_type": "code",
   "execution_count": 570,
   "id": "9732fbb0",
   "metadata": {
    "execution": {
     "iopub.execute_input": "2023-03-01T09:49:51.817000Z",
     "iopub.status.busy": "2023-03-01T09:49:51.817000Z",
     "iopub.status.idle": "2023-03-01T09:49:52.350000Z",
     "shell.execute_reply": "2023-03-01T09:49:52.350000Z"
    },
    "papermill": {
     "duration": null,
     "end_time": null,
     "exception": null,
     "start_time": null,
     "status": "completed"
    },
    "tags": []
   },
   "outputs": [
    {
     "data": {
      "text/plain": [
       "0.1"
      ]
     },
     "execution_count": 570,
     "metadata": {},
     "output_type": "execute_result"
    }
   ],
   "source": [
    "epsilon=0.1##0.01#0.05; #05; #02;#0.05; #0.05; #0.05;#0.05;#0.05; #dissipation strength (-1 for backwards integration)"
   ]
  },
  {
   "cell_type": "markdown",
   "id": "e2dd4335",
   "metadata": {
    "papermill": {
     "duration": null,
     "end_time": null,
     "exception": null,
     "start_time": null,
     "status": "completed"
    },
    "tags": []
   },
   "source": [
    "# Grid"
   ]
  },
  {
   "cell_type": "code",
   "execution_count": 571,
   "id": "de24fea3",
   "metadata": {
    "execution": {
     "iopub.execute_input": "2023-03-01T09:49:52.407000Z",
     "iopub.status.busy": "2023-03-01T09:49:52.407000Z",
     "iopub.status.idle": "2023-03-01T09:49:52.633000Z",
     "shell.execute_reply": "2023-03-01T09:49:52.633000Z"
    },
    "papermill": {
     "duration": null,
     "end_time": null,
     "exception": null,
     "start_time": null,
     "status": "completed"
    },
    "tags": []
   },
   "outputs": [],
   "source": [
    "ori=0.0;\n",
    "initX1 = nothing\n",
    "initX1=range(ori, stop=Xf, step=dx);"
   ]
  },
  {
   "cell_type": "code",
   "execution_count": 572,
   "id": "7376d222",
   "metadata": {
    "execution": {
     "iopub.execute_input": "2023-03-01T09:49:52.659000Z",
     "iopub.status.busy": "2023-03-01T09:49:52.659000Z",
     "iopub.status.idle": "2023-03-01T09:49:52.688000Z",
     "shell.execute_reply": "2023-03-01T09:49:52.688000Z"
    },
    "papermill": {
     "duration": null,
     "end_time": null,
     "exception": null,
     "start_time": null,
     "status": "completed"
    },
    "scrolled": true,
    "tags": []
   },
   "outputs": [
    {
     "name": "stdout",
     "output_type": "stream",
     "text": [
      "step size is  0.01\n",
      "the time step is 0.01\n"
     ]
    }
   ],
   "source": [
    "initX = range(round(ori-3.0*dx,digits=10), stop=Xf+3.0*dx, step=dx)\n",
    "\n",
    "L=length(initX);\n",
    "println(\"step size is  \", dx)\n",
    "\n",
    "#T=range(dt,stop=Tf,step=dt)\n",
    "T=range(0,stop=Tf,step=dt)\n",
    "println(\"the time step is \", dt)"
   ]
  },
  {
   "cell_type": "code",
   "execution_count": 573,
   "id": "bc5288f8",
   "metadata": {
    "execution": {
     "iopub.execute_input": "2023-03-01T09:49:53.003000Z",
     "iopub.status.busy": "2023-03-01T09:49:53.002000Z",
     "iopub.status.idle": "2023-03-01T09:49:53.101000Z",
     "shell.execute_reply": "2023-03-01T09:49:53.101000Z"
    },
    "papermill": {
     "duration": null,
     "end_time": null,
     "exception": null,
     "start_time": null,
     "status": "completed"
    },
    "tags": []
   },
   "outputs": [],
   "source": [
    "include(\"./ScalarField.jl\");"
   ]
  },
  {
   "cell_type": "code",
   "execution_count": 574,
   "id": "d153473f",
   "metadata": {
    "execution": {
     "iopub.execute_input": "2023-03-01T09:49:53.129000Z",
     "iopub.status.busy": "2023-03-01T09:49:53.129000Z",
     "iopub.status.idle": "2023-03-01T09:49:55.021000Z",
     "shell.execute_reply": "2023-03-01T09:49:55.021000Z"
    },
    "papermill": {
     "duration": null,
     "end_time": null,
     "exception": null,
     "start_time": null,
     "status": "completed"
    },
    "tags": []
   },
   "outputs": [],
   "source": [
    "using Interpolations"
   ]
  },
  {
   "cell_type": "markdown",
   "id": "80ab1480",
   "metadata": {
    "papermill": {
     "duration": null,
     "end_time": null,
     "exception": null,
     "start_time": null,
     "status": "completed"
    },
    "tags": []
   },
   "source": [
    "# Initial data of m β Ψ and Ψ,x"
   ]
  },
  {
   "cell_type": "code",
   "execution_count": 575,
   "id": "d0af654c",
   "metadata": {
    "execution": {
     "iopub.execute_input": "2023-03-01T09:49:55.270000Z",
     "iopub.status.busy": "2023-03-01T09:49:55.065000Z",
     "iopub.status.idle": "2023-03-01T09:50:01.597000Z",
     "shell.execute_reply": "2023-03-01T09:50:01.597000Z"
    },
    "papermill": {
     "duration": null,
     "end_time": null,
     "exception": null,
     "start_time": null,
     "status": "completed"
    },
    "tags": []
   },
   "outputs": [
    {
     "data": {
      "text/plain": [
       "1×2 Matrix{Function}:\n",
       " psi_func  derpsi_func"
      ]
     },
     "execution_count": 575,
     "metadata": {},
     "output_type": "execute_result"
    }
   ],
   "source": [
    "using PyCall   \n",
    "\n",
    "\n",
    "scipy = pyimport(\"scipy\")\n",
    "scipyinterpolate = pyimport(\"scipy.interpolate\")\n",
    "\n",
    "\n",
    "####\n",
    "\n",
    "initm=zeros(L);\n",
    "initbeta=zeros(L);\n",
    "initpsi=zeros(L);\n",
    "initderpsi=zeros(L);\n",
    "\n",
    "state_array=[initm initbeta initpsi initderpsi initX];\n",
    "\n",
    "#PSI\n",
    "r0=0.7#0.3\n",
    "sigma=0.3\n",
    "initpsi[4:L-3] = init_gaussian(initX1,r0,sigma,A)\n",
    "\n",
    "state_array[:,3] = initpsi\n",
    "state_array = ghost(state_array)\n",
    "\n",
    "#PSI,X FROM PSI\n",
    "\"\"\"for i in 4:L-3\n",
    "    initderpsi[i]=Der(state_array[:,:],i,3,initX)\n",
    "end\n",
    "\n",
    "state_array[:,4] = initderpsi\n",
    "state_array = ghost(state_array)\"\"\"\n",
    "\n",
    "#new\n",
    "initderpsi[4:L-3] = init_gaussian_der(initX1,r0,sigma,A)\n",
    "state_array[:,4] = initderpsi\n",
    "state_array=ghost(state_array)\n",
    "\n",
    "####\n",
    "\n",
    "spl_psi = scipyinterpolate.splrep(initX[4:L-3], state_array[4:L-3,3],k=4)\n",
    "psi_func(x) = scipyinterpolate.splev(x, spl_psi)\n",
    "\n",
    "spl_derpsi = scipyinterpolate.splrep(initX[4:L-3], initderpsi[4:L-3],k=4)\n",
    "derpsi_func(x) = scipyinterpolate.splev(x, spl_derpsi)\n",
    "\n",
    "funcs = [psi_func derpsi_func]"
   ]
  },
  {
   "cell_type": "code",
   "execution_count": 576,
   "id": "384597fa",
   "metadata": {
    "execution": {
     "iopub.execute_input": "2023-03-01T09:50:37.023000Z",
     "iopub.status.busy": "2023-03-01T09:50:36.468000Z",
     "iopub.status.idle": "2023-03-01T09:50:43.960000Z",
     "shell.execute_reply": "2023-03-01T09:50:43.960000Z"
    },
    "papermill": {
     "duration": null,
     "end_time": null,
     "exception": null,
     "start_time": null,
     "status": "completed"
    },
    "tags": []
   },
   "outputs": [],
   "source": [
    "#BETA\n",
    "beta0=0\n",
    "initbeta[4:L-3]=rk4wrapper(SFconstraint_beta,beta0,initX1,0,funcs)\n",
    "state_array[:,2]=initbeta;\n",
    "state_array=ghost(state_array);\n",
    "\n",
    "\n",
    "#M\n",
    "m0=0\n",
    "initm[4:L-3]=rk4wrapper(SFconstraint_m,m0,initX1,0,funcs)\n",
    "state_array[:,1]=initm;\n",
    "state_array = ghost(state_array);"
   ]
  },
  {
   "cell_type": "code",
   "execution_count": 577,
   "id": "48f10a76",
   "metadata": {},
   "outputs": [
    {
     "data": {
      "image/svg+xml": [
       "<?xml version=\"1.0\" encoding=\"utf-8\"?>\n",
       "<svg xmlns=\"http://www.w3.org/2000/svg\" xmlns:xlink=\"http://www.w3.org/1999/xlink\" width=\"600\" height=\"400\" viewBox=\"0 0 2400 1600\">\n",
       "<defs>\n",
       "  <clipPath id=\"clip090\">\n",
       "    <rect x=\"0\" y=\"0\" width=\"2400\" height=\"1600\"/>\n",
       "  </clipPath>\n",
       "</defs>\n",
       "<path clip-path=\"url(#clip090)\" d=\"M0 1600 L2400 1600 L2400 0 L0 0  Z\" fill=\"#ffffff\" fill-rule=\"evenodd\" fill-opacity=\"1\"/>\n",
       "<defs>\n",
       "  <clipPath id=\"clip091\">\n",
       "    <rect x=\"480\" y=\"0\" width=\"1681\" height=\"1600\"/>\n",
       "  </clipPath>\n",
       "</defs>\n",
       "<path clip-path=\"url(#clip090)\" d=\"M284.422 1423.18 L2352.76 1423.18 L2352.76 123.472 L284.422 123.472  Z\" fill=\"#ffffff\" fill-rule=\"evenodd\" fill-opacity=\"1\"/>\n",
       "<defs>\n",
       "  <clipPath id=\"clip092\">\n",
       "    <rect x=\"284\" y=\"123\" width=\"2069\" height=\"1301\"/>\n",
       "  </clipPath>\n",
       "</defs>\n",
       "<polyline clip-path=\"url(#clip092)\" style=\"stroke:#000000; stroke-linecap:round; stroke-linejoin:round; stroke-width:2; stroke-opacity:0.1; fill:none\" points=\"398.184,1423.18 398.184,123.472 \"/>\n",
       "<polyline clip-path=\"url(#clip092)\" style=\"stroke:#000000; stroke-linecap:round; stroke-linejoin:round; stroke-width:2; stroke-opacity:0.1; fill:none\" points=\"858.386,1423.18 858.386,123.472 \"/>\n",
       "<polyline clip-path=\"url(#clip092)\" style=\"stroke:#000000; stroke-linecap:round; stroke-linejoin:round; stroke-width:2; stroke-opacity:0.1; fill:none\" points=\"1318.59,1423.18 1318.59,123.472 \"/>\n",
       "<polyline clip-path=\"url(#clip092)\" style=\"stroke:#000000; stroke-linecap:round; stroke-linejoin:round; stroke-width:2; stroke-opacity:0.1; fill:none\" points=\"1778.79,1423.18 1778.79,123.472 \"/>\n",
       "<polyline clip-path=\"url(#clip092)\" style=\"stroke:#000000; stroke-linecap:round; stroke-linejoin:round; stroke-width:2; stroke-opacity:0.1; fill:none\" points=\"2238.99,1423.18 2238.99,123.472 \"/>\n",
       "<polyline clip-path=\"url(#clip090)\" style=\"stroke:#000000; stroke-linecap:round; stroke-linejoin:round; stroke-width:4; stroke-opacity:1; fill:none\" points=\"284.422,1423.18 2352.76,1423.18 \"/>\n",
       "<polyline clip-path=\"url(#clip090)\" style=\"stroke:#000000; stroke-linecap:round; stroke-linejoin:round; stroke-width:4; stroke-opacity:1; fill:none\" points=\"398.184,1423.18 398.184,1404.28 \"/>\n",
       "<polyline clip-path=\"url(#clip090)\" style=\"stroke:#000000; stroke-linecap:round; stroke-linejoin:round; stroke-width:4; stroke-opacity:1; fill:none\" points=\"858.386,1423.18 858.386,1404.28 \"/>\n",
       "<polyline clip-path=\"url(#clip090)\" style=\"stroke:#000000; stroke-linecap:round; stroke-linejoin:round; stroke-width:4; stroke-opacity:1; fill:none\" points=\"1318.59,1423.18 1318.59,1404.28 \"/>\n",
       "<polyline clip-path=\"url(#clip090)\" style=\"stroke:#000000; stroke-linecap:round; stroke-linejoin:round; stroke-width:4; stroke-opacity:1; fill:none\" points=\"1778.79,1423.18 1778.79,1404.28 \"/>\n",
       "<polyline clip-path=\"url(#clip090)\" style=\"stroke:#000000; stroke-linecap:round; stroke-linejoin:round; stroke-width:4; stroke-opacity:1; fill:none\" points=\"2238.99,1423.18 2238.99,1404.28 \"/>\n",
       "<path clip-path=\"url(#clip090)\" d=\"M360.487 1454.1 Q356.876 1454.1 355.047 1457.66 Q353.242 1461.2 353.242 1468.33 Q353.242 1475.44 355.047 1479.01 Q356.876 1482.55 360.487 1482.55 Q364.121 1482.55 365.927 1479.01 Q367.756 1475.44 367.756 1468.33 Q367.756 1461.2 365.927 1457.66 Q364.121 1454.1 360.487 1454.1 M360.487 1450.39 Q366.297 1450.39 369.353 1455 Q372.432 1459.58 372.432 1468.33 Q372.432 1477.06 369.353 1481.67 Q366.297 1486.25 360.487 1486.25 Q354.677 1486.25 351.598 1481.67 Q348.543 1477.06 348.543 1468.33 Q348.543 1459.58 351.598 1455 Q354.677 1450.39 360.487 1450.39 Z\" fill=\"#000000\" fill-rule=\"evenodd\" fill-opacity=\"1\" /><path clip-path=\"url(#clip090)\" d=\"M380.649 1479.7 L385.533 1479.7 L385.533 1485.58 L380.649 1485.58 L380.649 1479.7 Z\" fill=\"#000000\" fill-rule=\"evenodd\" fill-opacity=\"1\" /><path clip-path=\"url(#clip090)\" d=\"M405.718 1454.1 Q402.107 1454.1 400.279 1457.66 Q398.473 1461.2 398.473 1468.33 Q398.473 1475.44 400.279 1479.01 Q402.107 1482.55 405.718 1482.55 Q409.353 1482.55 411.158 1479.01 Q412.987 1475.44 412.987 1468.33 Q412.987 1461.2 411.158 1457.66 Q409.353 1454.1 405.718 1454.1 M405.718 1450.39 Q411.529 1450.39 414.584 1455 Q417.663 1459.58 417.663 1468.33 Q417.663 1477.06 414.584 1481.67 Q411.529 1486.25 405.718 1486.25 Q399.908 1486.25 396.83 1481.67 Q393.774 1477.06 393.774 1468.33 Q393.774 1459.58 396.83 1455 Q399.908 1450.39 405.718 1450.39 Z\" fill=\"#000000\" fill-rule=\"evenodd\" fill-opacity=\"1\" /><path clip-path=\"url(#clip090)\" d=\"M435.88 1454.1 Q432.269 1454.1 430.44 1457.66 Q428.635 1461.2 428.635 1468.33 Q428.635 1475.44 430.44 1479.01 Q432.269 1482.55 435.88 1482.55 Q439.514 1482.55 441.32 1479.01 Q443.149 1475.44 443.149 1468.33 Q443.149 1461.2 441.32 1457.66 Q439.514 1454.1 435.88 1454.1 M435.88 1450.39 Q441.69 1450.39 444.746 1455 Q447.825 1459.58 447.825 1468.33 Q447.825 1477.06 444.746 1481.67 Q441.69 1486.25 435.88 1486.25 Q430.07 1486.25 426.991 1481.67 Q423.936 1477.06 423.936 1468.33 Q423.936 1459.58 426.991 1455 Q430.07 1450.39 435.88 1450.39 Z\" fill=\"#000000\" fill-rule=\"evenodd\" fill-opacity=\"1\" /><path clip-path=\"url(#clip090)\" d=\"M821.187 1454.1 Q817.576 1454.1 815.748 1457.66 Q813.942 1461.2 813.942 1468.33 Q813.942 1475.44 815.748 1479.01 Q817.576 1482.55 821.187 1482.55 Q824.822 1482.55 826.627 1479.01 Q828.456 1475.44 828.456 1468.33 Q828.456 1461.2 826.627 1457.66 Q824.822 1454.1 821.187 1454.1 M821.187 1450.39 Q826.998 1450.39 830.053 1455 Q833.132 1459.58 833.132 1468.33 Q833.132 1477.06 830.053 1481.67 Q826.998 1486.25 821.187 1486.25 Q815.377 1486.25 812.299 1481.67 Q809.243 1477.06 809.243 1468.33 Q809.243 1459.58 812.299 1455 Q815.377 1450.39 821.187 1450.39 Z\" fill=\"#000000\" fill-rule=\"evenodd\" fill-opacity=\"1\" /><path clip-path=\"url(#clip090)\" d=\"M841.349 1479.7 L846.234 1479.7 L846.234 1485.58 L841.349 1485.58 L841.349 1479.7 Z\" fill=\"#000000\" fill-rule=\"evenodd\" fill-opacity=\"1\" /><path clip-path=\"url(#clip090)\" d=\"M860.446 1481.64 L876.766 1481.64 L876.766 1485.58 L854.821 1485.58 L854.821 1481.64 Q857.483 1478.89 862.067 1474.26 Q866.673 1469.61 867.854 1468.27 Q870.099 1465.74 870.979 1464.01 Q871.882 1462.25 871.882 1460.56 Q871.882 1457.8 869.937 1456.07 Q868.016 1454.33 864.914 1454.33 Q862.715 1454.33 860.261 1455.09 Q857.831 1455.86 855.053 1457.41 L855.053 1452.69 Q857.877 1451.55 860.331 1450.97 Q862.784 1450.39 864.821 1450.39 Q870.192 1450.39 873.386 1453.08 Q876.581 1455.77 876.581 1460.26 Q876.581 1462.39 875.77 1464.31 Q874.983 1466.2 872.877 1468.8 Q872.298 1469.47 869.196 1472.69 Q866.095 1475.88 860.446 1481.64 Z\" fill=\"#000000\" fill-rule=\"evenodd\" fill-opacity=\"1\" /><path clip-path=\"url(#clip090)\" d=\"M886.627 1451.02 L904.983 1451.02 L904.983 1454.96 L890.909 1454.96 L890.909 1463.43 Q891.928 1463.08 892.946 1462.92 Q893.965 1462.73 894.983 1462.73 Q900.77 1462.73 904.15 1465.9 Q907.529 1469.08 907.529 1474.49 Q907.529 1480.07 904.057 1483.17 Q900.585 1486.25 894.266 1486.25 Q892.09 1486.25 889.821 1485.88 Q887.576 1485.51 885.168 1484.77 L885.168 1480.07 Q887.252 1481.2 889.474 1481.76 Q891.696 1482.32 894.173 1482.32 Q898.178 1482.32 900.516 1480.21 Q902.854 1478.1 902.854 1474.49 Q902.854 1470.88 900.516 1468.77 Q898.178 1466.67 894.173 1466.67 Q892.298 1466.67 890.423 1467.08 Q888.571 1467.5 886.627 1468.38 L886.627 1451.02 Z\" fill=\"#000000\" fill-rule=\"evenodd\" fill-opacity=\"1\" /><path clip-path=\"url(#clip090)\" d=\"M1280.89 1454.1 Q1277.28 1454.1 1275.45 1457.66 Q1273.65 1461.2 1273.65 1468.33 Q1273.65 1475.44 1275.45 1479.01 Q1277.28 1482.55 1280.89 1482.55 Q1284.53 1482.55 1286.33 1479.01 Q1288.16 1475.44 1288.16 1468.33 Q1288.16 1461.2 1286.33 1457.66 Q1284.53 1454.1 1280.89 1454.1 M1280.89 1450.39 Q1286.7 1450.39 1289.76 1455 Q1292.84 1459.58 1292.84 1468.33 Q1292.84 1477.06 1289.76 1481.67 Q1286.7 1486.25 1280.89 1486.25 Q1275.08 1486.25 1272 1481.67 Q1268.95 1477.06 1268.95 1468.33 Q1268.95 1459.58 1272 1455 Q1275.08 1450.39 1280.89 1450.39 Z\" fill=\"#000000\" fill-rule=\"evenodd\" fill-opacity=\"1\" /><path clip-path=\"url(#clip090)\" d=\"M1301.05 1479.7 L1305.94 1479.7 L1305.94 1485.58 L1301.05 1485.58 L1301.05 1479.7 Z\" fill=\"#000000\" fill-rule=\"evenodd\" fill-opacity=\"1\" /><path clip-path=\"url(#clip090)\" d=\"M1316.17 1451.02 L1334.53 1451.02 L1334.53 1454.96 L1320.45 1454.96 L1320.45 1463.43 Q1321.47 1463.08 1322.49 1462.92 Q1323.51 1462.73 1324.53 1462.73 Q1330.31 1462.73 1333.69 1465.9 Q1337.07 1469.08 1337.07 1474.49 Q1337.07 1480.07 1333.6 1483.17 Q1330.13 1486.25 1323.81 1486.25 Q1321.63 1486.25 1319.36 1485.88 Q1317.12 1485.51 1314.71 1484.77 L1314.71 1480.07 Q1316.79 1481.2 1319.02 1481.76 Q1321.24 1482.32 1323.72 1482.32 Q1327.72 1482.32 1330.06 1480.21 Q1332.4 1478.1 1332.4 1474.49 Q1332.4 1470.88 1330.06 1468.77 Q1327.72 1466.67 1323.72 1466.67 Q1321.84 1466.67 1319.97 1467.08 Q1318.11 1467.5 1316.17 1468.38 L1316.17 1451.02 Z\" fill=\"#000000\" fill-rule=\"evenodd\" fill-opacity=\"1\" /><path clip-path=\"url(#clip090)\" d=\"M1356.29 1454.1 Q1352.67 1454.1 1350.85 1457.66 Q1349.04 1461.2 1349.04 1468.33 Q1349.04 1475.44 1350.85 1479.01 Q1352.67 1482.55 1356.29 1482.55 Q1359.92 1482.55 1361.73 1479.01 Q1363.55 1475.44 1363.55 1468.33 Q1363.55 1461.2 1361.73 1457.66 Q1359.92 1454.1 1356.29 1454.1 M1356.29 1450.39 Q1362.1 1450.39 1365.15 1455 Q1368.23 1459.58 1368.23 1468.33 Q1368.23 1477.06 1365.15 1481.67 Q1362.1 1486.25 1356.29 1486.25 Q1350.48 1486.25 1347.4 1481.67 Q1344.34 1477.06 1344.34 1468.33 Q1344.34 1459.58 1347.4 1455 Q1350.48 1450.39 1356.29 1450.39 Z\" fill=\"#000000\" fill-rule=\"evenodd\" fill-opacity=\"1\" /><path clip-path=\"url(#clip090)\" d=\"M1741.59 1454.1 Q1737.98 1454.1 1736.15 1457.66 Q1734.35 1461.2 1734.35 1468.33 Q1734.35 1475.44 1736.15 1479.01 Q1737.98 1482.55 1741.59 1482.55 Q1745.23 1482.55 1747.03 1479.01 Q1748.86 1475.44 1748.86 1468.33 Q1748.86 1461.2 1747.03 1457.66 Q1745.23 1454.1 1741.59 1454.1 M1741.59 1450.39 Q1747.4 1450.39 1750.46 1455 Q1753.54 1459.58 1753.54 1468.33 Q1753.54 1477.06 1750.46 1481.67 Q1747.4 1486.25 1741.59 1486.25 Q1735.78 1486.25 1732.7 1481.67 Q1729.65 1477.06 1729.65 1468.33 Q1729.65 1459.58 1732.7 1455 Q1735.78 1450.39 1741.59 1450.39 Z\" fill=\"#000000\" fill-rule=\"evenodd\" fill-opacity=\"1\" /><path clip-path=\"url(#clip090)\" d=\"M1761.75 1479.7 L1766.64 1479.7 L1766.64 1485.58 L1761.75 1485.58 L1761.75 1479.7 Z\" fill=\"#000000\" fill-rule=\"evenodd\" fill-opacity=\"1\" /><path clip-path=\"url(#clip090)\" d=\"M1775.64 1451.02 L1797.87 1451.02 L1797.87 1453.01 L1785.32 1485.58 L1780.43 1485.58 L1792.24 1454.96 L1775.64 1454.96 L1775.64 1451.02 Z\" fill=\"#000000\" fill-rule=\"evenodd\" fill-opacity=\"1\" /><path clip-path=\"url(#clip090)\" d=\"M1807.03 1451.02 L1825.39 1451.02 L1825.39 1454.96 L1811.31 1454.96 L1811.31 1463.43 Q1812.33 1463.08 1813.35 1462.92 Q1814.37 1462.73 1815.39 1462.73 Q1821.18 1462.73 1824.55 1465.9 Q1827.93 1469.08 1827.93 1474.49 Q1827.93 1480.07 1824.46 1483.17 Q1820.99 1486.25 1814.67 1486.25 Q1812.49 1486.25 1810.23 1485.88 Q1807.98 1485.51 1805.57 1484.77 L1805.57 1480.07 Q1807.66 1481.2 1809.88 1481.76 Q1812.1 1482.32 1814.58 1482.32 Q1818.58 1482.32 1820.92 1480.21 Q1823.26 1478.1 1823.26 1474.49 Q1823.26 1470.88 1820.92 1468.77 Q1818.58 1466.67 1814.58 1466.67 Q1812.7 1466.67 1810.83 1467.08 Q1808.98 1467.5 1807.03 1468.38 L1807.03 1451.02 Z\" fill=\"#000000\" fill-rule=\"evenodd\" fill-opacity=\"1\" /><path clip-path=\"url(#clip090)\" d=\"M2191.07 1481.64 L2198.7 1481.64 L2198.7 1455.28 L2190.39 1456.95 L2190.39 1452.69 L2198.66 1451.02 L2203.33 1451.02 L2203.33 1481.64 L2210.97 1481.64 L2210.97 1485.58 L2191.07 1485.58 L2191.07 1481.64 Z\" fill=\"#000000\" fill-rule=\"evenodd\" fill-opacity=\"1\" /><path clip-path=\"url(#clip090)\" d=\"M2220.42 1479.7 L2225.3 1479.7 L2225.3 1485.58 L2220.42 1485.58 L2220.42 1479.7 Z\" fill=\"#000000\" fill-rule=\"evenodd\" fill-opacity=\"1\" /><path clip-path=\"url(#clip090)\" d=\"M2245.49 1454.1 Q2241.88 1454.1 2240.05 1457.66 Q2238.24 1461.2 2238.24 1468.33 Q2238.24 1475.44 2240.05 1479.01 Q2241.88 1482.55 2245.49 1482.55 Q2249.12 1482.55 2250.93 1479.01 Q2252.76 1475.44 2252.76 1468.33 Q2252.76 1461.2 2250.93 1457.66 Q2249.12 1454.1 2245.49 1454.1 M2245.49 1450.39 Q2251.3 1450.39 2254.35 1455 Q2257.43 1459.58 2257.43 1468.33 Q2257.43 1477.06 2254.35 1481.67 Q2251.3 1486.25 2245.49 1486.25 Q2239.68 1486.25 2236.6 1481.67 Q2233.54 1477.06 2233.54 1468.33 Q2233.54 1459.58 2236.6 1455 Q2239.68 1450.39 2245.49 1450.39 Z\" fill=\"#000000\" fill-rule=\"evenodd\" fill-opacity=\"1\" /><path clip-path=\"url(#clip090)\" d=\"M2275.65 1454.1 Q2272.04 1454.1 2270.21 1457.66 Q2268.4 1461.2 2268.4 1468.33 Q2268.4 1475.44 2270.21 1479.01 Q2272.04 1482.55 2275.65 1482.55 Q2279.28 1482.55 2281.09 1479.01 Q2282.92 1475.44 2282.92 1468.33 Q2282.92 1461.2 2281.09 1457.66 Q2279.28 1454.1 2275.65 1454.1 M2275.65 1450.39 Q2281.46 1450.39 2284.51 1455 Q2287.59 1459.58 2287.59 1468.33 Q2287.59 1477.06 2284.51 1481.67 Q2281.46 1486.25 2275.65 1486.25 Q2269.84 1486.25 2266.76 1481.67 Q2263.7 1477.06 2263.7 1468.33 Q2263.7 1459.58 2266.76 1455 Q2269.84 1450.39 2275.65 1450.39 Z\" fill=\"#000000\" fill-rule=\"evenodd\" fill-opacity=\"1\" /><path clip-path=\"url(#clip090)\" d=\"M1335.2 1532.4 L1322.31 1549.74 L1335.87 1568.04 L1328.96 1568.04 L1318.59 1554.04 L1308.21 1568.04 L1301.31 1568.04 L1315.15 1549.39 L1302.48 1532.4 L1309.39 1532.4 L1318.84 1545.1 L1328.3 1532.4 L1335.2 1532.4 Z\" fill=\"#000000\" fill-rule=\"evenodd\" fill-opacity=\"1\" /><polyline clip-path=\"url(#clip092)\" style=\"stroke:#000000; stroke-linecap:round; stroke-linejoin:round; stroke-width:2; stroke-opacity:0.1; fill:none\" points=\"284.422,1245.94 2352.76,1245.94 \"/>\n",
       "<polyline clip-path=\"url(#clip092)\" style=\"stroke:#000000; stroke-linecap:round; stroke-linejoin:round; stroke-width:2; stroke-opacity:0.1; fill:none\" points=\"284.422,953.127 2352.76,953.127 \"/>\n",
       "<polyline clip-path=\"url(#clip092)\" style=\"stroke:#000000; stroke-linecap:round; stroke-linejoin:round; stroke-width:2; stroke-opacity:0.1; fill:none\" points=\"284.422,660.317 2352.76,660.317 \"/>\n",
       "<polyline clip-path=\"url(#clip092)\" style=\"stroke:#000000; stroke-linecap:round; stroke-linejoin:round; stroke-width:2; stroke-opacity:0.1; fill:none\" points=\"284.422,367.507 2352.76,367.507 \"/>\n",
       "<polyline clip-path=\"url(#clip090)\" style=\"stroke:#000000; stroke-linecap:round; stroke-linejoin:round; stroke-width:4; stroke-opacity:1; fill:none\" points=\"284.422,1423.18 284.422,123.472 \"/>\n",
       "<polyline clip-path=\"url(#clip090)\" style=\"stroke:#000000; stroke-linecap:round; stroke-linejoin:round; stroke-width:4; stroke-opacity:1; fill:none\" points=\"284.422,1245.94 303.319,1245.94 \"/>\n",
       "<polyline clip-path=\"url(#clip090)\" style=\"stroke:#000000; stroke-linecap:round; stroke-linejoin:round; stroke-width:4; stroke-opacity:1; fill:none\" points=\"284.422,953.127 303.319,953.127 \"/>\n",
       "<polyline clip-path=\"url(#clip090)\" style=\"stroke:#000000; stroke-linecap:round; stroke-linejoin:round; stroke-width:4; stroke-opacity:1; fill:none\" points=\"284.422,660.317 303.319,660.317 \"/>\n",
       "<polyline clip-path=\"url(#clip090)\" style=\"stroke:#000000; stroke-linecap:round; stroke-linejoin:round; stroke-width:4; stroke-opacity:1; fill:none\" points=\"284.422,367.507 303.319,367.507 \"/>\n",
       "<path clip-path=\"url(#clip090)\" d=\"M50.9921 1246.39 L80.6679 1246.39 L80.6679 1250.32 L50.9921 1250.32 L50.9921 1246.39 Z\" fill=\"#000000\" fill-rule=\"evenodd\" fill-opacity=\"1\" /><path clip-path=\"url(#clip090)\" d=\"M100.76 1231.73 Q97.1493 1231.73 95.3206 1235.3 Q93.515 1238.84 93.515 1245.97 Q93.515 1253.08 95.3206 1256.64 Q97.1493 1260.18 100.76 1260.18 Q104.395 1260.18 106.2 1256.64 Q108.029 1253.08 108.029 1245.97 Q108.029 1238.84 106.2 1235.3 Q104.395 1231.73 100.76 1231.73 M100.76 1228.03 Q106.571 1228.03 109.626 1232.64 Q112.705 1237.22 112.705 1245.97 Q112.705 1254.7 109.626 1259.3 Q106.571 1263.89 100.76 1263.89 Q94.9502 1263.89 91.8715 1259.3 Q88.816 1254.7 88.816 1245.97 Q88.816 1237.22 91.8715 1232.64 Q94.9502 1228.03 100.76 1228.03 Z\" fill=\"#000000\" fill-rule=\"evenodd\" fill-opacity=\"1\" /><path clip-path=\"url(#clip090)\" d=\"M120.922 1257.34 L125.807 1257.34 L125.807 1263.22 L120.922 1263.22 L120.922 1257.34 Z\" fill=\"#000000\" fill-rule=\"evenodd\" fill-opacity=\"1\" /><path clip-path=\"url(#clip090)\" d=\"M145.992 1231.73 Q142.381 1231.73 140.552 1235.3 Q138.746 1238.84 138.746 1245.97 Q138.746 1253.08 140.552 1256.64 Q142.381 1260.18 145.992 1260.18 Q149.626 1260.18 151.431 1256.64 Q153.26 1253.08 153.26 1245.97 Q153.26 1238.84 151.431 1235.3 Q149.626 1231.73 145.992 1231.73 M145.992 1228.03 Q151.802 1228.03 154.857 1232.64 Q157.936 1237.22 157.936 1245.97 Q157.936 1254.7 154.857 1259.3 Q151.802 1263.89 145.992 1263.89 Q140.181 1263.89 137.103 1259.3 Q134.047 1254.7 134.047 1245.97 Q134.047 1237.22 137.103 1232.64 Q140.181 1228.03 145.992 1228.03 Z\" fill=\"#000000\" fill-rule=\"evenodd\" fill-opacity=\"1\" /><path clip-path=\"url(#clip090)\" d=\"M176.153 1231.73 Q172.542 1231.73 170.714 1235.3 Q168.908 1238.84 168.908 1245.97 Q168.908 1253.08 170.714 1256.64 Q172.542 1260.18 176.153 1260.18 Q179.788 1260.18 181.593 1256.64 Q183.422 1253.08 183.422 1245.97 Q183.422 1238.84 181.593 1235.3 Q179.788 1231.73 176.153 1231.73 M176.153 1228.03 Q181.964 1228.03 185.019 1232.64 Q188.098 1237.22 188.098 1245.97 Q188.098 1254.7 185.019 1259.3 Q181.964 1263.89 176.153 1263.89 Q170.343 1263.89 167.265 1259.3 Q164.209 1254.7 164.209 1245.97 Q164.209 1237.22 167.265 1232.64 Q170.343 1228.03 176.153 1228.03 Z\" fill=\"#000000\" fill-rule=\"evenodd\" fill-opacity=\"1\" /><path clip-path=\"url(#clip090)\" d=\"M196.362 1228.66 L214.718 1228.66 L214.718 1232.59 L200.644 1232.59 L200.644 1241.06 Q201.663 1240.72 202.681 1240.55 Q203.7 1240.37 204.718 1240.37 Q210.505 1240.37 213.885 1243.54 Q217.264 1246.71 217.264 1252.13 Q217.264 1257.71 213.792 1260.81 Q210.32 1263.89 204.001 1263.89 Q201.825 1263.89 199.556 1263.52 Q197.311 1263.15 194.903 1262.41 L194.903 1257.71 Q196.987 1258.84 199.209 1259.4 Q201.431 1259.95 203.908 1259.95 Q207.913 1259.95 210.251 1257.85 Q212.588 1255.74 212.588 1252.13 Q212.588 1248.52 210.251 1246.41 Q207.913 1244.3 203.908 1244.3 Q202.033 1244.3 200.158 1244.72 Q198.306 1245.14 196.362 1246.02 L196.362 1228.66 Z\" fill=\"#000000\" fill-rule=\"evenodd\" fill-opacity=\"1\" /><path clip-path=\"url(#clip090)\" d=\"M236.477 1231.73 Q232.866 1231.73 231.037 1235.3 Q229.232 1238.84 229.232 1245.97 Q229.232 1253.08 231.037 1256.64 Q232.866 1260.18 236.477 1260.18 Q240.111 1260.18 241.917 1256.64 Q243.746 1253.08 243.746 1245.97 Q243.746 1238.84 241.917 1235.3 Q240.111 1231.73 236.477 1231.73 M236.477 1228.03 Q242.287 1228.03 245.343 1232.64 Q248.422 1237.22 248.422 1245.97 Q248.422 1254.7 245.343 1259.3 Q242.287 1263.89 236.477 1263.89 Q230.667 1263.89 227.588 1259.3 Q224.533 1254.7 224.533 1245.97 Q224.533 1237.22 227.588 1232.64 Q230.667 1228.03 236.477 1228.03 Z\" fill=\"#000000\" fill-rule=\"evenodd\" fill-opacity=\"1\" /><path clip-path=\"url(#clip090)\" d=\"M51.9875 953.578 L81.6633 953.578 L81.6633 957.513 L51.9875 957.513 L51.9875 953.578 Z\" fill=\"#000000\" fill-rule=\"evenodd\" fill-opacity=\"1\" /><path clip-path=\"url(#clip090)\" d=\"M101.756 938.925 Q98.1447 938.925 96.316 942.49 Q94.5104 946.032 94.5104 953.161 Q94.5104 960.268 96.316 963.832 Q98.1447 967.374 101.756 967.374 Q105.39 967.374 107.196 963.832 Q109.024 960.268 109.024 953.161 Q109.024 946.032 107.196 942.49 Q105.39 938.925 101.756 938.925 M101.756 935.222 Q107.566 935.222 110.621 939.828 Q113.7 944.411 113.7 953.161 Q113.7 961.888 110.621 966.495 Q107.566 971.078 101.756 971.078 Q95.9456 971.078 92.8669 966.495 Q89.8114 961.888 89.8114 953.161 Q89.8114 944.411 92.8669 939.828 Q95.9456 935.222 101.756 935.222 Z\" fill=\"#000000\" fill-rule=\"evenodd\" fill-opacity=\"1\" /><path clip-path=\"url(#clip090)\" d=\"M121.918 964.527 L126.802 964.527 L126.802 970.407 L121.918 970.407 L121.918 964.527 Z\" fill=\"#000000\" fill-rule=\"evenodd\" fill-opacity=\"1\" /><path clip-path=\"url(#clip090)\" d=\"M146.987 938.925 Q143.376 938.925 141.547 942.49 Q139.742 946.032 139.742 953.161 Q139.742 960.268 141.547 963.832 Q143.376 967.374 146.987 967.374 Q150.621 967.374 152.427 963.832 Q154.255 960.268 154.255 953.161 Q154.255 946.032 152.427 942.49 Q150.621 938.925 146.987 938.925 M146.987 935.222 Q152.797 935.222 155.853 939.828 Q158.931 944.411 158.931 953.161 Q158.931 961.888 155.853 966.495 Q152.797 971.078 146.987 971.078 Q141.177 971.078 138.098 966.495 Q135.043 961.888 135.043 953.161 Q135.043 944.411 138.098 939.828 Q141.177 935.222 146.987 935.222 Z\" fill=\"#000000\" fill-rule=\"evenodd\" fill-opacity=\"1\" /><path clip-path=\"url(#clip090)\" d=\"M177.149 938.925 Q173.538 938.925 171.709 942.49 Q169.904 946.032 169.904 953.161 Q169.904 960.268 171.709 963.832 Q173.538 967.374 177.149 967.374 Q180.783 967.374 182.589 963.832 Q184.417 960.268 184.417 953.161 Q184.417 946.032 182.589 942.49 Q180.783 938.925 177.149 938.925 M177.149 935.222 Q182.959 935.222 186.015 939.828 Q189.093 944.411 189.093 953.161 Q189.093 961.888 186.015 966.495 Q182.959 971.078 177.149 971.078 Q171.339 971.078 168.26 966.495 Q165.204 961.888 165.204 953.161 Q165.204 944.411 168.26 939.828 Q171.339 935.222 177.149 935.222 Z\" fill=\"#000000\" fill-rule=\"evenodd\" fill-opacity=\"1\" /><path clip-path=\"url(#clip090)\" d=\"M201.339 966.471 L217.658 966.471 L217.658 970.407 L195.714 970.407 L195.714 966.471 Q198.376 963.717 202.959 959.087 Q207.565 954.434 208.746 953.092 Q210.991 950.569 211.871 948.833 Q212.774 947.073 212.774 945.384 Q212.774 942.629 210.829 940.893 Q208.908 939.157 205.806 939.157 Q203.607 939.157 201.153 939.921 Q198.723 940.684 195.945 942.235 L195.945 937.513 Q198.769 936.379 201.223 935.8 Q203.676 935.222 205.714 935.222 Q211.084 935.222 214.278 937.907 Q217.473 940.592 217.473 945.083 Q217.473 947.212 216.663 949.133 Q215.876 951.032 213.769 953.624 Q213.19 954.296 210.088 957.513 Q206.987 960.708 201.339 966.471 Z\" fill=\"#000000\" fill-rule=\"evenodd\" fill-opacity=\"1\" /><path clip-path=\"url(#clip090)\" d=\"M227.519 935.847 L245.875 935.847 L245.875 939.782 L231.801 939.782 L231.801 948.254 Q232.82 947.907 233.838 947.745 Q234.857 947.559 235.875 947.559 Q241.662 947.559 245.042 950.731 Q248.422 953.902 248.422 959.319 Q248.422 964.897 244.949 967.999 Q241.477 971.078 235.158 971.078 Q232.982 971.078 230.713 970.707 Q228.468 970.337 226.061 969.596 L226.061 964.897 Q228.144 966.032 230.366 966.587 Q232.588 967.143 235.065 967.143 Q239.07 967.143 241.408 965.036 Q243.746 962.93 243.746 959.319 Q243.746 955.708 241.408 953.601 Q239.07 951.495 235.065 951.495 Q233.19 951.495 231.315 951.911 Q229.463 952.328 227.519 953.208 L227.519 935.847 Z\" fill=\"#000000\" fill-rule=\"evenodd\" fill-opacity=\"1\" /><path clip-path=\"url(#clip090)\" d=\"M100.76 646.116 Q97.1493 646.116 95.3206 649.68 Q93.515 653.222 93.515 660.352 Q93.515 667.458 95.3206 671.023 Q97.1493 674.564 100.76 674.564 Q104.395 674.564 106.2 671.023 Q108.029 667.458 108.029 660.352 Q108.029 653.222 106.2 649.68 Q104.395 646.116 100.76 646.116 M100.76 642.412 Q106.571 642.412 109.626 647.018 Q112.705 651.602 112.705 660.352 Q112.705 669.078 109.626 673.685 Q106.571 678.268 100.76 678.268 Q94.9502 678.268 91.8715 673.685 Q88.816 669.078 88.816 660.352 Q88.816 651.602 91.8715 647.018 Q94.9502 642.412 100.76 642.412 Z\" fill=\"#000000\" fill-rule=\"evenodd\" fill-opacity=\"1\" /><path clip-path=\"url(#clip090)\" d=\"M120.922 671.717 L125.807 671.717 L125.807 677.597 L120.922 677.597 L120.922 671.717 Z\" fill=\"#000000\" fill-rule=\"evenodd\" fill-opacity=\"1\" /><path clip-path=\"url(#clip090)\" d=\"M145.992 646.116 Q142.381 646.116 140.552 649.68 Q138.746 653.222 138.746 660.352 Q138.746 667.458 140.552 671.023 Q142.381 674.564 145.992 674.564 Q149.626 674.564 151.431 671.023 Q153.26 667.458 153.26 660.352 Q153.26 653.222 151.431 649.68 Q149.626 646.116 145.992 646.116 M145.992 642.412 Q151.802 642.412 154.857 647.018 Q157.936 651.602 157.936 660.352 Q157.936 669.078 154.857 673.685 Q151.802 678.268 145.992 678.268 Q140.181 678.268 137.103 673.685 Q134.047 669.078 134.047 660.352 Q134.047 651.602 137.103 647.018 Q140.181 642.412 145.992 642.412 Z\" fill=\"#000000\" fill-rule=\"evenodd\" fill-opacity=\"1\" /><path clip-path=\"url(#clip090)\" d=\"M176.153 646.116 Q172.542 646.116 170.714 649.68 Q168.908 653.222 168.908 660.352 Q168.908 667.458 170.714 671.023 Q172.542 674.564 176.153 674.564 Q179.788 674.564 181.593 671.023 Q183.422 667.458 183.422 660.352 Q183.422 653.222 181.593 649.68 Q179.788 646.116 176.153 646.116 M176.153 642.412 Q181.964 642.412 185.019 647.018 Q188.098 651.602 188.098 660.352 Q188.098 669.078 185.019 673.685 Q181.964 678.268 176.153 678.268 Q170.343 678.268 167.265 673.685 Q164.209 669.078 164.209 660.352 Q164.209 651.602 167.265 647.018 Q170.343 642.412 176.153 642.412 Z\" fill=\"#000000\" fill-rule=\"evenodd\" fill-opacity=\"1\" /><path clip-path=\"url(#clip090)\" d=\"M206.315 646.116 Q202.704 646.116 200.876 649.68 Q199.07 653.222 199.07 660.352 Q199.07 667.458 200.876 671.023 Q202.704 674.564 206.315 674.564 Q209.95 674.564 211.755 671.023 Q213.584 667.458 213.584 660.352 Q213.584 653.222 211.755 649.68 Q209.95 646.116 206.315 646.116 M206.315 642.412 Q212.126 642.412 215.181 647.018 Q218.26 651.602 218.26 660.352 Q218.26 669.078 215.181 673.685 Q212.126 678.268 206.315 678.268 Q200.505 678.268 197.427 673.685 Q194.371 669.078 194.371 660.352 Q194.371 651.602 197.427 647.018 Q200.505 642.412 206.315 642.412 Z\" fill=\"#000000\" fill-rule=\"evenodd\" fill-opacity=\"1\" /><path clip-path=\"url(#clip090)\" d=\"M236.477 646.116 Q232.866 646.116 231.037 649.68 Q229.232 653.222 229.232 660.352 Q229.232 667.458 231.037 671.023 Q232.866 674.564 236.477 674.564 Q240.111 674.564 241.917 671.023 Q243.746 667.458 243.746 660.352 Q243.746 653.222 241.917 649.68 Q240.111 646.116 236.477 646.116 M236.477 642.412 Q242.287 642.412 245.343 647.018 Q248.422 651.602 248.422 660.352 Q248.422 669.078 245.343 673.685 Q242.287 678.268 236.477 678.268 Q230.667 678.268 227.588 673.685 Q224.533 669.078 224.533 660.352 Q224.533 651.602 227.588 647.018 Q230.667 642.412 236.477 642.412 Z\" fill=\"#000000\" fill-rule=\"evenodd\" fill-opacity=\"1\" /><path clip-path=\"url(#clip090)\" d=\"M101.756 353.306 Q98.1447 353.306 96.316 356.871 Q94.5104 360.412 94.5104 367.542 Q94.5104 374.648 96.316 378.213 Q98.1447 381.755 101.756 381.755 Q105.39 381.755 107.196 378.213 Q109.024 374.648 109.024 367.542 Q109.024 360.412 107.196 356.871 Q105.39 353.306 101.756 353.306 M101.756 349.602 Q107.566 349.602 110.621 354.209 Q113.7 358.792 113.7 367.542 Q113.7 376.269 110.621 380.875 Q107.566 385.458 101.756 385.458 Q95.9456 385.458 92.8669 380.875 Q89.8114 376.269 89.8114 367.542 Q89.8114 358.792 92.8669 354.209 Q95.9456 349.602 101.756 349.602 Z\" fill=\"#000000\" fill-rule=\"evenodd\" fill-opacity=\"1\" /><path clip-path=\"url(#clip090)\" d=\"M121.918 378.908 L126.802 378.908 L126.802 384.787 L121.918 384.787 L121.918 378.908 Z\" fill=\"#000000\" fill-rule=\"evenodd\" fill-opacity=\"1\" /><path clip-path=\"url(#clip090)\" d=\"M146.987 353.306 Q143.376 353.306 141.547 356.871 Q139.742 360.412 139.742 367.542 Q139.742 374.648 141.547 378.213 Q143.376 381.755 146.987 381.755 Q150.621 381.755 152.427 378.213 Q154.255 374.648 154.255 367.542 Q154.255 360.412 152.427 356.871 Q150.621 353.306 146.987 353.306 M146.987 349.602 Q152.797 349.602 155.853 354.209 Q158.931 358.792 158.931 367.542 Q158.931 376.269 155.853 380.875 Q152.797 385.458 146.987 385.458 Q141.177 385.458 138.098 380.875 Q135.043 376.269 135.043 367.542 Q135.043 358.792 138.098 354.209 Q141.177 349.602 146.987 349.602 Z\" fill=\"#000000\" fill-rule=\"evenodd\" fill-opacity=\"1\" /><path clip-path=\"url(#clip090)\" d=\"M177.149 353.306 Q173.538 353.306 171.709 356.871 Q169.904 360.412 169.904 367.542 Q169.904 374.648 171.709 378.213 Q173.538 381.755 177.149 381.755 Q180.783 381.755 182.589 378.213 Q184.417 374.648 184.417 367.542 Q184.417 360.412 182.589 356.871 Q180.783 353.306 177.149 353.306 M177.149 349.602 Q182.959 349.602 186.015 354.209 Q189.093 358.792 189.093 367.542 Q189.093 376.269 186.015 380.875 Q182.959 385.458 177.149 385.458 Q171.339 385.458 168.26 380.875 Q165.204 376.269 165.204 367.542 Q165.204 358.792 168.26 354.209 Q171.339 349.602 177.149 349.602 Z\" fill=\"#000000\" fill-rule=\"evenodd\" fill-opacity=\"1\" /><path clip-path=\"url(#clip090)\" d=\"M201.339 380.852 L217.658 380.852 L217.658 384.787 L195.714 384.787 L195.714 380.852 Q198.376 378.097 202.959 373.468 Q207.565 368.815 208.746 367.472 Q210.991 364.949 211.871 363.213 Q212.774 361.454 212.774 359.764 Q212.774 357.009 210.829 355.273 Q208.908 353.537 205.806 353.537 Q203.607 353.537 201.153 354.301 Q198.723 355.065 195.945 356.616 L195.945 351.894 Q198.769 350.76 201.223 350.181 Q203.676 349.602 205.714 349.602 Q211.084 349.602 214.278 352.287 Q217.473 354.972 217.473 359.463 Q217.473 361.593 216.663 363.514 Q215.876 365.412 213.769 368.005 Q213.19 368.676 210.088 371.894 Q206.987 375.088 201.339 380.852 Z\" fill=\"#000000\" fill-rule=\"evenodd\" fill-opacity=\"1\" /><path clip-path=\"url(#clip090)\" d=\"M227.519 350.227 L245.875 350.227 L245.875 354.162 L231.801 354.162 L231.801 362.634 Q232.82 362.287 233.838 362.125 Q234.857 361.94 235.875 361.94 Q241.662 361.94 245.042 365.111 Q248.422 368.283 248.422 373.699 Q248.422 379.278 244.949 382.38 Q241.477 385.458 235.158 385.458 Q232.982 385.458 230.713 385.088 Q228.468 384.718 226.061 383.977 L226.061 379.278 Q228.144 380.412 230.366 380.968 Q232.588 381.523 235.065 381.523 Q239.07 381.523 241.408 379.417 Q243.746 377.31 243.746 373.699 Q243.746 370.088 241.408 367.982 Q239.07 365.875 235.065 365.875 Q233.19 365.875 231.315 366.292 Q229.463 366.709 227.519 367.588 L227.519 350.227 Z\" fill=\"#000000\" fill-rule=\"evenodd\" fill-opacity=\"1\" /><path clip-path=\"url(#clip090)\" d=\"M1099.41 12.096 L1107.6 12.096 L1107.6 72.576 L1099.41 72.576 L1099.41 12.096 Z\" fill=\"#000000\" fill-rule=\"evenodd\" fill-opacity=\"1\" /><path clip-path=\"url(#clip090)\" d=\"M1161.27 45.1919 L1161.27 72.576 L1153.82 72.576 L1153.82 45.4349 Q1153.82 38.994 1151.31 35.7938 Q1148.8 32.5936 1143.77 32.5936 Q1137.74 32.5936 1134.25 36.4419 Q1130.77 40.2903 1130.77 46.9338 L1130.77 72.576 L1123.27 72.576 L1123.27 27.2059 L1130.77 27.2059 L1130.77 34.2544 Q1133.44 30.163 1137.05 28.1376 Q1140.69 26.1121 1145.43 26.1121 Q1153.25 26.1121 1157.26 30.9732 Q1161.27 35.7938 1161.27 45.1919 Z\" fill=\"#000000\" fill-rule=\"evenodd\" fill-opacity=\"1\" /><path clip-path=\"url(#clip090)\" d=\"M1176.14 27.2059 L1183.59 27.2059 L1183.59 72.576 L1176.14 72.576 L1176.14 27.2059 M1176.14 9.54393 L1183.59 9.54393 L1183.59 18.9825 L1176.14 18.9825 L1176.14 9.54393 Z\" fill=\"#000000\" fill-rule=\"evenodd\" fill-opacity=\"1\" /><path clip-path=\"url(#clip090)\" d=\"M1206.56 14.324 L1206.56 27.2059 L1221.91 27.2059 L1221.91 32.9987 L1206.56 32.9987 L1206.56 57.6282 Q1206.56 63.1779 1208.06 64.7578 Q1209.6 66.3376 1214.26 66.3376 L1221.91 66.3376 L1221.91 72.576 L1214.26 72.576 Q1205.63 72.576 1202.35 69.3758 Q1199.07 66.1351 1199.07 57.6282 L1199.07 32.9987 L1193.6 32.9987 L1193.6 27.2059 L1199.07 27.2059 L1199.07 14.324 L1206.56 14.324 Z\" fill=\"#000000\" fill-rule=\"evenodd\" fill-opacity=\"1\" /><path clip-path=\"url(#clip090)\" d=\"M1231.72 27.2059 L1239.17 27.2059 L1239.17 72.576 L1231.72 72.576 L1231.72 27.2059 M1231.72 9.54393 L1239.17 9.54393 L1239.17 18.9825 L1231.72 18.9825 L1231.72 9.54393 Z\" fill=\"#000000\" fill-rule=\"evenodd\" fill-opacity=\"1\" /><path clip-path=\"url(#clip090)\" d=\"M1275.39 49.7694 Q1266.35 49.7694 1262.87 51.8354 Q1259.38 53.9013 1259.38 58.8839 Q1259.38 62.8538 1261.98 65.2034 Q1264.61 67.5124 1269.11 67.5124 Q1275.3 67.5124 1279.03 63.1374 Q1282.8 58.7219 1282.8 51.4303 L1282.8 49.7694 L1275.39 49.7694 M1290.25 46.6907 L1290.25 72.576 L1282.8 72.576 L1282.8 65.6895 Q1280.25 69.8214 1276.44 71.8063 Q1272.63 73.7508 1267.12 73.7508 Q1260.15 73.7508 1256.02 69.8619 Q1251.93 65.9325 1251.93 59.3701 Q1251.93 51.7138 1257.04 47.825 Q1262.18 43.9361 1272.35 43.9361 L1282.8 43.9361 L1282.8 43.2069 Q1282.8 38.0623 1279.4 35.2672 Q1276.03 32.4315 1269.92 32.4315 Q1266.03 32.4315 1262.34 33.3632 Q1258.66 34.295 1255.25 36.1584 L1255.25 29.2718 Q1259.34 27.692 1263.19 26.9223 Q1267.04 26.1121 1270.69 26.1121 Q1280.53 26.1121 1285.39 31.2163 Q1290.25 36.3204 1290.25 46.6907 Z\" fill=\"#000000\" fill-rule=\"evenodd\" fill-opacity=\"1\" /><path clip-path=\"url(#clip090)\" d=\"M1305.61 9.54393 L1313.06 9.54393 L1313.06 72.576 L1305.61 72.576 L1305.61 9.54393 Z\" fill=\"#000000\" fill-rule=\"evenodd\" fill-opacity=\"1\" /><path clip-path=\"url(#clip090)\" d=\"M1363.53 18.8205 L1363.53 65.8515 L1373.42 65.8515 Q1385.94 65.8515 1391.73 60.1802 Q1397.56 54.509 1397.56 42.2752 Q1397.56 30.1225 1391.73 24.4918 Q1385.94 18.8205 1373.42 18.8205 L1363.53 18.8205 M1355.35 12.096 L1372.16 12.096 Q1389.74 12.096 1397.97 19.4281 Q1406.19 26.7198 1406.19 42.2752 Q1406.19 57.9117 1397.93 65.2439 Q1389.66 72.576 1372.16 72.576 L1355.35 72.576 L1355.35 12.096 Z\" fill=\"#000000\" fill-rule=\"evenodd\" fill-opacity=\"1\" /><path clip-path=\"url(#clip090)\" d=\"M1439.53 49.7694 Q1430.49 49.7694 1427.01 51.8354 Q1423.53 53.9013 1423.53 58.8839 Q1423.53 62.8538 1426.12 65.2034 Q1428.75 67.5124 1433.25 67.5124 Q1439.45 67.5124 1443.17 63.1374 Q1446.94 58.7219 1446.94 51.4303 L1446.94 49.7694 L1439.53 49.7694 M1454.4 46.6907 L1454.4 72.576 L1446.94 72.576 L1446.94 65.6895 Q1444.39 69.8214 1440.58 71.8063 Q1436.77 73.7508 1431.26 73.7508 Q1424.3 73.7508 1420.17 69.8619 Q1416.07 65.9325 1416.07 59.3701 Q1416.07 51.7138 1421.18 47.825 Q1426.32 43.9361 1436.49 43.9361 L1446.94 43.9361 L1446.94 43.2069 Q1446.94 38.0623 1443.54 35.2672 Q1440.18 32.4315 1434.06 32.4315 Q1430.17 32.4315 1426.48 33.3632 Q1422.8 34.295 1419.4 36.1584 L1419.4 29.2718 Q1423.49 27.692 1427.34 26.9223 Q1431.18 26.1121 1434.83 26.1121 Q1444.67 26.1121 1449.53 31.2163 Q1454.4 36.3204 1454.4 46.6907 Z\" fill=\"#000000\" fill-rule=\"evenodd\" fill-opacity=\"1\" /><path clip-path=\"url(#clip090)\" d=\"M1477.12 14.324 L1477.12 27.2059 L1492.47 27.2059 L1492.47 32.9987 L1477.12 32.9987 L1477.12 57.6282 Q1477.12 63.1779 1478.62 64.7578 Q1480.16 66.3376 1484.82 66.3376 L1492.47 66.3376 L1492.47 72.576 L1484.82 72.576 Q1476.19 72.576 1472.91 69.3758 Q1469.63 66.1351 1469.63 57.6282 L1469.63 32.9987 L1464.16 32.9987 L1464.16 27.2059 L1469.63 27.2059 L1469.63 14.324 L1477.12 14.324 Z\" fill=\"#000000\" fill-rule=\"evenodd\" fill-opacity=\"1\" /><path clip-path=\"url(#clip090)\" d=\"M1522.9 49.7694 Q1513.86 49.7694 1510.38 51.8354 Q1506.9 53.9013 1506.9 58.8839 Q1506.9 62.8538 1509.49 65.2034 Q1512.12 67.5124 1516.62 67.5124 Q1522.82 67.5124 1526.54 63.1374 Q1530.31 58.7219 1530.31 51.4303 L1530.31 49.7694 L1522.9 49.7694 M1537.76 46.6907 L1537.76 72.576 L1530.31 72.576 L1530.31 65.6895 Q1527.76 69.8214 1523.95 71.8063 Q1520.14 73.7508 1514.63 73.7508 Q1507.66 73.7508 1503.53 69.8619 Q1499.44 65.9325 1499.44 59.3701 Q1499.44 51.7138 1504.55 47.825 Q1509.69 43.9361 1519.86 43.9361 L1530.31 43.9361 L1530.31 43.2069 Q1530.31 38.0623 1526.91 35.2672 Q1523.54 32.4315 1517.43 32.4315 Q1513.54 32.4315 1509.85 33.3632 Q1506.17 34.295 1502.76 36.1584 L1502.76 29.2718 Q1506.85 27.692 1510.7 26.9223 Q1514.55 26.1121 1518.2 26.1121 Q1528.04 26.1121 1532.9 31.2163 Q1537.76 36.3204 1537.76 46.6907 Z\" fill=\"#000000\" fill-rule=\"evenodd\" fill-opacity=\"1\" /><polyline clip-path=\"url(#clip092)\" style=\"stroke:#009af9; stroke-linecap:round; stroke-linejoin:round; stroke-width:4; stroke-opacity:1; fill:none\" points=\"342.959,660.317 361.367,660.317 379.776,660.317 398.184,660.317 416.592,660.317 435,660.317 453.408,660.317 471.816,660.317 490.224,660.317 508.632,660.317 527.04,660.317 545.449,660.317 563.857,660.317 582.265,660.317 600.673,660.317 619.081,660.317 637.489,660.317 655.897,660.317 674.305,660.317 692.713,660.317 711.121,660.317 729.53,660.317 747.938,660.317 766.346,660.317 784.754,660.317 803.162,660.317 821.57,660.317 839.978,660.317 858.386,660.316 876.794,660.316 895.202,660.316 913.611,660.315 932.019,660.314 950.427,660.312 968.835,660.31 987.243,660.306 1005.65,660.3 1024.06,660.292 1042.47,660.281 1060.88,660.267 1079.28,660.249 1097.69,660.227 1116.1,660.203 1134.51,660.178 1152.92,660.155 1171.32,660.136 1189.73,660.124 1208.14,660.119 1226.55,660.119 1244.96,660.117 1263.36,660.104 1281.77,660.072 1300.18,660.016 1318.59,659.938 1337,659.847 1355.4,659.754 1373.81,659.675 1392.22,659.615 1410.63,659.578 1429.04,659.557 1447.45,659.548 1465.85,659.545 1484.26,659.544 1502.67,659.543 1521.08,659.543 1539.49,659.543 1557.89,659.543 1576.3,659.543 1594.71,659.543 1613.12,659.543 1631.53,659.543 1649.93,659.543 1668.34,659.543 1686.75,659.543 1705.16,659.543 1723.57,659.543 1741.98,659.543 1760.38,659.543 1778.79,659.543 1797.2,659.543 1815.61,659.543 1834.02,659.543 1852.42,659.543 1870.83,659.543 1889.24,659.543 1907.65,659.543 1926.06,659.543 1944.46,659.543 1962.87,659.543 1981.28,659.543 1999.69,659.543 2018.1,659.543 2036.5,659.543 2054.91,659.543 2073.32,659.543 2091.73,659.543 2110.14,659.543 2128.55,659.543 2146.95,659.543 2165.36,659.543 2183.77,659.543 2202.18,659.543 2220.59,659.543 2238.99,659.543 2257.4,659.543 2275.81,659.543 2294.22,659.543 \"/>\n",
       "<polyline clip-path=\"url(#clip092)\" style=\"stroke:#e26f46; stroke-linecap:round; stroke-linejoin:round; stroke-width:4; stroke-opacity:1; fill:none\" points=\"342.959,660.317 361.367,660.317 379.776,660.317 398.184,660.317 416.592,660.317 435,660.317 453.408,660.317 471.816,660.317 490.224,660.317 508.632,660.317 527.04,660.317 545.449,660.317 563.857,660.317 582.265,660.317 600.673,660.317 619.081,660.317 637.489,660.317 655.897,660.317 674.305,660.317 692.713,660.317 711.121,660.317 729.53,660.317 747.938,660.317 766.346,660.317 784.754,660.317 803.162,660.317 821.57,660.316 839.978,660.316 858.386,660.316 876.794,660.315 895.202,660.314 913.611,660.312 932.019,660.31 950.427,660.306 968.835,660.3 987.243,660.291 1005.65,660.279 1024.06,660.264 1042.47,660.243 1060.88,660.216 1079.28,660.185 1097.69,660.149 1116.1,660.11 1134.51,660.072 1152.92,660.038 1171.32,660.012 1189.73,659.995 1208.14,659.989 1226.55,659.989 1244.96,659.986 1263.36,659.971 1281.77,659.936 1300.18,659.877 1318.59,659.797 1337,659.708 1355.4,659.621 1373.81,659.549 1392.22,659.497 1410.63,659.465 1429.04,659.449 1447.45,659.442 1465.85,659.439 1484.26,659.439 1502.67,659.439 1521.08,659.439 1539.49,659.439 1557.89,659.439 1576.3,659.439 1594.71,659.439 1613.12,659.439 1631.53,659.439 1649.93,659.439 1668.34,659.439 1686.75,659.439 1705.16,659.439 1723.57,659.439 1741.98,659.439 1760.38,659.439 1778.79,659.439 1797.2,659.439 1815.61,659.439 1834.02,659.439 1852.42,659.439 1870.83,659.439 1889.24,659.439 1907.65,659.439 1926.06,659.439 1944.46,659.439 1962.87,659.439 1981.28,659.439 1999.69,659.439 2018.1,659.439 2036.5,659.439 2054.91,659.439 2073.32,659.439 2091.73,659.439 2110.14,659.439 2128.55,659.439 2146.95,659.439 2165.36,659.439 2183.77,659.439 2202.18,659.439 2220.59,659.439 2238.99,659.439 2257.4,659.439 2275.81,659.439 2294.22,659.439 \"/>\n",
       "<polyline clip-path=\"url(#clip092)\" style=\"stroke:#3da44d; stroke-linecap:round; stroke-linejoin:round; stroke-width:4; stroke-opacity:1; fill:none\" points=\"342.959,660.317 361.367,660.317 379.776,660.317 398.184,660.317 416.592,660.317 435,660.317 453.408,660.317 471.816,660.317 490.224,660.317 508.632,660.316 527.04,660.316 545.449,660.316 563.857,660.315 582.265,660.313 600.673,660.311 619.081,660.308 637.489,660.303 655.897,660.296 674.305,660.286 692.713,660.272 711.121,660.251 729.53,660.222 747.938,660.181 766.346,660.124 784.754,660.046 803.162,659.94 821.57,659.795 839.978,659.601 858.386,659.343 876.794,659.001 895.202,658.551 913.611,657.967 932.019,657.213 950.427,656.25 968.835,655.034 987.243,653.515 1005.65,651.642 1024.06,649.363 1042.47,646.634 1060.88,643.421 1079.28,639.713 1097.69,635.53 1116.1,630.934 1134.51,626.039 1152.92,621.024 1171.32,616.129 1189.73,611.659 1208.14,607.958 1226.55,605.388 1244.96,604.281 1263.36,604.887 1281.77,607.323 1300.18,611.525 1318.59,617.229 1337,623.987 1355.4,631.22 1373.81,638.306 1392.22,644.693 1410.63,649.987 1429.04,654.007 1447.45,656.79 1465.85,658.532 1484.26,659.509 1502.67,659.994 1521.08,660.205 1539.49,660.284 1557.89,660.309 1576.3,660.315 1594.71,660.317 1613.12,660.317 1631.53,660.317 1649.93,660.317 1668.34,660.317 1686.75,660.317 1705.16,660.317 1723.57,660.317 1741.98,660.317 1760.38,660.317 1778.79,660.317 1797.2,660.317 1815.61,660.317 1834.02,660.317 1852.42,660.317 1870.83,660.317 1889.24,660.317 1907.65,660.317 1926.06,660.317 1944.46,660.317 1962.87,660.317 1981.28,660.317 1999.69,660.317 2018.1,660.317 2036.5,660.317 2054.91,660.317 2073.32,660.317 2091.73,660.317 2110.14,660.317 2128.55,660.317 2146.95,660.317 2165.36,660.317 2183.77,660.317 2202.18,660.317 2220.59,660.317 2238.99,660.317 2257.4,660.317 2275.81,660.317 2294.22,660.317 \"/>\n",
       "<polyline clip-path=\"url(#clip092)\" style=\"stroke:#c271d2; stroke-linecap:round; stroke-linejoin:round; stroke-width:4; stroke-opacity:1; fill:none\" points=\"342.959,660.318 361.367,660.317 379.776,660.317 398.184,660.317 416.592,660.317 435,660.316 453.408,660.314 471.816,660.31 490.224,660.304 508.632,660.293 527.04,660.276 545.449,660.25 563.857,660.209 582.265,660.148 600.673,660.059 619.081,659.929 637.489,659.742 655.897,659.477 674.305,659.103 692.713,658.582 711.121,657.859 729.53,656.867 747.938,655.515 766.346,653.686 784.754,651.231 803.162,647.96 821.57,643.639 839.978,637.977 858.386,630.626 876.794,621.173 895.202,609.143 913.611,594.007 932.019,575.203 950.427,552.171 968.835,524.409 987.243,491.559 1005.65,453.516 1024.06,410.578 1042.47,363.619 1060.88,314.277 1079.28,265.143 1097.69,219.897 1116.1,183.349 1134.51,161.317 1152.92,160.256 1171.32,186.596 1189.73,245.749 1208.14,340.853 1226.55,471.398 1244.96,632.02 1263.36,811.859 1281.77,994.913 1300.18,1161.7 1318.59,1292.27 1337,1370.16 1355.4,1386.4 1373.81,1342.17 1392.22,1249.21 1410.63,1127.11 1429.04,998.295 1447.45,882.322 1465.85,791.452 1484.26,729.229 1502.67,692.124 1521.08,673.019 1539.49,664.63 1557.89,661.536 1576.3,660.597 1594.71,660.368 1613.12,660.324 1631.53,660.318 1649.93,660.317 1668.34,660.317 1686.75,660.317 1705.16,660.317 1723.57,660.317 1741.98,660.317 1760.38,660.317 1778.79,660.317 1797.2,660.317 1815.61,660.317 1834.02,660.317 1852.42,660.317 1870.83,660.317 1889.24,660.317 1907.65,660.317 1926.06,660.317 1944.46,660.317 1962.87,660.317 1981.28,660.317 1999.69,660.317 2018.1,660.317 2036.5,660.317 2054.91,660.317 2073.32,660.317 2091.73,660.317 2110.14,660.317 2128.55,660.317 2146.95,660.317 2165.36,660.317 2183.77,660.317 2202.18,660.317 2220.59,660.317 2238.99,660.317 2257.4,660.317 2275.81,660.317 2294.22,660.317 \"/>\n",
       "<path clip-path=\"url(#clip090)\" d=\"M1971.75 425.996 L2283.81 425.996 L2283.81 166.796 L1971.75 166.796  Z\" fill=\"#ffffff\" fill-rule=\"evenodd\" fill-opacity=\"1\"/>\n",
       "<polyline clip-path=\"url(#clip090)\" style=\"stroke:#000000; stroke-linecap:round; stroke-linejoin:round; stroke-width:4; stroke-opacity:1; fill:none\" points=\"1971.75,425.996 2283.81,425.996 2283.81,166.796 1971.75,166.796 1971.75,425.996 \"/>\n",
       "<polyline clip-path=\"url(#clip090)\" style=\"stroke:#009af9; stroke-linecap:round; stroke-linejoin:round; stroke-width:4; stroke-opacity:1; fill:none\" points=\"1994.73,218.636 2132.62,218.636 \"/>\n",
       "<path clip-path=\"url(#clip090)\" d=\"M2175.95 214.967 Q2177.54 212.096 2179.77 210.731 Q2181.99 209.365 2185 209.365 Q2189.05 209.365 2191.25 212.212 Q2193.45 215.036 2193.45 220.268 L2193.45 235.916 L2189.16 235.916 L2189.16 220.407 Q2189.16 216.68 2187.84 214.874 Q2186.52 213.069 2183.82 213.069 Q2180.51 213.069 2178.59 215.268 Q2176.66 217.467 2176.66 221.263 L2176.66 235.916 L2172.38 235.916 L2172.38 220.407 Q2172.38 216.657 2171.06 214.874 Q2169.74 213.069 2166.99 213.069 Q2163.72 213.069 2161.8 215.291 Q2159.88 217.49 2159.88 221.263 L2159.88 235.916 L2155.6 235.916 L2155.6 209.99 L2159.88 209.99 L2159.88 214.018 Q2161.34 211.633 2163.38 210.499 Q2165.41 209.365 2168.21 209.365 Q2171.04 209.365 2173.01 210.8 Q2175 212.235 2175.95 214.967 Z\" fill=\"#000000\" fill-rule=\"evenodd\" fill-opacity=\"1\" /><polyline clip-path=\"url(#clip090)\" style=\"stroke:#e26f46; stroke-linecap:round; stroke-linejoin:round; stroke-width:4; stroke-opacity:1; fill:none\" points=\"1994.73,270.476 2132.62,270.476 \"/>\n",
       "<path clip-path=\"url(#clip090)\" d=\"M2174.37 274.816 Q2174.37 270.117 2172.43 267.455 Q2170.51 264.77 2167.13 264.77 Q2163.75 264.77 2161.8 267.455 Q2159.88 270.117 2159.88 274.816 Q2159.88 279.515 2161.8 282.2 Q2163.75 284.862 2167.13 284.862 Q2170.51 284.862 2172.43 282.2 Q2174.37 279.515 2174.37 274.816 M2159.88 265.765 Q2161.22 263.45 2163.26 262.339 Q2165.32 261.205 2168.17 261.205 Q2172.89 261.205 2175.83 264.955 Q2178.79 268.705 2178.79 274.816 Q2178.79 280.927 2175.83 284.677 Q2172.89 288.427 2168.17 288.427 Q2165.32 288.427 2163.26 287.316 Q2161.22 286.182 2159.88 283.867 L2159.88 287.756 L2155.6 287.756 L2155.6 251.737 L2159.88 251.737 L2159.88 265.765 Z\" fill=\"#000000\" fill-rule=\"evenodd\" fill-opacity=\"1\" /><path clip-path=\"url(#clip090)\" d=\"M2208.03 273.728 L2208.03 275.811 L2188.45 275.811 Q2188.72 280.209 2191.08 282.524 Q2193.47 284.816 2197.71 284.816 Q2200.16 284.816 2202.45 284.214 Q2204.77 283.612 2207.03 282.409 L2207.03 286.436 Q2204.74 287.408 2202.33 287.918 Q2199.93 288.427 2197.45 288.427 Q2191.25 288.427 2187.61 284.816 Q2184 281.205 2184 275.047 Q2184 268.682 2187.43 264.955 Q2190.88 261.205 2196.71 261.205 Q2201.94 261.205 2204.97 264.585 Q2208.03 267.941 2208.03 273.728 M2203.77 272.478 Q2203.72 268.983 2201.8 266.899 Q2199.9 264.816 2196.76 264.816 Q2193.19 264.816 2191.04 266.83 Q2188.91 268.844 2188.58 272.501 L2203.77 272.478 Z\" fill=\"#000000\" fill-rule=\"evenodd\" fill-opacity=\"1\" /><path clip-path=\"url(#clip090)\" d=\"M2219.23 254.469 L2219.23 261.83 L2228.01 261.83 L2228.01 265.14 L2219.23 265.14 L2219.23 279.214 Q2219.23 282.385 2220.09 283.288 Q2220.97 284.191 2223.63 284.191 L2228.01 284.191 L2228.01 287.756 L2223.63 287.756 Q2218.7 287.756 2216.83 285.927 Q2214.95 284.075 2214.95 279.214 L2214.95 265.14 L2211.83 265.14 L2211.83 261.83 L2214.95 261.83 L2214.95 254.469 L2219.23 254.469 Z\" fill=\"#000000\" fill-rule=\"evenodd\" fill-opacity=\"1\" /><path clip-path=\"url(#clip090)\" d=\"M2245.39 274.723 Q2240.23 274.723 2238.24 275.904 Q2236.25 277.084 2236.25 279.932 Q2236.25 282.2 2237.73 283.543 Q2239.23 284.862 2241.8 284.862 Q2245.34 284.862 2247.47 282.362 Q2249.63 279.839 2249.63 275.672 L2249.63 274.723 L2245.39 274.723 M2253.89 272.964 L2253.89 287.756 L2249.63 287.756 L2249.63 283.821 Q2248.17 286.182 2245.99 287.316 Q2243.82 288.427 2240.67 288.427 Q2236.69 288.427 2234.33 286.205 Q2231.99 283.959 2231.99 280.209 Q2231.99 275.834 2234.9 273.612 Q2237.84 271.39 2243.65 271.39 L2249.63 271.39 L2249.63 270.973 Q2249.63 268.034 2247.68 266.436 Q2245.76 264.816 2242.27 264.816 Q2240.04 264.816 2237.94 265.348 Q2235.83 265.881 2233.89 266.946 L2233.89 263.01 Q2236.22 262.108 2238.42 261.668 Q2240.62 261.205 2242.71 261.205 Q2248.33 261.205 2251.11 264.122 Q2253.89 267.038 2253.89 272.964 Z\" fill=\"#000000\" fill-rule=\"evenodd\" fill-opacity=\"1\" /><polyline clip-path=\"url(#clip090)\" style=\"stroke:#3da44d; stroke-linecap:round; stroke-linejoin:round; stroke-width:4; stroke-opacity:1; fill:none\" points=\"1994.73,322.316 2132.62,322.316 \"/>\n",
       "<path clip-path=\"url(#clip090)\" d=\"M2159.88 335.707 L2159.88 349.457 L2155.6 349.457 L2155.6 313.67 L2159.88 313.67 L2159.88 317.605 Q2161.22 315.29 2163.26 314.179 Q2165.32 313.045 2168.17 313.045 Q2172.89 313.045 2175.83 316.795 Q2178.79 320.545 2178.79 326.656 Q2178.79 332.767 2175.83 336.517 Q2172.89 340.267 2168.17 340.267 Q2165.32 340.267 2163.26 339.156 Q2161.22 338.022 2159.88 335.707 M2174.37 326.656 Q2174.37 321.957 2172.43 319.295 Q2170.51 316.61 2167.13 316.61 Q2163.75 316.61 2161.8 319.295 Q2159.88 321.957 2159.88 326.656 Q2159.88 331.355 2161.8 334.04 Q2163.75 336.702 2167.13 336.702 Q2170.51 336.702 2172.43 334.04 Q2174.37 331.355 2174.37 326.656 Z\" fill=\"#000000\" fill-rule=\"evenodd\" fill-opacity=\"1\" /><path clip-path=\"url(#clip090)\" d=\"M2202.38 314.434 L2202.38 318.462 Q2200.58 317.536 2198.63 317.073 Q2196.69 316.61 2194.6 316.61 Q2191.43 316.61 2189.83 317.582 Q2188.26 318.554 2188.26 320.499 Q2188.26 321.98 2189.4 322.837 Q2190.53 323.67 2193.96 324.434 L2195.41 324.758 Q2199.95 325.73 2201.85 327.512 Q2203.77 329.272 2203.77 332.443 Q2203.77 336.054 2200.9 338.161 Q2198.05 340.267 2193.05 340.267 Q2190.97 340.267 2188.7 339.85 Q2186.46 339.457 2183.96 338.647 L2183.96 334.249 Q2186.32 335.475 2188.61 336.1 Q2190.9 336.702 2193.15 336.702 Q2196.15 336.702 2197.77 335.684 Q2199.4 334.642 2199.4 332.767 Q2199.4 331.031 2198.21 330.105 Q2197.06 329.179 2193.1 328.323 L2191.62 327.975 Q2187.66 327.142 2185.9 325.429 Q2184.14 323.693 2184.14 320.684 Q2184.14 317.026 2186.73 315.036 Q2189.33 313.045 2194.09 313.045 Q2196.46 313.045 2198.54 313.392 Q2200.62 313.739 2202.38 314.434 Z\" fill=\"#000000\" fill-rule=\"evenodd\" fill-opacity=\"1\" /><path clip-path=\"url(#clip090)\" d=\"M2210.55 313.67 L2214.81 313.67 L2214.81 339.596 L2210.55 339.596 L2210.55 313.67 M2210.55 303.577 L2214.81 303.577 L2214.81 308.971 L2210.55 308.971 L2210.55 303.577 Z\" fill=\"#000000\" fill-rule=\"evenodd\" fill-opacity=\"1\" /><polyline clip-path=\"url(#clip090)\" style=\"stroke:#c271d2; stroke-linecap:round; stroke-linejoin:round; stroke-width:4; stroke-opacity:1; fill:none\" points=\"1994.73,374.156 2132.62,374.156 \"/>\n",
       "<path clip-path=\"url(#clip090)\" d=\"M2159.88 387.547 L2159.88 401.297 L2155.6 401.297 L2155.6 365.51 L2159.88 365.51 L2159.88 369.445 Q2161.22 367.13 2163.26 366.019 Q2165.32 364.885 2168.17 364.885 Q2172.89 364.885 2175.83 368.635 Q2178.79 372.385 2178.79 378.496 Q2178.79 384.607 2175.83 388.357 Q2172.89 392.107 2168.17 392.107 Q2165.32 392.107 2163.26 390.996 Q2161.22 389.862 2159.88 387.547 M2174.37 378.496 Q2174.37 373.797 2172.43 371.135 Q2170.51 368.45 2167.13 368.45 Q2163.75 368.45 2161.8 371.135 Q2159.88 373.797 2159.88 378.496 Q2159.88 383.195 2161.8 385.88 Q2163.75 388.542 2167.13 388.542 Q2170.51 388.542 2172.43 385.88 Q2174.37 383.195 2174.37 378.496 Z\" fill=\"#000000\" fill-rule=\"evenodd\" fill-opacity=\"1\" /><path clip-path=\"url(#clip090)\" d=\"M2202.38 366.274 L2202.38 370.302 Q2200.58 369.376 2198.63 368.913 Q2196.69 368.45 2194.6 368.45 Q2191.43 368.45 2189.83 369.422 Q2188.26 370.394 2188.26 372.339 Q2188.26 373.82 2189.4 374.677 Q2190.53 375.51 2193.96 376.274 L2195.41 376.598 Q2199.95 377.57 2201.85 379.352 Q2203.77 381.112 2203.77 384.283 Q2203.77 387.894 2200.9 390.001 Q2198.05 392.107 2193.05 392.107 Q2190.97 392.107 2188.7 391.69 Q2186.46 391.297 2183.96 390.487 L2183.96 386.089 Q2186.32 387.315 2188.61 387.94 Q2190.9 388.542 2193.15 388.542 Q2196.15 388.542 2197.77 387.524 Q2199.4 386.482 2199.4 384.607 Q2199.4 382.871 2198.21 381.945 Q2197.06 381.019 2193.1 380.163 L2191.62 379.815 Q2187.66 378.982 2185.9 377.269 Q2184.14 375.533 2184.14 372.524 Q2184.14 368.866 2186.73 366.876 Q2189.33 364.885 2194.09 364.885 Q2196.46 364.885 2198.54 365.232 Q2200.62 365.579 2202.38 366.274 Z\" fill=\"#000000\" fill-rule=\"evenodd\" fill-opacity=\"1\" /><path clip-path=\"url(#clip090)\" d=\"M2210.55 365.51 L2214.81 365.51 L2214.81 391.436 L2210.55 391.436 L2210.55 365.51 M2210.55 355.417 L2214.81 355.417 L2214.81 360.811 L2210.55 360.811 L2210.55 355.417 Z\" fill=\"#000000\" fill-rule=\"evenodd\" fill-opacity=\"1\" /><path clip-path=\"url(#clip090)\" d=\"M2224.81 385.556 L2229.7 385.556 L2229.7 389.538 L2225.9 396.945 L2222.91 396.945 L2224.81 389.538 L2224.81 385.556 Z\" fill=\"#000000\" fill-rule=\"evenodd\" fill-opacity=\"1\" /><path clip-path=\"url(#clip090)\" d=\"M2260.34 365.51 L2250.97 378.126 L2260.83 391.436 L2255.81 391.436 L2248.26 381.251 L2240.71 391.436 L2235.69 391.436 L2245.76 377.871 L2236.55 365.51 L2241.57 365.51 L2248.45 374.746 L2255.32 365.51 L2260.34 365.51 Z\" fill=\"#000000\" fill-rule=\"evenodd\" fill-opacity=\"1\" /></svg>\n"
      ]
     },
     "execution_count": 577,
     "metadata": {},
     "output_type": "execute_result"
    }
   ],
   "source": [
    "using Plots #showing initial data and the initial status of the horizon finder\n",
    "plot(initX, state_array[:,1:4], xaxis=\"x\",title=\"Initial Data\", labels=[\"m\" \"beta\" \"psi\" \"psi,x\"])#, xlim=[-0.001, 0.001])\"\"\""
   ]
  },
  {
   "cell_type": "markdown",
   "id": "9b444ece",
   "metadata": {
    "papermill": {
     "duration": null,
     "end_time": null,
     "exception": null,
     "start_time": null,
     "status": "completed"
    },
    "tags": []
   },
   "source": [
    "# Defining the initial state array for the evolution m β Ψ and Ψ,x"
   ]
  },
  {
   "cell_type": "code",
   "execution_count": 578,
   "id": "9902ffab",
   "metadata": {
    "execution": {
     "iopub.execute_input": "2023-03-01T09:50:44.779000Z",
     "iopub.status.busy": "2023-03-01T09:50:44.779000Z",
     "iopub.status.idle": "2023-03-01T09:50:53.694000Z",
     "shell.execute_reply": "2023-03-01T09:50:53.694000Z"
    },
    "papermill": {
     "duration": null,
     "end_time": null,
     "exception": null,
     "start_time": null,
     "status": "completed"
    },
    "tags": []
   },
   "outputs": [
    {
     "data": {
      "text/plain": [
       "\"/home/rita13santos/Desktop/MSc Thesis/Git/ScalarField/DATA/res1/time_step0.csv\""
      ]
     },
     "execution_count": 578,
     "metadata": {},
     "output_type": "execute_result"
    }
   ],
   "source": [
    "using CSV, Tables\n",
    "#CSV.write(dir*\"/time_step0.csv\", Tables.table(transpose(Matrix(state_array))), writeheader=false)\n",
    "CSV.write(dir*\"/time_step0.csv\", Tables.table(state_array), writeheader=false)"
   ]
  },
  {
   "cell_type": "code",
   "execution_count": 579,
   "id": "fff1426a",
   "metadata": {},
   "outputs": [
    {
     "data": {
      "text/plain": [
       "\"/home/rita13santos/Desktop/MSc Thesis/Git/ScalarField/DATA/parameters.csv\""
      ]
     },
     "execution_count": 579,
     "metadata": {},
     "output_type": "execute_result"
    }
   ],
   "source": [
    "timestep=0\n",
    "criticality=0.0\n",
    "explode=0.0\n",
    "critical_stop=0\n",
    "evol_stats = [criticality A sigma r0 timestep explode]\n",
    "monitor_ratio = zeros(L)\n",
    "CSV.write(\"/home/rita13santos/Desktop/MSc Thesis/Git/ScalarField/DATA/parameters.csv\", Tables.table(evol_stats), writeheader=true, header=[\"criticality\", \"A\", \"sigma\", \"r0\", \"timestep\", \"explode\"])"
   ]
  },
  {
   "cell_type": "markdown",
   "id": "42e2c73d",
   "metadata": {
    "papermill": {
     "duration": null,
     "end_time": null,
     "exception": null,
     "start_time": null,
     "status": "completed"
    },
    "tags": []
   },
   "source": [
    " ## Time evolution"
   ]
  },
  {
   "cell_type": "markdown",
   "id": "7da47594",
   "metadata": {
    "papermill": {
     "duration": null,
     "end_time": null,
     "exception": null,
     "start_time": null,
     "status": "completed"
    },
    "tags": []
   },
   "source": [
    "fixed grid"
   ]
  },
  {
   "cell_type": "code",
   "execution_count": 580,
   "id": "01bca6ee",
   "metadata": {
    "execution": {
     "iopub.execute_input": "2023-03-01T09:50:54.690000Z",
     "iopub.status.busy": "2023-03-01T09:50:53.766000Z",
     "iopub.status.idle": "2023-03-01T09:51:14.077000Z",
     "shell.execute_reply": "2023-03-01T09:51:14.076000Z"
    },
    "papermill": {
     "duration": null,
     "end_time": null,
     "exception": null,
     "start_time": null,
     "status": "completed"
    },
    "tags": []
   },
   "outputs": [
    {
     "name": "stderr",
     "output_type": "stream",
     "text": [
      "\u001b[32mProgress:  13%|█████▍                                   |  ETA: 0:03:37\u001b[39m"
     ]
    },
    {
     "ename": "LoadError",
     "evalue": "InterruptException:",
     "output_type": "error",
     "traceback": [
      "InterruptException:",
      "",
      "Stacktrace:",
      "  [1] sigatomic_end",
      "    @ ./c.jl:452 [inlined]",
      "  [2] disable_sigint",
      "    @ ./c.jl:475 [inlined]",
      "  [3] __pycall!",
      "    @ ~/.julia/packages/PyCall/twYvK/src/pyfncall.jl:42 [inlined]",
      "  [4] _pycall!(ret::PyObject, o::PyObject, args::Tuple{Float64, Tuple{Vector{Float64}, Vector{Float64}, Int64}}, nargs::Int64, kw::Ptr{Nothing})",
      "    @ PyCall ~/.julia/packages/PyCall/twYvK/src/pyfncall.jl:29",
      "  [5] _pycall!(ret::PyObject, o::PyObject, args::Tuple{Float64, Tuple{Vector{Float64}, Vector{Float64}, Int64}}, kwargs::Base.Pairs{Symbol, Union{}, Tuple{}, NamedTuple{(), Tuple{}}})",
      "    @ PyCall ~/.julia/packages/PyCall/twYvK/src/pyfncall.jl:11",
      "  [6] (::PyObject)(::Float64, ::Vararg{Any}; kwargs::Base.Pairs{Symbol, Union{}, Tuple{}, NamedTuple{(), Tuple{}}})",
      "    @ PyCall ~/.julia/packages/PyCall/twYvK/src/pyfncall.jl:86",
      "  [7] (::PyObject)(::Float64, ::Vararg{Any})",
      "    @ PyCall ~/.julia/packages/PyCall/twYvK/src/pyfncall.jl:86",
      "  [8] (::var\"#psi_func#202\"{Tuple{Vector{Float64}, Vector{Float64}, Int64}})(x::Float64)",
      "    @ Main ~/Desktop/MSc Thesis/Git/ScalarField/ScalarField.jl:404",
      "  [9] SFconstraint_m(m0::Float64, x1::Float64, time::Float64, funcs::Matrix{Function})",
      "    @ Main ~/Desktop/MSc Thesis/Git/ScalarField/ScalarField.jl:0",
      " [10] rk4wrapper(f::typeof(SFconstraint_m), y0::Int64, x::Vector{Float64}, u::Float64, spl_funcs::Matrix{Function})",
      "    @ Main ~/Desktop/MSc Thesis/Git/ScalarField/ScalarField.jl:157",
      " [11] SF_RHS(data::Matrix{Float64}, t::Float64, X::Vector{Float64})",
      "    @ Main ~/Desktop/MSc Thesis/Git/ScalarField/ScalarField.jl:416",
      " [12] rungekutta4molstep(f::typeof(SF_RHS), y00::Matrix{Float64}, T::StepRangeLen{Float64, Base.TwicePrecision{Float64}, Base.TwicePrecision{Float64}, Int64}, w::Int64, ex::Int64, X::StepRangeLen{Float64, Base.TwicePrecision{Float64}, Base.TwicePrecision{Float64}, Int64})",
      "    @ Main ~/Desktop/MSc Thesis/Git/ScalarField/ScalarField.jl:113",
      " [13] macro expansion",
      "    @ In[580]:21 [inlined]",
      " [14] top-level scope",
      "    @ ~/.julia/packages/ProgressMeter/sN2xr/src/ProgressMeter.jl:938"
     ]
    }
   ],
   "source": [
    "using Interpolations\n",
    "using ProgressMeter\n",
    "@showprogress for t in 1:500#length(T)\n",
    "    \n",
    "    if isnan(state_array[L-3,4])\n",
    "        print(\"boom at timestep=\", t)\n",
    "        explode = true\n",
    "        timestep = t\n",
    "        break\n",
    "    end\n",
    "    \n",
    "    #X = update_grid(state_array[:,:],T,t)\n",
    "    \n",
    "    X=initX#initX #state_array[:,5]\n",
    "    X1=X[4:L-3]\n",
    "\n",
    "    #update ghost points\n",
    "    state_array=boundarySF(state_array,X)\n",
    "   \n",
    "    #evolve psi,x\n",
    "    global state_array[:,:] = rungekutta4molstep(SF_RHS,state_array[:,:],T,t,0,X) #evolve psi,x\n",
    "    #global state_array=ghost(state_array)\n",
    "\n",
    "    #global aux=SF_RHS(state_array[:,:], 0,0,X)\n",
    "    \n",
    "    #calculate psi from psi,x\n",
    "    global spl_derpsi = scipyinterpolate.splrep(initX[4:L-3], state_array[4:L-3,4],k=4)\n",
    "    psi0=0\n",
    "    SFconstraint_psi(psi0,x) = scipyinterpolate.splev(x, spl_derpsi)\n",
    "\n",
    "    global state_array[4:L-3,3] = rungekutta4(SFconstraint_psi,psi0,initX1)\n",
    "    #global state_array=ghost(state_array);\n",
    "\n",
    "    global spl_psi = scipyinterpolate.splrep(initX[4:L-3], state_array[4:L-3,3],k=4)\n",
    "    global psi_func(x) = scipyinterpolate.splev(x, spl_psi)\n",
    "    global derpsi_func(x) = scipyinterpolate.splev(x, spl_derpsi)\n",
    "\n",
    "    global funcs = [psi_func derpsi_func]\n",
    "    \n",
    "    #evolve beta\n",
    "    global state_array[4:L-3,2]=rk4wrapper(SFconstraint_beta,beta0,X1,T[t+1],funcs)\n",
    "    #global state_array=ghost(state_array)\n",
    "    \n",
    "    #evolve m\n",
    "    global state_array[4:L-3,1]=rk4wrapper(SFconstraint_m,m0,X1,T[t+1],funcs)\n",
    "    #global state_array=ghost(state_array)\n",
    "    \n",
    "    #CSV.write(dir*\"/time_step$k.csv\", Tables.table(transpose(Matrix(state_array))), writeheader=false)\n",
    "    CSV.write(dir*\"/time_step$t.csv\", Tables.table(state_array), writeheader=false)\n",
    "    \n",
    "    \n",
    "    #threshold for apparent black hole formation\n",
    "    global monitor_ratio = zeros(L)\n",
    "    for i in 1:L\n",
    "        global monitor_ratio[i] = 2*state_array[i,1]/initX[i]*(1-initX[i])\n",
    "        if monitor_ratio[i]>0.6\n",
    "            global criticality = true\n",
    "            println(\"Supercritical evolution!\")\n",
    "            println(\"i = \", i, \" t = \", t, \" monitor ratio = \", monitor_ratio[i])\n",
    "            critical_stop += 1\n",
    "            timestep = t\n",
    "        end\n",
    "    end\n",
    "    \n",
    "    if critical_stop >=15\n",
    "        print(\"Found apparent horizon formation\")\n",
    "        timestep = t\n",
    "        break\n",
    "    end\n",
    "    timestep = t\n",
    "end\n",
    "\n",
    "\n",
    "global evol_stats = [criticality A sigma r0 timestep explode]\n",
    "\n",
    "CSV.write(\"/home/rita13santos/Desktop/MSc Thesis/Git/ScalarField/DATA/parameters.csv\", Tables.table(evol_stats), writeheader=true,header=[\"criticality\", \"A\", \"sigma\", \"r0\", \"timestep\", \"explode\"]);"
   ]
  },
  {
   "cell_type": "code",
   "execution_count": null,
   "id": "980f0edf",
   "metadata": {},
   "outputs": [],
   "source": []
  },
  {
   "cell_type": "code",
   "execution_count": 564,
   "id": "c4d4bb5a",
   "metadata": {},
   "outputs": [
    {
     "data": {
      "text/plain": [
       "\"/home/rita13santos/Desktop/MSc Thesis/Git/ScalarField/DATA/res1\""
      ]
     },
     "execution_count": 564,
     "metadata": {},
     "output_type": "execute_result"
    }
   ],
   "source": [
    "dir"
   ]
  },
  {
   "cell_type": "markdown",
   "id": "14770155",
   "metadata": {
    "papermill": {
     "duration": null,
     "end_time": null,
     "exception": null,
     "start_time": null,
     "status": "completed"
    },
    "tags": []
   },
   "source": [
    "## Movie of the evolution"
   ]
  },
  {
   "cell_type": "code",
   "execution_count": 583,
   "id": "f3ee0b86",
   "metadata": {
    "execution": {
     "iopub.execute_input": "2023-03-01T09:51:14.266000Z",
     "iopub.status.busy": "2023-03-01T09:51:14.266000Z"
    },
    "papermill": {
     "duration": null,
     "end_time": null,
     "exception": null,
     "start_time": null,
     "status": "completed"
    },
    "tags": []
   },
   "outputs": [
    {
     "ename": "LoadError",
     "evalue": "ArgumentError: \"/home/rita13santos/Desktop/MSc Thesis/Git/ScalarField/DATA/res1/time_step67.csv\" is not a valid file or doesn't exist",
     "output_type": "error",
     "traceback": [
      "ArgumentError: \"/home/rita13santos/Desktop/MSc Thesis/Git/ScalarField/DATA/res1/time_step67.csv\" is not a valid file or doesn't exist",
      "",
      "Stacktrace:",
      " [1] CSV.Context(source::CSV.Arg, header::CSV.Arg, normalizenames::CSV.Arg, datarow::CSV.Arg, skipto::CSV.Arg, footerskip::CSV.Arg, transpose::CSV.Arg, comment::CSV.Arg, ignoreemptyrows::CSV.Arg, ignoreemptylines::CSV.Arg, select::CSV.Arg, drop::CSV.Arg, limit::CSV.Arg, buffer_in_memory::CSV.Arg, threaded::CSV.Arg, ntasks::CSV.Arg, tasks::CSV.Arg, rows_to_check::CSV.Arg, lines_to_check::CSV.Arg, missingstrings::CSV.Arg, missingstring::CSV.Arg, delim::CSV.Arg, ignorerepeated::CSV.Arg, quoted::CSV.Arg, quotechar::CSV.Arg, openquotechar::CSV.Arg, closequotechar::CSV.Arg, escapechar::CSV.Arg, dateformat::CSV.Arg, dateformats::CSV.Arg, decimal::CSV.Arg, truestrings::CSV.Arg, falsestrings::CSV.Arg, stripwhitespace::CSV.Arg, type::CSV.Arg, types::CSV.Arg, typemap::CSV.Arg, pool::CSV.Arg, downcast::CSV.Arg, lazystrings::CSV.Arg, stringtype::CSV.Arg, strict::CSV.Arg, silencewarnings::CSV.Arg, maxwarnings::CSV.Arg, debug::CSV.Arg, parsingdebug::CSV.Arg, validate::CSV.Arg, streaming::CSV.Arg)",
      "   @ CSV ~/.julia/packages/CSV/b8ebJ/src/context.jl:306",
      " [2] #File#28",
      "   @ ~/.julia/packages/CSV/b8ebJ/src/file.jl:221 [inlined]",
      " [3] macro expansion",
      "   @ ./In[583]:6 [inlined]",
      " [4] top-level scope",
      "   @ ~/.julia/packages/Plots/bMtsB/src/animation.jl:251"
     ]
    }
   ],
   "source": [
    "using Plots, CSV, DataFrames\n",
    "import GR\n",
    "anim = @animate for n in 1:length(T)-1\n",
    "    time_step=T[n+1]-T[n];\n",
    "    IJulia.clear_output(true)\n",
    "    functions3=DataFrame(CSV.File(dir*\"/time_step$n.csv\",header=false, delim=\",\"))\n",
    "    plot()\n",
    "        plot1=functions3.Column1[4:L-3];\n",
    "        plot2=functions3.Column2[4:L-3];\n",
    "        plot3=functions3.Column3[4:L-3];\n",
    "        plot4=functions3.Column4[4:L-3];\n",
    "    d=round(T[n],digits=1)\n",
    "    plot!(initX[4:L-3], [plot4], labels=[\"m\" \"beta\" \"psi\" \"psi,x\"]) |> display \n",
    "    \n",
    "    end\n",
    "\n",
    "gif(anim, \"anim_res$res.gif\", fps = 5)"
   ]
  },
  {
   "cell_type": "code",
   "execution_count": null,
   "id": "7abd60a2",
   "metadata": {},
   "outputs": [],
   "source": []
  },
  {
   "cell_type": "code",
   "execution_count": null,
   "id": "70f2c204",
   "metadata": {},
   "outputs": [],
   "source": []
  }
 ],
 "metadata": {
  "@webio": {
   "lastCommId": null,
   "lastKernelId": null
  },
  "kernelspec": {
   "display_name": "Julia 1.8.0",
   "language": "julia",
   "name": "julia-1.8"
  },
  "language_info": {
   "file_extension": ".jl",
   "mimetype": "application/julia",
   "name": "julia",
   "version": "1.8.0"
  },
  "papermill": {
   "default_parameters": {},
   "duration": 0.964144,
   "end_time": "2023-03-10T15:49:43.780135",
   "environment_variables": {},
   "exception": null,
   "input_path": "Evolution_ScalarField.ipynb",
   "output_path": "Evolution_ScalarField.ipynb",
   "parameters": {
    "m": 3
   },
   "start_time": "2023-03-10T15:49:42.815991",
   "version": "2.4.0"
  }
 },
 "nbformat": 4,
 "nbformat_minor": 5
}
