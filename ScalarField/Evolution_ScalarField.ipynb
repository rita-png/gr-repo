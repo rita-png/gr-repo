{
 "cells": [
  {
   "cell_type": "markdown",
   "id": "d88601a8",
   "metadata": {
    "papermill": {
     "duration": 0.010813,
     "end_time": "2023-03-28T18:06:09.878411",
     "exception": false,
     "start_time": "2023-03-28T18:06:09.867598",
     "status": "completed"
    },
    "tags": []
   },
   "source": [
    "# Evolution of Einstein's equations"
   ]
  },
  {
   "cell_type": "markdown",
   "id": "03c607c7",
   "metadata": {
    "papermill": {
     "duration": 0.006777,
     "end_time": "2023-03-28T18:06:09.893152",
     "exception": false,
     "start_time": "2023-03-28T18:06:09.886375",
     "status": "completed"
    },
    "tags": []
   },
   "source": [
    "# Initial data , setting length of the domain and discretization\n"
   ]
  },
  {
   "cell_type": "code",
   "execution_count": 370,
   "id": "f362b590",
   "metadata": {
    "execution": {
     "iopub.execute_input": "2023-03-28T19:06:10.907000Z",
     "iopub.status.busy": "2023-03-28T19:06:09.907000Z",
     "iopub.status.idle": "2023-03-28T19:06:12.147000Z",
     "shell.execute_reply": "2023-03-28T19:06:12.110000Z"
    },
    "papermill": {
     "duration": 2.251282,
     "end_time": "2023-03-28T18:06:12.151193",
     "exception": false,
     "start_time": "2023-03-28T18:06:09.899911",
     "status": "completed"
    },
    "tags": [
     "injected-parameters"
    ]
   },
   "outputs": [
    {
     "data": {
      "text/plain": [
       "1"
      ]
     },
     "execution_count": 370,
     "metadata": {},
     "output_type": "execute_result"
    }
   ],
   "source": [
    "# Parameters\n",
    "m = 1\n",
    "A = 0.05#0.1124921875#0.125\n",
    "run = 1"
   ]
  },
  {
   "cell_type": "code",
   "execution_count": 371,
   "id": "80a113e0",
   "metadata": {},
   "outputs": [
    {
     "name": "stdout",
     "output_type": "stream",
     "text": [
      "1.0"
     ]
    }
   ],
   "source": [
    "res=m;\n",
    "N=2.0^m*500.0/2#2.0^m*1000.0;#2.0^m*500.0;#N=2.0^m*500.0#2.0^m*100.0;\n",
    "Xf=1.0;\n",
    "\n",
    "dx=Xf/N;\n",
    "dt=round(dx,digits=10);\n",
    "Nt=2.0^m*500.0/2#100.0*2^m*10\n",
    "Tf=Nt*dt; #final time\n",
    "print(Tf)"
   ]
  },
  {
   "cell_type": "code",
   "execution_count": 372,
   "id": "4f752d54",
   "metadata": {
    "execution": {
     "iopub.execute_input": "2023-03-28T19:06:12.356000Z",
     "iopub.status.busy": "2023-03-28T19:06:12.356000Z",
     "iopub.status.idle": "2023-03-28T19:06:12.364000Z",
     "shell.execute_reply": "2023-03-28T19:06:12.364000Z"
    },
    "papermill": {
     "duration": 0.020815,
     "end_time": "2023-03-28T18:06:12.368761",
     "exception": false,
     "start_time": "2023-03-28T18:06:12.347946",
     "status": "completed"
    },
    "tags": []
   },
   "outputs": [
    {
     "name": "stdout",
     "output_type": "stream",
     "text": [
      "500.0"
     ]
    }
   ],
   "source": [
    "print(N)"
   ]
  },
  {
   "cell_type": "code",
   "execution_count": 358,
   "id": "ad48576a",
   "metadata": {
    "execution": {
     "iopub.execute_input": "2023-03-28T19:06:12.386000Z",
     "iopub.status.busy": "2023-03-28T19:06:12.385000Z",
     "iopub.status.idle": "2023-03-28T19:06:12.398000Z",
     "shell.execute_reply": "2023-03-28T19:06:12.398000Z"
    },
    "papermill": {
     "duration": 0.024143,
     "end_time": "2023-03-28T18:06:12.402660",
     "exception": false,
     "start_time": "2023-03-28T18:06:12.378517",
     "status": "completed"
    },
    "tags": []
   },
   "outputs": [
    {
     "name": "stdout",
     "output_type": "stream",
     "text": [
      "dx =0.0005\n",
      "dt =0.0005\n",
      "dx/dt =1.0\n"
     ]
    }
   ],
   "source": [
    "println(\"dx =\", dx)\n",
    "println(\"dt =\", dt)\n",
    "println(\"dx/dt =\", dx/dt)"
   ]
  },
  {
   "cell_type": "code",
   "execution_count": 359,
   "id": "78fb78a5",
   "metadata": {
    "execution": {
     "iopub.execute_input": "2023-03-28T19:06:12.419000Z",
     "iopub.status.busy": "2023-03-28T19:06:12.419000Z",
     "iopub.status.idle": "2023-03-28T19:06:13.308000Z",
     "shell.execute_reply": "2023-03-28T19:06:13.308000Z"
    },
    "papermill": {
     "duration": 0.90283,
     "end_time": "2023-03-28T18:06:13.314381",
     "exception": false,
     "start_time": "2023-03-28T18:06:12.411551",
     "status": "completed"
    },
    "tags": []
   },
   "outputs": [
    {
     "data": {
      "text/plain": [
       "\"/home/rita13santos/Desktop/MSc Thesis/Git/ScalarField/DATA\""
      ]
     },
     "execution_count": 359,
     "metadata": {},
     "output_type": "execute_result"
    }
   ],
   "source": [
    "# Setting RESOLUTION\n",
    "\n",
    "global dir = \"/home/rita13santos/Desktop/MSc Thesis/Git/ScalarField/DATA\"\n",
    "#global dir = \"/home/rita13santos/Desktop/MSc Thesis/Git/ScalarField/DATA\""
   ]
  },
  {
   "cell_type": "markdown",
   "id": "e2dd4335",
   "metadata": {
    "papermill": {
     "duration": 0.007006,
     "end_time": "2023-03-28T18:06:13.351329",
     "exception": false,
     "start_time": "2023-03-28T18:06:13.344323",
     "status": "completed"
    },
    "tags": []
   },
   "source": [
    "# Grid"
   ]
  },
  {
   "cell_type": "code",
   "execution_count": 360,
   "id": "de24fea3",
   "metadata": {
    "execution": {
     "iopub.execute_input": "2023-03-28T19:06:13.366000Z",
     "iopub.status.busy": "2023-03-28T19:06:13.366000Z",
     "iopub.status.idle": "2023-03-28T19:06:13.571000Z",
     "shell.execute_reply": "2023-03-28T19:06:13.571000Z"
    },
    "papermill": {
     "duration": 0.216104,
     "end_time": "2023-03-28T18:06:13.574666",
     "exception": false,
     "start_time": "2023-03-28T18:06:13.358562",
     "status": "completed"
    },
    "tags": []
   },
   "outputs": [],
   "source": [
    "ori=0.0;\n",
    "initX1 = nothing\n",
    "initX1=range(ori, stop=Xf, step=dx);"
   ]
  },
  {
   "cell_type": "code",
   "execution_count": 361,
   "id": "7376d222",
   "metadata": {
    "execution": {
     "iopub.execute_input": "2023-03-28T19:06:13.594000Z",
     "iopub.status.busy": "2023-03-28T19:06:13.594000Z",
     "iopub.status.idle": "2023-03-28T19:06:13.614000Z",
     "shell.execute_reply": "2023-03-28T19:06:13.613000Z"
    },
    "papermill": {
     "duration": 0.032546,
     "end_time": "2023-03-28T18:06:13.618614",
     "exception": false,
     "start_time": "2023-03-28T18:06:13.586068",
     "status": "completed"
    },
    "scrolled": true,
    "tags": []
   },
   "outputs": [
    {
     "name": "stdout",
     "output_type": "stream",
     "text": [
      "step size is  0.0005\n",
      "the time step is 0.0005\n"
     ]
    }
   ],
   "source": [
    "initX = range(round(ori-3.0*dx,digits=10), stop=Xf+3.0*dx, step=dx)\n",
    "\n",
    "L=length(initX);\n",
    "println(\"step size is  \", dx)\n",
    "\n",
    "#T=range(dt,stop=Tf,step=dt)\n",
    "#T=range(0,stop=Tf,step=dt)\n",
    "println(\"the time step is \", dt)"
   ]
  },
  {
   "cell_type": "code",
   "execution_count": 362,
   "id": "bc5288f8",
   "metadata": {
    "execution": {
     "iopub.execute_input": "2023-03-28T19:06:13.636000Z",
     "iopub.status.busy": "2023-03-28T19:06:13.636000Z",
     "iopub.status.idle": "2023-03-28T19:06:14.762000Z",
     "shell.execute_reply": "2023-03-28T19:06:14.762000Z"
    },
    "papermill": {
     "duration": 1.137394,
     "end_time": "2023-03-28T18:06:14.765909",
     "exception": false,
     "start_time": "2023-03-28T18:06:13.628515",
     "status": "completed"
    },
    "tags": []
   },
   "outputs": [],
   "source": [
    "include(\"./ScalarField.jl\");"
   ]
  },
  {
   "cell_type": "markdown",
   "id": "80ab1480",
   "metadata": {
    "papermill": {
     "duration": 0.007525,
     "end_time": "2023-03-28T18:06:14.783937",
     "exception": false,
     "start_time": "2023-03-28T18:06:14.776412",
     "status": "completed"
    },
    "tags": []
   },
   "source": [
    "# Initial data of m β Ψ and Ψ,x"
   ]
  },
  {
   "cell_type": "code",
   "execution_count": 363,
   "id": "d0af654c",
   "metadata": {
    "execution": {
     "iopub.execute_input": "2023-03-28T19:06:14.799000Z",
     "iopub.status.busy": "2023-03-28T19:06:14.799000Z",
     "iopub.status.idle": "2023-03-28T19:06:22.269000Z",
     "shell.execute_reply": "2023-03-28T19:06:22.269000Z"
    },
    "papermill": {
     "duration": 7.48258,
     "end_time": "2023-03-28T18:06:22.273970",
     "exception": false,
     "start_time": "2023-03-28T18:06:14.791390",
     "status": "completed"
    },
    "tags": []
   },
   "outputs": [
    {
     "name": "stderr",
     "output_type": "stream",
     "text": [
      "\u001b[36m\u001b[1m[ \u001b[22m\u001b[39m\u001b[36m\u001b[1mInfo: \u001b[22m\u001b[39m started timer at: 2023-04-09T17:06:40.967\n",
      "\u001b[36m\u001b[1m[ \u001b[22m\u001b[39m\u001b[36m\u001b[1mInfo: \u001b[22m\u001b[39m         0.356507985s: 356 milliseconds\n"
     ]
    }
   ],
   "source": [
    "using PyCall   \n",
    "using Interpolations\n",
    "using TickTock\n",
    "using Dierckx\n",
    "\n",
    "tick()\n",
    "scipy = pyimport(\"scipy\")\n",
    "scipyinterpolate = pyimport(\"scipy.interpolate\")\n",
    "\n",
    "\n",
    "####\n",
    "\n",
    "initm=zeros(L);\n",
    "initbeta=zeros(L);\n",
    "initpsi=zeros(L);\n",
    "initderpsi=zeros(L);\n",
    "\n",
    "state_array=[initm initbeta initpsi initderpsi initX];\n",
    "\n",
    "#PSI\n",
    "r0=0.7#0.3\n",
    "sigma=0.3\n",
    "initpsi[4:L-3] = init_gaussian(initX1,r0,sigma,A)\n",
    "\n",
    "state_array[:,3] = initpsi\n",
    "state_array = ghost(state_array)\n",
    "\n",
    "#PSI,X FROM PSI\n",
    "\"\"\"for i in 4:L-3\n",
    "    initderpsi[i]=Der(state_array[:,:],i,3,initX)\n",
    "end\n",
    "\n",
    "state_array[:,4] = initderpsi\n",
    "state_array = ghost(state_array)\"\"\"\n",
    "\n",
    "#new\n",
    "initderpsi[4:L-3] = init_gaussian_der(initX1,r0,sigma,A)\n",
    "state_array[:,4] = initderpsi\n",
    "state_array=ghost(state_array)\n",
    "\n",
    "####\n",
    "\n",
    "\n",
    "psi_func = Spline1D(initX[4:L-3], state_array[4:L-3,3],  k=4)\n",
    "derpsi_func = Spline1D(initX[4:L-3], initderpsi[4:L-3],  k=4)#new\n",
    "\n",
    "funcs = [psi_func, derpsi_func];\n",
    "\n",
    "tock()"
   ]
  },
  {
   "cell_type": "code",
   "execution_count": 364,
   "id": "384597fa",
   "metadata": {
    "execution": {
     "iopub.execute_input": "2023-03-28T19:06:22.817000Z",
     "iopub.status.busy": "2023-03-28T19:06:22.325000Z",
     "iopub.status.idle": "2023-03-28T19:06:25.288000Z",
     "shell.execute_reply": "2023-03-28T19:06:25.288000Z"
    },
    "papermill": {
     "duration": 2.998847,
     "end_time": "2023-03-28T18:06:25.292099",
     "exception": false,
     "start_time": "2023-03-28T18:06:22.293252",
     "status": "completed"
    },
    "tags": []
   },
   "outputs": [],
   "source": [
    "#BETA\n",
    "beta0=0\n",
    "initbeta[4:L-3]=rk4wrapper(SFconstraint_beta,beta0,initX1,0,funcs)\n",
    "state_array[:,2]=initbeta;\n",
    "state_array=ghost(state_array);\n",
    "\n",
    "\n",
    "#M\n",
    "m0=0\n",
    "initm[4:L-3]=rk4wrapper(SFconstraint_m,m0,initX1,0,funcs)\n",
    "state_array[:,1]=initm;\n",
    "state_array = ghost(state_array);"
   ]
  },
  {
   "cell_type": "code",
   "execution_count": 365,
   "id": "48f10a76",
   "metadata": {
    "execution": {
     "iopub.execute_input": "2023-03-28T19:06:25.312000Z",
     "iopub.status.busy": "2023-03-28T19:06:25.312000Z",
     "iopub.status.idle": "2023-03-28T19:06:25.348000Z",
     "shell.execute_reply": "2023-03-28T19:06:25.347000Z"
    },
    "papermill": {
     "duration": 0.048534,
     "end_time": "2023-03-28T18:06:25.352888",
     "exception": false,
     "start_time": "2023-03-28T18:06:25.304354",
     "status": "completed"
    },
    "tags": []
   },
   "outputs": [
    {
     "data": {
      "text/plain": [
       "\"using Plots #showing initial data and the initial status of the horizon finder\\nplot(initX, state_array[:,1:4], xaxis=\\\"x\\\",title=\\\"Initial Data\\\", labels=[\\\"m\\\" \\\"beta\\\" \\\"psi\\\" \\\"psi,x\\\"])\""
      ]
     },
     "execution_count": 365,
     "metadata": {},
     "output_type": "execute_result"
    }
   ],
   "source": [
    "\"\"\"using Plots #showing initial data and the initial status of the horizon finder\n",
    "plot(initX, state_array[:,1:4], xaxis=\"x\",title=\"Initial Data\", labels=[\"m\" \"beta\" \"psi\" \"psi,x\"])\"\"\""
   ]
  },
  {
   "cell_type": "markdown",
   "id": "9b444ece",
   "metadata": {
    "papermill": {
     "duration": 0.009161,
     "end_time": "2023-03-28T18:06:25.373170",
     "exception": false,
     "start_time": "2023-03-28T18:06:25.364009",
     "status": "completed"
    },
    "tags": []
   },
   "source": [
    "# Defining the initial state array for the evolution m β Ψ and Ψ,x"
   ]
  },
  {
   "cell_type": "code",
   "execution_count": 366,
   "id": "9902ffab",
   "metadata": {
    "execution": {
     "iopub.execute_input": "2023-03-28T19:06:25.389000Z",
     "iopub.status.busy": "2023-03-28T19:06:25.388000Z",
     "iopub.status.idle": "2023-03-28T19:06:32.710000Z",
     "shell.execute_reply": "2023-03-28T19:06:32.710000Z"
    },
    "papermill": {
     "duration": 7.335269,
     "end_time": "2023-03-28T18:06:32.715990",
     "exception": false,
     "start_time": "2023-03-28T18:06:25.380721",
     "status": "completed"
    },
    "tags": []
   },
   "outputs": [
    {
     "data": {
      "text/plain": [
       "\"/home/rita13santos/Desktop/MSc Thesis/Git/ScalarField/DATA/res3/time_step0.csv\""
      ]
     },
     "execution_count": 366,
     "metadata": {},
     "output_type": "execute_result"
    }
   ],
   "source": [
    "using CSV, Tables\n",
    "#CSV.write(dir*\"/time_step0.csv\", Tables.table(transpose(Matrix(state_array))), writeheader=false)\n",
    "CSV.write(dir*\"/res$res/time_step0.csv\", Tables.table(state_array), writeheader=false)"
   ]
  },
  {
   "cell_type": "code",
   "execution_count": 367,
   "id": "fff1426a",
   "metadata": {
    "execution": {
     "iopub.execute_input": "2023-03-28T19:06:33.154000Z",
     "iopub.status.busy": "2023-03-28T19:06:32.734000Z",
     "iopub.status.idle": "2023-03-28T19:06:33.884000Z",
     "shell.execute_reply": "2023-03-28T19:06:33.884000Z"
    },
    "papermill": {
     "duration": 1.164178,
     "end_time": "2023-03-28T18:06:33.889802",
     "exception": false,
     "start_time": "2023-03-28T18:06:32.725624",
     "status": "completed"
    },
    "tags": []
   },
   "outputs": [
    {
     "data": {
      "text/plain": [
       "\"/home/rita13santos/Desktop/MSc Thesis/Git/ScalarField/DATA/parameters.csv\""
      ]
     },
     "execution_count": 367,
     "metadata": {},
     "output_type": "execute_result"
    }
   ],
   "source": [
    "timestep=0\n",
    "criticality=0.0\n",
    "explode=0.0\n",
    "evol_stats = [run criticality A sigma r0 timestep explode]\n",
    "monitor_ratio = zeros(L)\n",
    "CSV.write(dir*\"/parameters.csv\", Tables.table(evol_stats), writeheader=true, header=[\"run\", \"criticality\", \"A\", \"sigma\", \"r0\", \"timestep\", \"explode\"])"
   ]
  },
  {
   "cell_type": "code",
   "execution_count": 368,
   "id": "9e9abd7d",
   "metadata": {},
   "outputs": [
    {
     "name": "stdout",
     "output_type": "stream",
     "text": [
      "1.0\n"
     ]
    }
   ],
   "source": [
    "ginit=dt_scale(initX,state_array[:,1],state_array[:,2],dx)\n",
    "println(update_dt(initX,state_array[:,1],state_array[:,2],dx,ginit)/dt)"
   ]
  },
  {
   "cell_type": "markdown",
   "id": "42e2c73d",
   "metadata": {
    "papermill": {
     "duration": 0.007626,
     "end_time": "2023-03-28T18:06:33.908346",
     "exception": false,
     "start_time": "2023-03-28T18:06:33.900720",
     "status": "completed"
    },
    "tags": []
   },
   "source": [
    " ## Time evolution"
   ]
  },
  {
   "cell_type": "markdown",
   "id": "7da47594",
   "metadata": {
    "papermill": {
     "duration": 0.007471,
     "end_time": "2023-03-28T18:06:33.923805",
     "exception": false,
     "start_time": "2023-03-28T18:06:33.916334",
     "status": "completed"
    },
    "tags": []
   },
   "source": [
    "fixed grid"
   ]
  },
  {
   "cell_type": "code",
   "execution_count": 369,
   "id": "fcb7ae3f",
   "metadata": {
    "execution": {
     "iopub.execute_input": "2023-03-28T19:06:33.940000Z",
     "iopub.status.busy": "2023-03-28T19:06:33.940000Z",
     "iopub.status.idle": "2023-03-28T21:02:19.379000Z",
     "shell.execute_reply": "2023-03-28T21:02:19.378000Z"
    },
    "papermill": {
     "duration": 6945.452732,
     "end_time": "2023-03-28T20:02:19.384591",
     "exception": false,
     "start_time": "2023-03-28T18:06:33.931859",
     "status": "completed"
    },
    "tags": []
   },
   "outputs": [
    {
     "name": "stdout",
     "output_type": "stream",
     "text": [
      "iteration 10 dt is 0.0004999999999970807, time of iteration is 0.004999999999973728\n",
      "iteration 20 dt is 0.0004999999999970807, time of iteration is 0.009999999999944536\n",
      "iteration 30 dt is 0.0004999999999970807, time of iteration is 0.014999999999915345\n",
      "iteration 40 dt is 0.0004999999999970807, time of iteration is 0.01999999999988614\n",
      "iteration 50 dt is 0.0004999999999970807, time of iteration is 0.024999999999856932\n",
      "iteration 60 dt is 0.0004999999999970807, time of iteration is 0.029999999999827724\n",
      "iteration 70 dt is 0.0004999999999970807, time of iteration is 0.03499999999979852\n",
      "iteration 80 dt is 0.0004999999999970807, time of iteration is 0.03999999999976931\n",
      "iteration 90 dt is 0.0004999999999970807, time of iteration is 0.0449999999997401\n",
      "iteration 100 dt is 0.0004999999999970807, time of iteration is 0.049999999999710894\n",
      "iteration 110 dt is 0.0004999999999970807, time of iteration is 0.054999999999681685\n",
      "iteration 120 dt is 0.0004999999999970807, time of iteration is 0.05999999999965248\n",
      "iteration 130 dt is 0.0004999999999970807, time of iteration is 0.0649999999996233\n",
      "iteration 140 dt is 0.0004999999999970807, time of iteration is 0.06999999999959416\n",
      "iteration 150 dt is 0.0004999999999970807, time of iteration is 0.07499999999956503\n",
      "iteration 160 dt is 0.0004999999999970807, time of iteration is 0.07999999999953589\n",
      "iteration 170 dt is 0.0004999999999970807, time of iteration is 0.08499999999950675\n",
      "iteration 180 dt is 0.0004999999999970807, time of iteration is 0.08999999999947761\n",
      "iteration 190 dt is 0.0004999999999970807, time of iteration is 0.09499999999944847\n",
      "iteration 200 dt is 0.0004999999999970807, time of iteration is 0.09999999999941933\n",
      "iteration 210 dt is 0.0004999999999970807, time of iteration is 0.10499999999939019\n",
      "iteration 220 dt is 0.0004999999999970807, time of iteration is 0.10999999999936105\n",
      "iteration 230 dt is 0.0004999999999970807, time of iteration is 0.11499999999933191\n",
      "iteration 240 dt is 0.0004999999999970807, time of iteration is 0.11999999999930278\n",
      "iteration 250 dt is 0.0004999999999970807, time of iteration is 0.12499999999927364\n",
      "iteration 260 dt is 0.0004999999999970807, time of iteration is 0.1299999999992445\n",
      "iteration 270 dt is 0.0004999999999970807, time of iteration is 0.13499999999921536\n",
      "iteration 280 dt is 0.0004999999999970807, time of iteration is 0.13999999999918622\n",
      "iteration 290 dt is 0.0004999999999970807, time of iteration is 0.14499999999915708\n",
      "iteration 300 dt is 0.0004999999999970807, time of iteration is 0.14999999999912794\n",
      "iteration 310 dt is 0.0004999999999970807, time of iteration is 0.1549999999990988\n",
      "iteration 320 dt is 0.0004999999999970807, time of iteration is 0.15999999999906966\n",
      "iteration 330 dt is 0.0004999999999970807, time of iteration is 0.16499999999904053\n",
      "iteration 340 dt is 0.0004999999999970807, time of iteration is 0.1699999999990114\n",
      "iteration 350 dt is 0.0004999999999970807, time of iteration is 0.17499999999898225\n",
      "iteration 360 dt is 0.0004999999999970807, time of iteration is 0.1799999999989531\n",
      "iteration 370 dt is 0.0004999999999970807, time of iteration is 0.18499999999892397\n",
      "iteration 380 dt is 0.0004999999999970807, time of iteration is 0.18999999999889483\n",
      "iteration 390 dt is 0.0004999999999970807, time of iteration is 0.1949999999988657\n",
      "iteration 400 dt is 0.0004999999999970807, time of iteration is 0.19999999999883655\n",
      "iteration 410 dt is 0.0004999999999970807, time of iteration is 0.20499999999880741\n",
      "iteration 420 dt is 0.0004999999999970807, time of iteration is 0.20999999999877828\n",
      "iteration 430 dt is 0.0004999999999970807, time of iteration is 0.21499999999874914\n",
      "iteration 440 dt is 0.0004999999999970807, time of iteration is 0.21999999999872\n",
      "iteration 450 dt is 0.0004999999999970807, time of iteration is 0.22499999999869086\n",
      "iteration 460 dt is 0.0004999999999970807, time of iteration is 0.22999999999866172\n",
      "iteration 470 dt is 0.0004999999999970807, time of iteration is 0.23499999999863258\n",
      "iteration 480 dt is 0.0004999999999970807, time of iteration is 0.23999999999860344\n",
      "iteration 490 dt is 0.0004999999999970807, time of iteration is 0.2449999999985743\n",
      "iteration 500 dt is 0.0004999999999970807, time of iteration is 0.24999999999854516\n",
      "iteration 510 dt is 0.0004999999999970807, time of iteration is 0.25499999999851575\n",
      "iteration 520 dt is 0.0004999999999970807, time of iteration is 0.25999999999848633\n",
      "iteration 530 dt is 0.0004999999999970807, time of iteration is 0.2649999999984569\n",
      "iteration 540 dt is 0.0004999999999970807, time of iteration is 0.2699999999984275\n",
      "iteration 550 dt is 0.0004999999999970807, time of iteration is 0.2749999999983981\n",
      "iteration 560 dt is 0.0004999999999970807, time of iteration is 0.27999999999836866\n",
      "iteration 570 dt is 0.0004999999999970807, time of iteration is 0.28499999999833925\n",
      "iteration 580 dt is 0.0004999999999970807, time of iteration is 0.28999999999830983\n",
      "iteration 590 dt is 0.0004999999999970807, time of iteration is 0.2949999999982804\n",
      "iteration 600 dt is 0.0004999999999970807, time of iteration is 0.299999999998251\n",
      "iteration 610 dt is 0.0004999999999970807, time of iteration is 0.3049999999982216\n",
      "iteration 620 dt is 0.0004999999999970807, time of iteration is 0.30999999999819217\n",
      "iteration 630 dt is 0.0004999999999970807, time of iteration is 0.31499999999816275\n",
      "iteration 640 dt is 0.0004999999999970807, time of iteration is 0.31999999999813333\n",
      "iteration 650 dt is 0.0004999999999970807, time of iteration is 0.3249999999981039\n",
      "iteration 660 dt is 0.0004999999999970807, time of iteration is 0.3299999999980745\n",
      "iteration 670 dt is 0.0004999999999970807, time of iteration is 0.3349999999980451\n",
      "iteration 680 dt is 0.0004999999999970807, time of iteration is 0.33999999999801567\n",
      "iteration 690 dt is 0.0004999999999970807, time of iteration is 0.34499999999798625\n",
      "iteration 700 dt is 0.0004999999999970807, time of iteration is 0.34999999999795683\n",
      "iteration 710 dt is 0.0004999999999970807, time of iteration is 0.3549999999979274\n",
      "iteration 720 dt is 0.0004999999999970807, time of iteration is 0.359999999997898\n",
      "iteration 730 dt is 0.0004999999999970807, time of iteration is 0.3649999999978686\n",
      "iteration 740 dt is 0.0004999999999970807, time of iteration is 0.36999999999783917\n",
      "iteration 750 dt is 0.0004999999999970807, time of iteration is 0.37499999999780975\n",
      "iteration 760 dt is 0.0004999999999970807, time of iteration is 0.37999999999778034\n",
      "iteration 770 dt is 0.0004999999999970807, time of iteration is 0.3849999999977509\n",
      "iteration 780 dt is 0.0004999999999970807, time of iteration is 0.3899999999977215\n",
      "iteration 790 dt is 0.0004999999999970807, time of iteration is 0.3949999999976921\n",
      "iteration 800 dt is 0.0004999999999970807, time of iteration is 0.39999999999766267\n",
      "iteration 810 dt is 0.0004999999999970807, time of iteration is 0.40499999999763325\n",
      "iteration 820 dt is 0.0004999999999970807, time of iteration is 0.40999999999760384\n",
      "iteration 830 dt is 0.0004999999999970807, time of iteration is 0.4149999999975744\n",
      "iteration 840 dt is 0.0004999999999970807, time of iteration is 0.419999999997545\n",
      "iteration 850 dt is 0.0004999999999970807, time of iteration is 0.4249999999975156\n",
      "iteration 860 dt is 0.0004999999999970807, time of iteration is 0.42999999999748617\n",
      "iteration 870 dt is 0.0004999999999970807, time of iteration is 0.43499999999745675\n",
      "iteration 880 dt is 0.0004999999999970807, time of iteration is 0.43999999999742734\n",
      "iteration 890 dt is 0.0004999999999970807, time of iteration is 0.4449999999973979\n",
      "iteration 900 dt is 0.0004999999999970807, time of iteration is 0.4499999999973685\n",
      "iteration 910 dt is 0.0004999999999970807, time of iteration is 0.4549999999973391\n",
      "iteration 920 dt is 0.0004999999999970807, time of iteration is 0.45999999999730967\n",
      "iteration 930 dt is 0.0004999999999970807, time of iteration is 0.46499999999728026\n",
      "iteration 940 dt is 0.0004999999999970807, time of iteration is 0.46999999999725084\n",
      "iteration 950 dt is 0.0004999999999970807, time of iteration is 0.4749999999972214\n",
      "iteration 960 dt is 0.0004999999999970807, time of iteration is 0.479999999997192\n",
      "iteration 970 dt is 0.0004999999999970807, time of iteration is 0.4849999999971626\n",
      "iteration 980 dt is 0.0004999999999970807, time of iteration is 0.4899999999971332\n",
      "iteration 990 dt is 0.0004999999999970807, time of iteration is 0.49499999999710376\n"
     ]
    },
    {
     "name": "stdout",
     "output_type": "stream",
     "text": [
      "iteration 1000 dt is 0.0004999999999970807, time of iteration is 0.49999999999707434\n",
      "iteration 1010 dt is 0.0004999999999970807, time of iteration is 0.5049999999970449\n",
      "iteration 1020 dt is 0.0004999999999970807, time of iteration is 0.5099999999970155\n",
      "iteration 1030 dt is 0.0004999999999970807, time of iteration is 0.5149999999969861\n",
      "iteration 1040 dt is 0.0004999999999970807, time of iteration is 0.5199999999969567\n",
      "iteration 1050 dt is 0.0004999999999970807, time of iteration is 0.5249999999969273\n",
      "iteration 1060 dt is 0.0004999999999970807, time of iteration is 0.5299999999968978\n",
      "iteration 1070 dt is 0.0004999999999970807, time of iteration is 0.5349999999968684\n",
      "iteration 1080 dt is 0.0004999999999970807, time of iteration is 0.539999999996839\n",
      "iteration 1090 dt is 0.0004999999999970807, time of iteration is 0.5449999999968096\n",
      "iteration 1100 dt is 0.0004999999999970807, time of iteration is 0.5499999999967802\n",
      "iteration 1110 dt is 0.0004999999999970807, time of iteration is 0.5549999999967508\n",
      "iteration 1120 dt is 0.0004999999999970807, time of iteration is 0.5599999999967213\n",
      "iteration 1130 dt is 0.0004999999999970807, time of iteration is 0.5649999999966919\n",
      "iteration 1140 dt is 0.0004999999999970807, time of iteration is 0.5699999999966625\n",
      "iteration 1150 dt is 0.0004999999999970807, time of iteration is 0.5749999999966331\n",
      "iteration 1160 dt is 0.0004999999999970807, time of iteration is 0.5799999999966037\n",
      "iteration 1170 dt is 0.0004999999999970807, time of iteration is 0.5849999999965743\n",
      "iteration 1180 dt is 0.0004999999999970807, time of iteration is 0.5899999999965448\n",
      "iteration 1190 dt is 0.0004999999999970807, time of iteration is 0.5949999999965154\n",
      "iteration 1200 dt is 0.0004999999999970807, time of iteration is 0.599999999996486\n",
      "iteration 1210 dt is 0.0004999999999970807, time of iteration is 0.6049999999964566\n",
      "iteration 1220 dt is 0.0004999999999970807, time of iteration is 0.6099999999964272\n",
      "iteration 1230 dt is 0.0004999999999970807, time of iteration is 0.6149999999963978\n",
      "iteration 1240 dt is 0.0004999999999970807, time of iteration is 0.6199999999963683\n",
      "iteration 1250 dt is 0.0004999999999970807, time of iteration is 0.6249999999963389\n",
      "iteration 1260 dt is 0.0004999999999970807, time of iteration is 0.6299999999963095\n",
      "iteration 1270 dt is 0.0004999999999970807, time of iteration is 0.6349999999962801\n",
      "iteration 1280 dt is 0.0004999999999970807, time of iteration is 0.6399999999962507\n",
      "iteration 1290 dt is 0.0004999999999970807, time of iteration is 0.6449999999962213\n",
      "iteration 1300 dt is 0.0004999999999970807, time of iteration is 0.6499999999961918\n",
      "iteration 1310 dt is 0.0004999999999970807, time of iteration is 0.6549999999961624\n",
      "iteration 1320 dt is 0.0004999999999970807, time of iteration is 0.659999999996133\n",
      "iteration 1330 dt is 0.0004999999999970807, time of iteration is 0.6649999999961036\n",
      "iteration 1340 dt is 0.0004999999999970807, time of iteration is 0.6699999999960742\n",
      "iteration 1350 dt is 0.0004999999999970807, time of iteration is 0.6749999999960448\n",
      "iteration 1360 dt is 0.0004999999999970807, time of iteration is 0.6799999999960153\n",
      "iteration 1370 dt is 0.0004999999999970807, time of iteration is 0.6849999999959859\n",
      "iteration 1380 dt is 0.0004999999999970807, time of iteration is 0.6899999999959565\n",
      "iteration 1390 dt is 0.0004999999999970807, time of iteration is 0.6949999999959271\n",
      "iteration 1400 dt is 0.0004999999999970807, time of iteration is 0.6999999999958977\n",
      "iteration 1410 dt is 0.0004999999999970807, time of iteration is 0.7049999999958683\n",
      "iteration 1420 dt is 0.0004999999999970807, time of iteration is 0.7099999999958388\n",
      "iteration 1430 dt is 0.0004999999999970807, time of iteration is 0.7149999999958094\n",
      "iteration 1440 dt is 0.0004999999999970807, time of iteration is 0.71999999999578\n",
      "iteration 1450 dt is 0.0004999999999970807, time of iteration is 0.7249999999957506\n",
      "iteration 1460 dt is 0.0004999999999970807, time of iteration is 0.7299999999957212\n",
      "iteration 1470 dt is 0.0004999999999970807, time of iteration is 0.7349999999956918\n",
      "iteration 1480 dt is 0.0004999999999970807, time of iteration is 0.7399999999956623\n",
      "iteration 1490 dt is 0.0004999999999970807, time of iteration is 0.7449999999956329\n",
      "iteration 1500 dt is 0.0004999999999970807, time of iteration is 0.7499999999956035\n",
      "iteration 1510 dt is 0.0004999999999970807, time of iteration is 0.7549999999955741\n",
      "iteration 1520 dt is 0.0004999999999970807, time of iteration is 0.7599999999955447\n",
      "iteration 1530 dt is 0.0004999999999970807, time of iteration is 0.7649999999955153\n",
      "iteration 1540 dt is 0.0004999999999970807, time of iteration is 0.7699999999954859\n",
      "iteration 1550 dt is 0.0004999999999970807, time of iteration is 0.7749999999954564\n",
      "iteration 1560 dt is 0.0004999999999970807, time of iteration is 0.779999999995427\n",
      "iteration 1570 dt is 0.0004999999999970807, time of iteration is 0.7849999999953976\n",
      "iteration 1580 dt is 0.0004999999999970807, time of iteration is 0.7899999999953682\n",
      "iteration 1590 dt is 0.0004999999999970807, time of iteration is 0.7949999999953388\n",
      "iteration 1600 dt is 0.0004999999999970807, time of iteration is 0.7999999999953094\n"
     ]
    }
   ],
   "source": [
    "finaltime=0.04*5*4#length(T)-1\n",
    "T_interp = timeevolution(state_array,finaltime,dir,dt,run);\n",
    "CSV.write(dir*\"/timearray$res.csv\", Tables.table(T_interp), writeheader=false);"
   ]
  },
  {
   "cell_type": "code",
   "execution_count": null,
   "id": "c3a42928",
   "metadata": {},
   "outputs": [],
   "source": []
  },
  {
   "cell_type": "code",
   "execution_count": null,
   "id": "40cd5474",
   "metadata": {},
   "outputs": [],
   "source": []
  },
  {
   "cell_type": "markdown",
   "id": "715897d3",
   "metadata": {
    "papermill": {
     "duration": 0.007626,
     "end_time": "2023-03-28T18:06:33.908346",
     "exception": false,
     "start_time": "2023-03-28T18:06:33.900720",
     "status": "completed"
    },
    "tags": []
   },
   "source": [
    " ## Movie of the evolution"
   ]
  },
  {
   "cell_type": "code",
   "execution_count": 322,
   "id": "973cea47",
   "metadata": {},
   "outputs": [
    {
     "name": "stderr",
     "output_type": "stream",
     "text": [
      "\u001b[36m\u001b[1m[ \u001b[22m\u001b[39m\u001b[36m\u001b[1mInfo: \u001b[22m\u001b[39mSaved animation to /home/rita13santos/Desktop/MSc Thesis/Git/ScalarField/anim_res1.gif\n"
     ]
    },
    {
     "data": {
      "text/html": [
       "<img src=\"data:image/gif;base64,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\" />"
      ],
      "text/plain": [
       "Plots.AnimatedGif(\"/home/rita13santos/Desktop/MSc Thesis/Git/ScalarField/anim_res1.gif\")"
      ]
     },
     "execution_count": 322,
     "metadata": {},
     "output_type": "execute_result"
    }
   ],
   "source": [
    "using Plots, CSV, DataFrames\n",
    "import GR\n",
    "anim = @animate for n in 0:10:100#length(T)-1\n",
    "    \n",
    "    IJulia.clear_output(true)\n",
    "    \n",
    "    functions3=DataFrame(CSV.File(dir*\"/res$res/time_step$n.csv\",header=false, delim=\",\"))\n",
    "    plot()\n",
    "        plot1=functions3.Column1[4:L-3];\n",
    "        plot2=functions3.Column2[4:L-3];\n",
    "        plot3=functions3.Column3[4:L-3];\n",
    "        plot4=functions3.Column4[4:L-3];\n",
    "        plot5=functions3.Column5[4:L-3];\n",
    "    \n",
    "    #plot!(X1, [plot1 plot2 plot3 plot4], labels=[\"m\" \"beta\" \"psi\" \"psi,x\"],ylim=[-0.1,0.1], xlim=[0, 0.1]) |> display \n",
    "    plot!(initX[4:L-3], [plot1], labels=[\"m\" \"beta\" \"psi\" \"psi,x\"],ylim=[-1,1])#, xlim=[0, 0.1]) |> display \n",
    "    \n",
    "    end\n",
    "\n",
    "gif(anim, \"anim_res$res.gif\", fps = 1)"
   ]
  },
  {
   "cell_type": "code",
   "execution_count": 634,
   "id": "b1f15c9e",
   "metadata": {},
   "outputs": [
    {
     "data": {
      "text/plain": [
       "\"/home/rita13santos/Desktop/MSc Thesis/Git/ScalarField/DATA/res3\""
      ]
     },
     "execution_count": 634,
     "metadata": {},
     "output_type": "execute_result"
    }
   ],
   "source": [
    "dir"
   ]
  },
  {
   "cell_type": "code",
   "execution_count": null,
   "id": "34adf7fe",
   "metadata": {},
   "outputs": [],
   "source": []
  },
  {
   "cell_type": "code",
   "execution_count": null,
   "id": "a05acb5f",
   "metadata": {},
   "outputs": [],
   "source": []
  },
  {
   "cell_type": "code",
   "execution_count": null,
   "id": "01c840df",
   "metadata": {},
   "outputs": [],
   "source": []
  },
  {
   "cell_type": "code",
   "execution_count": null,
   "id": "eb36f345",
   "metadata": {},
   "outputs": [],
   "source": []
  },
  {
   "cell_type": "code",
   "execution_count": null,
   "id": "6e1862b9",
   "metadata": {},
   "outputs": [],
   "source": []
  }
 ],
 "metadata": {
  "@webio": {
   "lastCommId": null,
   "lastKernelId": null
  },
  "kernelspec": {
   "display_name": "Julia 1.8.0",
   "language": "julia",
   "name": "julia-1.8"
  },
  "language_info": {
   "file_extension": ".jl",
   "mimetype": "application/julia",
   "name": "julia",
   "version": "1.8.0"
  },
  "papermill": {
   "default_parameters": {},
   "duration": 7025.507115,
   "end_time": "2023-03-28T20:03:06.430756",
   "environment_variables": {},
   "exception": null,
   "input_path": "Evolution_ScalarField.ipynb",
   "output_path": "Evolution_ScalarField.ipynb",
   "parameters": {
    "A": 0.001,
    "m": 3
   },
   "start_time": "2023-03-28T18:06:00.923641",
   "version": "2.4.0"
  }
 },
 "nbformat": 4,
 "nbformat_minor": 5
}
