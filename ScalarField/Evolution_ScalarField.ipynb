{
 "cells": [
  {
   "cell_type": "markdown",
   "id": "d88601a8",
   "metadata": {
    "papermill": {
     "duration": null,
     "end_time": null,
     "exception": null,
     "start_time": null,
     "status": "completed"
    },
    "tags": []
   },
   "source": [
    "# Evolution of Einstein's equations"
   ]
  },
  {
   "cell_type": "markdown",
   "id": "03c607c7",
   "metadata": {
    "papermill": {
     "duration": null,
     "end_time": null,
     "exception": null,
     "start_time": null,
     "status": "completed"
    },
    "tags": []
   },
   "source": [
    "# Initial data , setting length of the domain and discretization\n"
   ]
  },
  {
   "cell_type": "code",
   "execution_count": 167,
   "id": "e3ef6d22",
   "metadata": {
    "papermill": {
     "duration": null,
     "end_time": null,
     "exception": null,
     "start_time": null,
     "status": "completed"
    },
    "tags": [
     "injected-parameters"
    ]
   },
   "outputs": [
    {
     "data": {
      "text/plain": [
       "0.1449"
      ]
     },
     "execution_count": 167,
     "metadata": {},
     "output_type": "execute_result"
    }
   ],
   "source": [
    "# Parameters\n",
    "m = 3\n",
    "A = 0.1449"
   ]
  },
  {
   "cell_type": "code",
   "execution_count": 168,
   "id": "80bb0a34",
   "metadata": {
    "execution": {
     "iopub.execute_input": "2023-03-01T09:49:50.032000Z",
     "iopub.status.busy": "2023-03-01T09:49:50.032000Z",
     "iopub.status.idle": "2023-03-01T09:49:50.289000Z",
     "shell.execute_reply": "2023-03-01T09:49:50.289000Z"
    },
    "papermill": {
     "duration": null,
     "end_time": null,
     "exception": null,
     "start_time": null,
     "status": "completed"
    },
    "tags": []
   },
   "outputs": [
    {
     "name": "stdout",
     "output_type": "stream",
     "text": [
      "the final time is 0.8\n"
     ]
    }
   ],
   "source": [
    "res=m;\n",
    "N=2.0^m*500.0;#N=2.0^m*500.0#2.0^m*100.0;\n",
    "Xf=1.0;\n",
    "\n",
    "dx=Xf/N;\n",
    "dt=round(dx*0.4,digits=10);\n",
    "Nt=100.0*2^m*10\n",
    "Tf=Nt*dt; #final time\n",
    "\n",
    "println(\"the final time is \", Tf)"
   ]
  },
  {
   "cell_type": "code",
   "execution_count": 169,
   "id": "2b95e4c8",
   "metadata": {
    "execution": {
     "iopub.execute_input": "2023-03-01T09:49:50.314000Z",
     "iopub.status.busy": "2023-03-01T09:49:50.313000Z",
     "iopub.status.idle": "2023-03-01T09:49:50.325000Z",
     "shell.execute_reply": "2023-03-01T09:49:50.325000Z"
    },
    "papermill": {
     "duration": null,
     "end_time": null,
     "exception": null,
     "start_time": null,
     "status": "completed"
    },
    "tags": []
   },
   "outputs": [
    {
     "name": "stdout",
     "output_type": "stream",
     "text": [
      "4000.0"
     ]
    }
   ],
   "source": [
    "print(N)"
   ]
  },
  {
   "cell_type": "code",
   "execution_count": 170,
   "id": "ad48576a",
   "metadata": {
    "execution": {
     "iopub.execute_input": "2023-03-01T09:49:50.355000Z",
     "iopub.status.busy": "2023-03-01T09:49:50.355000Z",
     "iopub.status.idle": "2023-03-01T09:49:50.371000Z",
     "shell.execute_reply": "2023-03-01T09:49:50.371000Z"
    },
    "papermill": {
     "duration": null,
     "end_time": null,
     "exception": null,
     "start_time": null,
     "status": "completed"
    },
    "tags": []
   },
   "outputs": [
    {
     "name": "stdout",
     "output_type": "stream",
     "text": [
      "dx =0.00025\n",
      "dt =0.0001\n",
      "dx/dt =2.5\n",
      "epsilon <= dx/dt * (1/2)^(2*2-1) = 0.3125\n",
      "epsilon = dx/dt * (1/2)^(2*2) = 0.15625\n",
      "epsilon = dx/dt * (1/2)^(2*3) = 0.0390625\n",
      "epsilon = dx/dt * (1/2)^(2) = 0.625\n"
     ]
    }
   ],
   "source": [
    "println(\"dx =\", dx)\n",
    "println(\"dt =\", dt)\n",
    "println(\"dx/dt =\", dx/dt)\n",
    "println(\"epsilon <= dx/dt * (1/2)^(2*2-1) = \", dx/dt*(1/2)^(2*2-1))\n",
    "\n",
    "println(\"epsilon = dx/dt * (1/2)^(2*2) = \", dx/dt*(1/2)^(2*2))\n",
    "\n",
    "println(\"epsilon = dx/dt * (1/2)^(2*3) = \", dx/dt*(1/2)^(2*3))\n",
    "\n",
    "println(\"epsilon = dx/dt * (1/2)^(2) = \", dx/dt*(1/2)^(2))"
   ]
  },
  {
   "cell_type": "code",
   "execution_count": 171,
   "id": "78fb78a5",
   "metadata": {
    "execution": {
     "iopub.execute_input": "2023-03-01T09:49:50.399000Z",
     "iopub.status.busy": "2023-03-01T09:49:50.399000Z",
     "iopub.status.idle": "2023-03-01T09:49:51.712000Z",
     "shell.execute_reply": "2023-03-01T09:49:51.712000Z"
    },
    "papermill": {
     "duration": null,
     "end_time": null,
     "exception": null,
     "start_time": null,
     "status": "completed"
    },
    "tags": []
   },
   "outputs": [
    {
     "data": {
      "text/plain": [
       "\"/home/rita13santos/Desktop/MSc Thesis/Git/ScalarField/DATA/res3\""
      ]
     },
     "execution_count": 171,
     "metadata": {},
     "output_type": "execute_result"
    }
   ],
   "source": [
    "# Setting RESOLUTION\n",
    "\n",
    "global dir = \"/home/rita13santos/Desktop/MSc Thesis/Git/ScalarField/DATA/res$res\""
   ]
  },
  {
   "cell_type": "code",
   "execution_count": 172,
   "id": "d5305565",
   "metadata": {
    "execution": {
     "iopub.execute_input": "2023-03-01T09:49:51.743000Z",
     "iopub.status.busy": "2023-03-01T09:49:51.742000Z",
     "iopub.status.idle": "2023-03-01T09:49:51.791000Z",
     "shell.execute_reply": "2023-03-01T09:49:51.791000Z"
    },
    "papermill": {
     "duration": null,
     "end_time": null,
     "exception": null,
     "start_time": null,
     "status": "completed"
    },
    "tags": []
   },
   "outputs": [
    {
     "name": "stdout",
     "output_type": "stream",
     "text": [
      "0.00025\n",
      "0.0001\n"
     ]
    }
   ],
   "source": [
    "println(dx)\n",
    "println(dt)"
   ]
  },
  {
   "cell_type": "code",
   "execution_count": 173,
   "id": "9732fbb0",
   "metadata": {
    "execution": {
     "iopub.execute_input": "2023-03-01T09:49:51.817000Z",
     "iopub.status.busy": "2023-03-01T09:49:51.817000Z",
     "iopub.status.idle": "2023-03-01T09:49:52.350000Z",
     "shell.execute_reply": "2023-03-01T09:49:52.350000Z"
    },
    "papermill": {
     "duration": null,
     "end_time": null,
     "exception": null,
     "start_time": null,
     "status": "completed"
    },
    "tags": []
   },
   "outputs": [
    {
     "data": {
      "text/plain": [
       "0.1"
      ]
     },
     "execution_count": 173,
     "metadata": {},
     "output_type": "execute_result"
    }
   ],
   "source": [
    "epsilon=0.1##0.01#0.05; #05; #02;#0.05; #0.05; #0.05;#0.05;#0.05; #dissipation strength (-1 for backwards integration)"
   ]
  },
  {
   "cell_type": "markdown",
   "id": "e2dd4335",
   "metadata": {
    "papermill": {
     "duration": null,
     "end_time": null,
     "exception": null,
     "start_time": null,
     "status": "completed"
    },
    "tags": []
   },
   "source": [
    "# Grid"
   ]
  },
  {
   "cell_type": "code",
   "execution_count": 174,
   "id": "de24fea3",
   "metadata": {
    "execution": {
     "iopub.execute_input": "2023-03-01T09:49:52.407000Z",
     "iopub.status.busy": "2023-03-01T09:49:52.407000Z",
     "iopub.status.idle": "2023-03-01T09:49:52.633000Z",
     "shell.execute_reply": "2023-03-01T09:49:52.633000Z"
    },
    "papermill": {
     "duration": null,
     "end_time": null,
     "exception": null,
     "start_time": null,
     "status": "completed"
    },
    "tags": []
   },
   "outputs": [],
   "source": [
    "ori=0.0;\n",
    "initX1 = nothing\n",
    "initX1=range(ori, stop=Xf, step=dx);"
   ]
  },
  {
   "cell_type": "code",
   "execution_count": 175,
   "id": "7376d222",
   "metadata": {
    "execution": {
     "iopub.execute_input": "2023-03-01T09:49:52.659000Z",
     "iopub.status.busy": "2023-03-01T09:49:52.659000Z",
     "iopub.status.idle": "2023-03-01T09:49:52.688000Z",
     "shell.execute_reply": "2023-03-01T09:49:52.688000Z"
    },
    "papermill": {
     "duration": null,
     "end_time": null,
     "exception": null,
     "start_time": null,
     "status": "completed"
    },
    "scrolled": true,
    "tags": []
   },
   "outputs": [
    {
     "name": "stdout",
     "output_type": "stream",
     "text": [
      "0.00025step size is  0.00025\n",
      "the time step is 0.0001\n"
     ]
    }
   ],
   "source": [
    "print(dx)\n",
    "initX = range(round(ori-3.0*dx,digits=10), stop=Xf+3.0*dx, step=dx)\n",
    "\n",
    "L=length(initX);\n",
    "println(\"step size is  \", dx)\n",
    "\n",
    "#T=range(dt,stop=Tf,step=dt)\n",
    "T=range(0,stop=Tf-dt,step=dt)\n",
    "println(\"the time step is \", dt)"
   ]
  },
  {
   "cell_type": "code",
   "execution_count": 176,
   "id": "942ac3bc",
   "metadata": {
    "execution": {
     "iopub.execute_input": "2023-03-01T09:49:52.716000Z",
     "iopub.status.busy": "2023-03-01T09:49:52.716000Z",
     "iopub.status.idle": "2023-03-01T09:49:52.971000Z",
     "shell.execute_reply": "2023-03-01T09:49:52.971000Z"
    },
    "papermill": {
     "duration": null,
     "end_time": null,
     "exception": null,
     "start_time": null,
     "status": "completed"
    },
    "tags": []
   },
   "outputs": [
    {
     "name": "stdout",
     "output_type": "stream",
     "text": [
      "4007(4001,)0.25"
     ]
    }
   ],
   "source": [
    "radius=zeros(L)\n",
    "print(L)\n",
    "print(size(initX1))\n",
    "print(initX1[1001])\n",
    "for i in 1:L\n",
    "    radius[i]=initX[i]/(1-initX[i])\n",
    "end"
   ]
  },
  {
   "cell_type": "code",
   "execution_count": 177,
   "id": "bc5288f8",
   "metadata": {
    "execution": {
     "iopub.execute_input": "2023-03-01T09:49:53.003000Z",
     "iopub.status.busy": "2023-03-01T09:49:53.002000Z",
     "iopub.status.idle": "2023-03-01T09:49:53.101000Z",
     "shell.execute_reply": "2023-03-01T09:49:53.101000Z"
    },
    "papermill": {
     "duration": null,
     "end_time": null,
     "exception": null,
     "start_time": null,
     "status": "completed"
    },
    "tags": []
   },
   "outputs": [],
   "source": [
    "include(\"./ScalarField.jl\");"
   ]
  },
  {
   "cell_type": "code",
   "execution_count": 178,
   "id": "d153473f",
   "metadata": {
    "execution": {
     "iopub.execute_input": "2023-03-01T09:49:53.129000Z",
     "iopub.status.busy": "2023-03-01T09:49:53.129000Z",
     "iopub.status.idle": "2023-03-01T09:49:55.021000Z",
     "shell.execute_reply": "2023-03-01T09:49:55.021000Z"
    },
    "papermill": {
     "duration": null,
     "end_time": null,
     "exception": null,
     "start_time": null,
     "status": "completed"
    },
    "tags": []
   },
   "outputs": [],
   "source": [
    "using Interpolations"
   ]
  },
  {
   "cell_type": "markdown",
   "id": "80ab1480",
   "metadata": {
    "papermill": {
     "duration": null,
     "end_time": null,
     "exception": null,
     "start_time": null,
     "status": "completed"
    },
    "tags": []
   },
   "source": [
    "# Initial data of m β Ψ and Ψ,x"
   ]
  },
  {
   "cell_type": "code",
   "execution_count": 179,
   "id": "d0af654c",
   "metadata": {
    "execution": {
     "iopub.execute_input": "2023-03-01T09:49:55.270000Z",
     "iopub.status.busy": "2023-03-01T09:49:55.065000Z",
     "iopub.status.idle": "2023-03-01T09:50:01.597000Z",
     "shell.execute_reply": "2023-03-01T09:50:01.597000Z"
    },
    "papermill": {
     "duration": null,
     "end_time": null,
     "exception": null,
     "start_time": null,
     "status": "completed"
    },
    "tags": []
   },
   "outputs": [
    {
     "data": {
      "text/plain": [
       "1×2 Matrix{Function}:\n",
       " psi_func  derpsi_func"
      ]
     },
     "execution_count": 179,
     "metadata": {},
     "output_type": "execute_result"
    }
   ],
   "source": [
    "using PyCall   \n",
    "\n",
    "\n",
    "scipy = pyimport(\"scipy\")\n",
    "scipyinterpolate = pyimport(\"scipy.interpolate\")\n",
    "\n",
    "\n",
    "####\n",
    "\n",
    "initm=zeros(L);\n",
    "initbeta=zeros(L);\n",
    "initpsi=zeros(L);\n",
    "initderpsi=zeros(L);\n",
    "\n",
    "state_array=[initm initbeta initpsi initderpsi initX];\n",
    "\n",
    "#PSI\n",
    "r0=0.7#0.3\n",
    "sigma=0.3\n",
    "initpsi[4:L-3] = init_gaussian(initX1,r0,sigma,A)\n",
    "\n",
    "state_array[:,3] = initpsi\n",
    "state_array = ghost(state_array)\n",
    "\n",
    "#PSI,X FROM PSI\n",
    "for i in 4:L-3\n",
    "    initderpsi[i]=Der(state_array[:,:],i,3,initX)\n",
    "end\n",
    "\n",
    "state_array[:,4] = initderpsi\n",
    "state_array = ghost(state_array)\n",
    "\n",
    "####\n",
    "\n",
    "spl_psi = scipyinterpolate.splrep(initX[4:L-3], state_array[4:L-3,3],k=4)\n",
    "psi_func(x) = scipyinterpolate.splev(x, spl_psi)\n",
    "\n",
    "spl_derpsi = scipyinterpolate.splrep(initX[4:L-3], initderpsi[4:L-3],k=4)\n",
    "derpsi_func(x) = scipyinterpolate.splev(x, spl_derpsi)\n",
    "\n",
    "funcs = [psi_func derpsi_func]"
   ]
  },
  {
   "cell_type": "code",
   "execution_count": 180,
   "id": "384597fa",
   "metadata": {
    "execution": {
     "iopub.execute_input": "2023-03-01T09:50:37.023000Z",
     "iopub.status.busy": "2023-03-01T09:50:36.468000Z",
     "iopub.status.idle": "2023-03-01T09:50:43.960000Z",
     "shell.execute_reply": "2023-03-01T09:50:43.960000Z"
    },
    "papermill": {
     "duration": null,
     "end_time": null,
     "exception": null,
     "start_time": null,
     "status": "completed"
    },
    "tags": []
   },
   "outputs": [],
   "source": [
    "#BETA\n",
    "beta0=0\n",
    "initbeta[4:L-3]=rk4wrapper(SFconstraint_beta,beta0,initX1,0,funcs)\n",
    "state_array[:,2]=initbeta;\n",
    "state_array=ghost(state_array);\n",
    "\n",
    "\n",
    "#M\n",
    "m0=0\n",
    "initm[4:L-3]=rk4wrapper(SFconstraint_beta,m0,initX1,0,funcs)#here!!!!!!!!!!!\n",
    "state_array[:,1]=initm;\n",
    "state_array=ghost(state_array);"
   ]
  },
  {
   "cell_type": "code",
   "execution_count": 181,
   "id": "48c5b6e3",
   "metadata": {
    "execution": {
     "iopub.execute_input": "2023-03-01T09:50:44.483000Z",
     "iopub.status.busy": "2023-03-01T09:50:44.483000Z",
     "iopub.status.idle": "2023-03-01T09:50:44.665000Z",
     "shell.execute_reply": "2023-03-01T09:50:44.665000Z"
    },
    "papermill": {
     "duration": null,
     "end_time": null,
     "exception": null,
     "start_time": null,
     "status": "completed"
    },
    "scrolled": true,
    "tags": []
   },
   "outputs": [
    {
     "data": {
      "text/plain": [
       "\"using Plots #showing initial data and the initial status of the horizon finder\\nplot(initX, state_array[:,1:4], xaxis=\\\"x\\\",title=\\\"Initial Data\\\", labels=[\\\"m\\\" \\\"beta\\\" \\\"psi\\\" \\\"psi,x\\\"])#, xlim=[0.4, 1])\""
      ]
     },
     "execution_count": 181,
     "metadata": {},
     "output_type": "execute_result"
    }
   ],
   "source": [
    "\"\"\"using Plots #showing initial data and the initial status of the horizon finder\n",
    "plot(initX, state_array[:,1:4], xaxis=\"x\",title=\"Initial Data\", labels=[\"m\" \"beta\" \"psi\" \"psi,x\"])#, xlim=[0.4, 1])\"\"\""
   ]
  },
  {
   "cell_type": "markdown",
   "id": "9b444ece",
   "metadata": {
    "papermill": {
     "duration": null,
     "end_time": null,
     "exception": null,
     "start_time": null,
     "status": "completed"
    },
    "tags": []
   },
   "source": [
    "# Defining the initial state array for the evolution m β Ψ and Ψ,x"
   ]
  },
  {
   "cell_type": "code",
   "execution_count": 182,
   "id": "9902ffab",
   "metadata": {
    "execution": {
     "iopub.execute_input": "2023-03-01T09:50:44.779000Z",
     "iopub.status.busy": "2023-03-01T09:50:44.779000Z",
     "iopub.status.idle": "2023-03-01T09:50:53.694000Z",
     "shell.execute_reply": "2023-03-01T09:50:53.694000Z"
    },
    "papermill": {
     "duration": null,
     "end_time": null,
     "exception": null,
     "start_time": null,
     "status": "completed"
    },
    "tags": []
   },
   "outputs": [
    {
     "data": {
      "text/plain": [
       "\"/home/rita13santos/Desktop/MSc Thesis/Git/ScalarField/DATA/res3/time_step0.csv\""
      ]
     },
     "execution_count": 182,
     "metadata": {},
     "output_type": "execute_result"
    }
   ],
   "source": [
    "using CSV, Tables\n",
    "#CSV.write(dir*\"/time_step0.csv\", Tables.table(transpose(Matrix(state_array))), writeheader=false)\n",
    "CSV.write(dir*\"/time_step0.csv\", Tables.table(state_array), writeheader=false)"
   ]
  },
  {
   "cell_type": "code",
   "execution_count": 183,
   "id": "fff1426a",
   "metadata": {},
   "outputs": [
    {
     "data": {
      "text/plain": [
       "\"/home/rita13santos/Desktop/MSc Thesis/Git/ScalarField/DATA/parameters.csv\""
      ]
     },
     "execution_count": 183,
     "metadata": {},
     "output_type": "execute_result"
    }
   ],
   "source": [
    "k=0\n",
    "criticality=false\n",
    "critical_stop=0\n",
    "evol_stats = [criticality A sigma r0 k]\n",
    "monitor_ratio = zeros(L)\n",
    "CSV.write(\"/home/rita13santos/Desktop/MSc Thesis/Git/ScalarField/DATA/parameters.csv\", Tables.table(evol_stats), writeheader=true)"
   ]
  },
  {
   "cell_type": "markdown",
   "id": "42e2c73d",
   "metadata": {
    "papermill": {
     "duration": null,
     "end_time": null,
     "exception": null,
     "start_time": null,
     "status": "completed"
    },
    "tags": []
   },
   "source": [
    " ## Time evolution"
   ]
  },
  {
   "cell_type": "markdown",
   "id": "7da47594",
   "metadata": {
    "papermill": {
     "duration": null,
     "end_time": null,
     "exception": null,
     "start_time": null,
     "status": "completed"
    },
    "tags": []
   },
   "source": [
    "fixed grid"
   ]
  },
  {
   "cell_type": "code",
   "execution_count": 184,
   "id": "01bca6ee",
   "metadata": {
    "execution": {
     "iopub.execute_input": "2023-03-01T09:50:54.690000Z",
     "iopub.status.busy": "2023-03-01T09:50:53.766000Z",
     "iopub.status.idle": "2023-03-01T09:51:14.077000Z",
     "shell.execute_reply": "2023-03-01T09:51:14.076000Z"
    },
    "papermill": {
     "duration": null,
     "end_time": null,
     "exception": null,
     "start_time": null,
     "status": "completed"
    },
    "tags": []
   },
   "outputs": [
    {
     "name": "stderr",
     "output_type": "stream",
     "text": [
      "\u001b[32mProgress: 100%|█████████████████████████████████████████| Time: 0:01:22\u001b[39m\n"
     ]
    },
    {
     "data": {
      "text/plain": [
       "\"/home/rita13santos/Desktop/MSc Thesis/Git/ScalarField/DATA/parameters.csv\""
      ]
     },
     "execution_count": 184,
     "metadata": {},
     "output_type": "execute_result"
    }
   ],
   "source": [
    "using Interpolations\n",
    "using ProgressMeter\n",
    "@showprogress for k in 1:20#length(T)\n",
    "    \n",
    "    if isnan(state_array[L-3,4])\n",
    "        print(\"boom\")\n",
    "        break\n",
    "    end\n",
    "    \n",
    "    \n",
    "    X=state_array[:,5]\n",
    "    X1=X[4:L-3]\n",
    "    \n",
    "    #update ghost points\n",
    "    #state_array=boundarySF(state_array,X)\n",
    "   \n",
    "    #evolve psi,x\n",
    "    state_array[:,1:4] = rungekutta4molstep(SF_RHS,state_array[:,1:4],T,k,0,derpsi_func,X) #evolve psi,x\n",
    "    state_array=ghost(state_array)\n",
    "\n",
    "    #global aux=SF_RHS(state_array[:,:], 0,0,X)\n",
    "    \n",
    "    #calculate psi from psi,x\n",
    "    spl_derpsi = scipyinterpolate.splrep(initX[4:L-3], state_array[4:L-3,4],k=5)\n",
    "    SFconstraint_psi(psi0,x) = scipyinterpolate.splev(x, spl_derpsi)\n",
    "    psi0=0\n",
    "    state_array[4:L-3,3] = rungekutta4(SFconstraint_psi,psi0,initX1)\n",
    "    state_array=ghost(state_array);\n",
    "\n",
    "    spl_psi = scipyinterpolate.splrep(initX[4:L-3], state_array[4:L-3,3],k=4)\n",
    "    psi_func(x) = scipyinterpolate.splev(x, spl_psi)\n",
    "\n",
    "    funcs = [psi_func derpsi_func]\n",
    "    #psi_double_data = rungekutta4(SFconstraint_psi,psi0,doublegrid(X1))\n",
    "    \n",
    "    #evolve beta\n",
    "    beta0=0\n",
    "    state_array[4:L-3,2]=rk4wrapper(SFconstraint_beta,beta0,X1,0,funcs)\n",
    "    state_array=ghost(state_array)\n",
    "    \n",
    "    #evolve m\n",
    "    m0=0\n",
    "    state_array[4:L-3,1]=rk4wrapper(SFconstraint_beta,m0,X1,0,funcs)#here\n",
    "    state_array=ghost(state_array)\n",
    "    \n",
    "    #CSV.write(dir*\"/time_step$k.csv\", Tables.table(transpose(Matrix(state_array))), writeheader=false)\n",
    "    CSV.write(dir*\"/time_step$k.csv\", Tables.table(state_array), writeheader=false)\n",
    "    \n",
    "    \n",
    "    #threshold for apparent black hole formation\n",
    "    monitor_ratio = zeros(L)\n",
    "    for i in 1:L\n",
    "        monitor_ratio[i] = 2*state_array[i,1]/initX[i]*(1-initX[i])\n",
    "        if monitor_ratio[i]>0.6\n",
    "            global criticality = true\n",
    "            println(\"Supercritical evolution!\")\n",
    "            println(\"i = \", i, \" k = \", k, \" monitor ratio = \", monitor_ratio[i])\n",
    "            global critical_stop += 1\n",
    "        end\n",
    "    end\n",
    "    \n",
    "    if critical_stop >=15\n",
    "        print(\"Found apparent horizon formation\")\n",
    "        break\n",
    "    end\n",
    "end\n",
    "\n",
    "evol_stats = [criticality A sigma r0 k]\n",
    "\n",
    "CSV.write(\"/home/rita13santos/Desktop/MSc Thesis/Git/ScalarField/DATA/parameters.csv\", Tables.table(evol_stats), writeheader=true)\n",
    "\n",
    "CSV.write(\"/home/rita13santos/Desktop/MSc Thesis/Git/ScalarField/DATA/parameters.csv\", Tables.table(transpose(Array(monitor_ratio))), delim = ';', writeheader=false, append=true)"
   ]
  },
  {
   "cell_type": "code",
   "execution_count": null,
   "id": "8afd4530",
   "metadata": {},
   "outputs": [],
   "source": []
  },
  {
   "cell_type": "code",
   "execution_count": null,
   "id": "81449fe0",
   "metadata": {
    "papermill": {
     "duration": null,
     "end_time": null,
     "exception": null,
     "start_time": null,
     "status": "completed"
    },
    "tags": []
   },
   "outputs": [],
   "source": []
  },
  {
   "cell_type": "code",
   "execution_count": null,
   "id": "80cf89bb",
   "metadata": {
    "papermill": {
     "duration": null,
     "end_time": null,
     "exception": null,
     "start_time": null,
     "status": "completed"
    },
    "tags": []
   },
   "outputs": [],
   "source": []
  },
  {
   "cell_type": "code",
   "execution_count": null,
   "id": "1cc0c92b",
   "metadata": {
    "papermill": {
     "duration": null,
     "end_time": null,
     "exception": null,
     "start_time": null,
     "status": "completed"
    },
    "tags": []
   },
   "outputs": [],
   "source": []
  },
  {
   "cell_type": "code",
   "execution_count": null,
   "id": "de5eb3f7",
   "metadata": {
    "papermill": {
     "duration": null,
     "end_time": null,
     "exception": null,
     "start_time": null,
     "status": "completed"
    },
    "tags": []
   },
   "outputs": [],
   "source": []
  },
  {
   "cell_type": "code",
   "execution_count": null,
   "id": "8d7b67e3",
   "metadata": {
    "papermill": {
     "duration": null,
     "end_time": null,
     "exception": null,
     "start_time": null,
     "status": "completed"
    },
    "tags": []
   },
   "outputs": [],
   "source": [
    "using Plots #showing initial data and the initial status of the horizon finder\n",
    "scatter(initX, ghost(aux).- ghost(initm), xaxis=\"x\",title=\"Initial Data\")"
   ]
  },
  {
   "cell_type": "code",
   "execution_count": null,
   "id": "23cfe171",
   "metadata": {
    "papermill": {
     "duration": null,
     "end_time": null,
     "exception": null,
     "start_time": null,
     "status": "completed"
    },
    "tags": []
   },
   "outputs": [],
   "source": [
    "println(ghost(aux)[500])\n",
    "println(ghost(initm)[500])"
   ]
  },
  {
   "cell_type": "code",
   "execution_count": null,
   "id": "03b9cc81",
   "metadata": {
    "papermill": {
     "duration": null,
     "end_time": null,
     "exception": null,
     "start_time": null,
     "status": "completed"
    },
    "tags": []
   },
   "outputs": [],
   "source": [
    "state_array[:,1] .- ghost(initm)"
   ]
  },
  {
   "cell_type": "code",
   "execution_count": null,
   "id": "7a4bad88",
   "metadata": {
    "papermill": {
     "duration": null,
     "end_time": null,
     "exception": null,
     "start_time": null,
     "status": "completed"
    },
    "tags": []
   },
   "outputs": [],
   "source": []
  },
  {
   "cell_type": "code",
   "execution_count": null,
   "id": "a07fd3d2",
   "metadata": {
    "papermill": {
     "duration": null,
     "end_time": null,
     "exception": null,
     "start_time": null,
     "status": "completed"
    },
    "tags": []
   },
   "outputs": [],
   "source": []
  },
  {
   "cell_type": "code",
   "execution_count": null,
   "id": "05c92c91",
   "metadata": {
    "papermill": {
     "duration": null,
     "end_time": null,
     "exception": null,
     "start_time": null,
     "status": "completed"
    },
    "tags": []
   },
   "outputs": [],
   "source": []
  },
  {
   "cell_type": "code",
   "execution_count": null,
   "id": "b901768f",
   "metadata": {
    "papermill": {
     "duration": null,
     "end_time": null,
     "exception": null,
     "start_time": null,
     "status": "completed"
    },
    "tags": []
   },
   "outputs": [],
   "source": []
  },
  {
   "cell_type": "code",
   "execution_count": null,
   "id": "796a3422",
   "metadata": {
    "papermill": {
     "duration": null,
     "end_time": null,
     "exception": null,
     "start_time": null,
     "status": "completed"
    },
    "tags": []
   },
   "outputs": [],
   "source": [
    "(aux[:,3] .- ghost(initpsi))[L]"
   ]
  },
  {
   "cell_type": "markdown",
   "id": "14770155",
   "metadata": {
    "papermill": {
     "duration": null,
     "end_time": null,
     "exception": null,
     "start_time": null,
     "status": "completed"
    },
    "tags": []
   },
   "source": [
    "## Movie of the evolution"
   ]
  },
  {
   "cell_type": "code",
   "execution_count": null,
   "id": "f3ee0b86",
   "metadata": {
    "execution": {
     "iopub.execute_input": "2023-03-01T09:51:14.266000Z",
     "iopub.status.busy": "2023-03-01T09:51:14.266000Z"
    },
    "papermill": {
     "duration": null,
     "end_time": null,
     "exception": null,
     "start_time": null,
     "status": "completed"
    },
    "tags": []
   },
   "outputs": [],
   "source": [
    "using Plots, CSV, DataFrames\n",
    "import GR\n",
    "anim = @animate for n in 1:1:974#00:2:length(T)-1\n",
    "    time_step=T[n+1]-T[n];\n",
    "    IJulia.clear_output(true)\n",
    "    functions3=DataFrame(CSV.File(dir*\"/time_step$n.csv\",header=false, delim=\",\"))\n",
    "    plot()\n",
    "        plot1=functions3.Column1[4:L-3];\n",
    "        plot2=functions3.Column2[4:L-3];\n",
    "        plot3=functions3.Column3[4:L-3];\n",
    "        plot4=functions3.Column4[4:L-3];\n",
    "    d=round(T[n],digits=1)\n",
    "    plot!(initX[4:L-3], [plot1 plot2 plot3 plot4], labels=[\"m\" \"beta\" \"psi\" \"psi,x\"])#, xlim=[0.9 1]) |> display \n",
    "    \n",
    "    end\n",
    "\n",
    "gif(anim, \"anim_res$res.gif\", fps = 15)"
   ]
  },
  {
   "cell_type": "code",
   "execution_count": null,
   "id": "aab227cd",
   "metadata": {
    "papermill": {
     "duration": null,
     "end_time": null,
     "exception": null,
     "start_time": null,
     "status": "completed"
    },
    "tags": []
   },
   "outputs": [],
   "source": []
  },
  {
   "cell_type": "code",
   "execution_count": null,
   "id": "2d6f7925",
   "metadata": {
    "papermill": {
     "duration": null,
     "end_time": null,
     "exception": null,
     "start_time": null,
     "status": "completed"
    },
    "tags": []
   },
   "outputs": [],
   "source": []
  },
  {
   "cell_type": "code",
   "execution_count": null,
   "id": "1e5cda18",
   "metadata": {
    "papermill": {
     "duration": null,
     "end_time": null,
     "exception": null,
     "start_time": null,
     "status": "completed"
    },
    "tags": []
   },
   "outputs": [],
   "source": []
  },
  {
   "cell_type": "code",
   "execution_count": null,
   "id": "bb273c13",
   "metadata": {
    "papermill": {
     "duration": null,
     "end_time": null,
     "exception": null,
     "start_time": null,
     "status": "completed"
    },
    "tags": []
   },
   "outputs": [],
   "source": []
  },
  {
   "cell_type": "code",
   "execution_count": null,
   "id": "8af976db",
   "metadata": {
    "papermill": {
     "duration": null,
     "end_time": null,
     "exception": null,
     "start_time": null,
     "status": "completed"
    },
    "tags": []
   },
   "outputs": [],
   "source": []
  },
  {
   "cell_type": "code",
   "execution_count": null,
   "id": "70499025",
   "metadata": {
    "papermill": {
     "duration": null,
     "end_time": null,
     "exception": null,
     "start_time": null,
     "status": "completed"
    },
    "tags": []
   },
   "outputs": [],
   "source": []
  },
  {
   "cell_type": "code",
   "execution_count": null,
   "id": "db049318",
   "metadata": {
    "papermill": {
     "duration": null,
     "end_time": null,
     "exception": null,
     "start_time": null,
     "status": "completed"
    },
    "tags": []
   },
   "outputs": [],
   "source": []
  },
  {
   "cell_type": "code",
   "execution_count": null,
   "id": "606071f3",
   "metadata": {
    "papermill": {
     "duration": null,
     "end_time": null,
     "exception": null,
     "start_time": null,
     "status": "completed"
    },
    "tags": []
   },
   "outputs": [],
   "source": []
  },
  {
   "cell_type": "code",
   "execution_count": null,
   "id": "a79386f8",
   "metadata": {
    "papermill": {
     "duration": null,
     "end_time": null,
     "exception": null,
     "start_time": null,
     "status": "completed"
    },
    "tags": []
   },
   "outputs": [],
   "source": []
  },
  {
   "cell_type": "code",
   "execution_count": null,
   "id": "6b59436c",
   "metadata": {
    "papermill": {
     "duration": null,
     "end_time": null,
     "exception": null,
     "start_time": null,
     "status": "completed"
    },
    "tags": []
   },
   "outputs": [],
   "source": []
  },
  {
   "cell_type": "markdown",
   "id": "5d3d3f14",
   "metadata": {
    "papermill": {
     "duration": null,
     "end_time": null,
     "exception": null,
     "start_time": null,
     "status": "completed"
    },
    "tags": []
   },
   "source": [
    "changing grid"
   ]
  },
  {
   "cell_type": "code",
   "execution_count": null,
   "id": "2fb97908",
   "metadata": {
    "papermill": {
     "duration": null,
     "end_time": null,
     "exception": null,
     "start_time": null,
     "status": "completed"
    },
    "tags": []
   },
   "outputs": [],
   "source": [
    "\"using Interpolations\n",
    "using ProgressMeter\n",
    "@showprogress for k in 1:length(T)\n",
    "\n",
    "    #evolve grid\n",
    "    X=update_grid(state_array,dx,T,k,spl_funcs)\n",
    "    state_array[:,5]=X\n",
    "    L=length(X)\n",
    "    X1=X[4:L-3]\n",
    "    \n",
    "    #evolve psi,x\n",
    "    state_array=rungekutta4molstep(SF_RHS,state_array,T,k,0,spl_funcs) #evolve psi,x\n",
    "    state_array=ghost(state_array,X)\n",
    "    \n",
    "    X=state_array[:,5]\n",
    "    X1=X[4:L-3]\n",
    "    \n",
    "    spl_derpsi = scipyinterpolate.splrep(X[4:L-3], state_array[4:L-3,4],k=4)\n",
    "    derpsi_func(x) = scipyinterpolate.splev(x, spl_derpsi)\n",
    "    spl_funcs[4] = derpsi_func\n",
    "    \n",
    "    #calculate psi form psi,x\n",
    "    psi0=0\n",
    "    SFconstraint_psi(psi0,x) = derpsi_func(x)\n",
    "    state_array[4:L-3,3] = rungekutta4(SFconstraint_psi,psi0,X1)\n",
    "    state_array=ghost(state_array,X);\n",
    "    \n",
    "    spl_psi = scipyinterpolate.splrep(X[4:L-3], state_array[4:L-3,3],k=4)\n",
    "    psi_func(x) = scipyinterpolate.splev(x, spl_psi)\n",
    "    spl_funcs[3] = psi_func\n",
    "    \n",
    "    #evolve beta\n",
    "    beta0=0\n",
    "    state_array[4:L-3,2]=rk4wrapper(SFconstraint_beta,beta0,X1,T,spl_funcs)\n",
    "    state_array=ghost(state_array,X)\n",
    "    \n",
    "    spl_beta = scipyinterpolate.splrep(X[4:L-3], state_array[4:L-3,2],k=4)\n",
    "    beta_func(x) = scipyinterpolate.splev(x, spl_beta)\n",
    "    spl_funcs[2] = beta_func\n",
    "    \n",
    "    #evolve m\n",
    "    m0=0\n",
    "    state_array[4:L-3,1]=m_rk4wrapper(SFconstraint_m,m0,X1,T,spl_funcs)\n",
    "    state_array=ghost(state_array,X)\n",
    "    \n",
    "    spl_m = scipyinterpolate.splrep(X[4:L-3], state_array[4:L-3,1],k=4)\n",
    "    m_func(x) = scipyinterpolate.splev(x, spl_m)\n",
    "    spl_funcs[1] = m_func\n",
    "    \n",
    "    CSV.write(dir*\"/time_step$k.csv\", Tables.table(state_array), writeheader=false)\n",
    "end\""
   ]
  },
  {
   "cell_type": "code",
   "execution_count": null,
   "id": "ad80ad55",
   "metadata": {
    "execution": {
     "iopub.execute_input": "2023-03-01T09:51:14.139000Z",
     "iopub.status.busy": "2023-03-01T09:51:14.139000Z",
     "iopub.status.idle": "2023-03-01T09:51:14.151000Z",
     "shell.execute_reply": "2023-03-01T09:51:14.151000Z"
    },
    "papermill": {
     "duration": null,
     "end_time": null,
     "exception": null,
     "start_time": null,
     "status": "completed"
    },
    "tags": []
   },
   "outputs": [],
   "source": [
    "print(dir)"
   ]
  },
  {
   "cell_type": "code",
   "execution_count": null,
   "id": "951c8482",
   "metadata": {
    "execution": {
     "iopub.execute_input": "2023-03-01T09:50:44.056000Z",
     "iopub.status.busy": "2023-03-01T09:50:44.056000Z",
     "iopub.status.idle": "2023-03-01T09:50:44.450000Z",
     "shell.execute_reply": "2023-03-01T09:50:44.450000Z"
    },
    "papermill": {
     "duration": null,
     "end_time": null,
     "exception": null,
     "start_time": null,
     "status": "completed"
    },
    "tags": []
   },
   "outputs": [],
   "source": []
  },
  {
   "cell_type": "code",
   "execution_count": null,
   "id": "9ff604d3",
   "metadata": {
    "papermill": {
     "duration": null,
     "end_time": null,
     "exception": null,
     "start_time": null,
     "status": "completed"
    },
    "tags": []
   },
   "outputs": [],
   "source": [
    "\"\"\"#monitor_ratio = 1-v/rexp(-2beta)\n",
    "monitor_ratio = zeros(L)\n",
    "for i in 1:L\n",
    "    monitor_ratio[i] = 2*state_array[i,1]/initX[i]*(1-initX[i])\n",
    "    if monitor_ratio[i]>0.6\n",
    "        print(monitor_ratio[i])\n",
    "    end\n",
    "end\"\"\""
   ]
  },
  {
   "cell_type": "code",
   "execution_count": null,
   "id": "71a685b9",
   "metadata": {
    "papermill": {
     "duration": null,
     "end_time": null,
     "exception": null,
     "start_time": null,
     "status": "completed"
    },
    "tags": []
   },
   "outputs": [],
   "source": []
  }
 ],
 "metadata": {
  "@webio": {
   "lastCommId": null,
   "lastKernelId": null
  },
  "kernelspec": {
   "display_name": "Julia 1.8.0",
   "language": "julia",
   "name": "julia-1.8"
  },
  "language_info": {
   "file_extension": ".jl",
   "mimetype": "application/julia",
   "name": "julia",
   "version": "1.8.0"
  },
  "papermill": {
   "default_parameters": {},
   "duration": 0.964144,
   "end_time": "2023-03-10T15:49:43.780135",
   "environment_variables": {},
   "exception": null,
   "input_path": "Evolution_ScalarField.ipynb",
   "output_path": "Evolution_ScalarField.ipynb",
   "parameters": {
    "m": 3
   },
   "start_time": "2023-03-10T15:49:42.815991",
   "version": "2.4.0"
  }
 },
 "nbformat": 4,
 "nbformat_minor": 5
}
