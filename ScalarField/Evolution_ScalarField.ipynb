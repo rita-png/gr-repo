{
 "cells": [
  {
   "cell_type": "markdown",
   "id": "d88601a8",
   "metadata": {
    "papermill": {
     "duration": 0.010813,
     "end_time": "2023-03-28T18:06:09.878411",
     "exception": false,
     "start_time": "2023-03-28T18:06:09.867598",
     "status": "completed"
    },
    "tags": []
   },
   "source": [
    "# Evolution of Einstein's equations"
   ]
  },
  {
   "cell_type": "markdown",
   "id": "03c607c7",
   "metadata": {
    "papermill": {
     "duration": 0.006777,
     "end_time": "2023-03-28T18:06:09.893152",
     "exception": false,
     "start_time": "2023-03-28T18:06:09.886375",
     "status": "completed"
    },
    "tags": []
   },
   "source": [
    "# Initial data , setting length of the domain and discretization\n"
   ]
  },
  {
   "cell_type": "markdown",
   "id": "43aebde7",
   "metadata": {
    "execution": {
     "iopub.execute_input": "2023-03-28T19:06:10.907000Z",
     "iopub.status.busy": "2023-03-28T19:06:09.907000Z",
     "iopub.status.idle": "2023-03-28T19:06:12.147000Z",
     "shell.execute_reply": "2023-03-28T19:06:12.110000Z"
    },
    "papermill": {
     "duration": 2.251282,
     "end_time": "2023-03-28T18:06:12.151193",
     "exception": false,
     "start_time": "2023-03-28T18:06:09.899911",
     "status": "completed"
    },
    "tags": [
     "injected-parameters"
    ]
   },
   "source": [
    "# Parameters"
   ]
  },
  {
   "cell_type": "code",
   "execution_count": 110,
   "id": "28f9b745",
   "metadata": {},
   "outputs": [
    {
     "data": {
      "text/plain": [
       "1"
      ]
     },
     "execution_count": 110,
     "metadata": {},
     "output_type": "execute_result"
    }
   ],
   "source": [
    "m = 1\n",
    "A = 0.001#0.049375#0.07#0.05#0.1124921875#0.125\n",
    "run = 1"
   ]
  },
  {
   "cell_type": "code",
   "execution_count": 111,
   "id": "80a113e0",
   "metadata": {},
   "outputs": [
    {
     "name": "stdout",
     "output_type": "stream",
     "text": [
      "1.0"
     ]
    }
   ],
   "source": [
    "res=m;\n",
    "N=2.0^m*200.0/2.0\n",
    "Xf=1.0;\n",
    "\n",
    "dx=Xf/N;\n",
    "dt=round(dx,digits=10);\n",
    "Nt=2.0^m*200.0/2.0\n",
    "Tf=Nt*dt; #final time\n",
    "print(Tf)"
   ]
  },
  {
   "cell_type": "code",
   "execution_count": 112,
   "id": "4f752d54",
   "metadata": {
    "execution": {
     "iopub.execute_input": "2023-03-28T19:06:12.356000Z",
     "iopub.status.busy": "2023-03-28T19:06:12.356000Z",
     "iopub.status.idle": "2023-03-28T19:06:12.364000Z",
     "shell.execute_reply": "2023-03-28T19:06:12.364000Z"
    },
    "papermill": {
     "duration": 0.020815,
     "end_time": "2023-03-28T18:06:12.368761",
     "exception": false,
     "start_time": "2023-03-28T18:06:12.347946",
     "status": "completed"
    },
    "tags": []
   },
   "outputs": [
    {
     "name": "stdout",
     "output_type": "stream",
     "text": [
      "200.0"
     ]
    }
   ],
   "source": [
    "print(N)"
   ]
  },
  {
   "cell_type": "code",
   "execution_count": 113,
   "id": "ad48576a",
   "metadata": {
    "execution": {
     "iopub.execute_input": "2023-03-28T19:06:12.386000Z",
     "iopub.status.busy": "2023-03-28T19:06:12.385000Z",
     "iopub.status.idle": "2023-03-28T19:06:12.398000Z",
     "shell.execute_reply": "2023-03-28T19:06:12.398000Z"
    },
    "papermill": {
     "duration": 0.024143,
     "end_time": "2023-03-28T18:06:12.402660",
     "exception": false,
     "start_time": "2023-03-28T18:06:12.378517",
     "status": "completed"
    },
    "tags": []
   },
   "outputs": [
    {
     "name": "stdout",
     "output_type": "stream",
     "text": [
      "dx =0.005\n",
      "dt =0.005\n",
      "dx/dt =1.0\n"
     ]
    }
   ],
   "source": [
    "println(\"dx =\", dx)\n",
    "println(\"dt =\", dt)\n",
    "println(\"dx/dt =\", dx/dt)"
   ]
  },
  {
   "cell_type": "code",
   "execution_count": 114,
   "id": "78fb78a5",
   "metadata": {
    "execution": {
     "iopub.execute_input": "2023-03-28T19:06:12.419000Z",
     "iopub.status.busy": "2023-03-28T19:06:12.419000Z",
     "iopub.status.idle": "2023-03-28T19:06:13.308000Z",
     "shell.execute_reply": "2023-03-28T19:06:13.308000Z"
    },
    "papermill": {
     "duration": 0.90283,
     "end_time": "2023-03-28T18:06:13.314381",
     "exception": false,
     "start_time": "2023-03-28T18:06:12.411551",
     "status": "completed"
    },
    "tags": []
   },
   "outputs": [
    {
     "data": {
      "text/plain": [
       "\"/home/rita13santos/Desktop/MSc Thesis/Git/ScalarField/DATA\""
      ]
     },
     "execution_count": 114,
     "metadata": {},
     "output_type": "execute_result"
    }
   ],
   "source": [
    "global dir = \"/home/rita13santos/Desktop/MSc Thesis/Git/ScalarField/DATA\"\n",
    "#global dir = \"/home/rita13santos/Desktop/MSc Thesis/Git/ScalarField/DATA\""
   ]
  },
  {
   "cell_type": "markdown",
   "id": "e2dd4335",
   "metadata": {
    "papermill": {
     "duration": 0.007006,
     "end_time": "2023-03-28T18:06:13.351329",
     "exception": false,
     "start_time": "2023-03-28T18:06:13.344323",
     "status": "completed"
    },
    "tags": []
   },
   "source": [
    "# Grid"
   ]
  },
  {
   "cell_type": "code",
   "execution_count": 115,
   "id": "bc5288f8",
   "metadata": {
    "execution": {
     "iopub.execute_input": "2023-03-28T19:06:13.636000Z",
     "iopub.status.busy": "2023-03-28T19:06:13.636000Z",
     "iopub.status.idle": "2023-03-28T19:06:14.762000Z",
     "shell.execute_reply": "2023-03-28T19:06:14.762000Z"
    },
    "papermill": {
     "duration": 1.137394,
     "end_time": "2023-03-28T18:06:14.765909",
     "exception": false,
     "start_time": "2023-03-28T18:06:13.628515",
     "status": "completed"
    },
    "tags": []
   },
   "outputs": [],
   "source": [
    "include(\"./ScalarField.jl\");"
   ]
  },
  {
   "cell_type": "code",
   "execution_count": 116,
   "id": "de24fea3",
   "metadata": {
    "execution": {
     "iopub.execute_input": "2023-03-28T19:06:13.366000Z",
     "iopub.status.busy": "2023-03-28T19:06:13.366000Z",
     "iopub.status.idle": "2023-03-28T19:06:13.571000Z",
     "shell.execute_reply": "2023-03-28T19:06:13.571000Z"
    },
    "papermill": {
     "duration": 0.216104,
     "end_time": "2023-03-28T18:06:13.574666",
     "exception": false,
     "start_time": "2023-03-28T18:06:13.358562",
     "status": "completed"
    },
    "tags": []
   },
   "outputs": [
    {
     "name": "stdout",
     "output_type": "stream",
     "text": [
      "step size is  0.005\n",
      "the time step is 0.005\n"
     ]
    }
   ],
   "source": [
    "ori=0.0;\n",
    "initX1 = nothing\n",
    "N=int(N)\n",
    "initX1=range(ori, stop=Xf, step=dx);\n",
    "\n",
    "initX = range(round(ori-3.0*dx,digits=10), stop=Xf+3.0*dx, step=dx)\n",
    "\n",
    "L=length(initX);\n",
    "println(\"step size is  \", dx)\n",
    "println(\"the time step is \", dt)"
   ]
  },
  {
   "cell_type": "code",
   "execution_count": 117,
   "id": "f4c71bab",
   "metadata": {},
   "outputs": [
    {
     "data": {
      "text/plain": [
       "\"if m==1\\n    initX1=chebyshev(int((L-6)))\\n    L1=L;\\nelseif m==2\\n    initX1=doublegrid(chebyshev(int((L1-6))))\\nelse\\n    initX1=doublegrid(doublegrid(chebyshev(int((L1-6)))))\\nend\\ninitX=collect(initX)\\ninitX[4:L-3]=initX1;\""
      ]
     },
     "execution_count": 117,
     "metadata": {},
     "output_type": "execute_result"
    }
   ],
   "source": [
    "\"\"\"if m==1\n",
    "    initX1=chebyshev(int((L-6)))\n",
    "    L1=L;\n",
    "elseif m==2\n",
    "    initX1=doublegrid(chebyshev(int((L1-6))))\n",
    "else\n",
    "    initX1=doublegrid(doublegrid(chebyshev(int((L1-6)))))\n",
    "end\n",
    "initX=collect(initX)\n",
    "initX[4:L-3]=initX1;\"\"\""
   ]
  },
  {
   "cell_type": "markdown",
   "id": "80ab1480",
   "metadata": {
    "papermill": {
     "duration": 0.007525,
     "end_time": "2023-03-28T18:06:14.783937",
     "exception": false,
     "start_time": "2023-03-28T18:06:14.776412",
     "status": "completed"
    },
    "tags": []
   },
   "source": [
    "# Initial data of m β Ψ and Ψ,x"
   ]
  },
  {
   "cell_type": "code",
   "execution_count": 118,
   "id": "d0af654c",
   "metadata": {
    "execution": {
     "iopub.execute_input": "2023-03-28T19:06:14.799000Z",
     "iopub.status.busy": "2023-03-28T19:06:14.799000Z",
     "iopub.status.idle": "2023-03-28T19:06:22.269000Z",
     "shell.execute_reply": "2023-03-28T19:06:22.269000Z"
    },
    "papermill": {
     "duration": 7.48258,
     "end_time": "2023-03-28T18:06:22.273970",
     "exception": false,
     "start_time": "2023-03-28T18:06:14.791390",
     "status": "completed"
    },
    "tags": []
   },
   "outputs": [],
   "source": [
    "using Dierckx\n",
    "using Quadmath\n",
    "\n",
    "\n",
    "####\n",
    "#initm=Array{Float128}(undef, L)\n",
    "#initbeta=Array{Float128}(undef, L)\n",
    "#initpsi=Array{Float128}(undef, L)\n",
    "#initderpsi=Array{Float128}(undef, L)\n",
    "initm=zeros(L);\n",
    "initbeta=zeros(L);\n",
    "initpsi=zeros(L);\n",
    "initderpsi=zeros(L);\n",
    "\n",
    "state_array=[initm initbeta initpsi initderpsi initX];\n",
    "\n",
    "#PSI\n",
    "r0=0.7#0.01#0.7#0.01#0.7#0.7#0.7#0.01#0.7#0.3\n",
    "sigma=0.3\n",
    "initpsi[4:L-3] = init_gaussian(initX1,r0,sigma,A)\n",
    "\n",
    "state_array[:,3] = initpsi\n",
    "state_array = ghost(state_array)\n",
    "\n",
    "#PSI,X FROM PSI\n",
    "initderpsi[4:L-3] = init_gaussian_der(initX1,r0,sigma,A)\n",
    "state_array[:,4] = initderpsi\n",
    "state_array=ghost(state_array)\n",
    "\n",
    "####\n",
    "\n",
    "derpsi_func = Spline1D(initX[4:L-3], state_array[4:L-3,4],  k=4);"
   ]
  },
  {
   "cell_type": "code",
   "execution_count": 119,
   "id": "9cc776ac",
   "metadata": {},
   "outputs": [],
   "source": [
    "##AUX\n",
    "auxinitm=zeros((L-6)*2+5);\n",
    "auxinitbeta=zeros((L-6)*2+5);\n",
    "auxinitpsi=zeros((L-6)*2+5);\n",
    "auxinitderpsi=zeros((L-6)*2+5);\n",
    "auxinitX=range(round(ori-3.0*dx/2,digits=10), stop=Xf+3.0*dx/2, step=dx/2)\n",
    "auxinitX1=auxinitX[4:length(auxinitX)-3]\n",
    "auxL=length(auxinitX)\n",
    "\n",
    "auxstate_array=[auxinitm auxinitbeta auxinitpsi auxinitderpsi auxinitX];\n",
    "\n",
    "#PSI\n",
    "r0=0.7\n",
    "sigma=0.3\n",
    "auxinitpsi[4:auxL-3] = init_gaussian(auxinitX1,r0,sigma,A)\n",
    "\n",
    "auxstate_array[:,3] = auxinitpsi\n",
    "auxstate_array = ghost(auxstate_array)\n",
    "\n",
    "#PSI,X FROM PSI\n",
    "auxinitderpsi[4:auxL-3] = init_gaussian_der(auxinitX1,r0,sigma,A)\n",
    "auxstate_array[:,4] = auxinitderpsi\n",
    "auxstate_array=ghost(auxstate_array)\n",
    "\n",
    "####\n",
    "\n",
    "auxderpsi_func = Spline1D(auxinitX[4:auxL-3], auxstate_array[4:auxL-3,4],  k=4);"
   ]
  },
  {
   "cell_type": "code",
   "execution_count": 120,
   "id": "16b359eb",
   "metadata": {},
   "outputs": [
    {
     "data": {
      "text/plain": [
       "\"integ=integrator(initX,derpsi_func)\\nplot(initX1, integ[4:L-3],xlim=[0,0.001])\""
      ]
     },
     "execution_count": 120,
     "metadata": {},
     "output_type": "execute_result"
    }
   ],
   "source": [
    "\"\"\"integ=integrator(initX,derpsi_func)\n",
    "plot(initX1, integ[4:L-3],xlim=[0,0.001])\"\"\""
   ]
  },
  {
   "cell_type": "code",
   "execution_count": 121,
   "id": "d4a56f84",
   "metadata": {},
   "outputs": [],
   "source": [
    "##AUX\n",
    "y0=[0 0 0]\n",
    "auxstate_array[4:auxL-3,1:3] = n_rk4wrapper(RHS,y0,auxinitX[4:auxL-3],0,auxderpsi_func,auxstate_array[:,:]);"
   ]
  },
  {
   "cell_type": "code",
   "execution_count": 122,
   "id": "384597fa",
   "metadata": {
    "execution": {
     "iopub.execute_input": "2023-03-28T19:06:22.817000Z",
     "iopub.status.busy": "2023-03-28T19:06:22.325000Z",
     "iopub.status.idle": "2023-03-28T19:06:25.288000Z",
     "shell.execute_reply": "2023-03-28T19:06:25.288000Z"
    },
    "papermill": {
     "duration": 2.998847,
     "end_time": "2023-03-28T18:06:25.292099",
     "exception": false,
     "start_time": "2023-03-28T18:06:22.293252",
     "status": "completed"
    },
    "tags": []
   },
   "outputs": [],
   "source": [
    "y0=[0 0 0]\n",
    "#state_array[4:L-3,1:3] = n_rk4wrapper(RHS,y0,initX[4:L-3],0,derpsi_func,state_array[:,:],auxstate_array); ghost grid\n",
    "\n",
    "state_array[4:L-3,1:3] = n_rk4wrapper(RHS,y0,initX[4:L-3],0,derpsi_func,state_array[:,:]);\n",
    "\n",
    "state_array = ghost(state_array);"
   ]
  },
  {
   "cell_type": "code",
   "execution_count": 123,
   "id": "48f10a76",
   "metadata": {
    "execution": {
     "iopub.execute_input": "2023-03-28T19:06:25.312000Z",
     "iopub.status.busy": "2023-03-28T19:06:25.312000Z",
     "iopub.status.idle": "2023-03-28T19:06:25.348000Z",
     "shell.execute_reply": "2023-03-28T19:06:25.347000Z"
    },
    "papermill": {
     "duration": 0.048534,
     "end_time": "2023-03-28T18:06:25.352888",
     "exception": false,
     "start_time": "2023-03-28T18:06:25.304354",
     "status": "completed"
    },
    "tags": []
   },
   "outputs": [
    {
     "data": {
      "image/svg+xml": [
       "<?xml version=\"1.0\" encoding=\"utf-8\"?>\n",
       "<svg xmlns=\"http://www.w3.org/2000/svg\" xmlns:xlink=\"http://www.w3.org/1999/xlink\" width=\"600\" height=\"400\" viewBox=\"0 0 2400 1600\">\n",
       "<defs>\n",
       "  <clipPath id=\"clip530\">\n",
       "    <rect x=\"0\" y=\"0\" width=\"2400\" height=\"1600\"/>\n",
       "  </clipPath>\n",
       "</defs>\n",
       "<path clip-path=\"url(#clip530)\" d=\"M0 1600 L2400 1600 L2400 0 L0 0  Z\" fill=\"#ffffff\" fill-rule=\"evenodd\" fill-opacity=\"1\"/>\n",
       "<defs>\n",
       "  <clipPath id=\"clip531\">\n",
       "    <rect x=\"480\" y=\"0\" width=\"1681\" height=\"1600\"/>\n",
       "  </clipPath>\n",
       "</defs>\n",
       "<path clip-path=\"url(#clip530)\" d=\"M284.422 1423.18 L2352.76 1423.18 L2352.76 123.472 L284.422 123.472  Z\" fill=\"#ffffff\" fill-rule=\"evenodd\" fill-opacity=\"1\"/>\n",
       "<defs>\n",
       "  <clipPath id=\"clip532\">\n",
       "    <rect x=\"284\" y=\"123\" width=\"2069\" height=\"1301\"/>\n",
       "  </clipPath>\n",
       "</defs>\n",
       "<polyline clip-path=\"url(#clip532)\" style=\"stroke:#000000; stroke-linecap:round; stroke-linejoin:round; stroke-width:2; stroke-opacity:0.1; fill:none\" points=\"342.959,1423.18 342.959,123.472 \"/>\n",
       "<polyline clip-path=\"url(#clip532)\" style=\"stroke:#000000; stroke-linecap:round; stroke-linejoin:round; stroke-width:2; stroke-opacity:0.1; fill:none\" points=\"830.774,1423.18 830.774,123.472 \"/>\n",
       "<polyline clip-path=\"url(#clip532)\" style=\"stroke:#000000; stroke-linecap:round; stroke-linejoin:round; stroke-width:2; stroke-opacity:0.1; fill:none\" points=\"1318.59,1423.18 1318.59,123.472 \"/>\n",
       "<polyline clip-path=\"url(#clip532)\" style=\"stroke:#000000; stroke-linecap:round; stroke-linejoin:round; stroke-width:2; stroke-opacity:0.1; fill:none\" points=\"1806.4,1423.18 1806.4,123.472 \"/>\n",
       "<polyline clip-path=\"url(#clip532)\" style=\"stroke:#000000; stroke-linecap:round; stroke-linejoin:round; stroke-width:2; stroke-opacity:0.1; fill:none\" points=\"2294.22,1423.18 2294.22,123.472 \"/>\n",
       "<polyline clip-path=\"url(#clip530)\" style=\"stroke:#000000; stroke-linecap:round; stroke-linejoin:round; stroke-width:4; stroke-opacity:1; fill:none\" points=\"284.422,1423.18 2352.76,1423.18 \"/>\n",
       "<polyline clip-path=\"url(#clip530)\" style=\"stroke:#000000; stroke-linecap:round; stroke-linejoin:round; stroke-width:4; stroke-opacity:1; fill:none\" points=\"342.959,1423.18 342.959,1404.28 \"/>\n",
       "<polyline clip-path=\"url(#clip530)\" style=\"stroke:#000000; stroke-linecap:round; stroke-linejoin:round; stroke-width:4; stroke-opacity:1; fill:none\" points=\"830.774,1423.18 830.774,1404.28 \"/>\n",
       "<polyline clip-path=\"url(#clip530)\" style=\"stroke:#000000; stroke-linecap:round; stroke-linejoin:round; stroke-width:4; stroke-opacity:1; fill:none\" points=\"1318.59,1423.18 1318.59,1404.28 \"/>\n",
       "<polyline clip-path=\"url(#clip530)\" style=\"stroke:#000000; stroke-linecap:round; stroke-linejoin:round; stroke-width:4; stroke-opacity:1; fill:none\" points=\"1806.4,1423.18 1806.4,1404.28 \"/>\n",
       "<polyline clip-path=\"url(#clip530)\" style=\"stroke:#000000; stroke-linecap:round; stroke-linejoin:round; stroke-width:4; stroke-opacity:1; fill:none\" points=\"2294.22,1423.18 2294.22,1404.28 \"/>\n",
       "<path clip-path=\"url(#clip530)\" d=\"M305.263 1454.1 Q301.652 1454.1 299.823 1457.66 Q298.017 1461.2 298.017 1468.33 Q298.017 1475.44 299.823 1479.01 Q301.652 1482.55 305.263 1482.55 Q308.897 1482.55 310.703 1479.01 Q312.531 1475.44 312.531 1468.33 Q312.531 1461.2 310.703 1457.66 Q308.897 1454.1 305.263 1454.1 M305.263 1450.39 Q311.073 1450.39 314.129 1455 Q317.207 1459.58 317.207 1468.33 Q317.207 1477.06 314.129 1481.67 Q311.073 1486.25 305.263 1486.25 Q299.453 1486.25 296.374 1481.67 Q293.318 1477.06 293.318 1468.33 Q293.318 1459.58 296.374 1455 Q299.453 1450.39 305.263 1450.39 Z\" fill=\"#000000\" fill-rule=\"evenodd\" fill-opacity=\"1\" /><path clip-path=\"url(#clip530)\" d=\"M325.425 1479.7 L330.309 1479.7 L330.309 1485.58 L325.425 1485.58 L325.425 1479.7 Z\" fill=\"#000000\" fill-rule=\"evenodd\" fill-opacity=\"1\" /><path clip-path=\"url(#clip530)\" d=\"M350.494 1454.1 Q346.883 1454.1 345.054 1457.66 Q343.249 1461.2 343.249 1468.33 Q343.249 1475.44 345.054 1479.01 Q346.883 1482.55 350.494 1482.55 Q354.128 1482.55 355.934 1479.01 Q357.763 1475.44 357.763 1468.33 Q357.763 1461.2 355.934 1457.66 Q354.128 1454.1 350.494 1454.1 M350.494 1450.39 Q356.304 1450.39 359.36 1455 Q362.438 1459.58 362.438 1468.33 Q362.438 1477.06 359.36 1481.67 Q356.304 1486.25 350.494 1486.25 Q344.684 1486.25 341.605 1481.67 Q338.55 1477.06 338.55 1468.33 Q338.55 1459.58 341.605 1455 Q344.684 1450.39 350.494 1450.39 Z\" fill=\"#000000\" fill-rule=\"evenodd\" fill-opacity=\"1\" /><path clip-path=\"url(#clip530)\" d=\"M380.656 1454.1 Q377.045 1454.1 375.216 1457.66 Q373.411 1461.2 373.411 1468.33 Q373.411 1475.44 375.216 1479.01 Q377.045 1482.55 380.656 1482.55 Q384.29 1482.55 386.096 1479.01 Q387.924 1475.44 387.924 1468.33 Q387.924 1461.2 386.096 1457.66 Q384.29 1454.1 380.656 1454.1 M380.656 1450.39 Q386.466 1450.39 389.522 1455 Q392.6 1459.58 392.6 1468.33 Q392.6 1477.06 389.522 1481.67 Q386.466 1486.25 380.656 1486.25 Q374.846 1486.25 371.767 1481.67 Q368.712 1477.06 368.712 1468.33 Q368.712 1459.58 371.767 1455 Q374.846 1450.39 380.656 1450.39 Z\" fill=\"#000000\" fill-rule=\"evenodd\" fill-opacity=\"1\" /><path clip-path=\"url(#clip530)\" d=\"M793.575 1454.1 Q789.964 1454.1 788.135 1457.66 Q786.33 1461.2 786.33 1468.33 Q786.33 1475.44 788.135 1479.01 Q789.964 1482.55 793.575 1482.55 Q797.209 1482.55 799.015 1479.01 Q800.844 1475.44 800.844 1468.33 Q800.844 1461.2 799.015 1457.66 Q797.209 1454.1 793.575 1454.1 M793.575 1450.39 Q799.385 1450.39 802.441 1455 Q805.52 1459.58 805.52 1468.33 Q805.52 1477.06 802.441 1481.67 Q799.385 1486.25 793.575 1486.25 Q787.765 1486.25 784.686 1481.67 Q781.631 1477.06 781.631 1468.33 Q781.631 1459.58 784.686 1455 Q787.765 1450.39 793.575 1450.39 Z\" fill=\"#000000\" fill-rule=\"evenodd\" fill-opacity=\"1\" /><path clip-path=\"url(#clip530)\" d=\"M813.737 1479.7 L818.621 1479.7 L818.621 1485.58 L813.737 1485.58 L813.737 1479.7 Z\" fill=\"#000000\" fill-rule=\"evenodd\" fill-opacity=\"1\" /><path clip-path=\"url(#clip530)\" d=\"M832.834 1481.64 L849.154 1481.64 L849.154 1485.58 L827.209 1485.58 L827.209 1481.64 Q829.871 1478.89 834.455 1474.26 Q839.061 1469.61 840.242 1468.27 Q842.487 1465.74 843.367 1464.01 Q844.269 1462.25 844.269 1460.56 Q844.269 1457.8 842.325 1456.07 Q840.404 1454.33 837.302 1454.33 Q835.103 1454.33 832.649 1455.09 Q830.219 1455.86 827.441 1457.41 L827.441 1452.69 Q830.265 1451.55 832.719 1450.97 Q835.172 1450.39 837.209 1450.39 Q842.58 1450.39 845.774 1453.08 Q848.968 1455.77 848.968 1460.26 Q848.968 1462.39 848.158 1464.31 Q847.371 1466.2 845.265 1468.8 Q844.686 1469.47 841.584 1472.69 Q838.482 1475.88 832.834 1481.64 Z\" fill=\"#000000\" fill-rule=\"evenodd\" fill-opacity=\"1\" /><path clip-path=\"url(#clip530)\" d=\"M859.015 1451.02 L877.371 1451.02 L877.371 1454.96 L863.297 1454.96 L863.297 1463.43 Q864.316 1463.08 865.334 1462.92 Q866.353 1462.73 867.371 1462.73 Q873.158 1462.73 876.538 1465.9 Q879.917 1469.08 879.917 1474.49 Q879.917 1480.07 876.445 1483.17 Q872.973 1486.25 866.654 1486.25 Q864.478 1486.25 862.209 1485.88 Q859.964 1485.51 857.556 1484.77 L857.556 1480.07 Q859.64 1481.2 861.862 1481.76 Q864.084 1482.32 866.561 1482.32 Q870.566 1482.32 872.903 1480.21 Q875.241 1478.1 875.241 1474.49 Q875.241 1470.88 872.903 1468.77 Q870.566 1466.67 866.561 1466.67 Q864.686 1466.67 862.811 1467.08 Q860.959 1467.5 859.015 1468.38 L859.015 1451.02 Z\" fill=\"#000000\" fill-rule=\"evenodd\" fill-opacity=\"1\" /><path clip-path=\"url(#clip530)\" d=\"M1280.89 1454.1 Q1277.28 1454.1 1275.45 1457.66 Q1273.65 1461.2 1273.65 1468.33 Q1273.65 1475.44 1275.45 1479.01 Q1277.28 1482.55 1280.89 1482.55 Q1284.53 1482.55 1286.33 1479.01 Q1288.16 1475.44 1288.16 1468.33 Q1288.16 1461.2 1286.33 1457.66 Q1284.53 1454.1 1280.89 1454.1 M1280.89 1450.39 Q1286.7 1450.39 1289.76 1455 Q1292.84 1459.58 1292.84 1468.33 Q1292.84 1477.06 1289.76 1481.67 Q1286.7 1486.25 1280.89 1486.25 Q1275.08 1486.25 1272 1481.67 Q1268.95 1477.06 1268.95 1468.33 Q1268.95 1459.58 1272 1455 Q1275.08 1450.39 1280.89 1450.39 Z\" fill=\"#000000\" fill-rule=\"evenodd\" fill-opacity=\"1\" /><path clip-path=\"url(#clip530)\" d=\"M1301.05 1479.7 L1305.94 1479.7 L1305.94 1485.58 L1301.05 1485.58 L1301.05 1479.7 Z\" fill=\"#000000\" fill-rule=\"evenodd\" fill-opacity=\"1\" /><path clip-path=\"url(#clip530)\" d=\"M1316.17 1451.02 L1334.53 1451.02 L1334.53 1454.96 L1320.45 1454.96 L1320.45 1463.43 Q1321.47 1463.08 1322.49 1462.92 Q1323.51 1462.73 1324.53 1462.73 Q1330.31 1462.73 1333.69 1465.9 Q1337.07 1469.08 1337.07 1474.49 Q1337.07 1480.07 1333.6 1483.17 Q1330.13 1486.25 1323.81 1486.25 Q1321.63 1486.25 1319.36 1485.88 Q1317.12 1485.51 1314.71 1484.77 L1314.71 1480.07 Q1316.79 1481.2 1319.02 1481.76 Q1321.24 1482.32 1323.72 1482.32 Q1327.72 1482.32 1330.06 1480.21 Q1332.4 1478.1 1332.4 1474.49 Q1332.4 1470.88 1330.06 1468.77 Q1327.72 1466.67 1323.72 1466.67 Q1321.84 1466.67 1319.97 1467.08 Q1318.11 1467.5 1316.17 1468.38 L1316.17 1451.02 Z\" fill=\"#000000\" fill-rule=\"evenodd\" fill-opacity=\"1\" /><path clip-path=\"url(#clip530)\" d=\"M1356.29 1454.1 Q1352.67 1454.1 1350.85 1457.66 Q1349.04 1461.2 1349.04 1468.33 Q1349.04 1475.44 1350.85 1479.01 Q1352.67 1482.55 1356.29 1482.55 Q1359.92 1482.55 1361.73 1479.01 Q1363.55 1475.44 1363.55 1468.33 Q1363.55 1461.2 1361.73 1457.66 Q1359.92 1454.1 1356.29 1454.1 M1356.29 1450.39 Q1362.1 1450.39 1365.15 1455 Q1368.23 1459.58 1368.23 1468.33 Q1368.23 1477.06 1365.15 1481.67 Q1362.1 1486.25 1356.29 1486.25 Q1350.48 1486.25 1347.4 1481.67 Q1344.34 1477.06 1344.34 1468.33 Q1344.34 1459.58 1347.4 1455 Q1350.48 1450.39 1356.29 1450.39 Z\" fill=\"#000000\" fill-rule=\"evenodd\" fill-opacity=\"1\" /><path clip-path=\"url(#clip530)\" d=\"M1769.2 1454.1 Q1765.59 1454.1 1763.76 1457.66 Q1761.96 1461.2 1761.96 1468.33 Q1761.96 1475.44 1763.76 1479.01 Q1765.59 1482.55 1769.2 1482.55 Q1772.84 1482.55 1774.64 1479.01 Q1776.47 1475.44 1776.47 1468.33 Q1776.47 1461.2 1774.64 1457.66 Q1772.84 1454.1 1769.2 1454.1 M1769.2 1450.39 Q1775.01 1450.39 1778.07 1455 Q1781.15 1459.58 1781.15 1468.33 Q1781.15 1477.06 1778.07 1481.67 Q1775.01 1486.25 1769.2 1486.25 Q1763.39 1486.25 1760.32 1481.67 Q1757.26 1477.06 1757.26 1468.33 Q1757.26 1459.58 1760.32 1455 Q1763.39 1450.39 1769.2 1450.39 Z\" fill=\"#000000\" fill-rule=\"evenodd\" fill-opacity=\"1\" /><path clip-path=\"url(#clip530)\" d=\"M1789.37 1479.7 L1794.25 1479.7 L1794.25 1485.58 L1789.37 1485.58 L1789.37 1479.7 Z\" fill=\"#000000\" fill-rule=\"evenodd\" fill-opacity=\"1\" /><path clip-path=\"url(#clip530)\" d=\"M1803.26 1451.02 L1825.48 1451.02 L1825.48 1453.01 L1812.93 1485.58 L1808.05 1485.58 L1819.85 1454.96 L1803.26 1454.96 L1803.26 1451.02 Z\" fill=\"#000000\" fill-rule=\"evenodd\" fill-opacity=\"1\" /><path clip-path=\"url(#clip530)\" d=\"M1834.64 1451.02 L1853 1451.02 L1853 1454.96 L1838.93 1454.96 L1838.93 1463.43 Q1839.94 1463.08 1840.96 1462.92 Q1841.98 1462.73 1843 1462.73 Q1848.79 1462.73 1852.17 1465.9 Q1855.55 1469.08 1855.55 1474.49 Q1855.55 1480.07 1852.07 1483.17 Q1848.6 1486.25 1842.28 1486.25 Q1840.11 1486.25 1837.84 1485.88 Q1835.59 1485.51 1833.19 1484.77 L1833.19 1480.07 Q1835.27 1481.2 1837.49 1481.76 Q1839.71 1482.32 1842.19 1482.32 Q1846.19 1482.32 1848.53 1480.21 Q1850.87 1478.1 1850.87 1474.49 Q1850.87 1470.88 1848.53 1468.77 Q1846.19 1466.67 1842.19 1466.67 Q1840.32 1466.67 1838.44 1467.08 Q1836.59 1467.5 1834.64 1468.38 L1834.64 1451.02 Z\" fill=\"#000000\" fill-rule=\"evenodd\" fill-opacity=\"1\" /><path clip-path=\"url(#clip530)\" d=\"M2246.29 1481.64 L2253.93 1481.64 L2253.93 1455.28 L2245.62 1456.95 L2245.62 1452.69 L2253.88 1451.02 L2258.56 1451.02 L2258.56 1481.64 L2266.2 1481.64 L2266.2 1485.58 L2246.29 1485.58 L2246.29 1481.64 Z\" fill=\"#000000\" fill-rule=\"evenodd\" fill-opacity=\"1\" /><path clip-path=\"url(#clip530)\" d=\"M2275.64 1479.7 L2280.53 1479.7 L2280.53 1485.58 L2275.64 1485.58 L2275.64 1479.7 Z\" fill=\"#000000\" fill-rule=\"evenodd\" fill-opacity=\"1\" /><path clip-path=\"url(#clip530)\" d=\"M2300.71 1454.1 Q2297.1 1454.1 2295.27 1457.66 Q2293.47 1461.2 2293.47 1468.33 Q2293.47 1475.44 2295.27 1479.01 Q2297.1 1482.55 2300.71 1482.55 Q2304.35 1482.55 2306.15 1479.01 Q2307.98 1475.44 2307.98 1468.33 Q2307.98 1461.2 2306.15 1457.66 Q2304.35 1454.1 2300.71 1454.1 M2300.71 1450.39 Q2306.52 1450.39 2309.58 1455 Q2312.66 1459.58 2312.66 1468.33 Q2312.66 1477.06 2309.58 1481.67 Q2306.52 1486.25 2300.71 1486.25 Q2294.9 1486.25 2291.82 1481.67 Q2288.77 1477.06 2288.77 1468.33 Q2288.77 1459.58 2291.82 1455 Q2294.9 1450.39 2300.71 1450.39 Z\" fill=\"#000000\" fill-rule=\"evenodd\" fill-opacity=\"1\" /><path clip-path=\"url(#clip530)\" d=\"M2330.87 1454.1 Q2327.26 1454.1 2325.43 1457.66 Q2323.63 1461.2 2323.63 1468.33 Q2323.63 1475.44 2325.43 1479.01 Q2327.26 1482.55 2330.87 1482.55 Q2334.51 1482.55 2336.31 1479.01 Q2338.14 1475.44 2338.14 1468.33 Q2338.14 1461.2 2336.31 1457.66 Q2334.51 1454.1 2330.87 1454.1 M2330.87 1450.39 Q2336.68 1450.39 2339.74 1455 Q2342.82 1459.58 2342.82 1468.33 Q2342.82 1477.06 2339.74 1481.67 Q2336.68 1486.25 2330.87 1486.25 Q2325.06 1486.25 2321.98 1481.67 Q2318.93 1477.06 2318.93 1468.33 Q2318.93 1459.58 2321.98 1455 Q2325.06 1450.39 2330.87 1450.39 Z\" fill=\"#000000\" fill-rule=\"evenodd\" fill-opacity=\"1\" /><path clip-path=\"url(#clip530)\" d=\"M1335.2 1532.4 L1322.31 1549.74 L1335.87 1568.04 L1328.96 1568.04 L1318.59 1554.04 L1308.21 1568.04 L1301.31 1568.04 L1315.15 1549.39 L1302.48 1532.4 L1309.39 1532.4 L1318.84 1545.1 L1328.3 1532.4 L1335.2 1532.4 Z\" fill=\"#000000\" fill-rule=\"evenodd\" fill-opacity=\"1\" /><polyline clip-path=\"url(#clip532)\" style=\"stroke:#000000; stroke-linecap:round; stroke-linejoin:round; stroke-width:2; stroke-opacity:0.1; fill:none\" points=\"284.422,1246.22 2352.76,1246.22 \"/>\n",
       "<polyline clip-path=\"url(#clip532)\" style=\"stroke:#000000; stroke-linecap:round; stroke-linejoin:round; stroke-width:2; stroke-opacity:0.1; fill:none\" points=\"284.422,954.009 2352.76,954.009 \"/>\n",
       "<polyline clip-path=\"url(#clip532)\" style=\"stroke:#000000; stroke-linecap:round; stroke-linejoin:round; stroke-width:2; stroke-opacity:0.1; fill:none\" points=\"284.422,661.796 2352.76,661.796 \"/>\n",
       "<polyline clip-path=\"url(#clip532)\" style=\"stroke:#000000; stroke-linecap:round; stroke-linejoin:round; stroke-width:2; stroke-opacity:0.1; fill:none\" points=\"284.422,369.583 2352.76,369.583 \"/>\n",
       "<polyline clip-path=\"url(#clip530)\" style=\"stroke:#000000; stroke-linecap:round; stroke-linejoin:round; stroke-width:4; stroke-opacity:1; fill:none\" points=\"284.422,1423.18 284.422,123.472 \"/>\n",
       "<polyline clip-path=\"url(#clip530)\" style=\"stroke:#000000; stroke-linecap:round; stroke-linejoin:round; stroke-width:4; stroke-opacity:1; fill:none\" points=\"284.422,1246.22 303.319,1246.22 \"/>\n",
       "<polyline clip-path=\"url(#clip530)\" style=\"stroke:#000000; stroke-linecap:round; stroke-linejoin:round; stroke-width:4; stroke-opacity:1; fill:none\" points=\"284.422,954.009 303.319,954.009 \"/>\n",
       "<polyline clip-path=\"url(#clip530)\" style=\"stroke:#000000; stroke-linecap:round; stroke-linejoin:round; stroke-width:4; stroke-opacity:1; fill:none\" points=\"284.422,661.796 303.319,661.796 \"/>\n",
       "<polyline clip-path=\"url(#clip530)\" style=\"stroke:#000000; stroke-linecap:round; stroke-linejoin:round; stroke-width:4; stroke-opacity:1; fill:none\" points=\"284.422,369.583 303.319,369.583 \"/>\n",
       "<path clip-path=\"url(#clip530)\" d=\"M50.9921 1246.67 L80.6679 1246.67 L80.6679 1250.61 L50.9921 1250.61 L50.9921 1246.67 Z\" fill=\"#000000\" fill-rule=\"evenodd\" fill-opacity=\"1\" /><path clip-path=\"url(#clip530)\" d=\"M100.76 1232.02 Q97.1493 1232.02 95.3206 1235.59 Q93.515 1239.13 93.515 1246.26 Q93.515 1253.36 95.3206 1256.93 Q97.1493 1260.47 100.76 1260.47 Q104.395 1260.47 106.2 1256.93 Q108.029 1253.36 108.029 1246.26 Q108.029 1239.13 106.2 1235.59 Q104.395 1232.02 100.76 1232.02 M100.76 1228.32 Q106.571 1228.32 109.626 1232.92 Q112.705 1237.51 112.705 1246.26 Q112.705 1254.98 109.626 1259.59 Q106.571 1264.17 100.76 1264.17 Q94.9502 1264.17 91.8715 1259.59 Q88.816 1254.98 88.816 1246.26 Q88.816 1237.51 91.8715 1232.92 Q94.9502 1228.32 100.76 1228.32 Z\" fill=\"#000000\" fill-rule=\"evenodd\" fill-opacity=\"1\" /><path clip-path=\"url(#clip530)\" d=\"M120.922 1257.62 L125.807 1257.62 L125.807 1263.5 L120.922 1263.5 L120.922 1257.62 Z\" fill=\"#000000\" fill-rule=\"evenodd\" fill-opacity=\"1\" /><path clip-path=\"url(#clip530)\" d=\"M145.992 1232.02 Q142.381 1232.02 140.552 1235.59 Q138.746 1239.13 138.746 1246.26 Q138.746 1253.36 140.552 1256.93 Q142.381 1260.47 145.992 1260.47 Q149.626 1260.47 151.431 1256.93 Q153.26 1253.36 153.26 1246.26 Q153.26 1239.13 151.431 1235.59 Q149.626 1232.02 145.992 1232.02 M145.992 1228.32 Q151.802 1228.32 154.857 1232.92 Q157.936 1237.51 157.936 1246.26 Q157.936 1254.98 154.857 1259.59 Q151.802 1264.17 145.992 1264.17 Q140.181 1264.17 137.103 1259.59 Q134.047 1254.98 134.047 1246.26 Q134.047 1237.51 137.103 1232.92 Q140.181 1228.32 145.992 1228.32 Z\" fill=\"#000000\" fill-rule=\"evenodd\" fill-opacity=\"1\" /><path clip-path=\"url(#clip530)\" d=\"M176.153 1232.02 Q172.542 1232.02 170.714 1235.59 Q168.908 1239.13 168.908 1246.26 Q168.908 1253.36 170.714 1256.93 Q172.542 1260.47 176.153 1260.47 Q179.788 1260.47 181.593 1256.93 Q183.422 1253.36 183.422 1246.26 Q183.422 1239.13 181.593 1235.59 Q179.788 1232.02 176.153 1232.02 M176.153 1228.32 Q181.964 1228.32 185.019 1232.92 Q188.098 1237.51 188.098 1246.26 Q188.098 1254.98 185.019 1259.59 Q181.964 1264.17 176.153 1264.17 Q170.343 1264.17 167.265 1259.59 Q164.209 1254.98 164.209 1246.26 Q164.209 1237.51 167.265 1232.92 Q170.343 1228.32 176.153 1228.32 Z\" fill=\"#000000\" fill-rule=\"evenodd\" fill-opacity=\"1\" /><path clip-path=\"url(#clip530)\" d=\"M196.362 1228.94 L214.718 1228.94 L214.718 1232.88 L200.644 1232.88 L200.644 1241.35 Q201.663 1241 202.681 1240.84 Q203.7 1240.66 204.718 1240.66 Q210.505 1240.66 213.885 1243.83 Q217.264 1247 217.264 1252.41 Q217.264 1257.99 213.792 1261.1 Q210.32 1264.17 204.001 1264.17 Q201.825 1264.17 199.556 1263.8 Q197.311 1263.43 194.903 1262.69 L194.903 1257.99 Q196.987 1259.13 199.209 1259.68 Q201.431 1260.24 203.908 1260.24 Q207.913 1260.24 210.251 1258.13 Q212.588 1256.03 212.588 1252.41 Q212.588 1248.8 210.251 1246.7 Q207.913 1244.59 203.908 1244.59 Q202.033 1244.59 200.158 1245.01 Q198.306 1245.42 196.362 1246.3 L196.362 1228.94 Z\" fill=\"#000000\" fill-rule=\"evenodd\" fill-opacity=\"1\" /><path clip-path=\"url(#clip530)\" d=\"M236.477 1232.02 Q232.866 1232.02 231.037 1235.59 Q229.232 1239.13 229.232 1246.26 Q229.232 1253.36 231.037 1256.93 Q232.866 1260.47 236.477 1260.47 Q240.111 1260.47 241.917 1256.93 Q243.746 1253.36 243.746 1246.26 Q243.746 1239.13 241.917 1235.59 Q240.111 1232.02 236.477 1232.02 M236.477 1228.32 Q242.287 1228.32 245.343 1232.92 Q248.422 1237.51 248.422 1246.26 Q248.422 1254.98 245.343 1259.59 Q242.287 1264.17 236.477 1264.17 Q230.667 1264.17 227.588 1259.59 Q224.533 1254.98 224.533 1246.26 Q224.533 1237.51 227.588 1232.92 Q230.667 1228.32 236.477 1228.32 Z\" fill=\"#000000\" fill-rule=\"evenodd\" fill-opacity=\"1\" /><path clip-path=\"url(#clip530)\" d=\"M51.9875 954.461 L81.6633 954.461 L81.6633 958.396 L51.9875 958.396 L51.9875 954.461 Z\" fill=\"#000000\" fill-rule=\"evenodd\" fill-opacity=\"1\" /><path clip-path=\"url(#clip530)\" d=\"M101.756 939.808 Q98.1447 939.808 96.316 943.373 Q94.5104 946.914 94.5104 954.044 Q94.5104 961.151 96.316 964.715 Q98.1447 968.257 101.756 968.257 Q105.39 968.257 107.196 964.715 Q109.024 961.151 109.024 954.044 Q109.024 946.914 107.196 943.373 Q105.39 939.808 101.756 939.808 M101.756 936.104 Q107.566 936.104 110.621 940.711 Q113.7 945.294 113.7 954.044 Q113.7 962.771 110.621 967.377 Q107.566 971.961 101.756 971.961 Q95.9456 971.961 92.8669 967.377 Q89.8114 962.771 89.8114 954.044 Q89.8114 945.294 92.8669 940.711 Q95.9456 936.104 101.756 936.104 Z\" fill=\"#000000\" fill-rule=\"evenodd\" fill-opacity=\"1\" /><path clip-path=\"url(#clip530)\" d=\"M121.918 965.41 L126.802 965.41 L126.802 971.289 L121.918 971.289 L121.918 965.41 Z\" fill=\"#000000\" fill-rule=\"evenodd\" fill-opacity=\"1\" /><path clip-path=\"url(#clip530)\" d=\"M146.987 939.808 Q143.376 939.808 141.547 943.373 Q139.742 946.914 139.742 954.044 Q139.742 961.151 141.547 964.715 Q143.376 968.257 146.987 968.257 Q150.621 968.257 152.427 964.715 Q154.255 961.151 154.255 954.044 Q154.255 946.914 152.427 943.373 Q150.621 939.808 146.987 939.808 M146.987 936.104 Q152.797 936.104 155.853 940.711 Q158.931 945.294 158.931 954.044 Q158.931 962.771 155.853 967.377 Q152.797 971.961 146.987 971.961 Q141.177 971.961 138.098 967.377 Q135.043 962.771 135.043 954.044 Q135.043 945.294 138.098 940.711 Q141.177 936.104 146.987 936.104 Z\" fill=\"#000000\" fill-rule=\"evenodd\" fill-opacity=\"1\" /><path clip-path=\"url(#clip530)\" d=\"M177.149 939.808 Q173.538 939.808 171.709 943.373 Q169.904 946.914 169.904 954.044 Q169.904 961.151 171.709 964.715 Q173.538 968.257 177.149 968.257 Q180.783 968.257 182.589 964.715 Q184.417 961.151 184.417 954.044 Q184.417 946.914 182.589 943.373 Q180.783 939.808 177.149 939.808 M177.149 936.104 Q182.959 936.104 186.015 940.711 Q189.093 945.294 189.093 954.044 Q189.093 962.771 186.015 967.377 Q182.959 971.961 177.149 971.961 Q171.339 971.961 168.26 967.377 Q165.204 962.771 165.204 954.044 Q165.204 945.294 168.26 940.711 Q171.339 936.104 177.149 936.104 Z\" fill=\"#000000\" fill-rule=\"evenodd\" fill-opacity=\"1\" /><path clip-path=\"url(#clip530)\" d=\"M201.339 967.354 L217.658 967.354 L217.658 971.289 L195.714 971.289 L195.714 967.354 Q198.376 964.6 202.959 959.97 Q207.565 955.317 208.746 953.975 Q210.991 951.451 211.871 949.715 Q212.774 947.956 212.774 946.266 Q212.774 943.512 210.829 941.776 Q208.908 940.04 205.806 940.04 Q203.607 940.04 201.153 940.803 Q198.723 941.567 195.945 943.118 L195.945 938.396 Q198.769 937.262 201.223 936.683 Q203.676 936.104 205.714 936.104 Q211.084 936.104 214.278 938.79 Q217.473 941.475 217.473 945.965 Q217.473 948.095 216.663 950.016 Q215.876 951.914 213.769 954.507 Q213.19 955.178 210.088 958.396 Q206.987 961.59 201.339 967.354 Z\" fill=\"#000000\" fill-rule=\"evenodd\" fill-opacity=\"1\" /><path clip-path=\"url(#clip530)\" d=\"M227.519 936.729 L245.875 936.729 L245.875 940.665 L231.801 940.665 L231.801 949.137 Q232.82 948.789 233.838 948.627 Q234.857 948.442 235.875 948.442 Q241.662 948.442 245.042 951.614 Q248.422 954.785 248.422 960.201 Q248.422 965.78 244.949 968.882 Q241.477 971.961 235.158 971.961 Q232.982 971.961 230.713 971.59 Q228.468 971.22 226.061 970.479 L226.061 965.78 Q228.144 966.914 230.366 967.47 Q232.588 968.025 235.065 968.025 Q239.07 968.025 241.408 965.919 Q243.746 963.813 243.746 960.201 Q243.746 956.59 241.408 954.484 Q239.07 952.377 235.065 952.377 Q233.19 952.377 231.315 952.794 Q229.463 953.211 227.519 954.09 L227.519 936.729 Z\" fill=\"#000000\" fill-rule=\"evenodd\" fill-opacity=\"1\" /><path clip-path=\"url(#clip530)\" d=\"M100.76 647.595 Q97.1493 647.595 95.3206 651.16 Q93.515 654.701 93.515 661.831 Q93.515 668.937 95.3206 672.502 Q97.1493 676.044 100.76 676.044 Q104.395 676.044 106.2 672.502 Q108.029 668.937 108.029 661.831 Q108.029 654.701 106.2 651.16 Q104.395 647.595 100.76 647.595 M100.76 643.891 Q106.571 643.891 109.626 648.498 Q112.705 653.081 112.705 661.831 Q112.705 670.558 109.626 675.164 Q106.571 679.748 100.76 679.748 Q94.9502 679.748 91.8715 675.164 Q88.816 670.558 88.816 661.831 Q88.816 653.081 91.8715 648.498 Q94.9502 643.891 100.76 643.891 Z\" fill=\"#000000\" fill-rule=\"evenodd\" fill-opacity=\"1\" /><path clip-path=\"url(#clip530)\" d=\"M120.922 673.197 L125.807 673.197 L125.807 679.076 L120.922 679.076 L120.922 673.197 Z\" fill=\"#000000\" fill-rule=\"evenodd\" fill-opacity=\"1\" /><path clip-path=\"url(#clip530)\" d=\"M145.992 647.595 Q142.381 647.595 140.552 651.16 Q138.746 654.701 138.746 661.831 Q138.746 668.937 140.552 672.502 Q142.381 676.044 145.992 676.044 Q149.626 676.044 151.431 672.502 Q153.26 668.937 153.26 661.831 Q153.26 654.701 151.431 651.16 Q149.626 647.595 145.992 647.595 M145.992 643.891 Q151.802 643.891 154.857 648.498 Q157.936 653.081 157.936 661.831 Q157.936 670.558 154.857 675.164 Q151.802 679.748 145.992 679.748 Q140.181 679.748 137.103 675.164 Q134.047 670.558 134.047 661.831 Q134.047 653.081 137.103 648.498 Q140.181 643.891 145.992 643.891 Z\" fill=\"#000000\" fill-rule=\"evenodd\" fill-opacity=\"1\" /><path clip-path=\"url(#clip530)\" d=\"M176.153 647.595 Q172.542 647.595 170.714 651.16 Q168.908 654.701 168.908 661.831 Q168.908 668.937 170.714 672.502 Q172.542 676.044 176.153 676.044 Q179.788 676.044 181.593 672.502 Q183.422 668.937 183.422 661.831 Q183.422 654.701 181.593 651.16 Q179.788 647.595 176.153 647.595 M176.153 643.891 Q181.964 643.891 185.019 648.498 Q188.098 653.081 188.098 661.831 Q188.098 670.558 185.019 675.164 Q181.964 679.748 176.153 679.748 Q170.343 679.748 167.265 675.164 Q164.209 670.558 164.209 661.831 Q164.209 653.081 167.265 648.498 Q170.343 643.891 176.153 643.891 Z\" fill=\"#000000\" fill-rule=\"evenodd\" fill-opacity=\"1\" /><path clip-path=\"url(#clip530)\" d=\"M206.315 647.595 Q202.704 647.595 200.876 651.16 Q199.07 654.701 199.07 661.831 Q199.07 668.937 200.876 672.502 Q202.704 676.044 206.315 676.044 Q209.95 676.044 211.755 672.502 Q213.584 668.937 213.584 661.831 Q213.584 654.701 211.755 651.16 Q209.95 647.595 206.315 647.595 M206.315 643.891 Q212.126 643.891 215.181 648.498 Q218.26 653.081 218.26 661.831 Q218.26 670.558 215.181 675.164 Q212.126 679.748 206.315 679.748 Q200.505 679.748 197.427 675.164 Q194.371 670.558 194.371 661.831 Q194.371 653.081 197.427 648.498 Q200.505 643.891 206.315 643.891 Z\" fill=\"#000000\" fill-rule=\"evenodd\" fill-opacity=\"1\" /><path clip-path=\"url(#clip530)\" d=\"M236.477 647.595 Q232.866 647.595 231.037 651.16 Q229.232 654.701 229.232 661.831 Q229.232 668.937 231.037 672.502 Q232.866 676.044 236.477 676.044 Q240.111 676.044 241.917 672.502 Q243.746 668.937 243.746 661.831 Q243.746 654.701 241.917 651.16 Q240.111 647.595 236.477 647.595 M236.477 643.891 Q242.287 643.891 245.343 648.498 Q248.422 653.081 248.422 661.831 Q248.422 670.558 245.343 675.164 Q242.287 679.748 236.477 679.748 Q230.667 679.748 227.588 675.164 Q224.533 670.558 224.533 661.831 Q224.533 653.081 227.588 648.498 Q230.667 643.891 236.477 643.891 Z\" fill=\"#000000\" fill-rule=\"evenodd\" fill-opacity=\"1\" /><path clip-path=\"url(#clip530)\" d=\"M101.756 355.382 Q98.1447 355.382 96.316 358.947 Q94.5104 362.488 94.5104 369.618 Q94.5104 376.724 96.316 380.289 Q98.1447 383.831 101.756 383.831 Q105.39 383.831 107.196 380.289 Q109.024 376.724 109.024 369.618 Q109.024 362.488 107.196 358.947 Q105.39 355.382 101.756 355.382 M101.756 351.678 Q107.566 351.678 110.621 356.285 Q113.7 360.868 113.7 369.618 Q113.7 378.345 110.621 382.951 Q107.566 387.534 101.756 387.534 Q95.9456 387.534 92.8669 382.951 Q89.8114 378.345 89.8114 369.618 Q89.8114 360.868 92.8669 356.285 Q95.9456 351.678 101.756 351.678 Z\" fill=\"#000000\" fill-rule=\"evenodd\" fill-opacity=\"1\" /><path clip-path=\"url(#clip530)\" d=\"M121.918 380.984 L126.802 380.984 L126.802 386.863 L121.918 386.863 L121.918 380.984 Z\" fill=\"#000000\" fill-rule=\"evenodd\" fill-opacity=\"1\" /><path clip-path=\"url(#clip530)\" d=\"M146.987 355.382 Q143.376 355.382 141.547 358.947 Q139.742 362.488 139.742 369.618 Q139.742 376.724 141.547 380.289 Q143.376 383.831 146.987 383.831 Q150.621 383.831 152.427 380.289 Q154.255 376.724 154.255 369.618 Q154.255 362.488 152.427 358.947 Q150.621 355.382 146.987 355.382 M146.987 351.678 Q152.797 351.678 155.853 356.285 Q158.931 360.868 158.931 369.618 Q158.931 378.345 155.853 382.951 Q152.797 387.534 146.987 387.534 Q141.177 387.534 138.098 382.951 Q135.043 378.345 135.043 369.618 Q135.043 360.868 138.098 356.285 Q141.177 351.678 146.987 351.678 Z\" fill=\"#000000\" fill-rule=\"evenodd\" fill-opacity=\"1\" /><path clip-path=\"url(#clip530)\" d=\"M177.149 355.382 Q173.538 355.382 171.709 358.947 Q169.904 362.488 169.904 369.618 Q169.904 376.724 171.709 380.289 Q173.538 383.831 177.149 383.831 Q180.783 383.831 182.589 380.289 Q184.417 376.724 184.417 369.618 Q184.417 362.488 182.589 358.947 Q180.783 355.382 177.149 355.382 M177.149 351.678 Q182.959 351.678 186.015 356.285 Q189.093 360.868 189.093 369.618 Q189.093 378.345 186.015 382.951 Q182.959 387.534 177.149 387.534 Q171.339 387.534 168.26 382.951 Q165.204 378.345 165.204 369.618 Q165.204 360.868 168.26 356.285 Q171.339 351.678 177.149 351.678 Z\" fill=\"#000000\" fill-rule=\"evenodd\" fill-opacity=\"1\" /><path clip-path=\"url(#clip530)\" d=\"M201.339 382.928 L217.658 382.928 L217.658 386.863 L195.714 386.863 L195.714 382.928 Q198.376 380.173 202.959 375.544 Q207.565 370.891 208.746 369.548 Q210.991 367.025 211.871 365.289 Q212.774 363.53 212.774 361.84 Q212.774 359.086 210.829 357.349 Q208.908 355.613 205.806 355.613 Q203.607 355.613 201.153 356.377 Q198.723 357.141 195.945 358.692 L195.945 353.97 Q198.769 352.836 201.223 352.257 Q203.676 351.678 205.714 351.678 Q211.084 351.678 214.278 354.363 Q217.473 357.048 217.473 361.539 Q217.473 363.669 216.663 365.59 Q215.876 367.488 213.769 370.081 Q213.19 370.752 210.088 373.97 Q206.987 377.164 201.339 382.928 Z\" fill=\"#000000\" fill-rule=\"evenodd\" fill-opacity=\"1\" /><path clip-path=\"url(#clip530)\" d=\"M227.519 352.303 L245.875 352.303 L245.875 356.238 L231.801 356.238 L231.801 364.71 Q232.82 364.363 233.838 364.201 Q234.857 364.016 235.875 364.016 Q241.662 364.016 245.042 367.187 Q248.422 370.359 248.422 375.775 Q248.422 381.354 244.949 384.456 Q241.477 387.534 235.158 387.534 Q232.982 387.534 230.713 387.164 Q228.468 386.794 226.061 386.053 L226.061 381.354 Q228.144 382.488 230.366 383.044 Q232.588 383.599 235.065 383.599 Q239.07 383.599 241.408 381.493 Q243.746 379.386 243.746 375.775 Q243.746 372.164 241.408 370.058 Q239.07 367.951 235.065 367.951 Q233.19 367.951 231.315 368.368 Q229.463 368.785 227.519 369.664 L227.519 352.303 Z\" fill=\"#000000\" fill-rule=\"evenodd\" fill-opacity=\"1\" /><path clip-path=\"url(#clip530)\" d=\"M1099.41 12.096 L1107.6 12.096 L1107.6 72.576 L1099.41 72.576 L1099.41 12.096 Z\" fill=\"#000000\" fill-rule=\"evenodd\" fill-opacity=\"1\" /><path clip-path=\"url(#clip530)\" d=\"M1161.27 45.1919 L1161.27 72.576 L1153.82 72.576 L1153.82 45.4349 Q1153.82 38.994 1151.31 35.7938 Q1148.8 32.5936 1143.77 32.5936 Q1137.74 32.5936 1134.25 36.4419 Q1130.77 40.2903 1130.77 46.9338 L1130.77 72.576 L1123.27 72.576 L1123.27 27.2059 L1130.77 27.2059 L1130.77 34.2544 Q1133.44 30.163 1137.05 28.1376 Q1140.69 26.1121 1145.43 26.1121 Q1153.25 26.1121 1157.26 30.9732 Q1161.27 35.7938 1161.27 45.1919 Z\" fill=\"#000000\" fill-rule=\"evenodd\" fill-opacity=\"1\" /><path clip-path=\"url(#clip530)\" d=\"M1176.14 27.2059 L1183.59 27.2059 L1183.59 72.576 L1176.14 72.576 L1176.14 27.2059 M1176.14 9.54393 L1183.59 9.54393 L1183.59 18.9825 L1176.14 18.9825 L1176.14 9.54393 Z\" fill=\"#000000\" fill-rule=\"evenodd\" fill-opacity=\"1\" /><path clip-path=\"url(#clip530)\" d=\"M1206.56 14.324 L1206.56 27.2059 L1221.91 27.2059 L1221.91 32.9987 L1206.56 32.9987 L1206.56 57.6282 Q1206.56 63.1779 1208.06 64.7578 Q1209.6 66.3376 1214.26 66.3376 L1221.91 66.3376 L1221.91 72.576 L1214.26 72.576 Q1205.63 72.576 1202.35 69.3758 Q1199.07 66.1351 1199.07 57.6282 L1199.07 32.9987 L1193.6 32.9987 L1193.6 27.2059 L1199.07 27.2059 L1199.07 14.324 L1206.56 14.324 Z\" fill=\"#000000\" fill-rule=\"evenodd\" fill-opacity=\"1\" /><path clip-path=\"url(#clip530)\" d=\"M1231.72 27.2059 L1239.17 27.2059 L1239.17 72.576 L1231.72 72.576 L1231.72 27.2059 M1231.72 9.54393 L1239.17 9.54393 L1239.17 18.9825 L1231.72 18.9825 L1231.72 9.54393 Z\" fill=\"#000000\" fill-rule=\"evenodd\" fill-opacity=\"1\" /><path clip-path=\"url(#clip530)\" d=\"M1275.39 49.7694 Q1266.35 49.7694 1262.87 51.8354 Q1259.38 53.9013 1259.38 58.8839 Q1259.38 62.8538 1261.98 65.2034 Q1264.61 67.5124 1269.11 67.5124 Q1275.3 67.5124 1279.03 63.1374 Q1282.8 58.7219 1282.8 51.4303 L1282.8 49.7694 L1275.39 49.7694 M1290.25 46.6907 L1290.25 72.576 L1282.8 72.576 L1282.8 65.6895 Q1280.25 69.8214 1276.44 71.8063 Q1272.63 73.7508 1267.12 73.7508 Q1260.15 73.7508 1256.02 69.8619 Q1251.93 65.9325 1251.93 59.3701 Q1251.93 51.7138 1257.04 47.825 Q1262.18 43.9361 1272.35 43.9361 L1282.8 43.9361 L1282.8 43.2069 Q1282.8 38.0623 1279.4 35.2672 Q1276.03 32.4315 1269.92 32.4315 Q1266.03 32.4315 1262.34 33.3632 Q1258.66 34.295 1255.25 36.1584 L1255.25 29.2718 Q1259.34 27.692 1263.19 26.9223 Q1267.04 26.1121 1270.69 26.1121 Q1280.53 26.1121 1285.39 31.2163 Q1290.25 36.3204 1290.25 46.6907 Z\" fill=\"#000000\" fill-rule=\"evenodd\" fill-opacity=\"1\" /><path clip-path=\"url(#clip530)\" d=\"M1305.61 9.54393 L1313.06 9.54393 L1313.06 72.576 L1305.61 72.576 L1305.61 9.54393 Z\" fill=\"#000000\" fill-rule=\"evenodd\" fill-opacity=\"1\" /><path clip-path=\"url(#clip530)\" d=\"M1363.53 18.8205 L1363.53 65.8515 L1373.42 65.8515 Q1385.94 65.8515 1391.73 60.1802 Q1397.56 54.509 1397.56 42.2752 Q1397.56 30.1225 1391.73 24.4918 Q1385.94 18.8205 1373.42 18.8205 L1363.53 18.8205 M1355.35 12.096 L1372.16 12.096 Q1389.74 12.096 1397.97 19.4281 Q1406.19 26.7198 1406.19 42.2752 Q1406.19 57.9117 1397.93 65.2439 Q1389.66 72.576 1372.16 72.576 L1355.35 72.576 L1355.35 12.096 Z\" fill=\"#000000\" fill-rule=\"evenodd\" fill-opacity=\"1\" /><path clip-path=\"url(#clip530)\" d=\"M1439.53 49.7694 Q1430.49 49.7694 1427.01 51.8354 Q1423.53 53.9013 1423.53 58.8839 Q1423.53 62.8538 1426.12 65.2034 Q1428.75 67.5124 1433.25 67.5124 Q1439.45 67.5124 1443.17 63.1374 Q1446.94 58.7219 1446.94 51.4303 L1446.94 49.7694 L1439.53 49.7694 M1454.4 46.6907 L1454.4 72.576 L1446.94 72.576 L1446.94 65.6895 Q1444.39 69.8214 1440.58 71.8063 Q1436.77 73.7508 1431.26 73.7508 Q1424.3 73.7508 1420.17 69.8619 Q1416.07 65.9325 1416.07 59.3701 Q1416.07 51.7138 1421.18 47.825 Q1426.32 43.9361 1436.49 43.9361 L1446.94 43.9361 L1446.94 43.2069 Q1446.94 38.0623 1443.54 35.2672 Q1440.18 32.4315 1434.06 32.4315 Q1430.17 32.4315 1426.48 33.3632 Q1422.8 34.295 1419.4 36.1584 L1419.4 29.2718 Q1423.49 27.692 1427.34 26.9223 Q1431.18 26.1121 1434.83 26.1121 Q1444.67 26.1121 1449.53 31.2163 Q1454.4 36.3204 1454.4 46.6907 Z\" fill=\"#000000\" fill-rule=\"evenodd\" fill-opacity=\"1\" /><path clip-path=\"url(#clip530)\" d=\"M1477.12 14.324 L1477.12 27.2059 L1492.47 27.2059 L1492.47 32.9987 L1477.12 32.9987 L1477.12 57.6282 Q1477.12 63.1779 1478.62 64.7578 Q1480.16 66.3376 1484.82 66.3376 L1492.47 66.3376 L1492.47 72.576 L1484.82 72.576 Q1476.19 72.576 1472.91 69.3758 Q1469.63 66.1351 1469.63 57.6282 L1469.63 32.9987 L1464.16 32.9987 L1464.16 27.2059 L1469.63 27.2059 L1469.63 14.324 L1477.12 14.324 Z\" fill=\"#000000\" fill-rule=\"evenodd\" fill-opacity=\"1\" /><path clip-path=\"url(#clip530)\" d=\"M1522.9 49.7694 Q1513.86 49.7694 1510.38 51.8354 Q1506.9 53.9013 1506.9 58.8839 Q1506.9 62.8538 1509.49 65.2034 Q1512.12 67.5124 1516.62 67.5124 Q1522.82 67.5124 1526.54 63.1374 Q1530.31 58.7219 1530.31 51.4303 L1530.31 49.7694 L1522.9 49.7694 M1537.76 46.6907 L1537.76 72.576 L1530.31 72.576 L1530.31 65.6895 Q1527.76 69.8214 1523.95 71.8063 Q1520.14 73.7508 1514.63 73.7508 Q1507.66 73.7508 1503.53 69.8619 Q1499.44 65.9325 1499.44 59.3701 Q1499.44 51.7138 1504.55 47.825 Q1509.69 43.9361 1519.86 43.9361 L1530.31 43.9361 L1530.31 43.2069 Q1530.31 38.0623 1526.91 35.2672 Q1523.54 32.4315 1517.43 32.4315 Q1513.54 32.4315 1509.85 33.3632 Q1506.17 34.295 1502.76 36.1584 L1502.76 29.2718 Q1506.85 27.692 1510.7 26.9223 Q1514.55 26.1121 1518.2 26.1121 Q1528.04 26.1121 1532.9 31.2163 Q1537.76 36.3204 1537.76 46.6907 Z\" fill=\"#000000\" fill-rule=\"evenodd\" fill-opacity=\"1\" /><polyline clip-path=\"url(#clip532)\" style=\"stroke:#009af9; stroke-linecap:round; stroke-linejoin:round; stroke-width:4; stroke-opacity:1; fill:none\" points=\"342.959,661.796 352.716,661.796 362.472,661.796 372.228,661.796 381.985,661.796 391.741,661.796 401.497,661.796 411.253,661.796 421.01,661.796 430.766,661.796 440.522,661.796 450.279,661.796 460.035,661.796 469.791,661.796 479.547,661.796 489.304,661.796 499.06,661.796 508.816,661.796 518.573,661.796 528.329,661.796 538.085,661.796 547.842,661.796 557.598,661.796 567.354,661.796 577.11,661.796 586.867,661.796 596.623,661.796 606.379,661.796 616.136,661.796 625.892,661.796 635.648,661.796 645.404,661.796 655.161,661.796 664.917,661.796 674.673,661.796 684.43,661.796 694.186,661.796 703.942,661.796 713.699,661.796 723.455,661.796 733.211,661.796 742.967,661.796 752.724,661.796 762.48,661.796 772.236,661.796 781.993,661.796 791.749,661.796 801.505,661.796 811.261,661.796 821.018,661.796 830.774,661.796 840.53,661.796 850.287,661.796 860.043,661.796 869.799,661.795 879.556,661.795 889.312,661.795 899.068,661.794 908.824,661.794 918.581,661.793 928.337,661.792 938.093,661.791 947.85,661.789 957.606,661.788 967.362,661.785 977.118,661.783 986.875,661.78 996.631,661.776 1006.39,661.772 1016.14,661.767 1025.9,661.761 1035.66,661.754 1045.41,661.746 1055.17,661.738 1064.93,661.728 1074.68,661.718 1084.44,661.706 1094.19,661.695 1103.95,661.682 1113.71,661.67 1123.46,661.657 1133.22,661.646 1142.98,661.634 1152.73,661.624 1162.49,661.616 1172.24,661.609 1182,661.604 1191.76,661.601 1201.51,661.599 1211.27,661.599 1221.03,661.599 1230.78,661.598 1240.54,661.596 1250.29,661.592 1260.05,661.584 1269.81,661.57 1279.56,661.552 1289.32,661.527 1299.08,661.496 1308.83,661.46 1318.59,661.418 1328.35,661.374 1338.1,661.327 1347.86,661.28 1357.61,661.235 1367.37,661.193 1377.13,661.156 1386.88,661.123 1396.64,661.096 1406.4,661.075 1416.15,661.059 1425.91,661.047 1435.66,661.038 1445.42,661.033 1455.18,661.029 1464.93,661.027 1474.69,661.026 1484.45,661.025 1494.2,661.025 1503.96,661.025 1513.71,661.024 1523.47,661.024 1533.23,661.024 1542.98,661.024 1552.74,661.024 1562.5,661.024 1572.25,661.024 1582.01,661.024 1591.76,661.024 1601.52,661.024 1611.28,661.024 1621.03,661.024 1630.79,661.024 1640.55,661.024 1650.3,661.024 1660.06,661.024 1669.82,661.024 1679.57,661.024 1689.33,661.024 1699.08,661.024 1708.84,661.024 1718.6,661.024 1728.35,661.024 1738.11,661.024 1747.87,661.024 1757.62,661.024 1767.38,661.024 1777.13,661.024 1786.89,661.024 1796.65,661.024 1806.4,661.024 1816.16,661.024 1825.92,661.024 1835.67,661.024 1845.43,661.024 1855.18,661.024 1864.94,661.024 1874.7,661.024 1884.45,661.024 1894.21,661.024 1903.97,661.024 1913.72,661.024 1923.48,661.024 1933.24,661.024 1942.99,661.024 1952.75,661.024 1962.5,661.024 1972.26,661.024 1982.02,661.024 1991.77,661.024 2001.53,661.024 2011.29,661.024 2021.04,661.024 2030.8,661.024 2040.55,661.024 2050.31,661.024 2060.07,661.024 2069.82,661.024 2079.58,661.024 2089.34,661.024 2099.09,661.024 2108.85,661.024 2118.6,661.024 2128.36,661.024 2138.12,661.024 2147.87,661.024 2157.63,661.024 2167.39,661.024 2177.14,661.024 2186.9,661.024 2196.66,661.024 2206.41,661.024 2216.17,661.024 2225.92,661.024 2235.68,661.024 2245.44,661.024 2255.19,661.024 2264.95,661.024 2274.71,661.024 2284.46,661.024 2294.22,661.024 \"/>\n",
       "<polyline clip-path=\"url(#clip532)\" style=\"stroke:#e26f46; stroke-linecap:round; stroke-linejoin:round; stroke-width:4; stroke-opacity:1; fill:none\" points=\"342.959,661.796 352.716,661.796 362.472,661.796 372.228,661.796 381.985,661.796 391.741,661.796 401.497,661.796 411.253,661.796 421.01,661.796 430.766,661.796 440.522,661.796 450.279,661.796 460.035,661.796 469.791,661.796 479.547,661.796 489.304,661.796 499.06,661.796 508.816,661.796 518.573,661.796 528.329,661.796 538.085,661.796 547.842,661.796 557.598,661.796 567.354,661.796 577.11,661.796 586.867,661.796 596.623,661.796 606.379,661.796 616.136,661.796 625.892,661.796 635.648,661.796 645.404,661.796 655.161,661.796 664.917,661.796 674.673,661.796 684.43,661.796 694.186,661.796 703.942,661.796 713.699,661.796 723.455,661.796 733.211,661.796 742.967,661.796 752.724,661.796 762.48,661.796 772.236,661.796 781.993,661.796 791.749,661.796 801.505,661.796 811.261,661.796 821.018,661.795 830.774,661.795 840.53,661.795 850.287,661.794 860.043,661.794 869.799,661.793 879.556,661.793 889.312,661.792 899.068,661.79 908.824,661.789 918.581,661.787 928.337,661.785 938.093,661.782 947.85,661.779 957.606,661.775 967.362,661.771 977.118,661.765 986.875,661.759 996.631,661.752 1006.39,661.743 1016.14,661.733 1025.9,661.722 1035.66,661.71 1045.41,661.696 1055.17,661.681 1064.93,661.664 1074.68,661.647 1084.44,661.628 1094.19,661.609 1103.95,661.59 1113.71,661.57 1123.46,661.552 1133.22,661.534 1142.98,661.518 1152.73,661.503 1162.49,661.492 1172.24,661.482 1182,661.476 1191.76,661.471 1201.51,661.469 1211.27,661.469 1221.03,661.469 1230.78,661.468 1240.54,661.466 1250.29,661.461 1260.05,661.451 1269.81,661.437 1279.56,661.416 1289.32,661.39 1299.08,661.357 1308.83,661.32 1318.59,661.278 1328.35,661.234 1338.1,661.188 1347.86,661.144 1357.61,661.102 1367.37,661.063 1377.13,661.03 1386.88,661.001 1396.64,660.978 1406.4,660.96 1416.15,660.947 1425.91,660.937 1435.66,660.93 1445.42,660.926 1455.18,660.923 1464.93,660.922 1474.69,660.921 1484.45,660.92 1494.2,660.92 1503.96,660.92 1513.71,660.92 1523.47,660.92 1533.23,660.92 1542.98,660.92 1552.74,660.92 1562.5,660.92 1572.25,660.92 1582.01,660.92 1591.76,660.92 1601.52,660.92 1611.28,660.92 1621.03,660.92 1630.79,660.92 1640.55,660.92 1650.3,660.92 1660.06,660.92 1669.82,660.92 1679.57,660.92 1689.33,660.92 1699.08,660.92 1708.84,660.92 1718.6,660.92 1728.35,660.92 1738.11,660.92 1747.87,660.92 1757.62,660.92 1767.38,660.92 1777.13,660.92 1786.89,660.92 1796.65,660.92 1806.4,660.92 1816.16,660.92 1825.92,660.92 1835.67,660.92 1845.43,660.92 1855.18,660.92 1864.94,660.92 1874.7,660.92 1884.45,660.92 1894.21,660.92 1903.97,660.92 1913.72,660.92 1923.48,660.92 1933.24,660.92 1942.99,660.92 1952.75,660.92 1962.5,660.92 1972.26,660.92 1982.02,660.92 1991.77,660.92 2001.53,660.92 2011.29,660.92 2021.04,660.92 2030.8,660.92 2040.55,660.92 2050.31,660.92 2060.07,660.92 2069.82,660.92 2079.58,660.92 2089.34,660.92 2099.09,660.92 2108.85,660.92 2118.6,660.92 2128.36,660.92 2138.12,660.92 2147.87,660.92 2157.63,660.92 2167.39,660.92 2177.14,660.92 2186.9,660.92 2196.66,660.92 2206.41,660.92 2216.17,660.92 2225.92,660.92 2235.68,660.92 2245.44,660.92 2255.19,660.92 2264.95,660.92 2274.71,660.92 2284.46,660.92 2294.22,660.92 \"/>\n",
       "<polyline clip-path=\"url(#clip532)\" style=\"stroke:#3da44d; stroke-linecap:round; stroke-linejoin:round; stroke-width:4; stroke-opacity:1; fill:none\" points=\"342.959,661.796 352.716,661.796 362.472,661.796 372.228,661.796 381.985,661.796 391.741,661.796 401.497,661.796 411.253,661.796 421.01,661.796 430.766,661.796 440.522,661.796 450.279,661.796 460.035,661.796 469.791,661.796 479.547,661.796 489.304,661.795 499.06,661.795 508.816,661.795 518.573,661.794 528.329,661.794 538.085,661.793 547.842,661.792 557.598,661.791 567.354,661.789 577.11,661.788 586.867,661.785 596.623,661.783 606.379,661.78 616.136,661.776 625.892,661.771 635.648,661.766 645.404,661.759 655.161,661.751 664.917,661.742 674.673,661.73 684.43,661.717 694.186,661.701 703.942,661.682 713.699,661.66 723.455,661.634 733.211,661.604 742.967,661.568 752.724,661.526 762.48,661.477 772.236,661.42 781.993,661.353 791.749,661.276 801.505,661.186 811.261,661.082 821.018,660.962 830.774,660.824 840.53,660.665 850.287,660.483 860.043,660.274 869.799,660.034 879.556,659.762 889.312,659.451 899.068,659.098 908.824,658.699 918.581,658.247 928.337,657.738 938.093,657.166 947.85,656.525 957.606,655.808 967.362,655.009 977.118,654.121 986.875,653.139 996.631,652.055 1006.39,650.865 1016.14,649.561 1025.9,648.141 1035.66,646.599 1045.41,644.935 1055.17,643.146 1064.93,641.235 1074.68,639.204 1084.44,637.06 1094.19,634.812 1103.95,632.473 1113.71,630.058 1123.46,627.589 1133.22,625.087 1142.98,622.583 1152.73,620.108 1162.49,617.699 1172.24,615.395 1182,613.237 1191.76,611.272 1201.51,609.544 1211.27,608.099 1221.03,606.98 1230.78,606.226 1240.54,605.874 1250.29,605.952 1260.05,606.479 1269.81,607.466 1279.56,608.91 1289.32,610.798 1299.08,613.104 1308.83,615.787 1318.59,618.797 1328.35,622.071 1338.1,625.541 1347.86,629.129 1357.61,632.758 1367.37,636.35 1377.13,639.831 1386.88,643.134 1396.64,646.205 1406.4,648.999 1416.15,651.487 1425.91,653.654 1435.66,655.499 1445.42,657.033 1455.18,658.276 1464.93,659.259 1474.69,660.015 1484.45,660.58 1494.2,660.99 1503.96,661.278 1513.71,661.474 1523.47,661.603 1533.23,661.685 1542.98,661.734 1552.74,661.763 1562.5,661.779 1572.25,661.788 1582.01,661.793 1591.76,661.795 1601.52,661.796 1611.28,661.796 1621.03,661.796 1630.79,661.796 1640.55,661.796 1650.3,661.796 1660.06,661.796 1669.82,661.796 1679.57,661.796 1689.33,661.796 1699.08,661.796 1708.84,661.796 1718.6,661.796 1728.35,661.796 1738.11,661.796 1747.87,661.796 1757.62,661.796 1767.38,661.796 1777.13,661.796 1786.89,661.796 1796.65,661.796 1806.4,661.796 1816.16,661.796 1825.92,661.796 1835.67,661.796 1845.43,661.796 1855.18,661.796 1864.94,661.796 1874.7,661.796 1884.45,661.796 1894.21,661.796 1903.97,661.796 1913.72,661.796 1923.48,661.796 1933.24,661.796 1942.99,661.796 1952.75,661.796 1962.5,661.796 1972.26,661.796 1982.02,661.796 1991.77,661.796 2001.53,661.796 2011.29,661.796 2021.04,661.796 2030.8,661.796 2040.55,661.796 2050.31,661.796 2060.07,661.796 2069.82,661.796 2079.58,661.796 2089.34,661.796 2099.09,661.796 2108.85,661.796 2118.6,661.796 2128.36,661.796 2138.12,661.796 2147.87,661.796 2157.63,661.796 2167.39,661.796 2177.14,661.796 2186.9,661.796 2196.66,661.796 2206.41,661.796 2216.17,661.796 2225.92,661.796 2235.68,661.796 2245.44,661.796 2255.19,661.796 2264.95,661.796 2274.71,661.796 2284.46,661.796 2294.22,661.796 \"/>\n",
       "<polyline clip-path=\"url(#clip532)\" style=\"stroke:#c271d2; stroke-linecap:round; stroke-linejoin:round; stroke-width:4; stroke-opacity:1; fill:none\" points=\"342.959,661.796 352.716,661.796 362.472,661.796 372.228,661.796 381.985,661.795 391.741,661.794 401.497,661.793 411.253,661.792 421.01,661.79 430.766,661.787 440.522,661.783 450.279,661.779 460.035,661.773 469.791,661.765 479.547,661.756 489.304,661.744 499.06,661.729 508.816,661.711 518.573,661.689 528.329,661.661 538.085,661.628 547.842,661.588 557.598,661.539 567.354,661.48 577.11,661.409 586.867,661.324 596.623,661.223 606.379,661.102 616.136,660.958 625.892,660.787 635.648,660.585 645.404,660.346 655.161,660.064 664.917,659.733 674.673,659.344 684.43,658.888 694.186,658.354 703.942,657.731 713.699,657.005 723.455,656.16 733.211,655.179 742.967,654.043 752.724,652.729 762.48,651.212 772.236,649.465 781.993,647.456 791.749,645.152 801.505,642.515 811.261,639.502 821.018,636.069 830.774,632.166 840.53,627.74 850.287,622.732 860.043,617.083 869.799,610.727 879.556,603.596 889.312,595.622 899.068,586.732 908.824,576.856 918.581,565.924 928.337,553.871 938.093,540.635 947.85,526.165 957.606,510.422 967.362,493.382 977.118,475.04 986.875,455.417 996.631,434.563 1006.39,412.567 1016.14,389.555 1025.9,365.703 1035.66,341.242 1045.41,316.462 1055.17,291.716 1064.93,267.428 1074.68,244.092 1084.44,222.274 1094.19,202.61 1103.95,185.801 1113.71,172.602 1123.46,163.813 1133.22,160.256 1142.98,162.755 1152.73,172.104 1162.49,189.04 1172.24,214.198 1182,248.073 1191.76,290.974 1201.51,342.984 1211.27,403.912 1221.03,473.263 1230.78,550.205 1240.54,633.557 1250.29,721.786 1260.05,813.029 1269.81,905.132 1279.56,995.711 1289.32,1082.24 1299.08,1162.16 1308.83,1232.98 1318.59,1292.46 1328.35,1338.67 1338.1,1370.2 1347.86,1386.17 1357.61,1386.4 1367.37,1371.37 1377.13,1342.26 1386.88,1300.87 1396.64,1249.49 1406.4,1190.8 1416.15,1127.63 1425.91,1062.85 1435.66,999.086 1445.42,938.647 1455.18,883.349 1464.93,834.456 1474.69,792.665 1484.45,758.134 1494.2,730.568 1503.96,709.324 1513.71,693.539 1523.47,682.243 1533.23,674.473 1542.98,669.343 1552.74,666.1 1562.5,664.141 1572.25,663.013 1582.01,662.396 1591.76,662.076 1601.52,661.919 1611.28,661.847 1621.03,661.816 1630.79,661.803 1640.55,661.799 1650.3,661.797 1660.06,661.796 1669.82,661.796 1679.57,661.796 1689.33,661.796 1699.08,661.796 1708.84,661.796 1718.6,661.796 1728.35,661.796 1738.11,661.796 1747.87,661.796 1757.62,661.796 1767.38,661.796 1777.13,661.796 1786.89,661.796 1796.65,661.796 1806.4,661.796 1816.16,661.796 1825.92,661.796 1835.67,661.796 1845.43,661.796 1855.18,661.796 1864.94,661.796 1874.7,661.796 1884.45,661.796 1894.21,661.796 1903.97,661.796 1913.72,661.796 1923.48,661.796 1933.24,661.796 1942.99,661.796 1952.75,661.796 1962.5,661.796 1972.26,661.796 1982.02,661.796 1991.77,661.796 2001.53,661.796 2011.29,661.796 2021.04,661.796 2030.8,661.796 2040.55,661.796 2050.31,661.796 2060.07,661.796 2069.82,661.796 2079.58,661.796 2089.34,661.796 2099.09,661.796 2108.85,661.796 2118.6,661.796 2128.36,661.796 2138.12,661.796 2147.87,661.796 2157.63,661.796 2167.39,661.796 2177.14,661.796 2186.9,661.796 2196.66,661.796 2206.41,661.796 2216.17,661.796 2225.92,661.796 2235.68,661.796 2245.44,661.796 2255.19,661.796 2264.95,661.796 2274.71,661.796 2284.46,661.796 2294.22,661.796 \"/>\n",
       "<path clip-path=\"url(#clip530)\" d=\"M1971.75 425.996 L2283.81 425.996 L2283.81 166.796 L1971.75 166.796  Z\" fill=\"#ffffff\" fill-rule=\"evenodd\" fill-opacity=\"1\"/>\n",
       "<polyline clip-path=\"url(#clip530)\" style=\"stroke:#000000; stroke-linecap:round; stroke-linejoin:round; stroke-width:4; stroke-opacity:1; fill:none\" points=\"1971.75,425.996 2283.81,425.996 2283.81,166.796 1971.75,166.796 1971.75,425.996 \"/>\n",
       "<polyline clip-path=\"url(#clip530)\" style=\"stroke:#009af9; stroke-linecap:round; stroke-linejoin:round; stroke-width:4; stroke-opacity:1; fill:none\" points=\"1994.73,218.636 2132.62,218.636 \"/>\n",
       "<path clip-path=\"url(#clip530)\" d=\"M2175.95 214.967 Q2177.54 212.096 2179.77 210.731 Q2181.99 209.365 2185 209.365 Q2189.05 209.365 2191.25 212.212 Q2193.45 215.036 2193.45 220.268 L2193.45 235.916 L2189.16 235.916 L2189.16 220.407 Q2189.16 216.68 2187.84 214.874 Q2186.52 213.069 2183.82 213.069 Q2180.51 213.069 2178.59 215.268 Q2176.66 217.467 2176.66 221.263 L2176.66 235.916 L2172.38 235.916 L2172.38 220.407 Q2172.38 216.657 2171.06 214.874 Q2169.74 213.069 2166.99 213.069 Q2163.72 213.069 2161.8 215.291 Q2159.88 217.49 2159.88 221.263 L2159.88 235.916 L2155.6 235.916 L2155.6 209.99 L2159.88 209.99 L2159.88 214.018 Q2161.34 211.633 2163.38 210.499 Q2165.41 209.365 2168.21 209.365 Q2171.04 209.365 2173.01 210.8 Q2175 212.235 2175.95 214.967 Z\" fill=\"#000000\" fill-rule=\"evenodd\" fill-opacity=\"1\" /><polyline clip-path=\"url(#clip530)\" style=\"stroke:#e26f46; stroke-linecap:round; stroke-linejoin:round; stroke-width:4; stroke-opacity:1; fill:none\" points=\"1994.73,270.476 2132.62,270.476 \"/>\n",
       "<path clip-path=\"url(#clip530)\" d=\"M2174.37 274.816 Q2174.37 270.117 2172.43 267.455 Q2170.51 264.77 2167.13 264.77 Q2163.75 264.77 2161.8 267.455 Q2159.88 270.117 2159.88 274.816 Q2159.88 279.515 2161.8 282.2 Q2163.75 284.862 2167.13 284.862 Q2170.51 284.862 2172.43 282.2 Q2174.37 279.515 2174.37 274.816 M2159.88 265.765 Q2161.22 263.45 2163.26 262.339 Q2165.32 261.205 2168.17 261.205 Q2172.89 261.205 2175.83 264.955 Q2178.79 268.705 2178.79 274.816 Q2178.79 280.927 2175.83 284.677 Q2172.89 288.427 2168.17 288.427 Q2165.32 288.427 2163.26 287.316 Q2161.22 286.182 2159.88 283.867 L2159.88 287.756 L2155.6 287.756 L2155.6 251.737 L2159.88 251.737 L2159.88 265.765 Z\" fill=\"#000000\" fill-rule=\"evenodd\" fill-opacity=\"1\" /><path clip-path=\"url(#clip530)\" d=\"M2208.03 273.728 L2208.03 275.811 L2188.45 275.811 Q2188.72 280.209 2191.08 282.524 Q2193.47 284.816 2197.71 284.816 Q2200.16 284.816 2202.45 284.214 Q2204.77 283.612 2207.03 282.409 L2207.03 286.436 Q2204.74 287.408 2202.33 287.918 Q2199.93 288.427 2197.45 288.427 Q2191.25 288.427 2187.61 284.816 Q2184 281.205 2184 275.047 Q2184 268.682 2187.43 264.955 Q2190.88 261.205 2196.71 261.205 Q2201.94 261.205 2204.97 264.585 Q2208.03 267.941 2208.03 273.728 M2203.77 272.478 Q2203.72 268.983 2201.8 266.899 Q2199.9 264.816 2196.76 264.816 Q2193.19 264.816 2191.04 266.83 Q2188.91 268.844 2188.58 272.501 L2203.77 272.478 Z\" fill=\"#000000\" fill-rule=\"evenodd\" fill-opacity=\"1\" /><path clip-path=\"url(#clip530)\" d=\"M2219.23 254.469 L2219.23 261.83 L2228.01 261.83 L2228.01 265.14 L2219.23 265.14 L2219.23 279.214 Q2219.23 282.385 2220.09 283.288 Q2220.97 284.191 2223.63 284.191 L2228.01 284.191 L2228.01 287.756 L2223.63 287.756 Q2218.7 287.756 2216.83 285.927 Q2214.95 284.075 2214.95 279.214 L2214.95 265.14 L2211.83 265.14 L2211.83 261.83 L2214.95 261.83 L2214.95 254.469 L2219.23 254.469 Z\" fill=\"#000000\" fill-rule=\"evenodd\" fill-opacity=\"1\" /><path clip-path=\"url(#clip530)\" d=\"M2245.39 274.723 Q2240.23 274.723 2238.24 275.904 Q2236.25 277.084 2236.25 279.932 Q2236.25 282.2 2237.73 283.543 Q2239.23 284.862 2241.8 284.862 Q2245.34 284.862 2247.47 282.362 Q2249.63 279.839 2249.63 275.672 L2249.63 274.723 L2245.39 274.723 M2253.89 272.964 L2253.89 287.756 L2249.63 287.756 L2249.63 283.821 Q2248.17 286.182 2245.99 287.316 Q2243.82 288.427 2240.67 288.427 Q2236.69 288.427 2234.33 286.205 Q2231.99 283.959 2231.99 280.209 Q2231.99 275.834 2234.9 273.612 Q2237.84 271.39 2243.65 271.39 L2249.63 271.39 L2249.63 270.973 Q2249.63 268.034 2247.68 266.436 Q2245.76 264.816 2242.27 264.816 Q2240.04 264.816 2237.94 265.348 Q2235.83 265.881 2233.89 266.946 L2233.89 263.01 Q2236.22 262.108 2238.42 261.668 Q2240.62 261.205 2242.71 261.205 Q2248.33 261.205 2251.11 264.122 Q2253.89 267.038 2253.89 272.964 Z\" fill=\"#000000\" fill-rule=\"evenodd\" fill-opacity=\"1\" /><polyline clip-path=\"url(#clip530)\" style=\"stroke:#3da44d; stroke-linecap:round; stroke-linejoin:round; stroke-width:4; stroke-opacity:1; fill:none\" points=\"1994.73,322.316 2132.62,322.316 \"/>\n",
       "<path clip-path=\"url(#clip530)\" d=\"M2159.88 335.707 L2159.88 349.457 L2155.6 349.457 L2155.6 313.67 L2159.88 313.67 L2159.88 317.605 Q2161.22 315.29 2163.26 314.179 Q2165.32 313.045 2168.17 313.045 Q2172.89 313.045 2175.83 316.795 Q2178.79 320.545 2178.79 326.656 Q2178.79 332.767 2175.83 336.517 Q2172.89 340.267 2168.17 340.267 Q2165.32 340.267 2163.26 339.156 Q2161.22 338.022 2159.88 335.707 M2174.37 326.656 Q2174.37 321.957 2172.43 319.295 Q2170.51 316.61 2167.13 316.61 Q2163.75 316.61 2161.8 319.295 Q2159.88 321.957 2159.88 326.656 Q2159.88 331.355 2161.8 334.04 Q2163.75 336.702 2167.13 336.702 Q2170.51 336.702 2172.43 334.04 Q2174.37 331.355 2174.37 326.656 Z\" fill=\"#000000\" fill-rule=\"evenodd\" fill-opacity=\"1\" /><path clip-path=\"url(#clip530)\" d=\"M2202.38 314.434 L2202.38 318.462 Q2200.58 317.536 2198.63 317.073 Q2196.69 316.61 2194.6 316.61 Q2191.43 316.61 2189.83 317.582 Q2188.26 318.554 2188.26 320.499 Q2188.26 321.98 2189.4 322.837 Q2190.53 323.67 2193.96 324.434 L2195.41 324.758 Q2199.95 325.73 2201.85 327.512 Q2203.77 329.272 2203.77 332.443 Q2203.77 336.054 2200.9 338.161 Q2198.05 340.267 2193.05 340.267 Q2190.97 340.267 2188.7 339.85 Q2186.46 339.457 2183.96 338.647 L2183.96 334.249 Q2186.32 335.475 2188.61 336.1 Q2190.9 336.702 2193.15 336.702 Q2196.15 336.702 2197.77 335.684 Q2199.4 334.642 2199.4 332.767 Q2199.4 331.031 2198.21 330.105 Q2197.06 329.179 2193.1 328.323 L2191.62 327.975 Q2187.66 327.142 2185.9 325.429 Q2184.14 323.693 2184.14 320.684 Q2184.14 317.026 2186.73 315.036 Q2189.33 313.045 2194.09 313.045 Q2196.46 313.045 2198.54 313.392 Q2200.62 313.739 2202.38 314.434 Z\" fill=\"#000000\" fill-rule=\"evenodd\" fill-opacity=\"1\" /><path clip-path=\"url(#clip530)\" d=\"M2210.55 313.67 L2214.81 313.67 L2214.81 339.596 L2210.55 339.596 L2210.55 313.67 M2210.55 303.577 L2214.81 303.577 L2214.81 308.971 L2210.55 308.971 L2210.55 303.577 Z\" fill=\"#000000\" fill-rule=\"evenodd\" fill-opacity=\"1\" /><polyline clip-path=\"url(#clip530)\" style=\"stroke:#c271d2; stroke-linecap:round; stroke-linejoin:round; stroke-width:4; stroke-opacity:1; fill:none\" points=\"1994.73,374.156 2132.62,374.156 \"/>\n",
       "<path clip-path=\"url(#clip530)\" d=\"M2159.88 387.547 L2159.88 401.297 L2155.6 401.297 L2155.6 365.51 L2159.88 365.51 L2159.88 369.445 Q2161.22 367.13 2163.26 366.019 Q2165.32 364.885 2168.17 364.885 Q2172.89 364.885 2175.83 368.635 Q2178.79 372.385 2178.79 378.496 Q2178.79 384.607 2175.83 388.357 Q2172.89 392.107 2168.17 392.107 Q2165.32 392.107 2163.26 390.996 Q2161.22 389.862 2159.88 387.547 M2174.37 378.496 Q2174.37 373.797 2172.43 371.135 Q2170.51 368.45 2167.13 368.45 Q2163.75 368.45 2161.8 371.135 Q2159.88 373.797 2159.88 378.496 Q2159.88 383.195 2161.8 385.88 Q2163.75 388.542 2167.13 388.542 Q2170.51 388.542 2172.43 385.88 Q2174.37 383.195 2174.37 378.496 Z\" fill=\"#000000\" fill-rule=\"evenodd\" fill-opacity=\"1\" /><path clip-path=\"url(#clip530)\" d=\"M2202.38 366.274 L2202.38 370.302 Q2200.58 369.376 2198.63 368.913 Q2196.69 368.45 2194.6 368.45 Q2191.43 368.45 2189.83 369.422 Q2188.26 370.394 2188.26 372.339 Q2188.26 373.82 2189.4 374.677 Q2190.53 375.51 2193.96 376.274 L2195.41 376.598 Q2199.95 377.57 2201.85 379.352 Q2203.77 381.112 2203.77 384.283 Q2203.77 387.894 2200.9 390.001 Q2198.05 392.107 2193.05 392.107 Q2190.97 392.107 2188.7 391.69 Q2186.46 391.297 2183.96 390.487 L2183.96 386.089 Q2186.32 387.315 2188.61 387.94 Q2190.9 388.542 2193.15 388.542 Q2196.15 388.542 2197.77 387.524 Q2199.4 386.482 2199.4 384.607 Q2199.4 382.871 2198.21 381.945 Q2197.06 381.019 2193.1 380.163 L2191.62 379.815 Q2187.66 378.982 2185.9 377.269 Q2184.14 375.533 2184.14 372.524 Q2184.14 368.866 2186.73 366.876 Q2189.33 364.885 2194.09 364.885 Q2196.46 364.885 2198.54 365.232 Q2200.62 365.579 2202.38 366.274 Z\" fill=\"#000000\" fill-rule=\"evenodd\" fill-opacity=\"1\" /><path clip-path=\"url(#clip530)\" d=\"M2210.55 365.51 L2214.81 365.51 L2214.81 391.436 L2210.55 391.436 L2210.55 365.51 M2210.55 355.417 L2214.81 355.417 L2214.81 360.811 L2210.55 360.811 L2210.55 355.417 Z\" fill=\"#000000\" fill-rule=\"evenodd\" fill-opacity=\"1\" /><path clip-path=\"url(#clip530)\" d=\"M2224.81 385.556 L2229.7 385.556 L2229.7 389.538 L2225.9 396.945 L2222.91 396.945 L2224.81 389.538 L2224.81 385.556 Z\" fill=\"#000000\" fill-rule=\"evenodd\" fill-opacity=\"1\" /><path clip-path=\"url(#clip530)\" d=\"M2260.34 365.51 L2250.97 378.126 L2260.83 391.436 L2255.81 391.436 L2248.26 381.251 L2240.71 391.436 L2235.69 391.436 L2245.76 377.871 L2236.55 365.51 L2241.57 365.51 L2248.45 374.746 L2255.32 365.51 L2260.34 365.51 Z\" fill=\"#000000\" fill-rule=\"evenodd\" fill-opacity=\"1\" /></svg>\n"
      ]
     },
     "execution_count": 123,
     "metadata": {},
     "output_type": "execute_result"
    }
   ],
   "source": [
    "using Plots #showing initial data and the initial status of the horizon finder\n",
    "plot(initX[4:L-3], state_array[4:L-3,1:4], xaxis=\"x\",title=\"Initial Data\", labels=[\"m\" \"beta\" \"psi\" \"psi,x\"])"
   ]
  },
  {
   "cell_type": "markdown",
   "id": "9b444ece",
   "metadata": {
    "papermill": {
     "duration": 0.009161,
     "end_time": "2023-03-28T18:06:25.373170",
     "exception": false,
     "start_time": "2023-03-28T18:06:25.364009",
     "status": "completed"
    },
    "tags": []
   },
   "source": [
    "# Defining the initial state array for the evolution m β Ψ and Ψ,x"
   ]
  },
  {
   "cell_type": "code",
   "execution_count": 124,
   "id": "9902ffab",
   "metadata": {
    "execution": {
     "iopub.execute_input": "2023-03-28T19:06:25.389000Z",
     "iopub.status.busy": "2023-03-28T19:06:25.388000Z",
     "iopub.status.idle": "2023-03-28T19:06:32.710000Z",
     "shell.execute_reply": "2023-03-28T19:06:32.710000Z"
    },
    "papermill": {
     "duration": 7.335269,
     "end_time": "2023-03-28T18:06:32.715990",
     "exception": false,
     "start_time": "2023-03-28T18:06:25.380721",
     "status": "completed"
    },
    "tags": []
   },
   "outputs": [],
   "source": [
    "using CSV, Tables, Printf\n",
    "#CSV.write(dir*\"/time_step0.csv\", Tables.table(transpose(Matrix(state_array))), writeheader=false)\n",
    "CSV.write(dir*\"/res$res/time_step0.csv\", Tables.table(state_array), writeheader=false)\n",
    "\n",
    "open(dir*\"/res$res/data.txt\", \"w\") do file\n",
    "    print_muninn(file, 0, state_array[:,1:5])\n",
    "end"
   ]
  },
  {
   "cell_type": "code",
   "execution_count": 127,
   "id": "fff1426a",
   "metadata": {
    "execution": {
     "iopub.execute_input": "2023-03-28T19:06:33.154000Z",
     "iopub.status.busy": "2023-03-28T19:06:32.734000Z",
     "iopub.status.idle": "2023-03-28T19:06:33.884000Z",
     "shell.execute_reply": "2023-03-28T19:06:33.884000Z"
    },
    "papermill": {
     "duration": 1.164178,
     "end_time": "2023-03-28T18:06:33.889802",
     "exception": false,
     "start_time": "2023-03-28T18:06:32.725624",
     "status": "completed"
    },
    "tags": []
   },
   "outputs": [
    {
     "data": {
      "text/plain": [
       "\"/home/rita13santos/Desktop/MSc Thesis/Git/ScalarField/DATA/parameters.csv\""
      ]
     },
     "execution_count": 127,
     "metadata": {},
     "output_type": "execute_result"
    }
   ],
   "source": [
    "time=0.0\n",
    "criticality=0.0\n",
    "explode=0.0\n",
    "evol_stats = [criticality A sigma r0 time explode run]\n",
    "monitor_ratio = zeros(L)\n",
    "CSV.write(dir*\"/parameters.csv\", Tables.table(evol_stats), writeheader=true, header=[\"criticality\", \"A\", \"sigma\", \"r0\", \"time\", \"explode\", \"run\"])"
   ]
  },
  {
   "cell_type": "code",
   "execution_count": 128,
   "id": "9e9abd7d",
   "metadata": {},
   "outputs": [
    {
     "name": "stdout",
     "output_type": "stream",
     "text": [
      "1.0\n"
     ]
    }
   ],
   "source": [
    "ginit=dt_scale(initX,state_array[:,1],state_array[:,2],dx)\n",
    "println(update_dt(initX,state_array[:,1],state_array[:,2],dx,ginit)/dt)"
   ]
  },
  {
   "cell_type": "markdown",
   "id": "42e2c73d",
   "metadata": {
    "papermill": {
     "duration": 0.007626,
     "end_time": "2023-03-28T18:06:33.908346",
     "exception": false,
     "start_time": "2023-03-28T18:06:33.900720",
     "status": "completed"
    },
    "tags": []
   },
   "source": [
    " ## Time evolution"
   ]
  },
  {
   "cell_type": "markdown",
   "id": "7da47594",
   "metadata": {
    "papermill": {
     "duration": 0.007471,
     "end_time": "2023-03-28T18:06:33.923805",
     "exception": false,
     "start_time": "2023-03-28T18:06:33.916334",
     "status": "completed"
    },
    "tags": []
   },
   "source": [
    "fixed grid"
   ]
  },
  {
   "cell_type": "code",
   "execution_count": 129,
   "id": "fcb7ae3f",
   "metadata": {
    "execution": {
     "iopub.execute_input": "2023-03-28T19:06:33.940000Z",
     "iopub.status.busy": "2023-03-28T19:06:33.940000Z",
     "iopub.status.idle": "2023-03-28T21:02:19.379000Z",
     "shell.execute_reply": "2023-03-28T21:02:19.378000Z"
    },
    "papermill": {
     "duration": 6945.452732,
     "end_time": "2023-03-28T20:02:19.384591",
     "exception": false,
     "start_time": "2023-03-28T18:06:33.931859",
     "status": "completed"
    },
    "tags": []
   },
   "outputs": [
    {
     "name": "stdout",
     "output_type": "stream",
     "text": [
      "iteration 10 dt is 0.005, time of iteration is 0.05\n",
      "iteration 20 dt is 0.005, time of iteration is 0.1\n",
      "iteration 30 dt is 0.005, time of iteration is 0.15\n",
      "iteration 40 dt is 0.005, time of iteration is 0.2\n",
      "iteration 50 dt is 0.005, time of iteration is 0.25\n",
      "iteration 60 dt is 0.005, time of iteration is 0.3\n",
      "iteration 70 dt is 0.005, time of iteration is 0.35\n",
      "iteration 80 dt is 0.005, time of iteration is 0.4\n",
      "iteration 90 dt is 0.005, time of iteration is 0.45\n",
      "iteration 100 dt is 0.005, time of iteration is 0.5\n",
      "iteration 110 dt is 0.005, time of iteration is 0.55\n",
      "iteration 120 dt is 0.005, time of iteration is 0.6\n",
      "iteration 130 dt is 0.005, time of iteration is 0.65\n",
      "iteration 140 dt is 0.005, time of iteration is 0.7\n",
      "iteration 150 dt is 0.005, time of iteration is 0.75\n",
      "iteration 160 dt is 0.005, time of iteration is 0.8\n",
      "iteration 170 dt is 0.005, time of iteration is 0.85\n",
      "iteration 180 dt is 0.005, time of iteration is 0.9\n",
      "iteration 190 dt is 0.005, time of iteration is 0.95\n",
      "iteration 200 dt is 0.005, time of iteration is 1.0\n",
      "iteration 210 dt is 0.005, time of iteration is 1.05\n",
      "iteration 220 dt is 0.005, time of iteration is 1.1\n",
      "iteration 230 dt is 0.005, time of iteration is 1.15\n",
      "iteration 240 dt is 0.005, time of iteration is 1.2\n",
      "iteration 250 dt is 0.005, time of iteration is 1.25\n",
      "iteration 260 dt is 0.005, time of iteration is 1.3\n"
     ]
    }
   ],
   "source": [
    "finaltime=1.3#0.08*2#0.005*10*5#1#0.9#0.8#0.04*5*4#length(T)-1\n",
    "evol_stats, T_interp = timeevolution(state_array,finaltime,dir*\"/res$res\",run,auxstate_array);\n",
    "CSV.write(dir*\"/timearray$res.csv\", Tables.table(T_interp), writeheader=false);\n",
    "#CSV.write(dir*\"/parameters.csv\", Tables.table(evol_stats), writeheader=false);"
   ]
  },
  {
   "cell_type": "markdown",
   "id": "715897d3",
   "metadata": {
    "papermill": {
     "duration": 0.007626,
     "end_time": "2023-03-28T18:06:33.908346",
     "exception": false,
     "start_time": "2023-03-28T18:06:33.900720",
     "status": "completed"
    },
    "tags": []
   },
   "source": [
    " ## Movie of the evolution"
   ]
  },
  {
   "cell_type": "code",
   "execution_count": 155,
   "id": "973cea47",
   "metadata": {},
   "outputs": [
    {
     "ename": "LoadError",
     "evalue": "ArgumentError: \"/home/rita13santos/Desktop/MSc Thesis/Git/ScalarField/DATA/res3/time_step2500.csv\" is not a valid file or doesn't exist",
     "output_type": "error",
     "traceback": [
      "ArgumentError: \"/home/rita13santos/Desktop/MSc Thesis/Git/ScalarField/DATA/res3/time_step2500.csv\" is not a valid file or doesn't exist",
      "",
      "Stacktrace:",
      " [1] CSV.Context(source::CSV.Arg, header::CSV.Arg, normalizenames::CSV.Arg, datarow::CSV.Arg, skipto::CSV.Arg, footerskip::CSV.Arg, transpose::CSV.Arg, comment::CSV.Arg, ignoreemptyrows::CSV.Arg, ignoreemptylines::CSV.Arg, select::CSV.Arg, drop::CSV.Arg, limit::CSV.Arg, buffer_in_memory::CSV.Arg, threaded::CSV.Arg, ntasks::CSV.Arg, tasks::CSV.Arg, rows_to_check::CSV.Arg, lines_to_check::CSV.Arg, missingstrings::CSV.Arg, missingstring::CSV.Arg, delim::CSV.Arg, ignorerepeated::CSV.Arg, quoted::CSV.Arg, quotechar::CSV.Arg, openquotechar::CSV.Arg, closequotechar::CSV.Arg, escapechar::CSV.Arg, dateformat::CSV.Arg, dateformats::CSV.Arg, decimal::CSV.Arg, truestrings::CSV.Arg, falsestrings::CSV.Arg, stripwhitespace::CSV.Arg, type::CSV.Arg, types::CSV.Arg, typemap::CSV.Arg, pool::CSV.Arg, downcast::CSV.Arg, lazystrings::CSV.Arg, stringtype::CSV.Arg, strict::CSV.Arg, silencewarnings::CSV.Arg, maxwarnings::CSV.Arg, debug::CSV.Arg, parsingdebug::CSV.Arg, validate::CSV.Arg, streaming::CSV.Arg)",
      "   @ CSV ~/.julia/packages/CSV/b8ebJ/src/context.jl:306",
      " [2] #File#28",
      "   @ ~/.julia/packages/CSV/b8ebJ/src/file.jl:221 [inlined]",
      " [3] macro expansion",
      "   @ ./In[155]:8 [inlined]",
      " [4] top-level scope",
      "   @ ~/.julia/packages/Plots/bMtsB/src/animation.jl:251"
     ]
    }
   ],
   "source": [
    "using Plots, CSV, DataFrames\n",
    "import GR\n",
    "anim = @animate for n in 2500:10:4920\n",
    "    \n",
    "    \n",
    "    IJulia.clear_output(true)\n",
    "    \n",
    "    functions3=DataFrame(CSV.File(dir*\"/res$res/time_step$n.csv\",header=false, delim=\",\"))\n",
    "    plot()\n",
    "        plot1=functions3.Column1[4:L-3];\n",
    "        plot2=functions3.Column2[4:L-3];\n",
    "        plot3=functions3.Column3[4:L-3];\n",
    "        plot4=functions3.Column4[4:L-3];\n",
    "        plot5=functions3.Column5[4:L-3];\n",
    "    \n",
    "    plot!(initX1, [plot1 plot2 plot3 plot4], labels=[\"m\" \"beta\" \"psi\" \"psi,x\"], ylim=[-1, 1],xlim=[0.0, 1])#, xlim=[0, 0.1])# |> display \n",
    "    #plot!(initX[4:L-3], [plot1], labels=[\"m\" \"beta\" \"psi\" \"psi,x\"],ylim=[-1,1])#, xlim=[0, 0.1]) |> display \n",
    "    \n",
    "    end\n",
    "\n",
    "gif(anim, \"anim_res$res.gif\", fps = 10)"
   ]
  },
  {
   "cell_type": "code",
   "execution_count": 156,
   "id": "136494ed",
   "metadata": {},
   "outputs": [
    {
     "data": {
      "text/plain": [
       "0.015625"
      ]
     },
     "execution_count": 156,
     "metadata": {},
     "output_type": "execute_result"
    }
   ],
   "source": [
    "epsilon(dt,dx)"
   ]
  },
  {
   "cell_type": "code",
   "execution_count": null,
   "id": "61515e30",
   "metadata": {},
   "outputs": [],
   "source": []
  },
  {
   "cell_type": "code",
   "execution_count": null,
   "id": "1337e83d",
   "metadata": {},
   "outputs": [],
   "source": []
  },
  {
   "cell_type": "code",
   "execution_count": 1056,
   "id": "c6b8b7bc",
   "metadata": {},
   "outputs": [
    {
     "ename": "LoadError",
     "evalue": "ArgumentError: \"/home/rita13santos/Desktop/MSc Thesis/Git/ScalarField/DATA/res3/monitor_ratio10.csv\" is not a valid file or doesn't exist",
     "output_type": "error",
     "traceback": [
      "ArgumentError: \"/home/rita13santos/Desktop/MSc Thesis/Git/ScalarField/DATA/res3/monitor_ratio10.csv\" is not a valid file or doesn't exist",
      "",
      "Stacktrace:",
      " [1] CSV.Context(source::CSV.Arg, header::CSV.Arg, normalizenames::CSV.Arg, datarow::CSV.Arg, skipto::CSV.Arg, footerskip::CSV.Arg, transpose::CSV.Arg, comment::CSV.Arg, ignoreemptyrows::CSV.Arg, ignoreemptylines::CSV.Arg, select::CSV.Arg, drop::CSV.Arg, limit::CSV.Arg, buffer_in_memory::CSV.Arg, threaded::CSV.Arg, ntasks::CSV.Arg, tasks::CSV.Arg, rows_to_check::CSV.Arg, lines_to_check::CSV.Arg, missingstrings::CSV.Arg, missingstring::CSV.Arg, delim::CSV.Arg, ignorerepeated::CSV.Arg, quoted::CSV.Arg, quotechar::CSV.Arg, openquotechar::CSV.Arg, closequotechar::CSV.Arg, escapechar::CSV.Arg, dateformat::CSV.Arg, dateformats::CSV.Arg, decimal::CSV.Arg, truestrings::CSV.Arg, falsestrings::CSV.Arg, stripwhitespace::CSV.Arg, type::CSV.Arg, types::CSV.Arg, typemap::CSV.Arg, pool::CSV.Arg, downcast::CSV.Arg, lazystrings::CSV.Arg, stringtype::CSV.Arg, strict::CSV.Arg, silencewarnings::CSV.Arg, maxwarnings::CSV.Arg, debug::CSV.Arg, parsingdebug::CSV.Arg, validate::CSV.Arg, streaming::CSV.Arg)",
      "   @ CSV ~/.julia/packages/CSV/b8ebJ/src/context.jl:306",
      " [2] #File#28",
      "   @ ~/.julia/packages/CSV/b8ebJ/src/file.jl:221 [inlined]",
      " [3] macro expansion",
      "   @ ./In[1056]:7 [inlined]",
      " [4] top-level scope",
      "   @ ~/.julia/packages/Plots/bMtsB/src/animation.jl:251"
     ]
    }
   ],
   "source": [
    "using Plots, CSV, DataFrames\n",
    "import GR\n",
    "anim = @animate for n in 10:10:1000#length(T)-1\n",
    "    \n",
    "    IJulia.clear_output(true)\n",
    "    \n",
    "    functions3=DataFrame(CSV.File(dir*\"/res$res/monitor_ratio$n.csv\",header=false, delim=\",\"))\n",
    "    plot()\n",
    "        plot1=functions3.Column1[4:L-3];\n",
    "    \n",
    "    plot!(initX1, [plot1], labels=[\"monitor ratio\"], ylim=[0, 1])# |> display \n",
    "    #plot!(initX[4:L-3], [plot1], labels=[\"m\" \"beta\" \"psi\" \"psi,x\"],ylim=[-1,1])#, xlim=[0, 0.1]) |> display \n",
    "    \n",
    "    end\n",
    "\n",
    "gif(anim, \"anim_res$res.gif\", fps = 5)"
   ]
  },
  {
   "cell_type": "code",
   "execution_count": 316,
   "id": "34adf7fe",
   "metadata": {},
   "outputs": [
    {
     "data": {
      "text/plain": [
       "0.001"
      ]
     },
     "execution_count": 316,
     "metadata": {},
     "output_type": "execute_result"
    }
   ],
   "source": [
    "dt"
   ]
  },
  {
   "cell_type": "code",
   "execution_count": 318,
   "id": "af4f5c73",
   "metadata": {},
   "outputs": [
    {
     "data": {
      "text/plain": [
       "0.0078125"
      ]
     },
     "execution_count": 318,
     "metadata": {},
     "output_type": "execute_result"
    }
   ],
   "source": []
  },
  {
   "cell_type": "code",
   "execution_count": null,
   "id": "f2ce4c53",
   "metadata": {},
   "outputs": [],
   "source": []
  },
  {
   "cell_type": "code",
   "execution_count": 31,
   "id": "77840b7c",
   "metadata": {},
   "outputs": [
    {
     "data": {
      "text/plain": [
       "207-element Vector{Float64}:\n",
       " -2.365518250288725e-9\n",
       " -9.136367842295702e-10\n",
       " -2.14954583648039e-10\n",
       "  0.0\n",
       "  6.986152586784135e-13\n",
       "  5.661291067212787e-11\n",
       "  4.3721453478448e-10\n",
       "  1.681826439904089e-9\n",
       "  4.6038562839992895e-9\n",
       "  1.0296050405382373e-8\n",
       "  2.0137407051887777e-8\n",
       "  3.5801665455811194e-8\n",
       "  5.926726083699171e-8\n",
       "  ⋮\n",
       " -0.0\n",
       " -0.0\n",
       " -0.0\n",
       " -0.0\n",
       " -0.0\n",
       "  0.0\n",
       "  0.0\n",
       "  0.0\n",
       "  0.0\n",
       "  0.0\n",
       "  0.0\n",
       "  0.0"
      ]
     },
     "execution_count": 31,
     "metadata": {},
     "output_type": "execute_result"
    }
   ],
   "source": [
    "state_array[:,4]"
   ]
  },
  {
   "cell_type": "code",
   "execution_count": 37,
   "id": "fab5b30a",
   "metadata": {},
   "outputs": [
    {
     "name": "stdout",
     "output_type": "stream",
     "text": [
      "3.017168193837207e-8\n",
      "0.00017208804225226937\n"
     ]
    }
   ],
   "source": [
    "\n",
    "auxinitX= range(0,1,step=dx)\n",
    "println(Der(state_array,6,4,auxinitX))\n",
    "\n",
    "spl= Spline1D(initX[4:L-3], state_array[4:L-3,4],  k=4);\n",
    "println(derivative(spl, auxinitX[6]))"
   ]
  },
  {
   "cell_type": "code",
   "execution_count": 53,
   "id": "654d7d27",
   "metadata": {},
   "outputs": [
    {
     "name": "stdout",
     "output_type": "stream",
     "text": [
      "0.014407887381376435\n",
      "0.014407810796996974\n",
      "-7.658437946138352e-8\n"
     ]
    }
   ],
   "source": [
    "println(Der(state_array,60,4,initX))\n",
    "\n",
    "spl= Spline1D(initX[4:L-3], state_array[4:L-3,4],  k=4);\n",
    "println(derivative(spl, initX[60]))\n",
    "\n",
    "println(derivative(spl, initX[60]).-Der(state_array,60,4,initX))"
   ]
  },
  {
   "cell_type": "code",
   "execution_count": 30,
   "id": "a05acb5f",
   "metadata": {},
   "outputs": [
    {
     "data": {
      "text/plain": [
       "0.2713799770174635"
      ]
     },
     "execution_count": 30,
     "metadata": {},
     "output_type": "execute_result"
    }
   ],
   "source": [
    "using Roots\n",
    "find_zero(derpsi_func, (0,0.5), Bisection())"
   ]
  },
  {
   "cell_type": "code",
   "execution_count": 23,
   "id": "eb36f345",
   "metadata": {},
   "outputs": [
    {
     "data": {
      "image/svg+xml": [
       "<?xml version=\"1.0\" encoding=\"utf-8\"?>\n",
       "<svg xmlns=\"http://www.w3.org/2000/svg\" xmlns:xlink=\"http://www.w3.org/1999/xlink\" width=\"600\" height=\"400\" viewBox=\"0 0 2400 1600\">\n",
       "<defs>\n",
       "  <clipPath id=\"clip640\">\n",
       "    <rect x=\"0\" y=\"0\" width=\"2400\" height=\"1600\"/>\n",
       "  </clipPath>\n",
       "</defs>\n",
       "<path clip-path=\"url(#clip640)\" d=\"M0 1600 L2400 1600 L2400 0 L0 0  Z\" fill=\"#ffffff\" fill-rule=\"evenodd\" fill-opacity=\"1\"/>\n",
       "<defs>\n",
       "  <clipPath id=\"clip641\">\n",
       "    <rect x=\"480\" y=\"0\" width=\"1681\" height=\"1600\"/>\n",
       "  </clipPath>\n",
       "</defs>\n",
       "<path clip-path=\"url(#clip640)\" d=\"M314.583 1486.45 L2352.76 1486.45 L2352.76 47.2441 L314.583 47.2441  Z\" fill=\"#ffffff\" fill-rule=\"evenodd\" fill-opacity=\"1\"/>\n",
       "<defs>\n",
       "  <clipPath id=\"clip642\">\n",
       "    <rect x=\"314\" y=\"47\" width=\"2039\" height=\"1440\"/>\n",
       "  </clipPath>\n",
       "</defs>\n",
       "<polyline clip-path=\"url(#clip642)\" style=\"stroke:#000000; stroke-linecap:round; stroke-linejoin:round; stroke-width:2; stroke-opacity:0.1; fill:none\" points=\"372.268,1486.45 372.268,47.2441 \"/>\n",
       "<polyline clip-path=\"url(#clip642)\" style=\"stroke:#000000; stroke-linecap:round; stroke-linejoin:round; stroke-width:2; stroke-opacity:0.1; fill:none\" points=\"853.035,1486.45 853.035,47.2441 \"/>\n",
       "<polyline clip-path=\"url(#clip642)\" style=\"stroke:#000000; stroke-linecap:round; stroke-linejoin:round; stroke-width:2; stroke-opacity:0.1; fill:none\" points=\"1333.8,1486.45 1333.8,47.2441 \"/>\n",
       "<polyline clip-path=\"url(#clip642)\" style=\"stroke:#000000; stroke-linecap:round; stroke-linejoin:round; stroke-width:2; stroke-opacity:0.1; fill:none\" points=\"1814.57,1486.45 1814.57,47.2441 \"/>\n",
       "<polyline clip-path=\"url(#clip642)\" style=\"stroke:#000000; stroke-linecap:round; stroke-linejoin:round; stroke-width:2; stroke-opacity:0.1; fill:none\" points=\"2295.34,1486.45 2295.34,47.2441 \"/>\n",
       "<polyline clip-path=\"url(#clip640)\" style=\"stroke:#000000; stroke-linecap:round; stroke-linejoin:round; stroke-width:4; stroke-opacity:1; fill:none\" points=\"314.583,1486.45 2352.76,1486.45 \"/>\n",
       "<polyline clip-path=\"url(#clip640)\" style=\"stroke:#000000; stroke-linecap:round; stroke-linejoin:round; stroke-width:4; stroke-opacity:1; fill:none\" points=\"372.268,1486.45 372.268,1467.55 \"/>\n",
       "<polyline clip-path=\"url(#clip640)\" style=\"stroke:#000000; stroke-linecap:round; stroke-linejoin:round; stroke-width:4; stroke-opacity:1; fill:none\" points=\"853.035,1486.45 853.035,1467.55 \"/>\n",
       "<polyline clip-path=\"url(#clip640)\" style=\"stroke:#000000; stroke-linecap:round; stroke-linejoin:round; stroke-width:4; stroke-opacity:1; fill:none\" points=\"1333.8,1486.45 1333.8,1467.55 \"/>\n",
       "<polyline clip-path=\"url(#clip640)\" style=\"stroke:#000000; stroke-linecap:round; stroke-linejoin:round; stroke-width:4; stroke-opacity:1; fill:none\" points=\"1814.57,1486.45 1814.57,1467.55 \"/>\n",
       "<polyline clip-path=\"url(#clip640)\" style=\"stroke:#000000; stroke-linecap:round; stroke-linejoin:round; stroke-width:4; stroke-opacity:1; fill:none\" points=\"2295.34,1486.45 2295.34,1467.55 \"/>\n",
       "<path clip-path=\"url(#clip640)\" d=\"M334.571 1517.37 Q330.96 1517.37 329.131 1520.93 Q327.326 1524.47 327.326 1531.6 Q327.326 1538.71 329.131 1542.27 Q330.96 1545.82 334.571 1545.82 Q338.205 1545.82 340.011 1542.27 Q341.84 1538.71 341.84 1531.6 Q341.84 1524.47 340.011 1520.93 Q338.205 1517.37 334.571 1517.37 M334.571 1513.66 Q340.381 1513.66 343.437 1518.27 Q346.515 1522.85 346.515 1531.6 Q346.515 1540.33 343.437 1544.94 Q340.381 1549.52 334.571 1549.52 Q328.761 1549.52 325.682 1544.94 Q322.627 1540.33 322.627 1531.6 Q322.627 1522.85 325.682 1518.27 Q328.761 1513.66 334.571 1513.66 Z\" fill=\"#000000\" fill-rule=\"evenodd\" fill-opacity=\"1\" /><path clip-path=\"url(#clip640)\" d=\"M354.733 1542.97 L359.617 1542.97 L359.617 1548.85 L354.733 1548.85 L354.733 1542.97 Z\" fill=\"#000000\" fill-rule=\"evenodd\" fill-opacity=\"1\" /><path clip-path=\"url(#clip640)\" d=\"M379.802 1517.37 Q376.191 1517.37 374.363 1520.93 Q372.557 1524.47 372.557 1531.6 Q372.557 1538.71 374.363 1542.27 Q376.191 1545.82 379.802 1545.82 Q383.437 1545.82 385.242 1542.27 Q387.071 1538.71 387.071 1531.6 Q387.071 1524.47 385.242 1520.93 Q383.437 1517.37 379.802 1517.37 M379.802 1513.66 Q385.612 1513.66 388.668 1518.27 Q391.747 1522.85 391.747 1531.6 Q391.747 1540.33 388.668 1544.94 Q385.612 1549.52 379.802 1549.52 Q373.992 1549.52 370.913 1544.94 Q367.858 1540.33 367.858 1531.6 Q367.858 1522.85 370.913 1518.27 Q373.992 1513.66 379.802 1513.66 Z\" fill=\"#000000\" fill-rule=\"evenodd\" fill-opacity=\"1\" /><path clip-path=\"url(#clip640)\" d=\"M409.964 1517.37 Q406.353 1517.37 404.524 1520.93 Q402.719 1524.47 402.719 1531.6 Q402.719 1538.71 404.524 1542.27 Q406.353 1545.82 409.964 1545.82 Q413.598 1545.82 415.404 1542.27 Q417.233 1538.71 417.233 1531.6 Q417.233 1524.47 415.404 1520.93 Q413.598 1517.37 409.964 1517.37 M409.964 1513.66 Q415.774 1513.66 418.83 1518.27 Q421.909 1522.85 421.909 1531.6 Q421.909 1540.33 418.83 1544.94 Q415.774 1549.52 409.964 1549.52 Q404.154 1549.52 401.075 1544.94 Q398.02 1540.33 398.02 1531.6 Q398.02 1522.85 401.075 1518.27 Q404.154 1513.66 409.964 1513.66 Z\" fill=\"#000000\" fill-rule=\"evenodd\" fill-opacity=\"1\" /><path clip-path=\"url(#clip640)\" d=\"M815.836 1517.37 Q812.225 1517.37 810.396 1520.93 Q808.591 1524.47 808.591 1531.6 Q808.591 1538.71 810.396 1542.27 Q812.225 1545.82 815.836 1545.82 Q819.47 1545.82 821.276 1542.27 Q823.104 1538.71 823.104 1531.6 Q823.104 1524.47 821.276 1520.93 Q819.47 1517.37 815.836 1517.37 M815.836 1513.66 Q821.646 1513.66 824.702 1518.27 Q827.78 1522.85 827.78 1531.6 Q827.78 1540.33 824.702 1544.94 Q821.646 1549.52 815.836 1549.52 Q810.026 1549.52 806.947 1544.94 Q803.891 1540.33 803.891 1531.6 Q803.891 1522.85 806.947 1518.27 Q810.026 1513.66 815.836 1513.66 Z\" fill=\"#000000\" fill-rule=\"evenodd\" fill-opacity=\"1\" /><path clip-path=\"url(#clip640)\" d=\"M835.998 1542.97 L840.882 1542.97 L840.882 1548.85 L835.998 1548.85 L835.998 1542.97 Z\" fill=\"#000000\" fill-rule=\"evenodd\" fill-opacity=\"1\" /><path clip-path=\"url(#clip640)\" d=\"M855.095 1544.91 L871.414 1544.91 L871.414 1548.85 L849.47 1548.85 L849.47 1544.91 Q852.132 1542.16 856.715 1537.53 Q861.322 1532.88 862.502 1531.53 Q864.748 1529.01 865.627 1527.27 Q866.53 1525.51 866.53 1523.82 Q866.53 1521.07 864.586 1519.33 Q862.664 1517.6 859.562 1517.6 Q857.363 1517.6 854.91 1518.36 Q852.479 1519.13 849.701 1520.68 L849.701 1515.95 Q852.525 1514.82 854.979 1514.24 Q857.433 1513.66 859.47 1513.66 Q864.84 1513.66 868.035 1516.35 Q871.229 1519.03 871.229 1523.52 Q871.229 1525.65 870.419 1527.57 Q869.632 1529.47 867.525 1532.07 Q866.947 1532.74 863.845 1535.95 Q860.743 1539.15 855.095 1544.91 Z\" fill=\"#000000\" fill-rule=\"evenodd\" fill-opacity=\"1\" /><path clip-path=\"url(#clip640)\" d=\"M881.275 1514.29 L899.632 1514.29 L899.632 1518.22 L885.558 1518.22 L885.558 1526.7 Q886.576 1526.35 887.595 1526.19 Q888.613 1526 889.632 1526 Q895.419 1526 898.798 1529.17 Q902.178 1532.34 902.178 1537.76 Q902.178 1543.34 898.706 1546.44 Q895.234 1549.52 888.914 1549.52 Q886.738 1549.52 884.47 1549.15 Q882.224 1548.78 879.817 1548.04 L879.817 1543.34 Q881.9 1544.47 884.123 1545.03 Q886.345 1545.58 888.822 1545.58 Q892.826 1545.58 895.164 1543.48 Q897.502 1541.37 897.502 1537.76 Q897.502 1534.15 895.164 1532.04 Q892.826 1529.94 888.822 1529.94 Q886.947 1529.94 885.072 1530.35 Q883.22 1530.77 881.275 1531.65 L881.275 1514.29 Z\" fill=\"#000000\" fill-rule=\"evenodd\" fill-opacity=\"1\" /><path clip-path=\"url(#clip640)\" d=\"M1296.11 1517.37 Q1292.49 1517.37 1290.67 1520.93 Q1288.86 1524.47 1288.86 1531.6 Q1288.86 1538.71 1290.67 1542.27 Q1292.49 1545.82 1296.11 1545.82 Q1299.74 1545.82 1301.55 1542.27 Q1303.37 1538.71 1303.37 1531.6 Q1303.37 1524.47 1301.55 1520.93 Q1299.74 1517.37 1296.11 1517.37 M1296.11 1513.66 Q1301.92 1513.66 1304.97 1518.27 Q1308.05 1522.85 1308.05 1531.6 Q1308.05 1540.33 1304.97 1544.94 Q1301.92 1549.52 1296.11 1549.52 Q1290.3 1549.52 1287.22 1544.94 Q1284.16 1540.33 1284.16 1531.6 Q1284.16 1522.85 1287.22 1518.27 Q1290.3 1513.66 1296.11 1513.66 Z\" fill=\"#000000\" fill-rule=\"evenodd\" fill-opacity=\"1\" /><path clip-path=\"url(#clip640)\" d=\"M1316.27 1542.97 L1321.15 1542.97 L1321.15 1548.85 L1316.27 1548.85 L1316.27 1542.97 Z\" fill=\"#000000\" fill-rule=\"evenodd\" fill-opacity=\"1\" /><path clip-path=\"url(#clip640)\" d=\"M1331.38 1514.29 L1349.74 1514.29 L1349.74 1518.22 L1335.67 1518.22 L1335.67 1526.7 Q1336.68 1526.35 1337.7 1526.19 Q1338.72 1526 1339.74 1526 Q1345.53 1526 1348.91 1529.17 Q1352.29 1532.34 1352.29 1537.76 Q1352.29 1543.34 1348.81 1546.44 Q1345.34 1549.52 1339.02 1549.52 Q1336.85 1549.52 1334.58 1549.15 Q1332.33 1548.78 1329.92 1548.04 L1329.92 1543.34 Q1332.01 1544.47 1334.23 1545.03 Q1336.45 1545.58 1338.93 1545.58 Q1342.93 1545.58 1345.27 1543.48 Q1347.61 1541.37 1347.61 1537.76 Q1347.61 1534.15 1345.27 1532.04 Q1342.93 1529.94 1338.93 1529.94 Q1337.05 1529.94 1335.18 1530.35 Q1333.33 1530.77 1331.38 1531.65 L1331.38 1514.29 Z\" fill=\"#000000\" fill-rule=\"evenodd\" fill-opacity=\"1\" /><path clip-path=\"url(#clip640)\" d=\"M1371.5 1517.37 Q1367.89 1517.37 1366.06 1520.93 Q1364.25 1524.47 1364.25 1531.6 Q1364.25 1538.71 1366.06 1542.27 Q1367.89 1545.82 1371.5 1545.82 Q1375.13 1545.82 1376.94 1542.27 Q1378.77 1538.71 1378.77 1531.6 Q1378.77 1524.47 1376.94 1520.93 Q1375.13 1517.37 1371.5 1517.37 M1371.5 1513.66 Q1377.31 1513.66 1380.36 1518.27 Q1383.44 1522.85 1383.44 1531.6 Q1383.44 1540.33 1380.36 1544.94 Q1377.31 1549.52 1371.5 1549.52 Q1365.69 1549.52 1362.61 1544.94 Q1359.55 1540.33 1359.55 1531.6 Q1359.55 1522.85 1362.61 1518.27 Q1365.69 1513.66 1371.5 1513.66 Z\" fill=\"#000000\" fill-rule=\"evenodd\" fill-opacity=\"1\" /><path clip-path=\"url(#clip640)\" d=\"M1777.37 1517.37 Q1773.76 1517.37 1771.93 1520.93 Q1770.12 1524.47 1770.12 1531.6 Q1770.12 1538.71 1771.93 1542.27 Q1773.76 1545.82 1777.37 1545.82 Q1781 1545.82 1782.81 1542.27 Q1784.64 1538.71 1784.64 1531.6 Q1784.64 1524.47 1782.81 1520.93 Q1781 1517.37 1777.37 1517.37 M1777.37 1513.66 Q1783.18 1513.66 1786.24 1518.27 Q1789.31 1522.85 1789.31 1531.6 Q1789.31 1540.33 1786.24 1544.94 Q1783.18 1549.52 1777.37 1549.52 Q1771.56 1549.52 1768.48 1544.94 Q1765.43 1540.33 1765.43 1531.6 Q1765.43 1522.85 1768.48 1518.27 Q1771.56 1513.66 1777.37 1513.66 Z\" fill=\"#000000\" fill-rule=\"evenodd\" fill-opacity=\"1\" /><path clip-path=\"url(#clip640)\" d=\"M1797.53 1542.97 L1802.42 1542.97 L1802.42 1548.85 L1797.53 1548.85 L1797.53 1542.97 Z\" fill=\"#000000\" fill-rule=\"evenodd\" fill-opacity=\"1\" /><path clip-path=\"url(#clip640)\" d=\"M1811.42 1514.29 L1833.64 1514.29 L1833.64 1516.28 L1821.1 1548.85 L1816.21 1548.85 L1828.02 1518.22 L1811.42 1518.22 L1811.42 1514.29 Z\" fill=\"#000000\" fill-rule=\"evenodd\" fill-opacity=\"1\" /><path clip-path=\"url(#clip640)\" d=\"M1842.81 1514.29 L1861.17 1514.29 L1861.17 1518.22 L1847.09 1518.22 L1847.09 1526.7 Q1848.11 1526.35 1849.13 1526.19 Q1850.15 1526 1851.17 1526 Q1856.95 1526 1860.33 1529.17 Q1863.71 1532.34 1863.71 1537.76 Q1863.71 1543.34 1860.24 1546.44 Q1856.77 1549.52 1850.45 1549.52 Q1848.27 1549.52 1846 1549.15 Q1843.76 1548.78 1841.35 1548.04 L1841.35 1543.34 Q1843.43 1544.47 1845.66 1545.03 Q1847.88 1545.58 1850.36 1545.58 Q1854.36 1545.58 1856.7 1543.48 Q1859.04 1541.37 1859.04 1537.76 Q1859.04 1534.15 1856.7 1532.04 Q1854.36 1529.94 1850.36 1529.94 Q1848.48 1529.94 1846.61 1530.35 Q1844.75 1530.77 1842.81 1531.65 L1842.81 1514.29 Z\" fill=\"#000000\" fill-rule=\"evenodd\" fill-opacity=\"1\" /><path clip-path=\"url(#clip640)\" d=\"M2247.41 1544.91 L2255.05 1544.91 L2255.05 1518.55 L2246.74 1520.21 L2246.74 1515.95 L2255 1514.29 L2259.68 1514.29 L2259.68 1544.91 L2267.32 1544.91 L2267.32 1548.85 L2247.41 1548.85 L2247.41 1544.91 Z\" fill=\"#000000\" fill-rule=\"evenodd\" fill-opacity=\"1\" /><path clip-path=\"url(#clip640)\" d=\"M2276.76 1542.97 L2281.64 1542.97 L2281.64 1548.85 L2276.76 1548.85 L2276.76 1542.97 Z\" fill=\"#000000\" fill-rule=\"evenodd\" fill-opacity=\"1\" /><path clip-path=\"url(#clip640)\" d=\"M2301.83 1517.37 Q2298.22 1517.37 2296.39 1520.93 Q2294.58 1524.47 2294.58 1531.6 Q2294.58 1538.71 2296.39 1542.27 Q2298.22 1545.82 2301.83 1545.82 Q2305.46 1545.82 2307.27 1542.27 Q2309.1 1538.71 2309.1 1531.6 Q2309.1 1524.47 2307.27 1520.93 Q2305.46 1517.37 2301.83 1517.37 M2301.83 1513.66 Q2307.64 1513.66 2310.69 1518.27 Q2313.77 1522.85 2313.77 1531.6 Q2313.77 1540.33 2310.69 1544.94 Q2307.64 1549.52 2301.83 1549.52 Q2296.02 1549.52 2292.94 1544.94 Q2289.88 1540.33 2289.88 1531.6 Q2289.88 1522.85 2292.94 1518.27 Q2296.02 1513.66 2301.83 1513.66 Z\" fill=\"#000000\" fill-rule=\"evenodd\" fill-opacity=\"1\" /><path clip-path=\"url(#clip640)\" d=\"M2331.99 1517.37 Q2328.38 1517.37 2326.55 1520.93 Q2324.75 1524.47 2324.75 1531.6 Q2324.75 1538.71 2326.55 1542.27 Q2328.38 1545.82 2331.99 1545.82 Q2335.63 1545.82 2337.43 1542.27 Q2339.26 1538.71 2339.26 1531.6 Q2339.26 1524.47 2337.43 1520.93 Q2335.63 1517.37 2331.99 1517.37 M2331.99 1513.66 Q2337.8 1513.66 2340.86 1518.27 Q2343.94 1522.85 2343.94 1531.6 Q2343.94 1540.33 2340.86 1544.94 Q2337.8 1549.52 2331.99 1549.52 Q2326.18 1549.52 2323.1 1544.94 Q2320.05 1540.33 2320.05 1531.6 Q2320.05 1522.85 2323.1 1518.27 Q2326.18 1513.66 2331.99 1513.66 Z\" fill=\"#000000\" fill-rule=\"evenodd\" fill-opacity=\"1\" /><polyline clip-path=\"url(#clip642)\" style=\"stroke:#000000; stroke-linecap:round; stroke-linejoin:round; stroke-width:2; stroke-opacity:0.1; fill:none\" points=\"314.583,1427.6 2352.76,1427.6 \"/>\n",
       "<polyline clip-path=\"url(#clip642)\" style=\"stroke:#000000; stroke-linecap:round; stroke-linejoin:round; stroke-width:2; stroke-opacity:0.1; fill:none\" points=\"314.583,1070.66 2352.76,1070.66 \"/>\n",
       "<polyline clip-path=\"url(#clip642)\" style=\"stroke:#000000; stroke-linecap:round; stroke-linejoin:round; stroke-width:2; stroke-opacity:0.1; fill:none\" points=\"314.583,713.733 2352.76,713.733 \"/>\n",
       "<polyline clip-path=\"url(#clip642)\" style=\"stroke:#000000; stroke-linecap:round; stroke-linejoin:round; stroke-width:2; stroke-opacity:0.1; fill:none\" points=\"314.583,356.802 2352.76,356.802 \"/>\n",
       "<polyline clip-path=\"url(#clip640)\" style=\"stroke:#000000; stroke-linecap:round; stroke-linejoin:round; stroke-width:4; stroke-opacity:1; fill:none\" points=\"314.583,1486.45 314.583,47.2441 \"/>\n",
       "<polyline clip-path=\"url(#clip640)\" style=\"stroke:#000000; stroke-linecap:round; stroke-linejoin:round; stroke-width:4; stroke-opacity:1; fill:none\" points=\"314.583,1427.6 333.481,1427.6 \"/>\n",
       "<polyline clip-path=\"url(#clip640)\" style=\"stroke:#000000; stroke-linecap:round; stroke-linejoin:round; stroke-width:4; stroke-opacity:1; fill:none\" points=\"314.583,1070.66 333.481,1070.66 \"/>\n",
       "<polyline clip-path=\"url(#clip640)\" style=\"stroke:#000000; stroke-linecap:round; stroke-linejoin:round; stroke-width:4; stroke-opacity:1; fill:none\" points=\"314.583,713.733 333.481,713.733 \"/>\n",
       "<polyline clip-path=\"url(#clip640)\" style=\"stroke:#000000; stroke-linecap:round; stroke-linejoin:round; stroke-width:4; stroke-opacity:1; fill:none\" points=\"314.583,356.802 333.481,356.802 \"/>\n",
       "<path clip-path=\"url(#clip640)\" d=\"M50.9921 1428.05 L80.6679 1428.05 L80.6679 1431.98 L50.9921 1431.98 L50.9921 1428.05 Z\" fill=\"#000000\" fill-rule=\"evenodd\" fill-opacity=\"1\" /><path clip-path=\"url(#clip640)\" d=\"M100.76 1413.39 Q97.1493 1413.39 95.3206 1416.96 Q93.515 1420.5 93.515 1427.63 Q93.515 1434.74 95.3206 1438.3 Q97.1493 1441.84 100.76 1441.84 Q104.395 1441.84 106.2 1438.3 Q108.029 1434.74 108.029 1427.63 Q108.029 1420.5 106.2 1416.96 Q104.395 1413.39 100.76 1413.39 M100.76 1409.69 Q106.571 1409.69 109.626 1414.3 Q112.705 1418.88 112.705 1427.63 Q112.705 1436.36 109.626 1440.96 Q106.571 1445.55 100.76 1445.55 Q94.9502 1445.55 91.8715 1440.96 Q88.816 1436.36 88.816 1427.63 Q88.816 1418.88 91.8715 1414.3 Q94.9502 1409.69 100.76 1409.69 Z\" fill=\"#000000\" fill-rule=\"evenodd\" fill-opacity=\"1\" /><path clip-path=\"url(#clip640)\" d=\"M120.922 1439 L125.807 1439 L125.807 1444.88 L120.922 1444.88 L120.922 1439 Z\" fill=\"#000000\" fill-rule=\"evenodd\" fill-opacity=\"1\" /><path clip-path=\"url(#clip640)\" d=\"M145.992 1413.39 Q142.381 1413.39 140.552 1416.96 Q138.746 1420.5 138.746 1427.63 Q138.746 1434.74 140.552 1438.3 Q142.381 1441.84 145.992 1441.84 Q149.626 1441.84 151.431 1438.3 Q153.26 1434.74 153.26 1427.63 Q153.26 1420.5 151.431 1416.96 Q149.626 1413.39 145.992 1413.39 M145.992 1409.69 Q151.802 1409.69 154.857 1414.3 Q157.936 1418.88 157.936 1427.63 Q157.936 1436.36 154.857 1440.96 Q151.802 1445.55 145.992 1445.55 Q140.181 1445.55 137.103 1440.96 Q134.047 1436.36 134.047 1427.63 Q134.047 1418.88 137.103 1414.3 Q140.181 1409.69 145.992 1409.69 Z\" fill=\"#000000\" fill-rule=\"evenodd\" fill-opacity=\"1\" /><path clip-path=\"url(#clip640)\" d=\"M176.153 1413.39 Q172.542 1413.39 170.714 1416.96 Q168.908 1420.5 168.908 1427.63 Q168.908 1434.74 170.714 1438.3 Q172.542 1441.84 176.153 1441.84 Q179.788 1441.84 181.593 1438.3 Q183.422 1434.74 183.422 1427.63 Q183.422 1420.5 181.593 1416.96 Q179.788 1413.39 176.153 1413.39 M176.153 1409.69 Q181.964 1409.69 185.019 1414.3 Q188.098 1418.88 188.098 1427.63 Q188.098 1436.36 185.019 1440.96 Q181.964 1445.55 176.153 1445.55 Q170.343 1445.55 167.265 1440.96 Q164.209 1436.36 164.209 1427.63 Q164.209 1418.88 167.265 1414.3 Q170.343 1409.69 176.153 1409.69 Z\" fill=\"#000000\" fill-rule=\"evenodd\" fill-opacity=\"1\" /><path clip-path=\"url(#clip640)\" d=\"M206.315 1413.39 Q202.704 1413.39 200.876 1416.96 Q199.07 1420.5 199.07 1427.63 Q199.07 1434.74 200.876 1438.3 Q202.704 1441.84 206.315 1441.84 Q209.95 1441.84 211.755 1438.3 Q213.584 1434.74 213.584 1427.63 Q213.584 1420.5 211.755 1416.96 Q209.95 1413.39 206.315 1413.39 M206.315 1409.69 Q212.126 1409.69 215.181 1414.3 Q218.26 1418.88 218.26 1427.63 Q218.26 1436.36 215.181 1440.96 Q212.126 1445.55 206.315 1445.55 Q200.505 1445.55 197.427 1440.96 Q194.371 1436.36 194.371 1427.63 Q194.371 1418.88 197.427 1414.3 Q200.505 1409.69 206.315 1409.69 Z\" fill=\"#000000\" fill-rule=\"evenodd\" fill-opacity=\"1\" /><path clip-path=\"url(#clip640)\" d=\"M227.287 1440.94 L234.926 1440.94 L234.926 1414.57 L226.616 1416.24 L226.616 1411.98 L234.88 1410.32 L239.556 1410.32 L239.556 1440.94 L247.195 1440.94 L247.195 1444.88 L227.287 1444.88 L227.287 1440.94 Z\" fill=\"#000000\" fill-rule=\"evenodd\" fill-opacity=\"1\" /><path clip-path=\"url(#clip640)\" d=\"M266.639 1413.39 Q263.028 1413.39 261.199 1416.96 Q259.394 1420.5 259.394 1427.63 Q259.394 1434.74 261.199 1438.3 Q263.028 1441.84 266.639 1441.84 Q270.273 1441.84 272.079 1438.3 Q273.908 1434.74 273.908 1427.63 Q273.908 1420.5 272.079 1416.96 Q270.273 1413.39 266.639 1413.39 M266.639 1409.69 Q272.449 1409.69 275.505 1414.3 Q278.583 1418.88 278.583 1427.63 Q278.583 1436.36 275.505 1440.96 Q272.449 1445.55 266.639 1445.55 Q260.829 1445.55 257.75 1440.96 Q254.695 1436.36 254.695 1427.63 Q254.695 1418.88 257.75 1414.3 Q260.829 1409.69 266.639 1409.69 Z\" fill=\"#000000\" fill-rule=\"evenodd\" fill-opacity=\"1\" /><path clip-path=\"url(#clip640)\" d=\"M51.9875 1071.12 L81.6633 1071.12 L81.6633 1075.05 L51.9875 1075.05 L51.9875 1071.12 Z\" fill=\"#000000\" fill-rule=\"evenodd\" fill-opacity=\"1\" /><path clip-path=\"url(#clip640)\" d=\"M101.756 1056.46 Q98.1447 1056.46 96.316 1060.03 Q94.5104 1063.57 94.5104 1070.7 Q94.5104 1077.81 96.316 1081.37 Q98.1447 1084.91 101.756 1084.91 Q105.39 1084.91 107.196 1081.37 Q109.024 1077.81 109.024 1070.7 Q109.024 1063.57 107.196 1060.03 Q105.39 1056.46 101.756 1056.46 M101.756 1052.76 Q107.566 1052.76 110.621 1057.37 Q113.7 1061.95 113.7 1070.7 Q113.7 1079.43 110.621 1084.03 Q107.566 1088.62 101.756 1088.62 Q95.9456 1088.62 92.8669 1084.03 Q89.8114 1079.43 89.8114 1070.7 Q89.8114 1061.95 92.8669 1057.37 Q95.9456 1052.76 101.756 1052.76 Z\" fill=\"#000000\" fill-rule=\"evenodd\" fill-opacity=\"1\" /><path clip-path=\"url(#clip640)\" d=\"M121.918 1082.06 L126.802 1082.06 L126.802 1087.94 L121.918 1087.94 L121.918 1082.06 Z\" fill=\"#000000\" fill-rule=\"evenodd\" fill-opacity=\"1\" /><path clip-path=\"url(#clip640)\" d=\"M146.987 1056.46 Q143.376 1056.46 141.547 1060.03 Q139.742 1063.57 139.742 1070.7 Q139.742 1077.81 141.547 1081.37 Q143.376 1084.91 146.987 1084.91 Q150.621 1084.91 152.427 1081.37 Q154.255 1077.81 154.255 1070.7 Q154.255 1063.57 152.427 1060.03 Q150.621 1056.46 146.987 1056.46 M146.987 1052.76 Q152.797 1052.76 155.853 1057.37 Q158.931 1061.95 158.931 1070.7 Q158.931 1079.43 155.853 1084.03 Q152.797 1088.62 146.987 1088.62 Q141.177 1088.62 138.098 1084.03 Q135.043 1079.43 135.043 1070.7 Q135.043 1061.95 138.098 1057.37 Q141.177 1052.76 146.987 1052.76 Z\" fill=\"#000000\" fill-rule=\"evenodd\" fill-opacity=\"1\" /><path clip-path=\"url(#clip640)\" d=\"M177.149 1056.46 Q173.538 1056.46 171.709 1060.03 Q169.904 1063.57 169.904 1070.7 Q169.904 1077.81 171.709 1081.37 Q173.538 1084.91 177.149 1084.91 Q180.783 1084.91 182.589 1081.37 Q184.417 1077.81 184.417 1070.7 Q184.417 1063.57 182.589 1060.03 Q180.783 1056.46 177.149 1056.46 M177.149 1052.76 Q182.959 1052.76 186.015 1057.37 Q189.093 1061.95 189.093 1070.7 Q189.093 1079.43 186.015 1084.03 Q182.959 1088.62 177.149 1088.62 Q171.339 1088.62 168.26 1084.03 Q165.204 1079.43 165.204 1070.7 Q165.204 1061.95 168.26 1057.37 Q171.339 1052.76 177.149 1052.76 Z\" fill=\"#000000\" fill-rule=\"evenodd\" fill-opacity=\"1\" /><path clip-path=\"url(#clip640)\" d=\"M207.311 1056.46 Q203.7 1056.46 201.871 1060.03 Q200.065 1063.57 200.065 1070.7 Q200.065 1077.81 201.871 1081.37 Q203.7 1084.91 207.311 1084.91 Q210.945 1084.91 212.751 1081.37 Q214.579 1077.81 214.579 1070.7 Q214.579 1063.57 212.751 1060.03 Q210.945 1056.46 207.311 1056.46 M207.311 1052.76 Q213.121 1052.76 216.176 1057.37 Q219.255 1061.95 219.255 1070.7 Q219.255 1079.43 216.176 1084.03 Q213.121 1088.62 207.311 1088.62 Q201.501 1088.62 198.422 1084.03 Q195.366 1079.43 195.366 1070.7 Q195.366 1061.95 198.422 1057.37 Q201.501 1052.76 207.311 1052.76 Z\" fill=\"#000000\" fill-rule=\"evenodd\" fill-opacity=\"1\" /><path clip-path=\"url(#clip640)\" d=\"M237.473 1056.46 Q233.862 1056.46 232.033 1060.03 Q230.227 1063.57 230.227 1070.7 Q230.227 1077.81 232.033 1081.37 Q233.862 1084.91 237.473 1084.91 Q241.107 1084.91 242.912 1081.37 Q244.741 1077.81 244.741 1070.7 Q244.741 1063.57 242.912 1060.03 Q241.107 1056.46 237.473 1056.46 M237.473 1052.76 Q243.283 1052.76 246.338 1057.37 Q249.417 1061.95 249.417 1070.7 Q249.417 1079.43 246.338 1084.03 Q243.283 1088.62 237.473 1088.62 Q231.662 1088.62 228.584 1084.03 Q225.528 1079.43 225.528 1070.7 Q225.528 1061.95 228.584 1057.37 Q231.662 1052.76 237.473 1052.76 Z\" fill=\"#000000\" fill-rule=\"evenodd\" fill-opacity=\"1\" /><path clip-path=\"url(#clip640)\" d=\"M257.681 1053.38 L276.037 1053.38 L276.037 1057.32 L261.963 1057.32 L261.963 1065.79 Q262.982 1065.44 264 1065.28 Q265.019 1065.1 266.037 1065.1 Q271.824 1065.1 275.204 1068.27 Q278.583 1071.44 278.583 1076.86 Q278.583 1082.44 275.111 1085.54 Q271.639 1088.62 265.32 1088.62 Q263.144 1088.62 260.875 1088.25 Q258.63 1087.87 256.223 1087.13 L256.223 1082.44 Q258.306 1083.57 260.528 1084.12 Q262.75 1084.68 265.227 1084.68 Q269.232 1084.68 271.57 1082.57 Q273.908 1080.47 273.908 1076.86 Q273.908 1073.25 271.57 1071.14 Q269.232 1069.03 265.227 1069.03 Q263.352 1069.03 261.477 1069.45 Q259.625 1069.87 257.681 1070.75 L257.681 1053.38 Z\" fill=\"#000000\" fill-rule=\"evenodd\" fill-opacity=\"1\" /><path clip-path=\"url(#clip640)\" d=\"M100.76 699.532 Q97.1493 699.532 95.3206 703.096 Q93.515 706.638 93.515 713.768 Q93.515 720.874 95.3206 724.439 Q97.1493 727.981 100.76 727.981 Q104.395 727.981 106.2 724.439 Q108.029 720.874 108.029 713.768 Q108.029 706.638 106.2 703.096 Q104.395 699.532 100.76 699.532 M100.76 695.828 Q106.571 695.828 109.626 700.434 Q112.705 705.018 112.705 713.768 Q112.705 722.495 109.626 727.101 Q106.571 731.684 100.76 731.684 Q94.9502 731.684 91.8715 727.101 Q88.816 722.495 88.816 713.768 Q88.816 705.018 91.8715 700.434 Q94.9502 695.828 100.76 695.828 Z\" fill=\"#000000\" fill-rule=\"evenodd\" fill-opacity=\"1\" /><path clip-path=\"url(#clip640)\" d=\"M120.922 725.133 L125.807 725.133 L125.807 731.013 L120.922 731.013 L120.922 725.133 Z\" fill=\"#000000\" fill-rule=\"evenodd\" fill-opacity=\"1\" /><path clip-path=\"url(#clip640)\" d=\"M145.992 699.532 Q142.381 699.532 140.552 703.096 Q138.746 706.638 138.746 713.768 Q138.746 720.874 140.552 724.439 Q142.381 727.981 145.992 727.981 Q149.626 727.981 151.431 724.439 Q153.26 720.874 153.26 713.768 Q153.26 706.638 151.431 703.096 Q149.626 699.532 145.992 699.532 M145.992 695.828 Q151.802 695.828 154.857 700.434 Q157.936 705.018 157.936 713.768 Q157.936 722.495 154.857 727.101 Q151.802 731.684 145.992 731.684 Q140.181 731.684 137.103 727.101 Q134.047 722.495 134.047 713.768 Q134.047 705.018 137.103 700.434 Q140.181 695.828 145.992 695.828 Z\" fill=\"#000000\" fill-rule=\"evenodd\" fill-opacity=\"1\" /><path clip-path=\"url(#clip640)\" d=\"M176.153 699.532 Q172.542 699.532 170.714 703.096 Q168.908 706.638 168.908 713.768 Q168.908 720.874 170.714 724.439 Q172.542 727.981 176.153 727.981 Q179.788 727.981 181.593 724.439 Q183.422 720.874 183.422 713.768 Q183.422 706.638 181.593 703.096 Q179.788 699.532 176.153 699.532 M176.153 695.828 Q181.964 695.828 185.019 700.434 Q188.098 705.018 188.098 713.768 Q188.098 722.495 185.019 727.101 Q181.964 731.684 176.153 731.684 Q170.343 731.684 167.265 727.101 Q164.209 722.495 164.209 713.768 Q164.209 705.018 167.265 700.434 Q170.343 695.828 176.153 695.828 Z\" fill=\"#000000\" fill-rule=\"evenodd\" fill-opacity=\"1\" /><path clip-path=\"url(#clip640)\" d=\"M206.315 699.532 Q202.704 699.532 200.876 703.096 Q199.07 706.638 199.07 713.768 Q199.07 720.874 200.876 724.439 Q202.704 727.981 206.315 727.981 Q209.95 727.981 211.755 724.439 Q213.584 720.874 213.584 713.768 Q213.584 706.638 211.755 703.096 Q209.95 699.532 206.315 699.532 M206.315 695.828 Q212.126 695.828 215.181 700.434 Q218.26 705.018 218.26 713.768 Q218.26 722.495 215.181 727.101 Q212.126 731.684 206.315 731.684 Q200.505 731.684 197.427 727.101 Q194.371 722.495 194.371 713.768 Q194.371 705.018 197.427 700.434 Q200.505 695.828 206.315 695.828 Z\" fill=\"#000000\" fill-rule=\"evenodd\" fill-opacity=\"1\" /><path clip-path=\"url(#clip640)\" d=\"M236.477 699.532 Q232.866 699.532 231.037 703.096 Q229.232 706.638 229.232 713.768 Q229.232 720.874 231.037 724.439 Q232.866 727.981 236.477 727.981 Q240.111 727.981 241.917 724.439 Q243.746 720.874 243.746 713.768 Q243.746 706.638 241.917 703.096 Q240.111 699.532 236.477 699.532 M236.477 695.828 Q242.287 695.828 245.343 700.434 Q248.422 705.018 248.422 713.768 Q248.422 722.495 245.343 727.101 Q242.287 731.684 236.477 731.684 Q230.667 731.684 227.588 727.101 Q224.533 722.495 224.533 713.768 Q224.533 705.018 227.588 700.434 Q230.667 695.828 236.477 695.828 Z\" fill=\"#000000\" fill-rule=\"evenodd\" fill-opacity=\"1\" /><path clip-path=\"url(#clip640)\" d=\"M266.639 699.532 Q263.028 699.532 261.199 703.096 Q259.394 706.638 259.394 713.768 Q259.394 720.874 261.199 724.439 Q263.028 727.981 266.639 727.981 Q270.273 727.981 272.079 724.439 Q273.908 720.874 273.908 713.768 Q273.908 706.638 272.079 703.096 Q270.273 699.532 266.639 699.532 M266.639 695.828 Q272.449 695.828 275.505 700.434 Q278.583 705.018 278.583 713.768 Q278.583 722.495 275.505 727.101 Q272.449 731.684 266.639 731.684 Q260.829 731.684 257.75 727.101 Q254.695 722.495 254.695 713.768 Q254.695 705.018 257.75 700.434 Q260.829 695.828 266.639 695.828 Z\" fill=\"#000000\" fill-rule=\"evenodd\" fill-opacity=\"1\" /><path clip-path=\"url(#clip640)\" d=\"M101.756 342.6 Q98.1447 342.6 96.316 346.165 Q94.5104 349.707 94.5104 356.836 Q94.5104 363.943 96.316 367.508 Q98.1447 371.049 101.756 371.049 Q105.39 371.049 107.196 367.508 Q109.024 363.943 109.024 356.836 Q109.024 349.707 107.196 346.165 Q105.39 342.6 101.756 342.6 M101.756 338.897 Q107.566 338.897 110.621 343.503 Q113.7 348.086 113.7 356.836 Q113.7 365.563 110.621 370.17 Q107.566 374.753 101.756 374.753 Q95.9456 374.753 92.8669 370.17 Q89.8114 365.563 89.8114 356.836 Q89.8114 348.086 92.8669 343.503 Q95.9456 338.897 101.756 338.897 Z\" fill=\"#000000\" fill-rule=\"evenodd\" fill-opacity=\"1\" /><path clip-path=\"url(#clip640)\" d=\"M121.918 368.202 L126.802 368.202 L126.802 374.082 L121.918 374.082 L121.918 368.202 Z\" fill=\"#000000\" fill-rule=\"evenodd\" fill-opacity=\"1\" /><path clip-path=\"url(#clip640)\" d=\"M146.987 342.6 Q143.376 342.6 141.547 346.165 Q139.742 349.707 139.742 356.836 Q139.742 363.943 141.547 367.508 Q143.376 371.049 146.987 371.049 Q150.621 371.049 152.427 367.508 Q154.255 363.943 154.255 356.836 Q154.255 349.707 152.427 346.165 Q150.621 342.6 146.987 342.6 M146.987 338.897 Q152.797 338.897 155.853 343.503 Q158.931 348.086 158.931 356.836 Q158.931 365.563 155.853 370.17 Q152.797 374.753 146.987 374.753 Q141.177 374.753 138.098 370.17 Q135.043 365.563 135.043 356.836 Q135.043 348.086 138.098 343.503 Q141.177 338.897 146.987 338.897 Z\" fill=\"#000000\" fill-rule=\"evenodd\" fill-opacity=\"1\" /><path clip-path=\"url(#clip640)\" d=\"M177.149 342.6 Q173.538 342.6 171.709 346.165 Q169.904 349.707 169.904 356.836 Q169.904 363.943 171.709 367.508 Q173.538 371.049 177.149 371.049 Q180.783 371.049 182.589 367.508 Q184.417 363.943 184.417 356.836 Q184.417 349.707 182.589 346.165 Q180.783 342.6 177.149 342.6 M177.149 338.897 Q182.959 338.897 186.015 343.503 Q189.093 348.086 189.093 356.836 Q189.093 365.563 186.015 370.17 Q182.959 374.753 177.149 374.753 Q171.339 374.753 168.26 370.17 Q165.204 365.563 165.204 356.836 Q165.204 348.086 168.26 343.503 Q171.339 338.897 177.149 338.897 Z\" fill=\"#000000\" fill-rule=\"evenodd\" fill-opacity=\"1\" /><path clip-path=\"url(#clip640)\" d=\"M207.311 342.6 Q203.7 342.6 201.871 346.165 Q200.065 349.707 200.065 356.836 Q200.065 363.943 201.871 367.508 Q203.7 371.049 207.311 371.049 Q210.945 371.049 212.751 367.508 Q214.579 363.943 214.579 356.836 Q214.579 349.707 212.751 346.165 Q210.945 342.6 207.311 342.6 M207.311 338.897 Q213.121 338.897 216.176 343.503 Q219.255 348.086 219.255 356.836 Q219.255 365.563 216.176 370.17 Q213.121 374.753 207.311 374.753 Q201.501 374.753 198.422 370.17 Q195.366 365.563 195.366 356.836 Q195.366 348.086 198.422 343.503 Q201.501 338.897 207.311 338.897 Z\" fill=\"#000000\" fill-rule=\"evenodd\" fill-opacity=\"1\" /><path clip-path=\"url(#clip640)\" d=\"M237.473 342.6 Q233.862 342.6 232.033 346.165 Q230.227 349.707 230.227 356.836 Q230.227 363.943 232.033 367.508 Q233.862 371.049 237.473 371.049 Q241.107 371.049 242.912 367.508 Q244.741 363.943 244.741 356.836 Q244.741 349.707 242.912 346.165 Q241.107 342.6 237.473 342.6 M237.473 338.897 Q243.283 338.897 246.338 343.503 Q249.417 348.086 249.417 356.836 Q249.417 365.563 246.338 370.17 Q243.283 374.753 237.473 374.753 Q231.662 374.753 228.584 370.17 Q225.528 365.563 225.528 356.836 Q225.528 348.086 228.584 343.503 Q231.662 338.897 237.473 338.897 Z\" fill=\"#000000\" fill-rule=\"evenodd\" fill-opacity=\"1\" /><path clip-path=\"url(#clip640)\" d=\"M257.681 339.522 L276.037 339.522 L276.037 343.457 L261.963 343.457 L261.963 351.929 Q262.982 351.582 264 351.42 Q265.019 351.235 266.037 351.235 Q271.824 351.235 275.204 354.406 Q278.583 357.577 278.583 362.994 Q278.583 368.572 275.111 371.674 Q271.639 374.753 265.32 374.753 Q263.144 374.753 260.875 374.383 Q258.63 374.012 256.223 373.272 L256.223 368.572 Q258.306 369.707 260.528 370.262 Q262.75 370.818 265.227 370.818 Q269.232 370.818 271.57 368.711 Q273.908 366.605 273.908 362.994 Q273.908 359.383 271.57 357.276 Q269.232 355.17 265.227 355.17 Q263.352 355.17 261.477 355.586 Q259.625 356.003 257.681 356.883 L257.681 339.522 Z\" fill=\"#000000\" fill-rule=\"evenodd\" fill-opacity=\"1\" /><polyline clip-path=\"url(#clip642)\" style=\"stroke:#009af9; stroke-linecap:round; stroke-linejoin:round; stroke-width:4; stroke-opacity:1; fill:none\" points=\"372.268,713.733 372.297,713.733 372.532,713.733 373.002,713.73 373.706,713.721 374.645,713.7 375.818,713.66 377.225,713.589 378.866,713.477 380.741,713.31 382.848,713.07 385.187,712.74 387.758,712.298 390.56,711.72 393.593,710.98 396.855,710.049 400.347,708.894 404.066,707.482 408.012,705.775 412.185,703.73 416.582,701.305 421.204,698.451 426.049,695.119 431.115,691.255 436.402,686.804 441.908,681.705 447.632,675.898 453.572,669.319 459.728,661.903 466.097,653.585 472.678,644.297 479.469,633.975 486.469,622.554 493.676,609.975 501.089,596.181 508.704,581.123 516.522,564.758 524.539,547.057 532.753,528.002 541.164,507.59 549.767,485.84 558.563,462.791 567.548,438.507 576.72,413.084 586.077,386.651 595.616,359.371 605.336,331.453 615.234,303.146 625.308,274.75 635.554,246.615 645.971,219.141 656.556,192.785 667.307,168.055 678.22,145.51 689.294,125.755 700.525,109.437 711.91,97.2354 723.448,89.8472 735.135,87.9763 746.968,92.313 758.944,103.513 771.061,122.173 783.315,148.803 795.703,183.797 808.224,227.398 820.872,279.673 833.646,340.474 846.542,409.417 859.557,485.856 872.688,568.863 885.931,657.228 899.284,749.46 912.743,843.804 926.305,938.28 939.967,1030.73 953.724,1118.89 967.575,1200.47 981.515,1273.25 995.541,1335.19 1009.65,1384.53 1023.84,1419.89 1038.1,1440.4 1052.44,1445.72 1066.84,1436.11 1081.31,1412.46 1095.84,1376.22 1110.43,1329.35 1125.08,1274.2 1139.77,1213.4 1154.51,1149.65 1169.3,1085.57 1184.13,1023.56 1198.99,965.629 1213.89,913.323 1228.81,867.648 1243.76,829.077 1258.74,797.598 1273.73,772.788 1288.73,753.929 1303.75,740.124 1318.77,730.408 1333.8,723.848 1348.83,719.608 1363.85,716.99 1378.87,715.452 1393.88,714.593 1408.87,714.14 1423.84,713.914 1438.79,713.809 1453.72,713.762 1468.61,713.744 1483.48,713.737 1498.3,713.734 1513.09,713.733 1527.83,713.733 1542.53,713.733 1557.17,713.733 1571.76,713.733 1586.29,713.733 1600.76,713.733 1615.17,713.733 1629.5,713.733 1643.77,713.733 1657.95,713.733 1672.06,713.733 1686.09,713.733 1700.03,713.733 1713.88,713.733 1727.64,713.733 1741.3,713.733 1754.86,713.733 1768.32,713.733 1781.67,713.733 1794.92,713.733 1808.05,713.733 1821.06,713.733 1833.96,713.733 1846.73,713.733 1859.38,713.733 1871.9,713.733 1884.29,713.733 1896.54,713.733 1908.66,713.733 1920.64,713.733 1932.47,713.733 1944.16,713.733 1955.69,713.733 1967.08,713.733 1978.31,713.733 1989.38,713.733 2000.3,713.733 2011.05,713.733 2021.63,713.733 2032.05,713.733 2042.3,713.733 2052.37,713.733 2062.27,713.733 2071.99,713.733 2081.53,713.733 2090.88,713.733 2100.06,713.733 2109.04,713.733 2117.84,713.733 2126.44,713.733 2134.85,713.733 2143.06,713.733 2151.08,713.733 2158.9,713.733 2166.51,713.733 2173.93,713.733 2181.13,713.733 2188.13,713.733 2194.93,713.733 2201.51,713.733 2207.88,713.733 2214.03,713.733 2219.97,713.733 2225.7,713.733 2231.2,713.733 2236.49,713.733 2241.56,713.733 2246.4,713.733 2251.02,713.733 2255.42,713.733 2259.59,713.733 2263.54,713.733 2267.26,713.733 2270.75,713.733 2274.01,713.733 2277.04,713.733 2279.85,713.733 2282.42,713.733 2284.76,713.733 2286.86,713.733 2288.74,713.733 2290.38,713.733 2291.79,713.733 2292.96,713.733 2293.9,713.733 2294.6,713.733 2295.07,713.733 \"/>\n",
       "<path clip-path=\"url(#clip640)\" d=\"M2028.57 198.898 L2284.82 198.898 L2284.82 95.2176 L2028.57 95.2176  Z\" fill=\"#ffffff\" fill-rule=\"evenodd\" fill-opacity=\"1\"/>\n",
       "<polyline clip-path=\"url(#clip640)\" style=\"stroke:#000000; stroke-linecap:round; stroke-linejoin:round; stroke-width:4; stroke-opacity:1; fill:none\" points=\"2028.57,198.898 2284.82,198.898 2284.82,95.2176 2028.57,95.2176 2028.57,198.898 \"/>\n",
       "<polyline clip-path=\"url(#clip640)\" style=\"stroke:#009af9; stroke-linecap:round; stroke-linejoin:round; stroke-width:4; stroke-opacity:1; fill:none\" points=\"2051.22,147.058 2187.09,147.058 \"/>\n",
       "<path clip-path=\"url(#clip640)\" d=\"M2223.58 166.745 Q2221.78 171.375 2220.06 172.787 Q2218.35 174.199 2215.48 174.199 L2212.08 174.199 L2212.08 170.634 L2214.58 170.634 Q2216.34 170.634 2217.31 169.8 Q2218.28 168.967 2219.46 165.865 L2220.23 163.921 L2209.74 138.412 L2214.25 138.412 L2222.36 158.689 L2230.46 138.412 L2234.97 138.412 L2223.58 166.745 Z\" fill=\"#000000\" fill-rule=\"evenodd\" fill-opacity=\"1\" /><path clip-path=\"url(#clip640)\" d=\"M2242.26 160.402 L2249.9 160.402 L2249.9 134.037 L2241.59 135.703 L2241.59 131.444 L2249.86 129.778 L2254.53 129.778 L2254.53 160.402 L2262.17 160.402 L2262.17 164.338 L2242.26 164.338 L2242.26 160.402 Z\" fill=\"#000000\" fill-rule=\"evenodd\" fill-opacity=\"1\" /></svg>\n"
      ]
     },
     "execution_count": 23,
     "metadata": {},
     "output_type": "execute_result"
    }
   ],
   "source": [
    "using Plots\n",
    "plot(initX1, derpsi_func(initX1))"
   ]
  },
  {
   "cell_type": "code",
   "execution_count": 66,
   "id": "6e1862b9",
   "metadata": {},
   "outputs": [
    {
     "data": {
      "text/plain": [
       "-1.5086563198078306e-16"
      ]
     },
     "execution_count": 66,
     "metadata": {},
     "output_type": "execute_result"
    }
   ],
   "source": [
    "m_func = Spline1D(initX[4:L-3],state_array[4:L-3,1],k=4)\n",
    "beta_func = Spline1D(initX[4:L-3],state_array[4:L-3,2],k=4)\n",
    "der_funcs=[derivative(m_func,initX) derivative(beta_func,initX) derivative(derpsi_func,initX)]\n",
    "der_funcs[2,1] # i is gridpoint, j is function"
   ]
  },
  {
   "cell_type": "code",
   "execution_count": 58,
   "id": "fe637a43",
   "metadata": {},
   "outputs": [
    {
     "data": {
      "text/plain": [
       "207-element Vector{Float64}:\n",
       " -3.6298572062043756e-16\n",
       " -1.5086563198078306e-16\n",
       " -4.2846357130174216e-17\n",
       " -3.826449677788914e-18\n",
       "  1.2955367671949918e-18\n",
       "  7.621048595599677e-18\n",
       "  5.1885306005563256e-17\n",
       "  2.109734086495333e-16\n",
       "  6.633715930192716e-16\n",
       "  1.768094158067992e-15\n",
       "  4.2032891114686175e-15\n",
       "  9.186535719427543e-15\n",
       "  1.882331476354324e-14\n",
       "  ⋮\n",
       " -3.776355223175436e-19\n",
       " -1.7646519734465227e-20\n",
       "  1.0587911840678348e-20\n",
       "  2.2651714422785337e-19\n",
       " -1.4750589189488752e-19\n",
       " -3.7472920178666525e-19\n",
       "  6.78866591885402e-20\n",
       " -2.96640705754548e-20\n",
       "  5.421010862427541e-19\n",
       "  3.1064380724396854e-18\n",
       "  8.986602830812212e-18\n",
       "  1.9505851304156383e-17"
      ]
     },
     "execution_count": 58,
     "metadata": {},
     "output_type": "execute_result"
    }
   ],
   "source": [
    "derivative(m_func,initX)"
   ]
  },
  {
   "cell_type": "code",
   "execution_count": null,
   "id": "ad5a5420",
   "metadata": {},
   "outputs": [],
   "source": []
  },
  {
   "cell_type": "code",
   "execution_count": null,
   "id": "45f11e59",
   "metadata": {},
   "outputs": [],
   "source": []
  },
  {
   "cell_type": "code",
   "execution_count": 166,
   "id": "ebb47395",
   "metadata": {},
   "outputs": [
    {
     "data": {
      "text/plain": [
       "3.9599527939805415e-10"
      ]
     },
     "execution_count": 166,
     "metadata": {},
     "output_type": "execute_result"
    }
   ],
   "source": [
    "derivative(derpsi_func,initX1[1])"
   ]
  },
  {
   "cell_type": "code",
   "execution_count": 163,
   "id": "f9796baf",
   "metadata": {},
   "outputs": [
    {
     "data": {
      "text/plain": [
       "3.9599527939805415e-10"
      ]
     },
     "execution_count": 163,
     "metadata": {},
     "output_type": "execute_result"
    }
   ],
   "source": [
    "derivative(derpsi_func,initX1)[1]"
   ]
  },
  {
   "cell_type": "code",
   "execution_count": 161,
   "id": "7901660a",
   "metadata": {},
   "outputs": [
    {
     "data": {
      "text/plain": [
       "3.9599527939805415e-10"
      ]
     },
     "execution_count": 161,
     "metadata": {},
     "output_type": "execute_result"
    }
   ],
   "source": [
    "derivative(derpsi_func,initX)[4]"
   ]
  },
  {
   "cell_type": "code",
   "execution_count": null,
   "id": "281f96fd",
   "metadata": {},
   "outputs": [],
   "source": []
  },
  {
   "cell_type": "code",
   "execution_count": null,
   "id": "07ddc6d6",
   "metadata": {},
   "outputs": [],
   "source": []
  },
  {
   "cell_type": "code",
   "execution_count": null,
   "id": "61c7c8bd",
   "metadata": {},
   "outputs": [],
   "source": []
  },
  {
   "cell_type": "code",
   "execution_count": null,
   "id": "3ec9634d",
   "metadata": {},
   "outputs": [],
   "source": [
    "aux=doublegrid(initX1)\n",
    "\n",
    "using Plots\n",
    "plot(aux, derpsi_func(aux).-init_gaussian_der(aux,r0,sigma,A), xaxis=\"x\",title=\"Initial Data\", labels=[\"m\" \"beta\" \"psi\" \"psi,x\"])#, ylim=[0, 10^(-13)])\n",
    "\n",
    "##\n",
    "\n",
    "x2=aux\n",
    "y2=derpsi_func(aux).-init_gaussian_der(aux,r0,sigma,A);\n",
    "\n",
    "##\n",
    "\n",
    "double_resolution=y2\n",
    "basis_resolution=y1\n",
    "xs = ( x1, x2 )\n",
    "ys = ( basis_resolution, double_resolution*16*4 )\n",
    "p = plot()\n",
    "map(x->plot!(x[1],x[2],xaxis=\"x\",title=\"Interpolation error\", legend=false), zip(xs, ys))\n",
    "display(p)\n",
    "     "
   ]
  }
 ],
 "metadata": {
  "@webio": {
   "lastCommId": null,
   "lastKernelId": null
  },
  "kernelspec": {
   "display_name": "Julia 1.8.0",
   "language": "julia",
   "name": "julia-1.8"
  },
  "language_info": {
   "file_extension": ".jl",
   "mimetype": "application/julia",
   "name": "julia",
   "version": "1.8.0"
  },
  "papermill": {
   "default_parameters": {},
   "duration": 7025.507115,
   "end_time": "2023-03-28T20:03:06.430756",
   "environment_variables": {},
   "exception": null,
   "input_path": "Evolution_ScalarField.ipynb",
   "output_path": "Evolution_ScalarField.ipynb",
   "parameters": {
    "A": 0.001,
    "m": 3
   },
   "start_time": "2023-03-28T18:06:00.923641",
   "version": "2.4.0"
  }
 },
 "nbformat": 4,
 "nbformat_minor": 5
}
