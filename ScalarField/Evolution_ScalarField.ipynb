{
 "cells": [
  {
   "cell_type": "markdown",
   "id": "d88601a8",
   "metadata": {
    "papermill": {
     "duration": 0.015163,
     "end_time": "2023-06-25T23:42:57.186088",
     "exception": false,
     "start_time": "2023-06-25T23:42:57.170925",
     "status": "completed"
    },
    "tags": []
   },
   "source": [
    "# Evolution of Einstein's equations"
   ]
  },
  {
   "cell_type": "markdown",
   "id": "03c607c7",
   "metadata": {
    "papermill": {
     "duration": 0.010424,
     "end_time": "2023-06-25T23:42:57.208893",
     "exception": false,
     "start_time": "2023-06-25T23:42:57.198469",
     "status": "completed"
    },
    "tags": []
   },
   "source": [
    "# Initial data , setting length of the domain and discretization\n"
   ]
  },
  {
   "cell_type": "code",
   "execution_count": 164,
   "id": "28f9b745",
   "metadata": {
    "execution": {
     "iopub.execute_input": "2023-06-26T00:42:59.100000Z",
     "iopub.status.busy": "2023-06-26T00:42:59.099000Z",
     "iopub.status.idle": "2023-06-26T00:42:59.434000Z",
     "shell.execute_reply": "2023-06-26T00:42:59.433000Z"
    },
    "papermill": {
     "duration": 0.350967,
     "end_time": "2023-06-25T23:42:59.438671",
     "exception": false,
     "start_time": "2023-06-25T23:42:59.087704",
     "status": "completed"
    },
    "tags": []
   },
   "outputs": [
    {
     "data": {
      "text/plain": [
       "1"
      ]
     },
     "execution_count": 164,
     "metadata": {},
     "output_type": "execute_result"
    }
   ],
   "source": [
    "m = 1\n",
    "A = 0.10#0.0492646484375#0.001#0.049375#5#0.0492645084166179#0.049264507293701174#0.049264508247375494#0.04925#0.0493#0.001#0.049375#0.07#0.05#0.1124921875#0.125\n",
    "run = 1"
   ]
  },
  {
   "cell_type": "code",
   "execution_count": 176,
   "id": "2ff5e8df",
   "metadata": {
    "execution": {
     "iopub.execute_input": "2023-06-26T00:42:59.466000Z",
     "iopub.status.busy": "2023-06-26T00:42:59.466000Z",
     "iopub.status.idle": "2023-06-26T00:42:59.523000Z",
     "shell.execute_reply": "2023-06-26T00:42:59.522000Z"
    },
    "papermill": {
     "duration": 0.071685,
     "end_time": "2023-06-25T23:42:59.525548",
     "exception": false,
     "start_time": "2023-06-25T23:42:59.453863",
     "status": "completed"
    },
    "tags": []
   },
   "outputs": [
    {
     "data": {
      "text/plain": [
       "false"
      ]
     },
     "execution_count": 176,
     "metadata": {},
     "output_type": "execute_result"
    }
   ],
   "source": [
    "global loggrid=false#true\n",
    "global bisection=false"
   ]
  },
  {
   "cell_type": "code",
   "execution_count": 177,
   "id": "80a113e0",
   "metadata": {
    "execution": {
     "iopub.execute_input": "2023-06-26T00:42:59.552000Z",
     "iopub.status.busy": "2023-06-26T00:42:59.552000Z",
     "iopub.status.idle": "2023-06-26T00:42:59.621000Z",
     "shell.execute_reply": "2023-06-26T00:42:59.621000Z"
    },
    "papermill": {
     "duration": 0.08251,
     "end_time": "2023-06-25T23:42:59.622720",
     "exception": false,
     "start_time": "2023-06-25T23:42:59.540210",
     "status": "completed"
    },
    "tags": []
   },
   "outputs": [],
   "source": [
    "using Quadmath, Printf\n",
    "\n",
    "res=m;\n",
    "N=2.0^m*300.0/2.0#2.0^m*1600.0/2.0#2.0^m*1000.0/2.0#Nt=2.0^m*1000.0/2.0\n",
    "Xf=1.0#Float128(1.0);\n",
    "\n",
    "dx=Xf/N#Float128(Xf/N);\n",
    "if loggrid==false\n",
    "    dt=0.5*round(dx,digits=10)\n",
    "else\n",
    "    dt=0.1*round(dx,digits=10)\n",
    "end\n",
    "Nt=2.0^m*300.0/2.0#2.0^m*1600.0/2.0#2.0^m*1000.0/2.0#Nt=2.0^m*1000.0/2.0\n",
    "Tf=Nt*dt; #final time\n",
    "#print(Tf)"
   ]
  },
  {
   "cell_type": "code",
   "execution_count": 178,
   "id": "4f752d54",
   "metadata": {
    "execution": {
     "iopub.execute_input": "2023-06-26T00:42:59.638000Z",
     "iopub.status.busy": "2023-06-26T00:42:59.638000Z",
     "iopub.status.idle": "2023-06-26T00:42:59.702000Z",
     "shell.execute_reply": "2023-06-26T00:42:59.702000Z"
    },
    "papermill": {
     "duration": 0.077298,
     "end_time": "2023-06-25T23:42:59.707408",
     "exception": false,
     "start_time": "2023-06-25T23:42:59.630110",
     "status": "completed"
    },
    "tags": []
   },
   "outputs": [
    {
     "name": "stdout",
     "output_type": "stream",
     "text": [
      "300.0"
     ]
    }
   ],
   "source": [
    "print(N)"
   ]
  },
  {
   "cell_type": "code",
   "execution_count": 179,
   "id": "ad48576a",
   "metadata": {
    "execution": {
     "iopub.execute_input": "2023-06-26T00:42:59.729000Z",
     "iopub.status.busy": "2023-06-26T00:42:59.729000Z",
     "iopub.status.idle": "2023-06-26T00:42:59.783000Z",
     "shell.execute_reply": "2023-06-26T00:42:59.783000Z"
    },
    "papermill": {
     "duration": 0.067163,
     "end_time": "2023-06-25T23:42:59.787014",
     "exception": false,
     "start_time": "2023-06-25T23:42:59.719851",
     "status": "completed"
    },
    "tags": []
   },
   "outputs": [
    {
     "name": "stdout",
     "output_type": "stream",
     "text": [
      "dx =0.0033333333333333335\n",
      "dt =0.00166666665\n",
      "dx/dt =2.0000000200000003\n"
     ]
    }
   ],
   "source": [
    "println(\"dx =\", dx)\n",
    "println(\"dt =\", dt)\n",
    "println(\"dx/dt =\", dx/dt)"
   ]
  },
  {
   "cell_type": "code",
   "execution_count": 180,
   "id": "78fb78a5",
   "metadata": {
    "execution": {
     "iopub.execute_input": "2023-06-26T00:42:59.810000Z",
     "iopub.status.busy": "2023-06-26T00:42:59.810000Z",
     "iopub.status.idle": "2023-06-26T00:43:00.498000Z",
     "shell.execute_reply": "2023-06-26T00:43:00.497000Z"
    },
    "papermill": {
     "duration": 0.702356,
     "end_time": "2023-06-25T23:43:00.502911",
     "exception": false,
     "start_time": "2023-06-25T23:42:59.800555",
     "status": "completed"
    },
    "tags": []
   },
   "outputs": [
    {
     "data": {
      "text/plain": [
       "\"/home/rita13santos/Desktop/MSc Thesis/Git/ScalarField/DATA\""
      ]
     },
     "execution_count": 180,
     "metadata": {},
     "output_type": "execute_result"
    }
   ],
   "source": [
    "global dir = \"/home/rita13santos/Desktop/MSc Thesis/Git/ScalarField/DATA\" #~/data/ritapsantos/\n",
    "#global dir = \"/home/rita13santos/Desktop/MSc Thesis/Git/ScalarField/DATA\""
   ]
  },
  {
   "cell_type": "markdown",
   "id": "e2dd4335",
   "metadata": {
    "papermill": {
     "duration": 0.006798,
     "end_time": "2023-06-25T23:43:00.521277",
     "exception": false,
     "start_time": "2023-06-25T23:43:00.514479",
     "status": "completed"
    },
    "tags": []
   },
   "source": [
    "# Grid"
   ]
  },
  {
   "cell_type": "code",
   "execution_count": 181,
   "id": "bc5288f8",
   "metadata": {
    "execution": {
     "iopub.execute_input": "2023-06-26T00:43:00.535000Z",
     "iopub.status.busy": "2023-06-26T00:43:00.535000Z",
     "iopub.status.idle": "2023-06-26T00:43:00.813000Z",
     "shell.execute_reply": "2023-06-26T00:43:00.812000Z"
    },
    "papermill": {
     "duration": 0.288149,
     "end_time": "2023-06-25T23:43:00.816198",
     "exception": false,
     "start_time": "2023-06-25T23:43:00.528049",
     "status": "completed"
    },
    "tags": []
   },
   "outputs": [],
   "source": [
    "using Printf\n",
    "include(\"./ScalarField.jl\");"
   ]
  },
  {
   "cell_type": "code",
   "execution_count": 182,
   "id": "de24fea3",
   "metadata": {
    "execution": {
     "iopub.execute_input": "2023-06-26T00:43:00.841000Z",
     "iopub.status.busy": "2023-06-26T00:43:00.841000Z",
     "iopub.status.idle": "2023-06-26T00:43:01.456000Z",
     "shell.execute_reply": "2023-06-26T00:43:01.456000Z"
    },
    "papermill": {
     "duration": 0.631177,
     "end_time": "2023-06-25T23:43:01.461452",
     "exception": false,
     "start_time": "2023-06-25T23:43:00.830275",
     "status": "completed"
    },
    "tags": []
   },
   "outputs": [
    {
     "name": "stdout",
     "output_type": "stream",
     "text": [
      "step size is  0.0033333333333333335\n",
      "the time step is 0.00166666665\n"
     ]
    }
   ],
   "source": [
    "ori=0.0#Float128(0.0)#0.0;\n",
    "initX1 = nothing\n",
    "N=int(N)\n",
    "initX1=range(ori, stop=Xf, step=dx);\n",
    "#initX1=create_range(ori,Xf,dx,N)\n",
    "initX = range(round(ori-3.0*dx,digits=10), stop=Xf+3.0*dx, step=dx)\n",
    "#initX=create_range(ori-3.0*dx,Xf+3.0*dx,dx,N+6)\n",
    "\n",
    "L=length(initX);\n",
    "println(\"step size is  \", dx)\n",
    "println(\"the time step is \", dt)\n",
    "\n",
    "if loggrid==true\n",
    "    global originalX=initX\n",
    "    xtilde=gridfunc(initX1)\n",
    "    initX1=xtilde\n",
    "    initX=collect(initX)\n",
    "    initX[4:L-3]=xtilde\n",
    "    \"\"\"global originalX=initX\n",
    "    xtilde=gridfunc(initX1)\n",
    "    initX1=xtilde\n",
    "    initX=collect(initX)\n",
    "    initX[4:L-4]=xtilde[1:length(xtilde)-1]\"\"\"\n",
    "end;"
   ]
  },
  {
   "cell_type": "code",
   "execution_count": 183,
   "id": "3c2ea07d",
   "metadata": {},
   "outputs": [],
   "source": [
    "Narray=zeros(length(initX1))\n",
    "for i in 1:length(initX1)-1\n",
    "    Narray[i+1]=Narray[i]+1\n",
    "end\n",
    "\n",
    "#x=originalX[4:L-3]\n",
    "#y=Narray"
   ]
  },
  {
   "cell_type": "code",
   "execution_count": 184,
   "id": "edf84878",
   "metadata": {},
   "outputs": [],
   "source": [
    "\"\"\"using Plots\n",
    "plot([initX1,x],[Narray,y],xlim=[0,0.008],ylim=[0,400],label=[\"N=1000 uneven grid\" \"N=7500 even grid\"],ylabel=\"Number of points\",xlabel=\"x\")\n",
    "\"\"\";"
   ]
  },
  {
   "cell_type": "markdown",
   "id": "80ab1480",
   "metadata": {
    "papermill": {
     "duration": 0.012577,
     "end_time": "2023-06-25T23:43:01.489367",
     "exception": false,
     "start_time": "2023-06-25T23:43:01.476790",
     "status": "completed"
    },
    "tags": []
   },
   "source": [
    "# Initial data of m β Ψ and Ψ,x"
   ]
  },
  {
   "cell_type": "code",
   "execution_count": 185,
   "id": "d0af654c",
   "metadata": {
    "execution": {
     "iopub.execute_input": "2023-06-26T00:43:01.510000Z",
     "iopub.status.busy": "2023-06-26T00:43:01.510000Z",
     "iopub.status.idle": "2023-06-26T00:43:03.001000Z",
     "shell.execute_reply": "2023-06-26T00:43:03.001000Z"
    },
    "papermill": {
     "duration": 1.504498,
     "end_time": "2023-06-25T23:43:03.004679",
     "exception": false,
     "start_time": "2023-06-25T23:43:01.500181",
     "status": "completed"
    },
    "tags": []
   },
   "outputs": [],
   "source": [
    "using Dierckx\n",
    "using Quadmath\n",
    "\n",
    "\n",
    "####\n",
    "#initm=Array{Float128}(undef, L)\n",
    "#initbeta=Array{Float128}(undef, L)\n",
    "#initpsi=Array{Float128}(undef, L)\n",
    "#initderpsi=Array{Float128}(undef, L)\n",
    "initm=zeros(L);\n",
    "initbeta=zeros(L);\n",
    "initpsi=zeros(L);\n",
    "initderpsi=zeros(L);\n",
    "\n",
    "state_array=[initm initbeta initpsi initderpsi initX];\n",
    "\n",
    "#PSI\n",
    "r0=0.7#0.01#0.7#0.01#0.7#0.7#0.7#0.01#0.7#0.3\n",
    "sigma=0.3\n",
    "initpsi[4:L-3] = init_gaussian(initX1,r0,sigma,A)\n",
    "\n",
    "state_array[:,3] = initpsi\n",
    "state_array = ghost(state_array)\n",
    "\n",
    "#PSI,X FROM PSI\n",
    "initderpsi[4:L-3] = init_gaussian_der(initX1,r0,sigma,A)\n",
    "state_array[:,4] = initderpsi\n",
    "state_array=ghost(state_array)\n",
    "\n",
    "####\n",
    "\n",
    "derpsi_func = Spline1D(initX[4:L-3], state_array[4:L-3,4],  k=4);"
   ]
  },
  {
   "cell_type": "code",
   "execution_count": 186,
   "id": "384597fa",
   "metadata": {
    "execution": {
     "iopub.execute_input": "2023-06-26T00:43:03.034000Z",
     "iopub.status.busy": "2023-06-26T00:43:03.034000Z",
     "iopub.status.idle": "2023-06-26T00:43:04.138000Z",
     "shell.execute_reply": "2023-06-26T00:43:04.138000Z"
    },
    "papermill": {
     "duration": 1.120928,
     "end_time": "2023-06-25T23:43:04.140984",
     "exception": false,
     "start_time": "2023-06-25T23:43:03.020056",
     "status": "completed"
    },
    "tags": []
   },
   "outputs": [],
   "source": [
    "y0=[0 0 0]\n",
    "\n",
    "state_array[4:L-3,1:3] = n_rk4wrapper(RHS,y0,initX[4:L-3],0,derpsi_func,state_array[:,:]);\n",
    "\n",
    "state_array = ghost(state_array);"
   ]
  },
  {
   "cell_type": "code",
   "execution_count": 187,
   "id": "48f10a76",
   "metadata": {
    "execution": {
     "iopub.execute_input": "2023-06-26T00:43:04.172000Z",
     "iopub.status.busy": "2023-06-26T00:43:04.172000Z",
     "iopub.status.idle": "2023-06-26T00:43:20.413000Z",
     "shell.execute_reply": "2023-06-26T00:43:20.413000Z"
    },
    "papermill": {
     "duration": 16.259104,
     "end_time": "2023-06-25T23:43:20.416060",
     "exception": false,
     "start_time": "2023-06-25T23:43:04.156956",
     "status": "completed"
    },
    "tags": []
   },
   "outputs": [
    {
     "data": {
      "image/svg+xml": [
       "<?xml version=\"1.0\" encoding=\"utf-8\"?>\n",
       "<svg xmlns=\"http://www.w3.org/2000/svg\" xmlns:xlink=\"http://www.w3.org/1999/xlink\" width=\"600\" height=\"400\" viewBox=\"0 0 2400 1600\">\n",
       "<defs>\n",
       "  <clipPath id=\"clip030\">\n",
       "    <rect x=\"0\" y=\"0\" width=\"2400\" height=\"1600\"/>\n",
       "  </clipPath>\n",
       "</defs>\n",
       "<path clip-path=\"url(#clip030)\" d=\"M0 1600 L2400 1600 L2400 0 L0 0  Z\" fill=\"#ffffff\" fill-rule=\"evenodd\" fill-opacity=\"1\"/>\n",
       "<defs>\n",
       "  <clipPath id=\"clip031\">\n",
       "    <rect x=\"480\" y=\"0\" width=\"1681\" height=\"1600\"/>\n",
       "  </clipPath>\n",
       "</defs>\n",
       "<path clip-path=\"url(#clip030)\" d=\"M224.098 1423.18 L2352.76 1423.18 L2352.76 123.472 L224.098 123.472  Z\" fill=\"#ffffff\" fill-rule=\"evenodd\" fill-opacity=\"1\"/>\n",
       "<defs>\n",
       "  <clipPath id=\"clip032\">\n",
       "    <rect x=\"224\" y=\"123\" width=\"2130\" height=\"1301\"/>\n",
       "  </clipPath>\n",
       "</defs>\n",
       "<polyline clip-path=\"url(#clip032)\" style=\"stroke:#000000; stroke-linecap:round; stroke-linejoin:round; stroke-width:2; stroke-opacity:0.1; fill:none\" points=\"284.343,1423.18 284.343,123.472 \"/>\n",
       "<polyline clip-path=\"url(#clip032)\" style=\"stroke:#000000; stroke-linecap:round; stroke-linejoin:round; stroke-width:2; stroke-opacity:0.1; fill:none\" points=\"786.385,1423.18 786.385,123.472 \"/>\n",
       "<polyline clip-path=\"url(#clip032)\" style=\"stroke:#000000; stroke-linecap:round; stroke-linejoin:round; stroke-width:2; stroke-opacity:0.1; fill:none\" points=\"1288.43,1423.18 1288.43,123.472 \"/>\n",
       "<polyline clip-path=\"url(#clip032)\" style=\"stroke:#000000; stroke-linecap:round; stroke-linejoin:round; stroke-width:2; stroke-opacity:0.1; fill:none\" points=\"1790.47,1423.18 1790.47,123.472 \"/>\n",
       "<polyline clip-path=\"url(#clip032)\" style=\"stroke:#000000; stroke-linecap:round; stroke-linejoin:round; stroke-width:2; stroke-opacity:0.1; fill:none\" points=\"2292.51,1423.18 2292.51,123.472 \"/>\n",
       "<polyline clip-path=\"url(#clip030)\" style=\"stroke:#000000; stroke-linecap:round; stroke-linejoin:round; stroke-width:4; stroke-opacity:1; fill:none\" points=\"224.098,1423.18 2352.76,1423.18 \"/>\n",
       "<polyline clip-path=\"url(#clip030)\" style=\"stroke:#000000; stroke-linecap:round; stroke-linejoin:round; stroke-width:4; stroke-opacity:1; fill:none\" points=\"284.343,1423.18 284.343,1404.28 \"/>\n",
       "<polyline clip-path=\"url(#clip030)\" style=\"stroke:#000000; stroke-linecap:round; stroke-linejoin:round; stroke-width:4; stroke-opacity:1; fill:none\" points=\"786.385,1423.18 786.385,1404.28 \"/>\n",
       "<polyline clip-path=\"url(#clip030)\" style=\"stroke:#000000; stroke-linecap:round; stroke-linejoin:round; stroke-width:4; stroke-opacity:1; fill:none\" points=\"1288.43,1423.18 1288.43,1404.28 \"/>\n",
       "<polyline clip-path=\"url(#clip030)\" style=\"stroke:#000000; stroke-linecap:round; stroke-linejoin:round; stroke-width:4; stroke-opacity:1; fill:none\" points=\"1790.47,1423.18 1790.47,1404.28 \"/>\n",
       "<polyline clip-path=\"url(#clip030)\" style=\"stroke:#000000; stroke-linecap:round; stroke-linejoin:round; stroke-width:4; stroke-opacity:1; fill:none\" points=\"2292.51,1423.18 2292.51,1404.28 \"/>\n",
       "<path clip-path=\"url(#clip030)\" d=\"M246.646 1454.1 Q243.035 1454.1 241.207 1457.66 Q239.401 1461.2 239.401 1468.33 Q239.401 1475.44 241.207 1479.01 Q243.035 1482.55 246.646 1482.55 Q250.281 1482.55 252.086 1479.01 Q253.915 1475.44 253.915 1468.33 Q253.915 1461.2 252.086 1457.66 Q250.281 1454.1 246.646 1454.1 M246.646 1450.39 Q252.457 1450.39 255.512 1455 Q258.591 1459.58 258.591 1468.33 Q258.591 1477.06 255.512 1481.67 Q252.457 1486.25 246.646 1486.25 Q240.836 1486.25 237.758 1481.67 Q234.702 1477.06 234.702 1468.33 Q234.702 1459.58 237.758 1455 Q240.836 1450.39 246.646 1450.39 Z\" fill=\"#000000\" fill-rule=\"evenodd\" fill-opacity=\"1\" /><path clip-path=\"url(#clip030)\" d=\"M266.808 1479.7 L271.693 1479.7 L271.693 1485.58 L266.808 1485.58 L266.808 1479.7 Z\" fill=\"#000000\" fill-rule=\"evenodd\" fill-opacity=\"1\" /><path clip-path=\"url(#clip030)\" d=\"M291.878 1454.1 Q288.267 1454.1 286.438 1457.66 Q284.632 1461.2 284.632 1468.33 Q284.632 1475.44 286.438 1479.01 Q288.267 1482.55 291.878 1482.55 Q295.512 1482.55 297.317 1479.01 Q299.146 1475.44 299.146 1468.33 Q299.146 1461.2 297.317 1457.66 Q295.512 1454.1 291.878 1454.1 M291.878 1450.39 Q297.688 1450.39 300.743 1455 Q303.822 1459.58 303.822 1468.33 Q303.822 1477.06 300.743 1481.67 Q297.688 1486.25 291.878 1486.25 Q286.067 1486.25 282.989 1481.67 Q279.933 1477.06 279.933 1468.33 Q279.933 1459.58 282.989 1455 Q286.067 1450.39 291.878 1450.39 Z\" fill=\"#000000\" fill-rule=\"evenodd\" fill-opacity=\"1\" /><path clip-path=\"url(#clip030)\" d=\"M322.039 1454.1 Q318.428 1454.1 316.6 1457.66 Q314.794 1461.2 314.794 1468.33 Q314.794 1475.44 316.6 1479.01 Q318.428 1482.55 322.039 1482.55 Q325.674 1482.55 327.479 1479.01 Q329.308 1475.44 329.308 1468.33 Q329.308 1461.2 327.479 1457.66 Q325.674 1454.1 322.039 1454.1 M322.039 1450.39 Q327.85 1450.39 330.905 1455 Q333.984 1459.58 333.984 1468.33 Q333.984 1477.06 330.905 1481.67 Q327.85 1486.25 322.039 1486.25 Q316.229 1486.25 313.151 1481.67 Q310.095 1477.06 310.095 1468.33 Q310.095 1459.58 313.151 1455 Q316.229 1450.39 322.039 1450.39 Z\" fill=\"#000000\" fill-rule=\"evenodd\" fill-opacity=\"1\" /><path clip-path=\"url(#clip030)\" d=\"M749.186 1454.1 Q745.575 1454.1 743.746 1457.66 Q741.941 1461.2 741.941 1468.33 Q741.941 1475.44 743.746 1479.01 Q745.575 1482.55 749.186 1482.55 Q752.82 1482.55 754.626 1479.01 Q756.455 1475.44 756.455 1468.33 Q756.455 1461.2 754.626 1457.66 Q752.82 1454.1 749.186 1454.1 M749.186 1450.39 Q754.996 1450.39 758.052 1455 Q761.13 1459.58 761.13 1468.33 Q761.13 1477.06 758.052 1481.67 Q754.996 1486.25 749.186 1486.25 Q743.376 1486.25 740.297 1481.67 Q737.242 1477.06 737.242 1468.33 Q737.242 1459.58 740.297 1455 Q743.376 1450.39 749.186 1450.39 Z\" fill=\"#000000\" fill-rule=\"evenodd\" fill-opacity=\"1\" /><path clip-path=\"url(#clip030)\" d=\"M769.348 1479.7 L774.232 1479.7 L774.232 1485.58 L769.348 1485.58 L769.348 1479.7 Z\" fill=\"#000000\" fill-rule=\"evenodd\" fill-opacity=\"1\" /><path clip-path=\"url(#clip030)\" d=\"M788.445 1481.64 L804.764 1481.64 L804.764 1485.58 L782.82 1485.58 L782.82 1481.64 Q785.482 1478.89 790.065 1474.26 Q794.672 1469.61 795.852 1468.27 Q798.098 1465.74 798.977 1464.01 Q799.88 1462.25 799.88 1460.56 Q799.88 1457.8 797.936 1456.07 Q796.014 1454.33 792.913 1454.33 Q790.714 1454.33 788.26 1455.09 Q785.829 1455.86 783.052 1457.41 L783.052 1452.69 Q785.876 1451.55 788.329 1450.97 Q790.783 1450.39 792.82 1450.39 Q798.19 1450.39 801.385 1453.08 Q804.579 1455.77 804.579 1460.26 Q804.579 1462.39 803.769 1464.31 Q802.982 1466.2 800.876 1468.8 Q800.297 1469.47 797.195 1472.69 Q794.093 1475.88 788.445 1481.64 Z\" fill=\"#000000\" fill-rule=\"evenodd\" fill-opacity=\"1\" /><path clip-path=\"url(#clip030)\" d=\"M814.625 1451.02 L832.982 1451.02 L832.982 1454.96 L818.908 1454.96 L818.908 1463.43 Q819.926 1463.08 820.945 1462.92 Q821.963 1462.73 822.982 1462.73 Q828.769 1462.73 832.149 1465.9 Q835.528 1469.08 835.528 1474.49 Q835.528 1480.07 832.056 1483.17 Q828.584 1486.25 822.264 1486.25 Q820.088 1486.25 817.82 1485.88 Q815.575 1485.51 813.167 1484.77 L813.167 1480.07 Q815.25 1481.2 817.473 1481.76 Q819.695 1482.32 822.172 1482.32 Q826.176 1482.32 828.514 1480.21 Q830.852 1478.1 830.852 1474.49 Q830.852 1470.88 828.514 1468.77 Q826.176 1466.67 822.172 1466.67 Q820.297 1466.67 818.422 1467.08 Q816.57 1467.5 814.625 1468.38 L814.625 1451.02 Z\" fill=\"#000000\" fill-rule=\"evenodd\" fill-opacity=\"1\" /><path clip-path=\"url(#clip030)\" d=\"M1250.73 1454.1 Q1247.12 1454.1 1245.29 1457.66 Q1243.49 1461.2 1243.49 1468.33 Q1243.49 1475.44 1245.29 1479.01 Q1247.12 1482.55 1250.73 1482.55 Q1254.36 1482.55 1256.17 1479.01 Q1258 1475.44 1258 1468.33 Q1258 1461.2 1256.17 1457.66 Q1254.36 1454.1 1250.73 1454.1 M1250.73 1450.39 Q1256.54 1450.39 1259.6 1455 Q1262.67 1459.58 1262.67 1468.33 Q1262.67 1477.06 1259.6 1481.67 Q1256.54 1486.25 1250.73 1486.25 Q1244.92 1486.25 1241.84 1481.67 Q1238.79 1477.06 1238.79 1468.33 Q1238.79 1459.58 1241.84 1455 Q1244.92 1450.39 1250.73 1450.39 Z\" fill=\"#000000\" fill-rule=\"evenodd\" fill-opacity=\"1\" /><path clip-path=\"url(#clip030)\" d=\"M1270.89 1479.7 L1275.78 1479.7 L1275.78 1485.58 L1270.89 1485.58 L1270.89 1479.7 Z\" fill=\"#000000\" fill-rule=\"evenodd\" fill-opacity=\"1\" /><path clip-path=\"url(#clip030)\" d=\"M1286.01 1451.02 L1304.36 1451.02 L1304.36 1454.96 L1290.29 1454.96 L1290.29 1463.43 Q1291.31 1463.08 1292.33 1462.92 Q1293.35 1462.73 1294.36 1462.73 Q1300.15 1462.73 1303.53 1465.9 Q1306.91 1469.08 1306.91 1474.49 Q1306.91 1480.07 1303.44 1483.17 Q1299.97 1486.25 1293.65 1486.25 Q1291.47 1486.25 1289.2 1485.88 Q1286.96 1485.51 1284.55 1484.77 L1284.55 1480.07 Q1286.63 1481.2 1288.86 1481.76 Q1291.08 1482.32 1293.55 1482.32 Q1297.56 1482.32 1299.9 1480.21 Q1302.23 1478.1 1302.23 1474.49 Q1302.23 1470.88 1299.9 1468.77 Q1297.56 1466.67 1293.55 1466.67 Q1291.68 1466.67 1289.8 1467.08 Q1287.95 1467.5 1286.01 1468.38 L1286.01 1451.02 Z\" fill=\"#000000\" fill-rule=\"evenodd\" fill-opacity=\"1\" /><path clip-path=\"url(#clip030)\" d=\"M1326.12 1454.1 Q1322.51 1454.1 1320.68 1457.66 Q1318.88 1461.2 1318.88 1468.33 Q1318.88 1475.44 1320.68 1479.01 Q1322.51 1482.55 1326.12 1482.55 Q1329.76 1482.55 1331.56 1479.01 Q1333.39 1475.44 1333.39 1468.33 Q1333.39 1461.2 1331.56 1457.66 Q1329.76 1454.1 1326.12 1454.1 M1326.12 1450.39 Q1331.93 1450.39 1334.99 1455 Q1338.07 1459.58 1338.07 1468.33 Q1338.07 1477.06 1334.99 1481.67 Q1331.93 1486.25 1326.12 1486.25 Q1320.31 1486.25 1317.23 1481.67 Q1314.18 1477.06 1314.18 1468.33 Q1314.18 1459.58 1317.23 1455 Q1320.31 1450.39 1326.12 1450.39 Z\" fill=\"#000000\" fill-rule=\"evenodd\" fill-opacity=\"1\" /><path clip-path=\"url(#clip030)\" d=\"M1753.27 1454.1 Q1749.66 1454.1 1747.83 1457.66 Q1746.02 1461.2 1746.02 1468.33 Q1746.02 1475.44 1747.83 1479.01 Q1749.66 1482.55 1753.27 1482.55 Q1756.9 1482.55 1758.71 1479.01 Q1760.54 1475.44 1760.54 1468.33 Q1760.54 1461.2 1758.71 1457.66 Q1756.9 1454.1 1753.27 1454.1 M1753.27 1450.39 Q1759.08 1450.39 1762.14 1455 Q1765.21 1459.58 1765.21 1468.33 Q1765.21 1477.06 1762.14 1481.67 Q1759.08 1486.25 1753.27 1486.25 Q1747.46 1486.25 1744.38 1481.67 Q1741.33 1477.06 1741.33 1468.33 Q1741.33 1459.58 1744.38 1455 Q1747.46 1450.39 1753.27 1450.39 Z\" fill=\"#000000\" fill-rule=\"evenodd\" fill-opacity=\"1\" /><path clip-path=\"url(#clip030)\" d=\"M1773.43 1479.7 L1778.32 1479.7 L1778.32 1485.58 L1773.43 1485.58 L1773.43 1479.7 Z\" fill=\"#000000\" fill-rule=\"evenodd\" fill-opacity=\"1\" /><path clip-path=\"url(#clip030)\" d=\"M1787.32 1451.02 L1809.54 1451.02 L1809.54 1453.01 L1797 1485.58 L1792.11 1485.58 L1803.92 1454.96 L1787.32 1454.96 L1787.32 1451.02 Z\" fill=\"#000000\" fill-rule=\"evenodd\" fill-opacity=\"1\" /><path clip-path=\"url(#clip030)\" d=\"M1818.71 1451.02 L1837.07 1451.02 L1837.07 1454.96 L1822.99 1454.96 L1822.99 1463.43 Q1824.01 1463.08 1825.03 1462.92 Q1826.05 1462.73 1827.07 1462.73 Q1832.85 1462.73 1836.23 1465.9 Q1839.61 1469.08 1839.61 1474.49 Q1839.61 1480.07 1836.14 1483.17 Q1832.67 1486.25 1826.35 1486.25 Q1824.17 1486.25 1821.9 1485.88 Q1819.66 1485.51 1817.25 1484.77 L1817.25 1480.07 Q1819.33 1481.2 1821.56 1481.76 Q1823.78 1482.32 1826.26 1482.32 Q1830.26 1482.32 1832.6 1480.21 Q1834.94 1478.1 1834.94 1474.49 Q1834.94 1470.88 1832.6 1468.77 Q1830.26 1466.67 1826.26 1466.67 Q1824.38 1466.67 1822.51 1467.08 Q1820.65 1467.5 1818.71 1468.38 L1818.71 1451.02 Z\" fill=\"#000000\" fill-rule=\"evenodd\" fill-opacity=\"1\" /><path clip-path=\"url(#clip030)\" d=\"M2244.58 1481.64 L2252.22 1481.64 L2252.22 1455.28 L2243.91 1456.95 L2243.91 1452.69 L2252.18 1451.02 L2256.85 1451.02 L2256.85 1481.64 L2264.49 1481.64 L2264.49 1485.58 L2244.58 1485.58 L2244.58 1481.64 Z\" fill=\"#000000\" fill-rule=\"evenodd\" fill-opacity=\"1\" /><path clip-path=\"url(#clip030)\" d=\"M2273.93 1479.7 L2278.82 1479.7 L2278.82 1485.58 L2273.93 1485.58 L2273.93 1479.7 Z\" fill=\"#000000\" fill-rule=\"evenodd\" fill-opacity=\"1\" /><path clip-path=\"url(#clip030)\" d=\"M2299 1454.1 Q2295.39 1454.1 2293.56 1457.66 Q2291.76 1461.2 2291.76 1468.33 Q2291.76 1475.44 2293.56 1479.01 Q2295.39 1482.55 2299 1482.55 Q2302.64 1482.55 2304.44 1479.01 Q2306.27 1475.44 2306.27 1468.33 Q2306.27 1461.2 2304.44 1457.66 Q2302.64 1454.1 2299 1454.1 M2299 1450.39 Q2304.81 1450.39 2307.87 1455 Q2310.95 1459.58 2310.95 1468.33 Q2310.95 1477.06 2307.87 1481.67 Q2304.81 1486.25 2299 1486.25 Q2293.19 1486.25 2290.12 1481.67 Q2287.06 1477.06 2287.06 1468.33 Q2287.06 1459.58 2290.12 1455 Q2293.19 1450.39 2299 1450.39 Z\" fill=\"#000000\" fill-rule=\"evenodd\" fill-opacity=\"1\" /><path clip-path=\"url(#clip030)\" d=\"M2329.17 1454.1 Q2325.55 1454.1 2323.73 1457.66 Q2321.92 1461.2 2321.92 1468.33 Q2321.92 1475.44 2323.73 1479.01 Q2325.55 1482.55 2329.17 1482.55 Q2332.8 1482.55 2334.61 1479.01 Q2336.43 1475.44 2336.43 1468.33 Q2336.43 1461.2 2334.61 1457.66 Q2332.8 1454.1 2329.17 1454.1 M2329.17 1450.39 Q2334.98 1450.39 2338.03 1455 Q2341.11 1459.58 2341.11 1468.33 Q2341.11 1477.06 2338.03 1481.67 Q2334.98 1486.25 2329.17 1486.25 Q2323.36 1486.25 2320.28 1481.67 Q2317.22 1477.06 2317.22 1468.33 Q2317.22 1459.58 2320.28 1455 Q2323.36 1450.39 2329.17 1450.39 Z\" fill=\"#000000\" fill-rule=\"evenodd\" fill-opacity=\"1\" /><path clip-path=\"url(#clip030)\" d=\"M1305.04 1532.4 L1292.15 1549.74 L1305.71 1568.04 L1298.8 1568.04 L1288.43 1554.04 L1278.05 1568.04 L1271.14 1568.04 L1284.99 1549.39 L1272.32 1532.4 L1279.23 1532.4 L1288.68 1545.1 L1298.13 1532.4 L1305.04 1532.4 Z\" fill=\"#000000\" fill-rule=\"evenodd\" fill-opacity=\"1\" /><polyline clip-path=\"url(#clip032)\" style=\"stroke:#000000; stroke-linecap:round; stroke-linejoin:round; stroke-width:2; stroke-opacity:0.1; fill:none\" points=\"224.098,1309.33 2352.76,1309.33 \"/>\n",
       "<polyline clip-path=\"url(#clip032)\" style=\"stroke:#000000; stroke-linecap:round; stroke-linejoin:round; stroke-width:2; stroke-opacity:0.1; fill:none\" points=\"224.098,1134.96 2352.76,1134.96 \"/>\n",
       "<polyline clip-path=\"url(#clip032)\" style=\"stroke:#000000; stroke-linecap:round; stroke-linejoin:round; stroke-width:2; stroke-opacity:0.1; fill:none\" points=\"224.098,960.597 2352.76,960.597 \"/>\n",
       "<polyline clip-path=\"url(#clip032)\" style=\"stroke:#000000; stroke-linecap:round; stroke-linejoin:round; stroke-width:2; stroke-opacity:0.1; fill:none\" points=\"224.098,786.232 2352.76,786.232 \"/>\n",
       "<polyline clip-path=\"url(#clip032)\" style=\"stroke:#000000; stroke-linecap:round; stroke-linejoin:round; stroke-width:2; stroke-opacity:0.1; fill:none\" points=\"224.098,611.867 2352.76,611.867 \"/>\n",
       "<polyline clip-path=\"url(#clip032)\" style=\"stroke:#000000; stroke-linecap:round; stroke-linejoin:round; stroke-width:2; stroke-opacity:0.1; fill:none\" points=\"224.098,437.502 2352.76,437.502 \"/>\n",
       "<polyline clip-path=\"url(#clip032)\" style=\"stroke:#000000; stroke-linecap:round; stroke-linejoin:round; stroke-width:2; stroke-opacity:0.1; fill:none\" points=\"224.098,263.137 2352.76,263.137 \"/>\n",
       "<polyline clip-path=\"url(#clip030)\" style=\"stroke:#000000; stroke-linecap:round; stroke-linejoin:round; stroke-width:4; stroke-opacity:1; fill:none\" points=\"224.098,1423.18 224.098,123.472 \"/>\n",
       "<polyline clip-path=\"url(#clip030)\" style=\"stroke:#000000; stroke-linecap:round; stroke-linejoin:round; stroke-width:4; stroke-opacity:1; fill:none\" points=\"224.098,1309.33 242.996,1309.33 \"/>\n",
       "<polyline clip-path=\"url(#clip030)\" style=\"stroke:#000000; stroke-linecap:round; stroke-linejoin:round; stroke-width:4; stroke-opacity:1; fill:none\" points=\"224.098,1134.96 242.996,1134.96 \"/>\n",
       "<polyline clip-path=\"url(#clip030)\" style=\"stroke:#000000; stroke-linecap:round; stroke-linejoin:round; stroke-width:4; stroke-opacity:1; fill:none\" points=\"224.098,960.597 242.996,960.597 \"/>\n",
       "<polyline clip-path=\"url(#clip030)\" style=\"stroke:#000000; stroke-linecap:round; stroke-linejoin:round; stroke-width:4; stroke-opacity:1; fill:none\" points=\"224.098,786.232 242.996,786.232 \"/>\n",
       "<polyline clip-path=\"url(#clip030)\" style=\"stroke:#000000; stroke-linecap:round; stroke-linejoin:round; stroke-width:4; stroke-opacity:1; fill:none\" points=\"224.098,611.867 242.996,611.867 \"/>\n",
       "<polyline clip-path=\"url(#clip030)\" style=\"stroke:#000000; stroke-linecap:round; stroke-linejoin:round; stroke-width:4; stroke-opacity:1; fill:none\" points=\"224.098,437.502 242.996,437.502 \"/>\n",
       "<polyline clip-path=\"url(#clip030)\" style=\"stroke:#000000; stroke-linecap:round; stroke-linejoin:round; stroke-width:4; stroke-opacity:1; fill:none\" points=\"224.098,263.137 242.996,263.137 \"/>\n",
       "<path clip-path=\"url(#clip030)\" d=\"M51.9875 1309.78 L81.6633 1309.78 L81.6633 1313.71 L51.9875 1313.71 L51.9875 1309.78 Z\" fill=\"#000000\" fill-rule=\"evenodd\" fill-opacity=\"1\" /><path clip-path=\"url(#clip030)\" d=\"M101.756 1295.13 Q98.1447 1295.13 96.316 1298.69 Q94.5104 1302.23 94.5104 1309.36 Q94.5104 1316.47 96.316 1320.03 Q98.1447 1323.57 101.756 1323.57 Q105.39 1323.57 107.196 1320.03 Q109.024 1316.47 109.024 1309.36 Q109.024 1302.23 107.196 1298.69 Q105.39 1295.13 101.756 1295.13 M101.756 1291.42 Q107.566 1291.42 110.621 1296.03 Q113.7 1300.61 113.7 1309.36 Q113.7 1318.09 110.621 1322.69 Q107.566 1327.28 101.756 1327.28 Q95.9456 1327.28 92.8669 1322.69 Q89.8114 1318.09 89.8114 1309.36 Q89.8114 1300.61 92.8669 1296.03 Q95.9456 1291.42 101.756 1291.42 Z\" fill=\"#000000\" fill-rule=\"evenodd\" fill-opacity=\"1\" /><path clip-path=\"url(#clip030)\" d=\"M121.918 1320.73 L126.802 1320.73 L126.802 1326.61 L121.918 1326.61 L121.918 1320.73 Z\" fill=\"#000000\" fill-rule=\"evenodd\" fill-opacity=\"1\" /><path clip-path=\"url(#clip030)\" d=\"M137.797 1322.67 L145.436 1322.67 L145.436 1296.31 L137.126 1297.97 L137.126 1293.71 L145.39 1292.05 L150.066 1292.05 L150.066 1322.67 L157.705 1322.67 L157.705 1326.61 L137.797 1326.61 L137.797 1322.67 Z\" fill=\"#000000\" fill-rule=\"evenodd\" fill-opacity=\"1\" /><path clip-path=\"url(#clip030)\" d=\"M167.195 1292.05 L185.552 1292.05 L185.552 1295.98 L171.478 1295.98 L171.478 1304.45 Q172.496 1304.11 173.515 1303.95 Q174.533 1303.76 175.552 1303.76 Q181.339 1303.76 184.718 1306.93 Q188.098 1310.1 188.098 1315.52 Q188.098 1321.1 184.626 1324.2 Q181.153 1327.28 174.834 1327.28 Q172.658 1327.28 170.39 1326.91 Q168.144 1326.54 165.737 1325.8 L165.737 1321.1 Q167.82 1322.23 170.042 1322.79 Q172.265 1323.34 174.741 1323.34 Q178.746 1323.34 181.084 1321.24 Q183.422 1319.13 183.422 1315.52 Q183.422 1311.91 181.084 1309.8 Q178.746 1307.7 174.741 1307.7 Q172.866 1307.7 170.991 1308.11 Q169.14 1308.53 167.195 1309.41 L167.195 1292.05 Z\" fill=\"#000000\" fill-rule=\"evenodd\" fill-opacity=\"1\" /><path clip-path=\"url(#clip030)\" d=\"M50.9921 1135.41 L80.6679 1135.41 L80.6679 1139.35 L50.9921 1139.35 L50.9921 1135.41 Z\" fill=\"#000000\" fill-rule=\"evenodd\" fill-opacity=\"1\" /><path clip-path=\"url(#clip030)\" d=\"M100.76 1120.76 Q97.1493 1120.76 95.3206 1124.33 Q93.515 1127.87 93.515 1135 Q93.515 1142.1 95.3206 1145.67 Q97.1493 1149.21 100.76 1149.21 Q104.395 1149.21 106.2 1145.67 Q108.029 1142.1 108.029 1135 Q108.029 1127.87 106.2 1124.33 Q104.395 1120.76 100.76 1120.76 M100.76 1117.06 Q106.571 1117.06 109.626 1121.66 Q112.705 1126.25 112.705 1135 Q112.705 1143.72 109.626 1148.33 Q106.571 1152.91 100.76 1152.91 Q94.9502 1152.91 91.8715 1148.33 Q88.816 1143.72 88.816 1135 Q88.816 1126.25 91.8715 1121.66 Q94.9502 1117.06 100.76 1117.06 Z\" fill=\"#000000\" fill-rule=\"evenodd\" fill-opacity=\"1\" /><path clip-path=\"url(#clip030)\" d=\"M120.922 1146.36 L125.807 1146.36 L125.807 1152.24 L120.922 1152.24 L120.922 1146.36 Z\" fill=\"#000000\" fill-rule=\"evenodd\" fill-opacity=\"1\" /><path clip-path=\"url(#clip030)\" d=\"M136.802 1148.31 L144.441 1148.31 L144.441 1121.94 L136.131 1123.61 L136.131 1119.35 L144.394 1117.68 L149.07 1117.68 L149.07 1148.31 L156.709 1148.31 L156.709 1152.24 L136.802 1152.24 L136.802 1148.31 Z\" fill=\"#000000\" fill-rule=\"evenodd\" fill-opacity=\"1\" /><path clip-path=\"url(#clip030)\" d=\"M176.153 1120.76 Q172.542 1120.76 170.714 1124.33 Q168.908 1127.87 168.908 1135 Q168.908 1142.1 170.714 1145.67 Q172.542 1149.21 176.153 1149.21 Q179.788 1149.21 181.593 1145.67 Q183.422 1142.1 183.422 1135 Q183.422 1127.87 181.593 1124.33 Q179.788 1120.76 176.153 1120.76 M176.153 1117.06 Q181.964 1117.06 185.019 1121.66 Q188.098 1126.25 188.098 1135 Q188.098 1143.72 185.019 1148.33 Q181.964 1152.91 176.153 1152.91 Q170.343 1152.91 167.265 1148.33 Q164.209 1143.72 164.209 1135 Q164.209 1126.25 167.265 1121.66 Q170.343 1117.06 176.153 1117.06 Z\" fill=\"#000000\" fill-rule=\"evenodd\" fill-opacity=\"1\" /><path clip-path=\"url(#clip030)\" d=\"M51.9875 961.048 L81.6633 961.048 L81.6633 964.984 L51.9875 964.984 L51.9875 961.048 Z\" fill=\"#000000\" fill-rule=\"evenodd\" fill-opacity=\"1\" /><path clip-path=\"url(#clip030)\" d=\"M101.756 946.396 Q98.1447 946.396 96.316 949.961 Q94.5104 953.502 94.5104 960.632 Q94.5104 967.738 96.316 971.303 Q98.1447 974.845 101.756 974.845 Q105.39 974.845 107.196 971.303 Q109.024 967.738 109.024 960.632 Q109.024 953.502 107.196 949.961 Q105.39 946.396 101.756 946.396 M101.756 942.692 Q107.566 942.692 110.621 947.298 Q113.7 951.882 113.7 960.632 Q113.7 969.359 110.621 973.965 Q107.566 978.548 101.756 978.548 Q95.9456 978.548 92.8669 973.965 Q89.8114 969.359 89.8114 960.632 Q89.8114 951.882 92.8669 947.298 Q95.9456 942.692 101.756 942.692 Z\" fill=\"#000000\" fill-rule=\"evenodd\" fill-opacity=\"1\" /><path clip-path=\"url(#clip030)\" d=\"M121.918 971.997 L126.802 971.997 L126.802 977.877 L121.918 977.877 L121.918 971.997 Z\" fill=\"#000000\" fill-rule=\"evenodd\" fill-opacity=\"1\" /><path clip-path=\"url(#clip030)\" d=\"M146.987 946.396 Q143.376 946.396 141.547 949.961 Q139.742 953.502 139.742 960.632 Q139.742 967.738 141.547 971.303 Q143.376 974.845 146.987 974.845 Q150.621 974.845 152.427 971.303 Q154.255 967.738 154.255 960.632 Q154.255 953.502 152.427 949.961 Q150.621 946.396 146.987 946.396 M146.987 942.692 Q152.797 942.692 155.853 947.298 Q158.931 951.882 158.931 960.632 Q158.931 969.359 155.853 973.965 Q152.797 978.548 146.987 978.548 Q141.177 978.548 138.098 973.965 Q135.043 969.359 135.043 960.632 Q135.043 951.882 138.098 947.298 Q141.177 942.692 146.987 942.692 Z\" fill=\"#000000\" fill-rule=\"evenodd\" fill-opacity=\"1\" /><path clip-path=\"url(#clip030)\" d=\"M167.195 943.317 L185.552 943.317 L185.552 947.252 L171.478 947.252 L171.478 955.724 Q172.496 955.377 173.515 955.215 Q174.533 955.03 175.552 955.03 Q181.339 955.03 184.718 958.201 Q188.098 961.372 188.098 966.789 Q188.098 972.368 184.626 975.47 Q181.153 978.548 174.834 978.548 Q172.658 978.548 170.39 978.178 Q168.144 977.808 165.737 977.067 L165.737 972.368 Q167.82 973.502 170.042 974.058 Q172.265 974.613 174.741 974.613 Q178.746 974.613 181.084 972.507 Q183.422 970.4 183.422 966.789 Q183.422 963.178 181.084 961.072 Q178.746 958.965 174.741 958.965 Q172.866 958.965 170.991 959.382 Q169.14 959.798 167.195 960.678 L167.195 943.317 Z\" fill=\"#000000\" fill-rule=\"evenodd\" fill-opacity=\"1\" /><path clip-path=\"url(#clip030)\" d=\"M100.76 772.031 Q97.1493 772.031 95.3206 775.596 Q93.515 779.137 93.515 786.267 Q93.515 793.373 95.3206 796.938 Q97.1493 800.48 100.76 800.48 Q104.395 800.48 106.2 796.938 Q108.029 793.373 108.029 786.267 Q108.029 779.137 106.2 775.596 Q104.395 772.031 100.76 772.031 M100.76 768.327 Q106.571 768.327 109.626 772.934 Q112.705 777.517 112.705 786.267 Q112.705 794.994 109.626 799.6 Q106.571 804.183 100.76 804.183 Q94.9502 804.183 91.8715 799.6 Q88.816 794.994 88.816 786.267 Q88.816 777.517 91.8715 772.934 Q94.9502 768.327 100.76 768.327 Z\" fill=\"#000000\" fill-rule=\"evenodd\" fill-opacity=\"1\" /><path clip-path=\"url(#clip030)\" d=\"M120.922 797.632 L125.807 797.632 L125.807 803.512 L120.922 803.512 L120.922 797.632 Z\" fill=\"#000000\" fill-rule=\"evenodd\" fill-opacity=\"1\" /><path clip-path=\"url(#clip030)\" d=\"M145.992 772.031 Q142.381 772.031 140.552 775.596 Q138.746 779.137 138.746 786.267 Q138.746 793.373 140.552 796.938 Q142.381 800.48 145.992 800.48 Q149.626 800.48 151.431 796.938 Q153.26 793.373 153.26 786.267 Q153.26 779.137 151.431 775.596 Q149.626 772.031 145.992 772.031 M145.992 768.327 Q151.802 768.327 154.857 772.934 Q157.936 777.517 157.936 786.267 Q157.936 794.994 154.857 799.6 Q151.802 804.183 145.992 804.183 Q140.181 804.183 137.103 799.6 Q134.047 794.994 134.047 786.267 Q134.047 777.517 137.103 772.934 Q140.181 768.327 145.992 768.327 Z\" fill=\"#000000\" fill-rule=\"evenodd\" fill-opacity=\"1\" /><path clip-path=\"url(#clip030)\" d=\"M176.153 772.031 Q172.542 772.031 170.714 775.596 Q168.908 779.137 168.908 786.267 Q168.908 793.373 170.714 796.938 Q172.542 800.48 176.153 800.48 Q179.788 800.48 181.593 796.938 Q183.422 793.373 183.422 786.267 Q183.422 779.137 181.593 775.596 Q179.788 772.031 176.153 772.031 M176.153 768.327 Q181.964 768.327 185.019 772.934 Q188.098 777.517 188.098 786.267 Q188.098 794.994 185.019 799.6 Q181.964 804.183 176.153 804.183 Q170.343 804.183 167.265 799.6 Q164.209 794.994 164.209 786.267 Q164.209 777.517 167.265 772.934 Q170.343 768.327 176.153 768.327 Z\" fill=\"#000000\" fill-rule=\"evenodd\" fill-opacity=\"1\" /><path clip-path=\"url(#clip030)\" d=\"M101.756 597.666 Q98.1447 597.666 96.316 601.231 Q94.5104 604.772 94.5104 611.902 Q94.5104 619.008 96.316 622.573 Q98.1447 626.115 101.756 626.115 Q105.39 626.115 107.196 622.573 Q109.024 619.008 109.024 611.902 Q109.024 604.772 107.196 601.231 Q105.39 597.666 101.756 597.666 M101.756 593.962 Q107.566 593.962 110.621 598.569 Q113.7 603.152 113.7 611.902 Q113.7 620.629 110.621 625.235 Q107.566 629.818 101.756 629.818 Q95.9456 629.818 92.8669 625.235 Q89.8114 620.629 89.8114 611.902 Q89.8114 603.152 92.8669 598.569 Q95.9456 593.962 101.756 593.962 Z\" fill=\"#000000\" fill-rule=\"evenodd\" fill-opacity=\"1\" /><path clip-path=\"url(#clip030)\" d=\"M121.918 623.267 L126.802 623.267 L126.802 629.147 L121.918 629.147 L121.918 623.267 Z\" fill=\"#000000\" fill-rule=\"evenodd\" fill-opacity=\"1\" /><path clip-path=\"url(#clip030)\" d=\"M146.987 597.666 Q143.376 597.666 141.547 601.231 Q139.742 604.772 139.742 611.902 Q139.742 619.008 141.547 622.573 Q143.376 626.115 146.987 626.115 Q150.621 626.115 152.427 622.573 Q154.255 619.008 154.255 611.902 Q154.255 604.772 152.427 601.231 Q150.621 597.666 146.987 597.666 M146.987 593.962 Q152.797 593.962 155.853 598.569 Q158.931 603.152 158.931 611.902 Q158.931 620.629 155.853 625.235 Q152.797 629.818 146.987 629.818 Q141.177 629.818 138.098 625.235 Q135.043 620.629 135.043 611.902 Q135.043 603.152 138.098 598.569 Q141.177 593.962 146.987 593.962 Z\" fill=\"#000000\" fill-rule=\"evenodd\" fill-opacity=\"1\" /><path clip-path=\"url(#clip030)\" d=\"M167.195 594.587 L185.552 594.587 L185.552 598.522 L171.478 598.522 L171.478 606.994 Q172.496 606.647 173.515 606.485 Q174.533 606.3 175.552 606.3 Q181.339 606.3 184.718 609.471 Q188.098 612.643 188.098 618.059 Q188.098 623.638 184.626 626.74 Q181.153 629.818 174.834 629.818 Q172.658 629.818 170.39 629.448 Q168.144 629.078 165.737 628.337 L165.737 623.638 Q167.82 624.772 170.042 625.328 Q172.265 625.883 174.741 625.883 Q178.746 625.883 181.084 623.777 Q183.422 621.67 183.422 618.059 Q183.422 614.448 181.084 612.342 Q178.746 610.235 174.741 610.235 Q172.866 610.235 170.991 610.652 Q169.14 611.068 167.195 611.948 L167.195 594.587 Z\" fill=\"#000000\" fill-rule=\"evenodd\" fill-opacity=\"1\" /><path clip-path=\"url(#clip030)\" d=\"M100.76 423.301 Q97.1493 423.301 95.3206 426.866 Q93.515 430.407 93.515 437.537 Q93.515 444.643 95.3206 448.208 Q97.1493 451.75 100.76 451.75 Q104.395 451.75 106.2 448.208 Q108.029 444.643 108.029 437.537 Q108.029 430.407 106.2 426.866 Q104.395 423.301 100.76 423.301 M100.76 419.597 Q106.571 419.597 109.626 424.204 Q112.705 428.787 112.705 437.537 Q112.705 446.264 109.626 450.87 Q106.571 455.453 100.76 455.453 Q94.9502 455.453 91.8715 450.87 Q88.816 446.264 88.816 437.537 Q88.816 428.787 91.8715 424.204 Q94.9502 419.597 100.76 419.597 Z\" fill=\"#000000\" fill-rule=\"evenodd\" fill-opacity=\"1\" /><path clip-path=\"url(#clip030)\" d=\"M120.922 448.902 L125.807 448.902 L125.807 454.782 L120.922 454.782 L120.922 448.902 Z\" fill=\"#000000\" fill-rule=\"evenodd\" fill-opacity=\"1\" /><path clip-path=\"url(#clip030)\" d=\"M136.802 450.847 L144.441 450.847 L144.441 424.481 L136.131 426.148 L136.131 421.889 L144.394 420.222 L149.07 420.222 L149.07 450.847 L156.709 450.847 L156.709 454.782 L136.802 454.782 L136.802 450.847 Z\" fill=\"#000000\" fill-rule=\"evenodd\" fill-opacity=\"1\" /><path clip-path=\"url(#clip030)\" d=\"M176.153 423.301 Q172.542 423.301 170.714 426.866 Q168.908 430.407 168.908 437.537 Q168.908 444.643 170.714 448.208 Q172.542 451.75 176.153 451.75 Q179.788 451.75 181.593 448.208 Q183.422 444.643 183.422 437.537 Q183.422 430.407 181.593 426.866 Q179.788 423.301 176.153 423.301 M176.153 419.597 Q181.964 419.597 185.019 424.204 Q188.098 428.787 188.098 437.537 Q188.098 446.264 185.019 450.87 Q181.964 455.453 176.153 455.453 Q170.343 455.453 167.265 450.87 Q164.209 446.264 164.209 437.537 Q164.209 428.787 167.265 424.204 Q170.343 419.597 176.153 419.597 Z\" fill=\"#000000\" fill-rule=\"evenodd\" fill-opacity=\"1\" /><path clip-path=\"url(#clip030)\" d=\"M101.756 248.936 Q98.1447 248.936 96.316 252.501 Q94.5104 256.042 94.5104 263.172 Q94.5104 270.278 96.316 273.843 Q98.1447 277.385 101.756 277.385 Q105.39 277.385 107.196 273.843 Q109.024 270.278 109.024 263.172 Q109.024 256.042 107.196 252.501 Q105.39 248.936 101.756 248.936 M101.756 245.232 Q107.566 245.232 110.621 249.839 Q113.7 254.422 113.7 263.172 Q113.7 271.899 110.621 276.505 Q107.566 281.088 101.756 281.088 Q95.9456 281.088 92.8669 276.505 Q89.8114 271.899 89.8114 263.172 Q89.8114 254.422 92.8669 249.839 Q95.9456 245.232 101.756 245.232 Z\" fill=\"#000000\" fill-rule=\"evenodd\" fill-opacity=\"1\" /><path clip-path=\"url(#clip030)\" d=\"M121.918 274.538 L126.802 274.538 L126.802 280.417 L121.918 280.417 L121.918 274.538 Z\" fill=\"#000000\" fill-rule=\"evenodd\" fill-opacity=\"1\" /><path clip-path=\"url(#clip030)\" d=\"M137.797 276.482 L145.436 276.482 L145.436 250.116 L137.126 251.783 L137.126 247.524 L145.39 245.857 L150.066 245.857 L150.066 276.482 L157.705 276.482 L157.705 280.417 L137.797 280.417 L137.797 276.482 Z\" fill=\"#000000\" fill-rule=\"evenodd\" fill-opacity=\"1\" /><path clip-path=\"url(#clip030)\" d=\"M167.195 245.857 L185.552 245.857 L185.552 249.792 L171.478 249.792 L171.478 258.264 Q172.496 257.917 173.515 257.755 Q174.533 257.57 175.552 257.57 Q181.339 257.57 184.718 260.741 Q188.098 263.913 188.098 269.329 Q188.098 274.908 184.626 278.01 Q181.153 281.088 174.834 281.088 Q172.658 281.088 170.39 280.718 Q168.144 280.348 165.737 279.607 L165.737 274.908 Q167.82 276.042 170.042 276.598 Q172.265 277.153 174.741 277.153 Q178.746 277.153 181.084 275.047 Q183.422 272.94 183.422 269.329 Q183.422 265.718 181.084 263.612 Q178.746 261.505 174.741 261.505 Q172.866 261.505 170.991 261.922 Q169.14 262.338 167.195 263.218 L167.195 245.857 Z\" fill=\"#000000\" fill-rule=\"evenodd\" fill-opacity=\"1\" /><path clip-path=\"url(#clip030)\" d=\"M1069.25 12.096 L1077.44 12.096 L1077.44 72.576 L1069.25 72.576 L1069.25 12.096 Z\" fill=\"#000000\" fill-rule=\"evenodd\" fill-opacity=\"1\" /><path clip-path=\"url(#clip030)\" d=\"M1131.11 45.1919 L1131.11 72.576 L1123.66 72.576 L1123.66 45.4349 Q1123.66 38.994 1121.14 35.7938 Q1118.63 32.5936 1113.61 32.5936 Q1107.57 32.5936 1104.09 36.4419 Q1100.61 40.2903 1100.61 46.9338 L1100.61 72.576 L1093.11 72.576 L1093.11 27.2059 L1100.61 27.2059 L1100.61 34.2544 Q1103.28 30.163 1106.89 28.1376 Q1110.53 26.1121 1115.27 26.1121 Q1123.09 26.1121 1127.1 30.9732 Q1131.11 35.7938 1131.11 45.1919 Z\" fill=\"#000000\" fill-rule=\"evenodd\" fill-opacity=\"1\" /><path clip-path=\"url(#clip030)\" d=\"M1145.98 27.2059 L1153.43 27.2059 L1153.43 72.576 L1145.98 72.576 L1145.98 27.2059 M1145.98 9.54393 L1153.43 9.54393 L1153.43 18.9825 L1145.98 18.9825 L1145.98 9.54393 Z\" fill=\"#000000\" fill-rule=\"evenodd\" fill-opacity=\"1\" /><path clip-path=\"url(#clip030)\" d=\"M1176.4 14.324 L1176.4 27.2059 L1191.75 27.2059 L1191.75 32.9987 L1176.4 32.9987 L1176.4 57.6282 Q1176.4 63.1779 1177.9 64.7578 Q1179.44 66.3376 1184.1 66.3376 L1191.75 66.3376 L1191.75 72.576 L1184.1 72.576 Q1175.47 72.576 1172.19 69.3758 Q1168.9 66.1351 1168.9 57.6282 L1168.9 32.9987 L1163.44 32.9987 L1163.44 27.2059 L1168.9 27.2059 L1168.9 14.324 L1176.4 14.324 Z\" fill=\"#000000\" fill-rule=\"evenodd\" fill-opacity=\"1\" /><path clip-path=\"url(#clip030)\" d=\"M1201.56 27.2059 L1209.01 27.2059 L1209.01 72.576 L1201.56 72.576 L1201.56 27.2059 M1201.56 9.54393 L1209.01 9.54393 L1209.01 18.9825 L1201.56 18.9825 L1201.56 9.54393 Z\" fill=\"#000000\" fill-rule=\"evenodd\" fill-opacity=\"1\" /><path clip-path=\"url(#clip030)\" d=\"M1245.22 49.7694 Q1236.19 49.7694 1232.71 51.8354 Q1229.22 53.9013 1229.22 58.8839 Q1229.22 62.8538 1231.82 65.2034 Q1234.45 67.5124 1238.95 67.5124 Q1245.14 67.5124 1248.87 63.1374 Q1252.64 58.7219 1252.64 51.4303 L1252.64 49.7694 L1245.22 49.7694 M1260.09 46.6907 L1260.09 72.576 L1252.64 72.576 L1252.64 65.6895 Q1250.09 69.8214 1246.28 71.8063 Q1242.47 73.7508 1236.96 73.7508 Q1229.99 73.7508 1225.86 69.8619 Q1221.77 65.9325 1221.77 59.3701 Q1221.77 51.7138 1226.87 47.825 Q1232.02 43.9361 1242.19 43.9361 L1252.64 43.9361 L1252.64 43.2069 Q1252.64 38.0623 1249.23 35.2672 Q1245.87 32.4315 1239.76 32.4315 Q1235.87 32.4315 1232.18 33.3632 Q1228.49 34.295 1225.09 36.1584 L1225.09 29.2718 Q1229.18 27.692 1233.03 26.9223 Q1236.88 26.1121 1240.52 26.1121 Q1250.37 26.1121 1255.23 31.2163 Q1260.09 36.3204 1260.09 46.6907 Z\" fill=\"#000000\" fill-rule=\"evenodd\" fill-opacity=\"1\" /><path clip-path=\"url(#clip030)\" d=\"M1275.44 9.54393 L1282.9 9.54393 L1282.9 72.576 L1275.44 72.576 L1275.44 9.54393 Z\" fill=\"#000000\" fill-rule=\"evenodd\" fill-opacity=\"1\" /><path clip-path=\"url(#clip030)\" d=\"M1333.37 18.8205 L1333.37 65.8515 L1343.26 65.8515 Q1355.77 65.8515 1361.57 60.1802 Q1367.4 54.509 1367.4 42.2752 Q1367.4 30.1225 1361.57 24.4918 Q1355.77 18.8205 1343.26 18.8205 L1333.37 18.8205 M1325.19 12.096 L1342 12.096 Q1359.58 12.096 1367.8 19.4281 Q1376.03 26.7198 1376.03 42.2752 Q1376.03 57.9117 1367.76 65.2439 Q1359.5 72.576 1342 72.576 L1325.19 72.576 L1325.19 12.096 Z\" fill=\"#000000\" fill-rule=\"evenodd\" fill-opacity=\"1\" /><path clip-path=\"url(#clip030)\" d=\"M1409.37 49.7694 Q1400.33 49.7694 1396.85 51.8354 Q1393.37 53.9013 1393.37 58.8839 Q1393.37 62.8538 1395.96 65.2034 Q1398.59 67.5124 1403.09 67.5124 Q1409.29 67.5124 1413.01 63.1374 Q1416.78 58.7219 1416.78 51.4303 L1416.78 49.7694 L1409.37 49.7694 M1424.23 46.6907 L1424.23 72.576 L1416.78 72.576 L1416.78 65.6895 Q1414.23 69.8214 1410.42 71.8063 Q1406.61 73.7508 1401.1 73.7508 Q1394.14 73.7508 1390 69.8619 Q1385.91 65.9325 1385.91 59.3701 Q1385.91 51.7138 1391.02 47.825 Q1396.16 43.9361 1406.33 43.9361 L1416.78 43.9361 L1416.78 43.2069 Q1416.78 38.0623 1413.38 35.2672 Q1410.01 32.4315 1403.9 32.4315 Q1400.01 32.4315 1396.32 33.3632 Q1392.64 34.295 1389.23 36.1584 L1389.23 29.2718 Q1393.33 27.692 1397.17 26.9223 Q1401.02 26.1121 1404.67 26.1121 Q1414.51 26.1121 1419.37 31.2163 Q1424.23 36.3204 1424.23 46.6907 Z\" fill=\"#000000\" fill-rule=\"evenodd\" fill-opacity=\"1\" /><path clip-path=\"url(#clip030)\" d=\"M1446.96 14.324 L1446.96 27.2059 L1462.31 27.2059 L1462.31 32.9987 L1446.96 32.9987 L1446.96 57.6282 Q1446.96 63.1779 1448.46 64.7578 Q1450 66.3376 1454.66 66.3376 L1462.31 66.3376 L1462.31 72.576 L1454.66 72.576 Q1446.03 72.576 1442.75 69.3758 Q1439.46 66.1351 1439.46 57.6282 L1439.46 32.9987 L1434 32.9987 L1434 27.2059 L1439.46 27.2059 L1439.46 14.324 L1446.96 14.324 Z\" fill=\"#000000\" fill-rule=\"evenodd\" fill-opacity=\"1\" /><path clip-path=\"url(#clip030)\" d=\"M1492.73 49.7694 Q1483.7 49.7694 1480.22 51.8354 Q1476.73 53.9013 1476.73 58.8839 Q1476.73 62.8538 1479.33 65.2034 Q1481.96 67.5124 1486.46 67.5124 Q1492.65 67.5124 1496.38 63.1374 Q1500.15 58.7219 1500.15 51.4303 L1500.15 49.7694 L1492.73 49.7694 M1507.6 46.6907 L1507.6 72.576 L1500.15 72.576 L1500.15 65.6895 Q1497.6 69.8214 1493.79 71.8063 Q1489.98 73.7508 1484.47 73.7508 Q1477.5 73.7508 1473.37 69.8619 Q1469.28 65.9325 1469.28 59.3701 Q1469.28 51.7138 1474.38 47.825 Q1479.53 43.9361 1489.7 43.9361 L1500.15 43.9361 L1500.15 43.2069 Q1500.15 38.0623 1496.74 35.2672 Q1493.38 32.4315 1487.27 32.4315 Q1483.38 32.4315 1479.69 33.3632 Q1476 34.295 1472.6 36.1584 L1472.6 29.2718 Q1476.69 27.692 1480.54 26.9223 Q1484.39 26.1121 1488.04 26.1121 Q1497.88 26.1121 1502.74 31.2163 Q1507.6 36.3204 1507.6 46.6907 Z\" fill=\"#000000\" fill-rule=\"evenodd\" fill-opacity=\"1\" /><polyline clip-path=\"url(#clip032)\" style=\"stroke:#009af9; stroke-linecap:round; stroke-linejoin:round; stroke-width:4; stroke-opacity:1; fill:none\" points=\"284.343,786.232 291.037,786.232 297.731,786.232 304.425,786.232 311.118,786.232 317.812,786.232 324.506,786.232 331.2,786.232 337.894,786.232 344.588,786.232 351.282,786.232 357.976,786.232 364.67,786.232 371.364,786.232 378.057,786.232 384.751,786.232 391.445,786.232 398.139,786.232 404.833,786.232 411.527,786.232 418.221,786.232 424.915,786.232 431.609,786.232 438.302,786.232 444.996,786.232 451.69,786.232 458.384,786.232 465.078,786.232 471.772,786.232 478.466,786.232 485.16,786.232 491.854,786.232 498.547,786.232 505.241,786.232 511.935,786.232 518.629,786.232 525.323,786.232 532.017,786.231 538.711,786.231 545.405,786.231 552.099,786.231 558.793,786.231 565.486,786.23 572.18,786.23 578.874,786.229 585.568,786.229 592.262,786.228 598.956,786.227 605.65,786.226 612.344,786.225 619.038,786.223 625.731,786.221 632.425,786.219 639.119,786.216 645.813,786.213 652.507,786.21 659.201,786.205 665.895,786.2 672.589,786.193 679.283,786.186 685.977,786.177 692.67,786.166 699.364,786.154 706.058,786.139 712.752,786.122 719.446,786.101 726.14,786.078 732.834,786.05 739.528,786.017 746.222,785.979 752.915,785.934 759.609,785.883 766.303,785.823 772.997,785.753 779.691,785.672 786.385,785.578 793.079,785.471 799.773,785.346 806.467,785.204 813.16,785.04 819.854,784.852 826.548,784.638 833.242,784.393 839.936,784.115 846.63,783.799 853.324,783.441 860.018,783.037 866.712,782.581 873.406,782.068 880.099,781.493 886.793,780.849 893.487,780.131 900.181,779.333 906.875,778.448 913.569,777.47 920.263,776.392 926.957,775.209 933.651,773.914 940.344,772.503 947.038,770.971 953.732,769.315 960.426,767.531 967.12,765.62 973.814,763.581 980.508,761.416 987.202,759.13 993.896,756.729 1000.59,754.223 1007.28,751.622 1013.98,748.942 1020.67,746.199 1027.37,743.413 1034.06,740.607 1040.75,737.805 1047.45,735.036 1054.14,732.327 1060.83,729.708 1067.53,727.211 1074.22,724.864 1080.92,722.696 1087.61,720.734 1094.3,718.998 1101,717.506 1107.69,716.267 1114.39,715.285 1121.08,714.552 1127.77,714.049 1134.47,713.747 1141.16,713.604 1147.86,713.565 1154.55,713.562 1161.24,713.514 1167.94,713.329 1174.63,712.909 1181.32,712.144 1188.02,710.926 1194.71,709.146 1201.41,706.7 1208.1,703.494 1214.79,699.451 1221.49,694.511 1228.18,688.64 1234.88,681.83 1241.57,674.101 1248.26,665.502 1254.96,656.114 1261.65,646.041 1268.35,635.412 1275.04,624.375 1281.73,613.089 1288.43,601.722 1295.12,590.439 1301.81,579.402 1308.51,568.76 1315.2,558.645 1321.9,549.168 1328.59,540.417 1335.28,532.453 1341.98,525.312 1348.67,519.006 1355.37,513.522 1362.06,508.828 1368.75,504.875 1375.45,501.602 1382.14,498.938 1388.84,496.808 1395.53,495.136 1402.22,493.848 1408.92,492.875 1415.61,492.155 1422.3,491.634 1429,491.264 1435.69,491.007 1442.39,490.834 1449.08,490.719 1455.77,490.645 1462.47,490.598 1469.16,490.57 1475.86,490.553 1482.55,490.543 1489.24,490.538 1495.94,490.535 1502.63,490.533 1509.33,490.532 1516.02,490.532 1522.71,490.532 1529.41,490.532 1536.1,490.532 1542.79,490.532 1549.49,490.532 1556.18,490.532 1562.88,490.532 1569.57,490.532 1576.26,490.532 1582.96,490.532 1589.65,490.532 1596.35,490.532 1603.04,490.532 1609.73,490.532 1616.43,490.532 1623.12,490.532 1629.82,490.532 1636.51,490.532 1643.2,490.532 1649.9,490.532 1656.59,490.532 1663.28,490.532 1669.98,490.532 1676.67,490.532 1683.37,490.532 1690.06,490.532 1696.75,490.532 1703.45,490.532 1710.14,490.532 1716.84,490.532 1723.53,490.532 1730.22,490.532 1736.92,490.532 1743.61,490.532 1750.31,490.532 1757,490.532 1763.69,490.532 1770.39,490.532 1777.08,490.532 1783.77,490.532 1790.47,490.532 1797.16,490.532 1803.86,490.532 1810.55,490.532 1817.24,490.532 1823.94,490.532 1830.63,490.532 1837.33,490.532 1844.02,490.532 1850.71,490.532 1857.41,490.532 1864.1,490.532 1870.8,490.532 1877.49,490.532 1884.18,490.532 1890.88,490.532 1897.57,490.532 1904.27,490.532 1910.96,490.532 1917.65,490.532 1924.35,490.532 1931.04,490.532 1937.73,490.532 1944.43,490.532 1951.12,490.532 1957.82,490.532 1964.51,490.532 1971.2,490.532 1977.9,490.532 1984.59,490.532 1991.29,490.532 1997.98,490.532 2004.67,490.532 2011.37,490.532 2018.06,490.532 2024.76,490.532 2031.45,490.532 2038.14,490.532 2044.84,490.532 2051.53,490.532 2058.22,490.532 2064.92,490.532 2071.61,490.532 2078.31,490.532 2085,490.532 2091.69,490.532 2098.39,490.532 2105.08,490.532 2111.78,490.532 2118.47,490.532 2125.16,490.532 2131.86,490.532 2138.55,490.532 2145.25,490.532 2151.94,490.532 2158.63,490.532 2165.33,490.532 2172.02,490.532 2178.71,490.532 2185.41,490.532 2192.1,490.532 2198.8,490.532 2205.49,490.532 2212.18,490.532 2218.88,490.532 2225.57,490.532 2232.27,490.532 2238.96,490.532 2245.65,490.532 2252.35,490.532 2259.04,490.532 2265.74,490.532 2272.43,490.532 2279.12,490.532 2285.82,490.532 2292.51,490.532 \"/>\n",
       "<polyline clip-path=\"url(#clip032)\" style=\"stroke:#e26f46; stroke-linecap:round; stroke-linejoin:round; stroke-width:4; stroke-opacity:1; fill:none\" points=\"284.343,786.232 291.037,786.232 297.731,786.232 304.425,786.232 311.118,786.232 317.812,786.232 324.506,786.232 331.2,786.232 337.894,786.232 344.588,786.232 351.282,786.232 357.976,786.232 364.67,786.232 371.364,786.232 378.057,786.232 384.751,786.232 391.445,786.232 398.139,786.232 404.833,786.232 411.527,786.232 418.221,786.232 424.915,786.232 431.609,786.232 438.302,786.232 444.996,786.232 451.69,786.232 458.384,786.231 465.078,786.231 471.772,786.231 478.466,786.231 485.16,786.231 491.854,786.23 498.547,786.23 505.241,786.23 511.935,786.229 518.629,786.228 525.323,786.228 532.017,786.227 538.711,786.226 545.405,786.225 552.099,786.223 558.793,786.221 565.486,786.219 572.18,786.217 578.874,786.214 585.568,786.21 592.262,786.206 598.956,786.201 605.65,786.196 612.344,786.189 619.038,786.181 625.731,786.172 632.425,786.161 639.119,786.149 645.813,786.134 652.507,786.117 659.201,786.097 665.895,786.074 672.589,786.047 679.283,786.016 685.977,785.98 692.67,785.938 699.364,785.89 706.058,785.834 712.752,785.77 719.446,785.696 726.14,785.61 732.834,785.512 739.528,785.4 746.222,785.271 752.915,785.123 759.609,784.955 766.303,784.762 772.997,784.543 779.691,784.294 786.385,784.011 793.079,783.69 799.773,783.327 806.467,782.916 813.16,782.453 819.854,781.932 826.548,781.346 833.242,780.689 839.936,779.953 846.63,779.131 853.324,778.215 860.018,777.196 866.712,776.065 873.406,774.813 880.099,773.43 886.793,771.907 893.487,770.233 900.181,768.398 906.875,766.394 913.569,764.211 920.263,761.84 926.957,759.273 933.651,756.505 940.344,753.528 947.038,750.341 953.732,746.94 960.426,743.327 967.12,739.504 973.814,735.479 980.508,731.26 987.202,726.861 993.896,722.299 1000.59,717.594 1007.28,712.773 1013.98,707.864 1020.67,702.9 1027.37,697.92 1034.06,692.963 1040.75,688.074 1047.45,683.299 1054.14,678.685 1060.83,674.279 1067.53,670.128 1074.22,666.276 1080.92,662.763 1087.61,659.623 1094.3,656.881 1101,654.555 1107.69,652.651 1114.39,651.16 1121.08,650.063 1127.77,649.321 1134.47,648.881 1141.16,648.676 1147.86,648.621 1154.55,648.616 1161.24,648.551 1167.94,648.301 1174.63,647.74 1181.32,646.734 1188.02,645.153 1194.71,642.872 1201.41,639.776 1208.1,635.768 1214.79,630.771 1221.49,624.734 1228.18,617.633 1234.88,609.476 1241.57,600.305 1248.26,590.193 1254.96,579.243 1261.65,567.589 1268.35,555.386 1275.04,542.809 1281.73,530.044 1288.43,517.283 1295.12,504.714 1301.81,492.514 1308.51,480.848 1315.2,469.854 1321.9,459.648 1328.59,450.314 1335.28,441.906 1341.98,434.448 1348.67,427.937 1355.37,422.342 1362.06,417.613 1368.75,413.683 1375.45,410.471 1382.14,407.893 1388.84,405.862 1395.53,404.289 1402.22,403.096 1408.92,402.209 1415.61,401.562 1422.3,401.1 1429,400.777 1435.69,400.557 1442.39,400.411 1449.08,400.315 1455.77,400.254 1462.47,400.217 1469.16,400.194 1475.86,400.181 1482.55,400.173 1489.24,400.169 1495.94,400.167 1502.63,400.166 1509.33,400.165 1516.02,400.165 1522.71,400.165 1529.41,400.165 1536.1,400.165 1542.79,400.165 1549.49,400.165 1556.18,400.165 1562.88,400.165 1569.57,400.165 1576.26,400.165 1582.96,400.165 1589.65,400.165 1596.35,400.165 1603.04,400.165 1609.73,400.165 1616.43,400.165 1623.12,400.165 1629.82,400.165 1636.51,400.165 1643.2,400.165 1649.9,400.165 1656.59,400.165 1663.28,400.165 1669.98,400.165 1676.67,400.165 1683.37,400.165 1690.06,400.165 1696.75,400.165 1703.45,400.165 1710.14,400.165 1716.84,400.165 1723.53,400.165 1730.22,400.165 1736.92,400.165 1743.61,400.165 1750.31,400.165 1757,400.165 1763.69,400.165 1770.39,400.165 1777.08,400.165 1783.77,400.165 1790.47,400.165 1797.16,400.165 1803.86,400.165 1810.55,400.165 1817.24,400.165 1823.94,400.165 1830.63,400.165 1837.33,400.165 1844.02,400.165 1850.71,400.165 1857.41,400.165 1864.1,400.165 1870.8,400.165 1877.49,400.165 1884.18,400.165 1890.88,400.165 1897.57,400.165 1904.27,400.165 1910.96,400.165 1917.65,400.165 1924.35,400.165 1931.04,400.165 1937.73,400.165 1944.43,400.165 1951.12,400.165 1957.82,400.165 1964.51,400.165 1971.2,400.165 1977.9,400.165 1984.59,400.165 1991.29,400.165 1997.98,400.165 2004.67,400.165 2011.37,400.165 2018.06,400.165 2024.76,400.165 2031.45,400.165 2038.14,400.165 2044.84,400.165 2051.53,400.165 2058.22,400.165 2064.92,400.165 2071.61,400.165 2078.31,400.165 2085,400.165 2091.69,400.165 2098.39,400.165 2105.08,400.165 2111.78,400.165 2118.47,400.165 2125.16,400.165 2131.86,400.165 2138.55,400.165 2145.25,400.165 2151.94,400.165 2158.63,400.165 2165.33,400.165 2172.02,400.165 2178.71,400.165 2185.41,400.165 2192.1,400.165 2198.8,400.165 2205.49,400.165 2212.18,400.165 2218.88,400.165 2225.57,400.165 2232.27,400.165 2238.96,400.165 2245.65,400.165 2252.35,400.165 2259.04,400.165 2265.74,400.165 2272.43,400.165 2279.12,400.165 2285.82,400.165 2292.51,400.165 \"/>\n",
       "<polyline clip-path=\"url(#clip032)\" style=\"stroke:#3da44d; stroke-linecap:round; stroke-linejoin:round; stroke-width:4; stroke-opacity:1; fill:none\" points=\"284.343,786.232 291.037,786.232 297.731,786.232 304.425,786.232 311.118,786.232 317.812,786.231 324.506,786.231 331.2,786.231 337.894,786.23 344.588,786.23 351.282,786.229 357.976,786.228 364.67,786.227 371.364,786.226 378.057,786.225 384.751,786.223 391.445,786.221 398.139,786.219 404.833,786.216 411.527,786.213 418.221,786.21 424.915,786.206 431.609,786.202 438.302,786.197 444.996,786.192 451.69,786.185 458.384,786.178 465.078,786.17 471.772,786.162 478.466,786.152 485.16,786.141 491.854,786.128 498.547,786.115 505.241,786.099 511.935,786.082 518.629,786.063 525.323,786.042 532.017,786.019 538.711,785.993 545.405,785.964 552.099,785.932 558.793,785.897 565.486,785.858 572.18,785.815 578.874,785.768 585.568,785.715 592.262,785.658 598.956,785.595 605.65,785.525 612.344,785.449 619.038,785.365 625.731,785.273 632.425,785.172 639.119,785.061 645.813,784.94 652.507,784.807 659.201,784.662 665.895,784.503 672.589,784.33 679.283,784.141 685.977,783.935 692.67,783.71 699.364,783.465 706.058,783.198 712.752,782.908 719.446,782.592 726.14,782.249 732.834,781.876 739.528,781.472 746.222,781.034 752.915,780.559 759.609,780.044 766.303,779.487 772.997,778.885 779.691,778.235 786.385,777.533 793.079,776.775 799.773,775.958 806.467,775.079 813.16,774.132 819.854,773.114 826.548,772.021 833.242,770.847 839.936,769.588 846.63,768.24 853.324,766.797 860.018,765.254 866.712,763.607 873.406,761.849 880.099,759.976 886.793,757.982 893.487,755.862 900.181,753.611 906.875,751.224 913.569,748.696 920.263,746.022 926.957,743.199 933.651,740.221 940.344,737.086 947.038,733.791 953.732,730.332 960.426,726.71 967.12,722.921 973.814,718.968 980.508,714.85 987.202,710.57 993.896,706.131 1000.59,701.538 1007.28,696.798 1013.98,691.918 1020.67,686.908 1027.37,681.778 1034.06,676.544 1040.75,671.219 1047.45,665.821 1054.14,660.369 1060.83,654.886 1067.53,649.395 1074.22,643.921 1080.92,638.494 1087.61,633.143 1094.3,627.9 1101,622.799 1107.69,617.876 1114.39,613.168 1121.08,608.712 1127.77,604.547 1134.47,600.711 1141.16,597.245 1147.86,594.187 1154.55,591.573 1161.24,589.44 1167.94,587.821 1174.63,586.747 1181.32,586.246 1188.02,586.342 1194.71,587.053 1201.41,588.393 1208.1,590.372 1214.79,592.99 1221.49,596.245 1228.18,600.124 1234.88,604.61 1241.57,609.679 1248.26,615.296 1254.96,621.425 1261.65,628.019 1268.35,635.027 1275.04,642.392 1281.73,650.051 1288.43,657.941 1295.12,665.994 1301.81,674.138 1308.51,682.305 1315.2,690.425 1321.9,698.432 1328.59,706.261 1335.28,713.853 1341.98,721.154 1348.67,728.116 1355.37,734.699 1362.06,740.871 1368.75,746.606 1375.45,751.888 1382.14,756.708 1388.84,761.067 1395.53,764.97 1402.22,768.432 1408.92,771.471 1415.61,774.111 1422.3,776.381 1429,778.31 1435.69,779.932 1442.39,781.278 1449.08,782.384 1455.77,783.279 1462.47,783.995 1469.16,784.56 1475.86,785 1482.55,785.337 1489.24,785.592 1495.94,785.781 1502.63,785.92 1509.33,786.019 1516.02,786.09 1522.71,786.139 1529.41,786.172 1536.1,786.194 1542.79,786.209 1549.49,786.218 1556.18,786.224 1562.88,786.227 1569.57,786.229 1576.26,786.231 1582.96,786.231 1589.65,786.232 1596.35,786.232 1603.04,786.232 1609.73,786.232 1616.43,786.232 1623.12,786.232 1629.82,786.232 1636.51,786.232 1643.2,786.232 1649.9,786.232 1656.59,786.232 1663.28,786.232 1669.98,786.232 1676.67,786.232 1683.37,786.232 1690.06,786.232 1696.75,786.232 1703.45,786.232 1710.14,786.232 1716.84,786.232 1723.53,786.232 1730.22,786.232 1736.92,786.232 1743.61,786.232 1750.31,786.232 1757,786.232 1763.69,786.232 1770.39,786.232 1777.08,786.232 1783.77,786.232 1790.47,786.232 1797.16,786.232 1803.86,786.232 1810.55,786.232 1817.24,786.232 1823.94,786.232 1830.63,786.232 1837.33,786.232 1844.02,786.232 1850.71,786.232 1857.41,786.232 1864.1,786.232 1870.8,786.232 1877.49,786.232 1884.18,786.232 1890.88,786.232 1897.57,786.232 1904.27,786.232 1910.96,786.232 1917.65,786.232 1924.35,786.232 1931.04,786.232 1937.73,786.232 1944.43,786.232 1951.12,786.232 1957.82,786.232 1964.51,786.232 1971.2,786.232 1977.9,786.232 1984.59,786.232 1991.29,786.232 1997.98,786.232 2004.67,786.232 2011.37,786.232 2018.06,786.232 2024.76,786.232 2031.45,786.232 2038.14,786.232 2044.84,786.232 2051.53,786.232 2058.22,786.232 2064.92,786.232 2071.61,786.232 2078.31,786.232 2085,786.232 2091.69,786.232 2098.39,786.232 2105.08,786.232 2111.78,786.232 2118.47,786.232 2125.16,786.232 2131.86,786.232 2138.55,786.232 2145.25,786.232 2151.94,786.232 2158.63,786.232 2165.33,786.232 2172.02,786.232 2178.71,786.232 2185.41,786.232 2192.1,786.232 2198.8,786.232 2205.49,786.232 2212.18,786.232 2218.88,786.232 2225.57,786.232 2232.27,786.232 2238.96,786.232 2245.65,786.232 2252.35,786.232 2259.04,786.232 2265.74,786.232 2272.43,786.232 2279.12,786.232 2285.82,786.232 2292.51,786.232 \"/>\n",
       "<polyline clip-path=\"url(#clip032)\" style=\"stroke:#c271d2; stroke-linecap:round; stroke-linejoin:round; stroke-width:4; stroke-opacity:1; fill:none\" points=\"284.343,786.232 291.037,786.221 297.731,786.208 304.425,786.194 311.118,786.177 317.812,786.157 324.506,786.135 331.2,786.11 337.894,786.081 344.588,786.049 351.282,786.012 357.976,785.971 364.67,785.925 371.364,785.873 378.057,785.816 384.751,785.751 391.445,785.68 398.139,785.6 404.833,785.512 411.527,785.414 418.221,785.306 424.915,785.186 431.609,785.054 438.302,784.909 444.996,784.748 451.69,784.572 458.384,784.378 465.078,784.165 471.772,783.931 478.466,783.674 485.16,783.393 491.854,783.086 498.547,782.749 505.241,782.381 511.935,781.98 518.629,781.542 525.323,781.064 532.017,780.543 538.711,779.976 545.405,779.359 552.099,778.688 558.793,777.959 565.486,777.167 572.18,776.307 578.874,775.375 585.568,774.365 592.262,773.27 598.956,772.085 605.65,770.804 612.344,769.419 619.038,767.922 625.731,766.306 632.425,764.563 639.119,762.684 645.813,760.66 652.507,758.48 659.201,756.136 665.895,753.615 672.589,750.907 679.283,748 685.977,744.882 692.67,741.54 699.364,737.961 706.058,734.131 712.752,730.036 719.446,725.662 726.14,720.994 732.834,716.016 739.528,710.713 746.222,705.069 752.915,699.068 759.609,692.694 766.303,685.931 772.997,678.763 779.691,671.176 786.385,663.153 793.079,654.68 799.773,645.743 806.467,636.33 813.16,626.429 819.854,616.03 826.548,605.124 833.242,593.705 839.936,581.768 846.63,569.312 853.324,556.338 860.018,542.851 866.712,528.858 873.406,514.373 880.099,499.412 886.793,483.997 893.487,468.157 900.181,451.922 906.875,435.335 913.569,418.441 920.263,401.293 926.957,383.953 933.651,366.491 940.344,348.984 947.038,331.518 953.732,314.19 960.426,297.104 967.12,280.373 973.814,264.122 980.508,248.481 987.202,233.593 993.896,219.606 1000.59,206.679 1007.28,194.974 1013.98,184.664 1020.67,175.923 1027.37,168.931 1034.06,163.868 1040.75,160.917 1047.45,160.256 1054.14,162.061 1060.83,166.5 1067.53,173.732 1074.22,183.903 1080.92,197.143 1087.61,213.564 1094.3,233.256 1101,256.28 1107.69,282.672 1114.39,312.434 1121.08,345.53 1127.77,381.89 1134.47,421.398 1141.16,463.899 1147.86,509.19 1154.55,557.026 1161.24,607.112 1167.94,659.112 1174.63,712.643 1181.32,767.284 1188.02,822.576 1194.71,878.027 1201.41,933.118 1208.1,987.314 1214.79,1040.06 1221.49,1090.81 1228.18,1139.02 1234.88,1184.16 1241.57,1225.72 1248.26,1263.24 1254.96,1296.32 1261.65,1324.58 1268.35,1347.74 1275.04,1365.6 1281.73,1378 1288.43,1384.92 1295.12,1386.4 1301.81,1382.56 1308.51,1373.64 1315.2,1359.94 1321.9,1341.85 1328.59,1319.83 1335.28,1294.38 1341.98,1266.06 1348.67,1235.47 1355.37,1203.2 1362.06,1169.86 1368.75,1136.04 1375.45,1102.31 1382.14,1069.17 1388.84,1037.09 1395.53,1006.48 1402.22,977.666 1408.92,950.904 1415.61,926.379 1422.3,904.2 1429,884.41 1435.69,866.986 1442.39,851.855 1449.08,838.894 1455.77,827.948 1462.47,818.836 1469.16,811.362 1475.86,805.324 1482.55,800.52 1489.24,796.761 1495.94,793.866 1502.63,791.675 1509.33,790.046 1516.02,788.856 1522.71,788.004 1529.41,787.405 1536.1,786.993 1542.79,786.716 1549.49,786.532 1556.18,786.414 1562.88,786.34 1569.57,786.294 1576.26,786.267 1582.96,786.251 1589.65,786.242 1596.35,786.237 1603.04,786.235 1609.73,786.233 1616.43,786.233 1623.12,786.232 1629.82,786.232 1636.51,786.232 1643.2,786.232 1649.9,786.232 1656.59,786.232 1663.28,786.232 1669.98,786.232 1676.67,786.232 1683.37,786.232 1690.06,786.232 1696.75,786.232 1703.45,786.232 1710.14,786.232 1716.84,786.232 1723.53,786.232 1730.22,786.232 1736.92,786.232 1743.61,786.232 1750.31,786.232 1757,786.232 1763.69,786.232 1770.39,786.232 1777.08,786.232 1783.77,786.232 1790.47,786.232 1797.16,786.232 1803.86,786.232 1810.55,786.232 1817.24,786.232 1823.94,786.232 1830.63,786.232 1837.33,786.232 1844.02,786.232 1850.71,786.232 1857.41,786.232 1864.1,786.232 1870.8,786.232 1877.49,786.232 1884.18,786.232 1890.88,786.232 1897.57,786.232 1904.27,786.232 1910.96,786.232 1917.65,786.232 1924.35,786.232 1931.04,786.232 1937.73,786.232 1944.43,786.232 1951.12,786.232 1957.82,786.232 1964.51,786.232 1971.2,786.232 1977.9,786.232 1984.59,786.232 1991.29,786.232 1997.98,786.232 2004.67,786.232 2011.37,786.232 2018.06,786.232 2024.76,786.232 2031.45,786.232 2038.14,786.232 2044.84,786.232 2051.53,786.232 2058.22,786.232 2064.92,786.232 2071.61,786.232 2078.31,786.232 2085,786.232 2091.69,786.232 2098.39,786.232 2105.08,786.232 2111.78,786.232 2118.47,786.232 2125.16,786.232 2131.86,786.232 2138.55,786.232 2145.25,786.232 2151.94,786.232 2158.63,786.232 2165.33,786.232 2172.02,786.232 2178.71,786.232 2185.41,786.232 2192.1,786.232 2198.8,786.232 2205.49,786.232 2212.18,786.232 2218.88,786.232 2225.57,786.232 2232.27,786.232 2238.96,786.232 2245.65,786.232 2252.35,786.232 2259.04,786.232 2265.74,786.232 2272.43,786.232 2279.12,786.232 2285.82,786.232 2292.51,786.232 \"/>\n",
       "<path clip-path=\"url(#clip030)\" d=\"M295.053 425.996 L613.15 425.996 L613.15 166.796 L295.053 166.796  Z\" fill=\"#ffffff\" fill-rule=\"evenodd\" fill-opacity=\"1\"/>\n",
       "<polyline clip-path=\"url(#clip030)\" style=\"stroke:#000000; stroke-linecap:round; stroke-linejoin:round; stroke-width:4; stroke-opacity:1; fill:none\" points=\"295.053,425.996 613.15,425.996 613.15,166.796 295.053,166.796 295.053,425.996 \"/>\n",
       "<polyline clip-path=\"url(#clip030)\" style=\"stroke:#009af9; stroke-linecap:round; stroke-linejoin:round; stroke-width:4; stroke-opacity:1; fill:none\" points=\"318.705,218.636 460.615,218.636 \"/>\n",
       "<path clip-path=\"url(#clip030)\" d=\"M504.614 214.967 Q506.212 212.096 508.434 210.731 Q510.656 209.365 513.665 209.365 Q517.716 209.365 519.915 212.212 Q522.114 215.036 522.114 220.268 L522.114 235.916 L517.832 235.916 L517.832 220.407 Q517.832 216.68 516.512 214.874 Q515.193 213.069 512.485 213.069 Q509.174 213.069 507.253 215.268 Q505.332 217.467 505.332 221.263 L505.332 235.916 L501.05 235.916 L501.05 220.407 Q501.05 216.657 499.73 214.874 Q498.411 213.069 495.656 213.069 Q492.392 213.069 490.471 215.291 Q488.55 217.49 488.55 221.263 L488.55 235.916 L484.267 235.916 L484.267 209.99 L488.55 209.99 L488.55 214.018 Q490.008 211.633 492.045 210.499 Q494.082 209.365 496.883 209.365 Q499.707 209.365 501.675 210.8 Q503.665 212.235 504.614 214.967 Z\" fill=\"#000000\" fill-rule=\"evenodd\" fill-opacity=\"1\" /><polyline clip-path=\"url(#clip030)\" style=\"stroke:#e26f46; stroke-linecap:round; stroke-linejoin:round; stroke-width:4; stroke-opacity:1; fill:none\" points=\"318.705,270.476 460.615,270.476 \"/>\n",
       "<path clip-path=\"url(#clip030)\" d=\"M503.04 274.816 Q503.04 270.117 501.096 267.455 Q499.175 264.77 495.795 264.77 Q492.415 264.77 490.471 267.455 Q488.55 270.117 488.55 274.816 Q488.55 279.515 490.471 282.2 Q492.415 284.862 495.795 284.862 Q499.175 284.862 501.096 282.2 Q503.04 279.515 503.04 274.816 M488.55 265.765 Q489.892 263.45 491.929 262.339 Q493.989 261.205 496.837 261.205 Q501.559 261.205 504.499 264.955 Q507.462 268.705 507.462 274.816 Q507.462 280.927 504.499 284.677 Q501.559 288.427 496.837 288.427 Q493.989 288.427 491.929 287.316 Q489.892 286.182 488.55 283.867 L488.55 287.756 L484.267 287.756 L484.267 251.737 L488.55 251.737 L488.55 265.765 Z\" fill=\"#000000\" fill-rule=\"evenodd\" fill-opacity=\"1\" /><path clip-path=\"url(#clip030)\" d=\"M536.697 273.728 L536.697 275.811 L517.114 275.811 Q517.392 280.209 519.753 282.524 Q522.137 284.816 526.373 284.816 Q528.827 284.816 531.119 284.214 Q533.434 283.612 535.702 282.409 L535.702 286.436 Q533.41 287.408 531.003 287.918 Q528.596 288.427 526.119 288.427 Q519.915 288.427 516.281 284.816 Q512.67 281.205 512.67 275.047 Q512.67 268.682 516.096 264.955 Q519.545 261.205 525.378 261.205 Q530.61 261.205 533.642 264.585 Q536.697 267.941 536.697 273.728 M532.438 272.478 Q532.392 268.983 530.471 266.899 Q528.573 264.816 525.424 264.816 Q521.86 264.816 519.707 266.83 Q517.577 268.844 517.253 272.501 L532.438 272.478 Z\" fill=\"#000000\" fill-rule=\"evenodd\" fill-opacity=\"1\" /><path clip-path=\"url(#clip030)\" d=\"M547.901 254.469 L547.901 261.83 L556.674 261.83 L556.674 265.14 L547.901 265.14 L547.901 279.214 Q547.901 282.385 548.758 283.288 Q549.637 284.191 552.299 284.191 L556.674 284.191 L556.674 287.756 L552.299 287.756 Q547.369 287.756 545.494 285.927 Q543.619 284.075 543.619 279.214 L543.619 265.14 L540.494 265.14 L540.494 261.83 L543.619 261.83 L543.619 254.469 L547.901 254.469 Z\" fill=\"#000000\" fill-rule=\"evenodd\" fill-opacity=\"1\" /><path clip-path=\"url(#clip030)\" d=\"M574.058 274.723 Q568.896 274.723 566.906 275.904 Q564.915 277.084 564.915 279.932 Q564.915 282.2 566.396 283.543 Q567.901 284.862 570.47 284.862 Q574.012 284.862 576.142 282.362 Q578.294 279.839 578.294 275.672 L578.294 274.723 L574.058 274.723 M582.554 272.964 L582.554 287.756 L578.294 287.756 L578.294 283.821 Q576.836 286.182 574.66 287.316 Q572.484 288.427 569.336 288.427 Q565.355 288.427 562.994 286.205 Q560.656 283.959 560.656 280.209 Q560.656 275.834 563.572 273.612 Q566.512 271.39 572.322 271.39 L578.294 271.39 L578.294 270.973 Q578.294 268.034 576.35 266.436 Q574.429 264.816 570.933 264.816 Q568.711 264.816 566.605 265.348 Q564.498 265.881 562.554 266.946 L562.554 263.01 Q564.892 262.108 567.091 261.668 Q569.29 261.205 571.373 261.205 Q576.998 261.205 579.776 264.122 Q582.554 267.038 582.554 272.964 Z\" fill=\"#000000\" fill-rule=\"evenodd\" fill-opacity=\"1\" /><polyline clip-path=\"url(#clip030)\" style=\"stroke:#3da44d; stroke-linecap:round; stroke-linejoin:round; stroke-width:4; stroke-opacity:1; fill:none\" points=\"318.705,322.316 460.615,322.316 \"/>\n",
       "<path clip-path=\"url(#clip030)\" d=\"M488.55 335.707 L488.55 349.457 L484.267 349.457 L484.267 313.67 L488.55 313.67 L488.55 317.605 Q489.892 315.29 491.929 314.179 Q493.989 313.045 496.837 313.045 Q501.559 313.045 504.499 316.795 Q507.462 320.545 507.462 326.656 Q507.462 332.767 504.499 336.517 Q501.559 340.267 496.837 340.267 Q493.989 340.267 491.929 339.156 Q489.892 338.022 488.55 335.707 M503.04 326.656 Q503.04 321.957 501.096 319.295 Q499.175 316.61 495.795 316.61 Q492.415 316.61 490.471 319.295 Q488.55 321.957 488.55 326.656 Q488.55 331.355 490.471 334.04 Q492.415 336.702 495.795 336.702 Q499.175 336.702 501.096 334.04 Q503.04 331.355 503.04 326.656 Z\" fill=\"#000000\" fill-rule=\"evenodd\" fill-opacity=\"1\" /><path clip-path=\"url(#clip030)\" d=\"M531.049 314.434 L531.049 318.462 Q529.244 317.536 527.299 317.073 Q525.355 316.61 523.272 316.61 Q520.1 316.61 518.503 317.582 Q516.929 318.554 516.929 320.499 Q516.929 321.98 518.063 322.837 Q519.198 323.67 522.623 324.434 L524.082 324.758 Q528.619 325.73 530.517 327.512 Q532.438 329.272 532.438 332.443 Q532.438 336.054 529.568 338.161 Q526.721 340.267 521.721 340.267 Q519.637 340.267 517.369 339.85 Q515.124 339.457 512.624 338.647 L512.624 334.249 Q514.985 335.475 517.276 336.1 Q519.568 336.702 521.813 336.702 Q524.823 336.702 526.443 335.684 Q528.063 334.642 528.063 332.767 Q528.063 331.031 526.883 330.105 Q525.725 329.179 521.767 328.323 L520.286 327.975 Q516.327 327.142 514.568 325.429 Q512.809 323.693 512.809 320.684 Q512.809 317.026 515.401 315.036 Q517.994 313.045 522.762 313.045 Q525.123 313.045 527.207 313.392 Q529.29 313.739 531.049 314.434 Z\" fill=\"#000000\" fill-rule=\"evenodd\" fill-opacity=\"1\" /><path clip-path=\"url(#clip030)\" d=\"M539.221 313.67 L543.48 313.67 L543.48 339.596 L539.221 339.596 L539.221 313.67 M539.221 303.577 L543.48 303.577 L543.48 308.971 L539.221 308.971 L539.221 303.577 Z\" fill=\"#000000\" fill-rule=\"evenodd\" fill-opacity=\"1\" /><polyline clip-path=\"url(#clip030)\" style=\"stroke:#c271d2; stroke-linecap:round; stroke-linejoin:round; stroke-width:4; stroke-opacity:1; fill:none\" points=\"318.705,374.156 460.615,374.156 \"/>\n",
       "<path clip-path=\"url(#clip030)\" d=\"M488.55 387.547 L488.55 401.297 L484.267 401.297 L484.267 365.51 L488.55 365.51 L488.55 369.445 Q489.892 367.13 491.929 366.019 Q493.989 364.885 496.837 364.885 Q501.559 364.885 504.499 368.635 Q507.462 372.385 507.462 378.496 Q507.462 384.607 504.499 388.357 Q501.559 392.107 496.837 392.107 Q493.989 392.107 491.929 390.996 Q489.892 389.862 488.55 387.547 M503.04 378.496 Q503.04 373.797 501.096 371.135 Q499.175 368.45 495.795 368.45 Q492.415 368.45 490.471 371.135 Q488.55 373.797 488.55 378.496 Q488.55 383.195 490.471 385.88 Q492.415 388.542 495.795 388.542 Q499.175 388.542 501.096 385.88 Q503.04 383.195 503.04 378.496 Z\" fill=\"#000000\" fill-rule=\"evenodd\" fill-opacity=\"1\" /><path clip-path=\"url(#clip030)\" d=\"M531.049 366.274 L531.049 370.302 Q529.244 369.376 527.299 368.913 Q525.355 368.45 523.272 368.45 Q520.1 368.45 518.503 369.422 Q516.929 370.394 516.929 372.339 Q516.929 373.82 518.063 374.677 Q519.198 375.51 522.623 376.274 L524.082 376.598 Q528.619 377.57 530.517 379.352 Q532.438 381.112 532.438 384.283 Q532.438 387.894 529.568 390.001 Q526.721 392.107 521.721 392.107 Q519.637 392.107 517.369 391.69 Q515.124 391.297 512.624 390.487 L512.624 386.089 Q514.985 387.315 517.276 387.94 Q519.568 388.542 521.813 388.542 Q524.823 388.542 526.443 387.524 Q528.063 386.482 528.063 384.607 Q528.063 382.871 526.883 381.945 Q525.725 381.019 521.767 380.163 L520.286 379.815 Q516.327 378.982 514.568 377.269 Q512.809 375.533 512.809 372.524 Q512.809 368.866 515.401 366.876 Q517.994 364.885 522.762 364.885 Q525.123 364.885 527.207 365.232 Q529.29 365.579 531.049 366.274 Z\" fill=\"#000000\" fill-rule=\"evenodd\" fill-opacity=\"1\" /><path clip-path=\"url(#clip030)\" d=\"M539.221 365.51 L543.48 365.51 L543.48 391.436 L539.221 391.436 L539.221 365.51 M539.221 355.417 L543.48 355.417 L543.48 360.811 L539.221 360.811 L539.221 355.417 Z\" fill=\"#000000\" fill-rule=\"evenodd\" fill-opacity=\"1\" /><path clip-path=\"url(#clip030)\" d=\"M553.48 385.556 L558.364 385.556 L558.364 389.538 L554.568 396.945 L551.582 396.945 L553.48 389.538 L553.48 385.556 Z\" fill=\"#000000\" fill-rule=\"evenodd\" fill-opacity=\"1\" /><path clip-path=\"url(#clip030)\" d=\"M589.012 365.51 L579.637 378.126 L589.498 391.436 L584.475 391.436 L576.929 381.251 L569.382 391.436 L564.359 391.436 L574.429 377.871 L565.216 365.51 L570.239 365.51 L577.114 374.746 L583.989 365.51 L589.012 365.51 Z\" fill=\"#000000\" fill-rule=\"evenodd\" fill-opacity=\"1\" /></svg>\n"
      ]
     },
     "execution_count": 187,
     "metadata": {},
     "output_type": "execute_result"
    }
   ],
   "source": [
    "using Plots #showing initial data and the initial status of the horizon finder\n",
    "plot(initX[4:L-3], state_array[4:L-3,1:4], xaxis=\"x\",title=\"Initial Data\", labels=[\"m\" \"beta\" \"psi\" \"psi,x\"])"
   ]
  },
  {
   "cell_type": "markdown",
   "id": "9b444ece",
   "metadata": {
    "papermill": {
     "duration": 0.007863,
     "end_time": "2023-06-25T23:43:20.431994",
     "exception": false,
     "start_time": "2023-06-25T23:43:20.424131",
     "status": "completed"
    },
    "tags": []
   },
   "source": [
    "# Defining the initial state array for the evolution m β Ψ and Ψ,x"
   ]
  },
  {
   "cell_type": "code",
   "execution_count": 188,
   "id": "9902ffab",
   "metadata": {
    "execution": {
     "iopub.execute_input": "2023-06-26T00:43:20.962000Z",
     "iopub.status.busy": "2023-06-26T00:43:20.448000Z",
     "iopub.status.idle": "2023-06-26T00:43:23.484000Z",
     "shell.execute_reply": "2023-06-26T00:43:23.484000Z"
    },
    "papermill": {
     "duration": 3.047994,
     "end_time": "2023-06-25T23:43:23.487839",
     "exception": false,
     "start_time": "2023-06-25T23:43:20.439845",
     "status": "completed"
    },
    "tags": []
   },
   "outputs": [],
   "source": [
    "using CSV, Tables, Printf\n",
    "#CSV.write(dir*\"/time_step0.csv\", Tables.table(transpose(Matrix(state_array))), writeheader=false)\n",
    "#CSV.write(dir*\"/res$res/time_step0.csv\", Tables.table(state_array), writeheader=false)\n",
    "\n",
    "global files=[\"m\", \"beta\", \"psi\", \"derpsi\"]\n",
    "\n",
    "print_muninn(files, 0, state_array[:,1:5],res,\"w\")"
   ]
  },
  {
   "cell_type": "code",
   "execution_count": 189,
   "id": "fff1426a",
   "metadata": {
    "execution": {
     "iopub.execute_input": "2023-06-26T00:43:24.210000Z",
     "iopub.status.busy": "2023-06-26T00:43:23.520000Z",
     "iopub.status.idle": "2023-06-26T00:43:25.884000Z",
     "shell.execute_reply": "2023-06-26T00:43:25.884000Z"
    },
    "papermill": {
     "duration": 2.383692,
     "end_time": "2023-06-25T23:43:25.889556",
     "exception": false,
     "start_time": "2023-06-25T23:43:23.505864",
     "status": "completed"
    },
    "tags": []
   },
   "outputs": [
    {
     "data": {
      "text/plain": [
       "\"/home/rita13santos/Desktop/MSc Thesis/Git/ScalarField/DATA/parameters.csv\""
      ]
     },
     "execution_count": 189,
     "metadata": {},
     "output_type": "execute_result"
    }
   ],
   "source": [
    "time=0.0\n",
    "criticality=0.0\n",
    "explode=0.0\n",
    "evol_stats = [criticality A sigma r0 time explode run]\n",
    "monitor_ratio = zeros(L)\n",
    "CSV.write(dir*\"/parameters.csv\", Tables.table(evol_stats), writeheader=true, header=[\"criticality\", \"A\", \"sigma\", \"r0\", \"time\", \"explode\", \"run\"])"
   ]
  },
  {
   "cell_type": "code",
   "execution_count": 190,
   "id": "9e9abd7d",
   "metadata": {
    "execution": {
     "iopub.execute_input": "2023-06-26T00:43:25.921000Z",
     "iopub.status.busy": "2023-06-26T00:43:25.921000Z",
     "iopub.status.idle": "2023-06-26T00:43:26.887000Z",
     "shell.execute_reply": "2023-06-26T00:43:26.887000Z"
    },
    "papermill": {
     "duration": 0.984943,
     "end_time": "2023-06-25T23:43:26.892187",
     "exception": false,
     "start_time": "2023-06-25T23:43:25.907244",
     "status": "completed"
    },
    "tags": []
   },
   "outputs": [
    {
     "name": "stdout",
     "output_type": "stream",
     "text": [
      "2.013400317650797\n"
     ]
    }
   ],
   "source": [
    "ginit=speed(initX,state_array[:,1],state_array[:,2])\n",
    "println(update_dt(initX,state_array[:,1],state_array[:,2],dx,ginit)/dt)"
   ]
  },
  {
   "cell_type": "code",
   "execution_count": 191,
   "id": "6a7e1787",
   "metadata": {
    "execution": {
     "iopub.execute_input": "2023-06-26T00:43:26.923000Z",
     "iopub.status.busy": "2023-06-26T00:43:26.923000Z",
     "iopub.status.idle": "2023-06-26T00:43:26.992000Z",
     "shell.execute_reply": "2023-06-26T00:43:26.992000Z"
    },
    "papermill": {
     "duration": 0.08784,
     "end_time": "2023-06-25T23:43:26.997291",
     "exception": false,
     "start_time": "2023-06-25T23:43:26.909451",
     "status": "completed"
    },
    "tags": []
   },
   "outputs": [
    {
     "data": {
      "text/plain": [
       "4"
      ]
     },
     "execution_count": 191,
     "metadata": {},
     "output_type": "execute_result"
    }
   ],
   "source": [
    "using Base.Threads\n",
    "Threads.nthreads()"
   ]
  },
  {
   "cell_type": "code",
   "execution_count": 192,
   "id": "2e2ddf23",
   "metadata": {},
   "outputs": [
    {
     "data": {
      "text/plain": [
       "\"dt=5e-5/2/2/2#/2/2\\n#dt=5e-5/2/2/2*2*2\""
      ]
     },
     "execution_count": 192,
     "metadata": {},
     "output_type": "execute_result"
    }
   ],
   "source": [
    "\"\"\"dt=5e-5/2/2/2#/2/2\n",
    "#dt=5e-5/2/2/2*2*2\"\"\""
   ]
  },
  {
   "cell_type": "markdown",
   "id": "42e2c73d",
   "metadata": {
    "papermill": {
     "duration": 0.018669,
     "end_time": "2023-06-25T23:43:27.033041",
     "exception": false,
     "start_time": "2023-06-25T23:43:27.014372",
     "status": "completed"
    },
    "tags": []
   },
   "source": [
    " ## Time evolution"
   ]
  },
  {
   "cell_type": "markdown",
   "id": "7da47594",
   "metadata": {
    "papermill": {
     "duration": 0.01267,
     "end_time": "2023-06-25T23:43:27.253249",
     "exception": false,
     "start_time": "2023-06-25T23:43:27.240579",
     "status": "completed"
    },
    "tags": []
   },
   "source": [
    "fixed grid"
   ]
  },
  {
   "cell_type": "code",
   "execution_count": 133,
   "id": "fcb7ae3f",
   "metadata": {
    "execution": {
     "iopub.execute_input": "2023-06-26T00:43:27.280000Z",
     "iopub.status.busy": "2023-06-26T00:43:27.279000Z",
     "iopub.status.idle": "2023-06-26T01:23:38.457000Z",
     "shell.execute_reply": "2023-06-26T01:23:38.457000Z"
    },
    "papermill": {
     "duration": 2411.197201,
     "end_time": "2023-06-26T00:23:38.463773",
     "exception": false,
     "start_time": "2023-06-25T23:43:27.266572",
     "status": "completed"
    },
    "tags": []
   },
   "outputs": [
    {
     "ename": "LoadError",
     "evalue": "UndefVarError: h not defined",
     "output_type": "error",
     "traceback": [
      "UndefVarError: h not defined",
      "",
      "Stacktrace:",
      " [1] RHS(y0::Vector{Float64}, x1::Float64, time::Float64, func::Spline1D, i::Int64, data::Matrix{Float64})",
      "   @ Main ~/Desktop/MSc Thesis/Git/ScalarField/ScalarField.jl:624",
      " [2] n_rk4wrapper(f::typeof(RHS), y0::Matrix{Float64}, x::Vector{Float64}, u::Float64, spl_funcs::Spline1D, data::Matrix{Float64})",
      "   @ Main ~/Desktop/MSc Thesis/Git/ScalarField/ScalarField.jl:221",
      " [3] SF_RHS(data::Matrix{Float64}, t::Float64, X::Vector{Float64})",
      "   @ Main ~/Desktop/MSc Thesis/Git/ScalarField/ScalarField.jl:647",
      " [4] rungekutta4molstep(f::typeof(SF_RHS), y00::Matrix{Float64}, T::Vector{Float64}, w::Int64, X::Vector{Float64})",
      "   @ Main ~/Desktop/MSc Thesis/Git/ScalarField/ScalarField.jl:183",
      " [5] timeevolution(state_array::Matrix{Float64}, finaltime::Float64, run::Int64)",
      "   @ Main ~/Desktop/MSc Thesis/Git/ScalarField/ScalarField.jl:744",
      " [6] top-level scope",
      "   @ In[133]:2"
     ]
    }
   ],
   "source": [
    "finaltime=0.5#1.3#2.0#1.3#1.6#2#1.3#0.08*2#0.005*10*5#1#0.9#0.8#0.04*5*4#length(T)-1\n",
    "evol_stats, T_interp = timeevolution(state_array,finaltime,run);#timeevolution(state_array,finaltime,dir*\"/res$res\",run,auxstate_array);\n",
    "#CSV.write(dir*\"/timearray$res.csv\", Tables.table(T_interp), writeheader=false);"
   ]
  },
  {
   "cell_type": "code",
   "execution_count": null,
   "id": "34192588",
   "metadata": {
    "papermill": {
     "duration": 0.007834,
     "end_time": "2023-06-26T00:23:38.486931",
     "exception": false,
     "start_time": "2023-06-26T00:23:38.479097",
     "status": "completed"
    },
    "tags": []
   },
   "outputs": [],
   "source": []
  },
  {
   "cell_type": "code",
   "execution_count": null,
   "id": "e5bac15d",
   "metadata": {
    "papermill": {
     "duration": 0.007993,
     "end_time": "2023-06-26T00:23:38.502852",
     "exception": false,
     "start_time": "2023-06-26T00:23:38.494859",
     "status": "completed"
    },
    "tags": []
   },
   "outputs": [],
   "source": []
  },
  {
   "cell_type": "markdown",
   "id": "715897d3",
   "metadata": {
    "papermill": {
     "duration": 0.012003,
     "end_time": "2023-06-26T00:23:38.523601",
     "exception": false,
     "start_time": "2023-06-26T00:23:38.511598",
     "status": "completed"
    },
    "tags": []
   },
   "source": [
    " ## Movie of the evolution"
   ]
  },
  {
   "cell_type": "code",
   "execution_count": 373,
   "id": "973cea47",
   "metadata": {
    "execution": {
     "iopub.execute_input": "2023-06-26T01:23:38.542000Z",
     "iopub.status.busy": "2023-06-26T01:23:38.542000Z",
     "iopub.status.idle": "2023-06-26T01:23:47.832000Z",
     "shell.execute_reply": "2023-06-26T01:23:47.832000Z"
    },
    "papermill": {
     "duration": 9.304365,
     "end_time": "2023-06-26T00:23:47.837017",
     "exception": true,
     "start_time": "2023-06-26T00:23:38.532652",
     "status": "failed"
    },
    "tags": []
   },
   "outputs": [
    {
     "ename": "LoadError",
     "evalue": "ArgumentError: \"/home/rita13santos/Desktop/MSc Thesis/Git/ScalarField/DATA/res1/time_step0.csv\" is not a valid file or doesn't exist",
     "output_type": "error",
     "traceback": [
      "ArgumentError: \"/home/rita13santos/Desktop/MSc Thesis/Git/ScalarField/DATA/res1/time_step0.csv\" is not a valid file or doesn't exist",
      "",
      "Stacktrace:",
      " [1] CSV.Context(source::CSV.Arg, header::CSV.Arg, normalizenames::CSV.Arg, datarow::CSV.Arg, skipto::CSV.Arg, footerskip::CSV.Arg, transpose::CSV.Arg, comment::CSV.Arg, ignoreemptyrows::CSV.Arg, ignoreemptylines::CSV.Arg, select::CSV.Arg, drop::CSV.Arg, limit::CSV.Arg, buffer_in_memory::CSV.Arg, threaded::CSV.Arg, ntasks::CSV.Arg, tasks::CSV.Arg, rows_to_check::CSV.Arg, lines_to_check::CSV.Arg, missingstrings::CSV.Arg, missingstring::CSV.Arg, delim::CSV.Arg, ignorerepeated::CSV.Arg, quoted::CSV.Arg, quotechar::CSV.Arg, openquotechar::CSV.Arg, closequotechar::CSV.Arg, escapechar::CSV.Arg, dateformat::CSV.Arg, dateformats::CSV.Arg, decimal::CSV.Arg, truestrings::CSV.Arg, falsestrings::CSV.Arg, stripwhitespace::CSV.Arg, type::CSV.Arg, types::CSV.Arg, typemap::CSV.Arg, pool::CSV.Arg, downcast::CSV.Arg, lazystrings::CSV.Arg, stringtype::CSV.Arg, strict::CSV.Arg, silencewarnings::CSV.Arg, maxwarnings::CSV.Arg, debug::CSV.Arg, parsingdebug::CSV.Arg, validate::CSV.Arg, streaming::CSV.Arg)",
      "   @ CSV ~/.julia/packages/CSV/b8ebJ/src/context.jl:306",
      " [2] #File#28",
      "   @ ~/.julia/packages/CSV/b8ebJ/src/file.jl:221 [inlined]",
      " [3] macro expansion",
      "   @ ./In[373]:8 [inlined]",
      " [4] top-level scope",
      "   @ ~/.julia/packages/Plots/bMtsB/src/animation.jl:251"
     ]
    }
   ],
   "source": [
    "using Plots, CSV, DataFrames\n",
    "import GR\n",
    "anim = @animate for n in 0:100:3800#870\n",
    "    \n",
    "    \n",
    "    IJulia.clear_output(true)\n",
    "    \n",
    "    functions3=DataFrame(CSV.File(dir*\"/res$res/time_step$n.csv\",header=false, delim=\",\"))\n",
    "    \n",
    "    #functions3=DataFrame(CSV.File(\"/home/rita13santos/Desktop/MSc Thesis/Git/ScalarField/DATA/bisectionsearch/run1\"*\"/time_step$n.csv\",header=false, delim=\",\"))\n",
    "    plot()\n",
    "        plot1=functions3.Column1[4:L-3];\n",
    "        plot2=functions3.Column2[4:L-3];\n",
    "        plot3=functions3.Column3[4:L-3];\n",
    "        plot4=functions3.Column4[4:L-3];\n",
    "        plot5=functions3.Column5[4:L-3];\n",
    "    temp=round(n*dt,digits=2)\n",
    "    plot!(initX1, [plot1 plot2 plot3 plot4], labels=[\"m\" \"beta\" \"psi\" \"psi,x\"], title=\"$temp\", ylim=[-0.01, 0.01],xlim=[0, 1])#, xlim=[0, 0.1])# |> display \n",
    "    #plot!(initX[4:L-3], [plot1], labels=[\"m\" \"beta\" \"psi\" \"psi,x\"],ylim=[-1,1])#, xlim=[0, 0.1]) |> display \n",
    "    \n",
    "    end\n",
    "\n",
    "gif(anim, \"anim_res$res.gif\", fps = 10)"
   ]
  },
  {
   "cell_type": "code",
   "execution_count": null,
   "id": "2f4d41cf",
   "metadata": {
    "papermill": {
     "duration": null,
     "end_time": null,
     "exception": null,
     "start_time": null,
     "status": "pending"
    },
    "tags": []
   },
   "outputs": [],
   "source": []
  },
  {
   "cell_type": "code",
   "execution_count": null,
   "id": "c6b8b7bc",
   "metadata": {
    "papermill": {
     "duration": null,
     "end_time": null,
     "exception": null,
     "start_time": null,
     "status": "pending"
    },
    "tags": []
   },
   "outputs": [],
   "source": [
    "using Plots, CSV, DataFrames\n",
    "import GR\n",
    "anim = @animate for n in 10:10:1000#length(T)-1\n",
    "    \n",
    "    IJulia.clear_output(true)\n",
    "    \n",
    "    functions3=DataFrame(CSV.File(dir*\"/res$res/monitor_ratio$n.csv\",header=false, delim=\",\"))\n",
    "    plot()\n",
    "        plot1=functions3.Column1[4:L-3];\n",
    "    \n",
    "    plot!(initX1, [plot1], labels=[\"monitor ratio\"], ylim=[0, 1])# |> display \n",
    "    #plot!(initX[4:L-3], [plot1], labels=[\"m\" \"beta\" \"psi\" \"psi,x\"],ylim=[-1,1])#, xlim=[0, 0.1]) |> display \n",
    "    \n",
    "    end\n",
    "\n",
    "gif(anim, \"anim_res$res.gif\", fps = 5)"
   ]
  },
  {
   "cell_type": "code",
   "execution_count": null,
   "id": "baafffa1",
   "metadata": {
    "papermill": {
     "duration": null,
     "end_time": null,
     "exception": null,
     "start_time": null,
     "status": "pending"
    },
    "tags": []
   },
   "outputs": [],
   "source": []
  },
  {
   "cell_type": "markdown",
   "id": "178a4797",
   "metadata": {
    "papermill": {
     "duration": null,
     "end_time": null,
     "exception": null,
     "start_time": null,
     "status": "pending"
    },
    "tags": []
   },
   "source": [
    "# New test"
   ]
  },
  {
   "cell_type": "code",
   "execution_count": 14,
   "id": "3ec9634d",
   "metadata": {
    "papermill": {
     "duration": null,
     "end_time": null,
     "exception": null,
     "start_time": null,
     "status": "pending"
    },
    "tags": []
   },
   "outputs": [],
   "source": [
    "include(\"./ScalarField.jl\");\n",
    "\n",
    "function ff(x)\n",
    "\n",
    "    return x^2\n",
    "\n",
    "end\n",
    "function gridd(x)\n",
    "\n",
    "    #return(1/2+1/2*cos(pi*(1-0.9*x)))\n",
    "    return(1/2 .+ 1/2 .* cos.(pi .* (1 .- x)))\n",
    "\n",
    "end;"
   ]
  },
  {
   "cell_type": "code",
   "execution_count": 15,
   "id": "640a2dd2",
   "metadata": {
    "papermill": {
     "duration": null,
     "end_time": null,
     "exception": null,
     "start_time": null,
     "status": "pending"
    },
    "tags": []
   },
   "outputs": [],
   "source": [
    "res=1\n",
    "\n",
    "dx=0.01\n",
    "\n",
    "x=range(-3*dx,1+3*dx,step=dx)\n",
    "\n",
    "y=ff.(x);"
   ]
  },
  {
   "cell_type": "code",
   "execution_count": 16,
   "id": "01dcc993",
   "metadata": {
    "papermill": {
     "duration": null,
     "end_time": null,
     "exception": null,
     "start_time": null,
     "status": "pending"
    },
    "tags": []
   },
   "outputs": [
    {
     "name": "stdout",
     "output_type": "stream",
     "text": [
      "[-5.421010862427522e-18, 0.02, 0.04, 0.05999999999999999, 0.08000000000000002, 0.10000000000000005, 0.1199999999999999, 0.1400000000000001, 0.16000000000000003, 0.1799999999999999, 0.2000000000000001, 0.22, 0.2399999999999999, 0.25999999999999995, 0.2800000000000004, 0.29999999999999966, 0.32000000000000006, 0.34000000000000047, 0.35999999999999943, 0.3800000000000001, 0.4000000000000004, 0.41999999999999915, 0.44000000000000006, 0.46000000000000085, 0.4799999999999994, 0.5, 0.5199999999999999, 0.5399999999999997, 0.560000000000002, 0.5799999999999987, 0.6, 0.6199999999999999, 0.6399999999999997, 0.6600000000000003, 0.6800000000000018, 0.699999999999998, 0.7199999999999999, 0.7399999999999998, 0.7600000000000002, 0.7800000000000008, 0.8000000000000017, 0.8199999999999964, 0.8399999999999997, 0.8600000000000003, 0.8800000000000008, 0.9, 0.9200000000000029, 0.9399999999999983, 0.9599999999999989, 0.9799999999999994, 1.0, 1.0200000000000005, 1.0400000000000011, 1.059999999999999, 1.0799999999999994, 1.1, 1.1200000000000074, 1.1399999999999955, 1.1599999999999988, 1.1799999999999995, 1.2, 1.2200000000000006, 1.240000000000001, 1.259999999999999, 1.2799999999999994, 1.3, 1.3200000000000005, 1.3400000000000012, 1.3600000000000056, 1.379999999999991, 1.4000000000000028, 1.4200000000000006, 1.4399999999999955, 1.4599999999999989, 1.4800000000000022, 1.5, 1.5199999999999978, 1.5400000000000011, 1.5600000000000045, 1.5800000000000023, 1.6, 1.6200000000000048, 1.63999999999999, 1.6599999999999988, 1.6799999999999966, 1.7, 1.7200000000000033, 1.740000000000001, 1.759999999999999, 1.7800000000000022, 1.8, 1.8199999999999978, 1.8400000000000012, 1.860000000000014, 1.879999999999991, 1.9, 1.9199999999999977, 1.9399999999999955, 1.9599999999999989, 1.9800000000000022, 2.0]\n"
     ]
    },
    {
     "data": {
      "text/plain": [
       "107×2 Matrix{Float64}:\n",
       " 0.0009       0.0\n",
       " 0.0004       0.0\n",
       " 0.0001       0.0\n",
       " 0.0          0.0\n",
       " 6.08707e-8   0.0\n",
       " 9.7345e-7    0.0\n",
       " 4.92404e-6   0.0\n",
       " 1.55445e-5   0.0\n",
       " 3.78942e-5   0.0\n",
       " 7.84354e-5   0.0\n",
       " 0.000145001  0.0\n",
       " 0.000246754  0.0\n",
       " 0.000394148  0.0\n",
       " ⋮            \n",
       " 0.96883      0.0\n",
       " 0.976062     0.0\n",
       " 0.982366     0.0\n",
       " 0.987726     0.0\n",
       " 0.99213      0.0\n",
       " 0.995567     0.0\n",
       " 0.998028     0.0\n",
       " 0.999507     0.0\n",
       " 1.0          0.0\n",
       " 1.0201       0.0\n",
       " 1.0404       0.0\n",
       " 1.0609       0.0"
      ]
     },
     "execution_count": 16,
     "metadata": {},
     "output_type": "execute_result"
    }
   ],
   "source": [
    "L=length(x)\n",
    "aux=zeros(L)\n",
    "\n",
    "\n",
    "for i in 4:L-3\n",
    "\n",
    "    aux[i]=Dertest(y,i,x)\n",
    "\n",
    "end\n",
    "\n",
    "println(aux[4:L-3]);\n",
    "xnew=collect(x)\n",
    "xnew[4:L-3]=gridd(x[4:L-3])\n",
    "\n",
    "#ynew=ff.(xnew);\n",
    "ynew=[ff.(xnew) zeros(L)]"
   ]
  },
  {
   "cell_type": "code",
   "execution_count": 17,
   "id": "85a26205",
   "metadata": {
    "papermill": {
     "duration": null,
     "end_time": null,
     "exception": null,
     "start_time": null,
     "status": "pending"
    },
    "tags": []
   },
   "outputs": [
    {
     "name": "stdout",
     "output_type": "stream",
     "text": [
      " \n",
      "[1.015648370447264e-16, 0.0005482301902749086, 0.001973271571728468, 0.0044380353969199916, 0.007885298685522223, 0.012311659404862337, 0.017712749271311282, 0.02408323806125268, 0.03141683887136893, 0.03970631432305701, 0.04894348370484647, 0.05911923104577456, 0.07022351411174863, 0.08224537431601885, 0.09517294753398073, 0.10899347581163228, 0.12369331995613629, 0.1392579729960566, 0.15567207449798479, 0.1729194257254383, 0.19098300562505244, 0.2098449876243095, 0.22948675722421108, 0.2498889303695403, 0.2710313725785885, 0.29289321881345254, 0.31545289407131144, 0.33868813467634734, 0.3625760102513108, 0.38709294634702446, 0.41221474770752714, 0.43791662214787025, 0.46417320502100506, 0.49095858424962846, 0.5182463258982851, 0.5460095002604536, 0.574220708434928, 0.6028521093652197, 0.6318754473153203, 0.6612620797547106, 0.6909830056250531, 0.7210088939607736, 0.7513101128351458, 0.7818567586034563, 0.8126186854142732, 0.8435655349597684, 0.8746667664356949, 0.9058916866814866, 0.9372094804706849, 0.9685892409218728, 0.9999999999999986, 1.0314107590781274, 1.0627905195293108, 1.0941083133185165, 1.1253332335643091, 1.1564344650402298, 1.1873813145857235, 1.2181432413965423, 1.2486898871648568, 1.278991106039232, 1.3090169943749435, 1.3387379202452931, 1.3681245526846817, 1.3971478906347758, 1.4257792915650718, 1.4539904997395396, 1.4817536741017134, 1.5090414157503693, 1.535826794978986, 1.562083377852123, 1.5877852522924734, 1.6129070536529668, 1.637423989748694, 1.6613118653236332, 1.6845471059287018, 1.7071067811865388, 1.7289686274214036, 1.750111069630457, 1.7705132427758015, 1.7901550123756864, 1.8090169943749432, 1.8270805742745724, 1.844327925502048, 1.8607420270039638, 1.8763066800438526, 1.8910065241884046, 1.904827052466015, 1.9177546256839986, 1.9297764858882467, 1.9408807689541965, 1.9510565162951485, 1.960293685676926, 1.968583161128644, 1.9759167619387785, 1.9822872507287672, 1.9876883405951633, 1.992114701314529, 2.028800622170279, 2.109146953261326, 2.166193787017076, 2.3366666666666718]\n",
      " \n",
      "[0.0, 0.0004934396342684, 0.001973271571728441, 0.004438035396920004, 0.007885298685522235, 0.01231165940486234, 0.01771274927131128, 0.024083238061252676, 0.031416838871368924, 0.039706314323057046, 0.04894348370484647, 0.059119231045774545, 0.07022351411174865, 0.08224537431601886, 0.09517294753398065, 0.10899347581163221, 0.12369331995613642, 0.13925797299605647, 0.15567207449798492, 0.17291942572543828, 0.19098300562505266, 0.2098449876243096, 0.22948675722421086, 0.24988893036954052, 0.27103137257858867, 0.29289321881345254, 0.3154528940713113, 0.3386881346763483, 0.36257601025131025, 0.38709294634702374, 0.412214747707527, 0.4379166221478693, 0.46417320502100357, 0.4909585842496287, 0.518246325898285, 0.5460095002604533, 0.5742207084349273, 0.6028521093652195, 0.6318754473153223, 0.6612620797547089, 0.6909830056250524, 0.7210088939607706, 0.7513101128351451, 0.7818567586034575, 0.8126186854142754, 0.8435655349597692, 0.8746667664356956, 0.9058916866814857, 0.9372094804706866, 0.9685892409218717, 1.0, 1.031410759078128, 1.0627905195293132, 1.0941083133185143, 1.1253332335643043, 1.156434465040231, 1.1873813145857248, 1.2181432413965425, 1.2486898871648546, 1.2789911060392294, 1.3090169943749475, 1.3387379202452916, 1.368124552684678, 1.3971478906347805, 1.4257792915650727, 1.4539904997395467, 1.4817536741017154, 1.5090414157503713, 1.5358267949789968, 1.5620833778521306, 1.587785252292473, 1.6129070536529766, 1.6374239897486897, 1.661311865323652, 1.6845471059286887, 1.7071067811865475, 1.7289686274214116, 1.7501110696304596, 1.7705132427757895, 1.7901550123756904, 1.8090169943749475, 1.8270805742745617, 1.8443279255020149, 1.8607420270039436, 1.8763066800438635, 1.891006524188368, 1.9048270524660196, 1.917754625683981, 1.9297764858882513, 1.9408807689542256, 1.9510565162951536, 1.960293685676943, 1.968583161128631, 1.9759167619387474, 1.9822872507286888, 1.9876883405951378, 1.992114701314478, 1.99556196460308, 1.9980267284282716, 1.9995065603657316, 2.0]\n"
     ]
    }
   ],
   "source": [
    "spl=Spline1D(xnew[4:L-3],ynew[4:L-3],k=4)\n",
    "spl=[spl spl]\n",
    "auxnew=zeros(L);\n",
    "k=1\n",
    "\n",
    "for i in 4:L-3\n",
    "    auxnew[i]=unevenDer(ynew,i,k,xnew,spl)\n",
    "end\n",
    "\n",
    "println(\" \")\n",
    "println(auxnew[4:L-3])\n",
    "println(\" \")\n",
    "println(2 .* xnew[4:L-3])"
   ]
  },
  {
   "cell_type": "code",
   "execution_count": 18,
   "id": "ec129a6b",
   "metadata": {},
   "outputs": [
    {
     "data": {
      "text/plain": [
       "104"
      ]
     },
     "execution_count": 18,
     "metadata": {},
     "output_type": "execute_result"
    }
   ],
   "source": [
    "L-3"
   ]
  },
  {
   "cell_type": "code",
   "execution_count": null,
   "id": "930ad652",
   "metadata": {},
   "outputs": [],
   "source": []
  },
  {
   "cell_type": "code",
   "execution_count": 272,
   "id": "6e2c9f0d",
   "metadata": {
    "papermill": {
     "duration": null,
     "end_time": null,
     "exception": null,
     "start_time": null,
     "status": "pending"
    },
    "tags": []
   },
   "outputs": [
    {
     "data": {
      "image/svg+xml": [
       "<?xml version=\"1.0\" encoding=\"utf-8\"?>\n",
       "<svg xmlns=\"http://www.w3.org/2000/svg\" xmlns:xlink=\"http://www.w3.org/1999/xlink\" width=\"600\" height=\"400\" viewBox=\"0 0 2400 1600\">\n",
       "<defs>\n",
       "  <clipPath id=\"clip050\">\n",
       "    <rect x=\"0\" y=\"0\" width=\"2400\" height=\"1600\"/>\n",
       "  </clipPath>\n",
       "</defs>\n",
       "<path clip-path=\"url(#clip050)\" d=\"M0 1600 L2400 1600 L2400 0 L0 0  Z\" fill=\"#ffffff\" fill-rule=\"evenodd\" fill-opacity=\"1\"/>\n",
       "<defs>\n",
       "  <clipPath id=\"clip051\">\n",
       "    <rect x=\"480\" y=\"0\" width=\"1681\" height=\"1600\"/>\n",
       "  </clipPath>\n",
       "</defs>\n",
       "<path clip-path=\"url(#clip050)\" d=\"M156.112 1486.45 L2352.76 1486.45 L2352.76 47.2441 L156.112 47.2441  Z\" fill=\"#ffffff\" fill-rule=\"evenodd\" fill-opacity=\"1\"/>\n",
       "<defs>\n",
       "  <clipPath id=\"clip052\">\n",
       "    <rect x=\"156\" y=\"47\" width=\"2198\" height=\"1440\"/>\n",
       "  </clipPath>\n",
       "</defs>\n",
       "<polyline clip-path=\"url(#clip052)\" style=\"stroke:#000000; stroke-linecap:round; stroke-linejoin:round; stroke-width:2; stroke-opacity:0.1; fill:none\" points=\"156.112,1486.45 156.112,47.2441 \"/>\n",
       "<polyline clip-path=\"url(#clip052)\" style=\"stroke:#000000; stroke-linecap:round; stroke-linejoin:round; stroke-width:2; stroke-opacity:0.1; fill:none\" points=\"595.441,1486.45 595.441,47.2441 \"/>\n",
       "<polyline clip-path=\"url(#clip052)\" style=\"stroke:#000000; stroke-linecap:round; stroke-linejoin:round; stroke-width:2; stroke-opacity:0.1; fill:none\" points=\"1034.77,1486.45 1034.77,47.2441 \"/>\n",
       "<polyline clip-path=\"url(#clip052)\" style=\"stroke:#000000; stroke-linecap:round; stroke-linejoin:round; stroke-width:2; stroke-opacity:0.1; fill:none\" points=\"1474.1,1486.45 1474.1,47.2441 \"/>\n",
       "<polyline clip-path=\"url(#clip052)\" style=\"stroke:#000000; stroke-linecap:round; stroke-linejoin:round; stroke-width:2; stroke-opacity:0.1; fill:none\" points=\"1913.43,1486.45 1913.43,47.2441 \"/>\n",
       "<polyline clip-path=\"url(#clip050)\" style=\"stroke:#000000; stroke-linecap:round; stroke-linejoin:round; stroke-width:4; stroke-opacity:1; fill:none\" points=\"156.112,1486.45 2352.76,1486.45 \"/>\n",
       "<polyline clip-path=\"url(#clip050)\" style=\"stroke:#000000; stroke-linecap:round; stroke-linejoin:round; stroke-width:4; stroke-opacity:1; fill:none\" points=\"156.112,1486.45 156.112,1467.55 \"/>\n",
       "<polyline clip-path=\"url(#clip050)\" style=\"stroke:#000000; stroke-linecap:round; stroke-linejoin:round; stroke-width:4; stroke-opacity:1; fill:none\" points=\"595.441,1486.45 595.441,1467.55 \"/>\n",
       "<polyline clip-path=\"url(#clip050)\" style=\"stroke:#000000; stroke-linecap:round; stroke-linejoin:round; stroke-width:4; stroke-opacity:1; fill:none\" points=\"1034.77,1486.45 1034.77,1467.55 \"/>\n",
       "<polyline clip-path=\"url(#clip050)\" style=\"stroke:#000000; stroke-linecap:round; stroke-linejoin:round; stroke-width:4; stroke-opacity:1; fill:none\" points=\"1474.1,1486.45 1474.1,1467.55 \"/>\n",
       "<polyline clip-path=\"url(#clip050)\" style=\"stroke:#000000; stroke-linecap:round; stroke-linejoin:round; stroke-width:4; stroke-opacity:1; fill:none\" points=\"1913.43,1486.45 1913.43,1467.55 \"/>\n",
       "<path clip-path=\"url(#clip050)\" d=\"M118.416 1517.37 Q114.804 1517.37 112.976 1520.93 Q111.17 1524.47 111.17 1531.6 Q111.17 1538.71 112.976 1542.27 Q114.804 1545.82 118.416 1545.82 Q122.05 1545.82 123.855 1542.27 Q125.684 1538.71 125.684 1531.6 Q125.684 1524.47 123.855 1520.93 Q122.05 1517.37 118.416 1517.37 M118.416 1513.66 Q124.226 1513.66 127.281 1518.27 Q130.36 1522.85 130.36 1531.6 Q130.36 1540.33 127.281 1544.94 Q124.226 1549.52 118.416 1549.52 Q112.605 1549.52 109.527 1544.94 Q106.471 1540.33 106.471 1531.6 Q106.471 1522.85 109.527 1518.27 Q112.605 1513.66 118.416 1513.66 Z\" fill=\"#000000\" fill-rule=\"evenodd\" fill-opacity=\"1\" /><path clip-path=\"url(#clip050)\" d=\"M138.577 1542.97 L143.462 1542.97 L143.462 1548.85 L138.577 1548.85 L138.577 1542.97 Z\" fill=\"#000000\" fill-rule=\"evenodd\" fill-opacity=\"1\" /><path clip-path=\"url(#clip050)\" d=\"M153.786 1548.13 L153.786 1543.87 Q155.545 1544.7 157.351 1545.14 Q159.156 1545.58 160.892 1545.58 Q165.522 1545.58 167.952 1542.48 Q170.406 1539.36 170.753 1533.01 Q169.411 1535.01 167.35 1536.07 Q165.29 1537.13 162.79 1537.13 Q157.605 1537.13 154.573 1534.01 Q151.564 1530.86 151.564 1525.42 Q151.564 1520.1 154.712 1516.88 Q157.86 1513.66 163.091 1513.66 Q169.087 1513.66 172.235 1518.27 Q175.406 1522.85 175.406 1531.6 Q175.406 1539.77 171.517 1544.66 Q167.651 1549.52 161.101 1549.52 Q159.341 1549.52 157.536 1549.17 Q155.73 1548.82 153.786 1548.13 M163.091 1533.48 Q166.239 1533.48 168.068 1531.32 Q169.92 1529.17 169.92 1525.42 Q169.92 1521.7 168.068 1519.54 Q166.239 1517.37 163.091 1517.37 Q159.943 1517.37 158.091 1519.54 Q156.263 1521.7 156.263 1525.42 Q156.263 1529.17 158.091 1531.32 Q159.943 1533.48 163.091 1533.48 Z\" fill=\"#000000\" fill-rule=\"evenodd\" fill-opacity=\"1\" /><path clip-path=\"url(#clip050)\" d=\"M193.809 1517.37 Q190.198 1517.37 188.369 1520.93 Q186.563 1524.47 186.563 1531.6 Q186.563 1538.71 188.369 1542.27 Q190.198 1545.82 193.809 1545.82 Q197.443 1545.82 199.248 1542.27 Q201.077 1538.71 201.077 1531.6 Q201.077 1524.47 199.248 1520.93 Q197.443 1517.37 193.809 1517.37 M193.809 1513.66 Q199.619 1513.66 202.674 1518.27 Q205.753 1522.85 205.753 1531.6 Q205.753 1540.33 202.674 1544.94 Q199.619 1549.52 193.809 1549.52 Q187.999 1549.52 184.92 1544.94 Q181.864 1540.33 181.864 1531.6 Q181.864 1522.85 184.92 1518.27 Q187.999 1513.66 193.809 1513.66 Z\" fill=\"#000000\" fill-rule=\"evenodd\" fill-opacity=\"1\" /><path clip-path=\"url(#clip050)\" d=\"M558.543 1517.37 Q554.932 1517.37 553.103 1520.93 Q551.298 1524.47 551.298 1531.6 Q551.298 1538.71 553.103 1542.27 Q554.932 1545.82 558.543 1545.82 Q562.177 1545.82 563.983 1542.27 Q565.811 1538.71 565.811 1531.6 Q565.811 1524.47 563.983 1520.93 Q562.177 1517.37 558.543 1517.37 M558.543 1513.66 Q564.353 1513.66 567.409 1518.27 Q570.487 1522.85 570.487 1531.6 Q570.487 1540.33 567.409 1544.94 Q564.353 1549.52 558.543 1549.52 Q552.733 1549.52 549.654 1544.94 Q546.599 1540.33 546.599 1531.6 Q546.599 1522.85 549.654 1518.27 Q552.733 1513.66 558.543 1513.66 Z\" fill=\"#000000\" fill-rule=\"evenodd\" fill-opacity=\"1\" /><path clip-path=\"url(#clip050)\" d=\"M578.705 1542.97 L583.589 1542.97 L583.589 1548.85 L578.705 1548.85 L578.705 1542.97 Z\" fill=\"#000000\" fill-rule=\"evenodd\" fill-opacity=\"1\" /><path clip-path=\"url(#clip050)\" d=\"M593.913 1548.13 L593.913 1543.87 Q595.672 1544.7 597.478 1545.14 Q599.283 1545.58 601.02 1545.58 Q605.649 1545.58 608.08 1542.48 Q610.533 1539.36 610.881 1533.01 Q609.538 1535.01 607.478 1536.07 Q605.418 1537.13 602.918 1537.13 Q597.733 1537.13 594.7 1534.01 Q591.691 1530.86 591.691 1525.42 Q591.691 1520.1 594.839 1516.88 Q597.987 1513.66 603.219 1513.66 Q609.214 1513.66 612.362 1518.27 Q615.533 1522.85 615.533 1531.6 Q615.533 1539.77 611.644 1544.66 Q607.779 1549.52 601.228 1549.52 Q599.469 1549.52 597.663 1549.17 Q595.858 1548.82 593.913 1548.13 M603.219 1533.48 Q606.367 1533.48 608.195 1531.32 Q610.047 1529.17 610.047 1525.42 Q610.047 1521.7 608.195 1519.54 Q606.367 1517.37 603.219 1517.37 Q600.07 1517.37 598.219 1519.54 Q596.39 1521.7 596.39 1525.42 Q596.39 1529.17 598.219 1531.32 Q600.07 1533.48 603.219 1533.48 Z\" fill=\"#000000\" fill-rule=\"evenodd\" fill-opacity=\"1\" /><path clip-path=\"url(#clip050)\" d=\"M627.964 1544.91 L644.283 1544.91 L644.283 1548.85 L622.339 1548.85 L622.339 1544.91 Q625.001 1542.16 629.584 1537.53 Q634.191 1532.88 635.371 1531.53 Q637.617 1529.01 638.496 1527.27 Q639.399 1525.51 639.399 1523.82 Q639.399 1521.07 637.455 1519.33 Q635.533 1517.6 632.431 1517.6 Q630.232 1517.6 627.779 1518.36 Q625.348 1519.13 622.57 1520.68 L622.57 1515.95 Q625.394 1514.82 627.848 1514.24 Q630.302 1513.66 632.339 1513.66 Q637.709 1513.66 640.904 1516.35 Q644.098 1519.03 644.098 1523.52 Q644.098 1525.65 643.288 1527.57 Q642.501 1529.47 640.394 1532.07 Q639.816 1532.74 636.714 1535.95 Q633.612 1539.15 627.964 1544.91 Z\" fill=\"#000000\" fill-rule=\"evenodd\" fill-opacity=\"1\" /><path clip-path=\"url(#clip050)\" d=\"M996.83 1517.37 Q993.219 1517.37 991.39 1520.93 Q989.585 1524.47 989.585 1531.6 Q989.585 1538.71 991.39 1542.27 Q993.219 1545.82 996.83 1545.82 Q1000.46 1545.82 1002.27 1542.27 Q1004.1 1538.71 1004.1 1531.6 Q1004.1 1524.47 1002.27 1520.93 Q1000.46 1517.37 996.83 1517.37 M996.83 1513.66 Q1002.64 1513.66 1005.7 1518.27 Q1008.77 1522.85 1008.77 1531.6 Q1008.77 1540.33 1005.7 1544.94 Q1002.64 1549.52 996.83 1549.52 Q991.02 1549.52 987.941 1544.94 Q984.886 1540.33 984.886 1531.6 Q984.886 1522.85 987.941 1518.27 Q991.02 1513.66 996.83 1513.66 Z\" fill=\"#000000\" fill-rule=\"evenodd\" fill-opacity=\"1\" /><path clip-path=\"url(#clip050)\" d=\"M1016.99 1542.97 L1021.88 1542.97 L1021.88 1548.85 L1016.99 1548.85 L1016.99 1542.97 Z\" fill=\"#000000\" fill-rule=\"evenodd\" fill-opacity=\"1\" /><path clip-path=\"url(#clip050)\" d=\"M1032.2 1548.13 L1032.2 1543.87 Q1033.96 1544.7 1035.77 1545.14 Q1037.57 1545.58 1039.31 1545.58 Q1043.94 1545.58 1046.37 1542.48 Q1048.82 1539.36 1049.17 1533.01 Q1047.83 1535.01 1045.76 1536.07 Q1043.7 1537.13 1041.2 1537.13 Q1036.02 1537.13 1032.99 1534.01 Q1029.98 1530.86 1029.98 1525.42 Q1029.98 1520.1 1033.13 1516.88 Q1036.27 1513.66 1041.51 1513.66 Q1047.5 1513.66 1050.65 1518.27 Q1053.82 1522.85 1053.82 1531.6 Q1053.82 1539.77 1049.93 1544.66 Q1046.07 1549.52 1039.51 1549.52 Q1037.76 1549.52 1035.95 1549.17 Q1034.14 1548.82 1032.2 1548.13 M1041.51 1533.48 Q1044.65 1533.48 1046.48 1531.32 Q1048.33 1529.17 1048.33 1525.42 Q1048.33 1521.7 1046.48 1519.54 Q1044.65 1517.37 1041.51 1517.37 Q1038.36 1517.37 1036.51 1519.54 Q1034.68 1521.7 1034.68 1525.42 Q1034.68 1529.17 1036.51 1531.32 Q1038.36 1533.48 1041.51 1533.48 Z\" fill=\"#000000\" fill-rule=\"evenodd\" fill-opacity=\"1\" /><path clip-path=\"url(#clip050)\" d=\"M1075.07 1518.36 L1063.26 1536.81 L1075.07 1536.81 L1075.07 1518.36 M1073.84 1514.29 L1079.72 1514.29 L1079.72 1536.81 L1084.65 1536.81 L1084.65 1540.7 L1079.72 1540.7 L1079.72 1548.85 L1075.07 1548.85 L1075.07 1540.7 L1059.47 1540.7 L1059.47 1536.19 L1073.84 1514.29 Z\" fill=\"#000000\" fill-rule=\"evenodd\" fill-opacity=\"1\" /><path clip-path=\"url(#clip050)\" d=\"M1436.32 1517.37 Q1432.71 1517.37 1430.88 1520.93 Q1429.08 1524.47 1429.08 1531.6 Q1429.08 1538.71 1430.88 1542.27 Q1432.71 1545.82 1436.32 1545.82 Q1439.96 1545.82 1441.76 1542.27 Q1443.59 1538.71 1443.59 1531.6 Q1443.59 1524.47 1441.76 1520.93 Q1439.96 1517.37 1436.32 1517.37 M1436.32 1513.66 Q1442.13 1513.66 1445.19 1518.27 Q1448.27 1522.85 1448.27 1531.6 Q1448.27 1540.33 1445.19 1544.94 Q1442.13 1549.52 1436.32 1549.52 Q1430.51 1549.52 1427.43 1544.94 Q1424.38 1540.33 1424.38 1531.6 Q1424.38 1522.85 1427.43 1518.27 Q1430.51 1513.66 1436.32 1513.66 Z\" fill=\"#000000\" fill-rule=\"evenodd\" fill-opacity=\"1\" /><path clip-path=\"url(#clip050)\" d=\"M1456.48 1542.97 L1461.37 1542.97 L1461.37 1548.85 L1456.48 1548.85 L1456.48 1542.97 Z\" fill=\"#000000\" fill-rule=\"evenodd\" fill-opacity=\"1\" /><path clip-path=\"url(#clip050)\" d=\"M1471.69 1548.13 L1471.69 1543.87 Q1473.45 1544.7 1475.26 1545.14 Q1477.06 1545.58 1478.8 1545.58 Q1483.43 1545.58 1485.86 1542.48 Q1488.31 1539.36 1488.66 1533.01 Q1487.32 1535.01 1485.26 1536.07 Q1483.2 1537.13 1480.7 1537.13 Q1475.51 1537.13 1472.48 1534.01 Q1469.47 1530.86 1469.47 1525.42 Q1469.47 1520.1 1472.62 1516.88 Q1475.77 1513.66 1481 1513.66 Q1486.99 1513.66 1490.14 1518.27 Q1493.31 1522.85 1493.31 1531.6 Q1493.31 1539.77 1489.42 1544.66 Q1485.56 1549.52 1479.01 1549.52 Q1477.25 1549.52 1475.44 1549.17 Q1473.64 1548.82 1471.69 1548.13 M1481 1533.48 Q1484.14 1533.48 1485.97 1531.32 Q1487.83 1529.17 1487.83 1525.42 Q1487.83 1521.7 1485.97 1519.54 Q1484.14 1517.37 1481 1517.37 Q1477.85 1517.37 1476 1519.54 Q1474.17 1521.7 1474.17 1525.42 Q1474.17 1529.17 1476 1531.32 Q1477.85 1533.48 1481 1533.48 Z\" fill=\"#000000\" fill-rule=\"evenodd\" fill-opacity=\"1\" /><path clip-path=\"url(#clip050)\" d=\"M1512.29 1529.7 Q1509.14 1529.7 1507.29 1531.86 Q1505.46 1534.01 1505.46 1537.76 Q1505.46 1541.49 1507.29 1543.66 Q1509.14 1545.82 1512.29 1545.82 Q1515.44 1545.82 1517.27 1543.66 Q1519.12 1541.49 1519.12 1537.76 Q1519.12 1534.01 1517.27 1531.86 Q1515.44 1529.7 1512.29 1529.7 M1521.57 1515.05 L1521.57 1519.31 Q1519.82 1518.48 1518.01 1518.04 Q1516.23 1517.6 1514.47 1517.6 Q1509.84 1517.6 1507.39 1520.72 Q1504.95 1523.85 1504.61 1530.17 Q1505.97 1528.15 1508.03 1527.09 Q1510.09 1526 1512.57 1526 Q1517.78 1526 1520.79 1529.17 Q1523.82 1532.32 1523.82 1537.76 Q1523.82 1543.08 1520.67 1546.3 Q1517.52 1549.52 1512.29 1549.52 Q1506.3 1549.52 1503.13 1544.94 Q1499.95 1540.33 1499.95 1531.6 Q1499.95 1523.41 1503.84 1518.55 Q1507.73 1513.66 1514.28 1513.66 Q1516.04 1513.66 1517.83 1514.01 Q1519.63 1514.36 1521.57 1515.05 Z\" fill=\"#000000\" fill-rule=\"evenodd\" fill-opacity=\"1\" /><path clip-path=\"url(#clip050)\" d=\"M1875.78 1517.37 Q1872.17 1517.37 1870.34 1520.93 Q1868.53 1524.47 1868.53 1531.6 Q1868.53 1538.71 1870.34 1542.27 Q1872.17 1545.82 1875.78 1545.82 Q1879.41 1545.82 1881.22 1542.27 Q1883.05 1538.71 1883.05 1531.6 Q1883.05 1524.47 1881.22 1520.93 Q1879.41 1517.37 1875.78 1517.37 M1875.78 1513.66 Q1881.59 1513.66 1884.64 1518.27 Q1887.72 1522.85 1887.72 1531.6 Q1887.72 1540.33 1884.64 1544.94 Q1881.59 1549.52 1875.78 1549.52 Q1869.97 1549.52 1866.89 1544.94 Q1863.83 1540.33 1863.83 1531.6 Q1863.83 1522.85 1866.89 1518.27 Q1869.97 1513.66 1875.78 1513.66 Z\" fill=\"#000000\" fill-rule=\"evenodd\" fill-opacity=\"1\" /><path clip-path=\"url(#clip050)\" d=\"M1895.94 1542.97 L1900.82 1542.97 L1900.82 1548.85 L1895.94 1548.85 L1895.94 1542.97 Z\" fill=\"#000000\" fill-rule=\"evenodd\" fill-opacity=\"1\" /><path clip-path=\"url(#clip050)\" d=\"M1911.15 1548.13 L1911.15 1543.87 Q1912.91 1544.7 1914.71 1545.14 Q1916.52 1545.58 1918.25 1545.58 Q1922.88 1545.58 1925.31 1542.48 Q1927.77 1539.36 1928.11 1533.01 Q1926.77 1535.01 1924.71 1536.07 Q1922.65 1537.13 1920.15 1537.13 Q1914.97 1537.13 1911.93 1534.01 Q1908.92 1530.86 1908.92 1525.42 Q1908.92 1520.1 1912.07 1516.88 Q1915.22 1513.66 1920.45 1513.66 Q1926.45 1513.66 1929.6 1518.27 Q1932.77 1522.85 1932.77 1531.6 Q1932.77 1539.77 1928.88 1544.66 Q1925.01 1549.52 1918.46 1549.52 Q1916.7 1549.52 1914.9 1549.17 Q1913.09 1548.82 1911.15 1548.13 M1920.45 1533.48 Q1923.6 1533.48 1925.43 1531.32 Q1927.28 1529.17 1927.28 1525.42 Q1927.28 1521.7 1925.43 1519.54 Q1923.6 1517.37 1920.45 1517.37 Q1917.3 1517.37 1915.45 1519.54 Q1913.62 1521.7 1913.62 1525.42 Q1913.62 1529.17 1915.45 1531.32 Q1917.3 1533.48 1920.45 1533.48 Z\" fill=\"#000000\" fill-rule=\"evenodd\" fill-opacity=\"1\" /><path clip-path=\"url(#clip050)\" d=\"M1951.17 1532.44 Q1947.84 1532.44 1945.92 1534.22 Q1944.02 1536 1944.02 1539.13 Q1944.02 1542.25 1945.92 1544.03 Q1947.84 1545.82 1951.17 1545.82 Q1954.5 1545.82 1956.42 1544.03 Q1958.35 1542.23 1958.35 1539.13 Q1958.35 1536 1956.42 1534.22 Q1954.53 1532.44 1951.17 1532.44 M1946.49 1530.45 Q1943.48 1529.7 1941.8 1527.64 Q1940.13 1525.58 1940.13 1522.62 Q1940.13 1518.48 1943.07 1516.07 Q1946.03 1513.66 1951.17 1513.66 Q1956.33 1513.66 1959.27 1516.07 Q1962.21 1518.48 1962.21 1522.62 Q1962.21 1525.58 1960.52 1527.64 Q1958.86 1529.7 1955.87 1530.45 Q1959.25 1531.23 1961.12 1533.52 Q1963.02 1535.82 1963.02 1539.13 Q1963.02 1544.15 1959.94 1546.83 Q1956.89 1549.52 1951.17 1549.52 Q1945.45 1549.52 1942.37 1546.83 Q1939.32 1544.15 1939.32 1539.13 Q1939.32 1535.82 1941.22 1533.52 Q1943.11 1531.23 1946.49 1530.45 M1944.78 1523.06 Q1944.78 1525.75 1946.45 1527.25 Q1948.14 1528.76 1951.17 1528.76 Q1954.18 1528.76 1955.87 1527.25 Q1957.58 1525.75 1957.58 1523.06 Q1957.58 1520.38 1955.87 1518.87 Q1954.18 1517.37 1951.17 1517.37 Q1948.14 1517.37 1946.45 1518.87 Q1944.78 1520.38 1944.78 1523.06 Z\" fill=\"#000000\" fill-rule=\"evenodd\" fill-opacity=\"1\" /><polyline clip-path=\"url(#clip052)\" style=\"stroke:#000000; stroke-linecap:round; stroke-linejoin:round; stroke-width:2; stroke-opacity:0.1; fill:none\" points=\"156.112,1445.72 2352.76,1445.72 \"/>\n",
       "<polyline clip-path=\"url(#clip052)\" style=\"stroke:#000000; stroke-linecap:round; stroke-linejoin:round; stroke-width:2; stroke-opacity:0.1; fill:none\" points=\"156.112,1106.28 2352.76,1106.28 \"/>\n",
       "<polyline clip-path=\"url(#clip052)\" style=\"stroke:#000000; stroke-linecap:round; stroke-linejoin:round; stroke-width:2; stroke-opacity:0.1; fill:none\" points=\"156.112,766.846 2352.76,766.846 \"/>\n",
       "<polyline clip-path=\"url(#clip052)\" style=\"stroke:#000000; stroke-linecap:round; stroke-linejoin:round; stroke-width:2; stroke-opacity:0.1; fill:none\" points=\"156.112,427.411 2352.76,427.411 \"/>\n",
       "<polyline clip-path=\"url(#clip052)\" style=\"stroke:#000000; stroke-linecap:round; stroke-linejoin:round; stroke-width:2; stroke-opacity:0.1; fill:none\" points=\"156.112,87.9763 2352.76,87.9763 \"/>\n",
       "<polyline clip-path=\"url(#clip050)\" style=\"stroke:#000000; stroke-linecap:round; stroke-linejoin:round; stroke-width:4; stroke-opacity:1; fill:none\" points=\"156.112,1486.45 156.112,47.2441 \"/>\n",
       "<polyline clip-path=\"url(#clip050)\" style=\"stroke:#000000; stroke-linecap:round; stroke-linejoin:round; stroke-width:4; stroke-opacity:1; fill:none\" points=\"156.112,1445.72 175.01,1445.72 \"/>\n",
       "<polyline clip-path=\"url(#clip050)\" style=\"stroke:#000000; stroke-linecap:round; stroke-linejoin:round; stroke-width:4; stroke-opacity:1; fill:none\" points=\"156.112,1106.28 175.01,1106.28 \"/>\n",
       "<polyline clip-path=\"url(#clip050)\" style=\"stroke:#000000; stroke-linecap:round; stroke-linejoin:round; stroke-width:4; stroke-opacity:1; fill:none\" points=\"156.112,766.846 175.01,766.846 \"/>\n",
       "<polyline clip-path=\"url(#clip050)\" style=\"stroke:#000000; stroke-linecap:round; stroke-linejoin:round; stroke-width:4; stroke-opacity:1; fill:none\" points=\"156.112,427.411 175.01,427.411 \"/>\n",
       "<polyline clip-path=\"url(#clip050)\" style=\"stroke:#000000; stroke-linecap:round; stroke-linejoin:round; stroke-width:4; stroke-opacity:1; fill:none\" points=\"156.112,87.9763 175.01,87.9763 \"/>\n",
       "<path clip-path=\"url(#clip050)\" d=\"M62.9365 1431.51 Q59.3254 1431.51 57.4967 1435.08 Q55.6912 1438.62 55.6912 1445.75 Q55.6912 1452.86 57.4967 1456.42 Q59.3254 1459.96 62.9365 1459.96 Q66.5707 1459.96 68.3763 1456.42 Q70.205 1452.86 70.205 1445.75 Q70.205 1438.62 68.3763 1435.08 Q66.5707 1431.51 62.9365 1431.51 M62.9365 1427.81 Q68.7467 1427.81 71.8022 1432.42 Q74.8809 1437 74.8809 1445.75 Q74.8809 1454.48 71.8022 1459.08 Q68.7467 1463.67 62.9365 1463.67 Q57.1264 1463.67 54.0477 1459.08 Q50.9921 1454.48 50.9921 1445.75 Q50.9921 1437 54.0477 1432.42 Q57.1264 1427.81 62.9365 1427.81 Z\" fill=\"#000000\" fill-rule=\"evenodd\" fill-opacity=\"1\" /><path clip-path=\"url(#clip050)\" d=\"M83.0984 1457.12 L87.9827 1457.12 L87.9827 1463 L83.0984 1463 L83.0984 1457.12 Z\" fill=\"#000000\" fill-rule=\"evenodd\" fill-opacity=\"1\" /><path clip-path=\"url(#clip050)\" d=\"M108.168 1431.51 Q104.557 1431.51 102.728 1435.08 Q100.922 1438.62 100.922 1445.75 Q100.922 1452.86 102.728 1456.42 Q104.557 1459.96 108.168 1459.96 Q111.802 1459.96 113.608 1456.42 Q115.436 1452.86 115.436 1445.75 Q115.436 1438.62 113.608 1435.08 Q111.802 1431.51 108.168 1431.51 M108.168 1427.81 Q113.978 1427.81 117.033 1432.42 Q120.112 1437 120.112 1445.75 Q120.112 1454.48 117.033 1459.08 Q113.978 1463.67 108.168 1463.67 Q102.358 1463.67 99.2789 1459.08 Q96.2234 1454.48 96.2234 1445.75 Q96.2234 1437 99.2789 1432.42 Q102.358 1427.81 108.168 1427.81 Z\" fill=\"#000000\" fill-rule=\"evenodd\" fill-opacity=\"1\" /><path clip-path=\"url(#clip050)\" d=\"M63.9319 1092.08 Q60.3208 1092.08 58.4921 1095.64 Q56.6865 1099.19 56.6865 1106.32 Q56.6865 1113.42 58.4921 1116.99 Q60.3208 1120.53 63.9319 1120.53 Q67.5661 1120.53 69.3717 1116.99 Q71.2004 1113.42 71.2004 1106.32 Q71.2004 1099.19 69.3717 1095.64 Q67.5661 1092.08 63.9319 1092.08 M63.9319 1088.38 Q69.742 1088.38 72.7976 1092.98 Q75.8763 1097.57 75.8763 1106.32 Q75.8763 1115.04 72.7976 1119.65 Q69.742 1124.23 63.9319 1124.23 Q58.1217 1124.23 55.043 1119.65 Q51.9875 1115.04 51.9875 1106.32 Q51.9875 1097.57 55.043 1092.98 Q58.1217 1088.38 63.9319 1088.38 Z\" fill=\"#000000\" fill-rule=\"evenodd\" fill-opacity=\"1\" /><path clip-path=\"url(#clip050)\" d=\"M84.0938 1117.68 L88.978 1117.68 L88.978 1123.56 L84.0938 1123.56 L84.0938 1117.68 Z\" fill=\"#000000\" fill-rule=\"evenodd\" fill-opacity=\"1\" /><path clip-path=\"url(#clip050)\" d=\"M99.2095 1089 L117.566 1089 L117.566 1092.94 L103.492 1092.94 L103.492 1101.41 Q104.51 1101.06 105.529 1100.9 Q106.547 1100.71 107.566 1100.71 Q113.353 1100.71 116.733 1103.89 Q120.112 1107.06 120.112 1112.47 Q120.112 1118.05 116.64 1121.15 Q113.168 1124.23 106.848 1124.23 Q104.672 1124.23 102.404 1123.86 Q100.159 1123.49 97.7511 1122.75 L97.7511 1118.05 Q99.8345 1119.19 102.057 1119.74 Q104.279 1120.3 106.756 1120.3 Q110.76 1120.3 113.098 1118.19 Q115.436 1116.08 115.436 1112.47 Q115.436 1108.86 113.098 1106.76 Q110.76 1104.65 106.756 1104.65 Q104.881 1104.65 103.006 1105.07 Q101.154 1105.48 99.2095 1106.36 L99.2095 1089 Z\" fill=\"#000000\" fill-rule=\"evenodd\" fill-opacity=\"1\" /><path clip-path=\"url(#clip050)\" d=\"M53.7467 780.191 L61.3856 780.191 L61.3856 753.825 L53.0754 755.492 L53.0754 751.233 L61.3393 749.566 L66.0152 749.566 L66.0152 780.191 L73.654 780.191 L73.654 784.126 L53.7467 784.126 L53.7467 780.191 Z\" fill=\"#000000\" fill-rule=\"evenodd\" fill-opacity=\"1\" /><path clip-path=\"url(#clip050)\" d=\"M83.0984 778.246 L87.9827 778.246 L87.9827 784.126 L83.0984 784.126 L83.0984 778.246 Z\" fill=\"#000000\" fill-rule=\"evenodd\" fill-opacity=\"1\" /><path clip-path=\"url(#clip050)\" d=\"M108.168 752.645 Q104.557 752.645 102.728 756.209 Q100.922 759.751 100.922 766.881 Q100.922 773.987 102.728 777.552 Q104.557 781.094 108.168 781.094 Q111.802 781.094 113.608 777.552 Q115.436 773.987 115.436 766.881 Q115.436 759.751 113.608 756.209 Q111.802 752.645 108.168 752.645 M108.168 748.941 Q113.978 748.941 117.033 753.547 Q120.112 758.131 120.112 766.881 Q120.112 775.608 117.033 780.214 Q113.978 784.797 108.168 784.797 Q102.358 784.797 99.2789 780.214 Q96.2234 775.608 96.2234 766.881 Q96.2234 758.131 99.2789 753.547 Q102.358 748.941 108.168 748.941 Z\" fill=\"#000000\" fill-rule=\"evenodd\" fill-opacity=\"1\" /><path clip-path=\"url(#clip050)\" d=\"M54.7421 440.756 L62.381 440.756 L62.381 414.39 L54.0708 416.057 L54.0708 411.798 L62.3347 410.131 L67.0106 410.131 L67.0106 440.756 L74.6494 440.756 L74.6494 444.691 L54.7421 444.691 L54.7421 440.756 Z\" fill=\"#000000\" fill-rule=\"evenodd\" fill-opacity=\"1\" /><path clip-path=\"url(#clip050)\" d=\"M84.0938 438.812 L88.978 438.812 L88.978 444.691 L84.0938 444.691 L84.0938 438.812 Z\" fill=\"#000000\" fill-rule=\"evenodd\" fill-opacity=\"1\" /><path clip-path=\"url(#clip050)\" d=\"M99.2095 410.131 L117.566 410.131 L117.566 414.066 L103.492 414.066 L103.492 422.538 Q104.51 422.191 105.529 422.029 Q106.547 421.844 107.566 421.844 Q113.353 421.844 116.733 425.015 Q120.112 428.187 120.112 433.603 Q120.112 439.182 116.64 442.284 Q113.168 445.362 106.848 445.362 Q104.672 445.362 102.404 444.992 Q100.159 444.622 97.7511 443.881 L97.7511 439.182 Q99.8345 440.316 102.057 440.872 Q104.279 441.427 106.756 441.427 Q110.76 441.427 113.098 439.321 Q115.436 437.214 115.436 433.603 Q115.436 429.992 113.098 427.886 Q110.76 425.779 106.756 425.779 Q104.881 425.779 103.006 426.196 Q101.154 426.613 99.2095 427.492 L99.2095 410.131 Z\" fill=\"#000000\" fill-rule=\"evenodd\" fill-opacity=\"1\" /><path clip-path=\"url(#clip050)\" d=\"M56.9643 101.321 L73.2837 101.321 L73.2837 105.256 L51.3393 105.256 L51.3393 101.321 Q54.0014 98.5665 58.5847 93.9369 Q63.1911 89.2841 64.3717 87.9416 Q66.617 85.4184 67.4967 83.6823 Q68.3994 81.9231 68.3994 80.2333 Q68.3994 77.4786 66.455 75.7425 Q64.5337 74.0064 61.4319 74.0064 Q59.2328 74.0064 56.7791 74.7703 Q54.3486 75.5342 51.5708 77.0851 L51.5708 72.3629 Q54.3949 71.2287 56.8486 70.65 Q59.3023 70.0713 61.3393 70.0713 Q66.7096 70.0713 69.9041 72.7565 Q73.0985 75.4416 73.0985 79.9323 Q73.0985 82.062 72.2883 83.9832 Q71.5013 85.8814 69.3948 88.474 Q68.8161 89.1453 65.7143 92.3628 Q62.6124 95.5573 56.9643 101.321 Z\" fill=\"#000000\" fill-rule=\"evenodd\" fill-opacity=\"1\" /><path clip-path=\"url(#clip050)\" d=\"M83.0984 99.3767 L87.9827 99.3767 L87.9827 105.256 L83.0984 105.256 L83.0984 99.3767 Z\" fill=\"#000000\" fill-rule=\"evenodd\" fill-opacity=\"1\" /><path clip-path=\"url(#clip050)\" d=\"M108.168 73.775 Q104.557 73.775 102.728 77.3398 Q100.922 80.8814 100.922 88.011 Q100.922 95.1174 102.728 98.6822 Q104.557 102.224 108.168 102.224 Q111.802 102.224 113.608 98.6822 Q115.436 95.1174 115.436 88.011 Q115.436 80.8814 113.608 77.3398 Q111.802 73.775 108.168 73.775 M108.168 70.0713 Q113.978 70.0713 117.033 74.6777 Q120.112 79.261 120.112 88.011 Q120.112 96.7378 117.033 101.344 Q113.978 105.928 108.168 105.928 Q102.358 105.928 99.2789 101.344 Q96.2234 96.7378 96.2234 88.011 Q96.2234 79.261 99.2789 74.6777 Q102.358 70.0713 108.168 70.0713 Z\" fill=\"#000000\" fill-rule=\"evenodd\" fill-opacity=\"1\" /><circle clip-path=\"url(#clip052)\" cx=\"255.148\" cy=\"217.629\" r=\"14.4\" fill=\"#009af9\" fill-rule=\"evenodd\" fill-opacity=\"1\" stroke=\"#000000\" stroke-opacity=\"1\" stroke-width=\"3.2\"/>\n",
       "<circle clip-path=\"url(#clip052)\" cx=\"453.544\" cy=\"205.366\" r=\"14.4\" fill=\"#009af9\" fill-rule=\"evenodd\" fill-opacity=\"1\" stroke=\"#000000\" stroke-opacity=\"1\" stroke-width=\"3.2\"/>\n",
       "<circle clip-path=\"url(#clip052)\" cx=\"642.975\" cy=\"193.657\" r=\"14.4\" fill=\"#009af9\" fill-rule=\"evenodd\" fill-opacity=\"1\" stroke=\"#000000\" stroke-opacity=\"1\" stroke-width=\"3.2\"/>\n",
       "<circle clip-path=\"url(#clip052)\" cx=\"823.255\" cy=\"182.514\" r=\"14.4\" fill=\"#009af9\" fill-rule=\"evenodd\" fill-opacity=\"1\" stroke=\"#000000\" stroke-opacity=\"1\" stroke-width=\"3.2\"/>\n",
       "<circle clip-path=\"url(#clip052)\" cx=\"994.205\" cy=\"171.948\" r=\"14.4\" fill=\"#009af9\" fill-rule=\"evenodd\" fill-opacity=\"1\" stroke=\"#000000\" stroke-opacity=\"1\" stroke-width=\"3.2\"/>\n",
       "<circle clip-path=\"url(#clip052)\" cx=\"1155.66\" cy=\"161.969\" r=\"14.4\" fill=\"#009af9\" fill-rule=\"evenodd\" fill-opacity=\"1\" stroke=\"#000000\" stroke-opacity=\"1\" stroke-width=\"3.2\"/>\n",
       "<circle clip-path=\"url(#clip052)\" cx=\"1307.45\" cy=\"152.586\" r=\"14.4\" fill=\"#009af9\" fill-rule=\"evenodd\" fill-opacity=\"1\" stroke=\"#000000\" stroke-opacity=\"1\" stroke-width=\"3.2\"/>\n",
       "<circle clip-path=\"url(#clip052)\" cx=\"1449.44\" cy=\"143.81\" r=\"14.4\" fill=\"#009af9\" fill-rule=\"evenodd\" fill-opacity=\"1\" stroke=\"#000000\" stroke-opacity=\"1\" stroke-width=\"3.2\"/>\n",
       "<circle clip-path=\"url(#clip052)\" cx=\"1581.48\" cy=\"135.649\" r=\"14.4\" fill=\"#009af9\" fill-rule=\"evenodd\" fill-opacity=\"1\" stroke=\"#000000\" stroke-opacity=\"1\" stroke-width=\"3.2\"/>\n",
       "<circle clip-path=\"url(#clip052)\" cx=\"1703.44\" cy=\"128.111\" r=\"14.4\" fill=\"#009af9\" fill-rule=\"evenodd\" fill-opacity=\"1\" stroke=\"#000000\" stroke-opacity=\"1\" stroke-width=\"3.2\"/>\n",
       "<circle clip-path=\"url(#clip052)\" cx=\"1815.2\" cy=\"121.203\" r=\"14.4\" fill=\"#009af9\" fill-rule=\"evenodd\" fill-opacity=\"1\" stroke=\"#000000\" stroke-opacity=\"1\" stroke-width=\"3.2\"/>\n",
       "<circle clip-path=\"url(#clip052)\" cx=\"1916.65\" cy=\"114.932\" r=\"14.4\" fill=\"#009af9\" fill-rule=\"evenodd\" fill-opacity=\"1\" stroke=\"#000000\" stroke-opacity=\"1\" stroke-width=\"3.2\"/>\n",
       "<circle clip-path=\"url(#clip052)\" cx=\"2007.7\" cy=\"109.304\" r=\"14.4\" fill=\"#009af9\" fill-rule=\"evenodd\" fill-opacity=\"1\" stroke=\"#000000\" stroke-opacity=\"1\" stroke-width=\"3.2\"/>\n",
       "<circle clip-path=\"url(#clip052)\" cx=\"2088.24\" cy=\"104.326\" r=\"14.4\" fill=\"#009af9\" fill-rule=\"evenodd\" fill-opacity=\"1\" stroke=\"#000000\" stroke-opacity=\"1\" stroke-width=\"3.2\"/>\n",
       "<circle clip-path=\"url(#clip052)\" cx=\"2158.21\" cy=\"100.001\" r=\"14.4\" fill=\"#009af9\" fill-rule=\"evenodd\" fill-opacity=\"1\" stroke=\"#000000\" stroke-opacity=\"1\" stroke-width=\"3.2\"/>\n",
       "<circle clip-path=\"url(#clip052)\" cx=\"2217.53\" cy=\"96.3343\" r=\"14.4\" fill=\"#009af9\" fill-rule=\"evenodd\" fill-opacity=\"1\" stroke=\"#000000\" stroke-opacity=\"1\" stroke-width=\"3.2\"/>\n",
       "<circle clip-path=\"url(#clip052)\" cx=\"2266.15\" cy=\"93.3294\" r=\"14.4\" fill=\"#009af9\" fill-rule=\"evenodd\" fill-opacity=\"1\" stroke=\"#000000\" stroke-opacity=\"1\" stroke-width=\"3.2\"/>\n",
       "<circle clip-path=\"url(#clip052)\" cx=\"2304.01\" cy=\"90.9891\" r=\"14.4\" fill=\"#009af9\" fill-rule=\"evenodd\" fill-opacity=\"1\" stroke=\"#000000\" stroke-opacity=\"1\" stroke-width=\"3.2\"/>\n",
       "<circle clip-path=\"url(#clip052)\" cx=\"2331.08\" cy=\"89.3159\" r=\"14.4\" fill=\"#009af9\" fill-rule=\"evenodd\" fill-opacity=\"1\" stroke=\"#000000\" stroke-opacity=\"1\" stroke-width=\"3.2\"/>\n",
       "<circle clip-path=\"url(#clip052)\" cx=\"2347.34\" cy=\"88.3113\" r=\"14.4\" fill=\"#009af9\" fill-rule=\"evenodd\" fill-opacity=\"1\" stroke=\"#000000\" stroke-opacity=\"1\" stroke-width=\"3.2\"/>\n",
       "<circle clip-path=\"url(#clip052)\" cx=\"2352.76\" cy=\"87.9763\" r=\"14.4\" fill=\"#009af9\" fill-rule=\"evenodd\" fill-opacity=\"1\" stroke=\"#000000\" stroke-opacity=\"1\" stroke-width=\"3.2\"/>\n",
       "<path clip-path=\"url(#clip050)\" d=\"M2007.44 1438.47 L2279.53 1438.47 L2279.53 1334.79 L2007.44 1334.79  Z\" fill=\"#ffffff\" fill-rule=\"evenodd\" fill-opacity=\"1\"/>\n",
       "<polyline clip-path=\"url(#clip050)\" style=\"stroke:#000000; stroke-linecap:round; stroke-linejoin:round; stroke-width:4; stroke-opacity:1; fill:none\" points=\"2007.44,1438.47 2279.53,1438.47 2279.53,1334.79 2007.44,1334.79 2007.44,1438.47 \"/>\n",
       "<circle clip-path=\"url(#clip050)\" cx=\"2105.07\" cy=\"1386.63\" r=\"23.04\" fill=\"#009af9\" fill-rule=\"evenodd\" fill-opacity=\"1\" stroke=\"#000000\" stroke-opacity=\"1\" stroke-width=\"5.12\"/>\n",
       "<path clip-path=\"url(#clip050)\" d=\"M2216.54 1406.32 Q2214.73 1410.95 2213.02 1412.36 Q2211.31 1413.78 2208.44 1413.78 L2205.03 1413.78 L2205.03 1410.21 L2207.53 1410.21 Q2209.29 1410.21 2210.27 1409.38 Q2211.24 1408.54 2212.42 1405.44 L2213.18 1403.5 L2202.7 1377.99 L2207.21 1377.99 L2215.31 1398.27 L2223.41 1377.99 L2227.93 1377.99 L2216.54 1406.32 Z\" fill=\"#000000\" fill-rule=\"evenodd\" fill-opacity=\"1\" /><path clip-path=\"url(#clip050)\" d=\"M2235.22 1399.98 L2242.86 1399.98 L2242.86 1373.61 L2234.55 1375.28 L2234.55 1371.02 L2242.81 1369.35 L2247.49 1369.35 L2247.49 1399.98 L2255.13 1399.98 L2255.13 1403.91 L2235.22 1403.91 L2235.22 1399.98 Z\" fill=\"#000000\" fill-rule=\"evenodd\" fill-opacity=\"1\" /></svg>\n"
      ]
     },
     "execution_count": 272,
     "metadata": {},
     "output_type": "execute_result"
    }
   ],
   "source": [
    "\n",
    "#plot(x,y)\n",
    "\n",
    "scatter(xnew[4:L-3],auxnew[4:L-3],xlim=[0.9,1])\n",
    "\n",
    "#plot(x[4:L-3],aux[4:L-3])"
   ]
  },
  {
   "cell_type": "code",
   "execution_count": 164,
   "id": "d08f8450",
   "metadata": {
    "papermill": {
     "duration": null,
     "end_time": null,
     "exception": null,
     "start_time": null,
     "status": "pending"
    },
    "tags": []
   },
   "outputs": [
    {
     "data": {
      "text/plain": [
       "2.0000000000015"
      ]
     },
     "execution_count": 164,
     "metadata": {},
     "output_type": "execute_result"
    }
   ],
   "source": [
    "auxnew[L-3]"
   ]
  },
  {
   "cell_type": "code",
   "execution_count": null,
   "id": "3fd2297c",
   "metadata": {
    "papermill": {
     "duration": null,
     "end_time": null,
     "exception": null,
     "start_time": null,
     "status": "pending"
    },
    "tags": []
   },
   "outputs": [],
   "source": []
  },
  {
   "cell_type": "code",
   "execution_count": null,
   "id": "4677437a",
   "metadata": {
    "papermill": {
     "duration": null,
     "end_time": null,
     "exception": null,
     "start_time": null,
     "status": "pending"
    },
    "tags": []
   },
   "outputs": [],
   "source": []
  },
  {
   "cell_type": "code",
   "execution_count": null,
   "id": "805c0934",
   "metadata": {},
   "outputs": [],
   "source": []
  }
 ],
 "metadata": {
  "@webio": {
   "lastCommId": null,
   "lastKernelId": null
  },
  "kernelspec": {
   "display_name": "Julia 1.8.0",
   "language": "julia",
   "name": "julia-1.8"
  },
  "language_info": {
   "file_extension": ".jl",
   "mimetype": "application/julia",
   "name": "julia",
   "version": "1.8.0"
  },
  "papermill": {
   "default_parameters": {},
   "duration": 2464.038479,
   "end_time": "2023-06-26T00:23:52.938089",
   "environment_variables": {},
   "exception": true,
   "input_path": "Evolution_ScalarField.ipynb",
   "output_path": "Evolution_ScalarField.ipynb",
   "parameters": {
    "A": 0.01,
    "m": 1
   },
   "start_time": "2023-06-25T23:42:48.899610",
   "version": "2.4.0"
  }
 },
 "nbformat": 4,
 "nbformat_minor": 5
}
