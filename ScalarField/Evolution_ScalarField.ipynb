{
 "cells": [
  {
   "cell_type": "markdown",
   "id": "d88601a8",
   "metadata": {
    "papermill": {
     "duration": 0.010813,
     "end_time": "2023-03-28T18:06:09.878411",
     "exception": false,
     "start_time": "2023-03-28T18:06:09.867598",
     "status": "completed"
    },
    "tags": []
   },
   "source": [
    "# Evolution of Einstein's equations"
   ]
  },
  {
   "cell_type": "markdown",
   "id": "03c607c7",
   "metadata": {
    "papermill": {
     "duration": 0.006777,
     "end_time": "2023-03-28T18:06:09.893152",
     "exception": false,
     "start_time": "2023-03-28T18:06:09.886375",
     "status": "completed"
    },
    "tags": []
   },
   "source": [
    "# Initial data , setting length of the domain and discretization\n"
   ]
  },
  {
   "cell_type": "code",
   "execution_count": 259,
   "id": "f362b590",
   "metadata": {
    "execution": {
     "iopub.execute_input": "2023-03-28T19:06:10.907000Z",
     "iopub.status.busy": "2023-03-28T19:06:09.907000Z",
     "iopub.status.idle": "2023-03-28T19:06:12.147000Z",
     "shell.execute_reply": "2023-03-28T19:06:12.110000Z"
    },
    "papermill": {
     "duration": 2.251282,
     "end_time": "2023-03-28T18:06:12.151193",
     "exception": false,
     "start_time": "2023-03-28T18:06:09.899911",
     "status": "completed"
    },
    "tags": [
     "injected-parameters"
    ]
   },
   "outputs": [
    {
     "data": {
      "text/plain": [
       "1"
      ]
     },
     "execution_count": 259,
     "metadata": {},
     "output_type": "execute_result"
    }
   ],
   "source": [
    "# Parameters\n",
    "m = 1\n",
    "A = 0.049375#0.07#0.05#0.1124921875#0.125\n",
    "run = 1"
   ]
  },
  {
   "cell_type": "code",
   "execution_count": 260,
   "id": "80a113e0",
   "metadata": {},
   "outputs": [
    {
     "name": "stdout",
     "output_type": "stream",
     "text": [
      "1.0"
     ]
    }
   ],
   "source": [
    "res=m;\n",
    "N=2.0^m*500#1000.0#2.0^m*1000.0;#2.0^m*500.0;#N=2.0^m*500.0#2.0^m*100.0;\n",
    "Xf=1.0;\n",
    "\n",
    "dx=Xf/N;\n",
    "dt=round(dx,digits=10);\n",
    "Nt=2.0^m*500.0#100.0*2^m*10\n",
    "Tf=Nt*dt; #final time\n",
    "print(Tf)"
   ]
  },
  {
   "cell_type": "code",
   "execution_count": 261,
   "id": "4f752d54",
   "metadata": {
    "execution": {
     "iopub.execute_input": "2023-03-28T19:06:12.356000Z",
     "iopub.status.busy": "2023-03-28T19:06:12.356000Z",
     "iopub.status.idle": "2023-03-28T19:06:12.364000Z",
     "shell.execute_reply": "2023-03-28T19:06:12.364000Z"
    },
    "papermill": {
     "duration": 0.020815,
     "end_time": "2023-03-28T18:06:12.368761",
     "exception": false,
     "start_time": "2023-03-28T18:06:12.347946",
     "status": "completed"
    },
    "tags": []
   },
   "outputs": [
    {
     "name": "stdout",
     "output_type": "stream",
     "text": [
      "1000.0"
     ]
    }
   ],
   "source": [
    "print(N)"
   ]
  },
  {
   "cell_type": "code",
   "execution_count": 262,
   "id": "ad48576a",
   "metadata": {
    "execution": {
     "iopub.execute_input": "2023-03-28T19:06:12.386000Z",
     "iopub.status.busy": "2023-03-28T19:06:12.385000Z",
     "iopub.status.idle": "2023-03-28T19:06:12.398000Z",
     "shell.execute_reply": "2023-03-28T19:06:12.398000Z"
    },
    "papermill": {
     "duration": 0.024143,
     "end_time": "2023-03-28T18:06:12.402660",
     "exception": false,
     "start_time": "2023-03-28T18:06:12.378517",
     "status": "completed"
    },
    "tags": []
   },
   "outputs": [
    {
     "name": "stdout",
     "output_type": "stream",
     "text": [
      "dx =0.001\n",
      "dt =0.001\n",
      "dx/dt =1.0\n"
     ]
    }
   ],
   "source": [
    "println(\"dx =\", dx)\n",
    "println(\"dt =\", dt)\n",
    "println(\"dx/dt =\", dx/dt)"
   ]
  },
  {
   "cell_type": "code",
   "execution_count": 263,
   "id": "78fb78a5",
   "metadata": {
    "execution": {
     "iopub.execute_input": "2023-03-28T19:06:12.419000Z",
     "iopub.status.busy": "2023-03-28T19:06:12.419000Z",
     "iopub.status.idle": "2023-03-28T19:06:13.308000Z",
     "shell.execute_reply": "2023-03-28T19:06:13.308000Z"
    },
    "papermill": {
     "duration": 0.90283,
     "end_time": "2023-03-28T18:06:13.314381",
     "exception": false,
     "start_time": "2023-03-28T18:06:12.411551",
     "status": "completed"
    },
    "tags": []
   },
   "outputs": [
    {
     "data": {
      "text/plain": [
       "\"/home/rita13santos/Desktop/MSc Thesis/Git/ScalarField/DATA\""
      ]
     },
     "execution_count": 263,
     "metadata": {},
     "output_type": "execute_result"
    }
   ],
   "source": [
    "global dir = \"/home/rita13santos/Desktop/MSc Thesis/Git/ScalarField/DATA\"\n",
    "#global dir = \"/home/rita13santos/Desktop/MSc Thesis/Git/ScalarField/DATA\""
   ]
  },
  {
   "cell_type": "markdown",
   "id": "e2dd4335",
   "metadata": {
    "papermill": {
     "duration": 0.007006,
     "end_time": "2023-03-28T18:06:13.351329",
     "exception": false,
     "start_time": "2023-03-28T18:06:13.344323",
     "status": "completed"
    },
    "tags": []
   },
   "source": [
    "# Grid"
   ]
  },
  {
   "cell_type": "code",
   "execution_count": 264,
   "id": "de24fea3",
   "metadata": {
    "execution": {
     "iopub.execute_input": "2023-03-28T19:06:13.366000Z",
     "iopub.status.busy": "2023-03-28T19:06:13.366000Z",
     "iopub.status.idle": "2023-03-28T19:06:13.571000Z",
     "shell.execute_reply": "2023-03-28T19:06:13.571000Z"
    },
    "papermill": {
     "duration": 0.216104,
     "end_time": "2023-03-28T18:06:13.574666",
     "exception": false,
     "start_time": "2023-03-28T18:06:13.358562",
     "status": "completed"
    },
    "tags": []
   },
   "outputs": [],
   "source": [
    "ori=0.0;\n",
    "initX1 = nothing\n",
    "initX1=range(ori, stop=Xf, step=dx);"
   ]
  },
  {
   "cell_type": "code",
   "execution_count": 265,
   "id": "7376d222",
   "metadata": {
    "execution": {
     "iopub.execute_input": "2023-03-28T19:06:13.594000Z",
     "iopub.status.busy": "2023-03-28T19:06:13.594000Z",
     "iopub.status.idle": "2023-03-28T19:06:13.614000Z",
     "shell.execute_reply": "2023-03-28T19:06:13.613000Z"
    },
    "papermill": {
     "duration": 0.032546,
     "end_time": "2023-03-28T18:06:13.618614",
     "exception": false,
     "start_time": "2023-03-28T18:06:13.586068",
     "status": "completed"
    },
    "scrolled": true,
    "tags": []
   },
   "outputs": [
    {
     "name": "stdout",
     "output_type": "stream",
     "text": [
      "step size is  0.001\n",
      "the time step is 0.001\n"
     ]
    }
   ],
   "source": [
    "initX = range(round(ori-3.0*dx,digits=10), stop=Xf+3.0*dx, step=dx)\n",
    "\n",
    "L=length(initX);\n",
    "println(\"step size is  \", dx)\n",
    "\n",
    "#T=range(dt,stop=Tf,step=dt)\n",
    "#T=range(0,stop=Tf,step=dt)\n",
    "println(\"the time step is \", dt)"
   ]
  },
  {
   "cell_type": "code",
   "execution_count": 266,
   "id": "bc5288f8",
   "metadata": {
    "execution": {
     "iopub.execute_input": "2023-03-28T19:06:13.636000Z",
     "iopub.status.busy": "2023-03-28T19:06:13.636000Z",
     "iopub.status.idle": "2023-03-28T19:06:14.762000Z",
     "shell.execute_reply": "2023-03-28T19:06:14.762000Z"
    },
    "papermill": {
     "duration": 1.137394,
     "end_time": "2023-03-28T18:06:14.765909",
     "exception": false,
     "start_time": "2023-03-28T18:06:13.628515",
     "status": "completed"
    },
    "tags": []
   },
   "outputs": [],
   "source": [
    "include(\"./ScalarField.jl\");"
   ]
  },
  {
   "cell_type": "markdown",
   "id": "80ab1480",
   "metadata": {
    "papermill": {
     "duration": 0.007525,
     "end_time": "2023-03-28T18:06:14.783937",
     "exception": false,
     "start_time": "2023-03-28T18:06:14.776412",
     "status": "completed"
    },
    "tags": []
   },
   "source": [
    "# Initial data of m β Ψ and Ψ,x"
   ]
  },
  {
   "cell_type": "code",
   "execution_count": 267,
   "id": "d0af654c",
   "metadata": {
    "execution": {
     "iopub.execute_input": "2023-03-28T19:06:14.799000Z",
     "iopub.status.busy": "2023-03-28T19:06:14.799000Z",
     "iopub.status.idle": "2023-03-28T19:06:22.269000Z",
     "shell.execute_reply": "2023-03-28T19:06:22.269000Z"
    },
    "papermill": {
     "duration": 7.48258,
     "end_time": "2023-03-28T18:06:22.273970",
     "exception": false,
     "start_time": "2023-03-28T18:06:14.791390",
     "status": "completed"
    },
    "tags": []
   },
   "outputs": [
    {
     "name": "stderr",
     "output_type": "stream",
     "text": [
      "\u001b[36m\u001b[1m[ \u001b[22m\u001b[39m\u001b[36m\u001b[1mInfo: \u001b[22m\u001b[39m started timer at: 2023-04-12T12:49:33.664\n",
      "\u001b[36m\u001b[1m[ \u001b[22m\u001b[39m\u001b[36m\u001b[1mInfo: \u001b[22m\u001b[39m         0.229759642s: 229 milliseconds\n"
     ]
    }
   ],
   "source": [
    "using PyCall   \n",
    "using Interpolations\n",
    "using TickTock\n",
    "using Dierckx\n",
    "\n",
    "tick()\n",
    "scipy = pyimport(\"scipy\")\n",
    "scipyinterpolate = pyimport(\"scipy.interpolate\")\n",
    "\n",
    "\n",
    "####\n",
    "\n",
    "initm=zeros(L);\n",
    "initbeta=zeros(L);\n",
    "initpsi=zeros(L);\n",
    "initderpsi=zeros(L);\n",
    "\n",
    "state_array=[initm initbeta initpsi initderpsi initX];\n",
    "\n",
    "#PSI\n",
    "r0=0.7#0.3\n",
    "sigma=0.3\n",
    "initpsi[4:L-3] = init_gaussian(initX1,r0,sigma,A)\n",
    "\n",
    "state_array[:,3] = initpsi\n",
    "state_array = ghost(state_array)\n",
    "\n",
    "#PSI,X FROM PSI\n",
    "initderpsi[4:L-3] = init_gaussian_der(initX1,r0,sigma,A)\n",
    "state_array[:,4] = initderpsi\n",
    "state_array=ghost(state_array)\n",
    "\n",
    "####\n",
    "\n",
    "\n",
    "psi_func = Spline1D(initX[4:L-3], state_array[4:L-3,3],  k=4)\n",
    "derpsi_func = Spline1D(initX[4:L-3], initderpsi[4:L-3],  k=4)#new\n",
    "\n",
    "funcs = [psi_func, derpsi_func];\n",
    "\n",
    "tock()"
   ]
  },
  {
   "cell_type": "code",
   "execution_count": 268,
   "id": "384597fa",
   "metadata": {
    "execution": {
     "iopub.execute_input": "2023-03-28T19:06:22.817000Z",
     "iopub.status.busy": "2023-03-28T19:06:22.325000Z",
     "iopub.status.idle": "2023-03-28T19:06:25.288000Z",
     "shell.execute_reply": "2023-03-28T19:06:25.288000Z"
    },
    "papermill": {
     "duration": 2.998847,
     "end_time": "2023-03-28T18:06:25.292099",
     "exception": false,
     "start_time": "2023-03-28T18:06:22.293252",
     "status": "completed"
    },
    "tags": []
   },
   "outputs": [],
   "source": [
    "#BETA\n",
    "beta0=0\n",
    "initbeta[4:L-3]=rk4wrapper(SFconstraint_beta,beta0,initX1,0,funcs)\n",
    "state_array[:,2]=initbeta;\n",
    "state_array=ghost(state_array);\n",
    "\n",
    "\n",
    "#M\n",
    "m0=0\n",
    "initm[4:L-3]=rk4wrapper(SFconstraint_m,m0,initX1,0,funcs)\n",
    "state_array[:,1]=initm;\n",
    "state_array = ghost(state_array);"
   ]
  },
  {
   "cell_type": "code",
   "execution_count": 269,
   "id": "48f10a76",
   "metadata": {
    "execution": {
     "iopub.execute_input": "2023-03-28T19:06:25.312000Z",
     "iopub.status.busy": "2023-03-28T19:06:25.312000Z",
     "iopub.status.idle": "2023-03-28T19:06:25.348000Z",
     "shell.execute_reply": "2023-03-28T19:06:25.347000Z"
    },
    "papermill": {
     "duration": 0.048534,
     "end_time": "2023-03-28T18:06:25.352888",
     "exception": false,
     "start_time": "2023-03-28T18:06:25.304354",
     "status": "completed"
    },
    "tags": []
   },
   "outputs": [
    {
     "data": {
      "text/plain": [
       "\"using Plots #showing initial data and the initial status of the horizon finder\\nplot(initX, state_array[:,1:4], xaxis=\\\"x\\\",title=\\\"Initial Data\\\", labels=[\\\"m\\\" \\\"beta\\\" \\\"psi\\\" \\\"psi,x\\\"])\""
      ]
     },
     "execution_count": 269,
     "metadata": {},
     "output_type": "execute_result"
    }
   ],
   "source": [
    "\"\"\"using Plots #showing initial data and the initial status of the horizon finder\n",
    "plot(initX, state_array[:,1:4], xaxis=\"x\",title=\"Initial Data\", labels=[\"m\" \"beta\" \"psi\" \"psi,x\"])\"\"\""
   ]
  },
  {
   "cell_type": "markdown",
   "id": "9b444ece",
   "metadata": {
    "papermill": {
     "duration": 0.009161,
     "end_time": "2023-03-28T18:06:25.373170",
     "exception": false,
     "start_time": "2023-03-28T18:06:25.364009",
     "status": "completed"
    },
    "tags": []
   },
   "source": [
    "# Defining the initial state array for the evolution m β Ψ and Ψ,x"
   ]
  },
  {
   "cell_type": "code",
   "execution_count": 270,
   "id": "9902ffab",
   "metadata": {
    "execution": {
     "iopub.execute_input": "2023-03-28T19:06:25.389000Z",
     "iopub.status.busy": "2023-03-28T19:06:25.388000Z",
     "iopub.status.idle": "2023-03-28T19:06:32.710000Z",
     "shell.execute_reply": "2023-03-28T19:06:32.710000Z"
    },
    "papermill": {
     "duration": 7.335269,
     "end_time": "2023-03-28T18:06:32.715990",
     "exception": false,
     "start_time": "2023-03-28T18:06:25.380721",
     "status": "completed"
    },
    "tags": []
   },
   "outputs": [
    {
     "data": {
      "text/plain": [
       "\"/home/rita13santos/Desktop/MSc Thesis/Git/ScalarField/DATA/res1/time_step0.csv\""
      ]
     },
     "execution_count": 270,
     "metadata": {},
     "output_type": "execute_result"
    }
   ],
   "source": [
    "using CSV, Tables\n",
    "#CSV.write(dir*\"/time_step0.csv\", Tables.table(transpose(Matrix(state_array))), writeheader=false)\n",
    "CSV.write(dir*\"/res$res/time_step0.csv\", Tables.table(state_array), writeheader=false)"
   ]
  },
  {
   "cell_type": "code",
   "execution_count": 271,
   "id": "fff1426a",
   "metadata": {
    "execution": {
     "iopub.execute_input": "2023-03-28T19:06:33.154000Z",
     "iopub.status.busy": "2023-03-28T19:06:32.734000Z",
     "iopub.status.idle": "2023-03-28T19:06:33.884000Z",
     "shell.execute_reply": "2023-03-28T19:06:33.884000Z"
    },
    "papermill": {
     "duration": 1.164178,
     "end_time": "2023-03-28T18:06:33.889802",
     "exception": false,
     "start_time": "2023-03-28T18:06:32.725624",
     "status": "completed"
    },
    "tags": []
   },
   "outputs": [
    {
     "data": {
      "text/plain": [
       "\"/home/rita13santos/Desktop/MSc Thesis/Git/ScalarField/DATA/parameters.csv\""
      ]
     },
     "execution_count": 271,
     "metadata": {},
     "output_type": "execute_result"
    }
   ],
   "source": [
    "time=0\n",
    "criticality=0.0\n",
    "explode=0.0\n",
    "evol_stats = [criticality A sigma r0 time explode run]\n",
    "monitor_ratio = zeros(L)\n",
    "CSV.write(dir*\"/parameters.csv\", Tables.table(evol_stats), writeheader=true, header=[\"criticality\", \"A\", \"sigma\", \"r0\", \"time\", \"explode\", \"run\"])"
   ]
  },
  {
   "cell_type": "code",
   "execution_count": 272,
   "id": "9e9abd7d",
   "metadata": {},
   "outputs": [
    {
     "name": "stdout",
     "output_type": "stream",
     "text": [
      "1.0\n"
     ]
    }
   ],
   "source": [
    "ginit=dt_scale(initX,state_array[:,1],state_array[:,2],dx)\n",
    "println(update_dt(initX,state_array[:,1],state_array[:,2],dx,ginit)/dt)"
   ]
  },
  {
   "cell_type": "markdown",
   "id": "42e2c73d",
   "metadata": {
    "papermill": {
     "duration": 0.007626,
     "end_time": "2023-03-28T18:06:33.908346",
     "exception": false,
     "start_time": "2023-03-28T18:06:33.900720",
     "status": "completed"
    },
    "tags": []
   },
   "source": [
    " ## Time evolution"
   ]
  },
  {
   "cell_type": "markdown",
   "id": "7da47594",
   "metadata": {
    "papermill": {
     "duration": 0.007471,
     "end_time": "2023-03-28T18:06:33.923805",
     "exception": false,
     "start_time": "2023-03-28T18:06:33.916334",
     "status": "completed"
    },
    "tags": []
   },
   "source": [
    "fixed grid"
   ]
  },
  {
   "cell_type": "code",
   "execution_count": 273,
   "id": "fcb7ae3f",
   "metadata": {
    "execution": {
     "iopub.execute_input": "2023-03-28T19:06:33.940000Z",
     "iopub.status.busy": "2023-03-28T19:06:33.940000Z",
     "iopub.status.idle": "2023-03-28T21:02:19.379000Z",
     "shell.execute_reply": "2023-03-28T21:02:19.378000Z"
    },
    "papermill": {
     "duration": 6945.452732,
     "end_time": "2023-03-28T20:02:19.384591",
     "exception": false,
     "start_time": "2023-03-28T18:06:33.931859",
     "status": "completed"
    },
    "tags": []
   },
   "outputs": [
    {
     "name": "stdout",
     "output_type": "stream",
     "text": [
      "iteration 10 dt is 0.001, time of iteration is 0.010000000000000002\n",
      "iteration 20 dt is 0.001, time of iteration is 0.02000000000000001\n",
      "iteration 30 dt is 0.001, time of iteration is 0.03000000000000002\n",
      "iteration 40 dt is 0.001, time of iteration is 0.04000000000000003\n",
      "iteration 50 dt is 0.001, time of iteration is 0.05000000000000004\n",
      "iteration 60 dt is 0.001, time of iteration is 0.060000000000000046\n",
      "iteration 70 dt is 0.001, time of iteration is 0.07000000000000005\n",
      "iteration 80 dt is 0.001, time of iteration is 0.08000000000000006\n",
      "iteration 90 dt is 0.001, time of iteration is 0.09000000000000007\n",
      "iteration 100 dt is 0.001, time of iteration is 0.10000000000000007\n",
      "iteration 110 dt is 0.001, time of iteration is 0.11000000000000008\n",
      "iteration 120 dt is 0.001, time of iteration is 0.12000000000000009\n",
      "iteration 130 dt is 0.001, time of iteration is 0.1300000000000001\n",
      "iteration 140 dt is 0.001, time of iteration is 0.1400000000000001\n",
      "iteration 150 dt is 0.001, time of iteration is 0.1500000000000001\n",
      "iteration 160 dt is 0.001, time of iteration is 0.16000000000000011\n",
      "iteration 170 dt is 0.001, time of iteration is 0.17000000000000012\n",
      "iteration 180 dt is 0.001, time of iteration is 0.18000000000000013\n",
      "iteration 190 dt is 0.001, time of iteration is 0.19000000000000014\n",
      "iteration 200 dt is 0.001, time of iteration is 0.20000000000000015\n",
      "iteration 210 dt is 0.001, time of iteration is 0.21000000000000016\n",
      "iteration 220 dt is 0.001, time of iteration is 0.22000000000000017\n",
      "iteration 230 dt is 0.001, time of iteration is 0.23000000000000018\n",
      "iteration 240 dt is 0.001, time of iteration is 0.24000000000000019\n",
      "iteration 250 dt is 0.001, time of iteration is 0.25000000000000017\n",
      "iteration 260 dt is 0.001, time of iteration is 0.2600000000000002\n",
      "iteration 270 dt is 0.001, time of iteration is 0.2700000000000002\n",
      "iteration 280 dt is 0.001, time of iteration is 0.2800000000000002\n",
      "iteration 290 dt is 0.001, time of iteration is 0.2900000000000002\n",
      "iteration 300 dt is 0.001, time of iteration is 0.3000000000000002\n",
      "iteration 310 dt is 0.001, time of iteration is 0.3100000000000002\n",
      "iteration 320 dt is 0.001, time of iteration is 0.32000000000000023\n",
      "iteration 330 dt is 0.001, time of iteration is 0.33000000000000024\n",
      "iteration 340 dt is 0.001, time of iteration is 0.34000000000000025\n",
      "iteration 350 dt is 0.001, time of iteration is 0.35000000000000026\n",
      "iteration 360 dt is 0.001, time of iteration is 0.36000000000000026\n",
      "iteration 370 dt is 0.001, time of iteration is 0.3700000000000003\n",
      "iteration 380 dt is 0.001, time of iteration is 0.3800000000000003\n",
      "iteration 390 dt is 0.001, time of iteration is 0.3900000000000003\n",
      "iteration 400 dt is 0.001, time of iteration is 0.4000000000000003\n",
      "iteration 410 dt is 0.001, time of iteration is 0.4100000000000003\n",
      "iteration 420 dt is 0.001, time of iteration is 0.4200000000000003\n",
      "iteration 430 dt is 0.001, time of iteration is 0.4300000000000003\n",
      "iteration 440 dt is 0.001, time of iteration is 0.44000000000000034\n",
      "iteration 450 dt is 0.001, time of iteration is 0.45000000000000034\n",
      "iteration 460 dt is 0.001, time of iteration is 0.46000000000000035\n",
      "iteration 470 dt is 0.001, time of iteration is 0.47000000000000036\n",
      "iteration 480 dt is 0.001, time of iteration is 0.48000000000000037\n",
      "iteration 490 dt is 0.001, time of iteration is 0.4900000000000004\n",
      "iteration 500 dt is 0.001, time of iteration is 0.5000000000000003\n",
      "iteration 510 dt is 0.001, time of iteration is 0.5100000000000003\n",
      "iteration 520 dt is 0.001, time of iteration is 0.5200000000000004\n",
      "iteration 530 dt is 0.001, time of iteration is 0.5300000000000004\n",
      "iteration 540 dt is 0.001, time of iteration is 0.5400000000000004\n",
      "iteration 550 dt is 0.001, time of iteration is 0.5500000000000004\n",
      "iteration 560 dt is 0.001, time of iteration is 0.5600000000000004\n",
      "iteration 570 dt is 0.001, time of iteration is 0.5700000000000004\n",
      "iteration 580 dt is 0.001, time of iteration is 0.5800000000000004\n",
      "iteration 590 dt is 0.001, time of iteration is 0.5900000000000004\n",
      "iteration 600 dt is 0.001, time of iteration is 0.6000000000000004\n",
      "iteration 610 dt is 0.001, time of iteration is 0.6100000000000004\n",
      "iteration 620 dt is 0.001, time of iteration is 0.6200000000000004\n",
      "iteration 630 dt is 0.001, time of iteration is 0.6300000000000004\n",
      "iteration 640 dt is 0.001, time of iteration is 0.6400000000000005\n",
      "iteration 650 dt is 0.001, time of iteration is 0.6500000000000005\n",
      "iteration 660 dt is 0.001, time of iteration is 0.6600000000000005\n",
      "iteration 670 dt is 0.001, time of iteration is 0.6700000000000005\n",
      "iteration 680 dt is 0.001, time of iteration is 0.6800000000000005\n",
      "iteration 690 dt is 0.001, time of iteration is 0.6900000000000005\n",
      "iteration 700 dt is 0.001, time of iteration is 0.7000000000000005\n",
      "iteration 710 dt is 0.001, time of iteration is 0.7100000000000005\n",
      "iteration 720 dt is 0.001, time of iteration is 0.7200000000000005\n",
      "iteration 730 dt is 0.001, time of iteration is 0.7300000000000005\n",
      "iteration 740 dt is 0.001, time of iteration is 0.7400000000000005\n",
      "iteration 750 dt is 0.001, time of iteration is 0.7500000000000006\n",
      "iteration 760 dt is 0.001, time of iteration is 0.7600000000000006\n",
      "iteration 770 dt is 0.001, time of iteration is 0.7700000000000006\n",
      "iteration 780 dt is 0.001, time of iteration is 0.7800000000000006\n",
      "iteration 790 dt is 0.001, time of iteration is 0.7900000000000006\n",
      "iteration 800 dt is 0.001, time of iteration is 0.8000000000000006\n",
      "iteration 810 dt is 0.001, time of iteration is 0.8100000000000006\n",
      "iteration 820 dt is 0.001, time of iteration is 0.8200000000000006\n",
      "iteration 830 dt is 0.001, time of iteration is 0.8300000000000006\n",
      "iteration 840 dt is 0.001, time of iteration is 0.8400000000000006\n",
      "iteration 850 dt is 0.001, time of iteration is 0.8500000000000006\n",
      "iteration 860 dt is 0.001, time of iteration is 0.8600000000000007\n",
      "iteration 870 dt is 0.001, time of iteration is 0.8700000000000007\n",
      "iteration 880 dt is 0.001, time of iteration is 0.8800000000000007\n",
      "iteration 890 dt is 0.001, time of iteration is 0.8900000000000007\n",
      "iteration 900 dt is 0.001, time of iteration is 0.9000000000000007\n",
      "iteration 910 dt is 0.001, time of iteration is 0.9100000000000007\n",
      "iteration 920 dt is 0.001, time of iteration is 0.9200000000000007\n",
      "iteration 930 dt is 0.001, time of iteration is 0.9300000000000007\n",
      "iteration 940 dt is 0.001, time of iteration is 0.9400000000000007\n",
      "iteration 950 dt is 0.001, time of iteration is 0.9500000000000007\n",
      "iteration 960 dt is 0.001, time of iteration is 0.9600000000000007\n",
      "iteration 970 dt is 0.001, time of iteration is 0.9700000000000008\n",
      "iteration 980 dt is 0.001, time of iteration is 0.9800000000000008\n",
      "iteration 990 dt is 0.001, time of iteration is 0.9900000000000008\n",
      "iteration 1000 dt is 0.001, time of iteration is 1.0000000000000007\n",
      "iteration 1010 dt is 0.001, time of iteration is 1.0099999999999996\n",
      "boom at time=1.0111826543453972\n"
     ]
    }
   ],
   "source": [
    "finaltime=1.1#0.8#0.04*5*4#length(T)-1\n",
    "evol_stats, T_interp = timeevolution(state_array,finaltime,dir*\"/res$res\",run);\n",
    "CSV.write(dir*\"/timearray$res.csv\", Tables.table(T_interp), writeheader=false);\n",
    "CSV.write(dir*\"/parameters.csv\", Tables.table(evol_stats), writeheader=false);"
   ]
  },
  {
   "cell_type": "code",
   "execution_count": null,
   "id": "fb173c3a",
   "metadata": {},
   "outputs": [],
   "source": []
  },
  {
   "cell_type": "code",
   "execution_count": null,
   "id": "15c71252",
   "metadata": {},
   "outputs": [],
   "source": []
  },
  {
   "cell_type": "markdown",
   "id": "715897d3",
   "metadata": {
    "papermill": {
     "duration": 0.007626,
     "end_time": "2023-03-28T18:06:33.908346",
     "exception": false,
     "start_time": "2023-03-28T18:06:33.900720",
     "status": "completed"
    },
    "tags": []
   },
   "source": [
    " ## Movie of the evolution"
   ]
  },
  {
   "cell_type": "code",
   "execution_count": 275,
   "id": "973cea47",
   "metadata": {},
   "outputs": [
    {
     "name": "stderr",
     "output_type": "stream",
     "text": [
      "\u001b[36m\u001b[1m[ \u001b[22m\u001b[39m\u001b[36m\u001b[1mInfo: \u001b[22m\u001b[39mSaved animation to /home/rita13santos/Desktop/MSc Thesis/Git/ScalarField/anim_res1.gif\n"
     ]
    },
    {
     "data": {
      "text/html": [
       "<img src=\"data:image/gif;base64,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\" />"
      ],
      "text/plain": [
       "Plots.AnimatedGif(\"/home/rita13santos/Desktop/MSc Thesis/Git/ScalarField/anim_res1.gif\")"
      ]
     },
     "execution_count": 275,
     "metadata": {},
     "output_type": "execute_result"
    }
   ],
   "source": [
    "using Plots, CSV, DataFrames\n",
    "import GR\n",
    "anim = @animate for n in 600:20:1010#length(T)-1\n",
    "    \n",
    "    IJulia.clear_output(true)\n",
    "    \n",
    "    functions3=DataFrame(CSV.File(dir*\"/res$res/time_step$n.csv\",header=false, delim=\",\"))\n",
    "    plot()\n",
    "        plot1=functions3.Column1[4:L-3];\n",
    "        plot2=functions3.Column2[4:L-3];\n",
    "        plot3=functions3.Column3[4:L-3];\n",
    "        plot4=functions3.Column4[4:L-3];\n",
    "        plot5=functions3.Column5[4:L-3];\n",
    "    \n",
    "    plot!(initX1, [plot1 plot2 plot3 plot4], labels=[\"m\" \"beta\" \"psi\" \"psi,x\"],ylim=[-0.3,0.3])#, xlim=[0, 0.1]) |> display \n",
    "    #plot!(initX[4:L-3], [plot1], labels=[\"m\" \"beta\" \"psi\" \"psi,x\"],ylim=[-1,1])#, xlim=[0, 0.1]) |> display \n",
    "    \n",
    "    end\n",
    "\n",
    "gif(anim, \"anim_res$res.gif\", fps = 1)"
   ]
  },
  {
   "cell_type": "code",
   "execution_count": 69,
   "id": "b1f15c9e",
   "metadata": {},
   "outputs": [
    {
     "data": {
      "text/plain": [
       "\"/home/rita13santos/Desktop/MSc Thesis/Git/ScalarField/DATA\""
      ]
     },
     "execution_count": 69,
     "metadata": {},
     "output_type": "execute_result"
    }
   ],
   "source": [
    "dir"
   ]
  },
  {
   "cell_type": "code",
   "execution_count": null,
   "id": "34adf7fe",
   "metadata": {},
   "outputs": [],
   "source": []
  },
  {
   "cell_type": "code",
   "execution_count": null,
   "id": "a05acb5f",
   "metadata": {},
   "outputs": [],
   "source": []
  },
  {
   "cell_type": "code",
   "execution_count": null,
   "id": "01c840df",
   "metadata": {},
   "outputs": [],
   "source": []
  },
  {
   "cell_type": "code",
   "execution_count": null,
   "id": "eb36f345",
   "metadata": {},
   "outputs": [],
   "source": []
  },
  {
   "cell_type": "code",
   "execution_count": null,
   "id": "6e1862b9",
   "metadata": {},
   "outputs": [],
   "source": []
  }
 ],
 "metadata": {
  "@webio": {
   "lastCommId": null,
   "lastKernelId": null
  },
  "kernelspec": {
   "display_name": "Julia 1.8.0",
   "language": "julia",
   "name": "julia-1.8"
  },
  "language_info": {
   "file_extension": ".jl",
   "mimetype": "application/julia",
   "name": "julia",
   "version": "1.8.0"
  },
  "papermill": {
   "default_parameters": {},
   "duration": 7025.507115,
   "end_time": "2023-03-28T20:03:06.430756",
   "environment_variables": {},
   "exception": null,
   "input_path": "Evolution_ScalarField.ipynb",
   "output_path": "Evolution_ScalarField.ipynb",
   "parameters": {
    "A": 0.001,
    "m": 3
   },
   "start_time": "2023-03-28T18:06:00.923641",
   "version": "2.4.0"
  }
 },
 "nbformat": 4,
 "nbformat_minor": 5
}
