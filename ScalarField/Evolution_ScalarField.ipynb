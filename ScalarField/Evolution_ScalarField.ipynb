{
 "cells": [
  {
   "cell_type": "markdown",
   "id": "d88601a8",
   "metadata": {
    "papermill": {
     "duration": 0.010813,
     "end_time": "2023-03-28T18:06:09.878411",
     "exception": false,
     "start_time": "2023-03-28T18:06:09.867598",
     "status": "completed"
    },
    "tags": []
   },
   "source": [
    "# Evolution of Einstein's equations"
   ]
  },
  {
   "cell_type": "markdown",
   "id": "03c607c7",
   "metadata": {
    "papermill": {
     "duration": 0.006777,
     "end_time": "2023-03-28T18:06:09.893152",
     "exception": false,
     "start_time": "2023-03-28T18:06:09.886375",
     "status": "completed"
    },
    "tags": []
   },
   "source": [
    "# Initial data , setting length of the domain and discretization\n"
   ]
  },
  {
   "cell_type": "markdown",
   "id": "43aebde7",
   "metadata": {
    "execution": {
     "iopub.execute_input": "2023-03-28T19:06:10.907000Z",
     "iopub.status.busy": "2023-03-28T19:06:09.907000Z",
     "iopub.status.idle": "2023-03-28T19:06:12.147000Z",
     "shell.execute_reply": "2023-03-28T19:06:12.110000Z"
    },
    "papermill": {
     "duration": 2.251282,
     "end_time": "2023-03-28T18:06:12.151193",
     "exception": false,
     "start_time": "2023-03-28T18:06:09.899911",
     "status": "completed"
    },
    "tags": [
     "injected-parameters"
    ]
   },
   "source": [
    "# Parameters"
   ]
  },
  {
   "cell_type": "code",
   "execution_count": 130,
   "id": "28f9b745",
   "metadata": {},
   "outputs": [
    {
     "data": {
      "text/plain": [
       "1"
      ]
     },
     "execution_count": 130,
     "metadata": {},
     "output_type": "execute_result"
    }
   ],
   "source": [
    "m = 3\n",
    "A = 0.001#0.05#0.049375#0.07#0.05#0.1124921875#0.125\n",
    "run = 1"
   ]
  },
  {
   "cell_type": "code",
   "execution_count": 131,
   "id": "80a113e0",
   "metadata": {},
   "outputs": [
    {
     "name": "stdout",
     "output_type": "stream",
     "text": [
      "1.0"
     ]
    }
   ],
   "source": [
    "res=m;\n",
    "N=2.0^m*200.0/2.0\n",
    "Xf=1.0;\n",
    "\n",
    "dx=Xf/N;\n",
    "dt=round(dx,digits=10);\n",
    "Nt=2.0^m*200.0/2.0\n",
    "Tf=Nt*dt; #final time\n",
    "print(Tf)"
   ]
  },
  {
   "cell_type": "code",
   "execution_count": 132,
   "id": "4f752d54",
   "metadata": {
    "execution": {
     "iopub.execute_input": "2023-03-28T19:06:12.356000Z",
     "iopub.status.busy": "2023-03-28T19:06:12.356000Z",
     "iopub.status.idle": "2023-03-28T19:06:12.364000Z",
     "shell.execute_reply": "2023-03-28T19:06:12.364000Z"
    },
    "papermill": {
     "duration": 0.020815,
     "end_time": "2023-03-28T18:06:12.368761",
     "exception": false,
     "start_time": "2023-03-28T18:06:12.347946",
     "status": "completed"
    },
    "tags": []
   },
   "outputs": [
    {
     "name": "stdout",
     "output_type": "stream",
     "text": [
      "800.0"
     ]
    }
   ],
   "source": [
    "print(N)"
   ]
  },
  {
   "cell_type": "code",
   "execution_count": 133,
   "id": "ad48576a",
   "metadata": {
    "execution": {
     "iopub.execute_input": "2023-03-28T19:06:12.386000Z",
     "iopub.status.busy": "2023-03-28T19:06:12.385000Z",
     "iopub.status.idle": "2023-03-28T19:06:12.398000Z",
     "shell.execute_reply": "2023-03-28T19:06:12.398000Z"
    },
    "papermill": {
     "duration": 0.024143,
     "end_time": "2023-03-28T18:06:12.402660",
     "exception": false,
     "start_time": "2023-03-28T18:06:12.378517",
     "status": "completed"
    },
    "tags": []
   },
   "outputs": [
    {
     "name": "stdout",
     "output_type": "stream",
     "text": [
      "dx =0.00125\n",
      "dt =0.00125\n",
      "dx/dt =1.0\n"
     ]
    }
   ],
   "source": [
    "println(\"dx =\", dx)\n",
    "println(\"dt =\", dt)\n",
    "println(\"dx/dt =\", dx/dt)"
   ]
  },
  {
   "cell_type": "code",
   "execution_count": 134,
   "id": "78fb78a5",
   "metadata": {
    "execution": {
     "iopub.execute_input": "2023-03-28T19:06:12.419000Z",
     "iopub.status.busy": "2023-03-28T19:06:12.419000Z",
     "iopub.status.idle": "2023-03-28T19:06:13.308000Z",
     "shell.execute_reply": "2023-03-28T19:06:13.308000Z"
    },
    "papermill": {
     "duration": 0.90283,
     "end_time": "2023-03-28T18:06:13.314381",
     "exception": false,
     "start_time": "2023-03-28T18:06:12.411551",
     "status": "completed"
    },
    "tags": []
   },
   "outputs": [
    {
     "data": {
      "text/plain": [
       "\"/home/rita13santos/Desktop/MSc Thesis/Git/ScalarField/DATA\""
      ]
     },
     "execution_count": 134,
     "metadata": {},
     "output_type": "execute_result"
    }
   ],
   "source": [
    "global dir = \"/home/rita13santos/Desktop/MSc Thesis/Git/ScalarField/DATA\"\n",
    "#global dir = \"/home/rita13santos/Desktop/MSc Thesis/Git/ScalarField/DATA\""
   ]
  },
  {
   "cell_type": "markdown",
   "id": "e2dd4335",
   "metadata": {
    "papermill": {
     "duration": 0.007006,
     "end_time": "2023-03-28T18:06:13.351329",
     "exception": false,
     "start_time": "2023-03-28T18:06:13.344323",
     "status": "completed"
    },
    "tags": []
   },
   "source": [
    "# Grid"
   ]
  },
  {
   "cell_type": "code",
   "execution_count": 135,
   "id": "bc5288f8",
   "metadata": {
    "execution": {
     "iopub.execute_input": "2023-03-28T19:06:13.636000Z",
     "iopub.status.busy": "2023-03-28T19:06:13.636000Z",
     "iopub.status.idle": "2023-03-28T19:06:14.762000Z",
     "shell.execute_reply": "2023-03-28T19:06:14.762000Z"
    },
    "papermill": {
     "duration": 1.137394,
     "end_time": "2023-03-28T18:06:14.765909",
     "exception": false,
     "start_time": "2023-03-28T18:06:13.628515",
     "status": "completed"
    },
    "tags": []
   },
   "outputs": [],
   "source": [
    "include(\"./ScalarField.jl\");"
   ]
  },
  {
   "cell_type": "code",
   "execution_count": 136,
   "id": "de24fea3",
   "metadata": {
    "execution": {
     "iopub.execute_input": "2023-03-28T19:06:13.366000Z",
     "iopub.status.busy": "2023-03-28T19:06:13.366000Z",
     "iopub.status.idle": "2023-03-28T19:06:13.571000Z",
     "shell.execute_reply": "2023-03-28T19:06:13.571000Z"
    },
    "papermill": {
     "duration": 0.216104,
     "end_time": "2023-03-28T18:06:13.574666",
     "exception": false,
     "start_time": "2023-03-28T18:06:13.358562",
     "status": "completed"
    },
    "tags": []
   },
   "outputs": [
    {
     "name": "stdout",
     "output_type": "stream",
     "text": [
      "step size is  0.00125\n",
      "the time step is 0.00125\n"
     ]
    }
   ],
   "source": [
    "ori=0.0;\n",
    "initX1 = nothing\n",
    "N=int(N)\n",
    "initX1=range(ori, stop=Xf, step=dx);\n",
    "\n",
    "initX = range(round(ori-3.0*dx,digits=10), stop=Xf+3.0*dx, step=dx)\n",
    "\n",
    "L=length(initX);\n",
    "println(\"step size is  \", dx)\n",
    "println(\"the time step is \", dt)"
   ]
  },
  {
   "cell_type": "code",
   "execution_count": 137,
   "id": "f4c71bab",
   "metadata": {},
   "outputs": [
    {
     "data": {
      "text/plain": [
       "\"if m==1\\n    initX1=chebyshev(int((L-6)))\\n    L1=L;\\nelseif m==2\\n    initX1=doublegrid(chebyshev(int((L1-6))))\\nelse\\n    initX1=doublegrid(doublegrid(chebyshev(int((L1-6)))))\\nend\\ninitX=collect(initX)\\ninitX[4:L-3]=initX1;\""
      ]
     },
     "execution_count": 137,
     "metadata": {},
     "output_type": "execute_result"
    }
   ],
   "source": [
    "\"\"\"if m==1\n",
    "    initX1=chebyshev(int((L-6)))\n",
    "    L1=L;\n",
    "elseif m==2\n",
    "    initX1=doublegrid(chebyshev(int((L1-6))))\n",
    "else\n",
    "    initX1=doublegrid(doublegrid(chebyshev(int((L1-6)))))\n",
    "end\n",
    "initX=collect(initX)\n",
    "initX[4:L-3]=initX1;\"\"\""
   ]
  },
  {
   "cell_type": "markdown",
   "id": "80ab1480",
   "metadata": {
    "papermill": {
     "duration": 0.007525,
     "end_time": "2023-03-28T18:06:14.783937",
     "exception": false,
     "start_time": "2023-03-28T18:06:14.776412",
     "status": "completed"
    },
    "tags": []
   },
   "source": [
    "# Initial data of m β Ψ and Ψ,x"
   ]
  },
  {
   "cell_type": "code",
   "execution_count": 138,
   "id": "d0af654c",
   "metadata": {
    "execution": {
     "iopub.execute_input": "2023-03-28T19:06:14.799000Z",
     "iopub.status.busy": "2023-03-28T19:06:14.799000Z",
     "iopub.status.idle": "2023-03-28T19:06:22.269000Z",
     "shell.execute_reply": "2023-03-28T19:06:22.269000Z"
    },
    "papermill": {
     "duration": 7.48258,
     "end_time": "2023-03-28T18:06:22.273970",
     "exception": false,
     "start_time": "2023-03-28T18:06:14.791390",
     "status": "completed"
    },
    "tags": []
   },
   "outputs": [],
   "source": [
    "using Dierckx\n",
    "\n",
    "####\n",
    "\n",
    "initm=zeros(L);\n",
    "initbeta=zeros(L);\n",
    "initpsi=zeros(L);\n",
    "initderpsi=zeros(L);\n",
    "\n",
    "state_array=[initm initbeta initpsi initderpsi initX];\n",
    "\n",
    "#PSI\n",
    "r0=0.7#0.01#0.7#0.01#0.7#0.7#0.7#0.01#0.7#0.3\n",
    "sigma=0.3\n",
    "initpsi[4:L-3] = init_gaussian(initX1,r0,sigma,A)\n",
    "\n",
    "state_array[:,3] = initpsi\n",
    "state_array = ghost(state_array)\n",
    "\n",
    "#PSI,X FROM PSI\n",
    "initderpsi[4:L-3] = init_gaussian_der(initX1,r0,sigma,A)\n",
    "state_array[:,4] = initderpsi\n",
    "state_array=ghost(state_array)\n",
    "\n",
    "####\n",
    "\n",
    "derpsi_func = Spline1D(initX[4:L-3], state_array[4:L-3,4],  k=4);"
   ]
  },
  {
   "cell_type": "code",
   "execution_count": 139,
   "id": "9cc776ac",
   "metadata": {},
   "outputs": [],
   "source": [
    "##AUX\n",
    "auxinitm=zeros((L-6)*2+5);\n",
    "auxinitbeta=zeros((L-6)*2+5);\n",
    "auxinitpsi=zeros((L-6)*2+5);\n",
    "auxinitderpsi=zeros((L-6)*2+5);\n",
    "auxinitX=range(round(ori-3.0*dx/2,digits=10), stop=Xf+3.0*dx/2, step=dx/2)\n",
    "auxinitX1=auxinitX[4:length(auxinitX)-3]\n",
    "auxL=length(auxinitX)\n",
    "\n",
    "auxstate_array=[auxinitm auxinitbeta auxinitpsi auxinitderpsi auxinitX];\n",
    "\n",
    "#PSI\n",
    "r0=0.7#0.01#0.7#0.01#0.7#0.7#0.7#0.01#0.7#0.3\n",
    "sigma=0.3\n",
    "auxinitpsi[4:auxL-3] = init_gaussian(auxinitX1,r0,sigma,A)\n",
    "\n",
    "auxstate_array[:,3] = auxinitpsi\n",
    "auxstate_array = ghost(auxstate_array)\n",
    "\n",
    "#PSI,X FROM PSI\n",
    "auxinitderpsi[4:auxL-3] = init_gaussian_der(auxinitX1,r0,sigma,A)\n",
    "auxstate_array[:,4] = auxinitderpsi\n",
    "auxstate_array=ghost(auxstate_array)\n",
    "\n",
    "####\n",
    "\n",
    "auxderpsi_func = Spline1D(auxinitX[4:auxL-3], auxstate_array[4:auxL-3,4],  k=4);"
   ]
  },
  {
   "cell_type": "code",
   "execution_count": 140,
   "id": "16b359eb",
   "metadata": {},
   "outputs": [
    {
     "data": {
      "text/plain": [
       "\"integ=integrator(initX,derpsi_func)\\nplot(initX1, integ[4:L-3],xlim=[0,0.001])\""
      ]
     },
     "execution_count": 140,
     "metadata": {},
     "output_type": "execute_result"
    }
   ],
   "source": [
    "\"\"\"integ=integrator(initX,derpsi_func)\n",
    "plot(initX1, integ[4:L-3],xlim=[0,0.001])\"\"\""
   ]
  },
  {
   "cell_type": "code",
   "execution_count": 141,
   "id": "d4a56f84",
   "metadata": {},
   "outputs": [],
   "source": [
    "##AUX\n",
    "y0=[0 0 0]\n",
    "auxstate_array[4:auxL-3,1:3] = n_rk4wrapper(RHS,y0,auxinitX[4:auxL-3],0,auxderpsi_func,auxstate_array[:,:]);"
   ]
  },
  {
   "cell_type": "code",
   "execution_count": 142,
   "id": "384597fa",
   "metadata": {
    "execution": {
     "iopub.execute_input": "2023-03-28T19:06:22.817000Z",
     "iopub.status.busy": "2023-03-28T19:06:22.325000Z",
     "iopub.status.idle": "2023-03-28T19:06:25.288000Z",
     "shell.execute_reply": "2023-03-28T19:06:25.288000Z"
    },
    "papermill": {
     "duration": 2.998847,
     "end_time": "2023-03-28T18:06:25.292099",
     "exception": false,
     "start_time": "2023-03-28T18:06:22.293252",
     "status": "completed"
    },
    "tags": []
   },
   "outputs": [],
   "source": [
    "y0=[0 0 0]\n",
    "state_array[4:L-3,1:3] = n_rk4wrapper(RHS,y0,initX[4:L-3],0,derpsi_func,state_array[:,:],auxstate_array);\n",
    "#hereeeeee this would be with interp:\n",
    "#state_array[4:L-3,1:3] = n_rk4wrapper(RHS,y0,initX[4:L-3],0,derpsi_func,state_array[:,:]);\n",
    "\n",
    "#state_array = ghost(state_array);\n",
    "\n",
    "#state_array[4:L-3,3] = rk4wrapper(psiRHS,0,initX[4:L-3],0,derpsi_func,state_array[:,:])\n",
    "\n",
    "#state_array[4:L-3,3] = integrator(initX,derpsi_func)[4:L-3]\n",
    "\n",
    "#psi_func = Spline1D(initX[4:L-3],state_array[4:L-3,3],k=4)\n",
    "#funcs = [psi_func derpsi_func]\n",
    "        \n",
    "#y0=[0.0 0.0]\n",
    "#state_array[4:L-3,1:2] = n_rk4wrapper(mbetaRHS,y0,initX[4:L-3],0,funcs,state_array[:,:]);"
   ]
  },
  {
   "cell_type": "code",
   "execution_count": 143,
   "id": "48f10a76",
   "metadata": {
    "execution": {
     "iopub.execute_input": "2023-03-28T19:06:25.312000Z",
     "iopub.status.busy": "2023-03-28T19:06:25.312000Z",
     "iopub.status.idle": "2023-03-28T19:06:25.348000Z",
     "shell.execute_reply": "2023-03-28T19:06:25.347000Z"
    },
    "papermill": {
     "duration": 0.048534,
     "end_time": "2023-03-28T18:06:25.352888",
     "exception": false,
     "start_time": "2023-03-28T18:06:25.304354",
     "status": "completed"
    },
    "tags": []
   },
   "outputs": [
    {
     "data": {
      "image/svg+xml": [
       "<?xml version=\"1.0\" encoding=\"utf-8\"?>\n",
       "<svg xmlns=\"http://www.w3.org/2000/svg\" xmlns:xlink=\"http://www.w3.org/1999/xlink\" width=\"600\" height=\"400\" viewBox=\"0 0 2400 1600\">\n",
       "<defs>\n",
       "  <clipPath id=\"clip890\">\n",
       "    <rect x=\"0\" y=\"0\" width=\"2400\" height=\"1600\"/>\n",
       "  </clipPath>\n",
       "</defs>\n",
       "<path clip-path=\"url(#clip890)\" d=\"M0 1600 L2400 1600 L2400 0 L0 0  Z\" fill=\"#ffffff\" fill-rule=\"evenodd\" fill-opacity=\"1\"/>\n",
       "<defs>\n",
       "  <clipPath id=\"clip891\">\n",
       "    <rect x=\"480\" y=\"0\" width=\"1681\" height=\"1600\"/>\n",
       "  </clipPath>\n",
       "</defs>\n",
       "<path clip-path=\"url(#clip890)\" d=\"M284.422 1423.18 L2352.76 1423.18 L2352.76 123.472 L284.422 123.472  Z\" fill=\"#ffffff\" fill-rule=\"evenodd\" fill-opacity=\"1\"/>\n",
       "<defs>\n",
       "  <clipPath id=\"clip892\">\n",
       "    <rect x=\"284\" y=\"123\" width=\"2069\" height=\"1301\"/>\n",
       "  </clipPath>\n",
       "</defs>\n",
       "<polyline clip-path=\"url(#clip892)\" style=\"stroke:#000000; stroke-linecap:round; stroke-linejoin:round; stroke-width:2; stroke-opacity:0.1; fill:none\" points=\"342.959,1423.18 342.959,123.472 \"/>\n",
       "<polyline clip-path=\"url(#clip892)\" style=\"stroke:#000000; stroke-linecap:round; stroke-linejoin:round; stroke-width:2; stroke-opacity:0.1; fill:none\" points=\"830.774,1423.18 830.774,123.472 \"/>\n",
       "<polyline clip-path=\"url(#clip892)\" style=\"stroke:#000000; stroke-linecap:round; stroke-linejoin:round; stroke-width:2; stroke-opacity:0.1; fill:none\" points=\"1318.59,1423.18 1318.59,123.472 \"/>\n",
       "<polyline clip-path=\"url(#clip892)\" style=\"stroke:#000000; stroke-linecap:round; stroke-linejoin:round; stroke-width:2; stroke-opacity:0.1; fill:none\" points=\"1806.4,1423.18 1806.4,123.472 \"/>\n",
       "<polyline clip-path=\"url(#clip892)\" style=\"stroke:#000000; stroke-linecap:round; stroke-linejoin:round; stroke-width:2; stroke-opacity:0.1; fill:none\" points=\"2294.22,1423.18 2294.22,123.472 \"/>\n",
       "<polyline clip-path=\"url(#clip890)\" style=\"stroke:#000000; stroke-linecap:round; stroke-linejoin:round; stroke-width:4; stroke-opacity:1; fill:none\" points=\"284.422,1423.18 2352.76,1423.18 \"/>\n",
       "<polyline clip-path=\"url(#clip890)\" style=\"stroke:#000000; stroke-linecap:round; stroke-linejoin:round; stroke-width:4; stroke-opacity:1; fill:none\" points=\"342.959,1423.18 342.959,1404.28 \"/>\n",
       "<polyline clip-path=\"url(#clip890)\" style=\"stroke:#000000; stroke-linecap:round; stroke-linejoin:round; stroke-width:4; stroke-opacity:1; fill:none\" points=\"830.774,1423.18 830.774,1404.28 \"/>\n",
       "<polyline clip-path=\"url(#clip890)\" style=\"stroke:#000000; stroke-linecap:round; stroke-linejoin:round; stroke-width:4; stroke-opacity:1; fill:none\" points=\"1318.59,1423.18 1318.59,1404.28 \"/>\n",
       "<polyline clip-path=\"url(#clip890)\" style=\"stroke:#000000; stroke-linecap:round; stroke-linejoin:round; stroke-width:4; stroke-opacity:1; fill:none\" points=\"1806.4,1423.18 1806.4,1404.28 \"/>\n",
       "<polyline clip-path=\"url(#clip890)\" style=\"stroke:#000000; stroke-linecap:round; stroke-linejoin:round; stroke-width:4; stroke-opacity:1; fill:none\" points=\"2294.22,1423.18 2294.22,1404.28 \"/>\n",
       "<path clip-path=\"url(#clip890)\" d=\"M305.263 1454.1 Q301.652 1454.1 299.823 1457.66 Q298.017 1461.2 298.017 1468.33 Q298.017 1475.44 299.823 1479.01 Q301.652 1482.55 305.263 1482.55 Q308.897 1482.55 310.703 1479.01 Q312.531 1475.44 312.531 1468.33 Q312.531 1461.2 310.703 1457.66 Q308.897 1454.1 305.263 1454.1 M305.263 1450.39 Q311.073 1450.39 314.129 1455 Q317.207 1459.58 317.207 1468.33 Q317.207 1477.06 314.129 1481.67 Q311.073 1486.25 305.263 1486.25 Q299.453 1486.25 296.374 1481.67 Q293.318 1477.06 293.318 1468.33 Q293.318 1459.58 296.374 1455 Q299.453 1450.39 305.263 1450.39 Z\" fill=\"#000000\" fill-rule=\"evenodd\" fill-opacity=\"1\" /><path clip-path=\"url(#clip890)\" d=\"M325.425 1479.7 L330.309 1479.7 L330.309 1485.58 L325.425 1485.58 L325.425 1479.7 Z\" fill=\"#000000\" fill-rule=\"evenodd\" fill-opacity=\"1\" /><path clip-path=\"url(#clip890)\" d=\"M350.494 1454.1 Q346.883 1454.1 345.054 1457.66 Q343.249 1461.2 343.249 1468.33 Q343.249 1475.44 345.054 1479.01 Q346.883 1482.55 350.494 1482.55 Q354.128 1482.55 355.934 1479.01 Q357.763 1475.44 357.763 1468.33 Q357.763 1461.2 355.934 1457.66 Q354.128 1454.1 350.494 1454.1 M350.494 1450.39 Q356.304 1450.39 359.36 1455 Q362.438 1459.58 362.438 1468.33 Q362.438 1477.06 359.36 1481.67 Q356.304 1486.25 350.494 1486.25 Q344.684 1486.25 341.605 1481.67 Q338.55 1477.06 338.55 1468.33 Q338.55 1459.58 341.605 1455 Q344.684 1450.39 350.494 1450.39 Z\" fill=\"#000000\" fill-rule=\"evenodd\" fill-opacity=\"1\" /><path clip-path=\"url(#clip890)\" d=\"M380.656 1454.1 Q377.045 1454.1 375.216 1457.66 Q373.411 1461.2 373.411 1468.33 Q373.411 1475.44 375.216 1479.01 Q377.045 1482.55 380.656 1482.55 Q384.29 1482.55 386.096 1479.01 Q387.924 1475.44 387.924 1468.33 Q387.924 1461.2 386.096 1457.66 Q384.29 1454.1 380.656 1454.1 M380.656 1450.39 Q386.466 1450.39 389.522 1455 Q392.6 1459.58 392.6 1468.33 Q392.6 1477.06 389.522 1481.67 Q386.466 1486.25 380.656 1486.25 Q374.846 1486.25 371.767 1481.67 Q368.712 1477.06 368.712 1468.33 Q368.712 1459.58 371.767 1455 Q374.846 1450.39 380.656 1450.39 Z\" fill=\"#000000\" fill-rule=\"evenodd\" fill-opacity=\"1\" /><path clip-path=\"url(#clip890)\" d=\"M793.575 1454.1 Q789.964 1454.1 788.135 1457.66 Q786.33 1461.2 786.33 1468.33 Q786.33 1475.44 788.135 1479.01 Q789.964 1482.55 793.575 1482.55 Q797.209 1482.55 799.015 1479.01 Q800.844 1475.44 800.844 1468.33 Q800.844 1461.2 799.015 1457.66 Q797.209 1454.1 793.575 1454.1 M793.575 1450.39 Q799.385 1450.39 802.441 1455 Q805.52 1459.58 805.52 1468.33 Q805.52 1477.06 802.441 1481.67 Q799.385 1486.25 793.575 1486.25 Q787.765 1486.25 784.686 1481.67 Q781.631 1477.06 781.631 1468.33 Q781.631 1459.58 784.686 1455 Q787.765 1450.39 793.575 1450.39 Z\" fill=\"#000000\" fill-rule=\"evenodd\" fill-opacity=\"1\" /><path clip-path=\"url(#clip890)\" d=\"M813.737 1479.7 L818.621 1479.7 L818.621 1485.58 L813.737 1485.58 L813.737 1479.7 Z\" fill=\"#000000\" fill-rule=\"evenodd\" fill-opacity=\"1\" /><path clip-path=\"url(#clip890)\" d=\"M832.834 1481.64 L849.154 1481.64 L849.154 1485.58 L827.209 1485.58 L827.209 1481.64 Q829.871 1478.89 834.455 1474.26 Q839.061 1469.61 840.242 1468.27 Q842.487 1465.74 843.367 1464.01 Q844.269 1462.25 844.269 1460.56 Q844.269 1457.8 842.325 1456.07 Q840.404 1454.33 837.302 1454.33 Q835.103 1454.33 832.649 1455.09 Q830.219 1455.86 827.441 1457.41 L827.441 1452.69 Q830.265 1451.55 832.719 1450.97 Q835.172 1450.39 837.209 1450.39 Q842.58 1450.39 845.774 1453.08 Q848.968 1455.77 848.968 1460.26 Q848.968 1462.39 848.158 1464.31 Q847.371 1466.2 845.265 1468.8 Q844.686 1469.47 841.584 1472.69 Q838.482 1475.88 832.834 1481.64 Z\" fill=\"#000000\" fill-rule=\"evenodd\" fill-opacity=\"1\" /><path clip-path=\"url(#clip890)\" d=\"M859.015 1451.02 L877.371 1451.02 L877.371 1454.96 L863.297 1454.96 L863.297 1463.43 Q864.316 1463.08 865.334 1462.92 Q866.353 1462.73 867.371 1462.73 Q873.158 1462.73 876.538 1465.9 Q879.917 1469.08 879.917 1474.49 Q879.917 1480.07 876.445 1483.17 Q872.973 1486.25 866.654 1486.25 Q864.478 1486.25 862.209 1485.88 Q859.964 1485.51 857.556 1484.77 L857.556 1480.07 Q859.64 1481.2 861.862 1481.76 Q864.084 1482.32 866.561 1482.32 Q870.566 1482.32 872.903 1480.21 Q875.241 1478.1 875.241 1474.49 Q875.241 1470.88 872.903 1468.77 Q870.566 1466.67 866.561 1466.67 Q864.686 1466.67 862.811 1467.08 Q860.959 1467.5 859.015 1468.38 L859.015 1451.02 Z\" fill=\"#000000\" fill-rule=\"evenodd\" fill-opacity=\"1\" /><path clip-path=\"url(#clip890)\" d=\"M1280.89 1454.1 Q1277.28 1454.1 1275.45 1457.66 Q1273.65 1461.2 1273.65 1468.33 Q1273.65 1475.44 1275.45 1479.01 Q1277.28 1482.55 1280.89 1482.55 Q1284.53 1482.55 1286.33 1479.01 Q1288.16 1475.44 1288.16 1468.33 Q1288.16 1461.2 1286.33 1457.66 Q1284.53 1454.1 1280.89 1454.1 M1280.89 1450.39 Q1286.7 1450.39 1289.76 1455 Q1292.84 1459.58 1292.84 1468.33 Q1292.84 1477.06 1289.76 1481.67 Q1286.7 1486.25 1280.89 1486.25 Q1275.08 1486.25 1272 1481.67 Q1268.95 1477.06 1268.95 1468.33 Q1268.95 1459.58 1272 1455 Q1275.08 1450.39 1280.89 1450.39 Z\" fill=\"#000000\" fill-rule=\"evenodd\" fill-opacity=\"1\" /><path clip-path=\"url(#clip890)\" d=\"M1301.05 1479.7 L1305.94 1479.7 L1305.94 1485.58 L1301.05 1485.58 L1301.05 1479.7 Z\" fill=\"#000000\" fill-rule=\"evenodd\" fill-opacity=\"1\" /><path clip-path=\"url(#clip890)\" d=\"M1316.17 1451.02 L1334.53 1451.02 L1334.53 1454.96 L1320.45 1454.96 L1320.45 1463.43 Q1321.47 1463.08 1322.49 1462.92 Q1323.51 1462.73 1324.53 1462.73 Q1330.31 1462.73 1333.69 1465.9 Q1337.07 1469.08 1337.07 1474.49 Q1337.07 1480.07 1333.6 1483.17 Q1330.13 1486.25 1323.81 1486.25 Q1321.63 1486.25 1319.36 1485.88 Q1317.12 1485.51 1314.71 1484.77 L1314.71 1480.07 Q1316.79 1481.2 1319.02 1481.76 Q1321.24 1482.32 1323.72 1482.32 Q1327.72 1482.32 1330.06 1480.21 Q1332.4 1478.1 1332.4 1474.49 Q1332.4 1470.88 1330.06 1468.77 Q1327.72 1466.67 1323.72 1466.67 Q1321.84 1466.67 1319.97 1467.08 Q1318.11 1467.5 1316.17 1468.38 L1316.17 1451.02 Z\" fill=\"#000000\" fill-rule=\"evenodd\" fill-opacity=\"1\" /><path clip-path=\"url(#clip890)\" d=\"M1356.29 1454.1 Q1352.67 1454.1 1350.85 1457.66 Q1349.04 1461.2 1349.04 1468.33 Q1349.04 1475.44 1350.85 1479.01 Q1352.67 1482.55 1356.29 1482.55 Q1359.92 1482.55 1361.73 1479.01 Q1363.55 1475.44 1363.55 1468.33 Q1363.55 1461.2 1361.73 1457.66 Q1359.92 1454.1 1356.29 1454.1 M1356.29 1450.39 Q1362.1 1450.39 1365.15 1455 Q1368.23 1459.58 1368.23 1468.33 Q1368.23 1477.06 1365.15 1481.67 Q1362.1 1486.25 1356.29 1486.25 Q1350.48 1486.25 1347.4 1481.67 Q1344.34 1477.06 1344.34 1468.33 Q1344.34 1459.58 1347.4 1455 Q1350.48 1450.39 1356.29 1450.39 Z\" fill=\"#000000\" fill-rule=\"evenodd\" fill-opacity=\"1\" /><path clip-path=\"url(#clip890)\" d=\"M1769.2 1454.1 Q1765.59 1454.1 1763.76 1457.66 Q1761.96 1461.2 1761.96 1468.33 Q1761.96 1475.44 1763.76 1479.01 Q1765.59 1482.55 1769.2 1482.55 Q1772.84 1482.55 1774.64 1479.01 Q1776.47 1475.44 1776.47 1468.33 Q1776.47 1461.2 1774.64 1457.66 Q1772.84 1454.1 1769.2 1454.1 M1769.2 1450.39 Q1775.01 1450.39 1778.07 1455 Q1781.15 1459.58 1781.15 1468.33 Q1781.15 1477.06 1778.07 1481.67 Q1775.01 1486.25 1769.2 1486.25 Q1763.39 1486.25 1760.32 1481.67 Q1757.26 1477.06 1757.26 1468.33 Q1757.26 1459.58 1760.32 1455 Q1763.39 1450.39 1769.2 1450.39 Z\" fill=\"#000000\" fill-rule=\"evenodd\" fill-opacity=\"1\" /><path clip-path=\"url(#clip890)\" d=\"M1789.37 1479.7 L1794.25 1479.7 L1794.25 1485.58 L1789.37 1485.58 L1789.37 1479.7 Z\" fill=\"#000000\" fill-rule=\"evenodd\" fill-opacity=\"1\" /><path clip-path=\"url(#clip890)\" d=\"M1803.26 1451.02 L1825.48 1451.02 L1825.48 1453.01 L1812.93 1485.58 L1808.05 1485.58 L1819.85 1454.96 L1803.26 1454.96 L1803.26 1451.02 Z\" fill=\"#000000\" fill-rule=\"evenodd\" fill-opacity=\"1\" /><path clip-path=\"url(#clip890)\" d=\"M1834.64 1451.02 L1853 1451.02 L1853 1454.96 L1838.93 1454.96 L1838.93 1463.43 Q1839.94 1463.08 1840.96 1462.92 Q1841.98 1462.73 1843 1462.73 Q1848.79 1462.73 1852.17 1465.9 Q1855.55 1469.08 1855.55 1474.49 Q1855.55 1480.07 1852.07 1483.17 Q1848.6 1486.25 1842.28 1486.25 Q1840.11 1486.25 1837.84 1485.88 Q1835.59 1485.51 1833.19 1484.77 L1833.19 1480.07 Q1835.27 1481.2 1837.49 1481.76 Q1839.71 1482.32 1842.19 1482.32 Q1846.19 1482.32 1848.53 1480.21 Q1850.87 1478.1 1850.87 1474.49 Q1850.87 1470.88 1848.53 1468.77 Q1846.19 1466.67 1842.19 1466.67 Q1840.32 1466.67 1838.44 1467.08 Q1836.59 1467.5 1834.64 1468.38 L1834.64 1451.02 Z\" fill=\"#000000\" fill-rule=\"evenodd\" fill-opacity=\"1\" /><path clip-path=\"url(#clip890)\" d=\"M2246.29 1481.64 L2253.93 1481.64 L2253.93 1455.28 L2245.62 1456.95 L2245.62 1452.69 L2253.88 1451.02 L2258.56 1451.02 L2258.56 1481.64 L2266.2 1481.64 L2266.2 1485.58 L2246.29 1485.58 L2246.29 1481.64 Z\" fill=\"#000000\" fill-rule=\"evenodd\" fill-opacity=\"1\" /><path clip-path=\"url(#clip890)\" d=\"M2275.64 1479.7 L2280.53 1479.7 L2280.53 1485.58 L2275.64 1485.58 L2275.64 1479.7 Z\" fill=\"#000000\" fill-rule=\"evenodd\" fill-opacity=\"1\" /><path clip-path=\"url(#clip890)\" d=\"M2300.71 1454.1 Q2297.1 1454.1 2295.27 1457.66 Q2293.47 1461.2 2293.47 1468.33 Q2293.47 1475.44 2295.27 1479.01 Q2297.1 1482.55 2300.71 1482.55 Q2304.35 1482.55 2306.15 1479.01 Q2307.98 1475.44 2307.98 1468.33 Q2307.98 1461.2 2306.15 1457.66 Q2304.35 1454.1 2300.71 1454.1 M2300.71 1450.39 Q2306.52 1450.39 2309.58 1455 Q2312.66 1459.58 2312.66 1468.33 Q2312.66 1477.06 2309.58 1481.67 Q2306.52 1486.25 2300.71 1486.25 Q2294.9 1486.25 2291.82 1481.67 Q2288.77 1477.06 2288.77 1468.33 Q2288.77 1459.58 2291.82 1455 Q2294.9 1450.39 2300.71 1450.39 Z\" fill=\"#000000\" fill-rule=\"evenodd\" fill-opacity=\"1\" /><path clip-path=\"url(#clip890)\" d=\"M2330.87 1454.1 Q2327.26 1454.1 2325.43 1457.66 Q2323.63 1461.2 2323.63 1468.33 Q2323.63 1475.44 2325.43 1479.01 Q2327.26 1482.55 2330.87 1482.55 Q2334.51 1482.55 2336.31 1479.01 Q2338.14 1475.44 2338.14 1468.33 Q2338.14 1461.2 2336.31 1457.66 Q2334.51 1454.1 2330.87 1454.1 M2330.87 1450.39 Q2336.68 1450.39 2339.74 1455 Q2342.82 1459.58 2342.82 1468.33 Q2342.82 1477.06 2339.74 1481.67 Q2336.68 1486.25 2330.87 1486.25 Q2325.06 1486.25 2321.98 1481.67 Q2318.93 1477.06 2318.93 1468.33 Q2318.93 1459.58 2321.98 1455 Q2325.06 1450.39 2330.87 1450.39 Z\" fill=\"#000000\" fill-rule=\"evenodd\" fill-opacity=\"1\" /><path clip-path=\"url(#clip890)\" d=\"M1335.2 1532.4 L1322.31 1549.74 L1335.87 1568.04 L1328.96 1568.04 L1318.59 1554.04 L1308.21 1568.04 L1301.31 1568.04 L1315.15 1549.39 L1302.48 1532.4 L1309.39 1532.4 L1318.84 1545.1 L1328.3 1532.4 L1335.2 1532.4 Z\" fill=\"#000000\" fill-rule=\"evenodd\" fill-opacity=\"1\" /><polyline clip-path=\"url(#clip892)\" style=\"stroke:#000000; stroke-linecap:round; stroke-linejoin:round; stroke-width:2; stroke-opacity:0.1; fill:none\" points=\"284.422,1244.6 2352.76,1244.6 \"/>\n",
       "<polyline clip-path=\"url(#clip892)\" style=\"stroke:#000000; stroke-linecap:round; stroke-linejoin:round; stroke-width:2; stroke-opacity:0.1; fill:none\" points=\"284.422,952.82 2352.76,952.82 \"/>\n",
       "<polyline clip-path=\"url(#clip892)\" style=\"stroke:#000000; stroke-linecap:round; stroke-linejoin:round; stroke-width:2; stroke-opacity:0.1; fill:none\" points=\"284.422,661.045 2352.76,661.045 \"/>\n",
       "<polyline clip-path=\"url(#clip892)\" style=\"stroke:#000000; stroke-linecap:round; stroke-linejoin:round; stroke-width:2; stroke-opacity:0.1; fill:none\" points=\"284.422,369.269 2352.76,369.269 \"/>\n",
       "<polyline clip-path=\"url(#clip890)\" style=\"stroke:#000000; stroke-linecap:round; stroke-linejoin:round; stroke-width:4; stroke-opacity:1; fill:none\" points=\"284.422,1423.18 284.422,123.472 \"/>\n",
       "<polyline clip-path=\"url(#clip890)\" style=\"stroke:#000000; stroke-linecap:round; stroke-linejoin:round; stroke-width:4; stroke-opacity:1; fill:none\" points=\"284.422,1244.6 303.319,1244.6 \"/>\n",
       "<polyline clip-path=\"url(#clip890)\" style=\"stroke:#000000; stroke-linecap:round; stroke-linejoin:round; stroke-width:4; stroke-opacity:1; fill:none\" points=\"284.422,952.82 303.319,952.82 \"/>\n",
       "<polyline clip-path=\"url(#clip890)\" style=\"stroke:#000000; stroke-linecap:round; stroke-linejoin:round; stroke-width:4; stroke-opacity:1; fill:none\" points=\"284.422,661.045 303.319,661.045 \"/>\n",
       "<polyline clip-path=\"url(#clip890)\" style=\"stroke:#000000; stroke-linecap:round; stroke-linejoin:round; stroke-width:4; stroke-opacity:1; fill:none\" points=\"284.422,369.269 303.319,369.269 \"/>\n",
       "<path clip-path=\"url(#clip890)\" d=\"M50.9921 1245.05 L80.6679 1245.05 L80.6679 1248.98 L50.9921 1248.98 L50.9921 1245.05 Z\" fill=\"#000000\" fill-rule=\"evenodd\" fill-opacity=\"1\" /><path clip-path=\"url(#clip890)\" d=\"M100.76 1230.39 Q97.1493 1230.39 95.3206 1233.96 Q93.515 1237.5 93.515 1244.63 Q93.515 1251.74 95.3206 1255.3 Q97.1493 1258.84 100.76 1258.84 Q104.395 1258.84 106.2 1255.3 Q108.029 1251.74 108.029 1244.63 Q108.029 1237.5 106.2 1233.96 Q104.395 1230.39 100.76 1230.39 M100.76 1226.69 Q106.571 1226.69 109.626 1231.3 Q112.705 1235.88 112.705 1244.63 Q112.705 1253.36 109.626 1257.96 Q106.571 1262.55 100.76 1262.55 Q94.9502 1262.55 91.8715 1257.96 Q88.816 1253.36 88.816 1244.63 Q88.816 1235.88 91.8715 1231.3 Q94.9502 1226.69 100.76 1226.69 Z\" fill=\"#000000\" fill-rule=\"evenodd\" fill-opacity=\"1\" /><path clip-path=\"url(#clip890)\" d=\"M120.922 1256 L125.807 1256 L125.807 1261.88 L120.922 1261.88 L120.922 1256 Z\" fill=\"#000000\" fill-rule=\"evenodd\" fill-opacity=\"1\" /><path clip-path=\"url(#clip890)\" d=\"M145.992 1230.39 Q142.381 1230.39 140.552 1233.96 Q138.746 1237.5 138.746 1244.63 Q138.746 1251.74 140.552 1255.3 Q142.381 1258.84 145.992 1258.84 Q149.626 1258.84 151.431 1255.3 Q153.26 1251.74 153.26 1244.63 Q153.26 1237.5 151.431 1233.96 Q149.626 1230.39 145.992 1230.39 M145.992 1226.69 Q151.802 1226.69 154.857 1231.3 Q157.936 1235.88 157.936 1244.63 Q157.936 1253.36 154.857 1257.96 Q151.802 1262.55 145.992 1262.55 Q140.181 1262.55 137.103 1257.96 Q134.047 1253.36 134.047 1244.63 Q134.047 1235.88 137.103 1231.3 Q140.181 1226.69 145.992 1226.69 Z\" fill=\"#000000\" fill-rule=\"evenodd\" fill-opacity=\"1\" /><path clip-path=\"url(#clip890)\" d=\"M176.153 1230.39 Q172.542 1230.39 170.714 1233.96 Q168.908 1237.5 168.908 1244.63 Q168.908 1251.74 170.714 1255.3 Q172.542 1258.84 176.153 1258.84 Q179.788 1258.84 181.593 1255.3 Q183.422 1251.74 183.422 1244.63 Q183.422 1237.5 181.593 1233.96 Q179.788 1230.39 176.153 1230.39 M176.153 1226.69 Q181.964 1226.69 185.019 1231.3 Q188.098 1235.88 188.098 1244.63 Q188.098 1253.36 185.019 1257.96 Q181.964 1262.55 176.153 1262.55 Q170.343 1262.55 167.265 1257.96 Q164.209 1253.36 164.209 1244.63 Q164.209 1235.88 167.265 1231.3 Q170.343 1226.69 176.153 1226.69 Z\" fill=\"#000000\" fill-rule=\"evenodd\" fill-opacity=\"1\" /><path clip-path=\"url(#clip890)\" d=\"M196.362 1227.32 L214.718 1227.32 L214.718 1231.25 L200.644 1231.25 L200.644 1239.72 Q201.663 1239.38 202.681 1239.21 Q203.7 1239.03 204.718 1239.03 Q210.505 1239.03 213.885 1242.2 Q217.264 1245.37 217.264 1250.79 Q217.264 1256.37 213.792 1259.47 Q210.32 1262.55 204.001 1262.55 Q201.825 1262.55 199.556 1262.18 Q197.311 1261.81 194.903 1261.06 L194.903 1256.37 Q196.987 1257.5 199.209 1258.06 Q201.431 1258.61 203.908 1258.61 Q207.913 1258.61 210.251 1256.5 Q212.588 1254.4 212.588 1250.79 Q212.588 1247.18 210.251 1245.07 Q207.913 1242.96 203.908 1242.96 Q202.033 1242.96 200.158 1243.38 Q198.306 1243.8 196.362 1244.68 L196.362 1227.32 Z\" fill=\"#000000\" fill-rule=\"evenodd\" fill-opacity=\"1\" /><path clip-path=\"url(#clip890)\" d=\"M236.477 1230.39 Q232.866 1230.39 231.037 1233.96 Q229.232 1237.5 229.232 1244.63 Q229.232 1251.74 231.037 1255.3 Q232.866 1258.84 236.477 1258.84 Q240.111 1258.84 241.917 1255.3 Q243.746 1251.74 243.746 1244.63 Q243.746 1237.5 241.917 1233.96 Q240.111 1230.39 236.477 1230.39 M236.477 1226.69 Q242.287 1226.69 245.343 1231.3 Q248.422 1235.88 248.422 1244.63 Q248.422 1253.36 245.343 1257.96 Q242.287 1262.55 236.477 1262.55 Q230.667 1262.55 227.588 1257.96 Q224.533 1253.36 224.533 1244.63 Q224.533 1235.88 227.588 1231.3 Q230.667 1226.69 236.477 1226.69 Z\" fill=\"#000000\" fill-rule=\"evenodd\" fill-opacity=\"1\" /><path clip-path=\"url(#clip890)\" d=\"M51.9875 953.271 L81.6633 953.271 L81.6633 957.206 L51.9875 957.206 L51.9875 953.271 Z\" fill=\"#000000\" fill-rule=\"evenodd\" fill-opacity=\"1\" /><path clip-path=\"url(#clip890)\" d=\"M101.756 938.619 Q98.1447 938.619 96.316 942.183 Q94.5104 945.725 94.5104 952.855 Q94.5104 959.961 96.316 963.526 Q98.1447 967.067 101.756 967.067 Q105.39 967.067 107.196 963.526 Q109.024 959.961 109.024 952.855 Q109.024 945.725 107.196 942.183 Q105.39 938.619 101.756 938.619 M101.756 934.915 Q107.566 934.915 110.621 939.521 Q113.7 944.105 113.7 952.855 Q113.7 961.581 110.621 966.188 Q107.566 970.771 101.756 970.771 Q95.9456 970.771 92.8669 966.188 Q89.8114 961.581 89.8114 952.855 Q89.8114 944.105 92.8669 939.521 Q95.9456 934.915 101.756 934.915 Z\" fill=\"#000000\" fill-rule=\"evenodd\" fill-opacity=\"1\" /><path clip-path=\"url(#clip890)\" d=\"M121.918 964.22 L126.802 964.22 L126.802 970.1 L121.918 970.1 L121.918 964.22 Z\" fill=\"#000000\" fill-rule=\"evenodd\" fill-opacity=\"1\" /><path clip-path=\"url(#clip890)\" d=\"M146.987 938.619 Q143.376 938.619 141.547 942.183 Q139.742 945.725 139.742 952.855 Q139.742 959.961 141.547 963.526 Q143.376 967.067 146.987 967.067 Q150.621 967.067 152.427 963.526 Q154.255 959.961 154.255 952.855 Q154.255 945.725 152.427 942.183 Q150.621 938.619 146.987 938.619 M146.987 934.915 Q152.797 934.915 155.853 939.521 Q158.931 944.105 158.931 952.855 Q158.931 961.581 155.853 966.188 Q152.797 970.771 146.987 970.771 Q141.177 970.771 138.098 966.188 Q135.043 961.581 135.043 952.855 Q135.043 944.105 138.098 939.521 Q141.177 934.915 146.987 934.915 Z\" fill=\"#000000\" fill-rule=\"evenodd\" fill-opacity=\"1\" /><path clip-path=\"url(#clip890)\" d=\"M177.149 938.619 Q173.538 938.619 171.709 942.183 Q169.904 945.725 169.904 952.855 Q169.904 959.961 171.709 963.526 Q173.538 967.067 177.149 967.067 Q180.783 967.067 182.589 963.526 Q184.417 959.961 184.417 952.855 Q184.417 945.725 182.589 942.183 Q180.783 938.619 177.149 938.619 M177.149 934.915 Q182.959 934.915 186.015 939.521 Q189.093 944.105 189.093 952.855 Q189.093 961.581 186.015 966.188 Q182.959 970.771 177.149 970.771 Q171.339 970.771 168.26 966.188 Q165.204 961.581 165.204 952.855 Q165.204 944.105 168.26 939.521 Q171.339 934.915 177.149 934.915 Z\" fill=\"#000000\" fill-rule=\"evenodd\" fill-opacity=\"1\" /><path clip-path=\"url(#clip890)\" d=\"M201.339 966.165 L217.658 966.165 L217.658 970.1 L195.714 970.1 L195.714 966.165 Q198.376 963.41 202.959 958.78 Q207.565 954.128 208.746 952.785 Q210.991 950.262 211.871 948.526 Q212.774 946.767 212.774 945.077 Q212.774 942.322 210.829 940.586 Q208.908 938.85 205.806 938.85 Q203.607 938.85 201.153 939.614 Q198.723 940.378 195.945 941.929 L195.945 937.207 Q198.769 936.072 201.223 935.494 Q203.676 934.915 205.714 934.915 Q211.084 934.915 214.278 937.6 Q217.473 940.285 217.473 944.776 Q217.473 946.906 216.663 948.827 Q215.876 950.725 213.769 953.318 Q213.19 953.989 210.088 957.206 Q206.987 960.401 201.339 966.165 Z\" fill=\"#000000\" fill-rule=\"evenodd\" fill-opacity=\"1\" /><path clip-path=\"url(#clip890)\" d=\"M227.519 935.54 L245.875 935.54 L245.875 939.475 L231.801 939.475 L231.801 947.947 Q232.82 947.6 233.838 947.438 Q234.857 947.253 235.875 947.253 Q241.662 947.253 245.042 950.424 Q248.422 953.595 248.422 959.012 Q248.422 964.591 244.949 967.692 Q241.477 970.771 235.158 970.771 Q232.982 970.771 230.713 970.401 Q228.468 970.03 226.061 969.29 L226.061 964.591 Q228.144 965.725 230.366 966.28 Q232.588 966.836 235.065 966.836 Q239.07 966.836 241.408 964.73 Q243.746 962.623 243.746 959.012 Q243.746 955.401 241.408 953.294 Q239.07 951.188 235.065 951.188 Q233.19 951.188 231.315 951.605 Q229.463 952.021 227.519 952.901 L227.519 935.54 Z\" fill=\"#000000\" fill-rule=\"evenodd\" fill-opacity=\"1\" /><path clip-path=\"url(#clip890)\" d=\"M100.76 646.843 Q97.1493 646.843 95.3206 650.408 Q93.515 653.95 93.515 661.079 Q93.515 668.186 95.3206 671.751 Q97.1493 675.292 100.76 675.292 Q104.395 675.292 106.2 671.751 Q108.029 668.186 108.029 661.079 Q108.029 653.95 106.2 650.408 Q104.395 646.843 100.76 646.843 M100.76 643.14 Q106.571 643.14 109.626 647.746 Q112.705 652.329 112.705 661.079 Q112.705 669.806 109.626 674.413 Q106.571 678.996 100.76 678.996 Q94.9502 678.996 91.8715 674.413 Q88.816 669.806 88.816 661.079 Q88.816 652.329 91.8715 647.746 Q94.9502 643.14 100.76 643.14 Z\" fill=\"#000000\" fill-rule=\"evenodd\" fill-opacity=\"1\" /><path clip-path=\"url(#clip890)\" d=\"M120.922 672.445 L125.807 672.445 L125.807 678.325 L120.922 678.325 L120.922 672.445 Z\" fill=\"#000000\" fill-rule=\"evenodd\" fill-opacity=\"1\" /><path clip-path=\"url(#clip890)\" d=\"M145.992 646.843 Q142.381 646.843 140.552 650.408 Q138.746 653.95 138.746 661.079 Q138.746 668.186 140.552 671.751 Q142.381 675.292 145.992 675.292 Q149.626 675.292 151.431 671.751 Q153.26 668.186 153.26 661.079 Q153.26 653.95 151.431 650.408 Q149.626 646.843 145.992 646.843 M145.992 643.14 Q151.802 643.14 154.857 647.746 Q157.936 652.329 157.936 661.079 Q157.936 669.806 154.857 674.413 Q151.802 678.996 145.992 678.996 Q140.181 678.996 137.103 674.413 Q134.047 669.806 134.047 661.079 Q134.047 652.329 137.103 647.746 Q140.181 643.14 145.992 643.14 Z\" fill=\"#000000\" fill-rule=\"evenodd\" fill-opacity=\"1\" /><path clip-path=\"url(#clip890)\" d=\"M176.153 646.843 Q172.542 646.843 170.714 650.408 Q168.908 653.95 168.908 661.079 Q168.908 668.186 170.714 671.751 Q172.542 675.292 176.153 675.292 Q179.788 675.292 181.593 671.751 Q183.422 668.186 183.422 661.079 Q183.422 653.95 181.593 650.408 Q179.788 646.843 176.153 646.843 M176.153 643.14 Q181.964 643.14 185.019 647.746 Q188.098 652.329 188.098 661.079 Q188.098 669.806 185.019 674.413 Q181.964 678.996 176.153 678.996 Q170.343 678.996 167.265 674.413 Q164.209 669.806 164.209 661.079 Q164.209 652.329 167.265 647.746 Q170.343 643.14 176.153 643.14 Z\" fill=\"#000000\" fill-rule=\"evenodd\" fill-opacity=\"1\" /><path clip-path=\"url(#clip890)\" d=\"M206.315 646.843 Q202.704 646.843 200.876 650.408 Q199.07 653.95 199.07 661.079 Q199.07 668.186 200.876 671.751 Q202.704 675.292 206.315 675.292 Q209.95 675.292 211.755 671.751 Q213.584 668.186 213.584 661.079 Q213.584 653.95 211.755 650.408 Q209.95 646.843 206.315 646.843 M206.315 643.14 Q212.126 643.14 215.181 647.746 Q218.26 652.329 218.26 661.079 Q218.26 669.806 215.181 674.413 Q212.126 678.996 206.315 678.996 Q200.505 678.996 197.427 674.413 Q194.371 669.806 194.371 661.079 Q194.371 652.329 197.427 647.746 Q200.505 643.14 206.315 643.14 Z\" fill=\"#000000\" fill-rule=\"evenodd\" fill-opacity=\"1\" /><path clip-path=\"url(#clip890)\" d=\"M236.477 646.843 Q232.866 646.843 231.037 650.408 Q229.232 653.95 229.232 661.079 Q229.232 668.186 231.037 671.751 Q232.866 675.292 236.477 675.292 Q240.111 675.292 241.917 671.751 Q243.746 668.186 243.746 661.079 Q243.746 653.95 241.917 650.408 Q240.111 646.843 236.477 646.843 M236.477 643.14 Q242.287 643.14 245.343 647.746 Q248.422 652.329 248.422 661.079 Q248.422 669.806 245.343 674.413 Q242.287 678.996 236.477 678.996 Q230.667 678.996 227.588 674.413 Q224.533 669.806 224.533 661.079 Q224.533 652.329 227.588 647.746 Q230.667 643.14 236.477 643.14 Z\" fill=\"#000000\" fill-rule=\"evenodd\" fill-opacity=\"1\" /><path clip-path=\"url(#clip890)\" d=\"M101.756 355.068 Q98.1447 355.068 96.316 358.633 Q94.5104 362.175 94.5104 369.304 Q94.5104 376.411 96.316 379.975 Q98.1447 383.517 101.756 383.517 Q105.39 383.517 107.196 379.975 Q109.024 376.411 109.024 369.304 Q109.024 362.175 107.196 358.633 Q105.39 355.068 101.756 355.068 M101.756 351.364 Q107.566 351.364 110.621 355.971 Q113.7 360.554 113.7 369.304 Q113.7 378.031 110.621 382.637 Q107.566 387.221 101.756 387.221 Q95.9456 387.221 92.8669 382.637 Q89.8114 378.031 89.8114 369.304 Q89.8114 360.554 92.8669 355.971 Q95.9456 351.364 101.756 351.364 Z\" fill=\"#000000\" fill-rule=\"evenodd\" fill-opacity=\"1\" /><path clip-path=\"url(#clip890)\" d=\"M121.918 380.67 L126.802 380.67 L126.802 386.549 L121.918 386.549 L121.918 380.67 Z\" fill=\"#000000\" fill-rule=\"evenodd\" fill-opacity=\"1\" /><path clip-path=\"url(#clip890)\" d=\"M146.987 355.068 Q143.376 355.068 141.547 358.633 Q139.742 362.175 139.742 369.304 Q139.742 376.411 141.547 379.975 Q143.376 383.517 146.987 383.517 Q150.621 383.517 152.427 379.975 Q154.255 376.411 154.255 369.304 Q154.255 362.175 152.427 358.633 Q150.621 355.068 146.987 355.068 M146.987 351.364 Q152.797 351.364 155.853 355.971 Q158.931 360.554 158.931 369.304 Q158.931 378.031 155.853 382.637 Q152.797 387.221 146.987 387.221 Q141.177 387.221 138.098 382.637 Q135.043 378.031 135.043 369.304 Q135.043 360.554 138.098 355.971 Q141.177 351.364 146.987 351.364 Z\" fill=\"#000000\" fill-rule=\"evenodd\" fill-opacity=\"1\" /><path clip-path=\"url(#clip890)\" d=\"M177.149 355.068 Q173.538 355.068 171.709 358.633 Q169.904 362.175 169.904 369.304 Q169.904 376.411 171.709 379.975 Q173.538 383.517 177.149 383.517 Q180.783 383.517 182.589 379.975 Q184.417 376.411 184.417 369.304 Q184.417 362.175 182.589 358.633 Q180.783 355.068 177.149 355.068 M177.149 351.364 Q182.959 351.364 186.015 355.971 Q189.093 360.554 189.093 369.304 Q189.093 378.031 186.015 382.637 Q182.959 387.221 177.149 387.221 Q171.339 387.221 168.26 382.637 Q165.204 378.031 165.204 369.304 Q165.204 360.554 168.26 355.971 Q171.339 351.364 177.149 351.364 Z\" fill=\"#000000\" fill-rule=\"evenodd\" fill-opacity=\"1\" /><path clip-path=\"url(#clip890)\" d=\"M201.339 382.614 L217.658 382.614 L217.658 386.549 L195.714 386.549 L195.714 382.614 Q198.376 379.86 202.959 375.23 Q207.565 370.577 208.746 369.235 Q210.991 366.712 211.871 364.976 Q212.774 363.216 212.774 361.526 Q212.774 358.772 210.829 357.036 Q208.908 355.3 205.806 355.3 Q203.607 355.3 201.153 356.064 Q198.723 356.827 195.945 358.378 L195.945 353.656 Q198.769 352.522 201.223 351.943 Q203.676 351.364 205.714 351.364 Q211.084 351.364 214.278 354.05 Q217.473 356.735 217.473 361.226 Q217.473 363.355 216.663 365.276 Q215.876 367.175 213.769 369.767 Q213.19 370.438 210.088 373.656 Q206.987 376.85 201.339 382.614 Z\" fill=\"#000000\" fill-rule=\"evenodd\" fill-opacity=\"1\" /><path clip-path=\"url(#clip890)\" d=\"M227.519 351.989 L245.875 351.989 L245.875 355.925 L231.801 355.925 L231.801 364.397 Q232.82 364.05 233.838 363.888 Q234.857 363.702 235.875 363.702 Q241.662 363.702 245.042 366.874 Q248.422 370.045 248.422 375.462 Q248.422 381.04 244.949 384.142 Q241.477 387.221 235.158 387.221 Q232.982 387.221 230.713 386.85 Q228.468 386.48 226.061 385.739 L226.061 381.04 Q228.144 382.174 230.366 382.73 Q232.588 383.286 235.065 383.286 Q239.07 383.286 241.408 381.179 Q243.746 379.073 243.746 375.462 Q243.746 371.85 241.408 369.744 Q239.07 367.638 235.065 367.638 Q233.19 367.638 231.315 368.054 Q229.463 368.471 227.519 369.35 L227.519 351.989 Z\" fill=\"#000000\" fill-rule=\"evenodd\" fill-opacity=\"1\" /><path clip-path=\"url(#clip890)\" d=\"M1099.41 12.096 L1107.6 12.096 L1107.6 72.576 L1099.41 72.576 L1099.41 12.096 Z\" fill=\"#000000\" fill-rule=\"evenodd\" fill-opacity=\"1\" /><path clip-path=\"url(#clip890)\" d=\"M1161.27 45.1919 L1161.27 72.576 L1153.82 72.576 L1153.82 45.4349 Q1153.82 38.994 1151.31 35.7938 Q1148.8 32.5936 1143.77 32.5936 Q1137.74 32.5936 1134.25 36.4419 Q1130.77 40.2903 1130.77 46.9338 L1130.77 72.576 L1123.27 72.576 L1123.27 27.2059 L1130.77 27.2059 L1130.77 34.2544 Q1133.44 30.163 1137.05 28.1376 Q1140.69 26.1121 1145.43 26.1121 Q1153.25 26.1121 1157.26 30.9732 Q1161.27 35.7938 1161.27 45.1919 Z\" fill=\"#000000\" fill-rule=\"evenodd\" fill-opacity=\"1\" /><path clip-path=\"url(#clip890)\" d=\"M1176.14 27.2059 L1183.59 27.2059 L1183.59 72.576 L1176.14 72.576 L1176.14 27.2059 M1176.14 9.54393 L1183.59 9.54393 L1183.59 18.9825 L1176.14 18.9825 L1176.14 9.54393 Z\" fill=\"#000000\" fill-rule=\"evenodd\" fill-opacity=\"1\" /><path clip-path=\"url(#clip890)\" d=\"M1206.56 14.324 L1206.56 27.2059 L1221.91 27.2059 L1221.91 32.9987 L1206.56 32.9987 L1206.56 57.6282 Q1206.56 63.1779 1208.06 64.7578 Q1209.6 66.3376 1214.26 66.3376 L1221.91 66.3376 L1221.91 72.576 L1214.26 72.576 Q1205.63 72.576 1202.35 69.3758 Q1199.07 66.1351 1199.07 57.6282 L1199.07 32.9987 L1193.6 32.9987 L1193.6 27.2059 L1199.07 27.2059 L1199.07 14.324 L1206.56 14.324 Z\" fill=\"#000000\" fill-rule=\"evenodd\" fill-opacity=\"1\" /><path clip-path=\"url(#clip890)\" d=\"M1231.72 27.2059 L1239.17 27.2059 L1239.17 72.576 L1231.72 72.576 L1231.72 27.2059 M1231.72 9.54393 L1239.17 9.54393 L1239.17 18.9825 L1231.72 18.9825 L1231.72 9.54393 Z\" fill=\"#000000\" fill-rule=\"evenodd\" fill-opacity=\"1\" /><path clip-path=\"url(#clip890)\" d=\"M1275.39 49.7694 Q1266.35 49.7694 1262.87 51.8354 Q1259.38 53.9013 1259.38 58.8839 Q1259.38 62.8538 1261.98 65.2034 Q1264.61 67.5124 1269.11 67.5124 Q1275.3 67.5124 1279.03 63.1374 Q1282.8 58.7219 1282.8 51.4303 L1282.8 49.7694 L1275.39 49.7694 M1290.25 46.6907 L1290.25 72.576 L1282.8 72.576 L1282.8 65.6895 Q1280.25 69.8214 1276.44 71.8063 Q1272.63 73.7508 1267.12 73.7508 Q1260.15 73.7508 1256.02 69.8619 Q1251.93 65.9325 1251.93 59.3701 Q1251.93 51.7138 1257.04 47.825 Q1262.18 43.9361 1272.35 43.9361 L1282.8 43.9361 L1282.8 43.2069 Q1282.8 38.0623 1279.4 35.2672 Q1276.03 32.4315 1269.92 32.4315 Q1266.03 32.4315 1262.34 33.3632 Q1258.66 34.295 1255.25 36.1584 L1255.25 29.2718 Q1259.34 27.692 1263.19 26.9223 Q1267.04 26.1121 1270.69 26.1121 Q1280.53 26.1121 1285.39 31.2163 Q1290.25 36.3204 1290.25 46.6907 Z\" fill=\"#000000\" fill-rule=\"evenodd\" fill-opacity=\"1\" /><path clip-path=\"url(#clip890)\" d=\"M1305.61 9.54393 L1313.06 9.54393 L1313.06 72.576 L1305.61 72.576 L1305.61 9.54393 Z\" fill=\"#000000\" fill-rule=\"evenodd\" fill-opacity=\"1\" /><path clip-path=\"url(#clip890)\" d=\"M1363.53 18.8205 L1363.53 65.8515 L1373.42 65.8515 Q1385.94 65.8515 1391.73 60.1802 Q1397.56 54.509 1397.56 42.2752 Q1397.56 30.1225 1391.73 24.4918 Q1385.94 18.8205 1373.42 18.8205 L1363.53 18.8205 M1355.35 12.096 L1372.16 12.096 Q1389.74 12.096 1397.97 19.4281 Q1406.19 26.7198 1406.19 42.2752 Q1406.19 57.9117 1397.93 65.2439 Q1389.66 72.576 1372.16 72.576 L1355.35 72.576 L1355.35 12.096 Z\" fill=\"#000000\" fill-rule=\"evenodd\" fill-opacity=\"1\" /><path clip-path=\"url(#clip890)\" d=\"M1439.53 49.7694 Q1430.49 49.7694 1427.01 51.8354 Q1423.53 53.9013 1423.53 58.8839 Q1423.53 62.8538 1426.12 65.2034 Q1428.75 67.5124 1433.25 67.5124 Q1439.45 67.5124 1443.17 63.1374 Q1446.94 58.7219 1446.94 51.4303 L1446.94 49.7694 L1439.53 49.7694 M1454.4 46.6907 L1454.4 72.576 L1446.94 72.576 L1446.94 65.6895 Q1444.39 69.8214 1440.58 71.8063 Q1436.77 73.7508 1431.26 73.7508 Q1424.3 73.7508 1420.17 69.8619 Q1416.07 65.9325 1416.07 59.3701 Q1416.07 51.7138 1421.18 47.825 Q1426.32 43.9361 1436.49 43.9361 L1446.94 43.9361 L1446.94 43.2069 Q1446.94 38.0623 1443.54 35.2672 Q1440.18 32.4315 1434.06 32.4315 Q1430.17 32.4315 1426.48 33.3632 Q1422.8 34.295 1419.4 36.1584 L1419.4 29.2718 Q1423.49 27.692 1427.34 26.9223 Q1431.18 26.1121 1434.83 26.1121 Q1444.67 26.1121 1449.53 31.2163 Q1454.4 36.3204 1454.4 46.6907 Z\" fill=\"#000000\" fill-rule=\"evenodd\" fill-opacity=\"1\" /><path clip-path=\"url(#clip890)\" d=\"M1477.12 14.324 L1477.12 27.2059 L1492.47 27.2059 L1492.47 32.9987 L1477.12 32.9987 L1477.12 57.6282 Q1477.12 63.1779 1478.62 64.7578 Q1480.16 66.3376 1484.82 66.3376 L1492.47 66.3376 L1492.47 72.576 L1484.82 72.576 Q1476.19 72.576 1472.91 69.3758 Q1469.63 66.1351 1469.63 57.6282 L1469.63 32.9987 L1464.16 32.9987 L1464.16 27.2059 L1469.63 27.2059 L1469.63 14.324 L1477.12 14.324 Z\" fill=\"#000000\" fill-rule=\"evenodd\" fill-opacity=\"1\" /><path clip-path=\"url(#clip890)\" d=\"M1522.9 49.7694 Q1513.86 49.7694 1510.38 51.8354 Q1506.9 53.9013 1506.9 58.8839 Q1506.9 62.8538 1509.49 65.2034 Q1512.12 67.5124 1516.62 67.5124 Q1522.82 67.5124 1526.54 63.1374 Q1530.31 58.7219 1530.31 51.4303 L1530.31 49.7694 L1522.9 49.7694 M1537.76 46.6907 L1537.76 72.576 L1530.31 72.576 L1530.31 65.6895 Q1527.76 69.8214 1523.95 71.8063 Q1520.14 73.7508 1514.63 73.7508 Q1507.66 73.7508 1503.53 69.8619 Q1499.44 65.9325 1499.44 59.3701 Q1499.44 51.7138 1504.55 47.825 Q1509.69 43.9361 1519.86 43.9361 L1530.31 43.9361 L1530.31 43.2069 Q1530.31 38.0623 1526.91 35.2672 Q1523.54 32.4315 1517.43 32.4315 Q1513.54 32.4315 1509.85 33.3632 Q1506.17 34.295 1502.76 36.1584 L1502.76 29.2718 Q1506.85 27.692 1510.7 26.9223 Q1514.55 26.1121 1518.2 26.1121 Q1528.04 26.1121 1532.9 31.2163 Q1537.76 36.3204 1537.76 46.6907 Z\" fill=\"#000000\" fill-rule=\"evenodd\" fill-opacity=\"1\" /><polyline clip-path=\"url(#clip892)\" style=\"stroke:#009af9; stroke-linecap:round; stroke-linejoin:round; stroke-width:4; stroke-opacity:1; fill:none\" points=\"342.959,661.045 345.398,661.045 347.838,661.045 350.277,661.045 352.716,661.045 355.155,661.045 357.594,661.045 360.033,661.045 362.472,661.045 364.911,661.045 367.35,661.045 369.789,661.045 372.228,661.045 374.667,661.045 377.106,661.045 379.545,661.045 381.985,661.045 384.424,661.045 386.863,661.045 389.302,661.045 391.741,661.045 394.18,661.045 396.619,661.045 399.058,661.045 401.497,661.045 403.936,661.045 406.375,661.045 408.814,661.045 411.253,661.045 413.693,661.045 416.132,661.045 418.571,661.045 421.01,661.045 423.449,661.045 425.888,661.045 428.327,661.045 430.766,661.045 433.205,661.045 435.644,661.045 438.083,661.045 440.522,661.045 442.961,661.045 445.4,661.045 447.84,661.045 450.279,661.045 452.718,661.045 455.157,661.045 457.596,661.045 460.035,661.045 462.474,661.045 464.913,661.045 467.352,661.045 469.791,661.045 472.23,661.045 474.669,661.045 477.108,661.045 479.547,661.045 481.987,661.045 484.426,661.045 486.865,661.045 489.304,661.045 491.743,661.045 494.182,661.045 496.621,661.045 499.06,661.045 501.499,661.045 503.938,661.045 506.377,661.045 508.816,661.045 511.255,661.045 513.695,661.045 516.134,661.045 518.573,661.045 521.012,661.045 523.451,661.045 525.89,661.045 528.329,661.045 530.768,661.045 533.207,661.045 535.646,661.045 538.085,661.045 540.524,661.045 542.963,661.045 545.402,661.045 547.842,661.045 550.281,661.045 552.72,661.045 555.159,661.045 557.598,661.045 560.037,661.045 562.476,661.045 564.915,661.045 567.354,661.045 569.793,661.045 572.232,661.045 574.671,661.045 577.11,661.045 579.55,661.045 581.989,661.045 584.428,661.045 586.867,661.045 589.306,661.045 591.745,661.045 594.184,661.045 596.623,661.045 599.062,661.045 601.501,661.045 603.94,661.045 606.379,661.045 608.818,661.045 611.257,661.045 613.697,661.045 616.136,661.045 618.575,661.045 621.014,661.045 623.453,661.045 625.892,661.045 628.331,661.045 630.77,661.045 633.209,661.045 635.648,661.045 638.087,661.045 640.526,661.045 642.965,661.045 645.404,661.045 647.844,661.045 650.283,661.045 652.722,661.045 655.161,661.045 657.6,661.045 660.039,661.045 662.478,661.045 664.917,661.045 667.356,661.045 669.795,661.045 672.234,661.045 674.673,661.045 677.112,661.045 679.552,661.045 681.991,661.045 684.43,661.045 686.869,661.045 689.308,661.045 691.747,661.045 694.186,661.045 696.625,661.045 699.064,661.045 701.503,661.045 703.942,661.045 706.381,661.045 708.82,661.045 711.259,661.045 713.699,661.045 716.138,661.045 718.577,661.045 721.016,661.045 723.455,661.045 725.894,661.045 728.333,661.045 730.772,661.045 733.211,661.045 735.65,661.045 738.089,661.045 740.528,661.045 742.967,661.045 745.407,661.045 747.846,661.045 750.285,661.045 752.724,661.045 755.163,661.045 757.602,661.045 760.041,661.045 762.48,661.045 764.919,661.045 767.358,661.045 769.797,661.045 772.236,661.045 774.675,661.045 777.114,661.045 779.554,661.045 781.993,661.045 784.432,661.045 786.871,661.045 789.31,661.045 791.749,661.045 794.188,661.045 796.627,661.045 799.066,661.045 801.505,661.045 803.944,661.045 806.383,661.045 808.822,661.044 811.261,661.044 813.701,661.044 816.14,661.044 818.579,661.044 821.018,661.044 823.457,661.044 825.896,661.044 828.335,661.044 830.774,661.044 833.213,661.044 835.652,661.044 838.091,661.044 840.53,661.044 842.969,661.044 845.409,661.044 847.848,661.044 850.287,661.044 852.726,661.044 855.165,661.044 857.604,661.044 860.043,661.044 862.482,661.044 864.921,661.044 867.36,661.044 869.799,661.044 872.238,661.044 874.677,661.044 877.116,661.043 879.556,661.043 881.995,661.043 884.434,661.043 886.873,661.043 889.312,661.043 891.751,661.043 894.19,661.043 896.629,661.043 899.068,661.043 901.507,661.042 903.946,661.042 906.385,661.042 908.824,661.042 911.263,661.042 913.703,661.042 916.142,661.041 918.581,661.041 921.02,661.041 923.459,661.041 925.898,661.041 928.337,661.04 930.776,661.04 933.215,661.04 935.654,661.039 938.093,661.039 940.532,661.039 942.971,661.038 945.411,661.038 947.85,661.038 950.289,661.037 952.728,661.037 955.167,661.036 957.606,661.036 960.045,661.036 962.484,661.035 964.923,661.034 967.362,661.034 969.801,661.033 972.24,661.033 974.679,661.032 977.118,661.031 979.558,661.031 981.997,661.03 984.436,661.029 986.875,661.028 989.314,661.027 991.753,661.026 994.192,661.026 996.631,661.025 999.07,661.024 1001.51,661.022 1003.95,661.021 1006.39,661.02 1008.83,661.019 1011.27,661.018 1013.7,661.016 1016.14,661.015 1018.58,661.014 1021.02,661.012 1023.46,661.011 1025.9,661.009 1028.34,661.008 1030.78,661.006 1033.22,661.004 1035.66,661.002 1038.1,661.001 1040.53,660.999 1042.97,660.997 1045.41,660.995 1047.85,660.993 1050.29,660.991 1052.73,660.988 1055.17,660.986 1057.61,660.984 1060.05,660.982 1062.49,660.979 1064.93,660.977 1067.36,660.974 1069.8,660.972 1072.24,660.969 1074.68,660.966 1077.12,660.963 1079.56,660.961 1082,660.958 1084.44,660.955 1086.88,660.952 1089.32,660.949 1091.75,660.946 1094.19,660.943 1096.63,660.94 1099.07,660.937 1101.51,660.934 1103.95,660.931 1106.39,660.928 1108.83,660.925 1111.27,660.922 1113.71,660.918 1116.15,660.915 1118.58,660.912 1121.02,660.909 1123.46,660.906 1125.9,660.903 1128.34,660.9 1130.78,660.897 1133.22,660.894 1135.66,660.891 1138.1,660.888 1140.54,660.886 1142.98,660.883 1145.41,660.88 1147.85,660.878 1150.29,660.875 1152.73,660.873 1155.17,660.871 1157.61,660.869 1160.05,660.867 1162.49,660.865 1164.93,660.863 1167.37,660.861 1169.81,660.859 1172.24,660.858 1174.68,660.856 1177.12,660.855 1179.56,660.854 1182,660.853 1184.44,660.852 1186.88,660.851 1189.32,660.85 1191.76,660.85 1194.2,660.849 1196.64,660.849 1199.07,660.848 1201.51,660.848 1203.95,660.848 1206.39,660.848 1208.83,660.848 1211.27,660.847 1213.71,660.847 1216.15,660.847 1218.59,660.847 1221.03,660.847 1223.46,660.847 1225.9,660.847 1228.34,660.847 1230.78,660.847 1233.22,660.847 1235.66,660.846 1238.1,660.846 1240.54,660.845 1242.98,660.844 1245.42,660.843 1247.86,660.842 1250.29,660.841 1252.73,660.839 1255.17,660.837 1257.61,660.835 1260.05,660.832 1262.49,660.829 1264.93,660.826 1267.37,660.823 1269.81,660.819 1272.25,660.815 1274.69,660.811 1277.12,660.806 1279.56,660.801 1282,660.795 1284.44,660.789 1286.88,660.783 1289.32,660.776 1291.76,660.769 1294.2,660.761 1296.64,660.753 1299.08,660.745 1301.52,660.736 1303.95,660.728 1306.39,660.718 1308.83,660.709 1311.27,660.699 1313.71,660.689 1316.15,660.678 1318.59,660.667 1321.03,660.656 1323.47,660.645 1325.91,660.634 1328.35,660.623 1330.78,660.611 1333.22,660.6 1335.66,660.588 1338.1,660.576 1340.54,660.564 1342.98,660.553 1345.42,660.541 1347.86,660.529 1350.3,660.518 1352.74,660.507 1355.17,660.495 1357.61,660.484 1360.05,660.473 1362.49,660.463 1364.93,660.453 1367.37,660.442 1369.81,660.433 1372.25,660.423 1374.69,660.414 1377.13,660.405 1379.57,660.396 1382,660.388 1384.44,660.38 1386.88,660.373 1389.32,660.365 1391.76,660.358 1394.2,660.352 1396.64,660.346 1399.08,660.34 1401.52,660.334 1403.96,660.329 1406.4,660.324 1408.83,660.32 1411.27,660.316 1413.71,660.312 1416.15,660.308 1418.59,660.305 1421.03,660.302 1423.47,660.299 1425.91,660.296 1428.35,660.294 1430.79,660.292 1433.23,660.29 1435.66,660.288 1438.1,660.286 1440.54,660.285 1442.98,660.283 1445.42,660.282 1447.86,660.281 1450.3,660.28 1452.74,660.279 1455.18,660.279 1457.62,660.278 1460.06,660.277 1462.49,660.277 1464.93,660.277 1467.37,660.276 1469.81,660.276 1472.25,660.276 1474.69,660.275 1477.13,660.275 1479.57,660.275 1482.01,660.275 1484.45,660.275 1486.88,660.274 1489.32,660.274 1491.76,660.274 1494.2,660.274 1496.64,660.274 1499.08,660.274 1501.52,660.274 1503.96,660.274 1506.4,660.274 1508.84,660.274 1511.28,660.274 1513.71,660.274 1516.15,660.274 1518.59,660.274 1521.03,660.274 1523.47,660.274 1525.91,660.274 1528.35,660.274 1530.79,660.274 1533.23,660.274 1535.67,660.274 1538.11,660.274 1540.54,660.274 1542.98,660.274 1545.42,660.274 1547.86,660.274 1550.3,660.274 1552.74,660.274 1555.18,660.274 1557.62,660.274 1560.06,660.274 1562.5,660.274 1564.94,660.274 1567.37,660.274 1569.81,660.274 1572.25,660.274 1574.69,660.274 1577.13,660.274 1579.57,660.274 1582.01,660.274 1584.45,660.274 1586.89,660.274 1589.33,660.274 1591.76,660.274 1594.2,660.274 1596.64,660.274 1599.08,660.274 1601.52,660.274 1603.96,660.274 1606.4,660.274 1608.84,660.274 1611.28,660.274 1613.72,660.274 1616.16,660.274 1618.59,660.274 1621.03,660.274 1623.47,660.274 1625.91,660.274 1628.35,660.274 1630.79,660.274 1633.23,660.274 1635.67,660.274 1638.11,660.274 1640.55,660.274 1642.99,660.274 1645.42,660.274 1647.86,660.274 1650.3,660.274 1652.74,660.274 1655.18,660.274 1657.62,660.274 1660.06,660.274 1662.5,660.274 1664.94,660.274 1667.38,660.274 1669.82,660.274 1672.25,660.274 1674.69,660.274 1677.13,660.274 1679.57,660.274 1682.01,660.274 1684.45,660.274 1686.89,660.274 1689.33,660.274 1691.77,660.274 1694.21,660.274 1696.65,660.274 1699.08,660.274 1701.52,660.274 1703.96,660.274 1706.4,660.274 1708.84,660.274 1711.28,660.274 1713.72,660.274 1716.16,660.274 1718.6,660.274 1721.04,660.274 1723.47,660.274 1725.91,660.274 1728.35,660.274 1730.79,660.274 1733.23,660.274 1735.67,660.274 1738.11,660.274 1740.55,660.274 1742.99,660.274 1745.43,660.274 1747.87,660.274 1750.3,660.274 1752.74,660.274 1755.18,660.274 1757.62,660.274 1760.06,660.274 1762.5,660.274 1764.94,660.274 1767.38,660.274 1769.82,660.274 1772.26,660.274 1774.7,660.274 1777.13,660.274 1779.57,660.274 1782.01,660.274 1784.45,660.274 1786.89,660.274 1789.33,660.274 1791.77,660.274 1794.21,660.274 1796.65,660.274 1799.09,660.274 1801.53,660.274 1803.96,660.274 1806.4,660.274 1808.84,660.274 1811.28,660.274 1813.72,660.274 1816.16,660.274 1818.6,660.274 1821.04,660.274 1823.48,660.274 1825.92,660.274 1828.36,660.274 1830.79,660.274 1833.23,660.274 1835.67,660.274 1838.11,660.274 1840.55,660.274 1842.99,660.274 1845.43,660.274 1847.87,660.274 1850.31,660.274 1852.75,660.274 1855.18,660.274 1857.62,660.274 1860.06,660.274 1862.5,660.274 1864.94,660.274 1867.38,660.274 1869.82,660.274 1872.26,660.274 1874.7,660.274 1877.14,660.274 1879.58,660.274 1882.01,660.274 1884.45,660.274 1886.89,660.274 1889.33,660.274 1891.77,660.274 1894.21,660.274 1896.65,660.274 1899.09,660.274 1901.53,660.274 1903.97,660.274 1906.41,660.274 1908.84,660.274 1911.28,660.274 1913.72,660.274 1916.16,660.274 1918.6,660.274 1921.04,660.274 1923.48,660.274 1925.92,660.274 1928.36,660.274 1930.8,660.274 1933.24,660.274 1935.67,660.274 1938.11,660.274 1940.55,660.274 1942.99,660.274 1945.43,660.274 1947.87,660.274 1950.31,660.274 1952.75,660.274 1955.19,660.274 1957.63,660.274 1960.07,660.274 1962.5,660.274 1964.94,660.274 1967.38,660.274 1969.82,660.274 1972.26,660.274 1974.7,660.274 1977.14,660.274 1979.58,660.274 1982.02,660.274 1984.46,660.274 1986.89,660.274 1989.33,660.274 1991.77,660.274 1994.21,660.274 1996.65,660.274 1999.09,660.274 2001.53,660.274 2003.97,660.274 2006.41,660.274 2008.85,660.274 2011.29,660.274 2013.72,660.274 2016.16,660.274 2018.6,660.274 2021.04,660.274 2023.48,660.274 2025.92,660.274 2028.36,660.274 2030.8,660.274 2033.24,660.274 2035.68,660.274 2038.12,660.274 2040.55,660.274 2042.99,660.274 2045.43,660.274 2047.87,660.274 2050.31,660.274 2052.75,660.274 2055.19,660.274 2057.63,660.274 2060.07,660.274 2062.51,660.274 2064.95,660.274 2067.38,660.274 2069.82,660.274 2072.26,660.274 2074.7,660.274 2077.14,660.274 2079.58,660.274 2082.02,660.274 2084.46,660.274 2086.9,660.274 2089.34,660.274 2091.78,660.274 2094.21,660.274 2096.65,660.274 2099.09,660.274 2101.53,660.274 2103.97,660.274 2106.41,660.274 2108.85,660.274 2111.29,660.274 2113.73,660.274 2116.17,660.274 2118.6,660.274 2121.04,660.274 2123.48,660.274 2125.92,660.274 2128.36,660.274 2130.8,660.274 2133.24,660.274 2135.68,660.274 2138.12,660.274 2140.56,660.274 2143,660.274 2145.43,660.274 2147.87,660.274 2150.31,660.274 2152.75,660.274 2155.19,660.274 2157.63,660.274 2160.07,660.274 2162.51,660.274 2164.95,660.274 2167.39,660.274 2169.83,660.274 2172.26,660.274 2174.7,660.274 2177.14,660.274 2179.58,660.274 2182.02,660.274 2184.46,660.274 2186.9,660.274 2189.34,660.274 2191.78,660.274 2194.22,660.274 2196.66,660.274 2199.09,660.274 2201.53,660.274 2203.97,660.274 2206.41,660.274 2208.85,660.274 2211.29,660.274 2213.73,660.274 2216.17,660.274 2218.61,660.274 2221.05,660.274 2223.49,660.274 2225.92,660.274 2228.36,660.274 2230.8,660.274 2233.24,660.274 2235.68,660.274 2238.12,660.274 2240.56,660.274 2243,660.274 2245.44,660.274 2247.88,660.274 2250.31,660.274 2252.75,660.274 2255.19,660.274 2257.63,660.274 2260.07,660.274 2262.51,660.274 2264.95,660.274 2267.39,660.274 2269.83,660.274 2272.27,660.274 2274.71,660.274 2277.14,660.274 2279.58,660.274 2282.02,660.274 2284.46,660.274 2286.9,660.274 2289.34,660.274 2291.78,660.274 2294.22,660.274 \"/>\n",
       "<polyline clip-path=\"url(#clip892)\" style=\"stroke:#e26f46; stroke-linecap:round; stroke-linejoin:round; stroke-width:4; stroke-opacity:1; fill:none\" points=\"342.959,661.045 345.398,661.045 347.838,661.045 350.277,661.045 352.716,661.045 355.155,661.045 357.594,661.045 360.033,661.045 362.472,661.045 364.911,661.045 367.35,661.045 369.789,661.045 372.228,661.045 374.667,661.045 377.106,661.045 379.545,661.045 381.985,661.045 384.424,661.045 386.863,661.045 389.302,661.045 391.741,661.045 394.18,661.045 396.619,661.045 399.058,661.045 401.497,661.045 403.936,661.045 406.375,661.045 408.814,661.045 411.253,661.045 413.693,661.045 416.132,661.045 418.571,661.045 421.01,661.045 423.449,661.045 425.888,661.045 428.327,661.045 430.766,661.045 433.205,661.045 435.644,661.045 438.083,661.045 440.522,661.045 442.961,661.045 445.4,661.045 447.84,661.045 450.279,661.045 452.718,661.045 455.157,661.045 457.596,661.045 460.035,661.045 462.474,661.045 464.913,661.045 467.352,661.045 469.791,661.045 472.23,661.045 474.669,661.045 477.108,661.045 479.547,661.045 481.987,661.045 484.426,661.045 486.865,661.045 489.304,661.045 491.743,661.045 494.182,661.045 496.621,661.045 499.06,661.045 501.499,661.045 503.938,661.045 506.377,661.045 508.816,661.045 511.255,661.045 513.695,661.045 516.134,661.045 518.573,661.045 521.012,661.045 523.451,661.045 525.89,661.045 528.329,661.045 530.768,661.045 533.207,661.045 535.646,661.045 538.085,661.045 540.524,661.045 542.963,661.045 545.402,661.045 547.842,661.045 550.281,661.045 552.72,661.045 555.159,661.045 557.598,661.045 560.037,661.045 562.476,661.045 564.915,661.045 567.354,661.045 569.793,661.045 572.232,661.045 574.671,661.045 577.11,661.045 579.55,661.045 581.989,661.045 584.428,661.045 586.867,661.045 589.306,661.045 591.745,661.045 594.184,661.045 596.623,661.045 599.062,661.045 601.501,661.045 603.94,661.045 606.379,661.045 608.818,661.045 611.257,661.045 613.697,661.045 616.136,661.045 618.575,661.045 621.014,661.045 623.453,661.045 625.892,661.045 628.331,661.045 630.77,661.045 633.209,661.045 635.648,661.045 638.087,661.045 640.526,661.045 642.965,661.045 645.404,661.045 647.844,661.045 650.283,661.045 652.722,661.045 655.161,661.045 657.6,661.045 660.039,661.045 662.478,661.045 664.917,661.045 667.356,661.045 669.795,661.045 672.234,661.045 674.673,661.045 677.112,661.045 679.552,661.045 681.991,661.045 684.43,661.045 686.869,661.045 689.308,661.045 691.747,661.045 694.186,661.045 696.625,661.045 699.064,661.045 701.503,661.045 703.942,661.045 706.381,661.045 708.82,661.045 711.259,661.045 713.699,661.045 716.138,661.045 718.577,661.045 721.016,661.045 723.455,661.045 725.894,661.045 728.333,661.045 730.772,661.045 733.211,661.045 735.65,661.045 738.089,661.045 740.528,661.045 742.967,661.045 745.407,661.045 747.846,661.045 750.285,661.045 752.724,661.045 755.163,661.045 757.602,661.045 760.041,661.045 762.48,661.044 764.919,661.044 767.358,661.044 769.797,661.044 772.236,661.044 774.675,661.044 777.114,661.044 779.554,661.044 781.993,661.044 784.432,661.044 786.871,661.044 789.31,661.044 791.749,661.044 794.188,661.044 796.627,661.044 799.066,661.044 801.505,661.044 803.944,661.044 806.383,661.044 808.822,661.044 811.261,661.044 813.701,661.044 816.14,661.044 818.579,661.044 821.018,661.044 823.457,661.044 825.896,661.044 828.335,661.044 830.774,661.044 833.213,661.044 835.652,661.043 838.091,661.043 840.53,661.043 842.969,661.043 845.409,661.043 847.848,661.043 850.287,661.043 852.726,661.043 855.165,661.043 857.604,661.043 860.043,661.042 862.482,661.042 864.921,661.042 867.36,661.042 869.799,661.042 872.238,661.042 874.677,661.041 877.116,661.041 879.556,661.041 881.995,661.041 884.434,661.041 886.873,661.04 889.312,661.04 891.751,661.04 894.19,661.04 896.629,661.039 899.068,661.039 901.507,661.039 903.946,661.038 906.385,661.038 908.824,661.037 911.263,661.037 913.703,661.037 916.142,661.036 918.581,661.036 921.02,661.035 923.459,661.035 925.898,661.034 928.337,661.033 930.776,661.033 933.215,661.032 935.654,661.032 938.093,661.031 940.532,661.03 942.971,661.029 945.411,661.028 947.85,661.028 950.289,661.027 952.728,661.026 955.167,661.025 957.606,661.024 960.045,661.023 962.484,661.022 964.923,661.02 967.362,661.019 969.801,661.018 972.24,661.017 974.679,661.015 977.118,661.014 979.558,661.012 981.997,661.011 984.436,661.009 986.875,661.007 989.314,661.006 991.753,661.004 994.192,661.002 996.631,661 999.07,660.998 1001.51,660.996 1003.95,660.994 1006.39,660.992 1008.83,660.989 1011.27,660.987 1013.7,660.984 1016.14,660.982 1018.58,660.979 1021.02,660.976 1023.46,660.974 1025.9,660.971 1028.34,660.968 1030.78,660.965 1033.22,660.962 1035.66,660.958 1038.1,660.955 1040.53,660.952 1042.97,660.948 1045.41,660.945 1047.85,660.941 1050.29,660.937 1052.73,660.933 1055.17,660.929 1057.61,660.925 1060.05,660.921 1062.49,660.917 1064.93,660.913 1067.36,660.909 1069.8,660.904 1072.24,660.9 1074.68,660.895 1077.12,660.891 1079.56,660.886 1082,660.882 1084.44,660.877 1086.88,660.872 1089.32,660.867 1091.75,660.863 1094.19,660.858 1096.63,660.853 1099.07,660.848 1101.51,660.843 1103.95,660.838 1106.39,660.834 1108.83,660.829 1111.27,660.824 1113.71,660.819 1116.15,660.814 1118.58,660.81 1121.02,660.805 1123.46,660.8 1125.9,660.796 1128.34,660.791 1130.78,660.787 1133.22,660.783 1135.66,660.778 1138.1,660.774 1140.54,660.77 1142.98,660.767 1145.41,660.763 1147.85,660.759 1150.29,660.756 1152.73,660.752 1155.17,660.749 1157.61,660.746 1160.05,660.743 1162.49,660.74 1164.93,660.738 1167.37,660.735 1169.81,660.733 1172.24,660.731 1174.68,660.729 1177.12,660.727 1179.56,660.726 1182,660.724 1184.44,660.723 1186.88,660.722 1189.32,660.721 1191.76,660.72 1194.2,660.72 1196.64,660.719 1199.07,660.719 1201.51,660.718 1203.95,660.718 1206.39,660.718 1208.83,660.718 1211.27,660.718 1213.71,660.718 1216.15,660.718 1218.59,660.718 1221.03,660.718 1223.46,660.718 1225.9,660.717 1228.34,660.717 1230.78,660.717 1233.22,660.717 1235.66,660.716 1238.1,660.716 1240.54,660.715 1242.98,660.714 1245.42,660.713 1247.86,660.711 1250.29,660.709 1252.73,660.708 1255.17,660.705 1257.61,660.703 1260.05,660.7 1262.49,660.697 1264.93,660.693 1267.37,660.69 1269.81,660.685 1272.25,660.681 1274.69,660.676 1277.12,660.671 1279.56,660.665 1282,660.659 1284.44,660.653 1286.88,660.646 1289.32,660.639 1291.76,660.631 1294.2,660.623 1296.64,660.615 1299.08,660.606 1301.52,660.597 1303.95,660.588 1306.39,660.579 1308.83,660.569 1311.27,660.559 1313.71,660.548 1316.15,660.538 1318.59,660.527 1321.03,660.516 1323.47,660.505 1325.91,660.494 1328.35,660.483 1330.78,660.472 1333.22,660.46 1335.66,660.449 1338.1,660.438 1340.54,660.426 1342.98,660.415 1345.42,660.404 1347.86,660.393 1350.3,660.382 1352.74,660.372 1355.17,660.361 1357.61,660.351 1360.05,660.341 1362.49,660.331 1364.93,660.322 1367.37,660.313 1369.81,660.304 1372.25,660.295 1374.69,660.287 1377.13,660.279 1379.57,660.272 1382,660.264 1384.44,660.257 1386.88,660.251 1389.32,660.245 1391.76,660.239 1394.2,660.233 1396.64,660.228 1399.08,660.223 1401.52,660.218 1403.96,660.214 1406.4,660.21 1408.83,660.206 1411.27,660.202 1413.71,660.199 1416.15,660.196 1418.59,660.194 1421.03,660.191 1423.47,660.189 1425.91,660.187 1428.35,660.185 1430.79,660.183 1433.23,660.181 1435.66,660.18 1438.1,660.179 1440.54,660.178 1442.98,660.177 1445.42,660.176 1447.86,660.175 1450.3,660.174 1452.74,660.173 1455.18,660.173 1457.62,660.172 1460.06,660.172 1462.49,660.172 1464.93,660.171 1467.37,660.171 1469.81,660.171 1472.25,660.171 1474.69,660.17 1477.13,660.17 1479.57,660.17 1482.01,660.17 1484.45,660.17 1486.88,660.17 1489.32,660.17 1491.76,660.17 1494.2,660.17 1496.64,660.17 1499.08,660.17 1501.52,660.17 1503.96,660.17 1506.4,660.17 1508.84,660.17 1511.28,660.169 1513.71,660.169 1516.15,660.169 1518.59,660.169 1521.03,660.169 1523.47,660.169 1525.91,660.169 1528.35,660.169 1530.79,660.169 1533.23,660.169 1535.67,660.169 1538.11,660.169 1540.54,660.169 1542.98,660.169 1545.42,660.169 1547.86,660.169 1550.3,660.169 1552.74,660.169 1555.18,660.169 1557.62,660.169 1560.06,660.169 1562.5,660.169 1564.94,660.169 1567.37,660.169 1569.81,660.169 1572.25,660.169 1574.69,660.169 1577.13,660.169 1579.57,660.169 1582.01,660.169 1584.45,660.169 1586.89,660.169 1589.33,660.169 1591.76,660.169 1594.2,660.169 1596.64,660.169 1599.08,660.169 1601.52,660.169 1603.96,660.169 1606.4,660.169 1608.84,660.169 1611.28,660.169 1613.72,660.169 1616.16,660.169 1618.59,660.169 1621.03,660.169 1623.47,660.169 1625.91,660.169 1628.35,660.169 1630.79,660.169 1633.23,660.169 1635.67,660.169 1638.11,660.169 1640.55,660.169 1642.99,660.169 1645.42,660.169 1647.86,660.169 1650.3,660.169 1652.74,660.169 1655.18,660.169 1657.62,660.169 1660.06,660.169 1662.5,660.169 1664.94,660.169 1667.38,660.169 1669.82,660.169 1672.25,660.169 1674.69,660.169 1677.13,660.169 1679.57,660.169 1682.01,660.169 1684.45,660.169 1686.89,660.169 1689.33,660.169 1691.77,660.169 1694.21,660.169 1696.65,660.169 1699.08,660.169 1701.52,660.169 1703.96,660.169 1706.4,660.169 1708.84,660.169 1711.28,660.169 1713.72,660.169 1716.16,660.169 1718.6,660.169 1721.04,660.169 1723.47,660.169 1725.91,660.169 1728.35,660.169 1730.79,660.169 1733.23,660.169 1735.67,660.169 1738.11,660.169 1740.55,660.169 1742.99,660.169 1745.43,660.169 1747.87,660.169 1750.3,660.169 1752.74,660.169 1755.18,660.169 1757.62,660.169 1760.06,660.169 1762.5,660.169 1764.94,660.169 1767.38,660.169 1769.82,660.169 1772.26,660.169 1774.7,660.169 1777.13,660.169 1779.57,660.169 1782.01,660.169 1784.45,660.169 1786.89,660.169 1789.33,660.169 1791.77,660.169 1794.21,660.169 1796.65,660.169 1799.09,660.169 1801.53,660.169 1803.96,660.169 1806.4,660.169 1808.84,660.169 1811.28,660.169 1813.72,660.169 1816.16,660.169 1818.6,660.169 1821.04,660.169 1823.48,660.169 1825.92,660.169 1828.36,660.169 1830.79,660.169 1833.23,660.169 1835.67,660.169 1838.11,660.169 1840.55,660.169 1842.99,660.169 1845.43,660.169 1847.87,660.169 1850.31,660.169 1852.75,660.169 1855.18,660.169 1857.62,660.169 1860.06,660.169 1862.5,660.169 1864.94,660.169 1867.38,660.169 1869.82,660.169 1872.26,660.169 1874.7,660.169 1877.14,660.169 1879.58,660.169 1882.01,660.169 1884.45,660.169 1886.89,660.169 1889.33,660.169 1891.77,660.169 1894.21,660.169 1896.65,660.169 1899.09,660.169 1901.53,660.169 1903.97,660.169 1906.41,660.169 1908.84,660.169 1911.28,660.169 1913.72,660.169 1916.16,660.169 1918.6,660.169 1921.04,660.169 1923.48,660.169 1925.92,660.169 1928.36,660.169 1930.8,660.169 1933.24,660.169 1935.67,660.169 1938.11,660.169 1940.55,660.169 1942.99,660.169 1945.43,660.169 1947.87,660.169 1950.31,660.169 1952.75,660.169 1955.19,660.169 1957.63,660.169 1960.07,660.169 1962.5,660.169 1964.94,660.169 1967.38,660.169 1969.82,660.169 1972.26,660.169 1974.7,660.169 1977.14,660.169 1979.58,660.169 1982.02,660.169 1984.46,660.169 1986.89,660.169 1989.33,660.169 1991.77,660.169 1994.21,660.169 1996.65,660.169 1999.09,660.169 2001.53,660.169 2003.97,660.169 2006.41,660.169 2008.85,660.169 2011.29,660.169 2013.72,660.169 2016.16,660.169 2018.6,660.169 2021.04,660.169 2023.48,660.169 2025.92,660.169 2028.36,660.169 2030.8,660.169 2033.24,660.169 2035.68,660.169 2038.12,660.169 2040.55,660.169 2042.99,660.169 2045.43,660.169 2047.87,660.169 2050.31,660.169 2052.75,660.169 2055.19,660.169 2057.63,660.169 2060.07,660.169 2062.51,660.169 2064.95,660.169 2067.38,660.169 2069.82,660.169 2072.26,660.169 2074.7,660.169 2077.14,660.169 2079.58,660.169 2082.02,660.169 2084.46,660.169 2086.9,660.169 2089.34,660.169 2091.78,660.169 2094.21,660.169 2096.65,660.169 2099.09,660.169 2101.53,660.169 2103.97,660.169 2106.41,660.169 2108.85,660.169 2111.29,660.169 2113.73,660.169 2116.17,660.169 2118.6,660.169 2121.04,660.169 2123.48,660.169 2125.92,660.169 2128.36,660.169 2130.8,660.169 2133.24,660.169 2135.68,660.169 2138.12,660.169 2140.56,660.169 2143,660.169 2145.43,660.169 2147.87,660.169 2150.31,660.169 2152.75,660.169 2155.19,660.169 2157.63,660.169 2160.07,660.169 2162.51,660.169 2164.95,660.169 2167.39,660.169 2169.83,660.169 2172.26,660.169 2174.7,660.169 2177.14,660.169 2179.58,660.169 2182.02,660.169 2184.46,660.169 2186.9,660.169 2189.34,660.169 2191.78,660.169 2194.22,660.169 2196.66,660.169 2199.09,660.169 2201.53,660.169 2203.97,660.169 2206.41,660.169 2208.85,660.169 2211.29,660.169 2213.73,660.169 2216.17,660.169 2218.61,660.169 2221.05,660.169 2223.49,660.169 2225.92,660.169 2228.36,660.169 2230.8,660.169 2233.24,660.169 2235.68,660.169 2238.12,660.169 2240.56,660.169 2243,660.169 2245.44,660.169 2247.88,660.169 2250.31,660.169 2252.75,660.169 2255.19,660.169 2257.63,660.169 2260.07,660.169 2262.51,660.169 2264.95,660.169 2267.39,660.169 2269.83,660.169 2272.27,660.169 2274.71,660.169 2277.14,660.169 2279.58,660.169 2282.02,660.169 2284.46,660.169 2286.9,660.169 2289.34,660.169 2291.78,660.169 2294.22,660.169 \"/>\n",
       "<polyline clip-path=\"url(#clip892)\" style=\"stroke:#3da44d; stroke-linecap:round; stroke-linejoin:round; stroke-width:4; stroke-opacity:1; fill:none\" points=\"342.959,661.045 345.398,661.045 347.838,661.045 350.277,661.045 352.716,661.045 355.155,661.045 357.594,661.045 360.033,661.045 362.472,661.045 364.911,661.045 367.35,661.045 369.789,661.045 372.228,661.045 374.667,661.045 377.106,661.045 379.545,661.045 381.985,661.045 384.424,661.045 386.863,661.045 389.302,661.045 391.741,661.045 394.18,661.045 396.619,661.045 399.058,661.045 401.497,661.045 403.936,661.045 406.375,661.045 408.814,661.045 411.253,661.045 413.693,661.045 416.132,661.045 418.571,661.045 421.01,661.045 423.449,661.045 425.888,661.045 428.327,661.045 430.766,661.045 433.205,661.045 435.644,661.045 438.083,661.045 440.522,661.044 442.961,661.044 445.4,661.044 447.84,661.044 450.279,661.044 452.718,661.044 455.157,661.044 457.596,661.044 460.035,661.044 462.474,661.044 464.913,661.044 467.352,661.044 469.791,661.044 472.23,661.044 474.669,661.044 477.108,661.044 479.547,661.044 481.987,661.044 484.426,661.044 486.865,661.044 489.304,661.044 491.743,661.044 494.182,661.044 496.621,661.044 499.06,661.043 501.499,661.043 503.938,661.043 506.377,661.043 508.816,661.043 511.255,661.043 513.695,661.043 516.134,661.043 518.573,661.043 521.012,661.042 523.451,661.042 525.89,661.042 528.329,661.042 530.768,661.042 533.207,661.042 535.646,661.041 538.085,661.041 540.524,661.041 542.963,661.041 545.402,661.041 547.842,661.04 550.281,661.04 552.72,661.04 555.159,661.039 557.598,661.039 560.037,661.039 562.476,661.038 564.915,661.038 567.354,661.038 569.793,661.037 572.232,661.037 574.671,661.036 577.11,661.036 579.55,661.035 581.989,661.035 584.428,661.034 586.867,661.034 589.306,661.033 591.745,661.033 594.184,661.032 596.623,661.031 599.062,661.031 601.501,661.03 603.94,661.029 606.379,661.028 608.818,661.027 611.257,661.026 613.697,661.025 616.136,661.024 618.575,661.023 621.014,661.022 623.453,661.021 625.892,661.02 628.331,661.018 630.77,661.017 633.209,661.016 635.648,661.014 638.087,661.013 640.526,661.011 642.965,661.009 645.404,661.008 647.844,661.006 650.283,661.004 652.722,661.002 655.161,661 657.6,660.997 660.039,660.995 662.478,660.993 664.917,660.99 667.356,660.988 669.795,660.985 672.234,660.982 674.673,660.979 677.112,660.976 679.552,660.973 681.991,660.969 684.43,660.966 686.869,660.962 689.308,660.958 691.747,660.954 694.186,660.95 696.625,660.945 699.064,660.941 701.503,660.936 703.942,660.931 706.381,660.926 708.82,660.92 711.259,660.915 713.699,660.909 716.138,660.903 718.577,660.896 721.016,660.89 723.455,660.883 725.894,660.876 728.333,660.868 730.772,660.861 733.211,660.852 735.65,660.844 738.089,660.835 740.528,660.826 742.967,660.817 745.407,660.807 747.846,660.797 750.285,660.786 752.724,660.775 755.163,660.763 757.602,660.751 760.041,660.739 762.48,660.726 764.919,660.712 767.358,660.698 769.797,660.684 772.236,660.669 774.675,660.653 777.114,660.637 779.554,660.62 781.993,660.602 784.432,660.584 786.871,660.565 789.31,660.545 791.749,660.525 794.188,660.504 796.627,660.482 799.066,660.459 801.505,660.435 803.944,660.411 806.383,660.386 808.822,660.359 811.261,660.332 813.701,660.304 816.14,660.274 818.579,660.244 821.018,660.212 823.457,660.179 825.896,660.146 828.335,660.111 830.774,660.074 833.213,660.037 835.652,659.998 838.091,659.957 840.53,659.915 842.969,659.872 845.409,659.827 847.848,659.781 850.287,659.733 852.726,659.684 855.165,659.632 857.604,659.579 860.043,659.524 862.482,659.468 864.921,659.409 867.36,659.348 869.799,659.286 872.238,659.221 874.677,659.154 877.116,659.085 879.556,659.013 881.995,658.939 884.434,658.863 886.873,658.784 889.312,658.703 891.751,658.619 894.19,658.532 896.629,658.443 899.068,658.351 901.507,658.256 903.946,658.157 906.385,658.056 908.824,657.952 911.263,657.844 913.703,657.733 916.142,657.619 918.581,657.501 921.02,657.379 923.459,657.254 925.898,657.125 928.337,656.993 930.776,656.856 933.215,656.715 935.654,656.57 938.093,656.421 940.532,656.268 942.971,656.11 945.411,655.948 947.85,655.781 950.289,655.609 952.728,655.433 955.167,655.251 957.606,655.065 960.045,654.873 962.484,654.677 964.923,654.475 967.362,654.267 969.801,654.054 972.24,653.836 974.679,653.611 977.118,653.381 979.558,653.145 981.997,652.903 984.436,652.655 986.875,652.4 989.314,652.14 991.753,651.872 994.192,651.599 996.631,651.318 999.07,651.031 1001.51,650.738 1003.95,650.437 1006.39,650.129 1008.83,649.815 1011.27,649.493 1013.7,649.164 1016.14,648.828 1018.58,648.485 1021.02,648.134 1023.46,647.776 1025.9,647.41 1028.34,647.036 1030.78,646.655 1033.22,646.267 1035.66,645.871 1038.1,645.467 1040.53,645.055 1042.97,644.636 1045.41,644.208 1047.85,643.774 1050.29,643.331 1052.73,642.881 1055.17,642.423 1057.61,641.957 1060.05,641.483 1062.49,641.002 1064.93,640.514 1067.36,640.018 1069.8,639.515 1072.24,639.004 1074.68,638.486 1077.12,637.961 1079.56,637.43 1082,636.891 1084.44,636.346 1086.88,635.794 1089.32,635.236 1091.75,634.671 1094.19,634.101 1096.63,633.525 1099.07,632.944 1101.51,632.357 1103.95,631.765 1106.39,631.169 1108.83,630.568 1111.27,629.963 1113.71,629.354 1116.15,628.742 1118.58,628.127 1121.02,627.509 1123.46,626.888 1125.9,626.266 1128.34,625.642 1130.78,625.017 1133.22,624.391 1135.66,623.765 1138.1,623.139 1140.54,622.514 1142.98,621.89 1145.41,621.269 1147.85,620.649 1150.29,620.032 1152.73,619.419 1155.17,618.81 1157.61,618.206 1160.05,617.607 1162.49,617.013 1164.93,616.427 1167.37,615.847 1169.81,615.276 1172.24,614.712 1174.68,614.159 1177.12,613.614 1179.56,613.081 1182,612.559 1184.44,612.048 1186.88,611.551 1189.32,611.067 1191.76,610.596 1194.2,610.141 1196.64,609.701 1199.07,609.278 1201.51,608.871 1203.95,608.482 1206.39,608.112 1208.83,607.76 1211.27,607.428 1213.71,607.116 1216.15,606.826 1218.59,606.557 1221.03,606.31 1223.46,606.086 1225.9,605.886 1228.34,605.71 1230.78,605.558 1233.22,605.431 1235.66,605.33 1238.1,605.255 1240.54,605.207 1242.98,605.185 1245.42,605.19 1247.86,605.223 1250.29,605.284 1252.73,605.373 1255.17,605.491 1257.61,605.636 1260.05,605.811 1262.49,606.014 1264.93,606.246 1267.37,606.506 1269.81,606.796 1272.25,607.114 1274.69,607.46 1277.12,607.835 1279.56,608.238 1282,608.669 1284.44,609.127 1286.88,609.612 1289.32,610.123 1291.76,610.661 1294.2,611.224 1296.64,611.812 1299.08,612.425 1301.52,613.061 1303.95,613.72 1306.39,614.402 1308.83,615.104 1311.27,615.827 1313.71,616.57 1316.15,617.331 1318.59,618.109 1321.03,618.905 1323.47,619.715 1325.91,620.541 1328.35,621.379 1330.78,622.23 1333.22,623.092 1335.66,623.963 1338.1,624.844 1340.54,625.731 1342.98,626.625 1345.42,627.524 1347.86,628.427 1350.3,629.332 1352.74,630.238 1355.17,631.145 1357.61,632.05 1360.05,632.953 1362.49,633.853 1364.93,634.747 1367.37,635.636 1369.81,636.518 1372.25,637.392 1374.69,638.257 1377.13,639.112 1379.57,639.955 1382,640.787 1384.44,641.606 1386.88,642.41 1389.32,643.201 1391.76,643.975 1394.2,644.734 1396.64,645.476 1399.08,646.201 1401.52,646.908 1403.96,647.597 1406.4,648.266 1408.83,648.917 1411.27,649.548 1413.71,650.16 1416.15,650.751 1418.59,651.322 1421.03,651.874 1423.47,652.404 1425.91,652.915 1428.35,653.406 1430.79,653.876 1433.23,654.326 1435.66,654.757 1438.1,655.169 1440.54,655.561 1442.98,655.934 1445.42,656.288 1447.86,656.625 1450.3,656.944 1452.74,657.245 1455.18,657.53 1457.62,657.799 1460.06,658.051 1462.49,658.289 1464.93,658.511 1467.37,658.72 1469.81,658.915 1472.25,659.097 1474.69,659.266 1477.13,659.424 1479.57,659.57 1482.01,659.705 1484.45,659.83 1486.88,659.946 1489.32,660.052 1491.76,660.15 1494.2,660.24 1496.64,660.322 1499.08,660.397 1501.52,660.465 1503.96,660.527 1506.4,660.584 1508.84,660.635 1511.28,660.681 1513.71,660.723 1516.15,660.761 1518.59,660.795 1521.03,660.825 1523.47,660.852 1525.91,660.876 1528.35,660.897 1530.79,660.916 1533.23,660.933 1535.67,660.948 1538.11,660.961 1540.54,660.973 1542.98,660.983 1545.42,660.992 1547.86,660.999 1550.3,661.006 1552.74,661.012 1555.18,661.017 1557.62,661.021 1560.06,661.025 1562.5,661.028 1564.94,661.031 1567.37,661.033 1569.81,661.035 1572.25,661.037 1574.69,661.038 1577.13,661.039 1579.57,661.04 1582.01,661.041 1584.45,661.042 1586.89,661.042 1589.33,661.043 1591.76,661.043 1594.2,661.043 1596.64,661.044 1599.08,661.044 1601.52,661.044 1603.96,661.044 1606.4,661.044 1608.84,661.044 1611.28,661.044 1613.72,661.044 1616.16,661.045 1618.59,661.045 1621.03,661.045 1623.47,661.045 1625.91,661.045 1628.35,661.045 1630.79,661.045 1633.23,661.045 1635.67,661.045 1638.11,661.045 1640.55,661.045 1642.99,661.045 1645.42,661.045 1647.86,661.045 1650.3,661.045 1652.74,661.045 1655.18,661.045 1657.62,661.045 1660.06,661.045 1662.5,661.045 1664.94,661.045 1667.38,661.045 1669.82,661.045 1672.25,661.045 1674.69,661.045 1677.13,661.045 1679.57,661.045 1682.01,661.045 1684.45,661.045 1686.89,661.045 1689.33,661.045 1691.77,661.045 1694.21,661.045 1696.65,661.045 1699.08,661.045 1701.52,661.045 1703.96,661.045 1706.4,661.045 1708.84,661.045 1711.28,661.045 1713.72,661.045 1716.16,661.045 1718.6,661.045 1721.04,661.045 1723.47,661.045 1725.91,661.045 1728.35,661.045 1730.79,661.045 1733.23,661.045 1735.67,661.045 1738.11,661.045 1740.55,661.045 1742.99,661.045 1745.43,661.045 1747.87,661.045 1750.3,661.045 1752.74,661.045 1755.18,661.045 1757.62,661.045 1760.06,661.045 1762.5,661.045 1764.94,661.045 1767.38,661.045 1769.82,661.045 1772.26,661.045 1774.7,661.045 1777.13,661.045 1779.57,661.045 1782.01,661.045 1784.45,661.045 1786.89,661.045 1789.33,661.045 1791.77,661.045 1794.21,661.045 1796.65,661.045 1799.09,661.045 1801.53,661.045 1803.96,661.045 1806.4,661.045 1808.84,661.045 1811.28,661.045 1813.72,661.045 1816.16,661.045 1818.6,661.045 1821.04,661.045 1823.48,661.045 1825.92,661.045 1828.36,661.045 1830.79,661.045 1833.23,661.045 1835.67,661.045 1838.11,661.045 1840.55,661.045 1842.99,661.045 1845.43,661.045 1847.87,661.045 1850.31,661.045 1852.75,661.045 1855.18,661.045 1857.62,661.045 1860.06,661.045 1862.5,661.045 1864.94,661.045 1867.38,661.045 1869.82,661.045 1872.26,661.045 1874.7,661.045 1877.14,661.045 1879.58,661.045 1882.01,661.045 1884.45,661.045 1886.89,661.045 1889.33,661.045 1891.77,661.045 1894.21,661.045 1896.65,661.045 1899.09,661.045 1901.53,661.045 1903.97,661.045 1906.41,661.045 1908.84,661.045 1911.28,661.045 1913.72,661.045 1916.16,661.045 1918.6,661.045 1921.04,661.045 1923.48,661.045 1925.92,661.045 1928.36,661.045 1930.8,661.045 1933.24,661.045 1935.67,661.045 1938.11,661.045 1940.55,661.045 1942.99,661.045 1945.43,661.045 1947.87,661.045 1950.31,661.045 1952.75,661.045 1955.19,661.045 1957.63,661.045 1960.07,661.045 1962.5,661.045 1964.94,661.045 1967.38,661.045 1969.82,661.045 1972.26,661.045 1974.7,661.045 1977.14,661.045 1979.58,661.045 1982.02,661.045 1984.46,661.045 1986.89,661.045 1989.33,661.045 1991.77,661.045 1994.21,661.045 1996.65,661.045 1999.09,661.045 2001.53,661.045 2003.97,661.045 2006.41,661.045 2008.85,661.045 2011.29,661.045 2013.72,661.045 2016.16,661.045 2018.6,661.045 2021.04,661.045 2023.48,661.045 2025.92,661.045 2028.36,661.045 2030.8,661.045 2033.24,661.045 2035.68,661.045 2038.12,661.045 2040.55,661.045 2042.99,661.045 2045.43,661.045 2047.87,661.045 2050.31,661.045 2052.75,661.045 2055.19,661.045 2057.63,661.045 2060.07,661.045 2062.51,661.045 2064.95,661.045 2067.38,661.045 2069.82,661.045 2072.26,661.045 2074.7,661.045 2077.14,661.045 2079.58,661.045 2082.02,661.045 2084.46,661.045 2086.9,661.045 2089.34,661.045 2091.78,661.045 2094.21,661.045 2096.65,661.045 2099.09,661.045 2101.53,661.045 2103.97,661.045 2106.41,661.045 2108.85,661.045 2111.29,661.045 2113.73,661.045 2116.17,661.045 2118.6,661.045 2121.04,661.045 2123.48,661.045 2125.92,661.045 2128.36,661.045 2130.8,661.045 2133.24,661.045 2135.68,661.045 2138.12,661.045 2140.56,661.045 2143,661.045 2145.43,661.045 2147.87,661.045 2150.31,661.045 2152.75,661.045 2155.19,661.045 2157.63,661.045 2160.07,661.045 2162.51,661.045 2164.95,661.045 2167.39,661.045 2169.83,661.045 2172.26,661.045 2174.7,661.045 2177.14,661.045 2179.58,661.045 2182.02,661.045 2184.46,661.045 2186.9,661.045 2189.34,661.045 2191.78,661.045 2194.22,661.045 2196.66,661.045 2199.09,661.045 2201.53,661.045 2203.97,661.045 2206.41,661.045 2208.85,661.045 2211.29,661.045 2213.73,661.045 2216.17,661.045 2218.61,661.045 2221.05,661.045 2223.49,661.045 2225.92,661.045 2228.36,661.045 2230.8,661.045 2233.24,661.045 2235.68,661.045 2238.12,661.045 2240.56,661.045 2243,661.045 2245.44,661.045 2247.88,661.045 2250.31,661.045 2252.75,661.045 2255.19,661.045 2257.63,661.045 2260.07,661.045 2262.51,661.045 2264.95,661.045 2267.39,661.045 2269.83,661.045 2272.27,661.045 2274.71,661.045 2277.14,661.045 2279.58,661.045 2282.02,661.045 2284.46,661.045 2286.9,661.045 2289.34,661.045 2291.78,661.045 2294.22,661.045 \"/>\n",
       "<polyline clip-path=\"url(#clip892)\" style=\"stroke:#c271d2; stroke-linecap:round; stroke-linejoin:round; stroke-width:4; stroke-opacity:1; fill:none\" points=\"342.959,661.045 345.398,661.045 347.838,661.045 350.277,661.045 352.716,661.045 355.155,661.045 357.594,661.045 360.033,661.045 362.472,661.044 364.911,661.044 367.35,661.044 369.789,661.044 372.228,661.044 374.667,661.044 377.106,661.044 379.545,661.044 381.985,661.044 384.424,661.044 386.863,661.043 389.302,661.043 391.741,661.043 394.18,661.043 396.619,661.042 399.058,661.042 401.497,661.042 403.936,661.041 406.375,661.041 408.814,661.041 411.253,661.04 413.693,661.04 416.132,661.039 418.571,661.039 421.01,661.038 423.449,661.038 425.888,661.037 428.327,661.036 430.766,661.035 433.205,661.035 435.644,661.034 438.083,661.033 440.522,661.032 442.961,661.031 445.4,661.03 447.84,661.028 450.279,661.027 452.718,661.026 455.157,661.024 457.596,661.023 460.035,661.021 462.474,661.02 464.913,661.018 467.352,661.016 469.791,661.014 472.23,661.012 474.669,661.009 477.108,661.007 479.547,661.004 481.987,661.001 484.426,660.999 486.865,660.996 489.304,660.992 491.743,660.989 494.182,660.985 496.621,660.982 499.06,660.978 501.499,660.973 503.938,660.969 506.377,660.964 508.816,660.959 511.255,660.954 513.695,660.949 516.134,660.943 518.573,660.937 521.012,660.931 523.451,660.924 525.89,660.917 528.329,660.91 530.768,660.902 533.207,660.894 535.646,660.886 538.085,660.877 540.524,660.867 542.963,660.857 545.402,660.847 547.842,660.836 550.281,660.825 552.72,660.813 555.159,660.801 557.598,660.787 560.037,660.774 562.476,660.759 564.915,660.744 567.354,660.729 569.793,660.712 572.232,660.695 574.671,660.677 577.11,660.658 579.55,660.638 581.989,660.617 584.428,660.596 586.867,660.573 589.306,660.55 591.745,660.525 594.184,660.499 596.623,660.472 599.062,660.444 601.501,660.414 603.94,660.383 606.379,660.351 608.818,660.318 611.257,660.282 613.697,660.246 616.136,660.208 618.575,660.168 621.014,660.126 623.453,660.082 625.892,660.037 628.331,659.99 630.77,659.94 633.209,659.889 635.648,659.835 638.087,659.779 640.526,659.721 642.965,659.66 645.404,659.597 647.844,659.531 650.283,659.462 652.722,659.39 655.161,659.315 657.6,659.238 660.039,659.157 662.478,659.072 664.917,658.985 667.356,658.893 669.795,658.798 672.234,658.699 674.673,658.596 677.112,658.489 679.552,658.377 681.991,658.261 684.43,658.14 686.869,658.015 689.308,657.884 691.747,657.749 694.186,657.608 696.625,657.461 699.064,657.308 701.503,657.15 703.942,656.985 706.381,656.814 708.82,656.637 711.259,656.452 713.699,656.26 716.138,656.061 718.577,655.854 721.016,655.64 723.455,655.417 725.894,655.185 728.333,654.945 730.772,654.696 733.211,654.438 735.65,654.169 738.089,653.891 740.528,653.602 742.967,653.303 745.407,652.993 747.846,652.671 750.285,652.337 752.724,651.991 755.163,651.632 757.602,651.261 760.041,650.875 762.48,650.476 764.919,650.063 767.358,649.635 769.797,649.191 772.236,648.732 774.675,648.256 777.114,647.764 779.554,647.254 781.993,646.726 784.432,646.18 786.871,645.615 789.31,645.031 791.749,644.426 794.188,643.8 796.627,643.153 799.066,642.484 801.505,641.792 803.944,641.077 806.383,640.338 808.822,639.574 811.261,638.784 813.701,637.968 816.14,637.126 818.579,636.255 821.018,635.356 823.457,634.428 825.896,633.47 828.335,632.48 830.774,631.459 833.213,630.405 835.652,629.318 838.091,628.196 840.53,627.039 842.969,625.846 845.409,624.616 847.848,623.347 850.287,622.039 852.726,620.692 855.165,619.303 857.604,617.872 860.043,616.398 862.482,614.88 864.921,613.317 867.36,611.708 869.799,610.052 872.238,608.347 874.677,606.593 877.116,604.788 879.556,602.932 881.995,601.023 884.434,599.06 886.873,597.043 889.312,594.969 891.751,592.838 894.19,590.65 896.629,588.401 899.068,586.093 901.507,583.722 903.946,581.29 906.385,578.793 908.824,576.232 911.263,573.604 913.703,570.91 916.142,568.148 918.581,565.316 921.02,562.415 923.459,559.442 925.898,556.398 928.337,553.281 930.776,550.09 933.215,546.824 935.654,543.482 938.093,540.065 940.532,536.57 942.971,532.998 945.411,529.347 947.85,525.617 950.289,521.808 952.728,517.918 955.167,513.948 957.606,509.898 960.045,505.766 962.484,501.553 964.923,497.259 967.362,492.883 969.801,488.426 972.24,483.887 974.679,479.268 977.118,474.568 979.558,469.788 981.997,464.929 984.436,459.991 986.875,454.974 989.314,449.881 991.753,444.712 994.192,439.469 996.631,434.152 999.07,428.764 1001.51,423.306 1003.95,417.78 1006.39,412.189 1008.83,406.533 1011.27,400.817 1013.7,395.042 1016.14,389.211 1018.58,383.328 1021.02,377.395 1023.46,371.416 1025.9,365.395 1028.34,359.336 1030.78,353.243 1033.22,347.119 1035.66,340.971 1038.1,334.803 1040.53,328.619 1042.97,322.425 1045.41,316.228 1047.85,310.032 1050.29,303.844 1052.73,297.671 1055.17,291.519 1057.61,285.395 1060.05,279.307 1062.49,273.262 1064.93,267.267 1067.36,261.332 1069.8,255.464 1072.24,249.672 1074.68,243.966 1077.12,238.354 1079.56,232.846 1082,227.451 1084.44,222.181 1086.88,217.044 1089.32,212.052 1091.75,207.216 1094.19,202.546 1096.63,198.054 1099.07,193.752 1101.51,189.651 1103.95,185.762 1106.39,182.099 1108.83,178.673 1111.27,175.497 1113.71,172.584 1116.15,169.945 1118.58,167.595 1121.02,165.545 1123.46,163.808 1125.9,162.398 1128.34,161.327 1130.78,160.609 1133.22,160.256 1135.66,160.281 1138.1,160.697 1140.54,161.516 1142.98,162.751 1145.41,164.413 1147.85,166.516 1150.29,169.07 1152.73,172.087 1155.17,175.577 1157.61,179.553 1160.05,184.023 1162.49,188.997 1164.93,194.486 1167.37,200.496 1169.81,207.038 1172.24,214.117 1174.68,221.742 1177.12,229.917 1179.56,238.649 1182,247.941 1184.44,257.798 1186.88,268.222 1189.32,279.215 1191.76,290.778 1194.2,302.911 1196.64,315.612 1199.07,328.88 1201.51,342.71 1203.95,357.098 1206.39,372.039 1208.83,387.524 1211.27,403.547 1213.71,420.097 1216.15,437.163 1218.59,454.733 1221.03,472.794 1223.46,491.33 1225.9,510.325 1228.34,529.762 1230.78,549.621 1233.22,569.881 1235.66,590.521 1238.1,611.518 1240.54,632.847 1242.98,654.482 1245.42,676.396 1247.86,698.56 1250.29,720.944 1252.73,743.518 1255.17,766.25 1257.61,789.106 1260.05,812.051 1262.49,835.051 1264.93,858.07 1267.37,881.071 1269.81,904.016 1272.25,926.866 1274.69,949.583 1277.12,972.127 1279.56,994.459 1282,1016.54 1284.44,1038.32 1286.88,1059.78 1289.32,1080.86 1291.76,1101.53 1294.2,1121.74 1296.64,1141.46 1299.08,1160.65 1301.52,1179.28 1303.95,1197.3 1306.39,1214.67 1308.83,1231.37 1311.27,1247.37 1313.71,1262.61 1316.15,1277.09 1318.59,1290.76 1321.03,1303.6 1323.47,1315.59 1325.91,1326.7 1328.35,1336.91 1330.78,1346.2 1333.22,1354.55 1335.66,1361.95 1338.1,1368.38 1340.54,1373.84 1342.98,1378.33 1345.42,1381.82 1347.86,1384.33 1350.3,1385.85 1352.74,1386.4 1355.17,1385.96 1357.61,1384.56 1360.05,1382.2 1362.49,1378.9 1364.93,1374.68 1367.37,1369.55 1369.81,1363.55 1372.25,1356.68 1374.69,1348.99 1377.13,1340.49 1379.57,1331.23 1382,1321.23 1384.44,1310.53 1386.88,1299.16 1389.32,1287.17 1391.76,1274.6 1394.2,1261.48 1396.64,1247.86 1399.08,1233.78 1401.52,1219.29 1403.96,1204.44 1406.4,1189.25 1408.83,1173.79 1411.27,1158.1 1413.71,1142.21 1416.15,1126.18 1418.59,1110.06 1421.03,1093.87 1423.47,1077.67 1425.91,1061.49 1428.35,1045.38 1430.79,1029.38 1433.23,1013.52 1435.66,997.829 1438.1,982.351 1440.54,967.114 1442.98,952.148 1445.42,937.481 1447.86,923.137 1450.3,909.139 1452.74,895.509 1455.18,882.266 1457.62,869.424 1460.06,857 1462.49,845.004 1464.93,833.446 1467.37,822.334 1469.81,811.673 1472.25,801.467 1474.69,791.717 1477.13,782.422 1479.57,773.58 1482.01,765.187 1484.45,757.238 1486.88,749.725 1489.32,742.639 1491.76,735.972 1494.2,729.713 1496.64,723.849 1499.08,718.368 1501.52,713.257 1503.96,708.502 1506.4,704.087 1508.84,699.999 1511.28,696.221 1513.71,692.74 1516.15,689.538 1518.59,686.601 1521.03,683.914 1523.47,681.461 1525.91,679.228 1528.35,677.2 1530.79,675.362 1533.23,673.702 1535.67,672.207 1538.11,670.862 1540.54,669.657 1542.98,668.58 1545.42,667.62 1547.86,666.767 1550.3,666.011 1552.74,665.342 1555.18,664.753 1557.62,664.236 1560.06,663.782 1562.5,663.386 1564.94,663.041 1567.37,662.742 1569.81,662.483 1572.25,662.26 1574.69,662.068 1577.13,661.904 1579.57,661.763 1582.01,661.644 1584.45,661.542 1586.89,661.457 1589.33,661.385 1591.76,661.324 1594.2,661.274 1596.64,661.231 1599.08,661.197 1601.52,661.168 1603.96,661.144 1606.4,661.124 1608.84,661.108 1611.28,661.096 1613.72,661.085 1616.16,661.077 1618.59,661.07 1621.03,661.064 1623.47,661.06 1625.91,661.057 1628.35,661.054 1630.79,661.052 1633.23,661.05 1635.67,661.049 1638.11,661.048 1640.55,661.047 1642.99,661.046 1645.42,661.046 1647.86,661.046 1650.3,661.045 1652.74,661.045 1655.18,661.045 1657.62,661.045 1660.06,661.045 1662.5,661.045 1664.94,661.045 1667.38,661.045 1669.82,661.045 1672.25,661.045 1674.69,661.045 1677.13,661.045 1679.57,661.045 1682.01,661.045 1684.45,661.045 1686.89,661.045 1689.33,661.045 1691.77,661.045 1694.21,661.045 1696.65,661.045 1699.08,661.045 1701.52,661.045 1703.96,661.045 1706.4,661.045 1708.84,661.045 1711.28,661.045 1713.72,661.045 1716.16,661.045 1718.6,661.045 1721.04,661.045 1723.47,661.045 1725.91,661.045 1728.35,661.045 1730.79,661.045 1733.23,661.045 1735.67,661.045 1738.11,661.045 1740.55,661.045 1742.99,661.045 1745.43,661.045 1747.87,661.045 1750.3,661.045 1752.74,661.045 1755.18,661.045 1757.62,661.045 1760.06,661.045 1762.5,661.045 1764.94,661.045 1767.38,661.045 1769.82,661.045 1772.26,661.045 1774.7,661.045 1777.13,661.045 1779.57,661.045 1782.01,661.045 1784.45,661.045 1786.89,661.045 1789.33,661.045 1791.77,661.045 1794.21,661.045 1796.65,661.045 1799.09,661.045 1801.53,661.045 1803.96,661.045 1806.4,661.045 1808.84,661.045 1811.28,661.045 1813.72,661.045 1816.16,661.045 1818.6,661.045 1821.04,661.045 1823.48,661.045 1825.92,661.045 1828.36,661.045 1830.79,661.045 1833.23,661.045 1835.67,661.045 1838.11,661.045 1840.55,661.045 1842.99,661.045 1845.43,661.045 1847.87,661.045 1850.31,661.045 1852.75,661.045 1855.18,661.045 1857.62,661.045 1860.06,661.045 1862.5,661.045 1864.94,661.045 1867.38,661.045 1869.82,661.045 1872.26,661.045 1874.7,661.045 1877.14,661.045 1879.58,661.045 1882.01,661.045 1884.45,661.045 1886.89,661.045 1889.33,661.045 1891.77,661.045 1894.21,661.045 1896.65,661.045 1899.09,661.045 1901.53,661.045 1903.97,661.045 1906.41,661.045 1908.84,661.045 1911.28,661.045 1913.72,661.045 1916.16,661.045 1918.6,661.045 1921.04,661.045 1923.48,661.045 1925.92,661.045 1928.36,661.045 1930.8,661.045 1933.24,661.045 1935.67,661.045 1938.11,661.045 1940.55,661.045 1942.99,661.045 1945.43,661.045 1947.87,661.045 1950.31,661.045 1952.75,661.045 1955.19,661.045 1957.63,661.045 1960.07,661.045 1962.5,661.045 1964.94,661.045 1967.38,661.045 1969.82,661.045 1972.26,661.045 1974.7,661.045 1977.14,661.045 1979.58,661.045 1982.02,661.045 1984.46,661.045 1986.89,661.045 1989.33,661.045 1991.77,661.045 1994.21,661.045 1996.65,661.045 1999.09,661.045 2001.53,661.045 2003.97,661.045 2006.41,661.045 2008.85,661.045 2011.29,661.045 2013.72,661.045 2016.16,661.045 2018.6,661.045 2021.04,661.045 2023.48,661.045 2025.92,661.045 2028.36,661.045 2030.8,661.045 2033.24,661.045 2035.68,661.045 2038.12,661.045 2040.55,661.045 2042.99,661.045 2045.43,661.045 2047.87,661.045 2050.31,661.045 2052.75,661.045 2055.19,661.045 2057.63,661.045 2060.07,661.045 2062.51,661.045 2064.95,661.045 2067.38,661.045 2069.82,661.045 2072.26,661.045 2074.7,661.045 2077.14,661.045 2079.58,661.045 2082.02,661.045 2084.46,661.045 2086.9,661.045 2089.34,661.045 2091.78,661.045 2094.21,661.045 2096.65,661.045 2099.09,661.045 2101.53,661.045 2103.97,661.045 2106.41,661.045 2108.85,661.045 2111.29,661.045 2113.73,661.045 2116.17,661.045 2118.6,661.045 2121.04,661.045 2123.48,661.045 2125.92,661.045 2128.36,661.045 2130.8,661.045 2133.24,661.045 2135.68,661.045 2138.12,661.045 2140.56,661.045 2143,661.045 2145.43,661.045 2147.87,661.045 2150.31,661.045 2152.75,661.045 2155.19,661.045 2157.63,661.045 2160.07,661.045 2162.51,661.045 2164.95,661.045 2167.39,661.045 2169.83,661.045 2172.26,661.045 2174.7,661.045 2177.14,661.045 2179.58,661.045 2182.02,661.045 2184.46,661.045 2186.9,661.045 2189.34,661.045 2191.78,661.045 2194.22,661.045 2196.66,661.045 2199.09,661.045 2201.53,661.045 2203.97,661.045 2206.41,661.045 2208.85,661.045 2211.29,661.045 2213.73,661.045 2216.17,661.045 2218.61,661.045 2221.05,661.045 2223.49,661.045 2225.92,661.045 2228.36,661.045 2230.8,661.045 2233.24,661.045 2235.68,661.045 2238.12,661.045 2240.56,661.045 2243,661.045 2245.44,661.045 2247.88,661.045 2250.31,661.045 2252.75,661.045 2255.19,661.045 2257.63,661.045 2260.07,661.045 2262.51,661.045 2264.95,661.045 2267.39,661.045 2269.83,661.045 2272.27,661.045 2274.71,661.045 2277.14,661.045 2279.58,661.045 2282.02,661.045 2284.46,661.045 2286.9,661.045 2289.34,661.045 2291.78,661.045 2294.22,661.045 \"/>\n",
       "<path clip-path=\"url(#clip890)\" d=\"M1971.75 425.996 L2283.81 425.996 L2283.81 166.796 L1971.75 166.796  Z\" fill=\"#ffffff\" fill-rule=\"evenodd\" fill-opacity=\"1\"/>\n",
       "<polyline clip-path=\"url(#clip890)\" style=\"stroke:#000000; stroke-linecap:round; stroke-linejoin:round; stroke-width:4; stroke-opacity:1; fill:none\" points=\"1971.75,425.996 2283.81,425.996 2283.81,166.796 1971.75,166.796 1971.75,425.996 \"/>\n",
       "<polyline clip-path=\"url(#clip890)\" style=\"stroke:#009af9; stroke-linecap:round; stroke-linejoin:round; stroke-width:4; stroke-opacity:1; fill:none\" points=\"1994.73,218.636 2132.62,218.636 \"/>\n",
       "<path clip-path=\"url(#clip890)\" d=\"M2175.95 214.967 Q2177.54 212.096 2179.77 210.731 Q2181.99 209.365 2185 209.365 Q2189.05 209.365 2191.25 212.212 Q2193.45 215.036 2193.45 220.268 L2193.45 235.916 L2189.16 235.916 L2189.16 220.407 Q2189.16 216.68 2187.84 214.874 Q2186.52 213.069 2183.82 213.069 Q2180.51 213.069 2178.59 215.268 Q2176.66 217.467 2176.66 221.263 L2176.66 235.916 L2172.38 235.916 L2172.38 220.407 Q2172.38 216.657 2171.06 214.874 Q2169.74 213.069 2166.99 213.069 Q2163.72 213.069 2161.8 215.291 Q2159.88 217.49 2159.88 221.263 L2159.88 235.916 L2155.6 235.916 L2155.6 209.99 L2159.88 209.99 L2159.88 214.018 Q2161.34 211.633 2163.38 210.499 Q2165.41 209.365 2168.21 209.365 Q2171.04 209.365 2173.01 210.8 Q2175 212.235 2175.95 214.967 Z\" fill=\"#000000\" fill-rule=\"evenodd\" fill-opacity=\"1\" /><polyline clip-path=\"url(#clip890)\" style=\"stroke:#e26f46; stroke-linecap:round; stroke-linejoin:round; stroke-width:4; stroke-opacity:1; fill:none\" points=\"1994.73,270.476 2132.62,270.476 \"/>\n",
       "<path clip-path=\"url(#clip890)\" d=\"M2174.37 274.816 Q2174.37 270.117 2172.43 267.455 Q2170.51 264.77 2167.13 264.77 Q2163.75 264.77 2161.8 267.455 Q2159.88 270.117 2159.88 274.816 Q2159.88 279.515 2161.8 282.2 Q2163.75 284.862 2167.13 284.862 Q2170.51 284.862 2172.43 282.2 Q2174.37 279.515 2174.37 274.816 M2159.88 265.765 Q2161.22 263.45 2163.26 262.339 Q2165.32 261.205 2168.17 261.205 Q2172.89 261.205 2175.83 264.955 Q2178.79 268.705 2178.79 274.816 Q2178.79 280.927 2175.83 284.677 Q2172.89 288.427 2168.17 288.427 Q2165.32 288.427 2163.26 287.316 Q2161.22 286.182 2159.88 283.867 L2159.88 287.756 L2155.6 287.756 L2155.6 251.737 L2159.88 251.737 L2159.88 265.765 Z\" fill=\"#000000\" fill-rule=\"evenodd\" fill-opacity=\"1\" /><path clip-path=\"url(#clip890)\" d=\"M2208.03 273.728 L2208.03 275.811 L2188.45 275.811 Q2188.72 280.209 2191.08 282.524 Q2193.47 284.816 2197.71 284.816 Q2200.16 284.816 2202.45 284.214 Q2204.77 283.612 2207.03 282.409 L2207.03 286.436 Q2204.74 287.408 2202.33 287.918 Q2199.93 288.427 2197.45 288.427 Q2191.25 288.427 2187.61 284.816 Q2184 281.205 2184 275.047 Q2184 268.682 2187.43 264.955 Q2190.88 261.205 2196.71 261.205 Q2201.94 261.205 2204.97 264.585 Q2208.03 267.941 2208.03 273.728 M2203.77 272.478 Q2203.72 268.983 2201.8 266.899 Q2199.9 264.816 2196.76 264.816 Q2193.19 264.816 2191.04 266.83 Q2188.91 268.844 2188.58 272.501 L2203.77 272.478 Z\" fill=\"#000000\" fill-rule=\"evenodd\" fill-opacity=\"1\" /><path clip-path=\"url(#clip890)\" d=\"M2219.23 254.469 L2219.23 261.83 L2228.01 261.83 L2228.01 265.14 L2219.23 265.14 L2219.23 279.214 Q2219.23 282.385 2220.09 283.288 Q2220.97 284.191 2223.63 284.191 L2228.01 284.191 L2228.01 287.756 L2223.63 287.756 Q2218.7 287.756 2216.83 285.927 Q2214.95 284.075 2214.95 279.214 L2214.95 265.14 L2211.83 265.14 L2211.83 261.83 L2214.95 261.83 L2214.95 254.469 L2219.23 254.469 Z\" fill=\"#000000\" fill-rule=\"evenodd\" fill-opacity=\"1\" /><path clip-path=\"url(#clip890)\" d=\"M2245.39 274.723 Q2240.23 274.723 2238.24 275.904 Q2236.25 277.084 2236.25 279.932 Q2236.25 282.2 2237.73 283.543 Q2239.23 284.862 2241.8 284.862 Q2245.34 284.862 2247.47 282.362 Q2249.63 279.839 2249.63 275.672 L2249.63 274.723 L2245.39 274.723 M2253.89 272.964 L2253.89 287.756 L2249.63 287.756 L2249.63 283.821 Q2248.17 286.182 2245.99 287.316 Q2243.82 288.427 2240.67 288.427 Q2236.69 288.427 2234.33 286.205 Q2231.99 283.959 2231.99 280.209 Q2231.99 275.834 2234.9 273.612 Q2237.84 271.39 2243.65 271.39 L2249.63 271.39 L2249.63 270.973 Q2249.63 268.034 2247.68 266.436 Q2245.76 264.816 2242.27 264.816 Q2240.04 264.816 2237.94 265.348 Q2235.83 265.881 2233.89 266.946 L2233.89 263.01 Q2236.22 262.108 2238.42 261.668 Q2240.62 261.205 2242.71 261.205 Q2248.33 261.205 2251.11 264.122 Q2253.89 267.038 2253.89 272.964 Z\" fill=\"#000000\" fill-rule=\"evenodd\" fill-opacity=\"1\" /><polyline clip-path=\"url(#clip890)\" style=\"stroke:#3da44d; stroke-linecap:round; stroke-linejoin:round; stroke-width:4; stroke-opacity:1; fill:none\" points=\"1994.73,322.316 2132.62,322.316 \"/>\n",
       "<path clip-path=\"url(#clip890)\" d=\"M2159.88 335.707 L2159.88 349.457 L2155.6 349.457 L2155.6 313.67 L2159.88 313.67 L2159.88 317.605 Q2161.22 315.29 2163.26 314.179 Q2165.32 313.045 2168.17 313.045 Q2172.89 313.045 2175.83 316.795 Q2178.79 320.545 2178.79 326.656 Q2178.79 332.767 2175.83 336.517 Q2172.89 340.267 2168.17 340.267 Q2165.32 340.267 2163.26 339.156 Q2161.22 338.022 2159.88 335.707 M2174.37 326.656 Q2174.37 321.957 2172.43 319.295 Q2170.51 316.61 2167.13 316.61 Q2163.75 316.61 2161.8 319.295 Q2159.88 321.957 2159.88 326.656 Q2159.88 331.355 2161.8 334.04 Q2163.75 336.702 2167.13 336.702 Q2170.51 336.702 2172.43 334.04 Q2174.37 331.355 2174.37 326.656 Z\" fill=\"#000000\" fill-rule=\"evenodd\" fill-opacity=\"1\" /><path clip-path=\"url(#clip890)\" d=\"M2202.38 314.434 L2202.38 318.462 Q2200.58 317.536 2198.63 317.073 Q2196.69 316.61 2194.6 316.61 Q2191.43 316.61 2189.83 317.582 Q2188.26 318.554 2188.26 320.499 Q2188.26 321.98 2189.4 322.837 Q2190.53 323.67 2193.96 324.434 L2195.41 324.758 Q2199.95 325.73 2201.85 327.512 Q2203.77 329.272 2203.77 332.443 Q2203.77 336.054 2200.9 338.161 Q2198.05 340.267 2193.05 340.267 Q2190.97 340.267 2188.7 339.85 Q2186.46 339.457 2183.96 338.647 L2183.96 334.249 Q2186.32 335.475 2188.61 336.1 Q2190.9 336.702 2193.15 336.702 Q2196.15 336.702 2197.77 335.684 Q2199.4 334.642 2199.4 332.767 Q2199.4 331.031 2198.21 330.105 Q2197.06 329.179 2193.1 328.323 L2191.62 327.975 Q2187.66 327.142 2185.9 325.429 Q2184.14 323.693 2184.14 320.684 Q2184.14 317.026 2186.73 315.036 Q2189.33 313.045 2194.09 313.045 Q2196.46 313.045 2198.54 313.392 Q2200.62 313.739 2202.38 314.434 Z\" fill=\"#000000\" fill-rule=\"evenodd\" fill-opacity=\"1\" /><path clip-path=\"url(#clip890)\" d=\"M2210.55 313.67 L2214.81 313.67 L2214.81 339.596 L2210.55 339.596 L2210.55 313.67 M2210.55 303.577 L2214.81 303.577 L2214.81 308.971 L2210.55 308.971 L2210.55 303.577 Z\" fill=\"#000000\" fill-rule=\"evenodd\" fill-opacity=\"1\" /><polyline clip-path=\"url(#clip890)\" style=\"stroke:#c271d2; stroke-linecap:round; stroke-linejoin:round; stroke-width:4; stroke-opacity:1; fill:none\" points=\"1994.73,374.156 2132.62,374.156 \"/>\n",
       "<path clip-path=\"url(#clip890)\" d=\"M2159.88 387.547 L2159.88 401.297 L2155.6 401.297 L2155.6 365.51 L2159.88 365.51 L2159.88 369.445 Q2161.22 367.13 2163.26 366.019 Q2165.32 364.885 2168.17 364.885 Q2172.89 364.885 2175.83 368.635 Q2178.79 372.385 2178.79 378.496 Q2178.79 384.607 2175.83 388.357 Q2172.89 392.107 2168.17 392.107 Q2165.32 392.107 2163.26 390.996 Q2161.22 389.862 2159.88 387.547 M2174.37 378.496 Q2174.37 373.797 2172.43 371.135 Q2170.51 368.45 2167.13 368.45 Q2163.75 368.45 2161.8 371.135 Q2159.88 373.797 2159.88 378.496 Q2159.88 383.195 2161.8 385.88 Q2163.75 388.542 2167.13 388.542 Q2170.51 388.542 2172.43 385.88 Q2174.37 383.195 2174.37 378.496 Z\" fill=\"#000000\" fill-rule=\"evenodd\" fill-opacity=\"1\" /><path clip-path=\"url(#clip890)\" d=\"M2202.38 366.274 L2202.38 370.302 Q2200.58 369.376 2198.63 368.913 Q2196.69 368.45 2194.6 368.45 Q2191.43 368.45 2189.83 369.422 Q2188.26 370.394 2188.26 372.339 Q2188.26 373.82 2189.4 374.677 Q2190.53 375.51 2193.96 376.274 L2195.41 376.598 Q2199.95 377.57 2201.85 379.352 Q2203.77 381.112 2203.77 384.283 Q2203.77 387.894 2200.9 390.001 Q2198.05 392.107 2193.05 392.107 Q2190.97 392.107 2188.7 391.69 Q2186.46 391.297 2183.96 390.487 L2183.96 386.089 Q2186.32 387.315 2188.61 387.94 Q2190.9 388.542 2193.15 388.542 Q2196.15 388.542 2197.77 387.524 Q2199.4 386.482 2199.4 384.607 Q2199.4 382.871 2198.21 381.945 Q2197.06 381.019 2193.1 380.163 L2191.62 379.815 Q2187.66 378.982 2185.9 377.269 Q2184.14 375.533 2184.14 372.524 Q2184.14 368.866 2186.73 366.876 Q2189.33 364.885 2194.09 364.885 Q2196.46 364.885 2198.54 365.232 Q2200.62 365.579 2202.38 366.274 Z\" fill=\"#000000\" fill-rule=\"evenodd\" fill-opacity=\"1\" /><path clip-path=\"url(#clip890)\" d=\"M2210.55 365.51 L2214.81 365.51 L2214.81 391.436 L2210.55 391.436 L2210.55 365.51 M2210.55 355.417 L2214.81 355.417 L2214.81 360.811 L2210.55 360.811 L2210.55 355.417 Z\" fill=\"#000000\" fill-rule=\"evenodd\" fill-opacity=\"1\" /><path clip-path=\"url(#clip890)\" d=\"M2224.81 385.556 L2229.7 385.556 L2229.7 389.538 L2225.9 396.945 L2222.91 396.945 L2224.81 389.538 L2224.81 385.556 Z\" fill=\"#000000\" fill-rule=\"evenodd\" fill-opacity=\"1\" /><path clip-path=\"url(#clip890)\" d=\"M2260.34 365.51 L2250.97 378.126 L2260.83 391.436 L2255.81 391.436 L2248.26 381.251 L2240.71 391.436 L2235.69 391.436 L2245.76 377.871 L2236.55 365.51 L2241.57 365.51 L2248.45 374.746 L2255.32 365.51 L2260.34 365.51 Z\" fill=\"#000000\" fill-rule=\"evenodd\" fill-opacity=\"1\" /></svg>\n"
      ]
     },
     "execution_count": 143,
     "metadata": {},
     "output_type": "execute_result"
    }
   ],
   "source": [
    "using Plots #showing initial data and the initial status of the horizon finder\n",
    "plot(initX[4:L-3], state_array[4:L-3,1:4], xaxis=\"x\",title=\"Initial Data\", labels=[\"m\" \"beta\" \"psi\" \"psi,x\"])"
   ]
  },
  {
   "cell_type": "markdown",
   "id": "9b444ece",
   "metadata": {
    "papermill": {
     "duration": 0.009161,
     "end_time": "2023-03-28T18:06:25.373170",
     "exception": false,
     "start_time": "2023-03-28T18:06:25.364009",
     "status": "completed"
    },
    "tags": []
   },
   "source": [
    "# Defining the initial state array for the evolution m β Ψ and Ψ,x"
   ]
  },
  {
   "cell_type": "code",
   "execution_count": 144,
   "id": "9902ffab",
   "metadata": {
    "execution": {
     "iopub.execute_input": "2023-03-28T19:06:25.389000Z",
     "iopub.status.busy": "2023-03-28T19:06:25.388000Z",
     "iopub.status.idle": "2023-03-28T19:06:32.710000Z",
     "shell.execute_reply": "2023-03-28T19:06:32.710000Z"
    },
    "papermill": {
     "duration": 7.335269,
     "end_time": "2023-03-28T18:06:32.715990",
     "exception": false,
     "start_time": "2023-03-28T18:06:25.380721",
     "status": "completed"
    },
    "tags": []
   },
   "outputs": [
    {
     "data": {
      "text/plain": [
       "\"/home/rita13santos/Desktop/MSc Thesis/Git/ScalarField/DATA/res3/time_step0.csv\""
      ]
     },
     "execution_count": 144,
     "metadata": {},
     "output_type": "execute_result"
    }
   ],
   "source": [
    "using CSV, Tables\n",
    "#CSV.write(dir*\"/time_step0.csv\", Tables.table(transpose(Matrix(state_array))), writeheader=false)\n",
    "CSV.write(dir*\"/res$res/time_step0.csv\", Tables.table(state_array), writeheader=false)"
   ]
  },
  {
   "cell_type": "code",
   "execution_count": null,
   "id": "dc53bde1",
   "metadata": {},
   "outputs": [],
   "source": []
  },
  {
   "cell_type": "code",
   "execution_count": null,
   "id": "313950d4",
   "metadata": {},
   "outputs": [],
   "source": []
  },
  {
   "cell_type": "code",
   "execution_count": null,
   "id": "523e0f1d",
   "metadata": {},
   "outputs": [],
   "source": []
  },
  {
   "cell_type": "code",
   "execution_count": 145,
   "id": "fff1426a",
   "metadata": {
    "execution": {
     "iopub.execute_input": "2023-03-28T19:06:33.154000Z",
     "iopub.status.busy": "2023-03-28T19:06:32.734000Z",
     "iopub.status.idle": "2023-03-28T19:06:33.884000Z",
     "shell.execute_reply": "2023-03-28T19:06:33.884000Z"
    },
    "papermill": {
     "duration": 1.164178,
     "end_time": "2023-03-28T18:06:33.889802",
     "exception": false,
     "start_time": "2023-03-28T18:06:32.725624",
     "status": "completed"
    },
    "tags": []
   },
   "outputs": [
    {
     "data": {
      "text/plain": [
       "\"/home/rita13santos/Desktop/MSc Thesis/Git/ScalarField/DATA/parameters.csv\""
      ]
     },
     "execution_count": 145,
     "metadata": {},
     "output_type": "execute_result"
    }
   ],
   "source": [
    "time=0.0\n",
    "criticality=0.0\n",
    "explode=0.0\n",
    "evol_stats = [criticality A sigma r0 time explode run]\n",
    "monitor_ratio = zeros(L)\n",
    "CSV.write(dir*\"/parameters.csv\", Tables.table(evol_stats), writeheader=true, header=[\"criticality\", \"A\", \"sigma\", \"r0\", \"time\", \"explode\", \"run\"])"
   ]
  },
  {
   "cell_type": "code",
   "execution_count": 146,
   "id": "9e9abd7d",
   "metadata": {},
   "outputs": [
    {
     "name": "stdout",
     "output_type": "stream",
     "text": [
      "1.0\n"
     ]
    }
   ],
   "source": [
    "ginit=dt_scale(initX,state_array[:,1],state_array[:,2],dx)\n",
    "println(update_dt(initX,state_array[:,1],state_array[:,2],dx,ginit)/dt)"
   ]
  },
  {
   "cell_type": "markdown",
   "id": "42e2c73d",
   "metadata": {
    "papermill": {
     "duration": 0.007626,
     "end_time": "2023-03-28T18:06:33.908346",
     "exception": false,
     "start_time": "2023-03-28T18:06:33.900720",
     "status": "completed"
    },
    "tags": []
   },
   "source": [
    " ## Time evolution"
   ]
  },
  {
   "cell_type": "markdown",
   "id": "7da47594",
   "metadata": {
    "papermill": {
     "duration": 0.007471,
     "end_time": "2023-03-28T18:06:33.923805",
     "exception": false,
     "start_time": "2023-03-28T18:06:33.916334",
     "status": "completed"
    },
    "tags": []
   },
   "source": [
    "fixed grid"
   ]
  },
  {
   "cell_type": "code",
   "execution_count": 147,
   "id": "fcb7ae3f",
   "metadata": {
    "execution": {
     "iopub.execute_input": "2023-03-28T19:06:33.940000Z",
     "iopub.status.busy": "2023-03-28T19:06:33.940000Z",
     "iopub.status.idle": "2023-03-28T21:02:19.379000Z",
     "shell.execute_reply": "2023-03-28T21:02:19.378000Z"
    },
    "papermill": {
     "duration": 6945.452732,
     "end_time": "2023-03-28T20:02:19.384591",
     "exception": false,
     "start_time": "2023-03-28T18:06:33.931859",
     "status": "completed"
    },
    "tags": []
   },
   "outputs": [
    {
     "name": "stdout",
     "output_type": "stream",
     "text": [
      "iteration 10 dt is 0.00125, time of iteration is 0.012499999999999999\n",
      "iteration 20 dt is 0.00125, time of iteration is 0.025000000000000005\n",
      "iteration 30 dt is 0.00125, time of iteration is 0.03750000000000001\n",
      "iteration 40 dt is 0.00125, time of iteration is 0.050000000000000024\n",
      "iteration 50 dt is 0.00125, time of iteration is 0.06250000000000003\n",
      "iteration 60 dt is 0.00125, time of iteration is 0.07500000000000004\n",
      "iteration 70 dt is 0.00125, time of iteration is 0.08750000000000005\n",
      "iteration 80 dt is 0.00125, time of iteration is 0.10000000000000006\n",
      "iteration 90 dt is 0.00125, time of iteration is 0.11250000000000007\n",
      "iteration 100 dt is 0.00125, time of iteration is 0.12500000000000008\n",
      "iteration 110 dt is 0.00125, time of iteration is 0.1375000000000001\n",
      "iteration 120 dt is 0.00125, time of iteration is 0.1500000000000001\n",
      "iteration 130 dt is 0.00125, time of iteration is 0.16250000000000012\n",
      "iteration 140 dt is 0.00125, time of iteration is 0.17500000000000013\n",
      "iteration 150 dt is 0.00125, time of iteration is 0.18750000000000014\n",
      "iteration 160 dt is 0.00125, time of iteration is 0.20000000000000015\n",
      "iteration 170 dt is 0.00125, time of iteration is 0.21250000000000016\n",
      "iteration 180 dt is 0.00125, time of iteration is 0.22500000000000017\n",
      "iteration 190 dt is 0.00125, time of iteration is 0.23750000000000018\n",
      "iteration 200 dt is 0.00125, time of iteration is 0.25000000000000017\n",
      "iteration 210 dt is 0.00125, time of iteration is 0.2624999999999999\n",
      "iteration 220 dt is 0.00125, time of iteration is 0.27499999999999963\n",
      "iteration 230 dt is 0.00125, time of iteration is 0.28749999999999937\n",
      "iteration 240 dt is 0.00125, time of iteration is 0.2999999999999991\n",
      "iteration 250 dt is 0.00125, time of iteration is 0.31249999999999883\n",
      "iteration 260 dt is 0.00125, time of iteration is 0.32499999999999857\n",
      "iteration 270 dt is 0.00125, time of iteration is 0.3374999999999983\n",
      "iteration 280 dt is 0.00125, time of iteration is 0.34999999999999803\n",
      "iteration 290 dt is 0.00125, time of iteration is 0.36249999999999777\n",
      "iteration 300 dt is 0.00125, time of iteration is 0.3749999999999975\n",
      "iteration 310 dt is 0.00125, time of iteration is 0.38749999999999724\n",
      "iteration 320 dt is 0.00125, time of iteration is 0.39999999999999697\n",
      "iteration 330 dt is 0.00125, time of iteration is 0.4124999999999967\n",
      "iteration 340 dt is 0.00125, time of iteration is 0.42499999999999644\n",
      "iteration 350 dt is 0.00125, time of iteration is 0.43749999999999617\n",
      "iteration 360 dt is 0.00125, time of iteration is 0.4499999999999959\n",
      "iteration 370 dt is 0.00125, time of iteration is 0.46249999999999564\n",
      "iteration 380 dt is 0.00125, time of iteration is 0.47499999999999537\n",
      "iteration 390 dt is 0.00125, time of iteration is 0.4874999999999951\n",
      "iteration 400 dt is 0.00125, time of iteration is 0.49999999999999484\n",
      "iteration 410 dt is 0.00125, time of iteration is 0.5124999999999946\n",
      "iteration 420 dt is 0.00125, time of iteration is 0.5249999999999944\n",
      "iteration 430 dt is 0.00125, time of iteration is 0.5374999999999941\n",
      "iteration 440 dt is 0.00125, time of iteration is 0.5499999999999938\n",
      "iteration 450 dt is 0.00125, time of iteration is 0.5624999999999936\n",
      "iteration 460 dt is 0.00125, time of iteration is 0.5749999999999933\n",
      "iteration 470 dt is 0.00125, time of iteration is 0.587499999999993\n",
      "iteration 480 dt is 0.00125, time of iteration is 0.5999999999999928\n",
      "iteration 490 dt is 0.00125, time of iteration is 0.6124999999999925\n",
      "iteration 500 dt is 0.00125, time of iteration is 0.6249999999999922\n",
      "iteration 510 dt is 0.00125, time of iteration is 0.637499999999992\n",
      "iteration 520 dt is 0.00125, time of iteration is 0.6499999999999917\n",
      "iteration 530 dt is 0.00125, time of iteration is 0.6624999999999914\n",
      "iteration 540 dt is 0.00125, time of iteration is 0.6749999999999912\n",
      "iteration 550 dt is 0.00125, time of iteration is 0.6874999999999909\n",
      "iteration 560 dt is 0.00125, time of iteration is 0.6999999999999906\n",
      "iteration 570 dt is 0.00125, time of iteration is 0.7124999999999904\n",
      "iteration 580 dt is 0.00125, time of iteration is 0.7249999999999901\n",
      "iteration 590 dt is 0.00125, time of iteration is 0.7374999999999898\n",
      "iteration 600 dt is 0.00125, time of iteration is 0.7499999999999896\n",
      "iteration 610 dt is 0.00125, time of iteration is 0.7624999999999893\n",
      "iteration 620 dt is 0.00125, time of iteration is 0.774999999999989\n",
      "iteration 630 dt is 0.00125, time of iteration is 0.7874999999999888\n",
      "iteration 640 dt is 0.00125, time of iteration is 0.7999999999999885\n",
      "iteration 650 dt is 0.00125, time of iteration is 0.8124999999999882\n",
      "iteration 660 dt is 0.00125, time of iteration is 0.824999999999988\n",
      "iteration 670 dt is 0.00125, time of iteration is 0.8374999999999877\n",
      "iteration 680 dt is 0.00125, time of iteration is 0.8499999999999874\n",
      "iteration 690 dt is 0.00125, time of iteration is 0.8624999999999872\n",
      "iteration 700 dt is 0.00125, time of iteration is 0.8749999999999869\n",
      "iteration 710 dt is 0.00125, time of iteration is 0.8874999999999866\n",
      "iteration 720 dt is 0.00125, time of iteration is 0.8999999999999864\n",
      "iteration 730 dt is 0.00125, time of iteration is 0.9124999999999861\n",
      "iteration 740 dt is 0.00125, time of iteration is 0.9249999999999858\n",
      "iteration 750 dt is 0.00125, time of iteration is 0.9374999999999856\n",
      "iteration 760 dt is 0.00125, time of iteration is 0.9499999999999853\n",
      "iteration 770 dt is 0.00125, time of iteration is 0.962499999999985\n",
      "iteration 780 dt is 0.00125, time of iteration is 0.9749999999999848\n",
      "iteration 790 dt is 0.00125, time of iteration is 0.9874999999999845\n",
      "iteration 800 dt is 0.00125, time of iteration is 0.9999999999999842\n",
      "iteration 810 dt is 0.00125, time of iteration is 1.012499999999984\n",
      "iteration 820 dt is 0.00125, time of iteration is 1.0249999999999837\n",
      "iteration 830 dt is 0.00125, time of iteration is 1.0374999999999834\n",
      "iteration 840 dt is 0.00125, time of iteration is 1.0499999999999832\n",
      "iteration 850 dt is 0.00125, time of iteration is 1.062499999999983\n",
      "iteration 860 dt is 0.00125, time of iteration is 1.0749999999999826\n",
      "iteration 870 dt is 0.00125, time of iteration is 1.0874999999999824\n",
      "iteration 880 dt is 0.00125, time of iteration is 1.099999999999982\n",
      "iteration 890 dt is 0.00125, time of iteration is 1.1124999999999818\n",
      "iteration 900 dt is 0.00125, time of iteration is 1.1249999999999816\n",
      "iteration 910 dt is 0.00125, time of iteration is 1.1374999999999813\n",
      "iteration 920 dt is 0.00125, time of iteration is 1.149999999999981\n",
      "iteration 930 dt is 0.00125, time of iteration is 1.1624999999999808\n",
      "iteration 940 dt is 0.00125, time of iteration is 1.1749999999999805\n",
      "iteration 950 dt is 0.00125, time of iteration is 1.1874999999999802\n",
      "iteration 960 dt is 0.00125, time of iteration is 1.19999999999998\n",
      "iteration 970 dt is 0.00125, time of iteration is 1.2124999999999797\n",
      "iteration 980 dt is 0.00125, time of iteration is 1.2249999999999794\n",
      "iteration 990 dt is 0.00125, time of iteration is 1.2374999999999792\n",
      "iteration 1000 dt is 0.00125, time of iteration is 1.249999999999979\n",
      "iteration 1010 dt is 0.00125, time of iteration is 1.2624999999999786\n",
      "iteration 1020 dt is 0.00125, time of iteration is 1.2749999999999784\n",
      "iteration 1030 dt is 0.00125, time of iteration is 1.287499999999978\n",
      "iteration 1040 dt is 0.00125, time of iteration is 1.2999999999999778\n"
     ]
    }
   ],
   "source": [
    "finaltime=1.3#0.08*2#0.005*10*5#1#0.9#0.8#0.04*5*4#length(T)-1\n",
    "evol_stats, T_interp = timeevolution(state_array,finaltime,dir*\"/res$res\",run,auxstate_array);\n",
    "CSV.write(dir*\"/timearray$res.csv\", Tables.table(T_interp), writeheader=false);\n",
    "#CSV.write(dir*\"/parameters.csv\", Tables.table(evol_stats), writeheader=false);"
   ]
  },
  {
   "cell_type": "markdown",
   "id": "715897d3",
   "metadata": {
    "papermill": {
     "duration": 0.007626,
     "end_time": "2023-03-28T18:06:33.908346",
     "exception": false,
     "start_time": "2023-03-28T18:06:33.900720",
     "status": "completed"
    },
    "tags": []
   },
   "source": [
    " ## Movie of the evolution"
   ]
  },
  {
   "cell_type": "code",
   "execution_count": 111,
   "id": "973cea47",
   "metadata": {},
   "outputs": [
    {
     "name": "stderr",
     "output_type": "stream",
     "text": [
      "\u001b[36m\u001b[1m[ \u001b[22m\u001b[39m\u001b[36m\u001b[1mInfo: \u001b[22m\u001b[39mSaved animation to /home/rita13santos/Desktop/MSc Thesis/Git/ScalarField/anim_res1.gif\n"
     ]
    },
    {
     "data": {
      "text/html": [
       "<img src=\"data:image/gif;base64,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\" />"
      ],
      "text/plain": [
       "Plots.AnimatedGif(\"/home/rita13santos/Desktop/MSc Thesis/Git/ScalarField/anim_res1.gif\")"
      ]
     },
     "execution_count": 111,
     "metadata": {},
     "output_type": "execute_result"
    }
   ],
   "source": [
    "using Plots, CSV, DataFrames\n",
    "import GR\n",
    "anim = @animate for n in 100:10:260\n",
    "    \n",
    "    \n",
    "    IJulia.clear_output(true)\n",
    "    \n",
    "    functions3=DataFrame(CSV.File(dir*\"/res$res/time_step$n.csv\",header=false, delim=\",\"))\n",
    "    plot()\n",
    "        plot1=functions3.Column1[4:L-3];\n",
    "        plot2=functions3.Column2[4:L-3];\n",
    "        plot3=functions3.Column3[4:L-3];\n",
    "        plot4=functions3.Column4[4:L-3];\n",
    "        plot5=functions3.Column5[4:L-3];\n",
    "    \n",
    "    plot!(initX1, [plot1 plot2 plot3 plot4], labels=[\"m\" \"beta\" \"psi\" \"psi,x\"], ylim=[-0.01, 0.01],xlim=[0.0, 1])#, xlim=[0, 0.1])# |> display \n",
    "    #plot!(initX[4:L-3], [plot1], labels=[\"m\" \"beta\" \"psi\" \"psi,x\"],ylim=[-1,1])#, xlim=[0, 0.1]) |> display \n",
    "    \n",
    "    end\n",
    "\n",
    "gif(anim, \"anim_res$res.gif\", fps = 10)"
   ]
  },
  {
   "cell_type": "code",
   "execution_count": 21,
   "id": "136494ed",
   "metadata": {},
   "outputs": [
    {
     "data": {
      "text/plain": [
       "0.015625"
      ]
     },
     "execution_count": 21,
     "metadata": {},
     "output_type": "execute_result"
    }
   ],
   "source": [
    "epsilon(dt,dx)"
   ]
  },
  {
   "cell_type": "code",
   "execution_count": null,
   "id": "61515e30",
   "metadata": {},
   "outputs": [],
   "source": []
  },
  {
   "cell_type": "code",
   "execution_count": null,
   "id": "1337e83d",
   "metadata": {},
   "outputs": [],
   "source": []
  },
  {
   "cell_type": "code",
   "execution_count": 1056,
   "id": "c6b8b7bc",
   "metadata": {},
   "outputs": [
    {
     "ename": "LoadError",
     "evalue": "ArgumentError: \"/home/rita13santos/Desktop/MSc Thesis/Git/ScalarField/DATA/res3/monitor_ratio10.csv\" is not a valid file or doesn't exist",
     "output_type": "error",
     "traceback": [
      "ArgumentError: \"/home/rita13santos/Desktop/MSc Thesis/Git/ScalarField/DATA/res3/monitor_ratio10.csv\" is not a valid file or doesn't exist",
      "",
      "Stacktrace:",
      " [1] CSV.Context(source::CSV.Arg, header::CSV.Arg, normalizenames::CSV.Arg, datarow::CSV.Arg, skipto::CSV.Arg, footerskip::CSV.Arg, transpose::CSV.Arg, comment::CSV.Arg, ignoreemptyrows::CSV.Arg, ignoreemptylines::CSV.Arg, select::CSV.Arg, drop::CSV.Arg, limit::CSV.Arg, buffer_in_memory::CSV.Arg, threaded::CSV.Arg, ntasks::CSV.Arg, tasks::CSV.Arg, rows_to_check::CSV.Arg, lines_to_check::CSV.Arg, missingstrings::CSV.Arg, missingstring::CSV.Arg, delim::CSV.Arg, ignorerepeated::CSV.Arg, quoted::CSV.Arg, quotechar::CSV.Arg, openquotechar::CSV.Arg, closequotechar::CSV.Arg, escapechar::CSV.Arg, dateformat::CSV.Arg, dateformats::CSV.Arg, decimal::CSV.Arg, truestrings::CSV.Arg, falsestrings::CSV.Arg, stripwhitespace::CSV.Arg, type::CSV.Arg, types::CSV.Arg, typemap::CSV.Arg, pool::CSV.Arg, downcast::CSV.Arg, lazystrings::CSV.Arg, stringtype::CSV.Arg, strict::CSV.Arg, silencewarnings::CSV.Arg, maxwarnings::CSV.Arg, debug::CSV.Arg, parsingdebug::CSV.Arg, validate::CSV.Arg, streaming::CSV.Arg)",
      "   @ CSV ~/.julia/packages/CSV/b8ebJ/src/context.jl:306",
      " [2] #File#28",
      "   @ ~/.julia/packages/CSV/b8ebJ/src/file.jl:221 [inlined]",
      " [3] macro expansion",
      "   @ ./In[1056]:7 [inlined]",
      " [4] top-level scope",
      "   @ ~/.julia/packages/Plots/bMtsB/src/animation.jl:251"
     ]
    }
   ],
   "source": [
    "using Plots, CSV, DataFrames\n",
    "import GR\n",
    "anim = @animate for n in 10:10:1000#length(T)-1\n",
    "    \n",
    "    IJulia.clear_output(true)\n",
    "    \n",
    "    functions3=DataFrame(CSV.File(dir*\"/res$res/monitor_ratio$n.csv\",header=false, delim=\",\"))\n",
    "    plot()\n",
    "        plot1=functions3.Column1[4:L-3];\n",
    "    \n",
    "    plot!(initX1, [plot1], labels=[\"monitor ratio\"], ylim=[0, 1])# |> display \n",
    "    #plot!(initX[4:L-3], [plot1], labels=[\"m\" \"beta\" \"psi\" \"psi,x\"],ylim=[-1,1])#, xlim=[0, 0.1]) |> display \n",
    "    \n",
    "    end\n",
    "\n",
    "gif(anim, \"anim_res$res.gif\", fps = 5)"
   ]
  },
  {
   "cell_type": "code",
   "execution_count": 316,
   "id": "34adf7fe",
   "metadata": {},
   "outputs": [
    {
     "data": {
      "text/plain": [
       "0.001"
      ]
     },
     "execution_count": 316,
     "metadata": {},
     "output_type": "execute_result"
    }
   ],
   "source": [
    "dt"
   ]
  },
  {
   "cell_type": "code",
   "execution_count": 318,
   "id": "af4f5c73",
   "metadata": {},
   "outputs": [
    {
     "data": {
      "text/plain": [
       "0.0078125"
      ]
     },
     "execution_count": 318,
     "metadata": {},
     "output_type": "execute_result"
    }
   ],
   "source": []
  },
  {
   "cell_type": "code",
   "execution_count": null,
   "id": "f2ce4c53",
   "metadata": {},
   "outputs": [],
   "source": []
  },
  {
   "cell_type": "code",
   "execution_count": 31,
   "id": "77840b7c",
   "metadata": {},
   "outputs": [
    {
     "data": {
      "text/plain": [
       "207-element Vector{Float64}:\n",
       " -2.365518250288725e-9\n",
       " -9.136367842295702e-10\n",
       " -2.14954583648039e-10\n",
       "  0.0\n",
       "  6.986152586784135e-13\n",
       "  5.661291067212787e-11\n",
       "  4.3721453478448e-10\n",
       "  1.681826439904089e-9\n",
       "  4.6038562839992895e-9\n",
       "  1.0296050405382373e-8\n",
       "  2.0137407051887777e-8\n",
       "  3.5801665455811194e-8\n",
       "  5.926726083699171e-8\n",
       "  ⋮\n",
       " -0.0\n",
       " -0.0\n",
       " -0.0\n",
       " -0.0\n",
       " -0.0\n",
       "  0.0\n",
       "  0.0\n",
       "  0.0\n",
       "  0.0\n",
       "  0.0\n",
       "  0.0\n",
       "  0.0"
      ]
     },
     "execution_count": 31,
     "metadata": {},
     "output_type": "execute_result"
    }
   ],
   "source": [
    "state_array[:,4]"
   ]
  },
  {
   "cell_type": "code",
   "execution_count": 37,
   "id": "fab5b30a",
   "metadata": {},
   "outputs": [
    {
     "name": "stdout",
     "output_type": "stream",
     "text": [
      "3.017168193837207e-8\n",
      "0.00017208804225226937\n"
     ]
    }
   ],
   "source": [
    "\n",
    "auxinitX= range(0,1,step=dx)\n",
    "println(Der(state_array,6,4,auxinitX))\n",
    "\n",
    "spl= Spline1D(initX[4:L-3], state_array[4:L-3,4],  k=4);\n",
    "println(derivative(spl, auxinitX[6]))"
   ]
  },
  {
   "cell_type": "code",
   "execution_count": 53,
   "id": "654d7d27",
   "metadata": {},
   "outputs": [
    {
     "name": "stdout",
     "output_type": "stream",
     "text": [
      "0.014407887381376435\n",
      "0.014407810796996974\n",
      "-7.658437946138352e-8\n"
     ]
    }
   ],
   "source": [
    "println(Der(state_array,60,4,initX))\n",
    "\n",
    "spl= Spline1D(initX[4:L-3], state_array[4:L-3,4],  k=4);\n",
    "println(derivative(spl, initX[60]))\n",
    "\n",
    "println(derivative(spl, initX[60]).-Der(state_array,60,4,initX))"
   ]
  },
  {
   "cell_type": "code",
   "execution_count": 30,
   "id": "a05acb5f",
   "metadata": {},
   "outputs": [
    {
     "data": {
      "text/plain": [
       "0.2713799770174635"
      ]
     },
     "execution_count": 30,
     "metadata": {},
     "output_type": "execute_result"
    }
   ],
   "source": [
    "using Roots\n",
    "find_zero(derpsi_func, (0,0.5), Bisection())"
   ]
  },
  {
   "cell_type": "code",
   "execution_count": 23,
   "id": "eb36f345",
   "metadata": {},
   "outputs": [
    {
     "data": {
      "image/svg+xml": [
       "<?xml version=\"1.0\" encoding=\"utf-8\"?>\n",
       "<svg xmlns=\"http://www.w3.org/2000/svg\" xmlns:xlink=\"http://www.w3.org/1999/xlink\" width=\"600\" height=\"400\" viewBox=\"0 0 2400 1600\">\n",
       "<defs>\n",
       "  <clipPath id=\"clip640\">\n",
       "    <rect x=\"0\" y=\"0\" width=\"2400\" height=\"1600\"/>\n",
       "  </clipPath>\n",
       "</defs>\n",
       "<path clip-path=\"url(#clip640)\" d=\"M0 1600 L2400 1600 L2400 0 L0 0  Z\" fill=\"#ffffff\" fill-rule=\"evenodd\" fill-opacity=\"1\"/>\n",
       "<defs>\n",
       "  <clipPath id=\"clip641\">\n",
       "    <rect x=\"480\" y=\"0\" width=\"1681\" height=\"1600\"/>\n",
       "  </clipPath>\n",
       "</defs>\n",
       "<path clip-path=\"url(#clip640)\" d=\"M314.583 1486.45 L2352.76 1486.45 L2352.76 47.2441 L314.583 47.2441  Z\" fill=\"#ffffff\" fill-rule=\"evenodd\" fill-opacity=\"1\"/>\n",
       "<defs>\n",
       "  <clipPath id=\"clip642\">\n",
       "    <rect x=\"314\" y=\"47\" width=\"2039\" height=\"1440\"/>\n",
       "  </clipPath>\n",
       "</defs>\n",
       "<polyline clip-path=\"url(#clip642)\" style=\"stroke:#000000; stroke-linecap:round; stroke-linejoin:round; stroke-width:2; stroke-opacity:0.1; fill:none\" points=\"372.268,1486.45 372.268,47.2441 \"/>\n",
       "<polyline clip-path=\"url(#clip642)\" style=\"stroke:#000000; stroke-linecap:round; stroke-linejoin:round; stroke-width:2; stroke-opacity:0.1; fill:none\" points=\"853.035,1486.45 853.035,47.2441 \"/>\n",
       "<polyline clip-path=\"url(#clip642)\" style=\"stroke:#000000; stroke-linecap:round; stroke-linejoin:round; stroke-width:2; stroke-opacity:0.1; fill:none\" points=\"1333.8,1486.45 1333.8,47.2441 \"/>\n",
       "<polyline clip-path=\"url(#clip642)\" style=\"stroke:#000000; stroke-linecap:round; stroke-linejoin:round; stroke-width:2; stroke-opacity:0.1; fill:none\" points=\"1814.57,1486.45 1814.57,47.2441 \"/>\n",
       "<polyline clip-path=\"url(#clip642)\" style=\"stroke:#000000; stroke-linecap:round; stroke-linejoin:round; stroke-width:2; stroke-opacity:0.1; fill:none\" points=\"2295.34,1486.45 2295.34,47.2441 \"/>\n",
       "<polyline clip-path=\"url(#clip640)\" style=\"stroke:#000000; stroke-linecap:round; stroke-linejoin:round; stroke-width:4; stroke-opacity:1; fill:none\" points=\"314.583,1486.45 2352.76,1486.45 \"/>\n",
       "<polyline clip-path=\"url(#clip640)\" style=\"stroke:#000000; stroke-linecap:round; stroke-linejoin:round; stroke-width:4; stroke-opacity:1; fill:none\" points=\"372.268,1486.45 372.268,1467.55 \"/>\n",
       "<polyline clip-path=\"url(#clip640)\" style=\"stroke:#000000; stroke-linecap:round; stroke-linejoin:round; stroke-width:4; stroke-opacity:1; fill:none\" points=\"853.035,1486.45 853.035,1467.55 \"/>\n",
       "<polyline clip-path=\"url(#clip640)\" style=\"stroke:#000000; stroke-linecap:round; stroke-linejoin:round; stroke-width:4; stroke-opacity:1; fill:none\" points=\"1333.8,1486.45 1333.8,1467.55 \"/>\n",
       "<polyline clip-path=\"url(#clip640)\" style=\"stroke:#000000; stroke-linecap:round; stroke-linejoin:round; stroke-width:4; stroke-opacity:1; fill:none\" points=\"1814.57,1486.45 1814.57,1467.55 \"/>\n",
       "<polyline clip-path=\"url(#clip640)\" style=\"stroke:#000000; stroke-linecap:round; stroke-linejoin:round; stroke-width:4; stroke-opacity:1; fill:none\" points=\"2295.34,1486.45 2295.34,1467.55 \"/>\n",
       "<path clip-path=\"url(#clip640)\" d=\"M334.571 1517.37 Q330.96 1517.37 329.131 1520.93 Q327.326 1524.47 327.326 1531.6 Q327.326 1538.71 329.131 1542.27 Q330.96 1545.82 334.571 1545.82 Q338.205 1545.82 340.011 1542.27 Q341.84 1538.71 341.84 1531.6 Q341.84 1524.47 340.011 1520.93 Q338.205 1517.37 334.571 1517.37 M334.571 1513.66 Q340.381 1513.66 343.437 1518.27 Q346.515 1522.85 346.515 1531.6 Q346.515 1540.33 343.437 1544.94 Q340.381 1549.52 334.571 1549.52 Q328.761 1549.52 325.682 1544.94 Q322.627 1540.33 322.627 1531.6 Q322.627 1522.85 325.682 1518.27 Q328.761 1513.66 334.571 1513.66 Z\" fill=\"#000000\" fill-rule=\"evenodd\" fill-opacity=\"1\" /><path clip-path=\"url(#clip640)\" d=\"M354.733 1542.97 L359.617 1542.97 L359.617 1548.85 L354.733 1548.85 L354.733 1542.97 Z\" fill=\"#000000\" fill-rule=\"evenodd\" fill-opacity=\"1\" /><path clip-path=\"url(#clip640)\" d=\"M379.802 1517.37 Q376.191 1517.37 374.363 1520.93 Q372.557 1524.47 372.557 1531.6 Q372.557 1538.71 374.363 1542.27 Q376.191 1545.82 379.802 1545.82 Q383.437 1545.82 385.242 1542.27 Q387.071 1538.71 387.071 1531.6 Q387.071 1524.47 385.242 1520.93 Q383.437 1517.37 379.802 1517.37 M379.802 1513.66 Q385.612 1513.66 388.668 1518.27 Q391.747 1522.85 391.747 1531.6 Q391.747 1540.33 388.668 1544.94 Q385.612 1549.52 379.802 1549.52 Q373.992 1549.52 370.913 1544.94 Q367.858 1540.33 367.858 1531.6 Q367.858 1522.85 370.913 1518.27 Q373.992 1513.66 379.802 1513.66 Z\" fill=\"#000000\" fill-rule=\"evenodd\" fill-opacity=\"1\" /><path clip-path=\"url(#clip640)\" d=\"M409.964 1517.37 Q406.353 1517.37 404.524 1520.93 Q402.719 1524.47 402.719 1531.6 Q402.719 1538.71 404.524 1542.27 Q406.353 1545.82 409.964 1545.82 Q413.598 1545.82 415.404 1542.27 Q417.233 1538.71 417.233 1531.6 Q417.233 1524.47 415.404 1520.93 Q413.598 1517.37 409.964 1517.37 M409.964 1513.66 Q415.774 1513.66 418.83 1518.27 Q421.909 1522.85 421.909 1531.6 Q421.909 1540.33 418.83 1544.94 Q415.774 1549.52 409.964 1549.52 Q404.154 1549.52 401.075 1544.94 Q398.02 1540.33 398.02 1531.6 Q398.02 1522.85 401.075 1518.27 Q404.154 1513.66 409.964 1513.66 Z\" fill=\"#000000\" fill-rule=\"evenodd\" fill-opacity=\"1\" /><path clip-path=\"url(#clip640)\" d=\"M815.836 1517.37 Q812.225 1517.37 810.396 1520.93 Q808.591 1524.47 808.591 1531.6 Q808.591 1538.71 810.396 1542.27 Q812.225 1545.82 815.836 1545.82 Q819.47 1545.82 821.276 1542.27 Q823.104 1538.71 823.104 1531.6 Q823.104 1524.47 821.276 1520.93 Q819.47 1517.37 815.836 1517.37 M815.836 1513.66 Q821.646 1513.66 824.702 1518.27 Q827.78 1522.85 827.78 1531.6 Q827.78 1540.33 824.702 1544.94 Q821.646 1549.52 815.836 1549.52 Q810.026 1549.52 806.947 1544.94 Q803.891 1540.33 803.891 1531.6 Q803.891 1522.85 806.947 1518.27 Q810.026 1513.66 815.836 1513.66 Z\" fill=\"#000000\" fill-rule=\"evenodd\" fill-opacity=\"1\" /><path clip-path=\"url(#clip640)\" d=\"M835.998 1542.97 L840.882 1542.97 L840.882 1548.85 L835.998 1548.85 L835.998 1542.97 Z\" fill=\"#000000\" fill-rule=\"evenodd\" fill-opacity=\"1\" /><path clip-path=\"url(#clip640)\" d=\"M855.095 1544.91 L871.414 1544.91 L871.414 1548.85 L849.47 1548.85 L849.47 1544.91 Q852.132 1542.16 856.715 1537.53 Q861.322 1532.88 862.502 1531.53 Q864.748 1529.01 865.627 1527.27 Q866.53 1525.51 866.53 1523.82 Q866.53 1521.07 864.586 1519.33 Q862.664 1517.6 859.562 1517.6 Q857.363 1517.6 854.91 1518.36 Q852.479 1519.13 849.701 1520.68 L849.701 1515.95 Q852.525 1514.82 854.979 1514.24 Q857.433 1513.66 859.47 1513.66 Q864.84 1513.66 868.035 1516.35 Q871.229 1519.03 871.229 1523.52 Q871.229 1525.65 870.419 1527.57 Q869.632 1529.47 867.525 1532.07 Q866.947 1532.74 863.845 1535.95 Q860.743 1539.15 855.095 1544.91 Z\" fill=\"#000000\" fill-rule=\"evenodd\" fill-opacity=\"1\" /><path clip-path=\"url(#clip640)\" d=\"M881.275 1514.29 L899.632 1514.29 L899.632 1518.22 L885.558 1518.22 L885.558 1526.7 Q886.576 1526.35 887.595 1526.19 Q888.613 1526 889.632 1526 Q895.419 1526 898.798 1529.17 Q902.178 1532.34 902.178 1537.76 Q902.178 1543.34 898.706 1546.44 Q895.234 1549.52 888.914 1549.52 Q886.738 1549.52 884.47 1549.15 Q882.224 1548.78 879.817 1548.04 L879.817 1543.34 Q881.9 1544.47 884.123 1545.03 Q886.345 1545.58 888.822 1545.58 Q892.826 1545.58 895.164 1543.48 Q897.502 1541.37 897.502 1537.76 Q897.502 1534.15 895.164 1532.04 Q892.826 1529.94 888.822 1529.94 Q886.947 1529.94 885.072 1530.35 Q883.22 1530.77 881.275 1531.65 L881.275 1514.29 Z\" fill=\"#000000\" fill-rule=\"evenodd\" fill-opacity=\"1\" /><path clip-path=\"url(#clip640)\" d=\"M1296.11 1517.37 Q1292.49 1517.37 1290.67 1520.93 Q1288.86 1524.47 1288.86 1531.6 Q1288.86 1538.71 1290.67 1542.27 Q1292.49 1545.82 1296.11 1545.82 Q1299.74 1545.82 1301.55 1542.27 Q1303.37 1538.71 1303.37 1531.6 Q1303.37 1524.47 1301.55 1520.93 Q1299.74 1517.37 1296.11 1517.37 M1296.11 1513.66 Q1301.92 1513.66 1304.97 1518.27 Q1308.05 1522.85 1308.05 1531.6 Q1308.05 1540.33 1304.97 1544.94 Q1301.92 1549.52 1296.11 1549.52 Q1290.3 1549.52 1287.22 1544.94 Q1284.16 1540.33 1284.16 1531.6 Q1284.16 1522.85 1287.22 1518.27 Q1290.3 1513.66 1296.11 1513.66 Z\" fill=\"#000000\" fill-rule=\"evenodd\" fill-opacity=\"1\" /><path clip-path=\"url(#clip640)\" d=\"M1316.27 1542.97 L1321.15 1542.97 L1321.15 1548.85 L1316.27 1548.85 L1316.27 1542.97 Z\" fill=\"#000000\" fill-rule=\"evenodd\" fill-opacity=\"1\" /><path clip-path=\"url(#clip640)\" d=\"M1331.38 1514.29 L1349.74 1514.29 L1349.74 1518.22 L1335.67 1518.22 L1335.67 1526.7 Q1336.68 1526.35 1337.7 1526.19 Q1338.72 1526 1339.74 1526 Q1345.53 1526 1348.91 1529.17 Q1352.29 1532.34 1352.29 1537.76 Q1352.29 1543.34 1348.81 1546.44 Q1345.34 1549.52 1339.02 1549.52 Q1336.85 1549.52 1334.58 1549.15 Q1332.33 1548.78 1329.92 1548.04 L1329.92 1543.34 Q1332.01 1544.47 1334.23 1545.03 Q1336.45 1545.58 1338.93 1545.58 Q1342.93 1545.58 1345.27 1543.48 Q1347.61 1541.37 1347.61 1537.76 Q1347.61 1534.15 1345.27 1532.04 Q1342.93 1529.94 1338.93 1529.94 Q1337.05 1529.94 1335.18 1530.35 Q1333.33 1530.77 1331.38 1531.65 L1331.38 1514.29 Z\" fill=\"#000000\" fill-rule=\"evenodd\" fill-opacity=\"1\" /><path clip-path=\"url(#clip640)\" d=\"M1371.5 1517.37 Q1367.89 1517.37 1366.06 1520.93 Q1364.25 1524.47 1364.25 1531.6 Q1364.25 1538.71 1366.06 1542.27 Q1367.89 1545.82 1371.5 1545.82 Q1375.13 1545.82 1376.94 1542.27 Q1378.77 1538.71 1378.77 1531.6 Q1378.77 1524.47 1376.94 1520.93 Q1375.13 1517.37 1371.5 1517.37 M1371.5 1513.66 Q1377.31 1513.66 1380.36 1518.27 Q1383.44 1522.85 1383.44 1531.6 Q1383.44 1540.33 1380.36 1544.94 Q1377.31 1549.52 1371.5 1549.52 Q1365.69 1549.52 1362.61 1544.94 Q1359.55 1540.33 1359.55 1531.6 Q1359.55 1522.85 1362.61 1518.27 Q1365.69 1513.66 1371.5 1513.66 Z\" fill=\"#000000\" fill-rule=\"evenodd\" fill-opacity=\"1\" /><path clip-path=\"url(#clip640)\" d=\"M1777.37 1517.37 Q1773.76 1517.37 1771.93 1520.93 Q1770.12 1524.47 1770.12 1531.6 Q1770.12 1538.71 1771.93 1542.27 Q1773.76 1545.82 1777.37 1545.82 Q1781 1545.82 1782.81 1542.27 Q1784.64 1538.71 1784.64 1531.6 Q1784.64 1524.47 1782.81 1520.93 Q1781 1517.37 1777.37 1517.37 M1777.37 1513.66 Q1783.18 1513.66 1786.24 1518.27 Q1789.31 1522.85 1789.31 1531.6 Q1789.31 1540.33 1786.24 1544.94 Q1783.18 1549.52 1777.37 1549.52 Q1771.56 1549.52 1768.48 1544.94 Q1765.43 1540.33 1765.43 1531.6 Q1765.43 1522.85 1768.48 1518.27 Q1771.56 1513.66 1777.37 1513.66 Z\" fill=\"#000000\" fill-rule=\"evenodd\" fill-opacity=\"1\" /><path clip-path=\"url(#clip640)\" d=\"M1797.53 1542.97 L1802.42 1542.97 L1802.42 1548.85 L1797.53 1548.85 L1797.53 1542.97 Z\" fill=\"#000000\" fill-rule=\"evenodd\" fill-opacity=\"1\" /><path clip-path=\"url(#clip640)\" d=\"M1811.42 1514.29 L1833.64 1514.29 L1833.64 1516.28 L1821.1 1548.85 L1816.21 1548.85 L1828.02 1518.22 L1811.42 1518.22 L1811.42 1514.29 Z\" fill=\"#000000\" fill-rule=\"evenodd\" fill-opacity=\"1\" /><path clip-path=\"url(#clip640)\" d=\"M1842.81 1514.29 L1861.17 1514.29 L1861.17 1518.22 L1847.09 1518.22 L1847.09 1526.7 Q1848.11 1526.35 1849.13 1526.19 Q1850.15 1526 1851.17 1526 Q1856.95 1526 1860.33 1529.17 Q1863.71 1532.34 1863.71 1537.76 Q1863.71 1543.34 1860.24 1546.44 Q1856.77 1549.52 1850.45 1549.52 Q1848.27 1549.52 1846 1549.15 Q1843.76 1548.78 1841.35 1548.04 L1841.35 1543.34 Q1843.43 1544.47 1845.66 1545.03 Q1847.88 1545.58 1850.36 1545.58 Q1854.36 1545.58 1856.7 1543.48 Q1859.04 1541.37 1859.04 1537.76 Q1859.04 1534.15 1856.7 1532.04 Q1854.36 1529.94 1850.36 1529.94 Q1848.48 1529.94 1846.61 1530.35 Q1844.75 1530.77 1842.81 1531.65 L1842.81 1514.29 Z\" fill=\"#000000\" fill-rule=\"evenodd\" fill-opacity=\"1\" /><path clip-path=\"url(#clip640)\" d=\"M2247.41 1544.91 L2255.05 1544.91 L2255.05 1518.55 L2246.74 1520.21 L2246.74 1515.95 L2255 1514.29 L2259.68 1514.29 L2259.68 1544.91 L2267.32 1544.91 L2267.32 1548.85 L2247.41 1548.85 L2247.41 1544.91 Z\" fill=\"#000000\" fill-rule=\"evenodd\" fill-opacity=\"1\" /><path clip-path=\"url(#clip640)\" d=\"M2276.76 1542.97 L2281.64 1542.97 L2281.64 1548.85 L2276.76 1548.85 L2276.76 1542.97 Z\" fill=\"#000000\" fill-rule=\"evenodd\" fill-opacity=\"1\" /><path clip-path=\"url(#clip640)\" d=\"M2301.83 1517.37 Q2298.22 1517.37 2296.39 1520.93 Q2294.58 1524.47 2294.58 1531.6 Q2294.58 1538.71 2296.39 1542.27 Q2298.22 1545.82 2301.83 1545.82 Q2305.46 1545.82 2307.27 1542.27 Q2309.1 1538.71 2309.1 1531.6 Q2309.1 1524.47 2307.27 1520.93 Q2305.46 1517.37 2301.83 1517.37 M2301.83 1513.66 Q2307.64 1513.66 2310.69 1518.27 Q2313.77 1522.85 2313.77 1531.6 Q2313.77 1540.33 2310.69 1544.94 Q2307.64 1549.52 2301.83 1549.52 Q2296.02 1549.52 2292.94 1544.94 Q2289.88 1540.33 2289.88 1531.6 Q2289.88 1522.85 2292.94 1518.27 Q2296.02 1513.66 2301.83 1513.66 Z\" fill=\"#000000\" fill-rule=\"evenodd\" fill-opacity=\"1\" /><path clip-path=\"url(#clip640)\" d=\"M2331.99 1517.37 Q2328.38 1517.37 2326.55 1520.93 Q2324.75 1524.47 2324.75 1531.6 Q2324.75 1538.71 2326.55 1542.27 Q2328.38 1545.82 2331.99 1545.82 Q2335.63 1545.82 2337.43 1542.27 Q2339.26 1538.71 2339.26 1531.6 Q2339.26 1524.47 2337.43 1520.93 Q2335.63 1517.37 2331.99 1517.37 M2331.99 1513.66 Q2337.8 1513.66 2340.86 1518.27 Q2343.94 1522.85 2343.94 1531.6 Q2343.94 1540.33 2340.86 1544.94 Q2337.8 1549.52 2331.99 1549.52 Q2326.18 1549.52 2323.1 1544.94 Q2320.05 1540.33 2320.05 1531.6 Q2320.05 1522.85 2323.1 1518.27 Q2326.18 1513.66 2331.99 1513.66 Z\" fill=\"#000000\" fill-rule=\"evenodd\" fill-opacity=\"1\" /><polyline clip-path=\"url(#clip642)\" style=\"stroke:#000000; stroke-linecap:round; stroke-linejoin:round; stroke-width:2; stroke-opacity:0.1; fill:none\" points=\"314.583,1427.6 2352.76,1427.6 \"/>\n",
       "<polyline clip-path=\"url(#clip642)\" style=\"stroke:#000000; stroke-linecap:round; stroke-linejoin:round; stroke-width:2; stroke-opacity:0.1; fill:none\" points=\"314.583,1070.66 2352.76,1070.66 \"/>\n",
       "<polyline clip-path=\"url(#clip642)\" style=\"stroke:#000000; stroke-linecap:round; stroke-linejoin:round; stroke-width:2; stroke-opacity:0.1; fill:none\" points=\"314.583,713.733 2352.76,713.733 \"/>\n",
       "<polyline clip-path=\"url(#clip642)\" style=\"stroke:#000000; stroke-linecap:round; stroke-linejoin:round; stroke-width:2; stroke-opacity:0.1; fill:none\" points=\"314.583,356.802 2352.76,356.802 \"/>\n",
       "<polyline clip-path=\"url(#clip640)\" style=\"stroke:#000000; stroke-linecap:round; stroke-linejoin:round; stroke-width:4; stroke-opacity:1; fill:none\" points=\"314.583,1486.45 314.583,47.2441 \"/>\n",
       "<polyline clip-path=\"url(#clip640)\" style=\"stroke:#000000; stroke-linecap:round; stroke-linejoin:round; stroke-width:4; stroke-opacity:1; fill:none\" points=\"314.583,1427.6 333.481,1427.6 \"/>\n",
       "<polyline clip-path=\"url(#clip640)\" style=\"stroke:#000000; stroke-linecap:round; stroke-linejoin:round; stroke-width:4; stroke-opacity:1; fill:none\" points=\"314.583,1070.66 333.481,1070.66 \"/>\n",
       "<polyline clip-path=\"url(#clip640)\" style=\"stroke:#000000; stroke-linecap:round; stroke-linejoin:round; stroke-width:4; stroke-opacity:1; fill:none\" points=\"314.583,713.733 333.481,713.733 \"/>\n",
       "<polyline clip-path=\"url(#clip640)\" style=\"stroke:#000000; stroke-linecap:round; stroke-linejoin:round; stroke-width:4; stroke-opacity:1; fill:none\" points=\"314.583,356.802 333.481,356.802 \"/>\n",
       "<path clip-path=\"url(#clip640)\" d=\"M50.9921 1428.05 L80.6679 1428.05 L80.6679 1431.98 L50.9921 1431.98 L50.9921 1428.05 Z\" fill=\"#000000\" fill-rule=\"evenodd\" fill-opacity=\"1\" /><path clip-path=\"url(#clip640)\" d=\"M100.76 1413.39 Q97.1493 1413.39 95.3206 1416.96 Q93.515 1420.5 93.515 1427.63 Q93.515 1434.74 95.3206 1438.3 Q97.1493 1441.84 100.76 1441.84 Q104.395 1441.84 106.2 1438.3 Q108.029 1434.74 108.029 1427.63 Q108.029 1420.5 106.2 1416.96 Q104.395 1413.39 100.76 1413.39 M100.76 1409.69 Q106.571 1409.69 109.626 1414.3 Q112.705 1418.88 112.705 1427.63 Q112.705 1436.36 109.626 1440.96 Q106.571 1445.55 100.76 1445.55 Q94.9502 1445.55 91.8715 1440.96 Q88.816 1436.36 88.816 1427.63 Q88.816 1418.88 91.8715 1414.3 Q94.9502 1409.69 100.76 1409.69 Z\" fill=\"#000000\" fill-rule=\"evenodd\" fill-opacity=\"1\" /><path clip-path=\"url(#clip640)\" d=\"M120.922 1439 L125.807 1439 L125.807 1444.88 L120.922 1444.88 L120.922 1439 Z\" fill=\"#000000\" fill-rule=\"evenodd\" fill-opacity=\"1\" /><path clip-path=\"url(#clip640)\" d=\"M145.992 1413.39 Q142.381 1413.39 140.552 1416.96 Q138.746 1420.5 138.746 1427.63 Q138.746 1434.74 140.552 1438.3 Q142.381 1441.84 145.992 1441.84 Q149.626 1441.84 151.431 1438.3 Q153.26 1434.74 153.26 1427.63 Q153.26 1420.5 151.431 1416.96 Q149.626 1413.39 145.992 1413.39 M145.992 1409.69 Q151.802 1409.69 154.857 1414.3 Q157.936 1418.88 157.936 1427.63 Q157.936 1436.36 154.857 1440.96 Q151.802 1445.55 145.992 1445.55 Q140.181 1445.55 137.103 1440.96 Q134.047 1436.36 134.047 1427.63 Q134.047 1418.88 137.103 1414.3 Q140.181 1409.69 145.992 1409.69 Z\" fill=\"#000000\" fill-rule=\"evenodd\" fill-opacity=\"1\" /><path clip-path=\"url(#clip640)\" d=\"M176.153 1413.39 Q172.542 1413.39 170.714 1416.96 Q168.908 1420.5 168.908 1427.63 Q168.908 1434.74 170.714 1438.3 Q172.542 1441.84 176.153 1441.84 Q179.788 1441.84 181.593 1438.3 Q183.422 1434.74 183.422 1427.63 Q183.422 1420.5 181.593 1416.96 Q179.788 1413.39 176.153 1413.39 M176.153 1409.69 Q181.964 1409.69 185.019 1414.3 Q188.098 1418.88 188.098 1427.63 Q188.098 1436.36 185.019 1440.96 Q181.964 1445.55 176.153 1445.55 Q170.343 1445.55 167.265 1440.96 Q164.209 1436.36 164.209 1427.63 Q164.209 1418.88 167.265 1414.3 Q170.343 1409.69 176.153 1409.69 Z\" fill=\"#000000\" fill-rule=\"evenodd\" fill-opacity=\"1\" /><path clip-path=\"url(#clip640)\" d=\"M206.315 1413.39 Q202.704 1413.39 200.876 1416.96 Q199.07 1420.5 199.07 1427.63 Q199.07 1434.74 200.876 1438.3 Q202.704 1441.84 206.315 1441.84 Q209.95 1441.84 211.755 1438.3 Q213.584 1434.74 213.584 1427.63 Q213.584 1420.5 211.755 1416.96 Q209.95 1413.39 206.315 1413.39 M206.315 1409.69 Q212.126 1409.69 215.181 1414.3 Q218.26 1418.88 218.26 1427.63 Q218.26 1436.36 215.181 1440.96 Q212.126 1445.55 206.315 1445.55 Q200.505 1445.55 197.427 1440.96 Q194.371 1436.36 194.371 1427.63 Q194.371 1418.88 197.427 1414.3 Q200.505 1409.69 206.315 1409.69 Z\" fill=\"#000000\" fill-rule=\"evenodd\" fill-opacity=\"1\" /><path clip-path=\"url(#clip640)\" d=\"M227.287 1440.94 L234.926 1440.94 L234.926 1414.57 L226.616 1416.24 L226.616 1411.98 L234.88 1410.32 L239.556 1410.32 L239.556 1440.94 L247.195 1440.94 L247.195 1444.88 L227.287 1444.88 L227.287 1440.94 Z\" fill=\"#000000\" fill-rule=\"evenodd\" fill-opacity=\"1\" /><path clip-path=\"url(#clip640)\" d=\"M266.639 1413.39 Q263.028 1413.39 261.199 1416.96 Q259.394 1420.5 259.394 1427.63 Q259.394 1434.74 261.199 1438.3 Q263.028 1441.84 266.639 1441.84 Q270.273 1441.84 272.079 1438.3 Q273.908 1434.74 273.908 1427.63 Q273.908 1420.5 272.079 1416.96 Q270.273 1413.39 266.639 1413.39 M266.639 1409.69 Q272.449 1409.69 275.505 1414.3 Q278.583 1418.88 278.583 1427.63 Q278.583 1436.36 275.505 1440.96 Q272.449 1445.55 266.639 1445.55 Q260.829 1445.55 257.75 1440.96 Q254.695 1436.36 254.695 1427.63 Q254.695 1418.88 257.75 1414.3 Q260.829 1409.69 266.639 1409.69 Z\" fill=\"#000000\" fill-rule=\"evenodd\" fill-opacity=\"1\" /><path clip-path=\"url(#clip640)\" d=\"M51.9875 1071.12 L81.6633 1071.12 L81.6633 1075.05 L51.9875 1075.05 L51.9875 1071.12 Z\" fill=\"#000000\" fill-rule=\"evenodd\" fill-opacity=\"1\" /><path clip-path=\"url(#clip640)\" d=\"M101.756 1056.46 Q98.1447 1056.46 96.316 1060.03 Q94.5104 1063.57 94.5104 1070.7 Q94.5104 1077.81 96.316 1081.37 Q98.1447 1084.91 101.756 1084.91 Q105.39 1084.91 107.196 1081.37 Q109.024 1077.81 109.024 1070.7 Q109.024 1063.57 107.196 1060.03 Q105.39 1056.46 101.756 1056.46 M101.756 1052.76 Q107.566 1052.76 110.621 1057.37 Q113.7 1061.95 113.7 1070.7 Q113.7 1079.43 110.621 1084.03 Q107.566 1088.62 101.756 1088.62 Q95.9456 1088.62 92.8669 1084.03 Q89.8114 1079.43 89.8114 1070.7 Q89.8114 1061.95 92.8669 1057.37 Q95.9456 1052.76 101.756 1052.76 Z\" fill=\"#000000\" fill-rule=\"evenodd\" fill-opacity=\"1\" /><path clip-path=\"url(#clip640)\" d=\"M121.918 1082.06 L126.802 1082.06 L126.802 1087.94 L121.918 1087.94 L121.918 1082.06 Z\" fill=\"#000000\" fill-rule=\"evenodd\" fill-opacity=\"1\" /><path clip-path=\"url(#clip640)\" d=\"M146.987 1056.46 Q143.376 1056.46 141.547 1060.03 Q139.742 1063.57 139.742 1070.7 Q139.742 1077.81 141.547 1081.37 Q143.376 1084.91 146.987 1084.91 Q150.621 1084.91 152.427 1081.37 Q154.255 1077.81 154.255 1070.7 Q154.255 1063.57 152.427 1060.03 Q150.621 1056.46 146.987 1056.46 M146.987 1052.76 Q152.797 1052.76 155.853 1057.37 Q158.931 1061.95 158.931 1070.7 Q158.931 1079.43 155.853 1084.03 Q152.797 1088.62 146.987 1088.62 Q141.177 1088.62 138.098 1084.03 Q135.043 1079.43 135.043 1070.7 Q135.043 1061.95 138.098 1057.37 Q141.177 1052.76 146.987 1052.76 Z\" fill=\"#000000\" fill-rule=\"evenodd\" fill-opacity=\"1\" /><path clip-path=\"url(#clip640)\" d=\"M177.149 1056.46 Q173.538 1056.46 171.709 1060.03 Q169.904 1063.57 169.904 1070.7 Q169.904 1077.81 171.709 1081.37 Q173.538 1084.91 177.149 1084.91 Q180.783 1084.91 182.589 1081.37 Q184.417 1077.81 184.417 1070.7 Q184.417 1063.57 182.589 1060.03 Q180.783 1056.46 177.149 1056.46 M177.149 1052.76 Q182.959 1052.76 186.015 1057.37 Q189.093 1061.95 189.093 1070.7 Q189.093 1079.43 186.015 1084.03 Q182.959 1088.62 177.149 1088.62 Q171.339 1088.62 168.26 1084.03 Q165.204 1079.43 165.204 1070.7 Q165.204 1061.95 168.26 1057.37 Q171.339 1052.76 177.149 1052.76 Z\" fill=\"#000000\" fill-rule=\"evenodd\" fill-opacity=\"1\" /><path clip-path=\"url(#clip640)\" d=\"M207.311 1056.46 Q203.7 1056.46 201.871 1060.03 Q200.065 1063.57 200.065 1070.7 Q200.065 1077.81 201.871 1081.37 Q203.7 1084.91 207.311 1084.91 Q210.945 1084.91 212.751 1081.37 Q214.579 1077.81 214.579 1070.7 Q214.579 1063.57 212.751 1060.03 Q210.945 1056.46 207.311 1056.46 M207.311 1052.76 Q213.121 1052.76 216.176 1057.37 Q219.255 1061.95 219.255 1070.7 Q219.255 1079.43 216.176 1084.03 Q213.121 1088.62 207.311 1088.62 Q201.501 1088.62 198.422 1084.03 Q195.366 1079.43 195.366 1070.7 Q195.366 1061.95 198.422 1057.37 Q201.501 1052.76 207.311 1052.76 Z\" fill=\"#000000\" fill-rule=\"evenodd\" fill-opacity=\"1\" /><path clip-path=\"url(#clip640)\" d=\"M237.473 1056.46 Q233.862 1056.46 232.033 1060.03 Q230.227 1063.57 230.227 1070.7 Q230.227 1077.81 232.033 1081.37 Q233.862 1084.91 237.473 1084.91 Q241.107 1084.91 242.912 1081.37 Q244.741 1077.81 244.741 1070.7 Q244.741 1063.57 242.912 1060.03 Q241.107 1056.46 237.473 1056.46 M237.473 1052.76 Q243.283 1052.76 246.338 1057.37 Q249.417 1061.95 249.417 1070.7 Q249.417 1079.43 246.338 1084.03 Q243.283 1088.62 237.473 1088.62 Q231.662 1088.62 228.584 1084.03 Q225.528 1079.43 225.528 1070.7 Q225.528 1061.95 228.584 1057.37 Q231.662 1052.76 237.473 1052.76 Z\" fill=\"#000000\" fill-rule=\"evenodd\" fill-opacity=\"1\" /><path clip-path=\"url(#clip640)\" d=\"M257.681 1053.38 L276.037 1053.38 L276.037 1057.32 L261.963 1057.32 L261.963 1065.79 Q262.982 1065.44 264 1065.28 Q265.019 1065.1 266.037 1065.1 Q271.824 1065.1 275.204 1068.27 Q278.583 1071.44 278.583 1076.86 Q278.583 1082.44 275.111 1085.54 Q271.639 1088.62 265.32 1088.62 Q263.144 1088.62 260.875 1088.25 Q258.63 1087.87 256.223 1087.13 L256.223 1082.44 Q258.306 1083.57 260.528 1084.12 Q262.75 1084.68 265.227 1084.68 Q269.232 1084.68 271.57 1082.57 Q273.908 1080.47 273.908 1076.86 Q273.908 1073.25 271.57 1071.14 Q269.232 1069.03 265.227 1069.03 Q263.352 1069.03 261.477 1069.45 Q259.625 1069.87 257.681 1070.75 L257.681 1053.38 Z\" fill=\"#000000\" fill-rule=\"evenodd\" fill-opacity=\"1\" /><path clip-path=\"url(#clip640)\" d=\"M100.76 699.532 Q97.1493 699.532 95.3206 703.096 Q93.515 706.638 93.515 713.768 Q93.515 720.874 95.3206 724.439 Q97.1493 727.981 100.76 727.981 Q104.395 727.981 106.2 724.439 Q108.029 720.874 108.029 713.768 Q108.029 706.638 106.2 703.096 Q104.395 699.532 100.76 699.532 M100.76 695.828 Q106.571 695.828 109.626 700.434 Q112.705 705.018 112.705 713.768 Q112.705 722.495 109.626 727.101 Q106.571 731.684 100.76 731.684 Q94.9502 731.684 91.8715 727.101 Q88.816 722.495 88.816 713.768 Q88.816 705.018 91.8715 700.434 Q94.9502 695.828 100.76 695.828 Z\" fill=\"#000000\" fill-rule=\"evenodd\" fill-opacity=\"1\" /><path clip-path=\"url(#clip640)\" d=\"M120.922 725.133 L125.807 725.133 L125.807 731.013 L120.922 731.013 L120.922 725.133 Z\" fill=\"#000000\" fill-rule=\"evenodd\" fill-opacity=\"1\" /><path clip-path=\"url(#clip640)\" d=\"M145.992 699.532 Q142.381 699.532 140.552 703.096 Q138.746 706.638 138.746 713.768 Q138.746 720.874 140.552 724.439 Q142.381 727.981 145.992 727.981 Q149.626 727.981 151.431 724.439 Q153.26 720.874 153.26 713.768 Q153.26 706.638 151.431 703.096 Q149.626 699.532 145.992 699.532 M145.992 695.828 Q151.802 695.828 154.857 700.434 Q157.936 705.018 157.936 713.768 Q157.936 722.495 154.857 727.101 Q151.802 731.684 145.992 731.684 Q140.181 731.684 137.103 727.101 Q134.047 722.495 134.047 713.768 Q134.047 705.018 137.103 700.434 Q140.181 695.828 145.992 695.828 Z\" fill=\"#000000\" fill-rule=\"evenodd\" fill-opacity=\"1\" /><path clip-path=\"url(#clip640)\" d=\"M176.153 699.532 Q172.542 699.532 170.714 703.096 Q168.908 706.638 168.908 713.768 Q168.908 720.874 170.714 724.439 Q172.542 727.981 176.153 727.981 Q179.788 727.981 181.593 724.439 Q183.422 720.874 183.422 713.768 Q183.422 706.638 181.593 703.096 Q179.788 699.532 176.153 699.532 M176.153 695.828 Q181.964 695.828 185.019 700.434 Q188.098 705.018 188.098 713.768 Q188.098 722.495 185.019 727.101 Q181.964 731.684 176.153 731.684 Q170.343 731.684 167.265 727.101 Q164.209 722.495 164.209 713.768 Q164.209 705.018 167.265 700.434 Q170.343 695.828 176.153 695.828 Z\" fill=\"#000000\" fill-rule=\"evenodd\" fill-opacity=\"1\" /><path clip-path=\"url(#clip640)\" d=\"M206.315 699.532 Q202.704 699.532 200.876 703.096 Q199.07 706.638 199.07 713.768 Q199.07 720.874 200.876 724.439 Q202.704 727.981 206.315 727.981 Q209.95 727.981 211.755 724.439 Q213.584 720.874 213.584 713.768 Q213.584 706.638 211.755 703.096 Q209.95 699.532 206.315 699.532 M206.315 695.828 Q212.126 695.828 215.181 700.434 Q218.26 705.018 218.26 713.768 Q218.26 722.495 215.181 727.101 Q212.126 731.684 206.315 731.684 Q200.505 731.684 197.427 727.101 Q194.371 722.495 194.371 713.768 Q194.371 705.018 197.427 700.434 Q200.505 695.828 206.315 695.828 Z\" fill=\"#000000\" fill-rule=\"evenodd\" fill-opacity=\"1\" /><path clip-path=\"url(#clip640)\" d=\"M236.477 699.532 Q232.866 699.532 231.037 703.096 Q229.232 706.638 229.232 713.768 Q229.232 720.874 231.037 724.439 Q232.866 727.981 236.477 727.981 Q240.111 727.981 241.917 724.439 Q243.746 720.874 243.746 713.768 Q243.746 706.638 241.917 703.096 Q240.111 699.532 236.477 699.532 M236.477 695.828 Q242.287 695.828 245.343 700.434 Q248.422 705.018 248.422 713.768 Q248.422 722.495 245.343 727.101 Q242.287 731.684 236.477 731.684 Q230.667 731.684 227.588 727.101 Q224.533 722.495 224.533 713.768 Q224.533 705.018 227.588 700.434 Q230.667 695.828 236.477 695.828 Z\" fill=\"#000000\" fill-rule=\"evenodd\" fill-opacity=\"1\" /><path clip-path=\"url(#clip640)\" d=\"M266.639 699.532 Q263.028 699.532 261.199 703.096 Q259.394 706.638 259.394 713.768 Q259.394 720.874 261.199 724.439 Q263.028 727.981 266.639 727.981 Q270.273 727.981 272.079 724.439 Q273.908 720.874 273.908 713.768 Q273.908 706.638 272.079 703.096 Q270.273 699.532 266.639 699.532 M266.639 695.828 Q272.449 695.828 275.505 700.434 Q278.583 705.018 278.583 713.768 Q278.583 722.495 275.505 727.101 Q272.449 731.684 266.639 731.684 Q260.829 731.684 257.75 727.101 Q254.695 722.495 254.695 713.768 Q254.695 705.018 257.75 700.434 Q260.829 695.828 266.639 695.828 Z\" fill=\"#000000\" fill-rule=\"evenodd\" fill-opacity=\"1\" /><path clip-path=\"url(#clip640)\" d=\"M101.756 342.6 Q98.1447 342.6 96.316 346.165 Q94.5104 349.707 94.5104 356.836 Q94.5104 363.943 96.316 367.508 Q98.1447 371.049 101.756 371.049 Q105.39 371.049 107.196 367.508 Q109.024 363.943 109.024 356.836 Q109.024 349.707 107.196 346.165 Q105.39 342.6 101.756 342.6 M101.756 338.897 Q107.566 338.897 110.621 343.503 Q113.7 348.086 113.7 356.836 Q113.7 365.563 110.621 370.17 Q107.566 374.753 101.756 374.753 Q95.9456 374.753 92.8669 370.17 Q89.8114 365.563 89.8114 356.836 Q89.8114 348.086 92.8669 343.503 Q95.9456 338.897 101.756 338.897 Z\" fill=\"#000000\" fill-rule=\"evenodd\" fill-opacity=\"1\" /><path clip-path=\"url(#clip640)\" d=\"M121.918 368.202 L126.802 368.202 L126.802 374.082 L121.918 374.082 L121.918 368.202 Z\" fill=\"#000000\" fill-rule=\"evenodd\" fill-opacity=\"1\" /><path clip-path=\"url(#clip640)\" d=\"M146.987 342.6 Q143.376 342.6 141.547 346.165 Q139.742 349.707 139.742 356.836 Q139.742 363.943 141.547 367.508 Q143.376 371.049 146.987 371.049 Q150.621 371.049 152.427 367.508 Q154.255 363.943 154.255 356.836 Q154.255 349.707 152.427 346.165 Q150.621 342.6 146.987 342.6 M146.987 338.897 Q152.797 338.897 155.853 343.503 Q158.931 348.086 158.931 356.836 Q158.931 365.563 155.853 370.17 Q152.797 374.753 146.987 374.753 Q141.177 374.753 138.098 370.17 Q135.043 365.563 135.043 356.836 Q135.043 348.086 138.098 343.503 Q141.177 338.897 146.987 338.897 Z\" fill=\"#000000\" fill-rule=\"evenodd\" fill-opacity=\"1\" /><path clip-path=\"url(#clip640)\" d=\"M177.149 342.6 Q173.538 342.6 171.709 346.165 Q169.904 349.707 169.904 356.836 Q169.904 363.943 171.709 367.508 Q173.538 371.049 177.149 371.049 Q180.783 371.049 182.589 367.508 Q184.417 363.943 184.417 356.836 Q184.417 349.707 182.589 346.165 Q180.783 342.6 177.149 342.6 M177.149 338.897 Q182.959 338.897 186.015 343.503 Q189.093 348.086 189.093 356.836 Q189.093 365.563 186.015 370.17 Q182.959 374.753 177.149 374.753 Q171.339 374.753 168.26 370.17 Q165.204 365.563 165.204 356.836 Q165.204 348.086 168.26 343.503 Q171.339 338.897 177.149 338.897 Z\" fill=\"#000000\" fill-rule=\"evenodd\" fill-opacity=\"1\" /><path clip-path=\"url(#clip640)\" d=\"M207.311 342.6 Q203.7 342.6 201.871 346.165 Q200.065 349.707 200.065 356.836 Q200.065 363.943 201.871 367.508 Q203.7 371.049 207.311 371.049 Q210.945 371.049 212.751 367.508 Q214.579 363.943 214.579 356.836 Q214.579 349.707 212.751 346.165 Q210.945 342.6 207.311 342.6 M207.311 338.897 Q213.121 338.897 216.176 343.503 Q219.255 348.086 219.255 356.836 Q219.255 365.563 216.176 370.17 Q213.121 374.753 207.311 374.753 Q201.501 374.753 198.422 370.17 Q195.366 365.563 195.366 356.836 Q195.366 348.086 198.422 343.503 Q201.501 338.897 207.311 338.897 Z\" fill=\"#000000\" fill-rule=\"evenodd\" fill-opacity=\"1\" /><path clip-path=\"url(#clip640)\" d=\"M237.473 342.6 Q233.862 342.6 232.033 346.165 Q230.227 349.707 230.227 356.836 Q230.227 363.943 232.033 367.508 Q233.862 371.049 237.473 371.049 Q241.107 371.049 242.912 367.508 Q244.741 363.943 244.741 356.836 Q244.741 349.707 242.912 346.165 Q241.107 342.6 237.473 342.6 M237.473 338.897 Q243.283 338.897 246.338 343.503 Q249.417 348.086 249.417 356.836 Q249.417 365.563 246.338 370.17 Q243.283 374.753 237.473 374.753 Q231.662 374.753 228.584 370.17 Q225.528 365.563 225.528 356.836 Q225.528 348.086 228.584 343.503 Q231.662 338.897 237.473 338.897 Z\" fill=\"#000000\" fill-rule=\"evenodd\" fill-opacity=\"1\" /><path clip-path=\"url(#clip640)\" d=\"M257.681 339.522 L276.037 339.522 L276.037 343.457 L261.963 343.457 L261.963 351.929 Q262.982 351.582 264 351.42 Q265.019 351.235 266.037 351.235 Q271.824 351.235 275.204 354.406 Q278.583 357.577 278.583 362.994 Q278.583 368.572 275.111 371.674 Q271.639 374.753 265.32 374.753 Q263.144 374.753 260.875 374.383 Q258.63 374.012 256.223 373.272 L256.223 368.572 Q258.306 369.707 260.528 370.262 Q262.75 370.818 265.227 370.818 Q269.232 370.818 271.57 368.711 Q273.908 366.605 273.908 362.994 Q273.908 359.383 271.57 357.276 Q269.232 355.17 265.227 355.17 Q263.352 355.17 261.477 355.586 Q259.625 356.003 257.681 356.883 L257.681 339.522 Z\" fill=\"#000000\" fill-rule=\"evenodd\" fill-opacity=\"1\" /><polyline clip-path=\"url(#clip642)\" style=\"stroke:#009af9; stroke-linecap:round; stroke-linejoin:round; stroke-width:4; stroke-opacity:1; fill:none\" points=\"372.268,713.733 372.297,713.733 372.532,713.733 373.002,713.73 373.706,713.721 374.645,713.7 375.818,713.66 377.225,713.589 378.866,713.477 380.741,713.31 382.848,713.07 385.187,712.74 387.758,712.298 390.56,711.72 393.593,710.98 396.855,710.049 400.347,708.894 404.066,707.482 408.012,705.775 412.185,703.73 416.582,701.305 421.204,698.451 426.049,695.119 431.115,691.255 436.402,686.804 441.908,681.705 447.632,675.898 453.572,669.319 459.728,661.903 466.097,653.585 472.678,644.297 479.469,633.975 486.469,622.554 493.676,609.975 501.089,596.181 508.704,581.123 516.522,564.758 524.539,547.057 532.753,528.002 541.164,507.59 549.767,485.84 558.563,462.791 567.548,438.507 576.72,413.084 586.077,386.651 595.616,359.371 605.336,331.453 615.234,303.146 625.308,274.75 635.554,246.615 645.971,219.141 656.556,192.785 667.307,168.055 678.22,145.51 689.294,125.755 700.525,109.437 711.91,97.2354 723.448,89.8472 735.135,87.9763 746.968,92.313 758.944,103.513 771.061,122.173 783.315,148.803 795.703,183.797 808.224,227.398 820.872,279.673 833.646,340.474 846.542,409.417 859.557,485.856 872.688,568.863 885.931,657.228 899.284,749.46 912.743,843.804 926.305,938.28 939.967,1030.73 953.724,1118.89 967.575,1200.47 981.515,1273.25 995.541,1335.19 1009.65,1384.53 1023.84,1419.89 1038.1,1440.4 1052.44,1445.72 1066.84,1436.11 1081.31,1412.46 1095.84,1376.22 1110.43,1329.35 1125.08,1274.2 1139.77,1213.4 1154.51,1149.65 1169.3,1085.57 1184.13,1023.56 1198.99,965.629 1213.89,913.323 1228.81,867.648 1243.76,829.077 1258.74,797.598 1273.73,772.788 1288.73,753.929 1303.75,740.124 1318.77,730.408 1333.8,723.848 1348.83,719.608 1363.85,716.99 1378.87,715.452 1393.88,714.593 1408.87,714.14 1423.84,713.914 1438.79,713.809 1453.72,713.762 1468.61,713.744 1483.48,713.737 1498.3,713.734 1513.09,713.733 1527.83,713.733 1542.53,713.733 1557.17,713.733 1571.76,713.733 1586.29,713.733 1600.76,713.733 1615.17,713.733 1629.5,713.733 1643.77,713.733 1657.95,713.733 1672.06,713.733 1686.09,713.733 1700.03,713.733 1713.88,713.733 1727.64,713.733 1741.3,713.733 1754.86,713.733 1768.32,713.733 1781.67,713.733 1794.92,713.733 1808.05,713.733 1821.06,713.733 1833.96,713.733 1846.73,713.733 1859.38,713.733 1871.9,713.733 1884.29,713.733 1896.54,713.733 1908.66,713.733 1920.64,713.733 1932.47,713.733 1944.16,713.733 1955.69,713.733 1967.08,713.733 1978.31,713.733 1989.38,713.733 2000.3,713.733 2011.05,713.733 2021.63,713.733 2032.05,713.733 2042.3,713.733 2052.37,713.733 2062.27,713.733 2071.99,713.733 2081.53,713.733 2090.88,713.733 2100.06,713.733 2109.04,713.733 2117.84,713.733 2126.44,713.733 2134.85,713.733 2143.06,713.733 2151.08,713.733 2158.9,713.733 2166.51,713.733 2173.93,713.733 2181.13,713.733 2188.13,713.733 2194.93,713.733 2201.51,713.733 2207.88,713.733 2214.03,713.733 2219.97,713.733 2225.7,713.733 2231.2,713.733 2236.49,713.733 2241.56,713.733 2246.4,713.733 2251.02,713.733 2255.42,713.733 2259.59,713.733 2263.54,713.733 2267.26,713.733 2270.75,713.733 2274.01,713.733 2277.04,713.733 2279.85,713.733 2282.42,713.733 2284.76,713.733 2286.86,713.733 2288.74,713.733 2290.38,713.733 2291.79,713.733 2292.96,713.733 2293.9,713.733 2294.6,713.733 2295.07,713.733 \"/>\n",
       "<path clip-path=\"url(#clip640)\" d=\"M2028.57 198.898 L2284.82 198.898 L2284.82 95.2176 L2028.57 95.2176  Z\" fill=\"#ffffff\" fill-rule=\"evenodd\" fill-opacity=\"1\"/>\n",
       "<polyline clip-path=\"url(#clip640)\" style=\"stroke:#000000; stroke-linecap:round; stroke-linejoin:round; stroke-width:4; stroke-opacity:1; fill:none\" points=\"2028.57,198.898 2284.82,198.898 2284.82,95.2176 2028.57,95.2176 2028.57,198.898 \"/>\n",
       "<polyline clip-path=\"url(#clip640)\" style=\"stroke:#009af9; stroke-linecap:round; stroke-linejoin:round; stroke-width:4; stroke-opacity:1; fill:none\" points=\"2051.22,147.058 2187.09,147.058 \"/>\n",
       "<path clip-path=\"url(#clip640)\" d=\"M2223.58 166.745 Q2221.78 171.375 2220.06 172.787 Q2218.35 174.199 2215.48 174.199 L2212.08 174.199 L2212.08 170.634 L2214.58 170.634 Q2216.34 170.634 2217.31 169.8 Q2218.28 168.967 2219.46 165.865 L2220.23 163.921 L2209.74 138.412 L2214.25 138.412 L2222.36 158.689 L2230.46 138.412 L2234.97 138.412 L2223.58 166.745 Z\" fill=\"#000000\" fill-rule=\"evenodd\" fill-opacity=\"1\" /><path clip-path=\"url(#clip640)\" d=\"M2242.26 160.402 L2249.9 160.402 L2249.9 134.037 L2241.59 135.703 L2241.59 131.444 L2249.86 129.778 L2254.53 129.778 L2254.53 160.402 L2262.17 160.402 L2262.17 164.338 L2242.26 164.338 L2242.26 160.402 Z\" fill=\"#000000\" fill-rule=\"evenodd\" fill-opacity=\"1\" /></svg>\n"
      ]
     },
     "execution_count": 23,
     "metadata": {},
     "output_type": "execute_result"
    }
   ],
   "source": [
    "using Plots\n",
    "plot(initX1, derpsi_func(initX1))"
   ]
  },
  {
   "cell_type": "code",
   "execution_count": 66,
   "id": "6e1862b9",
   "metadata": {},
   "outputs": [
    {
     "data": {
      "text/plain": [
       "-1.5086563198078306e-16"
      ]
     },
     "execution_count": 66,
     "metadata": {},
     "output_type": "execute_result"
    }
   ],
   "source": [
    "m_func = Spline1D(initX[4:L-3],state_array[4:L-3,1],k=4)\n",
    "beta_func = Spline1D(initX[4:L-3],state_array[4:L-3,2],k=4)\n",
    "der_funcs=[derivative(m_func,initX) derivative(beta_func,initX) derivative(derpsi_func,initX)]\n",
    "der_funcs[2,1] # i is gridpoint, j is function"
   ]
  },
  {
   "cell_type": "code",
   "execution_count": 58,
   "id": "fe637a43",
   "metadata": {},
   "outputs": [
    {
     "data": {
      "text/plain": [
       "207-element Vector{Float64}:\n",
       " -3.6298572062043756e-16\n",
       " -1.5086563198078306e-16\n",
       " -4.2846357130174216e-17\n",
       " -3.826449677788914e-18\n",
       "  1.2955367671949918e-18\n",
       "  7.621048595599677e-18\n",
       "  5.1885306005563256e-17\n",
       "  2.109734086495333e-16\n",
       "  6.633715930192716e-16\n",
       "  1.768094158067992e-15\n",
       "  4.2032891114686175e-15\n",
       "  9.186535719427543e-15\n",
       "  1.882331476354324e-14\n",
       "  ⋮\n",
       " -3.776355223175436e-19\n",
       " -1.7646519734465227e-20\n",
       "  1.0587911840678348e-20\n",
       "  2.2651714422785337e-19\n",
       " -1.4750589189488752e-19\n",
       " -3.7472920178666525e-19\n",
       "  6.78866591885402e-20\n",
       " -2.96640705754548e-20\n",
       "  5.421010862427541e-19\n",
       "  3.1064380724396854e-18\n",
       "  8.986602830812212e-18\n",
       "  1.9505851304156383e-17"
      ]
     },
     "execution_count": 58,
     "metadata": {},
     "output_type": "execute_result"
    }
   ],
   "source": [
    "derivative(m_func,initX)"
   ]
  },
  {
   "cell_type": "code",
   "execution_count": null,
   "id": "ad5a5420",
   "metadata": {},
   "outputs": [],
   "source": []
  },
  {
   "cell_type": "code",
   "execution_count": null,
   "id": "45f11e59",
   "metadata": {},
   "outputs": [],
   "source": []
  },
  {
   "cell_type": "code",
   "execution_count": 166,
   "id": "ebb47395",
   "metadata": {},
   "outputs": [
    {
     "data": {
      "text/plain": [
       "3.9599527939805415e-10"
      ]
     },
     "execution_count": 166,
     "metadata": {},
     "output_type": "execute_result"
    }
   ],
   "source": [
    "derivative(derpsi_func,initX1[1])"
   ]
  },
  {
   "cell_type": "code",
   "execution_count": 163,
   "id": "f9796baf",
   "metadata": {},
   "outputs": [
    {
     "data": {
      "text/plain": [
       "3.9599527939805415e-10"
      ]
     },
     "execution_count": 163,
     "metadata": {},
     "output_type": "execute_result"
    }
   ],
   "source": [
    "derivative(derpsi_func,initX1)[1]"
   ]
  },
  {
   "cell_type": "code",
   "execution_count": 161,
   "id": "7901660a",
   "metadata": {},
   "outputs": [
    {
     "data": {
      "text/plain": [
       "3.9599527939805415e-10"
      ]
     },
     "execution_count": 161,
     "metadata": {},
     "output_type": "execute_result"
    }
   ],
   "source": [
    "derivative(derpsi_func,initX)[4]"
   ]
  },
  {
   "cell_type": "code",
   "execution_count": null,
   "id": "281f96fd",
   "metadata": {},
   "outputs": [],
   "source": []
  },
  {
   "cell_type": "code",
   "execution_count": null,
   "id": "07ddc6d6",
   "metadata": {},
   "outputs": [],
   "source": []
  },
  {
   "cell_type": "code",
   "execution_count": null,
   "id": "61c7c8bd",
   "metadata": {},
   "outputs": [],
   "source": []
  },
  {
   "cell_type": "code",
   "execution_count": null,
   "id": "3ec9634d",
   "metadata": {},
   "outputs": [],
   "source": [
    "aux=doublegrid(initX1)\n",
    "\n",
    "using Plots\n",
    "plot(aux, derpsi_func(aux).-init_gaussian_der(aux,r0,sigma,A), xaxis=\"x\",title=\"Initial Data\", labels=[\"m\" \"beta\" \"psi\" \"psi,x\"])#, ylim=[0, 10^(-13)])\n",
    "\n",
    "##\n",
    "\n",
    "x2=aux\n",
    "y2=derpsi_func(aux).-init_gaussian_der(aux,r0,sigma,A);\n",
    "\n",
    "##\n",
    "\n",
    "double_resolution=y2\n",
    "basis_resolution=y1\n",
    "xs = ( x1, x2 )\n",
    "ys = ( basis_resolution, double_resolution*16*4 )\n",
    "p = plot()\n",
    "map(x->plot!(x[1],x[2],xaxis=\"x\",title=\"Interpolation error\", legend=false), zip(xs, ys))\n",
    "display(p)\n",
    "     "
   ]
  }
 ],
 "metadata": {
  "@webio": {
   "lastCommId": null,
   "lastKernelId": null
  },
  "kernelspec": {
   "display_name": "Julia 1.8.0",
   "language": "julia",
   "name": "julia-1.8"
  },
  "language_info": {
   "file_extension": ".jl",
   "mimetype": "application/julia",
   "name": "julia",
   "version": "1.8.0"
  },
  "papermill": {
   "default_parameters": {},
   "duration": 7025.507115,
   "end_time": "2023-03-28T20:03:06.430756",
   "environment_variables": {},
   "exception": null,
   "input_path": "Evolution_ScalarField.ipynb",
   "output_path": "Evolution_ScalarField.ipynb",
   "parameters": {
    "A": 0.001,
    "m": 3
   },
   "start_time": "2023-03-28T18:06:00.923641",
   "version": "2.4.0"
  }
 },
 "nbformat": 4,
 "nbformat_minor": 5
}
