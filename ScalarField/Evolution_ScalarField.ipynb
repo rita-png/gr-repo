{
 "cells": [
  {
   "cell_type": "markdown",
   "id": "d88601a8",
   "metadata": {
    "papermill": {
     "duration": 0.010813,
     "end_time": "2023-03-28T18:06:09.878411",
     "exception": false,
     "start_time": "2023-03-28T18:06:09.867598",
     "status": "completed"
    },
    "tags": []
   },
   "source": [
    "# Evolution of Einstein's equations"
   ]
  },
  {
   "cell_type": "markdown",
   "id": "03c607c7",
   "metadata": {
    "papermill": {
     "duration": 0.006777,
     "end_time": "2023-03-28T18:06:09.893152",
     "exception": false,
     "start_time": "2023-03-28T18:06:09.886375",
     "status": "completed"
    },
    "tags": []
   },
   "source": [
    "# Initial data , setting length of the domain and discretization\n"
   ]
  },
  {
   "cell_type": "code",
   "execution_count": 75,
   "id": "f362b590",
   "metadata": {
    "execution": {
     "iopub.execute_input": "2023-03-28T19:06:10.907000Z",
     "iopub.status.busy": "2023-03-28T19:06:09.907000Z",
     "iopub.status.idle": "2023-03-28T19:06:12.147000Z",
     "shell.execute_reply": "2023-03-28T19:06:12.110000Z"
    },
    "papermill": {
     "duration": 2.251282,
     "end_time": "2023-03-28T18:06:12.151193",
     "exception": false,
     "start_time": "2023-03-28T18:06:09.899911",
     "status": "completed"
    },
    "tags": [
     "injected-parameters"
    ]
   },
   "outputs": [
    {
     "data": {
      "text/plain": [
       "1"
      ]
     },
     "execution_count": 75,
     "metadata": {},
     "output_type": "execute_result"
    }
   ],
   "source": [
    "# Parameters\n",
    "m = 1\n",
    "A = 0.05#0.1124921875#0.125\n",
    "run = 1"
   ]
  },
  {
   "cell_type": "code",
   "execution_count": 76,
   "id": "80a113e0",
   "metadata": {},
   "outputs": [
    {
     "name": "stdout",
     "output_type": "stream",
     "text": [
      "1.0"
     ]
    }
   ],
   "source": [
    "res=m;\n",
    "N=2.0^m*1000.0#2.0^m*1000.0;#2.0^m*500.0;#N=2.0^m*500.0#2.0^m*100.0;\n",
    "Xf=1.0;\n",
    "\n",
    "dx=Xf/N;\n",
    "dt=round(dx,digits=10);\n",
    "Nt=2.0^m*1000.0#100.0*2^m*10\n",
    "Tf=Nt*dt; #final time\n",
    "print(Tf)"
   ]
  },
  {
   "cell_type": "code",
   "execution_count": 77,
   "id": "4f752d54",
   "metadata": {
    "execution": {
     "iopub.execute_input": "2023-03-28T19:06:12.356000Z",
     "iopub.status.busy": "2023-03-28T19:06:12.356000Z",
     "iopub.status.idle": "2023-03-28T19:06:12.364000Z",
     "shell.execute_reply": "2023-03-28T19:06:12.364000Z"
    },
    "papermill": {
     "duration": 0.020815,
     "end_time": "2023-03-28T18:06:12.368761",
     "exception": false,
     "start_time": "2023-03-28T18:06:12.347946",
     "status": "completed"
    },
    "tags": []
   },
   "outputs": [
    {
     "name": "stdout",
     "output_type": "stream",
     "text": [
      "2000.0"
     ]
    }
   ],
   "source": [
    "print(N)"
   ]
  },
  {
   "cell_type": "code",
   "execution_count": 78,
   "id": "ad48576a",
   "metadata": {
    "execution": {
     "iopub.execute_input": "2023-03-28T19:06:12.386000Z",
     "iopub.status.busy": "2023-03-28T19:06:12.385000Z",
     "iopub.status.idle": "2023-03-28T19:06:12.398000Z",
     "shell.execute_reply": "2023-03-28T19:06:12.398000Z"
    },
    "papermill": {
     "duration": 0.024143,
     "end_time": "2023-03-28T18:06:12.402660",
     "exception": false,
     "start_time": "2023-03-28T18:06:12.378517",
     "status": "completed"
    },
    "tags": []
   },
   "outputs": [
    {
     "name": "stdout",
     "output_type": "stream",
     "text": [
      "dx =0.0005\n",
      "dt =0.0005\n",
      "dx/dt =1.0\n"
     ]
    }
   ],
   "source": [
    "println(\"dx =\", dx)\n",
    "println(\"dt =\", dt)\n",
    "println(\"dx/dt =\", dx/dt)"
   ]
  },
  {
   "cell_type": "code",
   "execution_count": 79,
   "id": "78fb78a5",
   "metadata": {
    "execution": {
     "iopub.execute_input": "2023-03-28T19:06:12.419000Z",
     "iopub.status.busy": "2023-03-28T19:06:12.419000Z",
     "iopub.status.idle": "2023-03-28T19:06:13.308000Z",
     "shell.execute_reply": "2023-03-28T19:06:13.308000Z"
    },
    "papermill": {
     "duration": 0.90283,
     "end_time": "2023-03-28T18:06:13.314381",
     "exception": false,
     "start_time": "2023-03-28T18:06:12.411551",
     "status": "completed"
    },
    "tags": []
   },
   "outputs": [
    {
     "data": {
      "text/plain": [
       "\"/home/rita13santos/Desktop/MSc Thesis/Git/ScalarField/DATA/res1\""
      ]
     },
     "execution_count": 79,
     "metadata": {},
     "output_type": "execute_result"
    }
   ],
   "source": [
    "# Setting RESOLUTION\n",
    "\n",
    "global dir = \"/home/rita13santos/Desktop/MSc Thesis/Git/ScalarField/DATA/res$res\"\n",
    "#global dir = \"/home/rita13santos/Desktop/MSc Thesis/Git/ScalarField/DATA/res\""
   ]
  },
  {
   "cell_type": "markdown",
   "id": "e2dd4335",
   "metadata": {
    "papermill": {
     "duration": 0.007006,
     "end_time": "2023-03-28T18:06:13.351329",
     "exception": false,
     "start_time": "2023-03-28T18:06:13.344323",
     "status": "completed"
    },
    "tags": []
   },
   "source": [
    "# Grid"
   ]
  },
  {
   "cell_type": "code",
   "execution_count": 80,
   "id": "de24fea3",
   "metadata": {
    "execution": {
     "iopub.execute_input": "2023-03-28T19:06:13.366000Z",
     "iopub.status.busy": "2023-03-28T19:06:13.366000Z",
     "iopub.status.idle": "2023-03-28T19:06:13.571000Z",
     "shell.execute_reply": "2023-03-28T19:06:13.571000Z"
    },
    "papermill": {
     "duration": 0.216104,
     "end_time": "2023-03-28T18:06:13.574666",
     "exception": false,
     "start_time": "2023-03-28T18:06:13.358562",
     "status": "completed"
    },
    "tags": []
   },
   "outputs": [],
   "source": [
    "ori=0.0;\n",
    "initX1 = nothing\n",
    "initX1=range(ori, stop=Xf, step=dx);"
   ]
  },
  {
   "cell_type": "code",
   "execution_count": 81,
   "id": "7376d222",
   "metadata": {
    "execution": {
     "iopub.execute_input": "2023-03-28T19:06:13.594000Z",
     "iopub.status.busy": "2023-03-28T19:06:13.594000Z",
     "iopub.status.idle": "2023-03-28T19:06:13.614000Z",
     "shell.execute_reply": "2023-03-28T19:06:13.613000Z"
    },
    "papermill": {
     "duration": 0.032546,
     "end_time": "2023-03-28T18:06:13.618614",
     "exception": false,
     "start_time": "2023-03-28T18:06:13.586068",
     "status": "completed"
    },
    "scrolled": true,
    "tags": []
   },
   "outputs": [
    {
     "name": "stdout",
     "output_type": "stream",
     "text": [
      "step size is  0.0005\n",
      "the time step is 0.0005\n"
     ]
    }
   ],
   "source": [
    "initX = range(round(ori-3.0*dx,digits=10), stop=Xf+3.0*dx, step=dx)\n",
    "\n",
    "L=length(initX);\n",
    "println(\"step size is  \", dx)\n",
    "\n",
    "#T=range(dt,stop=Tf,step=dt)\n",
    "#T=range(0,stop=Tf,step=dt)\n",
    "println(\"the time step is \", dt)"
   ]
  },
  {
   "cell_type": "code",
   "execution_count": 82,
   "id": "bc5288f8",
   "metadata": {
    "execution": {
     "iopub.execute_input": "2023-03-28T19:06:13.636000Z",
     "iopub.status.busy": "2023-03-28T19:06:13.636000Z",
     "iopub.status.idle": "2023-03-28T19:06:14.762000Z",
     "shell.execute_reply": "2023-03-28T19:06:14.762000Z"
    },
    "papermill": {
     "duration": 1.137394,
     "end_time": "2023-03-28T18:06:14.765909",
     "exception": false,
     "start_time": "2023-03-28T18:06:13.628515",
     "status": "completed"
    },
    "tags": []
   },
   "outputs": [],
   "source": [
    "include(\"./ScalarField.jl\");"
   ]
  },
  {
   "cell_type": "markdown",
   "id": "80ab1480",
   "metadata": {
    "papermill": {
     "duration": 0.007525,
     "end_time": "2023-03-28T18:06:14.783937",
     "exception": false,
     "start_time": "2023-03-28T18:06:14.776412",
     "status": "completed"
    },
    "tags": []
   },
   "source": [
    "# Initial data of m β Ψ and Ψ,x"
   ]
  },
  {
   "cell_type": "code",
   "execution_count": 83,
   "id": "d0af654c",
   "metadata": {
    "execution": {
     "iopub.execute_input": "2023-03-28T19:06:14.799000Z",
     "iopub.status.busy": "2023-03-28T19:06:14.799000Z",
     "iopub.status.idle": "2023-03-28T19:06:22.269000Z",
     "shell.execute_reply": "2023-03-28T19:06:22.269000Z"
    },
    "papermill": {
     "duration": 7.48258,
     "end_time": "2023-03-28T18:06:22.273970",
     "exception": false,
     "start_time": "2023-03-28T18:06:14.791390",
     "status": "completed"
    },
    "tags": []
   },
   "outputs": [
    {
     "name": "stderr",
     "output_type": "stream",
     "text": [
      "\u001b[36m\u001b[1m[ \u001b[22m\u001b[39m\u001b[36m\u001b[1mInfo: \u001b[22m\u001b[39m started timer at: 2023-04-06T10:07:56.522\n",
      "\u001b[36m\u001b[1m[ \u001b[22m\u001b[39m\u001b[36m\u001b[1mInfo: \u001b[22m\u001b[39m         0.354998162s: 354 milliseconds\n"
     ]
    }
   ],
   "source": [
    "using PyCall   \n",
    "using Interpolations\n",
    "using TickTock\n",
    "using Dierckx\n",
    "\n",
    "tick()\n",
    "scipy = pyimport(\"scipy\")\n",
    "scipyinterpolate = pyimport(\"scipy.interpolate\")\n",
    "\n",
    "\n",
    "####\n",
    "\n",
    "initm=zeros(L);\n",
    "initbeta=zeros(L);\n",
    "initpsi=zeros(L);\n",
    "initderpsi=zeros(L);\n",
    "\n",
    "state_array=[initm initbeta initpsi initderpsi initX];\n",
    "\n",
    "#PSI\n",
    "r0=0.7#0.3\n",
    "sigma=0.3\n",
    "initpsi[4:L-3] = init_gaussian(initX1,r0,sigma,A)\n",
    "\n",
    "state_array[:,3] = initpsi\n",
    "state_array = ghost(state_array)\n",
    "\n",
    "#PSI,X FROM PSI\n",
    "\"\"\"for i in 4:L-3\n",
    "    initderpsi[i]=Der(state_array[:,:],i,3,initX)\n",
    "end\n",
    "\n",
    "state_array[:,4] = initderpsi\n",
    "state_array = ghost(state_array)\"\"\"\n",
    "\n",
    "#new\n",
    "initderpsi[4:L-3] = init_gaussian_der(initX1,r0,sigma,A)\n",
    "state_array[:,4] = initderpsi\n",
    "state_array=ghost(state_array)\n",
    "\n",
    "####\n",
    "\n",
    "\n",
    "psi_func = Spline1D(initX[4:L-3], state_array[4:L-3,3],  k=4)\n",
    "derpsi_func = Spline1D(initX[4:L-3], initderpsi[4:L-3],  k=4)#new\n",
    "\n",
    "funcs = [psi_func, derpsi_func];\n",
    "\n",
    "tock()"
   ]
  },
  {
   "cell_type": "code",
   "execution_count": 84,
   "id": "384597fa",
   "metadata": {
    "execution": {
     "iopub.execute_input": "2023-03-28T19:06:22.817000Z",
     "iopub.status.busy": "2023-03-28T19:06:22.325000Z",
     "iopub.status.idle": "2023-03-28T19:06:25.288000Z",
     "shell.execute_reply": "2023-03-28T19:06:25.288000Z"
    },
    "papermill": {
     "duration": 2.998847,
     "end_time": "2023-03-28T18:06:25.292099",
     "exception": false,
     "start_time": "2023-03-28T18:06:22.293252",
     "status": "completed"
    },
    "tags": []
   },
   "outputs": [],
   "source": [
    "#BETA\n",
    "beta0=0\n",
    "initbeta[4:L-3]=rk4wrapper(SFconstraint_beta,beta0,initX1,0,funcs)\n",
    "state_array[:,2]=initbeta;\n",
    "state_array=ghost(state_array);\n",
    "\n",
    "\n",
    "#M\n",
    "m0=0\n",
    "initm[4:L-3]=rk4wrapper(SFconstraint_m,m0,initX1,0,funcs)\n",
    "state_array[:,1]=initm;\n",
    "state_array = ghost(state_array);"
   ]
  },
  {
   "cell_type": "code",
   "execution_count": 85,
   "id": "48f10a76",
   "metadata": {
    "execution": {
     "iopub.execute_input": "2023-03-28T19:06:25.312000Z",
     "iopub.status.busy": "2023-03-28T19:06:25.312000Z",
     "iopub.status.idle": "2023-03-28T19:06:25.348000Z",
     "shell.execute_reply": "2023-03-28T19:06:25.347000Z"
    },
    "papermill": {
     "duration": 0.048534,
     "end_time": "2023-03-28T18:06:25.352888",
     "exception": false,
     "start_time": "2023-03-28T18:06:25.304354",
     "status": "completed"
    },
    "tags": []
   },
   "outputs": [
    {
     "data": {
      "text/plain": [
       "\"using Plots #showing initial data and the initial status of the horizon finder\\nplot(initX, state_array[:,1:4], xaxis=\\\"x\\\",title=\\\"Initial Data\\\", labels=[\\\"m\\\" \\\"beta\\\" \\\"psi\\\" \\\"psi,x\\\"])\""
      ]
     },
     "execution_count": 85,
     "metadata": {},
     "output_type": "execute_result"
    }
   ],
   "source": [
    "\"\"\"using Plots #showing initial data and the initial status of the horizon finder\n",
    "plot(initX, state_array[:,1:4], xaxis=\"x\",title=\"Initial Data\", labels=[\"m\" \"beta\" \"psi\" \"psi,x\"])\"\"\""
   ]
  },
  {
   "cell_type": "markdown",
   "id": "9b444ece",
   "metadata": {
    "papermill": {
     "duration": 0.009161,
     "end_time": "2023-03-28T18:06:25.373170",
     "exception": false,
     "start_time": "2023-03-28T18:06:25.364009",
     "status": "completed"
    },
    "tags": []
   },
   "source": [
    "# Defining the initial state array for the evolution m β Ψ and Ψ,x"
   ]
  },
  {
   "cell_type": "code",
   "execution_count": 86,
   "id": "9902ffab",
   "metadata": {
    "execution": {
     "iopub.execute_input": "2023-03-28T19:06:25.389000Z",
     "iopub.status.busy": "2023-03-28T19:06:25.388000Z",
     "iopub.status.idle": "2023-03-28T19:06:32.710000Z",
     "shell.execute_reply": "2023-03-28T19:06:32.710000Z"
    },
    "papermill": {
     "duration": 7.335269,
     "end_time": "2023-03-28T18:06:32.715990",
     "exception": false,
     "start_time": "2023-03-28T18:06:25.380721",
     "status": "completed"
    },
    "tags": []
   },
   "outputs": [
    {
     "data": {
      "text/plain": [
       "\"/home/rita13santos/Desktop/MSc Thesis/Git/ScalarField/DATA/res1/time_step0.csv\""
      ]
     },
     "execution_count": 86,
     "metadata": {},
     "output_type": "execute_result"
    }
   ],
   "source": [
    "using CSV, Tables\n",
    "#CSV.write(dir*\"/time_step0.csv\", Tables.table(transpose(Matrix(state_array))), writeheader=false)\n",
    "CSV.write(dir*\"/time_step0.csv\", Tables.table(state_array), writeheader=false)"
   ]
  },
  {
   "cell_type": "code",
   "execution_count": 87,
   "id": "fff1426a",
   "metadata": {
    "execution": {
     "iopub.execute_input": "2023-03-28T19:06:33.154000Z",
     "iopub.status.busy": "2023-03-28T19:06:32.734000Z",
     "iopub.status.idle": "2023-03-28T19:06:33.884000Z",
     "shell.execute_reply": "2023-03-28T19:06:33.884000Z"
    },
    "papermill": {
     "duration": 1.164178,
     "end_time": "2023-03-28T18:06:33.889802",
     "exception": false,
     "start_time": "2023-03-28T18:06:32.725624",
     "status": "completed"
    },
    "tags": []
   },
   "outputs": [
    {
     "data": {
      "text/plain": [
       "\"/home/rita13santos/Desktop/MSc Thesis/Git/ScalarField/DATA/parameters.csv\""
      ]
     },
     "execution_count": 87,
     "metadata": {},
     "output_type": "execute_result"
    }
   ],
   "source": [
    "timestep=0\n",
    "criticality=0.0\n",
    "explode=0.0\n",
    "evol_stats = [run criticality A sigma r0 timestep explode]\n",
    "monitor_ratio = zeros(L)\n",
    "CSV.write(\"/home/rita13santos/Desktop/MSc Thesis/Git/ScalarField/DATA/parameters.csv\", Tables.table(evol_stats), writeheader=true, header=[\"run\", \"criticality\", \"A\", \"sigma\", \"r0\", \"timestep\", \"explode\"])"
   ]
  },
  {
   "cell_type": "code",
   "execution_count": 88,
   "id": "9e9abd7d",
   "metadata": {},
   "outputs": [
    {
     "name": "stdout",
     "output_type": "stream",
     "text": [
      "1.0\n"
     ]
    }
   ],
   "source": [
    "ginit=dt_scale(initX,state_array[:,1],state_array[:,2],dx)\n",
    "println(update_dt(initX,state_array[:,1],state_array[:,2],dx,ginit)/dt)"
   ]
  },
  {
   "cell_type": "markdown",
   "id": "42e2c73d",
   "metadata": {
    "papermill": {
     "duration": 0.007626,
     "end_time": "2023-03-28T18:06:33.908346",
     "exception": false,
     "start_time": "2023-03-28T18:06:33.900720",
     "status": "completed"
    },
    "tags": []
   },
   "source": [
    " ## Time evolution"
   ]
  },
  {
   "cell_type": "markdown",
   "id": "7da47594",
   "metadata": {
    "papermill": {
     "duration": 0.007471,
     "end_time": "2023-03-28T18:06:33.923805",
     "exception": false,
     "start_time": "2023-03-28T18:06:33.916334",
     "status": "completed"
    },
    "tags": []
   },
   "source": [
    "fixed grid"
   ]
  },
  {
   "cell_type": "code",
   "execution_count": 89,
   "id": "fcb7ae3f",
   "metadata": {
    "execution": {
     "iopub.execute_input": "2023-03-28T19:06:33.940000Z",
     "iopub.status.busy": "2023-03-28T19:06:33.940000Z",
     "iopub.status.idle": "2023-03-28T21:02:19.379000Z",
     "shell.execute_reply": "2023-03-28T21:02:19.378000Z"
    },
    "papermill": {
     "duration": 6945.452732,
     "end_time": "2023-03-28T20:02:19.384591",
     "exception": false,
     "start_time": "2023-03-28T18:06:33.931859",
     "status": "completed"
    },
    "tags": []
   },
   "outputs": [
    {
     "name": "stdout",
     "output_type": "stream",
     "text": [
      "iteration 1 dt is 0.0005, time of iteration is 0.0005\n",
      "iteration 2 dt is 0.0005, time of iteration is 0.001\n",
      "iteration 3 dt is 0.0005, time of iteration is 0.0015\n",
      "iteration 4 dt is 0.0005, time of iteration is 0.002\n",
      "iteration 5 dt is 0.0005, time of iteration is 0.0025\n",
      "iteration 6 dt is 0.0005, time of iteration is 0.003\n",
      "iteration 7 dt is 0.0005, time of iteration is 0.0035\n",
      "iteration 8 dt is 0.0005, time of iteration is 0.004\n",
      "iteration 9 dt is 0.0005, time of iteration is 0.0045000000000000005\n",
      "iteration 10 dt is 0.0005, time of iteration is 0.005000000000000001\n",
      "iteration 11 dt is 0.0005, time of iteration is 0.005500000000000001\n",
      "iteration 12 dt is 0.0005, time of iteration is 0.006000000000000002\n",
      "iteration 13 dt is 0.0005, time of iteration is 0.006500000000000002\n",
      "iteration 14 dt is 0.0005, time of iteration is 0.007000000000000003\n",
      "iteration 15 dt is 0.0005, time of iteration is 0.007500000000000003\n",
      "iteration 16 dt is 0.0005, time of iteration is 0.008000000000000004\n",
      "iteration 17 dt is 0.0005, time of iteration is 0.008500000000000004\n",
      "iteration 18 dt is 0.0005, time of iteration is 0.009000000000000005\n",
      "iteration 19 dt is 0.0005, time of iteration is 0.009500000000000005\n",
      "iteration 20 dt is 0.0005, time of iteration is 0.010000000000000005\n",
      "iteration 21 dt is 0.0005, time of iteration is 0.010500000000000006\n",
      "iteration 22 dt is 0.0005, time of iteration is 0.011000000000000006\n",
      "iteration 23 dt is 0.0005, time of iteration is 0.011500000000000007\n",
      "iteration 24 dt is 0.0005, time of iteration is 0.012000000000000007\n",
      "iteration 25 dt is 0.0005, time of iteration is 0.012500000000000008\n",
      "iteration 26 dt is 0.0005, time of iteration is 0.013000000000000008\n",
      "iteration 27 dt is 0.0005, time of iteration is 0.013500000000000009\n",
      "iteration 28 dt is 0.0005, time of iteration is 0.014000000000000009\n",
      "iteration 29 dt is 0.0005, time of iteration is 0.01450000000000001\n",
      "iteration 30 dt is 0.0005, time of iteration is 0.01500000000000001\n",
      "iteration 31 dt is 0.0005, time of iteration is 0.01550000000000001\n",
      "iteration 32 dt is 0.0005, time of iteration is 0.01600000000000001\n",
      "iteration 33 dt is 0.0005, time of iteration is 0.01650000000000001\n",
      "iteration 34 dt is 0.0005, time of iteration is 0.01700000000000001\n",
      "iteration 35 dt is 0.0005, time of iteration is 0.017500000000000012\n",
      "iteration 36 dt is 0.0005, time of iteration is 0.018000000000000013\n",
      "iteration 37 dt is 0.0005, time of iteration is 0.018500000000000013\n",
      "iteration 38 dt is 0.0005, time of iteration is 0.019000000000000013\n",
      "iteration 39 dt is 0.0005, time of iteration is 0.019500000000000014\n",
      "iteration 40 dt is 0.0005, time of iteration is 0.020000000000000014\n",
      "iteration 41 dt is 0.0005, time of iteration is 0.020500000000000015\n",
      "iteration 42 dt is 0.0005, time of iteration is 0.021000000000000015\n",
      "iteration 43 dt is 0.0005, time of iteration is 0.021500000000000016\n",
      "iteration 44 dt is 0.0005, time of iteration is 0.022000000000000016\n",
      "iteration 45 dt is 0.0005, time of iteration is 0.022500000000000017\n",
      "iteration 46 dt is 0.0005, time of iteration is 0.023000000000000017\n",
      "iteration 47 dt is 0.0005, time of iteration is 0.023500000000000017\n",
      "iteration 48 dt is 0.0005, time of iteration is 0.024000000000000018\n",
      "iteration 49 dt is 0.0005, time of iteration is 0.02450000000000002\n",
      "iteration 50 dt is 0.0005, time of iteration is 0.02500000000000002\n",
      "iteration 51 dt is 0.0005, time of iteration is 0.02550000000000002\n",
      "iteration 52 dt is 0.0005, time of iteration is 0.02600000000000002\n",
      "iteration 53 dt is 0.0005, time of iteration is 0.02650000000000002\n",
      "iteration 54 dt is 0.0005, time of iteration is 0.02700000000000002\n",
      "iteration 55 dt is 0.0005, time of iteration is 0.02750000000000002\n",
      "iteration 56 dt is 0.0005, time of iteration is 0.02800000000000002\n",
      "iteration 57 dt is 0.0005, time of iteration is 0.028500000000000022\n",
      "iteration 58 dt is 0.0005, time of iteration is 0.029000000000000022\n",
      "iteration 59 dt is 0.0005, time of iteration is 0.029500000000000023\n",
      "iteration 60 dt is 0.0005, time of iteration is 0.030000000000000023\n",
      "iteration 61 dt is 0.0005, time of iteration is 0.030500000000000024\n",
      "iteration 62 dt is 0.0005, time of iteration is 0.031000000000000024\n",
      "iteration 63 dt is 0.0005, time of iteration is 0.03150000000000002\n",
      "iteration 64 dt is 0.0005, time of iteration is 0.03200000000000002\n",
      "iteration 65 dt is 0.0005, time of iteration is 0.03250000000000002\n",
      "iteration 66 dt is 0.0005, time of iteration is 0.03300000000000002\n",
      "iteration 67 dt is 0.0005, time of iteration is 0.03350000000000002\n",
      "iteration 68 dt is 0.0005, time of iteration is 0.03400000000000002\n",
      "iteration 69 dt is 0.0005, time of iteration is 0.034500000000000024\n",
      "iteration 70 dt is 0.0005, time of iteration is 0.035000000000000024\n",
      "iteration 71 dt is 0.0005, time of iteration is 0.035500000000000025\n",
      "iteration 72 dt is 0.0005, time of iteration is 0.036000000000000025\n",
      "iteration 73 dt is 0.0005, time of iteration is 0.036500000000000025\n",
      "iteration 74 dt is 0.0005, time of iteration is 0.037000000000000026\n",
      "iteration 75 dt is 0.0005, time of iteration is 0.037500000000000026\n",
      "iteration 76 dt is 0.0005, time of iteration is 0.03800000000000003\n",
      "iteration 77 dt is 0.0005, time of iteration is 0.03850000000000003\n",
      "iteration 78 dt is 0.0005, time of iteration is 0.03900000000000003\n",
      "iteration 79 dt is 0.0005, time of iteration is 0.03950000000000003\n",
      "iteration 80 dt is 0.0005, time of iteration is 0.04000000000000003\n",
      "iteration 81 dt is 0.0005, time of iteration is 0.04050000000000003\n",
      "iteration 82 dt is 0.0005, time of iteration is 0.04100000000000003\n",
      "iteration 83 dt is 0.0005, time of iteration is 0.04150000000000003\n",
      "iteration 84 dt is 0.0005, time of iteration is 0.04200000000000003\n",
      "iteration 85 dt is 0.0005, time of iteration is 0.04250000000000003\n",
      "iteration 86 dt is 0.0005, time of iteration is 0.04300000000000003\n",
      "iteration 87 dt is 0.0005, time of iteration is 0.04350000000000003\n",
      "iteration 88 dt is 0.0005, time of iteration is 0.04400000000000003\n",
      "iteration 89 dt is 0.0005, time of iteration is 0.04450000000000003\n",
      "iteration 90 dt is 0.0005, time of iteration is 0.04500000000000003\n",
      "iteration 91 dt is 0.0005, time of iteration is 0.045500000000000033\n",
      "iteration 92 dt is 0.0005, time of iteration is 0.046000000000000034\n",
      "iteration 93 dt is 0.0005, time of iteration is 0.046500000000000034\n",
      "iteration 94 dt is 0.0005, time of iteration is 0.047000000000000035\n",
      "iteration 95 dt is 0.0005, time of iteration is 0.047500000000000035\n",
      "iteration 96 dt is 0.0005, time of iteration is 0.048000000000000036\n",
      "iteration 97 dt is 0.0005, time of iteration is 0.048500000000000036\n",
      "iteration 98 dt is 0.0005, time of iteration is 0.04900000000000004\n",
      "iteration 99 dt is 0.0005, time of iteration is 0.04950000000000004\n",
      "iteration 100 dt is 0.0005, time of iteration is 0.05000000000000004\n"
     ]
    }
   ],
   "source": [
    "finaltime=0.05#length(T)-1\n",
    "T = timeevolution(state_array,finaltime,dir,dt,run);"
   ]
  },
  {
   "cell_type": "code",
   "execution_count": null,
   "id": "17d2785e",
   "metadata": {},
   "outputs": [],
   "source": []
  },
  {
   "cell_type": "code",
   "execution_count": null,
   "id": "619e09b2",
   "metadata": {},
   "outputs": [],
   "source": []
  },
  {
   "cell_type": "code",
   "execution_count": null,
   "id": "f3dd91be",
   "metadata": {},
   "outputs": [],
   "source": []
  },
  {
   "cell_type": "code",
   "execution_count": null,
   "id": "6e265ae1",
   "metadata": {},
   "outputs": [],
   "source": []
  },
  {
   "cell_type": "markdown",
   "id": "715897d3",
   "metadata": {
    "papermill": {
     "duration": 0.007626,
     "end_time": "2023-03-28T18:06:33.908346",
     "exception": false,
     "start_time": "2023-03-28T18:06:33.900720",
     "status": "completed"
    },
    "tags": []
   },
   "source": [
    " ## Movie of the evolution"
   ]
  },
  {
   "cell_type": "code",
   "execution_count": 633,
   "id": "973cea47",
   "metadata": {},
   "outputs": [
    {
     "ename": "LoadError",
     "evalue": "ArgumentError: \"/home/rita13santos/Desktop/MSc Thesis/Git/ScalarField/DATA/res3/time_step1.csv\" is not a valid file or doesn't exist",
     "output_type": "error",
     "traceback": [
      "ArgumentError: \"/home/rita13santos/Desktop/MSc Thesis/Git/ScalarField/DATA/res3/time_step1.csv\" is not a valid file or doesn't exist",
      "",
      "Stacktrace:",
      " [1] CSV.Context(source::CSV.Arg, header::CSV.Arg, normalizenames::CSV.Arg, datarow::CSV.Arg, skipto::CSV.Arg, footerskip::CSV.Arg, transpose::CSV.Arg, comment::CSV.Arg, ignoreemptyrows::CSV.Arg, ignoreemptylines::CSV.Arg, select::CSV.Arg, drop::CSV.Arg, limit::CSV.Arg, buffer_in_memory::CSV.Arg, threaded::CSV.Arg, ntasks::CSV.Arg, tasks::CSV.Arg, rows_to_check::CSV.Arg, lines_to_check::CSV.Arg, missingstrings::CSV.Arg, missingstring::CSV.Arg, delim::CSV.Arg, ignorerepeated::CSV.Arg, quoted::CSV.Arg, quotechar::CSV.Arg, openquotechar::CSV.Arg, closequotechar::CSV.Arg, escapechar::CSV.Arg, dateformat::CSV.Arg, dateformats::CSV.Arg, decimal::CSV.Arg, truestrings::CSV.Arg, falsestrings::CSV.Arg, stripwhitespace::CSV.Arg, type::CSV.Arg, types::CSV.Arg, typemap::CSV.Arg, pool::CSV.Arg, downcast::CSV.Arg, lazystrings::CSV.Arg, stringtype::CSV.Arg, strict::CSV.Arg, silencewarnings::CSV.Arg, maxwarnings::CSV.Arg, debug::CSV.Arg, parsingdebug::CSV.Arg, validate::CSV.Arg, streaming::CSV.Arg)",
      "   @ CSV ~/.julia/packages/CSV/b8ebJ/src/context.jl:306",
      " [2] #File#28",
      "   @ ~/.julia/packages/CSV/b8ebJ/src/file.jl:221 [inlined]",
      " [3] macro expansion",
      "   @ ./In[633]:8 [inlined]",
      " [4] top-level scope",
      "   @ ~/.julia/packages/Plots/bMtsB/src/animation.jl:251"
     ]
    }
   ],
   "source": [
    "using Plots, CSV, DataFrames\n",
    "import GR\n",
    "anim = @animate for n in 1:10:740#length(T)-1\n",
    "    \n",
    "    time_step=T[n+1]-T[n];\n",
    "    IJulia.clear_output(true)\n",
    "    \n",
    "    functions3=DataFrame(CSV.File(dir*\"/time_step$n.csv\",header=false, delim=\",\"))\n",
    "    plot()\n",
    "        plot1=functions3.Column1[4:L-3];\n",
    "        plot2=functions3.Column2[4:L-3];\n",
    "        plot3=functions3.Column3[4:L-3];\n",
    "        plot4=functions3.Column4[4:L-3];\n",
    "        plot5=functions3.Column5[4:L-3];\n",
    "    d=round(T[n],digits=1)\n",
    "    #plot!(X1, [plot1 plot2 plot3 plot4], labels=[\"m\" \"beta\" \"psi\" \"psi,x\"],ylim=[-0.1,0.1], xlim=[0, 0.1]) |> display \n",
    "    plot!(initX[4:L-3], [plot1 plot2 plot3 plot4], labels=[\"m\" \"beta\" \"psi\" \"psi,x\"],ylim=[-1,1])#, xlim=[0, 0.1]) |> display \n",
    "    \n",
    "    end\n",
    "\n",
    "gif(anim, \"anim_res$res.gif\", fps = 1)"
   ]
  },
  {
   "cell_type": "code",
   "execution_count": 634,
   "id": "b1f15c9e",
   "metadata": {},
   "outputs": [
    {
     "data": {
      "text/plain": [
       "\"/home/rita13santos/Desktop/MSc Thesis/Git/ScalarField/DATA/res3\""
      ]
     },
     "execution_count": 634,
     "metadata": {},
     "output_type": "execute_result"
    }
   ],
   "source": [
    "dir"
   ]
  },
  {
   "cell_type": "code",
   "execution_count": null,
   "id": "34adf7fe",
   "metadata": {},
   "outputs": [],
   "source": []
  },
  {
   "cell_type": "code",
   "execution_count": null,
   "id": "a05acb5f",
   "metadata": {},
   "outputs": [],
   "source": []
  },
  {
   "cell_type": "code",
   "execution_count": null,
   "id": "01c840df",
   "metadata": {},
   "outputs": [],
   "source": []
  },
  {
   "cell_type": "code",
   "execution_count": null,
   "id": "eb36f345",
   "metadata": {},
   "outputs": [],
   "source": []
  },
  {
   "cell_type": "code",
   "execution_count": null,
   "id": "6e1862b9",
   "metadata": {},
   "outputs": [],
   "source": []
  }
 ],
 "metadata": {
  "@webio": {
   "lastCommId": null,
   "lastKernelId": null
  },
  "kernelspec": {
   "display_name": "Julia 1.8.0",
   "language": "julia",
   "name": "julia-1.8"
  },
  "language_info": {
   "file_extension": ".jl",
   "mimetype": "application/julia",
   "name": "julia",
   "version": "1.8.0"
  },
  "papermill": {
   "default_parameters": {},
   "duration": 7025.507115,
   "end_time": "2023-03-28T20:03:06.430756",
   "environment_variables": {},
   "exception": null,
   "input_path": "Evolution_ScalarField.ipynb",
   "output_path": "Evolution_ScalarField.ipynb",
   "parameters": {
    "A": 0.001,
    "m": 3
   },
   "start_time": "2023-03-28T18:06:00.923641",
   "version": "2.4.0"
  }
 },
 "nbformat": 4,
 "nbformat_minor": 5
}
