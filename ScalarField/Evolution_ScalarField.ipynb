{
 "cells": [
  {
   "cell_type": "markdown",
   "id": "d88601a8",
   "metadata": {
    "papermill": {
     "duration": null,
     "end_time": null,
     "exception": null,
     "start_time": null,
     "status": "completed"
    },
    "tags": []
   },
   "source": [
    "# Evolution of Einstein's equations"
   ]
  },
  {
   "cell_type": "markdown",
   "id": "03c607c7",
   "metadata": {
    "papermill": {
     "duration": null,
     "end_time": null,
     "exception": null,
     "start_time": null,
     "status": "completed"
    },
    "tags": []
   },
   "source": [
    "# Initial data , setting length of the domain and discretization\n"
   ]
  },
  {
   "cell_type": "code",
   "execution_count": 190,
   "id": "e3ef6d22",
   "metadata": {
    "papermill": {
     "duration": null,
     "end_time": null,
     "exception": null,
     "start_time": null,
     "status": "completed"
    },
    "tags": [
     "injected-parameters"
    ]
   },
   "outputs": [
    {
     "data": {
      "text/plain": [
       "0.001"
      ]
     },
     "execution_count": 190,
     "metadata": {},
     "output_type": "execute_result"
    }
   ],
   "source": [
    "# Parameters\n",
    "m = 1\n",
    "A = 0.001#0.1449"
   ]
  },
  {
   "cell_type": "code",
   "execution_count": 191,
   "id": "80bb0a34",
   "metadata": {
    "execution": {
     "iopub.execute_input": "2023-03-01T09:49:50.032000Z",
     "iopub.status.busy": "2023-03-01T09:49:50.032000Z",
     "iopub.status.idle": "2023-03-01T09:49:50.289000Z",
     "shell.execute_reply": "2023-03-01T09:49:50.289000Z"
    },
    "papermill": {
     "duration": null,
     "end_time": null,
     "exception": null,
     "start_time": null,
     "status": "completed"
    },
    "tags": []
   },
   "outputs": [
    {
     "name": "stdout",
     "output_type": "stream",
     "text": [
      "the final time is 20.0\n"
     ]
    }
   ],
   "source": [
    "res=m;\n",
    "N=2.0^m*75/3*2#2.0^m*1000.0;#2.0^m*500.0;#N=2.0^m*500.0#2.0^m*100.0;\n",
    "Xf=1.0;\n",
    "\n",
    "dx=Xf/N;\n",
    "dt=round(dx,digits=10);\n",
    "Nt=100.0*2^m*10#100.0*2^m*10\n",
    "Tf=Nt*dt; #final time\n",
    "\n",
    "println(\"the final time is \", Tf)"
   ]
  },
  {
   "cell_type": "code",
   "execution_count": 192,
   "id": "2b95e4c8",
   "metadata": {
    "execution": {
     "iopub.execute_input": "2023-03-01T09:49:50.314000Z",
     "iopub.status.busy": "2023-03-01T09:49:50.313000Z",
     "iopub.status.idle": "2023-03-01T09:49:50.325000Z",
     "shell.execute_reply": "2023-03-01T09:49:50.325000Z"
    },
    "papermill": {
     "duration": null,
     "end_time": null,
     "exception": null,
     "start_time": null,
     "status": "completed"
    },
    "tags": []
   },
   "outputs": [
    {
     "name": "stdout",
     "output_type": "stream",
     "text": [
      "100.0"
     ]
    }
   ],
   "source": [
    "print(N)"
   ]
  },
  {
   "cell_type": "code",
   "execution_count": 193,
   "id": "ad48576a",
   "metadata": {
    "execution": {
     "iopub.execute_input": "2023-03-01T09:49:50.355000Z",
     "iopub.status.busy": "2023-03-01T09:49:50.355000Z",
     "iopub.status.idle": "2023-03-01T09:49:50.371000Z",
     "shell.execute_reply": "2023-03-01T09:49:50.371000Z"
    },
    "papermill": {
     "duration": null,
     "end_time": null,
     "exception": null,
     "start_time": null,
     "status": "completed"
    },
    "tags": []
   },
   "outputs": [
    {
     "name": "stdout",
     "output_type": "stream",
     "text": [
      "dx =0.01\n",
      "dt =0.01\n",
      "dx/dt =1.0\n",
      "epsilon <= dx/dt * (1/2)^(2*2-1) = 0.125\n",
      "epsilon = dx/dt * (1/2)^(2*2) = 0.0625\n",
      "epsilon = dx/dt * (1/2)^(2*3) = 0.015625\n",
      "epsilon = dx/dt * (1/2)^(2) = 0.25\n"
     ]
    }
   ],
   "source": [
    "println(\"dx =\", dx)\n",
    "println(\"dt =\", dt)\n",
    "println(\"dx/dt =\", dx/dt)\n",
    "println(\"epsilon <= dx/dt * (1/2)^(2*2-1) = \", dx/dt*(1/2)^(2*2-1))\n",
    "\n",
    "println(\"epsilon = dx/dt * (1/2)^(2*2) = \", dx/dt*(1/2)^(2*2))\n",
    "\n",
    "println(\"epsilon = dx/dt * (1/2)^(2*3) = \", dx/dt*(1/2)^(2*3))\n",
    "\n",
    "println(\"epsilon = dx/dt * (1/2)^(2) = \", dx/dt*(1/2)^(2))"
   ]
  },
  {
   "cell_type": "code",
   "execution_count": 194,
   "id": "78fb78a5",
   "metadata": {
    "execution": {
     "iopub.execute_input": "2023-03-01T09:49:50.399000Z",
     "iopub.status.busy": "2023-03-01T09:49:50.399000Z",
     "iopub.status.idle": "2023-03-01T09:49:51.712000Z",
     "shell.execute_reply": "2023-03-01T09:49:51.712000Z"
    },
    "papermill": {
     "duration": null,
     "end_time": null,
     "exception": null,
     "start_time": null,
     "status": "completed"
    },
    "tags": []
   },
   "outputs": [
    {
     "data": {
      "text/plain": [
       "\"/home/rita13santos/Desktop/MSc Thesis/Git/ScalarField/DATA/res1\""
      ]
     },
     "execution_count": 194,
     "metadata": {},
     "output_type": "execute_result"
    }
   ],
   "source": [
    "# Setting RESOLUTION\n",
    "\n",
    "global dir = \"/home/rita13santos/Desktop/MSc Thesis/Git/ScalarField/DATA/res$res\"\n",
    "#global dir = \"/home/rita13santos/Desktop/MSc Thesis/Git/ScalarField/DATA/res\""
   ]
  },
  {
   "cell_type": "code",
   "execution_count": 195,
   "id": "9732fbb0",
   "metadata": {
    "execution": {
     "iopub.execute_input": "2023-03-01T09:49:51.817000Z",
     "iopub.status.busy": "2023-03-01T09:49:51.817000Z",
     "iopub.status.idle": "2023-03-01T09:49:52.350000Z",
     "shell.execute_reply": "2023-03-01T09:49:52.350000Z"
    },
    "papermill": {
     "duration": null,
     "end_time": null,
     "exception": null,
     "start_time": null,
     "status": "completed"
    },
    "tags": []
   },
   "outputs": [
    {
     "data": {
      "text/plain": [
       "0.1"
      ]
     },
     "execution_count": 195,
     "metadata": {},
     "output_type": "execute_result"
    }
   ],
   "source": [
    "epsilon=0.1##0.01#0.05; #05; #02;#0.05; #0.05; #0.05;#0.05;#0.05; #dissipation strength (-1 for backwards integration)"
   ]
  },
  {
   "cell_type": "markdown",
   "id": "e2dd4335",
   "metadata": {
    "papermill": {
     "duration": null,
     "end_time": null,
     "exception": null,
     "start_time": null,
     "status": "completed"
    },
    "tags": []
   },
   "source": [
    "# Grid"
   ]
  },
  {
   "cell_type": "code",
   "execution_count": 196,
   "id": "de24fea3",
   "metadata": {
    "execution": {
     "iopub.execute_input": "2023-03-01T09:49:52.407000Z",
     "iopub.status.busy": "2023-03-01T09:49:52.407000Z",
     "iopub.status.idle": "2023-03-01T09:49:52.633000Z",
     "shell.execute_reply": "2023-03-01T09:49:52.633000Z"
    },
    "papermill": {
     "duration": null,
     "end_time": null,
     "exception": null,
     "start_time": null,
     "status": "completed"
    },
    "tags": []
   },
   "outputs": [],
   "source": [
    "ori=0.0;\n",
    "initX1 = nothing\n",
    "initX1=range(ori, stop=Xf, step=dx);"
   ]
  },
  {
   "cell_type": "code",
   "execution_count": 197,
   "id": "7376d222",
   "metadata": {
    "execution": {
     "iopub.execute_input": "2023-03-01T09:49:52.659000Z",
     "iopub.status.busy": "2023-03-01T09:49:52.659000Z",
     "iopub.status.idle": "2023-03-01T09:49:52.688000Z",
     "shell.execute_reply": "2023-03-01T09:49:52.688000Z"
    },
    "papermill": {
     "duration": null,
     "end_time": null,
     "exception": null,
     "start_time": null,
     "status": "completed"
    },
    "scrolled": true,
    "tags": []
   },
   "outputs": [
    {
     "name": "stdout",
     "output_type": "stream",
     "text": [
      "step size is  0.01\n",
      "the time step is 0.01\n"
     ]
    }
   ],
   "source": [
    "initX = range(round(ori-3.0*dx,digits=10), stop=Xf+3.0*dx, step=dx)\n",
    "\n",
    "L=length(initX);\n",
    "println(\"step size is  \", dx)\n",
    "\n",
    "#T=range(dt,stop=Tf,step=dt)\n",
    "T=range(0,stop=Tf,step=dt)\n",
    "println(\"the time step is \", dt)"
   ]
  },
  {
   "cell_type": "code",
   "execution_count": 198,
   "id": "bc5288f8",
   "metadata": {
    "execution": {
     "iopub.execute_input": "2023-03-01T09:49:53.003000Z",
     "iopub.status.busy": "2023-03-01T09:49:53.002000Z",
     "iopub.status.idle": "2023-03-01T09:49:53.101000Z",
     "shell.execute_reply": "2023-03-01T09:49:53.101000Z"
    },
    "papermill": {
     "duration": null,
     "end_time": null,
     "exception": null,
     "start_time": null,
     "status": "completed"
    },
    "tags": []
   },
   "outputs": [],
   "source": [
    "include(\"./ScalarField.jl\");"
   ]
  },
  {
   "cell_type": "code",
   "execution_count": 199,
   "id": "d153473f",
   "metadata": {
    "execution": {
     "iopub.execute_input": "2023-03-01T09:49:53.129000Z",
     "iopub.status.busy": "2023-03-01T09:49:53.129000Z",
     "iopub.status.idle": "2023-03-01T09:49:55.021000Z",
     "shell.execute_reply": "2023-03-01T09:49:55.021000Z"
    },
    "papermill": {
     "duration": null,
     "end_time": null,
     "exception": null,
     "start_time": null,
     "status": "completed"
    },
    "tags": []
   },
   "outputs": [],
   "source": [
    "using Interpolations"
   ]
  },
  {
   "cell_type": "markdown",
   "id": "80ab1480",
   "metadata": {
    "papermill": {
     "duration": null,
     "end_time": null,
     "exception": null,
     "start_time": null,
     "status": "completed"
    },
    "tags": []
   },
   "source": [
    "# Initial data of m β Ψ and Ψ,x"
   ]
  },
  {
   "cell_type": "code",
   "execution_count": 200,
   "id": "d0af654c",
   "metadata": {
    "execution": {
     "iopub.execute_input": "2023-03-01T09:49:55.270000Z",
     "iopub.status.busy": "2023-03-01T09:49:55.065000Z",
     "iopub.status.idle": "2023-03-01T09:50:01.597000Z",
     "shell.execute_reply": "2023-03-01T09:50:01.597000Z"
    },
    "papermill": {
     "duration": null,
     "end_time": null,
     "exception": null,
     "start_time": null,
     "status": "completed"
    },
    "tags": []
   },
   "outputs": [
    {
     "data": {
      "text/plain": [
       "1×2 Matrix{Function}:\n",
       " psi_func  derpsi_func"
      ]
     },
     "execution_count": 200,
     "metadata": {},
     "output_type": "execute_result"
    }
   ],
   "source": [
    "using PyCall   \n",
    "\n",
    "\n",
    "scipy = pyimport(\"scipy\")\n",
    "scipyinterpolate = pyimport(\"scipy.interpolate\")\n",
    "\n",
    "\n",
    "####\n",
    "\n",
    "initm=zeros(L);\n",
    "initbeta=zeros(L);\n",
    "initpsi=zeros(L);\n",
    "initderpsi=zeros(L);\n",
    "\n",
    "state_array=[initm initbeta initpsi initderpsi initX];\n",
    "\n",
    "#PSI\n",
    "r0=0.7#0.3\n",
    "sigma=0.3\n",
    "initpsi[4:L-3] = init_gaussian(initX1,r0,sigma,A)\n",
    "\n",
    "state_array[:,3] = initpsi\n",
    "state_array = ghost(state_array)\n",
    "\n",
    "#PSI,X FROM PSI\n",
    "\"\"\"for i in 4:L-3\n",
    "    initderpsi[i]=Der(state_array[:,:],i,3,initX)\n",
    "end\n",
    "\n",
    "state_array[:,4] = initderpsi\n",
    "state_array = ghost(state_array)\"\"\"\n",
    "\n",
    "#new\n",
    "initderpsi[4:L-3] = init_gaussian_der(initX1,r0,sigma,A)\n",
    "state_array[:,4] = initderpsi\n",
    "state_array=ghost(state_array)\n",
    "\n",
    "####\n",
    "\n",
    "spl_psi = scipyinterpolate.splrep(initX[4:L-3], state_array[4:L-3,3],k=4)\n",
    "psi_func(x) = scipyinterpolate.splev(x, spl_psi)\n",
    "\n",
    "spl_derpsi = scipyinterpolate.splrep(initX[4:L-3], initderpsi[4:L-3],k=4)\n",
    "derpsi_func(x) = scipyinterpolate.splev(x, spl_derpsi)\n",
    "\n",
    "funcs = [psi_func derpsi_func]"
   ]
  },
  {
   "cell_type": "code",
   "execution_count": 201,
   "id": "384597fa",
   "metadata": {
    "execution": {
     "iopub.execute_input": "2023-03-01T09:50:37.023000Z",
     "iopub.status.busy": "2023-03-01T09:50:36.468000Z",
     "iopub.status.idle": "2023-03-01T09:50:43.960000Z",
     "shell.execute_reply": "2023-03-01T09:50:43.960000Z"
    },
    "papermill": {
     "duration": null,
     "end_time": null,
     "exception": null,
     "start_time": null,
     "status": "completed"
    },
    "tags": []
   },
   "outputs": [],
   "source": [
    "#BETA\n",
    "beta0=0\n",
    "initbeta[4:L-3]=rk4wrapper(SFconstraint_beta,beta0,initX1,0,funcs)\n",
    "state_array[:,2]=initbeta;\n",
    "state_array=ghost(state_array);\n",
    "\n",
    "\n",
    "#M\n",
    "m0=0\n",
    "initm[4:L-3]=rk4wrapper(SFconstraint_m,m0,initX1,0,funcs)\n",
    "state_array[:,1]=initm;\n",
    "state_array = ghost(state_array);"
   ]
  },
  {
   "cell_type": "code",
   "execution_count": 202,
   "id": "48f10a76",
   "metadata": {},
   "outputs": [
    {
     "data": {
      "text/plain": [
       "\"using Plots #showing initial data and the initial status of the horizon finder\\nplot(initX, state_array[:,1:4], xaxis=\\\"x\\\",title=\\\"Initial Data\\\", labels=[\\\"m\\\" \\\"beta\\\" \\\"psi\\\" \\\"psi,x\\\"])\""
      ]
     },
     "execution_count": 202,
     "metadata": {},
     "output_type": "execute_result"
    }
   ],
   "source": [
    "\"\"\"using Plots #showing initial data and the initial status of the horizon finder\n",
    "plot(initX, state_array[:,1:4], xaxis=\"x\",title=\"Initial Data\", labels=[\"m\" \"beta\" \"psi\" \"psi,x\"])\"\"\""
   ]
  },
  {
   "cell_type": "markdown",
   "id": "9b444ece",
   "metadata": {
    "papermill": {
     "duration": null,
     "end_time": null,
     "exception": null,
     "start_time": null,
     "status": "completed"
    },
    "tags": []
   },
   "source": [
    "# Defining the initial state array for the evolution m β Ψ and Ψ,x"
   ]
  },
  {
   "cell_type": "code",
   "execution_count": 203,
   "id": "9902ffab",
   "metadata": {
    "execution": {
     "iopub.execute_input": "2023-03-01T09:50:44.779000Z",
     "iopub.status.busy": "2023-03-01T09:50:44.779000Z",
     "iopub.status.idle": "2023-03-01T09:50:53.694000Z",
     "shell.execute_reply": "2023-03-01T09:50:53.694000Z"
    },
    "papermill": {
     "duration": null,
     "end_time": null,
     "exception": null,
     "start_time": null,
     "status": "completed"
    },
    "tags": []
   },
   "outputs": [
    {
     "data": {
      "text/plain": [
       "\"/home/rita13santos/Desktop/MSc Thesis/Git/ScalarField/DATA/res1/time_step0.csv\""
      ]
     },
     "execution_count": 203,
     "metadata": {},
     "output_type": "execute_result"
    }
   ],
   "source": [
    "using CSV, Tables\n",
    "#CSV.write(dir*\"/time_step0.csv\", Tables.table(transpose(Matrix(state_array))), writeheader=false)\n",
    "CSV.write(dir*\"/time_step0.csv\", Tables.table(state_array), writeheader=false)"
   ]
  },
  {
   "cell_type": "code",
   "execution_count": 204,
   "id": "fff1426a",
   "metadata": {},
   "outputs": [
    {
     "data": {
      "text/plain": [
       "\"/home/rita13santos/Desktop/MSc Thesis/Git/ScalarField/DATA/parameters.csv\""
      ]
     },
     "execution_count": 204,
     "metadata": {},
     "output_type": "execute_result"
    }
   ],
   "source": [
    "timestep=0\n",
    "criticality=0.0\n",
    "explode=0.0\n",
    "critical_stop=0\n",
    "evol_stats = [criticality A sigma r0 timestep explode]\n",
    "monitor_ratio = zeros(L)\n",
    "CSV.write(\"/home/rita13santos/Desktop/MSc Thesis/Git/ScalarField/DATA/parameters.csv\", Tables.table(evol_stats), writeheader=true, header=[\"criticality\", \"A\", \"sigma\", \"r0\", \"timestep\", \"explode\"])"
   ]
  },
  {
   "cell_type": "markdown",
   "id": "42e2c73d",
   "metadata": {
    "papermill": {
     "duration": null,
     "end_time": null,
     "exception": null,
     "start_time": null,
     "status": "completed"
    },
    "tags": []
   },
   "source": [
    " ## Time evolution"
   ]
  },
  {
   "cell_type": "markdown",
   "id": "7da47594",
   "metadata": {
    "papermill": {
     "duration": null,
     "end_time": null,
     "exception": null,
     "start_time": null,
     "status": "completed"
    },
    "tags": []
   },
   "source": [
    "fixed grid"
   ]
  },
  {
   "cell_type": "code",
   "execution_count": 178,
   "id": "01bca6ee",
   "metadata": {
    "execution": {
     "iopub.execute_input": "2023-03-01T09:50:54.690000Z",
     "iopub.status.busy": "2023-03-01T09:50:53.766000Z",
     "iopub.status.idle": "2023-03-01T09:51:14.077000Z",
     "shell.execute_reply": "2023-03-01T09:51:14.076000Z"
    },
    "papermill": {
     "duration": null,
     "end_time": null,
     "exception": null,
     "start_time": null,
     "status": "completed"
    },
    "tags": []
   },
   "outputs": [
    {
     "name": "stderr",
     "output_type": "stream",
     "text": [
      "\u001b[32mProgress: 100%|█████████████████████████████████████████| Time: 0:25:07\u001b[39m\n"
     ]
    }
   ],
   "source": [
    "using Interpolations\n",
    "using ProgressMeter\n",
    "@showprogress for t in 1:400*2#length(T)\n",
    "    \n",
    "    if isnan(state_array[L-3,4])\n",
    "        print(\"boom at timestep=\", t)\n",
    "        explode = true\n",
    "        timestep = t\n",
    "        break\n",
    "    end\n",
    "    \n",
    "    #X = update_grid(state_array[:,:],T,t)\n",
    "    \n",
    "    X=initX#initX #state_array[:,5]\n",
    "    X1=X[4:L-3]\n",
    "\n",
    "    #update ghost points\n",
    "    state_array=boundarySF(state_array,X)\n",
    "   \n",
    "    #evolve psi,x\n",
    "    global state_array[:,:] = rungekutta4molstep(SF_RHS,state_array[:,:],T,t,0,X) #evolve psi,x\n",
    "    #global state_array=ghost(state_array)\n",
    "\n",
    "    #global aux=SF_RHS(state_array[:,:], 0,0,X)\n",
    "    \n",
    "    #calculate psi from psi,x\n",
    "    global spl_derpsi = scipyinterpolate.splrep(initX[4:L-3], state_array[4:L-3,4],k=4)\n",
    "    psi0=0\n",
    "    SFconstraint_psi(psi0,x) = scipyinterpolate.splev(x, spl_derpsi)\n",
    "\n",
    "    global state_array[4:L-3,3] = rungekutta4(SFconstraint_psi,psi0,initX1)\n",
    "    #global state_array=ghost(state_array);\n",
    "\n",
    "    global spl_psi = scipyinterpolate.splrep(initX[4:L-3], state_array[4:L-3,3],k=4)\n",
    "    global psi_func(x) = scipyinterpolate.splev(x, spl_psi)\n",
    "    global derpsi_func(x) = scipyinterpolate.splev(x, spl_derpsi)\n",
    "\n",
    "    global funcs = [psi_func derpsi_func]\n",
    "    \n",
    "    #evolve beta\n",
    "    global state_array[4:L-3,2]=rk4wrapper(SFconstraint_beta,beta0,X1,T[t+1],funcs)\n",
    "    #global state_array=ghost(state_array)\n",
    "    \n",
    "    #evolve m\n",
    "    global state_array[4:L-3,1]=rk4wrapper(SFconstraint_m,m0,X1,T[t+1],funcs)\n",
    "    #global state_array=ghost(state_array)\n",
    "    \n",
    "    #CSV.write(dir*\"/time_step$k.csv\", Tables.table(transpose(Matrix(state_array))), writeheader=false)\n",
    "    CSV.write(dir*\"/time_step$t.csv\", Tables.table(state_array), writeheader=false)\n",
    "    \n",
    "    \n",
    "    #threshold for apparent black hole formation\n",
    "    \"\"\"global monitor_ratio = zeros(L)\n",
    "    for i in 1:L\n",
    "        global monitor_ratio[i] = 2*state_array[i,1]/initX[i]*(1-initX[i])\n",
    "        if monitor_ratio[i]>0.6\n",
    "            global criticality = true\n",
    "            println(\"Supercritical evolution!\")\n",
    "            println(\"i = \", i, \" t = \", t, \" monitor ratio = \", monitor_ratio[i])\n",
    "            critical_stop += 1\n",
    "            timestep = t\n",
    "        end\n",
    "    end\n",
    "    \n",
    "    if critical_stop >=15\n",
    "        print(\"Found apparent horizon formation\")\n",
    "        timestep = t\n",
    "        break\n",
    "    end\"\"\"\n",
    "    timestep = t\n",
    "end\n",
    "\n",
    "\n",
    "global evol_stats = [criticality A sigma r0 timestep explode]\n",
    "\n",
    "CSV.write(\"/home/rita13santos/Desktop/MSc Thesis/Git/ScalarField/DATA/parameters.csv\", Tables.table(evol_stats), writeheader=true,header=[\"criticality\", \"A\", \"sigma\", \"r0\", \"timestep\", \"explode\"]);"
   ]
  },
  {
   "cell_type": "code",
   "execution_count": 205,
   "id": "c4d4bb5a",
   "metadata": {},
   "outputs": [
    {
     "data": {
      "text/plain": [
       "\"/home/rita13santos/Desktop/MSc Thesis/Git/ScalarField/DATA/res1\""
      ]
     },
     "execution_count": 205,
     "metadata": {},
     "output_type": "execute_result"
    }
   ],
   "source": [
    "dir"
   ]
  },
  {
   "cell_type": "markdown",
   "id": "14770155",
   "metadata": {
    "papermill": {
     "duration": null,
     "end_time": null,
     "exception": null,
     "start_time": null,
     "status": "completed"
    },
    "tags": []
   },
   "source": [
    "## Movie of the evolution"
   ]
  },
  {
   "cell_type": "code",
   "execution_count": 213,
   "id": "f3ee0b86",
   "metadata": {
    "execution": {
     "iopub.execute_input": "2023-03-01T09:51:14.266000Z",
     "iopub.status.busy": "2023-03-01T09:51:14.266000Z"
    },
    "papermill": {
     "duration": null,
     "end_time": null,
     "exception": null,
     "start_time": null,
     "status": "completed"
    },
    "tags": []
   },
   "outputs": [
    {
     "data": {
      "image/svg+xml": [
       "<?xml version=\"1.0\" encoding=\"utf-8\"?>\n",
       "<svg xmlns=\"http://www.w3.org/2000/svg\" xmlns:xlink=\"http://www.w3.org/1999/xlink\" width=\"600\" height=\"400\" viewBox=\"0 0 2400 1600\">\n",
       "<defs>\n",
       "  <clipPath id=\"clip800\">\n",
       "    <rect x=\"0\" y=\"0\" width=\"2400\" height=\"1600\"/>\n",
       "  </clipPath>\n",
       "</defs>\n",
       "<path clip-path=\"url(#clip800)\" d=\"M0 1600 L2400 1600 L2400 0 L0 0  Z\" fill=\"#ffffff\" fill-rule=\"evenodd\" fill-opacity=\"1\"/>\n",
       "<defs>\n",
       "  <clipPath id=\"clip801\">\n",
       "    <rect x=\"480\" y=\"0\" width=\"1681\" height=\"1600\"/>\n",
       "  </clipPath>\n",
       "</defs>\n",
       "<path clip-path=\"url(#clip800)\" d=\"M284.422 1486.45 L2352.76 1486.45 L2352.76 47.2441 L284.422 47.2441  Z\" fill=\"#ffffff\" fill-rule=\"evenodd\" fill-opacity=\"1\"/>\n",
       "<defs>\n",
       "  <clipPath id=\"clip802\">\n",
       "    <rect x=\"284\" y=\"47\" width=\"2069\" height=\"1440\"/>\n",
       "  </clipPath>\n",
       "</defs>\n",
       "<polyline clip-path=\"url(#clip802)\" style=\"stroke:#000000; stroke-linecap:round; stroke-linejoin:round; stroke-width:2; stroke-opacity:0.1; fill:none\" points=\"342.959,1486.45 342.959,47.2441 \"/>\n",
       "<polyline clip-path=\"url(#clip802)\" style=\"stroke:#000000; stroke-linecap:round; stroke-linejoin:round; stroke-width:2; stroke-opacity:0.1; fill:none\" points=\"830.774,1486.45 830.774,47.2441 \"/>\n",
       "<polyline clip-path=\"url(#clip802)\" style=\"stroke:#000000; stroke-linecap:round; stroke-linejoin:round; stroke-width:2; stroke-opacity:0.1; fill:none\" points=\"1318.59,1486.45 1318.59,47.2441 \"/>\n",
       "<polyline clip-path=\"url(#clip802)\" style=\"stroke:#000000; stroke-linecap:round; stroke-linejoin:round; stroke-width:2; stroke-opacity:0.1; fill:none\" points=\"1806.4,1486.45 1806.4,47.2441 \"/>\n",
       "<polyline clip-path=\"url(#clip802)\" style=\"stroke:#000000; stroke-linecap:round; stroke-linejoin:round; stroke-width:2; stroke-opacity:0.1; fill:none\" points=\"2294.22,1486.45 2294.22,47.2441 \"/>\n",
       "<polyline clip-path=\"url(#clip800)\" style=\"stroke:#000000; stroke-linecap:round; stroke-linejoin:round; stroke-width:4; stroke-opacity:1; fill:none\" points=\"284.422,1486.45 2352.76,1486.45 \"/>\n",
       "<polyline clip-path=\"url(#clip800)\" style=\"stroke:#000000; stroke-linecap:round; stroke-linejoin:round; stroke-width:4; stroke-opacity:1; fill:none\" points=\"342.959,1486.45 342.959,1467.55 \"/>\n",
       "<polyline clip-path=\"url(#clip800)\" style=\"stroke:#000000; stroke-linecap:round; stroke-linejoin:round; stroke-width:4; stroke-opacity:1; fill:none\" points=\"830.774,1486.45 830.774,1467.55 \"/>\n",
       "<polyline clip-path=\"url(#clip800)\" style=\"stroke:#000000; stroke-linecap:round; stroke-linejoin:round; stroke-width:4; stroke-opacity:1; fill:none\" points=\"1318.59,1486.45 1318.59,1467.55 \"/>\n",
       "<polyline clip-path=\"url(#clip800)\" style=\"stroke:#000000; stroke-linecap:round; stroke-linejoin:round; stroke-width:4; stroke-opacity:1; fill:none\" points=\"1806.4,1486.45 1806.4,1467.55 \"/>\n",
       "<polyline clip-path=\"url(#clip800)\" style=\"stroke:#000000; stroke-linecap:round; stroke-linejoin:round; stroke-width:4; stroke-opacity:1; fill:none\" points=\"2294.22,1486.45 2294.22,1467.55 \"/>\n",
       "<path clip-path=\"url(#clip800)\" d=\"M305.263 1517.37 Q301.652 1517.37 299.823 1520.93 Q298.017 1524.47 298.017 1531.6 Q298.017 1538.71 299.823 1542.27 Q301.652 1545.82 305.263 1545.82 Q308.897 1545.82 310.703 1542.27 Q312.531 1538.71 312.531 1531.6 Q312.531 1524.47 310.703 1520.93 Q308.897 1517.37 305.263 1517.37 M305.263 1513.66 Q311.073 1513.66 314.129 1518.27 Q317.207 1522.85 317.207 1531.6 Q317.207 1540.33 314.129 1544.94 Q311.073 1549.52 305.263 1549.52 Q299.453 1549.52 296.374 1544.94 Q293.318 1540.33 293.318 1531.6 Q293.318 1522.85 296.374 1518.27 Q299.453 1513.66 305.263 1513.66 Z\" fill=\"#000000\" fill-rule=\"evenodd\" fill-opacity=\"1\" /><path clip-path=\"url(#clip800)\" d=\"M325.425 1542.97 L330.309 1542.97 L330.309 1548.85 L325.425 1548.85 L325.425 1542.97 Z\" fill=\"#000000\" fill-rule=\"evenodd\" fill-opacity=\"1\" /><path clip-path=\"url(#clip800)\" d=\"M350.494 1517.37 Q346.883 1517.37 345.054 1520.93 Q343.249 1524.47 343.249 1531.6 Q343.249 1538.71 345.054 1542.27 Q346.883 1545.82 350.494 1545.82 Q354.128 1545.82 355.934 1542.27 Q357.763 1538.71 357.763 1531.6 Q357.763 1524.47 355.934 1520.93 Q354.128 1517.37 350.494 1517.37 M350.494 1513.66 Q356.304 1513.66 359.36 1518.27 Q362.438 1522.85 362.438 1531.6 Q362.438 1540.33 359.36 1544.94 Q356.304 1549.52 350.494 1549.52 Q344.684 1549.52 341.605 1544.94 Q338.55 1540.33 338.55 1531.6 Q338.55 1522.85 341.605 1518.27 Q344.684 1513.66 350.494 1513.66 Z\" fill=\"#000000\" fill-rule=\"evenodd\" fill-opacity=\"1\" /><path clip-path=\"url(#clip800)\" d=\"M380.656 1517.37 Q377.045 1517.37 375.216 1520.93 Q373.411 1524.47 373.411 1531.6 Q373.411 1538.71 375.216 1542.27 Q377.045 1545.82 380.656 1545.82 Q384.29 1545.82 386.096 1542.27 Q387.924 1538.71 387.924 1531.6 Q387.924 1524.47 386.096 1520.93 Q384.29 1517.37 380.656 1517.37 M380.656 1513.66 Q386.466 1513.66 389.522 1518.27 Q392.6 1522.85 392.6 1531.6 Q392.6 1540.33 389.522 1544.94 Q386.466 1549.52 380.656 1549.52 Q374.846 1549.52 371.767 1544.94 Q368.712 1540.33 368.712 1531.6 Q368.712 1522.85 371.767 1518.27 Q374.846 1513.66 380.656 1513.66 Z\" fill=\"#000000\" fill-rule=\"evenodd\" fill-opacity=\"1\" /><path clip-path=\"url(#clip800)\" d=\"M793.575 1517.37 Q789.964 1517.37 788.135 1520.93 Q786.33 1524.47 786.33 1531.6 Q786.33 1538.71 788.135 1542.27 Q789.964 1545.82 793.575 1545.82 Q797.209 1545.82 799.015 1542.27 Q800.844 1538.71 800.844 1531.6 Q800.844 1524.47 799.015 1520.93 Q797.209 1517.37 793.575 1517.37 M793.575 1513.66 Q799.385 1513.66 802.441 1518.27 Q805.52 1522.85 805.52 1531.6 Q805.52 1540.33 802.441 1544.94 Q799.385 1549.52 793.575 1549.52 Q787.765 1549.52 784.686 1544.94 Q781.631 1540.33 781.631 1531.6 Q781.631 1522.85 784.686 1518.27 Q787.765 1513.66 793.575 1513.66 Z\" fill=\"#000000\" fill-rule=\"evenodd\" fill-opacity=\"1\" /><path clip-path=\"url(#clip800)\" d=\"M813.737 1542.97 L818.621 1542.97 L818.621 1548.85 L813.737 1548.85 L813.737 1542.97 Z\" fill=\"#000000\" fill-rule=\"evenodd\" fill-opacity=\"1\" /><path clip-path=\"url(#clip800)\" d=\"M832.834 1544.91 L849.154 1544.91 L849.154 1548.85 L827.209 1548.85 L827.209 1544.91 Q829.871 1542.16 834.455 1537.53 Q839.061 1532.88 840.242 1531.53 Q842.487 1529.01 843.367 1527.27 Q844.269 1525.51 844.269 1523.82 Q844.269 1521.07 842.325 1519.33 Q840.404 1517.6 837.302 1517.6 Q835.103 1517.6 832.649 1518.36 Q830.219 1519.13 827.441 1520.68 L827.441 1515.95 Q830.265 1514.82 832.719 1514.24 Q835.172 1513.66 837.209 1513.66 Q842.58 1513.66 845.774 1516.35 Q848.968 1519.03 848.968 1523.52 Q848.968 1525.65 848.158 1527.57 Q847.371 1529.47 845.265 1532.07 Q844.686 1532.74 841.584 1535.95 Q838.482 1539.15 832.834 1544.91 Z\" fill=\"#000000\" fill-rule=\"evenodd\" fill-opacity=\"1\" /><path clip-path=\"url(#clip800)\" d=\"M859.015 1514.29 L877.371 1514.29 L877.371 1518.22 L863.297 1518.22 L863.297 1526.7 Q864.316 1526.35 865.334 1526.19 Q866.353 1526 867.371 1526 Q873.158 1526 876.538 1529.17 Q879.917 1532.34 879.917 1537.76 Q879.917 1543.34 876.445 1546.44 Q872.973 1549.52 866.654 1549.52 Q864.478 1549.52 862.209 1549.15 Q859.964 1548.78 857.556 1548.04 L857.556 1543.34 Q859.64 1544.47 861.862 1545.03 Q864.084 1545.58 866.561 1545.58 Q870.566 1545.58 872.903 1543.48 Q875.241 1541.37 875.241 1537.76 Q875.241 1534.15 872.903 1532.04 Q870.566 1529.94 866.561 1529.94 Q864.686 1529.94 862.811 1530.35 Q860.959 1530.77 859.015 1531.65 L859.015 1514.29 Z\" fill=\"#000000\" fill-rule=\"evenodd\" fill-opacity=\"1\" /><path clip-path=\"url(#clip800)\" d=\"M1280.89 1517.37 Q1277.28 1517.37 1275.45 1520.93 Q1273.65 1524.47 1273.65 1531.6 Q1273.65 1538.71 1275.45 1542.27 Q1277.28 1545.82 1280.89 1545.82 Q1284.53 1545.82 1286.33 1542.27 Q1288.16 1538.71 1288.16 1531.6 Q1288.16 1524.47 1286.33 1520.93 Q1284.53 1517.37 1280.89 1517.37 M1280.89 1513.66 Q1286.7 1513.66 1289.76 1518.27 Q1292.84 1522.85 1292.84 1531.6 Q1292.84 1540.33 1289.76 1544.94 Q1286.7 1549.52 1280.89 1549.52 Q1275.08 1549.52 1272 1544.94 Q1268.95 1540.33 1268.95 1531.6 Q1268.95 1522.85 1272 1518.27 Q1275.08 1513.66 1280.89 1513.66 Z\" fill=\"#000000\" fill-rule=\"evenodd\" fill-opacity=\"1\" /><path clip-path=\"url(#clip800)\" d=\"M1301.05 1542.97 L1305.94 1542.97 L1305.94 1548.85 L1301.05 1548.85 L1301.05 1542.97 Z\" fill=\"#000000\" fill-rule=\"evenodd\" fill-opacity=\"1\" /><path clip-path=\"url(#clip800)\" d=\"M1316.17 1514.29 L1334.53 1514.29 L1334.53 1518.22 L1320.45 1518.22 L1320.45 1526.7 Q1321.47 1526.35 1322.49 1526.19 Q1323.51 1526 1324.53 1526 Q1330.31 1526 1333.69 1529.17 Q1337.07 1532.34 1337.07 1537.76 Q1337.07 1543.34 1333.6 1546.44 Q1330.13 1549.52 1323.81 1549.52 Q1321.63 1549.52 1319.36 1549.15 Q1317.12 1548.78 1314.71 1548.04 L1314.71 1543.34 Q1316.79 1544.47 1319.02 1545.03 Q1321.24 1545.58 1323.72 1545.58 Q1327.72 1545.58 1330.06 1543.48 Q1332.4 1541.37 1332.4 1537.76 Q1332.4 1534.15 1330.06 1532.04 Q1327.72 1529.94 1323.72 1529.94 Q1321.84 1529.94 1319.97 1530.35 Q1318.11 1530.77 1316.17 1531.65 L1316.17 1514.29 Z\" fill=\"#000000\" fill-rule=\"evenodd\" fill-opacity=\"1\" /><path clip-path=\"url(#clip800)\" d=\"M1356.29 1517.37 Q1352.67 1517.37 1350.85 1520.93 Q1349.04 1524.47 1349.04 1531.6 Q1349.04 1538.71 1350.85 1542.27 Q1352.67 1545.82 1356.29 1545.82 Q1359.92 1545.82 1361.73 1542.27 Q1363.55 1538.71 1363.55 1531.6 Q1363.55 1524.47 1361.73 1520.93 Q1359.92 1517.37 1356.29 1517.37 M1356.29 1513.66 Q1362.1 1513.66 1365.15 1518.27 Q1368.23 1522.85 1368.23 1531.6 Q1368.23 1540.33 1365.15 1544.94 Q1362.1 1549.52 1356.29 1549.52 Q1350.48 1549.52 1347.4 1544.94 Q1344.34 1540.33 1344.34 1531.6 Q1344.34 1522.85 1347.4 1518.27 Q1350.48 1513.66 1356.29 1513.66 Z\" fill=\"#000000\" fill-rule=\"evenodd\" fill-opacity=\"1\" /><path clip-path=\"url(#clip800)\" d=\"M1769.2 1517.37 Q1765.59 1517.37 1763.76 1520.93 Q1761.96 1524.47 1761.96 1531.6 Q1761.96 1538.71 1763.76 1542.27 Q1765.59 1545.82 1769.2 1545.82 Q1772.84 1545.82 1774.64 1542.27 Q1776.47 1538.71 1776.47 1531.6 Q1776.47 1524.47 1774.64 1520.93 Q1772.84 1517.37 1769.2 1517.37 M1769.2 1513.66 Q1775.01 1513.66 1778.07 1518.27 Q1781.15 1522.85 1781.15 1531.6 Q1781.15 1540.33 1778.07 1544.94 Q1775.01 1549.52 1769.2 1549.52 Q1763.39 1549.52 1760.32 1544.94 Q1757.26 1540.33 1757.26 1531.6 Q1757.26 1522.85 1760.32 1518.27 Q1763.39 1513.66 1769.2 1513.66 Z\" fill=\"#000000\" fill-rule=\"evenodd\" fill-opacity=\"1\" /><path clip-path=\"url(#clip800)\" d=\"M1789.37 1542.97 L1794.25 1542.97 L1794.25 1548.85 L1789.37 1548.85 L1789.37 1542.97 Z\" fill=\"#000000\" fill-rule=\"evenodd\" fill-opacity=\"1\" /><path clip-path=\"url(#clip800)\" d=\"M1803.26 1514.29 L1825.48 1514.29 L1825.48 1516.28 L1812.93 1548.85 L1808.05 1548.85 L1819.85 1518.22 L1803.26 1518.22 L1803.26 1514.29 Z\" fill=\"#000000\" fill-rule=\"evenodd\" fill-opacity=\"1\" /><path clip-path=\"url(#clip800)\" d=\"M1834.64 1514.29 L1853 1514.29 L1853 1518.22 L1838.93 1518.22 L1838.93 1526.7 Q1839.94 1526.35 1840.96 1526.19 Q1841.98 1526 1843 1526 Q1848.79 1526 1852.17 1529.17 Q1855.55 1532.34 1855.55 1537.76 Q1855.55 1543.34 1852.07 1546.44 Q1848.6 1549.52 1842.28 1549.52 Q1840.11 1549.52 1837.84 1549.15 Q1835.59 1548.78 1833.19 1548.04 L1833.19 1543.34 Q1835.27 1544.47 1837.49 1545.03 Q1839.71 1545.58 1842.19 1545.58 Q1846.19 1545.58 1848.53 1543.48 Q1850.87 1541.37 1850.87 1537.76 Q1850.87 1534.15 1848.53 1532.04 Q1846.19 1529.94 1842.19 1529.94 Q1840.32 1529.94 1838.44 1530.35 Q1836.59 1530.77 1834.64 1531.65 L1834.64 1514.29 Z\" fill=\"#000000\" fill-rule=\"evenodd\" fill-opacity=\"1\" /><path clip-path=\"url(#clip800)\" d=\"M2246.29 1544.91 L2253.93 1544.91 L2253.93 1518.55 L2245.62 1520.21 L2245.62 1515.95 L2253.88 1514.29 L2258.56 1514.29 L2258.56 1544.91 L2266.2 1544.91 L2266.2 1548.85 L2246.29 1548.85 L2246.29 1544.91 Z\" fill=\"#000000\" fill-rule=\"evenodd\" fill-opacity=\"1\" /><path clip-path=\"url(#clip800)\" d=\"M2275.64 1542.97 L2280.53 1542.97 L2280.53 1548.85 L2275.64 1548.85 L2275.64 1542.97 Z\" fill=\"#000000\" fill-rule=\"evenodd\" fill-opacity=\"1\" /><path clip-path=\"url(#clip800)\" d=\"M2300.71 1517.37 Q2297.1 1517.37 2295.27 1520.93 Q2293.47 1524.47 2293.47 1531.6 Q2293.47 1538.71 2295.27 1542.27 Q2297.1 1545.82 2300.71 1545.82 Q2304.35 1545.82 2306.15 1542.27 Q2307.98 1538.71 2307.98 1531.6 Q2307.98 1524.47 2306.15 1520.93 Q2304.35 1517.37 2300.71 1517.37 M2300.71 1513.66 Q2306.52 1513.66 2309.58 1518.27 Q2312.66 1522.85 2312.66 1531.6 Q2312.66 1540.33 2309.58 1544.94 Q2306.52 1549.52 2300.71 1549.52 Q2294.9 1549.52 2291.82 1544.94 Q2288.77 1540.33 2288.77 1531.6 Q2288.77 1522.85 2291.82 1518.27 Q2294.9 1513.66 2300.71 1513.66 Z\" fill=\"#000000\" fill-rule=\"evenodd\" fill-opacity=\"1\" /><path clip-path=\"url(#clip800)\" d=\"M2330.87 1517.37 Q2327.26 1517.37 2325.43 1520.93 Q2323.63 1524.47 2323.63 1531.6 Q2323.63 1538.71 2325.43 1542.27 Q2327.26 1545.82 2330.87 1545.82 Q2334.51 1545.82 2336.31 1542.27 Q2338.14 1538.71 2338.14 1531.6 Q2338.14 1524.47 2336.31 1520.93 Q2334.51 1517.37 2330.87 1517.37 M2330.87 1513.66 Q2336.68 1513.66 2339.74 1518.27 Q2342.82 1522.85 2342.82 1531.6 Q2342.82 1540.33 2339.74 1544.94 Q2336.68 1549.52 2330.87 1549.52 Q2325.06 1549.52 2321.98 1544.94 Q2318.93 1540.33 2318.93 1531.6 Q2318.93 1522.85 2321.98 1518.27 Q2325.06 1513.66 2330.87 1513.66 Z\" fill=\"#000000\" fill-rule=\"evenodd\" fill-opacity=\"1\" /><polyline clip-path=\"url(#clip802)\" style=\"stroke:#000000; stroke-linecap:round; stroke-linejoin:round; stroke-width:2; stroke-opacity:0.1; fill:none\" points=\"284.422,1486.45 2352.76,1486.45 \"/>\n",
       "<polyline clip-path=\"url(#clip802)\" style=\"stroke:#000000; stroke-linecap:round; stroke-linejoin:round; stroke-width:2; stroke-opacity:0.1; fill:none\" points=\"284.422,1126.65 2352.76,1126.65 \"/>\n",
       "<polyline clip-path=\"url(#clip802)\" style=\"stroke:#000000; stroke-linecap:round; stroke-linejoin:round; stroke-width:2; stroke-opacity:0.1; fill:none\" points=\"284.422,766.846 2352.76,766.846 \"/>\n",
       "<polyline clip-path=\"url(#clip802)\" style=\"stroke:#000000; stroke-linecap:round; stroke-linejoin:round; stroke-width:2; stroke-opacity:0.1; fill:none\" points=\"284.422,407.045 2352.76,407.045 \"/>\n",
       "<polyline clip-path=\"url(#clip802)\" style=\"stroke:#000000; stroke-linecap:round; stroke-linejoin:round; stroke-width:2; stroke-opacity:0.1; fill:none\" points=\"284.422,47.2441 2352.76,47.2441 \"/>\n",
       "<polyline clip-path=\"url(#clip800)\" style=\"stroke:#000000; stroke-linecap:round; stroke-linejoin:round; stroke-width:4; stroke-opacity:1; fill:none\" points=\"284.422,1486.45 284.422,47.2441 \"/>\n",
       "<polyline clip-path=\"url(#clip800)\" style=\"stroke:#000000; stroke-linecap:round; stroke-linejoin:round; stroke-width:4; stroke-opacity:1; fill:none\" points=\"284.422,1486.45 303.319,1486.45 \"/>\n",
       "<polyline clip-path=\"url(#clip800)\" style=\"stroke:#000000; stroke-linecap:round; stroke-linejoin:round; stroke-width:4; stroke-opacity:1; fill:none\" points=\"284.422,1126.65 303.319,1126.65 \"/>\n",
       "<polyline clip-path=\"url(#clip800)\" style=\"stroke:#000000; stroke-linecap:round; stroke-linejoin:round; stroke-width:4; stroke-opacity:1; fill:none\" points=\"284.422,766.846 303.319,766.846 \"/>\n",
       "<polyline clip-path=\"url(#clip800)\" style=\"stroke:#000000; stroke-linecap:round; stroke-linejoin:round; stroke-width:4; stroke-opacity:1; fill:none\" points=\"284.422,407.045 303.319,407.045 \"/>\n",
       "<polyline clip-path=\"url(#clip800)\" style=\"stroke:#000000; stroke-linecap:round; stroke-linejoin:round; stroke-width:4; stroke-opacity:1; fill:none\" points=\"284.422,47.2441 303.319,47.2441 \"/>\n",
       "<path clip-path=\"url(#clip800)\" d=\"M50.9921 1486.9 L80.6679 1486.9 L80.6679 1490.83 L50.9921 1490.83 L50.9921 1486.9 Z\" fill=\"#000000\" fill-rule=\"evenodd\" fill-opacity=\"1\" /><path clip-path=\"url(#clip800)\" d=\"M100.76 1472.25 Q97.1493 1472.25 95.3206 1475.81 Q93.515 1479.35 93.515 1486.48 Q93.515 1493.59 95.3206 1497.15 Q97.1493 1500.7 100.76 1500.7 Q104.395 1500.7 106.2 1497.15 Q108.029 1493.59 108.029 1486.48 Q108.029 1479.35 106.2 1475.81 Q104.395 1472.25 100.76 1472.25 M100.76 1468.54 Q106.571 1468.54 109.626 1473.15 Q112.705 1477.73 112.705 1486.48 Q112.705 1495.21 109.626 1499.82 Q106.571 1504.4 100.76 1504.4 Q94.9502 1504.4 91.8715 1499.82 Q88.816 1495.21 88.816 1486.48 Q88.816 1477.73 91.8715 1473.15 Q94.9502 1468.54 100.76 1468.54 Z\" fill=\"#000000\" fill-rule=\"evenodd\" fill-opacity=\"1\" /><path clip-path=\"url(#clip800)\" d=\"M120.922 1497.85 L125.807 1497.85 L125.807 1503.73 L120.922 1503.73 L120.922 1497.85 Z\" fill=\"#000000\" fill-rule=\"evenodd\" fill-opacity=\"1\" /><path clip-path=\"url(#clip800)\" d=\"M145.992 1472.25 Q142.381 1472.25 140.552 1475.81 Q138.746 1479.35 138.746 1486.48 Q138.746 1493.59 140.552 1497.15 Q142.381 1500.7 145.992 1500.7 Q149.626 1500.7 151.431 1497.15 Q153.26 1493.59 153.26 1486.48 Q153.26 1479.35 151.431 1475.81 Q149.626 1472.25 145.992 1472.25 M145.992 1468.54 Q151.802 1468.54 154.857 1473.15 Q157.936 1477.73 157.936 1486.48 Q157.936 1495.21 154.857 1499.82 Q151.802 1504.4 145.992 1504.4 Q140.181 1504.4 137.103 1499.82 Q134.047 1495.21 134.047 1486.48 Q134.047 1477.73 137.103 1473.15 Q140.181 1468.54 145.992 1468.54 Z\" fill=\"#000000\" fill-rule=\"evenodd\" fill-opacity=\"1\" /><path clip-path=\"url(#clip800)\" d=\"M176.153 1472.25 Q172.542 1472.25 170.714 1475.81 Q168.908 1479.35 168.908 1486.48 Q168.908 1493.59 170.714 1497.15 Q172.542 1500.7 176.153 1500.7 Q179.788 1500.7 181.593 1497.15 Q183.422 1493.59 183.422 1486.48 Q183.422 1479.35 181.593 1475.81 Q179.788 1472.25 176.153 1472.25 M176.153 1468.54 Q181.964 1468.54 185.019 1473.15 Q188.098 1477.73 188.098 1486.48 Q188.098 1495.21 185.019 1499.82 Q181.964 1504.4 176.153 1504.4 Q170.343 1504.4 167.265 1499.82 Q164.209 1495.21 164.209 1486.48 Q164.209 1477.73 167.265 1473.15 Q170.343 1468.54 176.153 1468.54 Z\" fill=\"#000000\" fill-rule=\"evenodd\" fill-opacity=\"1\" /><path clip-path=\"url(#clip800)\" d=\"M197.126 1499.79 L204.764 1499.79 L204.764 1473.43 L196.454 1475.09 L196.454 1470.83 L204.718 1469.17 L209.394 1469.17 L209.394 1499.79 L217.033 1499.79 L217.033 1503.73 L197.126 1503.73 L197.126 1499.79 Z\" fill=\"#000000\" fill-rule=\"evenodd\" fill-opacity=\"1\" /><path clip-path=\"url(#clip800)\" d=\"M236.477 1472.25 Q232.866 1472.25 231.037 1475.81 Q229.232 1479.35 229.232 1486.48 Q229.232 1493.59 231.037 1497.15 Q232.866 1500.7 236.477 1500.7 Q240.111 1500.7 241.917 1497.15 Q243.746 1493.59 243.746 1486.48 Q243.746 1479.35 241.917 1475.81 Q240.111 1472.25 236.477 1472.25 M236.477 1468.54 Q242.287 1468.54 245.343 1473.15 Q248.422 1477.73 248.422 1486.48 Q248.422 1495.21 245.343 1499.82 Q242.287 1504.4 236.477 1504.4 Q230.667 1504.4 227.588 1499.82 Q224.533 1495.21 224.533 1486.48 Q224.533 1477.73 227.588 1473.15 Q230.667 1468.54 236.477 1468.54 Z\" fill=\"#000000\" fill-rule=\"evenodd\" fill-opacity=\"1\" /><path clip-path=\"url(#clip800)\" d=\"M51.9875 1127.1 L81.6633 1127.1 L81.6633 1131.03 L51.9875 1131.03 L51.9875 1127.1 Z\" fill=\"#000000\" fill-rule=\"evenodd\" fill-opacity=\"1\" /><path clip-path=\"url(#clip800)\" d=\"M101.756 1112.45 Q98.1447 1112.45 96.316 1116.01 Q94.5104 1119.55 94.5104 1126.68 Q94.5104 1133.79 96.316 1137.35 Q98.1447 1140.89 101.756 1140.89 Q105.39 1140.89 107.196 1137.35 Q109.024 1133.79 109.024 1126.68 Q109.024 1119.55 107.196 1116.01 Q105.39 1112.45 101.756 1112.45 M101.756 1108.74 Q107.566 1108.74 110.621 1113.35 Q113.7 1117.93 113.7 1126.68 Q113.7 1135.41 110.621 1140.01 Q107.566 1144.6 101.756 1144.6 Q95.9456 1144.6 92.8669 1140.01 Q89.8114 1135.41 89.8114 1126.68 Q89.8114 1117.93 92.8669 1113.35 Q95.9456 1108.74 101.756 1108.74 Z\" fill=\"#000000\" fill-rule=\"evenodd\" fill-opacity=\"1\" /><path clip-path=\"url(#clip800)\" d=\"M121.918 1138.05 L126.802 1138.05 L126.802 1143.93 L121.918 1143.93 L121.918 1138.05 Z\" fill=\"#000000\" fill-rule=\"evenodd\" fill-opacity=\"1\" /><path clip-path=\"url(#clip800)\" d=\"M146.987 1112.45 Q143.376 1112.45 141.547 1116.01 Q139.742 1119.55 139.742 1126.68 Q139.742 1133.79 141.547 1137.35 Q143.376 1140.89 146.987 1140.89 Q150.621 1140.89 152.427 1137.35 Q154.255 1133.79 154.255 1126.68 Q154.255 1119.55 152.427 1116.01 Q150.621 1112.45 146.987 1112.45 M146.987 1108.74 Q152.797 1108.74 155.853 1113.35 Q158.931 1117.93 158.931 1126.68 Q158.931 1135.41 155.853 1140.01 Q152.797 1144.6 146.987 1144.6 Q141.177 1144.6 138.098 1140.01 Q135.043 1135.41 135.043 1126.68 Q135.043 1117.93 138.098 1113.35 Q141.177 1108.74 146.987 1108.74 Z\" fill=\"#000000\" fill-rule=\"evenodd\" fill-opacity=\"1\" /><path clip-path=\"url(#clip800)\" d=\"M177.149 1112.45 Q173.538 1112.45 171.709 1116.01 Q169.904 1119.55 169.904 1126.68 Q169.904 1133.79 171.709 1137.35 Q173.538 1140.89 177.149 1140.89 Q180.783 1140.89 182.589 1137.35 Q184.417 1133.79 184.417 1126.68 Q184.417 1119.55 182.589 1116.01 Q180.783 1112.45 177.149 1112.45 M177.149 1108.74 Q182.959 1108.74 186.015 1113.35 Q189.093 1117.93 189.093 1126.68 Q189.093 1135.41 186.015 1140.01 Q182.959 1144.6 177.149 1144.6 Q171.339 1144.6 168.26 1140.01 Q165.204 1135.41 165.204 1126.68 Q165.204 1117.93 168.26 1113.35 Q171.339 1108.74 177.149 1108.74 Z\" fill=\"#000000\" fill-rule=\"evenodd\" fill-opacity=\"1\" /><path clip-path=\"url(#clip800)\" d=\"M207.311 1112.45 Q203.7 1112.45 201.871 1116.01 Q200.065 1119.55 200.065 1126.68 Q200.065 1133.79 201.871 1137.35 Q203.7 1140.89 207.311 1140.89 Q210.945 1140.89 212.751 1137.35 Q214.579 1133.79 214.579 1126.68 Q214.579 1119.55 212.751 1116.01 Q210.945 1112.45 207.311 1112.45 M207.311 1108.74 Q213.121 1108.74 216.176 1113.35 Q219.255 1117.93 219.255 1126.68 Q219.255 1135.41 216.176 1140.01 Q213.121 1144.6 207.311 1144.6 Q201.501 1144.6 198.422 1140.01 Q195.366 1135.41 195.366 1126.68 Q195.366 1117.93 198.422 1113.35 Q201.501 1108.74 207.311 1108.74 Z\" fill=\"#000000\" fill-rule=\"evenodd\" fill-opacity=\"1\" /><path clip-path=\"url(#clip800)\" d=\"M227.519 1109.37 L245.875 1109.37 L245.875 1113.3 L231.801 1113.3 L231.801 1121.77 Q232.82 1121.43 233.838 1121.27 Q234.857 1121.08 235.875 1121.08 Q241.662 1121.08 245.042 1124.25 Q248.422 1127.42 248.422 1132.84 Q248.422 1138.42 244.949 1141.52 Q241.477 1144.6 235.158 1144.6 Q232.982 1144.6 230.713 1144.23 Q228.468 1143.86 226.061 1143.12 L226.061 1138.42 Q228.144 1139.55 230.366 1140.11 Q232.588 1140.66 235.065 1140.66 Q239.07 1140.66 241.408 1138.56 Q243.746 1136.45 243.746 1132.84 Q243.746 1129.23 241.408 1127.12 Q239.07 1125.01 235.065 1125.01 Q233.19 1125.01 231.315 1125.43 Q229.463 1125.85 227.519 1126.73 L227.519 1109.37 Z\" fill=\"#000000\" fill-rule=\"evenodd\" fill-opacity=\"1\" /><path clip-path=\"url(#clip800)\" d=\"M100.76 752.645 Q97.1493 752.645 95.3206 756.209 Q93.515 759.751 93.515 766.881 Q93.515 773.987 95.3206 777.552 Q97.1493 781.094 100.76 781.094 Q104.395 781.094 106.2 777.552 Q108.029 773.987 108.029 766.881 Q108.029 759.751 106.2 756.209 Q104.395 752.645 100.76 752.645 M100.76 748.941 Q106.571 748.941 109.626 753.547 Q112.705 758.131 112.705 766.881 Q112.705 775.608 109.626 780.214 Q106.571 784.797 100.76 784.797 Q94.9502 784.797 91.8715 780.214 Q88.816 775.608 88.816 766.881 Q88.816 758.131 91.8715 753.547 Q94.9502 748.941 100.76 748.941 Z\" fill=\"#000000\" fill-rule=\"evenodd\" fill-opacity=\"1\" /><path clip-path=\"url(#clip800)\" d=\"M120.922 778.246 L125.807 778.246 L125.807 784.126 L120.922 784.126 L120.922 778.246 Z\" fill=\"#000000\" fill-rule=\"evenodd\" fill-opacity=\"1\" /><path clip-path=\"url(#clip800)\" d=\"M145.992 752.645 Q142.381 752.645 140.552 756.209 Q138.746 759.751 138.746 766.881 Q138.746 773.987 140.552 777.552 Q142.381 781.094 145.992 781.094 Q149.626 781.094 151.431 777.552 Q153.26 773.987 153.26 766.881 Q153.26 759.751 151.431 756.209 Q149.626 752.645 145.992 752.645 M145.992 748.941 Q151.802 748.941 154.857 753.547 Q157.936 758.131 157.936 766.881 Q157.936 775.608 154.857 780.214 Q151.802 784.797 145.992 784.797 Q140.181 784.797 137.103 780.214 Q134.047 775.608 134.047 766.881 Q134.047 758.131 137.103 753.547 Q140.181 748.941 145.992 748.941 Z\" fill=\"#000000\" fill-rule=\"evenodd\" fill-opacity=\"1\" /><path clip-path=\"url(#clip800)\" d=\"M176.153 752.645 Q172.542 752.645 170.714 756.209 Q168.908 759.751 168.908 766.881 Q168.908 773.987 170.714 777.552 Q172.542 781.094 176.153 781.094 Q179.788 781.094 181.593 777.552 Q183.422 773.987 183.422 766.881 Q183.422 759.751 181.593 756.209 Q179.788 752.645 176.153 752.645 M176.153 748.941 Q181.964 748.941 185.019 753.547 Q188.098 758.131 188.098 766.881 Q188.098 775.608 185.019 780.214 Q181.964 784.797 176.153 784.797 Q170.343 784.797 167.265 780.214 Q164.209 775.608 164.209 766.881 Q164.209 758.131 167.265 753.547 Q170.343 748.941 176.153 748.941 Z\" fill=\"#000000\" fill-rule=\"evenodd\" fill-opacity=\"1\" /><path clip-path=\"url(#clip800)\" d=\"M206.315 752.645 Q202.704 752.645 200.876 756.209 Q199.07 759.751 199.07 766.881 Q199.07 773.987 200.876 777.552 Q202.704 781.094 206.315 781.094 Q209.95 781.094 211.755 777.552 Q213.584 773.987 213.584 766.881 Q213.584 759.751 211.755 756.209 Q209.95 752.645 206.315 752.645 M206.315 748.941 Q212.126 748.941 215.181 753.547 Q218.26 758.131 218.26 766.881 Q218.26 775.608 215.181 780.214 Q212.126 784.797 206.315 784.797 Q200.505 784.797 197.427 780.214 Q194.371 775.608 194.371 766.881 Q194.371 758.131 197.427 753.547 Q200.505 748.941 206.315 748.941 Z\" fill=\"#000000\" fill-rule=\"evenodd\" fill-opacity=\"1\" /><path clip-path=\"url(#clip800)\" d=\"M236.477 752.645 Q232.866 752.645 231.037 756.209 Q229.232 759.751 229.232 766.881 Q229.232 773.987 231.037 777.552 Q232.866 781.094 236.477 781.094 Q240.111 781.094 241.917 777.552 Q243.746 773.987 243.746 766.881 Q243.746 759.751 241.917 756.209 Q240.111 752.645 236.477 752.645 M236.477 748.941 Q242.287 748.941 245.343 753.547 Q248.422 758.131 248.422 766.881 Q248.422 775.608 245.343 780.214 Q242.287 784.797 236.477 784.797 Q230.667 784.797 227.588 780.214 Q224.533 775.608 224.533 766.881 Q224.533 758.131 227.588 753.547 Q230.667 748.941 236.477 748.941 Z\" fill=\"#000000\" fill-rule=\"evenodd\" fill-opacity=\"1\" /><path clip-path=\"url(#clip800)\" d=\"M101.756 392.844 Q98.1447 392.844 96.316 396.409 Q94.5104 399.95 94.5104 407.08 Q94.5104 414.186 96.316 417.751 Q98.1447 421.293 101.756 421.293 Q105.39 421.293 107.196 417.751 Q109.024 414.186 109.024 407.08 Q109.024 399.95 107.196 396.409 Q105.39 392.844 101.756 392.844 M101.756 389.14 Q107.566 389.14 110.621 393.746 Q113.7 398.33 113.7 407.08 Q113.7 415.807 110.621 420.413 Q107.566 424.996 101.756 424.996 Q95.9456 424.996 92.8669 420.413 Q89.8114 415.807 89.8114 407.08 Q89.8114 398.33 92.8669 393.746 Q95.9456 389.14 101.756 389.14 Z\" fill=\"#000000\" fill-rule=\"evenodd\" fill-opacity=\"1\" /><path clip-path=\"url(#clip800)\" d=\"M121.918 418.445 L126.802 418.445 L126.802 424.325 L121.918 424.325 L121.918 418.445 Z\" fill=\"#000000\" fill-rule=\"evenodd\" fill-opacity=\"1\" /><path clip-path=\"url(#clip800)\" d=\"M146.987 392.844 Q143.376 392.844 141.547 396.409 Q139.742 399.95 139.742 407.08 Q139.742 414.186 141.547 417.751 Q143.376 421.293 146.987 421.293 Q150.621 421.293 152.427 417.751 Q154.255 414.186 154.255 407.08 Q154.255 399.95 152.427 396.409 Q150.621 392.844 146.987 392.844 M146.987 389.14 Q152.797 389.14 155.853 393.746 Q158.931 398.33 158.931 407.08 Q158.931 415.807 155.853 420.413 Q152.797 424.996 146.987 424.996 Q141.177 424.996 138.098 420.413 Q135.043 415.807 135.043 407.08 Q135.043 398.33 138.098 393.746 Q141.177 389.14 146.987 389.14 Z\" fill=\"#000000\" fill-rule=\"evenodd\" fill-opacity=\"1\" /><path clip-path=\"url(#clip800)\" d=\"M177.149 392.844 Q173.538 392.844 171.709 396.409 Q169.904 399.95 169.904 407.08 Q169.904 414.186 171.709 417.751 Q173.538 421.293 177.149 421.293 Q180.783 421.293 182.589 417.751 Q184.417 414.186 184.417 407.08 Q184.417 399.95 182.589 396.409 Q180.783 392.844 177.149 392.844 M177.149 389.14 Q182.959 389.14 186.015 393.746 Q189.093 398.33 189.093 407.08 Q189.093 415.807 186.015 420.413 Q182.959 424.996 177.149 424.996 Q171.339 424.996 168.26 420.413 Q165.204 415.807 165.204 407.08 Q165.204 398.33 168.26 393.746 Q171.339 389.14 177.149 389.14 Z\" fill=\"#000000\" fill-rule=\"evenodd\" fill-opacity=\"1\" /><path clip-path=\"url(#clip800)\" d=\"M207.311 392.844 Q203.7 392.844 201.871 396.409 Q200.065 399.95 200.065 407.08 Q200.065 414.186 201.871 417.751 Q203.7 421.293 207.311 421.293 Q210.945 421.293 212.751 417.751 Q214.579 414.186 214.579 407.08 Q214.579 399.95 212.751 396.409 Q210.945 392.844 207.311 392.844 M207.311 389.14 Q213.121 389.14 216.176 393.746 Q219.255 398.33 219.255 407.08 Q219.255 415.807 216.176 420.413 Q213.121 424.996 207.311 424.996 Q201.501 424.996 198.422 420.413 Q195.366 415.807 195.366 407.08 Q195.366 398.33 198.422 393.746 Q201.501 389.14 207.311 389.14 Z\" fill=\"#000000\" fill-rule=\"evenodd\" fill-opacity=\"1\" /><path clip-path=\"url(#clip800)\" d=\"M227.519 389.765 L245.875 389.765 L245.875 393.7 L231.801 393.7 L231.801 402.172 Q232.82 401.825 233.838 401.663 Q234.857 401.478 235.875 401.478 Q241.662 401.478 245.042 404.649 Q248.422 407.82 248.422 413.237 Q248.422 418.816 244.949 421.918 Q241.477 424.996 235.158 424.996 Q232.982 424.996 230.713 424.626 Q228.468 424.256 226.061 423.515 L226.061 418.816 Q228.144 419.95 230.366 420.506 Q232.588 421.061 235.065 421.061 Q239.07 421.061 241.408 418.955 Q243.746 416.848 243.746 413.237 Q243.746 409.626 241.408 407.52 Q239.07 405.413 235.065 405.413 Q233.19 405.413 231.315 405.83 Q229.463 406.246 227.519 407.126 L227.519 389.765 Z\" fill=\"#000000\" fill-rule=\"evenodd\" fill-opacity=\"1\" /><path clip-path=\"url(#clip800)\" d=\"M100.76 33.0428 Q97.1493 33.0428 95.3206 36.6076 Q93.515 40.1492 93.515 47.2788 Q93.515 54.3853 95.3206 57.9501 Q97.1493 61.4917 100.76 61.4917 Q104.395 61.4917 106.2 57.9501 Q108.029 54.3853 108.029 47.2788 Q108.029 40.1492 106.2 36.6076 Q104.395 33.0428 100.76 33.0428 M100.76 29.3391 Q106.571 29.3391 109.626 33.9456 Q112.705 38.5289 112.705 47.2788 Q112.705 56.0056 109.626 60.6121 Q106.571 65.1954 100.76 65.1954 Q94.9502 65.1954 91.8715 60.6121 Q88.816 56.0056 88.816 47.2788 Q88.816 38.5289 91.8715 33.9456 Q94.9502 29.3391 100.76 29.3391 Z\" fill=\"#000000\" fill-rule=\"evenodd\" fill-opacity=\"1\" /><path clip-path=\"url(#clip800)\" d=\"M120.922 58.6445 L125.807 58.6445 L125.807 64.5241 L120.922 64.5241 L120.922 58.6445 Z\" fill=\"#000000\" fill-rule=\"evenodd\" fill-opacity=\"1\" /><path clip-path=\"url(#clip800)\" d=\"M145.992 33.0428 Q142.381 33.0428 140.552 36.6076 Q138.746 40.1492 138.746 47.2788 Q138.746 54.3853 140.552 57.9501 Q142.381 61.4917 145.992 61.4917 Q149.626 61.4917 151.431 57.9501 Q153.26 54.3853 153.26 47.2788 Q153.26 40.1492 151.431 36.6076 Q149.626 33.0428 145.992 33.0428 M145.992 29.3391 Q151.802 29.3391 154.857 33.9456 Q157.936 38.5289 157.936 47.2788 Q157.936 56.0056 154.857 60.6121 Q151.802 65.1954 145.992 65.1954 Q140.181 65.1954 137.103 60.6121 Q134.047 56.0056 134.047 47.2788 Q134.047 38.5289 137.103 33.9456 Q140.181 29.3391 145.992 29.3391 Z\" fill=\"#000000\" fill-rule=\"evenodd\" fill-opacity=\"1\" /><path clip-path=\"url(#clip800)\" d=\"M176.153 33.0428 Q172.542 33.0428 170.714 36.6076 Q168.908 40.1492 168.908 47.2788 Q168.908 54.3853 170.714 57.9501 Q172.542 61.4917 176.153 61.4917 Q179.788 61.4917 181.593 57.9501 Q183.422 54.3853 183.422 47.2788 Q183.422 40.1492 181.593 36.6076 Q179.788 33.0428 176.153 33.0428 M176.153 29.3391 Q181.964 29.3391 185.019 33.9456 Q188.098 38.5289 188.098 47.2788 Q188.098 56.0056 185.019 60.6121 Q181.964 65.1954 176.153 65.1954 Q170.343 65.1954 167.265 60.6121 Q164.209 56.0056 164.209 47.2788 Q164.209 38.5289 167.265 33.9456 Q170.343 29.3391 176.153 29.3391 Z\" fill=\"#000000\" fill-rule=\"evenodd\" fill-opacity=\"1\" /><path clip-path=\"url(#clip800)\" d=\"M197.126 60.5889 L204.764 60.5889 L204.764 34.2233 L196.454 35.89 L196.454 31.6308 L204.718 29.9641 L209.394 29.9641 L209.394 60.5889 L217.033 60.5889 L217.033 64.5241 L197.126 64.5241 L197.126 60.5889 Z\" fill=\"#000000\" fill-rule=\"evenodd\" fill-opacity=\"1\" /><path clip-path=\"url(#clip800)\" d=\"M236.477 33.0428 Q232.866 33.0428 231.037 36.6076 Q229.232 40.1492 229.232 47.2788 Q229.232 54.3853 231.037 57.9501 Q232.866 61.4917 236.477 61.4917 Q240.111 61.4917 241.917 57.9501 Q243.746 54.3853 243.746 47.2788 Q243.746 40.1492 241.917 36.6076 Q240.111 33.0428 236.477 33.0428 M236.477 29.3391 Q242.287 29.3391 245.343 33.9456 Q248.422 38.5289 248.422 47.2788 Q248.422 56.0056 245.343 60.6121 Q242.287 65.1954 236.477 65.1954 Q230.667 65.1954 227.588 60.6121 Q224.533 56.0056 224.533 47.2788 Q224.533 38.5289 227.588 33.9456 Q230.667 29.3391 236.477 29.3391 Z\" fill=\"#000000\" fill-rule=\"evenodd\" fill-opacity=\"1\" /><polyline clip-path=\"url(#clip802)\" style=\"stroke:#009af9; stroke-linecap:round; stroke-linejoin:round; stroke-width:4; stroke-opacity:1; fill:none\" points=\"342.959,766.846 362.472,807.686 381.985,851.56 401.497,894.842 421.01,934.241 440.522,967.312 460.035,992.782 479.547,1010.59 499.06,1021.71 518.573,1027.7 538.085,1030.32 557.598,1031.11 577.11,1031.16 596.623,1031.1 616.136,1031.14 635.648,1031.28 655.161,1031.43 674.673,1031.52 694.186,1031.55 713.699,1031.54 733.211,1031.52 752.724,1031.5 772.236,1031.5 791.749,1031.5 811.261,1031.51 830.774,1031.51 850.287,1031.51 869.799,1031.51 889.312,1031.51 908.824,1031.51 928.337,1031.51 947.85,1031.51 967.362,1031.51 986.875,1031.51 1006.39,1031.51 1025.9,1031.51 1045.41,1031.51 1064.93,1031.51 1084.44,1031.51 1103.95,1031.51 1123.46,1031.51 1142.98,1031.51 1162.49,1031.51 1182,1031.51 1201.51,1031.51 1221.03,1031.51 1240.54,1031.51 1260.05,1031.51 1279.56,1031.51 1299.08,1031.51 1318.59,1031.51 1338.1,1031.51 1357.61,1031.51 1377.13,1031.51 1396.64,1031.51 1416.15,1031.51 1435.66,1031.51 1455.18,1031.51 1474.69,1031.51 1494.2,1031.51 1513.71,1031.51 1533.23,1031.51 1552.74,1031.51 1572.25,1031.51 1591.76,1031.51 1611.28,1031.51 1630.79,1031.51 1650.3,1031.51 1669.82,1031.51 1689.33,1031.51 1708.84,1031.51 1728.35,1031.51 1747.87,1031.51 1767.38,1031.51 1786.89,1031.51 1806.4,1031.51 1825.92,1031.51 1845.43,1031.51 1864.94,1031.51 1884.45,1031.51 1903.97,1031.51 1923.48,1031.51 1942.99,1031.51 1962.5,1031.51 1982.02,1031.51 2001.53,1031.51 2021.04,1031.51 2040.55,1031.51 2060.07,1031.51 2079.58,1031.51 2099.09,1031.51 2118.6,1031.51 2138.12,1031.51 2157.63,1031.51 2177.14,1031.51 2196.66,1031.51 2216.17,1031.51 2235.68,1031.51 2255.19,1031.51 2274.71,1031.51 2294.22,1031.51 \"/>\n",
       "<path clip-path=\"url(#clip800)\" d=\"M2039.13 198.898 L2283.81 198.898 L2283.81 95.2176 L2039.13 95.2176  Z\" fill=\"#ffffff\" fill-rule=\"evenodd\" fill-opacity=\"1\"/>\n",
       "<polyline clip-path=\"url(#clip800)\" style=\"stroke:#000000; stroke-linecap:round; stroke-linejoin:round; stroke-width:4; stroke-opacity:1; fill:none\" points=\"2039.13,198.898 2283.81,198.898 2283.81,95.2176 2039.13,95.2176 2039.13,198.898 \"/>\n",
       "<polyline clip-path=\"url(#clip800)\" style=\"stroke:#009af9; stroke-linecap:round; stroke-linejoin:round; stroke-width:4; stroke-opacity:1; fill:none\" points=\"2062.11,147.058 2200,147.058 \"/>\n",
       "<path clip-path=\"url(#clip800)\" d=\"M2243.33 143.389 Q2244.93 140.518 2247.15 139.153 Q2249.37 137.787 2252.38 137.787 Q2256.43 137.787 2258.63 140.634 Q2260.83 143.458 2260.83 148.689 L2260.83 164.338 L2256.55 164.338 L2256.55 148.828 Q2256.55 145.102 2255.23 143.296 Q2253.91 141.49 2251.2 141.49 Q2247.89 141.49 2245.97 143.69 Q2244.05 145.889 2244.05 149.685 L2244.05 164.338 L2239.77 164.338 L2239.77 148.828 Q2239.77 145.078 2238.45 143.296 Q2237.13 141.49 2234.37 141.49 Q2231.11 141.49 2229.19 143.713 Q2227.27 145.912 2227.27 149.685 L2227.27 164.338 L2222.98 164.338 L2222.98 138.412 L2227.27 138.412 L2227.27 142.44 Q2228.72 140.055 2230.76 138.921 Q2232.8 137.787 2235.6 137.787 Q2238.42 137.787 2240.39 139.222 Q2242.38 140.657 2243.33 143.389 Z\" fill=\"#000000\" fill-rule=\"evenodd\" fill-opacity=\"1\" /></svg>\n"
      ]
     },
     "metadata": {},
     "output_type": "display_data"
    },
    {
     "name": "stderr",
     "output_type": "stream",
     "text": [
      "\u001b[36m\u001b[1m[ \u001b[22m\u001b[39m\u001b[36m\u001b[1mInfo: \u001b[22m\u001b[39mSaved animation to /home/rita13santos/Desktop/MSc Thesis/Git/ScalarField/anim_res1.gif\n"
     ]
    },
    {
     "data": {
      "text/html": [
       "<img src=\"data:image/gif;base64,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\" />"
      ],
      "text/plain": [
       "Plots.AnimatedGif(\"/home/rita13santos/Desktop/MSc Thesis/Git/ScalarField/anim_res1.gif\")"
      ]
     },
     "execution_count": 213,
     "metadata": {},
     "output_type": "execute_result"
    }
   ],
   "source": [
    "using Plots, CSV, DataFrames\n",
    "import GR\n",
    "anim = @animate for n in 55:100#length(T)-1\n",
    "    time_step=T[n+1]-T[n];\n",
    "    IJulia.clear_output(true)\n",
    "    functions3=DataFrame(CSV.File(dir*\"/time_step$n.csv\",header=false, delim=\",\"))\n",
    "    plot()\n",
    "        plot1=functions3.Column1[4:L-3];\n",
    "        plot2=functions3.Column2[4:L-3];\n",
    "        plot3=functions3.Column3[4:L-3];\n",
    "        plot4=functions3.Column4[4:L-3];\n",
    "    d=round(T[n],digits=1)\n",
    "    plot!(initX[4:L-3], [plot3], labels=[\"m\" \"beta\" \"psi\" \"psi,x\"],ylim=[-0.001, 0.001]) |> display \n",
    "    \n",
    "    end\n",
    "\n",
    "gif(anim, \"anim_res$res.gif\", fps = 5)"
   ]
  },
  {
   "cell_type": "code",
   "execution_count": null,
   "id": "7abd60a2",
   "metadata": {},
   "outputs": [],
   "source": []
  },
  {
   "cell_type": "code",
   "execution_count": null,
   "id": "70f2c204",
   "metadata": {},
   "outputs": [],
   "source": []
  }
 ],
 "metadata": {
  "@webio": {
   "lastCommId": null,
   "lastKernelId": null
  },
  "kernelspec": {
   "display_name": "Julia 1.8.0",
   "language": "julia",
   "name": "julia-1.8"
  },
  "language_info": {
   "file_extension": ".jl",
   "mimetype": "application/julia",
   "name": "julia",
   "version": "1.8.0"
  },
  "papermill": {
   "default_parameters": {},
   "duration": 0.964144,
   "end_time": "2023-03-10T15:49:43.780135",
   "environment_variables": {},
   "exception": null,
   "input_path": "Evolution_ScalarField.ipynb",
   "output_path": "Evolution_ScalarField.ipynb",
   "parameters": {
    "m": 3
   },
   "start_time": "2023-03-10T15:49:42.815991",
   "version": "2.4.0"
  }
 },
 "nbformat": 4,
 "nbformat_minor": 5
}
