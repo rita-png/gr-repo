{
 "cells": [
  {
   "cell_type": "markdown",
   "id": "d88601a8",
   "metadata": {
    "papermill": {
     "duration": 0.010813,
     "end_time": "2023-03-28T18:06:09.878411",
     "exception": false,
     "start_time": "2023-03-28T18:06:09.867598",
     "status": "completed"
    },
    "tags": []
   },
   "source": [
    "# Evolution of Einstein's equations"
   ]
  },
  {
   "cell_type": "markdown",
   "id": "03c607c7",
   "metadata": {
    "papermill": {
     "duration": 0.006777,
     "end_time": "2023-03-28T18:06:09.893152",
     "exception": false,
     "start_time": "2023-03-28T18:06:09.886375",
     "status": "completed"
    },
    "tags": []
   },
   "source": [
    "# Initial data , setting length of the domain and discretization\n"
   ]
  },
  {
   "cell_type": "code",
   "execution_count": 795,
   "id": "f362b590",
   "metadata": {
    "execution": {
     "iopub.execute_input": "2023-03-28T19:06:10.907000Z",
     "iopub.status.busy": "2023-03-28T19:06:09.907000Z",
     "iopub.status.idle": "2023-03-28T19:06:12.147000Z",
     "shell.execute_reply": "2023-03-28T19:06:12.110000Z"
    },
    "papermill": {
     "duration": 2.251282,
     "end_time": "2023-03-28T18:06:12.151193",
     "exception": false,
     "start_time": "2023-03-28T18:06:09.899911",
     "status": "completed"
    },
    "tags": [
     "injected-parameters"
    ]
   },
   "outputs": [
    {
     "data": {
      "text/plain": [
       "1"
      ]
     },
     "execution_count": 795,
     "metadata": {},
     "output_type": "execute_result"
    }
   ],
   "source": [
    "# Parameters\n",
    "m = 3\n",
    "A = 0.001#0.05#0.049375#0.07#0.05#0.1124921875#0.125\n",
    "run = 1"
   ]
  },
  {
   "cell_type": "code",
   "execution_count": 796,
   "id": "80a113e0",
   "metadata": {},
   "outputs": [
    {
     "name": "stdout",
     "output_type": "stream",
     "text": [
      "1.0"
     ]
    }
   ],
   "source": [
    "res=m;\n",
    "N=2.0^m*500/5.0\n",
    "Xf=1.0;\n",
    "\n",
    "dx=Xf/N;\n",
    "dt=round(dx,digits=10);\n",
    "Nt=2.0^m*500.0/5.0\n",
    "Tf=Nt*dt; #final time\n",
    "print(Tf)"
   ]
  },
  {
   "cell_type": "code",
   "execution_count": 797,
   "id": "4f752d54",
   "metadata": {
    "execution": {
     "iopub.execute_input": "2023-03-28T19:06:12.356000Z",
     "iopub.status.busy": "2023-03-28T19:06:12.356000Z",
     "iopub.status.idle": "2023-03-28T19:06:12.364000Z",
     "shell.execute_reply": "2023-03-28T19:06:12.364000Z"
    },
    "papermill": {
     "duration": 0.020815,
     "end_time": "2023-03-28T18:06:12.368761",
     "exception": false,
     "start_time": "2023-03-28T18:06:12.347946",
     "status": "completed"
    },
    "tags": []
   },
   "outputs": [
    {
     "name": "stdout",
     "output_type": "stream",
     "text": [
      "800.0"
     ]
    }
   ],
   "source": [
    "print(N)"
   ]
  },
  {
   "cell_type": "code",
   "execution_count": 798,
   "id": "ad48576a",
   "metadata": {
    "execution": {
     "iopub.execute_input": "2023-03-28T19:06:12.386000Z",
     "iopub.status.busy": "2023-03-28T19:06:12.385000Z",
     "iopub.status.idle": "2023-03-28T19:06:12.398000Z",
     "shell.execute_reply": "2023-03-28T19:06:12.398000Z"
    },
    "papermill": {
     "duration": 0.024143,
     "end_time": "2023-03-28T18:06:12.402660",
     "exception": false,
     "start_time": "2023-03-28T18:06:12.378517",
     "status": "completed"
    },
    "tags": []
   },
   "outputs": [
    {
     "name": "stdout",
     "output_type": "stream",
     "text": [
      "dx =0.00125\n",
      "dt =0.00125\n",
      "dx/dt =1.0\n"
     ]
    }
   ],
   "source": [
    "println(\"dx =\", dx)\n",
    "println(\"dt =\", dt)\n",
    "println(\"dx/dt =\", dx/dt)"
   ]
  },
  {
   "cell_type": "code",
   "execution_count": 799,
   "id": "78fb78a5",
   "metadata": {
    "execution": {
     "iopub.execute_input": "2023-03-28T19:06:12.419000Z",
     "iopub.status.busy": "2023-03-28T19:06:12.419000Z",
     "iopub.status.idle": "2023-03-28T19:06:13.308000Z",
     "shell.execute_reply": "2023-03-28T19:06:13.308000Z"
    },
    "papermill": {
     "duration": 0.90283,
     "end_time": "2023-03-28T18:06:13.314381",
     "exception": false,
     "start_time": "2023-03-28T18:06:12.411551",
     "status": "completed"
    },
    "tags": []
   },
   "outputs": [
    {
     "data": {
      "text/plain": [
       "\"/home/rita13santos/Desktop/MSc Thesis/Git/ScalarField/DATA\""
      ]
     },
     "execution_count": 799,
     "metadata": {},
     "output_type": "execute_result"
    }
   ],
   "source": [
    "global dir = \"/home/rita13santos/Desktop/MSc Thesis/Git/ScalarField/DATA\"\n",
    "#global dir = \"/home/rita13santos/Desktop/MSc Thesis/Git/ScalarField/DATA\""
   ]
  },
  {
   "cell_type": "markdown",
   "id": "e2dd4335",
   "metadata": {
    "papermill": {
     "duration": 0.007006,
     "end_time": "2023-03-28T18:06:13.351329",
     "exception": false,
     "start_time": "2023-03-28T18:06:13.344323",
     "status": "completed"
    },
    "tags": []
   },
   "source": [
    "# Grid"
   ]
  },
  {
   "cell_type": "code",
   "execution_count": 800,
   "id": "bc5288f8",
   "metadata": {
    "execution": {
     "iopub.execute_input": "2023-03-28T19:06:13.636000Z",
     "iopub.status.busy": "2023-03-28T19:06:13.636000Z",
     "iopub.status.idle": "2023-03-28T19:06:14.762000Z",
     "shell.execute_reply": "2023-03-28T19:06:14.762000Z"
    },
    "papermill": {
     "duration": 1.137394,
     "end_time": "2023-03-28T18:06:14.765909",
     "exception": false,
     "start_time": "2023-03-28T18:06:13.628515",
     "status": "completed"
    },
    "tags": []
   },
   "outputs": [],
   "source": [
    "include(\"./ScalarField.jl\");"
   ]
  },
  {
   "cell_type": "code",
   "execution_count": 801,
   "id": "de24fea3",
   "metadata": {
    "execution": {
     "iopub.execute_input": "2023-03-28T19:06:13.366000Z",
     "iopub.status.busy": "2023-03-28T19:06:13.366000Z",
     "iopub.status.idle": "2023-03-28T19:06:13.571000Z",
     "shell.execute_reply": "2023-03-28T19:06:13.571000Z"
    },
    "papermill": {
     "duration": 0.216104,
     "end_time": "2023-03-28T18:06:13.574666",
     "exception": false,
     "start_time": "2023-03-28T18:06:13.358562",
     "status": "completed"
    },
    "tags": []
   },
   "outputs": [
    {
     "name": "stdout",
     "output_type": "stream",
     "text": [
      "step size is  0.00125\n",
      "the time step is 0.00125\n"
     ]
    }
   ],
   "source": [
    "ori=0.0;\n",
    "initX1 = nothing\n",
    "N=int(N)\n",
    "initX1=range(ori, stop=Xf, step=dx);\n",
    "\n",
    "initX = range(round(ori-3.0*dx,digits=10), stop=Xf+3.0*dx, step=dx)\n",
    "\n",
    "L=length(initX);\n",
    "println(\"step size is  \", dx)\n",
    "println(\"the time step is \", dt)"
   ]
  },
  {
   "cell_type": "markdown",
   "id": "80ab1480",
   "metadata": {
    "papermill": {
     "duration": 0.007525,
     "end_time": "2023-03-28T18:06:14.783937",
     "exception": false,
     "start_time": "2023-03-28T18:06:14.776412",
     "status": "completed"
    },
    "tags": []
   },
   "source": [
    "# Initial data of m β Ψ and Ψ,x"
   ]
  },
  {
   "cell_type": "code",
   "execution_count": 802,
   "id": "f4c71bab",
   "metadata": {},
   "outputs": [],
   "source": [
    "if m==1\n",
    "    initX1=chebishev(int((L-6)))\n",
    "    L1=L;\n",
    "elseif m==2\n",
    "    initX1=doublegrid(chebishev(int((L1-6))))\n",
    "else\n",
    "    initX1=doublegrid(doublegrid(chebishev(int((L1-6)))))\n",
    "end\n",
    "initX=collect(initX)\n",
    "initX[4:L-3]=initX1;"
   ]
  },
  {
   "cell_type": "code",
   "execution_count": 803,
   "id": "d0af654c",
   "metadata": {
    "execution": {
     "iopub.execute_input": "2023-03-28T19:06:14.799000Z",
     "iopub.status.busy": "2023-03-28T19:06:14.799000Z",
     "iopub.status.idle": "2023-03-28T19:06:22.269000Z",
     "shell.execute_reply": "2023-03-28T19:06:22.269000Z"
    },
    "papermill": {
     "duration": 7.48258,
     "end_time": "2023-03-28T18:06:22.273970",
     "exception": false,
     "start_time": "2023-03-28T18:06:14.791390",
     "status": "completed"
    },
    "tags": []
   },
   "outputs": [],
   "source": [
    "using Dierckx\n",
    "\n",
    "####\n",
    "\n",
    "initm=zeros(L);\n",
    "initbeta=zeros(L);\n",
    "initpsi=zeros(L);\n",
    "initderpsi=zeros(L);\n",
    "\n",
    "state_array=[initm initbeta initpsi initderpsi initX];\n",
    "\n",
    "#PSI\n",
    "r0=0.01#0.7#0.3\n",
    "sigma=0.3\n",
    "initpsi[4:L-3] = init_gaussian(initX1,r0,sigma,A)\n",
    "\n",
    "state_array[:,3] = initpsi\n",
    "state_array = ghost(state_array)\n",
    "\n",
    "#PSI,X FROM PSI\n",
    "initderpsi[4:L-3] = init_gaussian_der(initX1,r0,sigma,A)\n",
    "state_array[:,4] = initderpsi\n",
    "state_array=ghost(state_array)\n",
    "\n",
    "####\n",
    "\n",
    "derpsi_func = Spline1D(initX[4:L-3], initderpsi[4:L-3],  k=4);\n",
    "\n",
    "    \n",
    "for i in 4:L-3\n",
    "    state_array[i,5]=derivative(derpsi_func, initX[i])\n",
    "end"
   ]
  },
  {
   "cell_type": "code",
   "execution_count": 813,
   "id": "d8771a14",
   "metadata": {},
   "outputs": [
    {
     "data": {
      "text/plain": [
       "801-element Vector{Float64}:\n",
       " -1.6825826551178428e-21\n",
       "  2.2877303305073528e-8\n",
       "  4.575573205514015e-8\n",
       "  6.863528622221155e-8\n",
       "  9.151596577828835e-8\n",
       "  2.7459352517324296e-7\n",
       "  4.577430867189336e-7\n",
       "  6.409646360337591e-7\n",
       "  8.242581587076238e-7\n",
       "  1.1910162463474923e-6\n",
       "  1.5580619835166202e-6\n",
       "  1.925395253946004e-6\n",
       "  2.293015940908364e-6\n",
       "  ⋮\n",
       " -4.493835760577884e-153\n",
       "  1.6136801643560673e-153\n",
       " -5.654908973962367e-154\n",
       "  1.5755900010884273e-154\n",
       " -5.279905149960773e-155\n",
       "  1.8920943608622556e-155\n",
       " -6.556385545192977e-156\n",
       "  1.6371853097523054e-156\n",
       " -5.579556207206172e-157\n",
       "  2.630870550684294e-157\n",
       " -2.7054852424511403e-157\n",
       "  8.191070419110151e-157"
      ]
     },
     "execution_count": 813,
     "metadata": {},
     "output_type": "execute_result"
    }
   ],
   "source": [
    "derivative(derpsi_func,initX1)"
   ]
  },
  {
   "cell_type": "code",
   "execution_count": 804,
   "id": "36d97305",
   "metadata": {},
   "outputs": [
    {
     "data": {
      "text/plain": [
       "\"aux=doublegrid(initX1)\\nderpsi_func(aux);\\n\\nusing Plots\\nplot(aux, derpsi_func(aux).-init_gaussian_der(aux,r0,sigma,A), xaxis=\\\"x\\\",title=\\\"Initial Data\\\", labels=[\\\"m\\\" \\\"beta\\\" \\\"psi\\\" \\\"psi,x\\\"])#, ylim=[0, 10^(-13)])\""
      ]
     },
     "execution_count": 804,
     "metadata": {},
     "output_type": "execute_result"
    }
   ],
   "source": [
    "\"\"\"aux=doublegrid(initX1)\n",
    "derpsi_func(aux);\n",
    "\n",
    "using Plots\n",
    "plot(aux, derpsi_func(aux).-init_gaussian_der(aux,r0,sigma,A), xaxis=\"x\",title=\"Initial Data\", labels=[\"m\" \"beta\" \"psi\" \"psi,x\"])#, ylim=[0, 10^(-13)])\"\"\""
   ]
  },
  {
   "cell_type": "code",
   "execution_count": 805,
   "id": "3bc80b6d",
   "metadata": {},
   "outputs": [
    {
     "data": {
      "text/plain": [
       "\"x1=aux\\ny1=derpsi_func(aux).-init_gaussian_der(aux,r0,sigma,A)\""
      ]
     },
     "execution_count": 805,
     "metadata": {},
     "output_type": "execute_result"
    }
   ],
   "source": [
    "\"\"\"x1=aux\n",
    "y1=derpsi_func(aux).-init_gaussian_der(aux,r0,sigma,A)\"\"\""
   ]
  },
  {
   "cell_type": "code",
   "execution_count": 806,
   "id": "06d94bee",
   "metadata": {},
   "outputs": [
    {
     "data": {
      "text/plain": [
       "\"x2=aux\\ny2=derpsi_func(aux).-init_gaussian_der(aux,r0,sigma,A)\""
      ]
     },
     "execution_count": 806,
     "metadata": {},
     "output_type": "execute_result"
    }
   ],
   "source": [
    "\"\"\"x2=aux\n",
    "y2=derpsi_func(aux).-init_gaussian_der(aux,r0,sigma,A)\"\"\""
   ]
  },
  {
   "cell_type": "code",
   "execution_count": 807,
   "id": "82e683a7",
   "metadata": {},
   "outputs": [
    {
     "data": {
      "text/plain": [
       "\"\\ndouble_resolution=y2\\nbasis_resolution=y1\\nxs = ( x1, x2 )\\nys = ( basis_resolution, double_resolution*16*4 )\\np = plot()\\nmap(x->plot!(x[1],x[2],xaxis=\\\"x\\\",title=\\\"Interpolation error\\\", legend=false), zip(xs, ys))\\ndisplay(p)\\n     \\n\""
      ]
     },
     "execution_count": 807,
     "metadata": {},
     "output_type": "execute_result"
    }
   ],
   "source": [
    "\"\"\"\n",
    "\n",
    "double_resolution=y2\n",
    "basis_resolution=y1\n",
    "xs = ( x1, x2 )\n",
    "ys = ( basis_resolution, double_resolution*16*4 )\n",
    "p = plot()\n",
    "map(x->plot!(x[1],x[2],xaxis=\"x\",title=\"Interpolation error\", legend=false), zip(xs, ys))\n",
    "display(p)\n",
    "     \n",
    "\"\"\""
   ]
  },
  {
   "cell_type": "code",
   "execution_count": 808,
   "id": "384597fa",
   "metadata": {
    "execution": {
     "iopub.execute_input": "2023-03-28T19:06:22.817000Z",
     "iopub.status.busy": "2023-03-28T19:06:22.325000Z",
     "iopub.status.idle": "2023-03-28T19:06:25.288000Z",
     "shell.execute_reply": "2023-03-28T19:06:25.288000Z"
    },
    "papermill": {
     "duration": 2.998847,
     "end_time": "2023-03-28T18:06:25.292099",
     "exception": false,
     "start_time": "2023-03-28T18:06:22.293252",
     "status": "completed"
    },
    "tags": []
   },
   "outputs": [],
   "source": [
    "y0=[0 0 0]\n",
    "state_array[4:L-3,1:3] = n_rk4wrapper(RHS,y0,initX[4:L-3],0,derpsi_func,state_array[:,:])\n",
    "\n",
    "\"\"\"y0=[0]\n",
    "state_array[4:L-3,3] = n_rk4wrapper(psi_RHS,y0,initX[4:L-3],0,derpsi_func,state_array[4:L-3,:])\n",
    "\"\"\"\n",
    "state_array = ghost(state_array);"
   ]
  },
  {
   "cell_type": "code",
   "execution_count": 812,
   "id": "48f10a76",
   "metadata": {
    "execution": {
     "iopub.execute_input": "2023-03-28T19:06:25.312000Z",
     "iopub.status.busy": "2023-03-28T19:06:25.312000Z",
     "iopub.status.idle": "2023-03-28T19:06:25.348000Z",
     "shell.execute_reply": "2023-03-28T19:06:25.347000Z"
    },
    "papermill": {
     "duration": 0.048534,
     "end_time": "2023-03-28T18:06:25.352888",
     "exception": false,
     "start_time": "2023-03-28T18:06:25.304354",
     "status": "completed"
    },
    "tags": []
   },
   "outputs": [
    {
     "data": {
      "image/svg+xml": [
       "<?xml version=\"1.0\" encoding=\"utf-8\"?>\n",
       "<svg xmlns=\"http://www.w3.org/2000/svg\" xmlns:xlink=\"http://www.w3.org/1999/xlink\" width=\"600\" height=\"400\" viewBox=\"0 0 2400 1600\">\n",
       "<defs>\n",
       "  <clipPath id=\"clip030\">\n",
       "    <rect x=\"0\" y=\"0\" width=\"2400\" height=\"1600\"/>\n",
       "  </clipPath>\n",
       "</defs>\n",
       "<path clip-path=\"url(#clip030)\" d=\"M0 1600 L2400 1600 L2400 0 L0 0  Z\" fill=\"#ffffff\" fill-rule=\"evenodd\" fill-opacity=\"1\"/>\n",
       "<defs>\n",
       "  <clipPath id=\"clip031\">\n",
       "    <rect x=\"480\" y=\"0\" width=\"1681\" height=\"1600\"/>\n",
       "  </clipPath>\n",
       "</defs>\n",
       "<path clip-path=\"url(#clip030)\" d=\"M284.422 1423.18 L2352.76 1423.18 L2352.76 123.472 L284.422 123.472  Z\" fill=\"#ffffff\" fill-rule=\"evenodd\" fill-opacity=\"1\"/>\n",
       "<defs>\n",
       "  <clipPath id=\"clip032\">\n",
       "    <rect x=\"284\" y=\"123\" width=\"2069\" height=\"1301\"/>\n",
       "  </clipPath>\n",
       "</defs>\n",
       "<polyline clip-path=\"url(#clip032)\" style=\"stroke:#000000; stroke-linecap:round; stroke-linejoin:round; stroke-width:2; stroke-opacity:0.1; fill:none\" points=\"284.422,1423.18 284.422,123.472 \"/>\n",
       "<polyline clip-path=\"url(#clip032)\" style=\"stroke:#000000; stroke-linecap:round; stroke-linejoin:round; stroke-width:2; stroke-opacity:0.1; fill:none\" points=\"698.088,1423.18 698.088,123.472 \"/>\n",
       "<polyline clip-path=\"url(#clip032)\" style=\"stroke:#000000; stroke-linecap:round; stroke-linejoin:round; stroke-width:2; stroke-opacity:0.1; fill:none\" points=\"1111.76,1423.18 1111.76,123.472 \"/>\n",
       "<polyline clip-path=\"url(#clip032)\" style=\"stroke:#000000; stroke-linecap:round; stroke-linejoin:round; stroke-width:2; stroke-opacity:0.1; fill:none\" points=\"1525.42,1423.18 1525.42,123.472 \"/>\n",
       "<polyline clip-path=\"url(#clip032)\" style=\"stroke:#000000; stroke-linecap:round; stroke-linejoin:round; stroke-width:2; stroke-opacity:0.1; fill:none\" points=\"1939.09,1423.18 1939.09,123.472 \"/>\n",
       "<polyline clip-path=\"url(#clip032)\" style=\"stroke:#000000; stroke-linecap:round; stroke-linejoin:round; stroke-width:2; stroke-opacity:0.1; fill:none\" points=\"2352.76,1423.18 2352.76,123.472 \"/>\n",
       "<polyline clip-path=\"url(#clip030)\" style=\"stroke:#000000; stroke-linecap:round; stroke-linejoin:round; stroke-width:4; stroke-opacity:1; fill:none\" points=\"284.422,1423.18 2352.76,1423.18 \"/>\n",
       "<polyline clip-path=\"url(#clip030)\" style=\"stroke:#000000; stroke-linecap:round; stroke-linejoin:round; stroke-width:4; stroke-opacity:1; fill:none\" points=\"284.422,1423.18 284.422,1404.28 \"/>\n",
       "<polyline clip-path=\"url(#clip030)\" style=\"stroke:#000000; stroke-linecap:round; stroke-linejoin:round; stroke-width:4; stroke-opacity:1; fill:none\" points=\"698.088,1423.18 698.088,1404.28 \"/>\n",
       "<polyline clip-path=\"url(#clip030)\" style=\"stroke:#000000; stroke-linecap:round; stroke-linejoin:round; stroke-width:4; stroke-opacity:1; fill:none\" points=\"1111.76,1423.18 1111.76,1404.28 \"/>\n",
       "<polyline clip-path=\"url(#clip030)\" style=\"stroke:#000000; stroke-linecap:round; stroke-linejoin:round; stroke-width:4; stroke-opacity:1; fill:none\" points=\"1525.42,1423.18 1525.42,1404.28 \"/>\n",
       "<polyline clip-path=\"url(#clip030)\" style=\"stroke:#000000; stroke-linecap:round; stroke-linejoin:round; stroke-width:4; stroke-opacity:1; fill:none\" points=\"1939.09,1423.18 1939.09,1404.28 \"/>\n",
       "<polyline clip-path=\"url(#clip030)\" style=\"stroke:#000000; stroke-linecap:round; stroke-linejoin:round; stroke-width:4; stroke-opacity:1; fill:none\" points=\"2352.76,1423.18 2352.76,1404.28 \"/>\n",
       "<path clip-path=\"url(#clip030)\" d=\"M261.806 1454.1 Q258.195 1454.1 256.366 1457.66 Q254.561 1461.2 254.561 1468.33 Q254.561 1475.44 256.366 1479.01 Q258.195 1482.55 261.806 1482.55 Q265.44 1482.55 267.246 1479.01 Q269.074 1475.44 269.074 1468.33 Q269.074 1461.2 267.246 1457.66 Q265.44 1454.1 261.806 1454.1 M261.806 1450.39 Q267.616 1450.39 270.672 1455 Q273.75 1459.58 273.75 1468.33 Q273.75 1477.06 270.672 1481.67 Q267.616 1486.25 261.806 1486.25 Q255.996 1486.25 252.917 1481.67 Q249.862 1477.06 249.862 1468.33 Q249.862 1459.58 252.917 1455 Q255.996 1450.39 261.806 1450.39 Z\" fill=\"#000000\" fill-rule=\"evenodd\" fill-opacity=\"1\" /><path clip-path=\"url(#clip030)\" d=\"M281.968 1479.7 L286.852 1479.7 L286.852 1485.58 L281.968 1485.58 L281.968 1479.7 Z\" fill=\"#000000\" fill-rule=\"evenodd\" fill-opacity=\"1\" /><path clip-path=\"url(#clip030)\" d=\"M307.037 1454.1 Q303.426 1454.1 301.597 1457.66 Q299.792 1461.2 299.792 1468.33 Q299.792 1475.44 301.597 1479.01 Q303.426 1482.55 307.037 1482.55 Q310.671 1482.55 312.477 1479.01 Q314.306 1475.44 314.306 1468.33 Q314.306 1461.2 312.477 1457.66 Q310.671 1454.1 307.037 1454.1 M307.037 1450.39 Q312.847 1450.39 315.903 1455 Q318.982 1459.58 318.982 1468.33 Q318.982 1477.06 315.903 1481.67 Q312.847 1486.25 307.037 1486.25 Q301.227 1486.25 298.148 1481.67 Q295.093 1477.06 295.093 1468.33 Q295.093 1459.58 298.148 1455 Q301.227 1450.39 307.037 1450.39 Z\" fill=\"#000000\" fill-rule=\"evenodd\" fill-opacity=\"1\" /><path clip-path=\"url(#clip030)\" d=\"M676.271 1454.1 Q672.66 1454.1 670.832 1457.66 Q669.026 1461.2 669.026 1468.33 Q669.026 1475.44 670.832 1479.01 Q672.66 1482.55 676.271 1482.55 Q679.906 1482.55 681.711 1479.01 Q683.54 1475.44 683.54 1468.33 Q683.54 1461.2 681.711 1457.66 Q679.906 1454.1 676.271 1454.1 M676.271 1450.39 Q682.082 1450.39 685.137 1455 Q688.216 1459.58 688.216 1468.33 Q688.216 1477.06 685.137 1481.67 Q682.082 1486.25 676.271 1486.25 Q670.461 1486.25 667.383 1481.67 Q664.327 1477.06 664.327 1468.33 Q664.327 1459.58 667.383 1455 Q670.461 1450.39 676.271 1450.39 Z\" fill=\"#000000\" fill-rule=\"evenodd\" fill-opacity=\"1\" /><path clip-path=\"url(#clip030)\" d=\"M696.433 1479.7 L701.318 1479.7 L701.318 1485.58 L696.433 1485.58 L696.433 1479.7 Z\" fill=\"#000000\" fill-rule=\"evenodd\" fill-opacity=\"1\" /><path clip-path=\"url(#clip030)\" d=\"M715.531 1481.64 L731.85 1481.64 L731.85 1485.58 L709.906 1485.58 L709.906 1481.64 Q712.568 1478.89 717.151 1474.26 Q721.757 1469.61 722.938 1468.27 Q725.183 1465.74 726.063 1464.01 Q726.966 1462.25 726.966 1460.56 Q726.966 1457.8 725.021 1456.07 Q723.1 1454.33 719.998 1454.33 Q717.799 1454.33 715.345 1455.09 Q712.915 1455.86 710.137 1457.41 L710.137 1452.69 Q712.961 1451.55 715.415 1450.97 Q717.868 1450.39 719.905 1450.39 Q725.276 1450.39 728.47 1453.08 Q731.665 1455.77 731.665 1460.26 Q731.665 1462.39 730.855 1464.31 Q730.067 1466.2 727.961 1468.8 Q727.382 1469.47 724.28 1472.69 Q721.179 1475.88 715.531 1481.64 Z\" fill=\"#000000\" fill-rule=\"evenodd\" fill-opacity=\"1\" /><path clip-path=\"url(#clip030)\" d=\"M1088.9 1454.1 Q1085.29 1454.1 1083.46 1457.66 Q1081.65 1461.2 1081.65 1468.33 Q1081.65 1475.44 1083.46 1479.01 Q1085.29 1482.55 1088.9 1482.55 Q1092.53 1482.55 1094.34 1479.01 Q1096.17 1475.44 1096.17 1468.33 Q1096.17 1461.2 1094.34 1457.66 Q1092.53 1454.1 1088.9 1454.1 M1088.9 1450.39 Q1094.71 1450.39 1097.76 1455 Q1100.84 1459.58 1100.84 1468.33 Q1100.84 1477.06 1097.76 1481.67 Q1094.71 1486.25 1088.9 1486.25 Q1083.09 1486.25 1080.01 1481.67 Q1076.95 1477.06 1076.95 1468.33 Q1076.95 1459.58 1080.01 1455 Q1083.09 1450.39 1088.9 1450.39 Z\" fill=\"#000000\" fill-rule=\"evenodd\" fill-opacity=\"1\" /><path clip-path=\"url(#clip030)\" d=\"M1109.06 1479.7 L1113.94 1479.7 L1113.94 1485.58 L1109.06 1485.58 L1109.06 1479.7 Z\" fill=\"#000000\" fill-rule=\"evenodd\" fill-opacity=\"1\" /><path clip-path=\"url(#clip030)\" d=\"M1136.98 1455.09 L1125.17 1473.54 L1136.98 1473.54 L1136.98 1455.09 M1135.75 1451.02 L1141.63 1451.02 L1141.63 1473.54 L1146.56 1473.54 L1146.56 1477.43 L1141.63 1477.43 L1141.63 1485.58 L1136.98 1485.58 L1136.98 1477.43 L1121.37 1477.43 L1121.37 1472.92 L1135.75 1451.02 Z\" fill=\"#000000\" fill-rule=\"evenodd\" fill-opacity=\"1\" /><path clip-path=\"url(#clip030)\" d=\"M1502.73 1454.1 Q1499.11 1454.1 1497.29 1457.66 Q1495.48 1461.2 1495.48 1468.33 Q1495.48 1475.44 1497.29 1479.01 Q1499.11 1482.55 1502.73 1482.55 Q1506.36 1482.55 1508.17 1479.01 Q1509.99 1475.44 1509.99 1468.33 Q1509.99 1461.2 1508.17 1457.66 Q1506.36 1454.1 1502.73 1454.1 M1502.73 1450.39 Q1508.54 1450.39 1511.59 1455 Q1514.67 1459.58 1514.67 1468.33 Q1514.67 1477.06 1511.59 1481.67 Q1508.54 1486.25 1502.73 1486.25 Q1496.92 1486.25 1493.84 1481.67 Q1490.78 1477.06 1490.78 1468.33 Q1490.78 1459.58 1493.84 1455 Q1496.92 1450.39 1502.73 1450.39 Z\" fill=\"#000000\" fill-rule=\"evenodd\" fill-opacity=\"1\" /><path clip-path=\"url(#clip030)\" d=\"M1522.89 1479.7 L1527.77 1479.7 L1527.77 1485.58 L1522.89 1485.58 L1522.89 1479.7 Z\" fill=\"#000000\" fill-rule=\"evenodd\" fill-opacity=\"1\" /><path clip-path=\"url(#clip030)\" d=\"M1548.54 1466.44 Q1545.39 1466.44 1543.54 1468.59 Q1541.71 1470.74 1541.71 1474.49 Q1541.71 1478.22 1543.54 1480.39 Q1545.39 1482.55 1548.54 1482.55 Q1551.68 1482.55 1553.51 1480.39 Q1555.36 1478.22 1555.36 1474.49 Q1555.36 1470.74 1553.51 1468.59 Q1551.68 1466.44 1548.54 1466.44 M1557.82 1451.78 L1557.82 1456.04 Q1556.06 1455.21 1554.25 1454.77 Q1552.47 1454.33 1550.71 1454.33 Q1546.08 1454.33 1543.63 1457.45 Q1541.2 1460.58 1540.85 1466.9 Q1542.22 1464.89 1544.28 1463.82 Q1546.34 1462.73 1548.81 1462.73 Q1554.02 1462.73 1557.03 1465.9 Q1560.06 1469.05 1560.06 1474.49 Q1560.06 1479.82 1556.92 1483.03 Q1553.77 1486.25 1548.54 1486.25 Q1542.54 1486.25 1539.37 1481.67 Q1536.2 1477.06 1536.2 1468.33 Q1536.2 1460.14 1540.09 1455.28 Q1543.98 1450.39 1550.53 1450.39 Q1552.29 1450.39 1554.07 1450.74 Q1555.87 1451.09 1557.82 1451.78 Z\" fill=\"#000000\" fill-rule=\"evenodd\" fill-opacity=\"1\" /><path clip-path=\"url(#clip030)\" d=\"M1916.52 1454.1 Q1912.91 1454.1 1911.08 1457.66 Q1909.27 1461.2 1909.27 1468.33 Q1909.27 1475.44 1911.08 1479.01 Q1912.91 1482.55 1916.52 1482.55 Q1920.15 1482.55 1921.96 1479.01 Q1923.79 1475.44 1923.79 1468.33 Q1923.79 1461.2 1921.96 1457.66 Q1920.15 1454.1 1916.52 1454.1 M1916.52 1450.39 Q1922.33 1450.39 1925.39 1455 Q1928.46 1459.58 1928.46 1468.33 Q1928.46 1477.06 1925.39 1481.67 Q1922.33 1486.25 1916.52 1486.25 Q1910.71 1486.25 1907.63 1481.67 Q1904.58 1477.06 1904.58 1468.33 Q1904.58 1459.58 1907.63 1455 Q1910.71 1450.39 1916.52 1450.39 Z\" fill=\"#000000\" fill-rule=\"evenodd\" fill-opacity=\"1\" /><path clip-path=\"url(#clip030)\" d=\"M1936.68 1479.7 L1941.57 1479.7 L1941.57 1485.58 L1936.68 1485.58 L1936.68 1479.7 Z\" fill=\"#000000\" fill-rule=\"evenodd\" fill-opacity=\"1\" /><path clip-path=\"url(#clip030)\" d=\"M1961.75 1469.17 Q1958.42 1469.17 1956.5 1470.95 Q1954.6 1472.73 1954.6 1475.86 Q1954.6 1478.98 1956.5 1480.77 Q1958.42 1482.55 1961.75 1482.55 Q1965.08 1482.55 1967.01 1480.77 Q1968.93 1478.96 1968.93 1475.86 Q1968.93 1472.73 1967.01 1470.95 Q1965.11 1469.17 1961.75 1469.17 M1957.08 1467.18 Q1954.07 1466.44 1952.38 1464.38 Q1950.71 1462.32 1950.71 1459.35 Q1950.71 1455.21 1953.65 1452.8 Q1956.61 1450.39 1961.75 1450.39 Q1966.91 1450.39 1969.85 1452.8 Q1972.79 1455.21 1972.79 1459.35 Q1972.79 1462.32 1971.1 1464.38 Q1969.44 1466.44 1966.45 1467.18 Q1969.83 1467.96 1971.7 1470.26 Q1973.6 1472.55 1973.6 1475.86 Q1973.6 1480.88 1970.52 1483.57 Q1967.47 1486.25 1961.75 1486.25 Q1956.03 1486.25 1952.95 1483.57 Q1949.9 1480.88 1949.9 1475.86 Q1949.9 1472.55 1951.8 1470.26 Q1953.7 1467.96 1957.08 1467.18 M1955.36 1459.79 Q1955.36 1462.48 1957.03 1463.98 Q1958.72 1465.49 1961.75 1465.49 Q1964.76 1465.49 1966.45 1463.98 Q1968.16 1462.48 1968.16 1459.79 Q1968.16 1457.11 1966.45 1455.6 Q1964.76 1454.1 1961.75 1454.1 Q1958.72 1454.1 1957.03 1455.6 Q1955.36 1457.11 1955.36 1459.79 Z\" fill=\"#000000\" fill-rule=\"evenodd\" fill-opacity=\"1\" /><path clip-path=\"url(#clip030)\" d=\"M2319.91 1481.64 L2327.55 1481.64 L2327.55 1455.28 L2319.24 1456.95 L2319.24 1452.69 L2327.5 1451.02 L2332.18 1451.02 L2332.18 1481.64 L2339.82 1481.64 L2339.82 1485.58 L2319.91 1485.58 L2319.91 1481.64 Z\" fill=\"#000000\" fill-rule=\"evenodd\" fill-opacity=\"1\" /><path clip-path=\"url(#clip030)\" d=\"M2349.26 1479.7 L2354.14 1479.7 L2354.14 1485.58 L2349.26 1485.58 L2349.26 1479.7 Z\" fill=\"#000000\" fill-rule=\"evenodd\" fill-opacity=\"1\" /><path clip-path=\"url(#clip030)\" d=\"M2374.33 1454.1 Q2370.72 1454.1 2368.89 1457.66 Q2367.08 1461.2 2367.08 1468.33 Q2367.08 1475.44 2368.89 1479.01 Q2370.72 1482.55 2374.33 1482.55 Q2377.96 1482.55 2379.77 1479.01 Q2381.6 1475.44 2381.6 1468.33 Q2381.6 1461.2 2379.77 1457.66 Q2377.96 1454.1 2374.33 1454.1 M2374.33 1450.39 Q2380.14 1450.39 2383.2 1455 Q2386.27 1459.58 2386.27 1468.33 Q2386.27 1477.06 2383.2 1481.67 Q2380.14 1486.25 2374.33 1486.25 Q2368.52 1486.25 2365.44 1481.67 Q2362.39 1477.06 2362.39 1468.33 Q2362.39 1459.58 2365.44 1455 Q2368.52 1450.39 2374.33 1450.39 Z\" fill=\"#000000\" fill-rule=\"evenodd\" fill-opacity=\"1\" /><path clip-path=\"url(#clip030)\" d=\"M1335.2 1532.4 L1322.31 1549.74 L1335.87 1568.04 L1328.96 1568.04 L1318.59 1554.04 L1308.21 1568.04 L1301.31 1568.04 L1315.15 1549.39 L1302.48 1532.4 L1309.39 1532.4 L1318.84 1545.1 L1328.3 1532.4 L1335.2 1532.4 Z\" fill=\"#000000\" fill-rule=\"evenodd\" fill-opacity=\"1\" /><polyline clip-path=\"url(#clip032)\" style=\"stroke:#000000; stroke-linecap:round; stroke-linejoin:round; stroke-width:2; stroke-opacity:0.1; fill:none\" points=\"284.422,1230.01 2352.76,1230.01 \"/>\n",
       "<polyline clip-path=\"url(#clip032)\" style=\"stroke:#000000; stroke-linecap:round; stroke-linejoin:round; stroke-width:2; stroke-opacity:0.1; fill:none\" points=\"284.422,1029.97 2352.76,1029.97 \"/>\n",
       "<polyline clip-path=\"url(#clip032)\" style=\"stroke:#000000; stroke-linecap:round; stroke-linejoin:round; stroke-width:2; stroke-opacity:0.1; fill:none\" points=\"284.422,829.937 2352.76,829.937 \"/>\n",
       "<polyline clip-path=\"url(#clip032)\" style=\"stroke:#000000; stroke-linecap:round; stroke-linejoin:round; stroke-width:2; stroke-opacity:0.1; fill:none\" points=\"284.422,629.901 2352.76,629.901 \"/>\n",
       "<polyline clip-path=\"url(#clip032)\" style=\"stroke:#000000; stroke-linecap:round; stroke-linejoin:round; stroke-width:2; stroke-opacity:0.1; fill:none\" points=\"284.422,429.865 2352.76,429.865 \"/>\n",
       "<polyline clip-path=\"url(#clip032)\" style=\"stroke:#000000; stroke-linecap:round; stroke-linejoin:round; stroke-width:2; stroke-opacity:0.1; fill:none\" points=\"284.422,229.829 2352.76,229.829 \"/>\n",
       "<polyline clip-path=\"url(#clip030)\" style=\"stroke:#000000; stroke-linecap:round; stroke-linejoin:round; stroke-width:4; stroke-opacity:1; fill:none\" points=\"284.422,1423.18 284.422,123.472 \"/>\n",
       "<polyline clip-path=\"url(#clip030)\" style=\"stroke:#000000; stroke-linecap:round; stroke-linejoin:round; stroke-width:4; stroke-opacity:1; fill:none\" points=\"284.422,1230.01 303.319,1230.01 \"/>\n",
       "<polyline clip-path=\"url(#clip030)\" style=\"stroke:#000000; stroke-linecap:round; stroke-linejoin:round; stroke-width:4; stroke-opacity:1; fill:none\" points=\"284.422,1029.97 303.319,1029.97 \"/>\n",
       "<polyline clip-path=\"url(#clip030)\" style=\"stroke:#000000; stroke-linecap:round; stroke-linejoin:round; stroke-width:4; stroke-opacity:1; fill:none\" points=\"284.422,829.937 303.319,829.937 \"/>\n",
       "<polyline clip-path=\"url(#clip030)\" style=\"stroke:#000000; stroke-linecap:round; stroke-linejoin:round; stroke-width:4; stroke-opacity:1; fill:none\" points=\"284.422,629.901 303.319,629.901 \"/>\n",
       "<polyline clip-path=\"url(#clip030)\" style=\"stroke:#000000; stroke-linecap:round; stroke-linejoin:round; stroke-width:4; stroke-opacity:1; fill:none\" points=\"284.422,429.865 303.319,429.865 \"/>\n",
       "<polyline clip-path=\"url(#clip030)\" style=\"stroke:#000000; stroke-linecap:round; stroke-linejoin:round; stroke-width:4; stroke-opacity:1; fill:none\" points=\"284.422,229.829 303.319,229.829 \"/>\n",
       "<path clip-path=\"url(#clip030)\" d=\"M51.9875 1230.46 L81.6633 1230.46 L81.6633 1234.4 L51.9875 1234.4 L51.9875 1230.46 Z\" fill=\"#000000\" fill-rule=\"evenodd\" fill-opacity=\"1\" /><path clip-path=\"url(#clip030)\" d=\"M101.756 1215.81 Q98.1447 1215.81 96.316 1219.37 Q94.5104 1222.91 94.5104 1230.04 Q94.5104 1237.15 96.316 1240.71 Q98.1447 1244.26 101.756 1244.26 Q105.39 1244.26 107.196 1240.71 Q109.024 1237.15 109.024 1230.04 Q109.024 1222.91 107.196 1219.37 Q105.39 1215.81 101.756 1215.81 M101.756 1212.1 Q107.566 1212.1 110.621 1216.71 Q113.7 1221.29 113.7 1230.04 Q113.7 1238.77 110.621 1243.38 Q107.566 1247.96 101.756 1247.96 Q95.9456 1247.96 92.8669 1243.38 Q89.8114 1238.77 89.8114 1230.04 Q89.8114 1221.29 92.8669 1216.71 Q95.9456 1212.1 101.756 1212.1 Z\" fill=\"#000000\" fill-rule=\"evenodd\" fill-opacity=\"1\" /><path clip-path=\"url(#clip030)\" d=\"M121.918 1241.41 L126.802 1241.41 L126.802 1247.29 L121.918 1247.29 L121.918 1241.41 Z\" fill=\"#000000\" fill-rule=\"evenodd\" fill-opacity=\"1\" /><path clip-path=\"url(#clip030)\" d=\"M146.987 1215.81 Q143.376 1215.81 141.547 1219.37 Q139.742 1222.91 139.742 1230.04 Q139.742 1237.15 141.547 1240.71 Q143.376 1244.26 146.987 1244.26 Q150.621 1244.26 152.427 1240.71 Q154.255 1237.15 154.255 1230.04 Q154.255 1222.91 152.427 1219.37 Q150.621 1215.81 146.987 1215.81 M146.987 1212.1 Q152.797 1212.1 155.853 1216.71 Q158.931 1221.29 158.931 1230.04 Q158.931 1238.77 155.853 1243.38 Q152.797 1247.96 146.987 1247.96 Q141.177 1247.96 138.098 1243.38 Q135.043 1238.77 135.043 1230.04 Q135.043 1221.29 138.098 1216.71 Q141.177 1212.1 146.987 1212.1 Z\" fill=\"#000000\" fill-rule=\"evenodd\" fill-opacity=\"1\" /><path clip-path=\"url(#clip030)\" d=\"M177.149 1215.81 Q173.538 1215.81 171.709 1219.37 Q169.904 1222.91 169.904 1230.04 Q169.904 1237.15 171.709 1240.71 Q173.538 1244.26 177.149 1244.26 Q180.783 1244.26 182.589 1240.71 Q184.417 1237.15 184.417 1230.04 Q184.417 1222.91 182.589 1219.37 Q180.783 1215.81 177.149 1215.81 M177.149 1212.1 Q182.959 1212.1 186.015 1216.71 Q189.093 1221.29 189.093 1230.04 Q189.093 1238.77 186.015 1243.38 Q182.959 1247.96 177.149 1247.96 Q171.339 1247.96 168.26 1243.38 Q165.204 1238.77 165.204 1230.04 Q165.204 1221.29 168.26 1216.71 Q171.339 1212.1 177.149 1212.1 Z\" fill=\"#000000\" fill-rule=\"evenodd\" fill-opacity=\"1\" /><path clip-path=\"url(#clip030)\" d=\"M198.121 1243.35 L205.76 1243.35 L205.76 1216.99 L197.45 1218.65 L197.45 1214.4 L205.714 1212.73 L210.389 1212.73 L210.389 1243.35 L218.028 1243.35 L218.028 1247.29 L198.121 1247.29 L198.121 1243.35 Z\" fill=\"#000000\" fill-rule=\"evenodd\" fill-opacity=\"1\" /><path clip-path=\"url(#clip030)\" d=\"M227.519 1212.73 L245.875 1212.73 L245.875 1216.66 L231.801 1216.66 L231.801 1225.14 Q232.82 1224.79 233.838 1224.63 Q234.857 1224.44 235.875 1224.44 Q241.662 1224.44 245.042 1227.61 Q248.422 1230.78 248.422 1236.2 Q248.422 1241.78 244.949 1244.88 Q241.477 1247.96 235.158 1247.96 Q232.982 1247.96 230.713 1247.59 Q228.468 1247.22 226.061 1246.48 L226.061 1241.78 Q228.144 1242.91 230.366 1243.47 Q232.588 1244.03 235.065 1244.03 Q239.07 1244.03 241.408 1241.92 Q243.746 1239.81 243.746 1236.2 Q243.746 1232.59 241.408 1230.48 Q239.07 1228.38 235.065 1228.38 Q233.19 1228.38 231.315 1228.79 Q229.463 1229.21 227.519 1230.09 L227.519 1212.73 Z\" fill=\"#000000\" fill-rule=\"evenodd\" fill-opacity=\"1\" /><path clip-path=\"url(#clip030)\" d=\"M50.9921 1030.42 L80.6679 1030.42 L80.6679 1034.36 L50.9921 1034.36 L50.9921 1030.42 Z\" fill=\"#000000\" fill-rule=\"evenodd\" fill-opacity=\"1\" /><path clip-path=\"url(#clip030)\" d=\"M100.76 1015.77 Q97.1493 1015.77 95.3206 1019.34 Q93.515 1022.88 93.515 1030.01 Q93.515 1037.11 95.3206 1040.68 Q97.1493 1044.22 100.76 1044.22 Q104.395 1044.22 106.2 1040.68 Q108.029 1037.11 108.029 1030.01 Q108.029 1022.88 106.2 1019.34 Q104.395 1015.77 100.76 1015.77 M100.76 1012.07 Q106.571 1012.07 109.626 1016.67 Q112.705 1021.26 112.705 1030.01 Q112.705 1038.73 109.626 1043.34 Q106.571 1047.92 100.76 1047.92 Q94.9502 1047.92 91.8715 1043.34 Q88.816 1038.73 88.816 1030.01 Q88.816 1021.26 91.8715 1016.67 Q94.9502 1012.07 100.76 1012.07 Z\" fill=\"#000000\" fill-rule=\"evenodd\" fill-opacity=\"1\" /><path clip-path=\"url(#clip030)\" d=\"M120.922 1041.37 L125.807 1041.37 L125.807 1047.25 L120.922 1047.25 L120.922 1041.37 Z\" fill=\"#000000\" fill-rule=\"evenodd\" fill-opacity=\"1\" /><path clip-path=\"url(#clip030)\" d=\"M145.992 1015.77 Q142.381 1015.77 140.552 1019.34 Q138.746 1022.88 138.746 1030.01 Q138.746 1037.11 140.552 1040.68 Q142.381 1044.22 145.992 1044.22 Q149.626 1044.22 151.431 1040.68 Q153.26 1037.11 153.26 1030.01 Q153.26 1022.88 151.431 1019.34 Q149.626 1015.77 145.992 1015.77 M145.992 1012.07 Q151.802 1012.07 154.857 1016.67 Q157.936 1021.26 157.936 1030.01 Q157.936 1038.73 154.857 1043.34 Q151.802 1047.92 145.992 1047.92 Q140.181 1047.92 137.103 1043.34 Q134.047 1038.73 134.047 1030.01 Q134.047 1021.26 137.103 1016.67 Q140.181 1012.07 145.992 1012.07 Z\" fill=\"#000000\" fill-rule=\"evenodd\" fill-opacity=\"1\" /><path clip-path=\"url(#clip030)\" d=\"M176.153 1015.77 Q172.542 1015.77 170.714 1019.34 Q168.908 1022.88 168.908 1030.01 Q168.908 1037.11 170.714 1040.68 Q172.542 1044.22 176.153 1044.22 Q179.788 1044.22 181.593 1040.68 Q183.422 1037.11 183.422 1030.01 Q183.422 1022.88 181.593 1019.34 Q179.788 1015.77 176.153 1015.77 M176.153 1012.07 Q181.964 1012.07 185.019 1016.67 Q188.098 1021.26 188.098 1030.01 Q188.098 1038.73 185.019 1043.34 Q181.964 1047.92 176.153 1047.92 Q170.343 1047.92 167.265 1043.34 Q164.209 1038.73 164.209 1030.01 Q164.209 1021.26 167.265 1016.67 Q170.343 1012.07 176.153 1012.07 Z\" fill=\"#000000\" fill-rule=\"evenodd\" fill-opacity=\"1\" /><path clip-path=\"url(#clip030)\" d=\"M197.126 1043.32 L204.764 1043.32 L204.764 1016.95 L196.454 1018.62 L196.454 1014.36 L204.718 1012.69 L209.394 1012.69 L209.394 1043.32 L217.033 1043.32 L217.033 1047.25 L197.126 1047.25 L197.126 1043.32 Z\" fill=\"#000000\" fill-rule=\"evenodd\" fill-opacity=\"1\" /><path clip-path=\"url(#clip030)\" d=\"M236.477 1015.77 Q232.866 1015.77 231.037 1019.34 Q229.232 1022.88 229.232 1030.01 Q229.232 1037.11 231.037 1040.68 Q232.866 1044.22 236.477 1044.22 Q240.111 1044.22 241.917 1040.68 Q243.746 1037.11 243.746 1030.01 Q243.746 1022.88 241.917 1019.34 Q240.111 1015.77 236.477 1015.77 M236.477 1012.07 Q242.287 1012.07 245.343 1016.67 Q248.422 1021.26 248.422 1030.01 Q248.422 1038.73 245.343 1043.34 Q242.287 1047.92 236.477 1047.92 Q230.667 1047.92 227.588 1043.34 Q224.533 1038.73 224.533 1030.01 Q224.533 1021.26 227.588 1016.67 Q230.667 1012.07 236.477 1012.07 Z\" fill=\"#000000\" fill-rule=\"evenodd\" fill-opacity=\"1\" /><path clip-path=\"url(#clip030)\" d=\"M51.9875 830.388 L81.6633 830.388 L81.6633 834.324 L51.9875 834.324 L51.9875 830.388 Z\" fill=\"#000000\" fill-rule=\"evenodd\" fill-opacity=\"1\" /><path clip-path=\"url(#clip030)\" d=\"M101.756 815.736 Q98.1447 815.736 96.316 819.301 Q94.5104 822.842 94.5104 829.972 Q94.5104 837.078 96.316 840.643 Q98.1447 844.185 101.756 844.185 Q105.39 844.185 107.196 840.643 Q109.024 837.078 109.024 829.972 Q109.024 822.842 107.196 819.301 Q105.39 815.736 101.756 815.736 M101.756 812.032 Q107.566 812.032 110.621 816.639 Q113.7 821.222 113.7 829.972 Q113.7 838.699 110.621 843.305 Q107.566 847.888 101.756 847.888 Q95.9456 847.888 92.8669 843.305 Q89.8114 838.699 89.8114 829.972 Q89.8114 821.222 92.8669 816.639 Q95.9456 812.032 101.756 812.032 Z\" fill=\"#000000\" fill-rule=\"evenodd\" fill-opacity=\"1\" /><path clip-path=\"url(#clip030)\" d=\"M121.918 841.338 L126.802 841.338 L126.802 847.217 L121.918 847.217 L121.918 841.338 Z\" fill=\"#000000\" fill-rule=\"evenodd\" fill-opacity=\"1\" /><path clip-path=\"url(#clip030)\" d=\"M146.987 815.736 Q143.376 815.736 141.547 819.301 Q139.742 822.842 139.742 829.972 Q139.742 837.078 141.547 840.643 Q143.376 844.185 146.987 844.185 Q150.621 844.185 152.427 840.643 Q154.255 837.078 154.255 829.972 Q154.255 822.842 152.427 819.301 Q150.621 815.736 146.987 815.736 M146.987 812.032 Q152.797 812.032 155.853 816.639 Q158.931 821.222 158.931 829.972 Q158.931 838.699 155.853 843.305 Q152.797 847.888 146.987 847.888 Q141.177 847.888 138.098 843.305 Q135.043 838.699 135.043 829.972 Q135.043 821.222 138.098 816.639 Q141.177 812.032 146.987 812.032 Z\" fill=\"#000000\" fill-rule=\"evenodd\" fill-opacity=\"1\" /><path clip-path=\"url(#clip030)\" d=\"M177.149 815.736 Q173.538 815.736 171.709 819.301 Q169.904 822.842 169.904 829.972 Q169.904 837.078 171.709 840.643 Q173.538 844.185 177.149 844.185 Q180.783 844.185 182.589 840.643 Q184.417 837.078 184.417 829.972 Q184.417 822.842 182.589 819.301 Q180.783 815.736 177.149 815.736 M177.149 812.032 Q182.959 812.032 186.015 816.639 Q189.093 821.222 189.093 829.972 Q189.093 838.699 186.015 843.305 Q182.959 847.888 177.149 847.888 Q171.339 847.888 168.26 843.305 Q165.204 838.699 165.204 829.972 Q165.204 821.222 168.26 816.639 Q171.339 812.032 177.149 812.032 Z\" fill=\"#000000\" fill-rule=\"evenodd\" fill-opacity=\"1\" /><path clip-path=\"url(#clip030)\" d=\"M207.311 815.736 Q203.7 815.736 201.871 819.301 Q200.065 822.842 200.065 829.972 Q200.065 837.078 201.871 840.643 Q203.7 844.185 207.311 844.185 Q210.945 844.185 212.751 840.643 Q214.579 837.078 214.579 829.972 Q214.579 822.842 212.751 819.301 Q210.945 815.736 207.311 815.736 M207.311 812.032 Q213.121 812.032 216.176 816.639 Q219.255 821.222 219.255 829.972 Q219.255 838.699 216.176 843.305 Q213.121 847.888 207.311 847.888 Q201.501 847.888 198.422 843.305 Q195.366 838.699 195.366 829.972 Q195.366 821.222 198.422 816.639 Q201.501 812.032 207.311 812.032 Z\" fill=\"#000000\" fill-rule=\"evenodd\" fill-opacity=\"1\" /><path clip-path=\"url(#clip030)\" d=\"M227.519 812.657 L245.875 812.657 L245.875 816.592 L231.801 816.592 L231.801 825.064 Q232.82 824.717 233.838 824.555 Q234.857 824.37 235.875 824.37 Q241.662 824.37 245.042 827.541 Q248.422 830.713 248.422 836.129 Q248.422 841.708 244.949 844.81 Q241.477 847.888 235.158 847.888 Q232.982 847.888 230.713 847.518 Q228.468 847.148 226.061 846.407 L226.061 841.708 Q228.144 842.842 230.366 843.398 Q232.588 843.953 235.065 843.953 Q239.07 843.953 241.408 841.847 Q243.746 839.74 243.746 836.129 Q243.746 832.518 241.408 830.412 Q239.07 828.305 235.065 828.305 Q233.19 828.305 231.315 828.722 Q229.463 829.139 227.519 830.018 L227.519 812.657 Z\" fill=\"#000000\" fill-rule=\"evenodd\" fill-opacity=\"1\" /><path clip-path=\"url(#clip030)\" d=\"M100.76 615.7 Q97.1493 615.7 95.3206 619.265 Q93.515 622.806 93.515 629.936 Q93.515 637.042 95.3206 640.607 Q97.1493 644.149 100.76 644.149 Q104.395 644.149 106.2 640.607 Q108.029 637.042 108.029 629.936 Q108.029 622.806 106.2 619.265 Q104.395 615.7 100.76 615.7 M100.76 611.996 Q106.571 611.996 109.626 616.603 Q112.705 621.186 112.705 629.936 Q112.705 638.663 109.626 643.269 Q106.571 647.852 100.76 647.852 Q94.9502 647.852 91.8715 643.269 Q88.816 638.663 88.816 629.936 Q88.816 621.186 91.8715 616.603 Q94.9502 611.996 100.76 611.996 Z\" fill=\"#000000\" fill-rule=\"evenodd\" fill-opacity=\"1\" /><path clip-path=\"url(#clip030)\" d=\"M120.922 641.302 L125.807 641.302 L125.807 647.181 L120.922 647.181 L120.922 641.302 Z\" fill=\"#000000\" fill-rule=\"evenodd\" fill-opacity=\"1\" /><path clip-path=\"url(#clip030)\" d=\"M145.992 615.7 Q142.381 615.7 140.552 619.265 Q138.746 622.806 138.746 629.936 Q138.746 637.042 140.552 640.607 Q142.381 644.149 145.992 644.149 Q149.626 644.149 151.431 640.607 Q153.26 637.042 153.26 629.936 Q153.26 622.806 151.431 619.265 Q149.626 615.7 145.992 615.7 M145.992 611.996 Q151.802 611.996 154.857 616.603 Q157.936 621.186 157.936 629.936 Q157.936 638.663 154.857 643.269 Q151.802 647.852 145.992 647.852 Q140.181 647.852 137.103 643.269 Q134.047 638.663 134.047 629.936 Q134.047 621.186 137.103 616.603 Q140.181 611.996 145.992 611.996 Z\" fill=\"#000000\" fill-rule=\"evenodd\" fill-opacity=\"1\" /><path clip-path=\"url(#clip030)\" d=\"M176.153 615.7 Q172.542 615.7 170.714 619.265 Q168.908 622.806 168.908 629.936 Q168.908 637.042 170.714 640.607 Q172.542 644.149 176.153 644.149 Q179.788 644.149 181.593 640.607 Q183.422 637.042 183.422 629.936 Q183.422 622.806 181.593 619.265 Q179.788 615.7 176.153 615.7 M176.153 611.996 Q181.964 611.996 185.019 616.603 Q188.098 621.186 188.098 629.936 Q188.098 638.663 185.019 643.269 Q181.964 647.852 176.153 647.852 Q170.343 647.852 167.265 643.269 Q164.209 638.663 164.209 629.936 Q164.209 621.186 167.265 616.603 Q170.343 611.996 176.153 611.996 Z\" fill=\"#000000\" fill-rule=\"evenodd\" fill-opacity=\"1\" /><path clip-path=\"url(#clip030)\" d=\"M206.315 615.7 Q202.704 615.7 200.876 619.265 Q199.07 622.806 199.07 629.936 Q199.07 637.042 200.876 640.607 Q202.704 644.149 206.315 644.149 Q209.95 644.149 211.755 640.607 Q213.584 637.042 213.584 629.936 Q213.584 622.806 211.755 619.265 Q209.95 615.7 206.315 615.7 M206.315 611.996 Q212.126 611.996 215.181 616.603 Q218.26 621.186 218.26 629.936 Q218.26 638.663 215.181 643.269 Q212.126 647.852 206.315 647.852 Q200.505 647.852 197.427 643.269 Q194.371 638.663 194.371 629.936 Q194.371 621.186 197.427 616.603 Q200.505 611.996 206.315 611.996 Z\" fill=\"#000000\" fill-rule=\"evenodd\" fill-opacity=\"1\" /><path clip-path=\"url(#clip030)\" d=\"M236.477 615.7 Q232.866 615.7 231.037 619.265 Q229.232 622.806 229.232 629.936 Q229.232 637.042 231.037 640.607 Q232.866 644.149 236.477 644.149 Q240.111 644.149 241.917 640.607 Q243.746 637.042 243.746 629.936 Q243.746 622.806 241.917 619.265 Q240.111 615.7 236.477 615.7 M236.477 611.996 Q242.287 611.996 245.343 616.603 Q248.422 621.186 248.422 629.936 Q248.422 638.663 245.343 643.269 Q242.287 647.852 236.477 647.852 Q230.667 647.852 227.588 643.269 Q224.533 638.663 224.533 629.936 Q224.533 621.186 227.588 616.603 Q230.667 611.996 236.477 611.996 Z\" fill=\"#000000\" fill-rule=\"evenodd\" fill-opacity=\"1\" /><path clip-path=\"url(#clip030)\" d=\"M101.756 415.664 Q98.1447 415.664 96.316 419.229 Q94.5104 422.77 94.5104 429.9 Q94.5104 437.006 96.316 440.571 Q98.1447 444.113 101.756 444.113 Q105.39 444.113 107.196 440.571 Q109.024 437.006 109.024 429.9 Q109.024 422.77 107.196 419.229 Q105.39 415.664 101.756 415.664 M101.756 411.96 Q107.566 411.96 110.621 416.567 Q113.7 421.15 113.7 429.9 Q113.7 438.627 110.621 443.233 Q107.566 447.817 101.756 447.817 Q95.9456 447.817 92.8669 443.233 Q89.8114 438.627 89.8114 429.9 Q89.8114 421.15 92.8669 416.567 Q95.9456 411.96 101.756 411.96 Z\" fill=\"#000000\" fill-rule=\"evenodd\" fill-opacity=\"1\" /><path clip-path=\"url(#clip030)\" d=\"M121.918 441.266 L126.802 441.266 L126.802 447.145 L121.918 447.145 L121.918 441.266 Z\" fill=\"#000000\" fill-rule=\"evenodd\" fill-opacity=\"1\" /><path clip-path=\"url(#clip030)\" d=\"M146.987 415.664 Q143.376 415.664 141.547 419.229 Q139.742 422.77 139.742 429.9 Q139.742 437.006 141.547 440.571 Q143.376 444.113 146.987 444.113 Q150.621 444.113 152.427 440.571 Q154.255 437.006 154.255 429.9 Q154.255 422.77 152.427 419.229 Q150.621 415.664 146.987 415.664 M146.987 411.96 Q152.797 411.96 155.853 416.567 Q158.931 421.15 158.931 429.9 Q158.931 438.627 155.853 443.233 Q152.797 447.817 146.987 447.817 Q141.177 447.817 138.098 443.233 Q135.043 438.627 135.043 429.9 Q135.043 421.15 138.098 416.567 Q141.177 411.96 146.987 411.96 Z\" fill=\"#000000\" fill-rule=\"evenodd\" fill-opacity=\"1\" /><path clip-path=\"url(#clip030)\" d=\"M177.149 415.664 Q173.538 415.664 171.709 419.229 Q169.904 422.77 169.904 429.9 Q169.904 437.006 171.709 440.571 Q173.538 444.113 177.149 444.113 Q180.783 444.113 182.589 440.571 Q184.417 437.006 184.417 429.9 Q184.417 422.77 182.589 419.229 Q180.783 415.664 177.149 415.664 M177.149 411.96 Q182.959 411.96 186.015 416.567 Q189.093 421.15 189.093 429.9 Q189.093 438.627 186.015 443.233 Q182.959 447.817 177.149 447.817 Q171.339 447.817 168.26 443.233 Q165.204 438.627 165.204 429.9 Q165.204 421.15 168.26 416.567 Q171.339 411.96 177.149 411.96 Z\" fill=\"#000000\" fill-rule=\"evenodd\" fill-opacity=\"1\" /><path clip-path=\"url(#clip030)\" d=\"M207.311 415.664 Q203.7 415.664 201.871 419.229 Q200.065 422.77 200.065 429.9 Q200.065 437.006 201.871 440.571 Q203.7 444.113 207.311 444.113 Q210.945 444.113 212.751 440.571 Q214.579 437.006 214.579 429.9 Q214.579 422.77 212.751 419.229 Q210.945 415.664 207.311 415.664 M207.311 411.96 Q213.121 411.96 216.176 416.567 Q219.255 421.15 219.255 429.9 Q219.255 438.627 216.176 443.233 Q213.121 447.817 207.311 447.817 Q201.501 447.817 198.422 443.233 Q195.366 438.627 195.366 429.9 Q195.366 421.15 198.422 416.567 Q201.501 411.96 207.311 411.96 Z\" fill=\"#000000\" fill-rule=\"evenodd\" fill-opacity=\"1\" /><path clip-path=\"url(#clip030)\" d=\"M227.519 412.585 L245.875 412.585 L245.875 416.52 L231.801 416.52 L231.801 424.993 Q232.82 424.645 233.838 424.483 Q234.857 424.298 235.875 424.298 Q241.662 424.298 245.042 427.469 Q248.422 430.641 248.422 436.057 Q248.422 441.636 244.949 444.738 Q241.477 447.817 235.158 447.817 Q232.982 447.817 230.713 447.446 Q228.468 447.076 226.061 446.335 L226.061 441.636 Q228.144 442.77 230.366 443.326 Q232.588 443.881 235.065 443.881 Q239.07 443.881 241.408 441.775 Q243.746 439.668 243.746 436.057 Q243.746 432.446 241.408 430.34 Q239.07 428.233 235.065 428.233 Q233.19 428.233 231.315 428.65 Q229.463 429.067 227.519 429.946 L227.519 412.585 Z\" fill=\"#000000\" fill-rule=\"evenodd\" fill-opacity=\"1\" /><path clip-path=\"url(#clip030)\" d=\"M100.76 215.628 Q97.1493 215.628 95.3206 219.193 Q93.515 222.734 93.515 229.864 Q93.515 236.97 95.3206 240.535 Q97.1493 244.077 100.76 244.077 Q104.395 244.077 106.2 240.535 Q108.029 236.97 108.029 229.864 Q108.029 222.734 106.2 219.193 Q104.395 215.628 100.76 215.628 M100.76 211.924 Q106.571 211.924 109.626 216.531 Q112.705 221.114 112.705 229.864 Q112.705 238.591 109.626 243.197 Q106.571 247.781 100.76 247.781 Q94.9502 247.781 91.8715 243.197 Q88.816 238.591 88.816 229.864 Q88.816 221.114 91.8715 216.531 Q94.9502 211.924 100.76 211.924 Z\" fill=\"#000000\" fill-rule=\"evenodd\" fill-opacity=\"1\" /><path clip-path=\"url(#clip030)\" d=\"M120.922 241.23 L125.807 241.23 L125.807 247.109 L120.922 247.109 L120.922 241.23 Z\" fill=\"#000000\" fill-rule=\"evenodd\" fill-opacity=\"1\" /><path clip-path=\"url(#clip030)\" d=\"M145.992 215.628 Q142.381 215.628 140.552 219.193 Q138.746 222.734 138.746 229.864 Q138.746 236.97 140.552 240.535 Q142.381 244.077 145.992 244.077 Q149.626 244.077 151.431 240.535 Q153.26 236.97 153.26 229.864 Q153.26 222.734 151.431 219.193 Q149.626 215.628 145.992 215.628 M145.992 211.924 Q151.802 211.924 154.857 216.531 Q157.936 221.114 157.936 229.864 Q157.936 238.591 154.857 243.197 Q151.802 247.781 145.992 247.781 Q140.181 247.781 137.103 243.197 Q134.047 238.591 134.047 229.864 Q134.047 221.114 137.103 216.531 Q140.181 211.924 145.992 211.924 Z\" fill=\"#000000\" fill-rule=\"evenodd\" fill-opacity=\"1\" /><path clip-path=\"url(#clip030)\" d=\"M176.153 215.628 Q172.542 215.628 170.714 219.193 Q168.908 222.734 168.908 229.864 Q168.908 236.97 170.714 240.535 Q172.542 244.077 176.153 244.077 Q179.788 244.077 181.593 240.535 Q183.422 236.97 183.422 229.864 Q183.422 222.734 181.593 219.193 Q179.788 215.628 176.153 215.628 M176.153 211.924 Q181.964 211.924 185.019 216.531 Q188.098 221.114 188.098 229.864 Q188.098 238.591 185.019 243.197 Q181.964 247.781 176.153 247.781 Q170.343 247.781 167.265 243.197 Q164.209 238.591 164.209 229.864 Q164.209 221.114 167.265 216.531 Q170.343 211.924 176.153 211.924 Z\" fill=\"#000000\" fill-rule=\"evenodd\" fill-opacity=\"1\" /><path clip-path=\"url(#clip030)\" d=\"M197.126 243.174 L204.764 243.174 L204.764 216.808 L196.454 218.475 L196.454 214.216 L204.718 212.549 L209.394 212.549 L209.394 243.174 L217.033 243.174 L217.033 247.109 L197.126 247.109 L197.126 243.174 Z\" fill=\"#000000\" fill-rule=\"evenodd\" fill-opacity=\"1\" /><path clip-path=\"url(#clip030)\" d=\"M236.477 215.628 Q232.866 215.628 231.037 219.193 Q229.232 222.734 229.232 229.864 Q229.232 236.97 231.037 240.535 Q232.866 244.077 236.477 244.077 Q240.111 244.077 241.917 240.535 Q243.746 236.97 243.746 229.864 Q243.746 222.734 241.917 219.193 Q240.111 215.628 236.477 215.628 M236.477 211.924 Q242.287 211.924 245.343 216.531 Q248.422 221.114 248.422 229.864 Q248.422 238.591 245.343 243.197 Q242.287 247.781 236.477 247.781 Q230.667 247.781 227.588 243.197 Q224.533 238.591 224.533 229.864 Q224.533 221.114 227.588 216.531 Q230.667 211.924 236.477 211.924 Z\" fill=\"#000000\" fill-rule=\"evenodd\" fill-opacity=\"1\" /><path clip-path=\"url(#clip030)\" d=\"M1099.41 12.096 L1107.6 12.096 L1107.6 72.576 L1099.41 72.576 L1099.41 12.096 Z\" fill=\"#000000\" fill-rule=\"evenodd\" fill-opacity=\"1\" /><path clip-path=\"url(#clip030)\" d=\"M1161.27 45.1919 L1161.27 72.576 L1153.82 72.576 L1153.82 45.4349 Q1153.82 38.994 1151.31 35.7938 Q1148.8 32.5936 1143.77 32.5936 Q1137.74 32.5936 1134.25 36.4419 Q1130.77 40.2903 1130.77 46.9338 L1130.77 72.576 L1123.27 72.576 L1123.27 27.2059 L1130.77 27.2059 L1130.77 34.2544 Q1133.44 30.163 1137.05 28.1376 Q1140.69 26.1121 1145.43 26.1121 Q1153.25 26.1121 1157.26 30.9732 Q1161.27 35.7938 1161.27 45.1919 Z\" fill=\"#000000\" fill-rule=\"evenodd\" fill-opacity=\"1\" /><path clip-path=\"url(#clip030)\" d=\"M1176.14 27.2059 L1183.59 27.2059 L1183.59 72.576 L1176.14 72.576 L1176.14 27.2059 M1176.14 9.54393 L1183.59 9.54393 L1183.59 18.9825 L1176.14 18.9825 L1176.14 9.54393 Z\" fill=\"#000000\" fill-rule=\"evenodd\" fill-opacity=\"1\" /><path clip-path=\"url(#clip030)\" d=\"M1206.56 14.324 L1206.56 27.2059 L1221.91 27.2059 L1221.91 32.9987 L1206.56 32.9987 L1206.56 57.6282 Q1206.56 63.1779 1208.06 64.7578 Q1209.6 66.3376 1214.26 66.3376 L1221.91 66.3376 L1221.91 72.576 L1214.26 72.576 Q1205.63 72.576 1202.35 69.3758 Q1199.07 66.1351 1199.07 57.6282 L1199.07 32.9987 L1193.6 32.9987 L1193.6 27.2059 L1199.07 27.2059 L1199.07 14.324 L1206.56 14.324 Z\" fill=\"#000000\" fill-rule=\"evenodd\" fill-opacity=\"1\" /><path clip-path=\"url(#clip030)\" d=\"M1231.72 27.2059 L1239.17 27.2059 L1239.17 72.576 L1231.72 72.576 L1231.72 27.2059 M1231.72 9.54393 L1239.17 9.54393 L1239.17 18.9825 L1231.72 18.9825 L1231.72 9.54393 Z\" fill=\"#000000\" fill-rule=\"evenodd\" fill-opacity=\"1\" /><path clip-path=\"url(#clip030)\" d=\"M1275.39 49.7694 Q1266.35 49.7694 1262.87 51.8354 Q1259.38 53.9013 1259.38 58.8839 Q1259.38 62.8538 1261.98 65.2034 Q1264.61 67.5124 1269.11 67.5124 Q1275.3 67.5124 1279.03 63.1374 Q1282.8 58.7219 1282.8 51.4303 L1282.8 49.7694 L1275.39 49.7694 M1290.25 46.6907 L1290.25 72.576 L1282.8 72.576 L1282.8 65.6895 Q1280.25 69.8214 1276.44 71.8063 Q1272.63 73.7508 1267.12 73.7508 Q1260.15 73.7508 1256.02 69.8619 Q1251.93 65.9325 1251.93 59.3701 Q1251.93 51.7138 1257.04 47.825 Q1262.18 43.9361 1272.35 43.9361 L1282.8 43.9361 L1282.8 43.2069 Q1282.8 38.0623 1279.4 35.2672 Q1276.03 32.4315 1269.92 32.4315 Q1266.03 32.4315 1262.34 33.3632 Q1258.66 34.295 1255.25 36.1584 L1255.25 29.2718 Q1259.34 27.692 1263.19 26.9223 Q1267.04 26.1121 1270.69 26.1121 Q1280.53 26.1121 1285.39 31.2163 Q1290.25 36.3204 1290.25 46.6907 Z\" fill=\"#000000\" fill-rule=\"evenodd\" fill-opacity=\"1\" /><path clip-path=\"url(#clip030)\" d=\"M1305.61 9.54393 L1313.06 9.54393 L1313.06 72.576 L1305.61 72.576 L1305.61 9.54393 Z\" fill=\"#000000\" fill-rule=\"evenodd\" fill-opacity=\"1\" /><path clip-path=\"url(#clip030)\" d=\"M1363.53 18.8205 L1363.53 65.8515 L1373.42 65.8515 Q1385.94 65.8515 1391.73 60.1802 Q1397.56 54.509 1397.56 42.2752 Q1397.56 30.1225 1391.73 24.4918 Q1385.94 18.8205 1373.42 18.8205 L1363.53 18.8205 M1355.35 12.096 L1372.16 12.096 Q1389.74 12.096 1397.97 19.4281 Q1406.19 26.7198 1406.19 42.2752 Q1406.19 57.9117 1397.93 65.2439 Q1389.66 72.576 1372.16 72.576 L1355.35 72.576 L1355.35 12.096 Z\" fill=\"#000000\" fill-rule=\"evenodd\" fill-opacity=\"1\" /><path clip-path=\"url(#clip030)\" d=\"M1439.53 49.7694 Q1430.49 49.7694 1427.01 51.8354 Q1423.53 53.9013 1423.53 58.8839 Q1423.53 62.8538 1426.12 65.2034 Q1428.75 67.5124 1433.25 67.5124 Q1439.45 67.5124 1443.17 63.1374 Q1446.94 58.7219 1446.94 51.4303 L1446.94 49.7694 L1439.53 49.7694 M1454.4 46.6907 L1454.4 72.576 L1446.94 72.576 L1446.94 65.6895 Q1444.39 69.8214 1440.58 71.8063 Q1436.77 73.7508 1431.26 73.7508 Q1424.3 73.7508 1420.17 69.8619 Q1416.07 65.9325 1416.07 59.3701 Q1416.07 51.7138 1421.18 47.825 Q1426.32 43.9361 1436.49 43.9361 L1446.94 43.9361 L1446.94 43.2069 Q1446.94 38.0623 1443.54 35.2672 Q1440.18 32.4315 1434.06 32.4315 Q1430.17 32.4315 1426.48 33.3632 Q1422.8 34.295 1419.4 36.1584 L1419.4 29.2718 Q1423.49 27.692 1427.34 26.9223 Q1431.18 26.1121 1434.83 26.1121 Q1444.67 26.1121 1449.53 31.2163 Q1454.4 36.3204 1454.4 46.6907 Z\" fill=\"#000000\" fill-rule=\"evenodd\" fill-opacity=\"1\" /><path clip-path=\"url(#clip030)\" d=\"M1477.12 14.324 L1477.12 27.2059 L1492.47 27.2059 L1492.47 32.9987 L1477.12 32.9987 L1477.12 57.6282 Q1477.12 63.1779 1478.62 64.7578 Q1480.16 66.3376 1484.82 66.3376 L1492.47 66.3376 L1492.47 72.576 L1484.82 72.576 Q1476.19 72.576 1472.91 69.3758 Q1469.63 66.1351 1469.63 57.6282 L1469.63 32.9987 L1464.16 32.9987 L1464.16 27.2059 L1469.63 27.2059 L1469.63 14.324 L1477.12 14.324 Z\" fill=\"#000000\" fill-rule=\"evenodd\" fill-opacity=\"1\" /><path clip-path=\"url(#clip030)\" d=\"M1522.9 49.7694 Q1513.86 49.7694 1510.38 51.8354 Q1506.9 53.9013 1506.9 58.8839 Q1506.9 62.8538 1509.49 65.2034 Q1512.12 67.5124 1516.62 67.5124 Q1522.82 67.5124 1526.54 63.1374 Q1530.31 58.7219 1530.31 51.4303 L1530.31 49.7694 L1522.9 49.7694 M1537.76 46.6907 L1537.76 72.576 L1530.31 72.576 L1530.31 65.6895 Q1527.76 69.8214 1523.95 71.8063 Q1520.14 73.7508 1514.63 73.7508 Q1507.66 73.7508 1503.53 69.8619 Q1499.44 65.9325 1499.44 59.3701 Q1499.44 51.7138 1504.55 47.825 Q1509.69 43.9361 1519.86 43.9361 L1530.31 43.9361 L1530.31 43.2069 Q1530.31 38.0623 1526.91 35.2672 Q1523.54 32.4315 1517.43 32.4315 Q1513.54 32.4315 1509.85 33.3632 Q1506.17 34.295 1502.76 36.1584 L1502.76 29.2718 Q1506.85 27.692 1510.7 26.9223 Q1514.55 26.1121 1518.2 26.1121 Q1528.04 26.1121 1532.9 31.2163 Q1537.76 36.3204 1537.76 46.6907 Z\" fill=\"#000000\" fill-rule=\"evenodd\" fill-opacity=\"1\" /><polyline clip-path=\"url(#clip032)\" style=\"stroke:#009af9; stroke-linecap:round; stroke-linejoin:round; stroke-width:4; stroke-opacity:1; fill:none\" points=\"284.422,629.901 284.43,629.901 284.437,629.901 284.445,629.901 284.453,629.901 284.516,629.901 284.58,629.901 284.643,629.901 284.706,629.901 284.832,629.901 284.958,629.901 285.085,629.901 285.211,629.901 285.4,629.901 285.59,629.901 285.779,629.901 285.969,629.9 286.221,629.9 286.474,629.9 286.726,629.9 286.979,629.899 287.294,629.899 287.609,629.898 287.925,629.898 288.24,629.897 288.619,629.896 288.997,629.895 289.376,629.894 289.754,629.893 290.195,629.892 290.636,629.89 291.078,629.889 291.519,629.887 292.023,629.885 292.527,629.882 293.031,629.88 293.535,629.877 294.101,629.874 294.668,629.871 295.234,629.868 295.801,629.864 296.43,629.86 297.059,629.855 297.688,629.85 298.317,629.846 299.008,629.84 299.7,629.834 300.391,629.827 301.082,629.821 301.836,629.813 302.589,629.805 303.343,629.797 304.096,629.788 304.912,629.779 305.727,629.768 306.543,629.758 307.358,629.747 308.235,629.735 309.112,629.722 309.99,629.708 310.867,629.695 311.805,629.679 312.744,629.663 313.683,629.647 314.622,629.63 315.622,629.611 316.622,629.592 317.622,629.572 318.622,629.551 319.683,629.528 320.744,629.505 321.805,629.48 322.866,629.455 323.988,629.428 325.11,629.4 326.232,629.371 327.354,629.341 328.536,629.308 329.719,629.275 330.901,629.24 332.084,629.205 333.326,629.166 334.569,629.127 335.812,629.086 337.055,629.045 338.357,629 339.66,628.954 340.962,628.907 342.265,628.858 343.627,628.806 344.99,628.752 346.352,628.698 347.714,628.641 349.136,628.581 350.557,628.52 351.979,628.457 353.4,628.392 354.881,628.323 356.362,628.252 357.842,628.18 359.323,628.106 360.862,628.028 362.401,627.947 363.94,627.865 365.479,627.781 367.076,627.692 368.674,627.6 370.271,627.507 371.868,627.412 373.523,627.311 375.178,627.209 376.834,627.104 378.489,626.996 380.201,626.883 381.914,626.768 383.626,626.65 385.339,626.53 387.108,626.404 388.878,626.275 390.647,626.144 392.417,626.01 394.243,625.869 396.069,625.726 397.895,625.58 399.721,625.431 401.603,625.275 403.486,625.117 405.368,624.955 407.25,624.791 409.188,624.619 411.126,624.445 413.064,624.267 415.002,624.086 416.995,623.897 418.988,623.706 420.981,623.511 422.974,623.313 425.021,623.107 427.069,622.897 429.117,622.685 431.165,622.469 433.267,622.245 435.369,622.017 437.471,621.786 439.573,621.552 441.728,621.309 443.884,621.062 446.039,620.813 448.195,620.56 450.404,620.298 452.613,620.032 454.821,619.764 457.03,619.492 459.292,619.211 461.553,618.926 463.814,618.639 466.076,618.348 468.389,618.048 470.703,617.745 473.016,617.438 475.33,617.129 477.695,616.81 480.059,616.489 482.424,616.164 484.789,615.838 487.205,615.501 489.621,615.162 492.037,614.82 494.453,614.477 496.919,614.123 499.385,613.768 501.852,613.411 504.318,613.052 506.834,612.684 509.35,612.314 511.866,611.943 514.382,611.57 516.947,611.189 519.512,610.808 522.077,610.425 524.642,610.042 527.255,609.651 529.869,609.259 532.482,608.868 535.096,608.477 537.757,608.079 540.419,607.682 543.08,607.286 545.742,606.891 548.45,606.49 551.159,606.091 553.867,605.694 556.576,605.299 559.331,604.9 562.086,604.504 564.841,604.112 567.596,603.722 570.397,603.331 573.198,602.943 575.999,602.56 578.8,602.183 581.647,601.804 584.493,601.432 587.339,601.065 590.185,600.706 593.076,600.347 595.966,599.997 598.857,599.654 601.748,599.32 604.682,598.989 607.617,598.668 610.551,598.357 613.486,598.056 616.463,597.762 619.441,597.479 622.418,597.208 625.396,596.949 628.415,596.7 631.435,596.464 634.455,596.242 637.475,596.034 640.536,595.839 643.598,595.66 646.659,595.497 649.721,595.351 652.823,595.22 655.925,595.107 659.027,595.012 662.13,594.937 665.272,594.88 668.414,594.843 671.557,594.827 674.699,594.832 677.881,594.859 681.063,594.908 684.244,594.98 687.426,595.075 690.646,595.195 693.866,595.339 697.087,595.508 700.307,595.702 703.565,595.924 706.823,596.173 710.081,596.447 713.339,596.748 716.634,597.08 719.929,597.439 723.224,597.826 726.519,598.241 729.85,598.688 733.181,599.164 736.512,599.669 739.843,600.202 743.21,600.769 746.576,601.366 749.943,601.991 753.309,602.645 756.71,603.335 760.111,604.053 763.512,604.8 766.913,605.575 770.348,606.386 773.782,607.224 777.217,608.09 780.652,608.983 784.119,609.91 787.587,610.864 791.054,611.843 794.522,612.846 798.021,613.883 801.521,614.943 805.021,616.026 808.52,617.13 812.051,618.265 815.581,619.419 819.112,620.592 822.643,621.782 826.204,622.999 829.765,624.231 833.326,625.476 836.887,626.734 840.477,628.014 844.068,629.303 847.658,630.6 851.248,631.903 854.867,633.222 858.486,634.544 862.105,635.868 865.724,637.191 869.371,638.522 873.017,639.85 876.664,641.171 880.31,642.486 883.984,643.8 887.657,645.103 891.331,646.392 895.004,647.667 898.703,648.933 902.402,650.18 906.102,651.405 909.801,652.608 913.525,653.793 917.249,654.951 920.973,656.081 924.698,657.18 928.446,658.253 932.194,659.291 935.942,660.294 939.691,661.259 943.462,662.189 947.233,663.079 951.005,663.926 954.776,664.73 958.57,665.492 962.363,666.208 966.157,666.876 969.951,667.495 973.765,668.067 977.58,668.589 981.395,669.059 985.21,669.477 989.045,669.844 992.881,670.158 996.716,670.419 1000.55,670.626 1004.41,670.78 1008.26,670.881 1012.12,670.929 1015.97,670.924 1019.84,670.866 1023.72,670.757 1027.59,670.596 1031.46,670.386 1035.35,670.125 1039.24,669.816 1043.13,669.461 1047.03,669.06 1050.93,668.614 1054.84,668.126 1058.75,667.597 1062.65,667.029 1066.58,666.423 1070.5,665.781 1074.42,665.107 1078.35,664.402 1082.28,663.667 1086.22,662.905 1090.16,662.119 1094.1,661.312 1098.05,660.483 1102,659.637 1105.95,658.776 1109.9,657.904 1113.87,657.019 1117.83,656.128 1121.79,655.231 1125.76,654.331 1129.73,653.429 1133.71,652.528 1137.69,651.631 1141.66,650.74 1145.65,649.855 1149.63,648.979 1153.62,648.115 1157.61,647.265 1161.6,646.427 1165.6,645.606 1169.6,644.802 1173.59,644.018 1177.6,643.253 1181.6,642.508 1185.61,641.786 1189.61,641.087 1193.63,640.41 1197.64,639.758 1201.65,639.13 1205.67,638.527 1209.69,637.949 1213.71,637.395 1217.73,636.868 1221.75,636.365 1225.77,635.887 1229.8,635.434 1233.83,635.006 1237.85,634.601 1241.88,634.22 1245.91,633.861 1249.94,633.525 1253.98,633.211 1258.01,632.917 1262.05,632.644 1266.08,632.389 1270.12,632.154 1274.15,631.936 1278.19,631.735 1282.23,631.55 1286.27,631.38 1290.31,631.225 1294.35,631.083 1298.39,630.953 1302.43,630.836 1306.47,630.729 1310.51,630.633 1314.55,630.546 1318.59,630.468 1322.63,630.398 1326.67,630.336 1330.71,630.28 1334.75,630.23 1338.79,630.187 1342.83,630.148 1346.87,630.114 1350.91,630.084 1354.95,630.057 1358.99,630.035 1363.02,630.015 1367.06,629.997 1371.1,629.983 1375.13,629.97 1379.17,629.959 1383.2,629.949 1387.23,629.941 1391.26,629.935 1395.29,629.929 1399.33,629.924 1403.35,629.92 1407.38,629.916 1411.4,629.914 1415.43,629.911 1419.45,629.909 1423.47,629.908 1427.49,629.906 1431.51,629.905 1435.52,629.905 1439.54,629.904 1443.55,629.903 1447.56,629.903 1451.57,629.902 1455.57,629.902 1459.58,629.902 1463.58,629.902 1467.58,629.902 1471.58,629.902 1475.57,629.901 1479.57,629.901 1483.56,629.901 1487.54,629.901 1491.53,629.901 1495.52,629.901 1499.49,629.901 1503.47,629.901 1507.44,629.901 1511.42,629.901 1515.38,629.901 1519.35,629.901 1523.31,629.901 1527.28,629.901 1531.23,629.901 1535.18,629.901 1539.13,629.901 1543.08,629.901 1547.02,629.901 1550.96,629.901 1554.89,629.901 1558.83,629.901 1562.75,629.901 1566.68,629.901 1570.6,629.901 1574.52,629.901 1578.43,629.901 1582.34,629.901 1586.24,629.901 1590.15,629.901 1594.04,629.901 1597.93,629.901 1601.82,629.901 1605.71,629.901 1609.59,629.901 1613.46,629.901 1617.33,629.901 1621.21,629.901 1625.06,629.901 1628.92,629.901 1632.77,629.901 1636.63,629.901 1640.46,629.901 1644.3,629.901 1648.13,629.901 1651.97,629.901 1655.78,629.901 1659.6,629.901 1663.41,629.901 1667.23,629.901 1671.02,629.901 1674.81,629.901 1678.61,629.901 1682.4,629.901 1686.17,629.901 1689.94,629.901 1693.72,629.901 1697.49,629.901 1701.24,629.901 1704.98,629.901 1708.73,629.901 1712.48,629.901 1716.2,629.901 1719.93,629.901 1723.65,629.901 1727.38,629.901 1731.08,629.901 1734.78,629.901 1738.47,629.901 1742.17,629.901 1745.85,629.901 1749.52,629.901 1753.19,629.901 1756.87,629.901 1760.51,629.901 1764.16,629.901 1767.81,629.901 1771.45,629.901 1775.07,629.901 1778.69,629.901 1782.31,629.901 1785.93,629.901 1789.52,629.901 1793.11,629.901 1796.7,629.901 1800.29,629.901 1803.85,629.901 1807.41,629.901 1810.97,629.901 1814.53,629.901 1818.07,629.901 1821.6,629.901 1825.13,629.901 1828.66,629.901 1832.16,629.901 1835.66,629.901 1839.16,629.901 1842.66,629.901 1846.12,629.901 1849.59,629.901 1853.06,629.901 1856.53,629.901 1859.96,629.901 1863.4,629.901 1866.83,629.901 1870.26,629.901 1873.67,629.901 1877.07,629.901 1880.47,629.901 1883.87,629.901 1887.23,629.901 1890.6,629.901 1893.97,629.901 1897.33,629.901 1900.67,629.901 1904,629.901 1907.33,629.901 1910.66,629.901 1913.95,629.901 1917.25,629.901 1920.54,629.901 1923.84,629.901 1927.1,629.901 1930.35,629.901 1933.61,629.901 1936.87,629.901 1940.09,629.901 1943.31,629.901 1946.53,629.901 1949.75,629.901 1952.93,629.901 1956.11,629.901 1959.3,629.901 1962.48,629.901 1965.62,629.901 1968.76,629.901 1971.91,629.901 1975.05,629.901 1978.15,629.901 1981.25,629.901 1984.35,629.901 1987.46,629.901 1990.52,629.901 1993.58,629.901 1996.64,629.901 1999.7,629.901 2002.72,629.901 2005.74,629.901 2008.76,629.901 2011.78,629.901 2014.76,629.901 2017.74,629.901 2020.71,629.901 2023.69,629.901 2026.63,629.901 2029.56,629.901 2032.5,629.901 2035.43,629.901 2038.32,629.901 2041.21,629.901 2044.1,629.901 2046.99,629.901 2049.84,629.901 2052.68,629.901 2055.53,629.901 2058.38,629.901 2061.18,629.901 2063.98,629.901 2066.78,629.901 2069.58,629.901 2072.34,629.901 2075.09,629.901 2077.85,629.901 2080.6,629.901 2083.31,629.901 2086.02,629.901 2088.73,629.901 2091.44,629.901 2094.1,629.901 2096.76,629.901 2099.42,629.901 2102.08,629.901 2104.7,629.901 2107.31,629.901 2109.92,629.901 2112.54,629.901 2115.1,629.901 2117.67,629.901 2120.23,629.901 2122.8,629.901 2125.31,629.901 2127.83,629.901 2130.34,629.901 2132.86,629.901 2135.33,629.901 2137.79,629.901 2140.26,629.901 2142.72,629.901 2145.14,629.901 2147.56,629.901 2149.97,629.901 2152.39,629.901 2154.75,629.901 2157.12,629.901 2159.48,629.901 2161.85,629.901 2164.16,629.901 2166.47,629.901 2168.79,629.901 2171.1,629.901 2173.36,629.901 2175.62,629.901 2177.89,629.901 2180.15,629.901 2182.36,629.901 2184.56,629.901 2186.77,629.901 2188.98,629.901 2191.14,629.901 2193.29,629.901 2195.45,629.901 2197.61,629.901 2199.71,629.901 2201.81,629.901 2203.91,629.901 2206.01,629.901 2208.06,629.901 2210.11,629.901 2212.16,629.901 2214.2,629.901 2216.2,629.901 2218.19,629.901 2220.18,629.901 2222.18,629.901 2224.11,629.901 2226.05,629.901 2227.99,629.901 2229.93,629.901 2231.81,629.901 2233.69,629.901 2235.57,629.901 2237.46,629.901 2239.28,629.901 2241.11,629.901 2242.93,629.901 2244.76,629.901 2246.53,629.901 2248.3,629.901 2250.07,629.901 2251.84,629.901 2253.55,629.901 2255.26,629.901 2256.98,629.901 2258.69,629.901 2260.34,629.901 2262,629.901 2263.65,629.901 2265.31,629.901 2266.91,629.901 2268.5,629.901 2270.1,629.901 2271.7,629.901 2273.24,629.901 2274.78,629.901 2276.32,629.901 2277.85,629.901 2279.34,629.901 2280.82,629.901 2282.3,629.901 2283.78,629.901 2285.2,629.901 2286.62,629.901 2288.04,629.901 2289.46,629.901 2290.83,629.901 2292.19,629.901 2293.55,629.901 2294.91,629.901 2296.22,629.901 2297.52,629.901 2298.82,629.901 2300.12,629.901 2301.37,629.901 2302.61,629.901 2303.85,629.901 2305.09,629.901 2306.28,629.901 2307.46,629.901 2308.64,629.901 2309.82,629.901 2310.95,629.901 2312.07,629.901 2313.19,629.901 2314.31,629.901 2315.37,629.901 2316.43,629.901 2317.49,629.901 2318.56,629.901 2319.56,629.901 2320.56,629.901 2321.56,629.901 2322.56,629.901 2323.49,629.901 2324.43,629.901 2325.37,629.901 2326.31,629.901 2327.19,629.901 2328.07,629.901 2328.94,629.901 2329.82,629.901 2330.63,629.901 2331.45,629.901 2332.27,629.901 2333.08,629.901 2333.83,629.901 2334.59,629.901 2335.34,629.901 2336.1,629.901 2336.79,629.901 2337.48,629.901 2338.17,629.901 2338.86,629.901 2339.49,629.901 2340.12,629.901 2340.75,629.901 2341.38,629.901 2341.94,629.901 2342.51,629.901 2343.08,629.901 2343.64,629.901 2344.15,629.901 2344.65,629.901 2345.15,629.901 2345.66,629.901 2346.1,629.901 2346.54,629.901 2346.98,629.901 2347.42,629.901 2347.8,629.901 2348.18,629.901 2348.56,629.901 2348.94,629.901 2349.25,629.901 2349.57,629.901 2349.88,629.901 2350.2,629.901 2350.45,629.901 2350.7,629.901 2350.96,629.901 2351.21,629.901 2351.4,629.901 2351.59,629.901 2351.78,629.901 2351.97,629.901 2352.09,629.901 2352.22,629.901 2352.35,629.901 2352.47,629.901 \"/>\n",
       "<polyline clip-path=\"url(#clip032)\" style=\"stroke:#e26f46; stroke-linecap:round; stroke-linejoin:round; stroke-width:4; stroke-opacity:1; fill:none\" points=\"284.422,629.901 284.43,629.892 284.437,629.883 284.445,629.874 284.453,629.865 284.516,629.791 284.58,629.718 284.643,629.645 284.706,629.571 284.832,629.425 284.958,629.278 285.085,629.131 285.211,628.984 285.4,628.763 285.59,628.542 285.779,628.321 285.969,628.099 286.221,627.803 286.474,627.507 286.726,627.211 286.979,626.913 287.294,626.542 287.609,626.169 287.925,625.796 288.24,625.422 288.619,624.972 288.997,624.522 289.376,624.07 289.754,623.617 290.195,623.088 290.636,622.558 291.078,622.026 291.519,621.493 292.023,620.882 292.527,620.27 293.031,619.656 293.535,619.04 294.101,618.345 294.668,617.648 295.234,616.949 295.801,616.248 296.43,615.467 297.059,614.683 297.688,613.896 298.317,613.106 299.008,612.236 299.7,611.362 300.391,610.485 301.082,609.604 301.836,608.641 302.589,607.674 303.343,606.703 304.096,605.728 304.912,604.669 305.727,603.606 306.543,602.538 307.358,601.466 308.235,600.308 309.112,599.144 309.99,597.976 310.867,596.803 311.805,595.543 312.744,594.276 313.683,593.005 314.622,591.727 315.622,590.361 316.622,588.988 317.622,587.609 318.622,586.224 319.683,584.748 320.744,583.265 321.805,581.775 322.866,580.279 323.988,578.691 325.11,577.095 326.232,575.491 327.354,573.881 328.536,572.177 329.719,570.465 330.901,568.745 332.084,567.018 333.326,565.195 334.569,563.364 335.812,561.526 337.055,559.679 338.357,557.736 339.66,555.784 340.962,553.824 342.265,551.856 343.627,549.79 344.99,547.716 346.352,545.634 347.714,543.544 349.136,541.354 350.557,539.157 351.979,536.952 353.4,534.739 354.881,532.426 356.362,530.106 357.842,527.778 359.323,525.443 360.862,523.008 362.401,520.566 363.94,518.117 365.479,515.662 367.076,513.107 368.674,510.547 370.271,507.98 371.868,505.408 373.523,502.738 375.178,500.063 376.834,497.383 378.489,494.7 380.201,491.92 381.914,489.137 383.626,486.352 385.339,483.564 387.108,480.682 388.878,477.8 390.647,474.918 392.417,472.036 394.243,469.063 396.069,466.092 397.895,463.124 399.721,460.16 401.603,457.11 403.486,454.065 405.368,451.027 407.25,447.996 409.188,444.885 411.126,441.783 413.064,438.693 415.002,435.614 416.995,432.462 418.988,429.324 420.981,426.203 422.974,423.1 425.021,419.931 427.069,416.782 429.117,413.657 431.165,410.555 433.267,407.398 435.369,404.269 437.471,401.169 439.573,398.101 441.728,394.989 443.884,391.913 446.039,388.875 448.195,385.877 450.404,382.848 452.613,379.865 454.821,376.93 457.03,374.044 459.292,371.143 461.553,368.298 463.814,365.511 466.076,362.785 468.389,360.061 470.703,357.406 473.016,354.82 475.33,352.308 477.695,349.817 480.059,347.408 482.424,345.083 484.789,342.844 487.205,340.648 489.621,338.549 492.037,336.548 494.453,334.648 496.919,332.817 499.385,331.097 501.852,329.491 504.318,328.003 506.834,326.61 509.35,325.345 511.866,324.211 514.382,323.213 516.947,322.338 519.512,321.609 522.077,321.03 524.642,320.605 527.255,320.333 529.869,320.227 532.482,320.29 535.096,320.526 537.757,320.946 540.419,321.553 543.08,322.349 545.742,323.337 548.45,324.544 551.159,325.956 553.867,327.578 556.576,329.412 559.331,331.499 562.086,333.812 564.841,336.354 567.596,339.129 570.397,342.19 573.198,345.497 575.999,349.052 578.8,352.857 581.647,356.984 584.493,361.375 587.339,366.031 590.185,370.956 593.076,376.234 595.966,381.792 598.857,387.631 601.748,393.753 604.682,400.259 607.617,407.057 610.551,414.15 613.486,421.537 616.463,429.334 619.441,437.433 622.418,445.834 625.396,454.537 628.415,463.67 631.435,473.111 634.455,482.856 637.475,492.905 640.536,503.399 643.598,514.198 646.659,525.298 649.721,536.697 652.823,548.547 655.925,560.693 659.027,573.13 662.13,585.851 665.272,599.02 668.414,612.467 671.557,626.185 674.699,640.164 677.881,654.577 681.063,669.24 684.244,684.143 687.426,699.275 690.646,714.812 693.866,730.559 697.087,746.506 700.307,762.636 703.565,779.13 706.823,795.783 710.081,812.58 713.339,829.505 716.634,846.735 719.929,864.061 723.224,881.464 726.519,898.925 729.85,916.616 733.181,934.327 736.512,952.034 739.843,969.717 743.21,987.54 746.576,1005.29 749.943,1022.95 753.309,1040.49 756.71,1058.06 760.111,1075.45 763.512,1092.65 766.913,1109.62 770.348,1126.5 773.782,1143.1 777.217,1159.39 780.652,1175.33 784.119,1191.05 787.587,1206.37 791.054,1221.25 794.522,1235.67 798.021,1249.72 801.521,1263.25 805.021,1276.21 808.52,1288.59 812.051,1300.45 815.581,1311.66 819.112,1322.19 822.643,1332.01 826.204,1341.16 829.765,1349.55 833.326,1357.13 836.887,1363.89 840.477,1369.85 844.068,1374.93 847.658,1379.1 851.248,1382.35 854.867,1384.68 858.486,1386.03 862.105,1386.4 865.724,1385.76 869.371,1384.09 873.017,1381.39 876.664,1377.64 880.31,1372.84 883.984,1366.94 887.657,1359.96 891.331,1351.92 895.004,1342.8 898.703,1332.56 902.402,1321.24 906.102,1308.87 909.801,1295.46 913.525,1280.92 917.249,1265.37 920.973,1248.81 924.698,1231.29 928.446,1212.7 932.194,1193.18 935.942,1172.78 939.691,1151.52 943.462,1129.31 947.233,1106.31 951.005,1082.58 954.776,1058.15 958.57,1032.94 962.363,1007.13 966.157,980.779 969.951,953.944 973.765,926.529 977.58,898.745 981.395,870.655 985.21,842.322 989.045,813.658 992.881,784.883 996.716,756.063 1000.55,727.266 1004.41,698.416 1008.26,669.727 1012.12,641.271 1015.97,613.114 1019.84,585.192 1023.72,557.709 1027.59,530.732 1031.46,504.324 1035.35,478.435 1039.24,453.246 1043.13,428.817 1047.03,405.204 1050.93,382.368 1054.84,360.46 1058.75,339.53 1062.65,319.621 1066.58,300.702 1070.5,282.891 1074.42,266.222 1078.35,250.723 1082.28,236.366 1086.22,223.234 1090.16,211.34 1094.1,200.696 1098.05,191.277 1102,183.124 1105.95,176.232 1109.9,170.595 1113.87,166.187 1117.83,163.009 1121.79,161.041 1125.76,160.256 1129.73,160.626 1133.71,162.12 1137.69,164.699 1141.66,168.321 1145.65,172.954 1149.63,178.542 1153.62,185.032 1157.61,192.37 1161.6,200.52 1165.6,209.408 1169.6,218.974 1173.59,229.156 1177.6,239.918 1181.6,251.174 1185.61,262.863 1189.61,274.922 1193.63,287.314 1197.64,299.954 1201.65,312.785 1205.67,325.746 1209.69,338.805 1213.71,351.884 1217.73,364.933 1221.75,377.901 1225.77,390.762 1229.8,403.451 1233.83,415.929 1237.85,428.158 1241.88,440.119 1245.91,451.765 1249.94,463.07 1253.98,474.01 1258.01,484.573 1262.05,494.733 1266.08,504.475 1270.12,513.789 1274.15,522.673 1278.19,531.117 1282.23,539.118 1286.27,546.677 1290.31,553.8 1294.35,560.491 1298.39,566.756 1302.43,572.606 1306.47,578.052 1310.51,583.106 1314.55,587.783 1318.59,592.096 1322.63,596.063 1326.67,599.7 1330.71,603.023 1334.75,606.051 1338.79,608.8 1342.83,611.288 1346.87,613.534 1350.91,615.553 1354.95,617.362 1358.99,618.978 1363.02,620.417 1367.06,621.694 1371.1,622.822 1375.13,623.816 1379.17,624.689 1383.2,625.452 1387.23,626.117 1391.26,626.694 1395.29,627.193 1399.33,627.623 1403.35,627.992 1407.38,628.307 1411.4,628.576 1415.43,628.804 1419.45,628.996 1423.47,629.158 1427.49,629.293 1431.51,629.406 1435.52,629.5 1439.54,629.577 1443.55,629.641 1447.56,629.693 1451.57,629.735 1455.57,629.77 1459.58,629.797 1463.58,629.82 1467.58,629.838 1471.58,629.852 1475.57,629.863 1479.57,629.872 1483.56,629.879 1487.54,629.884 1491.53,629.888 1495.52,629.891 1499.49,629.894 1503.47,629.896 1507.44,629.897 1511.42,629.898 1515.38,629.899 1519.35,629.9 1523.31,629.9 1527.28,629.9 1531.23,629.901 1535.18,629.901 1539.13,629.901 1543.08,629.901 1547.02,629.901 1550.96,629.901 1554.89,629.901 1558.83,629.901 1562.75,629.901 1566.68,629.901 1570.6,629.901 1574.52,629.901 1578.43,629.901 1582.34,629.901 1586.24,629.901 1590.15,629.901 1594.04,629.901 1597.93,629.901 1601.82,629.901 1605.71,629.901 1609.59,629.901 1613.46,629.901 1617.33,629.901 1621.21,629.901 1625.06,629.901 1628.92,629.901 1632.77,629.901 1636.63,629.901 1640.46,629.901 1644.3,629.901 1648.13,629.901 1651.97,629.901 1655.78,629.901 1659.6,629.901 1663.41,629.901 1667.23,629.901 1671.02,629.901 1674.81,629.901 1678.61,629.901 1682.4,629.901 1686.17,629.901 1689.94,629.901 1693.72,629.901 1697.49,629.901 1701.24,629.901 1704.98,629.901 1708.73,629.901 1712.48,629.901 1716.2,629.901 1719.93,629.901 1723.65,629.901 1727.38,629.901 1731.08,629.901 1734.78,629.901 1738.47,629.901 1742.17,629.901 1745.85,629.901 1749.52,629.901 1753.19,629.901 1756.87,629.901 1760.51,629.901 1764.16,629.901 1767.81,629.901 1771.45,629.901 1775.07,629.901 1778.69,629.901 1782.31,629.901 1785.93,629.901 1789.52,629.901 1793.11,629.901 1796.7,629.901 1800.29,629.901 1803.85,629.901 1807.41,629.901 1810.97,629.901 1814.53,629.901 1818.07,629.901 1821.6,629.901 1825.13,629.901 1828.66,629.901 1832.16,629.901 1835.66,629.901 1839.16,629.901 1842.66,629.901 1846.12,629.901 1849.59,629.901 1853.06,629.901 1856.53,629.901 1859.96,629.901 1863.4,629.901 1866.83,629.901 1870.26,629.901 1873.67,629.901 1877.07,629.901 1880.47,629.901 1883.87,629.901 1887.23,629.901 1890.6,629.901 1893.97,629.901 1897.33,629.901 1900.67,629.901 1904,629.901 1907.33,629.901 1910.66,629.901 1913.95,629.901 1917.25,629.901 1920.54,629.901 1923.84,629.901 1927.1,629.901 1930.35,629.901 1933.61,629.901 1936.87,629.901 1940.09,629.901 1943.31,629.901 1946.53,629.901 1949.75,629.901 1952.93,629.901 1956.11,629.901 1959.3,629.901 1962.48,629.901 1965.62,629.901 1968.76,629.901 1971.91,629.901 1975.05,629.901 1978.15,629.901 1981.25,629.901 1984.35,629.901 1987.46,629.901 1990.52,629.901 1993.58,629.901 1996.64,629.901 1999.7,629.901 2002.72,629.901 2005.74,629.901 2008.76,629.901 2011.78,629.901 2014.76,629.901 2017.74,629.901 2020.71,629.901 2023.69,629.901 2026.63,629.901 2029.56,629.901 2032.5,629.901 2035.43,629.901 2038.32,629.901 2041.21,629.901 2044.1,629.901 2046.99,629.901 2049.84,629.901 2052.68,629.901 2055.53,629.901 2058.38,629.901 2061.18,629.901 2063.98,629.901 2066.78,629.901 2069.58,629.901 2072.34,629.901 2075.09,629.901 2077.85,629.901 2080.6,629.901 2083.31,629.901 2086.02,629.901 2088.73,629.901 2091.44,629.901 2094.1,629.901 2096.76,629.901 2099.42,629.901 2102.08,629.901 2104.7,629.901 2107.31,629.901 2109.92,629.901 2112.54,629.901 2115.1,629.901 2117.67,629.901 2120.23,629.901 2122.8,629.901 2125.31,629.901 2127.83,629.901 2130.34,629.901 2132.86,629.901 2135.33,629.901 2137.79,629.901 2140.26,629.901 2142.72,629.901 2145.14,629.901 2147.56,629.901 2149.97,629.901 2152.39,629.901 2154.75,629.901 2157.12,629.901 2159.48,629.901 2161.85,629.901 2164.16,629.901 2166.47,629.901 2168.79,629.901 2171.1,629.901 2173.36,629.901 2175.62,629.901 2177.89,629.901 2180.15,629.901 2182.36,629.901 2184.56,629.901 2186.77,629.901 2188.98,629.901 2191.14,629.901 2193.29,629.901 2195.45,629.901 2197.61,629.901 2199.71,629.901 2201.81,629.901 2203.91,629.901 2206.01,629.901 2208.06,629.901 2210.11,629.901 2212.16,629.901 2214.2,629.901 2216.2,629.901 2218.19,629.901 2220.18,629.901 2222.18,629.901 2224.11,629.901 2226.05,629.901 2227.99,629.901 2229.93,629.901 2231.81,629.901 2233.69,629.901 2235.57,629.901 2237.46,629.901 2239.28,629.901 2241.11,629.901 2242.93,629.901 2244.76,629.901 2246.53,629.901 2248.3,629.901 2250.07,629.901 2251.84,629.901 2253.55,629.901 2255.26,629.901 2256.98,629.901 2258.69,629.901 2260.34,629.901 2262,629.901 2263.65,629.901 2265.31,629.901 2266.91,629.901 2268.5,629.901 2270.1,629.901 2271.7,629.901 2273.24,629.901 2274.78,629.901 2276.32,629.901 2277.85,629.901 2279.34,629.901 2280.82,629.901 2282.3,629.901 2283.78,629.901 2285.2,629.901 2286.62,629.901 2288.04,629.901 2289.46,629.901 2290.83,629.901 2292.19,629.901 2293.55,629.901 2294.91,629.901 2296.22,629.901 2297.52,629.901 2298.82,629.901 2300.12,629.901 2301.37,629.901 2302.61,629.901 2303.85,629.901 2305.09,629.901 2306.28,629.901 2307.46,629.901 2308.64,629.901 2309.82,629.901 2310.95,629.901 2312.07,629.901 2313.19,629.901 2314.31,629.901 2315.37,629.901 2316.43,629.901 2317.49,629.901 2318.56,629.901 2319.56,629.901 2320.56,629.901 2321.56,629.901 2322.56,629.901 2323.49,629.901 2324.43,629.901 2325.37,629.901 2326.31,629.901 2327.19,629.901 2328.07,629.901 2328.94,629.901 2329.82,629.901 2330.63,629.901 2331.45,629.901 2332.27,629.901 2333.08,629.901 2333.83,629.901 2334.59,629.901 2335.34,629.901 2336.1,629.901 2336.79,629.901 2337.48,629.901 2338.17,629.901 2338.86,629.901 2339.49,629.901 2340.12,629.901 2340.75,629.901 2341.38,629.901 2341.94,629.901 2342.51,629.901 2343.08,629.901 2343.64,629.901 2344.15,629.901 2344.65,629.901 2345.15,629.901 2345.66,629.901 2346.1,629.901 2346.54,629.901 2346.98,629.901 2347.42,629.901 2347.8,629.901 2348.18,629.901 2348.56,629.901 2348.94,629.901 2349.25,629.901 2349.57,629.901 2349.88,629.901 2350.2,629.901 2350.45,629.901 2350.7,629.901 2350.96,629.901 2351.21,629.901 2351.4,629.901 2351.59,629.901 2351.78,629.901 2351.97,629.901 2352.09,629.901 2352.22,629.901 2352.35,629.901 2352.47,629.901 \"/>\n",
       "<path clip-path=\"url(#clip030)\" d=\"M1978.69 322.316 L2283.81 322.316 L2283.81 166.796 L1978.69 166.796  Z\" fill=\"#ffffff\" fill-rule=\"evenodd\" fill-opacity=\"1\"/>\n",
       "<polyline clip-path=\"url(#clip030)\" style=\"stroke:#000000; stroke-linecap:round; stroke-linejoin:round; stroke-width:4; stroke-opacity:1; fill:none\" points=\"1978.69,322.316 2283.81,322.316 2283.81,166.796 1978.69,166.796 1978.69,322.316 \"/>\n",
       "<polyline clip-path=\"url(#clip030)\" style=\"stroke:#009af9; stroke-linecap:round; stroke-linejoin:round; stroke-width:4; stroke-opacity:1; fill:none\" points=\"2001.67,218.636 2139.56,218.636 \"/>\n",
       "<path clip-path=\"url(#clip030)\" d=\"M2182.89 214.967 Q2184.49 212.096 2186.71 210.731 Q2188.93 209.365 2191.94 209.365 Q2195.99 209.365 2198.19 212.212 Q2200.39 215.036 2200.39 220.268 L2200.39 235.916 L2196.11 235.916 L2196.11 220.407 Q2196.11 216.68 2194.79 214.874 Q2193.47 213.069 2190.76 213.069 Q2187.45 213.069 2185.53 215.268 Q2183.61 217.467 2183.61 221.263 L2183.61 235.916 L2179.33 235.916 L2179.33 220.407 Q2179.33 216.657 2178.01 214.874 Q2176.69 213.069 2173.93 213.069 Q2170.67 213.069 2168.75 215.291 Q2166.83 217.49 2166.83 221.263 L2166.83 235.916 L2162.54 235.916 L2162.54 209.99 L2166.83 209.99 L2166.83 214.018 Q2168.28 211.633 2170.32 210.499 Q2172.36 209.365 2175.16 209.365 Q2177.98 209.365 2179.95 210.8 Q2181.94 212.235 2182.89 214.967 Z\" fill=\"#000000\" fill-rule=\"evenodd\" fill-opacity=\"1\" /><polyline clip-path=\"url(#clip030)\" style=\"stroke:#e26f46; stroke-linecap:round; stroke-linejoin:round; stroke-width:4; stroke-opacity:1; fill:none\" points=\"2001.67,270.476 2139.56,270.476 \"/>\n",
       "<path clip-path=\"url(#clip030)\" d=\"M2181.32 274.816 Q2181.32 270.117 2179.37 267.455 Q2177.45 264.77 2174.07 264.77 Q2170.69 264.77 2168.75 267.455 Q2166.83 270.117 2166.83 274.816 Q2166.83 279.515 2168.75 282.2 Q2170.69 284.862 2174.07 284.862 Q2177.45 284.862 2179.37 282.2 Q2181.32 279.515 2181.32 274.816 M2166.83 265.765 Q2168.17 263.45 2170.21 262.339 Q2172.27 261.205 2175.11 261.205 Q2179.84 261.205 2182.77 264.955 Q2185.74 268.705 2185.74 274.816 Q2185.74 280.927 2182.77 284.677 Q2179.84 288.427 2175.11 288.427 Q2172.27 288.427 2170.21 287.316 Q2168.17 286.182 2166.83 283.867 L2166.83 287.756 L2162.54 287.756 L2162.54 251.737 L2166.83 251.737 L2166.83 265.765 Z\" fill=\"#000000\" fill-rule=\"evenodd\" fill-opacity=\"1\" /><path clip-path=\"url(#clip030)\" d=\"M2214.97 273.728 L2214.97 275.811 L2195.39 275.811 Q2195.67 280.209 2198.03 282.524 Q2200.41 284.816 2204.65 284.816 Q2207.1 284.816 2209.4 284.214 Q2211.71 283.612 2213.98 282.409 L2213.98 286.436 Q2211.69 287.408 2209.28 287.918 Q2206.87 288.427 2204.4 288.427 Q2198.19 288.427 2194.56 284.816 Q2190.95 281.205 2190.95 275.047 Q2190.95 268.682 2194.37 264.955 Q2197.82 261.205 2203.65 261.205 Q2208.89 261.205 2211.92 264.585 Q2214.97 267.941 2214.97 273.728 M2210.71 272.478 Q2210.67 268.983 2208.75 266.899 Q2206.85 264.816 2203.7 264.816 Q2200.14 264.816 2197.98 266.83 Q2195.85 268.844 2195.53 272.501 L2210.71 272.478 Z\" fill=\"#000000\" fill-rule=\"evenodd\" fill-opacity=\"1\" /><path clip-path=\"url(#clip030)\" d=\"M2226.18 254.469 L2226.18 261.83 L2234.95 261.83 L2234.95 265.14 L2226.18 265.14 L2226.18 279.214 Q2226.18 282.385 2227.03 283.288 Q2227.91 284.191 2230.58 284.191 L2234.95 284.191 L2234.95 287.756 L2230.58 287.756 Q2225.64 287.756 2223.77 285.927 Q2221.89 284.075 2221.89 279.214 L2221.89 265.14 L2218.77 265.14 L2218.77 261.83 L2221.89 261.83 L2221.89 254.469 L2226.18 254.469 Z\" fill=\"#000000\" fill-rule=\"evenodd\" fill-opacity=\"1\" /><path clip-path=\"url(#clip030)\" d=\"M2252.33 274.723 Q2247.17 274.723 2245.18 275.904 Q2243.19 277.084 2243.19 279.932 Q2243.19 282.2 2244.67 283.543 Q2246.18 284.862 2248.75 284.862 Q2252.29 284.862 2254.42 282.362 Q2256.57 279.839 2256.57 275.672 L2256.57 274.723 L2252.33 274.723 M2260.83 272.964 L2260.83 287.756 L2256.57 287.756 L2256.57 283.821 Q2255.11 286.182 2252.94 287.316 Q2250.76 288.427 2247.61 288.427 Q2243.63 288.427 2241.27 286.205 Q2238.93 283.959 2238.93 280.209 Q2238.93 275.834 2241.85 273.612 Q2244.79 271.39 2250.6 271.39 L2256.57 271.39 L2256.57 270.973 Q2256.57 268.034 2254.63 266.436 Q2252.7 264.816 2249.21 264.816 Q2246.99 264.816 2244.88 265.348 Q2242.77 265.881 2240.83 266.946 L2240.83 263.01 Q2243.17 262.108 2245.37 261.668 Q2247.57 261.205 2249.65 261.205 Q2255.27 261.205 2258.05 264.122 Q2260.83 267.038 2260.83 272.964 Z\" fill=\"#000000\" fill-rule=\"evenodd\" fill-opacity=\"1\" /></svg>\n"
      ]
     },
     "execution_count": 812,
     "metadata": {},
     "output_type": "execute_result"
    }
   ],
   "source": [
    "using Plots #showing initial data and the initial status of the horizon finder\n",
    "plot(initX[4:L-3], state_array[4:L-3,4:5], xaxis=\"x\",title=\"Initial Data\", labels=[\"m\" \"beta\" \"psi\" \"psi,x\"],xlim=[0,1])"
   ]
  },
  {
   "cell_type": "markdown",
   "id": "9b444ece",
   "metadata": {
    "papermill": {
     "duration": 0.009161,
     "end_time": "2023-03-28T18:06:25.373170",
     "exception": false,
     "start_time": "2023-03-28T18:06:25.364009",
     "status": "completed"
    },
    "tags": []
   },
   "source": [
    "# Defining the initial state array for the evolution m β Ψ and Ψ,x"
   ]
  },
  {
   "cell_type": "code",
   "execution_count": 810,
   "id": "9902ffab",
   "metadata": {
    "execution": {
     "iopub.execute_input": "2023-03-28T19:06:25.389000Z",
     "iopub.status.busy": "2023-03-28T19:06:25.388000Z",
     "iopub.status.idle": "2023-03-28T19:06:32.710000Z",
     "shell.execute_reply": "2023-03-28T19:06:32.710000Z"
    },
    "papermill": {
     "duration": 7.335269,
     "end_time": "2023-03-28T18:06:32.715990",
     "exception": false,
     "start_time": "2023-03-28T18:06:25.380721",
     "status": "completed"
    },
    "tags": []
   },
   "outputs": [
    {
     "data": {
      "text/plain": [
       "\"/home/rita13santos/Desktop/MSc Thesis/Git/ScalarField/DATA/res3/time_step0.csv\""
      ]
     },
     "execution_count": 810,
     "metadata": {},
     "output_type": "execute_result"
    }
   ],
   "source": [
    "using CSV, Tables\n",
    "#CSV.write(dir*\"/time_step0.csv\", Tables.table(transpose(Matrix(state_array))), writeheader=false)\n",
    "CSV.write(dir*\"/res$res/time_step0.csv\", Tables.table(state_array), writeheader=false)"
   ]
  },
  {
   "cell_type": "code",
   "execution_count": 450,
   "id": "fff1426a",
   "metadata": {
    "execution": {
     "iopub.execute_input": "2023-03-28T19:06:33.154000Z",
     "iopub.status.busy": "2023-03-28T19:06:32.734000Z",
     "iopub.status.idle": "2023-03-28T19:06:33.884000Z",
     "shell.execute_reply": "2023-03-28T19:06:33.884000Z"
    },
    "papermill": {
     "duration": 1.164178,
     "end_time": "2023-03-28T18:06:33.889802",
     "exception": false,
     "start_time": "2023-03-28T18:06:32.725624",
     "status": "completed"
    },
    "tags": []
   },
   "outputs": [
    {
     "data": {
      "text/plain": [
       "\"/home/rita13santos/Desktop/MSc Thesis/Git/ScalarField/DATA/parameters.csv\""
      ]
     },
     "execution_count": 450,
     "metadata": {},
     "output_type": "execute_result"
    }
   ],
   "source": [
    "time=0.0\n",
    "criticality=0.0\n",
    "explode=0.0\n",
    "evol_stats = [criticality A sigma r0 time explode run]\n",
    "monitor_ratio = zeros(L)\n",
    "CSV.write(dir*\"/parameters.csv\", Tables.table(evol_stats), writeheader=true, header=[\"criticality\", \"A\", \"sigma\", \"r0\", \"time\", \"explode\", \"run\"])"
   ]
  },
  {
   "cell_type": "code",
   "execution_count": 451,
   "id": "9e9abd7d",
   "metadata": {},
   "outputs": [
    {
     "name": "stdout",
     "output_type": "stream",
     "text": [
      "1.0\n"
     ]
    }
   ],
   "source": [
    "ginit=dt_scale(initX,state_array[:,1],state_array[:,2],dx)\n",
    "println(update_dt(initX,state_array[:,1],state_array[:,2],dx,ginit)/dt)"
   ]
  },
  {
   "cell_type": "markdown",
   "id": "42e2c73d",
   "metadata": {
    "papermill": {
     "duration": 0.007626,
     "end_time": "2023-03-28T18:06:33.908346",
     "exception": false,
     "start_time": "2023-03-28T18:06:33.900720",
     "status": "completed"
    },
    "tags": []
   },
   "source": [
    " ## Time evolution"
   ]
  },
  {
   "cell_type": "markdown",
   "id": "7da47594",
   "metadata": {
    "papermill": {
     "duration": 0.007471,
     "end_time": "2023-03-28T18:06:33.923805",
     "exception": false,
     "start_time": "2023-03-28T18:06:33.916334",
     "status": "completed"
    },
    "tags": []
   },
   "source": [
    "fixed grid"
   ]
  },
  {
   "cell_type": "code",
   "execution_count": 433,
   "id": "fcb7ae3f",
   "metadata": {
    "execution": {
     "iopub.execute_input": "2023-03-28T19:06:33.940000Z",
     "iopub.status.busy": "2023-03-28T19:06:33.940000Z",
     "iopub.status.idle": "2023-03-28T21:02:19.379000Z",
     "shell.execute_reply": "2023-03-28T21:02:19.378000Z"
    },
    "papermill": {
     "duration": 6945.452732,
     "end_time": "2023-03-28T20:02:19.384591",
     "exception": false,
     "start_time": "2023-03-28T18:06:33.931859",
     "status": "completed"
    },
    "tags": []
   },
   "outputs": [
    {
     "name": "stdout",
     "output_type": "stream",
     "text": [
      "iteration 1 dt is 0.00125, time of iteration is 0.00125\n",
      "iteration 2 dt is 0.00125, time of iteration is 0.0025\n",
      "iteration 3 dt is 0.00125, time of iteration is 0.00375\n",
      "iteration 4 dt is 0.00125, time of iteration is 0.005\n",
      "iteration 5 dt is 0.00125, time of iteration is 0.00625\n",
      "iteration 6 dt is 0.00125, time of iteration is 0.0075\n",
      "iteration 7 dt is 0.00125, time of iteration is 0.00875\n",
      "iteration 8 dt is 0.00125, time of iteration is 0.01\n",
      "iteration 9 dt is 0.00125, time of iteration is 0.01125\n",
      "iteration 10 dt is 0.00125, time of iteration is 0.0125\n",
      "iteration 11 dt is 0.00125, time of iteration is 0.01375\n",
      "iteration 12 dt is 0.00125, time of iteration is 0.015\n",
      "iteration 13 dt is 0.00125, time of iteration is 0.01625\n",
      "iteration 14 dt is 0.00125, time of iteration is 0.0175\n",
      "iteration 15 dt is 0.00125, time of iteration is 0.01875\n",
      "iteration 16 dt is 0.00125, time of iteration is 0.02\n",
      "iteration 17 dt is 0.00125, time of iteration is 0.02125\n",
      "iteration 18 dt is 0.00125, time of iteration is 0.0225\n",
      "iteration 19 dt is 0.00125, time of iteration is 0.02375\n",
      "iteration 20 dt is 0.00125, time of iteration is 0.025\n",
      "iteration 21 dt is 0.00125, time of iteration is 0.02625\n",
      "iteration 22 dt is 0.00125, time of iteration is 0.0275\n",
      "iteration 23 dt is 0.00125, time of iteration is 0.02875\n",
      "iteration 24 dt is 0.00125, time of iteration is 0.03\n",
      "iteration 25 dt is 0.00125, time of iteration is 0.03125\n",
      "iteration 26 dt is 0.00125, time of iteration is 0.0325\n",
      "iteration 27 dt is 0.00125, time of iteration is 0.03375\n",
      "iteration 28 dt is 0.00125, time of iteration is 0.035\n",
      "iteration 29 dt is 0.00125, time of iteration is 0.03625\n",
      "iteration 30 dt is 0.00125, time of iteration is 0.0375\n",
      "iteration 31 dt is 0.00125, time of iteration is 0.03875\n",
      "iteration 32 dt is 0.00125, time of iteration is 0.04\n",
      "iteration 33 dt is 0.00125, time of iteration is 0.04125\n",
      "iteration 34 dt is 0.00125, time of iteration is 0.0425\n",
      "iteration 35 dt is 0.00125, time of iteration is 0.04375\n",
      "iteration 36 dt is 0.00125, time of iteration is 0.045\n",
      "iteration 37 dt is 0.00125, time of iteration is 0.04625\n",
      "iteration 38 dt is 0.00125, time of iteration is 0.0475\n",
      "iteration 39 dt is 0.00125, time of iteration is 0.04875\n",
      "iteration 40 dt is 0.00125, time of iteration is 0.05\n",
      "iteration 41 dt is 0.00125, time of iteration is 0.05125\n",
      "iteration 42 dt is 0.00125, time of iteration is 0.0525\n",
      "iteration 43 dt is 0.00125, time of iteration is 0.05375\n",
      "iteration 44 dt is 0.00125, time of iteration is 0.055\n",
      "iteration 45 dt is 0.00125, time of iteration is 0.05625\n",
      "iteration 46 dt is 0.00125, time of iteration is 0.0575\n",
      "iteration 47 dt is 0.00125, time of iteration is 0.05875\n",
      "iteration 48 dt is 0.00125, time of iteration is 0.06\n",
      "iteration 49 dt is 0.00125, time of iteration is 0.06125\n",
      "iteration 50 dt is 0.00125, time of iteration is 0.0625\n",
      "iteration 51 dt is 0.00125, time of iteration is 0.06375\n",
      "iteration 52 dt is 0.00125, time of iteration is 0.065\n",
      "iteration 53 dt is 0.00125, time of iteration is 0.06625\n",
      "iteration 54 dt is 0.00125, time of iteration is 0.0675\n",
      "iteration 55 dt is 0.00125, time of iteration is 0.06875\n",
      "iteration 56 dt is 0.00125, time of iteration is 0.07\n",
      "iteration 57 dt is 0.00125, time of iteration is 0.07125\n",
      "iteration 58 dt is 0.00125, time of iteration is 0.0725\n",
      "iteration 59 dt is 0.00125, time of iteration is 0.07375\n",
      "iteration 60 dt is 0.00125, time of iteration is 0.075\n",
      "iteration 61 dt is 0.00125, time of iteration is 0.07625\n",
      "iteration 62 dt is 0.00125, time of iteration is 0.0775\n",
      "iteration 63 dt is 0.00125, time of iteration is 0.07875\n",
      "iteration 64 dt is 0.00125, time of iteration is 0.08\n",
      "iteration 65 dt is 0.00125, time of iteration is 0.08125\n",
      "iteration 66 dt is 0.00125, time of iteration is 0.0825\n",
      "iteration 67 dt is 0.00125, time of iteration is 0.08375\n",
      "iteration 68 dt is 0.00125, time of iteration is 0.085\n",
      "iteration 69 dt is 0.00125, time of iteration is 0.08625\n",
      "iteration 70 dt is 0.00125, time of iteration is 0.0875\n",
      "iteration 71 dt is 0.00125, time of iteration is 0.08875\n",
      "iteration 72 dt is 0.00125, time of iteration is 0.09\n",
      "iteration 73 dt is 0.00125, time of iteration is 0.09125\n",
      "iteration 74 dt is 0.00125, time of iteration is 0.0925\n",
      "iteration 75 dt is 0.00125, time of iteration is 0.09375\n",
      "iteration 76 dt is 0.00125, time of iteration is 0.095\n",
      "iteration 77 dt is 0.00125, time of iteration is 0.09625\n",
      "iteration 78 dt is 0.00125, time of iteration is 0.0975\n",
      "iteration 79 dt is 0.00125, time of iteration is 0.09875\n",
      "iteration 80 dt is 0.00125, time of iteration is 0.1\n",
      "iteration 81 dt is 0.00125, time of iteration is 0.10125\n",
      "iteration 82 dt is 0.00125, time of iteration is 0.1025\n",
      "iteration 83 dt is 0.00125, time of iteration is 0.10375\n",
      "iteration 84 dt is 0.00125, time of iteration is 0.105\n",
      "iteration 85 dt is 0.00125, time of iteration is 0.10625\n",
      "iteration 86 dt is 0.00125, time of iteration is 0.1075\n",
      "iteration 87 dt is 0.00125, time of iteration is 0.10875\n",
      "iteration 88 dt is 0.00125, time of iteration is 0.11\n",
      "iteration 89 dt is 0.00125, time of iteration is 0.11125\n",
      "iteration 90 dt is 0.00125, time of iteration is 0.1125\n",
      "iteration 91 dt is 0.00125, time of iteration is 0.11375\n",
      "iteration 92 dt is 0.00125, time of iteration is 0.115\n",
      "iteration 93 dt is 0.00125, time of iteration is 0.11625\n",
      "iteration 94 dt is 0.00125, time of iteration is 0.1175\n",
      "iteration 95 dt is 0.00125, time of iteration is 0.11875\n",
      "iteration 96 dt is 0.00125, time of iteration is 0.12\n",
      "iteration 97 dt is 0.00125, time of iteration is 0.12125\n",
      "iteration 98 dt is 0.00125, time of iteration is 0.1225\n",
      "iteration 99 dt is 0.00125, time of iteration is 0.12375\n",
      "iteration 100 dt is 0.00125, time of iteration is 0.125\n",
      "iteration 101 dt is 0.00125, time of iteration is 0.12625\n",
      "iteration 102 dt is 0.00125, time of iteration is 0.1275\n",
      "iteration 103 dt is 0.00125, time of iteration is 0.12875\n",
      "iteration 104 dt is 0.00125, time of iteration is 0.13\n",
      "iteration 105 dt is 0.00125, time of iteration is 0.13125\n",
      "iteration 106 dt is 0.00125, time of iteration is 0.1325\n",
      "iteration 107 dt is 0.00125, time of iteration is 0.13375\n",
      "iteration 108 dt is 0.00125, time of iteration is 0.135\n",
      "iteration 109 dt is 0.00125, time of iteration is 0.13625\n",
      "iteration 110 dt is 0.00125, time of iteration is 0.1375\n",
      "iteration 111 dt is 0.00125, time of iteration is 0.13875\n",
      "iteration 112 dt is 0.00125, time of iteration is 0.14\n",
      "iteration 113 dt is 0.00125, time of iteration is 0.14125\n",
      "iteration 114 dt is 0.00125, time of iteration is 0.1425\n",
      "iteration 115 dt is 0.00125, time of iteration is 0.14375\n",
      "iteration 116 dt is 0.00125, time of iteration is 0.145\n",
      "iteration 117 dt is 0.00125, time of iteration is 0.14625\n",
      "iteration 118 dt is 0.00125, time of iteration is 0.1475\n",
      "iteration 119 dt is 0.00125, time of iteration is 0.14875\n",
      "iteration 120 dt is 0.00125, time of iteration is 0.15\n",
      "iteration 121 dt is 0.00125, time of iteration is 0.15125\n",
      "iteration 122 dt is 0.00125, time of iteration is 0.1525\n",
      "iteration 123 dt is 0.00125, time of iteration is 0.15375\n",
      "iteration 124 dt is 0.00125, time of iteration is 0.155\n",
      "iteration 125 dt is 0.00125, time of iteration is 0.15625\n",
      "iteration 126 dt is 0.00125, time of iteration is 0.1575\n",
      "iteration 127 dt is 0.00125, time of iteration is 0.15875\n",
      "iteration 128 dt is 0.00125, time of iteration is 0.16\n",
      "iteration 129 dt is 0.00125, time of iteration is 0.16125\n",
      "iteration 130 dt is 0.00125, time of iteration is 0.1625\n",
      "iteration 131 dt is 0.00125, time of iteration is 0.16375\n",
      "iteration 132 dt is 0.00125, time of iteration is 0.165\n",
      "iteration 133 dt is 0.00125, time of iteration is 0.16625\n",
      "iteration 134 dt is 0.00125, time of iteration is 0.1675\n",
      "iteration 135 dt is 0.00125, time of iteration is 0.16875\n",
      "iteration 136 dt is 0.00125, time of iteration is 0.17\n",
      "iteration 137 dt is 0.00125, time of iteration is 0.17125\n",
      "iteration 138 dt is 0.00125, time of iteration is 0.1725\n",
      "iteration 139 dt is 0.00125, time of iteration is 0.17375\n",
      "iteration 140 dt is 0.00125, time of iteration is 0.175\n",
      "iteration 141 dt is 0.00125, time of iteration is 0.17625\n",
      "iteration 142 dt is 0.00125, time of iteration is 0.1775\n",
      "iteration 143 dt is 0.00125, time of iteration is 0.17875\n",
      "iteration 144 dt is 0.00125, time of iteration is 0.18\n",
      "iteration 145 dt is 0.00125, time of iteration is 0.18125\n",
      "iteration 146 dt is 0.00125, time of iteration is 0.1825\n"
     ]
    },
    {
     "name": "stdout",
     "output_type": "stream",
     "text": [
      "iteration 147 dt is 0.00125, time of iteration is 0.18375\n",
      "iteration 148 dt is 0.00125, time of iteration is 0.185\n",
      "iteration 149 dt is 0.00125, time of iteration is 0.18625\n",
      "iteration 150 dt is 0.00125, time of iteration is 0.1875\n",
      "iteration 151 dt is 0.00125, time of iteration is 0.18875\n",
      "iteration 152 dt is 0.00125, time of iteration is 0.19\n",
      "iteration 153 dt is 0.00125, time of iteration is 0.19125\n",
      "iteration 154 dt is 0.00125, time of iteration is 0.1925\n",
      "iteration 155 dt is 0.00125, time of iteration is 0.19375\n",
      "iteration 156 dt is 0.00125, time of iteration is 0.195\n",
      "iteration 157 dt is 0.00125, time of iteration is 0.19625\n",
      "iteration 158 dt is 0.00125, time of iteration is 0.1975\n",
      "iteration 159 dt is 0.00125, time of iteration is 0.19875\n",
      "iteration 160 dt is 0.00125, time of iteration is 0.2\n",
      "iteration 161 dt is 0.00125, time of iteration is 0.20125\n",
      "iteration 162 dt is 0.00125, time of iteration is 0.2025\n",
      "iteration 163 dt is 0.00125, time of iteration is 0.20375\n",
      "iteration 164 dt is 0.00125, time of iteration is 0.205\n",
      "iteration 165 dt is 0.00125, time of iteration is 0.20625\n",
      "iteration 166 dt is 0.00125, time of iteration is 0.2075\n",
      "iteration 167 dt is 0.00125, time of iteration is 0.20875\n",
      "iteration 168 dt is 0.00125, time of iteration is 0.21\n",
      "iteration 169 dt is 0.00125, time of iteration is 0.21125\n",
      "iteration 170 dt is 0.00125, time of iteration is 0.2125\n",
      "iteration 171 dt is 0.00125, time of iteration is 0.21375\n",
      "iteration 172 dt is 0.00125, time of iteration is 0.215\n",
      "iteration 173 dt is 0.00125, time of iteration is 0.21625\n",
      "iteration 174 dt is 0.00125, time of iteration is 0.2175\n",
      "iteration 175 dt is 0.00125, time of iteration is 0.21875\n",
      "iteration 176 dt is 0.00125, time of iteration is 0.22\n",
      "iteration 177 dt is 0.00125, time of iteration is 0.22125\n",
      "iteration 178 dt is 0.00125, time of iteration is 0.2225\n",
      "iteration 179 dt is 0.00125, time of iteration is 0.22375\n",
      "iteration 180 dt is 0.00125, time of iteration is 0.225\n",
      "iteration 181 dt is 0.00125, time of iteration is 0.22625\n",
      "iteration 182 dt is 0.00125, time of iteration is 0.2275\n",
      "iteration 183 dt is 0.00125, time of iteration is 0.22875\n",
      "iteration 184 dt is 0.00125, time of iteration is 0.23\n",
      "iteration 185 dt is 0.00125, time of iteration is 0.23125\n",
      "iteration 186 dt is 0.00125, time of iteration is 0.2325\n",
      "iteration 187 dt is 0.00125, time of iteration is 0.23375\n",
      "iteration 188 dt is 0.00125, time of iteration is 0.235\n",
      "iteration 189 dt is 0.00125, time of iteration is 0.23625\n",
      "iteration 190 dt is 0.00125, time of iteration is 0.2375\n",
      "iteration 191 dt is 0.00125, time of iteration is 0.23875\n",
      "iteration 192 dt is 0.00125, time of iteration is 0.24\n",
      "iteration 193 dt is 0.00125, time of iteration is 0.24125\n",
      "iteration 194 dt is 0.00125, time of iteration is 0.2425\n",
      "iteration 195 dt is 0.00125, time of iteration is 0.24375\n",
      "iteration 196 dt is 0.00125, time of iteration is 0.245\n",
      "iteration 197 dt is 0.00125, time of iteration is 0.24625\n",
      "iteration 198 dt is 0.00125, time of iteration is 0.2475\n",
      "iteration 199 dt is 0.00125, time of iteration is 0.24875\n",
      "iteration 200 dt is 0.00125, time of iteration is 0.25\n",
      "iteration 201 dt is 0.00125, time of iteration is 0.25125\n",
      "iteration 202 dt is 0.00125, time of iteration is 0.2525\n",
      "iteration 203 dt is 0.00125, time of iteration is 0.25375\n",
      "iteration 204 dt is 0.00125, time of iteration is 0.255\n",
      "iteration 205 dt is 0.00125, time of iteration is 0.25625\n",
      "iteration 206 dt is 0.00125, time of iteration is 0.2575\n",
      "iteration 207 dt is 0.00125, time of iteration is 0.25875\n",
      "iteration 208 dt is 0.00125, time of iteration is 0.26\n",
      "iteration 209 dt is 0.00125, time of iteration is 0.26125\n",
      "iteration 210 dt is 0.00125, time of iteration is 0.2625\n",
      "iteration 211 dt is 0.00125, time of iteration is 0.26375\n",
      "iteration 212 dt is 0.00125, time of iteration is 0.265\n",
      "iteration 213 dt is 0.00125, time of iteration is 0.26625\n",
      "iteration 214 dt is 0.00125, time of iteration is 0.2675\n",
      "iteration 215 dt is 0.00125, time of iteration is 0.26875\n",
      "iteration 216 dt is 0.00125, time of iteration is 0.27\n",
      "iteration 217 dt is 0.00125, time of iteration is 0.27125\n",
      "iteration 218 dt is 0.00125, time of iteration is 0.2725\n",
      "iteration 219 dt is 0.00125, time of iteration is 0.27375\n",
      "iteration 220 dt is 0.00125, time of iteration is 0.275\n",
      "iteration 221 dt is 0.00125, time of iteration is 0.27625\n",
      "iteration 222 dt is 0.00125, time of iteration is 0.2775\n",
      "iteration 223 dt is 0.00125, time of iteration is 0.27875\n",
      "iteration 224 dt is 0.00125, time of iteration is 0.28\n",
      "iteration 225 dt is 0.00125, time of iteration is 0.28125\n",
      "iteration 226 dt is 0.00125, time of iteration is 0.2825\n",
      "iteration 227 dt is 0.00125, time of iteration is 0.28375\n",
      "iteration 228 dt is 0.00125, time of iteration is 0.285\n",
      "iteration 229 dt is 0.00125, time of iteration is 0.28625\n",
      "iteration 230 dt is 0.00125, time of iteration is 0.2875\n",
      "iteration 231 dt is 0.00125, time of iteration is 0.28875\n",
      "iteration 232 dt is 0.00125, time of iteration is 0.29\n",
      "iteration 233 dt is 0.00125, time of iteration is 0.29125\n",
      "iteration 234 dt is 0.00125, time of iteration is 0.2925\n",
      "iteration 235 dt is 0.00125, time of iteration is 0.29375\n",
      "iteration 236 dt is 0.00125, time of iteration is 0.295\n",
      "iteration 237 dt is 0.00125, time of iteration is 0.29625\n",
      "iteration 238 dt is 0.00125, time of iteration is 0.2975\n",
      "iteration 239 dt is 0.00125, time of iteration is 0.29875\n",
      "iteration 240 dt is 0.00125, time of iteration is 0.3\n",
      "iteration 241 dt is 0.00125, time of iteration is 0.30125\n",
      "iteration 242 dt is 0.00125, time of iteration is 0.3025\n",
      "iteration 243 dt is 0.00125, time of iteration is 0.30375\n",
      "iteration 244 dt is 0.00125, time of iteration is 0.305\n",
      "iteration 245 dt is 0.00125, time of iteration is 0.30625\n",
      "iteration 246 dt is 0.00125, time of iteration is 0.3075\n",
      "iteration 247 dt is 0.00125, time of iteration is 0.30875\n",
      "iteration 248 dt is 0.00125, time of iteration is 0.31\n",
      "iteration 249 dt is 0.00125, time of iteration is 0.31125\n",
      "iteration 250 dt is 0.00125, time of iteration is 0.3125\n",
      "iteration 251 dt is 0.00125, time of iteration is 0.31375\n",
      "iteration 252 dt is 0.00125, time of iteration is 0.315\n",
      "iteration 253 dt is 0.00125, time of iteration is 0.31625\n",
      "iteration 254 dt is 0.00125, time of iteration is 0.3175\n",
      "iteration 255 dt is 0.00125, time of iteration is 0.31875\n",
      "iteration 256 dt is 0.00125, time of iteration is 0.32\n",
      "iteration 257 dt is 0.00125, time of iteration is 0.32125\n",
      "iteration 258 dt is 0.00125, time of iteration is 0.3225\n",
      "iteration 259 dt is 0.00125, time of iteration is 0.32375\n",
      "iteration 260 dt is 0.00125, time of iteration is 0.325\n",
      "iteration 261 dt is 0.00125, time of iteration is 0.32625\n",
      "iteration 262 dt is 0.00125, time of iteration is 0.3275\n",
      "iteration 263 dt is 0.00125, time of iteration is 0.32875\n",
      "iteration 264 dt is 0.00125, time of iteration is 0.33\n",
      "iteration 265 dt is 0.00125, time of iteration is 0.33125\n",
      "iteration 266 dt is 0.00125, time of iteration is 0.3325\n",
      "iteration 267 dt is 0.00125, time of iteration is 0.33375\n",
      "iteration 268 dt is 0.00125, time of iteration is 0.335\n",
      "iteration 269 dt is 0.00125, time of iteration is 0.33625\n",
      "iteration 270 dt is 0.00125, time of iteration is 0.3375\n",
      "iteration 271 dt is 0.00125, time of iteration is 0.33875\n",
      "iteration 272 dt is 0.00125, time of iteration is 0.34\n",
      "iteration 273 dt is 0.00125, time of iteration is 0.34125\n",
      "iteration 274 dt is 0.00125, time of iteration is 0.3425\n",
      "iteration 275 dt is 0.00125, time of iteration is 0.34375\n",
      "iteration 276 dt is 0.00125, time of iteration is 0.345\n",
      "iteration 277 dt is 0.00125, time of iteration is 0.34625\n",
      "iteration 278 dt is 0.00125, time of iteration is 0.3475\n",
      "iteration 279 dt is 0.00125, time of iteration is 0.34875\n",
      "iteration 280 dt is 0.00125, time of iteration is 0.35\n",
      "iteration 281 dt is 0.00125, time of iteration is 0.35125\n",
      "iteration 282 dt is 0.00125, time of iteration is 0.3525\n",
      "iteration 283 dt is 0.00125, time of iteration is 0.35375\n",
      "iteration 284 dt is 0.00125, time of iteration is 0.355\n",
      "iteration 285 dt is 0.00125, time of iteration is 0.35625\n",
      "iteration 286 dt is 0.00125, time of iteration is 0.3575\n",
      "iteration 287 dt is 0.00125, time of iteration is 0.35875\n",
      "iteration 288 dt is 0.00125, time of iteration is 0.36\n",
      "iteration 289 dt is 0.00125, time of iteration is 0.36125\n",
      "iteration 290 dt is 0.00125, time of iteration is 0.3625\n",
      "iteration 291 dt is 0.00125, time of iteration is 0.36375\n"
     ]
    },
    {
     "name": "stdout",
     "output_type": "stream",
     "text": [
      "iteration 292 dt is 0.00125, time of iteration is 0.365\n",
      "iteration 293 dt is 0.00125, time of iteration is 0.36625\n",
      "iteration 294 dt is 0.00125, time of iteration is 0.3675\n",
      "iteration 295 dt is 0.00125, time of iteration is 0.36875\n",
      "iteration 296 dt is 0.00125, time of iteration is 0.37\n",
      "iteration 297 dt is 0.00125, time of iteration is 0.37125\n",
      "iteration 298 dt is 0.00125, time of iteration is 0.3725\n",
      "iteration 299 dt is 0.00125, time of iteration is 0.37375\n",
      "iteration 300 dt is 0.00125, time of iteration is 0.375\n",
      "iteration 301 dt is 0.00125, time of iteration is 0.37625\n",
      "iteration 302 dt is 0.00125, time of iteration is 0.3775\n",
      "iteration 303 dt is 0.00125, time of iteration is 0.37875\n",
      "iteration 304 dt is 0.00125, time of iteration is 0.38\n",
      "iteration 305 dt is 0.00125, time of iteration is 0.38125\n",
      "iteration 306 dt is 0.00125, time of iteration is 0.3825\n",
      "iteration 307 dt is 0.00125, time of iteration is 0.38375\n",
      "iteration 308 dt is 0.00125, time of iteration is 0.385\n",
      "iteration 309 dt is 0.00125, time of iteration is 0.38625\n",
      "iteration 310 dt is 0.00125, time of iteration is 0.3875\n",
      "iteration 311 dt is 0.00125, time of iteration is 0.38875\n",
      "iteration 312 dt is 0.00125, time of iteration is 0.39\n",
      "iteration 313 dt is 0.00125, time of iteration is 0.39125\n",
      "iteration 314 dt is 0.00125, time of iteration is 0.3925\n",
      "iteration 315 dt is 0.00125, time of iteration is 0.39375\n",
      "iteration 316 dt is 0.00125, time of iteration is 0.395\n",
      "iteration 317 dt is 0.00125, time of iteration is 0.39625\n",
      "iteration 318 dt is 0.00125, time of iteration is 0.3975\n",
      "iteration 319 dt is 0.00125, time of iteration is 0.39875\n",
      "iteration 320 dt is 0.00125, time of iteration is 0.4\n",
      "iteration 321 dt is 0.00125, time of iteration is 0.40125\n",
      "iteration 322 dt is 0.00125, time of iteration is 0.4025\n",
      "iteration 323 dt is 0.00125, time of iteration is 0.40375\n",
      "iteration 324 dt is 0.00125, time of iteration is 0.405\n",
      "iteration 325 dt is 0.00125, time of iteration is 0.40625\n",
      "iteration 326 dt is 0.00125, time of iteration is 0.4075\n",
      "iteration 327 dt is 0.00125, time of iteration is 0.40875\n",
      "iteration 328 dt is 0.00125, time of iteration is 0.41\n",
      "iteration 329 dt is 0.00125, time of iteration is 0.41125\n",
      "iteration 330 dt is 0.00125, time of iteration is 0.4125\n",
      "iteration 331 dt is 0.00125, time of iteration is 0.41375\n",
      "iteration 332 dt is 0.00125, time of iteration is 0.415\n",
      "iteration 333 dt is 0.00125, time of iteration is 0.41625\n",
      "iteration 334 dt is 0.00125, time of iteration is 0.4175\n",
      "iteration 335 dt is 0.00125, time of iteration is 0.41875\n",
      "iteration 336 dt is 0.00125, time of iteration is 0.42\n",
      "iteration 337 dt is 0.00125, time of iteration is 0.42125\n",
      "iteration 338 dt is 0.00125, time of iteration is 0.4225\n",
      "iteration 339 dt is 0.00125, time of iteration is 0.42375\n",
      "iteration 340 dt is 0.00125, time of iteration is 0.425\n",
      "iteration 341 dt is 0.00125, time of iteration is 0.42625\n",
      "iteration 342 dt is 0.00125, time of iteration is 0.4275\n",
      "iteration 343 dt is 0.00125, time of iteration is 0.42875\n",
      "iteration 344 dt is 0.00125, time of iteration is 0.43\n",
      "iteration 345 dt is 0.00125, time of iteration is 0.43125\n",
      "iteration 346 dt is 0.00125, time of iteration is 0.4325\n",
      "iteration 347 dt is 0.00125, time of iteration is 0.43375\n",
      "iteration 348 dt is 0.00125, time of iteration is 0.435\n",
      "iteration 349 dt is 0.00125, time of iteration is 0.43625\n",
      "iteration 350 dt is 0.00125, time of iteration is 0.4375\n",
      "iteration 351 dt is 0.00125, time of iteration is 0.43875\n",
      "iteration 352 dt is 0.00125, time of iteration is 0.44\n",
      "iteration 353 dt is 0.00125, time of iteration is 0.44125\n",
      "iteration 354 dt is 0.00125, time of iteration is 0.4425\n",
      "iteration 355 dt is 0.00125, time of iteration is 0.44375\n",
      "iteration 356 dt is 0.00125, time of iteration is 0.445\n",
      "iteration 357 dt is 0.00125, time of iteration is 0.44625\n",
      "iteration 358 dt is 0.00125, time of iteration is 0.4475\n",
      "iteration 359 dt is 0.00125, time of iteration is 0.44875\n",
      "iteration 360 dt is 0.00125, time of iteration is 0.45\n",
      "iteration 361 dt is 0.00125, time of iteration is 0.45125\n",
      "iteration 362 dt is 0.00125, time of iteration is 0.4525\n",
      "iteration 363 dt is 0.00125, time of iteration is 0.45375\n",
      "iteration 364 dt is 0.00125, time of iteration is 0.455\n",
      "iteration 365 dt is 0.00125, time of iteration is 0.45625\n",
      "iteration 366 dt is 0.00125, time of iteration is 0.4575\n",
      "iteration 367 dt is 0.00125, time of iteration is 0.45875\n",
      "iteration 368 dt is 0.00125, time of iteration is 0.46\n",
      "iteration 369 dt is 0.00125, time of iteration is 0.46125\n",
      "iteration 370 dt is 0.00125, time of iteration is 0.4625\n",
      "iteration 371 dt is 0.00125, time of iteration is 0.46375\n",
      "iteration 372 dt is 0.00125, time of iteration is 0.465\n",
      "iteration 373 dt is 0.00125, time of iteration is 0.46625\n",
      "iteration 374 dt is 0.00125, time of iteration is 0.4675\n",
      "iteration 375 dt is 0.00125, time of iteration is 0.46875\n",
      "iteration 376 dt is 0.00125, time of iteration is 0.47\n",
      "iteration 377 dt is 0.00125, time of iteration is 0.47125\n",
      "iteration 378 dt is 0.00125, time of iteration is 0.4725\n",
      "iteration 379 dt is 0.00125, time of iteration is 0.47375\n",
      "iteration 380 dt is 0.00125, time of iteration is 0.475\n",
      "iteration 381 dt is 0.00125, time of iteration is 0.47625\n",
      "iteration 382 dt is 0.00125, time of iteration is 0.4775\n",
      "iteration 383 dt is 0.00125, time of iteration is 0.47875\n",
      "iteration 384 dt is 0.00125, time of iteration is 0.48\n",
      "iteration 385 dt is 0.00125, time of iteration is 0.48125\n",
      "iteration 386 dt is 0.00125, time of iteration is 0.4825\n",
      "iteration 387 dt is 0.00125, time of iteration is 0.48375\n",
      "iteration 388 dt is 0.00125, time of iteration is 0.485\n",
      "iteration 389 dt is 0.00125, time of iteration is 0.48625\n",
      "iteration 390 dt is 0.00125, time of iteration is 0.4875\n",
      "iteration 391 dt is 0.00125, time of iteration is 0.48875\n",
      "iteration 392 dt is 0.00125, time of iteration is 0.49\n",
      "iteration 393 dt is 0.00125, time of iteration is 0.49125\n",
      "iteration 394 dt is 0.00125, time of iteration is 0.4925\n",
      "iteration 395 dt is 0.00125, time of iteration is 0.49375\n",
      "iteration 396 dt is 0.00125, time of iteration is 0.495\n",
      "iteration 397 dt is 0.00125, time of iteration is 0.49625\n",
      "iteration 398 dt is 0.00125, time of iteration is 0.4975\n",
      "iteration 399 dt is 0.00125, time of iteration is 0.49875\n",
      "iteration 400 dt is 0.00125, time of iteration is 0.5\n",
      "iteration 401 dt is 0.00125, time of iteration is 0.50125\n",
      "iteration 402 dt is 0.00125, time of iteration is 0.5025\n",
      "iteration 403 dt is 0.00125, time of iteration is 0.50375\n",
      "iteration 404 dt is 0.00125, time of iteration is 0.505\n",
      "iteration 405 dt is 0.00125, time of iteration is 0.50625\n",
      "iteration 406 dt is 0.00125, time of iteration is 0.5075\n",
      "iteration 407 dt is 0.00125, time of iteration is 0.50875\n",
      "iteration 408 dt is 0.00125, time of iteration is 0.51\n",
      "iteration 409 dt is 0.00125, time of iteration is 0.51125\n",
      "iteration 410 dt is 0.00125, time of iteration is 0.5125\n",
      "iteration 411 dt is 0.00125, time of iteration is 0.51375\n",
      "iteration 412 dt is 0.00125, time of iteration is 0.515\n",
      "iteration 413 dt is 0.00125, time of iteration is 0.51625\n",
      "iteration 414 dt is 0.00125, time of iteration is 0.5175\n",
      "iteration 415 dt is 0.00125, time of iteration is 0.51875\n",
      "iteration 416 dt is 0.00125, time of iteration is 0.52\n",
      "iteration 417 dt is 0.00125, time of iteration is 0.52125\n",
      "iteration 418 dt is 0.00125, time of iteration is 0.5225\n",
      "iteration 419 dt is 0.00125, time of iteration is 0.52375\n",
      "iteration 420 dt is 0.00125, time of iteration is 0.525\n",
      "iteration 421 dt is 0.00125, time of iteration is 0.52625\n",
      "iteration 422 dt is 0.00125, time of iteration is 0.5275\n",
      "iteration 423 dt is 0.00125, time of iteration is 0.52875\n",
      "iteration 424 dt is 0.00125, time of iteration is 0.53\n",
      "iteration 425 dt is 0.00125, time of iteration is 0.53125\n",
      "iteration 426 dt is 0.00125, time of iteration is 0.5325\n",
      "iteration 427 dt is 0.00125, time of iteration is 0.53375\n",
      "iteration 428 dt is 0.00125, time of iteration is 0.535\n",
      "iteration 429 dt is 0.00125, time of iteration is 0.53625\n",
      "iteration 430 dt is 0.00125, time of iteration is 0.5375\n",
      "iteration 431 dt is 0.00125, time of iteration is 0.53875\n",
      "iteration 432 dt is 0.00125, time of iteration is 0.54\n",
      "iteration 433 dt is 0.00125, time of iteration is 0.54125\n",
      "iteration 434 dt is 0.00125, time of iteration is 0.5425\n",
      "iteration 435 dt is 0.00125, time of iteration is 0.54375\n",
      "iteration 436 dt is 0.00125, time of iteration is 0.545\n"
     ]
    },
    {
     "name": "stdout",
     "output_type": "stream",
     "text": [
      "iteration 437 dt is 0.00125, time of iteration is 0.54625\n",
      "iteration 438 dt is 0.00125, time of iteration is 0.5475\n",
      "iteration 439 dt is 0.00125, time of iteration is 0.54875\n",
      "iteration 440 dt is 0.00125, time of iteration is 0.55\n",
      "iteration 441 dt is 0.00125, time of iteration is 0.55125\n",
      "iteration 442 dt is 0.00125, time of iteration is 0.5525\n",
      "iteration 443 dt is 0.00125, time of iteration is 0.55375\n",
      "iteration 444 dt is 0.00125, time of iteration is 0.555\n",
      "iteration 445 dt is 0.00125, time of iteration is 0.55625\n",
      "iteration 446 dt is 0.00125, time of iteration is 0.5575\n",
      "iteration 447 dt is 0.00125, time of iteration is 0.55875\n",
      "iteration 448 dt is 0.00125, time of iteration is 0.56\n",
      "iteration 449 dt is 0.00125, time of iteration is 0.56125\n",
      "iteration 450 dt is 0.00125, time of iteration is 0.5625\n",
      "iteration 451 dt is 0.00125, time of iteration is 0.56375\n",
      "iteration 452 dt is 0.00125, time of iteration is 0.565\n",
      "iteration 453 dt is 0.00125, time of iteration is 0.56625\n",
      "iteration 454 dt is 0.00125, time of iteration is 0.5675\n",
      "iteration 455 dt is 0.00125, time of iteration is 0.56875\n",
      "iteration 456 dt is 0.00125, time of iteration is 0.57\n",
      "iteration 457 dt is 0.00125, time of iteration is 0.57125\n",
      "iteration 458 dt is 0.00125, time of iteration is 0.5725\n",
      "iteration 459 dt is 0.00125, time of iteration is 0.57375\n",
      "iteration 460 dt is 0.00125, time of iteration is 0.575\n",
      "iteration 461 dt is 0.00125, time of iteration is 0.57625\n",
      "iteration 462 dt is 0.00125, time of iteration is 0.5775\n",
      "iteration 463 dt is 0.00125, time of iteration is 0.57875\n",
      "iteration 464 dt is 0.00125, time of iteration is 0.58\n",
      "iteration 465 dt is 0.00125, time of iteration is 0.58125\n",
      "iteration 466 dt is 0.00125, time of iteration is 0.5825\n",
      "iteration 467 dt is 0.00125, time of iteration is 0.58375\n",
      "iteration 468 dt is 0.00125, time of iteration is 0.585\n",
      "iteration 469 dt is 0.00125, time of iteration is 0.58625\n",
      "iteration 470 dt is 0.00125, time of iteration is 0.5875\n",
      "iteration 471 dt is 0.00125, time of iteration is 0.58875\n",
      "iteration 472 dt is 0.00125, time of iteration is 0.59\n",
      "iteration 473 dt is 0.00125, time of iteration is 0.59125\n",
      "iteration 474 dt is 0.00125, time of iteration is 0.5925\n",
      "iteration 475 dt is 0.00125, time of iteration is 0.59375\n",
      "iteration 476 dt is 0.00125, time of iteration is 0.595\n",
      "iteration 477 dt is 0.00125, time of iteration is 0.59625\n",
      "iteration 478 dt is 0.00125, time of iteration is 0.5975\n",
      "iteration 479 dt is 0.00125, time of iteration is 0.59875\n",
      "iteration 480 dt is 0.00125, time of iteration is 0.6\n",
      "iteration 481 dt is 0.00125, time of iteration is 0.60125\n",
      "iteration 482 dt is 0.00125, time of iteration is 0.6025\n",
      "iteration 483 dt is 0.00125, time of iteration is 0.60375\n",
      "iteration 484 dt is 0.00125, time of iteration is 0.605\n",
      "iteration 485 dt is 0.00125, time of iteration is 0.60625\n",
      "iteration 486 dt is 0.00125, time of iteration is 0.6075\n",
      "iteration 487 dt is 0.00125, time of iteration is 0.60875\n",
      "iteration 488 dt is 0.00125, time of iteration is 0.61\n",
      "iteration 489 dt is 0.00125, time of iteration is 0.61125\n",
      "iteration 490 dt is 0.00125, time of iteration is 0.6125\n",
      "iteration 491 dt is 0.00125, time of iteration is 0.61375\n",
      "iteration 492 dt is 0.00125, time of iteration is 0.615\n",
      "iteration 493 dt is 0.00125, time of iteration is 0.61625\n",
      "iteration 494 dt is 0.00125, time of iteration is 0.6175\n",
      "iteration 495 dt is 0.00125, time of iteration is 0.61875\n",
      "iteration 496 dt is 0.00125, time of iteration is 0.62\n",
      "iteration 497 dt is 0.00125, time of iteration is 0.62125\n",
      "iteration 498 dt is 0.00125, time of iteration is 0.6225\n",
      "iteration 499 dt is 0.00125, time of iteration is 0.62375\n",
      "iteration 500 dt is 0.00125, time of iteration is 0.625\n",
      "iteration 501 dt is 0.00125, time of iteration is 0.62625\n",
      "iteration 502 dt is 0.00125, time of iteration is 0.6275\n",
      "iteration 503 dt is 0.00125, time of iteration is 0.62875\n",
      "iteration 504 dt is 0.00125, time of iteration is 0.63\n",
      "iteration 505 dt is 0.00125, time of iteration is 0.63125\n",
      "iteration 506 dt is 0.00125, time of iteration is 0.6325\n",
      "iteration 507 dt is 0.00125, time of iteration is 0.63375\n",
      "iteration 508 dt is 0.00125, time of iteration is 0.635\n",
      "iteration 509 dt is 0.00125, time of iteration is 0.63625\n",
      "iteration 510 dt is 0.00125, time of iteration is 0.6375\n",
      "iteration 511 dt is 0.00125, time of iteration is 0.63875\n",
      "iteration 512 dt is 0.00125, time of iteration is 0.64\n",
      "iteration 513 dt is 0.00125, time of iteration is 0.64125\n",
      "iteration 514 dt is 0.00125, time of iteration is 0.6425\n",
      "iteration 515 dt is 0.00125, time of iteration is 0.64375\n",
      "iteration 516 dt is 0.00125, time of iteration is 0.645\n",
      "iteration 517 dt is 0.00125, time of iteration is 0.64625\n",
      "iteration 518 dt is 0.00125, time of iteration is 0.6475\n",
      "iteration 519 dt is 0.00125, time of iteration is 0.64875\n",
      "iteration 520 dt is 0.00125, time of iteration is 0.65\n",
      "iteration 521 dt is 0.00125, time of iteration is 0.65125\n",
      "iteration 522 dt is 0.00125, time of iteration is 0.6525\n",
      "iteration 523 dt is 0.00125, time of iteration is 0.65375\n",
      "iteration 524 dt is 0.00125, time of iteration is 0.655\n",
      "iteration 525 dt is 0.00125, time of iteration is 0.65625\n",
      "iteration 526 dt is 0.00125, time of iteration is 0.6575\n",
      "iteration 527 dt is 0.00125, time of iteration is 0.65875\n",
      "iteration 528 dt is 0.00125, time of iteration is 0.66\n",
      "iteration 529 dt is 0.00125, time of iteration is 0.66125\n",
      "iteration 530 dt is 0.00125, time of iteration is 0.6625\n",
      "iteration 531 dt is 0.00125, time of iteration is 0.66375\n",
      "iteration 532 dt is 0.00125, time of iteration is 0.665\n",
      "iteration 533 dt is 0.00125, time of iteration is 0.66625\n",
      "iteration 534 dt is 0.00125, time of iteration is 0.6675\n",
      "iteration 535 dt is 0.00125, time of iteration is 0.66875\n",
      "iteration 536 dt is 0.00125, time of iteration is 0.67\n",
      "iteration 537 dt is 0.00125, time of iteration is 0.67125\n",
      "iteration 538 dt is 0.00125, time of iteration is 0.6725\n",
      "iteration 539 dt is 0.00125, time of iteration is 0.67375\n",
      "iteration 540 dt is 0.00125, time of iteration is 0.675\n",
      "iteration 541 dt is 0.00125, time of iteration is 0.67625\n",
      "iteration 542 dt is 0.00125, time of iteration is 0.6775\n",
      "iteration 543 dt is 0.00125, time of iteration is 0.67875\n",
      "iteration 544 dt is 0.00125, time of iteration is 0.68\n",
      "iteration 545 dt is 0.00125, time of iteration is 0.68125\n",
      "iteration 546 dt is 0.00125, time of iteration is 0.6825\n",
      "iteration 547 dt is 0.00125, time of iteration is 0.68375\n",
      "iteration 548 dt is 0.00125, time of iteration is 0.685\n",
      "iteration 549 dt is 0.00125, time of iteration is 0.68625\n",
      "iteration 550 dt is 0.00125, time of iteration is 0.6875\n",
      "iteration 551 dt is 0.00125, time of iteration is 0.68875\n",
      "iteration 552 dt is 0.00125, time of iteration is 0.69\n",
      "iteration 553 dt is 0.00125, time of iteration is 0.69125\n",
      "iteration 554 dt is 0.00125, time of iteration is 0.6925\n",
      "iteration 555 dt is 0.00125, time of iteration is 0.69375\n",
      "iteration 556 dt is 0.00125, time of iteration is 0.695\n",
      "iteration 557 dt is 0.00125, time of iteration is 0.69625\n",
      "iteration 558 dt is 0.00125, time of iteration is 0.6975\n",
      "iteration 559 dt is 0.00125, time of iteration is 0.69875\n",
      "iteration 560 dt is 0.00125, time of iteration is 0.7\n",
      "iteration 561 dt is 0.00125, time of iteration is 0.70125\n",
      "iteration 562 dt is 0.00125, time of iteration is 0.7025\n",
      "iteration 563 dt is 0.00125, time of iteration is 0.70375\n",
      "iteration 564 dt is 0.00125, time of iteration is 0.705\n",
      "iteration 565 dt is 0.00125, time of iteration is 0.70625\n",
      "iteration 566 dt is 0.00125, time of iteration is 0.7075\n",
      "iteration 567 dt is 0.00125, time of iteration is 0.70875\n",
      "iteration 568 dt is 0.00125, time of iteration is 0.71\n",
      "iteration 569 dt is 0.00125, time of iteration is 0.71125\n",
      "iteration 570 dt is 0.00125, time of iteration is 0.7125\n",
      "iteration 571 dt is 0.00125, time of iteration is 0.71375\n",
      "iteration 572 dt is 0.00125, time of iteration is 0.715\n",
      "iteration 573 dt is 0.00125, time of iteration is 0.71625\n",
      "iteration 574 dt is 0.00125, time of iteration is 0.7175\n",
      "iteration 575 dt is 0.00125, time of iteration is 0.71875\n",
      "iteration 576 dt is 0.00125, time of iteration is 0.72\n",
      "iteration 577 dt is 0.00125, time of iteration is 0.72125\n",
      "iteration 578 dt is 0.00125, time of iteration is 0.7225\n",
      "iteration 579 dt is 0.00125, time of iteration is 0.72375\n",
      "iteration 580 dt is 0.00125, time of iteration is 0.725\n",
      "iteration 581 dt is 0.00125, time of iteration is 0.72625\n"
     ]
    },
    {
     "name": "stdout",
     "output_type": "stream",
     "text": [
      "iteration 582 dt is 0.00125, time of iteration is 0.7275\n",
      "iteration 583 dt is 0.00125, time of iteration is 0.72875\n",
      "iteration 584 dt is 0.00125, time of iteration is 0.73\n",
      "iteration 585 dt is 0.00125, time of iteration is 0.73125\n",
      "iteration 586 dt is 0.00125, time of iteration is 0.7325\n",
      "iteration 587 dt is 0.00125, time of iteration is 0.73375\n",
      "iteration 588 dt is 0.00125, time of iteration is 0.735\n",
      "iteration 589 dt is 0.00125, time of iteration is 0.73625\n",
      "iteration 590 dt is 0.00125, time of iteration is 0.7375\n",
      "iteration 591 dt is 0.00125, time of iteration is 0.73875\n",
      "iteration 592 dt is 0.00125, time of iteration is 0.74\n",
      "iteration 593 dt is 0.00125, time of iteration is 0.74125\n",
      "iteration 594 dt is 0.00125, time of iteration is 0.7425\n",
      "iteration 595 dt is 0.00125, time of iteration is 0.74375\n",
      "iteration 596 dt is 0.00125, time of iteration is 0.745\n",
      "iteration 597 dt is 0.00125, time of iteration is 0.74625\n",
      "iteration 598 dt is 0.00125, time of iteration is 0.7475\n",
      "iteration 599 dt is 0.00125, time of iteration is 0.74875\n",
      "iteration 600 dt is 0.00125, time of iteration is 0.75\n",
      "iteration 601 dt is 0.00125, time of iteration is 0.75125\n",
      "iteration 602 dt is 0.00125, time of iteration is 0.7525\n",
      "iteration 603 dt is 0.00125, time of iteration is 0.75375\n",
      "iteration 604 dt is 0.00125, time of iteration is 0.755\n",
      "iteration 605 dt is 0.00125, time of iteration is 0.75625\n",
      "iteration 606 dt is 0.00125, time of iteration is 0.7575\n",
      "iteration 607 dt is 0.00125, time of iteration is 0.75875\n",
      "iteration 608 dt is 0.00125, time of iteration is 0.76\n",
      "iteration 609 dt is 0.00125, time of iteration is 0.76125\n",
      "iteration 610 dt is 0.00125, time of iteration is 0.7625\n",
      "iteration 611 dt is 0.00125, time of iteration is 0.76375\n",
      "iteration 612 dt is 0.00125, time of iteration is 0.765\n",
      "iteration 613 dt is 0.00125, time of iteration is 0.76625\n",
      "iteration 614 dt is 0.00125, time of iteration is 0.7675\n",
      "iteration 615 dt is 0.00125, time of iteration is 0.76875\n",
      "iteration 616 dt is 0.00125, time of iteration is 0.77\n",
      "iteration 617 dt is 0.00125, time of iteration is 0.77125\n",
      "iteration 618 dt is 0.00125, time of iteration is 0.7725\n",
      "iteration 619 dt is 0.00125, time of iteration is 0.77375\n",
      "iteration 620 dt is 0.00125, time of iteration is 0.775\n",
      "iteration 621 dt is 0.00125, time of iteration is 0.77625\n",
      "iteration 622 dt is 0.00125, time of iteration is 0.7775\n",
      "iteration 623 dt is 0.00125, time of iteration is 0.77875\n",
      "iteration 624 dt is 0.00125, time of iteration is 0.78\n",
      "iteration 625 dt is 0.00125, time of iteration is 0.78125\n",
      "iteration 626 dt is 0.00125, time of iteration is 0.7825\n",
      "iteration 627 dt is 0.00125, time of iteration is 0.78375\n",
      "iteration 628 dt is 0.00125, time of iteration is 0.785\n",
      "iteration 629 dt is 0.00125, time of iteration is 0.78625\n",
      "iteration 630 dt is 0.00125, time of iteration is 0.7875\n",
      "iteration 631 dt is 0.00125, time of iteration is 0.78875\n",
      "iteration 632 dt is 0.00125, time of iteration is 0.79\n",
      "iteration 633 dt is 0.00125, time of iteration is 0.79125\n",
      "iteration 634 dt is 0.00125, time of iteration is 0.7925\n",
      "iteration 635 dt is 0.00125, time of iteration is 0.79375\n",
      "iteration 636 dt is 0.00125, time of iteration is 0.795\n",
      "iteration 637 dt is 0.00125, time of iteration is 0.79625\n",
      "iteration 638 dt is 0.00125, time of iteration is 0.7975\n",
      "iteration 639 dt is 0.00125, time of iteration is 0.79875\n",
      "iteration 640 dt is 0.00125, time of iteration is 0.8\n",
      "iteration 641 dt is 0.00125, time of iteration is 0.80125\n",
      "iteration 642 dt is 0.00125, time of iteration is 0.8025\n",
      "iteration 643 dt is 0.00125, time of iteration is 0.80375\n",
      "iteration 644 dt is 0.00125, time of iteration is 0.805\n",
      "iteration 645 dt is 0.00125, time of iteration is 0.80625\n",
      "iteration 646 dt is 0.00125, time of iteration is 0.8075\n",
      "iteration 647 dt is 0.00125, time of iteration is 0.80875\n",
      "iteration 648 dt is 0.00125, time of iteration is 0.81\n",
      "iteration 649 dt is 0.00125, time of iteration is 0.81125\n",
      "iteration 650 dt is 0.00125, time of iteration is 0.8125\n",
      "iteration 651 dt is 0.00125, time of iteration is 0.81375\n",
      "iteration 652 dt is 0.00125, time of iteration is 0.815\n",
      "iteration 653 dt is 0.00125, time of iteration is 0.81625\n",
      "iteration 654 dt is 0.00125, time of iteration is 0.8175\n",
      "iteration 655 dt is 0.00125, time of iteration is 0.81875\n",
      "iteration 656 dt is 0.00125, time of iteration is 0.82\n",
      "iteration 657 dt is 0.00125, time of iteration is 0.82125\n",
      "iteration 658 dt is 0.00125, time of iteration is 0.8225\n",
      "iteration 659 dt is 0.00125, time of iteration is 0.82375\n",
      "iteration 660 dt is 0.00125, time of iteration is 0.825\n",
      "iteration 661 dt is 0.00125, time of iteration is 0.82625\n",
      "iteration 662 dt is 0.00125, time of iteration is 0.8275\n",
      "iteration 663 dt is 0.00125, time of iteration is 0.82875\n",
      "iteration 664 dt is 0.00125, time of iteration is 0.83\n",
      "iteration 665 dt is 0.00125, time of iteration is 0.83125\n",
      "iteration 666 dt is 0.00125, time of iteration is 0.8325\n",
      "iteration 667 dt is 0.00125, time of iteration is 0.83375\n",
      "iteration 668 dt is 0.00125, time of iteration is 0.835\n",
      "iteration 669 dt is 0.00125, time of iteration is 0.83625\n",
      "iteration 670 dt is 0.00125, time of iteration is 0.8375\n",
      "iteration 671 dt is 0.00125, time of iteration is 0.83875\n",
      "iteration 672 dt is 0.00125, time of iteration is 0.84\n",
      "iteration 673 dt is 0.00125, time of iteration is 0.84125\n",
      "iteration 674 dt is 0.00125, time of iteration is 0.8425\n",
      "iteration 675 dt is 0.00125, time of iteration is 0.84375\n",
      "iteration 676 dt is 0.00125, time of iteration is 0.845\n",
      "iteration 677 dt is 0.00125, time of iteration is 0.84625\n",
      "iteration 678 dt is 0.00125, time of iteration is 0.8475\n",
      "iteration 679 dt is 0.00125, time of iteration is 0.84875\n",
      "iteration 680 dt is 0.00125, time of iteration is 0.85\n",
      "iteration 681 dt is 0.00125, time of iteration is 0.85125\n",
      "iteration 682 dt is 0.00125, time of iteration is 0.8525\n",
      "iteration 683 dt is 0.00125, time of iteration is 0.85375\n",
      "iteration 684 dt is 0.00125, time of iteration is 0.855\n",
      "iteration 685 dt is 0.00125, time of iteration is 0.85625\n",
      "iteration 686 dt is 0.00125, time of iteration is 0.8575\n",
      "iteration 687 dt is 0.00125, time of iteration is 0.85875\n",
      "iteration 688 dt is 0.00125, time of iteration is 0.86\n",
      "iteration 689 dt is 0.00125, time of iteration is 0.86125\n",
      "iteration 690 dt is 0.00125, time of iteration is 0.8625\n",
      "iteration 691 dt is 0.00125, time of iteration is 0.86375\n",
      "iteration 692 dt is 0.00125, time of iteration is 0.865\n",
      "iteration 693 dt is 0.00125, time of iteration is 0.86625\n",
      "iteration 694 dt is 0.00125, time of iteration is 0.8675\n",
      "iteration 695 dt is 0.00125, time of iteration is 0.86875\n",
      "iteration 696 dt is 0.00125, time of iteration is 0.87\n",
      "iteration 697 dt is 0.00125, time of iteration is 0.87125\n",
      "iteration 698 dt is 0.00125, time of iteration is 0.8725\n",
      "iteration 699 dt is 0.00125, time of iteration is 0.87375\n",
      "iteration 700 dt is 0.00125, time of iteration is 0.875\n",
      "iteration 701 dt is 0.00125, time of iteration is 0.87625\n",
      "iteration 702 dt is 0.00125, time of iteration is 0.8775\n",
      "iteration 703 dt is 0.00125, time of iteration is 0.87875\n",
      "iteration 704 dt is 0.00125, time of iteration is 0.88\n",
      "iteration 705 dt is 0.00125, time of iteration is 0.88125\n",
      "iteration 706 dt is 0.00125, time of iteration is 0.8825\n",
      "iteration 707 dt is 0.00125, time of iteration is 0.88375\n",
      "iteration 708 dt is 0.00125, time of iteration is 0.885\n",
      "iteration 709 dt is 0.00125, time of iteration is 0.88625\n",
      "iteration 710 dt is 0.00125, time of iteration is 0.8875\n",
      "iteration 711 dt is 0.00125, time of iteration is 0.88875\n",
      "iteration 712 dt is 0.00125, time of iteration is 0.89\n",
      "iteration 713 dt is 0.00125, time of iteration is 0.89125\n",
      "iteration 714 dt is 0.00125, time of iteration is 0.8925\n",
      "iteration 715 dt is 0.00125, time of iteration is 0.89375\n",
      "iteration 716 dt is 0.00125, time of iteration is 0.895\n",
      "iteration 717 dt is 0.00125, time of iteration is 0.89625\n",
      "iteration 718 dt is 0.00125, time of iteration is 0.8975\n",
      "iteration 719 dt is 0.00125, time of iteration is 0.89875\n",
      "iteration 720 dt is 0.00125, time of iteration is 0.9\n",
      "iteration 721 dt is 0.00125, time of iteration is 0.90125\n",
      "iteration 722 dt is 0.00125, time of iteration is 0.9025\n",
      "iteration 723 dt is 0.00125, time of iteration is 0.90375\n",
      "iteration 724 dt is 0.00125, time of iteration is 0.905\n",
      "iteration 725 dt is 0.00125, time of iteration is 0.90625\n",
      "iteration 726 dt is 0.00125, time of iteration is 0.9075\n"
     ]
    },
    {
     "name": "stdout",
     "output_type": "stream",
     "text": [
      "iteration 727 dt is 0.00125, time of iteration is 0.90875\n",
      "iteration 728 dt is 0.00125, time of iteration is 0.91\n",
      "iteration 729 dt is 0.00125, time of iteration is 0.91125\n",
      "iteration 730 dt is 0.00125, time of iteration is 0.9125\n",
      "iteration 731 dt is 0.00125, time of iteration is 0.91375\n",
      "iteration 732 dt is 0.00125, time of iteration is 0.915\n",
      "iteration 733 dt is 0.00125, time of iteration is 0.91625\n",
      "iteration 734 dt is 0.00125, time of iteration is 0.9175\n",
      "iteration 735 dt is 0.00125, time of iteration is 0.91875\n",
      "iteration 736 dt is 0.00125, time of iteration is 0.92\n",
      "iteration 737 dt is 0.00125, time of iteration is 0.92125\n",
      "iteration 738 dt is 0.00125, time of iteration is 0.9225\n",
      "iteration 739 dt is 0.00125, time of iteration is 0.92375\n",
      "iteration 740 dt is 0.00125, time of iteration is 0.925\n",
      "iteration 741 dt is 0.00125, time of iteration is 0.92625\n",
      "iteration 742 dt is 0.00125, time of iteration is 0.9275\n",
      "iteration 743 dt is 0.00125, time of iteration is 0.92875\n",
      "iteration 744 dt is 0.00125, time of iteration is 0.93\n",
      "iteration 745 dt is 0.00125, time of iteration is 0.93125\n",
      "iteration 746 dt is 0.00125, time of iteration is 0.9325\n",
      "iteration 747 dt is 0.00125, time of iteration is 0.93375\n",
      "iteration 748 dt is 0.00125, time of iteration is 0.935\n",
      "iteration 749 dt is 0.00125, time of iteration is 0.93625\n",
      "iteration 750 dt is 0.00125, time of iteration is 0.9375\n",
      "iteration 751 dt is 0.00125, time of iteration is 0.93875\n",
      "iteration 752 dt is 0.00125, time of iteration is 0.94\n",
      "iteration 753 dt is 0.00125, time of iteration is 0.94125\n",
      "iteration 754 dt is 0.00125, time of iteration is 0.9425\n",
      "iteration 755 dt is 0.00125, time of iteration is 0.94375\n",
      "iteration 756 dt is 0.00125, time of iteration is 0.945\n",
      "iteration 757 dt is 0.00125, time of iteration is 0.94625\n",
      "iteration 758 dt is 0.00125, time of iteration is 0.9475\n",
      "iteration 759 dt is 0.00125, time of iteration is 0.94875\n",
      "iteration 760 dt is 0.00125, time of iteration is 0.95\n",
      "iteration 761 dt is 0.00125, time of iteration is 0.95125\n",
      "iteration 762 dt is 0.00125, time of iteration is 0.9525\n",
      "iteration 763 dt is 0.00125, time of iteration is 0.95375\n",
      "iteration 764 dt is 0.00125, time of iteration is 0.955\n",
      "iteration 765 dt is 0.00125, time of iteration is 0.95625\n",
      "iteration 766 dt is 0.00125, time of iteration is 0.9575\n",
      "iteration 767 dt is 0.00125, time of iteration is 0.95875\n",
      "iteration 768 dt is 0.00125, time of iteration is 0.96\n",
      "iteration 769 dt is 0.00125, time of iteration is 0.96125\n",
      "iteration 770 dt is 0.00125, time of iteration is 0.9625\n",
      "iteration 771 dt is 0.00125, time of iteration is 0.96375\n",
      "iteration 772 dt is 0.00125, time of iteration is 0.965\n",
      "iteration 773 dt is 0.00125, time of iteration is 0.96625\n",
      "iteration 774 dt is 0.00125, time of iteration is 0.9675\n",
      "iteration 775 dt is 0.00125, time of iteration is 0.96875\n",
      "iteration 776 dt is 0.00125, time of iteration is 0.97\n",
      "iteration 777 dt is 0.00125, time of iteration is 0.97125\n",
      "iteration 778 dt is 0.00125, time of iteration is 0.9725\n",
      "iteration 779 dt is 0.00125, time of iteration is 0.97375\n",
      "iteration 780 dt is 0.00125, time of iteration is 0.975\n",
      "iteration 781 dt is 0.00125, time of iteration is 0.97625\n",
      "iteration 782 dt is 0.00125, time of iteration is 0.9775\n",
      "iteration 783 dt is 0.00125, time of iteration is 0.97875\n",
      "iteration 784 dt is 0.00125, time of iteration is 0.98\n",
      "iteration 785 dt is 0.00125, time of iteration is 0.98125\n",
      "iteration 786 dt is 0.00125, time of iteration is 0.9825\n",
      "iteration 787 dt is 0.00125, time of iteration is 0.98375\n",
      "iteration 788 dt is 0.00125, time of iteration is 0.985\n",
      "iteration 789 dt is 0.00125, time of iteration is 0.98625\n",
      "iteration 790 dt is 0.00125, time of iteration is 0.9875\n",
      "iteration 791 dt is 0.00125, time of iteration is 0.98875\n",
      "iteration 792 dt is 0.00125, time of iteration is 0.99\n",
      "iteration 793 dt is 0.00125, time of iteration is 0.99125\n",
      "iteration 794 dt is 0.00125, time of iteration is 0.9925\n",
      "iteration 795 dt is 0.00125, time of iteration is 0.99375\n",
      "iteration 796 dt is 0.00125, time of iteration is 0.995\n",
      "iteration 797 dt is 0.00125, time of iteration is 0.99625\n",
      "iteration 798 dt is 0.00125, time of iteration is 0.9975\n",
      "iteration 799 dt is 0.00125, time of iteration is 0.99875\n",
      "iteration 800 dt is 0.00125, time of iteration is 1.0\n",
      "iteration 801 dt is 0.00125, time of iteration is 1.00125\n"
     ]
    }
   ],
   "source": [
    "finaltime=1#0.9#0.8#0.04*5*4#length(T)-1\n",
    "evol_stats, T_interp = timeevolution(state_array,finaltime,dir*\"/res$res\",run);\n",
    "CSV.write(dir*\"/timearray$res.csv\", Tables.table(T_interp), writeheader=false);\n",
    "#CSV.write(dir*\"/parameters.csv\", Tables.table(evol_stats), writeheader=false);"
   ]
  },
  {
   "cell_type": "markdown",
   "id": "715897d3",
   "metadata": {
    "papermill": {
     "duration": 0.007626,
     "end_time": "2023-03-28T18:06:33.908346",
     "exception": false,
     "start_time": "2023-03-28T18:06:33.900720",
     "status": "completed"
    },
    "tags": []
   },
   "source": [
    " ## Movie of the evolution"
   ]
  },
  {
   "cell_type": "code",
   "execution_count": 301,
   "id": "973cea47",
   "metadata": {},
   "outputs": [
    {
     "name": "stderr",
     "output_type": "stream",
     "text": [
      "\u001b[36m\u001b[1m[ \u001b[22m\u001b[39m\u001b[36m\u001b[1mInfo: \u001b[22m\u001b[39mSaved animation to /home/rita13santos/Desktop/MSc Thesis/Git/ScalarField/anim_res1.gif\n"
     ]
    },
    {
     "data": {
      "text/html": [
       "<img src=\"data:image/gif;base64,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\" />"
      ],
      "text/plain": [
       "Plots.AnimatedGif(\"/home/rita13santos/Desktop/MSc Thesis/Git/ScalarField/anim_res1.gif\")"
      ]
     },
     "execution_count": 301,
     "metadata": {},
     "output_type": "execute_result"
    }
   ],
   "source": [
    "using Plots, CSV, DataFrames\n",
    "import GR\n",
    "anim = @animate for n in 0:1:2\n",
    "    \n",
    "    IJulia.clear_output(true)\n",
    "    \n",
    "    functions3=DataFrame(CSV.File(dir*\"/res$res/time_step$n.csv\",header=false, delim=\",\"))\n",
    "    plot()\n",
    "        plot1=functions3.Column1[4:L-3];\n",
    "        plot2=functions3.Column2[4:L-3];\n",
    "        plot3=functions3.Column3[4:L-3];\n",
    "        plot4=functions3.Column4[4:L-3];\n",
    "        plot5=functions3.Column5[4:L-3];\n",
    "    \n",
    "    plot!(initX1, [plot1 plot2 plot3 plot4], labels=[\"m\" \"beta\" \"psi\" \"psi,x\"], ylim=[-0.1, 0.1])#, xlim=[0, 0.1])# |> display \n",
    "    #plot!(initX[4:L-3], [plot1], labels=[\"m\" \"beta\" \"psi\" \"psi,x\"],ylim=[-1,1])#, xlim=[0, 0.1]) |> display \n",
    "    \n",
    "    end\n",
    "\n",
    "gif(anim, \"anim_res$res.gif\", fps = 20)"
   ]
  },
  {
   "cell_type": "code",
   "execution_count": 432,
   "id": "c6b8b7bc",
   "metadata": {},
   "outputs": [
    {
     "ename": "LoadError",
     "evalue": "ArgumentError: \"/home/rita13santos/Desktop/MSc Thesis/Git/ScalarField/DATA/res2/monitor_ratio10.csv\" is not a valid file or doesn't exist",
     "output_type": "error",
     "traceback": [
      "ArgumentError: \"/home/rita13santos/Desktop/MSc Thesis/Git/ScalarField/DATA/res2/monitor_ratio10.csv\" is not a valid file or doesn't exist",
      "",
      "Stacktrace:",
      " [1] CSV.Context(source::CSV.Arg, header::CSV.Arg, normalizenames::CSV.Arg, datarow::CSV.Arg, skipto::CSV.Arg, footerskip::CSV.Arg, transpose::CSV.Arg, comment::CSV.Arg, ignoreemptyrows::CSV.Arg, ignoreemptylines::CSV.Arg, select::CSV.Arg, drop::CSV.Arg, limit::CSV.Arg, buffer_in_memory::CSV.Arg, threaded::CSV.Arg, ntasks::CSV.Arg, tasks::CSV.Arg, rows_to_check::CSV.Arg, lines_to_check::CSV.Arg, missingstrings::CSV.Arg, missingstring::CSV.Arg, delim::CSV.Arg, ignorerepeated::CSV.Arg, quoted::CSV.Arg, quotechar::CSV.Arg, openquotechar::CSV.Arg, closequotechar::CSV.Arg, escapechar::CSV.Arg, dateformat::CSV.Arg, dateformats::CSV.Arg, decimal::CSV.Arg, truestrings::CSV.Arg, falsestrings::CSV.Arg, stripwhitespace::CSV.Arg, type::CSV.Arg, types::CSV.Arg, typemap::CSV.Arg, pool::CSV.Arg, downcast::CSV.Arg, lazystrings::CSV.Arg, stringtype::CSV.Arg, strict::CSV.Arg, silencewarnings::CSV.Arg, maxwarnings::CSV.Arg, debug::CSV.Arg, parsingdebug::CSV.Arg, validate::CSV.Arg, streaming::CSV.Arg)",
      "   @ CSV ~/.julia/packages/CSV/b8ebJ/src/context.jl:306",
      " [2] #File#28",
      "   @ ~/.julia/packages/CSV/b8ebJ/src/file.jl:221 [inlined]",
      " [3] macro expansion",
      "   @ ./In[432]:7 [inlined]",
      " [4] top-level scope",
      "   @ ~/.julia/packages/Plots/bMtsB/src/animation.jl:251"
     ]
    }
   ],
   "source": [
    "using Plots, CSV, DataFrames\n",
    "import GR\n",
    "anim = @animate for n in 10:10:290#length(T)-1\n",
    "    \n",
    "    IJulia.clear_output(true)\n",
    "    \n",
    "    functions3=DataFrame(CSV.File(dir*\"/res$res/monitor_ratio$n.csv\",header=false, delim=\",\"))\n",
    "    plot()\n",
    "        plot1=functions3.Column1[4:L-3];\n",
    "    \n",
    "    plot!(initX1, [plot1], labels=[\"monitor ratio\"], ylim=[0, 1])# |> display \n",
    "    #plot!(initX[4:L-3], [plot1], labels=[\"m\" \"beta\" \"psi\" \"psi,x\"],ylim=[-1,1])#, xlim=[0, 0.1]) |> display \n",
    "    \n",
    "    end\n",
    "\n",
    "gif(anim, \"anim_res$res.gif\", fps = 5)"
   ]
  },
  {
   "cell_type": "code",
   "execution_count": 51,
   "id": "34adf7fe",
   "metadata": {},
   "outputs": [
    {
     "data": {
      "text/plain": [
       "0.015625"
      ]
     },
     "execution_count": 51,
     "metadata": {},
     "output_type": "execute_result"
    }
   ],
   "source": [
    "epsilon(dt,dx)"
   ]
  },
  {
   "cell_type": "code",
   "execution_count": null,
   "id": "a05acb5f",
   "metadata": {},
   "outputs": [],
   "source": []
  },
  {
   "cell_type": "code",
   "execution_count": null,
   "id": "01c840df",
   "metadata": {},
   "outputs": [],
   "source": []
  },
  {
   "cell_type": "code",
   "execution_count": null,
   "id": "eb36f345",
   "metadata": {},
   "outputs": [],
   "source": []
  },
  {
   "cell_type": "code",
   "execution_count": null,
   "id": "6e1862b9",
   "metadata": {},
   "outputs": [],
   "source": []
  }
 ],
 "metadata": {
  "@webio": {
   "lastCommId": null,
   "lastKernelId": null
  },
  "kernelspec": {
   "display_name": "Julia 1.8.0",
   "language": "julia",
   "name": "julia-1.8"
  },
  "language_info": {
   "file_extension": ".jl",
   "mimetype": "application/julia",
   "name": "julia",
   "version": "1.8.0"
  },
  "papermill": {
   "default_parameters": {},
   "duration": 7025.507115,
   "end_time": "2023-03-28T20:03:06.430756",
   "environment_variables": {},
   "exception": null,
   "input_path": "Evolution_ScalarField.ipynb",
   "output_path": "Evolution_ScalarField.ipynb",
   "parameters": {
    "A": 0.001,
    "m": 3
   },
   "start_time": "2023-03-28T18:06:00.923641",
   "version": "2.4.0"
  }
 },
 "nbformat": 4,
 "nbformat_minor": 5
}
