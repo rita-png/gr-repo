{
 "cells": [
  {
   "cell_type": "markdown",
   "id": "d88601a8",
   "metadata": {
    "papermill": {
     "duration": 0.015163,
     "end_time": "2023-06-25T23:42:57.186088",
     "exception": false,
     "start_time": "2023-06-25T23:42:57.170925",
     "status": "completed"
    },
    "tags": []
   },
   "source": [
    "# Evolution of Einstein's equations"
   ]
  },
  {
   "cell_type": "markdown",
   "id": "03c607c7",
   "metadata": {
    "papermill": {
     "duration": 0.010424,
     "end_time": "2023-06-25T23:42:57.208893",
     "exception": false,
     "start_time": "2023-06-25T23:42:57.198469",
     "status": "completed"
    },
    "tags": []
   },
   "source": [
    "# Initial data , setting length of the domain and discretization\n"
   ]
  },
  {
   "cell_type": "code",
   "execution_count": 18,
   "id": "28f9b745",
   "metadata": {
    "execution": {
     "iopub.execute_input": "2023-06-26T00:42:59.100000Z",
     "iopub.status.busy": "2023-06-26T00:42:59.099000Z",
     "iopub.status.idle": "2023-06-26T00:42:59.434000Z",
     "shell.execute_reply": "2023-06-26T00:42:59.433000Z"
    },
    "papermill": {
     "duration": 0.350967,
     "end_time": "2023-06-25T23:42:59.438671",
     "exception": false,
     "start_time": "2023-06-25T23:42:59.087704",
     "status": "completed"
    },
    "tags": []
   },
   "outputs": [
    {
     "data": {
      "text/plain": [
       "1"
      ]
     },
     "execution_count": 18,
     "metadata": {},
     "output_type": "execute_result"
    }
   ],
   "source": [
    "m = 2\n",
    "A = 0.01#0.0492646484375#0.001#0.049375#5#0.0492645084166179#0.049264507293701174#0.049264508247375494#0.04925#0.0493#0.001#0.049375#0.07#0.05#0.1124921875#0.125\n",
    "run = 1"
   ]
  },
  {
   "cell_type": "code",
   "execution_count": 19,
   "id": "2ff5e8df",
   "metadata": {
    "execution": {
     "iopub.execute_input": "2023-06-26T00:42:59.466000Z",
     "iopub.status.busy": "2023-06-26T00:42:59.466000Z",
     "iopub.status.idle": "2023-06-26T00:42:59.523000Z",
     "shell.execute_reply": "2023-06-26T00:42:59.522000Z"
    },
    "papermill": {
     "duration": 0.071685,
     "end_time": "2023-06-25T23:42:59.525548",
     "exception": false,
     "start_time": "2023-06-25T23:42:59.453863",
     "status": "completed"
    },
    "tags": []
   },
   "outputs": [],
   "source": [
    "global loggrid=true#true\n",
    "global bisection=false\n",
    "global meshrefinement=false;"
   ]
  },
  {
   "cell_type": "code",
   "execution_count": 20,
   "id": "80a113e0",
   "metadata": {
    "execution": {
     "iopub.execute_input": "2023-06-26T00:42:59.552000Z",
     "iopub.status.busy": "2023-06-26T00:42:59.552000Z",
     "iopub.status.idle": "2023-06-26T00:42:59.621000Z",
     "shell.execute_reply": "2023-06-26T00:42:59.621000Z"
    },
    "papermill": {
     "duration": 0.08251,
     "end_time": "2023-06-25T23:42:59.622720",
     "exception": false,
     "start_time": "2023-06-25T23:42:59.540210",
     "status": "completed"
    },
    "tags": []
   },
   "outputs": [],
   "source": [
    "using Quadmath, Printf\n",
    "\n",
    "res=m;\n",
    "N=200.0#2.0^m*1600.0/2.0#2.0^m*1000.0/2.0#Nt=2.0^m*1000.0/2.0\n",
    "Xf=1.0#Float128(1.0);\n",
    "\n",
    "dx=Xf/N#Float128(Xf/N);\n",
    "if loggrid==false\n",
    "    dt=0.5*round(dx,digits=10)\n",
    "else\n",
    "    dt=0.1*round(dx,digits=10)\n",
    "end\n",
    "Nt=200.0#2.0^m*1600.0/2.0#2.0^m*1000.0/2.0#Nt=2.0^m*1000.0/2.0\n",
    "Tf=Nt*dt; #final time\n",
    "#print(Tf)"
   ]
  },
  {
   "cell_type": "code",
   "execution_count": 21,
   "id": "4f752d54",
   "metadata": {
    "execution": {
     "iopub.execute_input": "2023-06-26T00:42:59.638000Z",
     "iopub.status.busy": "2023-06-26T00:42:59.638000Z",
     "iopub.status.idle": "2023-06-26T00:42:59.702000Z",
     "shell.execute_reply": "2023-06-26T00:42:59.702000Z"
    },
    "papermill": {
     "duration": 0.077298,
     "end_time": "2023-06-25T23:42:59.707408",
     "exception": false,
     "start_time": "2023-06-25T23:42:59.630110",
     "status": "completed"
    },
    "tags": []
   },
   "outputs": [
    {
     "name": "stdout",
     "output_type": "stream",
     "text": [
      "200.0"
     ]
    }
   ],
   "source": [
    "print(N)"
   ]
  },
  {
   "cell_type": "code",
   "execution_count": 22,
   "id": "ad48576a",
   "metadata": {
    "execution": {
     "iopub.execute_input": "2023-06-26T00:42:59.729000Z",
     "iopub.status.busy": "2023-06-26T00:42:59.729000Z",
     "iopub.status.idle": "2023-06-26T00:42:59.783000Z",
     "shell.execute_reply": "2023-06-26T00:42:59.783000Z"
    },
    "papermill": {
     "duration": 0.067163,
     "end_time": "2023-06-25T23:42:59.787014",
     "exception": false,
     "start_time": "2023-06-25T23:42:59.719851",
     "status": "completed"
    },
    "tags": []
   },
   "outputs": [
    {
     "name": "stdout",
     "output_type": "stream",
     "text": [
      "dx =0.005\n",
      "dt =0.0005\n",
      "dx/dt =10.0\n"
     ]
    }
   ],
   "source": [
    "println(\"dx =\", dx)\n",
    "println(\"dt =\", dt)\n",
    "println(\"dx/dt =\", dx/dt)"
   ]
  },
  {
   "cell_type": "code",
   "execution_count": 23,
   "id": "78fb78a5",
   "metadata": {
    "execution": {
     "iopub.execute_input": "2023-06-26T00:42:59.810000Z",
     "iopub.status.busy": "2023-06-26T00:42:59.810000Z",
     "iopub.status.idle": "2023-06-26T00:43:00.498000Z",
     "shell.execute_reply": "2023-06-26T00:43:00.497000Z"
    },
    "papermill": {
     "duration": 0.702356,
     "end_time": "2023-06-25T23:43:00.502911",
     "exception": false,
     "start_time": "2023-06-25T23:42:59.800555",
     "status": "completed"
    },
    "tags": []
   },
   "outputs": [
    {
     "data": {
      "text/plain": [
       "\"/home/rita13santos/Desktop/MSc Thesis/Git/ScalarField/DATA\""
      ]
     },
     "execution_count": 23,
     "metadata": {},
     "output_type": "execute_result"
    }
   ],
   "source": [
    "global dir = \"/home/rita13santos/Desktop/MSc Thesis/Git/ScalarField/DATA\" #~/data/ritapsantos/\n",
    "#global dir = \"/home/rita13santos/Desktop/MSc Thesis/Git/ScalarField/DATA\""
   ]
  },
  {
   "cell_type": "markdown",
   "id": "e2dd4335",
   "metadata": {
    "papermill": {
     "duration": 0.006798,
     "end_time": "2023-06-25T23:43:00.521277",
     "exception": false,
     "start_time": "2023-06-25T23:43:00.514479",
     "status": "completed"
    },
    "tags": []
   },
   "source": [
    "# Grid"
   ]
  },
  {
   "cell_type": "code",
   "execution_count": 24,
   "id": "bc5288f8",
   "metadata": {
    "execution": {
     "iopub.execute_input": "2023-06-26T00:43:00.535000Z",
     "iopub.status.busy": "2023-06-26T00:43:00.535000Z",
     "iopub.status.idle": "2023-06-26T00:43:00.813000Z",
     "shell.execute_reply": "2023-06-26T00:43:00.812000Z"
    },
    "papermill": {
     "duration": 0.288149,
     "end_time": "2023-06-25T23:43:00.816198",
     "exception": false,
     "start_time": "2023-06-25T23:43:00.528049",
     "status": "completed"
    },
    "tags": []
   },
   "outputs": [],
   "source": [
    "using Printf\n",
    "include(\"./ScalarField.jl\");"
   ]
  },
  {
   "cell_type": "code",
   "execution_count": 25,
   "id": "de24fea3",
   "metadata": {
    "execution": {
     "iopub.execute_input": "2023-06-26T00:43:00.841000Z",
     "iopub.status.busy": "2023-06-26T00:43:00.841000Z",
     "iopub.status.idle": "2023-06-26T00:43:01.456000Z",
     "shell.execute_reply": "2023-06-26T00:43:01.456000Z"
    },
    "papermill": {
     "duration": 0.631177,
     "end_time": "2023-06-25T23:43:01.461452",
     "exception": false,
     "start_time": "2023-06-25T23:43:00.830275",
     "status": "completed"
    },
    "tags": []
   },
   "outputs": [
    {
     "name": "stdout",
     "output_type": "stream",
     "text": [
      "step size is  0.005\n",
      "the time step is 0.0005\n"
     ]
    }
   ],
   "source": [
    "ori=0.0#Float128(0.0)#0.0;\n",
    "initX1 = nothing\n",
    "N=int(N)\n",
    "initX1=range(ori, stop=Xf, step=dx);\n",
    "#initX1=create_range(ori,Xf,dx,N)\n",
    "initX = range(round(ori-3.0*dx,digits=10), stop=Xf+3.0*dx, step=dx)\n",
    "#initX=create_range(ori-3.0*dx,Xf+3.0*dx,dx,N+6)\n",
    "\n",
    "L=length(initX);\n",
    "println(\"step size is  \", dx)\n",
    "println(\"the time step is \", dt)\n",
    "\n",
    "if loggrid==true\n",
    "    global originalX=initX\n",
    "    xtilde=gridfunc(initX1)\n",
    "    initX1=xtilde\n",
    "    initX=collect(initX)\n",
    "    initX[4:L-3]=xtilde\n",
    "    \"\"\"global originalX=initX\n",
    "    xtilde=gridfunc(initX1)\n",
    "    initX1=xtilde\n",
    "    initX=collect(initX)\n",
    "    initX[4:L-4]=xtilde[1:length(xtilde)-1]\"\"\"\n",
    "end;"
   ]
  },
  {
   "cell_type": "code",
   "execution_count": 26,
   "id": "ebd8190d",
   "metadata": {},
   "outputs": [
    {
     "data": {
      "image/svg+xml": [
       "<?xml version=\"1.0\" encoding=\"utf-8\"?>\n",
       "<svg xmlns=\"http://www.w3.org/2000/svg\" xmlns:xlink=\"http://www.w3.org/1999/xlink\" width=\"600\" height=\"400\" viewBox=\"0 0 2400 1600\">\n",
       "<defs>\n",
       "  <clipPath id=\"clip190\">\n",
       "    <rect x=\"0\" y=\"0\" width=\"2400\" height=\"1600\"/>\n",
       "  </clipPath>\n",
       "</defs>\n",
       "<path clip-path=\"url(#clip190)\" d=\"M0 1600 L2400 1600 L2400 0 L0 0  Z\" fill=\"#ffffff\" fill-rule=\"evenodd\" fill-opacity=\"1\"/>\n",
       "<defs>\n",
       "  <clipPath id=\"clip191\">\n",
       "    <rect x=\"480\" y=\"0\" width=\"1681\" height=\"1600\"/>\n",
       "  </clipPath>\n",
       "</defs>\n",
       "<path clip-path=\"url(#clip190)\" d=\"M193.936 1486.45 L2352.76 1486.45 L2352.76 47.2441 L193.936 47.2441  Z\" fill=\"#ffffff\" fill-rule=\"evenodd\" fill-opacity=\"1\"/>\n",
       "<defs>\n",
       "  <clipPath id=\"clip192\">\n",
       "    <rect x=\"193\" y=\"47\" width=\"2160\" height=\"1440\"/>\n",
       "  </clipPath>\n",
       "</defs>\n",
       "<polyline clip-path=\"url(#clip192)\" style=\"stroke:#000000; stroke-linecap:round; stroke-linejoin:round; stroke-width:2; stroke-opacity:0.1; fill:none\" points=\"284.694,1486.45 284.694,47.2441 \"/>\n",
       "<polyline clip-path=\"url(#clip192)\" style=\"stroke:#000000; stroke-linecap:round; stroke-linejoin:round; stroke-width:2; stroke-opacity:0.1; fill:none\" points=\"779.02,1486.45 779.02,47.2441 \"/>\n",
       "<polyline clip-path=\"url(#clip192)\" style=\"stroke:#000000; stroke-linecap:round; stroke-linejoin:round; stroke-width:2; stroke-opacity:0.1; fill:none\" points=\"1273.35,1486.45 1273.35,47.2441 \"/>\n",
       "<polyline clip-path=\"url(#clip192)\" style=\"stroke:#000000; stroke-linecap:round; stroke-linejoin:round; stroke-width:2; stroke-opacity:0.1; fill:none\" points=\"1767.67,1486.45 1767.67,47.2441 \"/>\n",
       "<polyline clip-path=\"url(#clip192)\" style=\"stroke:#000000; stroke-linecap:round; stroke-linejoin:round; stroke-width:2; stroke-opacity:0.1; fill:none\" points=\"2262,1486.45 2262,47.2441 \"/>\n",
       "<polyline clip-path=\"url(#clip190)\" style=\"stroke:#000000; stroke-linecap:round; stroke-linejoin:round; stroke-width:4; stroke-opacity:1; fill:none\" points=\"193.936,1486.45 2352.76,1486.45 \"/>\n",
       "<polyline clip-path=\"url(#clip190)\" style=\"stroke:#000000; stroke-linecap:round; stroke-linejoin:round; stroke-width:4; stroke-opacity:1; fill:none\" points=\"284.694,1486.45 284.694,1467.55 \"/>\n",
       "<polyline clip-path=\"url(#clip190)\" style=\"stroke:#000000; stroke-linecap:round; stroke-linejoin:round; stroke-width:4; stroke-opacity:1; fill:none\" points=\"779.02,1486.45 779.02,1467.55 \"/>\n",
       "<polyline clip-path=\"url(#clip190)\" style=\"stroke:#000000; stroke-linecap:round; stroke-linejoin:round; stroke-width:4; stroke-opacity:1; fill:none\" points=\"1273.35,1486.45 1273.35,1467.55 \"/>\n",
       "<polyline clip-path=\"url(#clip190)\" style=\"stroke:#000000; stroke-linecap:round; stroke-linejoin:round; stroke-width:4; stroke-opacity:1; fill:none\" points=\"1767.67,1486.45 1767.67,1467.55 \"/>\n",
       "<polyline clip-path=\"url(#clip190)\" style=\"stroke:#000000; stroke-linecap:round; stroke-linejoin:round; stroke-width:4; stroke-opacity:1; fill:none\" points=\"2262,1486.45 2262,1467.55 \"/>\n",
       "<path clip-path=\"url(#clip190)\" d=\"M246.998 1517.37 Q243.387 1517.37 241.558 1520.93 Q239.752 1524.47 239.752 1531.6 Q239.752 1538.71 241.558 1542.27 Q243.387 1545.82 246.998 1545.82 Q250.632 1545.82 252.437 1542.27 Q254.266 1538.71 254.266 1531.6 Q254.266 1524.47 252.437 1520.93 Q250.632 1517.37 246.998 1517.37 M246.998 1513.66 Q252.808 1513.66 255.863 1518.27 Q258.942 1522.85 258.942 1531.6 Q258.942 1540.33 255.863 1544.94 Q252.808 1549.52 246.998 1549.52 Q241.188 1549.52 238.109 1544.94 Q235.053 1540.33 235.053 1531.6 Q235.053 1522.85 238.109 1518.27 Q241.188 1513.66 246.998 1513.66 Z\" fill=\"#000000\" fill-rule=\"evenodd\" fill-opacity=\"1\" /><path clip-path=\"url(#clip190)\" d=\"M267.16 1542.97 L272.044 1542.97 L272.044 1548.85 L267.16 1548.85 L267.16 1542.97 Z\" fill=\"#000000\" fill-rule=\"evenodd\" fill-opacity=\"1\" /><path clip-path=\"url(#clip190)\" d=\"M292.229 1517.37 Q288.618 1517.37 286.789 1520.93 Q284.984 1524.47 284.984 1531.6 Q284.984 1538.71 286.789 1542.27 Q288.618 1545.82 292.229 1545.82 Q295.863 1545.82 297.669 1542.27 Q299.497 1538.71 299.497 1531.6 Q299.497 1524.47 297.669 1520.93 Q295.863 1517.37 292.229 1517.37 M292.229 1513.66 Q298.039 1513.66 301.095 1518.27 Q304.173 1522.85 304.173 1531.6 Q304.173 1540.33 301.095 1544.94 Q298.039 1549.52 292.229 1549.52 Q286.419 1549.52 283.34 1544.94 Q280.285 1540.33 280.285 1531.6 Q280.285 1522.85 283.34 1518.27 Q286.419 1513.66 292.229 1513.66 Z\" fill=\"#000000\" fill-rule=\"evenodd\" fill-opacity=\"1\" /><path clip-path=\"url(#clip190)\" d=\"M322.391 1517.37 Q318.78 1517.37 316.951 1520.93 Q315.145 1524.47 315.145 1531.6 Q315.145 1538.71 316.951 1542.27 Q318.78 1545.82 322.391 1545.82 Q326.025 1545.82 327.831 1542.27 Q329.659 1538.71 329.659 1531.6 Q329.659 1524.47 327.831 1520.93 Q326.025 1517.37 322.391 1517.37 M322.391 1513.66 Q328.201 1513.66 331.256 1518.27 Q334.335 1522.85 334.335 1531.6 Q334.335 1540.33 331.256 1544.94 Q328.201 1549.52 322.391 1549.52 Q316.581 1549.52 313.502 1544.94 Q310.446 1540.33 310.446 1531.6 Q310.446 1522.85 313.502 1518.27 Q316.581 1513.66 322.391 1513.66 Z\" fill=\"#000000\" fill-rule=\"evenodd\" fill-opacity=\"1\" /><path clip-path=\"url(#clip190)\" d=\"M741.821 1517.37 Q738.21 1517.37 736.381 1520.93 Q734.576 1524.47 734.576 1531.6 Q734.576 1538.71 736.381 1542.27 Q738.21 1545.82 741.821 1545.82 Q745.455 1545.82 747.261 1542.27 Q749.09 1538.71 749.09 1531.6 Q749.09 1524.47 747.261 1520.93 Q745.455 1517.37 741.821 1517.37 M741.821 1513.66 Q747.631 1513.66 750.687 1518.27 Q753.766 1522.85 753.766 1531.6 Q753.766 1540.33 750.687 1544.94 Q747.631 1549.52 741.821 1549.52 Q736.011 1549.52 732.932 1544.94 Q729.877 1540.33 729.877 1531.6 Q729.877 1522.85 732.932 1518.27 Q736.011 1513.66 741.821 1513.66 Z\" fill=\"#000000\" fill-rule=\"evenodd\" fill-opacity=\"1\" /><path clip-path=\"url(#clip190)\" d=\"M761.983 1542.97 L766.867 1542.97 L766.867 1548.85 L761.983 1548.85 L761.983 1542.97 Z\" fill=\"#000000\" fill-rule=\"evenodd\" fill-opacity=\"1\" /><path clip-path=\"url(#clip190)\" d=\"M781.08 1544.91 L797.4 1544.91 L797.4 1548.85 L775.455 1548.85 L775.455 1544.91 Q778.117 1542.16 782.701 1537.53 Q787.307 1532.88 788.488 1531.53 Q790.733 1529.01 791.613 1527.27 Q792.515 1525.51 792.515 1523.82 Q792.515 1521.07 790.571 1519.33 Q788.65 1517.6 785.548 1517.6 Q783.349 1517.6 780.895 1518.36 Q778.465 1519.13 775.687 1520.68 L775.687 1515.95 Q778.511 1514.82 780.965 1514.24 Q783.418 1513.66 785.455 1513.66 Q790.826 1513.66 794.02 1516.35 Q797.214 1519.03 797.214 1523.52 Q797.214 1525.65 796.404 1527.57 Q795.617 1529.47 793.511 1532.07 Q792.932 1532.74 789.83 1535.95 Q786.728 1539.15 781.08 1544.91 Z\" fill=\"#000000\" fill-rule=\"evenodd\" fill-opacity=\"1\" /><path clip-path=\"url(#clip190)\" d=\"M807.261 1514.29 L825.617 1514.29 L825.617 1518.22 L811.543 1518.22 L811.543 1526.7 Q812.562 1526.35 813.58 1526.19 Q814.599 1526 815.617 1526 Q821.404 1526 824.784 1529.17 Q828.163 1532.34 828.163 1537.76 Q828.163 1543.34 824.691 1546.44 Q821.219 1549.52 814.9 1549.52 Q812.724 1549.52 810.455 1549.15 Q808.21 1548.78 805.802 1548.04 L805.802 1543.34 Q807.886 1544.47 810.108 1545.03 Q812.33 1545.58 814.807 1545.58 Q818.812 1545.58 821.149 1543.48 Q823.487 1541.37 823.487 1537.76 Q823.487 1534.15 821.149 1532.04 Q818.812 1529.94 814.807 1529.94 Q812.932 1529.94 811.057 1530.35 Q809.205 1530.77 807.261 1531.65 L807.261 1514.29 Z\" fill=\"#000000\" fill-rule=\"evenodd\" fill-opacity=\"1\" /><path clip-path=\"url(#clip190)\" d=\"M1235.65 1517.37 Q1232.04 1517.37 1230.21 1520.93 Q1228.4 1524.47 1228.4 1531.6 Q1228.4 1538.71 1230.21 1542.27 Q1232.04 1545.82 1235.65 1545.82 Q1239.28 1545.82 1241.09 1542.27 Q1242.92 1538.71 1242.92 1531.6 Q1242.92 1524.47 1241.09 1520.93 Q1239.28 1517.37 1235.65 1517.37 M1235.65 1513.66 Q1241.46 1513.66 1244.52 1518.27 Q1247.59 1522.85 1247.59 1531.6 Q1247.59 1540.33 1244.52 1544.94 Q1241.46 1549.52 1235.65 1549.52 Q1229.84 1549.52 1226.76 1544.94 Q1223.71 1540.33 1223.71 1531.6 Q1223.71 1522.85 1226.76 1518.27 Q1229.84 1513.66 1235.65 1513.66 Z\" fill=\"#000000\" fill-rule=\"evenodd\" fill-opacity=\"1\" /><path clip-path=\"url(#clip190)\" d=\"M1255.81 1542.97 L1260.7 1542.97 L1260.7 1548.85 L1255.81 1548.85 L1255.81 1542.97 Z\" fill=\"#000000\" fill-rule=\"evenodd\" fill-opacity=\"1\" /><path clip-path=\"url(#clip190)\" d=\"M1270.93 1514.29 L1289.28 1514.29 L1289.28 1518.22 L1275.21 1518.22 L1275.21 1526.7 Q1276.23 1526.35 1277.25 1526.19 Q1278.26 1526 1279.28 1526 Q1285.07 1526 1288.45 1529.17 Q1291.83 1532.34 1291.83 1537.76 Q1291.83 1543.34 1288.36 1546.44 Q1284.89 1549.52 1278.57 1549.52 Q1276.39 1549.52 1274.12 1549.15 Q1271.88 1548.78 1269.47 1548.04 L1269.47 1543.34 Q1271.55 1544.47 1273.77 1545.03 Q1276 1545.58 1278.47 1545.58 Q1282.48 1545.58 1284.82 1543.48 Q1287.15 1541.37 1287.15 1537.76 Q1287.15 1534.15 1284.82 1532.04 Q1282.48 1529.94 1278.47 1529.94 Q1276.6 1529.94 1274.72 1530.35 Q1272.87 1530.77 1270.93 1531.65 L1270.93 1514.29 Z\" fill=\"#000000\" fill-rule=\"evenodd\" fill-opacity=\"1\" /><path clip-path=\"url(#clip190)\" d=\"M1311.04 1517.37 Q1307.43 1517.37 1305.6 1520.93 Q1303.8 1524.47 1303.8 1531.6 Q1303.8 1538.71 1305.6 1542.27 Q1307.43 1545.82 1311.04 1545.82 Q1314.68 1545.82 1316.48 1542.27 Q1318.31 1538.71 1318.31 1531.6 Q1318.31 1524.47 1316.48 1520.93 Q1314.68 1517.37 1311.04 1517.37 M1311.04 1513.66 Q1316.85 1513.66 1319.91 1518.27 Q1322.99 1522.85 1322.99 1531.6 Q1322.99 1540.33 1319.91 1544.94 Q1316.85 1549.52 1311.04 1549.52 Q1305.23 1549.52 1302.15 1544.94 Q1299.1 1540.33 1299.1 1531.6 Q1299.1 1522.85 1302.15 1518.27 Q1305.23 1513.66 1311.04 1513.66 Z\" fill=\"#000000\" fill-rule=\"evenodd\" fill-opacity=\"1\" /><path clip-path=\"url(#clip190)\" d=\"M1730.47 1517.37 Q1726.86 1517.37 1725.03 1520.93 Q1723.23 1524.47 1723.23 1531.6 Q1723.23 1538.71 1725.03 1542.27 Q1726.86 1545.82 1730.47 1545.82 Q1734.11 1545.82 1735.91 1542.27 Q1737.74 1538.71 1737.74 1531.6 Q1737.74 1524.47 1735.91 1520.93 Q1734.11 1517.37 1730.47 1517.37 M1730.47 1513.66 Q1736.28 1513.66 1739.34 1518.27 Q1742.42 1522.85 1742.42 1531.6 Q1742.42 1540.33 1739.34 1544.94 Q1736.28 1549.52 1730.47 1549.52 Q1724.66 1549.52 1721.58 1544.94 Q1718.53 1540.33 1718.53 1531.6 Q1718.53 1522.85 1721.58 1518.27 Q1724.66 1513.66 1730.47 1513.66 Z\" fill=\"#000000\" fill-rule=\"evenodd\" fill-opacity=\"1\" /><path clip-path=\"url(#clip190)\" d=\"M1750.63 1542.97 L1755.52 1542.97 L1755.52 1548.85 L1750.63 1548.85 L1750.63 1542.97 Z\" fill=\"#000000\" fill-rule=\"evenodd\" fill-opacity=\"1\" /><path clip-path=\"url(#clip190)\" d=\"M1764.52 1514.29 L1786.75 1514.29 L1786.75 1516.28 L1774.2 1548.85 L1769.32 1548.85 L1781.12 1518.22 L1764.52 1518.22 L1764.52 1514.29 Z\" fill=\"#000000\" fill-rule=\"evenodd\" fill-opacity=\"1\" /><path clip-path=\"url(#clip190)\" d=\"M1795.91 1514.29 L1814.27 1514.29 L1814.27 1518.22 L1800.19 1518.22 L1800.19 1526.7 Q1801.21 1526.35 1802.23 1526.19 Q1803.25 1526 1804.27 1526 Q1810.06 1526 1813.44 1529.17 Q1816.82 1532.34 1816.82 1537.76 Q1816.82 1543.34 1813.34 1546.44 Q1809.87 1549.52 1803.55 1549.52 Q1801.38 1549.52 1799.11 1549.15 Q1796.86 1548.78 1794.45 1548.04 L1794.45 1543.34 Q1796.54 1544.47 1798.76 1545.03 Q1800.98 1545.58 1803.46 1545.58 Q1807.46 1545.58 1809.8 1543.48 Q1812.14 1541.37 1812.14 1537.76 Q1812.14 1534.15 1809.8 1532.04 Q1807.46 1529.94 1803.46 1529.94 Q1801.58 1529.94 1799.71 1530.35 Q1797.86 1530.77 1795.91 1531.65 L1795.91 1514.29 Z\" fill=\"#000000\" fill-rule=\"evenodd\" fill-opacity=\"1\" /><path clip-path=\"url(#clip190)\" d=\"M2214.07 1544.91 L2221.71 1544.91 L2221.71 1518.55 L2213.4 1520.21 L2213.4 1515.95 L2221.66 1514.29 L2226.34 1514.29 L2226.34 1544.91 L2233.98 1544.91 L2233.98 1548.85 L2214.07 1548.85 L2214.07 1544.91 Z\" fill=\"#000000\" fill-rule=\"evenodd\" fill-opacity=\"1\" /><path clip-path=\"url(#clip190)\" d=\"M2243.42 1542.97 L2248.31 1542.97 L2248.31 1548.85 L2243.42 1548.85 L2243.42 1542.97 Z\" fill=\"#000000\" fill-rule=\"evenodd\" fill-opacity=\"1\" /><path clip-path=\"url(#clip190)\" d=\"M2268.49 1517.37 Q2264.88 1517.37 2263.05 1520.93 Q2261.25 1524.47 2261.25 1531.6 Q2261.25 1538.71 2263.05 1542.27 Q2264.88 1545.82 2268.49 1545.82 Q2272.12 1545.82 2273.93 1542.27 Q2275.76 1538.71 2275.76 1531.6 Q2275.76 1524.47 2273.93 1520.93 Q2272.12 1517.37 2268.49 1517.37 M2268.49 1513.66 Q2274.3 1513.66 2277.36 1518.27 Q2280.44 1522.85 2280.44 1531.6 Q2280.44 1540.33 2277.36 1544.94 Q2274.3 1549.52 2268.49 1549.52 Q2262.68 1549.52 2259.6 1544.94 Q2256.55 1540.33 2256.55 1531.6 Q2256.55 1522.85 2259.6 1518.27 Q2262.68 1513.66 2268.49 1513.66 Z\" fill=\"#000000\" fill-rule=\"evenodd\" fill-opacity=\"1\" /><path clip-path=\"url(#clip190)\" d=\"M2298.65 1517.37 Q2295.04 1517.37 2293.21 1520.93 Q2291.41 1524.47 2291.41 1531.6 Q2291.41 1538.71 2293.21 1542.27 Q2295.04 1545.82 2298.65 1545.82 Q2302.29 1545.82 2304.09 1542.27 Q2305.92 1538.71 2305.92 1531.6 Q2305.92 1524.47 2304.09 1520.93 Q2302.29 1517.37 2298.65 1517.37 M2298.65 1513.66 Q2304.46 1513.66 2307.52 1518.27 Q2310.6 1522.85 2310.6 1531.6 Q2310.6 1540.33 2307.52 1544.94 Q2304.46 1549.52 2298.65 1549.52 Q2292.84 1549.52 2289.76 1544.94 Q2286.71 1540.33 2286.71 1531.6 Q2286.71 1522.85 2289.76 1518.27 Q2292.84 1513.66 2298.65 1513.66 Z\" fill=\"#000000\" fill-rule=\"evenodd\" fill-opacity=\"1\" /><polyline clip-path=\"url(#clip192)\" style=\"stroke:#000000; stroke-linecap:round; stroke-linejoin:round; stroke-width:2; stroke-opacity:0.1; fill:none\" points=\"193.936,1486.45 2352.76,1486.45 \"/>\n",
       "<polyline clip-path=\"url(#clip192)\" style=\"stroke:#000000; stroke-linecap:round; stroke-linejoin:round; stroke-width:2; stroke-opacity:0.1; fill:none\" points=\"193.936,1126.65 2352.76,1126.65 \"/>\n",
       "<polyline clip-path=\"url(#clip192)\" style=\"stroke:#000000; stroke-linecap:round; stroke-linejoin:round; stroke-width:2; stroke-opacity:0.1; fill:none\" points=\"193.936,766.846 2352.76,766.846 \"/>\n",
       "<polyline clip-path=\"url(#clip192)\" style=\"stroke:#000000; stroke-linecap:round; stroke-linejoin:round; stroke-width:2; stroke-opacity:0.1; fill:none\" points=\"193.936,407.045 2352.76,407.045 \"/>\n",
       "<polyline clip-path=\"url(#clip192)\" style=\"stroke:#000000; stroke-linecap:round; stroke-linejoin:round; stroke-width:2; stroke-opacity:0.1; fill:none\" points=\"193.936,47.2441 2352.76,47.2441 \"/>\n",
       "<polyline clip-path=\"url(#clip190)\" style=\"stroke:#000000; stroke-linecap:round; stroke-linejoin:round; stroke-width:4; stroke-opacity:1; fill:none\" points=\"193.936,1486.45 193.936,47.2441 \"/>\n",
       "<polyline clip-path=\"url(#clip190)\" style=\"stroke:#000000; stroke-linecap:round; stroke-linejoin:round; stroke-width:4; stroke-opacity:1; fill:none\" points=\"193.936,1486.45 212.834,1486.45 \"/>\n",
       "<polyline clip-path=\"url(#clip190)\" style=\"stroke:#000000; stroke-linecap:round; stroke-linejoin:round; stroke-width:4; stroke-opacity:1; fill:none\" points=\"193.936,1126.65 212.834,1126.65 \"/>\n",
       "<polyline clip-path=\"url(#clip190)\" style=\"stroke:#000000; stroke-linecap:round; stroke-linejoin:round; stroke-width:4; stroke-opacity:1; fill:none\" points=\"193.936,766.846 212.834,766.846 \"/>\n",
       "<polyline clip-path=\"url(#clip190)\" style=\"stroke:#000000; stroke-linecap:round; stroke-linejoin:round; stroke-width:4; stroke-opacity:1; fill:none\" points=\"193.936,407.045 212.834,407.045 \"/>\n",
       "<polyline clip-path=\"url(#clip190)\" style=\"stroke:#000000; stroke-linecap:round; stroke-linejoin:round; stroke-width:4; stroke-opacity:1; fill:none\" points=\"193.936,47.2441 212.834,47.2441 \"/>\n",
       "<path clip-path=\"url(#clip190)\" d=\"M50.9921 1486.9 L80.6679 1486.9 L80.6679 1490.83 L50.9921 1490.83 L50.9921 1486.9 Z\" fill=\"#000000\" fill-rule=\"evenodd\" fill-opacity=\"1\" /><path clip-path=\"url(#clip190)\" d=\"M91.5706 1499.79 L99.2095 1499.79 L99.2095 1473.43 L90.8993 1475.09 L90.8993 1470.83 L99.1632 1469.17 L103.839 1469.17 L103.839 1499.79 L111.478 1499.79 L111.478 1503.73 L91.5706 1503.73 L91.5706 1499.79 Z\" fill=\"#000000\" fill-rule=\"evenodd\" fill-opacity=\"1\" /><path clip-path=\"url(#clip190)\" d=\"M120.922 1497.85 L125.807 1497.85 L125.807 1503.73 L120.922 1503.73 L120.922 1497.85 Z\" fill=\"#000000\" fill-rule=\"evenodd\" fill-opacity=\"1\" /><path clip-path=\"url(#clip190)\" d=\"M145.992 1472.25 Q142.381 1472.25 140.552 1475.81 Q138.746 1479.35 138.746 1486.48 Q138.746 1493.59 140.552 1497.15 Q142.381 1500.7 145.992 1500.7 Q149.626 1500.7 151.431 1497.15 Q153.26 1493.59 153.26 1486.48 Q153.26 1479.35 151.431 1475.81 Q149.626 1472.25 145.992 1472.25 M145.992 1468.54 Q151.802 1468.54 154.857 1473.15 Q157.936 1477.73 157.936 1486.48 Q157.936 1495.21 154.857 1499.82 Q151.802 1504.4 145.992 1504.4 Q140.181 1504.4 137.103 1499.82 Q134.047 1495.21 134.047 1486.48 Q134.047 1477.73 137.103 1473.15 Q140.181 1468.54 145.992 1468.54 Z\" fill=\"#000000\" fill-rule=\"evenodd\" fill-opacity=\"1\" /><path clip-path=\"url(#clip190)\" d=\"M51.9875 1127.1 L81.6633 1127.1 L81.6633 1131.03 L51.9875 1131.03 L51.9875 1127.1 Z\" fill=\"#000000\" fill-rule=\"evenodd\" fill-opacity=\"1\" /><path clip-path=\"url(#clip190)\" d=\"M101.756 1112.45 Q98.1447 1112.45 96.316 1116.01 Q94.5104 1119.55 94.5104 1126.68 Q94.5104 1133.79 96.316 1137.35 Q98.1447 1140.89 101.756 1140.89 Q105.39 1140.89 107.196 1137.35 Q109.024 1133.79 109.024 1126.68 Q109.024 1119.55 107.196 1116.01 Q105.39 1112.45 101.756 1112.45 M101.756 1108.74 Q107.566 1108.74 110.621 1113.35 Q113.7 1117.93 113.7 1126.68 Q113.7 1135.41 110.621 1140.01 Q107.566 1144.6 101.756 1144.6 Q95.9456 1144.6 92.8669 1140.01 Q89.8114 1135.41 89.8114 1126.68 Q89.8114 1117.93 92.8669 1113.35 Q95.9456 1108.74 101.756 1108.74 Z\" fill=\"#000000\" fill-rule=\"evenodd\" fill-opacity=\"1\" /><path clip-path=\"url(#clip190)\" d=\"M121.918 1138.05 L126.802 1138.05 L126.802 1143.93 L121.918 1143.93 L121.918 1138.05 Z\" fill=\"#000000\" fill-rule=\"evenodd\" fill-opacity=\"1\" /><path clip-path=\"url(#clip190)\" d=\"M137.033 1109.37 L155.39 1109.37 L155.39 1113.3 L141.316 1113.3 L141.316 1121.77 Q142.334 1121.43 143.353 1121.27 Q144.371 1121.08 145.39 1121.08 Q151.177 1121.08 154.556 1124.25 Q157.936 1127.42 157.936 1132.84 Q157.936 1138.42 154.464 1141.52 Q150.992 1144.6 144.672 1144.6 Q142.496 1144.6 140.228 1144.23 Q137.982 1143.86 135.575 1143.12 L135.575 1138.42 Q137.658 1139.55 139.881 1140.11 Q142.103 1140.66 144.58 1140.66 Q148.584 1140.66 150.922 1138.56 Q153.26 1136.45 153.26 1132.84 Q153.26 1129.23 150.922 1127.12 Q148.584 1125.01 144.58 1125.01 Q142.705 1125.01 140.83 1125.43 Q138.978 1125.85 137.033 1126.73 L137.033 1109.37 Z\" fill=\"#000000\" fill-rule=\"evenodd\" fill-opacity=\"1\" /><path clip-path=\"url(#clip190)\" d=\"M100.76 752.645 Q97.1493 752.645 95.3206 756.209 Q93.515 759.751 93.515 766.881 Q93.515 773.987 95.3206 777.552 Q97.1493 781.094 100.76 781.094 Q104.395 781.094 106.2 777.552 Q108.029 773.987 108.029 766.881 Q108.029 759.751 106.2 756.209 Q104.395 752.645 100.76 752.645 M100.76 748.941 Q106.571 748.941 109.626 753.547 Q112.705 758.131 112.705 766.881 Q112.705 775.608 109.626 780.214 Q106.571 784.797 100.76 784.797 Q94.9502 784.797 91.8715 780.214 Q88.816 775.608 88.816 766.881 Q88.816 758.131 91.8715 753.547 Q94.9502 748.941 100.76 748.941 Z\" fill=\"#000000\" fill-rule=\"evenodd\" fill-opacity=\"1\" /><path clip-path=\"url(#clip190)\" d=\"M120.922 778.246 L125.807 778.246 L125.807 784.126 L120.922 784.126 L120.922 778.246 Z\" fill=\"#000000\" fill-rule=\"evenodd\" fill-opacity=\"1\" /><path clip-path=\"url(#clip190)\" d=\"M145.992 752.645 Q142.381 752.645 140.552 756.209 Q138.746 759.751 138.746 766.881 Q138.746 773.987 140.552 777.552 Q142.381 781.094 145.992 781.094 Q149.626 781.094 151.431 777.552 Q153.26 773.987 153.26 766.881 Q153.26 759.751 151.431 756.209 Q149.626 752.645 145.992 752.645 M145.992 748.941 Q151.802 748.941 154.857 753.547 Q157.936 758.131 157.936 766.881 Q157.936 775.608 154.857 780.214 Q151.802 784.797 145.992 784.797 Q140.181 784.797 137.103 780.214 Q134.047 775.608 134.047 766.881 Q134.047 758.131 137.103 753.547 Q140.181 748.941 145.992 748.941 Z\" fill=\"#000000\" fill-rule=\"evenodd\" fill-opacity=\"1\" /><path clip-path=\"url(#clip190)\" d=\"M101.756 392.844 Q98.1447 392.844 96.316 396.409 Q94.5104 399.95 94.5104 407.08 Q94.5104 414.186 96.316 417.751 Q98.1447 421.293 101.756 421.293 Q105.39 421.293 107.196 417.751 Q109.024 414.186 109.024 407.08 Q109.024 399.95 107.196 396.409 Q105.39 392.844 101.756 392.844 M101.756 389.14 Q107.566 389.14 110.621 393.746 Q113.7 398.33 113.7 407.08 Q113.7 415.807 110.621 420.413 Q107.566 424.996 101.756 424.996 Q95.9456 424.996 92.8669 420.413 Q89.8114 415.807 89.8114 407.08 Q89.8114 398.33 92.8669 393.746 Q95.9456 389.14 101.756 389.14 Z\" fill=\"#000000\" fill-rule=\"evenodd\" fill-opacity=\"1\" /><path clip-path=\"url(#clip190)\" d=\"M121.918 418.445 L126.802 418.445 L126.802 424.325 L121.918 424.325 L121.918 418.445 Z\" fill=\"#000000\" fill-rule=\"evenodd\" fill-opacity=\"1\" /><path clip-path=\"url(#clip190)\" d=\"M137.033 389.765 L155.39 389.765 L155.39 393.7 L141.316 393.7 L141.316 402.172 Q142.334 401.825 143.353 401.663 Q144.371 401.478 145.39 401.478 Q151.177 401.478 154.556 404.649 Q157.936 407.82 157.936 413.237 Q157.936 418.816 154.464 421.918 Q150.992 424.996 144.672 424.996 Q142.496 424.996 140.228 424.626 Q137.982 424.256 135.575 423.515 L135.575 418.816 Q137.658 419.95 139.881 420.506 Q142.103 421.061 144.58 421.061 Q148.584 421.061 150.922 418.955 Q153.26 416.848 153.26 413.237 Q153.26 409.626 150.922 407.52 Q148.584 405.413 144.58 405.413 Q142.705 405.413 140.83 405.83 Q138.978 406.246 137.033 407.126 L137.033 389.765 Z\" fill=\"#000000\" fill-rule=\"evenodd\" fill-opacity=\"1\" /><path clip-path=\"url(#clip190)\" d=\"M91.5706 60.5889 L99.2095 60.5889 L99.2095 34.2233 L90.8993 35.89 L90.8993 31.6308 L99.1632 29.9641 L103.839 29.9641 L103.839 60.5889 L111.478 60.5889 L111.478 64.5241 L91.5706 64.5241 L91.5706 60.5889 Z\" fill=\"#000000\" fill-rule=\"evenodd\" fill-opacity=\"1\" /><path clip-path=\"url(#clip190)\" d=\"M120.922 58.6445 L125.807 58.6445 L125.807 64.5241 L120.922 64.5241 L120.922 58.6445 Z\" fill=\"#000000\" fill-rule=\"evenodd\" fill-opacity=\"1\" /><path clip-path=\"url(#clip190)\" d=\"M145.992 33.0428 Q142.381 33.0428 140.552 36.6076 Q138.746 40.1492 138.746 47.2788 Q138.746 54.3853 140.552 57.9501 Q142.381 61.4917 145.992 61.4917 Q149.626 61.4917 151.431 57.9501 Q153.26 54.3853 153.26 47.2788 Q153.26 40.1492 151.431 36.6076 Q149.626 33.0428 145.992 33.0428 M145.992 29.3391 Q151.802 29.3391 154.857 33.9456 Q157.936 38.5289 157.936 47.2788 Q157.936 56.0056 154.857 60.6121 Q151.802 65.1954 145.992 65.1954 Q140.181 65.1954 137.103 60.6121 Q134.047 56.0056 134.047 47.2788 Q134.047 38.5289 137.103 33.9456 Q140.181 29.3391 145.992 29.3391 Z\" fill=\"#000000\" fill-rule=\"evenodd\" fill-opacity=\"1\" /><circle clip-path=\"url(#clip192)\" cx=\"255.035\" cy=\"766.846\" r=\"14.4\" fill=\"#009af9\" fill-rule=\"evenodd\" fill-opacity=\"1\" stroke=\"#000000\" stroke-opacity=\"1\" stroke-width=\"3.2\"/>\n",
       "<circle clip-path=\"url(#clip192)\" cx=\"264.921\" cy=\"766.846\" r=\"14.4\" fill=\"#009af9\" fill-rule=\"evenodd\" fill-opacity=\"1\" stroke=\"#000000\" stroke-opacity=\"1\" stroke-width=\"3.2\"/>\n",
       "<circle clip-path=\"url(#clip192)\" cx=\"274.808\" cy=\"766.846\" r=\"14.4\" fill=\"#009af9\" fill-rule=\"evenodd\" fill-opacity=\"1\" stroke=\"#000000\" stroke-opacity=\"1\" stroke-width=\"3.2\"/>\n",
       "<circle clip-path=\"url(#clip192)\" cx=\"284.694\" cy=\"766.846\" r=\"14.4\" fill=\"#009af9\" fill-rule=\"evenodd\" fill-opacity=\"1\" stroke=\"#000000\" stroke-opacity=\"1\" stroke-width=\"3.2\"/>\n",
       "<circle clip-path=\"url(#clip192)\" cx=\"284.816\" cy=\"766.846\" r=\"14.4\" fill=\"#009af9\" fill-rule=\"evenodd\" fill-opacity=\"1\" stroke=\"#000000\" stroke-opacity=\"1\" stroke-width=\"3.2\"/>\n",
       "<circle clip-path=\"url(#clip192)\" cx=\"285.182\" cy=\"766.846\" r=\"14.4\" fill=\"#009af9\" fill-rule=\"evenodd\" fill-opacity=\"1\" stroke=\"#000000\" stroke-opacity=\"1\" stroke-width=\"3.2\"/>\n",
       "<circle clip-path=\"url(#clip192)\" cx=\"285.792\" cy=\"766.846\" r=\"14.4\" fill=\"#009af9\" fill-rule=\"evenodd\" fill-opacity=\"1\" stroke=\"#000000\" stroke-opacity=\"1\" stroke-width=\"3.2\"/>\n",
       "<circle clip-path=\"url(#clip192)\" cx=\"286.645\" cy=\"766.846\" r=\"14.4\" fill=\"#009af9\" fill-rule=\"evenodd\" fill-opacity=\"1\" stroke=\"#000000\" stroke-opacity=\"1\" stroke-width=\"3.2\"/>\n",
       "<circle clip-path=\"url(#clip192)\" cx=\"287.742\" cy=\"766.846\" r=\"14.4\" fill=\"#009af9\" fill-rule=\"evenodd\" fill-opacity=\"1\" stroke=\"#000000\" stroke-opacity=\"1\" stroke-width=\"3.2\"/>\n",
       "<circle clip-path=\"url(#clip192)\" cx=\"289.082\" cy=\"766.846\" r=\"14.4\" fill=\"#009af9\" fill-rule=\"evenodd\" fill-opacity=\"1\" stroke=\"#000000\" stroke-opacity=\"1\" stroke-width=\"3.2\"/>\n",
       "<circle clip-path=\"url(#clip192)\" cx=\"290.665\" cy=\"766.846\" r=\"14.4\" fill=\"#009af9\" fill-rule=\"evenodd\" fill-opacity=\"1\" stroke=\"#000000\" stroke-opacity=\"1\" stroke-width=\"3.2\"/>\n",
       "<circle clip-path=\"url(#clip192)\" cx=\"292.49\" cy=\"766.846\" r=\"14.4\" fill=\"#009af9\" fill-rule=\"evenodd\" fill-opacity=\"1\" stroke=\"#000000\" stroke-opacity=\"1\" stroke-width=\"3.2\"/>\n",
       "<circle clip-path=\"url(#clip192)\" cx=\"294.557\" cy=\"766.846\" r=\"14.4\" fill=\"#009af9\" fill-rule=\"evenodd\" fill-opacity=\"1\" stroke=\"#000000\" stroke-opacity=\"1\" stroke-width=\"3.2\"/>\n",
       "<circle clip-path=\"url(#clip192)\" cx=\"296.866\" cy=\"766.846\" r=\"14.4\" fill=\"#009af9\" fill-rule=\"evenodd\" fill-opacity=\"1\" stroke=\"#000000\" stroke-opacity=\"1\" stroke-width=\"3.2\"/>\n",
       "<circle clip-path=\"url(#clip192)\" cx=\"299.416\" cy=\"766.846\" r=\"14.4\" fill=\"#009af9\" fill-rule=\"evenodd\" fill-opacity=\"1\" stroke=\"#000000\" stroke-opacity=\"1\" stroke-width=\"3.2\"/>\n",
       "<circle clip-path=\"url(#clip192)\" cx=\"302.206\" cy=\"766.846\" r=\"14.4\" fill=\"#009af9\" fill-rule=\"evenodd\" fill-opacity=\"1\" stroke=\"#000000\" stroke-opacity=\"1\" stroke-width=\"3.2\"/>\n",
       "<circle clip-path=\"url(#clip192)\" cx=\"305.236\" cy=\"766.846\" r=\"14.4\" fill=\"#009af9\" fill-rule=\"evenodd\" fill-opacity=\"1\" stroke=\"#000000\" stroke-opacity=\"1\" stroke-width=\"3.2\"/>\n",
       "<circle clip-path=\"url(#clip192)\" cx=\"308.504\" cy=\"766.846\" r=\"14.4\" fill=\"#009af9\" fill-rule=\"evenodd\" fill-opacity=\"1\" stroke=\"#000000\" stroke-opacity=\"1\" stroke-width=\"3.2\"/>\n",
       "<circle clip-path=\"url(#clip192)\" cx=\"312.011\" cy=\"766.846\" r=\"14.4\" fill=\"#009af9\" fill-rule=\"evenodd\" fill-opacity=\"1\" stroke=\"#000000\" stroke-opacity=\"1\" stroke-width=\"3.2\"/>\n",
       "<circle clip-path=\"url(#clip192)\" cx=\"315.755\" cy=\"766.846\" r=\"14.4\" fill=\"#009af9\" fill-rule=\"evenodd\" fill-opacity=\"1\" stroke=\"#000000\" stroke-opacity=\"1\" stroke-width=\"3.2\"/>\n",
       "<circle clip-path=\"url(#clip192)\" cx=\"319.735\" cy=\"766.846\" r=\"14.4\" fill=\"#009af9\" fill-rule=\"evenodd\" fill-opacity=\"1\" stroke=\"#000000\" stroke-opacity=\"1\" stroke-width=\"3.2\"/>\n",
       "<circle clip-path=\"url(#clip192)\" cx=\"323.95\" cy=\"766.846\" r=\"14.4\" fill=\"#009af9\" fill-rule=\"evenodd\" fill-opacity=\"1\" stroke=\"#000000\" stroke-opacity=\"1\" stroke-width=\"3.2\"/>\n",
       "<circle clip-path=\"url(#clip192)\" cx=\"328.4\" cy=\"766.846\" r=\"14.4\" fill=\"#009af9\" fill-rule=\"evenodd\" fill-opacity=\"1\" stroke=\"#000000\" stroke-opacity=\"1\" stroke-width=\"3.2\"/>\n",
       "<circle clip-path=\"url(#clip192)\" cx=\"333.082\" cy=\"766.846\" r=\"14.4\" fill=\"#009af9\" fill-rule=\"evenodd\" fill-opacity=\"1\" stroke=\"#000000\" stroke-opacity=\"1\" stroke-width=\"3.2\"/>\n",
       "<circle clip-path=\"url(#clip192)\" cx=\"337.997\" cy=\"766.846\" r=\"14.4\" fill=\"#009af9\" fill-rule=\"evenodd\" fill-opacity=\"1\" stroke=\"#000000\" stroke-opacity=\"1\" stroke-width=\"3.2\"/>\n",
       "<circle clip-path=\"url(#clip192)\" cx=\"343.143\" cy=\"766.846\" r=\"14.4\" fill=\"#009af9\" fill-rule=\"evenodd\" fill-opacity=\"1\" stroke=\"#000000\" stroke-opacity=\"1\" stroke-width=\"3.2\"/>\n",
       "<circle clip-path=\"url(#clip192)\" cx=\"348.518\" cy=\"766.846\" r=\"14.4\" fill=\"#009af9\" fill-rule=\"evenodd\" fill-opacity=\"1\" stroke=\"#000000\" stroke-opacity=\"1\" stroke-width=\"3.2\"/>\n",
       "<circle clip-path=\"url(#clip192)\" cx=\"354.121\" cy=\"766.846\" r=\"14.4\" fill=\"#009af9\" fill-rule=\"evenodd\" fill-opacity=\"1\" stroke=\"#000000\" stroke-opacity=\"1\" stroke-width=\"3.2\"/>\n",
       "<circle clip-path=\"url(#clip192)\" cx=\"359.951\" cy=\"766.846\" r=\"14.4\" fill=\"#009af9\" fill-rule=\"evenodd\" fill-opacity=\"1\" stroke=\"#000000\" stroke-opacity=\"1\" stroke-width=\"3.2\"/>\n",
       "<circle clip-path=\"url(#clip192)\" cx=\"366.006\" cy=\"766.846\" r=\"14.4\" fill=\"#009af9\" fill-rule=\"evenodd\" fill-opacity=\"1\" stroke=\"#000000\" stroke-opacity=\"1\" stroke-width=\"3.2\"/>\n",
       "<circle clip-path=\"url(#clip192)\" cx=\"372.286\" cy=\"766.846\" r=\"14.4\" fill=\"#009af9\" fill-rule=\"evenodd\" fill-opacity=\"1\" stroke=\"#000000\" stroke-opacity=\"1\" stroke-width=\"3.2\"/>\n",
       "<circle clip-path=\"url(#clip192)\" cx=\"378.787\" cy=\"766.846\" r=\"14.4\" fill=\"#009af9\" fill-rule=\"evenodd\" fill-opacity=\"1\" stroke=\"#000000\" stroke-opacity=\"1\" stroke-width=\"3.2\"/>\n",
       "<circle clip-path=\"url(#clip192)\" cx=\"385.509\" cy=\"766.846\" r=\"14.4\" fill=\"#009af9\" fill-rule=\"evenodd\" fill-opacity=\"1\" stroke=\"#000000\" stroke-opacity=\"1\" stroke-width=\"3.2\"/>\n",
       "<circle clip-path=\"url(#clip192)\" cx=\"392.451\" cy=\"766.846\" r=\"14.4\" fill=\"#009af9\" fill-rule=\"evenodd\" fill-opacity=\"1\" stroke=\"#000000\" stroke-opacity=\"1\" stroke-width=\"3.2\"/>\n",
       "<circle clip-path=\"url(#clip192)\" cx=\"399.61\" cy=\"766.846\" r=\"14.4\" fill=\"#009af9\" fill-rule=\"evenodd\" fill-opacity=\"1\" stroke=\"#000000\" stroke-opacity=\"1\" stroke-width=\"3.2\"/>\n",
       "<circle clip-path=\"url(#clip192)\" cx=\"406.984\" cy=\"766.846\" r=\"14.4\" fill=\"#009af9\" fill-rule=\"evenodd\" fill-opacity=\"1\" stroke=\"#000000\" stroke-opacity=\"1\" stroke-width=\"3.2\"/>\n",
       "<circle clip-path=\"url(#clip192)\" cx=\"414.572\" cy=\"766.846\" r=\"14.4\" fill=\"#009af9\" fill-rule=\"evenodd\" fill-opacity=\"1\" stroke=\"#000000\" stroke-opacity=\"1\" stroke-width=\"3.2\"/>\n",
       "<circle clip-path=\"url(#clip192)\" cx=\"422.372\" cy=\"766.846\" r=\"14.4\" fill=\"#009af9\" fill-rule=\"evenodd\" fill-opacity=\"1\" stroke=\"#000000\" stroke-opacity=\"1\" stroke-width=\"3.2\"/>\n",
       "<circle clip-path=\"url(#clip192)\" cx=\"430.382\" cy=\"766.846\" r=\"14.4\" fill=\"#009af9\" fill-rule=\"evenodd\" fill-opacity=\"1\" stroke=\"#000000\" stroke-opacity=\"1\" stroke-width=\"3.2\"/>\n",
       "<circle clip-path=\"url(#clip192)\" cx=\"438.6\" cy=\"766.846\" r=\"14.4\" fill=\"#009af9\" fill-rule=\"evenodd\" fill-opacity=\"1\" stroke=\"#000000\" stroke-opacity=\"1\" stroke-width=\"3.2\"/>\n",
       "<circle clip-path=\"url(#clip192)\" cx=\"447.024\" cy=\"766.846\" r=\"14.4\" fill=\"#009af9\" fill-rule=\"evenodd\" fill-opacity=\"1\" stroke=\"#000000\" stroke-opacity=\"1\" stroke-width=\"3.2\"/>\n",
       "<circle clip-path=\"url(#clip192)\" cx=\"455.651\" cy=\"766.846\" r=\"14.4\" fill=\"#009af9\" fill-rule=\"evenodd\" fill-opacity=\"1\" stroke=\"#000000\" stroke-opacity=\"1\" stroke-width=\"3.2\"/>\n",
       "<circle clip-path=\"url(#clip192)\" cx=\"464.481\" cy=\"766.846\" r=\"14.4\" fill=\"#009af9\" fill-rule=\"evenodd\" fill-opacity=\"1\" stroke=\"#000000\" stroke-opacity=\"1\" stroke-width=\"3.2\"/>\n",
       "<circle clip-path=\"url(#clip192)\" cx=\"473.51\" cy=\"766.846\" r=\"14.4\" fill=\"#009af9\" fill-rule=\"evenodd\" fill-opacity=\"1\" stroke=\"#000000\" stroke-opacity=\"1\" stroke-width=\"3.2\"/>\n",
       "<circle clip-path=\"url(#clip192)\" cx=\"482.736\" cy=\"766.846\" r=\"14.4\" fill=\"#009af9\" fill-rule=\"evenodd\" fill-opacity=\"1\" stroke=\"#000000\" stroke-opacity=\"1\" stroke-width=\"3.2\"/>\n",
       "<circle clip-path=\"url(#clip192)\" cx=\"492.158\" cy=\"766.846\" r=\"14.4\" fill=\"#009af9\" fill-rule=\"evenodd\" fill-opacity=\"1\" stroke=\"#000000\" stroke-opacity=\"1\" stroke-width=\"3.2\"/>\n",
       "<circle clip-path=\"url(#clip192)\" cx=\"501.772\" cy=\"766.846\" r=\"14.4\" fill=\"#009af9\" fill-rule=\"evenodd\" fill-opacity=\"1\" stroke=\"#000000\" stroke-opacity=\"1\" stroke-width=\"3.2\"/>\n",
       "<circle clip-path=\"url(#clip192)\" cx=\"511.577\" cy=\"766.846\" r=\"14.4\" fill=\"#009af9\" fill-rule=\"evenodd\" fill-opacity=\"1\" stroke=\"#000000\" stroke-opacity=\"1\" stroke-width=\"3.2\"/>\n",
       "<circle clip-path=\"url(#clip192)\" cx=\"521.569\" cy=\"766.846\" r=\"14.4\" fill=\"#009af9\" fill-rule=\"evenodd\" fill-opacity=\"1\" stroke=\"#000000\" stroke-opacity=\"1\" stroke-width=\"3.2\"/>\n",
       "<circle clip-path=\"url(#clip192)\" cx=\"531.747\" cy=\"766.846\" r=\"14.4\" fill=\"#009af9\" fill-rule=\"evenodd\" fill-opacity=\"1\" stroke=\"#000000\" stroke-opacity=\"1\" stroke-width=\"3.2\"/>\n",
       "<circle clip-path=\"url(#clip192)\" cx=\"542.108\" cy=\"766.846\" r=\"14.4\" fill=\"#009af9\" fill-rule=\"evenodd\" fill-opacity=\"1\" stroke=\"#000000\" stroke-opacity=\"1\" stroke-width=\"3.2\"/>\n",
       "<circle clip-path=\"url(#clip192)\" cx=\"552.65\" cy=\"766.846\" r=\"14.4\" fill=\"#009af9\" fill-rule=\"evenodd\" fill-opacity=\"1\" stroke=\"#000000\" stroke-opacity=\"1\" stroke-width=\"3.2\"/>\n",
       "<circle clip-path=\"url(#clip192)\" cx=\"563.369\" cy=\"766.846\" r=\"14.4\" fill=\"#009af9\" fill-rule=\"evenodd\" fill-opacity=\"1\" stroke=\"#000000\" stroke-opacity=\"1\" stroke-width=\"3.2\"/>\n",
       "<circle clip-path=\"url(#clip192)\" cx=\"574.264\" cy=\"766.846\" r=\"14.4\" fill=\"#009af9\" fill-rule=\"evenodd\" fill-opacity=\"1\" stroke=\"#000000\" stroke-opacity=\"1\" stroke-width=\"3.2\"/>\n",
       "<circle clip-path=\"url(#clip192)\" cx=\"585.331\" cy=\"766.846\" r=\"14.4\" fill=\"#009af9\" fill-rule=\"evenodd\" fill-opacity=\"1\" stroke=\"#000000\" stroke-opacity=\"1\" stroke-width=\"3.2\"/>\n",
       "<circle clip-path=\"url(#clip192)\" cx=\"596.567\" cy=\"766.846\" r=\"14.4\" fill=\"#009af9\" fill-rule=\"evenodd\" fill-opacity=\"1\" stroke=\"#000000\" stroke-opacity=\"1\" stroke-width=\"3.2\"/>\n",
       "<circle clip-path=\"url(#clip192)\" cx=\"607.971\" cy=\"766.846\" r=\"14.4\" fill=\"#009af9\" fill-rule=\"evenodd\" fill-opacity=\"1\" stroke=\"#000000\" stroke-opacity=\"1\" stroke-width=\"3.2\"/>\n",
       "<circle clip-path=\"url(#clip192)\" cx=\"619.539\" cy=\"766.846\" r=\"14.4\" fill=\"#009af9\" fill-rule=\"evenodd\" fill-opacity=\"1\" stroke=\"#000000\" stroke-opacity=\"1\" stroke-width=\"3.2\"/>\n",
       "<circle clip-path=\"url(#clip192)\" cx=\"631.268\" cy=\"766.846\" r=\"14.4\" fill=\"#009af9\" fill-rule=\"evenodd\" fill-opacity=\"1\" stroke=\"#000000\" stroke-opacity=\"1\" stroke-width=\"3.2\"/>\n",
       "<circle clip-path=\"url(#clip192)\" cx=\"643.156\" cy=\"766.846\" r=\"14.4\" fill=\"#009af9\" fill-rule=\"evenodd\" fill-opacity=\"1\" stroke=\"#000000\" stroke-opacity=\"1\" stroke-width=\"3.2\"/>\n",
       "<circle clip-path=\"url(#clip192)\" cx=\"655.199\" cy=\"766.846\" r=\"14.4\" fill=\"#009af9\" fill-rule=\"evenodd\" fill-opacity=\"1\" stroke=\"#000000\" stroke-opacity=\"1\" stroke-width=\"3.2\"/>\n",
       "<circle clip-path=\"url(#clip192)\" cx=\"667.394\" cy=\"766.846\" r=\"14.4\" fill=\"#009af9\" fill-rule=\"evenodd\" fill-opacity=\"1\" stroke=\"#000000\" stroke-opacity=\"1\" stroke-width=\"3.2\"/>\n",
       "<circle clip-path=\"url(#clip192)\" cx=\"679.739\" cy=\"766.846\" r=\"14.4\" fill=\"#009af9\" fill-rule=\"evenodd\" fill-opacity=\"1\" stroke=\"#000000\" stroke-opacity=\"1\" stroke-width=\"3.2\"/>\n",
       "<circle clip-path=\"url(#clip192)\" cx=\"692.231\" cy=\"766.846\" r=\"14.4\" fill=\"#009af9\" fill-rule=\"evenodd\" fill-opacity=\"1\" stroke=\"#000000\" stroke-opacity=\"1\" stroke-width=\"3.2\"/>\n",
       "<circle clip-path=\"url(#clip192)\" cx=\"704.866\" cy=\"766.846\" r=\"14.4\" fill=\"#009af9\" fill-rule=\"evenodd\" fill-opacity=\"1\" stroke=\"#000000\" stroke-opacity=\"1\" stroke-width=\"3.2\"/>\n",
       "<circle clip-path=\"url(#clip192)\" cx=\"717.641\" cy=\"766.846\" r=\"14.4\" fill=\"#009af9\" fill-rule=\"evenodd\" fill-opacity=\"1\" stroke=\"#000000\" stroke-opacity=\"1\" stroke-width=\"3.2\"/>\n",
       "<circle clip-path=\"url(#clip192)\" cx=\"730.554\" cy=\"766.846\" r=\"14.4\" fill=\"#009af9\" fill-rule=\"evenodd\" fill-opacity=\"1\" stroke=\"#000000\" stroke-opacity=\"1\" stroke-width=\"3.2\"/>\n",
       "<circle clip-path=\"url(#clip192)\" cx=\"743.6\" cy=\"766.846\" r=\"14.4\" fill=\"#009af9\" fill-rule=\"evenodd\" fill-opacity=\"1\" stroke=\"#000000\" stroke-opacity=\"1\" stroke-width=\"3.2\"/>\n",
       "<circle clip-path=\"url(#clip192)\" cx=\"756.777\" cy=\"766.846\" r=\"14.4\" fill=\"#009af9\" fill-rule=\"evenodd\" fill-opacity=\"1\" stroke=\"#000000\" stroke-opacity=\"1\" stroke-width=\"3.2\"/>\n",
       "<circle clip-path=\"url(#clip192)\" cx=\"770.081\" cy=\"766.846\" r=\"14.4\" fill=\"#009af9\" fill-rule=\"evenodd\" fill-opacity=\"1\" stroke=\"#000000\" stroke-opacity=\"1\" stroke-width=\"3.2\"/>\n",
       "<circle clip-path=\"url(#clip192)\" cx=\"783.51\" cy=\"766.846\" r=\"14.4\" fill=\"#009af9\" fill-rule=\"evenodd\" fill-opacity=\"1\" stroke=\"#000000\" stroke-opacity=\"1\" stroke-width=\"3.2\"/>\n",
       "<circle clip-path=\"url(#clip192)\" cx=\"797.059\" cy=\"766.846\" r=\"14.4\" fill=\"#009af9\" fill-rule=\"evenodd\" fill-opacity=\"1\" stroke=\"#000000\" stroke-opacity=\"1\" stroke-width=\"3.2\"/>\n",
       "<circle clip-path=\"url(#clip192)\" cx=\"810.726\" cy=\"766.846\" r=\"14.4\" fill=\"#009af9\" fill-rule=\"evenodd\" fill-opacity=\"1\" stroke=\"#000000\" stroke-opacity=\"1\" stroke-width=\"3.2\"/>\n",
       "<circle clip-path=\"url(#clip192)\" cx=\"824.507\" cy=\"766.846\" r=\"14.4\" fill=\"#009af9\" fill-rule=\"evenodd\" fill-opacity=\"1\" stroke=\"#000000\" stroke-opacity=\"1\" stroke-width=\"3.2\"/>\n",
       "<circle clip-path=\"url(#clip192)\" cx=\"838.399\" cy=\"766.846\" r=\"14.4\" fill=\"#009af9\" fill-rule=\"evenodd\" fill-opacity=\"1\" stroke=\"#000000\" stroke-opacity=\"1\" stroke-width=\"3.2\"/>\n",
       "<circle clip-path=\"url(#clip192)\" cx=\"852.399\" cy=\"766.846\" r=\"14.4\" fill=\"#009af9\" fill-rule=\"evenodd\" fill-opacity=\"1\" stroke=\"#000000\" stroke-opacity=\"1\" stroke-width=\"3.2\"/>\n",
       "<circle clip-path=\"url(#clip192)\" cx=\"866.502\" cy=\"766.846\" r=\"14.4\" fill=\"#009af9\" fill-rule=\"evenodd\" fill-opacity=\"1\" stroke=\"#000000\" stroke-opacity=\"1\" stroke-width=\"3.2\"/>\n",
       "<circle clip-path=\"url(#clip192)\" cx=\"880.705\" cy=\"766.846\" r=\"14.4\" fill=\"#009af9\" fill-rule=\"evenodd\" fill-opacity=\"1\" stroke=\"#000000\" stroke-opacity=\"1\" stroke-width=\"3.2\"/>\n",
       "<circle clip-path=\"url(#clip192)\" cx=\"895.005\" cy=\"766.846\" r=\"14.4\" fill=\"#009af9\" fill-rule=\"evenodd\" fill-opacity=\"1\" stroke=\"#000000\" stroke-opacity=\"1\" stroke-width=\"3.2\"/>\n",
       "<circle clip-path=\"url(#clip192)\" cx=\"909.399\" cy=\"766.846\" r=\"14.4\" fill=\"#009af9\" fill-rule=\"evenodd\" fill-opacity=\"1\" stroke=\"#000000\" stroke-opacity=\"1\" stroke-width=\"3.2\"/>\n",
       "<circle clip-path=\"url(#clip192)\" cx=\"923.882\" cy=\"766.846\" r=\"14.4\" fill=\"#009af9\" fill-rule=\"evenodd\" fill-opacity=\"1\" stroke=\"#000000\" stroke-opacity=\"1\" stroke-width=\"3.2\"/>\n",
       "<circle clip-path=\"url(#clip192)\" cx=\"938.452\" cy=\"766.846\" r=\"14.4\" fill=\"#009af9\" fill-rule=\"evenodd\" fill-opacity=\"1\" stroke=\"#000000\" stroke-opacity=\"1\" stroke-width=\"3.2\"/>\n",
       "<circle clip-path=\"url(#clip192)\" cx=\"953.104\" cy=\"766.846\" r=\"14.4\" fill=\"#009af9\" fill-rule=\"evenodd\" fill-opacity=\"1\" stroke=\"#000000\" stroke-opacity=\"1\" stroke-width=\"3.2\"/>\n",
       "<circle clip-path=\"url(#clip192)\" cx=\"967.836\" cy=\"766.846\" r=\"14.4\" fill=\"#009af9\" fill-rule=\"evenodd\" fill-opacity=\"1\" stroke=\"#000000\" stroke-opacity=\"1\" stroke-width=\"3.2\"/>\n",
       "<circle clip-path=\"url(#clip192)\" cx=\"982.642\" cy=\"766.846\" r=\"14.4\" fill=\"#009af9\" fill-rule=\"evenodd\" fill-opacity=\"1\" stroke=\"#000000\" stroke-opacity=\"1\" stroke-width=\"3.2\"/>\n",
       "<circle clip-path=\"url(#clip192)\" cx=\"997.521\" cy=\"766.846\" r=\"14.4\" fill=\"#009af9\" fill-rule=\"evenodd\" fill-opacity=\"1\" stroke=\"#000000\" stroke-opacity=\"1\" stroke-width=\"3.2\"/>\n",
       "<circle clip-path=\"url(#clip192)\" cx=\"1012.47\" cy=\"766.846\" r=\"14.4\" fill=\"#009af9\" fill-rule=\"evenodd\" fill-opacity=\"1\" stroke=\"#000000\" stroke-opacity=\"1\" stroke-width=\"3.2\"/>\n",
       "<circle clip-path=\"url(#clip192)\" cx=\"1027.48\" cy=\"766.846\" r=\"14.4\" fill=\"#009af9\" fill-rule=\"evenodd\" fill-opacity=\"1\" stroke=\"#000000\" stroke-opacity=\"1\" stroke-width=\"3.2\"/>\n",
       "<circle clip-path=\"url(#clip192)\" cx=\"1042.55\" cy=\"766.846\" r=\"14.4\" fill=\"#009af9\" fill-rule=\"evenodd\" fill-opacity=\"1\" stroke=\"#000000\" stroke-opacity=\"1\" stroke-width=\"3.2\"/>\n",
       "<circle clip-path=\"url(#clip192)\" cx=\"1057.68\" cy=\"766.846\" r=\"14.4\" fill=\"#009af9\" fill-rule=\"evenodd\" fill-opacity=\"1\" stroke=\"#000000\" stroke-opacity=\"1\" stroke-width=\"3.2\"/>\n",
       "<circle clip-path=\"url(#clip192)\" cx=\"1072.86\" cy=\"766.846\" r=\"14.4\" fill=\"#009af9\" fill-rule=\"evenodd\" fill-opacity=\"1\" stroke=\"#000000\" stroke-opacity=\"1\" stroke-width=\"3.2\"/>\n",
       "<circle clip-path=\"url(#clip192)\" cx=\"1088.09\" cy=\"766.846\" r=\"14.4\" fill=\"#009af9\" fill-rule=\"evenodd\" fill-opacity=\"1\" stroke=\"#000000\" stroke-opacity=\"1\" stroke-width=\"3.2\"/>\n",
       "<circle clip-path=\"url(#clip192)\" cx=\"1103.37\" cy=\"766.846\" r=\"14.4\" fill=\"#009af9\" fill-rule=\"evenodd\" fill-opacity=\"1\" stroke=\"#000000\" stroke-opacity=\"1\" stroke-width=\"3.2\"/>\n",
       "<circle clip-path=\"url(#clip192)\" cx=\"1118.69\" cy=\"766.846\" r=\"14.4\" fill=\"#009af9\" fill-rule=\"evenodd\" fill-opacity=\"1\" stroke=\"#000000\" stroke-opacity=\"1\" stroke-width=\"3.2\"/>\n",
       "<circle clip-path=\"url(#clip192)\" cx=\"1134.04\" cy=\"766.846\" r=\"14.4\" fill=\"#009af9\" fill-rule=\"evenodd\" fill-opacity=\"1\" stroke=\"#000000\" stroke-opacity=\"1\" stroke-width=\"3.2\"/>\n",
       "<circle clip-path=\"url(#clip192)\" cx=\"1149.44\" cy=\"766.846\" r=\"14.4\" fill=\"#009af9\" fill-rule=\"evenodd\" fill-opacity=\"1\" stroke=\"#000000\" stroke-opacity=\"1\" stroke-width=\"3.2\"/>\n",
       "<circle clip-path=\"url(#clip192)\" cx=\"1164.86\" cy=\"766.846\" r=\"14.4\" fill=\"#009af9\" fill-rule=\"evenodd\" fill-opacity=\"1\" stroke=\"#000000\" stroke-opacity=\"1\" stroke-width=\"3.2\"/>\n",
       "<circle clip-path=\"url(#clip192)\" cx=\"1180.31\" cy=\"766.846\" r=\"14.4\" fill=\"#009af9\" fill-rule=\"evenodd\" fill-opacity=\"1\" stroke=\"#000000\" stroke-opacity=\"1\" stroke-width=\"3.2\"/>\n",
       "<circle clip-path=\"url(#clip192)\" cx=\"1195.78\" cy=\"766.846\" r=\"14.4\" fill=\"#009af9\" fill-rule=\"evenodd\" fill-opacity=\"1\" stroke=\"#000000\" stroke-opacity=\"1\" stroke-width=\"3.2\"/>\n",
       "<circle clip-path=\"url(#clip192)\" cx=\"1211.27\" cy=\"766.846\" r=\"14.4\" fill=\"#009af9\" fill-rule=\"evenodd\" fill-opacity=\"1\" stroke=\"#000000\" stroke-opacity=\"1\" stroke-width=\"3.2\"/>\n",
       "<circle clip-path=\"url(#clip192)\" cx=\"1226.77\" cy=\"766.846\" r=\"14.4\" fill=\"#009af9\" fill-rule=\"evenodd\" fill-opacity=\"1\" stroke=\"#000000\" stroke-opacity=\"1\" stroke-width=\"3.2\"/>\n",
       "<circle clip-path=\"url(#clip192)\" cx=\"1242.29\" cy=\"766.846\" r=\"14.4\" fill=\"#009af9\" fill-rule=\"evenodd\" fill-opacity=\"1\" stroke=\"#000000\" stroke-opacity=\"1\" stroke-width=\"3.2\"/>\n",
       "<circle clip-path=\"url(#clip192)\" cx=\"1257.82\" cy=\"766.846\" r=\"14.4\" fill=\"#009af9\" fill-rule=\"evenodd\" fill-opacity=\"1\" stroke=\"#000000\" stroke-opacity=\"1\" stroke-width=\"3.2\"/>\n",
       "<circle clip-path=\"url(#clip192)\" cx=\"1273.35\" cy=\"766.846\" r=\"14.4\" fill=\"#009af9\" fill-rule=\"evenodd\" fill-opacity=\"1\" stroke=\"#000000\" stroke-opacity=\"1\" stroke-width=\"3.2\"/>\n",
       "<circle clip-path=\"url(#clip192)\" cx=\"1288.88\" cy=\"766.846\" r=\"14.4\" fill=\"#009af9\" fill-rule=\"evenodd\" fill-opacity=\"1\" stroke=\"#000000\" stroke-opacity=\"1\" stroke-width=\"3.2\"/>\n",
       "<circle clip-path=\"url(#clip192)\" cx=\"1304.4\" cy=\"766.846\" r=\"14.4\" fill=\"#009af9\" fill-rule=\"evenodd\" fill-opacity=\"1\" stroke=\"#000000\" stroke-opacity=\"1\" stroke-width=\"3.2\"/>\n",
       "<circle clip-path=\"url(#clip192)\" cx=\"1319.92\" cy=\"766.846\" r=\"14.4\" fill=\"#009af9\" fill-rule=\"evenodd\" fill-opacity=\"1\" stroke=\"#000000\" stroke-opacity=\"1\" stroke-width=\"3.2\"/>\n",
       "<circle clip-path=\"url(#clip192)\" cx=\"1335.42\" cy=\"766.846\" r=\"14.4\" fill=\"#009af9\" fill-rule=\"evenodd\" fill-opacity=\"1\" stroke=\"#000000\" stroke-opacity=\"1\" stroke-width=\"3.2\"/>\n",
       "<circle clip-path=\"url(#clip192)\" cx=\"1350.91\" cy=\"766.846\" r=\"14.4\" fill=\"#009af9\" fill-rule=\"evenodd\" fill-opacity=\"1\" stroke=\"#000000\" stroke-opacity=\"1\" stroke-width=\"3.2\"/>\n",
       "<circle clip-path=\"url(#clip192)\" cx=\"1366.39\" cy=\"766.846\" r=\"14.4\" fill=\"#009af9\" fill-rule=\"evenodd\" fill-opacity=\"1\" stroke=\"#000000\" stroke-opacity=\"1\" stroke-width=\"3.2\"/>\n",
       "<circle clip-path=\"url(#clip192)\" cx=\"1381.83\" cy=\"766.846\" r=\"14.4\" fill=\"#009af9\" fill-rule=\"evenodd\" fill-opacity=\"1\" stroke=\"#000000\" stroke-opacity=\"1\" stroke-width=\"3.2\"/>\n",
       "<circle clip-path=\"url(#clip192)\" cx=\"1397.26\" cy=\"766.846\" r=\"14.4\" fill=\"#009af9\" fill-rule=\"evenodd\" fill-opacity=\"1\" stroke=\"#000000\" stroke-opacity=\"1\" stroke-width=\"3.2\"/>\n",
       "<circle clip-path=\"url(#clip192)\" cx=\"1412.65\" cy=\"766.846\" r=\"14.4\" fill=\"#009af9\" fill-rule=\"evenodd\" fill-opacity=\"1\" stroke=\"#000000\" stroke-opacity=\"1\" stroke-width=\"3.2\"/>\n",
       "<circle clip-path=\"url(#clip192)\" cx=\"1428.01\" cy=\"766.846\" r=\"14.4\" fill=\"#009af9\" fill-rule=\"evenodd\" fill-opacity=\"1\" stroke=\"#000000\" stroke-opacity=\"1\" stroke-width=\"3.2\"/>\n",
       "<circle clip-path=\"url(#clip192)\" cx=\"1443.32\" cy=\"766.846\" r=\"14.4\" fill=\"#009af9\" fill-rule=\"evenodd\" fill-opacity=\"1\" stroke=\"#000000\" stroke-opacity=\"1\" stroke-width=\"3.2\"/>\n",
       "<circle clip-path=\"url(#clip192)\" cx=\"1458.6\" cy=\"766.846\" r=\"14.4\" fill=\"#009af9\" fill-rule=\"evenodd\" fill-opacity=\"1\" stroke=\"#000000\" stroke-opacity=\"1\" stroke-width=\"3.2\"/>\n",
       "<circle clip-path=\"url(#clip192)\" cx=\"1473.83\" cy=\"766.846\" r=\"14.4\" fill=\"#009af9\" fill-rule=\"evenodd\" fill-opacity=\"1\" stroke=\"#000000\" stroke-opacity=\"1\" stroke-width=\"3.2\"/>\n",
       "<circle clip-path=\"url(#clip192)\" cx=\"1489.01\" cy=\"766.846\" r=\"14.4\" fill=\"#009af9\" fill-rule=\"evenodd\" fill-opacity=\"1\" stroke=\"#000000\" stroke-opacity=\"1\" stroke-width=\"3.2\"/>\n",
       "<circle clip-path=\"url(#clip192)\" cx=\"1504.14\" cy=\"766.846\" r=\"14.4\" fill=\"#009af9\" fill-rule=\"evenodd\" fill-opacity=\"1\" stroke=\"#000000\" stroke-opacity=\"1\" stroke-width=\"3.2\"/>\n",
       "<circle clip-path=\"url(#clip192)\" cx=\"1519.21\" cy=\"766.846\" r=\"14.4\" fill=\"#009af9\" fill-rule=\"evenodd\" fill-opacity=\"1\" stroke=\"#000000\" stroke-opacity=\"1\" stroke-width=\"3.2\"/>\n",
       "<circle clip-path=\"url(#clip192)\" cx=\"1534.22\" cy=\"766.846\" r=\"14.4\" fill=\"#009af9\" fill-rule=\"evenodd\" fill-opacity=\"1\" stroke=\"#000000\" stroke-opacity=\"1\" stroke-width=\"3.2\"/>\n",
       "<circle clip-path=\"url(#clip192)\" cx=\"1549.17\" cy=\"766.846\" r=\"14.4\" fill=\"#009af9\" fill-rule=\"evenodd\" fill-opacity=\"1\" stroke=\"#000000\" stroke-opacity=\"1\" stroke-width=\"3.2\"/>\n",
       "<circle clip-path=\"url(#clip192)\" cx=\"1564.05\" cy=\"766.846\" r=\"14.4\" fill=\"#009af9\" fill-rule=\"evenodd\" fill-opacity=\"1\" stroke=\"#000000\" stroke-opacity=\"1\" stroke-width=\"3.2\"/>\n",
       "<circle clip-path=\"url(#clip192)\" cx=\"1578.86\" cy=\"766.846\" r=\"14.4\" fill=\"#009af9\" fill-rule=\"evenodd\" fill-opacity=\"1\" stroke=\"#000000\" stroke-opacity=\"1\" stroke-width=\"3.2\"/>\n",
       "<circle clip-path=\"url(#clip192)\" cx=\"1593.59\" cy=\"766.846\" r=\"14.4\" fill=\"#009af9\" fill-rule=\"evenodd\" fill-opacity=\"1\" stroke=\"#000000\" stroke-opacity=\"1\" stroke-width=\"3.2\"/>\n",
       "<circle clip-path=\"url(#clip192)\" cx=\"1608.24\" cy=\"766.846\" r=\"14.4\" fill=\"#009af9\" fill-rule=\"evenodd\" fill-opacity=\"1\" stroke=\"#000000\" stroke-opacity=\"1\" stroke-width=\"3.2\"/>\n",
       "<circle clip-path=\"url(#clip192)\" cx=\"1622.81\" cy=\"766.846\" r=\"14.4\" fill=\"#009af9\" fill-rule=\"evenodd\" fill-opacity=\"1\" stroke=\"#000000\" stroke-opacity=\"1\" stroke-width=\"3.2\"/>\n",
       "<circle clip-path=\"url(#clip192)\" cx=\"1637.29\" cy=\"766.846\" r=\"14.4\" fill=\"#009af9\" fill-rule=\"evenodd\" fill-opacity=\"1\" stroke=\"#000000\" stroke-opacity=\"1\" stroke-width=\"3.2\"/>\n",
       "<circle clip-path=\"url(#clip192)\" cx=\"1651.69\" cy=\"766.846\" r=\"14.4\" fill=\"#009af9\" fill-rule=\"evenodd\" fill-opacity=\"1\" stroke=\"#000000\" stroke-opacity=\"1\" stroke-width=\"3.2\"/>\n",
       "<circle clip-path=\"url(#clip192)\" cx=\"1665.99\" cy=\"766.846\" r=\"14.4\" fill=\"#009af9\" fill-rule=\"evenodd\" fill-opacity=\"1\" stroke=\"#000000\" stroke-opacity=\"1\" stroke-width=\"3.2\"/>\n",
       "<circle clip-path=\"url(#clip192)\" cx=\"1680.19\" cy=\"766.846\" r=\"14.4\" fill=\"#009af9\" fill-rule=\"evenodd\" fill-opacity=\"1\" stroke=\"#000000\" stroke-opacity=\"1\" stroke-width=\"3.2\"/>\n",
       "<circle clip-path=\"url(#clip192)\" cx=\"1694.29\" cy=\"766.846\" r=\"14.4\" fill=\"#009af9\" fill-rule=\"evenodd\" fill-opacity=\"1\" stroke=\"#000000\" stroke-opacity=\"1\" stroke-width=\"3.2\"/>\n",
       "<circle clip-path=\"url(#clip192)\" cx=\"1708.29\" cy=\"766.846\" r=\"14.4\" fill=\"#009af9\" fill-rule=\"evenodd\" fill-opacity=\"1\" stroke=\"#000000\" stroke-opacity=\"1\" stroke-width=\"3.2\"/>\n",
       "<circle clip-path=\"url(#clip192)\" cx=\"1722.18\" cy=\"766.846\" r=\"14.4\" fill=\"#009af9\" fill-rule=\"evenodd\" fill-opacity=\"1\" stroke=\"#000000\" stroke-opacity=\"1\" stroke-width=\"3.2\"/>\n",
       "<circle clip-path=\"url(#clip192)\" cx=\"1735.97\" cy=\"766.846\" r=\"14.4\" fill=\"#009af9\" fill-rule=\"evenodd\" fill-opacity=\"1\" stroke=\"#000000\" stroke-opacity=\"1\" stroke-width=\"3.2\"/>\n",
       "<circle clip-path=\"url(#clip192)\" cx=\"1749.63\" cy=\"766.846\" r=\"14.4\" fill=\"#009af9\" fill-rule=\"evenodd\" fill-opacity=\"1\" stroke=\"#000000\" stroke-opacity=\"1\" stroke-width=\"3.2\"/>\n",
       "<circle clip-path=\"url(#clip192)\" cx=\"1763.18\" cy=\"766.846\" r=\"14.4\" fill=\"#009af9\" fill-rule=\"evenodd\" fill-opacity=\"1\" stroke=\"#000000\" stroke-opacity=\"1\" stroke-width=\"3.2\"/>\n",
       "<circle clip-path=\"url(#clip192)\" cx=\"1776.61\" cy=\"766.846\" r=\"14.4\" fill=\"#009af9\" fill-rule=\"evenodd\" fill-opacity=\"1\" stroke=\"#000000\" stroke-opacity=\"1\" stroke-width=\"3.2\"/>\n",
       "<circle clip-path=\"url(#clip192)\" cx=\"1789.92\" cy=\"766.846\" r=\"14.4\" fill=\"#009af9\" fill-rule=\"evenodd\" fill-opacity=\"1\" stroke=\"#000000\" stroke-opacity=\"1\" stroke-width=\"3.2\"/>\n",
       "<circle clip-path=\"url(#clip192)\" cx=\"1803.09\" cy=\"766.846\" r=\"14.4\" fill=\"#009af9\" fill-rule=\"evenodd\" fill-opacity=\"1\" stroke=\"#000000\" stroke-opacity=\"1\" stroke-width=\"3.2\"/>\n",
       "<circle clip-path=\"url(#clip192)\" cx=\"1816.14\" cy=\"766.846\" r=\"14.4\" fill=\"#009af9\" fill-rule=\"evenodd\" fill-opacity=\"1\" stroke=\"#000000\" stroke-opacity=\"1\" stroke-width=\"3.2\"/>\n",
       "<circle clip-path=\"url(#clip192)\" cx=\"1829.05\" cy=\"766.846\" r=\"14.4\" fill=\"#009af9\" fill-rule=\"evenodd\" fill-opacity=\"1\" stroke=\"#000000\" stroke-opacity=\"1\" stroke-width=\"3.2\"/>\n",
       "<circle clip-path=\"url(#clip192)\" cx=\"1841.83\" cy=\"766.846\" r=\"14.4\" fill=\"#009af9\" fill-rule=\"evenodd\" fill-opacity=\"1\" stroke=\"#000000\" stroke-opacity=\"1\" stroke-width=\"3.2\"/>\n",
       "<circle clip-path=\"url(#clip192)\" cx=\"1854.46\" cy=\"766.846\" r=\"14.4\" fill=\"#009af9\" fill-rule=\"evenodd\" fill-opacity=\"1\" stroke=\"#000000\" stroke-opacity=\"1\" stroke-width=\"3.2\"/>\n",
       "<circle clip-path=\"url(#clip192)\" cx=\"1866.95\" cy=\"766.846\" r=\"14.4\" fill=\"#009af9\" fill-rule=\"evenodd\" fill-opacity=\"1\" stroke=\"#000000\" stroke-opacity=\"1\" stroke-width=\"3.2\"/>\n",
       "<circle clip-path=\"url(#clip192)\" cx=\"1879.3\" cy=\"766.846\" r=\"14.4\" fill=\"#009af9\" fill-rule=\"evenodd\" fill-opacity=\"1\" stroke=\"#000000\" stroke-opacity=\"1\" stroke-width=\"3.2\"/>\n",
       "<circle clip-path=\"url(#clip192)\" cx=\"1891.49\" cy=\"766.846\" r=\"14.4\" fill=\"#009af9\" fill-rule=\"evenodd\" fill-opacity=\"1\" stroke=\"#000000\" stroke-opacity=\"1\" stroke-width=\"3.2\"/>\n",
       "<circle clip-path=\"url(#clip192)\" cx=\"1903.54\" cy=\"766.846\" r=\"14.4\" fill=\"#009af9\" fill-rule=\"evenodd\" fill-opacity=\"1\" stroke=\"#000000\" stroke-opacity=\"1\" stroke-width=\"3.2\"/>\n",
       "<circle clip-path=\"url(#clip192)\" cx=\"1915.42\" cy=\"766.846\" r=\"14.4\" fill=\"#009af9\" fill-rule=\"evenodd\" fill-opacity=\"1\" stroke=\"#000000\" stroke-opacity=\"1\" stroke-width=\"3.2\"/>\n",
       "<circle clip-path=\"url(#clip192)\" cx=\"1927.15\" cy=\"766.846\" r=\"14.4\" fill=\"#009af9\" fill-rule=\"evenodd\" fill-opacity=\"1\" stroke=\"#000000\" stroke-opacity=\"1\" stroke-width=\"3.2\"/>\n",
       "<circle clip-path=\"url(#clip192)\" cx=\"1938.72\" cy=\"766.846\" r=\"14.4\" fill=\"#009af9\" fill-rule=\"evenodd\" fill-opacity=\"1\" stroke=\"#000000\" stroke-opacity=\"1\" stroke-width=\"3.2\"/>\n",
       "<circle clip-path=\"url(#clip192)\" cx=\"1950.12\" cy=\"766.846\" r=\"14.4\" fill=\"#009af9\" fill-rule=\"evenodd\" fill-opacity=\"1\" stroke=\"#000000\" stroke-opacity=\"1\" stroke-width=\"3.2\"/>\n",
       "<circle clip-path=\"url(#clip192)\" cx=\"1961.36\" cy=\"766.846\" r=\"14.4\" fill=\"#009af9\" fill-rule=\"evenodd\" fill-opacity=\"1\" stroke=\"#000000\" stroke-opacity=\"1\" stroke-width=\"3.2\"/>\n",
       "<circle clip-path=\"url(#clip192)\" cx=\"1972.43\" cy=\"766.846\" r=\"14.4\" fill=\"#009af9\" fill-rule=\"evenodd\" fill-opacity=\"1\" stroke=\"#000000\" stroke-opacity=\"1\" stroke-width=\"3.2\"/>\n",
       "<circle clip-path=\"url(#clip192)\" cx=\"1983.32\" cy=\"766.846\" r=\"14.4\" fill=\"#009af9\" fill-rule=\"evenodd\" fill-opacity=\"1\" stroke=\"#000000\" stroke-opacity=\"1\" stroke-width=\"3.2\"/>\n",
       "<circle clip-path=\"url(#clip192)\" cx=\"1994.04\" cy=\"766.846\" r=\"14.4\" fill=\"#009af9\" fill-rule=\"evenodd\" fill-opacity=\"1\" stroke=\"#000000\" stroke-opacity=\"1\" stroke-width=\"3.2\"/>\n",
       "<circle clip-path=\"url(#clip192)\" cx=\"2004.58\" cy=\"766.846\" r=\"14.4\" fill=\"#009af9\" fill-rule=\"evenodd\" fill-opacity=\"1\" stroke=\"#000000\" stroke-opacity=\"1\" stroke-width=\"3.2\"/>\n",
       "<circle clip-path=\"url(#clip192)\" cx=\"2014.94\" cy=\"766.846\" r=\"14.4\" fill=\"#009af9\" fill-rule=\"evenodd\" fill-opacity=\"1\" stroke=\"#000000\" stroke-opacity=\"1\" stroke-width=\"3.2\"/>\n",
       "<circle clip-path=\"url(#clip192)\" cx=\"2025.12\" cy=\"766.846\" r=\"14.4\" fill=\"#009af9\" fill-rule=\"evenodd\" fill-opacity=\"1\" stroke=\"#000000\" stroke-opacity=\"1\" stroke-width=\"3.2\"/>\n",
       "<circle clip-path=\"url(#clip192)\" cx=\"2035.12\" cy=\"766.846\" r=\"14.4\" fill=\"#009af9\" fill-rule=\"evenodd\" fill-opacity=\"1\" stroke=\"#000000\" stroke-opacity=\"1\" stroke-width=\"3.2\"/>\n",
       "<circle clip-path=\"url(#clip192)\" cx=\"2044.92\" cy=\"766.846\" r=\"14.4\" fill=\"#009af9\" fill-rule=\"evenodd\" fill-opacity=\"1\" stroke=\"#000000\" stroke-opacity=\"1\" stroke-width=\"3.2\"/>\n",
       "<circle clip-path=\"url(#clip192)\" cx=\"2054.53\" cy=\"766.846\" r=\"14.4\" fill=\"#009af9\" fill-rule=\"evenodd\" fill-opacity=\"1\" stroke=\"#000000\" stroke-opacity=\"1\" stroke-width=\"3.2\"/>\n",
       "<circle clip-path=\"url(#clip192)\" cx=\"2063.96\" cy=\"766.846\" r=\"14.4\" fill=\"#009af9\" fill-rule=\"evenodd\" fill-opacity=\"1\" stroke=\"#000000\" stroke-opacity=\"1\" stroke-width=\"3.2\"/>\n",
       "<circle clip-path=\"url(#clip192)\" cx=\"2073.18\" cy=\"766.846\" r=\"14.4\" fill=\"#009af9\" fill-rule=\"evenodd\" fill-opacity=\"1\" stroke=\"#000000\" stroke-opacity=\"1\" stroke-width=\"3.2\"/>\n",
       "<circle clip-path=\"url(#clip192)\" cx=\"2082.21\" cy=\"766.846\" r=\"14.4\" fill=\"#009af9\" fill-rule=\"evenodd\" fill-opacity=\"1\" stroke=\"#000000\" stroke-opacity=\"1\" stroke-width=\"3.2\"/>\n",
       "<circle clip-path=\"url(#clip192)\" cx=\"2091.04\" cy=\"766.846\" r=\"14.4\" fill=\"#009af9\" fill-rule=\"evenodd\" fill-opacity=\"1\" stroke=\"#000000\" stroke-opacity=\"1\" stroke-width=\"3.2\"/>\n",
       "<circle clip-path=\"url(#clip192)\" cx=\"2099.67\" cy=\"766.846\" r=\"14.4\" fill=\"#009af9\" fill-rule=\"evenodd\" fill-opacity=\"1\" stroke=\"#000000\" stroke-opacity=\"1\" stroke-width=\"3.2\"/>\n",
       "<circle clip-path=\"url(#clip192)\" cx=\"2108.09\" cy=\"766.846\" r=\"14.4\" fill=\"#009af9\" fill-rule=\"evenodd\" fill-opacity=\"1\" stroke=\"#000000\" stroke-opacity=\"1\" stroke-width=\"3.2\"/>\n",
       "<circle clip-path=\"url(#clip192)\" cx=\"2116.31\" cy=\"766.846\" r=\"14.4\" fill=\"#009af9\" fill-rule=\"evenodd\" fill-opacity=\"1\" stroke=\"#000000\" stroke-opacity=\"1\" stroke-width=\"3.2\"/>\n",
       "<circle clip-path=\"url(#clip192)\" cx=\"2124.32\" cy=\"766.846\" r=\"14.4\" fill=\"#009af9\" fill-rule=\"evenodd\" fill-opacity=\"1\" stroke=\"#000000\" stroke-opacity=\"1\" stroke-width=\"3.2\"/>\n",
       "<circle clip-path=\"url(#clip192)\" cx=\"2132.12\" cy=\"766.846\" r=\"14.4\" fill=\"#009af9\" fill-rule=\"evenodd\" fill-opacity=\"1\" stroke=\"#000000\" stroke-opacity=\"1\" stroke-width=\"3.2\"/>\n",
       "<circle clip-path=\"url(#clip192)\" cx=\"2139.71\" cy=\"766.846\" r=\"14.4\" fill=\"#009af9\" fill-rule=\"evenodd\" fill-opacity=\"1\" stroke=\"#000000\" stroke-opacity=\"1\" stroke-width=\"3.2\"/>\n",
       "<circle clip-path=\"url(#clip192)\" cx=\"2147.08\" cy=\"766.846\" r=\"14.4\" fill=\"#009af9\" fill-rule=\"evenodd\" fill-opacity=\"1\" stroke=\"#000000\" stroke-opacity=\"1\" stroke-width=\"3.2\"/>\n",
       "<circle clip-path=\"url(#clip192)\" cx=\"2154.24\" cy=\"766.846\" r=\"14.4\" fill=\"#009af9\" fill-rule=\"evenodd\" fill-opacity=\"1\" stroke=\"#000000\" stroke-opacity=\"1\" stroke-width=\"3.2\"/>\n",
       "<circle clip-path=\"url(#clip192)\" cx=\"2161.18\" cy=\"766.846\" r=\"14.4\" fill=\"#009af9\" fill-rule=\"evenodd\" fill-opacity=\"1\" stroke=\"#000000\" stroke-opacity=\"1\" stroke-width=\"3.2\"/>\n",
       "<circle clip-path=\"url(#clip192)\" cx=\"2167.9\" cy=\"766.846\" r=\"14.4\" fill=\"#009af9\" fill-rule=\"evenodd\" fill-opacity=\"1\" stroke=\"#000000\" stroke-opacity=\"1\" stroke-width=\"3.2\"/>\n",
       "<circle clip-path=\"url(#clip192)\" cx=\"2174.41\" cy=\"766.846\" r=\"14.4\" fill=\"#009af9\" fill-rule=\"evenodd\" fill-opacity=\"1\" stroke=\"#000000\" stroke-opacity=\"1\" stroke-width=\"3.2\"/>\n",
       "<circle clip-path=\"url(#clip192)\" cx=\"2180.69\" cy=\"766.846\" r=\"14.4\" fill=\"#009af9\" fill-rule=\"evenodd\" fill-opacity=\"1\" stroke=\"#000000\" stroke-opacity=\"1\" stroke-width=\"3.2\"/>\n",
       "<circle clip-path=\"url(#clip192)\" cx=\"2186.74\" cy=\"766.846\" r=\"14.4\" fill=\"#009af9\" fill-rule=\"evenodd\" fill-opacity=\"1\" stroke=\"#000000\" stroke-opacity=\"1\" stroke-width=\"3.2\"/>\n",
       "<circle clip-path=\"url(#clip192)\" cx=\"2192.57\" cy=\"766.846\" r=\"14.4\" fill=\"#009af9\" fill-rule=\"evenodd\" fill-opacity=\"1\" stroke=\"#000000\" stroke-opacity=\"1\" stroke-width=\"3.2\"/>\n",
       "<circle clip-path=\"url(#clip192)\" cx=\"2198.17\" cy=\"766.846\" r=\"14.4\" fill=\"#009af9\" fill-rule=\"evenodd\" fill-opacity=\"1\" stroke=\"#000000\" stroke-opacity=\"1\" stroke-width=\"3.2\"/>\n",
       "<circle clip-path=\"url(#clip192)\" cx=\"2203.55\" cy=\"766.846\" r=\"14.4\" fill=\"#009af9\" fill-rule=\"evenodd\" fill-opacity=\"1\" stroke=\"#000000\" stroke-opacity=\"1\" stroke-width=\"3.2\"/>\n",
       "<circle clip-path=\"url(#clip192)\" cx=\"2208.69\" cy=\"766.846\" r=\"14.4\" fill=\"#009af9\" fill-rule=\"evenodd\" fill-opacity=\"1\" stroke=\"#000000\" stroke-opacity=\"1\" stroke-width=\"3.2\"/>\n",
       "<circle clip-path=\"url(#clip192)\" cx=\"2213.61\" cy=\"766.846\" r=\"14.4\" fill=\"#009af9\" fill-rule=\"evenodd\" fill-opacity=\"1\" stroke=\"#000000\" stroke-opacity=\"1\" stroke-width=\"3.2\"/>\n",
       "<circle clip-path=\"url(#clip192)\" cx=\"2218.29\" cy=\"766.846\" r=\"14.4\" fill=\"#009af9\" fill-rule=\"evenodd\" fill-opacity=\"1\" stroke=\"#000000\" stroke-opacity=\"1\" stroke-width=\"3.2\"/>\n",
       "<circle clip-path=\"url(#clip192)\" cx=\"2222.74\" cy=\"766.846\" r=\"14.4\" fill=\"#009af9\" fill-rule=\"evenodd\" fill-opacity=\"1\" stroke=\"#000000\" stroke-opacity=\"1\" stroke-width=\"3.2\"/>\n",
       "<circle clip-path=\"url(#clip192)\" cx=\"2226.96\" cy=\"766.846\" r=\"14.4\" fill=\"#009af9\" fill-rule=\"evenodd\" fill-opacity=\"1\" stroke=\"#000000\" stroke-opacity=\"1\" stroke-width=\"3.2\"/>\n",
       "<circle clip-path=\"url(#clip192)\" cx=\"2230.94\" cy=\"766.846\" r=\"14.4\" fill=\"#009af9\" fill-rule=\"evenodd\" fill-opacity=\"1\" stroke=\"#000000\" stroke-opacity=\"1\" stroke-width=\"3.2\"/>\n",
       "<circle clip-path=\"url(#clip192)\" cx=\"2234.68\" cy=\"766.846\" r=\"14.4\" fill=\"#009af9\" fill-rule=\"evenodd\" fill-opacity=\"1\" stroke=\"#000000\" stroke-opacity=\"1\" stroke-width=\"3.2\"/>\n",
       "<circle clip-path=\"url(#clip192)\" cx=\"2238.19\" cy=\"766.846\" r=\"14.4\" fill=\"#009af9\" fill-rule=\"evenodd\" fill-opacity=\"1\" stroke=\"#000000\" stroke-opacity=\"1\" stroke-width=\"3.2\"/>\n",
       "<circle clip-path=\"url(#clip192)\" cx=\"2241.46\" cy=\"766.846\" r=\"14.4\" fill=\"#009af9\" fill-rule=\"evenodd\" fill-opacity=\"1\" stroke=\"#000000\" stroke-opacity=\"1\" stroke-width=\"3.2\"/>\n",
       "<circle clip-path=\"url(#clip192)\" cx=\"2244.49\" cy=\"766.846\" r=\"14.4\" fill=\"#009af9\" fill-rule=\"evenodd\" fill-opacity=\"1\" stroke=\"#000000\" stroke-opacity=\"1\" stroke-width=\"3.2\"/>\n",
       "<circle clip-path=\"url(#clip192)\" cx=\"2247.28\" cy=\"766.846\" r=\"14.4\" fill=\"#009af9\" fill-rule=\"evenodd\" fill-opacity=\"1\" stroke=\"#000000\" stroke-opacity=\"1\" stroke-width=\"3.2\"/>\n",
       "<circle clip-path=\"url(#clip192)\" cx=\"2249.83\" cy=\"766.846\" r=\"14.4\" fill=\"#009af9\" fill-rule=\"evenodd\" fill-opacity=\"1\" stroke=\"#000000\" stroke-opacity=\"1\" stroke-width=\"3.2\"/>\n",
       "<circle clip-path=\"url(#clip192)\" cx=\"2252.13\" cy=\"766.846\" r=\"14.4\" fill=\"#009af9\" fill-rule=\"evenodd\" fill-opacity=\"1\" stroke=\"#000000\" stroke-opacity=\"1\" stroke-width=\"3.2\"/>\n",
       "<circle clip-path=\"url(#clip192)\" cx=\"2254.2\" cy=\"766.846\" r=\"14.4\" fill=\"#009af9\" fill-rule=\"evenodd\" fill-opacity=\"1\" stroke=\"#000000\" stroke-opacity=\"1\" stroke-width=\"3.2\"/>\n",
       "<circle clip-path=\"url(#clip192)\" cx=\"2256.03\" cy=\"766.846\" r=\"14.4\" fill=\"#009af9\" fill-rule=\"evenodd\" fill-opacity=\"1\" stroke=\"#000000\" stroke-opacity=\"1\" stroke-width=\"3.2\"/>\n",
       "<circle clip-path=\"url(#clip192)\" cx=\"2257.61\" cy=\"766.846\" r=\"14.4\" fill=\"#009af9\" fill-rule=\"evenodd\" fill-opacity=\"1\" stroke=\"#000000\" stroke-opacity=\"1\" stroke-width=\"3.2\"/>\n",
       "<circle clip-path=\"url(#clip192)\" cx=\"2258.95\" cy=\"766.846\" r=\"14.4\" fill=\"#009af9\" fill-rule=\"evenodd\" fill-opacity=\"1\" stroke=\"#000000\" stroke-opacity=\"1\" stroke-width=\"3.2\"/>\n",
       "<circle clip-path=\"url(#clip192)\" cx=\"2260.05\" cy=\"766.846\" r=\"14.4\" fill=\"#009af9\" fill-rule=\"evenodd\" fill-opacity=\"1\" stroke=\"#000000\" stroke-opacity=\"1\" stroke-width=\"3.2\"/>\n",
       "<circle clip-path=\"url(#clip192)\" cx=\"2260.9\" cy=\"766.846\" r=\"14.4\" fill=\"#009af9\" fill-rule=\"evenodd\" fill-opacity=\"1\" stroke=\"#000000\" stroke-opacity=\"1\" stroke-width=\"3.2\"/>\n",
       "<circle clip-path=\"url(#clip192)\" cx=\"2261.51\" cy=\"766.846\" r=\"14.4\" fill=\"#009af9\" fill-rule=\"evenodd\" fill-opacity=\"1\" stroke=\"#000000\" stroke-opacity=\"1\" stroke-width=\"3.2\"/>\n",
       "<circle clip-path=\"url(#clip192)\" cx=\"2261.88\" cy=\"766.846\" r=\"14.4\" fill=\"#009af9\" fill-rule=\"evenodd\" fill-opacity=\"1\" stroke=\"#000000\" stroke-opacity=\"1\" stroke-width=\"3.2\"/>\n",
       "<circle clip-path=\"url(#clip192)\" cx=\"2262\" cy=\"766.846\" r=\"14.4\" fill=\"#009af9\" fill-rule=\"evenodd\" fill-opacity=\"1\" stroke=\"#000000\" stroke-opacity=\"1\" stroke-width=\"3.2\"/>\n",
       "<circle clip-path=\"url(#clip192)\" cx=\"2271.88\" cy=\"766.846\" r=\"14.4\" fill=\"#009af9\" fill-rule=\"evenodd\" fill-opacity=\"1\" stroke=\"#000000\" stroke-opacity=\"1\" stroke-width=\"3.2\"/>\n",
       "<circle clip-path=\"url(#clip192)\" cx=\"2281.77\" cy=\"766.846\" r=\"14.4\" fill=\"#009af9\" fill-rule=\"evenodd\" fill-opacity=\"1\" stroke=\"#000000\" stroke-opacity=\"1\" stroke-width=\"3.2\"/>\n",
       "<circle clip-path=\"url(#clip192)\" cx=\"2291.66\" cy=\"766.846\" r=\"14.4\" fill=\"#009af9\" fill-rule=\"evenodd\" fill-opacity=\"1\" stroke=\"#000000\" stroke-opacity=\"1\" stroke-width=\"3.2\"/>\n",
       "<path clip-path=\"url(#clip190)\" d=\"M2012.48 198.898 L2280.8 198.898 L2280.8 95.2176 L2012.48 95.2176  Z\" fill=\"#ffffff\" fill-rule=\"evenodd\" fill-opacity=\"1\"/>\n",
       "<polyline clip-path=\"url(#clip190)\" style=\"stroke:#000000; stroke-linecap:round; stroke-linejoin:round; stroke-width:4; stroke-opacity:1; fill:none\" points=\"2012.48,198.898 2280.8,198.898 2280.8,95.2176 2012.48,95.2176 2012.48,198.898 \"/>\n",
       "<circle clip-path=\"url(#clip190)\" cx=\"2108.43\" cy=\"147.058\" r=\"23.04\" fill=\"#009af9\" fill-rule=\"evenodd\" fill-opacity=\"1\" stroke=\"#000000\" stroke-opacity=\"1\" stroke-width=\"5.12\"/>\n",
       "<path clip-path=\"url(#clip190)\" d=\"M2218.22 166.745 Q2216.42 171.375 2214.7 172.787 Q2212.99 174.199 2210.12 174.199 L2206.72 174.199 L2206.72 170.634 L2209.22 170.634 Q2210.98 170.634 2211.95 169.8 Q2212.92 168.967 2214.1 165.865 L2214.86 163.921 L2204.38 138.412 L2208.89 138.412 L2216.99 158.689 L2225.1 138.412 L2229.61 138.412 L2218.22 166.745 Z\" fill=\"#000000\" fill-rule=\"evenodd\" fill-opacity=\"1\" /><path clip-path=\"url(#clip190)\" d=\"M2236.9 160.402 L2244.54 160.402 L2244.54 134.037 L2236.23 135.703 L2236.23 131.444 L2244.49 129.778 L2249.17 129.778 L2249.17 160.402 L2256.81 160.402 L2256.81 164.338 L2236.9 164.338 L2236.9 160.402 Z\" fill=\"#000000\" fill-rule=\"evenodd\" fill-opacity=\"1\" /></svg>\n"
      ]
     },
     "execution_count": 26,
     "metadata": {},
     "output_type": "execute_result"
    }
   ],
   "source": [
    "scatter(initX,zeros(L),ylim=[-1,1])"
   ]
  },
  {
   "cell_type": "code",
   "execution_count": 27,
   "id": "3c2ea07d",
   "metadata": {},
   "outputs": [],
   "source": [
    "Narray=zeros(length(initX1))\n",
    "for i in 1:length(initX1)-1\n",
    "    Narray[i+1]=Narray[i]+1\n",
    "end\n",
    "\n",
    "#x=originalX[4:L-3]\n",
    "#y=Narray"
   ]
  },
  {
   "cell_type": "code",
   "execution_count": 28,
   "id": "edf84878",
   "metadata": {},
   "outputs": [],
   "source": [
    "\"\"\"using Plots\n",
    "plot([initX1,x],[Narray,y],xlim=[0,0.008],ylim=[0,400],label=[\"N=1000 uneven grid\" \"N=7500 even grid\"],ylabel=\"Number of points\",xlabel=\"x\")\n",
    "\"\"\";"
   ]
  },
  {
   "cell_type": "markdown",
   "id": "80ab1480",
   "metadata": {
    "papermill": {
     "duration": 0.012577,
     "end_time": "2023-06-25T23:43:01.489367",
     "exception": false,
     "start_time": "2023-06-25T23:43:01.476790",
     "status": "completed"
    },
    "tags": []
   },
   "source": [
    "# Initial data of m β Ψ and Ψ,x"
   ]
  },
  {
   "cell_type": "code",
   "execution_count": 29,
   "id": "d0af654c",
   "metadata": {
    "execution": {
     "iopub.execute_input": "2023-06-26T00:43:01.510000Z",
     "iopub.status.busy": "2023-06-26T00:43:01.510000Z",
     "iopub.status.idle": "2023-06-26T00:43:03.001000Z",
     "shell.execute_reply": "2023-06-26T00:43:03.001000Z"
    },
    "papermill": {
     "duration": 1.504498,
     "end_time": "2023-06-25T23:43:03.004679",
     "exception": false,
     "start_time": "2023-06-25T23:43:01.500181",
     "status": "completed"
    },
    "tags": []
   },
   "outputs": [],
   "source": [
    "using Dierckx\n",
    "using Quadmath\n",
    "\n",
    "\n",
    "####\n",
    "#initm=Array{Float128}(undef, L)\n",
    "#initbeta=Array{Float128}(undef, L)\n",
    "#initpsi=Array{Float128}(undef, L)\n",
    "#initderpsi=Array{Float128}(undef, L)\n",
    "initm=zeros(L);\n",
    "initbeta=zeros(L);\n",
    "initpsi=zeros(L);\n",
    "initderpsi=zeros(L);\n",
    "\n",
    "state_array=[initm initbeta initpsi initderpsi initX];\n",
    "\n",
    "#PSI\n",
    "r0=0.7#0.01#0.7#0.01#0.7#0.7#0.7#0.01#0.7#0.3\n",
    "sigma=0.3\n",
    "initpsi[4:L-3] = init_gaussian(initX1,r0,sigma,A)\n",
    "\n",
    "state_array[:,3] = initpsi\n",
    "state_array = ghost(state_array)\n",
    "\n",
    "#PSI,X FROM PSI\n",
    "initderpsi[4:L-3] = init_gaussian_der(initX1,r0,sigma,A)\n",
    "state_array[:,4] = initderpsi\n",
    "state_array=ghost(state_array)\n",
    "\n",
    "####\n",
    "\n",
    "derpsi_func = Spline1D(initX[4:L-3], state_array[4:L-3,4],  k=4);"
   ]
  },
  {
   "cell_type": "code",
   "execution_count": 30,
   "id": "384597fa",
   "metadata": {
    "execution": {
     "iopub.execute_input": "2023-06-26T00:43:03.034000Z",
     "iopub.status.busy": "2023-06-26T00:43:03.034000Z",
     "iopub.status.idle": "2023-06-26T00:43:04.138000Z",
     "shell.execute_reply": "2023-06-26T00:43:04.138000Z"
    },
    "papermill": {
     "duration": 1.120928,
     "end_time": "2023-06-25T23:43:04.140984",
     "exception": false,
     "start_time": "2023-06-25T23:43:03.020056",
     "status": "completed"
    },
    "tags": []
   },
   "outputs": [],
   "source": [
    "y0=[0 0 0]\n",
    "\n",
    "state_array[4:L-3,1:3] = n_rk4wrapper(RHS,y0,initX[4:L-3],0,derpsi_func,state_array[:,:]);\n",
    "\n",
    "state_array = ghost(state_array);"
   ]
  },
  {
   "cell_type": "code",
   "execution_count": 31,
   "id": "48f10a76",
   "metadata": {
    "execution": {
     "iopub.execute_input": "2023-06-26T00:43:04.172000Z",
     "iopub.status.busy": "2023-06-26T00:43:04.172000Z",
     "iopub.status.idle": "2023-06-26T00:43:20.413000Z",
     "shell.execute_reply": "2023-06-26T00:43:20.413000Z"
    },
    "papermill": {
     "duration": 16.259104,
     "end_time": "2023-06-25T23:43:20.416060",
     "exception": false,
     "start_time": "2023-06-25T23:43:04.156956",
     "status": "completed"
    },
    "tags": []
   },
   "outputs": [
    {
     "data": {
      "image/svg+xml": [
       "<?xml version=\"1.0\" encoding=\"utf-8\"?>\n",
       "<svg xmlns=\"http://www.w3.org/2000/svg\" xmlns:xlink=\"http://www.w3.org/1999/xlink\" width=\"600\" height=\"400\" viewBox=\"0 0 2400 1600\">\n",
       "<defs>\n",
       "  <clipPath id=\"clip230\">\n",
       "    <rect x=\"0\" y=\"0\" width=\"2400\" height=\"1600\"/>\n",
       "  </clipPath>\n",
       "</defs>\n",
       "<path clip-path=\"url(#clip230)\" d=\"M0 1600 L2400 1600 L2400 0 L0 0  Z\" fill=\"#ffffff\" fill-rule=\"evenodd\" fill-opacity=\"1\"/>\n",
       "<defs>\n",
       "  <clipPath id=\"clip231\">\n",
       "    <rect x=\"480\" y=\"0\" width=\"1681\" height=\"1600\"/>\n",
       "  </clipPath>\n",
       "</defs>\n",
       "<path clip-path=\"url(#clip230)\" d=\"M254.26 1423.18 L2352.76 1423.18 L2352.76 123.472 L254.26 123.472  Z\" fill=\"#ffffff\" fill-rule=\"evenodd\" fill-opacity=\"1\"/>\n",
       "<defs>\n",
       "  <clipPath id=\"clip232\">\n",
       "    <rect x=\"254\" y=\"123\" width=\"2099\" height=\"1301\"/>\n",
       "  </clipPath>\n",
       "</defs>\n",
       "<polyline clip-path=\"url(#clip232)\" style=\"stroke:#000000; stroke-linecap:round; stroke-linejoin:round; stroke-width:2; stroke-opacity:0.1; fill:none\" points=\"313.651,1423.18 313.651,123.472 \"/>\n",
       "<polyline clip-path=\"url(#clip232)\" style=\"stroke:#000000; stroke-linecap:round; stroke-linejoin:round; stroke-width:2; stroke-opacity:0.1; fill:none\" points=\"808.579,1423.18 808.579,123.472 \"/>\n",
       "<polyline clip-path=\"url(#clip232)\" style=\"stroke:#000000; stroke-linecap:round; stroke-linejoin:round; stroke-width:2; stroke-opacity:0.1; fill:none\" points=\"1303.51,1423.18 1303.51,123.472 \"/>\n",
       "<polyline clip-path=\"url(#clip232)\" style=\"stroke:#000000; stroke-linecap:round; stroke-linejoin:round; stroke-width:2; stroke-opacity:0.1; fill:none\" points=\"1798.44,1423.18 1798.44,123.472 \"/>\n",
       "<polyline clip-path=\"url(#clip232)\" style=\"stroke:#000000; stroke-linecap:round; stroke-linejoin:round; stroke-width:2; stroke-opacity:0.1; fill:none\" points=\"2293.36,1423.18 2293.36,123.472 \"/>\n",
       "<polyline clip-path=\"url(#clip230)\" style=\"stroke:#000000; stroke-linecap:round; stroke-linejoin:round; stroke-width:4; stroke-opacity:1; fill:none\" points=\"254.26,1423.18 2352.76,1423.18 \"/>\n",
       "<polyline clip-path=\"url(#clip230)\" style=\"stroke:#000000; stroke-linecap:round; stroke-linejoin:round; stroke-width:4; stroke-opacity:1; fill:none\" points=\"313.651,1423.18 313.651,1404.28 \"/>\n",
       "<polyline clip-path=\"url(#clip230)\" style=\"stroke:#000000; stroke-linecap:round; stroke-linejoin:round; stroke-width:4; stroke-opacity:1; fill:none\" points=\"808.579,1423.18 808.579,1404.28 \"/>\n",
       "<polyline clip-path=\"url(#clip230)\" style=\"stroke:#000000; stroke-linecap:round; stroke-linejoin:round; stroke-width:4; stroke-opacity:1; fill:none\" points=\"1303.51,1423.18 1303.51,1404.28 \"/>\n",
       "<polyline clip-path=\"url(#clip230)\" style=\"stroke:#000000; stroke-linecap:round; stroke-linejoin:round; stroke-width:4; stroke-opacity:1; fill:none\" points=\"1798.44,1423.18 1798.44,1404.28 \"/>\n",
       "<polyline clip-path=\"url(#clip230)\" style=\"stroke:#000000; stroke-linecap:round; stroke-linejoin:round; stroke-width:4; stroke-opacity:1; fill:none\" points=\"2293.36,1423.18 2293.36,1404.28 \"/>\n",
       "<path clip-path=\"url(#clip230)\" d=\"M275.955 1454.1 Q272.343 1454.1 270.515 1457.66 Q268.709 1461.2 268.709 1468.33 Q268.709 1475.44 270.515 1479.01 Q272.343 1482.55 275.955 1482.55 Q279.589 1482.55 281.394 1479.01 Q283.223 1475.44 283.223 1468.33 Q283.223 1461.2 281.394 1457.66 Q279.589 1454.1 275.955 1454.1 M275.955 1450.39 Q281.765 1450.39 284.82 1455 Q287.899 1459.58 287.899 1468.33 Q287.899 1477.06 284.82 1481.67 Q281.765 1486.25 275.955 1486.25 Q270.144 1486.25 267.066 1481.67 Q264.01 1477.06 264.01 1468.33 Q264.01 1459.58 267.066 1455 Q270.144 1450.39 275.955 1450.39 Z\" fill=\"#000000\" fill-rule=\"evenodd\" fill-opacity=\"1\" /><path clip-path=\"url(#clip230)\" d=\"M296.117 1479.7 L301.001 1479.7 L301.001 1485.58 L296.117 1485.58 L296.117 1479.7 Z\" fill=\"#000000\" fill-rule=\"evenodd\" fill-opacity=\"1\" /><path clip-path=\"url(#clip230)\" d=\"M321.186 1454.1 Q317.575 1454.1 315.746 1457.66 Q313.94 1461.2 313.94 1468.33 Q313.94 1475.44 315.746 1479.01 Q317.575 1482.55 321.186 1482.55 Q324.82 1482.55 326.626 1479.01 Q328.454 1475.44 328.454 1468.33 Q328.454 1461.2 326.626 1457.66 Q324.82 1454.1 321.186 1454.1 M321.186 1450.39 Q326.996 1450.39 330.052 1455 Q333.13 1459.58 333.13 1468.33 Q333.13 1477.06 330.052 1481.67 Q326.996 1486.25 321.186 1486.25 Q315.376 1486.25 312.297 1481.67 Q309.241 1477.06 309.241 1468.33 Q309.241 1459.58 312.297 1455 Q315.376 1450.39 321.186 1450.39 Z\" fill=\"#000000\" fill-rule=\"evenodd\" fill-opacity=\"1\" /><path clip-path=\"url(#clip230)\" d=\"M351.348 1454.1 Q347.737 1454.1 345.908 1457.66 Q344.102 1461.2 344.102 1468.33 Q344.102 1475.44 345.908 1479.01 Q347.737 1482.55 351.348 1482.55 Q354.982 1482.55 356.787 1479.01 Q358.616 1475.44 358.616 1468.33 Q358.616 1461.2 356.787 1457.66 Q354.982 1454.1 351.348 1454.1 M351.348 1450.39 Q357.158 1450.39 360.213 1455 Q363.292 1459.58 363.292 1468.33 Q363.292 1477.06 360.213 1481.67 Q357.158 1486.25 351.348 1486.25 Q345.538 1486.25 342.459 1481.67 Q339.403 1477.06 339.403 1468.33 Q339.403 1459.58 342.459 1455 Q345.538 1450.39 351.348 1450.39 Z\" fill=\"#000000\" fill-rule=\"evenodd\" fill-opacity=\"1\" /><path clip-path=\"url(#clip230)\" d=\"M771.381 1454.1 Q767.77 1454.1 765.941 1457.66 Q764.135 1461.2 764.135 1468.33 Q764.135 1475.44 765.941 1479.01 Q767.77 1482.55 771.381 1482.55 Q775.015 1482.55 776.82 1479.01 Q778.649 1475.44 778.649 1468.33 Q778.649 1461.2 776.82 1457.66 Q775.015 1454.1 771.381 1454.1 M771.381 1450.39 Q777.191 1450.39 780.246 1455 Q783.325 1459.58 783.325 1468.33 Q783.325 1477.06 780.246 1481.67 Q777.191 1486.25 771.381 1486.25 Q765.57 1486.25 762.492 1481.67 Q759.436 1477.06 759.436 1468.33 Q759.436 1459.58 762.492 1455 Q765.57 1450.39 771.381 1450.39 Z\" fill=\"#000000\" fill-rule=\"evenodd\" fill-opacity=\"1\" /><path clip-path=\"url(#clip230)\" d=\"M791.543 1479.7 L796.427 1479.7 L796.427 1485.58 L791.543 1485.58 L791.543 1479.7 Z\" fill=\"#000000\" fill-rule=\"evenodd\" fill-opacity=\"1\" /><path clip-path=\"url(#clip230)\" d=\"M810.64 1481.64 L826.959 1481.64 L826.959 1485.58 L805.015 1485.58 L805.015 1481.64 Q807.677 1478.89 812.26 1474.26 Q816.866 1469.61 818.047 1468.27 Q820.292 1465.74 821.172 1464.01 Q822.075 1462.25 822.075 1460.56 Q822.075 1457.8 820.13 1456.07 Q818.209 1454.33 815.107 1454.33 Q812.908 1454.33 810.454 1455.09 Q808.024 1455.86 805.246 1457.41 L805.246 1452.69 Q808.07 1451.55 810.524 1450.97 Q812.978 1450.39 815.015 1450.39 Q820.385 1450.39 823.579 1453.08 Q826.774 1455.77 826.774 1460.26 Q826.774 1462.39 825.964 1464.31 Q825.177 1466.2 823.07 1468.8 Q822.491 1469.47 819.39 1472.69 Q816.288 1475.88 810.64 1481.64 Z\" fill=\"#000000\" fill-rule=\"evenodd\" fill-opacity=\"1\" /><path clip-path=\"url(#clip230)\" d=\"M836.82 1451.02 L855.176 1451.02 L855.176 1454.96 L841.102 1454.96 L841.102 1463.43 Q842.121 1463.08 843.139 1462.92 Q844.158 1462.73 845.177 1462.73 Q850.964 1462.73 854.343 1465.9 Q857.723 1469.08 857.723 1474.49 Q857.723 1480.07 854.251 1483.17 Q850.778 1486.25 844.459 1486.25 Q842.283 1486.25 840.015 1485.88 Q837.769 1485.51 835.362 1484.77 L835.362 1480.07 Q837.445 1481.2 839.667 1481.76 Q841.889 1482.32 844.366 1482.32 Q848.371 1482.32 850.709 1480.21 Q853.047 1478.1 853.047 1474.49 Q853.047 1470.88 850.709 1468.77 Q848.371 1466.67 844.366 1466.67 Q842.491 1466.67 840.616 1467.08 Q838.765 1467.5 836.82 1468.38 L836.82 1451.02 Z\" fill=\"#000000\" fill-rule=\"evenodd\" fill-opacity=\"1\" /><path clip-path=\"url(#clip230)\" d=\"M1265.81 1454.1 Q1262.2 1454.1 1260.37 1457.66 Q1258.57 1461.2 1258.57 1468.33 Q1258.57 1475.44 1260.37 1479.01 Q1262.2 1482.55 1265.81 1482.55 Q1269.45 1482.55 1271.25 1479.01 Q1273.08 1475.44 1273.08 1468.33 Q1273.08 1461.2 1271.25 1457.66 Q1269.45 1454.1 1265.81 1454.1 M1265.81 1450.39 Q1271.62 1450.39 1274.68 1455 Q1277.76 1459.58 1277.76 1468.33 Q1277.76 1477.06 1274.68 1481.67 Q1271.62 1486.25 1265.81 1486.25 Q1260 1486.25 1256.92 1481.67 Q1253.87 1477.06 1253.87 1468.33 Q1253.87 1459.58 1256.92 1455 Q1260 1450.39 1265.81 1450.39 Z\" fill=\"#000000\" fill-rule=\"evenodd\" fill-opacity=\"1\" /><path clip-path=\"url(#clip230)\" d=\"M1285.97 1479.7 L1290.86 1479.7 L1290.86 1485.58 L1285.97 1485.58 L1285.97 1479.7 Z\" fill=\"#000000\" fill-rule=\"evenodd\" fill-opacity=\"1\" /><path clip-path=\"url(#clip230)\" d=\"M1301.09 1451.02 L1319.45 1451.02 L1319.45 1454.96 L1305.37 1454.96 L1305.37 1463.43 Q1306.39 1463.08 1307.41 1462.92 Q1308.43 1462.73 1309.45 1462.73 Q1315.23 1462.73 1318.61 1465.9 Q1321.99 1469.08 1321.99 1474.49 Q1321.99 1480.07 1318.52 1483.17 Q1315.05 1486.25 1308.73 1486.25 Q1306.55 1486.25 1304.28 1485.88 Q1302.04 1485.51 1299.63 1484.77 L1299.63 1480.07 Q1301.71 1481.2 1303.94 1481.76 Q1306.16 1482.32 1308.64 1482.32 Q1312.64 1482.32 1314.98 1480.21 Q1317.32 1478.1 1317.32 1474.49 Q1317.32 1470.88 1314.98 1468.77 Q1312.64 1466.67 1308.64 1466.67 Q1306.76 1466.67 1304.89 1467.08 Q1303.03 1467.5 1301.09 1468.38 L1301.09 1451.02 Z\" fill=\"#000000\" fill-rule=\"evenodd\" fill-opacity=\"1\" /><path clip-path=\"url(#clip230)\" d=\"M1341.2 1454.1 Q1337.59 1454.1 1335.76 1457.66 Q1333.96 1461.2 1333.96 1468.33 Q1333.96 1475.44 1335.76 1479.01 Q1337.59 1482.55 1341.2 1482.55 Q1344.84 1482.55 1346.64 1479.01 Q1348.47 1475.44 1348.47 1468.33 Q1348.47 1461.2 1346.64 1457.66 Q1344.84 1454.1 1341.2 1454.1 M1341.2 1450.39 Q1347.01 1450.39 1350.07 1455 Q1353.15 1459.58 1353.15 1468.33 Q1353.15 1477.06 1350.07 1481.67 Q1347.01 1486.25 1341.2 1486.25 Q1335.39 1486.25 1332.32 1481.67 Q1329.26 1477.06 1329.26 1468.33 Q1329.26 1459.58 1332.32 1455 Q1335.39 1450.39 1341.2 1450.39 Z\" fill=\"#000000\" fill-rule=\"evenodd\" fill-opacity=\"1\" /><path clip-path=\"url(#clip230)\" d=\"M1761.24 1454.1 Q1757.63 1454.1 1755.8 1457.66 Q1753.99 1461.2 1753.99 1468.33 Q1753.99 1475.44 1755.8 1479.01 Q1757.63 1482.55 1761.24 1482.55 Q1764.87 1482.55 1766.68 1479.01 Q1768.51 1475.44 1768.51 1468.33 Q1768.51 1461.2 1766.68 1457.66 Q1764.87 1454.1 1761.24 1454.1 M1761.24 1450.39 Q1767.05 1450.39 1770.1 1455 Q1773.18 1459.58 1773.18 1468.33 Q1773.18 1477.06 1770.1 1481.67 Q1767.05 1486.25 1761.24 1486.25 Q1755.43 1486.25 1752.35 1481.67 Q1749.29 1477.06 1749.29 1468.33 Q1749.29 1459.58 1752.35 1455 Q1755.43 1450.39 1761.24 1450.39 Z\" fill=\"#000000\" fill-rule=\"evenodd\" fill-opacity=\"1\" /><path clip-path=\"url(#clip230)\" d=\"M1781.4 1479.7 L1786.28 1479.7 L1786.28 1485.58 L1781.4 1485.58 L1781.4 1479.7 Z\" fill=\"#000000\" fill-rule=\"evenodd\" fill-opacity=\"1\" /><path clip-path=\"url(#clip230)\" d=\"M1795.29 1451.02 L1817.51 1451.02 L1817.51 1453.01 L1804.96 1485.58 L1800.08 1485.58 L1811.89 1454.96 L1795.29 1454.96 L1795.29 1451.02 Z\" fill=\"#000000\" fill-rule=\"evenodd\" fill-opacity=\"1\" /><path clip-path=\"url(#clip230)\" d=\"M1826.68 1451.02 L1845.03 1451.02 L1845.03 1454.96 L1830.96 1454.96 L1830.96 1463.43 Q1831.98 1463.08 1833 1462.92 Q1834.01 1462.73 1835.03 1462.73 Q1840.82 1462.73 1844.2 1465.9 Q1847.58 1469.08 1847.58 1474.49 Q1847.58 1480.07 1844.11 1483.17 Q1840.64 1486.25 1834.32 1486.25 Q1832.14 1486.25 1829.87 1485.88 Q1827.63 1485.51 1825.22 1484.77 L1825.22 1480.07 Q1827.3 1481.2 1829.52 1481.76 Q1831.75 1482.32 1834.22 1482.32 Q1838.23 1482.32 1840.57 1480.21 Q1842.9 1478.1 1842.9 1474.49 Q1842.9 1470.88 1840.57 1468.77 Q1838.23 1466.67 1834.22 1466.67 Q1832.35 1466.67 1830.47 1467.08 Q1828.62 1467.5 1826.68 1468.38 L1826.68 1451.02 Z\" fill=\"#000000\" fill-rule=\"evenodd\" fill-opacity=\"1\" /><path clip-path=\"url(#clip230)\" d=\"M2245.44 1481.64 L2253.08 1481.64 L2253.08 1455.28 L2244.77 1456.95 L2244.77 1452.69 L2253.03 1451.02 L2257.7 1451.02 L2257.7 1481.64 L2265.34 1481.64 L2265.34 1485.58 L2245.44 1485.58 L2245.44 1481.64 Z\" fill=\"#000000\" fill-rule=\"evenodd\" fill-opacity=\"1\" /><path clip-path=\"url(#clip230)\" d=\"M2274.79 1479.7 L2279.67 1479.7 L2279.67 1485.58 L2274.79 1485.58 L2274.79 1479.7 Z\" fill=\"#000000\" fill-rule=\"evenodd\" fill-opacity=\"1\" /><path clip-path=\"url(#clip230)\" d=\"M2299.86 1454.1 Q2296.25 1454.1 2294.42 1457.66 Q2292.61 1461.2 2292.61 1468.33 Q2292.61 1475.44 2294.42 1479.01 Q2296.25 1482.55 2299.86 1482.55 Q2303.49 1482.55 2305.3 1479.01 Q2307.13 1475.44 2307.13 1468.33 Q2307.13 1461.2 2305.3 1457.66 Q2303.49 1454.1 2299.86 1454.1 M2299.86 1450.39 Q2305.67 1450.39 2308.72 1455 Q2311.8 1459.58 2311.8 1468.33 Q2311.8 1477.06 2308.72 1481.67 Q2305.67 1486.25 2299.86 1486.25 Q2294.05 1486.25 2290.97 1481.67 Q2287.91 1477.06 2287.91 1468.33 Q2287.91 1459.58 2290.97 1455 Q2294.05 1450.39 2299.86 1450.39 Z\" fill=\"#000000\" fill-rule=\"evenodd\" fill-opacity=\"1\" /><path clip-path=\"url(#clip230)\" d=\"M2330.02 1454.1 Q2326.41 1454.1 2324.58 1457.66 Q2322.77 1461.2 2322.77 1468.33 Q2322.77 1475.44 2324.58 1479.01 Q2326.41 1482.55 2330.02 1482.55 Q2333.65 1482.55 2335.46 1479.01 Q2337.29 1475.44 2337.29 1468.33 Q2337.29 1461.2 2335.46 1457.66 Q2333.65 1454.1 2330.02 1454.1 M2330.02 1450.39 Q2335.83 1450.39 2338.89 1455 Q2341.96 1459.58 2341.96 1468.33 Q2341.96 1477.06 2338.89 1481.67 Q2335.83 1486.25 2330.02 1486.25 Q2324.21 1486.25 2321.13 1481.67 Q2318.08 1477.06 2318.08 1468.33 Q2318.08 1459.58 2321.13 1455 Q2324.21 1450.39 2330.02 1450.39 Z\" fill=\"#000000\" fill-rule=\"evenodd\" fill-opacity=\"1\" /><path clip-path=\"url(#clip230)\" d=\"M1320.12 1532.4 L1307.23 1549.74 L1320.79 1568.04 L1313.88 1568.04 L1303.51 1554.04 L1293.13 1568.04 L1286.22 1568.04 L1300.07 1549.39 L1287.4 1532.4 L1294.31 1532.4 L1303.76 1545.1 L1313.22 1532.4 L1320.12 1532.4 Z\" fill=\"#000000\" fill-rule=\"evenodd\" fill-opacity=\"1\" /><polyline clip-path=\"url(#clip232)\" style=\"stroke:#000000; stroke-linecap:round; stroke-linejoin:round; stroke-width:2; stroke-opacity:0.1; fill:none\" points=\"254.26,1245.55 2352.76,1245.55 \"/>\n",
       "<polyline clip-path=\"url(#clip232)\" style=\"stroke:#000000; stroke-linecap:round; stroke-linejoin:round; stroke-width:2; stroke-opacity:0.1; fill:none\" points=\"254.26,953.508 2352.76,953.508 \"/>\n",
       "<polyline clip-path=\"url(#clip232)\" style=\"stroke:#000000; stroke-linecap:round; stroke-linejoin:round; stroke-width:2; stroke-opacity:0.1; fill:none\" points=\"254.26,661.466 2352.76,661.466 \"/>\n",
       "<polyline clip-path=\"url(#clip232)\" style=\"stroke:#000000; stroke-linecap:round; stroke-linejoin:round; stroke-width:2; stroke-opacity:0.1; fill:none\" points=\"254.26,369.425 2352.76,369.425 \"/>\n",
       "<polyline clip-path=\"url(#clip230)\" style=\"stroke:#000000; stroke-linecap:round; stroke-linejoin:round; stroke-width:4; stroke-opacity:1; fill:none\" points=\"254.26,1423.18 254.26,123.472 \"/>\n",
       "<polyline clip-path=\"url(#clip230)\" style=\"stroke:#000000; stroke-linecap:round; stroke-linejoin:round; stroke-width:4; stroke-opacity:1; fill:none\" points=\"254.26,1245.55 273.157,1245.55 \"/>\n",
       "<polyline clip-path=\"url(#clip230)\" style=\"stroke:#000000; stroke-linecap:round; stroke-linejoin:round; stroke-width:4; stroke-opacity:1; fill:none\" points=\"254.26,953.508 273.157,953.508 \"/>\n",
       "<polyline clip-path=\"url(#clip230)\" style=\"stroke:#000000; stroke-linecap:round; stroke-linejoin:round; stroke-width:4; stroke-opacity:1; fill:none\" points=\"254.26,661.466 273.157,661.466 \"/>\n",
       "<polyline clip-path=\"url(#clip230)\" style=\"stroke:#000000; stroke-linecap:round; stroke-linejoin:round; stroke-width:4; stroke-opacity:1; fill:none\" points=\"254.26,369.425 273.157,369.425 \"/>\n",
       "<path clip-path=\"url(#clip230)\" d=\"M50.9921 1246 L80.6679 1246 L80.6679 1249.94 L50.9921 1249.94 L50.9921 1246 Z\" fill=\"#000000\" fill-rule=\"evenodd\" fill-opacity=\"1\" /><path clip-path=\"url(#clip230)\" d=\"M100.76 1231.35 Q97.1493 1231.35 95.3206 1234.91 Q93.515 1238.46 93.515 1245.58 Q93.515 1252.69 95.3206 1256.26 Q97.1493 1259.8 100.76 1259.8 Q104.395 1259.8 106.2 1256.26 Q108.029 1252.69 108.029 1245.58 Q108.029 1238.46 106.2 1234.91 Q104.395 1231.35 100.76 1231.35 M100.76 1227.65 Q106.571 1227.65 109.626 1232.25 Q112.705 1236.83 112.705 1245.58 Q112.705 1254.31 109.626 1258.92 Q106.571 1263.5 100.76 1263.5 Q94.9502 1263.5 91.8715 1258.92 Q88.816 1254.31 88.816 1245.58 Q88.816 1236.83 91.8715 1232.25 Q94.9502 1227.65 100.76 1227.65 Z\" fill=\"#000000\" fill-rule=\"evenodd\" fill-opacity=\"1\" /><path clip-path=\"url(#clip230)\" d=\"M120.922 1256.95 L125.807 1256.95 L125.807 1262.83 L120.922 1262.83 L120.922 1256.95 Z\" fill=\"#000000\" fill-rule=\"evenodd\" fill-opacity=\"1\" /><path clip-path=\"url(#clip230)\" d=\"M145.992 1231.35 Q142.381 1231.35 140.552 1234.91 Q138.746 1238.46 138.746 1245.58 Q138.746 1252.69 140.552 1256.26 Q142.381 1259.8 145.992 1259.8 Q149.626 1259.8 151.431 1256.26 Q153.26 1252.69 153.26 1245.58 Q153.26 1238.46 151.431 1234.91 Q149.626 1231.35 145.992 1231.35 M145.992 1227.65 Q151.802 1227.65 154.857 1232.25 Q157.936 1236.83 157.936 1245.58 Q157.936 1254.31 154.857 1258.92 Q151.802 1263.5 145.992 1263.5 Q140.181 1263.5 137.103 1258.92 Q134.047 1254.31 134.047 1245.58 Q134.047 1236.83 137.103 1232.25 Q140.181 1227.65 145.992 1227.65 Z\" fill=\"#000000\" fill-rule=\"evenodd\" fill-opacity=\"1\" /><path clip-path=\"url(#clip230)\" d=\"M166.2 1228.27 L184.556 1228.27 L184.556 1232.21 L170.482 1232.21 L170.482 1240.68 Q171.501 1240.33 172.519 1240.17 Q173.538 1239.98 174.556 1239.98 Q180.343 1239.98 183.723 1243.15 Q187.103 1246.33 187.103 1251.74 Q187.103 1257.32 183.63 1260.42 Q180.158 1263.5 173.839 1263.5 Q171.663 1263.5 169.394 1263.13 Q167.149 1262.76 164.742 1262.02 L164.742 1257.32 Q166.825 1258.46 169.047 1259.01 Q171.269 1259.57 173.746 1259.57 Q177.751 1259.57 180.089 1257.46 Q182.427 1255.35 182.427 1251.74 Q182.427 1248.13 180.089 1246.02 Q177.751 1243.92 173.746 1243.92 Q171.871 1243.92 169.996 1244.33 Q168.144 1244.75 166.2 1245.63 L166.2 1228.27 Z\" fill=\"#000000\" fill-rule=\"evenodd\" fill-opacity=\"1\" /><path clip-path=\"url(#clip230)\" d=\"M206.315 1231.35 Q202.704 1231.35 200.876 1234.91 Q199.07 1238.46 199.07 1245.58 Q199.07 1252.69 200.876 1256.26 Q202.704 1259.8 206.315 1259.8 Q209.95 1259.8 211.755 1256.26 Q213.584 1252.69 213.584 1245.58 Q213.584 1238.46 211.755 1234.91 Q209.95 1231.35 206.315 1231.35 M206.315 1227.65 Q212.126 1227.65 215.181 1232.25 Q218.26 1236.83 218.26 1245.58 Q218.26 1254.31 215.181 1258.92 Q212.126 1263.5 206.315 1263.5 Q200.505 1263.5 197.427 1258.92 Q194.371 1254.31 194.371 1245.58 Q194.371 1236.83 197.427 1232.25 Q200.505 1227.65 206.315 1227.65 Z\" fill=\"#000000\" fill-rule=\"evenodd\" fill-opacity=\"1\" /><path clip-path=\"url(#clip230)\" d=\"M51.9875 953.96 L81.6633 953.96 L81.6633 957.895 L51.9875 957.895 L51.9875 953.96 Z\" fill=\"#000000\" fill-rule=\"evenodd\" fill-opacity=\"1\" /><path clip-path=\"url(#clip230)\" d=\"M101.756 939.307 Q98.1447 939.307 96.316 942.872 Q94.5104 946.413 94.5104 953.543 Q94.5104 960.649 96.316 964.214 Q98.1447 967.756 101.756 967.756 Q105.39 967.756 107.196 964.214 Q109.024 960.649 109.024 953.543 Q109.024 946.413 107.196 942.872 Q105.39 939.307 101.756 939.307 M101.756 935.603 Q107.566 935.603 110.621 940.21 Q113.7 944.793 113.7 953.543 Q113.7 962.27 110.621 966.876 Q107.566 971.459 101.756 971.459 Q95.9456 971.459 92.8669 966.876 Q89.8114 962.27 89.8114 953.543 Q89.8114 944.793 92.8669 940.21 Q95.9456 935.603 101.756 935.603 Z\" fill=\"#000000\" fill-rule=\"evenodd\" fill-opacity=\"1\" /><path clip-path=\"url(#clip230)\" d=\"M121.918 964.909 L126.802 964.909 L126.802 970.788 L121.918 970.788 L121.918 964.909 Z\" fill=\"#000000\" fill-rule=\"evenodd\" fill-opacity=\"1\" /><path clip-path=\"url(#clip230)\" d=\"M146.987 939.307 Q143.376 939.307 141.547 942.872 Q139.742 946.413 139.742 953.543 Q139.742 960.649 141.547 964.214 Q143.376 967.756 146.987 967.756 Q150.621 967.756 152.427 964.214 Q154.255 960.649 154.255 953.543 Q154.255 946.413 152.427 942.872 Q150.621 939.307 146.987 939.307 M146.987 935.603 Q152.797 935.603 155.853 940.21 Q158.931 944.793 158.931 953.543 Q158.931 962.27 155.853 966.876 Q152.797 971.459 146.987 971.459 Q141.177 971.459 138.098 966.876 Q135.043 962.27 135.043 953.543 Q135.043 944.793 138.098 940.21 Q141.177 935.603 146.987 935.603 Z\" fill=\"#000000\" fill-rule=\"evenodd\" fill-opacity=\"1\" /><path clip-path=\"url(#clip230)\" d=\"M171.177 966.853 L187.496 966.853 L187.496 970.788 L165.552 970.788 L165.552 966.853 Q168.214 964.098 172.797 959.469 Q177.403 954.816 178.584 953.473 Q180.829 950.95 181.709 949.214 Q182.612 947.455 182.612 945.765 Q182.612 943.011 180.667 941.274 Q178.746 939.538 175.644 939.538 Q173.445 939.538 170.991 940.302 Q168.561 941.066 165.783 942.617 L165.783 937.895 Q168.607 936.761 171.061 936.182 Q173.515 935.603 175.552 935.603 Q180.922 935.603 184.116 938.288 Q187.311 940.974 187.311 945.464 Q187.311 947.594 186.501 949.515 Q185.714 951.413 183.607 954.006 Q183.028 954.677 179.927 957.895 Q176.825 961.089 171.177 966.853 Z\" fill=\"#000000\" fill-rule=\"evenodd\" fill-opacity=\"1\" /><path clip-path=\"url(#clip230)\" d=\"M197.357 936.228 L215.713 936.228 L215.713 940.163 L201.639 940.163 L201.639 948.636 Q202.658 948.288 203.676 948.126 Q204.695 947.941 205.714 947.941 Q211.501 947.941 214.88 951.112 Q218.26 954.284 218.26 959.7 Q218.26 965.279 214.788 968.381 Q211.315 971.459 204.996 971.459 Q202.82 971.459 200.552 971.089 Q198.306 970.719 195.899 969.978 L195.899 965.279 Q197.982 966.413 200.204 966.969 Q202.426 967.524 204.903 967.524 Q208.908 967.524 211.246 965.418 Q213.584 963.311 213.584 959.7 Q213.584 956.089 211.246 953.983 Q208.908 951.876 204.903 951.876 Q203.028 951.876 201.153 952.293 Q199.302 952.71 197.357 953.589 L197.357 936.228 Z\" fill=\"#000000\" fill-rule=\"evenodd\" fill-opacity=\"1\" /><path clip-path=\"url(#clip230)\" d=\"M100.76 647.265 Q97.1493 647.265 95.3206 650.83 Q93.515 654.372 93.515 661.501 Q93.515 668.608 95.3206 672.172 Q97.1493 675.714 100.76 675.714 Q104.395 675.714 106.2 672.172 Q108.029 668.608 108.029 661.501 Q108.029 654.372 106.2 650.83 Q104.395 647.265 100.76 647.265 M100.76 643.561 Q106.571 643.561 109.626 648.168 Q112.705 652.751 112.705 661.501 Q112.705 670.228 109.626 674.834 Q106.571 679.418 100.76 679.418 Q94.9502 679.418 91.8715 674.834 Q88.816 670.228 88.816 661.501 Q88.816 652.751 91.8715 648.168 Q94.9502 643.561 100.76 643.561 Z\" fill=\"#000000\" fill-rule=\"evenodd\" fill-opacity=\"1\" /><path clip-path=\"url(#clip230)\" d=\"M120.922 672.867 L125.807 672.867 L125.807 678.746 L120.922 678.746 L120.922 672.867 Z\" fill=\"#000000\" fill-rule=\"evenodd\" fill-opacity=\"1\" /><path clip-path=\"url(#clip230)\" d=\"M145.992 647.265 Q142.381 647.265 140.552 650.83 Q138.746 654.372 138.746 661.501 Q138.746 668.608 140.552 672.172 Q142.381 675.714 145.992 675.714 Q149.626 675.714 151.431 672.172 Q153.26 668.608 153.26 661.501 Q153.26 654.372 151.431 650.83 Q149.626 647.265 145.992 647.265 M145.992 643.561 Q151.802 643.561 154.857 648.168 Q157.936 652.751 157.936 661.501 Q157.936 670.228 154.857 674.834 Q151.802 679.418 145.992 679.418 Q140.181 679.418 137.103 674.834 Q134.047 670.228 134.047 661.501 Q134.047 652.751 137.103 648.168 Q140.181 643.561 145.992 643.561 Z\" fill=\"#000000\" fill-rule=\"evenodd\" fill-opacity=\"1\" /><path clip-path=\"url(#clip230)\" d=\"M176.153 647.265 Q172.542 647.265 170.714 650.83 Q168.908 654.372 168.908 661.501 Q168.908 668.608 170.714 672.172 Q172.542 675.714 176.153 675.714 Q179.788 675.714 181.593 672.172 Q183.422 668.608 183.422 661.501 Q183.422 654.372 181.593 650.83 Q179.788 647.265 176.153 647.265 M176.153 643.561 Q181.964 643.561 185.019 648.168 Q188.098 652.751 188.098 661.501 Q188.098 670.228 185.019 674.834 Q181.964 679.418 176.153 679.418 Q170.343 679.418 167.265 674.834 Q164.209 670.228 164.209 661.501 Q164.209 652.751 167.265 648.168 Q170.343 643.561 176.153 643.561 Z\" fill=\"#000000\" fill-rule=\"evenodd\" fill-opacity=\"1\" /><path clip-path=\"url(#clip230)\" d=\"M206.315 647.265 Q202.704 647.265 200.876 650.83 Q199.07 654.372 199.07 661.501 Q199.07 668.608 200.876 672.172 Q202.704 675.714 206.315 675.714 Q209.95 675.714 211.755 672.172 Q213.584 668.608 213.584 661.501 Q213.584 654.372 211.755 650.83 Q209.95 647.265 206.315 647.265 M206.315 643.561 Q212.126 643.561 215.181 648.168 Q218.26 652.751 218.26 661.501 Q218.26 670.228 215.181 674.834 Q212.126 679.418 206.315 679.418 Q200.505 679.418 197.427 674.834 Q194.371 670.228 194.371 661.501 Q194.371 652.751 197.427 648.168 Q200.505 643.561 206.315 643.561 Z\" fill=\"#000000\" fill-rule=\"evenodd\" fill-opacity=\"1\" /><path clip-path=\"url(#clip230)\" d=\"M101.756 355.223 Q98.1447 355.223 96.316 358.788 Q94.5104 362.33 94.5104 369.459 Q94.5104 376.566 96.316 380.131 Q98.1447 383.672 101.756 383.672 Q105.39 383.672 107.196 380.131 Q109.024 376.566 109.024 369.459 Q109.024 362.33 107.196 358.788 Q105.39 355.223 101.756 355.223 M101.756 351.52 Q107.566 351.52 110.621 356.126 Q113.7 360.709 113.7 369.459 Q113.7 378.186 110.621 382.793 Q107.566 387.376 101.756 387.376 Q95.9456 387.376 92.8669 382.793 Q89.8114 378.186 89.8114 369.459 Q89.8114 360.709 92.8669 356.126 Q95.9456 351.52 101.756 351.52 Z\" fill=\"#000000\" fill-rule=\"evenodd\" fill-opacity=\"1\" /><path clip-path=\"url(#clip230)\" d=\"M121.918 380.825 L126.802 380.825 L126.802 386.705 L121.918 386.705 L121.918 380.825 Z\" fill=\"#000000\" fill-rule=\"evenodd\" fill-opacity=\"1\" /><path clip-path=\"url(#clip230)\" d=\"M146.987 355.223 Q143.376 355.223 141.547 358.788 Q139.742 362.33 139.742 369.459 Q139.742 376.566 141.547 380.131 Q143.376 383.672 146.987 383.672 Q150.621 383.672 152.427 380.131 Q154.255 376.566 154.255 369.459 Q154.255 362.33 152.427 358.788 Q150.621 355.223 146.987 355.223 M146.987 351.52 Q152.797 351.52 155.853 356.126 Q158.931 360.709 158.931 369.459 Q158.931 378.186 155.853 382.793 Q152.797 387.376 146.987 387.376 Q141.177 387.376 138.098 382.793 Q135.043 378.186 135.043 369.459 Q135.043 360.709 138.098 356.126 Q141.177 351.52 146.987 351.52 Z\" fill=\"#000000\" fill-rule=\"evenodd\" fill-opacity=\"1\" /><path clip-path=\"url(#clip230)\" d=\"M171.177 382.769 L187.496 382.769 L187.496 386.705 L165.552 386.705 L165.552 382.769 Q168.214 380.015 172.797 375.385 Q177.403 370.732 178.584 369.39 Q180.829 366.867 181.709 365.131 Q182.612 363.371 182.612 361.682 Q182.612 358.927 180.667 357.191 Q178.746 355.455 175.644 355.455 Q173.445 355.455 170.991 356.219 Q168.561 356.983 165.783 358.533 L165.783 353.811 Q168.607 352.677 171.061 352.098 Q173.515 351.52 175.552 351.52 Q180.922 351.52 184.116 354.205 Q187.311 356.89 187.311 361.381 Q187.311 363.51 186.501 365.432 Q185.714 367.33 183.607 369.922 Q183.028 370.594 179.927 373.811 Q176.825 377.006 171.177 382.769 Z\" fill=\"#000000\" fill-rule=\"evenodd\" fill-opacity=\"1\" /><path clip-path=\"url(#clip230)\" d=\"M197.357 352.145 L215.713 352.145 L215.713 356.08 L201.639 356.08 L201.639 364.552 Q202.658 364.205 203.676 364.043 Q204.695 363.857 205.714 363.857 Q211.501 363.857 214.88 367.029 Q218.26 370.2 218.26 375.617 Q218.26 381.195 214.788 384.297 Q211.315 387.376 204.996 387.376 Q202.82 387.376 200.552 387.005 Q198.306 386.635 195.899 385.894 L195.899 381.195 Q197.982 382.33 200.204 382.885 Q202.426 383.441 204.903 383.441 Q208.908 383.441 211.246 381.334 Q213.584 379.228 213.584 375.617 Q213.584 372.006 211.246 369.899 Q208.908 367.793 204.903 367.793 Q203.028 367.793 201.153 368.209 Q199.302 368.626 197.357 369.506 L197.357 352.145 Z\" fill=\"#000000\" fill-rule=\"evenodd\" fill-opacity=\"1\" /><path clip-path=\"url(#clip230)\" d=\"M1084.33 12.096 L1092.52 12.096 L1092.52 72.576 L1084.33 72.576 L1084.33 12.096 Z\" fill=\"#000000\" fill-rule=\"evenodd\" fill-opacity=\"1\" /><path clip-path=\"url(#clip230)\" d=\"M1146.19 45.1919 L1146.19 72.576 L1138.74 72.576 L1138.74 45.4349 Q1138.74 38.994 1136.23 35.7938 Q1133.71 32.5936 1128.69 32.5936 Q1122.66 32.5936 1119.17 36.4419 Q1115.69 40.2903 1115.69 46.9338 L1115.69 72.576 L1108.19 72.576 L1108.19 27.2059 L1115.69 27.2059 L1115.69 34.2544 Q1118.36 30.163 1121.97 28.1376 Q1125.61 26.1121 1130.35 26.1121 Q1138.17 26.1121 1142.18 30.9732 Q1146.19 35.7938 1146.19 45.1919 Z\" fill=\"#000000\" fill-rule=\"evenodd\" fill-opacity=\"1\" /><path clip-path=\"url(#clip230)\" d=\"M1161.06 27.2059 L1168.51 27.2059 L1168.51 72.576 L1161.06 72.576 L1161.06 27.2059 M1161.06 9.54393 L1168.51 9.54393 L1168.51 18.9825 L1161.06 18.9825 L1161.06 9.54393 Z\" fill=\"#000000\" fill-rule=\"evenodd\" fill-opacity=\"1\" /><path clip-path=\"url(#clip230)\" d=\"M1191.48 14.324 L1191.48 27.2059 L1206.83 27.2059 L1206.83 32.9987 L1191.48 32.9987 L1191.48 57.6282 Q1191.48 63.1779 1192.98 64.7578 Q1194.52 66.3376 1199.18 66.3376 L1206.83 66.3376 L1206.83 72.576 L1199.18 72.576 Q1190.55 72.576 1187.27 69.3758 Q1183.99 66.1351 1183.99 57.6282 L1183.99 32.9987 L1178.52 32.9987 L1178.52 27.2059 L1183.99 27.2059 L1183.99 14.324 L1191.48 14.324 Z\" fill=\"#000000\" fill-rule=\"evenodd\" fill-opacity=\"1\" /><path clip-path=\"url(#clip230)\" d=\"M1216.64 27.2059 L1224.09 27.2059 L1224.09 72.576 L1216.64 72.576 L1216.64 27.2059 M1216.64 9.54393 L1224.09 9.54393 L1224.09 18.9825 L1216.64 18.9825 L1216.64 9.54393 Z\" fill=\"#000000\" fill-rule=\"evenodd\" fill-opacity=\"1\" /><path clip-path=\"url(#clip230)\" d=\"M1260.3 49.7694 Q1251.27 49.7694 1247.79 51.8354 Q1244.3 53.9013 1244.3 58.8839 Q1244.3 62.8538 1246.9 65.2034 Q1249.53 67.5124 1254.03 67.5124 Q1260.22 67.5124 1263.95 63.1374 Q1267.72 58.7219 1267.72 51.4303 L1267.72 49.7694 L1260.3 49.7694 M1275.17 46.6907 L1275.17 72.576 L1267.72 72.576 L1267.72 65.6895 Q1265.17 69.8214 1261.36 71.8063 Q1257.55 73.7508 1252.04 73.7508 Q1245.07 73.7508 1240.94 69.8619 Q1236.85 65.9325 1236.85 59.3701 Q1236.85 51.7138 1241.95 47.825 Q1247.1 43.9361 1257.27 43.9361 L1267.72 43.9361 L1267.72 43.2069 Q1267.72 38.0623 1264.32 35.2672 Q1260.95 32.4315 1254.84 32.4315 Q1250.95 32.4315 1247.26 33.3632 Q1243.57 34.295 1240.17 36.1584 L1240.17 29.2718 Q1244.26 27.692 1248.11 26.9223 Q1251.96 26.1121 1255.61 26.1121 Q1265.45 26.1121 1270.31 31.2163 Q1275.17 36.3204 1275.17 46.6907 Z\" fill=\"#000000\" fill-rule=\"evenodd\" fill-opacity=\"1\" /><path clip-path=\"url(#clip230)\" d=\"M1290.52 9.54393 L1297.98 9.54393 L1297.98 72.576 L1290.52 72.576 L1290.52 9.54393 Z\" fill=\"#000000\" fill-rule=\"evenodd\" fill-opacity=\"1\" /><path clip-path=\"url(#clip230)\" d=\"M1348.45 18.8205 L1348.45 65.8515 L1358.34 65.8515 Q1370.85 65.8515 1376.65 60.1802 Q1382.48 54.509 1382.48 42.2752 Q1382.48 30.1225 1376.65 24.4918 Q1370.85 18.8205 1358.34 18.8205 L1348.45 18.8205 M1340.27 12.096 L1357.08 12.096 Q1374.66 12.096 1382.89 19.4281 Q1391.11 26.7198 1391.11 42.2752 Q1391.11 57.9117 1382.84 65.2439 Q1374.58 72.576 1357.08 72.576 L1340.27 72.576 L1340.27 12.096 Z\" fill=\"#000000\" fill-rule=\"evenodd\" fill-opacity=\"1\" /><path clip-path=\"url(#clip230)\" d=\"M1424.45 49.7694 Q1415.41 49.7694 1411.93 51.8354 Q1408.45 53.9013 1408.45 58.8839 Q1408.45 62.8538 1411.04 65.2034 Q1413.67 67.5124 1418.17 67.5124 Q1424.37 67.5124 1428.09 63.1374 Q1431.86 58.7219 1431.86 51.4303 L1431.86 49.7694 L1424.45 49.7694 M1439.31 46.6907 L1439.31 72.576 L1431.86 72.576 L1431.86 65.6895 Q1429.31 69.8214 1425.5 71.8063 Q1421.69 73.7508 1416.18 73.7508 Q1409.22 73.7508 1405.08 69.8619 Q1400.99 65.9325 1400.99 59.3701 Q1400.99 51.7138 1406.1 47.825 Q1411.24 43.9361 1421.41 43.9361 L1431.86 43.9361 L1431.86 43.2069 Q1431.86 38.0623 1428.46 35.2672 Q1425.1 32.4315 1418.98 32.4315 Q1415.09 32.4315 1411.4 33.3632 Q1407.72 34.295 1404.31 36.1584 L1404.31 29.2718 Q1408.41 27.692 1412.25 26.9223 Q1416.1 26.1121 1419.75 26.1121 Q1429.59 26.1121 1434.45 31.2163 Q1439.31 36.3204 1439.31 46.6907 Z\" fill=\"#000000\" fill-rule=\"evenodd\" fill-opacity=\"1\" /><path clip-path=\"url(#clip230)\" d=\"M1462.04 14.324 L1462.04 27.2059 L1477.39 27.2059 L1477.39 32.9987 L1462.04 32.9987 L1462.04 57.6282 Q1462.04 63.1779 1463.54 64.7578 Q1465.08 66.3376 1469.74 66.3376 L1477.39 66.3376 L1477.39 72.576 L1469.74 72.576 Q1461.11 72.576 1457.83 69.3758 Q1454.55 66.1351 1454.55 57.6282 L1454.55 32.9987 L1449.08 32.9987 L1449.08 27.2059 L1454.55 27.2059 L1454.55 14.324 L1462.04 14.324 Z\" fill=\"#000000\" fill-rule=\"evenodd\" fill-opacity=\"1\" /><path clip-path=\"url(#clip230)\" d=\"M1507.82 49.7694 Q1498.78 49.7694 1495.3 51.8354 Q1491.81 53.9013 1491.81 58.8839 Q1491.81 62.8538 1494.41 65.2034 Q1497.04 67.5124 1501.54 67.5124 Q1507.73 67.5124 1511.46 63.1374 Q1515.23 58.7219 1515.23 51.4303 L1515.23 49.7694 L1507.82 49.7694 M1522.68 46.6907 L1522.68 72.576 L1515.23 72.576 L1515.23 65.6895 Q1512.68 69.8214 1508.87 71.8063 Q1505.06 73.7508 1499.55 73.7508 Q1492.58 73.7508 1488.45 69.8619 Q1484.36 65.9325 1484.36 59.3701 Q1484.36 51.7138 1489.46 47.825 Q1494.61 43.9361 1504.78 43.9361 L1515.23 43.9361 L1515.23 43.2069 Q1515.23 38.0623 1511.83 35.2672 Q1508.46 32.4315 1502.35 32.4315 Q1498.46 32.4315 1494.77 33.3632 Q1491.08 34.295 1487.68 36.1584 L1487.68 29.2718 Q1491.77 27.692 1495.62 26.9223 Q1499.47 26.1121 1503.12 26.1121 Q1512.96 26.1121 1517.82 31.2163 Q1522.68 36.3204 1522.68 46.6907 Z\" fill=\"#000000\" fill-rule=\"evenodd\" fill-opacity=\"1\" /><polyline clip-path=\"url(#clip232)\" style=\"stroke:#009af9; stroke-linecap:round; stroke-linejoin:round; stroke-width:4; stroke-opacity:1; fill:none\" points=\"313.651,661.466 313.773,661.466 314.14,661.466 314.75,661.466 315.604,661.466 316.703,661.466 318.044,661.466 319.629,661.466 321.456,661.466 323.526,661.466 325.838,661.466 328.391,661.466 331.184,661.466 334.218,661.466 337.49,661.466 341.001,661.466 344.749,661.466 348.734,661.466 352.955,661.466 357.41,661.466 362.098,661.466 367.019,661.466 372.171,661.466 377.552,661.466 383.162,661.466 389,661.466 395.062,661.466 401.349,661.466 407.859,661.466 414.589,661.466 421.539,661.466 428.707,661.466 436.09,661.466 443.687,661.466 451.497,661.466 459.516,661.466 467.744,661.466 476.178,661.466 484.817,661.466 493.657,661.466 502.697,661.466 511.935,661.466 521.368,661.466 530.994,661.466 540.81,661.466 550.815,661.466 561.005,661.466 571.379,661.466 581.933,661.466 592.666,661.466 603.573,661.466 614.654,661.466 625.904,661.466 637.322,661.466 648.904,661.466 660.647,661.466 672.549,661.466 684.607,661.466 696.818,661.466 709.178,661.466 721.685,661.466 734.335,661.466 747.126,661.466 760.054,661.466 773.116,661.465 786.309,661.465 799.63,661.464 813.075,661.463 826.641,661.461 840.324,661.459 854.122,661.455 868.031,661.45 882.047,661.443 896.168,661.433 910.388,661.42 924.706,661.401 939.117,661.376 953.618,661.342 968.206,661.298 982.876,661.239 997.625,661.165 1012.45,661.072 1027.35,660.959 1042.31,660.824 1057.34,660.667 1072.43,660.492 1087.58,660.305 1102.78,660.114 1118.03,659.93 1133.32,659.767 1148.66,659.638 1164.04,659.55 1179.45,659.505 1194.89,659.493 1210.35,659.491 1225.84,659.464 1241.35,659.369 1256.88,659.163 1272.42,658.816 1287.96,658.319 1303.51,657.692 1319.06,656.98 1334.6,656.247 1350.14,655.559 1365.66,654.971 1381.17,654.513 1396.66,654.189 1412.13,653.982 1427.57,653.863 1442.98,653.802 1458.36,653.774 1473.69,653.763 1488.99,653.759 1504.24,653.758 1519.44,653.757 1534.59,653.757 1549.68,653.757 1564.7,653.757 1579.67,653.757 1594.57,653.757 1609.39,653.757 1624.14,653.757 1638.81,653.757 1653.4,653.757 1667.9,653.757 1682.31,653.757 1696.63,653.757 1710.85,653.757 1724.97,653.757 1738.98,653.757 1752.89,653.757 1766.69,653.757 1780.37,653.757 1793.94,653.757 1807.39,653.757 1820.71,653.757 1833.9,653.757 1846.96,653.757 1859.89,653.757 1872.68,653.757 1885.33,653.757 1897.84,653.757 1910.2,653.757 1922.41,653.757 1934.47,653.757 1946.37,653.757 1958.11,653.757 1969.69,653.757 1981.11,653.757 1992.36,653.757 2003.44,653.757 2014.35,653.757 2025.08,653.757 2035.64,653.757 2046.01,653.757 2056.2,653.757 2066.21,653.757 2076.02,653.757 2085.65,653.757 2095.08,653.757 2104.32,653.757 2113.36,653.757 2122.2,653.757 2130.84,653.757 2139.27,653.757 2147.5,653.757 2155.52,653.757 2163.33,653.757 2170.93,653.757 2178.31,653.757 2185.48,653.757 2192.43,653.757 2199.16,653.757 2205.67,653.757 2211.95,653.757 2218.02,653.757 2223.85,653.757 2229.46,653.757 2234.84,653.757 2240,653.757 2244.92,653.757 2249.61,653.757 2254.06,653.757 2258.28,653.757 2262.27,653.757 2266.01,653.757 2269.53,653.757 2272.8,653.757 2275.83,653.757 2278.62,653.757 2281.18,653.757 2283.49,653.757 2285.56,653.757 2287.39,653.757 2288.97,653.757 2290.31,653.757 2291.41,653.757 2292.27,653.757 2292.88,653.757 2293.24,653.757 2293.36,653.757 \"/>\n",
       "<polyline clip-path=\"url(#clip232)\" style=\"stroke:#e26f46; stroke-linecap:round; stroke-linejoin:round; stroke-width:4; stroke-opacity:1; fill:none\" points=\"313.651,661.466 313.773,661.466 314.14,661.466 314.75,661.466 315.604,661.466 316.703,661.466 318.044,661.466 319.629,661.466 321.456,661.466 323.526,661.466 325.838,661.466 328.391,661.466 331.184,661.466 334.218,661.466 337.49,661.466 341.001,661.466 344.749,661.466 348.734,661.466 352.955,661.466 357.41,661.466 362.098,661.466 367.019,661.466 372.171,661.466 377.552,661.466 383.162,661.466 389,661.466 395.062,661.466 401.349,661.466 407.859,661.466 414.589,661.466 421.539,661.466 428.707,661.466 436.09,661.466 443.687,661.466 451.497,661.466 459.516,661.466 467.744,661.466 476.178,661.466 484.817,661.466 493.657,661.466 502.697,661.466 511.935,661.466 521.368,661.466 530.994,661.466 540.81,661.466 550.815,661.466 561.005,661.466 571.379,661.466 581.933,661.466 592.666,661.466 603.573,661.466 614.654,661.466 625.904,661.466 637.322,661.466 648.904,661.466 660.647,661.466 672.549,661.466 684.607,661.466 696.818,661.466 709.178,661.466 721.685,661.465 734.335,661.465 747.126,661.464 760.054,661.463 773.116,661.462 786.309,661.46 799.63,661.458 813.075,661.454 826.641,661.45 840.324,661.443 854.122,661.433 868.031,661.42 882.047,661.403 896.168,661.379 910.388,661.347 924.706,661.305 939.117,661.249 953.618,661.177 968.206,661.085 982.876,660.97 997.625,660.827 1012.45,660.654 1027.35,660.449 1042.31,660.213 1057.34,659.949 1072.43,659.663 1087.58,659.366 1102.78,659.073 1118.03,658.8 1133.32,658.566 1148.66,658.385 1164.04,658.267 1179.45,658.208 1194.89,658.193 1210.35,658.19 1225.84,658.158 1241.35,658.048 1256.88,657.819 1272.42,657.443 1287.96,656.923 1303.51,656.286 1319.06,655.584 1334.6,654.884 1350.14,654.248 1365.66,653.72 1381.17,653.322 1396.66,653.049 1412.13,652.88 1427.57,652.786 1442.98,652.739 1458.36,652.718 1473.69,652.71 1488.99,652.707 1504.24,652.707 1519.44,652.706 1534.59,652.706 1549.68,652.706 1564.7,652.706 1579.67,652.706 1594.57,652.706 1609.39,652.706 1624.14,652.706 1638.81,652.706 1653.4,652.706 1667.9,652.706 1682.31,652.706 1696.63,652.706 1710.85,652.706 1724.97,652.706 1738.98,652.706 1752.89,652.706 1766.69,652.706 1780.37,652.706 1793.94,652.706 1807.39,652.706 1820.71,652.706 1833.9,652.706 1846.96,652.706 1859.89,652.706 1872.68,652.706 1885.33,652.706 1897.84,652.706 1910.2,652.706 1922.41,652.706 1934.47,652.706 1946.37,652.706 1958.11,652.706 1969.69,652.706 1981.11,652.706 1992.36,652.706 2003.44,652.706 2014.35,652.706 2025.08,652.706 2035.64,652.706 2046.01,652.706 2056.2,652.706 2066.21,652.706 2076.02,652.706 2085.65,652.706 2095.08,652.706 2104.32,652.706 2113.36,652.706 2122.2,652.706 2130.84,652.706 2139.27,652.706 2147.5,652.706 2155.52,652.706 2163.33,652.706 2170.93,652.706 2178.31,652.706 2185.48,652.706 2192.43,652.706 2199.16,652.706 2205.67,652.706 2211.95,652.706 2218.02,652.706 2223.85,652.706 2229.46,652.706 2234.84,652.706 2240,652.706 2244.92,652.706 2249.61,652.706 2254.06,652.706 2258.28,652.706 2262.27,652.706 2266.01,652.706 2269.53,652.706 2272.8,652.706 2275.83,652.706 2278.62,652.706 2281.18,652.706 2283.49,652.706 2285.56,652.706 2287.39,652.706 2288.97,652.706 2290.31,652.706 2291.41,652.706 2292.27,652.706 2292.88,652.706 2293.24,652.706 2293.36,652.706 \"/>\n",
       "<polyline clip-path=\"url(#clip232)\" style=\"stroke:#3da44d; stroke-linecap:round; stroke-linejoin:round; stroke-width:4; stroke-opacity:1; fill:none\" points=\"313.651,661.466 313.773,661.466 314.14,661.466 314.75,661.466 315.604,661.466 316.703,661.466 318.044,661.466 319.629,661.466 321.456,661.466 323.526,661.466 325.838,661.466 328.391,661.466 331.184,661.466 334.218,661.466 337.49,661.466 341.001,661.466 344.749,661.466 348.734,661.466 352.955,661.466 357.41,661.466 362.098,661.466 367.019,661.466 372.171,661.466 377.552,661.466 383.162,661.466 389,661.466 395.062,661.466 401.349,661.466 407.859,661.466 414.589,661.466 421.539,661.466 428.707,661.466 436.09,661.466 443.687,661.466 451.497,661.466 459.516,661.466 467.744,661.465 476.178,661.465 484.817,661.465 493.657,661.464 502.697,661.464 511.935,661.463 521.368,661.462 530.994,661.461 540.81,661.46 550.815,661.458 561.005,661.456 571.379,661.453 581.933,661.449 592.666,661.445 603.573,661.44 614.654,661.433 625.904,661.425 637.322,661.415 648.904,661.402 660.647,661.386 672.549,661.367 684.607,661.343 696.818,661.313 709.178,661.275 721.685,661.229 734.335,661.173 747.126,661.103 760.054,661.016 773.116,660.91 786.309,660.78 799.63,660.621 813.075,660.426 826.641,660.188 840.324,659.898 854.122,659.546 868.031,659.121 882.047,658.608 896.168,657.991 910.388,657.254 924.706,656.377 939.117,655.338 953.618,654.114 968.206,652.683 982.876,651.021 997.625,649.104 1012.45,646.916 1027.35,644.44 1042.31,641.671 1057.34,638.613 1072.43,635.283 1087.58,631.718 1102.78,627.971 1118.03,624.123 1133.32,620.276 1148.66,616.56 1164.04,613.123 1179.45,610.134 1194.89,607.767 1210.35,606.192 1225.84,605.561 1241.35,605.989 1256.88,607.539 1272.42,610.206 1287.96,613.91 1303.51,618.492 1319.06,623.725 1334.6,629.33 1350.14,635.005 1365.66,640.455 1381.17,645.428 1396.66,649.736 1412.13,653.276 1427.57,656.028 1442.98,658.047 1458.36,659.441 1473.69,660.341 1488.99,660.883 1504.24,661.186 1519.44,661.343 1534.59,661.416 1549.68,661.448 1564.7,661.46 1579.67,661.465 1594.57,661.466 1609.39,661.466 1624.14,661.466 1638.81,661.466 1653.4,661.466 1667.9,661.466 1682.31,661.466 1696.63,661.466 1710.85,661.466 1724.97,661.466 1738.98,661.466 1752.89,661.466 1766.69,661.466 1780.37,661.466 1793.94,661.466 1807.39,661.466 1820.71,661.466 1833.9,661.466 1846.96,661.466 1859.89,661.466 1872.68,661.466 1885.33,661.466 1897.84,661.466 1910.2,661.466 1922.41,661.466 1934.47,661.466 1946.37,661.466 1958.11,661.466 1969.69,661.466 1981.11,661.466 1992.36,661.466 2003.44,661.466 2014.35,661.466 2025.08,661.466 2035.64,661.466 2046.01,661.466 2056.2,661.466 2066.21,661.466 2076.02,661.466 2085.65,661.466 2095.08,661.466 2104.32,661.466 2113.36,661.466 2122.2,661.466 2130.84,661.466 2139.27,661.466 2147.5,661.466 2155.52,661.466 2163.33,661.466 2170.93,661.466 2178.31,661.466 2185.48,661.466 2192.43,661.466 2199.16,661.466 2205.67,661.466 2211.95,661.466 2218.02,661.466 2223.85,661.466 2229.46,661.466 2234.84,661.466 2240,661.466 2244.92,661.466 2249.61,661.466 2254.06,661.466 2258.28,661.466 2262.27,661.466 2266.01,661.466 2269.53,661.466 2272.8,661.466 2275.83,661.466 2278.62,661.466 2281.18,661.466 2283.49,661.466 2285.56,661.466 2287.39,661.466 2288.97,661.466 2290.31,661.466 2291.41,661.466 2292.27,661.466 2292.88,661.466 2293.24,661.466 2293.36,661.466 \"/>\n",
       "<polyline clip-path=\"url(#clip232)\" style=\"stroke:#c271d2; stroke-linecap:round; stroke-linejoin:round; stroke-width:4; stroke-opacity:1; fill:none\" points=\"313.651,661.466 313.773,661.466 314.14,661.466 314.75,661.466 315.604,661.466 316.703,661.466 318.044,661.466 319.629,661.466 321.456,661.466 323.526,661.466 325.838,661.466 328.391,661.466 331.184,661.466 334.218,661.466 337.49,661.466 341.001,661.466 344.749,661.466 348.734,661.466 352.955,661.465 357.41,661.465 362.098,661.465 367.019,661.464 372.171,661.464 377.552,661.463 383.162,661.462 389,661.461 395.062,661.459 401.349,661.458 407.859,661.455 414.589,661.453 421.539,661.449 428.707,661.445 436.09,661.44 443.687,661.434 451.497,661.427 459.516,661.417 467.744,661.406 476.178,661.392 484.817,661.375 493.657,661.354 502.697,661.328 511.935,661.297 521.368,661.258 530.994,661.211 540.81,661.153 550.815,661.082 561.005,660.996 571.379,660.889 581.933,660.759 592.666,660.599 603.573,660.403 614.654,660.163 625.904,659.869 637.322,659.51 648.904,659.07 660.647,658.532 672.549,657.875 684.607,657.072 696.818,656.092 709.178,654.897 721.685,653.443 734.335,651.674 747.126,649.527 760.054,646.924 773.116,643.775 786.309,639.975 799.63,635.402 813.075,629.913 826.641,623.348 840.324,615.524 854.122,606.241 868.031,595.279 882.047,582.404 896.168,567.375 910.388,549.954 924.706,529.919 939.117,507.087 953.618,481.336 968.206,452.644 982.876,421.124 997.625,387.075 1012.45,351.034 1027.35,313.831 1042.31,276.646 1057.34,241.051 1072.43,209.034 1087.58,183.004 1102.78,165.734 1118.03,160.256 1133.32,169.69 1148.66,196.981 1164.04,244.568 1179.45,313.991 1194.89,405.469 1210.35,517.498 1225.84,646.556 1241.35,786.981 1256.88,931.12 1272.42,1069.8 1287.96,1193.17 1303.51,1291.76 1319.06,1357.8 1334.6,1386.4 1350.14,1376.48 1365.66,1331.14 1381.17,1257.28 1396.66,1164.6 1412.13,1064 1427.57,965.803 1442.98,878.209 1458.36,806.315 1473.69,751.906 1488.99,713.961 1504.24,689.635 1519.44,675.353 1534.59,667.713 1549.68,664.011 1564.7,662.397 1579.67,661.769 1594.57,661.553 1609.39,661.488 1624.14,661.471 1638.81,661.467 1653.4,661.467 1667.9,661.466 1682.31,661.466 1696.63,661.466 1710.85,661.466 1724.97,661.466 1738.98,661.466 1752.89,661.466 1766.69,661.466 1780.37,661.466 1793.94,661.466 1807.39,661.466 1820.71,661.466 1833.9,661.466 1846.96,661.466 1859.89,661.466 1872.68,661.466 1885.33,661.466 1897.84,661.466 1910.2,661.466 1922.41,661.466 1934.47,661.466 1946.37,661.466 1958.11,661.466 1969.69,661.466 1981.11,661.466 1992.36,661.466 2003.44,661.466 2014.35,661.466 2025.08,661.466 2035.64,661.466 2046.01,661.466 2056.2,661.466 2066.21,661.466 2076.02,661.466 2085.65,661.466 2095.08,661.466 2104.32,661.466 2113.36,661.466 2122.2,661.466 2130.84,661.466 2139.27,661.466 2147.5,661.466 2155.52,661.466 2163.33,661.466 2170.93,661.466 2178.31,661.466 2185.48,661.466 2192.43,661.466 2199.16,661.466 2205.67,661.466 2211.95,661.466 2218.02,661.466 2223.85,661.466 2229.46,661.466 2234.84,661.466 2240,661.466 2244.92,661.466 2249.61,661.466 2254.06,661.466 2258.28,661.466 2262.27,661.466 2266.01,661.466 2269.53,661.466 2272.8,661.466 2275.83,661.466 2278.62,661.466 2281.18,661.466 2283.49,661.466 2285.56,661.466 2287.39,661.466 2288.97,661.466 2290.31,661.466 2291.41,661.466 2292.27,661.466 2292.88,661.466 2293.24,661.466 2293.36,661.466 \"/>\n",
       "<path clip-path=\"url(#clip230)\" d=\"M1967.73 425.996 L2282.81 425.996 L2282.81 166.796 L1967.73 166.796  Z\" fill=\"#ffffff\" fill-rule=\"evenodd\" fill-opacity=\"1\"/>\n",
       "<polyline clip-path=\"url(#clip230)\" style=\"stroke:#000000; stroke-linecap:round; stroke-linejoin:round; stroke-width:4; stroke-opacity:1; fill:none\" points=\"1967.73,425.996 2282.81,425.996 2282.81,166.796 1967.73,166.796 1967.73,425.996 \"/>\n",
       "<polyline clip-path=\"url(#clip230)\" style=\"stroke:#009af9; stroke-linecap:round; stroke-linejoin:round; stroke-width:4; stroke-opacity:1; fill:none\" points=\"1991.04,218.636 2130.94,218.636 \"/>\n",
       "<path clip-path=\"url(#clip230)\" d=\"M2174.61 214.967 Q2176.2 212.096 2178.43 210.731 Q2180.65 209.365 2183.66 209.365 Q2187.71 209.365 2189.91 212.212 Q2192.11 215.036 2192.11 220.268 L2192.11 235.916 L2187.82 235.916 L2187.82 220.407 Q2187.82 216.68 2186.5 214.874 Q2185.18 213.069 2182.48 213.069 Q2179.17 213.069 2177.24 215.268 Q2175.32 217.467 2175.32 221.263 L2175.32 235.916 L2171.04 235.916 L2171.04 220.407 Q2171.04 216.657 2169.72 214.874 Q2168.4 213.069 2165.65 213.069 Q2162.38 213.069 2160.46 215.291 Q2158.54 217.49 2158.54 221.263 L2158.54 235.916 L2154.26 235.916 L2154.26 209.99 L2158.54 209.99 L2158.54 214.018 Q2160 211.633 2162.04 210.499 Q2164.07 209.365 2166.87 209.365 Q2169.7 209.365 2171.67 210.8 Q2173.66 212.235 2174.61 214.967 Z\" fill=\"#000000\" fill-rule=\"evenodd\" fill-opacity=\"1\" /><polyline clip-path=\"url(#clip230)\" style=\"stroke:#e26f46; stroke-linecap:round; stroke-linejoin:round; stroke-width:4; stroke-opacity:1; fill:none\" points=\"1991.04,270.476 2130.94,270.476 \"/>\n",
       "<path clip-path=\"url(#clip230)\" d=\"M2173.03 274.816 Q2173.03 270.117 2171.09 267.455 Q2169.17 264.77 2165.79 264.77 Q2162.41 264.77 2160.46 267.455 Q2158.54 270.117 2158.54 274.816 Q2158.54 279.515 2160.46 282.2 Q2162.41 284.862 2165.79 284.862 Q2169.17 284.862 2171.09 282.2 Q2173.03 279.515 2173.03 274.816 M2158.54 265.765 Q2159.88 263.45 2161.92 262.339 Q2163.98 261.205 2166.83 261.205 Q2171.55 261.205 2174.49 264.955 Q2177.45 268.705 2177.45 274.816 Q2177.45 280.927 2174.49 284.677 Q2171.55 288.427 2166.83 288.427 Q2163.98 288.427 2161.92 287.316 Q2159.88 286.182 2158.54 283.867 L2158.54 287.756 L2154.26 287.756 L2154.26 251.737 L2158.54 251.737 L2158.54 265.765 Z\" fill=\"#000000\" fill-rule=\"evenodd\" fill-opacity=\"1\" /><path clip-path=\"url(#clip230)\" d=\"M2206.69 273.728 L2206.69 275.811 L2187.11 275.811 Q2187.38 280.209 2189.74 282.524 Q2192.13 284.816 2196.36 284.816 Q2198.82 284.816 2201.11 284.214 Q2203.42 283.612 2205.69 282.409 L2205.69 286.436 Q2203.4 287.408 2200.99 287.918 Q2198.59 288.427 2196.11 288.427 Q2189.91 288.427 2186.27 284.816 Q2182.66 281.205 2182.66 275.047 Q2182.66 268.682 2186.09 264.955 Q2189.54 261.205 2195.37 261.205 Q2200.6 261.205 2203.63 264.585 Q2206.69 267.941 2206.69 273.728 M2202.43 272.478 Q2202.38 268.983 2200.46 266.899 Q2198.56 264.816 2195.42 264.816 Q2191.85 264.816 2189.7 266.83 Q2187.57 268.844 2187.24 272.501 L2202.43 272.478 Z\" fill=\"#000000\" fill-rule=\"evenodd\" fill-opacity=\"1\" /><path clip-path=\"url(#clip230)\" d=\"M2217.89 254.469 L2217.89 261.83 L2226.67 261.83 L2226.67 265.14 L2217.89 265.14 L2217.89 279.214 Q2217.89 282.385 2218.75 283.288 Q2219.63 284.191 2222.29 284.191 L2226.67 284.191 L2226.67 287.756 L2222.29 287.756 Q2217.36 287.756 2215.49 285.927 Q2213.61 284.075 2213.61 279.214 L2213.61 265.14 L2210.49 265.14 L2210.49 261.83 L2213.61 261.83 L2213.61 254.469 L2217.89 254.469 Z\" fill=\"#000000\" fill-rule=\"evenodd\" fill-opacity=\"1\" /><path clip-path=\"url(#clip230)\" d=\"M2244.05 274.723 Q2238.89 274.723 2236.9 275.904 Q2234.91 277.084 2234.91 279.932 Q2234.91 282.2 2236.39 283.543 Q2237.89 284.862 2240.46 284.862 Q2244 284.862 2246.13 282.362 Q2248.29 279.839 2248.29 275.672 L2248.29 274.723 L2244.05 274.723 M2252.55 272.964 L2252.55 287.756 L2248.29 287.756 L2248.29 283.821 Q2246.83 286.182 2244.65 287.316 Q2242.48 288.427 2239.33 288.427 Q2235.35 288.427 2232.98 286.205 Q2230.65 283.959 2230.65 280.209 Q2230.65 275.834 2233.56 273.612 Q2236.5 271.39 2242.31 271.39 L2248.29 271.39 L2248.29 270.973 Q2248.29 268.034 2246.34 266.436 Q2244.42 264.816 2240.92 264.816 Q2238.7 264.816 2236.6 265.348 Q2234.49 265.881 2232.55 266.946 L2232.55 263.01 Q2234.88 262.108 2237.08 261.668 Q2239.28 261.205 2241.36 261.205 Q2246.99 261.205 2249.77 264.122 Q2252.55 267.038 2252.55 272.964 Z\" fill=\"#000000\" fill-rule=\"evenodd\" fill-opacity=\"1\" /><polyline clip-path=\"url(#clip230)\" style=\"stroke:#3da44d; stroke-linecap:round; stroke-linejoin:round; stroke-width:4; stroke-opacity:1; fill:none\" points=\"1991.04,322.316 2130.94,322.316 \"/>\n",
       "<path clip-path=\"url(#clip230)\" d=\"M2158.54 335.707 L2158.54 349.457 L2154.26 349.457 L2154.26 313.67 L2158.54 313.67 L2158.54 317.605 Q2159.88 315.29 2161.92 314.179 Q2163.98 313.045 2166.83 313.045 Q2171.55 313.045 2174.49 316.795 Q2177.45 320.545 2177.45 326.656 Q2177.45 332.767 2174.49 336.517 Q2171.55 340.267 2166.83 340.267 Q2163.98 340.267 2161.92 339.156 Q2159.88 338.022 2158.54 335.707 M2173.03 326.656 Q2173.03 321.957 2171.09 319.295 Q2169.17 316.61 2165.79 316.61 Q2162.41 316.61 2160.46 319.295 Q2158.54 321.957 2158.54 326.656 Q2158.54 331.355 2160.46 334.04 Q2162.41 336.702 2165.79 336.702 Q2169.17 336.702 2171.09 334.04 Q2173.03 331.355 2173.03 326.656 Z\" fill=\"#000000\" fill-rule=\"evenodd\" fill-opacity=\"1\" /><path clip-path=\"url(#clip230)\" d=\"M2201.04 314.434 L2201.04 318.462 Q2199.24 317.536 2197.29 317.073 Q2195.35 316.61 2193.26 316.61 Q2190.09 316.61 2188.49 317.582 Q2186.92 318.554 2186.92 320.499 Q2186.92 321.98 2188.05 322.837 Q2189.19 323.67 2192.61 324.434 L2194.07 324.758 Q2198.61 325.73 2200.51 327.512 Q2202.43 329.272 2202.43 332.443 Q2202.43 336.054 2199.56 338.161 Q2196.71 340.267 2191.71 340.267 Q2189.63 340.267 2187.36 339.85 Q2185.11 339.457 2182.61 338.647 L2182.61 334.249 Q2184.98 335.475 2187.27 336.1 Q2189.56 336.702 2191.8 336.702 Q2194.81 336.702 2196.43 335.684 Q2198.05 334.642 2198.05 332.767 Q2198.05 331.031 2196.87 330.105 Q2195.72 329.179 2191.76 328.323 L2190.28 327.975 Q2186.32 327.142 2184.56 325.429 Q2182.8 323.693 2182.8 320.684 Q2182.8 317.026 2185.39 315.036 Q2187.99 313.045 2192.75 313.045 Q2195.11 313.045 2197.2 313.392 Q2199.28 313.739 2201.04 314.434 Z\" fill=\"#000000\" fill-rule=\"evenodd\" fill-opacity=\"1\" /><path clip-path=\"url(#clip230)\" d=\"M2209.21 313.67 L2213.47 313.67 L2213.47 339.596 L2209.21 339.596 L2209.21 313.67 M2209.21 303.577 L2213.47 303.577 L2213.47 308.971 L2209.21 308.971 L2209.21 303.577 Z\" fill=\"#000000\" fill-rule=\"evenodd\" fill-opacity=\"1\" /><polyline clip-path=\"url(#clip230)\" style=\"stroke:#c271d2; stroke-linecap:round; stroke-linejoin:round; stroke-width:4; stroke-opacity:1; fill:none\" points=\"1991.04,374.156 2130.94,374.156 \"/>\n",
       "<path clip-path=\"url(#clip230)\" d=\"M2158.54 387.547 L2158.54 401.297 L2154.26 401.297 L2154.26 365.51 L2158.54 365.51 L2158.54 369.445 Q2159.88 367.13 2161.92 366.019 Q2163.98 364.885 2166.83 364.885 Q2171.55 364.885 2174.49 368.635 Q2177.45 372.385 2177.45 378.496 Q2177.45 384.607 2174.49 388.357 Q2171.55 392.107 2166.83 392.107 Q2163.98 392.107 2161.92 390.996 Q2159.88 389.862 2158.54 387.547 M2173.03 378.496 Q2173.03 373.797 2171.09 371.135 Q2169.17 368.45 2165.79 368.45 Q2162.41 368.45 2160.46 371.135 Q2158.54 373.797 2158.54 378.496 Q2158.54 383.195 2160.46 385.88 Q2162.41 388.542 2165.79 388.542 Q2169.17 388.542 2171.09 385.88 Q2173.03 383.195 2173.03 378.496 Z\" fill=\"#000000\" fill-rule=\"evenodd\" fill-opacity=\"1\" /><path clip-path=\"url(#clip230)\" d=\"M2201.04 366.274 L2201.04 370.302 Q2199.24 369.376 2197.29 368.913 Q2195.35 368.45 2193.26 368.45 Q2190.09 368.45 2188.49 369.422 Q2186.92 370.394 2186.92 372.339 Q2186.92 373.82 2188.05 374.677 Q2189.19 375.51 2192.61 376.274 L2194.07 376.598 Q2198.61 377.57 2200.51 379.352 Q2202.43 381.112 2202.43 384.283 Q2202.43 387.894 2199.56 390.001 Q2196.71 392.107 2191.71 392.107 Q2189.63 392.107 2187.36 391.69 Q2185.11 391.297 2182.61 390.487 L2182.61 386.089 Q2184.98 387.315 2187.27 387.94 Q2189.56 388.542 2191.8 388.542 Q2194.81 388.542 2196.43 387.524 Q2198.05 386.482 2198.05 384.607 Q2198.05 382.871 2196.87 381.945 Q2195.72 381.019 2191.76 380.163 L2190.28 379.815 Q2186.32 378.982 2184.56 377.269 Q2182.8 375.533 2182.8 372.524 Q2182.8 368.866 2185.39 366.876 Q2187.99 364.885 2192.75 364.885 Q2195.11 364.885 2197.2 365.232 Q2199.28 365.579 2201.04 366.274 Z\" fill=\"#000000\" fill-rule=\"evenodd\" fill-opacity=\"1\" /><path clip-path=\"url(#clip230)\" d=\"M2209.21 365.51 L2213.47 365.51 L2213.47 391.436 L2209.21 391.436 L2209.21 365.51 M2209.21 355.417 L2213.47 355.417 L2213.47 360.811 L2209.21 360.811 L2209.21 355.417 Z\" fill=\"#000000\" fill-rule=\"evenodd\" fill-opacity=\"1\" /><path clip-path=\"url(#clip230)\" d=\"M2223.47 385.556 L2228.36 385.556 L2228.36 389.538 L2224.56 396.945 L2221.57 396.945 L2223.47 389.538 L2223.47 385.556 Z\" fill=\"#000000\" fill-rule=\"evenodd\" fill-opacity=\"1\" /><path clip-path=\"url(#clip230)\" d=\"M2259 365.51 L2249.63 378.126 L2259.49 391.436 L2254.47 391.436 L2246.92 381.251 L2239.37 391.436 L2234.35 391.436 L2244.42 377.871 L2235.21 365.51 L2240.23 365.51 L2247.11 374.746 L2253.98 365.51 L2259 365.51 Z\" fill=\"#000000\" fill-rule=\"evenodd\" fill-opacity=\"1\" /></svg>\n"
      ]
     },
     "execution_count": 31,
     "metadata": {},
     "output_type": "execute_result"
    }
   ],
   "source": [
    "using Plots #showing initial data and the initial status of the horizon finder\n",
    "plot(initX[4:L-3], state_array[4:L-3,1:4], xaxis=\"x\",title=\"Initial Data\", labels=[\"m\" \"beta\" \"psi\" \"psi,x\"])"
   ]
  },
  {
   "cell_type": "markdown",
   "id": "9b444ece",
   "metadata": {
    "papermill": {
     "duration": 0.007863,
     "end_time": "2023-06-25T23:43:20.431994",
     "exception": false,
     "start_time": "2023-06-25T23:43:20.424131",
     "status": "completed"
    },
    "tags": []
   },
   "source": [
    "# Defining the initial state array for the evolution m β Ψ and Ψ,x"
   ]
  },
  {
   "cell_type": "code",
   "execution_count": 32,
   "id": "9902ffab",
   "metadata": {
    "execution": {
     "iopub.execute_input": "2023-06-26T00:43:20.962000Z",
     "iopub.status.busy": "2023-06-26T00:43:20.448000Z",
     "iopub.status.idle": "2023-06-26T00:43:23.484000Z",
     "shell.execute_reply": "2023-06-26T00:43:23.484000Z"
    },
    "papermill": {
     "duration": 3.047994,
     "end_time": "2023-06-25T23:43:23.487839",
     "exception": false,
     "start_time": "2023-06-25T23:43:20.439845",
     "status": "completed"
    },
    "tags": []
   },
   "outputs": [],
   "source": [
    "using CSV, Tables, Printf\n",
    "#CSV.write(dir*\"/time_step0.csv\", Tables.table(transpose(Matrix(state_array))), writeheader=false)\n",
    "#CSV.write(dir*\"/res$res/time_step0.csv\", Tables.table(state_array), writeheader=false)\n",
    "\n",
    "global files=[\"m\", \"beta\", \"psi\", \"derpsi\"]\n",
    "\n",
    "print_muninn(files, 0, state_array[:,1:5],res,\"w\")"
   ]
  },
  {
   "cell_type": "code",
   "execution_count": 33,
   "id": "fff1426a",
   "metadata": {
    "execution": {
     "iopub.execute_input": "2023-06-26T00:43:24.210000Z",
     "iopub.status.busy": "2023-06-26T00:43:23.520000Z",
     "iopub.status.idle": "2023-06-26T00:43:25.884000Z",
     "shell.execute_reply": "2023-06-26T00:43:25.884000Z"
    },
    "papermill": {
     "duration": 2.383692,
     "end_time": "2023-06-25T23:43:25.889556",
     "exception": false,
     "start_time": "2023-06-25T23:43:23.505864",
     "status": "completed"
    },
    "tags": []
   },
   "outputs": [
    {
     "data": {
      "text/plain": [
       "\"/home/rita13santos/Desktop/MSc Thesis/Git/ScalarField/DATA/parameters.csv\""
      ]
     },
     "execution_count": 33,
     "metadata": {},
     "output_type": "execute_result"
    }
   ],
   "source": [
    "time=0.0\n",
    "criticality=0.0\n",
    "explode=0.0\n",
    "evol_stats = [criticality A sigma r0 time explode run]\n",
    "monitor_ratio = zeros(L)\n",
    "CSV.write(dir*\"/parameters.csv\", Tables.table(evol_stats), writeheader=true, header=[\"criticality\", \"A\", \"sigma\", \"r0\", \"time\", \"explode\", \"run\"])"
   ]
  },
  {
   "cell_type": "code",
   "execution_count": 34,
   "id": "9e9abd7d",
   "metadata": {
    "execution": {
     "iopub.execute_input": "2023-06-26T00:43:25.921000Z",
     "iopub.status.busy": "2023-06-26T00:43:25.921000Z",
     "iopub.status.idle": "2023-06-26T00:43:26.887000Z",
     "shell.execute_reply": "2023-06-26T00:43:26.887000Z"
    },
    "papermill": {
     "duration": 0.984943,
     "end_time": "2023-06-25T23:43:26.892187",
     "exception": false,
     "start_time": "2023-06-25T23:43:25.907244",
     "status": "completed"
    },
    "tags": []
   },
   "outputs": [
    {
     "name": "stdout",
     "output_type": "stream",
     "text": [
      "0.12338273929230742\n"
     ]
    }
   ],
   "source": [
    "ginit=speed(initX,state_array[:,1],state_array[:,2])\n",
    "println(update_dt(initX,state_array[:,1],state_array[:,2],dx,ginit)/dt)"
   ]
  },
  {
   "cell_type": "code",
   "execution_count": 35,
   "id": "6a7e1787",
   "metadata": {
    "execution": {
     "iopub.execute_input": "2023-06-26T00:43:26.923000Z",
     "iopub.status.busy": "2023-06-26T00:43:26.923000Z",
     "iopub.status.idle": "2023-06-26T00:43:26.992000Z",
     "shell.execute_reply": "2023-06-26T00:43:26.992000Z"
    },
    "papermill": {
     "duration": 0.08784,
     "end_time": "2023-06-25T23:43:26.997291",
     "exception": false,
     "start_time": "2023-06-25T23:43:26.909451",
     "status": "completed"
    },
    "tags": []
   },
   "outputs": [
    {
     "data": {
      "text/plain": [
       "4"
      ]
     },
     "execution_count": 35,
     "metadata": {},
     "output_type": "execute_result"
    }
   ],
   "source": [
    "using Base.Threads\n",
    "Threads.nthreads()"
   ]
  },
  {
   "cell_type": "code",
   "execution_count": 36,
   "id": "2e2ddf23",
   "metadata": {},
   "outputs": [
    {
     "data": {
      "text/plain": [
       "false"
      ]
     },
     "execution_count": 36,
     "metadata": {},
     "output_type": "execute_result"
    }
   ],
   "source": [
    "dt=5e-6/2/2\n",
    "criticality=false"
   ]
  },
  {
   "cell_type": "markdown",
   "id": "42e2c73d",
   "metadata": {
    "papermill": {
     "duration": 0.018669,
     "end_time": "2023-06-25T23:43:27.033041",
     "exception": false,
     "start_time": "2023-06-25T23:43:27.014372",
     "status": "completed"
    },
    "tags": []
   },
   "source": [
    " ## Time evolution"
   ]
  },
  {
   "cell_type": "markdown",
   "id": "7da47594",
   "metadata": {
    "papermill": {
     "duration": 0.01267,
     "end_time": "2023-06-25T23:43:27.253249",
     "exception": false,
     "start_time": "2023-06-25T23:43:27.240579",
     "status": "completed"
    },
    "tags": []
   },
   "source": [
    "fixed grid"
   ]
  },
  {
   "cell_type": "code",
   "execution_count": 37,
   "id": "fcb7ae3f",
   "metadata": {
    "execution": {
     "iopub.execute_input": "2023-06-26T00:43:27.280000Z",
     "iopub.status.busy": "2023-06-26T00:43:27.279000Z",
     "iopub.status.idle": "2023-06-26T01:23:38.457000Z",
     "shell.execute_reply": "2023-06-26T01:23:38.457000Z"
    },
    "papermill": {
     "duration": 2411.197201,
     "end_time": "2023-06-26T00:23:38.463773",
     "exception": false,
     "start_time": "2023-06-25T23:43:27.266572",
     "status": "completed"
    },
    "tags": []
   },
   "outputs": [
    {
     "name": "stdout",
     "output_type": "stream",
     "text": [
      "\n",
      "\n",
      "iteration 500 dt is 1.25e-6, t=0.0006249999999999956 speed is 0.49993831814327333, dx/dt=3999.9999999999995\n",
      "\n",
      "\n",
      "iteration 1000 dt is 1.25e-6, t=0.00124999999999997 speed is 0.49993831814327333, dx/dt=3999.9999999999995\n",
      "\n",
      "\n",
      "iteration 1500 dt is 1.25e-6, t=0.0018749999999999446 speed is 0.49993831814327333, dx/dt=3999.9999999999995\n"
     ]
    },
    {
     "ename": "LoadError",
     "evalue": "InterruptException:",
     "output_type": "error",
     "traceback": [
      "InterruptException:",
      "",
      "Stacktrace:",
      "  [1] Array",
      "    @ ./boot.jl:459 [inlined]",
      "  [2] Array",
      "    @ ./boot.jl:468 [inlined]",
      "  [3] Array",
      "    @ ./boot.jl:476 [inlined]",
      "  [4] similar",
      "    @ ./abstractarray.jl:841 [inlined]",
      "  [5] similar",
      "    @ ./abstractarray.jl:840 [inlined]",
      "  [6] similar",
      "    @ ./broadcast.jl:212 [inlined]",
      "  [7] similar",
      "    @ ./broadcast.jl:211 [inlined]",
      "  [8] copy",
      "    @ ./broadcast.jl:885 [inlined]",
      "  [9] materialize",
      "    @ ./broadcast.jl:860 [inlined]",
      " [10] broadcast_preserving_zero_d",
      "    @ ./broadcast.jl:849 [inlined]",
      " [11] /(A::Vector{Float64}, B::Int64)",
      "    @ Base ./arraymath.jl:24",
      " [12] n_rk4wrapper(f::typeof(RHS), y0::Matrix{Float64}, x::Vector{Float64}, u::Float64, spl_funcs::Spline1D, data::Matrix{Float64})",
      "    @ Main ~/Desktop/MSc Thesis/Git/ScalarField/ScalarField.jl:197",
      " [13] SF_RHS(data::Matrix{Float64}, t::Float64, X::Vector{Float64})",
      "    @ Main ~/Desktop/MSc Thesis/Git/ScalarField/ScalarField.jl:585",
      " [14] rungekutta4molstep(f::typeof(SF_RHS), y00::Matrix{Float64}, T::Vector{Float64}, w::Int64, X::Vector{Float64})",
      "    @ Main ~/Desktop/MSc Thesis/Git/ScalarField/ScalarField.jl:160",
      " [15] timeevolution(state_array::Matrix{Float64}, finaltime::Float64, run::Int64)",
      "    @ Main ~/Desktop/MSc Thesis/Git/ScalarField/ScalarField.jl:669",
      " [16] top-level scope",
      "    @ In[37]:2"
     ]
    }
   ],
   "source": [
    "finaltime=2.0#1.3#2.0#1.3#1.6#2#1.3#0.08*2#0.005*10*5#1#0.9#0.8#0.04*5*4#length(T)-1\n",
    "evol_stats, T_interp = timeevolution(state_array,finaltime,run);#timeevolution(state_array,finaltime,dir*\"/res$res\",run,auxstate_array);\n",
    "#CSV.write(dir*\"/timearray$res.csv\", Tables.table(T_interp), writeheader=false);"
   ]
  },
  {
   "cell_type": "code",
   "execution_count": null,
   "id": "34192588",
   "metadata": {
    "papermill": {
     "duration": 0.007834,
     "end_time": "2023-06-26T00:23:38.486931",
     "exception": false,
     "start_time": "2023-06-26T00:23:38.479097",
     "status": "completed"
    },
    "tags": []
   },
   "outputs": [],
   "source": []
  },
  {
   "cell_type": "code",
   "execution_count": null,
   "id": "e5bac15d",
   "metadata": {
    "papermill": {
     "duration": 0.007993,
     "end_time": "2023-06-26T00:23:38.502852",
     "exception": false,
     "start_time": "2023-06-26T00:23:38.494859",
     "status": "completed"
    },
    "tags": []
   },
   "outputs": [],
   "source": []
  },
  {
   "cell_type": "markdown",
   "id": "715897d3",
   "metadata": {
    "papermill": {
     "duration": 0.012003,
     "end_time": "2023-06-26T00:23:38.523601",
     "exception": false,
     "start_time": "2023-06-26T00:23:38.511598",
     "status": "completed"
    },
    "tags": []
   },
   "source": [
    " ## Movie of the evolution"
   ]
  },
  {
   "cell_type": "code",
   "execution_count": 534,
   "id": "973cea47",
   "metadata": {
    "execution": {
     "iopub.execute_input": "2023-06-26T01:23:38.542000Z",
     "iopub.status.busy": "2023-06-26T01:23:38.542000Z",
     "iopub.status.idle": "2023-06-26T01:23:47.832000Z",
     "shell.execute_reply": "2023-06-26T01:23:47.832000Z"
    },
    "papermill": {
     "duration": 9.304365,
     "end_time": "2023-06-26T00:23:47.837017",
     "exception": true,
     "start_time": "2023-06-26T00:23:38.532652",
     "status": "failed"
    },
    "tags": []
   },
   "outputs": [
    {
     "ename": "LoadError",
     "evalue": "ArgumentError: \"/home/rita13santos/Desktop/MSc Thesis/Git/ScalarField/DATA/res1/time_step0.csv\" is not a valid file or doesn't exist",
     "output_type": "error",
     "traceback": [
      "ArgumentError: \"/home/rita13santos/Desktop/MSc Thesis/Git/ScalarField/DATA/res1/time_step0.csv\" is not a valid file or doesn't exist",
      "",
      "Stacktrace:",
      " [1] CSV.Context(source::CSV.Arg, header::CSV.Arg, normalizenames::CSV.Arg, datarow::CSV.Arg, skipto::CSV.Arg, footerskip::CSV.Arg, transpose::CSV.Arg, comment::CSV.Arg, ignoreemptyrows::CSV.Arg, ignoreemptylines::CSV.Arg, select::CSV.Arg, drop::CSV.Arg, limit::CSV.Arg, buffer_in_memory::CSV.Arg, threaded::CSV.Arg, ntasks::CSV.Arg, tasks::CSV.Arg, rows_to_check::CSV.Arg, lines_to_check::CSV.Arg, missingstrings::CSV.Arg, missingstring::CSV.Arg, delim::CSV.Arg, ignorerepeated::CSV.Arg, quoted::CSV.Arg, quotechar::CSV.Arg, openquotechar::CSV.Arg, closequotechar::CSV.Arg, escapechar::CSV.Arg, dateformat::CSV.Arg, dateformats::CSV.Arg, decimal::CSV.Arg, truestrings::CSV.Arg, falsestrings::CSV.Arg, stripwhitespace::CSV.Arg, type::CSV.Arg, types::CSV.Arg, typemap::CSV.Arg, pool::CSV.Arg, downcast::CSV.Arg, lazystrings::CSV.Arg, stringtype::CSV.Arg, strict::CSV.Arg, silencewarnings::CSV.Arg, maxwarnings::CSV.Arg, debug::CSV.Arg, parsingdebug::CSV.Arg, validate::CSV.Arg, streaming::CSV.Arg)",
      "   @ CSV ~/.julia/packages/CSV/b8ebJ/src/context.jl:306",
      " [2] #File#28",
      "   @ ~/.julia/packages/CSV/b8ebJ/src/file.jl:221 [inlined]",
      " [3] macro expansion",
      "   @ ./In[534]:8 [inlined]",
      " [4] top-level scope",
      "   @ ~/.julia/packages/Plots/bMtsB/src/animation.jl:251"
     ]
    }
   ],
   "source": [
    "using Plots, CSV, DataFrames\n",
    "import GR\n",
    "anim = @animate for n in 0:100:3800#870\n",
    "    \n",
    "    \n",
    "    IJulia.clear_output(true)\n",
    "    \n",
    "    functions3=DataFrame(CSV.File(dir*\"/res$res/time_step$n.csv\",header=false, delim=\",\"))\n",
    "    \n",
    "    #functions3=DataFrame(CSV.File(\"/home/rita13santos/Desktop/MSc Thesis/Git/ScalarField/DATA/bisectionsearch/run1\"*\"/time_step$n.csv\",header=false, delim=\",\"))\n",
    "    plot()\n",
    "        plot1=functions3.Column1[4:L-3];\n",
    "        plot2=functions3.Column2[4:L-3];\n",
    "        plot3=functions3.Column3[4:L-3];\n",
    "        plot4=functions3.Column4[4:L-3];\n",
    "        plot5=functions3.Column5[4:L-3];\n",
    "    temp=round(n*dt,digits=2)\n",
    "    plot!(initX1, [plot1 plot2 plot3 plot4], labels=[\"m\" \"beta\" \"psi\" \"psi,x\"], title=\"$temp\", ylim=[-0.01, 0.01],xlim=[0, 1])#, xlim=[0, 0.1])# |> display \n",
    "    #plot!(initX[4:L-3], [plot1], labels=[\"m\" \"beta\" \"psi\" \"psi,x\"],ylim=[-1,1])#, xlim=[0, 0.1]) |> display \n",
    "    \n",
    "    end\n",
    "\n",
    "gif(anim, \"anim_res$res.gif\", fps = 10)"
   ]
  },
  {
   "cell_type": "code",
   "execution_count": null,
   "id": "2f4d41cf",
   "metadata": {
    "papermill": {
     "duration": null,
     "end_time": null,
     "exception": null,
     "start_time": null,
     "status": "pending"
    },
    "tags": []
   },
   "outputs": [],
   "source": []
  },
  {
   "cell_type": "code",
   "execution_count": null,
   "id": "c6b8b7bc",
   "metadata": {
    "papermill": {
     "duration": null,
     "end_time": null,
     "exception": null,
     "start_time": null,
     "status": "pending"
    },
    "tags": []
   },
   "outputs": [],
   "source": [
    "using Plots, CSV, DataFrames\n",
    "import GR\n",
    "anim = @animate for n in 10:10:1000#length(T)-1\n",
    "    \n",
    "    IJulia.clear_output(true)\n",
    "    \n",
    "    functions3=DataFrame(CSV.File(dir*\"/res$res/monitor_ratio$n.csv\",header=false, delim=\",\"))\n",
    "    plot()\n",
    "        plot1=functions3.Column1[4:L-3];\n",
    "    \n",
    "    plot!(initX1, [plot1], labels=[\"monitor ratio\"], ylim=[0, 1])# |> display \n",
    "    #plot!(initX[4:L-3], [plot1], labels=[\"m\" \"beta\" \"psi\" \"psi,x\"],ylim=[-1,1])#, xlim=[0, 0.1]) |> display \n",
    "    \n",
    "    end\n",
    "\n",
    "gif(anim, \"anim_res$res.gif\", fps = 5)"
   ]
  },
  {
   "cell_type": "code",
   "execution_count": null,
   "id": "baafffa1",
   "metadata": {
    "papermill": {
     "duration": null,
     "end_time": null,
     "exception": null,
     "start_time": null,
     "status": "pending"
    },
    "tags": []
   },
   "outputs": [],
   "source": []
  },
  {
   "cell_type": "markdown",
   "id": "178a4797",
   "metadata": {
    "papermill": {
     "duration": null,
     "end_time": null,
     "exception": null,
     "start_time": null,
     "status": "pending"
    },
    "tags": []
   },
   "source": [
    "# New test"
   ]
  },
  {
   "cell_type": "code",
   "execution_count": 266,
   "id": "3ec9634d",
   "metadata": {
    "papermill": {
     "duration": null,
     "end_time": null,
     "exception": null,
     "start_time": null,
     "status": "pending"
    },
    "tags": []
   },
   "outputs": [],
   "source": [
    "include(\"./ScalarField.jl\");\n",
    "\n",
    "function ff(x)\n",
    "\n",
    "    return x^2\n",
    "\n",
    "end\n",
    "function gridd(x)\n",
    "\n",
    "    #return(1/2+1/2*cos(pi*(1-0.9*x)))\n",
    "    return(1/2 .+ 1/2 .* cos.(pi .* (1 .- x)))\n",
    "\n",
    "end;"
   ]
  },
  {
   "cell_type": "code",
   "execution_count": 267,
   "id": "640a2dd2",
   "metadata": {
    "papermill": {
     "duration": null,
     "end_time": null,
     "exception": null,
     "start_time": null,
     "status": "pending"
    },
    "tags": []
   },
   "outputs": [],
   "source": [
    "res=1\n",
    "\n",
    "dx=0.01\n",
    "\n",
    "x=range(-3*dx,1+3*dx,step=dx)\n",
    "\n",
    "y=ff.(x);"
   ]
  },
  {
   "cell_type": "code",
   "execution_count": 268,
   "id": "01dcc993",
   "metadata": {
    "papermill": {
     "duration": null,
     "end_time": null,
     "exception": null,
     "start_time": null,
     "status": "pending"
    },
    "tags": []
   },
   "outputs": [
    {
     "name": "stdout",
     "output_type": "stream",
     "text": [
      "[-5.421010862427522e-18, 0.02, 0.04, 0.05999999999999999, 0.08000000000000002, 0.10000000000000005, 0.1199999999999999, 0.1400000000000001, 0.16000000000000003, 0.1799999999999999, 0.2000000000000001, 0.22, 0.2399999999999999, 0.25999999999999995, 0.2800000000000004, 0.29999999999999966, 0.32000000000000006, 0.34000000000000047, 0.35999999999999943, 0.3800000000000001, 0.4000000000000004, 0.41999999999999915, 0.44000000000000006, 0.46000000000000085, 0.4799999999999994, 0.5, 0.5199999999999999, 0.5399999999999997, 0.560000000000002, 0.5799999999999987, 0.6, 0.6199999999999999, 0.6399999999999997, 0.6600000000000003, 0.6800000000000018, 0.699999999999998, 0.7199999999999999, 0.7399999999999998, 0.7600000000000002, 0.7800000000000008, 0.8000000000000017, 0.8199999999999964, 0.8399999999999997, 0.8600000000000003, 0.8800000000000008, 0.9, 0.9200000000000029, 0.9399999999999983, 0.9599999999999989, 0.9799999999999994, 1.0, 1.0200000000000005, 1.0400000000000011, 1.059999999999999, 1.0799999999999994, 1.1, 1.1200000000000074, 1.1399999999999955, 1.1599999999999988, 1.1799999999999995, 1.2, 1.2200000000000006, 1.240000000000001, 1.259999999999999, 1.2799999999999994, 1.3, 1.3200000000000005, 1.3400000000000012, 1.3600000000000056, 1.379999999999991, 1.4000000000000028, 1.4200000000000006, 1.4399999999999955, 1.4599999999999989, 1.4800000000000022, 1.5, 1.5199999999999978, 1.5400000000000011, 1.5600000000000045, 1.5800000000000023, 1.6, 1.6200000000000048, 1.63999999999999, 1.6599999999999988, 1.6799999999999966, 1.7, 1.7200000000000033, 1.740000000000001, 1.759999999999999, 1.7800000000000022, 1.8, 1.8199999999999978, 1.8400000000000012, 1.860000000000014, 1.879999999999991, 1.9, 1.9199999999999977, 1.9399999999999955, 1.9599999999999989, 1.9800000000000022, 2.0]\n"
     ]
    },
    {
     "data": {
      "text/plain": [
       "107×2 Matrix{Float64}:\n",
       " 0.0009       0.0\n",
       " 0.0004       0.0\n",
       " 0.0001       0.0\n",
       " 0.0          0.0\n",
       " 6.08707e-8   0.0\n",
       " 9.7345e-7    0.0\n",
       " 4.92404e-6   0.0\n",
       " 1.55445e-5   0.0\n",
       " 3.78942e-5   0.0\n",
       " 7.84354e-5   0.0\n",
       " 0.000145001  0.0\n",
       " 0.000246754  0.0\n",
       " 0.000394148  0.0\n",
       " ⋮            \n",
       " 0.96883      0.0\n",
       " 0.976062     0.0\n",
       " 0.982366     0.0\n",
       " 0.987726     0.0\n",
       " 0.99213      0.0\n",
       " 0.995567     0.0\n",
       " 0.998028     0.0\n",
       " 0.999507     0.0\n",
       " 1.0          0.0\n",
       " 1.0201       0.0\n",
       " 1.0404       0.0\n",
       " 1.0609       0.0"
      ]
     },
     "execution_count": 268,
     "metadata": {},
     "output_type": "execute_result"
    }
   ],
   "source": [
    "L=length(x)\n",
    "aux=zeros(L)\n",
    "\n",
    "\n",
    "for i in 4:L-3\n",
    "\n",
    "    aux[i]=Dertest(y,i,x)\n",
    "\n",
    "end\n",
    "\n",
    "println(aux[4:L-3]);\n",
    "xnew=collect(x)\n",
    "xnew[4:L-3]=gridd(x[4:L-3])\n",
    "\n",
    "#ynew=ff.(xnew);\n",
    "ynew=[ff.(xnew) zeros(L)]"
   ]
  },
  {
   "cell_type": "code",
   "execution_count": 269,
   "id": "85a26205",
   "metadata": {
    "papermill": {
     "duration": null,
     "end_time": null,
     "exception": null,
     "start_time": null,
     "status": "pending"
    },
    "tags": []
   },
   "outputs": [
    {
     "name": "stdout",
     "output_type": "stream",
     "text": [
      " \n",
      "[1.015648370447264e-16, 0.0005482301902749086, 0.001973271571728468, 0.0044380353969199916, 0.007885298685522223, 0.012311659404862337, 0.017712749271311282, 0.02408323806125268, 0.03141683887136893, 0.03970631432305701, 0.04894348370484647, 0.05911923104577456, 0.07022351411174863, 0.08224537431601885, 0.09517294753398073, 0.10899347581163228, 0.12369331995613629, 0.1392579729960566, 0.15567207449798479, 0.1729194257254383, 0.19098300562505244, 0.2098449876243095, 0.22948675722421108, 0.2498889303695403, 0.2710313725785885, 0.29289321881345254, 0.31545289407131144, 0.33868813467634734, 0.3625760102513108, 0.38709294634702446, 0.41221474770752714, 0.43791662214787025, 0.46417320502100506, 0.49095858424962846, 0.5182463258982851, 0.5460095002604536, 0.574220708434928, 0.6028521093652197, 0.6318754473153203, 0.6612620797547106, 0.6909830056250531, 0.7210088939607736, 0.7513101128351458, 0.7818567586034563, 0.8126186854142732, 0.8435655349597684, 0.8746667664356949, 0.9058916866814866, 0.9372094804706849, 0.9685892409218728, 0.9999999999999986, 1.0314107590781274, 1.0627905195293108, 1.0941083133185165, 1.1253332335643091, 1.1564344650402298, 1.1873813145857235, 1.2181432413965423, 1.2486898871648568, 1.278991106039232, 1.3090169943749435, 1.3387379202452931, 1.3681245526846817, 1.3971478906347758, 1.4257792915650718, 1.4539904997395396, 1.4817536741017134, 1.5090414157503693, 1.535826794978986, 1.562083377852123, 1.5877852522924734, 1.6129070536529668, 1.637423989748694, 1.6613118653236332, 1.6845471059287018, 1.7071067811865388, 1.7289686274214036, 1.750111069630457, 1.7705132427758015, 1.7901550123756864, 1.8090169943749432, 1.8270805742745724, 1.844327925502048, 1.8607420270039638, 1.8763066800438526, 1.8910065241884046, 1.904827052466015, 1.9177546256839986, 1.9297764858882467, 1.9408807689541965, 1.9510565162951485, 1.960293685676926, 1.968583161128644, 1.9759167619387785, 1.9822872507287672, 1.9876883405951633, 1.992114701314529, 1.9955619646033442, 1.9980267284294662, 1.9995065603656839, 2.0000000000015]\n",
      " \n",
      "[0.0, 0.0004934396342684, 0.001973271571728441, 0.004438035396920004, 0.007885298685522235, 0.01231165940486234, 0.01771274927131128, 0.024083238061252676, 0.031416838871368924, 0.039706314323057046, 0.04894348370484647, 0.059119231045774545, 0.07022351411174865, 0.08224537431601886, 0.09517294753398065, 0.10899347581163221, 0.12369331995613642, 0.13925797299605647, 0.15567207449798492, 0.17291942572543828, 0.19098300562505266, 0.2098449876243096, 0.22948675722421086, 0.24988893036954052, 0.27103137257858867, 0.29289321881345254, 0.3154528940713113, 0.3386881346763483, 0.36257601025131025, 0.38709294634702374, 0.412214747707527, 0.4379166221478693, 0.46417320502100357, 0.4909585842496287, 0.518246325898285, 0.5460095002604533, 0.5742207084349273, 0.6028521093652195, 0.6318754473153223, 0.6612620797547089, 0.6909830056250524, 0.7210088939607706, 0.7513101128351451, 0.7818567586034575, 0.8126186854142754, 0.8435655349597692, 0.8746667664356956, 0.9058916866814857, 0.9372094804706866, 0.9685892409218717, 1.0, 1.031410759078128, 1.0627905195293132, 1.0941083133185143, 1.1253332335643043, 1.156434465040231, 1.1873813145857248, 1.2181432413965425, 1.2486898871648546, 1.2789911060392294, 1.3090169943749475, 1.3387379202452916, 1.368124552684678, 1.3971478906347805, 1.4257792915650727, 1.4539904997395467, 1.4817536741017154, 1.5090414157503713, 1.5358267949789968, 1.5620833778521306, 1.587785252292473, 1.6129070536529766, 1.6374239897486897, 1.661311865323652, 1.6845471059286887, 1.7071067811865475, 1.7289686274214116, 1.7501110696304596, 1.7705132427757895, 1.7901550123756904, 1.8090169943749475, 1.8270805742745617, 1.8443279255020149, 1.8607420270039436, 1.8763066800438635, 1.891006524188368, 1.9048270524660196, 1.917754625683981, 1.9297764858882513, 1.9408807689542256, 1.9510565162951536, 1.960293685676943, 1.968583161128631, 1.9759167619387474, 1.9822872507286888, 1.9876883405951378, 1.992114701314478, 1.99556196460308, 1.9980267284282716, 1.9995065603657316, 2.0]\n"
     ]
    }
   ],
   "source": [
    "spl=Spline1D(xnew[4:L-3],ynew[4:L-3],k=4)\n",
    "spl=[spl spl]\n",
    "auxnew=zeros(L);\n",
    "k=1\n",
    "\n",
    "for i in 4:L-3\n",
    "    auxnew[i]=unevenDer(ynew,i,k,xnew,spl)\n",
    "end\n",
    "\n",
    "println(\" \")\n",
    "println(auxnew[4:L-3])\n",
    "println(\" \")\n",
    "println(2 .* xnew[4:L-3])"
   ]
  },
  {
   "cell_type": "code",
   "execution_count": 270,
   "id": "ec129a6b",
   "metadata": {},
   "outputs": [
    {
     "data": {
      "text/plain": [
       "104"
      ]
     },
     "execution_count": 270,
     "metadata": {},
     "output_type": "execute_result"
    }
   ],
   "source": [
    "L-3"
   ]
  },
  {
   "cell_type": "code",
   "execution_count": null,
   "id": "930ad652",
   "metadata": {},
   "outputs": [],
   "source": []
  },
  {
   "cell_type": "code",
   "execution_count": 272,
   "id": "6e2c9f0d",
   "metadata": {
    "papermill": {
     "duration": null,
     "end_time": null,
     "exception": null,
     "start_time": null,
     "status": "pending"
    },
    "tags": []
   },
   "outputs": [
    {
     "data": {
      "image/svg+xml": [
       "<?xml version=\"1.0\" encoding=\"utf-8\"?>\n",
       "<svg xmlns=\"http://www.w3.org/2000/svg\" xmlns:xlink=\"http://www.w3.org/1999/xlink\" width=\"600\" height=\"400\" viewBox=\"0 0 2400 1600\">\n",
       "<defs>\n",
       "  <clipPath id=\"clip050\">\n",
       "    <rect x=\"0\" y=\"0\" width=\"2400\" height=\"1600\"/>\n",
       "  </clipPath>\n",
       "</defs>\n",
       "<path clip-path=\"url(#clip050)\" d=\"M0 1600 L2400 1600 L2400 0 L0 0  Z\" fill=\"#ffffff\" fill-rule=\"evenodd\" fill-opacity=\"1\"/>\n",
       "<defs>\n",
       "  <clipPath id=\"clip051\">\n",
       "    <rect x=\"480\" y=\"0\" width=\"1681\" height=\"1600\"/>\n",
       "  </clipPath>\n",
       "</defs>\n",
       "<path clip-path=\"url(#clip050)\" d=\"M156.112 1486.45 L2352.76 1486.45 L2352.76 47.2441 L156.112 47.2441  Z\" fill=\"#ffffff\" fill-rule=\"evenodd\" fill-opacity=\"1\"/>\n",
       "<defs>\n",
       "  <clipPath id=\"clip052\">\n",
       "    <rect x=\"156\" y=\"47\" width=\"2198\" height=\"1440\"/>\n",
       "  </clipPath>\n",
       "</defs>\n",
       "<polyline clip-path=\"url(#clip052)\" style=\"stroke:#000000; stroke-linecap:round; stroke-linejoin:round; stroke-width:2; stroke-opacity:0.1; fill:none\" points=\"156.112,1486.45 156.112,47.2441 \"/>\n",
       "<polyline clip-path=\"url(#clip052)\" style=\"stroke:#000000; stroke-linecap:round; stroke-linejoin:round; stroke-width:2; stroke-opacity:0.1; fill:none\" points=\"595.441,1486.45 595.441,47.2441 \"/>\n",
       "<polyline clip-path=\"url(#clip052)\" style=\"stroke:#000000; stroke-linecap:round; stroke-linejoin:round; stroke-width:2; stroke-opacity:0.1; fill:none\" points=\"1034.77,1486.45 1034.77,47.2441 \"/>\n",
       "<polyline clip-path=\"url(#clip052)\" style=\"stroke:#000000; stroke-linecap:round; stroke-linejoin:round; stroke-width:2; stroke-opacity:0.1; fill:none\" points=\"1474.1,1486.45 1474.1,47.2441 \"/>\n",
       "<polyline clip-path=\"url(#clip052)\" style=\"stroke:#000000; stroke-linecap:round; stroke-linejoin:round; stroke-width:2; stroke-opacity:0.1; fill:none\" points=\"1913.43,1486.45 1913.43,47.2441 \"/>\n",
       "<polyline clip-path=\"url(#clip050)\" style=\"stroke:#000000; stroke-linecap:round; stroke-linejoin:round; stroke-width:4; stroke-opacity:1; fill:none\" points=\"156.112,1486.45 2352.76,1486.45 \"/>\n",
       "<polyline clip-path=\"url(#clip050)\" style=\"stroke:#000000; stroke-linecap:round; stroke-linejoin:round; stroke-width:4; stroke-opacity:1; fill:none\" points=\"156.112,1486.45 156.112,1467.55 \"/>\n",
       "<polyline clip-path=\"url(#clip050)\" style=\"stroke:#000000; stroke-linecap:round; stroke-linejoin:round; stroke-width:4; stroke-opacity:1; fill:none\" points=\"595.441,1486.45 595.441,1467.55 \"/>\n",
       "<polyline clip-path=\"url(#clip050)\" style=\"stroke:#000000; stroke-linecap:round; stroke-linejoin:round; stroke-width:4; stroke-opacity:1; fill:none\" points=\"1034.77,1486.45 1034.77,1467.55 \"/>\n",
       "<polyline clip-path=\"url(#clip050)\" style=\"stroke:#000000; stroke-linecap:round; stroke-linejoin:round; stroke-width:4; stroke-opacity:1; fill:none\" points=\"1474.1,1486.45 1474.1,1467.55 \"/>\n",
       "<polyline clip-path=\"url(#clip050)\" style=\"stroke:#000000; stroke-linecap:round; stroke-linejoin:round; stroke-width:4; stroke-opacity:1; fill:none\" points=\"1913.43,1486.45 1913.43,1467.55 \"/>\n",
       "<path clip-path=\"url(#clip050)\" d=\"M118.416 1517.37 Q114.804 1517.37 112.976 1520.93 Q111.17 1524.47 111.17 1531.6 Q111.17 1538.71 112.976 1542.27 Q114.804 1545.82 118.416 1545.82 Q122.05 1545.82 123.855 1542.27 Q125.684 1538.71 125.684 1531.6 Q125.684 1524.47 123.855 1520.93 Q122.05 1517.37 118.416 1517.37 M118.416 1513.66 Q124.226 1513.66 127.281 1518.27 Q130.36 1522.85 130.36 1531.6 Q130.36 1540.33 127.281 1544.94 Q124.226 1549.52 118.416 1549.52 Q112.605 1549.52 109.527 1544.94 Q106.471 1540.33 106.471 1531.6 Q106.471 1522.85 109.527 1518.27 Q112.605 1513.66 118.416 1513.66 Z\" fill=\"#000000\" fill-rule=\"evenodd\" fill-opacity=\"1\" /><path clip-path=\"url(#clip050)\" d=\"M138.577 1542.97 L143.462 1542.97 L143.462 1548.85 L138.577 1548.85 L138.577 1542.97 Z\" fill=\"#000000\" fill-rule=\"evenodd\" fill-opacity=\"1\" /><path clip-path=\"url(#clip050)\" d=\"M153.786 1548.13 L153.786 1543.87 Q155.545 1544.7 157.351 1545.14 Q159.156 1545.58 160.892 1545.58 Q165.522 1545.58 167.952 1542.48 Q170.406 1539.36 170.753 1533.01 Q169.411 1535.01 167.35 1536.07 Q165.29 1537.13 162.79 1537.13 Q157.605 1537.13 154.573 1534.01 Q151.564 1530.86 151.564 1525.42 Q151.564 1520.1 154.712 1516.88 Q157.86 1513.66 163.091 1513.66 Q169.087 1513.66 172.235 1518.27 Q175.406 1522.85 175.406 1531.6 Q175.406 1539.77 171.517 1544.66 Q167.651 1549.52 161.101 1549.52 Q159.341 1549.52 157.536 1549.17 Q155.73 1548.82 153.786 1548.13 M163.091 1533.48 Q166.239 1533.48 168.068 1531.32 Q169.92 1529.17 169.92 1525.42 Q169.92 1521.7 168.068 1519.54 Q166.239 1517.37 163.091 1517.37 Q159.943 1517.37 158.091 1519.54 Q156.263 1521.7 156.263 1525.42 Q156.263 1529.17 158.091 1531.32 Q159.943 1533.48 163.091 1533.48 Z\" fill=\"#000000\" fill-rule=\"evenodd\" fill-opacity=\"1\" /><path clip-path=\"url(#clip050)\" d=\"M193.809 1517.37 Q190.198 1517.37 188.369 1520.93 Q186.563 1524.47 186.563 1531.6 Q186.563 1538.71 188.369 1542.27 Q190.198 1545.82 193.809 1545.82 Q197.443 1545.82 199.248 1542.27 Q201.077 1538.71 201.077 1531.6 Q201.077 1524.47 199.248 1520.93 Q197.443 1517.37 193.809 1517.37 M193.809 1513.66 Q199.619 1513.66 202.674 1518.27 Q205.753 1522.85 205.753 1531.6 Q205.753 1540.33 202.674 1544.94 Q199.619 1549.52 193.809 1549.52 Q187.999 1549.52 184.92 1544.94 Q181.864 1540.33 181.864 1531.6 Q181.864 1522.85 184.92 1518.27 Q187.999 1513.66 193.809 1513.66 Z\" fill=\"#000000\" fill-rule=\"evenodd\" fill-opacity=\"1\" /><path clip-path=\"url(#clip050)\" d=\"M558.543 1517.37 Q554.932 1517.37 553.103 1520.93 Q551.298 1524.47 551.298 1531.6 Q551.298 1538.71 553.103 1542.27 Q554.932 1545.82 558.543 1545.82 Q562.177 1545.82 563.983 1542.27 Q565.811 1538.71 565.811 1531.6 Q565.811 1524.47 563.983 1520.93 Q562.177 1517.37 558.543 1517.37 M558.543 1513.66 Q564.353 1513.66 567.409 1518.27 Q570.487 1522.85 570.487 1531.6 Q570.487 1540.33 567.409 1544.94 Q564.353 1549.52 558.543 1549.52 Q552.733 1549.52 549.654 1544.94 Q546.599 1540.33 546.599 1531.6 Q546.599 1522.85 549.654 1518.27 Q552.733 1513.66 558.543 1513.66 Z\" fill=\"#000000\" fill-rule=\"evenodd\" fill-opacity=\"1\" /><path clip-path=\"url(#clip050)\" d=\"M578.705 1542.97 L583.589 1542.97 L583.589 1548.85 L578.705 1548.85 L578.705 1542.97 Z\" fill=\"#000000\" fill-rule=\"evenodd\" fill-opacity=\"1\" /><path clip-path=\"url(#clip050)\" d=\"M593.913 1548.13 L593.913 1543.87 Q595.672 1544.7 597.478 1545.14 Q599.283 1545.58 601.02 1545.58 Q605.649 1545.58 608.08 1542.48 Q610.533 1539.36 610.881 1533.01 Q609.538 1535.01 607.478 1536.07 Q605.418 1537.13 602.918 1537.13 Q597.733 1537.13 594.7 1534.01 Q591.691 1530.86 591.691 1525.42 Q591.691 1520.1 594.839 1516.88 Q597.987 1513.66 603.219 1513.66 Q609.214 1513.66 612.362 1518.27 Q615.533 1522.85 615.533 1531.6 Q615.533 1539.77 611.644 1544.66 Q607.779 1549.52 601.228 1549.52 Q599.469 1549.52 597.663 1549.17 Q595.858 1548.82 593.913 1548.13 M603.219 1533.48 Q606.367 1533.48 608.195 1531.32 Q610.047 1529.17 610.047 1525.42 Q610.047 1521.7 608.195 1519.54 Q606.367 1517.37 603.219 1517.37 Q600.07 1517.37 598.219 1519.54 Q596.39 1521.7 596.39 1525.42 Q596.39 1529.17 598.219 1531.32 Q600.07 1533.48 603.219 1533.48 Z\" fill=\"#000000\" fill-rule=\"evenodd\" fill-opacity=\"1\" /><path clip-path=\"url(#clip050)\" d=\"M627.964 1544.91 L644.283 1544.91 L644.283 1548.85 L622.339 1548.85 L622.339 1544.91 Q625.001 1542.16 629.584 1537.53 Q634.191 1532.88 635.371 1531.53 Q637.617 1529.01 638.496 1527.27 Q639.399 1525.51 639.399 1523.82 Q639.399 1521.07 637.455 1519.33 Q635.533 1517.6 632.431 1517.6 Q630.232 1517.6 627.779 1518.36 Q625.348 1519.13 622.57 1520.68 L622.57 1515.95 Q625.394 1514.82 627.848 1514.24 Q630.302 1513.66 632.339 1513.66 Q637.709 1513.66 640.904 1516.35 Q644.098 1519.03 644.098 1523.52 Q644.098 1525.65 643.288 1527.57 Q642.501 1529.47 640.394 1532.07 Q639.816 1532.74 636.714 1535.95 Q633.612 1539.15 627.964 1544.91 Z\" fill=\"#000000\" fill-rule=\"evenodd\" fill-opacity=\"1\" /><path clip-path=\"url(#clip050)\" d=\"M996.83 1517.37 Q993.219 1517.37 991.39 1520.93 Q989.585 1524.47 989.585 1531.6 Q989.585 1538.71 991.39 1542.27 Q993.219 1545.82 996.83 1545.82 Q1000.46 1545.82 1002.27 1542.27 Q1004.1 1538.71 1004.1 1531.6 Q1004.1 1524.47 1002.27 1520.93 Q1000.46 1517.37 996.83 1517.37 M996.83 1513.66 Q1002.64 1513.66 1005.7 1518.27 Q1008.77 1522.85 1008.77 1531.6 Q1008.77 1540.33 1005.7 1544.94 Q1002.64 1549.52 996.83 1549.52 Q991.02 1549.52 987.941 1544.94 Q984.886 1540.33 984.886 1531.6 Q984.886 1522.85 987.941 1518.27 Q991.02 1513.66 996.83 1513.66 Z\" fill=\"#000000\" fill-rule=\"evenodd\" fill-opacity=\"1\" /><path clip-path=\"url(#clip050)\" d=\"M1016.99 1542.97 L1021.88 1542.97 L1021.88 1548.85 L1016.99 1548.85 L1016.99 1542.97 Z\" fill=\"#000000\" fill-rule=\"evenodd\" fill-opacity=\"1\" /><path clip-path=\"url(#clip050)\" d=\"M1032.2 1548.13 L1032.2 1543.87 Q1033.96 1544.7 1035.77 1545.14 Q1037.57 1545.58 1039.31 1545.58 Q1043.94 1545.58 1046.37 1542.48 Q1048.82 1539.36 1049.17 1533.01 Q1047.83 1535.01 1045.76 1536.07 Q1043.7 1537.13 1041.2 1537.13 Q1036.02 1537.13 1032.99 1534.01 Q1029.98 1530.86 1029.98 1525.42 Q1029.98 1520.1 1033.13 1516.88 Q1036.27 1513.66 1041.51 1513.66 Q1047.5 1513.66 1050.65 1518.27 Q1053.82 1522.85 1053.82 1531.6 Q1053.82 1539.77 1049.93 1544.66 Q1046.07 1549.52 1039.51 1549.52 Q1037.76 1549.52 1035.95 1549.17 Q1034.14 1548.82 1032.2 1548.13 M1041.51 1533.48 Q1044.65 1533.48 1046.48 1531.32 Q1048.33 1529.17 1048.33 1525.42 Q1048.33 1521.7 1046.48 1519.54 Q1044.65 1517.37 1041.51 1517.37 Q1038.36 1517.37 1036.51 1519.54 Q1034.68 1521.7 1034.68 1525.42 Q1034.68 1529.17 1036.51 1531.32 Q1038.36 1533.48 1041.51 1533.48 Z\" fill=\"#000000\" fill-rule=\"evenodd\" fill-opacity=\"1\" /><path clip-path=\"url(#clip050)\" d=\"M1075.07 1518.36 L1063.26 1536.81 L1075.07 1536.81 L1075.07 1518.36 M1073.84 1514.29 L1079.72 1514.29 L1079.72 1536.81 L1084.65 1536.81 L1084.65 1540.7 L1079.72 1540.7 L1079.72 1548.85 L1075.07 1548.85 L1075.07 1540.7 L1059.47 1540.7 L1059.47 1536.19 L1073.84 1514.29 Z\" fill=\"#000000\" fill-rule=\"evenodd\" fill-opacity=\"1\" /><path clip-path=\"url(#clip050)\" d=\"M1436.32 1517.37 Q1432.71 1517.37 1430.88 1520.93 Q1429.08 1524.47 1429.08 1531.6 Q1429.08 1538.71 1430.88 1542.27 Q1432.71 1545.82 1436.32 1545.82 Q1439.96 1545.82 1441.76 1542.27 Q1443.59 1538.71 1443.59 1531.6 Q1443.59 1524.47 1441.76 1520.93 Q1439.96 1517.37 1436.32 1517.37 M1436.32 1513.66 Q1442.13 1513.66 1445.19 1518.27 Q1448.27 1522.85 1448.27 1531.6 Q1448.27 1540.33 1445.19 1544.94 Q1442.13 1549.52 1436.32 1549.52 Q1430.51 1549.52 1427.43 1544.94 Q1424.38 1540.33 1424.38 1531.6 Q1424.38 1522.85 1427.43 1518.27 Q1430.51 1513.66 1436.32 1513.66 Z\" fill=\"#000000\" fill-rule=\"evenodd\" fill-opacity=\"1\" /><path clip-path=\"url(#clip050)\" d=\"M1456.48 1542.97 L1461.37 1542.97 L1461.37 1548.85 L1456.48 1548.85 L1456.48 1542.97 Z\" fill=\"#000000\" fill-rule=\"evenodd\" fill-opacity=\"1\" /><path clip-path=\"url(#clip050)\" d=\"M1471.69 1548.13 L1471.69 1543.87 Q1473.45 1544.7 1475.26 1545.14 Q1477.06 1545.58 1478.8 1545.58 Q1483.43 1545.58 1485.86 1542.48 Q1488.31 1539.36 1488.66 1533.01 Q1487.32 1535.01 1485.26 1536.07 Q1483.2 1537.13 1480.7 1537.13 Q1475.51 1537.13 1472.48 1534.01 Q1469.47 1530.86 1469.47 1525.42 Q1469.47 1520.1 1472.62 1516.88 Q1475.77 1513.66 1481 1513.66 Q1486.99 1513.66 1490.14 1518.27 Q1493.31 1522.85 1493.31 1531.6 Q1493.31 1539.77 1489.42 1544.66 Q1485.56 1549.52 1479.01 1549.52 Q1477.25 1549.52 1475.44 1549.17 Q1473.64 1548.82 1471.69 1548.13 M1481 1533.48 Q1484.14 1533.48 1485.97 1531.32 Q1487.83 1529.17 1487.83 1525.42 Q1487.83 1521.7 1485.97 1519.54 Q1484.14 1517.37 1481 1517.37 Q1477.85 1517.37 1476 1519.54 Q1474.17 1521.7 1474.17 1525.42 Q1474.17 1529.17 1476 1531.32 Q1477.85 1533.48 1481 1533.48 Z\" fill=\"#000000\" fill-rule=\"evenodd\" fill-opacity=\"1\" /><path clip-path=\"url(#clip050)\" d=\"M1512.29 1529.7 Q1509.14 1529.7 1507.29 1531.86 Q1505.46 1534.01 1505.46 1537.76 Q1505.46 1541.49 1507.29 1543.66 Q1509.14 1545.82 1512.29 1545.82 Q1515.44 1545.82 1517.27 1543.66 Q1519.12 1541.49 1519.12 1537.76 Q1519.12 1534.01 1517.27 1531.86 Q1515.44 1529.7 1512.29 1529.7 M1521.57 1515.05 L1521.57 1519.31 Q1519.82 1518.48 1518.01 1518.04 Q1516.23 1517.6 1514.47 1517.6 Q1509.84 1517.6 1507.39 1520.72 Q1504.95 1523.85 1504.61 1530.17 Q1505.97 1528.15 1508.03 1527.09 Q1510.09 1526 1512.57 1526 Q1517.78 1526 1520.79 1529.17 Q1523.82 1532.32 1523.82 1537.76 Q1523.82 1543.08 1520.67 1546.3 Q1517.52 1549.52 1512.29 1549.52 Q1506.3 1549.52 1503.13 1544.94 Q1499.95 1540.33 1499.95 1531.6 Q1499.95 1523.41 1503.84 1518.55 Q1507.73 1513.66 1514.28 1513.66 Q1516.04 1513.66 1517.83 1514.01 Q1519.63 1514.36 1521.57 1515.05 Z\" fill=\"#000000\" fill-rule=\"evenodd\" fill-opacity=\"1\" /><path clip-path=\"url(#clip050)\" d=\"M1875.78 1517.37 Q1872.17 1517.37 1870.34 1520.93 Q1868.53 1524.47 1868.53 1531.6 Q1868.53 1538.71 1870.34 1542.27 Q1872.17 1545.82 1875.78 1545.82 Q1879.41 1545.82 1881.22 1542.27 Q1883.05 1538.71 1883.05 1531.6 Q1883.05 1524.47 1881.22 1520.93 Q1879.41 1517.37 1875.78 1517.37 M1875.78 1513.66 Q1881.59 1513.66 1884.64 1518.27 Q1887.72 1522.85 1887.72 1531.6 Q1887.72 1540.33 1884.64 1544.94 Q1881.59 1549.52 1875.78 1549.52 Q1869.97 1549.52 1866.89 1544.94 Q1863.83 1540.33 1863.83 1531.6 Q1863.83 1522.85 1866.89 1518.27 Q1869.97 1513.66 1875.78 1513.66 Z\" fill=\"#000000\" fill-rule=\"evenodd\" fill-opacity=\"1\" /><path clip-path=\"url(#clip050)\" d=\"M1895.94 1542.97 L1900.82 1542.97 L1900.82 1548.85 L1895.94 1548.85 L1895.94 1542.97 Z\" fill=\"#000000\" fill-rule=\"evenodd\" fill-opacity=\"1\" /><path clip-path=\"url(#clip050)\" d=\"M1911.15 1548.13 L1911.15 1543.87 Q1912.91 1544.7 1914.71 1545.14 Q1916.52 1545.58 1918.25 1545.58 Q1922.88 1545.58 1925.31 1542.48 Q1927.77 1539.36 1928.11 1533.01 Q1926.77 1535.01 1924.71 1536.07 Q1922.65 1537.13 1920.15 1537.13 Q1914.97 1537.13 1911.93 1534.01 Q1908.92 1530.86 1908.92 1525.42 Q1908.92 1520.1 1912.07 1516.88 Q1915.22 1513.66 1920.45 1513.66 Q1926.45 1513.66 1929.6 1518.27 Q1932.77 1522.85 1932.77 1531.6 Q1932.77 1539.77 1928.88 1544.66 Q1925.01 1549.52 1918.46 1549.52 Q1916.7 1549.52 1914.9 1549.17 Q1913.09 1548.82 1911.15 1548.13 M1920.45 1533.48 Q1923.6 1533.48 1925.43 1531.32 Q1927.28 1529.17 1927.28 1525.42 Q1927.28 1521.7 1925.43 1519.54 Q1923.6 1517.37 1920.45 1517.37 Q1917.3 1517.37 1915.45 1519.54 Q1913.62 1521.7 1913.62 1525.42 Q1913.62 1529.17 1915.45 1531.32 Q1917.3 1533.48 1920.45 1533.48 Z\" fill=\"#000000\" fill-rule=\"evenodd\" fill-opacity=\"1\" /><path clip-path=\"url(#clip050)\" d=\"M1951.17 1532.44 Q1947.84 1532.44 1945.92 1534.22 Q1944.02 1536 1944.02 1539.13 Q1944.02 1542.25 1945.92 1544.03 Q1947.84 1545.82 1951.17 1545.82 Q1954.5 1545.82 1956.42 1544.03 Q1958.35 1542.23 1958.35 1539.13 Q1958.35 1536 1956.42 1534.22 Q1954.53 1532.44 1951.17 1532.44 M1946.49 1530.45 Q1943.48 1529.7 1941.8 1527.64 Q1940.13 1525.58 1940.13 1522.62 Q1940.13 1518.48 1943.07 1516.07 Q1946.03 1513.66 1951.17 1513.66 Q1956.33 1513.66 1959.27 1516.07 Q1962.21 1518.48 1962.21 1522.62 Q1962.21 1525.58 1960.52 1527.64 Q1958.86 1529.7 1955.87 1530.45 Q1959.25 1531.23 1961.12 1533.52 Q1963.02 1535.82 1963.02 1539.13 Q1963.02 1544.15 1959.94 1546.83 Q1956.89 1549.52 1951.17 1549.52 Q1945.45 1549.52 1942.37 1546.83 Q1939.32 1544.15 1939.32 1539.13 Q1939.32 1535.82 1941.22 1533.52 Q1943.11 1531.23 1946.49 1530.45 M1944.78 1523.06 Q1944.78 1525.75 1946.45 1527.25 Q1948.14 1528.76 1951.17 1528.76 Q1954.18 1528.76 1955.87 1527.25 Q1957.58 1525.75 1957.58 1523.06 Q1957.58 1520.38 1955.87 1518.87 Q1954.18 1517.37 1951.17 1517.37 Q1948.14 1517.37 1946.45 1518.87 Q1944.78 1520.38 1944.78 1523.06 Z\" fill=\"#000000\" fill-rule=\"evenodd\" fill-opacity=\"1\" /><polyline clip-path=\"url(#clip052)\" style=\"stroke:#000000; stroke-linecap:round; stroke-linejoin:round; stroke-width:2; stroke-opacity:0.1; fill:none\" points=\"156.112,1445.72 2352.76,1445.72 \"/>\n",
       "<polyline clip-path=\"url(#clip052)\" style=\"stroke:#000000; stroke-linecap:round; stroke-linejoin:round; stroke-width:2; stroke-opacity:0.1; fill:none\" points=\"156.112,1106.28 2352.76,1106.28 \"/>\n",
       "<polyline clip-path=\"url(#clip052)\" style=\"stroke:#000000; stroke-linecap:round; stroke-linejoin:round; stroke-width:2; stroke-opacity:0.1; fill:none\" points=\"156.112,766.846 2352.76,766.846 \"/>\n",
       "<polyline clip-path=\"url(#clip052)\" style=\"stroke:#000000; stroke-linecap:round; stroke-linejoin:round; stroke-width:2; stroke-opacity:0.1; fill:none\" points=\"156.112,427.411 2352.76,427.411 \"/>\n",
       "<polyline clip-path=\"url(#clip052)\" style=\"stroke:#000000; stroke-linecap:round; stroke-linejoin:round; stroke-width:2; stroke-opacity:0.1; fill:none\" points=\"156.112,87.9763 2352.76,87.9763 \"/>\n",
       "<polyline clip-path=\"url(#clip050)\" style=\"stroke:#000000; stroke-linecap:round; stroke-linejoin:round; stroke-width:4; stroke-opacity:1; fill:none\" points=\"156.112,1486.45 156.112,47.2441 \"/>\n",
       "<polyline clip-path=\"url(#clip050)\" style=\"stroke:#000000; stroke-linecap:round; stroke-linejoin:round; stroke-width:4; stroke-opacity:1; fill:none\" points=\"156.112,1445.72 175.01,1445.72 \"/>\n",
       "<polyline clip-path=\"url(#clip050)\" style=\"stroke:#000000; stroke-linecap:round; stroke-linejoin:round; stroke-width:4; stroke-opacity:1; fill:none\" points=\"156.112,1106.28 175.01,1106.28 \"/>\n",
       "<polyline clip-path=\"url(#clip050)\" style=\"stroke:#000000; stroke-linecap:round; stroke-linejoin:round; stroke-width:4; stroke-opacity:1; fill:none\" points=\"156.112,766.846 175.01,766.846 \"/>\n",
       "<polyline clip-path=\"url(#clip050)\" style=\"stroke:#000000; stroke-linecap:round; stroke-linejoin:round; stroke-width:4; stroke-opacity:1; fill:none\" points=\"156.112,427.411 175.01,427.411 \"/>\n",
       "<polyline clip-path=\"url(#clip050)\" style=\"stroke:#000000; stroke-linecap:round; stroke-linejoin:round; stroke-width:4; stroke-opacity:1; fill:none\" points=\"156.112,87.9763 175.01,87.9763 \"/>\n",
       "<path clip-path=\"url(#clip050)\" d=\"M62.9365 1431.51 Q59.3254 1431.51 57.4967 1435.08 Q55.6912 1438.62 55.6912 1445.75 Q55.6912 1452.86 57.4967 1456.42 Q59.3254 1459.96 62.9365 1459.96 Q66.5707 1459.96 68.3763 1456.42 Q70.205 1452.86 70.205 1445.75 Q70.205 1438.62 68.3763 1435.08 Q66.5707 1431.51 62.9365 1431.51 M62.9365 1427.81 Q68.7467 1427.81 71.8022 1432.42 Q74.8809 1437 74.8809 1445.75 Q74.8809 1454.48 71.8022 1459.08 Q68.7467 1463.67 62.9365 1463.67 Q57.1264 1463.67 54.0477 1459.08 Q50.9921 1454.48 50.9921 1445.75 Q50.9921 1437 54.0477 1432.42 Q57.1264 1427.81 62.9365 1427.81 Z\" fill=\"#000000\" fill-rule=\"evenodd\" fill-opacity=\"1\" /><path clip-path=\"url(#clip050)\" d=\"M83.0984 1457.12 L87.9827 1457.12 L87.9827 1463 L83.0984 1463 L83.0984 1457.12 Z\" fill=\"#000000\" fill-rule=\"evenodd\" fill-opacity=\"1\" /><path clip-path=\"url(#clip050)\" d=\"M108.168 1431.51 Q104.557 1431.51 102.728 1435.08 Q100.922 1438.62 100.922 1445.75 Q100.922 1452.86 102.728 1456.42 Q104.557 1459.96 108.168 1459.96 Q111.802 1459.96 113.608 1456.42 Q115.436 1452.86 115.436 1445.75 Q115.436 1438.62 113.608 1435.08 Q111.802 1431.51 108.168 1431.51 M108.168 1427.81 Q113.978 1427.81 117.033 1432.42 Q120.112 1437 120.112 1445.75 Q120.112 1454.48 117.033 1459.08 Q113.978 1463.67 108.168 1463.67 Q102.358 1463.67 99.2789 1459.08 Q96.2234 1454.48 96.2234 1445.75 Q96.2234 1437 99.2789 1432.42 Q102.358 1427.81 108.168 1427.81 Z\" fill=\"#000000\" fill-rule=\"evenodd\" fill-opacity=\"1\" /><path clip-path=\"url(#clip050)\" d=\"M63.9319 1092.08 Q60.3208 1092.08 58.4921 1095.64 Q56.6865 1099.19 56.6865 1106.32 Q56.6865 1113.42 58.4921 1116.99 Q60.3208 1120.53 63.9319 1120.53 Q67.5661 1120.53 69.3717 1116.99 Q71.2004 1113.42 71.2004 1106.32 Q71.2004 1099.19 69.3717 1095.64 Q67.5661 1092.08 63.9319 1092.08 M63.9319 1088.38 Q69.742 1088.38 72.7976 1092.98 Q75.8763 1097.57 75.8763 1106.32 Q75.8763 1115.04 72.7976 1119.65 Q69.742 1124.23 63.9319 1124.23 Q58.1217 1124.23 55.043 1119.65 Q51.9875 1115.04 51.9875 1106.32 Q51.9875 1097.57 55.043 1092.98 Q58.1217 1088.38 63.9319 1088.38 Z\" fill=\"#000000\" fill-rule=\"evenodd\" fill-opacity=\"1\" /><path clip-path=\"url(#clip050)\" d=\"M84.0938 1117.68 L88.978 1117.68 L88.978 1123.56 L84.0938 1123.56 L84.0938 1117.68 Z\" fill=\"#000000\" fill-rule=\"evenodd\" fill-opacity=\"1\" /><path clip-path=\"url(#clip050)\" d=\"M99.2095 1089 L117.566 1089 L117.566 1092.94 L103.492 1092.94 L103.492 1101.41 Q104.51 1101.06 105.529 1100.9 Q106.547 1100.71 107.566 1100.71 Q113.353 1100.71 116.733 1103.89 Q120.112 1107.06 120.112 1112.47 Q120.112 1118.05 116.64 1121.15 Q113.168 1124.23 106.848 1124.23 Q104.672 1124.23 102.404 1123.86 Q100.159 1123.49 97.7511 1122.75 L97.7511 1118.05 Q99.8345 1119.19 102.057 1119.74 Q104.279 1120.3 106.756 1120.3 Q110.76 1120.3 113.098 1118.19 Q115.436 1116.08 115.436 1112.47 Q115.436 1108.86 113.098 1106.76 Q110.76 1104.65 106.756 1104.65 Q104.881 1104.65 103.006 1105.07 Q101.154 1105.48 99.2095 1106.36 L99.2095 1089 Z\" fill=\"#000000\" fill-rule=\"evenodd\" fill-opacity=\"1\" /><path clip-path=\"url(#clip050)\" d=\"M53.7467 780.191 L61.3856 780.191 L61.3856 753.825 L53.0754 755.492 L53.0754 751.233 L61.3393 749.566 L66.0152 749.566 L66.0152 780.191 L73.654 780.191 L73.654 784.126 L53.7467 784.126 L53.7467 780.191 Z\" fill=\"#000000\" fill-rule=\"evenodd\" fill-opacity=\"1\" /><path clip-path=\"url(#clip050)\" d=\"M83.0984 778.246 L87.9827 778.246 L87.9827 784.126 L83.0984 784.126 L83.0984 778.246 Z\" fill=\"#000000\" fill-rule=\"evenodd\" fill-opacity=\"1\" /><path clip-path=\"url(#clip050)\" d=\"M108.168 752.645 Q104.557 752.645 102.728 756.209 Q100.922 759.751 100.922 766.881 Q100.922 773.987 102.728 777.552 Q104.557 781.094 108.168 781.094 Q111.802 781.094 113.608 777.552 Q115.436 773.987 115.436 766.881 Q115.436 759.751 113.608 756.209 Q111.802 752.645 108.168 752.645 M108.168 748.941 Q113.978 748.941 117.033 753.547 Q120.112 758.131 120.112 766.881 Q120.112 775.608 117.033 780.214 Q113.978 784.797 108.168 784.797 Q102.358 784.797 99.2789 780.214 Q96.2234 775.608 96.2234 766.881 Q96.2234 758.131 99.2789 753.547 Q102.358 748.941 108.168 748.941 Z\" fill=\"#000000\" fill-rule=\"evenodd\" fill-opacity=\"1\" /><path clip-path=\"url(#clip050)\" d=\"M54.7421 440.756 L62.381 440.756 L62.381 414.39 L54.0708 416.057 L54.0708 411.798 L62.3347 410.131 L67.0106 410.131 L67.0106 440.756 L74.6494 440.756 L74.6494 444.691 L54.7421 444.691 L54.7421 440.756 Z\" fill=\"#000000\" fill-rule=\"evenodd\" fill-opacity=\"1\" /><path clip-path=\"url(#clip050)\" d=\"M84.0938 438.812 L88.978 438.812 L88.978 444.691 L84.0938 444.691 L84.0938 438.812 Z\" fill=\"#000000\" fill-rule=\"evenodd\" fill-opacity=\"1\" /><path clip-path=\"url(#clip050)\" d=\"M99.2095 410.131 L117.566 410.131 L117.566 414.066 L103.492 414.066 L103.492 422.538 Q104.51 422.191 105.529 422.029 Q106.547 421.844 107.566 421.844 Q113.353 421.844 116.733 425.015 Q120.112 428.187 120.112 433.603 Q120.112 439.182 116.64 442.284 Q113.168 445.362 106.848 445.362 Q104.672 445.362 102.404 444.992 Q100.159 444.622 97.7511 443.881 L97.7511 439.182 Q99.8345 440.316 102.057 440.872 Q104.279 441.427 106.756 441.427 Q110.76 441.427 113.098 439.321 Q115.436 437.214 115.436 433.603 Q115.436 429.992 113.098 427.886 Q110.76 425.779 106.756 425.779 Q104.881 425.779 103.006 426.196 Q101.154 426.613 99.2095 427.492 L99.2095 410.131 Z\" fill=\"#000000\" fill-rule=\"evenodd\" fill-opacity=\"1\" /><path clip-path=\"url(#clip050)\" d=\"M56.9643 101.321 L73.2837 101.321 L73.2837 105.256 L51.3393 105.256 L51.3393 101.321 Q54.0014 98.5665 58.5847 93.9369 Q63.1911 89.2841 64.3717 87.9416 Q66.617 85.4184 67.4967 83.6823 Q68.3994 81.9231 68.3994 80.2333 Q68.3994 77.4786 66.455 75.7425 Q64.5337 74.0064 61.4319 74.0064 Q59.2328 74.0064 56.7791 74.7703 Q54.3486 75.5342 51.5708 77.0851 L51.5708 72.3629 Q54.3949 71.2287 56.8486 70.65 Q59.3023 70.0713 61.3393 70.0713 Q66.7096 70.0713 69.9041 72.7565 Q73.0985 75.4416 73.0985 79.9323 Q73.0985 82.062 72.2883 83.9832 Q71.5013 85.8814 69.3948 88.474 Q68.8161 89.1453 65.7143 92.3628 Q62.6124 95.5573 56.9643 101.321 Z\" fill=\"#000000\" fill-rule=\"evenodd\" fill-opacity=\"1\" /><path clip-path=\"url(#clip050)\" d=\"M83.0984 99.3767 L87.9827 99.3767 L87.9827 105.256 L83.0984 105.256 L83.0984 99.3767 Z\" fill=\"#000000\" fill-rule=\"evenodd\" fill-opacity=\"1\" /><path clip-path=\"url(#clip050)\" d=\"M108.168 73.775 Q104.557 73.775 102.728 77.3398 Q100.922 80.8814 100.922 88.011 Q100.922 95.1174 102.728 98.6822 Q104.557 102.224 108.168 102.224 Q111.802 102.224 113.608 98.6822 Q115.436 95.1174 115.436 88.011 Q115.436 80.8814 113.608 77.3398 Q111.802 73.775 108.168 73.775 M108.168 70.0713 Q113.978 70.0713 117.033 74.6777 Q120.112 79.261 120.112 88.011 Q120.112 96.7378 117.033 101.344 Q113.978 105.928 108.168 105.928 Q102.358 105.928 99.2789 101.344 Q96.2234 96.7378 96.2234 88.011 Q96.2234 79.261 99.2789 74.6777 Q102.358 70.0713 108.168 70.0713 Z\" fill=\"#000000\" fill-rule=\"evenodd\" fill-opacity=\"1\" /><circle clip-path=\"url(#clip052)\" cx=\"255.148\" cy=\"217.629\" r=\"14.4\" fill=\"#009af9\" fill-rule=\"evenodd\" fill-opacity=\"1\" stroke=\"#000000\" stroke-opacity=\"1\" stroke-width=\"3.2\"/>\n",
       "<circle clip-path=\"url(#clip052)\" cx=\"453.544\" cy=\"205.366\" r=\"14.4\" fill=\"#009af9\" fill-rule=\"evenodd\" fill-opacity=\"1\" stroke=\"#000000\" stroke-opacity=\"1\" stroke-width=\"3.2\"/>\n",
       "<circle clip-path=\"url(#clip052)\" cx=\"642.975\" cy=\"193.657\" r=\"14.4\" fill=\"#009af9\" fill-rule=\"evenodd\" fill-opacity=\"1\" stroke=\"#000000\" stroke-opacity=\"1\" stroke-width=\"3.2\"/>\n",
       "<circle clip-path=\"url(#clip052)\" cx=\"823.255\" cy=\"182.514\" r=\"14.4\" fill=\"#009af9\" fill-rule=\"evenodd\" fill-opacity=\"1\" stroke=\"#000000\" stroke-opacity=\"1\" stroke-width=\"3.2\"/>\n",
       "<circle clip-path=\"url(#clip052)\" cx=\"994.205\" cy=\"171.948\" r=\"14.4\" fill=\"#009af9\" fill-rule=\"evenodd\" fill-opacity=\"1\" stroke=\"#000000\" stroke-opacity=\"1\" stroke-width=\"3.2\"/>\n",
       "<circle clip-path=\"url(#clip052)\" cx=\"1155.66\" cy=\"161.969\" r=\"14.4\" fill=\"#009af9\" fill-rule=\"evenodd\" fill-opacity=\"1\" stroke=\"#000000\" stroke-opacity=\"1\" stroke-width=\"3.2\"/>\n",
       "<circle clip-path=\"url(#clip052)\" cx=\"1307.45\" cy=\"152.586\" r=\"14.4\" fill=\"#009af9\" fill-rule=\"evenodd\" fill-opacity=\"1\" stroke=\"#000000\" stroke-opacity=\"1\" stroke-width=\"3.2\"/>\n",
       "<circle clip-path=\"url(#clip052)\" cx=\"1449.44\" cy=\"143.81\" r=\"14.4\" fill=\"#009af9\" fill-rule=\"evenodd\" fill-opacity=\"1\" stroke=\"#000000\" stroke-opacity=\"1\" stroke-width=\"3.2\"/>\n",
       "<circle clip-path=\"url(#clip052)\" cx=\"1581.48\" cy=\"135.649\" r=\"14.4\" fill=\"#009af9\" fill-rule=\"evenodd\" fill-opacity=\"1\" stroke=\"#000000\" stroke-opacity=\"1\" stroke-width=\"3.2\"/>\n",
       "<circle clip-path=\"url(#clip052)\" cx=\"1703.44\" cy=\"128.111\" r=\"14.4\" fill=\"#009af9\" fill-rule=\"evenodd\" fill-opacity=\"1\" stroke=\"#000000\" stroke-opacity=\"1\" stroke-width=\"3.2\"/>\n",
       "<circle clip-path=\"url(#clip052)\" cx=\"1815.2\" cy=\"121.203\" r=\"14.4\" fill=\"#009af9\" fill-rule=\"evenodd\" fill-opacity=\"1\" stroke=\"#000000\" stroke-opacity=\"1\" stroke-width=\"3.2\"/>\n",
       "<circle clip-path=\"url(#clip052)\" cx=\"1916.65\" cy=\"114.932\" r=\"14.4\" fill=\"#009af9\" fill-rule=\"evenodd\" fill-opacity=\"1\" stroke=\"#000000\" stroke-opacity=\"1\" stroke-width=\"3.2\"/>\n",
       "<circle clip-path=\"url(#clip052)\" cx=\"2007.7\" cy=\"109.304\" r=\"14.4\" fill=\"#009af9\" fill-rule=\"evenodd\" fill-opacity=\"1\" stroke=\"#000000\" stroke-opacity=\"1\" stroke-width=\"3.2\"/>\n",
       "<circle clip-path=\"url(#clip052)\" cx=\"2088.24\" cy=\"104.326\" r=\"14.4\" fill=\"#009af9\" fill-rule=\"evenodd\" fill-opacity=\"1\" stroke=\"#000000\" stroke-opacity=\"1\" stroke-width=\"3.2\"/>\n",
       "<circle clip-path=\"url(#clip052)\" cx=\"2158.21\" cy=\"100.001\" r=\"14.4\" fill=\"#009af9\" fill-rule=\"evenodd\" fill-opacity=\"1\" stroke=\"#000000\" stroke-opacity=\"1\" stroke-width=\"3.2\"/>\n",
       "<circle clip-path=\"url(#clip052)\" cx=\"2217.53\" cy=\"96.3343\" r=\"14.4\" fill=\"#009af9\" fill-rule=\"evenodd\" fill-opacity=\"1\" stroke=\"#000000\" stroke-opacity=\"1\" stroke-width=\"3.2\"/>\n",
       "<circle clip-path=\"url(#clip052)\" cx=\"2266.15\" cy=\"93.3294\" r=\"14.4\" fill=\"#009af9\" fill-rule=\"evenodd\" fill-opacity=\"1\" stroke=\"#000000\" stroke-opacity=\"1\" stroke-width=\"3.2\"/>\n",
       "<circle clip-path=\"url(#clip052)\" cx=\"2304.01\" cy=\"90.9891\" r=\"14.4\" fill=\"#009af9\" fill-rule=\"evenodd\" fill-opacity=\"1\" stroke=\"#000000\" stroke-opacity=\"1\" stroke-width=\"3.2\"/>\n",
       "<circle clip-path=\"url(#clip052)\" cx=\"2331.08\" cy=\"89.3159\" r=\"14.4\" fill=\"#009af9\" fill-rule=\"evenodd\" fill-opacity=\"1\" stroke=\"#000000\" stroke-opacity=\"1\" stroke-width=\"3.2\"/>\n",
       "<circle clip-path=\"url(#clip052)\" cx=\"2347.34\" cy=\"88.3113\" r=\"14.4\" fill=\"#009af9\" fill-rule=\"evenodd\" fill-opacity=\"1\" stroke=\"#000000\" stroke-opacity=\"1\" stroke-width=\"3.2\"/>\n",
       "<circle clip-path=\"url(#clip052)\" cx=\"2352.76\" cy=\"87.9763\" r=\"14.4\" fill=\"#009af9\" fill-rule=\"evenodd\" fill-opacity=\"1\" stroke=\"#000000\" stroke-opacity=\"1\" stroke-width=\"3.2\"/>\n",
       "<path clip-path=\"url(#clip050)\" d=\"M2007.44 1438.47 L2279.53 1438.47 L2279.53 1334.79 L2007.44 1334.79  Z\" fill=\"#ffffff\" fill-rule=\"evenodd\" fill-opacity=\"1\"/>\n",
       "<polyline clip-path=\"url(#clip050)\" style=\"stroke:#000000; stroke-linecap:round; stroke-linejoin:round; stroke-width:4; stroke-opacity:1; fill:none\" points=\"2007.44,1438.47 2279.53,1438.47 2279.53,1334.79 2007.44,1334.79 2007.44,1438.47 \"/>\n",
       "<circle clip-path=\"url(#clip050)\" cx=\"2105.07\" cy=\"1386.63\" r=\"23.04\" fill=\"#009af9\" fill-rule=\"evenodd\" fill-opacity=\"1\" stroke=\"#000000\" stroke-opacity=\"1\" stroke-width=\"5.12\"/>\n",
       "<path clip-path=\"url(#clip050)\" d=\"M2216.54 1406.32 Q2214.73 1410.95 2213.02 1412.36 Q2211.31 1413.78 2208.44 1413.78 L2205.03 1413.78 L2205.03 1410.21 L2207.53 1410.21 Q2209.29 1410.21 2210.27 1409.38 Q2211.24 1408.54 2212.42 1405.44 L2213.18 1403.5 L2202.7 1377.99 L2207.21 1377.99 L2215.31 1398.27 L2223.41 1377.99 L2227.93 1377.99 L2216.54 1406.32 Z\" fill=\"#000000\" fill-rule=\"evenodd\" fill-opacity=\"1\" /><path clip-path=\"url(#clip050)\" d=\"M2235.22 1399.98 L2242.86 1399.98 L2242.86 1373.61 L2234.55 1375.28 L2234.55 1371.02 L2242.81 1369.35 L2247.49 1369.35 L2247.49 1399.98 L2255.13 1399.98 L2255.13 1403.91 L2235.22 1403.91 L2235.22 1399.98 Z\" fill=\"#000000\" fill-rule=\"evenodd\" fill-opacity=\"1\" /></svg>\n"
      ]
     },
     "execution_count": 272,
     "metadata": {},
     "output_type": "execute_result"
    }
   ],
   "source": [
    "\n",
    "#plot(x,y)\n",
    "\n",
    "scatter(xnew[4:L-3],auxnew[4:L-3],xlim=[0.9,1])\n",
    "\n",
    "#plot(x[4:L-3],aux[4:L-3])"
   ]
  },
  {
   "cell_type": "code",
   "execution_count": 164,
   "id": "d08f8450",
   "metadata": {
    "papermill": {
     "duration": null,
     "end_time": null,
     "exception": null,
     "start_time": null,
     "status": "pending"
    },
    "tags": []
   },
   "outputs": [
    {
     "data": {
      "text/plain": [
       "2.0000000000015"
      ]
     },
     "execution_count": 164,
     "metadata": {},
     "output_type": "execute_result"
    }
   ],
   "source": [
    "auxnew[L-3]"
   ]
  },
  {
   "cell_type": "code",
   "execution_count": null,
   "id": "3fd2297c",
   "metadata": {
    "papermill": {
     "duration": null,
     "end_time": null,
     "exception": null,
     "start_time": null,
     "status": "pending"
    },
    "tags": []
   },
   "outputs": [],
   "source": []
  },
  {
   "cell_type": "code",
   "execution_count": null,
   "id": "4677437a",
   "metadata": {
    "papermill": {
     "duration": null,
     "end_time": null,
     "exception": null,
     "start_time": null,
     "status": "pending"
    },
    "tags": []
   },
   "outputs": [],
   "source": []
  },
  {
   "cell_type": "code",
   "execution_count": null,
   "id": "805c0934",
   "metadata": {},
   "outputs": [],
   "source": []
  }
 ],
 "metadata": {
  "@webio": {
   "lastCommId": null,
   "lastKernelId": null
  },
  "kernelspec": {
   "display_name": "Julia 1.8.0",
   "language": "julia",
   "name": "julia-1.8"
  },
  "language_info": {
   "file_extension": ".jl",
   "mimetype": "application/julia",
   "name": "julia",
   "version": "1.8.0"
  },
  "papermill": {
   "default_parameters": {},
   "duration": 2464.038479,
   "end_time": "2023-06-26T00:23:52.938089",
   "environment_variables": {},
   "exception": true,
   "input_path": "Evolution_ScalarField.ipynb",
   "output_path": "Evolution_ScalarField.ipynb",
   "parameters": {
    "A": 0.01,
    "m": 1
   },
   "start_time": "2023-06-25T23:42:48.899610",
   "version": "2.4.0"
  }
 },
 "nbformat": 4,
 "nbformat_minor": 5
}
