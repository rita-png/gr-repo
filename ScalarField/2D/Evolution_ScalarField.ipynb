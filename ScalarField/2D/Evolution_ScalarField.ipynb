{
 "cells": [
  {
   "cell_type": "markdown",
   "id": "d88601a8",
   "metadata": {
    "papermill": {
     "duration": 0.010813,
     "end_time": "2023-03-28T18:06:09.878411",
     "exception": false,
     "start_time": "2023-03-28T18:06:09.867598",
     "status": "completed"
    },
    "tags": []
   },
   "source": [
    "# Evolution of Einstein's equations"
   ]
  },
  {
   "cell_type": "markdown",
   "id": "03c607c7",
   "metadata": {
    "papermill": {
     "duration": 0.006777,
     "end_time": "2023-03-28T18:06:09.893152",
     "exception": false,
     "start_time": "2023-03-28T18:06:09.886375",
     "status": "completed"
    },
    "tags": []
   },
   "source": [
    "# Initial data , setting length of the domain and discretization\n"
   ]
  },
  {
   "cell_type": "markdown",
   "id": "43aebde7",
   "metadata": {
    "execution": {
     "iopub.execute_input": "2023-03-28T19:06:10.907000Z",
     "iopub.status.busy": "2023-03-28T19:06:09.907000Z",
     "iopub.status.idle": "2023-03-28T19:06:12.147000Z",
     "shell.execute_reply": "2023-03-28T19:06:12.110000Z"
    },
    "papermill": {
     "duration": 2.251282,
     "end_time": "2023-03-28T18:06:12.151193",
     "exception": false,
     "start_time": "2023-03-28T18:06:09.899911",
     "status": "completed"
    },
    "tags": [
     "injected-parameters"
    ]
   },
   "source": [
    "# Parameters"
   ]
  },
  {
   "cell_type": "code",
   "execution_count": 496,
   "id": "28f9b745",
   "metadata": {},
   "outputs": [
    {
     "data": {
      "text/plain": [
       "1"
      ]
     },
     "execution_count": 496,
     "metadata": {},
     "output_type": "execute_result"
    }
   ],
   "source": [
    "m = 3\n",
    "A = 0.001#55#0.05#0.049375#0.07#0.05#0.1124921875#0.125\n",
    "run = 1"
   ]
  },
  {
   "cell_type": "code",
   "execution_count": 497,
   "id": "80a113e0",
   "metadata": {},
   "outputs": [],
   "source": [
    "res=m;\n",
    "N=2.0^m*200.0/2.0\n",
    "Xf=Float128(1.0)#1.0;\n",
    "\n",
    "dx=Float128(Xf/N);#Xf/N\n",
    "dt=dx#round(dx,digits=10);#dx\n",
    "Nt=2.0^m*200.0/2.0\n",
    "Tf=Nt*dt; #final time\n",
    "#print(Tf)"
   ]
  },
  {
   "cell_type": "code",
   "execution_count": 498,
   "id": "4f752d54",
   "metadata": {
    "execution": {
     "iopub.execute_input": "2023-03-28T19:06:12.356000Z",
     "iopub.status.busy": "2023-03-28T19:06:12.356000Z",
     "iopub.status.idle": "2023-03-28T19:06:12.364000Z",
     "shell.execute_reply": "2023-03-28T19:06:12.364000Z"
    },
    "papermill": {
     "duration": 0.020815,
     "end_time": "2023-03-28T18:06:12.368761",
     "exception": false,
     "start_time": "2023-03-28T18:06:12.347946",
     "status": "completed"
    },
    "tags": []
   },
   "outputs": [
    {
     "name": "stdout",
     "output_type": "stream",
     "text": [
      "800.0"
     ]
    }
   ],
   "source": [
    "print(N)"
   ]
  },
  {
   "cell_type": "code",
   "execution_count": 499,
   "id": "ad48576a",
   "metadata": {
    "execution": {
     "iopub.execute_input": "2023-03-28T19:06:12.386000Z",
     "iopub.status.busy": "2023-03-28T19:06:12.385000Z",
     "iopub.status.idle": "2023-03-28T19:06:12.398000Z",
     "shell.execute_reply": "2023-03-28T19:06:12.398000Z"
    },
    "papermill": {
     "duration": 0.024143,
     "end_time": "2023-03-28T18:06:12.402660",
     "exception": false,
     "start_time": "2023-03-28T18:06:12.378517",
     "status": "completed"
    },
    "tags": []
   },
   "outputs": [
    {
     "name": "stdout",
     "output_type": "stream",
     "text": [
      "dx =1.25000000000000000000000000000000002e-03\n",
      "dt =1.25000000000000000000000000000000002e-03\n",
      "dx/dt =1.00000000000000000000000000000000000e+00\n"
     ]
    }
   ],
   "source": [
    "println(\"dx =\", dx)\n",
    "println(\"dt =\", dt)\n",
    "println(\"dx/dt =\", dx/dt)"
   ]
  },
  {
   "cell_type": "code",
   "execution_count": 500,
   "id": "78fb78a5",
   "metadata": {
    "execution": {
     "iopub.execute_input": "2023-03-28T19:06:12.419000Z",
     "iopub.status.busy": "2023-03-28T19:06:12.419000Z",
     "iopub.status.idle": "2023-03-28T19:06:13.308000Z",
     "shell.execute_reply": "2023-03-28T19:06:13.308000Z"
    },
    "papermill": {
     "duration": 0.90283,
     "end_time": "2023-03-28T18:06:13.314381",
     "exception": false,
     "start_time": "2023-03-28T18:06:12.411551",
     "status": "completed"
    },
    "tags": []
   },
   "outputs": [
    {
     "data": {
      "text/plain": [
       "\"/home/rita13santos/Desktop/MSc Thesis/Git/ScalarField/DATA\""
      ]
     },
     "execution_count": 500,
     "metadata": {},
     "output_type": "execute_result"
    }
   ],
   "source": [
    "global dir = \"/home/rita13santos/Desktop/MSc Thesis/Git/ScalarField/DATA\"\n",
    "#global dir = \"/home/rita13santos/Desktop/MSc Thesis/Git/ScalarField/DATA\""
   ]
  },
  {
   "cell_type": "markdown",
   "id": "e2dd4335",
   "metadata": {
    "papermill": {
     "duration": 0.007006,
     "end_time": "2023-03-28T18:06:13.351329",
     "exception": false,
     "start_time": "2023-03-28T18:06:13.344323",
     "status": "completed"
    },
    "tags": []
   },
   "source": [
    "# Grid"
   ]
  },
  {
   "cell_type": "code",
   "execution_count": 501,
   "id": "bc5288f8",
   "metadata": {
    "execution": {
     "iopub.execute_input": "2023-03-28T19:06:13.636000Z",
     "iopub.status.busy": "2023-03-28T19:06:13.636000Z",
     "iopub.status.idle": "2023-03-28T19:06:14.762000Z",
     "shell.execute_reply": "2023-03-28T19:06:14.762000Z"
    },
    "papermill": {
     "duration": 1.137394,
     "end_time": "2023-03-28T18:06:14.765909",
     "exception": false,
     "start_time": "2023-03-28T18:06:13.628515",
     "status": "completed"
    },
    "tags": []
   },
   "outputs": [],
   "source": [
    "include(\"./ScalarField.jl\");"
   ]
  },
  {
   "cell_type": "code",
   "execution_count": 502,
   "id": "de24fea3",
   "metadata": {
    "execution": {
     "iopub.execute_input": "2023-03-28T19:06:13.366000Z",
     "iopub.status.busy": "2023-03-28T19:06:13.366000Z",
     "iopub.status.idle": "2023-03-28T19:06:13.571000Z",
     "shell.execute_reply": "2023-03-28T19:06:13.571000Z"
    },
    "papermill": {
     "duration": 0.216104,
     "end_time": "2023-03-28T18:06:13.574666",
     "exception": false,
     "start_time": "2023-03-28T18:06:13.358562",
     "status": "completed"
    },
    "tags": []
   },
   "outputs": [
    {
     "name": "stdout",
     "output_type": "stream",
     "text": [
      "step size is  1.25000000000000000000000000000000002e-03\n",
      "the time step is 1.25000000000000000000000000000000002e-03\n"
     ]
    }
   ],
   "source": [
    "ori=Float128(0.0)#0.0;\n",
    "initX1 = nothing\n",
    "N=int(N)\n",
    "#initX1=range(ori, stop=Xf, step=dx);\n",
    "initX1=create_range(ori,Xf,dx,N)\n",
    "#initX = range(round(ori-3.0*dx,digits=10), stop=Xf+3.0*dx, step=round(dx,digits=10))\n",
    "initX=create_range(ori-3.0*dx,Xf+3.0*dx,dx,N+6)\n",
    "\n",
    "L=length(initX);\n",
    "println(\"step size is  \", dx)\n",
    "println(\"the time step is \", dt)"
   ]
  },
  {
   "cell_type": "markdown",
   "id": "80ab1480",
   "metadata": {
    "papermill": {
     "duration": 0.007525,
     "end_time": "2023-03-28T18:06:14.783937",
     "exception": false,
     "start_time": "2023-03-28T18:06:14.776412",
     "status": "completed"
    },
    "tags": []
   },
   "source": [
    "# Initial data of m β Ψ and Ψ,x"
   ]
  },
  {
   "cell_type": "code",
   "execution_count": 503,
   "id": "d0af654c",
   "metadata": {
    "execution": {
     "iopub.execute_input": "2023-03-28T19:06:14.799000Z",
     "iopub.status.busy": "2023-03-28T19:06:14.799000Z",
     "iopub.status.idle": "2023-03-28T19:06:22.269000Z",
     "shell.execute_reply": "2023-03-28T19:06:22.269000Z"
    },
    "papermill": {
     "duration": 7.48258,
     "end_time": "2023-03-28T18:06:22.273970",
     "exception": false,
     "start_time": "2023-03-28T18:06:14.791390",
     "status": "completed"
    },
    "tags": []
   },
   "outputs": [],
   "source": [
    "using Dierckx\n",
    "using Quadmath\n",
    "\n",
    "####\n",
    "\n",
    "#initm=zeros(L)\n",
    "#initbeta=zeros(L)\n",
    "#initpsi=zeros(L)\n",
    "#initderpsi=zeros(L)\n",
    "initm=Array{Float128}(undef, L)\n",
    "initbeta=Array{Float128}(undef, L)\n",
    "initpsi=Array{Float128}(undef, L)\n",
    "initderpsi=Array{Float128}(undef, L)\n",
    "#initm=Array{Float64x8}(undef, L)\n",
    "#initbeta=Array{Float64x8}(undef, L)\n",
    "#initpsi=Array{Float64x8}(undef, L)\n",
    "#initderpsi=Array{Float64x8}(undef, L)\n",
    "\n",
    "state_array=[initm initbeta initpsi initderpsi initX];\n",
    "\n",
    "#PSI\n",
    "r0=0.7#0.01#0.7#0.01#0.7#0.7#0.7#0.01#0.7#0.3\n",
    "sigma=0.3\n",
    "initpsi[4:L-3] = init_gaussian(initX1,r0,sigma,A)\n",
    "\n",
    "state_array[:,3] = initpsi\n",
    "state_array = ghost(state_array)\n",
    "\n",
    "#PSI,X FROM PSI\n",
    "initderpsi[4:L-3] = init_gaussian_der(initX1,r0,sigma,A)\n",
    "state_array[:,4] = initderpsi\n",
    "state_array=ghost(state_array)\n",
    "\n",
    "####\n",
    "\n",
    "derpsi_func = Spline1D(initX[4:L-3], state_array[4:L-3,4],  k=4);"
   ]
  },
  {
   "cell_type": "code",
   "execution_count": 521,
   "id": "bbcb9b09",
   "metadata": {},
   "outputs": [
    {
     "data": {
      "text/plain": [
       "807-element Vector{Float64}:\n",
       "  1.0013661530759225e-28\n",
       "  1.0013661530759225e-28\n",
       "  1.0013661530759225e-28\n",
       "  1.0013661530759225e-28\n",
       "  2.0886892887540083e-11\n",
       "  8.616805109762858e-11\n",
       "  1.999535596097289e-10\n",
       "  3.6660221229479793e-10\n",
       "  5.907338974067079e-10\n",
       "  8.772425322121595e-10\n",
       "  1.2313095691420101e-9\n",
       "  1.6584180966935427e-9\n",
       "  2.164367559189279e-9\n",
       "  ⋮\n",
       "  1.0805021434729487e-138\n",
       "  3.396660502629746e-139\n",
       "  6.060193412465916e-140\n",
       " -7.544489769240383e-141\n",
       "  7.001204500531497e-140\n",
       "  3.287388408961129e-140\n",
       "  7.872511063555182e-141\n",
       "  0.0\n",
       "  0.0\n",
       "  0.0\n",
       "  0.0\n",
       "  0.0"
      ]
     },
     "execution_count": 521,
     "metadata": {},
     "output_type": "execute_result"
    }
   ],
   "source": [
    "derpsi_func(state_array[:,5])"
   ]
  },
  {
   "cell_type": "code",
   "execution_count": 504,
   "id": "78cfbd6e",
   "metadata": {},
   "outputs": [],
   "source": [
    "y0=[0 0 0]\n",
    "state_array[4:L-3,1:3] = twod_n_rk4wrapper(RHS,y0,initX[4:L-3],0,derpsi_func,state_array[:,:]);\n",
    "\n",
    "state_array = ghost(state_array);"
   ]
  },
  {
   "cell_type": "code",
   "execution_count": 505,
   "id": "48f10a76",
   "metadata": {
    "execution": {
     "iopub.execute_input": "2023-03-28T19:06:25.312000Z",
     "iopub.status.busy": "2023-03-28T19:06:25.312000Z",
     "iopub.status.idle": "2023-03-28T19:06:25.348000Z",
     "shell.execute_reply": "2023-03-28T19:06:25.347000Z"
    },
    "papermill": {
     "duration": 0.048534,
     "end_time": "2023-03-28T18:06:25.352888",
     "exception": false,
     "start_time": "2023-03-28T18:06:25.304354",
     "status": "completed"
    },
    "tags": []
   },
   "outputs": [
    {
     "data": {
      "text/plain": [
       "\"using Plots #showing initial data and the initial status of the horizon finder\\nplot(initX[4:L-3], state_array[4:L-3,1:4], xaxis=\\\"x\\\",title=\\\"Initial Data\\\", labels=[\\\"m\\\" \\\"beta\\\" \\\"psi\\\" \\\"psi,x\\\"])\""
      ]
     },
     "execution_count": 505,
     "metadata": {},
     "output_type": "execute_result"
    }
   ],
   "source": [
    "\"\"\"using Plots #showing initial data and the initial status of the horizon finder\n",
    "plot(initX[4:L-3], state_array[4:L-3,1:4], xaxis=\"x\",title=\"Initial Data\", labels=[\"m\" \"beta\" \"psi\" \"psi,x\"])\"\"\""
   ]
  },
  {
   "cell_type": "markdown",
   "id": "9b444ece",
   "metadata": {
    "papermill": {
     "duration": 0.009161,
     "end_time": "2023-03-28T18:06:25.373170",
     "exception": false,
     "start_time": "2023-03-28T18:06:25.364009",
     "status": "completed"
    },
    "tags": []
   },
   "source": [
    "# Defining the initial state array for the evolution m β Ψ and Ψ,x"
   ]
  },
  {
   "cell_type": "code",
   "execution_count": 506,
   "id": "9902ffab",
   "metadata": {
    "execution": {
     "iopub.execute_input": "2023-03-28T19:06:25.389000Z",
     "iopub.status.busy": "2023-03-28T19:06:25.388000Z",
     "iopub.status.idle": "2023-03-28T19:06:32.710000Z",
     "shell.execute_reply": "2023-03-28T19:06:32.710000Z"
    },
    "papermill": {
     "duration": 7.335269,
     "end_time": "2023-03-28T18:06:32.715990",
     "exception": false,
     "start_time": "2023-03-28T18:06:25.380721",
     "status": "completed"
    },
    "tags": []
   },
   "outputs": [
    {
     "data": {
      "text/plain": [
       "\"/home/rita13santos/Desktop/MSc Thesis/Git/ScalarField/DATA/res3/time_step0.csv\""
      ]
     },
     "execution_count": 506,
     "metadata": {},
     "output_type": "execute_result"
    }
   ],
   "source": [
    "using CSV, Tables\n",
    "#CSV.write(dir*\"/time_step0.csv\", Tables.table(transpose(Matrix(state_array))), writeheader=false)\n",
    "CSV.write(dir*\"/res$res/time_step0.csv\", Tables.table(state_array), writeheader=false)"
   ]
  },
  {
   "cell_type": "code",
   "execution_count": null,
   "id": "dc53bde1",
   "metadata": {},
   "outputs": [],
   "source": []
  },
  {
   "cell_type": "code",
   "execution_count": 507,
   "id": "fff1426a",
   "metadata": {
    "execution": {
     "iopub.execute_input": "2023-03-28T19:06:33.154000Z",
     "iopub.status.busy": "2023-03-28T19:06:32.734000Z",
     "iopub.status.idle": "2023-03-28T19:06:33.884000Z",
     "shell.execute_reply": "2023-03-28T19:06:33.884000Z"
    },
    "papermill": {
     "duration": 1.164178,
     "end_time": "2023-03-28T18:06:33.889802",
     "exception": false,
     "start_time": "2023-03-28T18:06:32.725624",
     "status": "completed"
    },
    "tags": []
   },
   "outputs": [
    {
     "data": {
      "text/plain": [
       "\"/home/rita13santos/Desktop/MSc Thesis/Git/ScalarField/DATA/parameters.csv\""
      ]
     },
     "execution_count": 507,
     "metadata": {},
     "output_type": "execute_result"
    }
   ],
   "source": [
    "time=0.0\n",
    "criticality=0.0\n",
    "explode=0.0\n",
    "evol_stats = [criticality A sigma r0 time explode run]\n",
    "monitor_ratio = zeros(L)\n",
    "CSV.write(dir*\"/parameters.csv\", Tables.table(evol_stats), writeheader=true, header=[\"criticality\", \"A\", \"sigma\", \"r0\", \"time\", \"explode\", \"run\"])"
   ]
  },
  {
   "cell_type": "code",
   "execution_count": 508,
   "id": "9e9abd7d",
   "metadata": {},
   "outputs": [
    {
     "data": {
      "text/plain": [
       "\"ginit=dt_scale(initX,state_array[:,1],state_array[:,2],dx)\\nprintln(update_dt(initX,state_array[:,1],state_array[:,2],dx,ginit)/dt)\""
      ]
     },
     "execution_count": 508,
     "metadata": {},
     "output_type": "execute_result"
    }
   ],
   "source": [
    "\"\"\"ginit=dt_scale(initX,state_array[:,1],state_array[:,2],dx)\n",
    "println(update_dt(initX,state_array[:,1],state_array[:,2],dx,ginit)/dt)\"\"\""
   ]
  },
  {
   "cell_type": "code",
   "execution_count": null,
   "id": "4e0df300",
   "metadata": {},
   "outputs": [],
   "source": []
  },
  {
   "cell_type": "markdown",
   "id": "42e2c73d",
   "metadata": {
    "papermill": {
     "duration": 0.007626,
     "end_time": "2023-03-28T18:06:33.908346",
     "exception": false,
     "start_time": "2023-03-28T18:06:33.900720",
     "status": "completed"
    },
    "tags": []
   },
   "source": [
    " ## Time evolution"
   ]
  },
  {
   "cell_type": "markdown",
   "id": "7da47594",
   "metadata": {
    "papermill": {
     "duration": 0.007471,
     "end_time": "2023-03-28T18:06:33.923805",
     "exception": false,
     "start_time": "2023-03-28T18:06:33.916334",
     "status": "completed"
    },
    "tags": []
   },
   "source": [
    "fixed grid"
   ]
  },
  {
   "cell_type": "code",
   "execution_count": 509,
   "id": "fcb7ae3f",
   "metadata": {
    "execution": {
     "iopub.execute_input": "2023-03-28T19:06:33.940000Z",
     "iopub.status.busy": "2023-03-28T19:06:33.940000Z",
     "iopub.status.idle": "2023-03-28T21:02:19.379000Z",
     "shell.execute_reply": "2023-03-28T21:02:19.378000Z"
    },
    "papermill": {
     "duration": 6945.452732,
     "end_time": "2023-03-28T20:02:19.384591",
     "exception": false,
     "start_time": "2023-03-28T18:06:33.931859",
     "status": "completed"
    },
    "tags": []
   },
   "outputs": [
    {
     "name": "stdout",
     "output_type": "stream",
     "text": [
      "iteration 10 dt is 1.25000000000000000000000000000000002e-03, time of iteration is 1.24999999999999999999999999999999991e-02\n",
      "iteration 20 dt is 1.25000000000000000000000000000000002e-03, time of iteration is 2.50000000000000000000000000000000042e-02\n",
      "iteration 30 dt is 1.25000000000000000000000000000000002e-03, time of iteration is 3.75000000000000000000000000000000108e-02\n",
      "iteration 40 dt is 1.25000000000000000000000000000000002e-03, time of iteration is 5.00000000000000000000000000000000205e-02\n",
      "iteration 50 dt is 1.25000000000000000000000000000000002e-03, time of iteration is 6.25000000000000000000000000000000241e-02\n",
      "iteration 60 dt is 1.25000000000000000000000000000000002e-03, time of iteration is 7.50000000000000000000000000000000337e-02\n",
      "iteration 70 dt is 1.25000000000000000000000000000000002e-03, time of iteration is 8.75000000000000000000000000000000433e-02\n",
      "iteration 80 dt is 1.25000000000000000000000000000000002e-03, time of iteration is 1.00000000000000000000000000000000053e-01\n",
      "iteration 90 dt is 1.25000000000000000000000000000000002e-03, time of iteration is 1.12500000000000000000000000000000063e-01\n",
      "iteration 100 dt is 1.25000000000000000000000000000000002e-03, time of iteration is 1.25000000000000000000000000000000072e-01\n",
      "iteration 110 dt is 1.25000000000000000000000000000000002e-03, time of iteration is 1.37500000000000000000000000000000082e-01\n",
      "iteration 120 dt is 1.25000000000000000000000000000000002e-03, time of iteration is 1.50000000000000000000000000000000091e-01\n",
      "iteration 130 dt is 1.25000000000000000000000000000000002e-03, time of iteration is 1.62500000000000000000000000000000101e-01\n",
      "iteration 140 dt is 1.25000000000000000000000000000000002e-03, time of iteration is 1.75000000000000000000000000000000111e-01\n",
      "iteration 150 dt is 1.25000000000000000000000000000000002e-03, time of iteration is 1.87500000000000000000000000000000120e-01\n",
      "iteration 160 dt is 1.25000000000000000000000000000000002e-03, time of iteration is 2.00000000000000000000000000000000130e-01\n",
      "iteration 170 dt is 1.25000000000000000000000000000000002e-03, time of iteration is 2.12500000000000000000000000000000140e-01\n",
      "iteration 180 dt is 1.25000000000000000000000000000000002e-03, time of iteration is 2.25000000000000000000000000000000149e-01\n",
      "iteration 190 dt is 1.25000000000000000000000000000000002e-03, time of iteration is 2.37500000000000000000000000000000159e-01\n",
      "iteration 200 dt is 1.25000000000000000000000000000000002e-03, time of iteration is 2.50000000000000000000000000000000144e-01\n",
      "iteration 210 dt is 1.25000000000000000000000000000000002e-03, time of iteration is 2.62499999999999999999999999999999913e-01\n",
      "iteration 220 dt is 1.25000000000000000000000000000000002e-03, time of iteration is 2.74999999999999999999999999999999682e-01\n",
      "iteration 230 dt is 1.25000000000000000000000000000000002e-03, time of iteration is 2.87499999999999999999999999999999451e-01\n",
      "iteration 240 dt is 1.25000000000000000000000000000000002e-03, time of iteration is 2.99999999999999999999999999999999220e-01\n",
      "iteration 250 dt is 1.25000000000000000000000000000000002e-03, time of iteration is 3.12499999999999999999999999999998989e-01\n",
      "iteration 260 dt is 1.25000000000000000000000000000000002e-03, time of iteration is 3.24999999999999999999999999999998758e-01\n",
      "iteration 270 dt is 1.25000000000000000000000000000000002e-03, time of iteration is 3.37499999999999999999999999999998527e-01\n",
      "iteration 280 dt is 1.25000000000000000000000000000000002e-03, time of iteration is 3.49999999999999999999999999999998296e-01\n",
      "iteration 290 dt is 1.25000000000000000000000000000000002e-03, time of iteration is 3.62499999999999999999999999999998064e-01\n",
      "iteration 300 dt is 1.25000000000000000000000000000000002e-03, time of iteration is 3.74999999999999999999999999999997833e-01\n",
      "iteration 310 dt is 1.25000000000000000000000000000000002e-03, time of iteration is 3.87499999999999999999999999999997602e-01\n",
      "iteration 320 dt is 1.25000000000000000000000000000000002e-03, time of iteration is 3.99999999999999999999999999999997371e-01\n",
      "iteration 330 dt is 1.25000000000000000000000000000000002e-03, time of iteration is 4.12499999999999999999999999999997140e-01\n",
      "iteration 340 dt is 1.25000000000000000000000000000000002e-03, time of iteration is 4.24999999999999999999999999999996909e-01\n",
      "iteration 350 dt is 1.25000000000000000000000000000000002e-03, time of iteration is 4.37499999999999999999999999999996678e-01\n",
      "iteration 360 dt is 1.25000000000000000000000000000000002e-03, time of iteration is 4.49999999999999999999999999999996447e-01\n",
      "iteration 370 dt is 1.25000000000000000000000000000000002e-03, time of iteration is 4.62499999999999999999999999999996216e-01\n",
      "iteration 380 dt is 1.25000000000000000000000000000000002e-03, time of iteration is 4.74999999999999999999999999999995984e-01\n",
      "iteration 390 dt is 1.25000000000000000000000000000000002e-03, time of iteration is 4.87499999999999999999999999999995753e-01\n",
      "iteration 400 dt is 1.25000000000000000000000000000000002e-03, time of iteration is 4.99999999999999999999999999999995522e-01\n",
      "iteration 410 dt is 1.25000000000000000000000000000000002e-03, time of iteration is 5.12499999999999999999999999999995339e-01\n",
      "iteration 420 dt is 1.25000000000000000000000000000000002e-03, time of iteration is 5.24999999999999999999999999999995108e-01\n",
      "iteration 430 dt is 1.25000000000000000000000000000000002e-03, time of iteration is 5.37499999999999999999999999999994877e-01\n",
      "iteration 440 dt is 1.25000000000000000000000000000000002e-03, time of iteration is 5.49999999999999999999999999999994646e-01\n",
      "iteration 450 dt is 1.25000000000000000000000000000000002e-03, time of iteration is 5.62499999999999999999999999999994415e-01\n",
      "iteration 460 dt is 1.25000000000000000000000000000000002e-03, time of iteration is 5.74999999999999999999999999999994184e-01\n",
      "iteration 470 dt is 1.25000000000000000000000000000000002e-03, time of iteration is 5.87499999999999999999999999999993953e-01\n",
      "iteration 480 dt is 1.25000000000000000000000000000000002e-03, time of iteration is 5.99999999999999999999999999999993721e-01\n",
      "iteration 490 dt is 1.25000000000000000000000000000000002e-03, time of iteration is 6.12499999999999999999999999999993490e-01\n",
      "iteration 500 dt is 1.25000000000000000000000000000000002e-03, time of iteration is 6.24999999999999999999999999999993259e-01\n",
      "iteration 510 dt is 1.25000000000000000000000000000000002e-03, time of iteration is 6.37499999999999999999999999999993028e-01\n",
      "iteration 520 dt is 1.25000000000000000000000000000000002e-03, time of iteration is 6.49999999999999999999999999999992797e-01\n",
      "iteration 530 dt is 1.25000000000000000000000000000000002e-03, time of iteration is 6.62499999999999999999999999999992566e-01\n",
      "iteration 540 dt is 1.25000000000000000000000000000000002e-03, time of iteration is 6.74999999999999999999999999999992335e-01\n",
      "iteration 550 dt is 1.25000000000000000000000000000000002e-03, time of iteration is 6.87499999999999999999999999999992104e-01\n",
      "iteration 560 dt is 1.25000000000000000000000000000000002e-03, time of iteration is 6.99999999999999999999999999999991873e-01\n",
      "iteration 570 dt is 1.25000000000000000000000000000000002e-03, time of iteration is 7.12499999999999999999999999999991641e-01\n",
      "iteration 580 dt is 1.25000000000000000000000000000000002e-03, time of iteration is 7.24999999999999999999999999999991410e-01\n",
      "iteration 590 dt is 1.25000000000000000000000000000000002e-03, time of iteration is 7.37499999999999999999999999999991179e-01\n",
      "iteration 600 dt is 1.25000000000000000000000000000000002e-03, time of iteration is 7.49999999999999999999999999999990948e-01\n",
      "iteration 610 dt is 1.25000000000000000000000000000000002e-03, time of iteration is 7.62499999999999999999999999999990717e-01\n",
      "iteration 620 dt is 1.25000000000000000000000000000000002e-03, time of iteration is 7.74999999999999999999999999999990486e-01\n",
      "iteration 630 dt is 1.25000000000000000000000000000000002e-03, time of iteration is 7.87499999999999999999999999999990255e-01\n",
      "iteration 640 dt is 1.25000000000000000000000000000000002e-03, time of iteration is 7.99999999999999999999999999999990024e-01\n",
      "iteration 650 dt is 1.25000000000000000000000000000000002e-03, time of iteration is 8.12499999999999999999999999999989793e-01\n",
      "iteration 660 dt is 1.25000000000000000000000000000000002e-03, time of iteration is 8.24999999999999999999999999999989561e-01\n"
     ]
    },
    {
     "name": "stdout",
     "output_type": "stream",
     "text": [
      "iteration 670 dt is 1.25000000000000000000000000000000002e-03, time of iteration is 8.37499999999999999999999999999989330e-01\n",
      "iteration 680 dt is 1.25000000000000000000000000000000002e-03, time of iteration is 8.49999999999999999999999999999989099e-01\n",
      "iteration 690 dt is 1.25000000000000000000000000000000002e-03, time of iteration is 8.62499999999999999999999999999988868e-01\n",
      "iteration 700 dt is 1.25000000000000000000000000000000002e-03, time of iteration is 8.74999999999999999999999999999988637e-01\n",
      "iteration 710 dt is 1.25000000000000000000000000000000002e-03, time of iteration is 8.87499999999999999999999999999988406e-01\n",
      "iteration 720 dt is 1.25000000000000000000000000000000002e-03, time of iteration is 8.99999999999999999999999999999988175e-01\n",
      "iteration 730 dt is 1.25000000000000000000000000000000002e-03, time of iteration is 9.12499999999999999999999999999987944e-01\n",
      "iteration 740 dt is 1.25000000000000000000000000000000002e-03, time of iteration is 9.24999999999999999999999999999987713e-01\n",
      "iteration 750 dt is 1.25000000000000000000000000000000002e-03, time of iteration is 9.37499999999999999999999999999987481e-01\n",
      "iteration 760 dt is 1.25000000000000000000000000000000002e-03, time of iteration is 9.49999999999999999999999999999987250e-01\n",
      "iteration 770 dt is 1.25000000000000000000000000000000002e-03, time of iteration is 9.62499999999999999999999999999987019e-01\n",
      "iteration 780 dt is 1.25000000000000000000000000000000002e-03, time of iteration is 9.74999999999999999999999999999986788e-01\n",
      "iteration 790 dt is 1.25000000000000000000000000000000002e-03, time of iteration is 9.87499999999999999999999999999986557e-01\n",
      "iteration 800 dt is 1.25000000000000000000000000000000002e-03, time of iteration is 9.99999999999999999999999999999986326e-01\n",
      "iteration 810 dt is 1.25000000000000000000000000000000002e-03, time of iteration is 1.01249999999999999999999999999998609e+00\n",
      "iteration 820 dt is 1.25000000000000000000000000000000002e-03, time of iteration is 1.02499999999999999999999999999998586e+00\n",
      "iteration 830 dt is 1.25000000000000000000000000000000002e-03, time of iteration is 1.03749999999999999999999999999998563e+00\n",
      "iteration 840 dt is 1.25000000000000000000000000000000002e-03, time of iteration is 1.04999999999999999999999999999998540e+00\n",
      "iteration 850 dt is 1.25000000000000000000000000000000002e-03, time of iteration is 1.06249999999999999999999999999998517e+00\n",
      "iteration 860 dt is 1.25000000000000000000000000000000002e-03, time of iteration is 1.07499999999999999999999999999998494e+00\n",
      "iteration 870 dt is 1.25000000000000000000000000000000002e-03, time of iteration is 1.08749999999999999999999999999998471e+00\n",
      "iteration 880 dt is 1.25000000000000000000000000000000002e-03, time of iteration is 1.09999999999999999999999999999998448e+00\n",
      "iteration 890 dt is 1.25000000000000000000000000000000002e-03, time of iteration is 1.11249999999999999999999999999998425e+00\n",
      "iteration 900 dt is 1.25000000000000000000000000000000002e-03, time of iteration is 1.12499999999999999999999999999998401e+00\n",
      "iteration 910 dt is 1.25000000000000000000000000000000002e-03, time of iteration is 1.13749999999999999999999999999998378e+00\n",
      "iteration 920 dt is 1.25000000000000000000000000000000002e-03, time of iteration is 1.14999999999999999999999999999998355e+00\n",
      "iteration 930 dt is 1.25000000000000000000000000000000002e-03, time of iteration is 1.16249999999999999999999999999998332e+00\n",
      "iteration 940 dt is 1.25000000000000000000000000000000002e-03, time of iteration is 1.17499999999999999999999999999998309e+00\n",
      "iteration 950 dt is 1.25000000000000000000000000000000002e-03, time of iteration is 1.18749999999999999999999999999998286e+00\n",
      "iteration 960 dt is 1.25000000000000000000000000000000002e-03, time of iteration is 1.19999999999999999999999999999998263e+00\n",
      "iteration 970 dt is 1.25000000000000000000000000000000002e-03, time of iteration is 1.21249999999999999999999999999998240e+00\n",
      "iteration 980 dt is 1.25000000000000000000000000000000002e-03, time of iteration is 1.22499999999999999999999999999998217e+00\n",
      "iteration 990 dt is 1.25000000000000000000000000000000002e-03, time of iteration is 1.23749999999999999999999999999998193e+00\n",
      "iteration 1000 dt is 1.25000000000000000000000000000000002e-03, time of iteration is 1.24999999999999999999999999999998170e+00\n",
      "iteration 1010 dt is 1.25000000000000000000000000000000002e-03, time of iteration is 1.26249999999999999999999999999998147e+00\n",
      "iteration 1020 dt is 1.25000000000000000000000000000000002e-03, time of iteration is 1.27499999999999999999999999999998124e+00\n",
      "iteration 1030 dt is 1.25000000000000000000000000000000002e-03, time of iteration is 1.28749999999999999999999999999998101e+00\n",
      "iteration 1040 dt is 1.25000000000000000000000000000000002e-03, time of iteration is 1.29999999999999999999999999999998078e+00\n"
     ]
    }
   ],
   "source": [
    "finaltime=1.3\n",
    "evol_stats, T_interp = timeevolution(state_array,finaltime,dir*\"/res$res\",run);\n",
    "CSV.write(dir*\"/timearray$res.csv\", Tables.table(T_interp), writeheader=false);\n",
    "#CSV.write(dir*\"/parameters.csv\", Tables.table(evol_stats), writeheader=false);"
   ]
  },
  {
   "cell_type": "code",
   "execution_count": null,
   "id": "f552b8f8",
   "metadata": {},
   "outputs": [],
   "source": []
  },
  {
   "cell_type": "code",
   "execution_count": null,
   "id": "136d5012",
   "metadata": {},
   "outputs": [],
   "source": []
  },
  {
   "cell_type": "markdown",
   "id": "715897d3",
   "metadata": {
    "papermill": {
     "duration": 0.007626,
     "end_time": "2023-03-28T18:06:33.908346",
     "exception": false,
     "start_time": "2023-03-28T18:06:33.900720",
     "status": "completed"
    },
    "tags": []
   },
   "source": [
    " ## Movie of the evolution"
   ]
  },
  {
   "cell_type": "code",
   "execution_count": 359,
   "id": "973cea47",
   "metadata": {},
   "outputs": [
    {
     "ename": "LoadError",
     "evalue": "ArgumentError: \"/home/rita13santos/Desktop/MSc Thesis/Git/ScalarField/DATA/res2/time_step1020.csv\" is not a valid file or doesn't exist",
     "output_type": "error",
     "traceback": [
      "ArgumentError: \"/home/rita13santos/Desktop/MSc Thesis/Git/ScalarField/DATA/res2/time_step1020.csv\" is not a valid file or doesn't exist",
      "",
      "Stacktrace:",
      " [1] CSV.Context(source::CSV.Arg, header::CSV.Arg, normalizenames::CSV.Arg, datarow::CSV.Arg, skipto::CSV.Arg, footerskip::CSV.Arg, transpose::CSV.Arg, comment::CSV.Arg, ignoreemptyrows::CSV.Arg, ignoreemptylines::CSV.Arg, select::CSV.Arg, drop::CSV.Arg, limit::CSV.Arg, buffer_in_memory::CSV.Arg, threaded::CSV.Arg, ntasks::CSV.Arg, tasks::CSV.Arg, rows_to_check::CSV.Arg, lines_to_check::CSV.Arg, missingstrings::CSV.Arg, missingstring::CSV.Arg, delim::CSV.Arg, ignorerepeated::CSV.Arg, quoted::CSV.Arg, quotechar::CSV.Arg, openquotechar::CSV.Arg, closequotechar::CSV.Arg, escapechar::CSV.Arg, dateformat::CSV.Arg, dateformats::CSV.Arg, decimal::CSV.Arg, truestrings::CSV.Arg, falsestrings::CSV.Arg, stripwhitespace::CSV.Arg, type::CSV.Arg, types::CSV.Arg, typemap::CSV.Arg, pool::CSV.Arg, downcast::CSV.Arg, lazystrings::CSV.Arg, stringtype::CSV.Arg, strict::CSV.Arg, silencewarnings::CSV.Arg, maxwarnings::CSV.Arg, debug::CSV.Arg, parsingdebug::CSV.Arg, validate::CSV.Arg, streaming::CSV.Arg)",
      "   @ CSV ~/.julia/packages/CSV/b8ebJ/src/context.jl:306",
      " [2] #File#28",
      "   @ ~/.julia/packages/CSV/b8ebJ/src/file.jl:221 [inlined]",
      " [3] macro expansion",
      "   @ ./In[359]:8 [inlined]",
      " [4] top-level scope",
      "   @ ~/.julia/packages/Plots/bMtsB/src/animation.jl:251"
     ]
    }
   ],
   "source": [
    "using Plots, CSV, DataFrames\n",
    "import GR\n",
    "anim = @animate for n in 1020:10:3200\n",
    "    \n",
    "    \n",
    "    IJulia.clear_output(true)\n",
    "    \n",
    "    functions3=DataFrame(CSV.File(dir*\"/res$res/time_step$n.csv\",header=false, delim=\",\"))\n",
    "    plot()\n",
    "        plot1=functions3.Column1[4:L-3];\n",
    "        plot2=functions3.Column2[4:L-3];\n",
    "        plot3=functions3.Column3[4:L-3];\n",
    "        plot4=functions3.Column4[4:L-3];\n",
    "        plot5=functions3.Column5[4:L-3];\n",
    "    temp=round(n*dt,digits=2)\n",
    "    \n",
    "    plot!(initX1, [plot1 plot2 plot3 plot4], labels=[\"m\" \"beta\" \"psi\" \"psi,x\"],title=\"$temp\", ylim=[-0.001, 0.001],xlim=[0.0, 1])#, xlim=[0, 0.1])# |> display \n",
    "    #plot!(initX[4:L-3], [plot1], labels=[\"m\" \"beta\" \"psi\" \"psi,x\"],ylim=[-1,1])#, xlim=[0, 0.1]) |> display \n",
    "    \n",
    "    end\n",
    "\n",
    "gif(anim, \"anim_res$res.gif\", fps = 1200)"
   ]
  },
  {
   "cell_type": "code",
   "execution_count": 360,
   "id": "62360b75",
   "metadata": {},
   "outputs": [
    {
     "data": {
      "text/plain": [
       "7.81250000000000000000000000000000000e-03"
      ]
     },
     "execution_count": 360,
     "metadata": {},
     "output_type": "execute_result"
    }
   ],
   "source": [
    "epsilon(dt,dx)"
   ]
  },
  {
   "cell_type": "code",
   "execution_count": 361,
   "id": "97497886",
   "metadata": {},
   "outputs": [
    {
     "data": {
      "text/plain": [
       "3.12500000000000000000000000000000000e-02"
      ]
     },
     "execution_count": 361,
     "metadata": {},
     "output_type": "execute_result"
    }
   ],
   "source": [
    "twod_epsilon(dt,dx)"
   ]
  },
  {
   "cell_type": "code",
   "execution_count": 362,
   "id": "c6b8b7bc",
   "metadata": {},
   "outputs": [
    {
     "ename": "LoadError",
     "evalue": "ArgumentError: \"/home/rita13santos/Desktop/MSc Thesis/Git/ScalarField/DATA/res2/monitor_ratio10.csv\" is not a valid file or doesn't exist",
     "output_type": "error",
     "traceback": [
      "ArgumentError: \"/home/rita13santos/Desktop/MSc Thesis/Git/ScalarField/DATA/res2/monitor_ratio10.csv\" is not a valid file or doesn't exist",
      "",
      "Stacktrace:",
      " [1] CSV.Context(source::CSV.Arg, header::CSV.Arg, normalizenames::CSV.Arg, datarow::CSV.Arg, skipto::CSV.Arg, footerskip::CSV.Arg, transpose::CSV.Arg, comment::CSV.Arg, ignoreemptyrows::CSV.Arg, ignoreemptylines::CSV.Arg, select::CSV.Arg, drop::CSV.Arg, limit::CSV.Arg, buffer_in_memory::CSV.Arg, threaded::CSV.Arg, ntasks::CSV.Arg, tasks::CSV.Arg, rows_to_check::CSV.Arg, lines_to_check::CSV.Arg, missingstrings::CSV.Arg, missingstring::CSV.Arg, delim::CSV.Arg, ignorerepeated::CSV.Arg, quoted::CSV.Arg, quotechar::CSV.Arg, openquotechar::CSV.Arg, closequotechar::CSV.Arg, escapechar::CSV.Arg, dateformat::CSV.Arg, dateformats::CSV.Arg, decimal::CSV.Arg, truestrings::CSV.Arg, falsestrings::CSV.Arg, stripwhitespace::CSV.Arg, type::CSV.Arg, types::CSV.Arg, typemap::CSV.Arg, pool::CSV.Arg, downcast::CSV.Arg, lazystrings::CSV.Arg, stringtype::CSV.Arg, strict::CSV.Arg, silencewarnings::CSV.Arg, maxwarnings::CSV.Arg, debug::CSV.Arg, parsingdebug::CSV.Arg, validate::CSV.Arg, streaming::CSV.Arg)",
      "   @ CSV ~/.julia/packages/CSV/b8ebJ/src/context.jl:306",
      " [2] #File#28",
      "   @ ~/.julia/packages/CSV/b8ebJ/src/file.jl:221 [inlined]",
      " [3] macro expansion",
      "   @ ./In[362]:7 [inlined]",
      " [4] top-level scope",
      "   @ ~/.julia/packages/Plots/bMtsB/src/animation.jl:251"
     ]
    }
   ],
   "source": [
    "using Plots, CSV, DataFrames\n",
    "import GR\n",
    "anim = @animate for n in 10:10:1000#length(T)-1\n",
    "    \n",
    "    IJulia.clear_output(true)\n",
    "    \n",
    "    functions3=DataFrame(CSV.File(dir*\"/res$res/monitor_ratio$n.csv\",header=false, delim=\",\"))\n",
    "    plot()\n",
    "        plot1=functions3.Column1[4:L-3];\n",
    "    \n",
    "    plot!(initX1, [plot1], labels=[\"monitor ratio\"], ylim=[0, 1])# |> display \n",
    "    #plot!(initX[4:L-3], [plot1], labels=[\"m\" \"beta\" \"psi\" \"psi,x\"],ylim=[-1,1])#, xlim=[0, 0.1]) |> display \n",
    "    \n",
    "    end\n",
    "\n",
    "gif(anim, \"anim_res$res.gif\", fps = 5)"
   ]
  },
  {
   "cell_type": "code",
   "execution_count": 363,
   "id": "8917b35a",
   "metadata": {},
   "outputs": [
    {
     "data": {
      "text/plain": [
       "7.81250000000000000000000000000000000e-03"
      ]
     },
     "execution_count": 363,
     "metadata": {},
     "output_type": "execute_result"
    }
   ],
   "source": [
    "epsilon(dt,dx)"
   ]
  },
  {
   "cell_type": "code",
   "execution_count": 147,
   "id": "f2ce4c53",
   "metadata": {},
   "outputs": [
    {
     "data": {
      "text/plain": [
       "0.3125"
      ]
     },
     "execution_count": 147,
     "metadata": {},
     "output_type": "execute_result"
    }
   ],
   "source": [
    "twod_epsilon(dt,dx)"
   ]
  },
  {
   "cell_type": "code",
   "execution_count": null,
   "id": "2a9f33b5",
   "metadata": {},
   "outputs": [],
   "source": []
  },
  {
   "cell_type": "code",
   "execution_count": null,
   "id": "e9241707",
   "metadata": {},
   "outputs": [],
   "source": []
  }
 ],
 "metadata": {
  "@webio": {
   "lastCommId": null,
   "lastKernelId": null
  },
  "kernelspec": {
   "display_name": "Julia 1.8.0",
   "language": "julia",
   "name": "julia-1.8"
  },
  "language_info": {
   "file_extension": ".jl",
   "mimetype": "application/julia",
   "name": "julia",
   "version": "1.8.0"
  },
  "papermill": {
   "default_parameters": {},
   "duration": 7025.507115,
   "end_time": "2023-03-28T20:03:06.430756",
   "environment_variables": {},
   "exception": null,
   "input_path": "Evolution_ScalarField.ipynb",
   "output_path": "Evolution_ScalarField.ipynb",
   "parameters": {
    "A": 0.001,
    "m": 3
   },
   "start_time": "2023-03-28T18:06:00.923641",
   "version": "2.4.0"
  }
 },
 "nbformat": 4,
 "nbformat_minor": 5
}
