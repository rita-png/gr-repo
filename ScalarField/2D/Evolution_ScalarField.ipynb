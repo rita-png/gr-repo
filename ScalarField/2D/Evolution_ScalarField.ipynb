{
 "cells": [
  {
   "cell_type": "markdown",
   "id": "d88601a8",
   "metadata": {
    "papermill": {
     "duration": 0.010813,
     "end_time": "2023-03-28T18:06:09.878411",
     "exception": false,
     "start_time": "2023-03-28T18:06:09.867598",
     "status": "completed"
    },
    "tags": []
   },
   "source": [
    "# Evolution of Einstein's equations"
   ]
  },
  {
   "cell_type": "markdown",
   "id": "03c607c7",
   "metadata": {
    "papermill": {
     "duration": 0.006777,
     "end_time": "2023-03-28T18:06:09.893152",
     "exception": false,
     "start_time": "2023-03-28T18:06:09.886375",
     "status": "completed"
    },
    "tags": []
   },
   "source": [
    "# Initial data , setting length of the domain and discretization\n"
   ]
  },
  {
   "cell_type": "markdown",
   "id": "43aebde7",
   "metadata": {
    "execution": {
     "iopub.execute_input": "2023-03-28T19:06:10.907000Z",
     "iopub.status.busy": "2023-03-28T19:06:09.907000Z",
     "iopub.status.idle": "2023-03-28T19:06:12.147000Z",
     "shell.execute_reply": "2023-03-28T19:06:12.110000Z"
    },
    "papermill": {
     "duration": 2.251282,
     "end_time": "2023-03-28T18:06:12.151193",
     "exception": false,
     "start_time": "2023-03-28T18:06:09.899911",
     "status": "completed"
    },
    "tags": [
     "injected-parameters"
    ]
   },
   "source": [
    "# Parameters"
   ]
  },
  {
   "cell_type": "code",
   "execution_count": 58,
   "id": "28f9b745",
   "metadata": {},
   "outputs": [
    {
     "data": {
      "text/plain": [
       "1"
      ]
     },
     "execution_count": 58,
     "metadata": {},
     "output_type": "execute_result"
    }
   ],
   "source": [
    "m = 1\n",
    "A = 0.05#55#0.05#0.049375#0.07#0.05#0.1124921875#0.125\n",
    "run = 1"
   ]
  },
  {
   "cell_type": "code",
   "execution_count": 59,
   "id": "80a113e0",
   "metadata": {},
   "outputs": [],
   "source": [
    "using Quadmath, Printf\n",
    "\n",
    "res=m;\n",
    "N=2.0^m*400.0/2.0\n",
    "Xf=1.0#Float128(1.0);\n",
    "\n",
    "dx=Xf/N#Float128(Xf/N);\n",
    "dt=0.5*round(dx,digits=10)#0.5*dx#round(dx,digits=10);#dx\n",
    "Nt=2.0^m*400.0/2.0\n",
    "Tf=Nt*dt; #final time\n",
    "#print(Tf)"
   ]
  },
  {
   "cell_type": "code",
   "execution_count": 60,
   "id": "4f752d54",
   "metadata": {
    "execution": {
     "iopub.execute_input": "2023-03-28T19:06:12.356000Z",
     "iopub.status.busy": "2023-03-28T19:06:12.356000Z",
     "iopub.status.idle": "2023-03-28T19:06:12.364000Z",
     "shell.execute_reply": "2023-03-28T19:06:12.364000Z"
    },
    "papermill": {
     "duration": 0.020815,
     "end_time": "2023-03-28T18:06:12.368761",
     "exception": false,
     "start_time": "2023-03-28T18:06:12.347946",
     "status": "completed"
    },
    "tags": []
   },
   "outputs": [
    {
     "name": "stdout",
     "output_type": "stream",
     "text": [
      "400.0"
     ]
    }
   ],
   "source": [
    "print(N)"
   ]
  },
  {
   "cell_type": "code",
   "execution_count": 61,
   "id": "78fb78a5",
   "metadata": {
    "execution": {
     "iopub.execute_input": "2023-03-28T19:06:12.419000Z",
     "iopub.status.busy": "2023-03-28T19:06:12.419000Z",
     "iopub.status.idle": "2023-03-28T19:06:13.308000Z",
     "shell.execute_reply": "2023-03-28T19:06:13.308000Z"
    },
    "papermill": {
     "duration": 0.90283,
     "end_time": "2023-03-28T18:06:13.314381",
     "exception": false,
     "start_time": "2023-03-28T18:06:12.411551",
     "status": "completed"
    },
    "tags": []
   },
   "outputs": [
    {
     "data": {
      "text/plain": [
       "\"/home/rita13santos/Desktop/MSc Thesis/Git/ScalarField/DATA\""
      ]
     },
     "execution_count": 61,
     "metadata": {},
     "output_type": "execute_result"
    }
   ],
   "source": [
    "global dir = \"/home/rita13santos/Desktop/MSc Thesis/Git/ScalarField/DATA\"\n",
    "#global dir = \"/home/rita13santos/Desktop/MSc Thesis/Git/ScalarField/DATA\""
   ]
  },
  {
   "cell_type": "markdown",
   "id": "e2dd4335",
   "metadata": {
    "papermill": {
     "duration": 0.007006,
     "end_time": "2023-03-28T18:06:13.351329",
     "exception": false,
     "start_time": "2023-03-28T18:06:13.344323",
     "status": "completed"
    },
    "tags": []
   },
   "source": [
    "# Grid"
   ]
  },
  {
   "cell_type": "code",
   "execution_count": 62,
   "id": "bc5288f8",
   "metadata": {
    "execution": {
     "iopub.execute_input": "2023-03-28T19:06:13.636000Z",
     "iopub.status.busy": "2023-03-28T19:06:13.636000Z",
     "iopub.status.idle": "2023-03-28T19:06:14.762000Z",
     "shell.execute_reply": "2023-03-28T19:06:14.762000Z"
    },
    "papermill": {
     "duration": 1.137394,
     "end_time": "2023-03-28T18:06:14.765909",
     "exception": false,
     "start_time": "2023-03-28T18:06:13.628515",
     "status": "completed"
    },
    "tags": []
   },
   "outputs": [],
   "source": [
    "include(\"./ScalarField.jl\");"
   ]
  },
  {
   "cell_type": "code",
   "execution_count": 63,
   "id": "de24fea3",
   "metadata": {
    "execution": {
     "iopub.execute_input": "2023-03-28T19:06:13.366000Z",
     "iopub.status.busy": "2023-03-28T19:06:13.366000Z",
     "iopub.status.idle": "2023-03-28T19:06:13.571000Z",
     "shell.execute_reply": "2023-03-28T19:06:13.571000Z"
    },
    "papermill": {
     "duration": 0.216104,
     "end_time": "2023-03-28T18:06:13.574666",
     "exception": false,
     "start_time": "2023-03-28T18:06:13.358562",
     "status": "completed"
    },
    "tags": []
   },
   "outputs": [
    {
     "name": "stdout",
     "output_type": "stream",
     "text": [
      "step size is  0.0025\n",
      "the time step is 0.00125\n"
     ]
    }
   ],
   "source": [
    "ori=0.0#Float128(0.0)#0.0;\n",
    "initX1 = nothing\n",
    "N=int(N)\n",
    "initX1=range(ori, stop=Xf, step=dx);\n",
    "#initX1=create_range(ori,Xf,dx,N)\n",
    "initX = range(round(ori-3.0*dx,digits=10), stop=Xf+3.0*dx, step=round(dx,digits=10))\n",
    "#initX=create_range(ori-3.0*dx,Xf+3.0*dx,dx,N+6)\n",
    "\n",
    "L=length(initX);\n",
    "println(\"step size is  \", dx)\n",
    "println(\"the time step is \", dt)"
   ]
  },
  {
   "cell_type": "markdown",
   "id": "80ab1480",
   "metadata": {
    "papermill": {
     "duration": 0.007525,
     "end_time": "2023-03-28T18:06:14.783937",
     "exception": false,
     "start_time": "2023-03-28T18:06:14.776412",
     "status": "completed"
    },
    "tags": []
   },
   "source": [
    "# Initial data of m β Ψ and Ψ,x"
   ]
  },
  {
   "cell_type": "code",
   "execution_count": 64,
   "id": "d0af654c",
   "metadata": {
    "execution": {
     "iopub.execute_input": "2023-03-28T19:06:14.799000Z",
     "iopub.status.busy": "2023-03-28T19:06:14.799000Z",
     "iopub.status.idle": "2023-03-28T19:06:22.269000Z",
     "shell.execute_reply": "2023-03-28T19:06:22.269000Z"
    },
    "papermill": {
     "duration": 7.48258,
     "end_time": "2023-03-28T18:06:22.273970",
     "exception": false,
     "start_time": "2023-03-28T18:06:14.791390",
     "status": "completed"
    },
    "tags": []
   },
   "outputs": [],
   "source": [
    "using Dierckx\n",
    "\n",
    "\n",
    "####\n",
    "\n",
    "initm=zeros(L)\n",
    "initbeta=zeros(L)\n",
    "initpsi=zeros(L)\n",
    "initderpsi=zeros(L)\n",
    "#initm=Array{Float128}(undef, L)\n",
    "#initbeta=Array{Float128}(undef, L)\n",
    "#initpsi=Array{Float128}(undef, L)\n",
    "#initderpsi=Array{Float128}(undef, L)\n",
    "\n",
    "state_array=[initm initbeta initpsi initderpsi initX];\n",
    "\n",
    "#PSI\n",
    "r0=0.7#0.01#0.7#0.01#0.7#0.7#0.7#0.01#0.7#0.3\n",
    "sigma=0.3\n",
    "initpsi[4:L-3] = init_gaussian(initX1,r0,sigma,A)\n",
    "\n",
    "state_array[:,3] = initpsi\n",
    "state_array = ghost(state_array)\n",
    "\n",
    "#PSI,X FROM PSI\n",
    "initderpsi[4:L-3] = init_gaussian_der(initX1,r0,sigma,A)\n",
    "state_array[:,4] = initderpsi\n",
    "state_array=ghost(state_array)\n",
    "\n",
    "####\n",
    "\n",
    "derpsi_func = Spline1D(initX[4:L-3], state_array[4:L-3,4],  k=4);"
   ]
  },
  {
   "cell_type": "code",
   "execution_count": 65,
   "id": "bbcb9b09",
   "metadata": {},
   "outputs": [],
   "source": [
    "derpsi_func(state_array[:,5]); #doesnt output the quad precision"
   ]
  },
  {
   "cell_type": "code",
   "execution_count": 66,
   "id": "78cfbd6e",
   "metadata": {},
   "outputs": [],
   "source": [
    "y0=[0 0 0]\n",
    "state_array[4:L-3,1:3] = twod_n_rk4wrapper(RHS,y0,initX[4:L-3],0,derpsi_func,state_array[:,:]);\n",
    "\n",
    "state_array = ghost(state_array);"
   ]
  },
  {
   "cell_type": "code",
   "execution_count": 67,
   "id": "48f10a76",
   "metadata": {
    "execution": {
     "iopub.execute_input": "2023-03-28T19:06:25.312000Z",
     "iopub.status.busy": "2023-03-28T19:06:25.312000Z",
     "iopub.status.idle": "2023-03-28T19:06:25.348000Z",
     "shell.execute_reply": "2023-03-28T19:06:25.347000Z"
    },
    "papermill": {
     "duration": 0.048534,
     "end_time": "2023-03-28T18:06:25.352888",
     "exception": false,
     "start_time": "2023-03-28T18:06:25.304354",
     "status": "completed"
    },
    "tags": []
   },
   "outputs": [
    {
     "data": {
      "text/plain": [
       "\"using Plots #showing initial data and the initial status of the horizon finder\\nplot(initX[4:L-3], state_array[4:L-3,1:4], xaxis=\\\"x\\\",title=\\\"Initial Data\\\", labels=[\\\"m\\\" \\\"beta\\\" \\\"psi\\\" \\\"psi,x\\\"])\""
      ]
     },
     "execution_count": 67,
     "metadata": {},
     "output_type": "execute_result"
    }
   ],
   "source": [
    "\"\"\"using Plots #showing initial data and the initial status of the horizon finder\n",
    "plot(initX[4:L-3], state_array[4:L-3,1:4], xaxis=\"x\",title=\"Initial Data\", labels=[\"m\" \"beta\" \"psi\" \"psi,x\"])\"\"\""
   ]
  },
  {
   "cell_type": "markdown",
   "id": "9b444ece",
   "metadata": {
    "papermill": {
     "duration": 0.009161,
     "end_time": "2023-03-28T18:06:25.373170",
     "exception": false,
     "start_time": "2023-03-28T18:06:25.364009",
     "status": "completed"
    },
    "tags": []
   },
   "source": [
    "# Defining the initial state array for the evolution m β Ψ and Ψ,x"
   ]
  },
  {
   "cell_type": "code",
   "execution_count": 68,
   "id": "9902ffab",
   "metadata": {
    "execution": {
     "iopub.execute_input": "2023-03-28T19:06:25.389000Z",
     "iopub.status.busy": "2023-03-28T19:06:25.388000Z",
     "iopub.status.idle": "2023-03-28T19:06:32.710000Z",
     "shell.execute_reply": "2023-03-28T19:06:32.710000Z"
    },
    "papermill": {
     "duration": 7.335269,
     "end_time": "2023-03-28T18:06:32.715990",
     "exception": false,
     "start_time": "2023-03-28T18:06:25.380721",
     "status": "completed"
    },
    "tags": []
   },
   "outputs": [],
   "source": [
    "using CSV, Tables\n",
    "CSV.write(dir*\"/res$res/time_step0.csv\", Tables.table(state_array), writeheader=false)\n",
    "\n",
    "open(dir*\"/res$res/data.txt\", \"w\") do file\n",
    "    print_muninn(file, 0, state_array[:,1:5])\n",
    "end"
   ]
  },
  {
   "cell_type": "code",
   "execution_count": 69,
   "id": "fff1426a",
   "metadata": {
    "execution": {
     "iopub.execute_input": "2023-03-28T19:06:33.154000Z",
     "iopub.status.busy": "2023-03-28T19:06:32.734000Z",
     "iopub.status.idle": "2023-03-28T19:06:33.884000Z",
     "shell.execute_reply": "2023-03-28T19:06:33.884000Z"
    },
    "papermill": {
     "duration": 1.164178,
     "end_time": "2023-03-28T18:06:33.889802",
     "exception": false,
     "start_time": "2023-03-28T18:06:32.725624",
     "status": "completed"
    },
    "tags": []
   },
   "outputs": [
    {
     "data": {
      "text/plain": [
       "\"/home/rita13santos/Desktop/MSc Thesis/Git/ScalarField/DATA/parameters.csv\""
      ]
     },
     "execution_count": 69,
     "metadata": {},
     "output_type": "execute_result"
    }
   ],
   "source": [
    "time=0.0\n",
    "criticality=0.0\n",
    "explode=0.0\n",
    "evol_stats = [criticality A sigma r0 time explode run]\n",
    "monitor_ratio = zeros(L)\n",
    "CSV.write(dir*\"/parameters.csv\", Tables.table(evol_stats), writeheader=true, header=[\"criticality\", \"A\", \"sigma\", \"r0\", \"time\", \"explode\", \"run\"])"
   ]
  },
  {
   "cell_type": "code",
   "execution_count": 70,
   "id": "9e9abd7d",
   "metadata": {},
   "outputs": [
    {
     "name": "stdout",
     "output_type": "stream",
     "text": [
      "2.0\n"
     ]
    }
   ],
   "source": [
    "ginit=dt_scale(initX,state_array[:,1],state_array[:,2],dx)\n",
    "println(update_dt(initX,state_array[:,1],state_array[:,2],dx,ginit)/dt)"
   ]
  },
  {
   "cell_type": "code",
   "execution_count": 71,
   "id": "4e0df300",
   "metadata": {},
   "outputs": [
    {
     "data": {
      "text/plain": [
       "4"
      ]
     },
     "execution_count": 71,
     "metadata": {},
     "output_type": "execute_result"
    }
   ],
   "source": [
    "using Base.Threads\n",
    "Threads.nthreads()"
   ]
  },
  {
   "cell_type": "markdown",
   "id": "42e2c73d",
   "metadata": {
    "papermill": {
     "duration": 0.007626,
     "end_time": "2023-03-28T18:06:33.908346",
     "exception": false,
     "start_time": "2023-03-28T18:06:33.900720",
     "status": "completed"
    },
    "tags": []
   },
   "source": [
    " ## Time evolution"
   ]
  },
  {
   "cell_type": "markdown",
   "id": "7da47594",
   "metadata": {
    "papermill": {
     "duration": 0.007471,
     "end_time": "2023-03-28T18:06:33.923805",
     "exception": false,
     "start_time": "2023-03-28T18:06:33.916334",
     "status": "completed"
    },
    "tags": []
   },
   "source": [
    "fixed grid"
   ]
  },
  {
   "cell_type": "code",
   "execution_count": 72,
   "id": "fcb7ae3f",
   "metadata": {
    "execution": {
     "iopub.execute_input": "2023-03-28T19:06:33.940000Z",
     "iopub.status.busy": "2023-03-28T19:06:33.940000Z",
     "iopub.status.idle": "2023-03-28T21:02:19.379000Z",
     "shell.execute_reply": "2023-03-28T21:02:19.378000Z"
    },
    "papermill": {
     "duration": 6945.452732,
     "end_time": "2023-03-28T20:02:19.384591",
     "exception": false,
     "start_time": "2023-03-28T18:06:33.931859",
     "status": "completed"
    },
    "tags": []
   },
   "outputs": [
    {
     "name": "stdout",
     "output_type": "stream",
     "text": [
      "\n",
      "\n",
      "iteration 10 dt is 0.0012500000000000013, time of iteration is 0.012500000000000008\n",
      "\n",
      "\n",
      "iteration 20 dt is 0.001250000000000003, time of iteration is 0.025000000000000026\n",
      "\n",
      "\n",
      "iteration 30 dt is 0.0012500000000000046, time of iteration is 0.03750000000000006\n",
      "\n",
      "\n",
      "iteration 40 dt is 0.001250000000000006, time of iteration is 0.05000000000000014\n",
      "\n",
      "\n",
      "iteration 50 dt is 0.0012500000000000078, time of iteration is 0.06250000000000022\n",
      "\n",
      "\n",
      "iteration 60 dt is 0.0012500000000000096, time of iteration is 0.07500000000000034\n",
      "\n",
      "\n",
      "iteration 70 dt is 0.0012500000000000109, time of iteration is 0.0875000000000005\n",
      "\n",
      "\n",
      "iteration 80 dt is 0.0012500000000000133, time of iteration is 0.10000000000000064\n",
      "\n",
      "\n",
      "iteration 90 dt is 0.0012500000000000143, time of iteration is 0.1125000000000008\n",
      "\n",
      "\n",
      "iteration 100 dt is 0.0012500000000000165, time of iteration is 0.12500000000000094\n",
      "\n",
      "\n",
      "iteration 110 dt is 0.0012500000000000185, time of iteration is 0.13750000000000123\n",
      "\n",
      "\n",
      "iteration 120 dt is 0.0012500000000000206, time of iteration is 0.15000000000000152\n",
      "\n",
      "\n",
      "iteration 130 dt is 0.0012500000000000224, time of iteration is 0.1625000000000018\n",
      "\n",
      "\n",
      "iteration 140 dt is 0.0012500000000000237, time of iteration is 0.1750000000000021\n",
      "\n",
      "\n",
      "iteration 150 dt is 0.0012500000000000263, time of iteration is 0.1875000000000024\n",
      "\n",
      "\n",
      "iteration 160 dt is 0.0012500000000000284, time of iteration is 0.20000000000000268\n",
      "\n",
      "\n",
      "iteration 170 dt is 0.0012500000000000302, time of iteration is 0.21250000000000296\n",
      "\n",
      "\n",
      "iteration 180 dt is 0.0012500000000000317, time of iteration is 0.22500000000000325\n",
      "\n",
      "\n",
      "iteration 190 dt is 0.0012500000000000332, time of iteration is 0.23750000000000354\n",
      "\n",
      "\n",
      "iteration 200 dt is 0.0012500000000000354, time of iteration is 0.25000000000000383\n",
      "\n",
      "\n",
      "iteration 210 dt is 0.0012500000000000367, time of iteration is 0.2625000000000041\n",
      "\n",
      "\n",
      "iteration 220 dt is 0.0012500000000000386, time of iteration is 0.2750000000000044\n",
      "\n",
      "\n",
      "iteration 230 dt is 0.0012500000000000417, time of iteration is 0.2875000000000047\n",
      "\n",
      "\n",
      "iteration 240 dt is 0.0012500000000000447, time of iteration is 0.300000000000005\n",
      "\n",
      "\n",
      "iteration 250 dt is 0.0012500000000000497, time of iteration is 0.3125000000000053\n",
      "\n",
      "\n",
      "iteration 260 dt is 0.0012500000000000575, time of iteration is 0.3250000000000056\n",
      "\n",
      "\n",
      "iteration 270 dt is 0.001250000000000068, time of iteration is 0.33750000000000646\n",
      "\n",
      "\n",
      "iteration 280 dt is 0.001250000000000091, time of iteration is 0.3500000000000073\n",
      "\n",
      "\n",
      "iteration 290 dt is 0.0012500000000001399, time of iteration is 0.3625000000000084\n",
      "\n",
      "\n",
      "iteration 300 dt is 0.00125000000000024, time of iteration is 0.3750000000000103\n",
      "\n",
      "\n",
      "iteration 310 dt is 0.0012500000000004504, time of iteration is 0.3875000000000138\n",
      "\n",
      "\n",
      "iteration 320 dt is 0.0012500000000008928, time of iteration is 0.40000000000002045\n",
      "\n",
      "\n",
      "iteration 330 dt is 0.00125000000000181, time of iteration is 0.4125000000000339\n",
      "\n",
      "\n",
      "iteration 340 dt is 0.001250000000003692, time of iteration is 0.42500000000006116\n",
      "\n",
      "\n",
      "iteration 350 dt is 0.0012500000000075105, time of iteration is 0.4375000000001169\n",
      "\n",
      "\n",
      "iteration 360 dt is 0.0012500000000151593, time of iteration is 0.4500000000002298\n",
      "\n",
      "\n",
      "iteration 370 dt is 0.0012500000000302863, time of iteration is 0.4625000000004562\n",
      "\n",
      "\n",
      "iteration 380 dt is 0.0012500000000597983, time of iteration is 0.47500000000090536\n",
      "\n",
      "\n",
      "iteration 390 dt is 0.0012500000001165737, time of iteration is 0.4875000000017855\n",
      "\n",
      "\n",
      "iteration 400 dt is 0.0012500000002242167, time of iteration is 0.5000000000034874\n",
      "\n",
      "\n",
      "iteration 410 dt is 0.0012500000004252053, time of iteration is 0.5125000000067332\n",
      "\n",
      "\n",
      "iteration 420 dt is 0.0012500000007945194, time of iteration is 0.5250000000128345\n",
      "\n",
      "\n",
      "iteration 430 dt is 0.001250000001461768, time of iteration is 0.5375000000241302\n",
      "\n",
      "\n",
      "iteration 440 dt is 0.001250000002645987, time of iteration is 0.550000000044712\n",
      "\n",
      "\n",
      "iteration 450 dt is 0.0012500000047083563, time of iteration is 0.5625000000815912\n",
      "\n",
      "\n",
      "iteration 460 dt is 0.0012500000082285327, time of iteration is 0.5750000001465188\n",
      "\n",
      "\n",
      "iteration 470 dt is 0.001250000014109235, time of iteration is 0.5875000002587203\n",
      "\n",
      "\n",
      "iteration 480 dt is 0.0012500000237093214, time of iteration is 0.6000000004488373\n",
      "\n",
      "\n",
      "iteration 490 dt is 0.0012500000389957012, time of iteration is 0.6125000007643161\n",
      "\n",
      "\n",
      "iteration 500 dt is 0.0012500000626862217, time of iteration is 0.6250000012763008\n",
      "\n",
      "\n",
      "iteration 510 dt is 0.0012500000983270757, time of iteration is 0.6375000020876544\n",
      "\n",
      "\n",
      "iteration 520 dt is 0.0012500001502101735, time of iteration is 0.6500000033409694\n",
      "\n",
      "\n",
      "iteration 530 dt is 0.0012500002229960576, time of iteration is 0.662500005224259\n",
      "\n",
      "\n",
      "iteration 540 dt is 0.0012500003208876479, time of iteration is 0.6750000079705286\n",
      "\n",
      "\n",
      "iteration 550 dt is 0.0012500004462410153, time of iteration is 0.6875000118460401\n",
      "\n",
      "\n",
      "iteration 560 dt is 0.001250000597665494, time of iteration is 0.7000000171217168\n",
      "\n",
      "\n",
      "iteration 570 dt is 0.0012500007680245325, time of iteration is 0.7125000240244582\n",
      "\n",
      "\n",
      "iteration 580 dt is 0.0012500009433029178, time of iteration is 0.7250000326721775\n",
      "\n",
      "\n",
      "iteration 590 dt is 0.0012500011038436354, time of iteration is 0.7375000430091776\n",
      "\n",
      "\n",
      "iteration 600 dt is 0.001250001229359907, time of iteration is 0.7500000547738878\n",
      "\n",
      "\n",
      "iteration 610 dt is 0.0012500013074024626, time of iteration is 0.7625000675372907\n",
      "\n",
      "\n",
      "iteration 620 dt is 0.00125000134113063, time of iteration is 0.7750000808275322\n",
      "\n",
      "\n",
      "iteration 630 dt is 0.001119876270903997, time of iteration is 0.7871120617453571\n",
      "\n",
      "\n",
      "iteration 640 dt is 0.0006997142466122427, time of iteration is 0.7960727284140005\n",
      "\n",
      "\n",
      "iteration 650 dt is 0.0003441490095649506, time of iteration is 0.8009781697231505\n",
      "\n",
      "\n",
      "iteration 660 dt is 0.0001503103867863267, time of iteration is 0.8032374754067747\n",
      "\n",
      "\n",
      "iteration 670 dt is 6.23093194348094e-5, time of iteration is 0.8041961248490561\n",
      "\n",
      "\n",
      "iteration 680 dt is 2.527684401279269e-5, time of iteration is 0.8045887909928409\n",
      "\n",
      "\n",
      "iteration 690 dt is 1.01644362164062e-5, time of iteration is 0.8047473112816842\n",
      "\n",
      "\n",
      "iteration 700 dt is 4.072978884756768e-6, time of iteration is 0.8048109318661317\n",
      "\n",
      "\n",
      "iteration 710 dt is 1.6297738605898927e-6, time of iteration is 0.8048364052648422\n",
      "\n",
      "\n",
      "iteration 720 dt is 6.517739327932799e-7, time of iteration is 0.8048465950772735\n",
      "\n",
      "\n",
      "iteration 730 dt is 2.6059640960448516e-7, time of iteration is 0.8048506696444665\n",
      "\n",
      "\n",
      "iteration 740 dt is 1.0418389896835493e-7, time of iteration is 0.8048522986823963\n",
      "\n",
      "\n",
      "iteration 750 dt is 4.165019972469275e-8, time of iteration is 0.8048529499428211\n",
      "\n",
      "\n",
      "iteration 760 dt is 1.6650500597891005e-8, time of iteration is 0.8048532102988851\n",
      "\n",
      "\n",
      "iteration 770 dt is 6.656332276655914e-9, time of iteration is 0.8048533143810974\n",
      "\n",
      "\n",
      "iteration 780 dt is 2.6609804795491495e-9, time of iteration is 0.8048533559897505\n",
      "\n",
      "\n",
      "iteration 790 dt is 1.0637705994453466e-9, time of iteration is 0.8048533726234991\n",
      "\n",
      "\n",
      "iteration 800 dt is 4.252595910935344e-10, time of iteration is 0.8048533792731114\n",
      "\n",
      "\n",
      "iteration 810 dt is 1.70004410003005e-10, time of iteration is 0.8048533819314019\n",
      "\n",
      "\n",
      "iteration 820 dt is 6.796201266533832e-11, time of iteration is 0.8048533829940964\n",
      "\n",
      "\n",
      "iteration 830 dt is 2.7168913186100636e-11, time of iteration is 0.8048533834189259\n",
      "\n",
      "\n",
      "iteration 840 dt is 1.0861212136130558e-11, time of iteration is 0.8048533835887584\n",
      "\n",
      "\n",
      "iteration 850 dt is 4.341945068376789e-12, time of iteration is 0.8048533836566515\n",
      "\n",
      "\n",
      "iteration 860 dt is 1.7357627042096389e-12, time of iteration is 0.8048533836837928\n",
      "\n",
      "\n",
      "iteration 870 dt is 6.93899189433386e-13, time of iteration is 0.804853383694643\n",
      "\n",
      "\n",
      "iteration 880 dt is 2.773974137205851e-13, time of iteration is 0.8048533836989806\n",
      "\n",
      "\n",
      "iteration 890 dt is 1.108940985999688e-13, time of iteration is 0.8048533837007147\n",
      "\n",
      "\n",
      "iteration 900 dt is 4.433170785151389e-14, time of iteration is 0.8048533837014079\n",
      "\n",
      "\n",
      "iteration 910 dt is 1.772231656881253e-14, time of iteration is 0.8048533837016849\n",
      "\n",
      "\n",
      "iteration 920 dt is 7.084782422893952e-15, time of iteration is 0.8048533837017958\n",
      "\n",
      "\n",
      "iteration 930 dt is 2.832256256383247e-15, time of iteration is 0.8048533837018401\n",
      "\n",
      "\n",
      "iteration 940 dt is 1.1322402048498628e-15, time of iteration is 0.8048533837018577\n",
      "\n",
      "\n",
      "iteration 950 dt is 4.526313177307686e-16, time of iteration is 0.8048533837018645\n",
      "\n",
      "\n",
      "iteration 960 dt is 1.8094668332134274e-16, time of iteration is 0.8048533837018674\n",
      "\n",
      "\n",
      "iteration 970 dt is 7.233636057076263e-17, time of iteration is 0.8048533837018685\n"
     ]
    },
    {
     "name": "stdout",
     "output_type": "stream",
     "text": [
      "\n",
      "\n",
      "iteration 980 dt is 2.891762901965324e-17, time of iteration is 0.8048533837018688\n",
      "\n",
      "\n",
      "iteration 990 dt is 1.1560289479870286e-17, time of iteration is 0.8048533837018688\n",
      "\n",
      "\n",
      "iteration 1000 dt is 4.621412522014646e-18, time of iteration is 0.8048533837018688\n",
      "\n",
      "\n",
      "iteration 1010 dt is 1.8474843329678814e-18, time of iteration is 0.8048533837018688\n",
      "\n",
      "\n",
      "iteration 1020 dt is 7.385617155583067e-19, time of iteration is 0.8048533837018688\n",
      "\n",
      "\n",
      "iteration 1030 dt is 2.9525198019522916e-19, time of iteration is 0.8048533837018688\n",
      "\n",
      "\n",
      "iteration 1040 dt is 1.1803175005260882e-19, time of iteration is 0.8048533837018688\n",
      "\n",
      "\n",
      "iteration 1050 dt is 4.718509935570834e-20, time of iteration is 0.8048533837018688\n",
      "\n",
      "\n",
      "iteration 1060 dt is 1.886300593031711e-20, time of iteration is 0.8048533837018688\n",
      "\n",
      "\n",
      "iteration 1070 dt is 7.540791427498247e-21, time of iteration is 0.8048533837018688\n",
      "\n",
      "\n",
      "iteration 1080 dt is 3.0145532246076704e-21, time of iteration is 0.8048533837018688\n",
      "\n",
      "\n",
      "iteration 1090 dt is 1.205116363629143e-21, time of iteration is 0.8048533837018688\n",
      "\n",
      "\n",
      "iteration 1100 dt is 4.817647398067553e-22, time of iteration is 0.8048533837018688\n",
      "\n",
      "\n",
      "iteration 1110 dt is 1.9259323956246205e-22, time of iteration is 0.8048533837018688\n",
      "\n",
      "\n",
      "iteration 1120 dt is 7.699225962456742e-23, time of iteration is 0.8048533837018688\n",
      "\n",
      "\n",
      "iteration 1130 dt is 3.077889990097126e-23, time of iteration is 0.8048533837018688\n",
      "\n",
      "\n",
      "iteration 1140 dt is 1.2304362590908058e-23, time of iteration is 0.8048533837018688\n",
      "\n",
      "\n",
      "iteration 1150 dt is 4.9188677716112976e-24, time of iteration is 0.8048533837018688\n",
      "\n",
      "\n",
      "iteration 1160 dt is 1.966396875566285e-24, time of iteration is 0.8048533837018688\n",
      "\n",
      "\n",
      "iteration 1170 dt is 7.860989259669019e-25, time of iteration is 0.8048533837018688\n",
      "\n",
      "\n",
      "iteration 1180 dt is 3.1425574820869174e-25, time of iteration is 0.8048533837018688\n",
      "\n",
      "\n",
      "iteration 1190 dt is 1.2562881339741548e-25, time of iteration is 0.8048533837018688\n",
      "\n",
      "\n",
      "iteration 1200 dt is 5.0222148188556583e-26, time of iteration is 0.8048533837018688\n",
      "\n",
      "\n",
      "iteration 1210 dt is 2.0077115276846407e-26, time of iteration is 0.8048533837018688\n",
      "\n",
      "\n",
      "iteration 1220 dt is 8.026151257536729e-27, time of iteration is 0.8048533837018688\n",
      "\n",
      "\n",
      "iteration 1230 dt is 3.2085836595832406e-27, time of iteration is 0.8048533837018688\n",
      "\n",
      "\n",
      "iteration 1240 dt is 1.2826831653437063e-27, time of iteration is 0.8048533837018688\n",
      "\n",
      "\n",
      "iteration 1250 dt is 5.12773322192214e-28, time of iteration is 0.8048533837018688\n",
      "\n",
      "\n",
      "iteration 1260 dt is 2.049894214379776e-28, time of iteration is 0.8048533837018688\n",
      "\n",
      "\n",
      "iteration 1270 dt is 8.194783363890617e-29, time of iteration is 0.8048533837018688\n",
      "\n",
      "\n",
      "iteration 1280 dt is 3.275997069020312e-29, time of iteration is 0.8048533837018688\n",
      "\n",
      "\n",
      "iteration 1290 dt is 1.3096327650978186e-29, time of iteration is 0.8048533837018688\n",
      "\n",
      "\n",
      "iteration 1300 dt is 5.235468601718471e-30, time of iteration is 0.8048533837018688\n",
      "\n",
      "\n",
      "iteration 1310 dt is 2.09296317334674e-30, time of iteration is 0.8048533837018688\n",
      "\n",
      "\n",
      "iteration 1320 dt is 8.366958486863658e-31, time of iteration is 0.8048533837018688\n",
      "\n",
      "\n",
      "iteration 1330 dt is 3.344826856602408e-31, time of iteration is 0.8048533837018688\n",
      "\n",
      "\n",
      "iteration 1340 dt is 1.337148584902625e-31, time of iteration is 0.8048533837018688\n",
      "\n",
      "\n",
      "iteration 1350 dt is 5.345467537662815e-32, time of iteration is 0.8048533837018688\n",
      "\n",
      "\n",
      "iteration 1360 dt is 2.136937025460622e-32, time of iteration is 0.8048533837018688\n",
      "\n",
      "\n",
      "iteration 1370 dt is 8.54275106641297e-33, time of iteration is 0.8048533837018688\n",
      "\n",
      "\n",
      "iteration 1380 dt is 3.415102780905263e-33, time of iteration is 0.8048533837018688\n",
      "\n",
      "\n",
      "iteration 1390 dt is 1.3652425212296432e-33, time of iteration is 0.8048533837018688\n",
      "\n",
      "\n",
      "iteration 1400 dt is 5.457777587822407e-34, time of iteration is 0.8048533837018688\n",
      "\n",
      "\n",
      "iteration 1410 dt is 2.1818347828272875e-34, time of iteration is 0.8048533837018688\n",
      "\n",
      "\n",
      "iteration 1420 dt is 8.722237106503903e-35, time of iteration is 0.8048533837018688\n",
      "\n",
      "\n",
      "iteration 1430 dt is 3.486855225742169e-35, time of iteration is 0.8048533837018688\n",
      "\n",
      "\n",
      "iteration 1440 dt is 1.3939267204992063e-35, time of iteration is 0.8048533837018688\n",
      "\n",
      "\n",
      "iteration 1450 dt is 5.5724473094752675e-36, time of iteration is 0.8048533837018688\n",
      "\n",
      "\n",
      "iteration 1460 dt is 2.2276758570032615e-36, time of iteration is 0.8048533837018688\n",
      "\n",
      "\n",
      "iteration 1470 dt is 8.905494207970385e-37, time of iteration is 0.8048533837018688\n",
      "\n",
      "\n",
      "iteration 1480 dt is 3.560115213300441e-37, time of iteration is 0.8048533837018688\n",
      "\n",
      "\n",
      "iteration 1490 dt is 1.4232135843319825e-37, time of iteration is 0.8048533837018688\n",
      "\n",
      "\n",
      "iteration 1500 dt is 5.689526280103993e-38, time of iteration is 0.8048533837018688\n",
      "\n",
      "\n",
      "iteration 1510 dt is 2.2744800673883323e-38, time of iteration is 0.8048533837018688\n",
      "\n",
      "\n",
      "iteration 1520 dt is 9.092601602065679e-39, time of iteration is 0.8048533837018688\n",
      "\n",
      "\n",
      "iteration 1530 dt is 3.634914417553864e-39, time of iteration is 0.8048533837018688\n",
      "\n",
      "\n",
      "iteration 1540 dt is 1.45311577491081e-39, time of iteration is 0.8048533837018688\n",
      "\n",
      "\n",
      "iteration 1550 dt is 5.809065118830559e-40, time of iteration is 0.8048533837018688\n",
      "\n",
      "\n",
      "iteration 1560 dt is 2.322267649794465e-40, time of iteration is 0.8048533837018688\n",
      "\n",
      "\n",
      "iteration 1570 dt is 9.283640184718009e-41, time of iteration is 0.8048533837018688\n",
      "\n",
      "\n",
      "iteration 1580 dt is 3.711285177956943e-41, time of iteration is 0.8048533837018688\n",
      "\n",
      "\n",
      "iteration 1590 dt is 1.4836462204552007e-41, time of iteration is 0.8048533837018688\n",
      "\n",
      "\n",
      "iteration 1600 dt is 5.931115508301529e-42, time of iteration is 0.8048533837018688\n",
      "\n",
      "\n",
      "iteration 1610 dt is 2.3710592651947597e-42, time of iteration is 0.8048533837018688\n",
      "\n",
      "\n",
      "iteration 1620 dt is 9.47869255150595e-43, time of iteration is 0.8048533837018688\n",
      "\n",
      "\n",
      "iteration 1630 dt is 3.7892605134268715e-43, time of iteration is 0.8048533837018688\n",
      "\n",
      "\n",
      "iteration 1640 dt is 1.5148181208108542e-43, time of iteration is 0.8048533837018688\n",
      "\n",
      "\n",
      "iteration 1650 dt is 6.055730217033049e-44, time of iteration is 0.8048533837018688\n",
      "\n",
      "\n",
      "iteration 1660 dt is 2.4208760086562326e-44, time of iteration is 0.8048533837018688\n",
      "\n",
      "\n",
      "iteration 1670 dt is 9.677843033368645e-45, time of iteration is 0.8048533837018688\n",
      "\n",
      "\n",
      "iteration 1680 dt is 3.868874136619277e-45, time of iteration is 0.8048533837018688\n",
      "\n",
      "\n",
      "iteration 1690 dt is 1.5466449531566187e-45, time of iteration is 0.8048533837018688\n",
      "\n",
      "\n",
      "iteration 1700 dt is 6.182963122225342e-46, time of iteration is 0.8048533837018688\n",
      "\n",
      "\n",
      "iteration 1710 dt is 2.471739418460271e-46, time of iteration is 0.8048533837018688\n",
      "\n",
      "\n",
      "iteration 1720 dt is 9.881177733066308e-47, time of iteration is 0.8048533837018688\n",
      "\n",
      "\n",
      "iteration 1730 dt is 3.950160468503884e-47, time of iteration is 0.8048533837018688\n",
      "\n",
      "\n",
      "iteration 1740 dt is 1.5791404778313497e-47, time of iteration is 0.8048533837018688\n",
      "\n",
      "\n",
      "iteration 1750 dt is 6.312869233056505e-48, time of iteration is 0.8048533837018688\n",
      "\n",
      "\n",
      "iteration 1760 dt is 2.5236714854147134e-48, time of iteration is 0.8048533837018688\n",
      "\n",
      "\n",
      "iteration 1770 dt is 1.008878456240676e-48, time of iteration is 0.8048533837018688\n",
      "\n",
      "\n",
      "iteration 1780 dt is 4.033154653246434e-49, time of iteration is 0.8048533837018688\n",
      "\n",
      "\n",
      "iteration 1790 dt is 1.6123187442831973e-49, time of iteration is 0.8048533837018688\n",
      "\n",
      "\n",
      "iteration 1800 dt is 6.44550471446577e-50, time of iteration is 0.8048533837018688\n",
      "\n",
      "\n",
      "iteration 1810 dt is 2.5766946623615853e-50, time of iteration is 0.8048533837018688\n",
      "\n",
      "\n",
      "iteration 1820 dt is 1.0300753280254141e-50, time of iteration is 0.8048533837018688\n",
      "\n",
      "\n",
      "iteration 1830 dt is 4.1178925734032805e-51, time of iteration is 0.8048533837018688\n",
      "\n",
      "\n",
      "iteration 1840 dt is 1.6461940971438864e-51, time of iteration is 0.8048533837018688\n",
      "\n",
      "\n",
      "iteration 1850 dt is 6.580926911436403e-52, time of iteration is 0.8048533837018688\n",
      "\n",
      "\n",
      "iteration 1860 dt is 2.6308318738845817e-52, time of iteration is 0.8048533837018688\n",
      "\n",
      "\n",
      "iteration 1870 dt is 1.0517175531336165e-52, time of iteration is 0.8048533837018688\n",
      "\n",
      "\n",
      "iteration 1880 dt is 4.204410865435211e-53, time of iteration is 0.8048533837018688\n",
      "\n",
      "\n",
      "iteration 1890 dt is 1.6807811824306272e-53, time of iteration is 0.8048533837018688\n",
      "\n",
      "\n",
      "iteration 1900 dt is 6.719194373788847e-54, time of iteration is 0.8048533837018688\n",
      "\n",
      "\n",
      "iteration 1910 dt is 2.686106526220533e-54, time of iteration is 0.8048533837018688\n",
      "\n",
      "\n",
      "iteration 1920 dt is 1.0738144885866752e-54, time of iteration is 0.8048533837018688\n"
     ]
    },
    {
     "name": "stdout",
     "output_type": "stream",
     "text": [
      "\n",
      "\n",
      "iteration 1930 dt is 4.2927469355472376e-55, time of iteration is 0.8048533837018688\n",
      "\n",
      "\n",
      "iteration 1940 dt is 1.716094953878318e-55, time of iteration is 0.8048533837018688\n",
      "\n",
      "\n",
      "iteration 1950 dt is 6.860366881494732e-56, time of iteration is 0.8048533837018688\n",
      "\n",
      "\n",
      "iteration 1960 dt is 2.7425425173790774e-56, time of iteration is 0.8048533837018688\n",
      "\n",
      "\n",
      "iteration 1970 dt is 1.0963756880001118e-56, time of iteration is 0.8048533837018688\n",
      "\n",
      "\n",
      "iteration 1980 dt is 4.382938975861176e-57, time of iteration is 0.8048533837018688\n",
      "\n",
      "\n",
      "iteration 1990 dt is 1.752150679404801e-57, time of iteration is 0.8048533837018688\n",
      "\n",
      "\n",
      "iteration 2000 dt is 7.004505470522765e-58, time of iteration is 0.8048533837018688\n",
      "\n",
      "\n",
      "iteration 2010 dt is 2.800164247474987e-58, time of iteration is 0.8048533837018688\n",
      "\n",
      "\n",
      "iteration 2020 dt is 1.1194109057140866e-58, time of iteration is 0.8048533837018688\n",
      "\n",
      "\n",
      "iteration 2030 dt is 4.475025980928017e-59, time of iteration is 0.8048533837018688\n",
      "\n",
      "\n",
      "iteration 2040 dt is 1.7889639477119449e-59, time of iteration is 0.8048533837018688\n",
      "\n",
      "\n",
      "iteration 2050 dt is 7.151672459227642e-60, time of iteration is 0.8048533837018688\n",
      "\n",
      "\n",
      "iteration 2060 dt is 2.8589966292775523e-60, time of iteration is 0.8048533837018688\n",
      "\n",
      "\n",
      "iteration 2070 dt is 1.1429301010106884e-60, time of iteration is 0.8048533837018688\n",
      "\n",
      "\n",
      "iteration 2080 dt is 4.5690477645872295e-61, time of iteration is 0.8048533837018688\n",
      "\n",
      "\n",
      "iteration 2090 dt is 1.82655067502543e-61, time of iteration is 0.8048533837018688\n",
      "\n",
      "\n",
      "iteration 2100 dt is 7.301931475293422e-62, time of iteration is 0.8048533837018688\n",
      "\n",
      "\n",
      "iteration 2110 dt is 2.9190650989816345e-62, time of iteration is 0.8048533837018688\n",
      "\n",
      "\n",
      "iteration 2120 dt is 1.166943442419836e-62, time of iteration is 0.8048533837018688\n",
      "\n",
      "\n",
      "iteration 2130 dt is 4.665044977180295e-63, time of iteration is 0.8048533837018688\n",
      "\n",
      "\n",
      "iteration 2140 dt is 1.8649271119761315e-63, time of iteration is 0.8048533837018688\n",
      "\n",
      "\n",
      "iteration 2150 dt is 7.455347483242963e-64, time of iteration is 0.8048533837018688\n",
      "\n",
      "\n",
      "iteration 2160 dt is 2.9803956272050036e-64, time of iteration is 0.8048533837018688\n",
      "\n",
      "\n",
      "iteration 2170 dt is 1.1914613121156411e-64, time of iteration is 0.8048533837018688\n",
      "\n",
      "\n",
      "iteration 2180 dt is 4.763059123125875e-65, time of iteration is 0.8048533837018688\n",
      "\n",
      "\n",
      "iteration 2190 dt is 1.9041098506260773e-65, time of iteration is 0.8048533837018688\n",
      "\n",
      "\n",
      "iteration 2200 dt is 7.611986812525329e-66, time of iteration is 0.8048533837018688\n"
     ]
    },
    {
     "ename": "LoadError",
     "evalue": "InterruptException:",
     "output_type": "error",
     "traceback": [
      "InterruptException:",
      "",
      "Stacktrace:",
      "  [1] setindex!",
      "    @ ./essentials.jl:492 [inlined]",
      "  [2] setindex!",
      "    @ ./subarray.jl:347 [inlined]",
      "  [3] fill!",
      "    @ ./multidimensional.jl:1100 [inlined]",
      "  [4] __cat_offset1!",
      "    @ ./abstractarray.jl:1760 [inlined]",
      "  [5] __cat_offset!",
      "    @ ./abstractarray.jl:1748 [inlined]",
      "  [6] __cat_offset!",
      "    @ ./abstractarray.jl:1749 [inlined]",
      "  [7] __cat",
      "    @ ./abstractarray.jl:1744 [inlined]",
      "  [8] _cat_t",
      "    @ ./abstractarray.jl:1737 [inlined]",
      "  [9] typed_vcat(::Type{Any}, ::Vector{Any}, ::Float64)",
      "    @ Base ./abstractarray.jl:1880",
      " [10] vcat",
      "    @ /opt/julia-1.8.0/share/julia/stdlib/v1.8/LinearAlgebra/src/special.jl:419 [inlined]",
      " [11] speed(X::StepRangeLen{Float64, Base.TwicePrecision{Float64}, Base.TwicePrecision{Float64}, Int64}, m::Vector{Float64}, beta::Vector{Float64}, dx::Float64)",
      "    @ Main ~/Desktop/MSc Thesis/Git/ScalarField/2D/ScalarField.jl:87",
      " [12] update_dt(X::StepRangeLen{Float64, Base.TwicePrecision{Float64}, Base.TwicePrecision{Float64}, Int64}, m::Vector{Float64}, beta::Vector{Float64}, dt::Float64, ginit::Float64)",
      "    @ Main ~/Desktop/MSc Thesis/Git/ScalarField/2D/ScalarField.jl:101",
      " [13] timeevolution(state_array::Matrix{Float64}, finaltime::Float64, dir::String, run::Int64)",
      "    @ Main ~/Desktop/MSc Thesis/Git/ScalarField/2D/ScalarField.jl:746",
      " [14] top-level scope",
      "    @ In[72]:2"
     ]
    }
   ],
   "source": [
    "finaltime=1.3\n",
    "evol_stats, T_interp = timeevolution(state_array,finaltime,dir*\"/res$res\",run);\n",
    "CSV.write(dir*\"/timearray$res.csv\", Tables.table(T_interp), writeheader=false);\n",
    "#CSV.write(dir*\"/parameters.csv\", Tables.table(evol_stats), writeheader=false);"
   ]
  },
  {
   "cell_type": "code",
   "execution_count": null,
   "id": "8afbfaca",
   "metadata": {},
   "outputs": [],
   "source": []
  },
  {
   "cell_type": "code",
   "execution_count": null,
   "id": "caf34e62",
   "metadata": {},
   "outputs": [],
   "source": []
  },
  {
   "cell_type": "code",
   "execution_count": null,
   "id": "0f0e90c3",
   "metadata": {},
   "outputs": [],
   "source": [
    "using Plots, CSV, DataFrames\n",
    "import GR\n",
    "\n",
    "lines = readlines(dir*\"/res$res/data.txt\")"
   ]
  },
  {
   "cell_type": "code",
   "execution_count": null,
   "id": "7065cdd5",
   "metadata": {},
   "outputs": [],
   "source": []
  },
  {
   "cell_type": "code",
   "execution_count": null,
   "id": "da894325",
   "metadata": {},
   "outputs": [],
   "source": [
    "plot(initX1, state_array[:])"
   ]
  },
  {
   "cell_type": "markdown",
   "id": "715897d3",
   "metadata": {
    "papermill": {
     "duration": 0.007626,
     "end_time": "2023-03-28T18:06:33.908346",
     "exception": false,
     "start_time": "2023-03-28T18:06:33.900720",
     "status": "completed"
    },
    "tags": []
   },
   "source": [
    " ## Movie of the evolution"
   ]
  },
  {
   "cell_type": "code",
   "execution_count": 77,
   "id": "973cea47",
   "metadata": {
    "scrolled": true
   },
   "outputs": [
    {
     "name": "stderr",
     "output_type": "stream",
     "text": [
      "\u001b[36m\u001b[1m[ \u001b[22m\u001b[39m\u001b[36m\u001b[1mInfo: \u001b[22m\u001b[39mSaved animation to /home/rita13santos/Desktop/MSc Thesis/Git/ScalarField/2D/anim_res1.gif\n"
     ]
    },
    {
     "data": {
      "text/html": [
       "<img src=\"data:image/gif;base64,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\" />"
      ],
      "text/plain": [
       "Plots.AnimatedGif(\"/home/rita13santos/Desktop/MSc Thesis/Git/ScalarField/2D/anim_res1.gif\")"
      ]
     },
     "execution_count": 77,
     "metadata": {},
     "output_type": "execute_result"
    }
   ],
   "source": [
    "using Plots, CSV, DataFrames\n",
    "import GR\n",
    "anim = @animate for n in 1000:10:1000\n",
    "    \n",
    "    \n",
    "    IJulia.clear_output(true)\n",
    "    \n",
    "    functions3=DataFrame(CSV.File(dir*\"/res$res/time_step$n.csv\",header=false, delim=\",\"))\n",
    "    plot()\n",
    "        plot1=functions3.Column1[4:L-3];\n",
    "        plot2=functions3.Column2[4:L-3];\n",
    "        plot3=functions3.Column3[4:L-3];\n",
    "        plot4=functions3.Column4[4:L-3];\n",
    "        plot5=functions3.Column5[4:L-3];\n",
    "    \n",
    "    \n",
    "    plot!(initX1, [plot1 plot2 plot3 plot4], labels=[\"m\" \"beta\" \"psi\" \"psi,x\"], ylim=[-1, 1],xlim=[0.0, 1])#, xlim=[0, 0.1])# |> display \n",
    "    #plot!(initX[4:L-3], [plot1], labels=[\"m\" \"beta\" \"psi\" \"psi,x\"],ylim=[-1,1])#, xlim=[0, 0.1]) |> display \n",
    "    \n",
    "    end\n",
    "\n",
    "gif(anim, \"anim_res$res.gif\", fps = 150000)"
   ]
  },
  {
   "cell_type": "code",
   "execution_count": 82,
   "id": "c6b8b7bc",
   "metadata": {},
   "outputs": [
    {
     "name": "stderr",
     "output_type": "stream",
     "text": [
      "\u001b[36m\u001b[1m[ \u001b[22m\u001b[39m\u001b[36m\u001b[1mInfo: \u001b[22m\u001b[39mSaved animation to /home/rita13santos/Desktop/MSc Thesis/Git/ScalarField/2D/anim_res1.gif\n"
     ]
    },
    {
     "data": {
      "text/html": [
       "<img src=\"data:image/gif;base64,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\" />"
      ],
      "text/plain": [
       "Plots.AnimatedGif(\"/home/rita13santos/Desktop/MSc Thesis/Git/ScalarField/2D/anim_res1.gif\")"
      ]
     },
     "execution_count": 82,
     "metadata": {},
     "output_type": "execute_result"
    }
   ],
   "source": [
    "using Plots, CSV, DataFrames\n",
    "import GR\n",
    "anim = @animate for n in 1000:10:1500\n",
    "    \n",
    "    IJulia.clear_output(true)\n",
    "    \n",
    "    functions3=DataFrame(CSV.File(dir*\"/res$res/monitor_ratio$n.csv\",header=false, delim=\",\"))\n",
    "    plot()\n",
    "        plot1=functions3.Column1[4:L-3];\n",
    "    \n",
    "    plot!(initX1, [plot1], labels=[\"monitor ratio\"], ylim=[0, 1])# |> display \n",
    "    #plot!(initX[4:L-3], [plot1], labels=[\"m\" \"beta\" \"psi\" \"psi,x\"],ylim=[-1,1])#, xlim=[0, 0.1]) |> display \n",
    "    \n",
    "    end\n",
    "\n",
    "gif(anim, \"anim_res$res.gif\", fps = 300000)"
   ]
  },
  {
   "cell_type": "markdown",
   "id": "eaa3c521",
   "metadata": {},
   "source": [
    "muninn animation"
   ]
  },
  {
   "cell_type": "code",
   "execution_count": 68,
   "id": "b9363801",
   "metadata": {},
   "outputs": [
    {
     "ename": "LoadError",
     "evalue": "syntax: incomplete: \"for\" at In[68]:11 requires end",
     "output_type": "error",
     "traceback": [
      "syntax: incomplete: \"for\" at In[68]:11 requires end",
      "",
      "Stacktrace:",
      " [1] top-level scope",
      "   @ In[68]:11"
     ]
    }
   ],
   "source": [
    "using Plots, CSV, DataFrames\n",
    "import GR\n",
    "\n",
    "lines = readlines(dir*\"/res$res/data.txt\")\n",
    "grid=[]\n",
    "m=[]\n",
    "beta=[]\n",
    "psi=[]\n",
    "derpsi=[]\n",
    "\n",
    "anim = @animate for n in 1:10\n",
    "    \n",
    "    for line in lines\n",
    "        \n",
    "    if occursin(\"Time\", line)==true\n",
    "        grid=[]\n",
    "        m=[]\n",
    "        beta=[]\n",
    "        psi=[]\n",
    "        derpsi=[]\n",
    "    else\n",
    "        a=split(line, \" \")\n",
    "        a=deleteat!(a, findall(x->x==\"\",a))\n",
    "        if a!=[]\n",
    "            grid=vcat(grid,parse(Float64,a[1]))\n",
    "            m=vcat(m,parse(Float64,a[2]))\n",
    "            beta=vcat(beta,parse(Float64,a[3]))\n",
    "            psi=vcat(psi,parse(Float64,a[4]))\n",
    "            derpsi=vcat(derpsi,parse(Float64,a[5]))\n",
    "\n",
    "        end\n",
    "    end\n",
    "\n",
    "\n",
    "\n",
    "    #\n",
    "    \n",
    "    IJulia.clear_output(true)\n",
    "    \n",
    "\n",
    "    plot()\n",
    "    \n",
    "    \n",
    "    plot!(grid[4:L-3], [m beta psi derpsi][4:L-3,:], labels=[\"m\" \"beta\" \"psi\" \"psi,x\"], ylim=[-0.001, 0.001],xlim=[0.0, 1])#, xlim=[0, 0.1])# |> display \n",
    "    \n",
    "    end\n",
    "\n",
    "gif(anim, \"anim_res$res.gif\", fps = 1200)"
   ]
  },
  {
   "cell_type": "code",
   "execution_count": 118,
   "id": "83adfe33",
   "metadata": {},
   "outputs": [],
   "source": [
    "datagrid=Array{Float128}(undef, L)\n",
    "datam=Array{Float128}(undef, L)\n",
    "databeta=Array{Float128}(undef, L)\n",
    "datapsi=Array{Float128}(undef, L)\n",
    "dataderpsi=Array{Float128}(undef, L)\n",
    "\n",
    "lines = readlines(dir*\"/res$res/data.txt\")\n",
    "\n",
    "for line in lines\n",
    "    if occursin(\"Time\", line)==true\n",
    "        plot(grid, m)\n",
    "        \n",
    "        \n",
    "        grid=[]\n",
    "        m=[]\n",
    "        beta=[]\n",
    "        psi=[]\n",
    "        derpsi=[]\n",
    "        \n",
    "    else\n",
    "        a=split(line, \" \")\n",
    "        a=deleteat!(a, findall(x->x==\"\",a))\n",
    "        if a!=[]\n",
    "            grid=vcat(grid,parse(Float64,a[1]))\n",
    "            m=vcat(m,parse(Float64,a[2]))\n",
    "            beta=vcat(beta,parse(Float64,a[3]))\n",
    "            psi=vcat(psi,parse(Float64,a[4]))\n",
    "            derpsi=vcat(derpsi,parse(Float64,a[5]))\n",
    "        elseif a==[]\n",
    "            #println(length(datagrid))\n",
    "            #println(length(grid))\n",
    "            #datagrid=cat(dims=2,datagrid, grid)\n",
    "            datagrid=[datagrid; grid]\n",
    "            datam=cat(dims=2,datam, m)\n",
    "            databeta=cat(dims=2,databeta, beta)\n",
    "            datapsi=cat(dims=2,datapsi, psi)\n",
    "            dataderpsi=cat(dims=2,dataderpsi, derpsi)\n",
    "        end\n",
    "    end\n",
    "    \n",
    "end\n"
   ]
  },
  {
   "cell_type": "code",
   "execution_count": 119,
   "id": "2c4bf7e7",
   "metadata": {},
   "outputs": [
    {
     "data": {
      "text/plain": [
       "5796-element Vector{Any}:\n",
       "    8.34319962899321883561303658422435691e-4956\n",
       "    2.05206491026800433201677921073574507e-4936\n",
       " -nan\n",
       "    8.34319963676342897893866671733368366e-4956\n",
       "    1.53904868514964416335782103718351843e-4936\n",
       "    2.77150719072578205953599890496588243e-4938\n",
       "    1.19445898260724901253333516414690294e-4946\n",
       "    1.53904868634410314596507031525083490e-4936\n",
       "    2.77150776406609371101565222808974947e-4938\n",
       " -nan\n",
       "    1.53904868753856212857231959331815136e-4936\n",
       "    2.77150833740640536249530555121361651e-4938\n",
       "    8.34319965554143682530893953901455664e-4956\n",
       "    ⋮\n",
       "    0.96\n",
       "    0.965\n",
       "    0.97\n",
       "    0.975\n",
       "    0.98\n",
       "    0.985\n",
       "    0.99\n",
       "    0.995\n",
       "    1.0\n",
       "    1.005\n",
       "    1.01\n",
       "    1.015"
      ]
     },
     "execution_count": 119,
     "metadata": {},
     "output_type": "execute_result"
    }
   ],
   "source": [
    "datagrid"
   ]
  },
  {
   "cell_type": "code",
   "execution_count": 117,
   "id": "79a15f6a",
   "metadata": {},
   "outputs": [
    {
     "data": {
      "text/plain": [
       "5×2 Matrix{Float64}:\n",
       " 0.12618    0.261235\n",
       " 0.238235   0.840988\n",
       " 0.200322   0.354143\n",
       " 0.347195   0.854355\n",
       " 0.0130686  0.727983"
      ]
     },
     "execution_count": 117,
     "metadata": {},
     "output_type": "execute_result"
    }
   ],
   "source": [
    "A = Matrix{Int}(undef, 0, 2)  # 0x2 array of Int\n",
    "B = rand(5, 2)\n",
    "A = [A; B] "
   ]
  },
  {
   "cell_type": "code",
   "execution_count": 21,
   "id": "f9d2971d",
   "metadata": {},
   "outputs": [
    {
     "data": {
      "text/plain": [
       "1.0"
      ]
     },
     "execution_count": 21,
     "metadata": {},
     "output_type": "execute_result"
    }
   ],
   "source": [
    "parse(Float64,\"1\")"
   ]
  },
  {
   "cell_type": "code",
   "execution_count": 47,
   "id": "16108d75",
   "metadata": {},
   "outputs": [
    {
     "data": {
      "text/plain": [
       "\"/home/rita13santos/Desktop/MSc Thesis/Git/ScalarField/DATA/res1/data.txt\""
      ]
     },
     "execution_count": 47,
     "metadata": {},
     "output_type": "execute_result"
    }
   ],
   "source": [
    "dir*\"/res$res/data.txt\""
   ]
  },
  {
   "cell_type": "code",
   "execution_count": null,
   "id": "c38fadb4",
   "metadata": {},
   "outputs": [],
   "source": [
    "with open(dir) as f:\n",
    "    for line in f:\n",
    "\n",
    "        index = line.find(\"Time\")\n",
    "        if index==1:\n",
    "            time.append(line[index+7:len(line)-1])\n",
    "            auxgrid=[]\n",
    "            auxm=[]\n",
    "            auxbeta=[]\n",
    "            auxpsi=[]\n",
    "            auxderpsi=[]\n",
    "\n",
    "        else:\n",
    "                a=line.split()\n",
    "                if a!=[]:\n",
    "                    auxgrid.append(float(a[0]))\n",
    "                    auxm.append(float(a[1]))\n",
    "                    auxbeta.append(float(a[2]))\n",
    "                    auxpsi.append(float(a[3]))\n",
    "                    auxderpsi.append(float(a[4]))\n",
    "                elif a==[]:\n",
    "                    grid.append(auxgrid)\n",
    "                    m.append(auxm)\n",
    "                    beta.append(auxbeta)\n",
    "                    psi.append(auxpsi)\n",
    "                    derpsi.append(auxderpsi)\n",
    "        datatime.append(time)\n",
    "        datagrid.append(grid)\n",
    "        datam.append(m)\n",
    "        databeta.append(beta)\n",
    "        datapsi.append(psi)\n",
    "        dataderpsi.append(derpsi)"
   ]
  },
  {
   "cell_type": "code",
   "execution_count": 59,
   "id": "bb8c19ce",
   "metadata": {},
   "outputs": [
    {
     "ename": "LoadError",
     "evalue": "MethodError: no method matching split(::Vector{String}, ::String)\n\u001b[0mClosest candidates are:\n\u001b[0m  split(\u001b[91m::T\u001b[39m, ::Any; limit, keepempty) where T<:AbstractString at strings/util.jl:592",
     "output_type": "error",
     "traceback": [
      "MethodError: no method matching split(::Vector{String}, ::String)\n\u001b[0mClosest candidates are:\n\u001b[0m  split(\u001b[91m::T\u001b[39m, ::Any; limit, keepempty) where T<:AbstractString at strings/util.jl:592",
      "",
      "Stacktrace:",
      " [1] top-level scope",
      "   @ In[59]:2"
     ]
    }
   ],
   "source": [
    "a=[ \"ola tudo bem\"]\n",
    "split(a,\" \")"
   ]
  },
  {
   "cell_type": "code",
   "execution_count": 62,
   "id": "9a78a6ae",
   "metadata": {},
   "outputs": [
    {
     "ename": "LoadError",
     "evalue": "unexpected character 'T' after quoted field at row 1 column 1",
     "output_type": "error",
     "traceback": [
      "unexpected character 'T' after quoted field at row 1 column 1",
      "",
      "Stacktrace:",
      "  [1] error(s::String)",
      "    @ Base ./error.jl:35",
      "  [2] dlm_parse(dbuff::String, eol::Char, dlm::Char, qchar::Char, cchar::Char, ign_adj_dlm::Bool, allow_quote::Bool, allow_comments::Bool, skipstart::Int64, skipblanks::Bool, dh::DelimitedFiles.DLMOffsets)",
      "    @ DelimitedFiles /opt/julia-1.8.0/share/julia/stdlib/v1.8/DelimitedFiles/src/DelimitedFiles.jl:722",
      "  [3] readdlm_string(sbuff::String, dlm::Char, T::Type, eol::Char, auto::Bool, optsd::Dict{Symbol, Union{Char, Integer, Tuple{Integer, Integer}}})",
      "    @ DelimitedFiles /opt/julia-1.8.0/share/julia/stdlib/v1.8/DelimitedFiles/src/DelimitedFiles.jl:456",
      "  [4] readdlm_auto(input::String, dlm::Char, T::Type, eol::Char, auto::Bool; opts::Base.Pairs{Symbol, Union{}, Tuple{}, NamedTuple{(), Tuple{}}})",
      "    @ DelimitedFiles /opt/julia-1.8.0/share/julia/stdlib/v1.8/DelimitedFiles/src/DelimitedFiles.jl:247",
      "  [5] readdlm_auto",
      "    @ /opt/julia-1.8.0/share/julia/stdlib/v1.8/DelimitedFiles/src/DelimitedFiles.jl:233 [inlined]",
      "  [6] #readdlm#6",
      "    @ /opt/julia-1.8.0/share/julia/stdlib/v1.8/DelimitedFiles/src/DelimitedFiles.jl:226 [inlined]",
      "  [7] readdlm",
      "    @ /opt/julia-1.8.0/share/julia/stdlib/v1.8/DelimitedFiles/src/DelimitedFiles.jl:226 [inlined]",
      "  [8] #readdlm#2",
      "    @ /opt/julia-1.8.0/share/julia/stdlib/v1.8/DelimitedFiles/src/DelimitedFiles.jl:86 [inlined]",
      "  [9] readdlm(input::String, dlm::Char, T::Type)",
      "    @ DelimitedFiles /opt/julia-1.8.0/share/julia/stdlib/v1.8/DelimitedFiles/src/DelimitedFiles.jl:86",
      " [10] top-level scope",
      "    @ In[62]:3"
     ]
    }
   ],
   "source": [
    "using DelimitedFiles\n",
    "\n",
    "readdlm(dir*\"/res$res/data.txt\", ',',Int)"
   ]
  },
  {
   "cell_type": "code",
   "execution_count": null,
   "id": "1d76e261",
   "metadata": {},
   "outputs": [],
   "source": []
  },
  {
   "cell_type": "code",
   "execution_count": null,
   "id": "18a090c2",
   "metadata": {},
   "outputs": [],
   "source": []
  },
  {
   "cell_type": "code",
   "execution_count": 360,
   "id": "62360b75",
   "metadata": {},
   "outputs": [
    {
     "data": {
      "text/plain": [
       "7.81250000000000000000000000000000000e-03"
      ]
     },
     "execution_count": 360,
     "metadata": {},
     "output_type": "execute_result"
    }
   ],
   "source": [
    "epsilon(dt,dx)"
   ]
  },
  {
   "cell_type": "code",
   "execution_count": 361,
   "id": "97497886",
   "metadata": {},
   "outputs": [
    {
     "data": {
      "text/plain": [
       "3.12500000000000000000000000000000000e-02"
      ]
     },
     "execution_count": 361,
     "metadata": {},
     "output_type": "execute_result"
    }
   ],
   "source": [
    "twod_epsilon(dt,dx)"
   ]
  },
  {
   "cell_type": "code",
   "execution_count": 363,
   "id": "8917b35a",
   "metadata": {},
   "outputs": [
    {
     "data": {
      "text/plain": [
       "7.81250000000000000000000000000000000e-03"
      ]
     },
     "execution_count": 363,
     "metadata": {},
     "output_type": "execute_result"
    }
   ],
   "source": [
    "epsilon(dt,dx)"
   ]
  },
  {
   "cell_type": "code",
   "execution_count": 147,
   "id": "f2ce4c53",
   "metadata": {},
   "outputs": [
    {
     "data": {
      "text/plain": [
       "0.3125"
      ]
     },
     "execution_count": 147,
     "metadata": {},
     "output_type": "execute_result"
    }
   ],
   "source": [
    "twod_epsilon(dt,dx)"
   ]
  },
  {
   "cell_type": "code",
   "execution_count": null,
   "id": "2a9f33b5",
   "metadata": {},
   "outputs": [],
   "source": []
  },
  {
   "cell_type": "code",
   "execution_count": null,
   "id": "e9241707",
   "metadata": {},
   "outputs": [],
   "source": []
  }
 ],
 "metadata": {
  "@webio": {
   "lastCommId": null,
   "lastKernelId": null
  },
  "kernelspec": {
   "display_name": "Julia 1.8.0",
   "language": "julia",
   "name": "julia-1.8"
  },
  "language_info": {
   "file_extension": ".jl",
   "mimetype": "application/julia",
   "name": "julia",
   "version": "1.8.0"
  },
  "papermill": {
   "default_parameters": {},
   "duration": 7025.507115,
   "end_time": "2023-03-28T20:03:06.430756",
   "environment_variables": {},
   "exception": null,
   "input_path": "Evolution_ScalarField.ipynb",
   "output_path": "Evolution_ScalarField.ipynb",
   "parameters": {
    "A": 0.001,
    "m": 3
   },
   "start_time": "2023-03-28T18:06:00.923641",
   "version": "2.4.0"
  }
 },
 "nbformat": 4,
 "nbformat_minor": 5
}
