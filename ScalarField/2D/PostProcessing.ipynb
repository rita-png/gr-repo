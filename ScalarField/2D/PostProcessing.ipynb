{
 "cells": [
  {
   "cell_type": "code",
   "execution_count": 1,
   "id": "306b8ccb",
   "metadata": {},
   "outputs": [],
   "source": [
    "import pandas as pd\n",
    "import numpy as np\n",
    "import os\n",
    "import math\n",
    "import matplotlib.pyplot as plt\n",
    "import numpy as np\n",
    "from matplotlib import style\n",
    "\n",
    "import scipy\n",
    "import numpy as np\n",
    "from scipy import interpolate\n",
    "from io import StringIO"
   ]
  },
  {
   "cell_type": "markdown",
   "id": "7d60e115",
   "metadata": {},
   "source": [
    "# Reading data for 3 resolutions"
   ]
  },
  {
   "cell_type": "markdown",
   "id": "93f38ab0",
   "metadata": {},
   "source": [
    "CSV format"
   ]
  },
  {
   "cell_type": "code",
   "execution_count": 2,
   "id": "e80087ba",
   "metadata": {},
   "outputs": [
    {
     "name": "stdout",
     "output_type": "stream",
     "text": [
      "False\n",
      "True\n"
     ]
    }
   ],
   "source": [
    "#from bigfloat import *\n",
    "\n",
    "def isNaN(string):\n",
    "    return string != string\n",
    "print(isNaN(\"hello\"))\n",
    "print(isNaN(np.nan))"
   ]
  },
  {
   "cell_type": "code",
   "execution_count": 3,
   "id": "7af4e542",
   "metadata": {},
   "outputs": [
    {
     "name": "stdout",
     "output_type": "stream",
     "text": [
      "File count in dir /home/rita13santos/Desktop/MSc Thesis/Git/ScalarField/DATA/bisectionsearch/run18 is:  2937\n"
     ]
    }
   ],
   "source": [
    "step=1\n",
    "run=18\n",
    "\n",
    "dir = \"/home/rita13santos/Desktop/MSc Thesis/Git/ScalarField/DATA/bisectionsearch/run{}\".format(run)\n",
    "\n",
    "    \n",
    "\n",
    "count=0\n",
    "for path in os.listdir(dir):\n",
    "    # check if current path is a file\n",
    "    if os.path.isfile(os.path.join(dir, path)):\n",
    "        count += 1\n",
    "print('File count in dir', dir, 'is: ', count)\n",
    "\n",
    "\n",
    "m=[]\n",
    "beta=[]\n",
    "psi=[]\n",
    "derpsi=[]\n",
    "grid=[]\n",
    "    \n",
    "#iterate over files in dir\n",
    "for i in range(count-1):\n",
    "    with pd.option_context('display.precision', 20):\n",
    "        df = pd.read_csv(dir + \"/time_step{}.csv\".format(i*step), header=None, dtype = str)\n",
    "    df = df.to_numpy()\n",
    "    df = np.transpose(df)\n",
    "        \n",
    "    aux = [float(x) for x in df[0]]\n",
    "    m.append(aux)\n",
    "    aux = [float(x) for x in df[1]]\n",
    "    beta.append(aux)\n",
    "    aux = [float(x) for x in df[2]]\n",
    "    psi.append(aux)\n",
    "    aux = [float(x) for x in df[3]]\n",
    "    derpsi.append(aux)\n",
    "    aux = [float(x) for x in df[4]]\n",
    "    grid.append(aux)\n",
    "    \n",
    "    # f[i] is the array of the values of m on the whole grid on time step i"
   ]
  },
  {
   "cell_type": "markdown",
   "id": "d5e83eaa",
   "metadata": {},
   "source": [
    "####"
   ]
  },
  {
   "cell_type": "code",
   "execution_count": 4,
   "id": "4af055a5",
   "metadata": {},
   "outputs": [
    {
     "name": "stdout",
     "output_type": "stream",
     "text": [
      "2937\n"
     ]
    }
   ],
   "source": [
    "final_t=count\n",
    "print(count)"
   ]
  },
  {
   "cell_type": "code",
   "execution_count": 5,
   "id": "3339aeb8",
   "metadata": {},
   "outputs": [
    {
     "name": "stdout",
     "output_type": "stream",
     "text": [
      "-4.1089657223851726e-21\n"
     ]
    }
   ],
   "source": [
    "print(m[0][1]) # datam indexes give time then gridpoint"
   ]
  },
  {
   "cell_type": "code",
   "execution_count": 6,
   "id": "1b11caa7",
   "metadata": {},
   "outputs": [],
   "source": [
    "L=len(m[0])-6 # grid length without the ghostpoints\n",
    "dx=grid[0][1]-grid[0][0]"
   ]
  },
  {
   "cell_type": "code",
   "execution_count": 7,
   "id": "ee19cabc",
   "metadata": {},
   "outputs": [
    {
     "data": {
      "text/plain": [
       "[<matplotlib.lines.Line2D at 0x7f5e45d994c0>]"
      ]
     },
     "execution_count": 7,
     "metadata": {},
     "output_type": "execute_result"
    },
    {
     "data": {
      "image/png": "[encoded data removed]",
      "text/plain": [
       "<Figure size 432x288 with 1 Axes>"
      ]
     },
     "metadata": {
      "needs_background": "light"
     },
     "output_type": "display_data"
    }
   ],
   "source": [
    "t=0\n",
    "plt_x1 = grid[t][3:len(grid[0])-3]\n",
    "\n",
    "plt.plot(plt_x1,m[0][3:len(m[0])-3])"
   ]
  },
  {
   "cell_type": "markdown",
   "id": "0f7f8fb9",
   "metadata": {},
   "source": [
    "# Styling plots"
   ]
  },
  {
   "cell_type": "code",
   "execution_count": 8,
   "id": "953579ab",
   "metadata": {},
   "outputs": [],
   "source": [
    "plt.rcParams.update({'font.size': 12})"
   ]
  },
  {
   "cell_type": "markdown",
   "id": "52719f95",
   "metadata": {},
   "source": [
    "# Plotting data with resolutions 1 and 2 and differences "
   ]
  },
  {
   "cell_type": "code",
   "execution_count": 9,
   "id": "8c15102b",
   "metadata": {},
   "outputs": [],
   "source": [
    "ustar=1.0276297500687142"
   ]
  },
  {
   "cell_type": "code",
   "execution_count": 17,
   "id": "84d69697",
   "metadata": {},
   "outputs": [],
   "source": [
    "time=np.linspace(0,ustar,2379+1)\n",
    "time=[0.0, 0.005005003752501565, 0.01001000750500313, 0.015015011257504695, 0.020020015010006244, 0.025025018762507793, 0.03003002251500934, 0.03503502626751091, 0.040040030020012496, 0.04504503377251408, 0.05005003752501566, 0.055055041277517244, 0.06006004503001883, 0.06506504878252037, 0.07007005253502188, 0.0750750562875234, 0.08008006004002491, 0.08508506379252642, 0.09009006754502794, 0.09509507129752945, 0.10010007505003096, 0.10510507880253248, 0.11011008255503399, 0.1151150863075355, 0.12012009006003702, 0.12512509381253853, 0.13013009756504004, 0.13513510131754156, 0.14014010507004307, 0.14514510882254458, 0.1501501125750461, 0.1551551163275476, 0.16016012008004912, 0.16516512383255064, 0.17017012758505215, 0.17517513133755366, 0.18018013509005518, 0.1851851388425567, 0.1901901425950582, 0.19519514634755972, 0.20020015010006123, 0.20520515385256274, 0.21021015760506426, 0.21521516135756577, 0.22022016511006728, 0.2252251688625688, 0.2302301726150703, 0.23523517636757182, 0.24024018012007334, 0.24524518387257485, 0.2502501876250764, 0.2552551913775782, 0.26026019513008, 0.26526519888258177, 0.27027020263508356, 0.27527520638758535, 0.28028021014008714, 0.28528521389258893, 0.2902902176450907, 0.2952952213975925, 0.3003002251500943, 0.3053052289025961, 0.3103102326550979, 0.3153152364075997, 0.32032024016010147, 0.32532524391260326, 0.33033024766510505, 0.33533525141760684, 0.34034025517010863, 0.3453452589226104, 0.3503502626751122, 0.355355266427614, 0.3603602701801158, 0.3653652739326176, 0.3703702776851194, 0.37537528143762117, 0.38038028519012296, 0.38538528894262475, 0.39039029269512654, 0.39539529644762833, 0.4004003002001301, 0.4054053039526319, 0.4104103077051337, 0.4154153114576355, 0.4204203152101373, 0.4254253189626391, 0.43043032271514087, 0.43543532646764266, 0.44044033022014445, 0.44544533397264624, 0.45045033772514803, 0.4554553414776498, 0.4604603452301516, 0.4654653489826534, 0.4704703527351552, 0.475475356487657, 0.4804803602401588, 0.48548536399266057, 0.49049036774516236, 0.49549537149766415, 0.5005003752501659, 0.5055053790026677, 0.5105103827551695, 0.5155153865076713, 0.520520390260173, 0.5255253940126748, 0.5305303977651766, 0.5355354015176784, 0.5405404052701802, 0.545545409022682, 0.5505504127751845, 0.5555554165276874, 0.5605604202801903, 0.5655654240326932, 0.5705704277851967, 0.5755754315377007, 0.5805804352902051, 0.5855854390427102, 0.5905904427952162, 0.5955954465477231, 0.6006004503002311, 0.6056054540527404, 0.6106104578052512, 0.6156154615577639, 0.6206204653102787, 0.6256254690627959, 0.6306304728153159, 0.6356354765678391, 0.6406404803203659, 0.6456454840728968, 0.6506504878254321, 0.6556554915779724, 0.6606604953305181, 0.6656654990830696, 0.6706705028356273, 0.6756755065881915, 0.6806805103407623, 0.6856855140933397, 0.6906905178459237, 0.695695521598514, 0.70070052535111, 0.7057055291037108, 0.7107105328563151, 0.715715536608922, 0.7207205403615292, 0.7257255441141356, 0.7307305478667389, 0.7357355516193369, 0.7407405553719276, 0.7457455591245093, 0.7507505628770805, 0.75575556662964, 0.7607605703821879, 0.7657655741347236, 0.7707705778872492, 0.7757755816397659, 0.780780585392276, 0.785783163425639, 0.7907271476876041, 0.7955922650221824, 0.8003821914686893, 0.8051007044956203, 0.8097516473014069, 0.8143388957442004, 0.8188663274752008, 0.8233377934803112, 0.8277570900438443, 0.832127934292162, 0.8364539398060602, 0.8407385929027651, 0.8449852287942561, 0.8491970053741369, 0.8533768753097405, 0.8575275532795889, 0.8616514772745687, 0.8657507654725003, 0.8698271646786794, 0.8738819905613902, 0.8779160657543806, 0.8819296507543658, 0.8859223789580989, 0.8898931923317172, 0.8938402913900692, 0.8977610954311477, 0.9016522261804989, 0.9055095110167127, 0.909328016591216, 0.9131021100619534, 0.9168255527704543, 0.9204916223349479, 0.9240932670640489, 0.9276232816074556, 0.9310745047541494, 0.9344400235523258, 0.9377133793071949, 0.940888772964808, 0.9439612374843145, 0.9469267993815591, 0.9497826021050035, 0.9525270002457641, 0.9551596233776519, 0.9576814097631715, 0.9600946203972047, 0.9624028333556587, 0.9646109278457126, 0.9667250549212306, 0.9687526010270736, 0.97070213589993, 0.9725833455566285, 0.9744069446375155, 0.976184569765828, 0.9779286545739675, 0.9796522918638467, 0.9813690837514603, 0.9830929749831147, 0.9848380567664626, 0.9866183215680144, 0.988447338440594, 0.9903378195111663, 0.9923010411061969, 0.9943460790282931, 0.9964787781134274, 0.9987003531621367, 1.0010054805619388, 1.0033798788334194, 1.0057977639360396, 1.0082202675372465, 1.0105964344604714, 1.0128682549091341, 1.014979800053623, 1.0168899548509585, 1.0185879628230532, 1.0200998276591868, 1.0214843930139, 1.0228209740314298, 1.0241801568873639, 1.0255346409729664, 1.0268136633958451, 1.0276297500687142]"
   ]
  },
  {
   "cell_type": "code",
   "execution_count": 36,
   "id": "95bdd477",
   "metadata": {},
   "outputs": [
    {
     "ename": "ValueError",
     "evalue": "operands could not be broadcast together with shapes (1,4014) (2007,) ",
     "output_type": "error",
     "traceback": [
      "\u001b[0;31m---------------------------------------------------------------------------\u001b[0m",
      "\u001b[0;31mValueError\u001b[0m                                Traceback (most recent call last)",
      "Input \u001b[0;32mIn [36]\u001b[0m, in \u001b[0;36m<cell line: 10>\u001b[0;34m()\u001b[0m\n\u001b[1;32m     10\u001b[0m \u001b[38;5;28;01mfor\u001b[39;00m t \u001b[38;5;129;01min\u001b[39;00m \u001b[38;5;28mrange\u001b[39m(\u001b[38;5;241m1\u001b[39m,\u001b[38;5;28mlen\u001b[39m(tau)\u001b[38;5;241m-\u001b[39m\u001b[38;5;241m1\u001b[39m): \u001b[38;5;66;03m#ignoring x=0, x=1\u001b[39;00m\n\u001b[1;32m     11\u001b[0m     monitor_ratio\u001b[38;5;241m.\u001b[39mappend(\u001b[38;5;241m2\u001b[39m\u001b[38;5;241m*\u001b[39mm[t])\n\u001b[0;32m---> 12\u001b[0m     monitor_ratio\u001b[38;5;241m=\u001b[39m\u001b[43mnp\u001b[49m\u001b[38;5;241;43m.\u001b[39;49m\u001b[43mdivide\u001b[49m\u001b[43m(\u001b[49m\u001b[43mmonitor_ratio\u001b[49m\u001b[43m,\u001b[49m\u001b[43mgrid\u001b[49m\u001b[43m[\u001b[49m\u001b[43mt\u001b[49m\u001b[43m]\u001b[49m\u001b[43m)\u001b[49m\n",
      "\u001b[0;31mValueError\u001b[0m: operands could not be broadcast together with shapes (1,4014) (2007,) "
     ]
    }
   ],
   "source": [
    "tau = [-math.log((ustar-x)/ustar) for x in time[0:len(time)-1]]\n",
    "monitor_ratio = []#-math.log((ustar-x)/ustar) for x in time[0:len(time)-1]\n",
    "\n",
    "L=len(m[0])\n",
    "\n",
    "\"\"\"for i in range(4,L-4): #ignoring x=0, x=1\n",
    "    monitor_ratio.append(2*m[len(m)-1][i]/grid[len(m)-1][i])\"\"\"\n",
    "    \n",
    "monitor_ratio=[]\n",
    "for t in range(1,len(tau)-1): #ignoring x=0, x=1\n",
    "    monitor_ratio.append(2*m[t])\n",
    "    monitor_ratio=np.divide(monitor_ratio,grid[t])"
   ]
  },
  {
   "cell_type": "code",
   "execution_count": 12,
   "id": "767ccba3",
   "metadata": {},
   "outputs": [
    {
     "data": {
      "text/plain": [
       "7.774435510302854"
      ]
     },
     "execution_count": 12,
     "metadata": {},
     "output_type": "execute_result"
    }
   ],
   "source": [
    "tau[len(tau)-1]"
   ]
  },
  {
   "cell_type": "code",
   "execution_count": 58,
   "id": "8719bda7",
   "metadata": {},
   "outputs": [
    {
     "data": {
      "text/plain": [
       "5"
      ]
     },
     "execution_count": 58,
     "metadata": {},
     "output_type": "execute_result"
    }
   ],
   "source": [
    "max([1,5,2])"
   ]
  },
  {
   "cell_type": "code",
   "execution_count": 23,
   "id": "a8e05841",
   "metadata": {},
   "outputs": [
    {
     "data": {
      "text/plain": [
       "238"
      ]
     },
     "execution_count": 23,
     "metadata": {},
     "output_type": "execute_result"
    }
   ],
   "source": [
    "len(monitor_ratio)\n",
    "len(tau)"
   ]
  },
  {
   "cell_type": "code",
   "execution_count": null,
   "id": "52c75ddc",
   "metadata": {},
   "outputs": [],
   "source": [
    "plot(tau[], monitor_ratio)"
   ]
  }
 ],
 "metadata": {
  "kernelspec": {
   "display_name": "Python 3 (ipykernel)",
   "language": "python",
   "name": "python3"
  },
  "language_info": {
   "codemirror_mode": {
    "name": "ipython",
    "version": 3
   },
   "file_extension": ".py",
   "mimetype": "text/x-python",
   "name": "python",
   "nbconvert_exporter": "python",
   "pygments_lexer": "ipython3",
   "version": "3.9.12"
  }
 },
 "nbformat": 4,
 "nbformat_minor": 5
}
