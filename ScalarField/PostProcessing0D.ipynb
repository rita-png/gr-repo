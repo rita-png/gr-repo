{
 "cells": [
  {
   "cell_type": "code",
   "execution_count": 1,
   "id": "306b8ccb",
   "metadata": {},
   "outputs": [],
   "source": [
    "import pandas as pd\n",
    "import numpy as np\n",
    "import os\n",
    "import math\n",
    "import matplotlib.pyplot as plt\n",
    "import numpy as np\n",
    "from matplotlib import style\n",
    "\n",
    "import scipy\n",
    "import numpy as np\n",
    "from scipy import interpolate\n",
    "from io import StringIO\n",
    "\n",
    "from scipy.interpolate import UnivariateSpline"
   ]
  },
  {
   "cell_type": "markdown",
   "id": "7d60e115",
   "metadata": {},
   "source": [
    "# Reading data"
   ]
  },
  {
   "cell_type": "markdown",
   "id": "93f38ab0",
   "metadata": {},
   "source": [
    "CSV format"
   ]
  },
  {
   "cell_type": "code",
   "execution_count": 2,
   "id": "e80087ba",
   "metadata": {},
   "outputs": [
    {
     "name": "stdout",
     "output_type": "stream",
     "text": [
      "False\n",
      "True\n"
     ]
    }
   ],
   "source": [
    "#from bigfloat import *\n",
    "\n",
    "def isNaN(string):\n",
    "    return string != string\n",
    "print(isNaN(\"hello\"))\n",
    "print(isNaN(np.nan))"
   ]
  },
  {
   "cell_type": "markdown",
   "id": "afb20b06",
   "metadata": {},
   "source": [
    "Muninn format"
   ]
  },
  {
   "cell_type": "code",
   "execution_count": 3,
   "id": "b343325a",
   "metadata": {},
   "outputs": [
    {
     "name": "stdout",
     "output_type": "stream",
     "text": [
      "/home/rita13santos/Desktop/run6/m.txt\n",
      "/home/rita13santos/Desktop/run6/beta.txt\n",
      "/home/rita13santos/Desktop/run6/psi.txt\n",
      "/home/rita13santos/Desktop/run6/derpsi.txt\n"
     ]
    }
   ],
   "source": [
    "res=1\n",
    "vars=[\"m\", \"beta\", \"psi\", \"derpsi\"]\n",
    "time=[]\n",
    "mori=[]\n",
    "mscri=[]\n",
    "betaori=[]\n",
    "betascri=[]\n",
    "psiori=[]\n",
    "psiscri=[]\n",
    "derpsiori=[]\n",
    "derpsiscri=[]\n",
    "k=1\n",
    "\n",
    "for var in vars:\n",
    "    \n",
    "    \n",
    "    #dir = \"/home/rita13santos/Desktop/este/{}.txt\".format(var)\n",
    "    dir = \"/home/rita13santos/Desktop/run6/{}.txt\".format(var)\n",
    "    #26sep/run21\n",
    "    \n",
    "    print(dir)\n",
    "\n",
    "    with open(dir) as f:\n",
    "        i=0\n",
    "        for line in f:\n",
    "            i=i+1\n",
    "            a=line.split()\n",
    "            #print(\"i = \", i, \" a = \", a)\n",
    "            \n",
    "            \n",
    "            \n",
    "            #a=line.split()\n",
    "            \n",
    "            if k==1:\n",
    "                time.append(float(a[0]))\n",
    "                mori.append(float(a[1]))\n",
    "                mscri.append(float(a[2]))\n",
    "            elif k==2:\n",
    "                betaori.append(float(a[1]))\n",
    "                betascri.append(float(a[2]))\n",
    "            elif k==3:\n",
    "                psiori.append(float(a[1]))\n",
    "                psiscri.append(float(a[2]))\n",
    "            elif k==4:\n",
    "                derpsiori.append(float(a[1]))\n",
    "                derpsiscri.append(float(a[2]))\n",
    "                \n",
    "                \n",
    "                    \n",
    "    k=k+1\n",
    "\n",
    "#count=len(datatime[2])+1\n",
    "#count"
   ]
  },
  {
   "cell_type": "markdown",
   "id": "d5e83eaa",
   "metadata": {},
   "source": [
    "####"
   ]
  },
  {
   "cell_type": "markdown",
   "id": "0f7f8fb9",
   "metadata": {},
   "source": [
    "# Styling plots"
   ]
  },
  {
   "cell_type": "code",
   "execution_count": 4,
   "id": "953579ab",
   "metadata": {},
   "outputs": [],
   "source": [
    "plt.rcParams.update({\n",
    "    'font.size': 12,\n",
    "    'legend.fontsize':12,\n",
    "    'xtick.labelsize': 'large',\n",
    "    'xtick.color': 'black',\n",
    "    'ytick.labelsize': 'large',\n",
    "    'ytick.color': 'black'})"
   ]
  },
  {
   "cell_type": "markdown",
   "id": "9af66ba7",
   "metadata": {},
   "source": [
    "# Convert central to Bondi time"
   ]
  },
  {
   "cell_type": "code",
   "execution_count": 5,
   "id": "3ff40c21",
   "metadata": {},
   "outputs": [],
   "source": [
    "\n",
    "#trapezoidal rule\n",
    "def trap_integrator(func,f0,x):\n",
    "    integration=[f0]\n",
    "    for i in range(0,len(x)-1):\n",
    "        dx=x[i+1]-x[i]\n",
    "    \n",
    "        integral=dx/2*(func(x[i+1])+func(x[i]))\n",
    "        \n",
    "        integration.append(integration[i]+integral)\n",
    "    return integration\n",
    "\n",
    "#convert central time to bondi time\n",
    "def converttobondi(time, betascri):\n",
    "\n",
    "    spl = UnivariateSpline(time, np.multiply(np.exp(np.multiply(betascri,-2)),time), s=0)\n",
    "\n",
    "    return trap_integrator(spl,0,time)\n",
    "\n",
    "bonditime=converttobondi(time,betascri)"
   ]
  },
  {
   "cell_type": "markdown",
   "id": "52719f95",
   "metadata": {},
   "source": [
    "# Phi at origin"
   ]
  },
  {
   "cell_type": "markdown",
   "id": "54b5aa70",
   "metadata": {},
   "source": [
    "Value of Derpsi at the origin over time"
   ]
  },
  {
   "cell_type": "code",
   "execution_count": 6,
   "id": "6fa03df7",
   "metadata": {},
   "outputs": [
    {
     "data": {
      "text/plain": [
       "[<matplotlib.lines.Line2D at 0x7fddae9d9610>]"
      ]
     },
     "execution_count": 6,
     "metadata": {},
     "output_type": "execute_result"
    },
    {
     "data": {
      "image/png": "[encoded data removed]",
      "text/plain": [
       "<Figure size 432x288 with 1 Axes>"
      ]
     },
     "metadata": {
      "needs_background": "light"
     },
     "output_type": "display_data"
    }
   ],
   "source": [
    "plt.plot(time, derpsiori)"
   ]
  },
  {
   "cell_type": "markdown",
   "id": "28d65fd0",
   "metadata": {},
   "source": [
    "Finding zero crossings"
   ]
  },
  {
   "cell_type": "code",
   "execution_count": 20,
   "id": "c2688a1c",
   "metadata": {},
   "outputs": [
    {
     "name": "stdout",
     "output_type": "stream",
     "text": [
      "Number of zero crossing is  11\n",
      "[2.02518885 2.04021215 2.04291019 2.04346935]\n",
      "\n",
      "Tau star is  2.0434864975216973\n",
      "Tau* is u* in my report\n",
      "\n",
      "Delta is  3.474473206911517\n"
     ]
    }
   ],
   "source": [
    "from scipy.interpolate import UnivariateSpline\n",
    "\n",
    "spl = UnivariateSpline(time[0:len(derpsiori)-10], derpsiori[0:len(derpsiori)-10], s=0)\n",
    "\n",
    "roots=spl.roots()\n",
    "print(\"Number of zero crossing is \",len(roots))\n",
    "print(roots[k:(k+3)+1])\n",
    "\n",
    "k=2\n",
    "tau_star=(roots[0+k]*roots[3+k]-roots[1+k]*roots[2+k])/(roots[0+k]-roots[1+k]-roots[2+k]+roots[3+k])\n",
    "print(\"\\nTau star is \", tau_star)\n",
    "print(\"Tau* is u* in my report\") #all my times tau (proper time) and substituted by u\n",
    "\n",
    "Delta=2*math.log((tau_star-roots[k])/(tau_star-roots[k+1]))\n",
    "print(\"\\nDelta is \", Delta)"
   ]
  },
  {
   "cell_type": "code",
   "execution_count": 21,
   "id": "197088c2",
   "metadata": {},
   "outputs": [
    {
     "data": {
      "text/plain": [
       "3.4311403954930673"
      ]
     },
     "execution_count": 21,
     "metadata": {},
     "output_type": "execute_result"
    }
   ],
   "source": [
    "(3.3878075840746176+3.474473206911517)/2"
   ]
  },
  {
   "cell_type": "code",
   "execution_count": 51,
   "id": "b82a3d91",
   "metadata": {},
   "outputs": [
    {
     "data": {
      "text/plain": [
       "2.043650653050501"
      ]
     },
     "execution_count": 51,
     "metadata": {},
     "output_type": "execute_result"
    }
   ],
   "source": [
    "tau_star= 2.0436506530505013\n",
    "tau_star"
   ]
  },
  {
   "cell_type": "code",
   "execution_count": 52,
   "id": "40586b5a",
   "metadata": {},
   "outputs": [],
   "source": [
    "#adapt_time = [-math.log(abs((tau_star-x))) for x in time[0:len(time)-1]]#0:len(time)-step:step]] #ignoring last timestep, where log(0)\n",
    "\n",
    "adapt_time=[]\n",
    "\n",
    "for x in time:\n",
    "    if x<=tau_star:\n",
    "        adapt_time.append(-math.log((tau_star-x)/tau_star))"
   ]
  },
  {
   "cell_type": "code",
   "execution_count": 53,
   "id": "ee2034e7",
   "metadata": {},
   "outputs": [
    {
     "data": {
      "image/png": "[encoded data removed]",
      "text/plain": [
       "<Figure size 792x432 with 2 Axes>"
      ]
     },
     "metadata": {},
     "output_type": "display_data"
    }
   ],
   "source": [
    "with plt.style.context('ggplot'):\n",
    "    #plt.rcParams.update({'font.size': 12})    \n",
    "    #plt.rcParams[\"figure.figsize\"] = (7,5)\n",
    "    fig, (ax1, ax2) = plt.subplots(1, 2,figsize=(11, 6))\n",
    "\n",
    "    ax1.plot(time,derpsiori,linewidth=0.7)\n",
    "    #ax1.scatter(time,derpsiori,s=0.1)\n",
    "    ax1.set_xlabel(\"Proper time u\",fontsize=15)#$\\u03C4$\")\n",
    "    ax1.set_ylabel(\"$\\phi$\",fontsize=15)#(\"$\\partial_x \\psi$\")\n",
    "    #ax1.set_xlim([2.8,3])\n",
    "    \n",
    "    ax2.plot(adapt_time[0:len(adapt_time)],derpsiori[0:len(adapt_time)],linewidth=0.7)\n",
    "    ax2.scatter(adapt_time[0:len(adapt_time)],derpsiori[0:len(adapt_time)],s=1)\n",
    "    ax2.set_xlabel(\"Similarity time T\",fontsize=15)#\"Adapted time T\")\n",
    "    ax2.set_ylabel(\"$\\phi$\",fontsize=15)\n",
    "    \n",
    "    #ax2.set_xlim([2.825,2.875])\n",
    "    \n",
    "    plt.savefig(\"myImagePDF.pdf\", format=\"pdf\", bbox_inches=\"tight\")\n",
    "    plt.show()\n",
    "    "
   ]
  },
  {
   "cell_type": "code",
   "execution_count": 71,
   "id": "a56daa40",
   "metadata": {},
   "outputs": [
    {
     "data": {
      "text/plain": [
       "array([0.04365568, 1.28943561, 2.82161293, 4.5252392 , 5.96432296,\n",
       "       7.6410565 ])"
      ]
     },
     "execution_count": 71,
     "metadata": {},
     "output_type": "execute_result"
    }
   ],
   "source": [
    "from scipy.interpolate import UnivariateSpline\n",
    "\n",
    "spl = UnivariateSpline(adapt_time,derpsiori[0:len(adapt_time)], s=0)\n",
    "\n",
    "roots=spl.roots()\n",
    "len(roots)\n",
    "roots"
   ]
  },
  {
   "cell_type": "code",
   "execution_count": 73,
   "id": "2b6a10a8",
   "metadata": {},
   "outputs": [
    {
     "data": {
      "text/plain": [
       "-2.4915598599999997"
      ]
     },
     "execution_count": 73,
     "metadata": {},
     "output_type": "execute_result"
    }
   ],
   "source": [
    "(0.04365568-1.28943561)*2"
   ]
  },
  {
   "cell_type": "code",
   "execution_count": 80,
   "id": "e683513c",
   "metadata": {},
   "outputs": [
    {
     "data": {
      "text/plain": [
       "3.3803598100000003"
      ]
     },
     "execution_count": 80,
     "metadata": {},
     "output_type": "execute_result"
    }
   ],
   "source": [
    "(3.407252539999999+3.3534670800000015)/2"
   ]
  },
  {
   "cell_type": "code",
   "execution_count": 74,
   "id": "a03391c3",
   "metadata": {},
   "outputs": [
    {
     "data": {
      "text/plain": [
       "3.0643546400000004"
      ]
     },
     "execution_count": 74,
     "metadata": {},
     "output_type": "execute_result"
    }
   ],
   "source": [
    "(2.82161293-1.28943561)*2"
   ]
  },
  {
   "cell_type": "code",
   "execution_count": 75,
   "id": "9e071777",
   "metadata": {},
   "outputs": [
    {
     "data": {
      "text/plain": [
       "3.407252539999999"
      ]
     },
     "execution_count": 75,
     "metadata": {},
     "output_type": "execute_result"
    }
   ],
   "source": [
    "(4.5252392-2.82161293)*2"
   ]
  },
  {
   "cell_type": "code",
   "execution_count": 76,
   "id": "25f6ea63",
   "metadata": {},
   "outputs": [
    {
     "data": {
      "text/plain": [
       "2.87816752"
      ]
     },
     "execution_count": 76,
     "metadata": {},
     "output_type": "execute_result"
    }
   ],
   "source": [
    "(5.96432296-4.5252392)*2"
   ]
  },
  {
   "cell_type": "code",
   "execution_count": 77,
   "id": "5f736f5c",
   "metadata": {},
   "outputs": [
    {
     "data": {
      "text/plain": [
       "3.3534670800000015"
      ]
     },
     "execution_count": 77,
     "metadata": {},
     "output_type": "execute_result"
    }
   ],
   "source": [
    "(7.6410565-5.96432296)*2"
   ]
  },
  {
   "cell_type": "markdown",
   "id": "f47dc6d6",
   "metadata": {},
   "source": [
    "News function"
   ]
  },
  {
   "cell_type": "code",
   "execution_count": 52,
   "id": "a0eaac7a",
   "metadata": {},
   "outputs": [
    {
     "data": {
      "image/png": "[encoded data removed]",
      "text/plain": [
       "<Figure size 792x432 with 2 Axes>"
      ]
     },
     "metadata": {},
     "output_type": "display_data"
    }
   ],
   "source": [
    "news=[]\n",
    "for i in range(0, len(psiscri)-1):\n",
    "    new=np.exp(-2*betascri[i])*(psiscri[i+1]-psiscri[i])/(time[i+1]-time[i])##eq.59 from my report ref eq:news\n",
    "    news.append(new)\n",
    "\n",
    "    \n",
    "with plt.style.context('ggplot'):\n",
    "    #plt.rcParams.update({'font.size': 12})    \n",
    "    #plt.rcParams[\"figure.figsize\"] = (7,5)\n",
    "    fig, (ax1, ax2) = plt.subplots(1, 2,figsize=(11, 6))\n",
    "\n",
    "    #ax1.scatter(bonditime[0:len(news)],news,s=0.5)\n",
    "    ax1.plot(bonditime[0:len(news)-10],news[0:len(news)-10],linewidth=0.8)\n",
    "    ax1.set_xlabel(\"Bondi time $u_B$\",fontsize=15)#$\\u03C4$\")\n",
    "    ax1.set_ylabel(\"News\",fontsize=15)\n",
    "    \n",
    "    ax2.scatter(adapt_time[0:len(adapt_time)-31],news[0:len(adapt_time)-31],s=2)\n",
    "    ax2.plot(adapt_time[1:len(adapt_time)-1],news[1:len(adapt_time)-1],linewidth=0.5)\n",
    "    ax2.set_xlabel(\"Similarity time T\",fontsize=15)#Adapted time T\")\n",
    "    fig.tight_layout(pad=3.0)\n",
    "    ax2.set_ylabel(\"News\",fontsize=15)\n",
    "    plt.xlim([0,9])\n",
    "    \n",
    "    \n",
    "    plt.savefig(\"myImagePDF.pdf\", format=\"pdf\", bbox_inches=\"tight\")\n",
    "    \n",
    "    plt.show()"
   ]
  },
  {
   "cell_type": "markdown",
   "id": "33fb26c6",
   "metadata": {},
   "source": [
    "$\\beta$ at scri+"
   ]
  },
  {
   "cell_type": "code",
   "execution_count": 24,
   "id": "62345099",
   "metadata": {},
   "outputs": [
    {
     "data": {
      "image/png": "[encoded data removed]",
      "text/plain": [
       "<Figure size 504x360 with 1 Axes>"
      ]
     },
     "metadata": {},
     "output_type": "display_data"
    }
   ],
   "source": [
    "#tau_star=(2.043599047731676)\n",
    "adapt_time=[]\n",
    "\n",
    "for x in time:\n",
    "    if x<=tau_star:\n",
    "        adapt_time.append(-math.log(abs((tau_star-x))))\n",
    "        \n",
    "        \n",
    "with plt.style.context('ggplot'):\n",
    "    \n",
    "    #plt.rcParams.update({'font.size': 12})    \n",
    "    plt.rcParams[\"figure.figsize\"] = (7,5)  \n",
    "    plt.xlabel(\"Similarity time T\", fontsize=15)#T\n",
    "    plt.ylabel(r'$H = \\beta (T,\\infty)$', fontsize=15)#H = β(uC , ∞) \n",
    "    plt.plot(bonditime[0:len(bonditime)-150],betascri[0:len(bonditime)-150],linewidth=0.5)\n",
    "    plt.scatter(bonditime[0:len(bonditime)-500],betascri[0:len(bonditime)-500],s=0.5)\n",
    "    #plt.scatter(adapt_time[0:len(adapt_time)],betascri[0:len(adapt_time)],s=0.5)\n",
    "    #plt.plot(adapt_time[0:len(adapt_time)-1],betascri[0:len(adapt_time)-1],linewidth=0.5)\n",
    "    #plt.plot(adapt_time,mplt[0:len(adapt_time)],linewidth=0.5)\n",
    "    #plt.xlim([0,1.])\n",
    "    plt.savefig(\"myImagePDF.pdf\", format=\"pdf\", bbox_inches=\"tight\")\n",
    "    plt.show()"
   ]
  },
  {
   "cell_type": "code",
   "execution_count": null,
   "id": "506e88f5",
   "metadata": {},
   "outputs": [],
   "source": []
  },
  {
   "cell_type": "code",
   "execution_count": null,
   "id": "e23b719e",
   "metadata": {},
   "outputs": [],
   "source": []
  },
  {
   "cell_type": "markdown",
   "id": "2402cba8",
   "metadata": {},
   "source": [
    "Bondi mass at scri+"
   ]
  },
  {
   "cell_type": "code",
   "execution_count": 207,
   "id": "80ab344a",
   "metadata": {},
   "outputs": [
    {
     "ename": "ValueError",
     "evalue": "x and y must be the same size",
     "output_type": "error",
     "traceback": [
      "\u001b[0;31m---------------------------------------------------------------------------\u001b[0m",
      "\u001b[0;31mValueError\u001b[0m                                Traceback (most recent call last)",
      "Input \u001b[0;32mIn [207]\u001b[0m, in \u001b[0;36m<cell line: 5>\u001b[0;34m()\u001b[0m\n\u001b[1;32m      9\u001b[0m fig, (ax1, ax2) \u001b[38;5;241m=\u001b[39m plt\u001b[38;5;241m.\u001b[39msubplots(\u001b[38;5;241m1\u001b[39m, \u001b[38;5;241m2\u001b[39m,figsize\u001b[38;5;241m=\u001b[39m(\u001b[38;5;241m11\u001b[39m, \u001b[38;5;241m6\u001b[39m))\n\u001b[1;32m     14\u001b[0m \u001b[38;5;66;03m# time\u001b[39;00m\n\u001b[0;32m---> 15\u001b[0m \u001b[43max1\u001b[49m\u001b[38;5;241;43m.\u001b[39;49m\u001b[43mscatter\u001b[49m\u001b[43m(\u001b[49m\u001b[43mbonditime\u001b[49m\u001b[43m,\u001b[49m\u001b[43mmplt\u001b[49m\u001b[43m,\u001b[49m\u001b[43ms\u001b[49m\u001b[38;5;241;43m=\u001b[39;49m\u001b[38;5;241;43m0.5\u001b[39;49m\u001b[43m)\u001b[49m\n\u001b[1;32m     16\u001b[0m ax1\u001b[38;5;241m.\u001b[39mplot(bonditime,mplt,linewidth\u001b[38;5;241m=\u001b[39m\u001b[38;5;241m0.5\u001b[39m)\n\u001b[1;32m     17\u001b[0m ax1\u001b[38;5;241m.\u001b[39mset_ylabel(\u001b[38;5;124m\"\u001b[39m\u001b[38;5;124mBondi mass\u001b[39m\u001b[38;5;124m\"\u001b[39m)\n",
      "File \u001b[0;32m~/anaconda3/lib/python3.9/site-packages/matplotlib/__init__.py:1465\u001b[0m, in \u001b[0;36m_preprocess_data.<locals>.inner\u001b[0;34m(ax, data, *args, **kwargs)\u001b[0m\n\u001b[1;32m   1462\u001b[0m \u001b[38;5;129m@functools\u001b[39m\u001b[38;5;241m.\u001b[39mwraps(func)\n\u001b[1;32m   1463\u001b[0m \u001b[38;5;28;01mdef\u001b[39;00m \u001b[38;5;21minner\u001b[39m(ax, \u001b[38;5;241m*\u001b[39margs, data\u001b[38;5;241m=\u001b[39m\u001b[38;5;28;01mNone\u001b[39;00m, \u001b[38;5;241m*\u001b[39m\u001b[38;5;241m*\u001b[39mkwargs):\n\u001b[1;32m   1464\u001b[0m     \u001b[38;5;28;01mif\u001b[39;00m data \u001b[38;5;129;01mis\u001b[39;00m \u001b[38;5;28;01mNone\u001b[39;00m:\n\u001b[0;32m-> 1465\u001b[0m         \u001b[38;5;28;01mreturn\u001b[39;00m \u001b[43mfunc\u001b[49m\u001b[43m(\u001b[49m\u001b[43max\u001b[49m\u001b[43m,\u001b[49m\u001b[43m \u001b[49m\u001b[38;5;241;43m*\u001b[39;49m\u001b[38;5;28;43mmap\u001b[39;49m\u001b[43m(\u001b[49m\u001b[43msanitize_sequence\u001b[49m\u001b[43m,\u001b[49m\u001b[43m \u001b[49m\u001b[43margs\u001b[49m\u001b[43m)\u001b[49m\u001b[43m,\u001b[49m\u001b[43m \u001b[49m\u001b[38;5;241;43m*\u001b[39;49m\u001b[38;5;241;43m*\u001b[39;49m\u001b[43mkwargs\u001b[49m\u001b[43m)\u001b[49m\n\u001b[1;32m   1467\u001b[0m     bound \u001b[38;5;241m=\u001b[39m new_sig\u001b[38;5;241m.\u001b[39mbind(ax, \u001b[38;5;241m*\u001b[39margs, \u001b[38;5;241m*\u001b[39m\u001b[38;5;241m*\u001b[39mkwargs)\n\u001b[1;32m   1468\u001b[0m     auto_label \u001b[38;5;241m=\u001b[39m (bound\u001b[38;5;241m.\u001b[39marguments\u001b[38;5;241m.\u001b[39mget(label_namer)\n\u001b[1;32m   1469\u001b[0m                   \u001b[38;5;129;01mor\u001b[39;00m bound\u001b[38;5;241m.\u001b[39mkwargs\u001b[38;5;241m.\u001b[39mget(label_namer))\n",
      "File \u001b[0;32m~/anaconda3/lib/python3.9/site-packages/matplotlib/axes/_axes.py:4652\u001b[0m, in \u001b[0;36mAxes.scatter\u001b[0;34m(self, x, y, s, c, marker, cmap, norm, vmin, vmax, alpha, linewidths, edgecolors, plotnonfinite, **kwargs)\u001b[0m\n\u001b[1;32m   4650\u001b[0m y \u001b[38;5;241m=\u001b[39m np\u001b[38;5;241m.\u001b[39mma\u001b[38;5;241m.\u001b[39mravel(y)\n\u001b[1;32m   4651\u001b[0m \u001b[38;5;28;01mif\u001b[39;00m x\u001b[38;5;241m.\u001b[39msize \u001b[38;5;241m!=\u001b[39m y\u001b[38;5;241m.\u001b[39msize:\n\u001b[0;32m-> 4652\u001b[0m     \u001b[38;5;28;01mraise\u001b[39;00m \u001b[38;5;167;01mValueError\u001b[39;00m(\u001b[38;5;124m\"\u001b[39m\u001b[38;5;124mx and y must be the same size\u001b[39m\u001b[38;5;124m\"\u001b[39m)\n\u001b[1;32m   4654\u001b[0m \u001b[38;5;28;01mif\u001b[39;00m s \u001b[38;5;129;01mis\u001b[39;00m \u001b[38;5;28;01mNone\u001b[39;00m:\n\u001b[1;32m   4655\u001b[0m     s \u001b[38;5;241m=\u001b[39m (\u001b[38;5;241m20\u001b[39m \u001b[38;5;28;01mif\u001b[39;00m mpl\u001b[38;5;241m.\u001b[39mrcParams[\u001b[38;5;124m'\u001b[39m\u001b[38;5;124m_internal.classic_mode\u001b[39m\u001b[38;5;124m'\u001b[39m] \u001b[38;5;28;01melse\u001b[39;00m\n\u001b[1;32m   4656\u001b[0m          mpl\u001b[38;5;241m.\u001b[39mrcParams[\u001b[38;5;124m'\u001b[39m\u001b[38;5;124mlines.markersize\u001b[39m\u001b[38;5;124m'\u001b[39m] \u001b[38;5;241m*\u001b[39m\u001b[38;5;241m*\u001b[39m \u001b[38;5;241m2.0\u001b[39m)\n",
      "\u001b[0;31mValueError\u001b[0m: x and y must be the same size"
     ]
    },
    {
     "data": {
      "image/png": "[encoded data removed]",
      "text/plain": [
       "<Figure size 792x432 with 2 Axes>"
      ]
     },
     "metadata": {},
     "output_type": "display_data"
    }
   ],
   "source": [
    "mplt=[]\n",
    "for i in range(0, len(mscri)):\n",
    "    mplt.append(mscri[i]) #saving derpsi at the origin for each timestep\n",
    "\n",
    "with plt.style.context('ggplot'):\n",
    "    \n",
    "    #plt.rcParams.update({'font.size': 12})    \n",
    "    #plt.rcParams[\"figure.figsize\"] = (7,5)\n",
    "    fig, (ax1, ax2) = plt.subplots(1, 2,figsize=(11, 6))\n",
    "    \n",
    "    \n",
    "    \n",
    "    \n",
    "    # time\n",
    "    ax1.scatter(bonditime,mplt,s=0.5)\n",
    "    ax1.plot(bonditime,mplt,linewidth=0.5)\n",
    "    ax1.set_ylabel(\"Bondi mass\")\n",
    "    #ax1.set_xlim([.8,1.04])\n",
    "    #ax1.set_ylim([-0.001,0.002])\n",
    "    ax1.set_yscale('log')\n",
    "    #ax1.set_xlabel(\"$\\u03C4$\")#T\n",
    "    ax1.set_xlabel(\"Bondi time $u_B$\")#$\\u03C4$\")\n",
    "    \n",
    "    # adapt time\n",
    "    \n",
    "    ax2.plot(adapt_time,np.array(mplt[0:len(adapt_time)]),linewidth=0.5)\n",
    "    ax2.set_yscale('log')\n",
    "    #ax2.set_xlim([2.55,2.6])\n",
    "    #ax2.set_ylim([-0.001,0.001])\n",
    "    ax2.set_ylabel(\"Bondi mass\")\n",
    "    ax2.set_xlabel(\"T\")\n",
    "    \n",
    "    plt.show()"
   ]
  },
  {
   "cell_type": "code",
   "execution_count": null,
   "id": "7b6a6a9c",
   "metadata": {},
   "outputs": [],
   "source": []
  },
  {
   "cell_type": "code",
   "execution_count": null,
   "id": "45a4eb11",
   "metadata": {},
   "outputs": [],
   "source": []
  },
  {
   "cell_type": "code",
   "execution_count": null,
   "id": "2acb3058",
   "metadata": {},
   "outputs": [],
   "source": []
  },
  {
   "cell_type": "code",
   "execution_count": null,
   "id": "5fba515c",
   "metadata": {},
   "outputs": [],
   "source": []
  },
  {
   "cell_type": "code",
   "execution_count": null,
   "id": "9d524176",
   "metadata": {},
   "outputs": [],
   "source": []
  }
 ],
 "metadata": {
  "kernelspec": {
   "display_name": "Python 3 (ipykernel)",
   "language": "python",
   "name": "python3"
  },
  "language_info": {
   "codemirror_mode": {
    "name": "ipython",
    "version": 3
   },
   "file_extension": ".py",
   "mimetype": "text/x-python",
   "name": "python",
   "nbconvert_exporter": "python",
   "pygments_lexer": "ipython3",
   "version": "3.9.12"
  }
 },
 "nbformat": 4,
 "nbformat_minor": 5
}
