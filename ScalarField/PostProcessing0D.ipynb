{
 "cells": [
  {
   "cell_type": "code",
   "execution_count": 1,
   "id": "306b8ccb",
   "metadata": {},
   "outputs": [],
   "source": [
    "import pandas as pd\n",
    "import numpy as np\n",
    "import os\n",
    "import math\n",
    "import matplotlib.pyplot as plt\n",
    "import numpy as np\n",
    "from matplotlib import style\n",
    "\n",
    "import scipy\n",
    "import numpy as np\n",
    "from scipy import interpolate\n",
    "from io import StringIO\n",
    "\n",
    "from scipy.interpolate import UnivariateSpline"
   ]
  },
  {
   "cell_type": "markdown",
   "id": "7d60e115",
   "metadata": {},
   "source": [
    "# Reading data"
   ]
  },
  {
   "cell_type": "markdown",
   "id": "93f38ab0",
   "metadata": {},
   "source": [
    "CSV format"
   ]
  },
  {
   "cell_type": "code",
   "execution_count": 2,
   "id": "e80087ba",
   "metadata": {},
   "outputs": [
    {
     "name": "stdout",
     "output_type": "stream",
     "text": [
      "False\n",
      "True\n"
     ]
    }
   ],
   "source": [
    "#from bigfloat import *\n",
    "\n",
    "def isNaN(string):\n",
    "    return string != string\n",
    "print(isNaN(\"hello\"))\n",
    "print(isNaN(np.nan))"
   ]
  },
  {
   "cell_type": "markdown",
   "id": "afb20b06",
   "metadata": {},
   "source": [
    "Muninn format"
   ]
  },
  {
   "cell_type": "code",
   "execution_count": 3,
   "id": "b343325a",
   "metadata": {},
   "outputs": [
    {
     "name": "stdout",
     "output_type": "stream",
     "text": [
      "/home/rita13santos/Desktop/run3/m.txt\n",
      "/home/rita13santos/Desktop/run3/beta.txt\n",
      "/home/rita13santos/Desktop/run3/psi.txt\n",
      "/home/rita13santos/Desktop/run3/derpsi.txt\n"
     ]
    }
   ],
   "source": [
    "res=1\n",
    "vars=[\"m\", \"beta\", \"psi\", \"derpsi\"]\n",
    "time=[]\n",
    "mori=[]\n",
    "mscri=[]\n",
    "betaori=[]\n",
    "betascri=[]\n",
    "psiori=[]\n",
    "psiscri=[]\n",
    "derpsiori=[]\n",
    "derpsiscri=[]\n",
    "k=1\n",
    "\n",
    "for var in vars:\n",
    "    \n",
    "    \n",
    "    dir = \"/home/rita13santos/Desktop/run3/{}.txt\".format(var)\n",
    "    \n",
    "    \n",
    "    print(dir)\n",
    "\n",
    "    with open(dir) as f:\n",
    "        i=0\n",
    "        for line in f:\n",
    "            i=i+1\n",
    "            a=line.split()\n",
    "            #print(\"i = \", i, \" a = \", a)\n",
    "            \n",
    "            \n",
    "            \n",
    "            #a=line.split()\n",
    "            \n",
    "            if k==1:\n",
    "                time.append(float(a[0]))\n",
    "                mori.append(float(a[1]))\n",
    "                mscri.append(float(a[2]))\n",
    "            elif k==2:\n",
    "                betaori.append(float(a[1]))\n",
    "                betascri.append(float(a[2]))\n",
    "            elif k==3:\n",
    "                psiori.append(float(a[1]))\n",
    "                psiscri.append(float(a[2]))\n",
    "            elif k==4:\n",
    "                derpsiori.append(float(a[1]))\n",
    "                derpsiscri.append(float(a[2]))\n",
    "                \n",
    "                \n",
    "                    \n",
    "    k=k+1\n",
    "\n",
    "#count=len(datatime[2])+1\n",
    "#count"
   ]
  },
  {
   "cell_type": "markdown",
   "id": "d5e83eaa",
   "metadata": {},
   "source": [
    "####"
   ]
  },
  {
   "cell_type": "markdown",
   "id": "0f7f8fb9",
   "metadata": {},
   "source": [
    "# Styling plots"
   ]
  },
  {
   "cell_type": "code",
   "execution_count": 4,
   "id": "953579ab",
   "metadata": {},
   "outputs": [],
   "source": [
    "plt.rcParams.update({\n",
    "    'font.size': 12,\n",
    "    'legend.fontsize':12,\n",
    "    'xtick.labelsize': 'large',\n",
    "    'xtick.color': 'black',\n",
    "    'ytick.labelsize': 'large',\n",
    "    'ytick.color': 'black'})"
   ]
  },
  {
   "cell_type": "markdown",
   "id": "9af66ba7",
   "metadata": {},
   "source": [
    "# Convert central to Bondi time"
   ]
  },
  {
   "cell_type": "code",
   "execution_count": 5,
   "id": "3ff40c21",
   "metadata": {},
   "outputs": [],
   "source": [
    "\n",
    "#trapezoidal rule\n",
    "def trap_integrator(func,f0,x):\n",
    "    integration=[f0]\n",
    "    for i in range(0,len(x)-1):\n",
    "        dx=x[i+1]-x[i]\n",
    "    \n",
    "        integral=dx/2*(func(x[i+1])+func(x[i]))\n",
    "        \n",
    "        integration.append(integration[i]+integral)\n",
    "    return integration\n",
    "\n",
    "#convert central time to bondi time\n",
    "def converttobondi(time, betascri):\n",
    "\n",
    "    spl = UnivariateSpline(time, np.multiply(np.exp(np.multiply(betascri,-2)),time), s=0)\n",
    "\n",
    "    return trap_integrator(spl,0,time)\n",
    "\n",
    "bonditime=converttobondi(time,betascri)"
   ]
  },
  {
   "cell_type": "markdown",
   "id": "52719f95",
   "metadata": {},
   "source": [
    "# Phi at origin"
   ]
  },
  {
   "cell_type": "markdown",
   "id": "54b5aa70",
   "metadata": {},
   "source": [
    "Value of Derpsi at the origin over time"
   ]
  },
  {
   "cell_type": "code",
   "execution_count": 6,
   "id": "6fa03df7",
   "metadata": {},
   "outputs": [
    {
     "data": {
      "text/plain": [
       "[<matplotlib.lines.Line2D at 0x7f628854b730>]"
      ]
     },
     "execution_count": 6,
     "metadata": {},
     "output_type": "execute_result"
    },
    {
     "data": {
      "image/png": "[encoded data removed]",
      "text/plain": [
       "<Figure size 432x288 with 1 Axes>"
      ]
     },
     "metadata": {
      "needs_background": "light"
     },
     "output_type": "display_data"
    }
   ],
   "source": [
    "plt.plot(time, derpsiori)"
   ]
  },
  {
   "cell_type": "markdown",
   "id": "28d65fd0",
   "metadata": {},
   "source": [
    "Finding zero crossings"
   ]
  },
  {
   "cell_type": "code",
   "execution_count": 7,
   "id": "c2688a1c",
   "metadata": {},
   "outputs": [
    {
     "name": "stdout",
     "output_type": "stream",
     "text": [
      "Number of zero crossing is  2\n",
      "[]\n"
     ]
    },
    {
     "ename": "IndexError",
     "evalue": "index 3 is out of bounds for axis 0 with size 2",
     "output_type": "error",
     "traceback": [
      "\u001b[0;31m---------------------------------------------------------------------------\u001b[0m",
      "\u001b[0;31mIndexError\u001b[0m                                Traceback (most recent call last)",
      "Input \u001b[0;32mIn [7]\u001b[0m, in \u001b[0;36m<cell line: 10>\u001b[0;34m()\u001b[0m\n\u001b[1;32m      7\u001b[0m \u001b[38;5;28mprint\u001b[39m(roots[k:(k\u001b[38;5;241m+\u001b[39m\u001b[38;5;241m3\u001b[39m)\u001b[38;5;241m+\u001b[39m\u001b[38;5;241m1\u001b[39m])\n\u001b[1;32m      9\u001b[0m k\u001b[38;5;241m=\u001b[39m\u001b[38;5;241m0\u001b[39m\n\u001b[0;32m---> 10\u001b[0m tau_star\u001b[38;5;241m=\u001b[39m(roots[\u001b[38;5;241m0\u001b[39m\u001b[38;5;241m+\u001b[39mk]\u001b[38;5;241m*\u001b[39m\u001b[43mroots\u001b[49m\u001b[43m[\u001b[49m\u001b[38;5;241;43m3\u001b[39;49m\u001b[38;5;241;43m+\u001b[39;49m\u001b[43mk\u001b[49m\u001b[43m]\u001b[49m\u001b[38;5;241m-\u001b[39mroots[\u001b[38;5;241m1\u001b[39m\u001b[38;5;241m+\u001b[39mk]\u001b[38;5;241m*\u001b[39mroots[\u001b[38;5;241m2\u001b[39m\u001b[38;5;241m+\u001b[39mk])\u001b[38;5;241m/\u001b[39m(roots[\u001b[38;5;241m0\u001b[39m\u001b[38;5;241m+\u001b[39mk]\u001b[38;5;241m-\u001b[39mroots[\u001b[38;5;241m1\u001b[39m\u001b[38;5;241m+\u001b[39mk]\u001b[38;5;241m-\u001b[39mroots[\u001b[38;5;241m2\u001b[39m\u001b[38;5;241m+\u001b[39mk]\u001b[38;5;241m+\u001b[39mroots[\u001b[38;5;241m3\u001b[39m\u001b[38;5;241m+\u001b[39mk])\n\u001b[1;32m     11\u001b[0m \u001b[38;5;28mprint\u001b[39m(\u001b[38;5;124m\"\u001b[39m\u001b[38;5;130;01m\\n\u001b[39;00m\u001b[38;5;124mTau star is \u001b[39m\u001b[38;5;124m\"\u001b[39m, tau_star)\n\u001b[1;32m     12\u001b[0m \u001b[38;5;28mprint\u001b[39m(\u001b[38;5;124m\"\u001b[39m\u001b[38;5;124mTau* is u* in my report\u001b[39m\u001b[38;5;124m\"\u001b[39m) \u001b[38;5;66;03m#all my times tau (proper time) and substituted by u\u001b[39;00m\n",
      "\u001b[0;31mIndexError\u001b[0m: index 3 is out of bounds for axis 0 with size 2"
     ]
    }
   ],
   "source": [
    "from scipy.interpolate import UnivariateSpline\n",
    "\n",
    "spl = UnivariateSpline(time, derpsiori, s=0)\n",
    "\n",
    "roots=spl.roots()\n",
    "print(\"Number of zero crossing is \",len(roots))\n",
    "print(roots[k:(k+3)+1])\n",
    "\n",
    "k=0\n",
    "tau_star=(roots[0+k]*roots[3+k]-roots[1+k]*roots[2+k])/(roots[0+k]-roots[1+k]-roots[2+k]+roots[3+k])\n",
    "print(\"\\nTau star is \", tau_star)\n",
    "print(\"Tau* is u* in my report\") #all my times tau (proper time) and substituted by u\n",
    "\n",
    "Delta=2*math.log((tau_star-roots[k])/(tau_star-roots[k+1]))\n",
    "print(\"\\nDelta is \", Delta)"
   ]
  },
  {
   "cell_type": "code",
   "execution_count": 8,
   "id": "b82a3d91",
   "metadata": {},
   "outputs": [],
   "source": [
    "tau_star=2.0433"
   ]
  },
  {
   "cell_type": "code",
   "execution_count": 9,
   "id": "40586b5a",
   "metadata": {},
   "outputs": [],
   "source": [
    "#adapt_time = [-math.log(abs((tau_star-x))) for x in time[0:len(time)-1]]#0:len(time)-step:step]] #ignoring last timestep, where log(0)\n",
    "\n",
    "adapt_time=[]\n",
    "\n",
    "for x in time:\n",
    "    if x<=tau_star:\n",
    "        adapt_time.append(-math.log(abs((tau_star-x))))"
   ]
  },
  {
   "cell_type": "code",
   "execution_count": 10,
   "id": "ee2034e7",
   "metadata": {},
   "outputs": [
    {
     "data": {
      "image/png": "[encoded data removed]",
      "text/plain": [
       "<Figure size 792x432 with 2 Axes>"
      ]
     },
     "metadata": {},
     "output_type": "display_data"
    }
   ],
   "source": [
    "with plt.style.context('ggplot'):\n",
    "    #plt.rcParams.update({'font.size': 12})    \n",
    "    #plt.rcParams[\"figure.figsize\"] = (7,5)\n",
    "    fig, (ax1, ax2) = plt.subplots(1, 2,figsize=(11, 6))\n",
    "\n",
    "    ax1.plot(time,derpsiori,linewidth=0.7)\n",
    "    #ax1.scatter(time,derpsiori,s=0.1)\n",
    "    ax1.set_xlabel(\"Proper time u\")#$\\u03C4$\")\n",
    "    ax1.set_ylabel(\"$\\phi$\")#(\"$\\partial_x \\psi$\")\n",
    "    #ax1.set_xlim([2.04,2.05])\n",
    "    \n",
    "    ax2.plot(adapt_time,derpsiori[0:len(adapt_time)],linewidth=0.7)\n",
    "    #ax2.scatter(adapt_time,derpsiori[0:len(adapt_time)],s=0.1)\n",
    "    ax2.set_xlabel(\"Similarity time T\")#\"Adapted time T\")\n",
    "    ax2.set_ylabel(\"$\\phi$\")\n",
    "    \n",
    "    \n",
    "    \n",
    "    plt.savefig(\"myImagePDF.pdf\", format=\"pdf\", bbox_inches=\"tight\")\n",
    "    plt.show()"
   ]
  },
  {
   "cell_type": "markdown",
   "id": "f47dc6d6",
   "metadata": {},
   "source": [
    "News function"
   ]
  },
  {
   "cell_type": "code",
   "execution_count": 37,
   "id": "a0eaac7a",
   "metadata": {},
   "outputs": [
    {
     "data": {
      "image/png": "[encoded data removed]",
      "text/plain": [
       "<Figure size 792x432 with 2 Axes>"
      ]
     },
     "metadata": {},
     "output_type": "display_data"
    }
   ],
   "source": [
    "news=[]\n",
    "for i in range(0, len(psiscri)-1):\n",
    "    new=np.exp(-2*betascri[i])*(psiscri[i+1]-psiscri[i])/(time[i+1]-time[i])##eq.59 from my report ref eq:news\n",
    "    news.append(new)\n",
    "\n",
    "    \n",
    "with plt.style.context('ggplot'):\n",
    "    #plt.rcParams.update({'font.size': 12})    \n",
    "    #plt.rcParams[\"figure.figsize\"] = (7,5)\n",
    "    fig, (ax1, ax2) = plt.subplots(1, 2,figsize=(11, 6))\n",
    "\n",
    "    ax1.scatter(bonditime[0:len(news)],news,s=0.5)\n",
    "    ax1.plot(bonditime[0:len(news)],news,linewidth=0.05)\n",
    "    ax1.set_xlabel(\"Bondi time $u_B$\")#$\\u03C4$\")\n",
    "    ax1.set_ylabel(\"News\")\n",
    "    \n",
    "    a#x2.scatter(adapt_time[0:len(adapt_time)],news[0:len(adapt_time)],s=0.1)\n",
    "    ax2.plot(adapt_time[0:len(adapt_time)],news[0:len(adapt_time)],linewidth=0.5)\n",
    "    ax2.set_xlabel(\"Similarity time T\")#Adapted time T\")\n",
    "    ax2.set_ylabel(\"News\")\n",
    "    \n",
    "    \n",
    "    \n",
    "    plt.show()"
   ]
  },
  {
   "cell_type": "code",
   "execution_count": null,
   "id": "2d8d6b5a",
   "metadata": {},
   "outputs": [],
   "source": []
  },
  {
   "cell_type": "markdown",
   "id": "33fb26c6",
   "metadata": {},
   "source": [
    "$\\beta$ at scri+"
   ]
  },
  {
   "cell_type": "code",
   "execution_count": 23,
   "id": "62345099",
   "metadata": {},
   "outputs": [
    {
     "data": {
      "image/png": "[encoded data removed]",
      "text/plain": [
       "<Figure size 432x288 with 1 Axes>"
      ]
     },
     "metadata": {},
     "output_type": "display_data"
    }
   ],
   "source": [
    "\n",
    "with plt.style.context('ggplot'):\n",
    "    \n",
    "    #plt.rcParams.update({'font.size': 12})    \n",
    "    #plt.rcParams[\"figure.figsize\"] = (7,5)  \n",
    "    plt.xlabel(\"$\\u03C4$\")#T\n",
    "    plt.ylabel(r'$ \\beta $')\n",
    "    plt.plot(bonditime,betascri,linewidth=0.5)\n",
    "    plt.scatter(bonditime,betascri,s=0.5)\n",
    "    #plt.plot(adapt_time,mplt[0:len(adapt_time)],linewidth=0.5)\n",
    "    plt.xlim([0,1.])\n",
    "    plt.show()"
   ]
  },
  {
   "cell_type": "code",
   "execution_count": null,
   "id": "fbdd86b8",
   "metadata": {},
   "outputs": [],
   "source": []
  },
  {
   "cell_type": "code",
   "execution_count": null,
   "id": "506e88f5",
   "metadata": {},
   "outputs": [],
   "source": []
  },
  {
   "cell_type": "markdown",
   "id": "098664c7",
   "metadata": {},
   "source": [
    "Redshift factor"
   ]
  },
  {
   "cell_type": "code",
   "execution_count": 29,
   "id": "527f1635",
   "metadata": {},
   "outputs": [
    {
     "data": {
      "image/png": "[encoded data removed]",
      "text/plain": [
       "<Figure size 792x432 with 2 Axes>"
      ]
     },
     "metadata": {},
     "output_type": "display_data"
    }
   ],
   "source": [
    "redshift=[]\n",
    "for i in range(0, len(betascri)):\n",
    "    redshift.append(math.exp(2*betascri[i])-1) #saving beta at scri for each timestep\n",
    "\n",
    "    \n",
    "with plt.style.context('ggplot'):\n",
    "    #plt.rcParams.update({'font.size': 12})    \n",
    "    #plt.rcParams[\"figure.figsize\"] = (7,5)\n",
    "    fig, (ax1, ax2) = plt.subplots(1, 2,figsize=(11, 6))\n",
    "\n",
    "    ax1.plot(time,redshift,linewidth=0.5)\n",
    "    ax1.scatter(time,redshift,s=0.5)\n",
    "    ax1.set_xlabel(\"$\\u03C4$\")\n",
    "    ax1.set_ylabel(\"Redshift factor\")\n",
    "    \n",
    "    ax2.plot(adapt_time[0:len(adapt_time)],redshift[0:len(adapt_time)],linewidth=0.5)\n",
    "    ax2.set_xlabel(\"T\")\n",
    "    ax2.set_ylabel(\"Redshift factor\")\n",
    "    \n",
    "    \n",
    "    \n",
    "    plt.show()"
   ]
  },
  {
   "cell_type": "markdown",
   "id": "2402cba8",
   "metadata": {},
   "source": [
    "Bondi mass at scri+"
   ]
  },
  {
   "cell_type": "code",
   "execution_count": 11,
   "id": "80ab344a",
   "metadata": {},
   "outputs": [
    {
     "data": {
      "image/png": "[encoded data removed]",
      "text/plain": [
       "<Figure size 792x432 with 2 Axes>"
      ]
     },
     "metadata": {},
     "output_type": "display_data"
    }
   ],
   "source": [
    "mplt=[]\n",
    "for i in range(0, len(mscri)):\n",
    "    mplt.append(mscri[i]) #saving derpsi at the origin for each timestep\n",
    "\n",
    "with plt.style.context('ggplot'):\n",
    "    \n",
    "    #plt.rcParams.update({'font.size': 12})    \n",
    "    #plt.rcParams[\"figure.figsize\"] = (7,5)\n",
    "    fig, (ax1, ax2) = plt.subplots(1, 2,figsize=(11, 6))\n",
    "    \n",
    "    \n",
    "    \n",
    "    \n",
    "    # time\n",
    "    ax1.scatter(bonditime,mplt,s=0.5)\n",
    "    ax1.plot(bonditime,mplt,linewidth=0.5)\n",
    "    ax1.set_ylabel(\"Bondi mass\")\n",
    "    #ax1.set_xlim([.8,1.04])\n",
    "    #ax1.set_ylim([-0.001,0.002])\n",
    "    ax1.set_yscale('log')\n",
    "    #ax1.set_xlabel(\"$\\u03C4$\")#T\n",
    "    ax1.set_xlabel(\"Bondi time $u_B$\")#$\\u03C4$\")\n",
    "    \n",
    "    # adapt time\n",
    "    \n",
    "    ax2.plot(adapt_time,np.array(mplt[0:len(adapt_time)]),linewidth=0.5)\n",
    "    ax2.set_yscale('log')\n",
    "    #ax2.set_xlim([2.55,2.6])\n",
    "    #ax2.set_ylim([-0.001,0.001])\n",
    "    ax2.set_ylabel(\"Bondi mass\")\n",
    "    ax2.set_xlabel(\"T\")\n",
    "    \n",
    "    plt.show()"
   ]
  },
  {
   "cell_type": "code",
   "execution_count": 12,
   "id": "828afd72",
   "metadata": {},
   "outputs": [
    {
     "data": {
      "text/plain": [
       "[0.12544954873,\n",
       " 0.12526324085,\n",
       " 0.12517327222,\n",
       " 0.12503390769,\n",
       " 0.12481972962,\n",
       " 0.12449592026,\n",
       " 0.12401756253,\n",
       " 0.12333076791,\n",
       " 0.12237669472,\n",
       " 0.12109949721,\n",
       " 0.11945891541,\n",
       " 0.11744732376,\n",
       " 0.11510917058,\n",
       " 0.11255742988,\n",
       " 0.10997742703,\n",
       " 0.10760625087,\n",
       " 0.10568168339,\n",
       " 0.10437037639,\n",
       " 0.10370034304,\n",
       " 0.10352098375,\n",
       " 0.10349493434,\n",
       " 0.10310911047,\n",
       " 0.10306894385,\n",
       " 0.10302613093,\n",
       " 0.10298057664,\n",
       " 0.10293218501,\n",
       " 0.10288085915,\n",
       " 0.1028265013,\n",
       " 0.10276901279,\n",
       " 0.10270829406,\n",
       " 0.10264424467,\n",
       " 0.1025767633,\n",
       " 0.10250574777,\n",
       " 0.102431095,\n",
       " 0.10235270108,\n",
       " 0.10227046121,\n",
       " 0.10218426978,\n",
       " 0.10209402028,\n",
       " 0.10199960541,\n",
       " 0.10190091701,\n",
       " 0.1017978461,\n",
       " 0.10169028288,\n",
       " 0.10157811674,\n",
       " 0.10146123627,\n",
       " 0.10133952927,\n",
       " 0.10121288274,\n",
       " 0.10108118294,\n",
       " 0.10094431532,\n",
       " 0.10080216462,\n",
       " 0.10065461481,\n",
       " 0.10050154916,\n",
       " 0.10034285019,\n",
       " 0.10017839976,\n",
       " 0.10000807902,\n",
       " 0.099831768456,\n",
       " 0.099649347913,\n",
       " 0.099460696599,\n",
       " 0.099265693109,\n",
       " 0.09906421545,\n",
       " 0.098856141062,\n",
       " 0.098641346841,\n",
       " 0.098419709166,\n",
       " 0.098191103927,\n",
       " 0.097955406554,\n",
       " 0.09771249205,\n",
       " 0.097462235023,\n",
       " 0.097204509723,\n",
       " 0.096939190083,\n",
       " 0.096666149757,\n",
       " 0.096385262166,\n",
       " 0.096096400548,\n",
       " 0.095799438005,\n",
       " 0.095494247558,\n",
       " 0.09518070221,\n",
       " 0.094858675002,\n",
       " 0.094528039088,\n",
       " 0.094188667798,\n",
       " 0.093840434723,\n",
       " 0.093483213795,\n",
       " 0.093116879373,\n",
       " 0.092741306345,\n",
       " 0.092356370225,\n",
       " 0.091961947266,\n",
       " 0.091557914577,\n",
       " 0.091144150254,\n",
       " 0.090720533511,\n",
       " 0.090286944836,\n",
       " 0.089843266141,\n",
       " 0.089389380942,\n",
       " 0.088925174539,\n",
       " 0.088450534215,\n",
       " 0.087965349455,\n",
       " 0.087469512175,\n",
       " 0.086963572867,\n",
       " 0.086450384784,\n",
       " 0.085930465281,\n",
       " 0.085404022156,\n",
       " 0.084871269681,\n",
       " 0.084332429259,\n",
       " 0.083787727944,\n",
       " 0.083237398435,\n",
       " 0.082681678787,\n",
       " 0.082120811955,\n",
       " 0.081555045347,\n",
       " 0.080984630357,\n",
       " 0.080409821932,\n",
       " 0.079830878761,\n",
       " 0.079248061925,\n",
       " 0.078661634518,\n",
       " 0.078071862465,\n",
       " 0.077479012345,\n",
       " 0.076883352706,\n",
       " 0.076285152097,\n",
       " 0.075684680036,\n",
       " 0.075082205834,\n",
       " 0.074477998236,\n",
       " 0.073872325493,\n",
       " 0.073265454754,\n",
       " 0.072657651706,\n",
       " 0.072049180356,\n",
       " 0.071440302647,\n",
       " 0.07083127822,\n",
       " 0.070222364134,\n",
       " 0.069613814545,\n",
       " 0.069005880534,\n",
       " 0.068398809805,\n",
       " 0.067792846598,\n",
       " 0.067188231371,\n",
       " 0.066585200509,\n",
       " 0.06598398641,\n",
       " 0.065384817246,\n",
       " 0.064787916549,\n",
       " 0.064193503628,\n",
       " 0.063601792757,\n",
       " 0.063012993832,\n",
       " 0.062427311549,\n",
       " 0.061844945974,\n",
       " 0.061266091923,\n",
       " 0.060690939326,\n",
       " 0.060119673099,\n",
       " 0.059552472852,\n",
       " 0.058989513158,\n",
       " 0.058430963446,\n",
       " 0.057876988108,\n",
       " 0.057327746232,\n",
       " 0.056783391846,\n",
       " 0.056244073903,\n",
       " 0.055709936318,\n",
       " 0.055181117954,\n",
       " 0.054657752673,\n",
       " 0.054139969414,\n",
       " 0.053627892241,\n",
       " 0.053121640392,\n",
       " 0.052621328334,\n",
       " 0.052127065825,\n",
       " 0.051638958009,\n",
       " 0.051157105455,\n",
       " 0.05068160419,\n",
       " 0.050212545889,\n",
       " 0.049750017907,\n",
       " 0.04929410328,\n",
       " 0.048844880785,\n",
       " 0.048402425192,\n",
       " 0.047966807063,\n",
       " 0.047538093245,\n",
       " 0.047116346411,\n",
       " 0.04670162557,\n",
       " 0.046293985845,\n",
       " 0.045893478822,\n",
       " 0.045500152338,\n",
       " 0.045114050604,\n",
       " 0.044735214499,\n",
       " 0.044363681327,\n",
       " 0.043999485014,\n",
       " 0.043642656115,\n",
       " 0.043293221796,\n",
       " 0.042951206217,\n",
       " 0.042616630042,\n",
       " 0.042289510895,\n",
       " 0.041969863098,\n",
       " 0.041657697903,\n",
       " 0.041353023388,\n",
       " 0.041055844524,\n",
       " 0.040766163159,\n",
       " 0.04048397802,\n",
       " 0.040209284701,\n",
       " 0.039942075674,\n",
       " 0.039682340211,\n",
       " 0.039430064465,\n",
       " 0.039185231268,\n",
       " 0.038947820334,\n",
       " 0.038717807953,\n",
       " 0.038495167181,\n",
       " 0.038279867518,\n",
       " 0.038071875043,\n",
       " 0.037871152255,\n",
       " 0.037677657962,\n",
       " 0.037491347344,\n",
       " 0.037312171637,\n",
       " 0.037140078182,\n",
       " 0.03697501019,\n",
       " 0.036816906675,\n",
       " 0.036665702372,\n",
       " 0.036521327487,\n",
       " 0.036383707662,\n",
       " 0.036252763659,\n",
       " 0.036128411306,\n",
       " 0.036010561292,\n",
       " 0.035899118932,\n",
       " 0.035793984061,\n",
       " 0.035695050706,\n",
       " 0.035602206981,\n",
       " 0.035515334729,\n",
       " 0.035434309406,\n",
       " 0.035358999726,\n",
       " 0.035289267494,\n",
       " 0.035224967242,\n",
       " 0.035165946051,\n",
       " 0.035112043153,\n",
       " 0.035063089699,\n",
       " 0.035018908412,\n",
       " 0.034979313282,\n",
       " 0.034944109243,\n",
       " 0.034913091795,\n",
       " 0.03488604669,\n",
       " 0.034862749547,\n",
       " 0.0348429655,\n",
       " 0.034826448822,\n",
       " 0.034812942537,\n",
       " 0.034802178042,\n",
       " 0.034793874723,\n",
       " 0.034787739561,\n",
       " 0.034783466756,\n",
       " 0.034780737344,\n",
       " 0.03477921883,\n",
       " 0.034778564836,\n",
       " 0.034778414764,\n",
       " 0.034778393495,\n",
       " 0.034778111116,\n",
       " 0.034777162694,\n",
       " 0.034775128107,\n",
       " 0.034771571939,\n",
       " 0.034766043456,\n",
       " 0.034758076684,\n",
       " 0.034747190597,\n",
       " 0.034732889432,\n",
       " 0.034714663151,\n",
       " 0.034691988079,\n",
       " 0.034664327725,\n",
       " 0.034631133796,\n",
       " 0.034591847502,\n",
       " 0.034545900937,\n",
       " 0.03449271893,\n",
       " 0.034431720948,\n",
       " 0.034362323397,\n",
       " 0.034283942149,\n",
       " 0.034195995321,\n",
       " 0.034097906315,\n",
       " 0.033989107104,\n",
       " 0.033869041746,\n",
       " 0.033737170069,\n",
       " 0.033592971559,\n",
       " 0.033435949365,\n",
       " 0.033265634379,\n",
       " 0.033081589389,\n",
       " 0.03288341321,\n",
       " 0.032670744754,\n",
       " 0.032443267019,\n",
       " 0.032200710904,\n",
       " 0.031942858832,\n",
       " 0.031669547684,\n",
       " 0.031380672472,\n",
       " 0.031076187931,\n",
       " 0.030756111365,\n",
       " 0.030420524253,\n",
       " 0.030069572818,\n",
       " 0.029703468856,\n",
       " 0.029322490091,\n",
       " 0.028926979159,\n",
       " 0.028517342065,\n",
       " 0.028094047695,\n",
       " 0.027657624205,\n",
       " 0.027208657138,\n",
       " 0.02674778588,\n",
       " 0.026275699926,\n",
       " 0.025793134918,\n",
       " 0.025300868493,\n",
       " 0.024799715186,\n",
       " 0.024290522184,\n",
       " 0.02377416395,\n",
       " 0.023251537629,\n",
       " 0.022723557944,\n",
       " 0.022191152263,\n",
       " 0.021655255841,\n",
       " 0.021116807348,\n",
       " 0.020576744232,\n",
       " 0.02003599926,\n",
       " 0.019495495769,\n",
       " 0.018956144977,\n",
       " 0.018418842456,\n",
       " 0.017884465423,\n",
       " 0.017353870441,\n",
       " 0.016827891003,\n",
       " 0.016307336137,\n",
       " 0.015792988892,\n",
       " 0.015285605319,\n",
       " 0.014785913815,\n",
       " 0.014294614595,\n",
       " 0.013812379766,\n",
       " 0.013339853983,\n",
       " 0.012877654987,\n",
       " 0.012426374287,\n",
       " 0.011986579168,\n",
       " 0.011558813265,\n",
       " 0.011143598594,\n",
       " 0.010741435724,\n",
       " 0.010352805097,\n",
       " 0.0099781664262,\n",
       " 0.009617959429,\n",
       " 0.009272602832,\n",
       " 0.0089424949711,\n",
       " 0.0086280137212,\n",
       " 0.0083295166949,\n",
       " 0.0080473422493,\n",
       " 0.0077818089782,\n",
       " 0.0075332154823,\n",
       " 0.0073018382566,\n",
       " 0.007087927245,\n",
       " 0.0068916992946,\n",
       " 0.0067133273952,\n",
       " 0.006552926237,\n",
       " 0.0064105334218,\n",
       " 0.0062860852711,\n",
       " 0.0061793876676,\n",
       " 0.0060900807448,\n",
       " 0.006017597181,\n",
       " 0.0059611126063,\n",
       " 0.0059194883584,\n",
       " 0.0058912063828,\n",
       " 0.0058742981868,\n",
       " 0.0058662720559,\n",
       " 0.0058640455601,\n",
       " 0.0058638943132,\n",
       " 0.0058614319622,\n",
       " 0.0058516401386,\n",
       " 0.005828968995,\n",
       " 0.0057875274528,\n",
       " 0.0057213753343,\n",
       " 0.0056249148989,\n",
       " 0.0054933655555,\n",
       " 0.0053233107777,\n",
       " 0.0051132424485,\n",
       " 0.0048636200254,\n",
       " 0.0045769578483,\n",
       " 0.0042612700331,\n",
       " 0.0039279565869,\n",
       " 0.0035744192966,\n",
       " 0.003194635151,\n",
       " 0.0028051064209,\n",
       " 0.0024279618604,\n",
       " 0.0020762664091,\n",
       " 0.0017587211045,\n",
       " 0.001484758452,\n",
       " 0.0012681417134,\n",
       " 0.0011285750011,\n",
       " 0.0010660296339,\n",
       " 0.0010551412357,\n",
       " 0.0010309880883,\n",
       " 0.00099302825372,\n",
       " 0.00094978146916,\n",
       " 0.00090584752791,\n",
       " 0.00085943714899,\n",
       " 0.00080453762325,\n",
       " 0.00073727627546,\n",
       " 0.00066893640959,\n",
       " 0.00061391892473,\n",
       " 0.00057264349018,\n",
       " 0.00053496109313,\n",
       " 0.00049281408105,\n",
       " 0.00044650301518,\n",
       " 0.00039739797869]"
      ]
     },
     "execution_count": 12,
     "metadata": {},
     "output_type": "execute_result"
    }
   ],
   "source": [
    "mscri"
   ]
  },
  {
   "cell_type": "code",
   "execution_count": 13,
   "id": "496e4394",
   "metadata": {},
   "outputs": [
    {
     "ename": "ValueError",
     "evalue": "x and y must have same first dimension, but have shapes (0,) and (368,)",
     "output_type": "error",
     "traceback": [
      "\u001b[0;31m---------------------------------------------------------------------------\u001b[0m",
      "\u001b[0;31mValueError\u001b[0m                                Traceback (most recent call last)",
      "Input \u001b[0;32mIn [13]\u001b[0m, in \u001b[0;36m<cell line: 1>\u001b[0;34m()\u001b[0m\n\u001b[0;32m----> 1\u001b[0m \u001b[43mplt\u001b[49m\u001b[38;5;241;43m.\u001b[39;49m\u001b[43mplot\u001b[49m\u001b[43m(\u001b[49m\u001b[43madapt_time\u001b[49m\u001b[43m[\u001b[49m\u001b[38;5;241;43m10\u001b[39;49m\u001b[43m:\u001b[49m\u001b[38;5;28;43mlen\u001b[39;49m\u001b[43m(\u001b[49m\u001b[43madapt_time\u001b[49m\u001b[43m)\u001b[49m\u001b[38;5;241;43m-\u001b[39;49m\u001b[38;5;241;43m3\u001b[39;49m\u001b[43m]\u001b[49m\u001b[43m,\u001b[49m\u001b[43mnp\u001b[49m\u001b[38;5;241;43m.\u001b[39;49m\u001b[43marray\u001b[49m\u001b[43m(\u001b[49m\u001b[43mmplt\u001b[49m\u001b[43m[\u001b[49m\u001b[38;5;241;43m10\u001b[39;49m\u001b[43m:\u001b[49m\u001b[38;5;28;43mlen\u001b[39;49m\u001b[43m(\u001b[49m\u001b[43madapt_time\u001b[49m\u001b[43m)\u001b[49m\u001b[38;5;241;43m-\u001b[39;49m\u001b[38;5;241;43m3\u001b[39;49m\u001b[43m]\u001b[49m\u001b[43m)\u001b[49m\u001b[43m)\u001b[49m\n\u001b[1;32m      2\u001b[0m plt\u001b[38;5;241m.\u001b[39myscale(\u001b[38;5;124m'\u001b[39m\u001b[38;5;124mlog\u001b[39m\u001b[38;5;124m'\u001b[39m)\n",
      "File \u001b[0;32m~/anaconda3/lib/python3.9/site-packages/matplotlib/pyplot.py:3578\u001b[0m, in \u001b[0;36mplot\u001b[0;34m(scalex, scaley, data, *args, **kwargs)\u001b[0m\n\u001b[1;32m   3570\u001b[0m \u001b[38;5;129m@_copy_docstring_and_deprecators\u001b[39m(Axes\u001b[38;5;241m.\u001b[39mplot)\n\u001b[1;32m   3571\u001b[0m \u001b[38;5;28;01mdef\u001b[39;00m \u001b[38;5;21mplot\u001b[39m(\n\u001b[1;32m   3572\u001b[0m     \u001b[38;5;241m*\u001b[39margs: \u001b[38;5;28mfloat\u001b[39m \u001b[38;5;241m|\u001b[39m ArrayLike \u001b[38;5;241m|\u001b[39m \u001b[38;5;28mstr\u001b[39m,\n\u001b[0;32m   (...)\u001b[0m\n\u001b[1;32m   3576\u001b[0m     \u001b[38;5;241m*\u001b[39m\u001b[38;5;241m*\u001b[39mkwargs,\n\u001b[1;32m   3577\u001b[0m ) \u001b[38;5;241m-\u001b[39m\u001b[38;5;241m>\u001b[39m \u001b[38;5;28mlist\u001b[39m[Line2D]:\n\u001b[0;32m-> 3578\u001b[0m     \u001b[38;5;28;01mreturn\u001b[39;00m \u001b[43mgca\u001b[49m\u001b[43m(\u001b[49m\u001b[43m)\u001b[49m\u001b[38;5;241;43m.\u001b[39;49m\u001b[43mplot\u001b[49m\u001b[43m(\u001b[49m\n\u001b[1;32m   3579\u001b[0m \u001b[43m        \u001b[49m\u001b[38;5;241;43m*\u001b[39;49m\u001b[43margs\u001b[49m\u001b[43m,\u001b[49m\n\u001b[1;32m   3580\u001b[0m \u001b[43m        \u001b[49m\u001b[43mscalex\u001b[49m\u001b[38;5;241;43m=\u001b[39;49m\u001b[43mscalex\u001b[49m\u001b[43m,\u001b[49m\n\u001b[1;32m   3581\u001b[0m \u001b[43m        \u001b[49m\u001b[43mscaley\u001b[49m\u001b[38;5;241;43m=\u001b[39;49m\u001b[43mscaley\u001b[49m\u001b[43m,\u001b[49m\n\u001b[1;32m   3582\u001b[0m \u001b[43m        \u001b[49m\u001b[38;5;241;43m*\u001b[39;49m\u001b[38;5;241;43m*\u001b[39;49m\u001b[43m(\u001b[49m\u001b[43m{\u001b[49m\u001b[38;5;124;43m\"\u001b[39;49m\u001b[38;5;124;43mdata\u001b[39;49m\u001b[38;5;124;43m\"\u001b[39;49m\u001b[43m:\u001b[49m\u001b[43m \u001b[49m\u001b[43mdata\u001b[49m\u001b[43m}\u001b[49m\u001b[43m \u001b[49m\u001b[38;5;28;43;01mif\u001b[39;49;00m\u001b[43m \u001b[49m\u001b[43mdata\u001b[49m\u001b[43m \u001b[49m\u001b[38;5;129;43;01mis\u001b[39;49;00m\u001b[43m \u001b[49m\u001b[38;5;129;43;01mnot\u001b[39;49;00m\u001b[43m \u001b[49m\u001b[38;5;28;43;01mNone\u001b[39;49;00m\u001b[43m \u001b[49m\u001b[38;5;28;43;01melse\u001b[39;49;00m\u001b[43m \u001b[49m\u001b[43m{\u001b[49m\u001b[43m}\u001b[49m\u001b[43m)\u001b[49m\u001b[43m,\u001b[49m\n\u001b[1;32m   3583\u001b[0m \u001b[43m        \u001b[49m\u001b[38;5;241;43m*\u001b[39;49m\u001b[38;5;241;43m*\u001b[39;49m\u001b[43mkwargs\u001b[49m\u001b[43m,\u001b[49m\n\u001b[1;32m   3584\u001b[0m \u001b[43m    \u001b[49m\u001b[43m)\u001b[49m\n",
      "File \u001b[0;32m~/anaconda3/lib/python3.9/site-packages/matplotlib/axes/_axes.py:1721\u001b[0m, in \u001b[0;36mAxes.plot\u001b[0;34m(self, scalex, scaley, data, *args, **kwargs)\u001b[0m\n\u001b[1;32m   1478\u001b[0m \u001b[38;5;124;03m\"\"\"\u001b[39;00m\n\u001b[1;32m   1479\u001b[0m \u001b[38;5;124;03mPlot y versus x as lines and/or markers.\u001b[39;00m\n\u001b[1;32m   1480\u001b[0m \n\u001b[0;32m   (...)\u001b[0m\n\u001b[1;32m   1718\u001b[0m \u001b[38;5;124;03m(``'green'``) or hex strings (``'#008000'``).\u001b[39;00m\n\u001b[1;32m   1719\u001b[0m \u001b[38;5;124;03m\"\"\"\u001b[39;00m\n\u001b[1;32m   1720\u001b[0m kwargs \u001b[38;5;241m=\u001b[39m cbook\u001b[38;5;241m.\u001b[39mnormalize_kwargs(kwargs, mlines\u001b[38;5;241m.\u001b[39mLine2D)\n\u001b[0;32m-> 1721\u001b[0m lines \u001b[38;5;241m=\u001b[39m [\u001b[38;5;241m*\u001b[39m\u001b[38;5;28mself\u001b[39m\u001b[38;5;241m.\u001b[39m_get_lines(\u001b[38;5;28mself\u001b[39m, \u001b[38;5;241m*\u001b[39margs, data\u001b[38;5;241m=\u001b[39mdata, \u001b[38;5;241m*\u001b[39m\u001b[38;5;241m*\u001b[39mkwargs)]\n\u001b[1;32m   1722\u001b[0m \u001b[38;5;28;01mfor\u001b[39;00m line \u001b[38;5;129;01min\u001b[39;00m lines:\n\u001b[1;32m   1723\u001b[0m     \u001b[38;5;28mself\u001b[39m\u001b[38;5;241m.\u001b[39madd_line(line)\n",
      "File \u001b[0;32m~/anaconda3/lib/python3.9/site-packages/matplotlib/axes/_base.py:303\u001b[0m, in \u001b[0;36m_process_plot_var_args.__call__\u001b[0;34m(self, axes, data, *args, **kwargs)\u001b[0m\n\u001b[1;32m    301\u001b[0m     this \u001b[38;5;241m+\u001b[39m\u001b[38;5;241m=\u001b[39m args[\u001b[38;5;241m0\u001b[39m],\n\u001b[1;32m    302\u001b[0m     args \u001b[38;5;241m=\u001b[39m args[\u001b[38;5;241m1\u001b[39m:]\n\u001b[0;32m--> 303\u001b[0m \u001b[38;5;28;01myield from\u001b[39;00m \u001b[38;5;28;43mself\u001b[39;49m\u001b[38;5;241;43m.\u001b[39;49m\u001b[43m_plot_args\u001b[49m\u001b[43m(\u001b[49m\n\u001b[1;32m    304\u001b[0m \u001b[43m    \u001b[49m\u001b[43maxes\u001b[49m\u001b[43m,\u001b[49m\u001b[43m \u001b[49m\u001b[43mthis\u001b[49m\u001b[43m,\u001b[49m\u001b[43m \u001b[49m\u001b[43mkwargs\u001b[49m\u001b[43m,\u001b[49m\u001b[43m \u001b[49m\u001b[43mambiguous_fmt_datakey\u001b[49m\u001b[38;5;241;43m=\u001b[39;49m\u001b[43mambiguous_fmt_datakey\u001b[49m\u001b[43m)\u001b[49m\n",
      "File \u001b[0;32m~/anaconda3/lib/python3.9/site-packages/matplotlib/axes/_base.py:499\u001b[0m, in \u001b[0;36m_process_plot_var_args._plot_args\u001b[0;34m(self, axes, tup, kwargs, return_kwargs, ambiguous_fmt_datakey)\u001b[0m\n\u001b[1;32m    496\u001b[0m     axes\u001b[38;5;241m.\u001b[39myaxis\u001b[38;5;241m.\u001b[39mupdate_units(y)\n\u001b[1;32m    498\u001b[0m \u001b[38;5;28;01mif\u001b[39;00m x\u001b[38;5;241m.\u001b[39mshape[\u001b[38;5;241m0\u001b[39m] \u001b[38;5;241m!=\u001b[39m y\u001b[38;5;241m.\u001b[39mshape[\u001b[38;5;241m0\u001b[39m]:\n\u001b[0;32m--> 499\u001b[0m     \u001b[38;5;28;01mraise\u001b[39;00m \u001b[38;5;167;01mValueError\u001b[39;00m(\u001b[38;5;124mf\u001b[39m\u001b[38;5;124m\"\u001b[39m\u001b[38;5;124mx and y must have same first dimension, but \u001b[39m\u001b[38;5;124m\"\u001b[39m\n\u001b[1;32m    500\u001b[0m                      \u001b[38;5;124mf\u001b[39m\u001b[38;5;124m\"\u001b[39m\u001b[38;5;124mhave shapes \u001b[39m\u001b[38;5;132;01m{\u001b[39;00mx\u001b[38;5;241m.\u001b[39mshape\u001b[38;5;132;01m}\u001b[39;00m\u001b[38;5;124m and \u001b[39m\u001b[38;5;132;01m{\u001b[39;00my\u001b[38;5;241m.\u001b[39mshape\u001b[38;5;132;01m}\u001b[39;00m\u001b[38;5;124m\"\u001b[39m)\n\u001b[1;32m    501\u001b[0m \u001b[38;5;28;01mif\u001b[39;00m x\u001b[38;5;241m.\u001b[39mndim \u001b[38;5;241m>\u001b[39m \u001b[38;5;241m2\u001b[39m \u001b[38;5;129;01mor\u001b[39;00m y\u001b[38;5;241m.\u001b[39mndim \u001b[38;5;241m>\u001b[39m \u001b[38;5;241m2\u001b[39m:\n\u001b[1;32m    502\u001b[0m     \u001b[38;5;28;01mraise\u001b[39;00m \u001b[38;5;167;01mValueError\u001b[39;00m(\u001b[38;5;124mf\u001b[39m\u001b[38;5;124m\"\u001b[39m\u001b[38;5;124mx and y can be no greater than 2D, but have \u001b[39m\u001b[38;5;124m\"\u001b[39m\n\u001b[1;32m    503\u001b[0m                      \u001b[38;5;124mf\u001b[39m\u001b[38;5;124m\"\u001b[39m\u001b[38;5;124mshapes \u001b[39m\u001b[38;5;132;01m{\u001b[39;00mx\u001b[38;5;241m.\u001b[39mshape\u001b[38;5;132;01m}\u001b[39;00m\u001b[38;5;124m and \u001b[39m\u001b[38;5;132;01m{\u001b[39;00my\u001b[38;5;241m.\u001b[39mshape\u001b[38;5;132;01m}\u001b[39;00m\u001b[38;5;124m\"\u001b[39m)\n",
      "\u001b[0;31mValueError\u001b[0m: x and y must have same first dimension, but have shapes (0,) and (368,)"
     ]
    },
    {
     "data": {
      "image/png": "[encoded data removed]",
      "text/plain": [
       "<Figure size 432x288 with 1 Axes>"
      ]
     },
     "metadata": {
      "needs_background": "light"
     },
     "output_type": "display_data"
    }
   ],
   "source": [
    "plt.plot(adapt_time[10:len(adapt_time)-3],np.array(mplt[10:len(adapt_time)-3]))\n",
    "plt.yscale('log')"
   ]
  },
  {
   "cell_type": "code",
   "execution_count": null,
   "id": "7b6a6a9c",
   "metadata": {},
   "outputs": [],
   "source": []
  },
  {
   "cell_type": "code",
   "execution_count": null,
   "id": "45a4eb11",
   "metadata": {},
   "outputs": [],
   "source": []
  },
  {
   "cell_type": "code",
   "execution_count": null,
   "id": "2acb3058",
   "metadata": {},
   "outputs": [],
   "source": []
  },
  {
   "cell_type": "code",
   "execution_count": null,
   "id": "5fba515c",
   "metadata": {},
   "outputs": [],
   "source": []
  },
  {
   "cell_type": "code",
   "execution_count": null,
   "id": "9d524176",
   "metadata": {},
   "outputs": [],
   "source": []
  }
 ],
 "metadata": {
  "kernelspec": {
   "display_name": "Python 3 (ipykernel)",
   "language": "python",
   "name": "python3"
  },
  "language_info": {
   "codemirror_mode": {
    "name": "ipython",
    "version": 3
   },
   "file_extension": ".py",
   "mimetype": "text/x-python",
   "name": "python",
   "nbconvert_exporter": "python",
   "pygments_lexer": "ipython3",
   "version": "3.9.12"
  }
 },
 "nbformat": 4,
 "nbformat_minor": 5
}
