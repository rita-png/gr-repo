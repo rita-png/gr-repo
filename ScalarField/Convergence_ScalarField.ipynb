{
 "cells": [
  {
   "cell_type": "code",
   "execution_count": 2,
   "id": "306b8ccb",
   "metadata": {},
   "outputs": [],
   "source": [
    "import pandas as pd\n",
    "import numpy as np\n",
    "import os\n",
    "import math\n",
    "import matplotlib.pyplot as plt\n",
    "import numpy as np\n",
    "from matplotlib import style\n",
    "\n",
    "import scipy\n",
    "import numpy as np\n",
    "from scipy import interpolate\n",
    "from io import StringIO"
   ]
  },
  {
   "cell_type": "markdown",
   "id": "7d60e115",
   "metadata": {},
   "source": [
    "# Reading data for 3 resolutions"
   ]
  },
  {
   "cell_type": "markdown",
   "id": "cabf0ae0",
   "metadata": {},
   "source": [
    "Muninn format"
   ]
  },
  {
   "cell_type": "code",
   "execution_count": 4,
   "id": "9f4cb2fa",
   "metadata": {},
   "outputs": [
    {
     "name": "stdout",
     "output_type": "stream",
     "text": [
      "/home/rita13santos/Desktop/CONVERGENCEPLOTwoutx=1/res1/m.txt\n",
      "/home/rita13santos/Desktop/CONVERGENCEPLOTwoutx=1/res1/beta.txt\n",
      "/home/rita13santos/Desktop/CONVERGENCEPLOTwoutx=1/res1/psi.txt\n",
      "/home/rita13santos/Desktop/CONVERGENCEPLOTwoutx=1/res1/derpsi.txt\n",
      "/home/rita13santos/Desktop/CONVERGENCEPLOTwoutx=1/res2/m.txt\n",
      "/home/rita13santos/Desktop/CONVERGENCEPLOTwoutx=1/res2/beta.txt\n",
      "/home/rita13santos/Desktop/CONVERGENCEPLOTwoutx=1/res2/psi.txt\n",
      "/home/rita13santos/Desktop/CONVERGENCEPLOTwoutx=1/res2/derpsi.txt\n",
      "/home/rita13santos/Desktop/CONVERGENCEPLOTwoutx=1/res3/m.txt\n",
      "/home/rita13santos/Desktop/CONVERGENCEPLOTwoutx=1/res3/beta.txt\n",
      "/home/rita13santos/Desktop/CONVERGENCEPLOTwoutx=1/res3/psi.txt\n",
      "/home/rita13santos/Desktop/CONVERGENCEPLOTwoutx=1/res3/derpsi.txt\n"
     ]
    }
   ],
   "source": [
    "##NOT SURE IF THIS IS RIGHT\n",
    "datatime=[]\n",
    "datagrid=[]\n",
    "datam=[]\n",
    "databeta=[]\n",
    "datapsi=[]\n",
    "dataderpsi=[]\n",
    "vars=[\"m\", \"beta\", \"psi\", \"derpsi\"]\n",
    "res=[1,2,3]\n",
    "for resolution in res:\n",
    "\n",
    "\n",
    "    time=[]\n",
    "    grid=[]\n",
    "    m=[]\n",
    "    beta=[]\n",
    "    psi=[]\n",
    "    derpsi=[]\n",
    "    k=1\n",
    "\n",
    "    for var in vars:\n",
    "        #dir = \"/home/rita13santos/Desktop/MSc Thesis/Git/ScalarField/DATA/muninnDATA/res{}/{}.txt\".format(resolution,var)\n",
    "        dir = \"/home/rita13santos/Desktop/CONVERGENCEPLOTwoutx=1/res{}/{}.txt\".format(resolution,var)\n",
    "    \n",
    "    \n",
    "        print(dir)\n",
    "\n",
    "        with open(dir) as f:\n",
    "            for line in f:\n",
    "\n",
    "                index = line.find(\"Time\")\n",
    "                if index==1:\n",
    "                    if k==1:\n",
    "                        time.append(float(line[index+7:len(line)-1]))\n",
    "                    auxgrid=[]\n",
    "                    auxdata=[]\n",
    "                \n",
    "\n",
    "                else:\n",
    "                    a=line.split()\n",
    "                    if a!=[]:\n",
    "                        if k==1:\n",
    "                            auxgrid.append(float(a[0]))\n",
    "                        auxdata.append(float(a[1]))\n",
    "                    elif a==[]:\n",
    "                        grid.append(auxgrid)\n",
    "                        if k==1:\n",
    "                            m.append(auxdata)\n",
    "                        elif k==2:\n",
    "                            beta.append(auxdata)\n",
    "                        elif k==3:\n",
    "                            psi.append(auxdata)\n",
    "                        elif k==4:\n",
    "                            derpsi.append(auxdata)\n",
    "                    \n",
    "        k=k+1\n",
    "\n",
    "\n",
    "    datatime.append(time)\n",
    "    datagrid.append(grid)\n",
    "    datam.append(m)\n",
    "    databeta.append(beta)\n",
    "    datapsi.append(psi)\n",
    "    dataderpsi.append(derpsi)\n",
    "#count=len(datatime[2])+1\n",
    "#count"
   ]
  },
  {
   "cell_type": "code",
   "execution_count": 22,
   "id": "6734f820",
   "metadata": {},
   "outputs": [],
   "source": [
    "(datam[1][1]);"
   ]
  },
  {
   "cell_type": "markdown",
   "id": "93f38ab0",
   "metadata": {},
   "source": [
    "## CSV format"
   ]
  },
  {
   "cell_type": "code",
   "execution_count": 2,
   "id": "e80087ba",
   "metadata": {},
   "outputs": [
    {
     "name": "stdout",
     "output_type": "stream",
     "text": [
      "False\n",
      "True\n"
     ]
    }
   ],
   "source": [
    "#from bigfloat import *\n",
    "\n",
    "def isNaN(string):\n",
    "    return string != string\n",
    "print(isNaN(\"hello\"))\n",
    "print(isNaN(np.nan))"
   ]
  },
  {
   "cell_type": "code",
   "execution_count": 3,
   "id": "7af4e542",
   "metadata": {},
   "outputs": [
    {
     "name": "stdout",
     "output_type": "stream",
     "text": [
      "/home/rita13santos/Desktop/MSc Thesis/Git/ScalarField/DATA/res1\n",
      "File count in dir /home/rita13santos/Desktop/MSc Thesis/Git/ScalarField/DATA/res1 is:  521\n",
      "/home/rita13santos/Desktop/MSc Thesis/Git/ScalarField/DATA/res2\n",
      "File count in dir /home/rita13santos/Desktop/MSc Thesis/Git/ScalarField/DATA/res2 is:  1041\n",
      "/home/rita13santos/Desktop/MSc Thesis/Git/ScalarField/DATA/res3\n",
      "File count in dir /home/rita13santos/Desktop/MSc Thesis/Git/ScalarField/DATA/res3 is:  2081\n"
     ]
    }
   ],
   "source": [
    "res=[1,2,3]\n",
    "step=100\n",
    "datam=[]\n",
    "databeta=[]\n",
    "datapsi=[]\n",
    "dataderpsi=[]\n",
    "datagrid=[]\n",
    "\n",
    "for resolution in res:\n",
    "    dir = \"/home/rita13santos/Desktop/MSc Thesis/Git/ScalarField/DATA/res{}\".format(resolution)\n",
    "\n",
    "    print(dir)\n",
    "    \n",
    "    count=0\n",
    "    for path in os.listdir(dir):\n",
    "        # check if current path is a file\n",
    "        if os.path.isfile(os.path.join(dir, path)):\n",
    "            count += 1\n",
    "    print('File count in dir', dir, 'is: ', count)\n",
    "\n",
    "\n",
    "    m=[]\n",
    "    beta=[]\n",
    "    psi=[]\n",
    "    derpsi=[]\n",
    "    grid=[]\n",
    "    \n",
    "    #iterate over files in dir\n",
    "    for i in range(count-1):\n",
    "        with pd.option_context('display.precision', 20):\n",
    "            df = pd.read_csv(dir + \"/time_step{}.csv\".format(i*step), header=None, dtype = str)\n",
    "        df = df.to_numpy()\n",
    "        df = np.transpose(df)\n",
    "        \n",
    "        ##\n",
    "        aux = [float(x) for x in df[0]]\n",
    "        m.append(aux)\n",
    "        aux = [float(x) for x in df[1]]\n",
    "        beta.append(aux)\n",
    "        aux = [float(x) for x in df[2]]\n",
    "        psi.append(aux)\n",
    "        aux = [float(x) for x in df[3]]\n",
    "        derpsi.append(aux)\n",
    "        aux = [float(x) for x in df[4]]\n",
    "        grid.append(aux)\n",
    "        ##\n",
    "        \n",
    "        \"\"\"aux=[]\n",
    "        for i in range(0, len(df[0])):\n",
    "            if isNaN(df[0][i])==True:\n",
    "                a=0\n",
    "                print(\"NaN detected in position i = \", i)\n",
    "            else:\n",
    "                a=BigFloat.exact(df[0][i], precision=128)\n",
    "            aux.append(a)\n",
    "        m.append(aux)\n",
    " \n",
    "        aux=[]\n",
    "        for i in range(0, len(df[1])):\n",
    "            if isNaN(df[1][i])==True:\n",
    "                a=0\n",
    "                print(\"NaN detected in position i = \", i)\n",
    "            else:\n",
    "                a=BigFloat.exact(df[1][i], precision=128)\n",
    "            aux.append(a)\n",
    "        beta.append(aux)\n",
    "        \n",
    "        aux=[]\n",
    "        for i in range(0, len(df[2])):\n",
    "            if isNaN(df[2][i])==True:\n",
    "                a=0\n",
    "                print(\"NaN detected in position i = \", i)\n",
    "            else:\n",
    "                a=BigFloat.exact(df[2][i], precision=128)\n",
    "            aux.append(a)\n",
    "        \n",
    "        psi.append(aux)\n",
    "        \n",
    "        aux=[]\n",
    "        for i in range(0, len(df[3])):\n",
    "            if isNaN(df[2][i])==True:\n",
    "                a=0\n",
    "                print(\"NaN detected in position i = \", i)\n",
    "            else:\n",
    "                a=BigFloat.exact(df[3][i], precision=128)\n",
    "            aux.append(a)\n",
    "        derpsi.append(aux)\n",
    "        \n",
    "        aux=[]\n",
    "        for i in range(0, len(df[4])):\n",
    "            if isNaN(df[2][i])==True:\n",
    "                a=0\n",
    "                print(\"NaN detected in position i = \", i)\n",
    "            else:\n",
    "                a=BigFloat.exact(df[4][i], precision=128)\n",
    "            aux.append(a)\n",
    "        grid.append(aux)\"\"\"\n",
    "\n",
    "    # f[i] is the array of the values of m on the whole grid on time step i\n",
    "    \n",
    "    \n",
    "    datam.append(m)\n",
    "    databeta.append(beta)\n",
    "    datapsi.append(psi)\n",
    "    dataderpsi.append(derpsi)\n",
    "    datagrid.append(grid)"
   ]
  },
  {
   "cell_type": "markdown",
   "id": "d5e83eaa",
   "metadata": {},
   "source": [
    "####"
   ]
  },
  {
   "cell_type": "code",
   "execution_count": 23,
   "id": "4af055a5",
   "metadata": {},
   "outputs": [
    {
     "ename": "NameError",
     "evalue": "name 'count' is not defined",
     "output_type": "error",
     "traceback": [
      "\u001b[0;31m---------------------------------------------------------------------------\u001b[0m",
      "\u001b[0;31mNameError\u001b[0m                                 Traceback (most recent call last)",
      "Input \u001b[0;32mIn [23]\u001b[0m, in \u001b[0;36m<cell line: 1>\u001b[0;34m()\u001b[0m\n\u001b[0;32m----> 1\u001b[0m final_t\u001b[38;5;241m=\u001b[39m\u001b[43mcount\u001b[49m\n\u001b[1;32m      2\u001b[0m \u001b[38;5;28mprint\u001b[39m(count)\n",
      "\u001b[0;31mNameError\u001b[0m: name 'count' is not defined"
     ]
    }
   ],
   "source": [
    "final_t=count\n",
    "print(count)"
   ]
  },
  {
   "cell_type": "code",
   "execution_count": 24,
   "id": "3339aeb8",
   "metadata": {},
   "outputs": [
    {
     "name": "stdout",
     "output_type": "stream",
     "text": [
      "-6.7229674933e-25\n"
     ]
    }
   ],
   "source": [
    "print(datam[0][0][1]) # datam indexes give res, time then gridpoint"
   ]
  },
  {
   "cell_type": "code",
   "execution_count": 25,
   "id": "1b11caa7",
   "metadata": {},
   "outputs": [],
   "source": [
    "L=len(datam[0][0])-6 # grid length without the ghostpoints\n",
    "dx=datagrid[0][0][1]-datagrid[0][0][0]"
   ]
  },
  {
   "cell_type": "code",
   "execution_count": 26,
   "id": "ee19cabc",
   "metadata": {},
   "outputs": [
    {
     "data": {
      "text/plain": [
       "[<matplotlib.lines.Line2D at 0x7f245f789670>]"
      ]
     },
     "execution_count": 26,
     "metadata": {},
     "output_type": "execute_result"
    },
    {
     "data": {
      "image/png": "[encoded data removed]",
      "text/plain": [
       "<Figure size 432x288 with 1 Axes>"
      ]
     },
     "metadata": {
      "needs_background": "light"
     },
     "output_type": "display_data"
    }
   ],
   "source": [
    "#plt_x1 = np.linspace(0, 1, L)\n",
    "#plt_x2 = np.linspace(0, 1, 2*L-1)\n",
    "#plt_x3 = np.linspace(0, 1, 4*L-3)\n",
    "t=0\n",
    "plt_x1 = datagrid[0][t][3:len(datagrid[0][0])-3]\n",
    "plt_x2 = datagrid[1][t*2][3:len(datagrid[1][0])-3]\n",
    "plt_x3 = datagrid[2][t*3][3:len(datagrid[2][0])-3]\n",
    "\n",
    "plt.plot(plt_x1,datam[0][0][3:len(datam[0][0])-3])\n",
    "#plt.plot(plt_x2,datam[1][0][3:len(datam[1][0])-3])\n",
    "#plt.plot(plt_x3,datam[2][0][3:len(datam[2][0])-3])"
   ]
  },
  {
   "cell_type": "markdown",
   "id": "0f7f8fb9",
   "metadata": {},
   "source": [
    "# Styling plots"
   ]
  },
  {
   "cell_type": "code",
   "execution_count": 27,
   "id": "953579ab",
   "metadata": {},
   "outputs": [],
   "source": [
    "plt.rcParams.update({'font.size': 12})"
   ]
  },
  {
   "cell_type": "markdown",
   "id": "52719f95",
   "metadata": {},
   "source": [
    "# Plotting data with resolutions 1 and 2 and differences "
   ]
  },
  {
   "cell_type": "code",
   "execution_count": 28,
   "id": "84d69697",
   "metadata": {},
   "outputs": [
    {
     "data": {
      "image/png": "[encoded data removed]",
      "text/plain": [
       "<Figure size 432x288 with 1 Axes>"
      ]
     },
     "metadata": {
      "needs_background": "light"
     },
     "output_type": "display_data"
    }
   ],
   "source": [
    "# for given t\n",
    "t1=0 #last timestep\n",
    "t2=2*t1\n",
    "t3=4*t1\n",
    "auxm = []\n",
    "auxbeta = []\n",
    "auxpsi = []\n",
    "auxderpsi = []\n",
    "auxgrid = []\n",
    "\n",
    "for i in range(len(datam[1][t2])):#iterate on the grid with higher resolution\n",
    "    if ((i>2) and (i < (len(datam[1][t2])-3)) and ((i%2)!=0)): #ignoring ghost points\n",
    "        auxm.append(datam[1][t2][i])\n",
    "        auxbeta.append(databeta[1][t2][i])\n",
    "        auxpsi.append(datapsi[1][t2][i])\n",
    "        auxderpsi.append(dataderpsi[1][t2][i])\n",
    "        auxgrid.append(datagrid[1][t2][i])\n",
    "        #print(datam[1][0][i])\n",
    "\n",
    "        \n",
    "# array for all diff_m_2_1 diff_beta_2_1 diff_psi_2_1 diff_derpsi_2_1\n",
    "diffs_2_1 = []\n",
    "\n",
    "#subtracting f in both resolutions & ignoring ghost points\n",
    "diffs_2_1.append(np.subtract(datam[0][t1][3:len(datam[0][t1])-3],auxm))\n",
    "diffs_2_1.append(np.subtract(databeta[0][t1][3:len(databeta[0][t1])-3],auxbeta))\n",
    "diffs_2_1.append(np.subtract(datapsi[0][t1][3:len(datapsi[0][t1])-3],auxpsi))\n",
    "diffs_2_1.append(np.subtract(dataderpsi[0][t1][3:len(dataderpsi[0][t1])-3],auxderpsi))\n",
    "diffs_2_1.append(np.subtract(datagrid[0][t1][3:len(datagrid[0][t1])-3],auxgrid))\n",
    "\n",
    "with plt.style.context('bmh'):\n",
    "    plt.plot(plt_x1, diffs_2_1[0], label = 'res2-res1 of m')\n",
    "\n",
    "plt.legend()\n",
    "plt.xlabel('x')\n",
    "plt.ylabel('m2(x)-m1(x)')\n",
    "plt.show()"
   ]
  },
  {
   "cell_type": "markdown",
   "id": "f055fd26",
   "metadata": {},
   "source": [
    "# Pointwise convergence tests: plots for thesis project report "
   ]
  },
  {
   "cell_type": "code",
   "execution_count": 29,
   "id": "bee07068",
   "metadata": {},
   "outputs": [
    {
     "data": {
      "image/png": "[encoded data removed]",
      "text/plain": [
       "<Figure size 1080x720 with 4 Axes>"
      ]
     },
     "metadata": {
      "needs_background": "light"
     },
     "output_type": "display_data"
    }
   ],
   "source": [
    "# for given t\n",
    "\n",
    "aux2m = []\n",
    "aux2beta = []\n",
    "aux2psi = []\n",
    "aux2derpsi = []\n",
    "aux2grid = []\n",
    "for i in range(len(datam[2][t3])):#iterate on the grid with higher resolution\n",
    "    if ((i>2) and (i < (len(datam[2][t3])-3)) and (((i+1)%4)==0)): #ignoring ghost points\n",
    "        aux2m.append(datam[2][t3][i])\n",
    "        aux2beta.append(databeta[2][t3][i])\n",
    "        aux2psi.append(datapsi[2][t3][i])\n",
    "        aux2derpsi.append(dataderpsi[2][t3][i])\n",
    "        aux2grid.append(datagrid[2][t3][i])\n",
    "        \n",
    "\n",
    "\n",
    "#subtracting m beta psi and derpsi in both resolutions & ignoring ghost points\n",
    "diffs_4_2 =[]\n",
    "diffs_4_2.append(np.subtract(auxm,aux2m))\n",
    "diffs_4_2.append(np.subtract(auxbeta,aux2beta))\n",
    "diffs_4_2.append(np.subtract(auxpsi,aux2psi))\n",
    "diffs_4_2.append(np.subtract(auxderpsi,aux2derpsi))\n",
    "diffs_4_2.append(np.subtract(auxgrid,aux2grid))\n",
    "\n",
    "with plt.style.context('bmh'):\n",
    "    \n",
    "    fig, ax = plt.subplots(2, 2,figsize=(15, 10))\n",
    "\n",
    "    ax[0][0].plot(plt_x1, (diffs_2_1[0]), label='Res1-res2 of m')\n",
    "    ax[0][0].plot(plt_x1, (diffs_4_2[0])*16, label='Res4-res2 * 16 of m')\n",
    "    ax[0][0].legend()\n",
    "    \n",
    "    ax[0][1].plot(plt_x1, (diffs_2_1[1]), label='Res1-res2 of beta')\n",
    "    ax[0][1].plot(plt_x1, (diffs_4_2[1])*16, label='Res4-res2 *16 of beta')\n",
    "    #ax[0][1].set_xlim([0, 0.05])\n",
    "    #ax[0][1].set_ylim([0, 1*10**(-11)])\n",
    "    ax[0][1].legend()\n",
    "    \n",
    "    ax[1][0].plot(plt_x1, (diffs_2_1[2]), label='Res1-res2 of psi')\n",
    "    ax[1][0].plot(plt_x1, (diffs_4_2[2])*16, label='Res4-res2 * 16 of psi')\n",
    "    ax[1][0].set_xlim([0, 1])\n",
    "    ax[1][0].legend()\n",
    "    \n",
    "    ax[1][1].plot(plt_x1, (diffs_2_1[3]), label='Res1-res2 of derpsi')\n",
    "    ax[1][1].plot(plt_x1, (diffs_4_2[3])*16, label='Res4-res2 * 16 of derpsi')\n",
    "    #ax[1][1].set_xlim([0, 0.2])\n",
    "    #ax[1][1].set_ylim([0, 0.5*10**(-9)])\n",
    "    ax[1][1].legend()\n",
    "    \n",
    "    \"\"\"ax[1][1].plot(plt_x1, abs(diffs_2_1[4]), label='Res1-res2 of spline derivative')\n",
    "    ax[1][1].plot(plt_x1, abs(diffs_4_2[4])*16, label='Res4-res2 * 16 of spline derivative')\n",
    "    #ax[1][1].set_xlim([0, 0.2])\n",
    "    #ax[1][1].set_ylim([0, 0.5*10**(-9)])\n",
    "    ax[1][1].legend()\"\"\"\n",
    "\n",
    "plt.legend()\n",
    "plt.show()\n",
    "\n"
   ]
  },
  {
   "cell_type": "markdown",
   "id": "4719f319",
   "metadata": {},
   "source": [
    "# L2 norm convergence tests"
   ]
  },
  {
   "cell_type": "code",
   "execution_count": 30,
   "id": "af1473d0",
   "metadata": {},
   "outputs": [
    {
     "name": "stdout",
     "output_type": "stream",
     "text": [
      "m convergence factor:\n",
      "3.9865488858841314\n",
      "\n",
      "beta convergence factor:\n",
      "3.991732110088661\n",
      "\n",
      "psi convergence factor:\n",
      "3.926604493047184\n",
      "\n",
      "derpsi convergence factor:\n",
      "nan\n",
      "\n"
     ]
    },
    {
     "name": "stderr",
     "output_type": "stream",
     "text": [
      "/tmp/ipykernel_8475/4260290787.py:29: RuntimeWarning: invalid value encountered in double_scalars\n",
      "  print(math.log2(norm_low_med[3]/norm_med_high[3]))\n"
     ]
    }
   ],
   "source": [
    "#for the first time step\n",
    "\n",
    "norm_low_med = []\n",
    "norm_med_high = []\n",
    "\n",
    "for j in range(5):\n",
    "    a = 0\n",
    "    b = 0\n",
    "    for i in diffs_2_1[j]:\n",
    "        a += i**2\n",
    "    for i in diffs_4_2[j]:\n",
    "        b += i**2\n",
    "    norm_low_med.append(np.sqrt(a))\n",
    "    norm_med_high.append(np.sqrt(b))\n",
    "\n",
    "print(\"m convergence factor:\")\n",
    "print(math.log2(norm_low_med[0]/norm_med_high[0]))\n",
    "print(\"\")\n",
    "\n",
    "print(\"beta convergence factor:\")\n",
    "print(math.log2(norm_low_med[1]/norm_med_high[1]))\n",
    "print(\"\")\n",
    "\n",
    "print(\"psi convergence factor:\")\n",
    "print(math.log2(norm_low_med[2]/norm_med_high[2]))\n",
    "print(\"\")\n",
    "\n",
    "print(\"derpsi convergence factor:\")\n",
    "print(math.log2(norm_low_med[3]/norm_med_high[3]))\n",
    "print(\"\")\n"
   ]
  },
  {
   "cell_type": "markdown",
   "id": "c32c1b9a",
   "metadata": {},
   "source": [
    "# Q(t)"
   ]
  },
  {
   "cell_type": "code",
   "execution_count": 31,
   "id": "8cb96077",
   "metadata": {},
   "outputs": [],
   "source": [
    "final_t=len(datatime[2])"
   ]
  },
  {
   "cell_type": "code",
   "execution_count": 32,
   "id": "20a46205",
   "metadata": {},
   "outputs": [
    {
     "name": "stderr",
     "output_type": "stream",
     "text": [
      "/tmp/ipykernel_8475/2978747600.py:86: RuntimeWarning: invalid value encountered in double_scalars\n",
      "  Q_derpsi.append(math.log2(norm_low_med[3]/norm_med_high[3]))\n"
     ]
    },
    {
     "data": {
      "image/png": "[encoded data removed]",
      "text/plain": [
       "<Figure size 720x360 with 2 Axes>"
      ]
     },
     "metadata": {
      "needs_background": "light"
     },
     "output_type": "display_data"
    }
   ],
   "source": [
    "Q_m = []\n",
    "Q_beta = []\n",
    "Q_psi = []\n",
    "Q_derpsi = []\n",
    "Q= []\n",
    "\n",
    "\n",
    "for t in range(0,int(final_t/4)):\n",
    "    # for given t\n",
    "    t1=t #last timestep\n",
    "    t2=2*t1\n",
    "    t3=4*t1\n",
    "    auxm = []\n",
    "    auxbeta = []\n",
    "    auxpsi = []\n",
    "    auxderpsi = []\n",
    "\n",
    "    for i in range(len(datam[1][t2])):#iterate on the grid with higher resolution\n",
    "        if ((i>2) and (i < (len(datam[1][t2])-3)) and ((i%2)!=0)): #ignoring ghost points\n",
    "            auxm.append(datam[1][t2][i])\n",
    "            auxbeta.append(databeta[1][t2][i])\n",
    "            auxpsi.append(datapsi[1][t2][i])\n",
    "            auxderpsi.append(dataderpsi[1][t2][i])\n",
    "            #print(datam[1][0][i])\n",
    "\n",
    "\n",
    "    # array for all diff_m_2_1 diff_beta_2_1 diff_psi_2_1 diff_derpsi_2_1\n",
    "    diffs_2_1 = []\n",
    "\n",
    "    #subtracting f in both resolutions & ignoring ghost points\n",
    "    diffs_2_1.append(np.subtract(datam[0][t1][3:len(datam[0][t1])-3],auxm))\n",
    "    diffs_2_1.append(np.subtract(databeta[0][t1][3:len(databeta[0][t1])-3],auxbeta))\n",
    "    diffs_2_1.append(np.subtract(datapsi[0][t1][3:len(datapsi[0][t1])-3],auxpsi))\n",
    "    diffs_2_1.append(np.subtract(dataderpsi[0][t1][3:len(dataderpsi[0][t1])-3],auxderpsi))\n",
    "\n",
    "    # for given t\n",
    "\n",
    "    aux2m = []\n",
    "    aux2beta = []\n",
    "    aux2psi = []\n",
    "    aux2derpsi = []\n",
    "    for i in range(len(datam[2][t3])):#iterate on the grid with higher resolution\n",
    "        if ((i>2) and (i < (len(datam[2][t3])-3)) and (((i+1)%4)==0)): #ignoring ghost points\n",
    "            aux2m.append(datam[2][t3][i])\n",
    "            aux2beta.append(databeta[2][t3][i])\n",
    "            aux2psi.append(datapsi[2][t3][i])\n",
    "            aux2derpsi.append(dataderpsi[2][t3][i])\n",
    "\n",
    "\n",
    "\n",
    "    #subtracting m beta psi and derpsi in both resolutions & ignoring ghost points\n",
    "    diffs_4_2 =[]\n",
    "    diffs_4_2.append(np.subtract(auxm,aux2m))\n",
    "    diffs_4_2.append(np.subtract(auxbeta,aux2beta))\n",
    "    diffs_4_2.append(np.subtract(auxpsi,aux2psi))\n",
    "    diffs_4_2.append(np.subtract(auxderpsi,aux2derpsi))\n",
    "\n",
    "\n",
    "    ####\n",
    "\n",
    "    norm_low_med = []\n",
    "    norm_med_high = []\n",
    "    single_norm_low_med = []\n",
    "    single_norm_med_high = []\n",
    "    s_a=0\n",
    "    s_b=0\n",
    "\n",
    "    for j in range(4):\n",
    "        a = 0\n",
    "        b = 0\n",
    "        for i in diffs_2_1[j]:\n",
    "            a += i**2\n",
    "            s_a += i**2\n",
    "        for i in diffs_4_2[j]:\n",
    "            b += i**2\n",
    "            s_b += i**2\n",
    "        norm_low_med.append(np.sqrt(a))\n",
    "        norm_med_high.append(np.sqrt(b))\n",
    "\n",
    "    single_norm_low_med=np.sqrt(s_a)\n",
    "    single_norm_med_high=np.sqrt(s_b)\n",
    "    \n",
    "    Q_m.append(math.log2(norm_low_med[0]/norm_med_high[0]))\n",
    "    Q_beta.append(math.log2(norm_low_med[1]/norm_med_high[1]))\n",
    "    Q_psi.append(math.log2(norm_low_med[2]/norm_med_high[2]))\n",
    "    Q_derpsi.append(math.log2(norm_low_med[3]/norm_med_high[3]))\n",
    "    Q.append(math.log2(single_norm_low_med/single_norm_med_high))\n",
    "    ####\n",
    "    \n",
    "plt_x = np.linspace(0, 1.3, len(Q_m))\n",
    "#plt_x = np.linspace(0, int(final_t/4)*dx*step, int(final_t/4))\n",
    "with plt.style.context('bmh'):\n",
    "    \n",
    "    fig, ax = plt.subplots(1, 2,figsize=(10, 5))\n",
    "    \n",
    "    ax[0].plot(plt_x, Q_m, label = '$Q_m$')\n",
    "    ax[0].plot(plt_x, Q_beta, label = '$Q_{\\\\beta}$',alpha=0.5)\n",
    "    ax[0].plot(plt_x, Q_psi, label = '$Q_{\\psi}$')\n",
    "    ax[0].plot(plt_x, Q_derpsi, label = '$Q_{\\psi,x}$',alpha=0.5)\n",
    "    ax[0].set_ylim([0,8])\n",
    "    #ax[0].set_xlim([0,1.3])\n",
    "    ax[0].legend(loc =\"lower left\")\n",
    "    ax[0].set_xlabel('time')\n",
    "    ax[0].set_ylabel('Q(t)')\n",
    "    ax[0].set_title('Individual norms')\n",
    "    \n",
    "    \n",
    "    ax[1].scatter(plt_x, Q, label = '$Q$',s=1.6)\n",
    "    ax[1].set_ylim([0,8])\n",
    "    #ax[1].set_xlim([0,1.3])\n",
    "    ax[1].legend(loc =\"lower left\")\n",
    "    ax[1].set_title('Single norm')\n",
    "    plt.xticks(rotation=45)\n",
    "    ax[1].set_xlabel('time')\n",
    "    ax[1].set_ylabel('Q(t)')\n",
    "\n",
    "plt.show()"
   ]
  },
  {
   "cell_type": "code",
   "execution_count": 33,
   "id": "aad82186",
   "metadata": {},
   "outputs": [
    {
     "data": {
      "text/plain": [
       "[3.9865488858841314,\n",
       " -12.610925195355303,\n",
       " -12.488842461829623,\n",
       " -12.451681432347604,\n",
       " -12.434894663317134,\n",
       " -12.42601892597824,\n",
       " -12.420964961747641,\n",
       " -12.41800079864029,\n",
       " -12.416268790358545,\n",
       " -12.41529506932201,\n",
       " -12.414800808479107,\n",
       " -12.41460994947924,\n",
       " -12.414609567781572,\n",
       " -12.41472267484438,\n",
       " -12.414898501224503,\n",
       " -12.415100928042367,\n",
       " -12.415307114562314,\n",
       " -12.415499646688922,\n",
       " -12.415669495545748,\n",
       " -12.415811248135133,\n",
       " -12.415921211988383,\n",
       " -12.415999620370277,\n",
       " -12.416048657024307,\n",
       " -12.41607114618841,\n",
       " -12.416071274011788,\n",
       " -12.416053626138138,\n",
       " -12.416024437371416,\n",
       " -12.41598879065324,\n",
       " -12.415952874873977,\n",
       " -12.415922595111384,\n",
       " -12.41590387403027,\n",
       " -12.41590252646987,\n",
       " -12.415924311049647,\n",
       " -12.415974262946632,\n",
       " -12.416057370060383,\n",
       " -12.416178270690732,\n",
       " -12.41634116230103,\n",
       " -12.416549800249088,\n",
       " -12.41680726753882,\n",
       " -12.417116503504118,\n",
       " -12.417480000133686,\n",
       " -12.417899673023726,\n",
       " -12.418376964053968,\n",
       " -12.418912842805092,\n",
       " -12.419508150035586,\n",
       " -12.420163093845375,\n",
       " -12.42087749910043,\n",
       " -12.421651124442922,\n",
       " -12.422483040403034,\n",
       " -12.42337222046752,\n",
       " -12.424317530893035,\n",
       " -12.425317456637542,\n",
       " -12.426370142173884,\n",
       " -12.427473808042148,\n",
       " -12.428626492299585,\n",
       " -12.429826014103762,\n",
       " -12.431070081631267,\n",
       " -12.432356618020888,\n",
       " -12.433683207931988,\n",
       " -12.43504757752193,\n",
       " -12.436447285400886,\n",
       " -12.437880126980382,\n",
       " -12.439343813250172,\n",
       " -12.440836020983875,\n",
       " -12.442354651129435,\n",
       " -12.443897596953642,\n",
       " -12.44546277604457,\n",
       " -12.447048285950897,\n",
       " -12.448652178297191,\n",
       " -12.450272828508291,\n",
       " -12.451908447590485,\n",
       " -12.453557470307446,\n",
       " -12.455218469924095,\n",
       " -12.456889965265633,\n",
       " -12.458570661218063,\n",
       " -12.46025945755499,\n",
       " -12.461955135656243,\n",
       " -12.463656691443317,\n",
       " -12.46536316397901,\n",
       " -12.467073639331332,\n",
       " -12.468787303988867,\n",
       " -12.470503445577876,\n",
       " -12.472221244115296,\n",
       " -12.473940183870862,\n",
       " -12.475659515997323,\n",
       " -12.477378674254226,\n",
       " -12.479097075349754,\n",
       " -12.480814182637145,\n",
       " -12.482529362682223,\n",
       " -12.48424209852502,\n",
       " -12.485951726179936,\n",
       " -12.4876576047189,\n",
       " -12.489359042190129,\n",
       " -12.49105530204519,\n",
       " -12.49274551318276,\n",
       " -12.49442871258028,\n",
       " -12.496103832051997,\n",
       " -12.497769709734238,\n",
       " -12.499424956789085,\n",
       " -12.501067990782515,\n",
       " -12.502697099951058,\n",
       " -12.504310245799727,\n",
       " -12.505905163382966,\n",
       " -12.507479247285692,\n",
       " -12.509029636803975,\n",
       " -12.510552987716531,\n",
       " -12.51204558973566,\n",
       " -12.513503224177798,\n",
       " -12.514921186868476,\n",
       " -12.516294180386963,\n",
       " -12.51761630281252,\n",
       " -12.518880922363046,\n",
       " -12.52008066561583,\n",
       " -12.521207348404811,\n",
       " -12.522251857568696,\n",
       " -12.523204088857932,\n",
       " -12.524052881063987,\n",
       " -12.524785969748175,\n",
       " -12.525389770760519,\n",
       " -12.525849399667987,\n",
       " -12.526148512095032,\n",
       " -12.526269254856533,\n",
       " -12.526192091908522,\n",
       " -12.52589573134015,\n",
       " -12.525357052180428,\n",
       " -12.524550895808664,\n",
       " -12.523450049184545,\n",
       " -12.522025094412689,\n",
       " -12.52024427932413,\n",
       " -12.518073419939562,\n",
       " -12.515475812099522,\n",
       " -12.512412144298477,\n",
       " -12.508840311677176,\n",
       " -12.504715462630985,\n",
       " -12.499989776977241,\n",
       " -12.49461255053131,\n",
       " -12.488529997744944,\n",
       " -12.481685315480025,\n",
       " -12.474018616371366,\n",
       " -12.465466956347141,\n",
       " -12.45596434386731,\n",
       " -12.445441809808472,\n",
       " -12.433827513953025,\n",
       " -12.421046853873653,\n",
       " -12.40702264855039,\n",
       " -12.39167535770341,\n",
       " -12.374923452784895,\n",
       " -12.356683663111676,\n",
       " -12.33687151633459,\n",
       " -12.315401819034715,\n",
       " -12.292189413100296,\n",
       " -12.267149840817778,\n",
       " -12.240200383665096,\n",
       " -12.21126122708297,\n",
       " -12.180256640947047,\n",
       " -12.147116805970311,\n",
       " -12.111779497804656,\n",
       " -12.074192411034893,\n",
       " -12.03431579507586,\n",
       " -11.992125425661122,\n",
       " -11.94761628513848,\n",
       " -11.900806618164848,\n",
       " -11.851742707655973,\n",
       " -11.80050435056093,\n",
       " -11.747210868548747,\n",
       " -11.692027889234478,\n",
       " -11.635174576339326,\n",
       " -11.576931123745968,\n",
       " -11.517646052952847,\n",
       " -11.457742825443766,\n",
       " -11.397724602884479,\n",
       " -11.338175950044695,\n",
       " -11.279759847312517,\n",
       " -11.223207960474658,\n",
       " -11.169302452320391,\n",
       " -11.118847484618378,\n",
       " -11.072630251856381,\n",
       " -11.03137247497666,\n",
       " -10.995675958219147,\n",
       " -10.96596821496803,\n",
       " -10.942455087491469,\n",
       " -10.925088264736122,\n",
       " -10.913552915346429,\n",
       " -10.907277546712333,\n",
       " -10.90546382247136,\n",
       " -10.907130963446587,\n",
       " -10.911167098822744,\n",
       " -10.916380794636877,\n",
       " -10.921546555590385,\n",
       " -10.925441787513131,\n",
       " -10.926873527046556,\n",
       " -10.924695904141087,\n",
       " -10.917820015647521,\n",
       " -10.905218254576813,\n",
       " -10.885926065337314,\n",
       " -10.859043499452039,\n",
       " -10.823740224187569,\n",
       " -10.779268144034656,\n",
       " -10.724988125166965,\n",
       " -10.660420781102898,\n",
       " -10.58533622837692,\n",
       " -10.499906742108891,\n",
       " -10.404954656133924,\n",
       " -10.302333428373819,\n",
       " -10.195459780118837,\n",
       " -10.089923888161312,\n",
       " -9.993873097954463,\n",
       " -9.917507596766942,\n",
       " -9.870927371553085,\n",
       " -9.860532383971691,\n",
       " -9.886078275848812,\n",
       " -9.94086453945803,\n",
       " -10.014881573949513,\n",
       " -10.09832515778052,\n",
       " -10.183557592846261,\n",
       " -10.265478210181053,\n",
       " -10.341088265332248,\n",
       " -10.40887560222359,\n",
       " -10.468291887611246,\n",
       " -10.519379772374567,\n",
       " -10.562528426756554,\n",
       " -10.598319227522367,\n",
       " -10.627429964833373,\n",
       " -10.65057533733286,\n",
       " -10.668469768485183,\n",
       " -10.68180380291195,\n",
       " -10.69122879366322,\n",
       " -10.697347156397578,\n",
       " -10.700706267284847,\n",
       " -10.701795280989538,\n",
       " -10.701044151918198,\n",
       " -10.698824501930037,\n",
       " -10.695452177390154,\n",
       " -10.691190871438774,\n",
       " -10.68625686125862,\n",
       " -10.680824342566899,\n",
       " -10.67503087971133,\n",
       " -10.668983098683414,\n",
       " -10.66276197126582,\n",
       " -10.656427804250967,\n",
       " -10.65002446872016,\n",
       " -10.643583233179374,\n",
       " -10.63712589116744,\n",
       " -10.630667194674027,\n",
       " -10.624216956028253,\n",
       " -10.617781413027629,\n",
       " -10.61136443557111,\n",
       " -10.604968337777951,\n",
       " -10.59859438794751,\n",
       " -10.592243222271232,\n",
       " -10.585915092377531,\n",
       " -10.579610028839106,\n",
       " -10.573327964204648,\n",
       " -10.567068745348793,\n",
       " -10.56083218784127,\n",
       " -10.554618103597212,\n",
       " -10.548426321129439,\n",
       " -10.542256638042133,\n",
       " -10.536108894187896,\n",
       " -10.52998289213692,\n",
       " -10.523878474647974,\n",
       " -10.517795466237988,\n",
       " -10.51173370342511,\n",
       " -10.505693022811379,\n",
       " -10.499673270932751,\n",
       " -10.493674274414401,\n",
       " -10.487695886906494,\n",
       " -10.481737951002101,\n",
       " -10.475800313544164,\n",
       " -10.469882823549902,\n",
       " -10.463985330595312,\n",
       " -10.45810768578746,\n",
       " -10.452249744227574,\n",
       " -10.446411357215098,\n",
       " -10.44059238720379,\n",
       " -10.434792690135726,\n",
       " -10.429012122552539,\n",
       " -10.423250548717943,\n",
       " -10.417507829580245,\n",
       " -10.411783828806051,\n",
       " -10.40607841367792,\n",
       " -10.400391447874133,\n",
       " -10.394722806762125,\n",
       " -10.389072349367407,\n",
       " -10.383439955151141,\n",
       " -10.377825495396616,\n",
       " -10.372228838856934,\n",
       " -10.366649863233272,\n",
       " -10.361088449124212,\n",
       " -10.355544467208475,\n",
       " -10.350017798128897,\n",
       " -10.344508324006592,\n",
       " -10.339015925055044,\n",
       " -10.333540483362615,\n",
       " -10.328081882784938,\n",
       " -10.32264000573473,\n",
       " -10.317214742225463,\n",
       " -10.3118059768794,\n",
       " -10.306413598213595,\n",
       " -10.301037495029341,\n",
       " -10.295677561410148,\n",
       " -10.290333682935877,\n",
       " -10.285005755438805,\n",
       " -10.279693674741742,\n",
       " -10.27439732794849,\n",
       " -10.269116618220304,\n",
       " -10.263851440682632,\n",
       " -10.25860169221096,\n",
       " -10.253367269723373,\n",
       " -10.248148075075168,\n",
       " -10.242944006467402,\n",
       " -10.237754970049696,\n",
       " -10.23258086329844,\n",
       " -10.227421591566722,\n",
       " -10.222277061492719,\n",
       " -10.217147174871378,\n",
       " -10.212031839558879,\n",
       " -10.206930960941365,\n",
       " -10.201844448262797,\n",
       " -10.196772211857928,\n",
       " -10.191714157451402,\n",
       " -10.186670198577678,\n",
       " -10.181640245075213,\n",
       " -10.17662420936039,\n",
       " -10.171622005630557,\n",
       " -10.166633544300138,\n",
       " -10.161658743023553,\n",
       " -10.156697514094992,\n",
       " -10.151749775148339,\n",
       " -10.146815443156889,\n",
       " -10.14189443621942,\n",
       " -10.136986671783701,\n",
       " -10.132092066181249,\n",
       " -10.127210543888806,\n",
       " -10.12234202233469,\n",
       " -10.117486423568513,\n",
       " -10.112643668390362,\n",
       " -10.107813679359765,\n",
       " -10.102996381208996,\n",
       " -10.09819169637938,\n",
       " -10.093399550601221,\n",
       " -10.088619867007543,\n",
       " -10.083852572838312,\n",
       " -10.079097595196021,\n",
       " -10.074354858559364,\n",
       " -10.069624294042454,\n",
       " -10.064905826718082,\n",
       " -10.060199387678027,\n",
       " -10.055504904703096,\n",
       " -10.050822310646023,\n",
       " -10.04615153438916,\n",
       " -10.041492505211702,\n",
       " -10.036845160033401,\n",
       " -10.032209426206396,\n",
       " -10.027585238071405,\n",
       " -10.022972532666385,\n",
       " -10.018371240364894,\n",
       " -10.013781296251409,\n",
       " -10.00920263755735,\n",
       " -10.004635196683658,\n",
       " -10.000078914928945,\n",
       " -9.99553372196086,\n",
       " -9.990999562920797,\n",
       " -9.986476369962476,\n",
       " -9.981964083095505,\n",
       " -9.97746264266173,\n",
       " -9.97297198519381,\n",
       " -9.968492051668958,\n",
       " -9.964022783185145,\n",
       " -9.959564120233617,\n",
       " -9.955116003013117,\n",
       " -9.950678374599448,\n",
       " -9.94625117606472,\n",
       " -9.941834350432666,\n",
       " -9.937427839762249,\n",
       " -9.93303158986815,\n",
       " -9.928645542014927,\n",
       " -9.924269642054629,\n",
       " -9.919903834319575,\n",
       " -9.915548065421538,\n",
       " -9.911202279233288,\n",
       " -9.906866422924804,\n",
       " -9.902540442062465,\n",
       " -9.898224282762303,\n",
       " -9.893917894058399,\n",
       " -9.889621226109698,\n",
       " -9.885334220131345,\n",
       " -9.88105683218536,\n",
       " -9.876789006288888,\n",
       " -9.872530692094578,\n",
       " -9.868281840764185,\n",
       " -9.864042401726476,\n",
       " -9.85981232430176,\n",
       " -9.855591561833165,\n",
       " -9.851380063977055,\n",
       " -9.8471777818008,\n",
       " -9.84298466809867,\n",
       " -9.838800674395644,\n",
       " -9.834625754437546,\n",
       " -9.830459857827522]"
      ]
     },
     "execution_count": 33,
     "metadata": {},
     "output_type": "execute_result"
    }
   ],
   "source": [
    "Q_m"
   ]
  },
  {
   "cell_type": "markdown",
   "id": "ecfb0aa0",
   "metadata": {},
   "source": [
    "# Pointwise convergence through time"
   ]
  },
  {
   "cell_type": "code",
   "execution_count": 13,
   "id": "b097c35f",
   "metadata": {},
   "outputs": [],
   "source": [
    "time_frame=range(0,int((count-1)/4)+1,1)\n",
    "pw_m_21 = []\n",
    "pw_m_42 = []\n",
    "pw_beta_21 = []\n",
    "pw_beta_42 = []\n",
    "pw_psi_21 = []\n",
    "pw_psi_42 = []\n",
    "pw_derpsi_21 = []\n",
    "pw_derpsi_42 = []\n",
    "\n",
    "for i in time_frame:\n",
    "    # for given t\n",
    "    t1=i #last timestep\n",
    "    t2=2*t1\n",
    "    t3=4*t1\n",
    "    auxm = []\n",
    "    auxbeta = []\n",
    "    auxpsi = []\n",
    "    auxderpsi = []\n",
    "    auxgrid = []\n",
    "\n",
    "    for i in range(len(datam[1][t2])):#iterate on the grid with higher resolution\n",
    "        if ((i>2) and (i < (len(datam[1][t2])-3)) and ((i%2)!=0)): #ignoring ghost points\n",
    "            auxm.append(datam[1][t2][i])\n",
    "            auxbeta.append(databeta[1][t2][i])\n",
    "            auxpsi.append(datapsi[1][t2][i])\n",
    "            auxderpsi.append(dataderpsi[1][t2][i])\n",
    "            auxgrid.append(datagrid[1][t2][i])\n",
    "            #print(datam[1][0][i])\n",
    "\n",
    "\n",
    "    # array for all diff_m_2_1 diff_beta_2_1 diff_psi_2_1 diff_derpsi_2_1\n",
    "    diffs_2_1 = []\n",
    "\n",
    "    #subtracting f in both resolutions & ignoring ghost points\n",
    "    diffs_2_1.append(np.subtract(datam[0][t1][3:len(datam[0][t1])-3],auxm))\n",
    "    diffs_2_1.append(np.subtract(databeta[0][t1][3:len(databeta[0][t1])-3],auxbeta))\n",
    "    diffs_2_1.append(np.subtract(datapsi[0][t1][3:len(datapsi[0][t1])-3],auxpsi))\n",
    "    diffs_2_1.append(np.subtract(dataderpsi[0][t1][3:len(dataderpsi[0][t1])-3],auxderpsi))\n",
    "    diffs_2_1.append(np.subtract(datagrid[0][t1][3:len(datagrid[0][t1])-3],auxgrid))\n",
    "\n",
    "    # for given t\n",
    "\n",
    "    aux2m = []\n",
    "    aux2beta = []\n",
    "    aux2psi = []\n",
    "    aux2derpsi = []\n",
    "    aux2grid = []\n",
    "    for i in range(len(datam[2][t3])):#iterate on the grid with higher resolution\n",
    "        if ((i>2) and (i < (len(datam[2][t3])-3)) and (((i+1)%4)==0)): #ignoring ghost points\n",
    "            aux2m.append(datam[2][t3][i])\n",
    "            aux2beta.append(databeta[2][t3][i])\n",
    "            aux2psi.append(datapsi[2][t3][i])\n",
    "            aux2derpsi.append(dataderpsi[2][t3][i])\n",
    "            aux2grid.append(datagrid[2][t3][i])\n",
    "\n",
    "\n",
    "\n",
    "    #subtracting m beta psi and derpsi in both resolutions & ignoring ghost points\n",
    "    diffs_4_2 =[]\n",
    "    diffs_4_2.append(np.subtract(auxm,aux2m))\n",
    "    diffs_4_2.append(np.subtract(auxbeta,aux2beta))\n",
    "    diffs_4_2.append(np.subtract(auxpsi,aux2psi))\n",
    "    diffs_4_2.append(np.subtract(auxderpsi,aux2derpsi))\n",
    "    diffs_4_2.append(np.subtract(auxgrid,aux2grid))\n",
    "\n",
    "    pw_m_21.append(abs(diffs_2_1[0]))\n",
    "    pw_m_42.append(abs(diffs_4_2[0])*16)\n",
    "    pw_beta_21.append(abs(diffs_2_1[1]))\n",
    "    pw_beta_42.append(abs(diffs_4_2[1])*16)\n",
    "    pw_psi_21.append(abs(diffs_2_1[2]))\n",
    "    pw_psi_42.append(abs(diffs_4_2[2])*16)\n",
    "    pw_derpsi_21.append(abs(diffs_2_1[3]))\n",
    "    pw_derpsi_42.append(abs(diffs_4_2[3])*16)"
   ]
  },
  {
   "cell_type": "code",
   "execution_count": 14,
   "id": "38f7be86",
   "metadata": {},
   "outputs": [
    {
     "data": {
      "image/png": "[encoded data removed]",
      "text/plain": [
       "<Figure size 1080x720 with 4 Axes>"
      ]
     },
     "metadata": {
      "needs_background": "light"
     },
     "output_type": "display_data"
    }
   ],
   "source": [
    "from matplotlib import pyplot as plt\n",
    "import numpy as np\n",
    "from matplotlib.animation import FuncAnimation\n",
    "\n",
    "fig, ax = plt.subplots(2,2,figsize=(15, 10))\n",
    "for j in range(0,2):\n",
    "    for i in range(0,2):\n",
    "        ax[i][j].set_xlim(0, 1)\n",
    "        ax[i][j].grid()\n",
    "#2th\n",
    "ax[0][0].set_ylim(0, 2*10**(-9))\n",
    "ax[0][1].set_ylim(0, 10**(-8))\n",
    "ax[1][0].set_ylim(0, 10**(-7))\n",
    "ax[1][1].set_ylim(0, 5*10**(-5))\n",
    "#4th\n",
    "#ax[0][0].set_ylim(0, 2*10**(-11))\n",
    "#ax[0][1].set_ylim(0, 10**(-8))\n",
    "#ax[1][0].set_ylim(0, 10**(-9))\n",
    "#ax[1][1].set_ylim(0, 10**(-9))\n",
    "\n",
    "line1, = ax[0][0].plot([], [], lw = 3)\n",
    "line2, = ax[0][0].plot([], [], lw = 3)\n",
    "\n",
    "time_text = ax[0][0].text(0.5, 0.9, '', transform=ax[0][0].transAxes)\n",
    "\n",
    "line3, = ax[0][1].plot([], [], lw = 3)\n",
    "line4, = ax[0][1].plot([], [], lw = 3)\n",
    "\n",
    "line5, = ax[1][0].plot([], [], lw = 3)\n",
    "line6, = ax[1][0].plot([], [], lw = 3)\n",
    "\n",
    "line7, = ax[1][1].plot([], [], lw = 3)\n",
    "line8, = ax[1][1].plot([], [], lw = 3)\n",
    "\n",
    "\n",
    "def init():\n",
    "    line1.set_data([], [])\n",
    "    line2.set_data([], [])\n",
    "    time_text.set_text('')\n",
    "    return line1,line2,time_text\n",
    "\n",
    "def animate(i):\n",
    "    # m\n",
    "    x = plt_x1\n",
    "    y = pw_m_21[i]\n",
    "    y2 = pw_m_42[i]\n",
    "    line1.set_data(x, y)\n",
    "    line2.set_data(x, y2)\n",
    "    line1.set_label('m21')\n",
    "    line2.set_label('m42 *4')\n",
    "    ax[0][0].legend()\n",
    "    \n",
    "    # beta\n",
    "    x = plt_x1\n",
    "    y = pw_beta_21[i]\n",
    "    y2 = pw_beta_42[i]\n",
    "    line3.set_data(x, y)\n",
    "    line4.set_data(x, y2)\n",
    "    line3.set_label('beta21')\n",
    "    line4.set_label('beta42 *4')\n",
    "    ax[0][1].legend()\n",
    "    \n",
    "    # psi\n",
    "    x = plt_x1\n",
    "    y = pw_psi_21[i]\n",
    "    y2 = pw_psi_42[i]\n",
    "    line5.set_data(x, y)\n",
    "    line6.set_data(x, y2)\n",
    "    line5.set_label('psi21')\n",
    "    line6.set_label('psi42 *4')\n",
    "    ax[1][0].legend()\n",
    "    \n",
    "    # der psi\n",
    "    x = plt_x1\n",
    "    y = pw_derpsi_21[i]\n",
    "    y2 = pw_derpsi_42[i]\n",
    "    line7.set_data(x, y)\n",
    "    line8.set_data(x, y2)\n",
    "    line7.set_label('derpsi21')\n",
    "    line8.set_label('derpsi42 *16')\n",
    "    ax[1][1].legend()\n",
    "    \n",
    "    t=i*dx*step\n",
    "    time_text.set_text('time = %.3f' % t)\n",
    "    \n",
    "    return line1,line2,line3,line4,line5,line6,line7,line8,time_text\n",
    " \n",
    "\n",
    "anim = FuncAnimation(fig, animate,\n",
    "                    init_func = init,\n",
    "                    frames = len(time_frame),\n",
    "                    interval = 200,\n",
    "                    blit = False,repeat=False)\n",
    "\n",
    "anim.save('pointwise.gif',\n",
    "          writer = 'ffmpeg', fps = 2*4)"
   ]
  },
  {
   "cell_type": "markdown",
   "id": "fe4b37d7",
   "metadata": {},
   "source": [
    "# Changing grid and fixed timestep"
   ]
  },
  {
   "cell_type": "code",
   "execution_count": 85,
   "id": "8540013f",
   "metadata": {},
   "outputs": [
    {
     "data": {
      "image/png": "[encoded data removed]",
      "text/plain": [
       "<Figure size 432x288 with 1 Axes>"
      ]
     },
     "metadata": {
      "needs_background": "light"
     },
     "output_type": "display_data"
    }
   ],
   "source": [
    "import scipy\n",
    "# for given t\n",
    "t1=0 #last timestep\n",
    "t2=2*t1\n",
    "t3=4*t1\n",
    "\n",
    "spl_m = scipy.interpolate.splrep(datagrid[1][t2],datam[1][t2],k=4)\n",
    "spl_beta = scipy.interpolate.splrep(datagrid[1][t2],databeta[1][t2],k=4)\n",
    "spl_psi = scipy.interpolate.splrep(datagrid[1][t2],datapsi[1][t2],k=4)\n",
    "spl_derpsi = scipy.interpolate.splrep(datagrid[1][t2],dataderpsi[1][t2],k=4)\n",
    "\n",
    "#evaluate interpolation of data res2 on grid of res1\n",
    "m2 = scipy.interpolate.splev(datagrid[0][t1][3:len(datagrid[0][t1])-3],spl_m)\n",
    "beta2 = scipy.interpolate.splev(datagrid[0][t1][3:len(datagrid[0][t1])-3],spl_beta)\n",
    "psi2 = scipy.interpolate.splev(datagrid[0][t1][3:len(datagrid[0][t1])-3],spl_psi)\n",
    "derpsi2 = scipy.interpolate.splev(datagrid[0][t1][3:len(datagrid[0][t1])-3],spl_derpsi)\n",
    "        \n",
    "# array for all diff_m_2_1 diff_beta_2_1 diff_psi_2_1 diff_derpsi_2_1\n",
    "diffs_2_1 = []\n",
    "\n",
    "#subtracting f in both resolutions & ignoring ghost points\n",
    "diffs_2_1.append(np.subtract(datam[0][t1][3:len(datam[0][t1])-3],m2))\n",
    "diffs_2_1.append(np.subtract(databeta[0][t1][3:len(databeta[0][t1])-3],beta2))\n",
    "diffs_2_1.append(np.subtract(datapsi[0][t1][3:len(datapsi[0][t1])-3],psi2))\n",
    "diffs_2_1.append(np.subtract(dataderpsi[0][t1][3:len(dataderpsi[0][t1])-3],derpsi2))\n",
    "\n",
    "with plt.style.context('bmh'):\n",
    "    plt.plot(plt_x1, diffs_2_1[0], label = 'res2-res1 of m')\n",
    "\n",
    "plt.legend()\n",
    "plt.xlabel('x')\n",
    "plt.ylabel('m2(x)-m1(x)')\n",
    "plt.show()"
   ]
  },
  {
   "cell_type": "markdown",
   "id": "ff811217",
   "metadata": {},
   "source": [
    "### Pointwise convergence tests - Changing grid"
   ]
  },
  {
   "cell_type": "code",
   "execution_count": 86,
   "id": "4cc948c9",
   "metadata": {},
   "outputs": [
    {
     "data": {
      "image/png": "[encoded data removed]",
      "text/plain": [
       "<Figure size 1080x720 with 4 Axes>"
      ]
     },
     "metadata": {
      "needs_background": "light"
     },
     "output_type": "display_data"
    }
   ],
   "source": [
    "# for given t\n",
    "\n",
    "spl_m = scipy.interpolate.splrep(datagrid[2][t3],datam[2][t3],k=4)\n",
    "spl_beta = scipy.interpolate.splrep(datagrid[2][t3],databeta[2][t3],k=4)\n",
    "spl_psi = scipy.interpolate.splrep(datagrid[2][t3],datapsi[2][t3],k=4)\n",
    "spl_derpsi = scipy.interpolate.splrep(datagrid[2][t3],dataderpsi[2][t3],k=4)\n",
    "\n",
    "\n",
    "#evaluate interpolation of data res2 on grid of res1\n",
    "m3 = scipy.interpolate.splev(datagrid[0][t1][3:len(datagrid[0][t1])-3],spl_m)\n",
    "beta3 = scipy.interpolate.splev(datagrid[0][t1][3:len(datagrid[0][t1])-3],spl_beta)\n",
    "psi3 = scipy.interpolate.splev(datagrid[0][t1][3:len(datagrid[0][t1])-3],spl_psi)\n",
    "derpsi3 = scipy.interpolate.splev(datagrid[0][t1][3:len(datagrid[0][t1])-3],spl_derpsi)\n",
    "\n",
    "#subtracting m beta psi and derpsi in both resolutions & ignoring ghost points\n",
    "diffs_4_2 =[]\n",
    "diffs_4_2.append(np.subtract(m2,m3))\n",
    "diffs_4_2.append(np.subtract(beta2,beta3))\n",
    "diffs_4_2.append(np.subtract(psi2,psi3))\n",
    "diffs_4_2.append(np.subtract(derpsi2,derpsi3))\n",
    "\n",
    "plt_x1 = datagrid[0][t1][3:len(datagrid[0][t1])-3]\n",
    "\n",
    "with plt.style.context('bmh'):\n",
    "    \n",
    "    fig, ax = plt.subplots(2, 2,figsize=(15, 10))\n",
    "\n",
    "    ax[0][0].plot(plt_x1, abs(diffs_2_1[0]), label='Res1-res2 of m')\n",
    "    ax[0][0].plot(plt_x1, abs(diffs_4_2[0])*16, label='Res4-res2 * 16 of m')\n",
    "    ax[0][0].legend()\n",
    "    \n",
    "    ax[0][1].plot(plt_x1, abs(diffs_2_1[1]), label='Res1-res2 of beta')\n",
    "    ax[0][1].plot(plt_x1, abs(diffs_4_2[1])*16, label='Res4-res2 *16 of beta')\n",
    "    #ax[0][1].set_xlim([0, 0.05])\n",
    "    #ax[0][1].set_ylim([0, 1*10**(-11)])\n",
    "    ax[0][1].legend()\n",
    "    \n",
    "    ax[1][0].plot(plt_x1, abs(diffs_2_1[2]), label='Res1-res2 of psi')\n",
    "    ax[1][0].plot(plt_x1, abs(diffs_4_2[2])*16, label='Res4-res2 * 16 of psi')\n",
    "\n",
    "    ax[1][0].legend()\n",
    "    \n",
    "    ax[1][1].plot(plt_x1, abs(diffs_2_1[3]), label='Res1-res2 of derpsi')\n",
    "    ax[1][1].plot(plt_x1, abs(diffs_4_2[3])*16, label='Res4-res2 * 16 of derpsi')\n",
    "    #ax[1][1].set_xlim([0, 0.2])\n",
    "    #ax[1][1].set_ylim([0, 0.5*10**(-9)])\n",
    "    ax[1][1].legend()\n",
    "\n",
    "plt.legend()\n",
    "plt.show()\n",
    "\n"
   ]
  },
  {
   "cell_type": "markdown",
   "id": "a4084e48",
   "metadata": {},
   "source": [
    "### Q(t) - Changing grid"
   ]
  },
  {
   "cell_type": "code",
   "execution_count": 87,
   "id": "c01b2c6b",
   "metadata": {},
   "outputs": [],
   "source": [
    "Q_m = []\n",
    "Q_beta = []\n",
    "Q_psi = []\n",
    "Q_derpsi = []\n",
    "\n",
    "for t in range(0,int(final_t/4)):\n",
    "    # for given t\n",
    "    t1=t #last timestep\n",
    "    t2=2*t1\n",
    "    t3=4*t1\n",
    "    \n",
    "    ## diffs 2 1 ##\n",
    "    \n",
    "    spl_m = scipy.interpolate.splrep(datagrid[1][t2],datam[1][t2],k=4)\n",
    "    spl_beta = scipy.interpolate.splrep(datagrid[1][t2],databeta[1][t2],k=4)\n",
    "    spl_psi = scipy.interpolate.splrep(datagrid[1][t2],datapsi[1][t2],k=4)\n",
    "    spl_derpsi = scipy.interpolate.splrep(datagrid[1][t2],dataderpsi[1][t2],k=4)\n",
    "\n",
    "    #evaluate interpolation of data res2 on grid of res1\n",
    "    m2 = scipy.interpolate.splev(datagrid[0][t1][3:len(datagrid[0][t1])-3],spl_m)\n",
    "    beta2 = scipy.interpolate.splev(datagrid[0][t1][3:len(datagrid[0][t1])-3],spl_beta)\n",
    "    psi2 = scipy.interpolate.splev(datagrid[0][t1][3:len(datagrid[0][t1])-3],spl_psi)\n",
    "    derpsi2 = scipy.interpolate.splev(datagrid[0][t1][3:len(datagrid[0][t1])-3],spl_derpsi)\n",
    "\n",
    "    # array for all diff_m_2_1 diff_beta_2_1 diff_psi_2_1 diff_derpsi_2_1\n",
    "    diffs_2_1 = []\n",
    "\n",
    "    #subtracting f in both resolutions & ignoring ghost points\n",
    "    diffs_2_1.append(np.subtract(datam[0][t1][3:len(datam[0][t1])-3],m2))\n",
    "    diffs_2_1.append(np.subtract(databeta[0][t1][3:len(databeta[0][t1])-3],beta2))\n",
    "    diffs_2_1.append(np.subtract(datapsi[0][t1][3:len(datapsi[0][t1])-3],psi2))\n",
    "    diffs_2_1.append(np.subtract(dataderpsi[0][t1][3:len(dataderpsi[0][t1])-3],derpsi2))\n",
    "\n",
    "    ## diffs 4 2 ##\n",
    "\n",
    "    spl_m = scipy.interpolate.splrep(datagrid[2][t3],datam[2][t3],k=4)\n",
    "    spl_beta = scipy.interpolate.splrep(datagrid[2][t3],databeta[2][t3],k=4)\n",
    "    spl_psi = scipy.interpolate.splrep(datagrid[2][t3],datapsi[2][t3],k=4)\n",
    "    spl_derpsi = scipy.interpolate.splrep(datagrid[2][t3],dataderpsi[2][t3],k=4)\n",
    "\n",
    "\n",
    "    #evaluate interpolation of data res2 on grid of res1\n",
    "    m3 = scipy.interpolate.splev(datagrid[0][t1][3:len(datagrid[0][t1])-3],spl_m)\n",
    "    beta3 = scipy.interpolate.splev(datagrid[0][t1][3:len(datagrid[0][t1])-3],spl_beta)\n",
    "    psi3 = scipy.interpolate.splev(datagrid[0][t1][3:len(datagrid[0][t1])-3],spl_psi)\n",
    "    derpsi3 = scipy.interpolate.splev(datagrid[0][t1][3:len(datagrid[0][t1])-3],spl_derpsi)\n",
    "\n",
    "    #subtracting m beta psi and derpsi in both resolutions & ignoring ghost points\n",
    "    diffs_4_2 =[]\n",
    "    diffs_4_2.append(np.subtract(m2,m3))\n",
    "    diffs_4_2.append(np.subtract(beta2,beta3))\n",
    "    diffs_4_2.append(np.subtract(psi2,psi3))\n",
    "    diffs_4_2.append(np.subtract(derpsi2,derpsi3))\n",
    "\n",
    "\n",
    "    ####\n",
    "\n",
    "    norm_low_med = []\n",
    "    norm_med_high = []\n",
    "\n",
    "    for j in range(4):\n",
    "        a = 0\n",
    "        b = 0\n",
    "        for i in diffs_2_1[j]:\n",
    "            a += i**2\n",
    "        for i in diffs_4_2[j]:\n",
    "            b += i**2\n",
    "        norm_low_med.append(np.sqrt(a))\n",
    "        norm_med_high.append(np.sqrt(b))\n",
    "\n",
    "    Q_m.append(math.log2(norm_low_med[0]/norm_med_high[0]))\n",
    "    Q_beta.append(math.log2(norm_low_med[1]/norm_med_high[1]))\n",
    "    Q_psi.append(math.log2(norm_low_med[2]/norm_med_high[2]))\n",
    "    Q_derpsi.append(math.log2(norm_low_med[3]/norm_med_high[3]))"
   ]
  },
  {
   "cell_type": "code",
   "execution_count": 88,
   "id": "8a81aaec",
   "metadata": {},
   "outputs": [
    {
     "data": {
      "image/png": "[encoded data removed]",
      "text/plain": [
       "<Figure size 432x288 with 1 Axes>"
      ]
     },
     "metadata": {
      "needs_background": "light"
     },
     "output_type": "display_data"
    }
   ],
   "source": [
    "dt=dx\n",
    "finaltime=(count-1)/8*step*dt\n",
    "#plt_x = np.linspace(0, int(final_t/4)*dx*step*0.8, int(final_t/4))\n",
    "plt_x = np.linspace(0, int(final_t/4)*dx*step, int(final_t/4))\n",
    "\n",
    "with plt.style.context('bmh'):\n",
    "    plt.plot(plt_x, Q_m, label = '$Q_m$')\n",
    "    plt.plot(plt_x, Q_beta, label = '$Q_{\\\\beta}$',alpha=0.5)\n",
    "    plt.plot(plt_x, Q_psi, label = '$Q_{\\psi}$')\n",
    "    plt.plot(plt_x, Q_derpsi, label = '$Q_{\\psi,x}$',alpha=0.5)\n",
    "    \n",
    "\n",
    "plt.ylim([0, 8])\n",
    "\n",
    "plt.legend(loc =\"upper right\")\n",
    "plt.xticks(rotation=45)\n",
    "plt.xlabel('time')\n",
    "plt.ylabel('Q(t)')\n",
    "#plt.savefig(\"myImage.png\", format=\"png\", dpi=2000,bbox_inches='tight')\n",
    "plt.show()"
   ]
  },
  {
   "cell_type": "code",
   "execution_count": null,
   "id": "45d47a60",
   "metadata": {},
   "outputs": [],
   "source": []
  },
  {
   "cell_type": "code",
   "execution_count": null,
   "id": "5d9e2caa",
   "metadata": {},
   "outputs": [],
   "source": []
  },
  {
   "cell_type": "code",
   "execution_count": null,
   "id": "e78c1850",
   "metadata": {},
   "outputs": [],
   "source": []
  },
  {
   "cell_type": "code",
   "execution_count": null,
   "id": "260fc1e0",
   "metadata": {},
   "outputs": [],
   "source": []
  },
  {
   "cell_type": "code",
   "execution_count": null,
   "id": "ff3157aa",
   "metadata": {},
   "outputs": [],
   "source": []
  },
  {
   "cell_type": "code",
   "execution_count": null,
   "id": "de16aaa4",
   "metadata": {},
   "outputs": [],
   "source": []
  },
  {
   "cell_type": "code",
   "execution_count": null,
   "id": "c786c853",
   "metadata": {},
   "outputs": [],
   "source": []
  },
  {
   "cell_type": "code",
   "execution_count": null,
   "id": "9e987b13",
   "metadata": {},
   "outputs": [],
   "source": []
  },
  {
   "cell_type": "code",
   "execution_count": null,
   "id": "71388f69",
   "metadata": {},
   "outputs": [],
   "source": []
  },
  {
   "cell_type": "code",
   "execution_count": null,
   "id": "4b00fe14",
   "metadata": {},
   "outputs": [],
   "source": []
  },
  {
   "cell_type": "code",
   "execution_count": null,
   "id": "7751eb0e",
   "metadata": {},
   "outputs": [],
   "source": []
  },
  {
   "cell_type": "markdown",
   "id": "724d29b6",
   "metadata": {},
   "source": [
    "# Fixed grid and changing timestep"
   ]
  },
  {
   "cell_type": "code",
   "execution_count": 91,
   "id": "45280616",
   "metadata": {},
   "outputs": [],
   "source": [
    "time_arrays=[]\n",
    "for resolution in res:\n",
    "    with pd.option_context('display.precision', 20):\n",
    "        df = pd.read_csv(\"/home/rita13santos/Desktop/MSc Thesis/Git/ScalarField/DATA/timearray{}.csv\".format(resolution), header=None, dtype = str)\n",
    "        df = df.to_numpy()\n",
    "        df = np.transpose(df)\n",
    "        aux = [float(x) for x in df[0]]\n",
    "        time_arrays.append(aux)"
   ]
  },
  {
   "cell_type": "code",
   "execution_count": 108,
   "id": "925acc20",
   "metadata": {},
   "outputs": [
    {
     "data": {
      "text/plain": [
       "array([ 0.00000000e+00, -3.46944695e-18, -3.46944695e-18, -3.46944695e-18,\n",
       "        0.00000000e+00,  0.00000000e+00,  0.00000000e+00,  0.00000000e+00,\n",
       "        0.00000000e+00,  0.00000000e+00,  0.00000000e+00,  0.00000000e+00,\n",
       "        0.00000000e+00,  0.00000000e+00,  0.00000000e+00,  0.00000000e+00,\n",
       "        0.00000000e+00,  0.00000000e+00,  0.00000000e+00,  0.00000000e+00,\n",
       "        0.00000000e+00])"
      ]
     },
     "execution_count": 108,
     "metadata": {},
     "output_type": "execute_result"
    }
   ],
   "source": [
    "aux=[]\n",
    "for i in range(0,len(time_arrays[1])):\n",
    "    if i%2==0:\n",
    "        aux.append(time_arrays[1][i])\n",
    "aux       \n",
    "np.subtract(time_arrays[0],aux)"
   ]
  },
  {
   "cell_type": "code",
   "execution_count": 109,
   "id": "99fae246",
   "metadata": {},
   "outputs": [],
   "source": [
    "#time_arrays[0]"
   ]
  },
  {
   "cell_type": "code",
   "execution_count": 110,
   "id": "40b12988",
   "metadata": {},
   "outputs": [
    {
     "data": {
      "text/plain": [
       "array([-1.46466297e-20,  4.05183323e-20,  2.02564244e-19,  6.14090671e-19,\n",
       "        1.49424577e-18,  3.20702973e-18,  6.34156709e-18,  1.18317450e-17,\n",
       "        2.11328282e-17,  3.64799764e-17,  6.12637563e-17,  1.00571800e-16,\n",
       "        1.61965121e-16,  2.56584154e-16,  4.00715793e-16,  6.18001992e-16,\n",
       "        9.42537115e-16,  1.42319107e-15,  2.12961583e-15,  3.16055380e-15,\n",
       "        4.65528091e-15])"
      ]
     },
     "execution_count": 110,
     "metadata": {},
     "output_type": "execute_result"
    }
   ],
   "source": [
    "x_i = 0\n",
    "np.transpose(datam[0])[x_i] #this array is the value of m over time at gridpoint x_i"
   ]
  },
  {
   "cell_type": "code",
   "execution_count": 116,
   "id": "15cab58d",
   "metadata": {},
   "outputs": [],
   "source": [
    "import scipy\n",
    "interp_funcs_res2=[]\n",
    "for x_i in range(3,len(dataderpsi[1][0])-3): #iterate over gridpoints on grid with res2, ignoring ghostpoints\n",
    "    \n",
    "    if x_i%2!=0:\n",
    "\n",
    "        x=time_arrays[1]\n",
    "        y = np.transpose(dataderpsi[1])[x_i]\n",
    "        #print(\"x \", x)\n",
    "        #print(\"y \", y)\n",
    "        #print(\"   \")\n",
    "        \n",
    "        #f=interpolate.interp1d(x, y)\n",
    "        spl_f = scipy.interpolate.splrep(x,y,k=5)\n",
    "        \n",
    "        interp_funcs_res2.append(spl_f)\n",
    "        #plt.scatter(x,y)\n",
    "        #plt.ylim([-0.002, 0.002])\n",
    "        #plt.show()\n",
    "        \n",
    "interp_funcs_res4=[]\n",
    "for x_i in range(3,len(dataderpsi[2][0])-3): #iterate over gridpoints on grid with res4, ignoring ghostpoints\n",
    "    \n",
    "    if (x_i+1)%4==0:\n",
    "        \n",
    "        x=time_arrays[2]\n",
    "        y = np.transpose(dataderpsi[2])[x_i]\n",
    "        #print(\"x \", x)\n",
    "        #print(\"y \", y)\n",
    "        #print(\"   \")\n",
    "        \n",
    "        #f=interpolate.interp1d(x, y)\n",
    "        spl_f = scipy.interpolate.splrep(x,y,k=5)\n",
    "        \n",
    "        interp_funcs_res4.append(spl_f)"
   ]
  },
  {
   "cell_type": "code",
   "execution_count": 117,
   "id": "107f3974",
   "metadata": {},
   "outputs": [],
   "source": [
    "\n",
    "diffs_2_1=[]\n",
    "diffs_4_2=[]\n",
    "\n",
    "for j in range(0,len(dataderpsi[0])): #iterate on time\n",
    "    aux2=[]\n",
    "    aux4=[]\n",
    "    \n",
    "    for i in range(3,len(dataderpsi[0][0])-3): #iterate on grid with res1, ignore ghostpoints\n",
    "        t=time_arrays[0][j]\n",
    "        #print(t)\n",
    "        #aux2.append(dataderpsi[0][j][i]-float(interp_funcs_res2[i-3](t)))\n",
    "        #aux4.append(dataderpsi[0][j][i]-float(interp_funcs_res4[i-3](t)))\n",
    "        aux2.append(dataderpsi[0][j][i]-float(scipy.interpolate.splev(t,interp_funcs_res2[i-3])))\n",
    "        aux4.append(dataderpsi[0][j][i]-float(scipy.interpolate.splev(t,interp_funcs_res4[i-3])))\n",
    "        \n",
    "    #print(np.subtract(aux2,aux4))\n",
    "    #print(aux4)\n",
    "    diffs_2_1.append(aux2)\n",
    "    diffs_4_2.append(aux4)"
   ]
  },
  {
   "cell_type": "code",
   "execution_count": 118,
   "id": "3595d73a",
   "metadata": {},
   "outputs": [
    {
     "data": {
      "text/plain": [
       "'diffs_2_1=[]\\ndiffs_4_2=[]\\n\\nfor j in range(0,len(dataderpsi[0])): #iterate on time\\n    aux2=[]\\n    aux4=[]\\n    \\n    for i in range(3,len(dataderpsi[0][0])-3): #iterate on grid with res1, ignore ghostpoints\\n        t=time_arrays[0][j]\\n        #print(t)\\n        aux2.append(dataderpsi[0][j][i]-float(interp_funcs_res2[i-3](t)))\\n        aux4.append(dataderpsi[0][j][i]-float(interp_funcs_res4[i-3](t)))\\n    #print(np.subtract(aux2,aux4))\\n    #print(aux4)\\n    diffs_2_1.append(aux2)\\n    diffs_4_2.append(aux4)'"
      ]
     },
     "execution_count": 118,
     "metadata": {},
     "output_type": "execute_result"
    }
   ],
   "source": [
    "\"\"\"diffs_2_1=[]\n",
    "diffs_4_2=[]\n",
    "\n",
    "for j in range(0,len(dataderpsi[0])): #iterate on time\n",
    "    aux2=[]\n",
    "    aux4=[]\n",
    "    \n",
    "    for i in range(3,len(dataderpsi[0][0])-3): #iterate on grid with res1, ignore ghostpoints\n",
    "        t=time_arrays[0][j]\n",
    "        #print(t)\n",
    "        aux2.append(dataderpsi[0][j][i]-float(interp_funcs_res2[i-3](t)))\n",
    "        aux4.append(dataderpsi[0][j][i]-float(interp_funcs_res4[i-3](t)))\n",
    "    #print(np.subtract(aux2,aux4))\n",
    "    #print(aux4)\n",
    "    diffs_2_1.append(aux2)\n",
    "    diffs_4_2.append(aux4)\"\"\""
   ]
  },
  {
   "cell_type": "code",
   "execution_count": 119,
   "id": "0fce49fa",
   "metadata": {},
   "outputs": [
    {
     "data": {
      "text/plain": [
       "[<matplotlib.lines.Line2D at 0x7f326a470280>]"
      ]
     },
     "execution_count": 119,
     "metadata": {},
     "output_type": "execute_result"
    },
    {
     "data": {
      "image/png": "[encoded data removed]",
      "text/plain": [
       "<Figure size 432x288 with 1 Axes>"
      ]
     },
     "metadata": {
      "needs_background": "light"
     },
     "output_type": "display_data"
    }
   ],
   "source": [
    "x=np.linspace(0,1,len(diffs_2_1[0]))\n",
    "plt.plot(x,diffs_2_1[0])\n",
    "x=np.linspace(0,1,len(diffs_4_2[0]))\n",
    "plt.plot(x,diffs_4_2[0])"
   ]
  },
  {
   "cell_type": "code",
   "execution_count": 115,
   "id": "a05bf880",
   "metadata": {},
   "outputs": [
    {
     "data": {
      "text/plain": [
       "-0.08683023373817983"
      ]
     },
     "execution_count": 115,
     "metadata": {},
     "output_type": "execute_result"
    }
   ],
   "source": [
    "######## t=0 ########\n",
    "normlow_med=0\n",
    "for i in diffs_2_1[1]:\n",
    "    normlow_med += i**2\n",
    "normlow_med=math.sqrt(normlow_med)\n",
    "normmed_high=0\n",
    "for i in diffs_4_2[1]:\n",
    "    normmed_high += i**2\n",
    "normmed_high=math.sqrt(normmed_high)\n",
    "\n",
    "math.log2(normlow_med/normmed_high)"
   ]
  },
  {
   "cell_type": "code",
   "execution_count": 327,
   "id": "4b110079",
   "metadata": {},
   "outputs": [
    {
     "data": {
      "text/plain": [
       "11"
      ]
     },
     "execution_count": 327,
     "metadata": {},
     "output_type": "execute_result"
    }
   ],
   "source": [
    "len(diffs_2_1)"
   ]
  },
  {
   "cell_type": "code",
   "execution_count": null,
   "id": "f3239340",
   "metadata": {},
   "outputs": [],
   "source": []
  },
  {
   "cell_type": "code",
   "execution_count": null,
   "id": "6a35e6b0",
   "metadata": {},
   "outputs": [],
   "source": []
  },
  {
   "cell_type": "code",
   "execution_count": null,
   "id": "fffa1829",
   "metadata": {},
   "outputs": [],
   "source": []
  },
  {
   "cell_type": "code",
   "execution_count": null,
   "id": "8fe9eded",
   "metadata": {},
   "outputs": [],
   "source": []
  },
  {
   "cell_type": "code",
   "execution_count": null,
   "id": "41f6cc57",
   "metadata": {},
   "outputs": [],
   "source": []
  },
  {
   "cell_type": "code",
   "execution_count": null,
   "id": "373dd57a",
   "metadata": {},
   "outputs": [],
   "source": []
  },
  {
   "cell_type": "markdown",
   "id": "f123d46f",
   "metadata": {},
   "source": [
    "# ****"
   ]
  },
  {
   "cell_type": "markdown",
   "id": "c551c194",
   "metadata": {},
   "source": [
    "interpolate m data (z) on grid (x) and time (y), resolution 2"
   ]
  },
  {
   "cell_type": "code",
   "execution_count": 79,
   "id": "e3fec9ca",
   "metadata": {},
   "outputs": [
    {
     "ename": "MemoryError",
     "evalue": "",
     "output_type": "error",
     "traceback": [
      "\u001b[0;31m---------------------------------------------------------------------------\u001b[0m",
      "\u001b[0;31mMemoryError\u001b[0m                               Traceback (most recent call last)",
      "Input \u001b[0;32mIn [79]\u001b[0m, in \u001b[0;36m<cell line: 25>\u001b[0;34m()\u001b[0m\n\u001b[1;32m     21\u001b[0m     \u001b[38;5;28;01mfor\u001b[39;00m j \u001b[38;5;129;01min\u001b[39;00m \u001b[38;5;28mrange\u001b[39m(\u001b[38;5;241m0\u001b[39m,Nx):\n\u001b[1;32m     22\u001b[0m         z\u001b[38;5;241m.\u001b[39mappend(datam[\u001b[38;5;241m1\u001b[39m][i][j])\n\u001b[0;32m---> 25\u001b[0m interp2\u001b[38;5;241m=\u001b[39m\u001b[43minterpolate\u001b[49m\u001b[38;5;241;43m.\u001b[39;49m\u001b[43minterp2d\u001b[49m\u001b[43m(\u001b[49m\u001b[43mx\u001b[49m\u001b[43m,\u001b[49m\u001b[43m \u001b[49m\u001b[43my\u001b[49m\u001b[43m,\u001b[49m\u001b[43m \u001b[49m\u001b[43mz\u001b[49m\u001b[43m,\u001b[49m\u001b[43m \u001b[49m\u001b[43mkind\u001b[49m\u001b[38;5;241;43m=\u001b[39;49m\u001b[38;5;124;43m'\u001b[39;49m\u001b[38;5;124;43mquintic\u001b[39;49m\u001b[38;5;124;43m'\u001b[39;49m\u001b[43m)\u001b[49m\n",
      "File \u001b[0;32m~/anaconda3/lib/python3.9/site-packages/scipy/interpolate/interpolate.py:232\u001b[0m, in \u001b[0;36minterp2d.__init__\u001b[0;34m(self, x, y, z, kind, copy, bounds_error, fill_value)\u001b[0m\n\u001b[1;32m    225\u001b[0m     \u001b[38;5;28;01mraise\u001b[39;00m \u001b[38;5;167;01mValueError\u001b[39;00m(\n\u001b[1;32m    226\u001b[0m         \u001b[38;5;124mf\u001b[39m\u001b[38;5;124m\"\u001b[39m\u001b[38;5;124mUnsupported interpolation type \u001b[39m\u001b[38;5;132;01m{\u001b[39;00m\u001b[38;5;28mrepr\u001b[39m(kind)\u001b[38;5;132;01m}\u001b[39;00m\u001b[38;5;124m, must be \u001b[39m\u001b[38;5;124m\"\u001b[39m\n\u001b[1;32m    227\u001b[0m         \u001b[38;5;124mf\u001b[39m\u001b[38;5;124m\"\u001b[39m\u001b[38;5;124meither of \u001b[39m\u001b[38;5;132;01m{\u001b[39;00m\u001b[38;5;124m'\u001b[39m\u001b[38;5;124m, \u001b[39m\u001b[38;5;124m'\u001b[39m\u001b[38;5;241m.\u001b[39mjoin(\u001b[38;5;28mmap\u001b[39m(\u001b[38;5;28mrepr\u001b[39m, interpolation_types))\u001b[38;5;132;01m}\u001b[39;00m\u001b[38;5;124m.\u001b[39m\u001b[38;5;124m\"\u001b[39m\n\u001b[1;32m    228\u001b[0m     ) \u001b[38;5;28;01mfrom\u001b[39;00m \u001b[38;5;21;01me\u001b[39;00m\n\u001b[1;32m    230\u001b[0m \u001b[38;5;28;01mif\u001b[39;00m \u001b[38;5;129;01mnot\u001b[39;00m rectangular_grid:\n\u001b[1;32m    231\u001b[0m     \u001b[38;5;66;03m# TODO: surfit is really not meant for interpolation!\u001b[39;00m\n\u001b[0;32m--> 232\u001b[0m     \u001b[38;5;28mself\u001b[39m\u001b[38;5;241m.\u001b[39mtck \u001b[38;5;241m=\u001b[39m \u001b[43mfitpack\u001b[49m\u001b[38;5;241;43m.\u001b[39;49m\u001b[43mbisplrep\u001b[49m\u001b[43m(\u001b[49m\u001b[43mx\u001b[49m\u001b[43m,\u001b[49m\u001b[43m \u001b[49m\u001b[43my\u001b[49m\u001b[43m,\u001b[49m\u001b[43m \u001b[49m\u001b[43mz\u001b[49m\u001b[43m,\u001b[49m\u001b[43m \u001b[49m\u001b[43mkx\u001b[49m\u001b[38;5;241;43m=\u001b[39;49m\u001b[43mkx\u001b[49m\u001b[43m,\u001b[49m\u001b[43m \u001b[49m\u001b[43mky\u001b[49m\u001b[38;5;241;43m=\u001b[39;49m\u001b[43mky\u001b[49m\u001b[43m,\u001b[49m\u001b[43m \u001b[49m\u001b[43ms\u001b[49m\u001b[38;5;241;43m=\u001b[39;49m\u001b[38;5;241;43m0.0\u001b[39;49m\u001b[43m)\u001b[49m\n\u001b[1;32m    233\u001b[0m \u001b[38;5;28;01melse\u001b[39;00m:\n\u001b[1;32m    234\u001b[0m     nx, tx, ny, ty, c, fp, ier \u001b[38;5;241m=\u001b[39m dfitpack\u001b[38;5;241m.\u001b[39mregrid_smth(\n\u001b[1;32m    235\u001b[0m         x, y, z, \u001b[38;5;28;01mNone\u001b[39;00m, \u001b[38;5;28;01mNone\u001b[39;00m, \u001b[38;5;28;01mNone\u001b[39;00m, \u001b[38;5;28;01mNone\u001b[39;00m,\n\u001b[1;32m    236\u001b[0m         kx\u001b[38;5;241m=\u001b[39mkx, ky\u001b[38;5;241m=\u001b[39mky, s\u001b[38;5;241m=\u001b[39m\u001b[38;5;241m0.0\u001b[39m)\n",
      "File \u001b[0;32m~/anaconda3/lib/python3.9/site-packages/scipy/interpolate/_fitpack_impl.py:958\u001b[0m, in \u001b[0;36mbisplrep\u001b[0;34m(x, y, z, w, xb, xe, yb, ye, kx, ky, task, s, eps, tx, ty, full_output, nxest, nyest, quiet)\u001b[0m\n\u001b[1;32m    954\u001b[0m lwrk1 \u001b[38;5;241m=\u001b[39m _int_overflow(u\u001b[38;5;241m*\u001b[39mv\u001b[38;5;241m*\u001b[39m(\u001b[38;5;241m2\u001b[39m \u001b[38;5;241m+\u001b[39m b1 \u001b[38;5;241m+\u001b[39m b2) \u001b[38;5;241m+\u001b[39m\n\u001b[1;32m    955\u001b[0m                       \u001b[38;5;241m2\u001b[39m\u001b[38;5;241m*\u001b[39m(u \u001b[38;5;241m+\u001b[39m v \u001b[38;5;241m+\u001b[39m km\u001b[38;5;241m*\u001b[39m(m \u001b[38;5;241m+\u001b[39m ne) \u001b[38;5;241m+\u001b[39m ne \u001b[38;5;241m-\u001b[39m kx \u001b[38;5;241m-\u001b[39m ky) \u001b[38;5;241m+\u001b[39m b2 \u001b[38;5;241m+\u001b[39m \u001b[38;5;241m1\u001b[39m,\n\u001b[1;32m    956\u001b[0m                       msg\u001b[38;5;241m=\u001b[39mmsg)\n\u001b[1;32m    957\u001b[0m lwrk2 \u001b[38;5;241m=\u001b[39m _int_overflow(u\u001b[38;5;241m*\u001b[39mv\u001b[38;5;241m*\u001b[39m(b2 \u001b[38;5;241m+\u001b[39m \u001b[38;5;241m1\u001b[39m) \u001b[38;5;241m+\u001b[39m b2, msg\u001b[38;5;241m=\u001b[39mmsg)\n\u001b[0;32m--> 958\u001b[0m tx, ty, c, o \u001b[38;5;241m=\u001b[39m \u001b[43m_fitpack\u001b[49m\u001b[38;5;241;43m.\u001b[39;49m\u001b[43m_surfit\u001b[49m\u001b[43m(\u001b[49m\u001b[43mx\u001b[49m\u001b[43m,\u001b[49m\u001b[43m \u001b[49m\u001b[43my\u001b[49m\u001b[43m,\u001b[49m\u001b[43m \u001b[49m\u001b[43mz\u001b[49m\u001b[43m,\u001b[49m\u001b[43m \u001b[49m\u001b[43mw\u001b[49m\u001b[43m,\u001b[49m\u001b[43m \u001b[49m\u001b[43mxb\u001b[49m\u001b[43m,\u001b[49m\u001b[43m \u001b[49m\u001b[43mxe\u001b[49m\u001b[43m,\u001b[49m\u001b[43m \u001b[49m\u001b[43myb\u001b[49m\u001b[43m,\u001b[49m\u001b[43m \u001b[49m\u001b[43mye\u001b[49m\u001b[43m,\u001b[49m\u001b[43m \u001b[49m\u001b[43mkx\u001b[49m\u001b[43m,\u001b[49m\u001b[43m \u001b[49m\u001b[43mky\u001b[49m\u001b[43m,\u001b[49m\n\u001b[1;32m    959\u001b[0m \u001b[43m                                \u001b[49m\u001b[43mtask\u001b[49m\u001b[43m,\u001b[49m\u001b[43m \u001b[49m\u001b[43ms\u001b[49m\u001b[43m,\u001b[49m\u001b[43m \u001b[49m\u001b[43meps\u001b[49m\u001b[43m,\u001b[49m\u001b[43m \u001b[49m\u001b[43mtx\u001b[49m\u001b[43m,\u001b[49m\u001b[43m \u001b[49m\u001b[43mty\u001b[49m\u001b[43m,\u001b[49m\u001b[43m \u001b[49m\u001b[43mnxest\u001b[49m\u001b[43m,\u001b[49m\u001b[43m \u001b[49m\u001b[43mnyest\u001b[49m\u001b[43m,\u001b[49m\n\u001b[1;32m    960\u001b[0m \u001b[43m                                \u001b[49m\u001b[43mwrk\u001b[49m\u001b[43m,\u001b[49m\u001b[43m \u001b[49m\u001b[43mlwrk1\u001b[49m\u001b[43m,\u001b[49m\u001b[43m \u001b[49m\u001b[43mlwrk2\u001b[49m\u001b[43m)\u001b[49m\n\u001b[1;32m    961\u001b[0m _curfit_cache[\u001b[38;5;124m'\u001b[39m\u001b[38;5;124mtx\u001b[39m\u001b[38;5;124m'\u001b[39m] \u001b[38;5;241m=\u001b[39m tx\n\u001b[1;32m    962\u001b[0m _curfit_cache[\u001b[38;5;124m'\u001b[39m\u001b[38;5;124mty\u001b[39m\u001b[38;5;124m'\u001b[39m] \u001b[38;5;241m=\u001b[39m ty\n",
      "\u001b[0;31mMemoryError\u001b[0m: "
     ]
    }
   ],
   "source": [
    "\n",
    "\n",
    "Nt = len(datam[1]) #number of timesteps\n",
    "\n",
    "# grid\n",
    "x=[]\n",
    "for i in range(0,Nt):\n",
    "    Nx = len(datagrid[1][i])\n",
    "    for j in range(0,Nx):\n",
    "        x.append(datagrid[1][i][j])\n",
    "\n",
    "# time\n",
    "y=[]\n",
    "for i in range(0,Nt):\n",
    "    Nx = len(datam[1][i])\n",
    "    for j in range(0,Nx):\n",
    "        y.append(time_arrays[1][i])\n",
    "\n",
    "# data\n",
    "z=[]\n",
    "for i in range(0,Nt):\n",
    "    Nx = len(datam[1][i])\n",
    "    for j in range(0,Nx):\n",
    "        z.append(datam[1][i][j])\n",
    "\n",
    "\n",
    "interp2=interpolate.interp2d(x, y, z, kind='quintic')"
   ]
  },
  {
   "cell_type": "markdown",
   "id": "df4b7083",
   "metadata": {},
   "source": [
    "interpolate m data (z) on grid (x) and time (y), resolution 3"
   ]
  },
  {
   "cell_type": "code",
   "execution_count": null,
   "id": "1981c45c",
   "metadata": {},
   "outputs": [],
   "source": [
    "import numpy as np\n",
    "from scipy import interpolate\n",
    "\n",
    "Nt = len(datam[2]) #number of timesteps\n",
    "\n",
    "# grid\n",
    "x=[]\n",
    "for i in range(0,2):\n",
    "    Nx = len(datagrid[2][i])\n",
    "    for j in range(0,Nx):\n",
    "        x.append(datagrid[2][i][j])\n",
    "\n",
    "# time\n",
    "y=[]\n",
    "for i in range(0,2):\n",
    "    Nx = len(datam[2][i])\n",
    "    for j in range(0,Nx):\n",
    "        y.append(time_arrays[2][i])\n",
    "\n",
    "# data\n",
    "z=[]\n",
    "for i in range(0,2):\n",
    "    Nx = len(datam[2][i])\n",
    "    for j in range(0,Nx):\n",
    "        z.append(datam[2][i][j])\n",
    "\n",
    "\n",
    "interp4=interpolate.interp2d(x, y, z, kind='quintic')\n"
   ]
  },
  {
   "cell_type": "markdown",
   "id": "caedf94b",
   "metadata": {},
   "source": [
    "3D plot of m data over time"
   ]
  },
  {
   "cell_type": "code",
   "execution_count": null,
   "id": "9924d703",
   "metadata": {},
   "outputs": [],
   "source": [
    "from mpl_toolkits import mplot3d\n",
    "%matplotlib inline\n",
    "import numpy as np\n",
    "import matplotlib.pyplot as plt\n",
    "\n",
    "\n",
    "\n",
    "def f(x, y):\n",
    "    return np.sin(np.sqrt(x ** 2 + y ** 2))\n",
    "\n",
    "x = datagrid[1][0]\n",
    "y = time_arrays[1]\n",
    "\n",
    "X, Y = np.meshgrid(x, y)\n",
    "#Z=f(X,Y)\n",
    "Z = []\n",
    "for i in range(0,len(y)):\n",
    "    aux=[]\n",
    "    for k in range(0,len(x)):\n",
    "        aux.append(datam[1][i][k])\n",
    "    Z.append(aux)\n",
    "\n",
    "\n",
    "fig = plt.figure()\n",
    "ax = plt.axes(projection='3d')\n",
    "ax.contour3D(X, Y, Z, 50, cmap='binary')\n",
    "\n",
    "ax.set_xlabel('x')\n",
    "ax.set_ylabel('y')\n",
    "ax.set_zlabel('z');\n"
   ]
  },
  {
   "cell_type": "code",
   "execution_count": null,
   "id": "0eacf496",
   "metadata": {},
   "outputs": [],
   "source": [
    "len(y)"
   ]
  },
  {
   "cell_type": "code",
   "execution_count": 80,
   "id": "a3ce7060",
   "metadata": {},
   "outputs": [
    {
     "ename": "NameError",
     "evalue": "name 'interp2' is not defined",
     "output_type": "error",
     "traceback": [
      "\u001b[0;31m---------------------------------------------------------------------------\u001b[0m",
      "\u001b[0;31mNameError\u001b[0m                                 Traceback (most recent call last)",
      "Input \u001b[0;32mIn [80]\u001b[0m, in \u001b[0;36m<cell line: 17>\u001b[0;34m()\u001b[0m\n\u001b[1;32m     18\u001b[0m     aux\u001b[38;5;241m=\u001b[39m[]\n\u001b[1;32m     19\u001b[0m     \u001b[38;5;28;01mfor\u001b[39;00m k \u001b[38;5;129;01min\u001b[39;00m \u001b[38;5;28mrange\u001b[39m(\u001b[38;5;241m0\u001b[39m,\u001b[38;5;28mlen\u001b[39m(x)):\n\u001b[0;32m---> 20\u001b[0m         aux\u001b[38;5;241m.\u001b[39mappend(\u001b[43minterp2\u001b[49m(x[k],y[i])[\u001b[38;5;241m0\u001b[39m])\n\u001b[1;32m     21\u001b[0m     Z\u001b[38;5;241m.\u001b[39mappend(aux)\n\u001b[1;32m     24\u001b[0m fig \u001b[38;5;241m=\u001b[39m plt\u001b[38;5;241m.\u001b[39mfigure()\n",
      "\u001b[0;31mNameError\u001b[0m: name 'interp2' is not defined"
     ]
    }
   ],
   "source": [
    "from mpl_toolkits import mplot3d\n",
    "%matplotlib inline\n",
    "import numpy as np\n",
    "import matplotlib.pyplot as plt\n",
    "\n",
    "\n",
    "\n",
    "def f(x, y):\n",
    "    return np.sin(np.sqrt(x ** 2 + y ** 2))\n",
    "\n",
    "x = np.linspace(0, 1, 200)\n",
    "y = np.linspace(0, 0.04, 5)\n",
    "\n",
    "X, Y = np.meshgrid(x, y)\n",
    "#Z=f(X,Y)\n",
    "Z = []\n",
    "for i in range(0,len(y)):\n",
    "    aux=[]\n",
    "    for k in range(0,len(x)):\n",
    "        aux.append(interp2(x[k],y[i])[0])\n",
    "    Z.append(aux)\n",
    "\n",
    "\n",
    "fig = plt.figure()\n",
    "ax = plt.axes(projection='3d')\n",
    "ax.contour3D(X, Y, Z, 50, cmap='binary')\n",
    "\n",
    "ax.set_xlabel('x')\n",
    "ax.set_ylabel('y')\n",
    "ax.set_zlabel('z');"
   ]
  },
  {
   "cell_type": "code",
   "execution_count": 81,
   "id": "4713e684",
   "metadata": {},
   "outputs": [
    {
     "ename": "NameError",
     "evalue": "name 'interp2' is not defined",
     "output_type": "error",
     "traceback": [
      "\u001b[0;31m---------------------------------------------------------------------------\u001b[0m",
      "\u001b[0;31mNameError\u001b[0m                                 Traceback (most recent call last)",
      "Input \u001b[0;32mIn [81]\u001b[0m, in \u001b[0;36m<cell line: 3>\u001b[0;34m()\u001b[0m\n\u001b[1;32m      6\u001b[0m     \u001b[38;5;28;01mfor\u001b[39;00m j \u001b[38;5;129;01min\u001b[39;00m \u001b[38;5;28mrange\u001b[39m(\u001b[38;5;241m0\u001b[39m,\u001b[38;5;28mlen\u001b[39m(datam[\u001b[38;5;241m0\u001b[39m][i])):\n\u001b[1;32m      7\u001b[0m         x \u001b[38;5;241m=\u001b[39m datagrid[\u001b[38;5;241m0\u001b[39m][i]\n\u001b[0;32m----> 8\u001b[0m         auxm\u001b[38;5;241m.\u001b[39mappend(\u001b[43minterp2\u001b[49m(x,t)[\u001b[38;5;241m0\u001b[39m])\n\u001b[1;32m      9\u001b[0m     diffs_2_1\u001b[38;5;241m.\u001b[39mappend(np\u001b[38;5;241m.\u001b[39msubtract(datam[\u001b[38;5;241m0\u001b[39m][i],auxm))\n\u001b[1;32m     10\u001b[0m \u001b[38;5;28mlen\u001b[39m(auxm)\n",
      "\u001b[0;31mNameError\u001b[0m: name 'interp2' is not defined"
     ]
    }
   ],
   "source": [
    "t1=0\n",
    "diffs_2_1=[]\n",
    "for i in range(0,len(time_arrays[0])):#iterate on t\n",
    "    auxm=[]\n",
    "    t1 = time_arrays[0][i]\n",
    "    for j in range(0,len(datam[0][i])):\n",
    "        x = datagrid[0][i]\n",
    "        auxm.append(interp2(x,t)[0])\n",
    "    diffs_2_1.append(np.subtract(datam[0][i],auxm))\n",
    "len(auxm) \n",
    "    \n"
   ]
  },
  {
   "cell_type": "code",
   "execution_count": 82,
   "id": "e455459d",
   "metadata": {},
   "outputs": [
    {
     "ename": "NameError",
     "evalue": "name 'interp2' is not defined",
     "output_type": "error",
     "traceback": [
      "\u001b[0;31m---------------------------------------------------------------------------\u001b[0m",
      "\u001b[0;31mNameError\u001b[0m                                 Traceback (most recent call last)",
      "Input \u001b[0;32mIn [82]\u001b[0m, in \u001b[0;36m<cell line: 3>\u001b[0;34m()\u001b[0m\n\u001b[1;32m      7\u001b[0m \u001b[38;5;28;01mfor\u001b[39;00m j \u001b[38;5;129;01min\u001b[39;00m \u001b[38;5;28mrange\u001b[39m(\u001b[38;5;241m0\u001b[39m,\u001b[38;5;28mlen\u001b[39m(datam[\u001b[38;5;241m0\u001b[39m][i])):\n\u001b[1;32m      8\u001b[0m     x \u001b[38;5;241m=\u001b[39m datagrid[\u001b[38;5;241m0\u001b[39m][i]\n\u001b[0;32m----> 9\u001b[0m     auxm2\u001b[38;5;241m.\u001b[39mappend(\u001b[43minterp2\u001b[49m(x,t)[\u001b[38;5;241m0\u001b[39m])\n\u001b[1;32m     10\u001b[0m     auxm4\u001b[38;5;241m.\u001b[39mappend(interp4(x,t)[\u001b[38;5;241m0\u001b[39m])\n\u001b[1;32m     11\u001b[0m diffs_4_2\u001b[38;5;241m.\u001b[39mappend(np\u001b[38;5;241m.\u001b[39msubtract(auxm4,auxm2))\n",
      "\u001b[0;31mNameError\u001b[0m: name 'interp2' is not defined"
     ]
    }
   ],
   "source": [
    "t1=0\n",
    "diffs_4_2=[]\n",
    "for i in range(0,len(time_arrays[0])):#iterate on t\n",
    "    auxm2=[]\n",
    "    auxm4=[]\n",
    "    t1 = time_arrays[0][i]\n",
    "    for j in range(0,len(datam[0][i])):\n",
    "        x = datagrid[0][i]\n",
    "        auxm2.append(interp2(x,t)[0])\n",
    "        auxm4.append(interp4(x,t)[0])\n",
    "    diffs_4_2.append(np.subtract(auxm4,auxm2))\n",
    "len(auxm) \n",
    "    \n"
   ]
  },
  {
   "cell_type": "code",
   "execution_count": 47,
   "id": "328a7db0",
   "metadata": {},
   "outputs": [],
   "source": [
    "norm_low_med = []\n",
    "norm_med_high = []\n",
    "\n",
    "for j in range(0,len(time_arrays)):\n",
    "    a = 0\n",
    "    b = 0\n",
    "    for i in diffs_2_1[j]:\n",
    "        a += i**2\n",
    "    for i in diffs_4_2[j]:\n",
    "        b += i**2\n",
    "    norm_low_med.append(np.sqrt(a))\n",
    "    norm_med_high.append(np.sqrt(b))\n",
    "\n",
    "Q_m.append(math.log2(norm_low_med[0]/norm_med_high[0]))"
   ]
  },
  {
   "cell_type": "markdown",
   "id": "167a5198",
   "metadata": {},
   "source": [
    "Q_m"
   ]
  },
  {
   "cell_type": "code",
   "execution_count": 48,
   "id": "c3edff59",
   "metadata": {},
   "outputs": [
    {
     "data": {
      "text/plain": [
       "[3.998204305872114, 4.013585341089867, 32.7443907763087]"
      ]
     },
     "execution_count": 48,
     "metadata": {},
     "output_type": "execute_result"
    }
   ],
   "source": [
    "Q_m"
   ]
  },
  {
   "cell_type": "code",
   "execution_count": null,
   "id": "9c61b89d",
   "metadata": {},
   "outputs": [],
   "source": []
  },
  {
   "cell_type": "code",
   "execution_count": null,
   "id": "a73f56c8",
   "metadata": {},
   "outputs": [],
   "source": []
  },
  {
   "cell_type": "code",
   "execution_count": null,
   "id": "e2876a23",
   "metadata": {},
   "outputs": [],
   "source": []
  },
  {
   "cell_type": "code",
   "execution_count": null,
   "id": "988c8263",
   "metadata": {},
   "outputs": [],
   "source": []
  },
  {
   "cell_type": "code",
   "execution_count": null,
   "id": "760f9719",
   "metadata": {},
   "outputs": [],
   "source": []
  },
  {
   "cell_type": "code",
   "execution_count": null,
   "id": "9eaec160",
   "metadata": {},
   "outputs": [],
   "source": []
  },
  {
   "cell_type": "code",
   "execution_count": null,
   "id": "80d088ed",
   "metadata": {},
   "outputs": [],
   "source": []
  },
  {
   "cell_type": "code",
   "execution_count": null,
   "id": "2d404e06",
   "metadata": {},
   "outputs": [],
   "source": []
  },
  {
   "cell_type": "code",
   "execution_count": null,
   "id": "a2bdb0f7",
   "metadata": {},
   "outputs": [],
   "source": []
  },
  {
   "cell_type": "code",
   "execution_count": 30,
   "id": "9813001c",
   "metadata": {},
   "outputs": [],
   "source": []
  },
  {
   "cell_type": "code",
   "execution_count": 84,
   "id": "e88882a2",
   "metadata": {},
   "outputs": [],
   "source": [
    "import numpy as np\n",
    "\n",
    "import matplotlib.pyplot as plt\n",
    "\n",
    "from scipy.optimize import curve_fit\n",
    "\n",
    "def func(x, a, b, c):\n",
    "\n",
    "    return a * np.exp(-b * x) + c"
   ]
  },
  {
   "cell_type": "code",
   "execution_count": 86,
   "id": "b2acaae2",
   "metadata": {},
   "outputs": [
    {
     "data": {
      "text/plain": [
       "[<matplotlib.lines.Line2D at 0x7f836f2694f0>]"
      ]
     },
     "execution_count": 86,
     "metadata": {},
     "output_type": "execute_result"
    },
    {
     "data": {
      "image/png": "[encoded data removed]",
      "text/plain": [
       "<Figure size 432x288 with 1 Axes>"
      ]
     },
     "metadata": {
      "needs_background": "light"
     },
     "output_type": "display_data"
    }
   ],
   "source": [
    "xdata = np.linspace(0, 4, 50)\n",
    "\n",
    "y = func(xdata, 2.5, 1.3, 0.5)\n",
    "\n",
    "rng = np.random.default_rng()\n",
    "\n",
    "y_noise = 0.2 * rng.normal(size=xdata.size)\n",
    "\n",
    "ydata = y + y_noise\n",
    "\n",
    "plt.plot(xdata, ydata, 'b-', label='data')\n"
   ]
  },
  {
   "cell_type": "code",
   "execution_count": 89,
   "id": "3e1589f6",
   "metadata": {},
   "outputs": [
    {
     "data": {
      "text/plain": [
       "[<matplotlib.lines.Line2D at 0x7f836eaddd60>]"
      ]
     },
     "execution_count": 89,
     "metadata": {},
     "output_type": "execute_result"
    },
    {
     "data": {
      "image/png": "[encoded data removed]",
      "text/plain": [
       "<Figure size 432x288 with 1 Axes>"
      ]
     },
     "metadata": {
      "needs_background": "light"
     },
     "output_type": "display_data"
    }
   ],
   "source": [
    "popt, pcov = curve_fit(func, xdata, ydata)\n",
    "\n",
    "popt\n",
    "\n",
    "plt.plot(xdata, func(xdata, *popt), 'r-', label='fit: a=%5.3f, b=%5.3f, c=%5.3f' % tuple(popt))"
   ]
  },
  {
   "cell_type": "code",
   "execution_count": null,
   "id": "5d96a1a1",
   "metadata": {},
   "outputs": [],
   "source": []
  }
 ],
 "metadata": {
  "kernelspec": {
   "display_name": "Python 3 (ipykernel)",
   "language": "python",
   "name": "python3"
  },
  "language_info": {
   "codemirror_mode": {
    "name": "ipython",
    "version": 3
   },
   "file_extension": ".py",
   "mimetype": "text/x-python",
   "name": "python",
   "nbconvert_exporter": "python",
   "pygments_lexer": "ipython3",
   "version": "3.9.12"
  }
 },
 "nbformat": 4,
 "nbformat_minor": 5
}
