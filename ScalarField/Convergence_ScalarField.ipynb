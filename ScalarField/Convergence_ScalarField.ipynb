{
 "cells": [
  {
   "cell_type": "code",
   "execution_count": 15,
   "id": "306b8ccb",
   "metadata": {},
   "outputs": [],
   "source": [
    "import pandas as pd\n",
    "import numpy as np\n",
    "import os\n",
    "import math\n",
    "import matplotlib.pyplot as plt\n",
    "import numpy as np\n",
    "from matplotlib import style\n",
    "\n",
    "import numpy as np\n",
    "from scipy import interpolate"
   ]
  },
  {
   "cell_type": "markdown",
   "id": "7d60e115",
   "metadata": {},
   "source": [
    "# Reading data for 3 resolutions"
   ]
  },
  {
   "cell_type": "code",
   "execution_count": 16,
   "id": "7af4e542",
   "metadata": {},
   "outputs": [
    {
     "name": "stdout",
     "output_type": "stream",
     "text": [
      "/home/rita13santos/Desktop/MSc Thesis/Git/ScalarField/DATA/res1\n",
      "File count in dir /home/rita13santos/Desktop/MSc Thesis/Git/ScalarField/DATA/res1 is:  126\n",
      "/home/rita13santos/Desktop/MSc Thesis/Git/ScalarField/DATA/res2\n",
      "File count in dir /home/rita13santos/Desktop/MSc Thesis/Git/ScalarField/DATA/res2 is:  251\n",
      "/home/rita13santos/Desktop/MSc Thesis/Git/ScalarField/DATA/res3\n",
      "File count in dir /home/rita13santos/Desktop/MSc Thesis/Git/ScalarField/DATA/res3 is:  501\n"
     ]
    }
   ],
   "source": [
    "res=[1,2,3]\n",
    "step=10\n",
    "datam=[]\n",
    "databeta=[]\n",
    "datapsi=[]\n",
    "dataderpsi=[]\n",
    "datagrid=[]\n",
    "\n",
    "for resolution in res:\n",
    "    dir = \"/home/rita13santos/Desktop/MSc Thesis/Git/ScalarField/DATA/res{}\".format(resolution)\n",
    "\n",
    "    print(dir)\n",
    "    \n",
    "    count=0\n",
    "    for path in os.listdir(dir):\n",
    "        # check if current path is a file\n",
    "        if os.path.isfile(os.path.join(dir, path)):\n",
    "            count += 1\n",
    "    print('File count in dir', dir, 'is: ', count)\n",
    "\n",
    "\n",
    "    m=[]\n",
    "    beta=[]\n",
    "    psi=[]\n",
    "    derpsi=[]\n",
    "    grid=[]\n",
    "    \n",
    "    #iterate over files in dir\n",
    "    for i in range(count):\n",
    "        with pd.option_context('display.precision', 20):\n",
    "            df = pd.read_csv(dir + \"/time_step{}.csv\".format(i*step), header=None, dtype = str)\n",
    "        df = df.to_numpy()\n",
    "        df = np.transpose(df)\n",
    "        #print(type(df[0]))\n",
    "        aux = [float(x) for x in df[0]]\n",
    "        m.append(aux)\n",
    "        aux = [float(x) for x in df[1]]\n",
    "        beta.append(aux)\n",
    "        aux = [float(x) for x in df[2]]\n",
    "        psi.append(aux)\n",
    "        aux = [float(x) for x in df[3]]\n",
    "        derpsi.append(aux)\n",
    "        aux = [float(x) for x in df[4]]\n",
    "        grid.append(aux)\n",
    "\n",
    "    # f[i] is the array of the values of m on the whole grid on time step i\n",
    "    \n",
    "    \n",
    "    datam.append(m)\n",
    "    databeta.append(beta)\n",
    "    datapsi.append(psi)\n",
    "    dataderpsi.append(derpsi)\n",
    "    datagrid.append(grid)"
   ]
  },
  {
   "cell_type": "code",
   "execution_count": 17,
   "id": "4af055a5",
   "metadata": {},
   "outputs": [
    {
     "name": "stdout",
     "output_type": "stream",
     "text": [
      "501\n"
     ]
    }
   ],
   "source": [
    "final_t=count\n",
    "print(count)"
   ]
  },
  {
   "cell_type": "code",
   "execution_count": 18,
   "id": "3339aeb8",
   "metadata": {},
   "outputs": [
    {
     "name": "stdout",
     "output_type": "stream",
     "text": [
      "-2.1442384656640625e-21\n"
     ]
    }
   ],
   "source": [
    "print(datam[0][0][1]) # datam indexes give res, time then gridpoint"
   ]
  },
  {
   "cell_type": "code",
   "execution_count": 19,
   "id": "1b11caa7",
   "metadata": {},
   "outputs": [],
   "source": [
    "L=len(datam[0][0])-6 # grid length without the ghostpoints\n",
    "dx=datagrid[0][0][1]-datagrid[0][0][0]"
   ]
  },
  {
   "cell_type": "code",
   "execution_count": 20,
   "id": "ee19cabc",
   "metadata": {},
   "outputs": [
    {
     "data": {
      "text/plain": [
       "[<matplotlib.lines.Line2D at 0x7efcab5ec190>]"
      ]
     },
     "execution_count": 20,
     "metadata": {},
     "output_type": "execute_result"
    },
    {
     "data": {
      "image/png": "[encoded data removed]",
      "text/plain": [
       "<Figure size 432x288 with 1 Axes>"
      ]
     },
     "metadata": {
      "needs_background": "light"
     },
     "output_type": "display_data"
    }
   ],
   "source": [
    "plt_x1 = np.linspace(0, 1, L)\n",
    "plt_x2 = np.linspace(0, 1, 2*L-1)\n",
    "plt_x3 = np.linspace(0, 1, 4*L-3)\n",
    "\n",
    "plt.plot(plt_x1,datam[0][0][3:len(datam[0][0])-3])\n",
    "plt.plot(plt_x2,datam[1][0][3:len(datam[1][0])-3])\n",
    "plt.plot(plt_x3,datam[2][0][3:len(datam[2][0])-3])"
   ]
  },
  {
   "cell_type": "markdown",
   "id": "0f7f8fb9",
   "metadata": {},
   "source": [
    "# Styling plots"
   ]
  },
  {
   "cell_type": "code",
   "execution_count": 21,
   "id": "953579ab",
   "metadata": {},
   "outputs": [],
   "source": [
    "plt.rcParams.update({'font.size': 12})"
   ]
  },
  {
   "cell_type": "markdown",
   "id": "52719f95",
   "metadata": {},
   "source": [
    "# Plotting data with resolutions 1 and 2 and differences "
   ]
  },
  {
   "cell_type": "code",
   "execution_count": 22,
   "id": "84d69697",
   "metadata": {},
   "outputs": [
    {
     "data": {
      "image/png": "[encoded data removed]",
      "text/plain": [
       "<Figure size 432x288 with 1 Axes>"
      ]
     },
     "metadata": {
      "needs_background": "light"
     },
     "output_type": "display_data"
    }
   ],
   "source": [
    "# for given t\n",
    "t1=1 #last timestep\n",
    "t2=2*t1\n",
    "t3=4*t1\n",
    "auxm = []\n",
    "auxbeta = []\n",
    "auxpsi = []\n",
    "auxderpsi = []\n",
    "auxgrid = []\n",
    "\n",
    "for i in range(len(datam[1][t2])):#iterate on the grid with higher resolution\n",
    "    if ((i>2) and (i < (len(datam[1][t2])-3)) and ((i%2)!=0)): #ignoring ghost points\n",
    "        auxm.append(datam[1][t2][i])\n",
    "        auxbeta.append(databeta[1][t2][i])\n",
    "        auxpsi.append(datapsi[1][t2][i])\n",
    "        auxderpsi.append(dataderpsi[1][t2][i])\n",
    "        auxgrid.append(datagrid[1][t2][i])\n",
    "        #print(datam[1][0][i])\n",
    "\n",
    "        \n",
    "# array for all diff_m_2_1 diff_beta_2_1 diff_psi_2_1 diff_derpsi_2_1\n",
    "diffs_2_1 = []\n",
    "\n",
    "#subtracting f in both resolutions & ignoring ghost points\n",
    "diffs_2_1.append(np.subtract(datam[0][t1][3:len(datam[0][t1])-3],auxm))\n",
    "diffs_2_1.append(np.subtract(databeta[0][t1][3:len(databeta[0][t1])-3],auxbeta))\n",
    "diffs_2_1.append(np.subtract(datapsi[0][t1][3:len(datapsi[0][t1])-3],auxpsi))\n",
    "diffs_2_1.append(np.subtract(dataderpsi[0][t1][3:len(dataderpsi[0][t1])-3],auxderpsi))\n",
    "diffs_2_1.append(np.subtract(datagrid[0][t1][3:len(datagrid[0][t1])-3],auxgrid))\n",
    "\n",
    "with plt.style.context('bmh'):\n",
    "    plt.plot(plt_x1, diffs_2_1[0], label = 'res2-res1 of m')\n",
    "\n",
    "plt.legend()\n",
    "plt.xlabel('x')\n",
    "plt.ylabel('m2(x)-m1(x)')\n",
    "plt.show()"
   ]
  },
  {
   "cell_type": "markdown",
   "id": "f055fd26",
   "metadata": {},
   "source": [
    "# Pointwise convergence tests: plots for thesis project report "
   ]
  },
  {
   "cell_type": "code",
   "execution_count": 23,
   "id": "bee07068",
   "metadata": {},
   "outputs": [
    {
     "data": {
      "image/png": "[encoded data removed]",
      "text/plain": [
       "<Figure size 1080x720 with 4 Axes>"
      ]
     },
     "metadata": {
      "needs_background": "light"
     },
     "output_type": "display_data"
    }
   ],
   "source": [
    "# for given t\n",
    "\n",
    "aux2m = []\n",
    "aux2beta = []\n",
    "aux2psi = []\n",
    "aux2derpsi = []\n",
    "aux2grid = []\n",
    "for i in range(len(datam[2][t3])):#iterate on the grid with higher resolution\n",
    "    if ((i>2) and (i < (len(datam[2][t3])-3)) and (((i+1)%4)==0)): #ignoring ghost points\n",
    "        aux2m.append(datam[2][t3][i])\n",
    "        aux2beta.append(databeta[2][t3][i])\n",
    "        aux2psi.append(datapsi[2][t3][i])\n",
    "        aux2derpsi.append(dataderpsi[2][t3][i])\n",
    "        aux2grid.append(datagrid[2][t3][i])\n",
    "        \n",
    "\n",
    "\n",
    "#subtracting m beta psi and derpsi in both resolutions & ignoring ghost points\n",
    "diffs_4_2 =[]\n",
    "diffs_4_2.append(np.subtract(auxm,aux2m))\n",
    "diffs_4_2.append(np.subtract(auxbeta,aux2beta))\n",
    "diffs_4_2.append(np.subtract(auxpsi,aux2psi))\n",
    "diffs_4_2.append(np.subtract(auxderpsi,aux2derpsi))\n",
    "diffs_4_2.append(np.subtract(auxgrid,aux2grid))\n",
    "\n",
    "with plt.style.context('bmh'):\n",
    "    \n",
    "    fig, ax = plt.subplots(2, 2,figsize=(15, 10))\n",
    "\n",
    "    ax[0][0].plot(plt_x1, abs(diffs_2_1[0]), label='Res1-res2 of m')\n",
    "    ax[0][0].plot(plt_x1, abs(diffs_4_2[0])*16, label='Res4-res2 * 16 of m')\n",
    "    ax[0][0].legend()\n",
    "    \n",
    "    ax[0][1].plot(plt_x1, abs(diffs_2_1[1]), label='Res1-res2 of beta')\n",
    "    ax[0][1].plot(plt_x1, abs(diffs_4_2[1])*16, label='Res4-res2 *16 of beta')\n",
    "    ax[0][1].legend()\n",
    "    \n",
    "    ax[1][0].plot(plt_x1, abs(diffs_2_1[2]), label='Res1-res2 of psi')\n",
    "    ax[1][0].plot(plt_x1, abs(diffs_4_2[2])*16, label='Res4-res2 * 16 of psi')\n",
    "    ax[1][0].legend()\n",
    "    \n",
    "    \"\"\"ax[1][1].plot(plt_x1, abs(diffs_2_1[3]), label='Res1-res2 of derpsi')\n",
    "    ax[1][1].plot(plt_x1, abs(diffs_4_2[3])*16, label='Res4-res2 * 16 of derpsi')\n",
    "    #ax[1][1].set_xlim([20, 22])#4.90,5\n",
    "    #ax[1][1].set_ylim([0, 0.5*10**(-9)])\n",
    "    ax[1][1].legend()\"\"\"\n",
    "\n",
    "    ax[1][1].plot(plt_x1, abs(diffs_2_1[3]), label='Res1-res2 of derpsi')\n",
    "    ax[1][1].plot(plt_x1, abs(diffs_4_2[3])*16, label='Res4-res2 * 16 of derpsi')\n",
    "    #ax[1][1].set_xlim([20, 22])#4.90,5\n",
    "    #ax[1][1].set_ylim([0, 0.5*10**(-9)])\n",
    "    ax[1][1].legend()\n",
    "\n",
    "plt.legend()\n",
    "plt.show()\n",
    "\n"
   ]
  },
  {
   "cell_type": "markdown",
   "id": "4719f319",
   "metadata": {},
   "source": [
    "# L2 norm convergence tests"
   ]
  },
  {
   "cell_type": "code",
   "execution_count": 24,
   "id": "af1473d0",
   "metadata": {},
   "outputs": [
    {
     "name": "stdout",
     "output_type": "stream",
     "text": [
      "m convergence factor:\n",
      "4.163380671926094\n",
      "\n",
      "beta convergence factor:\n",
      "4.107345434882029\n",
      "\n",
      "psi convergence factor:\n",
      "4.021352263237431\n",
      "\n",
      "derpsi convergence factor:\n",
      "4.03179171985334\n",
      "\n"
     ]
    }
   ],
   "source": [
    "#for the first time step\n",
    "\n",
    "norm_low_med = []\n",
    "norm_med_high = []\n",
    "\n",
    "for j in range(5):\n",
    "    a = 0\n",
    "    b = 0\n",
    "    for i in diffs_2_1[j]:\n",
    "        a += i**2\n",
    "    for i in diffs_4_2[j]:\n",
    "        b += i**2\n",
    "    norm_low_med.append(np.sqrt(a))\n",
    "    norm_med_high.append(np.sqrt(b))\n",
    "\n",
    "print(\"m convergence factor:\")\n",
    "print(math.log2(norm_low_med[0]/norm_med_high[0]))\n",
    "print(\"\")\n",
    "\n",
    "print(\"beta convergence factor:\")\n",
    "print(math.log2(norm_low_med[1]/norm_med_high[1]))\n",
    "print(\"\")\n",
    "\n",
    "print(\"psi convergence factor:\")\n",
    "print(math.log2(norm_low_med[2]/norm_med_high[2]))\n",
    "print(\"\")\n",
    "\n",
    "print(\"derpsi convergence factor:\")\n",
    "print(math.log2(norm_low_med[3]/norm_med_high[3]))\n",
    "print(\"\")\n"
   ]
  },
  {
   "cell_type": "markdown",
   "id": "c32c1b9a",
   "metadata": {},
   "source": [
    "# Q(t)"
   ]
  },
  {
   "cell_type": "code",
   "execution_count": 25,
   "id": "20a46205",
   "metadata": {},
   "outputs": [
    {
     "name": "stderr",
     "output_type": "stream",
     "text": [
      "/tmp/ipykernel_6355/1538885732.py:74: RuntimeWarning: invalid value encountered in double_scalars\n",
      "  Q_psi.append(math.log2(norm_low_med[2]/norm_med_high[2]))\n",
      "/tmp/ipykernel_6355/1538885732.py:75: RuntimeWarning: invalid value encountered in double_scalars\n",
      "  Q_derpsi.append(math.log2(norm_low_med[3]/norm_med_high[3]))\n"
     ]
    }
   ],
   "source": [
    "Q_m = []\n",
    "Q_beta = []\n",
    "Q_psi = []\n",
    "Q_derpsi = []\n",
    "\n",
    "for t in range(0,int(final_t/4)):\n",
    "    # for given t\n",
    "    t1=t #last timestep\n",
    "    t2=2*t1\n",
    "    t3=4*t1\n",
    "    auxm = []\n",
    "    auxbeta = []\n",
    "    auxpsi = []\n",
    "    auxderpsi = []\n",
    "\n",
    "    for i in range(len(datam[1][t2])):#iterate on the grid with higher resolution\n",
    "        if ((i>2) and (i < (len(datam[1][t2])-3)) and ((i%2)!=0)): #ignoring ghost points\n",
    "            auxm.append(datam[1][t2][i])\n",
    "            auxbeta.append(databeta[1][t2][i])\n",
    "            auxpsi.append(datapsi[1][t2][i])\n",
    "            auxderpsi.append(dataderpsi[1][t2][i])\n",
    "            #print(datam[1][0][i])\n",
    "\n",
    "\n",
    "    # array for all diff_m_2_1 diff_beta_2_1 diff_psi_2_1 diff_derpsi_2_1\n",
    "    diffs_2_1 = []\n",
    "\n",
    "    #subtracting f in both resolutions & ignoring ghost points\n",
    "    diffs_2_1.append(np.subtract(datam[0][t1][3:len(datam[0][t1])-3],auxm))\n",
    "    diffs_2_1.append(np.subtract(databeta[0][t1][3:len(databeta[0][t1])-3],auxbeta))\n",
    "    diffs_2_1.append(np.subtract(datapsi[0][t1][3:len(datapsi[0][t1])-3],auxpsi))\n",
    "    diffs_2_1.append(np.subtract(dataderpsi[0][t1][3:len(dataderpsi[0][t1])-3],auxderpsi))\n",
    "\n",
    "    # for given t\n",
    "\n",
    "    aux2m = []\n",
    "    aux2beta = []\n",
    "    aux2psi = []\n",
    "    aux2derpsi = []\n",
    "    for i in range(len(datam[2][t3])):#iterate on the grid with higher resolution\n",
    "        if ((i>2) and (i < (len(datam[2][t3])-3)) and (((i+1)%4)==0)): #ignoring ghost points\n",
    "            aux2m.append(datam[2][t3][i])\n",
    "            aux2beta.append(databeta[2][t3][i])\n",
    "            aux2psi.append(datapsi[2][t3][i])\n",
    "            aux2derpsi.append(dataderpsi[2][t3][i])\n",
    "\n",
    "\n",
    "\n",
    "    #subtracting m beta psi and derpsi in both resolutions & ignoring ghost points\n",
    "    diffs_4_2 =[]\n",
    "    diffs_4_2.append(np.subtract(auxm,aux2m))\n",
    "    diffs_4_2.append(np.subtract(auxbeta,aux2beta))\n",
    "    diffs_4_2.append(np.subtract(auxpsi,aux2psi))\n",
    "    diffs_4_2.append(np.subtract(auxderpsi,aux2derpsi))\n",
    "\n",
    "\n",
    "    ####\n",
    "\n",
    "    norm_low_med = []\n",
    "    norm_med_high = []\n",
    "\n",
    "    for j in range(4):\n",
    "        a = 0\n",
    "        b = 0\n",
    "        for i in diffs_2_1[j]:\n",
    "            a += i**2\n",
    "        for i in diffs_4_2[j]:\n",
    "            b += i**2\n",
    "        norm_low_med.append(np.sqrt(a))\n",
    "        norm_med_high.append(np.sqrt(b))\n",
    "\n",
    "    Q_m.append(math.log2(norm_low_med[0]/norm_med_high[0]))\n",
    "    Q_beta.append(math.log2(norm_low_med[1]/norm_med_high[1]))\n",
    "    Q_psi.append(math.log2(norm_low_med[2]/norm_med_high[2]))\n",
    "    Q_derpsi.append(math.log2(norm_low_med[3]/norm_med_high[3]))"
   ]
  },
  {
   "cell_type": "code",
   "execution_count": 26,
   "id": "9228aacd",
   "metadata": {},
   "outputs": [
    {
     "data": {
      "image/png": "[encoded data removed]",
      "text/plain": [
       "<Figure size 432x288 with 1 Axes>"
      ]
     },
     "metadata": {
      "needs_background": "light"
     },
     "output_type": "display_data"
    }
   ],
   "source": [
    "dt=0.8*dx\n",
    "finaltime=(count-1)/8*step*dt\n",
    "#plt_x = np.linspace(0, int(final_t/4)*dx*step*0.8, int(final_t/4))\n",
    "plt_x = np.linspace(0, int(final_t/4)*dx*step*0.8, int(final_t/4))\n",
    "\n",
    "with plt.style.context('bmh'):\n",
    "    plt.plot(plt_x, Q_m, label = '$Q_m$')\n",
    "    plt.plot(plt_x, Q_beta, label = '$Q_{\\\\beta}$',alpha=0.5)\n",
    "    plt.plot(plt_x, Q_psi, label = '$Q_{\\psi}$')\n",
    "    plt.plot(plt_x, Q_derpsi, label = '$Q_{\\psi,x}$',alpha=0.5)\n",
    "    \n",
    "\n",
    "plt.ylim([0, 8])\n",
    "\n",
    "plt.legend(loc =\"upper left\")\n",
    "plt.xticks(rotation=45)\n",
    "plt.xlabel('time')\n",
    "plt.ylabel('Q(t)')\n",
    "plt.show()"
   ]
  },
  {
   "cell_type": "code",
   "execution_count": 39,
   "id": "6bc09834",
   "metadata": {},
   "outputs": [
    {
     "data": {
      "text/plain": [
       "[nan,\n",
       " 4.03179171985334,\n",
       " 4.031790624028624,\n",
       " 4.031789534271583,\n",
       " 4.031788445930428,\n",
       " 4.0317873573223055,\n",
       " 4.031786268836637,\n",
       " 4.031785181748173,\n",
       " 4.031784095326383,\n",
       " 4.031783009540979,\n",
       " 4.031781924246049,\n",
       " 4.031780838830815,\n",
       " 4.0317797544996195,\n",
       " 4.031778670067806,\n",
       " 4.031777586412672,\n",
       " 4.031776503088218,\n",
       " 4.031775420769177,\n",
       " 4.031774339164323,\n",
       " 4.031773258558773,\n",
       " 4.031772179407119,\n",
       " 4.03177110162335,\n",
       " 4.031770025588088,\n",
       " 4.031768951389029,\n",
       " 4.031767878679793,\n",
       " 4.031766807507868,\n",
       " 4.031765736706291,\n",
       " 4.031764664483772,\n",
       " 4.031763588272799,\n",
       " 4.031762505087949,\n",
       " 4.031761412945224,\n",
       " 4.031760312554356,\n",
       " 4.031759214085401,\n",
       " 4.03175814553802,\n",
       " 4.0317571673577035,\n",
       " 4.031756392098717,\n",
       " 4.031756006118109,\n",
       " 4.03175628781843,\n",
       " 4.0317576030669295,\n",
       " 4.0317603580475,\n",
       " 4.031764872166254]"
      ]
     },
     "execution_count": 39,
     "metadata": {},
     "output_type": "execute_result"
    }
   ],
   "source": [
    "Q_derpsi"
   ]
  },
  {
   "cell_type": "markdown",
   "id": "ecfb0aa0",
   "metadata": {},
   "source": [
    "# Pointwise convergence through time"
   ]
  },
  {
   "cell_type": "code",
   "execution_count": 32,
   "id": "6343ac26",
   "metadata": {},
   "outputs": [
    {
     "name": "stdout",
     "output_type": "stream",
     "text": [
      "0\n",
      "1\n",
      "2\n",
      "3\n",
      "4\n",
      "5\n",
      "6\n",
      "7\n",
      "8\n",
      "9\n"
     ]
    }
   ],
   "source": [
    "time_frame=range(0,10,1)\n",
    "for i in time_frame:\n",
    "    print(i)"
   ]
  },
  {
   "cell_type": "code",
   "execution_count": 73,
   "id": "1e34e831",
   "metadata": {},
   "outputs": [
    {
     "data": {
      "text/plain": [
       "range(0, 125)"
      ]
     },
     "execution_count": 73,
     "metadata": {},
     "output_type": "execute_result"
    }
   ],
   "source": [
    "time_frame=range(0,int((count-1)/4),1)\n",
    "time_frame"
   ]
  },
  {
   "cell_type": "code",
   "execution_count": 138,
   "id": "a15745e5",
   "metadata": {},
   "outputs": [
    {
     "name": "stdout",
     "output_type": "stream",
     "text": [
      "0\n",
      "1\n",
      "2\n",
      "3\n",
      "4\n",
      "5\n",
      "6\n",
      "7\n",
      "8\n",
      "9\n",
      "10\n",
      "11\n",
      "12\n",
      "13\n",
      "14\n",
      "15\n",
      "16\n",
      "17\n",
      "18\n",
      "19\n",
      "20\n",
      "21\n",
      "22\n",
      "23\n",
      "24\n",
      "25\n",
      "26\n",
      "27\n",
      "28\n",
      "29\n",
      "30\n",
      "31\n",
      "32\n",
      "33\n",
      "34\n",
      "35\n",
      "36\n",
      "37\n",
      "38\n",
      "39\n",
      "40\n",
      "41\n",
      "42\n",
      "43\n",
      "44\n",
      "45\n",
      "46\n",
      "47\n",
      "48\n",
      "49\n",
      "50\n",
      "51\n",
      "52\n",
      "53\n",
      "54\n",
      "55\n",
      "56\n",
      "57\n",
      "58\n",
      "59\n",
      "60\n",
      "61\n",
      "62\n",
      "63\n",
      "64\n",
      "65\n",
      "66\n",
      "67\n",
      "68\n",
      "69\n",
      "70\n",
      "71\n",
      "72\n",
      "73\n",
      "74\n",
      "75\n",
      "76\n",
      "77\n",
      "78\n",
      "79\n",
      "80\n",
      "81\n",
      "82\n",
      "83\n",
      "84\n",
      "85\n",
      "86\n",
      "87\n",
      "88\n",
      "89\n",
      "90\n",
      "91\n",
      "92\n",
      "93\n",
      "94\n",
      "95\n",
      "96\n",
      "97\n",
      "98\n",
      "99\n",
      "100\n",
      "101\n",
      "102\n",
      "103\n",
      "104\n",
      "105\n",
      "106\n",
      "107\n",
      "108\n",
      "109\n",
      "110\n",
      "111\n",
      "112\n",
      "113\n",
      "114\n",
      "115\n",
      "116\n",
      "117\n",
      "118\n",
      "119\n",
      "120\n",
      "121\n",
      "122\n",
      "123\n",
      "124\n",
      "125\n"
     ]
    },
    {
     "data": {
      "text/plain": [
       "\"    with plt.style.context('bmh'):\\n\\n        fig, ax = plt.subplots(2, 2,figsize=(15, 10))\\n\\n        ax[0][0].plot(plt_x1, abs(diffs_2_1[0]), label='Res1-res2 of m')\\n        ax[0][0].plot(plt_x1, abs(diffs_4_2[0])*16, label='Res4-res2 * 16 of m')\\n        ax[0][0].legend()\\n\\n        ax[0][1].plot(plt_x1, abs(diffs_2_1[1]), label='Res1-res2 of beta')\\n        ax[0][1].plot(plt_x1, abs(diffs_4_2[1])*16, label='Res4-res2 *16 of beta')\\n        ax[0][1].legend()\\n\\n        ax[1][0].plot(plt_x1, abs(diffs_2_1[2]), label='Res1-res2 of psi')\\n        ax[1][0].plot(plt_x1, abs(diffs_4_2[2])*16, label='Res4-res2 * 16 of psi')\\n        ax[1][0].legend()\\n\\n        ax[1][1].plot(plt_x1, abs(diffs_2_1[3]), label='Res1-res2 of derpsi')\\n        ax[1][1].plot(plt_x1, abs(diffs_4_2[3])*16, label='Res4-res2 * 16 of derpsi')\\n        ax[1][1].legend()\\n\\n    plt.legend()\\n    plt.show()\""
      ]
     },
     "execution_count": 138,
     "metadata": {},
     "output_type": "execute_result"
    }
   ],
   "source": [
    "time_frame=range(0,int((count-1)/4)+1,1)\n",
    "pw_m_21 = []\n",
    "pw_m_42 = []\n",
    "pw_beta_21 = []\n",
    "pw_beta_42 = []\n",
    "pw_psi_21 = []\n",
    "pw_psi_42 = []\n",
    "pw_derpsi_21 = []\n",
    "pw_derpsi_42 = []\n",
    "\n",
    "for i in time_frame:\n",
    "    print(i)\n",
    "    # for given t\n",
    "    t1=i #last timestep\n",
    "    t2=2*t1\n",
    "    t3=4*t1\n",
    "    auxm = []\n",
    "    auxbeta = []\n",
    "    auxpsi = []\n",
    "    auxderpsi = []\n",
    "    auxgrid = []\n",
    "\n",
    "    for i in range(len(datam[1][t2])):#iterate on the grid with higher resolution\n",
    "        if ((i>2) and (i < (len(datam[1][t2])-3)) and ((i%2)!=0)): #ignoring ghost points\n",
    "            auxm.append(datam[1][t2][i])\n",
    "            auxbeta.append(databeta[1][t2][i])\n",
    "            auxpsi.append(datapsi[1][t2][i])\n",
    "            auxderpsi.append(dataderpsi[1][t2][i])\n",
    "            auxgrid.append(datagrid[1][t2][i])\n",
    "            #print(datam[1][0][i])\n",
    "\n",
    "\n",
    "    # array for all diff_m_2_1 diff_beta_2_1 diff_psi_2_1 diff_derpsi_2_1\n",
    "    diffs_2_1 = []\n",
    "\n",
    "    #subtracting f in both resolutions & ignoring ghost points\n",
    "    diffs_2_1.append(np.subtract(datam[0][t1][3:len(datam[0][t1])-3],auxm))\n",
    "    diffs_2_1.append(np.subtract(databeta[0][t1][3:len(databeta[0][t1])-3],auxbeta))\n",
    "    diffs_2_1.append(np.subtract(datapsi[0][t1][3:len(datapsi[0][t1])-3],auxpsi))\n",
    "    diffs_2_1.append(np.subtract(dataderpsi[0][t1][3:len(dataderpsi[0][t1])-3],auxderpsi))\n",
    "    diffs_2_1.append(np.subtract(datagrid[0][t1][3:len(datagrid[0][t1])-3],auxgrid))\n",
    "\n",
    "    # for given t\n",
    "\n",
    "    aux2m = []\n",
    "    aux2beta = []\n",
    "    aux2psi = []\n",
    "    aux2derpsi = []\n",
    "    aux2grid = []\n",
    "    for i in range(len(datam[2][t3])):#iterate on the grid with higher resolution\n",
    "        if ((i>2) and (i < (len(datam[2][t3])-3)) and (((i+1)%4)==0)): #ignoring ghost points\n",
    "            aux2m.append(datam[2][t3][i])\n",
    "            aux2beta.append(databeta[2][t3][i])\n",
    "            aux2psi.append(datapsi[2][t3][i])\n",
    "            aux2derpsi.append(dataderpsi[2][t3][i])\n",
    "            aux2grid.append(datagrid[2][t3][i])\n",
    "\n",
    "\n",
    "\n",
    "    #subtracting m beta psi and derpsi in both resolutions & ignoring ghost points\n",
    "    diffs_4_2 =[]\n",
    "    diffs_4_2.append(np.subtract(auxm,aux2m))\n",
    "    diffs_4_2.append(np.subtract(auxbeta,aux2beta))\n",
    "    diffs_4_2.append(np.subtract(auxpsi,aux2psi))\n",
    "    diffs_4_2.append(np.subtract(auxderpsi,aux2derpsi))\n",
    "    diffs_4_2.append(np.subtract(auxgrid,aux2grid))\n",
    "\n",
    "    pw_m_21.append(abs(diffs_2_1[0]))\n",
    "    pw_m_42.append(abs(diffs_4_2[0])*16)\n",
    "    pw_beta_21.append(abs(diffs_2_1[1]))\n",
    "    pw_beta_42.append(abs(diffs_4_2[1])*16)\n",
    "    pw_psi_21.append(abs(diffs_2_1[2]))\n",
    "    pw_psi_42.append(abs(diffs_4_2[2])*16)\n",
    "    pw_derpsi_21.append(abs(diffs_2_1[3]))\n",
    "    pw_derpsi_42.append(abs(diffs_4_2[3])*16)\n",
    "\n",
    "\"\"\"    with plt.style.context('bmh'):\n",
    "\n",
    "        fig, ax = plt.subplots(2, 2,figsize=(15, 10))\n",
    "\n",
    "        ax[0][0].plot(plt_x1, abs(diffs_2_1[0]), label='Res1-res2 of m')\n",
    "        ax[0][0].plot(plt_x1, abs(diffs_4_2[0])*16, label='Res4-res2 * 16 of m')\n",
    "        ax[0][0].legend()\n",
    "\n",
    "        ax[0][1].plot(plt_x1, abs(diffs_2_1[1]), label='Res1-res2 of beta')\n",
    "        ax[0][1].plot(plt_x1, abs(diffs_4_2[1])*16, label='Res4-res2 *16 of beta')\n",
    "        ax[0][1].legend()\n",
    "\n",
    "        ax[1][0].plot(plt_x1, abs(diffs_2_1[2]), label='Res1-res2 of psi')\n",
    "        ax[1][0].plot(plt_x1, abs(diffs_4_2[2])*16, label='Res4-res2 * 16 of psi')\n",
    "        ax[1][0].legend()\n",
    "\n",
    "        ax[1][1].plot(plt_x1, abs(diffs_2_1[3]), label='Res1-res2 of derpsi')\n",
    "        ax[1][1].plot(plt_x1, abs(diffs_4_2[3])*16, label='Res4-res2 * 16 of derpsi')\n",
    "        ax[1][1].legend()\n",
    "\n",
    "    plt.legend()\n",
    "    plt.show()\"\"\"\n",
    "\n"
   ]
  },
  {
   "cell_type": "code",
   "execution_count": 159,
   "id": "fa6c43c7",
   "metadata": {},
   "outputs": [
    {
     "data": {
      "image/png": "[encoded data removed]",
      "text/plain": [
       "<Figure size 432x288 with 4 Axes>"
      ]
     },
     "metadata": {},
     "output_type": "display_data"
    }
   ],
   "source": [
    "from matplotlib import pyplot as plt\n",
    "import numpy as np\n",
    "from matplotlib.animation import FuncAnimation\n",
    "\n",
    "fig, ax = plt.subplots(2,2)\n",
    "for j in range(0,2):\n",
    "    for i in range(0,2):\n",
    "        ax[i][j].set_xlim(0, 1)\n",
    "        ax[i][j].grid()\n",
    "\n",
    "ax[0][0].set_ylim(0, 10**(-10))\n",
    "ax[0][1].set_ylim(0, 10**(-10))\n",
    "ax[1][0].set_ylim(0, 10**(-8))\n",
    "ax[1][1].set_ylim(0, 10**(-6))\n",
    "\n",
    "line1, = ax[0][0].plot([], [], lw = 3)\n",
    "line2, = ax[0][0].plot([], [], lw = 3)\n",
    "\n",
    "line3, = ax[0][1].plot([], [], lw = 3)\n",
    "line4, = ax[0][1].plot([], [], lw = 3)\n",
    "\n",
    "line5, = ax[1][0].plot([], [], lw = 3)\n",
    "line6, = ax[1][0].plot([], [], lw = 3)\n",
    "\n",
    "line7, = ax[1][1].plot([], [], lw = 3)\n",
    "line8, = ax[1][1].plot([], [], lw = 3)\n",
    "\n",
    "\n",
    "def init():\n",
    "    line1.set_data([], [])\n",
    "    line2.set_data([], [])\n",
    "    return line1,line2\n",
    "\n",
    "def animate(i):\n",
    "    # m\n",
    "    x = plt_x1\n",
    "    y = pw_m_21[i]\n",
    "    y2 = pw_m_42[i]\n",
    "    line1.set_data(x, y)\n",
    "    line2.set_data(x, y2)\n",
    "    line1.set_label('m 21')\n",
    "    line2.set_label('m 42')\n",
    "    ax[0][0].legend()\n",
    "    \n",
    "    # beta\n",
    "    x = plt_x1\n",
    "    y = pw_beta_21[i]\n",
    "    y2 = pw_beta_42[i]\n",
    "    line3.set_data(x, y)\n",
    "    line4.set_data(x, y2)\n",
    "    line3.set_label('beta 21')\n",
    "    line4.set_label('beta 42')\n",
    "    ax[0][1].legend()\n",
    "    \n",
    "    # psi\n",
    "    x = plt_x1\n",
    "    y = pw_psi_21[i]\n",
    "    y2 = pw_psi_42[i]\n",
    "    line5.set_data(x, y)\n",
    "    line6.set_data(x, y2)\n",
    "    line5.set_label('psi 21')\n",
    "    line6.set_label('psi 42')\n",
    "    ax[1][0].legend()\n",
    "    \n",
    "    # der psi\n",
    "    x = plt_x1\n",
    "    y = pw_derpsi_21[i]\n",
    "    y2 = pw_derpsi_42[i]\n",
    "    line7.set_data(x, y)\n",
    "    line8.set_data(x, y2)\n",
    "    line7.set_label('derpsi 21')\n",
    "    line8.set_label('derpsi 42')\n",
    "    ax[1][1].legend()\n",
    "    \n",
    "    return line1,line2,line3,line4,line5,line6,line7,line8\n",
    " \n",
    "\n",
    "anim = FuncAnimation(fig, animate,\n",
    "                    init_func = init,\n",
    "                    frames = len(time_frame),\n",
    "                    interval = 100,\n",
    "                    blit = False,repeat=False)\n",
    "\n",
    "anim.save('continuousSineWave.gif',\n",
    "          writer = 'ffmpeg', fps = 15)"
   ]
  },
  {
   "cell_type": "code",
   "execution_count": 119,
   "id": "0b1f5c08",
   "metadata": {},
   "outputs": [
    {
     "data": {
      "image/png": "[encoded data removed]",
      "text/plain": [
       "<Figure size 432x288 with 1 Axes>"
      ]
     },
     "metadata": {},
     "output_type": "display_data"
    }
   ],
   "source": [
    "from matplotlib import pyplot as plt\n",
    "import numpy as np\n",
    "from matplotlib.animation import FuncAnimation\n",
    "\n",
    "fig = plt.figure()\n",
    "\n",
    "axis = plt.axes(xlim =(0, 1),\n",
    "                ylim =(0, 10**(-10)))\n",
    " \n",
    "line1, = axis.plot([], [], lw = 3)\n",
    "line2, = axis.plot([], [], lw = 3)\n",
    "\n",
    "\n",
    "def init():\n",
    "    line1.set_data([], [])\n",
    "    line2.set_data([], [])\n",
    "    return line1,line2\n",
    "\n",
    "def animate(i):\n",
    "    x = plt_x1\n",
    "    y = pw_m_21[i]\n",
    "    line1.set_data(x, y)\n",
    "    line1.set_label('line 21')\n",
    "    \n",
    "    y2 = pw_m_42[i]\n",
    "    line2.set_data(x, y2)\n",
    "    line2.set_label('line 42')\n",
    "    legend = plt.legend()\n",
    "    \n",
    "    return line,\n",
    " \n",
    "\n",
    "anim = FuncAnimation(fig, animate,\n",
    "                    init_func = init,\n",
    "                    frames = len(time_frame),\n",
    "                    interval = 40,\n",
    "                    blit = True)\n",
    "\n",
    "anim.save('continuousSineWave.gif',\n",
    "          writer = 'ffmpeg', fps = 30)"
   ]
  },
  {
   "cell_type": "markdown",
   "id": "fe4b37d7",
   "metadata": {},
   "source": [
    "# Fixed grid and changing timestep"
   ]
  },
  {
   "cell_type": "code",
   "execution_count": 107,
   "id": "45280616",
   "metadata": {},
   "outputs": [],
   "source": [
    "time_arrays=[]\n",
    "for resolution in res:\n",
    "    with pd.option_context('display.precision', 20):\n",
    "        df = pd.read_csv(\"/home/rita13santos/Desktop/MSc Thesis/Git/ScalarField/DATA/timearray{}.csv\".format(resolution), header=None, dtype = str)\n",
    "        df = df.to_numpy()\n",
    "        df = np.transpose(df)\n",
    "        aux = [float(x) for x in df[0]]\n",
    "        time_arrays.append(aux)"
   ]
  },
  {
   "cell_type": "code",
   "execution_count": 108,
   "id": "925acc20",
   "metadata": {},
   "outputs": [
    {
     "data": {
      "text/plain": [
       "array([ 0.00000000e+00, -3.46944695e-18, -3.46944695e-18, -3.46944695e-18,\n",
       "        0.00000000e+00,  0.00000000e+00,  0.00000000e+00,  0.00000000e+00,\n",
       "        0.00000000e+00,  0.00000000e+00,  0.00000000e+00,  0.00000000e+00,\n",
       "        0.00000000e+00,  0.00000000e+00,  0.00000000e+00,  0.00000000e+00,\n",
       "        0.00000000e+00,  0.00000000e+00,  0.00000000e+00,  0.00000000e+00,\n",
       "        0.00000000e+00])"
      ]
     },
     "execution_count": 108,
     "metadata": {},
     "output_type": "execute_result"
    }
   ],
   "source": [
    "aux=[]\n",
    "for i in range(0,len(time_arrays[1])):\n",
    "    if i%2==0:\n",
    "        aux.append(time_arrays[1][i])\n",
    "aux       \n",
    "np.subtract(time_arrays[0],aux)"
   ]
  },
  {
   "cell_type": "code",
   "execution_count": 109,
   "id": "99fae246",
   "metadata": {},
   "outputs": [],
   "source": [
    "#time_arrays[0]"
   ]
  },
  {
   "cell_type": "code",
   "execution_count": 110,
   "id": "40b12988",
   "metadata": {},
   "outputs": [
    {
     "data": {
      "text/plain": [
       "array([-1.46466297e-20,  4.05183323e-20,  2.02564244e-19,  6.14090671e-19,\n",
       "        1.49424577e-18,  3.20702973e-18,  6.34156709e-18,  1.18317450e-17,\n",
       "        2.11328282e-17,  3.64799764e-17,  6.12637563e-17,  1.00571800e-16,\n",
       "        1.61965121e-16,  2.56584154e-16,  4.00715793e-16,  6.18001992e-16,\n",
       "        9.42537115e-16,  1.42319107e-15,  2.12961583e-15,  3.16055380e-15,\n",
       "        4.65528091e-15])"
      ]
     },
     "execution_count": 110,
     "metadata": {},
     "output_type": "execute_result"
    }
   ],
   "source": [
    "x_i = 0\n",
    "np.transpose(datam[0])[x_i] #this array is the value of m over time at gridpoint x_i"
   ]
  },
  {
   "cell_type": "code",
   "execution_count": 116,
   "id": "15cab58d",
   "metadata": {},
   "outputs": [],
   "source": [
    "import scipy\n",
    "interp_funcs_res2=[]\n",
    "for x_i in range(3,len(dataderpsi[1][0])-3): #iterate over gridpoints on grid with res2, ignoring ghostpoints\n",
    "    \n",
    "    if x_i%2!=0:\n",
    "\n",
    "        x=time_arrays[1]\n",
    "        y = np.transpose(dataderpsi[1])[x_i]\n",
    "        #print(\"x \", x)\n",
    "        #print(\"y \", y)\n",
    "        #print(\"   \")\n",
    "        \n",
    "        #f=interpolate.interp1d(x, y)\n",
    "        spl_f = scipy.interpolate.splrep(x,y,k=5)\n",
    "        \n",
    "        interp_funcs_res2.append(spl_f)\n",
    "        #plt.scatter(x,y)\n",
    "        #plt.ylim([-0.002, 0.002])\n",
    "        #plt.show()\n",
    "        \n",
    "interp_funcs_res4=[]\n",
    "for x_i in range(3,len(dataderpsi[2][0])-3): #iterate over gridpoints on grid with res4, ignoring ghostpoints\n",
    "    \n",
    "    if (x_i+1)%4==0:\n",
    "        \n",
    "        x=time_arrays[2]\n",
    "        y = np.transpose(dataderpsi[2])[x_i]\n",
    "        #print(\"x \", x)\n",
    "        #print(\"y \", y)\n",
    "        #print(\"   \")\n",
    "        \n",
    "        #f=interpolate.interp1d(x, y)\n",
    "        spl_f = scipy.interpolate.splrep(x,y,k=5)\n",
    "        \n",
    "        interp_funcs_res4.append(spl_f)"
   ]
  },
  {
   "cell_type": "code",
   "execution_count": 117,
   "id": "107f3974",
   "metadata": {},
   "outputs": [],
   "source": [
    "\n",
    "diffs_2_1=[]\n",
    "diffs_4_2=[]\n",
    "\n",
    "for j in range(0,len(dataderpsi[0])): #iterate on time\n",
    "    aux2=[]\n",
    "    aux4=[]\n",
    "    \n",
    "    for i in range(3,len(dataderpsi[0][0])-3): #iterate on grid with res1, ignore ghostpoints\n",
    "        t=time_arrays[0][j]\n",
    "        #print(t)\n",
    "        #aux2.append(dataderpsi[0][j][i]-float(interp_funcs_res2[i-3](t)))\n",
    "        #aux4.append(dataderpsi[0][j][i]-float(interp_funcs_res4[i-3](t)))\n",
    "        aux2.append(dataderpsi[0][j][i]-float(scipy.interpolate.splev(t,interp_funcs_res2[i-3])))\n",
    "        aux4.append(dataderpsi[0][j][i]-float(scipy.interpolate.splev(t,interp_funcs_res4[i-3])))\n",
    "        \n",
    "    #print(np.subtract(aux2,aux4))\n",
    "    #print(aux4)\n",
    "    diffs_2_1.append(aux2)\n",
    "    diffs_4_2.append(aux4)"
   ]
  },
  {
   "cell_type": "code",
   "execution_count": 118,
   "id": "3595d73a",
   "metadata": {},
   "outputs": [
    {
     "data": {
      "text/plain": [
       "'diffs_2_1=[]\\ndiffs_4_2=[]\\n\\nfor j in range(0,len(dataderpsi[0])): #iterate on time\\n    aux2=[]\\n    aux4=[]\\n    \\n    for i in range(3,len(dataderpsi[0][0])-3): #iterate on grid with res1, ignore ghostpoints\\n        t=time_arrays[0][j]\\n        #print(t)\\n        aux2.append(dataderpsi[0][j][i]-float(interp_funcs_res2[i-3](t)))\\n        aux4.append(dataderpsi[0][j][i]-float(interp_funcs_res4[i-3](t)))\\n    #print(np.subtract(aux2,aux4))\\n    #print(aux4)\\n    diffs_2_1.append(aux2)\\n    diffs_4_2.append(aux4)'"
      ]
     },
     "execution_count": 118,
     "metadata": {},
     "output_type": "execute_result"
    }
   ],
   "source": [
    "\"\"\"diffs_2_1=[]\n",
    "diffs_4_2=[]\n",
    "\n",
    "for j in range(0,len(dataderpsi[0])): #iterate on time\n",
    "    aux2=[]\n",
    "    aux4=[]\n",
    "    \n",
    "    for i in range(3,len(dataderpsi[0][0])-3): #iterate on grid with res1, ignore ghostpoints\n",
    "        t=time_arrays[0][j]\n",
    "        #print(t)\n",
    "        aux2.append(dataderpsi[0][j][i]-float(interp_funcs_res2[i-3](t)))\n",
    "        aux4.append(dataderpsi[0][j][i]-float(interp_funcs_res4[i-3](t)))\n",
    "    #print(np.subtract(aux2,aux4))\n",
    "    #print(aux4)\n",
    "    diffs_2_1.append(aux2)\n",
    "    diffs_4_2.append(aux4)\"\"\""
   ]
  },
  {
   "cell_type": "code",
   "execution_count": 119,
   "id": "0fce49fa",
   "metadata": {},
   "outputs": [
    {
     "data": {
      "text/plain": [
       "[<matplotlib.lines.Line2D at 0x7f326a470280>]"
      ]
     },
     "execution_count": 119,
     "metadata": {},
     "output_type": "execute_result"
    },
    {
     "data": {
      "image/png": "[encoded data removed]",
      "text/plain": [
       "<Figure size 432x288 with 1 Axes>"
      ]
     },
     "metadata": {
      "needs_background": "light"
     },
     "output_type": "display_data"
    }
   ],
   "source": [
    "x=np.linspace(0,1,len(diffs_2_1[0]))\n",
    "plt.plot(x,diffs_2_1[0])\n",
    "x=np.linspace(0,1,len(diffs_4_2[0]))\n",
    "plt.plot(x,diffs_4_2[0])"
   ]
  },
  {
   "cell_type": "code",
   "execution_count": 115,
   "id": "a05bf880",
   "metadata": {},
   "outputs": [
    {
     "data": {
      "text/plain": [
       "-0.08683023373817983"
      ]
     },
     "execution_count": 115,
     "metadata": {},
     "output_type": "execute_result"
    }
   ],
   "source": [
    "######## t=0 ########\n",
    "normlow_med=0\n",
    "for i in diffs_2_1[1]:\n",
    "    normlow_med += i**2\n",
    "normlow_med=math.sqrt(normlow_med)\n",
    "normmed_high=0\n",
    "for i in diffs_4_2[1]:\n",
    "    normmed_high += i**2\n",
    "normmed_high=math.sqrt(normmed_high)\n",
    "\n",
    "math.log2(normlow_med/normmed_high)"
   ]
  },
  {
   "cell_type": "code",
   "execution_count": 327,
   "id": "4b110079",
   "metadata": {},
   "outputs": [
    {
     "data": {
      "text/plain": [
       "11"
      ]
     },
     "execution_count": 327,
     "metadata": {},
     "output_type": "execute_result"
    }
   ],
   "source": [
    "len(diffs_2_1)"
   ]
  },
  {
   "cell_type": "code",
   "execution_count": null,
   "id": "f3239340",
   "metadata": {},
   "outputs": [],
   "source": []
  },
  {
   "cell_type": "code",
   "execution_count": null,
   "id": "6a35e6b0",
   "metadata": {},
   "outputs": [],
   "source": []
  },
  {
   "cell_type": "code",
   "execution_count": null,
   "id": "fffa1829",
   "metadata": {},
   "outputs": [],
   "source": []
  },
  {
   "cell_type": "code",
   "execution_count": null,
   "id": "8fe9eded",
   "metadata": {},
   "outputs": [],
   "source": []
  },
  {
   "cell_type": "code",
   "execution_count": null,
   "id": "41f6cc57",
   "metadata": {},
   "outputs": [],
   "source": []
  },
  {
   "cell_type": "code",
   "execution_count": null,
   "id": "373dd57a",
   "metadata": {},
   "outputs": [],
   "source": []
  },
  {
   "cell_type": "markdown",
   "id": "f123d46f",
   "metadata": {},
   "source": [
    "# ****"
   ]
  },
  {
   "cell_type": "markdown",
   "id": "c551c194",
   "metadata": {},
   "source": [
    "interpolate m data (z) on grid (x) and time (y), resolution 2"
   ]
  },
  {
   "cell_type": "code",
   "execution_count": 79,
   "id": "e3fec9ca",
   "metadata": {},
   "outputs": [
    {
     "ename": "MemoryError",
     "evalue": "",
     "output_type": "error",
     "traceback": [
      "\u001b[0;31m---------------------------------------------------------------------------\u001b[0m",
      "\u001b[0;31mMemoryError\u001b[0m                               Traceback (most recent call last)",
      "Input \u001b[0;32mIn [79]\u001b[0m, in \u001b[0;36m<cell line: 25>\u001b[0;34m()\u001b[0m\n\u001b[1;32m     21\u001b[0m     \u001b[38;5;28;01mfor\u001b[39;00m j \u001b[38;5;129;01min\u001b[39;00m \u001b[38;5;28mrange\u001b[39m(\u001b[38;5;241m0\u001b[39m,Nx):\n\u001b[1;32m     22\u001b[0m         z\u001b[38;5;241m.\u001b[39mappend(datam[\u001b[38;5;241m1\u001b[39m][i][j])\n\u001b[0;32m---> 25\u001b[0m interp2\u001b[38;5;241m=\u001b[39m\u001b[43minterpolate\u001b[49m\u001b[38;5;241;43m.\u001b[39;49m\u001b[43minterp2d\u001b[49m\u001b[43m(\u001b[49m\u001b[43mx\u001b[49m\u001b[43m,\u001b[49m\u001b[43m \u001b[49m\u001b[43my\u001b[49m\u001b[43m,\u001b[49m\u001b[43m \u001b[49m\u001b[43mz\u001b[49m\u001b[43m,\u001b[49m\u001b[43m \u001b[49m\u001b[43mkind\u001b[49m\u001b[38;5;241;43m=\u001b[39;49m\u001b[38;5;124;43m'\u001b[39;49m\u001b[38;5;124;43mquintic\u001b[39;49m\u001b[38;5;124;43m'\u001b[39;49m\u001b[43m)\u001b[49m\n",
      "File \u001b[0;32m~/anaconda3/lib/python3.9/site-packages/scipy/interpolate/interpolate.py:232\u001b[0m, in \u001b[0;36minterp2d.__init__\u001b[0;34m(self, x, y, z, kind, copy, bounds_error, fill_value)\u001b[0m\n\u001b[1;32m    225\u001b[0m     \u001b[38;5;28;01mraise\u001b[39;00m \u001b[38;5;167;01mValueError\u001b[39;00m(\n\u001b[1;32m    226\u001b[0m         \u001b[38;5;124mf\u001b[39m\u001b[38;5;124m\"\u001b[39m\u001b[38;5;124mUnsupported interpolation type \u001b[39m\u001b[38;5;132;01m{\u001b[39;00m\u001b[38;5;28mrepr\u001b[39m(kind)\u001b[38;5;132;01m}\u001b[39;00m\u001b[38;5;124m, must be \u001b[39m\u001b[38;5;124m\"\u001b[39m\n\u001b[1;32m    227\u001b[0m         \u001b[38;5;124mf\u001b[39m\u001b[38;5;124m\"\u001b[39m\u001b[38;5;124meither of \u001b[39m\u001b[38;5;132;01m{\u001b[39;00m\u001b[38;5;124m'\u001b[39m\u001b[38;5;124m, \u001b[39m\u001b[38;5;124m'\u001b[39m\u001b[38;5;241m.\u001b[39mjoin(\u001b[38;5;28mmap\u001b[39m(\u001b[38;5;28mrepr\u001b[39m, interpolation_types))\u001b[38;5;132;01m}\u001b[39;00m\u001b[38;5;124m.\u001b[39m\u001b[38;5;124m\"\u001b[39m\n\u001b[1;32m    228\u001b[0m     ) \u001b[38;5;28;01mfrom\u001b[39;00m \u001b[38;5;21;01me\u001b[39;00m\n\u001b[1;32m    230\u001b[0m \u001b[38;5;28;01mif\u001b[39;00m \u001b[38;5;129;01mnot\u001b[39;00m rectangular_grid:\n\u001b[1;32m    231\u001b[0m     \u001b[38;5;66;03m# TODO: surfit is really not meant for interpolation!\u001b[39;00m\n\u001b[0;32m--> 232\u001b[0m     \u001b[38;5;28mself\u001b[39m\u001b[38;5;241m.\u001b[39mtck \u001b[38;5;241m=\u001b[39m \u001b[43mfitpack\u001b[49m\u001b[38;5;241;43m.\u001b[39;49m\u001b[43mbisplrep\u001b[49m\u001b[43m(\u001b[49m\u001b[43mx\u001b[49m\u001b[43m,\u001b[49m\u001b[43m \u001b[49m\u001b[43my\u001b[49m\u001b[43m,\u001b[49m\u001b[43m \u001b[49m\u001b[43mz\u001b[49m\u001b[43m,\u001b[49m\u001b[43m \u001b[49m\u001b[43mkx\u001b[49m\u001b[38;5;241;43m=\u001b[39;49m\u001b[43mkx\u001b[49m\u001b[43m,\u001b[49m\u001b[43m \u001b[49m\u001b[43mky\u001b[49m\u001b[38;5;241;43m=\u001b[39;49m\u001b[43mky\u001b[49m\u001b[43m,\u001b[49m\u001b[43m \u001b[49m\u001b[43ms\u001b[49m\u001b[38;5;241;43m=\u001b[39;49m\u001b[38;5;241;43m0.0\u001b[39;49m\u001b[43m)\u001b[49m\n\u001b[1;32m    233\u001b[0m \u001b[38;5;28;01melse\u001b[39;00m:\n\u001b[1;32m    234\u001b[0m     nx, tx, ny, ty, c, fp, ier \u001b[38;5;241m=\u001b[39m dfitpack\u001b[38;5;241m.\u001b[39mregrid_smth(\n\u001b[1;32m    235\u001b[0m         x, y, z, \u001b[38;5;28;01mNone\u001b[39;00m, \u001b[38;5;28;01mNone\u001b[39;00m, \u001b[38;5;28;01mNone\u001b[39;00m, \u001b[38;5;28;01mNone\u001b[39;00m,\n\u001b[1;32m    236\u001b[0m         kx\u001b[38;5;241m=\u001b[39mkx, ky\u001b[38;5;241m=\u001b[39mky, s\u001b[38;5;241m=\u001b[39m\u001b[38;5;241m0.0\u001b[39m)\n",
      "File \u001b[0;32m~/anaconda3/lib/python3.9/site-packages/scipy/interpolate/_fitpack_impl.py:958\u001b[0m, in \u001b[0;36mbisplrep\u001b[0;34m(x, y, z, w, xb, xe, yb, ye, kx, ky, task, s, eps, tx, ty, full_output, nxest, nyest, quiet)\u001b[0m\n\u001b[1;32m    954\u001b[0m lwrk1 \u001b[38;5;241m=\u001b[39m _int_overflow(u\u001b[38;5;241m*\u001b[39mv\u001b[38;5;241m*\u001b[39m(\u001b[38;5;241m2\u001b[39m \u001b[38;5;241m+\u001b[39m b1 \u001b[38;5;241m+\u001b[39m b2) \u001b[38;5;241m+\u001b[39m\n\u001b[1;32m    955\u001b[0m                       \u001b[38;5;241m2\u001b[39m\u001b[38;5;241m*\u001b[39m(u \u001b[38;5;241m+\u001b[39m v \u001b[38;5;241m+\u001b[39m km\u001b[38;5;241m*\u001b[39m(m \u001b[38;5;241m+\u001b[39m ne) \u001b[38;5;241m+\u001b[39m ne \u001b[38;5;241m-\u001b[39m kx \u001b[38;5;241m-\u001b[39m ky) \u001b[38;5;241m+\u001b[39m b2 \u001b[38;5;241m+\u001b[39m \u001b[38;5;241m1\u001b[39m,\n\u001b[1;32m    956\u001b[0m                       msg\u001b[38;5;241m=\u001b[39mmsg)\n\u001b[1;32m    957\u001b[0m lwrk2 \u001b[38;5;241m=\u001b[39m _int_overflow(u\u001b[38;5;241m*\u001b[39mv\u001b[38;5;241m*\u001b[39m(b2 \u001b[38;5;241m+\u001b[39m \u001b[38;5;241m1\u001b[39m) \u001b[38;5;241m+\u001b[39m b2, msg\u001b[38;5;241m=\u001b[39mmsg)\n\u001b[0;32m--> 958\u001b[0m tx, ty, c, o \u001b[38;5;241m=\u001b[39m \u001b[43m_fitpack\u001b[49m\u001b[38;5;241;43m.\u001b[39;49m\u001b[43m_surfit\u001b[49m\u001b[43m(\u001b[49m\u001b[43mx\u001b[49m\u001b[43m,\u001b[49m\u001b[43m \u001b[49m\u001b[43my\u001b[49m\u001b[43m,\u001b[49m\u001b[43m \u001b[49m\u001b[43mz\u001b[49m\u001b[43m,\u001b[49m\u001b[43m \u001b[49m\u001b[43mw\u001b[49m\u001b[43m,\u001b[49m\u001b[43m \u001b[49m\u001b[43mxb\u001b[49m\u001b[43m,\u001b[49m\u001b[43m \u001b[49m\u001b[43mxe\u001b[49m\u001b[43m,\u001b[49m\u001b[43m \u001b[49m\u001b[43myb\u001b[49m\u001b[43m,\u001b[49m\u001b[43m \u001b[49m\u001b[43mye\u001b[49m\u001b[43m,\u001b[49m\u001b[43m \u001b[49m\u001b[43mkx\u001b[49m\u001b[43m,\u001b[49m\u001b[43m \u001b[49m\u001b[43mky\u001b[49m\u001b[43m,\u001b[49m\n\u001b[1;32m    959\u001b[0m \u001b[43m                                \u001b[49m\u001b[43mtask\u001b[49m\u001b[43m,\u001b[49m\u001b[43m \u001b[49m\u001b[43ms\u001b[49m\u001b[43m,\u001b[49m\u001b[43m \u001b[49m\u001b[43meps\u001b[49m\u001b[43m,\u001b[49m\u001b[43m \u001b[49m\u001b[43mtx\u001b[49m\u001b[43m,\u001b[49m\u001b[43m \u001b[49m\u001b[43mty\u001b[49m\u001b[43m,\u001b[49m\u001b[43m \u001b[49m\u001b[43mnxest\u001b[49m\u001b[43m,\u001b[49m\u001b[43m \u001b[49m\u001b[43mnyest\u001b[49m\u001b[43m,\u001b[49m\n\u001b[1;32m    960\u001b[0m \u001b[43m                                \u001b[49m\u001b[43mwrk\u001b[49m\u001b[43m,\u001b[49m\u001b[43m \u001b[49m\u001b[43mlwrk1\u001b[49m\u001b[43m,\u001b[49m\u001b[43m \u001b[49m\u001b[43mlwrk2\u001b[49m\u001b[43m)\u001b[49m\n\u001b[1;32m    961\u001b[0m _curfit_cache[\u001b[38;5;124m'\u001b[39m\u001b[38;5;124mtx\u001b[39m\u001b[38;5;124m'\u001b[39m] \u001b[38;5;241m=\u001b[39m tx\n\u001b[1;32m    962\u001b[0m _curfit_cache[\u001b[38;5;124m'\u001b[39m\u001b[38;5;124mty\u001b[39m\u001b[38;5;124m'\u001b[39m] \u001b[38;5;241m=\u001b[39m ty\n",
      "\u001b[0;31mMemoryError\u001b[0m: "
     ]
    }
   ],
   "source": [
    "\n",
    "\n",
    "Nt = len(datam[1]) #number of timesteps\n",
    "\n",
    "# grid\n",
    "x=[]\n",
    "for i in range(0,Nt):\n",
    "    Nx = len(datagrid[1][i])\n",
    "    for j in range(0,Nx):\n",
    "        x.append(datagrid[1][i][j])\n",
    "\n",
    "# time\n",
    "y=[]\n",
    "for i in range(0,Nt):\n",
    "    Nx = len(datam[1][i])\n",
    "    for j in range(0,Nx):\n",
    "        y.append(time_arrays[1][i])\n",
    "\n",
    "# data\n",
    "z=[]\n",
    "for i in range(0,Nt):\n",
    "    Nx = len(datam[1][i])\n",
    "    for j in range(0,Nx):\n",
    "        z.append(datam[1][i][j])\n",
    "\n",
    "\n",
    "interp2=interpolate.interp2d(x, y, z, kind='quintic')"
   ]
  },
  {
   "cell_type": "markdown",
   "id": "df4b7083",
   "metadata": {},
   "source": [
    "interpolate m data (z) on grid (x) and time (y), resolution 3"
   ]
  },
  {
   "cell_type": "code",
   "execution_count": null,
   "id": "1981c45c",
   "metadata": {},
   "outputs": [],
   "source": [
    "import numpy as np\n",
    "from scipy import interpolate\n",
    "\n",
    "Nt = len(datam[2]) #number of timesteps\n",
    "\n",
    "# grid\n",
    "x=[]\n",
    "for i in range(0,2):\n",
    "    Nx = len(datagrid[2][i])\n",
    "    for j in range(0,Nx):\n",
    "        x.append(datagrid[2][i][j])\n",
    "\n",
    "# time\n",
    "y=[]\n",
    "for i in range(0,2):\n",
    "    Nx = len(datam[2][i])\n",
    "    for j in range(0,Nx):\n",
    "        y.append(time_arrays[2][i])\n",
    "\n",
    "# data\n",
    "z=[]\n",
    "for i in range(0,2):\n",
    "    Nx = len(datam[2][i])\n",
    "    for j in range(0,Nx):\n",
    "        z.append(datam[2][i][j])\n",
    "\n",
    "\n",
    "interp4=interpolate.interp2d(x, y, z, kind='quintic')\n"
   ]
  },
  {
   "cell_type": "markdown",
   "id": "caedf94b",
   "metadata": {},
   "source": [
    "3D plot of m data over time"
   ]
  },
  {
   "cell_type": "code",
   "execution_count": null,
   "id": "9924d703",
   "metadata": {},
   "outputs": [],
   "source": [
    "from mpl_toolkits import mplot3d\n",
    "%matplotlib inline\n",
    "import numpy as np\n",
    "import matplotlib.pyplot as plt\n",
    "\n",
    "\n",
    "\n",
    "def f(x, y):\n",
    "    return np.sin(np.sqrt(x ** 2 + y ** 2))\n",
    "\n",
    "x = datagrid[1][0]\n",
    "y = time_arrays[1]\n",
    "\n",
    "X, Y = np.meshgrid(x, y)\n",
    "#Z=f(X,Y)\n",
    "Z = []\n",
    "for i in range(0,len(y)):\n",
    "    aux=[]\n",
    "    for k in range(0,len(x)):\n",
    "        aux.append(datam[1][i][k])\n",
    "    Z.append(aux)\n",
    "\n",
    "\n",
    "fig = plt.figure()\n",
    "ax = plt.axes(projection='3d')\n",
    "ax.contour3D(X, Y, Z, 50, cmap='binary')\n",
    "\n",
    "ax.set_xlabel('x')\n",
    "ax.set_ylabel('y')\n",
    "ax.set_zlabel('z');\n"
   ]
  },
  {
   "cell_type": "code",
   "execution_count": null,
   "id": "0eacf496",
   "metadata": {},
   "outputs": [],
   "source": [
    "len(y)"
   ]
  },
  {
   "cell_type": "code",
   "execution_count": 80,
   "id": "a3ce7060",
   "metadata": {},
   "outputs": [
    {
     "ename": "NameError",
     "evalue": "name 'interp2' is not defined",
     "output_type": "error",
     "traceback": [
      "\u001b[0;31m---------------------------------------------------------------------------\u001b[0m",
      "\u001b[0;31mNameError\u001b[0m                                 Traceback (most recent call last)",
      "Input \u001b[0;32mIn [80]\u001b[0m, in \u001b[0;36m<cell line: 17>\u001b[0;34m()\u001b[0m\n\u001b[1;32m     18\u001b[0m     aux\u001b[38;5;241m=\u001b[39m[]\n\u001b[1;32m     19\u001b[0m     \u001b[38;5;28;01mfor\u001b[39;00m k \u001b[38;5;129;01min\u001b[39;00m \u001b[38;5;28mrange\u001b[39m(\u001b[38;5;241m0\u001b[39m,\u001b[38;5;28mlen\u001b[39m(x)):\n\u001b[0;32m---> 20\u001b[0m         aux\u001b[38;5;241m.\u001b[39mappend(\u001b[43minterp2\u001b[49m(x[k],y[i])[\u001b[38;5;241m0\u001b[39m])\n\u001b[1;32m     21\u001b[0m     Z\u001b[38;5;241m.\u001b[39mappend(aux)\n\u001b[1;32m     24\u001b[0m fig \u001b[38;5;241m=\u001b[39m plt\u001b[38;5;241m.\u001b[39mfigure()\n",
      "\u001b[0;31mNameError\u001b[0m: name 'interp2' is not defined"
     ]
    }
   ],
   "source": [
    "from mpl_toolkits import mplot3d\n",
    "%matplotlib inline\n",
    "import numpy as np\n",
    "import matplotlib.pyplot as plt\n",
    "\n",
    "\n",
    "\n",
    "def f(x, y):\n",
    "    return np.sin(np.sqrt(x ** 2 + y ** 2))\n",
    "\n",
    "x = np.linspace(0, 1, 200)\n",
    "y = np.linspace(0, 0.04, 5)\n",
    "\n",
    "X, Y = np.meshgrid(x, y)\n",
    "#Z=f(X,Y)\n",
    "Z = []\n",
    "for i in range(0,len(y)):\n",
    "    aux=[]\n",
    "    for k in range(0,len(x)):\n",
    "        aux.append(interp2(x[k],y[i])[0])\n",
    "    Z.append(aux)\n",
    "\n",
    "\n",
    "fig = plt.figure()\n",
    "ax = plt.axes(projection='3d')\n",
    "ax.contour3D(X, Y, Z, 50, cmap='binary')\n",
    "\n",
    "ax.set_xlabel('x')\n",
    "ax.set_ylabel('y')\n",
    "ax.set_zlabel('z');"
   ]
  },
  {
   "cell_type": "code",
   "execution_count": 81,
   "id": "4713e684",
   "metadata": {},
   "outputs": [
    {
     "ename": "NameError",
     "evalue": "name 'interp2' is not defined",
     "output_type": "error",
     "traceback": [
      "\u001b[0;31m---------------------------------------------------------------------------\u001b[0m",
      "\u001b[0;31mNameError\u001b[0m                                 Traceback (most recent call last)",
      "Input \u001b[0;32mIn [81]\u001b[0m, in \u001b[0;36m<cell line: 3>\u001b[0;34m()\u001b[0m\n\u001b[1;32m      6\u001b[0m     \u001b[38;5;28;01mfor\u001b[39;00m j \u001b[38;5;129;01min\u001b[39;00m \u001b[38;5;28mrange\u001b[39m(\u001b[38;5;241m0\u001b[39m,\u001b[38;5;28mlen\u001b[39m(datam[\u001b[38;5;241m0\u001b[39m][i])):\n\u001b[1;32m      7\u001b[0m         x \u001b[38;5;241m=\u001b[39m datagrid[\u001b[38;5;241m0\u001b[39m][i]\n\u001b[0;32m----> 8\u001b[0m         auxm\u001b[38;5;241m.\u001b[39mappend(\u001b[43minterp2\u001b[49m(x,t)[\u001b[38;5;241m0\u001b[39m])\n\u001b[1;32m      9\u001b[0m     diffs_2_1\u001b[38;5;241m.\u001b[39mappend(np\u001b[38;5;241m.\u001b[39msubtract(datam[\u001b[38;5;241m0\u001b[39m][i],auxm))\n\u001b[1;32m     10\u001b[0m \u001b[38;5;28mlen\u001b[39m(auxm)\n",
      "\u001b[0;31mNameError\u001b[0m: name 'interp2' is not defined"
     ]
    }
   ],
   "source": [
    "t1=0\n",
    "diffs_2_1=[]\n",
    "for i in range(0,len(time_arrays[0])):#iterate on t\n",
    "    auxm=[]\n",
    "    t1 = time_arrays[0][i]\n",
    "    for j in range(0,len(datam[0][i])):\n",
    "        x = datagrid[0][i]\n",
    "        auxm.append(interp2(x,t)[0])\n",
    "    diffs_2_1.append(np.subtract(datam[0][i],auxm))\n",
    "len(auxm) \n",
    "    \n"
   ]
  },
  {
   "cell_type": "code",
   "execution_count": 82,
   "id": "e455459d",
   "metadata": {},
   "outputs": [
    {
     "ename": "NameError",
     "evalue": "name 'interp2' is not defined",
     "output_type": "error",
     "traceback": [
      "\u001b[0;31m---------------------------------------------------------------------------\u001b[0m",
      "\u001b[0;31mNameError\u001b[0m                                 Traceback (most recent call last)",
      "Input \u001b[0;32mIn [82]\u001b[0m, in \u001b[0;36m<cell line: 3>\u001b[0;34m()\u001b[0m\n\u001b[1;32m      7\u001b[0m \u001b[38;5;28;01mfor\u001b[39;00m j \u001b[38;5;129;01min\u001b[39;00m \u001b[38;5;28mrange\u001b[39m(\u001b[38;5;241m0\u001b[39m,\u001b[38;5;28mlen\u001b[39m(datam[\u001b[38;5;241m0\u001b[39m][i])):\n\u001b[1;32m      8\u001b[0m     x \u001b[38;5;241m=\u001b[39m datagrid[\u001b[38;5;241m0\u001b[39m][i]\n\u001b[0;32m----> 9\u001b[0m     auxm2\u001b[38;5;241m.\u001b[39mappend(\u001b[43minterp2\u001b[49m(x,t)[\u001b[38;5;241m0\u001b[39m])\n\u001b[1;32m     10\u001b[0m     auxm4\u001b[38;5;241m.\u001b[39mappend(interp4(x,t)[\u001b[38;5;241m0\u001b[39m])\n\u001b[1;32m     11\u001b[0m diffs_4_2\u001b[38;5;241m.\u001b[39mappend(np\u001b[38;5;241m.\u001b[39msubtract(auxm4,auxm2))\n",
      "\u001b[0;31mNameError\u001b[0m: name 'interp2' is not defined"
     ]
    }
   ],
   "source": [
    "t1=0\n",
    "diffs_4_2=[]\n",
    "for i in range(0,len(time_arrays[0])):#iterate on t\n",
    "    auxm2=[]\n",
    "    auxm4=[]\n",
    "    t1 = time_arrays[0][i]\n",
    "    for j in range(0,len(datam[0][i])):\n",
    "        x = datagrid[0][i]\n",
    "        auxm2.append(interp2(x,t)[0])\n",
    "        auxm4.append(interp4(x,t)[0])\n",
    "    diffs_4_2.append(np.subtract(auxm4,auxm2))\n",
    "len(auxm) \n",
    "    \n"
   ]
  },
  {
   "cell_type": "code",
   "execution_count": 47,
   "id": "328a7db0",
   "metadata": {},
   "outputs": [],
   "source": [
    "norm_low_med = []\n",
    "norm_med_high = []\n",
    "\n",
    "for j in range(0,len(time_arrays)):\n",
    "    a = 0\n",
    "    b = 0\n",
    "    for i in diffs_2_1[j]:\n",
    "        a += i**2\n",
    "    for i in diffs_4_2[j]:\n",
    "        b += i**2\n",
    "    norm_low_med.append(np.sqrt(a))\n",
    "    norm_med_high.append(np.sqrt(b))\n",
    "\n",
    "Q_m.append(math.log2(norm_low_med[0]/norm_med_high[0]))"
   ]
  },
  {
   "cell_type": "markdown",
   "id": "167a5198",
   "metadata": {},
   "source": [
    "Q_m"
   ]
  },
  {
   "cell_type": "code",
   "execution_count": 48,
   "id": "c3edff59",
   "metadata": {},
   "outputs": [
    {
     "data": {
      "text/plain": [
       "[3.998204305872114, 4.013585341089867, 32.7443907763087]"
      ]
     },
     "execution_count": 48,
     "metadata": {},
     "output_type": "execute_result"
    }
   ],
   "source": [
    "Q_m"
   ]
  },
  {
   "cell_type": "code",
   "execution_count": null,
   "id": "9c61b89d",
   "metadata": {},
   "outputs": [],
   "source": []
  },
  {
   "cell_type": "code",
   "execution_count": null,
   "id": "a73f56c8",
   "metadata": {},
   "outputs": [],
   "source": []
  },
  {
   "cell_type": "code",
   "execution_count": null,
   "id": "e2876a23",
   "metadata": {},
   "outputs": [],
   "source": []
  },
  {
   "cell_type": "code",
   "execution_count": null,
   "id": "988c8263",
   "metadata": {},
   "outputs": [],
   "source": []
  },
  {
   "cell_type": "code",
   "execution_count": null,
   "id": "760f9719",
   "metadata": {},
   "outputs": [],
   "source": []
  },
  {
   "cell_type": "code",
   "execution_count": null,
   "id": "9eaec160",
   "metadata": {},
   "outputs": [],
   "source": []
  },
  {
   "cell_type": "code",
   "execution_count": null,
   "id": "80d088ed",
   "metadata": {},
   "outputs": [],
   "source": []
  },
  {
   "cell_type": "code",
   "execution_count": null,
   "id": "2d404e06",
   "metadata": {},
   "outputs": [],
   "source": []
  },
  {
   "cell_type": "code",
   "execution_count": null,
   "id": "a2bdb0f7",
   "metadata": {},
   "outputs": [],
   "source": []
  },
  {
   "cell_type": "code",
   "execution_count": 54,
   "id": "b48e23c8",
   "metadata": {},
   "outputs": [
    {
     "data": {
      "image/png": "[encoded data removed]",
      "text/plain": [
       "<Figure size 432x288 with 1 Axes>"
      ]
     },
     "metadata": {
      "needs_background": "light"
     },
     "output_type": "display_data"
    }
   ],
   "source": [
    "from matplotlib import pyplot as plt\n",
    "import numpy as np\n",
    "from matplotlib.animation import FuncAnimation\n",
    " \n",
    "fig = plt.figure()\n",
    " \n",
    "# marking the x-axis and y-axis\n",
    "axis = plt.axes(xlim =(0, 4),\n",
    "                ylim =(-2, 2))\n",
    " \n",
    "# initializing a line variable\n",
    "line, = axis.plot([], [], lw = 3)\n",
    " \n",
    "# data which the line will\n",
    "# contain (x, y)\n",
    "def init():\n",
    "    line.set_data([], [])\n",
    "    return line,\n",
    " \n",
    "def animate(i):\n",
    "    x = np.linspace(0, 4, 1000)\n",
    " \n",
    "    # plots a sine graph\n",
    "    y = np.sin(2 * np.pi * (x - 0.01 * i))\n",
    "    line.set_data(x, y)\n",
    "     \n",
    "    return line,\n",
    " \n",
    "anim = FuncAnimation(fig, animate,\n",
    "                    init_func = init,\n",
    "                    frames = 200,\n",
    "                    interval = 20,\n",
    "                    blit = True)\n",
    " \n",
    "anim.save('continuousSineWave.gif',\n",
    "          writer = 'ffmpeg', fps = 30)"
   ]
  },
  {
   "cell_type": "code",
   "execution_count": 30,
   "id": "9813001c",
   "metadata": {},
   "outputs": [],
   "source": []
  },
  {
   "cell_type": "code",
   "execution_count": null,
   "id": "e88882a2",
   "metadata": {},
   "outputs": [],
   "source": []
  }
 ],
 "metadata": {
  "kernelspec": {
   "display_name": "Python 3 (ipykernel)",
   "language": "python",
   "name": "python3"
  },
  "language_info": {
   "codemirror_mode": {
    "name": "ipython",
    "version": 3
   },
   "file_extension": ".py",
   "mimetype": "text/x-python",
   "name": "python",
   "nbconvert_exporter": "python",
   "pygments_lexer": "ipython3",
   "version": "3.9.12"
  }
 },
 "nbformat": 4,
 "nbformat_minor": 5
}
