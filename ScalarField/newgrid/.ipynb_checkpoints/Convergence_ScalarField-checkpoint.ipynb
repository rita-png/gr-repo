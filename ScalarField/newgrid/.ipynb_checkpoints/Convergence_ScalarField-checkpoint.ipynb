{
 "cells": [
  {
   "cell_type": "code",
   "execution_count": 1,
   "id": "306b8ccb",
   "metadata": {},
   "outputs": [],
   "source": [
    "import pandas as pd\n",
    "import numpy as np\n",
    "import os\n",
    "import math\n",
    "import matplotlib as mpl\n",
    "import matplotlib.pyplot as plt\n",
    "import numpy as np\n",
    "from matplotlib import style\n",
    "\n",
    "import scipy\n",
    "import numpy as np\n",
    "from scipy import interpolate\n",
    "from io import StringIO"
   ]
  },
  {
   "cell_type": "markdown",
   "id": "7d60e115",
   "metadata": {},
   "source": [
    "# Reading data for 3 resolutions"
   ]
  },
  {
   "cell_type": "markdown",
   "id": "cabf0ae0",
   "metadata": {},
   "source": [
    "Muninn format"
   ]
  },
  {
   "cell_type": "code",
   "execution_count": 34,
   "id": "9f4cb2fa",
   "metadata": {},
   "outputs": [
    {
     "name": "stdout",
     "output_type": "stream",
     "text": [
      "/home/rita13santos/Desktop/res1/m.txt\n",
      "/home/rita13santos/Desktop/res1/beta.txt\n",
      "/home/rita13santos/Desktop/res1/psi.txt\n",
      "/home/rita13santos/Desktop/res1/derpsi.txt\n",
      "/home/rita13santos/Desktop/res2/m.txt\n",
      "/home/rita13santos/Desktop/res2/beta.txt\n",
      "/home/rita13santos/Desktop/res2/psi.txt\n",
      "/home/rita13santos/Desktop/res2/derpsi.txt\n",
      "/home/rita13santos/Desktop/res3/m.txt\n",
      "/home/rita13santos/Desktop/res3/beta.txt\n",
      "/home/rita13santos/Desktop/res3/psi.txt\n",
      "/home/rita13santos/Desktop/res3/derpsi.txt\n"
     ]
    }
   ],
   "source": [
    "datatime=[]\n",
    "datagrid=[]\n",
    "datam=[]\n",
    "databeta=[]\n",
    "datapsi=[]\n",
    "dataderpsi=[]\n",
    "vars=[\"m\", \"beta\", \"psi\", \"derpsi\"]\n",
    "res=[1,2,3]\n",
    "for resolution in res:\n",
    "\n",
    "\n",
    "    time=[]\n",
    "    grid=[]\n",
    "    m=[]\n",
    "    beta=[]\n",
    "    psi=[]\n",
    "    derpsi=[]\n",
    "    k=1\n",
    "\n",
    "    for var in vars:\n",
    "        #dir = \"/home/rita13santos/Desktop/MSc Thesis/Git/ScalarField/DATA/muninnDATA/res{}/{}.txt\".format(resolution,var)\n",
    "        dir = \"/home/rita13santos/Desktop/res{}/{}.txt\".format(resolution,var)\n",
    "    \n",
    "    \n",
    "        print(dir)\n",
    "\n",
    "        with open(dir) as f:\n",
    "            for line in f:\n",
    "\n",
    "                index = line.find(\"Time\")\n",
    "                if index==1:\n",
    "                    if k==1:\n",
    "                        time.append(float(line[index+7:len(line)-1]))\n",
    "                    auxgrid=[]\n",
    "                    auxdata=[]\n",
    "                \n",
    "\n",
    "                else:\n",
    "                    a=line.split()\n",
    "                    if a!=[]:\n",
    "                        if k==1:\n",
    "                            auxgrid.append(float(a[0]))\n",
    "                        auxdata.append(float(a[1]))\n",
    "                    elif a==[]:\n",
    "                        grid.append(auxgrid)\n",
    "                        if k==1:\n",
    "                            m.append(auxdata)\n",
    "                        elif k==2:\n",
    "                            beta.append(auxdata)\n",
    "                        elif k==3:\n",
    "                            psi.append(auxdata)\n",
    "                        elif k==4:\n",
    "                            derpsi.append(auxdata)\n",
    "                    \n",
    "        k=k+1\n",
    "\n",
    "\n",
    "    datatime.append(time)\n",
    "    datagrid.append(grid)\n",
    "    datam.append(m)\n",
    "    databeta.append(beta)\n",
    "    datapsi.append(psi)\n",
    "    dataderpsi.append(derpsi)\n",
    "#count=len(datatime[2])+1\n",
    "#count"
   ]
  },
  {
   "cell_type": "code",
   "execution_count": 35,
   "id": "4ac74448",
   "metadata": {},
   "outputs": [
    {
     "name": "stdout",
     "output_type": "stream",
     "text": [
      "51\n",
      "51\n",
      "51\n",
      "51\n"
     ]
    }
   ],
   "source": [
    "print(len(datam[0]))\n",
    "print(len(databeta[0]))\n",
    "print(len(datapsi[0]))\n",
    "print(len(dataderpsi[0]))"
   ]
  },
  {
   "cell_type": "code",
   "execution_count": 36,
   "id": "3339aeb8",
   "metadata": {},
   "outputs": [
    {
     "name": "stdout",
     "output_type": "stream",
     "text": [
      "0.0\n"
     ]
    }
   ],
   "source": [
    "print(datam[0][0][1]) # datam indexes give res, time then gridpoint"
   ]
  },
  {
   "cell_type": "code",
   "execution_count": 37,
   "id": "1b11caa7",
   "metadata": {},
   "outputs": [],
   "source": [
    "L=len(datam[0][0])-6 # grid length without the ghostpoints\n",
    "dx=datagrid[0][0][1]-datagrid[0][0][0]"
   ]
  },
  {
   "cell_type": "code",
   "execution_count": 38,
   "id": "ee19cabc",
   "metadata": {},
   "outputs": [
    {
     "data": {
      "text/plain": [
       "[<matplotlib.lines.Line2D at 0x7fe812d2dca0>]"
      ]
     },
     "execution_count": 38,
     "metadata": {},
     "output_type": "execute_result"
    },
    {
     "data": {
      "image/png": "[encoded data removed]",
      "text/plain": [
       "<Figure size 432x288 with 1 Axes>"
      ]
     },
     "metadata": {
      "needs_background": "light"
     },
     "output_type": "display_data"
    }
   ],
   "source": [
    "#plt_x1 = np.linspace(0, 1, L)\n",
    "#plt_x2 = np.linspace(0, 1, 2*L-1)\n",
    "#plt_x3 = np.linspace(0, 1, 4*L-3)\n",
    "t=0\n",
    "plt_x1 = datagrid[0][t][3:len(datagrid[0][0])-3]\n",
    "plt_x2 = datagrid[1][t*2][3:len(datagrid[1][0])-3]\n",
    "plt_x3 = datagrid[2][t*3][3:len(datagrid[2][0])-3]\n",
    "\n",
    "plt.plot(plt_x1,datam[0][0][3:len(datam[0][0])-3])\n",
    "#plt.plot(plt_x2,datam[1][0][3:len(datam[1][0])-3])\n",
    "#plt.plot(plt_x3,datam[2][0][3:len(datam[2][0])-3])"
   ]
  },
  {
   "cell_type": "markdown",
   "id": "0f7f8fb9",
   "metadata": {},
   "source": [
    "# Styling plots"
   ]
  },
  {
   "cell_type": "code",
   "execution_count": 100,
   "id": "953579ab",
   "metadata": {},
   "outputs": [
    {
     "data": {
      "text/plain": [
       "'import seaborn\\nseaborn.set_palette(\"Set2\")'"
      ]
     },
     "execution_count": 100,
     "metadata": {},
     "output_type": "execute_result"
    }
   ],
   "source": [
    "plt.rcParams.update({\n",
    "    'font.size': 12,\n",
    "    'legend.fontsize':12,\n",
    "    'xtick.labelsize': 'large',\n",
    "    'xtick.color': 'black',\n",
    "    'ytick.labelsize': 'large',\n",
    "    'ytick.color': 'black'})\n",
    "\"\"\"import seaborn\n",
    "seaborn.set_palette(\"Set2\")\"\"\""
   ]
  },
  {
   "cell_type": "code",
   "execution_count": 101,
   "id": "dcdb3fe9",
   "metadata": {},
   "outputs": [
    {
     "data": {
      "text/plain": [
       "KeysView(RcParams({'_internal.classic_mode': False,\n",
       "          'agg.path.chunksize': 0,\n",
       "          'animation.bitrate': -1,\n",
       "          'animation.codec': 'h264',\n",
       "          'animation.convert_args': [],\n",
       "          'animation.convert_path': 'convert',\n",
       "          'animation.embed_limit': 20.0,\n",
       "          'animation.ffmpeg_args': [],\n",
       "          'animation.ffmpeg_path': 'ffmpeg',\n",
       "          'animation.frame_format': 'png',\n",
       "          'animation.html': 'none',\n",
       "          'animation.writer': 'ffmpeg',\n",
       "          'axes.autolimit_mode': 'data',\n",
       "          'axes.axisbelow': 'line',\n",
       "          'axes.edgecolor': 'black',\n",
       "          'axes.facecolor': 'white',\n",
       "          'axes.formatter.limits': [-5, 6],\n",
       "          'axes.formatter.min_exponent': 0,\n",
       "          'axes.formatter.offset_threshold': 4,\n",
       "          'axes.formatter.use_locale': False,\n",
       "          'axes.formatter.use_mathtext': False,\n",
       "          'axes.formatter.useoffset': True,\n",
       "          'axes.grid': False,\n",
       "          'axes.grid.axis': 'both',\n",
       "          'axes.grid.which': 'major',\n",
       "          'axes.labelcolor': 'black',\n",
       "          'axes.labelpad': 4.0,\n",
       "          'axes.labelsize': 'medium',\n",
       "          'axes.labelweight': 'normal',\n",
       "          'axes.linewidth': 0.8,\n",
       "          'axes.prop_cycle': cycler('color', ['#1f77b4', '#ff7f0e', '#2ca02c', '#d62728', '#9467bd', '#8c564b', '#e377c2', '#7f7f7f', '#bcbd22', '#17becf']),\n",
       "          'axes.spines.bottom': True,\n",
       "          'axes.spines.left': True,\n",
       "          'axes.spines.right': True,\n",
       "          'axes.spines.top': True,\n",
       "          'axes.titlecolor': 'auto',\n",
       "          'axes.titlelocation': 'center',\n",
       "          'axes.titlepad': 6.0,\n",
       "          'axes.titlesize': 'xx-large',\n",
       "          'axes.titleweight': 'normal',\n",
       "          'axes.titley': None,\n",
       "          'axes.unicode_minus': True,\n",
       "          'axes.xmargin': 0.05,\n",
       "          'axes.ymargin': 0.05,\n",
       "          'axes.zmargin': 0.05,\n",
       "          'axes3d.grid': True,\n",
       "          'backend': 'module://matplotlib_inline.backend_inline',\n",
       "          'backend_fallback': True,\n",
       "          'boxplot.bootstrap': None,\n",
       "          'boxplot.boxprops.color': 'black',\n",
       "          'boxplot.boxprops.linestyle': '-',\n",
       "          'boxplot.boxprops.linewidth': 1.0,\n",
       "          'boxplot.capprops.color': 'black',\n",
       "          'boxplot.capprops.linestyle': '-',\n",
       "          'boxplot.capprops.linewidth': 1.0,\n",
       "          'boxplot.flierprops.color': 'black',\n",
       "          'boxplot.flierprops.linestyle': 'none',\n",
       "          'boxplot.flierprops.linewidth': 1.0,\n",
       "          'boxplot.flierprops.marker': 'o',\n",
       "          'boxplot.flierprops.markeredgecolor': 'black',\n",
       "          'boxplot.flierprops.markeredgewidth': 1.0,\n",
       "          'boxplot.flierprops.markerfacecolor': 'none',\n",
       "          'boxplot.flierprops.markersize': 6.0,\n",
       "          'boxplot.meanline': False,\n",
       "          'boxplot.meanprops.color': 'C2',\n",
       "          'boxplot.meanprops.linestyle': '--',\n",
       "          'boxplot.meanprops.linewidth': 1.0,\n",
       "          'boxplot.meanprops.marker': '^',\n",
       "          'boxplot.meanprops.markeredgecolor': 'C2',\n",
       "          'boxplot.meanprops.markerfacecolor': 'C2',\n",
       "          'boxplot.meanprops.markersize': 6.0,\n",
       "          'boxplot.medianprops.color': 'C1',\n",
       "          'boxplot.medianprops.linestyle': '-',\n",
       "          'boxplot.medianprops.linewidth': 1.0,\n",
       "          'boxplot.notch': False,\n",
       "          'boxplot.patchartist': False,\n",
       "          'boxplot.showbox': True,\n",
       "          'boxplot.showcaps': True,\n",
       "          'boxplot.showfliers': True,\n",
       "          'boxplot.showmeans': False,\n",
       "          'boxplot.vertical': True,\n",
       "          'boxplot.whiskerprops.color': 'black',\n",
       "          'boxplot.whiskerprops.linestyle': '-',\n",
       "          'boxplot.whiskerprops.linewidth': 1.0,\n",
       "          'boxplot.whiskers': 1.5,\n",
       "          'contour.corner_mask': True,\n",
       "          'contour.linewidth': None,\n",
       "          'contour.negative_linestyle': 'dashed',\n",
       "          'date.autoformatter.day': '%Y-%m-%d',\n",
       "          'date.autoformatter.hour': '%m-%d %H',\n",
       "          'date.autoformatter.microsecond': '%M:%S.%f',\n",
       "          'date.autoformatter.minute': '%d %H:%M',\n",
       "          'date.autoformatter.month': '%Y-%m',\n",
       "          'date.autoformatter.second': '%H:%M:%S',\n",
       "          'date.autoformatter.year': '%Y',\n",
       "          'date.converter': 'auto',\n",
       "          'date.epoch': '1970-01-01T00:00:00',\n",
       "          'date.interval_multiples': True,\n",
       "          'docstring.hardcopy': False,\n",
       "          'errorbar.capsize': 0.0,\n",
       "          'figure.autolayout': False,\n",
       "          'figure.constrained_layout.h_pad': 0.04167,\n",
       "          'figure.constrained_layout.hspace': 0.02,\n",
       "          'figure.constrained_layout.use': False,\n",
       "          'figure.constrained_layout.w_pad': 0.04167,\n",
       "          'figure.constrained_layout.wspace': 0.02,\n",
       "          'figure.dpi': 72.0,\n",
       "          'figure.edgecolor': (1, 1, 1, 0),\n",
       "          'figure.facecolor': (1, 1, 1, 0),\n",
       "          'figure.figsize': [6.0, 4.0],\n",
       "          'figure.frameon': True,\n",
       "          'figure.max_open_warning': 20,\n",
       "          'figure.raise_window': True,\n",
       "          'figure.subplot.bottom': 0.125,\n",
       "          'figure.subplot.hspace': 0.2,\n",
       "          'figure.subplot.left': 0.125,\n",
       "          'figure.subplot.right': 0.9,\n",
       "          'figure.subplot.top': 0.88,\n",
       "          'figure.subplot.wspace': 0.2,\n",
       "          'figure.titlesize': 'large',\n",
       "          'figure.titleweight': 'normal',\n",
       "          'font.cursive': ['Apple Chancery',\n",
       "                           'Textile',\n",
       "                           'Zapf Chancery',\n",
       "                           'Sand',\n",
       "                           'Script MT',\n",
       "                           'Felipa',\n",
       "                           'Comic Neue',\n",
       "                           'Comic Sans MS',\n",
       "                           'cursive'],\n",
       "          'font.family': ['sans-serif'],\n",
       "          'font.fantasy': ['Chicago',\n",
       "                           'Charcoal',\n",
       "                           'Impact',\n",
       "                           'Western',\n",
       "                           'Humor Sans',\n",
       "                           'xkcd',\n",
       "                           'fantasy'],\n",
       "          'font.monospace': ['DejaVu Sans Mono',\n",
       "                             'Bitstream Vera Sans Mono',\n",
       "                             'Computer Modern Typewriter',\n",
       "                             'Andale Mono',\n",
       "                             'Nimbus Mono L',\n",
       "                             'Courier New',\n",
       "                             'Courier',\n",
       "                             'Fixed',\n",
       "                             'Terminal',\n",
       "                             'monospace'],\n",
       "          'font.sans-serif': ['DejaVu Sans',\n",
       "                              'Bitstream Vera Sans',\n",
       "                              'Computer Modern Sans Serif',\n",
       "                              'Lucida Grande',\n",
       "                              'Verdana',\n",
       "                              'Geneva',\n",
       "                              'Lucid',\n",
       "                              'Arial',\n",
       "                              'Helvetica',\n",
       "                              'Avant Garde',\n",
       "                              'sans-serif'],\n",
       "          'font.serif': ['DejaVu Serif',\n",
       "                         'Bitstream Vera Serif',\n",
       "                         'Computer Modern Roman',\n",
       "                         'New Century Schoolbook',\n",
       "                         'Century Schoolbook L',\n",
       "                         'Utopia',\n",
       "                         'ITC Bookman',\n",
       "                         'Bookman',\n",
       "                         'Nimbus Roman No9 L',\n",
       "                         'Times New Roman',\n",
       "                         'Times',\n",
       "                         'Palatino',\n",
       "                         'Charter',\n",
       "                         'serif'],\n",
       "          'font.size': 12.0,\n",
       "          'font.stretch': 'normal',\n",
       "          'font.style': 'normal',\n",
       "          'font.variant': 'normal',\n",
       "          'font.weight': 'normal',\n",
       "          'grid.alpha': 1.0,\n",
       "          'grid.color': '#b0b0b0',\n",
       "          'grid.linestyle': '-',\n",
       "          'grid.linewidth': 0.8,\n",
       "          'hatch.color': 'black',\n",
       "          'hatch.linewidth': 1.0,\n",
       "          'hist.bins': 10,\n",
       "          'image.aspect': 'equal',\n",
       "          'image.cmap': 'viridis',\n",
       "          'image.composite_image': True,\n",
       "          'image.interpolation': 'antialiased',\n",
       "          'image.lut': 256,\n",
       "          'image.origin': 'upper',\n",
       "          'image.resample': True,\n",
       "          'interactive': True,\n",
       "          'keymap.back': ['left', 'c', 'backspace', 'MouseButton.BACK'],\n",
       "          'keymap.copy': ['ctrl+c', 'cmd+c'],\n",
       "          'keymap.forward': ['right', 'v', 'MouseButton.FORWARD'],\n",
       "          'keymap.fullscreen': ['f', 'ctrl+f'],\n",
       "          'keymap.grid': ['g'],\n",
       "          'keymap.grid_minor': ['G'],\n",
       "          'keymap.help': ['f1'],\n",
       "          'keymap.home': ['h', 'r', 'home'],\n",
       "          'keymap.pan': ['p'],\n",
       "          'keymap.quit': ['ctrl+w', 'cmd+w', 'q'],\n",
       "          'keymap.quit_all': [],\n",
       "          'keymap.save': ['s', 'ctrl+s'],\n",
       "          'keymap.xscale': ['k', 'L'],\n",
       "          'keymap.yscale': ['l'],\n",
       "          'keymap.zoom': ['o'],\n",
       "          'legend.borderaxespad': 0.5,\n",
       "          'legend.borderpad': 0.4,\n",
       "          'legend.columnspacing': 2.0,\n",
       "          'legend.edgecolor': '0.8',\n",
       "          'legend.facecolor': 'inherit',\n",
       "          'legend.fancybox': True,\n",
       "          'legend.fontsize': 12.0,\n",
       "          'legend.framealpha': 0.8,\n",
       "          'legend.frameon': True,\n",
       "          'legend.handleheight': 0.7,\n",
       "          'legend.handlelength': 2.0,\n",
       "          'legend.handletextpad': 0.8,\n",
       "          'legend.labelcolor': 'None',\n",
       "          'legend.labelspacing': 0.5,\n",
       "          'legend.loc': 'best',\n",
       "          'legend.markerscale': 1.0,\n",
       "          'legend.numpoints': 1,\n",
       "          'legend.scatterpoints': 1,\n",
       "          'legend.shadow': False,\n",
       "          'legend.title_fontsize': None,\n",
       "          'lines.antialiased': True,\n",
       "          'lines.color': 'C0',\n",
       "          'lines.dash_capstyle': <CapStyle.butt: 'butt'>,\n",
       "          'lines.dash_joinstyle': <JoinStyle.round: 'round'>,\n",
       "          'lines.dashdot_pattern': [6.4, 1.6, 1.0, 1.6],\n",
       "          'lines.dashed_pattern': [3.7, 1.6],\n",
       "          'lines.dotted_pattern': [1.0, 1.65],\n",
       "          'lines.linestyle': '-',\n",
       "          'lines.linewidth': 1.5,\n",
       "          'lines.marker': 'None',\n",
       "          'lines.markeredgecolor': 'auto',\n",
       "          'lines.markeredgewidth': 1.0,\n",
       "          'lines.markerfacecolor': 'auto',\n",
       "          'lines.markersize': 6.0,\n",
       "          'lines.scale_dashes': True,\n",
       "          'lines.solid_capstyle': <CapStyle.projecting: 'projecting'>,\n",
       "          'lines.solid_joinstyle': <JoinStyle.round: 'round'>,\n",
       "          'markers.fillstyle': 'full',\n",
       "          'mathtext.bf': 'sans:bold',\n",
       "          'mathtext.cal': 'cursive',\n",
       "          'mathtext.default': 'it',\n",
       "          'mathtext.fallback': 'cm',\n",
       "          'mathtext.fontset': 'dejavusans',\n",
       "          'mathtext.it': 'sans:italic',\n",
       "          'mathtext.rm': 'sans',\n",
       "          'mathtext.sf': 'sans',\n",
       "          'mathtext.tt': 'monospace',\n",
       "          'patch.antialiased': True,\n",
       "          'patch.edgecolor': 'black',\n",
       "          'patch.facecolor': 'C0',\n",
       "          'patch.force_edgecolor': False,\n",
       "          'patch.linewidth': 1.0,\n",
       "          'path.effects': [],\n",
       "          'path.simplify': True,\n",
       "          'path.simplify_threshold': 0.111111111111,\n",
       "          'path.sketch': None,\n",
       "          'path.snap': True,\n",
       "          'pcolor.shading': 'auto',\n",
       "          'pcolormesh.snap': True,\n",
       "          'pdf.compression': 6,\n",
       "          'pdf.fonttype': 3,\n",
       "          'pdf.inheritcolor': False,\n",
       "          'pdf.use14corefonts': False,\n",
       "          'pgf.preamble': '',\n",
       "          'pgf.rcfonts': True,\n",
       "          'pgf.texsystem': 'xelatex',\n",
       "          'polaraxes.grid': True,\n",
       "          'ps.distiller.res': 6000,\n",
       "          'ps.fonttype': 3,\n",
       "          'ps.papersize': 'letter',\n",
       "          'ps.useafm': False,\n",
       "          'ps.usedistiller': None,\n",
       "          'savefig.bbox': None,\n",
       "          'savefig.directory': '~',\n",
       "          'savefig.dpi': 'figure',\n",
       "          'savefig.edgecolor': 'auto',\n",
       "          'savefig.facecolor': 'auto',\n",
       "          'savefig.format': 'png',\n",
       "          'savefig.orientation': 'portrait',\n",
       "          'savefig.pad_inches': 0.1,\n",
       "          'savefig.transparent': False,\n",
       "          'scatter.edgecolors': 'face',\n",
       "          'scatter.marker': 'o',\n",
       "          'svg.fonttype': 'path',\n",
       "          'svg.hashsalt': None,\n",
       "          'svg.image_inline': True,\n",
       "          'text.antialiased': True,\n",
       "          'text.color': 'black',\n",
       "          'text.hinting': 'force_autohint',\n",
       "          'text.hinting_factor': 8,\n",
       "          'text.kerning_factor': 0,\n",
       "          'text.latex.preamble': '',\n",
       "          'text.usetex': False,\n",
       "          'timezone': 'UTC',\n",
       "          'tk.window_focus': False,\n",
       "          'toolbar': 'toolbar2',\n",
       "          'webagg.address': '127.0.0.1',\n",
       "          'webagg.open_in_browser': True,\n",
       "          'webagg.port': 8988,\n",
       "          'webagg.port_retries': 50,\n",
       "          'xaxis.labellocation': 'center',\n",
       "          'xtick.alignment': 'center',\n",
       "          'xtick.bottom': True,\n",
       "          'xtick.color': 'black',\n",
       "          'xtick.direction': 'out',\n",
       "          'xtick.labelbottom': True,\n",
       "          'xtick.labelcolor': 'inherit',\n",
       "          'xtick.labelsize': 'large',\n",
       "          'xtick.labeltop': False,\n",
       "          'xtick.major.bottom': True,\n",
       "          'xtick.major.pad': 3.5,\n",
       "          'xtick.major.size': 3.5,\n",
       "          'xtick.major.top': True,\n",
       "          'xtick.major.width': 0.8,\n",
       "          'xtick.minor.bottom': True,\n",
       "          'xtick.minor.pad': 3.4,\n",
       "          'xtick.minor.size': 2.0,\n",
       "          'xtick.minor.top': True,\n",
       "          'xtick.minor.visible': False,\n",
       "          'xtick.minor.width': 0.6,\n",
       "          'xtick.top': False,\n",
       "          'yaxis.labellocation': 'center',\n",
       "          'ytick.alignment': 'center_baseline',\n",
       "          'ytick.color': 'black',\n",
       "          'ytick.direction': 'out',\n",
       "          'ytick.labelcolor': 'inherit',\n",
       "          'ytick.labelleft': True,\n",
       "          'ytick.labelright': False,\n",
       "          'ytick.labelsize': 'large',\n",
       "          'ytick.left': True,\n",
       "          'ytick.major.left': True,\n",
       "          'ytick.major.pad': 3.5,\n",
       "          'ytick.major.right': True,\n",
       "          'ytick.major.size': 3.5,\n",
       "          'ytick.major.width': 0.8,\n",
       "          'ytick.minor.left': True,\n",
       "          'ytick.minor.pad': 3.4,\n",
       "          'ytick.minor.right': True,\n",
       "          'ytick.minor.size': 2.0,\n",
       "          'ytick.minor.visible': False,\n",
       "          'ytick.minor.width': 0.6,\n",
       "          'ytick.right': False}))"
      ]
     },
     "execution_count": 101,
     "metadata": {},
     "output_type": "execute_result"
    }
   ],
   "source": [
    "plt.rcParams.keys()"
   ]
  },
  {
   "cell_type": "markdown",
   "id": "52719f95",
   "metadata": {},
   "source": [
    "# Plotting data with resolutions 1 and 2 and differences "
   ]
  },
  {
   "cell_type": "code",
   "execution_count": 102,
   "id": "84d69697",
   "metadata": {},
   "outputs": [
    {
     "data": {
      "image/png": "[encoded data removed]",
      "text/plain": [
       "<Figure size 432x288 with 1 Axes>"
      ]
     },
     "metadata": {
      "needs_background": "light"
     },
     "output_type": "display_data"
    }
   ],
   "source": [
    "# for given t\n",
    "t1=0 #last timestep\n",
    "t2=2*t1\n",
    "t3=4*t1\n",
    "auxm = []\n",
    "auxbeta = []\n",
    "auxpsi = []\n",
    "auxderpsi = []\n",
    "auxgrid = []\n",
    "\n",
    "for i in range(len(datam[1][t2])):#iterate on the grid with higher resolution\n",
    "    if ((i>2) and (i < (len(datam[1][t2])-3)) and ((i%2)!=0)): #ignoring ghost points\n",
    "        auxm.append(datam[1][t2][i])\n",
    "        auxbeta.append(databeta[1][t2][i])\n",
    "        auxpsi.append(datapsi[1][t2][i])\n",
    "        auxderpsi.append(dataderpsi[1][t2][i])\n",
    "        auxgrid.append(datagrid[1][t2][i])\n",
    "        #print(datam[1][0][i])\n",
    "\n",
    "        \n",
    "# array for all diff_m_2_1 diff_beta_2_1 diff_psi_2_1 diff_derpsi_2_1\n",
    "diffs_2_1 = []\n",
    "\n",
    "#subtracting f in both resolutions & ignoring ghost points\n",
    "diffs_2_1.append(np.subtract(datam[0][t1][3:len(datam[0][t1])-3],auxm))\n",
    "diffs_2_1.append(np.subtract(databeta[0][t1][3:len(databeta[0][t1])-3],auxbeta))\n",
    "diffs_2_1.append(np.subtract(datapsi[0][t1][3:len(datapsi[0][t1])-3],auxpsi))\n",
    "diffs_2_1.append(np.subtract(dataderpsi[0][t1][3:len(dataderpsi[0][t1])-3],auxderpsi))\n",
    "diffs_2_1.append(np.subtract(datagrid[0][t1][3:len(datagrid[0][t1])-3],auxgrid))\n",
    "\n",
    "with plt.style.context('bmh'):\n",
    "    plt.plot(plt_x1, diffs_2_1[0], label = 'res2-res1 of m')\n",
    "\n",
    "plt.legend()\n",
    "plt.xlabel('x')\n",
    "plt.ylabel('m2(x)-m1(x)')\n",
    "plt.show()"
   ]
  },
  {
   "cell_type": "markdown",
   "id": "f055fd26",
   "metadata": {},
   "source": [
    "# Pointwise convergence tests: plots for thesis project report "
   ]
  },
  {
   "cell_type": "code",
   "execution_count": 103,
   "id": "bee07068",
   "metadata": {},
   "outputs": [
    {
     "data": {
      "image/png": "[encoded data removed]",
      "text/plain": [
       "<Figure size 1080x720 with 4 Axes>"
      ]
     },
     "metadata": {
      "needs_background": "light"
     },
     "output_type": "display_data"
    }
   ],
   "source": [
    "# for given t\n",
    "\n",
    "aux2m = []\n",
    "aux2beta = []\n",
    "aux2psi = []\n",
    "aux2derpsi = []\n",
    "aux2grid = []\n",
    "for i in range(len(datam[2][t3])):#iterate on the grid with higher resolution\n",
    "    if ((i>2) and (i < (len(datam[2][t3])-3)) and (((i+1)%4)==0)): #ignoring ghost points\n",
    "        aux2m.append(datam[2][t3][i])\n",
    "        aux2beta.append(databeta[2][t3][i])\n",
    "        aux2psi.append(datapsi[2][t3][i])\n",
    "        aux2derpsi.append(dataderpsi[2][t3][i])\n",
    "        aux2grid.append(datagrid[2][t3][i])\n",
    "        \n",
    "\n",
    "\n",
    "#subtracting m beta psi and derpsi in both resolutions & ignoring ghost points\n",
    "diffs_4_2 =[]\n",
    "diffs_4_2.append(np.subtract(auxm,aux2m))\n",
    "diffs_4_2.append(np.subtract(auxbeta,aux2beta))\n",
    "diffs_4_2.append(np.subtract(auxpsi,aux2psi))\n",
    "diffs_4_2.append(np.subtract(auxderpsi,aux2derpsi))\n",
    "diffs_4_2.append(np.subtract(auxgrid,aux2grid))\n",
    "\n",
    "with plt.style.context('seaborn-muted'):\n",
    "    \n",
    "    \n",
    "    fig, ax = plt.subplots(2, 2,figsize=(15, 10))\n",
    "\n",
    "    ax[0][0].plot(plt_x1, (diffs_2_1[0]), label='Res1-res2 of m')\n",
    "    ax[0][0].plot(plt_x1, (diffs_4_2[0])*4, label='Res4-res2 * 16 of m')\n",
    "    ax[0][0].legend()\n",
    "    \n",
    "    ax[0][1].plot(plt_x1, (diffs_2_1[1]), label='Res1-res2 of beta')\n",
    "    ax[0][1].plot(plt_x1, (diffs_4_2[1])*4, label='Res4-res2 *16 of beta')\n",
    "    #ax[0][1].set_xlim([0, 0.00015])\n",
    "    #ax[0][1].set_ylim([0, 1*10**(-11)])\n",
    "    ax[0][1].legend()\n",
    "    \n",
    "    ax[1][0].plot(plt_x1, (diffs_2_1[2]), label='Res1-res2 of psi')\n",
    "    ax[1][0].plot(plt_x1, (diffs_4_2[2])*4, label='Res4-res2 * 16 of psi')\n",
    "    ax[1][0].set_xlim([0, 1])\n",
    "    ax[1][0].legend()\n",
    "    \n",
    "    ax[1][1].plot(plt_x1, (diffs_2_1[3]), label='Res1-res2 of derpsi')\n",
    "    ax[1][1].plot(plt_x1, (diffs_4_2[3])*4, label='Res4-res2 * 16 of derpsi')\n",
    "    #ax[1][1].set_xlim([0, 0.2])\n",
    "    #ax[1][1].set_ylim([0, 0.5*10**(-9)])\n",
    "    ax[1][1].legend()\n",
    "    \n",
    "    \"\"\"ax[1][1].plot(plt_x1, abs(diffs_2_1[4]), label='Res1-res2 of spline derivative')\n",
    "    ax[1][1].plot(plt_x1, abs(diffs_4_2[4])*16, label='Res4-res2 * 16 of spline derivative')\n",
    "    #ax[1][1].set_xlim([0, 0.2])\n",
    "    #ax[1][1].set_ylim([0, 0.5*10**(-9)])\n",
    "    ax[1][1].legend()\"\"\"\n",
    "\n",
    "plt.legend()\n",
    "plt.show()\n",
    "\n"
   ]
  },
  {
   "cell_type": "code",
   "execution_count": 104,
   "id": "e42f6a1c",
   "metadata": {},
   "outputs": [
    {
     "data": {
      "text/plain": [
       "['Solarize_Light2',\n",
       " '_classic_test_patch',\n",
       " '_mpl-gallery',\n",
       " '_mpl-gallery-nogrid',\n",
       " 'bmh',\n",
       " 'classic',\n",
       " 'dark_background',\n",
       " 'fast',\n",
       " 'fivethirtyeight',\n",
       " 'ggplot',\n",
       " 'grayscale',\n",
       " 'seaborn',\n",
       " 'seaborn-bright',\n",
       " 'seaborn-colorblind',\n",
       " 'seaborn-dark',\n",
       " 'seaborn-dark-palette',\n",
       " 'seaborn-darkgrid',\n",
       " 'seaborn-deep',\n",
       " 'seaborn-muted',\n",
       " 'seaborn-notebook',\n",
       " 'seaborn-paper',\n",
       " 'seaborn-pastel',\n",
       " 'seaborn-poster',\n",
       " 'seaborn-talk',\n",
       " 'seaborn-ticks',\n",
       " 'seaborn-white',\n",
       " 'seaborn-whitegrid',\n",
       " 'tableau-colorblind10']"
      ]
     },
     "execution_count": 104,
     "metadata": {},
     "output_type": "execute_result"
    }
   ],
   "source": [
    "style.available"
   ]
  },
  {
   "cell_type": "markdown",
   "id": "4719f319",
   "metadata": {},
   "source": [
    "# L2 norm convergence tests"
   ]
  },
  {
   "cell_type": "code",
   "execution_count": 105,
   "id": "af1473d0",
   "metadata": {},
   "outputs": [
    {
     "name": "stdout",
     "output_type": "stream",
     "text": [
      "m convergence factor:\n",
      "2.4356215181410534\n",
      "\n",
      "beta convergence factor:\n",
      "2.3109259849753157\n",
      "\n",
      "psi convergence factor:\n",
      "2.012178488827314\n",
      "\n",
      "derpsi convergence factor:\n",
      "nan\n",
      "\n"
     ]
    },
    {
     "name": "stderr",
     "output_type": "stream",
     "text": [
      "/tmp/ipykernel_12847/4260290787.py:29: RuntimeWarning: invalid value encountered in double_scalars\n",
      "  print(math.log2(norm_low_med[3]/norm_med_high[3]))\n"
     ]
    }
   ],
   "source": [
    "#for the first time step\n",
    "\n",
    "norm_low_med = []\n",
    "norm_med_high = []\n",
    "\n",
    "for j in range(5):\n",
    "    a = 0\n",
    "    b = 0\n",
    "    for i in diffs_2_1[j]:\n",
    "        a += i**2\n",
    "    for i in diffs_4_2[j]:\n",
    "        b += i**2\n",
    "    norm_low_med.append(np.sqrt(a))\n",
    "    norm_med_high.append(np.sqrt(b))\n",
    "\n",
    "print(\"m convergence factor:\")\n",
    "print(math.log2(norm_low_med[0]/norm_med_high[0]))\n",
    "print(\"\")\n",
    "\n",
    "print(\"beta convergence factor:\")\n",
    "print(math.log2(norm_low_med[1]/norm_med_high[1]))\n",
    "print(\"\")\n",
    "\n",
    "print(\"psi convergence factor:\")\n",
    "print(math.log2(norm_low_med[2]/norm_med_high[2]))\n",
    "print(\"\")\n",
    "\n",
    "print(\"derpsi convergence factor:\")\n",
    "print(math.log2(norm_low_med[3]/norm_med_high[3]))\n",
    "print(\"\")\n"
   ]
  },
  {
   "cell_type": "markdown",
   "id": "c32c1b9a",
   "metadata": {},
   "source": [
    "# Q(t)"
   ]
  },
  {
   "cell_type": "code",
   "execution_count": 106,
   "id": "8cb96077",
   "metadata": {},
   "outputs": [],
   "source": [
    "final_t=len(datatime[2])"
   ]
  },
  {
   "cell_type": "code",
   "execution_count": 109,
   "id": "20a46205",
   "metadata": {},
   "outputs": [
    {
     "name": "stderr",
     "output_type": "stream",
     "text": [
      "/tmp/ipykernel_12847/4287876876.py:86: RuntimeWarning: invalid value encountered in double_scalars\n",
      "  Q_derpsi.append(math.log2(norm_low_med[3]/norm_med_high[3]))\n"
     ]
    },
    {
     "data": {
      "image/png": "[encoded data removed]",
      "text/plain": [
       "<Figure size 720x360 with 2 Axes>"
      ]
     },
     "metadata": {},
     "output_type": "display_data"
    }
   ],
   "source": [
    "Q_m = []\n",
    "Q_beta = []\n",
    "Q_psi = []\n",
    "Q_derpsi = []\n",
    "Q= []\n",
    "\n",
    "\n",
    "for t in range(0,int(final_t/4)):\n",
    "    # for given t\n",
    "    t1=t #last timestep\n",
    "    t2=2*t1\n",
    "    t3=4*t1\n",
    "    auxm = []\n",
    "    auxbeta = []\n",
    "    auxpsi = []\n",
    "    auxderpsi = []\n",
    "\n",
    "    for i in range(len(datam[1][t2])):#iterate on the grid with higher resolution\n",
    "        if ((i>2) and (i < (len(datam[1][t2])-3)) and ((i%2)!=0)): #ignoring ghost points\n",
    "            auxm.append(datam[1][t2][i])\n",
    "            auxbeta.append(databeta[1][t2][i])\n",
    "            auxpsi.append(datapsi[1][t2][i])\n",
    "            auxderpsi.append(dataderpsi[1][t2][i])\n",
    "            #print(datam[1][0][i])\n",
    "\n",
    "\n",
    "    # array for all diff_m_2_1 diff_beta_2_1 diff_psi_2_1 diff_derpsi_2_1\n",
    "    diffs_2_1 = []\n",
    "\n",
    "    #subtracting f in both resolutions & ignoring ghost points\n",
    "    diffs_2_1.append(np.subtract(datam[0][t1][3:len(datam[0][t1])-3],auxm))\n",
    "    diffs_2_1.append(np.subtract(databeta[0][t1][3:len(databeta[0][t1])-3],auxbeta))\n",
    "    diffs_2_1.append(np.subtract(datapsi[0][t1][3:len(datapsi[0][t1])-3],auxpsi))\n",
    "    diffs_2_1.append(np.subtract(dataderpsi[0][t1][3:len(dataderpsi[0][t1])-3],auxderpsi))\n",
    "\n",
    "    # for given t\n",
    "\n",
    "    aux2m = []\n",
    "    aux2beta = []\n",
    "    aux2psi = []\n",
    "    aux2derpsi = []\n",
    "    for i in range(len(datam[2][t3])):#iterate on the grid with higher resolution\n",
    "        if ((i>2) and (i < (len(datam[2][t3])-3)) and (((i+1)%4)==0)): #ignoring ghost points\n",
    "            aux2m.append(datam[2][t3][i])\n",
    "            aux2beta.append(databeta[2][t3][i])\n",
    "            aux2psi.append(datapsi[2][t3][i])\n",
    "            aux2derpsi.append(dataderpsi[2][t3][i])\n",
    "\n",
    "\n",
    "\n",
    "    #subtracting m beta psi and derpsi in both resolutions & ignoring ghost points\n",
    "    diffs_4_2 =[]\n",
    "    diffs_4_2.append(np.subtract(auxm,aux2m))\n",
    "    diffs_4_2.append(np.subtract(auxbeta,aux2beta))\n",
    "    diffs_4_2.append(np.subtract(auxpsi,aux2psi))\n",
    "    diffs_4_2.append(np.subtract(auxderpsi,aux2derpsi))\n",
    "\n",
    "\n",
    "    ####\n",
    "\n",
    "    norm_low_med = []\n",
    "    norm_med_high = []\n",
    "    single_norm_low_med = []\n",
    "    single_norm_med_high = []\n",
    "    s_a=0\n",
    "    s_b=0\n",
    "\n",
    "    for j in range(4):\n",
    "        a = 0\n",
    "        b = 0\n",
    "        for i in diffs_2_1[j]:\n",
    "            a += i**2\n",
    "            s_a += i**2\n",
    "        for i in diffs_4_2[j]:\n",
    "            b += i**2\n",
    "            s_b += i**2\n",
    "        norm_low_med.append(np.sqrt(a))\n",
    "        norm_med_high.append(np.sqrt(b))\n",
    "\n",
    "    single_norm_low_med=np.sqrt(s_a)\n",
    "    single_norm_med_high=np.sqrt(s_b)\n",
    "    \n",
    "    Q_m.append(math.log2(norm_low_med[0]/norm_med_high[0]))\n",
    "    Q_beta.append(math.log2(norm_low_med[1]/norm_med_high[1]))\n",
    "    Q_psi.append(math.log2(norm_low_med[2]/norm_med_high[2]))\n",
    "    Q_derpsi.append(math.log2(norm_low_med[3]/norm_med_high[3]))\n",
    "    Q.append(math.log2(single_norm_low_med/single_norm_med_high))\n",
    "    ####\n",
    "    \n",
    "plt_x = np.linspace(0, 5.0, len(Q_m))\n",
    "#plt_x = np.linspace(0, int(final_t/4)*dx*step, int(final_t/4))\n",
    "with plt.style.context('ggplot'):\n",
    "    \n",
    "    fig, ax = plt.subplots(1, 2,figsize=(10, 5))\n",
    "    \n",
    "    ax[0].plot(plt_x, Q_m, label = '$Q_m$')\n",
    "    ax[0].plot(plt_x, Q_beta, label = '$Q_{\\\\beta}$')\n",
    "    ax[0].plot(plt_x, Q_psi, label = '$Q_{\\psi}$')\n",
    "    ax[0].plot(plt_x, Q_derpsi, label = '$Q_{\\psi,x}$')\n",
    "    ax[0].set_ylim([0,8])\n",
    "    ax[0].set_xlim([0,3.0])\n",
    "    ax[0].legend(loc =\"upper left\")\n",
    "    ax[0].set_xlabel('time')\n",
    "    ax[0].set_ylabel('Q(t)')\n",
    "    ax[0].set_title('Individual norms')\n",
    "    \n",
    "    \n",
    "    ax[1].plot(plt_x, Q, label = '$Q$')\n",
    "    ax[1].set_ylim([0,8])\n",
    "    ax[1].set_xlim([0,3.0])\n",
    "    ax[1].legend(loc =\"upper left\")\n",
    "    ax[1].set_title('Single norm')\n",
    "    #plt.xticks(rotation=45)\n",
    "    ax[1].set_xlabel('time')\n",
    "    ax[1].set_ylabel('Q(t)')\n",
    "\n",
    "plt.show()"
   ]
  },
  {
   "cell_type": "code",
   "execution_count": 108,
   "id": "aad82186",
   "metadata": {},
   "outputs": [
    {
     "data": {
      "text/plain": [
       "[2.4356215181410534,\n",
       " 1.376068149047719,\n",
       " 1.7574363805921485,\n",
       " 2.256698709962854,\n",
       " 2.3979360132670555,\n",
       " 2.4159011376469537,\n",
       " 2.393415668450053,\n",
       " 2.361032816559324,\n",
       " 2.328478384328649,\n",
       " 2.2879599221143296,\n",
       " 2.2115966693814557,\n",
       " 2.03511601230516,\n",
       " 1.6326376318148588,\n",
       " 1.0662026642313647,\n",
       " 0.7073678003778396,\n",
       " 0.4918620732942196,\n",
       " 0.3358005439798724,\n",
       " 0.5614547590562009,\n",
       " 0.876737180710299,\n",
       " 1.192537755821982,\n",
       " 1.4823322959657657,\n",
       " 1.7912876576422598,\n",
       " 2.1625043369198926,\n",
       " 2.644854611106444,\n",
       " 3.3409967727374092,\n",
       " 4.5879415693582075,\n",
       " 5.698156328886675,\n",
       " 5.076444122559617,\n",
       " 7.778523298630198,\n",
       " 6.388970900301556,\n",
       " 6.563843408678362,\n",
       " 7.444883216117019,\n",
       " 9.14799557789884,\n",
       " 10.182123796042138,\n",
       " 8.80315215976524,\n",
       " 8.547187796219136,\n",
       " 9.288147825239951,\n",
       " 10.808694159302679,\n",
       " 9.039278291488063,\n",
       " 8.788752508737092,\n",
       " 8.906933584064348,\n",
       " 9.231026689533216,\n",
       " 9.765809600468717,\n",
       " 10.66256754461866,\n",
       " 12.522329625812326,\n",
       " 12.358802113195427,\n",
       " 12.398579751118628,\n",
       " 11.389230057442305,\n",
       " 10.50104453804921,\n",
       " 10.124193699118402]"
      ]
     },
     "execution_count": 108,
     "metadata": {},
     "output_type": "execute_result"
    }
   ],
   "source": [
    "Q_m"
   ]
  },
  {
   "cell_type": "markdown",
   "id": "ecfb0aa0",
   "metadata": {},
   "source": [
    "# Pointwise convergence through time"
   ]
  },
  {
   "cell_type": "code",
   "execution_count": 15,
   "id": "b097c35f",
   "metadata": {},
   "outputs": [],
   "source": [
    "time_frame=range(0,int(final_t/4))\n",
    "pw_m_21 = []\n",
    "pw_m_42 = []\n",
    "pw_beta_21 = []\n",
    "pw_beta_42 = []\n",
    "pw_psi_21 = []\n",
    "pw_psi_42 = []\n",
    "pw_derpsi_21 = []\n",
    "pw_derpsi_42 = []\n",
    "\n",
    "for i in time_frame:\n",
    "    # for given t\n",
    "    t1=i #last timestep\n",
    "    t2=2*t1\n",
    "    t3=4*t1\n",
    "    auxm = []\n",
    "    auxbeta = []\n",
    "    auxpsi = []\n",
    "    auxderpsi = []\n",
    "    auxgrid = []\n",
    "\n",
    "    for i in range(len(datam[1][t2])):#iterate on the grid with higher resolution\n",
    "        if ((i>2) and (i < (len(datam[1][t2])-3)) and ((i%2)!=0)): #ignoring ghost points\n",
    "            auxm.append(datam[1][t2][i])\n",
    "            auxbeta.append(databeta[1][t2][i])\n",
    "            auxpsi.append(datapsi[1][t2][i])\n",
    "            auxderpsi.append(dataderpsi[1][t2][i])\n",
    "            auxgrid.append(datagrid[1][t2][i])\n",
    "            #print(datam[1][0][i])\n",
    "\n",
    "\n",
    "    # array for all diff_m_2_1 diff_beta_2_1 diff_psi_2_1 diff_derpsi_2_1\n",
    "    diffs_2_1 = []\n",
    "\n",
    "    #subtracting f in both resolutions & ignoring ghost points\n",
    "    diffs_2_1.append(np.subtract(datam[0][t1][3:len(datam[0][t1])-3],auxm))\n",
    "    diffs_2_1.append(np.subtract(databeta[0][t1][3:len(databeta[0][t1])-3],auxbeta))\n",
    "    diffs_2_1.append(np.subtract(datapsi[0][t1][3:len(datapsi[0][t1])-3],auxpsi))\n",
    "    diffs_2_1.append(np.subtract(dataderpsi[0][t1][3:len(dataderpsi[0][t1])-3],auxderpsi))\n",
    "    diffs_2_1.append(np.subtract(datagrid[0][t1][3:len(datagrid[0][t1])-3],auxgrid))\n",
    "\n",
    "    # for given t\n",
    "\n",
    "    aux2m = []\n",
    "    aux2beta = []\n",
    "    aux2psi = []\n",
    "    aux2derpsi = []\n",
    "    aux2grid = []\n",
    "    for i in range(len(datam[2][t3])):#iterate on the grid with higher resolution\n",
    "        if ((i>2) and (i < (len(datam[2][t3])-3)) and (((i+1)%4)==0)): #ignoring ghost points\n",
    "            aux2m.append(datam[2][t3][i])\n",
    "            aux2beta.append(databeta[2][t3][i])\n",
    "            aux2psi.append(datapsi[2][t3][i])\n",
    "            aux2derpsi.append(dataderpsi[2][t3][i])\n",
    "            aux2grid.append(datagrid[2][t3][i])\n",
    "\n",
    "\n",
    "\n",
    "    #subtracting m beta psi and derpsi in both resolutions & ignoring ghost points\n",
    "    diffs_4_2 =[]\n",
    "    diffs_4_2.append(np.subtract(auxm,aux2m))\n",
    "    diffs_4_2.append(np.subtract(auxbeta,aux2beta))\n",
    "    diffs_4_2.append(np.subtract(auxpsi,aux2psi))\n",
    "    diffs_4_2.append(np.subtract(auxderpsi,aux2derpsi))\n",
    "    diffs_4_2.append(np.subtract(auxgrid,aux2grid))\n",
    "\n",
    "    pw_m_21.append(abs(diffs_2_1[0]))\n",
    "    pw_m_42.append(abs(diffs_4_2[0])*16)\n",
    "    pw_beta_21.append(abs(diffs_2_1[1]))\n",
    "    pw_beta_42.append(abs(diffs_4_2[1])*16)\n",
    "    pw_psi_21.append(abs(diffs_2_1[2]))\n",
    "    pw_psi_42.append(abs(diffs_4_2[2])*16)\n",
    "    pw_derpsi_21.append(abs(diffs_2_1[3]))\n",
    "    pw_derpsi_42.append(abs(diffs_4_2[3])*16)"
   ]
  },
  {
   "cell_type": "code",
   "execution_count": 18,
   "id": "c632528a",
   "metadata": {},
   "outputs": [],
   "source": [
    "step=50;"
   ]
  },
  {
   "cell_type": "code",
   "execution_count": null,
   "id": "38f7be86",
   "metadata": {},
   "outputs": [],
   "source": [
    "from matplotlib import pyplot as plt\n",
    "import numpy as np\n",
    "from matplotlib.animation import FuncAnimation\n",
    "\n",
    "fig, ax = plt.subplots(2,2,figsize=(15, 10))\n",
    "for j in range(0,2):\n",
    "    for i in range(0,2):\n",
    "        ax[i][j].set_xlim(0, 1)\n",
    "        ax[i][j].grid()\n",
    "#2th\n",
    "ax[0][0].set_ylim(0, 2*10**(-9))\n",
    "ax[0][1].set_ylim(0, 10**(-8))\n",
    "ax[1][0].set_ylim(0, 10**(-7))\n",
    "ax[1][1].set_ylim(0, 5*10**(-7))\n",
    "#4th\n",
    "#ax[0][0].set_ylim(0, 2*10**(-11))\n",
    "#ax[0][1].set_ylim(0, 10**(-8))\n",
    "#ax[1][0].set_ylim(0, 10**(-9))\n",
    "#ax[1][1].set_ylim(0, 10**(-9))\n",
    "\n",
    "line1, = ax[0][0].plot([], [], lw = 3)\n",
    "line2, = ax[0][0].plot([], [], lw = 3)\n",
    "\n",
    "time_text = ax[0][0].text(0.5, 0.9, '', transform=ax[0][0].transAxes)\n",
    "\n",
    "line3, = ax[0][1].plot([], [], lw = 3)\n",
    "line4, = ax[0][1].plot([], [], lw = 3)\n",
    "\n",
    "line5, = ax[1][0].plot([], [], lw = 3)\n",
    "line6, = ax[1][0].plot([], [], lw = 3)\n",
    "\n",
    "line7, = ax[1][1].plot([], [], lw = 3)\n",
    "line8, = ax[1][1].plot([], [], lw = 3)\n",
    "\n",
    "\n",
    "def init():\n",
    "    line1.set_data([], [])\n",
    "    line2.set_data([], [])\n",
    "    time_text.set_text('')\n",
    "    return line1,line2,time_text\n",
    "\n",
    "def animate(i):\n",
    "    # m\n",
    "    x = plt_x1\n",
    "    y = pw_m_21[i]\n",
    "    y2 = pw_m_42[i]\n",
    "    line1.set_data(x, y)\n",
    "    line2.set_data(x, y2)\n",
    "    line1.set_label('m21')\n",
    "    line2.set_label('m42 *4')\n",
    "    ax[0][0].legend()\n",
    "    \n",
    "    # beta\n",
    "    x = plt_x1\n",
    "    y = pw_beta_21[i]\n",
    "    y2 = pw_beta_42[i]\n",
    "    line3.set_data(x, y)\n",
    "    line4.set_data(x, y2)\n",
    "    line3.set_label('beta21')\n",
    "    line4.set_label('beta42 *4')\n",
    "    ax[0][1].legend()\n",
    "    \n",
    "    # psi\n",
    "    x = plt_x1\n",
    "    y = pw_psi_21[i]\n",
    "    y2 = pw_psi_42[i]\n",
    "    line5.set_data(x, y)\n",
    "    line6.set_data(x, y2)\n",
    "    line5.set_label('psi21')\n",
    "    line6.set_label('psi42 *4')\n",
    "    ax[1][0].legend()\n",
    "    \n",
    "    # der psi\n",
    "    x = plt_x1\n",
    "    y = pw_derpsi_21[i]\n",
    "    y2 = pw_derpsi_42[i]\n",
    "    line7.set_data(x, y)\n",
    "    line8.set_data(x, y2)\n",
    "    line7.set_label('derpsi21')\n",
    "    line8.set_label('derpsi42 *16')\n",
    "    ax[1][1].legend()\n",
    "    \n",
    "    t=i*dx*step\n",
    "    time_text.set_text('time = %.3f' % t)\n",
    "    \n",
    "    return line1,line2,line3,line4,line5,line6,line7,line8,time_text\n",
    " \n",
    "\n",
    "anim = FuncAnimation(fig, animate,\n",
    "                    init_func = init,\n",
    "                    frames = len(time_frame),\n",
    "                    interval = 200,\n",
    "                    blit = False,repeat=False)\n",
    "\n",
    "anim.save('pointwise.gif',\n",
    "          writer = 'ffmpeg', fps = 2*4)"
   ]
  },
  {
   "cell_type": "markdown",
   "id": "fe4b37d7",
   "metadata": {},
   "source": [
    "# Changing grid and fixed timestep"
   ]
  },
  {
   "cell_type": "code",
   "execution_count": 85,
   "id": "8540013f",
   "metadata": {},
   "outputs": [
    {
     "data": {
      "image/png": "[encoded data removed]",
      "text/plain": [
       "<Figure size 432x288 with 1 Axes>"
      ]
     },
     "metadata": {
      "needs_background": "light"
     },
     "output_type": "display_data"
    }
   ],
   "source": [
    "import scipy\n",
    "# for given t\n",
    "t1=0 #last timestep\n",
    "t2=2*t1\n",
    "t3=4*t1\n",
    "\n",
    "spl_m = scipy.interpolate.splrep(datagrid[1][t2],datam[1][t2],k=4)\n",
    "spl_beta = scipy.interpolate.splrep(datagrid[1][t2],databeta[1][t2],k=4)\n",
    "spl_psi = scipy.interpolate.splrep(datagrid[1][t2],datapsi[1][t2],k=4)\n",
    "spl_derpsi = scipy.interpolate.splrep(datagrid[1][t2],dataderpsi[1][t2],k=4)\n",
    "\n",
    "#evaluate interpolation of data res2 on grid of res1\n",
    "m2 = scipy.interpolate.splev(datagrid[0][t1][3:len(datagrid[0][t1])-3],spl_m)\n",
    "beta2 = scipy.interpolate.splev(datagrid[0][t1][3:len(datagrid[0][t1])-3],spl_beta)\n",
    "psi2 = scipy.interpolate.splev(datagrid[0][t1][3:len(datagrid[0][t1])-3],spl_psi)\n",
    "derpsi2 = scipy.interpolate.splev(datagrid[0][t1][3:len(datagrid[0][t1])-3],spl_derpsi)\n",
    "        \n",
    "# array for all diff_m_2_1 diff_beta_2_1 diff_psi_2_1 diff_derpsi_2_1\n",
    "diffs_2_1 = []\n",
    "\n",
    "#subtracting f in both resolutions & ignoring ghost points\n",
    "diffs_2_1.append(np.subtract(datam[0][t1][3:len(datam[0][t1])-3],m2))\n",
    "diffs_2_1.append(np.subtract(databeta[0][t1][3:len(databeta[0][t1])-3],beta2))\n",
    "diffs_2_1.append(np.subtract(datapsi[0][t1][3:len(datapsi[0][t1])-3],psi2))\n",
    "diffs_2_1.append(np.subtract(dataderpsi[0][t1][3:len(dataderpsi[0][t1])-3],derpsi2))\n",
    "\n",
    "with plt.style.context('bmh'):\n",
    "    plt.plot(plt_x1, diffs_2_1[0], label = 'res2-res1 of m')\n",
    "\n",
    "plt.legend()\n",
    "plt.xlabel('x')\n",
    "plt.ylabel('m2(x)-m1(x)')\n",
    "plt.show()"
   ]
  },
  {
   "cell_type": "markdown",
   "id": "ff811217",
   "metadata": {},
   "source": [
    "### Pointwise convergence tests - Changing grid"
   ]
  },
  {
   "cell_type": "code",
   "execution_count": 86,
   "id": "4cc948c9",
   "metadata": {},
   "outputs": [
    {
     "data": {
      "image/png": "[encoded data removed]",
      "text/plain": [
       "<Figure size 1080x720 with 4 Axes>"
      ]
     },
     "metadata": {
      "needs_background": "light"
     },
     "output_type": "display_data"
    }
   ],
   "source": [
    "# for given t\n",
    "\n",
    "spl_m = scipy.interpolate.splrep(datagrid[2][t3],datam[2][t3],k=4)\n",
    "spl_beta = scipy.interpolate.splrep(datagrid[2][t3],databeta[2][t3],k=4)\n",
    "spl_psi = scipy.interpolate.splrep(datagrid[2][t3],datapsi[2][t3],k=4)\n",
    "spl_derpsi = scipy.interpolate.splrep(datagrid[2][t3],dataderpsi[2][t3],k=4)\n",
    "\n",
    "\n",
    "#evaluate interpolation of data res2 on grid of res1\n",
    "m3 = scipy.interpolate.splev(datagrid[0][t1][3:len(datagrid[0][t1])-3],spl_m)\n",
    "beta3 = scipy.interpolate.splev(datagrid[0][t1][3:len(datagrid[0][t1])-3],spl_beta)\n",
    "psi3 = scipy.interpolate.splev(datagrid[0][t1][3:len(datagrid[0][t1])-3],spl_psi)\n",
    "derpsi3 = scipy.interpolate.splev(datagrid[0][t1][3:len(datagrid[0][t1])-3],spl_derpsi)\n",
    "\n",
    "#subtracting m beta psi and derpsi in both resolutions & ignoring ghost points\n",
    "diffs_4_2 =[]\n",
    "diffs_4_2.append(np.subtract(m2,m3))\n",
    "diffs_4_2.append(np.subtract(beta2,beta3))\n",
    "diffs_4_2.append(np.subtract(psi2,psi3))\n",
    "diffs_4_2.append(np.subtract(derpsi2,derpsi3))\n",
    "\n",
    "plt_x1 = datagrid[0][t1][3:len(datagrid[0][t1])-3]\n",
    "\n",
    "with plt.style.context('bmh'):\n",
    "    \n",
    "    fig, ax = plt.subplots(2, 2,figsize=(15, 10))\n",
    "\n",
    "    ax[0][0].plot(plt_x1, abs(diffs_2_1[0]), label='Res1-res2 of m')\n",
    "    ax[0][0].plot(plt_x1, abs(diffs_4_2[0])*16, label='Res4-res2 * 16 of m')\n",
    "    ax[0][0].legend()\n",
    "    \n",
    "    ax[0][1].plot(plt_x1, abs(diffs_2_1[1]), label='Res1-res2 of beta')\n",
    "    ax[0][1].plot(plt_x1, abs(diffs_4_2[1])*16, label='Res4-res2 *16 of beta')\n",
    "    #ax[0][1].set_xlim([0, 0.05])\n",
    "    #ax[0][1].set_ylim([0, 1*10**(-11)])\n",
    "    ax[0][1].legend()\n",
    "    \n",
    "    ax[1][0].plot(plt_x1, abs(diffs_2_1[2]), label='Res1-res2 of psi')\n",
    "    ax[1][0].plot(plt_x1, abs(diffs_4_2[2])*16, label='Res4-res2 * 16 of psi')\n",
    "\n",
    "    ax[1][0].legend()\n",
    "    \n",
    "    ax[1][1].plot(plt_x1, abs(diffs_2_1[3]), label='Res1-res2 of derpsi')\n",
    "    ax[1][1].plot(plt_x1, abs(diffs_4_2[3])*16, label='Res4-res2 * 16 of derpsi')\n",
    "    #ax[1][1].set_xlim([0, 0.2])\n",
    "    #ax[1][1].set_ylim([0, 0.5*10**(-9)])\n",
    "    ax[1][1].legend()\n",
    "\n",
    "plt.legend()\n",
    "plt.show()\n",
    "\n"
   ]
  },
  {
   "cell_type": "markdown",
   "id": "a4084e48",
   "metadata": {},
   "source": [
    "### Q(t) - Changing grid"
   ]
  },
  {
   "cell_type": "code",
   "execution_count": 87,
   "id": "c01b2c6b",
   "metadata": {},
   "outputs": [],
   "source": [
    "Q_m = []\n",
    "Q_beta = []\n",
    "Q_psi = []\n",
    "Q_derpsi = []\n",
    "\n",
    "for t in range(0,int(final_t/4)):\n",
    "    # for given t\n",
    "    t1=t #last timestep\n",
    "    t2=2*t1\n",
    "    t3=4*t1\n",
    "    \n",
    "    ## diffs 2 1 ##\n",
    "    \n",
    "    spl_m = scipy.interpolate.splrep(datagrid[1][t2],datam[1][t2],k=4)\n",
    "    spl_beta = scipy.interpolate.splrep(datagrid[1][t2],databeta[1][t2],k=4)\n",
    "    spl_psi = scipy.interpolate.splrep(datagrid[1][t2],datapsi[1][t2],k=4)\n",
    "    spl_derpsi = scipy.interpolate.splrep(datagrid[1][t2],dataderpsi[1][t2],k=4)\n",
    "\n",
    "    #evaluate interpolation of data res2 on grid of res1\n",
    "    m2 = scipy.interpolate.splev(datagrid[0][t1][3:len(datagrid[0][t1])-3],spl_m)\n",
    "    beta2 = scipy.interpolate.splev(datagrid[0][t1][3:len(datagrid[0][t1])-3],spl_beta)\n",
    "    psi2 = scipy.interpolate.splev(datagrid[0][t1][3:len(datagrid[0][t1])-3],spl_psi)\n",
    "    derpsi2 = scipy.interpolate.splev(datagrid[0][t1][3:len(datagrid[0][t1])-3],spl_derpsi)\n",
    "\n",
    "    # array for all diff_m_2_1 diff_beta_2_1 diff_psi_2_1 diff_derpsi_2_1\n",
    "    diffs_2_1 = []\n",
    "\n",
    "    #subtracting f in both resolutions & ignoring ghost points\n",
    "    diffs_2_1.append(np.subtract(datam[0][t1][3:len(datam[0][t1])-3],m2))\n",
    "    diffs_2_1.append(np.subtract(databeta[0][t1][3:len(databeta[0][t1])-3],beta2))\n",
    "    diffs_2_1.append(np.subtract(datapsi[0][t1][3:len(datapsi[0][t1])-3],psi2))\n",
    "    diffs_2_1.append(np.subtract(dataderpsi[0][t1][3:len(dataderpsi[0][t1])-3],derpsi2))\n",
    "\n",
    "    ## diffs 4 2 ##\n",
    "\n",
    "    spl_m = scipy.interpolate.splrep(datagrid[2][t3],datam[2][t3],k=4)\n",
    "    spl_beta = scipy.interpolate.splrep(datagrid[2][t3],databeta[2][t3],k=4)\n",
    "    spl_psi = scipy.interpolate.splrep(datagrid[2][t3],datapsi[2][t3],k=4)\n",
    "    spl_derpsi = scipy.interpolate.splrep(datagrid[2][t3],dataderpsi[2][t3],k=4)\n",
    "\n",
    "\n",
    "    #evaluate interpolation of data res2 on grid of res1\n",
    "    m3 = scipy.interpolate.splev(datagrid[0][t1][3:len(datagrid[0][t1])-3],spl_m)\n",
    "    beta3 = scipy.interpolate.splev(datagrid[0][t1][3:len(datagrid[0][t1])-3],spl_beta)\n",
    "    psi3 = scipy.interpolate.splev(datagrid[0][t1][3:len(datagrid[0][t1])-3],spl_psi)\n",
    "    derpsi3 = scipy.interpolate.splev(datagrid[0][t1][3:len(datagrid[0][t1])-3],spl_derpsi)\n",
    "\n",
    "    #subtracting m beta psi and derpsi in both resolutions & ignoring ghost points\n",
    "    diffs_4_2 =[]\n",
    "    diffs_4_2.append(np.subtract(m2,m3))\n",
    "    diffs_4_2.append(np.subtract(beta2,beta3))\n",
    "    diffs_4_2.append(np.subtract(psi2,psi3))\n",
    "    diffs_4_2.append(np.subtract(derpsi2,derpsi3))\n",
    "\n",
    "\n",
    "    ####\n",
    "\n",
    "    norm_low_med = []\n",
    "    norm_med_high = []\n",
    "\n",
    "    for j in range(4):\n",
    "        a = 0\n",
    "        b = 0\n",
    "        for i in diffs_2_1[j]:\n",
    "            a += i**2\n",
    "        for i in diffs_4_2[j]:\n",
    "            b += i**2\n",
    "        norm_low_med.append(np.sqrt(a))\n",
    "        norm_med_high.append(np.sqrt(b))\n",
    "\n",
    "    Q_m.append(math.log2(norm_low_med[0]/norm_med_high[0]))\n",
    "    Q_beta.append(math.log2(norm_low_med[1]/norm_med_high[1]))\n",
    "    Q_psi.append(math.log2(norm_low_med[2]/norm_med_high[2]))\n",
    "    Q_derpsi.append(math.log2(norm_low_med[3]/norm_med_high[3]))"
   ]
  },
  {
   "cell_type": "code",
   "execution_count": 88,
   "id": "8a81aaec",
   "metadata": {},
   "outputs": [
    {
     "data": {
      "image/png": "[encoded data removed]",
      "text/plain": [
       "<Figure size 432x288 with 1 Axes>"
      ]
     },
     "metadata": {
      "needs_background": "light"
     },
     "output_type": "display_data"
    }
   ],
   "source": [
    "dt=dx\n",
    "finaltime=(count-1)/8*step*dt\n",
    "#plt_x = np.linspace(0, int(final_t/4)*dx*step*0.8, int(final_t/4))\n",
    "plt_x = np.linspace(0, int(final_t/4)*dx*step, int(final_t/4))\n",
    "\n",
    "with plt.style.context('bmh'):\n",
    "    plt.plot(plt_x, Q_m, label = '$Q_m$')\n",
    "    plt.plot(plt_x, Q_beta, label = '$Q_{\\\\beta}$',alpha=0.5)\n",
    "    plt.plot(plt_x, Q_psi, label = '$Q_{\\psi}$')\n",
    "    plt.plot(plt_x, Q_derpsi, label = '$Q_{\\psi,x}$',alpha=0.5)\n",
    "    \n",
    "\n",
    "plt.ylim([0, 8])\n",
    "\n",
    "plt.legend(loc =\"upper right\")\n",
    "plt.xticks(rotation=45)\n",
    "plt.xlabel('time')\n",
    "plt.ylabel('Q(t)')\n",
    "#plt.savefig(\"myImage.png\", format=\"png\", dpi=2000,bbox_inches='tight')\n",
    "plt.show()"
   ]
  },
  {
   "cell_type": "code",
   "execution_count": null,
   "id": "45d47a60",
   "metadata": {},
   "outputs": [],
   "source": []
  },
  {
   "cell_type": "code",
   "execution_count": null,
   "id": "5d9e2caa",
   "metadata": {},
   "outputs": [],
   "source": []
  },
  {
   "cell_type": "code",
   "execution_count": null,
   "id": "e78c1850",
   "metadata": {},
   "outputs": [],
   "source": []
  },
  {
   "cell_type": "code",
   "execution_count": null,
   "id": "260fc1e0",
   "metadata": {},
   "outputs": [],
   "source": []
  },
  {
   "cell_type": "code",
   "execution_count": null,
   "id": "ff3157aa",
   "metadata": {},
   "outputs": [],
   "source": []
  },
  {
   "cell_type": "code",
   "execution_count": null,
   "id": "de16aaa4",
   "metadata": {},
   "outputs": [],
   "source": []
  },
  {
   "cell_type": "code",
   "execution_count": null,
   "id": "c786c853",
   "metadata": {},
   "outputs": [],
   "source": []
  },
  {
   "cell_type": "code",
   "execution_count": null,
   "id": "9e987b13",
   "metadata": {},
   "outputs": [],
   "source": []
  },
  {
   "cell_type": "code",
   "execution_count": null,
   "id": "71388f69",
   "metadata": {},
   "outputs": [],
   "source": []
  },
  {
   "cell_type": "code",
   "execution_count": null,
   "id": "4b00fe14",
   "metadata": {},
   "outputs": [],
   "source": []
  },
  {
   "cell_type": "code",
   "execution_count": null,
   "id": "7751eb0e",
   "metadata": {},
   "outputs": [],
   "source": []
  },
  {
   "cell_type": "markdown",
   "id": "724d29b6",
   "metadata": {},
   "source": [
    "# Fixed grid and changing timestep"
   ]
  },
  {
   "cell_type": "code",
   "execution_count": 91,
   "id": "45280616",
   "metadata": {},
   "outputs": [],
   "source": [
    "time_arrays=[]\n",
    "for resolution in res:\n",
    "    with pd.option_context('display.precision', 20):\n",
    "        df = pd.read_csv(\"/home/rita13santos/Desktop/MSc Thesis/Git/ScalarField/DATA/timearray{}.csv\".format(resolution), header=None, dtype = str)\n",
    "        df = df.to_numpy()\n",
    "        df = np.transpose(df)\n",
    "        aux = [float(x) for x in df[0]]\n",
    "        time_arrays.append(aux)"
   ]
  },
  {
   "cell_type": "code",
   "execution_count": 108,
   "id": "925acc20",
   "metadata": {},
   "outputs": [
    {
     "data": {
      "text/plain": [
       "array([ 0.00000000e+00, -3.46944695e-18, -3.46944695e-18, -3.46944695e-18,\n",
       "        0.00000000e+00,  0.00000000e+00,  0.00000000e+00,  0.00000000e+00,\n",
       "        0.00000000e+00,  0.00000000e+00,  0.00000000e+00,  0.00000000e+00,\n",
       "        0.00000000e+00,  0.00000000e+00,  0.00000000e+00,  0.00000000e+00,\n",
       "        0.00000000e+00,  0.00000000e+00,  0.00000000e+00,  0.00000000e+00,\n",
       "        0.00000000e+00])"
      ]
     },
     "execution_count": 108,
     "metadata": {},
     "output_type": "execute_result"
    }
   ],
   "source": [
    "aux=[]\n",
    "for i in range(0,len(time_arrays[1])):\n",
    "    if i%2==0:\n",
    "        aux.append(time_arrays[1][i])\n",
    "aux       \n",
    "np.subtract(time_arrays[0],aux)"
   ]
  },
  {
   "cell_type": "code",
   "execution_count": 109,
   "id": "99fae246",
   "metadata": {},
   "outputs": [],
   "source": [
    "#time_arrays[0]"
   ]
  },
  {
   "cell_type": "code",
   "execution_count": 110,
   "id": "40b12988",
   "metadata": {},
   "outputs": [
    {
     "data": {
      "text/plain": [
       "array([-1.46466297e-20,  4.05183323e-20,  2.02564244e-19,  6.14090671e-19,\n",
       "        1.49424577e-18,  3.20702973e-18,  6.34156709e-18,  1.18317450e-17,\n",
       "        2.11328282e-17,  3.64799764e-17,  6.12637563e-17,  1.00571800e-16,\n",
       "        1.61965121e-16,  2.56584154e-16,  4.00715793e-16,  6.18001992e-16,\n",
       "        9.42537115e-16,  1.42319107e-15,  2.12961583e-15,  3.16055380e-15,\n",
       "        4.65528091e-15])"
      ]
     },
     "execution_count": 110,
     "metadata": {},
     "output_type": "execute_result"
    }
   ],
   "source": [
    "x_i = 0\n",
    "np.transpose(datam[0])[x_i] #this array is the value of m over time at gridpoint x_i"
   ]
  },
  {
   "cell_type": "code",
   "execution_count": 116,
   "id": "15cab58d",
   "metadata": {},
   "outputs": [],
   "source": [
    "import scipy\n",
    "interp_funcs_res2=[]\n",
    "for x_i in range(3,len(dataderpsi[1][0])-3): #iterate over gridpoints on grid with res2, ignoring ghostpoints\n",
    "    \n",
    "    if x_i%2!=0:\n",
    "\n",
    "        x=time_arrays[1]\n",
    "        y = np.transpose(dataderpsi[1])[x_i]\n",
    "        #print(\"x \", x)\n",
    "        #print(\"y \", y)\n",
    "        #print(\"   \")\n",
    "        \n",
    "        #f=interpolate.interp1d(x, y)\n",
    "        spl_f = scipy.interpolate.splrep(x,y,k=5)\n",
    "        \n",
    "        interp_funcs_res2.append(spl_f)\n",
    "        #plt.scatter(x,y)\n",
    "        #plt.ylim([-0.002, 0.002])\n",
    "        #plt.show()\n",
    "        \n",
    "interp_funcs_res4=[]\n",
    "for x_i in range(3,len(dataderpsi[2][0])-3): #iterate over gridpoints on grid with res4, ignoring ghostpoints\n",
    "    \n",
    "    if (x_i+1)%4==0:\n",
    "        \n",
    "        x=time_arrays[2]\n",
    "        y = np.transpose(dataderpsi[2])[x_i]\n",
    "        #print(\"x \", x)\n",
    "        #print(\"y \", y)\n",
    "        #print(\"   \")\n",
    "        \n",
    "        #f=interpolate.interp1d(x, y)\n",
    "        spl_f = scipy.interpolate.splrep(x,y,k=5)\n",
    "        \n",
    "        interp_funcs_res4.append(spl_f)"
   ]
  },
  {
   "cell_type": "code",
   "execution_count": 117,
   "id": "107f3974",
   "metadata": {},
   "outputs": [],
   "source": [
    "\n",
    "diffs_2_1=[]\n",
    "diffs_4_2=[]\n",
    "\n",
    "for j in range(0,len(dataderpsi[0])): #iterate on time\n",
    "    aux2=[]\n",
    "    aux4=[]\n",
    "    \n",
    "    for i in range(3,len(dataderpsi[0][0])-3): #iterate on grid with res1, ignore ghostpoints\n",
    "        t=time_arrays[0][j]\n",
    "        #print(t)\n",
    "        #aux2.append(dataderpsi[0][j][i]-float(interp_funcs_res2[i-3](t)))\n",
    "        #aux4.append(dataderpsi[0][j][i]-float(interp_funcs_res4[i-3](t)))\n",
    "        aux2.append(dataderpsi[0][j][i]-float(scipy.interpolate.splev(t,interp_funcs_res2[i-3])))\n",
    "        aux4.append(dataderpsi[0][j][i]-float(scipy.interpolate.splev(t,interp_funcs_res4[i-3])))\n",
    "        \n",
    "    #print(np.subtract(aux2,aux4))\n",
    "    #print(aux4)\n",
    "    diffs_2_1.append(aux2)\n",
    "    diffs_4_2.append(aux4)"
   ]
  },
  {
   "cell_type": "code",
   "execution_count": 118,
   "id": "3595d73a",
   "metadata": {},
   "outputs": [
    {
     "data": {
      "text/plain": [
       "'diffs_2_1=[]\\ndiffs_4_2=[]\\n\\nfor j in range(0,len(dataderpsi[0])): #iterate on time\\n    aux2=[]\\n    aux4=[]\\n    \\n    for i in range(3,len(dataderpsi[0][0])-3): #iterate on grid with res1, ignore ghostpoints\\n        t=time_arrays[0][j]\\n        #print(t)\\n        aux2.append(dataderpsi[0][j][i]-float(interp_funcs_res2[i-3](t)))\\n        aux4.append(dataderpsi[0][j][i]-float(interp_funcs_res4[i-3](t)))\\n    #print(np.subtract(aux2,aux4))\\n    #print(aux4)\\n    diffs_2_1.append(aux2)\\n    diffs_4_2.append(aux4)'"
      ]
     },
     "execution_count": 118,
     "metadata": {},
     "output_type": "execute_result"
    }
   ],
   "source": [
    "\"\"\"diffs_2_1=[]\n",
    "diffs_4_2=[]\n",
    "\n",
    "for j in range(0,len(dataderpsi[0])): #iterate on time\n",
    "    aux2=[]\n",
    "    aux4=[]\n",
    "    \n",
    "    for i in range(3,len(dataderpsi[0][0])-3): #iterate on grid with res1, ignore ghostpoints\n",
    "        t=time_arrays[0][j]\n",
    "        #print(t)\n",
    "        aux2.append(dataderpsi[0][j][i]-float(interp_funcs_res2[i-3](t)))\n",
    "        aux4.append(dataderpsi[0][j][i]-float(interp_funcs_res4[i-3](t)))\n",
    "    #print(np.subtract(aux2,aux4))\n",
    "    #print(aux4)\n",
    "    diffs_2_1.append(aux2)\n",
    "    diffs_4_2.append(aux4)\"\"\""
   ]
  },
  {
   "cell_type": "code",
   "execution_count": 119,
   "id": "0fce49fa",
   "metadata": {},
   "outputs": [
    {
     "data": {
      "text/plain": [
       "[<matplotlib.lines.Line2D at 0x7f326a470280>]"
      ]
     },
     "execution_count": 119,
     "metadata": {},
     "output_type": "execute_result"
    },
    {
     "data": {
      "image/png": "[encoded data removed]",
      "text/plain": [
       "<Figure size 432x288 with 1 Axes>"
      ]
     },
     "metadata": {
      "needs_background": "light"
     },
     "output_type": "display_data"
    }
   ],
   "source": [
    "x=np.linspace(0,1,len(diffs_2_1[0]))\n",
    "plt.plot(x,diffs_2_1[0])\n",
    "x=np.linspace(0,1,len(diffs_4_2[0]))\n",
    "plt.plot(x,diffs_4_2[0])"
   ]
  },
  {
   "cell_type": "code",
   "execution_count": 115,
   "id": "a05bf880",
   "metadata": {},
   "outputs": [
    {
     "data": {
      "text/plain": [
       "-0.08683023373817983"
      ]
     },
     "execution_count": 115,
     "metadata": {},
     "output_type": "execute_result"
    }
   ],
   "source": [
    "######## t=0 ########\n",
    "normlow_med=0\n",
    "for i in diffs_2_1[1]:\n",
    "    normlow_med += i**2\n",
    "normlow_med=math.sqrt(normlow_med)\n",
    "normmed_high=0\n",
    "for i in diffs_4_2[1]:\n",
    "    normmed_high += i**2\n",
    "normmed_high=math.sqrt(normmed_high)\n",
    "\n",
    "math.log2(normlow_med/normmed_high)"
   ]
  },
  {
   "cell_type": "code",
   "execution_count": 327,
   "id": "4b110079",
   "metadata": {},
   "outputs": [
    {
     "data": {
      "text/plain": [
       "11"
      ]
     },
     "execution_count": 327,
     "metadata": {},
     "output_type": "execute_result"
    }
   ],
   "source": [
    "len(diffs_2_1)"
   ]
  },
  {
   "cell_type": "code",
   "execution_count": null,
   "id": "f3239340",
   "metadata": {},
   "outputs": [],
   "source": []
  },
  {
   "cell_type": "code",
   "execution_count": null,
   "id": "6a35e6b0",
   "metadata": {},
   "outputs": [],
   "source": []
  },
  {
   "cell_type": "code",
   "execution_count": null,
   "id": "fffa1829",
   "metadata": {},
   "outputs": [],
   "source": []
  },
  {
   "cell_type": "code",
   "execution_count": null,
   "id": "8fe9eded",
   "metadata": {},
   "outputs": [],
   "source": []
  },
  {
   "cell_type": "code",
   "execution_count": null,
   "id": "41f6cc57",
   "metadata": {},
   "outputs": [],
   "source": []
  },
  {
   "cell_type": "code",
   "execution_count": null,
   "id": "373dd57a",
   "metadata": {},
   "outputs": [],
   "source": []
  },
  {
   "cell_type": "markdown",
   "id": "f123d46f",
   "metadata": {},
   "source": [
    "# ****"
   ]
  },
  {
   "cell_type": "markdown",
   "id": "c551c194",
   "metadata": {},
   "source": [
    "interpolate m data (z) on grid (x) and time (y), resolution 2"
   ]
  },
  {
   "cell_type": "code",
   "execution_count": 79,
   "id": "e3fec9ca",
   "metadata": {},
   "outputs": [
    {
     "ename": "MemoryError",
     "evalue": "",
     "output_type": "error",
     "traceback": [
      "\u001b[0;31m---------------------------------------------------------------------------\u001b[0m",
      "\u001b[0;31mMemoryError\u001b[0m                               Traceback (most recent call last)",
      "Input \u001b[0;32mIn [79]\u001b[0m, in \u001b[0;36m<cell line: 25>\u001b[0;34m()\u001b[0m\n\u001b[1;32m     21\u001b[0m     \u001b[38;5;28;01mfor\u001b[39;00m j \u001b[38;5;129;01min\u001b[39;00m \u001b[38;5;28mrange\u001b[39m(\u001b[38;5;241m0\u001b[39m,Nx):\n\u001b[1;32m     22\u001b[0m         z\u001b[38;5;241m.\u001b[39mappend(datam[\u001b[38;5;241m1\u001b[39m][i][j])\n\u001b[0;32m---> 25\u001b[0m interp2\u001b[38;5;241m=\u001b[39m\u001b[43minterpolate\u001b[49m\u001b[38;5;241;43m.\u001b[39;49m\u001b[43minterp2d\u001b[49m\u001b[43m(\u001b[49m\u001b[43mx\u001b[49m\u001b[43m,\u001b[49m\u001b[43m \u001b[49m\u001b[43my\u001b[49m\u001b[43m,\u001b[49m\u001b[43m \u001b[49m\u001b[43mz\u001b[49m\u001b[43m,\u001b[49m\u001b[43m \u001b[49m\u001b[43mkind\u001b[49m\u001b[38;5;241;43m=\u001b[39;49m\u001b[38;5;124;43m'\u001b[39;49m\u001b[38;5;124;43mquintic\u001b[39;49m\u001b[38;5;124;43m'\u001b[39;49m\u001b[43m)\u001b[49m\n",
      "File \u001b[0;32m~/anaconda3/lib/python3.9/site-packages/scipy/interpolate/interpolate.py:232\u001b[0m, in \u001b[0;36minterp2d.__init__\u001b[0;34m(self, x, y, z, kind, copy, bounds_error, fill_value)\u001b[0m\n\u001b[1;32m    225\u001b[0m     \u001b[38;5;28;01mraise\u001b[39;00m \u001b[38;5;167;01mValueError\u001b[39;00m(\n\u001b[1;32m    226\u001b[0m         \u001b[38;5;124mf\u001b[39m\u001b[38;5;124m\"\u001b[39m\u001b[38;5;124mUnsupported interpolation type \u001b[39m\u001b[38;5;132;01m{\u001b[39;00m\u001b[38;5;28mrepr\u001b[39m(kind)\u001b[38;5;132;01m}\u001b[39;00m\u001b[38;5;124m, must be \u001b[39m\u001b[38;5;124m\"\u001b[39m\n\u001b[1;32m    227\u001b[0m         \u001b[38;5;124mf\u001b[39m\u001b[38;5;124m\"\u001b[39m\u001b[38;5;124meither of \u001b[39m\u001b[38;5;132;01m{\u001b[39;00m\u001b[38;5;124m'\u001b[39m\u001b[38;5;124m, \u001b[39m\u001b[38;5;124m'\u001b[39m\u001b[38;5;241m.\u001b[39mjoin(\u001b[38;5;28mmap\u001b[39m(\u001b[38;5;28mrepr\u001b[39m, interpolation_types))\u001b[38;5;132;01m}\u001b[39;00m\u001b[38;5;124m.\u001b[39m\u001b[38;5;124m\"\u001b[39m\n\u001b[1;32m    228\u001b[0m     ) \u001b[38;5;28;01mfrom\u001b[39;00m \u001b[38;5;21;01me\u001b[39;00m\n\u001b[1;32m    230\u001b[0m \u001b[38;5;28;01mif\u001b[39;00m \u001b[38;5;129;01mnot\u001b[39;00m rectangular_grid:\n\u001b[1;32m    231\u001b[0m     \u001b[38;5;66;03m# TODO: surfit is really not meant for interpolation!\u001b[39;00m\n\u001b[0;32m--> 232\u001b[0m     \u001b[38;5;28mself\u001b[39m\u001b[38;5;241m.\u001b[39mtck \u001b[38;5;241m=\u001b[39m \u001b[43mfitpack\u001b[49m\u001b[38;5;241;43m.\u001b[39;49m\u001b[43mbisplrep\u001b[49m\u001b[43m(\u001b[49m\u001b[43mx\u001b[49m\u001b[43m,\u001b[49m\u001b[43m \u001b[49m\u001b[43my\u001b[49m\u001b[43m,\u001b[49m\u001b[43m \u001b[49m\u001b[43mz\u001b[49m\u001b[43m,\u001b[49m\u001b[43m \u001b[49m\u001b[43mkx\u001b[49m\u001b[38;5;241;43m=\u001b[39;49m\u001b[43mkx\u001b[49m\u001b[43m,\u001b[49m\u001b[43m \u001b[49m\u001b[43mky\u001b[49m\u001b[38;5;241;43m=\u001b[39;49m\u001b[43mky\u001b[49m\u001b[43m,\u001b[49m\u001b[43m \u001b[49m\u001b[43ms\u001b[49m\u001b[38;5;241;43m=\u001b[39;49m\u001b[38;5;241;43m0.0\u001b[39;49m\u001b[43m)\u001b[49m\n\u001b[1;32m    233\u001b[0m \u001b[38;5;28;01melse\u001b[39;00m:\n\u001b[1;32m    234\u001b[0m     nx, tx, ny, ty, c, fp, ier \u001b[38;5;241m=\u001b[39m dfitpack\u001b[38;5;241m.\u001b[39mregrid_smth(\n\u001b[1;32m    235\u001b[0m         x, y, z, \u001b[38;5;28;01mNone\u001b[39;00m, \u001b[38;5;28;01mNone\u001b[39;00m, \u001b[38;5;28;01mNone\u001b[39;00m, \u001b[38;5;28;01mNone\u001b[39;00m,\n\u001b[1;32m    236\u001b[0m         kx\u001b[38;5;241m=\u001b[39mkx, ky\u001b[38;5;241m=\u001b[39mky, s\u001b[38;5;241m=\u001b[39m\u001b[38;5;241m0.0\u001b[39m)\n",
      "File \u001b[0;32m~/anaconda3/lib/python3.9/site-packages/scipy/interpolate/_fitpack_impl.py:958\u001b[0m, in \u001b[0;36mbisplrep\u001b[0;34m(x, y, z, w, xb, xe, yb, ye, kx, ky, task, s, eps, tx, ty, full_output, nxest, nyest, quiet)\u001b[0m\n\u001b[1;32m    954\u001b[0m lwrk1 \u001b[38;5;241m=\u001b[39m _int_overflow(u\u001b[38;5;241m*\u001b[39mv\u001b[38;5;241m*\u001b[39m(\u001b[38;5;241m2\u001b[39m \u001b[38;5;241m+\u001b[39m b1 \u001b[38;5;241m+\u001b[39m b2) \u001b[38;5;241m+\u001b[39m\n\u001b[1;32m    955\u001b[0m                       \u001b[38;5;241m2\u001b[39m\u001b[38;5;241m*\u001b[39m(u \u001b[38;5;241m+\u001b[39m v \u001b[38;5;241m+\u001b[39m km\u001b[38;5;241m*\u001b[39m(m \u001b[38;5;241m+\u001b[39m ne) \u001b[38;5;241m+\u001b[39m ne \u001b[38;5;241m-\u001b[39m kx \u001b[38;5;241m-\u001b[39m ky) \u001b[38;5;241m+\u001b[39m b2 \u001b[38;5;241m+\u001b[39m \u001b[38;5;241m1\u001b[39m,\n\u001b[1;32m    956\u001b[0m                       msg\u001b[38;5;241m=\u001b[39mmsg)\n\u001b[1;32m    957\u001b[0m lwrk2 \u001b[38;5;241m=\u001b[39m _int_overflow(u\u001b[38;5;241m*\u001b[39mv\u001b[38;5;241m*\u001b[39m(b2 \u001b[38;5;241m+\u001b[39m \u001b[38;5;241m1\u001b[39m) \u001b[38;5;241m+\u001b[39m b2, msg\u001b[38;5;241m=\u001b[39mmsg)\n\u001b[0;32m--> 958\u001b[0m tx, ty, c, o \u001b[38;5;241m=\u001b[39m \u001b[43m_fitpack\u001b[49m\u001b[38;5;241;43m.\u001b[39;49m\u001b[43m_surfit\u001b[49m\u001b[43m(\u001b[49m\u001b[43mx\u001b[49m\u001b[43m,\u001b[49m\u001b[43m \u001b[49m\u001b[43my\u001b[49m\u001b[43m,\u001b[49m\u001b[43m \u001b[49m\u001b[43mz\u001b[49m\u001b[43m,\u001b[49m\u001b[43m \u001b[49m\u001b[43mw\u001b[49m\u001b[43m,\u001b[49m\u001b[43m \u001b[49m\u001b[43mxb\u001b[49m\u001b[43m,\u001b[49m\u001b[43m \u001b[49m\u001b[43mxe\u001b[49m\u001b[43m,\u001b[49m\u001b[43m \u001b[49m\u001b[43myb\u001b[49m\u001b[43m,\u001b[49m\u001b[43m \u001b[49m\u001b[43mye\u001b[49m\u001b[43m,\u001b[49m\u001b[43m \u001b[49m\u001b[43mkx\u001b[49m\u001b[43m,\u001b[49m\u001b[43m \u001b[49m\u001b[43mky\u001b[49m\u001b[43m,\u001b[49m\n\u001b[1;32m    959\u001b[0m \u001b[43m                                \u001b[49m\u001b[43mtask\u001b[49m\u001b[43m,\u001b[49m\u001b[43m \u001b[49m\u001b[43ms\u001b[49m\u001b[43m,\u001b[49m\u001b[43m \u001b[49m\u001b[43meps\u001b[49m\u001b[43m,\u001b[49m\u001b[43m \u001b[49m\u001b[43mtx\u001b[49m\u001b[43m,\u001b[49m\u001b[43m \u001b[49m\u001b[43mty\u001b[49m\u001b[43m,\u001b[49m\u001b[43m \u001b[49m\u001b[43mnxest\u001b[49m\u001b[43m,\u001b[49m\u001b[43m \u001b[49m\u001b[43mnyest\u001b[49m\u001b[43m,\u001b[49m\n\u001b[1;32m    960\u001b[0m \u001b[43m                                \u001b[49m\u001b[43mwrk\u001b[49m\u001b[43m,\u001b[49m\u001b[43m \u001b[49m\u001b[43mlwrk1\u001b[49m\u001b[43m,\u001b[49m\u001b[43m \u001b[49m\u001b[43mlwrk2\u001b[49m\u001b[43m)\u001b[49m\n\u001b[1;32m    961\u001b[0m _curfit_cache[\u001b[38;5;124m'\u001b[39m\u001b[38;5;124mtx\u001b[39m\u001b[38;5;124m'\u001b[39m] \u001b[38;5;241m=\u001b[39m tx\n\u001b[1;32m    962\u001b[0m _curfit_cache[\u001b[38;5;124m'\u001b[39m\u001b[38;5;124mty\u001b[39m\u001b[38;5;124m'\u001b[39m] \u001b[38;5;241m=\u001b[39m ty\n",
      "\u001b[0;31mMemoryError\u001b[0m: "
     ]
    }
   ],
   "source": [
    "\n",
    "\n",
    "Nt = len(datam[1]) #number of timesteps\n",
    "\n",
    "# grid\n",
    "x=[]\n",
    "for i in range(0,Nt):\n",
    "    Nx = len(datagrid[1][i])\n",
    "    for j in range(0,Nx):\n",
    "        x.append(datagrid[1][i][j])\n",
    "\n",
    "# time\n",
    "y=[]\n",
    "for i in range(0,Nt):\n",
    "    Nx = len(datam[1][i])\n",
    "    for j in range(0,Nx):\n",
    "        y.append(time_arrays[1][i])\n",
    "\n",
    "# data\n",
    "z=[]\n",
    "for i in range(0,Nt):\n",
    "    Nx = len(datam[1][i])\n",
    "    for j in range(0,Nx):\n",
    "        z.append(datam[1][i][j])\n",
    "\n",
    "\n",
    "interp2=interpolate.interp2d(x, y, z, kind='quintic')"
   ]
  },
  {
   "cell_type": "markdown",
   "id": "df4b7083",
   "metadata": {},
   "source": [
    "interpolate m data (z) on grid (x) and time (y), resolution 3"
   ]
  },
  {
   "cell_type": "code",
   "execution_count": null,
   "id": "1981c45c",
   "metadata": {},
   "outputs": [],
   "source": [
    "import numpy as np\n",
    "from scipy import interpolate\n",
    "\n",
    "Nt = len(datam[2]) #number of timesteps\n",
    "\n",
    "# grid\n",
    "x=[]\n",
    "for i in range(0,2):\n",
    "    Nx = len(datagrid[2][i])\n",
    "    for j in range(0,Nx):\n",
    "        x.append(datagrid[2][i][j])\n",
    "\n",
    "# time\n",
    "y=[]\n",
    "for i in range(0,2):\n",
    "    Nx = len(datam[2][i])\n",
    "    for j in range(0,Nx):\n",
    "        y.append(time_arrays[2][i])\n",
    "\n",
    "# data\n",
    "z=[]\n",
    "for i in range(0,2):\n",
    "    Nx = len(datam[2][i])\n",
    "    for j in range(0,Nx):\n",
    "        z.append(datam[2][i][j])\n",
    "\n",
    "\n",
    "interp4=interpolate.interp2d(x, y, z, kind='quintic')\n"
   ]
  },
  {
   "cell_type": "markdown",
   "id": "caedf94b",
   "metadata": {},
   "source": [
    "3D plot of m data over time"
   ]
  },
  {
   "cell_type": "code",
   "execution_count": null,
   "id": "9924d703",
   "metadata": {},
   "outputs": [],
   "source": [
    "from mpl_toolkits import mplot3d\n",
    "%matplotlib inline\n",
    "import numpy as np\n",
    "import matplotlib.pyplot as plt\n",
    "\n",
    "\n",
    "\n",
    "def f(x, y):\n",
    "    return np.sin(np.sqrt(x ** 2 + y ** 2))\n",
    "\n",
    "x = datagrid[1][0]\n",
    "y = time_arrays[1]\n",
    "\n",
    "X, Y = np.meshgrid(x, y)\n",
    "#Z=f(X,Y)\n",
    "Z = []\n",
    "for i in range(0,len(y)):\n",
    "    aux=[]\n",
    "    for k in range(0,len(x)):\n",
    "        aux.append(datam[1][i][k])\n",
    "    Z.append(aux)\n",
    "\n",
    "\n",
    "fig = plt.figure()\n",
    "ax = plt.axes(projection='3d')\n",
    "ax.contour3D(X, Y, Z, 50, cmap='binary')\n",
    "\n",
    "ax.set_xlabel('x')\n",
    "ax.set_ylabel('y')\n",
    "ax.set_zlabel('z');\n"
   ]
  },
  {
   "cell_type": "code",
   "execution_count": null,
   "id": "0eacf496",
   "metadata": {},
   "outputs": [],
   "source": [
    "len(y)"
   ]
  },
  {
   "cell_type": "code",
   "execution_count": 80,
   "id": "a3ce7060",
   "metadata": {},
   "outputs": [
    {
     "ename": "NameError",
     "evalue": "name 'interp2' is not defined",
     "output_type": "error",
     "traceback": [
      "\u001b[0;31m---------------------------------------------------------------------------\u001b[0m",
      "\u001b[0;31mNameError\u001b[0m                                 Traceback (most recent call last)",
      "Input \u001b[0;32mIn [80]\u001b[0m, in \u001b[0;36m<cell line: 17>\u001b[0;34m()\u001b[0m\n\u001b[1;32m     18\u001b[0m     aux\u001b[38;5;241m=\u001b[39m[]\n\u001b[1;32m     19\u001b[0m     \u001b[38;5;28;01mfor\u001b[39;00m k \u001b[38;5;129;01min\u001b[39;00m \u001b[38;5;28mrange\u001b[39m(\u001b[38;5;241m0\u001b[39m,\u001b[38;5;28mlen\u001b[39m(x)):\n\u001b[0;32m---> 20\u001b[0m         aux\u001b[38;5;241m.\u001b[39mappend(\u001b[43minterp2\u001b[49m(x[k],y[i])[\u001b[38;5;241m0\u001b[39m])\n\u001b[1;32m     21\u001b[0m     Z\u001b[38;5;241m.\u001b[39mappend(aux)\n\u001b[1;32m     24\u001b[0m fig \u001b[38;5;241m=\u001b[39m plt\u001b[38;5;241m.\u001b[39mfigure()\n",
      "\u001b[0;31mNameError\u001b[0m: name 'interp2' is not defined"
     ]
    }
   ],
   "source": [
    "from mpl_toolkits import mplot3d\n",
    "%matplotlib inline\n",
    "import numpy as np\n",
    "import matplotlib.pyplot as plt\n",
    "\n",
    "\n",
    "\n",
    "def f(x, y):\n",
    "    return np.sin(np.sqrt(x ** 2 + y ** 2))\n",
    "\n",
    "x = np.linspace(0, 1, 200)\n",
    "y = np.linspace(0, 0.04, 5)\n",
    "\n",
    "X, Y = np.meshgrid(x, y)\n",
    "#Z=f(X,Y)\n",
    "Z = []\n",
    "for i in range(0,len(y)):\n",
    "    aux=[]\n",
    "    for k in range(0,len(x)):\n",
    "        aux.append(interp2(x[k],y[i])[0])\n",
    "    Z.append(aux)\n",
    "\n",
    "\n",
    "fig = plt.figure()\n",
    "ax = plt.axes(projection='3d')\n",
    "ax.contour3D(X, Y, Z, 50, cmap='binary')\n",
    "\n",
    "ax.set_xlabel('x')\n",
    "ax.set_ylabel('y')\n",
    "ax.set_zlabel('z');"
   ]
  },
  {
   "cell_type": "code",
   "execution_count": 81,
   "id": "4713e684",
   "metadata": {},
   "outputs": [
    {
     "ename": "NameError",
     "evalue": "name 'interp2' is not defined",
     "output_type": "error",
     "traceback": [
      "\u001b[0;31m---------------------------------------------------------------------------\u001b[0m",
      "\u001b[0;31mNameError\u001b[0m                                 Traceback (most recent call last)",
      "Input \u001b[0;32mIn [81]\u001b[0m, in \u001b[0;36m<cell line: 3>\u001b[0;34m()\u001b[0m\n\u001b[1;32m      6\u001b[0m     \u001b[38;5;28;01mfor\u001b[39;00m j \u001b[38;5;129;01min\u001b[39;00m \u001b[38;5;28mrange\u001b[39m(\u001b[38;5;241m0\u001b[39m,\u001b[38;5;28mlen\u001b[39m(datam[\u001b[38;5;241m0\u001b[39m][i])):\n\u001b[1;32m      7\u001b[0m         x \u001b[38;5;241m=\u001b[39m datagrid[\u001b[38;5;241m0\u001b[39m][i]\n\u001b[0;32m----> 8\u001b[0m         auxm\u001b[38;5;241m.\u001b[39mappend(\u001b[43minterp2\u001b[49m(x,t)[\u001b[38;5;241m0\u001b[39m])\n\u001b[1;32m      9\u001b[0m     diffs_2_1\u001b[38;5;241m.\u001b[39mappend(np\u001b[38;5;241m.\u001b[39msubtract(datam[\u001b[38;5;241m0\u001b[39m][i],auxm))\n\u001b[1;32m     10\u001b[0m \u001b[38;5;28mlen\u001b[39m(auxm)\n",
      "\u001b[0;31mNameError\u001b[0m: name 'interp2' is not defined"
     ]
    }
   ],
   "source": [
    "t1=0\n",
    "diffs_2_1=[]\n",
    "for i in range(0,len(time_arrays[0])):#iterate on t\n",
    "    auxm=[]\n",
    "    t1 = time_arrays[0][i]\n",
    "    for j in range(0,len(datam[0][i])):\n",
    "        x = datagrid[0][i]\n",
    "        auxm.append(interp2(x,t)[0])\n",
    "    diffs_2_1.append(np.subtract(datam[0][i],auxm))\n",
    "len(auxm) \n",
    "    \n"
   ]
  },
  {
   "cell_type": "code",
   "execution_count": 82,
   "id": "e455459d",
   "metadata": {},
   "outputs": [
    {
     "ename": "NameError",
     "evalue": "name 'interp2' is not defined",
     "output_type": "error",
     "traceback": [
      "\u001b[0;31m---------------------------------------------------------------------------\u001b[0m",
      "\u001b[0;31mNameError\u001b[0m                                 Traceback (most recent call last)",
      "Input \u001b[0;32mIn [82]\u001b[0m, in \u001b[0;36m<cell line: 3>\u001b[0;34m()\u001b[0m\n\u001b[1;32m      7\u001b[0m \u001b[38;5;28;01mfor\u001b[39;00m j \u001b[38;5;129;01min\u001b[39;00m \u001b[38;5;28mrange\u001b[39m(\u001b[38;5;241m0\u001b[39m,\u001b[38;5;28mlen\u001b[39m(datam[\u001b[38;5;241m0\u001b[39m][i])):\n\u001b[1;32m      8\u001b[0m     x \u001b[38;5;241m=\u001b[39m datagrid[\u001b[38;5;241m0\u001b[39m][i]\n\u001b[0;32m----> 9\u001b[0m     auxm2\u001b[38;5;241m.\u001b[39mappend(\u001b[43minterp2\u001b[49m(x,t)[\u001b[38;5;241m0\u001b[39m])\n\u001b[1;32m     10\u001b[0m     auxm4\u001b[38;5;241m.\u001b[39mappend(interp4(x,t)[\u001b[38;5;241m0\u001b[39m])\n\u001b[1;32m     11\u001b[0m diffs_4_2\u001b[38;5;241m.\u001b[39mappend(np\u001b[38;5;241m.\u001b[39msubtract(auxm4,auxm2))\n",
      "\u001b[0;31mNameError\u001b[0m: name 'interp2' is not defined"
     ]
    }
   ],
   "source": [
    "t1=0\n",
    "diffs_4_2=[]\n",
    "for i in range(0,len(time_arrays[0])):#iterate on t\n",
    "    auxm2=[]\n",
    "    auxm4=[]\n",
    "    t1 = time_arrays[0][i]\n",
    "    for j in range(0,len(datam[0][i])):\n",
    "        x = datagrid[0][i]\n",
    "        auxm2.append(interp2(x,t)[0])\n",
    "        auxm4.append(interp4(x,t)[0])\n",
    "    diffs_4_2.append(np.subtract(auxm4,auxm2))\n",
    "len(auxm) \n",
    "    \n"
   ]
  },
  {
   "cell_type": "code",
   "execution_count": 47,
   "id": "328a7db0",
   "metadata": {},
   "outputs": [],
   "source": [
    "norm_low_med = []\n",
    "norm_med_high = []\n",
    "\n",
    "for j in range(0,len(time_arrays)):\n",
    "    a = 0\n",
    "    b = 0\n",
    "    for i in diffs_2_1[j]:\n",
    "        a += i**2\n",
    "    for i in diffs_4_2[j]:\n",
    "        b += i**2\n",
    "    norm_low_med.append(np.sqrt(a))\n",
    "    norm_med_high.append(np.sqrt(b))\n",
    "\n",
    "Q_m.append(math.log2(norm_low_med[0]/norm_med_high[0]))"
   ]
  },
  {
   "cell_type": "markdown",
   "id": "167a5198",
   "metadata": {},
   "source": [
    "Q_m"
   ]
  },
  {
   "cell_type": "code",
   "execution_count": 48,
   "id": "c3edff59",
   "metadata": {},
   "outputs": [
    {
     "data": {
      "text/plain": [
       "[3.998204305872114, 4.013585341089867, 32.7443907763087]"
      ]
     },
     "execution_count": 48,
     "metadata": {},
     "output_type": "execute_result"
    }
   ],
   "source": [
    "Q_m"
   ]
  },
  {
   "cell_type": "code",
   "execution_count": null,
   "id": "9c61b89d",
   "metadata": {},
   "outputs": [],
   "source": []
  },
  {
   "cell_type": "code",
   "execution_count": null,
   "id": "a73f56c8",
   "metadata": {},
   "outputs": [],
   "source": []
  },
  {
   "cell_type": "code",
   "execution_count": null,
   "id": "e2876a23",
   "metadata": {},
   "outputs": [],
   "source": []
  },
  {
   "cell_type": "code",
   "execution_count": null,
   "id": "988c8263",
   "metadata": {},
   "outputs": [],
   "source": []
  },
  {
   "cell_type": "code",
   "execution_count": null,
   "id": "760f9719",
   "metadata": {},
   "outputs": [],
   "source": []
  },
  {
   "cell_type": "code",
   "execution_count": null,
   "id": "9eaec160",
   "metadata": {},
   "outputs": [],
   "source": []
  },
  {
   "cell_type": "code",
   "execution_count": null,
   "id": "80d088ed",
   "metadata": {},
   "outputs": [],
   "source": []
  },
  {
   "cell_type": "code",
   "execution_count": null,
   "id": "2d404e06",
   "metadata": {},
   "outputs": [],
   "source": []
  },
  {
   "cell_type": "code",
   "execution_count": null,
   "id": "a2bdb0f7",
   "metadata": {},
   "outputs": [],
   "source": []
  },
  {
   "cell_type": "code",
   "execution_count": 30,
   "id": "9813001c",
   "metadata": {},
   "outputs": [],
   "source": []
  },
  {
   "cell_type": "code",
   "execution_count": 84,
   "id": "e88882a2",
   "metadata": {},
   "outputs": [],
   "source": [
    "import numpy as np\n",
    "\n",
    "import matplotlib.pyplot as plt\n",
    "\n",
    "from scipy.optimize import curve_fit\n",
    "\n",
    "def func(x, a, b, c):\n",
    "\n",
    "    return a * np.exp(-b * x) + c"
   ]
  },
  {
   "cell_type": "code",
   "execution_count": 86,
   "id": "b2acaae2",
   "metadata": {},
   "outputs": [
    {
     "data": {
      "text/plain": [
       "[<matplotlib.lines.Line2D at 0x7f836f2694f0>]"
      ]
     },
     "execution_count": 86,
     "metadata": {},
     "output_type": "execute_result"
    },
    {
     "data": {
      "image/png": "[encoded data removed]",
      "text/plain": [
       "<Figure size 432x288 with 1 Axes>"
      ]
     },
     "metadata": {
      "needs_background": "light"
     },
     "output_type": "display_data"
    }
   ],
   "source": [
    "xdata = np.linspace(0, 4, 50)\n",
    "\n",
    "y = func(xdata, 2.5, 1.3, 0.5)\n",
    "\n",
    "rng = np.random.default_rng()\n",
    "\n",
    "y_noise = 0.2 * rng.normal(size=xdata.size)\n",
    "\n",
    "ydata = y + y_noise\n",
    "\n",
    "plt.plot(xdata, ydata, 'b-', label='data')\n"
   ]
  },
  {
   "cell_type": "code",
   "execution_count": 89,
   "id": "3e1589f6",
   "metadata": {},
   "outputs": [
    {
     "data": {
      "text/plain": [
       "[<matplotlib.lines.Line2D at 0x7f836eaddd60>]"
      ]
     },
     "execution_count": 89,
     "metadata": {},
     "output_type": "execute_result"
    },
    {
     "data": {
      "image/png": "[encoded data removed]",
      "text/plain": [
       "<Figure size 432x288 with 1 Axes>"
      ]
     },
     "metadata": {
      "needs_background": "light"
     },
     "output_type": "display_data"
    }
   ],
   "source": [
    "popt, pcov = curve_fit(func, xdata, ydata)\n",
    "\n",
    "popt\n",
    "\n",
    "plt.plot(xdata, func(xdata, *popt), 'r-', label='fit: a=%5.3f, b=%5.3f, c=%5.3f' % tuple(popt))"
   ]
  },
  {
   "cell_type": "code",
   "execution_count": null,
   "id": "5d96a1a1",
   "metadata": {},
   "outputs": [],
   "source": []
  }
 ],
 "metadata": {
  "kernelspec": {
   "display_name": "Python 3 (ipykernel)",
   "language": "python",
   "name": "python3"
  },
  "language_info": {
   "codemirror_mode": {
    "name": "ipython",
    "version": 3
   },
   "file_extension": ".py",
   "mimetype": "text/x-python",
   "name": "python",
   "nbconvert_exporter": "python",
   "pygments_lexer": "ipython3",
   "version": "3.9.12"
  }
 },
 "nbformat": 4,
 "nbformat_minor": 5
}
