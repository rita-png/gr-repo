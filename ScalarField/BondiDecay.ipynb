{
 "cells": [
  {
   "cell_type": "code",
   "execution_count": 1,
   "id": "306b8ccb",
   "metadata": {},
   "outputs": [],
   "source": [
    "import pandas as pd\n",
    "import numpy as np\n",
    "import os\n",
    "import math\n",
    "import matplotlib.pyplot as plt\n",
    "import numpy as np\n",
    "from matplotlib import style\n",
    "\n",
    "import scipy\n",
    "import numpy as np\n",
    "from scipy import interpolate\n",
    "from io import StringIO\n",
    "\n",
    "\n",
    "from scipy.interpolate import UnivariateSpline"
   ]
  },
  {
   "cell_type": "markdown",
   "id": "7d60e115",
   "metadata": {},
   "source": [
    "# Reading data"
   ]
  },
  {
   "cell_type": "markdown",
   "id": "93f38ab0",
   "metadata": {},
   "source": [
    "CSV format"
   ]
  },
  {
   "cell_type": "code",
   "execution_count": 2,
   "id": "e80087ba",
   "metadata": {},
   "outputs": [
    {
     "name": "stdout",
     "output_type": "stream",
     "text": [
      "False\n",
      "True\n"
     ]
    }
   ],
   "source": [
    "#from bigfloat import *\n",
    "\n",
    "def isNaN(string):\n",
    "    return string != string\n",
    "print(isNaN(\"hello\"))\n",
    "print(isNaN(np.nan))"
   ]
  },
  {
   "cell_type": "markdown",
   "id": "afb20b06",
   "metadata": {},
   "source": [
    "Muninn format"
   ]
  },
  {
   "cell_type": "code",
   "execution_count": 9,
   "id": "b343325a",
   "metadata": {},
   "outputs": [
    {
     "name": "stdout",
     "output_type": "stream",
     "text": [
      "/home/rita13santos/Desktop/MSc Thesis/Git/ScalarField/StoredDATA/bondimassdecay/subcritical0.001/m.txt\n",
      "/home/rita13santos/Desktop/MSc Thesis/Git/ScalarField/StoredDATA/bondimassdecay/subcritical0.001/beta.txt\n",
      "/home/rita13santos/Desktop/MSc Thesis/Git/ScalarField/StoredDATA/bondimassdecay/subcritical0.001/psi.txt\n",
      "/home/rita13santos/Desktop/MSc Thesis/Git/ScalarField/StoredDATA/bondimassdecay/subcritical0.001/derpsi.txt\n"
     ]
    }
   ],
   "source": [
    "res=1\n",
    "vars=[\"m\", \"beta\", \"psi\", \"derpsi\"]\n",
    "time=[]\n",
    "grid=[]\n",
    "m=[]\n",
    "beta=[]\n",
    "psi=[]\n",
    "derpsi=[]\n",
    "k=1\n",
    "m_ori=[]\n",
    "m_scri=[]\n",
    "beta_ori=[]\n",
    "beta_scri=[]\n",
    "psi_ori=[]\n",
    "psi_scri=[]\n",
    "derpsi_ori=[]\n",
    "derpsi_scri=[]\n",
    "\n",
    "for var in vars:\n",
    "   \n",
    "    #nearcriticalone TRASH\n",
    "    #dir=\"/home/rita13santos/Desktop/MSc Thesis/Git/ScalarField/StoredDATA/bondimassdecay/nearcritical/{}.txt\".format(var)\n",
    "    \n",
    "    #nearcriticaltwo (more tuned) TRASH\n",
    "    #dir=\"/home/rita13santos/Desktop/MSc Thesis/Git/ScalarField/StoredDATA/bondimassdecay/nearcritical0.1256/{}.txt\".format(var)\n",
    "    \n",
    "    #subcriticalone A=0.01 TRASH\n",
    "    #dir=\"/home/rita13santos/Desktop/MSc Thesis/Git/ScalarField/StoredDATA/bondimassdecay/subcritical0.01/{}.txt\".format(var)\n",
    "    \n",
    "    #subcriticaltwo A=0.001\n",
    "    dir=\"/home/rita13santos/Desktop/MSc Thesis/Git/ScalarField/StoredDATA/bondimassdecay/subcritical0.001/{}.txt\".format(var)\n",
    "    \n",
    "    #supercritical A=0.17 N=400\n",
    "    #dir=\"/home/rita13santos/Desktop/MSc Thesis/Git/ScalarField/StoredDATA/bondimassdecay/supercritical0.17/{}.txt\".format(var)\n",
    "    \n",
    "    ##new##\n",
    "    \n",
    "    #A0.1256 called it nearcritical but its actually subcritical \n",
    "    #dir=\"/home/rita13santos/Desktop/MSc Thesis/Git/ScalarField/StoredDATA/bondimassdecay/0.1256/muninnDATA/res1/{}.txt\".format(var)\n",
    "\n",
    "    \n",
    "    print(dir)\n",
    "    t=0\n",
    "    with open(dir) as f:\n",
    "        for line in f:\n",
    "\n",
    "            index = line.find(\"Time\")\n",
    "            \n",
    "            if index==1:\n",
    "                t=t+1\n",
    "                if k==1:\n",
    "                    time.append(float(line[index+7:len(line)-1]))\n",
    "                auxgrid=[]\n",
    "                auxdata=[]\n",
    "                \n",
    "\n",
    "            else:\n",
    "                \n",
    "                a=line.split()\n",
    "                if a!=[]:\n",
    "                    if k==1:\n",
    "                        auxgrid.append(float(a[0]))\n",
    "                    auxdata.append(float(a[1]))\n",
    "                    \n",
    "                elif a==[]:\n",
    "                    \n",
    "                    \n",
    "                    if k==1:\n",
    "                        if t==1:\n",
    "                            grid.append(auxgrid)\n",
    "                        L=len(auxgrid)\n",
    "                        m_ori.append(auxdata[3])\n",
    "                        m_scri.append(auxdata[L-4])\n",
    "                    elif k==2:\n",
    "                        beta_ori.append(auxdata[3])\n",
    "                        beta_scri.append(auxdata[L-4])\n",
    "                    elif k==3:\n",
    "                        psi_ori.append(auxdata[3])\n",
    "                        psi_scri.append(auxdata[L-4])\n",
    "                    elif k==4:\n",
    "                        derpsi_ori.append(auxdata[3])\n",
    "                        derpsi_scri.append(auxdata[L-4])\n",
    "                    \n",
    "    k=k+1\n",
    "\n",
    "#count=len(datatime[2])+1\n",
    "#count"
   ]
  },
  {
   "cell_type": "code",
   "execution_count": 10,
   "id": "f5a35375",
   "metadata": {},
   "outputs": [],
   "source": [
    "#m_nearcriticalone=m_scri\n",
    "#x_nearcriticalone=converttobondi(time,beta_scri)\n",
    "\n",
    "#m_nearcriticaltwo=m_scri\n",
    "#x_nearcriticaltwo=converttobondi(time,beta_scri)\n",
    "\n",
    "#m_subcriticalone=m_scri\n",
    "#x_subcriticalone=converttobondi(time,beta_scri)\n",
    "\n",
    "\n",
    "## data used for plots:\n",
    "\n",
    "m_subcriticaltwo=m_scri\n",
    "x_subcriticaltwo=converttobondi(time,beta_scri)\n",
    "\n",
    "#m_supercritical=m_scri\n",
    "#x_supercritical=converttobondi(time,beta_scri)\n",
    "\n",
    "#m_new=m_scri\n",
    "#x_new=converttobondi(time,beta_scri)\n"
   ]
  },
  {
   "cell_type": "markdown",
   "id": "aa8b952d",
   "metadata": {},
   "source": [
    "# Convert to Bondi"
   ]
  },
  {
   "cell_type": "code",
   "execution_count": 4,
   "id": "6e5a1563",
   "metadata": {},
   "outputs": [],
   "source": [
    "#trapezoidal rule\n",
    "def trap_integrator(func,f0,x):\n",
    "    integration=[f0]\n",
    "    for i in range(0,len(x)-1):\n",
    "        dx=x[i+1]-x[i]\n",
    "    \n",
    "        integral=dx/2*(func(x[i+1])+func(x[i]))\n",
    "        \n",
    "        integration.append(integration[i]+integral)\n",
    "    return integration\n",
    "\n",
    "\"\"\"def funcc(x):\n",
    "    return x\n",
    "\n",
    "def trap_integrator(func,f0,x0,x1):\n",
    "    dx=(x1-x0)\n",
    "    integral=dx/2*(func(x0)+func(x1))\n",
    "    \n",
    "    return f0+integral\n",
    "\n",
    "trap_integrator(funcc,0,0,1)\"\"\"\n",
    "\n",
    "#convert central time to bondi time\n",
    "def converttobondi(time, betascri):\n",
    "\n",
    "    spl = UnivariateSpline(time, np.multiply(np.exp(np.multiply(betascri,-2)),time), s=0)\n",
    "\n",
    "    return trap_integrator(spl,0,time)"
   ]
  },
  {
   "cell_type": "markdown",
   "id": "d5e83eaa",
   "metadata": {},
   "source": [
    "####"
   ]
  },
  {
   "cell_type": "markdown",
   "id": "0f7f8fb9",
   "metadata": {},
   "source": [
    "# Styling plots"
   ]
  },
  {
   "cell_type": "code",
   "execution_count": 5,
   "id": "953579ab",
   "metadata": {},
   "outputs": [],
   "source": [
    "plt.rcParams.update({\n",
    "    'font.size': 12,\n",
    "    'legend.fontsize':12,\n",
    "    'xtick.labelsize': 'large',\n",
    "    'xtick.color': 'black',\n",
    "    'ytick.labelsize': 'large',\n",
    "    'ytick.color': 'black'})"
   ]
  },
  {
   "cell_type": "code",
   "execution_count": null,
   "id": "3b29e29b",
   "metadata": {},
   "outputs": [],
   "source": []
  },
  {
   "cell_type": "code",
   "execution_count": null,
   "id": "97eb3d53",
   "metadata": {},
   "outputs": [],
   "source": []
  },
  {
   "cell_type": "code",
   "execution_count": 37,
   "id": "867b4040",
   "metadata": {},
   "outputs": [
    {
     "data": {
      "image/png": "[encoded data removed]",
      "text/plain": [
       "<Figure size 640x480 with 1 Axes>"
      ]
     },
     "metadata": {},
     "output_type": "display_data"
    }
   ],
   "source": [
    "\n",
    "with plt.style.context('ggplot'):  \n",
    "    \n",
    "    plt.plot(x_subcriticaltwo, m_subcriticaltwo,label=\"Very Subcritical A=0.001\",color='#1f77b4')\n",
    "    \n",
    "    plt.plot(x_new, m_new,label=\"Subcritical A=0.1256\",color='#2ca02c')\n",
    "    \n",
    "    plt.plot(x_supercritical, m_supercritical,label=\"Supercritical A=0.17\",color='#ff7f0e')\n",
    "\n",
    "    \n",
    "    plt.xscale(\"log\")\n",
    "    plt.yscale(\"log\")\n",
    "    plt.xlabel(\"Bondi time $u_B$\")#$\\u03C4$\")\n",
    "    plt.ylabel(\"Bondi mass $m_B$\")#$\\u03C4$\")\n",
    "    #plt.title('Bondi mass decay')\n",
    "    plt.legend();\n",
    "\n",
    "    #plt.xlim([2,200])\n",
    "    #plt.ylim([1e-9,8e-5])\n",
    "    plt.savefig(\"myImagePDF.pdf\", format=\"pdf\", bbox_inches=\"tight\")\n",
    "    plt.show()"
   ]
  },
  {
   "cell_type": "code",
   "execution_count": 21,
   "id": "fc893bbb",
   "metadata": {},
   "outputs": [
    {
     "ename": "NameError",
     "evalue": "name 'func' is not defined",
     "output_type": "error",
     "traceback": [
      "\u001b[0;31m---------------------------------------------------------------------------\u001b[0m",
      "\u001b[0;31mNameError\u001b[0m                                 Traceback (most recent call last)",
      "Input \u001b[0;32mIn [21]\u001b[0m, in \u001b[0;36m<cell line: 1>\u001b[0;34m()\u001b[0m\n\u001b[0;32m----> 1\u001b[0m plt\u001b[38;5;241m.\u001b[39mplot(x_new[\u001b[38;5;241m800\u001b[39m:\u001b[38;5;241m6000\u001b[39m], \u001b[43mfunc\u001b[49m(x_new[\u001b[38;5;241m800\u001b[39m:\u001b[38;5;241m6000\u001b[39m], \u001b[38;5;241m*\u001b[39mpopt), label\u001b[38;5;241m=\u001b[39m\u001b[38;5;124m'\u001b[39m\u001b[38;5;124mfit: a=\u001b[39m\u001b[38;5;132;01m%5.3f\u001b[39;00m\u001b[38;5;124m, b=\u001b[39m\u001b[38;5;132;01m%5.3f\u001b[39;00m\u001b[38;5;124m'\u001b[39m \u001b[38;5;241m%\u001b[39m \u001b[38;5;28mtuple\u001b[39m(popt),linestyle\u001b[38;5;241m=\u001b[39m\u001b[38;5;124m'\u001b[39m\u001b[38;5;124mdashed\u001b[39m\u001b[38;5;124m'\u001b[39m)\n\u001b[1;32m      3\u001b[0m plt\u001b[38;5;241m.\u001b[39mxscale(\u001b[38;5;124m\"\u001b[39m\u001b[38;5;124mlog\u001b[39m\u001b[38;5;124m\"\u001b[39m)\n\u001b[1;32m      4\u001b[0m plt\u001b[38;5;241m.\u001b[39myscale(\u001b[38;5;124m\"\u001b[39m\u001b[38;5;124mlog\u001b[39m\u001b[38;5;124m\"\u001b[39m)\n",
      "\u001b[0;31mNameError\u001b[0m: name 'func' is not defined"
     ]
    }
   ],
   "source": [
    "\n",
    "plt.plot(x_new[800:6000], func(x_new[800:6000], *popt), label='fit: a=%5.3f, b=%5.3f' % tuple(popt),linestyle='dashed')\n",
    "\n",
    "plt.xscale(\"log\")\n",
    "plt.yscale(\"log\")"
   ]
  },
  {
   "cell_type": "code",
   "execution_count": 22,
   "id": "63623983",
   "metadata": {},
   "outputs": [
    {
     "data": {
      "text/plain": [
       "6667"
      ]
     },
     "execution_count": 22,
     "metadata": {},
     "output_type": "execute_result"
    }
   ],
   "source": [
    "len(x_new)"
   ]
  },
  {
   "cell_type": "code",
   "execution_count": 23,
   "id": "427fe042",
   "metadata": {},
   "outputs": [],
   "source": [
    "import numpy as np\n",
    "\n",
    "import matplotlib.pyplot as plt\n",
    "\n",
    "from scipy.optimize import curve_fit\n",
    "\n",
    "def func(x, a, b):\n",
    "    if type(x)==float:\n",
    "        return a * x + b\n",
    "    else:\n",
    "        z=np.zeros(len(x))\n",
    "        for i in range(0,len(x)):\n",
    "            z[i] = a * x[i] + b\n",
    "        return z"
   ]
  },
  {
   "cell_type": "code",
   "execution_count": 24,
   "id": "c9fda78a",
   "metadata": {},
   "outputs": [],
   "source": [
    "\"\"\"popt, pcov = curve_fit(func, x_new[1100:6667], m_new[1100:6667])\n",
    "\n",
    "plt.plot(x_new[1100:6667], func(x_new[1100:6667], *popt), 'r-', label='fit: a=%5.3f, b=%5.3f' % tuple(popt))\"\"\";"
   ]
  },
  {
   "cell_type": "code",
   "execution_count": 40,
   "id": "6687d01f",
   "metadata": {},
   "outputs": [
    {
     "data": {
      "image/png": "[encoded data removed]",
      "text/plain": [
       "<Figure size 640x480 with 1 Axes>"
      ]
     },
     "metadata": {},
     "output_type": "display_data"
    }
   ],
   "source": [
    "x_newlog = [math.log10(float(x)) for x in x_new[1:len(x_new)]]\n",
    "y_newlog = [math.log10(float(x)) for x in m_new[1:len(x_new)]]\n",
    "\n",
    "x_subcriticaltwolog = [math.log10(float(x)) for x in x_subcriticaltwo[1:len(x_subcriticaltwo)]]\n",
    "m_subcriticaltwolog = [math.log10(float(x)) for x in m_subcriticaltwo[1:len(x_subcriticaltwo)]]\n",
    "x_supercriticallog = [math.log10(float(x)) for x in x_supercritical[1:len(x_supercritical)]]\n",
    "m_supercriticallog = [math.log10(float(x)) for x in m_supercritical[1:len(x_supercritical)]]\n",
    "\n",
    "xx = [math.log10(float(x)) for x in x_new[800:6000]]\n",
    "yy = [math.log10(float(x)) for x in m_new[800:6000]]\n",
    "\n",
    "popt, pcov = curve_fit(func, xx, yy)\n",
    "\n",
    "with plt.style.context('ggplot'):  \n",
    "    \n",
    "    #data\n",
    "    plt.plot([-6]+x_subcriticaltwolog, [m_subcriticaltwolog[0]]+m_subcriticaltwolog,label=\"Very Subcritical A=0.001\",color='#1f77b4',linestyle='dashed')\n",
    "    \n",
    "    plt.plot([-6]+x_newlog,[y_newlog[0]]+y_newlog,label=\"Subcritical A=0.1256\",color='#1f77b4')\n",
    "    \n",
    "    plt.plot([-6]+x_supercriticallog, [m_supercriticallog[0]]+m_supercriticallog,label=\"Supercritical A=0.17\",color='#1f77b4',linestyle='dashdot')\n",
    "    \n",
    "    #fit\n",
    "    plt.plot(xx, func(xx, *popt), label='Fit: a=%5.2f, b=%5.2f' % tuple(popt),color='#000000',linestyle=(5,(10,3)))\n",
    "   \n",
    "\n",
    "    plt.xlim([-6,3])\n",
    "    plt.xlabel(\"log$_{10}$($u_B$)\")#$\\u03C4$\")\n",
    "    plt.ylabel(\"log$_{10}$($m_B$)\")#$\\u03C4$\")\n",
    "    plt.legend();\n",
    "\n",
    "    plt.savefig(\"myImagePDF.pdf\", format=\"pdf\", bbox_inches=\"tight\")\n",
    "    plt.show()"
   ]
  },
  {
   "cell_type": "code",
   "execution_count": 91,
   "id": "79b54d9b",
   "metadata": {},
   "outputs": [
    {
     "data": {
      "text/plain": [
       "[0,\n",
       " 3.1708949349049476e-06,\n",
       " 1.2679256390146471e-05,\n",
       " 2.851641912926009e-05,\n",
       " 5.067368078032013e-05,\n",
       " 7.914230171725346e-05,\n",
       " 0.00011391350494206615,\n",
       " 0.00015497847596779725,\n",
       " 0.00020232836270416465,\n",
       " 0.00025595427534369464,\n",
       " 0.00031584728624915986,\n",
       " 0.00038199842984277393,\n",
       " 0.0004543987024969538,\n",
       " 0.0005330390624265303,\n",
       " 0.0006179104295825324,\n",
       " 0.0007090036855483689,\n",
       " 0.0008063096734378413,\n",
       " 0.0009098191977928544,\n",
       " 0.001019523024484727,\n",
       " 0.0011354118806182775,\n",
       " 0.0012574764544369976,\n",
       " 0.0013857073952286295,\n",
       " 0.0015200953132352116,\n",
       " 0.0016606307795635365,\n",
       " 0.0018073043260978224,\n",
       " 0.001960106445418546,\n",
       " 0.0021190275907193596,\n",
       " 0.002284058175725869,\n",
       " 0.002455188574619737,\n",
       " 0.002632409121963329,\n",
       " 0.0028157101126285618,\n",
       " 0.0030050818017260403,\n",
       " 0.0032005144045406278,\n",
       " 0.00340199809646935,\n",
       " 0.0036095230129561647,\n",
       " 0.0038230792494326716,\n",
       " 0.00404265686126807,\n",
       " 0.004268245863715315,\n",
       " 0.004499836231860197,\n",
       " 0.004737417900579606,\n",
       " 0.004980980764496037,\n",
       " 0.005230514677936938,\n",
       " 0.0054860094548994315,\n",
       " 0.00574745486902324,\n",
       " 0.006014840653556401,\n",
       " 0.0062881565013319434,\n",
       " 0.006567392064747439,\n",
       " 0.006852536955745392,\n",
       " 0.007143580745802161,\n",
       " 0.007440512965911675,\n",
       " 0.007743323106584027,\n",
       " 0.008052000617841512,\n",
       " 0.008366534909224566,\n",
       " 0.008686915349797892,\n",
       " 0.009013131268154017,\n",
       " 0.009345171952429478,\n",
       " 0.009683026650331808,\n",
       " 0.010026684569156737,\n",
       " 0.010376134875812645,\n",
       " 0.010731366696858676,\n",
       " 0.011092369118540269,\n",
       " 0.011459131186835591,\n",
       " 0.011831641907495149,\n",
       " 0.012209890246092472,\n",
       " 0.012593865128086404,\n",
       " 0.012983555438880088,\n",
       " 0.013378950023880046,\n",
       " 0.013780037688575018,\n",
       " 0.014186807198611212,\n",
       " 0.014599247279872054,\n",
       " 0.01501734661856601,\n",
       " 0.015441093861314838,\n",
       " 0.01587047761525012,\n",
       " 0.01630548644811869,\n",
       " 0.016746108888388126,\n",
       " 0.017192333425361334,\n",
       " 0.01764414850929089,\n",
       " 0.018101542551498092,\n",
       " 0.01856450392451456,\n",
       " 0.019033020962210517,\n",
       " 0.019507081959932206,\n",
       " 0.019986675174643618,\n",
       " 0.020471788825082674,\n",
       " 0.020962411091917182,\n",
       " 0.021458530117900863,\n",
       " 0.021960134008043596,\n",
       " 0.022467210829786772,\n",
       " 0.02297974861317308,\n",
       " 0.023497735351031314,\n",
       " 0.02402115899917619,\n",
       " 0.024550007476581905,\n",
       " 0.025084268665586298,\n",
       " 0.025623930412105176,\n",
       " 0.026168980525835748,\n",
       " 0.02671940678046437,\n",
       " 0.027275196913884477,\n",
       " 0.027836338628430143,\n",
       " 0.028402819591097934,\n",
       " 0.028974627433784567,\n",
       " 0.029551749753517653,\n",
       " 0.030134174112696848,\n",
       " 0.030721888039350952,\n",
       " 0.03131487902737644,\n",
       " 0.03191313453679788,\n",
       " 0.03251664199402687,\n",
       " 0.03312538879211935,\n",
       " 0.03373936229104312,\n",
       " 0.0343585498179497,\n",
       " 0.03498293866745039,\n",
       " 0.035612516101877704,\n",
       " 0.036247269351575837,\n",
       " 0.036887185615175976,\n",
       " 0.03753225205987575,\n",
       " 0.03818245582174137,\n",
       " 0.038837784005968407,\n",
       " 0.03949822368717827,\n",
       " 0.04016376190972491,\n",
       " 0.04083438568796527,\n",
       " 0.04151008200655945,\n",
       " 0.04219083782076042,\n",
       " 0.04287664005669311,\n",
       " 0.0435674756116704,\n",
       " 0.04426333135446378,\n",
       " 0.04496419412559726,\n",
       " 0.045670050737643415,\n",
       " 0.0463808879754867,\n",
       " 0.04709669259663093,\n",
       " 0.04781745133147327,\n",
       " 0.04854315088357999,\n",
       " 0.04927377792995604,\n",
       " 0.05000931912130882,\n",
       " 0.050749761082342235,\n",
       " 0.05149509041199299,\n",
       " 0.05224529368368965,\n",
       " 0.053000357445604364,\n",
       " 0.05376026822089017,\n",
       " 0.054525012507925526,\n",
       " 0.055294576780536245,\n",
       " 0.05606894748822422,\n",
       " 0.05684811105636486,\n",
       " 0.05763205388641105,\n",
       " 0.0584207623560881,\n",
       " 0.05921422281957948,\n",
       " 0.060012421607695036,\n",
       " 0.06081534502801319,\n",
       " 0.06162297936504466,\n",
       " 0.0624353108803698,\n",
       " 0.06325232581274061,\n",
       " 0.06407401037819571,\n",
       " 0.06490035077014727,\n",
       " 0.06573133315944775,\n",
       " 0.06656694369445232,\n",
       " 0.06740716850106039,\n",
       " 0.0682519936827526,\n",
       " 0.06910140532057205,\n",
       " 0.06995538947310863,\n",
       " 0.07081393217647734,\n",
       " 0.07167701944425682,\n",
       " 0.07254463726742132,\n",
       " 0.07341677161422268,\n",
       " 0.07429340843006509,\n",
       " 0.07517453363739002,\n",
       " 0.0760601331354833,\n",
       " 0.07695019280027397,\n",
       " 0.07784469848413342,\n",
       " 0.07874363601562136,\n",
       " 0.07964699119920468,\n",
       " 0.08055474981494858,\n",
       " 0.08146689761819774,\n",
       " 0.08238342033922035,\n",
       " 0.08330430368281401,\n",
       " 0.08422953332788244,\n",
       " 0.08515909492699154,\n",
       " 0.0860929741058769,\n",
       " 0.08703115646292046,\n",
       " 0.08797362756861496,\n",
       " 0.08892037296499712,\n",
       " 0.08987137816501127,\n",
       " 0.09082662865185004,\n",
       " 0.09178610987828112,\n",
       " 0.09274980726592215,\n",
       " 0.09371770620449163,\n",
       " 0.09468979205100678,\n",
       " 0.09566605012894695,\n",
       " 0.09664646572738232,\n",
       " 0.09763102410007743,\n",
       " 0.09861971046454955,\n",
       " 0.09961251000107174,\n",
       " 0.10060940785164933,\n",
       " 0.10161038911896031,\n",
       " 0.10261543886525852,\n",
       " 0.1036245421112404,\n",
       " 0.10463768383485396,\n",
       " 0.10565484897008019,\n",
       " 0.10667602240568676,\n",
       " 0.10770118898392324,\n",
       " 0.10873033349917784,\n",
       " 0.10976344069659537,\n",
       " 0.110800495270677,\n",
       " 0.11184148186382033,\n",
       " 0.11288638506483072,\n",
       " 0.11393518940739313,\n",
       " 0.11498787936848347,\n",
       " 0.11604443936677165,\n",
       " 0.11710485376098491,\n",
       " 0.11816910684822074,\n",
       " 0.11923718286224115,\n",
       " 0.12030906597172696,\n",
       " 0.12138474027847065,\n",
       " 0.12246418981556126,\n",
       " 0.12354739854555076,\n",
       " 0.12463435035856996,\n",
       " 0.12572502907040436,\n",
       " 0.12681941842056293,\n",
       " 0.12791750207030703,\n",
       " 0.12901926360063992,\n",
       " 0.13012468651031184,\n",
       " 0.13123375421375283,\n",
       " 0.13234645003899975,\n",
       " 0.13346275722562884,\n",
       " 0.13458265892262788,\n",
       " 0.13570613818627467,\n",
       " 0.13683317797798883,\n",
       " 0.13796376116218004,\n",
       " 0.13909787050409295,\n",
       " 0.14023548866760432,\n",
       " 0.1413765982130404,\n",
       " 0.14252118159500424,\n",
       " 0.14366922116015632,\n",
       " 0.14482069914502924,\n",
       " 0.14597559767385423,\n",
       " 0.14713389875633132,\n",
       " 0.14829558428545828,\n",
       " 0.14946063603537427,\n",
       " 0.1506290356591835,\n",
       " 0.1518007646868178,\n",
       " 0.1529758045229159,\n",
       " 0.15415413644470854,\n",
       " 0.15533574159992203,\n",
       " 0.15652060100476,\n",
       " 0.15770869554187048,\n",
       " 0.158900005958334,\n",
       " 0.16009451286375773,\n",
       " 0.16129219672836909,\n",
       " 0.16249303788112243,\n",
       " 0.16369701650791488,\n",
       " 0.1649041126498413,\n",
       " 0.16611430620146547,\n",
       " 0.16732757690921682,\n",
       " 0.16854390436981798,\n",
       " 0.1697632680287804,\n",
       " 0.1709856471789815,\n",
       " 0.17221102095932508,\n",
       " 0.17343936835349835,\n",
       " 0.1746706681887659,\n",
       " 0.17590489913492457,\n",
       " 0.17714203970333522,\n",
       " 0.17838206824600747,\n",
       " 0.17962496295486302,\n",
       " 0.18087070186107962,\n",
       " 0.18211926283454266,\n",
       " 0.18337062358345496,\n",
       " 0.1846247616540448,\n",
       " 0.185881654430423,\n",
       " 0.187141279134579,\n",
       " 0.18840361282650384,\n",
       " 0.18966863240449303,\n",
       " 0.19093631460559266,\n",
       " 0.192206636006203,\n",
       " 0.1934795730228666,\n",
       " 0.19475510191320444,\n",
       " 0.19603319877706507,\n",
       " 0.19731383955783813,\n",
       " 0.19859700004395814,\n",
       " 0.19988265587062695,\n",
       " 0.2011707825217171,\n",
       " 0.20246135533190948,\n",
       " 0.2037543494890279,\n",
       " 0.2050497400365981,\n",
       " 0.2063475018766451,\n",
       " 0.207647609772744,\n",
       " 0.20895003835327303,\n",
       " 0.21025476211493574,\n",
       " 0.21156175542655312,\n",
       " 0.2128709925331013,\n",
       " 0.2141824475600088,\n",
       " 0.21549609451774085,\n",
       " 0.21681190730667177,\n",
       " 0.21812985972219395,\n",
       " 0.21944992546020917,\n",
       " 0.22077207812284513,\n",
       " 0.22209629122449048,\n",
       " 0.2234225381981753,\n",
       " 0.22475079240221874,\n",
       " 0.22608102712723674,\n",
       " 0.22741321560345798,\n",
       " 0.2287473310084011,\n",
       " 0.23008334647484743,\n",
       " 0.2314212350992028,\n",
       " 0.2327609699501816,\n",
       " 0.2341025240778274,\n",
       " 0.23544587052296248,\n",
       " 0.23679098232692058,\n",
       " 0.23813783254169546,\n",
       " 0.23948639424043847,\n",
       " 0.24083664052833165,\n",
       " 0.24218854455386288,\n",
       " 0.24354207952044848,\n",
       " 0.24489721869845676,\n",
       " 0.24625393543761812,\n",
       " 0.2476122031797939,\n",
       " 0.24897199547215715,\n",
       " 0.25033328598077076,\n",
       " 0.25169604850450755,\n",
       " 0.25306025698940626,\n",
       " 0.2544258855433664,\n",
       " 0.2557929084512632,\n",
       " 0.2571613001904392,\n",
       " 0.2585310354465176,\n",
       " 0.25990208912964324,\n",
       " 0.2612744363910966,\n",
       " 0.2626480526402095,\n",
       " 0.264022913561677,\n",
       " 0.26539899513323595,\n",
       " 0.26677627364359874,\n",
       " 0.2681547257107774,\n",
       " 0.26953432830072765,\n",
       " 0.2709150587462555,\n",
       " 0.2722968947662399,\n",
       " 0.27367981448512807,\n",
       " 0.27506379645268736,\n",
       " 0.2764488196639847,\n",
       " 0.2778348635796054,\n",
       " 0.27922190814609554,\n",
       " 0.28060993381655747,\n",
       " 0.2819989215714102,\n",
       " 0.28338885293929994,\n",
       " 0.28477971001811664,\n",
       " 0.28617147549613176,\n",
       " 0.28756413267314124,\n",
       " 0.28895766548165897,\n",
       " 0.2903520585081418,\n",
       " 0.29174729701412416,\n",
       " 0.2931433669573427,\n",
       " 0.29454025501275566,\n",
       " 0.295937948593371,\n",
       " 0.29733643587097097,\n",
       " 0.2987357057966038,\n",
       " 0.3001357481208064,\n",
       " 0.301536553413569,\n",
       " 0.3029381130839209,\n",
       " 0.3043404193991922,\n",
       " 0.30574346550385895,\n",
       " 0.3071472454378583,\n",
       " 0.3085517541544647,\n",
       " 0.3099569875375993,\n",
       " 0.3113629424185249,\n",
       " 0.3127696165919106,\n",
       " 0.3141770088311907,\n",
       " 0.31558511890320345,\n",
       " 0.3169939475820473,\n",
       " 0.31840349666207146,\n",
       " 0.3198137689700223,\n",
       " 0.3212247683762769,\n",
       " 0.32263649980510156,\n",
       " 0.3240489692438797,\n",
       " 0.3254621837512759,\n",
       " 0.32687615146437876,\n",
       " 0.32829088160466263,\n",
       " 0.32970638448274003,\n",
       " 0.3311226715019694,\n",
       " 0.3325397551608061,\n",
       " 0.33395764905384717,\n",
       " 0.3353763678715699,\n",
       " 0.3367959273987849,\n",
       " 0.33821634451168997,\n",
       " 0.3396376371735154,\n",
       " 0.3410598244288454,\n",
       " 0.3424829263964469,\n",
       " 0.34390696426067807,\n",
       " 0.3453319602614883,\n",
       " 0.3467579376829112,\n",
       " 0.34818492084014513,\n",
       " 0.3496129350651655,\n",
       " 0.351042006690846,\n",
       " 0.3524721630336884,\n",
       " 0.3539034323750651,\n",
       " 0.35533584394104356,\n",
       " 0.35676942788082333,\n",
       " 0.35820421524375223,\n",
       " 0.3596402379549943,\n",
       " 0.3610775287898419,\n",
       " 0.3625161213467142,\n",
       " 0.36395605001887543,\n",
       " 0.36539734996494266,\n",
       " 0.3668400570781273,\n",
       " 0.3682842079543506,\n",
       " 0.36972983985924873,\n",
       " 0.3711769906940464,\n",
       " 0.37262569896048664,\n",
       " 0.37407600372472244,\n",
       " 0.3755279445802845,\n",
       " 0.37698156161024676,\n",
       " 0.3784368953485147,\n",
       " 0.3798939867403725,\n",
       " 0.3813528771023434,\n",
       " 0.38281360808142734,\n",
       " 0.3842762216137265,\n",
       " 0.38574075988256573,\n",
       " 0.3872072652761782,\n",
       " 0.3886757803449469,\n",
       " 0.39014634775838963,\n",
       " 0.3916190102617919,\n",
       " 0.39309381063263205,\n",
       " 0.39457079163690967,\n",
       " 0.39604999598531887,\n",
       " 0.39753146628937747,\n",
       " 0.39901524501760366,\n",
       " 0.4005013744517513,\n",
       " 0.4019898966431204,\n",
       " 0.40348085336909373,\n",
       " 0.40497428608988567,\n",
       " 0.4064702359055102,\n",
       " 0.40796874351313434,\n",
       " 0.40946984916475304,\n",
       " 0.4109735926252049,\n",
       " 0.41248001313072147,\n",
       " 0.4139891493478986,\n",
       " 0.4155010393331503,\n",
       " 0.41701572049274604,\n",
       " 0.41853322954342104,\n",
       " 0.42005360247354184,\n",
       " 0.4215768745048955,\n",
       " 0.42310308005517827,\n",
       " 0.4246322527010728,\n",
       " 0.4261644251420694,\n",
       " 0.42769962916496745,\n",
       " 0.42923789560906317,\n",
       " 0.43077925433209996,\n",
       " 0.43232373417692854,\n",
       " 0.4338713629389401,\n",
       " 0.4354221673342216,\n",
       " 0.4369761729684838,\n",
       " 0.4385334043067271,\n",
       " 0.4400938846436834,\n",
       " 0.441657636075016,\n",
       " 0.4432246794692544,\n",
       " 0.44479503444052604,\n",
       " 0.44636871932200023,\n",
       " 0.4479457511400924,\n",
       " 0.4495261455894225,\n",
       " 0.4511099170084828,\n",
       " 0.45269707835604106,\n",
       " 0.45428764118823467,\n",
       " 0.45588161563641405,\n",
       " 0.45747901038567607,\n",
       " 0.4590798326540662,\n",
       " 0.46068408817245354,\n",
       " 0.46229178116508984,\n",
       " 0.4639029143308251,\n",
       " 0.46551748882497446,\n",
       " 0.46713550424179306,\n",
       " 0.4687569585976002,\n",
       " 0.4703818483145121,\n",
       " 0.4720101682047561,\n",
       " 0.47364191145560947,\n",
       " 0.4752770696149329,\n",
       " 0.47691563257724495,\n",
       " 0.47855758857033975,\n",
       " 0.48020292414253934,\n",
       " 0.4818516241504691,\n",
       " 0.48350367174733266,\n",
       " 0.48515904837175333,\n",
       " 0.4868177337372083,\n",
       " 0.48847970582189115,\n",
       " 0.4901449408591431,\n",
       " 0.4918134133284716,\n",
       " 0.49348509594697954,\n",
       " 0.4951599596613726,\n",
       " 0.49683797364050203,\n",
       " 0.49851910526840815,\n",
       " 0.5002033201379057,\n",
       " 0.5018905820446588,\n",
       " 0.5035808529818357,\n",
       " 0.5052740931352753,\n",
       " 0.506970260879203,\n",
       " 0.5086693127725296,\n",
       " 0.5103712035556854,\n",
       " 0.512075886148006,\n",
       " 0.5137833116457567,\n",
       " 0.5154934293207778,\n",
       " 0.5172061866196337,\n",
       " 0.518921529163485,\n",
       " 0.5206394007486012,\n",
       " 0.5223597433474925,\n",
       " 0.5240824971107674,\n",
       " 0.5258076003696753,\n",
       " 0.5275349896393731,\n",
       " 0.5292645996229423,\n",
       " 0.5309963632161956,\n",
       " 0.5327302115132299,\n",
       " 0.5344660738128836,\n",
       " 0.5362038776259536,\n",
       " 0.5379435486833251,\n",
       " 0.5396850109450118,\n",
       " 0.5414281866100815,\n",
       " 0.5431729961276055,\n",
       " 0.544919358208499,\n",
       " 0.5466671898384264,\n",
       " 0.5484164062917419,\n",
       " 0.550166921146445,\n",
       " 0.5519186463002254,\n",
       " 0.5536714919876101,\n",
       " 0.555425366798199,\n",
       " 0.5571801776960155,\n",
       " 0.558935830040046,\n",
       " 0.5606922276058004,\n",
       " 0.5624492726080328,\n",
       " 0.5642068657245782,\n",
       " 0.5659649061211954,\n",
       " 0.567723291477492,\n",
       " 0.5694819180137675,\n",
       " 0.5712406805187955,\n",
       " 0.5729994723783091,\n",
       " 0.574758185604225,\n",
       " 0.5765167108643526,\n",
       " 0.5782749375123937,\n",
       " 0.5800327536181187,\n",
       " 0.5817900459972447,\n",
       " 0.5835467002408501,\n",
       " 0.585302600743905,\n",
       " 0.5870576307323888,\n",
       " 0.5888116722884397,\n",
       " 0.590564606372927,\n",
       " 0.5923163128446773,\n",
       " 0.5940666704753208,\n",
       " 0.5958155569588851,\n",
       " 0.5975628489147474,\n",
       " 0.5993084218824724,\n",
       " 0.601052150306995,\n",
       " 0.6027939075120313,\n",
       " 0.6045335656593995,\n",
       " 0.6062709956917437,\n",
       " 0.6080060672554815,\n",
       " 0.6097386486003655,\n",
       " 0.6114686064516388,\n",
       " 0.6131958058500072,\n",
       " 0.6149201099540139,\n",
       " 0.6166413797985985,\n",
       " 0.6183594740026297,\n",
       " 0.6200742484173632,\n",
       " 0.6217855557067055,\n",
       " 0.6234932448487385,\n",
       " 0.6251971605469717,\n",
       " 0.6268971425383105,\n",
       " 0.6285930247833574,\n",
       " 0.6302846345234174,\n",
       " 0.6319717911871797,\n",
       " 0.6336543051292417,\n",
       " 0.6353319761818305,\n",
       " 0.637004592001089,\n",
       " 0.6386719261901646,\n",
       " 0.6403337361833042,\n",
       " 0.6419897608791699,\n",
       " 0.6436397180174962,\n",
       " 0.6452833013024108,\n",
       " 0.6469201772887722,\n",
       " 0.6485499820655466,\n",
       " 0.6501723177936065,\n",
       " 0.6517867491852216,\n",
       " 0.6533928000496014,\n",
       " 0.6549899500730889,\n",
       " 0.6565776320535505,\n",
       " 0.6581552298639268,\n",
       " 0.6597220774764889,\n",
       " 0.6612774594315909,\n",
       " 0.6628206131741758,\n",
       " 0.6643507336983359,\n",
       " 0.6658669809228377,\n",
       " 0.667368490157318,\n",
       " 0.668854385899375,\n",
       " 0.6703237990231109,\n",
       " 0.671775887183438,\n",
       " 0.6732098579818373,\n",
       " 0.674624994145561,\n",
       " 0.6760206797001451,\n",
       " 0.67739642590671,\n",
       " 0.6787518956306755,\n",
       " 0.6800869248357432,\n",
       " 0.6814015400648394,\n",
       " 0.6826959710635895,\n",
       " 0.6839706580855935,\n",
       " 0.6852262538402192,\n",
       " 0.6864636204460582,\n",
       " 0.6876838220873039,\n",
       " 0.6888881143011598,\n",
       " 0.6900779309373085,\n",
       " 0.6912548698296884,\n",
       " 0.6924206781252159,\n",
       " 0.6935772380512641,\n",
       " 0.6947265537025289,\n",
       " 0.6958707392148005,\n",
       " 0.697012008488784,\n",
       " 0.6981526664451605,\n",
       " 0.6992951016401169,\n",
       " 0.700441779952088,\n",
       " 0.7015952389653973,\n",
       " 0.7027580826240588,\n",
       " 0.7039329757080791,\n",
       " 0.7051226376944422,\n",
       " 0.7063298356059737,\n",
       " 0.7075573755233798,\n",
       " 0.7088080925387019,\n",
       " 0.7100848390599357,\n",
       " 0.7113904715316134,\n",
       " 0.7127278358054777,\n",
       " 0.7140997515661852,\n",
       " 0.7155089963724511,\n",
       " 0.7169582899956873,\n",
       " 0.7184502798087865,\n",
       " 0.719987527983439,\n",
       " 0.721572501189606,\n",
       " 0.723207563358394,\n",
       " 0.7248949718823429,\n",
       " 0.7266368774062046,\n",
       " 0.728435327131137,\n",
       " 0.7302922713416533,\n",
       " 0.7322095726879314,\n",
       " 0.734189017629535,\n",
       " 0.7362323293749121,\n",
       " 0.7383411816296972,\n",
       " 0.7405172124856615,\n",
       " 0.7427620378259862,\n",
       " 0.7450772636756529,\n",
       " 0.7474644969729294,\n",
       " 0.749925354264642,\n",
       " 0.752461467823519,\n",
       " 0.7550744886410796,\n",
       " 0.7577660856565926,\n",
       " 0.7605379404356146,\n",
       " 0.763391736305949,\n",
       " 0.7663291406922317,\n",
       " 0.7693517790639193,\n",
       " 0.7724611985350633,\n",
       " 0.7756588187509458,\n",
       " 0.7789458673147777,\n",
       " 0.782323296730933,\n",
       " 0.7857916798105559,\n",
       " 0.7893510809145331,\n",
       " 0.7930009016003622,\n",
       " 0.7967397015762019,\n",
       " 0.8005649997602339,\n",
       " 0.8044730660079713,\n",
       " 0.8084587216710175,\n",
       " 0.8125151758606474,\n",
       " 0.8166339323228963,\n",
       " 0.8208048061992607,\n",
       " 0.8250160868883809,\n",
       " 0.8292548695325254,\n",
       " 0.833507552722374,\n",
       " 0.8377604677262327,\n",
       " 0.8420005734561865,\n",
       " 0.8462161320781606,\n",
       " 0.850397280520725,\n",
       " 0.8545364339922956,\n",
       " 0.8586284919960008,\n",
       " 0.8626708538217818,\n",
       " 0.8666632786596222,\n",
       " 0.8706076398887288,\n",
       " 0.8745076240899428,\n",
       " 0.8783684170236817,\n",
       " 0.8821964063342715,\n",
       " 0.8859989181827418,\n",
       " 0.8897839947069193,\n",
       " 0.8935602119268607,\n",
       " 0.8973365332354141,\n",
       " 0.9011221912924189,\n",
       " 0.9049265902732104,\n",
       " 0.9087592204314968,\n",
       " 0.9126295774329524,\n",
       " 0.9165470796802886,\n",
       " 0.9205209778063108,\n",
       " 0.9245602516873154,\n",
       " 0.928673491820132,\n",
       " 0.9328687638392693,\n",
       " 0.9371534574352796,\n",
       " 0.9415341240008659,\n",
       " 0.9460163108469584,\n",
       " 0.9506044034269898,\n",
       " 0.9553014900320328,\n",
       " 0.960109264983383,\n",
       " 0.9650279855193058,\n",
       " 0.9700564937078888,\n",
       " 0.9751923078709578,\n",
       " 0.9804317791792642,\n",
       " 0.9857703001432326,\n",
       " 0.9912025448730092,\n",
       " 0.9967227179389755,\n",
       " 1.002324790000469,\n",
       " 1.0080027033212713,\n",
       " 1.0137505371591715,\n",
       " 1.0195626299157987,\n",
       " 1.0254336604451117,\n",
       " 1.031358694403485,\n",
       " 1.0373332030412203,\n",
       " 1.0433530618584876,\n",
       " 1.0494145356684248,\n",
       " 1.0555142553355596,\n",
       " 1.061649190138087,\n",
       " 1.0678166185315214,\n",
       " 1.0740140991462583,\n",
       " 1.0802394431395184,\n",
       " 1.0864906885144576,\n",
       " 1.0927660766748453,\n",
       " 1.0990640312622113,\n",
       " 1.1053831391888969,\n",
       " 1.1117221337072738,\n",
       " 1.1180798793223043,\n",
       " 1.1244553583469334,\n",
       " 1.130847658907126,\n",
       " 1.1372559642191244,\n",
       " 1.143679542980984,\n",
       " 1.150117740740964,\n",
       " 1.1565699721250855,\n",
       " 1.1630357138242031,\n",
       " 1.1695144982566905,\n",
       " 1.1760059078362672,\n",
       " 1.1825095697854673,\n",
       " 1.1890251514441166,\n",
       " 1.195552356029025,\n",
       " 1.202090918806359,\n",
       " 1.2086406036420743,\n",
       " 1.2152011998987908,\n",
       " 1.221772519649741,\n",
       " 1.2283543951823077,\n",
       " 1.2349466767652877,\n",
       " 1.241549230655582,\n",
       " 1.2481619373214794,\n",
       " 1.2547846898612633,\n",
       " 1.26141739259737,\n",
       " 1.2680599598279045,\n",
       " 1.2747123147188104,\n",
       " 1.2813743883214865,\n",
       " 1.2880461187020524,\n",
       " 1.2947274501698345,\n",
       " 1.3014183325938722,\n",
       " 1.3081187207974418,\n",
       " 1.314828574021637,\n",
       " 1.32154785545006,\n",
       " 1.328276531787532,\n",
       " 1.3350145728865555,\n",
       " 1.3417619514159498,\n",
       " 1.348518642566767,\n",
       " 1.355284623791129,\n",
       " 1.3620598745701442,\n",
       " 1.3688443762075382,\n",
       " 1.3756381116459961,\n",
       " 1.3824410653036023,\n",
       " 1.3892532229280392,\n",
       " 1.3960745714665248,\n",
       " 1.402905098949671,\n",
       " 1.4097447943876884,\n",
       " 1.4165936476775234,\n",
       " 1.4234516495197125,\n",
       " 1.4303187913438513,\n",
       " 1.4371950652417294,\n",
       " 1.4440804639072664,\n",
       " 1.450974980582523,\n",
       " 1.4578786090091054,\n",
       " 1.4647913433843935,\n",
       " 1.4717131783220554,\n",
       " 1.478644108816411,\n",
       " 1.4855841302102237,\n",
       " 1.4925332381655672,\n",
       " 1.4994914286374348,\n",
       " 1.5064586978498264,\n",
       " 1.5134350422740426,\n",
       " 1.5204204586089727,\n",
       " 1.527414943763164,\n",
       " 1.5344184948385076,\n",
       " 1.5414311091153714,\n",
       " 1.5484527840390452,\n",
       " 1.555483517207357,\n",
       " 1.5625233063593664,\n",
       " 1.569572149365017,\n",
       " 1.5766300442156673,\n",
       " 1.583696989015404,\n",
       " 1.5907729819730834,\n",
       " 1.5978580213950178,\n",
       " 1.6049521056782605,\n",
       " 1.6120552333044202,\n",
       " 1.619167402833974,\n",
       " 1.626288612901023,\n",
       " 1.6334188622084607,\n",
       " 1.6405581495235033,\n",
       " 1.647706473673569,\n",
       " 1.6548638335424681,\n",
       " 1.6620302280668684,\n",
       " 1.6692056562330309,\n",
       " 1.676390117073779,\n",
       " 1.683583609665692,\n",
       " 1.6907861331264906,\n",
       " 1.6979976866126163,\n",
       " 1.7052182693169757,\n",
       " 1.7124478804668475,\n",
       " 1.7196865193219226,\n",
       " 1.7269341851724882,\n",
       " 1.7341908773377281,\n",
       " 1.7414565951641428,\n",
       " 1.7487313380240626,\n",
       " 1.7560151053142696,\n",
       " 1.7633078964547024,\n",
       " 1.7706097108872487,\n",
       " 1.777920548074606,\n",
       " 1.7852404074992234,\n",
       " 1.7925692886623026,\n",
       " 1.7999071910828677,\n",
       " 1.8072541142968808,\n",
       " 1.8146100578564206,\n",
       " 1.8219750213289059,\n",
       " 1.8293490042963694,\n",
       " 1.8367320063547647,\n",
       " 1.8441240271133241,\n",
       " 1.851525066193946,\n",
       " 1.8589351232306246,\n",
       " 1.8663541978689013,\n",
       " 1.8737822897653567,\n",
       " 1.8812193985871237,\n",
       " 1.8886655240114358,\n",
       " 1.8961206657251877,\n",
       " 1.9035848234245298,\n",
       " 1.9110579968144799,\n",
       " 1.918540185608559,\n",
       " 1.9260313895284387,\n",
       " 1.933531608303613,\n",
       " 1.9410408416710898,\n",
       " 1.9485590893750873,\n",
       " 1.9560863511667557,\n",
       " 1.9636226268039076,\n",
       " 1.9711679160507676,\n",
       " 1.978722218677723,\n",
       " 1.9862855344610981,\n",
       " 1.9938578631829325,\n",
       " 2.001439204630776,\n",
       " 2.0090295585974833,\n",
       " 2.0166289248810285,\n",
       " 2.024237303284321,\n",
       " 2.0318546936150383,\n",
       " 2.039481095685453,\n",
       " 2.0471165093122816,\n",
       " 2.0547609343165294,\n",
       " 2.0624143705233524,\n",
       " 2.0700768177619135,\n",
       " 2.077748275865254,\n",
       " 2.085428744670166,\n",
       " 2.093118224017076,\n",
       " 2.1008167137499236,\n",
       " 2.1085242137160543,\n",
       " 2.116240723766111,\n",
       " 2.123966243753937,\n",
       " 2.1317007735364717,\n",
       " 2.1394443129736618,\n",
       " 2.147196861928368,\n",
       " 2.1549584202662837,\n",
       " 2.1627289878558456,\n",
       " 2.1705085645681574,\n",
       " 2.1782971502769115,\n",
       " 2.1860947448583197,\n",
       " 2.1939013481910354,\n",
       " 2.201716960156089,\n",
       " 2.209541580636821,\n",
       " 2.2173752095188224,\n",
       " 2.225217846689867,\n",
       " 2.2330694920398564,\n",
       " 2.2409301454607626,\n",
       " 2.2487998068465767,\n",
       " 2.2566784760932483,\n",
       " 2.26456615309864,\n",
       " 2.27246283776248,\n",
       " 2.2803685299863083,\n",
       " 2.288283229673436,\n",
       " 2.2962069367288973,\n",
       " 2.3041396510594128,\n",
       " 2.3120813725733393,\n",
       " 2.320032101180636,\n",
       " 2.3279918367928225,\n",
       " 2.335960579322946,\n",
       " 2.343938328685539,\n",
       " 2.3519250847965862,\n",
       " 2.3599208475734916,\n",
       " 2.3679256169350476,\n",
       " 2.3759393928013965,\n",
       " 2.3839621750940054,\n",
       " 2.3919939637356324,\n",
       " 2.400034758650303,\n",
       " 2.4080845597632736,\n",
       " 2.416143367001011,\n",
       " 2.424211180291161,\n",
       " 2.432287999562529,\n",
       " 2.440373824745047,\n",
       " 2.448468655769755,\n",
       " 2.456572492568773,\n",
       " 2.464685335075284,\n",
       " 2.472807183223506,\n",
       " 2.480938036948672,\n",
       " 2.489077896187009,\n",
       " 2.4972267608757206,\n",
       " 2.505384630952961,\n",
       " 2.5135515063578193,\n",
       " 2.5217273870303,\n",
       " 2.5299122729113077,\n",
       " 2.538106163942622,\n",
       " 2.5463090600668865,\n",
       " 2.554520961227587,\n",
       " 2.5627418673690423,\n",
       " 2.5709717784363786,\n",
       " 2.579210694375521,\n",
       " 2.5874586151331727,\n",
       " 2.5957155406568084,\n",
       " 2.60398147089465,\n",
       " 2.6122564057956565,\n",
       " 2.620540345309515,\n",
       " 2.628833289386618,\n",
       " 2.6371352379780575,\n",
       " 2.6454461910356075,\n",
       " 2.6537661485117177,\n",
       " 2.6620951103594925,\n",
       " 2.6704330765326865,\n",
       " 2.6787800469856875,\n",
       " 2.6871360216735125,\n",
       " 2.695501000551787,\n",
       " 2.703874983576741,\n",
       " 2.7122579707051937,\n",
       " 2.720649961894551,\n",
       " 2.7290509571027854,\n",
       " 2.7374609562884324,\n",
       " 2.7458799594105776,\n",
       " 2.7543079664288523,\n",
       " 2.762744977303418,\n",
       " 2.7711909919949598,\n",
       " 2.779646010464678,\n",
       " 2.7881100326742825,\n",
       " 2.7965830585859766,\n",
       " 2.805065088162455,\n",
       " 2.813556121366893,\n",
       " 2.8220561581629426,\n",
       " 2.830565198514718,\n",
       " 2.8390832423867924,\n",
       " 2.8476102897441886,\n",
       " 2.856146340552377,\n",
       " 2.864691394777259,\n",
       " 2.8732454523851683,\n",
       " 2.8818085133428584,\n",
       " 2.8903805776175022,\n",
       " 2.8989616451766786,\n",
       " 2.9075517159883697,\n",
       " 2.9161507900209527,\n",
       " 2.9247588672431983,\n",
       " 2.933375947624258,\n",
       " 2.942002031133661,\n",
       " 2.9506371177413127,\n",
       " 2.9592812074174804,\n",
       " 2.9679343001327942,\n",
       " 2.976596395858238,\n",
       " 2.985267494565149,\n",
       " 2.9939475962252065,\n",
       " 3.002636700810429,\n",
       " 3.011334808293169,\n",
       " 3.0200419186461116,\n",
       " 3.0287580318422624,\n",
       " 3.0374831478549487,\n",
       " 3.0462172666578105,\n",
       " 3.054960388224802,\n",
       " 3.06371251253018,\n",
       " 3.072473639548502,\n",
       " 3.0812437692546233,\n",
       " 3.0900229016236938,\n",
       " 3.0988110366311488,\n",
       " 3.107608174252708,\n",
       " 3.1164143144643712,\n",
       " 3.125229457242417,\n",
       " 3.1340536025633923,\n",
       " 3.142886750404114,\n",
       " 3.151728900741661,\n",
       " 3.1605800535533786,\n",
       " 3.1694402088168636,\n",
       " 3.178309366509968,\n",
       " 3.1871875266107925,\n",
       " 3.196074689097688,\n",
       " 3.2049708539492445,\n",
       " 3.2138760211442925,\n",
       " 3.2227901906618976,\n",
       " 3.2317133624813628,\n",
       " 3.2406455365822167,\n",
       " 3.249586712944216,\n",
       " 3.2585368915473394,\n",
       " 3.2674960723717903,\n",
       " 3.276464255397986,\n",
       " 3.2854414406065593,\n",
       " 3.2944276279783535,\n",
       " ...]"
      ]
     },
     "execution_count": 91,
     "metadata": {},
     "output_type": "execute_result"
    }
   ],
   "source": [
    "x_new"
   ]
  },
  {
   "cell_type": "code",
   "execution_count": 105,
   "id": "ece0ca1b",
   "metadata": {},
   "outputs": [
    {
     "data": {
      "text/plain": [
       "array([-2.4436141 , -3.30513218])"
      ]
     },
     "execution_count": 105,
     "metadata": {},
     "output_type": "execute_result"
    },
    {
     "data": {
      "image/png": "[encoded data removed]",
      "text/plain": [
       "<Figure size 640x480 with 1 Axes>"
      ]
     },
     "metadata": {},
     "output_type": "display_data"
    }
   ],
   "source": [
    "xx = [math.log10(float(x)) for x in x_new[1100:6667]]\n",
    "yy = [math.log10(float(x)) for x in m_new[1100:6667]]\n",
    "\n",
    "\n",
    "plt.plot(xx,yy, 'r-', label='fit: a=%5.3f, b=%5.3f' % tuple(popt))\n",
    "\n",
    "popt, pcov = curve_fit(func, xx, yy)\n",
    "\n",
    "plt.plot(xx, func(xx, *popt), 'r-', label='fit: a=%5.3f, b=%5.3f' % tuple(popt))\n",
    "plt.plot\n",
    "popt"
   ]
  },
  {
   "cell_type": "code",
   "execution_count": 69,
   "id": "6cc72f55",
   "metadata": {},
   "outputs": [
    {
     "data": {
      "text/plain": [
       "1.0"
      ]
     },
     "execution_count": 69,
     "metadata": {},
     "output_type": "execute_result"
    }
   ],
   "source": [
    "ln10(m)=-2.4ln(ub)-3.3"
   ]
  },
  {
   "cell_type": "code",
   "execution_count": null,
   "id": "690ca92d",
   "metadata": {},
   "outputs": [],
   "source": [
    "mb=const*ub^-2.4"
   ]
  },
  {
   "cell_type": "markdown",
   "id": "a01e2e0c",
   "metadata": {},
   "source": [
    "Figure 7 attempt"
   ]
  },
  {
   "cell_type": "code",
   "execution_count": 187,
   "id": "91d07678",
   "metadata": {},
   "outputs": [],
   "source": [
    "adapt_time=[]\n",
    "tau_star=0.15\n",
    "for x in x_supercritical:\n",
    "    if x<=tau_star:\n",
    "        adapt_time.append(-math.log(abs((tau_star-x))))\n",
    "        \n",
    "adapt_time;"
   ]
  },
  {
   "cell_type": "code",
   "execution_count": 189,
   "id": "cb7d28c6",
   "metadata": {},
   "outputs": [
    {
     "data": {
      "image/png": "[encoded data removed]",
      "text/plain": [
       "<Figure size 640x480 with 1 Axes>"
      ]
     },
     "metadata": {},
     "output_type": "display_data"
    }
   ],
   "source": [
    "\n",
    "with plt.style.context('ggplot'):\n",
    "    \n",
    "    #plt.plot(x_supercritical, m_supercritical,label=\"Supercritical A=0.17\",color='#ff7f0e')\n",
    "    plt.plot(adapt_time[0:len(m_supercritical)], m_supercritical,label=\"Supercritical A=0.17\",color='#ff7f0e')\n",
    "\n",
    "    plt.xscale(\"log\")\n",
    "    plt.yscale(\"log\")\n",
    "    \n",
    "    plt.xlabel(\"Bondi time $u_B$\")#$\\u03C4$\")\n",
    "    plt.ylabel(\"Bondi mass $m_B$\")#$\\u03C4$\")\n",
    "    #plt.title('Bondi mass decay')\n",
    "    plt.legend();\n",
    "    #plt.ylim([1e-6,1])\n",
    "    #plt.xlim([0,5])\n",
    "    #plt.savefig(\"myImagePDF.pdf\", format=\"pdf\", bbox_inches=\"tight\")\n",
    "    plt.show()"
   ]
  },
  {
   "cell_type": "markdown",
   "id": "54b5aa70",
   "metadata": {},
   "source": [
    "Value of Bondi mass at scri+ over time"
   ]
  },
  {
   "cell_type": "code",
   "execution_count": 292,
   "id": "ee2034e7",
   "metadata": {},
   "outputs": [
    {
     "data": {
      "image/png": "[encoded data removed]",
      "text/plain": [
       "<Figure size 1080x360 with 2 Axes>"
      ]
     },
     "metadata": {},
     "output_type": "display_data"
    }
   ],
   "source": [
    "with plt.style.context('ggplot'):\n",
    "    #plt.rcParams.update({'font.size': 12})    \n",
    "    #plt.rcParams[\"figure.figsize\"] = (7,5)\n",
    "    fig, (ax1, ax2) = plt.subplots(1, 2,figsize=(15, 5))\n",
    "\n",
    "    ax1.plot(x_subcriticalone,m_subcriticalone,linewidth=0.5)\n",
    "    ax1.set_xscale(\"log\")\n",
    "    ax1.set_yscale(\"log\")\n",
    "    \n",
    "    ax2.plot(aa,m_subcriticalone,linewidth=0.5)\n",
    "    ax2.set_xscale(\"log\")\n",
    "    ax2.set_yscale(\"log\")\n",
    "    \n",
    "    ax2.set_xlim([1,5])\n",
    "    ax2.axvline(x = 2.7, color = 'b', linewidth=0.5)\n",
    "    ax2.axvline(x = 4.1, color = 'b', linewidth=0.5)\n",
    " \n",
    "    \n",
    "    \n",
    "    plt.show()"
   ]
  },
  {
   "cell_type": "code",
   "execution_count": 29,
   "id": "073cf338",
   "metadata": {},
   "outputs": [
    {
     "data": {
      "text/plain": [
       "14.285714285714292"
      ]
     },
     "execution_count": 29,
     "metadata": {},
     "output_type": "execute_result"
    }
   ],
   "source": [
    "(10^(-16)-10^(-8))/(4.1-2.7)"
   ]
  },
  {
   "cell_type": "code",
   "execution_count": null,
   "id": "200783a7",
   "metadata": {},
   "outputs": [],
   "source": []
  },
  {
   "cell_type": "markdown",
   "id": "42c74ded",
   "metadata": {},
   "source": [
    "# Mass scaling"
   ]
  },
  {
   "cell_type": "code",
   "execution_count": 10,
   "id": "921d44ef",
   "metadata": {},
   "outputs": [],
   "source": [
    "import numpy as np\n",
    "\n",
    "import matplotlib.pyplot as plt\n",
    "\n",
    "from scipy.optimize import curve_fit\n",
    "\n",
    "def func(x, a, b):\n",
    "    \n",
    "    if type(x)==float:\n",
    "        return a * x + b\n",
    "    else:\n",
    "        z=np.zeros(len(x))\n",
    "        for i in range(0,len(x)):\n",
    "            z[i] = a * x[i] + b\n",
    "        return z\n",
    "    end\n"
   ]
  },
  {
   "cell_type": "code",
   "execution_count": 44,
   "id": "6fe4f6d5",
   "metadata": {},
   "outputs": [
    {
     "name": "stdout",
     "output_type": "stream",
     "text": [
      "/home/rita13santos/Desktop/massscalingdatanewsigm\n",
      "File count in dir /home/rita13santos/Desktop/massscalingdatanewsigm is:  2\n"
     ]
    }
   ],
   "source": [
    "m=[]\n",
    "\n",
    "\n",
    "dir = \"/home/rita13santos/Desktop/massscalingdatanewsigm\"\n",
    "#dir = \"/home/rita13santos/Desktop/massscalingdata/morepoitns\"\n",
    "#dir = \"/home/rita13santos/Desktop/massscalingdata\"\n",
    "\n",
    "print(dir)\n",
    "    \n",
    "count=0\n",
    "for path in os.listdir(dir):\n",
    "    # check if current path is a file\n",
    "    if os.path.isfile(os.path.join(dir, path)):\n",
    "        count += 1\n",
    "print('File count in dir', dir, 'is: ', count)\n",
    "\n",
    "\n",
    "with pd.option_context('display.precision', 20):\n",
    "    df = pd.read_csv(dir + \"/parameters.csv\", header=None, dtype = str)\n",
    "    \"\"\"df = df.to_numpy()\n",
    "    df = np.transpose(df)\"\"\""
   ]
  },
  {
   "cell_type": "code",
   "execution_count": 45,
   "id": "25e81df4",
   "metadata": {},
   "outputs": [
    {
     "data": {
      "text/plain": [
       "42"
      ]
     },
     "execution_count": 45,
     "metadata": {},
     "output_type": "execute_result"
    }
   ],
   "source": [
    "len(df[1])\n",
    "#df[1:len(df[1]),7]"
   ]
  },
  {
   "cell_type": "code",
   "execution_count": 46,
   "id": "d0bad5c2",
   "metadata": {},
   "outputs": [
    {
     "data": {
      "text/html": [
       "<div>\n",
       "<style scoped>\n",
       "    .dataframe tbody tr th:only-of-type {\n",
       "        vertical-align: middle;\n",
       "    }\n",
       "\n",
       "    .dataframe tbody tr th {\n",
       "        vertical-align: top;\n",
       "    }\n",
       "\n",
       "    .dataframe thead th {\n",
       "        text-align: right;\n",
       "    }\n",
       "</style>\n",
       "<table border=\"1\" class=\"dataframe\">\n",
       "  <thead>\n",
       "    <tr style=\"text-align: right;\">\n",
       "      <th></th>\n",
       "      <th>0</th>\n",
       "      <th>1</th>\n",
       "      <th>2</th>\n",
       "      <th>3</th>\n",
       "      <th>4</th>\n",
       "      <th>5</th>\n",
       "      <th>6</th>\n",
       "      <th>7</th>\n",
       "    </tr>\n",
       "  </thead>\n",
       "  <tbody>\n",
       "    <tr>\n",
       "      <th>0</th>\n",
       "      <td>Column1</td>\n",
       "      <td>Column2</td>\n",
       "      <td>Column3</td>\n",
       "      <td>Column4</td>\n",
       "      <td>Column5</td>\n",
       "      <td>Column6</td>\n",
       "      <td>Column7</td>\n",
       "      <td>Column8</td>\n",
       "    </tr>\n",
       "    <tr>\n",
       "      <th>1</th>\n",
       "      <td>0.0</td>\n",
       "      <td>0.14985093340214264</td>\n",
       "      <td>0.4</td>\n",
       "      <td>0.7</td>\n",
       "      <td>0.0</td>\n",
       "      <td>0.0</td>\n",
       "      <td>1.0</td>\n",
       "      <td>0.0</td>\n",
       "    </tr>\n",
       "    <tr>\n",
       "      <th>2</th>\n",
       "      <td>0.0</td>\n",
       "      <td>0.14985093340214264</td>\n",
       "      <td>0.4</td>\n",
       "      <td>0.7</td>\n",
       "      <td>3.0</td>\n",
       "      <td>0.0</td>\n",
       "      <td>1.0</td>\n",
       "      <td>0.0</td>\n",
       "    </tr>\n",
       "    <tr>\n",
       "      <th>3</th>\n",
       "      <td>0.0</td>\n",
       "      <td>0.14985093340220337</td>\n",
       "      <td>0.4</td>\n",
       "      <td>0.7</td>\n",
       "      <td>3.0</td>\n",
       "      <td>0.0</td>\n",
       "      <td>2.0</td>\n",
       "      <td>0.0</td>\n",
       "    </tr>\n",
       "    <tr>\n",
       "      <th>4</th>\n",
       "      <td>1.0</td>\n",
       "      <td>0.14985093340230346</td>\n",
       "      <td>0.4</td>\n",
       "      <td>0.7</td>\n",
       "      <td>2.3204032668493912</td>\n",
       "      <td>0.0</td>\n",
       "      <td>3.0</td>\n",
       "      <td>0.0001750927839906397</td>\n",
       "    </tr>\n",
       "    <tr>\n",
       "      <th>5</th>\n",
       "      <td>1.0</td>\n",
       "      <td>0.14985093340246847</td>\n",
       "      <td>0.4</td>\n",
       "      <td>0.7</td>\n",
       "      <td>2.320403242122292</td>\n",
       "      <td>0.0</td>\n",
       "      <td>4.0</td>\n",
       "      <td>0.00017510906474843557</td>\n",
       "    </tr>\n",
       "    <tr>\n",
       "      <th>6</th>\n",
       "      <td>1.0</td>\n",
       "      <td>0.14985093340274053</td>\n",
       "      <td>0.4</td>\n",
       "      <td>0.7</td>\n",
       "      <td>2.3204032013450417</td>\n",
       "      <td>0.0</td>\n",
       "      <td>5.0</td>\n",
       "      <td>0.0001751359191171324</td>\n",
       "    </tr>\n",
       "    <tr>\n",
       "      <th>7</th>\n",
       "      <td>1.0</td>\n",
       "      <td>0.14985093340318908</td>\n",
       "      <td>0.4</td>\n",
       "      <td>0.7</td>\n",
       "      <td>2.320403134120239</td>\n",
       "      <td>0.0</td>\n",
       "      <td>6.0</td>\n",
       "      <td>0.00017518020693635275</td>\n",
       "    </tr>\n",
       "    <tr>\n",
       "      <th>8</th>\n",
       "      <td>1.0</td>\n",
       "      <td>0.1498509334039286</td>\n",
       "      <td>0.4</td>\n",
       "      <td>0.7</td>\n",
       "      <td>2.3204030233059085</td>\n",
       "      <td>0.0</td>\n",
       "      <td>7.0</td>\n",
       "      <td>0.00017525325534767887</td>\n",
       "    </tr>\n",
       "    <tr>\n",
       "      <th>9</th>\n",
       "      <td>1.0</td>\n",
       "      <td>0.1498509334051479</td>\n",
       "      <td>0.4</td>\n",
       "      <td>0.7</td>\n",
       "      <td>2.3204028406327217</td>\n",
       "      <td>0.0</td>\n",
       "      <td>8.0</td>\n",
       "      <td>0.00017537379189906638</td>\n",
       "    </tr>\n",
       "    <tr>\n",
       "      <th>10</th>\n",
       "      <td>1.0</td>\n",
       "      <td>0.14985093340715816</td>\n",
       "      <td>0.4</td>\n",
       "      <td>0.7</td>\n",
       "      <td>2.3204025395770724</td>\n",
       "      <td>0.0</td>\n",
       "      <td>9.0</td>\n",
       "      <td>0.00017557276709035438</td>\n",
       "    </tr>\n",
       "    <tr>\n",
       "      <th>11</th>\n",
       "      <td>1.0</td>\n",
       "      <td>0.14985093341047254</td>\n",
       "      <td>0.4</td>\n",
       "      <td>0.7</td>\n",
       "      <td>2.320402043494104</td>\n",
       "      <td>0.0</td>\n",
       "      <td>10.0</td>\n",
       "      <td>0.00017590152494432792</td>\n",
       "    </tr>\n",
       "    <tr>\n",
       "      <th>12</th>\n",
       "      <td>1.0</td>\n",
       "      <td>0.14985093341593703</td>\n",
       "      <td>0.4</td>\n",
       "      <td>0.7</td>\n",
       "      <td>2.3204012263650466</td>\n",
       "      <td>0.0</td>\n",
       "      <td>11.0</td>\n",
       "      <td>0.00017644545008025273</td>\n",
       "    </tr>\n",
       "    <tr>\n",
       "      <th>13</th>\n",
       "      <td>1.0</td>\n",
       "      <td>0.14985093342494643</td>\n",
       "      <td>0.4</td>\n",
       "      <td>0.7</td>\n",
       "      <td>2.3203998812634903</td>\n",
       "      <td>0.0</td>\n",
       "      <td>12.0</td>\n",
       "      <td>0.00017734744669819697</td>\n",
       "    </tr>\n",
       "    <tr>\n",
       "      <th>14</th>\n",
       "      <td>1.0</td>\n",
       "      <td>0.14985093343980044</td>\n",
       "      <td>0.4</td>\n",
       "      <td>0.7</td>\n",
       "      <td>2.3203976693118284</td>\n",
       "      <td>0.0</td>\n",
       "      <td>13.0</td>\n",
       "      <td>0.00017884902367999153</td>\n",
       "    </tr>\n",
       "    <tr>\n",
       "      <th>15</th>\n",
       "      <td>1.0</td>\n",
       "      <td>0.14985093346429051</td>\n",
       "      <td>0.4</td>\n",
       "      <td>0.7</td>\n",
       "      <td>2.32039403792322</td>\n",
       "      <td>0.0</td>\n",
       "      <td>14.0</td>\n",
       "      <td>0.0001813651328707549</td>\n",
       "    </tr>\n",
       "    <tr>\n",
       "      <th>16</th>\n",
       "      <td>1.0</td>\n",
       "      <td>0.14985093350466788</td>\n",
       "      <td>0.4</td>\n",
       "      <td>0.7</td>\n",
       "      <td>2.3203880922972306</td>\n",
       "      <td>0.0</td>\n",
       "      <td>15.0</td>\n",
       "      <td>0.00018562882354813444</td>\n",
       "    </tr>\n",
       "    <tr>\n",
       "      <th>17</th>\n",
       "      <td>1.0</td>\n",
       "      <td>0.14985093357123888</td>\n",
       "      <td>0.4</td>\n",
       "      <td>0.7</td>\n",
       "      <td>2.320378399587655</td>\n",
       "      <td>0.0</td>\n",
       "      <td>16.0</td>\n",
       "      <td>0.00019299686644946653</td>\n",
       "    </tr>\n",
       "    <tr>\n",
       "      <th>18</th>\n",
       "      <td>1.0</td>\n",
       "      <td>0.1498509336809959</td>\n",
       "      <td>0.4</td>\n",
       "      <td>0.7</td>\n",
       "      <td>2.320362708787882</td>\n",
       "      <td>0.0</td>\n",
       "      <td>17.0</td>\n",
       "      <td>0.0002061822455758772</td>\n",
       "    </tr>\n",
       "    <tr>\n",
       "      <th>19</th>\n",
       "      <td>1.0</td>\n",
       "      <td>0.1498509338619546</td>\n",
       "      <td>0.4</td>\n",
       "      <td>0.7</td>\n",
       "      <td>2.320337584965129</td>\n",
       "      <td>0.0</td>\n",
       "      <td>18.0</td>\n",
       "      <td>0.00023124246494377323</td>\n",
       "    </tr>\n",
       "    <tr>\n",
       "      <th>20</th>\n",
       "      <td>1.0</td>\n",
       "      <td>0.14985093416030512</td>\n",
       "      <td>0.4</td>\n",
       "      <td>0.7</td>\n",
       "      <td>2.320297980700944</td>\n",
       "      <td>0.0</td>\n",
       "      <td>19.0</td>\n",
       "      <td>0.0002823031674640278</td>\n",
       "    </tr>\n",
       "    <tr>\n",
       "      <th>21</th>\n",
       "      <td>1.0</td>\n",
       "      <td>0.14985093465220195</td>\n",
       "      <td>0.4</td>\n",
       "      <td>0.7</td>\n",
       "      <td>2.320236694309093</td>\n",
       "      <td>0.0</td>\n",
       "      <td>20.0</td>\n",
       "      <td>0.0003685941920043829</td>\n",
       "    </tr>\n",
       "    <tr>\n",
       "      <th>22</th>\n",
       "      <td>1.0</td>\n",
       "      <td>0.1498509354632027</td>\n",
       "      <td>0.4</td>\n",
       "      <td>0.7</td>\n",
       "      <td>2.320142713708435</td>\n",
       "      <td>0.0</td>\n",
       "      <td>21.0</td>\n",
       "      <td>0.00035562934441631415</td>\n",
       "    </tr>\n",
       "    <tr>\n",
       "      <th>23</th>\n",
       "      <td>1.0</td>\n",
       "      <td>0.1498509368003169</td>\n",
       "      <td>0.4</td>\n",
       "      <td>0.7</td>\n",
       "      <td>2.3199936274833037</td>\n",
       "      <td>0.0</td>\n",
       "      <td>22.0</td>\n",
       "      <td>0.00021048907638429858</td>\n",
       "    </tr>\n",
       "    <tr>\n",
       "      <th>24</th>\n",
       "      <td>1.0</td>\n",
       "      <td>0.14985093900484553</td>\n",
       "      <td>0.4</td>\n",
       "      <td>0.7</td>\n",
       "      <td>2.319821109866002</td>\n",
       "      <td>0.0</td>\n",
       "      <td>23.0</td>\n",
       "      <td>0.0003231392112916088</td>\n",
       "    </tr>\n",
       "    <tr>\n",
       "      <th>25</th>\n",
       "      <td>1.0</td>\n",
       "      <td>0.14985094263949875</td>\n",
       "      <td>0.4</td>\n",
       "      <td>0.7</td>\n",
       "      <td>2.319542160750452</td>\n",
       "      <td>0.0</td>\n",
       "      <td>24.0</td>\n",
       "      <td>0.0005626084861055271</td>\n",
       "    </tr>\n",
       "    <tr>\n",
       "      <th>26</th>\n",
       "      <td>1.0</td>\n",
       "      <td>0.14985094863202883</td>\n",
       "      <td>0.4</td>\n",
       "      <td>0.7</td>\n",
       "      <td>2.3190684487249644</td>\n",
       "      <td>0.0</td>\n",
       "      <td>25.0</td>\n",
       "      <td>0.0005443456559451098</td>\n",
       "    </tr>\n",
       "    <tr>\n",
       "      <th>27</th>\n",
       "      <td>1.0</td>\n",
       "      <td>0.14985095851204064</td>\n",
       "      <td>0.4</td>\n",
       "      <td>0.7</td>\n",
       "      <td>2.3173546749142924</td>\n",
       "      <td>0.0</td>\n",
       "      <td>26.0</td>\n",
       "      <td>0.0001979738014966114</td>\n",
       "    </tr>\n",
       "    <tr>\n",
       "      <th>28</th>\n",
       "      <td>1.0</td>\n",
       "      <td>0.14985097480142626</td>\n",
       "      <td>0.4</td>\n",
       "      <td>0.7</td>\n",
       "      <td>2.315499769808898</td>\n",
       "      <td>0.0</td>\n",
       "      <td>27.0</td>\n",
       "      <td>0.0010716090377238694</td>\n",
       "    </tr>\n",
       "    <tr>\n",
       "      <th>29</th>\n",
       "      <td>1.0</td>\n",
       "      <td>0.14985100165808285</td>\n",
       "      <td>0.4</td>\n",
       "      <td>0.7</td>\n",
       "      <td>2.313660495294364</td>\n",
       "      <td>0.0</td>\n",
       "      <td>28.0</td>\n",
       "      <td>0.0012305944128564584</td>\n",
       "    </tr>\n",
       "    <tr>\n",
       "      <th>30</th>\n",
       "      <td>1.0</td>\n",
       "      <td>0.1498510459372238</td>\n",
       "      <td>0.4</td>\n",
       "      <td>0.7</td>\n",
       "      <td>2.3121520905490556</td>\n",
       "      <td>0.0</td>\n",
       "      <td>29.0</td>\n",
       "      <td>0.0015866339547986245</td>\n",
       "    </tr>\n",
       "    <tr>\n",
       "      <th>31</th>\n",
       "      <td>1.0</td>\n",
       "      <td>0.14985111894118533</td>\n",
       "      <td>0.4</td>\n",
       "      <td>0.7</td>\n",
       "      <td>2.310751515426659</td>\n",
       "      <td>0.0</td>\n",
       "      <td>30.0</td>\n",
       "      <td>0.00212478484552152</td>\n",
       "    </tr>\n",
       "    <tr>\n",
       "      <th>32</th>\n",
       "      <td>1.0</td>\n",
       "      <td>0.14985123930436958</td>\n",
       "      <td>0.4</td>\n",
       "      <td>0.7</td>\n",
       "      <td>2.3092075577726323</td>\n",
       "      <td>0.0</td>\n",
       "      <td>31.0</td>\n",
       "      <td>0.002469967208825125</td>\n",
       "    </tr>\n",
       "    <tr>\n",
       "      <th>33</th>\n",
       "      <td>1.0</td>\n",
       "      <td>0.14985143774971166</td>\n",
       "      <td>0.4</td>\n",
       "      <td>0.7</td>\n",
       "      <td>2.3073872684309427</td>\n",
       "      <td>0.0</td>\n",
       "      <td>32.0</td>\n",
       "      <td>0.0028230845497701244</td>\n",
       "    </tr>\n",
       "    <tr>\n",
       "      <th>34</th>\n",
       "      <td>1.0</td>\n",
       "      <td>0.14985176493076818</td>\n",
       "      <td>0.4</td>\n",
       "      <td>0.7</td>\n",
       "      <td>2.3049456766056275</td>\n",
       "      <td>0.0</td>\n",
       "      <td>33.0</td>\n",
       "      <td>0.003189742449772123</td>\n",
       "    </tr>\n",
       "    <tr>\n",
       "      <th>35</th>\n",
       "      <td>1.0</td>\n",
       "      <td>0.14985230436113547</td>\n",
       "      <td>0.4</td>\n",
       "      <td>0.7</td>\n",
       "      <td>2.3014389896129357</td>\n",
       "      <td>0.0</td>\n",
       "      <td>34.0</td>\n",
       "      <td>0.0037272728736385745</td>\n",
       "    </tr>\n",
       "    <tr>\n",
       "      <th>36</th>\n",
       "      <td>1.0</td>\n",
       "      <td>0.14985319373145606</td>\n",
       "      <td>0.4</td>\n",
       "      <td>0.7</td>\n",
       "      <td>2.2965434299609795</td>\n",
       "      <td>0.0</td>\n",
       "      <td>35.0</td>\n",
       "      <td>0.0042685009237052275</td>\n",
       "    </tr>\n",
       "    <tr>\n",
       "      <th>37</th>\n",
       "      <td>1.0</td>\n",
       "      <td>0.14985466005522116</td>\n",
       "      <td>0.4</td>\n",
       "      <td>0.7</td>\n",
       "      <td>2.2873070745626243</td>\n",
       "      <td>0.0</td>\n",
       "      <td>36.0</td>\n",
       "      <td>0.0046248454079798745</td>\n",
       "    </tr>\n",
       "    <tr>\n",
       "      <th>38</th>\n",
       "      <td>1.0</td>\n",
       "      <td>0.1498570776144024</td>\n",
       "      <td>0.4</td>\n",
       "      <td>0.7</td>\n",
       "      <td>2.2780134743733966</td>\n",
       "      <td>0.0</td>\n",
       "      <td>37.0</td>\n",
       "      <td>0.006970366421909123</td>\n",
       "    </tr>\n",
       "    <tr>\n",
       "      <th>39</th>\n",
       "      <td>1.0</td>\n",
       "      <td>0.1498610634956477</td>\n",
       "      <td>0.4</td>\n",
       "      <td>0.7</td>\n",
       "      <td>2.270177470642758</td>\n",
       "      <td>0.0</td>\n",
       "      <td>38.0</td>\n",
       "      <td>0.009358896489107949</td>\n",
       "    </tr>\n",
       "    <tr>\n",
       "      <th>40</th>\n",
       "      <td>1.0</td>\n",
       "      <td>0.14986763510283932</td>\n",
       "      <td>0.4</td>\n",
       "      <td>0.7</td>\n",
       "      <td>2.263196163713119</td>\n",
       "      <td>0.0</td>\n",
       "      <td>39.0</td>\n",
       "      <td>0.011214072153837141</td>\n",
       "    </tr>\n",
       "    <tr>\n",
       "      <th>41</th>\n",
       "      <td>1.0</td>\n",
       "      <td>0.14987846985139883</td>\n",
       "      <td>0.4</td>\n",
       "      <td>0.7</td>\n",
       "      <td>2.2556822868343787</td>\n",
       "      <td>0.0</td>\n",
       "      <td>40.0</td>\n",
       "      <td>0.013074514823464556</td>\n",
       "    </tr>\n",
       "  </tbody>\n",
       "</table>\n",
       "</div>"
      ],
      "text/plain": [
       "          0                    1        2        3                   4  \\\n",
       "0   Column1              Column2  Column3  Column4             Column5   \n",
       "1       0.0  0.14985093340214264      0.4      0.7                 0.0   \n",
       "2       0.0  0.14985093340214264      0.4      0.7                 3.0   \n",
       "3       0.0  0.14985093340220337      0.4      0.7                 3.0   \n",
       "4       1.0  0.14985093340230346      0.4      0.7  2.3204032668493912   \n",
       "5       1.0  0.14985093340246847      0.4      0.7   2.320403242122292   \n",
       "6       1.0  0.14985093340274053      0.4      0.7  2.3204032013450417   \n",
       "7       1.0  0.14985093340318908      0.4      0.7   2.320403134120239   \n",
       "8       1.0   0.1498509334039286      0.4      0.7  2.3204030233059085   \n",
       "9       1.0   0.1498509334051479      0.4      0.7  2.3204028406327217   \n",
       "10      1.0  0.14985093340715816      0.4      0.7  2.3204025395770724   \n",
       "11      1.0  0.14985093341047254      0.4      0.7   2.320402043494104   \n",
       "12      1.0  0.14985093341593703      0.4      0.7  2.3204012263650466   \n",
       "13      1.0  0.14985093342494643      0.4      0.7  2.3203998812634903   \n",
       "14      1.0  0.14985093343980044      0.4      0.7  2.3203976693118284   \n",
       "15      1.0  0.14985093346429051      0.4      0.7    2.32039403792322   \n",
       "16      1.0  0.14985093350466788      0.4      0.7  2.3203880922972306   \n",
       "17      1.0  0.14985093357123888      0.4      0.7   2.320378399587655   \n",
       "18      1.0   0.1498509336809959      0.4      0.7   2.320362708787882   \n",
       "19      1.0   0.1498509338619546      0.4      0.7   2.320337584965129   \n",
       "20      1.0  0.14985093416030512      0.4      0.7   2.320297980700944   \n",
       "21      1.0  0.14985093465220195      0.4      0.7   2.320236694309093   \n",
       "22      1.0   0.1498509354632027      0.4      0.7   2.320142713708435   \n",
       "23      1.0   0.1498509368003169      0.4      0.7  2.3199936274833037   \n",
       "24      1.0  0.14985093900484553      0.4      0.7   2.319821109866002   \n",
       "25      1.0  0.14985094263949875      0.4      0.7   2.319542160750452   \n",
       "26      1.0  0.14985094863202883      0.4      0.7  2.3190684487249644   \n",
       "27      1.0  0.14985095851204064      0.4      0.7  2.3173546749142924   \n",
       "28      1.0  0.14985097480142626      0.4      0.7   2.315499769808898   \n",
       "29      1.0  0.14985100165808285      0.4      0.7   2.313660495294364   \n",
       "30      1.0   0.1498510459372238      0.4      0.7  2.3121520905490556   \n",
       "31      1.0  0.14985111894118533      0.4      0.7   2.310751515426659   \n",
       "32      1.0  0.14985123930436958      0.4      0.7  2.3092075577726323   \n",
       "33      1.0  0.14985143774971166      0.4      0.7  2.3073872684309427   \n",
       "34      1.0  0.14985176493076818      0.4      0.7  2.3049456766056275   \n",
       "35      1.0  0.14985230436113547      0.4      0.7  2.3014389896129357   \n",
       "36      1.0  0.14985319373145606      0.4      0.7  2.2965434299609795   \n",
       "37      1.0  0.14985466005522116      0.4      0.7  2.2873070745626243   \n",
       "38      1.0   0.1498570776144024      0.4      0.7  2.2780134743733966   \n",
       "39      1.0   0.1498610634956477      0.4      0.7   2.270177470642758   \n",
       "40      1.0  0.14986763510283932      0.4      0.7   2.263196163713119   \n",
       "41      1.0  0.14987846985139883      0.4      0.7  2.2556822868343787   \n",
       "\n",
       "          5        6                       7  \n",
       "0   Column6  Column7                 Column8  \n",
       "1       0.0      1.0                     0.0  \n",
       "2       0.0      1.0                     0.0  \n",
       "3       0.0      2.0                     0.0  \n",
       "4       0.0      3.0   0.0001750927839906397  \n",
       "5       0.0      4.0  0.00017510906474843557  \n",
       "6       0.0      5.0   0.0001751359191171324  \n",
       "7       0.0      6.0  0.00017518020693635275  \n",
       "8       0.0      7.0  0.00017525325534767887  \n",
       "9       0.0      8.0  0.00017537379189906638  \n",
       "10      0.0      9.0  0.00017557276709035438  \n",
       "11      0.0     10.0  0.00017590152494432792  \n",
       "12      0.0     11.0  0.00017644545008025273  \n",
       "13      0.0     12.0  0.00017734744669819697  \n",
       "14      0.0     13.0  0.00017884902367999153  \n",
       "15      0.0     14.0   0.0001813651328707549  \n",
       "16      0.0     15.0  0.00018562882354813444  \n",
       "17      0.0     16.0  0.00019299686644946653  \n",
       "18      0.0     17.0   0.0002061822455758772  \n",
       "19      0.0     18.0  0.00023124246494377323  \n",
       "20      0.0     19.0   0.0002823031674640278  \n",
       "21      0.0     20.0   0.0003685941920043829  \n",
       "22      0.0     21.0  0.00035562934441631415  \n",
       "23      0.0     22.0  0.00021048907638429858  \n",
       "24      0.0     23.0   0.0003231392112916088  \n",
       "25      0.0     24.0   0.0005626084861055271  \n",
       "26      0.0     25.0   0.0005443456559451098  \n",
       "27      0.0     26.0   0.0001979738014966114  \n",
       "28      0.0     27.0   0.0010716090377238694  \n",
       "29      0.0     28.0   0.0012305944128564584  \n",
       "30      0.0     29.0   0.0015866339547986245  \n",
       "31      0.0     30.0     0.00212478484552152  \n",
       "32      0.0     31.0    0.002469967208825125  \n",
       "33      0.0     32.0   0.0028230845497701244  \n",
       "34      0.0     33.0    0.003189742449772123  \n",
       "35      0.0     34.0   0.0037272728736385745  \n",
       "36      0.0     35.0   0.0042685009237052275  \n",
       "37      0.0     36.0   0.0046248454079798745  \n",
       "38      0.0     37.0    0.006970366421909123  \n",
       "39      0.0     38.0    0.009358896489107949  \n",
       "40      0.0     39.0    0.011214072153837141  \n",
       "41      0.0     40.0    0.013074514823464556  "
      ]
     },
     "execution_count": 46,
     "metadata": {},
     "output_type": "execute_result"
    }
   ],
   "source": [
    "df"
   ]
  },
  {
   "cell_type": "code",
   "execution_count": 47,
   "id": "21dda826",
   "metadata": {},
   "outputs": [],
   "source": [
    "auxm=list(df.get(7))\n",
    "mdata=auxm[2:len(auxm)]\n",
    "mdata;\n",
    "auxp=list(df.get(1))\n",
    "pdata=auxp[2:len(auxp)]\n",
    "pdata;"
   ]
  },
  {
   "cell_type": "code",
   "execution_count": 48,
   "id": "f805d1eb",
   "metadata": {},
   "outputs": [
    {
     "name": "stderr",
     "output_type": "stream",
     "text": [
      "/tmp/ipykernel_13052/2823908785.py:5: RuntimeWarning: divide by zero encountered in log\n",
      "  ygraph = [np.log(float(x)) for x in mdata]\n"
     ]
    }
   ],
   "source": [
    "#pstar=0.12465049029170887\n",
    "##OR##\n",
    "pstar=0.14985093340204908 #baltasar, new sigma\n",
    "xgraph = [np.log(float(x) - pstar) for x in pdata]\n",
    "ygraph = [np.log(float(x)) for x in mdata]"
   ]
  },
  {
   "cell_type": "code",
   "execution_count": 49,
   "id": "69d94ed1",
   "metadata": {},
   "outputs": [
    {
     "data": {
      "text/plain": [
       "'plt.xscale(\"log\")\\nplt.yscale(\"log\")'"
      ]
     },
     "execution_count": 49,
     "metadata": {},
     "output_type": "execute_result"
    },
    {
     "data": {
      "image/png": "[encoded data removed]",
      "text/plain": [
       "<Figure size 432x288 with 1 Axes>"
      ]
     },
     "metadata": {
      "needs_background": "light"
     },
     "output_type": "display_data"
    }
   ],
   "source": [
    "plt.plot(xgraph,ygraph)\n",
    "\"\"\"plt.xscale(\"log\")\n",
    "plt.yscale(\"log\")\"\"\"\n",
    "#plt.xlim([-16,-6])"
   ]
  },
  {
   "cell_type": "markdown",
   "id": "1b19fa7f",
   "metadata": {},
   "source": [
    "Mass scaling 2"
   ]
  },
  {
   "cell_type": "code",
   "execution_count": 39,
   "id": "c11fd5ec",
   "metadata": {
    "scrolled": true
   },
   "outputs": [
    {
     "data": {
      "text/plain": [
       "array([ 0.37646839, -0.44144838])"
      ]
     },
     "execution_count": 39,
     "metadata": {},
     "output_type": "execute_result"
    }
   ],
   "source": [
    "\n",
    "\n",
    "popt, pcov = curve_fit(func, xgraph[26:len(xgraph)],ygraph[26:len(ygraph)])\n",
    "\n",
    "popt\n",
    "\n",
    "#plt.plot(xgraph[28:len(xgraph)], func(xgraph[28:len(xgraph)], *popt), 'r-', label='fit: a=%5.3f, b=%5.3f, c=%5.3f' % tuple(popt))"
   ]
  },
  {
   "cell_type": "code",
   "execution_count": 29,
   "id": "b8590385",
   "metadata": {},
   "outputs": [
    {
     "data": {
      "image/png": "[encoded data removed]",
      "text/plain": [
       "<Figure size 576x432 with 1 Axes>"
      ]
     },
     "metadata": {},
     "output_type": "display_data"
    }
   ],
   "source": [
    "\n",
    "with plt.style.context('ggplot'):\n",
    "    \n",
    "    plt.rcParams[\"figure.figsize\"] = (8,6)\n",
    "    plt.rcParams[\"font.size\"]= 12\n",
    "    plt.rcParams[\"legend.fontsize\"]= 12\n",
    "    plt.rcParams[\"xtick.labelsize\"]= \"large\"\n",
    "    plt.rcParams[\"xtick.color\"]= \"black\"\n",
    "    plt.rcParams[\"ytick.labelsize\"]= \"large\"\n",
    "    plt.rcParams[\"ytick.color\"]= \"black\"\n",
    "\n",
    "\n",
    "    plt.scatter(xgraph[26:len(xgraph)],ygraph[26:len(ygraph)],s=35)\n",
    "    #plt.scatter(converttobondi(time,beta_scri)[0:len(time)-1],massloss, alpha=0.5,s=20)\n",
    "    #plt.plot(converttobondi(time,beta_scri)[0:len(time)-1],masslossexp,label='Numerical',linewidth=1)\n",
    "    #plt.plot(converttobondi(time,beta_scri)[0:len(time)-1],massloss,label='Analytical',linewidth=1,alpha=0.5)\n",
    "    \n",
    "    \n",
    "    plt.plot(xgraph[26:len(xgraph)], func(xgraph[26:len(xgraph)], *popt), label='fit: a=%5.4f, b=%5.4f' % tuple(popt),linestyle='dashed')\n",
    "\n",
    "    plt.xlabel(\"$ln(p-p^*)$\")#$\\u03C4$\")\n",
    "    plt.ylabel(\"$ln(m_{BH}$)\")#$\\u03C4$\")\n",
    "    \n",
    "    plt.legend();\n",
    "#olor='#1f77b4'\n",
    "#color='#ff7f0e'\n",
    "    plt.savefig(\"myImagePDF.pdf\", format=\"pdf\", bbox_inches=\"tight\")\n",
    "\n",
    "    plt.show()\n",
    "#plt.xlim([0,3])"
   ]
  },
  {
   "cell_type": "code",
   "execution_count": 23,
   "id": "c666df96",
   "metadata": {},
   "outputs": [
    {
     "data": {
      "text/plain": [
       "0.753"
      ]
     },
     "execution_count": 23,
     "metadata": {},
     "output_type": "execute_result"
    }
   ],
   "source": [
    "0.3765*2"
   ]
  },
  {
   "cell_type": "code",
   "execution_count": 28,
   "id": "3f59e8c4",
   "metadata": {},
   "outputs": [
    {
     "name": "stderr",
     "output_type": "stream",
     "text": [
      "No artists with labels found to put in legend.  Note that artists whose label start with an underscore are ignored when legend() is called with no argument.\n"
     ]
    },
    {
     "data": {
      "image/png": "[encoded data removed]",
      "text/plain": [
       "<Figure size 576x432 with 1 Axes>"
      ]
     },
     "metadata": {},
     "output_type": "display_data"
    }
   ],
   "source": [
    "avg=0\n",
    "k=0\n",
    "for m in ygraph[26:len(ygraph)]:\n",
    "    avg=avg+m\n",
    "    k=k+1\n",
    "avg=avg/k\n",
    "\n",
    "#plt.ylim([4,6])\n",
    "\n",
    "\n",
    "with plt.style.context('ggplot'):\n",
    "    \n",
    "    plt.rcParams[\"figure.figsize\"] = (8,6)\n",
    "    plt.rcParams[\"font.size\"]= 12\n",
    "    plt.rcParams[\"legend.fontsize\"]= 12\n",
    "    plt.rcParams[\"xtick.labelsize\"]= \"large\"\n",
    "    plt.rcParams[\"xtick.color\"]= \"black\"\n",
    "    plt.rcParams[\"ytick.labelsize\"]= \"large\"\n",
    "    plt.rcParams[\"ytick.color\"]= \"black\"\n",
    "    \n",
    "    \n",
    "    plt.scatter(xgraph[26:len(xgraph)],np.subtract(np.subtract(ygraph[26:len(ygraph)],avg),func(xgraph[26:len(xgraph)], *popt)))\n",
    "\n",
    "    plt.xlabel(\"$ln(p-p^*)$\")#$\\u03C4$\")\n",
    "    plt.ylabel(\"$ln(m_{BH}$)\")#$\\u03C4$\")\n",
    "    \n",
    "    plt.legend();\n",
    "    plt.ylim([5,6])\n",
    "#olor='#1f77b4'\n",
    "#color='#ff7f0e'\n",
    "    plt.savefig(\"myImagePDF.pdf\", format=\"pdf\", bbox_inches=\"tight\")\n",
    "\n",
    "    plt.show()\n",
    "#plt.xlim([0,3])"
   ]
  },
  {
   "cell_type": "markdown",
   "id": "48069d60",
   "metadata": {},
   "source": [
    "WE JUST USE 2000POINTS which is enough to approximate the mass when the peak in 2m/r is formed but not enough to resolv it well.\n",
    "\n",
    "this is MORE SPARSED THAN OUR FIRST CALCULATION OF GAMMA, bc its just fo confirm"
   ]
  },
  {
   "cell_type": "markdown",
   "id": "aac9d611",
   "metadata": {},
   "source": [
    "Mass scaling 1"
   ]
  },
  {
   "cell_type": "code",
   "execution_count": 30,
   "id": "7da896ce",
   "metadata": {},
   "outputs": [
    {
     "data": {
      "text/plain": [
       "<matplotlib.collections.PathCollection at 0x7f4440ff8cd0>"
      ]
     },
     "execution_count": 30,
     "metadata": {},
     "output_type": "execute_result"
    },
    {
     "data": {
      "image/png": "[encoded data removed]",
      "text/plain": [
       "<Figure size 432x288 with 1 Axes>"
      ]
     },
     "metadata": {
      "needs_background": "light"
     },
     "output_type": "display_data"
    }
   ],
   "source": [
    "plt.scatter(xgraph[27:len(xgraph)],ygraph[27:len(ygraph)])\n",
    "\n"
   ]
  },
  {
   "cell_type": "code",
   "execution_count": 32,
   "id": "7fe69d39",
   "metadata": {},
   "outputs": [],
   "source": [
    "xgraph[27:len(xgraph)]"
   ]
  },
  {
   "cell_type": "code",
   "execution_count": null,
   "id": "c71d561f",
   "metadata": {},
   "outputs": [],
   "source": [
    "-16.25 -15.75 -15.25 -14.75 -14.25 -13.75 -13.25 -12.75 -12.25 -11.75 -11.25 -10.75 -10.25 -9.75 -9.25 -8.75 -8.25 -7.75 -7.25"
   ]
  },
  {
   "cell_type": "markdown",
   "id": "f63d054b",
   "metadata": {},
   "source": [
    "##### "
   ]
  },
  {
   "cell_type": "code",
   "execution_count": 19,
   "id": "56b9a055",
   "metadata": {},
   "outputs": [
    {
     "data": {
      "text/plain": [
       "(4.0, 6.0)"
      ]
     },
     "execution_count": 19,
     "metadata": {},
     "output_type": "execute_result"
    },
    {
     "data": {
      "image/png": "[encoded data removed]",
      "text/plain": [
       "<Figure size 432x288 with 1 Axes>"
      ]
     },
     "metadata": {
      "needs_background": "light"
     },
     "output_type": "display_data"
    }
   ],
   "source": [
    "avg=0\n",
    "k=0\n",
    "for m in ygraph[27:len(ygraph)]:\n",
    "    avg=avg+m\n",
    "    k=k+1\n",
    "avg=avg/k\n",
    "\n",
    "plt.scatter(xgraph[27:len(xgraph)],np.subtract(np.subtract(ygraph[27:len(ygraph)],avg),func(xgraph[27:len(xgraph)], *popt)))\n",
    "plt.ylim([4,6])\n",
    "\n",
    "#plt.ylim([0,3])\n",
    "#plt.plot(xgraph[27:len(xgraph)],np.subtract(ygraph[27:len(ygraph)],func(xgraph[27:len(xgraph)], *popt)))"
   ]
  },
  {
   "cell_type": "code",
   "execution_count": 13,
   "id": "e1159162",
   "metadata": {},
   "outputs": [
    {
     "data": {
      "text/plain": [
       "array([ 0.37609814, -0.69184278])"
      ]
     },
     "execution_count": 13,
     "metadata": {},
     "output_type": "execute_result"
    }
   ],
   "source": [
    "\n",
    "\n",
    "popt, pcov = curve_fit(func, xgraph[27:len(xgraph)],ygraph[27:len(ygraph)])\n",
    "\n",
    "popt\n",
    "\n",
    "#plt.plot(xgraph[28:len(xgraph)], func(xgraph[28:len(xgraph)], *popt), 'r-', label='fit: a=%5.3f, b=%5.3f, c=%5.3f' % tuple(popt))"
   ]
  },
  {
   "cell_type": "code",
   "execution_count": 18,
   "id": "c7c5d3c8",
   "metadata": {},
   "outputs": [
    {
     "data": {
      "text/plain": [
       "0.36481431"
      ]
     },
     "execution_count": 18,
     "metadata": {},
     "output_type": "execute_result"
    }
   ],
   "source": [
    "0.74853009/2"
   ]
  },
  {
   "cell_type": "code",
   "execution_count": 33,
   "id": "26d3c7db",
   "metadata": {},
   "outputs": [
    {
     "data": {
      "text/plain": [
       "0.37425"
      ]
     },
     "execution_count": 33,
     "metadata": {},
     "output_type": "execute_result"
    }
   ],
   "source": [
    "0.7485/2"
   ]
  },
  {
   "cell_type": "code",
   "execution_count": null,
   "id": "bca316e3",
   "metadata": {},
   "outputs": [],
   "source": [
    "0.37041644*ln(p-p*)-0.74853009=ln(m)"
   ]
  },
  {
   "cell_type": "code",
   "execution_count": null,
   "id": "90a8bf5c",
   "metadata": {},
   "outputs": [],
   "source": [
    "e^0.37041644*ln(p-p*)-0.74853009=ln(m)"
   ]
  },
  {
   "cell_type": "code",
   "execution_count": 34,
   "id": "76c0baa0",
   "metadata": {},
   "outputs": [
    {
     "data": {
      "image/png": "[encoded data removed]",
      "text/plain": [
       "<Figure size 576x432 with 1 Axes>"
      ]
     },
     "metadata": {},
     "output_type": "display_data"
    }
   ],
   "source": [
    "\n",
    "with plt.style.context('ggplot'):\n",
    "    \n",
    "    plt.rcParams[\"figure.figsize\"] = (8,6)\n",
    "    plt.rcParams[\"font.size\"]= 12\n",
    "    plt.rcParams[\"legend.fontsize\"]= 12\n",
    "    plt.rcParams[\"xtick.labelsize\"]= \"large\"\n",
    "    plt.rcParams[\"xtick.color\"]= \"black\"\n",
    "    plt.rcParams[\"ytick.labelsize\"]= \"large\"\n",
    "    plt.rcParams[\"ytick.color\"]= \"black\"\n",
    "\n",
    "\n",
    "    plt.scatter(xgraph[29:len(xgraph)],ygraph[29:len(ygraph)],s=35)\n",
    "    #plt.scatter(converttobondi(time,beta_scri)[0:len(time)-1],massloss, alpha=0.5,s=20)\n",
    "    #plt.plot(converttobondi(time,beta_scri)[0:len(time)-1],masslossexp,label='Numerical',linewidth=1)\n",
    "    #plt.plot(converttobondi(time,beta_scri)[0:len(time)-1],massloss,label='Analytical',linewidth=1,alpha=0.5)\n",
    "    \n",
    "    \n",
    "    plt.plot(xgraph[29:len(xgraph)], func(xgraph[29:len(xgraph)], *popt), label='fit: a=%5.4f, b=%5.4f' % tuple(popt),linestyle='dashed')\n",
    "\n",
    "    plt.xlabel(\"$ln(p-p^*)$\")#$\\u03C4$\")\n",
    "    plt.ylabel(\"$ln(m_{BH}$)\")#$\\u03C4$\")\n",
    "    \n",
    "    plt.legend();\n",
    "#olor='#1f77b4'\n",
    "#color='#ff7f0e'\n",
    "    plt.savefig(\"myImagePDF.pdf\", format=\"pdf\", bbox_inches=\"tight\")\n",
    "\n",
    "    plt.show()\n",
    "#plt.xlim([0,3])"
   ]
  },
  {
   "cell_type": "markdown",
   "id": "bc6ce806",
   "metadata": {},
   "source": [
    "# more points mass scaling1"
   ]
  },
  {
   "cell_type": "code",
   "execution_count": 49,
   "id": "1aa6e9e1",
   "metadata": {},
   "outputs": [
    {
     "data": {
      "text/plain": [
       "<matplotlib.collections.PathCollection at 0x7f4440c811c0>"
      ]
     },
     "execution_count": 49,
     "metadata": {},
     "output_type": "execute_result"
    },
    {
     "data": {
      "image/png": "[encoded data removed]",
      "text/plain": [
       "<Figure size 432x288 with 1 Axes>"
      ]
     },
     "metadata": {
      "needs_background": "light"
     },
     "output_type": "display_data"
    }
   ],
   "source": [
    "x1=np.array(x1)\n",
    "xgraph=np.array(xgraph)\n",
    "np.concatenate((x1, xgraph))\n",
    "\n",
    "y1=np.array(y1)\n",
    "ygraph=np.array(ygraph)\n",
    "b=np.concatenate((y1, ygraph))\n",
    "plt.scatter(a,b)"
   ]
  },
  {
   "cell_type": "code",
   "execution_count": 52,
   "id": "9079cdb7",
   "metadata": {},
   "outputs": [
    {
     "data": {
      "text/plain": [
       "array([ 0.37314396, -0.73527087])"
      ]
     },
     "execution_count": 52,
     "metadata": {},
     "output_type": "execute_result"
    }
   ],
   "source": [
    "\n",
    "\n",
    "popt, pcov = curve_fit(func, a,b)\n",
    "\n",
    "popt\n",
    "\n",
    "#plt.plot(xgraph[28:len(xgraph)], func(xgraph[28:len(xgraph)], *popt), 'r-', label='fit: a=%5.3f, b=%5.3f, c=%5.3f' % tuple(popt))"
   ]
  },
  {
   "cell_type": "code",
   "execution_count": 76,
   "id": "fd7c47c5",
   "metadata": {},
   "outputs": [
    {
     "data": {
      "image/png": "[encoded data removed]",
      "text/plain": [
       "<Figure size 576x432 with 1 Axes>"
      ]
     },
     "metadata": {},
     "output_type": "display_data"
    }
   ],
   "source": [
    "\n",
    "with plt.style.context('ggplot'):\n",
    "    \n",
    "    plt.rcParams[\"figure.figsize\"] = (8,6)\n",
    "    plt.rcParams[\"font.size\"]= 12\n",
    "    plt.rcParams[\"legend.fontsize\"]= 12\n",
    "    plt.rcParams[\"xtick.labelsize\"]= \"large\"\n",
    "    plt.rcParams[\"xtick.color\"]= \"black\"\n",
    "    plt.rcParams[\"ytick.labelsize\"]= \"large\"\n",
    "    plt.rcParams[\"ytick.color\"]= \"black\"\n",
    "\n",
    "\n",
    "    plt.scatter(a,b,s=35)\n",
    "    plt.plot(a, func(a, *popt), label='fit: a=%5.4f, b=%5.4f' % tuple(popt),linestyle='dashed')\n",
    "\n",
    "    plt.xlabel(\"$ln(p-p^*)$\")#$\\u03C4$\")\n",
    "    plt.ylabel(\"$ln(m_{BH}$)\")#$\\u03C4$\")\n",
    "    \n",
    "    plt.legend();\n",
    "#olor='#1f77b4'\n",
    "#color='#ff7f0e'\n",
    "    plt.savefig(\"myImagePDF.pdf\", format=\"pdf\", bbox_inches=\"tight\")\n",
    "\n",
    "    plt.show()\n",
    "#plt.xlim([0,3])"
   ]
  },
  {
   "cell_type": "code",
   "execution_count": 75,
   "id": "cad47886",
   "metadata": {},
   "outputs": [
    {
     "name": "stderr",
     "output_type": "stream",
     "text": [
      "No artists with labels found to put in legend.  Note that artists whose label start with an underscore are ignored when legend() is called with no argument.\n"
     ]
    },
    {
     "data": {
      "image/png": "[encoded data removed]",
      "text/plain": [
       "<Figure size 576x432 with 1 Axes>"
      ]
     },
     "metadata": {},
     "output_type": "display_data"
    }
   ],
   "source": [
    "avg=0\n",
    "k=0\n",
    "for m in b:\n",
    "    avg=avg+m\n",
    "    k=k+1\n",
    "avg=avg/k\n",
    "\n",
    "#plt.ylim([4,6])\n",
    "\n",
    "\n",
    "with plt.style.context('ggplot'):\n",
    "    \n",
    "    plt.rcParams[\"figure.figsize\"] = (8,6)\n",
    "    plt.rcParams[\"font.size\"]= 12\n",
    "    plt.rcParams[\"legend.fontsize\"]= 12\n",
    "    plt.rcParams[\"xtick.labelsize\"]= \"large\"\n",
    "    plt.rcParams[\"xtick.color\"]= \"black\"\n",
    "    plt.rcParams[\"ytick.labelsize\"]= \"large\"\n",
    "    plt.rcParams[\"ytick.color\"]= \"black\"\n",
    "    \n",
    "    \n",
    "    plt.scatter(a,np.subtract(np.subtract(b,avg),func(a, *new)))\n",
    "\n",
    "    plt.xlabel(\"$ln(p-p^*)$\")#$\\u03C4$\")\n",
    "    plt.ylabel(\"$ln(m_{BH}$)\")#$\\u03C4$\")\n",
    "    \n",
    "    plt.legend();\n",
    "    plt.ylim([4,6])\n",
    "#olor='#1f77b4'\n",
    "#color='#ff7f0e'\n",
    "    plt.savefig(\"myImagePDF.pdf\", format=\"pdf\", bbox_inches=\"tight\")\n",
    "\n",
    "    plt.show()\n",
    "#plt.xlim([0,3])"
   ]
  },
  {
   "cell_type": "code",
   "execution_count": 62,
   "id": "b6b218c7",
   "metadata": {},
   "outputs": [
    {
     "data": {
      "text/plain": [
       "array([ 0.37314396, -0.73527087])"
      ]
     },
     "execution_count": 62,
     "metadata": {},
     "output_type": "execute_result"
    }
   ],
   "source": [
    "popt"
   ]
  },
  {
   "cell_type": "code",
   "execution_count": 74,
   "id": "f78f14e2",
   "metadata": {},
   "outputs": [],
   "source": [
    "new=np.array([0.370, -0.9])"
   ]
  },
  {
   "cell_type": "markdown",
   "id": "05e015fb",
   "metadata": {},
   "source": [
    "# More points mass scaling 2"
   ]
  },
  {
   "cell_type": "code",
   "execution_count": 58,
   "id": "f0de76b4",
   "metadata": {},
   "outputs": [
    {
     "data": {
      "text/plain": [
       "<matplotlib.collections.PathCollection at 0x7fe00d1778e0>"
      ]
     },
     "execution_count": 58,
     "metadata": {},
     "output_type": "execute_result"
    },
    {
     "data": {
      "image/png": "[encoded data removed]",
      "text/plain": [
       "<Figure size 432x288 with 1 Axes>"
      ]
     },
     "metadata": {
      "needs_background": "light"
     },
     "output_type": "display_data"
    }
   ],
   "source": [
    "x1=np.array(x1)\n",
    "\n",
    "a=np.concatenate((x1, xgraph[26:len(xgraph)]))\n",
    "\n",
    "y1=np.array(y1)\n",
    "b=np.concatenate((y1, ygraph[26:len(xgraph)]))\n",
    "\n",
    "plt.scatter(a,b)"
   ]
  },
  {
   "cell_type": "code",
   "execution_count": 52,
   "id": "1b2d491c",
   "metadata": {},
   "outputs": [
    {
     "data": {
      "text/plain": [
       "array([-16.75, -16.25, -15.75, -15.25, -14.75, -14.25, -13.75, -13.25,\n",
       "       -12.75, -12.25, -11.75, -11.25, -10.75, -10.25, -17.  , -16.5 ,\n",
       "       -16.  , -15.5 , -15.  , -14.5 , -14.  , -13.5 , -13.  , -12.5 ,\n",
       "       -12.  , -11.5 , -11.  , -10.5 ])"
      ]
     },
     "execution_count": 52,
     "metadata": {},
     "output_type": "execute_result"
    }
   ],
   "source": [
    "x1\n",
    "xgraph\n",
    "np.concatenate((x1, xgraph[26:len(xgraph)]))"
   ]
  },
  {
   "cell_type": "code",
   "execution_count": 59,
   "id": "691516c7",
   "metadata": {},
   "outputs": [
    {
     "data": {
      "text/plain": [
       "array([ 0.38276417, -0.37462436])"
      ]
     },
     "execution_count": 59,
     "metadata": {},
     "output_type": "execute_result"
    }
   ],
   "source": [
    "\n",
    "\n",
    "popt, pcov = curve_fit(func, a,b)\n",
    "\n",
    "popt\n",
    "\n",
    "#plt.plot(xgraph[28:len(xgraph)], func(xgraph[28:len(xgraph)], *popt), 'r-', label='fit: a=%5.3f, b=%5.3f, c=%5.3f' % tuple(popt))"
   ]
  },
  {
   "cell_type": "code",
   "execution_count": 60,
   "id": "36e535c5",
   "metadata": {},
   "outputs": [
    {
     "data": {
      "image/png": "[encoded data removed]",
      "text/plain": [
       "<Figure size 576x432 with 1 Axes>"
      ]
     },
     "metadata": {},
     "output_type": "display_data"
    }
   ],
   "source": [
    "\n",
    "with plt.style.context('ggplot'):\n",
    "    \n",
    "    plt.rcParams[\"figure.figsize\"] = (8,6)\n",
    "    plt.rcParams[\"font.size\"]= 12\n",
    "    plt.rcParams[\"legend.fontsize\"]= 12\n",
    "    plt.rcParams[\"xtick.labelsize\"]= \"large\"\n",
    "    plt.rcParams[\"xtick.color\"]= \"black\"\n",
    "    plt.rcParams[\"ytick.labelsize\"]= \"large\"\n",
    "    plt.rcParams[\"ytick.color\"]= \"black\"\n",
    "\n",
    "\n",
    "    plt.scatter(a,b,s=35)\n",
    "    plt.plot(a, func(a, *popt), label='fit: a=%5.4f, b=%5.4f' % tuple(popt),linestyle='dashed')\n",
    "\n",
    "    plt.xlabel(\"$ln(p-p^*)$\")#$\\u03C4$\")\n",
    "    plt.ylabel(\"$ln(m_{BH}$)\")#$\\u03C4$\")\n",
    "    \n",
    "    plt.legend();\n",
    "#olor='#1f77b4'\n",
    "#color='#ff7f0e'\n",
    "    plt.savefig(\"myImagePDF.pdf\", format=\"pdf\", bbox_inches=\"tight\")\n",
    "\n",
    "    plt.show()\n",
    "#plt.xlim([0,3])"
   ]
  },
  {
   "cell_type": "markdown",
   "id": "993f395b",
   "metadata": {},
   "source": [
    "# Mass decay"
   ]
  },
  {
   "cell_type": "markdown",
   "id": "2711597e",
   "metadata": {},
   "source": [
    "A=0.1256\n",
    "\n",
    "m,u = 4 pi r phi,u ((r-2m)phi,r- exp(-2beta)r phi,u)"
   ]
  },
  {
   "cell_type": "code",
   "execution_count": 39,
   "id": "8791ed62",
   "metadata": {},
   "outputs": [
    {
     "name": "stdout",
     "output_type": "stream",
     "text": [
      "/home/rita13santos/Desktop/MSc Thesis/Git/ScalarField/StoredDATA/bondimassdecay/subcritical0.001/m.txt\n",
      "/home/rita13santos/Desktop/MSc Thesis/Git/ScalarField/StoredDATA/bondimassdecay/subcritical0.001/beta.txt\n",
      "/home/rita13santos/Desktop/MSc Thesis/Git/ScalarField/StoredDATA/bondimassdecay/subcritical0.001/psi.txt\n",
      "/home/rita13santos/Desktop/MSc Thesis/Git/ScalarField/StoredDATA/bondimassdecay/subcritical0.001/derpsi.txt\n"
     ]
    }
   ],
   "source": [
    "res=1\n",
    "vars=[\"m\", \"beta\", \"psi\", \"derpsi\"]\n",
    "time=[]\n",
    "grid=[]\n",
    "m=[]\n",
    "beta=[]\n",
    "psi=[]\n",
    "derpsi=[]\n",
    "k=1\n",
    "m_ori=[]\n",
    "m_scri=[]\n",
    "beta_ori=[]\n",
    "beta_scri=[]\n",
    "psi_ori=[]\n",
    "psi_scri=[]\n",
    "derpsi_ori=[]\n",
    "derpsi_scri=[]\n",
    "\n",
    "for var in vars:\n",
    "   \n",
    "    #A0.1256 called it nearcritical but its actually subcritical \n",
    "    #dir=\"/home/rita13santos/Desktop/MSc Thesis/Git/ScalarField/StoredDATA/bondimassdecay/0.1256/muninnDATA/res1/{}.txt\".format(var)\n",
    "    \n",
    "    #subcriticaltwo A=0.001\n",
    "    dir=\"/home/rita13santos/Desktop/MSc Thesis/Git/ScalarField/StoredDATA/bondimassdecay/subcritical0.001/{}.txt\".format(var)\n",
    "    \n",
    "    \n",
    "    print(dir)\n",
    "    t=0\n",
    "    with open(dir) as f:\n",
    "        for line in f:\n",
    "\n",
    "            index = line.find(\"Time\")\n",
    "            \n",
    "            if index==1:\n",
    "                t=t+1\n",
    "                if k==1:\n",
    "                    time.append(float(line[index+7:len(line)-1]))\n",
    "                auxgrid=[]\n",
    "                auxdata=[]\n",
    "                \n",
    "\n",
    "            else:\n",
    "                \n",
    "                a=line.split()\n",
    "                if a!=[]:\n",
    "                    if k==1:\n",
    "                        auxgrid.append(float(a[0]))\n",
    "                    auxdata.append(float(a[1]))\n",
    "                    \n",
    "                elif a==[]:\n",
    "                    \n",
    "                    \n",
    "                    if k==1:\n",
    "                        if t==1:\n",
    "                            grid.append(auxgrid)\n",
    "                        L=len(auxgrid)\n",
    "                        m_ori.append(auxdata[3])\n",
    "                        m_scri.append(auxdata[L-4])\n",
    "                    elif k==2:\n",
    "                        beta_ori.append(auxdata[3])\n",
    "                        beta_scri.append(auxdata[L-4])\n",
    "                    elif k==3:\n",
    "                        psi_ori.append(auxdata[3])\n",
    "                        psi_scri.append(auxdata[L-4])\n",
    "                    elif k==4:\n",
    "                        derpsi_ori.append(auxdata[3])\n",
    "                        derpsi_scri.append(auxdata[L-4])\n",
    "                    \n",
    "    k=k+1\n",
    "\n",
    "#count=len(datatime[2])+1\n",
    "#count"
   ]
  },
  {
   "cell_type": "code",
   "execution_count": 40,
   "id": "f4db6dae",
   "metadata": {},
   "outputs": [
    {
     "ename": "SyntaxError",
     "evalue": "invalid syntax (3935730999.py, line 1)",
     "output_type": "error",
     "traceback": [
      "\u001b[0;36m  Input \u001b[0;32mIn [40]\u001b[0;36m\u001b[0m\n\u001b[0;31m    (m^(1,0))[ut,x]->4 \\[Pi]*x* (\\[CapitalPhi]^(1,0))[ut,x]( 1-E^(-2 \\[Beta][ut,x/(1-x)]) r^2(\\[CapitalPhi]^(1,0))[ut,x])\u001b[0m\n\u001b[0m                   ^\u001b[0m\n\u001b[0;31mSyntaxError\u001b[0m\u001b[0;31m:\u001b[0m invalid syntax\n"
     ]
    }
   ],
   "source": [
    "(m^(1,0))[ut,x]->4 \\[Pi]*x* (\\[CapitalPhi]^(1,0))[ut,x]( 1-E^(-2 \\[Beta][ut,x/(1-x)]) r^2(\\[CapitalPhi]^(1,0))[ut,x])"
   ]
  },
  {
   "cell_type": "code",
   "execution_count": 41,
   "id": "993de0bb",
   "metadata": {},
   "outputs": [],
   "source": [
    "#phi,u\n",
    "deruphi = []\n",
    "\n",
    "for i in range(0, len(psi_scri)-1):\n",
    "    aux=(psi_scri[i+1]-psi_scri[i])/(time[i+1]-time[i])##eq.59 from my report ref eq:news\n",
    "    deruphi.append(aux)\n",
    "\n",
    "#theoretical mass loss\n",
    "\n",
    "massloss=[]\n",
    "\n",
    "for i in range(0, len(psi_scri)-1):\n",
    "    \n",
    "    aux=-4*math.pi*deruphi[i]**2*math.exp(-2*beta_scri[i])\n",
    "    massloss.append(aux)\n"
   ]
  },
  {
   "cell_type": "code",
   "execution_count": 53,
   "id": "309addf9",
   "metadata": {},
   "outputs": [
    {
     "data": {
      "text/plain": [
       "[<matplotlib.lines.Line2D at 0x7f181fc4baf0>]"
      ]
     },
     "execution_count": 53,
     "metadata": {},
     "output_type": "execute_result"
    },
    {
     "data": {
      "image/png": "[encoded data removed]",
      "text/plain": [
       "<Figure size 432x288 with 1 Axes>"
      ]
     },
     "metadata": {
      "needs_background": "light"
     },
     "output_type": "display_data"
    }
   ],
   "source": [
    "plt.plot(converttobondi(time,beta_scri)[0:len(time)-1],massloss)"
   ]
  },
  {
   "cell_type": "code",
   "execution_count": 43,
   "id": "8eb5905d",
   "metadata": {},
   "outputs": [],
   "source": [
    "#experimental mass loss\n",
    "masslossexp=[]\n",
    "for i in range(0, len(m_scri)-1):\n",
    "    aux=(m_scri[i+1]-m_scri[i])/(time[i+1]-time[i])##eq.59 from my report ref eq:news\n",
    "    masslossexp.append(aux)"
   ]
  },
  {
   "cell_type": "code",
   "execution_count": 57,
   "id": "af09876c",
   "metadata": {},
   "outputs": [
    {
     "data": {
      "text/plain": [
       "[<matplotlib.lines.Line2D at 0x7f181fd81af0>]"
      ]
     },
     "execution_count": 57,
     "metadata": {},
     "output_type": "execute_result"
    },
    {
     "data": {
      "image/png": "[encoded data removed]",
      "text/plain": [
       "<Figure size 432x288 with 1 Axes>"
      ]
     },
     "metadata": {
      "needs_background": "light"
     },
     "output_type": "display_data"
    }
   ],
   "source": [
    "plt.plot(converttobondi(time,beta_scri)[0:len(time)-1],masslossexp,label='fefw')\n"
   ]
  },
  {
   "cell_type": "code",
   "execution_count": 123,
   "id": "f4ff99fb",
   "metadata": {},
   "outputs": [
    {
     "data": {
      "image/png": "[encoded data removed]",
      "text/plain": [
       "<Figure size 576x432 with 1 Axes>"
      ]
     },
     "metadata": {},
     "output_type": "display_data"
    }
   ],
   "source": [
    "\n",
    "with plt.style.context('ggplot'):\n",
    "    \n",
    "    plt.rcParams[\"figure.figsize\"] = (8,6)\n",
    "    plt.rcParams[\"font.size\"]= 12\n",
    "    plt.rcParams[\"legend.fontsize\"]= 12\n",
    "    plt.rcParams[\"xtick.labelsize\"]= \"large\"\n",
    "    plt.rcParams[\"xtick.color\"]= \"black\"\n",
    "    plt.rcParams[\"ytick.labelsize\"]= \"large\"\n",
    "    plt.rcParams[\"ytick.color\"]= \"black\"\n",
    "\n",
    "    \n",
    "    plt.scatter(converttobondi(time,beta_scri)[0:len(time)-1],masslossexp,s=35)\n",
    "    plt.scatter(converttobondi(time,beta_scri)[0:len(time)-1],massloss, alpha=0.5,s=20)\n",
    "    plt.plot(converttobondi(time,beta_scri)[0:len(time)-1],masslossexp,label='Numerical',linewidth=1)\n",
    "    plt.plot(converttobondi(time,beta_scri)[0:len(time)-1],massloss,label='Analytical',linewidth=1,alpha=0.5)\n",
    "    \n",
    "    plt.xlabel(\"Bondi time $u_B$\")#$\\u03C4$\")\n",
    "    plt.ylabel(\"Mass loss $\\partial_u(m_B)$\")#$\\u03C4$\")\n",
    "    \n",
    "    plt.legend();\n",
    "#olor='#1f77b4'\n",
    "#color='#ff7f0e'\n",
    "    plt.savefig(\"myImagePDF.pdf\", format=\"pdf\", bbox_inches=\"tight\")\n",
    "\n",
    "    plt.show()\n",
    "#plt.xlim([0,3])"
   ]
  },
  {
   "cell_type": "code",
   "execution_count": 45,
   "id": "17d820f7",
   "metadata": {},
   "outputs": [
    {
     "data": {
      "text/plain": [
       "[<matplotlib.lines.Line2D at 0x7f1847298280>]"
      ]
     },
     "execution_count": 45,
     "metadata": {},
     "output_type": "execute_result"
    },
    {
     "data": {
      "image/png": "[encoded data removed]",
      "text/plain": [
       "<Figure size 432x288 with 1 Axes>"
      ]
     },
     "metadata": {
      "needs_background": "light"
     },
     "output_type": "display_data"
    }
   ],
   "source": [
    "plt.plot(time,m_scri)"
   ]
  },
  {
   "cell_type": "code",
   "execution_count": null,
   "id": "2def5fe3",
   "metadata": {},
   "outputs": [],
   "source": []
  }
 ],
 "metadata": {
  "kernelspec": {
   "display_name": "Python 3 (ipykernel)",
   "language": "python",
   "name": "python3"
  },
  "language_info": {
   "codemirror_mode": {
    "name": "ipython",
    "version": 3
   },
   "file_extension": ".py",
   "mimetype": "text/x-python",
   "name": "python",
   "nbconvert_exporter": "python",
   "pygments_lexer": "ipython3",
   "version": "3.9.12"
  }
 },
 "nbformat": 4,
 "nbformat_minor": 5
}
