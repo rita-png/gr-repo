{
 "cells": [
  {
   "cell_type": "code",
   "execution_count": 1,
   "id": "306b8ccb",
   "metadata": {},
   "outputs": [],
   "source": [
    "import pandas as pd\n",
    "import numpy as np\n",
    "import os\n",
    "import math\n",
    "import matplotlib.pyplot as plt\n",
    "import numpy as np\n",
    "from matplotlib import style\n",
    "\n",
    "import scipy\n",
    "import numpy as np\n",
    "from scipy import interpolate\n",
    "from io import StringIO\n",
    "\n",
    "\n",
    "from scipy.interpolate import UnivariateSpline"
   ]
  },
  {
   "cell_type": "markdown",
   "id": "7d60e115",
   "metadata": {},
   "source": [
    "# Reading data"
   ]
  },
  {
   "cell_type": "markdown",
   "id": "93f38ab0",
   "metadata": {},
   "source": [
    "CSV format"
   ]
  },
  {
   "cell_type": "code",
   "execution_count": 2,
   "id": "e80087ba",
   "metadata": {},
   "outputs": [
    {
     "name": "stdout",
     "output_type": "stream",
     "text": [
      "False\n",
      "True\n"
     ]
    }
   ],
   "source": [
    "#from bigfloat import *\n",
    "\n",
    "def isNaN(string):\n",
    "    return string != string\n",
    "print(isNaN(\"hello\"))\n",
    "print(isNaN(np.nan))"
   ]
  },
  {
   "cell_type": "markdown",
   "id": "afb20b06",
   "metadata": {},
   "source": [
    "Muninn format"
   ]
  },
  {
   "cell_type": "code",
   "execution_count": 17,
   "id": "b343325a",
   "metadata": {},
   "outputs": [
    {
     "name": "stdout",
     "output_type": "stream",
     "text": [
      "/home/rita13santos/Desktop/MSc Thesis/Git/ScalarField/StoredDATA/bondimassdecay/supercritical0.17/m.txt\n",
      "/home/rita13santos/Desktop/MSc Thesis/Git/ScalarField/StoredDATA/bondimassdecay/supercritical0.17/beta.txt\n",
      "/home/rita13santos/Desktop/MSc Thesis/Git/ScalarField/StoredDATA/bondimassdecay/supercritical0.17/psi.txt\n",
      "/home/rita13santos/Desktop/MSc Thesis/Git/ScalarField/StoredDATA/bondimassdecay/supercritical0.17/derpsi.txt\n"
     ]
    }
   ],
   "source": [
    "res=1\n",
    "vars=[\"m\", \"beta\", \"psi\", \"derpsi\"]\n",
    "time=[]\n",
    "grid=[]\n",
    "m=[]\n",
    "beta=[]\n",
    "psi=[]\n",
    "derpsi=[]\n",
    "k=1\n",
    "m_ori=[]\n",
    "m_scri=[]\n",
    "beta_ori=[]\n",
    "beta_scri=[]\n",
    "psi_ori=[]\n",
    "psi_scri=[]\n",
    "derpsi_ori=[]\n",
    "derpsi_scri=[]\n",
    "\n",
    "for var in vars:\n",
    "   \n",
    "    #nearcriticalone\n",
    "    ###dir=\"/home/rita13santos/Desktop/MSc Thesis/Git/ScalarField/StoredDATA/bondimassdecay/nearcritical/{}.txt\".format(var)\n",
    "    \n",
    "    #nearcriticaltwo (more tuned) this!\n",
    "    #dir=\"/home/rita13santos/Desktop/MSc Thesis/Git/ScalarField/StoredDATA/bondimassdecay/nearcritical0.1256/{}.txt\".format(var)\n",
    "    \n",
    "    #subcriticalone A=0.01\n",
    "    #dir=\"/home/rita13santos/Desktop/MSc Thesis/Git/ScalarField/StoredDATA/bondimassdecay/subcritical0.01/{}.txt\".format(var)\n",
    "    \n",
    "    #subcriticaltwo A=0.001\n",
    "    #dir=\"/home/rita13santos/Desktop/MSc Thesis/Git/ScalarField/StoredDATA/bondimassdecay/subcritical0.001/{}.txt\".format(var)\n",
    "    \n",
    "    #supercritical A=0.17 N=400\n",
    "    dir=\"/home/rita13santos/Desktop/MSc Thesis/Git/ScalarField/StoredDATA/bondimassdecay/supercritical0.17/{}.txt\".format(var)\n",
    "    \n",
    "    ##new##\n",
    "    \n",
    "    #A0.1256\n",
    "    #cooking this datadir=\"/home/rita13santos/Desktop/newbondimassdata/0.1256/res1/{}.txt\".format(var)\n",
    "    \n",
    "    print(dir)\n",
    "    t=0\n",
    "    with open(dir) as f:\n",
    "        for line in f:\n",
    "\n",
    "            index = line.find(\"Time\")\n",
    "            \n",
    "            if index==1:\n",
    "                t=t+1\n",
    "                if k==1:\n",
    "                    time.append(float(line[index+7:len(line)-1]))\n",
    "                auxgrid=[]\n",
    "                auxdata=[]\n",
    "                \n",
    "\n",
    "            else:\n",
    "                \n",
    "                a=line.split()\n",
    "                if a!=[]:\n",
    "                    if k==1:\n",
    "                        auxgrid.append(float(a[0]))\n",
    "                    auxdata.append(float(a[1]))\n",
    "                    \n",
    "                elif a==[]:\n",
    "                    \n",
    "                    \n",
    "                    if k==1:\n",
    "                        if t==1:\n",
    "                            grid.append(auxgrid)\n",
    "                        L=len(auxgrid)\n",
    "                        m_ori.append(auxdata[3])\n",
    "                        m_scri.append(auxdata[L-4])\n",
    "                    elif k==2:\n",
    "                        beta_ori.append(auxdata[3])\n",
    "                        beta_scri.append(auxdata[L-4])\n",
    "                    elif k==3:\n",
    "                        psi_ori.append(auxdata[3])\n",
    "                        psi_scri.append(auxdata[L-4])\n",
    "                    elif k==4:\n",
    "                        derpsi_ori.append(auxdata[3])\n",
    "                        derpsi_scri.append(auxdata[L-4])\n",
    "                    \n",
    "    k=k+1\n",
    "\n",
    "#count=len(datatime[2])+1\n",
    "#count"
   ]
  },
  {
   "cell_type": "code",
   "execution_count": 18,
   "id": "f5a35375",
   "metadata": {},
   "outputs": [],
   "source": [
    "#m_nearcriticalone=m_scri\n",
    "#x_nearcriticalone=converttobondi(time,beta_scri)\n",
    "\n",
    "#m_nearcriticaltwo=m_scri\n",
    "#x_nearcriticaltwo=converttobondi(time,beta_scri)\n",
    "\n",
    "#m_subcriticalone=m_scri\n",
    "#x_subcriticalone=converttobondi(time,beta_scri)\n",
    "\n",
    "#m_subcriticaltwo=m_scri\n",
    "#x_subcriticaltwo=converttobondi(time,beta_scri)\n",
    "\n",
    "m_supercritical=m_scri\n",
    "x_supercritical=converttobondi(time,beta_scri)\n",
    "\n",
    "##\n",
    "\n",
    "#m_new=m_scri\n",
    "#x_new=time#converttobondi(time,beta_scri)"
   ]
  },
  {
   "cell_type": "markdown",
   "id": "aa8b952d",
   "metadata": {},
   "source": [
    "# Convert to Bondi"
   ]
  },
  {
   "cell_type": "code",
   "execution_count": 19,
   "id": "6e5a1563",
   "metadata": {},
   "outputs": [],
   "source": [
    "#trapezoidal rule\n",
    "def trap_integrator(func,f0,x):\n",
    "    integration=[f0]\n",
    "    for i in range(0,len(x)-1):\n",
    "        dx=x[i+1]-x[i]\n",
    "    \n",
    "        integral=dx/2*(func(x[i+1])+func(x[i]))\n",
    "        \n",
    "        integration.append(integration[i]+integral)\n",
    "    return integration\n",
    "\n",
    "\"\"\"def funcc(x):\n",
    "    return x\n",
    "\n",
    "def trap_integrator(func,f0,x0,x1):\n",
    "    dx=(x1-x0)\n",
    "    integral=dx/2*(func(x0)+func(x1))\n",
    "    \n",
    "    return f0+integral\n",
    "\n",
    "trap_integrator(funcc,0,0,1)\"\"\"\n",
    "\n",
    "#convert central time to bondi time\n",
    "def converttobondi(time, betascri):\n",
    "\n",
    "    spl = UnivariateSpline(time, np.multiply(np.exp(np.multiply(betascri,-2)),time), s=0)\n",
    "\n",
    "    return trap_integrator(spl,0,time)"
   ]
  },
  {
   "cell_type": "markdown",
   "id": "d5e83eaa",
   "metadata": {},
   "source": [
    "####"
   ]
  },
  {
   "cell_type": "markdown",
   "id": "0f7f8fb9",
   "metadata": {},
   "source": [
    "# Styling plots"
   ]
  },
  {
   "cell_type": "code",
   "execution_count": 20,
   "id": "953579ab",
   "metadata": {},
   "outputs": [],
   "source": [
    "plt.rcParams.update({\n",
    "    'font.size': 12,\n",
    "    'legend.fontsize':12,\n",
    "    'xtick.labelsize': 'large',\n",
    "    'xtick.color': 'black',\n",
    "    'ytick.labelsize': 'large',\n",
    "    'ytick.color': 'black'})"
   ]
  },
  {
   "cell_type": "code",
   "execution_count": null,
   "id": "3b29e29b",
   "metadata": {},
   "outputs": [],
   "source": []
  },
  {
   "cell_type": "code",
   "execution_count": 25,
   "id": "867b4040",
   "metadata": {},
   "outputs": [
    {
     "data": {
      "image/png": "[encoded data removed]",
      "text/plain": [
       "<Figure size 432x288 with 1 Axes>"
      ]
     },
     "metadata": {},
     "output_type": "display_data"
    }
   ],
   "source": [
    "\n",
    "with plt.style.context('ggplot'):\n",
    "\n",
    "    plt.plot(x_subcriticalone, m_subcriticalone,label=\"subcritical\")\n",
    "    plt.plot(x_subcriticaltwo, m_subcriticaltwo,label=\"really subcritical\")\n",
    "\n",
    "    plt.plot(x_nearcriticaltwo, m_nearcriticaltwo,label=\"nearcritical\")\n",
    "    plt.plot(x_supercritical, m_supercritical,label=\"supercritical\")\n",
    "\n",
    "    \"\"\"plt.xlim([2.5,5])\n",
    "    plt.ylim([0.000001,0.010])\n",
    "    plt.axhline(y=0.0001)\n",
    "    plt.axhline(y=0.000002)\"\"\"\n",
    "    plt.xscale(\"log\")\n",
    "    plt.yscale(\"log\")\n",
    "    plt.xlabel(\"Bondi mass $m_B$\")#$\\u03C4$\")\n",
    "    plt.ylabel(\"Bondi time $u_B$\")#$\\u03C4$\")\n",
    "    plt.legend();\n",
    "\n",
    "    plt.ylim([1e-20,1])"
   ]
  },
  {
   "cell_type": "code",
   "execution_count": null,
   "id": "ff7e6746",
   "metadata": {},
   "outputs": [],
   "source": []
  },
  {
   "cell_type": "code",
   "execution_count": null,
   "id": "a66d6748",
   "metadata": {},
   "outputs": [],
   "source": []
  },
  {
   "cell_type": "code",
   "execution_count": null,
   "id": "e76cf88f",
   "metadata": {},
   "outputs": [],
   "source": []
  },
  {
   "cell_type": "code",
   "execution_count": null,
   "id": "14f4a694",
   "metadata": {},
   "outputs": [],
   "source": []
  },
  {
   "cell_type": "markdown",
   "id": "54b5aa70",
   "metadata": {},
   "source": [
    "Value of Bondi mass at scri+ over time"
   ]
  },
  {
   "cell_type": "code",
   "execution_count": 292,
   "id": "ee2034e7",
   "metadata": {},
   "outputs": [
    {
     "data": {
      "image/png": "[encoded data removed]",
      "text/plain": [
       "<Figure size 1080x360 with 2 Axes>"
      ]
     },
     "metadata": {},
     "output_type": "display_data"
    }
   ],
   "source": [
    "with plt.style.context('ggplot'):\n",
    "    #plt.rcParams.update({'font.size': 12})    \n",
    "    #plt.rcParams[\"figure.figsize\"] = (7,5)\n",
    "    fig, (ax1, ax2) = plt.subplots(1, 2,figsize=(15, 5))\n",
    "\n",
    "    ax1.plot(x_subcriticalone,m_subcriticalone,linewidth=0.5)\n",
    "    ax1.set_xscale(\"log\")\n",
    "    ax1.set_yscale(\"log\")\n",
    "    \n",
    "    ax2.plot(aa,m_subcriticalone,linewidth=0.5)\n",
    "    ax2.set_xscale(\"log\")\n",
    "    ax2.set_yscale(\"log\")\n",
    "    \n",
    "    ax2.set_xlim([1,5])\n",
    "    ax2.axvline(x = 2.7, color = 'b', linewidth=0.5)\n",
    "    ax2.axvline(x = 4.1, color = 'b', linewidth=0.5)\n",
    " \n",
    "    \n",
    "    \n",
    "    plt.show()"
   ]
  },
  {
   "cell_type": "code",
   "execution_count": 29,
   "id": "073cf338",
   "metadata": {},
   "outputs": [
    {
     "data": {
      "text/plain": [
       "14.285714285714292"
      ]
     },
     "execution_count": 29,
     "metadata": {},
     "output_type": "execute_result"
    }
   ],
   "source": [
    "(10^(-16)-10^(-8))/(4.1-2.7)"
   ]
  },
  {
   "cell_type": "code",
   "execution_count": null,
   "id": "200783a7",
   "metadata": {},
   "outputs": [],
   "source": []
  }
 ],
 "metadata": {
  "kernelspec": {
   "display_name": "Python 3 (ipykernel)",
   "language": "python",
   "name": "python3"
  },
  "language_info": {
   "codemirror_mode": {
    "name": "ipython",
    "version": 3
   },
   "file_extension": ".py",
   "mimetype": "text/x-python",
   "name": "python",
   "nbconvert_exporter": "python",
   "pygments_lexer": "ipython3",
   "version": "3.9.12"
  }
 },
 "nbformat": 4,
 "nbformat_minor": 5
}
