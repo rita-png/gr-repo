{
 "cells": [
  {
   "cell_type": "code",
   "execution_count": 6,
   "id": "306b8ccb",
   "metadata": {},
   "outputs": [],
   "source": [
    "import pandas as pd\n",
    "import numpy as np\n",
    "import os\n",
    "import math\n",
    "import matplotlib.pyplot as plt\n",
    "import numpy as np\n",
    "from matplotlib import style\n",
    "\n",
    "import scipy\n",
    "import numpy as np\n",
    "from scipy import interpolate\n",
    "from io import StringIO\n",
    "\n",
    "from scipy.interpolate import UnivariateSpline"
   ]
  },
  {
   "cell_type": "markdown",
   "id": "7d60e115",
   "metadata": {},
   "source": [
    "# Reading data"
   ]
  },
  {
   "cell_type": "markdown",
   "id": "93f38ab0",
   "metadata": {},
   "source": [
    "CSV format"
   ]
  },
  {
   "cell_type": "code",
   "execution_count": 7,
   "id": "e80087ba",
   "metadata": {},
   "outputs": [
    {
     "name": "stdout",
     "output_type": "stream",
     "text": [
      "False\n",
      "True\n"
     ]
    }
   ],
   "source": [
    "#from bigfloat import *\n",
    "\n",
    "def isNaN(string):\n",
    "    return string != string\n",
    "print(isNaN(\"hello\"))\n",
    "print(isNaN(np.nan))"
   ]
  },
  {
   "cell_type": "markdown",
   "id": "afb20b06",
   "metadata": {},
   "source": [
    "Muninn format"
   ]
  },
  {
   "cell_type": "code",
   "execution_count": 8,
   "id": "b343325a",
   "metadata": {},
   "outputs": [
    {
     "name": "stdout",
     "output_type": "stream",
     "text": [
      "/home/rita13santos/Desktop/run38/m.txt\n",
      "/home/rita13santos/Desktop/run38/beta.txt\n",
      "/home/rita13santos/Desktop/run38/psi.txt\n",
      "/home/rita13santos/Desktop/run38/derpsi.txt\n"
     ]
    }
   ],
   "source": [
    "res=1\n",
    "vars=[\"m\", \"beta\", \"psi\", \"derpsi\"]\n",
    "time=[]\n",
    "grid=[]\n",
    "m=[]\n",
    "beta=[]\n",
    "psi=[]\n",
    "derpsi=[]\n",
    "k=1\n",
    "m_ori=[]\n",
    "m_scri=[]\n",
    "beta_ori=[]\n",
    "beta_scri=[]\n",
    "psi_ori=[]\n",
    "psi_scri=[]\n",
    "derpsi_ori=[]\n",
    "derpsi_scri=[]\n",
    "\n",
    "maxmonitorratio=[]\n",
    "\n",
    "for var in vars:\n",
    "    #dir = \"/home/rita13santos/Desktop/MSc Thesis/Git/ScalarField/DATA/muninnDATA/res1/{}.txt\".format(var)\n",
    "    \n",
    "    #dir = \"/home/rita13santos/Desktop/MSc Thesis/Git/ScalarField/DATA/muninnDATA/res1/{}.txt\".format(var)\n",
    "    \n",
    "    #dir = \"/home/rita13santos/Desktop/run17/{}.txt\".format(var)\n",
    "    #dir = \"/home/rita13santos/Desktop/run14/{}.txt\".format(var)\n",
    "    \n",
    "    #dir = \"/home/rita13santos/Desktop/run11/{}.txt\".format(var)\n",
    "    dir = \"/home/rita13santos/Desktop/run38/{}.txt\".format(var)\n",
    "    \n",
    "    #dir = \"/home/rita13santos/Desktop/monitorratio/{}.txt\".format(var)\n",
    "    #dir = \"/home/rita13santos/Desktop/MSc Thesis/Git/ScalarField/StoredDATA/08-06/res1/{}.txt\".format(var)\n",
    "    \n",
    "    #dir=\"/home/rita13santos/Desktop/MSc Thesis/Git/ScalarField/StoredDATA/30-05/run20/res1/{}.txt\".format(var)\n",
    "    #dir = \"/home/rita13santos/Desktop/MSc Thesis/Git/ScalarField/StoredDATA/28-06/N200,dt=2.5e-5/res1/{}.txt\".format(var)\n",
    "    print(dir)\n",
    "    t=0\n",
    "    with open(dir) as f:\n",
    "        for line in f:\n",
    "\n",
    "            index = line.find(\"Time\")\n",
    "            \n",
    "            if index==1:\n",
    "                t=t+1\n",
    "                if k==1:\n",
    "                    time.append(float(line[index+7:len(line)-1]))\n",
    "                auxgrid=[]\n",
    "                auxdata=[]\n",
    "                \n",
    "\n",
    "            else:\n",
    "                \n",
    "                a=line.split()\n",
    "                if a!=[]:\n",
    "                    if k==1:\n",
    "                        auxgrid.append(float(a[0]))\n",
    "                    auxdata.append(float(a[1]))\n",
    "                    \n",
    "                elif a==[]:\n",
    "                    \n",
    "                    \n",
    "                    if k==1:\n",
    "                        if t==1:\n",
    "                            grid.append(auxgrid)\n",
    "                        L=len(auxgrid)\n",
    "                        m_ori.append(auxdata[3])\n",
    "                        m_scri.append(auxdata[L-4])\n",
    "                        \n",
    "                        monitor_ratio=[]\n",
    "                        i=4\n",
    "                        for m in auxdata[4:L-4]:\n",
    "                            monitor_ratio.append(2*m/grid[0][i]*(1-grid[0][i]))\n",
    "                            i=i+1\n",
    "                        maxmonitorratio.append(np.max(monitor_ratio))\n",
    "\n",
    "        \n",
    "        \n",
    "                    elif k==2:\n",
    "                        beta_ori.append(auxdata[3])\n",
    "                        beta_scri.append(auxdata[L-4])\n",
    "                    elif k==3:\n",
    "                        psi_ori.append(auxdata[3])\n",
    "                        psi_scri.append(auxdata[L-4])\n",
    "                    elif k==4:\n",
    "                        derpsi_ori.append(auxdata[3])\n",
    "                        derpsi_scri.append(auxdata[L-4])\n",
    "                    \"\"\"elif k==5:\n",
    "                        max_monitorratio.append(np.max(auxdata))\"\"\"\n",
    "                    \n",
    "    k=k+1\n",
    "\n",
    "#count=len(datatime[2])+1\n",
    "#count"
   ]
  },
  {
   "cell_type": "code",
   "execution_count": 9,
   "id": "c367d210",
   "metadata": {},
   "outputs": [
    {
     "data": {
      "text/plain": [
       "3569"
      ]
     },
     "execution_count": 9,
     "metadata": {},
     "output_type": "execute_result"
    }
   ],
   "source": [
    "len(maxmonitorratio)"
   ]
  },
  {
   "cell_type": "code",
   "execution_count": 10,
   "id": "609cf2e1",
   "metadata": {},
   "outputs": [
    {
     "data": {
      "text/plain": [
       "3569"
      ]
     },
     "execution_count": 10,
     "metadata": {},
     "output_type": "execute_result"
    }
   ],
   "source": [
    "len(time)"
   ]
  },
  {
   "cell_type": "markdown",
   "id": "d5e83eaa",
   "metadata": {},
   "source": [
    "####"
   ]
  },
  {
   "cell_type": "code",
   "execution_count": null,
   "id": "aebb55e8",
   "metadata": {},
   "outputs": [],
   "source": []
  },
  {
   "cell_type": "markdown",
   "id": "0f7f8fb9",
   "metadata": {},
   "source": [
    "# Styling plots"
   ]
  },
  {
   "cell_type": "code",
   "execution_count": 11,
   "id": "953579ab",
   "metadata": {},
   "outputs": [],
   "source": [
    "plt.rcParams.update({\n",
    "    'font.size': 12,\n",
    "    'legend.fontsize':12,\n",
    "    'xtick.labelsize': 'large',\n",
    "    'xtick.color': 'black',\n",
    "    'ytick.labelsize': 'large',\n",
    "    'ytick.color': 'black'})"
   ]
  },
  {
   "cell_type": "markdown",
   "id": "dd59d0e6",
   "metadata": {},
   "source": [
    "# Convert central time to Bondi time"
   ]
  },
  {
   "cell_type": "code",
   "execution_count": 12,
   "id": "bd58e99a",
   "metadata": {},
   "outputs": [],
   "source": [
    "\n",
    "#trapezoidal rule\n",
    "def trap_integrator(func,f0,x):\n",
    "    integration=[f0]\n",
    "    for i in range(0,len(x)-1):\n",
    "        dx=x[i+1]-x[i]\n",
    "    \n",
    "        integral=dx/2*(func(x[i+1])+func(x[i]))\n",
    "        \n",
    "        integration.append(integration[i]+integral)\n",
    "    return integration\n",
    "\n",
    "#convert central time to bondi time\n",
    "def converttobondi(time, beta_scri):\n",
    "\n",
    "    spl = UnivariateSpline(time, np.multiply(np.exp(np.multiply(beta_scri,-2)),time), s=0)\n",
    "\n",
    "    return trap_integrator(spl,0,time)\n",
    "\n",
    "bonditime=converttobondi(time,beta_scri)"
   ]
  },
  {
   "cell_type": "markdown",
   "id": "52719f95",
   "metadata": {},
   "source": [
    "# Phi at origin"
   ]
  },
  {
   "cell_type": "markdown",
   "id": "54b5aa70",
   "metadata": {},
   "source": [
    "Value of Derpsi at the origin over time"
   ]
  },
  {
   "cell_type": "code",
   "execution_count": 13,
   "id": "6fa03df7",
   "metadata": {},
   "outputs": [
    {
     "data": {
      "text/plain": [
       "[<matplotlib.lines.Line2D at 0x7fc6246aedc0>]"
      ]
     },
     "execution_count": 13,
     "metadata": {},
     "output_type": "execute_result"
    },
    {
     "data": {
      "image/png": "[encoded data removed]",
      "text/plain": [
       "<Figure size 432x288 with 1 Axes>"
      ]
     },
     "metadata": {
      "needs_background": "light"
     },
     "output_type": "display_data"
    }
   ],
   "source": [
    "plt.plot(time, derpsi_ori)"
   ]
  },
  {
   "cell_type": "code",
   "execution_count": 14,
   "id": "59c1f4de",
   "metadata": {},
   "outputs": [
    {
     "data": {
      "text/plain": [
       "[0.0,\n",
       " 4.6658369227e-10,\n",
       " 4.7416162202e-09,\n",
       " 4.1710546645e-08,\n",
       " 3.1826533998e-07,\n",
       " 2.1095372504e-06,\n",
       " 1.215774059e-05,\n",
       " 6.0955446268e-05,\n",
       " 0.00026589848219,\n",
       " 0.0010088582855,\n",
       " 0.0033267520529,\n",
       " 0.0095223222882,\n",
       " 0.023624549743,\n",
       " 0.050765936417,\n",
       " 0.094549122575,\n",
       " 0.15208238436,\n",
       " 0.20457988941,\n",
       " 0.21203311401,\n",
       " 0.15745435166,\n",
       " 0.050978040251,\n",
       " -0.094614467706,\n",
       " -0.26845283701,\n",
       " -0.44328470577,\n",
       " -0.49510481456,\n",
       " -0.43549864924,\n",
       " -0.42467083145,\n",
       " -0.41315980538,\n",
       " -0.40098865566,\n",
       " -0.38818024192,\n",
       " -0.37475675633,\n",
       " -0.36073934328,\n",
       " -0.34614776307,\n",
       " -0.3310001383,\n",
       " -0.31531275896,\n",
       " -0.29909996837,\n",
       " -0.2823740621,\n",
       " -0.26514529524,\n",
       " -0.24742189385,\n",
       " -0.22921012422,\n",
       " -0.21051442212,\n",
       " -0.19133747574,\n",
       " -0.17168040404,\n",
       " -0.15154291597,\n",
       " -0.13092346327,\n",
       " -0.1098194599,\n",
       " -0.088227329485,\n",
       " -0.066142746246,\n",
       " -0.043560645781,\n",
       " -0.020475414025,\n",
       " 0.0031191583335,\n",
       " 0.027229794942,\n",
       " 0.051863703831,\n",
       " 0.077028617442,\n",
       " 0.10273287682,\n",
       " 0.12898540424,\n",
       " 0.15579584225,\n",
       " 0.18317475591,\n",
       " 0.21113465046,\n",
       " 0.23969402251,\n",
       " 0.26888742224,\n",
       " 0.29877517127,\n",
       " 0.32942843539,\n",
       " 0.36088088716,\n",
       " 0.39308444791,\n",
       " 0.42583123181,\n",
       " 0.45850214779,\n",
       " 0.48986370797,\n",
       " 0.51847794036,\n",
       " 0.54347449145,\n",
       " 0.56464508524,\n",
       " 0.58176696992,\n",
       " 0.59408104423,\n",
       " 0.6003843797,\n",
       " 0.59940790582,\n",
       " 0.59006197403,\n",
       " 0.57143701189,\n",
       " 0.54264034512,\n",
       " 0.50255029708,\n",
       " 0.44956109947,\n",
       " 0.38162824862,\n",
       " 0.29723755599,\n",
       " 0.19808230057,\n",
       " 0.090478896421,\n",
       " -0.079876252082,\n",
       " -0.17667065394,\n",
       " -0.21861167704,\n",
       " -0.35089063032,\n",
       " -0.5653848132,\n",
       " -0.22489400849,\n",
       " 0.28429633217,\n",
       " 0.55508492282,\n",
       " 0.66517586798,\n",
       " -0.071196093947,\n",
       " -0.43916909895,\n",
       " -0.63746109228,\n",
       " -0.13019491351,\n",
       " 0.33106536714,\n",
       " 0.57733590509,\n",
       " 0.52390375359,\n",
       " -0.063342619063,\n",
       " -0.34492162202,\n",
       " -0.47209924366,\n",
       " -0.38625967031,\n",
       " -0.16818930967,\n",
       " 0.0031298982028,\n",
       " 0.11054787151,\n",
       " 0.15948972899,\n",
       " 0.15827197389,\n",
       " 0.12328064217,\n",
       " 0.074729322439,\n",
       " 0.028484608699,\n",
       " -0.0064504275194,\n",
       " -0.02669265273,\n",
       " -0.032948386209,\n",
       " -0.028624081995,\n",
       " -0.018317491108,\n",
       " -0.0064286944894,\n",
       " 0.0037512449568,\n",
       " 0.010399581464,\n",
       " 0.013093848188,\n",
       " 0.012469653542,\n",
       " 0.0097485633891,\n",
       " 0.006272732375,\n",
       " 0.0031503786719,\n",
       " 0.0010614337354,\n",
       " 0.00022117210347,\n",
       " 0.00046507261193,\n",
       " 0.0014011492763,\n",
       " 0.0025747076565,\n",
       " 0.0036021609063,\n",
       " 0.0042496087587,\n",
       " 0.0044517498065,\n",
       " 0.0042824098566,\n",
       " 0.0038969622475,\n",
       " 0.0034687184233,\n",
       " 0.0031372554141,\n",
       " 0.0029790632995,\n",
       " 0.0030025718439,\n",
       " 0.0031628014991,\n",
       " 0.0033869258136,\n",
       " 0.003601262537,\n",
       " 0.0037520856251,\n",
       " 0.0038160761047,\n",
       " 0.0037999646241,\n",
       " 0.0037319216281,\n",
       " 0.003648900973,\n",
       " 0.003584304702,\n",
       " 0.0035592935562,\n",
       " 0.0035793574678,\n",
       " 0.0036359810491,\n",
       " 0.0037118807269,\n",
       " 0.0037876284815,\n",
       " 0.0038475455081,\n",
       " 0.0038833792748,\n",
       " 0.0038951851466,\n",
       " 0.0038897176965,\n",
       " 0.0038772623329,\n",
       " 0.0038680862242,\n",
       " 0.0038695649927,\n",
       " 0.0038846534867,\n",
       " 0.0039118718448,\n",
       " 0.003946528238,\n",
       " 0.0039826108178,\n",
       " 0.0040147020869,\n",
       " 0.0040393817463,\n",
       " 0.0040558226533,\n",
       " 0.0040655605496,\n",
       " 0.0040716493898,\n",
       " 0.0040775453628,\n",
       " 0.0040860761916,\n",
       " 0.0040987654667,\n",
       " 0.0041156363002,\n",
       " 0.004135464704,\n",
       " 0.0041563344109,\n",
       " 0.0041762876796,\n",
       " 0.0041938758373,\n",
       " 0.0042084748263,\n",
       " 0.0042203189095,\n",
       " 0.0042302913186,\n",
       " 0.0042395709233,\n",
       " 0.0042492567906,\n",
       " 0.0042600779325,\n",
       " 0.004272253972,\n",
       " 0.0042855198529,\n",
       " 0.0042992803597,\n",
       " 0.0043128302084,\n",
       " 0.0043255681274,\n",
       " 0.0043371468937,\n",
       " 0.0043475285291,\n",
       " 0.0043569450518,\n",
       " 0.0043657911048,\n",
       " 0.0043744892101,\n",
       " 0.0043833692592,\n",
       " 0.0043925931364,\n",
       " 0.0044021379194,\n",
       " 0.0044118327971,\n",
       " 0.0044214308491,\n",
       " 0.0044306902862,\n",
       " 0.0044394412425,\n",
       " 0.0044476220318,\n",
       " 0.0044552797658,\n",
       " 0.0044625408538,\n",
       " 0.0044695643124,\n",
       " 0.0044764934793,\n",
       " 0.0044834196895,\n",
       " 0.0044903660236,\n",
       " 0.0044972924358,\n",
       " 0.0045041174767,\n",
       " 0.0045107480151,\n",
       " 0.0045171075164,\n",
       " 0.004523155315,\n",
       " 0.0045288929802,\n",
       " 0.0045343580388,\n",
       " 0.0045396087537,\n",
       " 0.0045447055417,\n",
       " 0.0045496946699,\n",
       " 0.0045545983674,\n",
       " 0.0045594130811,\n",
       " 0.0045641150993,\n",
       " 0.0045686708562,\n",
       " 0.0045730483599,\n",
       " 0.0045772264253,\n",
       " 0.0045811995056,\n",
       " 0.0045849774675,\n",
       " 0.004588581146,\n",
       " 0.0045920355471,\n",
       " 0.0045953629282,\n",
       " 0.0045985776809,\n",
       " 0.0046016841491,\n",
       " 0.0046046775381,\n",
       " 0.0046075471962,\n",
       " 0.004610281004,\n",
       " 0.0046128694991,\n",
       " 0.0046153086376,\n",
       " 0.0046176006406,\n",
       " 0.0046197529806,\n",
       " 0.0046217760655,\n",
       " 0.0046236804558,\n",
       " 0.0046254744481,\n",
       " 0.0046271626372,\n",
       " 0.0046287457052,\n",
       " 0.0046302213119,\n",
       " 0.0046315856776,\n",
       " 0.0046328353198,\n",
       " 0.0046339684425,\n",
       " 0.0046349856479,\n",
       " 0.0046358898761,\n",
       " 0.0046366857028,\n",
       " 0.0046373782851,\n",
       " 0.0046379722962,\n",
       " 0.0046384711447,\n",
       " 0.0046388766505,\n",
       " 0.0046391892001,\n",
       " 0.0046394082668,\n",
       " 0.0046395330999,\n",
       " 0.0046395633682,\n",
       " 0.0046394995876,\n",
       " 0.0046393432471,\n",
       " 0.0046390966427,\n",
       " 0.0046387625084,\n",
       " 0.0046383435748,\n",
       " 0.0046378421872,\n",
       " 0.0046372600813,\n",
       " 0.0046365983524,\n",
       " 0.0046358576015,\n",
       " 0.0046350381897,\n",
       " 0.0046341405172,\n",
       " 0.0046331652458,\n",
       " 0.0046321134119,\n",
       " 0.0046309864153,\n",
       " 0.0046297859054,\n",
       " 0.0046285136094,\n",
       " 0.0046271711605,\n",
       " 0.0046257599712,\n",
       " 0.0046242811817,\n",
       " 0.0046227356857,\n",
       " 0.0046211242164,\n",
       " 0.004619447459,\n",
       " 0.0046177061569,\n",
       " 0.004615901182,\n",
       " 0.0046140335548,\n",
       " 0.004612104418,\n",
       " 0.0046101149749,\n",
       " 0.0046080664169,\n",
       " 0.0046059598605,\n",
       " 0.00460379631,\n",
       " 0.0046015766526,\n",
       " 0.0045993016827,\n",
       " 0.0045969721445,\n",
       " 0.0045945887789,\n",
       " 0.0045921523608,\n",
       " 0.004589663718,\n",
       " 0.0045871237302,\n",
       " 0.0045845333097,\n",
       " 0.0045818933729,\n",
       " 0.0045792048112,\n",
       " 0.0045764684701,\n",
       " 0.0045736851401,\n",
       " 0.0045708555612,\n",
       " 0.0045679804375,\n",
       " 0.0045650604565,\n",
       " 0.004562096307,\n",
       " 0.0045590886915,\n",
       " 0.0045560383301,\n",
       " 0.0045529459557,\n",
       " 0.0045498123041,\n",
       " 0.0045466381016,\n",
       " 0.0045434240543,\n",
       " 0.0045401708417,\n",
       " 0.0045368791158,\n",
       " 0.0045335495054,\n",
       " 0.0045301826235,\n",
       " 0.0045267790755,\n",
       " 0.0045233394655,\n",
       " 0.0045198644002,\n",
       " 0.0045163544887,\n",
       " 0.004512810339,\n",
       " 0.0045092325539,\n",
       " 0.0045056217254,\n",
       " 0.0045019784315,\n",
       " 0.0044983032343,\n",
       " 0.0044945966812,\n",
       " 0.0044908593074,\n",
       " 0.0044870916389,\n",
       " 0.0044832941965,\n",
       " 0.0044794674973,\n",
       " 0.0044756120561,\n",
       " 0.0044717283845,\n",
       " 0.0044678169892,\n",
       " 0.0044638783697,\n",
       " 0.0044599130173,\n",
       " 0.0044559214129,\n",
       " 0.0044519040277,\n",
       " 0.0044478613238,\n",
       " 0.0044437937555,\n",
       " 0.0044397017706,\n",
       " 0.0044355858121,\n",
       " 0.0044314463185,\n",
       " 0.0044272837243,\n",
       " 0.0044230984592,\n",
       " 0.0044188909473,\n",
       " 0.0044146616065,\n",
       " 0.0044104108478,\n",
       " 0.0044061390752,\n",
       " 0.0044018466856,\n",
       " 0.0043975340696,\n",
       " 0.004393201612,\n",
       " 0.0043888496926,\n",
       " 0.0043844786866,\n",
       " 0.0043800889645,\n",
       " 0.0043756808927,\n",
       " 0.0043712548328,\n",
       " 0.0043668111412,\n",
       " 0.0043623501694,\n",
       " 0.0043578722631,\n",
       " 0.0043533777627,\n",
       " 0.0043488670036,\n",
       " 0.004344340316,\n",
       " 0.0043397980256,\n",
       " 0.0043352404538,\n",
       " 0.0043306679178,\n",
       " 0.0043260807307,\n",
       " 0.0043214792016,\n",
       " 0.0043168636354,\n",
       " 0.0043122343326,\n",
       " 0.0043075915894,\n",
       " 0.0043029356976,\n",
       " 0.0042982669448,\n",
       " 0.0042935856143,\n",
       " 0.0042888919855,\n",
       " 0.004284186334,\n",
       " 0.0042794689316,\n",
       " 0.0042747400465,\n",
       " 0.0042699999433,\n",
       " 0.004265248883,\n",
       " 0.0042604871232,\n",
       " 0.0042557149175,\n",
       " 0.0042509325163,\n",
       " 0.0042461401659,\n",
       " 0.0042413381097,\n",
       " 0.0042365265872,\n",
       " 0.0042317058347,\n",
       " 0.0042268760855,\n",
       " 0.0042220375695,\n",
       " 0.0042171905134,\n",
       " 0.0042123351409,\n",
       " 0.0042074716729,\n",
       " 0.0042026003267,\n",
       " 0.004197721317,\n",
       " 0.0041928348553,\n",
       " 0.0041879411501,\n",
       " 0.004183040407,\n",
       " 0.0041781328289,\n",
       " 0.0041732186156,\n",
       " 0.0041682979644,\n",
       " 0.0041633710699,\n",
       " 0.0041584381238,\n",
       " 0.0041534993153,\n",
       " 0.0041485548311,\n",
       " 0.0041436048552,\n",
       " 0.0041386495689,\n",
       " 0.0041336891512,\n",
       " 0.0041287237784,\n",
       " 0.0041237536245,\n",
       " 0.0041187788611,\n",
       " 0.0041137996573,\n",
       " 0.0041088161799,\n",
       " 0.0041038285934,\n",
       " 0.0040988370601,\n",
       " 0.00409384174,\n",
       " 0.0040888427909,\n",
       " 0.0040838403684,\n",
       " 0.0040788346258,\n",
       " 0.0040738257145,\n",
       " 0.0040688137837,\n",
       " 0.0040637989803,\n",
       " 0.0040587814496,\n",
       " 0.0040537613344,\n",
       " 0.0040487387759,\n",
       " 0.0040437139132,\n",
       " 0.0040386868834,\n",
       " 0.0040336578217,\n",
       " 0.0040286268615,\n",
       " 0.0040235941344,\n",
       " 0.00401855977,\n",
       " 0.004013523896,\n",
       " 0.0040084866387,\n",
       " 0.0040034481222,\n",
       " 0.0039984084692,\n",
       " 0.0039933678004,\n",
       " 0.003988326235,\n",
       " 0.0039832838906,\n",
       " 0.0039782408829,\n",
       " 0.0039731973262,\n",
       " 0.0039681533331,\n",
       " 0.0039631090145,\n",
       " 0.00395806448,\n",
       " 0.0039530198375,\n",
       " 0.0039479751934,\n",
       " 0.0039429306525,\n",
       " 0.0039378863183,\n",
       " 0.0039328422928,\n",
       " 0.0039277986764,\n",
       " 0.0039227555683,\n",
       " 0.0039177130662,\n",
       " 0.0039126712663,\n",
       " 0.0039076302636,\n",
       " 0.0039025901516,\n",
       " 0.0038975510227,\n",
       " 0.0038925129678,\n",
       " 0.0038874760765,\n",
       " 0.0038824404372,\n",
       " 0.003877406137,\n",
       " 0.0038723732617,\n",
       " 0.003867341896,\n",
       " 0.0038623121233,\n",
       " 0.0038572840258,\n",
       " 0.0038522576845,\n",
       " 0.0038472331794,\n",
       " 0.003842210589,\n",
       " 0.003837189991,\n",
       " 0.0038321714619,\n",
       " 0.0038271550769,\n",
       " 0.0038221409104,\n",
       " 0.0038171290355,\n",
       " 0.0038121195243,\n",
       " 0.0038071124478,\n",
       " 0.0038021078762,\n",
       " 0.0037971058783,\n",
       " 0.0037921065222,\n",
       " 0.0037871098749,\n",
       " 0.0037821160023,\n",
       " 0.0037771249695,\n",
       " 0.0037721368405,\n",
       " 0.0037671516785,\n",
       " 0.0037621695457,\n",
       " 0.0037571905033,\n",
       " 0.0037522146116,\n",
       " 0.0037472419302,\n",
       " 0.0037422725175,\n",
       " 0.0037373064313,\n",
       " 0.0037323437284,\n",
       " 0.0037273844648,\n",
       " 0.0037224286955,\n",
       " 0.0037174764749,\n",
       " 0.0037125278564,\n",
       " 0.0037075828927,\n",
       " 0.0037026416357,\n",
       " 0.0036977041363,\n",
       " 0.003692770445,\n",
       " 0.0036878406111,\n",
       " 0.0036829146835,\n",
       " 0.0036779927101,\n",
       " 0.0036730747383,\n",
       " 0.0036681608145,\n",
       " 0.0036632509845,\n",
       " 0.0036583452934,\n",
       " 0.0036534437856,\n",
       " 0.0036485465049,\n",
       " 0.0036436534941,\n",
       " 0.0036387647956,\n",
       " 0.0036338804511,\n",
       " 0.0036290005015,\n",
       " 0.0036241249873,\n",
       " 0.003619253948,\n",
       " 0.0036143874228,\n",
       " 0.00360952545,\n",
       " 0.0036046680676,\n",
       " 0.0035998153126,\n",
       " 0.0035949672217,\n",
       " 0.0035901238308,\n",
       " 0.0035852851754,\n",
       " 0.0035804512903,\n",
       " 0.0035756222097,\n",
       " 0.0035707979673,\n",
       " 0.0035659785962,\n",
       " 0.0035611641291,\n",
       " 0.0035563545978,\n",
       " 0.0035515500339,\n",
       " 0.0035467504684,\n",
       " 0.0035419559316,\n",
       " 0.0035371664535,\n",
       " 0.0035323820634,\n",
       " 0.0035276027903,\n",
       " 0.0035228286624,\n",
       " 0.0035180597078,\n",
       " 0.0035132959537,\n",
       " 0.0035085374271,\n",
       " 0.0035037841545,\n",
       " 0.0034990361619,\n",
       " 0.0034942934746,\n",
       " 0.0034895561178,\n",
       " 0.0034848241162,\n",
       " 0.0034800974937,\n",
       " 0.0034753762742,\n",
       " 0.0034706604809,\n",
       " 0.0034659501367,\n",
       " 0.0034612452641,\n",
       " 0.0034565458849,\n",
       " 0.0034518520208,\n",
       " 0.0034471636929,\n",
       " 0.0034424809222,\n",
       " 0.0034378037288,\n",
       " 0.0034331321329,\n",
       " 0.003428466154,\n",
       " 0.0034238058113,\n",
       " 0.0034191511237,\n",
       " 0.0034145021097,\n",
       " 0.0034098587872,\n",
       " 0.0034052211741,\n",
       " 0.0034005892877,\n",
       " 0.0033959631451,\n",
       " 0.0033913427628,\n",
       " 0.0033867281572,\n",
       " 0.0033821193443,\n",
       " 0.0033775163397,\n",
       " 0.0033729191587,\n",
       " 0.0033683278163,\n",
       " 0.0033637423271,\n",
       " 0.0033591627055,\n",
       " 0.0033545889653,\n",
       " 0.0033500211205,\n",
       " 0.0033454591842,\n",
       " 0.0033409031697,\n",
       " 0.0033363530896,\n",
       " 0.0033318089564,\n",
       " 0.0033272707824,\n",
       " 0.0033227385794,\n",
       " 0.003318212359,\n",
       " 0.0033136921326,\n",
       " 0.0033091779111,\n",
       " 0.0033046697054,\n",
       " 0.003300167526,\n",
       " 0.003295671383,\n",
       " 0.0032911812864,\n",
       " 0.003286697246,\n",
       " 0.0032822192711,\n",
       " 0.0032777473709,\n",
       " 0.0032732815544,\n",
       " 0.0032688218302,\n",
       " 0.0032643682068,\n",
       " 0.0032599206924,\n",
       " 0.0032554792948,\n",
       " 0.0032510440219,\n",
       " 0.003246614881,\n",
       " 0.0032421918795,\n",
       " 0.0032377750243,\n",
       " 0.0032333643222,\n",
       " 0.0032289597798,\n",
       " 0.0032245614035,\n",
       " 0.0032201691994,\n",
       " 0.0032157831733,\n",
       " 0.0032114033311,\n",
       " 0.0032070296781,\n",
       " 0.0032026622198,\n",
       " 0.0031983009611,\n",
       " 0.003193945907,\n",
       " 0.0031895970621,\n",
       " 0.0031852544309,\n",
       " 0.0031809180178,\n",
       " 0.0031765878268,\n",
       " 0.0031722638619,\n",
       " 0.0031679461267,\n",
       " 0.0031636346249,\n",
       " 0.0031593293598,\n",
       " 0.0031550303346,\n",
       " 0.0031507375523,\n",
       " 0.0031464510157,\n",
       " 0.0031421707276,\n",
       " 0.0031378966903,\n",
       " 0.0031336289063,\n",
       " 0.0031293673777,\n",
       " 0.0031251121064,\n",
       " 0.0031208630944,\n",
       " 0.0031166203433,\n",
       " 0.0031123838546,\n",
       " 0.0031081536296,\n",
       " 0.0031039296697,\n",
       " 0.0030997119758,\n",
       " 0.0030955005489,\n",
       " 0.0030912953898,\n",
       " 0.0030870964989,\n",
       " 0.0030829038769,\n",
       " 0.0030787175241,\n",
       " 0.0030745374406,\n",
       " 0.0030703636265,\n",
       " 0.0030661960817,\n",
       " 0.0030620348061,\n",
       " 0.0030578797992,\n",
       " 0.0030537310606,\n",
       " 0.0030495885896,\n",
       " 0.0030454523856,\n",
       " 0.0030413224477,\n",
       " 0.0030371987749,\n",
       " 0.0030330813661,\n",
       " 0.00302897022,\n",
       " 0.0030248653353,\n",
       " 0.0030207667106,\n",
       " 0.0030166743443,\n",
       " 0.0030125882346,\n",
       " 0.0030085083798,\n",
       " 0.0030044347779,\n",
       " 0.003000367427,\n",
       " 0.0029963063248,\n",
       " 0.0029922514691,\n",
       " 0.0029882028576,\n",
       " 0.0029841604879,\n",
       " 0.0029801243573,\n",
       " 0.0029760944632,\n",
       " 0.0029720708028,\n",
       " 0.0029680533734,\n",
       " 0.0029640421718,\n",
       " 0.0029600371952,\n",
       " 0.0029560384403,\n",
       " 0.0029520459038,\n",
       " 0.0029480595826,\n",
       " 0.0029440794731,\n",
       " 0.0029401055718,\n",
       " 0.0029361378751,\n",
       " 0.0029321763794,\n",
       " 0.0029282210809,\n",
       " 0.0029242719756,\n",
       " 0.0029203290598,\n",
       " 0.0029163923293,\n",
       " 0.00291246178,\n",
       " 0.0029085374078,\n",
       " 0.0029046192084,\n",
       " 0.0029007071774,\n",
       " 0.0028968013105,\n",
       " 0.0028929016031,\n",
       " 0.0028890080506,\n",
       " 0.0028851206486,\n",
       " 0.0028812393921,\n",
       " 0.0028773642764,\n",
       " 0.0028734952968,\n",
       " 0.0028696324482,\n",
       " 0.0028657757256,\n",
       " 0.002861925124,\n",
       " 0.0028580806383,\n",
       " 0.0028542422633,\n",
       " 0.0028504099937,\n",
       " 0.0028465838242,\n",
       " 0.0028427637494,\n",
       " 0.0028389497638,\n",
       " 0.0028351418621,\n",
       " 0.0028313400385,\n",
       " 0.0028275442875,\n",
       " 0.0028237546034,\n",
       " 0.0028199709804,\n",
       " 0.0028161934128,\n",
       " 0.0028124218947,\n",
       " 0.0028086564201,\n",
       " 0.0028048969832,\n",
       " 0.002801143578,\n",
       " 0.0027973961982,\n",
       " 0.002793654838,\n",
       " 0.0027899194909,\n",
       " 0.002786190151,\n",
       " 0.0027824668118,\n",
       " 0.0027787494671,\n",
       " 0.0027750381105,\n",
       " 0.0027713327356,\n",
       " 0.002767633336,\n",
       " 0.0027639399051,\n",
       " 0.0027602524364,\n",
       " 0.0027565709233,\n",
       " 0.0027528953592,\n",
       " 0.0027492257374,\n",
       " 0.0027455620512,\n",
       " 0.0027419042938,\n",
       " 0.0027382524585,\n",
       " 0.0027346065384,\n",
       " 0.0027309665266,\n",
       " 0.0027273324162,\n",
       " 0.0027237042002,\n",
       " 0.0027200818718,\n",
       " 0.0027164654237,\n",
       " 0.0027128548491,\n",
       " 0.0027092501407,\n",
       " 0.0027056512915,\n",
       " 0.0027020582942,\n",
       " 0.0026984711418,\n",
       " 0.0026948898269,\n",
       " 0.0026913143422,\n",
       " 0.0026877446806,\n",
       " 0.0026841808346,\n",
       " 0.002680622797,\n",
       " 0.0026770705602,\n",
       " 0.002673524117,\n",
       " 0.0026699834598,\n",
       " 0.0026664485812,\n",
       " 0.0026629194736,\n",
       " 0.0026593961296,\n",
       " 0.0026558785416,\n",
       " 0.0026523667019,\n",
       " 0.0026488606031,\n",
       " 0.0026453602374,\n",
       " 0.0026418655972,\n",
       " 0.0026383766748,\n",
       " 0.0026348934625,\n",
       " 0.0026314159526,\n",
       " 0.0026279441373,\n",
       " 0.0026244780088,\n",
       " 0.0026210175594,\n",
       " 0.0026175627812,\n",
       " 0.0026141136663,\n",
       " 0.002610670207,\n",
       " 0.0026072323952,\n",
       " 0.0026038002232,\n",
       " 0.002600373683,\n",
       " 0.0025969527667,\n",
       " 0.0025935374662,\n",
       " 0.0025901277737,\n",
       " 0.0025867236811,\n",
       " 0.0025833251804,\n",
       " 0.0025799322636,\n",
       " 0.0025765449226,\n",
       " 0.0025731631493,\n",
       " 0.0025697869358,\n",
       " 0.0025664162738,\n",
       " 0.0025630511553,\n",
       " 0.0025596915722,\n",
       " 0.0025563375163,\n",
       " 0.0025529889795,\n",
       " 0.0025496459535,\n",
       " 0.0025463084303,\n",
       " 0.0025429764016,\n",
       " 0.0025396498592,\n",
       " 0.0025363287949,\n",
       " 0.0025330132005,\n",
       " 0.0025297030678,\n",
       " 0.0025263983884,\n",
       " 0.0025230991541,\n",
       " 0.0025198053567,\n",
       " 0.0025165169878,\n",
       " 0.0025132340392,\n",
       " 0.0025099565025,\n",
       " 0.0025066843695,\n",
       " 0.0025034176319,\n",
       " 0.0025001562812,\n",
       " 0.0024969003092,\n",
       " 0.0024936497075,\n",
       " 0.0024904044677,\n",
       " 0.0024871645816,\n",
       " 0.0024839300406,\n",
       " 0.0024807008366,\n",
       " 0.0024774769609,\n",
       " 0.0024742584054,\n",
       " 0.0024710451615,\n",
       " 0.0024678372209,\n",
       " 0.0024646345752,\n",
       " 0.0024614372159,\n",
       " 0.0024582451346,\n",
       " 0.002455058323,\n",
       " 0.0024518767725,\n",
       " 0.0024487004748,\n",
       " 0.0024455294214,\n",
       " 0.0024423636039,\n",
       " 0.0024392030138,\n",
       " 0.0024360476426,\n",
       " 0.002432897482,\n",
       " 0.0024297525235,\n",
       " 0.0024266127586,\n",
       " 0.0024234781788,\n",
       " 0.0024203487758,\n",
       " 0.0024172245409,\n",
       " 0.0024141054659,\n",
       " 0.0024109915421,\n",
       " 0.0024078827612,\n",
       " 0.0024047791146,\n",
       " 0.0024016805939,\n",
       " 0.0023985871906,\n",
       " 0.0023954988963,\n",
       " 0.0023924157024,\n",
       " 0.0023893376005,\n",
       " 0.0023862645821,\n",
       " 0.0023831966388,\n",
       " 0.0023801337621,\n",
       " 0.0023770759434,\n",
       " 0.0023740231744,\n",
       " 0.0023709754465,\n",
       " 0.0023679327514,\n",
       " 0.0023648950804,\n",
       " 0.0023618624252,\n",
       " 0.0023588347772,\n",
       " 0.0023558121281,\n",
       " 0.0023527944693,\n",
       " 0.0023497817925,\n",
       " 0.002346774089,\n",
       " 0.0023437713505,\n",
       " 0.0023407735686,\n",
       " 0.0023377807347,\n",
       " 0.0023347928405,\n",
       " 0.0023318098774,\n",
       " 0.0023288318371,\n",
       " 0.002325858711,\n",
       " 0.0023228904908,\n",
       " 0.0023199271681,\n",
       " 0.0023169687343,\n",
       " 0.0023140151812,\n",
       " 0.0023110665002,\n",
       " 0.0023081226829,\n",
       " 0.0023051837209,\n",
       " 0.0023022496059,\n",
       " 0.0022993203294,\n",
       " 0.002296395883,\n",
       " 0.0022934762583,\n",
       " 0.002290561447,\n",
       " 0.0022876514406,\n",
       " 0.0022847462308,\n",
       " 0.0022818458092,\n",
       " 0.0022789501674,\n",
       " 0.0022760592971,\n",
       " 0.0022731731899,\n",
       " 0.0022702918374,\n",
       " 0.0022674152314,\n",
       " 0.0022645433634,\n",
       " 0.0022616762252,\n",
       " 0.0022588138085,\n",
       " 0.0022559561048,\n",
       " 0.0022531031059,\n",
       " 0.0022502548034,\n",
       " 0.0022474111892,\n",
       " 0.0022445722548,\n",
       " 0.002241737992,\n",
       " 0.0022389083925,\n",
       " 0.0022360834481,\n",
       " 0.0022332631504,\n",
       " 0.0022304474913,\n",
       " 0.0022276364624,\n",
       " 0.0022248300555,\n",
       " 0.0022220282624,\n",
       " 0.0022192310748,\n",
       " 0.0022164384846,\n",
       " 0.0022136504835,\n",
       " 0.0022108670633,\n",
       " 0.0022080882158,\n",
       " 0.0022053139328,\n",
       " 0.0022025442062,\n",
       " 0.0021997790277,\n",
       " 0.0021970183893,\n",
       " 0.0021942622826,\n",
       " 0.0021915106997,\n",
       " 0.0021887636323,\n",
       " 0.0021860210723,\n",
       " 0.0021832830116,\n",
       " 0.0021805494421,\n",
       " 0.0021778203557,\n",
       " 0.0021750957443,\n",
       " 0.0021723755997,\n",
       " 0.002169659914,\n",
       " 0.002166948679,\n",
       " 0.0021642418866,\n",
       " 0.002161539529,\n",
       " 0.0021588415979,\n",
       " 0.0021561480853,\n",
       " 0.0021534589833,\n",
       " 0.0021507742838,\n",
       " 0.0021480939788,\n",
       " 0.0021454180603,\n",
       " 0.0021427465204,\n",
       " 0.002140079351,\n",
       " 0.0021374165442,\n",
       " 0.002134758092,\n",
       " 0.0021321039866,\n",
       " 0.0021294542198,\n",
       " 0.0021268087839,\n",
       " 0.0021241676709,\n",
       " 0.002121530873,\n",
       " 0.0021188983821,\n",
       " 0.0021162701904,\n",
       " 0.0021136462901,\n",
       " 0.0021110266732,\n",
       " 0.002108411332,\n",
       " 0.0021058002585,\n",
       " 0.002103193445,\n",
       " 0.0021005908836,\n",
       " 0.0020979925666,\n",
       " 0.002095398486,\n",
       " 0.0020928086341,\n",
       " 0.0020902230031,\n",
       " 0.0020876415853,\n",
       " 0.0020850643729,\n",
       " 0.0020824913582,\n",
       " 0.0020799225333,\n",
       " 0.0020773578907,\n",
       " 0.0020747974225,\n",
       " 0.002072241121,\n",
       " 0.0020696889786,\n",
       " 0.0020671409876,\n",
       " 0.0020645971403,\n",
       " 0.002062057429,\n",
       " 0.0020595218461,\n",
       " 0.0020569903839,\n",
       " 0.0020544630349,\n",
       " 0.0020519397913,\n",
       " 0.0020494206457,\n",
       " 0.0020469055903,\n",
       " 0.0020443946177,\n",
       " 0.0020418877202,\n",
       " 0.0020393848903,\n",
       " 0.0020368861204,\n",
       " 0.002034391403,\n",
       " 0.0020319007305,\n",
       " 0.0020294140955,\n",
       " 0.0020269314904,\n",
       " 0.0020244529078,\n",
       " 0.0020219783401,\n",
       " 0.00201950778,\n",
       " 0.0020170412198,\n",
       " 0.0020145786523,\n",
       " 0.0020121200699,\n",
       " 0.0020096654652,\n",
       " 0.0020072148309,\n",
       " 0.0020047681594,\n",
       " 0.0020023254435,\n",
       " 0.0019998866757,\n",
       " 0.0019974518487,\n",
       " 0.0019950209552,\n",
       " 0.0019925939877,\n",
       " 0.001990170939,\n",
       " 0.0019877518017,\n",
       " 0.0019853365685,\n",
       " 0.0019829252322,\n",
       " 0.0019805177854,\n",
       " 0.0019781142209,\n",
       " 0.0019757145314,\n",
       " 0.0019733187097,\n",
       " 0.0019709267485,\n",
       " 0.0019685386407,\n",
       " 0.0019661543789,\n",
       " 0.0019637739561,\n",
       " 0.0019613973649,\n",
       " 0.0019590245983,\n",
       " 0.001956655649,\n",
       " 0.00195429051,\n",
       " 0.0019519291741,\n",
       " 0.0019495716341,\n",
       " 0.0019472178829,\n",
       " 0.0019448679135,\n",
       " 0.0019425217187,\n",
       " 0.0019401792914,\n",
       " 0.0019378406247,\n",
       " 0.0019355057113,\n",
       " 0.0019331745444,\n",
       " 0.0019308471168,\n",
       " 0.0019285234216,\n",
       " 0.0019262034516,\n",
       " 0.0019238872,\n",
       " 0.0019215746598,\n",
       " 0.0019192658239,\n",
       " 0.0019169606855,\n",
       " 0.0019146592375,\n",
       " 0.001912361473,\n",
       " 0.0019100673852,\n",
       " 0.0019077769671,\n",
       " 0.0019054902117,\n",
       " 0.0019032071123,\n",
       " 0.0019009276619,\n",
       " 0.0018986518537,\n",
       " ...]"
      ]
     },
     "execution_count": 14,
     "metadata": {},
     "output_type": "execute_result"
    }
   ],
   "source": [
    "derpsi_ori"
   ]
  },
  {
   "cell_type": "markdown",
   "id": "28d65fd0",
   "metadata": {},
   "source": [
    "Finding zero crossings"
   ]
  },
  {
   "cell_type": "code",
   "execution_count": 32,
   "id": "c2688a1c",
   "metadata": {},
   "outputs": [
    {
     "name": "stdout",
     "output_type": "stream",
     "text": [
      "Number of zero crossing is  11\n",
      "[1.45356975e-21 1.39428037e+00 1.52720081e+00 1.55478273e+00]\n",
      "\n",
      "Tau star is  1.5624269587618917\n",
      "Tau* is u* in my report\n",
      "\n",
      "Delta is  3.055674712423608\n"
     ]
    }
   ],
   "source": [
    "from scipy.interpolate import UnivariateSpline\n",
    "\n",
    "spl = UnivariateSpline(time, derpsi_ori, s=0)\n",
    "\n",
    "roots=spl.roots()\n",
    "print(\"Number of zero crossing is \",len(roots))\n",
    "print(roots[k:(k+3)+1])\n",
    "\n",
    "k=2\n",
    "tau_star=(roots[0+k]*roots[3+k]-roots[1+k]*roots[2+k])/(roots[0+k]-roots[1+k]-roots[2+k]+roots[3+k])\n",
    "print(\"\\nTau star is \", tau_star)\n",
    "print(\"Tau* is u* in my report\")\n",
    "\n",
    "Delta=2*math.log((tau_star-roots[k])/(tau_star-roots[k+1]))\n",
    "print(\"\\nDelta is \", Delta)"
   ]
  },
  {
   "cell_type": "code",
   "execution_count": 33,
   "id": "598fe35d",
   "metadata": {},
   "outputs": [
    {
     "data": {
      "text/plain": [
       "1.5608430946600613"
      ]
     },
     "execution_count": 33,
     "metadata": {},
     "output_type": "execute_result"
    }
   ],
   "source": [
    "(1.5620804324216369+1.5580218927966552+1.5624269587618917)/3"
   ]
  },
  {
   "cell_type": "code",
   "execution_count": 30,
   "id": "4a543b3f",
   "metadata": {},
   "outputs": [
    {
     "data": {
      "text/plain": [
       "3.56772727695355"
      ]
     },
     "execution_count": 30,
     "metadata": {},
     "output_type": "execute_result"
    }
   ],
   "source": [
    "(4.505766404707131+3.1417407137299103+ 3.055674712423608)/3"
   ]
  },
  {
   "cell_type": "code",
   "execution_count": 17,
   "id": "40586b5a",
   "metadata": {},
   "outputs": [],
   "source": [
    "#adapt_time = [-math.log(abs((tau_star-x))) for x in time[0:len(time)-1]]#0:len(time)-step:step]] #ignoring last timestep, where log(0)\n",
    "\n",
    "adapt_time=[]\n",
    "\n",
    "for x in time:\n",
    "    if x<=tau_star:\n",
    "        adapt_time.append(-math.log(abs((tau_star-x))))"
   ]
  },
  {
   "cell_type": "code",
   "execution_count": 18,
   "id": "ee2034e7",
   "metadata": {},
   "outputs": [
    {
     "data": {
      "image/png": "[encoded data removed]",
      "text/plain": [
       "<Figure size 792x432 with 2 Axes>"
      ]
     },
     "metadata": {},
     "output_type": "display_data"
    }
   ],
   "source": [
    "with plt.style.context('ggplot'):\n",
    "    \"\"\"plt.rcParams.update({'font.size': 12})    \n",
    "    plt.rcParams[\"figure.figsize\"] = (7,5)\"\"\"\n",
    "    fig, (ax1, ax2) = plt.subplots(1, 2,figsize=(11, 6))\n",
    "\n",
    "    ax1.plot(time,derpsi_ori,linewidth=0.5)\n",
    "    ax1.scatter(time,derpsi_ori,s=0.5)\n",
    "    ax1.set_xlabel(\"Proper time u\",fontsize=15)\n",
    "    ax1.set_ylabel(\"$\\phi$\",fontsize=15)\n",
    "    #ax2.set_xlim([0.62,0.66])\n",
    "    \n",
    "    ax2.plot(adapt_time,derpsi_ori[0:len(adapt_time)],linewidth=0.5)\n",
    "    ax2.scatter(adapt_time,derpsi_ori[0:len(adapt_time)],s=0.5)\n",
    "    ax2.set_xlabel(\"Similarity time T\",fontsize=15)\n",
    "    ax2.set_ylabel(\"$\\phi$\",fontsize=15)\n",
    "    fig.tight_layout(pad=3.0)\n",
    "    \n",
    "    plt.savefig(\"myImagePDF.pdf\", format=\"pdf\", bbox_inches=\"tight\")\n",
    "    \n",
    "    plt.show()"
   ]
  },
  {
   "cell_type": "code",
   "execution_count": 19,
   "id": "749f7f03",
   "metadata": {},
   "outputs": [
    {
     "data": {
      "text/plain": [
       "array([-0.44624036,  1.78321793,  3.34596659,  4.8754568 ,  6.29000347,\n",
       "        7.88988787])"
      ]
     },
     "execution_count": 19,
     "metadata": {},
     "output_type": "execute_result"
    }
   ],
   "source": [
    "from scipy.interpolate import UnivariateSpline\n",
    "\n",
    "spl = UnivariateSpline(adapt_time,derpsi_ori[0:len(adapt_time)], s=0)\n",
    "\n",
    "roots=spl.roots()\n",
    "len(roots)\n",
    "roots"
   ]
  },
  {
   "cell_type": "code",
   "execution_count": 21,
   "id": "e3c13493",
   "metadata": {},
   "outputs": [
    {
     "data": {
      "text/plain": [
       "3.1254973200000005"
      ]
     },
     "execution_count": 21,
     "metadata": {},
     "output_type": "execute_result"
    }
   ],
   "source": [
    "(-3.34596659+1.78321793)*-2"
   ]
  },
  {
   "cell_type": "code",
   "execution_count": 27,
   "id": "6faef7e7",
   "metadata": {},
   "outputs": [
    {
     "data": {
      "text/plain": [
       "3.05898042"
      ]
     },
     "execution_count": 27,
     "metadata": {},
     "output_type": "execute_result"
    }
   ],
   "source": [
    "(4.8754568-3.34596659)*2"
   ]
  },
  {
   "cell_type": "code",
   "execution_count": 28,
   "id": "3cee0c8c",
   "metadata": {},
   "outputs": [
    {
     "data": {
      "text/plain": [
       "2.82909334"
      ]
     },
     "execution_count": 28,
     "metadata": {},
     "output_type": "execute_result"
    }
   ],
   "source": [
    "(6.29000347-4.8754568)*2"
   ]
  },
  {
   "cell_type": "code",
   "execution_count": 30,
   "id": "e848381f",
   "metadata": {},
   "outputs": [
    {
     "data": {
      "text/plain": [
       "3.16263306"
      ]
     },
     "execution_count": 30,
     "metadata": {},
     "output_type": "execute_result"
    }
   ],
   "source": [
    "((7.88988787-6.29000347)*2+3.1254973200000005)/2"
   ]
  },
  {
   "cell_type": "code",
   "execution_count": 22,
   "id": "4242e150",
   "metadata": {},
   "outputs": [
    {
     "data": {
      "text/plain": [
       "[<matplotlib.lines.Line2D at 0x7fc57c1acb50>]"
      ]
     },
     "execution_count": 22,
     "metadata": {},
     "output_type": "execute_result"
    },
    {
     "data": {
      "image/png": "[encoded data removed]",
      "text/plain": [
       "<Figure size 432x288 with 1 Axes>"
      ]
     },
     "metadata": {
      "needs_background": "light"
     },
     "output_type": "display_data"
    }
   ],
   "source": [
    "plt.plot(adapt_time,maxmonitorratio[0:len(adapt_time)])"
   ]
  },
  {
   "cell_type": "markdown",
   "id": "7a5d6da5",
   "metadata": {},
   "source": [
    "Monitor ratio over time"
   ]
  },
  {
   "cell_type": "code",
   "execution_count": 49,
   "id": "abb35697",
   "metadata": {},
   "outputs": [
    {
     "data": {
      "image/png": "[encoded data removed]",
      "text/plain": [
       "<Figure size 504x360 with 1 Axes>"
      ]
     },
     "metadata": {},
     "output_type": "display_data"
    }
   ],
   "source": [
    "\"\"\"L=len(m[0])\n",
    "\n",
    "monitor_ratio=[]\n",
    "for t in range(0,len(m)-1):\n",
    "    aux=[]\n",
    "    for x in range(4,L-3):\n",
    "        aux.append(2*m[t][x]*(1-grid[t][x])/grid[t][x])\n",
    "    monitor_ratio.append(max(aux))\"\"\"\n",
    "    \n",
    "\n",
    "with plt.style.context('ggplot'):\n",
    "      \n",
    "    plt.rcParams[\"figure.figsize\"] = (7,5)\n",
    "    #plt.plot(time[0:len(time)-1],monitor_ratio,linewidth=0.5)\n",
    "    plt.scatter(adapt_time[0:len(adapt_time)-30],maxmonitorratio[0:len(adapt_time)-30],s=2)\n",
    "    \n",
    "    plt.plot(adapt_time[0:len(adapt_time)-38],maxmonitorratio[0:len(adapt_time)-38],linewidth=0.5)\n",
    "    plt.ylabel(\"max(2m/r)\",fontsize=15)\n",
    "    plt.xlabel(\"Similarity time T\",fontsize=15)\n",
    "    plt.ylim([0.15,0.6])\n",
    "    plt.savefig(\"myImagePDF.pdf\", format=\"pdf\", bbox_inches=\"tight\")\n",
    "    plt.show()"
   ]
  },
  {
   "cell_type": "markdown",
   "id": "bcdd3e7f",
   "metadata": {},
   "source": [
    "Value of Derpsi at the origin over time"
   ]
  },
  {
   "cell_type": "code",
   "execution_count": 153,
   "id": "5a20053c",
   "metadata": {},
   "outputs": [],
   "source": [
    "derpsiplt=[]\n",
    "for i in range(0, len(derpsi)):\n",
    "    derpsiplt.append(derpsi[i][3]) #saving derpsi at the origin for each timestep\n"
   ]
  },
  {
   "cell_type": "markdown",
   "id": "4775e1e9",
   "metadata": {},
   "source": [
    "Finding zero crossings"
   ]
  },
  {
   "cell_type": "code",
   "execution_count": 154,
   "id": "22fe1f36",
   "metadata": {},
   "outputs": [
    {
     "ename": "ValueError",
     "evalue": "x and y should have a same length",
     "output_type": "error",
     "traceback": [
      "\u001b[0;31m---------------------------------------------------------------------------\u001b[0m",
      "\u001b[0;31mValueError\u001b[0m                                Traceback (most recent call last)",
      "Input \u001b[0;32mIn [154]\u001b[0m, in \u001b[0;36m<cell line: 3>\u001b[0;34m()\u001b[0m\n\u001b[1;32m      1\u001b[0m \u001b[38;5;28;01mfrom\u001b[39;00m \u001b[38;5;21;01mscipy\u001b[39;00m\u001b[38;5;21;01m.\u001b[39;00m\u001b[38;5;21;01minterpolate\u001b[39;00m \u001b[38;5;28;01mimport\u001b[39;00m UnivariateSpline\n\u001b[0;32m----> 3\u001b[0m spl \u001b[38;5;241m=\u001b[39m \u001b[43mUnivariateSpline\u001b[49m\u001b[43m(\u001b[49m\u001b[43mtime\u001b[49m\u001b[43m,\u001b[49m\u001b[43m \u001b[49m\u001b[43mderpsiplt\u001b[49m\u001b[43m,\u001b[49m\u001b[43m \u001b[49m\u001b[43ms\u001b[49m\u001b[38;5;241;43m=\u001b[39;49m\u001b[38;5;241;43m0\u001b[39;49m\u001b[43m)\u001b[49m\n\u001b[1;32m      5\u001b[0m roots\u001b[38;5;241m=\u001b[39mspl\u001b[38;5;241m.\u001b[39mroots()\n\u001b[1;32m      6\u001b[0m \u001b[38;5;28mlen\u001b[39m(roots)\n",
      "File \u001b[0;32m~/anaconda3/lib/python3.9/site-packages/scipy/interpolate/_fitpack2.py:232\u001b[0m, in \u001b[0;36mUnivariateSpline.__init__\u001b[0;34m(self, x, y, w, bbox, k, s, ext, check_finite)\u001b[0m\n\u001b[1;32m    229\u001b[0m \u001b[38;5;28;01mdef\u001b[39;00m \u001b[38;5;21m__init__\u001b[39m(\u001b[38;5;28mself\u001b[39m, x, y, w\u001b[38;5;241m=\u001b[39m\u001b[38;5;28;01mNone\u001b[39;00m, bbox\u001b[38;5;241m=\u001b[39m[\u001b[38;5;28;01mNone\u001b[39;00m]\u001b[38;5;241m*\u001b[39m\u001b[38;5;241m2\u001b[39m, k\u001b[38;5;241m=\u001b[39m\u001b[38;5;241m3\u001b[39m, s\u001b[38;5;241m=\u001b[39m\u001b[38;5;28;01mNone\u001b[39;00m,\n\u001b[1;32m    230\u001b[0m              ext\u001b[38;5;241m=\u001b[39m\u001b[38;5;241m0\u001b[39m, check_finite\u001b[38;5;241m=\u001b[39m\u001b[38;5;28;01mFalse\u001b[39;00m):\n\u001b[0;32m--> 232\u001b[0m     x, y, w, bbox, \u001b[38;5;28mself\u001b[39m\u001b[38;5;241m.\u001b[39mext \u001b[38;5;241m=\u001b[39m \u001b[38;5;28;43mself\u001b[39;49m\u001b[38;5;241;43m.\u001b[39;49m\u001b[43mvalidate_input\u001b[49m\u001b[43m(\u001b[49m\u001b[43mx\u001b[49m\u001b[43m,\u001b[49m\u001b[43m \u001b[49m\u001b[43my\u001b[49m\u001b[43m,\u001b[49m\u001b[43m \u001b[49m\u001b[43mw\u001b[49m\u001b[43m,\u001b[49m\u001b[43m \u001b[49m\u001b[43mbbox\u001b[49m\u001b[43m,\u001b[49m\u001b[43m \u001b[49m\u001b[43mk\u001b[49m\u001b[43m,\u001b[49m\u001b[43m \u001b[49m\u001b[43ms\u001b[49m\u001b[43m,\u001b[49m\u001b[43m \u001b[49m\u001b[43mext\u001b[49m\u001b[43m,\u001b[49m\n\u001b[1;32m    233\u001b[0m \u001b[43m                                                  \u001b[49m\u001b[43mcheck_finite\u001b[49m\u001b[43m)\u001b[49m\n\u001b[1;32m    235\u001b[0m     \u001b[38;5;66;03m# _data == x,y,w,xb,xe,k,s,n,t,c,fp,fpint,nrdata,ier\u001b[39;00m\n\u001b[1;32m    236\u001b[0m     data \u001b[38;5;241m=\u001b[39m dfitpack\u001b[38;5;241m.\u001b[39mfpcurf0(x, y, k, w\u001b[38;5;241m=\u001b[39mw, xb\u001b[38;5;241m=\u001b[39mbbox[\u001b[38;5;241m0\u001b[39m],\n\u001b[1;32m    237\u001b[0m                             xe\u001b[38;5;241m=\u001b[39mbbox[\u001b[38;5;241m1\u001b[39m], s\u001b[38;5;241m=\u001b[39ms)\n",
      "File \u001b[0;32m~/anaconda3/lib/python3.9/site-packages/scipy/interpolate/_fitpack2.py:262\u001b[0m, in \u001b[0;36mUnivariateSpline.validate_input\u001b[0;34m(x, y, w, bbox, k, s, ext, check_finite)\u001b[0m\n\u001b[1;32m    260\u001b[0m         \u001b[38;5;28;01mraise\u001b[39;00m \u001b[38;5;167;01mValueError\u001b[39;00m(\u001b[38;5;124m\"\u001b[39m\u001b[38;5;124mx must be strictly increasing if s = 0\u001b[39m\u001b[38;5;124m\"\u001b[39m)\n\u001b[1;32m    261\u001b[0m \u001b[38;5;28;01mif\u001b[39;00m x\u001b[38;5;241m.\u001b[39msize \u001b[38;5;241m!=\u001b[39m y\u001b[38;5;241m.\u001b[39msize:\n\u001b[0;32m--> 262\u001b[0m     \u001b[38;5;28;01mraise\u001b[39;00m \u001b[38;5;167;01mValueError\u001b[39;00m(\u001b[38;5;124m\"\u001b[39m\u001b[38;5;124mx and y should have a same length\u001b[39m\u001b[38;5;124m\"\u001b[39m)\n\u001b[1;32m    263\u001b[0m \u001b[38;5;28;01melif\u001b[39;00m w \u001b[38;5;129;01mis\u001b[39;00m \u001b[38;5;129;01mnot\u001b[39;00m \u001b[38;5;28;01mNone\u001b[39;00m \u001b[38;5;129;01mand\u001b[39;00m \u001b[38;5;129;01mnot\u001b[39;00m x\u001b[38;5;241m.\u001b[39msize \u001b[38;5;241m==\u001b[39m y\u001b[38;5;241m.\u001b[39msize \u001b[38;5;241m==\u001b[39m w\u001b[38;5;241m.\u001b[39msize:\n\u001b[1;32m    264\u001b[0m     \u001b[38;5;28;01mraise\u001b[39;00m \u001b[38;5;167;01mValueError\u001b[39;00m(\u001b[38;5;124m\"\u001b[39m\u001b[38;5;124mx, y, and w should have a same length\u001b[39m\u001b[38;5;124m\"\u001b[39m)\n",
      "\u001b[0;31mValueError\u001b[0m: x and y should have a same length"
     ]
    }
   ],
   "source": [
    "from scipy.interpolate import UnivariateSpline\n",
    "\n",
    "spl = UnivariateSpline(time, derpsiplt, s=0)\n",
    "\n",
    "roots=spl.roots()\n",
    "len(roots)"
   ]
  },
  {
   "cell_type": "code",
   "execution_count": 1,
   "id": "064659be",
   "metadata": {},
   "outputs": [
    {
     "ename": "NameError",
     "evalue": "name 'roots' is not defined",
     "output_type": "error",
     "traceback": [
      "\u001b[0;31m---------------------------------------------------------------------------\u001b[0m",
      "\u001b[0;31mNameError\u001b[0m                                 Traceback (most recent call last)",
      "Input \u001b[0;32mIn [1]\u001b[0m, in \u001b[0;36m<cell line: 2>\u001b[0;34m()\u001b[0m\n\u001b[1;32m      1\u001b[0m k\u001b[38;5;241m=\u001b[39m\u001b[38;5;241m2\u001b[39m\n\u001b[0;32m----> 2\u001b[0m tau_star\u001b[38;5;241m=\u001b[39m(\u001b[43mroots\u001b[49m[\u001b[38;5;241m0\u001b[39m\u001b[38;5;241m+\u001b[39mk]\u001b[38;5;241m*\u001b[39mroots[\u001b[38;5;241m3\u001b[39m\u001b[38;5;241m+\u001b[39mk]\u001b[38;5;241m-\u001b[39mroots[\u001b[38;5;241m1\u001b[39m\u001b[38;5;241m+\u001b[39mk]\u001b[38;5;241m*\u001b[39mroots[\u001b[38;5;241m2\u001b[39m\u001b[38;5;241m+\u001b[39mk])\u001b[38;5;241m/\u001b[39m(roots[\u001b[38;5;241m0\u001b[39m\u001b[38;5;241m+\u001b[39mk]\u001b[38;5;241m-\u001b[39mroots[\u001b[38;5;241m1\u001b[39m\u001b[38;5;241m+\u001b[39mk]\u001b[38;5;241m-\u001b[39mroots[\u001b[38;5;241m2\u001b[39m\u001b[38;5;241m+\u001b[39mk]\u001b[38;5;241m+\u001b[39mroots[\u001b[38;5;241m3\u001b[39m\u001b[38;5;241m+\u001b[39mk])\n\u001b[1;32m      3\u001b[0m tau_star\n",
      "\u001b[0;31mNameError\u001b[0m: name 'roots' is not defined"
     ]
    }
   ],
   "source": [
    "k=2\n",
    "tau_star=(roots[0+k]*roots[3+k]-roots[1+k]*roots[2+k])/(roots[0+k]-roots[1+k]-roots[2+k]+roots[3+k])\n",
    "print(\"\\nTau star is \", tau_star)\n",
    "print(\"Tau* is u* in my report\") #all my times tau (proper time) and substituted by u\n",
    "\n",
    "Delta=2*math.log((tau_star-roots[k])/(tau_star-roots[k+1]))\n",
    "print(\"\\nDelta is \", Delta)"
   ]
  },
  {
   "cell_type": "code",
   "execution_count": null,
   "id": "2042d02b",
   "metadata": {},
   "outputs": [],
   "source": [
    "roots[k:(k+3)+1]"
   ]
  },
  {
   "cell_type": "code",
   "execution_count": 2,
   "id": "6e141c06",
   "metadata": {},
   "outputs": [
    {
     "ename": "NameError",
     "evalue": "name 'time' is not defined",
     "output_type": "error",
     "traceback": [
      "\u001b[0;31m---------------------------------------------------------------------------\u001b[0m",
      "\u001b[0;31mNameError\u001b[0m                                 Traceback (most recent call last)",
      "Input \u001b[0;32mIn [2]\u001b[0m, in \u001b[0;36m<cell line: 5>\u001b[0;34m()\u001b[0m\n\u001b[1;32m      1\u001b[0m \u001b[38;5;66;03m#adapt_time = [-math.log(abs((tau_star-x))) for x in time[0:len(time)-1]]#0:len(time)-step:step]] #ignoring last timestep, where log(0)\u001b[39;00m\n\u001b[1;32m      3\u001b[0m adapt_time\u001b[38;5;241m=\u001b[39m[]\n\u001b[0;32m----> 5\u001b[0m \u001b[38;5;28;01mfor\u001b[39;00m x \u001b[38;5;129;01min\u001b[39;00m \u001b[43mtime\u001b[49m:\n\u001b[1;32m      6\u001b[0m     \u001b[38;5;28;01mif\u001b[39;00m x\u001b[38;5;241m<\u001b[39m\u001b[38;5;241m=\u001b[39mtau_star:\n\u001b[1;32m      7\u001b[0m         adapt_time\u001b[38;5;241m.\u001b[39mappend(\u001b[38;5;241m-\u001b[39mmath\u001b[38;5;241m.\u001b[39mlog(\u001b[38;5;28mabs\u001b[39m((tau_star\u001b[38;5;241m-\u001b[39mx))))\n",
      "\u001b[0;31mNameError\u001b[0m: name 'time' is not defined"
     ]
    }
   ],
   "source": [
    "#adapt_time = [-math.log(abs((tau_star-x))) for x in time[0:len(time)-1]]#0:len(time)-step:step]] #ignoring last timestep, where log(0)\n",
    "\n",
    "adapt_time=[]\n",
    "\n",
    "for x in time:\n",
    "    if x<=tau_star:\n",
    "        adapt_time.append(-math.log(abs((tau_star-x))))"
   ]
  },
  {
   "cell_type": "code",
   "execution_count": 155,
   "id": "049a6f34",
   "metadata": {},
   "outputs": [
    {
     "ename": "ValueError",
     "evalue": "x and y must have same first dimension, but have shapes (112,) and (0,)",
     "output_type": "error",
     "traceback": [
      "\u001b[0;31m---------------------------------------------------------------------------\u001b[0m",
      "\u001b[0;31mValueError\u001b[0m                                Traceback (most recent call last)",
      "Input \u001b[0;32mIn [155]\u001b[0m, in \u001b[0;36m<cell line: 1>\u001b[0;34m()\u001b[0m\n\u001b[1;32m      1\u001b[0m \u001b[38;5;28;01mwith\u001b[39;00m plt\u001b[38;5;241m.\u001b[39mstyle\u001b[38;5;241m.\u001b[39mcontext(\u001b[38;5;124m'\u001b[39m\u001b[38;5;124mggplot\u001b[39m\u001b[38;5;124m'\u001b[39m):\n\u001b[1;32m      2\u001b[0m     \u001b[38;5;66;03m#plt.rcParams.update({'font.size': 12})    \u001b[39;00m\n\u001b[1;32m      3\u001b[0m     \u001b[38;5;66;03m#plt.rcParams[\"figure.figsize\"] = (7,5)\u001b[39;00m\n\u001b[1;32m      4\u001b[0m     fig, (ax1, ax2) \u001b[38;5;241m=\u001b[39m plt\u001b[38;5;241m.\u001b[39msubplots(\u001b[38;5;241m1\u001b[39m, \u001b[38;5;241m2\u001b[39m,figsize\u001b[38;5;241m=\u001b[39m(\u001b[38;5;241m11\u001b[39m, \u001b[38;5;241m6\u001b[39m))\n\u001b[0;32m----> 6\u001b[0m     \u001b[43max1\u001b[49m\u001b[38;5;241;43m.\u001b[39;49m\u001b[43mplot\u001b[49m\u001b[43m(\u001b[49m\u001b[43mtime\u001b[49m\u001b[43m,\u001b[49m\u001b[43mderpsiplt\u001b[49m\u001b[43m,\u001b[49m\u001b[43mlinewidth\u001b[49m\u001b[38;5;241;43m=\u001b[39;49m\u001b[38;5;241;43m0.5\u001b[39;49m\u001b[43m)\u001b[49m\n\u001b[1;32m      7\u001b[0m     ax1\u001b[38;5;241m.\u001b[39mscatter(time,derpsiplt,s\u001b[38;5;241m=\u001b[39m\u001b[38;5;241m0.5\u001b[39m)\n\u001b[1;32m      8\u001b[0m     ax1\u001b[38;5;241m.\u001b[39mset_xlabel(\u001b[38;5;124m\"\u001b[39m\u001b[38;5;124mProper time $\u001b[39m\u001b[38;5;130;01m\\u03C4\u001b[39;00m\u001b[38;5;124m$\u001b[39m\u001b[38;5;124m\"\u001b[39m)\n",
      "File \u001b[0;32m~/anaconda3/lib/python3.9/site-packages/matplotlib/axes/_axes.py:1721\u001b[0m, in \u001b[0;36mAxes.plot\u001b[0;34m(self, scalex, scaley, data, *args, **kwargs)\u001b[0m\n\u001b[1;32m   1478\u001b[0m \u001b[38;5;124;03m\"\"\"\u001b[39;00m\n\u001b[1;32m   1479\u001b[0m \u001b[38;5;124;03mPlot y versus x as lines and/or markers.\u001b[39;00m\n\u001b[1;32m   1480\u001b[0m \n\u001b[0;32m   (...)\u001b[0m\n\u001b[1;32m   1718\u001b[0m \u001b[38;5;124;03m(``'green'``) or hex strings (``'#008000'``).\u001b[39;00m\n\u001b[1;32m   1719\u001b[0m \u001b[38;5;124;03m\"\"\"\u001b[39;00m\n\u001b[1;32m   1720\u001b[0m kwargs \u001b[38;5;241m=\u001b[39m cbook\u001b[38;5;241m.\u001b[39mnormalize_kwargs(kwargs, mlines\u001b[38;5;241m.\u001b[39mLine2D)\n\u001b[0;32m-> 1721\u001b[0m lines \u001b[38;5;241m=\u001b[39m [\u001b[38;5;241m*\u001b[39m\u001b[38;5;28mself\u001b[39m\u001b[38;5;241m.\u001b[39m_get_lines(\u001b[38;5;28mself\u001b[39m, \u001b[38;5;241m*\u001b[39margs, data\u001b[38;5;241m=\u001b[39mdata, \u001b[38;5;241m*\u001b[39m\u001b[38;5;241m*\u001b[39mkwargs)]\n\u001b[1;32m   1722\u001b[0m \u001b[38;5;28;01mfor\u001b[39;00m line \u001b[38;5;129;01min\u001b[39;00m lines:\n\u001b[1;32m   1723\u001b[0m     \u001b[38;5;28mself\u001b[39m\u001b[38;5;241m.\u001b[39madd_line(line)\n",
      "File \u001b[0;32m~/anaconda3/lib/python3.9/site-packages/matplotlib/axes/_base.py:303\u001b[0m, in \u001b[0;36m_process_plot_var_args.__call__\u001b[0;34m(self, axes, data, *args, **kwargs)\u001b[0m\n\u001b[1;32m    301\u001b[0m     this \u001b[38;5;241m+\u001b[39m\u001b[38;5;241m=\u001b[39m args[\u001b[38;5;241m0\u001b[39m],\n\u001b[1;32m    302\u001b[0m     args \u001b[38;5;241m=\u001b[39m args[\u001b[38;5;241m1\u001b[39m:]\n\u001b[0;32m--> 303\u001b[0m \u001b[38;5;28;01myield from\u001b[39;00m \u001b[38;5;28;43mself\u001b[39;49m\u001b[38;5;241;43m.\u001b[39;49m\u001b[43m_plot_args\u001b[49m\u001b[43m(\u001b[49m\n\u001b[1;32m    304\u001b[0m \u001b[43m    \u001b[49m\u001b[43maxes\u001b[49m\u001b[43m,\u001b[49m\u001b[43m \u001b[49m\u001b[43mthis\u001b[49m\u001b[43m,\u001b[49m\u001b[43m \u001b[49m\u001b[43mkwargs\u001b[49m\u001b[43m,\u001b[49m\u001b[43m \u001b[49m\u001b[43mambiguous_fmt_datakey\u001b[49m\u001b[38;5;241;43m=\u001b[39;49m\u001b[43mambiguous_fmt_datakey\u001b[49m\u001b[43m)\u001b[49m\n",
      "File \u001b[0;32m~/anaconda3/lib/python3.9/site-packages/matplotlib/axes/_base.py:499\u001b[0m, in \u001b[0;36m_process_plot_var_args._plot_args\u001b[0;34m(self, axes, tup, kwargs, return_kwargs, ambiguous_fmt_datakey)\u001b[0m\n\u001b[1;32m    496\u001b[0m     axes\u001b[38;5;241m.\u001b[39myaxis\u001b[38;5;241m.\u001b[39mupdate_units(y)\n\u001b[1;32m    498\u001b[0m \u001b[38;5;28;01mif\u001b[39;00m x\u001b[38;5;241m.\u001b[39mshape[\u001b[38;5;241m0\u001b[39m] \u001b[38;5;241m!=\u001b[39m y\u001b[38;5;241m.\u001b[39mshape[\u001b[38;5;241m0\u001b[39m]:\n\u001b[0;32m--> 499\u001b[0m     \u001b[38;5;28;01mraise\u001b[39;00m \u001b[38;5;167;01mValueError\u001b[39;00m(\u001b[38;5;124mf\u001b[39m\u001b[38;5;124m\"\u001b[39m\u001b[38;5;124mx and y must have same first dimension, but \u001b[39m\u001b[38;5;124m\"\u001b[39m\n\u001b[1;32m    500\u001b[0m                      \u001b[38;5;124mf\u001b[39m\u001b[38;5;124m\"\u001b[39m\u001b[38;5;124mhave shapes \u001b[39m\u001b[38;5;132;01m{\u001b[39;00mx\u001b[38;5;241m.\u001b[39mshape\u001b[38;5;132;01m}\u001b[39;00m\u001b[38;5;124m and \u001b[39m\u001b[38;5;132;01m{\u001b[39;00my\u001b[38;5;241m.\u001b[39mshape\u001b[38;5;132;01m}\u001b[39;00m\u001b[38;5;124m\"\u001b[39m)\n\u001b[1;32m    501\u001b[0m \u001b[38;5;28;01mif\u001b[39;00m x\u001b[38;5;241m.\u001b[39mndim \u001b[38;5;241m>\u001b[39m \u001b[38;5;241m2\u001b[39m \u001b[38;5;129;01mor\u001b[39;00m y\u001b[38;5;241m.\u001b[39mndim \u001b[38;5;241m>\u001b[39m \u001b[38;5;241m2\u001b[39m:\n\u001b[1;32m    502\u001b[0m     \u001b[38;5;28;01mraise\u001b[39;00m \u001b[38;5;167;01mValueError\u001b[39;00m(\u001b[38;5;124mf\u001b[39m\u001b[38;5;124m\"\u001b[39m\u001b[38;5;124mx and y can be no greater than 2D, but have \u001b[39m\u001b[38;5;124m\"\u001b[39m\n\u001b[1;32m    503\u001b[0m                      \u001b[38;5;124mf\u001b[39m\u001b[38;5;124m\"\u001b[39m\u001b[38;5;124mshapes \u001b[39m\u001b[38;5;132;01m{\u001b[39;00mx\u001b[38;5;241m.\u001b[39mshape\u001b[38;5;132;01m}\u001b[39;00m\u001b[38;5;124m and \u001b[39m\u001b[38;5;132;01m{\u001b[39;00my\u001b[38;5;241m.\u001b[39mshape\u001b[38;5;132;01m}\u001b[39;00m\u001b[38;5;124m\"\u001b[39m)\n",
      "\u001b[0;31mValueError\u001b[0m: x and y must have same first dimension, but have shapes (112,) and (0,)"
     ]
    },
    {
     "data": {
      "image/png": "[encoded data removed]",
      "text/plain": [
       "<Figure size 792x432 with 2 Axes>"
      ]
     },
     "metadata": {},
     "output_type": "display_data"
    }
   ],
   "source": [
    "with plt.style.context('ggplot'):\n",
    "    #plt.rcParams.update({'font.size': 12})    \n",
    "    #plt.rcParams[\"figure.figsize\"] = (7,5)\n",
    "    fig, (ax1, ax2) = plt.subplots(1, 2,figsize=(11, 6))\n",
    "\n",
    "    ax1.plot(time,derpsiplt,linewidth=0.5)\n",
    "    ax1.scatter(time,derpsiplt,s=0.5)\n",
    "    ax1.set_xlabel(\"Proper time $\\u03C4$\")\n",
    "    ax1.set_ylabel(\"$\\phi$\")\n",
    "    #ax1.set_xlim([1.9,2.09])\n",
    "    \n",
    "    ax2.plot(adapt_time,derpsiplt[0:len(adapt_time)],linewidth=0.5)\n",
    "    ax2.set_xlabel(\"Similarity time T\")#Adapted time T\")\n",
    "    ax2.set_ylabel(\"$\\phi$\")\n",
    "    \n",
    "    \n",
    "    \n",
    "    plt.show()"
   ]
  },
  {
   "cell_type": "markdown",
   "id": "f47dc6d6",
   "metadata": {},
   "source": [
    "News function"
   ]
  },
  {
   "cell_type": "code",
   "execution_count": 58,
   "id": "a0eaac7a",
   "metadata": {},
   "outputs": [
    {
     "data": {
      "image/png": "[encoded data removed]",
      "text/plain": [
       "<Figure size 792x432 with 2 Axes>"
      ]
     },
     "metadata": {},
     "output_type": "display_data"
    }
   ],
   "source": [
    "psiplt=[]\n",
    "for i in range(0, len(psi)):\n",
    "    psiplt.append(psi[i][len(psi[0])-4]) #saving derpsi at scri for each timestep\n",
    "\n",
    "news=[]\n",
    "for i in range(0, len(psiplt)-1):\n",
    "    new=(psiplt[i+1]-psiplt[i])/(time[i+1]-time[i])\n",
    "    news.append(new)\n",
    "\n",
    "    \n",
    "with plt.style.context('ggplot'):\n",
    "    #plt.rcParams.update({'font.size': 12})    \n",
    "    #plt.rcParams[\"figure.figsize\"] = (7,5)\n",
    "    fig, (ax1, ax2) = plt.subplots(1, 2,figsize=(11, 6))\n",
    "\n",
    "    ax1.scatter(time[0:len(news)],news,s=0.5)\n",
    "    ax1.set_xlabel(\"Bondi time $u_B$\")#$\\u03C4$\")\n",
    "    ax1.set_ylabel(\"News\")\n",
    "    \n",
    "    ax2.plot(adapt_time[0:len(adapt_time)],news[0:len(adapt_time)],linewidth=0.5)\n",
    "    ax2.set_xlabel(\"Similarity time T\")#Adapted time T\")\n",
    "    ax2.set_ylabel(\"News\")\n",
    "    \n",
    "    \n",
    "    \n",
    "    plt.show()"
   ]
  },
  {
   "cell_type": "markdown",
   "id": "33fb26c6",
   "metadata": {},
   "source": [
    "$\\beta$ at scri+"
   ]
  },
  {
   "cell_type": "code",
   "execution_count": 67,
   "id": "62345099",
   "metadata": {},
   "outputs": [
    {
     "data": {
      "image/png": "[encoded data removed]",
      "text/plain": [
       "<Figure size 504x360 with 1 Axes>"
      ]
     },
     "metadata": {},
     "output_type": "display_data"
    }
   ],
   "source": [
    "betaplt=[]\n",
    "for i in range(0, len(derpsi)):\n",
    "    betaplt.append(beta[i][len(beta[0])-4]) #saving derpsi at the origin for each timestep\n",
    "\n",
    "with plt.style.context('ggplot'):\n",
    "    \n",
    "    #plt.rcParams.update({'font.size': 12})    \n",
    "    #plt.rcParams[\"figure.figsize\"] = (7,5)  \n",
    "    plt.xlabel(\"$\\u03C4$\")#T\n",
    "    plt.ylabel(r'$ \\beta $')\n",
    "    plt.plot(time,betaplt,linewidth=0.5)\n",
    "    plt.scatter(time,betaplt,s=0.5)\n",
    "    #plt.plot(adapt_time,mplt[0:len(adapt_time)],linewidth=0.5)\n",
    "    #plt.xlim([1,1.05])\n",
    "    plt.show()"
   ]
  },
  {
   "cell_type": "markdown",
   "id": "098664c7",
   "metadata": {},
   "source": [
    "Redshift factor"
   ]
  },
  {
   "cell_type": "code",
   "execution_count": 69,
   "id": "527f1635",
   "metadata": {},
   "outputs": [
    {
     "data": {
      "image/png": "[encoded data removed]",
      "text/plain": [
       "<Figure size 792x432 with 2 Axes>"
      ]
     },
     "metadata": {},
     "output_type": "display_data"
    }
   ],
   "source": [
    "redshift=[]\n",
    "for i in range(0, len(beta)):\n",
    "    redshift.append(math.exp(2*beta[i][len(beta[0])-4])-1) #saving derpsi at the origin for each timestep\n",
    "\n",
    "    \n",
    "with plt.style.context('ggplot'):\n",
    "    #plt.rcParams.update({'font.size': 12})    \n",
    "    #plt.rcParams[\"figure.figsize\"] = (7,5)\n",
    "    fig, (ax1, ax2) = plt.subplots(1, 2,figsize=(11, 6))\n",
    "\n",
    "    ax1.plot(time,redshift,linewidth=0.5)\n",
    "    ax1.scatter(time,redshift,s=0.5)\n",
    "    ax1.set_xlabel(\"$\\u03C4$\")\n",
    "    ax1.set_ylabel(\"Redshift factor\")\n",
    "    \n",
    "    ax2.plot(adapt_time[0:len(adapt_time)],redshift[0:len(adapt_time)],linewidth=0.5)\n",
    "    ax2.set_xlabel(\"T\")\n",
    "    ax2.set_ylabel(\"Redshift factor\")\n",
    "    \n",
    "    \n",
    "    \n",
    "    plt.show()"
   ]
  },
  {
   "cell_type": "markdown",
   "id": "2402cba8",
   "metadata": {},
   "source": [
    "Bondi mass at scri+"
   ]
  },
  {
   "cell_type": "code",
   "execution_count": 11,
   "id": "80ab344a",
   "metadata": {},
   "outputs": [
    {
     "ename": "ValueError",
     "evalue": "x and y must be the same size",
     "output_type": "error",
     "traceback": [
      "\u001b[0;31m---------------------------------------------------------------------------\u001b[0m",
      "\u001b[0;31mValueError\u001b[0m                                Traceback (most recent call last)",
      "Input \u001b[0;32mIn [11]\u001b[0m, in \u001b[0;36m<cell line: 5>\u001b[0;34m()\u001b[0m\n\u001b[1;32m      9\u001b[0m fig, (ax1, ax2) \u001b[38;5;241m=\u001b[39m plt\u001b[38;5;241m.\u001b[39msubplots(\u001b[38;5;241m1\u001b[39m, \u001b[38;5;241m2\u001b[39m,figsize\u001b[38;5;241m=\u001b[39m(\u001b[38;5;241m11\u001b[39m, \u001b[38;5;241m6\u001b[39m))\n\u001b[1;32m     14\u001b[0m \u001b[38;5;66;03m# time\u001b[39;00m\n\u001b[0;32m---> 15\u001b[0m \u001b[43max1\u001b[49m\u001b[38;5;241;43m.\u001b[39;49m\u001b[43mscatter\u001b[49m\u001b[43m(\u001b[49m\u001b[43mtime\u001b[49m\u001b[43m,\u001b[49m\u001b[43mmplt\u001b[49m\u001b[43m,\u001b[49m\u001b[43ms\u001b[49m\u001b[38;5;241;43m=\u001b[39;49m\u001b[38;5;241;43m0.5\u001b[39;49m\u001b[43m)\u001b[49m\n\u001b[1;32m     16\u001b[0m ax1\u001b[38;5;241m.\u001b[39mplot(time,mplt,linewidth\u001b[38;5;241m=\u001b[39m\u001b[38;5;241m0.5\u001b[39m)\n\u001b[1;32m     17\u001b[0m ax1\u001b[38;5;241m.\u001b[39mset_ylabel(\u001b[38;5;124m\"\u001b[39m\u001b[38;5;124mBondi mass\u001b[39m\u001b[38;5;124m\"\u001b[39m)\n",
      "File \u001b[0;32m~/anaconda3/lib/python3.9/site-packages/matplotlib/__init__.py:1465\u001b[0m, in \u001b[0;36m_preprocess_data.<locals>.inner\u001b[0;34m(ax, data, *args, **kwargs)\u001b[0m\n\u001b[1;32m   1462\u001b[0m \u001b[38;5;129m@functools\u001b[39m\u001b[38;5;241m.\u001b[39mwraps(func)\n\u001b[1;32m   1463\u001b[0m \u001b[38;5;28;01mdef\u001b[39;00m \u001b[38;5;21minner\u001b[39m(ax, \u001b[38;5;241m*\u001b[39margs, data\u001b[38;5;241m=\u001b[39m\u001b[38;5;28;01mNone\u001b[39;00m, \u001b[38;5;241m*\u001b[39m\u001b[38;5;241m*\u001b[39mkwargs):\n\u001b[1;32m   1464\u001b[0m     \u001b[38;5;28;01mif\u001b[39;00m data \u001b[38;5;129;01mis\u001b[39;00m \u001b[38;5;28;01mNone\u001b[39;00m:\n\u001b[0;32m-> 1465\u001b[0m         \u001b[38;5;28;01mreturn\u001b[39;00m \u001b[43mfunc\u001b[49m\u001b[43m(\u001b[49m\u001b[43max\u001b[49m\u001b[43m,\u001b[49m\u001b[43m \u001b[49m\u001b[38;5;241;43m*\u001b[39;49m\u001b[38;5;28;43mmap\u001b[39;49m\u001b[43m(\u001b[49m\u001b[43msanitize_sequence\u001b[49m\u001b[43m,\u001b[49m\u001b[43m \u001b[49m\u001b[43margs\u001b[49m\u001b[43m)\u001b[49m\u001b[43m,\u001b[49m\u001b[43m \u001b[49m\u001b[38;5;241;43m*\u001b[39;49m\u001b[38;5;241;43m*\u001b[39;49m\u001b[43mkwargs\u001b[49m\u001b[43m)\u001b[49m\n\u001b[1;32m   1467\u001b[0m     bound \u001b[38;5;241m=\u001b[39m new_sig\u001b[38;5;241m.\u001b[39mbind(ax, \u001b[38;5;241m*\u001b[39margs, \u001b[38;5;241m*\u001b[39m\u001b[38;5;241m*\u001b[39mkwargs)\n\u001b[1;32m   1468\u001b[0m     auto_label \u001b[38;5;241m=\u001b[39m (bound\u001b[38;5;241m.\u001b[39marguments\u001b[38;5;241m.\u001b[39mget(label_namer)\n\u001b[1;32m   1469\u001b[0m                   \u001b[38;5;129;01mor\u001b[39;00m bound\u001b[38;5;241m.\u001b[39mkwargs\u001b[38;5;241m.\u001b[39mget(label_namer))\n",
      "File \u001b[0;32m~/anaconda3/lib/python3.9/site-packages/matplotlib/axes/_axes.py:4652\u001b[0m, in \u001b[0;36mAxes.scatter\u001b[0;34m(self, x, y, s, c, marker, cmap, norm, vmin, vmax, alpha, linewidths, edgecolors, plotnonfinite, **kwargs)\u001b[0m\n\u001b[1;32m   4650\u001b[0m y \u001b[38;5;241m=\u001b[39m np\u001b[38;5;241m.\u001b[39mma\u001b[38;5;241m.\u001b[39mravel(y)\n\u001b[1;32m   4651\u001b[0m \u001b[38;5;28;01mif\u001b[39;00m x\u001b[38;5;241m.\u001b[39msize \u001b[38;5;241m!=\u001b[39m y\u001b[38;5;241m.\u001b[39msize:\n\u001b[0;32m-> 4652\u001b[0m     \u001b[38;5;28;01mraise\u001b[39;00m \u001b[38;5;167;01mValueError\u001b[39;00m(\u001b[38;5;124m\"\u001b[39m\u001b[38;5;124mx and y must be the same size\u001b[39m\u001b[38;5;124m\"\u001b[39m)\n\u001b[1;32m   4654\u001b[0m \u001b[38;5;28;01mif\u001b[39;00m s \u001b[38;5;129;01mis\u001b[39;00m \u001b[38;5;28;01mNone\u001b[39;00m:\n\u001b[1;32m   4655\u001b[0m     s \u001b[38;5;241m=\u001b[39m (\u001b[38;5;241m20\u001b[39m \u001b[38;5;28;01mif\u001b[39;00m mpl\u001b[38;5;241m.\u001b[39mrcParams[\u001b[38;5;124m'\u001b[39m\u001b[38;5;124m_internal.classic_mode\u001b[39m\u001b[38;5;124m'\u001b[39m] \u001b[38;5;28;01melse\u001b[39;00m\n\u001b[1;32m   4656\u001b[0m          mpl\u001b[38;5;241m.\u001b[39mrcParams[\u001b[38;5;124m'\u001b[39m\u001b[38;5;124mlines.markersize\u001b[39m\u001b[38;5;124m'\u001b[39m] \u001b[38;5;241m*\u001b[39m\u001b[38;5;241m*\u001b[39m \u001b[38;5;241m2.0\u001b[39m)\n",
      "\u001b[0;31mValueError\u001b[0m: x and y must be the same size"
     ]
    },
    {
     "data": {
      "image/png": "[encoded data removed]",
      "text/plain": [
       "<Figure size 792x432 with 2 Axes>"
      ]
     },
     "metadata": {},
     "output_type": "display_data"
    }
   ],
   "source": [
    "mplt=[]\n",
    "for i in range(0, len(derpsi)):\n",
    "    mplt.append(m[i][len(m[0])-4]) #saving derpsi at the origin for each timestep\n",
    "\n",
    "with plt.style.context('ggplot'):\n",
    "    \n",
    "    #plt.rcParams.update({'font.size': 12})    \n",
    "    #plt.rcParams[\"figure.figsize\"] = (7,5)\n",
    "    fig, (ax1, ax2) = plt.subplots(1, 2,figsize=(11, 6))\n",
    "    \n",
    "    \n",
    "    \n",
    "    \n",
    "    # time\n",
    "    ax1.scatter(time,mplt,s=0.5)\n",
    "    ax1.plot(time,mplt,linewidth=0.5)\n",
    "    ax1.set_ylabel(\"Bondi mass\")\n",
    "    #ax1.set_xlim([.8,1.04])\n",
    "    #ax1.set_ylim([-0.001,0.002])\n",
    "    ax1.set_yscale('log')\n",
    "    ax1.set_xlabel(\"$\\u03C4$\")#T\n",
    "    \n",
    "    # adapt time\n",
    "    \n",
    "    ax2.plot(adapt_time,np.array(mplt[0:len(adapt_time)]),linewidth=0.5)\n",
    "    ax2.set_yscale('log')\n",
    "    #ax2.set_xlim([2.55,2.6])\n",
    "    #ax2.set_ylim([-0.001,0.001])\n",
    "    ax2.set_ylabel(\"Bondi mass\")\n",
    "    ax2.set_xlabel(\"T\")\n",
    "    \n",
    "    plt.show()"
   ]
  },
  {
   "cell_type": "code",
   "execution_count": null,
   "id": "828afd72",
   "metadata": {},
   "outputs": [],
   "source": []
  },
  {
   "cell_type": "code",
   "execution_count": 84,
   "id": "496e4394",
   "metadata": {},
   "outputs": [
    {
     "data": {
      "image/png": "[encoded data removed]",
      "text/plain": [
       "<Figure size 432x288 with 1 Axes>"
      ]
     },
     "metadata": {
      "needs_background": "light"
     },
     "output_type": "display_data"
    }
   ],
   "source": [
    "plt.plot(adapt_time[10:len(adapt_time)-3],np.array(mplt[10:len(adapt_time)-3]))\n",
    "plt.yscale('log')"
   ]
  },
  {
   "cell_type": "code",
   "execution_count": null,
   "id": "7b6a6a9c",
   "metadata": {},
   "outputs": [],
   "source": []
  },
  {
   "cell_type": "code",
   "execution_count": 1,
   "id": "52c75ddc",
   "metadata": {},
   "outputs": [],
   "source": [
    "#import numpy as np\n",
    "\n",
    "#import matplotlib.pyplot as plt\n",
    "\n",
    "from scipy.optimize import curve_fit\n",
    "\n",
    "def func(x,a,b):\n",
    "    return a + b*x"
   ]
  },
  {
   "cell_type": "code",
   "execution_count": 3,
   "id": "a407331f",
   "metadata": {},
   "outputs": [
    {
     "ename": "NameError",
     "evalue": "name 'adapt_time' is not defined",
     "output_type": "error",
     "traceback": [
      "\u001b[0;31m---------------------------------------------------------------------------\u001b[0m",
      "\u001b[0;31mNameError\u001b[0m                                 Traceback (most recent call last)",
      "Input \u001b[0;32mIn [3]\u001b[0m, in \u001b[0;36m<cell line: 8>\u001b[0;34m()\u001b[0m\n\u001b[1;32m      5\u001b[0m \u001b[38;5;66;03m# fit\u001b[39;00m\n\u001b[1;32m      6\u001b[0m guess \u001b[38;5;241m=\u001b[39m [\u001b[38;5;241m0.1\u001b[39m,\u001b[38;5;241m-\u001b[39m\u001b[38;5;241m0.5\u001b[39m]\n\u001b[0;32m----> 8\u001b[0m pars, cov \u001b[38;5;241m=\u001b[39m curve_fit(f, \u001b[43madapt_time\u001b[49m[\u001b[38;5;241m10\u001b[39m:\u001b[38;5;28mlen\u001b[39m(adapt_time)\u001b[38;5;241m-\u001b[39m\u001b[38;5;241m3\u001b[39m],np\u001b[38;5;241m.\u001b[39marray(mplt[\u001b[38;5;241m10\u001b[39m:\u001b[38;5;28mlen\u001b[39m(adapt_time)\u001b[38;5;241m-\u001b[39m\u001b[38;5;241m3\u001b[39m]), p0\u001b[38;5;241m=\u001b[39mguess, maxfev\u001b[38;5;241m=\u001b[39m\u001b[38;5;241m5000\u001b[39m)\n\u001b[1;32m     10\u001b[0m pars\n",
      "\u001b[0;31mNameError\u001b[0m: name 'adapt_time' is not defined"
     ]
    }
   ],
   "source": [
    "import numpy as np\n",
    "f=np.vectorize(func)\n",
    "\n",
    "\n",
    "# fit\n",
    "guess = [0.1,-0.5]\n",
    "\n",
    "pars, cov = curve_fit(f, adapt_time[10:len(adapt_time)-3],np.array(mplt[10:len(adapt_time)-3]), p0=guess, maxfev=5000)\n",
    "\n",
    "pars\n",
    "\n",
    "#plt.plot(t[600:1400], f(t[600:1400],pars[0],pars[1],pars[2],pars[3]))\n",
    "#plt.scatter(t[600:1400],monitor_ratio[600:1400])\n",
    "#plt.show()"
   ]
  },
  {
   "cell_type": "code",
   "execution_count": null,
   "id": "9910857b",
   "metadata": {},
   "outputs": [],
   "source": []
  },
  {
   "cell_type": "markdown",
   "id": "6eb8ed0a",
   "metadata": {},
   "source": [
    "psi(tau)"
   ]
  },
  {
   "cell_type": "code",
   "execution_count": 30,
   "id": "417e5f7d",
   "metadata": {},
   "outputs": [
    {
     "data": {
      "image/png": "[encoded data removed]",
      "text/plain": [
       "<Figure size 720x720 with 1 Axes>"
      ]
     },
     "metadata": {},
     "output_type": "display_data"
    }
   ],
   "source": [
    "x = grid[0][3:len(grid[0])-3]\n",
    "y = t\n",
    "\n",
    "X, Y = np.meshgrid(x, y)\n",
    "\n",
    "Z = []\n",
    "\n",
    "for i in range(0,len(y)):\n",
    "    Z.append(psi[i][3:len(grid[0])-3])\n",
    "\n",
    "with plt.style.context('ggplot'):\n",
    "    \n",
    "    #plt.rcParams.update({'font.size': 12})    \n",
    "    #plt.rcParams[\"figure.figsize\"] = (10,10)  \n",
    "\n",
    "    fig = plt.figure()\n",
    "    ax = plt.axes(projection='3d')\n",
    "    ax.contour3D(X, Y, Z, 100, cmap='binary')\n",
    "    ax.set_xlabel('x')\n",
    "    ax.set_ylabel('t')\n",
    "    ax.set_zlabel('psi');"
   ]
  },
  {
   "cell_type": "code",
   "execution_count": null,
   "id": "45a4eb11",
   "metadata": {},
   "outputs": [],
   "source": []
  },
  {
   "cell_type": "code",
   "execution_count": null,
   "id": "2acb3058",
   "metadata": {},
   "outputs": [],
   "source": []
  },
  {
   "cell_type": "code",
   "execution_count": null,
   "id": "5fba515c",
   "metadata": {},
   "outputs": [],
   "source": []
  },
  {
   "cell_type": "code",
   "execution_count": null,
   "id": "9d524176",
   "metadata": {},
   "outputs": [],
   "source": []
  }
 ],
 "metadata": {
  "kernelspec": {
   "display_name": "Python 3 (ipykernel)",
   "language": "python",
   "name": "python3"
  },
  "language_info": {
   "codemirror_mode": {
    "name": "ipython",
    "version": 3
   },
   "file_extension": ".py",
   "mimetype": "text/x-python",
   "name": "python",
   "nbconvert_exporter": "python",
   "pygments_lexer": "ipython3",
   "version": "3.9.12"
  }
 },
 "nbformat": 4,
 "nbformat_minor": 5
}
