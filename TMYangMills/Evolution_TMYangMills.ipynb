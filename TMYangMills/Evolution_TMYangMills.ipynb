{
 "cells": [
  {
   "cell_type": "markdown",
   "id": "d88601a8",
   "metadata": {
    "papermill": {
     "duration": 0.010813,
     "end_time": "2023-03-28T18:06:09.878411",
     "exception": false,
     "start_time": "2023-03-28T18:06:09.867598",
     "status": "completed"
    },
    "tags": []
   },
   "source": [
    "# Evolution of Einstein's equations"
   ]
  },
  {
   "cell_type": "markdown",
   "id": "03c607c7",
   "metadata": {
    "papermill": {
     "duration": 0.006777,
     "end_time": "2023-03-28T18:06:09.893152",
     "exception": false,
     "start_time": "2023-03-28T18:06:09.886375",
     "status": "completed"
    },
    "tags": []
   },
   "source": [
    "# Initial data , setting length of the domain and discretization\n"
   ]
  },
  {
   "cell_type": "markdown",
   "id": "43aebde7",
   "metadata": {
    "execution": {
     "iopub.execute_input": "2023-03-28T19:06:10.907000Z",
     "iopub.status.busy": "2023-03-28T19:06:09.907000Z",
     "iopub.status.idle": "2023-03-28T19:06:12.147000Z",
     "shell.execute_reply": "2023-03-28T19:06:12.110000Z"
    },
    "papermill": {
     "duration": 2.251282,
     "end_time": "2023-03-28T18:06:12.151193",
     "exception": false,
     "start_time": "2023-03-28T18:06:09.899911",
     "status": "completed"
    },
    "tags": [
     "injected-parameters"
    ]
   },
   "source": [
    "# Parameters"
   ]
  },
  {
   "cell_type": "code",
   "execution_count": 572,
   "id": "a28c43b6",
   "metadata": {},
   "outputs": [
    {
     "data": {
      "text/plain": [
       "1"
      ]
     },
     "execution_count": 572,
     "metadata": {},
     "output_type": "execute_result"
    }
   ],
   "source": [
    "m=3\n",
    "p = 0.1#0.4\n",
    "q = 1#1.0#0.1#0.1#0.01#0.9#0.01#0.5 #Pure SF is q=0\n",
    "run = 1"
   ]
  },
  {
   "cell_type": "markdown",
   "id": "b3b8c463",
   "metadata": {},
   "source": [
    "Choose your grid"
   ]
  },
  {
   "cell_type": "code",
   "execution_count": 573,
   "id": "809ea402",
   "metadata": {},
   "outputs": [
    {
     "data": {
      "text/plain": [
       "false"
      ]
     },
     "execution_count": 573,
     "metadata": {},
     "output_type": "execute_result"
    }
   ],
   "source": [
    "global compactified=false\n",
    "global loggrid=false\n",
    "global bisection=false\n",
    "global zeroformat=false\n",
    "global twod=true\n",
    "\n",
    "global source=false"
   ]
  },
  {
   "cell_type": "code",
   "execution_count": 574,
   "id": "73b14643",
   "metadata": {},
   "outputs": [
    {
     "data": {
      "text/plain": [
       "compactify (generic function with 1 method)"
      ]
     },
     "execution_count": 574,
     "metadata": {},
     "output_type": "execute_result"
    }
   ],
   "source": [
    "function compactify(r)\n",
    "    x=r/(1+r)\n",
    "    return x\n",
    "end"
   ]
  },
  {
   "cell_type": "code",
   "execution_count": 575,
   "id": "80a113e0",
   "metadata": {},
   "outputs": [],
   "source": [
    "using Quadmath, Printf\n",
    "\n",
    "res=m;\n",
    "N=2.0^m*200.0/2.0\n",
    "\n",
    "if compactified==true\n",
    "    Xf=1.0\n",
    "else\n",
    "    Xf=3.0\n",
    "end\n",
    "\n",
    "dx=Xf/N\n",
    "if loggrid==false\n",
    "    dt=0.5*round(dx,digits=10)\n",
    "else\n",
    "    dt=0.1*round(dx,digits=10)\n",
    "end\n",
    "Nt=N\n",
    "Tf=Nt*dt;"
   ]
  },
  {
   "cell_type": "code",
   "execution_count": 576,
   "id": "4f752d54",
   "metadata": {
    "execution": {
     "iopub.execute_input": "2023-03-28T19:06:12.356000Z",
     "iopub.status.busy": "2023-03-28T19:06:12.356000Z",
     "iopub.status.idle": "2023-03-28T19:06:12.364000Z",
     "shell.execute_reply": "2023-03-28T19:06:12.364000Z"
    },
    "papermill": {
     "duration": 0.020815,
     "end_time": "2023-03-28T18:06:12.368761",
     "exception": false,
     "start_time": "2023-03-28T18:06:12.347946",
     "status": "completed"
    },
    "tags": []
   },
   "outputs": [
    {
     "name": "stdout",
     "output_type": "stream",
     "text": [
      "800.0"
     ]
    }
   ],
   "source": [
    "print(N)"
   ]
  },
  {
   "cell_type": "code",
   "execution_count": 577,
   "id": "78fb78a5",
   "metadata": {
    "execution": {
     "iopub.execute_input": "2023-03-28T19:06:12.419000Z",
     "iopub.status.busy": "2023-03-28T19:06:12.419000Z",
     "iopub.status.idle": "2023-03-28T19:06:13.308000Z",
     "shell.execute_reply": "2023-03-28T19:06:13.308000Z"
    },
    "papermill": {
     "duration": 0.90283,
     "end_time": "2023-03-28T18:06:13.314381",
     "exception": false,
     "start_time": "2023-03-28T18:06:12.411551",
     "status": "completed"
    },
    "tags": []
   },
   "outputs": [
    {
     "data": {
      "text/plain": [
       "\"/home/rita13santos/Desktop/MSc Thesis/Git/TMYangMills/DATA\""
      ]
     },
     "execution_count": 577,
     "metadata": {},
     "output_type": "execute_result"
    }
   ],
   "source": [
    "global dir = \"/home/rita13santos/Desktop/MSc Thesis/Git/TMYangMills/DATA\""
   ]
  },
  {
   "cell_type": "markdown",
   "id": "e2dd4335",
   "metadata": {
    "papermill": {
     "duration": 0.007006,
     "end_time": "2023-03-28T18:06:13.351329",
     "exception": false,
     "start_time": "2023-03-28T18:06:13.344323",
     "status": "completed"
    },
    "tags": []
   },
   "source": [
    "# Grid"
   ]
  },
  {
   "cell_type": "code",
   "execution_count": 578,
   "id": "bc5288f8",
   "metadata": {
    "execution": {
     "iopub.execute_input": "2023-03-28T19:06:13.636000Z",
     "iopub.status.busy": "2023-03-28T19:06:13.636000Z",
     "iopub.status.idle": "2023-03-28T19:06:14.762000Z",
     "shell.execute_reply": "2023-03-28T19:06:14.762000Z"
    },
    "papermill": {
     "duration": 1.137394,
     "end_time": "2023-03-28T18:06:14.765909",
     "exception": false,
     "start_time": "2023-03-28T18:06:13.628515",
     "status": "completed"
    },
    "tags": []
   },
   "outputs": [],
   "source": [
    "using Printf\n",
    "include(\"./TMYangMills.jl\");"
   ]
  },
  {
   "cell_type": "code",
   "execution_count": 579,
   "id": "de24fea3",
   "metadata": {
    "execution": {
     "iopub.execute_input": "2023-03-28T19:06:13.366000Z",
     "iopub.status.busy": "2023-03-28T19:06:13.366000Z",
     "iopub.status.idle": "2023-03-28T19:06:13.571000Z",
     "shell.execute_reply": "2023-03-28T19:06:13.571000Z"
    },
    "papermill": {
     "duration": 0.216104,
     "end_time": "2023-03-28T18:06:13.574666",
     "exception": false,
     "start_time": "2023-03-28T18:06:13.358562",
     "status": "completed"
    },
    "tags": []
   },
   "outputs": [
    {
     "name": "stdout",
     "output_type": "stream",
     "text": [
      "step size is  0.00375\n",
      "the time step is 0.001875\n"
     ]
    }
   ],
   "source": [
    "ori=0.0#Float128(0.0)#0.0;\n",
    "initX1 = nothing\n",
    "N=int(N)\n",
    "initX1=range(ori, stop=Xf, step=dx);\n",
    "initX = range(round(ori-3.0*dx,digits=10), stop=Xf+3.0*dx, step=dx)\n",
    "\n",
    "L=length(initX);\n",
    "println(\"step size is  \", dx)\n",
    "println(\"the time step is \", dt)\n",
    "\n",
    "if loggrid==true\n",
    "    global originalX=initX\n",
    "    xtilde=gridfunc(initX1)\n",
    "    initX1=xtilde\n",
    "    initX=collect(initX)\n",
    "    initX[4:L-3]=xtilde\n",
    "end;"
   ]
  },
  {
   "cell_type": "markdown",
   "id": "80ab1480",
   "metadata": {
    "papermill": {
     "duration": 0.007525,
     "end_time": "2023-03-28T18:06:14.783937",
     "exception": false,
     "start_time": "2023-03-28T18:06:14.776412",
     "status": "completed"
    },
    "tags": []
   },
   "source": [
    "# Initial data of m β Ψ and Ψ,x"
   ]
  },
  {
   "cell_type": "code",
   "execution_count": 580,
   "id": "d0af654c",
   "metadata": {
    "execution": {
     "iopub.execute_input": "2023-03-28T19:06:14.799000Z",
     "iopub.status.busy": "2023-03-28T19:06:14.799000Z",
     "iopub.status.idle": "2023-03-28T19:06:22.269000Z",
     "shell.execute_reply": "2023-03-28T19:06:22.269000Z"
    },
    "papermill": {
     "duration": 7.48258,
     "end_time": "2023-03-28T18:06:22.273970",
     "exception": false,
     "start_time": "2023-03-28T18:06:14.791390",
     "status": "completed"
    },
    "tags": []
   },
   "outputs": [],
   "source": [
    "using Dierckx\n",
    "\n",
    "\n",
    "####\n",
    "\n",
    "initm=zeros(L)\n",
    "initbeta=zeros(L)\n",
    "initpsi=zeros(L)\n",
    "initpi=zeros(L)\n",
    "initderxchi=zeros(L)\n",
    "initderpsi=zeros(L)\n",
    "initxxxchi=zeros(L)\n",
    "\n",
    "#state array is m beta psi xxxchi,u xxxchi,rORx psi,r xxxchi r\n",
    "state_array=[initm initbeta initpsi initpi initderxchi initderpsi initxxxchi initX];\n",
    "#attention:  in noncompactified code derxchi is (xchi),r. in compactified code derxchi is (xchi),x\n",
    "#xxchi,u=pi\n",
    "\n",
    "#PSI,R\n",
    "A=0.075*p*(1−q)\n",
    "r0=0.75\n",
    "sigma=0.25\n",
    "\n",
    "initderpsi[4:L-3] = init_derpsi(initX1,r0,sigma,A)\n",
    "\n",
    "state_array[:,6] = initderpsi\n",
    "state_array=ghost(state_array)\n",
    "\n",
    "#XCHI\n",
    "A=0.25*p*q\n",
    "r0=0.3\n",
    "sigma=0.1\n",
    "\n",
    "initxxxchi[4:L-3] = init_xxxchi(initX1,r0,sigma,A)\n",
    "\n",
    "state_array[:,7] = initxxxchi\n",
    "\n",
    "####\n",
    "#PSI FROM PSI,R, CHI,R FROM CHI\n",
    "state_array[:,7]=parity(state_array[:,7])\n",
    "state_array[4:L-3,5]=Der_array(state_array,7,initX)[4:L-3]#derivative(xchi_func, initX1; nu=1)#Der_array(state_array,7,initX)[4:L-3]\n",
    "state_array[L-3,5]=state_array[L-4,5]\n",
    "\n",
    "state_array[:,5]=secondparity(state_array[:,5])\n",
    "aux=Der_array(state_array,5,initX)\n",
    "aux[4]=0\n",
    "aux[L-3]=aux[L-4]\n",
    "\n",
    "# update interpolation of psi,x\n",
    "derxxxchi_func = Spline1D(initX[4:L-3], state_array[4:L-3,5],  k=4);\n",
    "derpsi_func = Spline1D(initX[4:L-3], state_array[4:L-3,6],  k=4);\n",
    "xxxchi_func = Spline1D(initX[4:L-3], state_array[4:L-3,7],  k=4);\n",
    "derrxxxchi_func = Spline1D(initX[4:L-3], aux[4:L-3], k=4);\n",
    "\n",
    "funcs=[derxxxchi_func derpsi_func xxxchi_func derrxxxchi_func];"
   ]
  },
  {
   "cell_type": "code",
   "execution_count": null,
   "id": "2097da7b",
   "metadata": {},
   "outputs": [],
   "source": []
  },
  {
   "cell_type": "code",
   "execution_count": 581,
   "id": "78cfbd6e",
   "metadata": {},
   "outputs": [
    {
     "data": {
      "text/plain": [
       "801×4 Matrix{Float64}:\n",
       " 0.0  0.0  0.0   0.0\n",
       " 0.0  0.0  0.0   5.24667e-11\n",
       " 0.0  0.0  0.0   3.17375e-10\n",
       " 0.0  0.0  0.0   9.43585e-10\n",
       " 0.0  0.0  0.0   2.17999e-9\n",
       " 0.0  0.0  0.0   4.40078e-9\n",
       " 0.0  0.0  0.0   8.13495e-9\n",
       " 0.0  0.0  0.0   1.41052e-8\n",
       " 0.0  0.0  0.0   2.32765e-8\n",
       " 0.0  0.0  0.0   3.69143e-8\n",
       " 0.0  0.0  0.0   5.66534e-8\n",
       " 0.0  0.0  0.0   8.45776e-8\n",
       " 0.0  0.0  0.0   1.2331e-7\n",
       " ⋮              \n",
       " 0.0  0.0  0.0  -2.90538e-7\n",
       " 0.0  0.0  0.0  -2.9074e-7\n",
       " 0.0  0.0  0.0  -2.90942e-7\n",
       " 0.0  0.0  0.0  -2.91143e-7\n",
       " 0.0  0.0  0.0  -2.91345e-7\n",
       " 0.0  0.0  0.0  -2.91546e-7\n",
       " 0.0  0.0  0.0  -2.91748e-7\n",
       " 0.0  0.0  0.0  -2.91956e-7\n",
       " 0.0  0.0  0.0  -2.92071e-7\n",
       " 0.0  0.0  0.0  -2.92397e-7\n",
       " 0.0  0.0  0.0  -2.93225e-7\n",
       " 0.0  0.0  0.0  -2.9424e-7"
      ]
     },
     "execution_count": 581,
     "metadata": {},
     "output_type": "execute_result"
    }
   ],
   "source": [
    "y0=[0.0 0.0 0.0 0.0]\n",
    "\n",
    "if twod==true\n",
    "        state_array[4:L-3,1:4] = twod_n_rk4wrapper(RHS,y0,initX[4:L-3],0,funcs,state_array[:,:]);\n",
    "    else\n",
    "        state_array[4:L-3,1:4] = n_rk4wrapper(RHS,y0,initX[4:L-3],0,funcs,state_array[:,:]);\n",
    "end\n",
    "\n",
    "#state_array = ghost(state_array);"
   ]
  },
  {
   "cell_type": "code",
   "execution_count": 582,
   "id": "14e14e45",
   "metadata": {},
   "outputs": [
    {
     "data": {
      "image/svg+xml": [
       "<?xml version=\"1.0\" encoding=\"utf-8\"?>\n",
       "<svg xmlns=\"http://www.w3.org/2000/svg\" xmlns:xlink=\"http://www.w3.org/1999/xlink\" width=\"600\" height=\"400\" viewBox=\"0 0 2400 1600\">\n",
       "<defs>\n",
       "  <clipPath id=\"clip270\">\n",
       "    <rect x=\"0\" y=\"0\" width=\"2400\" height=\"1600\"/>\n",
       "  </clipPath>\n",
       "</defs>\n",
       "<path clip-path=\"url(#clip270)\" d=\"M0 1600 L2400 1600 L2400 0 L0 0  Z\" fill=\"#ffffff\" fill-rule=\"evenodd\" fill-opacity=\"1\"/>\n",
       "<defs>\n",
       "  <clipPath id=\"clip271\">\n",
       "    <rect x=\"480\" y=\"0\" width=\"1681\" height=\"1600\"/>\n",
       "  </clipPath>\n",
       "</defs>\n",
       "<path clip-path=\"url(#clip270)\" d=\"M253.033 1423.18 L2352.76 1423.18 L2352.76 123.472 L253.033 123.472  Z\" fill=\"#ffffff\" fill-rule=\"evenodd\" fill-opacity=\"1\"/>\n",
       "<defs>\n",
       "  <clipPath id=\"clip272\">\n",
       "    <rect x=\"253\" y=\"123\" width=\"2101\" height=\"1301\"/>\n",
       "  </clipPath>\n",
       "</defs>\n",
       "<polyline clip-path=\"url(#clip272)\" style=\"stroke:#000000; stroke-linecap:round; stroke-linejoin:round; stroke-width:2; stroke-opacity:0.1; fill:none\" points=\"253.033,1423.18 253.033,123.472 \"/>\n",
       "<polyline clip-path=\"url(#clip272)\" style=\"stroke:#000000; stroke-linecap:round; stroke-linejoin:round; stroke-width:2; stroke-opacity:0.1; fill:none\" points=\"672.978,1423.18 672.978,123.472 \"/>\n",
       "<polyline clip-path=\"url(#clip272)\" style=\"stroke:#000000; stroke-linecap:round; stroke-linejoin:round; stroke-width:2; stroke-opacity:0.1; fill:none\" points=\"1092.92,1423.18 1092.92,123.472 \"/>\n",
       "<polyline clip-path=\"url(#clip272)\" style=\"stroke:#000000; stroke-linecap:round; stroke-linejoin:round; stroke-width:2; stroke-opacity:0.1; fill:none\" points=\"1512.87,1423.18 1512.87,123.472 \"/>\n",
       "<polyline clip-path=\"url(#clip272)\" style=\"stroke:#000000; stroke-linecap:round; stroke-linejoin:round; stroke-width:2; stroke-opacity:0.1; fill:none\" points=\"1932.81,1423.18 1932.81,123.472 \"/>\n",
       "<polyline clip-path=\"url(#clip272)\" style=\"stroke:#000000; stroke-linecap:round; stroke-linejoin:round; stroke-width:2; stroke-opacity:0.1; fill:none\" points=\"2352.76,1423.18 2352.76,123.472 \"/>\n",
       "<polyline clip-path=\"url(#clip270)\" style=\"stroke:#000000; stroke-linecap:round; stroke-linejoin:round; stroke-width:4; stroke-opacity:1; fill:none\" points=\"253.033,1423.18 2352.76,1423.18 \"/>\n",
       "<polyline clip-path=\"url(#clip270)\" style=\"stroke:#000000; stroke-linecap:round; stroke-linejoin:round; stroke-width:4; stroke-opacity:1; fill:none\" points=\"253.033,1423.18 253.033,1404.28 \"/>\n",
       "<polyline clip-path=\"url(#clip270)\" style=\"stroke:#000000; stroke-linecap:round; stroke-linejoin:round; stroke-width:4; stroke-opacity:1; fill:none\" points=\"672.978,1423.18 672.978,1404.28 \"/>\n",
       "<polyline clip-path=\"url(#clip270)\" style=\"stroke:#000000; stroke-linecap:round; stroke-linejoin:round; stroke-width:4; stroke-opacity:1; fill:none\" points=\"1092.92,1423.18 1092.92,1404.28 \"/>\n",
       "<polyline clip-path=\"url(#clip270)\" style=\"stroke:#000000; stroke-linecap:round; stroke-linejoin:round; stroke-width:4; stroke-opacity:1; fill:none\" points=\"1512.87,1423.18 1512.87,1404.28 \"/>\n",
       "<polyline clip-path=\"url(#clip270)\" style=\"stroke:#000000; stroke-linecap:round; stroke-linejoin:round; stroke-width:4; stroke-opacity:1; fill:none\" points=\"1932.81,1423.18 1932.81,1404.28 \"/>\n",
       "<polyline clip-path=\"url(#clip270)\" style=\"stroke:#000000; stroke-linecap:round; stroke-linejoin:round; stroke-width:4; stroke-opacity:1; fill:none\" points=\"2352.76,1423.18 2352.76,1404.28 \"/>\n",
       "<path clip-path=\"url(#clip270)\" d=\"M230.417 1454.1 Q226.806 1454.1 224.977 1457.66 Q223.172 1461.2 223.172 1468.33 Q223.172 1475.44 224.977 1479.01 Q226.806 1482.55 230.417 1482.55 Q234.052 1482.55 235.857 1479.01 Q237.686 1475.44 237.686 1468.33 Q237.686 1461.2 235.857 1457.66 Q234.052 1454.1 230.417 1454.1 M230.417 1450.39 Q236.227 1450.39 239.283 1455 Q242.362 1459.58 242.362 1468.33 Q242.362 1477.06 239.283 1481.67 Q236.227 1486.25 230.417 1486.25 Q224.607 1486.25 221.528 1481.67 Q218.473 1477.06 218.473 1468.33 Q218.473 1459.58 221.528 1455 Q224.607 1450.39 230.417 1450.39 Z\" fill=\"#000000\" fill-rule=\"evenodd\" fill-opacity=\"1\" /><path clip-path=\"url(#clip270)\" d=\"M250.579 1479.7 L255.463 1479.7 L255.463 1485.58 L250.579 1485.58 L250.579 1479.7 Z\" fill=\"#000000\" fill-rule=\"evenodd\" fill-opacity=\"1\" /><path clip-path=\"url(#clip270)\" d=\"M275.649 1454.1 Q272.037 1454.1 270.209 1457.66 Q268.403 1461.2 268.403 1468.33 Q268.403 1475.44 270.209 1479.01 Q272.037 1482.55 275.649 1482.55 Q279.283 1482.55 281.088 1479.01 Q282.917 1475.44 282.917 1468.33 Q282.917 1461.2 281.088 1457.66 Q279.283 1454.1 275.649 1454.1 M275.649 1450.39 Q281.459 1450.39 284.514 1455 Q287.593 1459.58 287.593 1468.33 Q287.593 1477.06 284.514 1481.67 Q281.459 1486.25 275.649 1486.25 Q269.838 1486.25 266.76 1481.67 Q263.704 1477.06 263.704 1468.33 Q263.704 1459.58 266.76 1455 Q269.838 1450.39 275.649 1450.39 Z\" fill=\"#000000\" fill-rule=\"evenodd\" fill-opacity=\"1\" /><path clip-path=\"url(#clip270)\" d=\"M651.16 1454.1 Q647.549 1454.1 645.721 1457.66 Q643.915 1461.2 643.915 1468.33 Q643.915 1475.44 645.721 1479.01 Q647.549 1482.55 651.16 1482.55 Q654.795 1482.55 656.6 1479.01 Q658.429 1475.44 658.429 1468.33 Q658.429 1461.2 656.6 1457.66 Q654.795 1454.1 651.16 1454.1 M651.16 1450.39 Q656.971 1450.39 660.026 1455 Q663.105 1459.58 663.105 1468.33 Q663.105 1477.06 660.026 1481.67 Q656.971 1486.25 651.16 1486.25 Q645.35 1486.25 642.272 1481.67 Q639.216 1477.06 639.216 1468.33 Q639.216 1459.58 642.272 1455 Q645.35 1450.39 651.16 1450.39 Z\" fill=\"#000000\" fill-rule=\"evenodd\" fill-opacity=\"1\" /><path clip-path=\"url(#clip270)\" d=\"M671.322 1479.7 L676.207 1479.7 L676.207 1485.58 L671.322 1485.58 L671.322 1479.7 Z\" fill=\"#000000\" fill-rule=\"evenodd\" fill-opacity=\"1\" /><path clip-path=\"url(#clip270)\" d=\"M690.42 1481.64 L706.739 1481.64 L706.739 1485.58 L684.795 1485.58 L684.795 1481.64 Q687.457 1478.89 692.04 1474.26 Q696.646 1469.61 697.827 1468.27 Q700.072 1465.74 700.952 1464.01 Q701.855 1462.25 701.855 1460.56 Q701.855 1457.8 699.91 1456.07 Q697.989 1454.33 694.887 1454.33 Q692.688 1454.33 690.234 1455.09 Q687.804 1455.86 685.026 1457.41 L685.026 1452.69 Q687.85 1451.55 690.304 1450.97 Q692.757 1450.39 694.795 1450.39 Q700.165 1450.39 703.359 1453.08 Q706.554 1455.77 706.554 1460.26 Q706.554 1462.39 705.744 1464.31 Q704.956 1466.2 702.85 1468.8 Q702.271 1469.47 699.169 1472.69 Q696.068 1475.88 690.42 1481.64 Z\" fill=\"#000000\" fill-rule=\"evenodd\" fill-opacity=\"1\" /><path clip-path=\"url(#clip270)\" d=\"M1070.06 1454.1 Q1066.45 1454.1 1064.62 1457.66 Q1062.82 1461.2 1062.82 1468.33 Q1062.82 1475.44 1064.62 1479.01 Q1066.45 1482.55 1070.06 1482.55 Q1073.7 1482.55 1075.5 1479.01 Q1077.33 1475.44 1077.33 1468.33 Q1077.33 1461.2 1075.5 1457.66 Q1073.7 1454.1 1070.06 1454.1 M1070.06 1450.39 Q1075.87 1450.39 1078.93 1455 Q1082.01 1459.58 1082.01 1468.33 Q1082.01 1477.06 1078.93 1481.67 Q1075.87 1486.25 1070.06 1486.25 Q1064.25 1486.25 1061.17 1481.67 Q1058.12 1477.06 1058.12 1468.33 Q1058.12 1459.58 1061.17 1455 Q1064.25 1450.39 1070.06 1450.39 Z\" fill=\"#000000\" fill-rule=\"evenodd\" fill-opacity=\"1\" /><path clip-path=\"url(#clip270)\" d=\"M1090.23 1479.7 L1095.11 1479.7 L1095.11 1485.58 L1090.23 1485.58 L1090.23 1479.7 Z\" fill=\"#000000\" fill-rule=\"evenodd\" fill-opacity=\"1\" /><path clip-path=\"url(#clip270)\" d=\"M1118.14 1455.09 L1106.34 1473.54 L1118.14 1473.54 L1118.14 1455.09 M1116.92 1451.02 L1122.79 1451.02 L1122.79 1473.54 L1127.73 1473.54 L1127.73 1477.43 L1122.79 1477.43 L1122.79 1485.58 L1118.14 1485.58 L1118.14 1477.43 L1102.54 1477.43 L1102.54 1472.92 L1116.92 1451.02 Z\" fill=\"#000000\" fill-rule=\"evenodd\" fill-opacity=\"1\" /><path clip-path=\"url(#clip270)\" d=\"M1490.17 1454.1 Q1486.56 1454.1 1484.73 1457.66 Q1482.92 1461.2 1482.92 1468.33 Q1482.92 1475.44 1484.73 1479.01 Q1486.56 1482.55 1490.17 1482.55 Q1493.8 1482.55 1495.61 1479.01 Q1497.44 1475.44 1497.44 1468.33 Q1497.44 1461.2 1495.61 1457.66 Q1493.8 1454.1 1490.17 1454.1 M1490.17 1450.39 Q1495.98 1450.39 1499.04 1455 Q1502.11 1459.58 1502.11 1468.33 Q1502.11 1477.06 1499.04 1481.67 Q1495.98 1486.25 1490.17 1486.25 Q1484.36 1486.25 1481.28 1481.67 Q1478.23 1477.06 1478.23 1468.33 Q1478.23 1459.58 1481.28 1455 Q1484.36 1450.39 1490.17 1450.39 Z\" fill=\"#000000\" fill-rule=\"evenodd\" fill-opacity=\"1\" /><path clip-path=\"url(#clip270)\" d=\"M1510.33 1479.7 L1515.22 1479.7 L1515.22 1485.58 L1510.33 1485.58 L1510.33 1479.7 Z\" fill=\"#000000\" fill-rule=\"evenodd\" fill-opacity=\"1\" /><path clip-path=\"url(#clip270)\" d=\"M1535.98 1466.44 Q1532.83 1466.44 1530.98 1468.59 Q1529.15 1470.74 1529.15 1474.49 Q1529.15 1478.22 1530.98 1480.39 Q1532.83 1482.55 1535.98 1482.55 Q1539.13 1482.55 1540.96 1480.39 Q1542.81 1478.22 1542.81 1474.49 Q1542.81 1470.74 1540.96 1468.59 Q1539.13 1466.44 1535.98 1466.44 M1545.26 1451.78 L1545.26 1456.04 Q1543.5 1455.21 1541.7 1454.77 Q1539.92 1454.33 1538.16 1454.33 Q1533.53 1454.33 1531.07 1457.45 Q1528.64 1460.58 1528.29 1466.9 Q1529.66 1464.89 1531.72 1463.82 Q1533.78 1462.73 1536.26 1462.73 Q1541.47 1462.73 1544.48 1465.9 Q1547.51 1469.05 1547.51 1474.49 Q1547.51 1479.82 1544.36 1483.03 Q1541.21 1486.25 1535.98 1486.25 Q1529.98 1486.25 1526.81 1481.67 Q1523.64 1477.06 1523.64 1468.33 Q1523.64 1460.14 1527.53 1455.28 Q1531.42 1450.39 1537.97 1450.39 Q1539.73 1450.39 1541.51 1450.74 Q1543.32 1451.09 1545.26 1451.78 Z\" fill=\"#000000\" fill-rule=\"evenodd\" fill-opacity=\"1\" /><path clip-path=\"url(#clip270)\" d=\"M1910.24 1454.1 Q1906.63 1454.1 1904.8 1457.66 Q1903 1461.2 1903 1468.33 Q1903 1475.44 1904.8 1479.01 Q1906.63 1482.55 1910.24 1482.55 Q1913.88 1482.55 1915.68 1479.01 Q1917.51 1475.44 1917.51 1468.33 Q1917.51 1461.2 1915.68 1457.66 Q1913.88 1454.1 1910.24 1454.1 M1910.24 1450.39 Q1916.05 1450.39 1919.11 1455 Q1922.19 1459.58 1922.19 1468.33 Q1922.19 1477.06 1919.11 1481.67 Q1916.05 1486.25 1910.24 1486.25 Q1904.43 1486.25 1901.35 1481.67 Q1898.3 1477.06 1898.3 1468.33 Q1898.3 1459.58 1901.35 1455 Q1904.43 1450.39 1910.24 1450.39 Z\" fill=\"#000000\" fill-rule=\"evenodd\" fill-opacity=\"1\" /><path clip-path=\"url(#clip270)\" d=\"M1930.4 1479.7 L1935.29 1479.7 L1935.29 1485.58 L1930.4 1485.58 L1930.4 1479.7 Z\" fill=\"#000000\" fill-rule=\"evenodd\" fill-opacity=\"1\" /><path clip-path=\"url(#clip270)\" d=\"M1955.47 1469.17 Q1952.14 1469.17 1950.22 1470.95 Q1948.32 1472.73 1948.32 1475.86 Q1948.32 1478.98 1950.22 1480.77 Q1952.14 1482.55 1955.47 1482.55 Q1958.81 1482.55 1960.73 1480.77 Q1962.65 1478.96 1962.65 1475.86 Q1962.65 1472.73 1960.73 1470.95 Q1958.83 1469.17 1955.47 1469.17 M1950.8 1467.18 Q1947.79 1466.44 1946.1 1464.38 Q1944.43 1462.32 1944.43 1459.35 Q1944.43 1455.21 1947.37 1452.8 Q1950.33 1450.39 1955.47 1450.39 Q1960.64 1450.39 1963.58 1452.8 Q1966.51 1455.21 1966.51 1459.35 Q1966.51 1462.32 1964.83 1464.38 Q1963.16 1466.44 1960.17 1467.18 Q1963.55 1467.96 1965.43 1470.26 Q1967.33 1472.55 1967.33 1475.86 Q1967.33 1480.88 1964.25 1483.57 Q1961.19 1486.25 1955.47 1486.25 Q1949.76 1486.25 1946.68 1483.57 Q1943.62 1480.88 1943.62 1475.86 Q1943.62 1472.55 1945.52 1470.26 Q1947.42 1467.96 1950.8 1467.18 M1949.08 1459.79 Q1949.08 1462.48 1950.75 1463.98 Q1952.44 1465.49 1955.47 1465.49 Q1958.48 1465.49 1960.17 1463.98 Q1961.89 1462.48 1961.89 1459.79 Q1961.89 1457.11 1960.17 1455.6 Q1958.48 1454.1 1955.47 1454.1 Q1952.44 1454.1 1950.75 1455.6 Q1949.08 1457.11 1949.08 1459.79 Z\" fill=\"#000000\" fill-rule=\"evenodd\" fill-opacity=\"1\" /><path clip-path=\"url(#clip270)\" d=\"M2319.91 1481.64 L2327.55 1481.64 L2327.55 1455.28 L2319.24 1456.95 L2319.24 1452.69 L2327.5 1451.02 L2332.18 1451.02 L2332.18 1481.64 L2339.82 1481.64 L2339.82 1485.58 L2319.91 1485.58 L2319.91 1481.64 Z\" fill=\"#000000\" fill-rule=\"evenodd\" fill-opacity=\"1\" /><path clip-path=\"url(#clip270)\" d=\"M2349.26 1479.7 L2354.14 1479.7 L2354.14 1485.58 L2349.26 1485.58 L2349.26 1479.7 Z\" fill=\"#000000\" fill-rule=\"evenodd\" fill-opacity=\"1\" /><path clip-path=\"url(#clip270)\" d=\"M2374.33 1454.1 Q2370.72 1454.1 2368.89 1457.66 Q2367.08 1461.2 2367.08 1468.33 Q2367.08 1475.44 2368.89 1479.01 Q2370.72 1482.55 2374.33 1482.55 Q2377.96 1482.55 2379.77 1479.01 Q2381.6 1475.44 2381.6 1468.33 Q2381.6 1461.2 2379.77 1457.66 Q2377.96 1454.1 2374.33 1454.1 M2374.33 1450.39 Q2380.14 1450.39 2383.2 1455 Q2386.27 1459.58 2386.27 1468.33 Q2386.27 1477.06 2383.2 1481.67 Q2380.14 1486.25 2374.33 1486.25 Q2368.52 1486.25 2365.44 1481.67 Q2362.39 1477.06 2362.39 1468.33 Q2362.39 1459.58 2365.44 1455 Q2368.52 1450.39 2374.33 1450.39 Z\" fill=\"#000000\" fill-rule=\"evenodd\" fill-opacity=\"1\" /><path clip-path=\"url(#clip270)\" d=\"M1313.33 1537.87 Q1312.35 1537.3 1311.17 1537.04 Q1310.02 1536.76 1308.62 1536.76 Q1303.66 1536.76 1300.98 1540 Q1298.34 1543.22 1298.34 1549.27 L1298.34 1568.04 L1292.45 1568.04 L1292.45 1532.4 L1298.34 1532.4 L1298.34 1537.93 Q1300.19 1534.69 1303.15 1533.13 Q1306.11 1531.54 1310.34 1531.54 Q1310.95 1531.54 1311.68 1531.63 Q1312.41 1531.7 1313.3 1531.85 L1313.33 1537.87 Z\" fill=\"#000000\" fill-rule=\"evenodd\" fill-opacity=\"1\" /><polyline clip-path=\"url(#clip272)\" style=\"stroke:#000000; stroke-linecap:round; stroke-linejoin:round; stroke-width:2; stroke-opacity:0.1; fill:none\" points=\"253.033,1267.41 2352.76,1267.41 \"/>\n",
       "<polyline clip-path=\"url(#clip272)\" style=\"stroke:#000000; stroke-linecap:round; stroke-linejoin:round; stroke-width:2; stroke-opacity:0.1; fill:none\" points=\"253.033,1085.94 2352.76,1085.94 \"/>\n",
       "<polyline clip-path=\"url(#clip272)\" style=\"stroke:#000000; stroke-linecap:round; stroke-linejoin:round; stroke-width:2; stroke-opacity:0.1; fill:none\" points=\"253.033,904.478 2352.76,904.478 \"/>\n",
       "<polyline clip-path=\"url(#clip272)\" style=\"stroke:#000000; stroke-linecap:round; stroke-linejoin:round; stroke-width:2; stroke-opacity:0.1; fill:none\" points=\"253.033,723.012 2352.76,723.012 \"/>\n",
       "<polyline clip-path=\"url(#clip272)\" style=\"stroke:#000000; stroke-linecap:round; stroke-linejoin:round; stroke-width:2; stroke-opacity:0.1; fill:none\" points=\"253.033,541.546 2352.76,541.546 \"/>\n",
       "<polyline clip-path=\"url(#clip272)\" style=\"stroke:#000000; stroke-linecap:round; stroke-linejoin:round; stroke-width:2; stroke-opacity:0.1; fill:none\" points=\"253.033,360.08 2352.76,360.08 \"/>\n",
       "<polyline clip-path=\"url(#clip272)\" style=\"stroke:#000000; stroke-linecap:round; stroke-linejoin:round; stroke-width:2; stroke-opacity:0.1; fill:none\" points=\"253.033,178.614 2352.76,178.614 \"/>\n",
       "<polyline clip-path=\"url(#clip270)\" style=\"stroke:#000000; stroke-linecap:round; stroke-linejoin:round; stroke-width:4; stroke-opacity:1; fill:none\" points=\"253.033,1423.18 253.033,123.472 \"/>\n",
       "<polyline clip-path=\"url(#clip270)\" style=\"stroke:#000000; stroke-linecap:round; stroke-linejoin:round; stroke-width:4; stroke-opacity:1; fill:none\" points=\"253.033,1267.41 271.931,1267.41 \"/>\n",
       "<polyline clip-path=\"url(#clip270)\" style=\"stroke:#000000; stroke-linecap:round; stroke-linejoin:round; stroke-width:4; stroke-opacity:1; fill:none\" points=\"253.033,1085.94 271.931,1085.94 \"/>\n",
       "<polyline clip-path=\"url(#clip270)\" style=\"stroke:#000000; stroke-linecap:round; stroke-linejoin:round; stroke-width:4; stroke-opacity:1; fill:none\" points=\"253.033,904.478 271.931,904.478 \"/>\n",
       "<polyline clip-path=\"url(#clip270)\" style=\"stroke:#000000; stroke-linecap:round; stroke-linejoin:round; stroke-width:4; stroke-opacity:1; fill:none\" points=\"253.033,723.012 271.931,723.012 \"/>\n",
       "<polyline clip-path=\"url(#clip270)\" style=\"stroke:#000000; stroke-linecap:round; stroke-linejoin:round; stroke-width:4; stroke-opacity:1; fill:none\" points=\"253.033,541.546 271.931,541.546 \"/>\n",
       "<polyline clip-path=\"url(#clip270)\" style=\"stroke:#000000; stroke-linecap:round; stroke-linejoin:round; stroke-width:4; stroke-opacity:1; fill:none\" points=\"253.033,360.08 271.931,360.08 \"/>\n",
       "<polyline clip-path=\"url(#clip270)\" style=\"stroke:#000000; stroke-linecap:round; stroke-linejoin:round; stroke-width:4; stroke-opacity:1; fill:none\" points=\"253.033,178.614 271.931,178.614 \"/>\n",
       "<path clip-path=\"url(#clip270)\" d=\"M51.3625 1267.86 L81.0383 1267.86 L81.0383 1271.8 L51.3625 1271.8 L51.3625 1267.86 Z\" fill=\"#000000\" fill-rule=\"evenodd\" fill-opacity=\"1\" /><path clip-path=\"url(#clip270)\" d=\"M101.131 1253.21 Q97.5197 1253.21 95.691 1256.77 Q93.8854 1260.31 93.8854 1267.44 Q93.8854 1274.55 95.691 1278.12 Q97.5197 1281.66 101.131 1281.66 Q104.765 1281.66 106.571 1278.12 Q108.399 1274.55 108.399 1267.44 Q108.399 1260.31 106.571 1256.77 Q104.765 1253.21 101.131 1253.21 M101.131 1249.5 Q106.941 1249.5 109.996 1254.11 Q113.075 1258.69 113.075 1267.44 Q113.075 1276.17 109.996 1280.78 Q106.941 1285.36 101.131 1285.36 Q95.3206 1285.36 92.2419 1280.78 Q89.1864 1276.17 89.1864 1267.44 Q89.1864 1258.69 92.2419 1254.11 Q95.3206 1249.5 101.131 1249.5 Z\" fill=\"#000000\" fill-rule=\"evenodd\" fill-opacity=\"1\" /><path clip-path=\"url(#clip270)\" d=\"M121.293 1278.81 L126.177 1278.81 L126.177 1284.69 L121.293 1284.69 L121.293 1278.81 Z\" fill=\"#000000\" fill-rule=\"evenodd\" fill-opacity=\"1\" /><path clip-path=\"url(#clip270)\" d=\"M146.362 1253.21 Q142.751 1253.21 140.922 1256.77 Q139.117 1260.31 139.117 1267.44 Q139.117 1274.55 140.922 1278.12 Q142.751 1281.66 146.362 1281.66 Q149.996 1281.66 151.802 1278.12 Q153.63 1274.55 153.63 1267.44 Q153.63 1260.31 151.802 1256.77 Q149.996 1253.21 146.362 1253.21 M146.362 1249.5 Q152.172 1249.5 155.228 1254.11 Q158.306 1258.69 158.306 1267.44 Q158.306 1276.17 155.228 1280.78 Q152.172 1285.36 146.362 1285.36 Q140.552 1285.36 137.473 1280.78 Q134.418 1276.17 134.418 1267.44 Q134.418 1258.69 137.473 1254.11 Q140.552 1249.5 146.362 1249.5 Z\" fill=\"#000000\" fill-rule=\"evenodd\" fill-opacity=\"1\" /><path clip-path=\"url(#clip270)\" d=\"M176.524 1253.21 Q172.913 1253.21 171.084 1256.77 Q169.279 1260.31 169.279 1267.44 Q169.279 1274.55 171.084 1278.12 Q172.913 1281.66 176.524 1281.66 Q180.158 1281.66 181.964 1278.12 Q183.792 1274.55 183.792 1267.44 Q183.792 1260.31 181.964 1256.77 Q180.158 1253.21 176.524 1253.21 M176.524 1249.5 Q182.334 1249.5 185.39 1254.11 Q188.468 1258.69 188.468 1267.44 Q188.468 1276.17 185.39 1280.78 Q182.334 1285.36 176.524 1285.36 Q170.714 1285.36 167.635 1280.78 Q164.579 1276.17 164.579 1267.44 Q164.579 1258.69 167.635 1254.11 Q170.714 1249.5 176.524 1249.5 Z\" fill=\"#000000\" fill-rule=\"evenodd\" fill-opacity=\"1\" /><path clip-path=\"url(#clip270)\" d=\"M200.714 1280.75 L217.033 1280.75 L217.033 1284.69 L195.089 1284.69 L195.089 1280.75 Q197.751 1278 202.334 1273.37 Q206.94 1268.72 208.121 1267.37 Q210.366 1264.85 211.246 1263.12 Q212.149 1261.36 212.149 1259.67 Q212.149 1256.91 210.204 1255.18 Q208.283 1253.44 205.181 1253.44 Q202.982 1253.44 200.528 1254.2 Q198.098 1254.97 195.32 1256.52 L195.32 1251.8 Q198.144 1250.66 200.598 1250.08 Q203.051 1249.5 205.089 1249.5 Q210.459 1249.5 213.653 1252.19 Q216.848 1254.87 216.848 1259.37 Q216.848 1261.49 216.038 1263.42 Q215.251 1265.31 213.144 1267.91 Q212.565 1268.58 209.463 1271.8 Q206.362 1274.99 200.714 1280.75 Z\" fill=\"#000000\" fill-rule=\"evenodd\" fill-opacity=\"1\" /><path clip-path=\"url(#clip270)\" d=\"M50.9921 1086.39 L80.6679 1086.39 L80.6679 1090.33 L50.9921 1090.33 L50.9921 1086.39 Z\" fill=\"#000000\" fill-rule=\"evenodd\" fill-opacity=\"1\" /><path clip-path=\"url(#clip270)\" d=\"M100.76 1071.74 Q97.1493 1071.74 95.3206 1075.31 Q93.515 1078.85 93.515 1085.98 Q93.515 1093.08 95.3206 1096.65 Q97.1493 1100.19 100.76 1100.19 Q104.395 1100.19 106.2 1096.65 Q108.029 1093.08 108.029 1085.98 Q108.029 1078.85 106.2 1075.31 Q104.395 1071.74 100.76 1071.74 M100.76 1068.04 Q106.571 1068.04 109.626 1072.64 Q112.705 1077.23 112.705 1085.98 Q112.705 1094.7 109.626 1099.31 Q106.571 1103.89 100.76 1103.89 Q94.9502 1103.89 91.8715 1099.31 Q88.816 1094.7 88.816 1085.98 Q88.816 1077.23 91.8715 1072.64 Q94.9502 1068.04 100.76 1068.04 Z\" fill=\"#000000\" fill-rule=\"evenodd\" fill-opacity=\"1\" /><path clip-path=\"url(#clip270)\" d=\"M120.922 1097.34 L125.807 1097.34 L125.807 1103.22 L120.922 1103.22 L120.922 1097.34 Z\" fill=\"#000000\" fill-rule=\"evenodd\" fill-opacity=\"1\" /><path clip-path=\"url(#clip270)\" d=\"M145.992 1071.74 Q142.381 1071.74 140.552 1075.31 Q138.746 1078.85 138.746 1085.98 Q138.746 1093.08 140.552 1096.65 Q142.381 1100.19 145.992 1100.19 Q149.626 1100.19 151.431 1096.65 Q153.26 1093.08 153.26 1085.98 Q153.26 1078.85 151.431 1075.31 Q149.626 1071.74 145.992 1071.74 M145.992 1068.04 Q151.802 1068.04 154.857 1072.64 Q157.936 1077.23 157.936 1085.98 Q157.936 1094.7 154.857 1099.31 Q151.802 1103.89 145.992 1103.89 Q140.181 1103.89 137.103 1099.31 Q134.047 1094.7 134.047 1085.98 Q134.047 1077.23 137.103 1072.64 Q140.181 1068.04 145.992 1068.04 Z\" fill=\"#000000\" fill-rule=\"evenodd\" fill-opacity=\"1\" /><path clip-path=\"url(#clip270)\" d=\"M176.153 1071.74 Q172.542 1071.74 170.714 1075.31 Q168.908 1078.85 168.908 1085.98 Q168.908 1093.08 170.714 1096.65 Q172.542 1100.19 176.153 1100.19 Q179.788 1100.19 181.593 1096.65 Q183.422 1093.08 183.422 1085.98 Q183.422 1078.85 181.593 1075.31 Q179.788 1071.74 176.153 1071.74 M176.153 1068.04 Q181.964 1068.04 185.019 1072.64 Q188.098 1077.23 188.098 1085.98 Q188.098 1094.7 185.019 1099.31 Q181.964 1103.89 176.153 1103.89 Q170.343 1103.89 167.265 1099.31 Q164.209 1094.7 164.209 1085.98 Q164.209 1077.23 167.265 1072.64 Q170.343 1068.04 176.153 1068.04 Z\" fill=\"#000000\" fill-rule=\"evenodd\" fill-opacity=\"1\" /><path clip-path=\"url(#clip270)\" d=\"M197.126 1099.29 L204.764 1099.29 L204.764 1072.92 L196.454 1074.59 L196.454 1070.33 L204.718 1068.66 L209.394 1068.66 L209.394 1099.29 L217.033 1099.29 L217.033 1103.22 L197.126 1103.22 L197.126 1099.29 Z\" fill=\"#000000\" fill-rule=\"evenodd\" fill-opacity=\"1\" /><path clip-path=\"url(#clip270)\" d=\"M99.5335 890.276 Q95.9224 890.276 94.0937 893.841 Q92.2882 897.383 92.2882 904.512 Q92.2882 911.619 94.0937 915.184 Q95.9224 918.725 99.5335 918.725 Q103.168 918.725 104.973 915.184 Q106.802 911.619 106.802 904.512 Q106.802 897.383 104.973 893.841 Q103.168 890.276 99.5335 890.276 M99.5335 886.573 Q105.344 886.573 108.399 891.179 Q111.478 895.762 111.478 904.512 Q111.478 913.239 108.399 917.846 Q105.344 922.429 99.5335 922.429 Q93.7234 922.429 90.6447 917.846 Q87.5892 913.239 87.5892 904.512 Q87.5892 895.762 90.6447 891.179 Q93.7234 886.573 99.5335 886.573 Z\" fill=\"#000000\" fill-rule=\"evenodd\" fill-opacity=\"1\" /><path clip-path=\"url(#clip270)\" d=\"M119.695 915.878 L124.58 915.878 L124.58 921.758 L119.695 921.758 L119.695 915.878 Z\" fill=\"#000000\" fill-rule=\"evenodd\" fill-opacity=\"1\" /><path clip-path=\"url(#clip270)\" d=\"M144.765 890.276 Q141.154 890.276 139.325 893.841 Q137.519 897.383 137.519 904.512 Q137.519 911.619 139.325 915.184 Q141.154 918.725 144.765 918.725 Q148.399 918.725 150.205 915.184 Q152.033 911.619 152.033 904.512 Q152.033 897.383 150.205 893.841 Q148.399 890.276 144.765 890.276 M144.765 886.573 Q150.575 886.573 153.63 891.179 Q156.709 895.762 156.709 904.512 Q156.709 913.239 153.63 917.846 Q150.575 922.429 144.765 922.429 Q138.955 922.429 135.876 917.846 Q132.82 913.239 132.82 904.512 Q132.82 895.762 135.876 891.179 Q138.955 886.573 144.765 886.573 Z\" fill=\"#000000\" fill-rule=\"evenodd\" fill-opacity=\"1\" /><path clip-path=\"url(#clip270)\" d=\"M174.927 890.276 Q171.316 890.276 169.487 893.841 Q167.681 897.383 167.681 904.512 Q167.681 911.619 169.487 915.184 Q171.316 918.725 174.927 918.725 Q178.561 918.725 180.366 915.184 Q182.195 911.619 182.195 904.512 Q182.195 897.383 180.366 893.841 Q178.561 890.276 174.927 890.276 M174.927 886.573 Q180.737 886.573 183.792 891.179 Q186.871 895.762 186.871 904.512 Q186.871 913.239 183.792 917.846 Q180.737 922.429 174.927 922.429 Q169.116 922.429 166.038 917.846 Q162.982 913.239 162.982 904.512 Q162.982 895.762 166.038 891.179 Q169.116 886.573 174.927 886.573 Z\" fill=\"#000000\" fill-rule=\"evenodd\" fill-opacity=\"1\" /><path clip-path=\"url(#clip270)\" d=\"M205.089 890.276 Q201.477 890.276 199.649 893.841 Q197.843 897.383 197.843 904.512 Q197.843 911.619 199.649 915.184 Q201.477 918.725 205.089 918.725 Q208.723 918.725 210.528 915.184 Q212.357 911.619 212.357 904.512 Q212.357 897.383 210.528 893.841 Q208.723 890.276 205.089 890.276 M205.089 886.573 Q210.899 886.573 213.954 891.179 Q217.033 895.762 217.033 904.512 Q217.033 913.239 213.954 917.846 Q210.899 922.429 205.089 922.429 Q199.278 922.429 196.2 917.846 Q193.144 913.239 193.144 904.512 Q193.144 895.762 196.2 891.179 Q199.278 886.573 205.089 886.573 Z\" fill=\"#000000\" fill-rule=\"evenodd\" fill-opacity=\"1\" /><path clip-path=\"url(#clip270)\" d=\"M100.76 708.81 Q97.1493 708.81 95.3206 712.375 Q93.515 715.917 93.515 723.046 Q93.515 730.153 95.3206 733.718 Q97.1493 737.259 100.76 737.259 Q104.395 737.259 106.2 733.718 Q108.029 730.153 108.029 723.046 Q108.029 715.917 106.2 712.375 Q104.395 708.81 100.76 708.81 M100.76 705.107 Q106.571 705.107 109.626 709.713 Q112.705 714.297 112.705 723.046 Q112.705 731.773 109.626 736.38 Q106.571 740.963 100.76 740.963 Q94.9502 740.963 91.8715 736.38 Q88.816 731.773 88.816 723.046 Q88.816 714.297 91.8715 709.713 Q94.9502 705.107 100.76 705.107 Z\" fill=\"#000000\" fill-rule=\"evenodd\" fill-opacity=\"1\" /><path clip-path=\"url(#clip270)\" d=\"M120.922 734.412 L125.807 734.412 L125.807 740.292 L120.922 740.292 L120.922 734.412 Z\" fill=\"#000000\" fill-rule=\"evenodd\" fill-opacity=\"1\" /><path clip-path=\"url(#clip270)\" d=\"M145.992 708.81 Q142.381 708.81 140.552 712.375 Q138.746 715.917 138.746 723.046 Q138.746 730.153 140.552 733.718 Q142.381 737.259 145.992 737.259 Q149.626 737.259 151.431 733.718 Q153.26 730.153 153.26 723.046 Q153.26 715.917 151.431 712.375 Q149.626 708.81 145.992 708.81 M145.992 705.107 Q151.802 705.107 154.857 709.713 Q157.936 714.297 157.936 723.046 Q157.936 731.773 154.857 736.38 Q151.802 740.963 145.992 740.963 Q140.181 740.963 137.103 736.38 Q134.047 731.773 134.047 723.046 Q134.047 714.297 137.103 709.713 Q140.181 705.107 145.992 705.107 Z\" fill=\"#000000\" fill-rule=\"evenodd\" fill-opacity=\"1\" /><path clip-path=\"url(#clip270)\" d=\"M176.153 708.81 Q172.542 708.81 170.714 712.375 Q168.908 715.917 168.908 723.046 Q168.908 730.153 170.714 733.718 Q172.542 737.259 176.153 737.259 Q179.788 737.259 181.593 733.718 Q183.422 730.153 183.422 723.046 Q183.422 715.917 181.593 712.375 Q179.788 708.81 176.153 708.81 M176.153 705.107 Q181.964 705.107 185.019 709.713 Q188.098 714.297 188.098 723.046 Q188.098 731.773 185.019 736.38 Q181.964 740.963 176.153 740.963 Q170.343 740.963 167.265 736.38 Q164.209 731.773 164.209 723.046 Q164.209 714.297 167.265 709.713 Q170.343 705.107 176.153 705.107 Z\" fill=\"#000000\" fill-rule=\"evenodd\" fill-opacity=\"1\" /><path clip-path=\"url(#clip270)\" d=\"M197.126 736.357 L204.764 736.357 L204.764 709.991 L196.454 711.658 L196.454 707.398 L204.718 705.732 L209.394 705.732 L209.394 736.357 L217.033 736.357 L217.033 740.292 L197.126 740.292 L197.126 736.357 Z\" fill=\"#000000\" fill-rule=\"evenodd\" fill-opacity=\"1\" /><path clip-path=\"url(#clip270)\" d=\"M101.131 527.345 Q97.5197 527.345 95.691 530.909 Q93.8854 534.451 93.8854 541.581 Q93.8854 548.687 95.691 552.252 Q97.5197 555.794 101.131 555.794 Q104.765 555.794 106.571 552.252 Q108.399 548.687 108.399 541.581 Q108.399 534.451 106.571 530.909 Q104.765 527.345 101.131 527.345 M101.131 523.641 Q106.941 523.641 109.996 528.247 Q113.075 532.831 113.075 541.581 Q113.075 550.307 109.996 554.914 Q106.941 559.497 101.131 559.497 Q95.3206 559.497 92.2419 554.914 Q89.1864 550.307 89.1864 541.581 Q89.1864 532.831 92.2419 528.247 Q95.3206 523.641 101.131 523.641 Z\" fill=\"#000000\" fill-rule=\"evenodd\" fill-opacity=\"1\" /><path clip-path=\"url(#clip270)\" d=\"M121.293 552.946 L126.177 552.946 L126.177 558.826 L121.293 558.826 L121.293 552.946 Z\" fill=\"#000000\" fill-rule=\"evenodd\" fill-opacity=\"1\" /><path clip-path=\"url(#clip270)\" d=\"M146.362 527.345 Q142.751 527.345 140.922 530.909 Q139.117 534.451 139.117 541.581 Q139.117 548.687 140.922 552.252 Q142.751 555.794 146.362 555.794 Q149.996 555.794 151.802 552.252 Q153.63 548.687 153.63 541.581 Q153.63 534.451 151.802 530.909 Q149.996 527.345 146.362 527.345 M146.362 523.641 Q152.172 523.641 155.228 528.247 Q158.306 532.831 158.306 541.581 Q158.306 550.307 155.228 554.914 Q152.172 559.497 146.362 559.497 Q140.552 559.497 137.473 554.914 Q134.418 550.307 134.418 541.581 Q134.418 532.831 137.473 528.247 Q140.552 523.641 146.362 523.641 Z\" fill=\"#000000\" fill-rule=\"evenodd\" fill-opacity=\"1\" /><path clip-path=\"url(#clip270)\" d=\"M176.524 527.345 Q172.913 527.345 171.084 530.909 Q169.279 534.451 169.279 541.581 Q169.279 548.687 171.084 552.252 Q172.913 555.794 176.524 555.794 Q180.158 555.794 181.964 552.252 Q183.792 548.687 183.792 541.581 Q183.792 534.451 181.964 530.909 Q180.158 527.345 176.524 527.345 M176.524 523.641 Q182.334 523.641 185.39 528.247 Q188.468 532.831 188.468 541.581 Q188.468 550.307 185.39 554.914 Q182.334 559.497 176.524 559.497 Q170.714 559.497 167.635 554.914 Q164.579 550.307 164.579 541.581 Q164.579 532.831 167.635 528.247 Q170.714 523.641 176.524 523.641 Z\" fill=\"#000000\" fill-rule=\"evenodd\" fill-opacity=\"1\" /><path clip-path=\"url(#clip270)\" d=\"M200.714 554.891 L217.033 554.891 L217.033 558.826 L195.089 558.826 L195.089 554.891 Q197.751 552.136 202.334 547.507 Q206.94 542.854 208.121 541.511 Q210.366 538.988 211.246 537.252 Q212.149 535.493 212.149 533.803 Q212.149 531.048 210.204 529.312 Q208.283 527.576 205.181 527.576 Q202.982 527.576 200.528 528.34 Q198.098 529.104 195.32 530.655 L195.32 525.933 Q198.144 524.798 200.598 524.22 Q203.051 523.641 205.089 523.641 Q210.459 523.641 213.653 526.326 Q216.848 529.011 216.848 533.502 Q216.848 535.632 216.038 537.553 Q215.251 539.451 213.144 542.044 Q212.565 542.715 209.463 545.933 Q206.362 549.127 200.714 554.891 Z\" fill=\"#000000\" fill-rule=\"evenodd\" fill-opacity=\"1\" /><path clip-path=\"url(#clip270)\" d=\"M100.182 345.879 Q96.5706 345.879 94.7419 349.444 Q92.9363 352.985 92.9363 360.115 Q92.9363 367.221 94.7419 370.786 Q96.5706 374.328 100.182 374.328 Q103.816 374.328 105.621 370.786 Q107.45 367.221 107.45 360.115 Q107.45 352.985 105.621 349.444 Q103.816 345.879 100.182 345.879 M100.182 342.175 Q105.992 342.175 109.047 346.782 Q112.126 351.365 112.126 360.115 Q112.126 368.842 109.047 373.448 Q105.992 378.031 100.182 378.031 Q94.3715 378.031 91.2928 373.448 Q88.2373 368.842 88.2373 360.115 Q88.2373 351.365 91.2928 346.782 Q94.3715 342.175 100.182 342.175 Z\" fill=\"#000000\" fill-rule=\"evenodd\" fill-opacity=\"1\" /><path clip-path=\"url(#clip270)\" d=\"M120.344 371.481 L125.228 371.481 L125.228 377.36 L120.344 377.36 L120.344 371.481 Z\" fill=\"#000000\" fill-rule=\"evenodd\" fill-opacity=\"1\" /><path clip-path=\"url(#clip270)\" d=\"M145.413 345.879 Q141.802 345.879 139.973 349.444 Q138.168 352.985 138.168 360.115 Q138.168 367.221 139.973 370.786 Q141.802 374.328 145.413 374.328 Q149.047 374.328 150.853 370.786 Q152.681 367.221 152.681 360.115 Q152.681 352.985 150.853 349.444 Q149.047 345.879 145.413 345.879 M145.413 342.175 Q151.223 342.175 154.279 346.782 Q157.357 351.365 157.357 360.115 Q157.357 368.842 154.279 373.448 Q151.223 378.031 145.413 378.031 Q139.603 378.031 136.524 373.448 Q133.469 368.842 133.469 360.115 Q133.469 351.365 136.524 346.782 Q139.603 342.175 145.413 342.175 Z\" fill=\"#000000\" fill-rule=\"evenodd\" fill-opacity=\"1\" /><path clip-path=\"url(#clip270)\" d=\"M175.575 345.879 Q171.964 345.879 170.135 349.444 Q168.329 352.985 168.329 360.115 Q168.329 367.221 170.135 370.786 Q171.964 374.328 175.575 374.328 Q179.209 374.328 181.015 370.786 Q182.843 367.221 182.843 360.115 Q182.843 352.985 181.015 349.444 Q179.209 345.879 175.575 345.879 M175.575 342.175 Q181.385 342.175 184.44 346.782 Q187.519 351.365 187.519 360.115 Q187.519 368.842 184.44 373.448 Q181.385 378.031 175.575 378.031 Q169.765 378.031 166.686 373.448 Q163.63 368.842 163.63 360.115 Q163.63 351.365 166.686 346.782 Q169.765 342.175 175.575 342.175 Z\" fill=\"#000000\" fill-rule=\"evenodd\" fill-opacity=\"1\" /><path clip-path=\"url(#clip270)\" d=\"M209.903 358.726 Q213.26 359.444 215.135 361.712 Q217.033 363.981 217.033 367.314 Q217.033 372.43 213.514 375.231 Q209.996 378.031 203.514 378.031 Q201.339 378.031 199.024 377.592 Q196.732 377.175 194.278 376.318 L194.278 371.805 Q196.223 372.939 198.538 373.518 Q200.852 374.096 203.376 374.096 Q207.774 374.096 210.065 372.36 Q212.38 370.624 212.38 367.314 Q212.38 364.258 210.227 362.545 Q208.098 360.809 204.278 360.809 L200.251 360.809 L200.251 356.967 L204.464 356.967 Q207.913 356.967 209.741 355.601 Q211.57 354.212 211.57 351.62 Q211.57 348.958 209.672 347.545 Q207.797 346.11 204.278 346.11 Q202.357 346.11 200.158 346.527 Q197.959 346.944 195.32 347.823 L195.32 343.657 Q197.982 342.916 200.297 342.546 Q202.635 342.175 204.695 342.175 Q210.019 342.175 213.121 344.606 Q216.223 347.013 216.223 351.133 Q216.223 354.004 214.579 355.995 Q212.936 357.962 209.903 358.726 Z\" fill=\"#000000\" fill-rule=\"evenodd\" fill-opacity=\"1\" /><path clip-path=\"url(#clip270)\" d=\"M99.0474 164.413 Q95.4363 164.413 93.6076 167.978 Q91.8021 171.519 91.8021 178.649 Q91.8021 185.756 93.6076 189.32 Q95.4363 192.862 99.0474 192.862 Q102.682 192.862 104.487 189.32 Q106.316 185.756 106.316 178.649 Q106.316 171.519 104.487 167.978 Q102.682 164.413 99.0474 164.413 M99.0474 160.709 Q104.858 160.709 107.913 165.316 Q110.992 169.899 110.992 178.649 Q110.992 187.376 107.913 191.982 Q104.858 196.566 99.0474 196.566 Q93.2373 196.566 90.1586 191.982 Q87.103 187.376 87.103 178.649 Q87.103 169.899 90.1586 165.316 Q93.2373 160.709 99.0474 160.709 Z\" fill=\"#000000\" fill-rule=\"evenodd\" fill-opacity=\"1\" /><path clip-path=\"url(#clip270)\" d=\"M119.209 190.015 L124.094 190.015 L124.094 195.894 L119.209 195.894 L119.209 190.015 Z\" fill=\"#000000\" fill-rule=\"evenodd\" fill-opacity=\"1\" /><path clip-path=\"url(#clip270)\" d=\"M144.279 164.413 Q140.668 164.413 138.839 167.978 Q137.033 171.519 137.033 178.649 Q137.033 185.756 138.839 189.32 Q140.668 192.862 144.279 192.862 Q147.913 192.862 149.718 189.32 Q151.547 185.756 151.547 178.649 Q151.547 171.519 149.718 167.978 Q147.913 164.413 144.279 164.413 M144.279 160.709 Q150.089 160.709 153.144 165.316 Q156.223 169.899 156.223 178.649 Q156.223 187.376 153.144 191.982 Q150.089 196.566 144.279 196.566 Q138.469 196.566 135.39 191.982 Q132.334 187.376 132.334 178.649 Q132.334 169.899 135.39 165.316 Q138.469 160.709 144.279 160.709 Z\" fill=\"#000000\" fill-rule=\"evenodd\" fill-opacity=\"1\" /><path clip-path=\"url(#clip270)\" d=\"M174.441 164.413 Q170.829 164.413 169.001 167.978 Q167.195 171.519 167.195 178.649 Q167.195 185.756 169.001 189.32 Q170.829 192.862 174.441 192.862 Q178.075 192.862 179.88 189.32 Q181.709 185.756 181.709 178.649 Q181.709 171.519 179.88 167.978 Q178.075 164.413 174.441 164.413 M174.441 160.709 Q180.251 160.709 183.306 165.316 Q186.385 169.899 186.385 178.649 Q186.385 187.376 183.306 191.982 Q180.251 196.566 174.441 196.566 Q168.63 196.566 165.552 191.982 Q162.496 187.376 162.496 178.649 Q162.496 169.899 165.552 165.316 Q168.63 160.709 174.441 160.709 Z\" fill=\"#000000\" fill-rule=\"evenodd\" fill-opacity=\"1\" /><path clip-path=\"url(#clip270)\" d=\"M207.45 165.408 L195.644 183.857 L207.45 183.857 L207.45 165.408 M206.223 161.334 L212.102 161.334 L212.102 183.857 L217.033 183.857 L217.033 187.746 L212.102 187.746 L212.102 195.894 L207.45 195.894 L207.45 187.746 L191.848 187.746 L191.848 183.232 L206.223 161.334 Z\" fill=\"#000000\" fill-rule=\"evenodd\" fill-opacity=\"1\" /><path clip-path=\"url(#clip270)\" d=\"M1083.72 12.096 L1091.9 12.096 L1091.9 72.576 L1083.72 72.576 L1083.72 12.096 Z\" fill=\"#000000\" fill-rule=\"evenodd\" fill-opacity=\"1\" /><path clip-path=\"url(#clip270)\" d=\"M1145.58 45.1919 L1145.58 72.576 L1138.12 72.576 L1138.12 45.4349 Q1138.12 38.994 1135.61 35.7938 Q1133.1 32.5936 1128.08 32.5936 Q1122.04 32.5936 1118.56 36.4419 Q1115.07 40.2903 1115.07 46.9338 L1115.07 72.576 L1107.58 72.576 L1107.58 27.2059 L1115.07 27.2059 L1115.07 34.2544 Q1117.75 30.163 1121.35 28.1376 Q1125 26.1121 1129.74 26.1121 Q1137.56 26.1121 1141.57 30.9732 Q1145.58 35.7938 1145.58 45.1919 Z\" fill=\"#000000\" fill-rule=\"evenodd\" fill-opacity=\"1\" /><path clip-path=\"url(#clip270)\" d=\"M1160.44 27.2059 L1167.9 27.2059 L1167.9 72.576 L1160.44 72.576 L1160.44 27.2059 M1160.44 9.54393 L1167.9 9.54393 L1167.9 18.9825 L1160.44 18.9825 L1160.44 9.54393 Z\" fill=\"#000000\" fill-rule=\"evenodd\" fill-opacity=\"1\" /><path clip-path=\"url(#clip270)\" d=\"M1190.87 14.324 L1190.87 27.2059 L1206.22 27.2059 L1206.22 32.9987 L1190.87 32.9987 L1190.87 57.6282 Q1190.87 63.1779 1192.37 64.7578 Q1193.9 66.3376 1198.56 66.3376 L1206.22 66.3376 L1206.22 72.576 L1198.56 72.576 Q1189.93 72.576 1186.65 69.3758 Q1183.37 66.1351 1183.37 57.6282 L1183.37 32.9987 L1177.9 32.9987 L1177.9 27.2059 L1183.37 27.2059 L1183.37 14.324 L1190.87 14.324 Z\" fill=\"#000000\" fill-rule=\"evenodd\" fill-opacity=\"1\" /><path clip-path=\"url(#clip270)\" d=\"M1216.02 27.2059 L1223.48 27.2059 L1223.48 72.576 L1216.02 72.576 L1216.02 27.2059 M1216.02 9.54393 L1223.48 9.54393 L1223.48 18.9825 L1216.02 18.9825 L1216.02 9.54393 Z\" fill=\"#000000\" fill-rule=\"evenodd\" fill-opacity=\"1\" /><path clip-path=\"url(#clip270)\" d=\"M1259.69 49.7694 Q1250.66 49.7694 1247.17 51.8354 Q1243.69 53.9013 1243.69 58.8839 Q1243.69 62.8538 1246.28 65.2034 Q1248.92 67.5124 1253.41 67.5124 Q1259.61 67.5124 1263.34 63.1374 Q1267.1 58.7219 1267.1 51.4303 L1267.1 49.7694 L1259.69 49.7694 M1274.56 46.6907 L1274.56 72.576 L1267.1 72.576 L1267.1 65.6895 Q1264.55 69.8214 1260.74 71.8063 Q1256.94 73.7508 1251.43 73.7508 Q1244.46 73.7508 1240.33 69.8619 Q1236.24 65.9325 1236.24 59.3701 Q1236.24 51.7138 1241.34 47.825 Q1246.49 43.9361 1256.65 43.9361 L1267.1 43.9361 L1267.1 43.2069 Q1267.1 38.0623 1263.7 35.2672 Q1260.34 32.4315 1254.22 32.4315 Q1250.33 32.4315 1246.65 33.3632 Q1242.96 34.295 1239.56 36.1584 L1239.56 29.2718 Q1243.65 27.692 1247.5 26.9223 Q1251.35 26.1121 1254.99 26.1121 Q1264.84 26.1121 1269.7 31.2163 Q1274.56 36.3204 1274.56 46.6907 Z\" fill=\"#000000\" fill-rule=\"evenodd\" fill-opacity=\"1\" /><path clip-path=\"url(#clip270)\" d=\"M1289.91 9.54393 L1297.36 9.54393 L1297.36 72.576 L1289.91 72.576 L1289.91 9.54393 Z\" fill=\"#000000\" fill-rule=\"evenodd\" fill-opacity=\"1\" /><path clip-path=\"url(#clip270)\" d=\"M1347.84 18.8205 L1347.84 65.8515 L1357.72 65.8515 Q1370.24 65.8515 1376.03 60.1802 Q1381.87 54.509 1381.87 42.2752 Q1381.87 30.1225 1376.03 24.4918 Q1370.24 18.8205 1357.72 18.8205 L1347.84 18.8205 M1339.66 12.096 L1356.47 12.096 Q1374.05 12.096 1382.27 19.4281 Q1390.5 26.7198 1390.5 42.2752 Q1390.5 57.9117 1382.23 65.2439 Q1373.97 72.576 1356.47 72.576 L1339.66 72.576 L1339.66 12.096 Z\" fill=\"#000000\" fill-rule=\"evenodd\" fill-opacity=\"1\" /><path clip-path=\"url(#clip270)\" d=\"M1423.83 49.7694 Q1414.8 49.7694 1411.32 51.8354 Q1407.83 53.9013 1407.83 58.8839 Q1407.83 62.8538 1410.43 65.2034 Q1413.06 67.5124 1417.56 67.5124 Q1423.75 67.5124 1427.48 63.1374 Q1431.25 58.7219 1431.25 51.4303 L1431.25 49.7694 L1423.83 49.7694 M1438.7 46.6907 L1438.7 72.576 L1431.25 72.576 L1431.25 65.6895 Q1428.7 69.8214 1424.89 71.8063 Q1421.08 73.7508 1415.57 73.7508 Q1408.6 73.7508 1404.47 69.8619 Q1400.38 65.9325 1400.38 59.3701 Q1400.38 51.7138 1405.48 47.825 Q1410.63 43.9361 1420.8 43.9361 L1431.25 43.9361 L1431.25 43.2069 Q1431.25 38.0623 1427.84 35.2672 Q1424.48 32.4315 1418.37 32.4315 Q1414.48 32.4315 1410.79 33.3632 Q1407.1 34.295 1403.7 36.1584 L1403.7 29.2718 Q1407.79 27.692 1411.64 26.9223 Q1415.49 26.1121 1419.14 26.1121 Q1428.98 26.1121 1433.84 31.2163 Q1438.7 36.3204 1438.7 46.6907 Z\" fill=\"#000000\" fill-rule=\"evenodd\" fill-opacity=\"1\" /><path clip-path=\"url(#clip270)\" d=\"M1461.43 14.324 L1461.43 27.2059 L1476.78 27.2059 L1476.78 32.9987 L1461.43 32.9987 L1461.43 57.6282 Q1461.43 63.1779 1462.93 64.7578 Q1464.46 66.3376 1469.12 66.3376 L1476.78 66.3376 L1476.78 72.576 L1469.12 72.576 Q1460.49 72.576 1457.21 69.3758 Q1453.93 66.1351 1453.93 57.6282 L1453.93 32.9987 L1448.46 32.9987 L1448.46 27.2059 L1453.93 27.2059 L1453.93 14.324 L1461.43 14.324 Z\" fill=\"#000000\" fill-rule=\"evenodd\" fill-opacity=\"1\" /><path clip-path=\"url(#clip270)\" d=\"M1507.2 49.7694 Q1498.17 49.7694 1494.68 51.8354 Q1491.2 53.9013 1491.2 58.8839 Q1491.2 62.8538 1493.79 65.2034 Q1496.43 67.5124 1500.92 67.5124 Q1507.12 67.5124 1510.85 63.1374 Q1514.61 58.7219 1514.61 51.4303 L1514.61 49.7694 L1507.2 49.7694 M1522.07 46.6907 L1522.07 72.576 L1514.61 72.576 L1514.61 65.6895 Q1512.06 69.8214 1508.25 71.8063 Q1504.45 73.7508 1498.94 73.7508 Q1491.97 73.7508 1487.84 69.8619 Q1483.75 65.9325 1483.75 59.3701 Q1483.75 51.7138 1488.85 47.825 Q1494 43.9361 1504.16 43.9361 L1514.61 43.9361 L1514.61 43.2069 Q1514.61 38.0623 1511.21 35.2672 Q1507.85 32.4315 1501.73 32.4315 Q1497.84 32.4315 1494.16 33.3632 Q1490.47 34.295 1487.07 36.1584 L1487.07 29.2718 Q1491.16 27.692 1495.01 26.9223 Q1498.86 26.1121 1502.5 26.1121 Q1512.35 26.1121 1517.21 31.2163 Q1522.07 36.3204 1522.07 46.6907 Z\" fill=\"#000000\" fill-rule=\"evenodd\" fill-opacity=\"1\" /><polyline clip-path=\"url(#clip272)\" style=\"stroke:#009af9; stroke-linecap:round; stroke-linejoin:round; stroke-width:4; stroke-opacity:1; fill:none\" points=\"253.033,904.478 260.877,904.478 268.664,904.478 276.392,904.478 284.063,904.478 291.678,904.478 299.237,904.478 306.741,904.478 314.19,904.478 321.585,904.478 328.927,904.478 336.215,904.478 343.452,904.478 350.636,904.478 357.77,904.478 364.852,904.478 371.885,904.478 378.868,904.478 385.802,904.478 392.688,904.478 399.525,904.478 406.315,904.478 413.058,904.478 419.754,904.478 426.405,904.478 433.009,904.478 439.569,904.478 446.083,904.478 452.554,904.478 458.981,904.478 465.364,904.478 471.705,904.478 478.003,904.478 484.259,904.478 490.474,904.478 496.647,904.478 502.78,904.478 508.872,904.478 514.924,904.478 520.936,904.478 526.91,904.478 532.844,904.478 538.74,904.478 544.598,904.478 550.419,904.478 556.201,904.478 561.947,904.478 567.657,904.478 573.33,904.478 578.967,904.478 584.568,904.478 590.134,904.478 595.666,904.478 601.162,904.478 606.625,904.478 612.053,904.478 617.448,904.478 622.809,904.478 628.137,904.478 633.433,904.478 638.696,904.478 643.927,904.478 649.127,904.478 654.294,904.478 659.431,904.478 664.536,904.478 669.611,904.478 674.656,904.478 679.67,904.478 684.654,904.478 689.609,904.478 694.534,904.478 699.431,904.478 704.298,904.478 709.137,904.478 713.948,904.478 718.73,904.478 723.485,904.478 728.212,904.478 732.912,904.478 737.584,904.478 742.23,904.478 746.849,904.478 751.442,904.478 756.008,904.478 760.549,904.478 765.064,904.478 769.553,904.478 774.017,904.478 778.456,904.478 782.87,904.478 787.259,904.478 791.624,904.478 795.964,904.478 800.28,904.478 804.573,904.478 808.842,904.478 813.087,904.478 817.309,904.478 821.509,904.478 825.685,904.478 829.838,904.478 833.969,904.478 838.077,904.478 842.164,904.478 846.228,904.478 850.271,904.478 854.292,904.478 858.291,904.478 862.269,904.478 866.226,904.478 870.162,904.478 874.078,904.478 877.972,904.478 881.847,904.478 885.701,904.478 889.534,904.478 893.348,904.478 897.142,904.478 900.916,904.478 904.671,904.478 908.406,904.478 912.123,904.478 915.82,904.478 919.498,904.478 923.157,904.478 926.798,904.478 930.42,904.478 934.024,904.478 937.61,904.478 941.177,904.478 944.727,904.478 948.259,904.478 951.773,904.478 955.27,904.478 958.749,904.478 962.211,904.478 965.656,904.478 969.083,904.478 972.494,904.478 975.888,904.478 979.266,904.478 982.627,904.478 985.971,904.478 989.299,904.478 992.611,904.478 995.907,904.478 999.187,904.478 1002.45,904.478 1005.7,904.478 1008.93,904.478 1012.15,904.478 1015.35,904.478 1018.54,904.478 1021.71,904.478 1024.87,904.478 1028.01,904.478 1031.14,904.478 1034.25,904.478 1037.35,904.478 1040.43,904.478 1043.5,904.478 1046.55,904.478 1049.59,904.478 1052.62,904.478 1055.63,904.478 1058.63,904.478 1061.61,904.478 1064.58,904.478 1067.54,904.478 1070.48,904.478 1073.41,904.478 1076.33,904.478 1079.23,904.478 1082.12,904.478 1085,904.478 1087.86,904.478 1090.71,904.478 1093.55,904.478 1096.38,904.478 1099.19,904.478 1101.99,904.478 1104.78,904.478 1107.55,904.478 1110.32,904.478 1113.07,904.478 1115.81,904.478 1118.53,904.478 1121.25,904.478 1123.95,904.478 1126.64,904.478 1129.32,904.478 1131.99,904.478 1134.64,904.478 1137.29,904.478 1139.92,904.478 1142.54,904.478 1145.15,904.478 1147.75,904.478 1150.34,904.478 1152.91,904.478 1155.48,904.478 1158.03,904.478 1160.58,904.478 1163.11,904.478 1165.63,904.478 1168.14,904.478 1170.65,904.478 1173.14,904.478 1175.62,904.478 1178.09,904.478 1180.54,904.478 1182.99,904.478 1185.43,904.478 1187.86,904.478 1190.28,904.478 1192.69,904.478 1195.09,904.478 1197.48,904.478 1199.85,904.478 1202.22,904.478 1204.58,904.478 1206.93,904.478 1209.27,904.478 1211.6,904.478 1213.92,904.478 1216.23,904.478 1218.54,904.478 1220.83,904.478 1223.11,904.478 1225.39,904.478 1227.65,904.478 1229.91,904.478 1232.16,904.478 1234.39,904.478 1236.62,904.478 1238.84,904.478 1241.06,904.478 1243.26,904.478 1245.45,904.478 1247.64,904.478 1249.82,904.478 1251.98,904.478 1254.14,904.478 1256.29,904.478 1258.44,904.478 1260.57,904.478 1262.7,904.478 1264.82,904.478 1266.93,904.478 1269.03,904.478 1271.12,904.478 1273.21,904.478 1275.28,904.478 1277.35,904.478 1279.42,904.478 1281.47,904.478 1283.51,904.478 1285.55,904.478 1287.58,904.478 1289.61,904.478 1291.62,904.478 1293.63,904.478 1295.63,904.478 1297.62,904.478 1299.6,904.478 1301.58,904.478 1303.55,904.478 1305.51,904.478 1307.47,904.478 1309.42,904.478 1311.36,904.478 1313.29,904.478 1315.22,904.478 1317.13,904.478 1319.05,904.478 1320.95,904.478 1322.85,904.478 1324.74,904.478 1326.62,904.478 1328.5,904.478 1330.37,904.478 1332.23,904.478 1334.09,904.478 1335.94,904.478 1337.78,904.478 1339.62,904.478 1341.45,904.478 1343.27,904.478 1345.09,904.478 1346.9,904.478 1348.7,904.478 1350.5,904.478 1352.29,904.478 1354.08,904.478 1355.85,904.478 1357.63,904.478 1359.39,904.478 1361.15,904.478 1362.9,904.478 1364.65,904.478 1366.39,904.478 1368.13,904.478 1369.85,904.478 1371.58,904.478 1373.29,904.478 1375,904.478 1376.71,904.478 1378.41,904.478 1380.1,904.478 1381.79,904.478 1383.47,904.478 1385.14,904.478 1386.81,904.478 1388.47,904.478 1390.13,904.478 1391.78,904.478 1393.43,904.478 1395.07,904.478 1396.71,904.478 1398.34,904.478 1399.96,904.478 1401.58,904.478 1403.19,904.478 1404.8,904.478 1406.4,904.478 1408,904.478 1409.59,904.478 1411.18,904.478 1412.76,904.478 1414.33,904.478 1415.9,904.478 1417.47,904.478 1419.03,904.478 1420.58,904.478 1422.13,904.478 1423.67,904.478 1425.21,904.478 1426.75,904.478 1428.28,904.478 1429.8,904.478 1431.32,904.478 1432.83,904.478 1434.34,904.478 1435.85,904.478 1437.35,904.478 1438.84,904.478 1440.33,904.478 1441.81,904.478 1443.29,904.478 1444.77,904.478 1446.24,904.478 1447.7,904.478 1449.16,904.478 1450.62,904.478 1452.07,904.478 1453.52,904.478 1454.96,904.478 1456.4,904.478 1457.83,904.478 1459.26,904.478 1460.68,904.478 1462.1,904.478 1463.51,904.478 1464.92,904.478 1466.33,904.478 1467.73,904.478 1469.13,904.478 1470.52,904.478 1471.91,904.478 1473.29,904.478 1474.67,904.478 1476.04,904.478 1477.42,904.478 1478.78,904.478 1480.14,904.478 1481.5,904.478 1482.86,904.478 1484.2,904.478 1485.55,904.478 1486.89,904.478 1488.23,904.478 1489.56,904.478 1490.89,904.478 1492.21,904.478 1493.53,904.478 1494.85,904.478 1496.16,904.478 1497.47,904.478 1498.78,904.478 1500.08,904.478 1501.37,904.478 1502.67,904.478 1503.95,904.478 1505.24,904.478 1506.52,904.478 1507.8,904.478 1509.07,904.478 1510.34,904.478 1511.6,904.478 1512.87,904.478 1514.12,904.478 1515.38,904.478 1516.63,904.478 1517.88,904.478 1519.12,904.478 1520.36,904.478 1521.59,904.478 1522.83,904.478 1524.05,904.478 1525.28,904.478 1526.5,904.478 1527.72,904.478 1528.93,904.478 1530.14,904.478 1531.35,904.478 1532.55,904.478 1533.75,904.478 1534.95,904.478 1536.14,904.478 1537.33,904.478 1538.52,904.478 1539.7,904.478 1540.88,904.478 1542.05,904.478 1543.22,904.478 1544.39,904.478 1545.56,904.478 1546.72,904.478 1547.88,904.478 1549.03,904.478 1550.19,904.478 1551.33,904.478 1552.48,904.478 1553.62,904.478 1554.76,904.478 1555.9,904.478 1557.03,904.478 1558.16,904.478 1559.28,904.478 1560.41,904.478 1561.53,904.478 1562.64,904.478 1563.76,904.478 1564.87,904.478 1565.97,904.478 1567.08,904.478 1568.18,904.478 1569.28,904.478 1570.37,904.478 1571.46,904.478 1572.55,904.478 1573.64,904.478 1574.72,904.478 1575.8,904.478 1576.88,904.478 1577.95,904.478 1579.02,904.478 1580.09,904.478 1581.15,904.478 1582.22,904.478 1583.27,904.478 1584.33,904.478 1585.38,904.478 1586.43,904.478 1587.48,904.478 1588.53,904.478 1589.57,904.478 1590.61,904.478 1591.64,904.478 1592.68,904.478 1593.71,904.478 1594.73,904.478 1595.76,904.478 1596.78,904.478 1597.8,904.478 1598.82,904.478 1599.83,904.478 1600.84,904.478 1601.85,904.478 1602.85,904.478 1603.86,904.478 1604.86,904.478 1605.86,904.478 1606.85,904.478 1607.84,904.478 1608.83,904.478 1609.82,904.478 1610.8,904.478 1611.79,904.478 1612.77,904.478 1613.74,904.478 1614.72,904.478 1615.69,904.478 1616.66,904.478 1617.62,904.478 1618.59,904.478 1619.55,904.478 1620.51,904.478 1621.46,904.478 1622.42,904.478 1623.37,904.478 1624.32,904.478 1625.26,904.478 1626.21,904.478 1627.15,904.478 1628.09,904.478 1629.03,904.478 1629.96,904.478 1630.89,904.478 1631.82,904.478 1632.75,904.478 1633.67,904.478 1634.59,904.478 1635.51,904.478 1636.43,904.478 1637.35,904.478 1638.26,904.478 1639.17,904.478 1640.08,904.478 1640.99,904.478 1641.89,904.478 1642.79,904.478 1643.69,904.478 1644.59,904.478 1645.48,904.478 1646.37,904.478 1647.26,904.478 1648.15,904.478 1649.04,904.478 1649.92,904.478 1650.8,904.478 1651.68,904.478 1652.56,904.478 1653.43,904.478 1654.3,904.478 1655.17,904.478 1656.04,904.478 1656.91,904.478 1657.77,904.478 1658.63,904.478 1659.49,904.478 1660.35,904.478 1661.2,904.478 1662.06,904.478 1662.91,904.478 1663.76,904.478 1664.6,904.478 1665.45,904.478 1666.29,904.478 1667.13,904.478 1667.97,904.478 1668.81,904.478 1669.64,904.478 1670.47,904.478 1671.3,904.478 1672.13,904.478 1672.96,904.478 1673.78,904.478 1674.61,904.478 1675.43,904.478 1676.24,904.478 1677.06,904.478 1677.88,904.478 1678.69,904.478 1679.5,904.478 1680.31,904.478 1681.11,904.478 1681.92,904.478 1682.72,904.478 1683.52,904.478 1684.32,904.478 1685.12,904.478 1685.91,904.478 1686.71,904.478 1687.5,904.478 1688.29,904.478 1689.07,904.478 1689.86,904.478 1690.64,904.478 1691.43,904.478 1692.21,904.478 1692.98,904.478 1693.76,904.478 1694.54,904.478 1695.31,904.478 1696.08,904.478 1696.85,904.478 1697.62,904.478 1698.38,904.478 1699.15,904.478 1699.91,904.478 1700.67,904.478 1701.43,904.478 1702.18,904.478 1702.94,904.478 1703.69,904.478 1704.44,904.478 1705.19,904.478 1705.94,904.478 1706.69,904.478 1707.43,904.478 1708.17,904.478 1708.92,904.478 1709.66,904.478 1710.39,904.478 1711.13,904.478 1711.86,904.478 1712.6,904.478 1713.33,904.478 1714.06,904.478 1714.78,904.478 1715.51,904.478 1716.24,904.478 1716.96,904.478 1717.68,904.478 1718.4,904.478 1719.12,904.478 1719.83,904.478 1720.55,904.478 1721.26,904.478 1721.97,904.478 1722.68,904.478 1723.39,904.478 1724.1,904.478 1724.8,904.478 1725.5,904.478 1726.21,904.478 1726.91,904.478 1727.61,904.478 1728.3,904.478 1729,904.478 1729.69,904.478 1730.39,904.478 1731.08,904.478 1731.77,904.478 1732.45,904.478 1733.14,904.478 1733.83,904.478 1734.51,904.478 1735.19,904.478 1735.87,904.478 1736.55,904.478 1737.23,904.478 1737.9,904.478 1738.58,904.478 1739.25,904.478 1739.92,904.478 1740.59,904.478 1741.26,904.478 1741.93,904.478 1742.59,904.478 1743.26,904.478 1743.92,904.478 1744.58,904.478 1745.24,904.478 1745.9,904.478 1746.56,904.478 1747.21,904.478 1747.87,904.478 1748.52,904.478 1749.17,904.478 1749.82,904.478 1750.47,904.478 1751.12,904.478 1751.76,904.478 1752.41,904.478 1753.05,904.478 1753.69,904.478 1754.33,904.478 1754.97,904.478 1755.61,904.478 1756.24,904.478 1756.88,904.478 1757.51,904.478 1758.14,904.478 1758.77,904.478 1759.4,904.478 1760.03,904.478 1760.66,904.478 1761.28,904.478 1761.91,904.478 1762.53,904.478 1763.15,904.478 1763.77,904.478 1764.39,904.478 1765.01,904.478 1765.63,904.478 1766.24,904.478 1766.85,904.478 1767.47,904.478 1768.08,904.478 1768.69,904.478 1769.3,904.478 1769.9,904.478 1770.51,904.478 1771.12,904.478 1771.72,904.478 1772.32,904.478 1772.92,904.478 1773.52,904.478 1774.12,904.478 1774.72,904.478 1775.31,904.478 1775.91,904.478 1776.5,904.478 1777.1,904.478 1777.69,904.478 1778.28,904.478 1778.87,904.478 1779.45,904.478 1780.04,904.478 1780.62,904.478 1781.21,904.478 1781.79,904.478 1782.37,904.478 1782.95,904.478 1783.53,904.478 1784.11,904.478 1784.69,904.478 1785.26,904.478 1785.84,904.478 1786.41,904.478 1786.98,904.478 1787.55,904.478 1788.12,904.478 1788.69,904.478 1789.26,904.478 1789.83,904.478 1790.39,904.478 1790.96,904.478 1791.52,904.478 1792.08,904.478 1792.64,904.478 1793.2,904.478 1793.76,904.478 1794.32,904.478 1794.88,904.478 1795.43,904.478 1795.98,904.478 1796.54,904.478 1797.09,904.478 1797.64,904.478 1798.19,904.478 1798.74,904.478 1799.29,904.478 1799.83,904.478 1800.38,904.478 1800.92,904.478 1801.47,904.478 1802.01,904.478 1802.55,904.478 1803.09,904.478 1803.63,904.478 1804.17,904.478 1804.7,904.478 1805.24,904.478 1805.77,904.478 1806.31,904.478 1806.84,904.478 1807.37,904.478 1807.9,904.478 1808.43,904.478 1808.96,904.478 1809.49,904.478 1810.02,904.478 1810.54,904.478 1811.07,904.478 1811.59,904.478 1812.11,904.478 1812.63,904.478 1813.15,904.478 1813.67,904.478 1814.19,904.478 1814.71,904.478 1815.23,904.478 1815.74,904.478 1816.26,904.478 1816.77,904.478 1817.28,904.478 1817.79,904.478 1818.31,904.478 1818.81,904.478 1819.32,904.478 1819.83,904.478 1820.34,904.478 1820.84,904.478 1821.35,904.478 1821.85,904.478 1822.36,904.478 1822.86,904.478 1823.36,904.478 1823.86,904.478 1824.36,904.478 1824.86,904.478 1825.35,904.478 1825.85,904.478 1826.34,904.478 1826.84,904.478 1827.33,904.478 1827.83,904.478 \"/>\n",
       "<polyline clip-path=\"url(#clip272)\" style=\"stroke:#e26f46; stroke-linecap:round; stroke-linejoin:round; stroke-width:4; stroke-opacity:1; fill:none\" points=\"253.033,904.478 260.877,904.478 268.664,904.478 276.392,904.478 284.063,904.478 291.678,904.478 299.237,904.478 306.741,904.478 314.19,904.478 321.585,904.478 328.927,904.478 336.215,904.478 343.452,904.478 350.636,904.478 357.77,904.478 364.852,904.478 371.885,904.478 378.868,904.478 385.802,904.478 392.688,904.478 399.525,904.478 406.315,904.478 413.058,904.478 419.754,904.478 426.405,904.478 433.009,904.478 439.569,904.478 446.083,904.478 452.554,904.478 458.981,904.478 465.364,904.478 471.705,904.478 478.003,904.478 484.259,904.478 490.474,904.478 496.647,904.478 502.78,904.478 508.872,904.478 514.924,904.478 520.936,904.478 526.91,904.478 532.844,904.478 538.74,904.478 544.598,904.478 550.419,904.478 556.201,904.478 561.947,904.478 567.657,904.478 573.33,904.478 578.967,904.478 584.568,904.478 590.134,904.478 595.666,904.478 601.162,904.478 606.625,904.478 612.053,904.478 617.448,904.478 622.809,904.478 628.137,904.478 633.433,904.478 638.696,904.478 643.927,904.478 649.127,904.478 654.294,904.478 659.431,904.478 664.536,904.478 669.611,904.478 674.656,904.478 679.67,904.478 684.654,904.478 689.609,904.478 694.534,904.478 699.431,904.478 704.298,904.478 709.137,904.478 713.948,904.478 718.73,904.478 723.485,904.478 728.212,904.478 732.912,904.478 737.584,904.478 742.23,904.478 746.849,904.478 751.442,904.478 756.008,904.478 760.549,904.478 765.064,904.478 769.553,904.478 774.017,904.478 778.456,904.478 782.87,904.478 787.259,904.478 791.624,904.478 795.964,904.478 800.28,904.478 804.573,904.478 808.842,904.478 813.087,904.478 817.309,904.478 821.509,904.478 825.685,904.478 829.838,904.478 833.969,904.478 838.077,904.478 842.164,904.478 846.228,904.478 850.271,904.478 854.292,904.478 858.291,904.478 862.269,904.478 866.226,904.478 870.162,904.478 874.078,904.478 877.972,904.478 881.847,904.478 885.701,904.478 889.534,904.478 893.348,904.478 897.142,904.478 900.916,904.478 904.671,904.478 908.406,904.478 912.123,904.478 915.82,904.478 919.498,904.478 923.157,904.478 926.798,904.478 930.42,904.478 934.024,904.478 937.61,904.478 941.177,904.478 944.727,904.478 948.259,904.478 951.773,904.478 955.27,904.478 958.749,904.478 962.211,904.478 965.656,904.478 969.083,904.478 972.494,904.478 975.888,904.478 979.266,904.478 982.627,904.478 985.971,904.478 989.299,904.478 992.611,904.478 995.907,904.478 999.187,904.478 1002.45,904.478 1005.7,904.478 1008.93,904.478 1012.15,904.478 1015.35,904.478 1018.54,904.478 1021.71,904.478 1024.87,904.478 1028.01,904.478 1031.14,904.478 1034.25,904.478 1037.35,904.478 1040.43,904.478 1043.5,904.478 1046.55,904.478 1049.59,904.478 1052.62,904.478 1055.63,904.478 1058.63,904.478 1061.61,904.478 1064.58,904.478 1067.54,904.478 1070.48,904.478 1073.41,904.478 1076.33,904.478 1079.23,904.478 1082.12,904.478 1085,904.478 1087.86,904.478 1090.71,904.478 1093.55,904.478 1096.38,904.478 1099.19,904.478 1101.99,904.478 1104.78,904.478 1107.55,904.478 1110.32,904.478 1113.07,904.478 1115.81,904.478 1118.53,904.478 1121.25,904.478 1123.95,904.478 1126.64,904.478 1129.32,904.478 1131.99,904.478 1134.64,904.478 1137.29,904.478 1139.92,904.478 1142.54,904.478 1145.15,904.478 1147.75,904.478 1150.34,904.478 1152.91,904.478 1155.48,904.478 1158.03,904.478 1160.58,904.478 1163.11,904.478 1165.63,904.478 1168.14,904.478 1170.65,904.478 1173.14,904.478 1175.62,904.478 1178.09,904.478 1180.54,904.478 1182.99,904.478 1185.43,904.478 1187.86,904.478 1190.28,904.478 1192.69,904.478 1195.09,904.478 1197.48,904.478 1199.85,904.478 1202.22,904.478 1204.58,904.478 1206.93,904.478 1209.27,904.478 1211.6,904.478 1213.92,904.478 1216.23,904.478 1218.54,904.478 1220.83,904.478 1223.11,904.478 1225.39,904.478 1227.65,904.478 1229.91,904.478 1232.16,904.478 1234.39,904.478 1236.62,904.478 1238.84,904.478 1241.06,904.478 1243.26,904.478 1245.45,904.478 1247.64,904.478 1249.82,904.478 1251.98,904.478 1254.14,904.478 1256.29,904.478 1258.44,904.478 1260.57,904.478 1262.7,904.478 1264.82,904.478 1266.93,904.478 1269.03,904.478 1271.12,904.478 1273.21,904.478 1275.28,904.478 1277.35,904.478 1279.42,904.478 1281.47,904.478 1283.51,904.478 1285.55,904.478 1287.58,904.478 1289.61,904.478 1291.62,904.478 1293.63,904.478 1295.63,904.478 1297.62,904.478 1299.6,904.478 1301.58,904.478 1303.55,904.478 1305.51,904.478 1307.47,904.478 1309.42,904.478 1311.36,904.478 1313.29,904.478 1315.22,904.478 1317.13,904.478 1319.05,904.478 1320.95,904.478 1322.85,904.478 1324.74,904.478 1326.62,904.478 1328.5,904.478 1330.37,904.478 1332.23,904.478 1334.09,904.478 1335.94,904.478 1337.78,904.478 1339.62,904.478 1341.45,904.478 1343.27,904.478 1345.09,904.478 1346.9,904.478 1348.7,904.478 1350.5,904.478 1352.29,904.478 1354.08,904.478 1355.85,904.478 1357.63,904.478 1359.39,904.478 1361.15,904.478 1362.9,904.478 1364.65,904.478 1366.39,904.478 1368.13,904.478 1369.85,904.478 1371.58,904.478 1373.29,904.478 1375,904.478 1376.71,904.478 1378.41,904.478 1380.1,904.478 1381.79,904.478 1383.47,904.478 1385.14,904.478 1386.81,904.478 1388.47,904.478 1390.13,904.478 1391.78,904.478 1393.43,904.478 1395.07,904.478 1396.71,904.478 1398.34,904.478 1399.96,904.478 1401.58,904.478 1403.19,904.478 1404.8,904.478 1406.4,904.478 1408,904.478 1409.59,904.478 1411.18,904.478 1412.76,904.478 1414.33,904.478 1415.9,904.478 1417.47,904.478 1419.03,904.478 1420.58,904.478 1422.13,904.478 1423.67,904.478 1425.21,904.478 1426.75,904.478 1428.28,904.478 1429.8,904.478 1431.32,904.478 1432.83,904.478 1434.34,904.478 1435.85,904.478 1437.35,904.478 1438.84,904.478 1440.33,904.478 1441.81,904.478 1443.29,904.478 1444.77,904.478 1446.24,904.478 1447.7,904.478 1449.16,904.478 1450.62,904.478 1452.07,904.478 1453.52,904.478 1454.96,904.478 1456.4,904.478 1457.83,904.478 1459.26,904.478 1460.68,904.478 1462.1,904.478 1463.51,904.478 1464.92,904.478 1466.33,904.478 1467.73,904.478 1469.13,904.478 1470.52,904.478 1471.91,904.478 1473.29,904.478 1474.67,904.478 1476.04,904.478 1477.42,904.478 1478.78,904.478 1480.14,904.478 1481.5,904.478 1482.86,904.478 1484.2,904.478 1485.55,904.478 1486.89,904.478 1488.23,904.478 1489.56,904.478 1490.89,904.478 1492.21,904.478 1493.53,904.478 1494.85,904.478 1496.16,904.478 1497.47,904.478 1498.78,904.478 1500.08,904.478 1501.37,904.478 1502.67,904.478 1503.95,904.478 1505.24,904.478 1506.52,904.478 1507.8,904.478 1509.07,904.478 1510.34,904.478 1511.6,904.478 1512.87,904.478 1514.12,904.478 1515.38,904.478 1516.63,904.478 1517.88,904.478 1519.12,904.478 1520.36,904.478 1521.59,904.478 1522.83,904.478 1524.05,904.478 1525.28,904.478 1526.5,904.478 1527.72,904.478 1528.93,904.478 1530.14,904.478 1531.35,904.478 1532.55,904.478 1533.75,904.478 1534.95,904.478 1536.14,904.478 1537.33,904.478 1538.52,904.478 1539.7,904.478 1540.88,904.478 1542.05,904.478 1543.22,904.478 1544.39,904.478 1545.56,904.478 1546.72,904.478 1547.88,904.478 1549.03,904.478 1550.19,904.478 1551.33,904.478 1552.48,904.478 1553.62,904.478 1554.76,904.478 1555.9,904.478 1557.03,904.478 1558.16,904.478 1559.28,904.478 1560.41,904.478 1561.53,904.478 1562.64,904.478 1563.76,904.478 1564.87,904.478 1565.97,904.478 1567.08,904.478 1568.18,904.478 1569.28,904.478 1570.37,904.478 1571.46,904.478 1572.55,904.478 1573.64,904.478 1574.72,904.478 1575.8,904.478 1576.88,904.478 1577.95,904.478 1579.02,904.478 1580.09,904.478 1581.15,904.478 1582.22,904.478 1583.27,904.478 1584.33,904.478 1585.38,904.478 1586.43,904.478 1587.48,904.478 1588.53,904.478 1589.57,904.478 1590.61,904.478 1591.64,904.478 1592.68,904.478 1593.71,904.478 1594.73,904.478 1595.76,904.478 1596.78,904.478 1597.8,904.478 1598.82,904.478 1599.83,904.478 1600.84,904.478 1601.85,904.478 1602.85,904.478 1603.86,904.478 1604.86,904.478 1605.86,904.478 1606.85,904.478 1607.84,904.478 1608.83,904.478 1609.82,904.478 1610.8,904.478 1611.79,904.478 1612.77,904.478 1613.74,904.478 1614.72,904.478 1615.69,904.478 1616.66,904.478 1617.62,904.478 1618.59,904.478 1619.55,904.478 1620.51,904.478 1621.46,904.478 1622.42,904.478 1623.37,904.478 1624.32,904.478 1625.26,904.478 1626.21,904.478 1627.15,904.478 1628.09,904.478 1629.03,904.478 1629.96,904.478 1630.89,904.478 1631.82,904.478 1632.75,904.478 1633.67,904.478 1634.59,904.478 1635.51,904.478 1636.43,904.478 1637.35,904.478 1638.26,904.478 1639.17,904.478 1640.08,904.478 1640.99,904.478 1641.89,904.478 1642.79,904.478 1643.69,904.478 1644.59,904.478 1645.48,904.478 1646.37,904.478 1647.26,904.478 1648.15,904.478 1649.04,904.478 1649.92,904.478 1650.8,904.478 1651.68,904.478 1652.56,904.478 1653.43,904.478 1654.3,904.478 1655.17,904.478 1656.04,904.478 1656.91,904.478 1657.77,904.478 1658.63,904.478 1659.49,904.478 1660.35,904.478 1661.2,904.478 1662.06,904.478 1662.91,904.478 1663.76,904.478 1664.6,904.478 1665.45,904.478 1666.29,904.478 1667.13,904.478 1667.97,904.478 1668.81,904.478 1669.64,904.478 1670.47,904.478 1671.3,904.478 1672.13,904.478 1672.96,904.478 1673.78,904.478 1674.61,904.478 1675.43,904.478 1676.24,904.478 1677.06,904.478 1677.88,904.478 1678.69,904.478 1679.5,904.478 1680.31,904.478 1681.11,904.478 1681.92,904.478 1682.72,904.478 1683.52,904.478 1684.32,904.478 1685.12,904.478 1685.91,904.478 1686.71,904.478 1687.5,904.478 1688.29,904.478 1689.07,904.478 1689.86,904.478 1690.64,904.478 1691.43,904.478 1692.21,904.478 1692.98,904.478 1693.76,904.478 1694.54,904.478 1695.31,904.478 1696.08,904.478 1696.85,904.478 1697.62,904.478 1698.38,904.478 1699.15,904.478 1699.91,904.478 1700.67,904.478 1701.43,904.478 1702.18,904.478 1702.94,904.478 1703.69,904.478 1704.44,904.478 1705.19,904.478 1705.94,904.478 1706.69,904.478 1707.43,904.478 1708.17,904.478 1708.92,904.478 1709.66,904.478 1710.39,904.478 1711.13,904.478 1711.86,904.478 1712.6,904.478 1713.33,904.478 1714.06,904.478 1714.78,904.478 1715.51,904.478 1716.24,904.478 1716.96,904.478 1717.68,904.478 1718.4,904.478 1719.12,904.478 1719.83,904.478 1720.55,904.478 1721.26,904.478 1721.97,904.478 1722.68,904.478 1723.39,904.478 1724.1,904.478 1724.8,904.478 1725.5,904.478 1726.21,904.478 1726.91,904.478 1727.61,904.478 1728.3,904.478 1729,904.478 1729.69,904.478 1730.39,904.478 1731.08,904.478 1731.77,904.478 1732.45,904.478 1733.14,904.478 1733.83,904.478 1734.51,904.478 1735.19,904.478 1735.87,904.478 1736.55,904.478 1737.23,904.478 1737.9,904.478 1738.58,904.478 1739.25,904.478 1739.92,904.478 1740.59,904.478 1741.26,904.478 1741.93,904.478 1742.59,904.478 1743.26,904.478 1743.92,904.478 1744.58,904.478 1745.24,904.478 1745.9,904.478 1746.56,904.478 1747.21,904.478 1747.87,904.478 1748.52,904.478 1749.17,904.478 1749.82,904.478 1750.47,904.478 1751.12,904.478 1751.76,904.478 1752.41,904.478 1753.05,904.478 1753.69,904.478 1754.33,904.478 1754.97,904.478 1755.61,904.478 1756.24,904.478 1756.88,904.478 1757.51,904.478 1758.14,904.478 1758.77,904.478 1759.4,904.478 1760.03,904.478 1760.66,904.478 1761.28,904.478 1761.91,904.478 1762.53,904.478 1763.15,904.478 1763.77,904.478 1764.39,904.478 1765.01,904.478 1765.63,904.478 1766.24,904.478 1766.85,904.478 1767.47,904.478 1768.08,904.478 1768.69,904.478 1769.3,904.478 1769.9,904.478 1770.51,904.478 1771.12,904.478 1771.72,904.478 1772.32,904.478 1772.92,904.478 1773.52,904.478 1774.12,904.478 1774.72,904.478 1775.31,904.478 1775.91,904.478 1776.5,904.478 1777.1,904.478 1777.69,904.478 1778.28,904.478 1778.87,904.478 1779.45,904.478 1780.04,904.478 1780.62,904.478 1781.21,904.478 1781.79,904.478 1782.37,904.478 1782.95,904.478 1783.53,904.478 1784.11,904.478 1784.69,904.478 1785.26,904.478 1785.84,904.478 1786.41,904.478 1786.98,904.478 1787.55,904.478 1788.12,904.478 1788.69,904.478 1789.26,904.478 1789.83,904.478 1790.39,904.478 1790.96,904.478 1791.52,904.478 1792.08,904.478 1792.64,904.478 1793.2,904.478 1793.76,904.478 1794.32,904.478 1794.88,904.478 1795.43,904.478 1795.98,904.478 1796.54,904.478 1797.09,904.478 1797.64,904.478 1798.19,904.478 1798.74,904.478 1799.29,904.478 1799.83,904.478 1800.38,904.478 1800.92,904.478 1801.47,904.478 1802.01,904.478 1802.55,904.478 1803.09,904.478 1803.63,904.478 1804.17,904.478 1804.7,904.478 1805.24,904.478 1805.77,904.478 1806.31,904.478 1806.84,904.478 1807.37,904.478 1807.9,904.478 1808.43,904.478 1808.96,904.478 1809.49,904.478 1810.02,904.478 1810.54,904.478 1811.07,904.478 1811.59,904.478 1812.11,904.478 1812.63,904.478 1813.15,904.478 1813.67,904.478 1814.19,904.478 1814.71,904.478 1815.23,904.478 1815.74,904.478 1816.26,904.478 1816.77,904.478 1817.28,904.478 1817.79,904.478 1818.31,904.478 1818.81,904.478 1819.32,904.478 1819.83,904.478 1820.34,904.478 1820.84,904.478 1821.35,904.478 1821.85,904.478 1822.36,904.478 1822.86,904.478 1823.36,904.478 1823.86,904.478 1824.36,904.478 1824.86,904.478 1825.35,904.478 1825.85,904.478 1826.34,904.478 1826.84,904.478 1827.33,904.478 1827.83,904.478 \"/>\n",
       "<polyline clip-path=\"url(#clip272)\" style=\"stroke:#3da44d; stroke-linecap:round; stroke-linejoin:round; stroke-width:4; stroke-opacity:1; fill:none\" points=\"253.033,904.478 260.877,904.478 268.664,904.478 276.392,904.478 284.063,904.478 291.678,904.478 299.237,904.478 306.741,904.478 314.19,904.478 321.585,904.478 328.927,904.478 336.215,904.478 343.452,904.478 350.636,904.478 357.77,904.478 364.852,904.478 371.885,904.478 378.868,904.478 385.802,904.478 392.688,904.478 399.525,904.478 406.315,904.478 413.058,904.478 419.754,904.478 426.405,904.478 433.009,904.478 439.569,904.478 446.083,904.478 452.554,904.478 458.981,904.478 465.364,904.478 471.705,904.478 478.003,904.478 484.259,904.478 490.474,904.478 496.647,904.478 502.78,904.478 508.872,904.478 514.924,904.478 520.936,904.478 526.91,904.478 532.844,904.478 538.74,904.478 544.598,904.478 550.419,904.478 556.201,904.478 561.947,904.478 567.657,904.478 573.33,904.478 578.967,904.478 584.568,904.478 590.134,904.478 595.666,904.478 601.162,904.478 606.625,904.478 612.053,904.478 617.448,904.478 622.809,904.478 628.137,904.478 633.433,904.478 638.696,904.478 643.927,904.478 649.127,904.478 654.294,904.478 659.431,904.478 664.536,904.478 669.611,904.478 674.656,904.478 679.67,904.478 684.654,904.478 689.609,904.478 694.534,904.478 699.431,904.478 704.298,904.478 709.137,904.478 713.948,904.478 718.73,904.478 723.485,904.478 728.212,904.478 732.912,904.478 737.584,904.478 742.23,904.478 746.849,904.478 751.442,904.478 756.008,904.478 760.549,904.478 765.064,904.478 769.553,904.478 774.017,904.478 778.456,904.478 782.87,904.478 787.259,904.478 791.624,904.478 795.964,904.478 800.28,904.478 804.573,904.478 808.842,904.478 813.087,904.478 817.309,904.478 821.509,904.478 825.685,904.478 829.838,904.478 833.969,904.478 838.077,904.478 842.164,904.478 846.228,904.478 850.271,904.478 854.292,904.478 858.291,904.478 862.269,904.478 866.226,904.478 870.162,904.478 874.078,904.478 877.972,904.478 881.847,904.478 885.701,904.478 889.534,904.478 893.348,904.478 897.142,904.478 900.916,904.478 904.671,904.478 908.406,904.478 912.123,904.478 915.82,904.478 919.498,904.478 923.157,904.478 926.798,904.478 930.42,904.478 934.024,904.478 937.61,904.478 941.177,904.478 944.727,904.478 948.259,904.478 951.773,904.478 955.27,904.478 958.749,904.478 962.211,904.478 965.656,904.478 969.083,904.478 972.494,904.478 975.888,904.478 979.266,904.478 982.627,904.478 985.971,904.478 989.299,904.478 992.611,904.478 995.907,904.478 999.187,904.478 1002.45,904.478 1005.7,904.478 1008.93,904.478 1012.15,904.478 1015.35,904.478 1018.54,904.478 1021.71,904.478 1024.87,904.478 1028.01,904.478 1031.14,904.478 1034.25,904.478 1037.35,904.478 1040.43,904.478 1043.5,904.478 1046.55,904.478 1049.59,904.478 1052.62,904.478 1055.63,904.478 1058.63,904.478 1061.61,904.478 1064.58,904.478 1067.54,904.478 1070.48,904.478 1073.41,904.478 1076.33,904.478 1079.23,904.478 1082.12,904.478 1085,904.478 1087.86,904.478 1090.71,904.478 1093.55,904.478 1096.38,904.478 1099.19,904.478 1101.99,904.478 1104.78,904.478 1107.55,904.478 1110.32,904.478 1113.07,904.478 1115.81,904.478 1118.53,904.478 1121.25,904.478 1123.95,904.478 1126.64,904.478 1129.32,904.478 1131.99,904.478 1134.64,904.478 1137.29,904.478 1139.92,904.478 1142.54,904.478 1145.15,904.478 1147.75,904.478 1150.34,904.478 1152.91,904.478 1155.48,904.478 1158.03,904.478 1160.58,904.478 1163.11,904.478 1165.63,904.478 1168.14,904.478 1170.65,904.478 1173.14,904.478 1175.62,904.478 1178.09,904.478 1180.54,904.478 1182.99,904.478 1185.43,904.478 1187.86,904.478 1190.28,904.478 1192.69,904.478 1195.09,904.478 1197.48,904.478 1199.85,904.478 1202.22,904.478 1204.58,904.478 1206.93,904.478 1209.27,904.478 1211.6,904.478 1213.92,904.478 1216.23,904.478 1218.54,904.478 1220.83,904.478 1223.11,904.478 1225.39,904.478 1227.65,904.478 1229.91,904.478 1232.16,904.478 1234.39,904.478 1236.62,904.478 1238.84,904.478 1241.06,904.478 1243.26,904.478 1245.45,904.478 1247.64,904.478 1249.82,904.478 1251.98,904.478 1254.14,904.478 1256.29,904.478 1258.44,904.478 1260.57,904.478 1262.7,904.478 1264.82,904.478 1266.93,904.478 1269.03,904.478 1271.12,904.478 1273.21,904.478 1275.28,904.478 1277.35,904.478 1279.42,904.478 1281.47,904.478 1283.51,904.478 1285.55,904.478 1287.58,904.478 1289.61,904.478 1291.62,904.478 1293.63,904.478 1295.63,904.478 1297.62,904.478 1299.6,904.478 1301.58,904.478 1303.55,904.478 1305.51,904.478 1307.47,904.478 1309.42,904.478 1311.36,904.478 1313.29,904.478 1315.22,904.478 1317.13,904.478 1319.05,904.478 1320.95,904.478 1322.85,904.478 1324.74,904.478 1326.62,904.478 1328.5,904.478 1330.37,904.478 1332.23,904.478 1334.09,904.478 1335.94,904.478 1337.78,904.478 1339.62,904.478 1341.45,904.478 1343.27,904.478 1345.09,904.478 1346.9,904.478 1348.7,904.478 1350.5,904.478 1352.29,904.478 1354.08,904.478 1355.85,904.478 1357.63,904.478 1359.39,904.478 1361.15,904.478 1362.9,904.478 1364.65,904.478 1366.39,904.478 1368.13,904.478 1369.85,904.478 1371.58,904.478 1373.29,904.478 1375,904.478 1376.71,904.478 1378.41,904.478 1380.1,904.478 1381.79,904.478 1383.47,904.478 1385.14,904.478 1386.81,904.478 1388.47,904.478 1390.13,904.478 1391.78,904.478 1393.43,904.478 1395.07,904.478 1396.71,904.478 1398.34,904.478 1399.96,904.478 1401.58,904.478 1403.19,904.478 1404.8,904.478 1406.4,904.478 1408,904.478 1409.59,904.478 1411.18,904.478 1412.76,904.478 1414.33,904.478 1415.9,904.478 1417.47,904.478 1419.03,904.478 1420.58,904.478 1422.13,904.478 1423.67,904.478 1425.21,904.478 1426.75,904.478 1428.28,904.478 1429.8,904.478 1431.32,904.478 1432.83,904.478 1434.34,904.478 1435.85,904.478 1437.35,904.478 1438.84,904.478 1440.33,904.478 1441.81,904.478 1443.29,904.478 1444.77,904.478 1446.24,904.478 1447.7,904.478 1449.16,904.478 1450.62,904.478 1452.07,904.478 1453.52,904.478 1454.96,904.478 1456.4,904.478 1457.83,904.478 1459.26,904.478 1460.68,904.478 1462.1,904.478 1463.51,904.478 1464.92,904.478 1466.33,904.478 1467.73,904.478 1469.13,904.478 1470.52,904.478 1471.91,904.478 1473.29,904.478 1474.67,904.478 1476.04,904.478 1477.42,904.478 1478.78,904.478 1480.14,904.478 1481.5,904.478 1482.86,904.478 1484.2,904.478 1485.55,904.478 1486.89,904.478 1488.23,904.478 1489.56,904.478 1490.89,904.478 1492.21,904.478 1493.53,904.478 1494.85,904.478 1496.16,904.478 1497.47,904.478 1498.78,904.478 1500.08,904.478 1501.37,904.478 1502.67,904.478 1503.95,904.478 1505.24,904.478 1506.52,904.478 1507.8,904.478 1509.07,904.478 1510.34,904.478 1511.6,904.478 1512.87,904.478 1514.12,904.478 1515.38,904.478 1516.63,904.478 1517.88,904.478 1519.12,904.478 1520.36,904.478 1521.59,904.478 1522.83,904.478 1524.05,904.478 1525.28,904.478 1526.5,904.478 1527.72,904.478 1528.93,904.478 1530.14,904.478 1531.35,904.478 1532.55,904.478 1533.75,904.478 1534.95,904.478 1536.14,904.478 1537.33,904.478 1538.52,904.478 1539.7,904.478 1540.88,904.478 1542.05,904.478 1543.22,904.478 1544.39,904.478 1545.56,904.478 1546.72,904.478 1547.88,904.478 1549.03,904.478 1550.19,904.478 1551.33,904.478 1552.48,904.478 1553.62,904.478 1554.76,904.478 1555.9,904.478 1557.03,904.478 1558.16,904.478 1559.28,904.478 1560.41,904.478 1561.53,904.478 1562.64,904.478 1563.76,904.478 1564.87,904.478 1565.97,904.478 1567.08,904.478 1568.18,904.478 1569.28,904.478 1570.37,904.478 1571.46,904.478 1572.55,904.478 1573.64,904.478 1574.72,904.478 1575.8,904.478 1576.88,904.478 1577.95,904.478 1579.02,904.478 1580.09,904.478 1581.15,904.478 1582.22,904.478 1583.27,904.478 1584.33,904.478 1585.38,904.478 1586.43,904.478 1587.48,904.478 1588.53,904.478 1589.57,904.478 1590.61,904.478 1591.64,904.478 1592.68,904.478 1593.71,904.478 1594.73,904.478 1595.76,904.478 1596.78,904.478 1597.8,904.478 1598.82,904.478 1599.83,904.478 1600.84,904.478 1601.85,904.478 1602.85,904.478 1603.86,904.478 1604.86,904.478 1605.86,904.478 1606.85,904.478 1607.84,904.478 1608.83,904.478 1609.82,904.478 1610.8,904.478 1611.79,904.478 1612.77,904.478 1613.74,904.478 1614.72,904.478 1615.69,904.478 1616.66,904.478 1617.62,904.478 1618.59,904.478 1619.55,904.478 1620.51,904.478 1621.46,904.478 1622.42,904.478 1623.37,904.478 1624.32,904.478 1625.26,904.478 1626.21,904.478 1627.15,904.478 1628.09,904.478 1629.03,904.478 1629.96,904.478 1630.89,904.478 1631.82,904.478 1632.75,904.478 1633.67,904.478 1634.59,904.478 1635.51,904.478 1636.43,904.478 1637.35,904.478 1638.26,904.478 1639.17,904.478 1640.08,904.478 1640.99,904.478 1641.89,904.478 1642.79,904.478 1643.69,904.478 1644.59,904.478 1645.48,904.478 1646.37,904.478 1647.26,904.478 1648.15,904.478 1649.04,904.478 1649.92,904.478 1650.8,904.478 1651.68,904.478 1652.56,904.478 1653.43,904.478 1654.3,904.478 1655.17,904.478 1656.04,904.478 1656.91,904.478 1657.77,904.478 1658.63,904.478 1659.49,904.478 1660.35,904.478 1661.2,904.478 1662.06,904.478 1662.91,904.478 1663.76,904.478 1664.6,904.478 1665.45,904.478 1666.29,904.478 1667.13,904.478 1667.97,904.478 1668.81,904.478 1669.64,904.478 1670.47,904.478 1671.3,904.478 1672.13,904.478 1672.96,904.478 1673.78,904.478 1674.61,904.478 1675.43,904.478 1676.24,904.478 1677.06,904.478 1677.88,904.478 1678.69,904.478 1679.5,904.478 1680.31,904.478 1681.11,904.478 1681.92,904.478 1682.72,904.478 1683.52,904.478 1684.32,904.478 1685.12,904.478 1685.91,904.478 1686.71,904.478 1687.5,904.478 1688.29,904.478 1689.07,904.478 1689.86,904.478 1690.64,904.478 1691.43,904.478 1692.21,904.478 1692.98,904.478 1693.76,904.478 1694.54,904.478 1695.31,904.478 1696.08,904.478 1696.85,904.478 1697.62,904.478 1698.38,904.478 1699.15,904.478 1699.91,904.478 1700.67,904.478 1701.43,904.478 1702.18,904.478 1702.94,904.478 1703.69,904.478 1704.44,904.478 1705.19,904.478 1705.94,904.478 1706.69,904.478 1707.43,904.478 1708.17,904.478 1708.92,904.478 1709.66,904.478 1710.39,904.478 1711.13,904.478 1711.86,904.478 1712.6,904.478 1713.33,904.478 1714.06,904.478 1714.78,904.478 1715.51,904.478 1716.24,904.478 1716.96,904.478 1717.68,904.478 1718.4,904.478 1719.12,904.478 1719.83,904.478 1720.55,904.478 1721.26,904.478 1721.97,904.478 1722.68,904.478 1723.39,904.478 1724.1,904.478 1724.8,904.478 1725.5,904.478 1726.21,904.478 1726.91,904.478 1727.61,904.478 1728.3,904.478 1729,904.478 1729.69,904.478 1730.39,904.478 1731.08,904.478 1731.77,904.478 1732.45,904.478 1733.14,904.478 1733.83,904.478 1734.51,904.478 1735.19,904.478 1735.87,904.478 1736.55,904.478 1737.23,904.478 1737.9,904.478 1738.58,904.478 1739.25,904.478 1739.92,904.478 1740.59,904.478 1741.26,904.478 1741.93,904.478 1742.59,904.478 1743.26,904.478 1743.92,904.478 1744.58,904.478 1745.24,904.478 1745.9,904.478 1746.56,904.478 1747.21,904.478 1747.87,904.478 1748.52,904.478 1749.17,904.478 1749.82,904.478 1750.47,904.478 1751.12,904.478 1751.76,904.478 1752.41,904.478 1753.05,904.478 1753.69,904.478 1754.33,904.478 1754.97,904.478 1755.61,904.478 1756.24,904.478 1756.88,904.478 1757.51,904.478 1758.14,904.478 1758.77,904.478 1759.4,904.478 1760.03,904.478 1760.66,904.478 1761.28,904.478 1761.91,904.478 1762.53,904.478 1763.15,904.478 1763.77,904.478 1764.39,904.478 1765.01,904.478 1765.63,904.478 1766.24,904.478 1766.85,904.478 1767.47,904.478 1768.08,904.478 1768.69,904.478 1769.3,904.478 1769.9,904.478 1770.51,904.478 1771.12,904.478 1771.72,904.478 1772.32,904.478 1772.92,904.478 1773.52,904.478 1774.12,904.478 1774.72,904.478 1775.31,904.478 1775.91,904.478 1776.5,904.478 1777.1,904.478 1777.69,904.478 1778.28,904.478 1778.87,904.478 1779.45,904.478 1780.04,904.478 1780.62,904.478 1781.21,904.478 1781.79,904.478 1782.37,904.478 1782.95,904.478 1783.53,904.478 1784.11,904.478 1784.69,904.478 1785.26,904.478 1785.84,904.478 1786.41,904.478 1786.98,904.478 1787.55,904.478 1788.12,904.478 1788.69,904.478 1789.26,904.478 1789.83,904.478 1790.39,904.478 1790.96,904.478 1791.52,904.478 1792.08,904.478 1792.64,904.478 1793.2,904.478 1793.76,904.478 1794.32,904.478 1794.88,904.478 1795.43,904.478 1795.98,904.478 1796.54,904.478 1797.09,904.478 1797.64,904.478 1798.19,904.478 1798.74,904.478 1799.29,904.478 1799.83,904.478 1800.38,904.478 1800.92,904.478 1801.47,904.478 1802.01,904.478 1802.55,904.478 1803.09,904.478 1803.63,904.478 1804.17,904.478 1804.7,904.478 1805.24,904.478 1805.77,904.478 1806.31,904.478 1806.84,904.478 1807.37,904.478 1807.9,904.478 1808.43,904.478 1808.96,904.478 1809.49,904.478 1810.02,904.478 1810.54,904.478 1811.07,904.478 1811.59,904.478 1812.11,904.478 1812.63,904.478 1813.15,904.478 1813.67,904.478 1814.19,904.478 1814.71,904.478 1815.23,904.478 1815.74,904.478 1816.26,904.478 1816.77,904.478 1817.28,904.478 1817.79,904.478 1818.31,904.478 1818.81,904.478 1819.32,904.478 1819.83,904.478 1820.34,904.478 1820.84,904.478 1821.35,904.478 1821.85,904.478 1822.36,904.478 1822.86,904.478 1823.36,904.478 1823.86,904.478 1824.36,904.478 1824.86,904.478 1825.35,904.478 1825.85,904.478 1826.34,904.478 1826.84,904.478 1827.33,904.478 1827.83,904.478 \"/>\n",
       "<polyline clip-path=\"url(#clip272)\" style=\"stroke:#c271d2; stroke-linecap:round; stroke-linejoin:round; stroke-width:4; stroke-opacity:1; fill:none\" points=\"253.033,904.478 260.877,904.478 268.664,904.478 276.392,904.477 284.063,904.477 291.678,904.477 299.237,904.476 306.741,904.475 314.19,904.473 321.585,904.471 328.927,904.467 336.215,904.462 343.452,904.455 350.636,904.446 357.77,904.433 364.852,904.416 371.885,904.393 378.868,904.365 385.802,904.328 392.688,904.281 399.525,904.222 406.315,904.149 413.058,904.059 419.754,903.949 426.405,903.814 433.009,903.652 439.569,903.457 446.083,903.224 452.554,902.949 458.981,902.624 465.364,902.243 471.705,901.798 478.003,901.283 484.259,900.688 490.474,900.005 496.647,899.224 502.78,898.335 508.872,897.328 514.924,896.192 520.936,894.916 526.91,893.489 532.844,891.898 538.74,890.133 544.598,888.182 550.419,886.032 556.201,883.674 561.947,881.094 567.657,878.284 573.33,875.232 578.967,871.93 584.568,868.368 590.134,864.54 595.666,860.438 601.162,856.058 606.625,851.395 612.053,846.445 617.448,841.21 622.809,835.687 628.137,829.881 633.433,823.795 638.696,817.434 643.927,810.806 649.127,803.92 654.294,796.789 659.431,789.425 664.536,781.844 669.611,774.062 674.656,766.1 679.67,757.977 684.654,749.716 689.609,741.341 694.534,732.878 699.431,724.353 704.298,715.795 709.137,707.233 713.948,698.698 718.73,690.22 723.485,681.83 728.212,673.562 732.912,665.448 737.584,657.519 742.23,649.809 746.849,642.349 751.442,635.172 756.008,628.307 760.549,621.786 765.064,615.638 769.553,609.89 774.017,604.571 778.456,599.704 782.87,595.315 787.259,591.424 791.624,588.053 795.964,585.221 800.28,582.943 804.573,581.234 808.842,580.106 813.087,579.57 817.309,579.634 821.509,580.304 825.685,581.582 829.838,583.471 833.969,585.97 838.077,589.075 842.164,592.781 846.228,597.082 850.271,601.968 854.292,607.428 858.291,613.449 862.269,620.016 866.226,627.113 870.162,634.721 874.078,642.821 877.972,651.393 881.847,660.413 885.701,669.86 889.534,679.707 893.348,689.932 897.142,700.506 900.916,711.404 904.671,722.599 908.406,734.063 912.123,745.767 915.82,757.686 919.498,769.789 923.157,782.049 926.798,794.438 930.42,806.929 934.024,819.493 937.61,832.105 941.177,844.737 944.727,857.364 948.259,869.961 951.773,882.502 955.27,894.965 958.749,907.326 962.211,919.563 965.656,931.656 969.083,943.584 972.494,955.328 975.888,966.871 979.266,978.194 982.627,989.281 985.971,1000.12 989.299,1010.69 992.611,1020.99 995.907,1031 999.187,1040.71 1002.45,1050.11 1005.7,1059.2 1008.93,1067.96 1012.15,1076.39 1015.35,1084.48 1018.54,1092.23 1021.71,1099.64 1024.87,1106.7 1028.01,1113.42 1031.14,1119.78 1034.25,1125.79 1037.35,1131.46 1040.43,1136.77 1043.5,1141.74 1046.55,1146.37 1049.59,1150.66 1052.62,1154.61 1055.63,1158.24 1058.63,1161.53 1061.61,1164.51 1064.58,1167.17 1067.54,1169.52 1070.48,1171.57 1073.41,1173.33 1076.33,1174.8 1079.23,1175.99 1082.12,1176.91 1085,1177.57 1087.86,1177.97 1090.71,1178.13 1093.55,1178.05 1096.38,1177.73 1099.19,1177.2 1101.99,1176.46 1104.78,1175.51 1107.55,1174.36 1110.32,1173.03 1113.07,1171.53 1115.81,1169.85 1118.53,1168.02 1121.25,1166.03 1123.95,1163.9 1126.64,1161.63 1129.32,1159.24 1131.99,1156.72 1134.64,1154.1 1137.29,1151.37 1139.92,1148.54 1142.54,1145.62 1145.15,1142.63 1147.75,1139.55 1150.34,1136.41 1152.91,1133.2 1155.48,1129.94 1158.03,1126.63 1160.58,1123.27 1163.11,1119.88 1165.63,1116.45 1168.14,1112.99 1170.65,1109.51 1173.14,1106.01 1175.62,1102.5 1178.09,1098.98 1180.54,1095.45 1182.99,1091.93 1185.43,1088.4 1187.86,1084.88 1190.28,1081.38 1192.69,1077.88 1195.09,1074.4 1197.48,1070.94 1199.85,1067.5 1202.22,1064.09 1204.58,1060.7 1206.93,1057.35 1209.27,1054.02 1211.6,1050.72 1213.92,1047.47 1216.23,1044.24 1218.54,1041.06 1220.83,1037.91 1223.11,1034.81 1225.39,1031.75 1227.65,1028.73 1229.91,1025.75 1232.16,1022.82 1234.39,1019.94 1236.62,1017.1 1238.84,1014.31 1241.06,1011.56 1243.26,1008.86 1245.45,1006.21 1247.64,1003.61 1249.82,1001.05 1251.98,998.548 1254.14,996.09 1256.29,993.68 1258.44,991.318 1260.57,989.004 1262.7,986.738 1264.82,984.519 1266.93,982.347 1269.03,980.222 1271.12,978.143 1273.21,976.111 1275.28,974.123 1277.35,972.181 1279.42,970.284 1281.47,968.431 1283.51,966.621 1285.55,964.854 1287.58,963.129 1289.61,961.446 1291.62,959.805 1293.63,958.204 1295.63,956.642 1297.62,955.12 1299.6,953.637 1301.58,952.191 1303.55,950.783 1305.51,949.411 1307.47,948.075 1309.42,946.774 1311.36,945.508 1313.29,944.276 1315.22,943.076 1317.13,941.91 1319.05,940.774 1320.95,939.67 1322.85,938.597 1324.74,937.553 1326.62,936.538 1328.5,935.552 1330.37,934.593 1332.23,933.662 1334.09,932.757 1335.94,931.878 1337.78,931.024 1339.62,930.195 1341.45,929.39 1343.27,928.609 1345.09,927.85 1346.9,927.114 1348.7,926.399 1350.5,925.705 1352.29,925.033 1354.08,924.38 1355.85,923.747 1357.63,923.132 1359.39,922.537 1361.15,921.959 1362.9,921.399 1364.65,920.856 1366.39,920.329 1368.13,919.819 1369.85,919.324 1371.58,918.845 1373.29,918.381 1375,917.931 1376.71,917.494 1378.41,917.072 1380.1,916.663 1381.79,916.266 1383.47,915.882 1385.14,915.51 1386.81,915.15 1388.47,914.801 1390.13,914.464 1391.78,914.137 1393.43,913.82 1395.07,913.514 1396.71,913.217 1398.34,912.93 1399.96,912.652 1401.58,912.383 1403.19,912.123 1404.8,911.871 1406.4,911.627 1408,911.391 1409.59,911.163 1411.18,910.942 1412.76,910.728 1414.33,910.522 1415.9,910.322 1417.47,910.128 1419.03,909.941 1420.58,909.76 1422.13,909.585 1423.67,909.416 1425.21,909.252 1426.75,909.094 1428.28,908.941 1429.8,908.793 1431.32,908.65 1432.83,908.511 1434.34,908.378 1435.85,908.248 1437.35,908.123 1438.84,908.002 1440.33,907.885 1441.81,907.772 1443.29,907.663 1444.77,907.557 1446.24,907.455 1447.7,907.357 1449.16,907.261 1450.62,907.169 1452.07,907.08 1453.52,906.994 1454.96,906.911 1456.4,906.83 1457.83,906.752 1459.26,906.677 1460.68,906.604 1462.1,906.534 1463.51,906.466 1464.92,906.401 1466.33,906.338 1467.73,906.276 1469.13,906.217 1470.52,906.16 1471.91,906.105 1473.29,906.051 1474.67,906 1476.04,905.95 1477.42,905.902 1478.78,905.855 1480.14,905.81 1481.5,905.767 1482.86,905.725 1484.2,905.684 1485.55,905.645 1486.89,905.607 1488.23,905.571 1489.56,905.535 1490.89,905.501 1492.21,905.468 1493.53,905.436 1494.85,905.405 1496.16,905.375 1497.47,905.347 1498.78,905.319 1500.08,905.292 1501.37,905.266 1502.67,905.241 1503.95,905.217 1505.24,905.193 1506.52,905.171 1507.8,905.149 1509.07,905.128 1510.34,905.107 1511.6,905.088 1512.87,905.069 1514.12,905.05 1515.38,905.032 1516.63,905.015 1517.88,904.999 1519.12,904.983 1520.36,904.967 1521.59,904.952 1522.83,904.938 1524.05,904.924 1525.28,904.91 1526.5,904.897 1527.72,904.885 1528.93,904.872 1530.14,904.861 1531.35,904.849 1532.55,904.838 1533.75,904.828 1534.95,904.817 1536.14,904.807 1537.33,904.798 1538.52,904.789 1539.7,904.78 1540.88,904.771 1542.05,904.763 1543.22,904.754 1544.39,904.747 1545.56,904.739 1546.72,904.732 1547.88,904.725 1549.03,904.718 1550.19,904.711 1551.33,904.705 1552.48,904.699 1553.62,904.693 1554.76,904.687 1555.9,904.682 1557.03,904.676 1558.16,904.671 1559.28,904.666 1560.41,904.661 1561.53,904.657 1562.64,904.652 1563.76,904.648 1564.87,904.643 1565.97,904.639 1567.08,904.635 1568.18,904.632 1569.28,904.628 1570.37,904.624 1571.46,904.621 1572.55,904.618 1573.64,904.614 1574.72,904.611 1575.8,904.608 1576.88,904.605 1577.95,904.602 1579.02,904.6 1580.09,904.597 1581.15,904.595 1582.22,904.592 1583.27,904.59 1584.33,904.587 1585.38,904.585 1586.43,904.583 1587.48,904.581 1588.53,904.579 1589.57,904.577 1590.61,904.575 1591.64,904.573 1592.68,904.572 1593.71,904.57 1594.73,904.568 1595.76,904.567 1596.78,904.565 1597.8,904.564 1598.82,904.562 1599.83,904.561 1600.84,904.56 1601.85,904.558 1602.85,904.557 1603.86,904.556 1604.86,904.555 1605.86,904.554 1606.85,904.553 1607.84,904.551 1608.83,904.55 1609.82,904.549 1610.8,904.549 1611.79,904.548 1612.77,904.547 1613.74,904.546 1614.72,904.545 1615.69,904.544 1616.66,904.543 1617.62,904.543 1618.59,904.542 1619.55,904.541 1620.51,904.541 1621.46,904.54 1622.42,904.539 1623.37,904.539 1624.32,904.538 1625.26,904.538 1626.21,904.537 1627.15,904.537 1628.09,904.536 1629.03,904.536 1629.96,904.535 1630.89,904.535 1631.82,904.534 1632.75,904.534 1633.67,904.533 1634.59,904.533 1635.51,904.533 1636.43,904.532 1637.35,904.532 1638.26,904.531 1639.17,904.531 1640.08,904.531 1640.99,904.53 1641.89,904.53 1642.79,904.53 1643.69,904.53 1644.59,904.529 1645.48,904.529 1646.37,904.529 1647.26,904.529 1648.15,904.528 1649.04,904.528 1649.92,904.528 1650.8,904.528 1651.68,904.528 1652.56,904.527 1653.43,904.527 1654.3,904.527 1655.17,904.527 1656.04,904.527 1656.91,904.527 1657.77,904.526 1658.63,904.526 1659.49,904.526 1660.35,904.526 1661.2,904.526 1662.06,904.526 1662.91,904.526 1663.76,904.525 1664.6,904.525 1665.45,904.525 1666.29,904.525 1667.13,904.525 1667.97,904.525 1668.81,904.525 1669.64,904.525 1670.47,904.525 1671.3,904.525 1672.13,904.525 1672.96,904.525 1673.78,904.524 1674.61,904.524 1675.43,904.524 1676.24,904.524 1677.06,904.524 1677.88,904.524 1678.69,904.524 1679.5,904.524 1680.31,904.524 1681.11,904.524 1681.92,904.524 1682.72,904.524 1683.52,904.524 1684.32,904.524 1685.12,904.524 1685.91,904.524 1686.71,904.524 1687.5,904.524 1688.29,904.524 1689.07,904.524 1689.86,904.524 1690.64,904.524 1691.43,904.524 1692.21,904.524 1692.98,904.524 1693.76,904.524 1694.54,904.524 1695.31,904.524 1696.08,904.524 1696.85,904.524 1697.62,904.524 1698.38,904.524 1699.15,904.524 1699.91,904.524 1700.67,904.524 1701.43,904.524 1702.18,904.524 1702.94,904.524 1703.69,904.524 1704.44,904.524 1705.19,904.524 1705.94,904.524 1706.69,904.524 1707.43,904.524 1708.17,904.524 1708.92,904.524 1709.66,904.524 1710.39,904.524 1711.13,904.524 1711.86,904.524 1712.6,904.524 1713.33,904.524 1714.06,904.524 1714.78,904.524 1715.51,904.524 1716.24,904.524 1716.96,904.524 1717.68,904.524 1718.4,904.524 1719.12,904.524 1719.83,904.524 1720.55,904.524 1721.26,904.524 1721.97,904.524 1722.68,904.524 1723.39,904.524 1724.1,904.524 1724.8,904.524 1725.5,904.524 1726.21,904.524 1726.91,904.524 1727.61,904.524 1728.3,904.524 1729,904.524 1729.69,904.524 1730.39,904.525 1731.08,904.525 1731.77,904.525 1732.45,904.525 1733.14,904.525 1733.83,904.525 1734.51,904.525 1735.19,904.525 1735.87,904.525 1736.55,904.525 1737.23,904.525 1737.9,904.525 1738.58,904.525 1739.25,904.525 1739.92,904.525 1740.59,904.525 1741.26,904.525 1741.93,904.525 1742.59,904.525 1743.26,904.525 1743.92,904.525 1744.58,904.525 1745.24,904.525 1745.9,904.525 1746.56,904.525 1747.21,904.525 1747.87,904.525 1748.52,904.525 1749.17,904.525 1749.82,904.526 1750.47,904.526 1751.12,904.526 1751.76,904.526 1752.41,904.526 1753.05,904.526 1753.69,904.526 1754.33,904.526 1754.97,904.526 1755.61,904.526 1756.24,904.526 1756.88,904.526 1757.51,904.526 1758.14,904.526 1758.77,904.526 1759.4,904.526 1760.03,904.526 1760.66,904.526 1761.28,904.526 1761.91,904.526 1762.53,904.526 1763.15,904.526 1763.77,904.526 1764.39,904.526 1765.01,904.526 1765.63,904.526 1766.24,904.526 1766.85,904.527 1767.47,904.527 1768.08,904.527 1768.69,904.527 1769.3,904.527 1769.9,904.527 1770.51,904.527 1771.12,904.527 1771.72,904.527 1772.32,904.527 1772.92,904.527 1773.52,904.527 1774.12,904.527 1774.72,904.527 1775.31,904.527 1775.91,904.527 1776.5,904.527 1777.1,904.527 1777.69,904.527 1778.28,904.527 1778.87,904.527 1779.45,904.527 1780.04,904.527 1780.62,904.527 1781.21,904.527 1781.79,904.527 1782.37,904.528 1782.95,904.528 1783.53,904.528 1784.11,904.528 1784.69,904.528 1785.26,904.528 1785.84,904.528 1786.41,904.528 1786.98,904.528 1787.55,904.528 1788.12,904.528 1788.69,904.528 1789.26,904.528 1789.83,904.528 1790.39,904.528 1790.96,904.528 1791.52,904.528 1792.08,904.528 1792.64,904.528 1793.2,904.528 1793.76,904.528 1794.32,904.528 1794.88,904.528 1795.43,904.528 1795.98,904.528 1796.54,904.528 1797.09,904.529 1797.64,904.529 1798.19,904.529 1798.74,904.529 1799.29,904.529 1799.83,904.529 1800.38,904.529 1800.92,904.529 1801.47,904.529 1802.01,904.529 1802.55,904.529 1803.09,904.529 1803.63,904.529 1804.17,904.529 1804.7,904.529 1805.24,904.529 1805.77,904.529 1806.31,904.529 1806.84,904.529 1807.37,904.529 1807.9,904.529 1808.43,904.529 1808.96,904.529 1809.49,904.529 1810.02,904.529 1810.54,904.529 1811.07,904.529 1811.59,904.53 1812.11,904.53 1812.63,904.53 1813.15,904.53 1813.67,904.53 1814.19,904.53 1814.71,904.53 1815.23,904.53 1815.74,904.53 1816.26,904.53 1816.77,904.53 1817.28,904.53 1817.79,904.53 1818.31,904.53 1818.81,904.53 1819.32,904.53 1819.83,904.53 1820.34,904.53 1820.84,904.53 1821.35,904.53 1821.85,904.53 1822.36,904.53 1822.86,904.53 1823.36,904.53 1823.86,904.53 1824.36,904.53 1824.86,904.53 1825.35,904.531 1825.85,904.531 1826.34,904.531 1826.84,904.531 1827.33,904.531 1827.83,904.531 \"/>\n",
       "<polyline clip-path=\"url(#clip272)\" style=\"stroke:#ac8d18; stroke-linecap:round; stroke-linejoin:round; stroke-width:4; stroke-opacity:1; fill:none\" points=\"253.033,904.478 260.877,904.478 268.664,904.477 276.392,904.477 284.063,904.476 291.678,904.475 299.237,904.474 306.741,904.471 314.19,904.467 321.585,904.461 328.927,904.452 336.215,904.44 343.452,904.423 350.636,904.4 357.77,904.37 364.852,904.33 371.885,904.279 378.868,904.212 385.802,904.127 392.688,904.02 399.525,903.886 406.315,903.719 413.058,903.514 419.754,903.264 426.405,902.96 433.009,902.593 439.569,902.155 446.083,901.632 452.554,901.014 458.981,900.287 465.364,899.436 471.705,898.445 478.003,897.297 484.259,895.974 490.474,894.456 496.647,892.724 502.78,890.754 508.872,888.525 514.924,886.012 520.936,883.193 526.91,880.041 532.844,876.533 538.74,872.641 544.598,868.341 550.419,863.608 556.201,858.415 561.947,852.741 567.657,846.559 573.33,839.85 578.967,832.591 584.568,824.764 590.134,816.352 595.666,807.339 601.162,797.715 606.625,787.468 612.053,776.592 617.448,765.084 622.809,752.944 628.137,740.176 633.433,726.787 638.696,712.787 643.927,698.192 649.127,683.022 654.294,667.298 659.431,651.05 664.536,634.308 669.611,617.107 674.656,599.486 679.67,581.489 684.654,563.163 689.609,544.556 694.534,525.724 699.431,506.721 704.298,487.606 709.137,468.442 713.948,449.291 718.73,430.219 723.485,411.292 728.212,392.577 732.912,374.144 737.584,356.061 742.23,338.395 746.849,321.216 751.442,304.59 756.008,288.584 760.549,273.262 765.064,258.686 769.553,244.917 774.017,232.012 778.456,220.027 782.87,209.012 787.259,199.017 791.624,190.086 795.964,182.26 800.28,175.575 804.573,170.064 808.842,165.755 813.087,162.672 817.309,160.834 821.509,160.256 825.685,160.948 829.838,162.916 833.969,166.16 838.077,170.677 842.164,176.459 846.228,183.494 850.271,191.766 854.292,201.253 858.291,211.932 862.269,223.774 866.226,236.748 870.162,250.818 874.078,265.948 877.972,282.094 881.847,299.215 885.701,317.264 889.534,336.192 893.348,355.95 897.142,376.485 900.916,397.744 904.671,419.673 908.406,442.215 912.123,465.315 915.82,488.916 919.498,512.961 923.157,537.393 926.798,562.154 930.42,587.189 934.024,612.441 937.61,637.855 941.177,663.377 944.727,688.954 948.259,714.533 951.773,740.063 955.27,765.497 958.749,790.786 962.211,815.884 965.656,840.747 969.083,865.334 972.494,889.604 975.888,913.518 979.266,937.042 982.627,960.14 985.971,982.782 989.299,1004.94 992.611,1026.58 995.907,1047.68 999.187,1068.22 1002.45,1088.17 1005.7,1107.53 1008.93,1126.26 1012.15,1144.36 1015.35,1161.81 1018.54,1178.6 1021.71,1194.73 1024.87,1210.18 1028.01,1224.96 1031.14,1239.05 1034.25,1252.45 1037.35,1265.17 1040.43,1277.21 1043.5,1288.56 1046.55,1299.24 1049.59,1309.25 1052.62,1318.58 1055.63,1327.27 1058.63,1335.3 1061.61,1342.69 1064.58,1349.45 1067.54,1355.6 1070.48,1361.14 1073.41,1366.09 1076.33,1370.46 1079.23,1374.26 1082.12,1377.52 1085,1380.24 1087.86,1382.45 1090.71,1384.15 1093.55,1385.36 1096.38,1386.1 1099.19,1386.4 1101.99,1386.25 1104.78,1385.68 1107.55,1384.71 1110.32,1383.36 1113.07,1381.63 1115.81,1379.56 1118.53,1377.14 1121.25,1374.41 1123.95,1371.37 1126.64,1368.04 1129.32,1364.45 1131.99,1360.59 1134.64,1356.5 1137.29,1352.18 1139.92,1347.64 1142.54,1342.91 1145.15,1338 1147.75,1332.92 1150.34,1327.68 1152.91,1322.29 1155.48,1316.78 1158.03,1311.15 1160.58,1305.41 1163.11,1299.57 1165.63,1293.65 1168.14,1287.65 1170.65,1281.59 1173.14,1275.47 1175.62,1269.31 1178.09,1263.11 1180.54,1256.88 1182.99,1250.64 1185.43,1244.38 1187.86,1238.12 1190.28,1231.85 1192.69,1225.6 1195.09,1219.37 1197.48,1213.15 1199.85,1206.96 1202.22,1200.81 1204.58,1194.69 1206.93,1188.62 1209.27,1182.59 1211.6,1176.61 1213.92,1170.69 1216.23,1164.82 1218.54,1159.02 1220.83,1153.28 1223.11,1147.61 1225.39,1142 1227.65,1136.47 1229.91,1131.02 1232.16,1125.64 1234.39,1120.34 1236.62,1115.12 1238.84,1109.98 1241.06,1104.92 1243.26,1099.94 1245.45,1095.05 1247.64,1090.24 1249.82,1085.52 1251.98,1080.88 1254.14,1076.33 1256.29,1071.87 1258.44,1067.49 1260.57,1063.2 1262.7,1058.99 1264.82,1054.87 1266.93,1050.83 1269.03,1046.88 1271.12,1043.01 1273.21,1039.22 1275.28,1035.52 1277.35,1031.9 1279.42,1028.36 1281.47,1024.9 1283.51,1021.53 1285.55,1018.23 1287.58,1015 1289.61,1011.86 1291.62,1008.79 1293.63,1005.79 1295.63,1002.87 1297.62,1000.02 1299.6,997.239 1301.58,994.53 1303.55,991.89 1305.51,989.317 1307.47,986.81 1309.42,984.369 1311.36,981.991 1313.29,979.677 1315.22,977.423 1317.13,975.23 1319.05,973.096 1320.95,971.02 1322.85,969 1324.74,967.036 1326.62,965.126 1328.5,963.269 1330.37,961.463 1332.23,959.709 1334.09,958.004 1335.94,956.347 1337.78,954.737 1339.62,953.174 1341.45,951.655 1343.27,950.18 1345.09,948.748 1346.9,947.358 1348.7,946.009 1350.5,944.699 1352.29,943.428 1354.08,942.194 1355.85,940.998 1357.63,939.837 1359.39,938.71 1361.15,937.618 1362.9,936.559 1364.65,935.531 1366.39,934.535 1368.13,933.569 1369.85,932.633 1371.58,931.726 1373.29,930.846 1375,929.993 1376.71,929.167 1378.41,928.367 1380.1,927.591 1381.79,926.84 1383.47,926.112 1385.14,925.407 1386.81,924.724 1388.47,924.062 1390.13,923.422 1391.78,922.801 1393.43,922.201 1395.07,921.619 1396.71,921.056 1398.34,920.511 1399.96,919.983 1401.58,919.473 1403.19,918.978 1404.8,918.5 1406.4,918.037 1408,917.588 1409.59,917.155 1411.18,916.735 1412.76,916.329 1414.33,915.936 1415.9,915.556 1417.47,915.188 1419.03,914.833 1420.58,914.488 1422.13,914.156 1423.67,913.834 1425.21,913.522 1426.75,913.221 1428.28,912.93 1429.8,912.648 1431.32,912.375 1432.83,912.112 1434.34,911.857 1435.85,911.611 1437.35,911.372 1438.84,911.142 1440.33,910.919 1441.81,910.704 1443.29,910.496 1444.77,910.295 1446.24,910.1 1447.7,909.912 1449.16,909.73 1450.62,909.554 1452.07,909.384 1453.52,909.22 1454.96,909.061 1456.4,908.908 1457.83,908.759 1459.26,908.616 1460.68,908.478 1462.1,908.344 1463.51,908.214 1464.92,908.089 1466.33,907.968 1467.73,907.851 1469.13,907.738 1470.52,907.629 1471.91,907.523 1473.29,907.422 1474.67,907.323 1476.04,907.228 1477.42,907.136 1478.78,907.047 1480.14,906.961 1481.5,906.878 1482.86,906.798 1484.2,906.72 1485.55,906.645 1486.89,906.573 1488.23,906.503 1489.56,906.435 1490.89,906.37 1492.21,906.306 1493.53,906.245 1494.85,906.186 1496.16,906.129 1497.47,906.074 1498.78,906.021 1500.08,905.97 1501.37,905.92 1502.67,905.872 1503.95,905.826 1505.24,905.781 1506.52,905.738 1507.8,905.696 1509.07,905.655 1510.34,905.616 1511.6,905.578 1512.87,905.542 1514.12,905.506 1515.38,905.472 1516.63,905.439 1517.88,905.408 1519.12,905.377 1520.36,905.347 1521.59,905.318 1522.83,905.291 1524.05,905.264 1525.28,905.238 1526.5,905.213 1527.72,905.188 1528.93,905.165 1530.14,905.142 1531.35,905.121 1532.55,905.099 1533.75,905.079 1534.95,905.059 1536.14,905.04 1537.33,905.022 1538.52,905.004 1539.7,904.987 1540.88,904.97 1542.05,904.954 1543.22,904.938 1544.39,904.923 1545.56,904.909 1546.72,904.895 1547.88,904.881 1549.03,904.868 1550.19,904.855 1551.33,904.843 1552.48,904.831 1553.62,904.82 1554.76,904.808 1555.9,904.798 1557.03,904.787 1558.16,904.777 1559.28,904.768 1560.41,904.758 1561.53,904.749 1562.64,904.74 1563.76,904.732 1564.87,904.724 1565.97,904.716 1567.08,904.708 1568.18,904.701 1569.28,904.694 1570.37,904.687 1571.46,904.68 1572.55,904.673 1573.64,904.667 1574.72,904.661 1575.8,904.655 1576.88,904.65 1577.95,904.644 1579.02,904.639 1580.09,904.634 1581.15,904.629 1582.22,904.624 1583.27,904.619 1584.33,904.615 1585.38,904.61 1586.43,904.606 1587.48,904.602 1588.53,904.598 1589.57,904.594 1590.61,904.591 1591.64,904.587 1592.68,904.584 1593.71,904.58 1594.73,904.577 1595.76,904.574 1596.78,904.571 1597.8,904.568 1598.82,904.565 1599.83,904.562 1600.84,904.56 1601.85,904.557 1602.85,904.555 1603.86,904.552 1604.86,904.55 1605.86,904.548 1606.85,904.546 1607.84,904.543 1608.83,904.541 1609.82,904.539 1610.8,904.537 1611.79,904.536 1612.77,904.534 1613.74,904.532 1614.72,904.53 1615.69,904.529 1616.66,904.527 1617.62,904.526 1618.59,904.524 1619.55,904.523 1620.51,904.521 1621.46,904.52 1622.42,904.519 1623.37,904.517 1624.32,904.516 1625.26,904.515 1626.21,904.514 1627.15,904.513 1628.09,904.512 1629.03,904.511 1629.96,904.51 1630.89,904.509 1631.82,904.508 1632.75,904.507 1633.67,904.506 1634.59,904.505 1635.51,904.504 1636.43,904.504 1637.35,904.503 1638.26,904.502 1639.17,904.501 1640.08,904.501 1640.99,904.5 1641.89,904.499 1642.79,904.499 1643.69,904.498 1644.59,904.497 1645.48,904.497 1646.37,904.496 1647.26,904.496 1648.15,904.495 1649.04,904.495 1649.92,904.494 1650.8,904.494 1651.68,904.493 1652.56,904.493 1653.43,904.492 1654.3,904.492 1655.17,904.491 1656.04,904.491 1656.91,904.491 1657.77,904.49 1658.63,904.49 1659.49,904.489 1660.35,904.489 1661.2,904.489 1662.06,904.488 1662.91,904.488 1663.76,904.488 1664.6,904.488 1665.45,904.487 1666.29,904.487 1667.13,904.487 1667.97,904.486 1668.81,904.486 1669.64,904.486 1670.47,904.486 1671.3,904.485 1672.13,904.485 1672.96,904.485 1673.78,904.485 1674.61,904.485 1675.43,904.484 1676.24,904.484 1677.06,904.484 1677.88,904.484 1678.69,904.484 1679.5,904.483 1680.31,904.483 1681.11,904.483 1681.92,904.483 1682.72,904.483 1683.52,904.483 1684.32,904.483 1685.12,904.482 1685.91,904.482 1686.71,904.482 1687.5,904.482 1688.29,904.482 1689.07,904.482 1689.86,904.482 1690.64,904.482 1691.43,904.481 1692.21,904.481 1692.98,904.481 1693.76,904.481 1694.54,904.481 1695.31,904.481 1696.08,904.481 1696.85,904.481 1697.62,904.481 1698.38,904.481 1699.15,904.48 1699.91,904.48 1700.67,904.48 1701.43,904.48 1702.18,904.48 1702.94,904.48 1703.69,904.48 1704.44,904.48 1705.19,904.48 1705.94,904.48 1706.69,904.48 1707.43,904.48 1708.17,904.48 1708.92,904.48 1709.66,904.48 1710.39,904.479 1711.13,904.479 1711.86,904.479 1712.6,904.479 1713.33,904.479 1714.06,904.479 1714.78,904.479 1715.51,904.479 1716.24,904.479 1716.96,904.479 1717.68,904.479 1718.4,904.479 1719.12,904.479 1719.83,904.479 1720.55,904.479 1721.26,904.479 1721.97,904.479 1722.68,904.479 1723.39,904.479 1724.1,904.479 1724.8,904.479 1725.5,904.479 1726.21,904.479 1726.91,904.479 1727.61,904.479 1728.3,904.479 1729,904.479 1729.69,904.479 1730.39,904.478 1731.08,904.478 1731.77,904.478 1732.45,904.478 1733.14,904.478 1733.83,904.478 1734.51,904.478 1735.19,904.478 1735.87,904.478 1736.55,904.478 1737.23,904.478 1737.9,904.478 1738.58,904.478 1739.25,904.478 1739.92,904.478 1740.59,904.478 1741.26,904.478 1741.93,904.478 1742.59,904.478 1743.26,904.478 1743.92,904.478 1744.58,904.478 1745.24,904.478 1745.9,904.478 1746.56,904.478 1747.21,904.478 1747.87,904.478 1748.52,904.478 1749.17,904.478 1749.82,904.478 1750.47,904.478 1751.12,904.478 1751.76,904.478 1752.41,904.478 1753.05,904.478 1753.69,904.478 1754.33,904.478 1754.97,904.478 1755.61,904.478 1756.24,904.478 1756.88,904.478 1757.51,904.478 1758.14,904.478 1758.77,904.478 1759.4,904.478 1760.03,904.478 1760.66,904.478 1761.28,904.478 1761.91,904.478 1762.53,904.478 1763.15,904.478 1763.77,904.478 1764.39,904.478 1765.01,904.478 1765.63,904.478 1766.24,904.478 1766.85,904.478 1767.47,904.478 1768.08,904.478 1768.69,904.478 1769.3,904.478 1769.9,904.478 1770.51,904.478 1771.12,904.478 1771.72,904.478 1772.32,904.478 1772.92,904.478 1773.52,904.478 1774.12,904.478 1774.72,904.478 1775.31,904.478 1775.91,904.478 1776.5,904.478 1777.1,904.478 1777.69,904.478 1778.28,904.478 1778.87,904.478 1779.45,904.478 1780.04,904.478 1780.62,904.478 1781.21,904.478 1781.79,904.478 1782.37,904.478 1782.95,904.478 1783.53,904.478 1784.11,904.478 1784.69,904.478 1785.26,904.478 1785.84,904.478 1786.41,904.478 1786.98,904.478 1787.55,904.478 1788.12,904.478 1788.69,904.478 1789.26,904.478 1789.83,904.478 1790.39,904.478 1790.96,904.478 1791.52,904.478 1792.08,904.478 1792.64,904.478 1793.2,904.478 1793.76,904.478 1794.32,904.478 1794.88,904.478 1795.43,904.478 1795.98,904.478 1796.54,904.478 1797.09,904.478 1797.64,904.478 1798.19,904.478 1798.74,904.478 1799.29,904.478 1799.83,904.478 1800.38,904.478 1800.92,904.478 1801.47,904.478 1802.01,904.478 1802.55,904.478 1803.09,904.478 1803.63,904.478 1804.17,904.478 1804.7,904.478 1805.24,904.478 1805.77,904.478 1806.31,904.478 1806.84,904.478 1807.37,904.478 1807.9,904.478 1808.43,904.478 1808.96,904.478 1809.49,904.478 1810.02,904.478 1810.54,904.478 1811.07,904.478 1811.59,904.478 1812.11,904.478 1812.63,904.478 1813.15,904.478 1813.67,904.478 1814.19,904.478 1814.71,904.478 1815.23,904.478 1815.74,904.478 1816.26,904.478 1816.77,904.478 1817.28,904.478 1817.79,904.478 1818.31,904.478 1818.81,904.478 1819.32,904.478 1819.83,904.478 1820.34,904.478 1820.84,904.478 1821.35,904.478 1821.85,904.478 1822.36,904.478 1822.86,904.478 1823.36,904.478 1823.86,904.478 1824.36,904.478 1824.86,904.478 1825.35,904.478 1825.85,904.478 1826.34,904.478 1826.84,904.478 1827.33,904.478 1827.83,904.478 \"/>\n",
       "<polyline clip-path=\"url(#clip272)\" style=\"stroke:#00a9ad; stroke-linecap:round; stroke-linejoin:round; stroke-width:4; stroke-opacity:1; fill:none\" points=\"253.033,904.478 260.877,904.478 268.664,904.478 276.392,904.478 284.063,904.478 291.678,904.478 299.237,904.478 306.741,904.478 314.19,904.478 321.585,904.478 328.927,904.478 336.215,904.478 343.452,904.478 350.636,904.478 357.77,904.478 364.852,904.478 371.885,904.478 378.868,904.478 385.802,904.478 392.688,904.478 399.525,904.478 406.315,904.478 413.058,904.478 419.754,904.478 426.405,904.478 433.009,904.478 439.569,904.478 446.083,904.478 452.554,904.478 458.981,904.478 465.364,904.478 471.705,904.478 478.003,904.478 484.259,904.478 490.474,904.478 496.647,904.478 502.78,904.478 508.872,904.478 514.924,904.478 520.936,904.478 526.91,904.478 532.844,904.478 538.74,904.478 544.598,904.478 550.419,904.478 556.201,904.478 561.947,904.478 567.657,904.478 573.33,904.478 578.967,904.478 584.568,904.478 590.134,904.478 595.666,904.478 601.162,904.478 606.625,904.478 612.053,904.478 617.448,904.478 622.809,904.478 628.137,904.478 633.433,904.478 638.696,904.478 643.927,904.478 649.127,904.478 654.294,904.478 659.431,904.478 664.536,904.478 669.611,904.478 674.656,904.478 679.67,904.478 684.654,904.478 689.609,904.478 694.534,904.478 699.431,904.478 704.298,904.478 709.137,904.478 713.948,904.478 718.73,904.478 723.485,904.478 728.212,904.478 732.912,904.478 737.584,904.478 742.23,904.478 746.849,904.478 751.442,904.478 756.008,904.478 760.549,904.478 765.064,904.478 769.553,904.478 774.017,904.478 778.456,904.478 782.87,904.478 787.259,904.478 791.624,904.478 795.964,904.478 800.28,904.478 804.573,904.478 808.842,904.478 813.087,904.478 817.309,904.478 821.509,904.478 825.685,904.478 829.838,904.478 833.969,904.478 838.077,904.478 842.164,904.478 846.228,904.478 850.271,904.478 854.292,904.478 858.291,904.478 862.269,904.478 866.226,904.478 870.162,904.478 874.078,904.478 877.972,904.478 881.847,904.478 885.701,904.478 889.534,904.478 893.348,904.478 897.142,904.478 900.916,904.478 904.671,904.478 908.406,904.478 912.123,904.478 915.82,904.478 919.498,904.478 923.157,904.478 926.798,904.478 930.42,904.478 934.024,904.478 937.61,904.478 941.177,904.478 944.727,904.478 948.259,904.478 951.773,904.478 955.27,904.478 958.749,904.478 962.211,904.478 965.656,904.478 969.083,904.478 972.494,904.478 975.888,904.478 979.266,904.478 982.627,904.478 985.971,904.478 989.299,904.478 992.611,904.478 995.907,904.478 999.187,904.478 1002.45,904.478 1005.7,904.478 1008.93,904.478 1012.15,904.478 1015.35,904.478 1018.54,904.478 1021.71,904.478 1024.87,904.478 1028.01,904.478 1031.14,904.478 1034.25,904.478 1037.35,904.478 1040.43,904.478 1043.5,904.478 1046.55,904.478 1049.59,904.478 1052.62,904.478 1055.63,904.478 1058.63,904.478 1061.61,904.478 1064.58,904.478 1067.54,904.478 1070.48,904.478 1073.41,904.478 1076.33,904.478 1079.23,904.478 1082.12,904.478 1085,904.478 1087.86,904.478 1090.71,904.478 1093.55,904.478 1096.38,904.478 1099.19,904.478 1101.99,904.478 1104.78,904.478 1107.55,904.478 1110.32,904.478 1113.07,904.478 1115.81,904.478 1118.53,904.478 1121.25,904.478 1123.95,904.478 1126.64,904.478 1129.32,904.478 1131.99,904.478 1134.64,904.478 1137.29,904.478 1139.92,904.478 1142.54,904.478 1145.15,904.478 1147.75,904.478 1150.34,904.478 1152.91,904.478 1155.48,904.478 1158.03,904.478 1160.58,904.478 1163.11,904.478 1165.63,904.478 1168.14,904.478 1170.65,904.478 1173.14,904.478 1175.62,904.478 1178.09,904.478 1180.54,904.478 1182.99,904.478 1185.43,904.478 1187.86,904.478 1190.28,904.478 1192.69,904.478 1195.09,904.478 1197.48,904.478 1199.85,904.478 1202.22,904.478 1204.58,904.478 1206.93,904.478 1209.27,904.478 1211.6,904.478 1213.92,904.478 1216.23,904.478 1218.54,904.478 1220.83,904.478 1223.11,904.478 1225.39,904.478 1227.65,904.478 1229.91,904.478 1232.16,904.478 1234.39,904.478 1236.62,904.478 1238.84,904.478 1241.06,904.478 1243.26,904.478 1245.45,904.478 1247.64,904.478 1249.82,904.478 1251.98,904.478 1254.14,904.478 1256.29,904.478 1258.44,904.478 1260.57,904.478 1262.7,904.478 1264.82,904.478 1266.93,904.478 1269.03,904.478 1271.12,904.478 1273.21,904.478 1275.28,904.478 1277.35,904.478 1279.42,904.478 1281.47,904.478 1283.51,904.478 1285.55,904.478 1287.58,904.478 1289.61,904.478 1291.62,904.478 1293.63,904.478 1295.63,904.478 1297.62,904.478 1299.6,904.478 1301.58,904.478 1303.55,904.478 1305.51,904.478 1307.47,904.478 1309.42,904.478 1311.36,904.478 1313.29,904.478 1315.22,904.478 1317.13,904.478 1319.05,904.478 1320.95,904.478 1322.85,904.478 1324.74,904.478 1326.62,904.478 1328.5,904.478 1330.37,904.478 1332.23,904.478 1334.09,904.478 1335.94,904.478 1337.78,904.478 1339.62,904.478 1341.45,904.478 1343.27,904.478 1345.09,904.478 1346.9,904.478 1348.7,904.478 1350.5,904.478 1352.29,904.478 1354.08,904.478 1355.85,904.478 1357.63,904.478 1359.39,904.478 1361.15,904.478 1362.9,904.478 1364.65,904.478 1366.39,904.478 1368.13,904.478 1369.85,904.478 1371.58,904.478 1373.29,904.478 1375,904.478 1376.71,904.478 1378.41,904.478 1380.1,904.478 1381.79,904.478 1383.47,904.478 1385.14,904.478 1386.81,904.478 1388.47,904.478 1390.13,904.478 1391.78,904.478 1393.43,904.478 1395.07,904.478 1396.71,904.478 1398.34,904.478 1399.96,904.478 1401.58,904.478 1403.19,904.478 1404.8,904.478 1406.4,904.478 1408,904.478 1409.59,904.478 1411.18,904.478 1412.76,904.478 1414.33,904.478 1415.9,904.478 1417.47,904.478 1419.03,904.478 1420.58,904.478 1422.13,904.478 1423.67,904.478 1425.21,904.478 1426.75,904.478 1428.28,904.478 1429.8,904.478 1431.32,904.478 1432.83,904.478 1434.34,904.478 1435.85,904.478 1437.35,904.478 1438.84,904.478 1440.33,904.478 1441.81,904.478 1443.29,904.478 1444.77,904.478 1446.24,904.478 1447.7,904.478 1449.16,904.478 1450.62,904.478 1452.07,904.478 1453.52,904.478 1454.96,904.478 1456.4,904.478 1457.83,904.478 1459.26,904.478 1460.68,904.478 1462.1,904.478 1463.51,904.478 1464.92,904.478 1466.33,904.478 1467.73,904.478 1469.13,904.478 1470.52,904.478 1471.91,904.478 1473.29,904.478 1474.67,904.478 1476.04,904.478 1477.42,904.478 1478.78,904.478 1480.14,904.478 1481.5,904.478 1482.86,904.478 1484.2,904.478 1485.55,904.478 1486.89,904.478 1488.23,904.478 1489.56,904.478 1490.89,904.478 1492.21,904.478 1493.53,904.478 1494.85,904.478 1496.16,904.478 1497.47,904.478 1498.78,904.478 1500.08,904.478 1501.37,904.478 1502.67,904.478 1503.95,904.478 1505.24,904.478 1506.52,904.478 1507.8,904.478 1509.07,904.478 1510.34,904.478 1511.6,904.478 1512.87,904.478 1514.12,904.478 1515.38,904.478 1516.63,904.478 1517.88,904.478 1519.12,904.478 1520.36,904.478 1521.59,904.478 1522.83,904.478 1524.05,904.478 1525.28,904.478 1526.5,904.478 1527.72,904.478 1528.93,904.478 1530.14,904.478 1531.35,904.478 1532.55,904.478 1533.75,904.478 1534.95,904.478 1536.14,904.478 1537.33,904.478 1538.52,904.478 1539.7,904.478 1540.88,904.478 1542.05,904.478 1543.22,904.478 1544.39,904.478 1545.56,904.478 1546.72,904.478 1547.88,904.478 1549.03,904.478 1550.19,904.478 1551.33,904.478 1552.48,904.478 1553.62,904.478 1554.76,904.478 1555.9,904.478 1557.03,904.478 1558.16,904.478 1559.28,904.478 1560.41,904.478 1561.53,904.478 1562.64,904.478 1563.76,904.478 1564.87,904.478 1565.97,904.478 1567.08,904.478 1568.18,904.478 1569.28,904.478 1570.37,904.478 1571.46,904.478 1572.55,904.478 1573.64,904.478 1574.72,904.478 1575.8,904.478 1576.88,904.478 1577.95,904.478 1579.02,904.478 1580.09,904.478 1581.15,904.478 1582.22,904.478 1583.27,904.478 1584.33,904.478 1585.38,904.478 1586.43,904.478 1587.48,904.478 1588.53,904.478 1589.57,904.478 1590.61,904.478 1591.64,904.478 1592.68,904.478 1593.71,904.478 1594.73,904.478 1595.76,904.478 1596.78,904.478 1597.8,904.478 1598.82,904.478 1599.83,904.478 1600.84,904.478 1601.85,904.478 1602.85,904.478 1603.86,904.478 1604.86,904.478 1605.86,904.478 1606.85,904.478 1607.84,904.478 1608.83,904.478 1609.82,904.478 1610.8,904.478 1611.79,904.478 1612.77,904.478 1613.74,904.478 1614.72,904.478 1615.69,904.478 1616.66,904.478 1617.62,904.478 1618.59,904.478 1619.55,904.478 1620.51,904.478 1621.46,904.478 1622.42,904.478 1623.37,904.478 1624.32,904.478 1625.26,904.478 1626.21,904.478 1627.15,904.478 1628.09,904.478 1629.03,904.478 1629.96,904.478 1630.89,904.478 1631.82,904.478 1632.75,904.478 1633.67,904.478 1634.59,904.478 1635.51,904.478 1636.43,904.478 1637.35,904.478 1638.26,904.478 1639.17,904.478 1640.08,904.478 1640.99,904.478 1641.89,904.478 1642.79,904.478 1643.69,904.478 1644.59,904.478 1645.48,904.478 1646.37,904.478 1647.26,904.478 1648.15,904.478 1649.04,904.478 1649.92,904.478 1650.8,904.478 1651.68,904.478 1652.56,904.478 1653.43,904.478 1654.3,904.478 1655.17,904.478 1656.04,904.478 1656.91,904.478 1657.77,904.478 1658.63,904.478 1659.49,904.478 1660.35,904.478 1661.2,904.478 1662.06,904.478 1662.91,904.478 1663.76,904.478 1664.6,904.478 1665.45,904.478 1666.29,904.478 1667.13,904.478 1667.97,904.478 1668.81,904.478 1669.64,904.478 1670.47,904.478 1671.3,904.478 1672.13,904.478 1672.96,904.478 1673.78,904.478 1674.61,904.478 1675.43,904.478 1676.24,904.478 1677.06,904.478 1677.88,904.478 1678.69,904.478 1679.5,904.478 1680.31,904.478 1681.11,904.478 1681.92,904.478 1682.72,904.478 1683.52,904.478 1684.32,904.478 1685.12,904.478 1685.91,904.478 1686.71,904.478 1687.5,904.478 1688.29,904.478 1689.07,904.478 1689.86,904.478 1690.64,904.478 1691.43,904.478 1692.21,904.478 1692.98,904.478 1693.76,904.478 1694.54,904.478 1695.31,904.478 1696.08,904.478 1696.85,904.478 1697.62,904.478 1698.38,904.478 1699.15,904.478 1699.91,904.478 1700.67,904.478 1701.43,904.478 1702.18,904.478 1702.94,904.478 1703.69,904.478 1704.44,904.478 1705.19,904.478 1705.94,904.478 1706.69,904.478 1707.43,904.478 1708.17,904.478 1708.92,904.478 1709.66,904.478 1710.39,904.478 1711.13,904.478 1711.86,904.478 1712.6,904.478 1713.33,904.478 1714.06,904.478 1714.78,904.478 1715.51,904.478 1716.24,904.478 1716.96,904.478 1717.68,904.478 1718.4,904.478 1719.12,904.478 1719.83,904.478 1720.55,904.478 1721.26,904.478 1721.97,904.478 1722.68,904.478 1723.39,904.478 1724.1,904.478 1724.8,904.478 1725.5,904.478 1726.21,904.478 1726.91,904.478 1727.61,904.478 1728.3,904.478 1729,904.478 1729.69,904.478 1730.39,904.478 1731.08,904.478 1731.77,904.478 1732.45,904.478 1733.14,904.478 1733.83,904.478 1734.51,904.478 1735.19,904.478 1735.87,904.478 1736.55,904.478 1737.23,904.478 1737.9,904.478 1738.58,904.478 1739.25,904.478 1739.92,904.478 1740.59,904.478 1741.26,904.478 1741.93,904.478 1742.59,904.478 1743.26,904.478 1743.92,904.478 1744.58,904.478 1745.24,904.478 1745.9,904.478 1746.56,904.478 1747.21,904.478 1747.87,904.478 1748.52,904.478 1749.17,904.478 1749.82,904.478 1750.47,904.478 1751.12,904.478 1751.76,904.478 1752.41,904.478 1753.05,904.478 1753.69,904.478 1754.33,904.478 1754.97,904.478 1755.61,904.478 1756.24,904.478 1756.88,904.478 1757.51,904.478 1758.14,904.478 1758.77,904.478 1759.4,904.478 1760.03,904.478 1760.66,904.478 1761.28,904.478 1761.91,904.478 1762.53,904.478 1763.15,904.478 1763.77,904.478 1764.39,904.478 1765.01,904.478 1765.63,904.478 1766.24,904.478 1766.85,904.478 1767.47,904.478 1768.08,904.478 1768.69,904.478 1769.3,904.478 1769.9,904.478 1770.51,904.478 1771.12,904.478 1771.72,904.478 1772.32,904.478 1772.92,904.478 1773.52,904.478 1774.12,904.478 1774.72,904.478 1775.31,904.478 1775.91,904.478 1776.5,904.478 1777.1,904.478 1777.69,904.478 1778.28,904.478 1778.87,904.478 1779.45,904.478 1780.04,904.478 1780.62,904.478 1781.21,904.478 1781.79,904.478 1782.37,904.478 1782.95,904.478 1783.53,904.478 1784.11,904.478 1784.69,904.478 1785.26,904.478 1785.84,904.478 1786.41,904.478 1786.98,904.478 1787.55,904.478 1788.12,904.478 1788.69,904.478 1789.26,904.478 1789.83,904.478 1790.39,904.478 1790.96,904.478 1791.52,904.478 1792.08,904.478 1792.64,904.478 1793.2,904.478 1793.76,904.478 1794.32,904.478 1794.88,904.478 1795.43,904.478 1795.98,904.478 1796.54,904.478 1797.09,904.478 1797.64,904.478 1798.19,904.478 1798.74,904.478 1799.29,904.478 1799.83,904.478 1800.38,904.478 1800.92,904.478 1801.47,904.478 1802.01,904.478 1802.55,904.478 1803.09,904.478 1803.63,904.478 1804.17,904.478 1804.7,904.478 1805.24,904.478 1805.77,904.478 1806.31,904.478 1806.84,904.478 1807.37,904.478 1807.9,904.478 1808.43,904.478 1808.96,904.478 1809.49,904.478 1810.02,904.478 1810.54,904.478 1811.07,904.478 1811.59,904.478 1812.11,904.478 1812.63,904.478 1813.15,904.478 1813.67,904.478 1814.19,904.478 1814.71,904.478 1815.23,904.478 1815.74,904.478 1816.26,904.478 1816.77,904.478 1817.28,904.478 1817.79,904.478 1818.31,904.478 1818.81,904.478 1819.32,904.478 1819.83,904.478 1820.34,904.478 1820.84,904.478 1821.35,904.478 1821.85,904.478 1822.36,904.478 1822.86,904.478 1823.36,904.478 1823.86,904.478 1824.36,904.478 1824.86,904.478 1825.35,904.478 1825.85,904.478 1826.34,904.478 1826.84,904.478 1827.33,904.478 1827.83,904.478 \"/>\n",
       "<polyline clip-path=\"url(#clip272)\" style=\"stroke:#ed5d92; stroke-linecap:round; stroke-linejoin:round; stroke-width:4; stroke-opacity:1; fill:none\" points=\"253.033,904.478 260.877,904.478 268.664,904.478 276.392,904.478 284.063,904.478 291.678,904.478 299.237,904.478 306.741,904.478 314.19,904.478 321.585,904.477 328.927,904.477 336.215,904.477 343.452,904.477 350.636,904.477 357.77,904.476 364.852,904.476 371.885,904.475 378.868,904.475 385.802,904.473 392.688,904.472 399.525,904.47 406.315,904.467 413.058,904.464 419.754,904.46 426.405,904.455 433.009,904.449 439.569,904.441 446.083,904.431 452.554,904.419 458.981,904.405 465.364,904.388 471.705,904.367 478.003,904.342 484.259,904.313 490.474,904.278 496.647,904.237 502.78,904.19 508.872,904.134 514.924,904.07 520.936,903.995 526.91,903.91 532.844,903.812 538.74,903.7 544.598,903.572 550.419,903.428 556.201,903.265 561.947,903.082 567.657,902.877 573.33,902.647 578.967,902.391 584.568,902.107 590.134,901.793 595.666,901.445 601.162,901.063 606.625,900.644 612.053,900.185 617.448,899.684 622.809,899.139 628.137,898.547 633.433,897.906 638.696,897.213 643.927,896.467 649.127,895.665 654.294,894.806 659.431,893.886 664.536,892.904 669.611,891.859 674.656,890.749 679.67,889.571 684.654,888.326 689.609,887.011 694.534,885.626 699.431,884.17 704.298,882.643 709.137,881.044 713.948,879.372 718.73,877.63 723.485,875.816 728.212,873.931 732.912,871.977 737.584,869.954 742.23,867.864 746.849,865.709 751.442,863.49 756.008,861.211 760.549,858.872 765.064,856.477 769.553,854.03 774.017,851.532 778.456,848.987 782.87,846.4 787.259,843.773 791.624,841.11 795.964,838.416 800.28,835.695 804.573,832.951 808.842,830.188 813.087,827.412 817.309,824.626 821.509,821.836 825.685,819.046 829.838,816.261 833.969,813.486 838.077,810.725 842.164,807.984 846.228,805.267 850.271,802.578 854.292,799.923 858.291,797.306 862.269,794.73 866.226,792.202 870.162,789.724 874.078,787.301 877.972,784.936 881.847,782.634 885.701,780.398 889.534,778.231 893.348,776.137 897.142,774.118 900.916,772.178 904.671,770.318 908.406,768.542 912.123,766.852 915.82,765.249 919.498,763.736 923.157,762.313 926.798,760.983 930.42,759.746 934.024,758.604 937.61,757.556 941.177,756.604 944.727,755.748 948.259,754.988 951.773,754.323 955.27,753.755 958.749,753.281 962.211,752.902 965.656,752.616 969.083,752.423 972.494,752.322 975.888,752.311 979.266,752.389 982.627,752.555 985.971,752.806 989.299,753.142 992.611,753.559 995.907,754.057 999.187,754.632 1002.45,755.284 1005.7,756.009 1008.93,756.806 1012.15,757.672 1015.35,758.605 1018.54,759.601 1021.71,760.66 1024.87,761.777 1028.01,762.952 1031.14,764.18 1034.25,765.46 1037.35,766.789 1040.43,768.164 1043.5,769.584 1046.55,771.044 1049.59,772.543 1052.62,774.079 1055.63,775.648 1058.63,777.249 1061.61,778.879 1064.58,780.535 1067.54,782.215 1070.48,783.918 1073.41,785.64 1076.33,787.379 1079.23,789.134 1082.12,790.902 1085,792.681 1087.86,794.469 1090.71,796.265 1093.55,798.066 1096.38,799.871 1099.19,801.678 1101.99,803.485 1104.78,805.291 1107.55,807.093 1110.32,808.892 1113.07,810.685 1115.81,812.47 1118.53,814.247 1121.25,816.015 1123.95,817.771 1126.64,819.516 1129.32,821.248 1131.99,822.965 1134.64,824.668 1137.29,826.355 1139.92,828.026 1142.54,829.679 1145.15,831.314 1147.75,832.93 1150.34,834.527 1152.91,836.104 1155.48,837.66 1158.03,839.196 1160.58,840.71 1163.11,842.203 1165.63,843.673 1168.14,845.122 1170.65,846.547 1173.14,847.95 1175.62,849.329 1178.09,850.686 1180.54,852.019 1182.99,853.329 1185.43,854.615 1187.86,855.878 1190.28,857.118 1192.69,858.334 1195.09,859.526 1197.48,860.695 1199.85,861.841 1202.22,862.964 1204.58,864.064 1206.93,865.141 1209.27,866.195 1211.6,867.227 1213.92,868.236 1216.23,869.223 1218.54,870.189 1220.83,871.132 1223.11,872.055 1225.39,872.956 1227.65,873.836 1229.91,874.696 1232.16,875.535 1234.39,876.355 1236.62,877.154 1238.84,877.935 1241.06,878.696 1243.26,879.438 1245.45,880.162 1247.64,880.867 1249.82,881.555 1251.98,882.225 1254.14,882.878 1256.29,883.514 1258.44,884.134 1260.57,884.737 1262.7,885.324 1264.82,885.896 1266.93,886.452 1269.03,886.994 1271.12,887.52 1273.21,888.033 1275.28,888.531 1277.35,889.016 1279.42,889.487 1281.47,889.945 1283.51,890.39 1285.55,890.823 1287.58,891.243 1289.61,891.652 1291.62,892.049 1293.63,892.434 1295.63,892.809 1297.62,893.172 1299.6,893.525 1301.58,893.868 1303.55,894.201 1305.51,894.524 1307.47,894.837 1309.42,895.141 1311.36,895.437 1313.29,895.723 1315.22,896.001 1317.13,896.27 1319.05,896.531 1320.95,896.785 1322.85,897.031 1324.74,897.269 1326.62,897.5 1328.5,897.724 1330.37,897.941 1332.23,898.151 1334.09,898.355 1335.94,898.553 1337.78,898.744 1339.62,898.93 1341.45,899.109 1343.27,899.284 1345.09,899.452 1346.9,899.616 1348.7,899.774 1350.5,899.927 1352.29,900.076 1354.08,900.219 1355.85,900.359 1357.63,900.493 1359.39,900.624 1361.15,900.75 1362.9,900.872 1364.65,900.991 1366.39,901.105 1368.13,901.216 1369.85,901.324 1371.58,901.427 1373.29,901.528 1375,901.625 1376.71,901.719 1378.41,901.81 1380.1,901.899 1381.79,901.984 1383.47,902.066 1385.14,902.146 1386.81,902.223 1388.47,902.298 1390.13,902.37 1391.78,902.44 1393.43,902.508 1395.07,902.573 1396.71,902.636 1398.34,902.697 1399.96,902.756 1401.58,902.814 1403.19,902.869 1404.8,902.922 1406.4,902.974 1408,903.024 1409.59,903.072 1411.18,903.119 1412.76,903.164 1414.33,903.208 1415.9,903.25 1417.47,903.291 1419.03,903.331 1420.58,903.369 1422.13,903.406 1423.67,903.442 1425.21,903.476 1426.75,903.509 1428.28,903.542 1429.8,903.573 1431.32,903.603 1432.83,903.632 1434.34,903.66 1435.85,903.687 1437.35,903.714 1438.84,903.739 1440.33,903.764 1441.81,903.787 1443.29,903.81 1444.77,903.833 1446.24,903.854 1447.7,903.875 1449.16,903.895 1450.62,903.914 1452.07,903.933 1453.52,903.951 1454.96,903.968 1456.4,903.985 1457.83,904.002 1459.26,904.017 1460.68,904.033 1462.1,904.047 1463.51,904.062 1464.92,904.075 1466.33,904.089 1467.73,904.102 1469.13,904.114 1470.52,904.126 1471.91,904.138 1473.29,904.149 1474.67,904.16 1476.04,904.17 1477.42,904.18 1478.78,904.19 1480.14,904.2 1481.5,904.209 1482.86,904.218 1484.2,904.226 1485.55,904.235 1486.89,904.243 1488.23,904.25 1489.56,904.258 1490.89,904.265 1492.21,904.272 1493.53,904.279 1494.85,904.285 1496.16,904.292 1497.47,904.298 1498.78,904.303 1500.08,904.309 1501.37,904.315 1502.67,904.32 1503.95,904.325 1505.24,904.33 1506.52,904.335 1507.8,904.34 1509.07,904.344 1510.34,904.348 1511.6,904.353 1512.87,904.357 1514.12,904.361 1515.38,904.364 1516.63,904.368 1517.88,904.372 1519.12,904.375 1520.36,904.378 1521.59,904.382 1522.83,904.385 1524.05,904.388 1525.28,904.391 1526.5,904.393 1527.72,904.396 1528.93,904.399 1530.14,904.401 1531.35,904.404 1532.55,904.406 1533.75,904.408 1534.95,904.411 1536.14,904.413 1537.33,904.415 1538.52,904.417 1539.7,904.419 1540.88,904.421 1542.05,904.422 1543.22,904.424 1544.39,904.426 1545.56,904.427 1546.72,904.429 1547.88,904.431 1549.03,904.432 1550.19,904.434 1551.33,904.435 1552.48,904.436 1553.62,904.438 1554.76,904.439 1555.9,904.44 1557.03,904.441 1558.16,904.442 1559.28,904.444 1560.41,904.445 1561.53,904.446 1562.64,904.447 1563.76,904.448 1564.87,904.449 1565.97,904.449 1567.08,904.45 1568.18,904.451 1569.28,904.452 1570.37,904.453 1571.46,904.454 1572.55,904.454 1573.64,904.455 1574.72,904.456 1575.8,904.456 1576.88,904.457 1577.95,904.458 1579.02,904.458 1580.09,904.459 1581.15,904.459 1582.22,904.46 1583.27,904.461 1584.33,904.461 1585.38,904.462 1586.43,904.462 1587.48,904.463 1588.53,904.463 1589.57,904.463 1590.61,904.464 1591.64,904.464 1592.68,904.465 1593.71,904.465 1594.73,904.465 1595.76,904.466 1596.78,904.466 1597.8,904.467 1598.82,904.467 1599.83,904.467 1600.84,904.468 1601.85,904.468 1602.85,904.468 1603.86,904.468 1604.86,904.469 1605.86,904.469 1606.85,904.469 1607.84,904.469 1608.83,904.47 1609.82,904.47 1610.8,904.47 1611.79,904.47 1612.77,904.471 1613.74,904.471 1614.72,904.471 1615.69,904.471 1616.66,904.471 1617.62,904.472 1618.59,904.472 1619.55,904.472 1620.51,904.472 1621.46,904.472 1622.42,904.472 1623.37,904.473 1624.32,904.473 1625.26,904.473 1626.21,904.473 1627.15,904.473 1628.09,904.473 1629.03,904.473 1629.96,904.474 1630.89,904.474 1631.82,904.474 1632.75,904.474 1633.67,904.474 1634.59,904.474 1635.51,904.474 1636.43,904.474 1637.35,904.474 1638.26,904.474 1639.17,904.475 1640.08,904.475 1640.99,904.475 1641.89,904.475 1642.79,904.475 1643.69,904.475 1644.59,904.475 1645.48,904.475 1646.37,904.475 1647.26,904.475 1648.15,904.475 1649.04,904.475 1649.92,904.475 1650.8,904.475 1651.68,904.476 1652.56,904.476 1653.43,904.476 1654.3,904.476 1655.17,904.476 1656.04,904.476 1656.91,904.476 1657.77,904.476 1658.63,904.476 1659.49,904.476 1660.35,904.476 1661.2,904.476 1662.06,904.476 1662.91,904.476 1663.76,904.476 1664.6,904.476 1665.45,904.476 1666.29,904.476 1667.13,904.476 1667.97,904.476 1668.81,904.476 1669.64,904.476 1670.47,904.476 1671.3,904.477 1672.13,904.477 1672.96,904.477 1673.78,904.477 1674.61,904.477 1675.43,904.477 1676.24,904.477 1677.06,904.477 1677.88,904.477 1678.69,904.477 1679.5,904.477 1680.31,904.477 1681.11,904.477 1681.92,904.477 1682.72,904.477 1683.52,904.477 1684.32,904.477 1685.12,904.477 1685.91,904.477 1686.71,904.477 1687.5,904.477 1688.29,904.477 1689.07,904.477 1689.86,904.477 1690.64,904.477 1691.43,904.477 1692.21,904.477 1692.98,904.477 1693.76,904.477 1694.54,904.477 1695.31,904.477 1696.08,904.477 1696.85,904.477 1697.62,904.477 1698.38,904.477 1699.15,904.477 1699.91,904.477 1700.67,904.477 1701.43,904.477 1702.18,904.477 1702.94,904.477 1703.69,904.477 1704.44,904.477 1705.19,904.477 1705.94,904.477 1706.69,904.477 1707.43,904.477 1708.17,904.477 1708.92,904.477 1709.66,904.477 1710.39,904.477 1711.13,904.477 1711.86,904.477 1712.6,904.477 1713.33,904.477 1714.06,904.477 1714.78,904.477 1715.51,904.477 1716.24,904.477 1716.96,904.477 1717.68,904.477 1718.4,904.477 1719.12,904.477 1719.83,904.477 1720.55,904.477 1721.26,904.477 1721.97,904.477 1722.68,904.477 1723.39,904.477 1724.1,904.477 1724.8,904.477 1725.5,904.477 1726.21,904.477 1726.91,904.477 1727.61,904.477 1728.3,904.477 1729,904.477 1729.69,904.477 1730.39,904.477 1731.08,904.477 1731.77,904.477 1732.45,904.477 1733.14,904.477 1733.83,904.477 1734.51,904.477 1735.19,904.477 1735.87,904.477 1736.55,904.477 1737.23,904.477 1737.9,904.477 1738.58,904.477 1739.25,904.477 1739.92,904.477 1740.59,904.477 1741.26,904.477 1741.93,904.477 1742.59,904.477 1743.26,904.477 1743.92,904.478 1744.58,904.478 1745.24,904.478 1745.9,904.478 1746.56,904.478 1747.21,904.478 1747.87,904.478 1748.52,904.478 1749.17,904.478 1749.82,904.478 1750.47,904.478 1751.12,904.478 1751.76,904.478 1752.41,904.478 1753.05,904.478 1753.69,904.478 1754.33,904.478 1754.97,904.478 1755.61,904.478 1756.24,904.478 1756.88,904.478 1757.51,904.478 1758.14,904.478 1758.77,904.478 1759.4,904.478 1760.03,904.478 1760.66,904.478 1761.28,904.478 1761.91,904.478 1762.53,904.478 1763.15,904.478 1763.77,904.478 1764.39,904.478 1765.01,904.478 1765.63,904.478 1766.24,904.478 1766.85,904.478 1767.47,904.478 1768.08,904.478 1768.69,904.478 1769.3,904.478 1769.9,904.478 1770.51,904.478 1771.12,904.478 1771.72,904.478 1772.32,904.478 1772.92,904.478 1773.52,904.478 1774.12,904.478 1774.72,904.478 1775.31,904.478 1775.91,904.478 1776.5,904.478 1777.1,904.478 1777.69,904.478 1778.28,904.478 1778.87,904.478 1779.45,904.478 1780.04,904.478 1780.62,904.478 1781.21,904.478 1781.79,904.478 1782.37,904.478 1782.95,904.478 1783.53,904.478 1784.11,904.478 1784.69,904.478 1785.26,904.478 1785.84,904.478 1786.41,904.478 1786.98,904.478 1787.55,904.478 1788.12,904.478 1788.69,904.478 1789.26,904.478 1789.83,904.478 1790.39,904.478 1790.96,904.478 1791.52,904.478 1792.08,904.478 1792.64,904.478 1793.2,904.478 1793.76,904.478 1794.32,904.478 1794.88,904.478 1795.43,904.478 1795.98,904.478 1796.54,904.478 1797.09,904.478 1797.64,904.478 1798.19,904.478 1798.74,904.478 1799.29,904.478 1799.83,904.478 1800.38,904.478 1800.92,904.478 1801.47,904.478 1802.01,904.478 1802.55,904.478 1803.09,904.478 1803.63,904.478 1804.17,904.478 1804.7,904.478 1805.24,904.478 1805.77,904.478 1806.31,904.478 1806.84,904.478 1807.37,904.478 1807.9,904.478 1808.43,904.478 1808.96,904.478 1809.49,904.478 1810.02,904.478 1810.54,904.478 1811.07,904.478 1811.59,904.478 1812.11,904.478 1812.63,904.478 1813.15,904.478 1813.67,904.478 1814.19,904.478 1814.71,904.478 1815.23,904.478 1815.74,904.478 1816.26,904.478 1816.77,904.478 1817.28,904.478 1817.79,904.478 1818.31,904.478 1818.81,904.478 1819.32,904.478 1819.83,904.478 1820.34,904.478 1820.84,904.478 1821.35,904.478 1821.85,904.478 1822.36,904.478 1822.86,904.478 1823.36,904.478 1823.86,904.478 1824.36,904.478 1824.86,904.478 1825.35,904.478 1825.85,904.478 1826.34,904.478 1826.84,904.478 1827.33,904.478 1827.83,904.478 \"/>\n",
       "<path clip-path=\"url(#clip270)\" d=\"M1849.76 581.516 L2282.77 581.516 L2282.77 166.796 L1849.76 166.796  Z\" fill=\"#ffffff\" fill-rule=\"evenodd\" fill-opacity=\"1\"/>\n",
       "<polyline clip-path=\"url(#clip270)\" style=\"stroke:#000000; stroke-linecap:round; stroke-linejoin:round; stroke-width:4; stroke-opacity:1; fill:none\" points=\"1849.76,581.516 2282.77,581.516 2282.77,166.796 1849.76,166.796 1849.76,581.516 \"/>\n",
       "<polyline clip-path=\"url(#clip270)\" style=\"stroke:#009af9; stroke-linecap:round; stroke-linejoin:round; stroke-width:4; stroke-opacity:1; fill:none\" points=\"1873.09,218.636 2013.07,218.636 \"/>\n",
       "<path clip-path=\"url(#clip270)\" d=\"M2056.75 214.967 Q2058.35 212.096 2060.57 210.731 Q2062.79 209.365 2065.8 209.365 Q2069.85 209.365 2072.05 212.212 Q2074.25 215.036 2074.25 220.268 L2074.25 235.916 L2069.97 235.916 L2069.97 220.407 Q2069.97 216.68 2068.65 214.874 Q2067.33 213.069 2064.62 213.069 Q2061.31 213.069 2059.39 215.268 Q2057.47 217.467 2057.47 221.263 L2057.47 235.916 L2053.19 235.916 L2053.19 220.407 Q2053.19 216.657 2051.87 214.874 Q2050.55 213.069 2047.79 213.069 Q2044.53 213.069 2042.61 215.291 Q2040.69 217.49 2040.69 221.263 L2040.69 235.916 L2036.4 235.916 L2036.4 209.99 L2040.69 209.99 L2040.69 214.018 Q2042.14 211.633 2044.18 210.499 Q2046.22 209.365 2049.02 209.365 Q2051.84 209.365 2053.81 210.8 Q2055.8 212.235 2056.75 214.967 Z\" fill=\"#000000\" fill-rule=\"evenodd\" fill-opacity=\"1\" /><polyline clip-path=\"url(#clip270)\" style=\"stroke:#e26f46; stroke-linecap:round; stroke-linejoin:round; stroke-width:4; stroke-opacity:1; fill:none\" points=\"1873.09,270.476 2013.07,270.476 \"/>\n",
       "<path clip-path=\"url(#clip270)\" d=\"M2055.18 274.816 Q2055.18 270.117 2053.23 267.455 Q2051.31 264.77 2047.93 264.77 Q2044.55 264.77 2042.61 267.455 Q2040.69 270.117 2040.69 274.816 Q2040.69 279.515 2042.61 282.2 Q2044.55 284.862 2047.93 284.862 Q2051.31 284.862 2053.23 282.2 Q2055.18 279.515 2055.18 274.816 M2040.69 265.765 Q2042.03 263.45 2044.07 262.339 Q2046.13 261.205 2048.97 261.205 Q2053.7 261.205 2056.64 264.955 Q2059.6 268.705 2059.6 274.816 Q2059.6 280.927 2056.64 284.677 Q2053.7 288.427 2048.97 288.427 Q2046.13 288.427 2044.07 287.316 Q2042.03 286.182 2040.69 283.867 L2040.69 287.756 L2036.4 287.756 L2036.4 251.737 L2040.69 251.737 L2040.69 265.765 Z\" fill=\"#000000\" fill-rule=\"evenodd\" fill-opacity=\"1\" /><path clip-path=\"url(#clip270)\" d=\"M2088.83 273.728 L2088.83 275.811 L2069.25 275.811 Q2069.53 280.209 2071.89 282.524 Q2074.27 284.816 2078.51 284.816 Q2080.96 284.816 2083.26 284.214 Q2085.57 283.612 2087.84 282.409 L2087.84 286.436 Q2085.55 287.408 2083.14 287.918 Q2080.73 288.427 2078.26 288.427 Q2072.05 288.427 2068.42 284.816 Q2064.81 281.205 2064.81 275.047 Q2064.81 268.682 2068.23 264.955 Q2071.68 261.205 2077.51 261.205 Q2082.75 261.205 2085.78 264.585 Q2088.83 267.941 2088.83 273.728 M2084.57 272.478 Q2084.53 268.983 2082.61 266.899 Q2080.71 264.816 2077.56 264.816 Q2074 264.816 2071.84 266.83 Q2069.71 268.844 2069.39 272.501 L2084.57 272.478 Z\" fill=\"#000000\" fill-rule=\"evenodd\" fill-opacity=\"1\" /><path clip-path=\"url(#clip270)\" d=\"M2100.04 254.469 L2100.04 261.83 L2108.81 261.83 L2108.81 265.14 L2100.04 265.14 L2100.04 279.214 Q2100.04 282.385 2100.89 283.288 Q2101.77 284.191 2104.44 284.191 L2108.81 284.191 L2108.81 287.756 L2104.44 287.756 Q2099.51 287.756 2097.63 285.927 Q2095.76 284.075 2095.76 279.214 L2095.76 265.14 L2092.63 265.14 L2092.63 261.83 L2095.76 261.83 L2095.76 254.469 L2100.04 254.469 Z\" fill=\"#000000\" fill-rule=\"evenodd\" fill-opacity=\"1\" /><path clip-path=\"url(#clip270)\" d=\"M2126.19 274.723 Q2121.03 274.723 2119.04 275.904 Q2117.05 277.084 2117.05 279.932 Q2117.05 282.2 2118.53 283.543 Q2120.04 284.862 2122.61 284.862 Q2126.15 284.862 2128.28 282.362 Q2130.43 279.839 2130.43 275.672 L2130.43 274.723 L2126.19 274.723 M2134.69 272.964 L2134.69 287.756 L2130.43 287.756 L2130.43 283.821 Q2128.97 286.182 2126.8 287.316 Q2124.62 288.427 2121.47 288.427 Q2117.49 288.427 2115.13 286.205 Q2112.79 283.959 2112.79 280.209 Q2112.79 275.834 2115.71 273.612 Q2118.65 271.39 2124.46 271.39 L2130.43 271.39 L2130.43 270.973 Q2130.43 268.034 2128.49 266.436 Q2126.57 264.816 2123.07 264.816 Q2120.85 264.816 2118.74 265.348 Q2116.63 265.881 2114.69 266.946 L2114.69 263.01 Q2117.03 262.108 2119.23 261.668 Q2121.43 261.205 2123.51 261.205 Q2129.13 261.205 2131.91 264.122 Q2134.69 267.038 2134.69 272.964 Z\" fill=\"#000000\" fill-rule=\"evenodd\" fill-opacity=\"1\" /><polyline clip-path=\"url(#clip270)\" style=\"stroke:#3da44d; stroke-linecap:round; stroke-linejoin:round; stroke-width:4; stroke-opacity:1; fill:none\" points=\"1873.09,322.316 2013.07,322.316 \"/>\n",
       "<path clip-path=\"url(#clip270)\" d=\"M2040.69 335.707 L2040.69 349.457 L2036.4 349.457 L2036.4 313.67 L2040.69 313.67 L2040.69 317.605 Q2042.03 315.29 2044.07 314.179 Q2046.13 313.045 2048.97 313.045 Q2053.7 313.045 2056.64 316.795 Q2059.6 320.545 2059.6 326.656 Q2059.6 332.767 2056.64 336.517 Q2053.7 340.267 2048.97 340.267 Q2046.13 340.267 2044.07 339.156 Q2042.03 338.022 2040.69 335.707 M2055.18 326.656 Q2055.18 321.957 2053.23 319.295 Q2051.31 316.61 2047.93 316.61 Q2044.55 316.61 2042.61 319.295 Q2040.69 321.957 2040.69 326.656 Q2040.69 331.355 2042.61 334.04 Q2044.55 336.702 2047.93 336.702 Q2051.31 336.702 2053.23 334.04 Q2055.18 331.355 2055.18 326.656 Z\" fill=\"#000000\" fill-rule=\"evenodd\" fill-opacity=\"1\" /><path clip-path=\"url(#clip270)\" d=\"M2083.19 314.434 L2083.19 318.462 Q2081.38 317.536 2079.44 317.073 Q2077.49 316.61 2075.41 316.61 Q2072.24 316.61 2070.64 317.582 Q2069.07 318.554 2069.07 320.499 Q2069.07 321.98 2070.2 322.837 Q2071.33 323.67 2074.76 324.434 L2076.22 324.758 Q2080.76 325.73 2082.65 327.512 Q2084.57 329.272 2084.57 332.443 Q2084.57 336.054 2081.7 338.161 Q2078.86 340.267 2073.86 340.267 Q2071.77 340.267 2069.51 339.85 Q2067.26 339.457 2064.76 338.647 L2064.76 334.249 Q2067.12 335.475 2069.41 336.1 Q2071.7 336.702 2073.95 336.702 Q2076.96 336.702 2078.58 335.684 Q2080.2 334.642 2080.2 332.767 Q2080.2 331.031 2079.02 330.105 Q2077.86 329.179 2073.9 328.323 L2072.42 327.975 Q2068.46 327.142 2066.7 325.429 Q2064.95 323.693 2064.95 320.684 Q2064.95 317.026 2067.54 315.036 Q2070.13 313.045 2074.9 313.045 Q2077.26 313.045 2079.34 313.392 Q2081.43 313.739 2083.19 314.434 Z\" fill=\"#000000\" fill-rule=\"evenodd\" fill-opacity=\"1\" /><path clip-path=\"url(#clip270)\" d=\"M2091.36 313.67 L2095.62 313.67 L2095.62 339.596 L2091.36 339.596 L2091.36 313.67 M2091.36 303.577 L2095.62 303.577 L2095.62 308.971 L2091.36 308.971 L2091.36 303.577 Z\" fill=\"#000000\" fill-rule=\"evenodd\" fill-opacity=\"1\" /><polyline clip-path=\"url(#clip270)\" style=\"stroke:#c271d2; stroke-linecap:round; stroke-linejoin:round; stroke-width:4; stroke-opacity:1; fill:none\" points=\"1873.09,374.156 2013.07,374.156 \"/>\n",
       "<path clip-path=\"url(#clip270)\" d=\"M2061.06 365.51 L2051.68 378.126 L2061.54 391.436 L2056.52 391.436 L2048.97 381.251 L2041.43 391.436 L2036.4 391.436 L2046.47 377.871 L2037.26 365.51 L2042.28 365.51 L2049.16 374.746 L2056.03 365.51 L2061.06 365.51 Z\" fill=\"#000000\" fill-rule=\"evenodd\" fill-opacity=\"1\" /><path clip-path=\"url(#clip270)\" d=\"M2089.11 365.51 L2079.74 378.126 L2089.6 391.436 L2084.57 391.436 L2077.03 381.251 L2069.48 391.436 L2064.46 391.436 L2074.53 377.871 L2065.32 365.51 L2070.34 365.51 L2077.21 374.746 L2084.09 365.51 L2089.11 365.51 Z\" fill=\"#000000\" fill-rule=\"evenodd\" fill-opacity=\"1\" /><path clip-path=\"url(#clip270)\" d=\"M2117.17 365.51 L2107.79 378.126 L2117.65 391.436 L2112.63 391.436 L2105.08 381.251 L2097.54 391.436 L2092.51 391.436 L2102.58 377.871 L2093.37 365.51 L2098.39 365.51 L2105.27 374.746 L2112.14 365.51 L2117.17 365.51 Z\" fill=\"#000000\" fill-rule=\"evenodd\" fill-opacity=\"1\" /><path clip-path=\"url(#clip270)\" d=\"M2141.5 366.505 L2141.5 370.487 Q2139.69 369.491 2137.86 369.005 Q2136.06 368.496 2134.2 368.496 Q2130.06 368.496 2127.77 371.135 Q2125.48 373.751 2125.48 378.496 Q2125.48 383.241 2127.77 385.88 Q2130.06 388.496 2134.2 388.496 Q2136.06 388.496 2137.86 388.01 Q2139.69 387.501 2141.5 386.505 L2141.5 390.44 Q2139.71 391.274 2137.79 391.69 Q2135.89 392.107 2133.74 392.107 Q2127.88 392.107 2124.44 388.426 Q2120.99 384.746 2120.99 378.496 Q2120.99 372.153 2124.46 368.519 Q2127.95 364.885 2134.02 364.885 Q2135.99 364.885 2137.86 365.302 Q2139.74 365.695 2141.5 366.505 Z\" fill=\"#000000\" fill-rule=\"evenodd\" fill-opacity=\"1\" /><path clip-path=\"url(#clip270)\" d=\"M2170.45 375.788 L2170.45 391.436 L2166.19 391.436 L2166.19 375.927 Q2166.19 372.246 2164.76 370.417 Q2163.32 368.589 2160.45 368.589 Q2157 368.589 2155.01 370.788 Q2153.02 372.987 2153.02 376.783 L2153.02 391.436 L2148.74 391.436 L2148.74 355.417 L2153.02 355.417 L2153.02 369.538 Q2154.55 367.2 2156.61 366.042 Q2158.69 364.885 2161.4 364.885 Q2165.87 364.885 2168.16 367.663 Q2170.45 370.417 2170.45 375.788 Z\" fill=\"#000000\" fill-rule=\"evenodd\" fill-opacity=\"1\" /><path clip-path=\"url(#clip270)\" d=\"M2178.95 365.51 L2183.21 365.51 L2183.21 391.436 L2178.95 391.436 L2178.95 365.51 M2178.95 355.417 L2183.21 355.417 L2183.21 360.811 L2178.95 360.811 L2178.95 355.417 Z\" fill=\"#000000\" fill-rule=\"evenodd\" fill-opacity=\"1\" /><path clip-path=\"url(#clip270)\" d=\"M2193.21 385.556 L2198.09 385.556 L2198.09 389.538 L2194.3 396.945 L2191.31 396.945 L2193.21 389.538 L2193.21 385.556 Z\" fill=\"#000000\" fill-rule=\"evenodd\" fill-opacity=\"1\" /><path clip-path=\"url(#clip270)\" d=\"M2206.75 381.204 L2206.75 365.51 L2211.01 365.51 L2211.01 381.042 Q2211.01 384.723 2212.44 386.575 Q2213.88 388.403 2216.75 388.403 Q2220.2 388.403 2222.19 386.204 Q2224.2 384.005 2224.2 380.209 L2224.2 365.51 L2228.46 365.51 L2228.46 391.436 L2224.2 391.436 L2224.2 387.454 Q2222.65 389.815 2220.59 390.973 Q2218.56 392.107 2215.85 392.107 Q2211.38 392.107 2209.06 389.329 Q2206.75 386.551 2206.75 381.204 M2217.47 364.885 L2217.47 364.885 Z\" fill=\"#000000\" fill-rule=\"evenodd\" fill-opacity=\"1\" /><polyline clip-path=\"url(#clip270)\" style=\"stroke:#ac8d18; stroke-linecap:round; stroke-linejoin:round; stroke-width:4; stroke-opacity:1; fill:none\" points=\"1873.09,425.996 2013.07,425.996 \"/>\n",
       "<path clip-path=\"url(#clip270)\" d=\"M2055.32 421.285 L2055.32 407.257 L2059.57 407.257 L2059.57 443.276 L2055.32 443.276 L2055.32 439.387 Q2053.97 441.702 2051.91 442.836 Q2049.88 443.947 2047.01 443.947 Q2042.31 443.947 2039.34 440.197 Q2036.4 436.447 2036.4 430.336 Q2036.4 424.225 2039.34 420.475 Q2042.31 416.725 2047.01 416.725 Q2049.88 416.725 2051.91 417.859 Q2053.97 418.97 2055.32 421.285 M2040.8 430.336 Q2040.8 435.035 2042.72 437.72 Q2044.67 440.382 2048.05 440.382 Q2051.43 440.382 2053.37 437.72 Q2055.32 435.035 2055.32 430.336 Q2055.32 425.637 2053.37 422.975 Q2051.43 420.29 2048.05 420.29 Q2044.67 420.29 2042.72 422.975 Q2040.8 425.637 2040.8 430.336 Z\" fill=\"#000000\" fill-rule=\"evenodd\" fill-opacity=\"1\" /><path clip-path=\"url(#clip270)\" d=\"M2090.52 429.248 L2090.52 431.331 L2070.94 431.331 Q2071.22 435.729 2073.58 438.044 Q2075.96 440.336 2080.2 440.336 Q2082.65 440.336 2084.95 439.734 Q2087.26 439.132 2089.53 437.929 L2089.53 441.956 Q2087.24 442.928 2084.83 443.438 Q2082.42 443.947 2079.95 443.947 Q2073.74 443.947 2070.11 440.336 Q2066.5 436.725 2066.5 430.567 Q2066.5 424.202 2069.92 420.475 Q2073.37 416.725 2079.2 416.725 Q2084.44 416.725 2087.47 420.105 Q2090.52 423.461 2090.52 429.248 M2086.26 427.998 Q2086.22 424.503 2084.3 422.419 Q2082.4 420.336 2079.25 420.336 Q2075.69 420.336 2073.53 422.35 Q2071.4 424.364 2071.08 428.021 L2086.26 427.998 Z\" fill=\"#000000\" fill-rule=\"evenodd\" fill-opacity=\"1\" /><path clip-path=\"url(#clip270)\" d=\"M2112.54 421.331 Q2111.82 420.915 2110.96 420.73 Q2110.13 420.521 2109.11 420.521 Q2105.5 420.521 2103.56 422.882 Q2101.63 425.22 2101.63 429.618 L2101.63 443.276 L2097.35 443.276 L2097.35 417.35 L2101.63 417.35 L2101.63 421.378 Q2102.98 419.017 2105.13 417.882 Q2107.28 416.725 2110.36 416.725 Q2110.8 416.725 2111.33 416.794 Q2111.87 416.841 2112.51 416.956 L2112.54 421.331 Z\" fill=\"#000000\" fill-rule=\"evenodd\" fill-opacity=\"1\" /><path clip-path=\"url(#clip270)\" d=\"M2137.28 417.35 L2127.91 429.966 L2137.77 443.276 L2132.75 443.276 L2125.2 433.091 L2117.65 443.276 L2112.63 443.276 L2122.7 429.711 L2113.49 417.35 L2118.51 417.35 L2125.38 426.586 L2132.26 417.35 L2137.28 417.35 Z\" fill=\"#000000\" fill-rule=\"evenodd\" fill-opacity=\"1\" /><path clip-path=\"url(#clip270)\" d=\"M2165.34 417.35 L2155.96 429.966 L2165.82 443.276 L2160.8 443.276 L2153.25 433.091 L2145.71 443.276 L2140.69 443.276 L2150.75 429.711 L2141.54 417.35 L2146.57 417.35 L2153.44 426.586 L2160.32 417.35 L2165.34 417.35 Z\" fill=\"#000000\" fill-rule=\"evenodd\" fill-opacity=\"1\" /><path clip-path=\"url(#clip270)\" d=\"M2193.39 417.35 L2184.02 429.966 L2193.88 443.276 L2188.86 443.276 L2181.31 433.091 L2173.76 443.276 L2168.74 443.276 L2178.81 429.711 L2169.6 417.35 L2174.62 417.35 L2181.5 426.586 L2188.37 417.35 L2193.39 417.35 Z\" fill=\"#000000\" fill-rule=\"evenodd\" fill-opacity=\"1\" /><path clip-path=\"url(#clip270)\" d=\"M2217.72 418.345 L2217.72 422.327 Q2215.92 421.331 2214.09 420.845 Q2212.28 420.336 2210.43 420.336 Q2206.29 420.336 2204 422.975 Q2201.7 425.591 2201.7 430.336 Q2201.7 435.081 2204 437.72 Q2206.29 440.336 2210.43 440.336 Q2212.28 440.336 2214.09 439.85 Q2215.92 439.341 2217.72 438.345 L2217.72 442.28 Q2215.94 443.114 2214.02 443.53 Q2212.12 443.947 2209.97 443.947 Q2204.11 443.947 2200.66 440.266 Q2197.21 436.586 2197.21 430.336 Q2197.21 423.993 2200.69 420.359 Q2204.18 416.725 2210.25 416.725 Q2212.21 416.725 2214.09 417.142 Q2215.96 417.535 2217.72 418.345 Z\" fill=\"#000000\" fill-rule=\"evenodd\" fill-opacity=\"1\" /><path clip-path=\"url(#clip270)\" d=\"M2246.68 427.628 L2246.68 443.276 L2242.42 443.276 L2242.42 427.767 Q2242.42 424.086 2240.99 422.257 Q2239.55 420.429 2236.68 420.429 Q2233.23 420.429 2231.24 422.628 Q2229.25 424.827 2229.25 428.623 L2229.25 443.276 L2224.97 443.276 L2224.97 407.257 L2229.25 407.257 L2229.25 421.378 Q2230.78 419.04 2232.84 417.882 Q2234.92 416.725 2237.63 416.725 Q2242.1 416.725 2244.39 419.503 Q2246.68 422.257 2246.68 427.628 Z\" fill=\"#000000\" fill-rule=\"evenodd\" fill-opacity=\"1\" /><path clip-path=\"url(#clip270)\" d=\"M2255.18 417.35 L2259.43 417.35 L2259.43 443.276 L2255.18 443.276 L2255.18 417.35 M2255.18 407.257 L2259.43 407.257 L2259.43 412.651 L2255.18 412.651 L2255.18 407.257 Z\" fill=\"#000000\" fill-rule=\"evenodd\" fill-opacity=\"1\" /><polyline clip-path=\"url(#clip270)\" style=\"stroke:#00a9ad; stroke-linecap:round; stroke-linejoin:round; stroke-width:4; stroke-opacity:1; fill:none\" points=\"1873.09,477.836 2013.07,477.836 \"/>\n",
       "<path clip-path=\"url(#clip270)\" d=\"M2040.69 491.227 L2040.69 504.977 L2036.4 504.977 L2036.4 469.19 L2040.69 469.19 L2040.69 473.125 Q2042.03 470.81 2044.07 469.699 Q2046.13 468.565 2048.97 468.565 Q2053.7 468.565 2056.64 472.315 Q2059.6 476.065 2059.6 482.176 Q2059.6 488.287 2056.64 492.037 Q2053.7 495.787 2048.97 495.787 Q2046.13 495.787 2044.07 494.676 Q2042.03 493.542 2040.69 491.227 M2055.18 482.176 Q2055.18 477.477 2053.23 474.815 Q2051.31 472.13 2047.93 472.13 Q2044.55 472.13 2042.61 474.815 Q2040.69 477.477 2040.69 482.176 Q2040.69 486.875 2042.61 489.56 Q2044.55 492.222 2047.93 492.222 Q2051.31 492.222 2053.23 489.56 Q2055.18 486.875 2055.18 482.176 Z\" fill=\"#000000\" fill-rule=\"evenodd\" fill-opacity=\"1\" /><path clip-path=\"url(#clip270)\" d=\"M2083.19 469.954 L2083.19 473.982 Q2081.38 473.056 2079.44 472.593 Q2077.49 472.13 2075.41 472.13 Q2072.24 472.13 2070.64 473.102 Q2069.07 474.074 2069.07 476.019 Q2069.07 477.5 2070.2 478.357 Q2071.33 479.19 2074.76 479.954 L2076.22 480.278 Q2080.76 481.25 2082.65 483.032 Q2084.57 484.792 2084.57 487.963 Q2084.57 491.574 2081.7 493.681 Q2078.86 495.787 2073.86 495.787 Q2071.77 495.787 2069.51 495.37 Q2067.26 494.977 2064.76 494.167 L2064.76 489.769 Q2067.12 490.995 2069.41 491.62 Q2071.7 492.222 2073.95 492.222 Q2076.96 492.222 2078.58 491.204 Q2080.2 490.162 2080.2 488.287 Q2080.2 486.551 2079.02 485.625 Q2077.86 484.699 2073.9 483.843 L2072.42 483.495 Q2068.46 482.662 2066.7 480.949 Q2064.95 479.213 2064.95 476.204 Q2064.95 472.546 2067.54 470.556 Q2070.13 468.565 2074.9 468.565 Q2077.26 468.565 2079.34 468.912 Q2081.43 469.259 2083.19 469.954 Z\" fill=\"#000000\" fill-rule=\"evenodd\" fill-opacity=\"1\" /><path clip-path=\"url(#clip270)\" d=\"M2091.36 469.19 L2095.62 469.19 L2095.62 495.116 L2091.36 495.116 L2091.36 469.19 M2091.36 459.097 L2095.62 459.097 L2095.62 464.491 L2091.36 464.491 L2091.36 459.097 Z\" fill=\"#000000\" fill-rule=\"evenodd\" fill-opacity=\"1\" /><path clip-path=\"url(#clip270)\" d=\"M2105.62 489.236 L2110.5 489.236 L2110.5 493.218 L2106.7 500.625 L2103.72 500.625 L2105.62 493.218 L2105.62 489.236 Z\" fill=\"#000000\" fill-rule=\"evenodd\" fill-opacity=\"1\" /><path clip-path=\"url(#clip270)\" d=\"M2134.62 473.171 Q2133.9 472.755 2133.05 472.57 Q2132.21 472.361 2131.19 472.361 Q2127.58 472.361 2125.64 474.722 Q2123.72 477.06 2123.72 481.458 L2123.72 495.116 L2119.44 495.116 L2119.44 469.19 L2123.72 469.19 L2123.72 473.218 Q2125.06 470.857 2127.21 469.722 Q2129.37 468.565 2132.44 468.565 Q2132.88 468.565 2133.42 468.634 Q2133.95 468.681 2134.6 468.796 L2134.62 473.171 Z\" fill=\"#000000\" fill-rule=\"evenodd\" fill-opacity=\"1\" /><polyline clip-path=\"url(#clip270)\" style=\"stroke:#ed5d92; stroke-linecap:round; stroke-linejoin:round; stroke-width:4; stroke-opacity:1; fill:none\" points=\"1873.09,529.676 2013.07,529.676 \"/>\n",
       "<path clip-path=\"url(#clip270)\" d=\"M2061.06 521.03 L2051.68 533.646 L2061.54 546.956 L2056.52 546.956 L2048.97 536.771 L2041.43 546.956 L2036.4 546.956 L2046.47 533.391 L2037.26 521.03 L2042.28 521.03 L2049.16 530.266 L2056.03 521.03 L2061.06 521.03 Z\" fill=\"#000000\" fill-rule=\"evenodd\" fill-opacity=\"1\" /><path clip-path=\"url(#clip270)\" d=\"M2089.11 521.03 L2079.74 533.646 L2089.6 546.956 L2084.57 546.956 L2077.03 536.771 L2069.48 546.956 L2064.46 546.956 L2074.53 533.391 L2065.32 521.03 L2070.34 521.03 L2077.21 530.266 L2084.09 521.03 L2089.11 521.03 Z\" fill=\"#000000\" fill-rule=\"evenodd\" fill-opacity=\"1\" /><path clip-path=\"url(#clip270)\" d=\"M2117.17 521.03 L2107.79 533.646 L2117.65 546.956 L2112.63 546.956 L2105.08 536.771 L2097.54 546.956 L2092.51 546.956 L2102.58 533.391 L2093.37 521.03 L2098.39 521.03 L2105.27 530.266 L2112.14 521.03 L2117.17 521.03 Z\" fill=\"#000000\" fill-rule=\"evenodd\" fill-opacity=\"1\" /><path clip-path=\"url(#clip270)\" d=\"M2141.5 522.025 L2141.5 526.007 Q2139.69 525.011 2137.86 524.525 Q2136.06 524.016 2134.2 524.016 Q2130.06 524.016 2127.77 526.655 Q2125.48 529.271 2125.48 534.016 Q2125.48 538.761 2127.77 541.4 Q2130.06 544.016 2134.2 544.016 Q2136.06 544.016 2137.86 543.53 Q2139.69 543.021 2141.5 542.025 L2141.5 545.96 Q2139.71 546.794 2137.79 547.21 Q2135.89 547.627 2133.74 547.627 Q2127.88 547.627 2124.44 543.946 Q2120.99 540.266 2120.99 534.016 Q2120.99 527.673 2124.46 524.039 Q2127.95 520.405 2134.02 520.405 Q2135.99 520.405 2137.86 520.822 Q2139.74 521.215 2141.5 522.025 Z\" fill=\"#000000\" fill-rule=\"evenodd\" fill-opacity=\"1\" /><path clip-path=\"url(#clip270)\" d=\"M2170.45 531.308 L2170.45 546.956 L2166.19 546.956 L2166.19 531.447 Q2166.19 527.766 2164.76 525.937 Q2163.32 524.109 2160.45 524.109 Q2157 524.109 2155.01 526.308 Q2153.02 528.507 2153.02 532.303 L2153.02 546.956 L2148.74 546.956 L2148.74 510.937 L2153.02 510.937 L2153.02 525.058 Q2154.55 522.72 2156.61 521.562 Q2158.69 520.405 2161.4 520.405 Q2165.87 520.405 2168.16 523.183 Q2170.45 525.937 2170.45 531.308 Z\" fill=\"#000000\" fill-rule=\"evenodd\" fill-opacity=\"1\" /><path clip-path=\"url(#clip270)\" d=\"M2178.95 521.03 L2183.21 521.03 L2183.21 546.956 L2178.95 546.956 L2178.95 521.03 M2178.95 510.937 L2183.21 510.937 L2183.21 516.331 L2178.95 516.331 L2178.95 510.937 Z\" fill=\"#000000\" fill-rule=\"evenodd\" fill-opacity=\"1\" /></svg>\n"
      ]
     },
     "execution_count": 582,
     "metadata": {},
     "output_type": "execute_result"
    }
   ],
   "source": [
    "using Plots #showing initial data and the initial status of the horizon finder\n",
    "plot(compactify.(initX[4:L-3]), state_array[4:L-3,1:7], xaxis=\"r\",title=\"Initial Data\", labels=[\"m\" \"beta\" \"psi\" \"xxxchi,u\" \"derxxxchi\" \"psi,r\" \"xxxchi\"],xlim=[0,1])"
   ]
  },
  {
   "cell_type": "code",
   "execution_count": 583,
   "id": "15bbf245",
   "metadata": {},
   "outputs": [],
   "source": [
    "function compactify(r)\n",
    "    return r/(1+r)\n",
    "end\n",
    "function uncompactify(x)\n",
    "    return x/(1-x)\n",
    "end;"
   ]
  },
  {
   "cell_type": "markdown",
   "id": "9b444ece",
   "metadata": {
    "papermill": {
     "duration": 0.009161,
     "end_time": "2023-03-28T18:06:25.373170",
     "exception": false,
     "start_time": "2023-03-28T18:06:25.364009",
     "status": "completed"
    },
    "tags": []
   },
   "source": [
    "# Defining the initial state array for the evolution m β Ψ and Ψ,x"
   ]
  },
  {
   "cell_type": "code",
   "execution_count": 584,
   "id": "9902ffab",
   "metadata": {
    "execution": {
     "iopub.execute_input": "2023-03-28T19:06:25.389000Z",
     "iopub.status.busy": "2023-03-28T19:06:25.388000Z",
     "iopub.status.idle": "2023-03-28T19:06:32.710000Z",
     "shell.execute_reply": "2023-03-28T19:06:32.710000Z"
    },
    "papermill": {
     "duration": 7.335269,
     "end_time": "2023-03-28T18:06:32.715990",
     "exception": false,
     "start_time": "2023-03-28T18:06:25.380721",
     "status": "completed"
    },
    "tags": []
   },
   "outputs": [],
   "source": [
    "using CSV, Tables\n",
    "#CSV.write(dir*\"/res$res/time_step0.csv\", Tables.table(state_array), writeheader=false)\n",
    "\n",
    "global files=[\"m\", \"beta\", \"psi\", \"deruxxxchi\", \"derxxxchi\", \"derpsi\", \"xxxchi\", \"massloss\"]\n",
    "\n",
    "\n",
    "massloss = zeros(L)\n",
    "massloss[4:L-3] = masslossfunc(state_array)[4:L-3]\n",
    "print_muninn(files, 0, [state_array[:,1:7] massloss],res,\"w\", state_array[:,8])"
   ]
  },
  {
   "cell_type": "code",
   "execution_count": 585,
   "id": "fff1426a",
   "metadata": {
    "execution": {
     "iopub.execute_input": "2023-03-28T19:06:33.154000Z",
     "iopub.status.busy": "2023-03-28T19:06:32.734000Z",
     "iopub.status.idle": "2023-03-28T19:06:33.884000Z",
     "shell.execute_reply": "2023-03-28T19:06:33.884000Z"
    },
    "papermill": {
     "duration": 1.164178,
     "end_time": "2023-03-28T18:06:33.889802",
     "exception": false,
     "start_time": "2023-03-28T18:06:32.725624",
     "status": "completed"
    },
    "tags": []
   },
   "outputs": [],
   "source": [
    "time=0.0\n",
    "criticality=0.0\n",
    "explode=0.0\n",
    "evol_stats = [criticality A sigma r0 time explode run]\n",
    "global monitor_ratio = zeros(L);\n",
    "#CSV.write(dir*\"/parameters.csv\", Tables.table(evol_stats), writeheader=true, header=[\"criticality\", \"A\", \"sigma\", \"r0\", \"time\", \"explode\", \"run\"])"
   ]
  },
  {
   "cell_type": "code",
   "execution_count": 586,
   "id": "9e9abd7d",
   "metadata": {},
   "outputs": [
    {
     "name": "stdout",
     "output_type": "stream",
     "text": [
      "1.9999999999999996\n"
     ]
    }
   ],
   "source": [
    "ginit=speed(initX,state_array[:,1],state_array[:,2])\n",
    "println(update_dt(initX,state_array[:,1],state_array[:,2],dx,ginit)/dt)"
   ]
  },
  {
   "cell_type": "code",
   "execution_count": 587,
   "id": "4e0df300",
   "metadata": {},
   "outputs": [
    {
     "data": {
      "text/plain": [
       "4"
      ]
     },
     "execution_count": 587,
     "metadata": {},
     "output_type": "execute_result"
    }
   ],
   "source": [
    "using Base.Threads\n",
    "Threads.nthreads()"
   ]
  },
  {
   "cell_type": "code",
   "execution_count": 588,
   "id": "27a5bccd",
   "metadata": {},
   "outputs": [
    {
     "data": {
      "text/plain": [
       "0.00025"
      ]
     },
     "execution_count": 588,
     "metadata": {},
     "output_type": "execute_result"
    }
   ],
   "source": [
    "dt=0.001/2^(m-1)"
   ]
  },
  {
   "cell_type": "markdown",
   "id": "42e2c73d",
   "metadata": {
    "papermill": {
     "duration": 0.007626,
     "end_time": "2023-03-28T18:06:33.908346",
     "exception": false,
     "start_time": "2023-03-28T18:06:33.900720",
     "status": "completed"
    },
    "tags": []
   },
   "source": [
    " ## Time evolution"
   ]
  },
  {
   "cell_type": "markdown",
   "id": "7da47594",
   "metadata": {
    "papermill": {
     "duration": 0.007471,
     "end_time": "2023-03-28T18:06:33.923805",
     "exception": false,
     "start_time": "2023-03-28T18:06:33.916334",
     "status": "completed"
    },
    "tags": []
   },
   "source": [
    "fixed grid"
   ]
  },
  {
   "cell_type": "code",
   "execution_count": 589,
   "id": "fcb7ae3f",
   "metadata": {
    "execution": {
     "iopub.execute_input": "2023-03-28T19:06:33.940000Z",
     "iopub.status.busy": "2023-03-28T19:06:33.940000Z",
     "iopub.status.idle": "2023-03-28T21:02:19.379000Z",
     "shell.execute_reply": "2023-03-28T21:02:19.378000Z"
    },
    "papermill": {
     "duration": 6945.452732,
     "end_time": "2023-03-28T20:02:19.384591",
     "exception": false,
     "start_time": "2023-03-28T18:06:33.931859",
     "status": "completed"
    },
    "tags": []
   },
   "outputs": [
    {
     "name": "stdout",
     "output_type": "stream",
     "text": [
      "\n",
      "\n",
      "iteration 100 dt is 0.00025, t=0.02500000000000002 speed is 0.5000000000000001, dx/dt=15.0\n",
      "\n",
      "\n",
      "iteration 200 dt is 0.00025, t=0.05000000000000004 speed is 0.5000000000000001, dx/dt=15.0\n",
      "\n",
      "\n",
      "iteration 300 dt is 0.00025, t=0.07500000000000005 speed is 0.5000000000000001, dx/dt=15.0\n",
      "\n",
      "\n",
      "iteration 400 dt is 0.00025, t=0.10000000000000007 speed is 0.5000000000000001, dx/dt=15.0\n",
      "\n",
      "\n",
      "iteration 500 dt is 0.00025, t=0.12500000000000008 speed is 0.5000000000000001, dx/dt=15.0\n",
      "\n",
      "\n",
      "iteration 600 dt is 0.00025, t=0.1500000000000001 speed is 0.5000000000000001, dx/dt=15.0\n",
      "\n",
      "\n",
      "iteration 700 dt is 0.00025, t=0.17500000000000013 speed is 0.5000000000000001, dx/dt=15.0\n",
      "\n",
      "\n",
      "iteration 800 dt is 0.00025, t=0.20000000000000015 speed is 0.5000000000000001, dx/dt=15.0\n",
      "\n",
      "\n",
      "iteration 900 dt is 0.00025, t=0.22500000000000017 speed is 0.5000000000000001, dx/dt=15.0\n",
      "\n",
      "\n",
      "iteration 1000 dt is 0.00025, t=0.25000000000000017 speed is 0.5000000000000001, dx/dt=15.0\n",
      "\n",
      "\n",
      "iteration 1100 dt is 0.00025, t=0.2749999999999974 speed is 0.5000000000000001, dx/dt=15.0\n",
      "\n",
      "\n",
      "iteration 1200 dt is 0.00025, t=0.29999999999999466 speed is 0.5000000000000001, dx/dt=15.0\n",
      "\n",
      "\n",
      "iteration 1300 dt is 0.00025, t=0.3249999999999919 speed is 0.5000000000000001, dx/dt=15.0\n",
      "\n",
      "\n",
      "iteration 1400 dt is 0.00025, t=0.34999999999998915 speed is 0.5000000000000001, dx/dt=15.0\n",
      "\n",
      "\n",
      "iteration 1500 dt is 0.00025, t=0.3749999999999864 speed is 0.5000000000000001, dx/dt=15.0\n",
      "\n",
      "\n",
      "iteration 1600 dt is 0.00025, t=0.39999999999998365 speed is 0.5000000000000001, dx/dt=15.0\n",
      "\n",
      "\n",
      "iteration 1700 dt is 0.00025, t=0.4249999999999809 speed is 0.5000000000000001, dx/dt=15.0\n",
      "\n",
      "\n",
      "iteration 1800 dt is 0.00025, t=0.44999999999997814 speed is 0.5000000000000001, dx/dt=15.0\n",
      "\n",
      "\n",
      "iteration 1900 dt is 0.00025, t=0.4749999999999754 speed is 0.5000000000000001, dx/dt=15.0\n",
      "\n",
      "\n",
      "iteration 2000 dt is 0.00025, t=0.49999999999997263 speed is 0.5000000000000001, dx/dt=15.0\n",
      "\n",
      "\n",
      "iteration 2100 dt is 0.00025, t=0.5249999999999699 speed is 0.5000000000000001, dx/dt=15.0\n",
      "\n",
      "\n",
      "iteration 2200 dt is 0.00025, t=0.5499999999999672 speed is 0.5000000000000001, dx/dt=15.0\n",
      "\n",
      "\n",
      "iteration 2300 dt is 0.00025, t=0.5749999999999644 speed is 0.5000000000000001, dx/dt=15.0\n",
      "\n",
      "\n",
      "iteration 2400 dt is 0.00025, t=0.5999999999999617 speed is 0.5000000000000001, dx/dt=15.0\n",
      "\n",
      "\n",
      "iteration 2500 dt is 0.00025, t=0.6249999999999589 speed is 0.5000000000000001, dx/dt=15.0\n",
      "\n",
      "\n",
      "iteration 2600 dt is 0.00025, t=0.6499999999999562 speed is 0.5000000000000001, dx/dt=15.0\n",
      "\n",
      "\n",
      "iteration 2700 dt is 0.00025, t=0.6749999999999534 speed is 0.5000000000000001, dx/dt=15.0\n",
      "\n",
      "\n",
      "iteration 2800 dt is 0.00025, t=0.6999999999999507 speed is 0.5000000000000001, dx/dt=15.0\n",
      "\n",
      "\n",
      "iteration 2900 dt is 0.00025, t=0.7249999999999479 speed is 0.5000000000000001, dx/dt=15.0\n",
      "\n",
      "\n",
      "iteration 3000 dt is 0.00025, t=0.7499999999999452 speed is 0.5000000000000001, dx/dt=15.0\n",
      "\n",
      "\n",
      "iteration 3100 dt is 0.00025, t=0.7749999999999424 speed is 0.5000000000000001, dx/dt=15.0\n",
      "\n",
      "\n",
      "iteration 3200 dt is 0.00025, t=0.7999999999999396 speed is 0.5000000000000001, dx/dt=15.0\n",
      "\n",
      "\n",
      "iteration 3300 dt is 0.00025, t=0.8249999999999369 speed is 0.5000000000000001, dx/dt=15.0\n",
      "\n",
      "\n",
      "iteration 3400 dt is 0.00025, t=0.8499999999999341 speed is 0.5000000000000001, dx/dt=15.0\n",
      "\n",
      "\n",
      "iteration 3500 dt is 0.00025, t=0.8749999999999314 speed is 0.5000000000000001, dx/dt=15.0\n",
      "\n",
      "\n",
      "iteration 3600 dt is 0.00025, t=0.8999999999999286 speed is 0.5000000000000001, dx/dt=15.0\n",
      "\n",
      "\n",
      "iteration 3700 dt is 0.00025, t=0.9249999999999259 speed is 0.5000000000000001, dx/dt=15.0\n",
      "\n",
      "\n",
      "iteration 3800 dt is 0.00025, t=0.9499999999999231 speed is 0.5000000000000001, dx/dt=15.0\n",
      "\n",
      "\n",
      "iteration 3900 dt is 0.00025, t=0.9749999999999204 speed is 0.5000000000000001, dx/dt=15.0\n",
      "\n",
      "\n",
      "iteration 4000 dt is 0.00025, t=0.9999999999999176 speed is 0.5000000000000001, dx/dt=15.0\n",
      "\n",
      "\n",
      "iteration 4100 dt is 0.00025, t=1.024999999999926 speed is 0.5000000000000001, dx/dt=15.0\n",
      "\n",
      "\n",
      "iteration 4200 dt is 0.00025, t=1.0499999999999343 speed is 0.5000000000000001, dx/dt=15.0\n",
      "\n",
      "\n",
      "iteration 4300 dt is 0.00025, t=1.0749999999999427 speed is 0.5000000000000001, dx/dt=15.0\n",
      "\n",
      "\n",
      "iteration 4400 dt is 0.00025, t=1.099999999999951 speed is 0.5000000000000001, dx/dt=15.0\n",
      "\n",
      "\n",
      "iteration 4500 dt is 0.00025, t=1.1249999999999594 speed is 0.5000000000000001, dx/dt=15.0\n",
      "\n",
      "\n",
      "iteration 4600 dt is 0.00025, t=1.1499999999999677 speed is 0.5000000000000001, dx/dt=15.0\n",
      "\n",
      "\n",
      "iteration 4700 dt is 0.00025, t=1.174999999999976 speed is 0.5000000000000001, dx/dt=15.0\n",
      "\n",
      "\n",
      "iteration 4800 dt is 0.00025, t=1.1999999999999844 speed is 0.5000000000000001, dx/dt=15.0\n",
      "\n",
      "\n",
      "iteration 4900 dt is 0.00025, t=1.2249999999999928 speed is 0.5000000000000001, dx/dt=15.0\n",
      "\n",
      "\n",
      "iteration 5000 dt is 0.00025, t=1.250000000000001 speed is 0.5000000000000001, dx/dt=15.0\n",
      "\n",
      "\n",
      "iteration 5100 dt is 0.00025, t=1.2750000000000095 speed is 0.5000000000000001, dx/dt=15.0\n",
      "\n",
      "\n",
      "iteration 5200 dt is 0.00025, t=1.3000000000000178 speed is 0.5000000000000001, dx/dt=15.0\n",
      "\n",
      "\n",
      "iteration 5300 dt is 0.00025, t=1.3250000000000262 speed is 0.5000000000000001, dx/dt=15.0\n",
      "\n",
      "\n",
      "iteration 5400 dt is 0.00025, t=1.3500000000000345 speed is 0.5000000000000001, dx/dt=15.0\n",
      "\n",
      "\n",
      "iteration 5500 dt is 0.00025, t=1.3750000000000429 speed is 0.5000000000000001, dx/dt=15.0\n",
      "\n",
      "\n",
      "iteration 5600 dt is 0.00025, t=1.4000000000000512 speed is 0.5000000000000001, dx/dt=15.0\n",
      "\n",
      "\n",
      "iteration 5700 dt is 0.00025, t=1.4250000000000596 speed is 0.5000000000000001, dx/dt=15.0\n",
      "\n",
      "\n",
      "iteration 5800 dt is 0.00025, t=1.450000000000068 speed is 0.5000000000000001, dx/dt=15.0\n",
      "\n",
      "\n",
      "iteration 5900 dt is 0.00025, t=1.4750000000000763 speed is 0.5000000000000001, dx/dt=15.0\n",
      "\n",
      "\n",
      "iteration 6000 dt is 0.00025, t=1.5000000000000846 speed is 0.5000000000000001, dx/dt=15.0\n",
      "\n",
      "\n",
      "iteration 6100 dt is 0.00025, t=1.525000000000093 speed is 0.5000000000000001, dx/dt=15.0\n",
      "\n",
      "\n",
      "iteration 6200 dt is 0.00025, t=1.5500000000001013 speed is 0.5000000000000001, dx/dt=15.0\n",
      "\n",
      "\n",
      "iteration 6300 dt is 0.00025, t=1.5750000000001096 speed is 0.5000000000000001, dx/dt=15.0\n"
     ]
    },
    {
     "ename": "LoadError",
     "evalue": "InterruptException:",
     "output_type": "error",
     "traceback": [
      "InterruptException:",
      "",
      "Stacktrace:",
      " [1] masslossfunc(y::Matrix{Float64})",
      "   @ Main ~/Desktop/MSc Thesis/Git/TMYangMills/TMYangMills.jl:1068",
      " [2] timeevolution(state_array::Matrix{Float64}, finaltime::Int64, run::Int64)",
      "   @ Main ~/Desktop/MSc Thesis/Git/TMYangMills/TMYangMills.jl:1152",
      " [3] top-level scope",
      "   @ In[589]:2"
     ]
    }
   ],
   "source": [
    "finaltime=3\n",
    "evol_stats, T_interp = timeevolution(state_array,finaltime,run);\n",
    "#CSV.write(dir*\"/timearray$res.csv\", Tables.table(T_interp), writeheader=false);\n",
    "#CSV.write(dir*\"/parameters.csv\", Tables.table(evol_stats), writeheader=false);"
   ]
  },
  {
   "cell_type": "code",
   "execution_count": null,
   "id": "ef57be5a",
   "metadata": {},
   "outputs": [],
   "source": []
  },
  {
   "cell_type": "code",
   "execution_count": null,
   "id": "fa24f38b",
   "metadata": {},
   "outputs": [],
   "source": []
  }
 ],
 "metadata": {
  "@webio": {
   "lastCommId": null,
   "lastKernelId": null
  },
  "kernelspec": {
   "display_name": "Julia 1.8.0",
   "language": "julia",
   "name": "julia-1.8"
  },
  "language_info": {
   "file_extension": ".jl",
   "mimetype": "application/julia",
   "name": "julia",
   "version": "1.8.0"
  },
  "papermill": {
   "default_parameters": {},
   "duration": 7025.507115,
   "end_time": "2023-03-28T20:03:06.430756",
   "environment_variables": {},
   "exception": null,
   "input_path": "Evolution_ScalarField.ipynb",
   "output_path": "Evolution_ScalarField.ipynb",
   "parameters": {
    "A": 0.001,
    "m": 3
   },
   "start_time": "2023-03-28T18:06:00.923641",
   "version": "2.4.0"
  }
 },
 "nbformat": 4,
 "nbformat_minor": 5
}
