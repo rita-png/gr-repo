{
 "cells": [
  {
   "cell_type": "markdown",
   "id": "d88601a8",
   "metadata": {
    "papermill": {
     "duration": 0.010813,
     "end_time": "2023-03-28T18:06:09.878411",
     "exception": false,
     "start_time": "2023-03-28T18:06:09.867598",
     "status": "completed"
    },
    "tags": []
   },
   "source": [
    "# Evolution of Einstein's equations"
   ]
  },
  {
   "cell_type": "markdown",
   "id": "03c607c7",
   "metadata": {
    "papermill": {
     "duration": 0.006777,
     "end_time": "2023-03-28T18:06:09.893152",
     "exception": false,
     "start_time": "2023-03-28T18:06:09.886375",
     "status": "completed"
    },
    "tags": []
   },
   "source": [
    "# Initial data , setting length of the domain and discretization\n"
   ]
  },
  {
   "cell_type": "markdown",
   "id": "43aebde7",
   "metadata": {
    "execution": {
     "iopub.execute_input": "2023-03-28T19:06:10.907000Z",
     "iopub.status.busy": "2023-03-28T19:06:09.907000Z",
     "iopub.status.idle": "2023-03-28T19:06:12.147000Z",
     "shell.execute_reply": "2023-03-28T19:06:12.110000Z"
    },
    "papermill": {
     "duration": 2.251282,
     "end_time": "2023-03-28T18:06:12.151193",
     "exception": false,
     "start_time": "2023-03-28T18:06:09.899911",
     "status": "completed"
    },
    "tags": [
     "injected-parameters"
    ]
   },
   "source": [
    "# Parameters"
   ]
  },
  {
   "cell_type": "code",
   "execution_count": 102,
   "id": "a28c43b6",
   "metadata": {},
   "outputs": [
    {
     "data": {
      "text/plain": [
       "1"
      ]
     },
     "execution_count": 102,
     "metadata": {},
     "output_type": "execute_result"
    }
   ],
   "source": [
    "m=1\n",
    "p = 0.1#0.4\n",
    "q = 1#1.0#0.1#0.1#0.01#0.9#0.01#0.5 #Pure SF is q=0\n",
    "run = 1"
   ]
  },
  {
   "cell_type": "markdown",
   "id": "b3b8c463",
   "metadata": {},
   "source": [
    "Choose your grid"
   ]
  },
  {
   "cell_type": "code",
   "execution_count": 103,
   "id": "809ea402",
   "metadata": {},
   "outputs": [
    {
     "data": {
      "text/plain": [
       "false"
      ]
     },
     "execution_count": 103,
     "metadata": {},
     "output_type": "execute_result"
    }
   ],
   "source": [
    "global compactified=false\n",
    "global loggrid=false\n",
    "global bisection=false\n",
    "global zeroformat=false\n",
    "global twod=true\n",
    "\n",
    "global source=false"
   ]
  },
  {
   "cell_type": "code",
   "execution_count": 104,
   "id": "73b14643",
   "metadata": {},
   "outputs": [
    {
     "data": {
      "text/plain": [
       "compactify (generic function with 1 method)"
      ]
     },
     "execution_count": 104,
     "metadata": {},
     "output_type": "execute_result"
    }
   ],
   "source": [
    "function compactify(r)\n",
    "    x=r/(1+r)\n",
    "    return x\n",
    "end"
   ]
  },
  {
   "cell_type": "code",
   "execution_count": 105,
   "id": "80a113e0",
   "metadata": {},
   "outputs": [],
   "source": [
    "using Quadmath, Printf\n",
    "\n",
    "res=m;\n",
    "N=2.0^m*200.0/2.0\n",
    "\n",
    "if compactified==true\n",
    "    Xf=1.0\n",
    "else\n",
    "    Xf=3.0\n",
    "end\n",
    "\n",
    "dx=Xf/N\n",
    "if loggrid==false\n",
    "    dt=0.5*round(dx,digits=10)\n",
    "else\n",
    "    dt=0.1*round(dx,digits=10)\n",
    "end\n",
    "Nt=N\n",
    "Tf=Nt*dt;"
   ]
  },
  {
   "cell_type": "code",
   "execution_count": 106,
   "id": "4f752d54",
   "metadata": {
    "execution": {
     "iopub.execute_input": "2023-03-28T19:06:12.356000Z",
     "iopub.status.busy": "2023-03-28T19:06:12.356000Z",
     "iopub.status.idle": "2023-03-28T19:06:12.364000Z",
     "shell.execute_reply": "2023-03-28T19:06:12.364000Z"
    },
    "papermill": {
     "duration": 0.020815,
     "end_time": "2023-03-28T18:06:12.368761",
     "exception": false,
     "start_time": "2023-03-28T18:06:12.347946",
     "status": "completed"
    },
    "tags": []
   },
   "outputs": [
    {
     "name": "stdout",
     "output_type": "stream",
     "text": [
      "200.0"
     ]
    }
   ],
   "source": [
    "print(N)"
   ]
  },
  {
   "cell_type": "code",
   "execution_count": 107,
   "id": "78fb78a5",
   "metadata": {
    "execution": {
     "iopub.execute_input": "2023-03-28T19:06:12.419000Z",
     "iopub.status.busy": "2023-03-28T19:06:12.419000Z",
     "iopub.status.idle": "2023-03-28T19:06:13.308000Z",
     "shell.execute_reply": "2023-03-28T19:06:13.308000Z"
    },
    "papermill": {
     "duration": 0.90283,
     "end_time": "2023-03-28T18:06:13.314381",
     "exception": false,
     "start_time": "2023-03-28T18:06:12.411551",
     "status": "completed"
    },
    "tags": []
   },
   "outputs": [
    {
     "data": {
      "text/plain": [
       "\"/home/rita13santos/Desktop/MSc Thesis/Git/TMYangMills/DATA\""
      ]
     },
     "execution_count": 107,
     "metadata": {},
     "output_type": "execute_result"
    }
   ],
   "source": [
    "global dir = \"/home/rita13santos/Desktop/MSc Thesis/Git/TMYangMills/DATA\""
   ]
  },
  {
   "cell_type": "markdown",
   "id": "e2dd4335",
   "metadata": {
    "papermill": {
     "duration": 0.007006,
     "end_time": "2023-03-28T18:06:13.351329",
     "exception": false,
     "start_time": "2023-03-28T18:06:13.344323",
     "status": "completed"
    },
    "tags": []
   },
   "source": [
    "# Grid"
   ]
  },
  {
   "cell_type": "code",
   "execution_count": 173,
   "id": "bc5288f8",
   "metadata": {
    "execution": {
     "iopub.execute_input": "2023-03-28T19:06:13.636000Z",
     "iopub.status.busy": "2023-03-28T19:06:13.636000Z",
     "iopub.status.idle": "2023-03-28T19:06:14.762000Z",
     "shell.execute_reply": "2023-03-28T19:06:14.762000Z"
    },
    "papermill": {
     "duration": 1.137394,
     "end_time": "2023-03-28T18:06:14.765909",
     "exception": false,
     "start_time": "2023-03-28T18:06:13.628515",
     "status": "completed"
    },
    "tags": []
   },
   "outputs": [],
   "source": [
    "using Printf\n",
    "include(\"./TMYangMills.jl\");"
   ]
  },
  {
   "cell_type": "code",
   "execution_count": 174,
   "id": "de24fea3",
   "metadata": {
    "execution": {
     "iopub.execute_input": "2023-03-28T19:06:13.366000Z",
     "iopub.status.busy": "2023-03-28T19:06:13.366000Z",
     "iopub.status.idle": "2023-03-28T19:06:13.571000Z",
     "shell.execute_reply": "2023-03-28T19:06:13.571000Z"
    },
    "papermill": {
     "duration": 0.216104,
     "end_time": "2023-03-28T18:06:13.574666",
     "exception": false,
     "start_time": "2023-03-28T18:06:13.358562",
     "status": "completed"
    },
    "tags": []
   },
   "outputs": [
    {
     "name": "stdout",
     "output_type": "stream",
     "text": [
      "step size is  0.015\n",
      "the time step is 0.001\n"
     ]
    }
   ],
   "source": [
    "ori=0.0#Float128(0.0)#0.0;\n",
    "initX1 = nothing\n",
    "N=int(N)\n",
    "initX1=range(ori, stop=Xf, step=dx);\n",
    "initX = range(round(ori-3.0*dx,digits=10), stop=Xf+3.0*dx, step=dx)\n",
    "\n",
    "L=length(initX);\n",
    "println(\"step size is  \", dx)\n",
    "println(\"the time step is \", dt)\n",
    "\n",
    "if loggrid==true\n",
    "    global originalX=initX\n",
    "    xtilde=gridfunc(initX1)\n",
    "    initX1=xtilde\n",
    "    initX=collect(initX)\n",
    "    initX[4:L-3]=xtilde\n",
    "end;"
   ]
  },
  {
   "cell_type": "markdown",
   "id": "80ab1480",
   "metadata": {
    "papermill": {
     "duration": 0.007525,
     "end_time": "2023-03-28T18:06:14.783937",
     "exception": false,
     "start_time": "2023-03-28T18:06:14.776412",
     "status": "completed"
    },
    "tags": []
   },
   "source": [
    "# Initial data of m β Ψ and Ψ,x"
   ]
  },
  {
   "cell_type": "code",
   "execution_count": 175,
   "id": "d0af654c",
   "metadata": {
    "execution": {
     "iopub.execute_input": "2023-03-28T19:06:14.799000Z",
     "iopub.status.busy": "2023-03-28T19:06:14.799000Z",
     "iopub.status.idle": "2023-03-28T19:06:22.269000Z",
     "shell.execute_reply": "2023-03-28T19:06:22.269000Z"
    },
    "papermill": {
     "duration": 7.48258,
     "end_time": "2023-03-28T18:06:22.273970",
     "exception": false,
     "start_time": "2023-03-28T18:06:14.791390",
     "status": "completed"
    },
    "tags": []
   },
   "outputs": [],
   "source": [
    "using Dierckx\n",
    "\n",
    "\n",
    "####\n",
    "\n",
    "initm=zeros(L)\n",
    "initbeta=zeros(L)\n",
    "initpsi=zeros(L)\n",
    "initpi=zeros(L)\n",
    "initderxchi=zeros(L)\n",
    "initderpsi=zeros(L)\n",
    "initxchi=zeros(L)\n",
    "\n",
    "#state array is m beta psi xchi,u xchi,rORx psi,r xchi r\n",
    "state_array=[initm initbeta initpsi initpi initderxchi initderpsi initxchi initX];\n",
    "#attention:  in noncompactified code derxchi is (xchi),r. in compactified code derxchi is (xchi),x\n",
    "\n",
    "\n",
    "#PSI,R\n",
    "A=0.075*p*(1−q)\n",
    "r0=0.75\n",
    "sigma=0.25\n",
    "\n",
    "initderpsi[4:L-3] = init_derpsi(initX1,r0,sigma,A)\n",
    "\n",
    "state_array[:,6] = initderpsi\n",
    "state_array=ghost(state_array)\n",
    "\n",
    "#XCHI\n",
    "A=0.25*p*q\n",
    "r0=0.3\n",
    "sigma=0.1\n",
    "\n",
    "initxchi[4:L-3] = init_xchi(initX1,r0,sigma,A)\n",
    "\n",
    "state_array[:,7] = initxchi\n",
    "\n",
    "####\n",
    "#PSI FROM PSI,R, CHI,R FROM CHI\n",
    "state_array[:,7]=parity(state_array[:,7])\n",
    "state_array[4:L-3,5]=Der_array(state_array,7,initX)[4:L-3]#derivative(xchi_func, initX1; nu=1)#Der_array(state_array,7,initX)[4:L-3]\n",
    "state_array[L-3,5]=state_array[L-4,5]\n",
    "\n",
    "state_array[:,5]=secondparity(state_array[:,5])\n",
    "aux=Der_array(state_array,5,initX)\n",
    "aux[4]=0\n",
    "aux[L-3]=aux[L-4]\n",
    "\n",
    "# update interpolation of psi,x\n",
    "derxchi_func = Spline1D(initX[4:L-3], state_array[4:L-3,5],  k=4);\n",
    "derpsi_func = Spline1D(initX[4:L-3], state_array[4:L-3,6],  k=4);\n",
    "xchi_func = Spline1D(initX[4:L-3], state_array[4:L-3,7],  k=4);\n",
    "derrxchi_func = Spline1D(initX[4:L-3], aux[4:L-3], k=4);\n",
    "\n",
    "funcs=[derxchi_func derpsi_func xchi_func derrxchi_func];"
   ]
  },
  {
   "cell_type": "code",
   "execution_count": null,
   "id": "2097da7b",
   "metadata": {},
   "outputs": [],
   "source": []
  },
  {
   "cell_type": "code",
   "execution_count": 176,
   "id": "78cfbd6e",
   "metadata": {},
   "outputs": [
    {
     "data": {
      "text/plain": [
       "201×4 Matrix{Float64}:\n",
       " 0.0  0.0  0.0   0.0\n",
       " 0.0  0.0  0.0   3.6779e-6\n",
       " 0.0  0.0  0.0   1.72041e-5\n",
       " 0.0  0.0  0.0   4.85271e-5\n",
       " 0.0  0.0  0.0   0.000112163\n",
       " 0.0  0.0  0.0   0.000230383\n",
       " 0.0  0.0  0.0   0.000433845\n",
       " 0.0  0.0  0.0   0.000760915\n",
       " 0.0  0.0  0.0   0.00125501\n",
       " 0.0  0.0  0.0   0.00195977\n",
       " 0.0  0.0  0.0   0.00291233\n",
       " 0.0  0.0  0.0   0.0041357\n",
       " 0.0  0.0  0.0   0.00563135\n",
       " ⋮              \n",
       " 0.0  0.0  0.0  -3.29732e-6\n",
       " 0.0  0.0  0.0  -3.2973e-6\n",
       " 0.0  0.0  0.0  -3.29728e-6\n",
       " 0.0  0.0  0.0  -3.29726e-6\n",
       " 0.0  0.0  0.0  -3.29725e-6\n",
       " 0.0  0.0  0.0  -3.29724e-6\n",
       " 0.0  0.0  0.0  -3.29722e-6\n",
       " 0.0  0.0  0.0  -3.29722e-6\n",
       " 0.0  0.0  0.0  -3.29717e-6\n",
       " 0.0  0.0  0.0  -3.29721e-6\n",
       " 0.0  0.0  0.0  -3.29748e-6\n",
       " 0.0  0.0  0.0  -3.29784e-6"
      ]
     },
     "execution_count": 176,
     "metadata": {},
     "output_type": "execute_result"
    }
   ],
   "source": [
    "y0=[0.0 0.0 0.0 0.0]\n",
    "\n",
    "if twod==true\n",
    "        state_array[4:L-3,1:4] = twod_n_rk4wrapper(RHS,y0,initX[4:L-3],0,funcs,state_array[:,:]);\n",
    "    else\n",
    "        state_array[4:L-3,1:4] = n_rk4wrapper(RHS,y0,initX[4:L-3],0,funcs,state_array[:,:]);\n",
    "end\n",
    "\n",
    "#state_array = ghost(state_array);"
   ]
  },
  {
   "cell_type": "code",
   "execution_count": 177,
   "id": "14e14e45",
   "metadata": {},
   "outputs": [
    {
     "data": {
      "image/svg+xml": [
       "<?xml version=\"1.0\" encoding=\"utf-8\"?>\n",
       "<svg xmlns=\"http://www.w3.org/2000/svg\" xmlns:xlink=\"http://www.w3.org/1999/xlink\" width=\"600\" height=\"400\" viewBox=\"0 0 2400 1600\">\n",
       "<defs>\n",
       "  <clipPath id=\"clip940\">\n",
       "    <rect x=\"0\" y=\"0\" width=\"2400\" height=\"1600\"/>\n",
       "  </clipPath>\n",
       "</defs>\n",
       "<path clip-path=\"url(#clip940)\" d=\"M0 1600 L2400 1600 L2400 0 L0 0  Z\" fill=\"#ffffff\" fill-rule=\"evenodd\" fill-opacity=\"1\"/>\n",
       "<defs>\n",
       "  <clipPath id=\"clip941\">\n",
       "    <rect x=\"480\" y=\"0\" width=\"1681\" height=\"1600\"/>\n",
       "  </clipPath>\n",
       "</defs>\n",
       "<path clip-path=\"url(#clip940)\" d=\"M222.871 1423.18 L2352.76 1423.18 L2352.76 123.472 L222.871 123.472  Z\" fill=\"#ffffff\" fill-rule=\"evenodd\" fill-opacity=\"1\"/>\n",
       "<defs>\n",
       "  <clipPath id=\"clip942\">\n",
       "    <rect x=\"222\" y=\"123\" width=\"2131\" height=\"1301\"/>\n",
       "  </clipPath>\n",
       "</defs>\n",
       "<polyline clip-path=\"url(#clip942)\" style=\"stroke:#000000; stroke-linecap:round; stroke-linejoin:round; stroke-width:2; stroke-opacity:0.1; fill:none\" points=\"222.871,1423.18 222.871,123.472 \"/>\n",
       "<polyline clip-path=\"url(#clip942)\" style=\"stroke:#000000; stroke-linecap:round; stroke-linejoin:round; stroke-width:2; stroke-opacity:0.1; fill:none\" points=\"648.848,1423.18 648.848,123.472 \"/>\n",
       "<polyline clip-path=\"url(#clip942)\" style=\"stroke:#000000; stroke-linecap:round; stroke-linejoin:round; stroke-width:2; stroke-opacity:0.1; fill:none\" points=\"1074.82,1423.18 1074.82,123.472 \"/>\n",
       "<polyline clip-path=\"url(#clip942)\" style=\"stroke:#000000; stroke-linecap:round; stroke-linejoin:round; stroke-width:2; stroke-opacity:0.1; fill:none\" points=\"1500.8,1423.18 1500.8,123.472 \"/>\n",
       "<polyline clip-path=\"url(#clip942)\" style=\"stroke:#000000; stroke-linecap:round; stroke-linejoin:round; stroke-width:2; stroke-opacity:0.1; fill:none\" points=\"1926.78,1423.18 1926.78,123.472 \"/>\n",
       "<polyline clip-path=\"url(#clip942)\" style=\"stroke:#000000; stroke-linecap:round; stroke-linejoin:round; stroke-width:2; stroke-opacity:0.1; fill:none\" points=\"2352.76,1423.18 2352.76,123.472 \"/>\n",
       "<polyline clip-path=\"url(#clip940)\" style=\"stroke:#000000; stroke-linecap:round; stroke-linejoin:round; stroke-width:4; stroke-opacity:1; fill:none\" points=\"222.871,1423.18 2352.76,1423.18 \"/>\n",
       "<polyline clip-path=\"url(#clip940)\" style=\"stroke:#000000; stroke-linecap:round; stroke-linejoin:round; stroke-width:4; stroke-opacity:1; fill:none\" points=\"222.871,1423.18 222.871,1404.28 \"/>\n",
       "<polyline clip-path=\"url(#clip940)\" style=\"stroke:#000000; stroke-linecap:round; stroke-linejoin:round; stroke-width:4; stroke-opacity:1; fill:none\" points=\"648.848,1423.18 648.848,1404.28 \"/>\n",
       "<polyline clip-path=\"url(#clip940)\" style=\"stroke:#000000; stroke-linecap:round; stroke-linejoin:round; stroke-width:4; stroke-opacity:1; fill:none\" points=\"1074.82,1423.18 1074.82,1404.28 \"/>\n",
       "<polyline clip-path=\"url(#clip940)\" style=\"stroke:#000000; stroke-linecap:round; stroke-linejoin:round; stroke-width:4; stroke-opacity:1; fill:none\" points=\"1500.8,1423.18 1500.8,1404.28 \"/>\n",
       "<polyline clip-path=\"url(#clip940)\" style=\"stroke:#000000; stroke-linecap:round; stroke-linejoin:round; stroke-width:4; stroke-opacity:1; fill:none\" points=\"1926.78,1423.18 1926.78,1404.28 \"/>\n",
       "<polyline clip-path=\"url(#clip940)\" style=\"stroke:#000000; stroke-linecap:round; stroke-linejoin:round; stroke-width:4; stroke-opacity:1; fill:none\" points=\"2352.76,1423.18 2352.76,1404.28 \"/>\n",
       "<path clip-path=\"url(#clip940)\" d=\"M200.255 1454.1 Q196.644 1454.1 194.816 1457.66 Q193.01 1461.2 193.01 1468.33 Q193.01 1475.44 194.816 1479.01 Q196.644 1482.55 200.255 1482.55 Q203.89 1482.55 205.695 1479.01 Q207.524 1475.44 207.524 1468.33 Q207.524 1461.2 205.695 1457.66 Q203.89 1454.1 200.255 1454.1 M200.255 1450.39 Q206.066 1450.39 209.121 1455 Q212.2 1459.58 212.2 1468.33 Q212.2 1477.06 209.121 1481.67 Q206.066 1486.25 200.255 1486.25 Q194.445 1486.25 191.367 1481.67 Q188.311 1477.06 188.311 1468.33 Q188.311 1459.58 191.367 1455 Q194.445 1450.39 200.255 1450.39 Z\" fill=\"#000000\" fill-rule=\"evenodd\" fill-opacity=\"1\" /><path clip-path=\"url(#clip940)\" d=\"M220.417 1479.7 L225.302 1479.7 L225.302 1485.58 L220.417 1485.58 L220.417 1479.7 Z\" fill=\"#000000\" fill-rule=\"evenodd\" fill-opacity=\"1\" /><path clip-path=\"url(#clip940)\" d=\"M245.487 1454.1 Q241.876 1454.1 240.047 1457.66 Q238.241 1461.2 238.241 1468.33 Q238.241 1475.44 240.047 1479.01 Q241.876 1482.55 245.487 1482.55 Q249.121 1482.55 250.926 1479.01 Q252.755 1475.44 252.755 1468.33 Q252.755 1461.2 250.926 1457.66 Q249.121 1454.1 245.487 1454.1 M245.487 1450.39 Q251.297 1450.39 254.352 1455 Q257.431 1459.58 257.431 1468.33 Q257.431 1477.06 254.352 1481.67 Q251.297 1486.25 245.487 1486.25 Q239.676 1486.25 236.598 1481.67 Q233.542 1477.06 233.542 1468.33 Q233.542 1459.58 236.598 1455 Q239.676 1450.39 245.487 1450.39 Z\" fill=\"#000000\" fill-rule=\"evenodd\" fill-opacity=\"1\" /><path clip-path=\"url(#clip940)\" d=\"M627.031 1454.1 Q623.42 1454.1 621.591 1457.66 Q619.786 1461.2 619.786 1468.33 Q619.786 1475.44 621.591 1479.01 Q623.42 1482.55 627.031 1482.55 Q630.665 1482.55 632.471 1479.01 Q634.299 1475.44 634.299 1468.33 Q634.299 1461.2 632.471 1457.66 Q630.665 1454.1 627.031 1454.1 M627.031 1450.39 Q632.841 1450.39 635.897 1455 Q638.975 1459.58 638.975 1468.33 Q638.975 1477.06 635.897 1481.67 Q632.841 1486.25 627.031 1486.25 Q621.221 1486.25 618.142 1481.67 Q615.087 1477.06 615.087 1468.33 Q615.087 1459.58 618.142 1455 Q621.221 1450.39 627.031 1450.39 Z\" fill=\"#000000\" fill-rule=\"evenodd\" fill-opacity=\"1\" /><path clip-path=\"url(#clip940)\" d=\"M647.193 1479.7 L652.077 1479.7 L652.077 1485.58 L647.193 1485.58 L647.193 1479.7 Z\" fill=\"#000000\" fill-rule=\"evenodd\" fill-opacity=\"1\" /><path clip-path=\"url(#clip940)\" d=\"M666.29 1481.64 L682.609 1481.64 L682.609 1485.58 L660.665 1485.58 L660.665 1481.64 Q663.327 1478.89 667.91 1474.26 Q672.517 1469.61 673.697 1468.27 Q675.943 1465.74 676.822 1464.01 Q677.725 1462.25 677.725 1460.56 Q677.725 1457.8 675.781 1456.07 Q673.859 1454.33 670.758 1454.33 Q668.559 1454.33 666.105 1455.09 Q663.674 1455.86 660.897 1457.41 L660.897 1452.69 Q663.721 1451.55 666.174 1450.97 Q668.628 1450.39 670.665 1450.39 Q676.035 1450.39 679.23 1453.08 Q682.424 1455.77 682.424 1460.26 Q682.424 1462.39 681.614 1464.31 Q680.827 1466.2 678.721 1468.8 Q678.142 1469.47 675.04 1472.69 Q671.938 1475.88 666.29 1481.64 Z\" fill=\"#000000\" fill-rule=\"evenodd\" fill-opacity=\"1\" /><path clip-path=\"url(#clip940)\" d=\"M1051.97 1454.1 Q1048.36 1454.1 1046.53 1457.66 Q1044.72 1461.2 1044.72 1468.33 Q1044.72 1475.44 1046.53 1479.01 Q1048.36 1482.55 1051.97 1482.55 Q1055.6 1482.55 1057.41 1479.01 Q1059.23 1475.44 1059.23 1468.33 Q1059.23 1461.2 1057.41 1457.66 Q1055.6 1454.1 1051.97 1454.1 M1051.97 1450.39 Q1057.78 1450.39 1060.83 1455 Q1063.91 1459.58 1063.91 1468.33 Q1063.91 1477.06 1060.83 1481.67 Q1057.78 1486.25 1051.97 1486.25 Q1046.16 1486.25 1043.08 1481.67 Q1040.02 1477.06 1040.02 1468.33 Q1040.02 1459.58 1043.08 1455 Q1046.16 1450.39 1051.97 1450.39 Z\" fill=\"#000000\" fill-rule=\"evenodd\" fill-opacity=\"1\" /><path clip-path=\"url(#clip940)\" d=\"M1072.13 1479.7 L1077.01 1479.7 L1077.01 1485.58 L1072.13 1485.58 L1072.13 1479.7 Z\" fill=\"#000000\" fill-rule=\"evenodd\" fill-opacity=\"1\" /><path clip-path=\"url(#clip940)\" d=\"M1100.04 1455.09 L1088.24 1473.54 L1100.04 1473.54 L1100.04 1455.09 M1098.82 1451.02 L1104.7 1451.02 L1104.7 1473.54 L1109.63 1473.54 L1109.63 1477.43 L1104.7 1477.43 L1104.7 1485.58 L1100.04 1485.58 L1100.04 1477.43 L1084.44 1477.43 L1084.44 1472.92 L1098.82 1451.02 Z\" fill=\"#000000\" fill-rule=\"evenodd\" fill-opacity=\"1\" /><path clip-path=\"url(#clip940)\" d=\"M1478.11 1454.1 Q1474.49 1454.1 1472.67 1457.66 Q1470.86 1461.2 1470.86 1468.33 Q1470.86 1475.44 1472.67 1479.01 Q1474.49 1482.55 1478.11 1482.55 Q1481.74 1482.55 1483.55 1479.01 Q1485.37 1475.44 1485.37 1468.33 Q1485.37 1461.2 1483.55 1457.66 Q1481.74 1454.1 1478.11 1454.1 M1478.11 1450.39 Q1483.92 1450.39 1486.97 1455 Q1490.05 1459.58 1490.05 1468.33 Q1490.05 1477.06 1486.97 1481.67 Q1483.92 1486.25 1478.11 1486.25 Q1472.3 1486.25 1469.22 1481.67 Q1466.16 1477.06 1466.16 1468.33 Q1466.16 1459.58 1469.22 1455 Q1472.3 1450.39 1478.11 1450.39 Z\" fill=\"#000000\" fill-rule=\"evenodd\" fill-opacity=\"1\" /><path clip-path=\"url(#clip940)\" d=\"M1498.27 1479.7 L1503.15 1479.7 L1503.15 1485.58 L1498.27 1485.58 L1498.27 1479.7 Z\" fill=\"#000000\" fill-rule=\"evenodd\" fill-opacity=\"1\" /><path clip-path=\"url(#clip940)\" d=\"M1523.92 1466.44 Q1520.77 1466.44 1518.92 1468.59 Q1517.09 1470.74 1517.09 1474.49 Q1517.09 1478.22 1518.92 1480.39 Q1520.77 1482.55 1523.92 1482.55 Q1527.06 1482.55 1528.89 1480.39 Q1530.74 1478.22 1530.74 1474.49 Q1530.74 1470.74 1528.89 1468.59 Q1527.06 1466.44 1523.92 1466.44 M1533.2 1451.78 L1533.2 1456.04 Q1531.44 1455.21 1529.63 1454.77 Q1527.85 1454.33 1526.09 1454.33 Q1521.46 1454.33 1519.01 1457.45 Q1516.58 1460.58 1516.23 1466.9 Q1517.6 1464.89 1519.66 1463.82 Q1521.72 1462.73 1524.19 1462.73 Q1529.4 1462.73 1532.41 1465.9 Q1535.44 1469.05 1535.44 1474.49 Q1535.44 1479.82 1532.29 1483.03 Q1529.15 1486.25 1523.92 1486.25 Q1517.92 1486.25 1514.75 1481.67 Q1511.58 1477.06 1511.58 1468.33 Q1511.58 1460.14 1515.47 1455.28 Q1519.36 1450.39 1525.91 1450.39 Q1527.67 1450.39 1529.45 1450.74 Q1531.25 1451.09 1533.2 1451.78 Z\" fill=\"#000000\" fill-rule=\"evenodd\" fill-opacity=\"1\" /><path clip-path=\"url(#clip940)\" d=\"M1904.21 1454.1 Q1900.6 1454.1 1898.77 1457.66 Q1896.96 1461.2 1896.96 1468.33 Q1896.96 1475.44 1898.77 1479.01 Q1900.6 1482.55 1904.21 1482.55 Q1907.84 1482.55 1909.65 1479.01 Q1911.48 1475.44 1911.48 1468.33 Q1911.48 1461.2 1909.65 1457.66 Q1907.84 1454.1 1904.21 1454.1 M1904.21 1450.39 Q1910.02 1450.39 1913.08 1455 Q1916.15 1459.58 1916.15 1468.33 Q1916.15 1477.06 1913.08 1481.67 Q1910.02 1486.25 1904.21 1486.25 Q1898.4 1486.25 1895.32 1481.67 Q1892.27 1477.06 1892.27 1468.33 Q1892.27 1459.58 1895.32 1455 Q1898.4 1450.39 1904.21 1450.39 Z\" fill=\"#000000\" fill-rule=\"evenodd\" fill-opacity=\"1\" /><path clip-path=\"url(#clip940)\" d=\"M1924.37 1479.7 L1929.26 1479.7 L1929.26 1485.58 L1924.37 1485.58 L1924.37 1479.7 Z\" fill=\"#000000\" fill-rule=\"evenodd\" fill-opacity=\"1\" /><path clip-path=\"url(#clip940)\" d=\"M1949.44 1469.17 Q1946.11 1469.17 1944.19 1470.95 Q1942.29 1472.73 1942.29 1475.86 Q1942.29 1478.98 1944.19 1480.77 Q1946.11 1482.55 1949.44 1482.55 Q1952.77 1482.55 1954.7 1480.77 Q1956.62 1478.96 1956.62 1475.86 Q1956.62 1472.73 1954.7 1470.95 Q1952.8 1469.17 1949.44 1469.17 M1944.76 1467.18 Q1941.76 1466.44 1940.07 1464.38 Q1938.4 1462.32 1938.4 1459.35 Q1938.4 1455.21 1941.34 1452.8 Q1944.3 1450.39 1949.44 1450.39 Q1954.6 1450.39 1957.54 1452.8 Q1960.48 1455.21 1960.48 1459.35 Q1960.48 1462.32 1958.79 1464.38 Q1957.13 1466.44 1954.14 1467.18 Q1957.52 1467.96 1959.39 1470.26 Q1961.29 1472.55 1961.29 1475.86 Q1961.29 1480.88 1958.21 1483.57 Q1955.16 1486.25 1949.44 1486.25 Q1943.72 1486.25 1940.64 1483.57 Q1937.59 1480.88 1937.59 1475.86 Q1937.59 1472.55 1939.49 1470.26 Q1941.39 1467.96 1944.76 1467.18 M1943.05 1459.79 Q1943.05 1462.48 1944.72 1463.98 Q1946.41 1465.49 1949.44 1465.49 Q1952.45 1465.49 1954.14 1463.98 Q1955.85 1462.48 1955.85 1459.79 Q1955.85 1457.11 1954.14 1455.6 Q1952.45 1454.1 1949.44 1454.1 Q1946.41 1454.1 1944.72 1455.6 Q1943.05 1457.11 1943.05 1459.79 Z\" fill=\"#000000\" fill-rule=\"evenodd\" fill-opacity=\"1\" /><path clip-path=\"url(#clip940)\" d=\"M2319.91 1481.64 L2327.55 1481.64 L2327.55 1455.28 L2319.24 1456.95 L2319.24 1452.69 L2327.5 1451.02 L2332.18 1451.02 L2332.18 1481.64 L2339.82 1481.64 L2339.82 1485.58 L2319.91 1485.58 L2319.91 1481.64 Z\" fill=\"#000000\" fill-rule=\"evenodd\" fill-opacity=\"1\" /><path clip-path=\"url(#clip940)\" d=\"M2349.26 1479.7 L2354.14 1479.7 L2354.14 1485.58 L2349.26 1485.58 L2349.26 1479.7 Z\" fill=\"#000000\" fill-rule=\"evenodd\" fill-opacity=\"1\" /><path clip-path=\"url(#clip940)\" d=\"M2374.33 1454.1 Q2370.72 1454.1 2368.89 1457.66 Q2367.08 1461.2 2367.08 1468.33 Q2367.08 1475.44 2368.89 1479.01 Q2370.72 1482.55 2374.33 1482.55 Q2377.96 1482.55 2379.77 1479.01 Q2381.6 1475.44 2381.6 1468.33 Q2381.6 1461.2 2379.77 1457.66 Q2377.96 1454.1 2374.33 1454.1 M2374.33 1450.39 Q2380.14 1450.39 2383.2 1455 Q2386.27 1459.58 2386.27 1468.33 Q2386.27 1477.06 2383.2 1481.67 Q2380.14 1486.25 2374.33 1486.25 Q2368.52 1486.25 2365.44 1481.67 Q2362.39 1477.06 2362.39 1468.33 Q2362.39 1459.58 2365.44 1455 Q2368.52 1450.39 2374.33 1450.39 Z\" fill=\"#000000\" fill-rule=\"evenodd\" fill-opacity=\"1\" /><path clip-path=\"url(#clip940)\" d=\"M1298.25 1537.87 Q1297.27 1537.3 1296.09 1537.04 Q1294.94 1536.76 1293.54 1536.76 Q1288.58 1536.76 1285.9 1540 Q1283.26 1543.22 1283.26 1549.27 L1283.26 1568.04 L1277.37 1568.04 L1277.37 1532.4 L1283.26 1532.4 L1283.26 1537.93 Q1285.11 1534.69 1288.07 1533.13 Q1291.03 1531.54 1295.26 1531.54 Q1295.87 1531.54 1296.6 1531.63 Q1297.33 1531.7 1298.22 1531.85 L1298.25 1537.87 Z\" fill=\"#000000\" fill-rule=\"evenodd\" fill-opacity=\"1\" /><polyline clip-path=\"url(#clip942)\" style=\"stroke:#000000; stroke-linecap:round; stroke-linejoin:round; stroke-width:2; stroke-opacity:0.1; fill:none\" points=\"222.871,1277.91 2352.76,1277.91 \"/>\n",
       "<polyline clip-path=\"url(#clip942)\" style=\"stroke:#000000; stroke-linecap:round; stroke-linejoin:round; stroke-width:2; stroke-opacity:0.1; fill:none\" points=\"222.871,1088.75 2352.76,1088.75 \"/>\n",
       "<polyline clip-path=\"url(#clip942)\" style=\"stroke:#000000; stroke-linecap:round; stroke-linejoin:round; stroke-width:2; stroke-opacity:0.1; fill:none\" points=\"222.871,899.581 2352.76,899.581 \"/>\n",
       "<polyline clip-path=\"url(#clip942)\" style=\"stroke:#000000; stroke-linecap:round; stroke-linejoin:round; stroke-width:2; stroke-opacity:0.1; fill:none\" points=\"222.871,710.415 2352.76,710.415 \"/>\n",
       "<polyline clip-path=\"url(#clip942)\" style=\"stroke:#000000; stroke-linecap:round; stroke-linejoin:round; stroke-width:2; stroke-opacity:0.1; fill:none\" points=\"222.871,521.248 2352.76,521.248 \"/>\n",
       "<polyline clip-path=\"url(#clip942)\" style=\"stroke:#000000; stroke-linecap:round; stroke-linejoin:round; stroke-width:2; stroke-opacity:0.1; fill:none\" points=\"222.871,332.082 2352.76,332.082 \"/>\n",
       "<polyline clip-path=\"url(#clip942)\" style=\"stroke:#000000; stroke-linecap:round; stroke-linejoin:round; stroke-width:2; stroke-opacity:0.1; fill:none\" points=\"222.871,142.915 2352.76,142.915 \"/>\n",
       "<polyline clip-path=\"url(#clip940)\" style=\"stroke:#000000; stroke-linecap:round; stroke-linejoin:round; stroke-width:4; stroke-opacity:1; fill:none\" points=\"222.871,1423.18 222.871,123.472 \"/>\n",
       "<polyline clip-path=\"url(#clip940)\" style=\"stroke:#000000; stroke-linecap:round; stroke-linejoin:round; stroke-width:4; stroke-opacity:1; fill:none\" points=\"222.871,1277.91 241.769,1277.91 \"/>\n",
       "<polyline clip-path=\"url(#clip940)\" style=\"stroke:#000000; stroke-linecap:round; stroke-linejoin:round; stroke-width:4; stroke-opacity:1; fill:none\" points=\"222.871,1088.75 241.769,1088.75 \"/>\n",
       "<polyline clip-path=\"url(#clip940)\" style=\"stroke:#000000; stroke-linecap:round; stroke-linejoin:round; stroke-width:4; stroke-opacity:1; fill:none\" points=\"222.871,899.581 241.769,899.581 \"/>\n",
       "<polyline clip-path=\"url(#clip940)\" style=\"stroke:#000000; stroke-linecap:round; stroke-linejoin:round; stroke-width:4; stroke-opacity:1; fill:none\" points=\"222.871,710.415 241.769,710.415 \"/>\n",
       "<polyline clip-path=\"url(#clip940)\" style=\"stroke:#000000; stroke-linecap:round; stroke-linejoin:round; stroke-width:4; stroke-opacity:1; fill:none\" points=\"222.871,521.248 241.769,521.248 \"/>\n",
       "<polyline clip-path=\"url(#clip940)\" style=\"stroke:#000000; stroke-linecap:round; stroke-linejoin:round; stroke-width:4; stroke-opacity:1; fill:none\" points=\"222.871,332.082 241.769,332.082 \"/>\n",
       "<polyline clip-path=\"url(#clip940)\" style=\"stroke:#000000; stroke-linecap:round; stroke-linejoin:round; stroke-width:4; stroke-opacity:1; fill:none\" points=\"222.871,142.915 241.769,142.915 \"/>\n",
       "<path clip-path=\"url(#clip940)\" d=\"M51.3625 1278.37 L81.0383 1278.37 L81.0383 1282.3 L51.3625 1282.3 L51.3625 1278.37 Z\" fill=\"#000000\" fill-rule=\"evenodd\" fill-opacity=\"1\" /><path clip-path=\"url(#clip940)\" d=\"M101.131 1263.71 Q97.5197 1263.71 95.691 1267.28 Q93.8854 1270.82 93.8854 1277.95 Q93.8854 1285.06 95.691 1288.62 Q97.5197 1292.16 101.131 1292.16 Q104.765 1292.16 106.571 1288.62 Q108.399 1285.06 108.399 1277.95 Q108.399 1270.82 106.571 1267.28 Q104.765 1263.71 101.131 1263.71 M101.131 1260.01 Q106.941 1260.01 109.996 1264.62 Q113.075 1269.2 113.075 1277.95 Q113.075 1286.68 109.996 1291.28 Q106.941 1295.87 101.131 1295.87 Q95.3206 1295.87 92.2419 1291.28 Q89.1864 1286.68 89.1864 1277.95 Q89.1864 1269.2 92.2419 1264.62 Q95.3206 1260.01 101.131 1260.01 Z\" fill=\"#000000\" fill-rule=\"evenodd\" fill-opacity=\"1\" /><path clip-path=\"url(#clip940)\" d=\"M121.293 1289.31 L126.177 1289.31 L126.177 1295.19 L121.293 1295.19 L121.293 1289.31 Z\" fill=\"#000000\" fill-rule=\"evenodd\" fill-opacity=\"1\" /><path clip-path=\"url(#clip940)\" d=\"M146.362 1263.71 Q142.751 1263.71 140.922 1267.28 Q139.117 1270.82 139.117 1277.95 Q139.117 1285.06 140.922 1288.62 Q142.751 1292.16 146.362 1292.16 Q149.996 1292.16 151.802 1288.62 Q153.63 1285.06 153.63 1277.95 Q153.63 1270.82 151.802 1267.28 Q149.996 1263.71 146.362 1263.71 M146.362 1260.01 Q152.172 1260.01 155.228 1264.62 Q158.306 1269.2 158.306 1277.95 Q158.306 1286.68 155.228 1291.28 Q152.172 1295.87 146.362 1295.87 Q140.552 1295.87 137.473 1291.28 Q134.418 1286.68 134.418 1277.95 Q134.418 1269.2 137.473 1264.62 Q140.552 1260.01 146.362 1260.01 Z\" fill=\"#000000\" fill-rule=\"evenodd\" fill-opacity=\"1\" /><path clip-path=\"url(#clip940)\" d=\"M170.552 1291.26 L186.871 1291.26 L186.871 1295.19 L164.927 1295.19 L164.927 1291.26 Q167.589 1288.5 172.172 1283.87 Q176.778 1279.22 177.959 1277.88 Q180.204 1275.36 181.084 1273.62 Q181.987 1271.86 181.987 1270.17 Q181.987 1267.42 180.042 1265.68 Q178.121 1263.94 175.019 1263.94 Q172.82 1263.94 170.366 1264.71 Q167.936 1265.47 165.158 1267.02 L165.158 1262.3 Q167.982 1261.17 170.436 1260.59 Q172.89 1260.01 174.927 1260.01 Q180.297 1260.01 183.491 1262.69 Q186.686 1265.38 186.686 1269.87 Q186.686 1272 185.876 1273.92 Q185.089 1275.82 182.982 1278.41 Q182.403 1279.08 179.302 1282.3 Q176.2 1285.5 170.552 1291.26 Z\" fill=\"#000000\" fill-rule=\"evenodd\" fill-opacity=\"1\" /><path clip-path=\"url(#clip940)\" d=\"M50.9921 1089.2 L80.6679 1089.2 L80.6679 1093.13 L50.9921 1093.13 L50.9921 1089.2 Z\" fill=\"#000000\" fill-rule=\"evenodd\" fill-opacity=\"1\" /><path clip-path=\"url(#clip940)\" d=\"M100.76 1074.55 Q97.1493 1074.55 95.3206 1078.11 Q93.515 1081.65 93.515 1088.78 Q93.515 1095.89 95.3206 1099.45 Q97.1493 1103 100.76 1103 Q104.395 1103 106.2 1099.45 Q108.029 1095.89 108.029 1088.78 Q108.029 1081.65 106.2 1078.11 Q104.395 1074.55 100.76 1074.55 M100.76 1070.84 Q106.571 1070.84 109.626 1075.45 Q112.705 1080.03 112.705 1088.78 Q112.705 1097.51 109.626 1102.12 Q106.571 1106.7 100.76 1106.7 Q94.9502 1106.7 91.8715 1102.12 Q88.816 1097.51 88.816 1088.78 Q88.816 1080.03 91.8715 1075.45 Q94.9502 1070.84 100.76 1070.84 Z\" fill=\"#000000\" fill-rule=\"evenodd\" fill-opacity=\"1\" /><path clip-path=\"url(#clip940)\" d=\"M120.922 1100.15 L125.807 1100.15 L125.807 1106.03 L120.922 1106.03 L120.922 1100.15 Z\" fill=\"#000000\" fill-rule=\"evenodd\" fill-opacity=\"1\" /><path clip-path=\"url(#clip940)\" d=\"M145.992 1074.55 Q142.381 1074.55 140.552 1078.11 Q138.746 1081.65 138.746 1088.78 Q138.746 1095.89 140.552 1099.45 Q142.381 1103 145.992 1103 Q149.626 1103 151.431 1099.45 Q153.26 1095.89 153.26 1088.78 Q153.26 1081.65 151.431 1078.11 Q149.626 1074.55 145.992 1074.55 M145.992 1070.84 Q151.802 1070.84 154.857 1075.45 Q157.936 1080.03 157.936 1088.78 Q157.936 1097.51 154.857 1102.12 Q151.802 1106.7 145.992 1106.7 Q140.181 1106.7 137.103 1102.12 Q134.047 1097.51 134.047 1088.78 Q134.047 1080.03 137.103 1075.45 Q140.181 1070.84 145.992 1070.84 Z\" fill=\"#000000\" fill-rule=\"evenodd\" fill-opacity=\"1\" /><path clip-path=\"url(#clip940)\" d=\"M166.964 1102.09 L174.603 1102.09 L174.603 1075.73 L166.292 1077.39 L166.292 1073.13 L174.556 1071.47 L179.232 1071.47 L179.232 1102.09 L186.871 1102.09 L186.871 1106.03 L166.964 1106.03 L166.964 1102.09 Z\" fill=\"#000000\" fill-rule=\"evenodd\" fill-opacity=\"1\" /><path clip-path=\"url(#clip940)\" d=\"M99.5335 885.38 Q95.9224 885.38 94.0937 888.945 Q92.2882 892.486 92.2882 899.616 Q92.2882 906.722 94.0937 910.287 Q95.9224 913.829 99.5335 913.829 Q103.168 913.829 104.973 910.287 Q106.802 906.722 106.802 899.616 Q106.802 892.486 104.973 888.945 Q103.168 885.38 99.5335 885.38 M99.5335 881.676 Q105.344 881.676 108.399 886.283 Q111.478 890.866 111.478 899.616 Q111.478 908.343 108.399 912.949 Q105.344 917.532 99.5335 917.532 Q93.7234 917.532 90.6447 912.949 Q87.5892 908.343 87.5892 899.616 Q87.5892 890.866 90.6447 886.283 Q93.7234 881.676 99.5335 881.676 Z\" fill=\"#000000\" fill-rule=\"evenodd\" fill-opacity=\"1\" /><path clip-path=\"url(#clip940)\" d=\"M119.695 910.981 L124.58 910.981 L124.58 916.861 L119.695 916.861 L119.695 910.981 Z\" fill=\"#000000\" fill-rule=\"evenodd\" fill-opacity=\"1\" /><path clip-path=\"url(#clip940)\" d=\"M144.765 885.38 Q141.154 885.38 139.325 888.945 Q137.519 892.486 137.519 899.616 Q137.519 906.722 139.325 910.287 Q141.154 913.829 144.765 913.829 Q148.399 913.829 150.205 910.287 Q152.033 906.722 152.033 899.616 Q152.033 892.486 150.205 888.945 Q148.399 885.38 144.765 885.38 M144.765 881.676 Q150.575 881.676 153.63 886.283 Q156.709 890.866 156.709 899.616 Q156.709 908.343 153.63 912.949 Q150.575 917.532 144.765 917.532 Q138.955 917.532 135.876 912.949 Q132.82 908.343 132.82 899.616 Q132.82 890.866 135.876 886.283 Q138.955 881.676 144.765 881.676 Z\" fill=\"#000000\" fill-rule=\"evenodd\" fill-opacity=\"1\" /><path clip-path=\"url(#clip940)\" d=\"M174.927 885.38 Q171.316 885.38 169.487 888.945 Q167.681 892.486 167.681 899.616 Q167.681 906.722 169.487 910.287 Q171.316 913.829 174.927 913.829 Q178.561 913.829 180.366 910.287 Q182.195 906.722 182.195 899.616 Q182.195 892.486 180.366 888.945 Q178.561 885.38 174.927 885.38 M174.927 881.676 Q180.737 881.676 183.792 886.283 Q186.871 890.866 186.871 899.616 Q186.871 908.343 183.792 912.949 Q180.737 917.532 174.927 917.532 Q169.116 917.532 166.038 912.949 Q162.982 908.343 162.982 899.616 Q162.982 890.866 166.038 886.283 Q169.116 881.676 174.927 881.676 Z\" fill=\"#000000\" fill-rule=\"evenodd\" fill-opacity=\"1\" /><path clip-path=\"url(#clip940)\" d=\"M100.76 696.213 Q97.1493 696.213 95.3206 699.778 Q93.515 703.32 93.515 710.449 Q93.515 717.556 95.3206 721.121 Q97.1493 724.662 100.76 724.662 Q104.395 724.662 106.2 721.121 Q108.029 717.556 108.029 710.449 Q108.029 703.32 106.2 699.778 Q104.395 696.213 100.76 696.213 M100.76 692.51 Q106.571 692.51 109.626 697.116 Q112.705 701.699 112.705 710.449 Q112.705 719.176 109.626 723.783 Q106.571 728.366 100.76 728.366 Q94.9502 728.366 91.8715 723.783 Q88.816 719.176 88.816 710.449 Q88.816 701.699 91.8715 697.116 Q94.9502 692.51 100.76 692.51 Z\" fill=\"#000000\" fill-rule=\"evenodd\" fill-opacity=\"1\" /><path clip-path=\"url(#clip940)\" d=\"M120.922 721.815 L125.807 721.815 L125.807 727.695 L120.922 727.695 L120.922 721.815 Z\" fill=\"#000000\" fill-rule=\"evenodd\" fill-opacity=\"1\" /><path clip-path=\"url(#clip940)\" d=\"M145.992 696.213 Q142.381 696.213 140.552 699.778 Q138.746 703.32 138.746 710.449 Q138.746 717.556 140.552 721.121 Q142.381 724.662 145.992 724.662 Q149.626 724.662 151.431 721.121 Q153.26 717.556 153.26 710.449 Q153.26 703.32 151.431 699.778 Q149.626 696.213 145.992 696.213 M145.992 692.51 Q151.802 692.51 154.857 697.116 Q157.936 701.699 157.936 710.449 Q157.936 719.176 154.857 723.783 Q151.802 728.366 145.992 728.366 Q140.181 728.366 137.103 723.783 Q134.047 719.176 134.047 710.449 Q134.047 701.699 137.103 697.116 Q140.181 692.51 145.992 692.51 Z\" fill=\"#000000\" fill-rule=\"evenodd\" fill-opacity=\"1\" /><path clip-path=\"url(#clip940)\" d=\"M166.964 723.759 L174.603 723.759 L174.603 697.394 L166.292 699.061 L166.292 694.801 L174.556 693.135 L179.232 693.135 L179.232 723.759 L186.871 723.759 L186.871 727.695 L166.964 727.695 L166.964 723.759 Z\" fill=\"#000000\" fill-rule=\"evenodd\" fill-opacity=\"1\" /><path clip-path=\"url(#clip940)\" d=\"M101.131 507.047 Q97.5197 507.047 95.691 510.612 Q93.8854 514.153 93.8854 521.283 Q93.8854 528.389 95.691 531.954 Q97.5197 535.496 101.131 535.496 Q104.765 535.496 106.571 531.954 Q108.399 528.389 108.399 521.283 Q108.399 514.153 106.571 510.612 Q104.765 507.047 101.131 507.047 M101.131 503.343 Q106.941 503.343 109.996 507.95 Q113.075 512.533 113.075 521.283 Q113.075 530.01 109.996 534.616 Q106.941 539.199 101.131 539.199 Q95.3206 539.199 92.2419 534.616 Q89.1864 530.01 89.1864 521.283 Q89.1864 512.533 92.2419 507.95 Q95.3206 503.343 101.131 503.343 Z\" fill=\"#000000\" fill-rule=\"evenodd\" fill-opacity=\"1\" /><path clip-path=\"url(#clip940)\" d=\"M121.293 532.649 L126.177 532.649 L126.177 538.528 L121.293 538.528 L121.293 532.649 Z\" fill=\"#000000\" fill-rule=\"evenodd\" fill-opacity=\"1\" /><path clip-path=\"url(#clip940)\" d=\"M146.362 507.047 Q142.751 507.047 140.922 510.612 Q139.117 514.153 139.117 521.283 Q139.117 528.389 140.922 531.954 Q142.751 535.496 146.362 535.496 Q149.996 535.496 151.802 531.954 Q153.63 528.389 153.63 521.283 Q153.63 514.153 151.802 510.612 Q149.996 507.047 146.362 507.047 M146.362 503.343 Q152.172 503.343 155.228 507.95 Q158.306 512.533 158.306 521.283 Q158.306 530.01 155.228 534.616 Q152.172 539.199 146.362 539.199 Q140.552 539.199 137.473 534.616 Q134.418 530.01 134.418 521.283 Q134.418 512.533 137.473 507.95 Q140.552 503.343 146.362 503.343 Z\" fill=\"#000000\" fill-rule=\"evenodd\" fill-opacity=\"1\" /><path clip-path=\"url(#clip940)\" d=\"M170.552 534.593 L186.871 534.593 L186.871 538.528 L164.927 538.528 L164.927 534.593 Q167.589 531.838 172.172 527.209 Q176.778 522.556 177.959 521.213 Q180.204 518.69 181.084 516.954 Q181.987 515.195 181.987 513.505 Q181.987 510.75 180.042 509.014 Q178.121 507.278 175.019 507.278 Q172.82 507.278 170.366 508.042 Q167.936 508.806 165.158 510.357 L165.158 505.635 Q167.982 504.501 170.436 503.922 Q172.89 503.343 174.927 503.343 Q180.297 503.343 183.491 506.028 Q186.686 508.713 186.686 513.204 Q186.686 515.334 185.876 517.255 Q185.089 519.153 182.982 521.746 Q182.403 522.417 179.302 525.635 Q176.2 528.829 170.552 534.593 Z\" fill=\"#000000\" fill-rule=\"evenodd\" fill-opacity=\"1\" /><path clip-path=\"url(#clip940)\" d=\"M100.182 317.88 Q96.5706 317.88 94.7419 321.445 Q92.9363 324.987 92.9363 332.116 Q92.9363 339.223 94.7419 342.788 Q96.5706 346.329 100.182 346.329 Q103.816 346.329 105.621 342.788 Q107.45 339.223 107.45 332.116 Q107.45 324.987 105.621 321.445 Q103.816 317.88 100.182 317.88 M100.182 314.177 Q105.992 314.177 109.047 318.783 Q112.126 323.366 112.126 332.116 Q112.126 340.843 109.047 345.45 Q105.992 350.033 100.182 350.033 Q94.3715 350.033 91.2928 345.45 Q88.2373 340.843 88.2373 332.116 Q88.2373 323.366 91.2928 318.783 Q94.3715 314.177 100.182 314.177 Z\" fill=\"#000000\" fill-rule=\"evenodd\" fill-opacity=\"1\" /><path clip-path=\"url(#clip940)\" d=\"M120.344 343.482 L125.228 343.482 L125.228 349.362 L120.344 349.362 L120.344 343.482 Z\" fill=\"#000000\" fill-rule=\"evenodd\" fill-opacity=\"1\" /><path clip-path=\"url(#clip940)\" d=\"M145.413 317.88 Q141.802 317.88 139.973 321.445 Q138.168 324.987 138.168 332.116 Q138.168 339.223 139.973 342.788 Q141.802 346.329 145.413 346.329 Q149.047 346.329 150.853 342.788 Q152.681 339.223 152.681 332.116 Q152.681 324.987 150.853 321.445 Q149.047 317.88 145.413 317.88 M145.413 314.177 Q151.223 314.177 154.279 318.783 Q157.357 323.366 157.357 332.116 Q157.357 340.843 154.279 345.45 Q151.223 350.033 145.413 350.033 Q139.603 350.033 136.524 345.45 Q133.469 340.843 133.469 332.116 Q133.469 323.366 136.524 318.783 Q139.603 314.177 145.413 314.177 Z\" fill=\"#000000\" fill-rule=\"evenodd\" fill-opacity=\"1\" /><path clip-path=\"url(#clip940)\" d=\"M179.741 330.727 Q183.098 331.445 184.973 333.714 Q186.871 335.982 186.871 339.315 Q186.871 344.431 183.353 347.232 Q179.834 350.033 173.353 350.033 Q171.177 350.033 168.862 349.593 Q166.57 349.176 164.117 348.32 L164.117 343.806 Q166.061 344.94 168.376 345.519 Q170.691 346.098 173.214 346.098 Q177.612 346.098 179.903 344.362 Q182.218 342.626 182.218 339.315 Q182.218 336.26 180.066 334.547 Q177.936 332.811 174.116 332.811 L170.089 332.811 L170.089 328.968 L174.302 328.968 Q177.751 328.968 179.579 327.602 Q181.408 326.214 181.408 323.621 Q181.408 320.959 179.51 319.547 Q177.635 318.112 174.116 318.112 Q172.195 318.112 169.996 318.528 Q167.797 318.945 165.158 319.825 L165.158 315.658 Q167.82 314.917 170.135 314.547 Q172.473 314.177 174.533 314.177 Q179.857 314.177 182.959 316.607 Q186.061 319.015 186.061 323.135 Q186.061 326.005 184.417 327.996 Q182.774 329.964 179.741 330.727 Z\" fill=\"#000000\" fill-rule=\"evenodd\" fill-opacity=\"1\" /><path clip-path=\"url(#clip940)\" d=\"M99.0474 128.714 Q95.4363 128.714 93.6076 132.279 Q91.8021 135.82 91.8021 142.95 Q91.8021 150.056 93.6076 153.621 Q95.4363 157.163 99.0474 157.163 Q102.682 157.163 104.487 153.621 Q106.316 150.056 106.316 142.95 Q106.316 135.82 104.487 132.279 Q102.682 128.714 99.0474 128.714 M99.0474 125.01 Q104.858 125.01 107.913 129.617 Q110.992 134.2 110.992 142.95 Q110.992 151.677 107.913 156.283 Q104.858 160.866 99.0474 160.866 Q93.2373 160.866 90.1586 156.283 Q87.103 151.677 87.103 142.95 Q87.103 134.2 90.1586 129.617 Q93.2373 125.01 99.0474 125.01 Z\" fill=\"#000000\" fill-rule=\"evenodd\" fill-opacity=\"1\" /><path clip-path=\"url(#clip940)\" d=\"M119.209 154.316 L124.094 154.316 L124.094 160.195 L119.209 160.195 L119.209 154.316 Z\" fill=\"#000000\" fill-rule=\"evenodd\" fill-opacity=\"1\" /><path clip-path=\"url(#clip940)\" d=\"M144.279 128.714 Q140.668 128.714 138.839 132.279 Q137.033 135.82 137.033 142.95 Q137.033 150.056 138.839 153.621 Q140.668 157.163 144.279 157.163 Q147.913 157.163 149.718 153.621 Q151.547 150.056 151.547 142.95 Q151.547 135.82 149.718 132.279 Q147.913 128.714 144.279 128.714 M144.279 125.01 Q150.089 125.01 153.144 129.617 Q156.223 134.2 156.223 142.95 Q156.223 151.677 153.144 156.283 Q150.089 160.866 144.279 160.866 Q138.469 160.866 135.39 156.283 Q132.334 151.677 132.334 142.95 Q132.334 134.2 135.39 129.617 Q138.469 125.01 144.279 125.01 Z\" fill=\"#000000\" fill-rule=\"evenodd\" fill-opacity=\"1\" /><path clip-path=\"url(#clip940)\" d=\"M177.288 129.709 L165.482 148.158 L177.288 148.158 L177.288 129.709 M176.061 125.635 L181.94 125.635 L181.94 148.158 L186.871 148.158 L186.871 152.047 L181.94 152.047 L181.94 160.195 L177.288 160.195 L177.288 152.047 L161.686 152.047 L161.686 147.533 L176.061 125.635 Z\" fill=\"#000000\" fill-rule=\"evenodd\" fill-opacity=\"1\" /><path clip-path=\"url(#clip940)\" d=\"M1068.64 12.096 L1076.82 12.096 L1076.82 72.576 L1068.64 72.576 L1068.64 12.096 Z\" fill=\"#000000\" fill-rule=\"evenodd\" fill-opacity=\"1\" /><path clip-path=\"url(#clip940)\" d=\"M1130.5 45.1919 L1130.5 72.576 L1123.04 72.576 L1123.04 45.4349 Q1123.04 38.994 1120.53 35.7938 Q1118.02 32.5936 1113 32.5936 Q1106.96 32.5936 1103.48 36.4419 Q1099.99 40.2903 1099.99 46.9338 L1099.99 72.576 L1092.5 72.576 L1092.5 27.2059 L1099.99 27.2059 L1099.99 34.2544 Q1102.67 30.163 1106.27 28.1376 Q1109.92 26.1121 1114.66 26.1121 Q1122.48 26.1121 1126.49 30.9732 Q1130.5 35.7938 1130.5 45.1919 Z\" fill=\"#000000\" fill-rule=\"evenodd\" fill-opacity=\"1\" /><path clip-path=\"url(#clip940)\" d=\"M1145.36 27.2059 L1152.82 27.2059 L1152.82 72.576 L1145.36 72.576 L1145.36 27.2059 M1145.36 9.54393 L1152.82 9.54393 L1152.82 18.9825 L1145.36 18.9825 L1145.36 9.54393 Z\" fill=\"#000000\" fill-rule=\"evenodd\" fill-opacity=\"1\" /><path clip-path=\"url(#clip940)\" d=\"M1175.79 14.324 L1175.79 27.2059 L1191.14 27.2059 L1191.14 32.9987 L1175.79 32.9987 L1175.79 57.6282 Q1175.79 63.1779 1177.28 64.7578 Q1178.82 66.3376 1183.48 66.3376 L1191.14 66.3376 L1191.14 72.576 L1183.48 72.576 Q1174.85 72.576 1171.57 69.3758 Q1168.29 66.1351 1168.29 57.6282 L1168.29 32.9987 L1162.82 32.9987 L1162.82 27.2059 L1168.29 27.2059 L1168.29 14.324 L1175.79 14.324 Z\" fill=\"#000000\" fill-rule=\"evenodd\" fill-opacity=\"1\" /><path clip-path=\"url(#clip940)\" d=\"M1200.94 27.2059 L1208.4 27.2059 L1208.4 72.576 L1200.94 72.576 L1200.94 27.2059 M1200.94 9.54393 L1208.4 9.54393 L1208.4 18.9825 L1200.94 18.9825 L1200.94 9.54393 Z\" fill=\"#000000\" fill-rule=\"evenodd\" fill-opacity=\"1\" /><path clip-path=\"url(#clip940)\" d=\"M1244.61 49.7694 Q1235.58 49.7694 1232.09 51.8354 Q1228.61 53.9013 1228.61 58.8839 Q1228.61 62.8538 1231.2 65.2034 Q1233.84 67.5124 1238.33 67.5124 Q1244.53 67.5124 1248.26 63.1374 Q1252.02 58.7219 1252.02 51.4303 L1252.02 49.7694 L1244.61 49.7694 M1259.48 46.6907 L1259.48 72.576 L1252.02 72.576 L1252.02 65.6895 Q1249.47 69.8214 1245.66 71.8063 Q1241.86 73.7508 1236.35 73.7508 Q1229.38 73.7508 1225.25 69.8619 Q1221.16 65.9325 1221.16 59.3701 Q1221.16 51.7138 1226.26 47.825 Q1231.4 43.9361 1241.57 43.9361 L1252.02 43.9361 L1252.02 43.2069 Q1252.02 38.0623 1248.62 35.2672 Q1245.26 32.4315 1239.14 32.4315 Q1235.25 32.4315 1231.57 33.3632 Q1227.88 34.295 1224.48 36.1584 L1224.48 29.2718 Q1228.57 27.692 1232.42 26.9223 Q1236.27 26.1121 1239.91 26.1121 Q1249.76 26.1121 1254.62 31.2163 Q1259.48 36.3204 1259.48 46.6907 Z\" fill=\"#000000\" fill-rule=\"evenodd\" fill-opacity=\"1\" /><path clip-path=\"url(#clip940)\" d=\"M1274.83 9.54393 L1282.28 9.54393 L1282.28 72.576 L1274.83 72.576 L1274.83 9.54393 Z\" fill=\"#000000\" fill-rule=\"evenodd\" fill-opacity=\"1\" /><path clip-path=\"url(#clip940)\" d=\"M1332.76 18.8205 L1332.76 65.8515 L1342.64 65.8515 Q1355.16 65.8515 1360.95 60.1802 Q1366.79 54.509 1366.79 42.2752 Q1366.79 30.1225 1360.95 24.4918 Q1355.16 18.8205 1342.64 18.8205 L1332.76 18.8205 M1324.58 12.096 L1341.39 12.096 Q1358.97 12.096 1367.19 19.4281 Q1375.41 26.7198 1375.41 42.2752 Q1375.41 57.9117 1367.15 65.2439 Q1358.89 72.576 1341.39 72.576 L1324.58 72.576 L1324.58 12.096 Z\" fill=\"#000000\" fill-rule=\"evenodd\" fill-opacity=\"1\" /><path clip-path=\"url(#clip940)\" d=\"M1408.75 49.7694 Q1399.72 49.7694 1396.24 51.8354 Q1392.75 53.9013 1392.75 58.8839 Q1392.75 62.8538 1395.34 65.2034 Q1397.98 67.5124 1402.47 67.5124 Q1408.67 67.5124 1412.4 63.1374 Q1416.17 58.7219 1416.17 51.4303 L1416.17 49.7694 L1408.75 49.7694 M1423.62 46.6907 L1423.62 72.576 L1416.17 72.576 L1416.17 65.6895 Q1413.61 69.8214 1409.81 71.8063 Q1406 73.7508 1400.49 73.7508 Q1393.52 73.7508 1389.39 69.8619 Q1385.3 65.9325 1385.3 59.3701 Q1385.3 51.7138 1390.4 47.825 Q1395.55 43.9361 1405.72 43.9361 L1416.17 43.9361 L1416.17 43.2069 Q1416.17 38.0623 1412.76 35.2672 Q1409.4 32.4315 1403.28 32.4315 Q1399.4 32.4315 1395.71 33.3632 Q1392.02 34.295 1388.62 36.1584 L1388.62 29.2718 Q1392.71 27.692 1396.56 26.9223 Q1400.41 26.1121 1404.05 26.1121 Q1413.9 26.1121 1418.76 31.2163 Q1423.62 36.3204 1423.62 46.6907 Z\" fill=\"#000000\" fill-rule=\"evenodd\" fill-opacity=\"1\" /><path clip-path=\"url(#clip940)\" d=\"M1446.35 14.324 L1446.35 27.2059 L1461.7 27.2059 L1461.7 32.9987 L1446.35 32.9987 L1446.35 57.6282 Q1446.35 63.1779 1447.84 64.7578 Q1449.38 66.3376 1454.04 66.3376 L1461.7 66.3376 L1461.7 72.576 L1454.04 72.576 Q1445.41 72.576 1442.13 69.3758 Q1438.85 66.1351 1438.85 57.6282 L1438.85 32.9987 L1433.38 32.9987 L1433.38 27.2059 L1438.85 27.2059 L1438.85 14.324 L1446.35 14.324 Z\" fill=\"#000000\" fill-rule=\"evenodd\" fill-opacity=\"1\" /><path clip-path=\"url(#clip940)\" d=\"M1492.12 49.7694 Q1483.09 49.7694 1479.6 51.8354 Q1476.12 53.9013 1476.12 58.8839 Q1476.12 62.8538 1478.71 65.2034 Q1481.35 67.5124 1485.84 67.5124 Q1492.04 67.5124 1495.77 63.1374 Q1499.53 58.7219 1499.53 51.4303 L1499.53 49.7694 L1492.12 49.7694 M1506.99 46.6907 L1506.99 72.576 L1499.53 72.576 L1499.53 65.6895 Q1496.98 69.8214 1493.17 71.8063 Q1489.37 73.7508 1483.86 73.7508 Q1476.89 73.7508 1472.76 69.8619 Q1468.67 65.9325 1468.67 59.3701 Q1468.67 51.7138 1473.77 47.825 Q1478.91 43.9361 1489.08 43.9361 L1499.53 43.9361 L1499.53 43.2069 Q1499.53 38.0623 1496.13 35.2672 Q1492.77 32.4315 1486.65 32.4315 Q1482.76 32.4315 1479.08 33.3632 Q1475.39 34.295 1471.99 36.1584 L1471.99 29.2718 Q1476.08 27.692 1479.93 26.9223 Q1483.78 26.1121 1487.42 26.1121 Q1497.27 26.1121 1502.13 31.2163 Q1506.99 36.3204 1506.99 46.6907 Z\" fill=\"#000000\" fill-rule=\"evenodd\" fill-opacity=\"1\" /><polyline clip-path=\"url(#clip942)\" style=\"stroke:#009af9; stroke-linecap:round; stroke-linejoin:round; stroke-width:4; stroke-opacity:1; fill:none\" points=\"222.871,899.581 254.347,899.581 284.907,899.581 314.589,899.581 343.431,899.581 371.468,899.581 398.733,899.581 425.258,899.581 451.073,899.581 476.205,899.581 500.682,899.581 524.529,899.581 547.769,899.581 570.425,899.581 592.52,899.581 614.074,899.581 635.107,899.581 655.636,899.581 675.681,899.581 695.258,899.581 714.383,899.581 733.072,899.581 751.339,899.581 769.198,899.581 786.664,899.581 803.749,899.581 820.465,899.581 836.824,899.581 852.837,899.581 868.516,899.581 883.87,899.581 898.91,899.581 913.645,899.581 928.084,899.581 942.236,899.581 956.11,899.581 969.714,899.581 983.055,899.581 996.141,899.581 1008.98,899.581 1021.58,899.581 1033.94,899.581 1046.08,899.581 1057.99,899.581 1069.69,899.581 1081.18,899.581 1092.47,899.581 1103.56,899.581 1114.45,899.581 1125.16,899.581 1135.68,899.581 1146.02,899.581 1156.19,899.581 1166.19,899.581 1176.02,899.581 1185.7,899.581 1195.21,899.581 1204.57,899.581 1213.78,899.581 1222.84,899.581 1231.76,899.581 1240.54,899.581 1249.19,899.581 1257.7,899.581 1266.08,899.581 1274.33,899.581 1282.46,899.581 1290.47,899.581 1298.36,899.581 1306.13,899.581 1313.79,899.581 1321.33,899.581 1328.77,899.581 1336.1,899.581 1343.33,899.581 1350.46,899.581 1357.48,899.581 1364.41,899.581 1371.24,899.581 1377.98,899.581 1384.63,899.581 1391.18,899.581 1397.65,899.581 1404.03,899.581 1410.33,899.581 1416.54,899.581 1422.68,899.581 1428.73,899.581 1434.7,899.581 1440.6,899.581 1446.42,899.581 1452.17,899.581 1457.85,899.581 1463.45,899.581 1468.99,899.581 1474.45,899.581 1479.85,899.581 1485.19,899.581 1490.45,899.581 1495.66,899.581 1500.8,899.581 1505.88,899.581 1510.9,899.581 1515.87,899.581 1520.77,899.581 1525.62,899.581 1530.41,899.581 1535.14,899.581 1539.82,899.581 1544.45,899.581 1549.03,899.581 1553.55,899.581 1558.02,899.581 1562.45,899.581 1566.82,899.581 1571.15,899.581 1575.43,899.581 1579.66,899.581 1583.84,899.581 1587.99,899.581 1592.08,899.581 1596.14,899.581 1600.15,899.581 1604.11,899.581 1608.04,899.581 1611.93,899.581 1615.77,899.581 1619.58,899.581 1623.34,899.581 1627.07,899.581 1630.76,899.581 1634.41,899.581 1638.03,899.581 1641.61,899.581 1645.15,899.581 1648.66,899.581 1652.14,899.581 1655.58,899.581 1658.98,899.581 1662.36,899.581 1665.7,899.581 1669,899.581 1672.28,899.581 1675.53,899.581 1678.74,899.581 1681.93,899.581 1685.08,899.581 1688.21,899.581 1691.3,899.581 1694.37,899.581 1697.41,899.581 1700.42,899.581 1703.4,899.581 1706.36,899.581 1709.29,899.581 1712.19,899.581 1715.07,899.581 1717.92,899.581 1720.74,899.581 1723.54,899.581 1726.32,899.581 1729.07,899.581 1731.8,899.581 1734.5,899.581 1737.18,899.581 1739.84,899.581 1742.47,899.581 1745.09,899.581 1747.67,899.581 1750.24,899.581 1752.79,899.581 1755.31,899.581 1757.82,899.581 1760.3,899.581 1762.76,899.581 1765.2,899.581 1767.62,899.581 1770.02,899.581 1772.41,899.581 1774.77,899.581 1777.11,899.581 1779.44,899.581 1781.74,899.581 1784.03,899.581 1786.3,899.581 1788.55,899.581 1790.78,899.581 1793,899.581 1795.19,899.581 1797.38,899.581 1799.54,899.581 1801.69,899.581 1803.82,899.581 1805.93,899.581 1808.03,899.581 1810.11,899.581 1812.18,899.581 1814.23,899.581 1816.26,899.581 1818.28,899.581 1820.28,899.581 \"/>\n",
       "<polyline clip-path=\"url(#clip942)\" style=\"stroke:#e26f46; stroke-linecap:round; stroke-linejoin:round; stroke-width:4; stroke-opacity:1; fill:none\" points=\"222.871,899.581 254.347,899.581 284.907,899.581 314.589,899.581 343.431,899.581 371.468,899.581 398.733,899.581 425.258,899.581 451.073,899.581 476.205,899.581 500.682,899.581 524.529,899.581 547.769,899.581 570.425,899.581 592.52,899.581 614.074,899.581 635.107,899.581 655.636,899.581 675.681,899.581 695.258,899.581 714.383,899.581 733.072,899.581 751.339,899.581 769.198,899.581 786.664,899.581 803.749,899.581 820.465,899.581 836.824,899.581 852.837,899.581 868.516,899.581 883.87,899.581 898.91,899.581 913.645,899.581 928.084,899.581 942.236,899.581 956.11,899.581 969.714,899.581 983.055,899.581 996.141,899.581 1008.98,899.581 1021.58,899.581 1033.94,899.581 1046.08,899.581 1057.99,899.581 1069.69,899.581 1081.18,899.581 1092.47,899.581 1103.56,899.581 1114.45,899.581 1125.16,899.581 1135.68,899.581 1146.02,899.581 1156.19,899.581 1166.19,899.581 1176.02,899.581 1185.7,899.581 1195.21,899.581 1204.57,899.581 1213.78,899.581 1222.84,899.581 1231.76,899.581 1240.54,899.581 1249.19,899.581 1257.7,899.581 1266.08,899.581 1274.33,899.581 1282.46,899.581 1290.47,899.581 1298.36,899.581 1306.13,899.581 1313.79,899.581 1321.33,899.581 1328.77,899.581 1336.1,899.581 1343.33,899.581 1350.46,899.581 1357.48,899.581 1364.41,899.581 1371.24,899.581 1377.98,899.581 1384.63,899.581 1391.18,899.581 1397.65,899.581 1404.03,899.581 1410.33,899.581 1416.54,899.581 1422.68,899.581 1428.73,899.581 1434.7,899.581 1440.6,899.581 1446.42,899.581 1452.17,899.581 1457.85,899.581 1463.45,899.581 1468.99,899.581 1474.45,899.581 1479.85,899.581 1485.19,899.581 1490.45,899.581 1495.66,899.581 1500.8,899.581 1505.88,899.581 1510.9,899.581 1515.87,899.581 1520.77,899.581 1525.62,899.581 1530.41,899.581 1535.14,899.581 1539.82,899.581 1544.45,899.581 1549.03,899.581 1553.55,899.581 1558.02,899.581 1562.45,899.581 1566.82,899.581 1571.15,899.581 1575.43,899.581 1579.66,899.581 1583.84,899.581 1587.99,899.581 1592.08,899.581 1596.14,899.581 1600.15,899.581 1604.11,899.581 1608.04,899.581 1611.93,899.581 1615.77,899.581 1619.58,899.581 1623.34,899.581 1627.07,899.581 1630.76,899.581 1634.41,899.581 1638.03,899.581 1641.61,899.581 1645.15,899.581 1648.66,899.581 1652.14,899.581 1655.58,899.581 1658.98,899.581 1662.36,899.581 1665.7,899.581 1669,899.581 1672.28,899.581 1675.53,899.581 1678.74,899.581 1681.93,899.581 1685.08,899.581 1688.21,899.581 1691.3,899.581 1694.37,899.581 1697.41,899.581 1700.42,899.581 1703.4,899.581 1706.36,899.581 1709.29,899.581 1712.19,899.581 1715.07,899.581 1717.92,899.581 1720.74,899.581 1723.54,899.581 1726.32,899.581 1729.07,899.581 1731.8,899.581 1734.5,899.581 1737.18,899.581 1739.84,899.581 1742.47,899.581 1745.09,899.581 1747.67,899.581 1750.24,899.581 1752.79,899.581 1755.31,899.581 1757.82,899.581 1760.3,899.581 1762.76,899.581 1765.2,899.581 1767.62,899.581 1770.02,899.581 1772.41,899.581 1774.77,899.581 1777.11,899.581 1779.44,899.581 1781.74,899.581 1784.03,899.581 1786.3,899.581 1788.55,899.581 1790.78,899.581 1793,899.581 1795.19,899.581 1797.38,899.581 1799.54,899.581 1801.69,899.581 1803.82,899.581 1805.93,899.581 1808.03,899.581 1810.11,899.581 1812.18,899.581 1814.23,899.581 1816.26,899.581 1818.28,899.581 1820.28,899.581 \"/>\n",
       "<polyline clip-path=\"url(#clip942)\" style=\"stroke:#3da44d; stroke-linecap:round; stroke-linejoin:round; stroke-width:4; stroke-opacity:1; fill:none\" points=\"222.871,899.581 254.347,899.581 284.907,899.581 314.589,899.581 343.431,899.581 371.468,899.581 398.733,899.581 425.258,899.581 451.073,899.581 476.205,899.581 500.682,899.581 524.529,899.581 547.769,899.581 570.425,899.581 592.52,899.581 614.074,899.581 635.107,899.581 655.636,899.581 675.681,899.581 695.258,899.581 714.383,899.581 733.072,899.581 751.339,899.581 769.198,899.581 786.664,899.581 803.749,899.581 820.465,899.581 836.824,899.581 852.837,899.581 868.516,899.581 883.87,899.581 898.91,899.581 913.645,899.581 928.084,899.581 942.236,899.581 956.11,899.581 969.714,899.581 983.055,899.581 996.141,899.581 1008.98,899.581 1021.58,899.581 1033.94,899.581 1046.08,899.581 1057.99,899.581 1069.69,899.581 1081.18,899.581 1092.47,899.581 1103.56,899.581 1114.45,899.581 1125.16,899.581 1135.68,899.581 1146.02,899.581 1156.19,899.581 1166.19,899.581 1176.02,899.581 1185.7,899.581 1195.21,899.581 1204.57,899.581 1213.78,899.581 1222.84,899.581 1231.76,899.581 1240.54,899.581 1249.19,899.581 1257.7,899.581 1266.08,899.581 1274.33,899.581 1282.46,899.581 1290.47,899.581 1298.36,899.581 1306.13,899.581 1313.79,899.581 1321.33,899.581 1328.77,899.581 1336.1,899.581 1343.33,899.581 1350.46,899.581 1357.48,899.581 1364.41,899.581 1371.24,899.581 1377.98,899.581 1384.63,899.581 1391.18,899.581 1397.65,899.581 1404.03,899.581 1410.33,899.581 1416.54,899.581 1422.68,899.581 1428.73,899.581 1434.7,899.581 1440.6,899.581 1446.42,899.581 1452.17,899.581 1457.85,899.581 1463.45,899.581 1468.99,899.581 1474.45,899.581 1479.85,899.581 1485.19,899.581 1490.45,899.581 1495.66,899.581 1500.8,899.581 1505.88,899.581 1510.9,899.581 1515.87,899.581 1520.77,899.581 1525.62,899.581 1530.41,899.581 1535.14,899.581 1539.82,899.581 1544.45,899.581 1549.03,899.581 1553.55,899.581 1558.02,899.581 1562.45,899.581 1566.82,899.581 1571.15,899.581 1575.43,899.581 1579.66,899.581 1583.84,899.581 1587.99,899.581 1592.08,899.581 1596.14,899.581 1600.15,899.581 1604.11,899.581 1608.04,899.581 1611.93,899.581 1615.77,899.581 1619.58,899.581 1623.34,899.581 1627.07,899.581 1630.76,899.581 1634.41,899.581 1638.03,899.581 1641.61,899.581 1645.15,899.581 1648.66,899.581 1652.14,899.581 1655.58,899.581 1658.98,899.581 1662.36,899.581 1665.7,899.581 1669,899.581 1672.28,899.581 1675.53,899.581 1678.74,899.581 1681.93,899.581 1685.08,899.581 1688.21,899.581 1691.3,899.581 1694.37,899.581 1697.41,899.581 1700.42,899.581 1703.4,899.581 1706.36,899.581 1709.29,899.581 1712.19,899.581 1715.07,899.581 1717.92,899.581 1720.74,899.581 1723.54,899.581 1726.32,899.581 1729.07,899.581 1731.8,899.581 1734.5,899.581 1737.18,899.581 1739.84,899.581 1742.47,899.581 1745.09,899.581 1747.67,899.581 1750.24,899.581 1752.79,899.581 1755.31,899.581 1757.82,899.581 1760.3,899.581 1762.76,899.581 1765.2,899.581 1767.62,899.581 1770.02,899.581 1772.41,899.581 1774.77,899.581 1777.11,899.581 1779.44,899.581 1781.74,899.581 1784.03,899.581 1786.3,899.581 1788.55,899.581 1790.78,899.581 1793,899.581 1795.19,899.581 1797.38,899.581 1799.54,899.581 1801.69,899.581 1803.82,899.581 1805.93,899.581 1808.03,899.581 1810.11,899.581 1812.18,899.581 1814.23,899.581 1816.26,899.581 1818.28,899.581 1820.28,899.581 \"/>\n",
       "<polyline clip-path=\"url(#clip942)\" style=\"stroke:#c271d2; stroke-linecap:round; stroke-linejoin:round; stroke-width:4; stroke-opacity:1; fill:none\" points=\"222.871,899.581 254.347,899.512 284.907,899.256 314.589,898.663 343.431,897.459 371.468,895.223 398.733,891.374 425.258,885.187 451.073,875.84 476.205,862.509 500.682,844.49 524.529,821.348 547.769,793.055 570.425,760.096 592.52,723.516 614.074,684.897 635.107,646.255 655.636,609.884 675.681,578.145 695.258,553.25 714.383,537.058 733.072,530.911 751.339,535.531 769.198,550.977 786.664,576.671 803.749,611.476 820.465,653.815 836.824,701.814 852.837,753.451 868.516,806.694 883.87,859.629 898.91,910.55 913.645,958.027 928.084,1000.95 942.236,1038.52 956.11,1070.27 969.714,1096 983.055,1115.78 996.141,1129.87 1008.98,1138.66 1021.58,1142.7 1033.94,1142.57 1046.08,1138.88 1057.99,1132.26 1069.69,1123.31 1081.18,1112.58 1092.47,1100.57 1103.56,1087.74 1114.45,1074.47 1125.16,1061.07 1135.68,1047.81 1146.02,1034.9 1156.19,1022.5 1166.19,1010.73 1176.02,999.667 1185.7,989.356 1195.21,979.822 1204.57,971.066 1213.78,963.074 1222.84,955.819 1231.76,949.266 1240.54,943.374 1249.19,938.097 1257.7,933.39 1266.08,929.204 1274.33,925.493 1282.46,922.213 1290.47,919.322 1298.36,916.778 1306.13,914.546 1313.79,912.591 1321.33,910.881 1328.77,909.389 1336.1,908.088 1343.33,906.956 1350.46,905.971 1357.48,905.117 1364.41,904.375 1371.24,903.732 1377.98,903.176 1384.63,902.694 1391.18,902.277 1397.65,901.917 1404.03,901.606 1410.33,901.337 1416.54,901.105 1422.68,900.905 1428.73,900.732 1434.7,900.583 1440.6,900.455 1446.42,900.344 1452.17,900.249 1457.85,900.166 1463.45,900.095 1468.99,900.034 1474.45,899.981 1479.85,899.935 1485.19,899.896 1490.45,899.862 1495.66,899.832 1500.8,899.807 1505.88,899.785 1510.9,899.766 1515.87,899.75 1520.77,899.736 1525.62,899.724 1530.41,899.713 1535.14,899.704 1539.82,899.696 1544.45,899.689 1549.03,899.683 1553.55,899.678 1558.02,899.674 1562.45,899.67 1566.82,899.666 1571.15,899.663 1575.43,899.661 1579.66,899.659 1583.84,899.657 1587.99,899.655 1592.08,899.654 1596.14,899.652 1600.15,899.651 1604.11,899.65 1608.04,899.649 1611.93,899.649 1615.77,899.648 1619.58,899.648 1623.34,899.647 1627.07,899.647 1630.76,899.646 1634.41,899.646 1638.03,899.646 1641.61,899.645 1645.15,899.645 1648.66,899.645 1652.14,899.645 1655.58,899.645 1658.98,899.644 1662.36,899.644 1665.7,899.644 1669,899.644 1672.28,899.644 1675.53,899.644 1678.74,899.644 1681.93,899.644 1685.08,899.644 1688.21,899.644 1691.3,899.644 1694.37,899.644 1697.41,899.644 1700.42,899.644 1703.4,899.644 1706.36,899.644 1709.29,899.644 1712.19,899.644 1715.07,899.644 1717.92,899.644 1720.74,899.644 1723.54,899.644 1726.32,899.644 1729.07,899.644 1731.8,899.644 1734.5,899.644 1737.18,899.644 1739.84,899.644 1742.47,899.644 1745.09,899.643 1747.67,899.643 1750.24,899.643 1752.79,899.643 1755.31,899.643 1757.82,899.643 1760.3,899.643 1762.76,899.643 1765.2,899.643 1767.62,899.643 1770.02,899.643 1772.41,899.643 1774.77,899.643 1777.11,899.643 1779.44,899.643 1781.74,899.643 1784.03,899.643 1786.3,899.643 1788.55,899.643 1790.78,899.643 1793,899.643 1795.19,899.643 1797.38,899.643 1799.54,899.643 1801.69,899.643 1803.82,899.643 1805.93,899.643 1808.03,899.643 1810.11,899.643 1812.18,899.643 1814.23,899.643 1816.26,899.643 1818.28,899.643 1820.28,899.643 \"/>\n",
       "<polyline clip-path=\"url(#clip942)\" style=\"stroke:#ac8d18; stroke-linecap:round; stroke-linejoin:round; stroke-width:4; stroke-opacity:1; fill:none\" points=\"222.871,899.471 254.347,899.338 284.907,898.85 314.589,897.708 343.431,895.369 371.468,890.994 398.733,883.422 425.258,871.194 451.073,852.651 476.205,826.119 500.682,790.167 524.529,743.898 547.769,687.237 570.425,621.143 592.52,547.71 614.074,470.118 635.107,392.433 655.636,319.276 675.681,255.409 695.258,205.293 714.383,172.674 733.072,160.256 751.339,169.489 769.198,200.485 786.664,252.074 803.749,321.961 820.465,406.967 836.824,503.316 852.837,606.939 868.516,713.755 883.87,819.915 898.91,921.998 913.645,1017.14 928.084,1103.11 942.236,1178.33 956.11,1241.86 969.714,1293.31 983.055,1332.82 996.141,1360.92 1008.98,1378.42 1021.58,1386.4 1033.94,1386.02 1046.08,1378.54 1057.99,1365.21 1069.69,1347.21 1081.18,1325.66 1092.47,1301.58 1103.56,1275.85 1114.45,1249.24 1125.16,1222.4 1135.68,1195.85 1146.02,1170.01 1156.19,1145.19 1166.19,1121.64 1176.02,1099.5 1185.7,1078.88 1195.21,1059.81 1204.57,1042.3 1213.78,1026.32 1222.84,1011.81 1231.76,998.716 1240.54,986.939 1249.19,976.394 1257.7,966.986 1266.08,958.622 1274.33,951.209 1282.46,944.656 1290.47,938.88 1298.36,933.799 1306.13,929.341 1313.79,925.435 1321.33,922.021 1328.77,919.04 1336.1,916.443 1343.33,914.181 1350.46,912.216 1357.48,910.509 1364.41,909.028 1371.24,907.745 1377.98,906.633 1384.63,905.671 1391.18,904.839 1397.65,904.12 1404.03,903.499 1410.33,902.963 1416.54,902.5 1422.68,902.1 1428.73,901.755 1434.7,901.458 1440.6,901.201 1446.42,900.98 1452.17,900.789 1457.85,900.625 1463.45,900.483 1468.99,900.36 1474.45,900.255 1479.85,900.163 1485.19,900.085 1490.45,900.017 1495.66,899.958 1500.8,899.908 1505.88,899.864 1510.9,899.827 1515.87,899.794 1520.77,899.766 1525.62,899.741 1530.41,899.72 1535.14,899.702 1539.82,899.686 1544.45,899.672 1549.03,899.661 1553.55,899.65 1558.02,899.641 1562.45,899.634 1566.82,899.627 1571.15,899.621 1575.43,899.616 1579.66,899.612 1583.84,899.608 1587.99,899.604 1592.08,899.601 1596.14,899.599 1600.15,899.597 1604.11,899.595 1608.04,899.593 1611.93,899.592 1615.77,899.59 1619.58,899.589 1623.34,899.588 1627.07,899.587 1630.76,899.587 1634.41,899.586 1638.03,899.585 1641.61,899.585 1645.15,899.584 1648.66,899.584 1652.14,899.584 1655.58,899.583 1658.98,899.583 1662.36,899.583 1665.7,899.583 1669,899.583 1672.28,899.582 1675.53,899.582 1678.74,899.582 1681.93,899.582 1685.08,899.582 1688.21,899.582 1691.3,899.582 1694.37,899.582 1697.41,899.582 1700.42,899.582 1703.4,899.581 1706.36,899.581 1709.29,899.581 1712.19,899.581 1715.07,899.581 1717.92,899.581 1720.74,899.581 1723.54,899.581 1726.32,899.581 1729.07,899.581 1731.8,899.581 1734.5,899.581 1737.18,899.581 1739.84,899.581 1742.47,899.581 1745.09,899.581 1747.67,899.581 1750.24,899.581 1752.79,899.581 1755.31,899.581 1757.82,899.581 1760.3,899.581 1762.76,899.581 1765.2,899.581 1767.62,899.581 1770.02,899.581 1772.41,899.581 1774.77,899.581 1777.11,899.581 1779.44,899.581 1781.74,899.581 1784.03,899.581 1786.3,899.581 1788.55,899.581 1790.78,899.581 1793,899.581 1795.19,899.581 1797.38,899.581 1799.54,899.581 1801.69,899.581 1803.82,899.581 1805.93,899.581 1808.03,899.581 1810.11,899.581 1812.18,899.581 1814.23,899.581 1816.26,899.581 1818.28,899.581 1820.28,899.581 \"/>\n",
       "<polyline clip-path=\"url(#clip942)\" style=\"stroke:#00a9ad; stroke-linecap:round; stroke-linejoin:round; stroke-width:4; stroke-opacity:1; fill:none\" points=\"222.871,899.581 254.347,899.581 284.907,899.581 314.589,899.581 343.431,899.581 371.468,899.581 398.733,899.581 425.258,899.581 451.073,899.581 476.205,899.581 500.682,899.581 524.529,899.581 547.769,899.581 570.425,899.581 592.52,899.581 614.074,899.581 635.107,899.581 655.636,899.581 675.681,899.581 695.258,899.581 714.383,899.581 733.072,899.581 751.339,899.581 769.198,899.581 786.664,899.581 803.749,899.581 820.465,899.581 836.824,899.581 852.837,899.581 868.516,899.581 883.87,899.581 898.91,899.581 913.645,899.581 928.084,899.581 942.236,899.581 956.11,899.581 969.714,899.581 983.055,899.581 996.141,899.581 1008.98,899.581 1021.58,899.581 1033.94,899.581 1046.08,899.581 1057.99,899.581 1069.69,899.581 1081.18,899.581 1092.47,899.581 1103.56,899.581 1114.45,899.581 1125.16,899.581 1135.68,899.581 1146.02,899.581 1156.19,899.581 1166.19,899.581 1176.02,899.581 1185.7,899.581 1195.21,899.581 1204.57,899.581 1213.78,899.581 1222.84,899.581 1231.76,899.581 1240.54,899.581 1249.19,899.581 1257.7,899.581 1266.08,899.581 1274.33,899.581 1282.46,899.581 1290.47,899.581 1298.36,899.581 1306.13,899.581 1313.79,899.581 1321.33,899.581 1328.77,899.581 1336.1,899.581 1343.33,899.581 1350.46,899.581 1357.48,899.581 1364.41,899.581 1371.24,899.581 1377.98,899.581 1384.63,899.581 1391.18,899.581 1397.65,899.581 1404.03,899.581 1410.33,899.581 1416.54,899.581 1422.68,899.581 1428.73,899.581 1434.7,899.581 1440.6,899.581 1446.42,899.581 1452.17,899.581 1457.85,899.581 1463.45,899.581 1468.99,899.581 1474.45,899.581 1479.85,899.581 1485.19,899.581 1490.45,899.581 1495.66,899.581 1500.8,899.581 1505.88,899.581 1510.9,899.581 1515.87,899.581 1520.77,899.581 1525.62,899.581 1530.41,899.581 1535.14,899.581 1539.82,899.581 1544.45,899.581 1549.03,899.581 1553.55,899.581 1558.02,899.581 1562.45,899.581 1566.82,899.581 1571.15,899.581 1575.43,899.581 1579.66,899.581 1583.84,899.581 1587.99,899.581 1592.08,899.581 1596.14,899.581 1600.15,899.581 1604.11,899.581 1608.04,899.581 1611.93,899.581 1615.77,899.581 1619.58,899.581 1623.34,899.581 1627.07,899.581 1630.76,899.581 1634.41,899.581 1638.03,899.581 1641.61,899.581 1645.15,899.581 1648.66,899.581 1652.14,899.581 1655.58,899.581 1658.98,899.581 1662.36,899.581 1665.7,899.581 1669,899.581 1672.28,899.581 1675.53,899.581 1678.74,899.581 1681.93,899.581 1685.08,899.581 1688.21,899.581 1691.3,899.581 1694.37,899.581 1697.41,899.581 1700.42,899.581 1703.4,899.581 1706.36,899.581 1709.29,899.581 1712.19,899.581 1715.07,899.581 1717.92,899.581 1720.74,899.581 1723.54,899.581 1726.32,899.581 1729.07,899.581 1731.8,899.581 1734.5,899.581 1737.18,899.581 1739.84,899.581 1742.47,899.581 1745.09,899.581 1747.67,899.581 1750.24,899.581 1752.79,899.581 1755.31,899.581 1757.82,899.581 1760.3,899.581 1762.76,899.581 1765.2,899.581 1767.62,899.581 1770.02,899.581 1772.41,899.581 1774.77,899.581 1777.11,899.581 1779.44,899.581 1781.74,899.581 1784.03,899.581 1786.3,899.581 1788.55,899.581 1790.78,899.581 1793,899.581 1795.19,899.581 1797.38,899.581 1799.54,899.581 1801.69,899.581 1803.82,899.581 1805.93,899.581 1808.03,899.581 1810.11,899.581 1812.18,899.581 1814.23,899.581 1816.26,899.581 1818.28,899.581 1820.28,899.581 \"/>\n",
       "<polyline clip-path=\"url(#clip942)\" style=\"stroke:#ed5d92; stroke-linecap:round; stroke-linejoin:round; stroke-width:4; stroke-opacity:1; fill:none\" points=\"222.871,899.581 254.347,899.579 284.907,899.572 314.589,899.553 343.431,899.509 371.468,899.416 398.733,899.236 425.258,898.908 451.073,898.352 476.205,897.461 500.682,896.102 524.529,894.127 547.769,891.38 570.425,887.711 592.52,882.991 614.074,877.135 635.107,870.107 655.636,861.943 675.681,852.745 695.258,842.686 714.383,832.003 733.072,820.979 751.339,809.93 769.198,799.184 786.664,789.059 803.749,779.849 820.465,771.806 836.824,765.127 852.837,759.954 868.516,756.364 883.87,754.376 898.91,753.954 913.645,755.015 928.084,757.436 942.236,761.067 956.11,765.74 969.714,771.276 983.055,777.493 996.141,784.216 1008.98,791.28 1021.58,798.534 1033.94,805.843 1046.08,813.091 1057.99,820.182 1069.69,827.037 1081.18,833.593 1092.47,839.806 1103.56,845.645 1114.45,851.09 1125.16,856.133 1135.68,860.776 1146.02,865.025 1156.19,868.894 1166.19,872.399 1176.02,875.562 1185.7,878.404 1195.21,880.949 1204.57,883.219 1213.78,885.238 1222.84,887.028 1231.76,888.612 1240.54,890.009 1249.19,891.239 1257.7,892.319 1266.08,893.266 1274.33,894.095 1282.46,894.819 1290.47,895.451 1298.36,896.002 1306.13,896.481 1313.79,896.897 1321.33,897.259 1328.77,897.573 1336.1,897.845 1343.33,898.08 1350.46,898.284 1357.48,898.461 1364.41,898.613 1371.24,898.745 1377.98,898.859 1384.63,898.957 1391.18,899.042 1397.65,899.116 1404.03,899.179 1410.33,899.234 1416.54,899.281 1422.68,899.322 1428.73,899.357 1434.7,899.387 1440.6,899.413 1446.42,899.436 1452.17,899.455 1457.85,899.472 1463.45,899.487 1468.99,899.499 1474.45,899.51 1479.85,899.52 1485.19,899.528 1490.45,899.535 1495.66,899.541 1500.8,899.546 1505.88,899.551 1510.9,899.555 1515.87,899.558 1520.77,899.561 1525.62,899.564 1530.41,899.566 1535.14,899.568 1539.82,899.569 1544.45,899.571 1549.03,899.572 1553.55,899.573 1558.02,899.574 1562.45,899.575 1566.82,899.576 1571.15,899.577 1575.43,899.577 1579.66,899.578 1583.84,899.578 1587.99,899.578 1592.08,899.579 1596.14,899.579 1600.15,899.579 1604.11,899.579 1608.04,899.58 1611.93,899.58 1615.77,899.58 1619.58,899.58 1623.34,899.58 1627.07,899.58 1630.76,899.58 1634.41,899.58 1638.03,899.581 1641.61,899.581 1645.15,899.581 1648.66,899.581 1652.14,899.581 1655.58,899.581 1658.98,899.581 1662.36,899.581 1665.7,899.581 1669,899.581 1672.28,899.581 1675.53,899.581 1678.74,899.581 1681.93,899.581 1685.08,899.581 1688.21,899.581 1691.3,899.581 1694.37,899.581 1697.41,899.581 1700.42,899.581 1703.4,899.581 1706.36,899.581 1709.29,899.581 1712.19,899.581 1715.07,899.581 1717.92,899.581 1720.74,899.581 1723.54,899.581 1726.32,899.581 1729.07,899.581 1731.8,899.581 1734.5,899.581 1737.18,899.581 1739.84,899.581 1742.47,899.581 1745.09,899.581 1747.67,899.581 1750.24,899.581 1752.79,899.581 1755.31,899.581 1757.82,899.581 1760.3,899.581 1762.76,899.581 1765.2,899.581 1767.62,899.581 1770.02,899.581 1772.41,899.581 1774.77,899.581 1777.11,899.581 1779.44,899.581 1781.74,899.581 1784.03,899.581 1786.3,899.581 1788.55,899.581 1790.78,899.581 1793,899.581 1795.19,899.581 1797.38,899.581 1799.54,899.581 1801.69,899.581 1803.82,899.581 1805.93,899.581 1808.03,899.581 1810.11,899.581 1812.18,899.581 1814.23,899.581 1816.26,899.581 1818.28,899.581 1820.28,899.581 \"/>\n",
       "<path clip-path=\"url(#clip940)\" d=\"M1901.85 581.516 L2281.76 581.516 L2281.76 166.796 L1901.85 166.796  Z\" fill=\"#ffffff\" fill-rule=\"evenodd\" fill-opacity=\"1\"/>\n",
       "<polyline clip-path=\"url(#clip940)\" style=\"stroke:#000000; stroke-linecap:round; stroke-linejoin:round; stroke-width:4; stroke-opacity:1; fill:none\" points=\"1901.85,581.516 2281.76,581.516 2281.76,166.796 1901.85,166.796 1901.85,581.516 \"/>\n",
       "<polyline clip-path=\"url(#clip940)\" style=\"stroke:#009af9; stroke-linecap:round; stroke-linejoin:round; stroke-width:4; stroke-opacity:1; fill:none\" points=\"1925.52,218.636 2067.51,218.636 \"/>\n",
       "<path clip-path=\"url(#clip940)\" d=\"M2111.52 214.967 Q2113.12 212.096 2115.34 210.731 Q2117.56 209.365 2120.57 209.365 Q2124.62 209.365 2126.82 212.212 Q2129.02 215.036 2129.02 220.268 L2129.02 235.916 L2124.74 235.916 L2124.74 220.407 Q2124.74 216.68 2123.42 214.874 Q2122.1 213.069 2119.39 213.069 Q2116.08 213.069 2114.16 215.268 Q2112.24 217.467 2112.24 221.263 L2112.24 235.916 L2107.96 235.916 L2107.96 220.407 Q2107.96 216.657 2106.64 214.874 Q2105.32 213.069 2102.56 213.069 Q2099.3 213.069 2097.38 215.291 Q2095.46 217.49 2095.46 221.263 L2095.46 235.916 L2091.17 235.916 L2091.17 209.99 L2095.46 209.99 L2095.46 214.018 Q2096.91 211.633 2098.95 210.499 Q2100.99 209.365 2103.79 209.365 Q2106.61 209.365 2108.58 210.8 Q2110.57 212.235 2111.52 214.967 Z\" fill=\"#000000\" fill-rule=\"evenodd\" fill-opacity=\"1\" /><polyline clip-path=\"url(#clip940)\" style=\"stroke:#e26f46; stroke-linecap:round; stroke-linejoin:round; stroke-width:4; stroke-opacity:1; fill:none\" points=\"1925.52,270.476 2067.51,270.476 \"/>\n",
       "<path clip-path=\"url(#clip940)\" d=\"M2109.95 274.816 Q2109.95 270.117 2108 267.455 Q2106.08 264.77 2102.7 264.77 Q2099.32 264.77 2097.38 267.455 Q2095.46 270.117 2095.46 274.816 Q2095.46 279.515 2097.38 282.2 Q2099.32 284.862 2102.7 284.862 Q2106.08 284.862 2108 282.2 Q2109.95 279.515 2109.95 274.816 M2095.46 265.765 Q2096.8 263.45 2098.84 262.339 Q2100.9 261.205 2103.74 261.205 Q2108.47 261.205 2111.41 264.955 Q2114.37 268.705 2114.37 274.816 Q2114.37 280.927 2111.41 284.677 Q2108.47 288.427 2103.74 288.427 Q2100.9 288.427 2098.84 287.316 Q2096.8 286.182 2095.46 283.867 L2095.46 287.756 L2091.17 287.756 L2091.17 251.737 L2095.46 251.737 L2095.46 265.765 Z\" fill=\"#000000\" fill-rule=\"evenodd\" fill-opacity=\"1\" /><path clip-path=\"url(#clip940)\" d=\"M2143.6 273.728 L2143.6 275.811 L2124.02 275.811 Q2124.3 280.209 2126.66 282.524 Q2129.04 284.816 2133.28 284.816 Q2135.73 284.816 2138.03 284.214 Q2140.34 283.612 2142.61 282.409 L2142.61 286.436 Q2140.32 287.408 2137.91 287.918 Q2135.5 288.427 2133.03 288.427 Q2126.82 288.427 2123.19 284.816 Q2119.58 281.205 2119.58 275.047 Q2119.58 268.682 2123 264.955 Q2126.45 261.205 2132.28 261.205 Q2137.52 261.205 2140.55 264.585 Q2143.6 267.941 2143.6 273.728 M2139.34 272.478 Q2139.3 268.983 2137.38 266.899 Q2135.48 264.816 2132.33 264.816 Q2128.77 264.816 2126.61 266.83 Q2124.48 268.844 2124.16 272.501 L2139.34 272.478 Z\" fill=\"#000000\" fill-rule=\"evenodd\" fill-opacity=\"1\" /><path clip-path=\"url(#clip940)\" d=\"M2154.81 254.469 L2154.81 261.83 L2163.58 261.83 L2163.58 265.14 L2154.81 265.14 L2154.81 279.214 Q2154.81 282.385 2155.66 283.288 Q2156.54 284.191 2159.21 284.191 L2163.58 284.191 L2163.58 287.756 L2159.21 287.756 Q2154.28 287.756 2152.4 285.927 Q2150.53 284.075 2150.53 279.214 L2150.53 265.14 L2147.4 265.14 L2147.4 261.83 L2150.53 261.83 L2150.53 254.469 L2154.81 254.469 Z\" fill=\"#000000\" fill-rule=\"evenodd\" fill-opacity=\"1\" /><path clip-path=\"url(#clip940)\" d=\"M2180.97 274.723 Q2175.8 274.723 2173.81 275.904 Q2171.82 277.084 2171.82 279.932 Q2171.82 282.2 2173.3 283.543 Q2174.81 284.862 2177.38 284.862 Q2180.92 284.862 2183.05 282.362 Q2185.2 279.839 2185.2 275.672 L2185.2 274.723 L2180.97 274.723 M2189.46 272.964 L2189.46 287.756 L2185.2 287.756 L2185.2 283.821 Q2183.74 286.182 2181.57 287.316 Q2179.39 288.427 2176.24 288.427 Q2172.26 288.427 2169.9 286.205 Q2167.56 283.959 2167.56 280.209 Q2167.56 275.834 2170.48 273.612 Q2173.42 271.39 2179.23 271.39 L2185.2 271.39 L2185.2 270.973 Q2185.2 268.034 2183.26 266.436 Q2181.34 264.816 2177.84 264.816 Q2175.62 264.816 2173.51 265.348 Q2171.41 265.881 2169.46 266.946 L2169.46 263.01 Q2171.8 262.108 2174 261.668 Q2176.2 261.205 2178.28 261.205 Q2183.9 261.205 2186.68 264.122 Q2189.46 267.038 2189.46 272.964 Z\" fill=\"#000000\" fill-rule=\"evenodd\" fill-opacity=\"1\" /><polyline clip-path=\"url(#clip940)\" style=\"stroke:#3da44d; stroke-linecap:round; stroke-linejoin:round; stroke-width:4; stroke-opacity:1; fill:none\" points=\"1925.52,322.316 2067.51,322.316 \"/>\n",
       "<path clip-path=\"url(#clip940)\" d=\"M2095.46 335.707 L2095.46 349.457 L2091.17 349.457 L2091.17 313.67 L2095.46 313.67 L2095.46 317.605 Q2096.8 315.29 2098.84 314.179 Q2100.9 313.045 2103.74 313.045 Q2108.47 313.045 2111.41 316.795 Q2114.37 320.545 2114.37 326.656 Q2114.37 332.767 2111.41 336.517 Q2108.47 340.267 2103.74 340.267 Q2100.9 340.267 2098.84 339.156 Q2096.8 338.022 2095.46 335.707 M2109.95 326.656 Q2109.95 321.957 2108 319.295 Q2106.08 316.61 2102.7 316.61 Q2099.32 316.61 2097.38 319.295 Q2095.46 321.957 2095.46 326.656 Q2095.46 331.355 2097.38 334.04 Q2099.32 336.702 2102.7 336.702 Q2106.08 336.702 2108 334.04 Q2109.95 331.355 2109.95 326.656 Z\" fill=\"#000000\" fill-rule=\"evenodd\" fill-opacity=\"1\" /><path clip-path=\"url(#clip940)\" d=\"M2137.96 314.434 L2137.96 318.462 Q2136.15 317.536 2134.21 317.073 Q2132.26 316.61 2130.18 316.61 Q2127.01 316.61 2125.41 317.582 Q2123.84 318.554 2123.84 320.499 Q2123.84 321.98 2124.97 322.837 Q2126.1 323.67 2129.53 324.434 L2130.99 324.758 Q2135.53 325.73 2137.42 327.512 Q2139.34 329.272 2139.34 332.443 Q2139.34 336.054 2136.47 338.161 Q2133.63 340.267 2128.63 340.267 Q2126.54 340.267 2124.28 339.85 Q2122.03 339.457 2119.53 338.647 L2119.53 334.249 Q2121.89 335.475 2124.18 336.1 Q2126.47 336.702 2128.72 336.702 Q2131.73 336.702 2133.35 335.684 Q2134.97 334.642 2134.97 332.767 Q2134.97 331.031 2133.79 330.105 Q2132.63 329.179 2128.67 328.323 L2127.19 327.975 Q2123.23 327.142 2121.47 325.429 Q2119.72 323.693 2119.72 320.684 Q2119.72 317.026 2122.31 315.036 Q2124.9 313.045 2129.67 313.045 Q2132.03 313.045 2134.11 313.392 Q2136.2 313.739 2137.96 314.434 Z\" fill=\"#000000\" fill-rule=\"evenodd\" fill-opacity=\"1\" /><path clip-path=\"url(#clip940)\" d=\"M2146.13 313.67 L2150.39 313.67 L2150.39 339.596 L2146.13 339.596 L2146.13 313.67 M2146.13 303.577 L2150.39 303.577 L2150.39 308.971 L2146.13 308.971 L2146.13 303.577 Z\" fill=\"#000000\" fill-rule=\"evenodd\" fill-opacity=\"1\" /><polyline clip-path=\"url(#clip940)\" style=\"stroke:#c271d2; stroke-linecap:round; stroke-linejoin:round; stroke-width:4; stroke-opacity:1; fill:none\" points=\"1925.52,374.156 2067.51,374.156 \"/>\n",
       "<path clip-path=\"url(#clip940)\" d=\"M2115.83 365.51 L2106.45 378.126 L2116.31 391.436 L2111.29 391.436 L2103.74 381.251 L2096.2 391.436 L2091.17 391.436 L2101.24 377.871 L2092.03 365.51 L2097.05 365.51 L2103.93 374.746 L2110.8 365.51 L2115.83 365.51 Z\" fill=\"#000000\" fill-rule=\"evenodd\" fill-opacity=\"1\" /><path clip-path=\"url(#clip940)\" d=\"M2140.16 366.505 L2140.16 370.487 Q2138.35 369.491 2136.52 369.005 Q2134.72 368.496 2132.86 368.496 Q2128.72 368.496 2126.43 371.135 Q2124.14 373.751 2124.14 378.496 Q2124.14 383.241 2126.43 385.88 Q2128.72 388.496 2132.86 388.496 Q2134.72 388.496 2136.52 388.01 Q2138.35 387.501 2140.16 386.505 L2140.16 390.44 Q2138.37 391.274 2136.45 391.69 Q2134.55 392.107 2132.4 392.107 Q2126.54 392.107 2123.1 388.426 Q2119.65 384.746 2119.65 378.496 Q2119.65 372.153 2123.12 368.519 Q2126.61 364.885 2132.68 364.885 Q2134.65 364.885 2136.52 365.302 Q2138.4 365.695 2140.16 366.505 Z\" fill=\"#000000\" fill-rule=\"evenodd\" fill-opacity=\"1\" /><path clip-path=\"url(#clip940)\" d=\"M2169.11 375.788 L2169.11 391.436 L2164.85 391.436 L2164.85 375.927 Q2164.85 372.246 2163.42 370.417 Q2161.98 368.589 2159.11 368.589 Q2155.66 368.589 2153.67 370.788 Q2151.68 372.987 2151.68 376.783 L2151.68 391.436 L2147.4 391.436 L2147.4 355.417 L2151.68 355.417 L2151.68 369.538 Q2153.21 367.2 2155.27 366.042 Q2157.35 364.885 2160.06 364.885 Q2164.53 364.885 2166.82 367.663 Q2169.11 370.417 2169.11 375.788 Z\" fill=\"#000000\" fill-rule=\"evenodd\" fill-opacity=\"1\" /><path clip-path=\"url(#clip940)\" d=\"M2177.61 365.51 L2181.87 365.51 L2181.87 391.436 L2177.61 391.436 L2177.61 365.51 M2177.61 355.417 L2181.87 355.417 L2181.87 360.811 L2177.61 360.811 L2177.61 355.417 Z\" fill=\"#000000\" fill-rule=\"evenodd\" fill-opacity=\"1\" /><path clip-path=\"url(#clip940)\" d=\"M2191.87 385.556 L2196.75 385.556 L2196.75 389.538 L2192.96 396.945 L2189.97 396.945 L2191.87 389.538 L2191.87 385.556 Z\" fill=\"#000000\" fill-rule=\"evenodd\" fill-opacity=\"1\" /><path clip-path=\"url(#clip940)\" d=\"M2205.41 381.204 L2205.41 365.51 L2209.67 365.51 L2209.67 381.042 Q2209.67 384.723 2211.1 386.575 Q2212.54 388.403 2215.41 388.403 Q2218.86 388.403 2220.85 386.204 Q2222.86 384.005 2222.86 380.209 L2222.86 365.51 L2227.12 365.51 L2227.12 391.436 L2222.86 391.436 L2222.86 387.454 Q2221.31 389.815 2219.25 390.973 Q2217.21 392.107 2214.51 392.107 Q2210.04 392.107 2207.72 389.329 Q2205.41 386.551 2205.41 381.204 M2216.13 364.885 L2216.13 364.885 Z\" fill=\"#000000\" fill-rule=\"evenodd\" fill-opacity=\"1\" /><polyline clip-path=\"url(#clip940)\" style=\"stroke:#ac8d18; stroke-linecap:round; stroke-linejoin:round; stroke-width:4; stroke-opacity:1; fill:none\" points=\"1925.52,425.996 2067.51,425.996 \"/>\n",
       "<path clip-path=\"url(#clip940)\" d=\"M2110.09 421.285 L2110.09 407.257 L2114.35 407.257 L2114.35 443.276 L2110.09 443.276 L2110.09 439.387 Q2108.74 441.702 2106.68 442.836 Q2104.65 443.947 2101.78 443.947 Q2097.08 443.947 2094.11 440.197 Q2091.17 436.447 2091.17 430.336 Q2091.17 424.225 2094.11 420.475 Q2097.08 416.725 2101.78 416.725 Q2104.65 416.725 2106.68 417.859 Q2108.74 418.97 2110.09 421.285 M2095.57 430.336 Q2095.57 435.035 2097.49 437.72 Q2099.44 440.382 2102.82 440.382 Q2106.2 440.382 2108.14 437.72 Q2110.09 435.035 2110.09 430.336 Q2110.09 425.637 2108.14 422.975 Q2106.2 420.29 2102.82 420.29 Q2099.44 420.29 2097.49 422.975 Q2095.57 425.637 2095.57 430.336 Z\" fill=\"#000000\" fill-rule=\"evenodd\" fill-opacity=\"1\" /><path clip-path=\"url(#clip940)\" d=\"M2145.29 429.248 L2145.29 431.331 L2125.71 431.331 Q2125.99 435.729 2128.35 438.044 Q2130.73 440.336 2134.97 440.336 Q2137.42 440.336 2139.72 439.734 Q2142.03 439.132 2144.3 437.929 L2144.3 441.956 Q2142.01 442.928 2139.6 443.438 Q2137.19 443.947 2134.72 443.947 Q2128.51 443.947 2124.88 440.336 Q2121.27 436.725 2121.27 430.567 Q2121.27 424.202 2124.69 420.475 Q2128.14 416.725 2133.97 416.725 Q2139.21 416.725 2142.24 420.105 Q2145.29 423.461 2145.29 429.248 M2141.03 427.998 Q2140.99 424.503 2139.07 422.419 Q2137.17 420.336 2134.02 420.336 Q2130.46 420.336 2128.3 422.35 Q2126.17 424.364 2125.85 428.021 L2141.03 427.998 Z\" fill=\"#000000\" fill-rule=\"evenodd\" fill-opacity=\"1\" /><path clip-path=\"url(#clip940)\" d=\"M2167.31 421.331 Q2166.59 420.915 2165.73 420.73 Q2164.9 420.521 2163.88 420.521 Q2160.27 420.521 2158.33 422.882 Q2156.41 425.22 2156.41 429.618 L2156.41 443.276 L2152.12 443.276 L2152.12 417.35 L2156.41 417.35 L2156.41 421.378 Q2157.75 419.017 2159.9 417.882 Q2162.05 416.725 2165.13 416.725 Q2165.57 416.725 2166.1 416.794 Q2166.64 416.841 2167.28 416.956 L2167.31 421.331 Z\" fill=\"#000000\" fill-rule=\"evenodd\" fill-opacity=\"1\" /><path clip-path=\"url(#clip940)\" d=\"M2192.05 417.35 L2182.68 429.966 L2192.54 443.276 L2187.52 443.276 L2179.97 433.091 L2172.42 443.276 L2167.4 443.276 L2177.47 429.711 L2168.26 417.35 L2173.28 417.35 L2180.15 426.586 L2187.03 417.35 L2192.05 417.35 Z\" fill=\"#000000\" fill-rule=\"evenodd\" fill-opacity=\"1\" /><path clip-path=\"url(#clip940)\" d=\"M2216.38 418.345 L2216.38 422.327 Q2214.58 421.331 2212.75 420.845 Q2210.94 420.336 2209.09 420.336 Q2204.95 420.336 2202.65 422.975 Q2200.36 425.591 2200.36 430.336 Q2200.36 435.081 2202.65 437.72 Q2204.95 440.336 2209.09 440.336 Q2210.94 440.336 2212.75 439.85 Q2214.58 439.341 2216.38 438.345 L2216.38 442.28 Q2214.6 443.114 2212.68 443.53 Q2210.78 443.947 2208.63 443.947 Q2202.77 443.947 2199.32 440.266 Q2195.87 436.586 2195.87 430.336 Q2195.87 423.993 2199.34 420.359 Q2202.84 416.725 2208.9 416.725 Q2210.87 416.725 2212.75 417.142 Q2214.62 417.535 2216.38 418.345 Z\" fill=\"#000000\" fill-rule=\"evenodd\" fill-opacity=\"1\" /><path clip-path=\"url(#clip940)\" d=\"M2245.34 427.628 L2245.34 443.276 L2241.08 443.276 L2241.08 427.767 Q2241.08 424.086 2239.65 422.257 Q2238.21 420.429 2235.34 420.429 Q2231.89 420.429 2229.9 422.628 Q2227.91 424.827 2227.91 428.623 L2227.91 443.276 L2223.63 443.276 L2223.63 407.257 L2227.91 407.257 L2227.91 421.378 Q2229.44 419.04 2231.5 417.882 Q2233.58 416.725 2236.29 416.725 Q2240.76 416.725 2243.05 419.503 Q2245.34 422.257 2245.34 427.628 Z\" fill=\"#000000\" fill-rule=\"evenodd\" fill-opacity=\"1\" /><path clip-path=\"url(#clip940)\" d=\"M2253.84 417.35 L2258.09 417.35 L2258.09 443.276 L2253.84 443.276 L2253.84 417.35 M2253.84 407.257 L2258.09 407.257 L2258.09 412.651 L2253.84 412.651 L2253.84 407.257 Z\" fill=\"#000000\" fill-rule=\"evenodd\" fill-opacity=\"1\" /><polyline clip-path=\"url(#clip940)\" style=\"stroke:#00a9ad; stroke-linecap:round; stroke-linejoin:round; stroke-width:4; stroke-opacity:1; fill:none\" points=\"1925.52,477.836 2067.51,477.836 \"/>\n",
       "<path clip-path=\"url(#clip940)\" d=\"M2095.46 491.227 L2095.46 504.977 L2091.17 504.977 L2091.17 469.19 L2095.46 469.19 L2095.46 473.125 Q2096.8 470.81 2098.84 469.699 Q2100.9 468.565 2103.74 468.565 Q2108.47 468.565 2111.41 472.315 Q2114.37 476.065 2114.37 482.176 Q2114.37 488.287 2111.41 492.037 Q2108.47 495.787 2103.74 495.787 Q2100.9 495.787 2098.84 494.676 Q2096.8 493.542 2095.46 491.227 M2109.95 482.176 Q2109.95 477.477 2108 474.815 Q2106.08 472.13 2102.7 472.13 Q2099.32 472.13 2097.38 474.815 Q2095.46 477.477 2095.46 482.176 Q2095.46 486.875 2097.38 489.56 Q2099.32 492.222 2102.7 492.222 Q2106.08 492.222 2108 489.56 Q2109.95 486.875 2109.95 482.176 Z\" fill=\"#000000\" fill-rule=\"evenodd\" fill-opacity=\"1\" /><path clip-path=\"url(#clip940)\" d=\"M2137.96 469.954 L2137.96 473.982 Q2136.15 473.056 2134.21 472.593 Q2132.26 472.13 2130.18 472.13 Q2127.01 472.13 2125.41 473.102 Q2123.84 474.074 2123.84 476.019 Q2123.84 477.5 2124.97 478.357 Q2126.1 479.19 2129.53 479.954 L2130.99 480.278 Q2135.53 481.25 2137.42 483.032 Q2139.34 484.792 2139.34 487.963 Q2139.34 491.574 2136.47 493.681 Q2133.63 495.787 2128.63 495.787 Q2126.54 495.787 2124.28 495.37 Q2122.03 494.977 2119.53 494.167 L2119.53 489.769 Q2121.89 490.995 2124.18 491.62 Q2126.47 492.222 2128.72 492.222 Q2131.73 492.222 2133.35 491.204 Q2134.97 490.162 2134.97 488.287 Q2134.97 486.551 2133.79 485.625 Q2132.63 484.699 2128.67 483.843 L2127.19 483.495 Q2123.23 482.662 2121.47 480.949 Q2119.72 479.213 2119.72 476.204 Q2119.72 472.546 2122.31 470.556 Q2124.9 468.565 2129.67 468.565 Q2132.03 468.565 2134.11 468.912 Q2136.2 469.259 2137.96 469.954 Z\" fill=\"#000000\" fill-rule=\"evenodd\" fill-opacity=\"1\" /><path clip-path=\"url(#clip940)\" d=\"M2146.13 469.19 L2150.39 469.19 L2150.39 495.116 L2146.13 495.116 L2146.13 469.19 M2146.13 459.097 L2150.39 459.097 L2150.39 464.491 L2146.13 464.491 L2146.13 459.097 Z\" fill=\"#000000\" fill-rule=\"evenodd\" fill-opacity=\"1\" /><path clip-path=\"url(#clip940)\" d=\"M2160.39 489.236 L2165.27 489.236 L2165.27 493.218 L2161.47 500.625 L2158.49 500.625 L2160.39 493.218 L2160.39 489.236 Z\" fill=\"#000000\" fill-rule=\"evenodd\" fill-opacity=\"1\" /><path clip-path=\"url(#clip940)\" d=\"M2189.39 473.171 Q2188.67 472.755 2187.82 472.57 Q2186.98 472.361 2185.97 472.361 Q2182.35 472.361 2180.41 474.722 Q2178.49 477.06 2178.49 481.458 L2178.49 495.116 L2174.21 495.116 L2174.21 469.19 L2178.49 469.19 L2178.49 473.218 Q2179.83 470.857 2181.98 469.722 Q2184.14 468.565 2187.22 468.565 Q2187.65 468.565 2188.19 468.634 Q2188.72 468.681 2189.37 468.796 L2189.39 473.171 Z\" fill=\"#000000\" fill-rule=\"evenodd\" fill-opacity=\"1\" /><polyline clip-path=\"url(#clip940)\" style=\"stroke:#ed5d92; stroke-linecap:round; stroke-linejoin:round; stroke-width:4; stroke-opacity:1; fill:none\" points=\"1925.52,529.676 2067.51,529.676 \"/>\n",
       "<path clip-path=\"url(#clip940)\" d=\"M2115.83 521.03 L2106.45 533.646 L2116.31 546.956 L2111.29 546.956 L2103.74 536.771 L2096.2 546.956 L2091.17 546.956 L2101.24 533.391 L2092.03 521.03 L2097.05 521.03 L2103.93 530.266 L2110.8 521.03 L2115.83 521.03 Z\" fill=\"#000000\" fill-rule=\"evenodd\" fill-opacity=\"1\" /><path clip-path=\"url(#clip940)\" d=\"M2140.16 522.025 L2140.16 526.007 Q2138.35 525.011 2136.52 524.525 Q2134.72 524.016 2132.86 524.016 Q2128.72 524.016 2126.43 526.655 Q2124.14 529.271 2124.14 534.016 Q2124.14 538.761 2126.43 541.4 Q2128.72 544.016 2132.86 544.016 Q2134.72 544.016 2136.52 543.53 Q2138.35 543.021 2140.16 542.025 L2140.16 545.96 Q2138.37 546.794 2136.45 547.21 Q2134.55 547.627 2132.4 547.627 Q2126.54 547.627 2123.1 543.946 Q2119.65 540.266 2119.65 534.016 Q2119.65 527.673 2123.12 524.039 Q2126.61 520.405 2132.68 520.405 Q2134.65 520.405 2136.52 520.822 Q2138.4 521.215 2140.16 522.025 Z\" fill=\"#000000\" fill-rule=\"evenodd\" fill-opacity=\"1\" /><path clip-path=\"url(#clip940)\" d=\"M2169.11 531.308 L2169.11 546.956 L2164.85 546.956 L2164.85 531.447 Q2164.85 527.766 2163.42 525.937 Q2161.98 524.109 2159.11 524.109 Q2155.66 524.109 2153.67 526.308 Q2151.68 528.507 2151.68 532.303 L2151.68 546.956 L2147.4 546.956 L2147.4 510.937 L2151.68 510.937 L2151.68 525.058 Q2153.21 522.72 2155.27 521.562 Q2157.35 520.405 2160.06 520.405 Q2164.53 520.405 2166.82 523.183 Q2169.11 525.937 2169.11 531.308 Z\" fill=\"#000000\" fill-rule=\"evenodd\" fill-opacity=\"1\" /><path clip-path=\"url(#clip940)\" d=\"M2177.61 521.03 L2181.87 521.03 L2181.87 546.956 L2177.61 546.956 L2177.61 521.03 M2177.61 510.937 L2181.87 510.937 L2181.87 516.331 L2177.61 516.331 L2177.61 510.937 Z\" fill=\"#000000\" fill-rule=\"evenodd\" fill-opacity=\"1\" /></svg>\n"
      ]
     },
     "execution_count": 177,
     "metadata": {},
     "output_type": "execute_result"
    }
   ],
   "source": [
    "using Plots #showing initial data and the initial status of the horizon finder\n",
    "plot(compactify.(initX[4:L-3]), state_array[4:L-3,1:7], xaxis=\"r\",title=\"Initial Data\", labels=[\"m\" \"beta\" \"psi\" \"xchi,u\" \"derxchi\" \"psi,r\" \"xchi\"],xlim=[0,1])"
   ]
  },
  {
   "cell_type": "code",
   "execution_count": 178,
   "id": "15bbf245",
   "metadata": {},
   "outputs": [],
   "source": [
    "function compactify(r)\n",
    "    return r/(1+r)\n",
    "end\n",
    "function uncompactify(x)\n",
    "    return x/(1-x)\n",
    "end;"
   ]
  },
  {
   "cell_type": "markdown",
   "id": "9b444ece",
   "metadata": {
    "papermill": {
     "duration": 0.009161,
     "end_time": "2023-03-28T18:06:25.373170",
     "exception": false,
     "start_time": "2023-03-28T18:06:25.364009",
     "status": "completed"
    },
    "tags": []
   },
   "source": [
    "# Defining the initial state array for the evolution m β Ψ and Ψ,x"
   ]
  },
  {
   "cell_type": "code",
   "execution_count": 179,
   "id": "9902ffab",
   "metadata": {
    "execution": {
     "iopub.execute_input": "2023-03-28T19:06:25.389000Z",
     "iopub.status.busy": "2023-03-28T19:06:25.388000Z",
     "iopub.status.idle": "2023-03-28T19:06:32.710000Z",
     "shell.execute_reply": "2023-03-28T19:06:32.710000Z"
    },
    "papermill": {
     "duration": 7.335269,
     "end_time": "2023-03-28T18:06:32.715990",
     "exception": false,
     "start_time": "2023-03-28T18:06:25.380721",
     "status": "completed"
    },
    "tags": []
   },
   "outputs": [],
   "source": [
    "using CSV, Tables\n",
    "#CSV.write(dir*\"/res$res/time_step0.csv\", Tables.table(state_array), writeheader=false)\n",
    "\n",
    "global files=[\"m\", \"beta\", \"psi\", \"deruxchi\", \"derxchi\", \"derpsi\", \"xchi\", \"massloss\"]\n",
    "\n",
    "\n",
    "massloss = zeros(L)\n",
    "massloss[4:L-3] = masslossfunc(state_array)[4:L-3]\n",
    "print_muninn(files, 0, [state_array[:,1:7] massloss],res,\"w\", state_array[:,8])"
   ]
  },
  {
   "cell_type": "code",
   "execution_count": 180,
   "id": "fff1426a",
   "metadata": {
    "execution": {
     "iopub.execute_input": "2023-03-28T19:06:33.154000Z",
     "iopub.status.busy": "2023-03-28T19:06:32.734000Z",
     "iopub.status.idle": "2023-03-28T19:06:33.884000Z",
     "shell.execute_reply": "2023-03-28T19:06:33.884000Z"
    },
    "papermill": {
     "duration": 1.164178,
     "end_time": "2023-03-28T18:06:33.889802",
     "exception": false,
     "start_time": "2023-03-28T18:06:32.725624",
     "status": "completed"
    },
    "tags": []
   },
   "outputs": [],
   "source": [
    "time=0.0\n",
    "criticality=0.0\n",
    "explode=0.0\n",
    "evol_stats = [criticality A sigma r0 time explode run]\n",
    "global monitor_ratio = zeros(L);\n",
    "#CSV.write(dir*\"/parameters.csv\", Tables.table(evol_stats), writeheader=true, header=[\"criticality\", \"A\", \"sigma\", \"r0\", \"time\", \"explode\", \"run\"])"
   ]
  },
  {
   "cell_type": "code",
   "execution_count": 181,
   "id": "9e9abd7d",
   "metadata": {},
   "outputs": [
    {
     "name": "stdout",
     "output_type": "stream",
     "text": [
      "14.999999999999996\n"
     ]
    }
   ],
   "source": [
    "ginit=speed(initX,state_array[:,1],state_array[:,2])\n",
    "println(update_dt(initX,state_array[:,1],state_array[:,2],dx,ginit)/dt)"
   ]
  },
  {
   "cell_type": "code",
   "execution_count": 182,
   "id": "4e0df300",
   "metadata": {},
   "outputs": [
    {
     "data": {
      "text/plain": [
       "4"
      ]
     },
     "execution_count": 182,
     "metadata": {},
     "output_type": "execute_result"
    }
   ],
   "source": [
    "using Base.Threads\n",
    "Threads.nthreads()"
   ]
  },
  {
   "cell_type": "code",
   "execution_count": 183,
   "id": "27a5bccd",
   "metadata": {},
   "outputs": [
    {
     "data": {
      "text/plain": [
       "0.001"
      ]
     },
     "execution_count": 183,
     "metadata": {},
     "output_type": "execute_result"
    }
   ],
   "source": [
    "dt=0.001/2^(m-1)"
   ]
  },
  {
   "cell_type": "markdown",
   "id": "42e2c73d",
   "metadata": {
    "papermill": {
     "duration": 0.007626,
     "end_time": "2023-03-28T18:06:33.908346",
     "exception": false,
     "start_time": "2023-03-28T18:06:33.900720",
     "status": "completed"
    },
    "tags": []
   },
   "source": [
    " ## Time evolution"
   ]
  },
  {
   "cell_type": "code",
   "execution_count": 184,
   "id": "557502cf",
   "metadata": {},
   "outputs": [
    {
     "data": {
      "text/plain": [
       "207×8 Matrix{Float64}:\n",
       " 0.0  0.0  0.0   0.0           9.90228e-5   0.0  -1.47035e-6   -0.045\n",
       " 0.0  0.0  0.0   0.0           3.86742e-5   0.0  -4.88286e-7   -0.03\n",
       " 0.0  0.0  0.0   0.0           1.28294e-5   0.0  -1.26652e-7   -0.015\n",
       " 0.0  0.0  0.0   0.0           5.83259e-6   0.0   0.0           0.0\n",
       " 0.0  0.0  0.0   3.6779e-6     1.28294e-5   0.0   1.26652e-7    0.015\n",
       " 0.0  0.0  0.0   1.72041e-5    3.86742e-5   0.0   4.88286e-7    0.03\n",
       " 0.0  0.0  0.0   4.85271e-5    9.90228e-5   0.0   1.47035e-6    0.045\n",
       " 0.0  0.0  0.0   0.000112163   0.000222661  0.0   3.78824e-6    0.06\n",
       " 0.0  0.0  0.0   0.000230383   0.000453934  0.0   8.70216e-6    0.075\n",
       " 0.0  0.0  0.0   0.000433845   0.00085421   0.0   1.82639e-5    0.09\n",
       " 0.0  0.0  0.0   0.000760915   0.00150064   0.0   3.55674e-5    0.105\n",
       " 0.0  0.0  0.0   0.00125501    0.00248089   0.0   6.49523e-5    0.12\n",
       " 0.0  0.0  0.0   0.00195977    0.00388345   0.0   0.000112095   0.135\n",
       " ⋮                                          ⋮                  \n",
       " 0.0  0.0  0.0  -3.29726e-6   -3.43591e-10  0.0   5.93822e-11   2.88\n",
       " 0.0  0.0  0.0  -3.29725e-6   -3.13398e-10  0.0   5.44584e-11   2.895\n",
       " 0.0  0.0  0.0  -3.29724e-6   -2.85994e-10  0.0   4.99663e-11   2.91\n",
       " 0.0  0.0  0.0  -3.29722e-6   -2.6111e-10   0.0   4.5866e-11    2.925\n",
       " 0.0  0.0  0.0  -3.29722e-6   -2.38502e-10  0.0   4.21216e-11   2.94\n",
       " 0.0  0.0  0.0  -3.29717e-6   -2.17953e-10  0.0   3.87006e-11   2.955\n",
       " 0.0  0.0  0.0  -3.29721e-6   -3.20559e-11  0.0   3.55737e-11   2.97\n",
       " 0.0  0.0  0.0  -3.29748e-6   -8.51099e-10  0.0   3.27142e-11   2.985\n",
       " 0.0  0.0  0.0  -3.29784e-6   -8.51099e-10  0.0   0.0           3.0\n",
       " 0.0  0.0  0.0   0.0           1.79193e-9   0.0  -9.26909e-11   3.015\n",
       " 0.0  0.0  0.0   0.0           8.90197e-9   0.0  -2.75481e-10   3.03\n",
       " 0.0  0.0  0.0   0.0           2.2303e-8    0.0  -5.78491e-10   3.045"
      ]
     },
     "execution_count": 184,
     "metadata": {},
     "output_type": "execute_result"
    }
   ],
   "source": [
    "state_array"
   ]
  },
  {
   "cell_type": "markdown",
   "id": "7da47594",
   "metadata": {
    "papermill": {
     "duration": 0.007471,
     "end_time": "2023-03-28T18:06:33.923805",
     "exception": false,
     "start_time": "2023-03-28T18:06:33.916334",
     "status": "completed"
    },
    "tags": []
   },
   "source": [
    "fixed grid"
   ]
  },
  {
   "cell_type": "code",
   "execution_count": 185,
   "id": "fcb7ae3f",
   "metadata": {
    "execution": {
     "iopub.execute_input": "2023-03-28T19:06:33.940000Z",
     "iopub.status.busy": "2023-03-28T19:06:33.940000Z",
     "iopub.status.idle": "2023-03-28T21:02:19.379000Z",
     "shell.execute_reply": "2023-03-28T21:02:19.378000Z"
    },
    "papermill": {
     "duration": 6945.452732,
     "end_time": "2023-03-28T20:02:19.384591",
     "exception": false,
     "start_time": "2023-03-28T18:06:33.931859",
     "status": "completed"
    },
    "tags": []
   },
   "outputs": [
    {
     "name": "stdout",
     "output_type": "stream",
     "text": [
      "\n",
      "\n",
      "iteration 100 dt is 0.001, t=0.10000000000000007 speed is 0.5000000000000001, dx/dt=15.0\n",
      "\n",
      "\n",
      "iteration 200 dt is 0.001, t=0.20000000000000015 speed is 0.5000000000000001, dx/dt=15.0\n",
      "\n",
      "\n",
      "iteration 300 dt is 0.001, t=0.3000000000000002 speed is 0.5000000000000001, dx/dt=15.0\n",
      "\n",
      "\n",
      "iteration 400 dt is 0.001, t=0.4000000000000003 speed is 0.5000000000000001, dx/dt=15.0\n",
      "\n",
      "\n",
      "iteration 500 dt is 0.001, t=0.5000000000000003 speed is 0.5000000000000001, dx/dt=15.0\n",
      "\n",
      "\n",
      "iteration 600 dt is 0.001, t=0.6000000000000004 speed is 0.5000000000000001, dx/dt=15.0\n",
      "\n",
      "\n",
      "iteration 700 dt is 0.001, t=0.7000000000000005 speed is 0.5000000000000001, dx/dt=15.0\n",
      "\n",
      "\n",
      "iteration 800 dt is 0.001, t=0.8000000000000006 speed is 0.5000000000000001, dx/dt=15.0\n",
      "\n",
      "\n",
      "iteration 900 dt is 0.001, t=0.9000000000000007 speed is 0.5000000000000001, dx/dt=15.0\n",
      "\n",
      "\n",
      "iteration 1000 dt is 0.001, t=1.0000000000000007 speed is 0.5000000000000001, dx/dt=15.0\n",
      "\n",
      "\n",
      "iteration 1100 dt is 0.001, t=1.0999999999999897 speed is 0.5000000000000001, dx/dt=15.0\n",
      "\n",
      "\n",
      "iteration 1200 dt is 0.001, t=1.1999999999999786 speed is 0.5000000000000001, dx/dt=15.0\n",
      "\n",
      "\n",
      "iteration 1300 dt is 0.001, t=1.2999999999999676 speed is 0.5000000000000001, dx/dt=15.0\n",
      "\n",
      "\n",
      "iteration 1400 dt is 0.001, t=1.3999999999999566 speed is 0.5000000000000001, dx/dt=15.0\n",
      "\n",
      "\n",
      "iteration 1500 dt is 0.001, t=1.4999999999999456 speed is 0.5000000000000001, dx/dt=15.0\n",
      "\n",
      "\n",
      "iteration 1600 dt is 0.001, t=1.5999999999999346 speed is 0.5000000000000001, dx/dt=15.0\n",
      "\n",
      "\n",
      "iteration 1700 dt is 0.001, t=1.6999999999999236 speed is 0.5000000000000001, dx/dt=15.0\n",
      "\n",
      "\n",
      "iteration 1800 dt is 0.001, t=1.7999999999999126 speed is 0.5000000000000001, dx/dt=15.0\n",
      "\n",
      "\n",
      "iteration 1900 dt is 0.001, t=1.8999999999999015 speed is 0.5000000000000001, dx/dt=15.0\n",
      "\n",
      "\n",
      "iteration 2000 dt is 0.001, t=1.9999999999998905 speed is 0.5000000000000001, dx/dt=15.0\n",
      "\n",
      "\n",
      "iteration 2100 dt is 0.001, t=2.0999999999998797 speed is 0.5000000000000001, dx/dt=15.0\n",
      "\n",
      "\n",
      "iteration 2200 dt is 0.001, t=2.1999999999998687 speed is 0.5000000000000001, dx/dt=15.0\n",
      "\n",
      "\n",
      "iteration 2300 dt is 0.001, t=2.2999999999998577 speed is 0.5000000000000001, dx/dt=15.0\n",
      "\n",
      "\n",
      "iteration 2400 dt is 0.001, t=2.3999999999998467 speed is 0.5000000000000001, dx/dt=15.0\n",
      "\n",
      "\n",
      "iteration 2500 dt is 0.001, t=2.4999999999998357 speed is 0.5000000000000001, dx/dt=15.0\n",
      "\n",
      "\n",
      "iteration 2600 dt is 0.001, t=2.5999999999998247 speed is 0.5000000000000001, dx/dt=15.0\n",
      "\n",
      "\n",
      "iteration 2700 dt is 0.001, t=2.6999999999998137 speed is 0.5000000000000001, dx/dt=15.0\n",
      "\n",
      "\n",
      "iteration 2800 dt is 0.001, t=2.7999999999998026 speed is 0.5000000000000001, dx/dt=15.0\n",
      "\n",
      "\n",
      "iteration 2900 dt is 0.001, t=2.8999999999997916 speed is 0.5000000000000001, dx/dt=15.0\n",
      "\n",
      "\n",
      "iteration 3000 dt is 0.001, t=2.9999999999997806 speed is 0.5000000000000001, dx/dt=15.0\n"
     ]
    }
   ],
   "source": [
    "finaltime=3\n",
    "evol_stats, T_interp = timeevolution(state_array,finaltime,run);\n",
    "#CSV.write(dir*\"/timearray$res.csv\", Tables.table(T_interp), writeheader=false);\n",
    "#CSV.write(dir*\"/parameters.csv\", Tables.table(evol_stats), writeheader=false);"
   ]
  },
  {
   "cell_type": "code",
   "execution_count": null,
   "id": "ef57be5a",
   "metadata": {},
   "outputs": [],
   "source": []
  },
  {
   "cell_type": "code",
   "execution_count": null,
   "id": "fa24f38b",
   "metadata": {},
   "outputs": [],
   "source": []
  }
 ],
 "metadata": {
  "@webio": {
   "lastCommId": null,
   "lastKernelId": null
  },
  "kernelspec": {
   "display_name": "Julia 1.8.0",
   "language": "julia",
   "name": "julia-1.8"
  },
  "language_info": {
   "file_extension": ".jl",
   "mimetype": "application/julia",
   "name": "julia",
   "version": "1.8.0"
  },
  "papermill": {
   "default_parameters": {},
   "duration": 7025.507115,
   "end_time": "2023-03-28T20:03:06.430756",
   "environment_variables": {},
   "exception": null,
   "input_path": "Evolution_ScalarField.ipynb",
   "output_path": "Evolution_ScalarField.ipynb",
   "parameters": {
    "A": 0.001,
    "m": 3
   },
   "start_time": "2023-03-28T18:06:00.923641",
   "version": "2.4.0"
  }
 },
 "nbformat": 4,
 "nbformat_minor": 5
}
