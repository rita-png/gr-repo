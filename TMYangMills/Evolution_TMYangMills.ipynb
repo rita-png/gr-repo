{
 "cells": [
  {
   "cell_type": "markdown",
   "id": "d88601a8",
   "metadata": {
    "papermill": {
     "duration": 0.010813,
     "end_time": "2023-03-28T18:06:09.878411",
     "exception": false,
     "start_time": "2023-03-28T18:06:09.867598",
     "status": "completed"
    },
    "tags": []
   },
   "source": [
    "# Evolution of Einstein's equations"
   ]
  },
  {
   "cell_type": "markdown",
   "id": "03c607c7",
   "metadata": {
    "papermill": {
     "duration": 0.006777,
     "end_time": "2023-03-28T18:06:09.893152",
     "exception": false,
     "start_time": "2023-03-28T18:06:09.886375",
     "status": "completed"
    },
    "tags": []
   },
   "source": [
    "# Initial data , setting length of the domain and discretization\n"
   ]
  },
  {
   "cell_type": "markdown",
   "id": "43aebde7",
   "metadata": {
    "execution": {
     "iopub.execute_input": "2023-03-28T19:06:10.907000Z",
     "iopub.status.busy": "2023-03-28T19:06:09.907000Z",
     "iopub.status.idle": "2023-03-28T19:06:12.147000Z",
     "shell.execute_reply": "2023-03-28T19:06:12.110000Z"
    },
    "papermill": {
     "duration": 2.251282,
     "end_time": "2023-03-28T18:06:12.151193",
     "exception": false,
     "start_time": "2023-03-28T18:06:09.899911",
     "status": "completed"
    },
    "tags": [
     "injected-parameters"
    ]
   },
   "source": [
    "# Parameters"
   ]
  },
  {
   "cell_type": "code",
   "execution_count": 288,
   "id": "a28c43b6",
   "metadata": {},
   "outputs": [
    {
     "data": {
      "text/plain": [
       "1"
      ]
     },
     "execution_count": 288,
     "metadata": {},
     "output_type": "execute_result"
    }
   ],
   "source": [
    "m=1\n",
    "p = 0.1#0.4\n",
    "q = 1#1.0#0.1#0.1#0.01#0.9#0.01#0.5 #Pure SF is q=0\n",
    "run = 1"
   ]
  },
  {
   "cell_type": "markdown",
   "id": "b3b8c463",
   "metadata": {},
   "source": [
    "Choose your grid"
   ]
  },
  {
   "cell_type": "code",
   "execution_count": 289,
   "id": "809ea402",
   "metadata": {},
   "outputs": [
    {
     "data": {
      "text/plain": [
       "false"
      ]
     },
     "execution_count": 289,
     "metadata": {},
     "output_type": "execute_result"
    }
   ],
   "source": [
    "global compactified=false\n",
    "global loggrid=false\n",
    "global bisection=false\n",
    "global zeroformat=false\n",
    "global twod=true\n",
    "\n",
    "global source=false"
   ]
  },
  {
   "cell_type": "code",
   "execution_count": 290,
   "id": "73b14643",
   "metadata": {},
   "outputs": [
    {
     "data": {
      "text/plain": [
       "compactify (generic function with 1 method)"
      ]
     },
     "execution_count": 290,
     "metadata": {},
     "output_type": "execute_result"
    }
   ],
   "source": [
    "function compactify(r)\n",
    "    x=r/(1+r)\n",
    "    return x\n",
    "end"
   ]
  },
  {
   "cell_type": "code",
   "execution_count": 291,
   "id": "80a113e0",
   "metadata": {},
   "outputs": [],
   "source": [
    "using Quadmath, Printf\n",
    "\n",
    "res=m;\n",
    "N=2.0^m*200.0/2.0\n",
    "\n",
    "if compactified==true\n",
    "    Xf=1.0\n",
    "else\n",
    "    Xf=2.0\n",
    "end\n",
    "\n",
    "dx=Xf/N\n",
    "if loggrid==false\n",
    "    dt=0.5*round(dx,digits=10)\n",
    "else\n",
    "    dt=0.1*round(dx,digits=10)\n",
    "end\n",
    "Nt=N\n",
    "Tf=Nt*dt;"
   ]
  },
  {
   "cell_type": "code",
   "execution_count": 292,
   "id": "4f752d54",
   "metadata": {
    "execution": {
     "iopub.execute_input": "2023-03-28T19:06:12.356000Z",
     "iopub.status.busy": "2023-03-28T19:06:12.356000Z",
     "iopub.status.idle": "2023-03-28T19:06:12.364000Z",
     "shell.execute_reply": "2023-03-28T19:06:12.364000Z"
    },
    "papermill": {
     "duration": 0.020815,
     "end_time": "2023-03-28T18:06:12.368761",
     "exception": false,
     "start_time": "2023-03-28T18:06:12.347946",
     "status": "completed"
    },
    "tags": []
   },
   "outputs": [
    {
     "name": "stdout",
     "output_type": "stream",
     "text": [
      "200.0"
     ]
    }
   ],
   "source": [
    "print(N)"
   ]
  },
  {
   "cell_type": "code",
   "execution_count": 293,
   "id": "78fb78a5",
   "metadata": {
    "execution": {
     "iopub.execute_input": "2023-03-28T19:06:12.419000Z",
     "iopub.status.busy": "2023-03-28T19:06:12.419000Z",
     "iopub.status.idle": "2023-03-28T19:06:13.308000Z",
     "shell.execute_reply": "2023-03-28T19:06:13.308000Z"
    },
    "papermill": {
     "duration": 0.90283,
     "end_time": "2023-03-28T18:06:13.314381",
     "exception": false,
     "start_time": "2023-03-28T18:06:12.411551",
     "status": "completed"
    },
    "tags": []
   },
   "outputs": [
    {
     "data": {
      "text/plain": [
       "\"/home/rita13santos/Desktop/MSc Thesis/Git/TMYangMills/DATA\""
      ]
     },
     "execution_count": 293,
     "metadata": {},
     "output_type": "execute_result"
    }
   ],
   "source": [
    "global dir = \"/home/rita13santos/Desktop/MSc Thesis/Git/TMYangMills/DATA\""
   ]
  },
  {
   "cell_type": "markdown",
   "id": "e2dd4335",
   "metadata": {
    "papermill": {
     "duration": 0.007006,
     "end_time": "2023-03-28T18:06:13.351329",
     "exception": false,
     "start_time": "2023-03-28T18:06:13.344323",
     "status": "completed"
    },
    "tags": []
   },
   "source": [
    "# Grid"
   ]
  },
  {
   "cell_type": "code",
   "execution_count": 333,
   "id": "bc5288f8",
   "metadata": {
    "execution": {
     "iopub.execute_input": "2023-03-28T19:06:13.636000Z",
     "iopub.status.busy": "2023-03-28T19:06:13.636000Z",
     "iopub.status.idle": "2023-03-28T19:06:14.762000Z",
     "shell.execute_reply": "2023-03-28T19:06:14.762000Z"
    },
    "papermill": {
     "duration": 1.137394,
     "end_time": "2023-03-28T18:06:14.765909",
     "exception": false,
     "start_time": "2023-03-28T18:06:13.628515",
     "status": "completed"
    },
    "tags": []
   },
   "outputs": [],
   "source": [
    "using Printf\n",
    "include(\"./TMYangMills.jl\");"
   ]
  },
  {
   "cell_type": "code",
   "execution_count": 334,
   "id": "de24fea3",
   "metadata": {
    "execution": {
     "iopub.execute_input": "2023-03-28T19:06:13.366000Z",
     "iopub.status.busy": "2023-03-28T19:06:13.366000Z",
     "iopub.status.idle": "2023-03-28T19:06:13.571000Z",
     "shell.execute_reply": "2023-03-28T19:06:13.571000Z"
    },
    "papermill": {
     "duration": 0.216104,
     "end_time": "2023-03-28T18:06:13.574666",
     "exception": false,
     "start_time": "2023-03-28T18:06:13.358562",
     "status": "completed"
    },
    "tags": []
   },
   "outputs": [
    {
     "name": "stdout",
     "output_type": "stream",
     "text": [
      "step size is  0.01\n",
      "the time step is 0.001\n"
     ]
    }
   ],
   "source": [
    "ori=0.0#Float128(0.0)#0.0;\n",
    "initX1 = nothing\n",
    "N=int(N)\n",
    "initX1=range(ori, stop=Xf, step=dx);\n",
    "initX = range(round(ori-3.0*dx,digits=10), stop=Xf+3.0*dx, step=dx)\n",
    "\n",
    "L=length(initX);\n",
    "println(\"step size is  \", dx)\n",
    "println(\"the time step is \", dt)\n",
    "\n",
    "if loggrid==true\n",
    "    global originalX=initX\n",
    "    xtilde=gridfunc(initX1)\n",
    "    initX1=xtilde\n",
    "    initX=collect(initX)\n",
    "    initX[4:L-3]=xtilde\n",
    "end;"
   ]
  },
  {
   "cell_type": "markdown",
   "id": "80ab1480",
   "metadata": {
    "papermill": {
     "duration": 0.007525,
     "end_time": "2023-03-28T18:06:14.783937",
     "exception": false,
     "start_time": "2023-03-28T18:06:14.776412",
     "status": "completed"
    },
    "tags": []
   },
   "source": [
    "# Initial data of m β Ψ and Ψ,x"
   ]
  },
  {
   "cell_type": "code",
   "execution_count": 335,
   "id": "d0af654c",
   "metadata": {
    "execution": {
     "iopub.execute_input": "2023-03-28T19:06:14.799000Z",
     "iopub.status.busy": "2023-03-28T19:06:14.799000Z",
     "iopub.status.idle": "2023-03-28T19:06:22.269000Z",
     "shell.execute_reply": "2023-03-28T19:06:22.269000Z"
    },
    "papermill": {
     "duration": 7.48258,
     "end_time": "2023-03-28T18:06:22.273970",
     "exception": false,
     "start_time": "2023-03-28T18:06:14.791390",
     "status": "completed"
    },
    "tags": []
   },
   "outputs": [],
   "source": [
    "using Dierckx\n",
    "\n",
    "\n",
    "####\n",
    "\n",
    "initm=zeros(L)\n",
    "initbeta=zeros(L)\n",
    "initpsi=zeros(L)\n",
    "initpi=zeros(L)\n",
    "initderxchi=zeros(L)\n",
    "initderpsi=zeros(L)\n",
    "initxchi=zeros(L)\n",
    "\n",
    "#state array is m beta psi xchi,u xchi,rORx psi,r xchi r\n",
    "state_array=[initm initbeta initpsi initpi initderxchi initderpsi initxchi initX];\n",
    "#attention:  in noncompactified code derxchi is (xchi),r. in compactified code derxchi is (xchi),x\n",
    "\n",
    "\n",
    "#PSI,R\n",
    "A=0.075*p*(1−q)\n",
    "r0=0.75\n",
    "sigma=0.25\n",
    "\n",
    "initderpsi[4:L-3] = init_derpsi(initX1,r0,sigma,A)\n",
    "\n",
    "state_array[:,6] = initderpsi\n",
    "state_array=ghost(state_array)\n",
    "\n",
    "#XCHI\n",
    "A=0.25*p*q\n",
    "r0=0.3\n",
    "sigma=0.1\n",
    "\n",
    "initxchi[4:L-3] = init_xchi(initX1,r0,sigma,A)\n",
    "\n",
    "state_array[:,7] = initxchi\n",
    "\n",
    "####\n",
    "#PSI FROM PSI,R, CHI,R FROM CHI\n",
    "state_array[:,7]=parity(state_array[:,7])\n",
    "state_array[4:L-3,5]=Der_array(state_array,7,initX)[4:L-3]#derivative(xchi_func, initX1; nu=1)#Der_array(state_array,7,initX)[4:L-3]\n",
    "state_array[L-3,5]=state_array[L-4,5]\n",
    "\n",
    "state_array[:,5]=secondparity(state_array[:,5])\n",
    "aux=Der_array(state_array,5,initX)\n",
    "aux[4]=0\n",
    "aux[L-3]=aux[L-4]\n",
    "\n",
    "# update interpolation of psi,x\n",
    "derxchi_func = Spline1D(initX[4:L-3], state_array[4:L-3,5],  k=4);\n",
    "derpsi_func = Spline1D(initX[4:L-3], state_array[4:L-3,6],  k=4);\n",
    "xchi_func = Spline1D(initX[4:L-3], state_array[4:L-3,7],  k=4);\n",
    "derrxchi_func = Spline1D(initX[4:L-3], aux[4:L-3], k=4);\n",
    "\n",
    "funcs=[derxchi_func derpsi_func xchi_func derrxchi_func];"
   ]
  },
  {
   "cell_type": "code",
   "execution_count": null,
   "id": "2097da7b",
   "metadata": {},
   "outputs": [],
   "source": []
  },
  {
   "cell_type": "code",
   "execution_count": 336,
   "id": "78cfbd6e",
   "metadata": {},
   "outputs": [
    {
     "data": {
      "text/plain": [
       "201×4 Matrix{Float64}:\n",
       " 0.0  0.0  0.0   0.0\n",
       " 0.0  0.0  0.0   1.55067e-6\n",
       " 0.0  0.0  0.0   6.67124e-6\n",
       " 0.0  0.0  0.0   1.68286e-5\n",
       " 0.0  0.0  0.0   3.46274e-5\n",
       " 0.0  0.0  0.0   6.39673e-5\n",
       " 0.0  0.0  0.0   0.000110208\n",
       " 0.0  0.0  0.0   0.000180319\n",
       " 0.0  0.0  0.0   0.000282971\n",
       " 0.0  0.0  0.0   0.000428492\n",
       " 0.0  0.0  0.0   0.000628672\n",
       " 0.0  0.0  0.0   0.000896365\n",
       " 0.0  0.0  0.0   0.0012449\n",
       " ⋮              \n",
       " 0.0  0.0  0.0  -3.50284e-6\n",
       " 0.0  0.0  0.0  -3.48257e-6\n",
       " 0.0  0.0  0.0  -3.46404e-6\n",
       " 0.0  0.0  0.0  -3.44708e-6\n",
       " 0.0  0.0  0.0  -3.43156e-6\n",
       " 0.0  0.0  0.0  -3.41736e-6\n",
       " 0.0  0.0  0.0  -3.40436e-6\n",
       " 0.0  0.0  0.0  -3.39664e-6\n",
       " 0.0  0.0  0.0  -3.3396e-6\n",
       " 0.0  0.0  0.0  -3.39635e-6\n",
       " 0.0  0.0  0.0  -3.72372e-6\n",
       " 0.0  0.0  0.0  -4.15387e-6"
      ]
     },
     "execution_count": 336,
     "metadata": {},
     "output_type": "execute_result"
    }
   ],
   "source": [
    "y0=[0.0 0.0 0.0 0.0]\n",
    "\n",
    "if twod==true\n",
    "        state_array[4:L-3,1:4] = twod_n_rk4wrapper(RHS,y0,initX[4:L-3],0,funcs,state_array[:,:]);\n",
    "    else\n",
    "        state_array[4:L-3,1:4] = n_rk4wrapper(RHS,y0,initX[4:L-3],0,funcs,state_array[:,:]);\n",
    "end\n",
    "\n",
    "#state_array = ghost(state_array);"
   ]
  },
  {
   "cell_type": "code",
   "execution_count": 337,
   "id": "14e14e45",
   "metadata": {},
   "outputs": [
    {
     "data": {
      "image/svg+xml": [
       "<?xml version=\"1.0\" encoding=\"utf-8\"?>\n",
       "<svg xmlns=\"http://www.w3.org/2000/svg\" xmlns:xlink=\"http://www.w3.org/1999/xlink\" width=\"600\" height=\"400\" viewBox=\"0 0 2400 1600\">\n",
       "<defs>\n",
       "  <clipPath id=\"clip380\">\n",
       "    <rect x=\"0\" y=\"0\" width=\"2400\" height=\"1600\"/>\n",
       "  </clipPath>\n",
       "</defs>\n",
       "<path clip-path=\"url(#clip380)\" d=\"M0 1600 L2400 1600 L2400 0 L0 0  Z\" fill=\"#ffffff\" fill-rule=\"evenodd\" fill-opacity=\"1\"/>\n",
       "<defs>\n",
       "  <clipPath id=\"clip381\">\n",
       "    <rect x=\"480\" y=\"0\" width=\"1681\" height=\"1600\"/>\n",
       "  </clipPath>\n",
       "</defs>\n",
       "<path clip-path=\"url(#clip380)\" d=\"M222.871 1423.18 L2352.76 1423.18 L2352.76 123.472 L222.871 123.472  Z\" fill=\"#ffffff\" fill-rule=\"evenodd\" fill-opacity=\"1\"/>\n",
       "<defs>\n",
       "  <clipPath id=\"clip382\">\n",
       "    <rect x=\"222\" y=\"123\" width=\"2131\" height=\"1301\"/>\n",
       "  </clipPath>\n",
       "</defs>\n",
       "<polyline clip-path=\"url(#clip382)\" style=\"stroke:#000000; stroke-linecap:round; stroke-linejoin:round; stroke-width:2; stroke-opacity:0.1; fill:none\" points=\"222.871,1423.18 222.871,123.472 \"/>\n",
       "<polyline clip-path=\"url(#clip382)\" style=\"stroke:#000000; stroke-linecap:round; stroke-linejoin:round; stroke-width:2; stroke-opacity:0.1; fill:none\" points=\"648.848,1423.18 648.848,123.472 \"/>\n",
       "<polyline clip-path=\"url(#clip382)\" style=\"stroke:#000000; stroke-linecap:round; stroke-linejoin:round; stroke-width:2; stroke-opacity:0.1; fill:none\" points=\"1074.82,1423.18 1074.82,123.472 \"/>\n",
       "<polyline clip-path=\"url(#clip382)\" style=\"stroke:#000000; stroke-linecap:round; stroke-linejoin:round; stroke-width:2; stroke-opacity:0.1; fill:none\" points=\"1500.8,1423.18 1500.8,123.472 \"/>\n",
       "<polyline clip-path=\"url(#clip382)\" style=\"stroke:#000000; stroke-linecap:round; stroke-linejoin:round; stroke-width:2; stroke-opacity:0.1; fill:none\" points=\"1926.78,1423.18 1926.78,123.472 \"/>\n",
       "<polyline clip-path=\"url(#clip382)\" style=\"stroke:#000000; stroke-linecap:round; stroke-linejoin:round; stroke-width:2; stroke-opacity:0.1; fill:none\" points=\"2352.76,1423.18 2352.76,123.472 \"/>\n",
       "<polyline clip-path=\"url(#clip380)\" style=\"stroke:#000000; stroke-linecap:round; stroke-linejoin:round; stroke-width:4; stroke-opacity:1; fill:none\" points=\"222.871,1423.18 2352.76,1423.18 \"/>\n",
       "<polyline clip-path=\"url(#clip380)\" style=\"stroke:#000000; stroke-linecap:round; stroke-linejoin:round; stroke-width:4; stroke-opacity:1; fill:none\" points=\"222.871,1423.18 222.871,1404.28 \"/>\n",
       "<polyline clip-path=\"url(#clip380)\" style=\"stroke:#000000; stroke-linecap:round; stroke-linejoin:round; stroke-width:4; stroke-opacity:1; fill:none\" points=\"648.848,1423.18 648.848,1404.28 \"/>\n",
       "<polyline clip-path=\"url(#clip380)\" style=\"stroke:#000000; stroke-linecap:round; stroke-linejoin:round; stroke-width:4; stroke-opacity:1; fill:none\" points=\"1074.82,1423.18 1074.82,1404.28 \"/>\n",
       "<polyline clip-path=\"url(#clip380)\" style=\"stroke:#000000; stroke-linecap:round; stroke-linejoin:round; stroke-width:4; stroke-opacity:1; fill:none\" points=\"1500.8,1423.18 1500.8,1404.28 \"/>\n",
       "<polyline clip-path=\"url(#clip380)\" style=\"stroke:#000000; stroke-linecap:round; stroke-linejoin:round; stroke-width:4; stroke-opacity:1; fill:none\" points=\"1926.78,1423.18 1926.78,1404.28 \"/>\n",
       "<polyline clip-path=\"url(#clip380)\" style=\"stroke:#000000; stroke-linecap:round; stroke-linejoin:round; stroke-width:4; stroke-opacity:1; fill:none\" points=\"2352.76,1423.18 2352.76,1404.28 \"/>\n",
       "<path clip-path=\"url(#clip380)\" d=\"M200.255 1454.1 Q196.644 1454.1 194.816 1457.66 Q193.01 1461.2 193.01 1468.33 Q193.01 1475.44 194.816 1479.01 Q196.644 1482.55 200.255 1482.55 Q203.89 1482.55 205.695 1479.01 Q207.524 1475.44 207.524 1468.33 Q207.524 1461.2 205.695 1457.66 Q203.89 1454.1 200.255 1454.1 M200.255 1450.39 Q206.066 1450.39 209.121 1455 Q212.2 1459.58 212.2 1468.33 Q212.2 1477.06 209.121 1481.67 Q206.066 1486.25 200.255 1486.25 Q194.445 1486.25 191.367 1481.67 Q188.311 1477.06 188.311 1468.33 Q188.311 1459.58 191.367 1455 Q194.445 1450.39 200.255 1450.39 Z\" fill=\"#000000\" fill-rule=\"evenodd\" fill-opacity=\"1\" /><path clip-path=\"url(#clip380)\" d=\"M220.417 1479.7 L225.302 1479.7 L225.302 1485.58 L220.417 1485.58 L220.417 1479.7 Z\" fill=\"#000000\" fill-rule=\"evenodd\" fill-opacity=\"1\" /><path clip-path=\"url(#clip380)\" d=\"M245.487 1454.1 Q241.876 1454.1 240.047 1457.66 Q238.241 1461.2 238.241 1468.33 Q238.241 1475.44 240.047 1479.01 Q241.876 1482.55 245.487 1482.55 Q249.121 1482.55 250.926 1479.01 Q252.755 1475.44 252.755 1468.33 Q252.755 1461.2 250.926 1457.66 Q249.121 1454.1 245.487 1454.1 M245.487 1450.39 Q251.297 1450.39 254.352 1455 Q257.431 1459.58 257.431 1468.33 Q257.431 1477.06 254.352 1481.67 Q251.297 1486.25 245.487 1486.25 Q239.676 1486.25 236.598 1481.67 Q233.542 1477.06 233.542 1468.33 Q233.542 1459.58 236.598 1455 Q239.676 1450.39 245.487 1450.39 Z\" fill=\"#000000\" fill-rule=\"evenodd\" fill-opacity=\"1\" /><path clip-path=\"url(#clip380)\" d=\"M627.031 1454.1 Q623.42 1454.1 621.591 1457.66 Q619.786 1461.2 619.786 1468.33 Q619.786 1475.44 621.591 1479.01 Q623.42 1482.55 627.031 1482.55 Q630.665 1482.55 632.471 1479.01 Q634.299 1475.44 634.299 1468.33 Q634.299 1461.2 632.471 1457.66 Q630.665 1454.1 627.031 1454.1 M627.031 1450.39 Q632.841 1450.39 635.897 1455 Q638.975 1459.58 638.975 1468.33 Q638.975 1477.06 635.897 1481.67 Q632.841 1486.25 627.031 1486.25 Q621.221 1486.25 618.142 1481.67 Q615.087 1477.06 615.087 1468.33 Q615.087 1459.58 618.142 1455 Q621.221 1450.39 627.031 1450.39 Z\" fill=\"#000000\" fill-rule=\"evenodd\" fill-opacity=\"1\" /><path clip-path=\"url(#clip380)\" d=\"M647.193 1479.7 L652.077 1479.7 L652.077 1485.58 L647.193 1485.58 L647.193 1479.7 Z\" fill=\"#000000\" fill-rule=\"evenodd\" fill-opacity=\"1\" /><path clip-path=\"url(#clip380)\" d=\"M666.29 1481.64 L682.609 1481.64 L682.609 1485.58 L660.665 1485.58 L660.665 1481.64 Q663.327 1478.89 667.91 1474.26 Q672.517 1469.61 673.697 1468.27 Q675.943 1465.74 676.822 1464.01 Q677.725 1462.25 677.725 1460.56 Q677.725 1457.8 675.781 1456.07 Q673.859 1454.33 670.758 1454.33 Q668.559 1454.33 666.105 1455.09 Q663.674 1455.86 660.897 1457.41 L660.897 1452.69 Q663.721 1451.55 666.174 1450.97 Q668.628 1450.39 670.665 1450.39 Q676.035 1450.39 679.23 1453.08 Q682.424 1455.77 682.424 1460.26 Q682.424 1462.39 681.614 1464.31 Q680.827 1466.2 678.721 1468.8 Q678.142 1469.47 675.04 1472.69 Q671.938 1475.88 666.29 1481.64 Z\" fill=\"#000000\" fill-rule=\"evenodd\" fill-opacity=\"1\" /><path clip-path=\"url(#clip380)\" d=\"M1051.97 1454.1 Q1048.36 1454.1 1046.53 1457.66 Q1044.72 1461.2 1044.72 1468.33 Q1044.72 1475.44 1046.53 1479.01 Q1048.36 1482.55 1051.97 1482.55 Q1055.6 1482.55 1057.41 1479.01 Q1059.23 1475.44 1059.23 1468.33 Q1059.23 1461.2 1057.41 1457.66 Q1055.6 1454.1 1051.97 1454.1 M1051.97 1450.39 Q1057.78 1450.39 1060.83 1455 Q1063.91 1459.58 1063.91 1468.33 Q1063.91 1477.06 1060.83 1481.67 Q1057.78 1486.25 1051.97 1486.25 Q1046.16 1486.25 1043.08 1481.67 Q1040.02 1477.06 1040.02 1468.33 Q1040.02 1459.58 1043.08 1455 Q1046.16 1450.39 1051.97 1450.39 Z\" fill=\"#000000\" fill-rule=\"evenodd\" fill-opacity=\"1\" /><path clip-path=\"url(#clip380)\" d=\"M1072.13 1479.7 L1077.01 1479.7 L1077.01 1485.58 L1072.13 1485.58 L1072.13 1479.7 Z\" fill=\"#000000\" fill-rule=\"evenodd\" fill-opacity=\"1\" /><path clip-path=\"url(#clip380)\" d=\"M1100.04 1455.09 L1088.24 1473.54 L1100.04 1473.54 L1100.04 1455.09 M1098.82 1451.02 L1104.7 1451.02 L1104.7 1473.54 L1109.63 1473.54 L1109.63 1477.43 L1104.7 1477.43 L1104.7 1485.58 L1100.04 1485.58 L1100.04 1477.43 L1084.44 1477.43 L1084.44 1472.92 L1098.82 1451.02 Z\" fill=\"#000000\" fill-rule=\"evenodd\" fill-opacity=\"1\" /><path clip-path=\"url(#clip380)\" d=\"M1478.11 1454.1 Q1474.49 1454.1 1472.67 1457.66 Q1470.86 1461.2 1470.86 1468.33 Q1470.86 1475.44 1472.67 1479.01 Q1474.49 1482.55 1478.11 1482.55 Q1481.74 1482.55 1483.55 1479.01 Q1485.37 1475.44 1485.37 1468.33 Q1485.37 1461.2 1483.55 1457.66 Q1481.74 1454.1 1478.11 1454.1 M1478.11 1450.39 Q1483.92 1450.39 1486.97 1455 Q1490.05 1459.58 1490.05 1468.33 Q1490.05 1477.06 1486.97 1481.67 Q1483.92 1486.25 1478.11 1486.25 Q1472.3 1486.25 1469.22 1481.67 Q1466.16 1477.06 1466.16 1468.33 Q1466.16 1459.58 1469.22 1455 Q1472.3 1450.39 1478.11 1450.39 Z\" fill=\"#000000\" fill-rule=\"evenodd\" fill-opacity=\"1\" /><path clip-path=\"url(#clip380)\" d=\"M1498.27 1479.7 L1503.15 1479.7 L1503.15 1485.58 L1498.27 1485.58 L1498.27 1479.7 Z\" fill=\"#000000\" fill-rule=\"evenodd\" fill-opacity=\"1\" /><path clip-path=\"url(#clip380)\" d=\"M1523.92 1466.44 Q1520.77 1466.44 1518.92 1468.59 Q1517.09 1470.74 1517.09 1474.49 Q1517.09 1478.22 1518.92 1480.39 Q1520.77 1482.55 1523.92 1482.55 Q1527.06 1482.55 1528.89 1480.39 Q1530.74 1478.22 1530.74 1474.49 Q1530.74 1470.74 1528.89 1468.59 Q1527.06 1466.44 1523.92 1466.44 M1533.2 1451.78 L1533.2 1456.04 Q1531.44 1455.21 1529.63 1454.77 Q1527.85 1454.33 1526.09 1454.33 Q1521.46 1454.33 1519.01 1457.45 Q1516.58 1460.58 1516.23 1466.9 Q1517.6 1464.89 1519.66 1463.82 Q1521.72 1462.73 1524.19 1462.73 Q1529.4 1462.73 1532.41 1465.9 Q1535.44 1469.05 1535.44 1474.49 Q1535.44 1479.82 1532.29 1483.03 Q1529.15 1486.25 1523.92 1486.25 Q1517.92 1486.25 1514.75 1481.67 Q1511.58 1477.06 1511.58 1468.33 Q1511.58 1460.14 1515.47 1455.28 Q1519.36 1450.39 1525.91 1450.39 Q1527.67 1450.39 1529.45 1450.74 Q1531.25 1451.09 1533.2 1451.78 Z\" fill=\"#000000\" fill-rule=\"evenodd\" fill-opacity=\"1\" /><path clip-path=\"url(#clip380)\" d=\"M1904.21 1454.1 Q1900.6 1454.1 1898.77 1457.66 Q1896.96 1461.2 1896.96 1468.33 Q1896.96 1475.44 1898.77 1479.01 Q1900.6 1482.55 1904.21 1482.55 Q1907.84 1482.55 1909.65 1479.01 Q1911.48 1475.44 1911.48 1468.33 Q1911.48 1461.2 1909.65 1457.66 Q1907.84 1454.1 1904.21 1454.1 M1904.21 1450.39 Q1910.02 1450.39 1913.08 1455 Q1916.15 1459.58 1916.15 1468.33 Q1916.15 1477.06 1913.08 1481.67 Q1910.02 1486.25 1904.21 1486.25 Q1898.4 1486.25 1895.32 1481.67 Q1892.27 1477.06 1892.27 1468.33 Q1892.27 1459.58 1895.32 1455 Q1898.4 1450.39 1904.21 1450.39 Z\" fill=\"#000000\" fill-rule=\"evenodd\" fill-opacity=\"1\" /><path clip-path=\"url(#clip380)\" d=\"M1924.37 1479.7 L1929.26 1479.7 L1929.26 1485.58 L1924.37 1485.58 L1924.37 1479.7 Z\" fill=\"#000000\" fill-rule=\"evenodd\" fill-opacity=\"1\" /><path clip-path=\"url(#clip380)\" d=\"M1949.44 1469.17 Q1946.11 1469.17 1944.19 1470.95 Q1942.29 1472.73 1942.29 1475.86 Q1942.29 1478.98 1944.19 1480.77 Q1946.11 1482.55 1949.44 1482.55 Q1952.77 1482.55 1954.7 1480.77 Q1956.62 1478.96 1956.62 1475.86 Q1956.62 1472.73 1954.7 1470.95 Q1952.8 1469.17 1949.44 1469.17 M1944.76 1467.18 Q1941.76 1466.44 1940.07 1464.38 Q1938.4 1462.32 1938.4 1459.35 Q1938.4 1455.21 1941.34 1452.8 Q1944.3 1450.39 1949.44 1450.39 Q1954.6 1450.39 1957.54 1452.8 Q1960.48 1455.21 1960.48 1459.35 Q1960.48 1462.32 1958.79 1464.38 Q1957.13 1466.44 1954.14 1467.18 Q1957.52 1467.96 1959.39 1470.26 Q1961.29 1472.55 1961.29 1475.86 Q1961.29 1480.88 1958.21 1483.57 Q1955.16 1486.25 1949.44 1486.25 Q1943.72 1486.25 1940.64 1483.57 Q1937.59 1480.88 1937.59 1475.86 Q1937.59 1472.55 1939.49 1470.26 Q1941.39 1467.96 1944.76 1467.18 M1943.05 1459.79 Q1943.05 1462.48 1944.72 1463.98 Q1946.41 1465.49 1949.44 1465.49 Q1952.45 1465.49 1954.14 1463.98 Q1955.85 1462.48 1955.85 1459.79 Q1955.85 1457.11 1954.14 1455.6 Q1952.45 1454.1 1949.44 1454.1 Q1946.41 1454.1 1944.72 1455.6 Q1943.05 1457.11 1943.05 1459.79 Z\" fill=\"#000000\" fill-rule=\"evenodd\" fill-opacity=\"1\" /><path clip-path=\"url(#clip380)\" d=\"M2319.91 1481.64 L2327.55 1481.64 L2327.55 1455.28 L2319.24 1456.95 L2319.24 1452.69 L2327.5 1451.02 L2332.18 1451.02 L2332.18 1481.64 L2339.82 1481.64 L2339.82 1485.58 L2319.91 1485.58 L2319.91 1481.64 Z\" fill=\"#000000\" fill-rule=\"evenodd\" fill-opacity=\"1\" /><path clip-path=\"url(#clip380)\" d=\"M2349.26 1479.7 L2354.14 1479.7 L2354.14 1485.58 L2349.26 1485.58 L2349.26 1479.7 Z\" fill=\"#000000\" fill-rule=\"evenodd\" fill-opacity=\"1\" /><path clip-path=\"url(#clip380)\" d=\"M2374.33 1454.1 Q2370.72 1454.1 2368.89 1457.66 Q2367.08 1461.2 2367.08 1468.33 Q2367.08 1475.44 2368.89 1479.01 Q2370.72 1482.55 2374.33 1482.55 Q2377.96 1482.55 2379.77 1479.01 Q2381.6 1475.44 2381.6 1468.33 Q2381.6 1461.2 2379.77 1457.66 Q2377.96 1454.1 2374.33 1454.1 M2374.33 1450.39 Q2380.14 1450.39 2383.2 1455 Q2386.27 1459.58 2386.27 1468.33 Q2386.27 1477.06 2383.2 1481.67 Q2380.14 1486.25 2374.33 1486.25 Q2368.52 1486.25 2365.44 1481.67 Q2362.39 1477.06 2362.39 1468.33 Q2362.39 1459.58 2365.44 1455 Q2368.52 1450.39 2374.33 1450.39 Z\" fill=\"#000000\" fill-rule=\"evenodd\" fill-opacity=\"1\" /><path clip-path=\"url(#clip380)\" d=\"M1298.25 1537.87 Q1297.27 1537.3 1296.09 1537.04 Q1294.94 1536.76 1293.54 1536.76 Q1288.58 1536.76 1285.9 1540 Q1283.26 1543.22 1283.26 1549.27 L1283.26 1568.04 L1277.37 1568.04 L1277.37 1532.4 L1283.26 1532.4 L1283.26 1537.93 Q1285.11 1534.69 1288.07 1533.13 Q1291.03 1531.54 1295.26 1531.54 Q1295.87 1531.54 1296.6 1531.63 Q1297.33 1531.7 1298.22 1531.85 L1298.25 1537.87 Z\" fill=\"#000000\" fill-rule=\"evenodd\" fill-opacity=\"1\" /><polyline clip-path=\"url(#clip382)\" style=\"stroke:#000000; stroke-linecap:round; stroke-linejoin:round; stroke-width:2; stroke-opacity:0.1; fill:none\" points=\"222.871,1277.31 2352.76,1277.31 \"/>\n",
       "<polyline clip-path=\"url(#clip382)\" style=\"stroke:#000000; stroke-linecap:round; stroke-linejoin:round; stroke-width:2; stroke-opacity:0.1; fill:none\" points=\"222.871,1088.15 2352.76,1088.15 \"/>\n",
       "<polyline clip-path=\"url(#clip382)\" style=\"stroke:#000000; stroke-linecap:round; stroke-linejoin:round; stroke-width:2; stroke-opacity:0.1; fill:none\" points=\"222.871,898.979 2352.76,898.979 \"/>\n",
       "<polyline clip-path=\"url(#clip382)\" style=\"stroke:#000000; stroke-linecap:round; stroke-linejoin:round; stroke-width:2; stroke-opacity:0.1; fill:none\" points=\"222.871,709.812 2352.76,709.812 \"/>\n",
       "<polyline clip-path=\"url(#clip382)\" style=\"stroke:#000000; stroke-linecap:round; stroke-linejoin:round; stroke-width:2; stroke-opacity:0.1; fill:none\" points=\"222.871,520.645 2352.76,520.645 \"/>\n",
       "<polyline clip-path=\"url(#clip382)\" style=\"stroke:#000000; stroke-linecap:round; stroke-linejoin:round; stroke-width:2; stroke-opacity:0.1; fill:none\" points=\"222.871,331.479 2352.76,331.479 \"/>\n",
       "<polyline clip-path=\"url(#clip382)\" style=\"stroke:#000000; stroke-linecap:round; stroke-linejoin:round; stroke-width:2; stroke-opacity:0.1; fill:none\" points=\"222.871,142.312 2352.76,142.312 \"/>\n",
       "<polyline clip-path=\"url(#clip380)\" style=\"stroke:#000000; stroke-linecap:round; stroke-linejoin:round; stroke-width:4; stroke-opacity:1; fill:none\" points=\"222.871,1423.18 222.871,123.472 \"/>\n",
       "<polyline clip-path=\"url(#clip380)\" style=\"stroke:#000000; stroke-linecap:round; stroke-linejoin:round; stroke-width:4; stroke-opacity:1; fill:none\" points=\"222.871,1277.31 241.769,1277.31 \"/>\n",
       "<polyline clip-path=\"url(#clip380)\" style=\"stroke:#000000; stroke-linecap:round; stroke-linejoin:round; stroke-width:4; stroke-opacity:1; fill:none\" points=\"222.871,1088.15 241.769,1088.15 \"/>\n",
       "<polyline clip-path=\"url(#clip380)\" style=\"stroke:#000000; stroke-linecap:round; stroke-linejoin:round; stroke-width:4; stroke-opacity:1; fill:none\" points=\"222.871,898.979 241.769,898.979 \"/>\n",
       "<polyline clip-path=\"url(#clip380)\" style=\"stroke:#000000; stroke-linecap:round; stroke-linejoin:round; stroke-width:4; stroke-opacity:1; fill:none\" points=\"222.871,709.812 241.769,709.812 \"/>\n",
       "<polyline clip-path=\"url(#clip380)\" style=\"stroke:#000000; stroke-linecap:round; stroke-linejoin:round; stroke-width:4; stroke-opacity:1; fill:none\" points=\"222.871,520.645 241.769,520.645 \"/>\n",
       "<polyline clip-path=\"url(#clip380)\" style=\"stroke:#000000; stroke-linecap:round; stroke-linejoin:round; stroke-width:4; stroke-opacity:1; fill:none\" points=\"222.871,331.479 241.769,331.479 \"/>\n",
       "<polyline clip-path=\"url(#clip380)\" style=\"stroke:#000000; stroke-linecap:round; stroke-linejoin:round; stroke-width:4; stroke-opacity:1; fill:none\" points=\"222.871,142.312 241.769,142.312 \"/>\n",
       "<path clip-path=\"url(#clip380)\" d=\"M51.3625 1277.76 L81.0383 1277.76 L81.0383 1281.7 L51.3625 1281.7 L51.3625 1277.76 Z\" fill=\"#000000\" fill-rule=\"evenodd\" fill-opacity=\"1\" /><path clip-path=\"url(#clip380)\" d=\"M101.131 1263.11 Q97.5197 1263.11 95.691 1266.68 Q93.8854 1270.22 93.8854 1277.35 Q93.8854 1284.45 95.691 1288.02 Q97.5197 1291.56 101.131 1291.56 Q104.765 1291.56 106.571 1288.02 Q108.399 1284.45 108.399 1277.35 Q108.399 1270.22 106.571 1266.68 Q104.765 1263.11 101.131 1263.11 M101.131 1259.41 Q106.941 1259.41 109.996 1264.01 Q113.075 1268.6 113.075 1277.35 Q113.075 1286.07 109.996 1290.68 Q106.941 1295.26 101.131 1295.26 Q95.3206 1295.26 92.2419 1290.68 Q89.1864 1286.07 89.1864 1277.35 Q89.1864 1268.6 92.2419 1264.01 Q95.3206 1259.41 101.131 1259.41 Z\" fill=\"#000000\" fill-rule=\"evenodd\" fill-opacity=\"1\" /><path clip-path=\"url(#clip380)\" d=\"M121.293 1288.71 L126.177 1288.71 L126.177 1294.59 L121.293 1294.59 L121.293 1288.71 Z\" fill=\"#000000\" fill-rule=\"evenodd\" fill-opacity=\"1\" /><path clip-path=\"url(#clip380)\" d=\"M146.362 1263.11 Q142.751 1263.11 140.922 1266.68 Q139.117 1270.22 139.117 1277.35 Q139.117 1284.45 140.922 1288.02 Q142.751 1291.56 146.362 1291.56 Q149.996 1291.56 151.802 1288.02 Q153.63 1284.45 153.63 1277.35 Q153.63 1270.22 151.802 1266.68 Q149.996 1263.11 146.362 1263.11 M146.362 1259.41 Q152.172 1259.41 155.228 1264.01 Q158.306 1268.6 158.306 1277.35 Q158.306 1286.07 155.228 1290.68 Q152.172 1295.26 146.362 1295.26 Q140.552 1295.26 137.473 1290.68 Q134.418 1286.07 134.418 1277.35 Q134.418 1268.6 137.473 1264.01 Q140.552 1259.41 146.362 1259.41 Z\" fill=\"#000000\" fill-rule=\"evenodd\" fill-opacity=\"1\" /><path clip-path=\"url(#clip380)\" d=\"M170.552 1290.66 L186.871 1290.66 L186.871 1294.59 L164.927 1294.59 L164.927 1290.66 Q167.589 1287.9 172.172 1283.27 Q176.778 1278.62 177.959 1277.28 Q180.204 1274.75 181.084 1273.02 Q181.987 1271.26 181.987 1269.57 Q181.987 1266.81 180.042 1265.08 Q178.121 1263.34 175.019 1263.34 Q172.82 1263.34 170.366 1264.11 Q167.936 1264.87 165.158 1266.42 L165.158 1261.7 Q167.982 1260.56 170.436 1259.99 Q172.89 1259.41 174.927 1259.41 Q180.297 1259.41 183.491 1262.09 Q186.686 1264.78 186.686 1269.27 Q186.686 1271.4 185.876 1273.32 Q185.089 1275.22 182.982 1277.81 Q182.403 1278.48 179.302 1281.7 Q176.2 1284.89 170.552 1290.66 Z\" fill=\"#000000\" fill-rule=\"evenodd\" fill-opacity=\"1\" /><path clip-path=\"url(#clip380)\" d=\"M50.9921 1088.6 L80.6679 1088.6 L80.6679 1092.53 L50.9921 1092.53 L50.9921 1088.6 Z\" fill=\"#000000\" fill-rule=\"evenodd\" fill-opacity=\"1\" /><path clip-path=\"url(#clip380)\" d=\"M100.76 1073.94 Q97.1493 1073.94 95.3206 1077.51 Q93.515 1081.05 93.515 1088.18 Q93.515 1095.29 95.3206 1098.85 Q97.1493 1102.39 100.76 1102.39 Q104.395 1102.39 106.2 1098.85 Q108.029 1095.29 108.029 1088.18 Q108.029 1081.05 106.2 1077.51 Q104.395 1073.94 100.76 1073.94 M100.76 1070.24 Q106.571 1070.24 109.626 1074.85 Q112.705 1079.43 112.705 1088.18 Q112.705 1096.91 109.626 1101.51 Q106.571 1106.1 100.76 1106.1 Q94.9502 1106.1 91.8715 1101.51 Q88.816 1096.91 88.816 1088.18 Q88.816 1079.43 91.8715 1074.85 Q94.9502 1070.24 100.76 1070.24 Z\" fill=\"#000000\" fill-rule=\"evenodd\" fill-opacity=\"1\" /><path clip-path=\"url(#clip380)\" d=\"M120.922 1099.55 L125.807 1099.55 L125.807 1105.43 L120.922 1105.43 L120.922 1099.55 Z\" fill=\"#000000\" fill-rule=\"evenodd\" fill-opacity=\"1\" /><path clip-path=\"url(#clip380)\" d=\"M145.992 1073.94 Q142.381 1073.94 140.552 1077.51 Q138.746 1081.05 138.746 1088.18 Q138.746 1095.29 140.552 1098.85 Q142.381 1102.39 145.992 1102.39 Q149.626 1102.39 151.431 1098.85 Q153.26 1095.29 153.26 1088.18 Q153.26 1081.05 151.431 1077.51 Q149.626 1073.94 145.992 1073.94 M145.992 1070.24 Q151.802 1070.24 154.857 1074.85 Q157.936 1079.43 157.936 1088.18 Q157.936 1096.91 154.857 1101.51 Q151.802 1106.1 145.992 1106.1 Q140.181 1106.1 137.103 1101.51 Q134.047 1096.91 134.047 1088.18 Q134.047 1079.43 137.103 1074.85 Q140.181 1070.24 145.992 1070.24 Z\" fill=\"#000000\" fill-rule=\"evenodd\" fill-opacity=\"1\" /><path clip-path=\"url(#clip380)\" d=\"M166.964 1101.49 L174.603 1101.49 L174.603 1075.12 L166.292 1076.79 L166.292 1072.53 L174.556 1070.87 L179.232 1070.87 L179.232 1101.49 L186.871 1101.49 L186.871 1105.43 L166.964 1105.43 L166.964 1101.49 Z\" fill=\"#000000\" fill-rule=\"evenodd\" fill-opacity=\"1\" /><path clip-path=\"url(#clip380)\" d=\"M99.5335 884.777 Q95.9224 884.777 94.0937 888.342 Q92.2882 891.884 92.2882 899.013 Q92.2882 906.12 94.0937 909.685 Q95.9224 913.226 99.5335 913.226 Q103.168 913.226 104.973 909.685 Q106.802 906.12 106.802 899.013 Q106.802 891.884 104.973 888.342 Q103.168 884.777 99.5335 884.777 M99.5335 881.074 Q105.344 881.074 108.399 885.68 Q111.478 890.263 111.478 899.013 Q111.478 907.74 108.399 912.347 Q105.344 916.93 99.5335 916.93 Q93.7234 916.93 90.6447 912.347 Q87.5892 907.74 87.5892 899.013 Q87.5892 890.263 90.6447 885.68 Q93.7234 881.074 99.5335 881.074 Z\" fill=\"#000000\" fill-rule=\"evenodd\" fill-opacity=\"1\" /><path clip-path=\"url(#clip380)\" d=\"M119.695 910.379 L124.58 910.379 L124.58 916.259 L119.695 916.259 L119.695 910.379 Z\" fill=\"#000000\" fill-rule=\"evenodd\" fill-opacity=\"1\" /><path clip-path=\"url(#clip380)\" d=\"M144.765 884.777 Q141.154 884.777 139.325 888.342 Q137.519 891.884 137.519 899.013 Q137.519 906.12 139.325 909.685 Q141.154 913.226 144.765 913.226 Q148.399 913.226 150.205 909.685 Q152.033 906.12 152.033 899.013 Q152.033 891.884 150.205 888.342 Q148.399 884.777 144.765 884.777 M144.765 881.074 Q150.575 881.074 153.63 885.68 Q156.709 890.263 156.709 899.013 Q156.709 907.74 153.63 912.347 Q150.575 916.93 144.765 916.93 Q138.955 916.93 135.876 912.347 Q132.82 907.74 132.82 899.013 Q132.82 890.263 135.876 885.68 Q138.955 881.074 144.765 881.074 Z\" fill=\"#000000\" fill-rule=\"evenodd\" fill-opacity=\"1\" /><path clip-path=\"url(#clip380)\" d=\"M174.927 884.777 Q171.316 884.777 169.487 888.342 Q167.681 891.884 167.681 899.013 Q167.681 906.12 169.487 909.685 Q171.316 913.226 174.927 913.226 Q178.561 913.226 180.366 909.685 Q182.195 906.12 182.195 899.013 Q182.195 891.884 180.366 888.342 Q178.561 884.777 174.927 884.777 M174.927 881.074 Q180.737 881.074 183.792 885.68 Q186.871 890.263 186.871 899.013 Q186.871 907.74 183.792 912.347 Q180.737 916.93 174.927 916.93 Q169.116 916.93 166.038 912.347 Q162.982 907.74 162.982 899.013 Q162.982 890.263 166.038 885.68 Q169.116 881.074 174.927 881.074 Z\" fill=\"#000000\" fill-rule=\"evenodd\" fill-opacity=\"1\" /><path clip-path=\"url(#clip380)\" d=\"M100.76 695.611 Q97.1493 695.611 95.3206 699.176 Q93.515 702.717 93.515 709.847 Q93.515 716.953 95.3206 720.518 Q97.1493 724.06 100.76 724.06 Q104.395 724.06 106.2 720.518 Q108.029 716.953 108.029 709.847 Q108.029 702.717 106.2 699.176 Q104.395 695.611 100.76 695.611 M100.76 691.907 Q106.571 691.907 109.626 696.514 Q112.705 701.097 112.705 709.847 Q112.705 718.574 109.626 723.18 Q106.571 727.763 100.76 727.763 Q94.9502 727.763 91.8715 723.18 Q88.816 718.574 88.816 709.847 Q88.816 701.097 91.8715 696.514 Q94.9502 691.907 100.76 691.907 Z\" fill=\"#000000\" fill-rule=\"evenodd\" fill-opacity=\"1\" /><path clip-path=\"url(#clip380)\" d=\"M120.922 721.212 L125.807 721.212 L125.807 727.092 L120.922 727.092 L120.922 721.212 Z\" fill=\"#000000\" fill-rule=\"evenodd\" fill-opacity=\"1\" /><path clip-path=\"url(#clip380)\" d=\"M145.992 695.611 Q142.381 695.611 140.552 699.176 Q138.746 702.717 138.746 709.847 Q138.746 716.953 140.552 720.518 Q142.381 724.06 145.992 724.06 Q149.626 724.06 151.431 720.518 Q153.26 716.953 153.26 709.847 Q153.26 702.717 151.431 699.176 Q149.626 695.611 145.992 695.611 M145.992 691.907 Q151.802 691.907 154.857 696.514 Q157.936 701.097 157.936 709.847 Q157.936 718.574 154.857 723.18 Q151.802 727.763 145.992 727.763 Q140.181 727.763 137.103 723.18 Q134.047 718.574 134.047 709.847 Q134.047 701.097 137.103 696.514 Q140.181 691.907 145.992 691.907 Z\" fill=\"#000000\" fill-rule=\"evenodd\" fill-opacity=\"1\" /><path clip-path=\"url(#clip380)\" d=\"M166.964 723.157 L174.603 723.157 L174.603 696.791 L166.292 698.458 L166.292 694.199 L174.556 692.532 L179.232 692.532 L179.232 723.157 L186.871 723.157 L186.871 727.092 L166.964 727.092 L166.964 723.157 Z\" fill=\"#000000\" fill-rule=\"evenodd\" fill-opacity=\"1\" /><path clip-path=\"url(#clip380)\" d=\"M101.131 506.444 Q97.5197 506.444 95.691 510.009 Q93.8854 513.551 93.8854 520.68 Q93.8854 527.787 95.691 531.351 Q97.5197 534.893 101.131 534.893 Q104.765 534.893 106.571 531.351 Q108.399 527.787 108.399 520.68 Q108.399 513.551 106.571 510.009 Q104.765 506.444 101.131 506.444 M101.131 502.74 Q106.941 502.74 109.996 507.347 Q113.075 511.93 113.075 520.68 Q113.075 529.407 109.996 534.013 Q106.941 538.597 101.131 538.597 Q95.3206 538.597 92.2419 534.013 Q89.1864 529.407 89.1864 520.68 Q89.1864 511.93 92.2419 507.347 Q95.3206 502.74 101.131 502.74 Z\" fill=\"#000000\" fill-rule=\"evenodd\" fill-opacity=\"1\" /><path clip-path=\"url(#clip380)\" d=\"M121.293 532.046 L126.177 532.046 L126.177 537.925 L121.293 537.925 L121.293 532.046 Z\" fill=\"#000000\" fill-rule=\"evenodd\" fill-opacity=\"1\" /><path clip-path=\"url(#clip380)\" d=\"M146.362 506.444 Q142.751 506.444 140.922 510.009 Q139.117 513.551 139.117 520.68 Q139.117 527.787 140.922 531.351 Q142.751 534.893 146.362 534.893 Q149.996 534.893 151.802 531.351 Q153.63 527.787 153.63 520.68 Q153.63 513.551 151.802 510.009 Q149.996 506.444 146.362 506.444 M146.362 502.74 Q152.172 502.74 155.228 507.347 Q158.306 511.93 158.306 520.68 Q158.306 529.407 155.228 534.013 Q152.172 538.597 146.362 538.597 Q140.552 538.597 137.473 534.013 Q134.418 529.407 134.418 520.68 Q134.418 511.93 137.473 507.347 Q140.552 502.74 146.362 502.74 Z\" fill=\"#000000\" fill-rule=\"evenodd\" fill-opacity=\"1\" /><path clip-path=\"url(#clip380)\" d=\"M170.552 533.99 L186.871 533.99 L186.871 537.925 L164.927 537.925 L164.927 533.99 Q167.589 531.236 172.172 526.606 Q176.778 521.953 177.959 520.611 Q180.204 518.088 181.084 516.351 Q181.987 514.592 181.987 512.902 Q181.987 510.148 180.042 508.412 Q178.121 506.676 175.019 506.676 Q172.82 506.676 170.366 507.439 Q167.936 508.203 165.158 509.754 L165.158 505.032 Q167.982 503.898 170.436 503.319 Q172.89 502.74 174.927 502.74 Q180.297 502.74 183.491 505.426 Q186.686 508.111 186.686 512.601 Q186.686 514.731 185.876 516.652 Q185.089 518.551 182.982 521.143 Q182.403 521.814 179.302 525.032 Q176.2 528.226 170.552 533.99 Z\" fill=\"#000000\" fill-rule=\"evenodd\" fill-opacity=\"1\" /><path clip-path=\"url(#clip380)\" d=\"M100.182 317.277 Q96.5706 317.277 94.7419 320.842 Q92.9363 324.384 92.9363 331.514 Q92.9363 338.62 94.7419 342.185 Q96.5706 345.726 100.182 345.726 Q103.816 345.726 105.621 342.185 Q107.45 338.62 107.45 331.514 Q107.45 324.384 105.621 320.842 Q103.816 317.277 100.182 317.277 M100.182 313.574 Q105.992 313.574 109.047 318.18 Q112.126 322.764 112.126 331.514 Q112.126 340.24 109.047 344.847 Q105.992 349.43 100.182 349.43 Q94.3715 349.43 91.2928 344.847 Q88.2373 340.24 88.2373 331.514 Q88.2373 322.764 91.2928 318.18 Q94.3715 313.574 100.182 313.574 Z\" fill=\"#000000\" fill-rule=\"evenodd\" fill-opacity=\"1\" /><path clip-path=\"url(#clip380)\" d=\"M120.344 342.879 L125.228 342.879 L125.228 348.759 L120.344 348.759 L120.344 342.879 Z\" fill=\"#000000\" fill-rule=\"evenodd\" fill-opacity=\"1\" /><path clip-path=\"url(#clip380)\" d=\"M145.413 317.277 Q141.802 317.277 139.973 320.842 Q138.168 324.384 138.168 331.514 Q138.168 338.62 139.973 342.185 Q141.802 345.726 145.413 345.726 Q149.047 345.726 150.853 342.185 Q152.681 338.62 152.681 331.514 Q152.681 324.384 150.853 320.842 Q149.047 317.277 145.413 317.277 M145.413 313.574 Q151.223 313.574 154.279 318.18 Q157.357 322.764 157.357 331.514 Q157.357 340.24 154.279 344.847 Q151.223 349.43 145.413 349.43 Q139.603 349.43 136.524 344.847 Q133.469 340.24 133.469 331.514 Q133.469 322.764 136.524 318.18 Q139.603 313.574 145.413 313.574 Z\" fill=\"#000000\" fill-rule=\"evenodd\" fill-opacity=\"1\" /><path clip-path=\"url(#clip380)\" d=\"M179.741 330.125 Q183.098 330.842 184.973 333.111 Q186.871 335.379 186.871 338.713 Q186.871 343.828 183.353 346.629 Q179.834 349.43 173.353 349.43 Q171.177 349.43 168.862 348.99 Q166.57 348.574 164.117 347.717 L164.117 343.203 Q166.061 344.338 168.376 344.916 Q170.691 345.495 173.214 345.495 Q177.612 345.495 179.903 343.759 Q182.218 342.023 182.218 338.713 Q182.218 335.657 180.066 333.944 Q177.936 332.208 174.116 332.208 L170.089 332.208 L170.089 328.365 L174.302 328.365 Q177.751 328.365 179.579 327 Q181.408 325.611 181.408 323.018 Q181.408 320.356 179.51 318.944 Q177.635 317.509 174.116 317.509 Q172.195 317.509 169.996 317.926 Q167.797 318.342 165.158 319.222 L165.158 315.055 Q167.82 314.315 170.135 313.944 Q172.473 313.574 174.533 313.574 Q179.857 313.574 182.959 316.004 Q186.061 318.412 186.061 322.532 Q186.061 325.402 184.417 327.393 Q182.774 329.361 179.741 330.125 Z\" fill=\"#000000\" fill-rule=\"evenodd\" fill-opacity=\"1\" /><path clip-path=\"url(#clip380)\" d=\"M99.0474 128.111 Q95.4363 128.111 93.6076 131.676 Q91.8021 135.217 91.8021 142.347 Q91.8021 149.453 93.6076 153.018 Q95.4363 156.56 99.0474 156.56 Q102.682 156.56 104.487 153.018 Q106.316 149.453 106.316 142.347 Q106.316 135.217 104.487 131.676 Q102.682 128.111 99.0474 128.111 M99.0474 124.407 Q104.858 124.407 107.913 129.014 Q110.992 133.597 110.992 142.347 Q110.992 151.074 107.913 155.68 Q104.858 160.263 99.0474 160.263 Q93.2373 160.263 90.1586 155.68 Q87.103 151.074 87.103 142.347 Q87.103 133.597 90.1586 129.014 Q93.2373 124.407 99.0474 124.407 Z\" fill=\"#000000\" fill-rule=\"evenodd\" fill-opacity=\"1\" /><path clip-path=\"url(#clip380)\" d=\"M119.209 153.713 L124.094 153.713 L124.094 159.592 L119.209 159.592 L119.209 153.713 Z\" fill=\"#000000\" fill-rule=\"evenodd\" fill-opacity=\"1\" /><path clip-path=\"url(#clip380)\" d=\"M144.279 128.111 Q140.668 128.111 138.839 131.676 Q137.033 135.217 137.033 142.347 Q137.033 149.453 138.839 153.018 Q140.668 156.56 144.279 156.56 Q147.913 156.56 149.718 153.018 Q151.547 149.453 151.547 142.347 Q151.547 135.217 149.718 131.676 Q147.913 128.111 144.279 128.111 M144.279 124.407 Q150.089 124.407 153.144 129.014 Q156.223 133.597 156.223 142.347 Q156.223 151.074 153.144 155.68 Q150.089 160.263 144.279 160.263 Q138.469 160.263 135.39 155.68 Q132.334 151.074 132.334 142.347 Q132.334 133.597 135.39 129.014 Q138.469 124.407 144.279 124.407 Z\" fill=\"#000000\" fill-rule=\"evenodd\" fill-opacity=\"1\" /><path clip-path=\"url(#clip380)\" d=\"M177.288 129.106 L165.482 147.555 L177.288 147.555 L177.288 129.106 M176.061 125.032 L181.94 125.032 L181.94 147.555 L186.871 147.555 L186.871 151.444 L181.94 151.444 L181.94 159.592 L177.288 159.592 L177.288 151.444 L161.686 151.444 L161.686 146.93 L176.061 125.032 Z\" fill=\"#000000\" fill-rule=\"evenodd\" fill-opacity=\"1\" /><path clip-path=\"url(#clip380)\" d=\"M1068.64 12.096 L1076.82 12.096 L1076.82 72.576 L1068.64 72.576 L1068.64 12.096 Z\" fill=\"#000000\" fill-rule=\"evenodd\" fill-opacity=\"1\" /><path clip-path=\"url(#clip380)\" d=\"M1130.5 45.1919 L1130.5 72.576 L1123.04 72.576 L1123.04 45.4349 Q1123.04 38.994 1120.53 35.7938 Q1118.02 32.5936 1113 32.5936 Q1106.96 32.5936 1103.48 36.4419 Q1099.99 40.2903 1099.99 46.9338 L1099.99 72.576 L1092.5 72.576 L1092.5 27.2059 L1099.99 27.2059 L1099.99 34.2544 Q1102.67 30.163 1106.27 28.1376 Q1109.92 26.1121 1114.66 26.1121 Q1122.48 26.1121 1126.49 30.9732 Q1130.5 35.7938 1130.5 45.1919 Z\" fill=\"#000000\" fill-rule=\"evenodd\" fill-opacity=\"1\" /><path clip-path=\"url(#clip380)\" d=\"M1145.36 27.2059 L1152.82 27.2059 L1152.82 72.576 L1145.36 72.576 L1145.36 27.2059 M1145.36 9.54393 L1152.82 9.54393 L1152.82 18.9825 L1145.36 18.9825 L1145.36 9.54393 Z\" fill=\"#000000\" fill-rule=\"evenodd\" fill-opacity=\"1\" /><path clip-path=\"url(#clip380)\" d=\"M1175.79 14.324 L1175.79 27.2059 L1191.14 27.2059 L1191.14 32.9987 L1175.79 32.9987 L1175.79 57.6282 Q1175.79 63.1779 1177.28 64.7578 Q1178.82 66.3376 1183.48 66.3376 L1191.14 66.3376 L1191.14 72.576 L1183.48 72.576 Q1174.85 72.576 1171.57 69.3758 Q1168.29 66.1351 1168.29 57.6282 L1168.29 32.9987 L1162.82 32.9987 L1162.82 27.2059 L1168.29 27.2059 L1168.29 14.324 L1175.79 14.324 Z\" fill=\"#000000\" fill-rule=\"evenodd\" fill-opacity=\"1\" /><path clip-path=\"url(#clip380)\" d=\"M1200.94 27.2059 L1208.4 27.2059 L1208.4 72.576 L1200.94 72.576 L1200.94 27.2059 M1200.94 9.54393 L1208.4 9.54393 L1208.4 18.9825 L1200.94 18.9825 L1200.94 9.54393 Z\" fill=\"#000000\" fill-rule=\"evenodd\" fill-opacity=\"1\" /><path clip-path=\"url(#clip380)\" d=\"M1244.61 49.7694 Q1235.58 49.7694 1232.09 51.8354 Q1228.61 53.9013 1228.61 58.8839 Q1228.61 62.8538 1231.2 65.2034 Q1233.84 67.5124 1238.33 67.5124 Q1244.53 67.5124 1248.26 63.1374 Q1252.02 58.7219 1252.02 51.4303 L1252.02 49.7694 L1244.61 49.7694 M1259.48 46.6907 L1259.48 72.576 L1252.02 72.576 L1252.02 65.6895 Q1249.47 69.8214 1245.66 71.8063 Q1241.86 73.7508 1236.35 73.7508 Q1229.38 73.7508 1225.25 69.8619 Q1221.16 65.9325 1221.16 59.3701 Q1221.16 51.7138 1226.26 47.825 Q1231.4 43.9361 1241.57 43.9361 L1252.02 43.9361 L1252.02 43.2069 Q1252.02 38.0623 1248.62 35.2672 Q1245.26 32.4315 1239.14 32.4315 Q1235.25 32.4315 1231.57 33.3632 Q1227.88 34.295 1224.48 36.1584 L1224.48 29.2718 Q1228.57 27.692 1232.42 26.9223 Q1236.27 26.1121 1239.91 26.1121 Q1249.76 26.1121 1254.62 31.2163 Q1259.48 36.3204 1259.48 46.6907 Z\" fill=\"#000000\" fill-rule=\"evenodd\" fill-opacity=\"1\" /><path clip-path=\"url(#clip380)\" d=\"M1274.83 9.54393 L1282.28 9.54393 L1282.28 72.576 L1274.83 72.576 L1274.83 9.54393 Z\" fill=\"#000000\" fill-rule=\"evenodd\" fill-opacity=\"1\" /><path clip-path=\"url(#clip380)\" d=\"M1332.76 18.8205 L1332.76 65.8515 L1342.64 65.8515 Q1355.16 65.8515 1360.95 60.1802 Q1366.79 54.509 1366.79 42.2752 Q1366.79 30.1225 1360.95 24.4918 Q1355.16 18.8205 1342.64 18.8205 L1332.76 18.8205 M1324.58 12.096 L1341.39 12.096 Q1358.97 12.096 1367.19 19.4281 Q1375.41 26.7198 1375.41 42.2752 Q1375.41 57.9117 1367.15 65.2439 Q1358.89 72.576 1341.39 72.576 L1324.58 72.576 L1324.58 12.096 Z\" fill=\"#000000\" fill-rule=\"evenodd\" fill-opacity=\"1\" /><path clip-path=\"url(#clip380)\" d=\"M1408.75 49.7694 Q1399.72 49.7694 1396.24 51.8354 Q1392.75 53.9013 1392.75 58.8839 Q1392.75 62.8538 1395.34 65.2034 Q1397.98 67.5124 1402.47 67.5124 Q1408.67 67.5124 1412.4 63.1374 Q1416.17 58.7219 1416.17 51.4303 L1416.17 49.7694 L1408.75 49.7694 M1423.62 46.6907 L1423.62 72.576 L1416.17 72.576 L1416.17 65.6895 Q1413.61 69.8214 1409.81 71.8063 Q1406 73.7508 1400.49 73.7508 Q1393.52 73.7508 1389.39 69.8619 Q1385.3 65.9325 1385.3 59.3701 Q1385.3 51.7138 1390.4 47.825 Q1395.55 43.9361 1405.72 43.9361 L1416.17 43.9361 L1416.17 43.2069 Q1416.17 38.0623 1412.76 35.2672 Q1409.4 32.4315 1403.28 32.4315 Q1399.4 32.4315 1395.71 33.3632 Q1392.02 34.295 1388.62 36.1584 L1388.62 29.2718 Q1392.71 27.692 1396.56 26.9223 Q1400.41 26.1121 1404.05 26.1121 Q1413.9 26.1121 1418.76 31.2163 Q1423.62 36.3204 1423.62 46.6907 Z\" fill=\"#000000\" fill-rule=\"evenodd\" fill-opacity=\"1\" /><path clip-path=\"url(#clip380)\" d=\"M1446.35 14.324 L1446.35 27.2059 L1461.7 27.2059 L1461.7 32.9987 L1446.35 32.9987 L1446.35 57.6282 Q1446.35 63.1779 1447.84 64.7578 Q1449.38 66.3376 1454.04 66.3376 L1461.7 66.3376 L1461.7 72.576 L1454.04 72.576 Q1445.41 72.576 1442.13 69.3758 Q1438.85 66.1351 1438.85 57.6282 L1438.85 32.9987 L1433.38 32.9987 L1433.38 27.2059 L1438.85 27.2059 L1438.85 14.324 L1446.35 14.324 Z\" fill=\"#000000\" fill-rule=\"evenodd\" fill-opacity=\"1\" /><path clip-path=\"url(#clip380)\" d=\"M1492.12 49.7694 Q1483.09 49.7694 1479.6 51.8354 Q1476.12 53.9013 1476.12 58.8839 Q1476.12 62.8538 1478.71 65.2034 Q1481.35 67.5124 1485.84 67.5124 Q1492.04 67.5124 1495.77 63.1374 Q1499.53 58.7219 1499.53 51.4303 L1499.53 49.7694 L1492.12 49.7694 M1506.99 46.6907 L1506.99 72.576 L1499.53 72.576 L1499.53 65.6895 Q1496.98 69.8214 1493.17 71.8063 Q1489.37 73.7508 1483.86 73.7508 Q1476.89 73.7508 1472.76 69.8619 Q1468.67 65.9325 1468.67 59.3701 Q1468.67 51.7138 1473.77 47.825 Q1478.91 43.9361 1489.08 43.9361 L1499.53 43.9361 L1499.53 43.2069 Q1499.53 38.0623 1496.13 35.2672 Q1492.77 32.4315 1486.65 32.4315 Q1482.76 32.4315 1479.08 33.3632 Q1475.39 34.295 1471.99 36.1584 L1471.99 29.2718 Q1476.08 27.692 1479.93 26.9223 Q1483.78 26.1121 1487.42 26.1121 Q1497.27 26.1121 1502.13 31.2163 Q1506.99 36.3204 1506.99 46.6907 Z\" fill=\"#000000\" fill-rule=\"evenodd\" fill-opacity=\"1\" /><polyline clip-path=\"url(#clip382)\" style=\"stroke:#009af9; stroke-linecap:round; stroke-linejoin:round; stroke-width:4; stroke-opacity:1; fill:none\" points=\"222.871,898.979 243.959,898.979 264.633,898.979 284.907,898.979 304.79,898.979 324.294,898.979 343.431,898.979 362.209,898.979 380.64,898.979 398.733,898.979 416.497,898.979 433.941,898.979 451.073,898.979 467.902,898.979 484.436,898.979 500.682,898.979 516.648,898.979 532.341,898.979 547.769,898.979 562.937,898.979 577.852,898.979 592.52,898.979 606.949,898.979 621.142,898.979 635.107,898.979 648.848,898.979 662.371,898.979 675.681,898.979 688.783,898.979 701.682,898.979 714.383,898.979 726.89,898.979 739.207,898.979 751.339,898.979 763.29,898.979 775.063,898.979 786.664,898.979 798.095,898.979 809.361,898.979 820.465,898.979 831.41,898.979 842.199,898.979 852.837,898.979 863.326,898.979 873.669,898.979 883.87,898.979 893.931,898.979 903.855,898.979 913.645,898.979 923.303,898.979 932.833,898.979 942.236,898.979 951.516,898.979 960.674,898.979 969.714,898.979 978.637,898.979 987.445,898.979 996.141,898.979 1004.73,898.979 1013.21,898.979 1021.58,898.979 1029.85,898.979 1038.01,898.979 1046.08,898.979 1054.05,898.979 1061.92,898.979 1069.69,898.979 1077.38,898.979 1084.97,898.979 1092.47,898.979 1099.88,898.979 1107.21,898.979 1114.45,898.979 1121.61,898.979 1128.68,898.979 1135.68,898.979 1142.59,898.979 1149.43,898.979 1156.19,898.979 1162.88,898.979 1169.49,898.979 1176.02,898.979 1182.49,898.979 1188.88,898.979 1195.21,898.979 1201.47,898.979 1207.66,898.979 1213.78,898.979 1219.84,898.979 1225.83,898.979 1231.76,898.979 1237.63,898.979 1243.44,898.979 1249.19,898.979 1254.88,898.979 1260.51,898.979 1266.08,898.979 1271.6,898.979 1277.06,898.979 1282.46,898.979 1287.81,898.979 1293.11,898.979 1298.36,898.979 1303.55,898.979 1308.69,898.979 1313.79,898.979 1318.83,898.979 1323.83,898.979 1328.77,898.979 1333.67,898.979 1338.53,898.979 1343.33,898.979 1348.09,898.979 1352.81,898.979 1357.48,898.979 1362.11,898.979 1366.7,898.979 1371.24,898.979 1375.74,898.979 1380.21,898.979 1384.63,898.979 1389.01,898.979 1393.35,898.979 1397.65,898.979 1401.91,898.979 1406.14,898.979 1410.33,898.979 1414.48,898.979 1418.6,898.979 1422.68,898.979 1426.72,898.979 1430.73,898.979 1434.7,898.979 1438.64,898.979 1442.55,898.979 1446.42,898.979 1450.26,898.979 1454.07,898.979 1457.85,898.979 1461.59,898.979 1465.3,898.979 1468.99,898.979 1472.64,898.979 1476.26,898.979 1479.85,898.979 1483.42,898.979 1486.95,898.979 1490.45,898.979 1493.93,898.979 1497.38,898.979 1500.8,898.979 1504.2,898.979 1507.56,898.979 1510.9,898.979 1514.22,898.979 1517.51,898.979 1520.77,898.979 1524.01,898.979 1527.22,898.979 1530.41,898.979 1533.57,898.979 1536.71,898.979 1539.82,898.979 1542.91,898.979 1545.98,898.979 1549.03,898.979 1552.05,898.979 1555.05,898.979 1558.02,898.979 1560.98,898.979 1563.91,898.979 1566.82,898.979 1569.71,898.979 1572.58,898.979 1575.43,898.979 1578.25,898.979 1581.06,898.979 1583.84,898.979 1586.61,898.979 1589.36,898.979 1592.08,898.979 1594.79,898.979 1597.48,898.979 1600.15,898.979 1602.8,898.979 1605.43,898.979 1608.04,898.979 1610.64,898.979 1613.21,898.979 1615.77,898.979 1618.31,898.979 1620.84,898.979 1623.34,898.979 1625.83,898.979 1628.31,898.979 1630.76,898.979 1633.2,898.979 1635.62,898.979 1638.03,898.979 1640.42,898.979 1642.79,898.979 \"/>\n",
       "<polyline clip-path=\"url(#clip382)\" style=\"stroke:#e26f46; stroke-linecap:round; stroke-linejoin:round; stroke-width:4; stroke-opacity:1; fill:none\" points=\"222.871,898.979 243.959,898.979 264.633,898.979 284.907,898.979 304.79,898.979 324.294,898.979 343.431,898.979 362.209,898.979 380.64,898.979 398.733,898.979 416.497,898.979 433.941,898.979 451.073,898.979 467.902,898.979 484.436,898.979 500.682,898.979 516.648,898.979 532.341,898.979 547.769,898.979 562.937,898.979 577.852,898.979 592.52,898.979 606.949,898.979 621.142,898.979 635.107,898.979 648.848,898.979 662.371,898.979 675.681,898.979 688.783,898.979 701.682,898.979 714.383,898.979 726.89,898.979 739.207,898.979 751.339,898.979 763.29,898.979 775.063,898.979 786.664,898.979 798.095,898.979 809.361,898.979 820.465,898.979 831.41,898.979 842.199,898.979 852.837,898.979 863.326,898.979 873.669,898.979 883.87,898.979 893.931,898.979 903.855,898.979 913.645,898.979 923.303,898.979 932.833,898.979 942.236,898.979 951.516,898.979 960.674,898.979 969.714,898.979 978.637,898.979 987.445,898.979 996.141,898.979 1004.73,898.979 1013.21,898.979 1021.58,898.979 1029.85,898.979 1038.01,898.979 1046.08,898.979 1054.05,898.979 1061.92,898.979 1069.69,898.979 1077.38,898.979 1084.97,898.979 1092.47,898.979 1099.88,898.979 1107.21,898.979 1114.45,898.979 1121.61,898.979 1128.68,898.979 1135.68,898.979 1142.59,898.979 1149.43,898.979 1156.19,898.979 1162.88,898.979 1169.49,898.979 1176.02,898.979 1182.49,898.979 1188.88,898.979 1195.21,898.979 1201.47,898.979 1207.66,898.979 1213.78,898.979 1219.84,898.979 1225.83,898.979 1231.76,898.979 1237.63,898.979 1243.44,898.979 1249.19,898.979 1254.88,898.979 1260.51,898.979 1266.08,898.979 1271.6,898.979 1277.06,898.979 1282.46,898.979 1287.81,898.979 1293.11,898.979 1298.36,898.979 1303.55,898.979 1308.69,898.979 1313.79,898.979 1318.83,898.979 1323.83,898.979 1328.77,898.979 1333.67,898.979 1338.53,898.979 1343.33,898.979 1348.09,898.979 1352.81,898.979 1357.48,898.979 1362.11,898.979 1366.7,898.979 1371.24,898.979 1375.74,898.979 1380.21,898.979 1384.63,898.979 1389.01,898.979 1393.35,898.979 1397.65,898.979 1401.91,898.979 1406.14,898.979 1410.33,898.979 1414.48,898.979 1418.6,898.979 1422.68,898.979 1426.72,898.979 1430.73,898.979 1434.7,898.979 1438.64,898.979 1442.55,898.979 1446.42,898.979 1450.26,898.979 1454.07,898.979 1457.85,898.979 1461.59,898.979 1465.3,898.979 1468.99,898.979 1472.64,898.979 1476.26,898.979 1479.85,898.979 1483.42,898.979 1486.95,898.979 1490.45,898.979 1493.93,898.979 1497.38,898.979 1500.8,898.979 1504.2,898.979 1507.56,898.979 1510.9,898.979 1514.22,898.979 1517.51,898.979 1520.77,898.979 1524.01,898.979 1527.22,898.979 1530.41,898.979 1533.57,898.979 1536.71,898.979 1539.82,898.979 1542.91,898.979 1545.98,898.979 1549.03,898.979 1552.05,898.979 1555.05,898.979 1558.02,898.979 1560.98,898.979 1563.91,898.979 1566.82,898.979 1569.71,898.979 1572.58,898.979 1575.43,898.979 1578.25,898.979 1581.06,898.979 1583.84,898.979 1586.61,898.979 1589.36,898.979 1592.08,898.979 1594.79,898.979 1597.48,898.979 1600.15,898.979 1602.8,898.979 1605.43,898.979 1608.04,898.979 1610.64,898.979 1613.21,898.979 1615.77,898.979 1618.31,898.979 1620.84,898.979 1623.34,898.979 1625.83,898.979 1628.31,898.979 1630.76,898.979 1633.2,898.979 1635.62,898.979 1638.03,898.979 1640.42,898.979 1642.79,898.979 \"/>\n",
       "<polyline clip-path=\"url(#clip382)\" style=\"stroke:#3da44d; stroke-linecap:round; stroke-linejoin:round; stroke-width:4; stroke-opacity:1; fill:none\" points=\"222.871,898.979 243.959,898.979 264.633,898.979 284.907,898.979 304.79,898.979 324.294,898.979 343.431,898.979 362.209,898.979 380.64,898.979 398.733,898.979 416.497,898.979 433.941,898.979 451.073,898.979 467.902,898.979 484.436,898.979 500.682,898.979 516.648,898.979 532.341,898.979 547.769,898.979 562.937,898.979 577.852,898.979 592.52,898.979 606.949,898.979 621.142,898.979 635.107,898.979 648.848,898.979 662.371,898.979 675.681,898.979 688.783,898.979 701.682,898.979 714.383,898.979 726.89,898.979 739.207,898.979 751.339,898.979 763.29,898.979 775.063,898.979 786.664,898.979 798.095,898.979 809.361,898.979 820.465,898.979 831.41,898.979 842.199,898.979 852.837,898.979 863.326,898.979 873.669,898.979 883.87,898.979 893.931,898.979 903.855,898.979 913.645,898.979 923.303,898.979 932.833,898.979 942.236,898.979 951.516,898.979 960.674,898.979 969.714,898.979 978.637,898.979 987.445,898.979 996.141,898.979 1004.73,898.979 1013.21,898.979 1021.58,898.979 1029.85,898.979 1038.01,898.979 1046.08,898.979 1054.05,898.979 1061.92,898.979 1069.69,898.979 1077.38,898.979 1084.97,898.979 1092.47,898.979 1099.88,898.979 1107.21,898.979 1114.45,898.979 1121.61,898.979 1128.68,898.979 1135.68,898.979 1142.59,898.979 1149.43,898.979 1156.19,898.979 1162.88,898.979 1169.49,898.979 1176.02,898.979 1182.49,898.979 1188.88,898.979 1195.21,898.979 1201.47,898.979 1207.66,898.979 1213.78,898.979 1219.84,898.979 1225.83,898.979 1231.76,898.979 1237.63,898.979 1243.44,898.979 1249.19,898.979 1254.88,898.979 1260.51,898.979 1266.08,898.979 1271.6,898.979 1277.06,898.979 1282.46,898.979 1287.81,898.979 1293.11,898.979 1298.36,898.979 1303.55,898.979 1308.69,898.979 1313.79,898.979 1318.83,898.979 1323.83,898.979 1328.77,898.979 1333.67,898.979 1338.53,898.979 1343.33,898.979 1348.09,898.979 1352.81,898.979 1357.48,898.979 1362.11,898.979 1366.7,898.979 1371.24,898.979 1375.74,898.979 1380.21,898.979 1384.63,898.979 1389.01,898.979 1393.35,898.979 1397.65,898.979 1401.91,898.979 1406.14,898.979 1410.33,898.979 1414.48,898.979 1418.6,898.979 1422.68,898.979 1426.72,898.979 1430.73,898.979 1434.7,898.979 1438.64,898.979 1442.55,898.979 1446.42,898.979 1450.26,898.979 1454.07,898.979 1457.85,898.979 1461.59,898.979 1465.3,898.979 1468.99,898.979 1472.64,898.979 1476.26,898.979 1479.85,898.979 1483.42,898.979 1486.95,898.979 1490.45,898.979 1493.93,898.979 1497.38,898.979 1500.8,898.979 1504.2,898.979 1507.56,898.979 1510.9,898.979 1514.22,898.979 1517.51,898.979 1520.77,898.979 1524.01,898.979 1527.22,898.979 1530.41,898.979 1533.57,898.979 1536.71,898.979 1539.82,898.979 1542.91,898.979 1545.98,898.979 1549.03,898.979 1552.05,898.979 1555.05,898.979 1558.02,898.979 1560.98,898.979 1563.91,898.979 1566.82,898.979 1569.71,898.979 1572.58,898.979 1575.43,898.979 1578.25,898.979 1581.06,898.979 1583.84,898.979 1586.61,898.979 1589.36,898.979 1592.08,898.979 1594.79,898.979 1597.48,898.979 1600.15,898.979 1602.8,898.979 1605.43,898.979 1608.04,898.979 1610.64,898.979 1613.21,898.979 1615.77,898.979 1618.31,898.979 1620.84,898.979 1623.34,898.979 1625.83,898.979 1628.31,898.979 1630.76,898.979 1633.2,898.979 1635.62,898.979 1638.03,898.979 1640.42,898.979 1642.79,898.979 \"/>\n",
       "<polyline clip-path=\"url(#clip382)\" style=\"stroke:#c271d2; stroke-linecap:round; stroke-linejoin:round; stroke-width:4; stroke-opacity:1; fill:none\" points=\"222.871,898.979 243.959,898.949 264.633,898.853 284.907,898.66 304.79,898.324 324.294,897.769 343.431,896.894 362.209,895.568 380.64,893.626 398.733,890.873 416.497,887.086 433.941,882.022 451.073,875.429 467.902,867.061 484.436,856.694 500.682,844.149 516.648,829.31 532.341,812.141 547.769,792.703 562.937,771.166 577.852,747.812 592.52,723.035 606.949,697.331 621.142,671.286 635.107,645.551 648.848,620.822 662.371,597.808 675.681,577.203 688.783,559.655 701.682,545.742 714.383,535.95 726.89,530.65 739.207,530.09 751.339,534.386 763.29,543.522 775.063,557.353 786.664,575.618 798.095,597.952 809.361,623.9 820.465,652.941 831.41,684.503 842.199,717.986 852.837,752.78 863.326,788.283 873.669,823.916 883.87,859.136 893.931,893.449 903.855,926.415 913.645,957.656 923.303,986.857 932.833,1013.77 942.236,1038.2 951.516,1060.04 960.674,1079.21 969.714,1095.69 978.637,1109.52 987.445,1120.76 996.141,1129.51 1004.73,1135.92 1013.21,1140.12 1021.58,1142.29 1029.85,1142.61 1038.01,1141.25 1046.08,1138.41 1054.05,1134.27 1061.92,1129 1069.69,1122.79 1077.38,1115.78 1084.97,1108.14 1092.47,1100.01 1099.88,1091.51 1107.21,1082.76 1114.45,1073.86 1121.61,1064.92 1128.68,1056 1135.68,1047.19 1142.59,1038.53 1149.43,1030.07 1156.19,1021.87 1162.88,1013.94 1169.49,1006.32 1176.02,999.028 1182.49,992.067 1188.88,985.451 1195.21,979.182 1201.47,973.259 1207.66,967.679 1213.78,962.436 1219.84,957.521 1225.83,952.923 1231.76,948.632 1237.63,944.635 1243.44,940.918 1249.19,937.468 1254.88,934.271 1260.51,931.312 1266.08,928.579 1271.6,926.056 1277.06,923.732 1282.46,921.592 1287.81,919.625 1293.11,917.819 1298.36,916.161 1303.55,914.642 1308.69,913.25 1313.79,911.977 1318.83,910.812 1323.83,909.748 1328.77,908.777 1333.67,907.891 1338.53,907.083 1343.33,906.346 1348.09,905.675 1352.81,905.064 1357.48,904.508 1362.11,904.003 1366.7,903.543 1371.24,903.125 1375.74,902.746 1380.21,902.401 1384.63,902.088 1389.01,901.804 1393.35,901.546 1397.65,901.312 1401.91,901.1 1406.14,900.907 1410.33,900.733 1414.48,900.574 1418.6,900.431 1422.68,900.301 1426.72,900.183 1430.73,900.076 1434.7,899.979 1438.64,899.892 1442.55,899.812 1446.42,899.74 1450.26,899.675 1454.07,899.616 1457.85,899.562 1461.59,899.514 1465.3,899.47 1468.99,899.43 1472.64,899.394 1476.26,899.361 1479.85,899.332 1483.42,899.305 1486.95,899.281 1490.45,899.258 1493.93,899.238 1497.38,899.22 1500.8,899.204 1504.2,899.189 1507.56,899.175 1510.9,899.163 1514.22,899.152 1517.51,899.142 1520.77,899.133 1524.01,899.124 1527.22,899.117 1530.41,899.11 1533.57,899.104 1536.71,899.098 1539.82,899.093 1542.91,899.088 1545.98,899.084 1549.03,899.08 1552.05,899.077 1555.05,899.073 1558.02,899.071 1560.98,899.068 1563.91,899.065 1566.82,899.063 1569.71,899.061 1572.58,899.059 1575.43,899.058 1578.25,899.056 1581.06,899.055 1583.84,899.054 1586.61,899.053 1589.36,899.051 1592.08,899.051 1594.79,899.05 1597.48,899.049 1600.15,899.048 1602.8,899.048 1605.43,899.047 1608.04,899.046 1610.64,899.046 1613.21,899.045 1615.77,899.045 1618.31,899.045 1620.84,899.044 1623.34,899.044 1625.83,899.044 1628.31,899.043 1630.76,899.043 1633.2,899.043 1635.62,899.042 1638.03,899.043 1640.42,899.049 1642.79,899.057 \"/>\n",
       "<polyline clip-path=\"url(#clip382)\" style=\"stroke:#ac8d18; stroke-linecap:round; stroke-linejoin:round; stroke-width:4; stroke-opacity:1; fill:none\" points=\"222.871,898.864 243.959,898.806 264.633,898.617 284.907,898.241 304.79,897.579 324.294,896.486 343.431,894.758 362.209,892.133 380.64,888.282 398.733,882.814 416.497,875.283 433.941,865.198 451.073,852.055 467.902,835.357 484.436,814.655 500.682,789.587 516.648,759.916 532.341,725.568 547.769,686.665 562.937,643.544 577.852,596.77 592.52,547.131 606.949,495.624 621.142,443.422 635.107,391.834 648.848,342.256 662.371,296.109 675.681,254.787 688.783,219.592 701.682,191.685 714.383,172.037 726.89,161.396 739.207,160.256 751.339,168.851 763.29,187.147 775.063,214.854 786.664,251.448 798.095,296.192 809.361,348.178 820.465,406.356 831.41,469.582 842.199,536.652 852.837,606.343 863.326,677.447 873.669,748.804 883.87,819.328 893.931,888.027 903.855,954.022 913.645,1016.56 923.303,1075 932.833,1128.85 942.236,1177.75 951.516,1221.43 960.674,1259.76 969.714,1292.72 978.637,1320.36 987.445,1342.83 996.141,1360.32 1004.73,1373.1 1013.21,1381.48 1021.58,1385.8 1029.85,1386.4 1038.01,1383.65 1046.08,1377.94 1054.05,1369.62 1061.92,1359.06 1069.69,1346.6 1077.38,1332.57 1084.97,1317.26 1092.47,1300.97 1099.88,1283.95 1107.21,1266.44 1114.45,1248.63 1121.61,1230.73 1128.68,1212.89 1135.68,1195.24 1142.59,1177.92 1149.43,1161 1156.19,1144.59 1162.88,1128.73 1169.49,1113.49 1176.02,1098.9 1182.49,1084.98 1188.88,1071.74 1195.21,1059.2 1201.47,1047.36 1207.66,1036.2 1213.78,1025.72 1219.84,1015.89 1225.83,1006.69 1231.76,998.113 1237.63,990.121 1243.44,982.689 1249.19,975.791 1254.88,969.399 1260.51,963.485 1266.08,958.02 1271.6,952.978 1277.06,948.331 1282.46,944.054 1287.81,940.122 1293.11,936.511 1298.36,933.197 1303.55,930.16 1308.69,927.378 1313.79,924.833 1318.83,922.506 1323.83,920.38 1328.77,918.438 1333.67,916.667 1338.53,915.051 1343.33,913.579 1348.09,912.238 1352.81,911.017 1357.48,909.906 1362.11,908.896 1366.7,907.977 1371.24,907.142 1375.74,906.384 1380.21,905.695 1384.63,905.069 1389.01,904.501 1393.35,903.986 1397.65,903.518 1401.91,903.094 1406.14,902.709 1410.33,902.36 1414.48,902.044 1418.6,901.758 1422.68,901.498 1426.72,901.262 1430.73,901.049 1434.7,900.855 1438.64,900.68 1442.55,900.521 1446.42,900.378 1450.26,900.247 1454.07,900.129 1457.85,900.022 1461.59,899.925 1465.3,899.837 1468.99,899.758 1472.64,899.686 1476.26,899.62 1479.85,899.561 1483.42,899.507 1486.95,899.459 1490.45,899.415 1493.93,899.375 1497.38,899.338 1500.8,899.306 1504.2,899.276 1507.56,899.249 1510.9,899.224 1514.22,899.202 1517.51,899.182 1520.77,899.163 1524.01,899.147 1527.22,899.132 1530.41,899.118 1533.57,899.105 1536.71,899.094 1539.82,899.084 1542.91,899.074 1545.98,899.066 1549.03,899.058 1552.05,899.051 1555.05,899.045 1558.02,899.039 1560.98,899.034 1563.91,899.029 1566.82,899.025 1569.71,899.021 1572.58,899.017 1575.43,899.014 1578.25,899.011 1581.06,899.008 1583.84,899.005 1586.61,899.003 1589.36,899.001 1592.08,898.999 1594.79,898.997 1597.48,898.996 1600.15,898.994 1602.8,898.993 1605.43,898.992 1608.04,898.991 1610.64,898.99 1613.21,898.989 1615.77,898.988 1618.31,898.987 1620.84,898.987 1623.34,898.986 1625.83,898.985 1628.31,898.985 1630.76,898.984 1633.2,898.984 1635.62,898.983 1638.03,898.979 1640.42,898.998 1642.79,898.998 \"/>\n",
       "<polyline clip-path=\"url(#clip382)\" style=\"stroke:#00a9ad; stroke-linecap:round; stroke-linejoin:round; stroke-width:4; stroke-opacity:1; fill:none\" points=\"222.871,898.979 243.959,898.979 264.633,898.979 284.907,898.979 304.79,898.979 324.294,898.979 343.431,898.979 362.209,898.979 380.64,898.979 398.733,898.979 416.497,898.979 433.941,898.979 451.073,898.979 467.902,898.979 484.436,898.979 500.682,898.979 516.648,898.979 532.341,898.979 547.769,898.979 562.937,898.979 577.852,898.979 592.52,898.979 606.949,898.979 621.142,898.979 635.107,898.979 648.848,898.979 662.371,898.979 675.681,898.979 688.783,898.979 701.682,898.979 714.383,898.979 726.89,898.979 739.207,898.979 751.339,898.979 763.29,898.979 775.063,898.979 786.664,898.979 798.095,898.979 809.361,898.979 820.465,898.979 831.41,898.979 842.199,898.979 852.837,898.979 863.326,898.979 873.669,898.979 883.87,898.979 893.931,898.979 903.855,898.979 913.645,898.979 923.303,898.979 932.833,898.979 942.236,898.979 951.516,898.979 960.674,898.979 969.714,898.979 978.637,898.979 987.445,898.979 996.141,898.979 1004.73,898.979 1013.21,898.979 1021.58,898.979 1029.85,898.979 1038.01,898.979 1046.08,898.979 1054.05,898.979 1061.92,898.979 1069.69,898.979 1077.38,898.979 1084.97,898.979 1092.47,898.979 1099.88,898.979 1107.21,898.979 1114.45,898.979 1121.61,898.979 1128.68,898.979 1135.68,898.979 1142.59,898.979 1149.43,898.979 1156.19,898.979 1162.88,898.979 1169.49,898.979 1176.02,898.979 1182.49,898.979 1188.88,898.979 1195.21,898.979 1201.47,898.979 1207.66,898.979 1213.78,898.979 1219.84,898.979 1225.83,898.979 1231.76,898.979 1237.63,898.979 1243.44,898.979 1249.19,898.979 1254.88,898.979 1260.51,898.979 1266.08,898.979 1271.6,898.979 1277.06,898.979 1282.46,898.979 1287.81,898.979 1293.11,898.979 1298.36,898.979 1303.55,898.979 1308.69,898.979 1313.79,898.979 1318.83,898.979 1323.83,898.979 1328.77,898.979 1333.67,898.979 1338.53,898.979 1343.33,898.979 1348.09,898.979 1352.81,898.979 1357.48,898.979 1362.11,898.979 1366.7,898.979 1371.24,898.979 1375.74,898.979 1380.21,898.979 1384.63,898.979 1389.01,898.979 1393.35,898.979 1397.65,898.979 1401.91,898.979 1406.14,898.979 1410.33,898.979 1414.48,898.979 1418.6,898.979 1422.68,898.979 1426.72,898.979 1430.73,898.979 1434.7,898.979 1438.64,898.979 1442.55,898.979 1446.42,898.979 1450.26,898.979 1454.07,898.979 1457.85,898.979 1461.59,898.979 1465.3,898.979 1468.99,898.979 1472.64,898.979 1476.26,898.979 1479.85,898.979 1483.42,898.979 1486.95,898.979 1490.45,898.979 1493.93,898.979 1497.38,898.979 1500.8,898.979 1504.2,898.979 1507.56,898.979 1510.9,898.979 1514.22,898.979 1517.51,898.979 1520.77,898.979 1524.01,898.979 1527.22,898.979 1530.41,898.979 1533.57,898.979 1536.71,898.979 1539.82,898.979 1542.91,898.979 1545.98,898.979 1549.03,898.979 1552.05,898.979 1555.05,898.979 1558.02,898.979 1560.98,898.979 1563.91,898.979 1566.82,898.979 1569.71,898.979 1572.58,898.979 1575.43,898.979 1578.25,898.979 1581.06,898.979 1583.84,898.979 1586.61,898.979 1589.36,898.979 1592.08,898.979 1594.79,898.979 1597.48,898.979 1600.15,898.979 1602.8,898.979 1605.43,898.979 1608.04,898.979 1610.64,898.979 1613.21,898.979 1615.77,898.979 1618.31,898.979 1620.84,898.979 1623.34,898.979 1625.83,898.979 1628.31,898.979 1630.76,898.979 1633.2,898.979 1635.62,898.979 1638.03,898.979 1640.42,898.979 1642.79,898.979 \"/>\n",
       "<polyline clip-path=\"url(#clip382)\" style=\"stroke:#ed5d92; stroke-linecap:round; stroke-linejoin:round; stroke-width:4; stroke-opacity:1; fill:none\" points=\"222.871,898.979 243.959,898.977 264.633,898.975 284.907,898.969 304.79,898.959 324.294,898.94 343.431,898.907 362.209,898.853 380.64,898.766 398.733,898.633 416.497,898.436 433.941,898.151 451.073,897.75 467.902,897.2 484.436,896.464 500.682,895.5 516.648,894.261 532.341,892.703 547.769,890.778 562.937,888.443 577.852,885.657 592.52,882.389 606.949,878.614 621.142,874.32 635.107,869.505 648.848,864.183 662.371,858.382 675.681,852.142 688.783,845.519 701.682,838.579 714.383,831.4 726.89,824.07 739.207,816.68 751.339,809.327 763.29,802.11 775.063,795.122 786.664,788.457 798.095,782.199 809.361,776.425 820.465,771.203 831.41,766.589 842.199,762.628 852.837,759.351 863.326,756.78 873.669,754.922 883.87,753.774 893.931,753.323 903.855,753.546 913.645,754.412 923.303,755.884 932.833,757.917 942.236,760.465 951.516,763.475 960.674,766.896 969.714,770.673 978.637,774.753 987.445,779.084 996.141,783.614 1004.73,788.295 1013.21,793.081 1021.58,797.931 1029.85,802.805 1038.01,807.668 1046.08,812.489 1054.05,817.239 1061.92,821.894 1069.69,826.434 1077.38,830.842 1084.97,835.102 1092.47,839.204 1099.88,843.139 1107.21,846.902 1114.45,850.487 1121.61,853.894 1128.68,857.123 1135.68,860.173 1142.59,863.049 1149.43,865.753 1156.19,868.291 1162.88,870.667 1169.49,872.888 1176.02,874.96 1182.49,876.889 1188.88,878.682 1195.21,880.346 1201.47,881.889 1207.66,883.316 1213.78,884.636 1219.84,885.853 1225.83,886.976 1231.76,888.01 1237.63,888.96 1243.44,889.834 1249.19,890.636 1254.88,891.372 1260.51,892.046 1266.08,892.664 1271.6,893.229 1277.06,893.745 1282.46,894.217 1287.81,894.648 1293.11,895.041 1298.36,895.399 1303.55,895.726 1308.69,896.024 1313.79,896.295 1318.83,896.542 1323.83,896.766 1328.77,896.97 1333.67,897.156 1338.53,897.325 1343.33,897.478 1348.09,897.617 1352.81,897.744 1357.48,897.858 1362.11,897.962 1366.7,898.057 1371.24,898.143 1375.74,898.22 1380.21,898.291 1384.63,898.355 1389.01,898.413 1393.35,898.466 1397.65,898.513 1401.91,898.557 1406.14,898.596 1410.33,898.631 1414.48,898.663 1418.6,898.693 1422.68,898.719 1426.72,898.743 1430.73,898.765 1434.7,898.785 1438.64,898.802 1442.55,898.819 1446.42,898.833 1450.26,898.847 1454.07,898.859 1457.85,898.87 1461.59,898.88 1465.3,898.889 1468.99,898.897 1472.64,898.904 1476.26,898.911 1479.85,898.917 1483.42,898.923 1486.95,898.928 1490.45,898.932 1493.93,898.936 1497.38,898.94 1500.8,898.944 1504.2,898.947 1507.56,898.95 1510.9,898.952 1514.22,898.955 1517.51,898.957 1520.77,898.959 1524.01,898.96 1527.22,898.962 1530.41,898.963 1533.57,898.965 1536.71,898.966 1539.82,898.967 1542.91,898.968 1545.98,898.969 1549.03,898.97 1552.05,898.971 1555.05,898.971 1558.02,898.972 1560.98,898.972 1563.91,898.973 1566.82,898.974 1569.71,898.974 1572.58,898.974 1575.43,898.975 1578.25,898.975 1581.06,898.975 1583.84,898.976 1586.61,898.976 1589.36,898.976 1592.08,898.976 1594.79,898.977 1597.48,898.977 1600.15,898.977 1602.8,898.977 1605.43,898.977 1608.04,898.977 1610.64,898.977 1613.21,898.977 1615.77,898.978 1618.31,898.978 1620.84,898.978 1623.34,898.978 1625.83,898.978 1628.31,898.978 1630.76,898.978 1633.2,898.978 1635.62,898.978 1638.03,898.978 1640.42,898.978 1642.79,898.979 \"/>\n",
       "<path clip-path=\"url(#clip380)\" d=\"M1901.85 581.516 L2281.76 581.516 L2281.76 166.796 L1901.85 166.796  Z\" fill=\"#ffffff\" fill-rule=\"evenodd\" fill-opacity=\"1\"/>\n",
       "<polyline clip-path=\"url(#clip380)\" style=\"stroke:#000000; stroke-linecap:round; stroke-linejoin:round; stroke-width:4; stroke-opacity:1; fill:none\" points=\"1901.85,581.516 2281.76,581.516 2281.76,166.796 1901.85,166.796 1901.85,581.516 \"/>\n",
       "<polyline clip-path=\"url(#clip380)\" style=\"stroke:#009af9; stroke-linecap:round; stroke-linejoin:round; stroke-width:4; stroke-opacity:1; fill:none\" points=\"1925.52,218.636 2067.51,218.636 \"/>\n",
       "<path clip-path=\"url(#clip380)\" d=\"M2111.52 214.967 Q2113.12 212.096 2115.34 210.731 Q2117.56 209.365 2120.57 209.365 Q2124.62 209.365 2126.82 212.212 Q2129.02 215.036 2129.02 220.268 L2129.02 235.916 L2124.74 235.916 L2124.74 220.407 Q2124.74 216.68 2123.42 214.874 Q2122.1 213.069 2119.39 213.069 Q2116.08 213.069 2114.16 215.268 Q2112.24 217.467 2112.24 221.263 L2112.24 235.916 L2107.96 235.916 L2107.96 220.407 Q2107.96 216.657 2106.64 214.874 Q2105.32 213.069 2102.56 213.069 Q2099.3 213.069 2097.38 215.291 Q2095.46 217.49 2095.46 221.263 L2095.46 235.916 L2091.17 235.916 L2091.17 209.99 L2095.46 209.99 L2095.46 214.018 Q2096.91 211.633 2098.95 210.499 Q2100.99 209.365 2103.79 209.365 Q2106.61 209.365 2108.58 210.8 Q2110.57 212.235 2111.52 214.967 Z\" fill=\"#000000\" fill-rule=\"evenodd\" fill-opacity=\"1\" /><polyline clip-path=\"url(#clip380)\" style=\"stroke:#e26f46; stroke-linecap:round; stroke-linejoin:round; stroke-width:4; stroke-opacity:1; fill:none\" points=\"1925.52,270.476 2067.51,270.476 \"/>\n",
       "<path clip-path=\"url(#clip380)\" d=\"M2109.95 274.816 Q2109.95 270.117 2108 267.455 Q2106.08 264.77 2102.7 264.77 Q2099.32 264.77 2097.38 267.455 Q2095.46 270.117 2095.46 274.816 Q2095.46 279.515 2097.38 282.2 Q2099.32 284.862 2102.7 284.862 Q2106.08 284.862 2108 282.2 Q2109.95 279.515 2109.95 274.816 M2095.46 265.765 Q2096.8 263.45 2098.84 262.339 Q2100.9 261.205 2103.74 261.205 Q2108.47 261.205 2111.41 264.955 Q2114.37 268.705 2114.37 274.816 Q2114.37 280.927 2111.41 284.677 Q2108.47 288.427 2103.74 288.427 Q2100.9 288.427 2098.84 287.316 Q2096.8 286.182 2095.46 283.867 L2095.46 287.756 L2091.17 287.756 L2091.17 251.737 L2095.46 251.737 L2095.46 265.765 Z\" fill=\"#000000\" fill-rule=\"evenodd\" fill-opacity=\"1\" /><path clip-path=\"url(#clip380)\" d=\"M2143.6 273.728 L2143.6 275.811 L2124.02 275.811 Q2124.3 280.209 2126.66 282.524 Q2129.04 284.816 2133.28 284.816 Q2135.73 284.816 2138.03 284.214 Q2140.34 283.612 2142.61 282.409 L2142.61 286.436 Q2140.32 287.408 2137.91 287.918 Q2135.5 288.427 2133.03 288.427 Q2126.82 288.427 2123.19 284.816 Q2119.58 281.205 2119.58 275.047 Q2119.58 268.682 2123 264.955 Q2126.45 261.205 2132.28 261.205 Q2137.52 261.205 2140.55 264.585 Q2143.6 267.941 2143.6 273.728 M2139.34 272.478 Q2139.3 268.983 2137.38 266.899 Q2135.48 264.816 2132.33 264.816 Q2128.77 264.816 2126.61 266.83 Q2124.48 268.844 2124.16 272.501 L2139.34 272.478 Z\" fill=\"#000000\" fill-rule=\"evenodd\" fill-opacity=\"1\" /><path clip-path=\"url(#clip380)\" d=\"M2154.81 254.469 L2154.81 261.83 L2163.58 261.83 L2163.58 265.14 L2154.81 265.14 L2154.81 279.214 Q2154.81 282.385 2155.66 283.288 Q2156.54 284.191 2159.21 284.191 L2163.58 284.191 L2163.58 287.756 L2159.21 287.756 Q2154.28 287.756 2152.4 285.927 Q2150.53 284.075 2150.53 279.214 L2150.53 265.14 L2147.4 265.14 L2147.4 261.83 L2150.53 261.83 L2150.53 254.469 L2154.81 254.469 Z\" fill=\"#000000\" fill-rule=\"evenodd\" fill-opacity=\"1\" /><path clip-path=\"url(#clip380)\" d=\"M2180.97 274.723 Q2175.8 274.723 2173.81 275.904 Q2171.82 277.084 2171.82 279.932 Q2171.82 282.2 2173.3 283.543 Q2174.81 284.862 2177.38 284.862 Q2180.92 284.862 2183.05 282.362 Q2185.2 279.839 2185.2 275.672 L2185.2 274.723 L2180.97 274.723 M2189.46 272.964 L2189.46 287.756 L2185.2 287.756 L2185.2 283.821 Q2183.74 286.182 2181.57 287.316 Q2179.39 288.427 2176.24 288.427 Q2172.26 288.427 2169.9 286.205 Q2167.56 283.959 2167.56 280.209 Q2167.56 275.834 2170.48 273.612 Q2173.42 271.39 2179.23 271.39 L2185.2 271.39 L2185.2 270.973 Q2185.2 268.034 2183.26 266.436 Q2181.34 264.816 2177.84 264.816 Q2175.62 264.816 2173.51 265.348 Q2171.41 265.881 2169.46 266.946 L2169.46 263.01 Q2171.8 262.108 2174 261.668 Q2176.2 261.205 2178.28 261.205 Q2183.9 261.205 2186.68 264.122 Q2189.46 267.038 2189.46 272.964 Z\" fill=\"#000000\" fill-rule=\"evenodd\" fill-opacity=\"1\" /><polyline clip-path=\"url(#clip380)\" style=\"stroke:#3da44d; stroke-linecap:round; stroke-linejoin:round; stroke-width:4; stroke-opacity:1; fill:none\" points=\"1925.52,322.316 2067.51,322.316 \"/>\n",
       "<path clip-path=\"url(#clip380)\" d=\"M2095.46 335.707 L2095.46 349.457 L2091.17 349.457 L2091.17 313.67 L2095.46 313.67 L2095.46 317.605 Q2096.8 315.29 2098.84 314.179 Q2100.9 313.045 2103.74 313.045 Q2108.47 313.045 2111.41 316.795 Q2114.37 320.545 2114.37 326.656 Q2114.37 332.767 2111.41 336.517 Q2108.47 340.267 2103.74 340.267 Q2100.9 340.267 2098.84 339.156 Q2096.8 338.022 2095.46 335.707 M2109.95 326.656 Q2109.95 321.957 2108 319.295 Q2106.08 316.61 2102.7 316.61 Q2099.32 316.61 2097.38 319.295 Q2095.46 321.957 2095.46 326.656 Q2095.46 331.355 2097.38 334.04 Q2099.32 336.702 2102.7 336.702 Q2106.08 336.702 2108 334.04 Q2109.95 331.355 2109.95 326.656 Z\" fill=\"#000000\" fill-rule=\"evenodd\" fill-opacity=\"1\" /><path clip-path=\"url(#clip380)\" d=\"M2137.96 314.434 L2137.96 318.462 Q2136.15 317.536 2134.21 317.073 Q2132.26 316.61 2130.18 316.61 Q2127.01 316.61 2125.41 317.582 Q2123.84 318.554 2123.84 320.499 Q2123.84 321.98 2124.97 322.837 Q2126.1 323.67 2129.53 324.434 L2130.99 324.758 Q2135.53 325.73 2137.42 327.512 Q2139.34 329.272 2139.34 332.443 Q2139.34 336.054 2136.47 338.161 Q2133.63 340.267 2128.63 340.267 Q2126.54 340.267 2124.28 339.85 Q2122.03 339.457 2119.53 338.647 L2119.53 334.249 Q2121.89 335.475 2124.18 336.1 Q2126.47 336.702 2128.72 336.702 Q2131.73 336.702 2133.35 335.684 Q2134.97 334.642 2134.97 332.767 Q2134.97 331.031 2133.79 330.105 Q2132.63 329.179 2128.67 328.323 L2127.19 327.975 Q2123.23 327.142 2121.47 325.429 Q2119.72 323.693 2119.72 320.684 Q2119.72 317.026 2122.31 315.036 Q2124.9 313.045 2129.67 313.045 Q2132.03 313.045 2134.11 313.392 Q2136.2 313.739 2137.96 314.434 Z\" fill=\"#000000\" fill-rule=\"evenodd\" fill-opacity=\"1\" /><path clip-path=\"url(#clip380)\" d=\"M2146.13 313.67 L2150.39 313.67 L2150.39 339.596 L2146.13 339.596 L2146.13 313.67 M2146.13 303.577 L2150.39 303.577 L2150.39 308.971 L2146.13 308.971 L2146.13 303.577 Z\" fill=\"#000000\" fill-rule=\"evenodd\" fill-opacity=\"1\" /><polyline clip-path=\"url(#clip380)\" style=\"stroke:#c271d2; stroke-linecap:round; stroke-linejoin:round; stroke-width:4; stroke-opacity:1; fill:none\" points=\"1925.52,374.156 2067.51,374.156 \"/>\n",
       "<path clip-path=\"url(#clip380)\" d=\"M2115.83 365.51 L2106.45 378.126 L2116.31 391.436 L2111.29 391.436 L2103.74 381.251 L2096.2 391.436 L2091.17 391.436 L2101.24 377.871 L2092.03 365.51 L2097.05 365.51 L2103.93 374.746 L2110.8 365.51 L2115.83 365.51 Z\" fill=\"#000000\" fill-rule=\"evenodd\" fill-opacity=\"1\" /><path clip-path=\"url(#clip380)\" d=\"M2140.16 366.505 L2140.16 370.487 Q2138.35 369.491 2136.52 369.005 Q2134.72 368.496 2132.86 368.496 Q2128.72 368.496 2126.43 371.135 Q2124.14 373.751 2124.14 378.496 Q2124.14 383.241 2126.43 385.88 Q2128.72 388.496 2132.86 388.496 Q2134.72 388.496 2136.52 388.01 Q2138.35 387.501 2140.16 386.505 L2140.16 390.44 Q2138.37 391.274 2136.45 391.69 Q2134.55 392.107 2132.4 392.107 Q2126.54 392.107 2123.1 388.426 Q2119.65 384.746 2119.65 378.496 Q2119.65 372.153 2123.12 368.519 Q2126.61 364.885 2132.68 364.885 Q2134.65 364.885 2136.52 365.302 Q2138.4 365.695 2140.16 366.505 Z\" fill=\"#000000\" fill-rule=\"evenodd\" fill-opacity=\"1\" /><path clip-path=\"url(#clip380)\" d=\"M2169.11 375.788 L2169.11 391.436 L2164.85 391.436 L2164.85 375.927 Q2164.85 372.246 2163.42 370.417 Q2161.98 368.589 2159.11 368.589 Q2155.66 368.589 2153.67 370.788 Q2151.68 372.987 2151.68 376.783 L2151.68 391.436 L2147.4 391.436 L2147.4 355.417 L2151.68 355.417 L2151.68 369.538 Q2153.21 367.2 2155.27 366.042 Q2157.35 364.885 2160.06 364.885 Q2164.53 364.885 2166.82 367.663 Q2169.11 370.417 2169.11 375.788 Z\" fill=\"#000000\" fill-rule=\"evenodd\" fill-opacity=\"1\" /><path clip-path=\"url(#clip380)\" d=\"M2177.61 365.51 L2181.87 365.51 L2181.87 391.436 L2177.61 391.436 L2177.61 365.51 M2177.61 355.417 L2181.87 355.417 L2181.87 360.811 L2177.61 360.811 L2177.61 355.417 Z\" fill=\"#000000\" fill-rule=\"evenodd\" fill-opacity=\"1\" /><path clip-path=\"url(#clip380)\" d=\"M2191.87 385.556 L2196.75 385.556 L2196.75 389.538 L2192.96 396.945 L2189.97 396.945 L2191.87 389.538 L2191.87 385.556 Z\" fill=\"#000000\" fill-rule=\"evenodd\" fill-opacity=\"1\" /><path clip-path=\"url(#clip380)\" d=\"M2205.41 381.204 L2205.41 365.51 L2209.67 365.51 L2209.67 381.042 Q2209.67 384.723 2211.1 386.575 Q2212.54 388.403 2215.41 388.403 Q2218.86 388.403 2220.85 386.204 Q2222.86 384.005 2222.86 380.209 L2222.86 365.51 L2227.12 365.51 L2227.12 391.436 L2222.86 391.436 L2222.86 387.454 Q2221.31 389.815 2219.25 390.973 Q2217.21 392.107 2214.51 392.107 Q2210.04 392.107 2207.72 389.329 Q2205.41 386.551 2205.41 381.204 M2216.13 364.885 L2216.13 364.885 Z\" fill=\"#000000\" fill-rule=\"evenodd\" fill-opacity=\"1\" /><polyline clip-path=\"url(#clip380)\" style=\"stroke:#ac8d18; stroke-linecap:round; stroke-linejoin:round; stroke-width:4; stroke-opacity:1; fill:none\" points=\"1925.52,425.996 2067.51,425.996 \"/>\n",
       "<path clip-path=\"url(#clip380)\" d=\"M2110.09 421.285 L2110.09 407.257 L2114.35 407.257 L2114.35 443.276 L2110.09 443.276 L2110.09 439.387 Q2108.74 441.702 2106.68 442.836 Q2104.65 443.947 2101.78 443.947 Q2097.08 443.947 2094.11 440.197 Q2091.17 436.447 2091.17 430.336 Q2091.17 424.225 2094.11 420.475 Q2097.08 416.725 2101.78 416.725 Q2104.65 416.725 2106.68 417.859 Q2108.74 418.97 2110.09 421.285 M2095.57 430.336 Q2095.57 435.035 2097.49 437.72 Q2099.44 440.382 2102.82 440.382 Q2106.2 440.382 2108.14 437.72 Q2110.09 435.035 2110.09 430.336 Q2110.09 425.637 2108.14 422.975 Q2106.2 420.29 2102.82 420.29 Q2099.44 420.29 2097.49 422.975 Q2095.57 425.637 2095.57 430.336 Z\" fill=\"#000000\" fill-rule=\"evenodd\" fill-opacity=\"1\" /><path clip-path=\"url(#clip380)\" d=\"M2145.29 429.248 L2145.29 431.331 L2125.71 431.331 Q2125.99 435.729 2128.35 438.044 Q2130.73 440.336 2134.97 440.336 Q2137.42 440.336 2139.72 439.734 Q2142.03 439.132 2144.3 437.929 L2144.3 441.956 Q2142.01 442.928 2139.6 443.438 Q2137.19 443.947 2134.72 443.947 Q2128.51 443.947 2124.88 440.336 Q2121.27 436.725 2121.27 430.567 Q2121.27 424.202 2124.69 420.475 Q2128.14 416.725 2133.97 416.725 Q2139.21 416.725 2142.24 420.105 Q2145.29 423.461 2145.29 429.248 M2141.03 427.998 Q2140.99 424.503 2139.07 422.419 Q2137.17 420.336 2134.02 420.336 Q2130.46 420.336 2128.3 422.35 Q2126.17 424.364 2125.85 428.021 L2141.03 427.998 Z\" fill=\"#000000\" fill-rule=\"evenodd\" fill-opacity=\"1\" /><path clip-path=\"url(#clip380)\" d=\"M2167.31 421.331 Q2166.59 420.915 2165.73 420.73 Q2164.9 420.521 2163.88 420.521 Q2160.27 420.521 2158.33 422.882 Q2156.41 425.22 2156.41 429.618 L2156.41 443.276 L2152.12 443.276 L2152.12 417.35 L2156.41 417.35 L2156.41 421.378 Q2157.75 419.017 2159.9 417.882 Q2162.05 416.725 2165.13 416.725 Q2165.57 416.725 2166.1 416.794 Q2166.64 416.841 2167.28 416.956 L2167.31 421.331 Z\" fill=\"#000000\" fill-rule=\"evenodd\" fill-opacity=\"1\" /><path clip-path=\"url(#clip380)\" d=\"M2192.05 417.35 L2182.68 429.966 L2192.54 443.276 L2187.52 443.276 L2179.97 433.091 L2172.42 443.276 L2167.4 443.276 L2177.47 429.711 L2168.26 417.35 L2173.28 417.35 L2180.15 426.586 L2187.03 417.35 L2192.05 417.35 Z\" fill=\"#000000\" fill-rule=\"evenodd\" fill-opacity=\"1\" /><path clip-path=\"url(#clip380)\" d=\"M2216.38 418.345 L2216.38 422.327 Q2214.58 421.331 2212.75 420.845 Q2210.94 420.336 2209.09 420.336 Q2204.95 420.336 2202.65 422.975 Q2200.36 425.591 2200.36 430.336 Q2200.36 435.081 2202.65 437.72 Q2204.95 440.336 2209.09 440.336 Q2210.94 440.336 2212.75 439.85 Q2214.58 439.341 2216.38 438.345 L2216.38 442.28 Q2214.6 443.114 2212.68 443.53 Q2210.78 443.947 2208.63 443.947 Q2202.77 443.947 2199.32 440.266 Q2195.87 436.586 2195.87 430.336 Q2195.87 423.993 2199.34 420.359 Q2202.84 416.725 2208.9 416.725 Q2210.87 416.725 2212.75 417.142 Q2214.62 417.535 2216.38 418.345 Z\" fill=\"#000000\" fill-rule=\"evenodd\" fill-opacity=\"1\" /><path clip-path=\"url(#clip380)\" d=\"M2245.34 427.628 L2245.34 443.276 L2241.08 443.276 L2241.08 427.767 Q2241.08 424.086 2239.65 422.257 Q2238.21 420.429 2235.34 420.429 Q2231.89 420.429 2229.9 422.628 Q2227.91 424.827 2227.91 428.623 L2227.91 443.276 L2223.63 443.276 L2223.63 407.257 L2227.91 407.257 L2227.91 421.378 Q2229.44 419.04 2231.5 417.882 Q2233.58 416.725 2236.29 416.725 Q2240.76 416.725 2243.05 419.503 Q2245.34 422.257 2245.34 427.628 Z\" fill=\"#000000\" fill-rule=\"evenodd\" fill-opacity=\"1\" /><path clip-path=\"url(#clip380)\" d=\"M2253.84 417.35 L2258.09 417.35 L2258.09 443.276 L2253.84 443.276 L2253.84 417.35 M2253.84 407.257 L2258.09 407.257 L2258.09 412.651 L2253.84 412.651 L2253.84 407.257 Z\" fill=\"#000000\" fill-rule=\"evenodd\" fill-opacity=\"1\" /><polyline clip-path=\"url(#clip380)\" style=\"stroke:#00a9ad; stroke-linecap:round; stroke-linejoin:round; stroke-width:4; stroke-opacity:1; fill:none\" points=\"1925.52,477.836 2067.51,477.836 \"/>\n",
       "<path clip-path=\"url(#clip380)\" d=\"M2095.46 491.227 L2095.46 504.977 L2091.17 504.977 L2091.17 469.19 L2095.46 469.19 L2095.46 473.125 Q2096.8 470.81 2098.84 469.699 Q2100.9 468.565 2103.74 468.565 Q2108.47 468.565 2111.41 472.315 Q2114.37 476.065 2114.37 482.176 Q2114.37 488.287 2111.41 492.037 Q2108.47 495.787 2103.74 495.787 Q2100.9 495.787 2098.84 494.676 Q2096.8 493.542 2095.46 491.227 M2109.95 482.176 Q2109.95 477.477 2108 474.815 Q2106.08 472.13 2102.7 472.13 Q2099.32 472.13 2097.38 474.815 Q2095.46 477.477 2095.46 482.176 Q2095.46 486.875 2097.38 489.56 Q2099.32 492.222 2102.7 492.222 Q2106.08 492.222 2108 489.56 Q2109.95 486.875 2109.95 482.176 Z\" fill=\"#000000\" fill-rule=\"evenodd\" fill-opacity=\"1\" /><path clip-path=\"url(#clip380)\" d=\"M2137.96 469.954 L2137.96 473.982 Q2136.15 473.056 2134.21 472.593 Q2132.26 472.13 2130.18 472.13 Q2127.01 472.13 2125.41 473.102 Q2123.84 474.074 2123.84 476.019 Q2123.84 477.5 2124.97 478.357 Q2126.1 479.19 2129.53 479.954 L2130.99 480.278 Q2135.53 481.25 2137.42 483.032 Q2139.34 484.792 2139.34 487.963 Q2139.34 491.574 2136.47 493.681 Q2133.63 495.787 2128.63 495.787 Q2126.54 495.787 2124.28 495.37 Q2122.03 494.977 2119.53 494.167 L2119.53 489.769 Q2121.89 490.995 2124.18 491.62 Q2126.47 492.222 2128.72 492.222 Q2131.73 492.222 2133.35 491.204 Q2134.97 490.162 2134.97 488.287 Q2134.97 486.551 2133.79 485.625 Q2132.63 484.699 2128.67 483.843 L2127.19 483.495 Q2123.23 482.662 2121.47 480.949 Q2119.72 479.213 2119.72 476.204 Q2119.72 472.546 2122.31 470.556 Q2124.9 468.565 2129.67 468.565 Q2132.03 468.565 2134.11 468.912 Q2136.2 469.259 2137.96 469.954 Z\" fill=\"#000000\" fill-rule=\"evenodd\" fill-opacity=\"1\" /><path clip-path=\"url(#clip380)\" d=\"M2146.13 469.19 L2150.39 469.19 L2150.39 495.116 L2146.13 495.116 L2146.13 469.19 M2146.13 459.097 L2150.39 459.097 L2150.39 464.491 L2146.13 464.491 L2146.13 459.097 Z\" fill=\"#000000\" fill-rule=\"evenodd\" fill-opacity=\"1\" /><path clip-path=\"url(#clip380)\" d=\"M2160.39 489.236 L2165.27 489.236 L2165.27 493.218 L2161.47 500.625 L2158.49 500.625 L2160.39 493.218 L2160.39 489.236 Z\" fill=\"#000000\" fill-rule=\"evenodd\" fill-opacity=\"1\" /><path clip-path=\"url(#clip380)\" d=\"M2189.39 473.171 Q2188.67 472.755 2187.82 472.57 Q2186.98 472.361 2185.97 472.361 Q2182.35 472.361 2180.41 474.722 Q2178.49 477.06 2178.49 481.458 L2178.49 495.116 L2174.21 495.116 L2174.21 469.19 L2178.49 469.19 L2178.49 473.218 Q2179.83 470.857 2181.98 469.722 Q2184.14 468.565 2187.22 468.565 Q2187.65 468.565 2188.19 468.634 Q2188.72 468.681 2189.37 468.796 L2189.39 473.171 Z\" fill=\"#000000\" fill-rule=\"evenodd\" fill-opacity=\"1\" /><polyline clip-path=\"url(#clip380)\" style=\"stroke:#ed5d92; stroke-linecap:round; stroke-linejoin:round; stroke-width:4; stroke-opacity:1; fill:none\" points=\"1925.52,529.676 2067.51,529.676 \"/>\n",
       "<path clip-path=\"url(#clip380)\" d=\"M2115.83 521.03 L2106.45 533.646 L2116.31 546.956 L2111.29 546.956 L2103.74 536.771 L2096.2 546.956 L2091.17 546.956 L2101.24 533.391 L2092.03 521.03 L2097.05 521.03 L2103.93 530.266 L2110.8 521.03 L2115.83 521.03 Z\" fill=\"#000000\" fill-rule=\"evenodd\" fill-opacity=\"1\" /><path clip-path=\"url(#clip380)\" d=\"M2140.16 522.025 L2140.16 526.007 Q2138.35 525.011 2136.52 524.525 Q2134.72 524.016 2132.86 524.016 Q2128.72 524.016 2126.43 526.655 Q2124.14 529.271 2124.14 534.016 Q2124.14 538.761 2126.43 541.4 Q2128.72 544.016 2132.86 544.016 Q2134.72 544.016 2136.52 543.53 Q2138.35 543.021 2140.16 542.025 L2140.16 545.96 Q2138.37 546.794 2136.45 547.21 Q2134.55 547.627 2132.4 547.627 Q2126.54 547.627 2123.1 543.946 Q2119.65 540.266 2119.65 534.016 Q2119.65 527.673 2123.12 524.039 Q2126.61 520.405 2132.68 520.405 Q2134.65 520.405 2136.52 520.822 Q2138.4 521.215 2140.16 522.025 Z\" fill=\"#000000\" fill-rule=\"evenodd\" fill-opacity=\"1\" /><path clip-path=\"url(#clip380)\" d=\"M2169.11 531.308 L2169.11 546.956 L2164.85 546.956 L2164.85 531.447 Q2164.85 527.766 2163.42 525.937 Q2161.98 524.109 2159.11 524.109 Q2155.66 524.109 2153.67 526.308 Q2151.68 528.507 2151.68 532.303 L2151.68 546.956 L2147.4 546.956 L2147.4 510.937 L2151.68 510.937 L2151.68 525.058 Q2153.21 522.72 2155.27 521.562 Q2157.35 520.405 2160.06 520.405 Q2164.53 520.405 2166.82 523.183 Q2169.11 525.937 2169.11 531.308 Z\" fill=\"#000000\" fill-rule=\"evenodd\" fill-opacity=\"1\" /><path clip-path=\"url(#clip380)\" d=\"M2177.61 521.03 L2181.87 521.03 L2181.87 546.956 L2177.61 546.956 L2177.61 521.03 M2177.61 510.937 L2181.87 510.937 L2181.87 516.331 L2177.61 516.331 L2177.61 510.937 Z\" fill=\"#000000\" fill-rule=\"evenodd\" fill-opacity=\"1\" /></svg>\n"
      ]
     },
     "execution_count": 337,
     "metadata": {},
     "output_type": "execute_result"
    }
   ],
   "source": [
    "using Plots #showing initial data and the initial status of the horizon finder\n",
    "plot(compactify.(initX[4:L-3]), state_array[4:L-3,1:7], xaxis=\"r\",title=\"Initial Data\", labels=[\"m\" \"beta\" \"psi\" \"xchi,u\" \"derxchi\" \"psi,r\" \"xchi\"],xlim=[0,1])"
   ]
  },
  {
   "cell_type": "code",
   "execution_count": 338,
   "id": "15bbf245",
   "metadata": {},
   "outputs": [],
   "source": [
    "function compactify(r)\n",
    "    return r/(1+r)\n",
    "end\n",
    "function uncompactify(x)\n",
    "    return x/(1-x)\n",
    "end;"
   ]
  },
  {
   "cell_type": "markdown",
   "id": "9b444ece",
   "metadata": {
    "papermill": {
     "duration": 0.009161,
     "end_time": "2023-03-28T18:06:25.373170",
     "exception": false,
     "start_time": "2023-03-28T18:06:25.364009",
     "status": "completed"
    },
    "tags": []
   },
   "source": [
    "# Defining the initial state array for the evolution m β Ψ and Ψ,x"
   ]
  },
  {
   "cell_type": "code",
   "execution_count": 339,
   "id": "9902ffab",
   "metadata": {
    "execution": {
     "iopub.execute_input": "2023-03-28T19:06:25.389000Z",
     "iopub.status.busy": "2023-03-28T19:06:25.388000Z",
     "iopub.status.idle": "2023-03-28T19:06:32.710000Z",
     "shell.execute_reply": "2023-03-28T19:06:32.710000Z"
    },
    "papermill": {
     "duration": 7.335269,
     "end_time": "2023-03-28T18:06:32.715990",
     "exception": false,
     "start_time": "2023-03-28T18:06:25.380721",
     "status": "completed"
    },
    "tags": []
   },
   "outputs": [],
   "source": [
    "using CSV, Tables\n",
    "#CSV.write(dir*\"/res$res/time_step0.csv\", Tables.table(state_array), writeheader=false)\n",
    "\n",
    "global files=[\"m\", \"beta\", \"psi\", \"deruxchi\", \"derxchi\", \"derpsi\", \"xchi\", \"massloss\"]\n",
    "\n",
    "\n",
    "massloss = zeros(L)\n",
    "massloss[4:L-3] = masslossfunc(state_array)[4:L-3]\n",
    "print_muninn(files, 0, [state_array[:,1:7] massloss],res,\"w\", state_array[:,8])"
   ]
  },
  {
   "cell_type": "code",
   "execution_count": 340,
   "id": "fff1426a",
   "metadata": {
    "execution": {
     "iopub.execute_input": "2023-03-28T19:06:33.154000Z",
     "iopub.status.busy": "2023-03-28T19:06:32.734000Z",
     "iopub.status.idle": "2023-03-28T19:06:33.884000Z",
     "shell.execute_reply": "2023-03-28T19:06:33.884000Z"
    },
    "papermill": {
     "duration": 1.164178,
     "end_time": "2023-03-28T18:06:33.889802",
     "exception": false,
     "start_time": "2023-03-28T18:06:32.725624",
     "status": "completed"
    },
    "tags": []
   },
   "outputs": [],
   "source": [
    "time=0.0\n",
    "criticality=0.0\n",
    "explode=0.0\n",
    "evol_stats = [criticality A sigma r0 time explode run]\n",
    "global monitor_ratio = zeros(L);\n",
    "#CSV.write(dir*\"/parameters.csv\", Tables.table(evol_stats), writeheader=true, header=[\"criticality\", \"A\", \"sigma\", \"r0\", \"time\", \"explode\", \"run\"])"
   ]
  },
  {
   "cell_type": "code",
   "execution_count": 341,
   "id": "9e9abd7d",
   "metadata": {},
   "outputs": [
    {
     "name": "stdout",
     "output_type": "stream",
     "text": [
      "9.999999999999998\n"
     ]
    }
   ],
   "source": [
    "ginit=speed(initX,state_array[:,1],state_array[:,2])\n",
    "println(update_dt(initX,state_array[:,1],state_array[:,2],dx,ginit)/dt)"
   ]
  },
  {
   "cell_type": "code",
   "execution_count": 342,
   "id": "4e0df300",
   "metadata": {},
   "outputs": [
    {
     "data": {
      "text/plain": [
       "4"
      ]
     },
     "execution_count": 342,
     "metadata": {},
     "output_type": "execute_result"
    }
   ],
   "source": [
    "using Base.Threads\n",
    "Threads.nthreads()"
   ]
  },
  {
   "cell_type": "code",
   "execution_count": 343,
   "id": "27a5bccd",
   "metadata": {},
   "outputs": [
    {
     "data": {
      "text/plain": [
       "0.001"
      ]
     },
     "execution_count": 343,
     "metadata": {},
     "output_type": "execute_result"
    }
   ],
   "source": [
    "dt=0.001/2^(m-1)"
   ]
  },
  {
   "cell_type": "markdown",
   "id": "42e2c73d",
   "metadata": {
    "papermill": {
     "duration": 0.007626,
     "end_time": "2023-03-28T18:06:33.908346",
     "exception": false,
     "start_time": "2023-03-28T18:06:33.900720",
     "status": "completed"
    },
    "tags": []
   },
   "source": [
    " ## Time evolution"
   ]
  },
  {
   "cell_type": "code",
   "execution_count": 344,
   "id": "aeeede24",
   "metadata": {},
   "outputs": [
    {
     "data": {
      "text/plain": [
       "207×8 Matrix{Float64}:\n",
       " 0.0  0.0  0.0   0.0           3.90243e-5   0.0  -4.88286e-7  -0.03\n",
       " 0.0  0.0  0.0   0.0           1.9129e-5    0.0  -2.06731e-7  -0.02\n",
       " 0.0  0.0  0.0   0.0           9.11728e-6   0.0  -7.14907e-8  -0.01\n",
       " 0.0  0.0  0.0   0.0           6.08657e-6   0.0   0.0          0.0\n",
       " 0.0  0.0  0.0   1.55067e-6    9.11728e-6   0.0   7.14907e-8   0.01\n",
       " 0.0  0.0  0.0   6.67124e-6    1.9129e-5    0.0   2.06731e-7   0.02\n",
       " 0.0  0.0  0.0   1.68286e-5    3.90243e-5   0.0   4.88286e-7   0.03\n",
       " 0.0  0.0  0.0   3.46274e-5    7.39881e-5   0.0   1.03888e-6   0.04\n",
       " 0.0  0.0  0.0   6.39673e-5    0.000131791  0.0   2.0458e-6    0.05\n",
       " 0.0  0.0  0.0   0.000110208   0.000223119  0.0   3.78824e-6   0.06\n",
       " 0.0  0.0  0.0   0.000180319   0.000361894  0.0   6.6682e-6    0.07\n",
       " 0.0  0.0  0.0   0.000282971   0.000565457  0.0   1.12439e-5   0.08\n",
       " 0.0  0.0  0.0   0.000428492   0.000854497  0.0   1.82639e-5   0.09\n",
       " ⋮                                          ⋮                 \n",
       " 0.0  0.0  0.0  -3.44708e-6   -3.78865e-7   0.0   4.61573e-8   1.92\n",
       " 0.0  0.0  0.0  -3.43156e-6   -3.47852e-7   0.0   4.2526e-8    1.93\n",
       " 0.0  0.0  0.0  -3.41736e-6   -3.19464e-7   0.0   3.91915e-8   1.94\n",
       " 0.0  0.0  0.0  -3.40436e-6   -2.93473e-7   0.0   3.61287e-8   1.95\n",
       " 0.0  0.0  0.0  -3.39664e-6   -2.69671e-7   0.0   3.33147e-8   1.96\n",
       " 0.0  0.0  0.0  -3.3396e-6    -2.47867e-7   0.0   3.07286e-8   1.97\n",
       " 0.0  0.0  0.0  -3.39635e-6   -2.65989e-8   0.0   2.83513e-8   1.98\n",
       " 0.0  0.0  0.0  -3.72372e-6   -1.01472e-6   0.0   2.61653e-8   1.99\n",
       " 0.0  0.0  0.0  -4.15387e-6   -1.01472e-6   0.0   0.0          2.0\n",
       " 0.0  0.0  0.0   0.0           2.17091e-6   0.0  -7.43151e-8   2.01\n",
       " 0.0  0.0  0.0   0.0           1.07397e-5   0.0  -2.20951e-7   2.02\n",
       " 0.0  0.0  0.0   0.0           2.68891e-5   0.0  -4.64077e-7   2.03"
      ]
     },
     "execution_count": 344,
     "metadata": {},
     "output_type": "execute_result"
    }
   ],
   "source": [
    "state_array"
   ]
  },
  {
   "cell_type": "markdown",
   "id": "7da47594",
   "metadata": {
    "papermill": {
     "duration": 0.007471,
     "end_time": "2023-03-28T18:06:33.923805",
     "exception": false,
     "start_time": "2023-03-28T18:06:33.916334",
     "status": "completed"
    },
    "tags": []
   },
   "source": [
    "fixed grid"
   ]
  },
  {
   "cell_type": "code",
   "execution_count": 345,
   "id": "fcb7ae3f",
   "metadata": {
    "execution": {
     "iopub.execute_input": "2023-03-28T19:06:33.940000Z",
     "iopub.status.busy": "2023-03-28T19:06:33.940000Z",
     "iopub.status.idle": "2023-03-28T21:02:19.379000Z",
     "shell.execute_reply": "2023-03-28T21:02:19.378000Z"
    },
    "papermill": {
     "duration": 6945.452732,
     "end_time": "2023-03-28T20:02:19.384591",
     "exception": false,
     "start_time": "2023-03-28T18:06:33.931859",
     "status": "completed"
    },
    "tags": []
   },
   "outputs": [
    {
     "name": "stdout",
     "output_type": "stream",
     "text": [
      "\n",
      "\n",
      "iteration 100 dt is 0.001, t=0.10000000000000007 speed is 0.5000000000000001, dx/dt=10.0\n",
      "\n",
      "\n",
      "iteration 200 dt is 0.001, t=0.20000000000000015 speed is 0.5000000000000001, dx/dt=10.0\n",
      "\n",
      "\n",
      "iteration 300 dt is 0.001, t=0.3000000000000002 speed is 0.5000000000000001, dx/dt=10.0\n",
      "\n",
      "\n",
      "iteration 400 dt is 0.001, t=0.4000000000000003 speed is 0.5000000000000001, dx/dt=10.0\n",
      "\n",
      "\n",
      "iteration 500 dt is 0.001, t=0.5000000000000003 speed is 0.5000000000000001, dx/dt=10.0\n",
      "\n",
      "\n",
      "iteration 600 dt is 0.001, t=0.6000000000000004 speed is 0.5000000000000001, dx/dt=10.0\n",
      "\n",
      "\n",
      "iteration 700 dt is 0.001, t=0.7000000000000005 speed is 0.5000000000000001, dx/dt=10.0\n",
      "\n",
      "\n",
      "iteration 800 dt is 0.001, t=0.8000000000000006 speed is 0.5000000000000001, dx/dt=10.0\n",
      "\n",
      "\n",
      "iteration 900 dt is 0.001, t=0.9000000000000007 speed is 0.5000000000000001, dx/dt=10.0\n",
      "\n",
      "\n",
      "iteration 1000 dt is 0.001, t=1.0000000000000007 speed is 0.5000000000000001, dx/dt=10.0\n",
      "\n",
      "\n",
      "iteration 1100 dt is 0.001, t=1.0999999999999897 speed is 0.5000000000000001, dx/dt=10.0\n",
      "\n",
      "\n",
      "iteration 1200 dt is 0.001, t=1.1999999999999786 speed is 0.5000000000000001, dx/dt=10.0\n",
      "\n",
      "\n",
      "iteration 1300 dt is 0.001, t=1.2999999999999676 speed is 0.5000000000000001, dx/dt=10.0\n",
      "\n",
      "\n",
      "iteration 1400 dt is 0.001, t=1.3999999999999566 speed is 0.5000000000000001, dx/dt=10.0\n",
      "\n",
      "\n",
      "iteration 1500 dt is 0.001, t=1.4999999999999456 speed is 0.5000000000000001, dx/dt=10.0\n",
      "\n",
      "\n",
      "iteration 1600 dt is 0.001, t=1.5999999999999346 speed is 0.5000000000000001, dx/dt=10.0\n",
      "\n",
      "\n",
      "iteration 1700 dt is 0.001, t=1.6999999999999236 speed is 0.5000000000000001, dx/dt=10.0\n",
      "\n",
      "\n",
      "iteration 1800 dt is 0.001, t=1.7999999999999126 speed is 0.5000000000000001, dx/dt=10.0\n",
      "\n",
      "\n",
      "iteration 1900 dt is 0.001, t=1.8999999999999015 speed is 0.5000000000000001, dx/dt=10.0\n",
      "\n",
      "\n",
      "iteration 2000 dt is 0.001, t=1.9999999999998905 speed is 0.5000000000000001, dx/dt=10.0\n",
      "\n",
      "\n",
      "iteration 2100 dt is 0.001, t=2.0999999999998797 speed is 0.5000000000000001, dx/dt=10.0\n",
      "\n",
      "\n",
      "iteration 2200 dt is 0.001, t=2.1999999999998687 speed is 0.5000000000000001, dx/dt=10.0\n",
      "\n",
      "\n",
      "iteration 2300 dt is 0.001, t=2.2999999999998577 speed is 0.5000000000000001, dx/dt=10.0\n",
      "\n",
      "\n",
      "iteration 2400 dt is 0.001, t=2.3999999999998467 speed is 0.5000000000000001, dx/dt=10.0\n",
      "\n",
      "\n",
      "iteration 2500 dt is 0.001, t=2.4999999999998357 speed is 0.5000000000000001, dx/dt=10.0\n",
      "\n",
      "\n",
      "iteration 2600 dt is 0.001, t=2.5999999999998247 speed is 0.5000000000000001, dx/dt=10.0\n",
      "\n",
      "\n",
      "iteration 2700 dt is 0.001, t=2.6999999999998137 speed is 0.5000000000000001, dx/dt=10.0\n",
      "\n",
      "\n",
      "iteration 2800 dt is 0.001, t=2.7999999999998026 speed is 0.5000000000000001, dx/dt=10.0\n",
      "\n",
      "\n",
      "iteration 2900 dt is 0.001, t=2.8999999999997916 speed is 0.5000000000000001, dx/dt=10.0\n",
      "\n",
      "\n",
      "iteration 3000 dt is 0.001, t=2.9999999999997806 speed is 0.5000000000000001, dx/dt=10.0\n"
     ]
    }
   ],
   "source": [
    "finaltime=3\n",
    "evol_stats, T_interp = timeevolution(state_array,finaltime,run);\n",
    "#CSV.write(dir*\"/timearray$res.csv\", Tables.table(T_interp), writeheader=false);\n",
    "#CSV.write(dir*\"/parameters.csv\", Tables.table(evol_stats), writeheader=false);"
   ]
  },
  {
   "cell_type": "code",
   "execution_count": null,
   "id": "ef57be5a",
   "metadata": {},
   "outputs": [],
   "source": []
  },
  {
   "cell_type": "code",
   "execution_count": null,
   "id": "fa24f38b",
   "metadata": {},
   "outputs": [],
   "source": []
  },
  {
   "cell_type": "code",
   "execution_count": null,
   "id": "26374227",
   "metadata": {},
   "outputs": [],
   "source": []
  },
  {
   "cell_type": "code",
   "execution_count": null,
   "id": "b45c67a8",
   "metadata": {},
   "outputs": [],
   "source": []
  }
 ],
 "metadata": {
  "@webio": {
   "lastCommId": null,
   "lastKernelId": null
  },
  "kernelspec": {
   "display_name": "Julia 1.8.0",
   "language": "julia",
   "name": "julia-1.8"
  },
  "language_info": {
   "file_extension": ".jl",
   "mimetype": "application/julia",
   "name": "julia",
   "version": "1.8.0"
  },
  "papermill": {
   "default_parameters": {},
   "duration": 7025.507115,
   "end_time": "2023-03-28T20:03:06.430756",
   "environment_variables": {},
   "exception": null,
   "input_path": "Evolution_ScalarField.ipynb",
   "output_path": "Evolution_ScalarField.ipynb",
   "parameters": {
    "A": 0.001,
    "m": 3
   },
   "start_time": "2023-03-28T18:06:00.923641",
   "version": "2.4.0"
  }
 },
 "nbformat": 4,
 "nbformat_minor": 5
}
