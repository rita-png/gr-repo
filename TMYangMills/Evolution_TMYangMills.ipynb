{
 "cells": [
  {
   "cell_type": "markdown",
   "id": "d88601a8",
   "metadata": {
    "papermill": {
     "duration": 0.010813,
     "end_time": "2023-03-28T18:06:09.878411",
     "exception": false,
     "start_time": "2023-03-28T18:06:09.867598",
     "status": "completed"
    },
    "tags": []
   },
   "source": [
    "# Evolution of Einstein's equations"
   ]
  },
  {
   "cell_type": "markdown",
   "id": "03c607c7",
   "metadata": {
    "papermill": {
     "duration": 0.006777,
     "end_time": "2023-03-28T18:06:09.893152",
     "exception": false,
     "start_time": "2023-03-28T18:06:09.886375",
     "status": "completed"
    },
    "tags": []
   },
   "source": [
    "# Initial data , setting length of the domain and discretization\n"
   ]
  },
  {
   "cell_type": "markdown",
   "id": "43aebde7",
   "metadata": {
    "execution": {
     "iopub.execute_input": "2023-03-28T19:06:10.907000Z",
     "iopub.status.busy": "2023-03-28T19:06:09.907000Z",
     "iopub.status.idle": "2023-03-28T19:06:12.147000Z",
     "shell.execute_reply": "2023-03-28T19:06:12.110000Z"
    },
    "papermill": {
     "duration": 2.251282,
     "end_time": "2023-03-28T18:06:12.151193",
     "exception": false,
     "start_time": "2023-03-28T18:06:09.899911",
     "status": "completed"
    },
    "tags": [
     "injected-parameters"
    ]
   },
   "source": [
    "# Parameters"
   ]
  },
  {
   "cell_type": "code",
   "execution_count": 595,
   "id": "a28c43b6",
   "metadata": {},
   "outputs": [
    {
     "data": {
      "text/plain": [
       "1"
      ]
     },
     "execution_count": 595,
     "metadata": {},
     "output_type": "execute_result"
    }
   ],
   "source": [
    "m=1\n",
    "p = 0.1#0.4\n",
    "q = 1#1.0#0.1#0.1#0.01#0.9#0.01#0.5 #Pure SF is q=0\n",
    "run = 1"
   ]
  },
  {
   "cell_type": "markdown",
   "id": "b3b8c463",
   "metadata": {},
   "source": [
    "Choose your grid"
   ]
  },
  {
   "cell_type": "code",
   "execution_count": 596,
   "id": "809ea402",
   "metadata": {},
   "outputs": [
    {
     "data": {
      "text/plain": [
       "false"
      ]
     },
     "execution_count": 596,
     "metadata": {},
     "output_type": "execute_result"
    }
   ],
   "source": [
    "global compactified=false\n",
    "global loggrid=false\n",
    "global bisection=false\n",
    "global zeroformat=false\n",
    "global twod=true\n",
    "\n",
    "global source=false"
   ]
  },
  {
   "cell_type": "code",
   "execution_count": 597,
   "id": "73b14643",
   "metadata": {},
   "outputs": [
    {
     "data": {
      "text/plain": [
       "compactify (generic function with 1 method)"
      ]
     },
     "execution_count": 597,
     "metadata": {},
     "output_type": "execute_result"
    }
   ],
   "source": [
    "function compactify(r)\n",
    "    x=r/(1+r)\n",
    "    return x\n",
    "end"
   ]
  },
  {
   "cell_type": "code",
   "execution_count": 598,
   "id": "80a113e0",
   "metadata": {},
   "outputs": [],
   "source": [
    "using Quadmath, Printf\n",
    "\n",
    "res=m;\n",
    "N=2.0^m*400.0/2.0\n",
    "\n",
    "if compactified==true\n",
    "    Xf=1.0\n",
    "else\n",
    "    Xf=2.0\n",
    "end\n",
    "\n",
    "dx=Xf/N\n",
    "if loggrid==false\n",
    "    dt=0.5*round(dx,digits=10)\n",
    "else\n",
    "    dt=0.1*round(dx,digits=10)\n",
    "end\n",
    "Nt=N\n",
    "Tf=Nt*dt;"
   ]
  },
  {
   "cell_type": "code",
   "execution_count": 599,
   "id": "4f752d54",
   "metadata": {
    "execution": {
     "iopub.execute_input": "2023-03-28T19:06:12.356000Z",
     "iopub.status.busy": "2023-03-28T19:06:12.356000Z",
     "iopub.status.idle": "2023-03-28T19:06:12.364000Z",
     "shell.execute_reply": "2023-03-28T19:06:12.364000Z"
    },
    "papermill": {
     "duration": 0.020815,
     "end_time": "2023-03-28T18:06:12.368761",
     "exception": false,
     "start_time": "2023-03-28T18:06:12.347946",
     "status": "completed"
    },
    "tags": []
   },
   "outputs": [
    {
     "name": "stdout",
     "output_type": "stream",
     "text": [
      "400.0"
     ]
    }
   ],
   "source": [
    "print(N)"
   ]
  },
  {
   "cell_type": "code",
   "execution_count": 600,
   "id": "78fb78a5",
   "metadata": {
    "execution": {
     "iopub.execute_input": "2023-03-28T19:06:12.419000Z",
     "iopub.status.busy": "2023-03-28T19:06:12.419000Z",
     "iopub.status.idle": "2023-03-28T19:06:13.308000Z",
     "shell.execute_reply": "2023-03-28T19:06:13.308000Z"
    },
    "papermill": {
     "duration": 0.90283,
     "end_time": "2023-03-28T18:06:13.314381",
     "exception": false,
     "start_time": "2023-03-28T18:06:12.411551",
     "status": "completed"
    },
    "tags": []
   },
   "outputs": [
    {
     "data": {
      "text/plain": [
       "\"/home/rita13santos/Desktop/MSc Thesis/Git/TMYangMills/DATA\""
      ]
     },
     "execution_count": 600,
     "metadata": {},
     "output_type": "execute_result"
    }
   ],
   "source": [
    "global dir = \"/home/rita13santos/Desktop/MSc Thesis/Git/TMYangMills/DATA\""
   ]
  },
  {
   "cell_type": "markdown",
   "id": "e2dd4335",
   "metadata": {
    "papermill": {
     "duration": 0.007006,
     "end_time": "2023-03-28T18:06:13.351329",
     "exception": false,
     "start_time": "2023-03-28T18:06:13.344323",
     "status": "completed"
    },
    "tags": []
   },
   "source": [
    "# Grid"
   ]
  },
  {
   "cell_type": "code",
   "execution_count": 645,
   "id": "bc5288f8",
   "metadata": {
    "execution": {
     "iopub.execute_input": "2023-03-28T19:06:13.636000Z",
     "iopub.status.busy": "2023-03-28T19:06:13.636000Z",
     "iopub.status.idle": "2023-03-28T19:06:14.762000Z",
     "shell.execute_reply": "2023-03-28T19:06:14.762000Z"
    },
    "papermill": {
     "duration": 1.137394,
     "end_time": "2023-03-28T18:06:14.765909",
     "exception": false,
     "start_time": "2023-03-28T18:06:13.628515",
     "status": "completed"
    },
    "tags": []
   },
   "outputs": [],
   "source": [
    "using Printf\n",
    "include(\"./TMYangMills.jl\");"
   ]
  },
  {
   "cell_type": "code",
   "execution_count": 646,
   "id": "de24fea3",
   "metadata": {
    "execution": {
     "iopub.execute_input": "2023-03-28T19:06:13.366000Z",
     "iopub.status.busy": "2023-03-28T19:06:13.366000Z",
     "iopub.status.idle": "2023-03-28T19:06:13.571000Z",
     "shell.execute_reply": "2023-03-28T19:06:13.571000Z"
    },
    "papermill": {
     "duration": 0.216104,
     "end_time": "2023-03-28T18:06:13.574666",
     "exception": false,
     "start_time": "2023-03-28T18:06:13.358562",
     "status": "completed"
    },
    "tags": []
   },
   "outputs": [
    {
     "name": "stdout",
     "output_type": "stream",
     "text": [
      "step size is  0.005\n",
      "the time step is 0.001\n"
     ]
    }
   ],
   "source": [
    "ori=0.0#Float128(0.0)#0.0;\n",
    "initX1 = nothing\n",
    "N=int(N)\n",
    "initX1=range(ori, stop=Xf, step=dx);\n",
    "initX = range(round(ori-3.0*dx,digits=10), stop=Xf+3.0*dx, step=dx)\n",
    "\n",
    "L=length(initX);\n",
    "println(\"step size is  \", dx)\n",
    "println(\"the time step is \", dt)\n",
    "\n",
    "if loggrid==true\n",
    "    global originalX=initX\n",
    "    xtilde=gridfunc(initX1)\n",
    "    initX1=xtilde\n",
    "    initX=collect(initX)\n",
    "    initX[4:L-3]=xtilde\n",
    "end;"
   ]
  },
  {
   "cell_type": "markdown",
   "id": "80ab1480",
   "metadata": {
    "papermill": {
     "duration": 0.007525,
     "end_time": "2023-03-28T18:06:14.783937",
     "exception": false,
     "start_time": "2023-03-28T18:06:14.776412",
     "status": "completed"
    },
    "tags": []
   },
   "source": [
    "# Initial data of m β Ψ and Ψ,x"
   ]
  },
  {
   "cell_type": "code",
   "execution_count": 647,
   "id": "d0af654c",
   "metadata": {
    "execution": {
     "iopub.execute_input": "2023-03-28T19:06:14.799000Z",
     "iopub.status.busy": "2023-03-28T19:06:14.799000Z",
     "iopub.status.idle": "2023-03-28T19:06:22.269000Z",
     "shell.execute_reply": "2023-03-28T19:06:22.269000Z"
    },
    "papermill": {
     "duration": 7.48258,
     "end_time": "2023-03-28T18:06:22.273970",
     "exception": false,
     "start_time": "2023-03-28T18:06:14.791390",
     "status": "completed"
    },
    "tags": []
   },
   "outputs": [],
   "source": [
    "using Dierckx\n",
    "\n",
    "\n",
    "####\n",
    "\n",
    "initm=zeros(L)\n",
    "initbeta=zeros(L)\n",
    "initpsi=zeros(L)\n",
    "initpi=zeros(L)\n",
    "initderxchi=zeros(L)\n",
    "initderpsi=zeros(L)\n",
    "initxchi=zeros(L)\n",
    "\n",
    "#state array is m beta psi xchi,u xchi,rORx psi,r xchi r\n",
    "state_array=[initm initbeta initpsi initpi initderxchi initderpsi initxchi initX];\n",
    "#attention:  in noncompactified code derxchi is (xchi),r. in compactified code derxchi is (xchi),x\n",
    "\n",
    "\n",
    "#PSI,R\n",
    "A=0.075*p*(1−q)\n",
    "r0=0.75\n",
    "sigma=0.25\n",
    "\n",
    "initderpsi[4:L-3] = init_derpsi(initX1,r0,sigma,A)\n",
    "\n",
    "state_array[:,6] = initderpsi\n",
    "state_array=ghost(state_array)\n",
    "\n",
    "#XCHI\n",
    "A=0.25*p*q\n",
    "r0=0.3\n",
    "sigma=0.1\n",
    "\n",
    "initxchi[4:L-3] = init_xchi(initX1,r0,sigma,A)\n",
    "\n",
    "state_array[:,7] = initxchi\n",
    "\n",
    "####\n",
    "#PSI FROM PSI,R, CHI,R FROM CHI\n",
    "#state_array[:,7]=parity(state_array[:,7])\n",
    "state_array[4:L-3,5]=Der_arrayLOP(state_array,7,initX)[4:L-3]#derivative(xchi_func, initX1; nu=1)#Der_array(state_array,7,initX)[4:L-3]\n",
    "#state_array[L-3,5]=state_array[L-4,5]\n",
    "\n",
    "#state_array[:,5]=secondparity(state_array[:,5])\n",
    "aux=Der_array(state_array,5,initX)\n",
    "#aux[4]=0\n",
    "#aux[L-3]=aux[L-4]\n",
    "\n",
    "# update interpolation of psi,x\n",
    "derxchi_func = Spline1D(initX[4:L-3], state_array[4:L-3,5],  k=4);\n",
    "derpsi_func = Spline1D(initX[4:L-3], state_array[4:L-3,6],  k=4);\n",
    "xchi_func = Spline1D(initX[4:L-3], state_array[4:L-3,7],  k=4);\n",
    "derrxchi_func = Spline1D(initX[4:L-3], aux[4:L-3], k=4);\n",
    "\n",
    "funcs=[derxchi_func derpsi_func xchi_func derrxchi_func];"
   ]
  },
  {
   "cell_type": "code",
   "execution_count": null,
   "id": "2097da7b",
   "metadata": {},
   "outputs": [],
   "source": []
  },
  {
   "cell_type": "code",
   "execution_count": 648,
   "id": "78cfbd6e",
   "metadata": {},
   "outputs": [
    {
     "data": {
      "text/plain": [
       "401×4 Matrix{Float64}:\n",
       " 0.0  0.0  0.0   0.0\n",
       " 0.0  0.0  0.0   2.17951e-7\n",
       " 0.0  0.0  0.0   1.22457e-6\n",
       " 0.0  0.0  0.0   3.26655e-6\n",
       " 0.0  0.0  0.0   6.32792e-6\n",
       " 0.0  0.0  0.0   1.06238e-5\n",
       " 0.0  0.0  0.0   1.64412e-5\n",
       " 0.0  0.0  0.0   2.41426e-5\n",
       " 0.0  0.0  0.0   3.41706e-5\n",
       " 0.0  0.0  0.0   4.70534e-5\n",
       " 0.0  0.0  0.0   6.34102e-5\n",
       " 0.0  0.0  0.0   8.39572e-5\n",
       " 0.0  0.0  0.0   0.000109512\n",
       " ⋮              \n",
       " 0.0  0.0  0.0  -3.7302e-6\n",
       " 0.0  0.0  0.0  -3.72384e-6\n",
       " 0.0  0.0  0.0  -3.71776e-6\n",
       " 0.0  0.0  0.0  -3.71194e-6\n",
       " 0.0  0.0  0.0  -3.70636e-6\n",
       " 0.0  0.0  0.0  -3.70103e-6\n",
       " 0.0  0.0  0.0  -3.69592e-6\n",
       " 0.0  0.0  0.0  -3.69103e-6\n",
       " 0.0  0.0  0.0  -3.68635e-6\n",
       " 0.0  0.0  0.0  -3.68187e-6\n",
       " 0.0  0.0  0.0  -3.68144e-6\n",
       " 0.0  0.0  0.0  -3.65405e-6"
      ]
     },
     "execution_count": 648,
     "metadata": {},
     "output_type": "execute_result"
    }
   ],
   "source": [
    "y0=[0.0 0.0 0.0 0.0]\n",
    "\n",
    "if twod==true\n",
    "        state_array[4:L-3,1:4] = twod_n_rk4wrapper(RHS,y0,initX[4:L-3],0,funcs,state_array[:,:]);\n",
    "    else\n",
    "        state_array[4:L-3,1:4] = n_rk4wrapper(RHS,y0,initX[4:L-3],0,funcs,state_array[:,:]);\n",
    "end\n",
    "\n",
    "#state_array = ghost(state_array);"
   ]
  },
  {
   "cell_type": "code",
   "execution_count": 649,
   "id": "14e14e45",
   "metadata": {},
   "outputs": [
    {
     "data": {
      "image/svg+xml": [
       "<?xml version=\"1.0\" encoding=\"utf-8\"?>\n",
       "<svg xmlns=\"http://www.w3.org/2000/svg\" xmlns:xlink=\"http://www.w3.org/1999/xlink\" width=\"600\" height=\"400\" viewBox=\"0 0 2400 1600\">\n",
       "<defs>\n",
       "  <clipPath id=\"clip340\">\n",
       "    <rect x=\"0\" y=\"0\" width=\"2400\" height=\"1600\"/>\n",
       "  </clipPath>\n",
       "</defs>\n",
       "<path clip-path=\"url(#clip340)\" d=\"M0 1600 L2400 1600 L2400 0 L0 0  Z\" fill=\"#ffffff\" fill-rule=\"evenodd\" fill-opacity=\"1\"/>\n",
       "<defs>\n",
       "  <clipPath id=\"clip341\">\n",
       "    <rect x=\"480\" y=\"0\" width=\"1681\" height=\"1600\"/>\n",
       "  </clipPath>\n",
       "</defs>\n",
       "<path clip-path=\"url(#clip340)\" d=\"M222.871 1423.18 L2352.76 1423.18 L2352.76 123.472 L222.871 123.472  Z\" fill=\"#ffffff\" fill-rule=\"evenodd\" fill-opacity=\"1\"/>\n",
       "<defs>\n",
       "  <clipPath id=\"clip342\">\n",
       "    <rect x=\"222\" y=\"123\" width=\"2131\" height=\"1301\"/>\n",
       "  </clipPath>\n",
       "</defs>\n",
       "<polyline clip-path=\"url(#clip342)\" style=\"stroke:#000000; stroke-linecap:round; stroke-linejoin:round; stroke-width:2; stroke-opacity:0.1; fill:none\" points=\"222.871,1423.18 222.871,123.472 \"/>\n",
       "<polyline clip-path=\"url(#clip342)\" style=\"stroke:#000000; stroke-linecap:round; stroke-linejoin:round; stroke-width:2; stroke-opacity:0.1; fill:none\" points=\"648.848,1423.18 648.848,123.472 \"/>\n",
       "<polyline clip-path=\"url(#clip342)\" style=\"stroke:#000000; stroke-linecap:round; stroke-linejoin:round; stroke-width:2; stroke-opacity:0.1; fill:none\" points=\"1074.82,1423.18 1074.82,123.472 \"/>\n",
       "<polyline clip-path=\"url(#clip342)\" style=\"stroke:#000000; stroke-linecap:round; stroke-linejoin:round; stroke-width:2; stroke-opacity:0.1; fill:none\" points=\"1500.8,1423.18 1500.8,123.472 \"/>\n",
       "<polyline clip-path=\"url(#clip342)\" style=\"stroke:#000000; stroke-linecap:round; stroke-linejoin:round; stroke-width:2; stroke-opacity:0.1; fill:none\" points=\"1926.78,1423.18 1926.78,123.472 \"/>\n",
       "<polyline clip-path=\"url(#clip342)\" style=\"stroke:#000000; stroke-linecap:round; stroke-linejoin:round; stroke-width:2; stroke-opacity:0.1; fill:none\" points=\"2352.76,1423.18 2352.76,123.472 \"/>\n",
       "<polyline clip-path=\"url(#clip340)\" style=\"stroke:#000000; stroke-linecap:round; stroke-linejoin:round; stroke-width:4; stroke-opacity:1; fill:none\" points=\"222.871,1423.18 2352.76,1423.18 \"/>\n",
       "<polyline clip-path=\"url(#clip340)\" style=\"stroke:#000000; stroke-linecap:round; stroke-linejoin:round; stroke-width:4; stroke-opacity:1; fill:none\" points=\"222.871,1423.18 222.871,1404.28 \"/>\n",
       "<polyline clip-path=\"url(#clip340)\" style=\"stroke:#000000; stroke-linecap:round; stroke-linejoin:round; stroke-width:4; stroke-opacity:1; fill:none\" points=\"648.848,1423.18 648.848,1404.28 \"/>\n",
       "<polyline clip-path=\"url(#clip340)\" style=\"stroke:#000000; stroke-linecap:round; stroke-linejoin:round; stroke-width:4; stroke-opacity:1; fill:none\" points=\"1074.82,1423.18 1074.82,1404.28 \"/>\n",
       "<polyline clip-path=\"url(#clip340)\" style=\"stroke:#000000; stroke-linecap:round; stroke-linejoin:round; stroke-width:4; stroke-opacity:1; fill:none\" points=\"1500.8,1423.18 1500.8,1404.28 \"/>\n",
       "<polyline clip-path=\"url(#clip340)\" style=\"stroke:#000000; stroke-linecap:round; stroke-linejoin:round; stroke-width:4; stroke-opacity:1; fill:none\" points=\"1926.78,1423.18 1926.78,1404.28 \"/>\n",
       "<polyline clip-path=\"url(#clip340)\" style=\"stroke:#000000; stroke-linecap:round; stroke-linejoin:round; stroke-width:4; stroke-opacity:1; fill:none\" points=\"2352.76,1423.18 2352.76,1404.28 \"/>\n",
       "<path clip-path=\"url(#clip340)\" d=\"M200.255 1454.1 Q196.644 1454.1 194.816 1457.66 Q193.01 1461.2 193.01 1468.33 Q193.01 1475.44 194.816 1479.01 Q196.644 1482.55 200.255 1482.55 Q203.89 1482.55 205.695 1479.01 Q207.524 1475.44 207.524 1468.33 Q207.524 1461.2 205.695 1457.66 Q203.89 1454.1 200.255 1454.1 M200.255 1450.39 Q206.066 1450.39 209.121 1455 Q212.2 1459.58 212.2 1468.33 Q212.2 1477.06 209.121 1481.67 Q206.066 1486.25 200.255 1486.25 Q194.445 1486.25 191.367 1481.67 Q188.311 1477.06 188.311 1468.33 Q188.311 1459.58 191.367 1455 Q194.445 1450.39 200.255 1450.39 Z\" fill=\"#000000\" fill-rule=\"evenodd\" fill-opacity=\"1\" /><path clip-path=\"url(#clip340)\" d=\"M220.417 1479.7 L225.302 1479.7 L225.302 1485.58 L220.417 1485.58 L220.417 1479.7 Z\" fill=\"#000000\" fill-rule=\"evenodd\" fill-opacity=\"1\" /><path clip-path=\"url(#clip340)\" d=\"M245.487 1454.1 Q241.876 1454.1 240.047 1457.66 Q238.241 1461.2 238.241 1468.33 Q238.241 1475.44 240.047 1479.01 Q241.876 1482.55 245.487 1482.55 Q249.121 1482.55 250.926 1479.01 Q252.755 1475.44 252.755 1468.33 Q252.755 1461.2 250.926 1457.66 Q249.121 1454.1 245.487 1454.1 M245.487 1450.39 Q251.297 1450.39 254.352 1455 Q257.431 1459.58 257.431 1468.33 Q257.431 1477.06 254.352 1481.67 Q251.297 1486.25 245.487 1486.25 Q239.676 1486.25 236.598 1481.67 Q233.542 1477.06 233.542 1468.33 Q233.542 1459.58 236.598 1455 Q239.676 1450.39 245.487 1450.39 Z\" fill=\"#000000\" fill-rule=\"evenodd\" fill-opacity=\"1\" /><path clip-path=\"url(#clip340)\" d=\"M627.031 1454.1 Q623.42 1454.1 621.591 1457.66 Q619.786 1461.2 619.786 1468.33 Q619.786 1475.44 621.591 1479.01 Q623.42 1482.55 627.031 1482.55 Q630.665 1482.55 632.471 1479.01 Q634.299 1475.44 634.299 1468.33 Q634.299 1461.2 632.471 1457.66 Q630.665 1454.1 627.031 1454.1 M627.031 1450.39 Q632.841 1450.39 635.897 1455 Q638.975 1459.58 638.975 1468.33 Q638.975 1477.06 635.897 1481.67 Q632.841 1486.25 627.031 1486.25 Q621.221 1486.25 618.142 1481.67 Q615.087 1477.06 615.087 1468.33 Q615.087 1459.58 618.142 1455 Q621.221 1450.39 627.031 1450.39 Z\" fill=\"#000000\" fill-rule=\"evenodd\" fill-opacity=\"1\" /><path clip-path=\"url(#clip340)\" d=\"M647.193 1479.7 L652.077 1479.7 L652.077 1485.58 L647.193 1485.58 L647.193 1479.7 Z\" fill=\"#000000\" fill-rule=\"evenodd\" fill-opacity=\"1\" /><path clip-path=\"url(#clip340)\" d=\"M666.29 1481.64 L682.609 1481.64 L682.609 1485.58 L660.665 1485.58 L660.665 1481.64 Q663.327 1478.89 667.91 1474.26 Q672.517 1469.61 673.697 1468.27 Q675.943 1465.74 676.822 1464.01 Q677.725 1462.25 677.725 1460.56 Q677.725 1457.8 675.781 1456.07 Q673.859 1454.33 670.758 1454.33 Q668.559 1454.33 666.105 1455.09 Q663.674 1455.86 660.897 1457.41 L660.897 1452.69 Q663.721 1451.55 666.174 1450.97 Q668.628 1450.39 670.665 1450.39 Q676.035 1450.39 679.23 1453.08 Q682.424 1455.77 682.424 1460.26 Q682.424 1462.39 681.614 1464.31 Q680.827 1466.2 678.721 1468.8 Q678.142 1469.47 675.04 1472.69 Q671.938 1475.88 666.29 1481.64 Z\" fill=\"#000000\" fill-rule=\"evenodd\" fill-opacity=\"1\" /><path clip-path=\"url(#clip340)\" d=\"M1051.97 1454.1 Q1048.36 1454.1 1046.53 1457.66 Q1044.72 1461.2 1044.72 1468.33 Q1044.72 1475.44 1046.53 1479.01 Q1048.36 1482.55 1051.97 1482.55 Q1055.6 1482.55 1057.41 1479.01 Q1059.23 1475.44 1059.23 1468.33 Q1059.23 1461.2 1057.41 1457.66 Q1055.6 1454.1 1051.97 1454.1 M1051.97 1450.39 Q1057.78 1450.39 1060.83 1455 Q1063.91 1459.58 1063.91 1468.33 Q1063.91 1477.06 1060.83 1481.67 Q1057.78 1486.25 1051.97 1486.25 Q1046.16 1486.25 1043.08 1481.67 Q1040.02 1477.06 1040.02 1468.33 Q1040.02 1459.58 1043.08 1455 Q1046.16 1450.39 1051.97 1450.39 Z\" fill=\"#000000\" fill-rule=\"evenodd\" fill-opacity=\"1\" /><path clip-path=\"url(#clip340)\" d=\"M1072.13 1479.7 L1077.01 1479.7 L1077.01 1485.58 L1072.13 1485.58 L1072.13 1479.7 Z\" fill=\"#000000\" fill-rule=\"evenodd\" fill-opacity=\"1\" /><path clip-path=\"url(#clip340)\" d=\"M1100.04 1455.09 L1088.24 1473.54 L1100.04 1473.54 L1100.04 1455.09 M1098.82 1451.02 L1104.7 1451.02 L1104.7 1473.54 L1109.63 1473.54 L1109.63 1477.43 L1104.7 1477.43 L1104.7 1485.58 L1100.04 1485.58 L1100.04 1477.43 L1084.44 1477.43 L1084.44 1472.92 L1098.82 1451.02 Z\" fill=\"#000000\" fill-rule=\"evenodd\" fill-opacity=\"1\" /><path clip-path=\"url(#clip340)\" d=\"M1478.11 1454.1 Q1474.49 1454.1 1472.67 1457.66 Q1470.86 1461.2 1470.86 1468.33 Q1470.86 1475.44 1472.67 1479.01 Q1474.49 1482.55 1478.11 1482.55 Q1481.74 1482.55 1483.55 1479.01 Q1485.37 1475.44 1485.37 1468.33 Q1485.37 1461.2 1483.55 1457.66 Q1481.74 1454.1 1478.11 1454.1 M1478.11 1450.39 Q1483.92 1450.39 1486.97 1455 Q1490.05 1459.58 1490.05 1468.33 Q1490.05 1477.06 1486.97 1481.67 Q1483.92 1486.25 1478.11 1486.25 Q1472.3 1486.25 1469.22 1481.67 Q1466.16 1477.06 1466.16 1468.33 Q1466.16 1459.58 1469.22 1455 Q1472.3 1450.39 1478.11 1450.39 Z\" fill=\"#000000\" fill-rule=\"evenodd\" fill-opacity=\"1\" /><path clip-path=\"url(#clip340)\" d=\"M1498.27 1479.7 L1503.15 1479.7 L1503.15 1485.58 L1498.27 1485.58 L1498.27 1479.7 Z\" fill=\"#000000\" fill-rule=\"evenodd\" fill-opacity=\"1\" /><path clip-path=\"url(#clip340)\" d=\"M1523.92 1466.44 Q1520.77 1466.44 1518.92 1468.59 Q1517.09 1470.74 1517.09 1474.49 Q1517.09 1478.22 1518.92 1480.39 Q1520.77 1482.55 1523.92 1482.55 Q1527.06 1482.55 1528.89 1480.39 Q1530.74 1478.22 1530.74 1474.49 Q1530.74 1470.74 1528.89 1468.59 Q1527.06 1466.44 1523.92 1466.44 M1533.2 1451.78 L1533.2 1456.04 Q1531.44 1455.21 1529.63 1454.77 Q1527.85 1454.33 1526.09 1454.33 Q1521.46 1454.33 1519.01 1457.45 Q1516.58 1460.58 1516.23 1466.9 Q1517.6 1464.89 1519.66 1463.82 Q1521.72 1462.73 1524.19 1462.73 Q1529.4 1462.73 1532.41 1465.9 Q1535.44 1469.05 1535.44 1474.49 Q1535.44 1479.82 1532.29 1483.03 Q1529.15 1486.25 1523.92 1486.25 Q1517.92 1486.25 1514.75 1481.67 Q1511.58 1477.06 1511.58 1468.33 Q1511.58 1460.14 1515.47 1455.28 Q1519.36 1450.39 1525.91 1450.39 Q1527.67 1450.39 1529.45 1450.74 Q1531.25 1451.09 1533.2 1451.78 Z\" fill=\"#000000\" fill-rule=\"evenodd\" fill-opacity=\"1\" /><path clip-path=\"url(#clip340)\" d=\"M1904.21 1454.1 Q1900.6 1454.1 1898.77 1457.66 Q1896.96 1461.2 1896.96 1468.33 Q1896.96 1475.44 1898.77 1479.01 Q1900.6 1482.55 1904.21 1482.55 Q1907.84 1482.55 1909.65 1479.01 Q1911.48 1475.44 1911.48 1468.33 Q1911.48 1461.2 1909.65 1457.66 Q1907.84 1454.1 1904.21 1454.1 M1904.21 1450.39 Q1910.02 1450.39 1913.08 1455 Q1916.15 1459.58 1916.15 1468.33 Q1916.15 1477.06 1913.08 1481.67 Q1910.02 1486.25 1904.21 1486.25 Q1898.4 1486.25 1895.32 1481.67 Q1892.27 1477.06 1892.27 1468.33 Q1892.27 1459.58 1895.32 1455 Q1898.4 1450.39 1904.21 1450.39 Z\" fill=\"#000000\" fill-rule=\"evenodd\" fill-opacity=\"1\" /><path clip-path=\"url(#clip340)\" d=\"M1924.37 1479.7 L1929.26 1479.7 L1929.26 1485.58 L1924.37 1485.58 L1924.37 1479.7 Z\" fill=\"#000000\" fill-rule=\"evenodd\" fill-opacity=\"1\" /><path clip-path=\"url(#clip340)\" d=\"M1949.44 1469.17 Q1946.11 1469.17 1944.19 1470.95 Q1942.29 1472.73 1942.29 1475.86 Q1942.29 1478.98 1944.19 1480.77 Q1946.11 1482.55 1949.44 1482.55 Q1952.77 1482.55 1954.7 1480.77 Q1956.62 1478.96 1956.62 1475.86 Q1956.62 1472.73 1954.7 1470.95 Q1952.8 1469.17 1949.44 1469.17 M1944.76 1467.18 Q1941.76 1466.44 1940.07 1464.38 Q1938.4 1462.32 1938.4 1459.35 Q1938.4 1455.21 1941.34 1452.8 Q1944.3 1450.39 1949.44 1450.39 Q1954.6 1450.39 1957.54 1452.8 Q1960.48 1455.21 1960.48 1459.35 Q1960.48 1462.32 1958.79 1464.38 Q1957.13 1466.44 1954.14 1467.18 Q1957.52 1467.96 1959.39 1470.26 Q1961.29 1472.55 1961.29 1475.86 Q1961.29 1480.88 1958.21 1483.57 Q1955.16 1486.25 1949.44 1486.25 Q1943.72 1486.25 1940.64 1483.57 Q1937.59 1480.88 1937.59 1475.86 Q1937.59 1472.55 1939.49 1470.26 Q1941.39 1467.96 1944.76 1467.18 M1943.05 1459.79 Q1943.05 1462.48 1944.72 1463.98 Q1946.41 1465.49 1949.44 1465.49 Q1952.45 1465.49 1954.14 1463.98 Q1955.85 1462.48 1955.85 1459.79 Q1955.85 1457.11 1954.14 1455.6 Q1952.45 1454.1 1949.44 1454.1 Q1946.41 1454.1 1944.72 1455.6 Q1943.05 1457.11 1943.05 1459.79 Z\" fill=\"#000000\" fill-rule=\"evenodd\" fill-opacity=\"1\" /><path clip-path=\"url(#clip340)\" d=\"M2319.91 1481.64 L2327.55 1481.64 L2327.55 1455.28 L2319.24 1456.95 L2319.24 1452.69 L2327.5 1451.02 L2332.18 1451.02 L2332.18 1481.64 L2339.82 1481.64 L2339.82 1485.58 L2319.91 1485.58 L2319.91 1481.64 Z\" fill=\"#000000\" fill-rule=\"evenodd\" fill-opacity=\"1\" /><path clip-path=\"url(#clip340)\" d=\"M2349.26 1479.7 L2354.14 1479.7 L2354.14 1485.58 L2349.26 1485.58 L2349.26 1479.7 Z\" fill=\"#000000\" fill-rule=\"evenodd\" fill-opacity=\"1\" /><path clip-path=\"url(#clip340)\" d=\"M2374.33 1454.1 Q2370.72 1454.1 2368.89 1457.66 Q2367.08 1461.2 2367.08 1468.33 Q2367.08 1475.44 2368.89 1479.01 Q2370.72 1482.55 2374.33 1482.55 Q2377.96 1482.55 2379.77 1479.01 Q2381.6 1475.44 2381.6 1468.33 Q2381.6 1461.2 2379.77 1457.66 Q2377.96 1454.1 2374.33 1454.1 M2374.33 1450.39 Q2380.14 1450.39 2383.2 1455 Q2386.27 1459.58 2386.27 1468.33 Q2386.27 1477.06 2383.2 1481.67 Q2380.14 1486.25 2374.33 1486.25 Q2368.52 1486.25 2365.44 1481.67 Q2362.39 1477.06 2362.39 1468.33 Q2362.39 1459.58 2365.44 1455 Q2368.52 1450.39 2374.33 1450.39 Z\" fill=\"#000000\" fill-rule=\"evenodd\" fill-opacity=\"1\" /><path clip-path=\"url(#clip340)\" d=\"M1298.25 1537.87 Q1297.27 1537.3 1296.09 1537.04 Q1294.94 1536.76 1293.54 1536.76 Q1288.58 1536.76 1285.9 1540 Q1283.26 1543.22 1283.26 1549.27 L1283.26 1568.04 L1277.37 1568.04 L1277.37 1532.4 L1283.26 1532.4 L1283.26 1537.93 Q1285.11 1534.69 1288.07 1533.13 Q1291.03 1531.54 1295.26 1531.54 Q1295.87 1531.54 1296.6 1531.63 Q1297.33 1531.7 1298.22 1531.85 L1298.25 1537.87 Z\" fill=\"#000000\" fill-rule=\"evenodd\" fill-opacity=\"1\" /><polyline clip-path=\"url(#clip342)\" style=\"stroke:#000000; stroke-linecap:round; stroke-linejoin:round; stroke-width:2; stroke-opacity:0.1; fill:none\" points=\"222.871,1277.34 2352.76,1277.34 \"/>\n",
       "<polyline clip-path=\"url(#clip342)\" style=\"stroke:#000000; stroke-linecap:round; stroke-linejoin:round; stroke-width:2; stroke-opacity:0.1; fill:none\" points=\"222.871,1088.21 2352.76,1088.21 \"/>\n",
       "<polyline clip-path=\"url(#clip342)\" style=\"stroke:#000000; stroke-linecap:round; stroke-linejoin:round; stroke-width:2; stroke-opacity:0.1; fill:none\" points=\"222.871,899.08 2352.76,899.08 \"/>\n",
       "<polyline clip-path=\"url(#clip342)\" style=\"stroke:#000000; stroke-linecap:round; stroke-linejoin:round; stroke-width:2; stroke-opacity:0.1; fill:none\" points=\"222.871,709.95 2352.76,709.95 \"/>\n",
       "<polyline clip-path=\"url(#clip342)\" style=\"stroke:#000000; stroke-linecap:round; stroke-linejoin:round; stroke-width:2; stroke-opacity:0.1; fill:none\" points=\"222.871,520.82 2352.76,520.82 \"/>\n",
       "<polyline clip-path=\"url(#clip342)\" style=\"stroke:#000000; stroke-linecap:round; stroke-linejoin:round; stroke-width:2; stroke-opacity:0.1; fill:none\" points=\"222.871,331.69 2352.76,331.69 \"/>\n",
       "<polyline clip-path=\"url(#clip342)\" style=\"stroke:#000000; stroke-linecap:round; stroke-linejoin:round; stroke-width:2; stroke-opacity:0.1; fill:none\" points=\"222.871,142.56 2352.76,142.56 \"/>\n",
       "<polyline clip-path=\"url(#clip340)\" style=\"stroke:#000000; stroke-linecap:round; stroke-linejoin:round; stroke-width:4; stroke-opacity:1; fill:none\" points=\"222.871,1423.18 222.871,123.472 \"/>\n",
       "<polyline clip-path=\"url(#clip340)\" style=\"stroke:#000000; stroke-linecap:round; stroke-linejoin:round; stroke-width:4; stroke-opacity:1; fill:none\" points=\"222.871,1277.34 241.769,1277.34 \"/>\n",
       "<polyline clip-path=\"url(#clip340)\" style=\"stroke:#000000; stroke-linecap:round; stroke-linejoin:round; stroke-width:4; stroke-opacity:1; fill:none\" points=\"222.871,1088.21 241.769,1088.21 \"/>\n",
       "<polyline clip-path=\"url(#clip340)\" style=\"stroke:#000000; stroke-linecap:round; stroke-linejoin:round; stroke-width:4; stroke-opacity:1; fill:none\" points=\"222.871,899.08 241.769,899.08 \"/>\n",
       "<polyline clip-path=\"url(#clip340)\" style=\"stroke:#000000; stroke-linecap:round; stroke-linejoin:round; stroke-width:4; stroke-opacity:1; fill:none\" points=\"222.871,709.95 241.769,709.95 \"/>\n",
       "<polyline clip-path=\"url(#clip340)\" style=\"stroke:#000000; stroke-linecap:round; stroke-linejoin:round; stroke-width:4; stroke-opacity:1; fill:none\" points=\"222.871,520.82 241.769,520.82 \"/>\n",
       "<polyline clip-path=\"url(#clip340)\" style=\"stroke:#000000; stroke-linecap:round; stroke-linejoin:round; stroke-width:4; stroke-opacity:1; fill:none\" points=\"222.871,331.69 241.769,331.69 \"/>\n",
       "<polyline clip-path=\"url(#clip340)\" style=\"stroke:#000000; stroke-linecap:round; stroke-linejoin:round; stroke-width:4; stroke-opacity:1; fill:none\" points=\"222.871,142.56 241.769,142.56 \"/>\n",
       "<path clip-path=\"url(#clip340)\" d=\"M51.3625 1277.79 L81.0383 1277.79 L81.0383 1281.73 L51.3625 1281.73 L51.3625 1277.79 Z\" fill=\"#000000\" fill-rule=\"evenodd\" fill-opacity=\"1\" /><path clip-path=\"url(#clip340)\" d=\"M101.131 1263.14 Q97.5197 1263.14 95.691 1266.7 Q93.8854 1270.24 93.8854 1277.37 Q93.8854 1284.48 95.691 1288.05 Q97.5197 1291.59 101.131 1291.59 Q104.765 1291.59 106.571 1288.05 Q108.399 1284.48 108.399 1277.37 Q108.399 1270.24 106.571 1266.7 Q104.765 1263.14 101.131 1263.14 M101.131 1259.43 Q106.941 1259.43 109.996 1264.04 Q113.075 1268.62 113.075 1277.37 Q113.075 1286.1 109.996 1290.71 Q106.941 1295.29 101.131 1295.29 Q95.3206 1295.29 92.2419 1290.71 Q89.1864 1286.1 89.1864 1277.37 Q89.1864 1268.62 92.2419 1264.04 Q95.3206 1259.43 101.131 1259.43 Z\" fill=\"#000000\" fill-rule=\"evenodd\" fill-opacity=\"1\" /><path clip-path=\"url(#clip340)\" d=\"M121.293 1288.74 L126.177 1288.74 L126.177 1294.62 L121.293 1294.62 L121.293 1288.74 Z\" fill=\"#000000\" fill-rule=\"evenodd\" fill-opacity=\"1\" /><path clip-path=\"url(#clip340)\" d=\"M146.362 1263.14 Q142.751 1263.14 140.922 1266.7 Q139.117 1270.24 139.117 1277.37 Q139.117 1284.48 140.922 1288.05 Q142.751 1291.59 146.362 1291.59 Q149.996 1291.59 151.802 1288.05 Q153.63 1284.48 153.63 1277.37 Q153.63 1270.24 151.802 1266.7 Q149.996 1263.14 146.362 1263.14 M146.362 1259.43 Q152.172 1259.43 155.228 1264.04 Q158.306 1268.62 158.306 1277.37 Q158.306 1286.1 155.228 1290.71 Q152.172 1295.29 146.362 1295.29 Q140.552 1295.29 137.473 1290.71 Q134.418 1286.1 134.418 1277.37 Q134.418 1268.62 137.473 1264.04 Q140.552 1259.43 146.362 1259.43 Z\" fill=\"#000000\" fill-rule=\"evenodd\" fill-opacity=\"1\" /><path clip-path=\"url(#clip340)\" d=\"M170.552 1290.68 L186.871 1290.68 L186.871 1294.62 L164.927 1294.62 L164.927 1290.68 Q167.589 1287.93 172.172 1283.3 Q176.778 1278.65 177.959 1277.3 Q180.204 1274.78 181.084 1273.05 Q181.987 1271.29 181.987 1269.6 Q181.987 1266.84 180.042 1265.11 Q178.121 1263.37 175.019 1263.37 Q172.82 1263.37 170.366 1264.13 Q167.936 1264.9 165.158 1266.45 L165.158 1261.73 Q167.982 1260.59 170.436 1260.01 Q172.89 1259.43 174.927 1259.43 Q180.297 1259.43 183.491 1262.12 Q186.686 1264.8 186.686 1269.3 Q186.686 1271.42 185.876 1273.35 Q185.089 1275.24 182.982 1277.84 Q182.403 1278.51 179.302 1281.73 Q176.2 1284.92 170.552 1290.68 Z\" fill=\"#000000\" fill-rule=\"evenodd\" fill-opacity=\"1\" /><path clip-path=\"url(#clip340)\" d=\"M50.9921 1088.66 L80.6679 1088.66 L80.6679 1092.6 L50.9921 1092.6 L50.9921 1088.66 Z\" fill=\"#000000\" fill-rule=\"evenodd\" fill-opacity=\"1\" /><path clip-path=\"url(#clip340)\" d=\"M100.76 1074.01 Q97.1493 1074.01 95.3206 1077.57 Q93.515 1081.11 93.515 1088.24 Q93.515 1095.35 95.3206 1098.92 Q97.1493 1102.46 100.76 1102.46 Q104.395 1102.46 106.2 1098.92 Q108.029 1095.35 108.029 1088.24 Q108.029 1081.11 106.2 1077.57 Q104.395 1074.01 100.76 1074.01 M100.76 1070.3 Q106.571 1070.3 109.626 1074.91 Q112.705 1079.49 112.705 1088.24 Q112.705 1096.97 109.626 1101.58 Q106.571 1106.16 100.76 1106.16 Q94.9502 1106.16 91.8715 1101.58 Q88.816 1096.97 88.816 1088.24 Q88.816 1079.49 91.8715 1074.91 Q94.9502 1070.3 100.76 1070.3 Z\" fill=\"#000000\" fill-rule=\"evenodd\" fill-opacity=\"1\" /><path clip-path=\"url(#clip340)\" d=\"M120.922 1099.61 L125.807 1099.61 L125.807 1105.49 L120.922 1105.49 L120.922 1099.61 Z\" fill=\"#000000\" fill-rule=\"evenodd\" fill-opacity=\"1\" /><path clip-path=\"url(#clip340)\" d=\"M145.992 1074.01 Q142.381 1074.01 140.552 1077.57 Q138.746 1081.11 138.746 1088.24 Q138.746 1095.35 140.552 1098.92 Q142.381 1102.46 145.992 1102.46 Q149.626 1102.46 151.431 1098.92 Q153.26 1095.35 153.26 1088.24 Q153.26 1081.11 151.431 1077.57 Q149.626 1074.01 145.992 1074.01 M145.992 1070.3 Q151.802 1070.3 154.857 1074.91 Q157.936 1079.49 157.936 1088.24 Q157.936 1096.97 154.857 1101.58 Q151.802 1106.16 145.992 1106.16 Q140.181 1106.16 137.103 1101.58 Q134.047 1096.97 134.047 1088.24 Q134.047 1079.49 137.103 1074.91 Q140.181 1070.3 145.992 1070.3 Z\" fill=\"#000000\" fill-rule=\"evenodd\" fill-opacity=\"1\" /><path clip-path=\"url(#clip340)\" d=\"M166.964 1101.55 L174.603 1101.55 L174.603 1075.19 L166.292 1076.86 L166.292 1072.6 L174.556 1070.93 L179.232 1070.93 L179.232 1101.55 L186.871 1101.55 L186.871 1105.49 L166.964 1105.49 L166.964 1101.55 Z\" fill=\"#000000\" fill-rule=\"evenodd\" fill-opacity=\"1\" /><path clip-path=\"url(#clip340)\" d=\"M99.5335 884.878 Q95.9224 884.878 94.0937 888.443 Q92.2882 891.985 92.2882 899.114 Q92.2882 906.221 94.0937 909.786 Q95.9224 913.327 99.5335 913.327 Q103.168 913.327 104.973 909.786 Q106.802 906.221 106.802 899.114 Q106.802 891.985 104.973 888.443 Q103.168 884.878 99.5335 884.878 M99.5335 881.175 Q105.344 881.175 108.399 885.781 Q111.478 890.364 111.478 899.114 Q111.478 907.841 108.399 912.448 Q105.344 917.031 99.5335 917.031 Q93.7234 917.031 90.6447 912.448 Q87.5892 907.841 87.5892 899.114 Q87.5892 890.364 90.6447 885.781 Q93.7234 881.175 99.5335 881.175 Z\" fill=\"#000000\" fill-rule=\"evenodd\" fill-opacity=\"1\" /><path clip-path=\"url(#clip340)\" d=\"M119.695 910.48 L124.58 910.48 L124.58 916.36 L119.695 916.36 L119.695 910.48 Z\" fill=\"#000000\" fill-rule=\"evenodd\" fill-opacity=\"1\" /><path clip-path=\"url(#clip340)\" d=\"M144.765 884.878 Q141.154 884.878 139.325 888.443 Q137.519 891.985 137.519 899.114 Q137.519 906.221 139.325 909.786 Q141.154 913.327 144.765 913.327 Q148.399 913.327 150.205 909.786 Q152.033 906.221 152.033 899.114 Q152.033 891.985 150.205 888.443 Q148.399 884.878 144.765 884.878 M144.765 881.175 Q150.575 881.175 153.63 885.781 Q156.709 890.364 156.709 899.114 Q156.709 907.841 153.63 912.448 Q150.575 917.031 144.765 917.031 Q138.955 917.031 135.876 912.448 Q132.82 907.841 132.82 899.114 Q132.82 890.364 135.876 885.781 Q138.955 881.175 144.765 881.175 Z\" fill=\"#000000\" fill-rule=\"evenodd\" fill-opacity=\"1\" /><path clip-path=\"url(#clip340)\" d=\"M174.927 884.878 Q171.316 884.878 169.487 888.443 Q167.681 891.985 167.681 899.114 Q167.681 906.221 169.487 909.786 Q171.316 913.327 174.927 913.327 Q178.561 913.327 180.366 909.786 Q182.195 906.221 182.195 899.114 Q182.195 891.985 180.366 888.443 Q178.561 884.878 174.927 884.878 M174.927 881.175 Q180.737 881.175 183.792 885.781 Q186.871 890.364 186.871 899.114 Q186.871 907.841 183.792 912.448 Q180.737 917.031 174.927 917.031 Q169.116 917.031 166.038 912.448 Q162.982 907.841 162.982 899.114 Q162.982 890.364 166.038 885.781 Q169.116 881.175 174.927 881.175 Z\" fill=\"#000000\" fill-rule=\"evenodd\" fill-opacity=\"1\" /><path clip-path=\"url(#clip340)\" d=\"M100.76 695.748 Q97.1493 695.748 95.3206 699.313 Q93.515 702.855 93.515 709.984 Q93.515 717.091 95.3206 720.656 Q97.1493 724.197 100.76 724.197 Q104.395 724.197 106.2 720.656 Q108.029 717.091 108.029 709.984 Q108.029 702.855 106.2 699.313 Q104.395 695.748 100.76 695.748 M100.76 692.045 Q106.571 692.045 109.626 696.651 Q112.705 701.235 112.705 709.984 Q112.705 718.711 109.626 723.318 Q106.571 727.901 100.76 727.901 Q94.9502 727.901 91.8715 723.318 Q88.816 718.711 88.816 709.984 Q88.816 701.235 91.8715 696.651 Q94.9502 692.045 100.76 692.045 Z\" fill=\"#000000\" fill-rule=\"evenodd\" fill-opacity=\"1\" /><path clip-path=\"url(#clip340)\" d=\"M120.922 721.35 L125.807 721.35 L125.807 727.23 L120.922 727.23 L120.922 721.35 Z\" fill=\"#000000\" fill-rule=\"evenodd\" fill-opacity=\"1\" /><path clip-path=\"url(#clip340)\" d=\"M145.992 695.748 Q142.381 695.748 140.552 699.313 Q138.746 702.855 138.746 709.984 Q138.746 717.091 140.552 720.656 Q142.381 724.197 145.992 724.197 Q149.626 724.197 151.431 720.656 Q153.26 717.091 153.26 709.984 Q153.26 702.855 151.431 699.313 Q149.626 695.748 145.992 695.748 M145.992 692.045 Q151.802 692.045 154.857 696.651 Q157.936 701.235 157.936 709.984 Q157.936 718.711 154.857 723.318 Q151.802 727.901 145.992 727.901 Q140.181 727.901 137.103 723.318 Q134.047 718.711 134.047 709.984 Q134.047 701.235 137.103 696.651 Q140.181 692.045 145.992 692.045 Z\" fill=\"#000000\" fill-rule=\"evenodd\" fill-opacity=\"1\" /><path clip-path=\"url(#clip340)\" d=\"M166.964 723.295 L174.603 723.295 L174.603 696.929 L166.292 698.596 L166.292 694.336 L174.556 692.67 L179.232 692.67 L179.232 723.295 L186.871 723.295 L186.871 727.23 L166.964 727.23 L166.964 723.295 Z\" fill=\"#000000\" fill-rule=\"evenodd\" fill-opacity=\"1\" /><path clip-path=\"url(#clip340)\" d=\"M101.131 506.619 Q97.5197 506.619 95.691 510.183 Q93.8854 513.725 93.8854 520.855 Q93.8854 527.961 95.691 531.526 Q97.5197 535.068 101.131 535.068 Q104.765 535.068 106.571 531.526 Q108.399 527.961 108.399 520.855 Q108.399 513.725 106.571 510.183 Q104.765 506.619 101.131 506.619 M101.131 502.915 Q106.941 502.915 109.996 507.521 Q113.075 512.105 113.075 520.855 Q113.075 529.581 109.996 534.188 Q106.941 538.771 101.131 538.771 Q95.3206 538.771 92.2419 534.188 Q89.1864 529.581 89.1864 520.855 Q89.1864 512.105 92.2419 507.521 Q95.3206 502.915 101.131 502.915 Z\" fill=\"#000000\" fill-rule=\"evenodd\" fill-opacity=\"1\" /><path clip-path=\"url(#clip340)\" d=\"M121.293 532.22 L126.177 532.22 L126.177 538.1 L121.293 538.1 L121.293 532.22 Z\" fill=\"#000000\" fill-rule=\"evenodd\" fill-opacity=\"1\" /><path clip-path=\"url(#clip340)\" d=\"M146.362 506.619 Q142.751 506.619 140.922 510.183 Q139.117 513.725 139.117 520.855 Q139.117 527.961 140.922 531.526 Q142.751 535.068 146.362 535.068 Q149.996 535.068 151.802 531.526 Q153.63 527.961 153.63 520.855 Q153.63 513.725 151.802 510.183 Q149.996 506.619 146.362 506.619 M146.362 502.915 Q152.172 502.915 155.228 507.521 Q158.306 512.105 158.306 520.855 Q158.306 529.581 155.228 534.188 Q152.172 538.771 146.362 538.771 Q140.552 538.771 137.473 534.188 Q134.418 529.581 134.418 520.855 Q134.418 512.105 137.473 507.521 Q140.552 502.915 146.362 502.915 Z\" fill=\"#000000\" fill-rule=\"evenodd\" fill-opacity=\"1\" /><path clip-path=\"url(#clip340)\" d=\"M170.552 534.165 L186.871 534.165 L186.871 538.1 L164.927 538.1 L164.927 534.165 Q167.589 531.41 172.172 526.781 Q176.778 522.128 177.959 520.785 Q180.204 518.262 181.084 516.526 Q181.987 514.767 181.987 513.077 Q181.987 510.322 180.042 508.586 Q178.121 506.85 175.019 506.85 Q172.82 506.85 170.366 507.614 Q167.936 508.378 165.158 509.929 L165.158 505.207 Q167.982 504.072 170.436 503.494 Q172.89 502.915 174.927 502.915 Q180.297 502.915 183.491 505.6 Q186.686 508.285 186.686 512.776 Q186.686 514.906 185.876 516.827 Q185.089 518.725 182.982 521.318 Q182.403 521.989 179.302 525.206 Q176.2 528.401 170.552 534.165 Z\" fill=\"#000000\" fill-rule=\"evenodd\" fill-opacity=\"1\" /><path clip-path=\"url(#clip340)\" d=\"M100.182 317.489 Q96.5706 317.489 94.7419 321.054 Q92.9363 324.595 92.9363 331.725 Q92.9363 338.831 94.7419 342.396 Q96.5706 345.938 100.182 345.938 Q103.816 345.938 105.621 342.396 Q107.45 338.831 107.45 331.725 Q107.45 324.595 105.621 321.054 Q103.816 317.489 100.182 317.489 M100.182 313.785 Q105.992 313.785 109.047 318.392 Q112.126 322.975 112.126 331.725 Q112.126 340.452 109.047 345.058 Q105.992 349.641 100.182 349.641 Q94.3715 349.641 91.2928 345.058 Q88.2373 340.452 88.2373 331.725 Q88.2373 322.975 91.2928 318.392 Q94.3715 313.785 100.182 313.785 Z\" fill=\"#000000\" fill-rule=\"evenodd\" fill-opacity=\"1\" /><path clip-path=\"url(#clip340)\" d=\"M120.344 343.091 L125.228 343.091 L125.228 348.97 L120.344 348.97 L120.344 343.091 Z\" fill=\"#000000\" fill-rule=\"evenodd\" fill-opacity=\"1\" /><path clip-path=\"url(#clip340)\" d=\"M145.413 317.489 Q141.802 317.489 139.973 321.054 Q138.168 324.595 138.168 331.725 Q138.168 338.831 139.973 342.396 Q141.802 345.938 145.413 345.938 Q149.047 345.938 150.853 342.396 Q152.681 338.831 152.681 331.725 Q152.681 324.595 150.853 321.054 Q149.047 317.489 145.413 317.489 M145.413 313.785 Q151.223 313.785 154.279 318.392 Q157.357 322.975 157.357 331.725 Q157.357 340.452 154.279 345.058 Q151.223 349.641 145.413 349.641 Q139.603 349.641 136.524 345.058 Q133.469 340.452 133.469 331.725 Q133.469 322.975 136.524 318.392 Q139.603 313.785 145.413 313.785 Z\" fill=\"#000000\" fill-rule=\"evenodd\" fill-opacity=\"1\" /><path clip-path=\"url(#clip340)\" d=\"M179.741 330.336 Q183.098 331.054 184.973 333.322 Q186.871 335.591 186.871 338.924 Q186.871 344.04 183.353 346.841 Q179.834 349.641 173.353 349.641 Q171.177 349.641 168.862 349.202 Q166.57 348.785 164.117 347.928 L164.117 343.415 Q166.061 344.549 168.376 345.128 Q170.691 345.706 173.214 345.706 Q177.612 345.706 179.903 343.97 Q182.218 342.234 182.218 338.924 Q182.218 335.868 180.066 334.155 Q177.936 332.419 174.116 332.419 L170.089 332.419 L170.089 328.577 L174.302 328.577 Q177.751 328.577 179.579 327.211 Q181.408 325.822 181.408 323.23 Q181.408 320.568 179.51 319.155 Q177.635 317.72 174.116 317.72 Q172.195 317.72 169.996 318.137 Q167.797 318.554 165.158 319.433 L165.158 315.267 Q167.82 314.526 170.135 314.156 Q172.473 313.785 174.533 313.785 Q179.857 313.785 182.959 316.216 Q186.061 318.623 186.061 322.743 Q186.061 325.614 184.417 327.605 Q182.774 329.572 179.741 330.336 Z\" fill=\"#000000\" fill-rule=\"evenodd\" fill-opacity=\"1\" /><path clip-path=\"url(#clip340)\" d=\"M99.0474 128.359 Q95.4363 128.359 93.6076 131.924 Q91.8021 135.465 91.8021 142.595 Q91.8021 149.702 93.6076 153.266 Q95.4363 156.808 99.0474 156.808 Q102.682 156.808 104.487 153.266 Q106.316 149.702 106.316 142.595 Q106.316 135.465 104.487 131.924 Q102.682 128.359 99.0474 128.359 M99.0474 124.655 Q104.858 124.655 107.913 129.262 Q110.992 133.845 110.992 142.595 Q110.992 151.322 107.913 155.928 Q104.858 160.512 99.0474 160.512 Q93.2373 160.512 90.1586 155.928 Q87.103 151.322 87.103 142.595 Q87.103 133.845 90.1586 129.262 Q93.2373 124.655 99.0474 124.655 Z\" fill=\"#000000\" fill-rule=\"evenodd\" fill-opacity=\"1\" /><path clip-path=\"url(#clip340)\" d=\"M119.209 153.961 L124.094 153.961 L124.094 159.84 L119.209 159.84 L119.209 153.961 Z\" fill=\"#000000\" fill-rule=\"evenodd\" fill-opacity=\"1\" /><path clip-path=\"url(#clip340)\" d=\"M144.279 128.359 Q140.668 128.359 138.839 131.924 Q137.033 135.465 137.033 142.595 Q137.033 149.702 138.839 153.266 Q140.668 156.808 144.279 156.808 Q147.913 156.808 149.718 153.266 Q151.547 149.702 151.547 142.595 Q151.547 135.465 149.718 131.924 Q147.913 128.359 144.279 128.359 M144.279 124.655 Q150.089 124.655 153.144 129.262 Q156.223 133.845 156.223 142.595 Q156.223 151.322 153.144 155.928 Q150.089 160.512 144.279 160.512 Q138.469 160.512 135.39 155.928 Q132.334 151.322 132.334 142.595 Q132.334 133.845 135.39 129.262 Q138.469 124.655 144.279 124.655 Z\" fill=\"#000000\" fill-rule=\"evenodd\" fill-opacity=\"1\" /><path clip-path=\"url(#clip340)\" d=\"M177.288 129.354 L165.482 147.803 L177.288 147.803 L177.288 129.354 M176.061 125.28 L181.94 125.28 L181.94 147.803 L186.871 147.803 L186.871 151.692 L181.94 151.692 L181.94 159.84 L177.288 159.84 L177.288 151.692 L161.686 151.692 L161.686 147.178 L176.061 125.28 Z\" fill=\"#000000\" fill-rule=\"evenodd\" fill-opacity=\"1\" /><path clip-path=\"url(#clip340)\" d=\"M1068.64 12.096 L1076.82 12.096 L1076.82 72.576 L1068.64 72.576 L1068.64 12.096 Z\" fill=\"#000000\" fill-rule=\"evenodd\" fill-opacity=\"1\" /><path clip-path=\"url(#clip340)\" d=\"M1130.5 45.1919 L1130.5 72.576 L1123.04 72.576 L1123.04 45.4349 Q1123.04 38.994 1120.53 35.7938 Q1118.02 32.5936 1113 32.5936 Q1106.96 32.5936 1103.48 36.4419 Q1099.99 40.2903 1099.99 46.9338 L1099.99 72.576 L1092.5 72.576 L1092.5 27.2059 L1099.99 27.2059 L1099.99 34.2544 Q1102.67 30.163 1106.27 28.1376 Q1109.92 26.1121 1114.66 26.1121 Q1122.48 26.1121 1126.49 30.9732 Q1130.5 35.7938 1130.5 45.1919 Z\" fill=\"#000000\" fill-rule=\"evenodd\" fill-opacity=\"1\" /><path clip-path=\"url(#clip340)\" d=\"M1145.36 27.2059 L1152.82 27.2059 L1152.82 72.576 L1145.36 72.576 L1145.36 27.2059 M1145.36 9.54393 L1152.82 9.54393 L1152.82 18.9825 L1145.36 18.9825 L1145.36 9.54393 Z\" fill=\"#000000\" fill-rule=\"evenodd\" fill-opacity=\"1\" /><path clip-path=\"url(#clip340)\" d=\"M1175.79 14.324 L1175.79 27.2059 L1191.14 27.2059 L1191.14 32.9987 L1175.79 32.9987 L1175.79 57.6282 Q1175.79 63.1779 1177.28 64.7578 Q1178.82 66.3376 1183.48 66.3376 L1191.14 66.3376 L1191.14 72.576 L1183.48 72.576 Q1174.85 72.576 1171.57 69.3758 Q1168.29 66.1351 1168.29 57.6282 L1168.29 32.9987 L1162.82 32.9987 L1162.82 27.2059 L1168.29 27.2059 L1168.29 14.324 L1175.79 14.324 Z\" fill=\"#000000\" fill-rule=\"evenodd\" fill-opacity=\"1\" /><path clip-path=\"url(#clip340)\" d=\"M1200.94 27.2059 L1208.4 27.2059 L1208.4 72.576 L1200.94 72.576 L1200.94 27.2059 M1200.94 9.54393 L1208.4 9.54393 L1208.4 18.9825 L1200.94 18.9825 L1200.94 9.54393 Z\" fill=\"#000000\" fill-rule=\"evenodd\" fill-opacity=\"1\" /><path clip-path=\"url(#clip340)\" d=\"M1244.61 49.7694 Q1235.58 49.7694 1232.09 51.8354 Q1228.61 53.9013 1228.61 58.8839 Q1228.61 62.8538 1231.2 65.2034 Q1233.84 67.5124 1238.33 67.5124 Q1244.53 67.5124 1248.26 63.1374 Q1252.02 58.7219 1252.02 51.4303 L1252.02 49.7694 L1244.61 49.7694 M1259.48 46.6907 L1259.48 72.576 L1252.02 72.576 L1252.02 65.6895 Q1249.47 69.8214 1245.66 71.8063 Q1241.86 73.7508 1236.35 73.7508 Q1229.38 73.7508 1225.25 69.8619 Q1221.16 65.9325 1221.16 59.3701 Q1221.16 51.7138 1226.26 47.825 Q1231.4 43.9361 1241.57 43.9361 L1252.02 43.9361 L1252.02 43.2069 Q1252.02 38.0623 1248.62 35.2672 Q1245.26 32.4315 1239.14 32.4315 Q1235.25 32.4315 1231.57 33.3632 Q1227.88 34.295 1224.48 36.1584 L1224.48 29.2718 Q1228.57 27.692 1232.42 26.9223 Q1236.27 26.1121 1239.91 26.1121 Q1249.76 26.1121 1254.62 31.2163 Q1259.48 36.3204 1259.48 46.6907 Z\" fill=\"#000000\" fill-rule=\"evenodd\" fill-opacity=\"1\" /><path clip-path=\"url(#clip340)\" d=\"M1274.83 9.54393 L1282.28 9.54393 L1282.28 72.576 L1274.83 72.576 L1274.83 9.54393 Z\" fill=\"#000000\" fill-rule=\"evenodd\" fill-opacity=\"1\" /><path clip-path=\"url(#clip340)\" d=\"M1332.76 18.8205 L1332.76 65.8515 L1342.64 65.8515 Q1355.16 65.8515 1360.95 60.1802 Q1366.79 54.509 1366.79 42.2752 Q1366.79 30.1225 1360.95 24.4918 Q1355.16 18.8205 1342.64 18.8205 L1332.76 18.8205 M1324.58 12.096 L1341.39 12.096 Q1358.97 12.096 1367.19 19.4281 Q1375.41 26.7198 1375.41 42.2752 Q1375.41 57.9117 1367.15 65.2439 Q1358.89 72.576 1341.39 72.576 L1324.58 72.576 L1324.58 12.096 Z\" fill=\"#000000\" fill-rule=\"evenodd\" fill-opacity=\"1\" /><path clip-path=\"url(#clip340)\" d=\"M1408.75 49.7694 Q1399.72 49.7694 1396.24 51.8354 Q1392.75 53.9013 1392.75 58.8839 Q1392.75 62.8538 1395.34 65.2034 Q1397.98 67.5124 1402.47 67.5124 Q1408.67 67.5124 1412.4 63.1374 Q1416.17 58.7219 1416.17 51.4303 L1416.17 49.7694 L1408.75 49.7694 M1423.62 46.6907 L1423.62 72.576 L1416.17 72.576 L1416.17 65.6895 Q1413.61 69.8214 1409.81 71.8063 Q1406 73.7508 1400.49 73.7508 Q1393.52 73.7508 1389.39 69.8619 Q1385.3 65.9325 1385.3 59.3701 Q1385.3 51.7138 1390.4 47.825 Q1395.55 43.9361 1405.72 43.9361 L1416.17 43.9361 L1416.17 43.2069 Q1416.17 38.0623 1412.76 35.2672 Q1409.4 32.4315 1403.28 32.4315 Q1399.4 32.4315 1395.71 33.3632 Q1392.02 34.295 1388.62 36.1584 L1388.62 29.2718 Q1392.71 27.692 1396.56 26.9223 Q1400.41 26.1121 1404.05 26.1121 Q1413.9 26.1121 1418.76 31.2163 Q1423.62 36.3204 1423.62 46.6907 Z\" fill=\"#000000\" fill-rule=\"evenodd\" fill-opacity=\"1\" /><path clip-path=\"url(#clip340)\" d=\"M1446.35 14.324 L1446.35 27.2059 L1461.7 27.2059 L1461.7 32.9987 L1446.35 32.9987 L1446.35 57.6282 Q1446.35 63.1779 1447.84 64.7578 Q1449.38 66.3376 1454.04 66.3376 L1461.7 66.3376 L1461.7 72.576 L1454.04 72.576 Q1445.41 72.576 1442.13 69.3758 Q1438.85 66.1351 1438.85 57.6282 L1438.85 32.9987 L1433.38 32.9987 L1433.38 27.2059 L1438.85 27.2059 L1438.85 14.324 L1446.35 14.324 Z\" fill=\"#000000\" fill-rule=\"evenodd\" fill-opacity=\"1\" /><path clip-path=\"url(#clip340)\" d=\"M1492.12 49.7694 Q1483.09 49.7694 1479.6 51.8354 Q1476.12 53.9013 1476.12 58.8839 Q1476.12 62.8538 1478.71 65.2034 Q1481.35 67.5124 1485.84 67.5124 Q1492.04 67.5124 1495.77 63.1374 Q1499.53 58.7219 1499.53 51.4303 L1499.53 49.7694 L1492.12 49.7694 M1506.99 46.6907 L1506.99 72.576 L1499.53 72.576 L1499.53 65.6895 Q1496.98 69.8214 1493.17 71.8063 Q1489.37 73.7508 1483.86 73.7508 Q1476.89 73.7508 1472.76 69.8619 Q1468.67 65.9325 1468.67 59.3701 Q1468.67 51.7138 1473.77 47.825 Q1478.91 43.9361 1489.08 43.9361 L1499.53 43.9361 L1499.53 43.2069 Q1499.53 38.0623 1496.13 35.2672 Q1492.77 32.4315 1486.65 32.4315 Q1482.76 32.4315 1479.08 33.3632 Q1475.39 34.295 1471.99 36.1584 L1471.99 29.2718 Q1476.08 27.692 1479.93 26.9223 Q1483.78 26.1121 1487.42 26.1121 Q1497.27 26.1121 1502.13 31.2163 Q1506.99 36.3204 1506.99 46.6907 Z\" fill=\"#000000\" fill-rule=\"evenodd\" fill-opacity=\"1\" /><polyline clip-path=\"url(#clip342)\" style=\"stroke:#009af9; stroke-linecap:round; stroke-linejoin:round; stroke-width:4; stroke-opacity:1; fill:none\" points=\"222.871,899.08 233.467,899.08 243.959,899.08 254.347,899.08 264.633,899.08 274.819,899.08 284.907,899.08 294.896,899.08 304.79,899.08 314.589,899.08 324.294,899.08 333.908,899.08 343.431,899.08 352.864,899.08 362.209,899.08 371.468,899.08 380.64,899.08 389.728,899.08 398.733,899.08 407.656,899.08 416.497,899.08 425.258,899.08 433.941,899.08 442.545,899.08 451.073,899.08 459.525,899.08 467.902,899.08 476.205,899.08 484.436,899.08 492.594,899.08 500.682,899.08 508.7,899.08 516.648,899.08 524.529,899.08 532.341,899.08 540.088,899.08 547.769,899.08 555.385,899.08 562.937,899.08 570.425,899.08 577.852,899.08 585.217,899.08 592.52,899.08 599.764,899.08 606.949,899.08 614.074,899.08 621.142,899.08 628.153,899.08 635.107,899.08 642.005,899.08 648.848,899.08 655.636,899.08 662.371,899.08 669.052,899.08 675.681,899.08 682.258,899.08 688.783,899.08 695.258,899.08 701.682,899.08 708.057,899.08 714.383,899.08 720.66,899.08 726.89,899.08 733.072,899.08 739.207,899.08 745.296,899.08 751.339,899.08 757.337,899.08 763.29,899.08 769.198,899.08 775.063,899.08 780.885,899.08 786.664,899.08 792.401,899.08 798.095,899.08 803.749,899.08 809.361,899.08 814.933,899.08 820.465,899.08 825.957,899.08 831.41,899.08 836.824,899.08 842.199,899.08 847.537,899.08 852.837,899.08 858.1,899.08 863.326,899.08 868.516,899.08 873.669,899.08 878.787,899.08 883.87,899.08 888.918,899.08 893.931,899.08 898.91,899.08 903.855,899.08 908.766,899.08 913.645,899.08 918.49,899.08 923.303,899.08 928.084,899.08 932.833,899.08 937.55,899.08 942.236,899.08 946.891,899.08 951.516,899.08 956.11,899.08 960.674,899.08 965.209,899.08 969.714,899.08 974.19,899.08 978.637,899.08 983.055,899.08 987.445,899.08 991.807,899.08 996.141,899.08 1000.45,899.08 1004.73,899.08 1008.98,899.08 1013.21,899.08 1017.4,899.08 1021.58,899.08 1025.72,899.08 1029.85,899.08 1033.94,899.08 1038.01,899.08 1042.06,899.08 1046.08,899.08 1050.07,899.08 1054.05,899.08 1057.99,899.08 1061.92,899.08 1065.82,899.08 1069.69,899.08 1073.55,899.08 1077.38,899.08 1081.18,899.08 1084.97,899.08 1088.73,899.08 1092.47,899.08 1096.19,899.08 1099.88,899.08 1103.56,899.08 1107.21,899.08 1110.84,899.08 1114.45,899.08 1118.04,899.08 1121.61,899.08 1125.16,899.08 1128.68,899.08 1132.19,899.08 1135.68,899.08 1139.15,899.08 1142.59,899.08 1146.02,899.08 1149.43,899.08 1152.82,899.08 1156.19,899.08 1159.54,899.08 1162.88,899.08 1166.19,899.08 1169.49,899.08 1172.76,899.08 1176.02,899.08 1179.27,899.08 1182.49,899.08 1185.7,899.08 1188.88,899.08 1192.06,899.08 1195.21,899.08 1198.35,899.08 1201.47,899.08 1204.57,899.08 1207.66,899.08 1210.73,899.08 1213.78,899.08 1216.82,899.08 1219.84,899.08 1222.84,899.08 1225.83,899.08 1228.81,899.08 1231.76,899.08 1234.71,899.08 1237.63,899.08 1240.54,899.08 1243.44,899.08 1246.32,899.08 1249.19,899.08 1252.04,899.08 1254.88,899.08 1257.7,899.08 1260.51,899.08 1263.3,899.08 1266.08,899.08 1268.85,899.08 1271.6,899.08 1274.33,899.08 1277.06,899.08 1279.77,899.08 1282.46,899.08 1285.14,899.08 1287.81,899.08 1290.47,899.08 1293.11,899.08 1295.74,899.08 1298.36,899.08 1300.96,899.08 1303.55,899.08 1306.13,899.08 1308.69,899.08 1311.25,899.08 1313.79,899.08 1316.32,899.08 1318.83,899.08 1321.33,899.08 1323.83,899.08 1326.31,899.08 1328.77,899.08 1331.23,899.08 1333.67,899.08 1336.1,899.08 1338.53,899.08 1340.93,899.08 1343.33,899.08 1345.72,899.08 1348.09,899.08 1350.46,899.08 1352.81,899.08 1355.15,899.08 1357.48,899.08 1359.8,899.08 1362.11,899.08 1364.41,899.08 1366.7,899.08 1368.98,899.08 1371.24,899.08 1373.5,899.08 1375.74,899.08 1377.98,899.08 1380.21,899.08 1382.42,899.08 1384.63,899.08 1386.82,899.08 1389.01,899.08 1391.18,899.08 1393.35,899.08 1395.5,899.08 1397.65,899.08 1399.79,899.08 1401.91,899.08 1404.03,899.08 1406.14,899.08 1408.24,899.08 1410.33,899.08 1412.41,899.08 1414.48,899.08 1416.54,899.08 1418.6,899.08 1420.64,899.08 1422.68,899.08 1424.7,899.08 1426.72,899.08 1428.73,899.08 1430.73,899.08 1432.72,899.08 1434.7,899.08 1436.68,899.08 1438.64,899.08 1440.6,899.08 1442.55,899.08 1444.49,899.08 1446.42,899.08 1448.35,899.08 1450.26,899.08 1452.17,899.08 1454.07,899.08 1455.96,899.08 1457.85,899.08 1459.72,899.08 1461.59,899.08 1463.45,899.08 1465.3,899.08 1467.15,899.08 1468.99,899.08 1470.82,899.08 1472.64,899.08 1474.45,899.08 1476.26,899.08 1478.06,899.08 1479.85,899.08 1481.64,899.08 1483.42,899.08 1485.19,899.08 1486.95,899.08 1488.71,899.08 1490.45,899.08 1492.2,899.08 1493.93,899.08 1495.66,899.08 1497.38,899.08 1499.09,899.08 1500.8,899.08 1502.5,899.08 1504.2,899.08 1505.88,899.08 1507.56,899.08 1509.24,899.08 1510.9,899.08 1512.56,899.08 1514.22,899.08 1515.87,899.08 1517.51,899.08 1519.14,899.08 1520.77,899.08 1522.39,899.08 1524.01,899.08 1525.62,899.08 1527.22,899.08 1528.82,899.08 1530.41,899.08 1531.99,899.08 1533.57,899.08 1535.14,899.08 1536.71,899.08 1538.27,899.08 1539.82,899.08 1541.37,899.08 1542.91,899.08 1544.45,899.08 1545.98,899.08 1547.51,899.08 1549.03,899.08 1550.54,899.08 1552.05,899.08 1553.55,899.08 1555.05,899.08 1556.54,899.08 1558.02,899.08 1559.5,899.08 1560.98,899.08 1562.45,899.08 1563.91,899.08 1565.37,899.08 1566.82,899.08 1568.27,899.08 1569.71,899.08 1571.15,899.08 1572.58,899.08 1574,899.08 1575.43,899.08 1576.84,899.08 1578.25,899.08 1579.66,899.08 1581.06,899.08 1582.45,899.08 1583.84,899.08 1585.23,899.08 1586.61,899.08 1587.99,899.08 1589.36,899.08 1590.72,899.08 1592.08,899.08 1593.44,899.08 1594.79,899.08 1596.14,899.08 1597.48,899.08 1598.81,899.08 1600.15,899.08 1601.47,899.08 1602.8,899.08 1604.11,899.08 1605.43,899.08 1606.74,899.08 1608.04,899.08 1609.34,899.08 1610.64,899.08 1611.93,899.08 1613.21,899.08 1614.49,899.08 1615.77,899.08 1617.04,899.08 1618.31,899.08 1619.58,899.08 1620.84,899.08 1622.09,899.08 1623.34,899.08 1624.59,899.08 1625.83,899.08 1627.07,899.08 1628.31,899.08 1629.54,899.08 1630.76,899.08 1631.98,899.08 1633.2,899.08 1634.41,899.08 1635.62,899.08 1636.83,899.08 1638.03,899.08 1639.23,899.08 1640.42,899.08 1641.61,899.08 1642.79,899.08 \"/>\n",
       "<polyline clip-path=\"url(#clip342)\" style=\"stroke:#e26f46; stroke-linecap:round; stroke-linejoin:round; stroke-width:4; stroke-opacity:1; fill:none\" points=\"222.871,899.08 233.467,899.08 243.959,899.08 254.347,899.08 264.633,899.08 274.819,899.08 284.907,899.08 294.896,899.08 304.79,899.08 314.589,899.08 324.294,899.08 333.908,899.08 343.431,899.08 352.864,899.08 362.209,899.08 371.468,899.08 380.64,899.08 389.728,899.08 398.733,899.08 407.656,899.08 416.497,899.08 425.258,899.08 433.941,899.08 442.545,899.08 451.073,899.08 459.525,899.08 467.902,899.08 476.205,899.08 484.436,899.08 492.594,899.08 500.682,899.08 508.7,899.08 516.648,899.08 524.529,899.08 532.341,899.08 540.088,899.08 547.769,899.08 555.385,899.08 562.937,899.08 570.425,899.08 577.852,899.08 585.217,899.08 592.52,899.08 599.764,899.08 606.949,899.08 614.074,899.08 621.142,899.08 628.153,899.08 635.107,899.08 642.005,899.08 648.848,899.08 655.636,899.08 662.371,899.08 669.052,899.08 675.681,899.08 682.258,899.08 688.783,899.08 695.258,899.08 701.682,899.08 708.057,899.08 714.383,899.08 720.66,899.08 726.89,899.08 733.072,899.08 739.207,899.08 745.296,899.08 751.339,899.08 757.337,899.08 763.29,899.08 769.198,899.08 775.063,899.08 780.885,899.08 786.664,899.08 792.401,899.08 798.095,899.08 803.749,899.08 809.361,899.08 814.933,899.08 820.465,899.08 825.957,899.08 831.41,899.08 836.824,899.08 842.199,899.08 847.537,899.08 852.837,899.08 858.1,899.08 863.326,899.08 868.516,899.08 873.669,899.08 878.787,899.08 883.87,899.08 888.918,899.08 893.931,899.08 898.91,899.08 903.855,899.08 908.766,899.08 913.645,899.08 918.49,899.08 923.303,899.08 928.084,899.08 932.833,899.08 937.55,899.08 942.236,899.08 946.891,899.08 951.516,899.08 956.11,899.08 960.674,899.08 965.209,899.08 969.714,899.08 974.19,899.08 978.637,899.08 983.055,899.08 987.445,899.08 991.807,899.08 996.141,899.08 1000.45,899.08 1004.73,899.08 1008.98,899.08 1013.21,899.08 1017.4,899.08 1021.58,899.08 1025.72,899.08 1029.85,899.08 1033.94,899.08 1038.01,899.08 1042.06,899.08 1046.08,899.08 1050.07,899.08 1054.05,899.08 1057.99,899.08 1061.92,899.08 1065.82,899.08 1069.69,899.08 1073.55,899.08 1077.38,899.08 1081.18,899.08 1084.97,899.08 1088.73,899.08 1092.47,899.08 1096.19,899.08 1099.88,899.08 1103.56,899.08 1107.21,899.08 1110.84,899.08 1114.45,899.08 1118.04,899.08 1121.61,899.08 1125.16,899.08 1128.68,899.08 1132.19,899.08 1135.68,899.08 1139.15,899.08 1142.59,899.08 1146.02,899.08 1149.43,899.08 1152.82,899.08 1156.19,899.08 1159.54,899.08 1162.88,899.08 1166.19,899.08 1169.49,899.08 1172.76,899.08 1176.02,899.08 1179.27,899.08 1182.49,899.08 1185.7,899.08 1188.88,899.08 1192.06,899.08 1195.21,899.08 1198.35,899.08 1201.47,899.08 1204.57,899.08 1207.66,899.08 1210.73,899.08 1213.78,899.08 1216.82,899.08 1219.84,899.08 1222.84,899.08 1225.83,899.08 1228.81,899.08 1231.76,899.08 1234.71,899.08 1237.63,899.08 1240.54,899.08 1243.44,899.08 1246.32,899.08 1249.19,899.08 1252.04,899.08 1254.88,899.08 1257.7,899.08 1260.51,899.08 1263.3,899.08 1266.08,899.08 1268.85,899.08 1271.6,899.08 1274.33,899.08 1277.06,899.08 1279.77,899.08 1282.46,899.08 1285.14,899.08 1287.81,899.08 1290.47,899.08 1293.11,899.08 1295.74,899.08 1298.36,899.08 1300.96,899.08 1303.55,899.08 1306.13,899.08 1308.69,899.08 1311.25,899.08 1313.79,899.08 1316.32,899.08 1318.83,899.08 1321.33,899.08 1323.83,899.08 1326.31,899.08 1328.77,899.08 1331.23,899.08 1333.67,899.08 1336.1,899.08 1338.53,899.08 1340.93,899.08 1343.33,899.08 1345.72,899.08 1348.09,899.08 1350.46,899.08 1352.81,899.08 1355.15,899.08 1357.48,899.08 1359.8,899.08 1362.11,899.08 1364.41,899.08 1366.7,899.08 1368.98,899.08 1371.24,899.08 1373.5,899.08 1375.74,899.08 1377.98,899.08 1380.21,899.08 1382.42,899.08 1384.63,899.08 1386.82,899.08 1389.01,899.08 1391.18,899.08 1393.35,899.08 1395.5,899.08 1397.65,899.08 1399.79,899.08 1401.91,899.08 1404.03,899.08 1406.14,899.08 1408.24,899.08 1410.33,899.08 1412.41,899.08 1414.48,899.08 1416.54,899.08 1418.6,899.08 1420.64,899.08 1422.68,899.08 1424.7,899.08 1426.72,899.08 1428.73,899.08 1430.73,899.08 1432.72,899.08 1434.7,899.08 1436.68,899.08 1438.64,899.08 1440.6,899.08 1442.55,899.08 1444.49,899.08 1446.42,899.08 1448.35,899.08 1450.26,899.08 1452.17,899.08 1454.07,899.08 1455.96,899.08 1457.85,899.08 1459.72,899.08 1461.59,899.08 1463.45,899.08 1465.3,899.08 1467.15,899.08 1468.99,899.08 1470.82,899.08 1472.64,899.08 1474.45,899.08 1476.26,899.08 1478.06,899.08 1479.85,899.08 1481.64,899.08 1483.42,899.08 1485.19,899.08 1486.95,899.08 1488.71,899.08 1490.45,899.08 1492.2,899.08 1493.93,899.08 1495.66,899.08 1497.38,899.08 1499.09,899.08 1500.8,899.08 1502.5,899.08 1504.2,899.08 1505.88,899.08 1507.56,899.08 1509.24,899.08 1510.9,899.08 1512.56,899.08 1514.22,899.08 1515.87,899.08 1517.51,899.08 1519.14,899.08 1520.77,899.08 1522.39,899.08 1524.01,899.08 1525.62,899.08 1527.22,899.08 1528.82,899.08 1530.41,899.08 1531.99,899.08 1533.57,899.08 1535.14,899.08 1536.71,899.08 1538.27,899.08 1539.82,899.08 1541.37,899.08 1542.91,899.08 1544.45,899.08 1545.98,899.08 1547.51,899.08 1549.03,899.08 1550.54,899.08 1552.05,899.08 1553.55,899.08 1555.05,899.08 1556.54,899.08 1558.02,899.08 1559.5,899.08 1560.98,899.08 1562.45,899.08 1563.91,899.08 1565.37,899.08 1566.82,899.08 1568.27,899.08 1569.71,899.08 1571.15,899.08 1572.58,899.08 1574,899.08 1575.43,899.08 1576.84,899.08 1578.25,899.08 1579.66,899.08 1581.06,899.08 1582.45,899.08 1583.84,899.08 1585.23,899.08 1586.61,899.08 1587.99,899.08 1589.36,899.08 1590.72,899.08 1592.08,899.08 1593.44,899.08 1594.79,899.08 1596.14,899.08 1597.48,899.08 1598.81,899.08 1600.15,899.08 1601.47,899.08 1602.8,899.08 1604.11,899.08 1605.43,899.08 1606.74,899.08 1608.04,899.08 1609.34,899.08 1610.64,899.08 1611.93,899.08 1613.21,899.08 1614.49,899.08 1615.77,899.08 1617.04,899.08 1618.31,899.08 1619.58,899.08 1620.84,899.08 1622.09,899.08 1623.34,899.08 1624.59,899.08 1625.83,899.08 1627.07,899.08 1628.31,899.08 1629.54,899.08 1630.76,899.08 1631.98,899.08 1633.2,899.08 1634.41,899.08 1635.62,899.08 1636.83,899.08 1638.03,899.08 1639.23,899.08 1640.42,899.08 1641.61,899.08 1642.79,899.08 \"/>\n",
       "<polyline clip-path=\"url(#clip342)\" style=\"stroke:#3da44d; stroke-linecap:round; stroke-linejoin:round; stroke-width:4; stroke-opacity:1; fill:none\" points=\"222.871,899.08 233.467,899.08 243.959,899.08 254.347,899.08 264.633,899.08 274.819,899.08 284.907,899.08 294.896,899.08 304.79,899.08 314.589,899.08 324.294,899.08 333.908,899.08 343.431,899.08 352.864,899.08 362.209,899.08 371.468,899.08 380.64,899.08 389.728,899.08 398.733,899.08 407.656,899.08 416.497,899.08 425.258,899.08 433.941,899.08 442.545,899.08 451.073,899.08 459.525,899.08 467.902,899.08 476.205,899.08 484.436,899.08 492.594,899.08 500.682,899.08 508.7,899.08 516.648,899.08 524.529,899.08 532.341,899.08 540.088,899.08 547.769,899.08 555.385,899.08 562.937,899.08 570.425,899.08 577.852,899.08 585.217,899.08 592.52,899.08 599.764,899.08 606.949,899.08 614.074,899.08 621.142,899.08 628.153,899.08 635.107,899.08 642.005,899.08 648.848,899.08 655.636,899.08 662.371,899.08 669.052,899.08 675.681,899.08 682.258,899.08 688.783,899.08 695.258,899.08 701.682,899.08 708.057,899.08 714.383,899.08 720.66,899.08 726.89,899.08 733.072,899.08 739.207,899.08 745.296,899.08 751.339,899.08 757.337,899.08 763.29,899.08 769.198,899.08 775.063,899.08 780.885,899.08 786.664,899.08 792.401,899.08 798.095,899.08 803.749,899.08 809.361,899.08 814.933,899.08 820.465,899.08 825.957,899.08 831.41,899.08 836.824,899.08 842.199,899.08 847.537,899.08 852.837,899.08 858.1,899.08 863.326,899.08 868.516,899.08 873.669,899.08 878.787,899.08 883.87,899.08 888.918,899.08 893.931,899.08 898.91,899.08 903.855,899.08 908.766,899.08 913.645,899.08 918.49,899.08 923.303,899.08 928.084,899.08 932.833,899.08 937.55,899.08 942.236,899.08 946.891,899.08 951.516,899.08 956.11,899.08 960.674,899.08 965.209,899.08 969.714,899.08 974.19,899.08 978.637,899.08 983.055,899.08 987.445,899.08 991.807,899.08 996.141,899.08 1000.45,899.08 1004.73,899.08 1008.98,899.08 1013.21,899.08 1017.4,899.08 1021.58,899.08 1025.72,899.08 1029.85,899.08 1033.94,899.08 1038.01,899.08 1042.06,899.08 1046.08,899.08 1050.07,899.08 1054.05,899.08 1057.99,899.08 1061.92,899.08 1065.82,899.08 1069.69,899.08 1073.55,899.08 1077.38,899.08 1081.18,899.08 1084.97,899.08 1088.73,899.08 1092.47,899.08 1096.19,899.08 1099.88,899.08 1103.56,899.08 1107.21,899.08 1110.84,899.08 1114.45,899.08 1118.04,899.08 1121.61,899.08 1125.16,899.08 1128.68,899.08 1132.19,899.08 1135.68,899.08 1139.15,899.08 1142.59,899.08 1146.02,899.08 1149.43,899.08 1152.82,899.08 1156.19,899.08 1159.54,899.08 1162.88,899.08 1166.19,899.08 1169.49,899.08 1172.76,899.08 1176.02,899.08 1179.27,899.08 1182.49,899.08 1185.7,899.08 1188.88,899.08 1192.06,899.08 1195.21,899.08 1198.35,899.08 1201.47,899.08 1204.57,899.08 1207.66,899.08 1210.73,899.08 1213.78,899.08 1216.82,899.08 1219.84,899.08 1222.84,899.08 1225.83,899.08 1228.81,899.08 1231.76,899.08 1234.71,899.08 1237.63,899.08 1240.54,899.08 1243.44,899.08 1246.32,899.08 1249.19,899.08 1252.04,899.08 1254.88,899.08 1257.7,899.08 1260.51,899.08 1263.3,899.08 1266.08,899.08 1268.85,899.08 1271.6,899.08 1274.33,899.08 1277.06,899.08 1279.77,899.08 1282.46,899.08 1285.14,899.08 1287.81,899.08 1290.47,899.08 1293.11,899.08 1295.74,899.08 1298.36,899.08 1300.96,899.08 1303.55,899.08 1306.13,899.08 1308.69,899.08 1311.25,899.08 1313.79,899.08 1316.32,899.08 1318.83,899.08 1321.33,899.08 1323.83,899.08 1326.31,899.08 1328.77,899.08 1331.23,899.08 1333.67,899.08 1336.1,899.08 1338.53,899.08 1340.93,899.08 1343.33,899.08 1345.72,899.08 1348.09,899.08 1350.46,899.08 1352.81,899.08 1355.15,899.08 1357.48,899.08 1359.8,899.08 1362.11,899.08 1364.41,899.08 1366.7,899.08 1368.98,899.08 1371.24,899.08 1373.5,899.08 1375.74,899.08 1377.98,899.08 1380.21,899.08 1382.42,899.08 1384.63,899.08 1386.82,899.08 1389.01,899.08 1391.18,899.08 1393.35,899.08 1395.5,899.08 1397.65,899.08 1399.79,899.08 1401.91,899.08 1404.03,899.08 1406.14,899.08 1408.24,899.08 1410.33,899.08 1412.41,899.08 1414.48,899.08 1416.54,899.08 1418.6,899.08 1420.64,899.08 1422.68,899.08 1424.7,899.08 1426.72,899.08 1428.73,899.08 1430.73,899.08 1432.72,899.08 1434.7,899.08 1436.68,899.08 1438.64,899.08 1440.6,899.08 1442.55,899.08 1444.49,899.08 1446.42,899.08 1448.35,899.08 1450.26,899.08 1452.17,899.08 1454.07,899.08 1455.96,899.08 1457.85,899.08 1459.72,899.08 1461.59,899.08 1463.45,899.08 1465.3,899.08 1467.15,899.08 1468.99,899.08 1470.82,899.08 1472.64,899.08 1474.45,899.08 1476.26,899.08 1478.06,899.08 1479.85,899.08 1481.64,899.08 1483.42,899.08 1485.19,899.08 1486.95,899.08 1488.71,899.08 1490.45,899.08 1492.2,899.08 1493.93,899.08 1495.66,899.08 1497.38,899.08 1499.09,899.08 1500.8,899.08 1502.5,899.08 1504.2,899.08 1505.88,899.08 1507.56,899.08 1509.24,899.08 1510.9,899.08 1512.56,899.08 1514.22,899.08 1515.87,899.08 1517.51,899.08 1519.14,899.08 1520.77,899.08 1522.39,899.08 1524.01,899.08 1525.62,899.08 1527.22,899.08 1528.82,899.08 1530.41,899.08 1531.99,899.08 1533.57,899.08 1535.14,899.08 1536.71,899.08 1538.27,899.08 1539.82,899.08 1541.37,899.08 1542.91,899.08 1544.45,899.08 1545.98,899.08 1547.51,899.08 1549.03,899.08 1550.54,899.08 1552.05,899.08 1553.55,899.08 1555.05,899.08 1556.54,899.08 1558.02,899.08 1559.5,899.08 1560.98,899.08 1562.45,899.08 1563.91,899.08 1565.37,899.08 1566.82,899.08 1568.27,899.08 1569.71,899.08 1571.15,899.08 1572.58,899.08 1574,899.08 1575.43,899.08 1576.84,899.08 1578.25,899.08 1579.66,899.08 1581.06,899.08 1582.45,899.08 1583.84,899.08 1585.23,899.08 1586.61,899.08 1587.99,899.08 1589.36,899.08 1590.72,899.08 1592.08,899.08 1593.44,899.08 1594.79,899.08 1596.14,899.08 1597.48,899.08 1598.81,899.08 1600.15,899.08 1601.47,899.08 1602.8,899.08 1604.11,899.08 1605.43,899.08 1606.74,899.08 1608.04,899.08 1609.34,899.08 1610.64,899.08 1611.93,899.08 1613.21,899.08 1614.49,899.08 1615.77,899.08 1617.04,899.08 1618.31,899.08 1619.58,899.08 1620.84,899.08 1622.09,899.08 1623.34,899.08 1624.59,899.08 1625.83,899.08 1627.07,899.08 1628.31,899.08 1629.54,899.08 1630.76,899.08 1631.98,899.08 1633.2,899.08 1634.41,899.08 1635.62,899.08 1636.83,899.08 1638.03,899.08 1639.23,899.08 1640.42,899.08 1641.61,899.08 1642.79,899.08 \"/>\n",
       "<polyline clip-path=\"url(#clip342)\" style=\"stroke:#c271d2; stroke-linecap:round; stroke-linejoin:round; stroke-width:4; stroke-opacity:1; fill:none\" points=\"222.871,899.08 233.467,899.075 243.959,899.056 254.347,899.018 264.633,898.96 274.819,898.879 284.907,898.769 294.896,898.623 304.79,898.433 314.589,898.19 324.294,897.88 333.908,897.492 343.431,897.008 352.864,896.413 362.209,895.686 371.468,894.806 380.64,893.749 389.728,892.49 398.733,891.002 407.656,889.256 416.497,887.221 425.258,884.868 433.941,882.165 442.545,879.079 451.073,875.579 459.525,871.636 467.902,867.218 476.205,862.301 484.436,856.859 492.594,850.871 500.682,844.32 508.7,837.194 516.648,829.486 524.529,821.193 532.341,812.319 540.088,802.877 547.769,792.882 555.385,782.361 562.937,771.344 570.425,759.87 577.852,747.986 585.217,735.743 592.52,723.202 599.764,710.427 606.949,697.489 614.074,684.465 621.142,671.433 628.153,658.479 635.107,645.687 642.005,633.147 648.848,620.947 655.636,609.175 662.371,597.921 669.052,587.269 675.681,577.304 682.258,568.104 688.783,559.745 695.258,552.297 701.682,545.824 708.057,540.383 714.383,536.025 720.66,532.793 726.89,530.721 733.072,529.837 739.207,530.158 745.296,531.697 751.339,534.454 757.337,538.424 763.29,543.591 769.198,549.936 775.063,557.426 780.885,566.028 786.664,575.697 792.401,586.385 798.095,598.037 803.749,610.594 809.361,623.992 814.933,638.165 820.465,653.041 825.957,668.548 831.41,684.611 836.824,701.154 842.199,718.101 847.537,735.376 852.837,752.903 858.1,770.606 863.326,788.412 868.516,806.25 873.669,824.05 878.787,841.746 883.87,859.274 888.918,876.574 893.931,893.59 898.91,910.267 903.855,926.557 908.766,942.415 913.645,957.798 918.49,972.671 923.303,986.998 928.084,1000.75 932.833,1013.91 937.55,1026.44 942.236,1038.34 946.891,1049.59 951.516,1060.17 956.11,1070.09 960.674,1079.34 965.209,1087.91 969.714,1095.82 974.19,1103.06 978.637,1109.64 983.055,1115.57 987.445,1120.87 991.807,1125.55 996.141,1129.63 1000.45,1133.11 1004.73,1136.03 1008.98,1138.39 1013.21,1140.23 1017.4,1141.55 1021.58,1142.39 1025.72,1142.77 1029.85,1142.7 1033.94,1142.22 1038.01,1141.34 1042.06,1140.1 1046.08,1138.5 1050.07,1136.58 1054.05,1134.35 1057.99,1131.85 1061.92,1129.08 1065.82,1126.08 1069.69,1122.87 1073.55,1119.45 1077.38,1115.86 1081.18,1112.11 1084.97,1108.22 1088.73,1104.2 1092.47,1100.08 1096.19,1095.87 1099.88,1091.58 1103.56,1087.23 1107.21,1082.83 1110.84,1078.4 1114.45,1073.94 1118.04,1069.47 1121.61,1064.99 1125.16,1060.53 1128.68,1056.08 1132.19,1051.65 1135.68,1047.26 1139.15,1042.91 1142.59,1038.6 1146.02,1034.35 1149.43,1030.15 1152.82,1026.01 1156.19,1021.95 1159.54,1017.95 1162.88,1014.02 1166.19,1010.17 1169.49,1006.4 1172.76,1002.71 1176.02,999.108 1179.27,995.586 1182.49,992.149 1185.7,988.798 1188.88,985.534 1192.06,982.356 1195.21,979.266 1198.35,976.262 1201.47,973.344 1204.57,970.512 1207.66,967.766 1210.73,965.103 1213.78,962.524 1216.82,960.026 1219.84,957.609 1222.84,955.272 1225.83,953.013 1228.81,950.831 1231.76,948.723 1234.71,946.689 1237.63,944.727 1240.54,942.835 1243.44,941.011 1246.32,939.254 1249.19,937.562 1252.04,935.933 1254.88,934.366 1257.7,932.858 1260.51,931.408 1263.3,930.014 1266.08,928.675 1268.85,927.389 1271.6,926.154 1274.33,924.968 1277.06,923.83 1279.77,922.738 1282.46,921.691 1285.14,920.687 1287.81,919.725 1290.47,918.803 1293.11,917.919 1295.74,917.072 1298.36,916.262 1300.96,915.486 1303.55,914.743 1306.13,914.032 1308.69,913.352 1311.25,912.701 1313.79,912.079 1316.32,911.484 1318.83,910.915 1321.33,910.371 1323.83,909.851 1326.31,909.355 1328.77,908.88 1331.23,908.427 1333.67,907.994 1336.1,907.581 1338.53,907.186 1340.93,906.81 1343.33,906.45 1345.72,906.107 1348.09,905.779 1350.46,905.467 1352.81,905.169 1355.15,904.884 1357.48,904.613 1359.8,904.354 1362.11,904.108 1364.41,903.873 1366.7,903.648 1368.98,903.434 1371.24,903.231 1373.5,903.036 1375.74,902.851 1377.98,902.675 1380.21,902.506 1382.42,902.346 1384.63,902.194 1386.82,902.048 1389.01,901.909 1391.18,901.777 1393.35,901.652 1395.5,901.532 1397.65,901.418 1399.79,901.309 1401.91,901.206 1404.03,901.107 1406.14,901.013 1408.24,900.924 1410.33,900.839 1412.41,900.758 1414.48,900.681 1416.54,900.607 1418.6,900.537 1420.64,900.471 1422.68,900.407 1424.7,900.347 1426.72,900.289 1428.73,900.235 1430.73,900.183 1432.72,900.133 1434.7,900.086 1436.68,900.041 1438.64,899.998 1440.6,899.958 1442.55,899.919 1444.49,899.882 1446.42,899.847 1448.35,899.814 1450.26,899.782 1452.17,899.751 1454.07,899.723 1455.96,899.695 1457.85,899.669 1459.72,899.644 1461.59,899.621 1463.45,899.598 1465.3,899.577 1467.15,899.556 1468.99,899.537 1470.82,899.518 1472.64,899.501 1474.45,899.484 1476.26,899.468 1478.06,899.453 1479.85,899.439 1481.64,899.425 1483.42,899.412 1485.19,899.399 1486.95,899.387 1488.71,899.376 1490.45,899.365 1492.2,899.355 1493.93,899.345 1495.66,899.336 1497.38,899.327 1499.09,899.319 1500.8,899.311 1502.5,899.303 1504.2,899.296 1505.88,899.289 1507.56,899.282 1509.24,899.276 1510.9,899.27 1512.56,899.264 1514.22,899.259 1515.87,899.254 1517.51,899.249 1519.14,899.244 1520.77,899.24 1522.39,899.235 1524.01,899.231 1525.62,899.227 1527.22,899.224 1528.82,899.22 1530.41,899.217 1531.99,899.214 1533.57,899.211 1535.14,899.208 1536.71,899.205 1538.27,899.202 1539.82,899.2 1541.37,899.197 1542.91,899.195 1544.45,899.193 1545.98,899.191 1547.51,899.189 1549.03,899.187 1550.54,899.185 1552.05,899.183 1553.55,899.182 1555.05,899.18 1556.54,899.179 1558.02,899.177 1559.5,899.176 1560.98,899.175 1562.45,899.173 1563.91,899.172 1565.37,899.171 1566.82,899.17 1568.27,899.169 1569.71,899.168 1571.15,899.167 1572.58,899.166 1574,899.165 1575.43,899.165 1576.84,899.164 1578.25,899.163 1579.66,899.162 1581.06,899.162 1582.45,899.161 1583.84,899.161 1585.23,899.16 1586.61,899.159 1587.99,899.159 1589.36,899.158 1590.72,899.158 1592.08,899.157 1593.44,899.157 1594.79,899.157 1596.14,899.156 1597.48,899.156 1598.81,899.155 1600.15,899.155 1601.47,899.155 1602.8,899.154 1604.11,899.154 1605.43,899.154 1606.74,899.153 1608.04,899.153 1609.34,899.153 1610.64,899.153 1611.93,899.152 1613.21,899.152 1614.49,899.152 1615.77,899.152 1617.04,899.152 1618.31,899.151 1619.58,899.151 1620.84,899.151 1622.09,899.151 1623.34,899.151 1624.59,899.151 1625.83,899.15 1627.07,899.15 1628.31,899.15 1629.54,899.15 1630.76,899.15 1631.98,899.15 1633.2,899.15 1634.41,899.15 1635.62,899.15 1636.83,899.149 1638.03,899.149 1639.23,899.149 1640.42,899.149 1641.61,899.149 1642.79,899.149 \"/>\n",
       "<polyline clip-path=\"url(#clip342)\" style=\"stroke:#ac8d18; stroke-linecap:round; stroke-linejoin:round; stroke-width:4; stroke-opacity:1; fill:none\" points=\"222.871,898.957 233.467,898.944 243.959,898.901 254.347,898.824 264.633,898.709 274.819,898.547 284.907,898.328 294.896,898.038 304.79,897.661 314.589,897.175 324.294,896.559 333.908,895.784 343.431,894.82 352.864,893.633 362.209,892.182 371.468,890.426 380.64,888.316 389.728,885.803 398.733,882.831 407.656,879.344 416.497,875.281 425.258,870.581 433.941,865.179 442.545,859.012 451.073,852.018 459.525,844.135 467.902,835.306 476.205,825.475 484.436,814.594 492.594,802.621 500.682,789.522 508.7,775.271 516.648,759.855 524.529,743.268 532.341,725.52 540.088,706.631 547.769,686.639 555.385,665.59 562.937,643.55 570.425,620.595 577.852,596.817 585.217,572.322 592.52,547.228 599.764,521.667 606.949,495.779 614.074,469.716 621.142,443.64 628.153,417.716 635.107,392.118 642.005,367.023 648.848,342.607 655.636,319.049 662.371,296.526 669.052,275.209 675.681,255.264 682.258,236.852 688.783,220.123 695.258,205.217 701.682,192.261 708.057,181.371 714.383,172.647 720.66,166.176 726.89,162.028 733.072,160.256 739.207,160.898 745.296,163.975 751.339,169.491 757.337,177.432 763.29,187.771 769.198,200.464 775.063,215.452 780.885,232.662 786.664,252.009 792.401,273.394 798.095,296.708 803.749,321.833 809.361,348.641 814.933,376.997 820.465,406.761 825.957,437.787 831.41,469.926 836.824,503.026 842.199,536.933 847.537,571.496 852.837,606.561 858.1,641.979 863.326,677.604 868.516,713.291 873.669,748.902 878.787,784.305 883.87,819.371 888.918,853.981 893.931,888.021 898.91,921.384 903.855,953.972 908.766,985.694 913.645,1016.47 918.49,1046.22 923.303,1074.88 928.084,1102.39 932.833,1128.71 937.55,1153.78 942.236,1177.58 946.891,1200.07 951.516,1221.25 956.11,1241.08 960.674,1259.57 965.209,1276.72 969.714,1292.53 974.19,1307.01 978.637,1320.17 983.055,1332.04 987.445,1342.64 991.807,1351.99 996.141,1360.14 1000.45,1367.1 1004.73,1372.93 1008.98,1377.66 1013.21,1381.32 1017.4,1383.97 1021.58,1385.65 1025.72,1386.4 1029.85,1386.26 1033.94,1385.29 1038.01,1383.54 1042.06,1381.04 1046.08,1377.84 1050.07,1373.99 1054.05,1369.54 1057.99,1364.52 1061.92,1358.99 1065.82,1352.99 1069.69,1346.55 1073.55,1339.72 1077.38,1332.53 1081.18,1325.02 1084.97,1317.24 1088.73,1309.21 1092.47,1300.96 1096.19,1292.53 1099.88,1283.96 1103.56,1275.25 1107.21,1266.45 1110.84,1257.58 1114.45,1248.66 1118.04,1239.72 1121.61,1230.77 1125.16,1221.84 1128.68,1212.94 1132.19,1204.08 1135.68,1195.3 1139.15,1186.59 1142.59,1177.98 1146.02,1169.47 1149.43,1161.07 1152.82,1152.8 1156.19,1144.66 1159.54,1136.67 1162.88,1128.82 1166.19,1121.12 1169.49,1113.58 1172.76,1106.2 1176.02,1098.99 1179.27,1091.94 1182.49,1085.07 1185.7,1078.37 1188.88,1071.84 1192.06,1065.48 1195.21,1059.3 1198.35,1053.29 1201.47,1047.46 1204.57,1041.8 1207.66,1036.3 1210.73,1030.98 1213.78,1025.82 1216.82,1020.82 1219.84,1015.99 1222.84,1011.32 1225.83,1006.8 1228.81,1002.43 1231.76,998.219 1234.71,994.151 1237.63,990.227 1240.54,986.443 1243.44,982.796 1246.32,979.282 1249.19,975.898 1252.04,972.641 1254.88,969.506 1257.7,966.491 1260.51,963.592 1263.3,960.805 1266.08,958.127 1268.85,955.555 1271.6,953.085 1274.33,950.713 1277.06,948.438 1279.77,946.255 1282.46,944.161 1285.14,942.153 1287.81,940.228 1290.47,938.384 1293.11,936.617 1295.74,934.924 1298.36,933.303 1300.96,931.751 1303.55,930.265 1306.13,928.844 1308.69,927.484 1311.25,926.183 1313.79,924.938 1316.32,923.748 1318.83,922.611 1321.33,921.523 1323.83,920.484 1326.31,919.491 1328.77,918.542 1331.23,917.636 1333.67,916.771 1336.1,915.944 1338.53,915.155 1340.93,914.402 1343.33,913.683 1345.72,912.996 1348.09,912.341 1350.46,911.717 1352.81,911.12 1355.15,910.552 1357.48,910.009 1359.8,909.492 1362.11,908.999 1364.41,908.528 1366.7,908.08 1368.98,907.652 1371.24,907.245 1373.5,906.856 1375.74,906.486 1377.98,906.133 1380.21,905.797 1382.42,905.476 1384.63,905.171 1386.82,904.88 1389.01,904.603 1391.18,904.339 1393.35,904.088 1395.5,903.848 1397.65,903.62 1399.79,903.403 1401.91,903.196 1404.03,902.999 1406.14,902.811 1408.24,902.632 1410.33,902.462 1412.41,902.3 1414.48,902.146 1416.54,901.999 1418.6,901.859 1420.64,901.726 1422.68,901.599 1424.7,901.478 1426.72,901.364 1428.73,901.254 1430.73,901.15 1432.72,901.051 1434.7,900.957 1436.68,900.867 1438.64,900.781 1440.6,900.7 1442.55,900.623 1444.49,900.549 1446.42,900.479 1448.35,900.412 1450.26,900.348 1452.17,900.288 1454.07,900.23 1455.96,900.175 1457.85,900.123 1459.72,900.074 1461.59,900.026 1463.45,899.981 1465.3,899.938 1467.15,899.898 1468.99,899.859 1470.82,899.822 1472.64,899.787 1474.45,899.753 1476.26,899.721 1478.06,899.691 1479.85,899.662 1481.64,899.635 1483.42,899.608 1485.19,899.583 1486.95,899.56 1488.71,899.537 1490.45,899.516 1492.2,899.495 1493.93,899.476 1495.66,899.457 1497.38,899.439 1499.09,899.422 1500.8,899.406 1502.5,899.391 1504.2,899.377 1505.88,899.363 1507.56,899.35 1509.24,899.337 1510.9,899.325 1512.56,899.314 1514.22,899.303 1515.87,899.292 1517.51,899.283 1519.14,899.273 1520.77,899.264 1522.39,899.256 1524.01,899.248 1525.62,899.24 1527.22,899.232 1528.82,899.225 1530.41,899.219 1531.99,899.212 1533.57,899.206 1535.14,899.2 1536.71,899.195 1538.27,899.19 1539.82,899.185 1541.37,899.18 1542.91,899.175 1544.45,899.171 1545.98,899.167 1547.51,899.163 1549.03,899.159 1550.54,899.155 1552.05,899.152 1553.55,899.149 1555.05,899.146 1556.54,899.143 1558.02,899.14 1559.5,899.137 1560.98,899.135 1562.45,899.132 1563.91,899.13 1565.37,899.128 1566.82,899.125 1568.27,899.123 1569.71,899.121 1571.15,899.12 1572.58,899.118 1574,899.116 1575.43,899.114 1576.84,899.113 1578.25,899.111 1579.66,899.11 1581.06,899.109 1582.45,899.107 1583.84,899.106 1585.23,899.105 1586.61,899.104 1587.99,899.103 1589.36,899.102 1590.72,899.101 1592.08,899.1 1593.44,899.099 1594.79,899.098 1596.14,899.097 1597.48,899.097 1598.81,899.096 1600.15,899.095 1601.47,899.095 1602.8,899.094 1604.11,899.093 1605.43,899.093 1606.74,899.092 1608.04,899.092 1609.34,899.091 1610.64,899.091 1611.93,899.09 1613.21,899.09 1614.49,899.089 1615.77,899.089 1617.04,899.088 1618.31,899.088 1619.58,899.088 1620.84,899.087 1622.09,899.087 1623.34,899.087 1624.59,899.086 1625.83,899.086 1627.07,899.086 1628.31,899.086 1629.54,899.085 1630.76,899.085 1631.98,899.085 1633.2,899.085 1634.41,899.084 1635.62,899.084 1636.83,899.084 1638.03,899.084 1639.23,899.084 1640.42,899.084 1641.61,899.083 1642.79,899.083 \"/>\n",
       "<polyline clip-path=\"url(#clip342)\" style=\"stroke:#00a9ad; stroke-linecap:round; stroke-linejoin:round; stroke-width:4; stroke-opacity:1; fill:none\" points=\"222.871,899.08 233.467,899.08 243.959,899.08 254.347,899.08 264.633,899.08 274.819,899.08 284.907,899.08 294.896,899.08 304.79,899.08 314.589,899.08 324.294,899.08 333.908,899.08 343.431,899.08 352.864,899.08 362.209,899.08 371.468,899.08 380.64,899.08 389.728,899.08 398.733,899.08 407.656,899.08 416.497,899.08 425.258,899.08 433.941,899.08 442.545,899.08 451.073,899.08 459.525,899.08 467.902,899.08 476.205,899.08 484.436,899.08 492.594,899.08 500.682,899.08 508.7,899.08 516.648,899.08 524.529,899.08 532.341,899.08 540.088,899.08 547.769,899.08 555.385,899.08 562.937,899.08 570.425,899.08 577.852,899.08 585.217,899.08 592.52,899.08 599.764,899.08 606.949,899.08 614.074,899.08 621.142,899.08 628.153,899.08 635.107,899.08 642.005,899.08 648.848,899.08 655.636,899.08 662.371,899.08 669.052,899.08 675.681,899.08 682.258,899.08 688.783,899.08 695.258,899.08 701.682,899.08 708.057,899.08 714.383,899.08 720.66,899.08 726.89,899.08 733.072,899.08 739.207,899.08 745.296,899.08 751.339,899.08 757.337,899.08 763.29,899.08 769.198,899.08 775.063,899.08 780.885,899.08 786.664,899.08 792.401,899.08 798.095,899.08 803.749,899.08 809.361,899.08 814.933,899.08 820.465,899.08 825.957,899.08 831.41,899.08 836.824,899.08 842.199,899.08 847.537,899.08 852.837,899.08 858.1,899.08 863.326,899.08 868.516,899.08 873.669,899.08 878.787,899.08 883.87,899.08 888.918,899.08 893.931,899.08 898.91,899.08 903.855,899.08 908.766,899.08 913.645,899.08 918.49,899.08 923.303,899.08 928.084,899.08 932.833,899.08 937.55,899.08 942.236,899.08 946.891,899.08 951.516,899.08 956.11,899.08 960.674,899.08 965.209,899.08 969.714,899.08 974.19,899.08 978.637,899.08 983.055,899.08 987.445,899.08 991.807,899.08 996.141,899.08 1000.45,899.08 1004.73,899.08 1008.98,899.08 1013.21,899.08 1017.4,899.08 1021.58,899.08 1025.72,899.08 1029.85,899.08 1033.94,899.08 1038.01,899.08 1042.06,899.08 1046.08,899.08 1050.07,899.08 1054.05,899.08 1057.99,899.08 1061.92,899.08 1065.82,899.08 1069.69,899.08 1073.55,899.08 1077.38,899.08 1081.18,899.08 1084.97,899.08 1088.73,899.08 1092.47,899.08 1096.19,899.08 1099.88,899.08 1103.56,899.08 1107.21,899.08 1110.84,899.08 1114.45,899.08 1118.04,899.08 1121.61,899.08 1125.16,899.08 1128.68,899.08 1132.19,899.08 1135.68,899.08 1139.15,899.08 1142.59,899.08 1146.02,899.08 1149.43,899.08 1152.82,899.08 1156.19,899.08 1159.54,899.08 1162.88,899.08 1166.19,899.08 1169.49,899.08 1172.76,899.08 1176.02,899.08 1179.27,899.08 1182.49,899.08 1185.7,899.08 1188.88,899.08 1192.06,899.08 1195.21,899.08 1198.35,899.08 1201.47,899.08 1204.57,899.08 1207.66,899.08 1210.73,899.08 1213.78,899.08 1216.82,899.08 1219.84,899.08 1222.84,899.08 1225.83,899.08 1228.81,899.08 1231.76,899.08 1234.71,899.08 1237.63,899.08 1240.54,899.08 1243.44,899.08 1246.32,899.08 1249.19,899.08 1252.04,899.08 1254.88,899.08 1257.7,899.08 1260.51,899.08 1263.3,899.08 1266.08,899.08 1268.85,899.08 1271.6,899.08 1274.33,899.08 1277.06,899.08 1279.77,899.08 1282.46,899.08 1285.14,899.08 1287.81,899.08 1290.47,899.08 1293.11,899.08 1295.74,899.08 1298.36,899.08 1300.96,899.08 1303.55,899.08 1306.13,899.08 1308.69,899.08 1311.25,899.08 1313.79,899.08 1316.32,899.08 1318.83,899.08 1321.33,899.08 1323.83,899.08 1326.31,899.08 1328.77,899.08 1331.23,899.08 1333.67,899.08 1336.1,899.08 1338.53,899.08 1340.93,899.08 1343.33,899.08 1345.72,899.08 1348.09,899.08 1350.46,899.08 1352.81,899.08 1355.15,899.08 1357.48,899.08 1359.8,899.08 1362.11,899.08 1364.41,899.08 1366.7,899.08 1368.98,899.08 1371.24,899.08 1373.5,899.08 1375.74,899.08 1377.98,899.08 1380.21,899.08 1382.42,899.08 1384.63,899.08 1386.82,899.08 1389.01,899.08 1391.18,899.08 1393.35,899.08 1395.5,899.08 1397.65,899.08 1399.79,899.08 1401.91,899.08 1404.03,899.08 1406.14,899.08 1408.24,899.08 1410.33,899.08 1412.41,899.08 1414.48,899.08 1416.54,899.08 1418.6,899.08 1420.64,899.08 1422.68,899.08 1424.7,899.08 1426.72,899.08 1428.73,899.08 1430.73,899.08 1432.72,899.08 1434.7,899.08 1436.68,899.08 1438.64,899.08 1440.6,899.08 1442.55,899.08 1444.49,899.08 1446.42,899.08 1448.35,899.08 1450.26,899.08 1452.17,899.08 1454.07,899.08 1455.96,899.08 1457.85,899.08 1459.72,899.08 1461.59,899.08 1463.45,899.08 1465.3,899.08 1467.15,899.08 1468.99,899.08 1470.82,899.08 1472.64,899.08 1474.45,899.08 1476.26,899.08 1478.06,899.08 1479.85,899.08 1481.64,899.08 1483.42,899.08 1485.19,899.08 1486.95,899.08 1488.71,899.08 1490.45,899.08 1492.2,899.08 1493.93,899.08 1495.66,899.08 1497.38,899.08 1499.09,899.08 1500.8,899.08 1502.5,899.08 1504.2,899.08 1505.88,899.08 1507.56,899.08 1509.24,899.08 1510.9,899.08 1512.56,899.08 1514.22,899.08 1515.87,899.08 1517.51,899.08 1519.14,899.08 1520.77,899.08 1522.39,899.08 1524.01,899.08 1525.62,899.08 1527.22,899.08 1528.82,899.08 1530.41,899.08 1531.99,899.08 1533.57,899.08 1535.14,899.08 1536.71,899.08 1538.27,899.08 1539.82,899.08 1541.37,899.08 1542.91,899.08 1544.45,899.08 1545.98,899.08 1547.51,899.08 1549.03,899.08 1550.54,899.08 1552.05,899.08 1553.55,899.08 1555.05,899.08 1556.54,899.08 1558.02,899.08 1559.5,899.08 1560.98,899.08 1562.45,899.08 1563.91,899.08 1565.37,899.08 1566.82,899.08 1568.27,899.08 1569.71,899.08 1571.15,899.08 1572.58,899.08 1574,899.08 1575.43,899.08 1576.84,899.08 1578.25,899.08 1579.66,899.08 1581.06,899.08 1582.45,899.08 1583.84,899.08 1585.23,899.08 1586.61,899.08 1587.99,899.08 1589.36,899.08 1590.72,899.08 1592.08,899.08 1593.44,899.08 1594.79,899.08 1596.14,899.08 1597.48,899.08 1598.81,899.08 1600.15,899.08 1601.47,899.08 1602.8,899.08 1604.11,899.08 1605.43,899.08 1606.74,899.08 1608.04,899.08 1609.34,899.08 1610.64,899.08 1611.93,899.08 1613.21,899.08 1614.49,899.08 1615.77,899.08 1617.04,899.08 1618.31,899.08 1619.58,899.08 1620.84,899.08 1622.09,899.08 1623.34,899.08 1624.59,899.08 1625.83,899.08 1627.07,899.08 1628.31,899.08 1629.54,899.08 1630.76,899.08 1631.98,899.08 1633.2,899.08 1634.41,899.08 1635.62,899.08 1636.83,899.08 1638.03,899.08 1639.23,899.08 1640.42,899.08 1641.61,899.08 1642.79,899.08 \"/>\n",
       "<polyline clip-path=\"url(#clip342)\" style=\"stroke:#ed5d92; stroke-linecap:round; stroke-linejoin:round; stroke-width:4; stroke-opacity:1; fill:none\" points=\"222.871,899.08 233.467,899.079 243.959,899.078 254.347,899.077 264.633,899.076 274.819,899.073 284.907,899.07 294.896,899.066 304.79,899.06 314.589,899.052 324.294,899.041 333.908,899.027 343.431,899.008 352.864,898.984 362.209,898.953 371.468,898.915 380.64,898.867 389.728,898.807 398.733,898.734 407.656,898.645 416.497,898.537 425.258,898.407 433.941,898.252 442.545,898.068 451.073,897.851 459.525,897.597 467.902,897.302 476.205,896.96 484.436,896.566 492.594,896.115 500.682,895.601 508.7,895.019 516.648,894.363 524.529,893.627 532.341,892.805 540.088,891.891 547.769,890.88 555.385,889.767 562.937,888.545 570.425,887.212 577.852,885.761 585.217,884.189 592.52,882.493 599.764,880.67 606.949,878.719 614.074,876.637 621.142,874.425 628.153,872.083 635.107,869.612 642.005,867.013 648.848,864.291 655.636,861.449 662.371,858.491 669.052,855.423 675.681,852.252 682.258,848.985 688.783,845.63 695.258,842.195 701.682,838.691 708.057,835.127 714.383,831.514 720.66,827.863 726.89,824.185 733.072,820.492 739.207,816.797 745.296,813.111 751.339,809.446 757.337,805.815 763.29,802.229 769.198,798.702 775.063,795.243 780.885,791.865 786.664,788.579 792.401,785.395 798.095,782.322 803.749,779.371 809.361,776.55 814.933,773.866 820.465,771.329 825.957,768.943 831.41,766.716 836.824,764.652 842.199,762.755 847.537,761.03 852.837,759.48 858.1,758.105 863.326,756.909 868.516,755.89 873.669,755.051 878.787,754.389 883.87,753.903 888.918,753.591 893.931,753.452 898.91,753.481 903.855,753.675 908.766,754.03 913.645,754.541 918.49,755.204 923.303,756.012 928.084,756.962 932.833,758.046 937.55,759.258 942.236,760.593 946.891,762.043 951.516,763.603 956.11,765.265 960.674,767.023 965.209,768.87 969.714,770.799 974.19,772.804 978.637,774.878 983.055,777.015 987.445,779.208 991.807,781.451 996.141,783.737 1000.45,786.061 1004.73,788.417 1008.98,790.8 1013.21,793.203 1017.4,795.622 1021.58,798.052 1025.72,800.488 1029.85,802.925 1033.94,805.359 1038.01,807.787 1042.06,810.204 1046.08,812.607 1050.07,814.992 1054.05,817.356 1057.99,819.696 1061.92,822.01 1065.82,824.295 1069.69,826.549 1073.55,828.77 1077.38,830.956 1081.18,833.105 1084.97,835.215 1088.73,837.286 1092.47,839.316 1096.19,841.305 1099.88,843.251 1103.56,845.154 1107.21,847.013 1110.84,848.827 1114.45,850.598 1118.04,852.323 1121.61,854.004 1125.16,855.64 1128.68,857.232 1132.19,858.779 1135.68,860.282 1139.15,861.741 1142.59,863.157 1146.02,864.53 1149.43,865.861 1152.82,867.15 1156.19,868.398 1159.54,869.606 1162.88,870.774 1166.19,871.903 1169.49,872.994 1172.76,874.048 1176.02,875.065 1179.27,876.047 1182.49,876.994 1185.7,877.907 1188.88,878.787 1192.06,879.635 1195.21,880.451 1198.35,881.237 1201.47,881.993 1204.57,882.721 1207.66,883.42 1210.73,884.093 1213.78,884.739 1216.82,885.36 1219.84,885.957 1222.84,886.529 1225.83,887.079 1228.81,887.607 1231.76,888.113 1234.71,888.598 1237.63,889.063 1240.54,889.509 1243.44,889.937 1246.32,890.347 1249.19,890.739 1252.04,891.115 1254.88,891.475 1257.7,891.819 1260.51,892.149 1263.3,892.464 1266.08,892.766 1268.85,893.055 1271.6,893.331 1274.33,893.595 1277.06,893.847 1279.77,894.088 1282.46,894.319 1285.14,894.539 1287.81,894.75 1290.47,894.951 1293.11,895.143 1295.74,895.326 1298.36,895.501 1300.96,895.668 1303.55,895.828 1306.13,895.98 1308.69,896.125 1311.25,896.264 1313.79,896.396 1316.32,896.523 1318.83,896.643 1321.33,896.758 1323.83,896.868 1326.31,896.972 1328.77,897.072 1331.23,897.167 1333.67,897.257 1336.1,897.344 1338.53,897.426 1340.93,897.504 1343.33,897.579 1345.72,897.65 1348.09,897.718 1350.46,897.783 1352.81,897.845 1355.15,897.903 1357.48,897.959 1359.8,898.013 1362.11,898.063 1364.41,898.112 1366.7,898.158 1368.98,898.202 1371.24,898.244 1373.5,898.283 1375.74,898.321 1377.98,898.358 1380.21,898.392 1382.42,898.425 1384.63,898.456 1386.82,898.486 1389.01,898.514 1391.18,898.541 1393.35,898.567 1395.5,898.591 1397.65,898.614 1399.79,898.636 1401.91,898.657 1404.03,898.678 1406.14,898.697 1408.24,898.715 1410.33,898.732 1412.41,898.749 1414.48,898.764 1416.54,898.779 1418.6,898.794 1420.64,898.807 1422.68,898.82 1424.7,898.832 1426.72,898.844 1428.73,898.855 1430.73,898.866 1432.72,898.876 1434.7,898.885 1436.68,898.895 1438.64,898.903 1440.6,898.912 1442.55,898.92 1444.49,898.927 1446.42,898.934 1448.35,898.941 1450.26,898.948 1452.17,898.954 1454.07,898.96 1455.96,898.965 1457.85,898.971 1459.72,898.976 1461.59,898.981 1463.45,898.985 1465.3,898.99 1467.15,898.994 1468.99,898.998 1470.82,899.002 1472.64,899.005 1474.45,899.009 1476.26,899.012 1478.06,899.015 1479.85,899.018 1481.64,899.021 1483.42,899.024 1485.19,899.026 1486.95,899.029 1488.71,899.031 1490.45,899.033 1492.2,899.035 1493.93,899.037 1495.66,899.039 1497.38,899.041 1499.09,899.043 1500.8,899.045 1502.5,899.046 1504.2,899.048 1505.88,899.049 1507.56,899.05 1509.24,899.052 1510.9,899.053 1512.56,899.054 1514.22,899.055 1515.87,899.056 1517.51,899.058 1519.14,899.059 1520.77,899.059 1522.39,899.06 1524.01,899.061 1525.62,899.062 1527.22,899.063 1528.82,899.064 1530.41,899.064 1531.99,899.065 1533.57,899.066 1535.14,899.066 1536.71,899.067 1538.27,899.067 1539.82,899.068 1541.37,899.068 1542.91,899.069 1544.45,899.069 1545.98,899.07 1547.51,899.07 1549.03,899.071 1550.54,899.071 1552.05,899.071 1553.55,899.072 1555.05,899.072 1556.54,899.072 1558.02,899.073 1559.5,899.073 1560.98,899.073 1562.45,899.074 1563.91,899.074 1565.37,899.074 1566.82,899.074 1568.27,899.075 1569.71,899.075 1571.15,899.075 1572.58,899.075 1574,899.075 1575.43,899.076 1576.84,899.076 1578.25,899.076 1579.66,899.076 1581.06,899.076 1582.45,899.076 1583.84,899.076 1585.23,899.077 1586.61,899.077 1587.99,899.077 1589.36,899.077 1590.72,899.077 1592.08,899.077 1593.44,899.077 1594.79,899.077 1596.14,899.077 1597.48,899.078 1598.81,899.078 1600.15,899.078 1601.47,899.078 1602.8,899.078 1604.11,899.078 1605.43,899.078 1606.74,899.078 1608.04,899.078 1609.34,899.078 1610.64,899.078 1611.93,899.078 1613.21,899.078 1614.49,899.078 1615.77,899.078 1617.04,899.078 1618.31,899.079 1619.58,899.079 1620.84,899.079 1622.09,899.079 1623.34,899.079 1624.59,899.079 1625.83,899.079 1627.07,899.079 1628.31,899.079 1629.54,899.079 1630.76,899.079 1631.98,899.079 1633.2,899.079 1634.41,899.079 1635.62,899.079 1636.83,899.079 1638.03,899.079 1639.23,899.079 1640.42,899.079 1641.61,899.079 1642.79,899.079 \"/>\n",
       "<path clip-path=\"url(#clip340)\" d=\"M1901.85 581.516 L2281.76 581.516 L2281.76 166.796 L1901.85 166.796  Z\" fill=\"#ffffff\" fill-rule=\"evenodd\" fill-opacity=\"1\"/>\n",
       "<polyline clip-path=\"url(#clip340)\" style=\"stroke:#000000; stroke-linecap:round; stroke-linejoin:round; stroke-width:4; stroke-opacity:1; fill:none\" points=\"1901.85,581.516 2281.76,581.516 2281.76,166.796 1901.85,166.796 1901.85,581.516 \"/>\n",
       "<polyline clip-path=\"url(#clip340)\" style=\"stroke:#009af9; stroke-linecap:round; stroke-linejoin:round; stroke-width:4; stroke-opacity:1; fill:none\" points=\"1925.52,218.636 2067.51,218.636 \"/>\n",
       "<path clip-path=\"url(#clip340)\" d=\"M2111.52 214.967 Q2113.12 212.096 2115.34 210.731 Q2117.56 209.365 2120.57 209.365 Q2124.62 209.365 2126.82 212.212 Q2129.02 215.036 2129.02 220.268 L2129.02 235.916 L2124.74 235.916 L2124.74 220.407 Q2124.74 216.68 2123.42 214.874 Q2122.1 213.069 2119.39 213.069 Q2116.08 213.069 2114.16 215.268 Q2112.24 217.467 2112.24 221.263 L2112.24 235.916 L2107.96 235.916 L2107.96 220.407 Q2107.96 216.657 2106.64 214.874 Q2105.32 213.069 2102.56 213.069 Q2099.3 213.069 2097.38 215.291 Q2095.46 217.49 2095.46 221.263 L2095.46 235.916 L2091.17 235.916 L2091.17 209.99 L2095.46 209.99 L2095.46 214.018 Q2096.91 211.633 2098.95 210.499 Q2100.99 209.365 2103.79 209.365 Q2106.61 209.365 2108.58 210.8 Q2110.57 212.235 2111.52 214.967 Z\" fill=\"#000000\" fill-rule=\"evenodd\" fill-opacity=\"1\" /><polyline clip-path=\"url(#clip340)\" style=\"stroke:#e26f46; stroke-linecap:round; stroke-linejoin:round; stroke-width:4; stroke-opacity:1; fill:none\" points=\"1925.52,270.476 2067.51,270.476 \"/>\n",
       "<path clip-path=\"url(#clip340)\" d=\"M2109.95 274.816 Q2109.95 270.117 2108 267.455 Q2106.08 264.77 2102.7 264.77 Q2099.32 264.77 2097.38 267.455 Q2095.46 270.117 2095.46 274.816 Q2095.46 279.515 2097.38 282.2 Q2099.32 284.862 2102.7 284.862 Q2106.08 284.862 2108 282.2 Q2109.95 279.515 2109.95 274.816 M2095.46 265.765 Q2096.8 263.45 2098.84 262.339 Q2100.9 261.205 2103.74 261.205 Q2108.47 261.205 2111.41 264.955 Q2114.37 268.705 2114.37 274.816 Q2114.37 280.927 2111.41 284.677 Q2108.47 288.427 2103.74 288.427 Q2100.9 288.427 2098.84 287.316 Q2096.8 286.182 2095.46 283.867 L2095.46 287.756 L2091.17 287.756 L2091.17 251.737 L2095.46 251.737 L2095.46 265.765 Z\" fill=\"#000000\" fill-rule=\"evenodd\" fill-opacity=\"1\" /><path clip-path=\"url(#clip340)\" d=\"M2143.6 273.728 L2143.6 275.811 L2124.02 275.811 Q2124.3 280.209 2126.66 282.524 Q2129.04 284.816 2133.28 284.816 Q2135.73 284.816 2138.03 284.214 Q2140.34 283.612 2142.61 282.409 L2142.61 286.436 Q2140.32 287.408 2137.91 287.918 Q2135.5 288.427 2133.03 288.427 Q2126.82 288.427 2123.19 284.816 Q2119.58 281.205 2119.58 275.047 Q2119.58 268.682 2123 264.955 Q2126.45 261.205 2132.28 261.205 Q2137.52 261.205 2140.55 264.585 Q2143.6 267.941 2143.6 273.728 M2139.34 272.478 Q2139.3 268.983 2137.38 266.899 Q2135.48 264.816 2132.33 264.816 Q2128.77 264.816 2126.61 266.83 Q2124.48 268.844 2124.16 272.501 L2139.34 272.478 Z\" fill=\"#000000\" fill-rule=\"evenodd\" fill-opacity=\"1\" /><path clip-path=\"url(#clip340)\" d=\"M2154.81 254.469 L2154.81 261.83 L2163.58 261.83 L2163.58 265.14 L2154.81 265.14 L2154.81 279.214 Q2154.81 282.385 2155.66 283.288 Q2156.54 284.191 2159.21 284.191 L2163.58 284.191 L2163.58 287.756 L2159.21 287.756 Q2154.28 287.756 2152.4 285.927 Q2150.53 284.075 2150.53 279.214 L2150.53 265.14 L2147.4 265.14 L2147.4 261.83 L2150.53 261.83 L2150.53 254.469 L2154.81 254.469 Z\" fill=\"#000000\" fill-rule=\"evenodd\" fill-opacity=\"1\" /><path clip-path=\"url(#clip340)\" d=\"M2180.97 274.723 Q2175.8 274.723 2173.81 275.904 Q2171.82 277.084 2171.82 279.932 Q2171.82 282.2 2173.3 283.543 Q2174.81 284.862 2177.38 284.862 Q2180.92 284.862 2183.05 282.362 Q2185.2 279.839 2185.2 275.672 L2185.2 274.723 L2180.97 274.723 M2189.46 272.964 L2189.46 287.756 L2185.2 287.756 L2185.2 283.821 Q2183.74 286.182 2181.57 287.316 Q2179.39 288.427 2176.24 288.427 Q2172.26 288.427 2169.9 286.205 Q2167.56 283.959 2167.56 280.209 Q2167.56 275.834 2170.48 273.612 Q2173.42 271.39 2179.23 271.39 L2185.2 271.39 L2185.2 270.973 Q2185.2 268.034 2183.26 266.436 Q2181.34 264.816 2177.84 264.816 Q2175.62 264.816 2173.51 265.348 Q2171.41 265.881 2169.46 266.946 L2169.46 263.01 Q2171.8 262.108 2174 261.668 Q2176.2 261.205 2178.28 261.205 Q2183.9 261.205 2186.68 264.122 Q2189.46 267.038 2189.46 272.964 Z\" fill=\"#000000\" fill-rule=\"evenodd\" fill-opacity=\"1\" /><polyline clip-path=\"url(#clip340)\" style=\"stroke:#3da44d; stroke-linecap:round; stroke-linejoin:round; stroke-width:4; stroke-opacity:1; fill:none\" points=\"1925.52,322.316 2067.51,322.316 \"/>\n",
       "<path clip-path=\"url(#clip340)\" d=\"M2095.46 335.707 L2095.46 349.457 L2091.17 349.457 L2091.17 313.67 L2095.46 313.67 L2095.46 317.605 Q2096.8 315.29 2098.84 314.179 Q2100.9 313.045 2103.74 313.045 Q2108.47 313.045 2111.41 316.795 Q2114.37 320.545 2114.37 326.656 Q2114.37 332.767 2111.41 336.517 Q2108.47 340.267 2103.74 340.267 Q2100.9 340.267 2098.84 339.156 Q2096.8 338.022 2095.46 335.707 M2109.95 326.656 Q2109.95 321.957 2108 319.295 Q2106.08 316.61 2102.7 316.61 Q2099.32 316.61 2097.38 319.295 Q2095.46 321.957 2095.46 326.656 Q2095.46 331.355 2097.38 334.04 Q2099.32 336.702 2102.7 336.702 Q2106.08 336.702 2108 334.04 Q2109.95 331.355 2109.95 326.656 Z\" fill=\"#000000\" fill-rule=\"evenodd\" fill-opacity=\"1\" /><path clip-path=\"url(#clip340)\" d=\"M2137.96 314.434 L2137.96 318.462 Q2136.15 317.536 2134.21 317.073 Q2132.26 316.61 2130.18 316.61 Q2127.01 316.61 2125.41 317.582 Q2123.84 318.554 2123.84 320.499 Q2123.84 321.98 2124.97 322.837 Q2126.1 323.67 2129.53 324.434 L2130.99 324.758 Q2135.53 325.73 2137.42 327.512 Q2139.34 329.272 2139.34 332.443 Q2139.34 336.054 2136.47 338.161 Q2133.63 340.267 2128.63 340.267 Q2126.54 340.267 2124.28 339.85 Q2122.03 339.457 2119.53 338.647 L2119.53 334.249 Q2121.89 335.475 2124.18 336.1 Q2126.47 336.702 2128.72 336.702 Q2131.73 336.702 2133.35 335.684 Q2134.97 334.642 2134.97 332.767 Q2134.97 331.031 2133.79 330.105 Q2132.63 329.179 2128.67 328.323 L2127.19 327.975 Q2123.23 327.142 2121.47 325.429 Q2119.72 323.693 2119.72 320.684 Q2119.72 317.026 2122.31 315.036 Q2124.9 313.045 2129.67 313.045 Q2132.03 313.045 2134.11 313.392 Q2136.2 313.739 2137.96 314.434 Z\" fill=\"#000000\" fill-rule=\"evenodd\" fill-opacity=\"1\" /><path clip-path=\"url(#clip340)\" d=\"M2146.13 313.67 L2150.39 313.67 L2150.39 339.596 L2146.13 339.596 L2146.13 313.67 M2146.13 303.577 L2150.39 303.577 L2150.39 308.971 L2146.13 308.971 L2146.13 303.577 Z\" fill=\"#000000\" fill-rule=\"evenodd\" fill-opacity=\"1\" /><polyline clip-path=\"url(#clip340)\" style=\"stroke:#c271d2; stroke-linecap:round; stroke-linejoin:round; stroke-width:4; stroke-opacity:1; fill:none\" points=\"1925.52,374.156 2067.51,374.156 \"/>\n",
       "<path clip-path=\"url(#clip340)\" d=\"M2115.83 365.51 L2106.45 378.126 L2116.31 391.436 L2111.29 391.436 L2103.74 381.251 L2096.2 391.436 L2091.17 391.436 L2101.24 377.871 L2092.03 365.51 L2097.05 365.51 L2103.93 374.746 L2110.8 365.51 L2115.83 365.51 Z\" fill=\"#000000\" fill-rule=\"evenodd\" fill-opacity=\"1\" /><path clip-path=\"url(#clip340)\" d=\"M2140.16 366.505 L2140.16 370.487 Q2138.35 369.491 2136.52 369.005 Q2134.72 368.496 2132.86 368.496 Q2128.72 368.496 2126.43 371.135 Q2124.14 373.751 2124.14 378.496 Q2124.14 383.241 2126.43 385.88 Q2128.72 388.496 2132.86 388.496 Q2134.72 388.496 2136.52 388.01 Q2138.35 387.501 2140.16 386.505 L2140.16 390.44 Q2138.37 391.274 2136.45 391.69 Q2134.55 392.107 2132.4 392.107 Q2126.54 392.107 2123.1 388.426 Q2119.65 384.746 2119.65 378.496 Q2119.65 372.153 2123.12 368.519 Q2126.61 364.885 2132.68 364.885 Q2134.65 364.885 2136.52 365.302 Q2138.4 365.695 2140.16 366.505 Z\" fill=\"#000000\" fill-rule=\"evenodd\" fill-opacity=\"1\" /><path clip-path=\"url(#clip340)\" d=\"M2169.11 375.788 L2169.11 391.436 L2164.85 391.436 L2164.85 375.927 Q2164.85 372.246 2163.42 370.417 Q2161.98 368.589 2159.11 368.589 Q2155.66 368.589 2153.67 370.788 Q2151.68 372.987 2151.68 376.783 L2151.68 391.436 L2147.4 391.436 L2147.4 355.417 L2151.68 355.417 L2151.68 369.538 Q2153.21 367.2 2155.27 366.042 Q2157.35 364.885 2160.06 364.885 Q2164.53 364.885 2166.82 367.663 Q2169.11 370.417 2169.11 375.788 Z\" fill=\"#000000\" fill-rule=\"evenodd\" fill-opacity=\"1\" /><path clip-path=\"url(#clip340)\" d=\"M2177.61 365.51 L2181.87 365.51 L2181.87 391.436 L2177.61 391.436 L2177.61 365.51 M2177.61 355.417 L2181.87 355.417 L2181.87 360.811 L2177.61 360.811 L2177.61 355.417 Z\" fill=\"#000000\" fill-rule=\"evenodd\" fill-opacity=\"1\" /><path clip-path=\"url(#clip340)\" d=\"M2191.87 385.556 L2196.75 385.556 L2196.75 389.538 L2192.96 396.945 L2189.97 396.945 L2191.87 389.538 L2191.87 385.556 Z\" fill=\"#000000\" fill-rule=\"evenodd\" fill-opacity=\"1\" /><path clip-path=\"url(#clip340)\" d=\"M2205.41 381.204 L2205.41 365.51 L2209.67 365.51 L2209.67 381.042 Q2209.67 384.723 2211.1 386.575 Q2212.54 388.403 2215.41 388.403 Q2218.86 388.403 2220.85 386.204 Q2222.86 384.005 2222.86 380.209 L2222.86 365.51 L2227.12 365.51 L2227.12 391.436 L2222.86 391.436 L2222.86 387.454 Q2221.31 389.815 2219.25 390.973 Q2217.21 392.107 2214.51 392.107 Q2210.04 392.107 2207.72 389.329 Q2205.41 386.551 2205.41 381.204 M2216.13 364.885 L2216.13 364.885 Z\" fill=\"#000000\" fill-rule=\"evenodd\" fill-opacity=\"1\" /><polyline clip-path=\"url(#clip340)\" style=\"stroke:#ac8d18; stroke-linecap:round; stroke-linejoin:round; stroke-width:4; stroke-opacity:1; fill:none\" points=\"1925.52,425.996 2067.51,425.996 \"/>\n",
       "<path clip-path=\"url(#clip340)\" d=\"M2110.09 421.285 L2110.09 407.257 L2114.35 407.257 L2114.35 443.276 L2110.09 443.276 L2110.09 439.387 Q2108.74 441.702 2106.68 442.836 Q2104.65 443.947 2101.78 443.947 Q2097.08 443.947 2094.11 440.197 Q2091.17 436.447 2091.17 430.336 Q2091.17 424.225 2094.11 420.475 Q2097.08 416.725 2101.78 416.725 Q2104.65 416.725 2106.68 417.859 Q2108.74 418.97 2110.09 421.285 M2095.57 430.336 Q2095.57 435.035 2097.49 437.72 Q2099.44 440.382 2102.82 440.382 Q2106.2 440.382 2108.14 437.72 Q2110.09 435.035 2110.09 430.336 Q2110.09 425.637 2108.14 422.975 Q2106.2 420.29 2102.82 420.29 Q2099.44 420.29 2097.49 422.975 Q2095.57 425.637 2095.57 430.336 Z\" fill=\"#000000\" fill-rule=\"evenodd\" fill-opacity=\"1\" /><path clip-path=\"url(#clip340)\" d=\"M2145.29 429.248 L2145.29 431.331 L2125.71 431.331 Q2125.99 435.729 2128.35 438.044 Q2130.73 440.336 2134.97 440.336 Q2137.42 440.336 2139.72 439.734 Q2142.03 439.132 2144.3 437.929 L2144.3 441.956 Q2142.01 442.928 2139.6 443.438 Q2137.19 443.947 2134.72 443.947 Q2128.51 443.947 2124.88 440.336 Q2121.27 436.725 2121.27 430.567 Q2121.27 424.202 2124.69 420.475 Q2128.14 416.725 2133.97 416.725 Q2139.21 416.725 2142.24 420.105 Q2145.29 423.461 2145.29 429.248 M2141.03 427.998 Q2140.99 424.503 2139.07 422.419 Q2137.17 420.336 2134.02 420.336 Q2130.46 420.336 2128.3 422.35 Q2126.17 424.364 2125.85 428.021 L2141.03 427.998 Z\" fill=\"#000000\" fill-rule=\"evenodd\" fill-opacity=\"1\" /><path clip-path=\"url(#clip340)\" d=\"M2167.31 421.331 Q2166.59 420.915 2165.73 420.73 Q2164.9 420.521 2163.88 420.521 Q2160.27 420.521 2158.33 422.882 Q2156.41 425.22 2156.41 429.618 L2156.41 443.276 L2152.12 443.276 L2152.12 417.35 L2156.41 417.35 L2156.41 421.378 Q2157.75 419.017 2159.9 417.882 Q2162.05 416.725 2165.13 416.725 Q2165.57 416.725 2166.1 416.794 Q2166.64 416.841 2167.28 416.956 L2167.31 421.331 Z\" fill=\"#000000\" fill-rule=\"evenodd\" fill-opacity=\"1\" /><path clip-path=\"url(#clip340)\" d=\"M2192.05 417.35 L2182.68 429.966 L2192.54 443.276 L2187.52 443.276 L2179.97 433.091 L2172.42 443.276 L2167.4 443.276 L2177.47 429.711 L2168.26 417.35 L2173.28 417.35 L2180.15 426.586 L2187.03 417.35 L2192.05 417.35 Z\" fill=\"#000000\" fill-rule=\"evenodd\" fill-opacity=\"1\" /><path clip-path=\"url(#clip340)\" d=\"M2216.38 418.345 L2216.38 422.327 Q2214.58 421.331 2212.75 420.845 Q2210.94 420.336 2209.09 420.336 Q2204.95 420.336 2202.65 422.975 Q2200.36 425.591 2200.36 430.336 Q2200.36 435.081 2202.65 437.72 Q2204.95 440.336 2209.09 440.336 Q2210.94 440.336 2212.75 439.85 Q2214.58 439.341 2216.38 438.345 L2216.38 442.28 Q2214.6 443.114 2212.68 443.53 Q2210.78 443.947 2208.63 443.947 Q2202.77 443.947 2199.32 440.266 Q2195.87 436.586 2195.87 430.336 Q2195.87 423.993 2199.34 420.359 Q2202.84 416.725 2208.9 416.725 Q2210.87 416.725 2212.75 417.142 Q2214.62 417.535 2216.38 418.345 Z\" fill=\"#000000\" fill-rule=\"evenodd\" fill-opacity=\"1\" /><path clip-path=\"url(#clip340)\" d=\"M2245.34 427.628 L2245.34 443.276 L2241.08 443.276 L2241.08 427.767 Q2241.08 424.086 2239.65 422.257 Q2238.21 420.429 2235.34 420.429 Q2231.89 420.429 2229.9 422.628 Q2227.91 424.827 2227.91 428.623 L2227.91 443.276 L2223.63 443.276 L2223.63 407.257 L2227.91 407.257 L2227.91 421.378 Q2229.44 419.04 2231.5 417.882 Q2233.58 416.725 2236.29 416.725 Q2240.76 416.725 2243.05 419.503 Q2245.34 422.257 2245.34 427.628 Z\" fill=\"#000000\" fill-rule=\"evenodd\" fill-opacity=\"1\" /><path clip-path=\"url(#clip340)\" d=\"M2253.84 417.35 L2258.09 417.35 L2258.09 443.276 L2253.84 443.276 L2253.84 417.35 M2253.84 407.257 L2258.09 407.257 L2258.09 412.651 L2253.84 412.651 L2253.84 407.257 Z\" fill=\"#000000\" fill-rule=\"evenodd\" fill-opacity=\"1\" /><polyline clip-path=\"url(#clip340)\" style=\"stroke:#00a9ad; stroke-linecap:round; stroke-linejoin:round; stroke-width:4; stroke-opacity:1; fill:none\" points=\"1925.52,477.836 2067.51,477.836 \"/>\n",
       "<path clip-path=\"url(#clip340)\" d=\"M2095.46 491.227 L2095.46 504.977 L2091.17 504.977 L2091.17 469.19 L2095.46 469.19 L2095.46 473.125 Q2096.8 470.81 2098.84 469.699 Q2100.9 468.565 2103.74 468.565 Q2108.47 468.565 2111.41 472.315 Q2114.37 476.065 2114.37 482.176 Q2114.37 488.287 2111.41 492.037 Q2108.47 495.787 2103.74 495.787 Q2100.9 495.787 2098.84 494.676 Q2096.8 493.542 2095.46 491.227 M2109.95 482.176 Q2109.95 477.477 2108 474.815 Q2106.08 472.13 2102.7 472.13 Q2099.32 472.13 2097.38 474.815 Q2095.46 477.477 2095.46 482.176 Q2095.46 486.875 2097.38 489.56 Q2099.32 492.222 2102.7 492.222 Q2106.08 492.222 2108 489.56 Q2109.95 486.875 2109.95 482.176 Z\" fill=\"#000000\" fill-rule=\"evenodd\" fill-opacity=\"1\" /><path clip-path=\"url(#clip340)\" d=\"M2137.96 469.954 L2137.96 473.982 Q2136.15 473.056 2134.21 472.593 Q2132.26 472.13 2130.18 472.13 Q2127.01 472.13 2125.41 473.102 Q2123.84 474.074 2123.84 476.019 Q2123.84 477.5 2124.97 478.357 Q2126.1 479.19 2129.53 479.954 L2130.99 480.278 Q2135.53 481.25 2137.42 483.032 Q2139.34 484.792 2139.34 487.963 Q2139.34 491.574 2136.47 493.681 Q2133.63 495.787 2128.63 495.787 Q2126.54 495.787 2124.28 495.37 Q2122.03 494.977 2119.53 494.167 L2119.53 489.769 Q2121.89 490.995 2124.18 491.62 Q2126.47 492.222 2128.72 492.222 Q2131.73 492.222 2133.35 491.204 Q2134.97 490.162 2134.97 488.287 Q2134.97 486.551 2133.79 485.625 Q2132.63 484.699 2128.67 483.843 L2127.19 483.495 Q2123.23 482.662 2121.47 480.949 Q2119.72 479.213 2119.72 476.204 Q2119.72 472.546 2122.31 470.556 Q2124.9 468.565 2129.67 468.565 Q2132.03 468.565 2134.11 468.912 Q2136.2 469.259 2137.96 469.954 Z\" fill=\"#000000\" fill-rule=\"evenodd\" fill-opacity=\"1\" /><path clip-path=\"url(#clip340)\" d=\"M2146.13 469.19 L2150.39 469.19 L2150.39 495.116 L2146.13 495.116 L2146.13 469.19 M2146.13 459.097 L2150.39 459.097 L2150.39 464.491 L2146.13 464.491 L2146.13 459.097 Z\" fill=\"#000000\" fill-rule=\"evenodd\" fill-opacity=\"1\" /><path clip-path=\"url(#clip340)\" d=\"M2160.39 489.236 L2165.27 489.236 L2165.27 493.218 L2161.47 500.625 L2158.49 500.625 L2160.39 493.218 L2160.39 489.236 Z\" fill=\"#000000\" fill-rule=\"evenodd\" fill-opacity=\"1\" /><path clip-path=\"url(#clip340)\" d=\"M2189.39 473.171 Q2188.67 472.755 2187.82 472.57 Q2186.98 472.361 2185.97 472.361 Q2182.35 472.361 2180.41 474.722 Q2178.49 477.06 2178.49 481.458 L2178.49 495.116 L2174.21 495.116 L2174.21 469.19 L2178.49 469.19 L2178.49 473.218 Q2179.83 470.857 2181.98 469.722 Q2184.14 468.565 2187.22 468.565 Q2187.65 468.565 2188.19 468.634 Q2188.72 468.681 2189.37 468.796 L2189.39 473.171 Z\" fill=\"#000000\" fill-rule=\"evenodd\" fill-opacity=\"1\" /><polyline clip-path=\"url(#clip340)\" style=\"stroke:#ed5d92; stroke-linecap:round; stroke-linejoin:round; stroke-width:4; stroke-opacity:1; fill:none\" points=\"1925.52,529.676 2067.51,529.676 \"/>\n",
       "<path clip-path=\"url(#clip340)\" d=\"M2115.83 521.03 L2106.45 533.646 L2116.31 546.956 L2111.29 546.956 L2103.74 536.771 L2096.2 546.956 L2091.17 546.956 L2101.24 533.391 L2092.03 521.03 L2097.05 521.03 L2103.93 530.266 L2110.8 521.03 L2115.83 521.03 Z\" fill=\"#000000\" fill-rule=\"evenodd\" fill-opacity=\"1\" /><path clip-path=\"url(#clip340)\" d=\"M2140.16 522.025 L2140.16 526.007 Q2138.35 525.011 2136.52 524.525 Q2134.72 524.016 2132.86 524.016 Q2128.72 524.016 2126.43 526.655 Q2124.14 529.271 2124.14 534.016 Q2124.14 538.761 2126.43 541.4 Q2128.72 544.016 2132.86 544.016 Q2134.72 544.016 2136.52 543.53 Q2138.35 543.021 2140.16 542.025 L2140.16 545.96 Q2138.37 546.794 2136.45 547.21 Q2134.55 547.627 2132.4 547.627 Q2126.54 547.627 2123.1 543.946 Q2119.65 540.266 2119.65 534.016 Q2119.65 527.673 2123.12 524.039 Q2126.61 520.405 2132.68 520.405 Q2134.65 520.405 2136.52 520.822 Q2138.4 521.215 2140.16 522.025 Z\" fill=\"#000000\" fill-rule=\"evenodd\" fill-opacity=\"1\" /><path clip-path=\"url(#clip340)\" d=\"M2169.11 531.308 L2169.11 546.956 L2164.85 546.956 L2164.85 531.447 Q2164.85 527.766 2163.42 525.937 Q2161.98 524.109 2159.11 524.109 Q2155.66 524.109 2153.67 526.308 Q2151.68 528.507 2151.68 532.303 L2151.68 546.956 L2147.4 546.956 L2147.4 510.937 L2151.68 510.937 L2151.68 525.058 Q2153.21 522.72 2155.27 521.562 Q2157.35 520.405 2160.06 520.405 Q2164.53 520.405 2166.82 523.183 Q2169.11 525.937 2169.11 531.308 Z\" fill=\"#000000\" fill-rule=\"evenodd\" fill-opacity=\"1\" /><path clip-path=\"url(#clip340)\" d=\"M2177.61 521.03 L2181.87 521.03 L2181.87 546.956 L2177.61 546.956 L2177.61 521.03 M2177.61 510.937 L2181.87 510.937 L2181.87 516.331 L2177.61 516.331 L2177.61 510.937 Z\" fill=\"#000000\" fill-rule=\"evenodd\" fill-opacity=\"1\" /></svg>\n"
      ]
     },
     "execution_count": 649,
     "metadata": {},
     "output_type": "execute_result"
    }
   ],
   "source": [
    "using Plots #showing initial data and the initial status of the horizon finder\n",
    "plot(compactify.(initX[4:L-3]), state_array[4:L-3,1:7], xaxis=\"r\",title=\"Initial Data\", labels=[\"m\" \"beta\" \"psi\" \"xchi,u\" \"derxchi\" \"psi,r\" \"xchi\"],xlim=[0,1])"
   ]
  },
  {
   "cell_type": "code",
   "execution_count": 650,
   "id": "1e7df648",
   "metadata": {},
   "outputs": [
    {
     "data": {
      "text/plain": [
       "407×8 Matrix{Float64}:\n",
       " 0.0  0.0  0.0   0.0          0.0          0.0  0.0         -0.015\n",
       " 0.0  0.0  0.0   0.0          0.0          0.0  0.0         -0.01\n",
       " 0.0  0.0  0.0   0.0          0.0          0.0  0.0         -0.005\n",
       " 0.0  0.0  0.0   0.0          6.46727e-6   0.0  0.0          0.0\n",
       " 0.0  0.0  0.0   2.17951e-7   7.14907e-6   0.0  3.19976e-8   0.005\n",
       " 0.0  0.0  0.0   1.22457e-6   9.46549e-6   0.0  7.14907e-8   0.01\n",
       " 0.0  0.0  0.0   3.26655e-6   1.35241e-5   0.0  1.26652e-7   0.015\n",
       " 0.0  0.0  0.0   6.32792e-6   1.96112e-5   0.0  2.06731e-7   0.02\n",
       " 0.0  0.0  0.0   1.06238e-5   2.81555e-5   0.0  3.22764e-7   0.025\n",
       " 0.0  0.0  0.0   1.64412e-5   3.97303e-5   0.0  4.88286e-7   0.03\n",
       " 0.0  0.0  0.0   2.41426e-5   5.50598e-5   0.0  7.20067e-7   0.035\n",
       " 0.0  0.0  0.0   3.41706e-5   7.50284e-5   0.0  1.03888e-6   0.04\n",
       " 0.0  0.0  0.0   4.70534e-5   0.000100691  0.0  1.47035e-6   0.045\n",
       " ⋮                                         ⋮                \n",
       " 0.0  0.0  0.0  -3.71194e-6  -2.69755e-7   0.0  3.33147e-8   1.96\n",
       " 0.0  0.0  0.0  -3.70636e-6  -2.5861e-7    0.0  3.19944e-8   1.965\n",
       " 0.0  0.0  0.0  -3.70103e-6  -2.47943e-7   0.0  3.07286e-8   1.97\n",
       " 0.0  0.0  0.0  -3.69592e-6  -2.37732e-7   0.0  2.9515e-8    1.975\n",
       " 0.0  0.0  0.0  -3.69103e-6  -2.27958e-7   0.0  2.83513e-8   1.98\n",
       " 0.0  0.0  0.0  -3.68635e-6  -2.186e-7     0.0  2.72354e-8   1.985\n",
       " 0.0  0.0  0.0  -3.68187e-6  -2.0964e-7    0.0  2.61653e-8   1.99\n",
       " 0.0  0.0  0.0  -3.68144e-6  -2.01062e-7   0.0  2.5139e-8    1.995\n",
       " 0.0  0.0  0.0  -3.65405e-6  -1.92856e-7   0.0  2.41546e-8   2.0\n",
       " 0.0  0.0  0.0   0.0          0.0          0.0  0.0          2.005\n",
       " 0.0  0.0  0.0   0.0          0.0          0.0  0.0          2.01\n",
       " 0.0  0.0  0.0   0.0          0.0          0.0  0.0          2.015"
      ]
     },
     "execution_count": 650,
     "metadata": {},
     "output_type": "execute_result"
    }
   ],
   "source": [
    "state_array"
   ]
  },
  {
   "cell_type": "code",
   "execution_count": 651,
   "id": "15bbf245",
   "metadata": {},
   "outputs": [],
   "source": [
    "function compactify(r)\n",
    "    return r/(1+r)\n",
    "end\n",
    "function uncompactify(x)\n",
    "    return x/(1-x)\n",
    "end;"
   ]
  },
  {
   "cell_type": "markdown",
   "id": "9b444ece",
   "metadata": {
    "papermill": {
     "duration": 0.009161,
     "end_time": "2023-03-28T18:06:25.373170",
     "exception": false,
     "start_time": "2023-03-28T18:06:25.364009",
     "status": "completed"
    },
    "tags": []
   },
   "source": [
    "# Defining the initial state array for the evolution m β Ψ and Ψ,x"
   ]
  },
  {
   "cell_type": "code",
   "execution_count": 652,
   "id": "9902ffab",
   "metadata": {
    "execution": {
     "iopub.execute_input": "2023-03-28T19:06:25.389000Z",
     "iopub.status.busy": "2023-03-28T19:06:25.388000Z",
     "iopub.status.idle": "2023-03-28T19:06:32.710000Z",
     "shell.execute_reply": "2023-03-28T19:06:32.710000Z"
    },
    "papermill": {
     "duration": 7.335269,
     "end_time": "2023-03-28T18:06:32.715990",
     "exception": false,
     "start_time": "2023-03-28T18:06:25.380721",
     "status": "completed"
    },
    "tags": []
   },
   "outputs": [],
   "source": [
    "using CSV, Tables\n",
    "#CSV.write(dir*\"/res$res/time_step0.csv\", Tables.table(state_array), writeheader=false)\n",
    "\n",
    "global files=[\"m\", \"beta\", \"psi\", \"deruxchi\", \"derxchi\", \"derpsi\", \"xchi\", \"massloss\"]\n",
    "\n",
    "\n",
    "massloss = zeros(L)\n",
    "massloss[4:L-3] = masslossfunc(state_array)[4:L-3]\n",
    "print_muninn(files, 0, [state_array[:,1:7] massloss],res,\"w\", state_array[:,8])"
   ]
  },
  {
   "cell_type": "code",
   "execution_count": 653,
   "id": "fff1426a",
   "metadata": {
    "execution": {
     "iopub.execute_input": "2023-03-28T19:06:33.154000Z",
     "iopub.status.busy": "2023-03-28T19:06:32.734000Z",
     "iopub.status.idle": "2023-03-28T19:06:33.884000Z",
     "shell.execute_reply": "2023-03-28T19:06:33.884000Z"
    },
    "papermill": {
     "duration": 1.164178,
     "end_time": "2023-03-28T18:06:33.889802",
     "exception": false,
     "start_time": "2023-03-28T18:06:32.725624",
     "status": "completed"
    },
    "tags": []
   },
   "outputs": [],
   "source": [
    "time=0.0\n",
    "criticality=0.0\n",
    "explode=0.0\n",
    "evol_stats = [criticality A sigma r0 time explode run]\n",
    "global monitor_ratio = zeros(L);\n",
    "#CSV.write(dir*\"/parameters.csv\", Tables.table(evol_stats), writeheader=true, header=[\"criticality\", \"A\", \"sigma\", \"r0\", \"time\", \"explode\", \"run\"])"
   ]
  },
  {
   "cell_type": "code",
   "execution_count": 654,
   "id": "9e9abd7d",
   "metadata": {},
   "outputs": [
    {
     "name": "stdout",
     "output_type": "stream",
     "text": [
      "4.999999999999999\n"
     ]
    }
   ],
   "source": [
    "ginit=speed(initX,state_array[:,1],state_array[:,2])\n",
    "println(update_dt(initX,state_array[:,1],state_array[:,2],dx,ginit)/dt)"
   ]
  },
  {
   "cell_type": "code",
   "execution_count": 655,
   "id": "4e0df300",
   "metadata": {},
   "outputs": [
    {
     "data": {
      "text/plain": [
       "4"
      ]
     },
     "execution_count": 655,
     "metadata": {},
     "output_type": "execute_result"
    }
   ],
   "source": [
    "using Base.Threads\n",
    "Threads.nthreads()"
   ]
  },
  {
   "cell_type": "code",
   "execution_count": 656,
   "id": "27a5bccd",
   "metadata": {},
   "outputs": [
    {
     "data": {
      "text/plain": [
       "0.001"
      ]
     },
     "execution_count": 656,
     "metadata": {},
     "output_type": "execute_result"
    }
   ],
   "source": [
    "dt=0.001/2^(m-1)"
   ]
  },
  {
   "cell_type": "markdown",
   "id": "42e2c73d",
   "metadata": {
    "papermill": {
     "duration": 0.007626,
     "end_time": "2023-03-28T18:06:33.908346",
     "exception": false,
     "start_time": "2023-03-28T18:06:33.900720",
     "status": "completed"
    },
    "tags": []
   },
   "source": [
    " ## Time evolution"
   ]
  },
  {
   "cell_type": "code",
   "execution_count": 657,
   "id": "1cf9face",
   "metadata": {},
   "outputs": [
    {
     "data": {
      "text/plain": [
       "407×8 Matrix{Float64}:\n",
       " 0.0  0.0  0.0   0.0          0.0          0.0  0.0         -0.015\n",
       " 0.0  0.0  0.0   0.0          0.0          0.0  0.0         -0.01\n",
       " 0.0  0.0  0.0   0.0          0.0          0.0  0.0         -0.005\n",
       " 0.0  0.0  0.0   0.0          6.46727e-6   0.0  0.0          0.0\n",
       " 0.0  0.0  0.0   2.17951e-7   7.14907e-6   0.0  3.19976e-8   0.005\n",
       " 0.0  0.0  0.0   1.22457e-6   9.46549e-6   0.0  7.14907e-8   0.01\n",
       " 0.0  0.0  0.0   3.26655e-6   1.35241e-5   0.0  1.26652e-7   0.015\n",
       " 0.0  0.0  0.0   6.32792e-6   1.96112e-5   0.0  2.06731e-7   0.02\n",
       " 0.0  0.0  0.0   1.06238e-5   2.81555e-5   0.0  3.22764e-7   0.025\n",
       " 0.0  0.0  0.0   1.64412e-5   3.97303e-5   0.0  4.88286e-7   0.03\n",
       " 0.0  0.0  0.0   2.41426e-5   5.50598e-5   0.0  7.20067e-7   0.035\n",
       " 0.0  0.0  0.0   3.41706e-5   7.50284e-5   0.0  1.03888e-6   0.04\n",
       " 0.0  0.0  0.0   4.70534e-5   0.000100691  0.0  1.47035e-6   0.045\n",
       " ⋮                                         ⋮                \n",
       " 0.0  0.0  0.0  -3.71194e-6  -2.69755e-7   0.0  3.33147e-8   1.96\n",
       " 0.0  0.0  0.0  -3.70636e-6  -2.5861e-7    0.0  3.19944e-8   1.965\n",
       " 0.0  0.0  0.0  -3.70103e-6  -2.47943e-7   0.0  3.07286e-8   1.97\n",
       " 0.0  0.0  0.0  -3.69592e-6  -2.37732e-7   0.0  2.9515e-8    1.975\n",
       " 0.0  0.0  0.0  -3.69103e-6  -2.27958e-7   0.0  2.83513e-8   1.98\n",
       " 0.0  0.0  0.0  -3.68635e-6  -2.186e-7     0.0  2.72354e-8   1.985\n",
       " 0.0  0.0  0.0  -3.68187e-6  -2.0964e-7    0.0  2.61653e-8   1.99\n",
       " 0.0  0.0  0.0  -3.68144e-6  -2.01062e-7   0.0  2.5139e-8    1.995\n",
       " 0.0  0.0  0.0  -3.65405e-6  -1.92856e-7   0.0  2.41546e-8   2.0\n",
       " 0.0  0.0  0.0   0.0          0.0          0.0  0.0          2.005\n",
       " 0.0  0.0  0.0   0.0          0.0          0.0  0.0          2.01\n",
       " 0.0  0.0  0.0   0.0          0.0          0.0  0.0          2.015"
      ]
     },
     "execution_count": 657,
     "metadata": {},
     "output_type": "execute_result"
    }
   ],
   "source": [
    "state_array"
   ]
  },
  {
   "cell_type": "markdown",
   "id": "7da47594",
   "metadata": {
    "papermill": {
     "duration": 0.007471,
     "end_time": "2023-03-28T18:06:33.923805",
     "exception": false,
     "start_time": "2023-03-28T18:06:33.916334",
     "status": "completed"
    },
    "tags": []
   },
   "source": [
    "fixed grid"
   ]
  },
  {
   "cell_type": "code",
   "execution_count": 658,
   "id": "fcb7ae3f",
   "metadata": {
    "execution": {
     "iopub.execute_input": "2023-03-28T19:06:33.940000Z",
     "iopub.status.busy": "2023-03-28T19:06:33.940000Z",
     "iopub.status.idle": "2023-03-28T21:02:19.379000Z",
     "shell.execute_reply": "2023-03-28T21:02:19.378000Z"
    },
    "papermill": {
     "duration": 6945.452732,
     "end_time": "2023-03-28T20:02:19.384591",
     "exception": false,
     "start_time": "2023-03-28T18:06:33.931859",
     "status": "completed"
    },
    "tags": []
   },
   "outputs": [
    {
     "name": "stdout",
     "output_type": "stream",
     "text": [
      "\n",
      "\n",
      "iteration 100 dt is 0.001, t=0.10000000000000007 speed is 0.5000000000000001, dx/dt=5.0\n",
      "\n",
      "\n",
      "iteration 200 dt is 0.001, t=0.20000000000000015 speed is 0.5000000000000001, dx/dt=5.0\n",
      "\n",
      "\n",
      "iteration 300 dt is 0.001, t=0.3000000000000002 speed is 0.5000000000000001, dx/dt=5.0\n",
      "\n",
      "\n",
      "iteration 400 dt is 0.001, t=0.4000000000000003 speed is 0.5000000000000001, dx/dt=5.0\n",
      "\n",
      "\n",
      "iteration 500 dt is 0.001, t=0.5000000000000003 speed is 0.5000000000000001, dx/dt=5.0\n",
      "\n",
      "\n",
      "iteration 600 dt is 0.001, t=0.6000000000000004 speed is 0.5000000000000001, dx/dt=5.0\n",
      "\n",
      "\n",
      "iteration 700 dt is 0.001, t=0.7000000000000005 speed is 0.5000000000000001, dx/dt=5.0\n",
      "\n",
      "\n",
      "iteration 800 dt is 0.001, t=0.8000000000000006 speed is 0.5000000000000001, dx/dt=5.0\n",
      "\n",
      "\n",
      "iteration 900 dt is 0.001, t=0.9000000000000007 speed is 0.5000000000000001, dx/dt=5.0\n",
      "\n",
      "\n",
      "iteration 1000 dt is 0.001, t=1.0000000000000007 speed is 0.5000000000000001, dx/dt=5.0\n",
      "\n",
      "\n",
      "iteration 1100 dt is 0.001, t=1.0999999999999897 speed is 0.5000000000000001, dx/dt=5.0\n",
      "\n",
      "\n",
      "iteration 1200 dt is 0.001, t=1.1999999999999786 speed is 0.5000000000000001, dx/dt=5.0\n",
      "\n",
      "\n",
      "iteration 1300 dt is 0.001, t=1.2999999999999676 speed is 0.5000000000000001, dx/dt=5.0\n",
      "\n",
      "\n",
      "iteration 1400 dt is 0.001, t=1.3999999999999566 speed is 0.5000000000000001, dx/dt=5.0\n",
      "\n",
      "\n",
      "iteration 1500 dt is 0.001, t=1.4999999999999456 speed is 0.5000000000000001, dx/dt=5.0\n",
      "\n",
      "\n",
      "iteration 1600 dt is 0.001, t=1.5999999999999346 speed is 0.5000000000000001, dx/dt=5.0\n",
      "\n",
      "\n",
      "iteration 1700 dt is 0.001, t=1.6999999999999236 speed is 0.5000000000000001, dx/dt=5.0\n",
      "\n",
      "\n",
      "iteration 1800 dt is 0.001, t=1.7999999999999126 speed is 0.5000000000000001, dx/dt=5.0\n",
      "\n",
      "\n",
      "iteration 1900 dt is 0.001, t=1.8999999999999015 speed is 0.5000000000000001, dx/dt=5.0\n",
      "\n",
      "\n",
      "iteration 2000 dt is 0.001, t=1.9999999999998905 speed is 0.5000000000000001, dx/dt=5.0\n",
      "\n",
      "\n",
      "iteration 2100 dt is 0.001, t=2.0999999999998797 speed is 0.5000000000000001, dx/dt=5.0\n",
      "\n",
      "\n",
      "iteration 2200 dt is 0.001, t=2.1999999999998687 speed is 0.5000000000000001, dx/dt=5.0\n",
      "\n",
      "\n",
      "iteration 2300 dt is 0.001, t=2.2999999999998577 speed is 0.5000000000000001, dx/dt=5.0\n",
      "\n",
      "\n",
      "iteration 2400 dt is 0.001, t=2.3999999999998467 speed is 0.5000000000000001, dx/dt=5.0\n",
      "\n",
      "\n",
      "iteration 2500 dt is 0.001, t=2.4999999999998357 speed is 0.5000000000000001, dx/dt=5.0\n",
      "\n",
      "\n",
      "iteration 2600 dt is 0.001, t=2.5999999999998247 speed is 0.5000000000000001, dx/dt=5.0\n",
      "\n",
      "\n",
      "iteration 2700 dt is 0.001, t=2.6999999999998137 speed is 0.5000000000000001, dx/dt=5.0\n",
      "\n",
      "\n",
      "iteration 2800 dt is 0.001, t=2.7999999999998026 speed is 0.5000000000000001, dx/dt=5.0\n",
      "\n",
      "\n",
      "iteration 2900 dt is 0.001, t=2.8999999999997916 speed is 0.5000000000000001, dx/dt=5.0\n",
      "\n",
      "\n",
      "iteration 3000 dt is 0.001, t=2.9999999999997806 speed is 0.5000000000000001, dx/dt=5.0\n"
     ]
    }
   ],
   "source": [
    "finaltime=3\n",
    "evol_stats, T_interp = timeevolution(state_array,finaltime,run);\n",
    "#CSV.write(dir*\"/timearray$res.csv\", Tables.table(T_interp), writeheader=false);\n",
    "#CSV.write(dir*\"/parameters.csv\", Tables.table(evol_stats), writeheader=false);"
   ]
  },
  {
   "cell_type": "code",
   "execution_count": null,
   "id": "ef57be5a",
   "metadata": {},
   "outputs": [],
   "source": []
  },
  {
   "cell_type": "code",
   "execution_count": null,
   "id": "fa24f38b",
   "metadata": {},
   "outputs": [],
   "source": []
  },
  {
   "cell_type": "code",
   "execution_count": null,
   "id": "16551d9d",
   "metadata": {},
   "outputs": [],
   "source": []
  },
  {
   "cell_type": "code",
   "execution_count": null,
   "id": "106f44ee",
   "metadata": {},
   "outputs": [],
   "source": []
  }
 ],
 "metadata": {
  "@webio": {
   "lastCommId": null,
   "lastKernelId": null
  },
  "kernelspec": {
   "display_name": "Julia 1.8.0",
   "language": "julia",
   "name": "julia-1.8"
  },
  "language_info": {
   "file_extension": ".jl",
   "mimetype": "application/julia",
   "name": "julia",
   "version": "1.8.0"
  },
  "papermill": {
   "default_parameters": {},
   "duration": 7025.507115,
   "end_time": "2023-03-28T20:03:06.430756",
   "environment_variables": {},
   "exception": null,
   "input_path": "Evolution_ScalarField.ipynb",
   "output_path": "Evolution_ScalarField.ipynb",
   "parameters": {
    "A": 0.001,
    "m": 3
   },
   "start_time": "2023-03-28T18:06:00.923641",
   "version": "2.4.0"
  }
 },
 "nbformat": 4,
 "nbformat_minor": 5
}
