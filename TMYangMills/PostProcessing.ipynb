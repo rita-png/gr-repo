{
 "cells": [
  {
   "cell_type": "code",
   "execution_count": 1,
   "id": "306b8ccb",
   "metadata": {},
   "outputs": [],
   "source": [
    "import pandas as pd\n",
    "import numpy as np\n",
    "import os\n",
    "import math\n",
    "import matplotlib.pyplot as plt\n",
    "import numpy as np\n",
    "from matplotlib import style\n",
    "\n",
    "import scipy\n",
    "import numpy as np\n",
    "from scipy import interpolate\n",
    "from io import StringIO\n",
    "\n",
    "from scipy.interpolate import UnivariateSpline"
   ]
  },
  {
   "cell_type": "markdown",
   "id": "7d60e115",
   "metadata": {},
   "source": [
    "# Reading data"
   ]
  },
  {
   "cell_type": "markdown",
   "id": "93f38ab0",
   "metadata": {},
   "source": [
    "CSV format"
   ]
  },
  {
   "cell_type": "code",
   "execution_count": 108,
   "id": "e80087ba",
   "metadata": {},
   "outputs": [
    {
     "name": "stdout",
     "output_type": "stream",
     "text": [
      "False\n",
      "True\n"
     ]
    }
   ],
   "source": [
    "#from bigfloat import *\n",
    "\n",
    "def isNaN(string):\n",
    "    return string != string\n",
    "print(isNaN(\"hello\"))\n",
    "print(isNaN(np.nan))"
   ]
  },
  {
   "cell_type": "markdown",
   "id": "afb20b06",
   "metadata": {},
   "source": [
    "Muninn format"
   ]
  },
  {
   "cell_type": "code",
   "execution_count": 125,
   "id": "b343325a",
   "metadata": {},
   "outputs": [
    {
     "name": "stdout",
     "output_type": "stream",
     "text": [
      "/home/rita13santos/Desktop/savedYM/run24/m.txt\n",
      "/home/rita13santos/Desktop/savedYM/run24/beta.txt\n",
      "/home/rita13santos/Desktop/savedYM/run24/xi.txt\n",
      "/home/rita13santos/Desktop/savedYM/run24/derxi.txt\n",
      "/home/rita13santos/Desktop/savedYM/run24/derderxi.txt\n"
     ]
    }
   ],
   "source": [
    "res=1\n",
    "vars=[\"m\", \"beta\", \"xi\", \"derxi\", \"derderxi\"]\n",
    "time=[]\n",
    "grid=[]\n",
    "\"\"\"m=[]\n",
    "beta=[]\n",
    "xi=[]\n",
    "derxi=[]\"\"\"\n",
    "k=1\n",
    "m_ori=[]\n",
    "m_scri=[]\n",
    "beta_ori=[]\n",
    "beta_scri=[]\n",
    "xi_ori=[]\n",
    "xi_scri=[]\n",
    "derxi_ori=[]\n",
    "derxi_scri=[]\n",
    "derderxi_ori=[]\n",
    "\n",
    "\n",
    "for var in vars:\n",
    "    \n",
    "    #dir = \"/home/rita13santos/Desktop/MSc Thesis/Git/TMYangMills/DATA/muninnDATA/res1/{}.txt\".format(var)\n",
    "    dir = \"/home/rita13santos/Desktop/savedYM/run24/{}.txt\".format(var)\n",
    "    \n",
    "    \n",
    "    print(dir)\n",
    "    t=0\n",
    "    with open(dir) as f:\n",
    "        for line in f:\n",
    "\n",
    "            index = line.find(\"Time\")\n",
    "            \n",
    "            if index==1:\n",
    "                t=t+1\n",
    "                if k==1:\n",
    "                    time.append(float(line[index+7:len(line)-1]))\n",
    "                auxgrid=[]\n",
    "                auxdata=[]\n",
    "                \n",
    "\n",
    "            else:\n",
    "                \n",
    "                a=line.split()\n",
    "                if a!=[]:\n",
    "                    if k==1:\n",
    "                        auxgrid.append(float(a[0]))\n",
    "                    auxdata.append(float(a[1]))\n",
    "                    \n",
    "                elif a==[]:\n",
    "                    \n",
    "                    \n",
    "                    if k==1:\n",
    "                        if t==1:\n",
    "                            grid.append(auxgrid)\n",
    "                        L=len(auxgrid)\n",
    "                        m_ori.append(auxdata[3])\n",
    "                        m_scri.append(auxdata[L-4])\n",
    "                                              \n",
    "\n",
    "        \n",
    "        \n",
    "                    elif k==2:\n",
    "                        beta_ori.append(auxdata[3])\n",
    "                        beta_scri.append(auxdata[L-4])\n",
    "                    elif k==3:\n",
    "                        xi_ori.append(auxdata[3])\n",
    "                        xi_scri.append(auxdata[L-4])\n",
    "                    elif k==4:\n",
    "                        derxi_ori.append(auxdata[3])\n",
    "                        derxi_scri.append(auxdata[L-4])\n",
    "                    elif k==5:\n",
    "                        derderxi_ori.append(np.max(auxdata[3]))\n",
    "                    \n",
    "    k=k+1\n",
    "\n",
    "#count=len(datatime[2])+1\n",
    "#count"
   ]
  },
  {
   "cell_type": "code",
   "execution_count": 126,
   "id": "609cf2e1",
   "metadata": {},
   "outputs": [
    {
     "data": {
      "text/plain": [
       "779"
      ]
     },
     "execution_count": 126,
     "metadata": {},
     "output_type": "execute_result"
    }
   ],
   "source": [
    "len(time)"
   ]
  },
  {
   "cell_type": "markdown",
   "id": "d5e83eaa",
   "metadata": {},
   "source": [
    "####"
   ]
  },
  {
   "cell_type": "code",
   "execution_count": null,
   "id": "aebb55e8",
   "metadata": {},
   "outputs": [],
   "source": []
  },
  {
   "cell_type": "markdown",
   "id": "0f7f8fb9",
   "metadata": {},
   "source": [
    "# Styling plots"
   ]
  },
  {
   "cell_type": "code",
   "execution_count": 127,
   "id": "953579ab",
   "metadata": {},
   "outputs": [],
   "source": [
    "plt.rcParams.update({\n",
    "    'font.size': 12,\n",
    "    'legend.fontsize':12,\n",
    "    'xtick.labelsize': 'large',\n",
    "    'xtick.color': 'black',\n",
    "    'ytick.labelsize': 'large',\n",
    "    'ytick.color': 'black'})"
   ]
  },
  {
   "cell_type": "markdown",
   "id": "dd59d0e6",
   "metadata": {},
   "source": [
    "# Convert central time to Bondi time"
   ]
  },
  {
   "cell_type": "code",
   "execution_count": 128,
   "id": "bd58e99a",
   "metadata": {},
   "outputs": [],
   "source": [
    "\n",
    "#trapezoidal rule\n",
    "def trap_integrator(func,f0,x):\n",
    "    integration=[f0]\n",
    "    for i in range(0,len(x)-1):\n",
    "        dx=x[i+1]-x[i]\n",
    "    \n",
    "        integral=dx/2*(func(x[i+1])+func(x[i]))\n",
    "        \n",
    "        integration.append(integration[i]+integral)\n",
    "    return integration\n",
    "\n",
    "#convert central time to bondi time\n",
    "def converttobondi(time, beta_scri):\n",
    "\n",
    "    spl = UnivariateSpline(time, np.multiply(np.exp(np.multiply(beta_scri,-2)),time), s=0)\n",
    "\n",
    "    return trap_integrator(spl,0,time)\n",
    "\n",
    "bonditime=converttobondi(time,beta_scri)"
   ]
  },
  {
   "cell_type": "markdown",
   "id": "52719f95",
   "metadata": {},
   "source": [
    "# Chi at origin"
   ]
  },
  {
   "cell_type": "markdown",
   "id": "54b5aa70",
   "metadata": {},
   "source": [
    "Value of Derpsi at the origin over time"
   ]
  },
  {
   "cell_type": "code",
   "execution_count": 129,
   "id": "6fa03df7",
   "metadata": {},
   "outputs": [
    {
     "data": {
      "text/plain": [
       "[<matplotlib.lines.Line2D at 0x7fdc84cf0eb0>]"
      ]
     },
     "execution_count": 129,
     "metadata": {},
     "output_type": "execute_result"
    },
    {
     "data": {
      "image/png": "[encoded data removed]",
      "text/plain": [
       "<Figure size 432x288 with 1 Axes>"
      ]
     },
     "metadata": {
      "needs_background": "light"
     },
     "output_type": "display_data"
    }
   ],
   "source": [
    "plt.plot(time, derderxi_ori)"
   ]
  },
  {
   "cell_type": "markdown",
   "id": "28d65fd0",
   "metadata": {},
   "source": [
    "Finding zero crossings"
   ]
  },
  {
   "cell_type": "code",
   "execution_count": 130,
   "id": "c2688a1c",
   "metadata": {},
   "outputs": [
    {
     "name": "stdout",
     "output_type": "stream",
     "text": [
      "Number of zero crossing is  8\n",
      "[1.00752648 1.02958946]\n",
      "\n",
      "Tau star is  1.0459764871353299\n",
      "Tau* is u* in my report\n",
      "\n",
      "Delta is  0.8123185966960875\n"
     ]
    }
   ],
   "source": [
    "from scipy.interpolate import UnivariateSpline\n",
    "\n",
    "spl = UnivariateSpline(time, derderxi_ori, s=0)\n",
    "\n",
    "roots=spl.roots()\n",
    "print(\"Number of zero crossing is \",len(roots))\n",
    "print(roots[k:(k+3)+1])\n",
    "\n",
    "k=1\n",
    "tau_star=(roots[0+k]*roots[3+k]-roots[1+k]*roots[2+k])/(roots[0+k]-roots[1+k]-roots[2+k]+roots[3+k])\n",
    "print(\"\\nTau star is \", tau_star)\n",
    "print(\"Tau* is u* in my report\")\n",
    "\n",
    "Delta=2*math.log((tau_star-roots[k])/(tau_star-roots[k+1]))\n",
    "print(\"\\nDelta is \", Delta)"
   ]
  },
  {
   "cell_type": "code",
   "execution_count": 131,
   "id": "fba3fa03",
   "metadata": {},
   "outputs": [],
   "source": [
    "Delta=0.6"
   ]
  },
  {
   "cell_type": "code",
   "execution_count": 132,
   "id": "40586b5a",
   "metadata": {},
   "outputs": [],
   "source": [
    "#adapt_time = [-math.log(abs((tau_star-x))) for x in time[0:len(time)-1]]#0:len(time)-step:step]] #ignoring last timestep, where log(0)\n",
    "\n",
    "adapt_time=[]\n",
    "\n",
    "for x in time:\n",
    "    if x<=tau_star:\n",
    "        adapt_time.append(-math.log(abs((tau_star-x))))"
   ]
  },
  {
   "cell_type": "code",
   "execution_count": 133,
   "id": "ee2034e7",
   "metadata": {},
   "outputs": [
    {
     "data": {
      "image/png": "[encoded data removed]",
      "text/plain": [
       "<Figure size 792x432 with 2 Axes>"
      ]
     },
     "metadata": {},
     "output_type": "display_data"
    }
   ],
   "source": [
    "chitilde=[]\n",
    "i=0\n",
    "for tt in adapt_time:\n",
    "    \n",
    "    aux=np.exp(-tt)*1/2*derderxi_ori[i]\n",
    "    chitilde.append(aux)\n",
    "    i=i+1\n",
    "\n",
    "with plt.style.context('ggplot'):\n",
    "    \"\"\"plt.rcParams.update({'font.size': 12})    \n",
    "    plt.rcParams[\"figure.figsize\"] = (7,5)\"\"\"\n",
    "    fig, (ax1, ax2) = plt.subplots(1, 2,figsize=(11, 6))\n",
    "\n",
    "    #ax1.plot(time,np.multiply(1/2,derderxi_ori),linewidth=0.5)\n",
    "    #ax1.scatter(time,np.multiply(1/2,derderxi_ori),s=0.5)\n",
    "    ax1.plot(time[0:len(chitilde)],chitilde,linewidth=0.5)\n",
    "    ax1.scatter(time[0:len(chitilde)],chitilde,s=0.5)\n",
    "    ax1.set_ylim([-1,1])\n",
    "    ax1.set_xlabel(\"Proper time u\",fontsize=15)\n",
    "    ax1.set_ylabel(r\"$\\tilde{\\chi}$\",fontsize=15)\n",
    "    ax2.set_xlim([0.,3])\n",
    "    ax2.set_ylim([-1,1])\n",
    "    \n",
    "    #ax2.plot(adapt_time,np.multiply(1/2,derderxi_ori[0:len(adapt_time)]),linewidth=0.5)\n",
    "    ax2.plot(adapt_time,chitilde,linewidth=0.5)\n",
    "    #ax2.scatter(adapt_time,np.multiply(1/2,derderxi_ori[0:len(adapt_time)]),s=0.5)\n",
    "    ax2.set_xlabel(\"Similarity time T\",fontsize=15)\n",
    "    ax2.set_ylabel(r\"$\\tilde{\\chi}$\",fontsize=15)\n",
    "    fig.tight_layout(pad=3.0)\n",
    "    \n",
    "    plt.savefig(\"myImagePDF.pdf\", format=\"pdf\", bbox_inches=\"tight\")\n",
    "    \n",
    "    plt.show()"
   ]
  },
  {
   "cell_type": "code",
   "execution_count": null,
   "id": "d2453117",
   "metadata": {},
   "outputs": [],
   "source": []
  },
  {
   "cell_type": "code",
   "execution_count": 134,
   "id": "51d0d2b1",
   "metadata": {},
   "outputs": [
    {
     "data": {
      "text/plain": [
       "1.9920701536419283"
      ]
     },
     "execution_count": 134,
     "metadata": {},
     "output_type": "execute_result"
    }
   ],
   "source": [
    "1/np.exp(-0.6*2)*0.6"
   ]
  },
  {
   "cell_type": "code",
   "execution_count": 135,
   "id": "9a222062",
   "metadata": {},
   "outputs": [
    {
     "data": {
      "text/plain": [
       "0.54"
      ]
     },
     "execution_count": 135,
     "metadata": {},
     "output_type": "execute_result"
    }
   ],
   "source": [
    "(1.75-1.48)*2"
   ]
  },
  {
   "cell_type": "code",
   "execution_count": 124,
   "id": "749f7f03",
   "metadata": {},
   "outputs": [
    {
     "ename": "NameError",
     "evalue": "name 'derpsi_ori' is not defined",
     "output_type": "error",
     "traceback": [
      "\u001b[0;31m---------------------------------------------------------------------------\u001b[0m",
      "\u001b[0;31mNameError\u001b[0m                                 Traceback (most recent call last)",
      "Input \u001b[0;32mIn [124]\u001b[0m, in \u001b[0;36m<cell line: 3>\u001b[0;34m()\u001b[0m\n\u001b[1;32m      1\u001b[0m \u001b[38;5;28;01mfrom\u001b[39;00m \u001b[38;5;21;01mscipy\u001b[39;00m\u001b[38;5;21;01m.\u001b[39;00m\u001b[38;5;21;01minterpolate\u001b[39;00m \u001b[38;5;28;01mimport\u001b[39;00m UnivariateSpline\n\u001b[0;32m----> 3\u001b[0m spl \u001b[38;5;241m=\u001b[39m UnivariateSpline(adapt_time,\u001b[43mderpsi_ori\u001b[49m[\u001b[38;5;241m0\u001b[39m:\u001b[38;5;28mlen\u001b[39m(adapt_time)], s\u001b[38;5;241m=\u001b[39m\u001b[38;5;241m0\u001b[39m)\n\u001b[1;32m      5\u001b[0m roots\u001b[38;5;241m=\u001b[39mspl\u001b[38;5;241m.\u001b[39mroots()\n\u001b[1;32m      6\u001b[0m \u001b[38;5;28mlen\u001b[39m(roots)\n",
      "\u001b[0;31mNameError\u001b[0m: name 'derpsi_ori' is not defined"
     ]
    }
   ],
   "source": [
    "from scipy.interpolate import UnivariateSpline\n",
    "\n",
    "spl = UnivariateSpline(adapt_time,derpsi_ori[0:len(adapt_time)], s=0)\n",
    "\n",
    "roots=spl.roots()\n",
    "len(roots)\n",
    "roots"
   ]
  },
  {
   "cell_type": "markdown",
   "id": "7a5d6da5",
   "metadata": {},
   "source": [
    "Monitor ratio over time"
   ]
  },
  {
   "cell_type": "code",
   "execution_count": 25,
   "id": "abb35697",
   "metadata": {},
   "outputs": [
    {
     "ename": "NameError",
     "evalue": "name 'maxmonitorratio' is not defined",
     "output_type": "error",
     "traceback": [
      "\u001b[0;31m---------------------------------------------------------------------------\u001b[0m",
      "\u001b[0;31mNameError\u001b[0m                                 Traceback (most recent call last)",
      "Input \u001b[0;32mIn [25]\u001b[0m, in \u001b[0;36m<cell line: 11>\u001b[0;34m()\u001b[0m\n\u001b[1;32m     13\u001b[0m plt\u001b[38;5;241m.\u001b[39mrcParams[\u001b[38;5;124m\"\u001b[39m\u001b[38;5;124mfigure.figsize\u001b[39m\u001b[38;5;124m\"\u001b[39m] \u001b[38;5;241m=\u001b[39m (\u001b[38;5;241m7\u001b[39m,\u001b[38;5;241m5\u001b[39m)\n\u001b[1;32m     14\u001b[0m \u001b[38;5;66;03m#plt.plot(time[0:len(time)-1],monitor_ratio,linewidth=0.5)\u001b[39;00m\n\u001b[0;32m---> 15\u001b[0m plt\u001b[38;5;241m.\u001b[39mscatter(adapt_time[\u001b[38;5;241m0\u001b[39m:\u001b[38;5;28mlen\u001b[39m(adapt_time)\u001b[38;5;241m-\u001b[39m\u001b[38;5;241m30\u001b[39m],\u001b[43mmaxmonitorratio\u001b[49m[\u001b[38;5;241m0\u001b[39m:\u001b[38;5;28mlen\u001b[39m(adapt_time)\u001b[38;5;241m-\u001b[39m\u001b[38;5;241m30\u001b[39m],s\u001b[38;5;241m=\u001b[39m\u001b[38;5;241m2\u001b[39m)\n\u001b[1;32m     17\u001b[0m plt\u001b[38;5;241m.\u001b[39mplot(adapt_time[\u001b[38;5;241m0\u001b[39m:\u001b[38;5;28mlen\u001b[39m(adapt_time)\u001b[38;5;241m-\u001b[39m\u001b[38;5;241m38\u001b[39m],maxmonitorratio[\u001b[38;5;241m0\u001b[39m:\u001b[38;5;28mlen\u001b[39m(adapt_time)\u001b[38;5;241m-\u001b[39m\u001b[38;5;241m38\u001b[39m],linewidth\u001b[38;5;241m=\u001b[39m\u001b[38;5;241m0.5\u001b[39m)\n\u001b[1;32m     18\u001b[0m plt\u001b[38;5;241m.\u001b[39mylabel(\u001b[38;5;124m\"\u001b[39m\u001b[38;5;124mmax(2m/r)\u001b[39m\u001b[38;5;124m\"\u001b[39m,fontsize\u001b[38;5;241m=\u001b[39m\u001b[38;5;241m15\u001b[39m)\n",
      "\u001b[0;31mNameError\u001b[0m: name 'maxmonitorratio' is not defined"
     ]
    }
   ],
   "source": [
    "\"\"\"L=len(m[0])\n",
    "\n",
    "monitor_ratio=[]\n",
    "for t in range(0,len(m)-1):\n",
    "    aux=[]\n",
    "    for x in range(4,L-3):\n",
    "        aux.append(2*m[t][x]*(1-grid[t][x])/grid[t][x])\n",
    "    monitor_ratio.append(max(aux))\"\"\"\n",
    "    \n",
    "\n",
    "with plt.style.context('ggplot'):\n",
    "      \n",
    "    plt.rcParams[\"figure.figsize\"] = (7,5)\n",
    "    #plt.plot(time[0:len(time)-1],monitor_ratio,linewidth=0.5)\n",
    "    plt.scatter(adapt_time[0:len(adapt_time)-30],maxmonitorratio[0:len(adapt_time)-30],s=2)\n",
    "    \n",
    "    plt.plot(adapt_time[0:len(adapt_time)-38],maxmonitorratio[0:len(adapt_time)-38],linewidth=0.5)\n",
    "    plt.ylabel(\"max(2m/r)\",fontsize=15)\n",
    "    plt.xlabel(\"Similarity time T\",fontsize=15)\n",
    "    plt.ylim([0.15,0.6])\n",
    "    plt.savefig(\"myImagePDF.pdf\", format=\"pdf\", bbox_inches=\"tight\")\n",
    "    plt.show()"
   ]
  },
  {
   "cell_type": "markdown",
   "id": "bcdd3e7f",
   "metadata": {},
   "source": [
    "Value of Derpsi at the origin over time"
   ]
  },
  {
   "cell_type": "code",
   "execution_count": 26,
   "id": "5a20053c",
   "metadata": {},
   "outputs": [
    {
     "ename": "NameError",
     "evalue": "name 'derpsi' is not defined",
     "output_type": "error",
     "traceback": [
      "\u001b[0;31m---------------------------------------------------------------------------\u001b[0m",
      "\u001b[0;31mNameError\u001b[0m                                 Traceback (most recent call last)",
      "Input \u001b[0;32mIn [26]\u001b[0m, in \u001b[0;36m<cell line: 2>\u001b[0;34m()\u001b[0m\n\u001b[1;32m      1\u001b[0m derpsiplt\u001b[38;5;241m=\u001b[39m[]\n\u001b[0;32m----> 2\u001b[0m \u001b[38;5;28;01mfor\u001b[39;00m i \u001b[38;5;129;01min\u001b[39;00m \u001b[38;5;28mrange\u001b[39m(\u001b[38;5;241m0\u001b[39m, \u001b[38;5;28mlen\u001b[39m(\u001b[43mderpsi\u001b[49m)):\n\u001b[1;32m      3\u001b[0m     derpsiplt\u001b[38;5;241m.\u001b[39mappend(derpsi[i][\u001b[38;5;241m3\u001b[39m])\n",
      "\u001b[0;31mNameError\u001b[0m: name 'derpsi' is not defined"
     ]
    }
   ],
   "source": [
    "derpsiplt=[]\n",
    "for i in range(0, len(derpsi)):\n",
    "    derpsiplt.append(derpsi[i][3]) #saving derpsi at the origin for each timestep\n"
   ]
  },
  {
   "cell_type": "markdown",
   "id": "4775e1e9",
   "metadata": {},
   "source": [
    "Finding zero crossings"
   ]
  },
  {
   "cell_type": "code",
   "execution_count": 154,
   "id": "22fe1f36",
   "metadata": {},
   "outputs": [
    {
     "ename": "ValueError",
     "evalue": "x and y should have a same length",
     "output_type": "error",
     "traceback": [
      "\u001b[0;31m---------------------------------------------------------------------------\u001b[0m",
      "\u001b[0;31mValueError\u001b[0m                                Traceback (most recent call last)",
      "Input \u001b[0;32mIn [154]\u001b[0m, in \u001b[0;36m<cell line: 3>\u001b[0;34m()\u001b[0m\n\u001b[1;32m      1\u001b[0m \u001b[38;5;28;01mfrom\u001b[39;00m \u001b[38;5;21;01mscipy\u001b[39;00m\u001b[38;5;21;01m.\u001b[39;00m\u001b[38;5;21;01minterpolate\u001b[39;00m \u001b[38;5;28;01mimport\u001b[39;00m UnivariateSpline\n\u001b[0;32m----> 3\u001b[0m spl \u001b[38;5;241m=\u001b[39m \u001b[43mUnivariateSpline\u001b[49m\u001b[43m(\u001b[49m\u001b[43mtime\u001b[49m\u001b[43m,\u001b[49m\u001b[43m \u001b[49m\u001b[43mderpsiplt\u001b[49m\u001b[43m,\u001b[49m\u001b[43m \u001b[49m\u001b[43ms\u001b[49m\u001b[38;5;241;43m=\u001b[39;49m\u001b[38;5;241;43m0\u001b[39;49m\u001b[43m)\u001b[49m\n\u001b[1;32m      5\u001b[0m roots\u001b[38;5;241m=\u001b[39mspl\u001b[38;5;241m.\u001b[39mroots()\n\u001b[1;32m      6\u001b[0m \u001b[38;5;28mlen\u001b[39m(roots)\n",
      "File \u001b[0;32m~/anaconda3/lib/python3.9/site-packages/scipy/interpolate/_fitpack2.py:232\u001b[0m, in \u001b[0;36mUnivariateSpline.__init__\u001b[0;34m(self, x, y, w, bbox, k, s, ext, check_finite)\u001b[0m\n\u001b[1;32m    229\u001b[0m \u001b[38;5;28;01mdef\u001b[39;00m \u001b[38;5;21m__init__\u001b[39m(\u001b[38;5;28mself\u001b[39m, x, y, w\u001b[38;5;241m=\u001b[39m\u001b[38;5;28;01mNone\u001b[39;00m, bbox\u001b[38;5;241m=\u001b[39m[\u001b[38;5;28;01mNone\u001b[39;00m]\u001b[38;5;241m*\u001b[39m\u001b[38;5;241m2\u001b[39m, k\u001b[38;5;241m=\u001b[39m\u001b[38;5;241m3\u001b[39m, s\u001b[38;5;241m=\u001b[39m\u001b[38;5;28;01mNone\u001b[39;00m,\n\u001b[1;32m    230\u001b[0m              ext\u001b[38;5;241m=\u001b[39m\u001b[38;5;241m0\u001b[39m, check_finite\u001b[38;5;241m=\u001b[39m\u001b[38;5;28;01mFalse\u001b[39;00m):\n\u001b[0;32m--> 232\u001b[0m     x, y, w, bbox, \u001b[38;5;28mself\u001b[39m\u001b[38;5;241m.\u001b[39mext \u001b[38;5;241m=\u001b[39m \u001b[38;5;28;43mself\u001b[39;49m\u001b[38;5;241;43m.\u001b[39;49m\u001b[43mvalidate_input\u001b[49m\u001b[43m(\u001b[49m\u001b[43mx\u001b[49m\u001b[43m,\u001b[49m\u001b[43m \u001b[49m\u001b[43my\u001b[49m\u001b[43m,\u001b[49m\u001b[43m \u001b[49m\u001b[43mw\u001b[49m\u001b[43m,\u001b[49m\u001b[43m \u001b[49m\u001b[43mbbox\u001b[49m\u001b[43m,\u001b[49m\u001b[43m \u001b[49m\u001b[43mk\u001b[49m\u001b[43m,\u001b[49m\u001b[43m \u001b[49m\u001b[43ms\u001b[49m\u001b[43m,\u001b[49m\u001b[43m \u001b[49m\u001b[43mext\u001b[49m\u001b[43m,\u001b[49m\n\u001b[1;32m    233\u001b[0m \u001b[43m                                                  \u001b[49m\u001b[43mcheck_finite\u001b[49m\u001b[43m)\u001b[49m\n\u001b[1;32m    235\u001b[0m     \u001b[38;5;66;03m# _data == x,y,w,xb,xe,k,s,n,t,c,fp,fpint,nrdata,ier\u001b[39;00m\n\u001b[1;32m    236\u001b[0m     data \u001b[38;5;241m=\u001b[39m dfitpack\u001b[38;5;241m.\u001b[39mfpcurf0(x, y, k, w\u001b[38;5;241m=\u001b[39mw, xb\u001b[38;5;241m=\u001b[39mbbox[\u001b[38;5;241m0\u001b[39m],\n\u001b[1;32m    237\u001b[0m                             xe\u001b[38;5;241m=\u001b[39mbbox[\u001b[38;5;241m1\u001b[39m], s\u001b[38;5;241m=\u001b[39ms)\n",
      "File \u001b[0;32m~/anaconda3/lib/python3.9/site-packages/scipy/interpolate/_fitpack2.py:262\u001b[0m, in \u001b[0;36mUnivariateSpline.validate_input\u001b[0;34m(x, y, w, bbox, k, s, ext, check_finite)\u001b[0m\n\u001b[1;32m    260\u001b[0m         \u001b[38;5;28;01mraise\u001b[39;00m \u001b[38;5;167;01mValueError\u001b[39;00m(\u001b[38;5;124m\"\u001b[39m\u001b[38;5;124mx must be strictly increasing if s = 0\u001b[39m\u001b[38;5;124m\"\u001b[39m)\n\u001b[1;32m    261\u001b[0m \u001b[38;5;28;01mif\u001b[39;00m x\u001b[38;5;241m.\u001b[39msize \u001b[38;5;241m!=\u001b[39m y\u001b[38;5;241m.\u001b[39msize:\n\u001b[0;32m--> 262\u001b[0m     \u001b[38;5;28;01mraise\u001b[39;00m \u001b[38;5;167;01mValueError\u001b[39;00m(\u001b[38;5;124m\"\u001b[39m\u001b[38;5;124mx and y should have a same length\u001b[39m\u001b[38;5;124m\"\u001b[39m)\n\u001b[1;32m    263\u001b[0m \u001b[38;5;28;01melif\u001b[39;00m w \u001b[38;5;129;01mis\u001b[39;00m \u001b[38;5;129;01mnot\u001b[39;00m \u001b[38;5;28;01mNone\u001b[39;00m \u001b[38;5;129;01mand\u001b[39;00m \u001b[38;5;129;01mnot\u001b[39;00m x\u001b[38;5;241m.\u001b[39msize \u001b[38;5;241m==\u001b[39m y\u001b[38;5;241m.\u001b[39msize \u001b[38;5;241m==\u001b[39m w\u001b[38;5;241m.\u001b[39msize:\n\u001b[1;32m    264\u001b[0m     \u001b[38;5;28;01mraise\u001b[39;00m \u001b[38;5;167;01mValueError\u001b[39;00m(\u001b[38;5;124m\"\u001b[39m\u001b[38;5;124mx, y, and w should have a same length\u001b[39m\u001b[38;5;124m\"\u001b[39m)\n",
      "\u001b[0;31mValueError\u001b[0m: x and y should have a same length"
     ]
    }
   ],
   "source": [
    "from scipy.interpolate import UnivariateSpline\n",
    "\n",
    "spl = UnivariateSpline(time, derpsiplt, s=0)\n",
    "\n",
    "roots=spl.roots()\n",
    "len(roots)"
   ]
  },
  {
   "cell_type": "code",
   "execution_count": 75,
   "id": "064659be",
   "metadata": {},
   "outputs": [
    {
     "name": "stdout",
     "output_type": "stream",
     "text": [
      "\n",
      "Tau star is  1.0260507410890785\n",
      "Tau* is u* in my report\n",
      "\n",
      "Delta is  1.0284137661746753\n"
     ]
    }
   ],
   "source": [
    "k=0\n",
    "tau_star=(roots[0+k]*roots[3+k]-roots[1+k]*roots[2+k])/(roots[0+k]-roots[1+k]-roots[2+k]+roots[3+k])\n",
    "print(\"\\nTau star is \", tau_star)\n",
    "print(\"Tau* is u* in my report\") #all my times tau (proper time) and substituted by u\n",
    "\n",
    "Delta=2*math.log((tau_star-roots[k])/(tau_star-roots[k+1]))\n",
    "print(\"\\nDelta is \", Delta)"
   ]
  },
  {
   "cell_type": "code",
   "execution_count": 76,
   "id": "2042d02b",
   "metadata": {},
   "outputs": [
    {
     "data": {
      "text/plain": [
       "array([0.50159049, 0.7124368 , 0.82762948, 0.90739986])"
      ]
     },
     "execution_count": 76,
     "metadata": {},
     "output_type": "execute_result"
    }
   ],
   "source": [
    "roots[k:(k+3)+1]"
   ]
  },
  {
   "cell_type": "code",
   "execution_count": 77,
   "id": "6e141c06",
   "metadata": {},
   "outputs": [],
   "source": [
    "#adapt_time = [-math.log(abs((tau_star-x))) for x in time[0:len(time)-1]]#0:len(time)-step:step]] #ignoring last timestep, where log(0)\n",
    "\n",
    "adapt_time=[]\n",
    "\n",
    "for x in time:\n",
    "    if x<=tau_star:\n",
    "        adapt_time.append(-math.log(abs((tau_star-x))))"
   ]
  },
  {
   "cell_type": "markdown",
   "id": "f47dc6d6",
   "metadata": {},
   "source": [
    "News function"
   ]
  },
  {
   "cell_type": "code",
   "execution_count": 58,
   "id": "a0eaac7a",
   "metadata": {},
   "outputs": [
    {
     "data": {
      "image/png": "[encoded data removed]",
      "text/plain": [
       "<Figure size 792x432 with 2 Axes>"
      ]
     },
     "metadata": {},
     "output_type": "display_data"
    }
   ],
   "source": [
    "psiplt=[]\n",
    "for i in range(0, len(psi)):\n",
    "    psiplt.append(psi[i][len(psi[0])-4]) #saving derpsi at scri for each timestep\n",
    "\n",
    "news=[]\n",
    "for i in range(0, len(psiplt)-1):\n",
    "    new=(psiplt[i+1]-psiplt[i])/(time[i+1]-time[i])\n",
    "    news.append(new)\n",
    "\n",
    "    \n",
    "with plt.style.context('ggplot'):\n",
    "    #plt.rcParams.update({'font.size': 12})    \n",
    "    #plt.rcParams[\"figure.figsize\"] = (7,5)\n",
    "    fig, (ax1, ax2) = plt.subplots(1, 2,figsize=(11, 6))\n",
    "\n",
    "    ax1.scatter(time[0:len(news)],news,s=0.5)\n",
    "    ax1.set_xlabel(\"Bondi time $u_B$\")#$\\u03C4$\")\n",
    "    ax1.set_ylabel(\"News\")\n",
    "    \n",
    "    ax2.plot(adapt_time[0:len(adapt_time)],news[0:len(adapt_time)],linewidth=0.5)\n",
    "    ax2.set_xlabel(\"Similarity time T\")#Adapted time T\")\n",
    "    ax2.set_ylabel(\"News\")\n",
    "    \n",
    "    \n",
    "    \n",
    "    plt.show()"
   ]
  },
  {
   "cell_type": "markdown",
   "id": "33fb26c6",
   "metadata": {},
   "source": [
    "m at scri+"
   ]
  },
  {
   "cell_type": "code",
   "execution_count": 80,
   "id": "62345099",
   "metadata": {},
   "outputs": [
    {
     "data": {
      "image/png": "[encoded data removed]",
      "text/plain": [
       "<Figure size 432x288 with 1 Axes>"
      ]
     },
     "metadata": {},
     "output_type": "display_data"
    }
   ],
   "source": [
    "betaplt=[]\n",
    "for i in range(0, len(derxi)):\n",
    "    betaplt.append(beta[i][len(beta[0])-4]) #saving derpsi at the origin for each timestep\n",
    "\n",
    "with plt.style.context('ggplot'):\n",
    "    \n",
    "    #plt.rcParams.update({'font.size': 12})    \n",
    "    #plt.rcParams[\"figure.figsize\"] = (7,5)  \n",
    "    plt.xlabel(\"$\\u03C4$\")#T\n",
    "    plt.ylabel(r'$ m $')\n",
    "    plt.plot(time,m_scri,linewidth=0.5)\n",
    "    plt.scatter(time,m_scri,s=0.5)\n",
    "    #plt.plot(adapt_time,mplt[0:len(adapt_time)],linewidth=0.5)\n",
    "    #plt.xlim([1,1.05])\n",
    "    plt.show()"
   ]
  },
  {
   "cell_type": "markdown",
   "id": "098664c7",
   "metadata": {},
   "source": [
    "Redshift factor"
   ]
  },
  {
   "cell_type": "code",
   "execution_count": 69,
   "id": "527f1635",
   "metadata": {},
   "outputs": [
    {
     "data": {
      "image/png": "[encoded data removed]",
      "text/plain": [
       "<Figure size 792x432 with 2 Axes>"
      ]
     },
     "metadata": {},
     "output_type": "display_data"
    }
   ],
   "source": [
    "redshift=[]\n",
    "for i in range(0, len(beta)):\n",
    "    redshift.append(math.exp(2*beta[i][len(beta[0])-4])-1) #saving derpsi at the origin for each timestep\n",
    "\n",
    "    \n",
    "with plt.style.context('ggplot'):\n",
    "    #plt.rcParams.update({'font.size': 12})    \n",
    "    #plt.rcParams[\"figure.figsize\"] = (7,5)\n",
    "    fig, (ax1, ax2) = plt.subplots(1, 2,figsize=(11, 6))\n",
    "\n",
    "    ax1.plot(time,redshift,linewidth=0.5)\n",
    "    ax1.scatter(time,redshift,s=0.5)\n",
    "    ax1.set_xlabel(\"$\\u03C4$\")\n",
    "    ax1.set_ylabel(\"Redshift factor\")\n",
    "    \n",
    "    ax2.plot(adapt_time[0:len(adapt_time)],redshift[0:len(adapt_time)],linewidth=0.5)\n",
    "    ax2.set_xlabel(\"T\")\n",
    "    ax2.set_ylabel(\"Redshift factor\")\n",
    "    \n",
    "    \n",
    "    \n",
    "    plt.show()"
   ]
  },
  {
   "cell_type": "markdown",
   "id": "2402cba8",
   "metadata": {},
   "source": [
    "Bondi mass at scri+"
   ]
  },
  {
   "cell_type": "code",
   "execution_count": 11,
   "id": "80ab344a",
   "metadata": {},
   "outputs": [
    {
     "ename": "ValueError",
     "evalue": "x and y must be the same size",
     "output_type": "error",
     "traceback": [
      "\u001b[0;31m---------------------------------------------------------------------------\u001b[0m",
      "\u001b[0;31mValueError\u001b[0m                                Traceback (most recent call last)",
      "Input \u001b[0;32mIn [11]\u001b[0m, in \u001b[0;36m<cell line: 5>\u001b[0;34m()\u001b[0m\n\u001b[1;32m      9\u001b[0m fig, (ax1, ax2) \u001b[38;5;241m=\u001b[39m plt\u001b[38;5;241m.\u001b[39msubplots(\u001b[38;5;241m1\u001b[39m, \u001b[38;5;241m2\u001b[39m,figsize\u001b[38;5;241m=\u001b[39m(\u001b[38;5;241m11\u001b[39m, \u001b[38;5;241m6\u001b[39m))\n\u001b[1;32m     14\u001b[0m \u001b[38;5;66;03m# time\u001b[39;00m\n\u001b[0;32m---> 15\u001b[0m \u001b[43max1\u001b[49m\u001b[38;5;241;43m.\u001b[39;49m\u001b[43mscatter\u001b[49m\u001b[43m(\u001b[49m\u001b[43mtime\u001b[49m\u001b[43m,\u001b[49m\u001b[43mmplt\u001b[49m\u001b[43m,\u001b[49m\u001b[43ms\u001b[49m\u001b[38;5;241;43m=\u001b[39;49m\u001b[38;5;241;43m0.5\u001b[39;49m\u001b[43m)\u001b[49m\n\u001b[1;32m     16\u001b[0m ax1\u001b[38;5;241m.\u001b[39mplot(time,mplt,linewidth\u001b[38;5;241m=\u001b[39m\u001b[38;5;241m0.5\u001b[39m)\n\u001b[1;32m     17\u001b[0m ax1\u001b[38;5;241m.\u001b[39mset_ylabel(\u001b[38;5;124m\"\u001b[39m\u001b[38;5;124mBondi mass\u001b[39m\u001b[38;5;124m\"\u001b[39m)\n",
      "File \u001b[0;32m~/anaconda3/lib/python3.9/site-packages/matplotlib/__init__.py:1465\u001b[0m, in \u001b[0;36m_preprocess_data.<locals>.inner\u001b[0;34m(ax, data, *args, **kwargs)\u001b[0m\n\u001b[1;32m   1462\u001b[0m \u001b[38;5;129m@functools\u001b[39m\u001b[38;5;241m.\u001b[39mwraps(func)\n\u001b[1;32m   1463\u001b[0m \u001b[38;5;28;01mdef\u001b[39;00m \u001b[38;5;21minner\u001b[39m(ax, \u001b[38;5;241m*\u001b[39margs, data\u001b[38;5;241m=\u001b[39m\u001b[38;5;28;01mNone\u001b[39;00m, \u001b[38;5;241m*\u001b[39m\u001b[38;5;241m*\u001b[39mkwargs):\n\u001b[1;32m   1464\u001b[0m     \u001b[38;5;28;01mif\u001b[39;00m data \u001b[38;5;129;01mis\u001b[39;00m \u001b[38;5;28;01mNone\u001b[39;00m:\n\u001b[0;32m-> 1465\u001b[0m         \u001b[38;5;28;01mreturn\u001b[39;00m \u001b[43mfunc\u001b[49m\u001b[43m(\u001b[49m\u001b[43max\u001b[49m\u001b[43m,\u001b[49m\u001b[43m \u001b[49m\u001b[38;5;241;43m*\u001b[39;49m\u001b[38;5;28;43mmap\u001b[39;49m\u001b[43m(\u001b[49m\u001b[43msanitize_sequence\u001b[49m\u001b[43m,\u001b[49m\u001b[43m \u001b[49m\u001b[43margs\u001b[49m\u001b[43m)\u001b[49m\u001b[43m,\u001b[49m\u001b[43m \u001b[49m\u001b[38;5;241;43m*\u001b[39;49m\u001b[38;5;241;43m*\u001b[39;49m\u001b[43mkwargs\u001b[49m\u001b[43m)\u001b[49m\n\u001b[1;32m   1467\u001b[0m     bound \u001b[38;5;241m=\u001b[39m new_sig\u001b[38;5;241m.\u001b[39mbind(ax, \u001b[38;5;241m*\u001b[39margs, \u001b[38;5;241m*\u001b[39m\u001b[38;5;241m*\u001b[39mkwargs)\n\u001b[1;32m   1468\u001b[0m     auto_label \u001b[38;5;241m=\u001b[39m (bound\u001b[38;5;241m.\u001b[39marguments\u001b[38;5;241m.\u001b[39mget(label_namer)\n\u001b[1;32m   1469\u001b[0m                   \u001b[38;5;129;01mor\u001b[39;00m bound\u001b[38;5;241m.\u001b[39mkwargs\u001b[38;5;241m.\u001b[39mget(label_namer))\n",
      "File \u001b[0;32m~/anaconda3/lib/python3.9/site-packages/matplotlib/axes/_axes.py:4652\u001b[0m, in \u001b[0;36mAxes.scatter\u001b[0;34m(self, x, y, s, c, marker, cmap, norm, vmin, vmax, alpha, linewidths, edgecolors, plotnonfinite, **kwargs)\u001b[0m\n\u001b[1;32m   4650\u001b[0m y \u001b[38;5;241m=\u001b[39m np\u001b[38;5;241m.\u001b[39mma\u001b[38;5;241m.\u001b[39mravel(y)\n\u001b[1;32m   4651\u001b[0m \u001b[38;5;28;01mif\u001b[39;00m x\u001b[38;5;241m.\u001b[39msize \u001b[38;5;241m!=\u001b[39m y\u001b[38;5;241m.\u001b[39msize:\n\u001b[0;32m-> 4652\u001b[0m     \u001b[38;5;28;01mraise\u001b[39;00m \u001b[38;5;167;01mValueError\u001b[39;00m(\u001b[38;5;124m\"\u001b[39m\u001b[38;5;124mx and y must be the same size\u001b[39m\u001b[38;5;124m\"\u001b[39m)\n\u001b[1;32m   4654\u001b[0m \u001b[38;5;28;01mif\u001b[39;00m s \u001b[38;5;129;01mis\u001b[39;00m \u001b[38;5;28;01mNone\u001b[39;00m:\n\u001b[1;32m   4655\u001b[0m     s \u001b[38;5;241m=\u001b[39m (\u001b[38;5;241m20\u001b[39m \u001b[38;5;28;01mif\u001b[39;00m mpl\u001b[38;5;241m.\u001b[39mrcParams[\u001b[38;5;124m'\u001b[39m\u001b[38;5;124m_internal.classic_mode\u001b[39m\u001b[38;5;124m'\u001b[39m] \u001b[38;5;28;01melse\u001b[39;00m\n\u001b[1;32m   4656\u001b[0m          mpl\u001b[38;5;241m.\u001b[39mrcParams[\u001b[38;5;124m'\u001b[39m\u001b[38;5;124mlines.markersize\u001b[39m\u001b[38;5;124m'\u001b[39m] \u001b[38;5;241m*\u001b[39m\u001b[38;5;241m*\u001b[39m \u001b[38;5;241m2.0\u001b[39m)\n",
      "\u001b[0;31mValueError\u001b[0m: x and y must be the same size"
     ]
    },
    {
     "data": {
      "image/png": "[encoded data removed]",
      "text/plain": [
       "<Figure size 792x432 with 2 Axes>"
      ]
     },
     "metadata": {},
     "output_type": "display_data"
    }
   ],
   "source": [
    "mplt=[]\n",
    "for i in range(0, len(derpsi)):\n",
    "    mplt.append(m[i][len(m[0])-4]) #saving derpsi at the origin for each timestep\n",
    "\n",
    "with plt.style.context('ggplot'):\n",
    "    \n",
    "    #plt.rcParams.update({'font.size': 12})    \n",
    "    #plt.rcParams[\"figure.figsize\"] = (7,5)\n",
    "    fig, (ax1, ax2) = plt.subplots(1, 2,figsize=(11, 6))\n",
    "    \n",
    "    \n",
    "    \n",
    "    \n",
    "    # time\n",
    "    ax1.scatter(time,mplt,s=0.5)\n",
    "    ax1.plot(time,mplt,linewidth=0.5)\n",
    "    ax1.set_ylabel(\"Bondi mass\")\n",
    "    #ax1.set_xlim([.8,1.04])\n",
    "    #ax1.set_ylim([-0.001,0.002])\n",
    "    ax1.set_yscale('log')\n",
    "    ax1.set_xlabel(\"$\\u03C4$\")#T\n",
    "    \n",
    "    # adapt time\n",
    "    \n",
    "    ax2.plot(adapt_time,np.array(mplt[0:len(adapt_time)]),linewidth=0.5)\n",
    "    ax2.set_yscale('log')\n",
    "    #ax2.set_xlim([2.55,2.6])\n",
    "    #ax2.set_ylim([-0.001,0.001])\n",
    "    ax2.set_ylabel(\"Bondi mass\")\n",
    "    ax2.set_xlabel(\"T\")\n",
    "    \n",
    "    plt.show()"
   ]
  },
  {
   "cell_type": "code",
   "execution_count": null,
   "id": "828afd72",
   "metadata": {},
   "outputs": [],
   "source": []
  },
  {
   "cell_type": "code",
   "execution_count": 84,
   "id": "496e4394",
   "metadata": {},
   "outputs": [
    {
     "data": {
      "image/png": "[encoded data removed]",
      "text/plain": [
       "<Figure size 432x288 with 1 Axes>"
      ]
     },
     "metadata": {
      "needs_background": "light"
     },
     "output_type": "display_data"
    }
   ],
   "source": [
    "plt.plot(adapt_time[10:len(adapt_time)-3],np.array(mplt[10:len(adapt_time)-3]))\n",
    "plt.yscale('log')"
   ]
  },
  {
   "cell_type": "code",
   "execution_count": null,
   "id": "7b6a6a9c",
   "metadata": {},
   "outputs": [],
   "source": []
  },
  {
   "cell_type": "code",
   "execution_count": null,
   "id": "9910857b",
   "metadata": {},
   "outputs": [],
   "source": []
  },
  {
   "cell_type": "code",
   "execution_count": null,
   "id": "45a4eb11",
   "metadata": {},
   "outputs": [],
   "source": []
  },
  {
   "cell_type": "code",
   "execution_count": null,
   "id": "2acb3058",
   "metadata": {},
   "outputs": [],
   "source": []
  },
  {
   "cell_type": "code",
   "execution_count": null,
   "id": "5fba515c",
   "metadata": {},
   "outputs": [],
   "source": []
  },
  {
   "cell_type": "code",
   "execution_count": null,
   "id": "9d524176",
   "metadata": {},
   "outputs": [],
   "source": []
  }
 ],
 "metadata": {
  "kernelspec": {
   "display_name": "Python 3 (ipykernel)",
   "language": "python",
   "name": "python3"
  },
  "language_info": {
   "codemirror_mode": {
    "name": "ipython",
    "version": 3
   },
   "file_extension": ".py",
   "mimetype": "text/x-python",
   "name": "python",
   "nbconvert_exporter": "python",
   "pygments_lexer": "ipython3",
   "version": "3.9.12"
  }
 },
 "nbformat": 4,
 "nbformat_minor": 5
}
