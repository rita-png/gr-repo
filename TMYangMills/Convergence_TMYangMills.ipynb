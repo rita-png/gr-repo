{
 "cells": [
  {
   "cell_type": "code",
   "execution_count": 41,
   "id": "306b8ccb",
   "metadata": {},
   "outputs": [],
   "source": [
    "import pandas as pd\n",
    "import numpy as np\n",
    "import os\n",
    "import math\n",
    "import matplotlib.pyplot as plt\n",
    "import numpy as np\n",
    "from matplotlib import style\n",
    "\n",
    "import scipy\n",
    "import numpy as np\n",
    "from scipy import interpolate\n",
    "from io import StringIO"
   ]
  },
  {
   "cell_type": "markdown",
   "id": "7d60e115",
   "metadata": {},
   "source": [
    "# Reading data for 3 resolutions"
   ]
  },
  {
   "cell_type": "markdown",
   "id": "cabf0ae0",
   "metadata": {},
   "source": [
    "Muninn format"
   ]
  },
  {
   "cell_type": "code",
   "execution_count": 65,
   "id": "9f4cb2fa",
   "metadata": {},
   "outputs": [
    {
     "name": "stdout",
     "output_type": "stream",
     "text": [
      "/home/rita13santos/Desktop/MSc Thesis/Git/TMYangMills/DATA/SavedDATA/TM2/res2/deruxxchi.txt\n",
      "/home/rita13santos/Desktop/MSc Thesis/Git/TMYangMills/DATA/SavedDATA/TM2/res2/derxxchi.txt\n",
      "/home/rita13santos/Desktop/MSc Thesis/Git/TMYangMills/DATA/SavedDATA/TM2/res2/xxchi.txt\n",
      "/home/rita13santos/Desktop/MSc Thesis/Git/TMYangMills/DATA/SavedDATA/TM2/res3/deruxxchi.txt\n",
      "/home/rita13santos/Desktop/MSc Thesis/Git/TMYangMills/DATA/SavedDATA/TM2/res3/derxxchi.txt\n",
      "/home/rita13santos/Desktop/MSc Thesis/Git/TMYangMills/DATA/SavedDATA/TM2/res3/xxchi.txt\n",
      "/home/rita13santos/Desktop/MSc Thesis/Git/TMYangMills/DATA/SavedDATA/TM2/res4/deruxxchi.txt\n",
      "/home/rita13santos/Desktop/MSc Thesis/Git/TMYangMills/DATA/SavedDATA/TM2/res4/derxxchi.txt\n",
      "/home/rita13santos/Desktop/MSc Thesis/Git/TMYangMills/DATA/SavedDATA/TM2/res4/xxchi.txt\n"
     ]
    }
   ],
   "source": [
    "datatime=[]\n",
    "datagrid=[]\n",
    "dataderuxchi=[]\n",
    "dataderxchi=[]\n",
    "dataxchi=[]\n",
    "vars=[\"deruxxchi\", \"derxxchi\", \"xxchi\"]\n",
    "res=[2,3,4]\n",
    "for resolution in res:\n",
    "\n",
    "\n",
    "    time=[]\n",
    "    grid=[]\n",
    "    deruxchi=[]\n",
    "    derxchi=[]\n",
    "    xchi=[]\n",
    "    k=1\n",
    "\n",
    "    for var in vars:\n",
    "        dir = \"/home/rita13santos/Desktop/MSc Thesis/Git/TMYangMills/DATA/SavedDATA/TM2/res{}/{}.txt\".format(resolution,var)\n",
    "        #dir = \"/home/rita13santos/Desktop/MSc Thesis/Git/TMYangMills/DATA/muninnDATA/res{}/{}.txt\".format(resolution,var)\n",
    "        \n",
    "        print(dir)\n",
    "\n",
    "        with open(dir) as f:\n",
    "            for line in f:\n",
    "\n",
    "                index = line.find(\"Time\")\n",
    "                if index==1:\n",
    "                    if k==1:\n",
    "                        time.append(float(line[index+7:len(line)-1]))\n",
    "                    auxgrid=[]\n",
    "                    auxdata=[]\n",
    "                \n",
    "\n",
    "                else:\n",
    "                    a=line.split()\n",
    "                    if a!=[]:\n",
    "                        if k==1:\n",
    "                            auxgrid.append(float(a[0]))\n",
    "                        auxdata.append(float(a[1]))\n",
    "                    elif a==[]:\n",
    "                        grid.append(auxgrid)\n",
    "                        if k==1:\n",
    "                            deruxchi.append(auxdata)\n",
    "                        elif k==2:\n",
    "                            derxchi.append(auxdata)\n",
    "                        elif k==3:\n",
    "                            xchi.append(auxdata)\n",
    "                    \n",
    "        k=k+1\n",
    "\n",
    "\n",
    "    datatime.append(time)\n",
    "    datagrid.append(grid)\n",
    "    dataderuxchi.append(deruxchi)\n",
    "    dataderxchi.append(derxchi)\n",
    "    dataxchi.append(xchi)\n",
    "#count=len(datatime[2])+1\n",
    "#count"
   ]
  },
  {
   "cell_type": "code",
   "execution_count": 66,
   "id": "2b27550b",
   "metadata": {},
   "outputs": [
    {
     "data": {
      "text/plain": [
       "0.1"
      ]
     },
     "execution_count": 66,
     "metadata": {},
     "output_type": "execute_result"
    }
   ],
   "source": [
    "datatime[0][10]"
   ]
  },
  {
   "cell_type": "code",
   "execution_count": 67,
   "id": "44221955",
   "metadata": {},
   "outputs": [
    {
     "data": {
      "text/plain": [
       "207"
      ]
     },
     "execution_count": 67,
     "metadata": {},
     "output_type": "execute_result"
    }
   ],
   "source": [
    "len(datagrid[0][0])"
   ]
  },
  {
   "cell_type": "code",
   "execution_count": 68,
   "id": "4ac74448",
   "metadata": {},
   "outputs": [
    {
     "name": "stdout",
     "output_type": "stream",
     "text": [
      "301\n",
      "301\n",
      "301\n"
     ]
    }
   ],
   "source": [
    "print(len(dataxchi[0]))\n",
    "print(len(dataderuxchi[0]))\n",
    "print(len(dataderxchi[0]))"
   ]
  },
  {
   "cell_type": "markdown",
   "id": "d5e83eaa",
   "metadata": {},
   "source": [
    "####"
   ]
  },
  {
   "cell_type": "code",
   "execution_count": 69,
   "id": "3339aeb8",
   "metadata": {},
   "outputs": [
    {
     "name": "stdout",
     "output_type": "stream",
     "text": [
      "0.0\n"
     ]
    }
   ],
   "source": [
    "print(dataxchi[0][0][1]) # datam indexes give res, time then gridpoint"
   ]
  },
  {
   "cell_type": "code",
   "execution_count": 70,
   "id": "1b11caa7",
   "metadata": {},
   "outputs": [],
   "source": [
    "L=len(dataxchi[0][0])-6 # grid length without the ghostpoints\n",
    "dx=datagrid[0][0][1]-datagrid[0][0][0]"
   ]
  },
  {
   "cell_type": "code",
   "execution_count": 71,
   "id": "ee19cabc",
   "metadata": {},
   "outputs": [
    {
     "data": {
      "text/plain": [
       "[<matplotlib.lines.Line2D at 0x7fa792e14490>]"
      ]
     },
     "execution_count": 71,
     "metadata": {},
     "output_type": "execute_result"
    },
    {
     "data": {
      "image/png": "[encoded data removed]",
      "text/plain": [
       "<Figure size 1080x360 with 1 Axes>"
      ]
     },
     "metadata": {
      "needs_background": "light"
     },
     "output_type": "display_data"
    }
   ],
   "source": [
    "#plt_x1 = np.linspace(0, 1, L)\n",
    "#plt_x2 = np.linspace(0, 1, 2*L-1)\n",
    "#plt_x3 = np.linspace(0, 1, 4*L-3)\n",
    "t=0\n",
    "plt_x1 = datagrid[0][t][3:len(datagrid[0][0])-3]\n",
    "plt_x2 = datagrid[1][t*2][3:len(datagrid[1][0])-3]\n",
    "plt_x3 = datagrid[2][t*3][3:len(datagrid[2][0])-3]\n",
    "\n",
    "plt.plot(plt_x1,dataderuxchi[0][0][3:len(dataderuxchi[0][0])-3])\n",
    "#plt.plot(plt_x2,datam[1][0][3:len(datam[1][0])-3])\n",
    "#plt.plot(plt_x3,datam[2][0][3:len(datam[2][0])-3])"
   ]
  },
  {
   "cell_type": "markdown",
   "id": "0f7f8fb9",
   "metadata": {},
   "source": [
    "# Styling plots"
   ]
  },
  {
   "cell_type": "code",
   "execution_count": 72,
   "id": "953579ab",
   "metadata": {},
   "outputs": [],
   "source": [
    "plt.rcParams.update({\n",
    "    'font.size': 12,\n",
    "    'legend.fontsize':12,\n",
    "    'xtick.labelsize': 'large',\n",
    "    'xtick.color': 'black',\n",
    "    'ytick.labelsize': 'large',\n",
    "    'ytick.color': 'black'})"
   ]
  },
  {
   "cell_type": "code",
   "execution_count": 73,
   "id": "d606e0bb",
   "metadata": {},
   "outputs": [
    {
     "data": {
      "text/plain": [
       "0.5"
      ]
     },
     "execution_count": 73,
     "metadata": {},
     "output_type": "execute_result"
    }
   ],
   "source": [
    "time[200]"
   ]
  },
  {
   "cell_type": "markdown",
   "id": "52719f95",
   "metadata": {},
   "source": [
    "# Plotting data with resolutions 1 and 2 and differences "
   ]
  },
  {
   "cell_type": "code",
   "execution_count": 74,
   "id": "84d69697",
   "metadata": {},
   "outputs": [
    {
     "data": {
      "image/png": "[encoded data removed]",
      "text/plain": [
       "<Figure size 1080x360 with 1 Axes>"
      ]
     },
     "metadata": {},
     "output_type": "display_data"
    }
   ],
   "source": [
    "# for given t\n",
    "t1=0 #last timestep\n",
    "t2=2*t1\n",
    "t3=4*t1\n",
    "auxderuxchi = []\n",
    "auxderxchi = []\n",
    "auxxchi = []\n",
    "auxgrid = []\n",
    "\n",
    "for i in range(len(dataderuxchi[1][t2])):#iterate on the grid with higher resolution\n",
    "    if ((i>2) and (i < (len(dataderuxchi[1][t2])-3)) and ((i%2)!=0)): #ignoring ghost points\n",
    "        auxderuxchi.append(dataderuxchi[1][t2][i])\n",
    "        auxderxchi.append(dataderxchi[1][t2][i])\n",
    "        auxxchi.append(dataxchi[1][t2][i])\n",
    "        auxgrid.append(datagrid[1][t2][i])\n",
    "        #print(datam[1][0][i])\n",
    "\n",
    "        \n",
    "# array for all diff_m_2_1 diff_beta_2_1 diff_psi_2_1 diff_derpsi_2_1\n",
    "diffs_2_1 = []\n",
    "\n",
    "#subtracting f in both resolutions & ignoring ghost points\n",
    "diffs_2_1.append(np.subtract(dataderuxchi[0][t1][3:len(dataderuxchi[0][t1])-3],auxderuxchi))\n",
    "diffs_2_1.append(np.subtract(dataderxchi[0][t1][3:len(dataderxchi[0][t1])-3],auxderxchi))\n",
    "diffs_2_1.append(np.subtract(dataxchi[0][t1][3:len(dataxchi[0][t1])-3],auxxchi))\n",
    "\n",
    "with plt.style.context('ggplot'):\n",
    "    plt.plot(plt_x1, diffs_2_1[0], label = 'res2-res1 of deruxxxchi')\n",
    "\n",
    "plt.legend()\n",
    "plt.xlabel('x')\n",
    "plt.ylabel('deruxchi2(x)-deruxchi1(x)')\n",
    "plt.show()\n"
   ]
  },
  {
   "cell_type": "code",
   "execution_count": 75,
   "id": "1db1d901",
   "metadata": {},
   "outputs": [
    {
     "data": {
      "text/plain": [
       "3.0"
      ]
     },
     "execution_count": 75,
     "metadata": {},
     "output_type": "execute_result"
    }
   ],
   "source": [
    "time[len(time)-1]"
   ]
  },
  {
   "cell_type": "code",
   "execution_count": 76,
   "id": "a727b65c",
   "metadata": {},
   "outputs": [],
   "source": [
    "\n",
    "import matplotlib.pylab as pylab\n",
    "params = {'legend.fontsize': 'x-large',\n",
    "          'figure.figsize': (15, 5),\n",
    "         'axes.labelsize': 'x-large',\n",
    "         'axes.titlesize':'x-large',\n",
    "         'xtick.labelsize':'x-large',\n",
    "         'ytick.labelsize':'x-large'}\n",
    "pylab.rcParams.update(params)\n",
    "\n"
   ]
  },
  {
   "cell_type": "markdown",
   "id": "f055fd26",
   "metadata": {},
   "source": [
    "# Pointwise convergence tests: plots for thesis project report "
   ]
  },
  {
   "cell_type": "code",
   "execution_count": 77,
   "id": "bee07068",
   "metadata": {},
   "outputs": [
    {
     "data": {
      "image/png": "[encoded data removed]",
      "text/plain": [
       "<Figure size 1080x720 with 4 Axes>"
      ]
     },
     "metadata": {},
     "output_type": "display_data"
    }
   ],
   "source": [
    "# for given t\n",
    "\n",
    "aux2deruxchi = []\n",
    "aux2derxchi = []\n",
    "aux2xchi = []\n",
    "\n",
    "for i in range(len(dataderuxchi[2][t3])):#iterate on the grid with higher resolution\n",
    "    if ((i>2) and (i < (len(dataderuxchi[2][t3])-3)) and (((i+1)%4)==0)): #ignoring ghost points\n",
    "        aux2deruxchi.append(dataderuxchi[2][t3][i])\n",
    "        aux2derxchi.append(dataderxchi[2][t3][i])\n",
    "        aux2xchi.append(dataxchi[2][t3][i])\n",
    "\n",
    "        \n",
    "\n",
    "\n",
    "#subtracting m beta psi and derpsi in both resolutions & ignoring ghost points\n",
    "diffs_4_2 =[]\n",
    "diffs_4_2.append(np.subtract(auxderuxchi,aux2deruxchi))\n",
    "diffs_4_2.append(np.subtract(auxderxchi,aux2derxchi))\n",
    "diffs_4_2.append(np.subtract(auxxchi,aux2xchi))\n",
    "with plt.style.context('ggplot'):\n",
    "    \n",
    "    fig, ax = plt.subplots(2, 2,figsize=(15, 10))\n",
    "   \n",
    "    \n",
    "    ax[0][0].plot(plt_x1, (diffs_2_1[0]), label='deruxxxchi',color='#1f77b4')\n",
    "    ax[0][0].plot(plt_x1, (diffs_4_2[0])*4, color='#ff7f0e')\n",
    "    ax[0][0].scatter(plt_x1, (diffs_2_1[0]),alpha=0.7,s=10,color='#1f77b4')\n",
    "    ax[0][0].scatter(plt_x1, (diffs_4_2[0])*4,alpha=0.7,s=30,color='#ff7f0e')\n",
    "    ax[0][0].set_xlabel('x',fontsize=15)\n",
    "    #ax[0][0].set_xlim([0,0.1])\n",
    "    ax[0][0].legend(loc='lower right')\n",
    "    \n",
    "    ax[0][1].plot(plt_x1, (diffs_2_1[1]), label='derxxxchi',color='#1f77b4')\n",
    "    ax[0][1].plot(plt_x1, (diffs_4_2[1])*4, color='#ff7f0e')\n",
    "    ax[0][1].scatter(plt_x1, (diffs_2_1[1]),alpha=0.5,s=30,color='#1f77b4')\n",
    "    ax[0][1].scatter(plt_x1, (diffs_4_2[1])*4,alpha=0.5,s=30,color='#ff7f0e')\n",
    "    ax[0][1].set_xlabel('x',fontsize=15)\n",
    "    #ax[0][1].set_xlim([0, 0.05])\n",
    "    #ax[0][1].set_ylim([0, 1*10**(-11)])\n",
    "    ax[0][1].legend(loc='lower right')\n",
    "    \n",
    "    ax[1][0].plot(plt_x1, (diffs_2_1[2]), label='$xxxchi$',color='#1f77b4')\n",
    "    ax[1][0].plot(plt_x1, (diffs_4_2[2])*4, color='#ff7f0e')\n",
    "    ax[1][0].set_xlabel('x',fontsize=15)\n",
    "    ax[1][0].scatter(plt_x1, (diffs_2_1[2]),alpha=0.5,s=30,color='#1f77b4')\n",
    "    ax[1][0].scatter(plt_x1, (diffs_4_2[2])*4,alpha=0.5,s=30,color='#ff7f0e')\n",
    "    ax[1][0].set_xlim([0, 1])\n",
    "    ax[1][0].legend(loc='lower right')\n",
    "    \n",
    "\n",
    "\n",
    "\n",
    "plt.savefig(\"myImagePDF.pdf\", format=\"pdf\", bbox_inches=\"tight\")\n",
    "\n",
    "plt.show()\n",
    "\n"
   ]
  },
  {
   "cell_type": "markdown",
   "id": "4719f319",
   "metadata": {},
   "source": [
    "# L2 norm convergence tests"
   ]
  },
  {
   "cell_type": "code",
   "execution_count": 78,
   "id": "af1473d0",
   "metadata": {},
   "outputs": [
    {
     "name": "stdout",
     "output_type": "stream",
     "text": [
      "deruxxxchi convergence factor:\n",
      "1.9983603270875026\n",
      "\n",
      "derxxxchi convergence factor:\n",
      "1.9986779490391526\n",
      "\n",
      "xxxchi convergence factor:\n",
      "nan\n",
      "\n"
     ]
    },
    {
     "name": "stderr",
     "output_type": "stream",
     "text": [
      "/tmp/ipykernel_5464/2231725298.py:25: RuntimeWarning: invalid value encountered in scalar divide\n",
      "  print(math.log2(norm_low_med[2]/norm_med_high[2]))\n"
     ]
    }
   ],
   "source": [
    "#for the first time step\n",
    "\n",
    "norm_low_med = []\n",
    "norm_med_high = []\n",
    "\n",
    "for j in range(3):\n",
    "    a = 0\n",
    "    b = 0\n",
    "    for i in diffs_2_1[j]:\n",
    "        a += i**2\n",
    "    for i in diffs_4_2[j]:\n",
    "        b += i**2\n",
    "    norm_low_med.append(np.sqrt(a))\n",
    "    norm_med_high.append(np.sqrt(b))\n",
    "\n",
    "print(\"deruxxxchi convergence factor:\")\n",
    "print(math.log2(norm_low_med[0]/norm_med_high[0]))\n",
    "print(\"\")\n",
    "\n",
    "print(\"derxxxchi convergence factor:\")\n",
    "print(math.log2(norm_low_med[1]/norm_med_high[1]))\n",
    "print(\"\")\n",
    "\n",
    "print(\"xxxchi convergence factor:\")\n",
    "print(math.log2(norm_low_med[2]/norm_med_high[2]))\n",
    "print(\"\")"
   ]
  },
  {
   "cell_type": "markdown",
   "id": "c32c1b9a",
   "metadata": {},
   "source": [
    "# Q(t)"
   ]
  },
  {
   "cell_type": "code",
   "execution_count": 79,
   "id": "8cb96077",
   "metadata": {},
   "outputs": [
    {
     "data": {
      "text/plain": [
       "1201"
      ]
     },
     "execution_count": 79,
     "metadata": {},
     "output_type": "execute_result"
    }
   ],
   "source": [
    "final_t=len(datatime[2])\n",
    "final_t"
   ]
  },
  {
   "cell_type": "code",
   "execution_count": 80,
   "id": "f3bd9266",
   "metadata": {},
   "outputs": [],
   "source": [
    "\"\"\"deruxchi100=Q_deruxchi\n",
    "xchi100=Q_xchi\n",
    "x100=plt_x = np.linspace(0, 2.0, len(deruxchi100))\n",
    "Q100=Q\"\"\";"
   ]
  },
  {
   "cell_type": "code",
   "execution_count": 81,
   "id": "a2a6f85a",
   "metadata": {},
   "outputs": [],
   "source": [
    "rsquarednorm=True"
   ]
  },
  {
   "cell_type": "markdown",
   "id": "95e2e079",
   "metadata": {},
   "source": [
    "using evol variables deruxchi xchi"
   ]
  },
  {
   "cell_type": "code",
   "execution_count": 83,
   "id": "e1270575",
   "metadata": {},
   "outputs": [
    {
     "name": "stderr",
     "output_type": "stream",
     "text": [
      "/tmp/ipykernel_5464/396650890.py:72: RuntimeWarning: invalid value encountered in scalar divide\n",
      "  Q_xchi.append(math.log2(norm_low_med[1]/norm_med_high[1]))\n"
     ]
    },
    {
     "data": {
      "image/png": "[encoded data removed]",
      "text/plain": [
       "<Figure size 720x360 with 2 Axes>"
      ]
     },
     "metadata": {},
     "output_type": "display_data"
    }
   ],
   "source": [
    "\"\"\"from cycler import cycler\n",
    "plt.rc('axes', prop_cycle=(cycler('color', ['r', 'g', 'b', 'y'])))\"\"\"\n",
    "\n",
    "Q_deruxchi = []\n",
    "Q_xchi = []\n",
    "Q= []\n",
    "\n",
    "\n",
    "for t in range(0,int(final_t/4)):\n",
    "    # for given t\n",
    "    t1=t #last timestep\n",
    "    t2=2*t1\n",
    "    t3=4*t1\n",
    "    auxderuxchi = []\n",
    "    auxxchi = []\n",
    "\n",
    "    for i in range(len(dataderuxchi[1][t2])):#iterate on the grid with higher resolution\n",
    "        if ((i>2) and (i < (len(dataderuxchi[1][t2])-3)) and ((i%2)!=0)): #ignoring ghost points\n",
    "            auxderuxchi.append(dataderuxchi[1][t2][i])\n",
    "            auxxchi.append(dataxchi[1][t2][i])\n",
    "\n",
    "\n",
    "    # array for all diff_m_2_1 diff_beta_2_1 diff_psi_2_1 diff_derpsi_2_1\n",
    "    diffs_2_1 = []\n",
    "\n",
    "    #subtracting f in both resolutions & ignoring ghost points\n",
    "    diffs_2_1.append(np.subtract(dataderuxchi[0][t1][3:len(dataderuxchi[0][t1])-3],auxderuxchi))\n",
    "    diffs_2_1.append(np.subtract(dataxchi[0][t1][3:len(dataxchi[0][t1])-3],auxxchi))\n",
    "\n",
    "    # for given t\n",
    "\n",
    "    aux2deruxchi = []\n",
    "    aux2xchi = []\n",
    "    for i in range(len(dataderuxchi[2][t3])):#iterate on the grid with higher resolution\n",
    "        if ((i>2) and (i < (len(dataderuxchi[2][t3])-3)) and (((i+1)%4)==0)): #ignoring ghost points\n",
    "            aux2deruxchi.append(dataderuxchi[2][t3][i])\n",
    "            aux2xchi.append(dataxchi[2][t3][i])\n",
    "\n",
    "\n",
    "\n",
    "    #subtracting m beta psi and derpsi in both resolutions & ignoring ghost points\n",
    "    diffs_4_2 =[]\n",
    "    diffs_4_2.append(np.subtract(auxderuxchi,aux2deruxchi))\n",
    "    diffs_4_2.append(np.subtract(auxxchi,aux2xchi))\n",
    "\n",
    "\n",
    "    ####\n",
    "\n",
    "    norm_low_med = []\n",
    "    norm_med_high = []\n",
    "    single_norm_low_med = []\n",
    "    single_norm_med_high = []\n",
    "    s_a=0\n",
    "    s_b=0\n",
    "\n",
    "    for j in range(2):\n",
    "        a = 0\n",
    "        b = 0\n",
    "        for i in diffs_2_1[j]:\n",
    "            a += i**2\n",
    "            s_a += i**2\n",
    "        for i in diffs_4_2[j]:\n",
    "            b += i**2\n",
    "            s_b += i**2\n",
    "        norm_low_med.append(np.sqrt(a))\n",
    "        norm_med_high.append(np.sqrt(b))\n",
    "\n",
    "    single_norm_low_med=np.sqrt(s_a)\n",
    "    single_norm_med_high=np.sqrt(s_b)\n",
    "    \n",
    "    Q_deruxchi.append(math.log2(norm_low_med[0]/norm_med_high[0]))\n",
    "    Q_xchi.append(math.log2(norm_low_med[1]/norm_med_high[1]))\n",
    "    Q.append(math.log2(single_norm_low_med/single_norm_med_high))\n",
    "    ####\n",
    "    \n",
    "plt_x = np.linspace(0, 2, len(Q_deruxchi))\n",
    "with plt.style.context('ggplot'):\n",
    "    \n",
    "    fig, ax = plt.subplots(1, 2,figsize=(10, 5))\n",
    "    \n",
    "    ax[0].plot(plt_x, Q_deruxchi, label = '$Q_{(x^2\\chi){,u}}$',color='#1f77b4')\n",
    "    ax[0].plot(plt_x, Q_xchi, label = '$Q_{x^2\\chi}$',color='#d62728')\n",
    "    \n",
    "    ax[0].plot(x100, deruxchi100, linestyle='dotted',color='#1f77b4')\n",
    "    ax[0].plot(x100, xchi100, linestyle='dotted',color='#d62728')\n",
    "    \n",
    "    ax[0].set_ylim([0,4])\n",
    "    ax[0].set_xlim([0,2])\n",
    "    ax[0].legend(loc =\"upper left\",fontsize=15)\n",
    "    ax[0].set_xlabel('Proper time u')\n",
    "    ax[0].set_ylabel('Q(u)')\n",
    "    ax[0].set_title('Individual norms')\n",
    "    \n",
    "    \n",
    "    ax[1].plot(plt_x, Q, label = '$Q$',color='#1f77b4')\n",
    "    #ax[1].plot(x100, Q100, linestyle='dotted',alpha=0.7,color='#1f77b4')\n",
    "    ax[1].set_ylim([0,4])\n",
    "    ax[1].set_xlim([0,2])\n",
    "    ax[1].legend(loc =\"upper left\",fontsize=15)\n",
    "    ax[1].set_title('Single norm')\n",
    "    #plt.xticks(rotation=45)\n",
    "    ax[1].set_xlabel('Proper time u')\n",
    "    ax[1].set_ylabel('Q(u)')\n",
    "\n",
    "plt.savefig(\"myImagePDF.pdf\", format=\"pdf\", bbox_inches=\"tight\")\n",
    "plt.show()\n"
   ]
  },
  {
   "cell_type": "code",
   "execution_count": null,
   "id": "4b57dc71",
   "metadata": {},
   "outputs": [],
   "source": [
    "diffs_2_1[1][170]"
   ]
  },
  {
   "cell_type": "code",
   "execution_count": null,
   "id": "20a46205",
   "metadata": {},
   "outputs": [],
   "source": [
    "\"\"\"from cycler import cycler\n",
    "plt.rc('axes', prop_cycle=(cycler('color', ['r', 'g', 'b', 'y'])))\"\"\"\n",
    "\n",
    "Q_deruxchi = []\n",
    "Q_derxchi = []\n",
    "Q_xchi = []\n",
    "Q= []\n",
    "\n",
    "\n",
    "for t in range(0,int(final_t/4)):\n",
    "    # for given t\n",
    "    t1=t #last timestep\n",
    "    t2=2*t1\n",
    "    t3=4*t1\n",
    "    auxderuxchi = []\n",
    "    auxderxchi = []\n",
    "    auxxchi = []\n",
    "\n",
    "    for i in range(len(dataderuxchi[1][t2])):#iterate on the grid with higher resolution\n",
    "        if ((i>2) and (i < (len(dataderuxchi[1][t2])-3)) and ((i%2)!=0)): #ignoring ghost points\n",
    "            auxderuxchi.append(dataderuxchi[1][t2][i])\n",
    "            auxderxchi.append(dataderxchi[1][t2][i])\n",
    "            auxxchi.append(dataxchi[1][t2][i])\n",
    "\n",
    "\n",
    "    # array for all diff_m_2_1 diff_beta_2_1 diff_psi_2_1 diff_derpsi_2_1\n",
    "    diffs_2_1 = []\n",
    "\n",
    "    #subtracting f in both resolutions & ignoring ghost points\n",
    "    diffs_2_1.append(np.subtract(dataderuxchi[0][t1][3:len(dataderuxchi[0][t1])-3],auxderuxchi))\n",
    "    diffs_2_1.append(np.subtract(dataderxchi[0][t1][3:len(dataderxchi[0][t1])-3],auxderxchi))\n",
    "    diffs_2_1.append(np.subtract(dataxchi[0][t1][3:len(dataxchi[0][t1])-3],auxxchi))\n",
    "\n",
    "    # for given t\n",
    "\n",
    "    aux2deruxchi = []\n",
    "    aux2derxchi = []\n",
    "    aux2xchi = []\n",
    "    for i in range(len(dataderuxchi[2][t3])):#iterate on the grid with higher resolution\n",
    "        if ((i>2) and (i < (len(dataderuxchi[2][t3])-3)) and (((i+1)%4)==0)): #ignoring ghost points\n",
    "            aux2deruxchi.append(dataderuxchi[2][t3][i])\n",
    "            aux2derxchi.append(dataderxchi[2][t3][i])\n",
    "            aux2xchi.append(dataxchi[2][t3][i])\n",
    "\n",
    "\n",
    "\n",
    "    #subtracting m beta psi and derpsi in both resolutions & ignoring ghost points\n",
    "    diffs_4_2 =[]\n",
    "    diffs_4_2.append(np.subtract(auxderuxchi,aux2deruxchi))\n",
    "    diffs_4_2.append(np.subtract(auxderxchi,aux2derxchi))\n",
    "    diffs_4_2.append(np.subtract(auxxchi,aux2xchi))\n",
    "\n",
    "\n",
    "    ####\n",
    "\n",
    "    norm_low_med = []\n",
    "    norm_med_high = []\n",
    "    single_norm_low_med = []\n",
    "    single_norm_med_high = []\n",
    "    s_a=0\n",
    "    s_b=0\n",
    "\n",
    "    for j in range(3):\n",
    "        a = 0\n",
    "        b = 0\n",
    "        for i in diffs_2_1[j]:\n",
    "            a += i**2\n",
    "            s_a += i**2\n",
    "        for i in diffs_4_2[j]:\n",
    "            b += i**2\n",
    "            s_b += i**2\n",
    "        norm_low_med.append(np.sqrt(a))\n",
    "        norm_med_high.append(np.sqrt(b))\n",
    "\n",
    "    single_norm_low_med=np.sqrt(s_a)\n",
    "    single_norm_med_high=np.sqrt(s_b)\n",
    "    \n",
    "    Q_deruxchi.append(math.log2(norm_low_med[0]/norm_med_high[0]))\n",
    "    Q_derxchi.append(math.log2(norm_low_med[1]/norm_med_high[1]))\n",
    "    Q_xchi.append(math.log2(norm_low_med[2]/norm_med_high[2]))\n",
    "    Q.append(math.log2(single_norm_low_med/single_norm_med_high))\n",
    "    ####\n",
    "    \n",
    "plt_x = np.linspace(0, 3.0, len(Q_deruxchi))\n",
    "#plt_x = np.linspace(0, int(final_t/4)*dx*step, int(final_t/4))\n",
    "with plt.style.context('ggplot'):\n",
    "    \n",
    "    fig, ax = plt.subplots(1, 2,figsize=(10, 5))\n",
    "    \n",
    "    ax[0].plot(plt_x, Q_deruxchi, label = '$Q deruxchi$',color='#1f77b4')\n",
    "    ax[0].plot(plt_x, Q_derxchi, label = '$Q derxchi$',color='#ff7f0e')\n",
    "    ax[0].plot(plt_x, Q_xchi, label = '$Q xchi$',color='#2ca02c')\n",
    "    \n",
    "    ax[0].set_ylim([0,8])\n",
    "    ax[0].set_xlim([0,2])\n",
    "    ax[0].legend(loc =\"upper left\")\n",
    "    ax[0].set_xlabel('Proper time u')\n",
    "    ax[0].set_ylabel('Q(u)')\n",
    "    ax[0].set_title('Individual norms')\n",
    "    \n",
    "    \n",
    "    ax[1].plot(plt_x, Q, label = '$Q$',color='#1f77b4')\n",
    "    #ax[1].plot(x100, Q100, linestyle='dotted',alpha=0.7,color='#1f77b4')\n",
    "    ax[1].set_ylim([0,8])\n",
    "    ax[1].set_xlim([0,2])\n",
    "    ax[1].legend(loc =\"upper left\")\n",
    "    ax[1].set_title('Single norm')\n",
    "    #plt.xticks(rotation=45)\n",
    "    ax[1].set_xlabel('Proper time u')\n",
    "    ax[1].set_ylabel('Q(u)')\n",
    "\n",
    "plt.savefig(\"myImagePDF.pdf\", format=\"pdf\", bbox_inches=\"tight\")\n",
    "plt.show()\n"
   ]
  },
  {
   "cell_type": "code",
   "execution_count": null,
   "id": "5d96a1a1",
   "metadata": {},
   "outputs": [],
   "source": []
  },
  {
   "cell_type": "code",
   "execution_count": null,
   "id": "0ee448b2",
   "metadata": {},
   "outputs": [],
   "source": []
  }
 ],
 "metadata": {
  "kernelspec": {
   "display_name": "Python 3 (ipykernel)",
   "language": "python",
   "name": "python3"
  },
  "language_info": {
   "codemirror_mode": {
    "name": "ipython",
    "version": 3
   },
   "file_extension": ".py",
   "mimetype": "text/x-python",
   "name": "python",
   "nbconvert_exporter": "python",
   "pygments_lexer": "ipython3",
   "version": "3.9.12"
  }
 },
 "nbformat": 4,
 "nbformat_minor": 5
}
