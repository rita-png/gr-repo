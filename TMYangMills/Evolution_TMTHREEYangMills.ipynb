{
 "cells": [
  {
   "cell_type": "markdown",
   "id": "d88601a8",
   "metadata": {
    "papermill": {
     "duration": 0.010813,
     "end_time": "2023-03-28T18:06:09.878411",
     "exception": false,
     "start_time": "2023-03-28T18:06:09.867598",
     "status": "completed"
    },
    "tags": []
   },
   "source": [
    "# Evolution of Einstein's equations"
   ]
  },
  {
   "cell_type": "markdown",
   "id": "03c607c7",
   "metadata": {
    "papermill": {
     "duration": 0.006777,
     "end_time": "2023-03-28T18:06:09.893152",
     "exception": false,
     "start_time": "2023-03-28T18:06:09.886375",
     "status": "completed"
    },
    "tags": []
   },
   "source": [
    "# Initial data , setting length of the domain and discretization\n"
   ]
  },
  {
   "cell_type": "markdown",
   "id": "43aebde7",
   "metadata": {
    "execution": {
     "iopub.execute_input": "2023-03-28T19:06:10.907000Z",
     "iopub.status.busy": "2023-03-28T19:06:09.907000Z",
     "iopub.status.idle": "2023-03-28T19:06:12.147000Z",
     "shell.execute_reply": "2023-03-28T19:06:12.110000Z"
    },
    "papermill": {
     "duration": 2.251282,
     "end_time": "2023-03-28T18:06:12.151193",
     "exception": false,
     "start_time": "2023-03-28T18:06:09.899911",
     "status": "completed"
    },
    "tags": [
     "injected-parameters"
    ]
   },
   "source": [
    "# Parameters"
   ]
  },
  {
   "cell_type": "code",
   "execution_count": 265,
   "id": "a28c43b6",
   "metadata": {},
   "outputs": [
    {
     "data": {
      "text/plain": [
       "1"
      ]
     },
     "execution_count": 265,
     "metadata": {},
     "output_type": "execute_result"
    }
   ],
   "source": [
    "m=1\n",
    "p = 0.01#0.4\n",
    "q = 1#1.0#0.1#0.1#0.01#0.9#0.01#0.5 #Pure SF is q=0\n",
    "run = 1"
   ]
  },
  {
   "cell_type": "markdown",
   "id": "b3b8c463",
   "metadata": {},
   "source": [
    "Choose your grid"
   ]
  },
  {
   "cell_type": "code",
   "execution_count": 266,
   "id": "809ea402",
   "metadata": {},
   "outputs": [
    {
     "data": {
      "text/plain": [
       "false"
      ]
     },
     "execution_count": 266,
     "metadata": {},
     "output_type": "execute_result"
    }
   ],
   "source": [
    "global compactified=true\n",
    "global loggrid=false\n",
    "global bisection=false\n",
    "global zeroformat=false\n",
    "global twod=true\n",
    "\n",
    "global source=false"
   ]
  },
  {
   "cell_type": "code",
   "execution_count": 267,
   "id": "73b14643",
   "metadata": {},
   "outputs": [
    {
     "data": {
      "text/plain": [
       "compactify (generic function with 1 method)"
      ]
     },
     "execution_count": 267,
     "metadata": {},
     "output_type": "execute_result"
    }
   ],
   "source": [
    "function compactify(r)\n",
    "    x=r/(1+r)\n",
    "    return x\n",
    "end"
   ]
  },
  {
   "cell_type": "code",
   "execution_count": 268,
   "id": "80a113e0",
   "metadata": {},
   "outputs": [],
   "source": [
    "using Quadmath, Printf\n",
    "\n",
    "res=m;\n",
    "N=2.0^m*400.0/2.0\n",
    "\n",
    "if compactified==true\n",
    "    Xf=1.0\n",
    "else\n",
    "    Xf=2.0\n",
    "end\n",
    "\n",
    "dx=Xf/N\n",
    "if loggrid==false\n",
    "    dt=0.5*round(dx,digits=10)\n",
    "else\n",
    "    dt=0.1*round(dx,digits=10)\n",
    "end\n",
    "Nt=N\n",
    "Tf=Nt*dt;"
   ]
  },
  {
   "cell_type": "code",
   "execution_count": 269,
   "id": "4f752d54",
   "metadata": {
    "execution": {
     "iopub.execute_input": "2023-03-28T19:06:12.356000Z",
     "iopub.status.busy": "2023-03-28T19:06:12.356000Z",
     "iopub.status.idle": "2023-03-28T19:06:12.364000Z",
     "shell.execute_reply": "2023-03-28T19:06:12.364000Z"
    },
    "papermill": {
     "duration": 0.020815,
     "end_time": "2023-03-28T18:06:12.368761",
     "exception": false,
     "start_time": "2023-03-28T18:06:12.347946",
     "status": "completed"
    },
    "tags": []
   },
   "outputs": [
    {
     "name": "stdout",
     "output_type": "stream",
     "text": [
      "400.0"
     ]
    }
   ],
   "source": [
    "print(N)"
   ]
  },
  {
   "cell_type": "code",
   "execution_count": 270,
   "id": "78fb78a5",
   "metadata": {
    "execution": {
     "iopub.execute_input": "2023-03-28T19:06:12.419000Z",
     "iopub.status.busy": "2023-03-28T19:06:12.419000Z",
     "iopub.status.idle": "2023-03-28T19:06:13.308000Z",
     "shell.execute_reply": "2023-03-28T19:06:13.308000Z"
    },
    "papermill": {
     "duration": 0.90283,
     "end_time": "2023-03-28T18:06:13.314381",
     "exception": false,
     "start_time": "2023-03-28T18:06:12.411551",
     "status": "completed"
    },
    "tags": []
   },
   "outputs": [
    {
     "data": {
      "text/plain": [
       "\"/home/rita13santos/Desktop/MSc Thesis/Git/TMYangMills/DATA\""
      ]
     },
     "execution_count": 270,
     "metadata": {},
     "output_type": "execute_result"
    }
   ],
   "source": [
    "global dir = \"/home/rita13santos/Desktop/MSc Thesis/Git/TMYangMills/DATA\""
   ]
  },
  {
   "cell_type": "markdown",
   "id": "e2dd4335",
   "metadata": {
    "papermill": {
     "duration": 0.007006,
     "end_time": "2023-03-28T18:06:13.351329",
     "exception": false,
     "start_time": "2023-03-28T18:06:13.344323",
     "status": "completed"
    },
    "tags": []
   },
   "source": [
    "# Grid"
   ]
  },
  {
   "cell_type": "code",
   "execution_count": 271,
   "id": "bc5288f8",
   "metadata": {
    "execution": {
     "iopub.execute_input": "2023-03-28T19:06:13.636000Z",
     "iopub.status.busy": "2023-03-28T19:06:13.636000Z",
     "iopub.status.idle": "2023-03-28T19:06:14.762000Z",
     "shell.execute_reply": "2023-03-28T19:06:14.762000Z"
    },
    "papermill": {
     "duration": 1.137394,
     "end_time": "2023-03-28T18:06:14.765909",
     "exception": false,
     "start_time": "2023-03-28T18:06:13.628515",
     "status": "completed"
    },
    "tags": []
   },
   "outputs": [],
   "source": [
    "using Printf\n",
    "include(\"./TMYangMillsTHREE.jl\");"
   ]
  },
  {
   "cell_type": "code",
   "execution_count": 272,
   "id": "de24fea3",
   "metadata": {
    "execution": {
     "iopub.execute_input": "2023-03-28T19:06:13.366000Z",
     "iopub.status.busy": "2023-03-28T19:06:13.366000Z",
     "iopub.status.idle": "2023-03-28T19:06:13.571000Z",
     "shell.execute_reply": "2023-03-28T19:06:13.571000Z"
    },
    "papermill": {
     "duration": 0.216104,
     "end_time": "2023-03-28T18:06:13.574666",
     "exception": false,
     "start_time": "2023-03-28T18:06:13.358562",
     "status": "completed"
    },
    "tags": []
   },
   "outputs": [
    {
     "name": "stdout",
     "output_type": "stream",
     "text": [
      "step size is  0.0025\n",
      "the time step is 0.00125\n"
     ]
    }
   ],
   "source": [
    "ori=0.0#Float128(0.0)#0.0;\n",
    "initX1 = nothing\n",
    "N=int(N)\n",
    "initX1=range(ori, stop=Xf, step=dx);\n",
    "initX = range(round(ori-3.0*dx,digits=10), stop=Xf+3.0*dx, step=dx)\n",
    "\n",
    "L=length(initX);\n",
    "println(\"step size is  \", dx)\n",
    "println(\"the time step is \", dt)\n",
    "\n",
    "if loggrid==true\n",
    "    global originalX=initX\n",
    "    xtilde=gridfunc(initX1)\n",
    "    initX1=xtilde\n",
    "    initX=collect(initX)\n",
    "    initX[4:L-3]=xtilde\n",
    "end;"
   ]
  },
  {
   "cell_type": "markdown",
   "id": "80ab1480",
   "metadata": {
    "papermill": {
     "duration": 0.007525,
     "end_time": "2023-03-28T18:06:14.783937",
     "exception": false,
     "start_time": "2023-03-28T18:06:14.776412",
     "status": "completed"
    },
    "tags": []
   },
   "source": [
    "# Initial data of m β Ψ and Ψ,x"
   ]
  },
  {
   "cell_type": "code",
   "execution_count": 379,
   "id": "d0af654c",
   "metadata": {
    "execution": {
     "iopub.execute_input": "2023-03-28T19:06:14.799000Z",
     "iopub.status.busy": "2023-03-28T19:06:14.799000Z",
     "iopub.status.idle": "2023-03-28T19:06:22.269000Z",
     "shell.execute_reply": "2023-03-28T19:06:22.269000Z"
    },
    "papermill": {
     "duration": 7.48258,
     "end_time": "2023-03-28T18:06:22.273970",
     "exception": false,
     "start_time": "2023-03-28T18:06:14.791390",
     "status": "completed"
    },
    "tags": []
   },
   "outputs": [],
   "source": [
    "using Dierckx\n",
    "\n",
    "\n",
    "####\n",
    "\n",
    "initm=zeros(L)\n",
    "initbeta=zeros(L)\n",
    "initxi=zeros(L)\n",
    "initderxi=zeros(L)\n",
    "\n",
    "state_array=[initm initbeta initxi initderxi];\n",
    "\n",
    "#WBAR,R\n",
    "#0.088125<A*<0.08875\n",
    "A=0.0884375\n",
    "r0=0.3\n",
    "sigma=0.1\n",
    "\n",
    "initderxi[4:L-3] = init_derpsi(initX1,r0,sigma,A)\n",
    "\n",
    "state_array[:,4] = initderxi\n",
    "state_array=ghost(state_array)\n",
    "\n",
    "####\n",
    "#XI FROM XI,X\n",
    "\n",
    "derxi_func = Spline1D(initX[4:L-3], state_array[4:L-3,4],  k=4);\n",
    "\n",
    "funcs=[derxi_func];"
   ]
  },
  {
   "cell_type": "code",
   "execution_count": 380,
   "id": "102cb7e6",
   "metadata": {},
   "outputs": [
    {
     "data": {
      "text/plain": [
       "0.0884375"
      ]
     },
     "execution_count": 380,
     "metadata": {},
     "output_type": "execute_result"
    }
   ],
   "source": [
    "(0.088125+0.08875)/2\n",
    "there were runs with 0.6 as critical stop that were marked as critical but didnt crash"
   ]
  },
  {
   "cell_type": "code",
   "execution_count": 381,
   "id": "78cfbd6e",
   "metadata": {},
   "outputs": [
    {
     "data": {
      "text/plain": [
       "401×3 Matrix{Float64}:\n",
       " 0.0          0.0          0.0\n",
       " 7.09232e-12  1.33672e-9   3.19434e-8\n",
       " 2.7252e-11   3.82293e-9   7.43352e-8\n",
       " 5.80252e-11  6.25204e-9   1.29674e-7\n",
       " 1.04493e-10  9.09634e-9   2.00973e-7\n",
       " 1.74199e-10  1.26619e-8   2.91853e-7\n",
       " 2.78191e-10  1.7284e-8    4.06654e-7\n",
       " 4.32526e-10  2.33867e-8   5.50564e-7\n",
       " 6.60411e-10  3.15299e-8   7.29768e-7\n",
       " 9.95206e-10  4.2463e-8    9.51622e-7\n",
       " 1.48463e-9   5.71925e-8   1.22485e-6\n",
       " 2.1966e-9    7.70706e-8   1.55979e-6\n",
       " 3.22734e-9   1.03912e-7   1.96864e-6\n",
       " ⋮                        \n",
       " 0.105092     0.411855    -6.92996e-10\n",
       " 0.105092     0.411855    -6.92996e-10\n",
       " 0.105092     0.411855    -6.92996e-10\n",
       " 0.105092     0.411855    -6.92996e-10\n",
       " 0.105092     0.411855    -6.92996e-10\n",
       " 0.105092     0.411855    -6.92996e-10\n",
       " 0.105092     0.411855    -6.92996e-10\n",
       " 0.105092     0.411855    -6.92996e-10\n",
       " 0.105092     0.411855    -6.92996e-10\n",
       " 0.105092     0.411855    -6.92996e-10\n",
       " 0.105092     0.411855    -6.92996e-10\n",
       " 0.105092     0.411855    -6.92996e-10"
      ]
     },
     "execution_count": 381,
     "metadata": {},
     "output_type": "execute_result"
    }
   ],
   "source": [
    "y0=[0.0 0.0 0.0]\n",
    "\n",
    "if twod==true\n",
    "        state_array[4:L-3,1:3] = twod_n_rk4wrapper(RHS,y0,initX[4:L-3],0,funcs,state_array[:,:]);\n",
    "    else\n",
    "        state_array[4:L-3,1:3] = n_rk4wrapper(RHS,y0,initX[4:L-3],0,funcs,state_array[:,:]);\n",
    "end\n",
    "\n",
    "#state_array = ghost(state_array);"
   ]
  },
  {
   "cell_type": "code",
   "execution_count": 382,
   "id": "14e14e45",
   "metadata": {},
   "outputs": [
    {
     "data": {
      "image/svg+xml": [
       "<?xml version=\"1.0\" encoding=\"utf-8\"?>\n",
       "<svg xmlns=\"http://www.w3.org/2000/svg\" xmlns:xlink=\"http://www.w3.org/1999/xlink\" width=\"600\" height=\"400\" viewBox=\"0 0 2400 1600\">\n",
       "<defs>\n",
       "  <clipPath id=\"clip070\">\n",
       "    <rect x=\"0\" y=\"0\" width=\"2400\" height=\"1600\"/>\n",
       "  </clipPath>\n",
       "</defs>\n",
       "<path clip-path=\"url(#clip070)\" d=\"M0 1600 L2400 1600 L2400 0 L0 0  Z\" fill=\"#ffffff\" fill-rule=\"evenodd\" fill-opacity=\"1\"/>\n",
       "<defs>\n",
       "  <clipPath id=\"clip071\">\n",
       "    <rect x=\"480\" y=\"0\" width=\"1681\" height=\"1600\"/>\n",
       "  </clipPath>\n",
       "</defs>\n",
       "<path clip-path=\"url(#clip070)\" d=\"M192.709 1423.18 L2352.76 1423.18 L2352.76 123.472 L192.709 123.472  Z\" fill=\"#ffffff\" fill-rule=\"evenodd\" fill-opacity=\"1\"/>\n",
       "<defs>\n",
       "  <clipPath id=\"clip072\">\n",
       "    <rect x=\"192\" y=\"123\" width=\"2161\" height=\"1301\"/>\n",
       "  </clipPath>\n",
       "</defs>\n",
       "<polyline clip-path=\"url(#clip072)\" style=\"stroke:#000000; stroke-linecap:round; stroke-linejoin:round; stroke-width:2; stroke-opacity:0.1; fill:none\" points=\"192.709,1423.18 192.709,123.472 \"/>\n",
       "<polyline clip-path=\"url(#clip072)\" style=\"stroke:#000000; stroke-linecap:round; stroke-linejoin:round; stroke-width:2; stroke-opacity:0.1; fill:none\" points=\"624.719,1423.18 624.719,123.472 \"/>\n",
       "<polyline clip-path=\"url(#clip072)\" style=\"stroke:#000000; stroke-linecap:round; stroke-linejoin:round; stroke-width:2; stroke-opacity:0.1; fill:none\" points=\"1056.73,1423.18 1056.73,123.472 \"/>\n",
       "<polyline clip-path=\"url(#clip072)\" style=\"stroke:#000000; stroke-linecap:round; stroke-linejoin:round; stroke-width:2; stroke-opacity:0.1; fill:none\" points=\"1488.74,1423.18 1488.74,123.472 \"/>\n",
       "<polyline clip-path=\"url(#clip072)\" style=\"stroke:#000000; stroke-linecap:round; stroke-linejoin:round; stroke-width:2; stroke-opacity:0.1; fill:none\" points=\"1920.75,1423.18 1920.75,123.472 \"/>\n",
       "<polyline clip-path=\"url(#clip072)\" style=\"stroke:#000000; stroke-linecap:round; stroke-linejoin:round; stroke-width:2; stroke-opacity:0.1; fill:none\" points=\"2352.76,1423.18 2352.76,123.472 \"/>\n",
       "<polyline clip-path=\"url(#clip070)\" style=\"stroke:#000000; stroke-linecap:round; stroke-linejoin:round; stroke-width:4; stroke-opacity:1; fill:none\" points=\"192.709,1423.18 2352.76,1423.18 \"/>\n",
       "<polyline clip-path=\"url(#clip070)\" style=\"stroke:#000000; stroke-linecap:round; stroke-linejoin:round; stroke-width:4; stroke-opacity:1; fill:none\" points=\"192.709,1423.18 192.709,1404.28 \"/>\n",
       "<polyline clip-path=\"url(#clip070)\" style=\"stroke:#000000; stroke-linecap:round; stroke-linejoin:round; stroke-width:4; stroke-opacity:1; fill:none\" points=\"624.719,1423.18 624.719,1404.28 \"/>\n",
       "<polyline clip-path=\"url(#clip070)\" style=\"stroke:#000000; stroke-linecap:round; stroke-linejoin:round; stroke-width:4; stroke-opacity:1; fill:none\" points=\"1056.73,1423.18 1056.73,1404.28 \"/>\n",
       "<polyline clip-path=\"url(#clip070)\" style=\"stroke:#000000; stroke-linecap:round; stroke-linejoin:round; stroke-width:4; stroke-opacity:1; fill:none\" points=\"1488.74,1423.18 1488.74,1404.28 \"/>\n",
       "<polyline clip-path=\"url(#clip070)\" style=\"stroke:#000000; stroke-linecap:round; stroke-linejoin:round; stroke-width:4; stroke-opacity:1; fill:none\" points=\"1920.75,1423.18 1920.75,1404.28 \"/>\n",
       "<polyline clip-path=\"url(#clip070)\" style=\"stroke:#000000; stroke-linecap:round; stroke-linejoin:round; stroke-width:4; stroke-opacity:1; fill:none\" points=\"2352.76,1423.18 2352.76,1404.28 \"/>\n",
       "<path clip-path=\"url(#clip070)\" d=\"M170.094 1454.1 Q166.482 1454.1 164.654 1457.66 Q162.848 1461.2 162.848 1468.33 Q162.848 1475.44 164.654 1479.01 Q166.482 1482.55 170.094 1482.55 Q173.728 1482.55 175.533 1479.01 Q177.362 1475.44 177.362 1468.33 Q177.362 1461.2 175.533 1457.66 Q173.728 1454.1 170.094 1454.1 M170.094 1450.39 Q175.904 1450.39 178.959 1455 Q182.038 1459.58 182.038 1468.33 Q182.038 1477.06 178.959 1481.67 Q175.904 1486.25 170.094 1486.25 Q164.283 1486.25 161.205 1481.67 Q158.149 1477.06 158.149 1468.33 Q158.149 1459.58 161.205 1455 Q164.283 1450.39 170.094 1450.39 Z\" fill=\"#000000\" fill-rule=\"evenodd\" fill-opacity=\"1\" /><path clip-path=\"url(#clip070)\" d=\"M190.255 1479.7 L195.14 1479.7 L195.14 1485.58 L190.255 1485.58 L190.255 1479.7 Z\" fill=\"#000000\" fill-rule=\"evenodd\" fill-opacity=\"1\" /><path clip-path=\"url(#clip070)\" d=\"M215.325 1454.1 Q211.714 1454.1 209.885 1457.66 Q208.079 1461.2 208.079 1468.33 Q208.079 1475.44 209.885 1479.01 Q211.714 1482.55 215.325 1482.55 Q218.959 1482.55 220.765 1479.01 Q222.593 1475.44 222.593 1468.33 Q222.593 1461.2 220.765 1457.66 Q218.959 1454.1 215.325 1454.1 M215.325 1450.39 Q221.135 1450.39 224.19 1455 Q227.269 1459.58 227.269 1468.33 Q227.269 1477.06 224.19 1481.67 Q221.135 1486.25 215.325 1486.25 Q209.515 1486.25 206.436 1481.67 Q203.38 1477.06 203.38 1468.33 Q203.38 1459.58 206.436 1455 Q209.515 1450.39 215.325 1450.39 Z\" fill=\"#000000\" fill-rule=\"evenodd\" fill-opacity=\"1\" /><path clip-path=\"url(#clip070)\" d=\"M602.901 1454.1 Q599.29 1454.1 597.462 1457.66 Q595.656 1461.2 595.656 1468.33 Q595.656 1475.44 597.462 1479.01 Q599.29 1482.55 602.901 1482.55 Q606.536 1482.55 608.341 1479.01 Q610.17 1475.44 610.17 1468.33 Q610.17 1461.2 608.341 1457.66 Q606.536 1454.1 602.901 1454.1 M602.901 1450.39 Q608.712 1450.39 611.767 1455 Q614.846 1459.58 614.846 1468.33 Q614.846 1477.06 611.767 1481.67 Q608.712 1486.25 602.901 1486.25 Q597.091 1486.25 594.013 1481.67 Q590.957 1477.06 590.957 1468.33 Q590.957 1459.58 594.013 1455 Q597.091 1450.39 602.901 1450.39 Z\" fill=\"#000000\" fill-rule=\"evenodd\" fill-opacity=\"1\" /><path clip-path=\"url(#clip070)\" d=\"M623.063 1479.7 L627.948 1479.7 L627.948 1485.58 L623.063 1485.58 L623.063 1479.7 Z\" fill=\"#000000\" fill-rule=\"evenodd\" fill-opacity=\"1\" /><path clip-path=\"url(#clip070)\" d=\"M642.161 1481.64 L658.48 1481.64 L658.48 1485.58 L636.536 1485.58 L636.536 1481.64 Q639.198 1478.89 643.781 1474.26 Q648.387 1469.61 649.568 1468.27 Q651.813 1465.74 652.693 1464.01 Q653.596 1462.25 653.596 1460.56 Q653.596 1457.8 651.651 1456.07 Q649.73 1454.33 646.628 1454.33 Q644.429 1454.33 641.975 1455.09 Q639.545 1455.86 636.767 1457.41 L636.767 1452.69 Q639.591 1451.55 642.045 1450.97 Q644.498 1450.39 646.536 1450.39 Q651.906 1450.39 655.1 1453.08 Q658.295 1455.77 658.295 1460.26 Q658.295 1462.39 657.485 1464.31 Q656.697 1466.2 654.591 1468.8 Q654.012 1469.47 650.91 1472.69 Q647.809 1475.88 642.161 1481.64 Z\" fill=\"#000000\" fill-rule=\"evenodd\" fill-opacity=\"1\" /><path clip-path=\"url(#clip070)\" d=\"M1033.87 1454.1 Q1030.26 1454.1 1028.43 1457.66 Q1026.62 1461.2 1026.62 1468.33 Q1026.62 1475.44 1028.43 1479.01 Q1030.26 1482.55 1033.87 1482.55 Q1037.5 1482.55 1039.31 1479.01 Q1041.14 1475.44 1041.14 1468.33 Q1041.14 1461.2 1039.31 1457.66 Q1037.5 1454.1 1033.87 1454.1 M1033.87 1450.39 Q1039.68 1450.39 1042.73 1455 Q1045.81 1459.58 1045.81 1468.33 Q1045.81 1477.06 1042.73 1481.67 Q1039.68 1486.25 1033.87 1486.25 Q1028.06 1486.25 1024.98 1481.67 Q1021.92 1477.06 1021.92 1468.33 Q1021.92 1459.58 1024.98 1455 Q1028.06 1450.39 1033.87 1450.39 Z\" fill=\"#000000\" fill-rule=\"evenodd\" fill-opacity=\"1\" /><path clip-path=\"url(#clip070)\" d=\"M1054.03 1479.7 L1058.92 1479.7 L1058.92 1485.58 L1054.03 1485.58 L1054.03 1479.7 Z\" fill=\"#000000\" fill-rule=\"evenodd\" fill-opacity=\"1\" /><path clip-path=\"url(#clip070)\" d=\"M1081.95 1455.09 L1070.14 1473.54 L1081.95 1473.54 L1081.95 1455.09 M1080.72 1451.02 L1086.6 1451.02 L1086.6 1473.54 L1091.53 1473.54 L1091.53 1477.43 L1086.6 1477.43 L1086.6 1485.58 L1081.95 1485.58 L1081.95 1477.43 L1066.35 1477.43 L1066.35 1472.92 L1080.72 1451.02 Z\" fill=\"#000000\" fill-rule=\"evenodd\" fill-opacity=\"1\" /><path clip-path=\"url(#clip070)\" d=\"M1466.04 1454.1 Q1462.43 1454.1 1460.6 1457.66 Q1458.8 1461.2 1458.8 1468.33 Q1458.8 1475.44 1460.6 1479.01 Q1462.43 1482.55 1466.04 1482.55 Q1469.67 1482.55 1471.48 1479.01 Q1473.31 1475.44 1473.31 1468.33 Q1473.31 1461.2 1471.48 1457.66 Q1469.67 1454.1 1466.04 1454.1 M1466.04 1450.39 Q1471.85 1450.39 1474.91 1455 Q1477.98 1459.58 1477.98 1468.33 Q1477.98 1477.06 1474.91 1481.67 Q1471.85 1486.25 1466.04 1486.25 Q1460.23 1486.25 1457.15 1481.67 Q1454.1 1477.06 1454.1 1468.33 Q1454.1 1459.58 1457.15 1455 Q1460.23 1450.39 1466.04 1450.39 Z\" fill=\"#000000\" fill-rule=\"evenodd\" fill-opacity=\"1\" /><path clip-path=\"url(#clip070)\" d=\"M1486.2 1479.7 L1491.09 1479.7 L1491.09 1485.58 L1486.2 1485.58 L1486.2 1479.7 Z\" fill=\"#000000\" fill-rule=\"evenodd\" fill-opacity=\"1\" /><path clip-path=\"url(#clip070)\" d=\"M1511.85 1466.44 Q1508.7 1466.44 1506.85 1468.59 Q1505.02 1470.74 1505.02 1474.49 Q1505.02 1478.22 1506.85 1480.39 Q1508.7 1482.55 1511.85 1482.55 Q1515 1482.55 1516.83 1480.39 Q1518.68 1478.22 1518.68 1474.49 Q1518.68 1470.74 1516.83 1468.59 Q1515 1466.44 1511.85 1466.44 M1521.13 1451.78 L1521.13 1456.04 Q1519.37 1455.21 1517.57 1454.77 Q1515.79 1454.33 1514.03 1454.33 Q1509.4 1454.33 1506.94 1457.45 Q1504.51 1460.58 1504.17 1466.9 Q1505.53 1464.89 1507.59 1463.82 Q1509.65 1462.73 1512.13 1462.73 Q1517.34 1462.73 1520.35 1465.9 Q1523.38 1469.05 1523.38 1474.49 Q1523.38 1479.82 1520.23 1483.03 Q1517.08 1486.25 1511.85 1486.25 Q1505.86 1486.25 1502.68 1481.67 Q1499.51 1477.06 1499.51 1468.33 Q1499.51 1460.14 1503.4 1455.28 Q1507.29 1450.39 1513.84 1450.39 Q1515.6 1450.39 1517.38 1450.74 Q1519.19 1451.09 1521.13 1451.78 Z\" fill=\"#000000\" fill-rule=\"evenodd\" fill-opacity=\"1\" /><path clip-path=\"url(#clip070)\" d=\"M1898.18 1454.1 Q1894.57 1454.1 1892.74 1457.66 Q1890.93 1461.2 1890.93 1468.33 Q1890.93 1475.44 1892.74 1479.01 Q1894.57 1482.55 1898.18 1482.55 Q1901.81 1482.55 1903.62 1479.01 Q1905.45 1475.44 1905.45 1468.33 Q1905.45 1461.2 1903.62 1457.66 Q1901.81 1454.1 1898.18 1454.1 M1898.18 1450.39 Q1903.99 1450.39 1907.04 1455 Q1910.12 1459.58 1910.12 1468.33 Q1910.12 1477.06 1907.04 1481.67 Q1903.99 1486.25 1898.18 1486.25 Q1892.37 1486.25 1889.29 1481.67 Q1886.23 1477.06 1886.23 1468.33 Q1886.23 1459.58 1889.29 1455 Q1892.37 1450.39 1898.18 1450.39 Z\" fill=\"#000000\" fill-rule=\"evenodd\" fill-opacity=\"1\" /><path clip-path=\"url(#clip070)\" d=\"M1918.34 1479.7 L1923.22 1479.7 L1923.22 1485.58 L1918.34 1485.58 L1918.34 1479.7 Z\" fill=\"#000000\" fill-rule=\"evenodd\" fill-opacity=\"1\" /><path clip-path=\"url(#clip070)\" d=\"M1943.41 1469.17 Q1940.08 1469.17 1938.15 1470.95 Q1936.26 1472.73 1936.26 1475.86 Q1936.26 1478.98 1938.15 1480.77 Q1940.08 1482.55 1943.41 1482.55 Q1946.74 1482.55 1948.66 1480.77 Q1950.58 1478.96 1950.58 1475.86 Q1950.58 1472.73 1948.66 1470.95 Q1946.76 1469.17 1943.41 1469.17 M1938.73 1467.18 Q1935.72 1466.44 1934.03 1464.38 Q1932.37 1462.32 1932.37 1459.35 Q1932.37 1455.21 1935.31 1452.8 Q1938.27 1450.39 1943.41 1450.39 Q1948.57 1450.39 1951.51 1452.8 Q1954.45 1455.21 1954.45 1459.35 Q1954.45 1462.32 1952.76 1464.38 Q1951.09 1466.44 1948.11 1467.18 Q1951.49 1467.96 1953.36 1470.26 Q1955.26 1472.55 1955.26 1475.86 Q1955.26 1480.88 1952.18 1483.57 Q1949.13 1486.25 1943.41 1486.25 Q1937.69 1486.25 1934.61 1483.57 Q1931.56 1480.88 1931.56 1475.86 Q1931.56 1472.55 1933.45 1470.26 Q1935.35 1467.96 1938.73 1467.18 M1937.02 1459.79 Q1937.02 1462.48 1938.69 1463.98 Q1940.38 1465.49 1943.41 1465.49 Q1946.42 1465.49 1948.11 1463.98 Q1949.82 1462.48 1949.82 1459.79 Q1949.82 1457.11 1948.11 1455.6 Q1946.42 1454.1 1943.41 1454.1 Q1940.38 1454.1 1938.69 1455.6 Q1937.02 1457.11 1937.02 1459.79 Z\" fill=\"#000000\" fill-rule=\"evenodd\" fill-opacity=\"1\" /><path clip-path=\"url(#clip070)\" d=\"M2319.91 1481.64 L2327.55 1481.64 L2327.55 1455.28 L2319.24 1456.95 L2319.24 1452.69 L2327.5 1451.02 L2332.18 1451.02 L2332.18 1481.64 L2339.82 1481.64 L2339.82 1485.58 L2319.91 1485.58 L2319.91 1481.64 Z\" fill=\"#000000\" fill-rule=\"evenodd\" fill-opacity=\"1\" /><path clip-path=\"url(#clip070)\" d=\"M2349.26 1479.7 L2354.14 1479.7 L2354.14 1485.58 L2349.26 1485.58 L2349.26 1479.7 Z\" fill=\"#000000\" fill-rule=\"evenodd\" fill-opacity=\"1\" /><path clip-path=\"url(#clip070)\" d=\"M2374.33 1454.1 Q2370.72 1454.1 2368.89 1457.66 Q2367.08 1461.2 2367.08 1468.33 Q2367.08 1475.44 2368.89 1479.01 Q2370.72 1482.55 2374.33 1482.55 Q2377.96 1482.55 2379.77 1479.01 Q2381.6 1475.44 2381.6 1468.33 Q2381.6 1461.2 2379.77 1457.66 Q2377.96 1454.1 2374.33 1454.1 M2374.33 1450.39 Q2380.14 1450.39 2383.2 1455 Q2386.27 1459.58 2386.27 1468.33 Q2386.27 1477.06 2383.2 1481.67 Q2380.14 1486.25 2374.33 1486.25 Q2368.52 1486.25 2365.44 1481.67 Q2362.39 1477.06 2362.39 1468.33 Q2362.39 1459.58 2365.44 1455 Q2368.52 1450.39 2374.33 1450.39 Z\" fill=\"#000000\" fill-rule=\"evenodd\" fill-opacity=\"1\" /><path clip-path=\"url(#clip070)\" d=\"M1283.17 1537.87 Q1282.19 1537.3 1281.01 1537.04 Q1279.86 1536.76 1278.46 1536.76 Q1273.5 1536.76 1270.82 1540 Q1268.18 1543.22 1268.18 1549.27 L1268.18 1568.04 L1262.29 1568.04 L1262.29 1532.4 L1268.18 1532.4 L1268.18 1537.93 Q1270.03 1534.69 1272.99 1533.13 Q1275.95 1531.54 1280.18 1531.54 Q1280.79 1531.54 1281.52 1531.63 Q1282.25 1531.7 1283.14 1531.85 L1283.17 1537.87 Z\" fill=\"#000000\" fill-rule=\"evenodd\" fill-opacity=\"1\" /><polyline clip-path=\"url(#clip072)\" style=\"stroke:#000000; stroke-linecap:round; stroke-linejoin:round; stroke-width:2; stroke-opacity:0.1; fill:none\" points=\"192.709,1314.57 2352.76,1314.57 \"/>\n",
       "<polyline clip-path=\"url(#clip072)\" style=\"stroke:#000000; stroke-linecap:round; stroke-linejoin:round; stroke-width:2; stroke-opacity:0.1; fill:none\" points=\"192.709,1125.92 2352.76,1125.92 \"/>\n",
       "<polyline clip-path=\"url(#clip072)\" style=\"stroke:#000000; stroke-linecap:round; stroke-linejoin:round; stroke-width:2; stroke-opacity:0.1; fill:none\" points=\"192.709,937.257 2352.76,937.257 \"/>\n",
       "<polyline clip-path=\"url(#clip072)\" style=\"stroke:#000000; stroke-linecap:round; stroke-linejoin:round; stroke-width:2; stroke-opacity:0.1; fill:none\" points=\"192.709,748.598 2352.76,748.598 \"/>\n",
       "<polyline clip-path=\"url(#clip072)\" style=\"stroke:#000000; stroke-linecap:round; stroke-linejoin:round; stroke-width:2; stroke-opacity:0.1; fill:none\" points=\"192.709,559.939 2352.76,559.939 \"/>\n",
       "<polyline clip-path=\"url(#clip072)\" style=\"stroke:#000000; stroke-linecap:round; stroke-linejoin:round; stroke-width:2; stroke-opacity:0.1; fill:none\" points=\"192.709,371.28 2352.76,371.28 \"/>\n",
       "<polyline clip-path=\"url(#clip072)\" style=\"stroke:#000000; stroke-linecap:round; stroke-linejoin:round; stroke-width:2; stroke-opacity:0.1; fill:none\" points=\"192.709,182.621 2352.76,182.621 \"/>\n",
       "<polyline clip-path=\"url(#clip070)\" style=\"stroke:#000000; stroke-linecap:round; stroke-linejoin:round; stroke-width:4; stroke-opacity:1; fill:none\" points=\"192.709,1423.18 192.709,123.472 \"/>\n",
       "<polyline clip-path=\"url(#clip070)\" style=\"stroke:#000000; stroke-linecap:round; stroke-linejoin:round; stroke-width:4; stroke-opacity:1; fill:none\" points=\"192.709,1314.57 211.607,1314.57 \"/>\n",
       "<polyline clip-path=\"url(#clip070)\" style=\"stroke:#000000; stroke-linecap:round; stroke-linejoin:round; stroke-width:4; stroke-opacity:1; fill:none\" points=\"192.709,1125.92 211.607,1125.92 \"/>\n",
       "<polyline clip-path=\"url(#clip070)\" style=\"stroke:#000000; stroke-linecap:round; stroke-linejoin:round; stroke-width:4; stroke-opacity:1; fill:none\" points=\"192.709,937.257 211.607,937.257 \"/>\n",
       "<polyline clip-path=\"url(#clip070)\" style=\"stroke:#000000; stroke-linecap:round; stroke-linejoin:round; stroke-width:4; stroke-opacity:1; fill:none\" points=\"192.709,748.598 211.607,748.598 \"/>\n",
       "<polyline clip-path=\"url(#clip070)\" style=\"stroke:#000000; stroke-linecap:round; stroke-linejoin:round; stroke-width:4; stroke-opacity:1; fill:none\" points=\"192.709,559.939 211.607,559.939 \"/>\n",
       "<polyline clip-path=\"url(#clip070)\" style=\"stroke:#000000; stroke-linecap:round; stroke-linejoin:round; stroke-width:4; stroke-opacity:1; fill:none\" points=\"192.709,371.28 211.607,371.28 \"/>\n",
       "<polyline clip-path=\"url(#clip070)\" style=\"stroke:#000000; stroke-linecap:round; stroke-linejoin:round; stroke-width:4; stroke-opacity:1; fill:none\" points=\"192.709,182.621 211.607,182.621 \"/>\n",
       "<path clip-path=\"url(#clip070)\" d=\"M51.3625 1315.03 L81.0383 1315.03 L81.0383 1318.96 L51.3625 1318.96 L51.3625 1315.03 Z\" fill=\"#000000\" fill-rule=\"evenodd\" fill-opacity=\"1\" /><path clip-path=\"url(#clip070)\" d=\"M101.131 1300.37 Q97.5197 1300.37 95.691 1303.94 Q93.8854 1307.48 93.8854 1314.61 Q93.8854 1321.72 95.691 1325.28 Q97.5197 1328.82 101.131 1328.82 Q104.765 1328.82 106.571 1325.28 Q108.399 1321.72 108.399 1314.61 Q108.399 1307.48 106.571 1303.94 Q104.765 1300.37 101.131 1300.37 M101.131 1296.67 Q106.941 1296.67 109.996 1301.28 Q113.075 1305.86 113.075 1314.61 Q113.075 1323.34 109.996 1327.94 Q106.941 1332.53 101.131 1332.53 Q95.3206 1332.53 92.2419 1327.94 Q89.1864 1323.34 89.1864 1314.61 Q89.1864 1305.86 92.2419 1301.28 Q95.3206 1296.67 101.131 1296.67 Z\" fill=\"#000000\" fill-rule=\"evenodd\" fill-opacity=\"1\" /><path clip-path=\"url(#clip070)\" d=\"M121.293 1325.98 L126.177 1325.98 L126.177 1331.85 L121.293 1331.85 L121.293 1325.98 Z\" fill=\"#000000\" fill-rule=\"evenodd\" fill-opacity=\"1\" /><path clip-path=\"url(#clip070)\" d=\"M140.39 1327.92 L156.709 1327.92 L156.709 1331.85 L134.765 1331.85 L134.765 1327.92 Q137.427 1325.17 142.01 1320.54 Q146.617 1315.88 147.797 1314.54 Q150.043 1312.02 150.922 1310.28 Q151.825 1308.52 151.825 1306.83 Q151.825 1304.08 149.88 1302.34 Q147.959 1300.6 144.857 1300.6 Q142.658 1300.6 140.205 1301.37 Q137.774 1302.13 134.996 1303.68 L134.996 1298.96 Q137.82 1297.83 140.274 1297.25 Q142.728 1296.67 144.765 1296.67 Q150.135 1296.67 153.33 1299.35 Q156.524 1302.04 156.524 1306.53 Q156.524 1308.66 155.714 1310.58 Q154.927 1312.48 152.82 1315.07 Q152.242 1315.74 149.14 1318.96 Q146.038 1322.16 140.39 1327.92 Z\" fill=\"#000000\" fill-rule=\"evenodd\" fill-opacity=\"1\" /><path clip-path=\"url(#clip070)\" d=\"M50.9921 1126.37 L80.6679 1126.37 L80.6679 1130.3 L50.9921 1130.3 L50.9921 1126.37 Z\" fill=\"#000000\" fill-rule=\"evenodd\" fill-opacity=\"1\" /><path clip-path=\"url(#clip070)\" d=\"M100.76 1111.71 Q97.1493 1111.71 95.3206 1115.28 Q93.515 1118.82 93.515 1125.95 Q93.515 1133.06 95.3206 1136.62 Q97.1493 1140.16 100.76 1140.16 Q104.395 1140.16 106.2 1136.62 Q108.029 1133.06 108.029 1125.95 Q108.029 1118.82 106.2 1115.28 Q104.395 1111.71 100.76 1111.71 M100.76 1108.01 Q106.571 1108.01 109.626 1112.62 Q112.705 1117.2 112.705 1125.95 Q112.705 1134.68 109.626 1139.28 Q106.571 1143.87 100.76 1143.87 Q94.9502 1143.87 91.8715 1139.28 Q88.816 1134.68 88.816 1125.95 Q88.816 1117.2 91.8715 1112.62 Q94.9502 1108.01 100.76 1108.01 Z\" fill=\"#000000\" fill-rule=\"evenodd\" fill-opacity=\"1\" /><path clip-path=\"url(#clip070)\" d=\"M120.922 1137.32 L125.807 1137.32 L125.807 1143.2 L120.922 1143.2 L120.922 1137.32 Z\" fill=\"#000000\" fill-rule=\"evenodd\" fill-opacity=\"1\" /><path clip-path=\"url(#clip070)\" d=\"M136.802 1139.26 L144.441 1139.26 L144.441 1112.9 L136.131 1114.56 L136.131 1110.3 L144.394 1108.64 L149.07 1108.64 L149.07 1139.26 L156.709 1139.26 L156.709 1143.2 L136.802 1143.2 L136.802 1139.26 Z\" fill=\"#000000\" fill-rule=\"evenodd\" fill-opacity=\"1\" /><path clip-path=\"url(#clip070)\" d=\"M99.5335 923.056 Q95.9224 923.056 94.0937 926.62 Q92.2882 930.162 92.2882 937.292 Q92.2882 944.398 94.0937 947.963 Q95.9224 951.505 99.5335 951.505 Q103.168 951.505 104.973 947.963 Q106.802 944.398 106.802 937.292 Q106.802 930.162 104.973 926.62 Q103.168 923.056 99.5335 923.056 M99.5335 919.352 Q105.344 919.352 108.399 923.958 Q111.478 928.542 111.478 937.292 Q111.478 946.019 108.399 950.625 Q105.344 955.208 99.5335 955.208 Q93.7234 955.208 90.6447 950.625 Q87.5892 946.019 87.5892 937.292 Q87.5892 928.542 90.6447 923.958 Q93.7234 919.352 99.5335 919.352 Z\" fill=\"#000000\" fill-rule=\"evenodd\" fill-opacity=\"1\" /><path clip-path=\"url(#clip070)\" d=\"M119.695 948.657 L124.58 948.657 L124.58 954.537 L119.695 954.537 L119.695 948.657 Z\" fill=\"#000000\" fill-rule=\"evenodd\" fill-opacity=\"1\" /><path clip-path=\"url(#clip070)\" d=\"M144.765 923.056 Q141.154 923.056 139.325 926.62 Q137.519 930.162 137.519 937.292 Q137.519 944.398 139.325 947.963 Q141.154 951.505 144.765 951.505 Q148.399 951.505 150.205 947.963 Q152.033 944.398 152.033 937.292 Q152.033 930.162 150.205 926.62 Q148.399 923.056 144.765 923.056 M144.765 919.352 Q150.575 919.352 153.63 923.958 Q156.709 928.542 156.709 937.292 Q156.709 946.019 153.63 950.625 Q150.575 955.208 144.765 955.208 Q138.955 955.208 135.876 950.625 Q132.82 946.019 132.82 937.292 Q132.82 928.542 135.876 923.958 Q138.955 919.352 144.765 919.352 Z\" fill=\"#000000\" fill-rule=\"evenodd\" fill-opacity=\"1\" /><path clip-path=\"url(#clip070)\" d=\"M100.76 734.397 Q97.1493 734.397 95.3206 737.962 Q93.515 741.503 93.515 748.633 Q93.515 755.739 95.3206 759.304 Q97.1493 762.846 100.76 762.846 Q104.395 762.846 106.2 759.304 Q108.029 755.739 108.029 748.633 Q108.029 741.503 106.2 737.962 Q104.395 734.397 100.76 734.397 M100.76 730.693 Q106.571 730.693 109.626 735.3 Q112.705 739.883 112.705 748.633 Q112.705 757.36 109.626 761.966 Q106.571 766.549 100.76 766.549 Q94.9502 766.549 91.8715 761.966 Q88.816 757.36 88.816 748.633 Q88.816 739.883 91.8715 735.3 Q94.9502 730.693 100.76 730.693 Z\" fill=\"#000000\" fill-rule=\"evenodd\" fill-opacity=\"1\" /><path clip-path=\"url(#clip070)\" d=\"M120.922 759.998 L125.807 759.998 L125.807 765.878 L120.922 765.878 L120.922 759.998 Z\" fill=\"#000000\" fill-rule=\"evenodd\" fill-opacity=\"1\" /><path clip-path=\"url(#clip070)\" d=\"M136.802 761.943 L144.441 761.943 L144.441 735.577 L136.131 737.244 L136.131 732.985 L144.394 731.318 L149.07 731.318 L149.07 761.943 L156.709 761.943 L156.709 765.878 L136.802 765.878 L136.802 761.943 Z\" fill=\"#000000\" fill-rule=\"evenodd\" fill-opacity=\"1\" /><path clip-path=\"url(#clip070)\" d=\"M101.131 545.738 Q97.5197 545.738 95.691 549.303 Q93.8854 552.844 93.8854 559.974 Q93.8854 567.08 95.691 570.645 Q97.5197 574.187 101.131 574.187 Q104.765 574.187 106.571 570.645 Q108.399 567.08 108.399 559.974 Q108.399 552.844 106.571 549.303 Q104.765 545.738 101.131 545.738 M101.131 542.034 Q106.941 542.034 109.996 546.641 Q113.075 551.224 113.075 559.974 Q113.075 568.701 109.996 573.307 Q106.941 577.89 101.131 577.89 Q95.3206 577.89 92.2419 573.307 Q89.1864 568.701 89.1864 559.974 Q89.1864 551.224 92.2419 546.641 Q95.3206 542.034 101.131 542.034 Z\" fill=\"#000000\" fill-rule=\"evenodd\" fill-opacity=\"1\" /><path clip-path=\"url(#clip070)\" d=\"M121.293 571.34 L126.177 571.34 L126.177 577.219 L121.293 577.219 L121.293 571.34 Z\" fill=\"#000000\" fill-rule=\"evenodd\" fill-opacity=\"1\" /><path clip-path=\"url(#clip070)\" d=\"M140.39 573.284 L156.709 573.284 L156.709 577.219 L134.765 577.219 L134.765 573.284 Q137.427 570.529 142.01 565.9 Q146.617 561.247 147.797 559.904 Q150.043 557.381 150.922 555.645 Q151.825 553.886 151.825 552.196 Q151.825 549.442 149.88 547.705 Q147.959 545.969 144.857 545.969 Q142.658 545.969 140.205 546.733 Q137.774 547.497 134.996 549.048 L134.996 544.326 Q137.82 543.192 140.274 542.613 Q142.728 542.034 144.765 542.034 Q150.135 542.034 153.33 544.719 Q156.524 547.404 156.524 551.895 Q156.524 554.025 155.714 555.946 Q154.927 557.844 152.82 560.437 Q152.242 561.108 149.14 564.326 Q146.038 567.52 140.39 573.284 Z\" fill=\"#000000\" fill-rule=\"evenodd\" fill-opacity=\"1\" /><path clip-path=\"url(#clip070)\" d=\"M100.182 357.079 Q96.5706 357.079 94.7419 360.644 Q92.9363 364.185 92.9363 371.315 Q92.9363 378.421 94.7419 381.986 Q96.5706 385.528 100.182 385.528 Q103.816 385.528 105.621 381.986 Q107.45 378.421 107.45 371.315 Q107.45 364.185 105.621 360.644 Q103.816 357.079 100.182 357.079 M100.182 353.375 Q105.992 353.375 109.047 357.982 Q112.126 362.565 112.126 371.315 Q112.126 380.042 109.047 384.648 Q105.992 389.232 100.182 389.232 Q94.3715 389.232 91.2928 384.648 Q88.2373 380.042 88.2373 371.315 Q88.2373 362.565 91.2928 357.982 Q94.3715 353.375 100.182 353.375 Z\" fill=\"#000000\" fill-rule=\"evenodd\" fill-opacity=\"1\" /><path clip-path=\"url(#clip070)\" d=\"M120.344 382.681 L125.228 382.681 L125.228 388.56 L120.344 388.56 L120.344 382.681 Z\" fill=\"#000000\" fill-rule=\"evenodd\" fill-opacity=\"1\" /><path clip-path=\"url(#clip070)\" d=\"M149.58 369.926 Q152.936 370.644 154.811 372.912 Q156.709 375.181 156.709 378.514 Q156.709 383.63 153.191 386.431 Q149.672 389.232 143.191 389.232 Q141.015 389.232 138.7 388.792 Q136.408 388.375 133.955 387.519 L133.955 383.005 Q135.899 384.139 138.214 384.718 Q140.529 385.296 143.052 385.296 Q147.45 385.296 149.742 383.56 Q152.056 381.824 152.056 378.514 Q152.056 375.458 149.904 373.745 Q147.774 372.009 143.955 372.009 L139.927 372.009 L139.927 368.167 L144.14 368.167 Q147.589 368.167 149.418 366.801 Q151.246 365.412 151.246 362.82 Q151.246 360.158 149.348 358.746 Q147.473 357.31 143.955 357.31 Q142.033 357.31 139.834 357.727 Q137.635 358.144 134.996 359.023 L134.996 354.857 Q137.658 354.116 139.973 353.746 Q142.311 353.375 144.371 353.375 Q149.695 353.375 152.797 355.806 Q155.899 358.213 155.899 362.334 Q155.899 365.204 154.255 367.195 Q152.612 369.162 149.58 369.926 Z\" fill=\"#000000\" fill-rule=\"evenodd\" fill-opacity=\"1\" /><path clip-path=\"url(#clip070)\" d=\"M99.0474 168.42 Q95.4363 168.42 93.6076 171.985 Q91.8021 175.526 91.8021 182.656 Q91.8021 189.762 93.6076 193.327 Q95.4363 196.869 99.0474 196.869 Q102.682 196.869 104.487 193.327 Q106.316 189.762 106.316 182.656 Q106.316 175.526 104.487 171.985 Q102.682 168.42 99.0474 168.42 M99.0474 164.716 Q104.858 164.716 107.913 169.323 Q110.992 173.906 110.992 182.656 Q110.992 191.383 107.913 195.989 Q104.858 200.573 99.0474 200.573 Q93.2373 200.573 90.1586 195.989 Q87.103 191.383 87.103 182.656 Q87.103 173.906 90.1586 169.323 Q93.2373 164.716 99.0474 164.716 Z\" fill=\"#000000\" fill-rule=\"evenodd\" fill-opacity=\"1\" /><path clip-path=\"url(#clip070)\" d=\"M119.209 194.022 L124.094 194.022 L124.094 199.901 L119.209 199.901 L119.209 194.022 Z\" fill=\"#000000\" fill-rule=\"evenodd\" fill-opacity=\"1\" /><path clip-path=\"url(#clip070)\" d=\"M147.126 169.415 L135.32 187.864 L147.126 187.864 L147.126 169.415 M145.899 165.341 L151.779 165.341 L151.779 187.864 L156.709 187.864 L156.709 191.753 L151.779 191.753 L151.779 199.901 L147.126 199.901 L147.126 191.753 L131.524 191.753 L131.524 187.239 L145.899 165.341 Z\" fill=\"#000000\" fill-rule=\"evenodd\" fill-opacity=\"1\" /><path clip-path=\"url(#clip070)\" d=\"M1053.56 12.096 L1061.74 12.096 L1061.74 72.576 L1053.56 72.576 L1053.56 12.096 Z\" fill=\"#000000\" fill-rule=\"evenodd\" fill-opacity=\"1\" /><path clip-path=\"url(#clip070)\" d=\"M1115.42 45.1919 L1115.42 72.576 L1107.96 72.576 L1107.96 45.4349 Q1107.96 38.994 1105.45 35.7938 Q1102.94 32.5936 1097.92 32.5936 Q1091.88 32.5936 1088.4 36.4419 Q1084.91 40.2903 1084.91 46.9338 L1084.91 72.576 L1077.42 72.576 L1077.42 27.2059 L1084.91 27.2059 L1084.91 34.2544 Q1087.59 30.163 1091.19 28.1376 Q1094.84 26.1121 1099.58 26.1121 Q1107.39 26.1121 1111.41 30.9732 Q1115.42 35.7938 1115.42 45.1919 Z\" fill=\"#000000\" fill-rule=\"evenodd\" fill-opacity=\"1\" /><path clip-path=\"url(#clip070)\" d=\"M1130.28 27.2059 L1137.74 27.2059 L1137.74 72.576 L1130.28 72.576 L1130.28 27.2059 M1130.28 9.54393 L1137.74 9.54393 L1137.74 18.9825 L1130.28 18.9825 L1130.28 9.54393 Z\" fill=\"#000000\" fill-rule=\"evenodd\" fill-opacity=\"1\" /><path clip-path=\"url(#clip070)\" d=\"M1160.7 14.324 L1160.7 27.2059 L1176.06 27.2059 L1176.06 32.9987 L1160.7 32.9987 L1160.7 57.6282 Q1160.7 63.1779 1162.2 64.7578 Q1163.74 66.3376 1168.4 66.3376 L1176.06 66.3376 L1176.06 72.576 L1168.4 72.576 Q1159.77 72.576 1156.49 69.3758 Q1153.21 66.1351 1153.21 57.6282 L1153.21 32.9987 L1147.74 32.9987 L1147.74 27.2059 L1153.21 27.2059 L1153.21 14.324 L1160.7 14.324 Z\" fill=\"#000000\" fill-rule=\"evenodd\" fill-opacity=\"1\" /><path clip-path=\"url(#clip070)\" d=\"M1185.86 27.2059 L1193.31 27.2059 L1193.31 72.576 L1185.86 72.576 L1185.86 27.2059 M1185.86 9.54393 L1193.31 9.54393 L1193.31 18.9825 L1185.86 18.9825 L1185.86 9.54393 Z\" fill=\"#000000\" fill-rule=\"evenodd\" fill-opacity=\"1\" /><path clip-path=\"url(#clip070)\" d=\"M1229.53 49.7694 Q1220.5 49.7694 1217.01 51.8354 Q1213.53 53.9013 1213.53 58.8839 Q1213.53 62.8538 1216.12 65.2034 Q1218.75 67.5124 1223.25 67.5124 Q1229.45 67.5124 1233.18 63.1374 Q1236.94 58.7219 1236.94 51.4303 L1236.94 49.7694 L1229.53 49.7694 M1244.4 46.6907 L1244.4 72.576 L1236.94 72.576 L1236.94 65.6895 Q1234.39 69.8214 1230.58 71.8063 Q1226.78 73.7508 1221.27 73.7508 Q1214.3 73.7508 1210.17 69.8619 Q1206.07 65.9325 1206.07 59.3701 Q1206.07 51.7138 1211.18 47.825 Q1216.32 43.9361 1226.49 43.9361 L1236.94 43.9361 L1236.94 43.2069 Q1236.94 38.0623 1233.54 35.2672 Q1230.18 32.4315 1224.06 32.4315 Q1220.17 32.4315 1216.49 33.3632 Q1212.8 34.295 1209.4 36.1584 L1209.4 29.2718 Q1213.49 27.692 1217.34 26.9223 Q1221.18 26.1121 1224.83 26.1121 Q1234.67 26.1121 1239.54 31.2163 Q1244.4 36.3204 1244.4 46.6907 Z\" fill=\"#000000\" fill-rule=\"evenodd\" fill-opacity=\"1\" /><path clip-path=\"url(#clip070)\" d=\"M1259.75 9.54393 L1267.2 9.54393 L1267.2 72.576 L1259.75 72.576 L1259.75 9.54393 Z\" fill=\"#000000\" fill-rule=\"evenodd\" fill-opacity=\"1\" /><path clip-path=\"url(#clip070)\" d=\"M1317.68 18.8205 L1317.68 65.8515 L1327.56 65.8515 Q1340.08 65.8515 1345.87 60.1802 Q1351.7 54.509 1351.7 42.2752 Q1351.7 30.1225 1345.87 24.4918 Q1340.08 18.8205 1327.56 18.8205 L1317.68 18.8205 M1309.49 12.096 L1326.31 12.096 Q1343.89 12.096 1352.11 19.4281 Q1360.33 26.7198 1360.33 42.2752 Q1360.33 57.9117 1352.07 65.2439 Q1343.81 72.576 1326.31 72.576 L1309.49 72.576 L1309.49 12.096 Z\" fill=\"#000000\" fill-rule=\"evenodd\" fill-opacity=\"1\" /><path clip-path=\"url(#clip070)\" d=\"M1393.67 49.7694 Q1384.64 49.7694 1381.15 51.8354 Q1377.67 53.9013 1377.67 58.8839 Q1377.67 62.8538 1380.26 65.2034 Q1382.9 67.5124 1387.39 67.5124 Q1393.59 67.5124 1397.32 63.1374 Q1401.09 58.7219 1401.09 51.4303 L1401.09 49.7694 L1393.67 49.7694 M1408.54 46.6907 L1408.54 72.576 L1401.09 72.576 L1401.09 65.6895 Q1398.53 69.8214 1394.73 71.8063 Q1390.92 73.7508 1385.41 73.7508 Q1378.44 73.7508 1374.31 69.8619 Q1370.22 65.9325 1370.22 59.3701 Q1370.22 51.7138 1375.32 47.825 Q1380.47 43.9361 1390.63 43.9361 L1401.09 43.9361 L1401.09 43.2069 Q1401.09 38.0623 1397.68 35.2672 Q1394.32 32.4315 1388.2 32.4315 Q1384.31 32.4315 1380.63 33.3632 Q1376.94 34.295 1373.54 36.1584 L1373.54 29.2718 Q1377.63 27.692 1381.48 26.9223 Q1385.33 26.1121 1388.97 26.1121 Q1398.82 26.1121 1403.68 31.2163 Q1408.54 36.3204 1408.54 46.6907 Z\" fill=\"#000000\" fill-rule=\"evenodd\" fill-opacity=\"1\" /><path clip-path=\"url(#clip070)\" d=\"M1431.26 14.324 L1431.26 27.2059 L1446.62 27.2059 L1446.62 32.9987 L1431.26 32.9987 L1431.26 57.6282 Q1431.26 63.1779 1432.76 64.7578 Q1434.3 66.3376 1438.96 66.3376 L1446.62 66.3376 L1446.62 72.576 L1438.96 72.576 Q1430.33 72.576 1427.05 69.3758 Q1423.77 66.1351 1423.77 57.6282 L1423.77 32.9987 L1418.3 32.9987 L1418.3 27.2059 L1423.77 27.2059 L1423.77 14.324 L1431.26 14.324 Z\" fill=\"#000000\" fill-rule=\"evenodd\" fill-opacity=\"1\" /><path clip-path=\"url(#clip070)\" d=\"M1477.04 49.7694 Q1468.01 49.7694 1464.52 51.8354 Q1461.04 53.9013 1461.04 58.8839 Q1461.04 62.8538 1463.63 65.2034 Q1466.26 67.5124 1470.76 67.5124 Q1476.96 67.5124 1480.69 63.1374 Q1484.45 58.7219 1484.45 51.4303 L1484.45 49.7694 L1477.04 49.7694 M1491.91 46.6907 L1491.91 72.576 L1484.45 72.576 L1484.45 65.6895 Q1481.9 69.8214 1478.09 71.8063 Q1474.29 73.7508 1468.78 73.7508 Q1461.81 73.7508 1457.68 69.8619 Q1453.59 65.9325 1453.59 59.3701 Q1453.59 51.7138 1458.69 47.825 Q1463.83 43.9361 1474 43.9361 L1484.45 43.9361 L1484.45 43.2069 Q1484.45 38.0623 1481.05 35.2672 Q1477.69 32.4315 1471.57 32.4315 Q1467.68 32.4315 1464 33.3632 Q1460.31 34.295 1456.91 36.1584 L1456.91 29.2718 Q1461 27.692 1464.85 26.9223 Q1468.7 26.1121 1472.34 26.1121 Q1482.18 26.1121 1487.05 31.2163 Q1491.91 36.3204 1491.91 46.6907 Z\" fill=\"#000000\" fill-rule=\"evenodd\" fill-opacity=\"1\" /><polyline clip-path=\"url(#clip072)\" style=\"stroke:#009af9; stroke-linecap:round; stroke-linejoin:round; stroke-width:4; stroke-opacity:1; fill:none\" points=\"192.709,937.257 198.109,937.257 203.509,937.257 208.91,937.257 214.31,937.257 219.71,937.257 225.11,937.257 230.51,937.257 235.91,937.257 241.31,937.257 246.71,937.257 252.11,937.257 257.511,937.257 262.911,937.257 268.311,937.257 273.711,937.257 279.111,937.257 284.511,937.257 289.911,937.257 295.311,937.257 300.711,937.257 306.112,937.257 311.512,937.257 316.912,937.257 322.312,937.257 327.712,937.256 333.112,937.256 338.512,937.256 343.912,937.255 349.313,937.255 354.713,937.254 360.113,937.253 365.513,937.252 370.913,937.25 376.313,937.248 381.713,937.245 387.113,937.241 392.513,937.235 397.914,937.228 403.314,937.219 408.714,937.208 414.114,937.193 419.514,937.173 424.914,937.148 430.314,937.116 435.714,937.076 441.115,937.025 446.515,936.961 451.915,936.88 457.315,936.779 462.715,936.654 468.115,936.499 473.515,936.308 478.915,936.074 484.315,935.788 489.716,935.442 495.116,935.024 500.516,934.522 505.916,933.923 511.316,933.213 516.716,932.374 522.116,931.391 527.516,930.245 532.917,928.919 538.317,927.394 543.717,925.654 549.117,923.681 554.517,921.461 559.917,918.982 565.317,916.236 570.717,913.22 576.117,909.932 581.518,906.38 586.918,902.575 592.318,898.536 597.718,894.285 603.118,889.853 608.518,885.275 613.918,880.591 619.318,875.842 624.719,871.075 630.119,866.335 635.519,861.67 640.919,857.125 646.319,852.74 651.719,848.555 657.119,844.602 662.519,840.908 667.919,837.493 673.32,834.367 678.72,831.532 684.12,828.981 689.52,826.696 694.92,824.649 700.32,822.8 705.72,821.102 711.12,819.498 716.52,817.928 721.921,816.325 727.321,814.624 732.721,812.766 738.121,810.696 743.521,808.372 748.921,805.766 754.321,802.868 759.721,799.682 765.122,796.229 770.522,792.548 775.922,788.686 781.322,784.701 786.722,780.657 792.122,776.618 797.522,772.646 802.922,768.799 808.322,765.127 813.723,761.672 819.123,758.468 824.523,755.537 829.923,752.891 835.323,750.537 840.723,748.47 846.123,746.68 851.523,745.151 856.924,743.865 862.324,742.797 867.724,741.924 873.124,741.22 878.524,740.662 883.924,740.225 889.324,739.89 894.724,739.636 900.124,739.447 905.525,739.308 910.925,739.208 916.325,739.138 921.725,739.088 927.125,739.055 932.525,739.032 937.925,739.017 943.325,739.008 948.726,739.002 954.126,738.998 959.526,738.995 964.926,738.994 970.326,738.993 975.726,738.993 981.126,738.993 986.526,738.992 991.926,738.992 997.327,738.992 1002.73,738.992 1008.13,738.992 1013.53,738.992 1018.93,738.992 1024.33,738.992 1029.73,738.992 1035.13,738.992 1040.53,738.992 1045.93,738.992 1051.33,738.992 1056.73,738.992 1062.13,738.992 1067.53,738.992 1072.93,738.992 1078.33,738.992 1083.73,738.992 1089.13,738.992 1094.53,738.992 1099.93,738.992 1105.33,738.992 1110.73,738.992 1116.13,738.992 1121.53,738.992 1126.93,738.992 1132.33,738.992 1137.73,738.992 1143.13,738.992 1148.53,738.992 1153.93,738.992 1159.33,738.992 1164.73,738.992 1170.13,738.992 1175.53,738.992 1180.93,738.992 1186.33,738.992 1191.73,738.992 1197.13,738.992 1202.53,738.992 1207.93,738.992 1213.33,738.992 1218.73,738.992 1224.13,738.992 1229.53,738.992 1234.93,738.992 1240.33,738.992 1245.73,738.992 1251.13,738.992 1256.53,738.992 1261.93,738.992 1267.33,738.992 1272.73,738.992 1278.13,738.992 1283.53,738.992 1288.93,738.992 1294.33,738.992 1299.73,738.992 1305.13,738.992 1310.53,738.992 1315.93,738.992 1321.33,738.992 1326.73,738.992 1332.13,738.992 1337.53,738.992 1342.93,738.992 1348.33,738.992 1353.73,738.992 1359.13,738.992 1364.53,738.992 1369.93,738.992 1375.33,738.992 1380.73,738.992 1386.13,738.992 1391.54,738.992 1396.94,738.992 1402.34,738.992 1407.74,738.992 1413.14,738.992 1418.54,738.992 1423.94,738.992 1429.34,738.992 1434.74,738.992 1440.14,738.992 1445.54,738.992 1450.94,738.992 1456.34,738.992 1461.74,738.992 1467.14,738.992 1472.54,738.992 1477.94,738.992 1483.34,738.992 1488.74,738.992 1494.14,738.992 1499.54,738.992 1504.94,738.992 1510.34,738.992 1515.74,738.992 1521.14,738.992 1526.54,738.992 1531.94,738.992 1537.34,738.992 1542.74,738.992 1548.14,738.992 1553.54,738.992 1558.94,738.992 1564.34,738.992 1569.74,738.992 1575.14,738.992 1580.54,738.992 1585.94,738.992 1591.34,738.992 1596.74,738.992 1602.14,738.992 1607.54,738.992 1612.94,738.992 1618.34,738.992 1623.74,738.992 1629.14,738.992 1634.54,738.992 1639.94,738.992 1645.34,738.992 1650.74,738.992 1656.14,738.992 1661.54,738.992 1666.94,738.992 1672.34,738.992 1677.74,738.992 1683.14,738.992 1688.54,738.992 1693.94,738.992 1699.34,738.992 1704.74,738.992 1710.14,738.992 1715.54,738.992 1720.94,738.992 1726.34,738.992 1731.74,738.992 1737.14,738.992 1742.54,738.992 1747.94,738.992 1753.34,738.992 1758.74,738.992 1764.14,738.992 1769.54,738.992 1774.94,738.992 1780.34,738.992 1785.74,738.992 1791.14,738.992 1796.54,738.992 1801.94,738.992 1807.34,738.992 1812.74,738.992 1818.14,738.992 1823.54,738.992 1828.94,738.992 1834.34,738.992 1839.74,738.992 1845.14,738.992 1850.55,738.992 1855.95,738.992 1861.35,738.992 1866.75,738.992 1872.15,738.992 1877.55,738.992 1882.95,738.992 1888.35,738.992 1893.75,738.992 1899.15,738.992 1904.55,738.992 1909.95,738.992 1915.35,738.992 1920.75,738.992 1926.15,738.992 1931.55,738.992 1936.95,738.992 1942.35,738.992 1947.75,738.992 1953.15,738.992 1958.55,738.992 1963.95,738.992 1969.35,738.992 1974.75,738.992 1980.15,738.992 1985.55,738.992 1990.95,738.992 1996.35,738.992 2001.75,738.992 2007.15,738.992 2012.55,738.992 2017.95,738.992 2023.35,738.992 2028.75,738.992 2034.15,738.992 2039.55,738.992 2044.95,738.992 2050.35,738.992 2055.75,738.992 2061.15,738.992 2066.55,738.992 2071.95,738.992 2077.35,738.992 2082.75,738.992 2088.15,738.992 2093.55,738.992 2098.95,738.992 2104.35,738.992 2109.75,738.992 2115.15,738.992 2120.55,738.992 2125.95,738.992 2131.35,738.992 2136.75,738.992 2142.15,738.992 2147.55,738.992 2152.95,738.992 2158.35,738.992 2163.75,738.992 2169.15,738.992 2174.55,738.992 2179.95,738.992 2185.35,738.992 2190.75,738.992 2196.15,738.992 2201.55,738.992 2206.95,738.992 2212.35,738.992 2217.75,738.992 2223.15,738.992 2228.55,738.992 2233.95,738.992 2239.35,738.992 2244.75,738.992 2250.15,738.992 2255.55,738.992 2260.95,738.992 2266.35,738.992 2271.75,738.992 2277.15,738.992 2282.55,738.992 2287.95,738.992 2293.35,738.992 2298.75,738.992 2304.15,738.992 2309.55,738.992 2314.96,738.992 2320.36,738.992 2325.76,738.992 2331.16,738.992 2336.56,738.992 2341.96,738.992 2347.36,738.992 2352.76,738.992 \"/>\n",
       "<polyline clip-path=\"url(#clip072)\" style=\"stroke:#e26f46; stroke-linecap:round; stroke-linejoin:round; stroke-width:4; stroke-opacity:1; fill:none\" points=\"192.709,937.257 198.109,937.257 203.509,937.257 208.91,937.257 214.31,937.257 219.71,937.257 225.11,937.257 230.51,937.257 235.91,937.257 241.31,937.257 246.71,937.257 252.11,937.257 257.511,937.257 262.911,937.257 268.311,937.257 273.711,937.257 279.111,937.256 284.511,937.256 289.911,937.256 295.311,937.255 300.711,937.255 306.112,937.254 311.512,937.253 316.912,937.252 322.312,937.25 327.712,937.248 333.112,937.245 338.512,937.241 343.912,937.236 349.313,937.23 354.713,937.222 360.113,937.211 365.513,937.197 370.913,937.178 376.313,937.155 381.713,937.125 387.113,937.086 392.513,937.037 397.914,936.975 403.314,936.897 408.714,936.797 414.114,936.672 419.514,936.516 424.914,936.32 430.314,936.077 435.714,935.775 441.115,935.402 446.515,934.944 451.915,934.382 457.315,933.695 462.715,932.861 468.115,931.851 473.515,930.632 478.915,929.17 484.315,927.423 489.716,925.344 495.116,922.883 500.516,919.984 505.916,916.584 511.316,912.619 516.716,908.018 522.116,902.708 527.516,896.612 532.917,889.656 538.317,881.765 543.717,872.865 549.117,862.891 554.517,851.787 559.917,839.506 565.317,826.017 570.717,811.309 576.117,795.391 581.518,778.298 586.918,760.092 592.318,740.866 597.718,720.744 603.118,699.883 608.518,678.468 613.918,656.718 619.318,634.873 624.719,613.195 630.119,591.96 635.519,571.449 640.919,551.939 646.319,533.691 651.719,516.941 657.119,501.891 662.519,488.693 667.919,477.444 673.32,468.177 678.72,460.856 684.12,455.375 689.52,451.558 694.92,449.162 700.32,447.887 705.72,447.388 711.12,447.287 716.52,447.19 721.921,446.705 727.321,445.463 732.721,443.129 738.121,439.424 743.521,434.135 748.921,427.126 754.321,418.342 759.721,407.812 765.122,395.643 770.522,382.014 775.922,367.164 781.322,351.381 786.722,334.978 792.122,318.286 797.522,301.629 802.922,285.316 808.322,269.624 813.723,254.787 819.123,240.993 824.523,228.378 829.923,217.026 835.323,206.974 840.723,198.211 846.123,190.692 851.523,184.341 856.924,179.059 862.324,174.735 867.724,171.251 873.124,168.487 878.524,166.33 883.924,164.672 889.324,163.419 894.724,162.488 900.124,161.806 905.525,161.316 910.925,160.969 916.325,160.728 921.725,160.563 927.125,160.453 932.525,160.38 937.925,160.333 943.325,160.303 948.726,160.284 954.126,160.272 959.526,160.266 964.926,160.262 970.326,160.259 975.726,160.258 981.126,160.257 986.526,160.257 991.926,160.257 997.327,160.256 1002.73,160.256 1008.13,160.256 1013.53,160.256 1018.93,160.256 1024.33,160.256 1029.73,160.256 1035.13,160.256 1040.53,160.256 1045.93,160.256 1051.33,160.256 1056.73,160.256 1062.13,160.256 1067.53,160.256 1072.93,160.256 1078.33,160.256 1083.73,160.256 1089.13,160.256 1094.53,160.256 1099.93,160.256 1105.33,160.256 1110.73,160.256 1116.13,160.256 1121.53,160.256 1126.93,160.256 1132.33,160.256 1137.73,160.256 1143.13,160.256 1148.53,160.256 1153.93,160.256 1159.33,160.256 1164.73,160.256 1170.13,160.256 1175.53,160.256 1180.93,160.256 1186.33,160.256 1191.73,160.256 1197.13,160.256 1202.53,160.256 1207.93,160.256 1213.33,160.256 1218.73,160.256 1224.13,160.256 1229.53,160.256 1234.93,160.256 1240.33,160.256 1245.73,160.256 1251.13,160.256 1256.53,160.256 1261.93,160.256 1267.33,160.256 1272.73,160.256 1278.13,160.256 1283.53,160.256 1288.93,160.256 1294.33,160.256 1299.73,160.256 1305.13,160.256 1310.53,160.256 1315.93,160.256 1321.33,160.256 1326.73,160.256 1332.13,160.256 1337.53,160.256 1342.93,160.256 1348.33,160.256 1353.73,160.256 1359.13,160.256 1364.53,160.256 1369.93,160.256 1375.33,160.256 1380.73,160.256 1386.13,160.256 1391.54,160.256 1396.94,160.256 1402.34,160.256 1407.74,160.256 1413.14,160.256 1418.54,160.256 1423.94,160.256 1429.34,160.256 1434.74,160.256 1440.14,160.256 1445.54,160.256 1450.94,160.256 1456.34,160.256 1461.74,160.256 1467.14,160.256 1472.54,160.256 1477.94,160.256 1483.34,160.256 1488.74,160.256 1494.14,160.256 1499.54,160.256 1504.94,160.256 1510.34,160.256 1515.74,160.256 1521.14,160.256 1526.54,160.256 1531.94,160.256 1537.34,160.256 1542.74,160.256 1548.14,160.256 1553.54,160.256 1558.94,160.256 1564.34,160.256 1569.74,160.256 1575.14,160.256 1580.54,160.256 1585.94,160.256 1591.34,160.256 1596.74,160.256 1602.14,160.256 1607.54,160.256 1612.94,160.256 1618.34,160.256 1623.74,160.256 1629.14,160.256 1634.54,160.256 1639.94,160.256 1645.34,160.256 1650.74,160.256 1656.14,160.256 1661.54,160.256 1666.94,160.256 1672.34,160.256 1677.74,160.256 1683.14,160.256 1688.54,160.256 1693.94,160.256 1699.34,160.256 1704.74,160.256 1710.14,160.256 1715.54,160.256 1720.94,160.256 1726.34,160.256 1731.74,160.256 1737.14,160.256 1742.54,160.256 1747.94,160.256 1753.34,160.256 1758.74,160.256 1764.14,160.256 1769.54,160.256 1774.94,160.256 1780.34,160.256 1785.74,160.256 1791.14,160.256 1796.54,160.256 1801.94,160.256 1807.34,160.256 1812.74,160.256 1818.14,160.256 1823.54,160.256 1828.94,160.256 1834.34,160.256 1839.74,160.256 1845.14,160.256 1850.55,160.256 1855.95,160.256 1861.35,160.256 1866.75,160.256 1872.15,160.256 1877.55,160.256 1882.95,160.256 1888.35,160.256 1893.75,160.256 1899.15,160.256 1904.55,160.256 1909.95,160.256 1915.35,160.256 1920.75,160.256 1926.15,160.256 1931.55,160.256 1936.95,160.256 1942.35,160.256 1947.75,160.256 1953.15,160.256 1958.55,160.256 1963.95,160.256 1969.35,160.256 1974.75,160.256 1980.15,160.256 1985.55,160.256 1990.95,160.256 1996.35,160.256 2001.75,160.256 2007.15,160.256 2012.55,160.256 2017.95,160.256 2023.35,160.256 2028.75,160.256 2034.15,160.256 2039.55,160.256 2044.95,160.256 2050.35,160.256 2055.75,160.256 2061.15,160.256 2066.55,160.256 2071.95,160.256 2077.35,160.256 2082.75,160.256 2088.15,160.256 2093.55,160.256 2098.95,160.256 2104.35,160.256 2109.75,160.256 2115.15,160.256 2120.55,160.256 2125.95,160.256 2131.35,160.256 2136.75,160.256 2142.15,160.256 2147.55,160.256 2152.95,160.256 2158.35,160.256 2163.75,160.256 2169.15,160.256 2174.55,160.256 2179.95,160.256 2185.35,160.256 2190.75,160.256 2196.15,160.256 2201.55,160.256 2206.95,160.256 2212.35,160.256 2217.75,160.256 2223.15,160.256 2228.55,160.256 2233.95,160.256 2239.35,160.256 2244.75,160.256 2250.15,160.256 2255.55,160.256 2260.95,160.256 2266.35,160.256 2271.75,160.256 2277.15,160.256 2282.55,160.256 2287.95,160.256 2293.35,160.256 2298.75,160.256 2304.15,160.256 2309.55,160.256 2314.96,160.256 2320.36,160.256 2325.76,160.256 2331.16,160.256 2336.56,160.256 2341.96,160.256 2347.36,160.256 2352.76,160.256 \"/>\n",
       "<polyline clip-path=\"url(#clip072)\" style=\"stroke:#3da44d; stroke-linecap:round; stroke-linejoin:round; stroke-width:4; stroke-opacity:1; fill:none\" points=\"192.709,937.257 198.109,937.257 203.509,937.257 208.91,937.257 214.31,937.257 219.71,937.256 225.11,937.256 230.51,937.256 235.91,937.256 241.31,937.255 246.71,937.255 252.11,937.254 257.511,937.253 262.911,937.252 268.311,937.251 273.711,937.25 279.111,937.248 284.511,937.246 289.911,937.244 295.311,937.241 300.711,937.238 306.112,937.234 311.512,937.229 316.912,937.223 322.312,937.217 327.712,937.209 333.112,937.2 338.512,937.189 343.912,937.176 349.313,937.162 354.713,937.145 360.113,937.125 365.513,937.102 370.913,937.075 376.313,937.044 381.713,937.008 387.113,936.967 392.513,936.92 397.914,936.866 403.314,936.804 408.714,936.733 414.114,936.652 419.514,936.56 424.914,936.456 430.314,936.338 435.714,936.204 441.115,936.053 446.515,935.883 451.915,935.692 457.315,935.477 462.715,935.237 468.115,934.97 473.515,934.672 478.915,934.34 484.315,933.973 489.716,933.567 495.116,933.12 500.516,932.627 505.916,932.087 511.316,931.496 516.716,930.851 522.116,930.149 527.516,929.387 532.917,928.564 538.317,927.675 543.717,926.72 549.117,925.696 554.517,924.603 559.917,923.44 565.317,922.206 570.717,920.902 576.117,919.529 581.518,918.09 586.918,916.588 592.318,915.027 597.718,913.411 603.118,911.747 608.518,910.043 613.918,908.305 619.318,906.545 624.719,904.772 630.119,902.998 635.519,901.236 640.919,899.498 646.319,897.8 651.719,896.155 657.119,894.58 662.519,893.09 667.919,891.7 673.32,890.425 678.72,889.282 684.12,888.283 689.52,887.443 694.92,886.773 700.32,886.284 705.72,885.985 711.12,885.883 716.52,885.983 721.921,886.287 727.321,886.796 732.721,887.507 738.121,888.415 743.521,889.513 748.921,890.791 754.321,892.237 759.721,893.836 765.122,895.573 770.522,897.429 775.922,899.386 781.322,901.424 786.722,903.521 792.122,905.658 797.522,907.813 802.922,909.966 808.322,912.099 813.723,914.192 819.123,916.23 824.523,918.197 829.923,920.081 835.323,921.871 840.723,923.557 846.123,925.134 851.523,926.597 856.924,927.944 862.324,929.173 867.724,930.288 873.124,931.289 878.524,932.182 883.924,932.972 889.324,933.665 894.724,934.268 900.124,934.788 905.525,935.234 910.925,935.612 916.325,935.93 921.725,936.195 927.125,936.414 932.525,936.594 937.925,936.74 943.325,936.857 948.726,936.951 954.126,937.024 959.526,937.082 964.926,937.127 970.326,937.161 975.726,937.187 981.126,937.206 986.526,937.221 991.926,937.231 997.327,937.239 1002.73,937.244 1008.13,937.248 1013.53,937.251 1018.93,937.253 1024.33,937.254 1029.73,937.255 1035.13,937.256 1040.53,937.256 1045.93,937.257 1051.33,937.257 1056.73,937.257 1062.13,937.257 1067.53,937.257 1072.93,937.257 1078.33,937.257 1083.73,937.257 1089.13,937.257 1094.53,937.257 1099.93,937.257 1105.33,937.257 1110.73,937.257 1116.13,937.257 1121.53,937.257 1126.93,937.257 1132.33,937.257 1137.73,937.257 1143.13,937.257 1148.53,937.257 1153.93,937.257 1159.33,937.257 1164.73,937.257 1170.13,937.257 1175.53,937.257 1180.93,937.257 1186.33,937.257 1191.73,937.257 1197.13,937.257 1202.53,937.257 1207.93,937.257 1213.33,937.257 1218.73,937.257 1224.13,937.257 1229.53,937.257 1234.93,937.257 1240.33,937.257 1245.73,937.257 1251.13,937.257 1256.53,937.257 1261.93,937.257 1267.33,937.257 1272.73,937.257 1278.13,937.257 1283.53,937.257 1288.93,937.257 1294.33,937.257 1299.73,937.257 1305.13,937.257 1310.53,937.257 1315.93,937.257 1321.33,937.257 1326.73,937.257 1332.13,937.257 1337.53,937.257 1342.93,937.257 1348.33,937.257 1353.73,937.257 1359.13,937.257 1364.53,937.257 1369.93,937.257 1375.33,937.257 1380.73,937.257 1386.13,937.257 1391.54,937.257 1396.94,937.257 1402.34,937.257 1407.74,937.257 1413.14,937.257 1418.54,937.257 1423.94,937.257 1429.34,937.257 1434.74,937.257 1440.14,937.257 1445.54,937.257 1450.94,937.257 1456.34,937.257 1461.74,937.257 1467.14,937.257 1472.54,937.257 1477.94,937.257 1483.34,937.257 1488.74,937.257 1494.14,937.257 1499.54,937.257 1504.94,937.257 1510.34,937.257 1515.74,937.257 1521.14,937.257 1526.54,937.257 1531.94,937.257 1537.34,937.257 1542.74,937.257 1548.14,937.257 1553.54,937.257 1558.94,937.257 1564.34,937.257 1569.74,937.257 1575.14,937.257 1580.54,937.257 1585.94,937.257 1591.34,937.257 1596.74,937.257 1602.14,937.257 1607.54,937.257 1612.94,937.257 1618.34,937.257 1623.74,937.257 1629.14,937.257 1634.54,937.257 1639.94,937.257 1645.34,937.257 1650.74,937.257 1656.14,937.257 1661.54,937.257 1666.94,937.257 1672.34,937.257 1677.74,937.257 1683.14,937.257 1688.54,937.257 1693.94,937.257 1699.34,937.257 1704.74,937.257 1710.14,937.257 1715.54,937.257 1720.94,937.257 1726.34,937.257 1731.74,937.257 1737.14,937.257 1742.54,937.257 1747.94,937.257 1753.34,937.257 1758.74,937.257 1764.14,937.257 1769.54,937.257 1774.94,937.257 1780.34,937.257 1785.74,937.257 1791.14,937.257 1796.54,937.257 1801.94,937.257 1807.34,937.257 1812.74,937.257 1818.14,937.257 1823.54,937.257 1828.94,937.257 1834.34,937.257 1839.74,937.257 1845.14,937.257 1850.55,937.257 1855.95,937.257 1861.35,937.257 1866.75,937.257 1872.15,937.257 1877.55,937.257 1882.95,937.257 1888.35,937.257 1893.75,937.257 1899.15,937.257 1904.55,937.257 1909.95,937.257 1915.35,937.257 1920.75,937.257 1926.15,937.257 1931.55,937.257 1936.95,937.257 1942.35,937.257 1947.75,937.257 1953.15,937.257 1958.55,937.257 1963.95,937.257 1969.35,937.257 1974.75,937.257 1980.15,937.257 1985.55,937.257 1990.95,937.257 1996.35,937.257 2001.75,937.257 2007.15,937.257 2012.55,937.257 2017.95,937.257 2023.35,937.257 2028.75,937.257 2034.15,937.257 2039.55,937.257 2044.95,937.257 2050.35,937.257 2055.75,937.257 2061.15,937.257 2066.55,937.257 2071.95,937.257 2077.35,937.257 2082.75,937.257 2088.15,937.257 2093.55,937.257 2098.95,937.257 2104.35,937.257 2109.75,937.257 2115.15,937.257 2120.55,937.257 2125.95,937.257 2131.35,937.257 2136.75,937.257 2142.15,937.257 2147.55,937.257 2152.95,937.257 2158.35,937.257 2163.75,937.257 2169.15,937.257 2174.55,937.257 2179.95,937.257 2185.35,937.257 2190.75,937.257 2196.15,937.257 2201.55,937.257 2206.95,937.257 2212.35,937.257 2217.75,937.257 2223.15,937.257 2228.55,937.257 2233.95,937.257 2239.35,937.257 2244.75,937.257 2250.15,937.257 2255.55,937.257 2260.95,937.257 2266.35,937.257 2271.75,937.257 2277.15,937.257 2282.55,937.257 2287.95,937.257 2293.35,937.257 2298.75,937.257 2304.15,937.257 2309.55,937.257 2314.96,937.257 2320.36,937.257 2325.76,937.257 2331.16,937.257 2336.56,937.257 2341.96,937.257 2347.36,937.257 2352.76,937.257 \"/>\n",
       "<polyline clip-path=\"url(#clip072)\" style=\"stroke:#c271d2; stroke-linecap:round; stroke-linejoin:round; stroke-width:4; stroke-opacity:1; fill:none\" points=\"192.709,937.236 198.109,937.229 203.509,937.221 208.91,937.211 214.31,937.198 219.71,937.182 225.11,937.163 230.51,937.141 235.91,937.113 241.31,937.08 246.71,937.041 252.11,936.994 257.511,936.938 262.911,936.872 268.311,936.794 273.711,936.701 279.111,936.592 284.511,936.464 289.911,936.314 295.311,936.139 300.711,935.934 306.112,935.695 311.512,935.418 316.912,935.096 322.312,934.724 327.712,934.294 333.112,933.798 338.512,933.227 343.912,932.572 349.313,931.821 354.713,930.963 360.113,929.983 365.513,928.868 370.913,927.6 376.313,926.163 381.713,924.537 387.113,922.701 392.513,920.634 397.914,918.31 403.314,915.704 408.714,912.789 414.114,909.537 419.514,905.915 424.914,901.894 430.314,897.441 435.714,892.52 441.115,887.1 446.515,881.145 451.915,874.621 457.315,867.495 462.715,859.734 468.115,851.31 473.515,842.195 478.915,832.366 484.315,821.803 489.716,810.494 495.116,798.433 500.516,785.62 505.916,772.066 511.316,757.793 516.716,742.831 522.116,727.226 527.516,711.036 532.917,694.336 538.317,677.215 543.717,659.778 549.117,642.151 554.517,624.474 559.917,606.906 565.317,589.625 570.717,572.825 576.117,556.714 581.518,541.517 586.918,527.472 592.318,514.823 597.718,503.826 603.118,494.736 608.518,487.81 613.918,483.298 619.318,481.443 624.719,482.47 630.119,486.583 635.519,493.962 640.919,504.754 646.319,519.067 651.719,536.968 657.119,558.475 662.519,583.558 667.919,612.127 673.32,644.038 678.72,679.088 684.12,717.014 689.52,757.497 694.92,800.164 700.32,844.589 705.72,890.305 711.12,936.806 716.52,983.557 721.921,1030 727.321,1075.58 732.721,1119.73 738.121,1161.91 743.521,1201.59 748.921,1238.3 754.321,1271.59 759.721,1301.09 765.122,1326.48 770.522,1347.54 775.922,1364.1 781.322,1376.07 786.722,1383.48 792.122,1386.4 797.522,1384.99 802.922,1379.49 808.322,1370.21 813.723,1357.49 819.123,1341.74 824.523,1323.39 829.923,1302.9 835.323,1280.74 840.723,1257.36 846.123,1233.21 851.523,1208.74 856.924,1184.33 862.324,1160.33 867.724,1137.07 873.124,1114.81 878.524,1093.76 883.924,1074.09 889.324,1055.91 894.724,1039.3 900.124,1024.28 905.525,1010.85 910.925,998.952 916.325,988.531 921.725,979.495 927.125,971.741 932.525,965.155 937.925,959.619 943.325,955.015 948.726,951.224 954.126,948.136 959.526,945.648 964.926,943.664 970.326,942.1 975.726,940.879 981.126,939.938 986.526,939.22 991.926,938.678 997.327,938.275 1002.73,937.978 1008.13,937.761 1013.53,937.606 1018.93,937.495 1024.33,937.418 1029.73,937.364 1035.13,937.328 1040.53,937.303 1045.93,937.286 1051.33,937.276 1056.73,937.269 1062.13,937.264 1067.53,937.261 1072.93,937.26 1078.33,937.258 1083.73,937.258 1089.13,937.257 1094.53,937.257 1099.93,937.257 1105.33,937.257 1110.73,937.257 1116.13,937.257 1121.53,937.257 1126.93,937.257 1132.33,937.257 1137.73,937.257 1143.13,937.257 1148.53,937.257 1153.93,937.257 1159.33,937.257 1164.73,937.257 1170.13,937.257 1175.53,937.257 1180.93,937.257 1186.33,937.257 1191.73,937.257 1197.13,937.257 1202.53,937.257 1207.93,937.257 1213.33,937.257 1218.73,937.257 1224.13,937.257 1229.53,937.257 1234.93,937.257 1240.33,937.257 1245.73,937.257 1251.13,937.257 1256.53,937.257 1261.93,937.257 1267.33,937.257 1272.73,937.257 1278.13,937.257 1283.53,937.257 1288.93,937.257 1294.33,937.257 1299.73,937.257 1305.13,937.257 1310.53,937.257 1315.93,937.257 1321.33,937.257 1326.73,937.257 1332.13,937.257 1337.53,937.257 1342.93,937.257 1348.33,937.257 1353.73,937.257 1359.13,937.257 1364.53,937.257 1369.93,937.257 1375.33,937.257 1380.73,937.257 1386.13,937.257 1391.54,937.257 1396.94,937.257 1402.34,937.257 1407.74,937.257 1413.14,937.257 1418.54,937.257 1423.94,937.257 1429.34,937.257 1434.74,937.257 1440.14,937.257 1445.54,937.257 1450.94,937.257 1456.34,937.257 1461.74,937.257 1467.14,937.257 1472.54,937.257 1477.94,937.257 1483.34,937.257 1488.74,937.257 1494.14,937.257 1499.54,937.257 1504.94,937.257 1510.34,937.257 1515.74,937.257 1521.14,937.257 1526.54,937.257 1531.94,937.257 1537.34,937.257 1542.74,937.257 1548.14,937.257 1553.54,937.257 1558.94,937.257 1564.34,937.257 1569.74,937.257 1575.14,937.257 1580.54,937.257 1585.94,937.257 1591.34,937.257 1596.74,937.257 1602.14,937.257 1607.54,937.257 1612.94,937.257 1618.34,937.257 1623.74,937.257 1629.14,937.257 1634.54,937.257 1639.94,937.257 1645.34,937.257 1650.74,937.257 1656.14,937.257 1661.54,937.257 1666.94,937.257 1672.34,937.257 1677.74,937.257 1683.14,937.257 1688.54,937.257 1693.94,937.257 1699.34,937.257 1704.74,937.257 1710.14,937.257 1715.54,937.257 1720.94,937.257 1726.34,937.257 1731.74,937.257 1737.14,937.257 1742.54,937.257 1747.94,937.257 1753.34,937.257 1758.74,937.257 1764.14,937.257 1769.54,937.257 1774.94,937.257 1780.34,937.257 1785.74,937.257 1791.14,937.257 1796.54,937.257 1801.94,937.257 1807.34,937.257 1812.74,937.257 1818.14,937.257 1823.54,937.257 1828.94,937.257 1834.34,937.257 1839.74,937.257 1845.14,937.257 1850.55,937.257 1855.95,937.257 1861.35,937.257 1866.75,937.257 1872.15,937.257 1877.55,937.257 1882.95,937.257 1888.35,937.257 1893.75,937.257 1899.15,937.257 1904.55,937.257 1909.95,937.257 1915.35,937.257 1920.75,937.257 1926.15,937.257 1931.55,937.257 1936.95,937.257 1942.35,937.257 1947.75,937.257 1953.15,937.257 1958.55,937.257 1963.95,937.257 1969.35,937.257 1974.75,937.257 1980.15,937.257 1985.55,937.257 1990.95,937.257 1996.35,937.257 2001.75,937.257 2007.15,937.257 2012.55,937.257 2017.95,937.257 2023.35,937.257 2028.75,937.257 2034.15,937.257 2039.55,937.257 2044.95,937.257 2050.35,937.257 2055.75,937.257 2061.15,937.257 2066.55,937.257 2071.95,937.257 2077.35,937.257 2082.75,937.257 2088.15,937.257 2093.55,937.257 2098.95,937.257 2104.35,937.257 2109.75,937.257 2115.15,937.257 2120.55,937.257 2125.95,937.257 2131.35,937.257 2136.75,937.257 2142.15,937.257 2147.55,937.257 2152.95,937.257 2158.35,937.257 2163.75,937.257 2169.15,937.257 2174.55,937.257 2179.95,937.257 2185.35,937.257 2190.75,937.257 2196.15,937.257 2201.55,937.257 2206.95,937.257 2212.35,937.257 2217.75,937.257 2223.15,937.257 2228.55,937.257 2233.95,937.257 2239.35,937.257 2244.75,937.257 2250.15,937.257 2255.55,937.257 2260.95,937.257 2266.35,937.257 2271.75,937.257 2277.15,937.257 2282.55,937.257 2287.95,937.257 2293.35,937.257 2298.75,937.257 2304.15,937.257 2309.55,937.257 2314.96,937.257 2320.36,937.257 2325.76,937.257 2331.16,937.257 2336.56,937.257 2341.96,937.257 2347.36,937.257 2352.76,937.257 \"/>\n",
       "<path clip-path=\"url(#clip070)\" d=\"M1871.21 1379.86 L2280.75 1379.86 L2280.75 1120.66 L1871.21 1120.66  Z\" fill=\"#ffffff\" fill-rule=\"evenodd\" fill-opacity=\"1\"/>\n",
       "<polyline clip-path=\"url(#clip070)\" style=\"stroke:#000000; stroke-linecap:round; stroke-linejoin:round; stroke-width:4; stroke-opacity:1; fill:none\" points=\"1871.21,1379.86 2280.75,1379.86 2280.75,1120.66 1871.21,1120.66 1871.21,1379.86 \"/>\n",
       "<polyline clip-path=\"url(#clip070)\" style=\"stroke:#009af9; stroke-linecap:round; stroke-linejoin:round; stroke-width:4; stroke-opacity:1; fill:none\" points=\"1895.21,1172.5 2039.21,1172.5 \"/>\n",
       "<path clip-path=\"url(#clip070)\" d=\"M2083.56 1168.83 Q2085.16 1165.96 2087.38 1164.59 Q2089.6 1163.23 2092.61 1163.23 Q2096.66 1163.23 2098.86 1166.07 Q2101.06 1168.9 2101.06 1174.13 L2101.06 1189.78 L2096.78 1189.78 L2096.78 1174.27 Q2096.78 1170.54 2095.46 1168.73 Q2094.14 1166.93 2091.43 1166.93 Q2088.12 1166.93 2086.2 1169.13 Q2084.28 1171.33 2084.28 1175.12 L2084.28 1189.78 L2080 1189.78 L2080 1174.27 Q2080 1170.52 2078.68 1168.73 Q2077.36 1166.93 2074.6 1166.93 Q2071.34 1166.93 2069.42 1169.15 Q2067.5 1171.35 2067.5 1175.12 L2067.5 1189.78 L2063.21 1189.78 L2063.21 1163.85 L2067.5 1163.85 L2067.5 1167.88 Q2068.95 1165.49 2070.99 1164.36 Q2073.03 1163.23 2075.83 1163.23 Q2078.65 1163.23 2080.62 1164.66 Q2082.61 1166.1 2083.56 1168.83 Z\" fill=\"#000000\" fill-rule=\"evenodd\" fill-opacity=\"1\" /><polyline clip-path=\"url(#clip070)\" style=\"stroke:#e26f46; stroke-linecap:round; stroke-linejoin:round; stroke-width:4; stroke-opacity:1; fill:none\" points=\"1895.21,1224.34 2039.21,1224.34 \"/>\n",
       "<path clip-path=\"url(#clip070)\" d=\"M2081.99 1228.68 Q2081.99 1223.98 2080.04 1221.32 Q2078.12 1218.63 2074.74 1218.63 Q2071.36 1218.63 2069.42 1221.32 Q2067.5 1223.98 2067.5 1228.68 Q2067.5 1233.38 2069.42 1236.06 Q2071.36 1238.72 2074.74 1238.72 Q2078.12 1238.72 2080.04 1236.06 Q2081.99 1233.38 2081.99 1228.68 M2067.5 1219.63 Q2068.84 1217.31 2070.88 1216.2 Q2072.94 1215.07 2075.78 1215.07 Q2080.5 1215.07 2083.44 1218.82 Q2086.41 1222.57 2086.41 1228.68 Q2086.41 1234.79 2083.44 1238.54 Q2080.5 1242.29 2075.78 1242.29 Q2072.94 1242.29 2070.88 1241.18 Q2068.84 1240.04 2067.5 1237.73 L2067.5 1241.62 L2063.21 1241.62 L2063.21 1205.6 L2067.5 1205.6 L2067.5 1219.63 Z\" fill=\"#000000\" fill-rule=\"evenodd\" fill-opacity=\"1\" /><path clip-path=\"url(#clip070)\" d=\"M2115.64 1227.59 L2115.64 1229.67 L2096.06 1229.67 Q2096.34 1234.07 2098.7 1236.38 Q2101.08 1238.68 2105.32 1238.68 Q2107.77 1238.68 2110.06 1238.07 Q2112.38 1237.47 2114.65 1236.27 L2114.65 1240.3 Q2112.36 1241.27 2109.95 1241.78 Q2107.54 1242.29 2105.06 1242.29 Q2098.86 1242.29 2095.23 1238.68 Q2091.62 1235.07 2091.62 1228.91 Q2091.62 1222.54 2095.04 1218.82 Q2098.49 1215.07 2104.32 1215.07 Q2109.56 1215.07 2112.59 1218.45 Q2115.64 1221.8 2115.64 1227.59 M2111.38 1226.34 Q2111.34 1222.84 2109.42 1220.76 Q2107.52 1218.68 2104.37 1218.68 Q2100.81 1218.68 2098.65 1220.69 Q2096.52 1222.7 2096.2 1226.36 L2111.38 1226.34 Z\" fill=\"#000000\" fill-rule=\"evenodd\" fill-opacity=\"1\" /><path clip-path=\"url(#clip070)\" d=\"M2126.85 1208.33 L2126.85 1215.69 L2135.62 1215.69 L2135.62 1219 L2126.85 1219 L2126.85 1233.07 Q2126.85 1236.25 2127.7 1237.15 Q2128.58 1238.05 2131.25 1238.05 L2135.62 1238.05 L2135.62 1241.62 L2131.25 1241.62 Q2126.31 1241.62 2124.44 1239.79 Q2122.56 1237.94 2122.56 1233.07 L2122.56 1219 L2119.44 1219 L2119.44 1215.69 L2122.56 1215.69 L2122.56 1208.33 L2126.85 1208.33 Z\" fill=\"#000000\" fill-rule=\"evenodd\" fill-opacity=\"1\" /><path clip-path=\"url(#clip070)\" d=\"M2153 1228.58 Q2147.84 1228.58 2145.85 1229.76 Q2143.86 1230.95 2143.86 1233.79 Q2143.86 1236.06 2145.34 1237.4 Q2146.85 1238.72 2149.42 1238.72 Q2152.96 1238.72 2155.09 1236.22 Q2157.24 1233.7 2157.24 1229.53 L2157.24 1228.58 L2153 1228.58 M2161.5 1226.82 L2161.5 1241.62 L2157.24 1241.62 L2157.24 1237.68 Q2155.78 1240.04 2153.61 1241.18 Q2151.43 1242.29 2148.28 1242.29 Q2144.3 1242.29 2141.94 1240.07 Q2139.6 1237.82 2139.6 1234.07 Q2139.6 1229.7 2142.52 1227.47 Q2145.46 1225.25 2151.27 1225.25 L2157.24 1225.25 L2157.24 1224.83 Q2157.24 1221.89 2155.3 1220.3 Q2153.37 1218.68 2149.88 1218.68 Q2147.66 1218.68 2145.55 1219.21 Q2143.44 1219.74 2141.5 1220.81 L2141.5 1216.87 Q2143.84 1215.97 2146.04 1215.53 Q2148.24 1215.07 2150.32 1215.07 Q2155.94 1215.07 2158.72 1217.98 Q2161.5 1220.9 2161.5 1226.82 Z\" fill=\"#000000\" fill-rule=\"evenodd\" fill-opacity=\"1\" /><polyline clip-path=\"url(#clip070)\" style=\"stroke:#3da44d; stroke-linecap:round; stroke-linejoin:round; stroke-width:4; stroke-opacity:1; fill:none\" points=\"1895.21,1276.18 2039.21,1276.18 \"/>\n",
       "<path clip-path=\"url(#clip070)\" d=\"M2063.21 1267.53 L2067.47 1267.53 L2072.8 1287.76 L2078.1 1267.53 L2083.12 1267.53 L2088.44 1287.76 L2093.75 1267.53 L2098 1267.53 L2091.22 1293.46 L2086.2 1293.46 L2080.62 1272.21 L2075.02 1293.46 L2070 1293.46 L2063.21 1267.53 Z\" fill=\"#000000\" fill-rule=\"evenodd\" fill-opacity=\"1\" /><path clip-path=\"url(#clip070)\" d=\"M2123.07 1280.52 Q2123.07 1275.82 2121.13 1273.16 Q2119.21 1270.47 2115.83 1270.47 Q2112.45 1270.47 2110.5 1273.16 Q2108.58 1275.82 2108.58 1280.52 Q2108.58 1285.22 2110.5 1287.9 Q2112.45 1290.56 2115.83 1290.56 Q2119.21 1290.56 2121.13 1287.9 Q2123.07 1285.22 2123.07 1280.52 M2108.58 1271.47 Q2109.93 1269.15 2111.96 1268.04 Q2114.02 1266.91 2116.87 1266.91 Q2121.59 1266.91 2124.53 1270.66 Q2127.5 1274.41 2127.5 1280.52 Q2127.5 1286.63 2124.53 1290.38 Q2121.59 1294.13 2116.87 1294.13 Q2114.02 1294.13 2111.96 1293.02 Q2109.93 1291.88 2108.58 1289.57 L2108.58 1293.46 L2104.3 1293.46 L2104.3 1257.44 L2108.58 1257.44 L2108.58 1271.47 Z\" fill=\"#000000\" fill-rule=\"evenodd\" fill-opacity=\"1\" /><path clip-path=\"url(#clip070)\" d=\"M2146.34 1280.42 Q2141.18 1280.42 2139.19 1281.6 Q2137.19 1282.79 2137.19 1285.63 Q2137.19 1287.9 2138.68 1289.24 Q2140.18 1290.56 2142.75 1290.56 Q2146.29 1290.56 2148.42 1288.06 Q2150.57 1285.54 2150.57 1281.37 L2150.57 1280.42 L2146.34 1280.42 M2154.83 1278.66 L2154.83 1293.46 L2150.57 1293.46 L2150.57 1289.52 Q2149.12 1291.88 2146.94 1293.02 Q2144.76 1294.13 2141.62 1294.13 Q2137.63 1294.13 2135.27 1291.91 Q2132.94 1289.66 2132.94 1285.91 Q2132.94 1281.54 2135.85 1279.31 Q2138.79 1277.09 2144.6 1277.09 L2150.57 1277.09 L2150.57 1276.67 Q2150.57 1273.73 2148.63 1272.14 Q2146.71 1270.52 2143.21 1270.52 Q2140.99 1270.52 2138.88 1271.05 Q2136.78 1271.58 2134.83 1272.65 L2134.83 1268.71 Q2137.17 1267.81 2139.37 1267.37 Q2141.57 1266.91 2143.65 1266.91 Q2149.28 1266.91 2152.06 1269.82 Q2154.83 1272.74 2154.83 1278.66 Z\" fill=\"#000000\" fill-rule=\"evenodd\" fill-opacity=\"1\" /><path clip-path=\"url(#clip070)\" d=\"M2178.63 1271.51 Q2177.91 1271.1 2177.06 1270.91 Q2176.22 1270.7 2175.2 1270.7 Q2171.59 1270.7 2169.65 1273.06 Q2167.73 1275.4 2167.73 1279.8 L2167.73 1293.46 L2163.44 1293.46 L2163.44 1267.53 L2167.73 1267.53 L2167.73 1271.56 Q2169.07 1269.2 2171.22 1268.06 Q2173.37 1266.91 2176.45 1266.91 Q2176.89 1266.91 2177.43 1266.97 Q2177.96 1267.02 2178.61 1267.14 L2178.63 1271.51 Z\" fill=\"#000000\" fill-rule=\"evenodd\" fill-opacity=\"1\" /><polyline clip-path=\"url(#clip070)\" style=\"stroke:#c271d2; stroke-linecap:round; stroke-linejoin:round; stroke-width:4; stroke-opacity:1; fill:none\" points=\"1895.21,1328.02 2039.21,1328.02 \"/>\n",
       "<path clip-path=\"url(#clip070)\" d=\"M2082.13 1323.31 L2082.13 1309.28 L2086.38 1309.28 L2086.38 1345.3 L2082.13 1345.3 L2082.13 1341.41 Q2080.78 1343.72 2078.72 1344.86 Q2076.69 1345.97 2073.81 1345.97 Q2069.12 1345.97 2066.15 1342.22 Q2063.21 1338.47 2063.21 1332.36 Q2063.21 1326.25 2066.15 1322.5 Q2069.12 1318.75 2073.81 1318.75 Q2076.69 1318.75 2078.72 1319.88 Q2080.78 1320.99 2082.13 1323.31 M2067.61 1332.36 Q2067.61 1337.06 2069.53 1339.74 Q2071.48 1342.4 2074.86 1342.4 Q2078.24 1342.4 2080.18 1339.74 Q2082.13 1337.06 2082.13 1332.36 Q2082.13 1327.66 2080.18 1325 Q2078.24 1322.31 2074.86 1322.31 Q2071.48 1322.31 2069.53 1325 Q2067.61 1327.66 2067.61 1332.36 Z\" fill=\"#000000\" fill-rule=\"evenodd\" fill-opacity=\"1\" /><path clip-path=\"url(#clip070)\" d=\"M2117.33 1331.27 L2117.33 1333.35 L2097.75 1333.35 Q2098.03 1337.75 2100.39 1340.06 Q2102.77 1342.36 2107.01 1342.36 Q2109.46 1342.36 2111.75 1341.75 Q2114.07 1341.15 2116.34 1339.95 L2116.34 1343.98 Q2114.05 1344.95 2111.64 1345.46 Q2109.23 1345.97 2106.75 1345.97 Q2100.55 1345.97 2096.92 1342.36 Q2093.31 1338.75 2093.31 1332.59 Q2093.31 1326.22 2096.73 1322.5 Q2100.18 1318.75 2106.01 1318.75 Q2111.25 1318.75 2114.28 1322.13 Q2117.33 1325.48 2117.33 1331.27 M2113.07 1330.02 Q2113.03 1326.52 2111.11 1324.44 Q2109.21 1322.36 2106.06 1322.36 Q2102.5 1322.36 2100.34 1324.37 Q2098.21 1326.38 2097.89 1330.04 L2113.07 1330.02 Z\" fill=\"#000000\" fill-rule=\"evenodd\" fill-opacity=\"1\" /><path clip-path=\"url(#clip070)\" d=\"M2139.35 1323.35 Q2138.63 1322.94 2137.77 1322.75 Q2136.94 1322.54 2135.92 1322.54 Q2132.31 1322.54 2130.37 1324.9 Q2128.44 1327.24 2128.44 1331.64 L2128.44 1345.3 L2124.16 1345.3 L2124.16 1319.37 L2128.44 1319.37 L2128.44 1323.4 Q2129.79 1321.04 2131.94 1319.9 Q2134.09 1318.75 2137.17 1318.75 Q2137.61 1318.75 2138.14 1318.81 Q2138.68 1318.86 2139.32 1318.98 L2139.35 1323.35 Z\" fill=\"#000000\" fill-rule=\"evenodd\" fill-opacity=\"1\" /><path clip-path=\"url(#clip070)\" d=\"M2141.34 1319.37 L2145.6 1319.37 L2150.92 1339.6 L2156.22 1319.37 L2161.25 1319.37 L2166.57 1339.6 L2171.87 1319.37 L2176.13 1319.37 L2169.35 1345.3 L2164.32 1345.3 L2158.75 1324.05 L2153.14 1345.3 L2148.12 1345.3 L2141.34 1319.37 Z\" fill=\"#000000\" fill-rule=\"evenodd\" fill-opacity=\"1\" /><path clip-path=\"url(#clip070)\" d=\"M2201.2 1332.36 Q2201.2 1327.66 2199.25 1325 Q2197.33 1322.31 2193.95 1322.31 Q2190.57 1322.31 2188.63 1325 Q2186.71 1327.66 2186.71 1332.36 Q2186.71 1337.06 2188.63 1339.74 Q2190.57 1342.4 2193.95 1342.4 Q2197.33 1342.4 2199.25 1339.74 Q2201.2 1337.06 2201.2 1332.36 M2186.71 1323.31 Q2188.05 1320.99 2190.09 1319.88 Q2192.15 1318.75 2194.99 1318.75 Q2199.72 1318.75 2202.66 1322.5 Q2205.62 1326.25 2205.62 1332.36 Q2205.62 1338.47 2202.66 1342.22 Q2199.72 1345.97 2194.99 1345.97 Q2192.15 1345.97 2190.09 1344.86 Q2188.05 1343.72 2186.71 1341.41 L2186.71 1345.3 L2182.43 1345.3 L2182.43 1309.28 L2186.71 1309.28 L2186.71 1323.31 Z\" fill=\"#000000\" fill-rule=\"evenodd\" fill-opacity=\"1\" /><path clip-path=\"url(#clip070)\" d=\"M2224.46 1332.26 Q2219.3 1332.26 2217.31 1333.44 Q2215.32 1334.63 2215.32 1337.47 Q2215.32 1339.74 2216.8 1341.08 Q2218.3 1342.4 2220.87 1342.4 Q2224.42 1342.4 2226.55 1339.9 Q2228.7 1337.38 2228.7 1333.21 L2228.7 1332.26 L2224.46 1332.26 M2232.96 1330.5 L2232.96 1345.3 L2228.7 1345.3 L2228.7 1341.36 Q2227.24 1343.72 2225.06 1344.86 Q2222.89 1345.97 2219.74 1345.97 Q2215.76 1345.97 2213.4 1343.75 Q2211.06 1341.5 2211.06 1337.75 Q2211.06 1333.38 2213.98 1331.15 Q2216.92 1328.93 2222.73 1328.93 L2228.7 1328.93 L2228.7 1328.51 Q2228.7 1325.57 2226.75 1323.98 Q2224.83 1322.36 2221.34 1322.36 Q2219.12 1322.36 2217.01 1322.89 Q2214.9 1323.42 2212.96 1324.49 L2212.96 1320.55 Q2215.3 1319.65 2217.49 1319.21 Q2219.69 1318.75 2221.78 1318.75 Q2227.4 1318.75 2230.18 1321.66 Q2232.96 1324.58 2232.96 1330.5 Z\" fill=\"#000000\" fill-rule=\"evenodd\" fill-opacity=\"1\" /><path clip-path=\"url(#clip070)\" d=\"M2256.75 1323.35 Q2256.04 1322.94 2255.18 1322.75 Q2254.35 1322.54 2253.33 1322.54 Q2249.72 1322.54 2247.77 1324.9 Q2245.85 1327.24 2245.85 1331.64 L2245.85 1345.3 L2241.57 1345.3 L2241.57 1319.37 L2245.85 1319.37 L2245.85 1323.4 Q2247.19 1321.04 2249.35 1319.9 Q2251.5 1318.75 2254.58 1318.75 Q2255.02 1318.75 2255.55 1318.81 Q2256.08 1318.86 2256.73 1318.98 L2256.75 1323.35 Z\" fill=\"#000000\" fill-rule=\"evenodd\" fill-opacity=\"1\" /></svg>\n"
      ]
     },
     "execution_count": 382,
     "metadata": {},
     "output_type": "execute_result"
    }
   ],
   "source": [
    "using Plots #showing initial data and the initial status of the horizon finder\n",
    "plot((initX[4:L-3]), state_array[4:L-3,1:4], xaxis=\"r\",title=\"Initial Data\", labels=[\"m\" \"beta\" \"wbar\" \"derwbar\"],xlim=[0,1])"
   ]
  },
  {
   "cell_type": "code",
   "execution_count": 383,
   "id": "15bbf245",
   "metadata": {},
   "outputs": [],
   "source": [
    "function compactify(r)\n",
    "    return r/(1+r)\n",
    "end\n",
    "function uncompactify(x)\n",
    "    return x/(1-x)\n",
    "end;"
   ]
  },
  {
   "cell_type": "markdown",
   "id": "9b444ece",
   "metadata": {
    "papermill": {
     "duration": 0.009161,
     "end_time": "2023-03-28T18:06:25.373170",
     "exception": false,
     "start_time": "2023-03-28T18:06:25.364009",
     "status": "completed"
    },
    "tags": []
   },
   "source": [
    "# Defining the initial state array for the evolution m β Ψ and Ψ,x"
   ]
  },
  {
   "cell_type": "code",
   "execution_count": 384,
   "id": "9902ffab",
   "metadata": {
    "execution": {
     "iopub.execute_input": "2023-03-28T19:06:25.389000Z",
     "iopub.status.busy": "2023-03-28T19:06:25.388000Z",
     "iopub.status.idle": "2023-03-28T19:06:32.710000Z",
     "shell.execute_reply": "2023-03-28T19:06:32.710000Z"
    },
    "papermill": {
     "duration": 7.335269,
     "end_time": "2023-03-28T18:06:32.715990",
     "exception": false,
     "start_time": "2023-03-28T18:06:25.380721",
     "status": "completed"
    },
    "tags": []
   },
   "outputs": [],
   "source": [
    "using CSV, Tables\n",
    "#CSV.write(dir*\"/res$res/time_step0.csv\", Tables.table(state_array), writeheader=false)\n",
    "\n",
    "global files=[\"m\", \"beta\", \"xi\", \"derxi\", \"derderxi\"]\n",
    "\n",
    "derderxi=Der_arrayLOP(state_array,4,initX) .* (initX .- 1) .^ 2\n",
    "print_muninn(files, 0, [state_array[:,1:4] derderxi],res,\"w\", initX)"
   ]
  },
  {
   "cell_type": "code",
   "execution_count": 385,
   "id": "fff1426a",
   "metadata": {
    "execution": {
     "iopub.execute_input": "2023-03-28T19:06:33.154000Z",
     "iopub.status.busy": "2023-03-28T19:06:32.734000Z",
     "iopub.status.idle": "2023-03-28T19:06:33.884000Z",
     "shell.execute_reply": "2023-03-28T19:06:33.884000Z"
    },
    "papermill": {
     "duration": 1.164178,
     "end_time": "2023-03-28T18:06:33.889802",
     "exception": false,
     "start_time": "2023-03-28T18:06:32.725624",
     "status": "completed"
    },
    "tags": []
   },
   "outputs": [],
   "source": [
    "time=0.0\n",
    "criticality=0.0\n",
    "explode=0.0\n",
    "evol_stats = [criticality A sigma r0 time explode run]\n",
    "global monitor_ratio = zeros(L);\n",
    "#CSV.write(dir*\"/parameters.csv\", Tables.table(evol_stats), writeheader=true, header=[\"criticality\", \"A\", \"sigma\", \"r0\", \"time\", \"explode\", \"run\"])"
   ]
  },
  {
   "cell_type": "code",
   "execution_count": 386,
   "id": "9e9abd7d",
   "metadata": {},
   "outputs": [
    {
     "name": "stdout",
     "output_type": "stream",
     "text": [
      "1.2442537275112058\n"
     ]
    }
   ],
   "source": [
    "ginit=speed(initX,state_array[:,1],state_array[:,2])\n",
    "println(update_dt(initX,state_array[:,1],state_array[:,2],dx,ginit)/dt)"
   ]
  },
  {
   "cell_type": "code",
   "execution_count": 387,
   "id": "4e0df300",
   "metadata": {},
   "outputs": [
    {
     "data": {
      "text/plain": [
       "4"
      ]
     },
     "execution_count": 387,
     "metadata": {},
     "output_type": "execute_result"
    }
   ],
   "source": [
    "using Base.Threads\n",
    "Threads.nthreads()"
   ]
  },
  {
   "cell_type": "code",
   "execution_count": 388,
   "id": "b0219015",
   "metadata": {},
   "outputs": [
    {
     "data": {
      "text/plain": [
       "0.46741572458797315"
      ]
     },
     "execution_count": 388,
     "metadata": {},
     "output_type": "execute_result"
    }
   ],
   "source": [
    "monitor_ratio[5:L-4] = 2 .* state_array[5:L-4,1] ./ initX[5:L-4] .* (1 .- initX[5:L-4]);\n",
    "maximum(monitor_ratio)"
   ]
  },
  {
   "cell_type": "code",
   "execution_count": 389,
   "id": "27a5bccd",
   "metadata": {},
   "outputs": [
    {
     "data": {
      "text/plain": [
       "0.002"
      ]
     },
     "execution_count": 389,
     "metadata": {},
     "output_type": "execute_result"
    }
   ],
   "source": [
    "dt=0.002/2^(m-1)"
   ]
  },
  {
   "cell_type": "markdown",
   "id": "42e2c73d",
   "metadata": {
    "papermill": {
     "duration": 0.007626,
     "end_time": "2023-03-28T18:06:33.908346",
     "exception": false,
     "start_time": "2023-03-28T18:06:33.900720",
     "status": "completed"
    },
    "tags": []
   },
   "source": [
    " ## Time evolution"
   ]
  },
  {
   "cell_type": "markdown",
   "id": "7da47594",
   "metadata": {
    "papermill": {
     "duration": 0.007471,
     "end_time": "2023-03-28T18:06:33.923805",
     "exception": false,
     "start_time": "2023-03-28T18:06:33.916334",
     "status": "completed"
    },
    "tags": []
   },
   "source": [
    "fixed grid"
   ]
  },
  {
   "cell_type": "code",
   "execution_count": 390,
   "id": "fcb7ae3f",
   "metadata": {
    "execution": {
     "iopub.execute_input": "2023-03-28T19:06:33.940000Z",
     "iopub.status.busy": "2023-03-28T19:06:33.940000Z",
     "iopub.status.idle": "2023-03-28T21:02:19.379000Z",
     "shell.execute_reply": "2023-03-28T21:02:19.378000Z"
    },
    "papermill": {
     "duration": 6945.452732,
     "end_time": "2023-03-28T20:02:19.384591",
     "exception": false,
     "start_time": "2023-03-28T18:06:33.931859",
     "status": "completed"
    },
    "tags": []
   },
   "outputs": [
    {
     "name": "stdout",
     "output_type": "stream",
     "text": [
      "\n",
      "\n",
      "iteration 50 dt is 0.0005025094063480207, t=0.025125470320193112 speed is 0.4975031249999301, dx/dt=4.975031249999301\n",
      "\n",
      "\n",
      "iteration 100 dt is 0.000502509406348555, t=0.05025094063760549 speed is 0.4975031249994011, dx/dt=4.975031249994011\n",
      "\n",
      "\n",
      "iteration 150 dt is 0.0005025094063502843, t=0.07537641095506924 speed is 0.4975031249976891, dx/dt=4.97503124997689\n",
      "\n",
      "\n",
      "iteration 200 dt is 0.0005025094063556987, t=0.10050188127269719 speed is 0.49750312499232857, dx/dt=4.975031249923286\n",
      "\n",
      "\n",
      "iteration 250 dt is 0.0005025094063711169, t=0.12562735159081195 speed is 0.49750312497706395, dx/dt=4.975031249770639\n",
      "\n",
      "\n",
      "iteration 300 dt is 0.0005025094064107415, t=0.1507528219102323 speed is 0.4975031249378342, dx/dt=4.9750312493783415\n",
      "\n",
      "\n",
      "iteration 350 dt is 0.0005025094065022497, t=0.1758782922328062 speed is 0.4975031248472377, dx/dt=4.975031248472376\n",
      "\n",
      "\n",
      "iteration 400 dt is 0.0005025094066912232, t=0.20100376256221297 speed is 0.4975031246601468, dx/dt=4.975031246601468\n",
      "\n",
      "\n",
      "iteration 450 dt is 0.0005025094070381904, t=0.22612923290483056 speed is 0.49750312431663624, dx/dt=4.975031243166362\n",
      "\n",
      "\n",
      "iteration 500 dt is 0.0005025094076010251, t=0.2512547032701048 speed is 0.4975031237594088, dx/dt=4.975031237594088\n",
      "\n",
      "\n",
      "iteration 550 dt is 0.0005025094084017728, t=0.2763801736696231 speed is 0.4975031229666386, dx/dt=4.975031229666386\n",
      "\n",
      "\n",
      "iteration 600 dt is 0.0005025094093852585, t=0.30150564411429 speed is 0.49750312199295105, dx/dt=4.97503121992951\n",
      "\n",
      "\n",
      "iteration 650 dt is 0.0005025094103663325, t=0.32663111460920646 speed is 0.49750312102165095, dx/dt=4.9750312102165095\n",
      "\n",
      "\n",
      "iteration 700 dt is 0.0005025094109614174, t=0.3517565851453826 speed is 0.4975031204324947, dx/dt=4.975031204324947\n",
      "\n",
      "\n",
      "iteration 750 dt is 0.0005025094106760148, t=0.37688205569055716 speed is 0.4975031207150539, dx/dt=4.975031207150539\n",
      "Supercritical evolution! At time 0.37688205569055716, iteration = 750\n",
      "t = 0.37688205569055716iteration 750 monitor ratio = 0.6000195879865142\n",
      "\n",
      "\n",
      "iteration 800 dt is 0.0005025094106760148, t=0.4020075262243588 speed is 0.49750312180817347, dx/dt=4.975031207150539\n",
      "\n",
      "\n",
      "iteration 850 dt is 0.0005025094106760148, t=0.42713299675816047 speed is 0.5060231220667272, dx/dt=4.975031207150539\n",
      "\n",
      "\n",
      "iteration 900 dt is 0.0005025094106760148, t=0.4522584672919621 speed is 0.5341520953042431, dx/dt=4.975031207150539\n",
      "\n",
      "\n",
      "iteration 950 dt is 0.0005025094106760148, t=0.47738393782576377 speed is 0.5642644959221167, dx/dt=4.975031207150539\n",
      "\n",
      "\n",
      "iteration 1000 dt is 0.0005025094106760148, t=0.5025094083595651 speed is 0.5927299732042036, dx/dt=4.975031207150539\n",
      "\n",
      "\n",
      "iteration 1050 dt is 0.0005025094106760148, t=0.527634878893364 speed is 0.6159209975314901, dx/dt=4.975031207150539\n",
      "\n",
      "\n",
      "iteration 1100 dt is 0.0005025094106760148, t=0.5527603494271629 speed is 0.6329224010226107, dx/dt=4.975031207150539\n",
      "\n",
      "\n",
      "iteration 1150 dt is 0.0005025094106760148, t=0.5778858199609618 speed is 0.6484526275825281, dx/dt=4.975031207150539\n",
      "\n",
      "\n",
      "iteration 1200 dt is 0.0005025094106760148, t=0.6030112904947607 speed is 0.6673160417665411, dx/dt=4.975031207150539\n",
      "\n",
      "\n",
      "iteration 1250 dt is 0.0005025094106760148, t=0.6281367610285595 speed is 0.6895808493714203, dx/dt=4.975031207150539\n",
      "\n",
      "\n",
      "iteration 1300 dt is 0.0005025094106760148, t=0.6532622315623584 speed is 0.7149936274715102, dx/dt=4.975031207150539\n",
      "\n",
      "\n",
      "iteration 1350 dt is 0.0005025094106760148, t=0.6783877020961573 speed is 0.7433803605103181, dx/dt=4.975031207150539\n",
      "\n",
      "\n",
      "iteration 1400 dt is 0.0005025094106760148, t=0.7035131726299562 speed is 0.7635851482088496, dx/dt=4.975031207150539\n",
      "\n",
      "\n",
      "iteration 1450 dt is 0.0005025094106760148, t=0.728638643163755 speed is 0.754016863255465, dx/dt=4.975031207150539\n",
      "\n",
      "\n",
      "iteration 1500 dt is 0.0005025094106760148, t=0.7537641136975539 speed is 0.7196126003391078, dx/dt=4.975031207150539\n",
      "\n",
      "\n",
      "iteration 1550 dt is 0.0005025094106760148, t=0.7788895842313528 speed is 0.6822937928566847, dx/dt=4.975031207150539\n",
      "\n",
      "\n",
      "iteration 1600 dt is 0.0005025094106760148, t=0.8040150547651517 speed is 0.6531428351922904, dx/dt=4.975031207150539\n",
      "\n",
      "\n",
      "iteration 1650 dt is 0.0005025094106760148, t=0.8291405252989505 speed is 0.614021766395623, dx/dt=4.975031207150539\n",
      "\n",
      "\n",
      "iteration 1700 dt is 0.0005025094106760148, t=0.8542659958327494 speed is 0.5346668806218907, dx/dt=4.975031207150539\n",
      "\n",
      "\n",
      "iteration 1750 dt is 0.0005025094106760148, t=0.8793914663665483 speed is 0.49750206416819887, dx/dt=4.975031207150539\n",
      "\n",
      "\n",
      "iteration 1800 dt is 0.0005025094106760148, t=0.9045169369003472 speed is 0.49750100829267524, dx/dt=4.975031207150539\n",
      "\n",
      "\n",
      "iteration 1850 dt is 0.0005025094106760148, t=0.9296424074341461 speed is 0.49750205032018024, dx/dt=4.975031207150539\n",
      "\n",
      "\n",
      "iteration 1900 dt is 0.0005025094106760148, t=0.9547678779679449 speed is 0.4975027952908895, dx/dt=4.975031207150539\n",
      "\n",
      "\n",
      "iteration 1950 dt is 0.0005025094106760148, t=0.9798933485017438 speed is 0.4975027297337911, dx/dt=4.975031207150539\n",
      "\n",
      "\n",
      "iteration 2000 dt is 0.0005025094106760148, t=1.0050188190355438 speed is 0.4975031247398505, dx/dt=4.975031207150539\n",
      "\n",
      "\n",
      "iteration 2050 dt is 0.0005025094106760148, t=1.0301442895693482 speed is 0.4975031242222096, dx/dt=4.975031207150539\n",
      "\n",
      "\n",
      "iteration 2100 dt is 0.0005025094106760148, t=1.0552697601031527 speed is 0.49750312190794227, dx/dt=4.975031207150539\n",
      "\n",
      "\n",
      "iteration 2150 dt is 0.0005025094106760148, t=1.080395230636957 speed is 0.497503124912568, dx/dt=4.975031207150539\n",
      "\n",
      "\n",
      "iteration 2200 dt is 0.0005025094106760148, t=1.1055207011707615 speed is 0.49750312494530946, dx/dt=4.975031207150539\n",
      "\n",
      "\n",
      "iteration 2250 dt is 0.0005025094106760148, t=1.130646171704566 speed is 0.49750312490451254, dx/dt=4.975031207150539\n",
      "\n",
      "\n",
      "iteration 2300 dt is 0.0005025094106760148, t=1.1557716422383704 speed is 0.4975031249981861, dx/dt=4.975031207150539\n",
      "\n",
      "\n",
      "iteration 2350 dt is 0.0005025094106760148, t=1.1808971127721748 speed is 0.49750312499374033, dx/dt=4.975031207150539\n",
      "\n",
      "\n",
      "iteration 2400 dt is 0.0005025094106760148, t=1.2060225833059792 speed is 0.49750312499712135, dx/dt=4.975031207150539\n",
      "\n",
      "\n",
      "iteration 2450 dt is 0.0005025094106760148, t=1.2311480538397837 speed is 0.4975031249996023, dx/dt=4.975031207150539\n",
      "\n",
      "\n",
      "iteration 2500 dt is 0.0005025094106760148, t=1.256273524373588 speed is 0.4975031249995053, dx/dt=4.975031207150539\n",
      "\n",
      "\n",
      "iteration 2550 dt is 0.0005025094106760148, t=1.2813989949073925 speed is 0.49750312499980365, dx/dt=4.975031207150539\n",
      "\n",
      "\n",
      "iteration 2600 dt is 0.0005025094106760148, t=1.306524465441197 speed is 0.4975031249999259, dx/dt=4.975031207150539\n",
      "\n",
      "\n",
      "iteration 2650 dt is 0.0005025094106760148, t=1.3316499359750014 speed is 0.49750312499994614, dx/dt=4.975031207150539\n",
      "\n",
      "\n",
      "iteration 2700 dt is 0.0005025094106760148, t=1.3567754065088058 speed is 0.4975031249999746, dx/dt=4.975031207150539\n",
      "\n",
      "\n",
      "iteration 2750 dt is 0.0005025094106760148, t=1.3819008770426102 speed is 0.4975031249999864, dx/dt=4.975031207150539\n",
      "\n",
      "\n",
      "iteration 2800 dt is 0.0005025094106760148, t=1.4070263475764146 speed is 0.4975031249999915, dx/dt=4.975031207150539\n",
      "\n",
      "\n",
      "iteration 2850 dt is 0.0005025094106760148, t=1.432151818110219 speed is 0.49750312499999544, dx/dt=4.975031207150539\n",
      "\n",
      "\n",
      "iteration 2900 dt is 0.0005025094106760148, t=1.4572772886440235 speed is 0.49750312499999716, dx/dt=4.975031207150539\n",
      "\n",
      "\n",
      "iteration 2950 dt is 0.0005025094106760148, t=1.482402759177828 speed is 0.4975031249999984, dx/dt=4.975031207150539\n"
     ]
    }
   ],
   "source": [
    "finaltime=1.5\n",
    "evol_stats, T_interp = timeevolution(state_array,finaltime,run);\n",
    "#CSV.write(dir*\"/timearray$res.csv\", Tables.table(T_interp), writeheader=false);\n",
    "#CSV.write(dir*\"/parameters.csv\", Tables.table(evol_stats), writeheader=false);"
   ]
  },
  {
   "cell_type": "code",
   "execution_count": null,
   "id": "ef57be5a",
   "metadata": {},
   "outputs": [],
   "source": []
  },
  {
   "cell_type": "code",
   "execution_count": null,
   "id": "fa24f38b",
   "metadata": {},
   "outputs": [],
   "source": []
  },
  {
   "cell_type": "code",
   "execution_count": null,
   "id": "26374227",
   "metadata": {},
   "outputs": [],
   "source": []
  },
  {
   "cell_type": "code",
   "execution_count": null,
   "id": "b45c67a8",
   "metadata": {},
   "outputs": [],
   "source": []
  }
 ],
 "metadata": {
  "@webio": {
   "lastCommId": null,
   "lastKernelId": null
  },
  "kernelspec": {
   "display_name": "Julia 1.8.0",
   "language": "julia",
   "name": "julia-1.8"
  },
  "language_info": {
   "file_extension": ".jl",
   "mimetype": "application/julia",
   "name": "julia",
   "version": "1.8.0"
  },
  "papermill": {
   "default_parameters": {},
   "duration": 7025.507115,
   "end_time": "2023-03-28T20:03:06.430756",
   "environment_variables": {},
   "exception": null,
   "input_path": "Evolution_ScalarField.ipynb",
   "output_path": "Evolution_ScalarField.ipynb",
   "parameters": {
    "A": 0.001,
    "m": 3
   },
   "start_time": "2023-03-28T18:06:00.923641",
   "version": "2.4.0"
  }
 },
 "nbformat": 4,
 "nbformat_minor": 5
}
