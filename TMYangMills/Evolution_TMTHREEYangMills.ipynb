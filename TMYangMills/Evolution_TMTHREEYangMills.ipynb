{
 "cells": [
  {
   "cell_type": "markdown",
   "id": "d88601a8",
   "metadata": {
    "papermill": {
     "duration": 0.010813,
     "end_time": "2023-03-28T18:06:09.878411",
     "exception": false,
     "start_time": "2023-03-28T18:06:09.867598",
     "status": "completed"
    },
    "tags": []
   },
   "source": [
    "# Evolution of Einstein's equations"
   ]
  },
  {
   "cell_type": "markdown",
   "id": "03c607c7",
   "metadata": {
    "papermill": {
     "duration": 0.006777,
     "end_time": "2023-03-28T18:06:09.893152",
     "exception": false,
     "start_time": "2023-03-28T18:06:09.886375",
     "status": "completed"
    },
    "tags": []
   },
   "source": [
    "# Initial data , setting length of the domain and discretization\n"
   ]
  },
  {
   "cell_type": "markdown",
   "id": "43aebde7",
   "metadata": {
    "execution": {
     "iopub.execute_input": "2023-03-28T19:06:10.907000Z",
     "iopub.status.busy": "2023-03-28T19:06:09.907000Z",
     "iopub.status.idle": "2023-03-28T19:06:12.147000Z",
     "shell.execute_reply": "2023-03-28T19:06:12.110000Z"
    },
    "papermill": {
     "duration": 2.251282,
     "end_time": "2023-03-28T18:06:12.151193",
     "exception": false,
     "start_time": "2023-03-28T18:06:09.899911",
     "status": "completed"
    },
    "tags": [
     "injected-parameters"
    ]
   },
   "source": [
    "# Parameters"
   ]
  },
  {
   "cell_type": "code",
   "execution_count": 6,
   "id": "a28c43b6",
   "metadata": {},
   "outputs": [
    {
     "data": {
      "text/plain": [
       "1"
      ]
     },
     "execution_count": 6,
     "metadata": {},
     "output_type": "execute_result"
    }
   ],
   "source": [
    "m=1\n",
    "run = 1"
   ]
  },
  {
   "cell_type": "markdown",
   "id": "b3b8c463",
   "metadata": {},
   "source": [
    "Choose your grid"
   ]
  },
  {
   "cell_type": "code",
   "execution_count": 7,
   "id": "809ea402",
   "metadata": {},
   "outputs": [
    {
     "data": {
      "text/plain": [
       "false"
      ]
     },
     "execution_count": 7,
     "metadata": {},
     "output_type": "execute_result"
    }
   ],
   "source": [
    "global compactified=true\n",
    "global loggrid=false\n",
    "global bisection=false\n",
    "global zeroformat=false\n",
    "global twod=true\n",
    "\n",
    "global source=false"
   ]
  },
  {
   "cell_type": "code",
   "execution_count": 8,
   "id": "73b14643",
   "metadata": {},
   "outputs": [
    {
     "data": {
      "text/plain": [
       "compactify (generic function with 1 method)"
      ]
     },
     "execution_count": 8,
     "metadata": {},
     "output_type": "execute_result"
    }
   ],
   "source": [
    "function compactify(r)\n",
    "    x=r/(1+r)\n",
    "    return x\n",
    "end"
   ]
  },
  {
   "cell_type": "code",
   "execution_count": 9,
   "id": "80a113e0",
   "metadata": {},
   "outputs": [],
   "source": [
    "using Quadmath, Printf\n",
    "\n",
    "res=m;\n",
    "N=2.0^m*1000.0/2.0\n",
    "\n",
    "if compactified==true\n",
    "    Xf=1.0\n",
    "else\n",
    "    Xf=2.0\n",
    "end\n",
    "\n",
    "dx=Xf/N\n",
    "if loggrid==false\n",
    "    dt=0.5*round(dx,digits=10)\n",
    "else\n",
    "    dt=0.1*round(dx,digits=10)\n",
    "end\n",
    "Nt=N\n",
    "Tf=Nt*dt;"
   ]
  },
  {
   "cell_type": "code",
   "execution_count": 10,
   "id": "4f752d54",
   "metadata": {
    "execution": {
     "iopub.execute_input": "2023-03-28T19:06:12.356000Z",
     "iopub.status.busy": "2023-03-28T19:06:12.356000Z",
     "iopub.status.idle": "2023-03-28T19:06:12.364000Z",
     "shell.execute_reply": "2023-03-28T19:06:12.364000Z"
    },
    "papermill": {
     "duration": 0.020815,
     "end_time": "2023-03-28T18:06:12.368761",
     "exception": false,
     "start_time": "2023-03-28T18:06:12.347946",
     "status": "completed"
    },
    "tags": []
   },
   "outputs": [
    {
     "name": "stdout",
     "output_type": "stream",
     "text": [
      "1000.0"
     ]
    }
   ],
   "source": [
    "print(N)"
   ]
  },
  {
   "cell_type": "code",
   "execution_count": 11,
   "id": "78fb78a5",
   "metadata": {
    "execution": {
     "iopub.execute_input": "2023-03-28T19:06:12.419000Z",
     "iopub.status.busy": "2023-03-28T19:06:12.419000Z",
     "iopub.status.idle": "2023-03-28T19:06:13.308000Z",
     "shell.execute_reply": "2023-03-28T19:06:13.308000Z"
    },
    "papermill": {
     "duration": 0.90283,
     "end_time": "2023-03-28T18:06:13.314381",
     "exception": false,
     "start_time": "2023-03-28T18:06:12.411551",
     "status": "completed"
    },
    "tags": []
   },
   "outputs": [
    {
     "data": {
      "text/plain": [
       "\"/home/rita13santos/Desktop/MSc Thesis/Git/TMYangMills/DATA\""
      ]
     },
     "execution_count": 11,
     "metadata": {},
     "output_type": "execute_result"
    }
   ],
   "source": [
    "global dir = \"/home/rita13santos/Desktop/MSc Thesis/Git/TMYangMills/DATA\""
   ]
  },
  {
   "cell_type": "markdown",
   "id": "e2dd4335",
   "metadata": {
    "papermill": {
     "duration": 0.007006,
     "end_time": "2023-03-28T18:06:13.351329",
     "exception": false,
     "start_time": "2023-03-28T18:06:13.344323",
     "status": "completed"
    },
    "tags": []
   },
   "source": [
    "# Grid"
   ]
  },
  {
   "cell_type": "code",
   "execution_count": 28,
   "id": "bc5288f8",
   "metadata": {
    "execution": {
     "iopub.execute_input": "2023-03-28T19:06:13.636000Z",
     "iopub.status.busy": "2023-03-28T19:06:13.636000Z",
     "iopub.status.idle": "2023-03-28T19:06:14.762000Z",
     "shell.execute_reply": "2023-03-28T19:06:14.762000Z"
    },
    "papermill": {
     "duration": 1.137394,
     "end_time": "2023-03-28T18:06:14.765909",
     "exception": false,
     "start_time": "2023-03-28T18:06:13.628515",
     "status": "completed"
    },
    "tags": []
   },
   "outputs": [],
   "source": [
    "using Printf\n",
    "include(\"./TMYangMillsTHREE.jl\");"
   ]
  },
  {
   "cell_type": "code",
   "execution_count": 29,
   "id": "de24fea3",
   "metadata": {
    "execution": {
     "iopub.execute_input": "2023-03-28T19:06:13.366000Z",
     "iopub.status.busy": "2023-03-28T19:06:13.366000Z",
     "iopub.status.idle": "2023-03-28T19:06:13.571000Z",
     "shell.execute_reply": "2023-03-28T19:06:13.571000Z"
    },
    "papermill": {
     "duration": 0.216104,
     "end_time": "2023-03-28T18:06:13.574666",
     "exception": false,
     "start_time": "2023-03-28T18:06:13.358562",
     "status": "completed"
    },
    "tags": []
   },
   "outputs": [
    {
     "name": "stdout",
     "output_type": "stream",
     "text": [
      "step size is  0.001\n",
      "the time step is 0.00020040060140335978\n"
     ]
    }
   ],
   "source": [
    "ori=0.0#Float128(0.0)#0.0;\n",
    "initX1 = nothing\n",
    "N=int(N)\n",
    "initX1=range(ori, stop=Xf, step=dx);\n",
    "initX = range(round(ori-3.0*dx,digits=10), stop=Xf+3.0*dx, step=dx)\n",
    "\n",
    "L=length(initX);\n",
    "println(\"step size is  \", dx)\n",
    "println(\"the time step is \", dt)\n",
    "\n",
    "if loggrid==true\n",
    "    global originalX=initX\n",
    "    xtilde=gridfunc(initX1)\n",
    "    initX1=xtilde\n",
    "    initX=collect(initX)\n",
    "    initX[4:L-3]=xtilde\n",
    "end;"
   ]
  },
  {
   "cell_type": "markdown",
   "id": "80ab1480",
   "metadata": {
    "papermill": {
     "duration": 0.007525,
     "end_time": "2023-03-28T18:06:14.783937",
     "exception": false,
     "start_time": "2023-03-28T18:06:14.776412",
     "status": "completed"
    },
    "tags": []
   },
   "source": [
    "# Initial data of m β Ψ and Ψ,x"
   ]
  },
  {
   "cell_type": "code",
   "execution_count": 30,
   "id": "d0af654c",
   "metadata": {
    "execution": {
     "iopub.execute_input": "2023-03-28T19:06:14.799000Z",
     "iopub.status.busy": "2023-03-28T19:06:14.799000Z",
     "iopub.status.idle": "2023-03-28T19:06:22.269000Z",
     "shell.execute_reply": "2023-03-28T19:06:22.269000Z"
    },
    "papermill": {
     "duration": 7.48258,
     "end_time": "2023-03-28T18:06:22.273970",
     "exception": false,
     "start_time": "2023-03-28T18:06:14.791390",
     "status": "completed"
    },
    "tags": []
   },
   "outputs": [],
   "source": [
    "using Dierckx\n",
    "\n",
    "\n",
    "####\n",
    "\n",
    "initm=zeros(L)\n",
    "initbeta=zeros(L)\n",
    "initxi=zeros(L)\n",
    "initderxi=zeros(L)\n",
    "\n",
    "state_array=[initm initbeta initxi initderxi];\n",
    "\n",
    "#WBAR,R\n",
    "#0.088125<A*<0.08875\n",
    "A=0.08865958683658391#0.0884375\n",
    "r0=0.3\n",
    "sigma=0.1\n",
    "\n",
    "initderxi[4:L-3] = init_derpsi(initX1,r0,sigma,A)\n",
    "\n",
    "state_array[:,4] = initderxi\n",
    "state_array=ghost(state_array)\n",
    "\n",
    "####\n",
    "#XI FROM XI,X\n",
    "\n",
    "derxi_func = Spline1D(initX[4:L-3], state_array[4:L-3,4],  k=4);\n",
    "\n",
    "funcs=[derxi_func];"
   ]
  },
  {
   "cell_type": "code",
   "execution_count": 31,
   "id": "102cb7e6",
   "metadata": {},
   "outputs": [
    {
     "ename": "LoadError",
     "evalue": "syntax: extra token \"were\" after end of expression",
     "output_type": "error",
     "traceback": [
      "syntax: extra token \"were\" after end of expression",
      "",
      "Stacktrace:",
      " [1] top-level scope",
      "   @ In[31]:2"
     ]
    }
   ],
   "source": [
    "(0.088125+0.08875)/2\n",
    "there were runs with 0.6 as critical stop that were marked as critical but didnt crash"
   ]
  },
  {
   "cell_type": "code",
   "execution_count": 32,
   "id": "78cfbd6e",
   "metadata": {},
   "outputs": [
    {
     "data": {
      "text/plain": [
       "1001×3 Matrix{Float64}:\n",
       " 0.0          0.0           0.0\n",
       " 2.45889e-12  9.53547e-10   1.16396e-8\n",
       " 8.12471e-12  2.50725e-9    2.47399e-8\n",
       " 1.48369e-11  3.60786e-9    3.94355e-8\n",
       " 2.27617e-11  4.57516e-9    5.58711e-8\n",
       " 3.21048e-11  5.50411e-9    7.42034e-8\n",
       " 4.31107e-11  6.44048e-9    9.4601e-8\n",
       " 5.60665e-11  7.41321e-9    1.17246e-7\n",
       " 7.13091e-11  8.44442e-9    1.42333e-7\n",
       " 8.92316e-11  9.55343e-9    1.70075e-7\n",
       " 1.10293e-10  1.07587e-8    2.00697e-7\n",
       " 1.35027e-10  1.20791e-8    2.34443e-7\n",
       " 1.64057e-10  1.35344e-8    2.71577e-7\n",
       " ⋮                         \n",
       " 0.105452     0.413926     -1.11225e-10\n",
       " 0.105452     0.413926     -1.11225e-10\n",
       " 0.105452     0.413926     -1.11225e-10\n",
       " 0.105452     0.413926     -1.11225e-10\n",
       " 0.105452     0.413926     -1.11225e-10\n",
       " 0.105452     0.413926     -1.11225e-10\n",
       " 0.105452     0.413926     -1.11225e-10\n",
       " 0.105452     0.413926     -1.11225e-10\n",
       " 0.105452     0.413926     -1.11225e-10\n",
       " 0.105452     0.413926     -1.11225e-10\n",
       " 0.105452     0.413926     -1.11225e-10\n",
       " 0.105452     0.413926     -1.11225e-10"
      ]
     },
     "execution_count": 32,
     "metadata": {},
     "output_type": "execute_result"
    }
   ],
   "source": [
    "y0=[0.0 0.0 0.0]\n",
    "\n",
    "if twod==true\n",
    "        state_array[4:L-3,1:3] = twod_n_rk4wrapper(RHS,y0,initX[4:L-3],0,funcs,state_array[:,:]);\n",
    "    else\n",
    "        state_array[4:L-3,1:3] = n_rk4wrapper(RHS,y0,initX[4:L-3],0,funcs,state_array[:,:]);\n",
    "end\n",
    "\n",
    "#state_array = ghost(state_array);"
   ]
  },
  {
   "cell_type": "code",
   "execution_count": 33,
   "id": "14e14e45",
   "metadata": {},
   "outputs": [
    {
     "data": {
      "image/svg+xml": [
       "<?xml version=\"1.0\" encoding=\"utf-8\"?>\n",
       "<svg xmlns=\"http://www.w3.org/2000/svg\" xmlns:xlink=\"http://www.w3.org/1999/xlink\" width=\"600\" height=\"400\" viewBox=\"0 0 2400 1600\">\n",
       "<defs>\n",
       "  <clipPath id=\"clip310\">\n",
       "    <rect x=\"0\" y=\"0\" width=\"2400\" height=\"1600\"/>\n",
       "  </clipPath>\n",
       "</defs>\n",
       "<path clip-path=\"url(#clip310)\" d=\"M0 1600 L2400 1600 L2400 0 L0 0  Z\" fill=\"#ffffff\" fill-rule=\"evenodd\" fill-opacity=\"1\"/>\n",
       "<defs>\n",
       "  <clipPath id=\"clip311\">\n",
       "    <rect x=\"480\" y=\"0\" width=\"1681\" height=\"1600\"/>\n",
       "  </clipPath>\n",
       "</defs>\n",
       "<path clip-path=\"url(#clip310)\" d=\"M192.709 1423.18 L2352.76 1423.18 L2352.76 123.472 L192.709 123.472  Z\" fill=\"#ffffff\" fill-rule=\"evenodd\" fill-opacity=\"1\"/>\n",
       "<defs>\n",
       "  <clipPath id=\"clip312\">\n",
       "    <rect x=\"192\" y=\"123\" width=\"2161\" height=\"1301\"/>\n",
       "  </clipPath>\n",
       "</defs>\n",
       "<polyline clip-path=\"url(#clip312)\" style=\"stroke:#000000; stroke-linecap:round; stroke-linejoin:round; stroke-width:2; stroke-opacity:0.1; fill:none\" points=\"192.709,1423.18 192.709,123.472 \"/>\n",
       "<polyline clip-path=\"url(#clip312)\" style=\"stroke:#000000; stroke-linecap:round; stroke-linejoin:round; stroke-width:2; stroke-opacity:0.1; fill:none\" points=\"624.719,1423.18 624.719,123.472 \"/>\n",
       "<polyline clip-path=\"url(#clip312)\" style=\"stroke:#000000; stroke-linecap:round; stroke-linejoin:round; stroke-width:2; stroke-opacity:0.1; fill:none\" points=\"1056.73,1423.18 1056.73,123.472 \"/>\n",
       "<polyline clip-path=\"url(#clip312)\" style=\"stroke:#000000; stroke-linecap:round; stroke-linejoin:round; stroke-width:2; stroke-opacity:0.1; fill:none\" points=\"1488.74,1423.18 1488.74,123.472 \"/>\n",
       "<polyline clip-path=\"url(#clip312)\" style=\"stroke:#000000; stroke-linecap:round; stroke-linejoin:round; stroke-width:2; stroke-opacity:0.1; fill:none\" points=\"1920.75,1423.18 1920.75,123.472 \"/>\n",
       "<polyline clip-path=\"url(#clip312)\" style=\"stroke:#000000; stroke-linecap:round; stroke-linejoin:round; stroke-width:2; stroke-opacity:0.1; fill:none\" points=\"2352.76,1423.18 2352.76,123.472 \"/>\n",
       "<polyline clip-path=\"url(#clip310)\" style=\"stroke:#000000; stroke-linecap:round; stroke-linejoin:round; stroke-width:4; stroke-opacity:1; fill:none\" points=\"192.709,1423.18 2352.76,1423.18 \"/>\n",
       "<polyline clip-path=\"url(#clip310)\" style=\"stroke:#000000; stroke-linecap:round; stroke-linejoin:round; stroke-width:4; stroke-opacity:1; fill:none\" points=\"192.709,1423.18 192.709,1404.28 \"/>\n",
       "<polyline clip-path=\"url(#clip310)\" style=\"stroke:#000000; stroke-linecap:round; stroke-linejoin:round; stroke-width:4; stroke-opacity:1; fill:none\" points=\"624.719,1423.18 624.719,1404.28 \"/>\n",
       "<polyline clip-path=\"url(#clip310)\" style=\"stroke:#000000; stroke-linecap:round; stroke-linejoin:round; stroke-width:4; stroke-opacity:1; fill:none\" points=\"1056.73,1423.18 1056.73,1404.28 \"/>\n",
       "<polyline clip-path=\"url(#clip310)\" style=\"stroke:#000000; stroke-linecap:round; stroke-linejoin:round; stroke-width:4; stroke-opacity:1; fill:none\" points=\"1488.74,1423.18 1488.74,1404.28 \"/>\n",
       "<polyline clip-path=\"url(#clip310)\" style=\"stroke:#000000; stroke-linecap:round; stroke-linejoin:round; stroke-width:4; stroke-opacity:1; fill:none\" points=\"1920.75,1423.18 1920.75,1404.28 \"/>\n",
       "<polyline clip-path=\"url(#clip310)\" style=\"stroke:#000000; stroke-linecap:round; stroke-linejoin:round; stroke-width:4; stroke-opacity:1; fill:none\" points=\"2352.76,1423.18 2352.76,1404.28 \"/>\n",
       "<path clip-path=\"url(#clip310)\" d=\"M170.094 1454.1 Q166.482 1454.1 164.654 1457.66 Q162.848 1461.2 162.848 1468.33 Q162.848 1475.44 164.654 1479.01 Q166.482 1482.55 170.094 1482.55 Q173.728 1482.55 175.533 1479.01 Q177.362 1475.44 177.362 1468.33 Q177.362 1461.2 175.533 1457.66 Q173.728 1454.1 170.094 1454.1 M170.094 1450.39 Q175.904 1450.39 178.959 1455 Q182.038 1459.58 182.038 1468.33 Q182.038 1477.06 178.959 1481.67 Q175.904 1486.25 170.094 1486.25 Q164.283 1486.25 161.205 1481.67 Q158.149 1477.06 158.149 1468.33 Q158.149 1459.58 161.205 1455 Q164.283 1450.39 170.094 1450.39 Z\" fill=\"#000000\" fill-rule=\"evenodd\" fill-opacity=\"1\" /><path clip-path=\"url(#clip310)\" d=\"M190.255 1479.7 L195.14 1479.7 L195.14 1485.58 L190.255 1485.58 L190.255 1479.7 Z\" fill=\"#000000\" fill-rule=\"evenodd\" fill-opacity=\"1\" /><path clip-path=\"url(#clip310)\" d=\"M215.325 1454.1 Q211.714 1454.1 209.885 1457.66 Q208.079 1461.2 208.079 1468.33 Q208.079 1475.44 209.885 1479.01 Q211.714 1482.55 215.325 1482.55 Q218.959 1482.55 220.765 1479.01 Q222.593 1475.44 222.593 1468.33 Q222.593 1461.2 220.765 1457.66 Q218.959 1454.1 215.325 1454.1 M215.325 1450.39 Q221.135 1450.39 224.19 1455 Q227.269 1459.58 227.269 1468.33 Q227.269 1477.06 224.19 1481.67 Q221.135 1486.25 215.325 1486.25 Q209.515 1486.25 206.436 1481.67 Q203.38 1477.06 203.38 1468.33 Q203.38 1459.58 206.436 1455 Q209.515 1450.39 215.325 1450.39 Z\" fill=\"#000000\" fill-rule=\"evenodd\" fill-opacity=\"1\" /><path clip-path=\"url(#clip310)\" d=\"M602.901 1454.1 Q599.29 1454.1 597.462 1457.66 Q595.656 1461.2 595.656 1468.33 Q595.656 1475.44 597.462 1479.01 Q599.29 1482.55 602.901 1482.55 Q606.536 1482.55 608.341 1479.01 Q610.17 1475.44 610.17 1468.33 Q610.17 1461.2 608.341 1457.66 Q606.536 1454.1 602.901 1454.1 M602.901 1450.39 Q608.712 1450.39 611.767 1455 Q614.846 1459.58 614.846 1468.33 Q614.846 1477.06 611.767 1481.67 Q608.712 1486.25 602.901 1486.25 Q597.091 1486.25 594.013 1481.67 Q590.957 1477.06 590.957 1468.33 Q590.957 1459.58 594.013 1455 Q597.091 1450.39 602.901 1450.39 Z\" fill=\"#000000\" fill-rule=\"evenodd\" fill-opacity=\"1\" /><path clip-path=\"url(#clip310)\" d=\"M623.063 1479.7 L627.948 1479.7 L627.948 1485.58 L623.063 1485.58 L623.063 1479.7 Z\" fill=\"#000000\" fill-rule=\"evenodd\" fill-opacity=\"1\" /><path clip-path=\"url(#clip310)\" d=\"M642.161 1481.64 L658.48 1481.64 L658.48 1485.58 L636.536 1485.58 L636.536 1481.64 Q639.198 1478.89 643.781 1474.26 Q648.387 1469.61 649.568 1468.27 Q651.813 1465.74 652.693 1464.01 Q653.596 1462.25 653.596 1460.56 Q653.596 1457.8 651.651 1456.07 Q649.73 1454.33 646.628 1454.33 Q644.429 1454.33 641.975 1455.09 Q639.545 1455.86 636.767 1457.41 L636.767 1452.69 Q639.591 1451.55 642.045 1450.97 Q644.498 1450.39 646.536 1450.39 Q651.906 1450.39 655.1 1453.08 Q658.295 1455.77 658.295 1460.26 Q658.295 1462.39 657.485 1464.31 Q656.697 1466.2 654.591 1468.8 Q654.012 1469.47 650.91 1472.69 Q647.809 1475.88 642.161 1481.64 Z\" fill=\"#000000\" fill-rule=\"evenodd\" fill-opacity=\"1\" /><path clip-path=\"url(#clip310)\" d=\"M1033.87 1454.1 Q1030.26 1454.1 1028.43 1457.66 Q1026.62 1461.2 1026.62 1468.33 Q1026.62 1475.44 1028.43 1479.01 Q1030.26 1482.55 1033.87 1482.55 Q1037.5 1482.55 1039.31 1479.01 Q1041.14 1475.44 1041.14 1468.33 Q1041.14 1461.2 1039.31 1457.66 Q1037.5 1454.1 1033.87 1454.1 M1033.87 1450.39 Q1039.68 1450.39 1042.73 1455 Q1045.81 1459.58 1045.81 1468.33 Q1045.81 1477.06 1042.73 1481.67 Q1039.68 1486.25 1033.87 1486.25 Q1028.06 1486.25 1024.98 1481.67 Q1021.92 1477.06 1021.92 1468.33 Q1021.92 1459.58 1024.98 1455 Q1028.06 1450.39 1033.87 1450.39 Z\" fill=\"#000000\" fill-rule=\"evenodd\" fill-opacity=\"1\" /><path clip-path=\"url(#clip310)\" d=\"M1054.03 1479.7 L1058.92 1479.7 L1058.92 1485.58 L1054.03 1485.58 L1054.03 1479.7 Z\" fill=\"#000000\" fill-rule=\"evenodd\" fill-opacity=\"1\" /><path clip-path=\"url(#clip310)\" d=\"M1081.95 1455.09 L1070.14 1473.54 L1081.95 1473.54 L1081.95 1455.09 M1080.72 1451.02 L1086.6 1451.02 L1086.6 1473.54 L1091.53 1473.54 L1091.53 1477.43 L1086.6 1477.43 L1086.6 1485.58 L1081.95 1485.58 L1081.95 1477.43 L1066.35 1477.43 L1066.35 1472.92 L1080.72 1451.02 Z\" fill=\"#000000\" fill-rule=\"evenodd\" fill-opacity=\"1\" /><path clip-path=\"url(#clip310)\" d=\"M1466.04 1454.1 Q1462.43 1454.1 1460.6 1457.66 Q1458.8 1461.2 1458.8 1468.33 Q1458.8 1475.44 1460.6 1479.01 Q1462.43 1482.55 1466.04 1482.55 Q1469.67 1482.55 1471.48 1479.01 Q1473.31 1475.44 1473.31 1468.33 Q1473.31 1461.2 1471.48 1457.66 Q1469.67 1454.1 1466.04 1454.1 M1466.04 1450.39 Q1471.85 1450.39 1474.91 1455 Q1477.98 1459.58 1477.98 1468.33 Q1477.98 1477.06 1474.91 1481.67 Q1471.85 1486.25 1466.04 1486.25 Q1460.23 1486.25 1457.15 1481.67 Q1454.1 1477.06 1454.1 1468.33 Q1454.1 1459.58 1457.15 1455 Q1460.23 1450.39 1466.04 1450.39 Z\" fill=\"#000000\" fill-rule=\"evenodd\" fill-opacity=\"1\" /><path clip-path=\"url(#clip310)\" d=\"M1486.2 1479.7 L1491.09 1479.7 L1491.09 1485.58 L1486.2 1485.58 L1486.2 1479.7 Z\" fill=\"#000000\" fill-rule=\"evenodd\" fill-opacity=\"1\" /><path clip-path=\"url(#clip310)\" d=\"M1511.85 1466.44 Q1508.7 1466.44 1506.85 1468.59 Q1505.02 1470.74 1505.02 1474.49 Q1505.02 1478.22 1506.85 1480.39 Q1508.7 1482.55 1511.85 1482.55 Q1515 1482.55 1516.83 1480.39 Q1518.68 1478.22 1518.68 1474.49 Q1518.68 1470.74 1516.83 1468.59 Q1515 1466.44 1511.85 1466.44 M1521.13 1451.78 L1521.13 1456.04 Q1519.37 1455.21 1517.57 1454.77 Q1515.79 1454.33 1514.03 1454.33 Q1509.4 1454.33 1506.94 1457.45 Q1504.51 1460.58 1504.17 1466.9 Q1505.53 1464.89 1507.59 1463.82 Q1509.65 1462.73 1512.13 1462.73 Q1517.34 1462.73 1520.35 1465.9 Q1523.38 1469.05 1523.38 1474.49 Q1523.38 1479.82 1520.23 1483.03 Q1517.08 1486.25 1511.85 1486.25 Q1505.86 1486.25 1502.68 1481.67 Q1499.51 1477.06 1499.51 1468.33 Q1499.51 1460.14 1503.4 1455.28 Q1507.29 1450.39 1513.84 1450.39 Q1515.6 1450.39 1517.38 1450.74 Q1519.19 1451.09 1521.13 1451.78 Z\" fill=\"#000000\" fill-rule=\"evenodd\" fill-opacity=\"1\" /><path clip-path=\"url(#clip310)\" d=\"M1898.18 1454.1 Q1894.57 1454.1 1892.74 1457.66 Q1890.93 1461.2 1890.93 1468.33 Q1890.93 1475.44 1892.74 1479.01 Q1894.57 1482.55 1898.18 1482.55 Q1901.81 1482.55 1903.62 1479.01 Q1905.45 1475.44 1905.45 1468.33 Q1905.45 1461.2 1903.62 1457.66 Q1901.81 1454.1 1898.18 1454.1 M1898.18 1450.39 Q1903.99 1450.39 1907.04 1455 Q1910.12 1459.58 1910.12 1468.33 Q1910.12 1477.06 1907.04 1481.67 Q1903.99 1486.25 1898.18 1486.25 Q1892.37 1486.25 1889.29 1481.67 Q1886.23 1477.06 1886.23 1468.33 Q1886.23 1459.58 1889.29 1455 Q1892.37 1450.39 1898.18 1450.39 Z\" fill=\"#000000\" fill-rule=\"evenodd\" fill-opacity=\"1\" /><path clip-path=\"url(#clip310)\" d=\"M1918.34 1479.7 L1923.22 1479.7 L1923.22 1485.58 L1918.34 1485.58 L1918.34 1479.7 Z\" fill=\"#000000\" fill-rule=\"evenodd\" fill-opacity=\"1\" /><path clip-path=\"url(#clip310)\" d=\"M1943.41 1469.17 Q1940.08 1469.17 1938.15 1470.95 Q1936.26 1472.73 1936.26 1475.86 Q1936.26 1478.98 1938.15 1480.77 Q1940.08 1482.55 1943.41 1482.55 Q1946.74 1482.55 1948.66 1480.77 Q1950.58 1478.96 1950.58 1475.86 Q1950.58 1472.73 1948.66 1470.95 Q1946.76 1469.17 1943.41 1469.17 M1938.73 1467.18 Q1935.72 1466.44 1934.03 1464.38 Q1932.37 1462.32 1932.37 1459.35 Q1932.37 1455.21 1935.31 1452.8 Q1938.27 1450.39 1943.41 1450.39 Q1948.57 1450.39 1951.51 1452.8 Q1954.45 1455.21 1954.45 1459.35 Q1954.45 1462.32 1952.76 1464.38 Q1951.09 1466.44 1948.11 1467.18 Q1951.49 1467.96 1953.36 1470.26 Q1955.26 1472.55 1955.26 1475.86 Q1955.26 1480.88 1952.18 1483.57 Q1949.13 1486.25 1943.41 1486.25 Q1937.69 1486.25 1934.61 1483.57 Q1931.56 1480.88 1931.56 1475.86 Q1931.56 1472.55 1933.45 1470.26 Q1935.35 1467.96 1938.73 1467.18 M1937.02 1459.79 Q1937.02 1462.48 1938.69 1463.98 Q1940.38 1465.49 1943.41 1465.49 Q1946.42 1465.49 1948.11 1463.98 Q1949.82 1462.48 1949.82 1459.79 Q1949.82 1457.11 1948.11 1455.6 Q1946.42 1454.1 1943.41 1454.1 Q1940.38 1454.1 1938.69 1455.6 Q1937.02 1457.11 1937.02 1459.79 Z\" fill=\"#000000\" fill-rule=\"evenodd\" fill-opacity=\"1\" /><path clip-path=\"url(#clip310)\" d=\"M2319.91 1481.64 L2327.55 1481.64 L2327.55 1455.28 L2319.24 1456.95 L2319.24 1452.69 L2327.5 1451.02 L2332.18 1451.02 L2332.18 1481.64 L2339.82 1481.64 L2339.82 1485.58 L2319.91 1485.58 L2319.91 1481.64 Z\" fill=\"#000000\" fill-rule=\"evenodd\" fill-opacity=\"1\" /><path clip-path=\"url(#clip310)\" d=\"M2349.26 1479.7 L2354.14 1479.7 L2354.14 1485.58 L2349.26 1485.58 L2349.26 1479.7 Z\" fill=\"#000000\" fill-rule=\"evenodd\" fill-opacity=\"1\" /><path clip-path=\"url(#clip310)\" d=\"M2374.33 1454.1 Q2370.72 1454.1 2368.89 1457.66 Q2367.08 1461.2 2367.08 1468.33 Q2367.08 1475.44 2368.89 1479.01 Q2370.72 1482.55 2374.33 1482.55 Q2377.96 1482.55 2379.77 1479.01 Q2381.6 1475.44 2381.6 1468.33 Q2381.6 1461.2 2379.77 1457.66 Q2377.96 1454.1 2374.33 1454.1 M2374.33 1450.39 Q2380.14 1450.39 2383.2 1455 Q2386.27 1459.58 2386.27 1468.33 Q2386.27 1477.06 2383.2 1481.67 Q2380.14 1486.25 2374.33 1486.25 Q2368.52 1486.25 2365.44 1481.67 Q2362.39 1477.06 2362.39 1468.33 Q2362.39 1459.58 2365.44 1455 Q2368.52 1450.39 2374.33 1450.39 Z\" fill=\"#000000\" fill-rule=\"evenodd\" fill-opacity=\"1\" /><path clip-path=\"url(#clip310)\" d=\"M1283.17 1537.87 Q1282.19 1537.3 1281.01 1537.04 Q1279.86 1536.76 1278.46 1536.76 Q1273.5 1536.76 1270.82 1540 Q1268.18 1543.22 1268.18 1549.27 L1268.18 1568.04 L1262.29 1568.04 L1262.29 1532.4 L1268.18 1532.4 L1268.18 1537.93 Q1270.03 1534.69 1272.99 1533.13 Q1275.95 1531.54 1280.18 1531.54 Q1280.79 1531.54 1281.52 1531.63 Q1282.25 1531.7 1283.14 1531.85 L1283.17 1537.87 Z\" fill=\"#000000\" fill-rule=\"evenodd\" fill-opacity=\"1\" /><polyline clip-path=\"url(#clip312)\" style=\"stroke:#000000; stroke-linecap:round; stroke-linejoin:round; stroke-width:2; stroke-opacity:0.1; fill:none\" points=\"192.709,1313.69 2352.76,1313.69 \"/>\n",
       "<polyline clip-path=\"url(#clip312)\" style=\"stroke:#000000; stroke-linecap:round; stroke-linejoin:round; stroke-width:2; stroke-opacity:0.1; fill:none\" points=\"192.709,1125.81 2352.76,1125.81 \"/>\n",
       "<polyline clip-path=\"url(#clip312)\" style=\"stroke:#000000; stroke-linecap:round; stroke-linejoin:round; stroke-width:2; stroke-opacity:0.1; fill:none\" points=\"192.709,937.934 2352.76,937.934 \"/>\n",
       "<polyline clip-path=\"url(#clip312)\" style=\"stroke:#000000; stroke-linecap:round; stroke-linejoin:round; stroke-width:2; stroke-opacity:0.1; fill:none\" points=\"192.709,750.055 2352.76,750.055 \"/>\n",
       "<polyline clip-path=\"url(#clip312)\" style=\"stroke:#000000; stroke-linecap:round; stroke-linejoin:round; stroke-width:2; stroke-opacity:0.1; fill:none\" points=\"192.709,562.177 2352.76,562.177 \"/>\n",
       "<polyline clip-path=\"url(#clip312)\" style=\"stroke:#000000; stroke-linecap:round; stroke-linejoin:round; stroke-width:2; stroke-opacity:0.1; fill:none\" points=\"192.709,374.298 2352.76,374.298 \"/>\n",
       "<polyline clip-path=\"url(#clip312)\" style=\"stroke:#000000; stroke-linecap:round; stroke-linejoin:round; stroke-width:2; stroke-opacity:0.1; fill:none\" points=\"192.709,186.42 2352.76,186.42 \"/>\n",
       "<polyline clip-path=\"url(#clip310)\" style=\"stroke:#000000; stroke-linecap:round; stroke-linejoin:round; stroke-width:4; stroke-opacity:1; fill:none\" points=\"192.709,1423.18 192.709,123.472 \"/>\n",
       "<polyline clip-path=\"url(#clip310)\" style=\"stroke:#000000; stroke-linecap:round; stroke-linejoin:round; stroke-width:4; stroke-opacity:1; fill:none\" points=\"192.709,1313.69 211.607,1313.69 \"/>\n",
       "<polyline clip-path=\"url(#clip310)\" style=\"stroke:#000000; stroke-linecap:round; stroke-linejoin:round; stroke-width:4; stroke-opacity:1; fill:none\" points=\"192.709,1125.81 211.607,1125.81 \"/>\n",
       "<polyline clip-path=\"url(#clip310)\" style=\"stroke:#000000; stroke-linecap:round; stroke-linejoin:round; stroke-width:4; stroke-opacity:1; fill:none\" points=\"192.709,937.934 211.607,937.934 \"/>\n",
       "<polyline clip-path=\"url(#clip310)\" style=\"stroke:#000000; stroke-linecap:round; stroke-linejoin:round; stroke-width:4; stroke-opacity:1; fill:none\" points=\"192.709,750.055 211.607,750.055 \"/>\n",
       "<polyline clip-path=\"url(#clip310)\" style=\"stroke:#000000; stroke-linecap:round; stroke-linejoin:round; stroke-width:4; stroke-opacity:1; fill:none\" points=\"192.709,562.177 211.607,562.177 \"/>\n",
       "<polyline clip-path=\"url(#clip310)\" style=\"stroke:#000000; stroke-linecap:round; stroke-linejoin:round; stroke-width:4; stroke-opacity:1; fill:none\" points=\"192.709,374.298 211.607,374.298 \"/>\n",
       "<polyline clip-path=\"url(#clip310)\" style=\"stroke:#000000; stroke-linecap:round; stroke-linejoin:round; stroke-width:4; stroke-opacity:1; fill:none\" points=\"192.709,186.42 211.607,186.42 \"/>\n",
       "<path clip-path=\"url(#clip310)\" d=\"M51.3625 1314.14 L81.0383 1314.14 L81.0383 1318.08 L51.3625 1318.08 L51.3625 1314.14 Z\" fill=\"#000000\" fill-rule=\"evenodd\" fill-opacity=\"1\" /><path clip-path=\"url(#clip310)\" d=\"M101.131 1299.49 Q97.5197 1299.49 95.691 1303.05 Q93.8854 1306.6 93.8854 1313.73 Q93.8854 1320.83 95.691 1324.4 Q97.5197 1327.94 101.131 1327.94 Q104.765 1327.94 106.571 1324.4 Q108.399 1320.83 108.399 1313.73 Q108.399 1306.6 106.571 1303.05 Q104.765 1299.49 101.131 1299.49 M101.131 1295.79 Q106.941 1295.79 109.996 1300.39 Q113.075 1304.98 113.075 1313.73 Q113.075 1322.45 109.996 1327.06 Q106.941 1331.64 101.131 1331.64 Q95.3206 1331.64 92.2419 1327.06 Q89.1864 1322.45 89.1864 1313.73 Q89.1864 1304.98 92.2419 1300.39 Q95.3206 1295.79 101.131 1295.79 Z\" fill=\"#000000\" fill-rule=\"evenodd\" fill-opacity=\"1\" /><path clip-path=\"url(#clip310)\" d=\"M121.293 1325.09 L126.177 1325.09 L126.177 1330.97 L121.293 1330.97 L121.293 1325.09 Z\" fill=\"#000000\" fill-rule=\"evenodd\" fill-opacity=\"1\" /><path clip-path=\"url(#clip310)\" d=\"M140.39 1327.04 L156.709 1327.04 L156.709 1330.97 L134.765 1330.97 L134.765 1327.04 Q137.427 1324.28 142.01 1319.65 Q146.617 1315 147.797 1313.66 Q150.043 1311.13 150.922 1309.4 Q151.825 1307.64 151.825 1305.95 Q151.825 1303.19 149.88 1301.46 Q147.959 1299.72 144.857 1299.72 Q142.658 1299.72 140.205 1300.48 Q137.774 1301.25 134.996 1302.8 L134.996 1298.08 Q137.82 1296.94 140.274 1296.36 Q142.728 1295.79 144.765 1295.79 Q150.135 1295.79 153.33 1298.47 Q156.524 1301.16 156.524 1305.65 Q156.524 1307.78 155.714 1309.7 Q154.927 1311.6 152.82 1314.19 Q152.242 1314.86 149.14 1318.08 Q146.038 1321.27 140.39 1327.04 Z\" fill=\"#000000\" fill-rule=\"evenodd\" fill-opacity=\"1\" /><path clip-path=\"url(#clip310)\" d=\"M50.9921 1126.26 L80.6679 1126.26 L80.6679 1130.2 L50.9921 1130.2 L50.9921 1126.26 Z\" fill=\"#000000\" fill-rule=\"evenodd\" fill-opacity=\"1\" /><path clip-path=\"url(#clip310)\" d=\"M100.76 1111.61 Q97.1493 1111.61 95.3206 1115.18 Q93.515 1118.72 93.515 1125.85 Q93.515 1132.95 95.3206 1136.52 Q97.1493 1140.06 100.76 1140.06 Q104.395 1140.06 106.2 1136.52 Q108.029 1132.95 108.029 1125.85 Q108.029 1118.72 106.2 1115.18 Q104.395 1111.61 100.76 1111.61 M100.76 1107.91 Q106.571 1107.91 109.626 1112.51 Q112.705 1117.1 112.705 1125.85 Q112.705 1134.57 109.626 1139.18 Q106.571 1143.76 100.76 1143.76 Q94.9502 1143.76 91.8715 1139.18 Q88.816 1134.57 88.816 1125.85 Q88.816 1117.1 91.8715 1112.51 Q94.9502 1107.91 100.76 1107.91 Z\" fill=\"#000000\" fill-rule=\"evenodd\" fill-opacity=\"1\" /><path clip-path=\"url(#clip310)\" d=\"M120.922 1137.21 L125.807 1137.21 L125.807 1143.09 L120.922 1143.09 L120.922 1137.21 Z\" fill=\"#000000\" fill-rule=\"evenodd\" fill-opacity=\"1\" /><path clip-path=\"url(#clip310)\" d=\"M136.802 1139.16 L144.441 1139.16 L144.441 1112.79 L136.131 1114.46 L136.131 1110.2 L144.394 1108.53 L149.07 1108.53 L149.07 1139.16 L156.709 1139.16 L156.709 1143.09 L136.802 1143.09 L136.802 1139.16 Z\" fill=\"#000000\" fill-rule=\"evenodd\" fill-opacity=\"1\" /><path clip-path=\"url(#clip310)\" d=\"M99.5335 923.733 Q95.9224 923.733 94.0937 927.297 Q92.2882 930.839 92.2882 937.969 Q92.2882 945.075 94.0937 948.64 Q95.9224 952.181 99.5335 952.181 Q103.168 952.181 104.973 948.64 Q106.802 945.075 106.802 937.969 Q106.802 930.839 104.973 927.297 Q103.168 923.733 99.5335 923.733 M99.5335 920.029 Q105.344 920.029 108.399 924.635 Q111.478 929.219 111.478 937.969 Q111.478 946.695 108.399 951.302 Q105.344 955.885 99.5335 955.885 Q93.7234 955.885 90.6447 951.302 Q87.5892 946.695 87.5892 937.969 Q87.5892 929.219 90.6447 924.635 Q93.7234 920.029 99.5335 920.029 Z\" fill=\"#000000\" fill-rule=\"evenodd\" fill-opacity=\"1\" /><path clip-path=\"url(#clip310)\" d=\"M119.695 949.334 L124.58 949.334 L124.58 955.214 L119.695 955.214 L119.695 949.334 Z\" fill=\"#000000\" fill-rule=\"evenodd\" fill-opacity=\"1\" /><path clip-path=\"url(#clip310)\" d=\"M144.765 923.733 Q141.154 923.733 139.325 927.297 Q137.519 930.839 137.519 937.969 Q137.519 945.075 139.325 948.64 Q141.154 952.181 144.765 952.181 Q148.399 952.181 150.205 948.64 Q152.033 945.075 152.033 937.969 Q152.033 930.839 150.205 927.297 Q148.399 923.733 144.765 923.733 M144.765 920.029 Q150.575 920.029 153.63 924.635 Q156.709 929.219 156.709 937.969 Q156.709 946.695 153.63 951.302 Q150.575 955.885 144.765 955.885 Q138.955 955.885 135.876 951.302 Q132.82 946.695 132.82 937.969 Q132.82 929.219 135.876 924.635 Q138.955 920.029 144.765 920.029 Z\" fill=\"#000000\" fill-rule=\"evenodd\" fill-opacity=\"1\" /><path clip-path=\"url(#clip310)\" d=\"M100.76 735.854 Q97.1493 735.854 95.3206 739.419 Q93.515 742.961 93.515 750.09 Q93.515 757.197 95.3206 760.761 Q97.1493 764.303 100.76 764.303 Q104.395 764.303 106.2 760.761 Q108.029 757.197 108.029 750.09 Q108.029 742.961 106.2 739.419 Q104.395 735.854 100.76 735.854 M100.76 732.15 Q106.571 732.15 109.626 736.757 Q112.705 741.34 112.705 750.09 Q112.705 758.817 109.626 763.423 Q106.571 768.007 100.76 768.007 Q94.9502 768.007 91.8715 763.423 Q88.816 758.817 88.816 750.09 Q88.816 741.34 91.8715 736.757 Q94.9502 732.15 100.76 732.15 Z\" fill=\"#000000\" fill-rule=\"evenodd\" fill-opacity=\"1\" /><path clip-path=\"url(#clip310)\" d=\"M120.922 761.456 L125.807 761.456 L125.807 767.335 L120.922 767.335 L120.922 761.456 Z\" fill=\"#000000\" fill-rule=\"evenodd\" fill-opacity=\"1\" /><path clip-path=\"url(#clip310)\" d=\"M136.802 763.4 L144.441 763.4 L144.441 737.035 L136.131 738.701 L136.131 734.442 L144.394 732.775 L149.07 732.775 L149.07 763.4 L156.709 763.4 L156.709 767.335 L136.802 767.335 L136.802 763.4 Z\" fill=\"#000000\" fill-rule=\"evenodd\" fill-opacity=\"1\" /><path clip-path=\"url(#clip310)\" d=\"M101.131 547.976 Q97.5197 547.976 95.691 551.54 Q93.8854 555.082 93.8854 562.212 Q93.8854 569.318 95.691 572.883 Q97.5197 576.425 101.131 576.425 Q104.765 576.425 106.571 572.883 Q108.399 569.318 108.399 562.212 Q108.399 555.082 106.571 551.54 Q104.765 547.976 101.131 547.976 M101.131 544.272 Q106.941 544.272 109.996 548.878 Q113.075 553.462 113.075 562.212 Q113.075 570.938 109.996 575.545 Q106.941 580.128 101.131 580.128 Q95.3206 580.128 92.2419 575.545 Q89.1864 570.938 89.1864 562.212 Q89.1864 553.462 92.2419 548.878 Q95.3206 544.272 101.131 544.272 Z\" fill=\"#000000\" fill-rule=\"evenodd\" fill-opacity=\"1\" /><path clip-path=\"url(#clip310)\" d=\"M121.293 573.577 L126.177 573.577 L126.177 579.457 L121.293 579.457 L121.293 573.577 Z\" fill=\"#000000\" fill-rule=\"evenodd\" fill-opacity=\"1\" /><path clip-path=\"url(#clip310)\" d=\"M140.39 575.522 L156.709 575.522 L156.709 579.457 L134.765 579.457 L134.765 575.522 Q137.427 572.767 142.01 568.138 Q146.617 563.485 147.797 562.142 Q150.043 559.619 150.922 557.883 Q151.825 556.124 151.825 554.434 Q151.825 551.679 149.88 549.943 Q147.959 548.207 144.857 548.207 Q142.658 548.207 140.205 548.971 Q137.774 549.735 134.996 551.286 L134.996 546.564 Q137.82 545.429 140.274 544.851 Q142.728 544.272 144.765 544.272 Q150.135 544.272 153.33 546.957 Q156.524 549.642 156.524 554.133 Q156.524 556.263 155.714 558.184 Q154.927 560.082 152.82 562.675 Q152.242 563.346 149.14 566.563 Q146.038 569.758 140.39 575.522 Z\" fill=\"#000000\" fill-rule=\"evenodd\" fill-opacity=\"1\" /><path clip-path=\"url(#clip310)\" d=\"M100.182 360.097 Q96.5706 360.097 94.7419 363.662 Q92.9363 367.204 92.9363 374.333 Q92.9363 381.44 94.7419 385.004 Q96.5706 388.546 100.182 388.546 Q103.816 388.546 105.621 385.004 Q107.45 381.44 107.45 374.333 Q107.45 367.204 105.621 363.662 Q103.816 360.097 100.182 360.097 M100.182 356.393 Q105.992 356.393 109.047 361 Q112.126 365.583 112.126 374.333 Q112.126 383.06 109.047 387.666 Q105.992 392.25 100.182 392.25 Q94.3715 392.25 91.2928 387.666 Q88.2373 383.06 88.2373 374.333 Q88.2373 365.583 91.2928 361 Q94.3715 356.393 100.182 356.393 Z\" fill=\"#000000\" fill-rule=\"evenodd\" fill-opacity=\"1\" /><path clip-path=\"url(#clip310)\" d=\"M120.344 385.699 L125.228 385.699 L125.228 391.578 L120.344 391.578 L120.344 385.699 Z\" fill=\"#000000\" fill-rule=\"evenodd\" fill-opacity=\"1\" /><path clip-path=\"url(#clip310)\" d=\"M149.58 372.944 Q152.936 373.662 154.811 375.93 Q156.709 378.199 156.709 381.532 Q156.709 386.648 153.191 389.449 Q149.672 392.25 143.191 392.25 Q141.015 392.25 138.7 391.81 Q136.408 391.393 133.955 390.537 L133.955 386.023 Q135.899 387.157 138.214 387.736 Q140.529 388.315 143.052 388.315 Q147.45 388.315 149.742 386.578 Q152.056 384.842 152.056 381.532 Q152.056 378.477 149.904 376.764 Q147.774 375.028 143.955 375.028 L139.927 375.028 L139.927 371.185 L144.14 371.185 Q147.589 371.185 149.418 369.819 Q151.246 368.43 151.246 365.838 Q151.246 363.176 149.348 361.764 Q147.473 360.329 143.955 360.329 Q142.033 360.329 139.834 360.745 Q137.635 361.162 134.996 362.042 L134.996 357.875 Q137.658 357.134 139.973 356.764 Q142.311 356.393 144.371 356.393 Q149.695 356.393 152.797 358.824 Q155.899 361.231 155.899 365.352 Q155.899 368.222 154.255 370.213 Q152.612 372.18 149.58 372.944 Z\" fill=\"#000000\" fill-rule=\"evenodd\" fill-opacity=\"1\" /><path clip-path=\"url(#clip310)\" d=\"M99.0474 172.219 Q95.4363 172.219 93.6076 175.783 Q91.8021 179.325 91.8021 186.455 Q91.8021 193.561 93.6076 197.126 Q95.4363 200.668 99.0474 200.668 Q102.682 200.668 104.487 197.126 Q106.316 193.561 106.316 186.455 Q106.316 179.325 104.487 175.783 Q102.682 172.219 99.0474 172.219 M99.0474 168.515 Q104.858 168.515 107.913 173.121 Q110.992 177.705 110.992 186.455 Q110.992 195.182 107.913 199.788 Q104.858 204.371 99.0474 204.371 Q93.2373 204.371 90.1586 199.788 Q87.103 195.182 87.103 186.455 Q87.103 177.705 90.1586 173.121 Q93.2373 168.515 99.0474 168.515 Z\" fill=\"#000000\" fill-rule=\"evenodd\" fill-opacity=\"1\" /><path clip-path=\"url(#clip310)\" d=\"M119.209 197.82 L124.094 197.82 L124.094 203.7 L119.209 203.7 L119.209 197.82 Z\" fill=\"#000000\" fill-rule=\"evenodd\" fill-opacity=\"1\" /><path clip-path=\"url(#clip310)\" d=\"M147.126 173.214 L135.32 191.663 L147.126 191.663 L147.126 173.214 M145.899 169.14 L151.779 169.14 L151.779 191.663 L156.709 191.663 L156.709 195.552 L151.779 195.552 L151.779 203.7 L147.126 203.7 L147.126 195.552 L131.524 195.552 L131.524 191.038 L145.899 169.14 Z\" fill=\"#000000\" fill-rule=\"evenodd\" fill-opacity=\"1\" /><path clip-path=\"url(#clip310)\" d=\"M1053.56 12.096 L1061.74 12.096 L1061.74 72.576 L1053.56 72.576 L1053.56 12.096 Z\" fill=\"#000000\" fill-rule=\"evenodd\" fill-opacity=\"1\" /><path clip-path=\"url(#clip310)\" d=\"M1115.42 45.1919 L1115.42 72.576 L1107.96 72.576 L1107.96 45.4349 Q1107.96 38.994 1105.45 35.7938 Q1102.94 32.5936 1097.92 32.5936 Q1091.88 32.5936 1088.4 36.4419 Q1084.91 40.2903 1084.91 46.9338 L1084.91 72.576 L1077.42 72.576 L1077.42 27.2059 L1084.91 27.2059 L1084.91 34.2544 Q1087.59 30.163 1091.19 28.1376 Q1094.84 26.1121 1099.58 26.1121 Q1107.39 26.1121 1111.41 30.9732 Q1115.42 35.7938 1115.42 45.1919 Z\" fill=\"#000000\" fill-rule=\"evenodd\" fill-opacity=\"1\" /><path clip-path=\"url(#clip310)\" d=\"M1130.28 27.2059 L1137.74 27.2059 L1137.74 72.576 L1130.28 72.576 L1130.28 27.2059 M1130.28 9.54393 L1137.74 9.54393 L1137.74 18.9825 L1130.28 18.9825 L1130.28 9.54393 Z\" fill=\"#000000\" fill-rule=\"evenodd\" fill-opacity=\"1\" /><path clip-path=\"url(#clip310)\" d=\"M1160.7 14.324 L1160.7 27.2059 L1176.06 27.2059 L1176.06 32.9987 L1160.7 32.9987 L1160.7 57.6282 Q1160.7 63.1779 1162.2 64.7578 Q1163.74 66.3376 1168.4 66.3376 L1176.06 66.3376 L1176.06 72.576 L1168.4 72.576 Q1159.77 72.576 1156.49 69.3758 Q1153.21 66.1351 1153.21 57.6282 L1153.21 32.9987 L1147.74 32.9987 L1147.74 27.2059 L1153.21 27.2059 L1153.21 14.324 L1160.7 14.324 Z\" fill=\"#000000\" fill-rule=\"evenodd\" fill-opacity=\"1\" /><path clip-path=\"url(#clip310)\" d=\"M1185.86 27.2059 L1193.31 27.2059 L1193.31 72.576 L1185.86 72.576 L1185.86 27.2059 M1185.86 9.54393 L1193.31 9.54393 L1193.31 18.9825 L1185.86 18.9825 L1185.86 9.54393 Z\" fill=\"#000000\" fill-rule=\"evenodd\" fill-opacity=\"1\" /><path clip-path=\"url(#clip310)\" d=\"M1229.53 49.7694 Q1220.5 49.7694 1217.01 51.8354 Q1213.53 53.9013 1213.53 58.8839 Q1213.53 62.8538 1216.12 65.2034 Q1218.75 67.5124 1223.25 67.5124 Q1229.45 67.5124 1233.18 63.1374 Q1236.94 58.7219 1236.94 51.4303 L1236.94 49.7694 L1229.53 49.7694 M1244.4 46.6907 L1244.4 72.576 L1236.94 72.576 L1236.94 65.6895 Q1234.39 69.8214 1230.58 71.8063 Q1226.78 73.7508 1221.27 73.7508 Q1214.3 73.7508 1210.17 69.8619 Q1206.07 65.9325 1206.07 59.3701 Q1206.07 51.7138 1211.18 47.825 Q1216.32 43.9361 1226.49 43.9361 L1236.94 43.9361 L1236.94 43.2069 Q1236.94 38.0623 1233.54 35.2672 Q1230.18 32.4315 1224.06 32.4315 Q1220.17 32.4315 1216.49 33.3632 Q1212.8 34.295 1209.4 36.1584 L1209.4 29.2718 Q1213.49 27.692 1217.34 26.9223 Q1221.18 26.1121 1224.83 26.1121 Q1234.67 26.1121 1239.54 31.2163 Q1244.4 36.3204 1244.4 46.6907 Z\" fill=\"#000000\" fill-rule=\"evenodd\" fill-opacity=\"1\" /><path clip-path=\"url(#clip310)\" d=\"M1259.75 9.54393 L1267.2 9.54393 L1267.2 72.576 L1259.75 72.576 L1259.75 9.54393 Z\" fill=\"#000000\" fill-rule=\"evenodd\" fill-opacity=\"1\" /><path clip-path=\"url(#clip310)\" d=\"M1317.68 18.8205 L1317.68 65.8515 L1327.56 65.8515 Q1340.08 65.8515 1345.87 60.1802 Q1351.7 54.509 1351.7 42.2752 Q1351.7 30.1225 1345.87 24.4918 Q1340.08 18.8205 1327.56 18.8205 L1317.68 18.8205 M1309.49 12.096 L1326.31 12.096 Q1343.89 12.096 1352.11 19.4281 Q1360.33 26.7198 1360.33 42.2752 Q1360.33 57.9117 1352.07 65.2439 Q1343.81 72.576 1326.31 72.576 L1309.49 72.576 L1309.49 12.096 Z\" fill=\"#000000\" fill-rule=\"evenodd\" fill-opacity=\"1\" /><path clip-path=\"url(#clip310)\" d=\"M1393.67 49.7694 Q1384.64 49.7694 1381.15 51.8354 Q1377.67 53.9013 1377.67 58.8839 Q1377.67 62.8538 1380.26 65.2034 Q1382.9 67.5124 1387.39 67.5124 Q1393.59 67.5124 1397.32 63.1374 Q1401.09 58.7219 1401.09 51.4303 L1401.09 49.7694 L1393.67 49.7694 M1408.54 46.6907 L1408.54 72.576 L1401.09 72.576 L1401.09 65.6895 Q1398.53 69.8214 1394.73 71.8063 Q1390.92 73.7508 1385.41 73.7508 Q1378.44 73.7508 1374.31 69.8619 Q1370.22 65.9325 1370.22 59.3701 Q1370.22 51.7138 1375.32 47.825 Q1380.47 43.9361 1390.63 43.9361 L1401.09 43.9361 L1401.09 43.2069 Q1401.09 38.0623 1397.68 35.2672 Q1394.32 32.4315 1388.2 32.4315 Q1384.31 32.4315 1380.63 33.3632 Q1376.94 34.295 1373.54 36.1584 L1373.54 29.2718 Q1377.63 27.692 1381.48 26.9223 Q1385.33 26.1121 1388.97 26.1121 Q1398.82 26.1121 1403.68 31.2163 Q1408.54 36.3204 1408.54 46.6907 Z\" fill=\"#000000\" fill-rule=\"evenodd\" fill-opacity=\"1\" /><path clip-path=\"url(#clip310)\" d=\"M1431.26 14.324 L1431.26 27.2059 L1446.62 27.2059 L1446.62 32.9987 L1431.26 32.9987 L1431.26 57.6282 Q1431.26 63.1779 1432.76 64.7578 Q1434.3 66.3376 1438.96 66.3376 L1446.62 66.3376 L1446.62 72.576 L1438.96 72.576 Q1430.33 72.576 1427.05 69.3758 Q1423.77 66.1351 1423.77 57.6282 L1423.77 32.9987 L1418.3 32.9987 L1418.3 27.2059 L1423.77 27.2059 L1423.77 14.324 L1431.26 14.324 Z\" fill=\"#000000\" fill-rule=\"evenodd\" fill-opacity=\"1\" /><path clip-path=\"url(#clip310)\" d=\"M1477.04 49.7694 Q1468.01 49.7694 1464.52 51.8354 Q1461.04 53.9013 1461.04 58.8839 Q1461.04 62.8538 1463.63 65.2034 Q1466.26 67.5124 1470.76 67.5124 Q1476.96 67.5124 1480.69 63.1374 Q1484.45 58.7219 1484.45 51.4303 L1484.45 49.7694 L1477.04 49.7694 M1491.91 46.6907 L1491.91 72.576 L1484.45 72.576 L1484.45 65.6895 Q1481.9 69.8214 1478.09 71.8063 Q1474.29 73.7508 1468.78 73.7508 Q1461.81 73.7508 1457.68 69.8619 Q1453.59 65.9325 1453.59 59.3701 Q1453.59 51.7138 1458.69 47.825 Q1463.83 43.9361 1474 43.9361 L1484.45 43.9361 L1484.45 43.2069 Q1484.45 38.0623 1481.05 35.2672 Q1477.69 32.4315 1471.57 32.4315 Q1467.68 32.4315 1464 33.3632 Q1460.31 34.295 1456.91 36.1584 L1456.91 29.2718 Q1461 27.692 1464.85 26.9223 Q1468.7 26.1121 1472.34 26.1121 Q1482.18 26.1121 1487.05 31.2163 Q1491.91 36.3204 1491.91 46.6907 Z\" fill=\"#000000\" fill-rule=\"evenodd\" fill-opacity=\"1\" /><polyline clip-path=\"url(#clip312)\" style=\"stroke:#009af9; stroke-linecap:round; stroke-linejoin:round; stroke-width:4; stroke-opacity:1; fill:none\" points=\"192.709,937.934 194.869,937.934 197.029,937.934 199.189,937.934 201.349,937.934 203.509,937.934 205.669,937.934 207.829,937.934 209.99,937.934 212.15,937.934 214.31,937.934 216.47,937.934 218.63,937.934 220.79,937.934 222.95,937.934 225.11,937.934 227.27,937.934 229.43,937.934 231.59,937.934 233.75,937.934 235.91,937.934 238.07,937.934 240.23,937.934 242.39,937.934 244.55,937.934 246.71,937.934 248.87,937.934 251.03,937.934 253.19,937.934 255.351,937.934 257.511,937.934 259.671,937.934 261.831,937.934 263.991,937.934 266.151,937.934 268.311,937.934 270.471,937.934 272.631,937.934 274.791,937.934 276.951,937.934 279.111,937.934 281.271,937.934 283.431,937.934 285.591,937.934 287.751,937.934 289.911,937.934 292.071,937.934 294.231,937.934 296.391,937.934 298.551,937.934 300.711,937.934 302.872,937.934 305.032,937.934 307.192,937.934 309.352,937.934 311.512,937.934 313.672,937.934 315.832,937.934 317.992,937.934 320.152,937.933 322.312,937.933 324.472,937.933 326.632,937.933 328.792,937.933 330.952,937.933 333.112,937.933 335.272,937.933 337.432,937.933 339.592,937.933 341.752,937.933 343.912,937.932 346.072,937.932 348.233,937.932 350.393,937.932 352.553,937.931 354.713,937.931 356.873,937.931 359.033,937.93 361.193,937.93 363.353,937.929 365.513,937.929 367.673,937.928 369.833,937.927 371.993,937.927 374.153,937.926 376.313,937.925 378.473,937.924 380.633,937.922 382.793,937.921 384.953,937.919 387.113,937.918 389.273,937.916 391.433,937.913 393.594,937.911 395.754,937.908 397.914,937.905 400.074,937.902 402.234,937.898 404.394,937.894 406.554,937.89 408.714,937.885 410.874,937.879 413.034,937.873 415.194,937.866 417.354,937.859 419.514,937.85 421.674,937.841 423.834,937.831 425.994,937.82 428.154,937.807 430.314,937.794 432.474,937.779 434.634,937.762 436.794,937.744 438.954,937.724 441.115,937.703 443.275,937.679 445.435,937.652 447.595,937.624 449.755,937.592 451.915,937.558 454.075,937.52 456.235,937.479 458.395,937.434 460.555,937.385 462.715,937.332 464.875,937.274 467.035,937.211 469.195,937.142 471.355,937.068 473.515,936.987 475.675,936.899 477.835,936.803 479.995,936.7 482.155,936.589 484.315,936.468 486.476,936.337 488.636,936.196 490.796,936.044 492.956,935.881 495.116,935.704 497.276,935.515 499.436,935.311 501.596,935.092 503.756,934.857 505.916,934.605 508.076,934.335 510.236,934.046 512.396,933.738 514.556,933.408 516.716,933.056 518.876,932.682 521.036,932.283 523.196,931.858 525.356,931.407 527.516,930.929 529.676,930.421 531.836,929.883 533.997,929.314 536.157,928.713 538.317,928.078 540.477,927.409 542.637,926.704 544.797,925.962 546.957,925.183 549.117,924.365 551.277,923.507 553.437,922.609 555.597,921.67 557.757,920.689 559.917,919.666 562.077,918.6 564.237,917.491 566.397,916.338 568.557,915.142 570.717,913.902 572.877,912.619 575.037,911.293 577.197,909.924 579.358,908.513 581.518,907.061 583.678,905.568 585.838,904.035 587.998,902.464 590.158,900.857 592.318,899.213 594.478,897.536 596.638,895.827 598.798,894.088 600.958,892.321 603.118,890.528 605.278,888.711 607.438,886.874 609.598,885.018 611.758,883.146 613.918,881.262 616.078,879.367 618.238,877.465 620.398,875.558 622.558,873.65 624.719,871.743 626.879,869.841 629.039,867.947 631.199,866.062 633.359,864.192 635.519,862.337 637.679,860.502 639.839,858.689 641.999,856.9 644.159,855.138 646.319,853.406 648.479,851.706 650.639,850.041 652.799,848.411 654.959,846.82 657.119,845.269 659.279,843.76 661.439,842.293 663.599,840.871 665.759,839.494 667.919,838.162 670.079,836.878 672.24,835.64 674.4,834.449 676.56,833.304 678.72,832.206 680.88,831.153 683.04,830.146 685.2,829.181 687.36,828.258 689.52,827.376 691.68,826.532 693.84,825.723 696,824.948 698.16,824.204 700.32,823.487 702.48,822.794 704.64,822.122 706.8,821.468 708.96,820.826 711.12,820.194 713.28,819.568 715.44,818.942 717.601,818.314 719.761,817.678 721.921,817.031 724.081,816.368 726.241,815.685 728.401,814.979 730.561,814.246 732.721,813.482 734.881,812.684 737.041,811.848 739.201,810.974 741.361,810.057 743.521,809.097 745.681,808.091 747.841,807.039 750.001,805.94 752.161,804.793 754.321,803.6 756.481,802.36 758.641,801.075 760.801,799.747 762.961,798.376 765.122,796.967 767.282,795.52 769.442,794.039 771.602,792.528 773.762,790.99 775.922,789.428 778.082,787.846 780.242,786.248 782.402,784.64 784.562,783.023 786.722,781.403 788.882,779.784 791.042,778.17 793.202,776.565 795.362,774.973 797.522,773.397 799.682,771.842 801.842,770.309 804.002,768.804 806.162,767.328 808.322,765.885 810.483,764.476 812.643,763.105 814.803,761.773 816.963,760.482 819.123,759.234 821.283,758.029 823.443,756.87 825.603,755.756 827.763,754.688 829.923,753.666 832.083,752.691 834.243,751.763 836.403,750.881 838.563,750.045 840.723,749.254 842.883,748.507 845.043,747.804 847.203,747.143 849.363,746.524 851.523,745.944 853.683,745.403 855.844,744.9 858.004,744.432 860.164,743.998 862.324,743.597 864.484,743.227 866.644,742.887 868.804,742.574 870.964,742.288 873.124,742.027 875.284,741.788 877.444,741.572 879.604,741.375 881.764,741.197 883.924,741.037 886.084,740.893 888.244,740.763 890.404,740.647 892.564,740.543 894.724,740.451 896.884,740.369 899.044,740.296 901.204,740.232 903.365,740.175 905.525,740.125 907.685,740.082 909.845,740.043 912.005,740.01 914.165,739.981 916.325,739.956 918.485,739.935 920.645,739.916 922.805,739.9 924.965,739.886 927.125,739.874 929.285,739.864 931.445,739.856 933.605,739.849 935.765,739.842 937.925,739.837 940.085,739.833 942.245,739.829 944.405,739.826 946.565,739.824 948.726,739.822 950.886,739.82 953.046,739.819 955.206,739.818 957.366,739.817 959.526,739.816 961.686,739.815 963.846,739.815 966.006,739.814 968.166,739.814 970.326,739.814 972.486,739.813 974.646,739.813 976.806,739.813 978.966,739.813 981.126,739.813 983.286,739.813 985.446,739.813 987.606,739.813 989.766,739.813 991.926,739.813 994.086,739.813 996.247,739.813 998.407,739.813 1000.57,739.813 1002.73,739.813 1004.89,739.813 1007.05,739.813 1009.21,739.813 1011.37,739.813 1013.53,739.813 1015.69,739.813 1017.85,739.813 1020.01,739.813 1022.17,739.813 1024.33,739.813 1026.49,739.813 1028.65,739.813 1030.81,739.813 1032.97,739.813 1035.13,739.813 1037.29,739.813 1039.45,739.813 1041.61,739.813 1043.77,739.813 1045.93,739.813 1048.09,739.813 1050.25,739.813 1052.41,739.813 1054.57,739.813 1056.73,739.813 1058.89,739.813 1061.05,739.813 1063.21,739.813 1065.37,739.813 1067.53,739.813 1069.69,739.813 1071.85,739.813 1074.01,739.813 1076.17,739.813 1078.33,739.813 1080.49,739.813 1082.65,739.813 1084.81,739.813 1086.97,739.813 1089.13,739.813 1091.29,739.813 1093.45,739.813 1095.61,739.813 1097.77,739.813 1099.93,739.813 1102.09,739.813 1104.25,739.813 1106.41,739.813 1108.57,739.813 1110.73,739.813 1112.89,739.813 1115.05,739.813 1117.21,739.813 1119.37,739.813 1121.53,739.813 1123.69,739.813 1125.85,739.813 1128.01,739.813 1130.17,739.813 1132.33,739.813 1134.49,739.813 1136.65,739.813 1138.81,739.813 1140.97,739.813 1143.13,739.813 1145.29,739.813 1147.45,739.813 1149.61,739.813 1151.77,739.813 1153.93,739.813 1156.09,739.813 1158.25,739.813 1160.41,739.813 1162.57,739.813 1164.73,739.813 1166.89,739.813 1169.05,739.813 1171.21,739.813 1173.37,739.813 1175.53,739.813 1177.69,739.813 1179.85,739.813 1182.01,739.813 1184.17,739.813 1186.33,739.813 1188.49,739.813 1190.65,739.813 1192.81,739.813 1194.97,739.813 1197.13,739.813 1199.29,739.813 1201.45,739.813 1203.61,739.813 1205.77,739.813 1207.93,739.813 1210.09,739.813 1212.25,739.813 1214.41,739.813 1216.57,739.813 1218.73,739.813 1220.89,739.813 1223.05,739.813 1225.21,739.813 1227.37,739.813 1229.53,739.813 1231.69,739.813 1233.85,739.813 1236.01,739.813 1238.17,739.813 1240.33,739.813 1242.49,739.813 1244.65,739.813 1246.81,739.813 1248.97,739.813 1251.13,739.813 1253.29,739.813 1255.45,739.813 1257.61,739.813 1259.77,739.813 1261.93,739.813 1264.09,739.813 1266.25,739.813 1268.41,739.813 1270.57,739.813 1272.73,739.813 1274.89,739.813 1277.05,739.813 1279.21,739.813 1281.37,739.813 1283.53,739.813 1285.69,739.813 1287.85,739.813 1290.01,739.813 1292.17,739.813 1294.33,739.813 1296.49,739.813 1298.65,739.813 1300.81,739.813 1302.97,739.813 1305.13,739.813 1307.29,739.813 1309.45,739.813 1311.61,739.813 1313.77,739.813 1315.93,739.813 1318.09,739.813 1320.25,739.813 1322.41,739.813 1324.57,739.813 1326.73,739.813 1328.89,739.813 1331.05,739.813 1333.21,739.813 1335.37,739.813 1337.53,739.813 1339.69,739.813 1341.85,739.813 1344.01,739.813 1346.17,739.813 1348.33,739.813 1350.49,739.813 1352.65,739.813 1354.81,739.813 1356.97,739.813 1359.13,739.813 1361.29,739.813 1363.45,739.813 1365.61,739.813 1367.77,739.813 1369.93,739.813 1372.09,739.813 1374.25,739.813 1376.41,739.813 1378.57,739.813 1380.73,739.813 1382.89,739.813 1385.05,739.813 1387.22,739.813 1389.38,739.813 1391.54,739.813 1393.7,739.813 1395.86,739.813 1398.02,739.813 1400.18,739.813 1402.34,739.813 1404.5,739.813 1406.66,739.813 1408.82,739.813 1410.98,739.813 1413.14,739.813 1415.3,739.813 1417.46,739.813 1419.62,739.813 1421.78,739.813 1423.94,739.813 1426.1,739.813 1428.26,739.813 1430.42,739.813 1432.58,739.813 1434.74,739.813 1436.9,739.813 1439.06,739.813 1441.22,739.813 1443.38,739.813 1445.54,739.813 1447.7,739.813 1449.86,739.813 1452.02,739.813 1454.18,739.813 1456.34,739.813 1458.5,739.813 1460.66,739.813 1462.82,739.813 1464.98,739.813 1467.14,739.813 1469.3,739.813 1471.46,739.813 1473.62,739.813 1475.78,739.813 1477.94,739.813 1480.1,739.813 1482.26,739.813 1484.42,739.813 1486.58,739.813 1488.74,739.813 1490.9,739.813 1493.06,739.813 1495.22,739.813 1497.38,739.813 1499.54,739.813 1501.7,739.813 1503.86,739.813 1506.02,739.813 1508.18,739.813 1510.34,739.813 1512.5,739.813 1514.66,739.813 1516.82,739.813 1518.98,739.813 1521.14,739.813 1523.3,739.813 1525.46,739.813 1527.62,739.813 1529.78,739.813 1531.94,739.813 1534.1,739.813 1536.26,739.813 1538.42,739.813 1540.58,739.813 1542.74,739.813 1544.9,739.813 1547.06,739.813 1549.22,739.813 1551.38,739.813 1553.54,739.813 1555.7,739.813 1557.86,739.813 1560.02,739.813 1562.18,739.813 1564.34,739.813 1566.5,739.813 1568.66,739.813 1570.82,739.813 1572.98,739.813 1575.14,739.813 1577.3,739.813 1579.46,739.813 1581.62,739.813 1583.78,739.813 1585.94,739.813 1588.1,739.813 1590.26,739.813 1592.42,739.813 1594.58,739.813 1596.74,739.813 1598.9,739.813 1601.06,739.813 1603.22,739.813 1605.38,739.813 1607.54,739.813 1609.7,739.813 1611.86,739.813 1614.02,739.813 1616.18,739.813 1618.34,739.813 1620.5,739.813 1622.66,739.813 1624.82,739.813 1626.98,739.813 1629.14,739.813 1631.3,739.813 1633.46,739.813 1635.62,739.813 1637.78,739.813 1639.94,739.813 1642.1,739.813 1644.26,739.813 1646.42,739.813 1648.58,739.813 1650.74,739.813 1652.9,739.813 1655.06,739.813 1657.22,739.813 1659.38,739.813 1661.54,739.813 1663.7,739.813 1665.86,739.813 1668.02,739.813 1670.18,739.813 1672.34,739.813 1674.5,739.813 1676.66,739.813 1678.82,739.813 1680.98,739.813 1683.14,739.813 1685.3,739.813 1687.46,739.813 1689.62,739.813 1691.78,739.813 1693.94,739.813 1696.1,739.813 1698.26,739.813 1700.42,739.813 1702.58,739.813 1704.74,739.813 1706.9,739.813 1709.06,739.813 1711.22,739.813 1713.38,739.813 1715.54,739.813 1717.7,739.813 1719.86,739.813 1722.02,739.813 1724.18,739.813 1726.34,739.813 1728.5,739.813 1730.66,739.813 1732.82,739.813 1734.98,739.813 1737.14,739.813 1739.3,739.813 1741.46,739.813 1743.62,739.813 1745.78,739.813 1747.94,739.813 1750.1,739.813 1752.26,739.813 1754.42,739.813 1756.58,739.813 1758.74,739.813 1760.9,739.813 1763.06,739.813 1765.22,739.813 1767.38,739.813 1769.54,739.813 1771.7,739.813 1773.86,739.813 1776.02,739.813 1778.18,739.813 1780.34,739.813 1782.5,739.813 1784.66,739.813 1786.82,739.813 1788.98,739.813 1791.14,739.813 1793.3,739.813 1795.46,739.813 1797.62,739.813 1799.78,739.813 1801.94,739.813 1804.1,739.813 1806.26,739.813 1808.42,739.813 1810.58,739.813 1812.74,739.813 1814.9,739.813 1817.06,739.813 1819.22,739.813 1821.38,739.813 1823.54,739.813 1825.7,739.813 1827.86,739.813 1830.02,739.813 1832.18,739.813 1834.34,739.813 1836.5,739.813 1838.66,739.813 1840.82,739.813 1842.98,739.813 1845.14,739.813 1847.3,739.813 1849.47,739.813 1851.63,739.813 1853.79,739.813 1855.95,739.813 1858.11,739.813 1860.27,739.813 1862.43,739.813 1864.59,739.813 1866.75,739.813 1868.91,739.813 1871.07,739.813 1873.23,739.813 1875.39,739.813 1877.55,739.813 1879.71,739.813 1881.87,739.813 1884.03,739.813 1886.19,739.813 1888.35,739.813 1890.51,739.813 1892.67,739.813 1894.83,739.813 1896.99,739.813 1899.15,739.813 1901.31,739.813 1903.47,739.813 1905.63,739.813 1907.79,739.813 1909.95,739.813 1912.11,739.813 1914.27,739.813 1916.43,739.813 1918.59,739.813 1920.75,739.813 1922.91,739.813 1925.07,739.813 1927.23,739.813 1929.39,739.813 1931.55,739.813 1933.71,739.813 1935.87,739.813 1938.03,739.813 1940.19,739.813 1942.35,739.813 1944.51,739.813 1946.67,739.813 1948.83,739.813 1950.99,739.813 1953.15,739.813 1955.31,739.813 1957.47,739.813 1959.63,739.813 1961.79,739.813 1963.95,739.813 1966.11,739.813 1968.27,739.813 1970.43,739.813 1972.59,739.813 1974.75,739.813 1976.91,739.813 1979.07,739.813 1981.23,739.813 1983.39,739.813 1985.55,739.813 1987.71,739.813 1989.87,739.813 1992.03,739.813 1994.19,739.813 1996.35,739.813 1998.51,739.813 2000.67,739.813 2002.83,739.813 2004.99,739.813 2007.15,739.813 2009.31,739.813 2011.47,739.813 2013.63,739.813 2015.79,739.813 2017.95,739.813 2020.11,739.813 2022.27,739.813 2024.43,739.813 2026.59,739.813 2028.75,739.813 2030.91,739.813 2033.07,739.813 2035.23,739.813 2037.39,739.813 2039.55,739.813 2041.71,739.813 2043.87,739.813 2046.03,739.813 2048.19,739.813 2050.35,739.813 2052.51,739.813 2054.67,739.813 2056.83,739.813 2058.99,739.813 2061.15,739.813 2063.31,739.813 2065.47,739.813 2067.63,739.813 2069.79,739.813 2071.95,739.813 2074.11,739.813 2076.27,739.813 2078.43,739.813 2080.59,739.813 2082.75,739.813 2084.91,739.813 2087.07,739.813 2089.23,739.813 2091.39,739.813 2093.55,739.813 2095.71,739.813 2097.87,739.813 2100.03,739.813 2102.19,739.813 2104.35,739.813 2106.51,739.813 2108.67,739.813 2110.83,739.813 2112.99,739.813 2115.15,739.813 2117.31,739.813 2119.47,739.813 2121.63,739.813 2123.79,739.813 2125.95,739.813 2128.11,739.813 2130.27,739.813 2132.43,739.813 2134.59,739.813 2136.75,739.813 2138.91,739.813 2141.07,739.813 2143.23,739.813 2145.39,739.813 2147.55,739.813 2149.71,739.813 2151.87,739.813 2154.03,739.813 2156.19,739.813 2158.35,739.813 2160.51,739.813 2162.67,739.813 2164.83,739.813 2166.99,739.813 2169.15,739.813 2171.31,739.813 2173.47,739.813 2175.63,739.813 2177.79,739.813 2179.95,739.813 2182.11,739.813 2184.27,739.813 2186.43,739.813 2188.59,739.813 2190.75,739.813 2192.91,739.813 2195.07,739.813 2197.23,739.813 2199.39,739.813 2201.55,739.813 2203.71,739.813 2205.87,739.813 2208.03,739.813 2210.19,739.813 2212.35,739.813 2214.51,739.813 2216.67,739.813 2218.83,739.813 2220.99,739.813 2223.15,739.813 2225.31,739.813 2227.47,739.813 2229.63,739.813 2231.79,739.813 2233.95,739.813 2236.11,739.813 2238.27,739.813 2240.43,739.813 2242.59,739.813 2244.75,739.813 2246.91,739.813 2249.07,739.813 2251.23,739.813 2253.39,739.813 2255.55,739.813 2257.71,739.813 2259.87,739.813 2262.03,739.813 2264.19,739.813 2266.35,739.813 2268.51,739.813 2270.67,739.813 2272.83,739.813 2274.99,739.813 2277.15,739.813 2279.31,739.813 2281.47,739.813 2283.63,739.813 2285.79,739.813 2287.95,739.813 2290.11,739.813 2292.27,739.813 2294.43,739.813 2296.59,739.813 2298.75,739.813 2300.91,739.813 2303.07,739.813 2305.23,739.813 2307.39,739.813 2309.55,739.813 2311.72,739.813 2313.88,739.813 2316.04,739.813 2318.2,739.813 2320.36,739.813 2322.52,739.813 2324.68,739.813 2326.84,739.813 2329,739.813 2331.16,739.813 2333.32,739.813 2335.48,739.813 2337.64,739.813 2339.8,739.813 2341.96,739.813 2344.12,739.813 2346.28,739.813 2348.44,739.813 2350.6,739.813 2352.76,739.813 \"/>\n",
       "<polyline clip-path=\"url(#clip312)\" style=\"stroke:#e26f46; stroke-linecap:round; stroke-linejoin:round; stroke-width:4; stroke-opacity:1; fill:none\" points=\"192.709,937.934 194.869,937.934 197.029,937.934 199.189,937.934 201.349,937.934 203.509,937.934 205.669,937.934 207.829,937.934 209.99,937.934 212.15,937.934 214.31,937.934 216.47,937.934 218.63,937.934 220.79,937.934 222.95,937.934 225.11,937.934 227.27,937.934 229.43,937.934 231.59,937.934 233.75,937.934 235.91,937.934 238.07,937.934 240.23,937.934 242.39,937.934 244.55,937.934 246.71,937.934 248.87,937.934 251.03,937.934 253.19,937.934 255.351,937.934 257.511,937.934 259.671,937.934 261.831,937.934 263.991,937.934 266.151,937.934 268.311,937.933 270.471,937.933 272.631,937.933 274.791,937.933 276.951,937.933 279.111,937.933 281.271,937.933 283.431,937.933 285.591,937.933 287.751,937.933 289.911,937.933 292.071,937.933 294.231,937.932 296.391,937.932 298.551,937.932 300.711,937.932 302.872,937.931 305.032,937.931 307.192,937.931 309.352,937.93 311.512,937.93 313.672,937.93 315.832,937.929 317.992,937.929 320.152,937.928 322.312,937.927 324.472,937.926 326.632,937.925 328.792,937.924 330.952,937.923 333.112,937.922 335.272,937.921 337.432,937.919 339.592,937.917 341.752,937.916 343.912,937.913 346.072,937.911 348.233,937.908 350.393,937.905 352.553,937.902 354.713,937.899 356.873,937.895 359.033,937.89 361.193,937.885 363.353,937.88 365.513,937.874 367.673,937.867 369.833,937.859 371.993,937.851 374.153,937.842 376.313,937.832 378.473,937.821 380.633,937.809 382.793,937.795 384.953,937.78 387.113,937.764 389.273,937.746 391.433,937.726 393.594,937.704 395.754,937.68 397.914,937.653 400.074,937.624 402.234,937.592 404.394,937.557 406.554,937.518 408.714,937.475 410.874,937.429 413.034,937.378 415.194,937.322 417.354,937.261 419.514,937.195 421.674,937.122 423.834,937.042 425.994,936.955 428.154,936.86 430.314,936.757 432.474,936.644 434.634,936.521 436.794,936.387 438.954,936.242 441.115,936.084 443.275,935.912 445.435,935.725 447.595,935.522 449.755,935.303 451.915,935.065 454.075,934.807 456.235,934.527 458.395,934.225 460.555,933.899 462.715,933.546 464.875,933.165 467.035,932.754 469.195,932.312 471.355,931.834 473.515,931.32 475.675,930.768 477.835,930.173 479.995,929.535 482.155,928.85 484.315,928.114 486.476,927.326 488.636,926.482 490.796,925.578 492.956,924.611 495.116,923.578 497.276,922.475 499.436,921.298 501.596,920.043 503.756,918.706 505.916,917.283 508.076,915.769 510.236,914.16 512.396,912.452 514.556,910.64 516.716,908.719 518.876,906.685 521.036,904.532 523.196,902.256 525.356,899.851 527.516,897.314 529.676,894.639 531.836,891.821 533.997,888.856 536.157,885.738 538.317,882.464 540.477,879.028 542.637,875.426 544.797,871.653 546.957,867.707 549.117,863.583 551.277,859.277 553.437,854.787 555.597,850.11 557.757,845.242 559.917,840.182 562.077,834.929 564.237,829.48 566.397,823.836 568.557,817.996 570.717,811.961 572.877,805.732 575.037,799.309 577.197,792.697 579.358,785.897 581.518,778.914 583.678,771.753 585.838,764.417 587.998,756.914 590.158,749.251 592.318,741.435 594.478,733.475 596.638,725.38 598.798,717.16 600.958,708.827 603.118,700.392 605.278,691.868 607.438,683.268 609.598,674.606 611.758,665.897 613.918,657.157 616.078,648.401 618.238,639.646 620.398,630.909 622.558,622.207 624.719,613.559 626.879,604.98 629.039,596.491 631.199,588.109 633.359,579.852 635.519,571.737 637.679,563.783 639.839,556.007 641.999,548.426 644.159,541.055 646.319,533.91 648.479,527.007 650.639,520.358 652.799,513.976 654.959,507.873 657.119,502.058 659.279,496.542 661.439,491.331 663.599,486.431 665.759,481.846 667.919,477.58 670.079,473.633 672.24,470.004 674.4,466.69 676.56,463.687 678.72,460.988 680.88,458.586 683.04,456.469 685.2,454.628 687.36,453.047 689.52,451.712 691.68,450.605 693.84,449.71 696,449.005 698.16,448.47 700.32,448.083 702.48,447.821 704.64,447.661 706.8,447.576 708.96,447.543 711.12,447.537 713.28,447.531 715.44,447.5 717.601,447.419 719.761,447.263 721.921,447.009 724.081,446.632 726.241,446.11 728.401,445.423 730.561,444.55 732.721,443.472 734.881,442.174 737.041,440.639 739.201,438.855 741.361,436.81 743.521,434.495 745.681,431.903 747.841,429.028 750.001,425.868 752.161,422.422 754.321,418.69 756.481,414.678 758.641,410.389 760.801,405.832 762.961,401.015 765.122,395.951 767.282,390.651 769.442,385.131 771.602,379.406 773.762,373.493 775.922,367.411 778.082,361.178 780.242,354.815 782.402,348.342 784.562,341.78 786.722,335.151 788.882,328.475 791.042,321.774 793.202,315.069 795.362,308.38 797.522,301.728 799.682,295.131 801.842,288.609 804.002,282.179 806.162,275.857 808.322,269.658 810.483,263.598 812.643,257.689 814.803,251.943 816.963,246.37 819.123,240.98 821.283,235.779 823.443,230.775 825.603,225.972 827.763,221.374 829.923,216.984 832.083,212.803 834.243,208.831 836.403,205.068 838.563,201.511 840.723,198.157 842.883,195.003 845.043,192.044 847.203,189.276 849.363,186.692 851.523,184.287 853.683,182.053 855.844,179.984 858.004,178.072 860.164,176.309 862.324,174.689 864.484,173.204 866.644,171.845 868.804,170.605 870.964,169.476 873.124,168.452 875.284,167.525 877.444,166.687 879.604,165.933 881.764,165.255 883.924,164.648 886.084,164.105 888.244,163.621 890.404,163.191 892.564,162.809 894.724,162.472 896.884,162.175 899.044,161.913 901.204,161.683 903.365,161.482 905.525,161.307 907.685,161.154 909.845,161.022 912.005,160.907 914.165,160.808 916.325,160.723 918.485,160.65 920.645,160.588 922.805,160.534 924.965,160.489 927.125,160.45 929.285,160.418 931.445,160.39 933.605,160.367 935.765,160.348 937.925,160.332 940.085,160.318 942.245,160.307 944.405,160.297 946.565,160.29 948.726,160.283 950.886,160.278 953.046,160.274 955.206,160.27 957.366,160.268 959.526,160.265 961.686,160.264 963.846,160.262 966.006,160.261 968.166,160.26 970.326,160.259 972.486,160.259 974.646,160.258 976.806,160.258 978.966,160.257 981.126,160.257 983.286,160.257 985.446,160.257 987.606,160.257 989.766,160.257 991.926,160.257 994.086,160.256 996.247,160.256 998.407,160.256 1000.57,160.256 1002.73,160.256 1004.89,160.256 1007.05,160.256 1009.21,160.256 1011.37,160.256 1013.53,160.256 1015.69,160.256 1017.85,160.256 1020.01,160.256 1022.17,160.256 1024.33,160.256 1026.49,160.256 1028.65,160.256 1030.81,160.256 1032.97,160.256 1035.13,160.256 1037.29,160.256 1039.45,160.256 1041.61,160.256 1043.77,160.256 1045.93,160.256 1048.09,160.256 1050.25,160.256 1052.41,160.256 1054.57,160.256 1056.73,160.256 1058.89,160.256 1061.05,160.256 1063.21,160.256 1065.37,160.256 1067.53,160.256 1069.69,160.256 1071.85,160.256 1074.01,160.256 1076.17,160.256 1078.33,160.256 1080.49,160.256 1082.65,160.256 1084.81,160.256 1086.97,160.256 1089.13,160.256 1091.29,160.256 1093.45,160.256 1095.61,160.256 1097.77,160.256 1099.93,160.256 1102.09,160.256 1104.25,160.256 1106.41,160.256 1108.57,160.256 1110.73,160.256 1112.89,160.256 1115.05,160.256 1117.21,160.256 1119.37,160.256 1121.53,160.256 1123.69,160.256 1125.85,160.256 1128.01,160.256 1130.17,160.256 1132.33,160.256 1134.49,160.256 1136.65,160.256 1138.81,160.256 1140.97,160.256 1143.13,160.256 1145.29,160.256 1147.45,160.256 1149.61,160.256 1151.77,160.256 1153.93,160.256 1156.09,160.256 1158.25,160.256 1160.41,160.256 1162.57,160.256 1164.73,160.256 1166.89,160.256 1169.05,160.256 1171.21,160.256 1173.37,160.256 1175.53,160.256 1177.69,160.256 1179.85,160.256 1182.01,160.256 1184.17,160.256 1186.33,160.256 1188.49,160.256 1190.65,160.256 1192.81,160.256 1194.97,160.256 1197.13,160.256 1199.29,160.256 1201.45,160.256 1203.61,160.256 1205.77,160.256 1207.93,160.256 1210.09,160.256 1212.25,160.256 1214.41,160.256 1216.57,160.256 1218.73,160.256 1220.89,160.256 1223.05,160.256 1225.21,160.256 1227.37,160.256 1229.53,160.256 1231.69,160.256 1233.85,160.256 1236.01,160.256 1238.17,160.256 1240.33,160.256 1242.49,160.256 1244.65,160.256 1246.81,160.256 1248.97,160.256 1251.13,160.256 1253.29,160.256 1255.45,160.256 1257.61,160.256 1259.77,160.256 1261.93,160.256 1264.09,160.256 1266.25,160.256 1268.41,160.256 1270.57,160.256 1272.73,160.256 1274.89,160.256 1277.05,160.256 1279.21,160.256 1281.37,160.256 1283.53,160.256 1285.69,160.256 1287.85,160.256 1290.01,160.256 1292.17,160.256 1294.33,160.256 1296.49,160.256 1298.65,160.256 1300.81,160.256 1302.97,160.256 1305.13,160.256 1307.29,160.256 1309.45,160.256 1311.61,160.256 1313.77,160.256 1315.93,160.256 1318.09,160.256 1320.25,160.256 1322.41,160.256 1324.57,160.256 1326.73,160.256 1328.89,160.256 1331.05,160.256 1333.21,160.256 1335.37,160.256 1337.53,160.256 1339.69,160.256 1341.85,160.256 1344.01,160.256 1346.17,160.256 1348.33,160.256 1350.49,160.256 1352.65,160.256 1354.81,160.256 1356.97,160.256 1359.13,160.256 1361.29,160.256 1363.45,160.256 1365.61,160.256 1367.77,160.256 1369.93,160.256 1372.09,160.256 1374.25,160.256 1376.41,160.256 1378.57,160.256 1380.73,160.256 1382.89,160.256 1385.05,160.256 1387.22,160.256 1389.38,160.256 1391.54,160.256 1393.7,160.256 1395.86,160.256 1398.02,160.256 1400.18,160.256 1402.34,160.256 1404.5,160.256 1406.66,160.256 1408.82,160.256 1410.98,160.256 1413.14,160.256 1415.3,160.256 1417.46,160.256 1419.62,160.256 1421.78,160.256 1423.94,160.256 1426.1,160.256 1428.26,160.256 1430.42,160.256 1432.58,160.256 1434.74,160.256 1436.9,160.256 1439.06,160.256 1441.22,160.256 1443.38,160.256 1445.54,160.256 1447.7,160.256 1449.86,160.256 1452.02,160.256 1454.18,160.256 1456.34,160.256 1458.5,160.256 1460.66,160.256 1462.82,160.256 1464.98,160.256 1467.14,160.256 1469.3,160.256 1471.46,160.256 1473.62,160.256 1475.78,160.256 1477.94,160.256 1480.1,160.256 1482.26,160.256 1484.42,160.256 1486.58,160.256 1488.74,160.256 1490.9,160.256 1493.06,160.256 1495.22,160.256 1497.38,160.256 1499.54,160.256 1501.7,160.256 1503.86,160.256 1506.02,160.256 1508.18,160.256 1510.34,160.256 1512.5,160.256 1514.66,160.256 1516.82,160.256 1518.98,160.256 1521.14,160.256 1523.3,160.256 1525.46,160.256 1527.62,160.256 1529.78,160.256 1531.94,160.256 1534.1,160.256 1536.26,160.256 1538.42,160.256 1540.58,160.256 1542.74,160.256 1544.9,160.256 1547.06,160.256 1549.22,160.256 1551.38,160.256 1553.54,160.256 1555.7,160.256 1557.86,160.256 1560.02,160.256 1562.18,160.256 1564.34,160.256 1566.5,160.256 1568.66,160.256 1570.82,160.256 1572.98,160.256 1575.14,160.256 1577.3,160.256 1579.46,160.256 1581.62,160.256 1583.78,160.256 1585.94,160.256 1588.1,160.256 1590.26,160.256 1592.42,160.256 1594.58,160.256 1596.74,160.256 1598.9,160.256 1601.06,160.256 1603.22,160.256 1605.38,160.256 1607.54,160.256 1609.7,160.256 1611.86,160.256 1614.02,160.256 1616.18,160.256 1618.34,160.256 1620.5,160.256 1622.66,160.256 1624.82,160.256 1626.98,160.256 1629.14,160.256 1631.3,160.256 1633.46,160.256 1635.62,160.256 1637.78,160.256 1639.94,160.256 1642.1,160.256 1644.26,160.256 1646.42,160.256 1648.58,160.256 1650.74,160.256 1652.9,160.256 1655.06,160.256 1657.22,160.256 1659.38,160.256 1661.54,160.256 1663.7,160.256 1665.86,160.256 1668.02,160.256 1670.18,160.256 1672.34,160.256 1674.5,160.256 1676.66,160.256 1678.82,160.256 1680.98,160.256 1683.14,160.256 1685.3,160.256 1687.46,160.256 1689.62,160.256 1691.78,160.256 1693.94,160.256 1696.1,160.256 1698.26,160.256 1700.42,160.256 1702.58,160.256 1704.74,160.256 1706.9,160.256 1709.06,160.256 1711.22,160.256 1713.38,160.256 1715.54,160.256 1717.7,160.256 1719.86,160.256 1722.02,160.256 1724.18,160.256 1726.34,160.256 1728.5,160.256 1730.66,160.256 1732.82,160.256 1734.98,160.256 1737.14,160.256 1739.3,160.256 1741.46,160.256 1743.62,160.256 1745.78,160.256 1747.94,160.256 1750.1,160.256 1752.26,160.256 1754.42,160.256 1756.58,160.256 1758.74,160.256 1760.9,160.256 1763.06,160.256 1765.22,160.256 1767.38,160.256 1769.54,160.256 1771.7,160.256 1773.86,160.256 1776.02,160.256 1778.18,160.256 1780.34,160.256 1782.5,160.256 1784.66,160.256 1786.82,160.256 1788.98,160.256 1791.14,160.256 1793.3,160.256 1795.46,160.256 1797.62,160.256 1799.78,160.256 1801.94,160.256 1804.1,160.256 1806.26,160.256 1808.42,160.256 1810.58,160.256 1812.74,160.256 1814.9,160.256 1817.06,160.256 1819.22,160.256 1821.38,160.256 1823.54,160.256 1825.7,160.256 1827.86,160.256 1830.02,160.256 1832.18,160.256 1834.34,160.256 1836.5,160.256 1838.66,160.256 1840.82,160.256 1842.98,160.256 1845.14,160.256 1847.3,160.256 1849.47,160.256 1851.63,160.256 1853.79,160.256 1855.95,160.256 1858.11,160.256 1860.27,160.256 1862.43,160.256 1864.59,160.256 1866.75,160.256 1868.91,160.256 1871.07,160.256 1873.23,160.256 1875.39,160.256 1877.55,160.256 1879.71,160.256 1881.87,160.256 1884.03,160.256 1886.19,160.256 1888.35,160.256 1890.51,160.256 1892.67,160.256 1894.83,160.256 1896.99,160.256 1899.15,160.256 1901.31,160.256 1903.47,160.256 1905.63,160.256 1907.79,160.256 1909.95,160.256 1912.11,160.256 1914.27,160.256 1916.43,160.256 1918.59,160.256 1920.75,160.256 1922.91,160.256 1925.07,160.256 1927.23,160.256 1929.39,160.256 1931.55,160.256 1933.71,160.256 1935.87,160.256 1938.03,160.256 1940.19,160.256 1942.35,160.256 1944.51,160.256 1946.67,160.256 1948.83,160.256 1950.99,160.256 1953.15,160.256 1955.31,160.256 1957.47,160.256 1959.63,160.256 1961.79,160.256 1963.95,160.256 1966.11,160.256 1968.27,160.256 1970.43,160.256 1972.59,160.256 1974.75,160.256 1976.91,160.256 1979.07,160.256 1981.23,160.256 1983.39,160.256 1985.55,160.256 1987.71,160.256 1989.87,160.256 1992.03,160.256 1994.19,160.256 1996.35,160.256 1998.51,160.256 2000.67,160.256 2002.83,160.256 2004.99,160.256 2007.15,160.256 2009.31,160.256 2011.47,160.256 2013.63,160.256 2015.79,160.256 2017.95,160.256 2020.11,160.256 2022.27,160.256 2024.43,160.256 2026.59,160.256 2028.75,160.256 2030.91,160.256 2033.07,160.256 2035.23,160.256 2037.39,160.256 2039.55,160.256 2041.71,160.256 2043.87,160.256 2046.03,160.256 2048.19,160.256 2050.35,160.256 2052.51,160.256 2054.67,160.256 2056.83,160.256 2058.99,160.256 2061.15,160.256 2063.31,160.256 2065.47,160.256 2067.63,160.256 2069.79,160.256 2071.95,160.256 2074.11,160.256 2076.27,160.256 2078.43,160.256 2080.59,160.256 2082.75,160.256 2084.91,160.256 2087.07,160.256 2089.23,160.256 2091.39,160.256 2093.55,160.256 2095.71,160.256 2097.87,160.256 2100.03,160.256 2102.19,160.256 2104.35,160.256 2106.51,160.256 2108.67,160.256 2110.83,160.256 2112.99,160.256 2115.15,160.256 2117.31,160.256 2119.47,160.256 2121.63,160.256 2123.79,160.256 2125.95,160.256 2128.11,160.256 2130.27,160.256 2132.43,160.256 2134.59,160.256 2136.75,160.256 2138.91,160.256 2141.07,160.256 2143.23,160.256 2145.39,160.256 2147.55,160.256 2149.71,160.256 2151.87,160.256 2154.03,160.256 2156.19,160.256 2158.35,160.256 2160.51,160.256 2162.67,160.256 2164.83,160.256 2166.99,160.256 2169.15,160.256 2171.31,160.256 2173.47,160.256 2175.63,160.256 2177.79,160.256 2179.95,160.256 2182.11,160.256 2184.27,160.256 2186.43,160.256 2188.59,160.256 2190.75,160.256 2192.91,160.256 2195.07,160.256 2197.23,160.256 2199.39,160.256 2201.55,160.256 2203.71,160.256 2205.87,160.256 2208.03,160.256 2210.19,160.256 2212.35,160.256 2214.51,160.256 2216.67,160.256 2218.83,160.256 2220.99,160.256 2223.15,160.256 2225.31,160.256 2227.47,160.256 2229.63,160.256 2231.79,160.256 2233.95,160.256 2236.11,160.256 2238.27,160.256 2240.43,160.256 2242.59,160.256 2244.75,160.256 2246.91,160.256 2249.07,160.256 2251.23,160.256 2253.39,160.256 2255.55,160.256 2257.71,160.256 2259.87,160.256 2262.03,160.256 2264.19,160.256 2266.35,160.256 2268.51,160.256 2270.67,160.256 2272.83,160.256 2274.99,160.256 2277.15,160.256 2279.31,160.256 2281.47,160.256 2283.63,160.256 2285.79,160.256 2287.95,160.256 2290.11,160.256 2292.27,160.256 2294.43,160.256 2296.59,160.256 2298.75,160.256 2300.91,160.256 2303.07,160.256 2305.23,160.256 2307.39,160.256 2309.55,160.256 2311.72,160.256 2313.88,160.256 2316.04,160.256 2318.2,160.256 2320.36,160.256 2322.52,160.256 2324.68,160.256 2326.84,160.256 2329,160.256 2331.16,160.256 2333.32,160.256 2335.48,160.256 2337.64,160.256 2339.8,160.256 2341.96,160.256 2344.12,160.256 2346.28,160.256 2348.44,160.256 2350.6,160.256 2352.76,160.256 \"/>\n",
       "<polyline clip-path=\"url(#clip312)\" style=\"stroke:#3da44d; stroke-linecap:round; stroke-linejoin:round; stroke-width:4; stroke-opacity:1; fill:none\" points=\"192.709,937.934 194.869,937.934 197.029,937.934 199.189,937.934 201.349,937.934 203.509,937.934 205.669,937.934 207.829,937.934 209.99,937.934 212.15,937.934 214.31,937.933 216.47,937.933 218.63,937.933 220.79,937.933 222.95,937.933 225.11,937.933 227.27,937.933 229.43,937.933 231.59,937.933 233.75,937.933 235.91,937.932 238.07,937.932 240.23,937.932 242.39,937.932 244.55,937.932 246.71,937.932 248.87,937.931 251.03,937.931 253.19,937.931 255.351,937.93 257.511,937.93 259.671,937.93 261.831,937.929 263.991,937.929 266.151,937.929 268.311,937.928 270.471,937.928 272.631,937.927 274.791,937.926 276.951,937.926 279.111,937.925 281.271,937.924 283.431,937.924 285.591,937.923 287.751,937.922 289.911,937.921 292.071,937.92 294.231,937.919 296.391,937.917 298.551,937.916 300.711,937.915 302.872,937.913 305.032,937.911 307.192,937.91 309.352,937.908 311.512,937.906 313.672,937.904 315.832,937.901 317.992,937.899 320.152,937.896 322.312,937.894 324.472,937.891 326.632,937.888 328.792,937.884 330.952,937.881 333.112,937.877 335.272,937.873 337.432,937.868 339.592,937.864 341.752,937.859 343.912,937.853 346.072,937.848 348.233,937.842 350.393,937.836 352.553,937.829 354.713,937.822 356.873,937.814 359.033,937.806 361.193,937.798 363.353,937.789 365.513,937.779 367.673,937.769 369.833,937.758 371.993,937.747 374.153,937.734 376.313,937.722 378.473,937.708 380.633,937.694 382.793,937.678 384.953,937.662 387.113,937.645 389.273,937.627 391.433,937.608 393.594,937.588 395.754,937.566 397.914,937.544 400.074,937.52 402.234,937.495 404.394,937.469 406.554,937.441 408.714,937.412 410.874,937.381 413.034,937.348 415.194,937.314 417.354,937.277 419.514,937.239 421.674,937.199 423.834,937.157 425.994,937.113 428.154,937.066 430.314,937.017 432.474,936.966 434.634,936.912 436.794,936.855 438.954,936.795 441.115,936.733 443.275,936.667 445.435,936.599 447.595,936.527 449.755,936.451 451.915,936.373 454.075,936.29 456.235,936.203 458.395,936.113 460.555,936.018 462.715,935.919 464.875,935.816 467.035,935.708 469.195,935.595 471.355,935.478 473.515,935.355 475.675,935.227 477.835,935.093 479.995,934.954 482.155,934.809 484.315,934.658 486.476,934.501 488.636,934.337 490.796,934.167 492.956,933.99 495.116,933.806 497.276,933.615 499.436,933.417 501.596,933.211 503.756,932.998 505.916,932.776 508.076,932.546 510.236,932.308 512.396,932.062 514.556,931.806 516.716,931.542 518.876,931.269 521.036,930.986 523.196,930.694 525.356,930.393 527.516,930.081 529.676,929.76 531.836,929.429 533.997,929.087 536.157,928.735 538.317,928.372 540.477,927.999 542.637,927.615 544.797,927.22 546.957,926.814 549.117,926.397 551.277,925.969 553.437,925.53 555.597,925.079 557.757,924.617 559.917,924.144 562.077,923.66 564.237,923.164 566.397,922.657 568.557,922.139 570.717,921.61 572.877,921.07 575.037,920.519 577.197,919.958 579.358,919.386 581.518,918.803 583.678,918.21 585.838,917.608 587.998,916.996 590.158,916.374 592.318,915.744 594.478,915.105 596.638,914.457 598.798,913.802 600.958,913.139 603.118,912.469 605.278,911.792 607.438,911.11 609.598,910.422 611.758,909.729 613.918,909.031 616.078,908.33 618.238,907.626 620.398,906.92 622.558,906.211 624.719,905.502 626.879,904.793 629.039,904.084 631.199,903.377 633.359,902.672 635.519,901.97 637.679,901.272 639.839,900.578 641.999,899.891 644.159,899.21 646.319,898.537 648.479,897.873 650.639,897.218 652.799,896.574 654.959,895.941 657.119,895.321 659.279,894.714 661.439,894.122 663.599,893.545 665.759,892.985 667.919,892.443 670.079,891.919 672.24,891.414 674.4,890.93 676.56,890.467 678.72,890.027 680.88,889.61 683.04,889.216 685.2,888.848 687.36,888.505 689.52,888.189 691.68,887.9 693.84,887.639 696,887.407 698.16,887.204 700.32,887.031 702.48,886.888 704.64,886.776 706.8,886.696 708.96,886.647 711.12,886.63 713.28,886.645 715.44,886.693 717.601,886.774 719.761,886.887 721.921,887.033 724.081,887.212 726.241,887.423 728.401,887.667 730.561,887.943 732.721,888.251 734.881,888.591 737.041,888.962 739.201,889.363 741.361,889.794 743.521,890.255 745.681,890.745 747.841,891.263 750.001,891.808 752.161,892.379 754.321,892.976 756.481,893.598 758.641,894.243 760.801,894.911 762.961,895.6 765.122,896.309 767.282,897.038 769.442,897.784 771.602,898.548 773.762,899.326 775.922,900.119 778.082,900.925 780.242,901.742 782.402,902.57 784.562,903.407 786.722,904.251 788.882,905.101 791.042,905.956 793.202,906.815 795.362,907.676 797.522,908.538 799.682,909.4 801.842,910.26 804.002,911.118 806.162,911.971 808.322,912.82 810.483,913.662 812.643,914.496 814.803,915.323 816.963,916.14 819.123,916.946 821.283,917.741 823.443,918.524 825.603,919.294 827.763,920.051 829.923,920.793 832.083,921.519 834.243,922.23 836.403,922.925 838.563,923.603 840.723,924.264 842.883,924.908 845.043,925.533 847.203,926.14 849.363,926.729 851.523,927.3 853.683,927.851 855.844,928.385 858.004,928.899 860.164,929.395 862.324,929.872 864.484,930.33 866.644,930.77 868.804,931.193 870.964,931.597 873.124,931.983 875.284,932.352 877.444,932.705 879.604,933.04 881.764,933.359 883.924,933.663 886.084,933.95 888.244,934.223 890.404,934.481 892.564,934.725 894.724,934.956 896.884,935.173 899.044,935.377 901.204,935.569 903.365,935.75 905.525,935.919 907.685,936.077 909.845,936.225 912.005,936.364 914.165,936.493 916.325,936.613 918.485,936.724 920.645,936.828 922.805,936.924 924.965,937.013 927.125,937.095 929.285,937.171 931.445,937.241 933.605,937.306 935.765,937.365 937.925,937.42 940.085,937.469 942.245,937.515 944.405,937.557 946.565,937.595 948.726,937.629 950.886,937.661 953.046,937.689 955.206,937.715 957.366,937.739 959.526,937.76 961.686,937.779 963.846,937.796 966.006,937.812 968.166,937.826 970.326,937.838 972.486,937.85 974.646,937.86 976.806,937.868 978.966,937.876 981.126,937.883 983.286,937.89 985.446,937.895 987.606,937.9 989.766,937.905 991.926,937.908 994.086,937.912 996.247,937.915 998.407,937.917 1000.57,937.92 1002.73,937.921 1004.89,937.923 1007.05,937.925 1009.21,937.926 1011.37,937.927 1013.53,937.928 1015.69,937.929 1017.85,937.93 1020.01,937.93 1022.17,937.931 1024.33,937.931 1026.49,937.932 1028.65,937.932 1030.81,937.932 1032.97,937.933 1035.13,937.933 1037.29,937.933 1039.45,937.933 1041.61,937.933 1043.77,937.933 1045.93,937.933 1048.09,937.933 1050.25,937.934 1052.41,937.934 1054.57,937.934 1056.73,937.934 1058.89,937.934 1061.05,937.934 1063.21,937.934 1065.37,937.934 1067.53,937.934 1069.69,937.934 1071.85,937.934 1074.01,937.934 1076.17,937.934 1078.33,937.934 1080.49,937.934 1082.65,937.934 1084.81,937.934 1086.97,937.934 1089.13,937.934 1091.29,937.934 1093.45,937.934 1095.61,937.934 1097.77,937.934 1099.93,937.934 1102.09,937.934 1104.25,937.934 1106.41,937.934 1108.57,937.934 1110.73,937.934 1112.89,937.934 1115.05,937.934 1117.21,937.934 1119.37,937.934 1121.53,937.934 1123.69,937.934 1125.85,937.934 1128.01,937.934 1130.17,937.934 1132.33,937.934 1134.49,937.934 1136.65,937.934 1138.81,937.934 1140.97,937.934 1143.13,937.934 1145.29,937.934 1147.45,937.934 1149.61,937.934 1151.77,937.934 1153.93,937.934 1156.09,937.934 1158.25,937.934 1160.41,937.934 1162.57,937.934 1164.73,937.934 1166.89,937.934 1169.05,937.934 1171.21,937.934 1173.37,937.934 1175.53,937.934 1177.69,937.934 1179.85,937.934 1182.01,937.934 1184.17,937.934 1186.33,937.934 1188.49,937.934 1190.65,937.934 1192.81,937.934 1194.97,937.934 1197.13,937.934 1199.29,937.934 1201.45,937.934 1203.61,937.934 1205.77,937.934 1207.93,937.934 1210.09,937.934 1212.25,937.934 1214.41,937.934 1216.57,937.934 1218.73,937.934 1220.89,937.934 1223.05,937.934 1225.21,937.934 1227.37,937.934 1229.53,937.934 1231.69,937.934 1233.85,937.934 1236.01,937.934 1238.17,937.934 1240.33,937.934 1242.49,937.934 1244.65,937.934 1246.81,937.934 1248.97,937.934 1251.13,937.934 1253.29,937.934 1255.45,937.934 1257.61,937.934 1259.77,937.934 1261.93,937.934 1264.09,937.934 1266.25,937.934 1268.41,937.934 1270.57,937.934 1272.73,937.934 1274.89,937.934 1277.05,937.934 1279.21,937.934 1281.37,937.934 1283.53,937.934 1285.69,937.934 1287.85,937.934 1290.01,937.934 1292.17,937.934 1294.33,937.934 1296.49,937.934 1298.65,937.934 1300.81,937.934 1302.97,937.934 1305.13,937.934 1307.29,937.934 1309.45,937.934 1311.61,937.934 1313.77,937.934 1315.93,937.934 1318.09,937.934 1320.25,937.934 1322.41,937.934 1324.57,937.934 1326.73,937.934 1328.89,937.934 1331.05,937.934 1333.21,937.934 1335.37,937.934 1337.53,937.934 1339.69,937.934 1341.85,937.934 1344.01,937.934 1346.17,937.934 1348.33,937.934 1350.49,937.934 1352.65,937.934 1354.81,937.934 1356.97,937.934 1359.13,937.934 1361.29,937.934 1363.45,937.934 1365.61,937.934 1367.77,937.934 1369.93,937.934 1372.09,937.934 1374.25,937.934 1376.41,937.934 1378.57,937.934 1380.73,937.934 1382.89,937.934 1385.05,937.934 1387.22,937.934 1389.38,937.934 1391.54,937.934 1393.7,937.934 1395.86,937.934 1398.02,937.934 1400.18,937.934 1402.34,937.934 1404.5,937.934 1406.66,937.934 1408.82,937.934 1410.98,937.934 1413.14,937.934 1415.3,937.934 1417.46,937.934 1419.62,937.934 1421.78,937.934 1423.94,937.934 1426.1,937.934 1428.26,937.934 1430.42,937.934 1432.58,937.934 1434.74,937.934 1436.9,937.934 1439.06,937.934 1441.22,937.934 1443.38,937.934 1445.54,937.934 1447.7,937.934 1449.86,937.934 1452.02,937.934 1454.18,937.934 1456.34,937.934 1458.5,937.934 1460.66,937.934 1462.82,937.934 1464.98,937.934 1467.14,937.934 1469.3,937.934 1471.46,937.934 1473.62,937.934 1475.78,937.934 1477.94,937.934 1480.1,937.934 1482.26,937.934 1484.42,937.934 1486.58,937.934 1488.74,937.934 1490.9,937.934 1493.06,937.934 1495.22,937.934 1497.38,937.934 1499.54,937.934 1501.7,937.934 1503.86,937.934 1506.02,937.934 1508.18,937.934 1510.34,937.934 1512.5,937.934 1514.66,937.934 1516.82,937.934 1518.98,937.934 1521.14,937.934 1523.3,937.934 1525.46,937.934 1527.62,937.934 1529.78,937.934 1531.94,937.934 1534.1,937.934 1536.26,937.934 1538.42,937.934 1540.58,937.934 1542.74,937.934 1544.9,937.934 1547.06,937.934 1549.22,937.934 1551.38,937.934 1553.54,937.934 1555.7,937.934 1557.86,937.934 1560.02,937.934 1562.18,937.934 1564.34,937.934 1566.5,937.934 1568.66,937.934 1570.82,937.934 1572.98,937.934 1575.14,937.934 1577.3,937.934 1579.46,937.934 1581.62,937.934 1583.78,937.934 1585.94,937.934 1588.1,937.934 1590.26,937.934 1592.42,937.934 1594.58,937.934 1596.74,937.934 1598.9,937.934 1601.06,937.934 1603.22,937.934 1605.38,937.934 1607.54,937.934 1609.7,937.934 1611.86,937.934 1614.02,937.934 1616.18,937.934 1618.34,937.934 1620.5,937.934 1622.66,937.934 1624.82,937.934 1626.98,937.934 1629.14,937.934 1631.3,937.934 1633.46,937.934 1635.62,937.934 1637.78,937.934 1639.94,937.934 1642.1,937.934 1644.26,937.934 1646.42,937.934 1648.58,937.934 1650.74,937.934 1652.9,937.934 1655.06,937.934 1657.22,937.934 1659.38,937.934 1661.54,937.934 1663.7,937.934 1665.86,937.934 1668.02,937.934 1670.18,937.934 1672.34,937.934 1674.5,937.934 1676.66,937.934 1678.82,937.934 1680.98,937.934 1683.14,937.934 1685.3,937.934 1687.46,937.934 1689.62,937.934 1691.78,937.934 1693.94,937.934 1696.1,937.934 1698.26,937.934 1700.42,937.934 1702.58,937.934 1704.74,937.934 1706.9,937.934 1709.06,937.934 1711.22,937.934 1713.38,937.934 1715.54,937.934 1717.7,937.934 1719.86,937.934 1722.02,937.934 1724.18,937.934 1726.34,937.934 1728.5,937.934 1730.66,937.934 1732.82,937.934 1734.98,937.934 1737.14,937.934 1739.3,937.934 1741.46,937.934 1743.62,937.934 1745.78,937.934 1747.94,937.934 1750.1,937.934 1752.26,937.934 1754.42,937.934 1756.58,937.934 1758.74,937.934 1760.9,937.934 1763.06,937.934 1765.22,937.934 1767.38,937.934 1769.54,937.934 1771.7,937.934 1773.86,937.934 1776.02,937.934 1778.18,937.934 1780.34,937.934 1782.5,937.934 1784.66,937.934 1786.82,937.934 1788.98,937.934 1791.14,937.934 1793.3,937.934 1795.46,937.934 1797.62,937.934 1799.78,937.934 1801.94,937.934 1804.1,937.934 1806.26,937.934 1808.42,937.934 1810.58,937.934 1812.74,937.934 1814.9,937.934 1817.06,937.934 1819.22,937.934 1821.38,937.934 1823.54,937.934 1825.7,937.934 1827.86,937.934 1830.02,937.934 1832.18,937.934 1834.34,937.934 1836.5,937.934 1838.66,937.934 1840.82,937.934 1842.98,937.934 1845.14,937.934 1847.3,937.934 1849.47,937.934 1851.63,937.934 1853.79,937.934 1855.95,937.934 1858.11,937.934 1860.27,937.934 1862.43,937.934 1864.59,937.934 1866.75,937.934 1868.91,937.934 1871.07,937.934 1873.23,937.934 1875.39,937.934 1877.55,937.934 1879.71,937.934 1881.87,937.934 1884.03,937.934 1886.19,937.934 1888.35,937.934 1890.51,937.934 1892.67,937.934 1894.83,937.934 1896.99,937.934 1899.15,937.934 1901.31,937.934 1903.47,937.934 1905.63,937.934 1907.79,937.934 1909.95,937.934 1912.11,937.934 1914.27,937.934 1916.43,937.934 1918.59,937.934 1920.75,937.934 1922.91,937.934 1925.07,937.934 1927.23,937.934 1929.39,937.934 1931.55,937.934 1933.71,937.934 1935.87,937.934 1938.03,937.934 1940.19,937.934 1942.35,937.934 1944.51,937.934 1946.67,937.934 1948.83,937.934 1950.99,937.934 1953.15,937.934 1955.31,937.934 1957.47,937.934 1959.63,937.934 1961.79,937.934 1963.95,937.934 1966.11,937.934 1968.27,937.934 1970.43,937.934 1972.59,937.934 1974.75,937.934 1976.91,937.934 1979.07,937.934 1981.23,937.934 1983.39,937.934 1985.55,937.934 1987.71,937.934 1989.87,937.934 1992.03,937.934 1994.19,937.934 1996.35,937.934 1998.51,937.934 2000.67,937.934 2002.83,937.934 2004.99,937.934 2007.15,937.934 2009.31,937.934 2011.47,937.934 2013.63,937.934 2015.79,937.934 2017.95,937.934 2020.11,937.934 2022.27,937.934 2024.43,937.934 2026.59,937.934 2028.75,937.934 2030.91,937.934 2033.07,937.934 2035.23,937.934 2037.39,937.934 2039.55,937.934 2041.71,937.934 2043.87,937.934 2046.03,937.934 2048.19,937.934 2050.35,937.934 2052.51,937.934 2054.67,937.934 2056.83,937.934 2058.99,937.934 2061.15,937.934 2063.31,937.934 2065.47,937.934 2067.63,937.934 2069.79,937.934 2071.95,937.934 2074.11,937.934 2076.27,937.934 2078.43,937.934 2080.59,937.934 2082.75,937.934 2084.91,937.934 2087.07,937.934 2089.23,937.934 2091.39,937.934 2093.55,937.934 2095.71,937.934 2097.87,937.934 2100.03,937.934 2102.19,937.934 2104.35,937.934 2106.51,937.934 2108.67,937.934 2110.83,937.934 2112.99,937.934 2115.15,937.934 2117.31,937.934 2119.47,937.934 2121.63,937.934 2123.79,937.934 2125.95,937.934 2128.11,937.934 2130.27,937.934 2132.43,937.934 2134.59,937.934 2136.75,937.934 2138.91,937.934 2141.07,937.934 2143.23,937.934 2145.39,937.934 2147.55,937.934 2149.71,937.934 2151.87,937.934 2154.03,937.934 2156.19,937.934 2158.35,937.934 2160.51,937.934 2162.67,937.934 2164.83,937.934 2166.99,937.934 2169.15,937.934 2171.31,937.934 2173.47,937.934 2175.63,937.934 2177.79,937.934 2179.95,937.934 2182.11,937.934 2184.27,937.934 2186.43,937.934 2188.59,937.934 2190.75,937.934 2192.91,937.934 2195.07,937.934 2197.23,937.934 2199.39,937.934 2201.55,937.934 2203.71,937.934 2205.87,937.934 2208.03,937.934 2210.19,937.934 2212.35,937.934 2214.51,937.934 2216.67,937.934 2218.83,937.934 2220.99,937.934 2223.15,937.934 2225.31,937.934 2227.47,937.934 2229.63,937.934 2231.79,937.934 2233.95,937.934 2236.11,937.934 2238.27,937.934 2240.43,937.934 2242.59,937.934 2244.75,937.934 2246.91,937.934 2249.07,937.934 2251.23,937.934 2253.39,937.934 2255.55,937.934 2257.71,937.934 2259.87,937.934 2262.03,937.934 2264.19,937.934 2266.35,937.934 2268.51,937.934 2270.67,937.934 2272.83,937.934 2274.99,937.934 2277.15,937.934 2279.31,937.934 2281.47,937.934 2283.63,937.934 2285.79,937.934 2287.95,937.934 2290.11,937.934 2292.27,937.934 2294.43,937.934 2296.59,937.934 2298.75,937.934 2300.91,937.934 2303.07,937.934 2305.23,937.934 2307.39,937.934 2309.55,937.934 2311.72,937.934 2313.88,937.934 2316.04,937.934 2318.2,937.934 2320.36,937.934 2322.52,937.934 2324.68,937.934 2326.84,937.934 2329,937.934 2331.16,937.934 2333.32,937.934 2335.48,937.934 2337.64,937.934 2339.8,937.934 2341.96,937.934 2344.12,937.934 2346.28,937.934 2348.44,937.934 2350.6,937.934 2352.76,937.934 \"/>\n",
       "<polyline clip-path=\"url(#clip312)\" style=\"stroke:#c271d2; stroke-linecap:round; stroke-linejoin:round; stroke-width:4; stroke-opacity:1; fill:none\" points=\"192.709,937.913 194.869,937.911 197.029,937.908 199.189,937.905 201.349,937.902 203.509,937.898 205.669,937.894 207.829,937.89 209.99,937.885 212.15,937.88 214.31,937.875 216.47,937.869 218.63,937.863 220.79,937.856 222.95,937.848 225.11,937.84 227.27,937.832 229.43,937.822 231.59,937.812 233.75,937.802 235.91,937.79 238.07,937.778 240.23,937.764 242.39,937.75 244.55,937.735 246.71,937.718 248.87,937.7 251.03,937.681 253.19,937.661 255.351,937.639 257.511,937.615 259.671,937.59 261.831,937.564 263.991,937.535 266.151,937.504 268.311,937.471 270.471,937.436 272.631,937.399 274.791,937.358 276.951,937.316 279.111,937.27 281.271,937.221 283.431,937.17 285.591,937.114 287.751,937.055 289.911,936.993 292.071,936.926 294.231,936.855 296.391,936.779 298.551,936.699 300.711,936.613 302.872,936.522 305.032,936.425 307.192,936.323 309.352,936.214 311.512,936.098 313.672,935.975 315.832,935.845 317.992,935.707 320.152,935.56 322.312,935.405 324.472,935.24 326.632,935.066 328.792,934.882 330.952,934.687 333.112,934.48 335.272,934.262 337.432,934.031 339.592,933.787 341.752,933.529 343.912,933.256 346.072,932.969 348.233,932.665 350.393,932.344 352.553,932.006 354.713,931.65 356.873,931.274 359.033,930.878 361.193,930.46 363.353,930.021 365.513,929.558 367.673,929.071 369.833,928.559 371.993,928.02 374.153,927.453 376.313,926.858 378.473,926.232 380.633,925.575 382.793,924.886 384.953,924.162 387.113,923.402 389.273,922.605 391.433,921.77 393.594,920.895 395.754,919.978 397.914,919.018 400.074,918.012 402.234,916.96 404.394,915.86 406.554,914.709 408.714,913.506 410.874,912.249 413.034,910.937 415.194,909.566 417.354,908.136 419.514,906.644 421.674,905.087 423.834,903.465 425.994,901.775 428.154,900.015 430.314,898.183 432.474,896.275 434.634,894.292 436.794,892.229 438.954,890.086 441.115,887.859 443.275,885.547 445.435,883.147 447.595,880.657 449.755,878.076 451.915,875.4 454.075,872.628 456.235,869.758 458.395,866.788 460.555,863.715 462.715,860.538 464.875,857.255 467.035,853.864 469.195,850.364 471.355,846.752 473.515,843.027 475.675,839.189 477.835,835.235 479.995,831.164 482.155,826.976 484.315,822.669 486.476,818.243 488.636,813.697 490.796,809.03 492.956,804.244 495.116,799.337 497.276,794.31 499.436,789.163 501.596,783.897 503.756,778.514 505.916,773.013 508.076,767.398 510.236,761.669 512.396,755.829 514.556,749.88 516.716,743.826 518.876,737.668 521.036,731.411 523.196,725.058 525.356,718.614 527.516,712.083 529.676,705.471 531.836,698.782 533.997,692.022 536.157,685.198 538.317,678.317 540.477,671.385 542.637,664.41 544.797,657.401 546.957,650.364 549.117,643.311 551.277,636.249 553.437,629.189 555.597,622.141 557.757,615.115 559.917,608.124 562.077,601.178 564.237,594.29 566.397,587.471 568.557,580.736 570.717,574.098 572.877,567.569 575.037,561.164 577.197,554.898 579.358,548.786 581.518,542.842 583.678,537.081 585.838,531.52 587.998,526.174 590.158,521.059 592.318,516.191 594.478,511.587 596.638,507.263 598.798,503.236 600.958,499.522 603.118,496.136 605.278,493.097 607.438,490.42 609.598,488.12 611.758,486.214 613.918,484.718 616.078,483.646 618.238,483.013 620.398,482.834 622.558,483.122 624.719,483.891 626.879,485.153 629.039,486.921 631.199,489.205 633.359,492.016 635.519,495.364 637.679,499.258 639.839,503.705 641.999,508.712 644.159,514.285 646.319,520.428 648.479,527.144 650.639,534.437 652.799,542.306 654.959,550.752 657.119,559.772 659.279,569.364 661.439,579.523 663.599,590.243 665.759,601.517 667.919,613.336 670.079,625.689 672.24,638.565 674.4,651.95 676.56,665.83 678.72,680.187 680.88,695.005 683.04,710.263 685.2,725.942 687.36,742.018 689.52,758.468 691.68,775.268 693.84,792.391 696,809.809 698.16,827.495 700.32,845.418 702.48,863.547 704.64,881.851 706.8,900.298 708.96,918.854 711.12,937.484 713.28,956.154 715.44,974.83 717.601,993.474 719.761,1012.05 721.921,1030.53 724.081,1048.87 726.241,1067.03 728.401,1084.98 730.561,1102.69 732.721,1120.11 734.881,1137.22 737.041,1153.98 739.201,1170.36 741.361,1186.32 743.521,1201.84 745.681,1216.88 747.841,1231.41 750.001,1245.42 752.161,1258.86 754.321,1271.72 756.481,1283.97 758.641,1295.6 760.801,1306.58 762.961,1316.89 765.122,1326.52 767.282,1335.46 769.442,1343.7 771.602,1351.21 773.762,1358.01 775.922,1364.07 778.082,1369.41 780.242,1374.01 782.402,1377.87 784.562,1381.01 786.722,1383.43 788.882,1385.12 791.042,1386.11 793.202,1386.4 795.362,1386 797.522,1384.93 799.682,1383.21 801.842,1380.86 804.002,1377.89 806.162,1374.32 808.322,1370.18 810.483,1365.49 812.643,1360.28 814.803,1354.57 816.963,1348.38 819.123,1341.76 821.283,1334.72 823.443,1327.29 825.603,1319.5 827.763,1311.39 829.923,1302.98 832.083,1294.3 834.243,1285.39 836.403,1276.26 838.563,1266.96 840.723,1257.51 842.883,1247.93 845.043,1238.27 847.203,1228.53 849.363,1218.76 851.523,1208.97 853.683,1199.19 855.844,1189.45 858.004,1179.76 860.164,1170.15 862.324,1160.64 864.484,1151.25 866.644,1141.99 868.804,1132.89 870.964,1123.95 873.124,1115.2 875.284,1106.64 877.444,1098.28 879.604,1090.14 881.764,1082.23 883.924,1074.54 886.084,1067.1 888.244,1059.9 890.404,1052.95 892.564,1046.26 894.724,1039.81 896.884,1033.62 899.044,1027.69 901.204,1022.01 903.365,1016.58 905.525,1011.4 907.685,1006.47 909.845,1001.78 912.005,997.332 914.165,993.114 916.325,989.124 918.485,985.355 920.645,981.801 922.805,978.456 924.965,975.312 927.125,972.362 929.285,969.598 931.445,967.014 933.605,964.601 935.765,962.352 937.925,960.26 940.085,958.316 942.245,956.513 944.405,954.844 946.565,953.301 948.726,951.878 950.886,950.567 953.046,949.361 955.206,948.254 957.366,947.239 959.526,946.311 961.686,945.463 963.846,944.691 966.006,943.987 968.166,943.348 970.326,942.768 972.486,942.244 974.646,941.77 976.806,941.342 978.966,940.957 981.126,940.61 983.286,940.3 985.446,940.021 987.606,939.773 989.766,939.551 991.926,939.353 994.086,939.177 996.247,939.021 998.407,938.883 1000.57,938.761 1002.73,938.653 1004.89,938.558 1007.05,938.475 1009.21,938.402 1011.37,938.338 1013.53,938.282 1015.69,938.233 1017.85,938.191 1020.01,938.154 1022.17,938.122 1024.33,938.094 1026.49,938.071 1028.65,938.05 1030.81,938.032 1032.97,938.017 1035.13,938.004 1037.29,937.993 1039.45,937.984 1041.61,937.976 1043.77,937.969 1045.93,937.963 1048.09,937.958 1050.25,937.954 1052.41,937.951 1054.57,937.948 1056.73,937.945 1058.89,937.943 1061.05,937.942 1063.21,937.94 1065.37,937.939 1067.53,937.938 1069.69,937.937 1071.85,937.937 1074.01,937.936 1076.17,937.936 1078.33,937.935 1080.49,937.935 1082.65,937.935 1084.81,937.935 1086.97,937.934 1089.13,937.934 1091.29,937.934 1093.45,937.934 1095.61,937.934 1097.77,937.934 1099.93,937.934 1102.09,937.934 1104.25,937.934 1106.41,937.934 1108.57,937.934 1110.73,937.934 1112.89,937.934 1115.05,937.934 1117.21,937.934 1119.37,937.934 1121.53,937.934 1123.69,937.934 1125.85,937.934 1128.01,937.934 1130.17,937.934 1132.33,937.934 1134.49,937.934 1136.65,937.934 1138.81,937.934 1140.97,937.934 1143.13,937.934 1145.29,937.934 1147.45,937.934 1149.61,937.934 1151.77,937.934 1153.93,937.934 1156.09,937.934 1158.25,937.934 1160.41,937.934 1162.57,937.934 1164.73,937.934 1166.89,937.934 1169.05,937.934 1171.21,937.934 1173.37,937.934 1175.53,937.934 1177.69,937.934 1179.85,937.934 1182.01,937.934 1184.17,937.934 1186.33,937.934 1188.49,937.934 1190.65,937.934 1192.81,937.934 1194.97,937.934 1197.13,937.934 1199.29,937.934 1201.45,937.934 1203.61,937.934 1205.77,937.934 1207.93,937.934 1210.09,937.934 1212.25,937.934 1214.41,937.934 1216.57,937.934 1218.73,937.934 1220.89,937.934 1223.05,937.934 1225.21,937.934 1227.37,937.934 1229.53,937.934 1231.69,937.934 1233.85,937.934 1236.01,937.934 1238.17,937.934 1240.33,937.934 1242.49,937.934 1244.65,937.934 1246.81,937.934 1248.97,937.934 1251.13,937.934 1253.29,937.934 1255.45,937.934 1257.61,937.934 1259.77,937.934 1261.93,937.934 1264.09,937.934 1266.25,937.934 1268.41,937.934 1270.57,937.934 1272.73,937.934 1274.89,937.934 1277.05,937.934 1279.21,937.934 1281.37,937.934 1283.53,937.934 1285.69,937.934 1287.85,937.934 1290.01,937.934 1292.17,937.934 1294.33,937.934 1296.49,937.934 1298.65,937.934 1300.81,937.934 1302.97,937.934 1305.13,937.934 1307.29,937.934 1309.45,937.934 1311.61,937.934 1313.77,937.934 1315.93,937.934 1318.09,937.934 1320.25,937.934 1322.41,937.934 1324.57,937.934 1326.73,937.934 1328.89,937.934 1331.05,937.934 1333.21,937.934 1335.37,937.934 1337.53,937.934 1339.69,937.934 1341.85,937.934 1344.01,937.934 1346.17,937.934 1348.33,937.934 1350.49,937.934 1352.65,937.934 1354.81,937.934 1356.97,937.934 1359.13,937.934 1361.29,937.934 1363.45,937.934 1365.61,937.934 1367.77,937.934 1369.93,937.934 1372.09,937.934 1374.25,937.934 1376.41,937.934 1378.57,937.934 1380.73,937.934 1382.89,937.934 1385.05,937.934 1387.22,937.934 1389.38,937.934 1391.54,937.934 1393.7,937.934 1395.86,937.934 1398.02,937.934 1400.18,937.934 1402.34,937.934 1404.5,937.934 1406.66,937.934 1408.82,937.934 1410.98,937.934 1413.14,937.934 1415.3,937.934 1417.46,937.934 1419.62,937.934 1421.78,937.934 1423.94,937.934 1426.1,937.934 1428.26,937.934 1430.42,937.934 1432.58,937.934 1434.74,937.934 1436.9,937.934 1439.06,937.934 1441.22,937.934 1443.38,937.934 1445.54,937.934 1447.7,937.934 1449.86,937.934 1452.02,937.934 1454.18,937.934 1456.34,937.934 1458.5,937.934 1460.66,937.934 1462.82,937.934 1464.98,937.934 1467.14,937.934 1469.3,937.934 1471.46,937.934 1473.62,937.934 1475.78,937.934 1477.94,937.934 1480.1,937.934 1482.26,937.934 1484.42,937.934 1486.58,937.934 1488.74,937.934 1490.9,937.934 1493.06,937.934 1495.22,937.934 1497.38,937.934 1499.54,937.934 1501.7,937.934 1503.86,937.934 1506.02,937.934 1508.18,937.934 1510.34,937.934 1512.5,937.934 1514.66,937.934 1516.82,937.934 1518.98,937.934 1521.14,937.934 1523.3,937.934 1525.46,937.934 1527.62,937.934 1529.78,937.934 1531.94,937.934 1534.1,937.934 1536.26,937.934 1538.42,937.934 1540.58,937.934 1542.74,937.934 1544.9,937.934 1547.06,937.934 1549.22,937.934 1551.38,937.934 1553.54,937.934 1555.7,937.934 1557.86,937.934 1560.02,937.934 1562.18,937.934 1564.34,937.934 1566.5,937.934 1568.66,937.934 1570.82,937.934 1572.98,937.934 1575.14,937.934 1577.3,937.934 1579.46,937.934 1581.62,937.934 1583.78,937.934 1585.94,937.934 1588.1,937.934 1590.26,937.934 1592.42,937.934 1594.58,937.934 1596.74,937.934 1598.9,937.934 1601.06,937.934 1603.22,937.934 1605.38,937.934 1607.54,937.934 1609.7,937.934 1611.86,937.934 1614.02,937.934 1616.18,937.934 1618.34,937.934 1620.5,937.934 1622.66,937.934 1624.82,937.934 1626.98,937.934 1629.14,937.934 1631.3,937.934 1633.46,937.934 1635.62,937.934 1637.78,937.934 1639.94,937.934 1642.1,937.934 1644.26,937.934 1646.42,937.934 1648.58,937.934 1650.74,937.934 1652.9,937.934 1655.06,937.934 1657.22,937.934 1659.38,937.934 1661.54,937.934 1663.7,937.934 1665.86,937.934 1668.02,937.934 1670.18,937.934 1672.34,937.934 1674.5,937.934 1676.66,937.934 1678.82,937.934 1680.98,937.934 1683.14,937.934 1685.3,937.934 1687.46,937.934 1689.62,937.934 1691.78,937.934 1693.94,937.934 1696.1,937.934 1698.26,937.934 1700.42,937.934 1702.58,937.934 1704.74,937.934 1706.9,937.934 1709.06,937.934 1711.22,937.934 1713.38,937.934 1715.54,937.934 1717.7,937.934 1719.86,937.934 1722.02,937.934 1724.18,937.934 1726.34,937.934 1728.5,937.934 1730.66,937.934 1732.82,937.934 1734.98,937.934 1737.14,937.934 1739.3,937.934 1741.46,937.934 1743.62,937.934 1745.78,937.934 1747.94,937.934 1750.1,937.934 1752.26,937.934 1754.42,937.934 1756.58,937.934 1758.74,937.934 1760.9,937.934 1763.06,937.934 1765.22,937.934 1767.38,937.934 1769.54,937.934 1771.7,937.934 1773.86,937.934 1776.02,937.934 1778.18,937.934 1780.34,937.934 1782.5,937.934 1784.66,937.934 1786.82,937.934 1788.98,937.934 1791.14,937.934 1793.3,937.934 1795.46,937.934 1797.62,937.934 1799.78,937.934 1801.94,937.934 1804.1,937.934 1806.26,937.934 1808.42,937.934 1810.58,937.934 1812.74,937.934 1814.9,937.934 1817.06,937.934 1819.22,937.934 1821.38,937.934 1823.54,937.934 1825.7,937.934 1827.86,937.934 1830.02,937.934 1832.18,937.934 1834.34,937.934 1836.5,937.934 1838.66,937.934 1840.82,937.934 1842.98,937.934 1845.14,937.934 1847.3,937.934 1849.47,937.934 1851.63,937.934 1853.79,937.934 1855.95,937.934 1858.11,937.934 1860.27,937.934 1862.43,937.934 1864.59,937.934 1866.75,937.934 1868.91,937.934 1871.07,937.934 1873.23,937.934 1875.39,937.934 1877.55,937.934 1879.71,937.934 1881.87,937.934 1884.03,937.934 1886.19,937.934 1888.35,937.934 1890.51,937.934 1892.67,937.934 1894.83,937.934 1896.99,937.934 1899.15,937.934 1901.31,937.934 1903.47,937.934 1905.63,937.934 1907.79,937.934 1909.95,937.934 1912.11,937.934 1914.27,937.934 1916.43,937.934 1918.59,937.934 1920.75,937.934 1922.91,937.934 1925.07,937.934 1927.23,937.934 1929.39,937.934 1931.55,937.934 1933.71,937.934 1935.87,937.934 1938.03,937.934 1940.19,937.934 1942.35,937.934 1944.51,937.934 1946.67,937.934 1948.83,937.934 1950.99,937.934 1953.15,937.934 1955.31,937.934 1957.47,937.934 1959.63,937.934 1961.79,937.934 1963.95,937.934 1966.11,937.934 1968.27,937.934 1970.43,937.934 1972.59,937.934 1974.75,937.934 1976.91,937.934 1979.07,937.934 1981.23,937.934 1983.39,937.934 1985.55,937.934 1987.71,937.934 1989.87,937.934 1992.03,937.934 1994.19,937.934 1996.35,937.934 1998.51,937.934 2000.67,937.934 2002.83,937.934 2004.99,937.934 2007.15,937.934 2009.31,937.934 2011.47,937.934 2013.63,937.934 2015.79,937.934 2017.95,937.934 2020.11,937.934 2022.27,937.934 2024.43,937.934 2026.59,937.934 2028.75,937.934 2030.91,937.934 2033.07,937.934 2035.23,937.934 2037.39,937.934 2039.55,937.934 2041.71,937.934 2043.87,937.934 2046.03,937.934 2048.19,937.934 2050.35,937.934 2052.51,937.934 2054.67,937.934 2056.83,937.934 2058.99,937.934 2061.15,937.934 2063.31,937.934 2065.47,937.934 2067.63,937.934 2069.79,937.934 2071.95,937.934 2074.11,937.934 2076.27,937.934 2078.43,937.934 2080.59,937.934 2082.75,937.934 2084.91,937.934 2087.07,937.934 2089.23,937.934 2091.39,937.934 2093.55,937.934 2095.71,937.934 2097.87,937.934 2100.03,937.934 2102.19,937.934 2104.35,937.934 2106.51,937.934 2108.67,937.934 2110.83,937.934 2112.99,937.934 2115.15,937.934 2117.31,937.934 2119.47,937.934 2121.63,937.934 2123.79,937.934 2125.95,937.934 2128.11,937.934 2130.27,937.934 2132.43,937.934 2134.59,937.934 2136.75,937.934 2138.91,937.934 2141.07,937.934 2143.23,937.934 2145.39,937.934 2147.55,937.934 2149.71,937.934 2151.87,937.934 2154.03,937.934 2156.19,937.934 2158.35,937.934 2160.51,937.934 2162.67,937.934 2164.83,937.934 2166.99,937.934 2169.15,937.934 2171.31,937.934 2173.47,937.934 2175.63,937.934 2177.79,937.934 2179.95,937.934 2182.11,937.934 2184.27,937.934 2186.43,937.934 2188.59,937.934 2190.75,937.934 2192.91,937.934 2195.07,937.934 2197.23,937.934 2199.39,937.934 2201.55,937.934 2203.71,937.934 2205.87,937.934 2208.03,937.934 2210.19,937.934 2212.35,937.934 2214.51,937.934 2216.67,937.934 2218.83,937.934 2220.99,937.934 2223.15,937.934 2225.31,937.934 2227.47,937.934 2229.63,937.934 2231.79,937.934 2233.95,937.934 2236.11,937.934 2238.27,937.934 2240.43,937.934 2242.59,937.934 2244.75,937.934 2246.91,937.934 2249.07,937.934 2251.23,937.934 2253.39,937.934 2255.55,937.934 2257.71,937.934 2259.87,937.934 2262.03,937.934 2264.19,937.934 2266.35,937.934 2268.51,937.934 2270.67,937.934 2272.83,937.934 2274.99,937.934 2277.15,937.934 2279.31,937.934 2281.47,937.934 2283.63,937.934 2285.79,937.934 2287.95,937.934 2290.11,937.934 2292.27,937.934 2294.43,937.934 2296.59,937.934 2298.75,937.934 2300.91,937.934 2303.07,937.934 2305.23,937.934 2307.39,937.934 2309.55,937.934 2311.72,937.934 2313.88,937.934 2316.04,937.934 2318.2,937.934 2320.36,937.934 2322.52,937.934 2324.68,937.934 2326.84,937.934 2329,937.934 2331.16,937.934 2333.32,937.934 2335.48,937.934 2337.64,937.934 2339.8,937.934 2341.96,937.934 2344.12,937.934 2346.28,937.934 2348.44,937.934 2350.6,937.934 2352.76,937.934 \"/>\n",
       "<path clip-path=\"url(#clip310)\" d=\"M1871.21 1379.86 L2280.75 1379.86 L2280.75 1120.66 L1871.21 1120.66  Z\" fill=\"#ffffff\" fill-rule=\"evenodd\" fill-opacity=\"1\"/>\n",
       "<polyline clip-path=\"url(#clip310)\" style=\"stroke:#000000; stroke-linecap:round; stroke-linejoin:round; stroke-width:4; stroke-opacity:1; fill:none\" points=\"1871.21,1379.86 2280.75,1379.86 2280.75,1120.66 1871.21,1120.66 1871.21,1379.86 \"/>\n",
       "<polyline clip-path=\"url(#clip310)\" style=\"stroke:#009af9; stroke-linecap:round; stroke-linejoin:round; stroke-width:4; stroke-opacity:1; fill:none\" points=\"1895.21,1172.5 2039.21,1172.5 \"/>\n",
       "<path clip-path=\"url(#clip310)\" d=\"M2083.56 1168.83 Q2085.16 1165.96 2087.38 1164.59 Q2089.6 1163.23 2092.61 1163.23 Q2096.66 1163.23 2098.86 1166.07 Q2101.06 1168.9 2101.06 1174.13 L2101.06 1189.78 L2096.78 1189.78 L2096.78 1174.27 Q2096.78 1170.54 2095.46 1168.73 Q2094.14 1166.93 2091.43 1166.93 Q2088.12 1166.93 2086.2 1169.13 Q2084.28 1171.33 2084.28 1175.12 L2084.28 1189.78 L2080 1189.78 L2080 1174.27 Q2080 1170.52 2078.68 1168.73 Q2077.36 1166.93 2074.6 1166.93 Q2071.34 1166.93 2069.42 1169.15 Q2067.5 1171.35 2067.5 1175.12 L2067.5 1189.78 L2063.21 1189.78 L2063.21 1163.85 L2067.5 1163.85 L2067.5 1167.88 Q2068.95 1165.49 2070.99 1164.36 Q2073.03 1163.23 2075.83 1163.23 Q2078.65 1163.23 2080.62 1164.66 Q2082.61 1166.1 2083.56 1168.83 Z\" fill=\"#000000\" fill-rule=\"evenodd\" fill-opacity=\"1\" /><polyline clip-path=\"url(#clip310)\" style=\"stroke:#e26f46; stroke-linecap:round; stroke-linejoin:round; stroke-width:4; stroke-opacity:1; fill:none\" points=\"1895.21,1224.34 2039.21,1224.34 \"/>\n",
       "<path clip-path=\"url(#clip310)\" d=\"M2081.99 1228.68 Q2081.99 1223.98 2080.04 1221.32 Q2078.12 1218.63 2074.74 1218.63 Q2071.36 1218.63 2069.42 1221.32 Q2067.5 1223.98 2067.5 1228.68 Q2067.5 1233.38 2069.42 1236.06 Q2071.36 1238.72 2074.74 1238.72 Q2078.12 1238.72 2080.04 1236.06 Q2081.99 1233.38 2081.99 1228.68 M2067.5 1219.63 Q2068.84 1217.31 2070.88 1216.2 Q2072.94 1215.07 2075.78 1215.07 Q2080.5 1215.07 2083.44 1218.82 Q2086.41 1222.57 2086.41 1228.68 Q2086.41 1234.79 2083.44 1238.54 Q2080.5 1242.29 2075.78 1242.29 Q2072.94 1242.29 2070.88 1241.18 Q2068.84 1240.04 2067.5 1237.73 L2067.5 1241.62 L2063.21 1241.62 L2063.21 1205.6 L2067.5 1205.6 L2067.5 1219.63 Z\" fill=\"#000000\" fill-rule=\"evenodd\" fill-opacity=\"1\" /><path clip-path=\"url(#clip310)\" d=\"M2115.64 1227.59 L2115.64 1229.67 L2096.06 1229.67 Q2096.34 1234.07 2098.7 1236.38 Q2101.08 1238.68 2105.32 1238.68 Q2107.77 1238.68 2110.06 1238.07 Q2112.38 1237.47 2114.65 1236.27 L2114.65 1240.3 Q2112.36 1241.27 2109.95 1241.78 Q2107.54 1242.29 2105.06 1242.29 Q2098.86 1242.29 2095.23 1238.68 Q2091.62 1235.07 2091.62 1228.91 Q2091.62 1222.54 2095.04 1218.82 Q2098.49 1215.07 2104.32 1215.07 Q2109.56 1215.07 2112.59 1218.45 Q2115.64 1221.8 2115.64 1227.59 M2111.38 1226.34 Q2111.34 1222.84 2109.42 1220.76 Q2107.52 1218.68 2104.37 1218.68 Q2100.81 1218.68 2098.65 1220.69 Q2096.52 1222.7 2096.2 1226.36 L2111.38 1226.34 Z\" fill=\"#000000\" fill-rule=\"evenodd\" fill-opacity=\"1\" /><path clip-path=\"url(#clip310)\" d=\"M2126.85 1208.33 L2126.85 1215.69 L2135.62 1215.69 L2135.62 1219 L2126.85 1219 L2126.85 1233.07 Q2126.85 1236.25 2127.7 1237.15 Q2128.58 1238.05 2131.25 1238.05 L2135.62 1238.05 L2135.62 1241.62 L2131.25 1241.62 Q2126.31 1241.62 2124.44 1239.79 Q2122.56 1237.94 2122.56 1233.07 L2122.56 1219 L2119.44 1219 L2119.44 1215.69 L2122.56 1215.69 L2122.56 1208.33 L2126.85 1208.33 Z\" fill=\"#000000\" fill-rule=\"evenodd\" fill-opacity=\"1\" /><path clip-path=\"url(#clip310)\" d=\"M2153 1228.58 Q2147.84 1228.58 2145.85 1229.76 Q2143.86 1230.95 2143.86 1233.79 Q2143.86 1236.06 2145.34 1237.4 Q2146.85 1238.72 2149.42 1238.72 Q2152.96 1238.72 2155.09 1236.22 Q2157.24 1233.7 2157.24 1229.53 L2157.24 1228.58 L2153 1228.58 M2161.5 1226.82 L2161.5 1241.62 L2157.24 1241.62 L2157.24 1237.68 Q2155.78 1240.04 2153.61 1241.18 Q2151.43 1242.29 2148.28 1242.29 Q2144.3 1242.29 2141.94 1240.07 Q2139.6 1237.82 2139.6 1234.07 Q2139.6 1229.7 2142.52 1227.47 Q2145.46 1225.25 2151.27 1225.25 L2157.24 1225.25 L2157.24 1224.83 Q2157.24 1221.89 2155.3 1220.3 Q2153.37 1218.68 2149.88 1218.68 Q2147.66 1218.68 2145.55 1219.21 Q2143.44 1219.74 2141.5 1220.81 L2141.5 1216.87 Q2143.84 1215.97 2146.04 1215.53 Q2148.24 1215.07 2150.32 1215.07 Q2155.94 1215.07 2158.72 1217.98 Q2161.5 1220.9 2161.5 1226.82 Z\" fill=\"#000000\" fill-rule=\"evenodd\" fill-opacity=\"1\" /><polyline clip-path=\"url(#clip310)\" style=\"stroke:#3da44d; stroke-linecap:round; stroke-linejoin:round; stroke-width:4; stroke-opacity:1; fill:none\" points=\"1895.21,1276.18 2039.21,1276.18 \"/>\n",
       "<path clip-path=\"url(#clip310)\" d=\"M2063.21 1267.53 L2067.47 1267.53 L2072.8 1287.76 L2078.1 1267.53 L2083.12 1267.53 L2088.44 1287.76 L2093.75 1267.53 L2098 1267.53 L2091.22 1293.46 L2086.2 1293.46 L2080.62 1272.21 L2075.02 1293.46 L2070 1293.46 L2063.21 1267.53 Z\" fill=\"#000000\" fill-rule=\"evenodd\" fill-opacity=\"1\" /><path clip-path=\"url(#clip310)\" d=\"M2123.07 1280.52 Q2123.07 1275.82 2121.13 1273.16 Q2119.21 1270.47 2115.83 1270.47 Q2112.45 1270.47 2110.5 1273.16 Q2108.58 1275.82 2108.58 1280.52 Q2108.58 1285.22 2110.5 1287.9 Q2112.45 1290.56 2115.83 1290.56 Q2119.21 1290.56 2121.13 1287.9 Q2123.07 1285.22 2123.07 1280.52 M2108.58 1271.47 Q2109.93 1269.15 2111.96 1268.04 Q2114.02 1266.91 2116.87 1266.91 Q2121.59 1266.91 2124.53 1270.66 Q2127.5 1274.41 2127.5 1280.52 Q2127.5 1286.63 2124.53 1290.38 Q2121.59 1294.13 2116.87 1294.13 Q2114.02 1294.13 2111.96 1293.02 Q2109.93 1291.88 2108.58 1289.57 L2108.58 1293.46 L2104.3 1293.46 L2104.3 1257.44 L2108.58 1257.44 L2108.58 1271.47 Z\" fill=\"#000000\" fill-rule=\"evenodd\" fill-opacity=\"1\" /><path clip-path=\"url(#clip310)\" d=\"M2146.34 1280.42 Q2141.18 1280.42 2139.19 1281.6 Q2137.19 1282.79 2137.19 1285.63 Q2137.19 1287.9 2138.68 1289.24 Q2140.18 1290.56 2142.75 1290.56 Q2146.29 1290.56 2148.42 1288.06 Q2150.57 1285.54 2150.57 1281.37 L2150.57 1280.42 L2146.34 1280.42 M2154.83 1278.66 L2154.83 1293.46 L2150.57 1293.46 L2150.57 1289.52 Q2149.12 1291.88 2146.94 1293.02 Q2144.76 1294.13 2141.62 1294.13 Q2137.63 1294.13 2135.27 1291.91 Q2132.94 1289.66 2132.94 1285.91 Q2132.94 1281.54 2135.85 1279.31 Q2138.79 1277.09 2144.6 1277.09 L2150.57 1277.09 L2150.57 1276.67 Q2150.57 1273.73 2148.63 1272.14 Q2146.71 1270.52 2143.21 1270.52 Q2140.99 1270.52 2138.88 1271.05 Q2136.78 1271.58 2134.83 1272.65 L2134.83 1268.71 Q2137.17 1267.81 2139.37 1267.37 Q2141.57 1266.91 2143.65 1266.91 Q2149.28 1266.91 2152.06 1269.82 Q2154.83 1272.74 2154.83 1278.66 Z\" fill=\"#000000\" fill-rule=\"evenodd\" fill-opacity=\"1\" /><path clip-path=\"url(#clip310)\" d=\"M2178.63 1271.51 Q2177.91 1271.1 2177.06 1270.91 Q2176.22 1270.7 2175.2 1270.7 Q2171.59 1270.7 2169.65 1273.06 Q2167.73 1275.4 2167.73 1279.8 L2167.73 1293.46 L2163.44 1293.46 L2163.44 1267.53 L2167.73 1267.53 L2167.73 1271.56 Q2169.07 1269.2 2171.22 1268.06 Q2173.37 1266.91 2176.45 1266.91 Q2176.89 1266.91 2177.43 1266.97 Q2177.96 1267.02 2178.61 1267.14 L2178.63 1271.51 Z\" fill=\"#000000\" fill-rule=\"evenodd\" fill-opacity=\"1\" /><polyline clip-path=\"url(#clip310)\" style=\"stroke:#c271d2; stroke-linecap:round; stroke-linejoin:round; stroke-width:4; stroke-opacity:1; fill:none\" points=\"1895.21,1328.02 2039.21,1328.02 \"/>\n",
       "<path clip-path=\"url(#clip310)\" d=\"M2082.13 1323.31 L2082.13 1309.28 L2086.38 1309.28 L2086.38 1345.3 L2082.13 1345.3 L2082.13 1341.41 Q2080.78 1343.72 2078.72 1344.86 Q2076.69 1345.97 2073.81 1345.97 Q2069.12 1345.97 2066.15 1342.22 Q2063.21 1338.47 2063.21 1332.36 Q2063.21 1326.25 2066.15 1322.5 Q2069.12 1318.75 2073.81 1318.75 Q2076.69 1318.75 2078.72 1319.88 Q2080.78 1320.99 2082.13 1323.31 M2067.61 1332.36 Q2067.61 1337.06 2069.53 1339.74 Q2071.48 1342.4 2074.86 1342.4 Q2078.24 1342.4 2080.18 1339.74 Q2082.13 1337.06 2082.13 1332.36 Q2082.13 1327.66 2080.18 1325 Q2078.24 1322.31 2074.86 1322.31 Q2071.48 1322.31 2069.53 1325 Q2067.61 1327.66 2067.61 1332.36 Z\" fill=\"#000000\" fill-rule=\"evenodd\" fill-opacity=\"1\" /><path clip-path=\"url(#clip310)\" d=\"M2117.33 1331.27 L2117.33 1333.35 L2097.75 1333.35 Q2098.03 1337.75 2100.39 1340.06 Q2102.77 1342.36 2107.01 1342.36 Q2109.46 1342.36 2111.75 1341.75 Q2114.07 1341.15 2116.34 1339.95 L2116.34 1343.98 Q2114.05 1344.95 2111.64 1345.46 Q2109.23 1345.97 2106.75 1345.97 Q2100.55 1345.97 2096.92 1342.36 Q2093.31 1338.75 2093.31 1332.59 Q2093.31 1326.22 2096.73 1322.5 Q2100.18 1318.75 2106.01 1318.75 Q2111.25 1318.75 2114.28 1322.13 Q2117.33 1325.48 2117.33 1331.27 M2113.07 1330.02 Q2113.03 1326.52 2111.11 1324.44 Q2109.21 1322.36 2106.06 1322.36 Q2102.5 1322.36 2100.34 1324.37 Q2098.21 1326.38 2097.89 1330.04 L2113.07 1330.02 Z\" fill=\"#000000\" fill-rule=\"evenodd\" fill-opacity=\"1\" /><path clip-path=\"url(#clip310)\" d=\"M2139.35 1323.35 Q2138.63 1322.94 2137.77 1322.75 Q2136.94 1322.54 2135.92 1322.54 Q2132.31 1322.54 2130.37 1324.9 Q2128.44 1327.24 2128.44 1331.64 L2128.44 1345.3 L2124.16 1345.3 L2124.16 1319.37 L2128.44 1319.37 L2128.44 1323.4 Q2129.79 1321.04 2131.94 1319.9 Q2134.09 1318.75 2137.17 1318.75 Q2137.61 1318.75 2138.14 1318.81 Q2138.68 1318.86 2139.32 1318.98 L2139.35 1323.35 Z\" fill=\"#000000\" fill-rule=\"evenodd\" fill-opacity=\"1\" /><path clip-path=\"url(#clip310)\" d=\"M2141.34 1319.37 L2145.6 1319.37 L2150.92 1339.6 L2156.22 1319.37 L2161.25 1319.37 L2166.57 1339.6 L2171.87 1319.37 L2176.13 1319.37 L2169.35 1345.3 L2164.32 1345.3 L2158.75 1324.05 L2153.14 1345.3 L2148.12 1345.3 L2141.34 1319.37 Z\" fill=\"#000000\" fill-rule=\"evenodd\" fill-opacity=\"1\" /><path clip-path=\"url(#clip310)\" d=\"M2201.2 1332.36 Q2201.2 1327.66 2199.25 1325 Q2197.33 1322.31 2193.95 1322.31 Q2190.57 1322.31 2188.63 1325 Q2186.71 1327.66 2186.71 1332.36 Q2186.71 1337.06 2188.63 1339.74 Q2190.57 1342.4 2193.95 1342.4 Q2197.33 1342.4 2199.25 1339.74 Q2201.2 1337.06 2201.2 1332.36 M2186.71 1323.31 Q2188.05 1320.99 2190.09 1319.88 Q2192.15 1318.75 2194.99 1318.75 Q2199.72 1318.75 2202.66 1322.5 Q2205.62 1326.25 2205.62 1332.36 Q2205.62 1338.47 2202.66 1342.22 Q2199.72 1345.97 2194.99 1345.97 Q2192.15 1345.97 2190.09 1344.86 Q2188.05 1343.72 2186.71 1341.41 L2186.71 1345.3 L2182.43 1345.3 L2182.43 1309.28 L2186.71 1309.28 L2186.71 1323.31 Z\" fill=\"#000000\" fill-rule=\"evenodd\" fill-opacity=\"1\" /><path clip-path=\"url(#clip310)\" d=\"M2224.46 1332.26 Q2219.3 1332.26 2217.31 1333.44 Q2215.32 1334.63 2215.32 1337.47 Q2215.32 1339.74 2216.8 1341.08 Q2218.3 1342.4 2220.87 1342.4 Q2224.42 1342.4 2226.55 1339.9 Q2228.7 1337.38 2228.7 1333.21 L2228.7 1332.26 L2224.46 1332.26 M2232.96 1330.5 L2232.96 1345.3 L2228.7 1345.3 L2228.7 1341.36 Q2227.24 1343.72 2225.06 1344.86 Q2222.89 1345.97 2219.74 1345.97 Q2215.76 1345.97 2213.4 1343.75 Q2211.06 1341.5 2211.06 1337.75 Q2211.06 1333.38 2213.98 1331.15 Q2216.92 1328.93 2222.73 1328.93 L2228.7 1328.93 L2228.7 1328.51 Q2228.7 1325.57 2226.75 1323.98 Q2224.83 1322.36 2221.34 1322.36 Q2219.12 1322.36 2217.01 1322.89 Q2214.9 1323.42 2212.96 1324.49 L2212.96 1320.55 Q2215.3 1319.65 2217.49 1319.21 Q2219.69 1318.75 2221.78 1318.75 Q2227.4 1318.75 2230.18 1321.66 Q2232.96 1324.58 2232.96 1330.5 Z\" fill=\"#000000\" fill-rule=\"evenodd\" fill-opacity=\"1\" /><path clip-path=\"url(#clip310)\" d=\"M2256.75 1323.35 Q2256.04 1322.94 2255.18 1322.75 Q2254.35 1322.54 2253.33 1322.54 Q2249.72 1322.54 2247.77 1324.9 Q2245.85 1327.24 2245.85 1331.64 L2245.85 1345.3 L2241.57 1345.3 L2241.57 1319.37 L2245.85 1319.37 L2245.85 1323.4 Q2247.19 1321.04 2249.35 1319.9 Q2251.5 1318.75 2254.58 1318.75 Q2255.02 1318.75 2255.55 1318.81 Q2256.08 1318.86 2256.73 1318.98 L2256.75 1323.35 Z\" fill=\"#000000\" fill-rule=\"evenodd\" fill-opacity=\"1\" /></svg>\n"
      ]
     },
     "execution_count": 33,
     "metadata": {},
     "output_type": "execute_result"
    }
   ],
   "source": [
    "using Plots #showing initial data and the initial status of the horizon finder\n",
    "plot((initX[4:L-3]), state_array[4:L-3,1:4], xaxis=\"r\",title=\"Initial Data\", labels=[\"m\" \"beta\" \"wbar\" \"derwbar\"],xlim=[0,1])"
   ]
  },
  {
   "cell_type": "code",
   "execution_count": 34,
   "id": "15bbf245",
   "metadata": {},
   "outputs": [],
   "source": [
    "function compactify(r)\n",
    "    return r/(1+r)\n",
    "end\n",
    "function uncompactify(x)\n",
    "    return x/(1-x)\n",
    "end;"
   ]
  },
  {
   "cell_type": "markdown",
   "id": "9b444ece",
   "metadata": {
    "papermill": {
     "duration": 0.009161,
     "end_time": "2023-03-28T18:06:25.373170",
     "exception": false,
     "start_time": "2023-03-28T18:06:25.364009",
     "status": "completed"
    },
    "tags": []
   },
   "source": [
    "# Defining the initial state array for the evolution m β Ψ and Ψ,x"
   ]
  },
  {
   "cell_type": "code",
   "execution_count": 35,
   "id": "9902ffab",
   "metadata": {
    "execution": {
     "iopub.execute_input": "2023-03-28T19:06:25.389000Z",
     "iopub.status.busy": "2023-03-28T19:06:25.388000Z",
     "iopub.status.idle": "2023-03-28T19:06:32.710000Z",
     "shell.execute_reply": "2023-03-28T19:06:32.710000Z"
    },
    "papermill": {
     "duration": 7.335269,
     "end_time": "2023-03-28T18:06:32.715990",
     "exception": false,
     "start_time": "2023-03-28T18:06:25.380721",
     "status": "completed"
    },
    "tags": []
   },
   "outputs": [],
   "source": [
    "using CSV, Tables\n",
    "#CSV.write(dir*\"/res$res/time_step0.csv\", Tables.table(state_array), writeheader=false)\n",
    "\n",
    "global files=[\"m\", \"beta\", \"xi\", \"derxi\", \"derderxi\"]\n",
    "\n",
    "derderxi=Der_arrayLOP(state_array,4,initX) .* (initX .- 1) .^ 2\n",
    "print_muninn(files, 0, [state_array[:,1:4] derderxi],res,\"w\", initX)"
   ]
  },
  {
   "cell_type": "code",
   "execution_count": 36,
   "id": "fff1426a",
   "metadata": {
    "execution": {
     "iopub.execute_input": "2023-03-28T19:06:33.154000Z",
     "iopub.status.busy": "2023-03-28T19:06:32.734000Z",
     "iopub.status.idle": "2023-03-28T19:06:33.884000Z",
     "shell.execute_reply": "2023-03-28T19:06:33.884000Z"
    },
    "papermill": {
     "duration": 1.164178,
     "end_time": "2023-03-28T18:06:33.889802",
     "exception": false,
     "start_time": "2023-03-28T18:06:32.725624",
     "status": "completed"
    },
    "tags": []
   },
   "outputs": [],
   "source": [
    "time=0.0\n",
    "criticality=0.0\n",
    "explode=0.0\n",
    "evol_stats = [criticality A sigma r0 time explode run]\n",
    "global monitor_ratio = zeros(L);\n",
    "#CSV.write(dir*\"/parameters.csv\", Tables.table(evol_stats), writeheader=true, header=[\"criticality\", \"A\", \"sigma\", \"r0\", \"time\", \"explode\", \"run\"])"
   ]
  },
  {
   "cell_type": "code",
   "execution_count": 37,
   "id": "9e9abd7d",
   "metadata": {},
   "outputs": [
    {
     "name": "stdout",
     "output_type": "stream",
     "text": [
      "1.0\n"
     ]
    }
   ],
   "source": [
    "ginit=speed(initX,state_array[:,1],state_array[:,2])\n",
    "println(update_dt(initX,state_array[:,1],state_array[:,2],dx,ginit)/dt)"
   ]
  },
  {
   "cell_type": "code",
   "execution_count": 38,
   "id": "4e0df300",
   "metadata": {},
   "outputs": [
    {
     "data": {
      "text/plain": [
       "4"
      ]
     },
     "execution_count": 38,
     "metadata": {},
     "output_type": "execute_result"
    }
   ],
   "source": [
    "using Base.Threads\n",
    "Threads.nthreads()"
   ]
  },
  {
   "cell_type": "code",
   "execution_count": 39,
   "id": "b0219015",
   "metadata": {},
   "outputs": [
    {
     "data": {
      "text/plain": [
       "0.46909779366831617"
      ]
     },
     "execution_count": 39,
     "metadata": {},
     "output_type": "execute_result"
    }
   ],
   "source": [
    "monitor_ratio[5:L-4] = 2 .* state_array[5:L-4,1] ./ initX[5:L-4] .* (1 .- initX[5:L-4]);\n",
    "maximum(monitor_ratio)"
   ]
  },
  {
   "cell_type": "code",
   "execution_count": 40,
   "id": "27a5bccd",
   "metadata": {},
   "outputs": [
    {
     "data": {
      "text/plain": [
       "0.002"
      ]
     },
     "execution_count": 40,
     "metadata": {},
     "output_type": "execute_result"
    }
   ],
   "source": [
    "dt=0.002/2^(m-1)"
   ]
  },
  {
   "cell_type": "markdown",
   "id": "42e2c73d",
   "metadata": {
    "papermill": {
     "duration": 0.007626,
     "end_time": "2023-03-28T18:06:33.908346",
     "exception": false,
     "start_time": "2023-03-28T18:06:33.900720",
     "status": "completed"
    },
    "tags": []
   },
   "source": [
    " ## Time evolution"
   ]
  },
  {
   "cell_type": "markdown",
   "id": "7da47594",
   "metadata": {
    "papermill": {
     "duration": 0.007471,
     "end_time": "2023-03-28T18:06:33.923805",
     "exception": false,
     "start_time": "2023-03-28T18:06:33.916334",
     "status": "completed"
    },
    "tags": []
   },
   "source": [
    "fixed grid"
   ]
  },
  {
   "cell_type": "code",
   "execution_count": 41,
   "id": "fcb7ae3f",
   "metadata": {
    "execution": {
     "iopub.execute_input": "2023-03-28T19:06:33.940000Z",
     "iopub.status.busy": "2023-03-28T19:06:33.940000Z",
     "iopub.status.idle": "2023-03-28T21:02:19.379000Z",
     "shell.execute_reply": "2023-03-28T21:02:19.378000Z"
    },
    "papermill": {
     "duration": 6945.452732,
     "end_time": "2023-03-28T20:02:19.384591",
     "exception": false,
     "start_time": "2023-03-28T18:06:33.931859",
     "status": "completed"
    },
    "tags": []
   },
   "outputs": [
    {
     "name": "stdout",
     "output_type": "stream",
     "text": [
      "\n",
      "\n",
      "iteration 500 dt is 0.000200400600801087, t=0.10020030040164439 speed is 0.49900049999978646, dx/dt=4.990004999997864\n",
      "\n",
      "\n",
      "iteration 1000 dt is 0.00020040060080469939, t=0.20040060080268213 speed is 0.4990004999907915, dx/dt=4.990004999907915\n",
      "\n",
      "\n",
      "iteration 1500 dt is 0.00020040060083233665, t=0.3006009012105846 speed is 0.49900049992197437, dx/dt=4.990004999219742\n",
      "\n",
      "\n",
      "iteration 2000 dt is 0.00020040060083580084, t=0.40080120163181016 speed is 0.49900049991334844, dx/dt=4.990004999133484\n",
      "\n",
      "\n",
      "iteration 2500 dt is 0.00016681771245197346, t=0.4930464897853089 speed is 0.5994567275269995, dx/dt=5.994567275269994\n",
      "\n",
      "\n",
      "iteration 3000 dt is 0.00014691591432836143, t=0.5709559752528829 speed is 0.6806614549360326, dx/dt=6.806614549360325\n",
      "\n",
      "\n",
      "iteration 3500 dt is 0.0001283913818409338, t=0.6397854300827389 speed is 0.7788684767322752, dx/dt=7.788684767322752\n",
      "\n",
      "\n",
      "iteration 4000 dt is 0.00011169969850519976, t=0.6995885306560647 speed is 0.8952575641495119, dx/dt=8.952575641495118\n",
      "\n",
      "\n",
      "iteration 4500 dt is 0.00010185212450284097, t=0.752883176163368 speed is 0.9818155535598151, dx/dt=9.81815553559815\n",
      "Supercritical evolution! At time 0.7655619116098128, iteration = 4626\n",
      "t = 0.7655619116098128iteration 4626 monitor ratio = 0.7000057848331992\n",
      "\n",
      "\n",
      "iteration 5000 dt is 9.940231381486982e-5, t=0.8027383769765813 speed is 1.107787376877354, dx/dt=10.060127995233927\n",
      "\n",
      "\n",
      "iteration 5500 dt is 9.940231381486982e-5, t=0.8524395338840259 speed is 1.278113579606617, dx/dt=10.060127995233927\n",
      "\n",
      "\n",
      "iteration 6000 dt is 9.940231381486982e-5, t=0.9021406907914705 speed is 2.0973988170877824, dx/dt=10.060127995233927\n",
      "\n",
      "\n",
      "Hessian is really big!\n",
      "\n",
      "104624.48264715196 time is 0.9222199581820781\n"
     ]
    }
   ],
   "source": [
    "finaltime=1.5\n",
    "evol_stats, T_interp = timeevolution(state_array,finaltime,run);\n",
    "#CSV.write(dir*\"/timearray$res.csv\", Tables.table(T_interp), writeheader=false);\n",
    "#CSV.write(dir*\"/parameters.csv\", Tables.table(evol_stats), writeheader=false);"
   ]
  },
  {
   "cell_type": "code",
   "execution_count": null,
   "id": "ef57be5a",
   "metadata": {},
   "outputs": [],
   "source": []
  },
  {
   "cell_type": "code",
   "execution_count": null,
   "id": "fa24f38b",
   "metadata": {},
   "outputs": [],
   "source": []
  },
  {
   "cell_type": "code",
   "execution_count": null,
   "id": "26374227",
   "metadata": {},
   "outputs": [],
   "source": []
  },
  {
   "cell_type": "code",
   "execution_count": null,
   "id": "b45c67a8",
   "metadata": {},
   "outputs": [],
   "source": []
  }
 ],
 "metadata": {
  "@webio": {
   "lastCommId": null,
   "lastKernelId": null
  },
  "kernelspec": {
   "display_name": "Julia 1.8.0",
   "language": "julia",
   "name": "julia-1.8"
  },
  "language_info": {
   "file_extension": ".jl",
   "mimetype": "application/julia",
   "name": "julia",
   "version": "1.8.0"
  },
  "papermill": {
   "default_parameters": {},
   "duration": 7025.507115,
   "end_time": "2023-03-28T20:03:06.430756",
   "environment_variables": {},
   "exception": null,
   "input_path": "Evolution_ScalarField.ipynb",
   "output_path": "Evolution_ScalarField.ipynb",
   "parameters": {
    "A": 0.001,
    "m": 3
   },
   "start_time": "2023-03-28T18:06:00.923641",
   "version": "2.4.0"
  }
 },
 "nbformat": 4,
 "nbformat_minor": 5
}
