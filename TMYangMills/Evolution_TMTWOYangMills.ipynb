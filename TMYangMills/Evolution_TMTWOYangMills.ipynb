{
 "cells": [
  {
   "cell_type": "markdown",
   "id": "d88601a8",
   "metadata": {
    "papermill": {
     "duration": 0.010813,
     "end_time": "2023-03-28T18:06:09.878411",
     "exception": false,
     "start_time": "2023-03-28T18:06:09.867598",
     "status": "completed"
    },
    "tags": []
   },
   "source": [
    "# Evolution of Einstein's equations"
   ]
  },
  {
   "cell_type": "markdown",
   "id": "03c607c7",
   "metadata": {
    "papermill": {
     "duration": 0.006777,
     "end_time": "2023-03-28T18:06:09.893152",
     "exception": false,
     "start_time": "2023-03-28T18:06:09.886375",
     "status": "completed"
    },
    "tags": []
   },
   "source": [
    "# Initial data , setting length of the domain and discretization\n"
   ]
  },
  {
   "cell_type": "markdown",
   "id": "43aebde7",
   "metadata": {
    "execution": {
     "iopub.execute_input": "2023-03-28T19:06:10.907000Z",
     "iopub.status.busy": "2023-03-28T19:06:09.907000Z",
     "iopub.status.idle": "2023-03-28T19:06:12.147000Z",
     "shell.execute_reply": "2023-03-28T19:06:12.110000Z"
    },
    "papermill": {
     "duration": 2.251282,
     "end_time": "2023-03-28T18:06:12.151193",
     "exception": false,
     "start_time": "2023-03-28T18:06:09.899911",
     "status": "completed"
    },
    "tags": [
     "injected-parameters"
    ]
   },
   "source": [
    "# Parameters"
   ]
  },
  {
   "cell_type": "code",
   "execution_count": 335,
   "id": "a28c43b6",
   "metadata": {},
   "outputs": [
    {
     "data": {
      "text/plain": [
       "1"
      ]
     },
     "execution_count": 335,
     "metadata": {},
     "output_type": "execute_result"
    }
   ],
   "source": [
    "m=4\n",
    "p = 0.01#0.4\n",
    "q = 1#1.0#0.1#0.1#0.01#0.9#0.01#0.5 #Pure SF is q=0\n",
    "run = 1"
   ]
  },
  {
   "cell_type": "markdown",
   "id": "b3b8c463",
   "metadata": {},
   "source": [
    "Choose your grid"
   ]
  },
  {
   "cell_type": "code",
   "execution_count": 336,
   "id": "809ea402",
   "metadata": {},
   "outputs": [
    {
     "data": {
      "text/plain": [
       "false"
      ]
     },
     "execution_count": 336,
     "metadata": {},
     "output_type": "execute_result"
    }
   ],
   "source": [
    "global compactified=true\n",
    "global loggrid=false\n",
    "global bisection=false\n",
    "global zeroformat=false\n",
    "global twod=true\n",
    "\n",
    "global source=false"
   ]
  },
  {
   "cell_type": "code",
   "execution_count": 337,
   "id": "73b14643",
   "metadata": {},
   "outputs": [
    {
     "data": {
      "text/plain": [
       "compactify (generic function with 1 method)"
      ]
     },
     "execution_count": 337,
     "metadata": {},
     "output_type": "execute_result"
    }
   ],
   "source": [
    "function compactify(r)\n",
    "    x=r/(1+r)\n",
    "    return x\n",
    "end"
   ]
  },
  {
   "cell_type": "code",
   "execution_count": 338,
   "id": "80a113e0",
   "metadata": {},
   "outputs": [],
   "source": [
    "using Quadmath, Printf\n",
    "\n",
    "res=m;\n",
    "N=2.0^m*100.0/2.0\n",
    "\n",
    "if compactified==true\n",
    "    Xf=1.0\n",
    "else\n",
    "    Xf=2.0\n",
    "end\n",
    "\n",
    "dx=Xf/N\n",
    "if loggrid==false\n",
    "    dt=0.5*round(dx,digits=10)\n",
    "else\n",
    "    dt=0.1*round(dx,digits=10)\n",
    "end\n",
    "Nt=N\n",
    "Tf=Nt*dt;"
   ]
  },
  {
   "cell_type": "code",
   "execution_count": 339,
   "id": "4f752d54",
   "metadata": {
    "execution": {
     "iopub.execute_input": "2023-03-28T19:06:12.356000Z",
     "iopub.status.busy": "2023-03-28T19:06:12.356000Z",
     "iopub.status.idle": "2023-03-28T19:06:12.364000Z",
     "shell.execute_reply": "2023-03-28T19:06:12.364000Z"
    },
    "papermill": {
     "duration": 0.020815,
     "end_time": "2023-03-28T18:06:12.368761",
     "exception": false,
     "start_time": "2023-03-28T18:06:12.347946",
     "status": "completed"
    },
    "tags": []
   },
   "outputs": [
    {
     "name": "stdout",
     "output_type": "stream",
     "text": [
      "800.0"
     ]
    }
   ],
   "source": [
    "print(N)"
   ]
  },
  {
   "cell_type": "code",
   "execution_count": 340,
   "id": "78fb78a5",
   "metadata": {
    "execution": {
     "iopub.execute_input": "2023-03-28T19:06:12.419000Z",
     "iopub.status.busy": "2023-03-28T19:06:12.419000Z",
     "iopub.status.idle": "2023-03-28T19:06:13.308000Z",
     "shell.execute_reply": "2023-03-28T19:06:13.308000Z"
    },
    "papermill": {
     "duration": 0.90283,
     "end_time": "2023-03-28T18:06:13.314381",
     "exception": false,
     "start_time": "2023-03-28T18:06:12.411551",
     "status": "completed"
    },
    "tags": []
   },
   "outputs": [
    {
     "data": {
      "text/plain": [
       "\"/home/rita13santos/Desktop/MSc Thesis/Git/TMYangMills/DATA\""
      ]
     },
     "execution_count": 340,
     "metadata": {},
     "output_type": "execute_result"
    }
   ],
   "source": [
    "global dir = \"/home/rita13santos/Desktop/MSc Thesis/Git/TMYangMills/DATA\""
   ]
  },
  {
   "cell_type": "markdown",
   "id": "e2dd4335",
   "metadata": {
    "papermill": {
     "duration": 0.007006,
     "end_time": "2023-03-28T18:06:13.351329",
     "exception": false,
     "start_time": "2023-03-28T18:06:13.344323",
     "status": "completed"
    },
    "tags": []
   },
   "source": [
    "# Grid"
   ]
  },
  {
   "cell_type": "code",
   "execution_count": 341,
   "id": "bc5288f8",
   "metadata": {
    "execution": {
     "iopub.execute_input": "2023-03-28T19:06:13.636000Z",
     "iopub.status.busy": "2023-03-28T19:06:13.636000Z",
     "iopub.status.idle": "2023-03-28T19:06:14.762000Z",
     "shell.execute_reply": "2023-03-28T19:06:14.762000Z"
    },
    "papermill": {
     "duration": 1.137394,
     "end_time": "2023-03-28T18:06:14.765909",
     "exception": false,
     "start_time": "2023-03-28T18:06:13.628515",
     "status": "completed"
    },
    "tags": []
   },
   "outputs": [],
   "source": [
    "using Printf\n",
    "include(\"./TMYangMillsTWO.jl\");"
   ]
  },
  {
   "cell_type": "code",
   "execution_count": 342,
   "id": "de24fea3",
   "metadata": {
    "execution": {
     "iopub.execute_input": "2023-03-28T19:06:13.366000Z",
     "iopub.status.busy": "2023-03-28T19:06:13.366000Z",
     "iopub.status.idle": "2023-03-28T19:06:13.571000Z",
     "shell.execute_reply": "2023-03-28T19:06:13.571000Z"
    },
    "papermill": {
     "duration": 0.216104,
     "end_time": "2023-03-28T18:06:13.574666",
     "exception": false,
     "start_time": "2023-03-28T18:06:13.358562",
     "status": "completed"
    },
    "tags": []
   },
   "outputs": [
    {
     "name": "stdout",
     "output_type": "stream",
     "text": [
      "step size is  0.00125\n",
      "the time step is 0.000625\n"
     ]
    }
   ],
   "source": [
    "ori=0.0#Float128(0.0)#0.0;\n",
    "initX1 = nothing\n",
    "N=int(N)\n",
    "initX1=range(ori, stop=Xf, step=dx);\n",
    "initX = range(round(ori-3.0*dx,digits=10), stop=Xf+3.0*dx, step=dx)\n",
    "\n",
    "L=length(initX);\n",
    "println(\"step size is  \", dx)\n",
    "println(\"the time step is \", dt)\n",
    "\n",
    "if loggrid==true\n",
    "    global originalX=initX\n",
    "    xtilde=gridfunc(initX1)\n",
    "    initX1=xtilde\n",
    "    initX=collect(initX)\n",
    "    initX[4:L-3]=xtilde\n",
    "end;"
   ]
  },
  {
   "cell_type": "markdown",
   "id": "80ab1480",
   "metadata": {
    "papermill": {
     "duration": 0.007525,
     "end_time": "2023-03-28T18:06:14.783937",
     "exception": false,
     "start_time": "2023-03-28T18:06:14.776412",
     "status": "completed"
    },
    "tags": []
   },
   "source": [
    "# Initial data of m β Ψ and Ψ,x"
   ]
  },
  {
   "cell_type": "code",
   "execution_count": 343,
   "id": "d0af654c",
   "metadata": {
    "execution": {
     "iopub.execute_input": "2023-03-28T19:06:14.799000Z",
     "iopub.status.busy": "2023-03-28T19:06:14.799000Z",
     "iopub.status.idle": "2023-03-28T19:06:22.269000Z",
     "shell.execute_reply": "2023-03-28T19:06:22.269000Z"
    },
    "papermill": {
     "duration": 7.48258,
     "end_time": "2023-03-28T18:06:22.273970",
     "exception": false,
     "start_time": "2023-03-28T18:06:14.791390",
     "status": "completed"
    },
    "tags": []
   },
   "outputs": [],
   "source": [
    "using Dierckx\n",
    "\n",
    "\n",
    "####\n",
    "\n",
    "initm=zeros(L)\n",
    "initbeta=zeros(L)\n",
    "initpsi=zeros(L)\n",
    "initpi=zeros(L)\n",
    "initderxxchi=zeros(L)\n",
    "initderpsi=zeros(L)\n",
    "initxxchi=zeros(L)\n",
    "\n",
    "#state array is m beta psi xxchi,u xxchi,rORx psi,r xxchi r\n",
    "state_array=[initm initbeta initpsi initpi initderxxchi initderpsi initxxchi initX];\n",
    "#attention:  in noncompactified code derxchi is (xchi),r. in compactified code derxchi is (xchi),x\n",
    "\n",
    "\n",
    "#PSI,R\n",
    "A=0.075*p*(1−q)\n",
    "r0=0.2\n",
    "sigma=0.1\n",
    "\n",
    "initderpsi[4:L-3] = init_derpsi(initX1,r0,sigma,A)\n",
    "\n",
    "state_array[:,6] = initderpsi\n",
    "state_array=ghost(state_array)\n",
    "\n",
    "#XCHI\n",
    "A=0.01\n",
    "r0=0.2\n",
    "sigma=0.1\n",
    "\n",
    "initxxchi[4:L-3] = init_xxchi(initX1,r0,sigma,A)\n",
    "\n",
    "state_array[:,7] = initxxchi\n",
    "\n",
    "####\n",
    "#PSI FROM PSI,R, CHI,R FROM CHI\n",
    "state_array[4:L-3,5]=Der_arrayLOP(state_array,7,initX)[4:L-3]#derivative(xchi_func, initX1; nu=1)#Der_array(state_array,7,initX)[4:L-3]\n",
    "\n",
    "\n",
    "aux=Der_arrayLOP(state_array,5,initX)\n",
    "\n",
    "\n",
    "# update interpolation of psi,x\n",
    "derxxchi_func = Spline1D(initX[4:L-3], state_array[4:L-3,5],  k=4);\n",
    "derpsi_func = Spline1D(initX[4:L-3], state_array[4:L-3,6],  k=4);\n",
    "xxchi_func = Spline1D(initX[4:L-3], state_array[4:L-3,7],  k=4);\n",
    "derrxxchi_func = Spline1D(initX[4:L-3], aux[4:L-3], k=4);\n",
    "\n",
    "funcs=[derxxchi_func derpsi_func xxchi_func derrxxchi_func];"
   ]
  },
  {
   "cell_type": "code",
   "execution_count": null,
   "id": "8000577e",
   "metadata": {},
   "outputs": [],
   "source": []
  },
  {
   "cell_type": "code",
   "execution_count": 344,
   "id": "78cfbd6e",
   "metadata": {},
   "outputs": [
    {
     "data": {
      "text/plain": [
       "801×4 Matrix{Float64}:\n",
       " 0.0  0.0  0.0   0.0\n",
       " 0.0  0.0  0.0   1.76224e-10\n",
       " 0.0  0.0  0.0   2.19524e-9\n",
       " 0.0  0.0  0.0   8.40252e-9\n",
       " 0.0  0.0  0.0   2.08758e-8\n",
       " 0.0  0.0  0.0   4.20556e-8\n",
       " 0.0  0.0  0.0   7.43754e-8\n",
       " 0.0  0.0  0.0   1.20267e-7\n",
       " 0.0  0.0  0.0   1.82167e-7\n",
       " 0.0  0.0  0.0   2.62518e-7\n",
       " 0.0  0.0  0.0   3.6378e-7\n",
       " 0.0  0.0  0.0   4.88428e-7\n",
       " 0.0  0.0  0.0   6.38961e-7\n",
       " ⋮              \n",
       " 0.0  0.0  0.0  -0.000886628\n",
       " 0.0  0.0  0.0  -0.000886628\n",
       " 0.0  0.0  0.0  -0.000886628\n",
       " 0.0  0.0  0.0  -0.000886628\n",
       " 0.0  0.0  0.0  -0.000886628\n",
       " 0.0  0.0  0.0  -0.000886628\n",
       " 0.0  0.0  0.0  -0.000886628\n",
       " 0.0  0.0  0.0  -0.000886628\n",
       " 0.0  0.0  0.0  -0.000886628\n",
       " 0.0  0.0  0.0  -0.000886628\n",
       " 0.0  0.0  0.0  -0.000886628\n",
       " 0.0  0.0  0.0  -0.000886628"
      ]
     },
     "execution_count": 344,
     "metadata": {},
     "output_type": "execute_result"
    }
   ],
   "source": [
    "y0=[0.0 0.0 0.0 0.0]\n",
    "\n",
    "if twod==true\n",
    "        state_array[4:L-3,1:4] = twod_n_rk4wrapper(RHS,y0,initX[4:L-3],0,funcs,state_array[:,:]);\n",
    "    else\n",
    "        state_array[4:L-3,1:4] = n_rk4wrapper(RHS,y0,initX[4:L-3],0,funcs,state_array[:,:]);\n",
    "end\n",
    "\n",
    "#state_array = ghost(state_array);"
   ]
  },
  {
   "cell_type": "code",
   "execution_count": 345,
   "id": "14e14e45",
   "metadata": {},
   "outputs": [
    {
     "data": {
      "image/svg+xml": [
       "<?xml version=\"1.0\" encoding=\"utf-8\"?>\n",
       "<svg xmlns=\"http://www.w3.org/2000/svg\" xmlns:xlink=\"http://www.w3.org/1999/xlink\" width=\"600\" height=\"400\" viewBox=\"0 0 2400 1600\">\n",
       "<defs>\n",
       "  <clipPath id=\"clip130\">\n",
       "    <rect x=\"0\" y=\"0\" width=\"2400\" height=\"1600\"/>\n",
       "  </clipPath>\n",
       "</defs>\n",
       "<path clip-path=\"url(#clip130)\" d=\"M0 1600 L2400 1600 L2400 0 L0 0  Z\" fill=\"#ffffff\" fill-rule=\"evenodd\" fill-opacity=\"1\"/>\n",
       "<defs>\n",
       "  <clipPath id=\"clip131\">\n",
       "    <rect x=\"480\" y=\"0\" width=\"1681\" height=\"1600\"/>\n",
       "  </clipPath>\n",
       "</defs>\n",
       "<path clip-path=\"url(#clip130)\" d=\"M254.746 1423.18 L2352.76 1423.18 L2352.76 123.472 L254.746 123.472  Z\" fill=\"#ffffff\" fill-rule=\"evenodd\" fill-opacity=\"1\"/>\n",
       "<defs>\n",
       "  <clipPath id=\"clip132\">\n",
       "    <rect x=\"254\" y=\"123\" width=\"2099\" height=\"1301\"/>\n",
       "  </clipPath>\n",
       "</defs>\n",
       "<polyline clip-path=\"url(#clip132)\" style=\"stroke:#000000; stroke-linecap:round; stroke-linejoin:round; stroke-width:2; stroke-opacity:0.1; fill:none\" points=\"254.746,1423.18 254.746,123.472 \"/>\n",
       "<polyline clip-path=\"url(#clip132)\" style=\"stroke:#000000; stroke-linecap:round; stroke-linejoin:round; stroke-width:2; stroke-opacity:0.1; fill:none\" points=\"674.348,1423.18 674.348,123.472 \"/>\n",
       "<polyline clip-path=\"url(#clip132)\" style=\"stroke:#000000; stroke-linecap:round; stroke-linejoin:round; stroke-width:2; stroke-opacity:0.1; fill:none\" points=\"1093.95,1423.18 1093.95,123.472 \"/>\n",
       "<polyline clip-path=\"url(#clip132)\" style=\"stroke:#000000; stroke-linecap:round; stroke-linejoin:round; stroke-width:2; stroke-opacity:0.1; fill:none\" points=\"1513.55,1423.18 1513.55,123.472 \"/>\n",
       "<polyline clip-path=\"url(#clip132)\" style=\"stroke:#000000; stroke-linecap:round; stroke-linejoin:round; stroke-width:2; stroke-opacity:0.1; fill:none\" points=\"1933.15,1423.18 1933.15,123.472 \"/>\n",
       "<polyline clip-path=\"url(#clip132)\" style=\"stroke:#000000; stroke-linecap:round; stroke-linejoin:round; stroke-width:2; stroke-opacity:0.1; fill:none\" points=\"2352.76,1423.18 2352.76,123.472 \"/>\n",
       "<polyline clip-path=\"url(#clip130)\" style=\"stroke:#000000; stroke-linecap:round; stroke-linejoin:round; stroke-width:4; stroke-opacity:1; fill:none\" points=\"254.746,1423.18 2352.76,1423.18 \"/>\n",
       "<polyline clip-path=\"url(#clip130)\" style=\"stroke:#000000; stroke-linecap:round; stroke-linejoin:round; stroke-width:4; stroke-opacity:1; fill:none\" points=\"254.746,1423.18 254.746,1404.28 \"/>\n",
       "<polyline clip-path=\"url(#clip130)\" style=\"stroke:#000000; stroke-linecap:round; stroke-linejoin:round; stroke-width:4; stroke-opacity:1; fill:none\" points=\"674.348,1423.18 674.348,1404.28 \"/>\n",
       "<polyline clip-path=\"url(#clip130)\" style=\"stroke:#000000; stroke-linecap:round; stroke-linejoin:round; stroke-width:4; stroke-opacity:1; fill:none\" points=\"1093.95,1423.18 1093.95,1404.28 \"/>\n",
       "<polyline clip-path=\"url(#clip130)\" style=\"stroke:#000000; stroke-linecap:round; stroke-linejoin:round; stroke-width:4; stroke-opacity:1; fill:none\" points=\"1513.55,1423.18 1513.55,1404.28 \"/>\n",
       "<polyline clip-path=\"url(#clip130)\" style=\"stroke:#000000; stroke-linecap:round; stroke-linejoin:round; stroke-width:4; stroke-opacity:1; fill:none\" points=\"1933.15,1423.18 1933.15,1404.28 \"/>\n",
       "<polyline clip-path=\"url(#clip130)\" style=\"stroke:#000000; stroke-linecap:round; stroke-linejoin:round; stroke-width:4; stroke-opacity:1; fill:none\" points=\"2352.76,1423.18 2352.76,1404.28 \"/>\n",
       "<path clip-path=\"url(#clip130)\" d=\"M232.13 1454.1 Q228.519 1454.1 226.69 1457.66 Q224.885 1461.2 224.885 1468.33 Q224.885 1475.44 226.69 1479.01 Q228.519 1482.55 232.13 1482.55 Q235.764 1482.55 237.57 1479.01 Q239.399 1475.44 239.399 1468.33 Q239.399 1461.2 237.57 1457.66 Q235.764 1454.1 232.13 1454.1 M232.13 1450.39 Q237.94 1450.39 240.996 1455 Q244.075 1459.58 244.075 1468.33 Q244.075 1477.06 240.996 1481.67 Q237.94 1486.25 232.13 1486.25 Q226.32 1486.25 223.241 1481.67 Q220.186 1477.06 220.186 1468.33 Q220.186 1459.58 223.241 1455 Q226.32 1450.39 232.13 1450.39 Z\" fill=\"#000000\" fill-rule=\"evenodd\" fill-opacity=\"1\" /><path clip-path=\"url(#clip130)\" d=\"M252.292 1479.7 L257.176 1479.7 L257.176 1485.58 L252.292 1485.58 L252.292 1479.7 Z\" fill=\"#000000\" fill-rule=\"evenodd\" fill-opacity=\"1\" /><path clip-path=\"url(#clip130)\" d=\"M277.361 1454.1 Q273.75 1454.1 271.922 1457.66 Q270.116 1461.2 270.116 1468.33 Q270.116 1475.44 271.922 1479.01 Q273.75 1482.55 277.361 1482.55 Q280.996 1482.55 282.801 1479.01 Q284.63 1475.44 284.63 1468.33 Q284.63 1461.2 282.801 1457.66 Q280.996 1454.1 277.361 1454.1 M277.361 1450.39 Q283.172 1450.39 286.227 1455 Q289.306 1459.58 289.306 1468.33 Q289.306 1477.06 286.227 1481.67 Q283.172 1486.25 277.361 1486.25 Q271.551 1486.25 268.473 1481.67 Q265.417 1477.06 265.417 1468.33 Q265.417 1459.58 268.473 1455 Q271.551 1450.39 277.361 1450.39 Z\" fill=\"#000000\" fill-rule=\"evenodd\" fill-opacity=\"1\" /><path clip-path=\"url(#clip130)\" d=\"M652.531 1454.1 Q648.92 1454.1 647.091 1457.66 Q645.286 1461.2 645.286 1468.33 Q645.286 1475.44 647.091 1479.01 Q648.92 1482.55 652.531 1482.55 Q656.165 1482.55 657.971 1479.01 Q659.799 1475.44 659.799 1468.33 Q659.799 1461.2 657.971 1457.66 Q656.165 1454.1 652.531 1454.1 M652.531 1450.39 Q658.341 1450.39 661.397 1455 Q664.475 1459.58 664.475 1468.33 Q664.475 1477.06 661.397 1481.67 Q658.341 1486.25 652.531 1486.25 Q646.721 1486.25 643.642 1481.67 Q640.586 1477.06 640.586 1468.33 Q640.586 1459.58 643.642 1455 Q646.721 1450.39 652.531 1450.39 Z\" fill=\"#000000\" fill-rule=\"evenodd\" fill-opacity=\"1\" /><path clip-path=\"url(#clip130)\" d=\"M672.693 1479.7 L677.577 1479.7 L677.577 1485.58 L672.693 1485.58 L672.693 1479.7 Z\" fill=\"#000000\" fill-rule=\"evenodd\" fill-opacity=\"1\" /><path clip-path=\"url(#clip130)\" d=\"M691.79 1481.64 L708.109 1481.64 L708.109 1485.58 L686.165 1485.58 L686.165 1481.64 Q688.827 1478.89 693.41 1474.26 Q698.017 1469.61 699.197 1468.27 Q701.443 1465.74 702.322 1464.01 Q703.225 1462.25 703.225 1460.56 Q703.225 1457.8 701.281 1456.07 Q699.359 1454.33 696.257 1454.33 Q694.058 1454.33 691.605 1455.09 Q689.174 1455.86 686.396 1457.41 L686.396 1452.69 Q689.22 1451.55 691.674 1450.97 Q694.128 1450.39 696.165 1450.39 Q701.535 1450.39 704.73 1453.08 Q707.924 1455.77 707.924 1460.26 Q707.924 1462.39 707.114 1464.31 Q706.327 1466.2 704.22 1468.8 Q703.642 1469.47 700.54 1472.69 Q697.438 1475.88 691.79 1481.64 Z\" fill=\"#000000\" fill-rule=\"evenodd\" fill-opacity=\"1\" /><path clip-path=\"url(#clip130)\" d=\"M1071.09 1454.1 Q1067.48 1454.1 1065.65 1457.66 Q1063.85 1461.2 1063.85 1468.33 Q1063.85 1475.44 1065.65 1479.01 Q1067.48 1482.55 1071.09 1482.55 Q1074.73 1482.55 1076.53 1479.01 Q1078.36 1475.44 1078.36 1468.33 Q1078.36 1461.2 1076.53 1457.66 Q1074.73 1454.1 1071.09 1454.1 M1071.09 1450.39 Q1076.9 1450.39 1079.96 1455 Q1083.04 1459.58 1083.04 1468.33 Q1083.04 1477.06 1079.96 1481.67 Q1076.9 1486.25 1071.09 1486.25 Q1065.28 1486.25 1062.2 1481.67 Q1059.15 1477.06 1059.15 1468.33 Q1059.15 1459.58 1062.2 1455 Q1065.28 1450.39 1071.09 1450.39 Z\" fill=\"#000000\" fill-rule=\"evenodd\" fill-opacity=\"1\" /><path clip-path=\"url(#clip130)\" d=\"M1091.25 1479.7 L1096.14 1479.7 L1096.14 1485.58 L1091.25 1485.58 L1091.25 1479.7 Z\" fill=\"#000000\" fill-rule=\"evenodd\" fill-opacity=\"1\" /><path clip-path=\"url(#clip130)\" d=\"M1119.17 1455.09 L1107.36 1473.54 L1119.17 1473.54 L1119.17 1455.09 M1117.94 1451.02 L1123.82 1451.02 L1123.82 1473.54 L1128.75 1473.54 L1128.75 1477.43 L1123.82 1477.43 L1123.82 1485.58 L1119.17 1485.58 L1119.17 1477.43 L1103.57 1477.43 L1103.57 1472.92 L1117.94 1451.02 Z\" fill=\"#000000\" fill-rule=\"evenodd\" fill-opacity=\"1\" /><path clip-path=\"url(#clip130)\" d=\"M1490.86 1454.1 Q1487.24 1454.1 1485.42 1457.66 Q1483.61 1461.2 1483.61 1468.33 Q1483.61 1475.44 1485.42 1479.01 Q1487.24 1482.55 1490.86 1482.55 Q1494.49 1482.55 1496.3 1479.01 Q1498.12 1475.44 1498.12 1468.33 Q1498.12 1461.2 1496.3 1457.66 Q1494.49 1454.1 1490.86 1454.1 M1490.86 1450.39 Q1496.67 1450.39 1499.72 1455 Q1502.8 1459.58 1502.8 1468.33 Q1502.8 1477.06 1499.72 1481.67 Q1496.67 1486.25 1490.86 1486.25 Q1485.05 1486.25 1481.97 1481.67 Q1478.91 1477.06 1478.91 1468.33 Q1478.91 1459.58 1481.97 1455 Q1485.05 1450.39 1490.86 1450.39 Z\" fill=\"#000000\" fill-rule=\"evenodd\" fill-opacity=\"1\" /><path clip-path=\"url(#clip130)\" d=\"M1511.02 1479.7 L1515.9 1479.7 L1515.9 1485.58 L1511.02 1485.58 L1511.02 1479.7 Z\" fill=\"#000000\" fill-rule=\"evenodd\" fill-opacity=\"1\" /><path clip-path=\"url(#clip130)\" d=\"M1536.67 1466.44 Q1533.52 1466.44 1531.67 1468.59 Q1529.84 1470.74 1529.84 1474.49 Q1529.84 1478.22 1531.67 1480.39 Q1533.52 1482.55 1536.67 1482.55 Q1539.81 1482.55 1541.64 1480.39 Q1543.49 1478.22 1543.49 1474.49 Q1543.49 1470.74 1541.64 1468.59 Q1539.81 1466.44 1536.67 1466.44 M1545.95 1451.78 L1545.95 1456.04 Q1544.19 1455.21 1542.38 1454.77 Q1540.6 1454.33 1538.84 1454.33 Q1534.21 1454.33 1531.76 1457.45 Q1529.33 1460.58 1528.98 1466.9 Q1530.35 1464.89 1532.41 1463.82 Q1534.47 1462.73 1536.94 1462.73 Q1542.15 1462.73 1545.16 1465.9 Q1548.19 1469.05 1548.19 1474.49 Q1548.19 1479.82 1545.04 1483.03 Q1541.9 1486.25 1536.67 1486.25 Q1530.67 1486.25 1527.5 1481.67 Q1524.33 1477.06 1524.33 1468.33 Q1524.33 1460.14 1528.22 1455.28 Q1532.11 1450.39 1538.66 1450.39 Q1540.42 1450.39 1542.2 1450.74 Q1544 1451.09 1545.95 1451.78 Z\" fill=\"#000000\" fill-rule=\"evenodd\" fill-opacity=\"1\" /><path clip-path=\"url(#clip130)\" d=\"M1910.58 1454.1 Q1906.97 1454.1 1905.14 1457.66 Q1903.34 1461.2 1903.34 1468.33 Q1903.34 1475.44 1905.14 1479.01 Q1906.97 1482.55 1910.58 1482.55 Q1914.22 1482.55 1916.02 1479.01 Q1917.85 1475.44 1917.85 1468.33 Q1917.85 1461.2 1916.02 1457.66 Q1914.22 1454.1 1910.58 1454.1 M1910.58 1450.39 Q1916.39 1450.39 1919.45 1455 Q1922.53 1459.58 1922.53 1468.33 Q1922.53 1477.06 1919.45 1481.67 Q1916.39 1486.25 1910.58 1486.25 Q1904.77 1486.25 1901.7 1481.67 Q1898.64 1477.06 1898.64 1468.33 Q1898.64 1459.58 1901.7 1455 Q1904.77 1450.39 1910.58 1450.39 Z\" fill=\"#000000\" fill-rule=\"evenodd\" fill-opacity=\"1\" /><path clip-path=\"url(#clip130)\" d=\"M1930.75 1479.7 L1935.63 1479.7 L1935.63 1485.58 L1930.75 1485.58 L1930.75 1479.7 Z\" fill=\"#000000\" fill-rule=\"evenodd\" fill-opacity=\"1\" /><path clip-path=\"url(#clip130)\" d=\"M1955.82 1469.17 Q1952.48 1469.17 1950.56 1470.95 Q1948.66 1472.73 1948.66 1475.86 Q1948.66 1478.98 1950.56 1480.77 Q1952.48 1482.55 1955.82 1482.55 Q1959.15 1482.55 1961.07 1480.77 Q1962.99 1478.96 1962.99 1475.86 Q1962.99 1472.73 1961.07 1470.95 Q1959.17 1469.17 1955.82 1469.17 M1951.14 1467.18 Q1948.13 1466.44 1946.44 1464.38 Q1944.77 1462.32 1944.77 1459.35 Q1944.77 1455.21 1947.71 1452.8 Q1950.68 1450.39 1955.82 1450.39 Q1960.98 1450.39 1963.92 1452.8 Q1966.86 1455.21 1966.86 1459.35 Q1966.86 1462.32 1965.17 1464.38 Q1963.5 1466.44 1960.51 1467.18 Q1963.89 1467.96 1965.77 1470.26 Q1967.67 1472.55 1967.67 1475.86 Q1967.67 1480.88 1964.59 1483.57 Q1961.53 1486.25 1955.82 1486.25 Q1950.1 1486.25 1947.02 1483.57 Q1943.96 1480.88 1943.96 1475.86 Q1943.96 1472.55 1945.86 1470.26 Q1947.76 1467.96 1951.14 1467.18 M1949.43 1459.79 Q1949.43 1462.48 1951.09 1463.98 Q1952.78 1465.49 1955.82 1465.49 Q1958.83 1465.49 1960.51 1463.98 Q1962.23 1462.48 1962.23 1459.79 Q1962.23 1457.11 1960.51 1455.6 Q1958.83 1454.1 1955.82 1454.1 Q1952.78 1454.1 1951.09 1455.6 Q1949.43 1457.11 1949.43 1459.79 Z\" fill=\"#000000\" fill-rule=\"evenodd\" fill-opacity=\"1\" /><path clip-path=\"url(#clip130)\" d=\"M2319.91 1481.64 L2327.55 1481.64 L2327.55 1455.28 L2319.24 1456.95 L2319.24 1452.69 L2327.5 1451.02 L2332.18 1451.02 L2332.18 1481.64 L2339.82 1481.64 L2339.82 1485.58 L2319.91 1485.58 L2319.91 1481.64 Z\" fill=\"#000000\" fill-rule=\"evenodd\" fill-opacity=\"1\" /><path clip-path=\"url(#clip130)\" d=\"M2349.26 1479.7 L2354.14 1479.7 L2354.14 1485.58 L2349.26 1485.58 L2349.26 1479.7 Z\" fill=\"#000000\" fill-rule=\"evenodd\" fill-opacity=\"1\" /><path clip-path=\"url(#clip130)\" d=\"M2374.33 1454.1 Q2370.72 1454.1 2368.89 1457.66 Q2367.08 1461.2 2367.08 1468.33 Q2367.08 1475.44 2368.89 1479.01 Q2370.72 1482.55 2374.33 1482.55 Q2377.96 1482.55 2379.77 1479.01 Q2381.6 1475.44 2381.6 1468.33 Q2381.6 1461.2 2379.77 1457.66 Q2377.96 1454.1 2374.33 1454.1 M2374.33 1450.39 Q2380.14 1450.39 2383.2 1455 Q2386.27 1459.58 2386.27 1468.33 Q2386.27 1477.06 2383.2 1481.67 Q2380.14 1486.25 2374.33 1486.25 Q2368.52 1486.25 2365.44 1481.67 Q2362.39 1477.06 2362.39 1468.33 Q2362.39 1459.58 2365.44 1455 Q2368.52 1450.39 2374.33 1450.39 Z\" fill=\"#000000\" fill-rule=\"evenodd\" fill-opacity=\"1\" /><path clip-path=\"url(#clip130)\" d=\"M1314.19 1537.87 Q1313.2 1537.3 1312.03 1537.04 Q1310.88 1536.76 1309.48 1536.76 Q1304.51 1536.76 1301.84 1540 Q1299.2 1543.22 1299.2 1549.27 L1299.2 1568.04 L1293.31 1568.04 L1293.31 1532.4 L1299.2 1532.4 L1299.2 1537.93 Q1301.05 1534.69 1304.01 1533.13 Q1306.97 1531.54 1311.2 1531.54 Q1311.8 1531.54 1312.54 1531.63 Q1313.27 1531.7 1314.16 1531.85 L1314.19 1537.87 Z\" fill=\"#000000\" fill-rule=\"evenodd\" fill-opacity=\"1\" /><polyline clip-path=\"url(#clip132)\" style=\"stroke:#000000; stroke-linecap:round; stroke-linejoin:round; stroke-width:2; stroke-opacity:0.1; fill:none\" points=\"254.746,1324.48 2352.76,1324.48 \"/>\n",
       "<polyline clip-path=\"url(#clip132)\" style=\"stroke:#000000; stroke-linecap:round; stroke-linejoin:round; stroke-width:2; stroke-opacity:0.1; fill:none\" points=\"254.746,1057.63 2352.76,1057.63 \"/>\n",
       "<polyline clip-path=\"url(#clip132)\" style=\"stroke:#000000; stroke-linecap:round; stroke-linejoin:round; stroke-width:2; stroke-opacity:0.1; fill:none\" points=\"254.746,790.787 2352.76,790.787 \"/>\n",
       "<polyline clip-path=\"url(#clip132)\" style=\"stroke:#000000; stroke-linecap:round; stroke-linejoin:round; stroke-width:2; stroke-opacity:0.1; fill:none\" points=\"254.746,523.942 2352.76,523.942 \"/>\n",
       "<polyline clip-path=\"url(#clip132)\" style=\"stroke:#000000; stroke-linecap:round; stroke-linejoin:round; stroke-width:2; stroke-opacity:0.1; fill:none\" points=\"254.746,257.096 2352.76,257.096 \"/>\n",
       "<polyline clip-path=\"url(#clip130)\" style=\"stroke:#000000; stroke-linecap:round; stroke-linejoin:round; stroke-width:4; stroke-opacity:1; fill:none\" points=\"254.746,1423.18 254.746,123.472 \"/>\n",
       "<polyline clip-path=\"url(#clip130)\" style=\"stroke:#000000; stroke-linecap:round; stroke-linejoin:round; stroke-width:4; stroke-opacity:1; fill:none\" points=\"254.746,1324.48 273.643,1324.48 \"/>\n",
       "<polyline clip-path=\"url(#clip130)\" style=\"stroke:#000000; stroke-linecap:round; stroke-linejoin:round; stroke-width:4; stroke-opacity:1; fill:none\" points=\"254.746,1057.63 273.643,1057.63 \"/>\n",
       "<polyline clip-path=\"url(#clip130)\" style=\"stroke:#000000; stroke-linecap:round; stroke-linejoin:round; stroke-width:4; stroke-opacity:1; fill:none\" points=\"254.746,790.787 273.643,790.787 \"/>\n",
       "<polyline clip-path=\"url(#clip130)\" style=\"stroke:#000000; stroke-linecap:round; stroke-linejoin:round; stroke-width:4; stroke-opacity:1; fill:none\" points=\"254.746,523.942 273.643,523.942 \"/>\n",
       "<polyline clip-path=\"url(#clip130)\" style=\"stroke:#000000; stroke-linecap:round; stroke-linejoin:round; stroke-width:4; stroke-opacity:1; fill:none\" points=\"254.746,257.096 273.643,257.096 \"/>\n",
       "<path clip-path=\"url(#clip130)\" d=\"M50.9921 1324.93 L80.6679 1324.93 L80.6679 1328.86 L50.9921 1328.86 L50.9921 1324.93 Z\" fill=\"#000000\" fill-rule=\"evenodd\" fill-opacity=\"1\" /><path clip-path=\"url(#clip130)\" d=\"M100.76 1310.28 Q97.1493 1310.28 95.3206 1313.84 Q93.515 1317.38 93.515 1324.51 Q93.515 1331.62 95.3206 1335.18 Q97.1493 1338.73 100.76 1338.73 Q104.395 1338.73 106.2 1335.18 Q108.029 1331.62 108.029 1324.51 Q108.029 1317.38 106.2 1313.84 Q104.395 1310.28 100.76 1310.28 M100.76 1306.57 Q106.571 1306.57 109.626 1311.18 Q112.705 1315.76 112.705 1324.51 Q112.705 1333.24 109.626 1337.85 Q106.571 1342.43 100.76 1342.43 Q94.9502 1342.43 91.8715 1337.85 Q88.816 1333.24 88.816 1324.51 Q88.816 1315.76 91.8715 1311.18 Q94.9502 1306.57 100.76 1306.57 Z\" fill=\"#000000\" fill-rule=\"evenodd\" fill-opacity=\"1\" /><path clip-path=\"url(#clip130)\" d=\"M120.922 1335.88 L125.807 1335.88 L125.807 1341.76 L120.922 1341.76 L120.922 1335.88 Z\" fill=\"#000000\" fill-rule=\"evenodd\" fill-opacity=\"1\" /><path clip-path=\"url(#clip130)\" d=\"M145.992 1310.28 Q142.381 1310.28 140.552 1313.84 Q138.746 1317.38 138.746 1324.51 Q138.746 1331.62 140.552 1335.18 Q142.381 1338.73 145.992 1338.73 Q149.626 1338.73 151.431 1335.18 Q153.26 1331.62 153.26 1324.51 Q153.26 1317.38 151.431 1313.84 Q149.626 1310.28 145.992 1310.28 M145.992 1306.57 Q151.802 1306.57 154.857 1311.18 Q157.936 1315.76 157.936 1324.51 Q157.936 1333.24 154.857 1337.85 Q151.802 1342.43 145.992 1342.43 Q140.181 1342.43 137.103 1337.85 Q134.047 1333.24 134.047 1324.51 Q134.047 1315.76 137.103 1311.18 Q140.181 1306.57 145.992 1306.57 Z\" fill=\"#000000\" fill-rule=\"evenodd\" fill-opacity=\"1\" /><path clip-path=\"url(#clip130)\" d=\"M176.153 1310.28 Q172.542 1310.28 170.714 1313.84 Q168.908 1317.38 168.908 1324.51 Q168.908 1331.62 170.714 1335.18 Q172.542 1338.73 176.153 1338.73 Q179.788 1338.73 181.593 1335.18 Q183.422 1331.62 183.422 1324.51 Q183.422 1317.38 181.593 1313.84 Q179.788 1310.28 176.153 1310.28 M176.153 1306.57 Q181.964 1306.57 185.019 1311.18 Q188.098 1315.76 188.098 1324.51 Q188.098 1333.24 185.019 1337.85 Q181.964 1342.43 176.153 1342.43 Q170.343 1342.43 167.265 1337.85 Q164.209 1333.24 164.209 1324.51 Q164.209 1315.76 167.265 1311.18 Q170.343 1306.57 176.153 1306.57 Z\" fill=\"#000000\" fill-rule=\"evenodd\" fill-opacity=\"1\" /><path clip-path=\"url(#clip130)\" d=\"M209.163 1311.27 L197.357 1329.72 L209.163 1329.72 L209.163 1311.27 M207.936 1307.2 L213.815 1307.2 L213.815 1329.72 L218.746 1329.72 L218.746 1333.61 L213.815 1333.61 L213.815 1341.76 L209.163 1341.76 L209.163 1333.61 L193.561 1333.61 L193.561 1329.1 L207.936 1307.2 Z\" fill=\"#000000\" fill-rule=\"evenodd\" fill-opacity=\"1\" /><path clip-path=\"url(#clip130)\" d=\"M53.0754 1058.08 L82.7512 1058.08 L82.7512 1062.02 L53.0754 1062.02 L53.0754 1058.08 Z\" fill=\"#000000\" fill-rule=\"evenodd\" fill-opacity=\"1\" /><path clip-path=\"url(#clip130)\" d=\"M102.844 1043.43 Q99.2326 1043.43 97.4039 1047 Q95.5984 1050.54 95.5984 1057.67 Q95.5984 1064.77 97.4039 1068.34 Q99.2326 1071.88 102.844 1071.88 Q106.478 1071.88 108.283 1068.34 Q110.112 1064.77 110.112 1057.67 Q110.112 1050.54 108.283 1047 Q106.478 1043.43 102.844 1043.43 M102.844 1039.73 Q108.654 1039.73 111.709 1044.33 Q114.788 1048.92 114.788 1057.67 Q114.788 1066.39 111.709 1071 Q108.654 1075.58 102.844 1075.58 Q97.0335 1075.58 93.9549 1071 Q90.8993 1066.39 90.8993 1057.67 Q90.8993 1048.92 93.9549 1044.33 Q97.0335 1039.73 102.844 1039.73 Z\" fill=\"#000000\" fill-rule=\"evenodd\" fill-opacity=\"1\" /><path clip-path=\"url(#clip130)\" d=\"M123.006 1069.03 L127.89 1069.03 L127.89 1074.91 L123.006 1074.91 L123.006 1069.03 Z\" fill=\"#000000\" fill-rule=\"evenodd\" fill-opacity=\"1\" /><path clip-path=\"url(#clip130)\" d=\"M148.075 1043.43 Q144.464 1043.43 142.635 1047 Q140.83 1050.54 140.83 1057.67 Q140.83 1064.77 142.635 1068.34 Q144.464 1071.88 148.075 1071.88 Q151.709 1071.88 153.515 1068.34 Q155.343 1064.77 155.343 1057.67 Q155.343 1050.54 153.515 1047 Q151.709 1043.43 148.075 1043.43 M148.075 1039.73 Q153.885 1039.73 156.941 1044.33 Q160.019 1048.92 160.019 1057.67 Q160.019 1066.39 156.941 1071 Q153.885 1075.58 148.075 1075.58 Q142.265 1075.58 139.186 1071 Q136.131 1066.39 136.131 1057.67 Q136.131 1048.92 139.186 1044.33 Q142.265 1039.73 148.075 1039.73 Z\" fill=\"#000000\" fill-rule=\"evenodd\" fill-opacity=\"1\" /><path clip-path=\"url(#clip130)\" d=\"M178.237 1043.43 Q174.626 1043.43 172.797 1047 Q170.991 1050.54 170.991 1057.67 Q170.991 1064.77 172.797 1068.34 Q174.626 1071.88 178.237 1071.88 Q181.871 1071.88 183.677 1068.34 Q185.505 1064.77 185.505 1057.67 Q185.505 1050.54 183.677 1047 Q181.871 1043.43 178.237 1043.43 M178.237 1039.73 Q184.047 1039.73 187.103 1044.33 Q190.181 1048.92 190.181 1057.67 Q190.181 1066.39 187.103 1071 Q184.047 1075.58 178.237 1075.58 Q172.427 1075.58 169.348 1071 Q166.292 1066.39 166.292 1057.67 Q166.292 1048.92 169.348 1044.33 Q172.427 1039.73 178.237 1039.73 Z\" fill=\"#000000\" fill-rule=\"evenodd\" fill-opacity=\"1\" /><path clip-path=\"url(#clip130)\" d=\"M202.426 1070.98 L218.746 1070.98 L218.746 1074.91 L196.802 1074.91 L196.802 1070.98 Q199.464 1068.22 204.047 1063.59 Q208.653 1058.94 209.834 1057.6 Q212.079 1055.07 212.959 1053.34 Q213.862 1051.58 213.862 1049.89 Q213.862 1047.13 211.917 1045.4 Q209.996 1043.66 206.894 1043.66 Q204.695 1043.66 202.241 1044.43 Q199.811 1045.19 197.033 1046.74 L197.033 1042.02 Q199.857 1040.88 202.311 1040.31 Q204.764 1039.73 206.801 1039.73 Q212.172 1039.73 215.366 1042.41 Q218.561 1045.1 218.561 1049.59 Q218.561 1051.72 217.75 1053.64 Q216.963 1055.54 214.857 1058.13 Q214.278 1058.8 211.176 1062.02 Q208.075 1065.21 202.426 1070.98 Z\" fill=\"#000000\" fill-rule=\"evenodd\" fill-opacity=\"1\" /><path clip-path=\"url(#clip130)\" d=\"M101.246 776.586 Q97.6354 776.586 95.8067 780.15 Q94.0012 783.692 94.0012 790.822 Q94.0012 797.928 95.8067 801.493 Q97.6354 805.035 101.246 805.035 Q104.881 805.035 106.686 801.493 Q108.515 797.928 108.515 790.822 Q108.515 783.692 106.686 780.15 Q104.881 776.586 101.246 776.586 M101.246 772.882 Q107.057 772.882 110.112 777.488 Q113.191 782.072 113.191 790.822 Q113.191 799.548 110.112 804.155 Q107.057 808.738 101.246 808.738 Q95.4363 808.738 92.3576 804.155 Q89.3021 799.548 89.3021 790.822 Q89.3021 782.072 92.3576 777.488 Q95.4363 772.882 101.246 772.882 Z\" fill=\"#000000\" fill-rule=\"evenodd\" fill-opacity=\"1\" /><path clip-path=\"url(#clip130)\" d=\"M121.408 802.187 L126.293 802.187 L126.293 808.067 L121.408 808.067 L121.408 802.187 Z\" fill=\"#000000\" fill-rule=\"evenodd\" fill-opacity=\"1\" /><path clip-path=\"url(#clip130)\" d=\"M146.478 776.586 Q142.867 776.586 141.038 780.15 Q139.232 783.692 139.232 790.822 Q139.232 797.928 141.038 801.493 Q142.867 805.035 146.478 805.035 Q150.112 805.035 151.918 801.493 Q153.746 797.928 153.746 790.822 Q153.746 783.692 151.918 780.15 Q150.112 776.586 146.478 776.586 M146.478 772.882 Q152.288 772.882 155.343 777.488 Q158.422 782.072 158.422 790.822 Q158.422 799.548 155.343 804.155 Q152.288 808.738 146.478 808.738 Q140.668 808.738 137.589 804.155 Q134.533 799.548 134.533 790.822 Q134.533 782.072 137.589 777.488 Q140.668 772.882 146.478 772.882 Z\" fill=\"#000000\" fill-rule=\"evenodd\" fill-opacity=\"1\" /><path clip-path=\"url(#clip130)\" d=\"M176.64 776.586 Q173.029 776.586 171.2 780.15 Q169.394 783.692 169.394 790.822 Q169.394 797.928 171.2 801.493 Q173.029 805.035 176.64 805.035 Q180.274 805.035 182.079 801.493 Q183.908 797.928 183.908 790.822 Q183.908 783.692 182.079 780.15 Q180.274 776.586 176.64 776.586 M176.64 772.882 Q182.45 772.882 185.505 777.488 Q188.584 782.072 188.584 790.822 Q188.584 799.548 185.505 804.155 Q182.45 808.738 176.64 808.738 Q170.829 808.738 167.751 804.155 Q164.695 799.548 164.695 790.822 Q164.695 782.072 167.751 777.488 Q170.829 772.882 176.64 772.882 Z\" fill=\"#000000\" fill-rule=\"evenodd\" fill-opacity=\"1\" /><path clip-path=\"url(#clip130)\" d=\"M206.801 776.586 Q203.19 776.586 201.362 780.15 Q199.556 783.692 199.556 790.822 Q199.556 797.928 201.362 801.493 Q203.19 805.035 206.801 805.035 Q210.436 805.035 212.241 801.493 Q214.07 797.928 214.07 790.822 Q214.07 783.692 212.241 780.15 Q210.436 776.586 206.801 776.586 M206.801 772.882 Q212.612 772.882 215.667 777.488 Q218.746 782.072 218.746 790.822 Q218.746 799.548 215.667 804.155 Q212.612 808.738 206.801 808.738 Q200.991 808.738 197.913 804.155 Q194.857 799.548 194.857 790.822 Q194.857 782.072 197.913 777.488 Q200.991 772.882 206.801 772.882 Z\" fill=\"#000000\" fill-rule=\"evenodd\" fill-opacity=\"1\" /><path clip-path=\"url(#clip130)\" d=\"M102.844 509.74 Q99.2326 509.74 97.4039 513.305 Q95.5984 516.847 95.5984 523.976 Q95.5984 531.083 97.4039 534.648 Q99.2326 538.189 102.844 538.189 Q106.478 538.189 108.283 534.648 Q110.112 531.083 110.112 523.976 Q110.112 516.847 108.283 513.305 Q106.478 509.74 102.844 509.74 M102.844 506.037 Q108.654 506.037 111.709 510.643 Q114.788 515.226 114.788 523.976 Q114.788 532.703 111.709 537.31 Q108.654 541.893 102.844 541.893 Q97.0335 541.893 93.9549 537.31 Q90.8993 532.703 90.8993 523.976 Q90.8993 515.226 93.9549 510.643 Q97.0335 506.037 102.844 506.037 Z\" fill=\"#000000\" fill-rule=\"evenodd\" fill-opacity=\"1\" /><path clip-path=\"url(#clip130)\" d=\"M123.006 535.342 L127.89 535.342 L127.89 541.222 L123.006 541.222 L123.006 535.342 Z\" fill=\"#000000\" fill-rule=\"evenodd\" fill-opacity=\"1\" /><path clip-path=\"url(#clip130)\" d=\"M148.075 509.74 Q144.464 509.74 142.635 513.305 Q140.83 516.847 140.83 523.976 Q140.83 531.083 142.635 534.648 Q144.464 538.189 148.075 538.189 Q151.709 538.189 153.515 534.648 Q155.343 531.083 155.343 523.976 Q155.343 516.847 153.515 513.305 Q151.709 509.74 148.075 509.74 M148.075 506.037 Q153.885 506.037 156.941 510.643 Q160.019 515.226 160.019 523.976 Q160.019 532.703 156.941 537.31 Q153.885 541.893 148.075 541.893 Q142.265 541.893 139.186 537.31 Q136.131 532.703 136.131 523.976 Q136.131 515.226 139.186 510.643 Q142.265 506.037 148.075 506.037 Z\" fill=\"#000000\" fill-rule=\"evenodd\" fill-opacity=\"1\" /><path clip-path=\"url(#clip130)\" d=\"M178.237 509.74 Q174.626 509.74 172.797 513.305 Q170.991 516.847 170.991 523.976 Q170.991 531.083 172.797 534.648 Q174.626 538.189 178.237 538.189 Q181.871 538.189 183.677 534.648 Q185.505 531.083 185.505 523.976 Q185.505 516.847 183.677 513.305 Q181.871 509.74 178.237 509.74 M178.237 506.037 Q184.047 506.037 187.103 510.643 Q190.181 515.226 190.181 523.976 Q190.181 532.703 187.103 537.31 Q184.047 541.893 178.237 541.893 Q172.427 541.893 169.348 537.31 Q166.292 532.703 166.292 523.976 Q166.292 515.226 169.348 510.643 Q172.427 506.037 178.237 506.037 Z\" fill=\"#000000\" fill-rule=\"evenodd\" fill-opacity=\"1\" /><path clip-path=\"url(#clip130)\" d=\"M202.426 537.287 L218.746 537.287 L218.746 541.222 L196.802 541.222 L196.802 537.287 Q199.464 534.532 204.047 529.902 Q208.653 525.25 209.834 523.907 Q212.079 521.384 212.959 519.648 Q213.862 517.889 213.862 516.199 Q213.862 513.444 211.917 511.708 Q209.996 509.972 206.894 509.972 Q204.695 509.972 202.241 510.736 Q199.811 511.5 197.033 513.051 L197.033 508.328 Q199.857 507.194 202.311 506.615 Q204.764 506.037 206.801 506.037 Q212.172 506.037 215.366 508.722 Q218.561 511.407 218.561 515.898 Q218.561 518.027 217.75 519.949 Q216.963 521.847 214.857 524.439 Q214.278 525.111 211.176 528.328 Q208.075 531.523 202.426 537.287 Z\" fill=\"#000000\" fill-rule=\"evenodd\" fill-opacity=\"1\" /><path clip-path=\"url(#clip130)\" d=\"M100.76 242.895 Q97.1493 242.895 95.3206 246.46 Q93.515 250.002 93.515 257.131 Q93.515 264.238 95.3206 267.802 Q97.1493 271.344 100.76 271.344 Q104.395 271.344 106.2 267.802 Q108.029 264.238 108.029 257.131 Q108.029 250.002 106.2 246.46 Q104.395 242.895 100.76 242.895 M100.76 239.191 Q106.571 239.191 109.626 243.798 Q112.705 248.381 112.705 257.131 Q112.705 265.858 109.626 270.464 Q106.571 275.048 100.76 275.048 Q94.9502 275.048 91.8715 270.464 Q88.816 265.858 88.816 257.131 Q88.816 248.381 91.8715 243.798 Q94.9502 239.191 100.76 239.191 Z\" fill=\"#000000\" fill-rule=\"evenodd\" fill-opacity=\"1\" /><path clip-path=\"url(#clip130)\" d=\"M120.922 268.497 L125.807 268.497 L125.807 274.376 L120.922 274.376 L120.922 268.497 Z\" fill=\"#000000\" fill-rule=\"evenodd\" fill-opacity=\"1\" /><path clip-path=\"url(#clip130)\" d=\"M145.992 242.895 Q142.381 242.895 140.552 246.46 Q138.746 250.002 138.746 257.131 Q138.746 264.238 140.552 267.802 Q142.381 271.344 145.992 271.344 Q149.626 271.344 151.431 267.802 Q153.26 264.238 153.26 257.131 Q153.26 250.002 151.431 246.46 Q149.626 242.895 145.992 242.895 M145.992 239.191 Q151.802 239.191 154.857 243.798 Q157.936 248.381 157.936 257.131 Q157.936 265.858 154.857 270.464 Q151.802 275.048 145.992 275.048 Q140.181 275.048 137.103 270.464 Q134.047 265.858 134.047 257.131 Q134.047 248.381 137.103 243.798 Q140.181 239.191 145.992 239.191 Z\" fill=\"#000000\" fill-rule=\"evenodd\" fill-opacity=\"1\" /><path clip-path=\"url(#clip130)\" d=\"M176.153 242.895 Q172.542 242.895 170.714 246.46 Q168.908 250.002 168.908 257.131 Q168.908 264.238 170.714 267.802 Q172.542 271.344 176.153 271.344 Q179.788 271.344 181.593 267.802 Q183.422 264.238 183.422 257.131 Q183.422 250.002 181.593 246.46 Q179.788 242.895 176.153 242.895 M176.153 239.191 Q181.964 239.191 185.019 243.798 Q188.098 248.381 188.098 257.131 Q188.098 265.858 185.019 270.464 Q181.964 275.048 176.153 275.048 Q170.343 275.048 167.265 270.464 Q164.209 265.858 164.209 257.131 Q164.209 248.381 167.265 243.798 Q170.343 239.191 176.153 239.191 Z\" fill=\"#000000\" fill-rule=\"evenodd\" fill-opacity=\"1\" /><path clip-path=\"url(#clip130)\" d=\"M209.163 243.891 L197.357 262.34 L209.163 262.34 L209.163 243.891 M207.936 239.816 L213.815 239.816 L213.815 262.34 L218.746 262.34 L218.746 266.228 L213.815 266.228 L213.815 274.376 L209.163 274.376 L209.163 266.228 L193.561 266.228 L193.561 261.715 L207.936 239.816 Z\" fill=\"#000000\" fill-rule=\"evenodd\" fill-opacity=\"1\" /><path clip-path=\"url(#clip130)\" d=\"M1084.58 12.096 L1092.76 12.096 L1092.76 72.576 L1084.58 72.576 L1084.58 12.096 Z\" fill=\"#000000\" fill-rule=\"evenodd\" fill-opacity=\"1\" /><path clip-path=\"url(#clip130)\" d=\"M1146.43 45.1919 L1146.43 72.576 L1138.98 72.576 L1138.98 45.4349 Q1138.98 38.994 1136.47 35.7938 Q1133.96 32.5936 1128.93 32.5936 Q1122.9 32.5936 1119.41 36.4419 Q1115.93 40.2903 1115.93 46.9338 L1115.93 72.576 L1108.44 72.576 L1108.44 27.2059 L1115.93 27.2059 L1115.93 34.2544 Q1118.6 30.163 1122.21 28.1376 Q1125.86 26.1121 1130.59 26.1121 Q1138.41 26.1121 1142.42 30.9732 Q1146.43 35.7938 1146.43 45.1919 Z\" fill=\"#000000\" fill-rule=\"evenodd\" fill-opacity=\"1\" /><path clip-path=\"url(#clip130)\" d=\"M1161.3 27.2059 L1168.75 27.2059 L1168.75 72.576 L1161.3 72.576 L1161.3 27.2059 M1161.3 9.54393 L1168.75 9.54393 L1168.75 18.9825 L1161.3 18.9825 L1161.3 9.54393 Z\" fill=\"#000000\" fill-rule=\"evenodd\" fill-opacity=\"1\" /><path clip-path=\"url(#clip130)\" d=\"M1191.72 14.324 L1191.72 27.2059 L1207.08 27.2059 L1207.08 32.9987 L1191.72 32.9987 L1191.72 57.6282 Q1191.72 63.1779 1193.22 64.7578 Q1194.76 66.3376 1199.42 66.3376 L1207.08 66.3376 L1207.08 72.576 L1199.42 72.576 Q1190.79 72.576 1187.51 69.3758 Q1184.23 66.1351 1184.23 57.6282 L1184.23 32.9987 L1178.76 32.9987 L1178.76 27.2059 L1184.23 27.2059 L1184.23 14.324 L1191.72 14.324 Z\" fill=\"#000000\" fill-rule=\"evenodd\" fill-opacity=\"1\" /><path clip-path=\"url(#clip130)\" d=\"M1216.88 27.2059 L1224.33 27.2059 L1224.33 72.576 L1216.88 72.576 L1216.88 27.2059 M1216.88 9.54393 L1224.33 9.54393 L1224.33 18.9825 L1216.88 18.9825 L1216.88 9.54393 Z\" fill=\"#000000\" fill-rule=\"evenodd\" fill-opacity=\"1\" /><path clip-path=\"url(#clip130)\" d=\"M1260.55 49.7694 Q1251.51 49.7694 1248.03 51.8354 Q1244.55 53.9013 1244.55 58.8839 Q1244.55 62.8538 1247.14 65.2034 Q1249.77 67.5124 1254.27 67.5124 Q1260.47 67.5124 1264.19 63.1374 Q1267.96 58.7219 1267.96 51.4303 L1267.96 49.7694 L1260.55 49.7694 M1275.41 46.6907 L1275.41 72.576 L1267.96 72.576 L1267.96 65.6895 Q1265.41 69.8214 1261.6 71.8063 Q1257.79 73.7508 1252.28 73.7508 Q1245.32 73.7508 1241.18 69.8619 Q1237.09 65.9325 1237.09 59.3701 Q1237.09 51.7138 1242.2 47.825 Q1247.34 43.9361 1257.51 43.9361 L1267.96 43.9361 L1267.96 43.2069 Q1267.96 38.0623 1264.56 35.2672 Q1261.2 32.4315 1255.08 32.4315 Q1251.19 32.4315 1247.5 33.3632 Q1243.82 34.295 1240.41 36.1584 L1240.41 29.2718 Q1244.51 27.692 1248.35 26.9223 Q1252.2 26.1121 1255.85 26.1121 Q1265.69 26.1121 1270.55 31.2163 Q1275.41 36.3204 1275.41 46.6907 Z\" fill=\"#000000\" fill-rule=\"evenodd\" fill-opacity=\"1\" /><path clip-path=\"url(#clip130)\" d=\"M1290.77 9.54393 L1298.22 9.54393 L1298.22 72.576 L1290.77 72.576 L1290.77 9.54393 Z\" fill=\"#000000\" fill-rule=\"evenodd\" fill-opacity=\"1\" /><path clip-path=\"url(#clip130)\" d=\"M1348.7 18.8205 L1348.7 65.8515 L1358.58 65.8515 Q1371.1 65.8515 1376.89 60.1802 Q1382.72 54.509 1382.72 42.2752 Q1382.72 30.1225 1376.89 24.4918 Q1371.1 18.8205 1358.58 18.8205 L1348.7 18.8205 M1340.51 12.096 L1357.32 12.096 Q1374.91 12.096 1383.13 19.4281 Q1391.35 26.7198 1391.35 42.2752 Q1391.35 57.9117 1383.09 65.2439 Q1374.82 72.576 1357.32 72.576 L1340.51 72.576 L1340.51 12.096 Z\" fill=\"#000000\" fill-rule=\"evenodd\" fill-opacity=\"1\" /><path clip-path=\"url(#clip130)\" d=\"M1424.69 49.7694 Q1415.66 49.7694 1412.17 51.8354 Q1408.69 53.9013 1408.69 58.8839 Q1408.69 62.8538 1411.28 65.2034 Q1413.92 67.5124 1418.41 67.5124 Q1424.61 67.5124 1428.34 63.1374 Q1432.1 58.7219 1432.1 51.4303 L1432.1 49.7694 L1424.69 49.7694 M1439.56 46.6907 L1439.56 72.576 L1432.1 72.576 L1432.1 65.6895 Q1429.55 69.8214 1425.74 71.8063 Q1421.94 73.7508 1416.43 73.7508 Q1409.46 73.7508 1405.33 69.8619 Q1401.24 65.9325 1401.24 59.3701 Q1401.24 51.7138 1406.34 47.825 Q1411.48 43.9361 1421.65 43.9361 L1432.1 43.9361 L1432.1 43.2069 Q1432.1 38.0623 1428.7 35.2672 Q1425.34 32.4315 1419.22 32.4315 Q1415.33 32.4315 1411.65 33.3632 Q1407.96 34.295 1404.56 36.1584 L1404.56 29.2718 Q1408.65 27.692 1412.5 26.9223 Q1416.35 26.1121 1419.99 26.1121 Q1429.84 26.1121 1434.7 31.2163 Q1439.56 36.3204 1439.56 46.6907 Z\" fill=\"#000000\" fill-rule=\"evenodd\" fill-opacity=\"1\" /><path clip-path=\"url(#clip130)\" d=\"M1462.28 14.324 L1462.28 27.2059 L1477.64 27.2059 L1477.64 32.9987 L1462.28 32.9987 L1462.28 57.6282 Q1462.28 63.1779 1463.78 64.7578 Q1465.32 66.3376 1469.98 66.3376 L1477.64 66.3376 L1477.64 72.576 L1469.98 72.576 Q1461.35 72.576 1458.07 69.3758 Q1454.79 66.1351 1454.79 57.6282 L1454.79 32.9987 L1449.32 32.9987 L1449.32 27.2059 L1454.79 27.2059 L1454.79 14.324 L1462.28 14.324 Z\" fill=\"#000000\" fill-rule=\"evenodd\" fill-opacity=\"1\" /><path clip-path=\"url(#clip130)\" d=\"M1508.06 49.7694 Q1499.02 49.7694 1495.54 51.8354 Q1492.06 53.9013 1492.06 58.8839 Q1492.06 62.8538 1494.65 65.2034 Q1497.28 67.5124 1501.78 67.5124 Q1507.98 67.5124 1511.7 63.1374 Q1515.47 58.7219 1515.47 51.4303 L1515.47 49.7694 L1508.06 49.7694 M1522.93 46.6907 L1522.93 72.576 L1515.47 72.576 L1515.47 65.6895 Q1512.92 69.8214 1509.11 71.8063 Q1505.3 73.7508 1499.79 73.7508 Q1492.83 73.7508 1488.69 69.8619 Q1484.6 65.9325 1484.6 59.3701 Q1484.6 51.7138 1489.71 47.825 Q1494.85 43.9361 1505.02 43.9361 L1515.47 43.9361 L1515.47 43.2069 Q1515.47 38.0623 1512.07 35.2672 Q1508.71 32.4315 1502.59 32.4315 Q1498.7 32.4315 1495.01 33.3632 Q1491.33 34.295 1487.93 36.1584 L1487.93 29.2718 Q1492.02 27.692 1495.87 26.9223 Q1499.71 26.1121 1503.36 26.1121 Q1513.2 26.1121 1518.06 31.2163 Q1522.93 36.3204 1522.93 46.6907 Z\" fill=\"#000000\" fill-rule=\"evenodd\" fill-opacity=\"1\" /><polyline clip-path=\"url(#clip132)\" style=\"stroke:#009af9; stroke-linecap:round; stroke-linejoin:round; stroke-width:4; stroke-opacity:1; fill:none\" points=\"254.746,790.787 257.365,790.787 259.978,790.787 262.584,790.787 265.184,790.787 267.777,790.787 270.364,790.787 272.944,790.787 275.518,790.787 278.086,790.787 280.647,790.787 283.202,790.787 285.751,790.787 288.293,790.787 290.83,790.787 293.36,790.787 295.883,790.787 298.401,790.787 300.912,790.787 303.418,790.787 305.917,790.787 308.41,790.787 310.897,790.787 313.378,790.787 315.853,790.787 318.322,790.787 320.785,790.787 323.242,790.787 325.693,790.787 328.138,790.787 330.578,790.787 333.011,790.787 335.439,790.787 337.86,790.787 340.276,790.787 342.686,790.787 345.091,790.787 347.489,790.787 349.882,790.787 352.27,790.787 354.651,790.787 357.027,790.787 359.397,790.787 361.762,790.787 364.121,790.787 366.474,790.787 368.822,790.787 371.164,790.787 373.501,790.787 375.832,790.787 378.158,790.787 380.479,790.787 382.793,790.787 385.103,790.787 387.407,790.787 389.706,790.787 391.999,790.787 394.287,790.787 396.569,790.787 398.847,790.787 401.119,790.787 403.385,790.787 405.647,790.787 407.903,790.787 410.154,790.787 412.4,790.787 414.64,790.787 416.876,790.787 419.106,790.787 421.331,790.787 423.551,790.787 425.766,790.787 427.976,790.787 430.181,790.787 432.381,790.787 434.575,790.787 436.765,790.787 438.95,790.787 441.129,790.787 443.304,790.787 445.474,790.787 447.639,790.787 449.799,790.787 451.954,790.787 454.104,790.787 456.25,790.787 458.39,790.787 460.526,790.787 462.657,790.787 464.783,790.787 466.904,790.787 469.021,790.787 471.133,790.787 473.24,790.787 475.342,790.787 477.44,790.787 479.533,790.787 481.621,790.787 483.705,790.787 485.784,790.787 487.858,790.787 489.928,790.787 491.993,790.787 494.054,790.787 496.11,790.787 498.161,790.787 500.208,790.787 502.251,790.787 504.289,790.787 506.322,790.787 508.351,790.787 510.376,790.787 512.396,790.787 514.412,790.787 516.423,790.787 518.43,790.787 520.433,790.787 522.431,790.787 524.425,790.787 526.414,790.787 528.399,790.787 530.38,790.787 532.357,790.787 534.329,790.787 536.297,790.787 538.261,790.787 540.22,790.787 542.175,790.787 544.127,790.787 546.073,790.787 548.016,790.787 549.955,790.787 551.889,790.787 553.819,790.787 555.745,790.787 557.667,790.787 559.585,790.787 561.499,790.787 563.408,790.787 565.314,790.787 567.215,790.787 569.113,790.787 571.006,790.787 572.896,790.787 574.781,790.787 576.663,790.787 578.54,790.787 580.414,790.787 582.283,790.787 584.149,790.787 586.011,790.787 587.868,790.787 589.722,790.787 591.572,790.787 593.418,790.787 595.261,790.787 597.099,790.787 598.934,790.787 600.764,790.787 602.591,790.787 604.414,790.787 606.233,790.787 608.049,790.787 609.861,790.787 611.669,790.787 613.473,790.787 615.273,790.787 617.07,790.787 618.863,790.787 620.653,790.787 622.438,790.787 624.22,790.787 625.999,790.787 627.773,790.787 629.544,790.787 631.312,790.787 633.076,790.787 634.836,790.787 636.592,790.787 638.345,790.787 640.095,790.787 641.84,790.787 643.583,790.787 645.321,790.787 647.057,790.787 648.788,790.787 650.517,790.787 652.241,790.787 653.962,790.787 655.68,790.787 657.394,790.787 659.105,790.787 660.812,790.787 662.516,790.787 664.217,790.787 665.914,790.787 667.607,790.787 669.297,790.787 670.984,790.787 672.668,790.787 674.348,790.787 676.025,790.787 677.698,790.787 679.368,790.787 681.035,790.787 682.698,790.787 684.358,790.787 686.015,790.787 687.669,790.787 689.319,790.787 690.966,790.787 692.609,790.787 694.25,790.787 695.887,790.787 697.521,790.787 699.152,790.787 700.779,790.787 702.404,790.787 704.025,790.787 705.643,790.787 707.258,790.787 708.869,790.787 710.478,790.787 712.083,790.787 713.686,790.787 715.285,790.787 716.881,790.787 718.473,790.787 720.063,790.787 721.65,790.787 723.234,790.787 724.814,790.787 726.392,790.787 727.966,790.787 729.537,790.787 731.106,790.787 732.671,790.787 734.233,790.787 735.792,790.787 737.349,790.787 738.902,790.787 740.452,790.787 742,790.787 743.544,790.787 745.085,790.787 746.624,790.787 748.159,790.787 749.692,790.787 751.222,790.787 752.748,790.787 754.272,790.787 755.793,790.787 757.311,790.787 758.826,790.787 760.338,790.787 761.848,790.787 763.354,790.787 764.858,790.787 766.359,790.787 767.857,790.787 769.352,790.787 770.844,790.787 772.334,790.787 773.821,790.787 775.305,790.787 776.786,790.787 778.264,790.787 779.74,790.787 781.213,790.787 782.683,790.787 784.15,790.787 785.615,790.787 787.077,790.787 788.536,790.787 789.992,790.787 791.446,790.787 792.897,790.787 794.345,790.787 795.791,790.787 797.234,790.787 798.674,790.787 800.112,790.787 801.547,790.787 802.979,790.787 804.409,790.787 805.836,790.787 807.26,790.787 808.682,790.787 810.101,790.787 811.518,790.787 812.932,790.787 814.343,790.787 815.752,790.787 817.158,790.787 818.562,790.787 819.963,790.787 821.362,790.787 822.758,790.787 824.151,790.787 825.542,790.787 826.93,790.787 828.316,790.787 829.7,790.787 831.08,790.787 832.459,790.787 833.835,790.787 835.208,790.787 836.579,790.787 837.947,790.787 839.313,790.787 840.677,790.787 842.038,790.787 843.396,790.787 844.752,790.787 846.106,790.787 847.457,790.787 848.806,790.787 850.152,790.787 851.496,790.787 852.838,790.787 854.177,790.787 855.514,790.787 856.849,790.787 858.181,790.787 859.51,790.787 860.838,790.787 862.163,790.787 863.485,790.787 864.806,790.787 866.123,790.787 867.439,790.787 868.752,790.787 870.063,790.787 871.372,790.787 872.678,790.787 873.982,790.787 875.284,790.787 876.583,790.787 877.881,790.787 879.176,790.787 880.468,790.787 881.759,790.787 883.047,790.787 884.332,790.787 885.616,790.787 886.897,790.787 888.176,790.787 889.453,790.787 890.728,790.787 892,790.787 893.271,790.787 894.539,790.787 895.804,790.787 897.068,790.787 898.33,790.787 899.589,790.787 900.846,790.787 902.101,790.787 903.353,790.787 904.604,790.787 905.852,790.787 907.099,790.787 908.343,790.787 909.585,790.787 910.825,790.787 912.062,790.787 913.298,790.787 914.531,790.787 915.763,790.787 916.992,790.787 918.219,790.787 919.444,790.787 920.667,790.787 921.888,790.787 923.107,790.787 924.324,790.787 925.538,790.787 926.751,790.787 927.961,790.787 929.17,790.787 930.376,790.787 931.581,790.787 932.783,790.787 933.983,790.787 935.182,790.787 936.378,790.787 937.572,790.787 938.764,790.787 939.955,790.787 941.143,790.787 942.329,790.787 943.513,790.787 944.695,790.787 945.876,790.787 947.054,790.787 948.23,790.787 949.405,790.787 950.577,790.787 951.748,790.787 952.916,790.787 954.083,790.787 955.247,790.787 956.41,790.787 957.571,790.787 958.729,790.787 959.886,790.787 961.041,790.787 962.194,790.787 963.345,790.787 964.495,790.787 965.642,790.787 966.787,790.787 967.931,790.787 969.072,790.787 970.212,790.787 971.35,790.787 972.486,790.787 973.62,790.787 974.753,790.787 975.883,790.787 977.012,790.787 978.138,790.787 979.263,790.787 980.386,790.787 981.508,790.787 982.627,790.787 983.744,790.787 984.86,790.787 985.974,790.787 987.086,790.787 988.197,790.787 989.305,790.787 990.412,790.787 991.517,790.787 992.62,790.787 993.721,790.787 994.821,790.787 995.918,790.787 997.014,790.787 998.109,790.787 999.201,790.787 1000.29,790.787 1001.38,790.787 1002.47,790.787 1003.55,790.787 1004.64,790.787 1005.72,790.787 1006.8,790.787 1007.88,790.787 1008.95,790.787 1010.03,790.787 1011.1,790.787 1012.17,790.787 1013.24,790.787 1014.31,790.787 1015.38,790.787 1016.44,790.787 1017.51,790.787 1018.57,790.787 1019.63,790.787 1020.69,790.787 1021.74,790.787 1022.8,790.787 1023.85,790.787 1024.9,790.787 1025.95,790.787 1027,790.787 1028.05,790.787 1029.09,790.787 1030.13,790.787 1031.17,790.787 1032.21,790.787 1033.25,790.787 1034.29,790.787 1035.32,790.787 1036.36,790.787 1037.39,790.787 1038.42,790.787 1039.45,790.787 1040.47,790.787 1041.5,790.787 1042.52,790.787 1043.55,790.787 1044.57,790.787 1045.58,790.787 1046.6,790.787 1047.62,790.787 1048.63,790.787 1049.64,790.787 1050.66,790.787 1051.66,790.787 1052.67,790.787 1053.68,790.787 1054.68,790.787 1055.69,790.787 1056.69,790.787 1057.69,790.787 1058.69,790.787 1059.68,790.787 1060.68,790.787 1061.67,790.787 1062.67,790.787 1063.66,790.787 1064.65,790.787 1065.63,790.787 1066.62,790.787 1067.6,790.787 1068.59,790.787 1069.57,790.787 1070.55,790.787 1071.53,790.787 1072.51,790.787 1073.48,790.787 1074.46,790.787 1075.43,790.787 1076.4,790.787 1077.37,790.787 1078.34,790.787 1079.31,790.787 1080.27,790.787 1081.23,790.787 1082.2,790.787 1083.16,790.787 1084.12,790.787 1085.08,790.787 1086.03,790.787 1086.99,790.787 1087.94,790.787 1088.89,790.787 1089.85,790.787 1090.79,790.787 1091.74,790.787 1092.69,790.787 1093.64,790.787 1094.58,790.787 1095.52,790.787 1096.46,790.787 1097.4,790.787 1098.34,790.787 1099.28,790.787 1100.21,790.787 1101.15,790.787 1102.08,790.787 1103.01,790.787 1103.94,790.787 1104.87,790.787 1105.8,790.787 1106.72,790.787 1107.65,790.787 1108.57,790.787 1109.49,790.787 1110.41,790.787 1111.33,790.787 1112.25,790.787 1113.16,790.787 1114.08,790.787 1114.99,790.787 1115.9,790.787 1116.81,790.787 1117.72,790.787 1118.63,790.787 1119.54,790.787 1120.44,790.787 1121.35,790.787 1122.25,790.787 1123.15,790.787 1124.05,790.787 1124.95,790.787 1125.85,790.787 1126.75,790.787 1127.64,790.787 1128.53,790.787 1129.43,790.787 1130.32,790.787 1131.21,790.787 1132.1,790.787 1132.98,790.787 1133.87,790.787 1134.75,790.787 1135.64,790.787 1136.52,790.787 1137.4,790.787 1138.28,790.787 1139.16,790.787 1140.03,790.787 1140.91,790.787 1141.78,790.787 1142.66,790.787 1143.53,790.787 1144.4,790.787 1145.27,790.787 1146.14,790.787 1147,790.787 1147.87,790.787 1148.73,790.787 1149.6,790.787 1150.46,790.787 1151.32,790.787 1152.18,790.787 1153.04,790.787 1153.89,790.787 1154.75,790.787 1155.6,790.787 1156.46,790.787 1157.31,790.787 1158.16,790.787 1159.01,790.787 1159.86,790.787 1160.7,790.787 1161.55,790.787 1162.4,790.787 1163.24,790.787 1164.08,790.787 1164.92,790.787 1165.76,790.787 1166.6,790.787 1167.44,790.787 1168.28,790.787 1169.11,790.787 1169.95,790.787 1170.78,790.787 1171.61,790.787 1172.44,790.787 1173.27,790.787 1174.1,790.787 1174.93,790.787 1175.75,790.787 1176.58,790.787 1177.4,790.787 1178.22,790.787 1179.04,790.787 1179.86,790.787 1180.68,790.787 1181.5,790.787 1182.32,790.787 1183.13,790.787 1183.95,790.787 1184.76,790.787 1185.57,790.787 1186.38,790.787 1187.19,790.787 1188,790.787 1188.81,790.787 1189.62,790.787 1190.42,790.787 1191.23,790.787 1192.03,790.787 1192.83,790.787 1193.63,790.787 1194.43,790.787 1195.23,790.787 1196.03,790.787 1196.83,790.787 1197.62,790.787 1198.42,790.787 1199.21,790.787 1200,790.787 1200.79,790.787 1201.58,790.787 1202.37,790.787 1203.16,790.787 1203.95,790.787 1204.73,790.787 1205.52,790.787 1206.3,790.787 1207.08,790.787 1207.87,790.787 1208.65,790.787 1209.43,790.787 1210.2,790.787 1210.98,790.787 1211.76,790.787 1212.53,790.787 1213.31,790.787 1214.08,790.787 1214.85,790.787 1215.62,790.787 1216.39,790.787 1217.16,790.787 1217.93,790.787 1218.7,790.787 1219.46,790.787 1220.23,790.787 1220.99,790.787 1221.75,790.787 1222.51,790.787 1223.28,790.787 1224.03,790.787 1224.79,790.787 1225.55,790.787 1226.31,790.787 1227.06,790.787 1227.82,790.787 1228.57,790.787 1229.32,790.787 1230.07,790.787 1230.83,790.787 1231.57,790.787 1232.32,790.787 1233.07,790.787 1233.82,790.787 1234.56,790.787 1235.31,790.787 1236.05,790.787 1236.79,790.787 1237.53,790.787 1238.28,790.787 1239.01,790.787 1239.75,790.787 1240.49,790.787 1241.23,790.787 1241.96,790.787 1242.7,790.787 1243.43,790.787 1244.16,790.787 1244.9,790.787 1245.63,790.787 1246.36,790.787 1247.09,790.787 1247.81,790.787 1248.54,790.787 1249.27,790.787 1249.99,790.787 1250.72,790.787 1251.44,790.787 1252.16,790.787 1252.88,790.787 1253.6,790.787 1254.32,790.787 1255.04,790.787 1255.76,790.787 1256.47,790.787 1257.19,790.787 1257.9,790.787 1258.62,790.787 1259.33,790.787 1260.04,790.787 1260.75,790.787 1261.46,790.787 1262.17,790.787 1262.88,790.787 1263.59,790.787 1264.29,790.787 1265,790.787 1265.7,790.787 1266.41,790.787 1267.11,790.787 1267.81,790.787 1268.51,790.787 1269.21,790.787 1269.91,790.787 1270.61,790.787 1271.31,790.787 1272,790.787 1272.7,790.787 1273.39,790.787 1274.09,790.787 1274.78,790.787 1275.47,790.787 1276.16,790.787 1276.85,790.787 1277.54,790.787 1278.23,790.787 1278.92,790.787 1279.6,790.787 1280.29,790.787 1280.98,790.787 1281.66,790.787 1282.34,790.787 1283.02,790.787 1283.71,790.787 1284.39,790.787 1285.07,790.787 1285.75,790.787 1286.42,790.787 1287.1,790.787 1287.78,790.787 1288.45,790.787 1289.13,790.787 1289.8,790.787 1290.47,790.787 1291.14,790.787 1291.82,790.787 1292.49,790.787 1293.15,790.787 1293.82,790.787 1294.49,790.787 1295.16,790.787 1295.82,790.787 1296.49,790.787 1297.15,790.787 1297.82,790.787 1298.48,790.787 1299.14,790.787 1299.8,790.787 1300.46,790.787 1301.12,790.787 1301.78,790.787 1302.44,790.787 1303.09,790.787 1303.75,790.787 \"/>\n",
       "<polyline clip-path=\"url(#clip132)\" style=\"stroke:#e26f46; stroke-linecap:round; stroke-linejoin:round; stroke-width:4; stroke-opacity:1; fill:none\" points=\"254.746,790.787 257.365,790.787 259.978,790.787 262.584,790.787 265.184,790.787 267.777,790.787 270.364,790.787 272.944,790.787 275.518,790.787 278.086,790.787 280.647,790.787 283.202,790.787 285.751,790.787 288.293,790.787 290.83,790.787 293.36,790.787 295.883,790.787 298.401,790.787 300.912,790.787 303.418,790.787 305.917,790.787 308.41,790.787 310.897,790.787 313.378,790.787 315.853,790.787 318.322,790.787 320.785,790.787 323.242,790.787 325.693,790.787 328.138,790.787 330.578,790.787 333.011,790.787 335.439,790.787 337.86,790.787 340.276,790.787 342.686,790.787 345.091,790.787 347.489,790.787 349.882,790.787 352.27,790.787 354.651,790.787 357.027,790.787 359.397,790.787 361.762,790.787 364.121,790.787 366.474,790.787 368.822,790.787 371.164,790.787 373.501,790.787 375.832,790.787 378.158,790.787 380.479,790.787 382.793,790.787 385.103,790.787 387.407,790.787 389.706,790.787 391.999,790.787 394.287,790.787 396.569,790.787 398.847,790.787 401.119,790.787 403.385,790.787 405.647,790.787 407.903,790.787 410.154,790.787 412.4,790.787 414.64,790.787 416.876,790.787 419.106,790.787 421.331,790.787 423.551,790.787 425.766,790.787 427.976,790.787 430.181,790.787 432.381,790.787 434.575,790.787 436.765,790.787 438.95,790.787 441.129,790.787 443.304,790.787 445.474,790.787 447.639,790.787 449.799,790.787 451.954,790.787 454.104,790.787 456.25,790.787 458.39,790.787 460.526,790.787 462.657,790.787 464.783,790.787 466.904,790.787 469.021,790.787 471.133,790.787 473.24,790.787 475.342,790.787 477.44,790.787 479.533,790.787 481.621,790.787 483.705,790.787 485.784,790.787 487.858,790.787 489.928,790.787 491.993,790.787 494.054,790.787 496.11,790.787 498.161,790.787 500.208,790.787 502.251,790.787 504.289,790.787 506.322,790.787 508.351,790.787 510.376,790.787 512.396,790.787 514.412,790.787 516.423,790.787 518.43,790.787 520.433,790.787 522.431,790.787 524.425,790.787 526.414,790.787 528.399,790.787 530.38,790.787 532.357,790.787 534.329,790.787 536.297,790.787 538.261,790.787 540.22,790.787 542.175,790.787 544.127,790.787 546.073,790.787 548.016,790.787 549.955,790.787 551.889,790.787 553.819,790.787 555.745,790.787 557.667,790.787 559.585,790.787 561.499,790.787 563.408,790.787 565.314,790.787 567.215,790.787 569.113,790.787 571.006,790.787 572.896,790.787 574.781,790.787 576.663,790.787 578.54,790.787 580.414,790.787 582.283,790.787 584.149,790.787 586.011,790.787 587.868,790.787 589.722,790.787 591.572,790.787 593.418,790.787 595.261,790.787 597.099,790.787 598.934,790.787 600.764,790.787 602.591,790.787 604.414,790.787 606.233,790.787 608.049,790.787 609.861,790.787 611.669,790.787 613.473,790.787 615.273,790.787 617.07,790.787 618.863,790.787 620.653,790.787 622.438,790.787 624.22,790.787 625.999,790.787 627.773,790.787 629.544,790.787 631.312,790.787 633.076,790.787 634.836,790.787 636.592,790.787 638.345,790.787 640.095,790.787 641.84,790.787 643.583,790.787 645.321,790.787 647.057,790.787 648.788,790.787 650.517,790.787 652.241,790.787 653.962,790.787 655.68,790.787 657.394,790.787 659.105,790.787 660.812,790.787 662.516,790.787 664.217,790.787 665.914,790.787 667.607,790.787 669.297,790.787 670.984,790.787 672.668,790.787 674.348,790.787 676.025,790.787 677.698,790.787 679.368,790.787 681.035,790.787 682.698,790.787 684.358,790.787 686.015,790.787 687.669,790.787 689.319,790.787 690.966,790.787 692.609,790.787 694.25,790.787 695.887,790.787 697.521,790.787 699.152,790.787 700.779,790.787 702.404,790.787 704.025,790.787 705.643,790.787 707.258,790.787 708.869,790.787 710.478,790.787 712.083,790.787 713.686,790.787 715.285,790.787 716.881,790.787 718.473,790.787 720.063,790.787 721.65,790.787 723.234,790.787 724.814,790.787 726.392,790.787 727.966,790.787 729.537,790.787 731.106,790.787 732.671,790.787 734.233,790.787 735.792,790.787 737.349,790.787 738.902,790.787 740.452,790.787 742,790.787 743.544,790.787 745.085,790.787 746.624,790.787 748.159,790.787 749.692,790.787 751.222,790.787 752.748,790.787 754.272,790.787 755.793,790.787 757.311,790.787 758.826,790.787 760.338,790.787 761.848,790.787 763.354,790.787 764.858,790.787 766.359,790.787 767.857,790.787 769.352,790.787 770.844,790.787 772.334,790.787 773.821,790.787 775.305,790.787 776.786,790.787 778.264,790.787 779.74,790.787 781.213,790.787 782.683,790.787 784.15,790.787 785.615,790.787 787.077,790.787 788.536,790.787 789.992,790.787 791.446,790.787 792.897,790.787 794.345,790.787 795.791,790.787 797.234,790.787 798.674,790.787 800.112,790.787 801.547,790.787 802.979,790.787 804.409,790.787 805.836,790.787 807.26,790.787 808.682,790.787 810.101,790.787 811.518,790.787 812.932,790.787 814.343,790.787 815.752,790.787 817.158,790.787 818.562,790.787 819.963,790.787 821.362,790.787 822.758,790.787 824.151,790.787 825.542,790.787 826.93,790.787 828.316,790.787 829.7,790.787 831.08,790.787 832.459,790.787 833.835,790.787 835.208,790.787 836.579,790.787 837.947,790.787 839.313,790.787 840.677,790.787 842.038,790.787 843.396,790.787 844.752,790.787 846.106,790.787 847.457,790.787 848.806,790.787 850.152,790.787 851.496,790.787 852.838,790.787 854.177,790.787 855.514,790.787 856.849,790.787 858.181,790.787 859.51,790.787 860.838,790.787 862.163,790.787 863.485,790.787 864.806,790.787 866.123,790.787 867.439,790.787 868.752,790.787 870.063,790.787 871.372,790.787 872.678,790.787 873.982,790.787 875.284,790.787 876.583,790.787 877.881,790.787 879.176,790.787 880.468,790.787 881.759,790.787 883.047,790.787 884.332,790.787 885.616,790.787 886.897,790.787 888.176,790.787 889.453,790.787 890.728,790.787 892,790.787 893.271,790.787 894.539,790.787 895.804,790.787 897.068,790.787 898.33,790.787 899.589,790.787 900.846,790.787 902.101,790.787 903.353,790.787 904.604,790.787 905.852,790.787 907.099,790.787 908.343,790.787 909.585,790.787 910.825,790.787 912.062,790.787 913.298,790.787 914.531,790.787 915.763,790.787 916.992,790.787 918.219,790.787 919.444,790.787 920.667,790.787 921.888,790.787 923.107,790.787 924.324,790.787 925.538,790.787 926.751,790.787 927.961,790.787 929.17,790.787 930.376,790.787 931.581,790.787 932.783,790.787 933.983,790.787 935.182,790.787 936.378,790.787 937.572,790.787 938.764,790.787 939.955,790.787 941.143,790.787 942.329,790.787 943.513,790.787 944.695,790.787 945.876,790.787 947.054,790.787 948.23,790.787 949.405,790.787 950.577,790.787 951.748,790.787 952.916,790.787 954.083,790.787 955.247,790.787 956.41,790.787 957.571,790.787 958.729,790.787 959.886,790.787 961.041,790.787 962.194,790.787 963.345,790.787 964.495,790.787 965.642,790.787 966.787,790.787 967.931,790.787 969.072,790.787 970.212,790.787 971.35,790.787 972.486,790.787 973.62,790.787 974.753,790.787 975.883,790.787 977.012,790.787 978.138,790.787 979.263,790.787 980.386,790.787 981.508,790.787 982.627,790.787 983.744,790.787 984.86,790.787 985.974,790.787 987.086,790.787 988.197,790.787 989.305,790.787 990.412,790.787 991.517,790.787 992.62,790.787 993.721,790.787 994.821,790.787 995.918,790.787 997.014,790.787 998.109,790.787 999.201,790.787 1000.29,790.787 1001.38,790.787 1002.47,790.787 1003.55,790.787 1004.64,790.787 1005.72,790.787 1006.8,790.787 1007.88,790.787 1008.95,790.787 1010.03,790.787 1011.1,790.787 1012.17,790.787 1013.24,790.787 1014.31,790.787 1015.38,790.787 1016.44,790.787 1017.51,790.787 1018.57,790.787 1019.63,790.787 1020.69,790.787 1021.74,790.787 1022.8,790.787 1023.85,790.787 1024.9,790.787 1025.95,790.787 1027,790.787 1028.05,790.787 1029.09,790.787 1030.13,790.787 1031.17,790.787 1032.21,790.787 1033.25,790.787 1034.29,790.787 1035.32,790.787 1036.36,790.787 1037.39,790.787 1038.42,790.787 1039.45,790.787 1040.47,790.787 1041.5,790.787 1042.52,790.787 1043.55,790.787 1044.57,790.787 1045.58,790.787 1046.6,790.787 1047.62,790.787 1048.63,790.787 1049.64,790.787 1050.66,790.787 1051.66,790.787 1052.67,790.787 1053.68,790.787 1054.68,790.787 1055.69,790.787 1056.69,790.787 1057.69,790.787 1058.69,790.787 1059.68,790.787 1060.68,790.787 1061.67,790.787 1062.67,790.787 1063.66,790.787 1064.65,790.787 1065.63,790.787 1066.62,790.787 1067.6,790.787 1068.59,790.787 1069.57,790.787 1070.55,790.787 1071.53,790.787 1072.51,790.787 1073.48,790.787 1074.46,790.787 1075.43,790.787 1076.4,790.787 1077.37,790.787 1078.34,790.787 1079.31,790.787 1080.27,790.787 1081.23,790.787 1082.2,790.787 1083.16,790.787 1084.12,790.787 1085.08,790.787 1086.03,790.787 1086.99,790.787 1087.94,790.787 1088.89,790.787 1089.85,790.787 1090.79,790.787 1091.74,790.787 1092.69,790.787 1093.64,790.787 1094.58,790.787 1095.52,790.787 1096.46,790.787 1097.4,790.787 1098.34,790.787 1099.28,790.787 1100.21,790.787 1101.15,790.787 1102.08,790.787 1103.01,790.787 1103.94,790.787 1104.87,790.787 1105.8,790.787 1106.72,790.787 1107.65,790.787 1108.57,790.787 1109.49,790.787 1110.41,790.787 1111.33,790.787 1112.25,790.787 1113.16,790.787 1114.08,790.787 1114.99,790.787 1115.9,790.787 1116.81,790.787 1117.72,790.787 1118.63,790.787 1119.54,790.787 1120.44,790.787 1121.35,790.787 1122.25,790.787 1123.15,790.787 1124.05,790.787 1124.95,790.787 1125.85,790.787 1126.75,790.787 1127.64,790.787 1128.53,790.787 1129.43,790.787 1130.32,790.787 1131.21,790.787 1132.1,790.787 1132.98,790.787 1133.87,790.787 1134.75,790.787 1135.64,790.787 1136.52,790.787 1137.4,790.787 1138.28,790.787 1139.16,790.787 1140.03,790.787 1140.91,790.787 1141.78,790.787 1142.66,790.787 1143.53,790.787 1144.4,790.787 1145.27,790.787 1146.14,790.787 1147,790.787 1147.87,790.787 1148.73,790.787 1149.6,790.787 1150.46,790.787 1151.32,790.787 1152.18,790.787 1153.04,790.787 1153.89,790.787 1154.75,790.787 1155.6,790.787 1156.46,790.787 1157.31,790.787 1158.16,790.787 1159.01,790.787 1159.86,790.787 1160.7,790.787 1161.55,790.787 1162.4,790.787 1163.24,790.787 1164.08,790.787 1164.92,790.787 1165.76,790.787 1166.6,790.787 1167.44,790.787 1168.28,790.787 1169.11,790.787 1169.95,790.787 1170.78,790.787 1171.61,790.787 1172.44,790.787 1173.27,790.787 1174.1,790.787 1174.93,790.787 1175.75,790.787 1176.58,790.787 1177.4,790.787 1178.22,790.787 1179.04,790.787 1179.86,790.787 1180.68,790.787 1181.5,790.787 1182.32,790.787 1183.13,790.787 1183.95,790.787 1184.76,790.787 1185.57,790.787 1186.38,790.787 1187.19,790.787 1188,790.787 1188.81,790.787 1189.62,790.787 1190.42,790.787 1191.23,790.787 1192.03,790.787 1192.83,790.787 1193.63,790.787 1194.43,790.787 1195.23,790.787 1196.03,790.787 1196.83,790.787 1197.62,790.787 1198.42,790.787 1199.21,790.787 1200,790.787 1200.79,790.787 1201.58,790.787 1202.37,790.787 1203.16,790.787 1203.95,790.787 1204.73,790.787 1205.52,790.787 1206.3,790.787 1207.08,790.787 1207.87,790.787 1208.65,790.787 1209.43,790.787 1210.2,790.787 1210.98,790.787 1211.76,790.787 1212.53,790.787 1213.31,790.787 1214.08,790.787 1214.85,790.787 1215.62,790.787 1216.39,790.787 1217.16,790.787 1217.93,790.787 1218.7,790.787 1219.46,790.787 1220.23,790.787 1220.99,790.787 1221.75,790.787 1222.51,790.787 1223.28,790.787 1224.03,790.787 1224.79,790.787 1225.55,790.787 1226.31,790.787 1227.06,790.787 1227.82,790.787 1228.57,790.787 1229.32,790.787 1230.07,790.787 1230.83,790.787 1231.57,790.787 1232.32,790.787 1233.07,790.787 1233.82,790.787 1234.56,790.787 1235.31,790.787 1236.05,790.787 1236.79,790.787 1237.53,790.787 1238.28,790.787 1239.01,790.787 1239.75,790.787 1240.49,790.787 1241.23,790.787 1241.96,790.787 1242.7,790.787 1243.43,790.787 1244.16,790.787 1244.9,790.787 1245.63,790.787 1246.36,790.787 1247.09,790.787 1247.81,790.787 1248.54,790.787 1249.27,790.787 1249.99,790.787 1250.72,790.787 1251.44,790.787 1252.16,790.787 1252.88,790.787 1253.6,790.787 1254.32,790.787 1255.04,790.787 1255.76,790.787 1256.47,790.787 1257.19,790.787 1257.9,790.787 1258.62,790.787 1259.33,790.787 1260.04,790.787 1260.75,790.787 1261.46,790.787 1262.17,790.787 1262.88,790.787 1263.59,790.787 1264.29,790.787 1265,790.787 1265.7,790.787 1266.41,790.787 1267.11,790.787 1267.81,790.787 1268.51,790.787 1269.21,790.787 1269.91,790.787 1270.61,790.787 1271.31,790.787 1272,790.787 1272.7,790.787 1273.39,790.787 1274.09,790.787 1274.78,790.787 1275.47,790.787 1276.16,790.787 1276.85,790.787 1277.54,790.787 1278.23,790.787 1278.92,790.787 1279.6,790.787 1280.29,790.787 1280.98,790.787 1281.66,790.787 1282.34,790.787 1283.02,790.787 1283.71,790.787 1284.39,790.787 1285.07,790.787 1285.75,790.787 1286.42,790.787 1287.1,790.787 1287.78,790.787 1288.45,790.787 1289.13,790.787 1289.8,790.787 1290.47,790.787 1291.14,790.787 1291.82,790.787 1292.49,790.787 1293.15,790.787 1293.82,790.787 1294.49,790.787 1295.16,790.787 1295.82,790.787 1296.49,790.787 1297.15,790.787 1297.82,790.787 1298.48,790.787 1299.14,790.787 1299.8,790.787 1300.46,790.787 1301.12,790.787 1301.78,790.787 1302.44,790.787 1303.09,790.787 1303.75,790.787 \"/>\n",
       "<polyline clip-path=\"url(#clip132)\" style=\"stroke:#3da44d; stroke-linecap:round; stroke-linejoin:round; stroke-width:4; stroke-opacity:1; fill:none\" points=\"254.746,790.787 257.365,790.787 259.978,790.787 262.584,790.787 265.184,790.787 267.777,790.787 270.364,790.787 272.944,790.787 275.518,790.787 278.086,790.787 280.647,790.787 283.202,790.787 285.751,790.787 288.293,790.787 290.83,790.787 293.36,790.787 295.883,790.787 298.401,790.787 300.912,790.787 303.418,790.787 305.917,790.787 308.41,790.787 310.897,790.787 313.378,790.787 315.853,790.787 318.322,790.787 320.785,790.787 323.242,790.787 325.693,790.787 328.138,790.787 330.578,790.787 333.011,790.787 335.439,790.787 337.86,790.787 340.276,790.787 342.686,790.787 345.091,790.787 347.489,790.787 349.882,790.787 352.27,790.787 354.651,790.787 357.027,790.787 359.397,790.787 361.762,790.787 364.121,790.787 366.474,790.787 368.822,790.787 371.164,790.787 373.501,790.787 375.832,790.787 378.158,790.787 380.479,790.787 382.793,790.787 385.103,790.787 387.407,790.787 389.706,790.787 391.999,790.787 394.287,790.787 396.569,790.787 398.847,790.787 401.119,790.787 403.385,790.787 405.647,790.787 407.903,790.787 410.154,790.787 412.4,790.787 414.64,790.787 416.876,790.787 419.106,790.787 421.331,790.787 423.551,790.787 425.766,790.787 427.976,790.787 430.181,790.787 432.381,790.787 434.575,790.787 436.765,790.787 438.95,790.787 441.129,790.787 443.304,790.787 445.474,790.787 447.639,790.787 449.799,790.787 451.954,790.787 454.104,790.787 456.25,790.787 458.39,790.787 460.526,790.787 462.657,790.787 464.783,790.787 466.904,790.787 469.021,790.787 471.133,790.787 473.24,790.787 475.342,790.787 477.44,790.787 479.533,790.787 481.621,790.787 483.705,790.787 485.784,790.787 487.858,790.787 489.928,790.787 491.993,790.787 494.054,790.787 496.11,790.787 498.161,790.787 500.208,790.787 502.251,790.787 504.289,790.787 506.322,790.787 508.351,790.787 510.376,790.787 512.396,790.787 514.412,790.787 516.423,790.787 518.43,790.787 520.433,790.787 522.431,790.787 524.425,790.787 526.414,790.787 528.399,790.787 530.38,790.787 532.357,790.787 534.329,790.787 536.297,790.787 538.261,790.787 540.22,790.787 542.175,790.787 544.127,790.787 546.073,790.787 548.016,790.787 549.955,790.787 551.889,790.787 553.819,790.787 555.745,790.787 557.667,790.787 559.585,790.787 561.499,790.787 563.408,790.787 565.314,790.787 567.215,790.787 569.113,790.787 571.006,790.787 572.896,790.787 574.781,790.787 576.663,790.787 578.54,790.787 580.414,790.787 582.283,790.787 584.149,790.787 586.011,790.787 587.868,790.787 589.722,790.787 591.572,790.787 593.418,790.787 595.261,790.787 597.099,790.787 598.934,790.787 600.764,790.787 602.591,790.787 604.414,790.787 606.233,790.787 608.049,790.787 609.861,790.787 611.669,790.787 613.473,790.787 615.273,790.787 617.07,790.787 618.863,790.787 620.653,790.787 622.438,790.787 624.22,790.787 625.999,790.787 627.773,790.787 629.544,790.787 631.312,790.787 633.076,790.787 634.836,790.787 636.592,790.787 638.345,790.787 640.095,790.787 641.84,790.787 643.583,790.787 645.321,790.787 647.057,790.787 648.788,790.787 650.517,790.787 652.241,790.787 653.962,790.787 655.68,790.787 657.394,790.787 659.105,790.787 660.812,790.787 662.516,790.787 664.217,790.787 665.914,790.787 667.607,790.787 669.297,790.787 670.984,790.787 672.668,790.787 674.348,790.787 676.025,790.787 677.698,790.787 679.368,790.787 681.035,790.787 682.698,790.787 684.358,790.787 686.015,790.787 687.669,790.787 689.319,790.787 690.966,790.787 692.609,790.787 694.25,790.787 695.887,790.787 697.521,790.787 699.152,790.787 700.779,790.787 702.404,790.787 704.025,790.787 705.643,790.787 707.258,790.787 708.869,790.787 710.478,790.787 712.083,790.787 713.686,790.787 715.285,790.787 716.881,790.787 718.473,790.787 720.063,790.787 721.65,790.787 723.234,790.787 724.814,790.787 726.392,790.787 727.966,790.787 729.537,790.787 731.106,790.787 732.671,790.787 734.233,790.787 735.792,790.787 737.349,790.787 738.902,790.787 740.452,790.787 742,790.787 743.544,790.787 745.085,790.787 746.624,790.787 748.159,790.787 749.692,790.787 751.222,790.787 752.748,790.787 754.272,790.787 755.793,790.787 757.311,790.787 758.826,790.787 760.338,790.787 761.848,790.787 763.354,790.787 764.858,790.787 766.359,790.787 767.857,790.787 769.352,790.787 770.844,790.787 772.334,790.787 773.821,790.787 775.305,790.787 776.786,790.787 778.264,790.787 779.74,790.787 781.213,790.787 782.683,790.787 784.15,790.787 785.615,790.787 787.077,790.787 788.536,790.787 789.992,790.787 791.446,790.787 792.897,790.787 794.345,790.787 795.791,790.787 797.234,790.787 798.674,790.787 800.112,790.787 801.547,790.787 802.979,790.787 804.409,790.787 805.836,790.787 807.26,790.787 808.682,790.787 810.101,790.787 811.518,790.787 812.932,790.787 814.343,790.787 815.752,790.787 817.158,790.787 818.562,790.787 819.963,790.787 821.362,790.787 822.758,790.787 824.151,790.787 825.542,790.787 826.93,790.787 828.316,790.787 829.7,790.787 831.08,790.787 832.459,790.787 833.835,790.787 835.208,790.787 836.579,790.787 837.947,790.787 839.313,790.787 840.677,790.787 842.038,790.787 843.396,790.787 844.752,790.787 846.106,790.787 847.457,790.787 848.806,790.787 850.152,790.787 851.496,790.787 852.838,790.787 854.177,790.787 855.514,790.787 856.849,790.787 858.181,790.787 859.51,790.787 860.838,790.787 862.163,790.787 863.485,790.787 864.806,790.787 866.123,790.787 867.439,790.787 868.752,790.787 870.063,790.787 871.372,790.787 872.678,790.787 873.982,790.787 875.284,790.787 876.583,790.787 877.881,790.787 879.176,790.787 880.468,790.787 881.759,790.787 883.047,790.787 884.332,790.787 885.616,790.787 886.897,790.787 888.176,790.787 889.453,790.787 890.728,790.787 892,790.787 893.271,790.787 894.539,790.787 895.804,790.787 897.068,790.787 898.33,790.787 899.589,790.787 900.846,790.787 902.101,790.787 903.353,790.787 904.604,790.787 905.852,790.787 907.099,790.787 908.343,790.787 909.585,790.787 910.825,790.787 912.062,790.787 913.298,790.787 914.531,790.787 915.763,790.787 916.992,790.787 918.219,790.787 919.444,790.787 920.667,790.787 921.888,790.787 923.107,790.787 924.324,790.787 925.538,790.787 926.751,790.787 927.961,790.787 929.17,790.787 930.376,790.787 931.581,790.787 932.783,790.787 933.983,790.787 935.182,790.787 936.378,790.787 937.572,790.787 938.764,790.787 939.955,790.787 941.143,790.787 942.329,790.787 943.513,790.787 944.695,790.787 945.876,790.787 947.054,790.787 948.23,790.787 949.405,790.787 950.577,790.787 951.748,790.787 952.916,790.787 954.083,790.787 955.247,790.787 956.41,790.787 957.571,790.787 958.729,790.787 959.886,790.787 961.041,790.787 962.194,790.787 963.345,790.787 964.495,790.787 965.642,790.787 966.787,790.787 967.931,790.787 969.072,790.787 970.212,790.787 971.35,790.787 972.486,790.787 973.62,790.787 974.753,790.787 975.883,790.787 977.012,790.787 978.138,790.787 979.263,790.787 980.386,790.787 981.508,790.787 982.627,790.787 983.744,790.787 984.86,790.787 985.974,790.787 987.086,790.787 988.197,790.787 989.305,790.787 990.412,790.787 991.517,790.787 992.62,790.787 993.721,790.787 994.821,790.787 995.918,790.787 997.014,790.787 998.109,790.787 999.201,790.787 1000.29,790.787 1001.38,790.787 1002.47,790.787 1003.55,790.787 1004.64,790.787 1005.72,790.787 1006.8,790.787 1007.88,790.787 1008.95,790.787 1010.03,790.787 1011.1,790.787 1012.17,790.787 1013.24,790.787 1014.31,790.787 1015.38,790.787 1016.44,790.787 1017.51,790.787 1018.57,790.787 1019.63,790.787 1020.69,790.787 1021.74,790.787 1022.8,790.787 1023.85,790.787 1024.9,790.787 1025.95,790.787 1027,790.787 1028.05,790.787 1029.09,790.787 1030.13,790.787 1031.17,790.787 1032.21,790.787 1033.25,790.787 1034.29,790.787 1035.32,790.787 1036.36,790.787 1037.39,790.787 1038.42,790.787 1039.45,790.787 1040.47,790.787 1041.5,790.787 1042.52,790.787 1043.55,790.787 1044.57,790.787 1045.58,790.787 1046.6,790.787 1047.62,790.787 1048.63,790.787 1049.64,790.787 1050.66,790.787 1051.66,790.787 1052.67,790.787 1053.68,790.787 1054.68,790.787 1055.69,790.787 1056.69,790.787 1057.69,790.787 1058.69,790.787 1059.68,790.787 1060.68,790.787 1061.67,790.787 1062.67,790.787 1063.66,790.787 1064.65,790.787 1065.63,790.787 1066.62,790.787 1067.6,790.787 1068.59,790.787 1069.57,790.787 1070.55,790.787 1071.53,790.787 1072.51,790.787 1073.48,790.787 1074.46,790.787 1075.43,790.787 1076.4,790.787 1077.37,790.787 1078.34,790.787 1079.31,790.787 1080.27,790.787 1081.23,790.787 1082.2,790.787 1083.16,790.787 1084.12,790.787 1085.08,790.787 1086.03,790.787 1086.99,790.787 1087.94,790.787 1088.89,790.787 1089.85,790.787 1090.79,790.787 1091.74,790.787 1092.69,790.787 1093.64,790.787 1094.58,790.787 1095.52,790.787 1096.46,790.787 1097.4,790.787 1098.34,790.787 1099.28,790.787 1100.21,790.787 1101.15,790.787 1102.08,790.787 1103.01,790.787 1103.94,790.787 1104.87,790.787 1105.8,790.787 1106.72,790.787 1107.65,790.787 1108.57,790.787 1109.49,790.787 1110.41,790.787 1111.33,790.787 1112.25,790.787 1113.16,790.787 1114.08,790.787 1114.99,790.787 1115.9,790.787 1116.81,790.787 1117.72,790.787 1118.63,790.787 1119.54,790.787 1120.44,790.787 1121.35,790.787 1122.25,790.787 1123.15,790.787 1124.05,790.787 1124.95,790.787 1125.85,790.787 1126.75,790.787 1127.64,790.787 1128.53,790.787 1129.43,790.787 1130.32,790.787 1131.21,790.787 1132.1,790.787 1132.98,790.787 1133.87,790.787 1134.75,790.787 1135.64,790.787 1136.52,790.787 1137.4,790.787 1138.28,790.787 1139.16,790.787 1140.03,790.787 1140.91,790.787 1141.78,790.787 1142.66,790.787 1143.53,790.787 1144.4,790.787 1145.27,790.787 1146.14,790.787 1147,790.787 1147.87,790.787 1148.73,790.787 1149.6,790.787 1150.46,790.787 1151.32,790.787 1152.18,790.787 1153.04,790.787 1153.89,790.787 1154.75,790.787 1155.6,790.787 1156.46,790.787 1157.31,790.787 1158.16,790.787 1159.01,790.787 1159.86,790.787 1160.7,790.787 1161.55,790.787 1162.4,790.787 1163.24,790.787 1164.08,790.787 1164.92,790.787 1165.76,790.787 1166.6,790.787 1167.44,790.787 1168.28,790.787 1169.11,790.787 1169.95,790.787 1170.78,790.787 1171.61,790.787 1172.44,790.787 1173.27,790.787 1174.1,790.787 1174.93,790.787 1175.75,790.787 1176.58,790.787 1177.4,790.787 1178.22,790.787 1179.04,790.787 1179.86,790.787 1180.68,790.787 1181.5,790.787 1182.32,790.787 1183.13,790.787 1183.95,790.787 1184.76,790.787 1185.57,790.787 1186.38,790.787 1187.19,790.787 1188,790.787 1188.81,790.787 1189.62,790.787 1190.42,790.787 1191.23,790.787 1192.03,790.787 1192.83,790.787 1193.63,790.787 1194.43,790.787 1195.23,790.787 1196.03,790.787 1196.83,790.787 1197.62,790.787 1198.42,790.787 1199.21,790.787 1200,790.787 1200.79,790.787 1201.58,790.787 1202.37,790.787 1203.16,790.787 1203.95,790.787 1204.73,790.787 1205.52,790.787 1206.3,790.787 1207.08,790.787 1207.87,790.787 1208.65,790.787 1209.43,790.787 1210.2,790.787 1210.98,790.787 1211.76,790.787 1212.53,790.787 1213.31,790.787 1214.08,790.787 1214.85,790.787 1215.62,790.787 1216.39,790.787 1217.16,790.787 1217.93,790.787 1218.7,790.787 1219.46,790.787 1220.23,790.787 1220.99,790.787 1221.75,790.787 1222.51,790.787 1223.28,790.787 1224.03,790.787 1224.79,790.787 1225.55,790.787 1226.31,790.787 1227.06,790.787 1227.82,790.787 1228.57,790.787 1229.32,790.787 1230.07,790.787 1230.83,790.787 1231.57,790.787 1232.32,790.787 1233.07,790.787 1233.82,790.787 1234.56,790.787 1235.31,790.787 1236.05,790.787 1236.79,790.787 1237.53,790.787 1238.28,790.787 1239.01,790.787 1239.75,790.787 1240.49,790.787 1241.23,790.787 1241.96,790.787 1242.7,790.787 1243.43,790.787 1244.16,790.787 1244.9,790.787 1245.63,790.787 1246.36,790.787 1247.09,790.787 1247.81,790.787 1248.54,790.787 1249.27,790.787 1249.99,790.787 1250.72,790.787 1251.44,790.787 1252.16,790.787 1252.88,790.787 1253.6,790.787 1254.32,790.787 1255.04,790.787 1255.76,790.787 1256.47,790.787 1257.19,790.787 1257.9,790.787 1258.62,790.787 1259.33,790.787 1260.04,790.787 1260.75,790.787 1261.46,790.787 1262.17,790.787 1262.88,790.787 1263.59,790.787 1264.29,790.787 1265,790.787 1265.7,790.787 1266.41,790.787 1267.11,790.787 1267.81,790.787 1268.51,790.787 1269.21,790.787 1269.91,790.787 1270.61,790.787 1271.31,790.787 1272,790.787 1272.7,790.787 1273.39,790.787 1274.09,790.787 1274.78,790.787 1275.47,790.787 1276.16,790.787 1276.85,790.787 1277.54,790.787 1278.23,790.787 1278.92,790.787 1279.6,790.787 1280.29,790.787 1280.98,790.787 1281.66,790.787 1282.34,790.787 1283.02,790.787 1283.71,790.787 1284.39,790.787 1285.07,790.787 1285.75,790.787 1286.42,790.787 1287.1,790.787 1287.78,790.787 1288.45,790.787 1289.13,790.787 1289.8,790.787 1290.47,790.787 1291.14,790.787 1291.82,790.787 1292.49,790.787 1293.15,790.787 1293.82,790.787 1294.49,790.787 1295.16,790.787 1295.82,790.787 1296.49,790.787 1297.15,790.787 1297.82,790.787 1298.48,790.787 1299.14,790.787 1299.8,790.787 1300.46,790.787 1301.12,790.787 1301.78,790.787 1302.44,790.787 1303.09,790.787 1303.75,790.787 \"/>\n",
       "<polyline clip-path=\"url(#clip132)\" style=\"stroke:#c271d2; stroke-linecap:round; stroke-linejoin:round; stroke-width:4; stroke-opacity:1; fill:none\" points=\"254.746,790.787 257.365,790.787 259.978,790.787 262.584,790.786 265.184,790.784 267.777,790.781 270.364,790.777 272.944,790.771 275.518,790.763 278.086,790.752 280.647,790.738 283.202,790.722 285.751,790.702 288.293,790.678 290.83,790.65 293.36,790.617 295.883,790.58 298.401,790.538 300.912,790.489 303.418,790.436 305.917,790.375 308.41,790.308 310.897,790.234 313.378,790.153 315.853,790.064 318.322,789.966 320.785,789.86 323.242,789.745 325.693,789.62 328.138,789.486 330.578,789.341 333.011,789.185 335.439,789.018 337.86,788.839 340.276,788.648 342.686,788.444 345.091,788.227 347.489,787.997 349.882,787.753 352.27,787.494 354.651,787.221 357.027,786.932 359.397,786.627 361.762,786.306 364.121,785.968 366.474,785.613 368.822,785.24 371.164,784.849 373.501,784.44 375.832,784.012 378.158,783.565 380.479,783.098 382.793,782.611 385.103,782.104 387.407,781.577 389.706,781.028 391.999,780.459 394.287,779.868 396.569,779.255 398.847,778.62 401.119,777.964 403.385,777.286 405.647,776.585 407.903,775.862 410.154,775.117 412.4,774.35 414.64,773.56 416.876,772.749 419.106,771.915 421.331,771.06 423.551,770.184 425.766,769.286 427.976,768.367 430.181,767.428 432.381,766.47 434.575,765.491 436.765,764.494 438.95,763.478 441.129,762.445 443.304,761.395 445.474,760.329 447.639,759.248 449.799,758.152 451.954,757.043 454.104,755.922 456.25,754.79 458.39,753.647 460.526,752.496 462.657,751.337 464.783,750.172 466.904,749.002 469.021,747.828 471.133,746.653 473.24,745.478 475.342,744.304 477.44,743.133 479.533,741.967 481.621,740.807 483.705,739.656 485.784,738.515 487.858,737.387 489.928,736.272 491.993,735.174 494.054,734.094 496.11,733.034 498.161,731.997 500.208,730.985 502.251,729.999 504.289,729.042 506.322,728.116 508.351,727.224 510.376,726.367 512.396,725.548 514.412,724.769 516.423,724.032 518.43,723.34 520.433,722.694 522.431,722.098 524.425,721.552 526.414,721.06 528.399,720.623 530.38,720.243 532.357,719.923 534.329,719.664 536.297,719.469 538.261,719.339 540.22,719.276 542.175,719.283 544.127,719.359 546.073,719.509 548.016,719.732 549.955,720.03 551.889,720.405 553.819,720.859 555.745,721.392 557.667,722.005 559.585,722.7 561.499,723.477 563.408,724.338 565.314,725.282 567.215,726.312 569.113,727.426 571.006,728.626 572.896,729.912 574.781,731.284 576.663,732.742 578.54,734.285 580.414,735.915 582.283,737.629 584.149,739.429 586.011,741.313 587.868,743.281 589.722,745.331 591.572,747.463 593.418,749.675 595.261,751.967 597.099,754.338 598.934,756.784 600.764,759.306 602.591,761.901 604.414,764.568 606.233,767.304 608.049,770.108 609.861,772.977 611.669,775.909 613.473,778.902 615.273,781.954 617.07,785.061 618.863,788.221 620.653,791.432 622.438,794.691 624.22,797.994 625.999,801.339 627.773,804.723 629.544,808.142 631.312,811.595 633.076,815.077 634.836,818.585 636.592,822.116 638.345,825.667 640.095,829.234 641.84,832.815 643.583,836.405 645.321,840.002 647.057,843.602 648.788,847.202 650.517,850.798 652.241,854.387 653.962,857.967 655.68,861.532 657.394,865.081 659.105,868.61 660.812,872.117 662.516,875.596 664.217,879.047 665.914,882.466 667.607,885.849 669.297,889.194 670.984,892.499 672.668,895.759 674.348,898.974 676.025,902.14 677.698,905.255 679.368,908.316 681.035,911.321 682.698,914.269 684.358,917.156 686.015,919.981 687.669,922.742 689.319,925.437 690.966,928.065 692.609,930.624 694.25,933.112 695.887,935.529 697.521,937.873 699.152,940.143 700.779,942.337 702.404,944.456 704.025,946.499 705.643,948.464 707.258,950.351 708.869,952.161 710.478,953.891 712.083,955.543 713.686,957.117 715.285,958.612 716.881,960.028 718.473,961.365 720.063,962.625 721.65,963.807 723.234,964.913 724.814,965.942 726.392,966.895 727.966,967.773 729.537,968.577 731.106,969.309 732.671,969.968 734.233,970.557 735.792,971.075 737.349,971.526 738.902,971.909 740.452,972.227 742,972.48 743.544,972.671 745.085,972.8 746.624,972.87 748.159,972.881 749.692,972.837 751.222,972.737 752.748,972.585 754.272,972.381 755.793,972.128 757.311,971.828 758.826,971.481 760.338,971.09 761.848,970.658 763.354,970.184 764.858,969.673 766.359,969.124 767.857,968.541 769.352,967.924 770.844,967.277 772.334,966.599 773.821,965.894 775.305,965.163 776.786,964.408 778.264,963.631 779.74,962.832 781.213,962.014 782.683,961.179 784.15,960.328 785.615,959.462 787.077,958.584 788.536,957.694 789.992,956.795 791.446,955.887 792.897,954.972 794.345,954.051 795.791,953.126 797.234,952.197 798.674,951.267 800.112,950.335 801.547,949.404 802.979,948.475 804.409,947.548 805.836,946.624 807.26,945.705 808.682,944.791 810.101,943.883 811.518,942.982 812.932,942.089 814.343,941.204 815.752,940.329 817.158,939.463 818.562,938.607 819.963,937.763 821.362,936.93 822.758,936.109 824.151,935.301 825.542,934.505 826.93,933.722 828.316,932.953 829.7,932.198 831.08,931.457 832.459,930.73 833.835,930.018 835.208,929.32 836.579,928.637 837.947,927.97 839.313,927.317 840.677,926.679 842.038,926.056 843.396,925.449 844.752,924.856 846.106,924.279 847.457,923.717 848.806,923.17 850.152,922.637 851.496,922.119 852.838,921.616 854.177,921.128 855.514,920.653 856.849,920.193 858.181,919.747 859.51,919.314 860.838,918.896 862.163,918.49 863.485,918.098 864.806,917.718 866.123,917.352 867.439,916.997 868.752,916.655 870.063,916.325 871.372,916.006 872.678,915.699 873.982,915.403 875.284,915.118 876.583,914.843 877.881,914.579 879.176,914.325 880.468,914.08 881.759,913.846 883.047,913.62 884.332,913.404 885.616,913.196 886.897,912.997 888.176,912.805 889.453,912.622 890.728,912.447 892,912.279 893.271,912.118 894.539,911.965 895.804,911.818 897.068,911.677 898.33,911.543 899.589,911.415 900.846,911.293 902.101,911.176 903.353,911.065 904.604,910.959 905.852,910.858 907.099,910.761 908.343,910.67 909.585,910.583 910.825,910.5 912.062,910.421 913.298,910.346 914.531,910.275 915.763,910.207 916.992,910.143 918.219,910.082 919.444,910.025 920.667,909.97 921.888,909.918 923.107,909.869 924.324,909.823 925.538,909.779 926.751,909.737 927.961,909.698 929.17,909.66 930.376,909.625 931.581,909.592 932.783,909.561 933.983,909.531 935.182,909.503 936.378,909.477 937.572,909.452 938.764,909.429 939.955,909.407 941.143,909.386 942.329,909.367 943.513,909.348 944.695,909.331 945.876,909.315 947.054,909.3 948.23,909.285 949.405,909.272 950.577,909.259 951.748,909.248 952.916,909.237 954.083,909.226 955.247,909.216 956.41,909.207 957.571,909.199 958.729,909.191 959.886,909.183 961.041,909.176 962.194,909.17 963.345,909.164 964.495,909.158 965.642,909.153 966.787,909.148 967.931,909.143 969.072,909.139 970.212,909.135 971.35,909.131 972.486,909.128 973.62,909.124 974.753,909.121 975.883,909.118 977.012,909.116 978.138,909.113 979.263,909.111 980.386,909.109 981.508,909.107 982.627,909.105 983.744,909.104 984.86,909.102 985.974,909.101 987.086,909.099 988.197,909.098 989.305,909.097 990.412,909.096 991.517,909.095 992.62,909.094 993.721,909.093 994.821,909.092 995.918,909.091 997.014,909.091 998.109,909.09 999.201,909.09 1000.29,909.089 1001.38,909.089 1002.47,909.088 1003.55,909.088 1004.64,909.087 1005.72,909.087 1006.8,909.087 1007.88,909.086 1008.95,909.086 1010.03,909.086 1011.1,909.086 1012.17,909.085 1013.24,909.085 1014.31,909.085 1015.38,909.085 1016.44,909.085 1017.51,909.085 1018.57,909.084 1019.63,909.084 1020.69,909.084 1021.74,909.084 1022.8,909.084 1023.85,909.084 1024.9,909.084 1025.95,909.084 1027,909.084 1028.05,909.084 1029.09,909.084 1030.13,909.084 1031.17,909.084 1032.21,909.084 1033.25,909.083 1034.29,909.083 1035.32,909.083 1036.36,909.083 1037.39,909.083 1038.42,909.083 1039.45,909.083 1040.47,909.083 1041.5,909.083 1042.52,909.083 1043.55,909.083 1044.57,909.083 1045.58,909.083 1046.6,909.083 1047.62,909.083 1048.63,909.083 1049.64,909.083 1050.66,909.083 1051.66,909.083 1052.67,909.083 1053.68,909.083 1054.68,909.083 1055.69,909.083 1056.69,909.083 1057.69,909.083 1058.69,909.083 1059.68,909.083 1060.68,909.083 1061.67,909.083 1062.67,909.083 1063.66,909.083 1064.65,909.083 1065.63,909.083 1066.62,909.083 1067.6,909.083 1068.59,909.083 1069.57,909.083 1070.55,909.083 1071.53,909.083 1072.51,909.083 1073.48,909.083 1074.46,909.083 1075.43,909.083 1076.4,909.083 1077.37,909.083 1078.34,909.083 1079.31,909.083 1080.27,909.083 1081.23,909.083 1082.2,909.083 1083.16,909.083 1084.12,909.083 1085.08,909.083 1086.03,909.083 1086.99,909.083 1087.94,909.083 1088.89,909.083 1089.85,909.083 1090.79,909.083 1091.74,909.083 1092.69,909.083 1093.64,909.083 1094.58,909.083 1095.52,909.083 1096.46,909.083 1097.4,909.083 1098.34,909.083 1099.28,909.083 1100.21,909.083 1101.15,909.083 1102.08,909.083 1103.01,909.083 1103.94,909.083 1104.87,909.083 1105.8,909.083 1106.72,909.083 1107.65,909.083 1108.57,909.083 1109.49,909.083 1110.41,909.083 1111.33,909.083 1112.25,909.083 1113.16,909.083 1114.08,909.083 1114.99,909.083 1115.9,909.083 1116.81,909.083 1117.72,909.083 1118.63,909.083 1119.54,909.083 1120.44,909.083 1121.35,909.083 1122.25,909.083 1123.15,909.083 1124.05,909.083 1124.95,909.083 1125.85,909.083 1126.75,909.083 1127.64,909.083 1128.53,909.083 1129.43,909.083 1130.32,909.083 1131.21,909.083 1132.1,909.083 1132.98,909.083 1133.87,909.083 1134.75,909.083 1135.64,909.083 1136.52,909.083 1137.4,909.083 1138.28,909.083 1139.16,909.083 1140.03,909.083 1140.91,909.083 1141.78,909.083 1142.66,909.083 1143.53,909.083 1144.4,909.083 1145.27,909.083 1146.14,909.083 1147,909.083 1147.87,909.083 1148.73,909.083 1149.6,909.083 1150.46,909.083 1151.32,909.083 1152.18,909.083 1153.04,909.083 1153.89,909.083 1154.75,909.083 1155.6,909.083 1156.46,909.083 1157.31,909.083 1158.16,909.083 1159.01,909.083 1159.86,909.083 1160.7,909.083 1161.55,909.083 1162.4,909.083 1163.24,909.083 1164.08,909.083 1164.92,909.083 1165.76,909.083 1166.6,909.083 1167.44,909.083 1168.28,909.083 1169.11,909.083 1169.95,909.083 1170.78,909.083 1171.61,909.083 1172.44,909.083 1173.27,909.083 1174.1,909.083 1174.93,909.083 1175.75,909.083 1176.58,909.083 1177.4,909.083 1178.22,909.083 1179.04,909.083 1179.86,909.083 1180.68,909.083 1181.5,909.083 1182.32,909.083 1183.13,909.083 1183.95,909.083 1184.76,909.083 1185.57,909.083 1186.38,909.083 1187.19,909.083 1188,909.083 1188.81,909.083 1189.62,909.083 1190.42,909.083 1191.23,909.083 1192.03,909.083 1192.83,909.083 1193.63,909.083 1194.43,909.083 1195.23,909.083 1196.03,909.083 1196.83,909.083 1197.62,909.083 1198.42,909.083 1199.21,909.083 1200,909.083 1200.79,909.083 1201.58,909.083 1202.37,909.083 1203.16,909.083 1203.95,909.083 1204.73,909.083 1205.52,909.083 1206.3,909.083 1207.08,909.083 1207.87,909.083 1208.65,909.083 1209.43,909.083 1210.2,909.083 1210.98,909.083 1211.76,909.083 1212.53,909.083 1213.31,909.083 1214.08,909.083 1214.85,909.083 1215.62,909.083 1216.39,909.083 1217.16,909.083 1217.93,909.083 1218.7,909.083 1219.46,909.083 1220.23,909.083 1220.99,909.083 1221.75,909.083 1222.51,909.083 1223.28,909.083 1224.03,909.083 1224.79,909.083 1225.55,909.083 1226.31,909.083 1227.06,909.083 1227.82,909.083 1228.57,909.083 1229.32,909.083 1230.07,909.083 1230.83,909.083 1231.57,909.083 1232.32,909.083 1233.07,909.083 1233.82,909.083 1234.56,909.083 1235.31,909.083 1236.05,909.083 1236.79,909.083 1237.53,909.083 1238.28,909.083 1239.01,909.083 1239.75,909.083 1240.49,909.083 1241.23,909.083 1241.96,909.083 1242.7,909.083 1243.43,909.083 1244.16,909.083 1244.9,909.083 1245.63,909.083 1246.36,909.083 1247.09,909.083 1247.81,909.083 1248.54,909.083 1249.27,909.083 1249.99,909.083 1250.72,909.083 1251.44,909.083 1252.16,909.083 1252.88,909.083 1253.6,909.083 1254.32,909.083 1255.04,909.083 1255.76,909.083 1256.47,909.083 1257.19,909.083 1257.9,909.083 1258.62,909.083 1259.33,909.083 1260.04,909.083 1260.75,909.083 1261.46,909.083 1262.17,909.083 1262.88,909.083 1263.59,909.083 1264.29,909.083 1265,909.083 1265.7,909.083 1266.41,909.083 1267.11,909.083 1267.81,909.083 1268.51,909.083 1269.21,909.083 1269.91,909.083 1270.61,909.083 1271.31,909.083 1272,909.083 1272.7,909.083 1273.39,909.083 1274.09,909.083 1274.78,909.083 1275.47,909.083 1276.16,909.083 1276.85,909.083 1277.54,909.083 1278.23,909.083 1278.92,909.083 1279.6,909.083 1280.29,909.083 1280.98,909.083 1281.66,909.083 1282.34,909.083 1283.02,909.083 1283.71,909.083 1284.39,909.083 1285.07,909.083 1285.75,909.083 1286.42,909.083 1287.1,909.083 1287.78,909.083 1288.45,909.083 1289.13,909.083 1289.8,909.083 1290.47,909.083 1291.14,909.083 1291.82,909.083 1292.49,909.083 1293.15,909.083 1293.82,909.083 1294.49,909.083 1295.16,909.083 1295.82,909.083 1296.49,909.083 1297.15,909.083 1297.82,909.083 1298.48,909.083 1299.14,909.083 1299.8,909.083 1300.46,909.083 1301.12,909.083 1301.78,909.083 1302.44,909.083 1303.09,909.083 1303.75,909.083 \"/>\n",
       "<polyline clip-path=\"url(#clip132)\" style=\"stroke:#ac8d18; stroke-linecap:round; stroke-linejoin:round; stroke-width:4; stroke-opacity:1; fill:none\" points=\"254.746,790.786 257.365,790.664 259.978,790.54 262.584,790.412 265.184,790.28 267.777,790.141 270.364,789.994 272.944,789.838 275.518,789.67 278.086,789.488 280.647,789.292 283.202,789.08 285.751,788.849 288.293,788.597 290.83,788.324 293.36,788.027 295.883,787.703 298.401,787.352 300.912,786.971 303.418,786.558 305.917,786.111 308.41,785.627 310.897,785.105 313.378,784.542 315.853,783.936 318.322,783.284 320.785,782.584 323.242,781.834 325.693,781.03 328.138,780.171 330.578,779.253 333.011,778.273 335.439,777.23 337.86,776.12 340.276,774.94 342.686,773.687 345.091,772.359 347.489,770.952 349.882,769.463 352.27,767.889 354.651,766.227 357.027,764.473 359.397,762.625 361.762,760.68 364.121,758.634 366.474,756.483 368.822,754.225 371.164,751.857 373.501,749.375 375.832,746.776 378.158,744.056 380.479,741.214 382.793,738.245 385.103,735.147 387.407,731.916 389.706,728.55 391.999,725.045 394.287,721.4 396.569,717.612 398.847,713.677 401.119,709.593 403.385,705.359 405.647,700.972 407.903,696.43 410.154,691.731 412.4,686.873 414.64,681.856 416.876,676.677 419.106,671.336 421.331,665.831 423.551,660.162 425.766,654.329 427.976,648.331 430.181,642.169 432.381,635.843 434.575,629.353 436.765,622.7 438.95,615.886 441.129,608.913 443.304,601.781 445.474,594.494 447.639,587.053 449.799,579.462 451.954,571.723 454.104,563.841 456.25,555.82 458.39,547.663 460.526,539.375 462.657,530.962 464.783,522.429 466.904,513.781 469.021,505.025 471.133,496.168 473.24,487.216 475.342,478.177 477.44,469.059 479.533,459.87 481.621,450.618 483.705,441.312 485.784,431.963 487.858,422.578 489.928,413.169 491.993,403.746 494.054,394.319 496.11,384.899 498.161,375.499 500.208,366.129 502.251,356.802 504.289,347.529 506.322,338.324 508.351,329.199 510.376,320.168 512.396,311.242 514.412,302.437 516.423,293.764 518.43,285.239 520.433,276.875 522.431,268.686 524.425,260.685 526.414,252.888 528.399,245.308 530.38,237.959 532.357,230.856 534.329,224.013 536.297,217.443 538.261,211.161 540.22,205.18 542.175,199.514 544.127,194.176 546.073,189.18 548.016,184.539 549.955,180.265 551.889,176.37 553.819,172.868 555.745,169.769 557.667,167.085 559.585,164.827 561.499,163.005 563.408,161.63 565.314,160.711 567.215,160.256 569.113,160.275 571.006,160.776 572.896,161.764 574.781,163.249 576.663,165.234 578.54,167.727 580.414,170.731 582.283,174.251 584.149,178.289 586.011,182.849 587.868,187.933 589.722,193.542 591.572,199.675 593.418,206.333 595.261,213.515 597.099,221.218 598.934,229.44 600.764,238.177 602.591,247.426 604.414,257.18 606.233,267.435 608.049,278.183 609.861,289.417 611.669,301.129 613.473,313.31 615.273,325.951 617.07,339.04 618.863,352.567 620.653,366.519 622.438,380.885 624.22,395.651 625.999,410.804 627.773,426.327 629.544,442.208 631.312,458.429 633.076,474.976 634.836,491.83 636.592,508.975 638.345,526.393 640.095,544.065 641.84,561.974 643.583,580.101 645.321,598.425 647.057,616.928 648.788,635.59 650.517,654.39 652.241,673.309 653.962,692.325 655.68,711.419 657.394,730.569 659.105,749.755 660.812,768.957 662.516,788.152 664.217,807.322 665.914,826.444 667.607,845.5 669.297,864.468 670.984,883.328 672.668,902.061 674.348,920.646 676.025,939.066 677.698,957.3 679.368,975.33 681.035,993.138 682.698,1010.71 684.358,1028.02 686.015,1045.05 687.669,1061.8 689.319,1078.24 690.966,1094.36 692.609,1110.15 694.25,1125.58 695.887,1140.65 697.521,1155.34 699.152,1169.65 700.779,1183.55 702.404,1197.05 704.025,1210.12 705.643,1222.76 707.258,1234.97 708.869,1246.72 710.478,1258.02 712.083,1268.86 713.686,1279.24 715.285,1289.14 716.881,1298.56 718.473,1307.51 720.063,1315.97 721.65,1323.95 723.234,1331.44 724.814,1338.44 726.392,1344.95 727.966,1350.98 729.537,1356.52 731.106,1361.58 732.671,1366.16 734.233,1370.25 735.792,1373.87 737.349,1377.03 738.902,1379.71 740.452,1381.94 742,1383.71 743.544,1385.03 745.085,1385.92 746.624,1386.37 748.159,1386.4 749.692,1386.01 751.222,1385.21 752.748,1384.01 754.272,1382.42 755.793,1380.46 757.311,1378.12 758.826,1375.43 760.338,1372.39 761.848,1369.01 763.354,1365.31 764.858,1361.29 766.359,1356.96 767.857,1352.35 769.352,1347.46 770.844,1342.3 772.334,1336.88 773.821,1331.22 775.305,1325.33 776.786,1319.22 778.264,1312.9 779.74,1306.38 781.213,1299.68 782.683,1292.81 784.15,1285.78 785.615,1278.6 787.077,1271.28 788.536,1263.84 789.992,1256.28 791.446,1248.62 792.897,1240.87 794.345,1233.04 795.791,1225.13 797.234,1217.16 798.674,1209.14 800.112,1201.08 801.547,1192.99 802.979,1184.88 804.409,1176.75 805.836,1168.62 807.26,1160.49 808.682,1152.38 810.101,1144.28 811.518,1136.21 812.932,1128.18 814.343,1120.18 815.752,1112.24 817.158,1104.35 818.562,1096.52 819.963,1088.76 821.362,1081.07 822.758,1073.46 824.151,1065.93 825.542,1058.49 826.93,1051.14 828.316,1043.88 829.7,1036.73 831.08,1029.67 832.459,1022.73 833.835,1015.89 835.208,1009.16 836.579,1002.55 837.947,996.053 839.313,989.675 840.677,983.417 842.038,977.281 843.396,971.267 844.752,965.377 846.106,959.611 847.457,953.971 848.806,948.456 850.152,943.067 851.496,937.804 852.838,932.667 854.177,927.656 855.514,922.77 856.849,918.009 858.181,913.371 859.51,908.857 860.838,904.464 862.163,900.193 863.485,896.041 864.806,892.009 866.123,888.093 867.439,884.292 868.752,880.606 870.063,877.032 871.372,873.569 872.678,870.215 873.982,866.968 875.284,863.826 876.583,860.787 877.881,857.849 879.176,855.01 880.468,852.269 881.759,849.622 883.047,847.068 884.332,844.605 885.616,842.231 886.897,839.943 888.176,837.739 889.453,835.618 890.728,833.577 892,831.613 893.271,829.725 894.539,827.911 895.804,826.168 897.068,824.495 898.33,822.889 899.589,821.349 900.846,819.872 902.101,818.456 903.353,817.099 904.604,815.8 905.852,814.556 907.099,813.366 908.343,812.228 909.585,811.14 910.825,810.1 912.062,809.107 913.298,808.158 914.531,807.253 915.763,806.389 916.992,805.565 918.219,804.78 919.444,804.032 920.667,803.319 921.888,802.64 923.107,801.994 924.324,801.38 925.538,800.796 926.751,800.24 927.961,799.712 929.17,799.211 930.376,798.735 931.581,798.283 932.783,797.855 933.983,797.448 935.182,797.063 936.378,796.698 937.572,796.352 938.764,796.025 939.955,795.715 941.143,795.422 942.329,795.144 943.513,794.882 944.695,794.635 945.876,794.401 947.054,794.18 948.23,793.971 949.405,793.774 950.577,793.589 951.748,793.414 952.916,793.249 954.083,793.094 955.247,792.947 956.41,792.81 957.571,792.68 958.729,792.558 959.886,792.443 961.041,792.336 962.194,792.235 963.345,792.139 964.495,792.05 965.642,791.966 966.787,791.888 967.931,791.814 969.072,791.745 970.212,791.68 971.35,791.619 972.486,791.563 973.62,791.509 974.753,791.46 975.883,791.413 977.012,791.37 978.138,791.329 979.263,791.291 980.386,791.255 981.508,791.222 982.627,791.191 983.744,791.162 984.86,791.135 985.974,791.11 987.086,791.087 988.197,791.065 989.305,791.045 990.412,791.026 991.517,791.008 992.62,790.992 993.721,790.977 994.821,790.962 995.918,790.949 997.014,790.937 998.109,790.926 999.201,790.915 1000.29,790.905 1001.38,790.896 1002.47,790.888 1003.55,790.88 1004.64,790.873 1005.72,790.866 1006.8,790.86 1007.88,790.854 1008.95,790.849 1010.03,790.844 1011.1,790.84 1012.17,790.835 1013.24,790.832 1014.31,790.828 1015.38,790.825 1016.44,790.822 1017.51,790.819 1018.57,790.816 1019.63,790.814 1020.69,790.812 1021.74,790.81 1022.8,790.808 1023.85,790.806 1024.9,790.804 1025.95,790.803 1027,790.802 1028.05,790.8 1029.09,790.799 1030.13,790.798 1031.17,790.797 1032.21,790.796 1033.25,790.796 1034.29,790.795 1035.32,790.794 1036.36,790.794 1037.39,790.793 1038.42,790.792 1039.45,790.792 1040.47,790.791 1041.5,790.791 1042.52,790.791 1043.55,790.79 1044.57,790.79 1045.58,790.79 1046.6,790.79 1047.62,790.789 1048.63,790.789 1049.64,790.789 1050.66,790.789 1051.66,790.789 1052.67,790.788 1053.68,790.788 1054.68,790.788 1055.69,790.788 1056.69,790.788 1057.69,790.788 1058.69,790.788 1059.68,790.788 1060.68,790.788 1061.67,790.788 1062.67,790.788 1063.66,790.787 1064.65,790.787 1065.63,790.787 1066.62,790.787 1067.6,790.787 1068.59,790.787 1069.57,790.787 1070.55,790.787 1071.53,790.787 1072.51,790.787 1073.48,790.787 1074.46,790.787 1075.43,790.787 1076.4,790.787 1077.37,790.787 1078.34,790.787 1079.31,790.787 1080.27,790.787 1081.23,790.787 1082.2,790.787 1083.16,790.787 1084.12,790.787 1085.08,790.787 1086.03,790.787 1086.99,790.787 1087.94,790.787 1088.89,790.787 1089.85,790.787 1090.79,790.787 1091.74,790.787 1092.69,790.787 1093.64,790.787 1094.58,790.787 1095.52,790.787 1096.46,790.787 1097.4,790.787 1098.34,790.787 1099.28,790.787 1100.21,790.787 1101.15,790.787 1102.08,790.787 1103.01,790.787 1103.94,790.787 1104.87,790.787 1105.8,790.787 1106.72,790.787 1107.65,790.787 1108.57,790.787 1109.49,790.787 1110.41,790.787 1111.33,790.787 1112.25,790.787 1113.16,790.787 1114.08,790.787 1114.99,790.787 1115.9,790.787 1116.81,790.787 1117.72,790.787 1118.63,790.787 1119.54,790.787 1120.44,790.787 1121.35,790.787 1122.25,790.787 1123.15,790.787 1124.05,790.787 1124.95,790.787 1125.85,790.787 1126.75,790.787 1127.64,790.787 1128.53,790.787 1129.43,790.787 1130.32,790.787 1131.21,790.787 1132.1,790.787 1132.98,790.787 1133.87,790.787 1134.75,790.787 1135.64,790.787 1136.52,790.787 1137.4,790.787 1138.28,790.787 1139.16,790.787 1140.03,790.787 1140.91,790.787 1141.78,790.787 1142.66,790.787 1143.53,790.787 1144.4,790.787 1145.27,790.787 1146.14,790.787 1147,790.787 1147.87,790.787 1148.73,790.787 1149.6,790.787 1150.46,790.787 1151.32,790.787 1152.18,790.787 1153.04,790.787 1153.89,790.787 1154.75,790.787 1155.6,790.787 1156.46,790.787 1157.31,790.787 1158.16,790.787 1159.01,790.787 1159.86,790.787 1160.7,790.787 1161.55,790.787 1162.4,790.787 1163.24,790.787 1164.08,790.787 1164.92,790.787 1165.76,790.787 1166.6,790.787 1167.44,790.787 1168.28,790.787 1169.11,790.787 1169.95,790.787 1170.78,790.787 1171.61,790.787 1172.44,790.787 1173.27,790.787 1174.1,790.787 1174.93,790.787 1175.75,790.787 1176.58,790.787 1177.4,790.787 1178.22,790.787 1179.04,790.787 1179.86,790.787 1180.68,790.787 1181.5,790.787 1182.32,790.787 1183.13,790.787 1183.95,790.787 1184.76,790.787 1185.57,790.787 1186.38,790.787 1187.19,790.787 1188,790.787 1188.81,790.787 1189.62,790.787 1190.42,790.787 1191.23,790.787 1192.03,790.787 1192.83,790.787 1193.63,790.787 1194.43,790.787 1195.23,790.787 1196.03,790.787 1196.83,790.787 1197.62,790.787 1198.42,790.787 1199.21,790.787 1200,790.787 1200.79,790.787 1201.58,790.787 1202.37,790.787 1203.16,790.787 1203.95,790.787 1204.73,790.787 1205.52,790.787 1206.3,790.787 1207.08,790.787 1207.87,790.787 1208.65,790.787 1209.43,790.787 1210.2,790.787 1210.98,790.787 1211.76,790.787 1212.53,790.787 1213.31,790.787 1214.08,790.787 1214.85,790.787 1215.62,790.787 1216.39,790.787 1217.16,790.787 1217.93,790.787 1218.7,790.787 1219.46,790.787 1220.23,790.787 1220.99,790.787 1221.75,790.787 1222.51,790.787 1223.28,790.787 1224.03,790.787 1224.79,790.787 1225.55,790.787 1226.31,790.787 1227.06,790.787 1227.82,790.787 1228.57,790.787 1229.32,790.787 1230.07,790.787 1230.83,790.787 1231.57,790.787 1232.32,790.787 1233.07,790.787 1233.82,790.787 1234.56,790.787 1235.31,790.787 1236.05,790.787 1236.79,790.787 1237.53,790.787 1238.28,790.787 1239.01,790.787 1239.75,790.787 1240.49,790.787 1241.23,790.787 1241.96,790.787 1242.7,790.787 1243.43,790.787 1244.16,790.787 1244.9,790.787 1245.63,790.787 1246.36,790.787 1247.09,790.787 1247.81,790.787 1248.54,790.787 1249.27,790.787 1249.99,790.787 1250.72,790.787 1251.44,790.787 1252.16,790.787 1252.88,790.787 1253.6,790.787 1254.32,790.787 1255.04,790.787 1255.76,790.787 1256.47,790.787 1257.19,790.787 1257.9,790.787 1258.62,790.787 1259.33,790.787 1260.04,790.787 1260.75,790.787 1261.46,790.787 1262.17,790.787 1262.88,790.787 1263.59,790.787 1264.29,790.787 1265,790.787 1265.7,790.787 1266.41,790.787 1267.11,790.787 1267.81,790.787 1268.51,790.787 1269.21,790.787 1269.91,790.787 1270.61,790.787 1271.31,790.787 1272,790.787 1272.7,790.787 1273.39,790.787 1274.09,790.787 1274.78,790.787 1275.47,790.787 1276.16,790.787 1276.85,790.787 1277.54,790.787 1278.23,790.787 1278.92,790.787 1279.6,790.787 1280.29,790.787 1280.98,790.787 1281.66,790.787 1282.34,790.787 1283.02,790.787 1283.71,790.787 1284.39,790.787 1285.07,790.787 1285.75,790.787 1286.42,790.787 1287.1,790.787 1287.78,790.787 1288.45,790.787 1289.13,790.787 1289.8,790.787 1290.47,790.787 1291.14,790.787 1291.82,790.787 1292.49,790.787 1293.15,790.787 1293.82,790.787 1294.49,790.787 1295.16,790.787 1295.82,790.787 1296.49,790.787 1297.15,790.787 1297.82,790.787 1298.48,790.787 1299.14,790.787 1299.8,790.787 1300.46,790.787 1301.12,790.787 1301.78,790.787 1302.44,790.787 1303.09,790.787 1303.75,790.787 \"/>\n",
       "<polyline clip-path=\"url(#clip132)\" style=\"stroke:#00a9ad; stroke-linecap:round; stroke-linejoin:round; stroke-width:4; stroke-opacity:1; fill:none\" points=\"254.746,790.787 257.365,790.787 259.978,790.787 262.584,790.787 265.184,790.787 267.777,790.787 270.364,790.787 272.944,790.787 275.518,790.787 278.086,790.787 280.647,790.787 283.202,790.787 285.751,790.787 288.293,790.787 290.83,790.787 293.36,790.787 295.883,790.787 298.401,790.787 300.912,790.787 303.418,790.787 305.917,790.787 308.41,790.787 310.897,790.787 313.378,790.787 315.853,790.787 318.322,790.787 320.785,790.787 323.242,790.787 325.693,790.787 328.138,790.787 330.578,790.787 333.011,790.787 335.439,790.787 337.86,790.787 340.276,790.787 342.686,790.787 345.091,790.787 347.489,790.787 349.882,790.787 352.27,790.787 354.651,790.787 357.027,790.787 359.397,790.787 361.762,790.787 364.121,790.787 366.474,790.787 368.822,790.787 371.164,790.787 373.501,790.787 375.832,790.787 378.158,790.787 380.479,790.787 382.793,790.787 385.103,790.787 387.407,790.787 389.706,790.787 391.999,790.787 394.287,790.787 396.569,790.787 398.847,790.787 401.119,790.787 403.385,790.787 405.647,790.787 407.903,790.787 410.154,790.787 412.4,790.787 414.64,790.787 416.876,790.787 419.106,790.787 421.331,790.787 423.551,790.787 425.766,790.787 427.976,790.787 430.181,790.787 432.381,790.787 434.575,790.787 436.765,790.787 438.95,790.787 441.129,790.787 443.304,790.787 445.474,790.787 447.639,790.787 449.799,790.787 451.954,790.787 454.104,790.787 456.25,790.787 458.39,790.787 460.526,790.787 462.657,790.787 464.783,790.787 466.904,790.787 469.021,790.787 471.133,790.787 473.24,790.787 475.342,790.787 477.44,790.787 479.533,790.787 481.621,790.787 483.705,790.787 485.784,790.787 487.858,790.787 489.928,790.787 491.993,790.787 494.054,790.787 496.11,790.787 498.161,790.787 500.208,790.787 502.251,790.787 504.289,790.787 506.322,790.787 508.351,790.787 510.376,790.787 512.396,790.787 514.412,790.787 516.423,790.787 518.43,790.787 520.433,790.787 522.431,790.787 524.425,790.787 526.414,790.787 528.399,790.787 530.38,790.787 532.357,790.787 534.329,790.787 536.297,790.787 538.261,790.787 540.22,790.787 542.175,790.787 544.127,790.787 546.073,790.787 548.016,790.787 549.955,790.787 551.889,790.787 553.819,790.787 555.745,790.787 557.667,790.787 559.585,790.787 561.499,790.787 563.408,790.787 565.314,790.787 567.215,790.787 569.113,790.787 571.006,790.787 572.896,790.787 574.781,790.787 576.663,790.787 578.54,790.787 580.414,790.787 582.283,790.787 584.149,790.787 586.011,790.787 587.868,790.787 589.722,790.787 591.572,790.787 593.418,790.787 595.261,790.787 597.099,790.787 598.934,790.787 600.764,790.787 602.591,790.787 604.414,790.787 606.233,790.787 608.049,790.787 609.861,790.787 611.669,790.787 613.473,790.787 615.273,790.787 617.07,790.787 618.863,790.787 620.653,790.787 622.438,790.787 624.22,790.787 625.999,790.787 627.773,790.787 629.544,790.787 631.312,790.787 633.076,790.787 634.836,790.787 636.592,790.787 638.345,790.787 640.095,790.787 641.84,790.787 643.583,790.787 645.321,790.787 647.057,790.787 648.788,790.787 650.517,790.787 652.241,790.787 653.962,790.787 655.68,790.787 657.394,790.787 659.105,790.787 660.812,790.787 662.516,790.787 664.217,790.787 665.914,790.787 667.607,790.787 669.297,790.787 670.984,790.787 672.668,790.787 674.348,790.787 676.025,790.787 677.698,790.787 679.368,790.787 681.035,790.787 682.698,790.787 684.358,790.787 686.015,790.787 687.669,790.787 689.319,790.787 690.966,790.787 692.609,790.787 694.25,790.787 695.887,790.787 697.521,790.787 699.152,790.787 700.779,790.787 702.404,790.787 704.025,790.787 705.643,790.787 707.258,790.787 708.869,790.787 710.478,790.787 712.083,790.787 713.686,790.787 715.285,790.787 716.881,790.787 718.473,790.787 720.063,790.787 721.65,790.787 723.234,790.787 724.814,790.787 726.392,790.787 727.966,790.787 729.537,790.787 731.106,790.787 732.671,790.787 734.233,790.787 735.792,790.787 737.349,790.787 738.902,790.787 740.452,790.787 742,790.787 743.544,790.787 745.085,790.787 746.624,790.787 748.159,790.787 749.692,790.787 751.222,790.787 752.748,790.787 754.272,790.787 755.793,790.787 757.311,790.787 758.826,790.787 760.338,790.787 761.848,790.787 763.354,790.787 764.858,790.787 766.359,790.787 767.857,790.787 769.352,790.787 770.844,790.787 772.334,790.787 773.821,790.787 775.305,790.787 776.786,790.787 778.264,790.787 779.74,790.787 781.213,790.787 782.683,790.787 784.15,790.787 785.615,790.787 787.077,790.787 788.536,790.787 789.992,790.787 791.446,790.787 792.897,790.787 794.345,790.787 795.791,790.787 797.234,790.787 798.674,790.787 800.112,790.787 801.547,790.787 802.979,790.787 804.409,790.787 805.836,790.787 807.26,790.787 808.682,790.787 810.101,790.787 811.518,790.787 812.932,790.787 814.343,790.787 815.752,790.787 817.158,790.787 818.562,790.787 819.963,790.787 821.362,790.787 822.758,790.787 824.151,790.787 825.542,790.787 826.93,790.787 828.316,790.787 829.7,790.787 831.08,790.787 832.459,790.787 833.835,790.787 835.208,790.787 836.579,790.787 837.947,790.787 839.313,790.787 840.677,790.787 842.038,790.787 843.396,790.787 844.752,790.787 846.106,790.787 847.457,790.787 848.806,790.787 850.152,790.787 851.496,790.787 852.838,790.787 854.177,790.787 855.514,790.787 856.849,790.787 858.181,790.787 859.51,790.787 860.838,790.787 862.163,790.787 863.485,790.787 864.806,790.787 866.123,790.787 867.439,790.787 868.752,790.787 870.063,790.787 871.372,790.787 872.678,790.787 873.982,790.787 875.284,790.787 876.583,790.787 877.881,790.787 879.176,790.787 880.468,790.787 881.759,790.787 883.047,790.787 884.332,790.787 885.616,790.787 886.897,790.787 888.176,790.787 889.453,790.787 890.728,790.787 892,790.787 893.271,790.787 894.539,790.787 895.804,790.787 897.068,790.787 898.33,790.787 899.589,790.787 900.846,790.787 902.101,790.787 903.353,790.787 904.604,790.787 905.852,790.787 907.099,790.787 908.343,790.787 909.585,790.787 910.825,790.787 912.062,790.787 913.298,790.787 914.531,790.787 915.763,790.787 916.992,790.787 918.219,790.787 919.444,790.787 920.667,790.787 921.888,790.787 923.107,790.787 924.324,790.787 925.538,790.787 926.751,790.787 927.961,790.787 929.17,790.787 930.376,790.787 931.581,790.787 932.783,790.787 933.983,790.787 935.182,790.787 936.378,790.787 937.572,790.787 938.764,790.787 939.955,790.787 941.143,790.787 942.329,790.787 943.513,790.787 944.695,790.787 945.876,790.787 947.054,790.787 948.23,790.787 949.405,790.787 950.577,790.787 951.748,790.787 952.916,790.787 954.083,790.787 955.247,790.787 956.41,790.787 957.571,790.787 958.729,790.787 959.886,790.787 961.041,790.787 962.194,790.787 963.345,790.787 964.495,790.787 965.642,790.787 966.787,790.787 967.931,790.787 969.072,790.787 970.212,790.787 971.35,790.787 972.486,790.787 973.62,790.787 974.753,790.787 975.883,790.787 977.012,790.787 978.138,790.787 979.263,790.787 980.386,790.787 981.508,790.787 982.627,790.787 983.744,790.787 984.86,790.787 985.974,790.787 987.086,790.787 988.197,790.787 989.305,790.787 990.412,790.787 991.517,790.787 992.62,790.787 993.721,790.787 994.821,790.787 995.918,790.787 997.014,790.787 998.109,790.787 999.201,790.787 1000.29,790.787 1001.38,790.787 1002.47,790.787 1003.55,790.787 1004.64,790.787 1005.72,790.787 1006.8,790.787 1007.88,790.787 1008.95,790.787 1010.03,790.787 1011.1,790.787 1012.17,790.787 1013.24,790.787 1014.31,790.787 1015.38,790.787 1016.44,790.787 1017.51,790.787 1018.57,790.787 1019.63,790.787 1020.69,790.787 1021.74,790.787 1022.8,790.787 1023.85,790.787 1024.9,790.787 1025.95,790.787 1027,790.787 1028.05,790.787 1029.09,790.787 1030.13,790.787 1031.17,790.787 1032.21,790.787 1033.25,790.787 1034.29,790.787 1035.32,790.787 1036.36,790.787 1037.39,790.787 1038.42,790.787 1039.45,790.787 1040.47,790.787 1041.5,790.787 1042.52,790.787 1043.55,790.787 1044.57,790.787 1045.58,790.787 1046.6,790.787 1047.62,790.787 1048.63,790.787 1049.64,790.787 1050.66,790.787 1051.66,790.787 1052.67,790.787 1053.68,790.787 1054.68,790.787 1055.69,790.787 1056.69,790.787 1057.69,790.787 1058.69,790.787 1059.68,790.787 1060.68,790.787 1061.67,790.787 1062.67,790.787 1063.66,790.787 1064.65,790.787 1065.63,790.787 1066.62,790.787 1067.6,790.787 1068.59,790.787 1069.57,790.787 1070.55,790.787 1071.53,790.787 1072.51,790.787 1073.48,790.787 1074.46,790.787 1075.43,790.787 1076.4,790.787 1077.37,790.787 1078.34,790.787 1079.31,790.787 1080.27,790.787 1081.23,790.787 1082.2,790.787 1083.16,790.787 1084.12,790.787 1085.08,790.787 1086.03,790.787 1086.99,790.787 1087.94,790.787 1088.89,790.787 1089.85,790.787 1090.79,790.787 1091.74,790.787 1092.69,790.787 1093.64,790.787 1094.58,790.787 1095.52,790.787 1096.46,790.787 1097.4,790.787 1098.34,790.787 1099.28,790.787 1100.21,790.787 1101.15,790.787 1102.08,790.787 1103.01,790.787 1103.94,790.787 1104.87,790.787 1105.8,790.787 1106.72,790.787 1107.65,790.787 1108.57,790.787 1109.49,790.787 1110.41,790.787 1111.33,790.787 1112.25,790.787 1113.16,790.787 1114.08,790.787 1114.99,790.787 1115.9,790.787 1116.81,790.787 1117.72,790.787 1118.63,790.787 1119.54,790.787 1120.44,790.787 1121.35,790.787 1122.25,790.787 1123.15,790.787 1124.05,790.787 1124.95,790.787 1125.85,790.787 1126.75,790.787 1127.64,790.787 1128.53,790.787 1129.43,790.787 1130.32,790.787 1131.21,790.787 1132.1,790.787 1132.98,790.787 1133.87,790.787 1134.75,790.787 1135.64,790.787 1136.52,790.787 1137.4,790.787 1138.28,790.787 1139.16,790.787 1140.03,790.787 1140.91,790.787 1141.78,790.787 1142.66,790.787 1143.53,790.787 1144.4,790.787 1145.27,790.787 1146.14,790.787 1147,790.787 1147.87,790.787 1148.73,790.787 1149.6,790.787 1150.46,790.787 1151.32,790.787 1152.18,790.787 1153.04,790.787 1153.89,790.787 1154.75,790.787 1155.6,790.787 1156.46,790.787 1157.31,790.787 1158.16,790.787 1159.01,790.787 1159.86,790.787 1160.7,790.787 1161.55,790.787 1162.4,790.787 1163.24,790.787 1164.08,790.787 1164.92,790.787 1165.76,790.787 1166.6,790.787 1167.44,790.787 1168.28,790.787 1169.11,790.787 1169.95,790.787 1170.78,790.787 1171.61,790.787 1172.44,790.787 1173.27,790.787 1174.1,790.787 1174.93,790.787 1175.75,790.787 1176.58,790.787 1177.4,790.787 1178.22,790.787 1179.04,790.787 1179.86,790.787 1180.68,790.787 1181.5,790.787 1182.32,790.787 1183.13,790.787 1183.95,790.787 1184.76,790.787 1185.57,790.787 1186.38,790.787 1187.19,790.787 1188,790.787 1188.81,790.787 1189.62,790.787 1190.42,790.787 1191.23,790.787 1192.03,790.787 1192.83,790.787 1193.63,790.787 1194.43,790.787 1195.23,790.787 1196.03,790.787 1196.83,790.787 1197.62,790.787 1198.42,790.787 1199.21,790.787 1200,790.787 1200.79,790.787 1201.58,790.787 1202.37,790.787 1203.16,790.787 1203.95,790.787 1204.73,790.787 1205.52,790.787 1206.3,790.787 1207.08,790.787 1207.87,790.787 1208.65,790.787 1209.43,790.787 1210.2,790.787 1210.98,790.787 1211.76,790.787 1212.53,790.787 1213.31,790.787 1214.08,790.787 1214.85,790.787 1215.62,790.787 1216.39,790.787 1217.16,790.787 1217.93,790.787 1218.7,790.787 1219.46,790.787 1220.23,790.787 1220.99,790.787 1221.75,790.787 1222.51,790.787 1223.28,790.787 1224.03,790.787 1224.79,790.787 1225.55,790.787 1226.31,790.787 1227.06,790.787 1227.82,790.787 1228.57,790.787 1229.32,790.787 1230.07,790.787 1230.83,790.787 1231.57,790.787 1232.32,790.787 1233.07,790.787 1233.82,790.787 1234.56,790.787 1235.31,790.787 1236.05,790.787 1236.79,790.787 1237.53,790.787 1238.28,790.787 1239.01,790.787 1239.75,790.787 1240.49,790.787 1241.23,790.787 1241.96,790.787 1242.7,790.787 1243.43,790.787 1244.16,790.787 1244.9,790.787 1245.63,790.787 1246.36,790.787 1247.09,790.787 1247.81,790.787 1248.54,790.787 1249.27,790.787 1249.99,790.787 1250.72,790.787 1251.44,790.787 1252.16,790.787 1252.88,790.787 1253.6,790.787 1254.32,790.787 1255.04,790.787 1255.76,790.787 1256.47,790.787 1257.19,790.787 1257.9,790.787 1258.62,790.787 1259.33,790.787 1260.04,790.787 1260.75,790.787 1261.46,790.787 1262.17,790.787 1262.88,790.787 1263.59,790.787 1264.29,790.787 1265,790.787 1265.7,790.787 1266.41,790.787 1267.11,790.787 1267.81,790.787 1268.51,790.787 1269.21,790.787 1269.91,790.787 1270.61,790.787 1271.31,790.787 1272,790.787 1272.7,790.787 1273.39,790.787 1274.09,790.787 1274.78,790.787 1275.47,790.787 1276.16,790.787 1276.85,790.787 1277.54,790.787 1278.23,790.787 1278.92,790.787 1279.6,790.787 1280.29,790.787 1280.98,790.787 1281.66,790.787 1282.34,790.787 1283.02,790.787 1283.71,790.787 1284.39,790.787 1285.07,790.787 1285.75,790.787 1286.42,790.787 1287.1,790.787 1287.78,790.787 1288.45,790.787 1289.13,790.787 1289.8,790.787 1290.47,790.787 1291.14,790.787 1291.82,790.787 1292.49,790.787 1293.15,790.787 1293.82,790.787 1294.49,790.787 1295.16,790.787 1295.82,790.787 1296.49,790.787 1297.15,790.787 1297.82,790.787 1298.48,790.787 1299.14,790.787 1299.8,790.787 1300.46,790.787 1301.12,790.787 1301.78,790.787 1302.44,790.787 1303.09,790.787 1303.75,790.787 \"/>\n",
       "<polyline clip-path=\"url(#clip132)\" style=\"stroke:#ed5d92; stroke-linecap:round; stroke-linejoin:round; stroke-width:4; stroke-opacity:1; fill:none\" points=\"254.746,790.787 257.365,790.787 259.978,790.787 262.584,790.786 265.184,790.786 267.777,790.785 270.364,790.784 272.944,790.783 275.518,790.782 278.086,790.78 280.647,790.778 283.202,790.776 285.751,790.774 288.293,790.772 290.83,790.769 293.36,790.765 295.883,790.762 298.401,790.758 300.912,790.753 303.418,790.748 305.917,790.743 308.41,790.737 310.897,790.73 313.378,790.722 315.853,790.714 318.322,790.705 320.785,790.695 323.242,790.685 325.693,790.673 328.138,790.66 330.578,790.646 333.011,790.631 335.439,790.615 337.86,790.598 340.276,790.579 342.686,790.558 345.091,790.536 347.489,790.512 349.882,790.486 352.27,790.459 354.651,790.429 357.027,790.397 359.397,790.363 361.762,790.327 364.121,790.288 366.474,790.246 368.822,790.202 371.164,790.155 373.501,790.105 375.832,790.051 378.158,789.995 380.479,789.935 382.793,789.871 385.103,789.803 387.407,789.732 389.706,789.656 391.999,789.576 394.287,789.492 396.569,789.403 398.847,789.309 401.119,789.21 403.385,789.106 405.647,788.996 407.903,788.881 410.154,788.76 412.4,788.634 414.64,788.501 416.876,788.361 419.106,788.215 421.331,788.063 423.551,787.903 425.766,787.736 427.976,787.562 430.181,787.38 432.381,787.19 434.575,786.993 436.765,786.787 438.95,786.572 441.129,786.349 443.304,786.118 445.474,785.877 447.639,785.627 449.799,785.368 451.954,785.099 454.104,784.82 456.25,784.531 458.39,784.233 460.526,783.923 462.657,783.604 464.783,783.274 466.904,782.933 469.021,782.581 471.133,782.219 473.24,781.845 475.342,781.46 477.44,781.063 479.533,780.655 481.621,780.236 483.705,779.805 485.784,779.362 487.858,778.908 489.928,778.442 491.993,777.964 494.054,777.474 496.11,776.973 498.161,776.46 500.208,775.935 502.251,775.398 504.289,774.85 506.322,774.29 508.351,773.718 510.376,773.136 512.396,772.542 514.412,771.937 516.423,771.321 518.43,770.694 520.433,770.057 522.431,769.41 524.425,768.752 526.414,768.084 528.399,767.407 530.38,766.721 532.357,766.025 534.329,765.321 536.297,764.608 538.261,763.887 540.22,763.159 542.175,762.423 544.127,761.681 546.073,760.932 548.016,760.177 549.955,759.416 551.889,758.651 553.819,757.88 555.745,757.106 557.667,756.328 559.585,755.547 561.499,754.763 563.408,753.977 565.314,753.19 567.215,752.402 569.113,751.614 571.006,750.826 572.896,750.039 574.781,749.253 576.663,748.47 578.54,747.689 580.414,746.912 582.283,746.139 584.149,745.371 586.011,744.608 587.868,743.851 589.722,743.101 591.572,742.358 593.418,741.623 595.261,740.897 597.099,740.18 598.934,739.473 600.764,738.776 602.591,738.091 604.414,737.418 606.233,736.757 608.049,736.11 609.861,735.476 611.669,734.856 613.473,734.251 615.273,733.662 617.07,733.089 618.863,732.533 620.653,731.994 622.438,731.472 624.22,730.969 625.999,730.485 627.773,730.019 629.544,729.573 631.312,729.148 633.076,728.742 634.836,728.358 636.592,727.995 638.345,727.654 640.095,727.334 641.84,727.037 643.583,726.762 645.321,726.51 647.057,726.281 648.788,726.075 650.517,725.893 652.241,725.734 653.962,725.599 655.68,725.488 657.394,725.401 659.105,725.338 660.812,725.298 662.516,725.283 664.217,725.292 665.914,725.325 667.607,725.381 669.297,725.461 670.984,725.565 672.668,725.693 674.348,725.843 676.025,726.017 677.698,726.214 679.368,726.434 681.035,726.675 682.698,726.939 684.358,727.225 686.015,727.533 687.669,727.861 689.319,728.21 690.966,728.58 692.609,728.969 694.25,729.378 695.887,729.806 697.521,730.253 699.152,730.717 700.779,731.2 702.404,731.699 704.025,732.215 705.643,732.748 707.258,733.295 708.869,733.858 710.478,734.435 712.083,735.026 713.686,735.63 715.285,736.247 716.881,736.876 718.473,737.517 720.063,738.168 721.65,738.83 723.234,739.501 724.814,740.181 726.392,740.87 727.966,741.567 729.537,742.271 731.106,742.981 732.671,743.698 734.233,744.42 735.792,745.146 737.349,745.877 738.902,746.612 740.452,747.35 742,748.09 743.544,748.832 745.085,749.575 746.624,750.32 748.159,751.064 749.692,751.809 751.222,752.552 752.748,753.295 754.272,754.035 755.793,754.774 757.311,755.51 758.826,756.242 760.338,756.971 761.848,757.696 763.354,758.417 764.858,759.132 766.359,759.843 767.857,760.548 769.352,761.247 770.844,761.94 772.334,762.626 773.821,763.305 775.305,763.977 776.786,764.641 778.264,765.298 779.74,765.946 781.213,766.587 782.683,767.219 784.15,767.842 785.615,768.456 787.077,769.061 788.536,769.657 789.992,770.244 791.446,770.821 792.897,771.389 794.345,771.946 795.791,772.494 797.234,773.032 798.674,773.56 800.112,774.078 801.547,774.586 802.979,775.084 804.409,775.571 805.836,776.049 807.26,776.516 808.682,776.973 810.101,777.42 811.518,777.857 812.932,778.283 814.343,778.7 815.752,779.107 817.158,779.504 818.562,779.891 819.963,780.268 821.362,780.636 822.758,780.994 824.151,781.342 825.542,781.682 826.93,782.012 828.316,782.332 829.7,782.644 831.08,782.947 832.459,783.242 833.835,783.527 835.208,783.804 836.579,784.073 837.947,784.334 839.313,784.586 840.677,784.831 842.038,785.068 843.396,785.297 844.752,785.519 846.106,785.734 847.457,785.941 848.806,786.142 850.152,786.335 851.496,786.522 852.838,786.703 854.177,786.877 855.514,787.045 856.849,787.207 858.181,787.363 859.51,787.513 860.838,787.658 862.163,787.798 863.485,787.932 864.806,788.061 866.123,788.185 867.439,788.304 868.752,788.419 870.063,788.529 871.372,788.634 872.678,788.736 873.982,788.833 875.284,788.926 876.583,789.015 877.881,789.101 879.176,789.183 880.468,789.262 881.759,789.337 883.047,789.409 884.332,789.477 885.616,789.543 886.897,789.606 888.176,789.666 889.453,789.723 890.728,789.778 892,789.83 893.271,789.88 894.539,789.928 895.804,789.973 897.068,790.016 898.33,790.057 899.589,790.096 900.846,790.134 902.101,790.169 903.353,790.203 904.604,790.235 905.852,790.265 907.099,790.294 908.343,790.322 909.585,790.348 910.825,790.373 912.062,790.396 913.298,790.419 914.531,790.44 915.763,790.46 916.992,790.479 918.219,790.497 919.444,790.514 920.667,790.53 921.888,790.545 923.107,790.559 924.324,790.573 925.538,790.586 926.751,790.598 927.961,790.609 929.17,790.62 930.376,790.631 931.581,790.64 932.783,790.649 933.983,790.658 935.182,790.666 936.378,790.674 937.572,790.681 938.764,790.687 939.955,790.694 941.143,790.7 942.329,790.705 943.513,790.711 944.695,790.716 945.876,790.72 947.054,790.725 948.23,790.729 949.405,790.733 950.577,790.736 951.748,790.74 952.916,790.743 954.083,790.746 955.247,790.749 956.41,790.751 957.571,790.754 958.729,790.756 959.886,790.758 961.041,790.76 962.194,790.762 963.345,790.764 964.495,790.765 965.642,790.767 966.787,790.768 967.931,790.77 969.072,790.771 970.212,790.772 971.35,790.773 972.486,790.774 973.62,790.775 974.753,790.776 975.883,790.777 977.012,790.777 978.138,790.778 979.263,790.779 980.386,790.779 981.508,790.78 982.627,790.78 983.744,790.781 984.86,790.781 985.974,790.782 987.086,790.782 988.197,790.783 989.305,790.783 990.412,790.783 991.517,790.784 992.62,790.784 993.721,790.784 994.821,790.784 995.918,790.784 997.014,790.785 998.109,790.785 999.201,790.785 1000.29,790.785 1001.38,790.785 1002.47,790.785 1003.55,790.786 1004.64,790.786 1005.72,790.786 1006.8,790.786 1007.88,790.786 1008.95,790.786 1010.03,790.786 1011.1,790.786 1012.17,790.786 1013.24,790.786 1014.31,790.786 1015.38,790.786 1016.44,790.786 1017.51,790.786 1018.57,790.787 1019.63,790.787 1020.69,790.787 1021.74,790.787 1022.8,790.787 1023.85,790.787 1024.9,790.787 1025.95,790.787 1027,790.787 1028.05,790.787 1029.09,790.787 1030.13,790.787 1031.17,790.787 1032.21,790.787 1033.25,790.787 1034.29,790.787 1035.32,790.787 1036.36,790.787 1037.39,790.787 1038.42,790.787 1039.45,790.787 1040.47,790.787 1041.5,790.787 1042.52,790.787 1043.55,790.787 1044.57,790.787 1045.58,790.787 1046.6,790.787 1047.62,790.787 1048.63,790.787 1049.64,790.787 1050.66,790.787 1051.66,790.787 1052.67,790.787 1053.68,790.787 1054.68,790.787 1055.69,790.787 1056.69,790.787 1057.69,790.787 1058.69,790.787 1059.68,790.787 1060.68,790.787 1061.67,790.787 1062.67,790.787 1063.66,790.787 1064.65,790.787 1065.63,790.787 1066.62,790.787 1067.6,790.787 1068.59,790.787 1069.57,790.787 1070.55,790.787 1071.53,790.787 1072.51,790.787 1073.48,790.787 1074.46,790.787 1075.43,790.787 1076.4,790.787 1077.37,790.787 1078.34,790.787 1079.31,790.787 1080.27,790.787 1081.23,790.787 1082.2,790.787 1083.16,790.787 1084.12,790.787 1085.08,790.787 1086.03,790.787 1086.99,790.787 1087.94,790.787 1088.89,790.787 1089.85,790.787 1090.79,790.787 1091.74,790.787 1092.69,790.787 1093.64,790.787 1094.58,790.787 1095.52,790.787 1096.46,790.787 1097.4,790.787 1098.34,790.787 1099.28,790.787 1100.21,790.787 1101.15,790.787 1102.08,790.787 1103.01,790.787 1103.94,790.787 1104.87,790.787 1105.8,790.787 1106.72,790.787 1107.65,790.787 1108.57,790.787 1109.49,790.787 1110.41,790.787 1111.33,790.787 1112.25,790.787 1113.16,790.787 1114.08,790.787 1114.99,790.787 1115.9,790.787 1116.81,790.787 1117.72,790.787 1118.63,790.787 1119.54,790.787 1120.44,790.787 1121.35,790.787 1122.25,790.787 1123.15,790.787 1124.05,790.787 1124.95,790.787 1125.85,790.787 1126.75,790.787 1127.64,790.787 1128.53,790.787 1129.43,790.787 1130.32,790.787 1131.21,790.787 1132.1,790.787 1132.98,790.787 1133.87,790.787 1134.75,790.787 1135.64,790.787 1136.52,790.787 1137.4,790.787 1138.28,790.787 1139.16,790.787 1140.03,790.787 1140.91,790.787 1141.78,790.787 1142.66,790.787 1143.53,790.787 1144.4,790.787 1145.27,790.787 1146.14,790.787 1147,790.787 1147.87,790.787 1148.73,790.787 1149.6,790.787 1150.46,790.787 1151.32,790.787 1152.18,790.787 1153.04,790.787 1153.89,790.787 1154.75,790.787 1155.6,790.787 1156.46,790.787 1157.31,790.787 1158.16,790.787 1159.01,790.787 1159.86,790.787 1160.7,790.787 1161.55,790.787 1162.4,790.787 1163.24,790.787 1164.08,790.787 1164.92,790.787 1165.76,790.787 1166.6,790.787 1167.44,790.787 1168.28,790.787 1169.11,790.787 1169.95,790.787 1170.78,790.787 1171.61,790.787 1172.44,790.787 1173.27,790.787 1174.1,790.787 1174.93,790.787 1175.75,790.787 1176.58,790.787 1177.4,790.787 1178.22,790.787 1179.04,790.787 1179.86,790.787 1180.68,790.787 1181.5,790.787 1182.32,790.787 1183.13,790.787 1183.95,790.787 1184.76,790.787 1185.57,790.787 1186.38,790.787 1187.19,790.787 1188,790.787 1188.81,790.787 1189.62,790.787 1190.42,790.787 1191.23,790.787 1192.03,790.787 1192.83,790.787 1193.63,790.787 1194.43,790.787 1195.23,790.787 1196.03,790.787 1196.83,790.787 1197.62,790.787 1198.42,790.787 1199.21,790.787 1200,790.787 1200.79,790.787 1201.58,790.787 1202.37,790.787 1203.16,790.787 1203.95,790.787 1204.73,790.787 1205.52,790.787 1206.3,790.787 1207.08,790.787 1207.87,790.787 1208.65,790.787 1209.43,790.787 1210.2,790.787 1210.98,790.787 1211.76,790.787 1212.53,790.787 1213.31,790.787 1214.08,790.787 1214.85,790.787 1215.62,790.787 1216.39,790.787 1217.16,790.787 1217.93,790.787 1218.7,790.787 1219.46,790.787 1220.23,790.787 1220.99,790.787 1221.75,790.787 1222.51,790.787 1223.28,790.787 1224.03,790.787 1224.79,790.787 1225.55,790.787 1226.31,790.787 1227.06,790.787 1227.82,790.787 1228.57,790.787 1229.32,790.787 1230.07,790.787 1230.83,790.787 1231.57,790.787 1232.32,790.787 1233.07,790.787 1233.82,790.787 1234.56,790.787 1235.31,790.787 1236.05,790.787 1236.79,790.787 1237.53,790.787 1238.28,790.787 1239.01,790.787 1239.75,790.787 1240.49,790.787 1241.23,790.787 1241.96,790.787 1242.7,790.787 1243.43,790.787 1244.16,790.787 1244.9,790.787 1245.63,790.787 1246.36,790.787 1247.09,790.787 1247.81,790.787 1248.54,790.787 1249.27,790.787 1249.99,790.787 1250.72,790.787 1251.44,790.787 1252.16,790.787 1252.88,790.787 1253.6,790.787 1254.32,790.787 1255.04,790.787 1255.76,790.787 1256.47,790.787 1257.19,790.787 1257.9,790.787 1258.62,790.787 1259.33,790.787 1260.04,790.787 1260.75,790.787 1261.46,790.787 1262.17,790.787 1262.88,790.787 1263.59,790.787 1264.29,790.787 1265,790.787 1265.7,790.787 1266.41,790.787 1267.11,790.787 1267.81,790.787 1268.51,790.787 1269.21,790.787 1269.91,790.787 1270.61,790.787 1271.31,790.787 1272,790.787 1272.7,790.787 1273.39,790.787 1274.09,790.787 1274.78,790.787 1275.47,790.787 1276.16,790.787 1276.85,790.787 1277.54,790.787 1278.23,790.787 1278.92,790.787 1279.6,790.787 1280.29,790.787 1280.98,790.787 1281.66,790.787 1282.34,790.787 1283.02,790.787 1283.71,790.787 1284.39,790.787 1285.07,790.787 1285.75,790.787 1286.42,790.787 1287.1,790.787 1287.78,790.787 1288.45,790.787 1289.13,790.787 1289.8,790.787 1290.47,790.787 1291.14,790.787 1291.82,790.787 1292.49,790.787 1293.15,790.787 1293.82,790.787 1294.49,790.787 1295.16,790.787 1295.82,790.787 1296.49,790.787 1297.15,790.787 1297.82,790.787 1298.48,790.787 1299.14,790.787 1299.8,790.787 1300.46,790.787 1301.12,790.787 1301.78,790.787 1302.44,790.787 1303.09,790.787 1303.75,790.787 \"/>\n",
       "<path clip-path=\"url(#clip130)\" d=\"M1878.05 581.516 L2282.82 581.516 L2282.82 166.796 L1878.05 166.796  Z\" fill=\"#ffffff\" fill-rule=\"evenodd\" fill-opacity=\"1\"/>\n",
       "<polyline clip-path=\"url(#clip130)\" style=\"stroke:#000000; stroke-linecap:round; stroke-linejoin:round; stroke-width:4; stroke-opacity:1; fill:none\" points=\"1878.05,581.516 2282.82,581.516 2282.82,166.796 1878.05,166.796 1878.05,581.516 \"/>\n",
       "<polyline clip-path=\"url(#clip130)\" style=\"stroke:#009af9; stroke-linecap:round; stroke-linejoin:round; stroke-width:4; stroke-opacity:1; fill:none\" points=\"1901.36,218.636 2041.22,218.636 \"/>\n",
       "<path clip-path=\"url(#clip130)\" d=\"M2084.88 214.967 Q2086.48 212.096 2088.7 210.731 Q2090.92 209.365 2093.93 209.365 Q2097.98 209.365 2100.18 212.212 Q2102.38 215.036 2102.38 220.268 L2102.38 235.916 L2098.1 235.916 L2098.1 220.407 Q2098.1 216.68 2096.78 214.874 Q2095.46 213.069 2092.75 213.069 Q2089.44 213.069 2087.52 215.268 Q2085.6 217.467 2085.6 221.263 L2085.6 235.916 L2081.32 235.916 L2081.32 220.407 Q2081.32 216.657 2080 214.874 Q2078.68 213.069 2075.92 213.069 Q2072.66 213.069 2070.74 215.291 Q2068.82 217.49 2068.82 221.263 L2068.82 235.916 L2064.54 235.916 L2064.54 209.99 L2068.82 209.99 L2068.82 214.018 Q2070.28 211.633 2072.31 210.499 Q2074.35 209.365 2077.15 209.365 Q2079.97 209.365 2081.94 210.8 Q2083.93 212.235 2084.88 214.967 Z\" fill=\"#000000\" fill-rule=\"evenodd\" fill-opacity=\"1\" /><polyline clip-path=\"url(#clip130)\" style=\"stroke:#e26f46; stroke-linecap:round; stroke-linejoin:round; stroke-width:4; stroke-opacity:1; fill:none\" points=\"1901.36,270.476 2041.22,270.476 \"/>\n",
       "<path clip-path=\"url(#clip130)\" d=\"M2083.31 274.816 Q2083.31 270.117 2081.36 267.455 Q2079.44 264.77 2076.06 264.77 Q2072.68 264.77 2070.74 267.455 Q2068.82 270.117 2068.82 274.816 Q2068.82 279.515 2070.74 282.2 Q2072.68 284.862 2076.06 284.862 Q2079.44 284.862 2081.36 282.2 Q2083.31 279.515 2083.31 274.816 M2068.82 265.765 Q2070.16 263.45 2072.2 262.339 Q2074.26 261.205 2077.1 261.205 Q2081.83 261.205 2084.77 264.955 Q2087.73 268.705 2087.73 274.816 Q2087.73 280.927 2084.77 284.677 Q2081.83 288.427 2077.1 288.427 Q2074.26 288.427 2072.2 287.316 Q2070.16 286.182 2068.82 283.867 L2068.82 287.756 L2064.54 287.756 L2064.54 251.737 L2068.82 251.737 L2068.82 265.765 Z\" fill=\"#000000\" fill-rule=\"evenodd\" fill-opacity=\"1\" /><path clip-path=\"url(#clip130)\" d=\"M2116.97 273.728 L2116.97 275.811 L2097.38 275.811 Q2097.66 280.209 2100.02 282.524 Q2102.41 284.816 2106.64 284.816 Q2109.1 284.816 2111.39 284.214 Q2113.7 283.612 2115.97 282.409 L2115.97 286.436 Q2113.68 287.408 2111.27 287.918 Q2108.86 288.427 2106.39 288.427 Q2100.18 288.427 2096.55 284.816 Q2092.94 281.205 2092.94 275.047 Q2092.94 268.682 2096.36 264.955 Q2099.81 261.205 2105.65 261.205 Q2110.88 261.205 2113.91 264.585 Q2116.97 267.941 2116.97 273.728 M2112.71 272.478 Q2112.66 268.983 2110.74 266.899 Q2108.84 264.816 2105.69 264.816 Q2102.13 264.816 2099.97 266.83 Q2097.85 268.844 2097.52 272.501 L2112.71 272.478 Z\" fill=\"#000000\" fill-rule=\"evenodd\" fill-opacity=\"1\" /><path clip-path=\"url(#clip130)\" d=\"M2128.17 254.469 L2128.17 261.83 L2136.94 261.83 L2136.94 265.14 L2128.17 265.14 L2128.17 279.214 Q2128.17 282.385 2129.03 283.288 Q2129.91 284.191 2132.57 284.191 L2136.94 284.191 L2136.94 287.756 L2132.57 287.756 Q2127.64 287.756 2125.76 285.927 Q2123.89 284.075 2123.89 279.214 L2123.89 265.14 L2120.76 265.14 L2120.76 261.83 L2123.89 261.83 L2123.89 254.469 L2128.17 254.469 Z\" fill=\"#000000\" fill-rule=\"evenodd\" fill-opacity=\"1\" /><path clip-path=\"url(#clip130)\" d=\"M2154.33 274.723 Q2149.16 274.723 2147.17 275.904 Q2145.18 277.084 2145.18 279.932 Q2145.18 282.2 2146.66 283.543 Q2148.17 284.862 2150.74 284.862 Q2154.28 284.862 2156.41 282.362 Q2158.56 279.839 2158.56 275.672 L2158.56 274.723 L2154.33 274.723 M2162.82 272.964 L2162.82 287.756 L2158.56 287.756 L2158.56 283.821 Q2157.1 286.182 2154.93 287.316 Q2152.75 288.427 2149.6 288.427 Q2145.62 288.427 2143.26 286.205 Q2140.92 283.959 2140.92 280.209 Q2140.92 275.834 2143.84 273.612 Q2146.78 271.39 2152.59 271.39 L2158.56 271.39 L2158.56 270.973 Q2158.56 268.034 2156.62 266.436 Q2154.7 264.816 2151.2 264.816 Q2148.98 264.816 2146.87 265.348 Q2144.77 265.881 2142.82 266.946 L2142.82 263.01 Q2145.16 262.108 2147.36 261.668 Q2149.56 261.205 2151.64 261.205 Q2157.27 261.205 2160.04 264.122 Q2162.82 267.038 2162.82 272.964 Z\" fill=\"#000000\" fill-rule=\"evenodd\" fill-opacity=\"1\" /><polyline clip-path=\"url(#clip130)\" style=\"stroke:#3da44d; stroke-linecap:round; stroke-linejoin:round; stroke-width:4; stroke-opacity:1; fill:none\" points=\"1901.36,322.316 2041.22,322.316 \"/>\n",
       "<path clip-path=\"url(#clip130)\" d=\"M2068.82 335.707 L2068.82 349.457 L2064.54 349.457 L2064.54 313.67 L2068.82 313.67 L2068.82 317.605 Q2070.16 315.29 2072.2 314.179 Q2074.26 313.045 2077.1 313.045 Q2081.83 313.045 2084.77 316.795 Q2087.73 320.545 2087.73 326.656 Q2087.73 332.767 2084.77 336.517 Q2081.83 340.267 2077.1 340.267 Q2074.26 340.267 2072.2 339.156 Q2070.16 338.022 2068.82 335.707 M2083.31 326.656 Q2083.31 321.957 2081.36 319.295 Q2079.44 316.61 2076.06 316.61 Q2072.68 316.61 2070.74 319.295 Q2068.82 321.957 2068.82 326.656 Q2068.82 331.355 2070.74 334.04 Q2072.68 336.702 2076.06 336.702 Q2079.44 336.702 2081.36 334.04 Q2083.31 331.355 2083.31 326.656 Z\" fill=\"#000000\" fill-rule=\"evenodd\" fill-opacity=\"1\" /><path clip-path=\"url(#clip130)\" d=\"M2111.32 314.434 L2111.32 318.462 Q2109.51 317.536 2107.57 317.073 Q2105.62 316.61 2103.54 316.61 Q2100.37 316.61 2098.77 317.582 Q2097.2 318.554 2097.2 320.499 Q2097.2 321.98 2098.33 322.837 Q2099.47 323.67 2102.89 324.434 L2104.35 324.758 Q2108.89 325.73 2110.78 327.512 Q2112.71 329.272 2112.71 332.443 Q2112.71 336.054 2109.84 338.161 Q2106.99 340.267 2101.99 340.267 Q2099.91 340.267 2097.64 339.85 Q2095.39 339.457 2092.89 338.647 L2092.89 334.249 Q2095.25 335.475 2097.54 336.1 Q2099.84 336.702 2102.08 336.702 Q2105.09 336.702 2106.71 335.684 Q2108.33 334.642 2108.33 332.767 Q2108.33 331.031 2107.15 330.105 Q2105.99 329.179 2102.04 328.323 L2100.55 327.975 Q2096.6 327.142 2094.84 325.429 Q2093.08 323.693 2093.08 320.684 Q2093.08 317.026 2095.67 315.036 Q2098.26 313.045 2103.03 313.045 Q2105.39 313.045 2107.47 313.392 Q2109.56 313.739 2111.32 314.434 Z\" fill=\"#000000\" fill-rule=\"evenodd\" fill-opacity=\"1\" /><path clip-path=\"url(#clip130)\" d=\"M2119.49 313.67 L2123.75 313.67 L2123.75 339.596 L2119.49 339.596 L2119.49 313.67 M2119.49 303.577 L2123.75 303.577 L2123.75 308.971 L2119.49 308.971 L2119.49 303.577 Z\" fill=\"#000000\" fill-rule=\"evenodd\" fill-opacity=\"1\" /><polyline clip-path=\"url(#clip130)\" style=\"stroke:#c271d2; stroke-linecap:round; stroke-linejoin:round; stroke-width:4; stroke-opacity:1; fill:none\" points=\"1901.36,374.156 2041.22,374.156 \"/>\n",
       "<path clip-path=\"url(#clip130)\" d=\"M2089.19 365.51 L2079.81 378.126 L2089.67 391.436 L2084.65 391.436 L2077.1 381.251 L2069.56 391.436 L2064.54 391.436 L2074.6 377.871 L2065.39 365.51 L2070.41 365.51 L2077.29 374.746 L2084.16 365.51 L2089.19 365.51 Z\" fill=\"#000000\" fill-rule=\"evenodd\" fill-opacity=\"1\" /><path clip-path=\"url(#clip130)\" d=\"M2117.24 365.51 L2107.87 378.126 L2117.73 391.436 L2112.71 391.436 L2105.16 381.251 L2097.61 391.436 L2092.59 391.436 L2102.66 377.871 L2093.45 365.51 L2098.47 365.51 L2105.35 374.746 L2112.22 365.51 L2117.24 365.51 Z\" fill=\"#000000\" fill-rule=\"evenodd\" fill-opacity=\"1\" /><path clip-path=\"url(#clip130)\" d=\"M2141.57 366.505 L2141.57 370.487 Q2139.77 369.491 2137.94 369.005 Q2136.13 368.496 2134.28 368.496 Q2130.14 368.496 2127.85 371.135 Q2125.55 373.751 2125.55 378.496 Q2125.55 383.241 2127.85 385.88 Q2130.14 388.496 2134.28 388.496 Q2136.13 388.496 2137.94 388.01 Q2139.77 387.501 2141.57 386.505 L2141.57 390.44 Q2139.79 391.274 2137.87 391.69 Q2135.97 392.107 2133.82 392.107 Q2127.96 392.107 2124.51 388.426 Q2121.06 384.746 2121.06 378.496 Q2121.06 372.153 2124.53 368.519 Q2128.03 364.885 2134.1 364.885 Q2136.06 364.885 2137.94 365.302 Q2139.81 365.695 2141.57 366.505 Z\" fill=\"#000000\" fill-rule=\"evenodd\" fill-opacity=\"1\" /><path clip-path=\"url(#clip130)\" d=\"M2170.53 375.788 L2170.53 391.436 L2166.27 391.436 L2166.27 375.927 Q2166.27 372.246 2164.84 370.417 Q2163.4 368.589 2160.53 368.589 Q2157.08 368.589 2155.09 370.788 Q2153.1 372.987 2153.1 376.783 L2153.1 391.436 L2148.82 391.436 L2148.82 355.417 L2153.1 355.417 L2153.1 369.538 Q2154.63 367.2 2156.69 366.042 Q2158.77 364.885 2161.48 364.885 Q2165.95 364.885 2168.24 367.663 Q2170.53 370.417 2170.53 375.788 Z\" fill=\"#000000\" fill-rule=\"evenodd\" fill-opacity=\"1\" /><path clip-path=\"url(#clip130)\" d=\"M2179.03 365.51 L2183.28 365.51 L2183.28 391.436 L2179.03 391.436 L2179.03 365.51 M2179.03 355.417 L2183.28 355.417 L2183.28 360.811 L2179.03 360.811 L2179.03 355.417 Z\" fill=\"#000000\" fill-rule=\"evenodd\" fill-opacity=\"1\" /><path clip-path=\"url(#clip130)\" d=\"M2193.28 385.556 L2198.17 385.556 L2198.17 389.538 L2194.37 396.945 L2191.39 396.945 L2193.28 389.538 L2193.28 385.556 Z\" fill=\"#000000\" fill-rule=\"evenodd\" fill-opacity=\"1\" /><path clip-path=\"url(#clip130)\" d=\"M2206.83 381.204 L2206.83 365.51 L2211.09 365.51 L2211.09 381.042 Q2211.09 384.723 2212.52 386.575 Q2213.96 388.403 2216.83 388.403 Q2220.28 388.403 2222.27 386.204 Q2224.28 384.005 2224.28 380.209 L2224.28 365.51 L2228.54 365.51 L2228.54 391.436 L2224.28 391.436 L2224.28 387.454 Q2222.73 389.815 2220.67 390.973 Q2218.63 392.107 2215.92 392.107 Q2211.46 392.107 2209.14 389.329 Q2206.83 386.551 2206.83 381.204 M2217.54 364.885 L2217.54 364.885 Z\" fill=\"#000000\" fill-rule=\"evenodd\" fill-opacity=\"1\" /><polyline clip-path=\"url(#clip130)\" style=\"stroke:#ac8d18; stroke-linecap:round; stroke-linejoin:round; stroke-width:4; stroke-opacity:1; fill:none\" points=\"1901.36,425.996 2041.22,425.996 \"/>\n",
       "<path clip-path=\"url(#clip130)\" d=\"M2083.45 421.285 L2083.45 407.257 L2087.71 407.257 L2087.71 443.276 L2083.45 443.276 L2083.45 439.387 Q2082.1 441.702 2080.04 442.836 Q2078.01 443.947 2075.14 443.947 Q2070.44 443.947 2067.48 440.197 Q2064.54 436.447 2064.54 430.336 Q2064.54 424.225 2067.48 420.475 Q2070.44 416.725 2075.14 416.725 Q2078.01 416.725 2080.04 417.859 Q2082.1 418.97 2083.45 421.285 M2068.93 430.336 Q2068.93 435.035 2070.85 437.72 Q2072.8 440.382 2076.18 440.382 Q2079.56 440.382 2081.5 437.72 Q2083.45 435.035 2083.45 430.336 Q2083.45 425.637 2081.5 422.975 Q2079.56 420.29 2076.18 420.29 Q2072.8 420.29 2070.85 422.975 Q2068.93 425.637 2068.93 430.336 Z\" fill=\"#000000\" fill-rule=\"evenodd\" fill-opacity=\"1\" /><path clip-path=\"url(#clip130)\" d=\"M2118.66 429.248 L2118.66 431.331 L2099.07 431.331 Q2099.35 435.729 2101.71 438.044 Q2104.1 440.336 2108.33 440.336 Q2110.78 440.336 2113.08 439.734 Q2115.39 439.132 2117.66 437.929 L2117.66 441.956 Q2115.37 442.928 2112.96 443.438 Q2110.55 443.947 2108.08 443.947 Q2101.87 443.947 2098.24 440.336 Q2094.63 436.725 2094.63 430.567 Q2094.63 424.202 2098.05 420.475 Q2101.5 416.725 2107.34 416.725 Q2112.57 416.725 2115.6 420.105 Q2118.66 423.461 2118.66 429.248 M2114.4 427.998 Q2114.35 424.503 2112.43 422.419 Q2110.53 420.336 2107.38 420.336 Q2103.82 420.336 2101.66 422.35 Q2099.54 424.364 2099.21 428.021 L2114.4 427.998 Z\" fill=\"#000000\" fill-rule=\"evenodd\" fill-opacity=\"1\" /><path clip-path=\"url(#clip130)\" d=\"M2140.67 421.331 Q2139.95 420.915 2139.09 420.73 Q2138.26 420.521 2137.24 420.521 Q2133.63 420.521 2131.69 422.882 Q2129.77 425.22 2129.77 429.618 L2129.77 443.276 L2125.48 443.276 L2125.48 417.35 L2129.77 417.35 L2129.77 421.378 Q2131.11 419.017 2133.26 417.882 Q2135.41 416.725 2138.49 416.725 Q2138.93 416.725 2139.47 416.794 Q2140 416.841 2140.65 416.956 L2140.67 421.331 Z\" fill=\"#000000\" fill-rule=\"evenodd\" fill-opacity=\"1\" /><path clip-path=\"url(#clip130)\" d=\"M2165.41 417.35 L2156.04 429.966 L2165.9 443.276 L2160.88 443.276 L2153.33 433.091 L2145.78 443.276 L2140.76 443.276 L2150.83 429.711 L2141.62 417.35 L2146.64 417.35 L2153.52 426.586 L2160.39 417.35 L2165.41 417.35 Z\" fill=\"#000000\" fill-rule=\"evenodd\" fill-opacity=\"1\" /><path clip-path=\"url(#clip130)\" d=\"M2193.47 417.35 L2184.09 429.966 L2193.96 443.276 L2188.93 443.276 L2181.39 433.091 L2173.84 443.276 L2168.82 443.276 L2178.89 429.711 L2169.67 417.35 L2174.7 417.35 L2181.57 426.586 L2188.45 417.35 L2193.47 417.35 Z\" fill=\"#000000\" fill-rule=\"evenodd\" fill-opacity=\"1\" /><path clip-path=\"url(#clip130)\" d=\"M2217.8 418.345 L2217.8 422.327 Q2215.99 421.331 2214.16 420.845 Q2212.36 420.336 2210.51 420.336 Q2206.36 420.336 2204.07 422.975 Q2201.78 425.591 2201.78 430.336 Q2201.78 435.081 2204.07 437.72 Q2206.36 440.336 2210.51 440.336 Q2212.36 440.336 2214.16 439.85 Q2215.99 439.341 2217.8 438.345 L2217.8 442.28 Q2216.02 443.114 2214.09 443.53 Q2212.2 443.947 2210.04 443.947 Q2204.19 443.947 2200.74 440.266 Q2197.29 436.586 2197.29 430.336 Q2197.29 423.993 2200.76 420.359 Q2204.26 416.725 2210.32 416.725 Q2212.29 416.725 2214.16 417.142 Q2216.04 417.535 2217.8 418.345 Z\" fill=\"#000000\" fill-rule=\"evenodd\" fill-opacity=\"1\" /><path clip-path=\"url(#clip130)\" d=\"M2246.76 427.628 L2246.76 443.276 L2242.5 443.276 L2242.5 427.767 Q2242.5 424.086 2241.06 422.257 Q2239.63 420.429 2236.76 420.429 Q2233.31 420.429 2231.32 422.628 Q2229.33 424.827 2229.33 428.623 L2229.33 443.276 L2225.04 443.276 L2225.04 407.257 L2229.33 407.257 L2229.33 421.378 Q2230.85 419.04 2232.91 417.882 Q2235 416.725 2237.71 416.725 Q2242.17 416.725 2244.46 419.503 Q2246.76 422.257 2246.76 427.628 Z\" fill=\"#000000\" fill-rule=\"evenodd\" fill-opacity=\"1\" /><path clip-path=\"url(#clip130)\" d=\"M2255.25 417.35 L2259.51 417.35 L2259.51 443.276 L2255.25 443.276 L2255.25 417.35 M2255.25 407.257 L2259.51 407.257 L2259.51 412.651 L2255.25 412.651 L2255.25 407.257 Z\" fill=\"#000000\" fill-rule=\"evenodd\" fill-opacity=\"1\" /><polyline clip-path=\"url(#clip130)\" style=\"stroke:#00a9ad; stroke-linecap:round; stroke-linejoin:round; stroke-width:4; stroke-opacity:1; fill:none\" points=\"1901.36,477.836 2041.22,477.836 \"/>\n",
       "<path clip-path=\"url(#clip130)\" d=\"M2068.82 491.227 L2068.82 504.977 L2064.54 504.977 L2064.54 469.19 L2068.82 469.19 L2068.82 473.125 Q2070.16 470.81 2072.2 469.699 Q2074.26 468.565 2077.1 468.565 Q2081.83 468.565 2084.77 472.315 Q2087.73 476.065 2087.73 482.176 Q2087.73 488.287 2084.77 492.037 Q2081.83 495.787 2077.1 495.787 Q2074.26 495.787 2072.2 494.676 Q2070.16 493.542 2068.82 491.227 M2083.31 482.176 Q2083.31 477.477 2081.36 474.815 Q2079.44 472.13 2076.06 472.13 Q2072.68 472.13 2070.74 474.815 Q2068.82 477.477 2068.82 482.176 Q2068.82 486.875 2070.74 489.56 Q2072.68 492.222 2076.06 492.222 Q2079.44 492.222 2081.36 489.56 Q2083.31 486.875 2083.31 482.176 Z\" fill=\"#000000\" fill-rule=\"evenodd\" fill-opacity=\"1\" /><path clip-path=\"url(#clip130)\" d=\"M2111.32 469.954 L2111.32 473.982 Q2109.51 473.056 2107.57 472.593 Q2105.62 472.13 2103.54 472.13 Q2100.37 472.13 2098.77 473.102 Q2097.2 474.074 2097.2 476.019 Q2097.2 477.5 2098.33 478.357 Q2099.47 479.19 2102.89 479.954 L2104.35 480.278 Q2108.89 481.25 2110.78 483.032 Q2112.71 484.792 2112.71 487.963 Q2112.71 491.574 2109.84 493.681 Q2106.99 495.787 2101.99 495.787 Q2099.91 495.787 2097.64 495.37 Q2095.39 494.977 2092.89 494.167 L2092.89 489.769 Q2095.25 490.995 2097.54 491.62 Q2099.84 492.222 2102.08 492.222 Q2105.09 492.222 2106.71 491.204 Q2108.33 490.162 2108.33 488.287 Q2108.33 486.551 2107.15 485.625 Q2105.99 484.699 2102.04 483.843 L2100.55 483.495 Q2096.6 482.662 2094.84 480.949 Q2093.08 479.213 2093.08 476.204 Q2093.08 472.546 2095.67 470.556 Q2098.26 468.565 2103.03 468.565 Q2105.39 468.565 2107.47 468.912 Q2109.56 469.259 2111.32 469.954 Z\" fill=\"#000000\" fill-rule=\"evenodd\" fill-opacity=\"1\" /><path clip-path=\"url(#clip130)\" d=\"M2119.49 469.19 L2123.75 469.19 L2123.75 495.116 L2119.49 495.116 L2119.49 469.19 M2119.49 459.097 L2123.75 459.097 L2123.75 464.491 L2119.49 464.491 L2119.49 459.097 Z\" fill=\"#000000\" fill-rule=\"evenodd\" fill-opacity=\"1\" /><path clip-path=\"url(#clip130)\" d=\"M2133.75 489.236 L2138.63 489.236 L2138.63 493.218 L2134.84 500.625 L2131.85 500.625 L2133.75 493.218 L2133.75 489.236 Z\" fill=\"#000000\" fill-rule=\"evenodd\" fill-opacity=\"1\" /><path clip-path=\"url(#clip130)\" d=\"M2162.75 473.171 Q2162.03 472.755 2161.18 472.57 Q2160.34 472.361 2159.33 472.361 Q2155.72 472.361 2153.77 474.722 Q2151.85 477.06 2151.85 481.458 L2151.85 495.116 L2147.57 495.116 L2147.57 469.19 L2151.85 469.19 L2151.85 473.218 Q2153.19 470.857 2155.34 469.722 Q2157.5 468.565 2160.58 468.565 Q2161.02 468.565 2161.55 468.634 Q2162.08 468.681 2162.73 468.796 L2162.75 473.171 Z\" fill=\"#000000\" fill-rule=\"evenodd\" fill-opacity=\"1\" /><polyline clip-path=\"url(#clip130)\" style=\"stroke:#ed5d92; stroke-linecap:round; stroke-linejoin:round; stroke-width:4; stroke-opacity:1; fill:none\" points=\"1901.36,529.676 2041.22,529.676 \"/>\n",
       "<path clip-path=\"url(#clip130)\" d=\"M2089.19 521.03 L2079.81 533.646 L2089.67 546.956 L2084.65 546.956 L2077.1 536.771 L2069.56 546.956 L2064.54 546.956 L2074.6 533.391 L2065.39 521.03 L2070.41 521.03 L2077.29 530.266 L2084.16 521.03 L2089.19 521.03 Z\" fill=\"#000000\" fill-rule=\"evenodd\" fill-opacity=\"1\" /><path clip-path=\"url(#clip130)\" d=\"M2117.24 521.03 L2107.87 533.646 L2117.73 546.956 L2112.71 546.956 L2105.16 536.771 L2097.61 546.956 L2092.59 546.956 L2102.66 533.391 L2093.45 521.03 L2098.47 521.03 L2105.35 530.266 L2112.22 521.03 L2117.24 521.03 Z\" fill=\"#000000\" fill-rule=\"evenodd\" fill-opacity=\"1\" /><path clip-path=\"url(#clip130)\" d=\"M2141.57 522.025 L2141.57 526.007 Q2139.77 525.011 2137.94 524.525 Q2136.13 524.016 2134.28 524.016 Q2130.14 524.016 2127.85 526.655 Q2125.55 529.271 2125.55 534.016 Q2125.55 538.761 2127.85 541.4 Q2130.14 544.016 2134.28 544.016 Q2136.13 544.016 2137.94 543.53 Q2139.77 543.021 2141.57 542.025 L2141.57 545.96 Q2139.79 546.794 2137.87 547.21 Q2135.97 547.627 2133.82 547.627 Q2127.96 547.627 2124.51 543.946 Q2121.06 540.266 2121.06 534.016 Q2121.06 527.673 2124.53 524.039 Q2128.03 520.405 2134.1 520.405 Q2136.06 520.405 2137.94 520.822 Q2139.81 521.215 2141.57 522.025 Z\" fill=\"#000000\" fill-rule=\"evenodd\" fill-opacity=\"1\" /><path clip-path=\"url(#clip130)\" d=\"M2170.53 531.308 L2170.53 546.956 L2166.27 546.956 L2166.27 531.447 Q2166.27 527.766 2164.84 525.937 Q2163.4 524.109 2160.53 524.109 Q2157.08 524.109 2155.09 526.308 Q2153.1 528.507 2153.1 532.303 L2153.1 546.956 L2148.82 546.956 L2148.82 510.937 L2153.1 510.937 L2153.1 525.058 Q2154.63 522.72 2156.69 521.562 Q2158.77 520.405 2161.48 520.405 Q2165.95 520.405 2168.24 523.183 Q2170.53 525.937 2170.53 531.308 Z\" fill=\"#000000\" fill-rule=\"evenodd\" fill-opacity=\"1\" /><path clip-path=\"url(#clip130)\" d=\"M2179.03 521.03 L2183.28 521.03 L2183.28 546.956 L2179.03 546.956 L2179.03 521.03 M2179.03 510.937 L2183.28 510.937 L2183.28 516.331 L2179.03 516.331 L2179.03 510.937 Z\" fill=\"#000000\" fill-rule=\"evenodd\" fill-opacity=\"1\" /></svg>\n"
      ]
     },
     "execution_count": 345,
     "metadata": {},
     "output_type": "execute_result"
    }
   ],
   "source": [
    "using Plots #showing initial data and the initial status of the horizon finder\n",
    "plot(compactify.(initX[4:L-3]), state_array[4:L-3,1:7], xaxis=\"r\",title=\"Initial Data\", labels=[\"m\" \"beta\" \"psi\" \"xxchi,u\" \"derxxchi\" \"psi,r\" \"xxchi\"],xlim=[0,1])"
   ]
  },
  {
   "cell_type": "code",
   "execution_count": 346,
   "id": "15bbf245",
   "metadata": {},
   "outputs": [],
   "source": [
    "function compactify(r)\n",
    "    return r/(1+r)\n",
    "end\n",
    "function uncompactify(x)\n",
    "    return x/(1-x)\n",
    "end;"
   ]
  },
  {
   "cell_type": "markdown",
   "id": "9b444ece",
   "metadata": {
    "papermill": {
     "duration": 0.009161,
     "end_time": "2023-03-28T18:06:25.373170",
     "exception": false,
     "start_time": "2023-03-28T18:06:25.364009",
     "status": "completed"
    },
    "tags": []
   },
   "source": [
    "# Defining the initial state array for the evolution m β Ψ and Ψ,x"
   ]
  },
  {
   "cell_type": "code",
   "execution_count": 347,
   "id": "9902ffab",
   "metadata": {
    "execution": {
     "iopub.execute_input": "2023-03-28T19:06:25.389000Z",
     "iopub.status.busy": "2023-03-28T19:06:25.388000Z",
     "iopub.status.idle": "2023-03-28T19:06:32.710000Z",
     "shell.execute_reply": "2023-03-28T19:06:32.710000Z"
    },
    "papermill": {
     "duration": 7.335269,
     "end_time": "2023-03-28T18:06:32.715990",
     "exception": false,
     "start_time": "2023-03-28T18:06:25.380721",
     "status": "completed"
    },
    "tags": []
   },
   "outputs": [],
   "source": [
    "using CSV, Tables\n",
    "#CSV.write(dir*\"/res$res/time_step0.csv\", Tables.table(state_array), writeheader=false)\n",
    "\n",
    "global files=[\"m\", \"beta\", \"psi\", \"deruxxchi\", \"derxxchi\", \"derpsi\", \"xxchi\"]\n",
    "\n",
    "\n",
    "print_muninn(files, 0, state_array[:,1:7],res,\"w\", state_array[:,8])"
   ]
  },
  {
   "cell_type": "code",
   "execution_count": 348,
   "id": "fff1426a",
   "metadata": {
    "execution": {
     "iopub.execute_input": "2023-03-28T19:06:33.154000Z",
     "iopub.status.busy": "2023-03-28T19:06:32.734000Z",
     "iopub.status.idle": "2023-03-28T19:06:33.884000Z",
     "shell.execute_reply": "2023-03-28T19:06:33.884000Z"
    },
    "papermill": {
     "duration": 1.164178,
     "end_time": "2023-03-28T18:06:33.889802",
     "exception": false,
     "start_time": "2023-03-28T18:06:32.725624",
     "status": "completed"
    },
    "tags": []
   },
   "outputs": [],
   "source": [
    "time=0.0\n",
    "criticality=0.0\n",
    "explode=0.0\n",
    "evol_stats = [criticality A sigma r0 time explode run]\n",
    "global monitor_ratio = zeros(L);\n",
    "#CSV.write(dir*\"/parameters.csv\", Tables.table(evol_stats), writeheader=true, header=[\"criticality\", \"A\", \"sigma\", \"r0\", \"time\", \"explode\", \"run\"])"
   ]
  },
  {
   "cell_type": "code",
   "execution_count": 349,
   "id": "9e9abd7d",
   "metadata": {},
   "outputs": [
    {
     "name": "stdout",
     "output_type": "stream",
     "text": [
      "2.0050093906494504\n"
     ]
    }
   ],
   "source": [
    "ginit=speed(initX,state_array[:,1],state_array[:,2])\n",
    "println(update_dt(initX,state_array[:,1],state_array[:,2],dx,ginit)/dt)"
   ]
  },
  {
   "cell_type": "code",
   "execution_count": 350,
   "id": "4e0df300",
   "metadata": {},
   "outputs": [
    {
     "data": {
      "text/plain": [
       "4"
      ]
     },
     "execution_count": 350,
     "metadata": {},
     "output_type": "execute_result"
    }
   ],
   "source": [
    "using Base.Threads\n",
    "Threads.nthreads()"
   ]
  },
  {
   "cell_type": "code",
   "execution_count": 351,
   "id": "27a5bccd",
   "metadata": {},
   "outputs": [
    {
     "data": {
      "text/plain": [
       "0.00025"
      ]
     },
     "execution_count": 351,
     "metadata": {},
     "output_type": "execute_result"
    }
   ],
   "source": [
    "dt=0.001/2^(m-1)*2"
   ]
  },
  {
   "cell_type": "markdown",
   "id": "42e2c73d",
   "metadata": {
    "papermill": {
     "duration": 0.007626,
     "end_time": "2023-03-28T18:06:33.908346",
     "exception": false,
     "start_time": "2023-03-28T18:06:33.900720",
     "status": "completed"
    },
    "tags": []
   },
   "source": [
    " ## Time evolution"
   ]
  },
  {
   "cell_type": "markdown",
   "id": "7da47594",
   "metadata": {
    "papermill": {
     "duration": 0.007471,
     "end_time": "2023-03-28T18:06:33.923805",
     "exception": false,
     "start_time": "2023-03-28T18:06:33.916334",
     "status": "completed"
    },
    "tags": []
   },
   "source": [
    "fixed grid"
   ]
  },
  {
   "cell_type": "code",
   "execution_count": 352,
   "id": "fcb7ae3f",
   "metadata": {
    "execution": {
     "iopub.execute_input": "2023-03-28T19:06:33.940000Z",
     "iopub.status.busy": "2023-03-28T19:06:33.940000Z",
     "iopub.status.idle": "2023-03-28T21:02:19.379000Z",
     "shell.execute_reply": "2023-03-28T21:02:19.378000Z"
    },
    "papermill": {
     "duration": 6945.452732,
     "end_time": "2023-03-28T20:02:19.384591",
     "exception": false,
     "start_time": "2023-03-28T18:06:33.931859",
     "status": "completed"
    },
    "tags": []
   },
   "outputs": [
    {
     "name": "stdout",
     "output_type": "stream",
     "text": [
      "\n",
      "\n",
      "iteration 100 dt is 0.00025, t=0.02500000000000002 speed is 0.49875078125000005, dx/dt=5.0\n",
      "\n",
      "\n",
      "iteration 200 dt is 0.00025, t=0.05000000000000004 speed is 0.49875078125000005, dx/dt=5.0\n",
      "\n",
      "\n",
      "iteration 300 dt is 0.00025, t=0.07500000000000005 speed is 0.49875078125000005, dx/dt=5.0\n",
      "\n",
      "\n",
      "iteration 400 dt is 0.00025, t=0.10000000000000007 speed is 0.49875078125000005, dx/dt=5.0\n",
      "\n",
      "\n",
      "iteration 500 dt is 0.00025, t=0.12500000000000008 speed is 0.49875078125000005, dx/dt=5.0\n",
      "\n",
      "\n",
      "iteration 600 dt is 0.00025, t=0.1500000000000001 speed is 0.49875078125000005, dx/dt=5.0\n",
      "\n",
      "\n",
      "iteration 700 dt is 0.00025, t=0.17500000000000013 speed is 0.49875078125000005, dx/dt=5.0\n",
      "\n",
      "\n",
      "iteration 800 dt is 0.00025, t=0.20000000000000015 speed is 0.49875078125000005, dx/dt=5.0\n",
      "\n",
      "\n",
      "iteration 900 dt is 0.00025, t=0.22500000000000017 speed is 0.49875078125000005, dx/dt=5.0\n",
      "\n",
      "\n",
      "iteration 1000 dt is 0.00025, t=0.25000000000000017 speed is 0.49875078125000005, dx/dt=5.0\n",
      "\n",
      "\n",
      "iteration 1100 dt is 0.00025, t=0.2749999999999974 speed is 0.49875078125000005, dx/dt=5.0\n",
      "\n",
      "\n",
      "iteration 1200 dt is 0.00025, t=0.29999999999999466 speed is 0.49875078125000005, dx/dt=5.0\n",
      "\n",
      "\n",
      "iteration 1300 dt is 0.00025, t=0.3249999999999919 speed is 0.49875078125000005, dx/dt=5.0\n",
      "\n",
      "\n",
      "iteration 1400 dt is 0.00025, t=0.34999999999998915 speed is 0.49875078125000005, dx/dt=5.0\n",
      "\n",
      "\n",
      "iteration 1500 dt is 0.00025, t=0.3749999999999864 speed is 0.49875078125000005, dx/dt=5.0\n",
      "\n",
      "\n",
      "iteration 1600 dt is 0.00025, t=0.39999999999998365 speed is 0.49875078125000005, dx/dt=5.0\n",
      "\n",
      "\n",
      "iteration 1700 dt is 0.00025, t=0.4249999999999809 speed is 0.49875078125000005, dx/dt=5.0\n",
      "\n",
      "\n",
      "iteration 1800 dt is 0.00025, t=0.44999999999997814 speed is 0.49875078125000005, dx/dt=5.0\n",
      "\n",
      "\n",
      "iteration 1900 dt is 0.00025, t=0.4749999999999754 speed is 0.49875078125000005, dx/dt=5.0\n",
      "\n",
      "\n",
      "iteration 2000 dt is 0.00025, t=0.49999999999997263 speed is 0.49875078125000005, dx/dt=5.0\n",
      "\n",
      "\n",
      "iteration 2100 dt is 0.00025, t=0.5249999999999699 speed is 0.49875078125000005, dx/dt=5.0\n",
      "\n",
      "\n",
      "iteration 2200 dt is 0.00025, t=0.5499999999999672 speed is 0.49875078125000005, dx/dt=5.0\n",
      "\n",
      "\n",
      "iteration 2300 dt is 0.00025, t=0.5749999999999644 speed is 0.49875078125000005, dx/dt=5.0\n",
      "\n",
      "\n",
      "iteration 2400 dt is 0.00025, t=0.5999999999999617 speed is 0.49875078125000005, dx/dt=5.0\n",
      "\n",
      "\n",
      "iteration 2500 dt is 0.00025, t=0.6249999999999589 speed is 0.49875078125000005, dx/dt=5.0\n",
      "\n",
      "\n",
      "iteration 2600 dt is 0.00025, t=0.6499999999999562 speed is 0.49875078125000005, dx/dt=5.0\n",
      "\n",
      "\n",
      "iteration 2700 dt is 0.00025, t=0.6749999999999534 speed is 0.49875078125000005, dx/dt=5.0\n",
      "\n",
      "\n",
      "iteration 2800 dt is 0.00025, t=0.6999999999999507 speed is 0.49875078125000005, dx/dt=5.0\n",
      "\n",
      "\n",
      "iteration 2900 dt is 0.00025, t=0.7249999999999479 speed is 0.49875078125000005, dx/dt=5.0\n",
      "\n",
      "\n",
      "iteration 3000 dt is 0.00025, t=0.7499999999999452 speed is 0.49875078125000005, dx/dt=5.0\n",
      "\n",
      "\n",
      "iteration 3100 dt is 0.00025, t=0.7749999999999424 speed is 0.49875078125000005, dx/dt=5.0\n",
      "\n",
      "\n",
      "iteration 3200 dt is 0.00025, t=0.7999999999999396 speed is 0.49875078125000005, dx/dt=5.0\n",
      "\n",
      "\n",
      "iteration 3300 dt is 0.00025, t=0.8249999999999369 speed is 0.49875078125000005, dx/dt=5.0\n",
      "\n",
      "\n",
      "iteration 3400 dt is 0.00025, t=0.8499999999999341 speed is 0.49875078125000005, dx/dt=5.0\n",
      "\n",
      "\n",
      "iteration 3500 dt is 0.00025, t=0.8749999999999314 speed is 0.49875078125000005, dx/dt=5.0\n",
      "\n",
      "\n",
      "iteration 3600 dt is 0.00025, t=0.8999999999999286 speed is 0.49875078125000005, dx/dt=5.0\n",
      "\n",
      "\n",
      "iteration 3700 dt is 0.00025, t=0.9249999999999259 speed is 0.49875078125000005, dx/dt=5.0\n",
      "\n",
      "\n",
      "iteration 3800 dt is 0.00025, t=0.9499999999999231 speed is 0.49875078125000005, dx/dt=5.0\n",
      "\n",
      "\n",
      "iteration 3900 dt is 0.00025, t=0.9749999999999204 speed is 0.49875078125000005, dx/dt=5.0\n",
      "\n",
      "\n",
      "iteration 4000 dt is 0.00025, t=0.9999999999999176 speed is 0.49875078125000005, dx/dt=5.0\n",
      "\n",
      "\n",
      "iteration 4100 dt is 0.00025, t=1.024999999999926 speed is 0.49875078125000005, dx/dt=5.0\n",
      "\n",
      "\n",
      "iteration 4200 dt is 0.00025, t=1.0499999999999343 speed is 0.49875078125000005, dx/dt=5.0\n",
      "\n",
      "\n",
      "iteration 4300 dt is 0.00025, t=1.0749999999999427 speed is 0.49875078125000005, dx/dt=5.0\n",
      "\n",
      "\n",
      "iteration 4400 dt is 0.00025, t=1.099999999999951 speed is 0.49875078125000005, dx/dt=5.0\n",
      "\n",
      "\n",
      "iteration 4500 dt is 0.00025, t=1.1249999999999594 speed is 0.49875078125000005, dx/dt=5.0\n",
      "\n",
      "\n",
      "iteration 4600 dt is 0.00025, t=1.1499999999999677 speed is 0.49875078125000005, dx/dt=5.0\n",
      "\n",
      "\n",
      "iteration 4700 dt is 0.00025, t=1.174999999999976 speed is 0.49875078125000005, dx/dt=5.0\n",
      "\n",
      "\n",
      "iteration 4800 dt is 0.00025, t=1.1999999999999844 speed is 0.49875078125000005, dx/dt=5.0\n",
      "\n",
      "\n",
      "iteration 4900 dt is 0.00025, t=1.2249999999999928 speed is 0.49875078125000005, dx/dt=5.0\n",
      "\n",
      "\n",
      "iteration 5000 dt is 0.00025, t=1.250000000000001 speed is 0.49875078125000005, dx/dt=5.0\n",
      "\n",
      "\n",
      "iteration 5100 dt is 0.00025, t=1.2750000000000095 speed is 0.49875078125000005, dx/dt=5.0\n",
      "\n",
      "\n",
      "iteration 5200 dt is 0.00025, t=1.3000000000000178 speed is 0.49875078125000005, dx/dt=5.0\n",
      "\n",
      "\n",
      "iteration 5300 dt is 0.00025, t=1.3250000000000262 speed is 0.49875078125000005, dx/dt=5.0\n",
      "\n",
      "\n",
      "iteration 5400 dt is 0.00025, t=1.3500000000000345 speed is 0.49875078125000005, dx/dt=5.0\n",
      "\n",
      "\n",
      "iteration 5500 dt is 0.00025, t=1.3750000000000429 speed is 0.49875078125000005, dx/dt=5.0\n",
      "\n",
      "\n",
      "iteration 5600 dt is 0.00025, t=1.4000000000000512 speed is 0.49875078125000005, dx/dt=5.0\n",
      "\n",
      "\n",
      "iteration 5700 dt is 0.00025, t=1.4250000000000596 speed is 0.49875078125000005, dx/dt=5.0\n",
      "\n",
      "\n",
      "iteration 5800 dt is 0.00025, t=1.450000000000068 speed is 0.49875078125000005, dx/dt=5.0\n",
      "\n",
      "\n",
      "iteration 5900 dt is 0.00025, t=1.4750000000000763 speed is 0.49875078125000005, dx/dt=5.0\n",
      "\n",
      "\n",
      "iteration 6000 dt is 0.00025, t=1.5000000000000846 speed is 0.49875078125000005, dx/dt=5.0\n",
      "\n",
      "\n",
      "iteration 6100 dt is 0.00025, t=1.525000000000093 speed is 0.49875078125000005, dx/dt=5.0\n",
      "\n",
      "\n",
      "iteration 6200 dt is 0.00025, t=1.5500000000001013 speed is 0.49875078125000005, dx/dt=5.0\n",
      "\n",
      "\n",
      "iteration 6300 dt is 0.00025, t=1.5750000000001096 speed is 0.49875078125000005, dx/dt=5.0\n",
      "\n",
      "\n",
      "iteration 6400 dt is 0.00025, t=1.600000000000118 speed is 0.49875078125000005, dx/dt=5.0\n",
      "\n",
      "\n",
      "iteration 6500 dt is 0.00025, t=1.6250000000001263 speed is 0.49875078125000005, dx/dt=5.0\n",
      "\n",
      "\n",
      "iteration 6600 dt is 0.00025, t=1.6500000000001347 speed is 0.49875078125000005, dx/dt=5.0\n",
      "\n",
      "\n",
      "iteration 6700 dt is 0.00025, t=1.675000000000143 speed is 0.49875078125000005, dx/dt=5.0\n",
      "\n",
      "\n",
      "iteration 6800 dt is 0.00025, t=1.7000000000001514 speed is 0.49875078125000005, dx/dt=5.0\n",
      "\n",
      "\n",
      "iteration 6900 dt is 0.00025, t=1.7250000000001597 speed is 0.49875078125000005, dx/dt=5.0\n",
      "\n",
      "\n",
      "iteration 7000 dt is 0.00025, t=1.750000000000168 speed is 0.49875078125000005, dx/dt=5.0\n",
      "\n",
      "\n",
      "iteration 7100 dt is 0.00025, t=1.7750000000001764 speed is 0.49875078125000005, dx/dt=5.0\n",
      "\n",
      "\n",
      "iteration 7200 dt is 0.00025, t=1.8000000000001848 speed is 0.49875078125000005, dx/dt=5.0\n",
      "\n",
      "\n",
      "iteration 7300 dt is 0.00025, t=1.8250000000001931 speed is 0.49875078125000005, dx/dt=5.0\n",
      "\n",
      "\n",
      "iteration 7400 dt is 0.00025, t=1.8500000000002015 speed is 0.49875078125000005, dx/dt=5.0\n",
      "\n",
      "\n",
      "iteration 7500 dt is 0.00025, t=1.8750000000002098 speed is 0.49875078125000005, dx/dt=5.0\n",
      "\n",
      "\n",
      "iteration 7600 dt is 0.00025, t=1.9000000000002182 speed is 0.49875078125000005, dx/dt=5.0\n",
      "\n",
      "\n",
      "iteration 7700 dt is 0.00025, t=1.9250000000002265 speed is 0.49875078125000005, dx/dt=5.0\n",
      "\n",
      "\n",
      "iteration 7800 dt is 0.00025, t=1.9500000000002349 speed is 0.49875078125000005, dx/dt=5.0\n",
      "\n",
      "\n",
      "iteration 7900 dt is 0.00025, t=1.9750000000002432 speed is 0.49875078125000005, dx/dt=5.0\n",
      "\n",
      "\n",
      "iteration 8000 dt is 0.00025, t=2.0000000000002514 speed is 0.49875078125000005, dx/dt=5.0\n",
      "\n",
      "\n",
      "iteration 8100 dt is 0.00025, t=2.0250000000002375 speed is 0.49875078125000005, dx/dt=5.0\n",
      "\n",
      "\n",
      "iteration 8200 dt is 0.00025, t=2.0500000000002236 speed is 0.49875078125000005, dx/dt=5.0\n",
      "\n",
      "\n",
      "iteration 8300 dt is 0.00025, t=2.07500000000021 speed is 0.49875078125000005, dx/dt=5.0\n",
      "\n",
      "\n",
      "iteration 8400 dt is 0.00025, t=2.100000000000196 speed is 0.49875078125000005, dx/dt=5.0\n",
      "\n",
      "\n",
      "iteration 8500 dt is 0.00025, t=2.125000000000182 speed is 0.49875078125000005, dx/dt=5.0\n",
      "\n",
      "\n",
      "iteration 8600 dt is 0.00025, t=2.150000000000168 speed is 0.49875078125000005, dx/dt=5.0\n",
      "\n",
      "\n",
      "iteration 8700 dt is 0.00025, t=2.1750000000001544 speed is 0.49875078125000005, dx/dt=5.0\n",
      "\n",
      "\n",
      "iteration 8800 dt is 0.00025, t=2.2000000000001405 speed is 0.49875078125000005, dx/dt=5.0\n",
      "\n",
      "\n",
      "iteration 8900 dt is 0.00025, t=2.2250000000001267 speed is 0.49875078125000005, dx/dt=5.0\n"
     ]
    },
    {
     "name": "stdout",
     "output_type": "stream",
     "text": [
      "\n",
      "\n",
      "iteration 9000 dt is 0.00025, t=2.250000000000113 speed is 0.49875078125000005, dx/dt=5.0\n",
      "\n",
      "\n",
      "iteration 9100 dt is 0.00025, t=2.275000000000099 speed is 0.49875078125000005, dx/dt=5.0\n",
      "\n",
      "\n",
      "iteration 9200 dt is 0.00025, t=2.300000000000085 speed is 0.49875078125000005, dx/dt=5.0\n",
      "\n",
      "\n",
      "iteration 9300 dt is 0.00025, t=2.3250000000000712 speed is 0.49875078125000005, dx/dt=5.0\n",
      "\n",
      "\n",
      "iteration 9400 dt is 0.00025, t=2.3500000000000574 speed is 0.49875078125000005, dx/dt=5.0\n",
      "\n",
      "\n",
      "iteration 9500 dt is 0.00025, t=2.3750000000000435 speed is 0.49875078125000005, dx/dt=5.0\n",
      "\n",
      "\n",
      "iteration 9600 dt is 0.00025, t=2.4000000000000297 speed is 0.49875078125000005, dx/dt=5.0\n",
      "\n",
      "\n",
      "iteration 9700 dt is 0.00025, t=2.425000000000016 speed is 0.49875078125000005, dx/dt=5.0\n",
      "\n",
      "\n",
      "iteration 9800 dt is 0.00025, t=2.450000000000002 speed is 0.49875078125000005, dx/dt=5.0\n",
      "\n",
      "\n",
      "iteration 9900 dt is 0.00025, t=2.474999999999988 speed is 0.49875078125000005, dx/dt=5.0\n",
      "\n",
      "\n",
      "iteration 10000 dt is 0.00025, t=2.4999999999999742 speed is 0.49875078125000005, dx/dt=5.0\n",
      "\n",
      "\n",
      "iteration 10100 dt is 0.00025, t=2.5249999999999604 speed is 0.49875078125000005, dx/dt=5.0\n",
      "\n",
      "\n",
      "iteration 10200 dt is 0.00025, t=2.5499999999999465 speed is 0.49875078125000005, dx/dt=5.0\n",
      "\n",
      "\n",
      "iteration 10300 dt is 0.00025, t=2.5749999999999327 speed is 0.49875078125000005, dx/dt=5.0\n",
      "\n",
      "\n",
      "iteration 10400 dt is 0.00025, t=2.599999999999919 speed is 0.49875078125000005, dx/dt=5.0\n",
      "\n",
      "\n",
      "iteration 10500 dt is 0.00025, t=2.624999999999905 speed is 0.49875078125000005, dx/dt=5.0\n",
      "\n",
      "\n",
      "iteration 10600 dt is 0.00025, t=2.649999999999891 speed is 0.49875078125000005, dx/dt=5.0\n",
      "\n",
      "\n",
      "iteration 10700 dt is 0.00025, t=2.6749999999998773 speed is 0.49875078125000005, dx/dt=5.0\n",
      "\n",
      "\n",
      "iteration 10800 dt is 0.00025, t=2.6999999999998634 speed is 0.49875078125000005, dx/dt=5.0\n",
      "\n",
      "\n",
      "iteration 10900 dt is 0.00025, t=2.7249999999998495 speed is 0.49875078125000005, dx/dt=5.0\n",
      "\n",
      "\n",
      "iteration 11000 dt is 0.00025, t=2.7499999999998357 speed is 0.49875078125000005, dx/dt=5.0\n",
      "\n",
      "\n",
      "iteration 11100 dt is 0.00025, t=2.774999999999822 speed is 0.49875078125000005, dx/dt=5.0\n",
      "\n",
      "\n",
      "iteration 11200 dt is 0.00025, t=2.799999999999808 speed is 0.49875078125000005, dx/dt=5.0\n",
      "\n",
      "\n",
      "iteration 11300 dt is 0.00025, t=2.824999999999794 speed is 0.49875078125000005, dx/dt=5.0\n",
      "\n",
      "\n",
      "iteration 11400 dt is 0.00025, t=2.8499999999997803 speed is 0.49875078125000005, dx/dt=5.0\n",
      "\n",
      "\n",
      "iteration 11500 dt is 0.00025, t=2.8749999999997664 speed is 0.49875078125000005, dx/dt=5.0\n",
      "\n",
      "\n",
      "iteration 11600 dt is 0.00025, t=2.8999999999997526 speed is 0.49875078125000005, dx/dt=5.0\n",
      "\n",
      "\n",
      "iteration 11700 dt is 0.00025, t=2.9249999999997387 speed is 0.49875078125000005, dx/dt=5.0\n",
      "\n",
      "\n",
      "iteration 11800 dt is 0.00025, t=2.949999999999725 speed is 0.49875078125000005, dx/dt=5.0\n",
      "\n",
      "\n",
      "iteration 11900 dt is 0.00025, t=2.974999999999711 speed is 0.49875078125000005, dx/dt=5.0\n",
      "\n",
      "\n",
      "iteration 12000 dt is 0.00025, t=2.999999999999697 speed is 0.49875078125000005, dx/dt=5.0\n"
     ]
    }
   ],
   "source": [
    "finaltime=3\n",
    "evol_stats, T_interp = timeevolution(state_array,finaltime,run);\n",
    "#CSV.write(dir*\"/timearray$res.csv\", Tables.table(T_interp), writeheader=false);\n",
    "#CSV.write(dir*\"/parameters.csv\", Tables.table(evol_stats), writeheader=false);"
   ]
  },
  {
   "cell_type": "code",
   "execution_count": null,
   "id": "ef57be5a",
   "metadata": {},
   "outputs": [],
   "source": []
  },
  {
   "cell_type": "code",
   "execution_count": null,
   "id": "fa24f38b",
   "metadata": {},
   "outputs": [],
   "source": []
  },
  {
   "cell_type": "code",
   "execution_count": null,
   "id": "26374227",
   "metadata": {},
   "outputs": [],
   "source": []
  },
  {
   "cell_type": "code",
   "execution_count": null,
   "id": "b45c67a8",
   "metadata": {},
   "outputs": [],
   "source": []
  }
 ],
 "metadata": {
  "@webio": {
   "lastCommId": null,
   "lastKernelId": null
  },
  "kernelspec": {
   "display_name": "Julia 1.8.0",
   "language": "julia",
   "name": "julia-1.8"
  },
  "language_info": {
   "file_extension": ".jl",
   "mimetype": "application/julia",
   "name": "julia",
   "version": "1.8.0"
  },
  "papermill": {
   "default_parameters": {},
   "duration": 7025.507115,
   "end_time": "2023-03-28T20:03:06.430756",
   "environment_variables": {},
   "exception": null,
   "input_path": "Evolution_ScalarField.ipynb",
   "output_path": "Evolution_ScalarField.ipynb",
   "parameters": {
    "A": 0.001,
    "m": 3
   },
   "start_time": "2023-03-28T18:06:00.923641",
   "version": "2.4.0"
  }
 },
 "nbformat": 4,
 "nbformat_minor": 5
}
