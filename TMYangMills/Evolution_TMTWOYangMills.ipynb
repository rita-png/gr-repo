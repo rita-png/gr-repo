{
 "cells": [
  {
   "cell_type": "markdown",
   "id": "d88601a8",
   "metadata": {
    "papermill": {
     "duration": 0.010813,
     "end_time": "2023-03-28T18:06:09.878411",
     "exception": false,
     "start_time": "2023-03-28T18:06:09.867598",
     "status": "completed"
    },
    "tags": []
   },
   "source": [
    "# Evolution of Einstein's equations"
   ]
  },
  {
   "cell_type": "markdown",
   "id": "03c607c7",
   "metadata": {
    "papermill": {
     "duration": 0.006777,
     "end_time": "2023-03-28T18:06:09.893152",
     "exception": false,
     "start_time": "2023-03-28T18:06:09.886375",
     "status": "completed"
    },
    "tags": []
   },
   "source": [
    "# Initial data , setting length of the domain and discretization\n"
   ]
  },
  {
   "cell_type": "markdown",
   "id": "43aebde7",
   "metadata": {
    "execution": {
     "iopub.execute_input": "2023-03-28T19:06:10.907000Z",
     "iopub.status.busy": "2023-03-28T19:06:09.907000Z",
     "iopub.status.idle": "2023-03-28T19:06:12.147000Z",
     "shell.execute_reply": "2023-03-28T19:06:12.110000Z"
    },
    "papermill": {
     "duration": 2.251282,
     "end_time": "2023-03-28T18:06:12.151193",
     "exception": false,
     "start_time": "2023-03-28T18:06:09.899911",
     "status": "completed"
    },
    "tags": [
     "injected-parameters"
    ]
   },
   "source": [
    "# Parameters"
   ]
  },
  {
   "cell_type": "code",
   "execution_count": 228,
   "id": "a28c43b6",
   "metadata": {},
   "outputs": [
    {
     "data": {
      "text/plain": [
       "1"
      ]
     },
     "execution_count": 228,
     "metadata": {},
     "output_type": "execute_result"
    }
   ],
   "source": [
    "m=3\n",
    "p = 0.01#0.4\n",
    "q = 1#1.0#0.1#0.1#0.01#0.9#0.01#0.5 #Pure SF is q=0\n",
    "run = 1"
   ]
  },
  {
   "cell_type": "markdown",
   "id": "b3b8c463",
   "metadata": {},
   "source": [
    "Choose your grid"
   ]
  },
  {
   "cell_type": "code",
   "execution_count": 229,
   "id": "809ea402",
   "metadata": {},
   "outputs": [
    {
     "data": {
      "text/plain": [
       "false"
      ]
     },
     "execution_count": 229,
     "metadata": {},
     "output_type": "execute_result"
    }
   ],
   "source": [
    "global compactified=false\n",
    "global loggrid=false\n",
    "global bisection=false\n",
    "global zeroformat=false\n",
    "global twod=true\n",
    "\n",
    "global source=false"
   ]
  },
  {
   "cell_type": "code",
   "execution_count": 230,
   "id": "73b14643",
   "metadata": {},
   "outputs": [
    {
     "data": {
      "text/plain": [
       "compactify (generic function with 1 method)"
      ]
     },
     "execution_count": 230,
     "metadata": {},
     "output_type": "execute_result"
    }
   ],
   "source": [
    "function compactify(r)\n",
    "    x=r/(1+r)\n",
    "    return x\n",
    "end"
   ]
  },
  {
   "cell_type": "code",
   "execution_count": 231,
   "id": "80a113e0",
   "metadata": {},
   "outputs": [],
   "source": [
    "using Quadmath, Printf\n",
    "\n",
    "res=m;\n",
    "N=2.0^m*200.0/2.0\n",
    "\n",
    "if compactified==true\n",
    "    Xf=1.0\n",
    "else\n",
    "    Xf=2.0\n",
    "end\n",
    "\n",
    "dx=Xf/N\n",
    "if loggrid==false\n",
    "    dt=0.5*round(dx,digits=10)\n",
    "else\n",
    "    dt=0.1*round(dx,digits=10)\n",
    "end\n",
    "Nt=N\n",
    "Tf=Nt*dt;"
   ]
  },
  {
   "cell_type": "code",
   "execution_count": 232,
   "id": "4f752d54",
   "metadata": {
    "execution": {
     "iopub.execute_input": "2023-03-28T19:06:12.356000Z",
     "iopub.status.busy": "2023-03-28T19:06:12.356000Z",
     "iopub.status.idle": "2023-03-28T19:06:12.364000Z",
     "shell.execute_reply": "2023-03-28T19:06:12.364000Z"
    },
    "papermill": {
     "duration": 0.020815,
     "end_time": "2023-03-28T18:06:12.368761",
     "exception": false,
     "start_time": "2023-03-28T18:06:12.347946",
     "status": "completed"
    },
    "tags": []
   },
   "outputs": [
    {
     "name": "stdout",
     "output_type": "stream",
     "text": [
      "800.0"
     ]
    }
   ],
   "source": [
    "print(N)"
   ]
  },
  {
   "cell_type": "code",
   "execution_count": 233,
   "id": "78fb78a5",
   "metadata": {
    "execution": {
     "iopub.execute_input": "2023-03-28T19:06:12.419000Z",
     "iopub.status.busy": "2023-03-28T19:06:12.419000Z",
     "iopub.status.idle": "2023-03-28T19:06:13.308000Z",
     "shell.execute_reply": "2023-03-28T19:06:13.308000Z"
    },
    "papermill": {
     "duration": 0.90283,
     "end_time": "2023-03-28T18:06:13.314381",
     "exception": false,
     "start_time": "2023-03-28T18:06:12.411551",
     "status": "completed"
    },
    "tags": []
   },
   "outputs": [
    {
     "data": {
      "text/plain": [
       "\"/home/rita13santos/Desktop/MSc Thesis/Git/TMYangMills/DATA\""
      ]
     },
     "execution_count": 233,
     "metadata": {},
     "output_type": "execute_result"
    }
   ],
   "source": [
    "global dir = \"/home/rita13santos/Desktop/MSc Thesis/Git/TMYangMills/DATA\""
   ]
  },
  {
   "cell_type": "markdown",
   "id": "e2dd4335",
   "metadata": {
    "papermill": {
     "duration": 0.007006,
     "end_time": "2023-03-28T18:06:13.351329",
     "exception": false,
     "start_time": "2023-03-28T18:06:13.344323",
     "status": "completed"
    },
    "tags": []
   },
   "source": [
    "# Grid"
   ]
  },
  {
   "cell_type": "code",
   "execution_count": 234,
   "id": "bc5288f8",
   "metadata": {
    "execution": {
     "iopub.execute_input": "2023-03-28T19:06:13.636000Z",
     "iopub.status.busy": "2023-03-28T19:06:13.636000Z",
     "iopub.status.idle": "2023-03-28T19:06:14.762000Z",
     "shell.execute_reply": "2023-03-28T19:06:14.762000Z"
    },
    "papermill": {
     "duration": 1.137394,
     "end_time": "2023-03-28T18:06:14.765909",
     "exception": false,
     "start_time": "2023-03-28T18:06:13.628515",
     "status": "completed"
    },
    "tags": []
   },
   "outputs": [],
   "source": [
    "using Printf\n",
    "include(\"./TMYangMillsTWO.jl\");"
   ]
  },
  {
   "cell_type": "code",
   "execution_count": 235,
   "id": "de24fea3",
   "metadata": {
    "execution": {
     "iopub.execute_input": "2023-03-28T19:06:13.366000Z",
     "iopub.status.busy": "2023-03-28T19:06:13.366000Z",
     "iopub.status.idle": "2023-03-28T19:06:13.571000Z",
     "shell.execute_reply": "2023-03-28T19:06:13.571000Z"
    },
    "papermill": {
     "duration": 0.216104,
     "end_time": "2023-03-28T18:06:13.574666",
     "exception": false,
     "start_time": "2023-03-28T18:06:13.358562",
     "status": "completed"
    },
    "tags": []
   },
   "outputs": [
    {
     "name": "stdout",
     "output_type": "stream",
     "text": [
      "step size is  0.0025\n",
      "the time step is 0.00125\n"
     ]
    }
   ],
   "source": [
    "ori=0.0#Float128(0.0)#0.0;\n",
    "initX1 = nothing\n",
    "N=int(N)\n",
    "initX1=range(ori, stop=Xf, step=dx);\n",
    "initX = range(round(ori-3.0*dx,digits=10), stop=Xf+3.0*dx, step=dx)\n",
    "\n",
    "L=length(initX);\n",
    "println(\"step size is  \", dx)\n",
    "println(\"the time step is \", dt)\n",
    "\n",
    "if loggrid==true\n",
    "    global originalX=initX\n",
    "    xtilde=gridfunc(initX1)\n",
    "    initX1=xtilde\n",
    "    initX=collect(initX)\n",
    "    initX[4:L-3]=xtilde\n",
    "end;"
   ]
  },
  {
   "cell_type": "markdown",
   "id": "80ab1480",
   "metadata": {
    "papermill": {
     "duration": 0.007525,
     "end_time": "2023-03-28T18:06:14.783937",
     "exception": false,
     "start_time": "2023-03-28T18:06:14.776412",
     "status": "completed"
    },
    "tags": []
   },
   "source": [
    "# Initial data of m β Ψ and Ψ,x"
   ]
  },
  {
   "cell_type": "code",
   "execution_count": 236,
   "id": "d0af654c",
   "metadata": {
    "execution": {
     "iopub.execute_input": "2023-03-28T19:06:14.799000Z",
     "iopub.status.busy": "2023-03-28T19:06:14.799000Z",
     "iopub.status.idle": "2023-03-28T19:06:22.269000Z",
     "shell.execute_reply": "2023-03-28T19:06:22.269000Z"
    },
    "papermill": {
     "duration": 7.48258,
     "end_time": "2023-03-28T18:06:22.273970",
     "exception": false,
     "start_time": "2023-03-28T18:06:14.791390",
     "status": "completed"
    },
    "tags": []
   },
   "outputs": [],
   "source": [
    "using Dierckx\n",
    "\n",
    "\n",
    "####\n",
    "\n",
    "initm=zeros(L)\n",
    "initbeta=zeros(L)\n",
    "initpsi=zeros(L)\n",
    "initpi=zeros(L)\n",
    "initderxxchi=zeros(L)\n",
    "initderpsi=zeros(L)\n",
    "initxxchi=zeros(L)\n",
    "\n",
    "#state array is m beta psi xxchi,u xxchi,rORx psi,r xxchi r\n",
    "state_array=[initm initbeta initpsi initpi initderxxchi initderpsi initxxchi initX];\n",
    "#attention:  in noncompactified code derxchi is (xchi),r. in compactified code derxchi is (xchi),x\n",
    "\n",
    "\n",
    "#PSI,R\n",
    "A=0.075*p*(1−q)\n",
    "r0=0.2\n",
    "sigma=0.1\n",
    "\n",
    "initderpsi[4:L-3] = init_derpsi(initX1,r0,sigma,A)\n",
    "\n",
    "state_array[:,6] = initderpsi\n",
    "state_array=ghost(state_array)\n",
    "\n",
    "#XCHI\n",
    "A=0.12\n",
    "r0=0.3\n",
    "sigma=0.07\n",
    "\n",
    "initxxchi[4:L-3] = init_xxchi(initX1,r0,sigma,A)\n",
    "\n",
    "state_array[:,7] = initxxchi\n",
    "\n",
    "####\n",
    "#PSI FROM PSI,R, CHI,R FROM CHI\n",
    "state_array[4:L-3,5]=Der_arrayLOP(state_array,7,initX)[4:L-3]#derivative(xchi_func, initX1; nu=1)#Der_array(state_array,7,initX)[4:L-3]\n",
    "\n",
    "\n",
    "aux=Der_arrayLOP(state_array,5,initX)\n",
    "\n",
    "\n",
    "# update interpolation of psi,x\n",
    "derxxchi_func = Spline1D(initX[4:L-3], state_array[4:L-3,5],  k=4);\n",
    "derpsi_func = Spline1D(initX[4:L-3], state_array[4:L-3,6],  k=4);\n",
    "xxchi_func = Spline1D(initX[4:L-3], state_array[4:L-3,7],  k=4);\n",
    "derrxxchi_func = Spline1D(initX[4:L-3], aux[4:L-3], k=4);\n",
    "\n",
    "funcs=[derxxchi_func derpsi_func xxchi_func derrxxchi_func];"
   ]
  },
  {
   "cell_type": "code",
   "execution_count": null,
   "id": "8000577e",
   "metadata": {},
   "outputs": [],
   "source": []
  },
  {
   "cell_type": "code",
   "execution_count": 237,
   "id": "78cfbd6e",
   "metadata": {},
   "outputs": [
    {
     "data": {
      "text/plain": [
       "801×4 Matrix{Float64}:\n",
       " 0.0  0.0  0.0   0.0\n",
       " 0.0  0.0  0.0   8.42696e-13\n",
       " 0.0  0.0  0.0   5.38316e-12\n",
       " 0.0  0.0  0.0   1.72478e-11\n",
       " 0.0  0.0  0.0   4.0912e-11\n",
       " 0.0  0.0  0.0   8.33103e-11\n",
       " 0.0  0.0  0.0   1.54343e-10\n",
       " 0.0  0.0  0.0   2.68117e-10\n",
       " 0.0  0.0  0.0   4.44563e-10\n",
       " 0.0  0.0  0.0   7.11526e-10\n",
       " 0.0  0.0  0.0   1.1075e-9\n",
       " 0.0  0.0  0.0   1.68517e-9\n",
       " 0.0  0.0  0.0   2.51591e-9\n",
       " ⋮              \n",
       " 0.0  0.0  0.0  -0.015062\n",
       " 0.0  0.0  0.0  -0.015062\n",
       " 0.0  0.0  0.0  -0.015062\n",
       " 0.0  0.0  0.0  -0.015062\n",
       " 0.0  0.0  0.0  -0.015062\n",
       " 0.0  0.0  0.0  -0.015062\n",
       " 0.0  0.0  0.0  -0.015062\n",
       " 0.0  0.0  0.0  -0.015062\n",
       " 0.0  0.0  0.0  -0.015062\n",
       " 0.0  0.0  0.0  -0.015062\n",
       " 0.0  0.0  0.0  -0.015062\n",
       " 0.0  0.0  0.0  -0.015062"
      ]
     },
     "execution_count": 237,
     "metadata": {},
     "output_type": "execute_result"
    }
   ],
   "source": [
    "y0=[0.0 0.0 0.0 0.0]\n",
    "\n",
    "if twod==true\n",
    "        state_array[4:L-3,1:4] = twod_n_rk4wrapper(RHS,y0,initX[4:L-3],0,funcs,state_array[:,:]);\n",
    "    else\n",
    "        state_array[4:L-3,1:4] = n_rk4wrapper(RHS,y0,initX[4:L-3],0,funcs,state_array[:,:]);\n",
    "end\n",
    "\n",
    "#state_array = ghost(state_array);"
   ]
  },
  {
   "cell_type": "code",
   "execution_count": 238,
   "id": "14e14e45",
   "metadata": {},
   "outputs": [
    {
     "data": {
      "image/svg+xml": [
       "<?xml version=\"1.0\" encoding=\"utf-8\"?>\n",
       "<svg xmlns=\"http://www.w3.org/2000/svg\" xmlns:xlink=\"http://www.w3.org/1999/xlink\" width=\"600\" height=\"400\" viewBox=\"0 0 2400 1600\">\n",
       "<defs>\n",
       "  <clipPath id=\"clip660\">\n",
       "    <rect x=\"0\" y=\"0\" width=\"2400\" height=\"1600\"/>\n",
       "  </clipPath>\n",
       "</defs>\n",
       "<path clip-path=\"url(#clip660)\" d=\"M0 1600 L2400 1600 L2400 0 L0 0  Z\" fill=\"#ffffff\" fill-rule=\"evenodd\" fill-opacity=\"1\"/>\n",
       "<defs>\n",
       "  <clipPath id=\"clip661\">\n",
       "    <rect x=\"480\" y=\"0\" width=\"1681\" height=\"1600\"/>\n",
       "  </clipPath>\n",
       "</defs>\n",
       "<path clip-path=\"url(#clip660)\" d=\"M254.26 1423.18 L2352.76 1423.18 L2352.76 123.472 L254.26 123.472  Z\" fill=\"#ffffff\" fill-rule=\"evenodd\" fill-opacity=\"1\"/>\n",
       "<defs>\n",
       "  <clipPath id=\"clip662\">\n",
       "    <rect x=\"254\" y=\"123\" width=\"2099\" height=\"1301\"/>\n",
       "  </clipPath>\n",
       "</defs>\n",
       "<polyline clip-path=\"url(#clip662)\" style=\"stroke:#000000; stroke-linecap:round; stroke-linejoin:round; stroke-width:2; stroke-opacity:0.1; fill:none\" points=\"254.26,1423.18 254.26,123.472 \"/>\n",
       "<polyline clip-path=\"url(#clip662)\" style=\"stroke:#000000; stroke-linecap:round; stroke-linejoin:round; stroke-width:2; stroke-opacity:0.1; fill:none\" points=\"673.959,1423.18 673.959,123.472 \"/>\n",
       "<polyline clip-path=\"url(#clip662)\" style=\"stroke:#000000; stroke-linecap:round; stroke-linejoin:round; stroke-width:2; stroke-opacity:0.1; fill:none\" points=\"1093.66,1423.18 1093.66,123.472 \"/>\n",
       "<polyline clip-path=\"url(#clip662)\" style=\"stroke:#000000; stroke-linecap:round; stroke-linejoin:round; stroke-width:2; stroke-opacity:0.1; fill:none\" points=\"1513.36,1423.18 1513.36,123.472 \"/>\n",
       "<polyline clip-path=\"url(#clip662)\" style=\"stroke:#000000; stroke-linecap:round; stroke-linejoin:round; stroke-width:2; stroke-opacity:0.1; fill:none\" points=\"1933.06,1423.18 1933.06,123.472 \"/>\n",
       "<polyline clip-path=\"url(#clip662)\" style=\"stroke:#000000; stroke-linecap:round; stroke-linejoin:round; stroke-width:2; stroke-opacity:0.1; fill:none\" points=\"2352.76,1423.18 2352.76,123.472 \"/>\n",
       "<polyline clip-path=\"url(#clip660)\" style=\"stroke:#000000; stroke-linecap:round; stroke-linejoin:round; stroke-width:4; stroke-opacity:1; fill:none\" points=\"254.26,1423.18 2352.76,1423.18 \"/>\n",
       "<polyline clip-path=\"url(#clip660)\" style=\"stroke:#000000; stroke-linecap:round; stroke-linejoin:round; stroke-width:4; stroke-opacity:1; fill:none\" points=\"254.26,1423.18 254.26,1404.28 \"/>\n",
       "<polyline clip-path=\"url(#clip660)\" style=\"stroke:#000000; stroke-linecap:round; stroke-linejoin:round; stroke-width:4; stroke-opacity:1; fill:none\" points=\"673.959,1423.18 673.959,1404.28 \"/>\n",
       "<polyline clip-path=\"url(#clip660)\" style=\"stroke:#000000; stroke-linecap:round; stroke-linejoin:round; stroke-width:4; stroke-opacity:1; fill:none\" points=\"1093.66,1423.18 1093.66,1404.28 \"/>\n",
       "<polyline clip-path=\"url(#clip660)\" style=\"stroke:#000000; stroke-linecap:round; stroke-linejoin:round; stroke-width:4; stroke-opacity:1; fill:none\" points=\"1513.36,1423.18 1513.36,1404.28 \"/>\n",
       "<polyline clip-path=\"url(#clip660)\" style=\"stroke:#000000; stroke-linecap:round; stroke-linejoin:round; stroke-width:4; stroke-opacity:1; fill:none\" points=\"1933.06,1423.18 1933.06,1404.28 \"/>\n",
       "<polyline clip-path=\"url(#clip660)\" style=\"stroke:#000000; stroke-linecap:round; stroke-linejoin:round; stroke-width:4; stroke-opacity:1; fill:none\" points=\"2352.76,1423.18 2352.76,1404.28 \"/>\n",
       "<path clip-path=\"url(#clip660)\" d=\"M231.644 1454.1 Q228.033 1454.1 226.204 1457.66 Q224.399 1461.2 224.399 1468.33 Q224.399 1475.44 226.204 1479.01 Q228.033 1482.55 231.644 1482.55 Q235.278 1482.55 237.084 1479.01 Q238.913 1475.44 238.913 1468.33 Q238.913 1461.2 237.084 1457.66 Q235.278 1454.1 231.644 1454.1 M231.644 1450.39 Q237.454 1450.39 240.51 1455 Q243.589 1459.58 243.589 1468.33 Q243.589 1477.06 240.51 1481.67 Q237.454 1486.25 231.644 1486.25 Q225.834 1486.25 222.755 1481.67 Q219.7 1477.06 219.7 1468.33 Q219.7 1459.58 222.755 1455 Q225.834 1450.39 231.644 1450.39 Z\" fill=\"#000000\" fill-rule=\"evenodd\" fill-opacity=\"1\" /><path clip-path=\"url(#clip660)\" d=\"M251.806 1479.7 L256.69 1479.7 L256.69 1485.58 L251.806 1485.58 L251.806 1479.7 Z\" fill=\"#000000\" fill-rule=\"evenodd\" fill-opacity=\"1\" /><path clip-path=\"url(#clip660)\" d=\"M276.875 1454.1 Q273.264 1454.1 271.436 1457.66 Q269.63 1461.2 269.63 1468.33 Q269.63 1475.44 271.436 1479.01 Q273.264 1482.55 276.875 1482.55 Q280.51 1482.55 282.315 1479.01 Q284.144 1475.44 284.144 1468.33 Q284.144 1461.2 282.315 1457.66 Q280.51 1454.1 276.875 1454.1 M276.875 1450.39 Q282.686 1450.39 285.741 1455 Q288.82 1459.58 288.82 1468.33 Q288.82 1477.06 285.741 1481.67 Q282.686 1486.25 276.875 1486.25 Q271.065 1486.25 267.987 1481.67 Q264.931 1477.06 264.931 1468.33 Q264.931 1459.58 267.987 1455 Q271.065 1450.39 276.875 1450.39 Z\" fill=\"#000000\" fill-rule=\"evenodd\" fill-opacity=\"1\" /><path clip-path=\"url(#clip660)\" d=\"M652.142 1454.1 Q648.531 1454.1 646.702 1457.66 Q644.897 1461.2 644.897 1468.33 Q644.897 1475.44 646.702 1479.01 Q648.531 1482.55 652.142 1482.55 Q655.776 1482.55 657.582 1479.01 Q659.41 1475.44 659.41 1468.33 Q659.41 1461.2 657.582 1457.66 Q655.776 1454.1 652.142 1454.1 M652.142 1450.39 Q657.952 1450.39 661.008 1455 Q664.086 1459.58 664.086 1468.33 Q664.086 1477.06 661.008 1481.67 Q657.952 1486.25 652.142 1486.25 Q646.332 1486.25 643.253 1481.67 Q640.198 1477.06 640.198 1468.33 Q640.198 1459.58 643.253 1455 Q646.332 1450.39 652.142 1450.39 Z\" fill=\"#000000\" fill-rule=\"evenodd\" fill-opacity=\"1\" /><path clip-path=\"url(#clip660)\" d=\"M672.304 1479.7 L677.188 1479.7 L677.188 1485.58 L672.304 1485.58 L672.304 1479.7 Z\" fill=\"#000000\" fill-rule=\"evenodd\" fill-opacity=\"1\" /><path clip-path=\"url(#clip660)\" d=\"M691.401 1481.64 L707.72 1481.64 L707.72 1485.58 L685.776 1485.58 L685.776 1481.64 Q688.438 1478.89 693.021 1474.26 Q697.628 1469.61 698.808 1468.27 Q701.054 1465.74 701.933 1464.01 Q702.836 1462.25 702.836 1460.56 Q702.836 1457.8 700.892 1456.07 Q698.97 1454.33 695.869 1454.33 Q693.67 1454.33 691.216 1455.09 Q688.785 1455.86 686.008 1457.41 L686.008 1452.69 Q688.832 1451.55 691.285 1450.97 Q693.739 1450.39 695.776 1450.39 Q701.146 1450.39 704.341 1453.08 Q707.535 1455.77 707.535 1460.26 Q707.535 1462.39 706.725 1464.31 Q705.938 1466.2 703.832 1468.8 Q703.253 1469.47 700.151 1472.69 Q697.049 1475.88 691.401 1481.64 Z\" fill=\"#000000\" fill-rule=\"evenodd\" fill-opacity=\"1\" /><path clip-path=\"url(#clip660)\" d=\"M1070.8 1454.1 Q1067.19 1454.1 1065.36 1457.66 Q1063.55 1461.2 1063.55 1468.33 Q1063.55 1475.44 1065.36 1479.01 Q1067.19 1482.55 1070.8 1482.55 Q1074.43 1482.55 1076.24 1479.01 Q1078.07 1475.44 1078.07 1468.33 Q1078.07 1461.2 1076.24 1457.66 Q1074.43 1454.1 1070.8 1454.1 M1070.8 1450.39 Q1076.61 1450.39 1079.67 1455 Q1082.74 1459.58 1082.74 1468.33 Q1082.74 1477.06 1079.67 1481.67 Q1076.61 1486.25 1070.8 1486.25 Q1064.99 1486.25 1061.91 1481.67 Q1058.86 1477.06 1058.86 1468.33 Q1058.86 1459.58 1061.91 1455 Q1064.99 1450.39 1070.8 1450.39 Z\" fill=\"#000000\" fill-rule=\"evenodd\" fill-opacity=\"1\" /><path clip-path=\"url(#clip660)\" d=\"M1090.96 1479.7 L1095.85 1479.7 L1095.85 1485.58 L1090.96 1485.58 L1090.96 1479.7 Z\" fill=\"#000000\" fill-rule=\"evenodd\" fill-opacity=\"1\" /><path clip-path=\"url(#clip660)\" d=\"M1118.88 1455.09 L1107.07 1473.54 L1118.88 1473.54 L1118.88 1455.09 M1117.65 1451.02 L1123.53 1451.02 L1123.53 1473.54 L1128.46 1473.54 L1128.46 1477.43 L1123.53 1477.43 L1123.53 1485.58 L1118.88 1485.58 L1118.88 1477.43 L1103.28 1477.43 L1103.28 1472.92 L1117.65 1451.02 Z\" fill=\"#000000\" fill-rule=\"evenodd\" fill-opacity=\"1\" /><path clip-path=\"url(#clip660)\" d=\"M1490.66 1454.1 Q1487.05 1454.1 1485.22 1457.66 Q1483.42 1461.2 1483.42 1468.33 Q1483.42 1475.44 1485.22 1479.01 Q1487.05 1482.55 1490.66 1482.55 Q1494.3 1482.55 1496.1 1479.01 Q1497.93 1475.44 1497.93 1468.33 Q1497.93 1461.2 1496.1 1457.66 Q1494.3 1454.1 1490.66 1454.1 M1490.66 1450.39 Q1496.47 1450.39 1499.53 1455 Q1502.61 1459.58 1502.61 1468.33 Q1502.61 1477.06 1499.53 1481.67 Q1496.47 1486.25 1490.66 1486.25 Q1484.85 1486.25 1481.77 1481.67 Q1478.72 1477.06 1478.72 1468.33 Q1478.72 1459.58 1481.77 1455 Q1484.85 1450.39 1490.66 1450.39 Z\" fill=\"#000000\" fill-rule=\"evenodd\" fill-opacity=\"1\" /><path clip-path=\"url(#clip660)\" d=\"M1510.82 1479.7 L1515.71 1479.7 L1515.71 1485.58 L1510.82 1485.58 L1510.82 1479.7 Z\" fill=\"#000000\" fill-rule=\"evenodd\" fill-opacity=\"1\" /><path clip-path=\"url(#clip660)\" d=\"M1536.47 1466.44 Q1533.32 1466.44 1531.47 1468.59 Q1529.64 1470.74 1529.64 1474.49 Q1529.64 1478.22 1531.47 1480.39 Q1533.32 1482.55 1536.47 1482.55 Q1539.62 1482.55 1541.45 1480.39 Q1543.3 1478.22 1543.3 1474.49 Q1543.3 1470.74 1541.45 1468.59 Q1539.62 1466.44 1536.47 1466.44 M1545.75 1451.78 L1545.75 1456.04 Q1543.99 1455.21 1542.19 1454.77 Q1540.41 1454.33 1538.65 1454.33 Q1534.02 1454.33 1531.56 1457.45 Q1529.13 1460.58 1528.79 1466.9 Q1530.15 1464.89 1532.21 1463.82 Q1534.27 1462.73 1536.75 1462.73 Q1541.96 1462.73 1544.97 1465.9 Q1548 1469.05 1548 1474.49 Q1548 1479.82 1544.85 1483.03 Q1541.7 1486.25 1536.47 1486.25 Q1530.48 1486.25 1527.3 1481.67 Q1524.13 1477.06 1524.13 1468.33 Q1524.13 1460.14 1528.02 1455.28 Q1531.91 1450.39 1538.46 1450.39 Q1540.22 1450.39 1542 1450.74 Q1543.81 1451.09 1545.75 1451.78 Z\" fill=\"#000000\" fill-rule=\"evenodd\" fill-opacity=\"1\" /><path clip-path=\"url(#clip660)\" d=\"M1910.49 1454.1 Q1906.88 1454.1 1905.05 1457.66 Q1903.24 1461.2 1903.24 1468.33 Q1903.24 1475.44 1905.05 1479.01 Q1906.88 1482.55 1910.49 1482.55 Q1914.12 1482.55 1915.93 1479.01 Q1917.76 1475.44 1917.76 1468.33 Q1917.76 1461.2 1915.93 1457.66 Q1914.12 1454.1 1910.49 1454.1 M1910.49 1450.39 Q1916.3 1450.39 1919.35 1455 Q1922.43 1459.58 1922.43 1468.33 Q1922.43 1477.06 1919.35 1481.67 Q1916.3 1486.25 1910.49 1486.25 Q1904.68 1486.25 1901.6 1481.67 Q1898.54 1477.06 1898.54 1468.33 Q1898.54 1459.58 1901.6 1455 Q1904.68 1450.39 1910.49 1450.39 Z\" fill=\"#000000\" fill-rule=\"evenodd\" fill-opacity=\"1\" /><path clip-path=\"url(#clip660)\" d=\"M1930.65 1479.7 L1935.53 1479.7 L1935.53 1485.58 L1930.65 1485.58 L1930.65 1479.7 Z\" fill=\"#000000\" fill-rule=\"evenodd\" fill-opacity=\"1\" /><path clip-path=\"url(#clip660)\" d=\"M1955.72 1469.17 Q1952.39 1469.17 1950.46 1470.95 Q1948.57 1472.73 1948.57 1475.86 Q1948.57 1478.98 1950.46 1480.77 Q1952.39 1482.55 1955.72 1482.55 Q1959.05 1482.55 1960.97 1480.77 Q1962.89 1478.96 1962.89 1475.86 Q1962.89 1472.73 1960.97 1470.95 Q1959.08 1469.17 1955.72 1469.17 M1951.04 1467.18 Q1948.03 1466.44 1946.34 1464.38 Q1944.68 1462.32 1944.68 1459.35 Q1944.68 1455.21 1947.62 1452.8 Q1950.58 1450.39 1955.72 1450.39 Q1960.88 1450.39 1963.82 1452.8 Q1966.76 1455.21 1966.76 1459.35 Q1966.76 1462.32 1965.07 1464.38 Q1963.4 1466.44 1960.42 1467.18 Q1963.8 1467.96 1965.67 1470.26 Q1967.57 1472.55 1967.57 1475.86 Q1967.57 1480.88 1964.49 1483.57 Q1961.44 1486.25 1955.72 1486.25 Q1950 1486.25 1946.92 1483.57 Q1943.87 1480.88 1943.87 1475.86 Q1943.87 1472.55 1945.76 1470.26 Q1947.66 1467.96 1951.04 1467.18 M1949.33 1459.79 Q1949.33 1462.48 1951 1463.98 Q1952.69 1465.49 1955.72 1465.49 Q1958.73 1465.49 1960.42 1463.98 Q1962.13 1462.48 1962.13 1459.79 Q1962.13 1457.11 1960.42 1455.6 Q1958.73 1454.1 1955.72 1454.1 Q1952.69 1454.1 1951 1455.6 Q1949.33 1457.11 1949.33 1459.79 Z\" fill=\"#000000\" fill-rule=\"evenodd\" fill-opacity=\"1\" /><path clip-path=\"url(#clip660)\" d=\"M2319.91 1481.64 L2327.55 1481.64 L2327.55 1455.28 L2319.24 1456.95 L2319.24 1452.69 L2327.5 1451.02 L2332.18 1451.02 L2332.18 1481.64 L2339.82 1481.64 L2339.82 1485.58 L2319.91 1485.58 L2319.91 1481.64 Z\" fill=\"#000000\" fill-rule=\"evenodd\" fill-opacity=\"1\" /><path clip-path=\"url(#clip660)\" d=\"M2349.26 1479.7 L2354.14 1479.7 L2354.14 1485.58 L2349.26 1485.58 L2349.26 1479.7 Z\" fill=\"#000000\" fill-rule=\"evenodd\" fill-opacity=\"1\" /><path clip-path=\"url(#clip660)\" d=\"M2374.33 1454.1 Q2370.72 1454.1 2368.89 1457.66 Q2367.08 1461.2 2367.08 1468.33 Q2367.08 1475.44 2368.89 1479.01 Q2370.72 1482.55 2374.33 1482.55 Q2377.96 1482.55 2379.77 1479.01 Q2381.6 1475.44 2381.6 1468.33 Q2381.6 1461.2 2379.77 1457.66 Q2377.96 1454.1 2374.33 1454.1 M2374.33 1450.39 Q2380.14 1450.39 2383.2 1455 Q2386.27 1459.58 2386.27 1468.33 Q2386.27 1477.06 2383.2 1481.67 Q2380.14 1486.25 2374.33 1486.25 Q2368.52 1486.25 2365.44 1481.67 Q2362.39 1477.06 2362.39 1468.33 Q2362.39 1459.58 2365.44 1455 Q2368.52 1450.39 2374.33 1450.39 Z\" fill=\"#000000\" fill-rule=\"evenodd\" fill-opacity=\"1\" /><path clip-path=\"url(#clip660)\" d=\"M1313.95 1537.87 Q1312.96 1537.3 1311.78 1537.04 Q1310.64 1536.76 1309.24 1536.76 Q1304.27 1536.76 1301.6 1540 Q1298.96 1543.22 1298.96 1549.27 L1298.96 1568.04 L1293.07 1568.04 L1293.07 1532.4 L1298.96 1532.4 L1298.96 1537.93 Q1300.8 1534.69 1303.76 1533.13 Q1306.72 1531.54 1310.96 1531.54 Q1311.56 1531.54 1312.29 1531.63 Q1313.02 1531.7 1313.92 1531.85 L1313.95 1537.87 Z\" fill=\"#000000\" fill-rule=\"evenodd\" fill-opacity=\"1\" /><polyline clip-path=\"url(#clip662)\" style=\"stroke:#000000; stroke-linecap:round; stroke-linejoin:round; stroke-width:2; stroke-opacity:0.1; fill:none\" points=\"254.26,1315.3 2352.76,1315.3 \"/>\n",
       "<polyline clip-path=\"url(#clip662)\" style=\"stroke:#000000; stroke-linecap:round; stroke-linejoin:round; stroke-width:2; stroke-opacity:0.1; fill:none\" points=\"254.26,1088.67 2352.76,1088.67 \"/>\n",
       "<polyline clip-path=\"url(#clip662)\" style=\"stroke:#000000; stroke-linecap:round; stroke-linejoin:round; stroke-width:2; stroke-opacity:0.1; fill:none\" points=\"254.26,862.041 2352.76,862.041 \"/>\n",
       "<polyline clip-path=\"url(#clip662)\" style=\"stroke:#000000; stroke-linecap:round; stroke-linejoin:round; stroke-width:2; stroke-opacity:0.1; fill:none\" points=\"254.26,635.411 2352.76,635.411 \"/>\n",
       "<polyline clip-path=\"url(#clip662)\" style=\"stroke:#000000; stroke-linecap:round; stroke-linejoin:round; stroke-width:2; stroke-opacity:0.1; fill:none\" points=\"254.26,408.782 2352.76,408.782 \"/>\n",
       "<polyline clip-path=\"url(#clip662)\" style=\"stroke:#000000; stroke-linecap:round; stroke-linejoin:round; stroke-width:2; stroke-opacity:0.1; fill:none\" points=\"254.26,182.153 2352.76,182.153 \"/>\n",
       "<polyline clip-path=\"url(#clip660)\" style=\"stroke:#000000; stroke-linecap:round; stroke-linejoin:round; stroke-width:4; stroke-opacity:1; fill:none\" points=\"254.26,1423.18 254.26,123.472 \"/>\n",
       "<polyline clip-path=\"url(#clip660)\" style=\"stroke:#000000; stroke-linecap:round; stroke-linejoin:round; stroke-width:4; stroke-opacity:1; fill:none\" points=\"254.26,1315.3 273.157,1315.3 \"/>\n",
       "<polyline clip-path=\"url(#clip660)\" style=\"stroke:#000000; stroke-linecap:round; stroke-linejoin:round; stroke-width:4; stroke-opacity:1; fill:none\" points=\"254.26,1088.67 273.157,1088.67 \"/>\n",
       "<polyline clip-path=\"url(#clip660)\" style=\"stroke:#000000; stroke-linecap:round; stroke-linejoin:round; stroke-width:4; stroke-opacity:1; fill:none\" points=\"254.26,862.041 273.157,862.041 \"/>\n",
       "<polyline clip-path=\"url(#clip660)\" style=\"stroke:#000000; stroke-linecap:round; stroke-linejoin:round; stroke-width:4; stroke-opacity:1; fill:none\" points=\"254.26,635.411 273.157,635.411 \"/>\n",
       "<polyline clip-path=\"url(#clip660)\" style=\"stroke:#000000; stroke-linecap:round; stroke-linejoin:round; stroke-width:4; stroke-opacity:1; fill:none\" points=\"254.26,408.782 273.157,408.782 \"/>\n",
       "<polyline clip-path=\"url(#clip660)\" style=\"stroke:#000000; stroke-linecap:round; stroke-linejoin:round; stroke-width:4; stroke-opacity:1; fill:none\" points=\"254.26,182.153 273.157,182.153 \"/>\n",
       "<path clip-path=\"url(#clip660)\" d=\"M50.9921 1315.75 L80.6679 1315.75 L80.6679 1319.69 L50.9921 1319.69 L50.9921 1315.75 Z\" fill=\"#000000\" fill-rule=\"evenodd\" fill-opacity=\"1\" /><path clip-path=\"url(#clip660)\" d=\"M100.76 1301.1 Q97.1493 1301.1 95.3206 1304.66 Q93.515 1308.2 93.515 1315.33 Q93.515 1322.44 95.3206 1326 Q97.1493 1329.55 100.76 1329.55 Q104.395 1329.55 106.2 1326 Q108.029 1322.44 108.029 1315.33 Q108.029 1308.2 106.2 1304.66 Q104.395 1301.1 100.76 1301.1 M100.76 1297.39 Q106.571 1297.39 109.626 1302 Q112.705 1306.58 112.705 1315.33 Q112.705 1324.06 109.626 1328.67 Q106.571 1333.25 100.76 1333.25 Q94.9502 1333.25 91.8715 1328.67 Q88.816 1324.06 88.816 1315.33 Q88.816 1306.58 91.8715 1302 Q94.9502 1297.39 100.76 1297.39 Z\" fill=\"#000000\" fill-rule=\"evenodd\" fill-opacity=\"1\" /><path clip-path=\"url(#clip660)\" d=\"M120.922 1326.7 L125.807 1326.7 L125.807 1332.58 L120.922 1332.58 L120.922 1326.7 Z\" fill=\"#000000\" fill-rule=\"evenodd\" fill-opacity=\"1\" /><path clip-path=\"url(#clip660)\" d=\"M145.992 1301.1 Q142.381 1301.1 140.552 1304.66 Q138.746 1308.2 138.746 1315.33 Q138.746 1322.44 140.552 1326 Q142.381 1329.55 145.992 1329.55 Q149.626 1329.55 151.431 1326 Q153.26 1322.44 153.26 1315.33 Q153.26 1308.2 151.431 1304.66 Q149.626 1301.1 145.992 1301.1 M145.992 1297.39 Q151.802 1297.39 154.857 1302 Q157.936 1306.58 157.936 1315.33 Q157.936 1324.06 154.857 1328.67 Q151.802 1333.25 145.992 1333.25 Q140.181 1333.25 137.103 1328.67 Q134.047 1324.06 134.047 1315.33 Q134.047 1306.58 137.103 1302 Q140.181 1297.39 145.992 1297.39 Z\" fill=\"#000000\" fill-rule=\"evenodd\" fill-opacity=\"1\" /><path clip-path=\"url(#clip660)\" d=\"M166.2 1298.02 L184.556 1298.02 L184.556 1301.95 L170.482 1301.95 L170.482 1310.43 Q171.501 1310.08 172.519 1309.92 Q173.538 1309.73 174.556 1309.73 Q180.343 1309.73 183.723 1312.9 Q187.103 1316.07 187.103 1321.49 Q187.103 1327.07 183.63 1330.17 Q180.158 1333.25 173.839 1333.25 Q171.663 1333.25 169.394 1332.88 Q167.149 1332.51 164.742 1331.77 L164.742 1327.07 Q166.825 1328.2 169.047 1328.76 Q171.269 1329.32 173.746 1329.32 Q177.751 1329.32 180.089 1327.21 Q182.427 1325.1 182.427 1321.49 Q182.427 1317.88 180.089 1315.77 Q177.751 1313.67 173.746 1313.67 Q171.871 1313.67 169.996 1314.08 Q168.144 1314.5 166.2 1315.38 L166.2 1298.02 Z\" fill=\"#000000\" fill-rule=\"evenodd\" fill-opacity=\"1\" /><path clip-path=\"url(#clip660)\" d=\"M206.315 1301.1 Q202.704 1301.1 200.876 1304.66 Q199.07 1308.2 199.07 1315.33 Q199.07 1322.44 200.876 1326 Q202.704 1329.55 206.315 1329.55 Q209.95 1329.55 211.755 1326 Q213.584 1322.44 213.584 1315.33 Q213.584 1308.2 211.755 1304.66 Q209.95 1301.1 206.315 1301.1 M206.315 1297.39 Q212.126 1297.39 215.181 1302 Q218.26 1306.58 218.26 1315.33 Q218.26 1324.06 215.181 1328.67 Q212.126 1333.25 206.315 1333.25 Q200.505 1333.25 197.427 1328.67 Q194.371 1324.06 194.371 1315.33 Q194.371 1306.58 197.427 1302 Q200.505 1297.39 206.315 1297.39 Z\" fill=\"#000000\" fill-rule=\"evenodd\" fill-opacity=\"1\" /><path clip-path=\"url(#clip660)\" d=\"M51.9875 1089.12 L81.6633 1089.12 L81.6633 1093.06 L51.9875 1093.06 L51.9875 1089.12 Z\" fill=\"#000000\" fill-rule=\"evenodd\" fill-opacity=\"1\" /><path clip-path=\"url(#clip660)\" d=\"M101.756 1074.47 Q98.1447 1074.47 96.316 1078.03 Q94.5104 1081.57 94.5104 1088.7 Q94.5104 1095.81 96.316 1099.38 Q98.1447 1102.92 101.756 1102.92 Q105.39 1102.92 107.196 1099.38 Q109.024 1095.81 109.024 1088.7 Q109.024 1081.57 107.196 1078.03 Q105.39 1074.47 101.756 1074.47 M101.756 1070.76 Q107.566 1070.76 110.621 1075.37 Q113.7 1079.95 113.7 1088.7 Q113.7 1097.43 110.621 1102.04 Q107.566 1106.62 101.756 1106.62 Q95.9456 1106.62 92.8669 1102.04 Q89.8114 1097.43 89.8114 1088.7 Q89.8114 1079.95 92.8669 1075.37 Q95.9456 1070.76 101.756 1070.76 Z\" fill=\"#000000\" fill-rule=\"evenodd\" fill-opacity=\"1\" /><path clip-path=\"url(#clip660)\" d=\"M121.918 1100.07 L126.802 1100.07 L126.802 1105.95 L121.918 1105.95 L121.918 1100.07 Z\" fill=\"#000000\" fill-rule=\"evenodd\" fill-opacity=\"1\" /><path clip-path=\"url(#clip660)\" d=\"M146.987 1074.47 Q143.376 1074.47 141.547 1078.03 Q139.742 1081.57 139.742 1088.7 Q139.742 1095.81 141.547 1099.38 Q143.376 1102.92 146.987 1102.92 Q150.621 1102.92 152.427 1099.38 Q154.255 1095.81 154.255 1088.7 Q154.255 1081.57 152.427 1078.03 Q150.621 1074.47 146.987 1074.47 M146.987 1070.76 Q152.797 1070.76 155.853 1075.37 Q158.931 1079.95 158.931 1088.7 Q158.931 1097.43 155.853 1102.04 Q152.797 1106.62 146.987 1106.62 Q141.177 1106.62 138.098 1102.04 Q135.043 1097.43 135.043 1088.7 Q135.043 1079.95 138.098 1075.37 Q141.177 1070.76 146.987 1070.76 Z\" fill=\"#000000\" fill-rule=\"evenodd\" fill-opacity=\"1\" /><path clip-path=\"url(#clip660)\" d=\"M171.177 1102.01 L187.496 1102.01 L187.496 1105.95 L165.552 1105.95 L165.552 1102.01 Q168.214 1099.26 172.797 1094.63 Q177.403 1089.98 178.584 1088.64 Q180.829 1086.11 181.709 1084.38 Q182.612 1082.62 182.612 1080.93 Q182.612 1078.17 180.667 1076.44 Q178.746 1074.7 175.644 1074.7 Q173.445 1074.7 170.991 1075.46 Q168.561 1076.23 165.783 1077.78 L165.783 1073.06 Q168.607 1071.92 171.061 1071.34 Q173.515 1070.76 175.552 1070.76 Q180.922 1070.76 184.116 1073.45 Q187.311 1076.14 187.311 1080.63 Q187.311 1082.76 186.501 1084.68 Q185.714 1086.57 183.607 1089.17 Q183.028 1089.84 179.927 1093.06 Q176.825 1096.25 171.177 1102.01 Z\" fill=\"#000000\" fill-rule=\"evenodd\" fill-opacity=\"1\" /><path clip-path=\"url(#clip660)\" d=\"M197.357 1071.39 L215.713 1071.39 L215.713 1075.32 L201.639 1075.32 L201.639 1083.8 Q202.658 1083.45 203.676 1083.29 Q204.695 1083.1 205.714 1083.1 Q211.501 1083.1 214.88 1086.27 Q218.26 1089.45 218.26 1094.86 Q218.26 1100.44 214.788 1103.54 Q211.315 1106.62 204.996 1106.62 Q202.82 1106.62 200.552 1106.25 Q198.306 1105.88 195.899 1105.14 L195.899 1100.44 Q197.982 1101.57 200.204 1102.13 Q202.426 1102.69 204.903 1102.69 Q208.908 1102.69 211.246 1100.58 Q213.584 1098.47 213.584 1094.86 Q213.584 1091.25 211.246 1089.14 Q208.908 1087.04 204.903 1087.04 Q203.028 1087.04 201.153 1087.45 Q199.302 1087.87 197.357 1088.75 L197.357 1071.39 Z\" fill=\"#000000\" fill-rule=\"evenodd\" fill-opacity=\"1\" /><path clip-path=\"url(#clip660)\" d=\"M100.76 847.839 Q97.1493 847.839 95.3206 851.404 Q93.515 854.946 93.515 862.075 Q93.515 869.182 95.3206 872.747 Q97.1493 876.288 100.76 876.288 Q104.395 876.288 106.2 872.747 Q108.029 869.182 108.029 862.075 Q108.029 854.946 106.2 851.404 Q104.395 847.839 100.76 847.839 M100.76 844.136 Q106.571 844.136 109.626 848.742 Q112.705 853.325 112.705 862.075 Q112.705 870.802 109.626 875.409 Q106.571 879.992 100.76 879.992 Q94.9502 879.992 91.8715 875.409 Q88.816 870.802 88.816 862.075 Q88.816 853.325 91.8715 848.742 Q94.9502 844.136 100.76 844.136 Z\" fill=\"#000000\" fill-rule=\"evenodd\" fill-opacity=\"1\" /><path clip-path=\"url(#clip660)\" d=\"M120.922 873.441 L125.807 873.441 L125.807 879.321 L120.922 879.321 L120.922 873.441 Z\" fill=\"#000000\" fill-rule=\"evenodd\" fill-opacity=\"1\" /><path clip-path=\"url(#clip660)\" d=\"M145.992 847.839 Q142.381 847.839 140.552 851.404 Q138.746 854.946 138.746 862.075 Q138.746 869.182 140.552 872.747 Q142.381 876.288 145.992 876.288 Q149.626 876.288 151.431 872.747 Q153.26 869.182 153.26 862.075 Q153.26 854.946 151.431 851.404 Q149.626 847.839 145.992 847.839 M145.992 844.136 Q151.802 844.136 154.857 848.742 Q157.936 853.325 157.936 862.075 Q157.936 870.802 154.857 875.409 Q151.802 879.992 145.992 879.992 Q140.181 879.992 137.103 875.409 Q134.047 870.802 134.047 862.075 Q134.047 853.325 137.103 848.742 Q140.181 844.136 145.992 844.136 Z\" fill=\"#000000\" fill-rule=\"evenodd\" fill-opacity=\"1\" /><path clip-path=\"url(#clip660)\" d=\"M176.153 847.839 Q172.542 847.839 170.714 851.404 Q168.908 854.946 168.908 862.075 Q168.908 869.182 170.714 872.747 Q172.542 876.288 176.153 876.288 Q179.788 876.288 181.593 872.747 Q183.422 869.182 183.422 862.075 Q183.422 854.946 181.593 851.404 Q179.788 847.839 176.153 847.839 M176.153 844.136 Q181.964 844.136 185.019 848.742 Q188.098 853.325 188.098 862.075 Q188.098 870.802 185.019 875.409 Q181.964 879.992 176.153 879.992 Q170.343 879.992 167.265 875.409 Q164.209 870.802 164.209 862.075 Q164.209 853.325 167.265 848.742 Q170.343 844.136 176.153 844.136 Z\" fill=\"#000000\" fill-rule=\"evenodd\" fill-opacity=\"1\" /><path clip-path=\"url(#clip660)\" d=\"M206.315 847.839 Q202.704 847.839 200.876 851.404 Q199.07 854.946 199.07 862.075 Q199.07 869.182 200.876 872.747 Q202.704 876.288 206.315 876.288 Q209.95 876.288 211.755 872.747 Q213.584 869.182 213.584 862.075 Q213.584 854.946 211.755 851.404 Q209.95 847.839 206.315 847.839 M206.315 844.136 Q212.126 844.136 215.181 848.742 Q218.26 853.325 218.26 862.075 Q218.26 870.802 215.181 875.409 Q212.126 879.992 206.315 879.992 Q200.505 879.992 197.427 875.409 Q194.371 870.802 194.371 862.075 Q194.371 853.325 197.427 848.742 Q200.505 844.136 206.315 844.136 Z\" fill=\"#000000\" fill-rule=\"evenodd\" fill-opacity=\"1\" /><path clip-path=\"url(#clip660)\" d=\"M101.756 621.21 Q98.1447 621.21 96.316 624.775 Q94.5104 628.317 94.5104 635.446 Q94.5104 642.553 96.316 646.117 Q98.1447 649.659 101.756 649.659 Q105.39 649.659 107.196 646.117 Q109.024 642.553 109.024 635.446 Q109.024 628.317 107.196 624.775 Q105.39 621.21 101.756 621.21 M101.756 617.506 Q107.566 617.506 110.621 622.113 Q113.7 626.696 113.7 635.446 Q113.7 644.173 110.621 648.779 Q107.566 653.363 101.756 653.363 Q95.9456 653.363 92.8669 648.779 Q89.8114 644.173 89.8114 635.446 Q89.8114 626.696 92.8669 622.113 Q95.9456 617.506 101.756 617.506 Z\" fill=\"#000000\" fill-rule=\"evenodd\" fill-opacity=\"1\" /><path clip-path=\"url(#clip660)\" d=\"M121.918 646.812 L126.802 646.812 L126.802 652.691 L121.918 652.691 L121.918 646.812 Z\" fill=\"#000000\" fill-rule=\"evenodd\" fill-opacity=\"1\" /><path clip-path=\"url(#clip660)\" d=\"M146.987 621.21 Q143.376 621.21 141.547 624.775 Q139.742 628.317 139.742 635.446 Q139.742 642.553 141.547 646.117 Q143.376 649.659 146.987 649.659 Q150.621 649.659 152.427 646.117 Q154.255 642.553 154.255 635.446 Q154.255 628.317 152.427 624.775 Q150.621 621.21 146.987 621.21 M146.987 617.506 Q152.797 617.506 155.853 622.113 Q158.931 626.696 158.931 635.446 Q158.931 644.173 155.853 648.779 Q152.797 653.363 146.987 653.363 Q141.177 653.363 138.098 648.779 Q135.043 644.173 135.043 635.446 Q135.043 626.696 138.098 622.113 Q141.177 617.506 146.987 617.506 Z\" fill=\"#000000\" fill-rule=\"evenodd\" fill-opacity=\"1\" /><path clip-path=\"url(#clip660)\" d=\"M171.177 648.756 L187.496 648.756 L187.496 652.691 L165.552 652.691 L165.552 648.756 Q168.214 646.002 172.797 641.372 Q177.403 636.719 178.584 635.377 Q180.829 632.854 181.709 631.117 Q182.612 629.358 182.612 627.668 Q182.612 624.914 180.667 623.178 Q178.746 621.442 175.644 621.442 Q173.445 621.442 170.991 622.205 Q168.561 622.969 165.783 624.52 L165.783 619.798 Q168.607 618.664 171.061 618.085 Q173.515 617.506 175.552 617.506 Q180.922 617.506 184.116 620.192 Q187.311 622.877 187.311 627.367 Q187.311 629.497 186.501 631.418 Q185.714 633.317 183.607 635.909 Q183.028 636.58 179.927 639.798 Q176.825 642.992 171.177 648.756 Z\" fill=\"#000000\" fill-rule=\"evenodd\" fill-opacity=\"1\" /><path clip-path=\"url(#clip660)\" d=\"M197.357 618.131 L215.713 618.131 L215.713 622.067 L201.639 622.067 L201.639 630.539 Q202.658 630.192 203.676 630.03 Q204.695 629.844 205.714 629.844 Q211.501 629.844 214.88 633.016 Q218.26 636.187 218.26 641.604 Q218.26 647.182 214.788 650.284 Q211.315 653.363 204.996 653.363 Q202.82 653.363 200.552 652.992 Q198.306 652.622 195.899 651.881 L195.899 647.182 Q197.982 648.316 200.204 648.872 Q202.426 649.428 204.903 649.428 Q208.908 649.428 211.246 647.321 Q213.584 645.215 213.584 641.604 Q213.584 637.992 211.246 635.886 Q208.908 633.779 204.903 633.779 Q203.028 633.779 201.153 634.196 Q199.302 634.613 197.357 635.492 L197.357 618.131 Z\" fill=\"#000000\" fill-rule=\"evenodd\" fill-opacity=\"1\" /><path clip-path=\"url(#clip660)\" d=\"M100.76 394.581 Q97.1493 394.581 95.3206 398.146 Q93.515 401.687 93.515 408.817 Q93.515 415.923 95.3206 419.488 Q97.1493 423.03 100.76 423.03 Q104.395 423.03 106.2 419.488 Q108.029 415.923 108.029 408.817 Q108.029 401.687 106.2 398.146 Q104.395 394.581 100.76 394.581 M100.76 390.877 Q106.571 390.877 109.626 395.484 Q112.705 400.067 112.705 408.817 Q112.705 417.544 109.626 422.15 Q106.571 426.734 100.76 426.734 Q94.9502 426.734 91.8715 422.15 Q88.816 417.544 88.816 408.817 Q88.816 400.067 91.8715 395.484 Q94.9502 390.877 100.76 390.877 Z\" fill=\"#000000\" fill-rule=\"evenodd\" fill-opacity=\"1\" /><path clip-path=\"url(#clip660)\" d=\"M120.922 420.183 L125.807 420.183 L125.807 426.062 L120.922 426.062 L120.922 420.183 Z\" fill=\"#000000\" fill-rule=\"evenodd\" fill-opacity=\"1\" /><path clip-path=\"url(#clip660)\" d=\"M145.992 394.581 Q142.381 394.581 140.552 398.146 Q138.746 401.687 138.746 408.817 Q138.746 415.923 140.552 419.488 Q142.381 423.03 145.992 423.03 Q149.626 423.03 151.431 419.488 Q153.26 415.923 153.26 408.817 Q153.26 401.687 151.431 398.146 Q149.626 394.581 145.992 394.581 M145.992 390.877 Q151.802 390.877 154.857 395.484 Q157.936 400.067 157.936 408.817 Q157.936 417.544 154.857 422.15 Q151.802 426.734 145.992 426.734 Q140.181 426.734 137.103 422.15 Q134.047 417.544 134.047 408.817 Q134.047 400.067 137.103 395.484 Q140.181 390.877 145.992 390.877 Z\" fill=\"#000000\" fill-rule=\"evenodd\" fill-opacity=\"1\" /><path clip-path=\"url(#clip660)\" d=\"M166.2 391.502 L184.556 391.502 L184.556 395.437 L170.482 395.437 L170.482 403.91 Q171.501 403.562 172.519 403.4 Q173.538 403.215 174.556 403.215 Q180.343 403.215 183.723 406.386 Q187.103 409.558 187.103 414.974 Q187.103 420.553 183.63 423.655 Q180.158 426.734 173.839 426.734 Q171.663 426.734 169.394 426.363 Q167.149 425.993 164.742 425.252 L164.742 420.553 Q166.825 421.687 169.047 422.243 Q171.269 422.798 173.746 422.798 Q177.751 422.798 180.089 420.692 Q182.427 418.585 182.427 414.974 Q182.427 411.363 180.089 409.257 Q177.751 407.15 173.746 407.15 Q171.871 407.15 169.996 407.567 Q168.144 407.984 166.2 408.863 L166.2 391.502 Z\" fill=\"#000000\" fill-rule=\"evenodd\" fill-opacity=\"1\" /><path clip-path=\"url(#clip660)\" d=\"M206.315 394.581 Q202.704 394.581 200.876 398.146 Q199.07 401.687 199.07 408.817 Q199.07 415.923 200.876 419.488 Q202.704 423.03 206.315 423.03 Q209.95 423.03 211.755 419.488 Q213.584 415.923 213.584 408.817 Q213.584 401.687 211.755 398.146 Q209.95 394.581 206.315 394.581 M206.315 390.877 Q212.126 390.877 215.181 395.484 Q218.26 400.067 218.26 408.817 Q218.26 417.544 215.181 422.15 Q212.126 426.734 206.315 426.734 Q200.505 426.734 197.427 422.15 Q194.371 417.544 194.371 408.817 Q194.371 400.067 197.427 395.484 Q200.505 390.877 206.315 390.877 Z\" fill=\"#000000\" fill-rule=\"evenodd\" fill-opacity=\"1\" /><path clip-path=\"url(#clip660)\" d=\"M101.756 167.952 Q98.1447 167.952 96.316 171.517 Q94.5104 175.058 94.5104 182.188 Q94.5104 189.294 96.316 192.859 Q98.1447 196.401 101.756 196.401 Q105.39 196.401 107.196 192.859 Q109.024 189.294 109.024 182.188 Q109.024 175.058 107.196 171.517 Q105.39 167.952 101.756 167.952 M101.756 164.248 Q107.566 164.248 110.621 168.855 Q113.7 173.438 113.7 182.188 Q113.7 190.915 110.621 195.521 Q107.566 200.104 101.756 200.104 Q95.9456 200.104 92.8669 195.521 Q89.8114 190.915 89.8114 182.188 Q89.8114 173.438 92.8669 168.855 Q95.9456 164.248 101.756 164.248 Z\" fill=\"#000000\" fill-rule=\"evenodd\" fill-opacity=\"1\" /><path clip-path=\"url(#clip660)\" d=\"M121.918 193.553 L126.802 193.553 L126.802 199.433 L121.918 199.433 L121.918 193.553 Z\" fill=\"#000000\" fill-rule=\"evenodd\" fill-opacity=\"1\" /><path clip-path=\"url(#clip660)\" d=\"M146.987 167.952 Q143.376 167.952 141.547 171.517 Q139.742 175.058 139.742 182.188 Q139.742 189.294 141.547 192.859 Q143.376 196.401 146.987 196.401 Q150.621 196.401 152.427 192.859 Q154.255 189.294 154.255 182.188 Q154.255 175.058 152.427 171.517 Q150.621 167.952 146.987 167.952 M146.987 164.248 Q152.797 164.248 155.853 168.855 Q158.931 173.438 158.931 182.188 Q158.931 190.915 155.853 195.521 Q152.797 200.104 146.987 200.104 Q141.177 200.104 138.098 195.521 Q135.043 190.915 135.043 182.188 Q135.043 173.438 138.098 168.855 Q141.177 164.248 146.987 164.248 Z\" fill=\"#000000\" fill-rule=\"evenodd\" fill-opacity=\"1\" /><path clip-path=\"url(#clip660)\" d=\"M165.968 164.873 L188.19 164.873 L188.19 166.864 L175.644 199.433 L170.76 199.433 L182.565 168.808 L165.968 168.808 L165.968 164.873 Z\" fill=\"#000000\" fill-rule=\"evenodd\" fill-opacity=\"1\" /><path clip-path=\"url(#clip660)\" d=\"M197.357 164.873 L215.713 164.873 L215.713 168.808 L201.639 168.808 L201.639 177.28 Q202.658 176.933 203.676 176.771 Q204.695 176.586 205.714 176.586 Q211.501 176.586 214.88 179.757 Q218.26 182.929 218.26 188.345 Q218.26 193.924 214.788 197.026 Q211.315 200.104 204.996 200.104 Q202.82 200.104 200.552 199.734 Q198.306 199.364 195.899 198.623 L195.899 193.924 Q197.982 195.058 200.204 195.614 Q202.426 196.169 204.903 196.169 Q208.908 196.169 211.246 194.063 Q213.584 191.956 213.584 188.345 Q213.584 184.734 211.246 182.628 Q208.908 180.521 204.903 180.521 Q203.028 180.521 201.153 180.938 Q199.302 181.354 197.357 182.234 L197.357 164.873 Z\" fill=\"#000000\" fill-rule=\"evenodd\" fill-opacity=\"1\" /><path clip-path=\"url(#clip660)\" d=\"M1084.33 12.096 L1092.52 12.096 L1092.52 72.576 L1084.33 72.576 L1084.33 12.096 Z\" fill=\"#000000\" fill-rule=\"evenodd\" fill-opacity=\"1\" /><path clip-path=\"url(#clip660)\" d=\"M1146.19 45.1919 L1146.19 72.576 L1138.74 72.576 L1138.74 45.4349 Q1138.74 38.994 1136.23 35.7938 Q1133.71 32.5936 1128.69 32.5936 Q1122.66 32.5936 1119.17 36.4419 Q1115.69 40.2903 1115.69 46.9338 L1115.69 72.576 L1108.19 72.576 L1108.19 27.2059 L1115.69 27.2059 L1115.69 34.2544 Q1118.36 30.163 1121.97 28.1376 Q1125.61 26.1121 1130.35 26.1121 Q1138.17 26.1121 1142.18 30.9732 Q1146.19 35.7938 1146.19 45.1919 Z\" fill=\"#000000\" fill-rule=\"evenodd\" fill-opacity=\"1\" /><path clip-path=\"url(#clip660)\" d=\"M1161.06 27.2059 L1168.51 27.2059 L1168.51 72.576 L1161.06 72.576 L1161.06 27.2059 M1161.06 9.54393 L1168.51 9.54393 L1168.51 18.9825 L1161.06 18.9825 L1161.06 9.54393 Z\" fill=\"#000000\" fill-rule=\"evenodd\" fill-opacity=\"1\" /><path clip-path=\"url(#clip660)\" d=\"M1191.48 14.324 L1191.48 27.2059 L1206.83 27.2059 L1206.83 32.9987 L1191.48 32.9987 L1191.48 57.6282 Q1191.48 63.1779 1192.98 64.7578 Q1194.52 66.3376 1199.18 66.3376 L1206.83 66.3376 L1206.83 72.576 L1199.18 72.576 Q1190.55 72.576 1187.27 69.3758 Q1183.99 66.1351 1183.99 57.6282 L1183.99 32.9987 L1178.52 32.9987 L1178.52 27.2059 L1183.99 27.2059 L1183.99 14.324 L1191.48 14.324 Z\" fill=\"#000000\" fill-rule=\"evenodd\" fill-opacity=\"1\" /><path clip-path=\"url(#clip660)\" d=\"M1216.64 27.2059 L1224.09 27.2059 L1224.09 72.576 L1216.64 72.576 L1216.64 27.2059 M1216.64 9.54393 L1224.09 9.54393 L1224.09 18.9825 L1216.64 18.9825 L1216.64 9.54393 Z\" fill=\"#000000\" fill-rule=\"evenodd\" fill-opacity=\"1\" /><path clip-path=\"url(#clip660)\" d=\"M1260.3 49.7694 Q1251.27 49.7694 1247.79 51.8354 Q1244.3 53.9013 1244.3 58.8839 Q1244.3 62.8538 1246.9 65.2034 Q1249.53 67.5124 1254.03 67.5124 Q1260.22 67.5124 1263.95 63.1374 Q1267.72 58.7219 1267.72 51.4303 L1267.72 49.7694 L1260.3 49.7694 M1275.17 46.6907 L1275.17 72.576 L1267.72 72.576 L1267.72 65.6895 Q1265.17 69.8214 1261.36 71.8063 Q1257.55 73.7508 1252.04 73.7508 Q1245.07 73.7508 1240.94 69.8619 Q1236.85 65.9325 1236.85 59.3701 Q1236.85 51.7138 1241.95 47.825 Q1247.1 43.9361 1257.27 43.9361 L1267.72 43.9361 L1267.72 43.2069 Q1267.72 38.0623 1264.32 35.2672 Q1260.95 32.4315 1254.84 32.4315 Q1250.95 32.4315 1247.26 33.3632 Q1243.57 34.295 1240.17 36.1584 L1240.17 29.2718 Q1244.26 27.692 1248.11 26.9223 Q1251.96 26.1121 1255.61 26.1121 Q1265.45 26.1121 1270.31 31.2163 Q1275.17 36.3204 1275.17 46.6907 Z\" fill=\"#000000\" fill-rule=\"evenodd\" fill-opacity=\"1\" /><path clip-path=\"url(#clip660)\" d=\"M1290.52 9.54393 L1297.98 9.54393 L1297.98 72.576 L1290.52 72.576 L1290.52 9.54393 Z\" fill=\"#000000\" fill-rule=\"evenodd\" fill-opacity=\"1\" /><path clip-path=\"url(#clip660)\" d=\"M1348.45 18.8205 L1348.45 65.8515 L1358.34 65.8515 Q1370.85 65.8515 1376.65 60.1802 Q1382.48 54.509 1382.48 42.2752 Q1382.48 30.1225 1376.65 24.4918 Q1370.85 18.8205 1358.34 18.8205 L1348.45 18.8205 M1340.27 12.096 L1357.08 12.096 Q1374.66 12.096 1382.89 19.4281 Q1391.11 26.7198 1391.11 42.2752 Q1391.11 57.9117 1382.84 65.2439 Q1374.58 72.576 1357.08 72.576 L1340.27 72.576 L1340.27 12.096 Z\" fill=\"#000000\" fill-rule=\"evenodd\" fill-opacity=\"1\" /><path clip-path=\"url(#clip660)\" d=\"M1424.45 49.7694 Q1415.41 49.7694 1411.93 51.8354 Q1408.45 53.9013 1408.45 58.8839 Q1408.45 62.8538 1411.04 65.2034 Q1413.67 67.5124 1418.17 67.5124 Q1424.37 67.5124 1428.09 63.1374 Q1431.86 58.7219 1431.86 51.4303 L1431.86 49.7694 L1424.45 49.7694 M1439.31 46.6907 L1439.31 72.576 L1431.86 72.576 L1431.86 65.6895 Q1429.31 69.8214 1425.5 71.8063 Q1421.69 73.7508 1416.18 73.7508 Q1409.22 73.7508 1405.08 69.8619 Q1400.99 65.9325 1400.99 59.3701 Q1400.99 51.7138 1406.1 47.825 Q1411.24 43.9361 1421.41 43.9361 L1431.86 43.9361 L1431.86 43.2069 Q1431.86 38.0623 1428.46 35.2672 Q1425.1 32.4315 1418.98 32.4315 Q1415.09 32.4315 1411.4 33.3632 Q1407.72 34.295 1404.31 36.1584 L1404.31 29.2718 Q1408.41 27.692 1412.25 26.9223 Q1416.1 26.1121 1419.75 26.1121 Q1429.59 26.1121 1434.45 31.2163 Q1439.31 36.3204 1439.31 46.6907 Z\" fill=\"#000000\" fill-rule=\"evenodd\" fill-opacity=\"1\" /><path clip-path=\"url(#clip660)\" d=\"M1462.04 14.324 L1462.04 27.2059 L1477.39 27.2059 L1477.39 32.9987 L1462.04 32.9987 L1462.04 57.6282 Q1462.04 63.1779 1463.54 64.7578 Q1465.08 66.3376 1469.74 66.3376 L1477.39 66.3376 L1477.39 72.576 L1469.74 72.576 Q1461.11 72.576 1457.83 69.3758 Q1454.55 66.1351 1454.55 57.6282 L1454.55 32.9987 L1449.08 32.9987 L1449.08 27.2059 L1454.55 27.2059 L1454.55 14.324 L1462.04 14.324 Z\" fill=\"#000000\" fill-rule=\"evenodd\" fill-opacity=\"1\" /><path clip-path=\"url(#clip660)\" d=\"M1507.82 49.7694 Q1498.78 49.7694 1495.3 51.8354 Q1491.81 53.9013 1491.81 58.8839 Q1491.81 62.8538 1494.41 65.2034 Q1497.04 67.5124 1501.54 67.5124 Q1507.73 67.5124 1511.46 63.1374 Q1515.23 58.7219 1515.23 51.4303 L1515.23 49.7694 L1507.82 49.7694 M1522.68 46.6907 L1522.68 72.576 L1515.23 72.576 L1515.23 65.6895 Q1512.68 69.8214 1508.87 71.8063 Q1505.06 73.7508 1499.55 73.7508 Q1492.58 73.7508 1488.45 69.8619 Q1484.36 65.9325 1484.36 59.3701 Q1484.36 51.7138 1489.46 47.825 Q1494.61 43.9361 1504.78 43.9361 L1515.23 43.9361 L1515.23 43.2069 Q1515.23 38.0623 1511.83 35.2672 Q1508.46 32.4315 1502.35 32.4315 Q1498.46 32.4315 1494.77 33.3632 Q1491.08 34.295 1487.68 36.1584 L1487.68 29.2718 Q1491.77 27.692 1495.62 26.9223 Q1499.47 26.1121 1503.12 26.1121 Q1512.96 26.1121 1517.82 31.2163 Q1522.68 36.3204 1522.68 46.6907 Z\" fill=\"#000000\" fill-rule=\"evenodd\" fill-opacity=\"1\" /><polyline clip-path=\"url(#clip662)\" style=\"stroke:#009af9; stroke-linecap:round; stroke-linejoin:round; stroke-width:4; stroke-opacity:1; fill:none\" points=\"254.26,862.041 259.493,862.041 264.7,862.041 269.881,862.041 275.037,862.041 280.167,862.041 285.272,862.041 290.352,862.041 295.407,862.041 300.437,862.041 305.443,862.041 310.424,862.041 315.381,862.041 320.314,862.041 325.223,862.041 330.109,862.041 334.971,862.041 339.81,862.041 344.626,862.041 349.418,862.041 354.188,862.041 358.935,862.041 363.66,862.041 368.362,862.041 373.043,862.041 377.701,862.041 382.337,862.041 386.952,862.041 391.545,862.041 396.116,862.041 400.666,862.041 405.196,862.041 409.704,862.041 414.191,862.041 418.658,862.041 423.104,862.041 427.53,862.041 431.936,862.041 436.321,862.041 440.687,862.041 445.032,862.041 449.358,862.041 453.664,862.041 457.951,862.041 462.219,862.041 466.467,862.041 470.697,862.041 474.907,862.041 479.099,862.041 483.272,862.041 487.426,862.041 491.562,862.041 495.68,862.041 499.779,862.041 503.861,862.041 507.924,862.041 511.97,862.041 515.998,862.041 520.008,862.041 524.001,862.041 527.977,862.041 531.935,862.041 535.876,862.041 539.8,862.041 543.707,862.041 547.598,862.041 551.472,862.041 555.329,862.041 559.169,862.041 562.994,862.041 566.802,862.041 570.594,862.041 574.369,862.041 578.129,862.041 581.873,862.041 585.601,862.041 589.314,862.041 593.011,862.041 596.692,862.041 600.358,862.041 604.009,862.041 607.645,862.041 611.265,862.041 614.871,862.041 618.462,862.041 622.037,862.041 625.599,862.041 629.145,862.041 632.677,862.041 636.195,862.041 639.698,862.041 643.187,862.041 646.661,862.041 650.122,862.041 653.569,862.041 657.001,862.041 660.42,862.041 663.825,862.041 667.217,862.041 670.595,862.041 673.959,862.041 677.31,862.041 680.647,862.041 683.972,862.041 687.283,862.041 690.581,862.041 693.866,862.041 697.138,862.041 700.397,862.041 703.643,862.041 706.877,862.041 710.097,862.041 713.306,862.041 716.502,862.041 719.685,862.041 722.856,862.041 726.015,862.041 729.161,862.041 732.296,862.041 735.418,862.041 738.528,862.041 741.626,862.041 744.713,862.041 747.788,862.041 750.85,862.041 753.902,862.041 756.941,862.041 759.969,862.041 762.986,862.041 765.991,862.041 768.985,862.041 771.968,862.041 774.939,862.041 777.9,862.041 780.849,862.041 783.787,862.041 786.714,862.041 789.63,862.041 792.536,862.041 795.43,862.041 798.314,862.041 801.188,862.041 804.05,862.041 806.902,862.041 809.744,862.041 812.575,862.041 815.396,862.041 818.207,862.041 821.007,862.041 823.797,862.041 826.577,862.041 829.347,862.041 832.107,862.041 834.856,862.041 837.596,862.041 840.326,862.041 843.046,862.041 845.757,862.041 848.458,862.041 851.149,862.041 853.83,862.041 856.502,862.041 859.164,862.041 861.817,862.041 864.461,862.041 867.095,862.041 869.72,862.041 872.335,862.041 874.942,862.041 877.539,862.041 880.127,862.041 882.706,862.041 885.276,862.041 887.837,862.041 890.389,862.041 892.932,862.041 895.467,862.041 897.993,862.041 900.509,862.041 903.018,862.041 905.517,862.041 908.008,862.041 910.491,862.041 912.964,862.041 915.43,862.041 917.887,862.041 920.335,862.041 922.776,862.041 925.207,862.041 927.631,862.041 930.047,862.041 932.454,862.041 934.853,862.041 937.244,862.041 939.627,862.041 942.002,862.041 944.369,862.041 946.728,862.041 949.08,862.041 951.423,862.041 953.758,862.041 956.086,862.041 958.406,862.041 960.719,862.041 963.023,862.041 965.32,862.041 967.61,862.041 969.892,862.041 972.166,862.041 974.433,862.041 976.693,862.041 978.945,862.041 981.19,862.041 983.427,862.041 985.657,862.041 987.88,862.041 990.096,862.041 992.305,862.041 994.506,862.041 996.7,862.041 998.887,862.041 1001.07,862.041 1003.24,862.041 1005.41,862.041 1007.57,862.041 1009.72,862.041 1011.86,862.041 1014,862.041 1016.13,862.041 1018.26,862.041 1020.38,862.041 1022.49,862.041 1024.59,862.041 1026.69,862.041 1028.78,862.041 1030.87,862.041 1032.95,862.041 1035.02,862.041 1037.08,862.041 1039.14,862.041 1041.2,862.041 1043.24,862.041 1045.28,862.041 1047.32,862.041 1049.34,862.041 1051.36,862.041 1053.38,862.041 1055.39,862.041 1057.39,862.041 1059.38,862.041 1061.37,862.041 1063.36,862.041 1065.33,862.041 1067.31,862.041 1069.27,862.041 1071.23,862.041 1073.19,862.041 1075.13,862.041 1077.07,862.041 1079.01,862.041 1080.94,862.041 1082.86,862.041 1084.78,862.041 1086.69,862.041 1088.6,862.041 1090.5,862.041 1092.4,862.041 1094.29,862.041 1096.17,862.041 1098.05,862.041 1099.92,862.041 1101.79,862.041 1103.65,862.041 1105.51,862.041 1107.36,862.041 1109.2,862.041 1111.04,862.041 1112.88,862.041 1114.71,862.041 1116.53,862.041 1118.35,862.041 1120.16,862.041 1121.97,862.041 1123.77,862.041 1125.57,862.041 1127.36,862.041 1129.14,862.041 1130.92,862.041 1132.7,862.041 1134.47,862.041 1136.24,862.041 1138,862.041 1139.75,862.041 1141.5,862.041 1143.25,862.041 1144.99,862.041 1146.72,862.041 1148.45,862.041 1150.18,862.041 1151.9,862.041 1153.62,862.041 1155.33,862.041 1157.03,862.041 1158.73,862.041 1160.43,862.041 1162.12,862.041 1163.81,862.041 1165.49,862.041 1167.16,862.041 1168.84,862.041 1170.5,862.041 1172.17,862.041 1173.83,862.041 1175.48,862.041 1177.13,862.041 1178.77,862.041 1180.41,862.041 1182.05,862.041 1183.68,862.041 1185.3,862.041 1186.92,862.041 1188.54,862.041 1190.15,862.041 1191.76,862.041 1193.37,862.041 1194.96,862.041 1196.56,862.041 1198.15,862.041 1199.74,862.041 1201.32,862.041 1202.89,862.041 1204.47,862.041 1206.04,862.041 1207.6,862.041 1209.16,862.041 1210.72,862.041 1212.27,862.041 1213.82,862.041 1215.36,862.041 1216.9,862.041 1218.43,862.041 1219.96,862.041 1221.49,862.041 1223.01,862.041 1224.53,862.041 1226.05,862.041 1227.56,862.041 1229.06,862.041 1230.57,862.041 1232.06,862.041 1233.56,862.041 1235.05,862.041 1236.53,862.041 1238.02,862.041 1239.5,862.041 1240.97,862.041 1242.44,862.041 1243.91,862.041 1245.37,862.041 1246.83,862.041 1248.28,862.041 1249.74,862.041 1251.18,862.041 1252.63,862.041 1254.07,862.041 1255.5,862.041 1256.94,862.041 1258.36,862.041 1259.79,862.041 1261.21,862.041 1262.63,862.041 1264.04,862.041 1265.45,862.041 1266.86,862.041 1268.26,862.041 1269.66,862.041 1271.06,862.041 1272.45,862.041 1273.84,862.041 1275.22,862.041 1276.6,862.041 1277.98,862.041 1279.36,862.041 1280.73,862.041 1282.09,862.041 1283.46,862.041 1284.82,862.041 1286.18,862.041 1287.53,862.041 1288.88,862.041 1290.23,862.041 1291.57,862.041 1292.91,862.041 1294.25,862.041 1295.58,862.041 1296.91,862.041 1298.24,862.041 1299.56,862.041 1300.88,862.041 1302.19,862.041 1303.51,862.041 1304.82,862.041 1306.12,862.041 1307.43,862.041 1308.73,862.041 1310.02,862.041 1311.32,862.041 1312.61,862.041 1313.9,862.041 1315.18,862.041 1316.46,862.041 1317.74,862.041 1319.01,862.041 1320.29,862.041 1321.55,862.041 1322.82,862.041 1324.08,862.041 1325.34,862.041 1326.6,862.041 1327.85,862.041 1329.1,862.041 1330.35,862.041 1331.59,862.041 1332.83,862.041 1334.07,862.041 1335.3,862.041 1336.54,862.041 1337.76,862.041 1338.99,862.041 1340.21,862.041 1341.43,862.041 1342.65,862.041 1343.86,862.041 1345.07,862.041 1346.28,862.041 1347.49,862.041 1348.69,862.041 1349.89,862.041 1351.09,862.041 1352.28,862.041 1353.47,862.041 1354.66,862.041 1355.85,862.041 1357.03,862.041 1358.21,862.041 1359.38,862.041 1360.56,862.041 1361.73,862.041 1362.9,862.041 1364.07,862.041 1365.23,862.041 1366.39,862.041 1367.55,862.041 1368.7,862.041 1369.85,862.041 1371,862.041 1372.15,862.041 1373.29,862.041 1374.44,862.041 1375.57,862.041 1376.71,862.041 1377.84,862.041 1378.98,862.041 1380.1,862.041 1381.23,862.041 1382.35,862.041 1383.47,862.041 1384.59,862.041 1385.71,862.041 1386.82,862.041 1387.93,862.041 1389.04,862.041 1390.14,862.041 1391.25,862.041 1392.35,862.041 1393.44,862.041 1394.54,862.041 1395.63,862.041 1396.72,862.041 1397.81,862.041 1398.89,862.041 1399.98,862.041 1401.06,862.041 1402.13,862.041 1403.21,862.041 1404.28,862.041 1405.35,862.041 1406.42,862.041 1407.49,862.041 1408.55,862.041 1409.61,862.041 1410.67,862.041 1411.73,862.041 1412.78,862.041 1413.83,862.041 1414.88,862.041 1415.93,862.041 1416.97,862.041 1418.01,862.041 1419.05,862.041 1420.09,862.041 1421.13,862.041 1422.16,862.041 1423.19,862.041 1424.22,862.041 1425.24,862.041 1426.27,862.041 1427.29,862.041 1428.31,862.041 1429.33,862.041 1430.34,862.041 1431.35,862.041 1432.36,862.041 1433.37,862.041 1434.38,862.041 1435.38,862.041 1436.38,862.041 1437.38,862.041 1438.38,862.041 1439.37,862.041 1440.37,862.041 1441.36,862.041 1442.35,862.041 1443.33,862.041 1444.32,862.041 1445.3,862.041 1446.28,862.041 1447.26,862.041 1448.23,862.041 1449.21,862.041 1450.18,862.041 1451.15,862.041 1452.11,862.041 1453.08,862.041 1454.04,862.041 1455,862.041 1455.96,862.041 1456.92,862.041 1457.87,862.041 1458.83,862.041 1459.78,862.041 1460.73,862.041 1461.67,862.041 1462.62,862.041 1463.56,862.041 1464.5,862.041 1465.44,862.041 1466.38,862.041 1467.31,862.041 1468.25,862.041 1469.18,862.041 1470.11,862.041 1471.03,862.041 1471.96,862.041 1472.88,862.041 1473.8,862.041 1474.72,862.041 1475.64,862.041 1476.56,862.041 1477.47,862.041 1478.38,862.041 1479.29,862.041 1480.2,862.041 1481.11,862.041 1482.01,862.041 1482.91,862.041 1483.81,862.041 1484.71,862.041 1485.61,862.041 1486.5,862.041 1487.4,862.041 1488.29,862.041 1489.18,862.041 1490.06,862.041 1490.95,862.041 1491.83,862.041 1492.72,862.041 1493.6,862.041 1494.48,862.041 1495.35,862.041 1496.23,862.041 1497.1,862.041 1497.97,862.041 1498.84,862.041 1499.71,862.041 1500.57,862.041 1501.44,862.041 1502.3,862.041 1503.16,862.041 1504.02,862.041 1504.88,862.041 1505.73,862.041 1506.59,862.041 1507.44,862.041 1508.29,862.041 1509.14,862.041 1509.99,862.041 1510.83,862.041 1511.68,862.041 1512.52,862.041 1513.36,862.041 1514.2,862.041 1515.03,862.041 1515.87,862.041 1516.7,862.041 1517.53,862.041 1518.36,862.041 1519.19,862.041 1520.02,862.041 1520.84,862.041 1521.67,862.041 1522.49,862.041 1523.31,862.041 1524.13,862.041 1524.95,862.041 1525.76,862.041 1526.58,862.041 1527.39,862.041 1528.2,862.041 1529.01,862.041 1529.82,862.041 1530.62,862.041 1531.43,862.041 1532.23,862.041 1533.03,862.041 1533.83,862.041 1534.63,862.041 1535.43,862.041 1536.22,862.041 1537.01,862.041 1537.81,862.041 1538.6,862.041 1539.39,862.041 1540.17,862.041 1540.96,862.041 1541.74,862.041 1542.53,862.041 1543.31,862.041 1544.09,862.041 1544.87,862.041 1545.64,862.041 1546.42,862.041 1547.19,862.041 1547.96,862.041 1548.73,862.041 1549.5,862.041 1550.27,862.041 1551.04,862.041 1551.8,862.041 1552.57,862.041 1553.33,862.041 1554.09,862.041 1554.85,862.041 1555.61,862.041 1556.36,862.041 1557.12,862.041 1557.87,862.041 1558.62,862.041 1559.37,862.041 1560.12,862.041 1560.87,862.041 1561.62,862.041 1562.36,862.041 1563.11,862.041 1563.85,862.041 1564.59,862.041 1565.33,862.041 1566.07,862.041 1566.8,862.041 1567.54,862.041 1568.27,862.041 1569,862.041 1569.73,862.041 1570.46,862.041 1571.19,862.041 1571.92,862.041 1572.65,862.041 1573.37,862.041 1574.09,862.041 1574.81,862.041 1575.54,862.041 1576.25,862.041 1576.97,862.041 1577.69,862.041 1578.4,862.041 1579.12,862.041 1579.83,862.041 1580.54,862.041 1581.25,862.041 1581.96,862.041 1582.67,862.041 1583.37,862.041 1584.08,862.041 1584.78,862.041 1585.48,862.041 1586.18,862.041 1586.88,862.041 1587.58,862.041 1588.28,862.041 1588.97,862.041 1589.67,862.041 1590.36,862.041 1591.05,862.041 1591.74,862.041 1592.43,862.041 1593.12,862.041 1593.81,862.041 1594.49,862.041 1595.18,862.041 1595.86,862.041 1596.54,862.041 1597.22,862.041 1597.9,862.041 1598.58,862.041 1599.26,862.041 1599.93,862.041 1600.61,862.041 1601.28,862.041 1601.95,862.041 1602.62,862.041 1603.29,862.041 1603.96,862.041 1604.63,862.041 1605.3,862.041 1605.96,862.041 1606.62,862.041 1607.29,862.041 1607.95,862.041 1608.61,862.041 1609.27,862.041 1609.93,862.041 1610.58,862.041 1611.24,862.041 1611.89,862.041 1612.55,862.041 1613.2,862.041 1613.85,862.041 1614.5,862.041 1615.15,862.041 1615.8,862.041 1616.44,862.041 1617.09,862.041 1617.73,862.041 1618.37,862.041 1619.02,862.041 1619.66,862.041 1620.3,862.041 1620.94,862.041 1621.57,862.041 1622.21,862.041 1622.84,862.041 1623.48,862.041 1624.11,862.041 1624.74,862.041 1625.37,862.041 1626,862.041 1626.63,862.041 1627.26,862.041 1627.89,862.041 1628.51,862.041 1629.14,862.041 1629.76,862.041 1630.38,862.041 1631,862.041 1631.62,862.041 1632.24,862.041 1632.86,862.041 1633.48,862.041 1634.09,862.041 1634.71,862.041 1635.32,862.041 1635.93,862.041 1636.55,862.041 1637.16,862.041 1637.77,862.041 1638.37,862.041 1638.98,862.041 1639.59,862.041 1640.19,862.041 1640.8,862.041 1641.4,862.041 1642,862.041 1642.6,862.041 1643.21,862.041 1643.8,862.041 1644.4,862.041 1645,862.041 1645.6,862.041 1646.19,862.041 1646.79,862.041 1647.38,862.041 1647.97,862.041 1648.56,862.041 1649.15,862.041 1649.74,862.041 1650.33,862.041 1650.92,862.041 1651.5,862.041 1652.09,862.041 1652.67,862.041 1653.26,862.041 \"/>\n",
       "<polyline clip-path=\"url(#clip662)\" style=\"stroke:#e26f46; stroke-linecap:round; stroke-linejoin:round; stroke-width:4; stroke-opacity:1; fill:none\" points=\"254.26,862.041 259.493,862.041 264.7,862.041 269.881,862.041 275.037,862.041 280.167,862.041 285.272,862.041 290.352,862.041 295.407,862.041 300.437,862.041 305.443,862.041 310.424,862.041 315.381,862.041 320.314,862.041 325.223,862.041 330.109,862.041 334.971,862.041 339.81,862.041 344.626,862.041 349.418,862.041 354.188,862.041 358.935,862.041 363.66,862.041 368.362,862.041 373.043,862.041 377.701,862.041 382.337,862.041 386.952,862.041 391.545,862.041 396.116,862.041 400.666,862.041 405.196,862.041 409.704,862.041 414.191,862.041 418.658,862.041 423.104,862.041 427.53,862.041 431.936,862.041 436.321,862.041 440.687,862.041 445.032,862.041 449.358,862.041 453.664,862.041 457.951,862.041 462.219,862.041 466.467,862.041 470.697,862.041 474.907,862.041 479.099,862.041 483.272,862.041 487.426,862.041 491.562,862.041 495.68,862.041 499.779,862.041 503.861,862.041 507.924,862.041 511.97,862.041 515.998,862.041 520.008,862.041 524.001,862.041 527.977,862.041 531.935,862.041 535.876,862.041 539.8,862.041 543.707,862.041 547.598,862.041 551.472,862.041 555.329,862.041 559.169,862.041 562.994,862.041 566.802,862.041 570.594,862.041 574.369,862.041 578.129,862.041 581.873,862.041 585.601,862.041 589.314,862.041 593.011,862.041 596.692,862.041 600.358,862.041 604.009,862.041 607.645,862.041 611.265,862.041 614.871,862.041 618.462,862.041 622.037,862.041 625.599,862.041 629.145,862.041 632.677,862.041 636.195,862.041 639.698,862.041 643.187,862.041 646.661,862.041 650.122,862.041 653.569,862.041 657.001,862.041 660.42,862.041 663.825,862.041 667.217,862.041 670.595,862.041 673.959,862.041 677.31,862.041 680.647,862.041 683.972,862.041 687.283,862.041 690.581,862.041 693.866,862.041 697.138,862.041 700.397,862.041 703.643,862.041 706.877,862.041 710.097,862.041 713.306,862.041 716.502,862.041 719.685,862.041 722.856,862.041 726.015,862.041 729.161,862.041 732.296,862.041 735.418,862.041 738.528,862.041 741.626,862.041 744.713,862.041 747.788,862.041 750.85,862.041 753.902,862.041 756.941,862.041 759.969,862.041 762.986,862.041 765.991,862.041 768.985,862.041 771.968,862.041 774.939,862.041 777.9,862.041 780.849,862.041 783.787,862.041 786.714,862.041 789.63,862.041 792.536,862.041 795.43,862.041 798.314,862.041 801.188,862.041 804.05,862.041 806.902,862.041 809.744,862.041 812.575,862.041 815.396,862.041 818.207,862.041 821.007,862.041 823.797,862.041 826.577,862.041 829.347,862.041 832.107,862.041 834.856,862.041 837.596,862.041 840.326,862.041 843.046,862.041 845.757,862.041 848.458,862.041 851.149,862.041 853.83,862.041 856.502,862.041 859.164,862.041 861.817,862.041 864.461,862.041 867.095,862.041 869.72,862.041 872.335,862.041 874.942,862.041 877.539,862.041 880.127,862.041 882.706,862.041 885.276,862.041 887.837,862.041 890.389,862.041 892.932,862.041 895.467,862.041 897.993,862.041 900.509,862.041 903.018,862.041 905.517,862.041 908.008,862.041 910.491,862.041 912.964,862.041 915.43,862.041 917.887,862.041 920.335,862.041 922.776,862.041 925.207,862.041 927.631,862.041 930.047,862.041 932.454,862.041 934.853,862.041 937.244,862.041 939.627,862.041 942.002,862.041 944.369,862.041 946.728,862.041 949.08,862.041 951.423,862.041 953.758,862.041 956.086,862.041 958.406,862.041 960.719,862.041 963.023,862.041 965.32,862.041 967.61,862.041 969.892,862.041 972.166,862.041 974.433,862.041 976.693,862.041 978.945,862.041 981.19,862.041 983.427,862.041 985.657,862.041 987.88,862.041 990.096,862.041 992.305,862.041 994.506,862.041 996.7,862.041 998.887,862.041 1001.07,862.041 1003.24,862.041 1005.41,862.041 1007.57,862.041 1009.72,862.041 1011.86,862.041 1014,862.041 1016.13,862.041 1018.26,862.041 1020.38,862.041 1022.49,862.041 1024.59,862.041 1026.69,862.041 1028.78,862.041 1030.87,862.041 1032.95,862.041 1035.02,862.041 1037.08,862.041 1039.14,862.041 1041.2,862.041 1043.24,862.041 1045.28,862.041 1047.32,862.041 1049.34,862.041 1051.36,862.041 1053.38,862.041 1055.39,862.041 1057.39,862.041 1059.38,862.041 1061.37,862.041 1063.36,862.041 1065.33,862.041 1067.31,862.041 1069.27,862.041 1071.23,862.041 1073.19,862.041 1075.13,862.041 1077.07,862.041 1079.01,862.041 1080.94,862.041 1082.86,862.041 1084.78,862.041 1086.69,862.041 1088.6,862.041 1090.5,862.041 1092.4,862.041 1094.29,862.041 1096.17,862.041 1098.05,862.041 1099.92,862.041 1101.79,862.041 1103.65,862.041 1105.51,862.041 1107.36,862.041 1109.2,862.041 1111.04,862.041 1112.88,862.041 1114.71,862.041 1116.53,862.041 1118.35,862.041 1120.16,862.041 1121.97,862.041 1123.77,862.041 1125.57,862.041 1127.36,862.041 1129.14,862.041 1130.92,862.041 1132.7,862.041 1134.47,862.041 1136.24,862.041 1138,862.041 1139.75,862.041 1141.5,862.041 1143.25,862.041 1144.99,862.041 1146.72,862.041 1148.45,862.041 1150.18,862.041 1151.9,862.041 1153.62,862.041 1155.33,862.041 1157.03,862.041 1158.73,862.041 1160.43,862.041 1162.12,862.041 1163.81,862.041 1165.49,862.041 1167.16,862.041 1168.84,862.041 1170.5,862.041 1172.17,862.041 1173.83,862.041 1175.48,862.041 1177.13,862.041 1178.77,862.041 1180.41,862.041 1182.05,862.041 1183.68,862.041 1185.3,862.041 1186.92,862.041 1188.54,862.041 1190.15,862.041 1191.76,862.041 1193.37,862.041 1194.96,862.041 1196.56,862.041 1198.15,862.041 1199.74,862.041 1201.32,862.041 1202.89,862.041 1204.47,862.041 1206.04,862.041 1207.6,862.041 1209.16,862.041 1210.72,862.041 1212.27,862.041 1213.82,862.041 1215.36,862.041 1216.9,862.041 1218.43,862.041 1219.96,862.041 1221.49,862.041 1223.01,862.041 1224.53,862.041 1226.05,862.041 1227.56,862.041 1229.06,862.041 1230.57,862.041 1232.06,862.041 1233.56,862.041 1235.05,862.041 1236.53,862.041 1238.02,862.041 1239.5,862.041 1240.97,862.041 1242.44,862.041 1243.91,862.041 1245.37,862.041 1246.83,862.041 1248.28,862.041 1249.74,862.041 1251.18,862.041 1252.63,862.041 1254.07,862.041 1255.5,862.041 1256.94,862.041 1258.36,862.041 1259.79,862.041 1261.21,862.041 1262.63,862.041 1264.04,862.041 1265.45,862.041 1266.86,862.041 1268.26,862.041 1269.66,862.041 1271.06,862.041 1272.45,862.041 1273.84,862.041 1275.22,862.041 1276.6,862.041 1277.98,862.041 1279.36,862.041 1280.73,862.041 1282.09,862.041 1283.46,862.041 1284.82,862.041 1286.18,862.041 1287.53,862.041 1288.88,862.041 1290.23,862.041 1291.57,862.041 1292.91,862.041 1294.25,862.041 1295.58,862.041 1296.91,862.041 1298.24,862.041 1299.56,862.041 1300.88,862.041 1302.19,862.041 1303.51,862.041 1304.82,862.041 1306.12,862.041 1307.43,862.041 1308.73,862.041 1310.02,862.041 1311.32,862.041 1312.61,862.041 1313.9,862.041 1315.18,862.041 1316.46,862.041 1317.74,862.041 1319.01,862.041 1320.29,862.041 1321.55,862.041 1322.82,862.041 1324.08,862.041 1325.34,862.041 1326.6,862.041 1327.85,862.041 1329.1,862.041 1330.35,862.041 1331.59,862.041 1332.83,862.041 1334.07,862.041 1335.3,862.041 1336.54,862.041 1337.76,862.041 1338.99,862.041 1340.21,862.041 1341.43,862.041 1342.65,862.041 1343.86,862.041 1345.07,862.041 1346.28,862.041 1347.49,862.041 1348.69,862.041 1349.89,862.041 1351.09,862.041 1352.28,862.041 1353.47,862.041 1354.66,862.041 1355.85,862.041 1357.03,862.041 1358.21,862.041 1359.38,862.041 1360.56,862.041 1361.73,862.041 1362.9,862.041 1364.07,862.041 1365.23,862.041 1366.39,862.041 1367.55,862.041 1368.7,862.041 1369.85,862.041 1371,862.041 1372.15,862.041 1373.29,862.041 1374.44,862.041 1375.57,862.041 1376.71,862.041 1377.84,862.041 1378.98,862.041 1380.1,862.041 1381.23,862.041 1382.35,862.041 1383.47,862.041 1384.59,862.041 1385.71,862.041 1386.82,862.041 1387.93,862.041 1389.04,862.041 1390.14,862.041 1391.25,862.041 1392.35,862.041 1393.44,862.041 1394.54,862.041 1395.63,862.041 1396.72,862.041 1397.81,862.041 1398.89,862.041 1399.98,862.041 1401.06,862.041 1402.13,862.041 1403.21,862.041 1404.28,862.041 1405.35,862.041 1406.42,862.041 1407.49,862.041 1408.55,862.041 1409.61,862.041 1410.67,862.041 1411.73,862.041 1412.78,862.041 1413.83,862.041 1414.88,862.041 1415.93,862.041 1416.97,862.041 1418.01,862.041 1419.05,862.041 1420.09,862.041 1421.13,862.041 1422.16,862.041 1423.19,862.041 1424.22,862.041 1425.24,862.041 1426.27,862.041 1427.29,862.041 1428.31,862.041 1429.33,862.041 1430.34,862.041 1431.35,862.041 1432.36,862.041 1433.37,862.041 1434.38,862.041 1435.38,862.041 1436.38,862.041 1437.38,862.041 1438.38,862.041 1439.37,862.041 1440.37,862.041 1441.36,862.041 1442.35,862.041 1443.33,862.041 1444.32,862.041 1445.3,862.041 1446.28,862.041 1447.26,862.041 1448.23,862.041 1449.21,862.041 1450.18,862.041 1451.15,862.041 1452.11,862.041 1453.08,862.041 1454.04,862.041 1455,862.041 1455.96,862.041 1456.92,862.041 1457.87,862.041 1458.83,862.041 1459.78,862.041 1460.73,862.041 1461.67,862.041 1462.62,862.041 1463.56,862.041 1464.5,862.041 1465.44,862.041 1466.38,862.041 1467.31,862.041 1468.25,862.041 1469.18,862.041 1470.11,862.041 1471.03,862.041 1471.96,862.041 1472.88,862.041 1473.8,862.041 1474.72,862.041 1475.64,862.041 1476.56,862.041 1477.47,862.041 1478.38,862.041 1479.29,862.041 1480.2,862.041 1481.11,862.041 1482.01,862.041 1482.91,862.041 1483.81,862.041 1484.71,862.041 1485.61,862.041 1486.5,862.041 1487.4,862.041 1488.29,862.041 1489.18,862.041 1490.06,862.041 1490.95,862.041 1491.83,862.041 1492.72,862.041 1493.6,862.041 1494.48,862.041 1495.35,862.041 1496.23,862.041 1497.1,862.041 1497.97,862.041 1498.84,862.041 1499.71,862.041 1500.57,862.041 1501.44,862.041 1502.3,862.041 1503.16,862.041 1504.02,862.041 1504.88,862.041 1505.73,862.041 1506.59,862.041 1507.44,862.041 1508.29,862.041 1509.14,862.041 1509.99,862.041 1510.83,862.041 1511.68,862.041 1512.52,862.041 1513.36,862.041 1514.2,862.041 1515.03,862.041 1515.87,862.041 1516.7,862.041 1517.53,862.041 1518.36,862.041 1519.19,862.041 1520.02,862.041 1520.84,862.041 1521.67,862.041 1522.49,862.041 1523.31,862.041 1524.13,862.041 1524.95,862.041 1525.76,862.041 1526.58,862.041 1527.39,862.041 1528.2,862.041 1529.01,862.041 1529.82,862.041 1530.62,862.041 1531.43,862.041 1532.23,862.041 1533.03,862.041 1533.83,862.041 1534.63,862.041 1535.43,862.041 1536.22,862.041 1537.01,862.041 1537.81,862.041 1538.6,862.041 1539.39,862.041 1540.17,862.041 1540.96,862.041 1541.74,862.041 1542.53,862.041 1543.31,862.041 1544.09,862.041 1544.87,862.041 1545.64,862.041 1546.42,862.041 1547.19,862.041 1547.96,862.041 1548.73,862.041 1549.5,862.041 1550.27,862.041 1551.04,862.041 1551.8,862.041 1552.57,862.041 1553.33,862.041 1554.09,862.041 1554.85,862.041 1555.61,862.041 1556.36,862.041 1557.12,862.041 1557.87,862.041 1558.62,862.041 1559.37,862.041 1560.12,862.041 1560.87,862.041 1561.62,862.041 1562.36,862.041 1563.11,862.041 1563.85,862.041 1564.59,862.041 1565.33,862.041 1566.07,862.041 1566.8,862.041 1567.54,862.041 1568.27,862.041 1569,862.041 1569.73,862.041 1570.46,862.041 1571.19,862.041 1571.92,862.041 1572.65,862.041 1573.37,862.041 1574.09,862.041 1574.81,862.041 1575.54,862.041 1576.25,862.041 1576.97,862.041 1577.69,862.041 1578.4,862.041 1579.12,862.041 1579.83,862.041 1580.54,862.041 1581.25,862.041 1581.96,862.041 1582.67,862.041 1583.37,862.041 1584.08,862.041 1584.78,862.041 1585.48,862.041 1586.18,862.041 1586.88,862.041 1587.58,862.041 1588.28,862.041 1588.97,862.041 1589.67,862.041 1590.36,862.041 1591.05,862.041 1591.74,862.041 1592.43,862.041 1593.12,862.041 1593.81,862.041 1594.49,862.041 1595.18,862.041 1595.86,862.041 1596.54,862.041 1597.22,862.041 1597.9,862.041 1598.58,862.041 1599.26,862.041 1599.93,862.041 1600.61,862.041 1601.28,862.041 1601.95,862.041 1602.62,862.041 1603.29,862.041 1603.96,862.041 1604.63,862.041 1605.3,862.041 1605.96,862.041 1606.62,862.041 1607.29,862.041 1607.95,862.041 1608.61,862.041 1609.27,862.041 1609.93,862.041 1610.58,862.041 1611.24,862.041 1611.89,862.041 1612.55,862.041 1613.2,862.041 1613.85,862.041 1614.5,862.041 1615.15,862.041 1615.8,862.041 1616.44,862.041 1617.09,862.041 1617.73,862.041 1618.37,862.041 1619.02,862.041 1619.66,862.041 1620.3,862.041 1620.94,862.041 1621.57,862.041 1622.21,862.041 1622.84,862.041 1623.48,862.041 1624.11,862.041 1624.74,862.041 1625.37,862.041 1626,862.041 1626.63,862.041 1627.26,862.041 1627.89,862.041 1628.51,862.041 1629.14,862.041 1629.76,862.041 1630.38,862.041 1631,862.041 1631.62,862.041 1632.24,862.041 1632.86,862.041 1633.48,862.041 1634.09,862.041 1634.71,862.041 1635.32,862.041 1635.93,862.041 1636.55,862.041 1637.16,862.041 1637.77,862.041 1638.37,862.041 1638.98,862.041 1639.59,862.041 1640.19,862.041 1640.8,862.041 1641.4,862.041 1642,862.041 1642.6,862.041 1643.21,862.041 1643.8,862.041 1644.4,862.041 1645,862.041 1645.6,862.041 1646.19,862.041 1646.79,862.041 1647.38,862.041 1647.97,862.041 1648.56,862.041 1649.15,862.041 1649.74,862.041 1650.33,862.041 1650.92,862.041 1651.5,862.041 1652.09,862.041 1652.67,862.041 1653.26,862.041 \"/>\n",
       "<polyline clip-path=\"url(#clip662)\" style=\"stroke:#3da44d; stroke-linecap:round; stroke-linejoin:round; stroke-width:4; stroke-opacity:1; fill:none\" points=\"254.26,862.041 259.493,862.041 264.7,862.041 269.881,862.041 275.037,862.041 280.167,862.041 285.272,862.041 290.352,862.041 295.407,862.041 300.437,862.041 305.443,862.041 310.424,862.041 315.381,862.041 320.314,862.041 325.223,862.041 330.109,862.041 334.971,862.041 339.81,862.041 344.626,862.041 349.418,862.041 354.188,862.041 358.935,862.041 363.66,862.041 368.362,862.041 373.043,862.041 377.701,862.041 382.337,862.041 386.952,862.041 391.545,862.041 396.116,862.041 400.666,862.041 405.196,862.041 409.704,862.041 414.191,862.041 418.658,862.041 423.104,862.041 427.53,862.041 431.936,862.041 436.321,862.041 440.687,862.041 445.032,862.041 449.358,862.041 453.664,862.041 457.951,862.041 462.219,862.041 466.467,862.041 470.697,862.041 474.907,862.041 479.099,862.041 483.272,862.041 487.426,862.041 491.562,862.041 495.68,862.041 499.779,862.041 503.861,862.041 507.924,862.041 511.97,862.041 515.998,862.041 520.008,862.041 524.001,862.041 527.977,862.041 531.935,862.041 535.876,862.041 539.8,862.041 543.707,862.041 547.598,862.041 551.472,862.041 555.329,862.041 559.169,862.041 562.994,862.041 566.802,862.041 570.594,862.041 574.369,862.041 578.129,862.041 581.873,862.041 585.601,862.041 589.314,862.041 593.011,862.041 596.692,862.041 600.358,862.041 604.009,862.041 607.645,862.041 611.265,862.041 614.871,862.041 618.462,862.041 622.037,862.041 625.599,862.041 629.145,862.041 632.677,862.041 636.195,862.041 639.698,862.041 643.187,862.041 646.661,862.041 650.122,862.041 653.569,862.041 657.001,862.041 660.42,862.041 663.825,862.041 667.217,862.041 670.595,862.041 673.959,862.041 677.31,862.041 680.647,862.041 683.972,862.041 687.283,862.041 690.581,862.041 693.866,862.041 697.138,862.041 700.397,862.041 703.643,862.041 706.877,862.041 710.097,862.041 713.306,862.041 716.502,862.041 719.685,862.041 722.856,862.041 726.015,862.041 729.161,862.041 732.296,862.041 735.418,862.041 738.528,862.041 741.626,862.041 744.713,862.041 747.788,862.041 750.85,862.041 753.902,862.041 756.941,862.041 759.969,862.041 762.986,862.041 765.991,862.041 768.985,862.041 771.968,862.041 774.939,862.041 777.9,862.041 780.849,862.041 783.787,862.041 786.714,862.041 789.63,862.041 792.536,862.041 795.43,862.041 798.314,862.041 801.188,862.041 804.05,862.041 806.902,862.041 809.744,862.041 812.575,862.041 815.396,862.041 818.207,862.041 821.007,862.041 823.797,862.041 826.577,862.041 829.347,862.041 832.107,862.041 834.856,862.041 837.596,862.041 840.326,862.041 843.046,862.041 845.757,862.041 848.458,862.041 851.149,862.041 853.83,862.041 856.502,862.041 859.164,862.041 861.817,862.041 864.461,862.041 867.095,862.041 869.72,862.041 872.335,862.041 874.942,862.041 877.539,862.041 880.127,862.041 882.706,862.041 885.276,862.041 887.837,862.041 890.389,862.041 892.932,862.041 895.467,862.041 897.993,862.041 900.509,862.041 903.018,862.041 905.517,862.041 908.008,862.041 910.491,862.041 912.964,862.041 915.43,862.041 917.887,862.041 920.335,862.041 922.776,862.041 925.207,862.041 927.631,862.041 930.047,862.041 932.454,862.041 934.853,862.041 937.244,862.041 939.627,862.041 942.002,862.041 944.369,862.041 946.728,862.041 949.08,862.041 951.423,862.041 953.758,862.041 956.086,862.041 958.406,862.041 960.719,862.041 963.023,862.041 965.32,862.041 967.61,862.041 969.892,862.041 972.166,862.041 974.433,862.041 976.693,862.041 978.945,862.041 981.19,862.041 983.427,862.041 985.657,862.041 987.88,862.041 990.096,862.041 992.305,862.041 994.506,862.041 996.7,862.041 998.887,862.041 1001.07,862.041 1003.24,862.041 1005.41,862.041 1007.57,862.041 1009.72,862.041 1011.86,862.041 1014,862.041 1016.13,862.041 1018.26,862.041 1020.38,862.041 1022.49,862.041 1024.59,862.041 1026.69,862.041 1028.78,862.041 1030.87,862.041 1032.95,862.041 1035.02,862.041 1037.08,862.041 1039.14,862.041 1041.2,862.041 1043.24,862.041 1045.28,862.041 1047.32,862.041 1049.34,862.041 1051.36,862.041 1053.38,862.041 1055.39,862.041 1057.39,862.041 1059.38,862.041 1061.37,862.041 1063.36,862.041 1065.33,862.041 1067.31,862.041 1069.27,862.041 1071.23,862.041 1073.19,862.041 1075.13,862.041 1077.07,862.041 1079.01,862.041 1080.94,862.041 1082.86,862.041 1084.78,862.041 1086.69,862.041 1088.6,862.041 1090.5,862.041 1092.4,862.041 1094.29,862.041 1096.17,862.041 1098.05,862.041 1099.92,862.041 1101.79,862.041 1103.65,862.041 1105.51,862.041 1107.36,862.041 1109.2,862.041 1111.04,862.041 1112.88,862.041 1114.71,862.041 1116.53,862.041 1118.35,862.041 1120.16,862.041 1121.97,862.041 1123.77,862.041 1125.57,862.041 1127.36,862.041 1129.14,862.041 1130.92,862.041 1132.7,862.041 1134.47,862.041 1136.24,862.041 1138,862.041 1139.75,862.041 1141.5,862.041 1143.25,862.041 1144.99,862.041 1146.72,862.041 1148.45,862.041 1150.18,862.041 1151.9,862.041 1153.62,862.041 1155.33,862.041 1157.03,862.041 1158.73,862.041 1160.43,862.041 1162.12,862.041 1163.81,862.041 1165.49,862.041 1167.16,862.041 1168.84,862.041 1170.5,862.041 1172.17,862.041 1173.83,862.041 1175.48,862.041 1177.13,862.041 1178.77,862.041 1180.41,862.041 1182.05,862.041 1183.68,862.041 1185.3,862.041 1186.92,862.041 1188.54,862.041 1190.15,862.041 1191.76,862.041 1193.37,862.041 1194.96,862.041 1196.56,862.041 1198.15,862.041 1199.74,862.041 1201.32,862.041 1202.89,862.041 1204.47,862.041 1206.04,862.041 1207.6,862.041 1209.16,862.041 1210.72,862.041 1212.27,862.041 1213.82,862.041 1215.36,862.041 1216.9,862.041 1218.43,862.041 1219.96,862.041 1221.49,862.041 1223.01,862.041 1224.53,862.041 1226.05,862.041 1227.56,862.041 1229.06,862.041 1230.57,862.041 1232.06,862.041 1233.56,862.041 1235.05,862.041 1236.53,862.041 1238.02,862.041 1239.5,862.041 1240.97,862.041 1242.44,862.041 1243.91,862.041 1245.37,862.041 1246.83,862.041 1248.28,862.041 1249.74,862.041 1251.18,862.041 1252.63,862.041 1254.07,862.041 1255.5,862.041 1256.94,862.041 1258.36,862.041 1259.79,862.041 1261.21,862.041 1262.63,862.041 1264.04,862.041 1265.45,862.041 1266.86,862.041 1268.26,862.041 1269.66,862.041 1271.06,862.041 1272.45,862.041 1273.84,862.041 1275.22,862.041 1276.6,862.041 1277.98,862.041 1279.36,862.041 1280.73,862.041 1282.09,862.041 1283.46,862.041 1284.82,862.041 1286.18,862.041 1287.53,862.041 1288.88,862.041 1290.23,862.041 1291.57,862.041 1292.91,862.041 1294.25,862.041 1295.58,862.041 1296.91,862.041 1298.24,862.041 1299.56,862.041 1300.88,862.041 1302.19,862.041 1303.51,862.041 1304.82,862.041 1306.12,862.041 1307.43,862.041 1308.73,862.041 1310.02,862.041 1311.32,862.041 1312.61,862.041 1313.9,862.041 1315.18,862.041 1316.46,862.041 1317.74,862.041 1319.01,862.041 1320.29,862.041 1321.55,862.041 1322.82,862.041 1324.08,862.041 1325.34,862.041 1326.6,862.041 1327.85,862.041 1329.1,862.041 1330.35,862.041 1331.59,862.041 1332.83,862.041 1334.07,862.041 1335.3,862.041 1336.54,862.041 1337.76,862.041 1338.99,862.041 1340.21,862.041 1341.43,862.041 1342.65,862.041 1343.86,862.041 1345.07,862.041 1346.28,862.041 1347.49,862.041 1348.69,862.041 1349.89,862.041 1351.09,862.041 1352.28,862.041 1353.47,862.041 1354.66,862.041 1355.85,862.041 1357.03,862.041 1358.21,862.041 1359.38,862.041 1360.56,862.041 1361.73,862.041 1362.9,862.041 1364.07,862.041 1365.23,862.041 1366.39,862.041 1367.55,862.041 1368.7,862.041 1369.85,862.041 1371,862.041 1372.15,862.041 1373.29,862.041 1374.44,862.041 1375.57,862.041 1376.71,862.041 1377.84,862.041 1378.98,862.041 1380.1,862.041 1381.23,862.041 1382.35,862.041 1383.47,862.041 1384.59,862.041 1385.71,862.041 1386.82,862.041 1387.93,862.041 1389.04,862.041 1390.14,862.041 1391.25,862.041 1392.35,862.041 1393.44,862.041 1394.54,862.041 1395.63,862.041 1396.72,862.041 1397.81,862.041 1398.89,862.041 1399.98,862.041 1401.06,862.041 1402.13,862.041 1403.21,862.041 1404.28,862.041 1405.35,862.041 1406.42,862.041 1407.49,862.041 1408.55,862.041 1409.61,862.041 1410.67,862.041 1411.73,862.041 1412.78,862.041 1413.83,862.041 1414.88,862.041 1415.93,862.041 1416.97,862.041 1418.01,862.041 1419.05,862.041 1420.09,862.041 1421.13,862.041 1422.16,862.041 1423.19,862.041 1424.22,862.041 1425.24,862.041 1426.27,862.041 1427.29,862.041 1428.31,862.041 1429.33,862.041 1430.34,862.041 1431.35,862.041 1432.36,862.041 1433.37,862.041 1434.38,862.041 1435.38,862.041 1436.38,862.041 1437.38,862.041 1438.38,862.041 1439.37,862.041 1440.37,862.041 1441.36,862.041 1442.35,862.041 1443.33,862.041 1444.32,862.041 1445.3,862.041 1446.28,862.041 1447.26,862.041 1448.23,862.041 1449.21,862.041 1450.18,862.041 1451.15,862.041 1452.11,862.041 1453.08,862.041 1454.04,862.041 1455,862.041 1455.96,862.041 1456.92,862.041 1457.87,862.041 1458.83,862.041 1459.78,862.041 1460.73,862.041 1461.67,862.041 1462.62,862.041 1463.56,862.041 1464.5,862.041 1465.44,862.041 1466.38,862.041 1467.31,862.041 1468.25,862.041 1469.18,862.041 1470.11,862.041 1471.03,862.041 1471.96,862.041 1472.88,862.041 1473.8,862.041 1474.72,862.041 1475.64,862.041 1476.56,862.041 1477.47,862.041 1478.38,862.041 1479.29,862.041 1480.2,862.041 1481.11,862.041 1482.01,862.041 1482.91,862.041 1483.81,862.041 1484.71,862.041 1485.61,862.041 1486.5,862.041 1487.4,862.041 1488.29,862.041 1489.18,862.041 1490.06,862.041 1490.95,862.041 1491.83,862.041 1492.72,862.041 1493.6,862.041 1494.48,862.041 1495.35,862.041 1496.23,862.041 1497.1,862.041 1497.97,862.041 1498.84,862.041 1499.71,862.041 1500.57,862.041 1501.44,862.041 1502.3,862.041 1503.16,862.041 1504.02,862.041 1504.88,862.041 1505.73,862.041 1506.59,862.041 1507.44,862.041 1508.29,862.041 1509.14,862.041 1509.99,862.041 1510.83,862.041 1511.68,862.041 1512.52,862.041 1513.36,862.041 1514.2,862.041 1515.03,862.041 1515.87,862.041 1516.7,862.041 1517.53,862.041 1518.36,862.041 1519.19,862.041 1520.02,862.041 1520.84,862.041 1521.67,862.041 1522.49,862.041 1523.31,862.041 1524.13,862.041 1524.95,862.041 1525.76,862.041 1526.58,862.041 1527.39,862.041 1528.2,862.041 1529.01,862.041 1529.82,862.041 1530.62,862.041 1531.43,862.041 1532.23,862.041 1533.03,862.041 1533.83,862.041 1534.63,862.041 1535.43,862.041 1536.22,862.041 1537.01,862.041 1537.81,862.041 1538.6,862.041 1539.39,862.041 1540.17,862.041 1540.96,862.041 1541.74,862.041 1542.53,862.041 1543.31,862.041 1544.09,862.041 1544.87,862.041 1545.64,862.041 1546.42,862.041 1547.19,862.041 1547.96,862.041 1548.73,862.041 1549.5,862.041 1550.27,862.041 1551.04,862.041 1551.8,862.041 1552.57,862.041 1553.33,862.041 1554.09,862.041 1554.85,862.041 1555.61,862.041 1556.36,862.041 1557.12,862.041 1557.87,862.041 1558.62,862.041 1559.37,862.041 1560.12,862.041 1560.87,862.041 1561.62,862.041 1562.36,862.041 1563.11,862.041 1563.85,862.041 1564.59,862.041 1565.33,862.041 1566.07,862.041 1566.8,862.041 1567.54,862.041 1568.27,862.041 1569,862.041 1569.73,862.041 1570.46,862.041 1571.19,862.041 1571.92,862.041 1572.65,862.041 1573.37,862.041 1574.09,862.041 1574.81,862.041 1575.54,862.041 1576.25,862.041 1576.97,862.041 1577.69,862.041 1578.4,862.041 1579.12,862.041 1579.83,862.041 1580.54,862.041 1581.25,862.041 1581.96,862.041 1582.67,862.041 1583.37,862.041 1584.08,862.041 1584.78,862.041 1585.48,862.041 1586.18,862.041 1586.88,862.041 1587.58,862.041 1588.28,862.041 1588.97,862.041 1589.67,862.041 1590.36,862.041 1591.05,862.041 1591.74,862.041 1592.43,862.041 1593.12,862.041 1593.81,862.041 1594.49,862.041 1595.18,862.041 1595.86,862.041 1596.54,862.041 1597.22,862.041 1597.9,862.041 1598.58,862.041 1599.26,862.041 1599.93,862.041 1600.61,862.041 1601.28,862.041 1601.95,862.041 1602.62,862.041 1603.29,862.041 1603.96,862.041 1604.63,862.041 1605.3,862.041 1605.96,862.041 1606.62,862.041 1607.29,862.041 1607.95,862.041 1608.61,862.041 1609.27,862.041 1609.93,862.041 1610.58,862.041 1611.24,862.041 1611.89,862.041 1612.55,862.041 1613.2,862.041 1613.85,862.041 1614.5,862.041 1615.15,862.041 1615.8,862.041 1616.44,862.041 1617.09,862.041 1617.73,862.041 1618.37,862.041 1619.02,862.041 1619.66,862.041 1620.3,862.041 1620.94,862.041 1621.57,862.041 1622.21,862.041 1622.84,862.041 1623.48,862.041 1624.11,862.041 1624.74,862.041 1625.37,862.041 1626,862.041 1626.63,862.041 1627.26,862.041 1627.89,862.041 1628.51,862.041 1629.14,862.041 1629.76,862.041 1630.38,862.041 1631,862.041 1631.62,862.041 1632.24,862.041 1632.86,862.041 1633.48,862.041 1634.09,862.041 1634.71,862.041 1635.32,862.041 1635.93,862.041 1636.55,862.041 1637.16,862.041 1637.77,862.041 1638.37,862.041 1638.98,862.041 1639.59,862.041 1640.19,862.041 1640.8,862.041 1641.4,862.041 1642,862.041 1642.6,862.041 1643.21,862.041 1643.8,862.041 1644.4,862.041 1645,862.041 1645.6,862.041 1646.19,862.041 1646.79,862.041 1647.38,862.041 1647.97,862.041 1648.56,862.041 1649.15,862.041 1649.74,862.041 1650.33,862.041 1650.92,862.041 1651.5,862.041 1652.09,862.041 1652.67,862.041 1653.26,862.041 \"/>\n",
       "<polyline clip-path=\"url(#clip662)\" style=\"stroke:#c271d2; stroke-linecap:round; stroke-linejoin:round; stroke-width:4; stroke-opacity:1; fill:none\" points=\"254.26,862.041 259.493,862.041 264.7,862.041 269.881,862.041 275.037,862.041 280.167,862.041 285.272,862.041 290.352,862.041 295.407,862.041 300.437,862.041 305.443,862.041 310.424,862.041 315.381,862.041 320.314,862.041 325.223,862.041 330.109,862.041 334.971,862.041 339.81,862.04 344.626,862.04 349.418,862.04 354.188,862.04 358.935,862.04 363.66,862.04 368.362,862.04 373.043,862.039 377.701,862.039 382.337,862.039 386.952,862.038 391.545,862.037 396.116,862.036 400.666,862.035 405.196,862.034 409.704,862.032 414.191,862.029 418.658,862.026 423.104,862.023 427.53,862.018 431.936,862.013 436.321,862.006 440.687,861.998 445.032,861.988 449.358,861.976 453.664,861.962 457.951,861.945 462.219,861.925 466.467,861.901 470.697,861.873 474.907,861.839 479.099,861.799 483.272,861.753 487.426,861.699 491.562,861.635 495.68,861.562 499.779,861.476 503.861,861.378 507.924,861.264 511.97,861.133 515.998,860.984 520.008,860.813 524.001,860.618 527.977,860.396 531.935,860.145 535.876,859.86 539.8,859.54 543.707,859.179 547.598,858.775 551.472,858.322 555.329,857.816 559.169,857.253 562.994,856.627 566.802,855.934 570.594,855.167 574.369,854.321 578.129,853.39 581.873,852.367 585.601,851.247 589.314,850.022 593.011,848.686 596.692,847.233 600.358,845.654 604.009,843.944 607.645,842.095 611.265,840.101 614.871,837.954 618.462,835.648 622.037,833.176 625.599,830.532 629.145,827.71 632.677,824.705 636.195,821.51 639.698,818.121 643.187,814.534 646.661,810.745 650.122,806.751 653.569,802.55 657.001,798.139 660.42,793.519 663.825,788.688 667.217,783.648 670.595,778.401 673.959,772.95 677.31,767.297 680.647,761.45 683.972,755.412 687.283,749.193 690.581,742.799 693.866,736.241 697.138,729.528 700.397,722.673 703.643,715.689 706.877,708.59 710.097,701.39 713.306,694.106 716.502,686.755 719.685,679.355 722.856,671.926 726.015,664.487 729.161,657.059 732.296,649.664 735.418,642.323 738.528,635.061 741.626,627.899 744.713,620.861 747.788,613.972 750.85,607.255 753.902,600.734 756.941,594.435 759.969,588.381 762.986,582.595 765.991,577.102 768.985,571.924 771.968,567.084 774.939,562.604 777.9,558.505 780.849,554.807 783.787,551.53 786.714,548.692 789.63,546.311 792.536,544.402 795.43,542.98 798.314,542.059 801.188,541.65 804.05,541.765 806.902,542.412 809.744,543.6 812.575,545.333 815.396,547.616 818.207,550.453 821.007,553.843 823.797,557.787 826.577,562.283 829.347,567.327 832.107,572.912 834.856,579.033 837.596,585.681 840.326,592.846 843.046,600.516 845.757,608.679 848.458,617.32 851.149,626.424 853.83,635.974 856.502,645.951 859.164,656.338 861.817,667.114 864.461,678.259 867.095,689.749 869.72,701.564 872.335,713.679 874.942,726.072 877.539,738.717 880.127,751.591 882.706,764.667 885.276,777.922 887.837,791.329 890.389,804.864 892.932,818.501 895.467,832.215 897.993,845.98 900.509,859.772 903.018,873.567 905.517,887.34 908.008,901.068 910.491,914.728 912.964,928.297 915.43,941.754 917.887,955.077 920.335,968.247 922.776,981.243 925.207,994.047 927.631,1006.64 930.047,1019.01 932.454,1031.13 934.853,1043 937.244,1054.59 939.627,1065.9 942.002,1076.91 944.369,1087.61 946.728,1097.99 949.08,1108.04 951.423,1117.75 953.758,1127.12 956.086,1136.14 958.406,1144.81 960.719,1153.11 963.023,1161.04 965.32,1168.62 967.61,1175.82 969.892,1182.65 972.166,1189.11 974.433,1195.2 976.693,1200.92 978.945,1206.28 981.19,1211.27 983.427,1215.9 985.657,1220.18 987.88,1224.11 990.096,1227.68 992.305,1230.92 994.506,1233.82 996.7,1236.4 998.887,1238.65 1001.07,1240.59 1003.24,1242.23 1005.41,1243.56 1007.57,1244.61 1009.72,1245.37 1011.86,1245.87 1014,1246.1 1016.13,1246.07 1018.26,1245.8 1020.38,1245.3 1022.49,1244.57 1024.59,1243.62 1026.69,1242.47 1028.78,1241.11 1030.87,1239.57 1032.95,1237.85 1035.02,1235.96 1037.08,1233.92 1039.14,1231.71 1041.2,1229.37 1043.24,1226.9 1045.28,1224.29 1047.32,1221.58 1049.34,1218.75 1051.36,1215.83 1053.38,1212.81 1055.39,1209.72 1057.39,1206.54 1059.38,1203.3 1061.37,1200 1063.36,1196.64 1065.33,1193.23 1067.31,1189.78 1069.27,1186.3 1071.23,1182.79 1073.19,1179.26 1075.13,1175.71 1077.07,1172.14 1079.01,1168.57 1080.94,1165 1082.86,1161.43 1084.78,1157.87 1086.69,1154.32 1088.6,1150.78 1090.5,1147.26 1092.4,1143.76 1094.29,1140.29 1096.17,1136.85 1098.05,1133.44 1099.92,1130.06 1101.79,1126.72 1103.65,1123.42 1105.51,1120.16 1107.36,1116.94 1109.2,1113.77 1111.04,1110.64 1112.88,1107.56 1114.71,1104.53 1116.53,1101.55 1118.35,1098.62 1120.16,1095.74 1121.97,1092.92 1123.77,1090.15 1125.57,1087.43 1127.36,1084.77 1129.14,1082.17 1130.92,1079.62 1132.7,1077.12 1134.47,1074.68 1136.24,1072.29 1138,1069.96 1139.75,1067.69 1141.5,1065.47 1143.25,1063.3 1144.99,1061.19 1146.72,1059.13 1148.45,1057.12 1150.18,1055.17 1151.9,1053.26 1153.62,1051.41 1155.33,1049.61 1157.03,1047.86 1158.73,1046.16 1160.43,1044.5 1162.12,1042.9 1163.81,1041.34 1165.49,1039.82 1167.16,1038.35 1168.84,1036.93 1170.5,1035.55 1172.17,1034.21 1173.83,1032.91 1175.48,1031.65 1177.13,1030.43 1178.77,1029.25 1180.41,1028.11 1182.05,1027.01 1183.68,1025.94 1185.3,1024.91 1186.92,1023.91 1188.54,1022.94 1190.15,1022.01 1191.76,1021.11 1193.37,1020.24 1194.96,1019.4 1196.56,1018.59 1198.15,1017.81 1199.74,1017.05 1201.32,1016.32 1202.89,1015.62 1204.47,1014.94 1206.04,1014.29 1207.6,1013.66 1209.16,1013.06 1210.72,1012.47 1212.27,1011.91 1213.82,1011.37 1215.36,1010.85 1216.9,1010.35 1218.43,1009.86 1219.96,1009.4 1221.49,1008.95 1223.01,1008.52 1224.53,1008.11 1226.05,1007.71 1227.56,1007.33 1229.06,1006.96 1230.57,1006.61 1232.06,1006.27 1233.56,1005.95 1235.05,1005.63 1236.53,1005.33 1238.02,1005.05 1239.5,1004.77 1240.97,1004.5 1242.44,1004.25 1243.91,1004.01 1245.37,1003.77 1246.83,1003.55 1248.28,1003.33 1249.74,1003.12 1251.18,1002.93 1252.63,1002.74 1254.07,1002.55 1255.5,1002.38 1256.94,1002.21 1258.36,1002.05 1259.79,1001.9 1261.21,1001.75 1262.63,1001.61 1264.04,1001.48 1265.45,1001.35 1266.86,1001.23 1268.26,1001.11 1269.66,1000.99 1271.06,1000.89 1272.45,1000.78 1273.84,1000.68 1275.22,1000.59 1276.6,1000.5 1277.98,1000.41 1279.36,1000.33 1280.73,1000.25 1282.09,1000.17 1283.46,1000.1 1284.82,1000.03 1286.18,999.964 1287.53,999.901 1288.88,999.841 1290.23,999.783 1291.57,999.727 1292.91,999.675 1294.25,999.624 1295.58,999.576 1296.91,999.53 1298.24,999.486 1299.56,999.444 1300.88,999.404 1302.19,999.366 1303.51,999.329 1304.82,999.294 1306.12,999.261 1307.43,999.229 1308.73,999.199 1310.02,999.17 1311.32,999.143 1312.61,999.116 1313.9,999.091 1315.18,999.067 1316.46,999.044 1317.74,999.022 1319.01,999.002 1320.29,998.982 1321.55,998.963 1322.82,998.945 1324.08,998.927 1325.34,998.911 1326.6,998.895 1327.85,998.88 1329.1,998.866 1330.35,998.853 1331.59,998.84 1332.83,998.827 1334.07,998.816 1335.3,998.804 1336.54,998.794 1337.76,998.783 1338.99,998.774 1340.21,998.765 1341.43,998.756 1342.65,998.747 1343.86,998.739 1345.07,998.732 1346.28,998.724 1347.49,998.718 1348.69,998.711 1349.89,998.705 1351.09,998.699 1352.28,998.693 1353.47,998.688 1354.66,998.682 1355.85,998.678 1357.03,998.673 1358.21,998.668 1359.38,998.664 1360.56,998.66 1361.73,998.656 1362.9,998.653 1364.07,998.649 1365.23,998.646 1366.39,998.643 1367.55,998.64 1368.7,998.637 1369.85,998.634 1371,998.631 1372.15,998.629 1373.29,998.627 1374.44,998.624 1375.57,998.622 1376.71,998.62 1377.84,998.618 1378.98,998.616 1380.1,998.615 1381.23,998.613 1382.35,998.611 1383.47,998.61 1384.59,998.608 1385.71,998.607 1386.82,998.606 1387.93,998.605 1389.04,998.603 1390.14,998.602 1391.25,998.601 1392.35,998.6 1393.44,998.599 1394.54,998.598 1395.63,998.597 1396.72,998.597 1397.81,998.596 1398.89,998.595 1399.98,998.594 1401.06,998.594 1402.13,998.593 1403.21,998.592 1404.28,998.592 1405.35,998.591 1406.42,998.591 1407.49,998.59 1408.55,998.59 1409.61,998.589 1410.67,998.589 1411.73,998.588 1412.78,998.588 1413.83,998.588 1414.88,998.587 1415.93,998.587 1416.97,998.587 1418.01,998.586 1419.05,998.586 1420.09,998.586 1421.13,998.585 1422.16,998.585 1423.19,998.585 1424.22,998.585 1425.24,998.584 1426.27,998.584 1427.29,998.584 1428.31,998.584 1429.33,998.584 1430.34,998.584 1431.35,998.583 1432.36,998.583 1433.37,998.583 1434.38,998.583 1435.38,998.583 1436.38,998.583 1437.38,998.583 1438.38,998.582 1439.37,998.582 1440.37,998.582 1441.36,998.582 1442.35,998.582 1443.33,998.582 1444.32,998.582 1445.3,998.582 1446.28,998.582 1447.26,998.582 1448.23,998.582 1449.21,998.582 1450.18,998.581 1451.15,998.581 1452.11,998.581 1453.08,998.581 1454.04,998.581 1455,998.581 1455.96,998.581 1456.92,998.581 1457.87,998.581 1458.83,998.581 1459.78,998.581 1460.73,998.581 1461.67,998.581 1462.62,998.581 1463.56,998.581 1464.5,998.581 1465.44,998.581 1466.38,998.581 1467.31,998.581 1468.25,998.581 1469.18,998.581 1470.11,998.581 1471.03,998.581 1471.96,998.581 1472.88,998.581 1473.8,998.581 1474.72,998.581 1475.64,998.581 1476.56,998.581 1477.47,998.581 1478.38,998.581 1479.29,998.581 1480.2,998.581 1481.11,998.581 1482.01,998.58 1482.91,998.58 1483.81,998.58 1484.71,998.58 1485.61,998.58 1486.5,998.58 1487.4,998.58 1488.29,998.58 1489.18,998.58 1490.06,998.58 1490.95,998.58 1491.83,998.58 1492.72,998.58 1493.6,998.58 1494.48,998.58 1495.35,998.58 1496.23,998.58 1497.1,998.58 1497.97,998.58 1498.84,998.58 1499.71,998.58 1500.57,998.58 1501.44,998.58 1502.3,998.58 1503.16,998.58 1504.02,998.58 1504.88,998.58 1505.73,998.58 1506.59,998.58 1507.44,998.58 1508.29,998.58 1509.14,998.58 1509.99,998.58 1510.83,998.58 1511.68,998.58 1512.52,998.58 1513.36,998.58 1514.2,998.58 1515.03,998.58 1515.87,998.58 1516.7,998.58 1517.53,998.58 1518.36,998.58 1519.19,998.58 1520.02,998.58 1520.84,998.58 1521.67,998.58 1522.49,998.58 1523.31,998.58 1524.13,998.58 1524.95,998.58 1525.76,998.58 1526.58,998.58 1527.39,998.58 1528.2,998.58 1529.01,998.58 1529.82,998.58 1530.62,998.58 1531.43,998.58 1532.23,998.58 1533.03,998.58 1533.83,998.58 1534.63,998.58 1535.43,998.58 1536.22,998.58 1537.01,998.58 1537.81,998.58 1538.6,998.58 1539.39,998.58 1540.17,998.58 1540.96,998.58 1541.74,998.58 1542.53,998.58 1543.31,998.58 1544.09,998.58 1544.87,998.58 1545.64,998.58 1546.42,998.58 1547.19,998.58 1547.96,998.58 1548.73,998.58 1549.5,998.58 1550.27,998.58 1551.04,998.58 1551.8,998.58 1552.57,998.58 1553.33,998.58 1554.09,998.58 1554.85,998.58 1555.61,998.58 1556.36,998.58 1557.12,998.58 1557.87,998.58 1558.62,998.58 1559.37,998.58 1560.12,998.58 1560.87,998.58 1561.62,998.58 1562.36,998.58 1563.11,998.58 1563.85,998.58 1564.59,998.58 1565.33,998.58 1566.07,998.58 1566.8,998.58 1567.54,998.58 1568.27,998.58 1569,998.58 1569.73,998.58 1570.46,998.58 1571.19,998.58 1571.92,998.58 1572.65,998.58 1573.37,998.58 1574.09,998.58 1574.81,998.58 1575.54,998.58 1576.25,998.58 1576.97,998.58 1577.69,998.58 1578.4,998.58 1579.12,998.58 1579.83,998.58 1580.54,998.58 1581.25,998.58 1581.96,998.58 1582.67,998.58 1583.37,998.58 1584.08,998.58 1584.78,998.58 1585.48,998.58 1586.18,998.58 1586.88,998.58 1587.58,998.58 1588.28,998.58 1588.97,998.58 1589.67,998.58 1590.36,998.58 1591.05,998.58 1591.74,998.58 1592.43,998.58 1593.12,998.58 1593.81,998.58 1594.49,998.58 1595.18,998.58 1595.86,998.58 1596.54,998.58 1597.22,998.58 1597.9,998.58 1598.58,998.58 1599.26,998.58 1599.93,998.58 1600.61,998.58 1601.28,998.58 1601.95,998.58 1602.62,998.58 1603.29,998.58 1603.96,998.58 1604.63,998.58 1605.3,998.58 1605.96,998.58 1606.62,998.58 1607.29,998.58 1607.95,998.58 1608.61,998.58 1609.27,998.58 1609.93,998.58 1610.58,998.58 1611.24,998.58 1611.89,998.58 1612.55,998.58 1613.2,998.58 1613.85,998.58 1614.5,998.58 1615.15,998.58 1615.8,998.58 1616.44,998.58 1617.09,998.58 1617.73,998.58 1618.37,998.58 1619.02,998.58 1619.66,998.58 1620.3,998.58 1620.94,998.58 1621.57,998.58 1622.21,998.58 1622.84,998.58 1623.48,998.58 1624.11,998.58 1624.74,998.58 1625.37,998.58 1626,998.58 1626.63,998.58 1627.26,998.58 1627.89,998.58 1628.51,998.58 1629.14,998.58 1629.76,998.58 1630.38,998.58 1631,998.58 1631.62,998.58 1632.24,998.58 1632.86,998.58 1633.48,998.58 1634.09,998.58 1634.71,998.58 1635.32,998.58 1635.93,998.58 1636.55,998.58 1637.16,998.58 1637.77,998.58 1638.37,998.58 1638.98,998.58 1639.59,998.58 1640.19,998.58 1640.8,998.58 1641.4,998.58 1642,998.58 1642.6,998.58 1643.21,998.58 1643.8,998.58 1644.4,998.58 1645,998.58 1645.6,998.58 1646.19,998.58 1646.79,998.58 1647.38,998.58 1647.97,998.58 1648.56,998.58 1649.15,998.58 1649.74,998.58 1650.33,998.58 1650.92,998.58 1651.5,998.58 1652.09,998.58 1652.67,998.58 1653.26,998.58 \"/>\n",
       "<polyline clip-path=\"url(#clip662)\" style=\"stroke:#ac8d18; stroke-linecap:round; stroke-linejoin:round; stroke-width:4; stroke-opacity:1; fill:none\" points=\"254.26,862.041 259.493,862.041 264.7,862.041 269.881,862.041 275.037,862.041 280.167,862.041 285.272,862.041 290.352,862.041 295.407,862.041 300.437,862.041 305.443,862.041 310.424,862.041 315.381,862.041 320.314,862.041 325.223,862.04 330.109,862.04 334.971,862.04 339.81,862.04 344.626,862.04 349.418,862.04 354.188,862.04 358.935,862.04 363.66,862.039 368.362,862.039 373.043,862.038 377.701,862.037 382.337,862.037 386.952,862.035 391.545,862.034 396.116,862.032 400.666,862.029 405.196,862.026 409.704,862.022 414.191,862.017 418.658,862.011 423.104,862.004 427.53,861.995 431.936,861.984 436.321,861.97 440.687,861.953 445.032,861.934 449.358,861.909 453.664,861.881 457.951,861.846 462.219,861.805 466.467,861.756 470.697,861.698 474.907,861.629 479.099,861.549 483.272,861.454 487.426,861.343 491.562,861.214 495.68,861.064 499.779,860.89 503.861,860.688 507.924,860.456 511.97,860.19 515.998,859.884 520.008,859.535 524.001,859.136 527.977,858.683 531.935,858.17 535.876,857.589 539.8,856.934 543.707,856.197 547.598,855.37 551.472,854.444 555.329,853.41 559.169,852.258 562.994,850.977 566.802,849.557 570.594,847.987 574.369,846.254 578.129,844.346 581.873,842.25 585.601,839.953 589.314,837.442 593.011,834.701 596.692,831.718 600.358,828.477 604.009,824.965 607.645,821.166 611.265,817.066 614.871,812.65 618.462,807.905 622.037,802.817 625.599,797.371 629.145,791.555 632.677,785.358 636.195,778.766 639.698,771.771 643.187,764.361 646.661,756.529 650.122,748.267 653.569,739.57 657.001,730.433 660.42,720.853 663.825,710.829 667.217,700.362 670.595,689.454 673.959,678.11 677.31,666.337 680.647,654.143 683.972,641.539 687.283,628.539 690.581,615.158 693.866,601.413 697.138,587.326 700.397,572.917 703.643,558.213 706.877,543.24 710.097,528.027 713.306,512.606 716.502,497.01 719.685,481.274 722.856,465.437 726.015,449.536 729.161,433.614 732.296,417.712 735.418,401.875 738.528,386.146 741.626,370.572 744.713,355.201 747.788,340.078 750.85,325.253 753.902,310.773 756.941,296.688 759.969,283.043 762.986,269.889 765.991,257.271 768.985,245.236 771.968,233.83 774.939,223.096 777.9,213.078 780.849,203.815 783.787,195.349 786.714,187.716 789.63,180.951 792.536,175.087 795.43,170.154 798.314,166.182 801.188,163.193 804.05,161.212 806.902,160.256 809.744,160.343 812.575,161.486 815.396,163.694 818.207,166.975 821.007,171.332 823.797,176.765 826.577,183.273 829.347,190.848 832.107,199.482 834.856,209.162 837.596,219.873 840.326,231.597 843.046,244.312 845.757,257.995 848.458,272.618 851.149,288.153 853.83,304.567 856.502,321.827 859.164,339.897 861.817,358.738 864.461,378.31 867.095,398.571 869.72,419.479 872.335,440.989 874.942,463.054 877.539,485.629 880.127,508.665 882.706,532.115 885.276,555.929 887.837,580.058 890.389,604.454 892.932,629.067 895.467,653.849 897.993,678.749 900.509,703.722 903.018,728.718 905.517,753.691 908.008,778.595 910.491,803.386 912.964,828.019 915.43,852.452 917.887,876.644 920.335,900.556 922.776,924.148 925.207,947.385 927.631,970.232 930.047,992.655 932.454,1014.62 934.853,1036.11 937.244,1057.08 939.627,1077.51 942.002,1097.38 944.369,1116.67 946.728,1135.35 949.08,1153.41 951.423,1170.83 953.758,1187.6 956.086,1203.7 958.406,1219.13 960.719,1233.87 963.023,1247.91 965.32,1261.26 967.61,1273.91 969.892,1285.85 972.166,1297.09 974.433,1307.63 976.693,1317.47 978.945,1326.61 981.19,1335.05 983.427,1342.82 985.657,1349.9 987.88,1356.32 990.096,1362.08 992.305,1367.19 994.506,1371.67 996.7,1375.52 998.887,1378.77 1001.07,1381.42 1003.24,1383.49 1005.41,1385 1007.57,1385.97 1009.72,1386.4 1011.86,1386.31 1014,1385.73 1016.13,1384.67 1018.26,1383.16 1020.38,1381.19 1022.49,1378.81 1024.59,1376.02 1026.69,1372.84 1028.78,1369.29 1030.87,1365.39 1032.95,1361.16 1035.02,1356.62 1037.08,1351.78 1039.14,1346.66 1041.2,1341.28 1043.24,1335.65 1045.28,1329.8 1047.32,1323.74 1049.34,1317.48 1051.36,1311.05 1053.38,1304.45 1055.39,1297.7 1057.39,1290.83 1059.38,1283.83 1061.37,1276.73 1063.36,1269.54 1065.33,1262.27 1067.31,1254.93 1069.27,1247.54 1071.23,1240.11 1073.19,1232.65 1075.13,1225.16 1077.07,1217.67 1079.01,1210.18 1080.94,1202.69 1082.86,1195.22 1084.78,1187.78 1086.69,1180.38 1088.6,1173.01 1090.5,1165.69 1092.4,1158.43 1094.29,1151.23 1096.17,1144.1 1098.05,1137.03 1099.92,1130.05 1101.79,1123.15 1103.65,1116.33 1105.51,1109.61 1107.36,1102.98 1109.2,1096.44 1111.04,1090.01 1112.88,1083.68 1114.71,1077.46 1116.53,1071.34 1118.35,1065.33 1120.16,1059.43 1121.97,1053.65 1123.77,1047.97 1125.57,1042.42 1127.36,1036.97 1129.14,1031.64 1130.92,1026.43 1132.7,1021.33 1134.47,1016.34 1136.24,1011.48 1138,1006.72 1139.75,1002.08 1141.5,997.553 1143.25,993.138 1144.99,988.834 1146.72,984.641 1148.45,980.556 1150.18,976.58 1151.9,972.71 1153.62,968.945 1155.33,965.284 1157.03,961.725 1158.73,958.267 1160.43,954.907 1162.12,951.645 1163.81,948.479 1165.49,945.406 1167.16,942.425 1168.84,939.534 1170.5,936.732 1172.17,934.016 1173.83,931.385 1175.48,928.836 1177.13,926.369 1178.77,923.98 1180.41,921.669 1182.05,919.433 1183.68,917.27 1185.3,915.179 1186.92,913.158 1188.54,911.205 1190.15,909.318 1191.76,907.496 1193.37,905.736 1194.96,904.037 1196.56,902.397 1198.15,900.815 1199.74,899.289 1201.32,897.817 1202.89,896.398 1204.47,895.03 1206.04,893.711 1207.6,892.44 1209.16,891.216 1210.72,890.037 1212.27,888.902 1213.82,887.809 1215.36,886.757 1216.9,885.744 1218.43,884.77 1219.96,883.833 1221.49,882.931 1223.01,882.064 1224.53,881.231 1226.05,880.43 1227.56,879.66 1229.06,878.92 1230.57,878.209 1232.06,877.526 1233.56,876.87 1235.05,876.24 1236.53,875.636 1238.02,875.055 1239.5,874.498 1240.97,873.964 1242.44,873.451 1243.91,872.958 1245.37,872.486 1246.83,872.034 1248.28,871.6 1249.74,871.183 1251.18,870.784 1252.63,870.402 1254.07,870.035 1255.5,869.684 1256.94,869.348 1258.36,869.025 1259.79,868.716 1261.21,868.421 1262.63,868.137 1264.04,867.866 1265.45,867.607 1266.86,867.358 1268.26,867.12 1269.66,866.893 1271.06,866.675 1272.45,866.466 1273.84,866.267 1275.22,866.076 1276.6,865.894 1277.98,865.719 1279.36,865.552 1280.73,865.393 1282.09,865.24 1283.46,865.094 1284.82,864.955 1286.18,864.822 1287.53,864.694 1288.88,864.573 1290.23,864.456 1291.57,864.345 1292.91,864.239 1294.25,864.138 1295.58,864.041 1296.91,863.949 1298.24,863.86 1299.56,863.776 1300.88,863.695 1302.19,863.618 1303.51,863.545 1304.82,863.475 1306.12,863.408 1307.43,863.344 1308.73,863.283 1310.02,863.225 1311.32,863.17 1312.61,863.117 1313.9,863.066 1315.18,863.018 1316.46,862.972 1317.74,862.928 1319.01,862.886 1320.29,862.846 1321.55,862.808 1322.82,862.772 1324.08,862.738 1325.34,862.705 1326.6,862.673 1327.85,862.643 1329.1,862.614 1330.35,862.587 1331.59,862.561 1332.83,862.536 1334.07,862.513 1335.3,862.49 1336.54,862.469 1337.76,862.448 1338.99,862.429 1340.21,862.41 1341.43,862.393 1342.65,862.376 1343.86,862.36 1345.07,862.345 1346.28,862.33 1347.49,862.316 1348.69,862.303 1349.89,862.29 1351.09,862.278 1352.28,862.267 1353.47,862.256 1354.66,862.246 1355.85,862.236 1357.03,862.226 1358.21,862.217 1359.38,862.209 1360.56,862.201 1361.73,862.193 1362.9,862.186 1364.07,862.179 1365.23,862.172 1366.39,862.166 1367.55,862.16 1368.7,862.154 1369.85,862.148 1371,862.143 1372.15,862.138 1373.29,862.133 1374.44,862.129 1375.57,862.125 1376.71,862.121 1377.84,862.117 1378.98,862.113 1380.1,862.109 1381.23,862.106 1382.35,862.103 1383.47,862.1 1384.59,862.097 1385.71,862.094 1386.82,862.092 1387.93,862.089 1389.04,862.087 1390.14,862.085 1391.25,862.082 1392.35,862.08 1393.44,862.078 1394.54,862.077 1395.63,862.075 1396.72,862.073 1397.81,862.072 1398.89,862.07 1399.98,862.069 1401.06,862.067 1402.13,862.066 1403.21,862.065 1404.28,862.064 1405.35,862.062 1406.42,862.061 1407.49,862.06 1408.55,862.059 1409.61,862.059 1410.67,862.058 1411.73,862.057 1412.78,862.056 1413.83,862.055 1414.88,862.055 1415.93,862.054 1416.97,862.053 1418.01,862.053 1419.05,862.052 1420.09,862.051 1421.13,862.051 1422.16,862.05 1423.19,862.05 1424.22,862.05 1425.24,862.049 1426.27,862.049 1427.29,862.048 1428.31,862.048 1429.33,862.048 1430.34,862.047 1431.35,862.047 1432.36,862.047 1433.37,862.046 1434.38,862.046 1435.38,862.046 1436.38,862.045 1437.38,862.045 1438.38,862.045 1439.37,862.045 1440.37,862.045 1441.36,862.044 1442.35,862.044 1443.33,862.044 1444.32,862.044 1445.3,862.044 1446.28,862.044 1447.26,862.043 1448.23,862.043 1449.21,862.043 1450.18,862.043 1451.15,862.043 1452.11,862.043 1453.08,862.043 1454.04,862.043 1455,862.043 1455.96,862.042 1456.92,862.042 1457.87,862.042 1458.83,862.042 1459.78,862.042 1460.73,862.042 1461.67,862.042 1462.62,862.042 1463.56,862.042 1464.5,862.042 1465.44,862.042 1466.38,862.042 1467.31,862.042 1468.25,862.042 1469.18,862.042 1470.11,862.041 1471.03,862.041 1471.96,862.041 1472.88,862.041 1473.8,862.041 1474.72,862.041 1475.64,862.041 1476.56,862.041 1477.47,862.041 1478.38,862.041 1479.29,862.041 1480.2,862.041 1481.11,862.041 1482.01,862.041 1482.91,862.041 1483.81,862.041 1484.71,862.041 1485.61,862.041 1486.5,862.041 1487.4,862.041 1488.29,862.041 1489.18,862.041 1490.06,862.041 1490.95,862.041 1491.83,862.041 1492.72,862.041 1493.6,862.041 1494.48,862.041 1495.35,862.041 1496.23,862.041 1497.1,862.041 1497.97,862.041 1498.84,862.041 1499.71,862.041 1500.57,862.041 1501.44,862.041 1502.3,862.041 1503.16,862.041 1504.02,862.041 1504.88,862.041 1505.73,862.041 1506.59,862.041 1507.44,862.041 1508.29,862.041 1509.14,862.041 1509.99,862.041 1510.83,862.041 1511.68,862.041 1512.52,862.041 1513.36,862.041 1514.2,862.041 1515.03,862.041 1515.87,862.041 1516.7,862.041 1517.53,862.041 1518.36,862.041 1519.19,862.041 1520.02,862.041 1520.84,862.041 1521.67,862.041 1522.49,862.041 1523.31,862.041 1524.13,862.041 1524.95,862.041 1525.76,862.041 1526.58,862.041 1527.39,862.041 1528.2,862.041 1529.01,862.041 1529.82,862.041 1530.62,862.041 1531.43,862.041 1532.23,862.041 1533.03,862.041 1533.83,862.041 1534.63,862.041 1535.43,862.041 1536.22,862.041 1537.01,862.041 1537.81,862.041 1538.6,862.041 1539.39,862.041 1540.17,862.041 1540.96,862.041 1541.74,862.041 1542.53,862.041 1543.31,862.041 1544.09,862.041 1544.87,862.041 1545.64,862.041 1546.42,862.041 1547.19,862.041 1547.96,862.041 1548.73,862.041 1549.5,862.041 1550.27,862.041 1551.04,862.041 1551.8,862.041 1552.57,862.041 1553.33,862.041 1554.09,862.041 1554.85,862.041 1555.61,862.041 1556.36,862.041 1557.12,862.041 1557.87,862.041 1558.62,862.041 1559.37,862.041 1560.12,862.041 1560.87,862.041 1561.62,862.041 1562.36,862.041 1563.11,862.041 1563.85,862.041 1564.59,862.041 1565.33,862.041 1566.07,862.041 1566.8,862.041 1567.54,862.041 1568.27,862.041 1569,862.041 1569.73,862.041 1570.46,862.041 1571.19,862.041 1571.92,862.041 1572.65,862.041 1573.37,862.041 1574.09,862.041 1574.81,862.041 1575.54,862.041 1576.25,862.041 1576.97,862.041 1577.69,862.041 1578.4,862.041 1579.12,862.041 1579.83,862.041 1580.54,862.041 1581.25,862.041 1581.96,862.041 1582.67,862.041 1583.37,862.041 1584.08,862.041 1584.78,862.041 1585.48,862.041 1586.18,862.041 1586.88,862.041 1587.58,862.041 1588.28,862.041 1588.97,862.041 1589.67,862.041 1590.36,862.041 1591.05,862.041 1591.74,862.041 1592.43,862.041 1593.12,862.041 1593.81,862.041 1594.49,862.041 1595.18,862.041 1595.86,862.041 1596.54,862.041 1597.22,862.041 1597.9,862.041 1598.58,862.041 1599.26,862.041 1599.93,862.041 1600.61,862.041 1601.28,862.041 1601.95,862.041 1602.62,862.041 1603.29,862.041 1603.96,862.041 1604.63,862.041 1605.3,862.041 1605.96,862.041 1606.62,862.041 1607.29,862.041 1607.95,862.041 1608.61,862.041 1609.27,862.041 1609.93,862.041 1610.58,862.041 1611.24,862.041 1611.89,862.041 1612.55,862.041 1613.2,862.041 1613.85,862.041 1614.5,862.041 1615.15,862.041 1615.8,862.041 1616.44,862.041 1617.09,862.041 1617.73,862.041 1618.37,862.041 1619.02,862.041 1619.66,862.041 1620.3,862.041 1620.94,862.041 1621.57,862.041 1622.21,862.041 1622.84,862.041 1623.48,862.041 1624.11,862.041 1624.74,862.041 1625.37,862.041 1626,862.041 1626.63,862.041 1627.26,862.041 1627.89,862.041 1628.51,862.041 1629.14,862.041 1629.76,862.041 1630.38,862.041 1631,862.041 1631.62,862.041 1632.24,862.041 1632.86,862.041 1633.48,862.041 1634.09,862.041 1634.71,862.041 1635.32,862.041 1635.93,862.041 1636.55,862.041 1637.16,862.041 1637.77,862.041 1638.37,862.041 1638.98,862.041 1639.59,862.041 1640.19,862.041 1640.8,862.041 1641.4,862.041 1642,862.041 1642.6,862.041 1643.21,862.041 1643.8,862.041 1644.4,862.041 1645,862.041 1645.6,862.041 1646.19,862.041 1646.79,862.041 1647.38,862.041 1647.97,862.041 1648.56,862.041 1649.15,862.041 1649.74,862.041 1650.33,862.041 1650.92,862.041 1651.5,862.041 1652.09,862.041 1652.67,862.041 1653.26,862.041 \"/>\n",
       "<polyline clip-path=\"url(#clip662)\" style=\"stroke:#00a9ad; stroke-linecap:round; stroke-linejoin:round; stroke-width:4; stroke-opacity:1; fill:none\" points=\"254.26,862.041 259.493,862.041 264.7,862.041 269.881,862.041 275.037,862.041 280.167,862.041 285.272,862.041 290.352,862.041 295.407,862.041 300.437,862.041 305.443,862.041 310.424,862.041 315.381,862.041 320.314,862.041 325.223,862.041 330.109,862.041 334.971,862.041 339.81,862.041 344.626,862.041 349.418,862.041 354.188,862.041 358.935,862.041 363.66,862.041 368.362,862.041 373.043,862.041 377.701,862.041 382.337,862.041 386.952,862.041 391.545,862.041 396.116,862.041 400.666,862.041 405.196,862.041 409.704,862.041 414.191,862.041 418.658,862.041 423.104,862.041 427.53,862.041 431.936,862.041 436.321,862.041 440.687,862.041 445.032,862.041 449.358,862.041 453.664,862.041 457.951,862.041 462.219,862.041 466.467,862.041 470.697,862.041 474.907,862.041 479.099,862.041 483.272,862.041 487.426,862.041 491.562,862.041 495.68,862.041 499.779,862.041 503.861,862.041 507.924,862.041 511.97,862.041 515.998,862.041 520.008,862.041 524.001,862.041 527.977,862.041 531.935,862.041 535.876,862.041 539.8,862.041 543.707,862.041 547.598,862.041 551.472,862.041 555.329,862.041 559.169,862.041 562.994,862.041 566.802,862.041 570.594,862.041 574.369,862.041 578.129,862.041 581.873,862.041 585.601,862.041 589.314,862.041 593.011,862.041 596.692,862.041 600.358,862.041 604.009,862.041 607.645,862.041 611.265,862.041 614.871,862.041 618.462,862.041 622.037,862.041 625.599,862.041 629.145,862.041 632.677,862.041 636.195,862.041 639.698,862.041 643.187,862.041 646.661,862.041 650.122,862.041 653.569,862.041 657.001,862.041 660.42,862.041 663.825,862.041 667.217,862.041 670.595,862.041 673.959,862.041 677.31,862.041 680.647,862.041 683.972,862.041 687.283,862.041 690.581,862.041 693.866,862.041 697.138,862.041 700.397,862.041 703.643,862.041 706.877,862.041 710.097,862.041 713.306,862.041 716.502,862.041 719.685,862.041 722.856,862.041 726.015,862.041 729.161,862.041 732.296,862.041 735.418,862.041 738.528,862.041 741.626,862.041 744.713,862.041 747.788,862.041 750.85,862.041 753.902,862.041 756.941,862.041 759.969,862.041 762.986,862.041 765.991,862.041 768.985,862.041 771.968,862.041 774.939,862.041 777.9,862.041 780.849,862.041 783.787,862.041 786.714,862.041 789.63,862.041 792.536,862.041 795.43,862.041 798.314,862.041 801.188,862.041 804.05,862.041 806.902,862.041 809.744,862.041 812.575,862.041 815.396,862.041 818.207,862.041 821.007,862.041 823.797,862.041 826.577,862.041 829.347,862.041 832.107,862.041 834.856,862.041 837.596,862.041 840.326,862.041 843.046,862.041 845.757,862.041 848.458,862.041 851.149,862.041 853.83,862.041 856.502,862.041 859.164,862.041 861.817,862.041 864.461,862.041 867.095,862.041 869.72,862.041 872.335,862.041 874.942,862.041 877.539,862.041 880.127,862.041 882.706,862.041 885.276,862.041 887.837,862.041 890.389,862.041 892.932,862.041 895.467,862.041 897.993,862.041 900.509,862.041 903.018,862.041 905.517,862.041 908.008,862.041 910.491,862.041 912.964,862.041 915.43,862.041 917.887,862.041 920.335,862.041 922.776,862.041 925.207,862.041 927.631,862.041 930.047,862.041 932.454,862.041 934.853,862.041 937.244,862.041 939.627,862.041 942.002,862.041 944.369,862.041 946.728,862.041 949.08,862.041 951.423,862.041 953.758,862.041 956.086,862.041 958.406,862.041 960.719,862.041 963.023,862.041 965.32,862.041 967.61,862.041 969.892,862.041 972.166,862.041 974.433,862.041 976.693,862.041 978.945,862.041 981.19,862.041 983.427,862.041 985.657,862.041 987.88,862.041 990.096,862.041 992.305,862.041 994.506,862.041 996.7,862.041 998.887,862.041 1001.07,862.041 1003.24,862.041 1005.41,862.041 1007.57,862.041 1009.72,862.041 1011.86,862.041 1014,862.041 1016.13,862.041 1018.26,862.041 1020.38,862.041 1022.49,862.041 1024.59,862.041 1026.69,862.041 1028.78,862.041 1030.87,862.041 1032.95,862.041 1035.02,862.041 1037.08,862.041 1039.14,862.041 1041.2,862.041 1043.24,862.041 1045.28,862.041 1047.32,862.041 1049.34,862.041 1051.36,862.041 1053.38,862.041 1055.39,862.041 1057.39,862.041 1059.38,862.041 1061.37,862.041 1063.36,862.041 1065.33,862.041 1067.31,862.041 1069.27,862.041 1071.23,862.041 1073.19,862.041 1075.13,862.041 1077.07,862.041 1079.01,862.041 1080.94,862.041 1082.86,862.041 1084.78,862.041 1086.69,862.041 1088.6,862.041 1090.5,862.041 1092.4,862.041 1094.29,862.041 1096.17,862.041 1098.05,862.041 1099.92,862.041 1101.79,862.041 1103.65,862.041 1105.51,862.041 1107.36,862.041 1109.2,862.041 1111.04,862.041 1112.88,862.041 1114.71,862.041 1116.53,862.041 1118.35,862.041 1120.16,862.041 1121.97,862.041 1123.77,862.041 1125.57,862.041 1127.36,862.041 1129.14,862.041 1130.92,862.041 1132.7,862.041 1134.47,862.041 1136.24,862.041 1138,862.041 1139.75,862.041 1141.5,862.041 1143.25,862.041 1144.99,862.041 1146.72,862.041 1148.45,862.041 1150.18,862.041 1151.9,862.041 1153.62,862.041 1155.33,862.041 1157.03,862.041 1158.73,862.041 1160.43,862.041 1162.12,862.041 1163.81,862.041 1165.49,862.041 1167.16,862.041 1168.84,862.041 1170.5,862.041 1172.17,862.041 1173.83,862.041 1175.48,862.041 1177.13,862.041 1178.77,862.041 1180.41,862.041 1182.05,862.041 1183.68,862.041 1185.3,862.041 1186.92,862.041 1188.54,862.041 1190.15,862.041 1191.76,862.041 1193.37,862.041 1194.96,862.041 1196.56,862.041 1198.15,862.041 1199.74,862.041 1201.32,862.041 1202.89,862.041 1204.47,862.041 1206.04,862.041 1207.6,862.041 1209.16,862.041 1210.72,862.041 1212.27,862.041 1213.82,862.041 1215.36,862.041 1216.9,862.041 1218.43,862.041 1219.96,862.041 1221.49,862.041 1223.01,862.041 1224.53,862.041 1226.05,862.041 1227.56,862.041 1229.06,862.041 1230.57,862.041 1232.06,862.041 1233.56,862.041 1235.05,862.041 1236.53,862.041 1238.02,862.041 1239.5,862.041 1240.97,862.041 1242.44,862.041 1243.91,862.041 1245.37,862.041 1246.83,862.041 1248.28,862.041 1249.74,862.041 1251.18,862.041 1252.63,862.041 1254.07,862.041 1255.5,862.041 1256.94,862.041 1258.36,862.041 1259.79,862.041 1261.21,862.041 1262.63,862.041 1264.04,862.041 1265.45,862.041 1266.86,862.041 1268.26,862.041 1269.66,862.041 1271.06,862.041 1272.45,862.041 1273.84,862.041 1275.22,862.041 1276.6,862.041 1277.98,862.041 1279.36,862.041 1280.73,862.041 1282.09,862.041 1283.46,862.041 1284.82,862.041 1286.18,862.041 1287.53,862.041 1288.88,862.041 1290.23,862.041 1291.57,862.041 1292.91,862.041 1294.25,862.041 1295.58,862.041 1296.91,862.041 1298.24,862.041 1299.56,862.041 1300.88,862.041 1302.19,862.041 1303.51,862.041 1304.82,862.041 1306.12,862.041 1307.43,862.041 1308.73,862.041 1310.02,862.041 1311.32,862.041 1312.61,862.041 1313.9,862.041 1315.18,862.041 1316.46,862.041 1317.74,862.041 1319.01,862.041 1320.29,862.041 1321.55,862.041 1322.82,862.041 1324.08,862.041 1325.34,862.041 1326.6,862.041 1327.85,862.041 1329.1,862.041 1330.35,862.041 1331.59,862.041 1332.83,862.041 1334.07,862.041 1335.3,862.041 1336.54,862.041 1337.76,862.041 1338.99,862.041 1340.21,862.041 1341.43,862.041 1342.65,862.041 1343.86,862.041 1345.07,862.041 1346.28,862.041 1347.49,862.041 1348.69,862.041 1349.89,862.041 1351.09,862.041 1352.28,862.041 1353.47,862.041 1354.66,862.041 1355.85,862.041 1357.03,862.041 1358.21,862.041 1359.38,862.041 1360.56,862.041 1361.73,862.041 1362.9,862.041 1364.07,862.041 1365.23,862.041 1366.39,862.041 1367.55,862.041 1368.7,862.041 1369.85,862.041 1371,862.041 1372.15,862.041 1373.29,862.041 1374.44,862.041 1375.57,862.041 1376.71,862.041 1377.84,862.041 1378.98,862.041 1380.1,862.041 1381.23,862.041 1382.35,862.041 1383.47,862.041 1384.59,862.041 1385.71,862.041 1386.82,862.041 1387.93,862.041 1389.04,862.041 1390.14,862.041 1391.25,862.041 1392.35,862.041 1393.44,862.041 1394.54,862.041 1395.63,862.041 1396.72,862.041 1397.81,862.041 1398.89,862.041 1399.98,862.041 1401.06,862.041 1402.13,862.041 1403.21,862.041 1404.28,862.041 1405.35,862.041 1406.42,862.041 1407.49,862.041 1408.55,862.041 1409.61,862.041 1410.67,862.041 1411.73,862.041 1412.78,862.041 1413.83,862.041 1414.88,862.041 1415.93,862.041 1416.97,862.041 1418.01,862.041 1419.05,862.041 1420.09,862.041 1421.13,862.041 1422.16,862.041 1423.19,862.041 1424.22,862.041 1425.24,862.041 1426.27,862.041 1427.29,862.041 1428.31,862.041 1429.33,862.041 1430.34,862.041 1431.35,862.041 1432.36,862.041 1433.37,862.041 1434.38,862.041 1435.38,862.041 1436.38,862.041 1437.38,862.041 1438.38,862.041 1439.37,862.041 1440.37,862.041 1441.36,862.041 1442.35,862.041 1443.33,862.041 1444.32,862.041 1445.3,862.041 1446.28,862.041 1447.26,862.041 1448.23,862.041 1449.21,862.041 1450.18,862.041 1451.15,862.041 1452.11,862.041 1453.08,862.041 1454.04,862.041 1455,862.041 1455.96,862.041 1456.92,862.041 1457.87,862.041 1458.83,862.041 1459.78,862.041 1460.73,862.041 1461.67,862.041 1462.62,862.041 1463.56,862.041 1464.5,862.041 1465.44,862.041 1466.38,862.041 1467.31,862.041 1468.25,862.041 1469.18,862.041 1470.11,862.041 1471.03,862.041 1471.96,862.041 1472.88,862.041 1473.8,862.041 1474.72,862.041 1475.64,862.041 1476.56,862.041 1477.47,862.041 1478.38,862.041 1479.29,862.041 1480.2,862.041 1481.11,862.041 1482.01,862.041 1482.91,862.041 1483.81,862.041 1484.71,862.041 1485.61,862.041 1486.5,862.041 1487.4,862.041 1488.29,862.041 1489.18,862.041 1490.06,862.041 1490.95,862.041 1491.83,862.041 1492.72,862.041 1493.6,862.041 1494.48,862.041 1495.35,862.041 1496.23,862.041 1497.1,862.041 1497.97,862.041 1498.84,862.041 1499.71,862.041 1500.57,862.041 1501.44,862.041 1502.3,862.041 1503.16,862.041 1504.02,862.041 1504.88,862.041 1505.73,862.041 1506.59,862.041 1507.44,862.041 1508.29,862.041 1509.14,862.041 1509.99,862.041 1510.83,862.041 1511.68,862.041 1512.52,862.041 1513.36,862.041 1514.2,862.041 1515.03,862.041 1515.87,862.041 1516.7,862.041 1517.53,862.041 1518.36,862.041 1519.19,862.041 1520.02,862.041 1520.84,862.041 1521.67,862.041 1522.49,862.041 1523.31,862.041 1524.13,862.041 1524.95,862.041 1525.76,862.041 1526.58,862.041 1527.39,862.041 1528.2,862.041 1529.01,862.041 1529.82,862.041 1530.62,862.041 1531.43,862.041 1532.23,862.041 1533.03,862.041 1533.83,862.041 1534.63,862.041 1535.43,862.041 1536.22,862.041 1537.01,862.041 1537.81,862.041 1538.6,862.041 1539.39,862.041 1540.17,862.041 1540.96,862.041 1541.74,862.041 1542.53,862.041 1543.31,862.041 1544.09,862.041 1544.87,862.041 1545.64,862.041 1546.42,862.041 1547.19,862.041 1547.96,862.041 1548.73,862.041 1549.5,862.041 1550.27,862.041 1551.04,862.041 1551.8,862.041 1552.57,862.041 1553.33,862.041 1554.09,862.041 1554.85,862.041 1555.61,862.041 1556.36,862.041 1557.12,862.041 1557.87,862.041 1558.62,862.041 1559.37,862.041 1560.12,862.041 1560.87,862.041 1561.62,862.041 1562.36,862.041 1563.11,862.041 1563.85,862.041 1564.59,862.041 1565.33,862.041 1566.07,862.041 1566.8,862.041 1567.54,862.041 1568.27,862.041 1569,862.041 1569.73,862.041 1570.46,862.041 1571.19,862.041 1571.92,862.041 1572.65,862.041 1573.37,862.041 1574.09,862.041 1574.81,862.041 1575.54,862.041 1576.25,862.041 1576.97,862.041 1577.69,862.041 1578.4,862.041 1579.12,862.041 1579.83,862.041 1580.54,862.041 1581.25,862.041 1581.96,862.041 1582.67,862.041 1583.37,862.041 1584.08,862.041 1584.78,862.041 1585.48,862.041 1586.18,862.041 1586.88,862.041 1587.58,862.041 1588.28,862.041 1588.97,862.041 1589.67,862.041 1590.36,862.041 1591.05,862.041 1591.74,862.041 1592.43,862.041 1593.12,862.041 1593.81,862.041 1594.49,862.041 1595.18,862.041 1595.86,862.041 1596.54,862.041 1597.22,862.041 1597.9,862.041 1598.58,862.041 1599.26,862.041 1599.93,862.041 1600.61,862.041 1601.28,862.041 1601.95,862.041 1602.62,862.041 1603.29,862.041 1603.96,862.041 1604.63,862.041 1605.3,862.041 1605.96,862.041 1606.62,862.041 1607.29,862.041 1607.95,862.041 1608.61,862.041 1609.27,862.041 1609.93,862.041 1610.58,862.041 1611.24,862.041 1611.89,862.041 1612.55,862.041 1613.2,862.041 1613.85,862.041 1614.5,862.041 1615.15,862.041 1615.8,862.041 1616.44,862.041 1617.09,862.041 1617.73,862.041 1618.37,862.041 1619.02,862.041 1619.66,862.041 1620.3,862.041 1620.94,862.041 1621.57,862.041 1622.21,862.041 1622.84,862.041 1623.48,862.041 1624.11,862.041 1624.74,862.041 1625.37,862.041 1626,862.041 1626.63,862.041 1627.26,862.041 1627.89,862.041 1628.51,862.041 1629.14,862.041 1629.76,862.041 1630.38,862.041 1631,862.041 1631.62,862.041 1632.24,862.041 1632.86,862.041 1633.48,862.041 1634.09,862.041 1634.71,862.041 1635.32,862.041 1635.93,862.041 1636.55,862.041 1637.16,862.041 1637.77,862.041 1638.37,862.041 1638.98,862.041 1639.59,862.041 1640.19,862.041 1640.8,862.041 1641.4,862.041 1642,862.041 1642.6,862.041 1643.21,862.041 1643.8,862.041 1644.4,862.041 1645,862.041 1645.6,862.041 1646.19,862.041 1646.79,862.041 1647.38,862.041 1647.97,862.041 1648.56,862.041 1649.15,862.041 1649.74,862.041 1650.33,862.041 1650.92,862.041 1651.5,862.041 1652.09,862.041 1652.67,862.041 1653.26,862.041 \"/>\n",
       "<polyline clip-path=\"url(#clip662)\" style=\"stroke:#ed5d92; stroke-linecap:round; stroke-linejoin:round; stroke-width:4; stroke-opacity:1; fill:none\" points=\"254.26,862.041 259.493,862.041 264.7,862.041 269.881,862.041 275.037,862.041 280.167,862.041 285.272,862.041 290.352,862.041 295.407,862.041 300.437,862.041 305.443,862.041 310.424,862.041 315.381,862.041 320.314,862.041 325.223,862.041 330.109,862.041 334.971,862.041 339.81,862.041 344.626,862.041 349.418,862.041 354.188,862.041 358.935,862.041 363.66,862.041 368.362,862.041 373.043,862.041 377.701,862.041 382.337,862.041 386.952,862.041 391.545,862.041 396.116,862.041 400.666,862.04 405.196,862.04 409.704,862.04 414.191,862.04 418.658,862.04 423.104,862.04 427.53,862.04 431.936,862.04 436.321,862.04 440.687,862.04 445.032,862.039 449.358,862.039 453.664,862.039 457.951,862.038 462.219,862.038 466.467,862.037 470.697,862.036 474.907,862.035 479.099,862.034 483.272,862.033 487.426,862.031 491.562,862.029 495.68,862.027 499.779,862.025 503.861,862.021 507.924,862.018 511.97,862.014 515.998,862.009 520.008,862.003 524.001,861.996 527.977,861.988 531.935,861.979 535.876,861.969 539.8,861.957 543.707,861.943 547.598,861.928 551.472,861.91 555.329,861.89 559.169,861.867 562.994,861.841 566.802,861.812 570.594,861.778 574.369,861.741 578.129,861.7 581.873,861.653 585.601,861.601 589.314,861.542 593.011,861.478 596.692,861.406 600.358,861.326 604.009,861.238 607.645,861.141 611.265,861.033 614.871,860.916 618.462,860.787 622.037,860.645 625.599,860.49 629.145,860.322 632.677,860.138 636.195,859.938 639.698,859.722 643.187,859.487 646.661,859.233 650.122,858.959 653.569,858.664 657.001,858.347 660.42,858.006 663.825,857.641 667.217,857.25 670.595,856.833 673.959,856.387 677.31,855.913 680.647,855.409 683.972,854.874 687.283,854.306 690.581,853.706 693.866,853.072 697.138,852.403 700.397,851.698 703.643,850.957 706.877,850.179 710.097,849.363 713.306,848.509 716.502,847.616 719.685,846.684 722.856,845.712 726.015,844.701 729.161,843.65 732.296,842.559 735.418,841.428 738.528,840.258 741.626,839.049 744.713,837.801 747.788,836.514 750.85,835.191 753.902,833.83 756.941,832.434 759.969,831.004 762.986,829.539 765.991,828.043 768.985,826.516 771.968,824.959 774.939,823.375 777.9,821.764 780.849,820.13 783.787,818.473 786.714,816.796 789.63,815.101 792.536,813.391 795.43,811.667 798.314,809.931 801.188,808.187 804.05,806.437 806.902,804.683 809.744,802.928 812.575,801.175 815.396,799.425 818.207,797.683 821.007,795.95 823.797,794.23 826.577,792.524 829.347,790.836 832.107,789.168 834.856,787.523 837.596,785.903 840.326,784.312 843.046,782.751 845.757,781.223 848.458,779.731 851.149,778.276 853.83,776.862 856.502,775.489 859.164,774.16 861.817,772.878 864.461,771.644 867.095,770.46 869.72,769.327 872.335,768.247 874.942,767.221 877.539,766.252 880.127,765.339 882.706,764.485 885.276,763.69 887.837,762.954 890.389,762.28 892.932,761.666 895.467,761.115 897.993,760.625 900.509,760.198 903.018,759.834 905.517,759.532 908.008,759.292 910.491,759.115 912.964,758.999 915.43,758.944 917.887,758.951 920.335,759.017 922.776,759.143 925.207,759.328 927.631,759.57 930.047,759.869 932.454,760.223 934.853,760.632 937.244,761.094 939.627,761.607 942.002,762.171 944.369,762.784 946.728,763.444 949.08,764.15 951.423,764.901 953.758,765.694 956.086,766.529 958.406,767.403 960.719,768.314 963.023,769.262 965.32,770.244 967.61,771.258 969.892,772.303 972.166,773.377 974.433,774.478 976.693,775.605 978.945,776.755 981.19,777.928 983.427,779.12 985.657,780.332 987.88,781.56 990.096,782.803 992.305,784.06 994.506,785.329 996.7,786.608 998.887,787.896 1001.07,789.192 1003.24,790.493 1005.41,791.799 1007.57,793.108 1009.72,794.419 1011.86,795.73 1014,797.04 1016.13,798.348 1018.26,799.653 1020.38,800.954 1022.49,802.249 1024.59,803.537 1026.69,804.819 1028.78,806.091 1030.87,807.355 1032.95,808.608 1035.02,809.851 1037.08,811.081 1039.14,812.299 1041.2,813.504 1043.24,814.695 1045.28,815.872 1047.32,817.034 1049.34,818.181 1051.36,819.311 1053.38,820.426 1055.39,821.523 1057.39,822.604 1059.38,823.667 1061.37,824.713 1063.36,825.741 1065.33,826.751 1067.31,827.742 1069.27,828.715 1071.23,829.669 1073.19,830.605 1075.13,831.522 1077.07,832.421 1079.01,833.301 1080.94,834.162 1082.86,835.004 1084.78,835.828 1086.69,836.633 1088.6,837.419 1090.5,838.187 1092.4,838.937 1094.29,839.669 1096.17,840.383 1098.05,841.08 1099.92,841.758 1101.79,842.42 1103.65,843.064 1105.51,843.691 1107.36,844.302 1109.2,844.896 1111.04,845.474 1112.88,846.036 1114.71,846.582 1116.53,847.113 1118.35,847.628 1120.16,848.129 1121.97,848.615 1123.77,849.087 1125.57,849.545 1127.36,849.989 1129.14,850.42 1130.92,850.837 1132.7,851.242 1134.47,851.634 1136.24,852.013 1138,852.381 1139.75,852.737 1141.5,853.081 1143.25,853.414 1144.99,853.736 1146.72,854.048 1148.45,854.349 1150.18,854.641 1151.9,854.922 1153.62,855.194 1155.33,855.457 1157.03,855.71 1158.73,855.955 1160.43,856.191 1162.12,856.419 1163.81,856.639 1165.49,856.852 1167.16,857.056 1168.84,857.254 1170.5,857.444 1172.17,857.627 1173.83,857.804 1175.48,857.974 1177.13,858.138 1178.77,858.295 1180.41,858.447 1182.05,858.594 1183.68,858.734 1185.3,858.87 1186.92,859 1188.54,859.125 1190.15,859.246 1191.76,859.362 1193.37,859.473 1194.96,859.58 1196.56,859.683 1198.15,859.782 1199.74,859.877 1201.32,859.968 1202.89,860.056 1204.47,860.14 1206.04,860.221 1207.6,860.298 1209.16,860.373 1210.72,860.444 1212.27,860.513 1213.82,860.578 1215.36,860.642 1216.9,860.702 1218.43,860.76 1219.96,860.816 1221.49,860.869 1223.01,860.92 1224.53,860.969 1226.05,861.016 1227.56,861.061 1229.06,861.104 1230.57,861.145 1232.06,861.185 1233.56,861.223 1235.05,861.259 1236.53,861.294 1238.02,861.327 1239.5,861.359 1240.97,861.389 1242.44,861.419 1243.91,861.447 1245.37,861.473 1246.83,861.499 1248.28,861.523 1249.74,861.547 1251.18,861.569 1252.63,861.59 1254.07,861.611 1255.5,861.63 1256.94,861.649 1258.36,861.667 1259.79,861.684 1261.21,861.7 1262.63,861.716 1264.04,861.731 1265.45,861.745 1266.86,861.758 1268.26,861.771 1269.66,861.784 1271.06,861.796 1272.45,861.807 1273.84,861.818 1275.22,861.828 1276.6,861.838 1277.98,861.847 1279.36,861.856 1280.73,861.865 1282.09,861.873 1283.46,861.881 1284.82,861.888 1286.18,861.896 1287.53,861.902 1288.88,861.909 1290.23,861.915 1291.57,861.921 1292.91,861.927 1294.25,861.932 1295.58,861.937 1296.91,861.942 1298.24,861.947 1299.56,861.951 1300.88,861.955 1302.19,861.959 1303.51,861.963 1304.82,861.967 1306.12,861.97 1307.43,861.974 1308.73,861.977 1310.02,861.98 1311.32,861.983 1312.61,861.985 1313.9,861.988 1315.18,861.991 1316.46,861.993 1317.74,861.995 1319.01,861.997 1320.29,861.999 1321.55,862.001 1322.82,862.003 1324.08,862.005 1325.34,862.007 1326.6,862.008 1327.85,862.01 1329.1,862.011 1330.35,862.013 1331.59,862.014 1332.83,862.015 1334.07,862.017 1335.3,862.018 1336.54,862.019 1337.76,862.02 1338.99,862.021 1340.21,862.022 1341.43,862.023 1342.65,862.024 1343.86,862.024 1345.07,862.025 1346.28,862.026 1347.49,862.027 1348.69,862.027 1349.89,862.028 1351.09,862.029 1352.28,862.029 1353.47,862.03 1354.66,862.03 1355.85,862.031 1357.03,862.031 1358.21,862.032 1359.38,862.032 1360.56,862.033 1361.73,862.033 1362.9,862.033 1364.07,862.034 1365.23,862.034 1366.39,862.034 1367.55,862.035 1368.7,862.035 1369.85,862.035 1371,862.035 1372.15,862.036 1373.29,862.036 1374.44,862.036 1375.57,862.036 1376.71,862.037 1377.84,862.037 1378.98,862.037 1380.1,862.037 1381.23,862.037 1382.35,862.037 1383.47,862.038 1384.59,862.038 1385.71,862.038 1386.82,862.038 1387.93,862.038 1389.04,862.038 1390.14,862.038 1391.25,862.039 1392.35,862.039 1393.44,862.039 1394.54,862.039 1395.63,862.039 1396.72,862.039 1397.81,862.039 1398.89,862.039 1399.98,862.039 1401.06,862.039 1402.13,862.039 1403.21,862.039 1404.28,862.039 1405.35,862.04 1406.42,862.04 1407.49,862.04 1408.55,862.04 1409.61,862.04 1410.67,862.04 1411.73,862.04 1412.78,862.04 1413.83,862.04 1414.88,862.04 1415.93,862.04 1416.97,862.04 1418.01,862.04 1419.05,862.04 1420.09,862.04 1421.13,862.04 1422.16,862.04 1423.19,862.04 1424.22,862.04 1425.24,862.04 1426.27,862.04 1427.29,862.04 1428.31,862.04 1429.33,862.04 1430.34,862.04 1431.35,862.04 1432.36,862.04 1433.37,862.04 1434.38,862.04 1435.38,862.04 1436.38,862.04 1437.38,862.04 1438.38,862.04 1439.37,862.04 1440.37,862.04 1441.36,862.04 1442.35,862.04 1443.33,862.04 1444.32,862.04 1445.3,862.04 1446.28,862.04 1447.26,862.04 1448.23,862.04 1449.21,862.04 1450.18,862.04 1451.15,862.04 1452.11,862.04 1453.08,862.04 1454.04,862.04 1455,862.041 1455.96,862.041 1456.92,862.041 1457.87,862.041 1458.83,862.041 1459.78,862.041 1460.73,862.041 1461.67,862.041 1462.62,862.041 1463.56,862.041 1464.5,862.041 1465.44,862.041 1466.38,862.041 1467.31,862.041 1468.25,862.041 1469.18,862.041 1470.11,862.041 1471.03,862.041 1471.96,862.041 1472.88,862.041 1473.8,862.041 1474.72,862.041 1475.64,862.041 1476.56,862.041 1477.47,862.041 1478.38,862.041 1479.29,862.041 1480.2,862.041 1481.11,862.041 1482.01,862.041 1482.91,862.041 1483.81,862.041 1484.71,862.041 1485.61,862.041 1486.5,862.041 1487.4,862.041 1488.29,862.041 1489.18,862.041 1490.06,862.041 1490.95,862.041 1491.83,862.041 1492.72,862.041 1493.6,862.041 1494.48,862.041 1495.35,862.041 1496.23,862.041 1497.1,862.041 1497.97,862.041 1498.84,862.041 1499.71,862.041 1500.57,862.041 1501.44,862.041 1502.3,862.041 1503.16,862.041 1504.02,862.041 1504.88,862.041 1505.73,862.041 1506.59,862.041 1507.44,862.041 1508.29,862.041 1509.14,862.041 1509.99,862.041 1510.83,862.041 1511.68,862.041 1512.52,862.041 1513.36,862.041 1514.2,862.041 1515.03,862.041 1515.87,862.041 1516.7,862.041 1517.53,862.041 1518.36,862.041 1519.19,862.041 1520.02,862.041 1520.84,862.041 1521.67,862.041 1522.49,862.041 1523.31,862.041 1524.13,862.041 1524.95,862.041 1525.76,862.041 1526.58,862.041 1527.39,862.041 1528.2,862.041 1529.01,862.041 1529.82,862.041 1530.62,862.041 1531.43,862.041 1532.23,862.041 1533.03,862.041 1533.83,862.041 1534.63,862.041 1535.43,862.041 1536.22,862.041 1537.01,862.041 1537.81,862.041 1538.6,862.041 1539.39,862.041 1540.17,862.041 1540.96,862.041 1541.74,862.041 1542.53,862.041 1543.31,862.041 1544.09,862.041 1544.87,862.041 1545.64,862.041 1546.42,862.041 1547.19,862.041 1547.96,862.041 1548.73,862.041 1549.5,862.041 1550.27,862.041 1551.04,862.041 1551.8,862.041 1552.57,862.041 1553.33,862.041 1554.09,862.041 1554.85,862.041 1555.61,862.041 1556.36,862.041 1557.12,862.041 1557.87,862.041 1558.62,862.041 1559.37,862.041 1560.12,862.041 1560.87,862.041 1561.62,862.041 1562.36,862.041 1563.11,862.041 1563.85,862.041 1564.59,862.041 1565.33,862.041 1566.07,862.041 1566.8,862.041 1567.54,862.041 1568.27,862.041 1569,862.041 1569.73,862.041 1570.46,862.041 1571.19,862.041 1571.92,862.041 1572.65,862.041 1573.37,862.041 1574.09,862.041 1574.81,862.041 1575.54,862.041 1576.25,862.041 1576.97,862.041 1577.69,862.041 1578.4,862.041 1579.12,862.041 1579.83,862.041 1580.54,862.041 1581.25,862.041 1581.96,862.041 1582.67,862.041 1583.37,862.041 1584.08,862.041 1584.78,862.041 1585.48,862.041 1586.18,862.041 1586.88,862.041 1587.58,862.041 1588.28,862.041 1588.97,862.041 1589.67,862.041 1590.36,862.041 1591.05,862.041 1591.74,862.041 1592.43,862.041 1593.12,862.041 1593.81,862.041 1594.49,862.041 1595.18,862.041 1595.86,862.041 1596.54,862.041 1597.22,862.041 1597.9,862.041 1598.58,862.041 1599.26,862.041 1599.93,862.041 1600.61,862.041 1601.28,862.041 1601.95,862.041 1602.62,862.041 1603.29,862.041 1603.96,862.041 1604.63,862.041 1605.3,862.041 1605.96,862.041 1606.62,862.041 1607.29,862.041 1607.95,862.041 1608.61,862.041 1609.27,862.041 1609.93,862.041 1610.58,862.041 1611.24,862.041 1611.89,862.041 1612.55,862.041 1613.2,862.041 1613.85,862.041 1614.5,862.041 1615.15,862.041 1615.8,862.041 1616.44,862.041 1617.09,862.041 1617.73,862.041 1618.37,862.041 1619.02,862.041 1619.66,862.041 1620.3,862.041 1620.94,862.041 1621.57,862.041 1622.21,862.041 1622.84,862.041 1623.48,862.041 1624.11,862.041 1624.74,862.041 1625.37,862.041 1626,862.041 1626.63,862.041 1627.26,862.041 1627.89,862.041 1628.51,862.041 1629.14,862.041 1629.76,862.041 1630.38,862.041 1631,862.041 1631.62,862.041 1632.24,862.041 1632.86,862.041 1633.48,862.041 1634.09,862.041 1634.71,862.041 1635.32,862.041 1635.93,862.041 1636.55,862.041 1637.16,862.041 1637.77,862.041 1638.37,862.041 1638.98,862.041 1639.59,862.041 1640.19,862.041 1640.8,862.041 1641.4,862.041 1642,862.041 1642.6,862.041 1643.21,862.041 1643.8,862.041 1644.4,862.041 1645,862.041 1645.6,862.041 1646.19,862.041 1646.79,862.041 1647.38,862.041 1647.97,862.041 1648.56,862.041 1649.15,862.041 1649.74,862.041 1650.33,862.041 1650.92,862.041 1651.5,862.041 1652.09,862.041 1652.67,862.041 1653.26,862.041 \"/>\n",
       "<path clip-path=\"url(#clip660)\" d=\"M1877.98 581.516 L2282.81 581.516 L2282.81 166.796 L1877.98 166.796  Z\" fill=\"#ffffff\" fill-rule=\"evenodd\" fill-opacity=\"1\"/>\n",
       "<polyline clip-path=\"url(#clip660)\" style=\"stroke:#000000; stroke-linecap:round; stroke-linejoin:round; stroke-width:4; stroke-opacity:1; fill:none\" points=\"1877.98,581.516 2282.81,581.516 2282.81,166.796 1877.98,166.796 1877.98,581.516 \"/>\n",
       "<polyline clip-path=\"url(#clip660)\" style=\"stroke:#009af9; stroke-linecap:round; stroke-linejoin:round; stroke-width:4; stroke-opacity:1; fill:none\" points=\"1901.3,218.636 2041.2,218.636 \"/>\n",
       "<path clip-path=\"url(#clip660)\" d=\"M2084.86 214.967 Q2086.46 212.096 2088.68 210.731 Q2090.9 209.365 2093.91 209.365 Q2097.96 209.365 2100.16 212.212 Q2102.36 215.036 2102.36 220.268 L2102.36 235.916 L2098.08 235.916 L2098.08 220.407 Q2098.08 216.68 2096.76 214.874 Q2095.44 213.069 2092.73 213.069 Q2089.42 213.069 2087.5 215.268 Q2085.58 217.467 2085.58 221.263 L2085.58 235.916 L2081.3 235.916 L2081.3 220.407 Q2081.3 216.657 2079.98 214.874 Q2078.66 213.069 2075.9 213.069 Q2072.64 213.069 2070.72 215.291 Q2068.8 217.49 2068.8 221.263 L2068.8 235.916 L2064.51 235.916 L2064.51 209.99 L2068.8 209.99 L2068.8 214.018 Q2070.25 211.633 2072.29 210.499 Q2074.33 209.365 2077.13 209.365 Q2079.95 209.365 2081.92 210.8 Q2083.91 212.235 2084.86 214.967 Z\" fill=\"#000000\" fill-rule=\"evenodd\" fill-opacity=\"1\" /><polyline clip-path=\"url(#clip660)\" style=\"stroke:#e26f46; stroke-linecap:round; stroke-linejoin:round; stroke-width:4; stroke-opacity:1; fill:none\" points=\"1901.3,270.476 2041.2,270.476 \"/>\n",
       "<path clip-path=\"url(#clip660)\" d=\"M2083.29 274.816 Q2083.29 270.117 2081.34 267.455 Q2079.42 264.77 2076.04 264.77 Q2072.66 264.77 2070.72 267.455 Q2068.8 270.117 2068.8 274.816 Q2068.8 279.515 2070.72 282.2 Q2072.66 284.862 2076.04 284.862 Q2079.42 284.862 2081.34 282.2 Q2083.29 279.515 2083.29 274.816 M2068.8 265.765 Q2070.14 263.45 2072.18 262.339 Q2074.24 261.205 2077.08 261.205 Q2081.81 261.205 2084.74 264.955 Q2087.71 268.705 2087.71 274.816 Q2087.71 280.927 2084.74 284.677 Q2081.81 288.427 2077.08 288.427 Q2074.24 288.427 2072.18 287.316 Q2070.14 286.182 2068.8 283.867 L2068.8 287.756 L2064.51 287.756 L2064.51 251.737 L2068.8 251.737 L2068.8 265.765 Z\" fill=\"#000000\" fill-rule=\"evenodd\" fill-opacity=\"1\" /><path clip-path=\"url(#clip660)\" d=\"M2116.94 273.728 L2116.94 275.811 L2097.36 275.811 Q2097.64 280.209 2100 282.524 Q2102.38 284.816 2106.62 284.816 Q2109.07 284.816 2111.37 284.214 Q2113.68 283.612 2115.95 282.409 L2115.95 286.436 Q2113.66 287.408 2111.25 287.918 Q2108.84 288.427 2106.37 288.427 Q2100.16 288.427 2096.53 284.816 Q2092.92 281.205 2092.92 275.047 Q2092.92 268.682 2096.34 264.955 Q2099.79 261.205 2105.62 261.205 Q2110.86 261.205 2113.89 264.585 Q2116.94 267.941 2116.94 273.728 M2112.68 272.478 Q2112.64 268.983 2110.72 266.899 Q2108.82 264.816 2105.67 264.816 Q2102.11 264.816 2099.95 266.83 Q2097.82 268.844 2097.5 272.501 L2112.68 272.478 Z\" fill=\"#000000\" fill-rule=\"evenodd\" fill-opacity=\"1\" /><path clip-path=\"url(#clip660)\" d=\"M2128.15 254.469 L2128.15 261.83 L2136.92 261.83 L2136.92 265.14 L2128.15 265.14 L2128.15 279.214 Q2128.15 282.385 2129 283.288 Q2129.88 284.191 2132.55 284.191 L2136.92 284.191 L2136.92 287.756 L2132.55 287.756 Q2127.62 287.756 2125.74 285.927 Q2123.87 284.075 2123.87 279.214 L2123.87 265.14 L2120.74 265.14 L2120.74 261.83 L2123.87 261.83 L2123.87 254.469 L2128.15 254.469 Z\" fill=\"#000000\" fill-rule=\"evenodd\" fill-opacity=\"1\" /><path clip-path=\"url(#clip660)\" d=\"M2154.3 274.723 Q2149.14 274.723 2147.15 275.904 Q2145.16 277.084 2145.16 279.932 Q2145.16 282.2 2146.64 283.543 Q2148.15 284.862 2150.72 284.862 Q2154.26 284.862 2156.39 282.362 Q2158.54 279.839 2158.54 275.672 L2158.54 274.723 L2154.3 274.723 M2162.8 272.964 L2162.8 287.756 L2158.54 287.756 L2158.54 283.821 Q2157.08 286.182 2154.91 287.316 Q2152.73 288.427 2149.58 288.427 Q2145.6 288.427 2143.24 286.205 Q2140.9 283.959 2140.9 280.209 Q2140.9 275.834 2143.82 273.612 Q2146.76 271.39 2152.57 271.39 L2158.54 271.39 L2158.54 270.973 Q2158.54 268.034 2156.6 266.436 Q2154.68 264.816 2151.18 264.816 Q2148.96 264.816 2146.85 265.348 Q2144.74 265.881 2142.8 266.946 L2142.8 263.01 Q2145.14 262.108 2147.34 261.668 Q2149.54 261.205 2151.62 261.205 Q2157.24 261.205 2160.02 264.122 Q2162.8 267.038 2162.8 272.964 Z\" fill=\"#000000\" fill-rule=\"evenodd\" fill-opacity=\"1\" /><polyline clip-path=\"url(#clip660)\" style=\"stroke:#3da44d; stroke-linecap:round; stroke-linejoin:round; stroke-width:4; stroke-opacity:1; fill:none\" points=\"1901.3,322.316 2041.2,322.316 \"/>\n",
       "<path clip-path=\"url(#clip660)\" d=\"M2068.8 335.707 L2068.8 349.457 L2064.51 349.457 L2064.51 313.67 L2068.8 313.67 L2068.8 317.605 Q2070.14 315.29 2072.18 314.179 Q2074.24 313.045 2077.08 313.045 Q2081.81 313.045 2084.74 316.795 Q2087.71 320.545 2087.71 326.656 Q2087.71 332.767 2084.74 336.517 Q2081.81 340.267 2077.08 340.267 Q2074.24 340.267 2072.18 339.156 Q2070.14 338.022 2068.8 335.707 M2083.29 326.656 Q2083.29 321.957 2081.34 319.295 Q2079.42 316.61 2076.04 316.61 Q2072.66 316.61 2070.72 319.295 Q2068.8 321.957 2068.8 326.656 Q2068.8 331.355 2070.72 334.04 Q2072.66 336.702 2076.04 336.702 Q2079.42 336.702 2081.34 334.04 Q2083.29 331.355 2083.29 326.656 Z\" fill=\"#000000\" fill-rule=\"evenodd\" fill-opacity=\"1\" /><path clip-path=\"url(#clip660)\" d=\"M2111.3 314.434 L2111.3 318.462 Q2109.49 317.536 2107.55 317.073 Q2105.6 316.61 2103.52 316.61 Q2100.35 316.61 2098.75 317.582 Q2097.18 318.554 2097.18 320.499 Q2097.18 321.98 2098.31 322.837 Q2099.44 323.67 2102.87 324.434 L2104.33 324.758 Q2108.87 325.73 2110.76 327.512 Q2112.68 329.272 2112.68 332.443 Q2112.68 336.054 2109.81 338.161 Q2106.97 340.267 2101.97 340.267 Q2099.88 340.267 2097.62 339.85 Q2095.37 339.457 2092.87 338.647 L2092.87 334.249 Q2095.23 335.475 2097.52 336.1 Q2099.81 336.702 2102.06 336.702 Q2105.07 336.702 2106.69 335.684 Q2108.31 334.642 2108.31 332.767 Q2108.31 331.031 2107.13 330.105 Q2105.97 329.179 2102.01 328.323 L2100.53 327.975 Q2096.57 327.142 2094.81 325.429 Q2093.06 323.693 2093.06 320.684 Q2093.06 317.026 2095.65 315.036 Q2098.24 313.045 2103.01 313.045 Q2105.37 313.045 2107.45 313.392 Q2109.54 313.739 2111.3 314.434 Z\" fill=\"#000000\" fill-rule=\"evenodd\" fill-opacity=\"1\" /><path clip-path=\"url(#clip660)\" d=\"M2119.47 313.67 L2123.73 313.67 L2123.73 339.596 L2119.47 339.596 L2119.47 313.67 M2119.47 303.577 L2123.73 303.577 L2123.73 308.971 L2119.47 308.971 L2119.47 303.577 Z\" fill=\"#000000\" fill-rule=\"evenodd\" fill-opacity=\"1\" /><polyline clip-path=\"url(#clip660)\" style=\"stroke:#c271d2; stroke-linecap:round; stroke-linejoin:round; stroke-width:4; stroke-opacity:1; fill:none\" points=\"1901.3,374.156 2041.2,374.156 \"/>\n",
       "<path clip-path=\"url(#clip660)\" d=\"M2089.17 365.51 L2079.79 378.126 L2089.65 391.436 L2084.63 391.436 L2077.08 381.251 L2069.54 391.436 L2064.51 391.436 L2074.58 377.871 L2065.37 365.51 L2070.39 365.51 L2077.27 374.746 L2084.14 365.51 L2089.17 365.51 Z\" fill=\"#000000\" fill-rule=\"evenodd\" fill-opacity=\"1\" /><path clip-path=\"url(#clip660)\" d=\"M2117.22 365.51 L2107.85 378.126 L2117.71 391.436 L2112.68 391.436 L2105.14 381.251 L2097.59 391.436 L2092.57 391.436 L2102.64 377.871 L2093.43 365.51 L2098.45 365.51 L2105.32 374.746 L2112.2 365.51 L2117.22 365.51 Z\" fill=\"#000000\" fill-rule=\"evenodd\" fill-opacity=\"1\" /><path clip-path=\"url(#clip660)\" d=\"M2141.55 366.505 L2141.55 370.487 Q2139.74 369.491 2137.92 369.005 Q2136.11 368.496 2134.26 368.496 Q2130.12 368.496 2127.82 371.135 Q2125.53 373.751 2125.53 378.496 Q2125.53 383.241 2127.82 385.88 Q2130.12 388.496 2134.26 388.496 Q2136.11 388.496 2137.92 388.01 Q2139.74 387.501 2141.55 386.505 L2141.55 390.44 Q2139.77 391.274 2137.85 391.69 Q2135.95 392.107 2133.8 392.107 Q2127.94 392.107 2124.49 388.426 Q2121.04 384.746 2121.04 378.496 Q2121.04 372.153 2124.51 368.519 Q2128.01 364.885 2134.07 364.885 Q2136.04 364.885 2137.92 365.302 Q2139.79 365.695 2141.55 366.505 Z\" fill=\"#000000\" fill-rule=\"evenodd\" fill-opacity=\"1\" /><path clip-path=\"url(#clip660)\" d=\"M2170.51 375.788 L2170.51 391.436 L2166.25 391.436 L2166.25 375.927 Q2166.25 372.246 2164.81 370.417 Q2163.38 368.589 2160.51 368.589 Q2157.06 368.589 2155.07 370.788 Q2153.08 372.987 2153.08 376.783 L2153.08 391.436 L2148.8 391.436 L2148.8 355.417 L2153.08 355.417 L2153.08 369.538 Q2154.61 367.2 2156.67 366.042 Q2158.75 364.885 2161.46 364.885 Q2165.93 364.885 2168.22 367.663 Q2170.51 370.417 2170.51 375.788 Z\" fill=\"#000000\" fill-rule=\"evenodd\" fill-opacity=\"1\" /><path clip-path=\"url(#clip660)\" d=\"M2179 365.51 L2183.26 365.51 L2183.26 391.436 L2179 391.436 L2179 365.51 M2179 355.417 L2183.26 355.417 L2183.26 360.811 L2179 360.811 L2179 355.417 Z\" fill=\"#000000\" fill-rule=\"evenodd\" fill-opacity=\"1\" /><path clip-path=\"url(#clip660)\" d=\"M2193.26 385.556 L2198.15 385.556 L2198.15 389.538 L2194.35 396.945 L2191.36 396.945 L2193.26 389.538 L2193.26 385.556 Z\" fill=\"#000000\" fill-rule=\"evenodd\" fill-opacity=\"1\" /><path clip-path=\"url(#clip660)\" d=\"M2206.8 381.204 L2206.8 365.51 L2211.06 365.51 L2211.06 381.042 Q2211.06 384.723 2212.5 386.575 Q2213.93 388.403 2216.8 388.403 Q2220.25 388.403 2222.24 386.204 Q2224.26 384.005 2224.26 380.209 L2224.26 365.51 L2228.52 365.51 L2228.52 391.436 L2224.26 391.436 L2224.26 387.454 Q2222.71 389.815 2220.65 390.973 Q2218.61 392.107 2215.9 392.107 Q2211.43 392.107 2209.12 389.329 Q2206.8 386.551 2206.8 381.204 M2217.52 364.885 L2217.52 364.885 Z\" fill=\"#000000\" fill-rule=\"evenodd\" fill-opacity=\"1\" /><polyline clip-path=\"url(#clip660)\" style=\"stroke:#ac8d18; stroke-linecap:round; stroke-linejoin:round; stroke-width:4; stroke-opacity:1; fill:none\" points=\"1901.3,425.996 2041.2,425.996 \"/>\n",
       "<path clip-path=\"url(#clip660)\" d=\"M2083.43 421.285 L2083.43 407.257 L2087.68 407.257 L2087.68 443.276 L2083.43 443.276 L2083.43 439.387 Q2082.08 441.702 2080.02 442.836 Q2077.99 443.947 2075.12 443.947 Q2070.42 443.947 2067.45 440.197 Q2064.51 436.447 2064.51 430.336 Q2064.51 424.225 2067.45 420.475 Q2070.42 416.725 2075.12 416.725 Q2077.99 416.725 2080.02 417.859 Q2082.08 418.97 2083.43 421.285 M2068.91 430.336 Q2068.91 435.035 2070.83 437.72 Q2072.78 440.382 2076.16 440.382 Q2079.54 440.382 2081.48 437.72 Q2083.43 435.035 2083.43 430.336 Q2083.43 425.637 2081.48 422.975 Q2079.54 420.29 2076.16 420.29 Q2072.78 420.29 2070.83 422.975 Q2068.91 425.637 2068.91 430.336 Z\" fill=\"#000000\" fill-rule=\"evenodd\" fill-opacity=\"1\" /><path clip-path=\"url(#clip660)\" d=\"M2118.63 429.248 L2118.63 431.331 L2099.05 431.331 Q2099.33 435.729 2101.69 438.044 Q2104.07 440.336 2108.31 440.336 Q2110.76 440.336 2113.06 439.734 Q2115.37 439.132 2117.64 437.929 L2117.64 441.956 Q2115.35 442.928 2112.94 443.438 Q2110.53 443.947 2108.06 443.947 Q2101.85 443.947 2098.22 440.336 Q2094.61 436.725 2094.61 430.567 Q2094.61 424.202 2098.03 420.475 Q2101.48 416.725 2107.31 416.725 Q2112.55 416.725 2115.58 420.105 Q2118.63 423.461 2118.63 429.248 M2114.37 427.998 Q2114.33 424.503 2112.41 422.419 Q2110.51 420.336 2107.36 420.336 Q2103.8 420.336 2101.64 422.35 Q2099.51 424.364 2099.19 428.021 L2114.37 427.998 Z\" fill=\"#000000\" fill-rule=\"evenodd\" fill-opacity=\"1\" /><path clip-path=\"url(#clip660)\" d=\"M2140.65 421.331 Q2139.93 420.915 2139.07 420.73 Q2138.24 420.521 2137.22 420.521 Q2133.61 420.521 2131.67 422.882 Q2129.74 425.22 2129.74 429.618 L2129.74 443.276 L2125.46 443.276 L2125.46 417.35 L2129.74 417.35 L2129.74 421.378 Q2131.09 419.017 2133.24 417.882 Q2135.39 416.725 2138.47 416.725 Q2138.91 416.725 2139.44 416.794 Q2139.98 416.841 2140.62 416.956 L2140.65 421.331 Z\" fill=\"#000000\" fill-rule=\"evenodd\" fill-opacity=\"1\" /><path clip-path=\"url(#clip660)\" d=\"M2165.39 417.35 L2156.02 429.966 L2165.88 443.276 L2160.86 443.276 L2153.31 433.091 L2145.76 443.276 L2140.74 443.276 L2150.81 429.711 L2141.6 417.35 L2146.62 417.35 L2153.49 426.586 L2160.37 417.35 L2165.39 417.35 Z\" fill=\"#000000\" fill-rule=\"evenodd\" fill-opacity=\"1\" /><path clip-path=\"url(#clip660)\" d=\"M2193.45 417.35 L2184.07 429.966 L2193.93 443.276 L2188.91 443.276 L2181.36 433.091 L2173.82 443.276 L2168.8 443.276 L2178.86 429.711 L2169.65 417.35 L2174.68 417.35 L2181.55 426.586 L2188.42 417.35 L2193.45 417.35 Z\" fill=\"#000000\" fill-rule=\"evenodd\" fill-opacity=\"1\" /><path clip-path=\"url(#clip660)\" d=\"M2217.78 418.345 L2217.78 422.327 Q2215.97 421.331 2214.14 420.845 Q2212.34 420.336 2210.49 420.336 Q2206.34 420.336 2204.05 422.975 Q2201.76 425.591 2201.76 430.336 Q2201.76 435.081 2204.05 437.72 Q2206.34 440.336 2210.49 440.336 Q2212.34 440.336 2214.14 439.85 Q2215.97 439.341 2217.78 438.345 L2217.78 442.28 Q2215.99 443.114 2214.07 443.53 Q2212.17 443.947 2210.02 443.947 Q2204.17 443.947 2200.72 440.266 Q2197.27 436.586 2197.27 430.336 Q2197.27 423.993 2200.74 420.359 Q2204.24 416.725 2210.3 416.725 Q2212.27 416.725 2214.14 417.142 Q2216.02 417.535 2217.78 418.345 Z\" fill=\"#000000\" fill-rule=\"evenodd\" fill-opacity=\"1\" /><path clip-path=\"url(#clip660)\" d=\"M2246.73 427.628 L2246.73 443.276 L2242.48 443.276 L2242.48 427.767 Q2242.48 424.086 2241.04 422.257 Q2239.61 420.429 2236.73 420.429 Q2233.29 420.429 2231.3 422.628 Q2229.3 424.827 2229.3 428.623 L2229.3 443.276 L2225.02 443.276 L2225.02 407.257 L2229.3 407.257 L2229.3 421.378 Q2230.83 419.04 2232.89 417.882 Q2234.98 416.725 2237.68 416.725 Q2242.15 416.725 2244.44 419.503 Q2246.73 422.257 2246.73 427.628 Z\" fill=\"#000000\" fill-rule=\"evenodd\" fill-opacity=\"1\" /><path clip-path=\"url(#clip660)\" d=\"M2255.23 417.35 L2259.49 417.35 L2259.49 443.276 L2255.23 443.276 L2255.23 417.35 M2255.23 407.257 L2259.49 407.257 L2259.49 412.651 L2255.23 412.651 L2255.23 407.257 Z\" fill=\"#000000\" fill-rule=\"evenodd\" fill-opacity=\"1\" /><polyline clip-path=\"url(#clip660)\" style=\"stroke:#00a9ad; stroke-linecap:round; stroke-linejoin:round; stroke-width:4; stroke-opacity:1; fill:none\" points=\"1901.3,477.836 2041.2,477.836 \"/>\n",
       "<path clip-path=\"url(#clip660)\" d=\"M2068.8 491.227 L2068.8 504.977 L2064.51 504.977 L2064.51 469.19 L2068.8 469.19 L2068.8 473.125 Q2070.14 470.81 2072.18 469.699 Q2074.24 468.565 2077.08 468.565 Q2081.81 468.565 2084.74 472.315 Q2087.71 476.065 2087.71 482.176 Q2087.71 488.287 2084.74 492.037 Q2081.81 495.787 2077.08 495.787 Q2074.24 495.787 2072.18 494.676 Q2070.14 493.542 2068.8 491.227 M2083.29 482.176 Q2083.29 477.477 2081.34 474.815 Q2079.42 472.13 2076.04 472.13 Q2072.66 472.13 2070.72 474.815 Q2068.8 477.477 2068.8 482.176 Q2068.8 486.875 2070.72 489.56 Q2072.66 492.222 2076.04 492.222 Q2079.42 492.222 2081.34 489.56 Q2083.29 486.875 2083.29 482.176 Z\" fill=\"#000000\" fill-rule=\"evenodd\" fill-opacity=\"1\" /><path clip-path=\"url(#clip660)\" d=\"M2111.3 469.954 L2111.3 473.982 Q2109.49 473.056 2107.55 472.593 Q2105.6 472.13 2103.52 472.13 Q2100.35 472.13 2098.75 473.102 Q2097.18 474.074 2097.18 476.019 Q2097.18 477.5 2098.31 478.357 Q2099.44 479.19 2102.87 479.954 L2104.33 480.278 Q2108.87 481.25 2110.76 483.032 Q2112.68 484.792 2112.68 487.963 Q2112.68 491.574 2109.81 493.681 Q2106.97 495.787 2101.97 495.787 Q2099.88 495.787 2097.62 495.37 Q2095.37 494.977 2092.87 494.167 L2092.87 489.769 Q2095.23 490.995 2097.52 491.62 Q2099.81 492.222 2102.06 492.222 Q2105.07 492.222 2106.69 491.204 Q2108.31 490.162 2108.31 488.287 Q2108.31 486.551 2107.13 485.625 Q2105.97 484.699 2102.01 483.843 L2100.53 483.495 Q2096.57 482.662 2094.81 480.949 Q2093.06 479.213 2093.06 476.204 Q2093.06 472.546 2095.65 470.556 Q2098.24 468.565 2103.01 468.565 Q2105.37 468.565 2107.45 468.912 Q2109.54 469.259 2111.3 469.954 Z\" fill=\"#000000\" fill-rule=\"evenodd\" fill-opacity=\"1\" /><path clip-path=\"url(#clip660)\" d=\"M2119.47 469.19 L2123.73 469.19 L2123.73 495.116 L2119.47 495.116 L2119.47 469.19 M2119.47 459.097 L2123.73 459.097 L2123.73 464.491 L2119.47 464.491 L2119.47 459.097 Z\" fill=\"#000000\" fill-rule=\"evenodd\" fill-opacity=\"1\" /><path clip-path=\"url(#clip660)\" d=\"M2133.73 489.236 L2138.61 489.236 L2138.61 493.218 L2134.81 500.625 L2131.83 500.625 L2133.73 493.218 L2133.73 489.236 Z\" fill=\"#000000\" fill-rule=\"evenodd\" fill-opacity=\"1\" /><path clip-path=\"url(#clip660)\" d=\"M2162.73 473.171 Q2162.01 472.755 2161.16 472.57 Q2160.32 472.361 2159.3 472.361 Q2155.69 472.361 2153.75 474.722 Q2151.83 477.06 2151.83 481.458 L2151.83 495.116 L2147.55 495.116 L2147.55 469.19 L2151.83 469.19 L2151.83 473.218 Q2153.17 470.857 2155.32 469.722 Q2157.48 468.565 2160.55 468.565 Q2160.99 468.565 2161.53 468.634 Q2162.06 468.681 2162.71 468.796 L2162.73 473.171 Z\" fill=\"#000000\" fill-rule=\"evenodd\" fill-opacity=\"1\" /><polyline clip-path=\"url(#clip660)\" style=\"stroke:#ed5d92; stroke-linecap:round; stroke-linejoin:round; stroke-width:4; stroke-opacity:1; fill:none\" points=\"1901.3,529.676 2041.2,529.676 \"/>\n",
       "<path clip-path=\"url(#clip660)\" d=\"M2089.17 521.03 L2079.79 533.646 L2089.65 546.956 L2084.63 546.956 L2077.08 536.771 L2069.54 546.956 L2064.51 546.956 L2074.58 533.391 L2065.37 521.03 L2070.39 521.03 L2077.27 530.266 L2084.14 521.03 L2089.17 521.03 Z\" fill=\"#000000\" fill-rule=\"evenodd\" fill-opacity=\"1\" /><path clip-path=\"url(#clip660)\" d=\"M2117.22 521.03 L2107.85 533.646 L2117.71 546.956 L2112.68 546.956 L2105.14 536.771 L2097.59 546.956 L2092.57 546.956 L2102.64 533.391 L2093.43 521.03 L2098.45 521.03 L2105.32 530.266 L2112.2 521.03 L2117.22 521.03 Z\" fill=\"#000000\" fill-rule=\"evenodd\" fill-opacity=\"1\" /><path clip-path=\"url(#clip660)\" d=\"M2141.55 522.025 L2141.55 526.007 Q2139.74 525.011 2137.92 524.525 Q2136.11 524.016 2134.26 524.016 Q2130.12 524.016 2127.82 526.655 Q2125.53 529.271 2125.53 534.016 Q2125.53 538.761 2127.82 541.4 Q2130.12 544.016 2134.26 544.016 Q2136.11 544.016 2137.92 543.53 Q2139.74 543.021 2141.55 542.025 L2141.55 545.96 Q2139.77 546.794 2137.85 547.21 Q2135.95 547.627 2133.8 547.627 Q2127.94 547.627 2124.49 543.946 Q2121.04 540.266 2121.04 534.016 Q2121.04 527.673 2124.51 524.039 Q2128.01 520.405 2134.07 520.405 Q2136.04 520.405 2137.92 520.822 Q2139.79 521.215 2141.55 522.025 Z\" fill=\"#000000\" fill-rule=\"evenodd\" fill-opacity=\"1\" /><path clip-path=\"url(#clip660)\" d=\"M2170.51 531.308 L2170.51 546.956 L2166.25 546.956 L2166.25 531.447 Q2166.25 527.766 2164.81 525.937 Q2163.38 524.109 2160.51 524.109 Q2157.06 524.109 2155.07 526.308 Q2153.08 528.507 2153.08 532.303 L2153.08 546.956 L2148.8 546.956 L2148.8 510.937 L2153.08 510.937 L2153.08 525.058 Q2154.61 522.72 2156.67 521.562 Q2158.75 520.405 2161.46 520.405 Q2165.93 520.405 2168.22 523.183 Q2170.51 525.937 2170.51 531.308 Z\" fill=\"#000000\" fill-rule=\"evenodd\" fill-opacity=\"1\" /><path clip-path=\"url(#clip660)\" d=\"M2179 521.03 L2183.26 521.03 L2183.26 546.956 L2179 546.956 L2179 521.03 M2179 510.937 L2183.26 510.937 L2183.26 516.331 L2179 516.331 L2179 510.937 Z\" fill=\"#000000\" fill-rule=\"evenodd\" fill-opacity=\"1\" /></svg>\n"
      ]
     },
     "execution_count": 238,
     "metadata": {},
     "output_type": "execute_result"
    }
   ],
   "source": [
    "using Plots #showing initial data and the initial status of the horizon finder\n",
    "plot(compactify.(initX[4:L-3]), state_array[4:L-3,1:7], xaxis=\"r\",title=\"Initial Data\", labels=[\"m\" \"beta\" \"psi\" \"xxchi,u\" \"derxxchi\" \"psi,r\" \"xxchi\"],xlim=[0,1])"
   ]
  },
  {
   "cell_type": "code",
   "execution_count": 239,
   "id": "15bbf245",
   "metadata": {},
   "outputs": [],
   "source": [
    "function compactify(r)\n",
    "    return r/(1+r)\n",
    "end\n",
    "function uncompactify(x)\n",
    "    return x/(1-x)\n",
    "end;"
   ]
  },
  {
   "cell_type": "markdown",
   "id": "9b444ece",
   "metadata": {
    "papermill": {
     "duration": 0.009161,
     "end_time": "2023-03-28T18:06:25.373170",
     "exception": false,
     "start_time": "2023-03-28T18:06:25.364009",
     "status": "completed"
    },
    "tags": []
   },
   "source": [
    "# Defining the initial state array for the evolution m β Ψ and Ψ,x"
   ]
  },
  {
   "cell_type": "code",
   "execution_count": 240,
   "id": "9902ffab",
   "metadata": {
    "execution": {
     "iopub.execute_input": "2023-03-28T19:06:25.389000Z",
     "iopub.status.busy": "2023-03-28T19:06:25.388000Z",
     "iopub.status.idle": "2023-03-28T19:06:32.710000Z",
     "shell.execute_reply": "2023-03-28T19:06:32.710000Z"
    },
    "papermill": {
     "duration": 7.335269,
     "end_time": "2023-03-28T18:06:32.715990",
     "exception": false,
     "start_time": "2023-03-28T18:06:25.380721",
     "status": "completed"
    },
    "tags": []
   },
   "outputs": [],
   "source": [
    "using CSV, Tables\n",
    "#CSV.write(dir*\"/res$res/time_step0.csv\", Tables.table(state_array), writeheader=false)\n",
    "\n",
    "global files=[\"m\", \"beta\", \"psi\", \"deruxxchi\", \"derxxchi\", \"derpsi\", \"xxchi\"]\n",
    "\n",
    "\n",
    "print_muninn(files, 0, state_array[:,1:7],res,\"w\", state_array[:,8])"
   ]
  },
  {
   "cell_type": "code",
   "execution_count": 241,
   "id": "fff1426a",
   "metadata": {
    "execution": {
     "iopub.execute_input": "2023-03-28T19:06:33.154000Z",
     "iopub.status.busy": "2023-03-28T19:06:32.734000Z",
     "iopub.status.idle": "2023-03-28T19:06:33.884000Z",
     "shell.execute_reply": "2023-03-28T19:06:33.884000Z"
    },
    "papermill": {
     "duration": 1.164178,
     "end_time": "2023-03-28T18:06:33.889802",
     "exception": false,
     "start_time": "2023-03-28T18:06:32.725624",
     "status": "completed"
    },
    "tags": []
   },
   "outputs": [],
   "source": [
    "time=0.0\n",
    "criticality=0.0\n",
    "explode=0.0\n",
    "evol_stats = [criticality A sigma r0 time explode run]\n",
    "global monitor_ratio = zeros(L);\n",
    "#CSV.write(dir*\"/parameters.csv\", Tables.table(evol_stats), writeheader=true, header=[\"criticality\", \"A\", \"sigma\", \"r0\", \"time\", \"explode\", \"run\"])"
   ]
  },
  {
   "cell_type": "code",
   "execution_count": 242,
   "id": "9e9abd7d",
   "metadata": {},
   "outputs": [
    {
     "name": "stdout",
     "output_type": "stream",
     "text": [
      "1.9999999999999996\n"
     ]
    }
   ],
   "source": [
    "ginit=speed(initX,state_array[:,1],state_array[:,2])\n",
    "println(update_dt(initX,state_array[:,1],state_array[:,2],dx,ginit)/dt)"
   ]
  },
  {
   "cell_type": "code",
   "execution_count": 243,
   "id": "4e0df300",
   "metadata": {},
   "outputs": [
    {
     "data": {
      "text/plain": [
       "4"
      ]
     },
     "execution_count": 243,
     "metadata": {},
     "output_type": "execute_result"
    }
   ],
   "source": [
    "using Base.Threads\n",
    "Threads.nthreads()"
   ]
  },
  {
   "cell_type": "code",
   "execution_count": 244,
   "id": "27a5bccd",
   "metadata": {},
   "outputs": [
    {
     "data": {
      "text/plain": [
       "0.00025"
      ]
     },
     "execution_count": 244,
     "metadata": {},
     "output_type": "execute_result"
    }
   ],
   "source": [
    "dt=0.001/2^(m-1)"
   ]
  },
  {
   "cell_type": "code",
   "execution_count": null,
   "id": "6c80136f",
   "metadata": {},
   "outputs": [],
   "source": []
  },
  {
   "cell_type": "markdown",
   "id": "42e2c73d",
   "metadata": {
    "papermill": {
     "duration": 0.007626,
     "end_time": "2023-03-28T18:06:33.908346",
     "exception": false,
     "start_time": "2023-03-28T18:06:33.900720",
     "status": "completed"
    },
    "tags": []
   },
   "source": [
    " ## Time evolution"
   ]
  },
  {
   "cell_type": "markdown",
   "id": "7da47594",
   "metadata": {
    "papermill": {
     "duration": 0.007471,
     "end_time": "2023-03-28T18:06:33.923805",
     "exception": false,
     "start_time": "2023-03-28T18:06:33.916334",
     "status": "completed"
    },
    "tags": []
   },
   "source": [
    "fixed grid"
   ]
  },
  {
   "cell_type": "code",
   "execution_count": 245,
   "id": "fcb7ae3f",
   "metadata": {
    "execution": {
     "iopub.execute_input": "2023-03-28T19:06:33.940000Z",
     "iopub.status.busy": "2023-03-28T19:06:33.940000Z",
     "iopub.status.idle": "2023-03-28T21:02:19.379000Z",
     "shell.execute_reply": "2023-03-28T21:02:19.378000Z"
    },
    "papermill": {
     "duration": 6945.452732,
     "end_time": "2023-03-28T20:02:19.384591",
     "exception": false,
     "start_time": "2023-03-28T18:06:33.931859",
     "status": "completed"
    },
    "tags": []
   },
   "outputs": [
    {
     "name": "stdout",
     "output_type": "stream",
     "text": [
      "\n",
      "\n",
      "iteration 100 dt is 0.00025, t=0.02500000000000002 speed is 0.5000000000000001, dx/dt=10.0\n",
      "\n",
      "\n",
      "iteration 200 dt is 0.00025, t=0.05000000000000004 speed is 0.5000000000000001, dx/dt=10.0\n",
      "\n",
      "\n",
      "iteration 300 dt is 0.00025, t=0.07500000000000005 speed is 0.5000000000000001, dx/dt=10.0\n",
      "\n",
      "\n",
      "iteration 400 dt is 0.00025, t=0.10000000000000007 speed is 0.5000000000000001, dx/dt=10.0\n",
      "\n",
      "\n",
      "iteration 500 dt is 0.00025, t=0.12500000000000008 speed is 0.5000000000000001, dx/dt=10.0\n",
      "\n",
      "\n",
      "iteration 600 dt is 0.00025, t=0.1500000000000001 speed is 0.5000000000000001, dx/dt=10.0\n",
      "\n",
      "\n",
      "iteration 700 dt is 0.00025, t=0.17500000000000013 speed is 0.5000000000000001, dx/dt=10.0\n",
      "\n",
      "\n",
      "iteration 800 dt is 0.00025, t=0.20000000000000015 speed is 0.5000000000000001, dx/dt=10.0\n",
      "\n",
      "\n",
      "iteration 900 dt is 0.00025, t=0.22500000000000017 speed is 0.5000000000000001, dx/dt=10.0\n",
      "\n",
      "\n",
      "iteration 1000 dt is 0.00025, t=0.25000000000000017 speed is 0.5000000000000001, dx/dt=10.0\n",
      "\n",
      "\n",
      "iteration 1100 dt is 0.00025, t=0.2749999999999974 speed is 0.5000000000000001, dx/dt=10.0\n",
      "\n",
      "\n",
      "iteration 1200 dt is 0.00025, t=0.29999999999999466 speed is 0.5000000000000001, dx/dt=10.0\n",
      "\n",
      "\n",
      "iteration 1300 dt is 0.00025, t=0.3249999999999919 speed is 0.5000000000000001, dx/dt=10.0\n",
      "\n",
      "\n",
      "iteration 1400 dt is 0.00025, t=0.34999999999998915 speed is 0.5000000000000001, dx/dt=10.0\n",
      "\n",
      "\n",
      "iteration 1500 dt is 0.00025, t=0.3749999999999864 speed is 0.5000000000000001, dx/dt=10.0\n",
      "\n",
      "\n",
      "iteration 1600 dt is 0.00025, t=0.39999999999998365 speed is 0.5000000000000001, dx/dt=10.0\n",
      "\n",
      "\n",
      "iteration 1700 dt is 0.00025, t=0.4249999999999809 speed is 0.5000000000000001, dx/dt=10.0\n",
      "\n",
      "\n",
      "iteration 1800 dt is 0.00025, t=0.44999999999997814 speed is 0.5000000000000001, dx/dt=10.0\n",
      "\n",
      "\n",
      "iteration 1900 dt is 0.00025, t=0.4749999999999754 speed is 0.5000000000000001, dx/dt=10.0\n",
      "\n",
      "\n",
      "iteration 2000 dt is 0.00025, t=0.49999999999997263 speed is 0.5000000000000001, dx/dt=10.0\n",
      "\n",
      "\n",
      "iteration 2100 dt is 0.00025, t=0.5249999999999699 speed is 0.5000000000000001, dx/dt=10.0\n",
      "\n",
      "\n",
      "iteration 2200 dt is 0.00025, t=0.5499999999999672 speed is 0.5000000000000001, dx/dt=10.0\n",
      "\n",
      "\n",
      "iteration 2300 dt is 0.00025, t=0.5749999999999644 speed is 0.5000000000000001, dx/dt=10.0\n",
      "\n",
      "\n",
      "iteration 2400 dt is 0.00025, t=0.5999999999999617 speed is 0.5000000000000001, dx/dt=10.0\n",
      "\n",
      "\n",
      "iteration 2500 dt is 0.00025, t=0.6249999999999589 speed is 0.5000000000000001, dx/dt=10.0\n",
      "\n",
      "\n",
      "iteration 2600 dt is 0.00025, t=0.6499999999999562 speed is 0.5000000000000001, dx/dt=10.0\n",
      "\n",
      "\n",
      "iteration 2700 dt is 0.00025, t=0.6749999999999534 speed is 0.5000000000000001, dx/dt=10.0\n",
      "\n",
      "\n",
      "iteration 2800 dt is 0.00025, t=0.6999999999999507 speed is 0.5000000000000001, dx/dt=10.0\n",
      "\n",
      "\n",
      "iteration 2900 dt is 0.00025, t=0.7249999999999479 speed is 0.5000000000000001, dx/dt=10.0\n",
      "\n",
      "\n",
      "iteration 3000 dt is 0.00025, t=0.7499999999999452 speed is 0.5000000000000001, dx/dt=10.0\n",
      "\n",
      "\n",
      "iteration 3100 dt is 0.00025, t=0.7749999999999424 speed is 0.5000000000000001, dx/dt=10.0\n",
      "\n",
      "\n",
      "iteration 3200 dt is 0.00025, t=0.7999999999999396 speed is 0.5000000000000001, dx/dt=10.0\n",
      "\n",
      "\n",
      "iteration 3300 dt is 0.00025, t=0.8249999999999369 speed is 0.5000000000000001, dx/dt=10.0\n",
      "\n",
      "\n",
      "iteration 3400 dt is 0.00025, t=0.8499999999999341 speed is 0.5000000000000001, dx/dt=10.0\n",
      "\n",
      "\n",
      "iteration 3500 dt is 0.00025, t=0.8749999999999314 speed is 0.5000000000000001, dx/dt=10.0\n",
      "\n",
      "\n",
      "iteration 3600 dt is 0.00025, t=0.8999999999999286 speed is 0.5000000000000001, dx/dt=10.0\n",
      "\n",
      "\n",
      "iteration 3700 dt is 0.00025, t=0.9249999999999259 speed is 0.5000000000000001, dx/dt=10.0\n",
      "\n",
      "\n",
      "iteration 3800 dt is 0.00025, t=0.9499999999999231 speed is 0.5000000000000001, dx/dt=10.0\n",
      "\n",
      "\n",
      "iteration 3900 dt is 0.00025, t=0.9749999999999204 speed is 0.5000000000000001, dx/dt=10.0\n",
      "\n",
      "\n",
      "iteration 4000 dt is 0.00025, t=0.9999999999999176 speed is 0.5000000000000001, dx/dt=10.0\n",
      "\n",
      "\n",
      "iteration 4100 dt is 0.00025, t=1.024999999999926 speed is 0.5000000000000001, dx/dt=10.0\n",
      "\n",
      "\n",
      "iteration 4200 dt is 0.00025, t=1.0499999999999343 speed is 0.5000000000000001, dx/dt=10.0\n",
      "\n",
      "\n",
      "iteration 4300 dt is 0.00025, t=1.0749999999999427 speed is 0.5000000000000001, dx/dt=10.0\n",
      "\n",
      "\n",
      "iteration 4400 dt is 0.00025, t=1.099999999999951 speed is 0.5000000000000001, dx/dt=10.0\n",
      "\n",
      "\n",
      "iteration 4500 dt is 0.00025, t=1.1249999999999594 speed is 0.5000000000000001, dx/dt=10.0\n",
      "\n",
      "\n",
      "iteration 4600 dt is 0.00025, t=1.1499999999999677 speed is 0.5000000000000001, dx/dt=10.0\n",
      "\n",
      "\n",
      "iteration 4700 dt is 0.00025, t=1.174999999999976 speed is 0.5000000000000001, dx/dt=10.0\n",
      "\n",
      "\n",
      "iteration 4800 dt is 0.00025, t=1.1999999999999844 speed is 0.5000000000000001, dx/dt=10.0\n",
      "\n",
      "\n",
      "iteration 4900 dt is 0.00025, t=1.2249999999999928 speed is 0.5000000000000001, dx/dt=10.0\n",
      "\n",
      "\n",
      "iteration 5000 dt is 0.00025, t=1.250000000000001 speed is 0.5000000000000001, dx/dt=10.0\n",
      "\n",
      "\n",
      "iteration 5100 dt is 0.00025, t=1.2750000000000095 speed is 0.5000000000000001, dx/dt=10.0\n",
      "\n",
      "\n",
      "iteration 5200 dt is 0.00025, t=1.3000000000000178 speed is 0.5000000000000001, dx/dt=10.0\n",
      "\n",
      "\n",
      "iteration 5300 dt is 0.00025, t=1.3250000000000262 speed is 0.5000000000000001, dx/dt=10.0\n",
      "\n",
      "\n",
      "iteration 5400 dt is 0.00025, t=1.3500000000000345 speed is 0.5000000000000001, dx/dt=10.0\n",
      "\n",
      "\n",
      "iteration 5500 dt is 0.00025, t=1.3750000000000429 speed is 0.5000000000000001, dx/dt=10.0\n",
      "\n",
      "\n",
      "iteration 5600 dt is 0.00025, t=1.4000000000000512 speed is 0.5000000000000001, dx/dt=10.0\n",
      "\n",
      "\n",
      "iteration 5700 dt is 0.00025, t=1.4250000000000596 speed is 0.5000000000000001, dx/dt=10.0\n",
      "\n",
      "\n",
      "iteration 5800 dt is 0.00025, t=1.450000000000068 speed is 0.5000000000000001, dx/dt=10.0\n",
      "\n",
      "\n",
      "iteration 5900 dt is 0.00025, t=1.4750000000000763 speed is 0.5000000000000001, dx/dt=10.0\n",
      "\n",
      "\n",
      "iteration 6000 dt is 0.00025, t=1.5000000000000846 speed is 0.5000000000000001, dx/dt=10.0\n",
      "\n",
      "\n",
      "iteration 6100 dt is 0.00025, t=1.525000000000093 speed is 0.5000000000000001, dx/dt=10.0\n",
      "\n",
      "\n",
      "iteration 6200 dt is 0.00025, t=1.5500000000001013 speed is 0.5000000000000001, dx/dt=10.0\n",
      "\n",
      "\n",
      "iteration 6300 dt is 0.00025, t=1.5750000000001096 speed is 0.5000000000000001, dx/dt=10.0\n",
      "\n",
      "\n",
      "iteration 6400 dt is 0.00025, t=1.600000000000118 speed is 0.5000000000000001, dx/dt=10.0\n",
      "\n",
      "\n",
      "iteration 6500 dt is 0.00025, t=1.6250000000001263 speed is 0.5000000000000001, dx/dt=10.0\n",
      "\n",
      "\n",
      "iteration 6600 dt is 0.00025, t=1.6500000000001347 speed is 0.5000000000000001, dx/dt=10.0\n",
      "\n",
      "\n",
      "iteration 6700 dt is 0.00025, t=1.675000000000143 speed is 0.5000000000000001, dx/dt=10.0\n",
      "\n",
      "\n",
      "iteration 6800 dt is 0.00025, t=1.7000000000001514 speed is 0.5000000000000001, dx/dt=10.0\n",
      "\n",
      "\n",
      "iteration 6900 dt is 0.00025, t=1.7250000000001597 speed is 0.5000000000000001, dx/dt=10.0\n",
      "\n",
      "\n",
      "iteration 7000 dt is 0.00025, t=1.750000000000168 speed is 0.5000000000000001, dx/dt=10.0\n",
      "\n",
      "\n",
      "iteration 7100 dt is 0.00025, t=1.7750000000001764 speed is 0.5000000000000001, dx/dt=10.0\n",
      "\n",
      "\n",
      "iteration 7200 dt is 0.00025, t=1.8000000000001848 speed is 0.5000000000000001, dx/dt=10.0\n",
      "\n",
      "\n",
      "iteration 7300 dt is 0.00025, t=1.8250000000001931 speed is 0.5000000000000001, dx/dt=10.0\n",
      "\n",
      "\n",
      "iteration 7400 dt is 0.00025, t=1.8500000000002015 speed is 0.5000000000000001, dx/dt=10.0\n",
      "\n",
      "\n",
      "iteration 7500 dt is 0.00025, t=1.8750000000002098 speed is 0.5000000000000001, dx/dt=10.0\n",
      "\n",
      "\n",
      "iteration 7600 dt is 0.00025, t=1.9000000000002182 speed is 0.5000000000000001, dx/dt=10.0\n",
      "\n",
      "\n",
      "iteration 7700 dt is 0.00025, t=1.9250000000002265 speed is 0.5000000000000001, dx/dt=10.0\n",
      "\n",
      "\n",
      "iteration 7800 dt is 0.00025, t=1.9500000000002349 speed is 0.5000000000000001, dx/dt=10.0\n",
      "\n",
      "\n",
      "iteration 7900 dt is 0.00025, t=1.9750000000002432 speed is 0.5000000000000001, dx/dt=10.0\n",
      "\n",
      "\n",
      "iteration 8000 dt is 0.00025, t=2.0000000000002514 speed is 0.5000000000000001, dx/dt=10.0\n"
     ]
    }
   ],
   "source": [
    "finaltime=2\n",
    "evol_stats, T_interp = timeevolution(state_array,finaltime,run);\n",
    "#CSV.write(dir*\"/timearray$res.csv\", Tables.table(T_interp), writeheader=false);\n",
    "#CSV.write(dir*\"/parameters.csv\", Tables.table(evol_stats), writeheader=false);"
   ]
  },
  {
   "cell_type": "code",
   "execution_count": null,
   "id": "ef57be5a",
   "metadata": {},
   "outputs": [],
   "source": []
  },
  {
   "cell_type": "code",
   "execution_count": null,
   "id": "fa24f38b",
   "metadata": {},
   "outputs": [],
   "source": []
  },
  {
   "cell_type": "code",
   "execution_count": null,
   "id": "26374227",
   "metadata": {},
   "outputs": [],
   "source": []
  },
  {
   "cell_type": "code",
   "execution_count": null,
   "id": "b45c67a8",
   "metadata": {},
   "outputs": [],
   "source": []
  }
 ],
 "metadata": {
  "@webio": {
   "lastCommId": null,
   "lastKernelId": null
  },
  "kernelspec": {
   "display_name": "Julia 1.8.0",
   "language": "julia",
   "name": "julia-1.8"
  },
  "language_info": {
   "file_extension": ".jl",
   "mimetype": "application/julia",
   "name": "julia",
   "version": "1.8.0"
  },
  "papermill": {
   "default_parameters": {},
   "duration": 7025.507115,
   "end_time": "2023-03-28T20:03:06.430756",
   "environment_variables": {},
   "exception": null,
   "input_path": "Evolution_ScalarField.ipynb",
   "output_path": "Evolution_ScalarField.ipynb",
   "parameters": {
    "A": 0.001,
    "m": 3
   },
   "start_time": "2023-03-28T18:06:00.923641",
   "version": "2.4.0"
  }
 },
 "nbformat": 4,
 "nbformat_minor": 5
}
