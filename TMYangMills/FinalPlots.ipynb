{
 "cells": [
  {
   "cell_type": "markdown",
   "id": "3465d0ca",
   "metadata": {},
   "source": [
    "Reading data"
   ]
  },
  {
   "cell_type": "code",
   "execution_count": 1,
   "id": "91597f27",
   "metadata": {},
   "outputs": [
    {
     "data": {
      "text/plain": [
       "\"/home/rita13santos/Desktop/MSc Thesis\""
      ]
     },
     "execution_count": 1,
     "metadata": {},
     "output_type": "execute_result"
    }
   ],
   "source": [
    "global dir = \"/home/rita13santos/Desktop/MSc Thesis\""
   ]
  },
  {
   "cell_type": "code",
   "execution_count": 2,
   "id": "3ca9ac04",
   "metadata": {},
   "outputs": [
    {
     "data": {
      "text/plain": [
       "\"sans-serif\""
      ]
     },
     "execution_count": 2,
     "metadata": {},
     "output_type": "execute_result"
    }
   ],
   "source": [
    "using Plots\n",
    "default(:fontfamily)"
   ]
  },
  {
   "cell_type": "code",
   "execution_count": 5,
   "id": "a117608d",
   "metadata": {},
   "outputs": [],
   "source": [
    "f = open(dir*\"/Article/convergence4th/res1/m.txt\")\n",
    "close(f)"
   ]
  },
  {
   "cell_type": "code",
   "execution_count": 11,
   "id": "dc22075f",
   "metadata": {},
   "outputs": [
    {
     "name": "stdout",
     "output_type": "stream",
     "text": [
      "2.1723571676529848e-153"
     ]
    }
   ],
   "source": [
    "s = open(dir*\"/Article/convergence4th/res1/m.txt\") do file\n",
    "    a=read(file, Float64)\n",
    "    print(a)\n",
    "end"
   ]
  },
  {
   "cell_type": "code",
   "execution_count": null,
   "id": "25703562",
   "metadata": {},
   "outputs": [],
   "source": [
    "using Plots, LaTeXStrings\n",
    "plot(initX, state_array[:,4],linewidth=2, xticks=0:0.2:1,xlabel=\"-log(τ*-τ)\", labels=L\"\\epsilon^2=0\", framestyle = :box, color=:black)\n",
    "#plot!(initX, state_array[:,4],linewidth=2, xlims=(-0.5,8), xticks=0:2:10, xlabel=L\"-\\ln(\\tau_{*}-\\tau)\", ylabel=L\"\\max||\\delta\\psi||\", labels=L\"\\epsilon^2=0.99\", framestyle=:box, linestyle=:dashdotdot, color=:red4, xtickfont=font(12),     ytickfont=font(12), \n",
    "#   guidefont=font(12),    legendfont=font(10), legend=:topleft,background_color_legend = nothing)\n",
    "#savefig(\"PathToFigure/NameofFigure.svg\")"
   ]
  },
  {
   "cell_type": "code",
   "execution_count": 12,
   "id": "7df7de75",
   "metadata": {},
   "outputs": [
    {
     "ename": "LoadError",
     "evalue": "UndefVarError: default not defined",
     "output_type": "error",
     "traceback": [
      "UndefVarError: default not defined",
      "",
      "Stacktrace:",
      " [1] top-level scope",
      "   @ In[12]:1"
     ]
    }
   ],
   "source": [
    "default(:fontfamily)"
   ]
  },
  {
   "cell_type": "code",
   "execution_count": 8,
   "id": "1b17d55d",
   "metadata": {},
   "outputs": [
    {
     "ename": "LoadError",
     "evalue": "UndefVarError: a not defined",
     "output_type": "error",
     "traceback": [
      "UndefVarError: a not defined",
      ""
     ]
    }
   ],
   "source": [
    "a"
   ]
  },
  {
   "cell_type": "code",
   "execution_count": null,
   "id": "b31d09eb",
   "metadata": {},
   "outputs": [],
   "source": []
  },
  {
   "cell_type": "code",
   "execution_count": null,
   "id": "95f9fd31",
   "metadata": {},
   "outputs": [],
   "source": []
  },
  {
   "cell_type": "code",
   "execution_count": null,
   "id": "0b957c4e",
   "metadata": {},
   "outputs": [],
   "source": []
  },
  {
   "cell_type": "code",
   "execution_count": null,
   "id": "4435fca6",
   "metadata": {},
   "outputs": [],
   "source": []
  },
  {
   "cell_type": "code",
   "execution_count": null,
   "id": "53885478",
   "metadata": {},
   "outputs": [],
   "source": []
  },
  {
   "cell_type": "code",
   "execution_count": null,
   "id": "d2ee4f20",
   "metadata": {},
   "outputs": [],
   "source": []
  },
  {
   "cell_type": "code",
   "execution_count": null,
   "id": "24118803",
   "metadata": {},
   "outputs": [],
   "source": []
  },
  {
   "cell_type": "code",
   "execution_count": null,
   "id": "e2b8a88d",
   "metadata": {},
   "outputs": [],
   "source": []
  },
  {
   "cell_type": "code",
   "execution_count": null,
   "id": "b212dd67",
   "metadata": {},
   "outputs": [],
   "source": []
  }
 ],
 "metadata": {
  "kernelspec": {
   "display_name": "Julia 1.8.0",
   "language": "julia",
   "name": "julia-1.8"
  },
  "language_info": {
   "file_extension": ".jl",
   "mimetype": "application/julia",
   "name": "julia",
   "version": "1.8.0"
  }
 },
 "nbformat": 4,
 "nbformat_minor": 5
}
