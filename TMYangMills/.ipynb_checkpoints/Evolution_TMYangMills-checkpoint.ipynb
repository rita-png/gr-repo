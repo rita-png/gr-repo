{
 "cells": [
  {
   "cell_type": "markdown",
   "id": "d88601a8",
   "metadata": {
    "papermill": {
     "duration": 0.010813,
     "end_time": "2023-03-28T18:06:09.878411",
     "exception": false,
     "start_time": "2023-03-28T18:06:09.867598",
     "status": "completed"
    },
    "tags": []
   },
   "source": [
    "# Evolution of Einstein's equations"
   ]
  },
  {
   "cell_type": "markdown",
   "id": "03c607c7",
   "metadata": {
    "papermill": {
     "duration": 0.006777,
     "end_time": "2023-03-28T18:06:09.893152",
     "exception": false,
     "start_time": "2023-03-28T18:06:09.886375",
     "status": "completed"
    },
    "tags": []
   },
   "source": [
    "# Initial data , setting length of the domain and discretization\n"
   ]
  },
  {
   "cell_type": "markdown",
   "id": "43aebde7",
   "metadata": {
    "execution": {
     "iopub.execute_input": "2023-03-28T19:06:10.907000Z",
     "iopub.status.busy": "2023-03-28T19:06:09.907000Z",
     "iopub.status.idle": "2023-03-28T19:06:12.147000Z",
     "shell.execute_reply": "2023-03-28T19:06:12.110000Z"
    },
    "papermill": {
     "duration": 2.251282,
     "end_time": "2023-03-28T18:06:12.151193",
     "exception": false,
     "start_time": "2023-03-28T18:06:09.899911",
     "status": "completed"
    },
    "tags": [
     "injected-parameters"
    ]
   },
   "source": [
    "# Parameters"
   ]
  },
  {
   "cell_type": "code",
   "execution_count": 67,
   "id": "a28c43b6",
   "metadata": {},
   "outputs": [
    {
     "data": {
      "text/plain": [
       "1"
      ]
     },
     "execution_count": 67,
     "metadata": {},
     "output_type": "execute_result"
    }
   ],
   "source": [
    "m=1\n",
    "p = 0.1#0.4\n",
    "q = 1#1.0#0.1#0.1#0.01#0.9#0.01#0.5 #Pure SF is q=0\n",
    "run = 1"
   ]
  },
  {
   "cell_type": "markdown",
   "id": "b3b8c463",
   "metadata": {},
   "source": [
    "Choose your grid"
   ]
  },
  {
   "cell_type": "code",
   "execution_count": 68,
   "id": "809ea402",
   "metadata": {},
   "outputs": [
    {
     "data": {
      "text/plain": [
       "true"
      ]
     },
     "execution_count": 68,
     "metadata": {},
     "output_type": "execute_result"
    }
   ],
   "source": [
    "global compactified=false\n",
    "global loggrid=false\n",
    "global bisection=false\n",
    "global zeroformat=false\n",
    "global twod=true"
   ]
  },
  {
   "cell_type": "code",
   "execution_count": 69,
   "id": "73b14643",
   "metadata": {},
   "outputs": [
    {
     "data": {
      "text/plain": [
       "compactify (generic function with 1 method)"
      ]
     },
     "execution_count": 69,
     "metadata": {},
     "output_type": "execute_result"
    }
   ],
   "source": [
    "function compactify(r)\n",
    "    x=r/(1+r)\n",
    "    return x\n",
    "end"
   ]
  },
  {
   "cell_type": "code",
   "execution_count": 70,
   "id": "80a113e0",
   "metadata": {},
   "outputs": [],
   "source": [
    "using Quadmath, Printf\n",
    "\n",
    "res=m;\n",
    "N=2.0^m*200.0/2.0\n",
    "\n",
    "if compactified==true\n",
    "    Xf=1.0\n",
    "else\n",
    "    Xf=3.0\n",
    "end\n",
    "\n",
    "dx=Xf/N\n",
    "if loggrid==false\n",
    "    dt=0.5*round(dx,digits=10)\n",
    "else\n",
    "    dt=0.1*round(dx,digits=10)\n",
    "end\n",
    "Nt=N\n",
    "Tf=Nt*dt;"
   ]
  },
  {
   "cell_type": "code",
   "execution_count": 71,
   "id": "4f752d54",
   "metadata": {
    "execution": {
     "iopub.execute_input": "2023-03-28T19:06:12.356000Z",
     "iopub.status.busy": "2023-03-28T19:06:12.356000Z",
     "iopub.status.idle": "2023-03-28T19:06:12.364000Z",
     "shell.execute_reply": "2023-03-28T19:06:12.364000Z"
    },
    "papermill": {
     "duration": 0.020815,
     "end_time": "2023-03-28T18:06:12.368761",
     "exception": false,
     "start_time": "2023-03-28T18:06:12.347946",
     "status": "completed"
    },
    "tags": []
   },
   "outputs": [
    {
     "name": "stdout",
     "output_type": "stream",
     "text": [
      "200.0"
     ]
    }
   ],
   "source": [
    "print(N)"
   ]
  },
  {
   "cell_type": "code",
   "execution_count": 72,
   "id": "78fb78a5",
   "metadata": {
    "execution": {
     "iopub.execute_input": "2023-03-28T19:06:12.419000Z",
     "iopub.status.busy": "2023-03-28T19:06:12.419000Z",
     "iopub.status.idle": "2023-03-28T19:06:13.308000Z",
     "shell.execute_reply": "2023-03-28T19:06:13.308000Z"
    },
    "papermill": {
     "duration": 0.90283,
     "end_time": "2023-03-28T18:06:13.314381",
     "exception": false,
     "start_time": "2023-03-28T18:06:12.411551",
     "status": "completed"
    },
    "tags": []
   },
   "outputs": [
    {
     "data": {
      "text/plain": [
       "\"/home/rita13santos/Desktop/MSc Thesis/Git/TMYangMills/DATA\""
      ]
     },
     "execution_count": 72,
     "metadata": {},
     "output_type": "execute_result"
    }
   ],
   "source": [
    "global dir = \"/home/rita13santos/Desktop/MSc Thesis/Git/TMYangMills/DATA\""
   ]
  },
  {
   "cell_type": "markdown",
   "id": "e2dd4335",
   "metadata": {
    "papermill": {
     "duration": 0.007006,
     "end_time": "2023-03-28T18:06:13.351329",
     "exception": false,
     "start_time": "2023-03-28T18:06:13.344323",
     "status": "completed"
    },
    "tags": []
   },
   "source": [
    "# Grid"
   ]
  },
  {
   "cell_type": "code",
   "execution_count": 85,
   "id": "bc5288f8",
   "metadata": {
    "execution": {
     "iopub.execute_input": "2023-03-28T19:06:13.636000Z",
     "iopub.status.busy": "2023-03-28T19:06:13.636000Z",
     "iopub.status.idle": "2023-03-28T19:06:14.762000Z",
     "shell.execute_reply": "2023-03-28T19:06:14.762000Z"
    },
    "papermill": {
     "duration": 1.137394,
     "end_time": "2023-03-28T18:06:14.765909",
     "exception": false,
     "start_time": "2023-03-28T18:06:13.628515",
     "status": "completed"
    },
    "tags": []
   },
   "outputs": [],
   "source": [
    "using Printf\n",
    "include(\"./TMYangMills.jl\");"
   ]
  },
  {
   "cell_type": "code",
   "execution_count": 86,
   "id": "de24fea3",
   "metadata": {
    "execution": {
     "iopub.execute_input": "2023-03-28T19:06:13.366000Z",
     "iopub.status.busy": "2023-03-28T19:06:13.366000Z",
     "iopub.status.idle": "2023-03-28T19:06:13.571000Z",
     "shell.execute_reply": "2023-03-28T19:06:13.571000Z"
    },
    "papermill": {
     "duration": 0.216104,
     "end_time": "2023-03-28T18:06:13.574666",
     "exception": false,
     "start_time": "2023-03-28T18:06:13.358562",
     "status": "completed"
    },
    "tags": []
   },
   "outputs": [
    {
     "name": "stdout",
     "output_type": "stream",
     "text": [
      "step size is  0.015\n",
      "the time step is 0.001\n"
     ]
    }
   ],
   "source": [
    "ori=0.0#Float128(0.0)#0.0;\n",
    "initX1 = nothing\n",
    "N=int(N)\n",
    "initX1=range(ori, stop=Xf, step=dx);\n",
    "initX = range(round(ori-3.0*dx,digits=10), stop=Xf+3.0*dx, step=dx)\n",
    "\n",
    "L=length(initX);\n",
    "println(\"step size is  \", dx)\n",
    "println(\"the time step is \", dt)\n",
    "\n",
    "if loggrid==true\n",
    "    global originalX=initX\n",
    "    xtilde=gridfunc(initX1)\n",
    "    initX1=xtilde\n",
    "    initX=collect(initX)\n",
    "    initX[4:L-3]=xtilde\n",
    "end;"
   ]
  },
  {
   "cell_type": "markdown",
   "id": "80ab1480",
   "metadata": {
    "papermill": {
     "duration": 0.007525,
     "end_time": "2023-03-28T18:06:14.783937",
     "exception": false,
     "start_time": "2023-03-28T18:06:14.776412",
     "status": "completed"
    },
    "tags": []
   },
   "source": [
    "# Initial data of m β Ψ and Ψ,x"
   ]
  },
  {
   "cell_type": "code",
   "execution_count": 87,
   "id": "d0af654c",
   "metadata": {
    "execution": {
     "iopub.execute_input": "2023-03-28T19:06:14.799000Z",
     "iopub.status.busy": "2023-03-28T19:06:14.799000Z",
     "iopub.status.idle": "2023-03-28T19:06:22.269000Z",
     "shell.execute_reply": "2023-03-28T19:06:22.269000Z"
    },
    "papermill": {
     "duration": 7.48258,
     "end_time": "2023-03-28T18:06:22.273970",
     "exception": false,
     "start_time": "2023-03-28T18:06:14.791390",
     "status": "completed"
    },
    "tags": []
   },
   "outputs": [],
   "source": [
    "using Dierckx\n",
    "\n",
    "\n",
    "####\n",
    "\n",
    "initm=zeros(L)\n",
    "initbeta=zeros(L)\n",
    "initpsi=zeros(L)\n",
    "initpi=zeros(L)\n",
    "initderxchi=zeros(L)\n",
    "initderpsi=zeros(L)\n",
    "initxchi=zeros(L)\n",
    "\n",
    "#state array is m beta psi xxxchi,u xxxchi,rORx psi,r xxxchi r\n",
    "state_array=[initm initbeta initpsi initpi initderxchi initderpsi initxchi initX];\n",
    "#attention:  in noncompactified code derxchi is (xchi),r. in compactified code derxchi is (xchi),x\n",
    "#xxchi,u=pi\n",
    "\n",
    "#PSI,R\n",
    "A=0.075*p*(1−q)\n",
    "r0=0.75\n",
    "sigma=0.25\n",
    "\n",
    "initderpsi[4:L-3] = init_derpsi(initX1,r0,sigma,A)\n",
    "\n",
    "state_array[:,6] = initderpsi\n",
    "state_array=ghost(state_array)\n",
    "\n",
    "#XCHI\n",
    "A=0.25*p*q\n",
    "r0=0.3\n",
    "sigma=0.1\n",
    "\n",
    "initxxxchi[4:L-3] = init_xxxchi(initX1,r0,sigma,A)\n",
    "\n",
    "state_array[:,7] = initxxxchi\n",
    "\n",
    "####\n",
    "#PSI FROM PSI,R, CHI,R FROM CHI\n",
    "state_array[:,7]=parity(state_array[:,7])\n",
    "state_array[4:L-3,5]=Der_array(state_array,7,initX)[4:L-3]#derivative(xchi_func, initX1; nu=1)#Der_array(state_array,7,initX)[4:L-3]\n",
    "state_array[L-3,5]=state_array[L-4,5]\n",
    "\n",
    "state_array[:,5]=secondparity(state_array[:,5])\n",
    "aux=Der_array(state_array,5,initX)\n",
    "aux[4]=0\n",
    "aux[L-3]=aux[L-4]\n",
    "\n",
    "# update interpolation of psi,x\n",
    "derxxxchi_func = Spline1D(initX[4:L-3], state_array[4:L-3,5],  k=4);\n",
    "derpsi_func = Spline1D(initX[4:L-3], state_array[4:L-3,6],  k=4);\n",
    "xxxchi_func = Spline1D(initX[4:L-3], state_array[4:L-3,7],  k=4);\n",
    "derrxxxchi_func = Spline1D(initX[4:L-3], aux[4:L-3], k=4);\n",
    "\n",
    "funcs=[derxxxchi_func derpsi_func xxxchi_func derrxxxchi_func];"
   ]
  },
  {
   "cell_type": "code",
   "execution_count": null,
   "id": "2097da7b",
   "metadata": {},
   "outputs": [],
   "source": []
  },
  {
   "cell_type": "code",
   "execution_count": 88,
   "id": "78cfbd6e",
   "metadata": {},
   "outputs": [],
   "source": [
    "y0=[0.0 0.0 0.0 0.0]\n",
    "\n",
    "state_array[4:L-3,1:4] = n_rk4wrapper(RHS,y0,initX[4:L-3],0,funcs,state_array[:,:]);\n",
    "\n",
    "#state_array = ghost(state_array);"
   ]
  },
  {
   "cell_type": "code",
   "execution_count": 90,
   "id": "14e14e45",
   "metadata": {},
   "outputs": [
    {
     "data": {
      "image/svg+xml": [
       "<?xml version=\"1.0\" encoding=\"utf-8\"?>\n",
       "<svg xmlns=\"http://www.w3.org/2000/svg\" xmlns:xlink=\"http://www.w3.org/1999/xlink\" width=\"600\" height=\"400\" viewBox=\"0 0 2400 1600\">\n",
       "<defs>\n",
       "  <clipPath id=\"clip290\">\n",
       "    <rect x=\"0\" y=\"0\" width=\"2400\" height=\"1600\"/>\n",
       "  </clipPath>\n",
       "</defs>\n",
       "<path clip-path=\"url(#clip290)\" d=\"M0 1600 L2400 1600 L2400 0 L0 0  Z\" fill=\"#ffffff\" fill-rule=\"evenodd\" fill-opacity=\"1\"/>\n",
       "<defs>\n",
       "  <clipPath id=\"clip291\">\n",
       "    <rect x=\"480\" y=\"0\" width=\"1681\" height=\"1600\"/>\n",
       "  </clipPath>\n",
       "</defs>\n",
       "<path clip-path=\"url(#clip290)\" d=\"M253.033 1423.18 L2352.76 1423.18 L2352.76 123.472 L253.033 123.472  Z\" fill=\"#ffffff\" fill-rule=\"evenodd\" fill-opacity=\"1\"/>\n",
       "<defs>\n",
       "  <clipPath id=\"clip292\">\n",
       "    <rect x=\"253\" y=\"123\" width=\"2101\" height=\"1301\"/>\n",
       "  </clipPath>\n",
       "</defs>\n",
       "<polyline clip-path=\"url(#clip292)\" style=\"stroke:#000000; stroke-linecap:round; stroke-linejoin:round; stroke-width:2; stroke-opacity:0.1; fill:none\" points=\"253.033,1423.18 253.033,123.472 \"/>\n",
       "<polyline clip-path=\"url(#clip292)\" style=\"stroke:#000000; stroke-linecap:round; stroke-linejoin:round; stroke-width:2; stroke-opacity:0.1; fill:none\" points=\"672.978,1423.18 672.978,123.472 \"/>\n",
       "<polyline clip-path=\"url(#clip292)\" style=\"stroke:#000000; stroke-linecap:round; stroke-linejoin:round; stroke-width:2; stroke-opacity:0.1; fill:none\" points=\"1092.92,1423.18 1092.92,123.472 \"/>\n",
       "<polyline clip-path=\"url(#clip292)\" style=\"stroke:#000000; stroke-linecap:round; stroke-linejoin:round; stroke-width:2; stroke-opacity:0.1; fill:none\" points=\"1512.87,1423.18 1512.87,123.472 \"/>\n",
       "<polyline clip-path=\"url(#clip292)\" style=\"stroke:#000000; stroke-linecap:round; stroke-linejoin:round; stroke-width:2; stroke-opacity:0.1; fill:none\" points=\"1932.81,1423.18 1932.81,123.472 \"/>\n",
       "<polyline clip-path=\"url(#clip292)\" style=\"stroke:#000000; stroke-linecap:round; stroke-linejoin:round; stroke-width:2; stroke-opacity:0.1; fill:none\" points=\"2352.76,1423.18 2352.76,123.472 \"/>\n",
       "<polyline clip-path=\"url(#clip290)\" style=\"stroke:#000000; stroke-linecap:round; stroke-linejoin:round; stroke-width:4; stroke-opacity:1; fill:none\" points=\"253.033,1423.18 2352.76,1423.18 \"/>\n",
       "<polyline clip-path=\"url(#clip290)\" style=\"stroke:#000000; stroke-linecap:round; stroke-linejoin:round; stroke-width:4; stroke-opacity:1; fill:none\" points=\"253.033,1423.18 253.033,1404.28 \"/>\n",
       "<polyline clip-path=\"url(#clip290)\" style=\"stroke:#000000; stroke-linecap:round; stroke-linejoin:round; stroke-width:4; stroke-opacity:1; fill:none\" points=\"672.978,1423.18 672.978,1404.28 \"/>\n",
       "<polyline clip-path=\"url(#clip290)\" style=\"stroke:#000000; stroke-linecap:round; stroke-linejoin:round; stroke-width:4; stroke-opacity:1; fill:none\" points=\"1092.92,1423.18 1092.92,1404.28 \"/>\n",
       "<polyline clip-path=\"url(#clip290)\" style=\"stroke:#000000; stroke-linecap:round; stroke-linejoin:round; stroke-width:4; stroke-opacity:1; fill:none\" points=\"1512.87,1423.18 1512.87,1404.28 \"/>\n",
       "<polyline clip-path=\"url(#clip290)\" style=\"stroke:#000000; stroke-linecap:round; stroke-linejoin:round; stroke-width:4; stroke-opacity:1; fill:none\" points=\"1932.81,1423.18 1932.81,1404.28 \"/>\n",
       "<polyline clip-path=\"url(#clip290)\" style=\"stroke:#000000; stroke-linecap:round; stroke-linejoin:round; stroke-width:4; stroke-opacity:1; fill:none\" points=\"2352.76,1423.18 2352.76,1404.28 \"/>\n",
       "<path clip-path=\"url(#clip290)\" d=\"M230.417 1454.1 Q226.806 1454.1 224.977 1457.66 Q223.172 1461.2 223.172 1468.33 Q223.172 1475.44 224.977 1479.01 Q226.806 1482.55 230.417 1482.55 Q234.052 1482.55 235.857 1479.01 Q237.686 1475.44 237.686 1468.33 Q237.686 1461.2 235.857 1457.66 Q234.052 1454.1 230.417 1454.1 M230.417 1450.39 Q236.227 1450.39 239.283 1455 Q242.362 1459.58 242.362 1468.33 Q242.362 1477.06 239.283 1481.67 Q236.227 1486.25 230.417 1486.25 Q224.607 1486.25 221.528 1481.67 Q218.473 1477.06 218.473 1468.33 Q218.473 1459.58 221.528 1455 Q224.607 1450.39 230.417 1450.39 Z\" fill=\"#000000\" fill-rule=\"evenodd\" fill-opacity=\"1\" /><path clip-path=\"url(#clip290)\" d=\"M250.579 1479.7 L255.463 1479.7 L255.463 1485.58 L250.579 1485.58 L250.579 1479.7 Z\" fill=\"#000000\" fill-rule=\"evenodd\" fill-opacity=\"1\" /><path clip-path=\"url(#clip290)\" d=\"M275.649 1454.1 Q272.037 1454.1 270.209 1457.66 Q268.403 1461.2 268.403 1468.33 Q268.403 1475.44 270.209 1479.01 Q272.037 1482.55 275.649 1482.55 Q279.283 1482.55 281.088 1479.01 Q282.917 1475.44 282.917 1468.33 Q282.917 1461.2 281.088 1457.66 Q279.283 1454.1 275.649 1454.1 M275.649 1450.39 Q281.459 1450.39 284.514 1455 Q287.593 1459.58 287.593 1468.33 Q287.593 1477.06 284.514 1481.67 Q281.459 1486.25 275.649 1486.25 Q269.838 1486.25 266.76 1481.67 Q263.704 1477.06 263.704 1468.33 Q263.704 1459.58 266.76 1455 Q269.838 1450.39 275.649 1450.39 Z\" fill=\"#000000\" fill-rule=\"evenodd\" fill-opacity=\"1\" /><path clip-path=\"url(#clip290)\" d=\"M651.16 1454.1 Q647.549 1454.1 645.721 1457.66 Q643.915 1461.2 643.915 1468.33 Q643.915 1475.44 645.721 1479.01 Q647.549 1482.55 651.16 1482.55 Q654.795 1482.55 656.6 1479.01 Q658.429 1475.44 658.429 1468.33 Q658.429 1461.2 656.6 1457.66 Q654.795 1454.1 651.16 1454.1 M651.16 1450.39 Q656.971 1450.39 660.026 1455 Q663.105 1459.58 663.105 1468.33 Q663.105 1477.06 660.026 1481.67 Q656.971 1486.25 651.16 1486.25 Q645.35 1486.25 642.272 1481.67 Q639.216 1477.06 639.216 1468.33 Q639.216 1459.58 642.272 1455 Q645.35 1450.39 651.16 1450.39 Z\" fill=\"#000000\" fill-rule=\"evenodd\" fill-opacity=\"1\" /><path clip-path=\"url(#clip290)\" d=\"M671.322 1479.7 L676.207 1479.7 L676.207 1485.58 L671.322 1485.58 L671.322 1479.7 Z\" fill=\"#000000\" fill-rule=\"evenodd\" fill-opacity=\"1\" /><path clip-path=\"url(#clip290)\" d=\"M690.42 1481.64 L706.739 1481.64 L706.739 1485.58 L684.795 1485.58 L684.795 1481.64 Q687.457 1478.89 692.04 1474.26 Q696.646 1469.61 697.827 1468.27 Q700.072 1465.74 700.952 1464.01 Q701.855 1462.25 701.855 1460.56 Q701.855 1457.8 699.91 1456.07 Q697.989 1454.33 694.887 1454.33 Q692.688 1454.33 690.234 1455.09 Q687.804 1455.86 685.026 1457.41 L685.026 1452.69 Q687.85 1451.55 690.304 1450.97 Q692.757 1450.39 694.795 1450.39 Q700.165 1450.39 703.359 1453.08 Q706.554 1455.77 706.554 1460.26 Q706.554 1462.39 705.744 1464.31 Q704.956 1466.2 702.85 1468.8 Q702.271 1469.47 699.169 1472.69 Q696.068 1475.88 690.42 1481.64 Z\" fill=\"#000000\" fill-rule=\"evenodd\" fill-opacity=\"1\" /><path clip-path=\"url(#clip290)\" d=\"M1070.06 1454.1 Q1066.45 1454.1 1064.62 1457.66 Q1062.82 1461.2 1062.82 1468.33 Q1062.82 1475.44 1064.62 1479.01 Q1066.45 1482.55 1070.06 1482.55 Q1073.7 1482.55 1075.5 1479.01 Q1077.33 1475.44 1077.33 1468.33 Q1077.33 1461.2 1075.5 1457.66 Q1073.7 1454.1 1070.06 1454.1 M1070.06 1450.39 Q1075.87 1450.39 1078.93 1455 Q1082.01 1459.58 1082.01 1468.33 Q1082.01 1477.06 1078.93 1481.67 Q1075.87 1486.25 1070.06 1486.25 Q1064.25 1486.25 1061.17 1481.67 Q1058.12 1477.06 1058.12 1468.33 Q1058.12 1459.58 1061.17 1455 Q1064.25 1450.39 1070.06 1450.39 Z\" fill=\"#000000\" fill-rule=\"evenodd\" fill-opacity=\"1\" /><path clip-path=\"url(#clip290)\" d=\"M1090.23 1479.7 L1095.11 1479.7 L1095.11 1485.58 L1090.23 1485.58 L1090.23 1479.7 Z\" fill=\"#000000\" fill-rule=\"evenodd\" fill-opacity=\"1\" /><path clip-path=\"url(#clip290)\" d=\"M1118.14 1455.09 L1106.34 1473.54 L1118.14 1473.54 L1118.14 1455.09 M1116.92 1451.02 L1122.79 1451.02 L1122.79 1473.54 L1127.73 1473.54 L1127.73 1477.43 L1122.79 1477.43 L1122.79 1485.58 L1118.14 1485.58 L1118.14 1477.43 L1102.54 1477.43 L1102.54 1472.92 L1116.92 1451.02 Z\" fill=\"#000000\" fill-rule=\"evenodd\" fill-opacity=\"1\" /><path clip-path=\"url(#clip290)\" d=\"M1490.17 1454.1 Q1486.56 1454.1 1484.73 1457.66 Q1482.92 1461.2 1482.92 1468.33 Q1482.92 1475.44 1484.73 1479.01 Q1486.56 1482.55 1490.17 1482.55 Q1493.8 1482.55 1495.61 1479.01 Q1497.44 1475.44 1497.44 1468.33 Q1497.44 1461.2 1495.61 1457.66 Q1493.8 1454.1 1490.17 1454.1 M1490.17 1450.39 Q1495.98 1450.39 1499.04 1455 Q1502.11 1459.58 1502.11 1468.33 Q1502.11 1477.06 1499.04 1481.67 Q1495.98 1486.25 1490.17 1486.25 Q1484.36 1486.25 1481.28 1481.67 Q1478.23 1477.06 1478.23 1468.33 Q1478.23 1459.58 1481.28 1455 Q1484.36 1450.39 1490.17 1450.39 Z\" fill=\"#000000\" fill-rule=\"evenodd\" fill-opacity=\"1\" /><path clip-path=\"url(#clip290)\" d=\"M1510.33 1479.7 L1515.22 1479.7 L1515.22 1485.58 L1510.33 1485.58 L1510.33 1479.7 Z\" fill=\"#000000\" fill-rule=\"evenodd\" fill-opacity=\"1\" /><path clip-path=\"url(#clip290)\" d=\"M1535.98 1466.44 Q1532.83 1466.44 1530.98 1468.59 Q1529.15 1470.74 1529.15 1474.49 Q1529.15 1478.22 1530.98 1480.39 Q1532.83 1482.55 1535.98 1482.55 Q1539.13 1482.55 1540.96 1480.39 Q1542.81 1478.22 1542.81 1474.49 Q1542.81 1470.74 1540.96 1468.59 Q1539.13 1466.44 1535.98 1466.44 M1545.26 1451.78 L1545.26 1456.04 Q1543.5 1455.21 1541.7 1454.77 Q1539.92 1454.33 1538.16 1454.33 Q1533.53 1454.33 1531.07 1457.45 Q1528.64 1460.58 1528.29 1466.9 Q1529.66 1464.89 1531.72 1463.82 Q1533.78 1462.73 1536.26 1462.73 Q1541.47 1462.73 1544.48 1465.9 Q1547.51 1469.05 1547.51 1474.49 Q1547.51 1479.82 1544.36 1483.03 Q1541.21 1486.25 1535.98 1486.25 Q1529.98 1486.25 1526.81 1481.67 Q1523.64 1477.06 1523.64 1468.33 Q1523.64 1460.14 1527.53 1455.28 Q1531.42 1450.39 1537.97 1450.39 Q1539.73 1450.39 1541.51 1450.74 Q1543.32 1451.09 1545.26 1451.78 Z\" fill=\"#000000\" fill-rule=\"evenodd\" fill-opacity=\"1\" /><path clip-path=\"url(#clip290)\" d=\"M1910.24 1454.1 Q1906.63 1454.1 1904.8 1457.66 Q1903 1461.2 1903 1468.33 Q1903 1475.44 1904.8 1479.01 Q1906.63 1482.55 1910.24 1482.55 Q1913.88 1482.55 1915.68 1479.01 Q1917.51 1475.44 1917.51 1468.33 Q1917.51 1461.2 1915.68 1457.66 Q1913.88 1454.1 1910.24 1454.1 M1910.24 1450.39 Q1916.05 1450.39 1919.11 1455 Q1922.19 1459.58 1922.19 1468.33 Q1922.19 1477.06 1919.11 1481.67 Q1916.05 1486.25 1910.24 1486.25 Q1904.43 1486.25 1901.35 1481.67 Q1898.3 1477.06 1898.3 1468.33 Q1898.3 1459.58 1901.35 1455 Q1904.43 1450.39 1910.24 1450.39 Z\" fill=\"#000000\" fill-rule=\"evenodd\" fill-opacity=\"1\" /><path clip-path=\"url(#clip290)\" d=\"M1930.4 1479.7 L1935.29 1479.7 L1935.29 1485.58 L1930.4 1485.58 L1930.4 1479.7 Z\" fill=\"#000000\" fill-rule=\"evenodd\" fill-opacity=\"1\" /><path clip-path=\"url(#clip290)\" d=\"M1955.47 1469.17 Q1952.14 1469.17 1950.22 1470.95 Q1948.32 1472.73 1948.32 1475.86 Q1948.32 1478.98 1950.22 1480.77 Q1952.14 1482.55 1955.47 1482.55 Q1958.81 1482.55 1960.73 1480.77 Q1962.65 1478.96 1962.65 1475.86 Q1962.65 1472.73 1960.73 1470.95 Q1958.83 1469.17 1955.47 1469.17 M1950.8 1467.18 Q1947.79 1466.44 1946.1 1464.38 Q1944.43 1462.32 1944.43 1459.35 Q1944.43 1455.21 1947.37 1452.8 Q1950.33 1450.39 1955.47 1450.39 Q1960.64 1450.39 1963.58 1452.8 Q1966.51 1455.21 1966.51 1459.35 Q1966.51 1462.32 1964.83 1464.38 Q1963.16 1466.44 1960.17 1467.18 Q1963.55 1467.96 1965.43 1470.26 Q1967.33 1472.55 1967.33 1475.86 Q1967.33 1480.88 1964.25 1483.57 Q1961.19 1486.25 1955.47 1486.25 Q1949.76 1486.25 1946.68 1483.57 Q1943.62 1480.88 1943.62 1475.86 Q1943.62 1472.55 1945.52 1470.26 Q1947.42 1467.96 1950.8 1467.18 M1949.08 1459.79 Q1949.08 1462.48 1950.75 1463.98 Q1952.44 1465.49 1955.47 1465.49 Q1958.48 1465.49 1960.17 1463.98 Q1961.89 1462.48 1961.89 1459.79 Q1961.89 1457.11 1960.17 1455.6 Q1958.48 1454.1 1955.47 1454.1 Q1952.44 1454.1 1950.75 1455.6 Q1949.08 1457.11 1949.08 1459.79 Z\" fill=\"#000000\" fill-rule=\"evenodd\" fill-opacity=\"1\" /><path clip-path=\"url(#clip290)\" d=\"M2319.91 1481.64 L2327.55 1481.64 L2327.55 1455.28 L2319.24 1456.95 L2319.24 1452.69 L2327.5 1451.02 L2332.18 1451.02 L2332.18 1481.64 L2339.82 1481.64 L2339.82 1485.58 L2319.91 1485.58 L2319.91 1481.64 Z\" fill=\"#000000\" fill-rule=\"evenodd\" fill-opacity=\"1\" /><path clip-path=\"url(#clip290)\" d=\"M2349.26 1479.7 L2354.14 1479.7 L2354.14 1485.58 L2349.26 1485.58 L2349.26 1479.7 Z\" fill=\"#000000\" fill-rule=\"evenodd\" fill-opacity=\"1\" /><path clip-path=\"url(#clip290)\" d=\"M2374.33 1454.1 Q2370.72 1454.1 2368.89 1457.66 Q2367.08 1461.2 2367.08 1468.33 Q2367.08 1475.44 2368.89 1479.01 Q2370.72 1482.55 2374.33 1482.55 Q2377.96 1482.55 2379.77 1479.01 Q2381.6 1475.44 2381.6 1468.33 Q2381.6 1461.2 2379.77 1457.66 Q2377.96 1454.1 2374.33 1454.1 M2374.33 1450.39 Q2380.14 1450.39 2383.2 1455 Q2386.27 1459.58 2386.27 1468.33 Q2386.27 1477.06 2383.2 1481.67 Q2380.14 1486.25 2374.33 1486.25 Q2368.52 1486.25 2365.44 1481.67 Q2362.39 1477.06 2362.39 1468.33 Q2362.39 1459.58 2365.44 1455 Q2368.52 1450.39 2374.33 1450.39 Z\" fill=\"#000000\" fill-rule=\"evenodd\" fill-opacity=\"1\" /><path clip-path=\"url(#clip290)\" d=\"M1313.33 1537.87 Q1312.35 1537.3 1311.17 1537.04 Q1310.02 1536.76 1308.62 1536.76 Q1303.66 1536.76 1300.98 1540 Q1298.34 1543.22 1298.34 1549.27 L1298.34 1568.04 L1292.45 1568.04 L1292.45 1532.4 L1298.34 1532.4 L1298.34 1537.93 Q1300.19 1534.69 1303.15 1533.13 Q1306.11 1531.54 1310.34 1531.54 Q1310.95 1531.54 1311.68 1531.63 Q1312.41 1531.7 1313.3 1531.85 L1313.33 1537.87 Z\" fill=\"#000000\" fill-rule=\"evenodd\" fill-opacity=\"1\" /><polyline clip-path=\"url(#clip292)\" style=\"stroke:#000000; stroke-linecap:round; stroke-linejoin:round; stroke-width:2; stroke-opacity:0.1; fill:none\" points=\"253.033,1267.34 2352.76,1267.34 \"/>\n",
       "<polyline clip-path=\"url(#clip292)\" style=\"stroke:#000000; stroke-linecap:round; stroke-linejoin:round; stroke-width:2; stroke-opacity:0.1; fill:none\" points=\"253.033,1085.76 2352.76,1085.76 \"/>\n",
       "<polyline clip-path=\"url(#clip292)\" style=\"stroke:#000000; stroke-linecap:round; stroke-linejoin:round; stroke-width:2; stroke-opacity:0.1; fill:none\" points=\"253.033,904.191 2352.76,904.191 \"/>\n",
       "<polyline clip-path=\"url(#clip292)\" style=\"stroke:#000000; stroke-linecap:round; stroke-linejoin:round; stroke-width:2; stroke-opacity:0.1; fill:none\" points=\"253.033,722.617 2352.76,722.617 \"/>\n",
       "<polyline clip-path=\"url(#clip292)\" style=\"stroke:#000000; stroke-linecap:round; stroke-linejoin:round; stroke-width:2; stroke-opacity:0.1; fill:none\" points=\"253.033,541.043 2352.76,541.043 \"/>\n",
       "<polyline clip-path=\"url(#clip292)\" style=\"stroke:#000000; stroke-linecap:round; stroke-linejoin:round; stroke-width:2; stroke-opacity:0.1; fill:none\" points=\"253.033,359.469 2352.76,359.469 \"/>\n",
       "<polyline clip-path=\"url(#clip292)\" style=\"stroke:#000000; stroke-linecap:round; stroke-linejoin:round; stroke-width:2; stroke-opacity:0.1; fill:none\" points=\"253.033,177.894 2352.76,177.894 \"/>\n",
       "<polyline clip-path=\"url(#clip290)\" style=\"stroke:#000000; stroke-linecap:round; stroke-linejoin:round; stroke-width:4; stroke-opacity:1; fill:none\" points=\"253.033,1423.18 253.033,123.472 \"/>\n",
       "<polyline clip-path=\"url(#clip290)\" style=\"stroke:#000000; stroke-linecap:round; stroke-linejoin:round; stroke-width:4; stroke-opacity:1; fill:none\" points=\"253.033,1267.34 271.931,1267.34 \"/>\n",
       "<polyline clip-path=\"url(#clip290)\" style=\"stroke:#000000; stroke-linecap:round; stroke-linejoin:round; stroke-width:4; stroke-opacity:1; fill:none\" points=\"253.033,1085.76 271.931,1085.76 \"/>\n",
       "<polyline clip-path=\"url(#clip290)\" style=\"stroke:#000000; stroke-linecap:round; stroke-linejoin:round; stroke-width:4; stroke-opacity:1; fill:none\" points=\"253.033,904.191 271.931,904.191 \"/>\n",
       "<polyline clip-path=\"url(#clip290)\" style=\"stroke:#000000; stroke-linecap:round; stroke-linejoin:round; stroke-width:4; stroke-opacity:1; fill:none\" points=\"253.033,722.617 271.931,722.617 \"/>\n",
       "<polyline clip-path=\"url(#clip290)\" style=\"stroke:#000000; stroke-linecap:round; stroke-linejoin:round; stroke-width:4; stroke-opacity:1; fill:none\" points=\"253.033,541.043 271.931,541.043 \"/>\n",
       "<polyline clip-path=\"url(#clip290)\" style=\"stroke:#000000; stroke-linecap:round; stroke-linejoin:round; stroke-width:4; stroke-opacity:1; fill:none\" points=\"253.033,359.469 271.931,359.469 \"/>\n",
       "<polyline clip-path=\"url(#clip290)\" style=\"stroke:#000000; stroke-linecap:round; stroke-linejoin:round; stroke-width:4; stroke-opacity:1; fill:none\" points=\"253.033,177.894 271.931,177.894 \"/>\n",
       "<path clip-path=\"url(#clip290)\" d=\"M51.3625 1267.79 L81.0383 1267.79 L81.0383 1271.73 L51.3625 1271.73 L51.3625 1267.79 Z\" fill=\"#000000\" fill-rule=\"evenodd\" fill-opacity=\"1\" /><path clip-path=\"url(#clip290)\" d=\"M101.131 1253.14 Q97.5197 1253.14 95.691 1256.7 Q93.8854 1260.24 93.8854 1267.37 Q93.8854 1274.48 95.691 1278.04 Q97.5197 1281.59 101.131 1281.59 Q104.765 1281.59 106.571 1278.04 Q108.399 1274.48 108.399 1267.37 Q108.399 1260.24 106.571 1256.7 Q104.765 1253.14 101.131 1253.14 M101.131 1249.43 Q106.941 1249.43 109.996 1254.04 Q113.075 1258.62 113.075 1267.37 Q113.075 1276.1 109.996 1280.71 Q106.941 1285.29 101.131 1285.29 Q95.3206 1285.29 92.2419 1280.71 Q89.1864 1276.1 89.1864 1267.37 Q89.1864 1258.62 92.2419 1254.04 Q95.3206 1249.43 101.131 1249.43 Z\" fill=\"#000000\" fill-rule=\"evenodd\" fill-opacity=\"1\" /><path clip-path=\"url(#clip290)\" d=\"M121.293 1278.74 L126.177 1278.74 L126.177 1284.62 L121.293 1284.62 L121.293 1278.74 Z\" fill=\"#000000\" fill-rule=\"evenodd\" fill-opacity=\"1\" /><path clip-path=\"url(#clip290)\" d=\"M146.362 1253.14 Q142.751 1253.14 140.922 1256.7 Q139.117 1260.24 139.117 1267.37 Q139.117 1274.48 140.922 1278.04 Q142.751 1281.59 146.362 1281.59 Q149.996 1281.59 151.802 1278.04 Q153.63 1274.48 153.63 1267.37 Q153.63 1260.24 151.802 1256.7 Q149.996 1253.14 146.362 1253.14 M146.362 1249.43 Q152.172 1249.43 155.228 1254.04 Q158.306 1258.62 158.306 1267.37 Q158.306 1276.1 155.228 1280.71 Q152.172 1285.29 146.362 1285.29 Q140.552 1285.29 137.473 1280.71 Q134.418 1276.1 134.418 1267.37 Q134.418 1258.62 137.473 1254.04 Q140.552 1249.43 146.362 1249.43 Z\" fill=\"#000000\" fill-rule=\"evenodd\" fill-opacity=\"1\" /><path clip-path=\"url(#clip290)\" d=\"M176.524 1253.14 Q172.913 1253.14 171.084 1256.7 Q169.279 1260.24 169.279 1267.37 Q169.279 1274.48 171.084 1278.04 Q172.913 1281.59 176.524 1281.59 Q180.158 1281.59 181.964 1278.04 Q183.792 1274.48 183.792 1267.37 Q183.792 1260.24 181.964 1256.7 Q180.158 1253.14 176.524 1253.14 M176.524 1249.43 Q182.334 1249.43 185.39 1254.04 Q188.468 1258.62 188.468 1267.37 Q188.468 1276.1 185.39 1280.71 Q182.334 1285.29 176.524 1285.29 Q170.714 1285.29 167.635 1280.71 Q164.579 1276.1 164.579 1267.37 Q164.579 1258.62 167.635 1254.04 Q170.714 1249.43 176.524 1249.43 Z\" fill=\"#000000\" fill-rule=\"evenodd\" fill-opacity=\"1\" /><path clip-path=\"url(#clip290)\" d=\"M200.714 1280.68 L217.033 1280.68 L217.033 1284.62 L195.089 1284.62 L195.089 1280.68 Q197.751 1277.93 202.334 1273.3 Q206.94 1268.65 208.121 1267.3 Q210.366 1264.78 211.246 1263.04 Q212.149 1261.29 212.149 1259.6 Q212.149 1256.84 210.204 1255.11 Q208.283 1253.37 205.181 1253.37 Q202.982 1253.37 200.528 1254.13 Q198.098 1254.9 195.32 1256.45 L195.32 1251.73 Q198.144 1250.59 200.598 1250.01 Q203.051 1249.43 205.089 1249.43 Q210.459 1249.43 213.653 1252.12 Q216.848 1254.8 216.848 1259.29 Q216.848 1261.42 216.038 1263.35 Q215.251 1265.24 213.144 1267.84 Q212.565 1268.51 209.463 1271.73 Q206.362 1274.92 200.714 1280.68 Z\" fill=\"#000000\" fill-rule=\"evenodd\" fill-opacity=\"1\" /><path clip-path=\"url(#clip290)\" d=\"M50.9921 1086.22 L80.6679 1086.22 L80.6679 1090.15 L50.9921 1090.15 L50.9921 1086.22 Z\" fill=\"#000000\" fill-rule=\"evenodd\" fill-opacity=\"1\" /><path clip-path=\"url(#clip290)\" d=\"M100.76 1071.56 Q97.1493 1071.56 95.3206 1075.13 Q93.515 1078.67 93.515 1085.8 Q93.515 1092.91 95.3206 1096.47 Q97.1493 1100.01 100.76 1100.01 Q104.395 1100.01 106.2 1096.47 Q108.029 1092.91 108.029 1085.8 Q108.029 1078.67 106.2 1075.13 Q104.395 1071.56 100.76 1071.56 M100.76 1067.86 Q106.571 1067.86 109.626 1072.47 Q112.705 1077.05 112.705 1085.8 Q112.705 1094.53 109.626 1099.13 Q106.571 1103.72 100.76 1103.72 Q94.9502 1103.72 91.8715 1099.13 Q88.816 1094.53 88.816 1085.8 Q88.816 1077.05 91.8715 1072.47 Q94.9502 1067.86 100.76 1067.86 Z\" fill=\"#000000\" fill-rule=\"evenodd\" fill-opacity=\"1\" /><path clip-path=\"url(#clip290)\" d=\"M120.922 1097.17 L125.807 1097.17 L125.807 1103.04 L120.922 1103.04 L120.922 1097.17 Z\" fill=\"#000000\" fill-rule=\"evenodd\" fill-opacity=\"1\" /><path clip-path=\"url(#clip290)\" d=\"M145.992 1071.56 Q142.381 1071.56 140.552 1075.13 Q138.746 1078.67 138.746 1085.8 Q138.746 1092.91 140.552 1096.47 Q142.381 1100.01 145.992 1100.01 Q149.626 1100.01 151.431 1096.47 Q153.26 1092.91 153.26 1085.8 Q153.26 1078.67 151.431 1075.13 Q149.626 1071.56 145.992 1071.56 M145.992 1067.86 Q151.802 1067.86 154.857 1072.47 Q157.936 1077.05 157.936 1085.8 Q157.936 1094.53 154.857 1099.13 Q151.802 1103.72 145.992 1103.72 Q140.181 1103.72 137.103 1099.13 Q134.047 1094.53 134.047 1085.8 Q134.047 1077.05 137.103 1072.47 Q140.181 1067.86 145.992 1067.86 Z\" fill=\"#000000\" fill-rule=\"evenodd\" fill-opacity=\"1\" /><path clip-path=\"url(#clip290)\" d=\"M176.153 1071.56 Q172.542 1071.56 170.714 1075.13 Q168.908 1078.67 168.908 1085.8 Q168.908 1092.91 170.714 1096.47 Q172.542 1100.01 176.153 1100.01 Q179.788 1100.01 181.593 1096.47 Q183.422 1092.91 183.422 1085.8 Q183.422 1078.67 181.593 1075.13 Q179.788 1071.56 176.153 1071.56 M176.153 1067.86 Q181.964 1067.86 185.019 1072.47 Q188.098 1077.05 188.098 1085.8 Q188.098 1094.53 185.019 1099.13 Q181.964 1103.72 176.153 1103.72 Q170.343 1103.72 167.265 1099.13 Q164.209 1094.53 164.209 1085.8 Q164.209 1077.05 167.265 1072.47 Q170.343 1067.86 176.153 1067.86 Z\" fill=\"#000000\" fill-rule=\"evenodd\" fill-opacity=\"1\" /><path clip-path=\"url(#clip290)\" d=\"M197.126 1099.11 L204.764 1099.11 L204.764 1072.74 L196.454 1074.41 L196.454 1070.15 L204.718 1068.48 L209.394 1068.48 L209.394 1099.11 L217.033 1099.11 L217.033 1103.04 L197.126 1103.04 L197.126 1099.11 Z\" fill=\"#000000\" fill-rule=\"evenodd\" fill-opacity=\"1\" /><path clip-path=\"url(#clip290)\" d=\"M99.5335 889.989 Q95.9224 889.989 94.0937 893.554 Q92.2882 897.096 92.2882 904.225 Q92.2882 911.332 94.0937 914.897 Q95.9224 918.438 99.5335 918.438 Q103.168 918.438 104.973 914.897 Q106.802 911.332 106.802 904.225 Q106.802 897.096 104.973 893.554 Q103.168 889.989 99.5335 889.989 M99.5335 886.286 Q105.344 886.286 108.399 890.892 Q111.478 895.476 111.478 904.225 Q111.478 912.952 108.399 917.559 Q105.344 922.142 99.5335 922.142 Q93.7234 922.142 90.6447 917.559 Q87.5892 912.952 87.5892 904.225 Q87.5892 895.476 90.6447 890.892 Q93.7234 886.286 99.5335 886.286 Z\" fill=\"#000000\" fill-rule=\"evenodd\" fill-opacity=\"1\" /><path clip-path=\"url(#clip290)\" d=\"M119.695 915.591 L124.58 915.591 L124.58 921.471 L119.695 921.471 L119.695 915.591 Z\" fill=\"#000000\" fill-rule=\"evenodd\" fill-opacity=\"1\" /><path clip-path=\"url(#clip290)\" d=\"M144.765 889.989 Q141.154 889.989 139.325 893.554 Q137.519 897.096 137.519 904.225 Q137.519 911.332 139.325 914.897 Q141.154 918.438 144.765 918.438 Q148.399 918.438 150.205 914.897 Q152.033 911.332 152.033 904.225 Q152.033 897.096 150.205 893.554 Q148.399 889.989 144.765 889.989 M144.765 886.286 Q150.575 886.286 153.63 890.892 Q156.709 895.476 156.709 904.225 Q156.709 912.952 153.63 917.559 Q150.575 922.142 144.765 922.142 Q138.955 922.142 135.876 917.559 Q132.82 912.952 132.82 904.225 Q132.82 895.476 135.876 890.892 Q138.955 886.286 144.765 886.286 Z\" fill=\"#000000\" fill-rule=\"evenodd\" fill-opacity=\"1\" /><path clip-path=\"url(#clip290)\" d=\"M174.927 889.989 Q171.316 889.989 169.487 893.554 Q167.681 897.096 167.681 904.225 Q167.681 911.332 169.487 914.897 Q171.316 918.438 174.927 918.438 Q178.561 918.438 180.366 914.897 Q182.195 911.332 182.195 904.225 Q182.195 897.096 180.366 893.554 Q178.561 889.989 174.927 889.989 M174.927 886.286 Q180.737 886.286 183.792 890.892 Q186.871 895.476 186.871 904.225 Q186.871 912.952 183.792 917.559 Q180.737 922.142 174.927 922.142 Q169.116 922.142 166.038 917.559 Q162.982 912.952 162.982 904.225 Q162.982 895.476 166.038 890.892 Q169.116 886.286 174.927 886.286 Z\" fill=\"#000000\" fill-rule=\"evenodd\" fill-opacity=\"1\" /><path clip-path=\"url(#clip290)\" d=\"M205.089 889.989 Q201.477 889.989 199.649 893.554 Q197.843 897.096 197.843 904.225 Q197.843 911.332 199.649 914.897 Q201.477 918.438 205.089 918.438 Q208.723 918.438 210.528 914.897 Q212.357 911.332 212.357 904.225 Q212.357 897.096 210.528 893.554 Q208.723 889.989 205.089 889.989 M205.089 886.286 Q210.899 886.286 213.954 890.892 Q217.033 895.476 217.033 904.225 Q217.033 912.952 213.954 917.559 Q210.899 922.142 205.089 922.142 Q199.278 922.142 196.2 917.559 Q193.144 912.952 193.144 904.225 Q193.144 895.476 196.2 890.892 Q199.278 886.286 205.089 886.286 Z\" fill=\"#000000\" fill-rule=\"evenodd\" fill-opacity=\"1\" /><path clip-path=\"url(#clip290)\" d=\"M100.76 708.415 Q97.1493 708.415 95.3206 711.98 Q93.515 715.522 93.515 722.651 Q93.515 729.758 95.3206 733.323 Q97.1493 736.864 100.76 736.864 Q104.395 736.864 106.2 733.323 Q108.029 729.758 108.029 722.651 Q108.029 715.522 106.2 711.98 Q104.395 708.415 100.76 708.415 M100.76 704.712 Q106.571 704.712 109.626 709.318 Q112.705 713.901 112.705 722.651 Q112.705 731.378 109.626 735.985 Q106.571 740.568 100.76 740.568 Q94.9502 740.568 91.8715 735.985 Q88.816 731.378 88.816 722.651 Q88.816 713.901 91.8715 709.318 Q94.9502 704.712 100.76 704.712 Z\" fill=\"#000000\" fill-rule=\"evenodd\" fill-opacity=\"1\" /><path clip-path=\"url(#clip290)\" d=\"M120.922 734.017 L125.807 734.017 L125.807 739.897 L120.922 739.897 L120.922 734.017 Z\" fill=\"#000000\" fill-rule=\"evenodd\" fill-opacity=\"1\" /><path clip-path=\"url(#clip290)\" d=\"M145.992 708.415 Q142.381 708.415 140.552 711.98 Q138.746 715.522 138.746 722.651 Q138.746 729.758 140.552 733.323 Q142.381 736.864 145.992 736.864 Q149.626 736.864 151.431 733.323 Q153.26 729.758 153.26 722.651 Q153.26 715.522 151.431 711.98 Q149.626 708.415 145.992 708.415 M145.992 704.712 Q151.802 704.712 154.857 709.318 Q157.936 713.901 157.936 722.651 Q157.936 731.378 154.857 735.985 Q151.802 740.568 145.992 740.568 Q140.181 740.568 137.103 735.985 Q134.047 731.378 134.047 722.651 Q134.047 713.901 137.103 709.318 Q140.181 704.712 145.992 704.712 Z\" fill=\"#000000\" fill-rule=\"evenodd\" fill-opacity=\"1\" /><path clip-path=\"url(#clip290)\" d=\"M176.153 708.415 Q172.542 708.415 170.714 711.98 Q168.908 715.522 168.908 722.651 Q168.908 729.758 170.714 733.323 Q172.542 736.864 176.153 736.864 Q179.788 736.864 181.593 733.323 Q183.422 729.758 183.422 722.651 Q183.422 715.522 181.593 711.98 Q179.788 708.415 176.153 708.415 M176.153 704.712 Q181.964 704.712 185.019 709.318 Q188.098 713.901 188.098 722.651 Q188.098 731.378 185.019 735.985 Q181.964 740.568 176.153 740.568 Q170.343 740.568 167.265 735.985 Q164.209 731.378 164.209 722.651 Q164.209 713.901 167.265 709.318 Q170.343 704.712 176.153 704.712 Z\" fill=\"#000000\" fill-rule=\"evenodd\" fill-opacity=\"1\" /><path clip-path=\"url(#clip290)\" d=\"M197.126 735.962 L204.764 735.962 L204.764 709.596 L196.454 711.263 L196.454 707.003 L204.718 705.337 L209.394 705.337 L209.394 735.962 L217.033 735.962 L217.033 739.897 L197.126 739.897 L197.126 735.962 Z\" fill=\"#000000\" fill-rule=\"evenodd\" fill-opacity=\"1\" /><path clip-path=\"url(#clip290)\" d=\"M101.131 526.841 Q97.5197 526.841 95.691 530.406 Q93.8854 533.948 93.8854 541.077 Q93.8854 548.184 95.691 551.749 Q97.5197 555.29 101.131 555.29 Q104.765 555.29 106.571 551.749 Q108.399 548.184 108.399 541.077 Q108.399 533.948 106.571 530.406 Q104.765 526.841 101.131 526.841 M101.131 523.138 Q106.941 523.138 109.996 527.744 Q113.075 532.327 113.075 541.077 Q113.075 549.804 109.996 554.411 Q106.941 558.994 101.131 558.994 Q95.3206 558.994 92.2419 554.411 Q89.1864 549.804 89.1864 541.077 Q89.1864 532.327 92.2419 527.744 Q95.3206 523.138 101.131 523.138 Z\" fill=\"#000000\" fill-rule=\"evenodd\" fill-opacity=\"1\" /><path clip-path=\"url(#clip290)\" d=\"M121.293 552.443 L126.177 552.443 L126.177 558.323 L121.293 558.323 L121.293 552.443 Z\" fill=\"#000000\" fill-rule=\"evenodd\" fill-opacity=\"1\" /><path clip-path=\"url(#clip290)\" d=\"M146.362 526.841 Q142.751 526.841 140.922 530.406 Q139.117 533.948 139.117 541.077 Q139.117 548.184 140.922 551.749 Q142.751 555.29 146.362 555.29 Q149.996 555.29 151.802 551.749 Q153.63 548.184 153.63 541.077 Q153.63 533.948 151.802 530.406 Q149.996 526.841 146.362 526.841 M146.362 523.138 Q152.172 523.138 155.228 527.744 Q158.306 532.327 158.306 541.077 Q158.306 549.804 155.228 554.411 Q152.172 558.994 146.362 558.994 Q140.552 558.994 137.473 554.411 Q134.418 549.804 134.418 541.077 Q134.418 532.327 137.473 527.744 Q140.552 523.138 146.362 523.138 Z\" fill=\"#000000\" fill-rule=\"evenodd\" fill-opacity=\"1\" /><path clip-path=\"url(#clip290)\" d=\"M176.524 526.841 Q172.913 526.841 171.084 530.406 Q169.279 533.948 169.279 541.077 Q169.279 548.184 171.084 551.749 Q172.913 555.29 176.524 555.29 Q180.158 555.29 181.964 551.749 Q183.792 548.184 183.792 541.077 Q183.792 533.948 181.964 530.406 Q180.158 526.841 176.524 526.841 M176.524 523.138 Q182.334 523.138 185.39 527.744 Q188.468 532.327 188.468 541.077 Q188.468 549.804 185.39 554.411 Q182.334 558.994 176.524 558.994 Q170.714 558.994 167.635 554.411 Q164.579 549.804 164.579 541.077 Q164.579 532.327 167.635 527.744 Q170.714 523.138 176.524 523.138 Z\" fill=\"#000000\" fill-rule=\"evenodd\" fill-opacity=\"1\" /><path clip-path=\"url(#clip290)\" d=\"M200.714 554.387 L217.033 554.387 L217.033 558.323 L195.089 558.323 L195.089 554.387 Q197.751 551.633 202.334 547.003 Q206.94 542.35 208.121 541.008 Q210.366 538.485 211.246 536.749 Q212.149 534.989 212.149 533.3 Q212.149 530.545 210.204 528.809 Q208.283 527.073 205.181 527.073 Q202.982 527.073 200.528 527.837 Q198.098 528.601 195.32 530.151 L195.32 525.429 Q198.144 524.295 200.598 523.716 Q203.051 523.138 205.089 523.138 Q210.459 523.138 213.653 525.823 Q216.848 528.508 216.848 532.999 Q216.848 535.128 216.038 537.05 Q215.251 538.948 213.144 541.54 Q212.565 542.212 209.463 545.429 Q206.362 548.624 200.714 554.387 Z\" fill=\"#000000\" fill-rule=\"evenodd\" fill-opacity=\"1\" /><path clip-path=\"url(#clip290)\" d=\"M100.182 345.267 Q96.5706 345.267 94.7419 348.832 Q92.9363 352.374 92.9363 359.503 Q92.9363 366.61 94.7419 370.175 Q96.5706 373.716 100.182 373.716 Q103.816 373.716 105.621 370.175 Q107.45 366.61 107.45 359.503 Q107.45 352.374 105.621 348.832 Q103.816 345.267 100.182 345.267 M100.182 341.564 Q105.992 341.564 109.047 346.17 Q112.126 350.753 112.126 359.503 Q112.126 368.23 109.047 372.837 Q105.992 377.42 100.182 377.42 Q94.3715 377.42 91.2928 372.837 Q88.2373 368.23 88.2373 359.503 Q88.2373 350.753 91.2928 346.17 Q94.3715 341.564 100.182 341.564 Z\" fill=\"#000000\" fill-rule=\"evenodd\" fill-opacity=\"1\" /><path clip-path=\"url(#clip290)\" d=\"M120.344 370.869 L125.228 370.869 L125.228 376.749 L120.344 376.749 L120.344 370.869 Z\" fill=\"#000000\" fill-rule=\"evenodd\" fill-opacity=\"1\" /><path clip-path=\"url(#clip290)\" d=\"M145.413 345.267 Q141.802 345.267 139.973 348.832 Q138.168 352.374 138.168 359.503 Q138.168 366.61 139.973 370.175 Q141.802 373.716 145.413 373.716 Q149.047 373.716 150.853 370.175 Q152.681 366.61 152.681 359.503 Q152.681 352.374 150.853 348.832 Q149.047 345.267 145.413 345.267 M145.413 341.564 Q151.223 341.564 154.279 346.17 Q157.357 350.753 157.357 359.503 Q157.357 368.23 154.279 372.837 Q151.223 377.42 145.413 377.42 Q139.603 377.42 136.524 372.837 Q133.469 368.23 133.469 359.503 Q133.469 350.753 136.524 346.17 Q139.603 341.564 145.413 341.564 Z\" fill=\"#000000\" fill-rule=\"evenodd\" fill-opacity=\"1\" /><path clip-path=\"url(#clip290)\" d=\"M175.575 345.267 Q171.964 345.267 170.135 348.832 Q168.329 352.374 168.329 359.503 Q168.329 366.61 170.135 370.175 Q171.964 373.716 175.575 373.716 Q179.209 373.716 181.015 370.175 Q182.843 366.61 182.843 359.503 Q182.843 352.374 181.015 348.832 Q179.209 345.267 175.575 345.267 M175.575 341.564 Q181.385 341.564 184.44 346.17 Q187.519 350.753 187.519 359.503 Q187.519 368.23 184.44 372.837 Q181.385 377.42 175.575 377.42 Q169.765 377.42 166.686 372.837 Q163.63 368.23 163.63 359.503 Q163.63 350.753 166.686 346.17 Q169.765 341.564 175.575 341.564 Z\" fill=\"#000000\" fill-rule=\"evenodd\" fill-opacity=\"1\" /><path clip-path=\"url(#clip290)\" d=\"M209.903 358.114 Q213.26 358.832 215.135 361.101 Q217.033 363.369 217.033 366.702 Q217.033 371.818 213.514 374.619 Q209.996 377.42 203.514 377.42 Q201.339 377.42 199.024 376.98 Q196.732 376.563 194.278 375.707 L194.278 371.193 Q196.223 372.327 198.538 372.906 Q200.852 373.485 203.376 373.485 Q207.774 373.485 210.065 371.749 Q212.38 370.012 212.38 366.702 Q212.38 363.647 210.227 361.934 Q208.098 360.198 204.278 360.198 L200.251 360.198 L200.251 356.355 L204.464 356.355 Q207.913 356.355 209.741 354.989 Q211.57 353.601 211.57 351.008 Q211.57 348.346 209.672 346.934 Q207.797 345.499 204.278 345.499 Q202.357 345.499 200.158 345.915 Q197.959 346.332 195.32 347.212 L195.32 343.045 Q197.982 342.304 200.297 341.934 Q202.635 341.564 204.695 341.564 Q210.019 341.564 213.121 343.994 Q216.223 346.402 216.223 350.522 Q216.223 353.392 214.579 355.383 Q212.936 357.351 209.903 358.114 Z\" fill=\"#000000\" fill-rule=\"evenodd\" fill-opacity=\"1\" /><path clip-path=\"url(#clip290)\" d=\"M99.0474 163.693 Q95.4363 163.693 93.6076 167.258 Q91.8021 170.8 91.8021 177.929 Q91.8021 185.036 93.6076 188.6 Q95.4363 192.142 99.0474 192.142 Q102.682 192.142 104.487 188.6 Q106.316 185.036 106.316 177.929 Q106.316 170.8 104.487 167.258 Q102.682 163.693 99.0474 163.693 M99.0474 159.99 Q104.858 159.99 107.913 164.596 Q110.992 169.179 110.992 177.929 Q110.992 186.656 107.913 191.262 Q104.858 195.846 99.0474 195.846 Q93.2373 195.846 90.1586 191.262 Q87.103 186.656 87.103 177.929 Q87.103 169.179 90.1586 164.596 Q93.2373 159.99 99.0474 159.99 Z\" fill=\"#000000\" fill-rule=\"evenodd\" fill-opacity=\"1\" /><path clip-path=\"url(#clip290)\" d=\"M119.209 189.295 L124.094 189.295 L124.094 195.174 L119.209 195.174 L119.209 189.295 Z\" fill=\"#000000\" fill-rule=\"evenodd\" fill-opacity=\"1\" /><path clip-path=\"url(#clip290)\" d=\"M144.279 163.693 Q140.668 163.693 138.839 167.258 Q137.033 170.8 137.033 177.929 Q137.033 185.036 138.839 188.6 Q140.668 192.142 144.279 192.142 Q147.913 192.142 149.718 188.6 Q151.547 185.036 151.547 177.929 Q151.547 170.8 149.718 167.258 Q147.913 163.693 144.279 163.693 M144.279 159.99 Q150.089 159.99 153.144 164.596 Q156.223 169.179 156.223 177.929 Q156.223 186.656 153.144 191.262 Q150.089 195.846 144.279 195.846 Q138.469 195.846 135.39 191.262 Q132.334 186.656 132.334 177.929 Q132.334 169.179 135.39 164.596 Q138.469 159.99 144.279 159.99 Z\" fill=\"#000000\" fill-rule=\"evenodd\" fill-opacity=\"1\" /><path clip-path=\"url(#clip290)\" d=\"M174.441 163.693 Q170.829 163.693 169.001 167.258 Q167.195 170.8 167.195 177.929 Q167.195 185.036 169.001 188.6 Q170.829 192.142 174.441 192.142 Q178.075 192.142 179.88 188.6 Q181.709 185.036 181.709 177.929 Q181.709 170.8 179.88 167.258 Q178.075 163.693 174.441 163.693 M174.441 159.99 Q180.251 159.99 183.306 164.596 Q186.385 169.179 186.385 177.929 Q186.385 186.656 183.306 191.262 Q180.251 195.846 174.441 195.846 Q168.63 195.846 165.552 191.262 Q162.496 186.656 162.496 177.929 Q162.496 169.179 165.552 164.596 Q168.63 159.99 174.441 159.99 Z\" fill=\"#000000\" fill-rule=\"evenodd\" fill-opacity=\"1\" /><path clip-path=\"url(#clip290)\" d=\"M207.45 164.689 L195.644 183.138 L207.45 183.138 L207.45 164.689 M206.223 160.614 L212.102 160.614 L212.102 183.138 L217.033 183.138 L217.033 187.026 L212.102 187.026 L212.102 195.174 L207.45 195.174 L207.45 187.026 L191.848 187.026 L191.848 182.513 L206.223 160.614 Z\" fill=\"#000000\" fill-rule=\"evenodd\" fill-opacity=\"1\" /><path clip-path=\"url(#clip290)\" d=\"M1083.72 12.096 L1091.9 12.096 L1091.9 72.576 L1083.72 72.576 L1083.72 12.096 Z\" fill=\"#000000\" fill-rule=\"evenodd\" fill-opacity=\"1\" /><path clip-path=\"url(#clip290)\" d=\"M1145.58 45.1919 L1145.58 72.576 L1138.12 72.576 L1138.12 45.4349 Q1138.12 38.994 1135.61 35.7938 Q1133.1 32.5936 1128.08 32.5936 Q1122.04 32.5936 1118.56 36.4419 Q1115.07 40.2903 1115.07 46.9338 L1115.07 72.576 L1107.58 72.576 L1107.58 27.2059 L1115.07 27.2059 L1115.07 34.2544 Q1117.75 30.163 1121.35 28.1376 Q1125 26.1121 1129.74 26.1121 Q1137.56 26.1121 1141.57 30.9732 Q1145.58 35.7938 1145.58 45.1919 Z\" fill=\"#000000\" fill-rule=\"evenodd\" fill-opacity=\"1\" /><path clip-path=\"url(#clip290)\" d=\"M1160.44 27.2059 L1167.9 27.2059 L1167.9 72.576 L1160.44 72.576 L1160.44 27.2059 M1160.44 9.54393 L1167.9 9.54393 L1167.9 18.9825 L1160.44 18.9825 L1160.44 9.54393 Z\" fill=\"#000000\" fill-rule=\"evenodd\" fill-opacity=\"1\" /><path clip-path=\"url(#clip290)\" d=\"M1190.87 14.324 L1190.87 27.2059 L1206.22 27.2059 L1206.22 32.9987 L1190.87 32.9987 L1190.87 57.6282 Q1190.87 63.1779 1192.37 64.7578 Q1193.9 66.3376 1198.56 66.3376 L1206.22 66.3376 L1206.22 72.576 L1198.56 72.576 Q1189.93 72.576 1186.65 69.3758 Q1183.37 66.1351 1183.37 57.6282 L1183.37 32.9987 L1177.9 32.9987 L1177.9 27.2059 L1183.37 27.2059 L1183.37 14.324 L1190.87 14.324 Z\" fill=\"#000000\" fill-rule=\"evenodd\" fill-opacity=\"1\" /><path clip-path=\"url(#clip290)\" d=\"M1216.02 27.2059 L1223.48 27.2059 L1223.48 72.576 L1216.02 72.576 L1216.02 27.2059 M1216.02 9.54393 L1223.48 9.54393 L1223.48 18.9825 L1216.02 18.9825 L1216.02 9.54393 Z\" fill=\"#000000\" fill-rule=\"evenodd\" fill-opacity=\"1\" /><path clip-path=\"url(#clip290)\" d=\"M1259.69 49.7694 Q1250.66 49.7694 1247.17 51.8354 Q1243.69 53.9013 1243.69 58.8839 Q1243.69 62.8538 1246.28 65.2034 Q1248.92 67.5124 1253.41 67.5124 Q1259.61 67.5124 1263.34 63.1374 Q1267.1 58.7219 1267.1 51.4303 L1267.1 49.7694 L1259.69 49.7694 M1274.56 46.6907 L1274.56 72.576 L1267.1 72.576 L1267.1 65.6895 Q1264.55 69.8214 1260.74 71.8063 Q1256.94 73.7508 1251.43 73.7508 Q1244.46 73.7508 1240.33 69.8619 Q1236.24 65.9325 1236.24 59.3701 Q1236.24 51.7138 1241.34 47.825 Q1246.49 43.9361 1256.65 43.9361 L1267.1 43.9361 L1267.1 43.2069 Q1267.1 38.0623 1263.7 35.2672 Q1260.34 32.4315 1254.22 32.4315 Q1250.33 32.4315 1246.65 33.3632 Q1242.96 34.295 1239.56 36.1584 L1239.56 29.2718 Q1243.65 27.692 1247.5 26.9223 Q1251.35 26.1121 1254.99 26.1121 Q1264.84 26.1121 1269.7 31.2163 Q1274.56 36.3204 1274.56 46.6907 Z\" fill=\"#000000\" fill-rule=\"evenodd\" fill-opacity=\"1\" /><path clip-path=\"url(#clip290)\" d=\"M1289.91 9.54393 L1297.36 9.54393 L1297.36 72.576 L1289.91 72.576 L1289.91 9.54393 Z\" fill=\"#000000\" fill-rule=\"evenodd\" fill-opacity=\"1\" /><path clip-path=\"url(#clip290)\" d=\"M1347.84 18.8205 L1347.84 65.8515 L1357.72 65.8515 Q1370.24 65.8515 1376.03 60.1802 Q1381.87 54.509 1381.87 42.2752 Q1381.87 30.1225 1376.03 24.4918 Q1370.24 18.8205 1357.72 18.8205 L1347.84 18.8205 M1339.66 12.096 L1356.47 12.096 Q1374.05 12.096 1382.27 19.4281 Q1390.5 26.7198 1390.5 42.2752 Q1390.5 57.9117 1382.23 65.2439 Q1373.97 72.576 1356.47 72.576 L1339.66 72.576 L1339.66 12.096 Z\" fill=\"#000000\" fill-rule=\"evenodd\" fill-opacity=\"1\" /><path clip-path=\"url(#clip290)\" d=\"M1423.83 49.7694 Q1414.8 49.7694 1411.32 51.8354 Q1407.83 53.9013 1407.83 58.8839 Q1407.83 62.8538 1410.43 65.2034 Q1413.06 67.5124 1417.56 67.5124 Q1423.75 67.5124 1427.48 63.1374 Q1431.25 58.7219 1431.25 51.4303 L1431.25 49.7694 L1423.83 49.7694 M1438.7 46.6907 L1438.7 72.576 L1431.25 72.576 L1431.25 65.6895 Q1428.7 69.8214 1424.89 71.8063 Q1421.08 73.7508 1415.57 73.7508 Q1408.6 73.7508 1404.47 69.8619 Q1400.38 65.9325 1400.38 59.3701 Q1400.38 51.7138 1405.48 47.825 Q1410.63 43.9361 1420.8 43.9361 L1431.25 43.9361 L1431.25 43.2069 Q1431.25 38.0623 1427.84 35.2672 Q1424.48 32.4315 1418.37 32.4315 Q1414.48 32.4315 1410.79 33.3632 Q1407.1 34.295 1403.7 36.1584 L1403.7 29.2718 Q1407.79 27.692 1411.64 26.9223 Q1415.49 26.1121 1419.14 26.1121 Q1428.98 26.1121 1433.84 31.2163 Q1438.7 36.3204 1438.7 46.6907 Z\" fill=\"#000000\" fill-rule=\"evenodd\" fill-opacity=\"1\" /><path clip-path=\"url(#clip290)\" d=\"M1461.43 14.324 L1461.43 27.2059 L1476.78 27.2059 L1476.78 32.9987 L1461.43 32.9987 L1461.43 57.6282 Q1461.43 63.1779 1462.93 64.7578 Q1464.46 66.3376 1469.12 66.3376 L1476.78 66.3376 L1476.78 72.576 L1469.12 72.576 Q1460.49 72.576 1457.21 69.3758 Q1453.93 66.1351 1453.93 57.6282 L1453.93 32.9987 L1448.46 32.9987 L1448.46 27.2059 L1453.93 27.2059 L1453.93 14.324 L1461.43 14.324 Z\" fill=\"#000000\" fill-rule=\"evenodd\" fill-opacity=\"1\" /><path clip-path=\"url(#clip290)\" d=\"M1507.2 49.7694 Q1498.17 49.7694 1494.68 51.8354 Q1491.2 53.9013 1491.2 58.8839 Q1491.2 62.8538 1493.79 65.2034 Q1496.43 67.5124 1500.92 67.5124 Q1507.12 67.5124 1510.85 63.1374 Q1514.61 58.7219 1514.61 51.4303 L1514.61 49.7694 L1507.2 49.7694 M1522.07 46.6907 L1522.07 72.576 L1514.61 72.576 L1514.61 65.6895 Q1512.06 69.8214 1508.25 71.8063 Q1504.45 73.7508 1498.94 73.7508 Q1491.97 73.7508 1487.84 69.8619 Q1483.75 65.9325 1483.75 59.3701 Q1483.75 51.7138 1488.85 47.825 Q1494 43.9361 1504.16 43.9361 L1514.61 43.9361 L1514.61 43.2069 Q1514.61 38.0623 1511.21 35.2672 Q1507.85 32.4315 1501.73 32.4315 Q1497.84 32.4315 1494.16 33.3632 Q1490.47 34.295 1487.07 36.1584 L1487.07 29.2718 Q1491.16 27.692 1495.01 26.9223 Q1498.86 26.1121 1502.5 26.1121 Q1512.35 26.1121 1517.21 31.2163 Q1522.07 36.3204 1522.07 46.6907 Z\" fill=\"#000000\" fill-rule=\"evenodd\" fill-opacity=\"1\" /><polyline clip-path=\"url(#clip292)\" style=\"stroke:#009af9; stroke-linecap:round; stroke-linejoin:round; stroke-width:4; stroke-opacity:1; fill:none\" points=\"253.033,904.191 284.063,904.191 314.19,904.191 343.452,904.191 371.885,904.191 399.525,904.191 426.405,904.191 452.554,904.191 478.003,904.191 502.78,904.191 526.91,904.191 550.419,904.191 573.33,904.191 595.666,904.191 617.448,904.191 638.696,904.191 659.431,904.191 679.67,904.191 699.431,904.191 718.73,904.191 737.584,904.191 756.008,904.191 774.017,904.191 791.624,904.191 808.842,904.191 825.685,904.191 842.164,904.191 858.291,904.191 874.078,904.191 889.534,904.191 904.671,904.191 919.498,904.191 934.024,904.191 948.259,904.191 962.211,904.191 975.888,904.191 989.299,904.191 1002.45,904.191 1015.35,904.191 1028.01,904.191 1040.43,904.191 1052.62,904.191 1064.58,904.191 1076.33,904.191 1087.86,904.191 1099.19,904.191 1110.32,904.191 1121.25,904.191 1131.99,904.191 1142.54,904.191 1152.91,904.191 1163.11,904.191 1173.14,904.191 1182.99,904.191 1192.69,904.191 1202.22,904.191 1211.6,904.191 1220.83,904.191 1229.91,904.191 1238.84,904.191 1247.64,904.191 1256.29,904.191 1264.82,904.191 1273.21,904.191 1281.47,904.191 1289.61,904.191 1297.62,904.191 1305.51,904.191 1313.29,904.191 1320.95,904.191 1328.5,904.191 1335.94,904.191 1343.27,904.191 1350.5,904.191 1357.63,904.191 1364.65,904.191 1371.58,904.191 1378.41,904.191 1385.14,904.191 1391.78,904.191 1398.34,904.191 1404.8,904.191 1411.18,904.191 1417.47,904.191 1423.67,904.191 1429.8,904.191 1435.85,904.191 1441.81,904.191 1447.7,904.191 1453.52,904.191 1459.26,904.191 1464.92,904.191 1470.52,904.191 1476.04,904.191 1481.5,904.191 1486.89,904.191 1492.21,904.191 1497.47,904.191 1502.67,904.191 1507.8,904.191 1512.87,904.191 1517.88,904.191 1522.83,904.191 1527.72,904.191 1532.55,904.191 1537.33,904.191 1542.05,904.191 1546.72,904.191 1551.33,904.191 1555.9,904.191 1560.41,904.191 1564.87,904.191 1569.28,904.191 1573.64,904.191 1577.95,904.191 1582.22,904.191 1586.43,904.191 1590.61,904.191 1594.73,904.191 1598.82,904.191 1602.85,904.191 1606.85,904.191 1610.8,904.191 1614.72,904.191 1618.59,904.191 1622.42,904.191 1626.21,904.191 1629.96,904.191 1633.67,904.191 1637.35,904.191 1640.99,904.191 1644.59,904.191 1648.15,904.191 1651.68,904.191 1655.17,904.191 1658.63,904.191 1662.06,904.191 1665.45,904.191 1668.81,904.191 1672.13,904.191 1675.43,904.191 1678.69,904.191 1681.92,904.191 1685.12,904.191 1688.29,904.191 1691.43,904.191 1694.54,904.191 1697.62,904.191 1700.67,904.191 1703.69,904.191 1706.69,904.191 1709.66,904.191 1712.6,904.191 1715.51,904.191 1718.4,904.191 1721.26,904.191 1724.1,904.191 1726.91,904.191 1729.69,904.191 1732.45,904.191 1735.19,904.191 1737.9,904.191 1740.59,904.191 1743.26,904.191 1745.9,904.191 1748.52,904.191 1751.12,904.191 1753.69,904.191 1756.24,904.191 1758.77,904.191 1761.28,904.191 1763.77,904.191 1766.24,904.191 1768.69,904.191 1771.12,904.191 1773.52,904.191 1775.91,904.191 1778.28,904.191 1780.62,904.191 1782.95,904.191 1785.26,904.191 1787.55,904.191 1789.83,904.191 1792.08,904.191 1794.32,904.191 1796.54,904.191 1798.74,904.191 1800.92,904.191 1803.09,904.191 1805.24,904.191 1807.37,904.191 1809.49,904.191 1811.59,904.191 1813.67,904.191 1815.74,904.191 1817.79,904.191 1819.83,904.191 1821.85,904.191 1823.86,904.191 1825.85,904.191 1827.83,904.191 \"/>\n",
       "<polyline clip-path=\"url(#clip292)\" style=\"stroke:#e26f46; stroke-linecap:round; stroke-linejoin:round; stroke-width:4; stroke-opacity:1; fill:none\" points=\"253.033,904.191 284.063,904.191 314.19,904.191 343.452,904.191 371.885,904.191 399.525,904.191 426.405,904.191 452.554,904.191 478.003,904.191 502.78,904.191 526.91,904.191 550.419,904.191 573.33,904.191 595.666,904.191 617.448,904.191 638.696,904.191 659.431,904.191 679.67,904.191 699.431,904.191 718.73,904.191 737.584,904.191 756.008,904.191 774.017,904.191 791.624,904.191 808.842,904.191 825.685,904.191 842.164,904.191 858.291,904.191 874.078,904.191 889.534,904.191 904.671,904.191 919.498,904.191 934.024,904.191 948.259,904.191 962.211,904.191 975.888,904.191 989.299,904.191 1002.45,904.191 1015.35,904.191 1028.01,904.191 1040.43,904.191 1052.62,904.191 1064.58,904.191 1076.33,904.191 1087.86,904.191 1099.19,904.191 1110.32,904.191 1121.25,904.191 1131.99,904.191 1142.54,904.191 1152.91,904.191 1163.11,904.191 1173.14,904.191 1182.99,904.191 1192.69,904.191 1202.22,904.191 1211.6,904.191 1220.83,904.191 1229.91,904.191 1238.84,904.191 1247.64,904.191 1256.29,904.191 1264.82,904.191 1273.21,904.191 1281.47,904.191 1289.61,904.191 1297.62,904.191 1305.51,904.191 1313.29,904.191 1320.95,904.191 1328.5,904.191 1335.94,904.191 1343.27,904.191 1350.5,904.191 1357.63,904.191 1364.65,904.191 1371.58,904.191 1378.41,904.191 1385.14,904.191 1391.78,904.191 1398.34,904.191 1404.8,904.191 1411.18,904.191 1417.47,904.191 1423.67,904.191 1429.8,904.191 1435.85,904.191 1441.81,904.191 1447.7,904.191 1453.52,904.191 1459.26,904.191 1464.92,904.191 1470.52,904.191 1476.04,904.191 1481.5,904.191 1486.89,904.191 1492.21,904.191 1497.47,904.191 1502.67,904.191 1507.8,904.191 1512.87,904.191 1517.88,904.191 1522.83,904.191 1527.72,904.191 1532.55,904.191 1537.33,904.191 1542.05,904.191 1546.72,904.191 1551.33,904.191 1555.9,904.191 1560.41,904.191 1564.87,904.191 1569.28,904.191 1573.64,904.191 1577.95,904.191 1582.22,904.191 1586.43,904.191 1590.61,904.191 1594.73,904.191 1598.82,904.191 1602.85,904.191 1606.85,904.191 1610.8,904.191 1614.72,904.191 1618.59,904.191 1622.42,904.191 1626.21,904.191 1629.96,904.191 1633.67,904.191 1637.35,904.191 1640.99,904.191 1644.59,904.191 1648.15,904.191 1651.68,904.191 1655.17,904.191 1658.63,904.191 1662.06,904.191 1665.45,904.191 1668.81,904.191 1672.13,904.191 1675.43,904.191 1678.69,904.191 1681.92,904.191 1685.12,904.191 1688.29,904.191 1691.43,904.191 1694.54,904.191 1697.62,904.191 1700.67,904.191 1703.69,904.191 1706.69,904.191 1709.66,904.191 1712.6,904.191 1715.51,904.191 1718.4,904.191 1721.26,904.191 1724.1,904.191 1726.91,904.191 1729.69,904.191 1732.45,904.191 1735.19,904.191 1737.9,904.191 1740.59,904.191 1743.26,904.191 1745.9,904.191 1748.52,904.191 1751.12,904.191 1753.69,904.191 1756.24,904.191 1758.77,904.191 1761.28,904.191 1763.77,904.191 1766.24,904.191 1768.69,904.191 1771.12,904.191 1773.52,904.191 1775.91,904.191 1778.28,904.191 1780.62,904.191 1782.95,904.191 1785.26,904.191 1787.55,904.191 1789.83,904.191 1792.08,904.191 1794.32,904.191 1796.54,904.191 1798.74,904.191 1800.92,904.191 1803.09,904.191 1805.24,904.191 1807.37,904.191 1809.49,904.191 1811.59,904.191 1813.67,904.191 1815.74,904.191 1817.79,904.191 1819.83,904.191 1821.85,904.191 1823.86,904.191 1825.85,904.191 1827.83,904.191 \"/>\n",
       "<polyline clip-path=\"url(#clip292)\" style=\"stroke:#3da44d; stroke-linecap:round; stroke-linejoin:round; stroke-width:4; stroke-opacity:1; fill:none\" points=\"253.033,904.191 284.063,904.191 314.19,904.191 343.452,904.191 371.885,904.191 399.525,904.191 426.405,904.191 452.554,904.191 478.003,904.191 502.78,904.191 526.91,904.191 550.419,904.191 573.33,904.191 595.666,904.191 617.448,904.191 638.696,904.191 659.431,904.191 679.67,904.191 699.431,904.191 718.73,904.191 737.584,904.191 756.008,904.191 774.017,904.191 791.624,904.191 808.842,904.191 825.685,904.191 842.164,904.191 858.291,904.191 874.078,904.191 889.534,904.191 904.671,904.191 919.498,904.191 934.024,904.191 948.259,904.191 962.211,904.191 975.888,904.191 989.299,904.191 1002.45,904.191 1015.35,904.191 1028.01,904.191 1040.43,904.191 1052.62,904.191 1064.58,904.191 1076.33,904.191 1087.86,904.191 1099.19,904.191 1110.32,904.191 1121.25,904.191 1131.99,904.191 1142.54,904.191 1152.91,904.191 1163.11,904.191 1173.14,904.191 1182.99,904.191 1192.69,904.191 1202.22,904.191 1211.6,904.191 1220.83,904.191 1229.91,904.191 1238.84,904.191 1247.64,904.191 1256.29,904.191 1264.82,904.191 1273.21,904.191 1281.47,904.191 1289.61,904.191 1297.62,904.191 1305.51,904.191 1313.29,904.191 1320.95,904.191 1328.5,904.191 1335.94,904.191 1343.27,904.191 1350.5,904.191 1357.63,904.191 1364.65,904.191 1371.58,904.191 1378.41,904.191 1385.14,904.191 1391.78,904.191 1398.34,904.191 1404.8,904.191 1411.18,904.191 1417.47,904.191 1423.67,904.191 1429.8,904.191 1435.85,904.191 1441.81,904.191 1447.7,904.191 1453.52,904.191 1459.26,904.191 1464.92,904.191 1470.52,904.191 1476.04,904.191 1481.5,904.191 1486.89,904.191 1492.21,904.191 1497.47,904.191 1502.67,904.191 1507.8,904.191 1512.87,904.191 1517.88,904.191 1522.83,904.191 1527.72,904.191 1532.55,904.191 1537.33,904.191 1542.05,904.191 1546.72,904.191 1551.33,904.191 1555.9,904.191 1560.41,904.191 1564.87,904.191 1569.28,904.191 1573.64,904.191 1577.95,904.191 1582.22,904.191 1586.43,904.191 1590.61,904.191 1594.73,904.191 1598.82,904.191 1602.85,904.191 1606.85,904.191 1610.8,904.191 1614.72,904.191 1618.59,904.191 1622.42,904.191 1626.21,904.191 1629.96,904.191 1633.67,904.191 1637.35,904.191 1640.99,904.191 1644.59,904.191 1648.15,904.191 1651.68,904.191 1655.17,904.191 1658.63,904.191 1662.06,904.191 1665.45,904.191 1668.81,904.191 1672.13,904.191 1675.43,904.191 1678.69,904.191 1681.92,904.191 1685.12,904.191 1688.29,904.191 1691.43,904.191 1694.54,904.191 1697.62,904.191 1700.67,904.191 1703.69,904.191 1706.69,904.191 1709.66,904.191 1712.6,904.191 1715.51,904.191 1718.4,904.191 1721.26,904.191 1724.1,904.191 1726.91,904.191 1729.69,904.191 1732.45,904.191 1735.19,904.191 1737.9,904.191 1740.59,904.191 1743.26,904.191 1745.9,904.191 1748.52,904.191 1751.12,904.191 1753.69,904.191 1756.24,904.191 1758.77,904.191 1761.28,904.191 1763.77,904.191 1766.24,904.191 1768.69,904.191 1771.12,904.191 1773.52,904.191 1775.91,904.191 1778.28,904.191 1780.62,904.191 1782.95,904.191 1785.26,904.191 1787.55,904.191 1789.83,904.191 1792.08,904.191 1794.32,904.191 1796.54,904.191 1798.74,904.191 1800.92,904.191 1803.09,904.191 1805.24,904.191 1807.37,904.191 1809.49,904.191 1811.59,904.191 1813.67,904.191 1815.74,904.191 1817.79,904.191 1819.83,904.191 1821.85,904.191 1823.86,904.191 1825.85,904.191 1827.83,904.191 \"/>\n",
       "<polyline clip-path=\"url(#clip292)\" style=\"stroke:#c271d2; stroke-linecap:round; stroke-linejoin:round; stroke-width:4; stroke-opacity:1; fill:none\" points=\"253.033,904.191 284.063,904.191 314.19,904.188 343.452,904.172 371.885,904.112 399.525,903.944 426.405,903.538 452.554,902.674 478.003,901.009 502.78,898.058 526.91,893.206 550.419,885.739 573.33,874.925 595.666,860.113 617.448,840.864 638.696,817.066 659.431,789.035 679.67,757.564 699.431,723.92 718.73,689.766 737.584,657.048 756.008,627.821 774.017,604.073 791.624,587.547 808.842,579.596 825.685,581.073 842.164,592.279 858.291,612.959 874.078,642.349 889.534,679.257 904.671,722.176 919.498,769.396 934.024,819.133 948.259,869.634 962.211,919.27 975.888,966.609 989.299,1010.46 1002.45,1049.91 1015.35,1084.3 1028.01,1113.25 1040.43,1136.63 1052.62,1154.48 1064.58,1167.04 1076.33,1174.68 1087.86,1177.85 1099.19,1177.08 1110.32,1172.9 1121.25,1165.89 1131.99,1156.58 1142.54,1145.47 1152.91,1133.04 1163.11,1119.7 1173.14,1105.83 1182.99,1091.73 1192.69,1077.68 1202.22,1063.88 1211.6,1050.5 1220.83,1037.68 1229.91,1025.51 1238.84,1014.06 1247.64,1003.36 1256.29,993.421 1264.82,984.254 1273.21,975.841 1281.47,968.156 1289.61,961.167 1297.62,954.838 1305.51,949.125 1313.29,943.987 1320.95,939.379 1328.5,935.258 1335.94,931.582 1343.27,928.31 1350.5,925.405 1357.63,922.831 1364.65,920.553 1371.58,918.541 1378.41,916.767 1385.14,915.204 1391.78,913.83 1398.34,912.622 1404.8,911.562 1411.18,910.633 1417.47,909.819 1423.67,909.106 1429.8,908.482 1435.85,907.937 1441.81,907.461 1447.7,907.045 1453.52,906.682 1459.26,906.365 1464.92,906.088 1470.52,905.847 1476.04,905.637 1481.5,905.453 1486.89,905.293 1492.21,905.154 1497.47,905.032 1502.67,904.926 1507.8,904.834 1512.87,904.754 1517.88,904.684 1522.83,904.622 1527.72,904.569 1532.55,904.522 1537.33,904.482 1542.05,904.446 1546.72,904.416 1551.33,904.389 1555.9,904.365 1560.41,904.344 1564.87,904.326 1569.28,904.311 1573.64,904.297 1577.95,904.285 1582.22,904.275 1586.43,904.265 1590.61,904.257 1594.73,904.25 1598.82,904.244 1602.85,904.239 1606.85,904.234 1610.8,904.23 1614.72,904.226 1618.59,904.223 1622.42,904.22 1626.21,904.218 1629.96,904.216 1633.67,904.214 1637.35,904.212 1640.99,904.21 1644.59,904.209 1648.15,904.208 1651.68,904.207 1655.17,904.206 1658.63,904.205 1662.06,904.205 1665.45,904.204 1668.81,904.204 1672.13,904.203 1675.43,904.203 1678.69,904.202 1681.92,904.202 1685.12,904.202 1688.29,904.202 1691.43,904.201 1694.54,904.201 1697.62,904.201 1700.67,904.201 1703.69,904.201 1706.69,904.201 1709.66,904.201 1712.6,904.201 1715.51,904.201 1718.4,904.201 1721.26,904.2 1724.1,904.2 1726.91,904.2 1729.69,904.2 1732.45,904.2 1735.19,904.2 1737.9,904.2 1740.59,904.2 1743.26,904.2 1745.9,904.2 1748.52,904.2 1751.12,904.2 1753.69,904.2 1756.24,904.2 1758.77,904.2 1761.28,904.2 1763.77,904.2 1766.24,904.2 1768.69,904.201 1771.12,904.201 1773.52,904.201 1775.91,904.201 1778.28,904.201 1780.62,904.201 1782.95,904.201 1785.26,904.201 1787.55,904.201 1789.83,904.201 1792.08,904.201 1794.32,904.201 1796.54,904.201 1798.74,904.201 1800.92,904.201 1803.09,904.201 1805.24,904.201 1807.37,904.201 1809.49,904.201 1811.59,904.201 1813.67,904.201 1815.74,904.201 1817.79,904.201 1819.83,904.201 1821.85,904.201 1823.86,904.201 1825.85,904.201 1827.83,904.201 \"/>\n",
       "<polyline clip-path=\"url(#clip292)\" style=\"stroke:#ac8d18; stroke-linecap:round; stroke-linejoin:round; stroke-width:4; stroke-opacity:1; fill:none\" points=\"253.033,904.191 284.063,904.19 314.19,904.181 343.452,904.139 371.885,903.996 399.525,903.605 426.405,902.681 452.554,900.735 478.003,897.016 502.78,890.466 526.91,879.742 550.419,863.291 573.33,839.51 595.666,806.971 617.448,764.684 638.696,712.352 659.431,650.579 679.67,580.981 699.431,506.176 718.73,429.64 737.584,355.45 756.008,287.946 774.017,231.351 791.624,189.407 808.842,165.065 825.685,160.256 842.164,175.774 858.291,211.262 874.078,265.302 889.534,335.581 904.671,419.103 919.498,512.44 934.024,611.973 948.259,714.12 962.211,815.528 975.888,913.219 989.299,1004.69 1002.45,1087.98 1015.35,1161.66 1028.01,1224.85 1040.43,1277.13 1052.62,1318.54 1064.58,1349.42 1076.33,1370.44 1087.86,1382.44 1099.19,1386.4 1110.32,1383.36 1121.25,1374.4 1131.99,1360.58 1142.54,1342.89 1152.91,1322.26 1163.11,1299.52 1173.14,1275.41 1182.99,1250.56 1192.69,1225.51 1202.22,1200.7 1211.6,1176.49 1220.83,1153.14 1229.91,1130.87 1238.84,1109.81 1247.64,1090.07 1256.29,1071.68 1264.82,1054.67 1273.21,1039.02 1281.47,1024.69 1289.61,1011.64 1297.62,999.789 1305.51,989.081 1313.29,979.435 1320.95,970.773 1328.5,963.017 1335.94,956.091 1343.27,949.921 1350.5,944.436 1357.63,939.571 1364.65,935.263 1371.58,931.455 1378.41,928.094 1385.14,925.132 1391.78,922.525 1398.34,920.234 1404.8,918.221 1411.18,916.455 1417.47,914.908 1423.67,913.552 1429.8,912.366 1435.85,911.328 1441.81,910.421 1447.7,909.628 1453.52,908.936 1459.26,908.332 1464.92,907.804 1470.52,907.344 1476.04,906.943 1481.5,906.592 1486.89,906.287 1492.21,906.021 1497.47,905.789 1502.67,905.586 1507.8,905.41 1512.87,905.256 1517.88,905.121 1522.83,905.004 1527.72,904.902 1532.55,904.813 1537.33,904.735 1542.05,904.667 1546.72,904.608 1551.33,904.556 1555.9,904.511 1560.41,904.472 1564.87,904.437 1569.28,904.407 1573.64,904.38 1577.95,904.357 1582.22,904.337 1586.43,904.319 1590.61,904.304 1594.73,904.29 1598.82,904.278 1602.85,904.268 1606.85,904.259 1610.8,904.251 1614.72,904.244 1618.59,904.237 1622.42,904.232 1626.21,904.227 1629.96,904.223 1633.67,904.219 1637.35,904.216 1640.99,904.213 1644.59,904.211 1648.15,904.208 1651.68,904.206 1655.17,904.205 1658.63,904.203 1662.06,904.202 1665.45,904.2 1668.81,904.199 1672.13,904.198 1675.43,904.198 1678.69,904.197 1681.92,904.196 1685.12,904.196 1688.29,904.195 1691.43,904.195 1694.54,904.194 1697.62,904.194 1700.67,904.193 1703.69,904.193 1706.69,904.193 1709.66,904.193 1712.6,904.193 1715.51,904.192 1718.4,904.192 1721.26,904.192 1724.1,904.192 1726.91,904.192 1729.69,904.192 1732.45,904.192 1735.19,904.192 1737.9,904.191 1740.59,904.191 1743.26,904.191 1745.9,904.191 1748.52,904.191 1751.12,904.191 1753.69,904.191 1756.24,904.191 1758.77,904.191 1761.28,904.191 1763.77,904.191 1766.24,904.191 1768.69,904.191 1771.12,904.191 1773.52,904.191 1775.91,904.191 1778.28,904.191 1780.62,904.191 1782.95,904.191 1785.26,904.191 1787.55,904.191 1789.83,904.191 1792.08,904.191 1794.32,904.191 1796.54,904.191 1798.74,904.191 1800.92,904.191 1803.09,904.191 1805.24,904.191 1807.37,904.191 1809.49,904.191 1811.59,904.191 1813.67,904.191 1815.74,904.191 1817.79,904.191 1819.83,904.191 1821.85,904.191 1823.86,904.191 1825.85,904.191 1827.83,904.191 \"/>\n",
       "<polyline clip-path=\"url(#clip292)\" style=\"stroke:#00a9ad; stroke-linecap:round; stroke-linejoin:round; stroke-width:4; stroke-opacity:1; fill:none\" points=\"253.033,904.191 284.063,904.191 314.19,904.191 343.452,904.191 371.885,904.191 399.525,904.191 426.405,904.191 452.554,904.191 478.003,904.191 502.78,904.191 526.91,904.191 550.419,904.191 573.33,904.191 595.666,904.191 617.448,904.191 638.696,904.191 659.431,904.191 679.67,904.191 699.431,904.191 718.73,904.191 737.584,904.191 756.008,904.191 774.017,904.191 791.624,904.191 808.842,904.191 825.685,904.191 842.164,904.191 858.291,904.191 874.078,904.191 889.534,904.191 904.671,904.191 919.498,904.191 934.024,904.191 948.259,904.191 962.211,904.191 975.888,904.191 989.299,904.191 1002.45,904.191 1015.35,904.191 1028.01,904.191 1040.43,904.191 1052.62,904.191 1064.58,904.191 1076.33,904.191 1087.86,904.191 1099.19,904.191 1110.32,904.191 1121.25,904.191 1131.99,904.191 1142.54,904.191 1152.91,904.191 1163.11,904.191 1173.14,904.191 1182.99,904.191 1192.69,904.191 1202.22,904.191 1211.6,904.191 1220.83,904.191 1229.91,904.191 1238.84,904.191 1247.64,904.191 1256.29,904.191 1264.82,904.191 1273.21,904.191 1281.47,904.191 1289.61,904.191 1297.62,904.191 1305.51,904.191 1313.29,904.191 1320.95,904.191 1328.5,904.191 1335.94,904.191 1343.27,904.191 1350.5,904.191 1357.63,904.191 1364.65,904.191 1371.58,904.191 1378.41,904.191 1385.14,904.191 1391.78,904.191 1398.34,904.191 1404.8,904.191 1411.18,904.191 1417.47,904.191 1423.67,904.191 1429.8,904.191 1435.85,904.191 1441.81,904.191 1447.7,904.191 1453.52,904.191 1459.26,904.191 1464.92,904.191 1470.52,904.191 1476.04,904.191 1481.5,904.191 1486.89,904.191 1492.21,904.191 1497.47,904.191 1502.67,904.191 1507.8,904.191 1512.87,904.191 1517.88,904.191 1522.83,904.191 1527.72,904.191 1532.55,904.191 1537.33,904.191 1542.05,904.191 1546.72,904.191 1551.33,904.191 1555.9,904.191 1560.41,904.191 1564.87,904.191 1569.28,904.191 1573.64,904.191 1577.95,904.191 1582.22,904.191 1586.43,904.191 1590.61,904.191 1594.73,904.191 1598.82,904.191 1602.85,904.191 1606.85,904.191 1610.8,904.191 1614.72,904.191 1618.59,904.191 1622.42,904.191 1626.21,904.191 1629.96,904.191 1633.67,904.191 1637.35,904.191 1640.99,904.191 1644.59,904.191 1648.15,904.191 1651.68,904.191 1655.17,904.191 1658.63,904.191 1662.06,904.191 1665.45,904.191 1668.81,904.191 1672.13,904.191 1675.43,904.191 1678.69,904.191 1681.92,904.191 1685.12,904.191 1688.29,904.191 1691.43,904.191 1694.54,904.191 1697.62,904.191 1700.67,904.191 1703.69,904.191 1706.69,904.191 1709.66,904.191 1712.6,904.191 1715.51,904.191 1718.4,904.191 1721.26,904.191 1724.1,904.191 1726.91,904.191 1729.69,904.191 1732.45,904.191 1735.19,904.191 1737.9,904.191 1740.59,904.191 1743.26,904.191 1745.9,904.191 1748.52,904.191 1751.12,904.191 1753.69,904.191 1756.24,904.191 1758.77,904.191 1761.28,904.191 1763.77,904.191 1766.24,904.191 1768.69,904.191 1771.12,904.191 1773.52,904.191 1775.91,904.191 1778.28,904.191 1780.62,904.191 1782.95,904.191 1785.26,904.191 1787.55,904.191 1789.83,904.191 1792.08,904.191 1794.32,904.191 1796.54,904.191 1798.74,904.191 1800.92,904.191 1803.09,904.191 1805.24,904.191 1807.37,904.191 1809.49,904.191 1811.59,904.191 1813.67,904.191 1815.74,904.191 1817.79,904.191 1819.83,904.191 1821.85,904.191 1823.86,904.191 1825.85,904.191 1827.83,904.191 \"/>\n",
       "<polyline clip-path=\"url(#clip292)\" style=\"stroke:#ed5d92; stroke-linecap:round; stroke-linejoin:round; stroke-width:4; stroke-opacity:1; fill:none\" points=\"253.033,904.191 284.063,904.191 314.19,904.191 343.452,904.19 371.885,904.189 399.525,904.183 426.405,904.168 452.554,904.132 478.003,904.055 502.78,903.903 526.91,903.623 550.419,903.141 573.33,902.359 595.666,901.157 617.448,899.394 638.696,896.922 659.431,893.593 679.67,889.275 699.431,883.871 718.73,877.327 737.584,869.647 756.008,860.898 774.017,851.213 791.624,840.785 808.842,829.857 825.685,818.708 842.164,807.64 858.291,796.955 874.078,786.944 889.534,777.869 904.671,769.951 919.498,763.365 934.024,758.23 948.259,754.612 962.211,752.524 975.888,751.934 989.299,752.765 1002.45,754.908 1015.35,758.231 1028.01,762.58 1040.43,767.796 1052.62,773.714 1064.58,780.174 1076.33,787.022 1087.86,794.117 1099.19,801.33 1110.32,808.548 1121.25,815.675 1131.99,822.63 1142.54,829.347 1152.91,835.776 1163.11,841.879 1173.14,847.629 1182.99,853.012 1192.69,858.019 1202.22,862.652 1211.6,866.917 1220.83,870.826 1229.91,874.391 1238.84,877.632 1247.64,880.566 1256.29,883.215 1264.82,885.598 1273.21,887.736 1281.47,889.649 1289.61,891.358 1297.62,892.879 1305.51,894.231 1313.29,895.431 1320.95,896.493 1328.5,897.433 1335.94,898.262 1343.27,898.994 1350.5,899.638 1357.63,900.204 1364.65,900.702 1371.58,901.139 1378.41,901.522 1385.14,901.858 1391.78,902.152 1398.34,902.409 1404.8,902.635 1411.18,902.832 1417.47,903.004 1423.67,903.154 1429.8,903.285 1435.85,903.4 1441.81,903.5 1447.7,903.588 1453.52,903.664 1459.26,903.73 1464.92,903.788 1470.52,903.839 1476.04,903.883 1481.5,903.922 1486.89,903.956 1492.21,903.985 1497.47,904.011 1502.67,904.033 1507.8,904.053 1512.87,904.07 1517.88,904.085 1522.83,904.098 1527.72,904.109 1532.55,904.119 1537.33,904.128 1542.05,904.136 1546.72,904.142 1551.33,904.148 1555.9,904.153 1560.41,904.158 1564.87,904.162 1569.28,904.165 1573.64,904.168 1577.95,904.171 1582.22,904.173 1586.43,904.175 1590.61,904.177 1594.73,904.179 1598.82,904.18 1602.85,904.181 1606.85,904.182 1610.8,904.183 1614.72,904.184 1618.59,904.185 1622.42,904.186 1626.21,904.186 1629.96,904.187 1633.67,904.187 1637.35,904.188 1640.99,904.188 1644.59,904.188 1648.15,904.188 1651.68,904.189 1655.17,904.189 1658.63,904.189 1662.06,904.189 1665.45,904.189 1668.81,904.19 1672.13,904.19 1675.43,904.19 1678.69,904.19 1681.92,904.19 1685.12,904.19 1688.29,904.19 1691.43,904.19 1694.54,904.19 1697.62,904.19 1700.67,904.19 1703.69,904.19 1706.69,904.19 1709.66,904.19 1712.6,904.191 1715.51,904.191 1718.4,904.191 1721.26,904.191 1724.1,904.191 1726.91,904.191 1729.69,904.191 1732.45,904.191 1735.19,904.191 1737.9,904.191 1740.59,904.191 1743.26,904.191 1745.9,904.191 1748.52,904.191 1751.12,904.191 1753.69,904.191 1756.24,904.191 1758.77,904.191 1761.28,904.191 1763.77,904.191 1766.24,904.191 1768.69,904.191 1771.12,904.191 1773.52,904.191 1775.91,904.191 1778.28,904.191 1780.62,904.191 1782.95,904.191 1785.26,904.191 1787.55,904.191 1789.83,904.191 1792.08,904.191 1794.32,904.191 1796.54,904.191 1798.74,904.191 1800.92,904.191 1803.09,904.191 1805.24,904.191 1807.37,904.191 1809.49,904.191 1811.59,904.191 1813.67,904.191 1815.74,904.191 1817.79,904.191 1819.83,904.191 1821.85,904.191 1823.86,904.191 1825.85,904.191 1827.83,904.191 \"/>\n",
       "<path clip-path=\"url(#clip290)\" d=\"M1880.73 581.516 L2282.77 581.516 L2282.77 166.796 L1880.73 166.796  Z\" fill=\"#ffffff\" fill-rule=\"evenodd\" fill-opacity=\"1\"/>\n",
       "<polyline clip-path=\"url(#clip290)\" style=\"stroke:#000000; stroke-linecap:round; stroke-linejoin:round; stroke-width:4; stroke-opacity:1; fill:none\" points=\"1880.73,581.516 2282.77,581.516 2282.77,166.796 1880.73,166.796 1880.73,581.516 \"/>\n",
       "<polyline clip-path=\"url(#clip290)\" style=\"stroke:#009af9; stroke-linecap:round; stroke-linejoin:round; stroke-width:4; stroke-opacity:1; fill:none\" points=\"1904.06,218.636 2044.05,218.636 \"/>\n",
       "<path clip-path=\"url(#clip290)\" d=\"M2087.72 214.967 Q2089.32 212.096 2091.54 210.731 Q2093.76 209.365 2096.77 209.365 Q2100.82 209.365 2103.02 212.212 Q2105.22 215.036 2105.22 220.268 L2105.22 235.916 L2100.94 235.916 L2100.94 220.407 Q2100.94 216.68 2099.62 214.874 Q2098.3 213.069 2095.59 213.069 Q2092.28 213.069 2090.36 215.268 Q2088.44 217.467 2088.44 221.263 L2088.44 235.916 L2084.16 235.916 L2084.16 220.407 Q2084.16 216.657 2082.84 214.874 Q2081.52 213.069 2078.76 213.069 Q2075.5 213.069 2073.58 215.291 Q2071.66 217.49 2071.66 221.263 L2071.66 235.916 L2067.38 235.916 L2067.38 209.99 L2071.66 209.99 L2071.66 214.018 Q2073.12 211.633 2075.15 210.499 Q2077.19 209.365 2079.99 209.365 Q2082.82 209.365 2084.78 210.8 Q2086.77 212.235 2087.72 214.967 Z\" fill=\"#000000\" fill-rule=\"evenodd\" fill-opacity=\"1\" /><polyline clip-path=\"url(#clip290)\" style=\"stroke:#e26f46; stroke-linecap:round; stroke-linejoin:round; stroke-width:4; stroke-opacity:1; fill:none\" points=\"1904.06,270.476 2044.05,270.476 \"/>\n",
       "<path clip-path=\"url(#clip290)\" d=\"M2086.15 274.816 Q2086.15 270.117 2084.2 267.455 Q2082.28 264.77 2078.9 264.77 Q2075.52 264.77 2073.58 267.455 Q2071.66 270.117 2071.66 274.816 Q2071.66 279.515 2073.58 282.2 Q2075.52 284.862 2078.9 284.862 Q2082.28 284.862 2084.2 282.2 Q2086.15 279.515 2086.15 274.816 M2071.66 265.765 Q2073 263.45 2075.04 262.339 Q2077.1 261.205 2079.95 261.205 Q2084.67 261.205 2087.61 264.955 Q2090.57 268.705 2090.57 274.816 Q2090.57 280.927 2087.61 284.677 Q2084.67 288.427 2079.95 288.427 Q2077.1 288.427 2075.04 287.316 Q2073 286.182 2071.66 283.867 L2071.66 287.756 L2067.38 287.756 L2067.38 251.737 L2071.66 251.737 L2071.66 265.765 Z\" fill=\"#000000\" fill-rule=\"evenodd\" fill-opacity=\"1\" /><path clip-path=\"url(#clip290)\" d=\"M2119.81 273.728 L2119.81 275.811 L2100.22 275.811 Q2100.5 280.209 2102.86 282.524 Q2105.25 284.816 2109.48 284.816 Q2111.94 284.816 2114.23 284.214 Q2116.54 283.612 2118.81 282.409 L2118.81 286.436 Q2116.52 287.408 2114.11 287.918 Q2111.7 288.427 2109.23 288.427 Q2103.02 288.427 2099.39 284.816 Q2095.78 281.205 2095.78 275.047 Q2095.78 268.682 2099.2 264.955 Q2102.65 261.205 2108.49 261.205 Q2113.72 261.205 2116.75 264.585 Q2119.81 267.941 2119.81 273.728 M2115.55 272.478 Q2115.5 268.983 2113.58 266.899 Q2111.68 264.816 2108.53 264.816 Q2104.97 264.816 2102.82 266.83 Q2100.69 268.844 2100.36 272.501 L2115.55 272.478 Z\" fill=\"#000000\" fill-rule=\"evenodd\" fill-opacity=\"1\" /><path clip-path=\"url(#clip290)\" d=\"M2131.01 254.469 L2131.01 261.83 L2139.78 261.83 L2139.78 265.14 L2131.01 265.14 L2131.01 279.214 Q2131.01 282.385 2131.87 283.288 Q2132.75 284.191 2135.41 284.191 L2139.78 284.191 L2139.78 287.756 L2135.41 287.756 Q2130.48 287.756 2128.6 285.927 Q2126.73 284.075 2126.73 279.214 L2126.73 265.14 L2123.6 265.14 L2123.6 261.83 L2126.73 261.83 L2126.73 254.469 L2131.01 254.469 Z\" fill=\"#000000\" fill-rule=\"evenodd\" fill-opacity=\"1\" /><path clip-path=\"url(#clip290)\" d=\"M2157.17 274.723 Q2152 274.723 2150.01 275.904 Q2148.02 277.084 2148.02 279.932 Q2148.02 282.2 2149.5 283.543 Q2151.01 284.862 2153.58 284.862 Q2157.12 284.862 2159.25 282.362 Q2161.4 279.839 2161.4 275.672 L2161.4 274.723 L2157.17 274.723 M2165.66 272.964 L2165.66 287.756 L2161.4 287.756 L2161.4 283.821 Q2159.94 286.182 2157.77 287.316 Q2155.59 288.427 2152.44 288.427 Q2148.46 288.427 2146.1 286.205 Q2143.76 283.959 2143.76 280.209 Q2143.76 275.834 2146.68 273.612 Q2149.62 271.39 2155.43 271.39 L2161.4 271.39 L2161.4 270.973 Q2161.4 268.034 2159.46 266.436 Q2157.54 264.816 2154.04 264.816 Q2151.82 264.816 2149.71 265.348 Q2147.61 265.881 2145.66 266.946 L2145.66 263.01 Q2148 262.108 2150.2 261.668 Q2152.4 261.205 2154.48 261.205 Q2160.11 261.205 2162.88 264.122 Q2165.66 267.038 2165.66 272.964 Z\" fill=\"#000000\" fill-rule=\"evenodd\" fill-opacity=\"1\" /><polyline clip-path=\"url(#clip290)\" style=\"stroke:#3da44d; stroke-linecap:round; stroke-linejoin:round; stroke-width:4; stroke-opacity:1; fill:none\" points=\"1904.06,322.316 2044.05,322.316 \"/>\n",
       "<path clip-path=\"url(#clip290)\" d=\"M2071.66 335.707 L2071.66 349.457 L2067.38 349.457 L2067.38 313.67 L2071.66 313.67 L2071.66 317.605 Q2073 315.29 2075.04 314.179 Q2077.1 313.045 2079.95 313.045 Q2084.67 313.045 2087.61 316.795 Q2090.57 320.545 2090.57 326.656 Q2090.57 332.767 2087.61 336.517 Q2084.67 340.267 2079.95 340.267 Q2077.1 340.267 2075.04 339.156 Q2073 338.022 2071.66 335.707 M2086.15 326.656 Q2086.15 321.957 2084.2 319.295 Q2082.28 316.61 2078.9 316.61 Q2075.52 316.61 2073.58 319.295 Q2071.66 321.957 2071.66 326.656 Q2071.66 331.355 2073.58 334.04 Q2075.52 336.702 2078.9 336.702 Q2082.28 336.702 2084.2 334.04 Q2086.15 331.355 2086.15 326.656 Z\" fill=\"#000000\" fill-rule=\"evenodd\" fill-opacity=\"1\" /><path clip-path=\"url(#clip290)\" d=\"M2114.16 314.434 L2114.16 318.462 Q2112.35 317.536 2110.41 317.073 Q2108.46 316.61 2106.38 316.61 Q2103.21 316.61 2101.61 317.582 Q2100.04 318.554 2100.04 320.499 Q2100.04 321.98 2101.17 322.837 Q2102.31 323.67 2105.73 324.434 L2107.19 324.758 Q2111.73 325.73 2113.63 327.512 Q2115.55 329.272 2115.55 332.443 Q2115.55 336.054 2112.68 338.161 Q2109.83 340.267 2104.83 340.267 Q2102.75 340.267 2100.48 339.85 Q2098.23 339.457 2095.73 338.647 L2095.73 334.249 Q2098.09 335.475 2100.38 336.1 Q2102.68 336.702 2104.92 336.702 Q2107.93 336.702 2109.55 335.684 Q2111.17 334.642 2111.17 332.767 Q2111.17 331.031 2109.99 330.105 Q2108.83 329.179 2104.88 328.323 L2103.39 327.975 Q2099.44 327.142 2097.68 325.429 Q2095.92 323.693 2095.92 320.684 Q2095.92 317.026 2098.51 315.036 Q2101.1 313.045 2105.87 313.045 Q2108.23 313.045 2110.32 313.392 Q2112.4 313.739 2114.16 314.434 Z\" fill=\"#000000\" fill-rule=\"evenodd\" fill-opacity=\"1\" /><path clip-path=\"url(#clip290)\" d=\"M2122.33 313.67 L2126.59 313.67 L2126.59 339.596 L2122.33 339.596 L2122.33 313.67 M2122.33 303.577 L2126.59 303.577 L2126.59 308.971 L2122.33 308.971 L2122.33 303.577 Z\" fill=\"#000000\" fill-rule=\"evenodd\" fill-opacity=\"1\" /><polyline clip-path=\"url(#clip290)\" style=\"stroke:#c271d2; stroke-linecap:round; stroke-linejoin:round; stroke-width:4; stroke-opacity:1; fill:none\" points=\"1904.06,374.156 2044.05,374.156 \"/>\n",
       "<path clip-path=\"url(#clip290)\" d=\"M2092.03 365.51 L2082.65 378.126 L2092.51 391.436 L2087.49 391.436 L2079.95 381.251 L2072.4 391.436 L2067.38 391.436 L2077.45 377.871 L2068.23 365.51 L2073.26 365.51 L2080.13 374.746 L2087.01 365.51 L2092.03 365.51 Z\" fill=\"#000000\" fill-rule=\"evenodd\" fill-opacity=\"1\" /><path clip-path=\"url(#clip290)\" d=\"M2120.08 365.51 L2110.71 378.126 L2120.57 391.436 L2115.55 391.436 L2108 381.251 L2100.45 391.436 L2095.43 391.436 L2105.5 377.871 L2096.29 365.51 L2101.31 365.51 L2108.19 374.746 L2115.06 365.51 L2120.08 365.51 Z\" fill=\"#000000\" fill-rule=\"evenodd\" fill-opacity=\"1\" /><path clip-path=\"url(#clip290)\" d=\"M2148.14 365.51 L2138.76 378.126 L2148.63 391.436 L2143.6 391.436 L2136.06 381.251 L2128.51 391.436 L2123.49 391.436 L2133.56 377.871 L2124.34 365.51 L2129.37 365.51 L2136.24 374.746 L2143.12 365.51 L2148.14 365.51 Z\" fill=\"#000000\" fill-rule=\"evenodd\" fill-opacity=\"1\" /><path clip-path=\"url(#clip290)\" d=\"M2172.47 366.505 L2172.47 370.487 Q2170.66 369.491 2168.83 369.005 Q2167.03 368.496 2165.18 368.496 Q2161.03 368.496 2158.74 371.135 Q2156.45 373.751 2156.45 378.496 Q2156.45 383.241 2158.74 385.88 Q2161.03 388.496 2165.18 388.496 Q2167.03 388.496 2168.83 388.01 Q2170.66 387.501 2172.47 386.505 L2172.47 390.44 Q2170.69 391.274 2168.76 391.69 Q2166.87 392.107 2164.71 392.107 Q2158.86 392.107 2155.41 388.426 Q2151.96 384.746 2151.96 378.496 Q2151.96 372.153 2155.43 368.519 Q2158.93 364.885 2164.99 364.885 Q2166.96 364.885 2168.83 365.302 Q2170.71 365.695 2172.47 366.505 Z\" fill=\"#000000\" fill-rule=\"evenodd\" fill-opacity=\"1\" /><path clip-path=\"url(#clip290)\" d=\"M2201.43 375.788 L2201.43 391.436 L2197.17 391.436 L2197.17 375.927 Q2197.17 372.246 2195.73 370.417 Q2194.3 368.589 2191.43 368.589 Q2187.98 368.589 2185.99 370.788 Q2184 372.987 2184 376.783 L2184 391.436 L2179.71 391.436 L2179.71 355.417 L2184 355.417 L2184 369.538 Q2185.52 367.2 2187.58 366.042 Q2189.67 364.885 2192.38 364.885 Q2196.84 364.885 2199.13 367.663 Q2201.43 370.417 2201.43 375.788 Z\" fill=\"#000000\" fill-rule=\"evenodd\" fill-opacity=\"1\" /><path clip-path=\"url(#clip290)\" d=\"M2209.92 365.51 L2214.18 365.51 L2214.18 391.436 L2209.92 391.436 L2209.92 365.51 M2209.92 355.417 L2214.18 355.417 L2214.18 360.811 L2209.92 360.811 L2209.92 355.417 Z\" fill=\"#000000\" fill-rule=\"evenodd\" fill-opacity=\"1\" /><path clip-path=\"url(#clip290)\" d=\"M2224.18 385.556 L2229.06 385.556 L2229.06 389.538 L2225.27 396.945 L2222.28 396.945 L2224.18 389.538 L2224.18 385.556 Z\" fill=\"#000000\" fill-rule=\"evenodd\" fill-opacity=\"1\" /><path clip-path=\"url(#clip290)\" d=\"M2237.72 381.204 L2237.72 365.51 L2241.98 365.51 L2241.98 381.042 Q2241.98 384.723 2243.42 386.575 Q2244.85 388.403 2247.72 388.403 Q2251.17 388.403 2253.16 386.204 Q2255.18 384.005 2255.18 380.209 L2255.18 365.51 L2259.43 365.51 L2259.43 391.436 L2255.18 391.436 L2255.18 387.454 Q2253.62 389.815 2251.56 390.973 Q2249.53 392.107 2246.82 392.107 Q2242.35 392.107 2240.04 389.329 Q2237.72 386.551 2237.72 381.204 M2248.44 364.885 L2248.44 364.885 Z\" fill=\"#000000\" fill-rule=\"evenodd\" fill-opacity=\"1\" /><polyline clip-path=\"url(#clip290)\" style=\"stroke:#ac8d18; stroke-linecap:round; stroke-linejoin:round; stroke-width:4; stroke-opacity:1; fill:none\" points=\"1904.06,425.996 2044.05,425.996 \"/>\n",
       "<path clip-path=\"url(#clip290)\" d=\"M2086.29 421.285 L2086.29 407.257 L2090.55 407.257 L2090.55 443.276 L2086.29 443.276 L2086.29 439.387 Q2084.95 441.702 2082.88 442.836 Q2080.85 443.947 2077.98 443.947 Q2073.28 443.947 2070.32 440.197 Q2067.38 436.447 2067.38 430.336 Q2067.38 424.225 2070.32 420.475 Q2073.28 416.725 2077.98 416.725 Q2080.85 416.725 2082.88 417.859 Q2084.95 418.97 2086.29 421.285 M2071.77 430.336 Q2071.77 435.035 2073.7 437.72 Q2075.64 440.382 2079.02 440.382 Q2082.4 440.382 2084.34 437.72 Q2086.29 435.035 2086.29 430.336 Q2086.29 425.637 2084.34 422.975 Q2082.4 420.29 2079.02 420.29 Q2075.64 420.29 2073.7 422.975 Q2071.77 425.637 2071.77 430.336 Z\" fill=\"#000000\" fill-rule=\"evenodd\" fill-opacity=\"1\" /><path clip-path=\"url(#clip290)\" d=\"M2121.5 429.248 L2121.5 431.331 L2101.91 431.331 Q2102.19 435.729 2104.55 438.044 Q2106.94 440.336 2111.17 440.336 Q2113.63 440.336 2115.92 439.734 Q2118.23 439.132 2120.5 437.929 L2120.5 441.956 Q2118.21 442.928 2115.8 443.438 Q2113.39 443.947 2110.92 443.947 Q2104.71 443.947 2101.08 440.336 Q2097.47 436.725 2097.47 430.567 Q2097.47 424.202 2100.89 420.475 Q2104.34 416.725 2110.18 416.725 Q2115.41 416.725 2118.44 420.105 Q2121.5 423.461 2121.5 429.248 M2117.24 427.998 Q2117.19 424.503 2115.27 422.419 Q2113.37 420.336 2110.22 420.336 Q2106.66 420.336 2104.51 422.35 Q2102.38 424.364 2102.05 428.021 L2117.24 427.998 Z\" fill=\"#000000\" fill-rule=\"evenodd\" fill-opacity=\"1\" /><path clip-path=\"url(#clip290)\" d=\"M2143.51 421.331 Q2142.79 420.915 2141.94 420.73 Q2141.1 420.521 2140.08 420.521 Q2136.47 420.521 2134.53 422.882 Q2132.61 425.22 2132.61 429.618 L2132.61 443.276 L2128.32 443.276 L2128.32 417.35 L2132.61 417.35 L2132.61 421.378 Q2133.95 419.017 2136.1 417.882 Q2138.25 416.725 2141.33 416.725 Q2141.77 416.725 2142.31 416.794 Q2142.84 416.841 2143.49 416.956 L2143.51 421.331 Z\" fill=\"#000000\" fill-rule=\"evenodd\" fill-opacity=\"1\" /><path clip-path=\"url(#clip290)\" d=\"M2168.25 417.35 L2158.88 429.966 L2168.74 443.276 L2163.72 443.276 L2156.17 433.091 L2148.63 443.276 L2143.6 443.276 L2153.67 429.711 L2144.46 417.35 L2149.48 417.35 L2156.36 426.586 L2163.23 417.35 L2168.25 417.35 Z\" fill=\"#000000\" fill-rule=\"evenodd\" fill-opacity=\"1\" /><path clip-path=\"url(#clip290)\" d=\"M2192.58 418.345 L2192.58 422.327 Q2190.78 421.331 2188.95 420.845 Q2187.14 420.336 2185.29 420.336 Q2181.15 420.336 2178.86 422.975 Q2176.56 425.591 2176.56 430.336 Q2176.56 435.081 2178.86 437.72 Q2181.15 440.336 2185.29 440.336 Q2187.14 440.336 2188.95 439.85 Q2190.78 439.341 2192.58 438.345 L2192.58 442.28 Q2190.8 443.114 2188.88 443.53 Q2186.98 443.947 2184.83 443.947 Q2178.97 443.947 2175.52 440.266 Q2172.07 436.586 2172.07 430.336 Q2172.07 423.993 2175.55 420.359 Q2179.04 416.725 2185.11 416.725 Q2187.07 416.725 2188.95 417.142 Q2190.82 417.535 2192.58 418.345 Z\" fill=\"#000000\" fill-rule=\"evenodd\" fill-opacity=\"1\" /><path clip-path=\"url(#clip290)\" d=\"M2221.54 427.628 L2221.54 443.276 L2217.28 443.276 L2217.28 427.767 Q2217.28 424.086 2215.85 422.257 Q2214.41 420.429 2211.54 420.429 Q2208.09 420.429 2206.1 422.628 Q2204.11 424.827 2204.11 428.623 L2204.11 443.276 L2199.83 443.276 L2199.83 407.257 L2204.11 407.257 L2204.11 421.378 Q2205.64 419.04 2207.7 417.882 Q2209.78 416.725 2212.49 416.725 Q2216.96 416.725 2219.25 419.503 Q2221.54 422.257 2221.54 427.628 Z\" fill=\"#000000\" fill-rule=\"evenodd\" fill-opacity=\"1\" /><path clip-path=\"url(#clip290)\" d=\"M2230.04 417.35 L2234.3 417.35 L2234.3 443.276 L2230.04 443.276 L2230.04 417.35 M2230.04 407.257 L2234.3 407.257 L2234.3 412.651 L2230.04 412.651 L2230.04 407.257 Z\" fill=\"#000000\" fill-rule=\"evenodd\" fill-opacity=\"1\" /><polyline clip-path=\"url(#clip290)\" style=\"stroke:#00a9ad; stroke-linecap:round; stroke-linejoin:round; stroke-width:4; stroke-opacity:1; fill:none\" points=\"1904.06,477.836 2044.05,477.836 \"/>\n",
       "<path clip-path=\"url(#clip290)\" d=\"M2071.66 491.227 L2071.66 504.977 L2067.38 504.977 L2067.38 469.19 L2071.66 469.19 L2071.66 473.125 Q2073 470.81 2075.04 469.699 Q2077.1 468.565 2079.95 468.565 Q2084.67 468.565 2087.61 472.315 Q2090.57 476.065 2090.57 482.176 Q2090.57 488.287 2087.61 492.037 Q2084.67 495.787 2079.95 495.787 Q2077.1 495.787 2075.04 494.676 Q2073 493.542 2071.66 491.227 M2086.15 482.176 Q2086.15 477.477 2084.2 474.815 Q2082.28 472.13 2078.9 472.13 Q2075.52 472.13 2073.58 474.815 Q2071.66 477.477 2071.66 482.176 Q2071.66 486.875 2073.58 489.56 Q2075.52 492.222 2078.9 492.222 Q2082.28 492.222 2084.2 489.56 Q2086.15 486.875 2086.15 482.176 Z\" fill=\"#000000\" fill-rule=\"evenodd\" fill-opacity=\"1\" /><path clip-path=\"url(#clip290)\" d=\"M2114.16 469.954 L2114.16 473.982 Q2112.35 473.056 2110.41 472.593 Q2108.46 472.13 2106.38 472.13 Q2103.21 472.13 2101.61 473.102 Q2100.04 474.074 2100.04 476.019 Q2100.04 477.5 2101.17 478.357 Q2102.31 479.19 2105.73 479.954 L2107.19 480.278 Q2111.73 481.25 2113.63 483.032 Q2115.55 484.792 2115.55 487.963 Q2115.55 491.574 2112.68 493.681 Q2109.83 495.787 2104.83 495.787 Q2102.75 495.787 2100.48 495.37 Q2098.23 494.977 2095.73 494.167 L2095.73 489.769 Q2098.09 490.995 2100.38 491.62 Q2102.68 492.222 2104.92 492.222 Q2107.93 492.222 2109.55 491.204 Q2111.17 490.162 2111.17 488.287 Q2111.17 486.551 2109.99 485.625 Q2108.83 484.699 2104.88 483.843 L2103.39 483.495 Q2099.44 482.662 2097.68 480.949 Q2095.92 479.213 2095.92 476.204 Q2095.92 472.546 2098.51 470.556 Q2101.1 468.565 2105.87 468.565 Q2108.23 468.565 2110.32 468.912 Q2112.4 469.259 2114.16 469.954 Z\" fill=\"#000000\" fill-rule=\"evenodd\" fill-opacity=\"1\" /><path clip-path=\"url(#clip290)\" d=\"M2122.33 469.19 L2126.59 469.19 L2126.59 495.116 L2122.33 495.116 L2122.33 469.19 M2122.33 459.097 L2126.59 459.097 L2126.59 464.491 L2122.33 464.491 L2122.33 459.097 Z\" fill=\"#000000\" fill-rule=\"evenodd\" fill-opacity=\"1\" /><path clip-path=\"url(#clip290)\" d=\"M2136.59 489.236 L2141.47 489.236 L2141.47 493.218 L2137.68 500.625 L2134.69 500.625 L2136.59 493.218 L2136.59 489.236 Z\" fill=\"#000000\" fill-rule=\"evenodd\" fill-opacity=\"1\" /><path clip-path=\"url(#clip290)\" d=\"M2165.59 473.171 Q2164.88 472.755 2164.02 472.57 Q2163.19 472.361 2162.17 472.361 Q2158.56 472.361 2156.61 474.722 Q2154.69 477.06 2154.69 481.458 L2154.69 495.116 L2150.41 495.116 L2150.41 469.19 L2154.69 469.19 L2154.69 473.218 Q2156.03 470.857 2158.19 469.722 Q2160.34 468.565 2163.42 468.565 Q2163.86 468.565 2164.39 468.634 Q2164.92 468.681 2165.57 468.796 L2165.59 473.171 Z\" fill=\"#000000\" fill-rule=\"evenodd\" fill-opacity=\"1\" /><polyline clip-path=\"url(#clip290)\" style=\"stroke:#ed5d92; stroke-linecap:round; stroke-linejoin:round; stroke-width:4; stroke-opacity:1; fill:none\" points=\"1904.06,529.676 2044.05,529.676 \"/>\n",
       "<path clip-path=\"url(#clip290)\" d=\"M2092.03 521.03 L2082.65 533.646 L2092.51 546.956 L2087.49 546.956 L2079.95 536.771 L2072.4 546.956 L2067.38 546.956 L2077.45 533.391 L2068.23 521.03 L2073.26 521.03 L2080.13 530.266 L2087.01 521.03 L2092.03 521.03 Z\" fill=\"#000000\" fill-rule=\"evenodd\" fill-opacity=\"1\" /><path clip-path=\"url(#clip290)\" d=\"M2116.36 522.025 L2116.36 526.007 Q2114.55 525.011 2112.72 524.525 Q2110.92 524.016 2109.07 524.016 Q2104.92 524.016 2102.63 526.655 Q2100.34 529.271 2100.34 534.016 Q2100.34 538.761 2102.63 541.4 Q2104.92 544.016 2109.07 544.016 Q2110.92 544.016 2112.72 543.53 Q2114.55 543.021 2116.36 542.025 L2116.36 545.96 Q2114.57 546.794 2112.65 547.21 Q2110.76 547.627 2108.6 547.627 Q2102.75 547.627 2099.3 543.946 Q2095.85 540.266 2095.85 534.016 Q2095.85 527.673 2099.32 524.039 Q2102.82 520.405 2108.88 520.405 Q2110.85 520.405 2112.72 520.822 Q2114.6 521.215 2116.36 522.025 Z\" fill=\"#000000\" fill-rule=\"evenodd\" fill-opacity=\"1\" /><path clip-path=\"url(#clip290)\" d=\"M2145.32 531.308 L2145.32 546.956 L2141.06 546.956 L2141.06 531.447 Q2141.06 527.766 2139.62 525.937 Q2138.19 524.109 2135.32 524.109 Q2131.87 524.109 2129.88 526.308 Q2127.88 528.507 2127.88 532.303 L2127.88 546.956 L2123.6 546.956 L2123.6 510.937 L2127.88 510.937 L2127.88 525.058 Q2129.41 522.72 2131.47 521.562 Q2133.56 520.405 2136.26 520.405 Q2140.73 520.405 2143.02 523.183 Q2145.32 525.937 2145.32 531.308 Z\" fill=\"#000000\" fill-rule=\"evenodd\" fill-opacity=\"1\" /><path clip-path=\"url(#clip290)\" d=\"M2153.81 521.03 L2158.07 521.03 L2158.07 546.956 L2153.81 546.956 L2153.81 521.03 M2153.81 510.937 L2158.07 510.937 L2158.07 516.331 L2153.81 516.331 L2153.81 510.937 Z\" fill=\"#000000\" fill-rule=\"evenodd\" fill-opacity=\"1\" /></svg>\n"
      ]
     },
     "execution_count": 90,
     "metadata": {},
     "output_type": "execute_result"
    }
   ],
   "source": [
    "using Plots #showing initial data and the initial status of the horizon finder\n",
    "plot(compactify.(initX[4:L-3]), state_array[4:L-3,1:7], xaxis=\"r\",title=\"Initial Data\", labels=[\"m\" \"beta\" \"psi\" \"xxxchi,u\" \"derxxxchi\" \"psi,r\" \"xxxchi\"],xlim=[0,1])"
   ]
  },
  {
   "cell_type": "code",
   "execution_count": 78,
   "id": "15bbf245",
   "metadata": {},
   "outputs": [],
   "source": [
    "function compactify(r)\n",
    "    return r/(1+r)\n",
    "end\n",
    "function uncompactify(x)\n",
    "    return x/(1-x)\n",
    "end;"
   ]
  },
  {
   "cell_type": "markdown",
   "id": "9b444ece",
   "metadata": {
    "papermill": {
     "duration": 0.009161,
     "end_time": "2023-03-28T18:06:25.373170",
     "exception": false,
     "start_time": "2023-03-28T18:06:25.364009",
     "status": "completed"
    },
    "tags": []
   },
   "source": [
    "# Defining the initial state array for the evolution m β Ψ and Ψ,x"
   ]
  },
  {
   "cell_type": "code",
   "execution_count": 79,
   "id": "9902ffab",
   "metadata": {
    "execution": {
     "iopub.execute_input": "2023-03-28T19:06:25.389000Z",
     "iopub.status.busy": "2023-03-28T19:06:25.388000Z",
     "iopub.status.idle": "2023-03-28T19:06:32.710000Z",
     "shell.execute_reply": "2023-03-28T19:06:32.710000Z"
    },
    "papermill": {
     "duration": 7.335269,
     "end_time": "2023-03-28T18:06:32.715990",
     "exception": false,
     "start_time": "2023-03-28T18:06:25.380721",
     "status": "completed"
    },
    "tags": []
   },
   "outputs": [],
   "source": [
    "using CSV, Tables\n",
    "#CSV.write(dir*\"/res$res/time_step0.csv\", Tables.table(state_array), writeheader=false)\n",
    "\n",
    "global files=[\"m\", \"beta\", \"psi\", \"deruxxxchi\", \"derxxxchi\", \"derpsi\", \"xxxchi\", \"massloss\"]\n",
    "\n",
    "\n",
    "massloss = zeros(L)\n",
    "massloss[4:L-3] = masslossfunc(state_array)[4:L-3]\n",
    "print_muninn(files, 0, [state_array[:,1:7] massloss],res,\"w\", state_array[:,8])"
   ]
  },
  {
   "cell_type": "code",
   "execution_count": 80,
   "id": "fff1426a",
   "metadata": {
    "execution": {
     "iopub.execute_input": "2023-03-28T19:06:33.154000Z",
     "iopub.status.busy": "2023-03-28T19:06:32.734000Z",
     "iopub.status.idle": "2023-03-28T19:06:33.884000Z",
     "shell.execute_reply": "2023-03-28T19:06:33.884000Z"
    },
    "papermill": {
     "duration": 1.164178,
     "end_time": "2023-03-28T18:06:33.889802",
     "exception": false,
     "start_time": "2023-03-28T18:06:32.725624",
     "status": "completed"
    },
    "tags": []
   },
   "outputs": [],
   "source": [
    "time=0.0\n",
    "criticality=0.0\n",
    "explode=0.0\n",
    "evol_stats = [criticality A sigma r0 time explode run]\n",
    "global monitor_ratio = zeros(L);\n",
    "#CSV.write(dir*\"/parameters.csv\", Tables.table(evol_stats), writeheader=true, header=[\"criticality\", \"A\", \"sigma\", \"r0\", \"time\", \"explode\", \"run\"])"
   ]
  },
  {
   "cell_type": "code",
   "execution_count": 81,
   "id": "9e9abd7d",
   "metadata": {},
   "outputs": [
    {
     "name": "stdout",
     "output_type": "stream",
     "text": [
      "1.9999999999999996\n"
     ]
    }
   ],
   "source": [
    "ginit=speed(initX,state_array[:,1],state_array[:,2])\n",
    "println(update_dt(initX,state_array[:,1],state_array[:,2],dx,ginit)/dt)"
   ]
  },
  {
   "cell_type": "code",
   "execution_count": 82,
   "id": "4e0df300",
   "metadata": {},
   "outputs": [
    {
     "data": {
      "text/plain": [
       "4"
      ]
     },
     "execution_count": 82,
     "metadata": {},
     "output_type": "execute_result"
    }
   ],
   "source": [
    "using Base.Threads\n",
    "Threads.nthreads()"
   ]
  },
  {
   "cell_type": "code",
   "execution_count": 83,
   "id": "27a5bccd",
   "metadata": {},
   "outputs": [
    {
     "data": {
      "text/plain": [
       "0.001"
      ]
     },
     "execution_count": 83,
     "metadata": {},
     "output_type": "execute_result"
    }
   ],
   "source": [
    "dt=0.001/2^(m-1)"
   ]
  },
  {
   "cell_type": "markdown",
   "id": "42e2c73d",
   "metadata": {
    "papermill": {
     "duration": 0.007626,
     "end_time": "2023-03-28T18:06:33.908346",
     "exception": false,
     "start_time": "2023-03-28T18:06:33.900720",
     "status": "completed"
    },
    "tags": []
   },
   "source": [
    " ## Time evolution"
   ]
  },
  {
   "cell_type": "markdown",
   "id": "7da47594",
   "metadata": {
    "papermill": {
     "duration": 0.007471,
     "end_time": "2023-03-28T18:06:33.923805",
     "exception": false,
     "start_time": "2023-03-28T18:06:33.916334",
     "status": "completed"
    },
    "tags": []
   },
   "source": [
    "fixed grid"
   ]
  },
  {
   "cell_type": "code",
   "execution_count": 84,
   "id": "fcb7ae3f",
   "metadata": {
    "execution": {
     "iopub.execute_input": "2023-03-28T19:06:33.940000Z",
     "iopub.status.busy": "2023-03-28T19:06:33.940000Z",
     "iopub.status.idle": "2023-03-28T21:02:19.379000Z",
     "shell.execute_reply": "2023-03-28T21:02:19.378000Z"
    },
    "papermill": {
     "duration": 6945.452732,
     "end_time": "2023-03-28T20:02:19.384591",
     "exception": false,
     "start_time": "2023-03-28T18:06:33.931859",
     "status": "completed"
    },
    "tags": []
   },
   "outputs": [
    {
     "name": "stdout",
     "output_type": "stream",
     "text": [
      "\n",
      "\n",
      "iteration 100 dt is 0.001, t=0.10000000000000007 speed is 0.5000000000000001, dx/dt=15.0\n",
      "\n",
      "\n",
      "iteration 200 dt is 0.001, t=0.20000000000000015 speed is 0.5000000000000001, dx/dt=15.0\n",
      "\n",
      "\n",
      "iteration 300 dt is 0.001, t=0.3000000000000002 speed is 0.5000000000000001, dx/dt=15.0\n",
      "\n",
      "\n",
      "iteration 400 dt is 0.001, t=0.4000000000000003 speed is 0.5000000000000001, dx/dt=15.0\n",
      "\n",
      "\n",
      "iteration 500 dt is 0.001, t=0.5000000000000003 speed is 0.5000000000000001, dx/dt=15.0\n",
      "\n",
      "\n",
      "iteration 600 dt is 0.001, t=0.6000000000000004 speed is 0.5000000000000001, dx/dt=15.0\n",
      "\n",
      "\n",
      "iteration 700 dt is 0.001, t=0.7000000000000005 speed is 0.5000000000000001, dx/dt=15.0\n",
      "\n",
      "\n",
      "iteration 800 dt is 0.001, t=0.8000000000000006 speed is 0.5000000000000001, dx/dt=15.0\n",
      "\n",
      "\n",
      "iteration 900 dt is 0.001, t=0.9000000000000007 speed is 0.5000000000000001, dx/dt=15.0\n",
      "\n",
      "\n",
      "iteration 1000 dt is 0.001, t=1.0000000000000007 speed is 0.5000000000000001, dx/dt=15.0\n",
      "\n",
      "\n",
      "iteration 1100 dt is 0.001, t=1.0999999999999897 speed is 0.5000000000000001, dx/dt=15.0\n",
      "\n",
      "\n",
      "iteration 1200 dt is 0.001, t=1.1999999999999786 speed is 0.5000000000000001, dx/dt=15.0\n",
      "\n",
      "\n",
      "iteration 1300 dt is 0.001, t=1.2999999999999676 speed is 0.5000000000000001, dx/dt=15.0\n",
      "\n",
      "\n",
      "iteration 1400 dt is 0.001, t=1.3999999999999566 speed is 0.5000000000000001, dx/dt=15.0\n",
      "\n",
      "\n",
      "iteration 1500 dt is 0.001, t=1.4999999999999456 speed is 0.5000000000000001, dx/dt=15.0\n",
      "\n",
      "\n",
      "iteration 1600 dt is 0.001, t=1.5999999999999346 speed is 0.5000000000000001, dx/dt=15.0\n",
      "\n",
      "\n",
      "iteration 1700 dt is 0.001, t=1.6999999999999236 speed is 0.5000000000000001, dx/dt=15.0\n",
      "\n",
      "\n",
      "iteration 1800 dt is 0.001, t=1.7999999999999126 speed is 0.5000000000000001, dx/dt=15.0\n",
      "\n",
      "\n",
      "iteration 1900 dt is 0.001, t=1.8999999999999015 speed is 0.5000000000000001, dx/dt=15.0\n",
      "\n",
      "\n",
      "iteration 2000 dt is 0.001, t=1.9999999999998905 speed is 0.5000000000000001, dx/dt=15.0\n",
      "\n",
      "\n",
      "iteration 2100 dt is 0.001, t=2.0999999999998797 speed is 0.5000000000000001, dx/dt=15.0\n",
      "\n",
      "\n",
      "iteration 2200 dt is 0.001, t=2.1999999999998687 speed is 0.5000000000000001, dx/dt=15.0\n",
      "\n",
      "\n",
      "iteration 2300 dt is 0.001, t=2.2999999999998577 speed is 0.5000000000000001, dx/dt=15.0\n",
      "\n",
      "\n",
      "iteration 2400 dt is 0.001, t=2.3999999999998467 speed is 0.5000000000000001, dx/dt=15.0\n",
      "\n",
      "\n",
      "iteration 2500 dt is 0.001, t=2.4999999999998357 speed is 0.5000000000000001, dx/dt=15.0\n",
      "\n",
      "\n",
      "iteration 2600 dt is 0.001, t=2.5999999999998247 speed is 0.5000000000000001, dx/dt=15.0\n",
      "\n",
      "\n",
      "iteration 2700 dt is 0.001, t=2.6999999999998137 speed is 0.5000000000000001, dx/dt=15.0\n",
      "\n",
      "\n",
      "iteration 2800 dt is 0.001, t=2.7999999999998026 speed is 0.5000000000000001, dx/dt=15.0\n",
      "\n",
      "\n",
      "iteration 2900 dt is 0.001, t=2.8999999999997916 speed is 0.5000000000000001, dx/dt=15.0\n",
      "\n",
      "\n",
      "iteration 3000 dt is 0.001, t=2.9999999999997806 speed is 0.5000000000000001, dx/dt=15.0\n"
     ]
    }
   ],
   "source": [
    "finaltime=3\n",
    "evol_stats, T_interp = timeevolution(state_array,finaltime,run);\n",
    "#CSV.write(dir*\"/timearray$res.csv\", Tables.table(T_interp), writeheader=false);\n",
    "#CSV.write(dir*\"/parameters.csv\", Tables.table(evol_stats), writeheader=false);"
   ]
  },
  {
   "cell_type": "code",
   "execution_count": null,
   "id": "ef57be5a",
   "metadata": {},
   "outputs": [],
   "source": []
  }
 ],
 "metadata": {
  "@webio": {
   "lastCommId": null,
   "lastKernelId": null
  },
  "kernelspec": {
   "display_name": "Julia 1.8.0",
   "language": "julia",
   "name": "julia-1.8"
  },
  "language_info": {
   "file_extension": ".jl",
   "mimetype": "application/julia",
   "name": "julia",
   "version": "1.8.0"
  },
  "papermill": {
   "default_parameters": {},
   "duration": 7025.507115,
   "end_time": "2023-03-28T20:03:06.430756",
   "environment_variables": {},
   "exception": null,
   "input_path": "Evolution_ScalarField.ipynb",
   "output_path": "Evolution_ScalarField.ipynb",
   "parameters": {
    "A": 0.001,
    "m": 3
   },
   "start_time": "2023-03-28T18:06:00.923641",
   "version": "2.4.0"
  }
 },
 "nbformat": 4,
 "nbformat_minor": 5
}
