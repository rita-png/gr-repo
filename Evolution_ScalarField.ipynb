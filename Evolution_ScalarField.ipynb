{
 "cells": [
  {
   "cell_type": "markdown",
   "id": "d88601a8",
   "metadata": {
    "papermill": {
     "duration": null,
     "end_time": null,
     "exception": null,
     "start_time": null,
     "status": "completed"
    },
    "tags": []
   },
   "source": [
    "# Evolution of Einstein's equations"
   ]
  },
  {
   "cell_type": "markdown",
   "id": "03c607c7",
   "metadata": {
    "papermill": {
     "duration": null,
     "end_time": null,
     "exception": null,
     "start_time": null,
     "status": "completed"
    },
    "tags": []
   },
   "source": [
    "# Initial data , setting length of the domain and discretization\n"
   ]
  },
  {
   "cell_type": "code",
   "execution_count": 205,
   "id": "e3ef6d22",
   "metadata": {
    "papermill": {
     "duration": null,
     "end_time": null,
     "exception": null,
     "start_time": null,
     "status": "completed"
    },
    "tags": [
     "injected-parameters"
    ]
   },
   "outputs": [
    {
     "data": {
      "text/plain": [
       "0.1"
      ]
     },
     "execution_count": 205,
     "metadata": {},
     "output_type": "execute_result"
    }
   ],
   "source": [
    "# Parameters\n",
    "m = 1\n",
    "A = 0.1#0.1449"
   ]
  },
  {
   "cell_type": "code",
   "execution_count": 206,
   "id": "80bb0a34",
   "metadata": {
    "execution": {
     "iopub.execute_input": "2023-03-01T09:49:50.032000Z",
     "iopub.status.busy": "2023-03-01T09:49:50.032000Z",
     "iopub.status.idle": "2023-03-01T09:49:50.289000Z",
     "shell.execute_reply": "2023-03-01T09:49:50.289000Z"
    },
    "papermill": {
     "duration": null,
     "end_time": null,
     "exception": null,
     "start_time": null,
     "status": "completed"
    },
    "tags": []
   },
   "outputs": [
    {
     "name": "stdout",
     "output_type": "stream",
     "text": [
      "the final time is 0.8\n"
     ]
    }
   ],
   "source": [
    "res=m;\n",
    "N=2.0^m*500.0#2.0^m*1000.0;#2.0^m*500.0;#N=2.0^m*500.0#2.0^m*100.0;\n",
    "Xf=1.0;\n",
    "\n",
    "dx=Xf/N;\n",
    "dt=round(dx*0.4,digits=10);\n",
    "Nt=100.0*2^m*10#100.0*2^m*10\n",
    "Tf=Nt*dt; #final time\n",
    "\n",
    "println(\"the final time is \", Tf)"
   ]
  },
  {
   "cell_type": "code",
   "execution_count": 207,
   "id": "2b95e4c8",
   "metadata": {
    "execution": {
     "iopub.execute_input": "2023-03-01T09:49:50.314000Z",
     "iopub.status.busy": "2023-03-01T09:49:50.313000Z",
     "iopub.status.idle": "2023-03-01T09:49:50.325000Z",
     "shell.execute_reply": "2023-03-01T09:49:50.325000Z"
    },
    "papermill": {
     "duration": null,
     "end_time": null,
     "exception": null,
     "start_time": null,
     "status": "completed"
    },
    "tags": []
   },
   "outputs": [
    {
     "name": "stdout",
     "output_type": "stream",
     "text": [
      "1000.0"
     ]
    }
   ],
   "source": [
    "print(N)"
   ]
  },
  {
   "cell_type": "code",
   "execution_count": 208,
   "id": "ad48576a",
   "metadata": {
    "execution": {
     "iopub.execute_input": "2023-03-01T09:49:50.355000Z",
     "iopub.status.busy": "2023-03-01T09:49:50.355000Z",
     "iopub.status.idle": "2023-03-01T09:49:50.371000Z",
     "shell.execute_reply": "2023-03-01T09:49:50.371000Z"
    },
    "papermill": {
     "duration": null,
     "end_time": null,
     "exception": null,
     "start_time": null,
     "status": "completed"
    },
    "tags": []
   },
   "outputs": [
    {
     "name": "stdout",
     "output_type": "stream",
     "text": [
      "dx =0.001\n",
      "dt =0.0004\n",
      "dx/dt =2.5\n",
      "epsilon <= dx/dt * (1/2)^(2*2-1) = 0.3125\n",
      "epsilon = dx/dt * (1/2)^(2*2) = 0.15625\n",
      "epsilon = dx/dt * (1/2)^(2*3) = 0.0390625\n",
      "epsilon = dx/dt * (1/2)^(2) = 0.625\n"
     ]
    }
   ],
   "source": [
    "println(\"dx =\", dx)\n",
    "println(\"dt =\", dt)\n",
    "println(\"dx/dt =\", dx/dt)\n",
    "println(\"epsilon <= dx/dt * (1/2)^(2*2-1) = \", dx/dt*(1/2)^(2*2-1))\n",
    "\n",
    "println(\"epsilon = dx/dt * (1/2)^(2*2) = \", dx/dt*(1/2)^(2*2))\n",
    "\n",
    "println(\"epsilon = dx/dt * (1/2)^(2*3) = \", dx/dt*(1/2)^(2*3))\n",
    "\n",
    "println(\"epsilon = dx/dt * (1/2)^(2) = \", dx/dt*(1/2)^(2))"
   ]
  },
  {
   "cell_type": "code",
   "execution_count": 209,
   "id": "78fb78a5",
   "metadata": {
    "execution": {
     "iopub.execute_input": "2023-03-01T09:49:50.399000Z",
     "iopub.status.busy": "2023-03-01T09:49:50.399000Z",
     "iopub.status.idle": "2023-03-01T09:49:51.712000Z",
     "shell.execute_reply": "2023-03-01T09:49:51.712000Z"
    },
    "papermill": {
     "duration": null,
     "end_time": null,
     "exception": null,
     "start_time": null,
     "status": "completed"
    },
    "tags": []
   },
   "outputs": [
    {
     "data": {
      "text/plain": [
       "\"/home/rita13santos/Desktop/MSc Thesis/Git/ScalarField/DATA/res1\""
      ]
     },
     "execution_count": 209,
     "metadata": {},
     "output_type": "execute_result"
    }
   ],
   "source": [
    "# Setting RESOLUTION\n",
    "\n",
    "global dir = \"/home/rita13santos/Desktop/MSc Thesis/Git/ScalarField/DATA/res$res\""
   ]
  },
  {
   "cell_type": "code",
   "execution_count": 210,
   "id": "9732fbb0",
   "metadata": {
    "execution": {
     "iopub.execute_input": "2023-03-01T09:49:51.817000Z",
     "iopub.status.busy": "2023-03-01T09:49:51.817000Z",
     "iopub.status.idle": "2023-03-01T09:49:52.350000Z",
     "shell.execute_reply": "2023-03-01T09:49:52.350000Z"
    },
    "papermill": {
     "duration": null,
     "end_time": null,
     "exception": null,
     "start_time": null,
     "status": "completed"
    },
    "tags": []
   },
   "outputs": [
    {
     "data": {
      "text/plain": [
       "0.1"
      ]
     },
     "execution_count": 210,
     "metadata": {},
     "output_type": "execute_result"
    }
   ],
   "source": [
    "epsilon=0.1##0.01#0.05; #05; #02;#0.05; #0.05; #0.05;#0.05;#0.05; #dissipation strength (-1 for backwards integration)"
   ]
  },
  {
   "cell_type": "markdown",
   "id": "e2dd4335",
   "metadata": {
    "papermill": {
     "duration": null,
     "end_time": null,
     "exception": null,
     "start_time": null,
     "status": "completed"
    },
    "tags": []
   },
   "source": [
    "# Grid"
   ]
  },
  {
   "cell_type": "code",
   "execution_count": 211,
   "id": "de24fea3",
   "metadata": {
    "execution": {
     "iopub.execute_input": "2023-03-01T09:49:52.407000Z",
     "iopub.status.busy": "2023-03-01T09:49:52.407000Z",
     "iopub.status.idle": "2023-03-01T09:49:52.633000Z",
     "shell.execute_reply": "2023-03-01T09:49:52.633000Z"
    },
    "papermill": {
     "duration": null,
     "end_time": null,
     "exception": null,
     "start_time": null,
     "status": "completed"
    },
    "tags": []
   },
   "outputs": [],
   "source": [
    "ori=0.0;\n",
    "initX1 = nothing\n",
    "initX1=range(ori, stop=Xf, step=dx);"
   ]
  },
  {
   "cell_type": "code",
   "execution_count": 212,
   "id": "7376d222",
   "metadata": {
    "execution": {
     "iopub.execute_input": "2023-03-01T09:49:52.659000Z",
     "iopub.status.busy": "2023-03-01T09:49:52.659000Z",
     "iopub.status.idle": "2023-03-01T09:49:52.688000Z",
     "shell.execute_reply": "2023-03-01T09:49:52.688000Z"
    },
    "papermill": {
     "duration": null,
     "end_time": null,
     "exception": null,
     "start_time": null,
     "status": "completed"
    },
    "scrolled": true,
    "tags": []
   },
   "outputs": [
    {
     "name": "stdout",
     "output_type": "stream",
     "text": [
      "step size is  0.001\n",
      "the time step is 0.0004\n"
     ]
    }
   ],
   "source": [
    "initX = range(round(ori-3.0*dx,digits=10), stop=Xf+3.0*dx, step=dx)\n",
    "\n",
    "L=length(initX);\n",
    "println(\"step size is  \", dx)\n",
    "\n",
    "#T=range(dt,stop=Tf,step=dt)\n",
    "T=range(0,stop=Tf,step=dt)\n",
    "println(\"the time step is \", dt)"
   ]
  },
  {
   "cell_type": "code",
   "execution_count": 213,
   "id": "bc5288f8",
   "metadata": {
    "execution": {
     "iopub.execute_input": "2023-03-01T09:49:53.003000Z",
     "iopub.status.busy": "2023-03-01T09:49:53.002000Z",
     "iopub.status.idle": "2023-03-01T09:49:53.101000Z",
     "shell.execute_reply": "2023-03-01T09:49:53.101000Z"
    },
    "papermill": {
     "duration": null,
     "end_time": null,
     "exception": null,
     "start_time": null,
     "status": "completed"
    },
    "tags": []
   },
   "outputs": [],
   "source": [
    "include(\"./ScalarField.jl\");"
   ]
  },
  {
   "cell_type": "code",
   "execution_count": 214,
   "id": "d153473f",
   "metadata": {
    "execution": {
     "iopub.execute_input": "2023-03-01T09:49:53.129000Z",
     "iopub.status.busy": "2023-03-01T09:49:53.129000Z",
     "iopub.status.idle": "2023-03-01T09:49:55.021000Z",
     "shell.execute_reply": "2023-03-01T09:49:55.021000Z"
    },
    "papermill": {
     "duration": null,
     "end_time": null,
     "exception": null,
     "start_time": null,
     "status": "completed"
    },
    "tags": []
   },
   "outputs": [],
   "source": [
    "using Interpolations"
   ]
  },
  {
   "cell_type": "markdown",
   "id": "80ab1480",
   "metadata": {
    "papermill": {
     "duration": null,
     "end_time": null,
     "exception": null,
     "start_time": null,
     "status": "completed"
    },
    "tags": []
   },
   "source": [
    "# Initial data of m β Ψ and Ψ,x"
   ]
  },
  {
   "cell_type": "code",
   "execution_count": 215,
   "id": "d0af654c",
   "metadata": {
    "execution": {
     "iopub.execute_input": "2023-03-01T09:49:55.270000Z",
     "iopub.status.busy": "2023-03-01T09:49:55.065000Z",
     "iopub.status.idle": "2023-03-01T09:50:01.597000Z",
     "shell.execute_reply": "2023-03-01T09:50:01.597000Z"
    },
    "papermill": {
     "duration": null,
     "end_time": null,
     "exception": null,
     "start_time": null,
     "status": "completed"
    },
    "tags": []
   },
   "outputs": [
    {
     "data": {
      "text/plain": [
       "1×2 Matrix{Function}:\n",
       " psi_func  derpsi_func"
      ]
     },
     "execution_count": 215,
     "metadata": {},
     "output_type": "execute_result"
    }
   ],
   "source": [
    "using PyCall   \n",
    "\n",
    "\n",
    "scipy = pyimport(\"scipy\")\n",
    "scipyinterpolate = pyimport(\"scipy.interpolate\")\n",
    "\n",
    "\n",
    "####\n",
    "\n",
    "initm=zeros(L);\n",
    "initbeta=zeros(L);\n",
    "initpsi=zeros(L);\n",
    "initderpsi=zeros(L);\n",
    "\n",
    "state_array=[initm initbeta initpsi initderpsi initX];\n",
    "\n",
    "#PSI\n",
    "r0=0.7#0.3\n",
    "sigma=0.3\n",
    "initpsi[4:L-3] = init_gaussian(initX1,r0,sigma,A)\n",
    "\n",
    "state_array[:,3] = initpsi\n",
    "state_array = ghost(state_array)\n",
    "\n",
    "#PSI,X FROM PSI\n",
    "\"\"\"for i in 4:L-3\n",
    "    initderpsi[i]=Der(state_array[:,:],i,3,initX)\n",
    "end\n",
    "\n",
    "state_array[:,4] = initderpsi\n",
    "state_array = ghost(state_array)\"\"\"\n",
    "\n",
    "#new\n",
    "initderpsi[4:L-3] = init_gaussian_der(initX1,r0,sigma,A)\n",
    "state_array[:,4] = initderpsi\n",
    "state_array=ghost(state_array)\n",
    "\n",
    "####\n",
    "\n",
    "spl_psi = scipyinterpolate.splrep(initX[4:L-3], state_array[4:L-3,3],k=4)\n",
    "psi_func(x) = scipyinterpolate.splev(x, spl_psi)\n",
    "\n",
    "spl_derpsi = scipyinterpolate.splrep(initX[4:L-3], initderpsi[4:L-3],k=4)\n",
    "derpsi_func(x) = scipyinterpolate.splev(x, spl_derpsi)\n",
    "\n",
    "funcs = [psi_func derpsi_func]"
   ]
  },
  {
   "cell_type": "code",
   "execution_count": 216,
   "id": "384597fa",
   "metadata": {
    "execution": {
     "iopub.execute_input": "2023-03-01T09:50:37.023000Z",
     "iopub.status.busy": "2023-03-01T09:50:36.468000Z",
     "iopub.status.idle": "2023-03-01T09:50:43.960000Z",
     "shell.execute_reply": "2023-03-01T09:50:43.960000Z"
    },
    "papermill": {
     "duration": null,
     "end_time": null,
     "exception": null,
     "start_time": null,
     "status": "completed"
    },
    "tags": []
   },
   "outputs": [],
   "source": [
    "#BETA\n",
    "beta0=0\n",
    "initbeta[4:L-3]=rk4wrapper(SFconstraint_beta,beta0,initX1,0,funcs)\n",
    "state_array[:,2]=initbeta;\n",
    "state_array=ghost(state_array);\n",
    "\n",
    "\n",
    "#M\n",
    "m0=0\n",
    "initm[4:L-3]=rk4wrapper(SFconstraint_m,m0,initX1,0,funcs)\n",
    "state_array[:,1]=initm;\n",
    "state_array = ghost(state_array);"
   ]
  },
  {
   "cell_type": "code",
   "execution_count": 217,
   "id": "48f10a76",
   "metadata": {},
   "outputs": [
    {
     "data": {
      "image/svg+xml": [
       "<?xml version=\"1.0\" encoding=\"utf-8\"?>\n",
       "<svg xmlns=\"http://www.w3.org/2000/svg\" xmlns:xlink=\"http://www.w3.org/1999/xlink\" width=\"600\" height=\"400\" viewBox=\"0 0 2400 1600\">\n",
       "<defs>\n",
       "  <clipPath id=\"clip770\">\n",
       "    <rect x=\"0\" y=\"0\" width=\"2400\" height=\"1600\"/>\n",
       "  </clipPath>\n",
       "</defs>\n",
       "<path clip-path=\"url(#clip770)\" d=\"M0 1600 L2400 1600 L2400 0 L0 0  Z\" fill=\"#ffffff\" fill-rule=\"evenodd\" fill-opacity=\"1\"/>\n",
       "<defs>\n",
       "  <clipPath id=\"clip771\">\n",
       "    <rect x=\"480\" y=\"0\" width=\"1681\" height=\"1600\"/>\n",
       "  </clipPath>\n",
       "</defs>\n",
       "<path clip-path=\"url(#clip770)\" d=\"M224.098 1423.18 L2352.76 1423.18 L2352.76 123.472 L224.098 123.472  Z\" fill=\"#ffffff\" fill-rule=\"evenodd\" fill-opacity=\"1\"/>\n",
       "<defs>\n",
       "  <clipPath id=\"clip772\">\n",
       "    <rect x=\"224\" y=\"123\" width=\"2130\" height=\"1301\"/>\n",
       "  </clipPath>\n",
       "</defs>\n",
       "<polyline clip-path=\"url(#clip772)\" style=\"stroke:#000000; stroke-linecap:round; stroke-linejoin:round; stroke-width:2; stroke-opacity:0.1; fill:none\" points=\"290.331,1423.18 290.331,123.472 \"/>\n",
       "<polyline clip-path=\"url(#clip772)\" style=\"stroke:#000000; stroke-linecap:round; stroke-linejoin:round; stroke-width:2; stroke-opacity:0.1; fill:none\" points=\"789.379,1423.18 789.379,123.472 \"/>\n",
       "<polyline clip-path=\"url(#clip772)\" style=\"stroke:#000000; stroke-linecap:round; stroke-linejoin:round; stroke-width:2; stroke-opacity:0.1; fill:none\" points=\"1288.43,1423.18 1288.43,123.472 \"/>\n",
       "<polyline clip-path=\"url(#clip772)\" style=\"stroke:#000000; stroke-linecap:round; stroke-linejoin:round; stroke-width:2; stroke-opacity:0.1; fill:none\" points=\"1787.47,1423.18 1787.47,123.472 \"/>\n",
       "<polyline clip-path=\"url(#clip772)\" style=\"stroke:#000000; stroke-linecap:round; stroke-linejoin:round; stroke-width:2; stroke-opacity:0.1; fill:none\" points=\"2286.52,1423.18 2286.52,123.472 \"/>\n",
       "<polyline clip-path=\"url(#clip770)\" style=\"stroke:#000000; stroke-linecap:round; stroke-linejoin:round; stroke-width:4; stroke-opacity:1; fill:none\" points=\"224.098,1423.18 2352.76,1423.18 \"/>\n",
       "<polyline clip-path=\"url(#clip770)\" style=\"stroke:#000000; stroke-linecap:round; stroke-linejoin:round; stroke-width:4; stroke-opacity:1; fill:none\" points=\"290.331,1423.18 290.331,1404.28 \"/>\n",
       "<polyline clip-path=\"url(#clip770)\" style=\"stroke:#000000; stroke-linecap:round; stroke-linejoin:round; stroke-width:4; stroke-opacity:1; fill:none\" points=\"789.379,1423.18 789.379,1404.28 \"/>\n",
       "<polyline clip-path=\"url(#clip770)\" style=\"stroke:#000000; stroke-linecap:round; stroke-linejoin:round; stroke-width:4; stroke-opacity:1; fill:none\" points=\"1288.43,1423.18 1288.43,1404.28 \"/>\n",
       "<polyline clip-path=\"url(#clip770)\" style=\"stroke:#000000; stroke-linecap:round; stroke-linejoin:round; stroke-width:4; stroke-opacity:1; fill:none\" points=\"1787.47,1423.18 1787.47,1404.28 \"/>\n",
       "<polyline clip-path=\"url(#clip770)\" style=\"stroke:#000000; stroke-linecap:round; stroke-linejoin:round; stroke-width:4; stroke-opacity:1; fill:none\" points=\"2286.52,1423.18 2286.52,1404.28 \"/>\n",
       "<path clip-path=\"url(#clip770)\" d=\"M252.635 1454.1 Q249.024 1454.1 247.195 1457.66 Q245.39 1461.2 245.39 1468.33 Q245.39 1475.44 247.195 1479.01 Q249.024 1482.55 252.635 1482.55 Q256.269 1482.55 258.075 1479.01 Q259.903 1475.44 259.903 1468.33 Q259.903 1461.2 258.075 1457.66 Q256.269 1454.1 252.635 1454.1 M252.635 1450.39 Q258.445 1450.39 261.501 1455 Q264.579 1459.58 264.579 1468.33 Q264.579 1477.06 261.501 1481.67 Q258.445 1486.25 252.635 1486.25 Q246.825 1486.25 243.746 1481.67 Q240.691 1477.06 240.691 1468.33 Q240.691 1459.58 243.746 1455 Q246.825 1450.39 252.635 1450.39 Z\" fill=\"#000000\" fill-rule=\"evenodd\" fill-opacity=\"1\" /><path clip-path=\"url(#clip770)\" d=\"M272.797 1479.7 L277.681 1479.7 L277.681 1485.58 L272.797 1485.58 L272.797 1479.7 Z\" fill=\"#000000\" fill-rule=\"evenodd\" fill-opacity=\"1\" /><path clip-path=\"url(#clip770)\" d=\"M297.866 1454.1 Q294.255 1454.1 292.426 1457.66 Q290.621 1461.2 290.621 1468.33 Q290.621 1475.44 292.426 1479.01 Q294.255 1482.55 297.866 1482.55 Q301.5 1482.55 303.306 1479.01 Q305.135 1475.44 305.135 1468.33 Q305.135 1461.2 303.306 1457.66 Q301.5 1454.1 297.866 1454.1 M297.866 1450.39 Q303.676 1450.39 306.732 1455 Q309.811 1459.58 309.811 1468.33 Q309.811 1477.06 306.732 1481.67 Q303.676 1486.25 297.866 1486.25 Q292.056 1486.25 288.977 1481.67 Q285.922 1477.06 285.922 1468.33 Q285.922 1459.58 288.977 1455 Q292.056 1450.39 297.866 1450.39 Z\" fill=\"#000000\" fill-rule=\"evenodd\" fill-opacity=\"1\" /><path clip-path=\"url(#clip770)\" d=\"M328.028 1454.1 Q324.417 1454.1 322.588 1457.66 Q320.783 1461.2 320.783 1468.33 Q320.783 1475.44 322.588 1479.01 Q324.417 1482.55 328.028 1482.55 Q331.662 1482.55 333.468 1479.01 Q335.297 1475.44 335.297 1468.33 Q335.297 1461.2 333.468 1457.66 Q331.662 1454.1 328.028 1454.1 M328.028 1450.39 Q333.838 1450.39 336.894 1455 Q339.972 1459.58 339.972 1468.33 Q339.972 1477.06 336.894 1481.67 Q333.838 1486.25 328.028 1486.25 Q322.218 1486.25 319.139 1481.67 Q316.084 1477.06 316.084 1468.33 Q316.084 1459.58 319.139 1455 Q322.218 1450.39 328.028 1450.39 Z\" fill=\"#000000\" fill-rule=\"evenodd\" fill-opacity=\"1\" /><path clip-path=\"url(#clip770)\" d=\"M752.18 1454.1 Q748.569 1454.1 746.741 1457.66 Q744.935 1461.2 744.935 1468.33 Q744.935 1475.44 746.741 1479.01 Q748.569 1482.55 752.18 1482.55 Q755.815 1482.55 757.62 1479.01 Q759.449 1475.44 759.449 1468.33 Q759.449 1461.2 757.62 1457.66 Q755.815 1454.1 752.18 1454.1 M752.18 1450.39 Q757.99 1450.39 761.046 1455 Q764.125 1459.58 764.125 1468.33 Q764.125 1477.06 761.046 1481.67 Q757.99 1486.25 752.18 1486.25 Q746.37 1486.25 743.291 1481.67 Q740.236 1477.06 740.236 1468.33 Q740.236 1459.58 743.291 1455 Q746.37 1450.39 752.18 1450.39 Z\" fill=\"#000000\" fill-rule=\"evenodd\" fill-opacity=\"1\" /><path clip-path=\"url(#clip770)\" d=\"M772.342 1479.7 L777.226 1479.7 L777.226 1485.58 L772.342 1485.58 L772.342 1479.7 Z\" fill=\"#000000\" fill-rule=\"evenodd\" fill-opacity=\"1\" /><path clip-path=\"url(#clip770)\" d=\"M791.439 1481.64 L807.759 1481.64 L807.759 1485.58 L785.814 1485.58 L785.814 1481.64 Q788.476 1478.89 793.06 1474.26 Q797.666 1469.61 798.847 1468.27 Q801.092 1465.74 801.972 1464.01 Q802.874 1462.25 802.874 1460.56 Q802.874 1457.8 800.93 1456.07 Q799.009 1454.33 795.907 1454.33 Q793.708 1454.33 791.254 1455.09 Q788.824 1455.86 786.046 1457.41 L786.046 1452.69 Q788.87 1451.55 791.324 1450.97 Q793.777 1450.39 795.814 1450.39 Q801.185 1450.39 804.379 1453.08 Q807.574 1455.77 807.574 1460.26 Q807.574 1462.39 806.763 1464.31 Q805.976 1466.2 803.87 1468.8 Q803.291 1469.47 800.189 1472.69 Q797.087 1475.88 791.439 1481.64 Z\" fill=\"#000000\" fill-rule=\"evenodd\" fill-opacity=\"1\" /><path clip-path=\"url(#clip770)\" d=\"M817.62 1451.02 L835.976 1451.02 L835.976 1454.96 L821.902 1454.96 L821.902 1463.43 Q822.921 1463.08 823.939 1462.92 Q824.958 1462.73 825.976 1462.73 Q831.763 1462.73 835.143 1465.9 Q838.522 1469.08 838.522 1474.49 Q838.522 1480.07 835.05 1483.17 Q831.578 1486.25 825.259 1486.25 Q823.083 1486.25 820.814 1485.88 Q818.569 1485.51 816.161 1484.77 L816.161 1480.07 Q818.245 1481.2 820.467 1481.76 Q822.689 1482.32 825.166 1482.32 Q829.171 1482.32 831.509 1480.21 Q833.847 1478.1 833.847 1474.49 Q833.847 1470.88 831.509 1468.77 Q829.171 1466.67 825.166 1466.67 Q823.291 1466.67 821.416 1467.08 Q819.564 1467.5 817.62 1468.38 L817.62 1451.02 Z\" fill=\"#000000\" fill-rule=\"evenodd\" fill-opacity=\"1\" /><path clip-path=\"url(#clip770)\" d=\"M1250.73 1454.1 Q1247.12 1454.1 1245.29 1457.66 Q1243.49 1461.2 1243.49 1468.33 Q1243.49 1475.44 1245.29 1479.01 Q1247.12 1482.55 1250.73 1482.55 Q1254.36 1482.55 1256.17 1479.01 Q1258 1475.44 1258 1468.33 Q1258 1461.2 1256.17 1457.66 Q1254.36 1454.1 1250.73 1454.1 M1250.73 1450.39 Q1256.54 1450.39 1259.6 1455 Q1262.67 1459.58 1262.67 1468.33 Q1262.67 1477.06 1259.6 1481.67 Q1256.54 1486.25 1250.73 1486.25 Q1244.92 1486.25 1241.84 1481.67 Q1238.79 1477.06 1238.79 1468.33 Q1238.79 1459.58 1241.84 1455 Q1244.92 1450.39 1250.73 1450.39 Z\" fill=\"#000000\" fill-rule=\"evenodd\" fill-opacity=\"1\" /><path clip-path=\"url(#clip770)\" d=\"M1270.89 1479.7 L1275.78 1479.7 L1275.78 1485.58 L1270.89 1485.58 L1270.89 1479.7 Z\" fill=\"#000000\" fill-rule=\"evenodd\" fill-opacity=\"1\" /><path clip-path=\"url(#clip770)\" d=\"M1286.01 1451.02 L1304.36 1451.02 L1304.36 1454.96 L1290.29 1454.96 L1290.29 1463.43 Q1291.31 1463.08 1292.33 1462.92 Q1293.35 1462.73 1294.36 1462.73 Q1300.15 1462.73 1303.53 1465.9 Q1306.91 1469.08 1306.91 1474.49 Q1306.91 1480.07 1303.44 1483.17 Q1299.97 1486.25 1293.65 1486.25 Q1291.47 1486.25 1289.2 1485.88 Q1286.96 1485.51 1284.55 1484.77 L1284.55 1480.07 Q1286.63 1481.2 1288.86 1481.76 Q1291.08 1482.32 1293.55 1482.32 Q1297.56 1482.32 1299.9 1480.21 Q1302.23 1478.1 1302.23 1474.49 Q1302.23 1470.88 1299.9 1468.77 Q1297.56 1466.67 1293.55 1466.67 Q1291.68 1466.67 1289.8 1467.08 Q1287.95 1467.5 1286.01 1468.38 L1286.01 1451.02 Z\" fill=\"#000000\" fill-rule=\"evenodd\" fill-opacity=\"1\" /><path clip-path=\"url(#clip770)\" d=\"M1326.12 1454.1 Q1322.51 1454.1 1320.68 1457.66 Q1318.88 1461.2 1318.88 1468.33 Q1318.88 1475.44 1320.68 1479.01 Q1322.51 1482.55 1326.12 1482.55 Q1329.76 1482.55 1331.56 1479.01 Q1333.39 1475.44 1333.39 1468.33 Q1333.39 1461.2 1331.56 1457.66 Q1329.76 1454.1 1326.12 1454.1 M1326.12 1450.39 Q1331.93 1450.39 1334.99 1455 Q1338.07 1459.58 1338.07 1468.33 Q1338.07 1477.06 1334.99 1481.67 Q1331.93 1486.25 1326.12 1486.25 Q1320.31 1486.25 1317.23 1481.67 Q1314.18 1477.06 1314.18 1468.33 Q1314.18 1459.58 1317.23 1455 Q1320.31 1450.39 1326.12 1450.39 Z\" fill=\"#000000\" fill-rule=\"evenodd\" fill-opacity=\"1\" /><path clip-path=\"url(#clip770)\" d=\"M1750.28 1454.1 Q1746.66 1454.1 1744.84 1457.66 Q1743.03 1461.2 1743.03 1468.33 Q1743.03 1475.44 1744.84 1479.01 Q1746.66 1482.55 1750.28 1482.55 Q1753.91 1482.55 1755.72 1479.01 Q1757.54 1475.44 1757.54 1468.33 Q1757.54 1461.2 1755.72 1457.66 Q1753.91 1454.1 1750.28 1454.1 M1750.28 1450.39 Q1756.09 1450.39 1759.14 1455 Q1762.22 1459.58 1762.22 1468.33 Q1762.22 1477.06 1759.14 1481.67 Q1756.09 1486.25 1750.28 1486.25 Q1744.47 1486.25 1741.39 1481.67 Q1738.33 1477.06 1738.33 1468.33 Q1738.33 1459.58 1741.39 1455 Q1744.47 1450.39 1750.28 1450.39 Z\" fill=\"#000000\" fill-rule=\"evenodd\" fill-opacity=\"1\" /><path clip-path=\"url(#clip770)\" d=\"M1770.44 1479.7 L1775.32 1479.7 L1775.32 1485.58 L1770.44 1485.58 L1770.44 1479.7 Z\" fill=\"#000000\" fill-rule=\"evenodd\" fill-opacity=\"1\" /><path clip-path=\"url(#clip770)\" d=\"M1784.33 1451.02 L1806.55 1451.02 L1806.55 1453.01 L1794 1485.58 L1789.12 1485.58 L1800.92 1454.96 L1784.33 1454.96 L1784.33 1451.02 Z\" fill=\"#000000\" fill-rule=\"evenodd\" fill-opacity=\"1\" /><path clip-path=\"url(#clip770)\" d=\"M1815.72 1451.02 L1834.07 1451.02 L1834.07 1454.96 L1820 1454.96 L1820 1463.43 Q1821.02 1463.08 1822.03 1462.92 Q1823.05 1462.73 1824.07 1462.73 Q1829.86 1462.73 1833.24 1465.9 Q1836.62 1469.08 1836.62 1474.49 Q1836.62 1480.07 1833.15 1483.17 Q1829.67 1486.25 1823.35 1486.25 Q1821.18 1486.25 1818.91 1485.88 Q1816.66 1485.51 1814.26 1484.77 L1814.26 1480.07 Q1816.34 1481.2 1818.56 1481.76 Q1820.78 1482.32 1823.26 1482.32 Q1827.27 1482.32 1829.6 1480.21 Q1831.94 1478.1 1831.94 1474.49 Q1831.94 1470.88 1829.6 1468.77 Q1827.27 1466.67 1823.26 1466.67 Q1821.39 1466.67 1819.51 1467.08 Q1817.66 1467.5 1815.72 1468.38 L1815.72 1451.02 Z\" fill=\"#000000\" fill-rule=\"evenodd\" fill-opacity=\"1\" /><path clip-path=\"url(#clip770)\" d=\"M2238.59 1481.64 L2246.23 1481.64 L2246.23 1455.28 L2237.92 1456.95 L2237.92 1452.69 L2246.19 1451.02 L2250.86 1451.02 L2250.86 1481.64 L2258.5 1481.64 L2258.5 1485.58 L2238.59 1485.58 L2238.59 1481.64 Z\" fill=\"#000000\" fill-rule=\"evenodd\" fill-opacity=\"1\" /><path clip-path=\"url(#clip770)\" d=\"M2267.95 1479.7 L2272.83 1479.7 L2272.83 1485.58 L2267.95 1485.58 L2267.95 1479.7 Z\" fill=\"#000000\" fill-rule=\"evenodd\" fill-opacity=\"1\" /><path clip-path=\"url(#clip770)\" d=\"M2293.02 1454.1 Q2289.4 1454.1 2287.58 1457.66 Q2285.77 1461.2 2285.77 1468.33 Q2285.77 1475.44 2287.58 1479.01 Q2289.4 1482.55 2293.02 1482.55 Q2296.65 1482.55 2298.46 1479.01 Q2300.28 1475.44 2300.28 1468.33 Q2300.28 1461.2 2298.46 1457.66 Q2296.65 1454.1 2293.02 1454.1 M2293.02 1450.39 Q2298.83 1450.39 2301.88 1455 Q2304.96 1459.58 2304.96 1468.33 Q2304.96 1477.06 2301.88 1481.67 Q2298.83 1486.25 2293.02 1486.25 Q2287.21 1486.25 2284.13 1481.67 Q2281.07 1477.06 2281.07 1468.33 Q2281.07 1459.58 2284.13 1455 Q2287.21 1450.39 2293.02 1450.39 Z\" fill=\"#000000\" fill-rule=\"evenodd\" fill-opacity=\"1\" /><path clip-path=\"url(#clip770)\" d=\"M2323.18 1454.1 Q2319.57 1454.1 2317.74 1457.66 Q2315.93 1461.2 2315.93 1468.33 Q2315.93 1475.44 2317.74 1479.01 Q2319.57 1482.55 2323.18 1482.55 Q2326.81 1482.55 2328.62 1479.01 Q2330.45 1475.44 2330.45 1468.33 Q2330.45 1461.2 2328.62 1457.66 Q2326.81 1454.1 2323.18 1454.1 M2323.18 1450.39 Q2328.99 1450.39 2332.04 1455 Q2335.12 1459.58 2335.12 1468.33 Q2335.12 1477.06 2332.04 1481.67 Q2328.99 1486.25 2323.18 1486.25 Q2317.37 1486.25 2314.29 1481.67 Q2311.23 1477.06 2311.23 1468.33 Q2311.23 1459.58 2314.29 1455 Q2317.37 1450.39 2323.18 1450.39 Z\" fill=\"#000000\" fill-rule=\"evenodd\" fill-opacity=\"1\" /><path clip-path=\"url(#clip770)\" d=\"M1305.04 1532.4 L1292.15 1549.74 L1305.71 1568.04 L1298.8 1568.04 L1288.43 1554.04 L1278.05 1568.04 L1271.14 1568.04 L1284.99 1549.39 L1272.32 1532.4 L1279.23 1532.4 L1288.68 1545.1 L1298.13 1532.4 L1305.04 1532.4 Z\" fill=\"#000000\" fill-rule=\"evenodd\" fill-opacity=\"1\" /><polyline clip-path=\"url(#clip772)\" style=\"stroke:#000000; stroke-linecap:round; stroke-linejoin:round; stroke-width:2; stroke-opacity:0.1; fill:none\" points=\"224.098,1244.65 2352.76,1244.65 \"/>\n",
       "<polyline clip-path=\"url(#clip772)\" style=\"stroke:#000000; stroke-linecap:round; stroke-linejoin:round; stroke-width:2; stroke-opacity:0.1; fill:none\" points=\"224.098,952.861 2352.76,952.861 \"/>\n",
       "<polyline clip-path=\"url(#clip772)\" style=\"stroke:#000000; stroke-linecap:round; stroke-linejoin:round; stroke-width:2; stroke-opacity:0.1; fill:none\" points=\"224.098,661.075 2352.76,661.075 \"/>\n",
       "<polyline clip-path=\"url(#clip772)\" style=\"stroke:#000000; stroke-linecap:round; stroke-linejoin:round; stroke-width:2; stroke-opacity:0.1; fill:none\" points=\"224.098,369.288 2352.76,369.288 \"/>\n",
       "<polyline clip-path=\"url(#clip770)\" style=\"stroke:#000000; stroke-linecap:round; stroke-linejoin:round; stroke-width:4; stroke-opacity:1; fill:none\" points=\"224.098,1423.18 224.098,123.472 \"/>\n",
       "<polyline clip-path=\"url(#clip770)\" style=\"stroke:#000000; stroke-linecap:round; stroke-linejoin:round; stroke-width:4; stroke-opacity:1; fill:none\" points=\"224.098,1244.65 242.996,1244.65 \"/>\n",
       "<polyline clip-path=\"url(#clip770)\" style=\"stroke:#000000; stroke-linecap:round; stroke-linejoin:round; stroke-width:4; stroke-opacity:1; fill:none\" points=\"224.098,952.861 242.996,952.861 \"/>\n",
       "<polyline clip-path=\"url(#clip770)\" style=\"stroke:#000000; stroke-linecap:round; stroke-linejoin:round; stroke-width:4; stroke-opacity:1; fill:none\" points=\"224.098,661.075 242.996,661.075 \"/>\n",
       "<polyline clip-path=\"url(#clip770)\" style=\"stroke:#000000; stroke-linecap:round; stroke-linejoin:round; stroke-width:4; stroke-opacity:1; fill:none\" points=\"224.098,369.288 242.996,369.288 \"/>\n",
       "<path clip-path=\"url(#clip770)\" d=\"M50.9921 1245.1 L80.6679 1245.1 L80.6679 1249.03 L50.9921 1249.03 L50.9921 1245.1 Z\" fill=\"#000000\" fill-rule=\"evenodd\" fill-opacity=\"1\" /><path clip-path=\"url(#clip770)\" d=\"M100.76 1230.45 Q97.1493 1230.45 95.3206 1234.01 Q93.515 1237.55 93.515 1244.68 Q93.515 1251.79 95.3206 1255.35 Q97.1493 1258.89 100.76 1258.89 Q104.395 1258.89 106.2 1255.35 Q108.029 1251.79 108.029 1244.68 Q108.029 1237.55 106.2 1234.01 Q104.395 1230.45 100.76 1230.45 M100.76 1226.74 Q106.571 1226.74 109.626 1231.35 Q112.705 1235.93 112.705 1244.68 Q112.705 1253.41 109.626 1258.02 Q106.571 1262.6 100.76 1262.6 Q94.9502 1262.6 91.8715 1258.02 Q88.816 1253.41 88.816 1244.68 Q88.816 1235.93 91.8715 1231.35 Q94.9502 1226.74 100.76 1226.74 Z\" fill=\"#000000\" fill-rule=\"evenodd\" fill-opacity=\"1\" /><path clip-path=\"url(#clip770)\" d=\"M120.922 1256.05 L125.807 1256.05 L125.807 1261.93 L120.922 1261.93 L120.922 1256.05 Z\" fill=\"#000000\" fill-rule=\"evenodd\" fill-opacity=\"1\" /><path clip-path=\"url(#clip770)\" d=\"M136.038 1227.37 L154.394 1227.37 L154.394 1231.3 L140.32 1231.3 L140.32 1239.77 Q141.339 1239.43 142.357 1239.27 Q143.376 1239.08 144.394 1239.08 Q150.181 1239.08 153.561 1242.25 Q156.941 1245.42 156.941 1250.84 Q156.941 1256.42 153.468 1259.52 Q149.996 1262.6 143.677 1262.6 Q141.501 1262.6 139.232 1262.23 Q136.987 1261.86 134.58 1261.12 L134.58 1256.42 Q136.663 1257.55 138.885 1258.11 Q141.107 1258.66 143.584 1258.66 Q147.589 1258.66 149.927 1256.56 Q152.265 1254.45 152.265 1250.84 Q152.265 1247.23 149.927 1245.12 Q147.589 1243.02 143.584 1243.02 Q141.709 1243.02 139.834 1243.43 Q137.982 1243.85 136.038 1244.73 L136.038 1227.37 Z\" fill=\"#000000\" fill-rule=\"evenodd\" fill-opacity=\"1\" /><path clip-path=\"url(#clip770)\" d=\"M176.153 1230.45 Q172.542 1230.45 170.714 1234.01 Q168.908 1237.55 168.908 1244.68 Q168.908 1251.79 170.714 1255.35 Q172.542 1258.89 176.153 1258.89 Q179.788 1258.89 181.593 1255.35 Q183.422 1251.79 183.422 1244.68 Q183.422 1237.55 181.593 1234.01 Q179.788 1230.45 176.153 1230.45 M176.153 1226.74 Q181.964 1226.74 185.019 1231.35 Q188.098 1235.93 188.098 1244.68 Q188.098 1253.41 185.019 1258.02 Q181.964 1262.6 176.153 1262.6 Q170.343 1262.6 167.265 1258.02 Q164.209 1253.41 164.209 1244.68 Q164.209 1235.93 167.265 1231.35 Q170.343 1226.74 176.153 1226.74 Z\" fill=\"#000000\" fill-rule=\"evenodd\" fill-opacity=\"1\" /><path clip-path=\"url(#clip770)\" d=\"M51.9875 953.312 L81.6633 953.312 L81.6633 957.247 L51.9875 957.247 L51.9875 953.312 Z\" fill=\"#000000\" fill-rule=\"evenodd\" fill-opacity=\"1\" /><path clip-path=\"url(#clip770)\" d=\"M101.756 938.659 Q98.1447 938.659 96.316 942.224 Q94.5104 945.766 94.5104 952.896 Q94.5104 960.002 96.316 963.567 Q98.1447 967.108 101.756 967.108 Q105.39 967.108 107.196 963.567 Q109.024 960.002 109.024 952.896 Q109.024 945.766 107.196 942.224 Q105.39 938.659 101.756 938.659 M101.756 934.956 Q107.566 934.956 110.621 939.562 Q113.7 944.146 113.7 952.896 Q113.7 961.622 110.621 966.229 Q107.566 970.812 101.756 970.812 Q95.9456 970.812 92.8669 966.229 Q89.8114 961.622 89.8114 952.896 Q89.8114 944.146 92.8669 939.562 Q95.9456 934.956 101.756 934.956 Z\" fill=\"#000000\" fill-rule=\"evenodd\" fill-opacity=\"1\" /><path clip-path=\"url(#clip770)\" d=\"M121.918 964.261 L126.802 964.261 L126.802 970.141 L121.918 970.141 L121.918 964.261 Z\" fill=\"#000000\" fill-rule=\"evenodd\" fill-opacity=\"1\" /><path clip-path=\"url(#clip770)\" d=\"M141.015 966.206 L157.334 966.206 L157.334 970.141 L135.39 970.141 L135.39 966.206 Q138.052 963.451 142.635 958.821 Q147.242 954.169 148.422 952.826 Q150.668 950.303 151.547 948.567 Q152.45 946.808 152.45 945.118 Q152.45 942.363 150.505 940.627 Q148.584 938.891 145.482 938.891 Q143.283 938.891 140.83 939.655 Q138.399 940.419 135.621 941.97 L135.621 937.247 Q138.445 936.113 140.899 935.534 Q143.353 934.956 145.39 934.956 Q150.76 934.956 153.955 937.641 Q157.149 940.326 157.149 944.817 Q157.149 946.946 156.339 948.868 Q155.552 950.766 153.445 953.358 Q152.867 954.03 149.765 957.247 Q146.663 960.442 141.015 966.206 Z\" fill=\"#000000\" fill-rule=\"evenodd\" fill-opacity=\"1\" /><path clip-path=\"url(#clip770)\" d=\"M167.195 935.581 L185.552 935.581 L185.552 939.516 L171.478 939.516 L171.478 947.988 Q172.496 947.641 173.515 947.479 Q174.533 947.294 175.552 947.294 Q181.339 947.294 184.718 950.465 Q188.098 953.636 188.098 959.053 Q188.098 964.632 184.626 967.733 Q181.153 970.812 174.834 970.812 Q172.658 970.812 170.39 970.442 Q168.144 970.071 165.737 969.331 L165.737 964.632 Q167.82 965.766 170.042 966.321 Q172.265 966.877 174.741 966.877 Q178.746 966.877 181.084 964.77 Q183.422 962.664 183.422 959.053 Q183.422 955.442 181.084 953.335 Q178.746 951.229 174.741 951.229 Q172.866 951.229 170.991 951.646 Q169.14 952.062 167.195 952.942 L167.195 935.581 Z\" fill=\"#000000\" fill-rule=\"evenodd\" fill-opacity=\"1\" /><path clip-path=\"url(#clip770)\" d=\"M100.76 646.873 Q97.1493 646.873 95.3206 650.438 Q93.515 653.98 93.515 661.109 Q93.515 668.216 95.3206 671.78 Q97.1493 675.322 100.76 675.322 Q104.395 675.322 106.2 671.78 Q108.029 668.216 108.029 661.109 Q108.029 653.98 106.2 650.438 Q104.395 646.873 100.76 646.873 M100.76 643.17 Q106.571 643.17 109.626 647.776 Q112.705 652.359 112.705 661.109 Q112.705 669.836 109.626 674.442 Q106.571 679.026 100.76 679.026 Q94.9502 679.026 91.8715 674.442 Q88.816 669.836 88.816 661.109 Q88.816 652.359 91.8715 647.776 Q94.9502 643.17 100.76 643.17 Z\" fill=\"#000000\" fill-rule=\"evenodd\" fill-opacity=\"1\" /><path clip-path=\"url(#clip770)\" d=\"M120.922 672.475 L125.807 672.475 L125.807 678.355 L120.922 678.355 L120.922 672.475 Z\" fill=\"#000000\" fill-rule=\"evenodd\" fill-opacity=\"1\" /><path clip-path=\"url(#clip770)\" d=\"M145.992 646.873 Q142.381 646.873 140.552 650.438 Q138.746 653.98 138.746 661.109 Q138.746 668.216 140.552 671.78 Q142.381 675.322 145.992 675.322 Q149.626 675.322 151.431 671.78 Q153.26 668.216 153.26 661.109 Q153.26 653.98 151.431 650.438 Q149.626 646.873 145.992 646.873 M145.992 643.17 Q151.802 643.17 154.857 647.776 Q157.936 652.359 157.936 661.109 Q157.936 669.836 154.857 674.442 Q151.802 679.026 145.992 679.026 Q140.181 679.026 137.103 674.442 Q134.047 669.836 134.047 661.109 Q134.047 652.359 137.103 647.776 Q140.181 643.17 145.992 643.17 Z\" fill=\"#000000\" fill-rule=\"evenodd\" fill-opacity=\"1\" /><path clip-path=\"url(#clip770)\" d=\"M176.153 646.873 Q172.542 646.873 170.714 650.438 Q168.908 653.98 168.908 661.109 Q168.908 668.216 170.714 671.78 Q172.542 675.322 176.153 675.322 Q179.788 675.322 181.593 671.78 Q183.422 668.216 183.422 661.109 Q183.422 653.98 181.593 650.438 Q179.788 646.873 176.153 646.873 M176.153 643.17 Q181.964 643.17 185.019 647.776 Q188.098 652.359 188.098 661.109 Q188.098 669.836 185.019 674.442 Q181.964 679.026 176.153 679.026 Q170.343 679.026 167.265 674.442 Q164.209 669.836 164.209 661.109 Q164.209 652.359 167.265 647.776 Q170.343 643.17 176.153 643.17 Z\" fill=\"#000000\" fill-rule=\"evenodd\" fill-opacity=\"1\" /><path clip-path=\"url(#clip770)\" d=\"M101.756 355.087 Q98.1447 355.087 96.316 358.652 Q94.5104 362.193 94.5104 369.323 Q94.5104 376.429 96.316 379.994 Q98.1447 383.536 101.756 383.536 Q105.39 383.536 107.196 379.994 Q109.024 376.429 109.024 369.323 Q109.024 362.193 107.196 358.652 Q105.39 355.087 101.756 355.087 M101.756 351.383 Q107.566 351.383 110.621 355.99 Q113.7 360.573 113.7 369.323 Q113.7 378.05 110.621 382.656 Q107.566 387.24 101.756 387.24 Q95.9456 387.24 92.8669 382.656 Q89.8114 378.05 89.8114 369.323 Q89.8114 360.573 92.8669 355.99 Q95.9456 351.383 101.756 351.383 Z\" fill=\"#000000\" fill-rule=\"evenodd\" fill-opacity=\"1\" /><path clip-path=\"url(#clip770)\" d=\"M121.918 380.689 L126.802 380.689 L126.802 386.568 L121.918 386.568 L121.918 380.689 Z\" fill=\"#000000\" fill-rule=\"evenodd\" fill-opacity=\"1\" /><path clip-path=\"url(#clip770)\" d=\"M141.015 382.633 L157.334 382.633 L157.334 386.568 L135.39 386.568 L135.39 382.633 Q138.052 379.878 142.635 375.249 Q147.242 370.596 148.422 369.253 Q150.668 366.73 151.547 364.994 Q152.45 363.235 152.45 361.545 Q152.45 358.791 150.505 357.054 Q148.584 355.318 145.482 355.318 Q143.283 355.318 140.83 356.082 Q138.399 356.846 135.621 358.397 L135.621 353.675 Q138.445 352.541 140.899 351.962 Q143.353 351.383 145.39 351.383 Q150.76 351.383 153.955 354.068 Q157.149 356.754 157.149 361.244 Q157.149 363.374 156.339 365.295 Q155.552 367.193 153.445 369.786 Q152.867 370.457 149.765 373.675 Q146.663 376.869 141.015 382.633 Z\" fill=\"#000000\" fill-rule=\"evenodd\" fill-opacity=\"1\" /><path clip-path=\"url(#clip770)\" d=\"M167.195 352.008 L185.552 352.008 L185.552 355.943 L171.478 355.943 L171.478 364.416 Q172.496 364.068 173.515 363.906 Q174.533 363.721 175.552 363.721 Q181.339 363.721 184.718 366.892 Q188.098 370.064 188.098 375.48 Q188.098 381.059 184.626 384.161 Q181.153 387.24 174.834 387.24 Q172.658 387.24 170.39 386.869 Q168.144 386.499 165.737 385.758 L165.737 381.059 Q167.82 382.193 170.042 382.749 Q172.265 383.304 174.741 383.304 Q178.746 383.304 181.084 381.198 Q183.422 379.091 183.422 375.48 Q183.422 371.869 181.084 369.763 Q178.746 367.656 174.741 367.656 Q172.866 367.656 170.991 368.073 Q169.14 368.49 167.195 369.369 L167.195 352.008 Z\" fill=\"#000000\" fill-rule=\"evenodd\" fill-opacity=\"1\" /><path clip-path=\"url(#clip770)\" d=\"M1069.25 12.096 L1077.44 12.096 L1077.44 72.576 L1069.25 72.576 L1069.25 12.096 Z\" fill=\"#000000\" fill-rule=\"evenodd\" fill-opacity=\"1\" /><path clip-path=\"url(#clip770)\" d=\"M1131.11 45.1919 L1131.11 72.576 L1123.66 72.576 L1123.66 45.4349 Q1123.66 38.994 1121.14 35.7938 Q1118.63 32.5936 1113.61 32.5936 Q1107.57 32.5936 1104.09 36.4419 Q1100.61 40.2903 1100.61 46.9338 L1100.61 72.576 L1093.11 72.576 L1093.11 27.2059 L1100.61 27.2059 L1100.61 34.2544 Q1103.28 30.163 1106.89 28.1376 Q1110.53 26.1121 1115.27 26.1121 Q1123.09 26.1121 1127.1 30.9732 Q1131.11 35.7938 1131.11 45.1919 Z\" fill=\"#000000\" fill-rule=\"evenodd\" fill-opacity=\"1\" /><path clip-path=\"url(#clip770)\" d=\"M1145.98 27.2059 L1153.43 27.2059 L1153.43 72.576 L1145.98 72.576 L1145.98 27.2059 M1145.98 9.54393 L1153.43 9.54393 L1153.43 18.9825 L1145.98 18.9825 L1145.98 9.54393 Z\" fill=\"#000000\" fill-rule=\"evenodd\" fill-opacity=\"1\" /><path clip-path=\"url(#clip770)\" d=\"M1176.4 14.324 L1176.4 27.2059 L1191.75 27.2059 L1191.75 32.9987 L1176.4 32.9987 L1176.4 57.6282 Q1176.4 63.1779 1177.9 64.7578 Q1179.44 66.3376 1184.1 66.3376 L1191.75 66.3376 L1191.75 72.576 L1184.1 72.576 Q1175.47 72.576 1172.19 69.3758 Q1168.9 66.1351 1168.9 57.6282 L1168.9 32.9987 L1163.44 32.9987 L1163.44 27.2059 L1168.9 27.2059 L1168.9 14.324 L1176.4 14.324 Z\" fill=\"#000000\" fill-rule=\"evenodd\" fill-opacity=\"1\" /><path clip-path=\"url(#clip770)\" d=\"M1201.56 27.2059 L1209.01 27.2059 L1209.01 72.576 L1201.56 72.576 L1201.56 27.2059 M1201.56 9.54393 L1209.01 9.54393 L1209.01 18.9825 L1201.56 18.9825 L1201.56 9.54393 Z\" fill=\"#000000\" fill-rule=\"evenodd\" fill-opacity=\"1\" /><path clip-path=\"url(#clip770)\" d=\"M1245.22 49.7694 Q1236.19 49.7694 1232.71 51.8354 Q1229.22 53.9013 1229.22 58.8839 Q1229.22 62.8538 1231.82 65.2034 Q1234.45 67.5124 1238.95 67.5124 Q1245.14 67.5124 1248.87 63.1374 Q1252.64 58.7219 1252.64 51.4303 L1252.64 49.7694 L1245.22 49.7694 M1260.09 46.6907 L1260.09 72.576 L1252.64 72.576 L1252.64 65.6895 Q1250.09 69.8214 1246.28 71.8063 Q1242.47 73.7508 1236.96 73.7508 Q1229.99 73.7508 1225.86 69.8619 Q1221.77 65.9325 1221.77 59.3701 Q1221.77 51.7138 1226.87 47.825 Q1232.02 43.9361 1242.19 43.9361 L1252.64 43.9361 L1252.64 43.2069 Q1252.64 38.0623 1249.23 35.2672 Q1245.87 32.4315 1239.76 32.4315 Q1235.87 32.4315 1232.18 33.3632 Q1228.49 34.295 1225.09 36.1584 L1225.09 29.2718 Q1229.18 27.692 1233.03 26.9223 Q1236.88 26.1121 1240.52 26.1121 Q1250.37 26.1121 1255.23 31.2163 Q1260.09 36.3204 1260.09 46.6907 Z\" fill=\"#000000\" fill-rule=\"evenodd\" fill-opacity=\"1\" /><path clip-path=\"url(#clip770)\" d=\"M1275.44 9.54393 L1282.9 9.54393 L1282.9 72.576 L1275.44 72.576 L1275.44 9.54393 Z\" fill=\"#000000\" fill-rule=\"evenodd\" fill-opacity=\"1\" /><path clip-path=\"url(#clip770)\" d=\"M1333.37 18.8205 L1333.37 65.8515 L1343.26 65.8515 Q1355.77 65.8515 1361.57 60.1802 Q1367.4 54.509 1367.4 42.2752 Q1367.4 30.1225 1361.57 24.4918 Q1355.77 18.8205 1343.26 18.8205 L1333.37 18.8205 M1325.19 12.096 L1342 12.096 Q1359.58 12.096 1367.8 19.4281 Q1376.03 26.7198 1376.03 42.2752 Q1376.03 57.9117 1367.76 65.2439 Q1359.5 72.576 1342 72.576 L1325.19 72.576 L1325.19 12.096 Z\" fill=\"#000000\" fill-rule=\"evenodd\" fill-opacity=\"1\" /><path clip-path=\"url(#clip770)\" d=\"M1409.37 49.7694 Q1400.33 49.7694 1396.85 51.8354 Q1393.37 53.9013 1393.37 58.8839 Q1393.37 62.8538 1395.96 65.2034 Q1398.59 67.5124 1403.09 67.5124 Q1409.29 67.5124 1413.01 63.1374 Q1416.78 58.7219 1416.78 51.4303 L1416.78 49.7694 L1409.37 49.7694 M1424.23 46.6907 L1424.23 72.576 L1416.78 72.576 L1416.78 65.6895 Q1414.23 69.8214 1410.42 71.8063 Q1406.61 73.7508 1401.1 73.7508 Q1394.14 73.7508 1390 69.8619 Q1385.91 65.9325 1385.91 59.3701 Q1385.91 51.7138 1391.02 47.825 Q1396.16 43.9361 1406.33 43.9361 L1416.78 43.9361 L1416.78 43.2069 Q1416.78 38.0623 1413.38 35.2672 Q1410.01 32.4315 1403.9 32.4315 Q1400.01 32.4315 1396.32 33.3632 Q1392.64 34.295 1389.23 36.1584 L1389.23 29.2718 Q1393.33 27.692 1397.17 26.9223 Q1401.02 26.1121 1404.67 26.1121 Q1414.51 26.1121 1419.37 31.2163 Q1424.23 36.3204 1424.23 46.6907 Z\" fill=\"#000000\" fill-rule=\"evenodd\" fill-opacity=\"1\" /><path clip-path=\"url(#clip770)\" d=\"M1446.96 14.324 L1446.96 27.2059 L1462.31 27.2059 L1462.31 32.9987 L1446.96 32.9987 L1446.96 57.6282 Q1446.96 63.1779 1448.46 64.7578 Q1450 66.3376 1454.66 66.3376 L1462.31 66.3376 L1462.31 72.576 L1454.66 72.576 Q1446.03 72.576 1442.75 69.3758 Q1439.46 66.1351 1439.46 57.6282 L1439.46 32.9987 L1434 32.9987 L1434 27.2059 L1439.46 27.2059 L1439.46 14.324 L1446.96 14.324 Z\" fill=\"#000000\" fill-rule=\"evenodd\" fill-opacity=\"1\" /><path clip-path=\"url(#clip770)\" d=\"M1492.73 49.7694 Q1483.7 49.7694 1480.22 51.8354 Q1476.73 53.9013 1476.73 58.8839 Q1476.73 62.8538 1479.33 65.2034 Q1481.96 67.5124 1486.46 67.5124 Q1492.65 67.5124 1496.38 63.1374 Q1500.15 58.7219 1500.15 51.4303 L1500.15 49.7694 L1492.73 49.7694 M1507.6 46.6907 L1507.6 72.576 L1500.15 72.576 L1500.15 65.6895 Q1497.6 69.8214 1493.79 71.8063 Q1489.98 73.7508 1484.47 73.7508 Q1477.5 73.7508 1473.37 69.8619 Q1469.28 65.9325 1469.28 59.3701 Q1469.28 51.7138 1474.38 47.825 Q1479.53 43.9361 1489.7 43.9361 L1500.15 43.9361 L1500.15 43.2069 Q1500.15 38.0623 1496.74 35.2672 Q1493.38 32.4315 1487.27 32.4315 Q1483.38 32.4315 1479.69 33.3632 Q1476 34.295 1472.6 36.1584 L1472.6 29.2718 Q1476.69 27.692 1480.54 26.9223 Q1484.39 26.1121 1488.04 26.1121 Q1497.88 26.1121 1502.74 31.2163 Q1507.6 36.3204 1507.6 46.6907 Z\" fill=\"#000000\" fill-rule=\"evenodd\" fill-opacity=\"1\" /><polyline clip-path=\"url(#clip772)\" style=\"stroke:#009af9; stroke-linecap:round; stroke-linejoin:round; stroke-width:4; stroke-opacity:1; fill:none\" points=\"284.343,661.075 286.339,661.075 288.335,661.075 290.331,661.075 292.328,661.075 294.324,661.075 296.32,661.075 298.316,661.075 300.312,661.075 302.309,661.075 304.305,661.075 306.301,661.075 308.297,661.075 310.293,661.075 312.29,661.075 314.286,661.075 316.282,661.075 318.278,661.075 320.274,661.075 322.271,661.075 324.267,661.075 326.263,661.075 328.259,661.075 330.255,661.075 332.251,661.075 334.248,661.075 336.244,661.075 338.24,661.075 340.236,661.075 342.232,661.075 344.229,661.075 346.225,661.075 348.221,661.075 350.217,661.075 352.213,661.075 354.21,661.075 356.206,661.075 358.202,661.075 360.198,661.075 362.194,661.075 364.191,661.075 366.187,661.075 368.183,661.075 370.179,661.075 372.175,661.075 374.171,661.075 376.168,661.075 378.164,661.075 380.16,661.075 382.156,661.075 384.152,661.075 386.149,661.075 388.145,661.075 390.141,661.075 392.137,661.075 394.133,661.075 396.13,661.075 398.126,661.075 400.122,661.075 402.118,661.075 404.114,661.075 406.111,661.075 408.107,661.075 410.103,661.075 412.099,661.075 414.095,661.075 416.092,661.075 418.088,661.075 420.084,661.075 422.08,661.075 424.076,661.075 426.072,661.075 428.069,661.075 430.065,661.075 432.061,661.075 434.057,661.075 436.053,661.075 438.05,661.075 440.046,661.075 442.042,661.075 444.038,661.075 446.034,661.075 448.031,661.075 450.027,661.075 452.023,661.075 454.019,661.075 456.015,661.075 458.012,661.075 460.008,661.075 462.004,661.075 464,661.075 465.996,661.075 467.992,661.075 469.989,661.075 471.985,661.075 473.981,661.075 475.977,661.075 477.973,661.075 479.97,661.075 481.966,661.075 483.962,661.075 485.958,661.075 487.954,661.075 489.951,661.074 491.947,661.074 493.943,661.074 495.939,661.074 497.935,661.074 499.932,661.074 501.928,661.074 503.924,661.074 505.92,661.074 507.916,661.074 509.912,661.074 511.909,661.074 513.905,661.074 515.901,661.074 517.897,661.074 519.893,661.074 521.89,661.074 523.886,661.074 525.882,661.074 527.878,661.074 529.874,661.074 531.871,661.074 533.867,661.074 535.863,661.074 537.859,661.074 539.855,661.074 541.852,661.074 543.848,661.074 545.844,661.074 547.84,661.074 549.836,661.074 551.832,661.074 553.829,661.074 555.825,661.074 557.821,661.074 559.817,661.074 561.813,661.074 563.81,661.074 565.806,661.074 567.802,661.074 569.798,661.074 571.794,661.074 573.791,661.074 575.787,661.074 577.783,661.074 579.779,661.074 581.775,661.074 583.772,661.074 585.768,661.074 587.764,661.074 589.76,661.074 591.756,661.074 593.752,661.074 595.749,661.074 597.745,661.074 599.741,661.074 601.737,661.074 603.733,661.074 605.73,661.074 607.726,661.074 609.722,661.074 611.718,661.074 613.714,661.074 615.711,661.074 617.707,661.074 619.703,661.074 621.699,661.074 623.695,661.074 625.692,661.074 627.688,661.074 629.684,661.074 631.68,661.074 633.676,661.074 635.672,661.074 637.669,661.074 639.665,661.074 641.661,661.074 643.657,661.074 645.653,661.074 647.65,661.074 649.646,661.074 651.642,661.074 653.638,661.074 655.634,661.074 657.631,661.074 659.627,661.074 661.623,661.074 663.619,661.074 665.615,661.074 667.612,661.074 669.608,661.074 671.604,661.074 673.6,661.074 675.596,661.074 677.593,661.073 679.589,661.073 681.585,661.073 683.581,661.073 685.577,661.073 687.573,661.073 689.57,661.073 691.566,661.073 693.562,661.073 695.558,661.073 697.554,661.072 699.551,661.072 701.547,661.072 703.543,661.072 705.539,661.072 707.535,661.072 709.532,661.072 711.528,661.071 713.524,661.071 715.52,661.071 717.516,661.071 719.513,661.07 721.509,661.07 723.505,661.07 725.501,661.07 727.497,661.069 729.493,661.069 731.49,661.069 733.486,661.068 735.482,661.068 737.478,661.068 739.474,661.067 741.471,661.067 743.467,661.066 745.463,661.066 747.459,661.065 749.455,661.064 751.452,661.064 753.448,661.063 755.444,661.063 757.44,661.062 759.436,661.061 761.433,661.06 763.429,661.059 765.425,661.058 767.421,661.057 769.417,661.056 771.413,661.055 773.41,661.054 775.406,661.053 777.402,661.052 779.398,661.05 781.394,661.049 783.391,661.048 785.387,661.046 787.383,661.044 789.379,661.043 791.375,661.041 793.372,661.039 795.368,661.037 797.364,661.034 799.36,661.032 801.356,661.03 803.353,661.027 805.349,661.025 807.345,661.022 809.341,661.019 811.337,661.016 813.333,661.012 815.33,661.009 817.326,661.005 819.322,661.001 821.318,660.997 823.314,660.993 825.311,660.989 827.307,660.984 829.303,660.979 831.299,660.974 833.295,660.968 835.292,660.962 837.288,660.956 839.284,660.95 841.28,660.943 843.276,660.936 845.273,660.929 847.269,660.921 849.265,660.913 851.261,660.905 853.257,660.896 855.253,660.887 857.25,660.877 859.246,660.867 861.242,660.856 863.238,660.845 865.234,660.833 867.231,660.821 869.227,660.808 871.223,660.794 873.219,660.78 875.215,660.765 877.212,660.75 879.208,660.734 881.204,660.717 883.2,660.699 885.196,660.68 887.193,660.661 889.189,660.641 891.185,660.62 893.181,660.598 895.177,660.575 897.173,660.551 899.17,660.526 901.166,660.5 903.162,660.473 905.158,660.444 907.154,660.415 909.151,660.384 911.147,660.352 913.143,660.319 915.139,660.284 917.135,660.248 919.132,660.21 921.128,660.171 923.124,660.13 925.12,660.088 927.116,660.044 929.113,659.999 931.109,659.951 933.105,659.902 935.101,659.851 937.097,659.798 939.093,659.743 941.09,659.685 943.086,659.626 945.082,659.565 947.078,659.501 949.074,659.435 951.071,659.367 953.067,659.297 955.063,659.224 957.059,659.148 959.055,659.07 961.052,658.989 963.048,658.906 965.044,658.82 967.04,658.731 969.036,658.639 971.033,658.544 973.029,658.447 975.025,658.346 977.021,658.242 979.017,658.135 981.014,658.025 983.01,657.912 985.006,657.795 987.002,657.675 988.998,657.552 990.994,657.425 992.991,657.295 994.987,657.162 996.983,657.025 998.979,656.884 1000.98,656.74 1002.97,656.592 1004.97,656.441 1006.96,656.286 1008.96,656.127 1010.96,655.965 1012.95,655.799 1014.95,655.63 1016.94,655.457 1018.94,655.28 1020.94,655.1 1022.93,654.916 1024.93,654.729 1026.93,654.538 1028.92,654.344 1030.92,654.147 1032.91,653.946 1034.91,653.742 1036.91,653.535 1038.9,653.325 1040.9,653.112 1042.9,652.896 1044.89,652.677 1046.89,652.455 1048.88,652.231 1050.88,652.005 1052.88,651.776 1054.87,651.546 1056.87,651.313 1058.86,651.079 1060.86,650.842 1062.86,650.605 1064.85,650.366 1066.85,650.126 1068.85,649.885 1070.84,649.644 1072.84,649.402 1074.83,649.16 1076.83,648.918 1078.83,648.677 1080.82,648.436 1082.82,648.195 1084.82,647.956 1086.81,647.718 1088.81,647.482 1090.8,647.247 1092.8,647.014 1094.8,646.784 1096.79,646.557 1098.79,646.332 1100.78,646.11 1102.78,645.892 1104.78,645.678 1106.77,645.468 1108.77,645.262 1110.77,645.06 1112.76,644.863 1114.76,644.672 1116.75,644.485 1118.75,644.304 1120.75,644.129 1122.74,643.959 1124.74,643.796 1126.74,643.639 1128.73,643.488 1130.73,643.344 1132.72,643.207 1134.72,643.077 1136.72,642.953 1138.71,642.837 1140.71,642.728 1142.7,642.625 1144.7,642.53 1146.7,642.442 1148.69,642.361 1150.69,642.287 1152.69,642.219 1154.68,642.159 1156.68,642.105 1158.67,642.057 1160.67,642.015 1162.67,641.979 1164.66,641.948 1166.66,641.923 1168.66,641.902 1170.65,641.886 1172.65,641.874 1174.64,641.865 1176.64,641.859 1178.64,641.855 1180.63,641.853 1182.63,641.853 1184.62,641.853 1186.62,641.853 1188.62,641.851 1190.61,641.849 1192.61,641.844 1194.61,641.836 1196.6,641.824 1198.6,641.807 1200.59,641.785 1202.59,641.756 1204.59,641.72 1206.58,641.676 1208.58,641.622 1210.58,641.559 1212.57,641.484 1214.57,641.398 1216.56,641.299 1218.56,641.187 1220.56,641.06 1222.55,640.918 1224.55,640.76 1226.54,640.585 1228.54,640.392 1230.54,640.181 1232.53,639.951 1234.53,639.701 1236.53,639.431 1238.52,639.14 1240.52,638.828 1242.51,638.494 1244.51,638.137 1246.51,637.758 1248.5,637.356 1250.5,636.932 1252.5,636.483 1254.49,636.012 1256.49,635.518 1258.48,635 1260.48,634.46 1262.48,633.896 1264.47,633.311 1266.47,632.703 1268.46,632.074 1270.46,631.424 1272.46,630.753 1274.45,630.062 1276.45,629.353 1278.45,628.625 1280.44,627.88 1282.44,627.119 1284.43,626.342 1286.43,625.551 1288.43,624.746 1290.42,623.93 1292.42,623.102 1294.42,622.265 1296.41,621.419 1298.41,620.566 1300.4,619.707 1302.4,618.843 1304.4,617.976 1306.39,617.107 1308.39,616.238 1310.38,615.369 1312.38,614.502 1314.38,613.638 1316.37,612.779 1318.37,611.926 1320.37,611.079 1322.36,610.241 1324.36,609.412 1326.35,608.594 1328.35,607.787 1330.35,606.992 1332.34,606.211 1334.34,605.445 1336.34,604.693 1338.33,603.958 1340.33,603.239 1342.32,602.538 1344.32,601.855 1346.32,601.19 1348.31,600.544 1350.31,599.918 1352.3,599.311 1354.3,598.725 1356.3,598.158 1358.29,597.612 1360.29,597.087 1362.29,596.581 1364.28,596.097 1366.28,595.632 1368.27,595.188 1370.27,594.763 1372.27,594.359 1374.26,593.973 1376.26,593.607 1378.26,593.26 1380.25,592.93 1382.25,592.619 1384.24,592.325 1386.24,592.048 1388.24,591.787 1390.23,591.542 1392.23,591.313 1394.23,591.098 1396.22,590.897 1398.22,590.709 1400.21,590.535 1402.21,590.373 1404.21,590.222 1406.2,590.083 1408.2,589.954 1410.19,589.835 1412.19,589.726 1414.19,589.625 1416.18,589.533 1418.18,589.449 1420.18,589.371 1422.17,589.301 1424.17,589.237 1426.16,589.179 1428.16,589.126 1430.16,589.079 1432.15,589.036 1434.15,588.997 1436.15,588.962 1438.14,588.931 1440.14,588.903 1442.13,588.878 1444.13,588.856 1446.13,588.836 1448.12,588.819 1450.12,588.803 1452.11,588.789 1454.11,588.777 1456.11,588.767 1458.1,588.758 1460.1,588.749 1462.1,588.742 1464.09,588.736 1466.09,588.731 1468.08,588.726 1470.08,588.722 1472.08,588.719 1474.07,588.716 1476.07,588.713 1478.07,588.711 1480.06,588.709 1482.06,588.708 1484.05,588.706 1486.05,588.705 1488.05,588.704 1490.04,588.704 1492.04,588.703 1494.03,588.702 1496.03,588.702 1498.03,588.702 1500.02,588.701 1502.02,588.701 1504.02,588.701 1506.01,588.701 1508.01,588.7 1510,588.7 1512,588.7 1514,588.7 1515.99,588.7 1517.99,588.7 1519.99,588.7 1521.98,588.7 1523.98,588.7 1525.97,588.7 1527.97,588.7 1529.97,588.7 1531.96,588.7 1533.96,588.7 1535.95,588.7 1537.95,588.7 1539.95,588.7 1541.94,588.7 1543.94,588.7 1545.94,588.7 1547.93,588.7 1549.93,588.7 1551.92,588.7 1553.92,588.7 1555.92,588.7 1557.91,588.7 1559.91,588.7 1561.91,588.7 1563.9,588.7 1565.9,588.7 1567.89,588.7 1569.89,588.7 1571.89,588.7 1573.88,588.7 1575.88,588.7 1577.87,588.7 1579.87,588.7 1581.87,588.7 1583.86,588.7 1585.86,588.7 1587.86,588.7 1589.85,588.7 1591.85,588.7 1593.84,588.7 1595.84,588.7 1597.84,588.7 1599.83,588.7 1601.83,588.7 1603.83,588.7 1605.82,588.7 1607.82,588.7 1609.81,588.7 1611.81,588.7 1613.81,588.7 1615.8,588.7 1617.8,588.7 1619.79,588.7 1621.79,588.7 1623.79,588.7 1625.78,588.7 1627.78,588.7 1629.78,588.7 1631.77,588.7 1633.77,588.7 1635.76,588.7 1637.76,588.7 1639.76,588.7 1641.75,588.7 1643.75,588.7 1645.75,588.7 1647.74,588.7 1649.74,588.7 1651.73,588.7 1653.73,588.7 1655.73,588.7 1657.72,588.7 1659.72,588.7 1661.71,588.7 1663.71,588.7 1665.71,588.7 1667.7,588.7 1669.7,588.7 1671.7,588.7 1673.69,588.7 1675.69,588.7 1677.68,588.7 1679.68,588.7 1681.68,588.7 1683.67,588.7 1685.67,588.7 1687.67,588.7 1689.66,588.7 1691.66,588.7 1693.65,588.7 1695.65,588.7 1697.65,588.7 1699.64,588.7 1701.64,588.7 1703.63,588.7 1705.63,588.7 1707.63,588.7 1709.62,588.7 1711.62,588.7 1713.62,588.7 1715.61,588.7 1717.61,588.7 1719.6,588.7 1721.6,588.7 1723.6,588.7 1725.59,588.7 1727.59,588.7 1729.59,588.7 1731.58,588.7 1733.58,588.7 1735.57,588.7 1737.57,588.7 1739.57,588.7 1741.56,588.7 1743.56,588.7 1745.55,588.7 1747.55,588.7 1749.55,588.7 1751.54,588.7 1753.54,588.7 1755.54,588.7 1757.53,588.7 1759.53,588.7 1761.52,588.7 1763.52,588.7 1765.52,588.7 1767.51,588.7 1769.51,588.7 1771.51,588.7 1773.5,588.7 1775.5,588.7 1777.49,588.7 1779.49,588.7 1781.49,588.7 1783.48,588.7 1785.48,588.7 1787.47,588.7 1789.47,588.7 1791.47,588.7 1793.46,588.7 1795.46,588.7 1797.46,588.7 1799.45,588.7 1801.45,588.7 1803.44,588.7 1805.44,588.7 1807.44,588.7 1809.43,588.7 1811.43,588.7 1813.43,588.7 1815.42,588.7 1817.42,588.7 1819.41,588.7 1821.41,588.7 1823.41,588.7 1825.4,588.7 1827.4,588.7 1829.39,588.7 1831.39,588.7 1833.39,588.7 1835.38,588.7 1837.38,588.7 1839.38,588.7 1841.37,588.7 1843.37,588.7 1845.36,588.7 1847.36,588.7 1849.36,588.7 1851.35,588.7 1853.35,588.7 1855.35,588.7 1857.34,588.7 1859.34,588.7 1861.33,588.7 1863.33,588.7 1865.33,588.7 1867.32,588.7 1869.32,588.7 1871.31,588.7 1873.31,588.7 1875.31,588.7 1877.3,588.7 1879.3,588.7 1881.3,588.7 1883.29,588.7 1885.29,588.7 1887.28,588.7 1889.28,588.7 1891.28,588.7 1893.27,588.7 1895.27,588.7 1897.27,588.7 1899.26,588.7 1901.26,588.7 1903.25,588.7 1905.25,588.7 1907.25,588.7 1909.24,588.7 1911.24,588.7 1913.23,588.7 1915.23,588.7 1917.23,588.7 1919.22,588.7 1921.22,588.7 1923.22,588.7 1925.21,588.7 1927.21,588.7 1929.2,588.7 1931.2,588.7 1933.2,588.7 1935.19,588.7 1937.19,588.7 1939.19,588.7 1941.18,588.7 1943.18,588.7 1945.17,588.7 1947.17,588.7 1949.17,588.7 1951.16,588.7 1953.16,588.7 1955.15,588.7 1957.15,588.7 1959.15,588.7 1961.14,588.7 1963.14,588.7 1965.14,588.7 1967.13,588.7 1969.13,588.7 1971.12,588.7 1973.12,588.7 1975.12,588.7 1977.11,588.7 1979.11,588.7 1981.11,588.7 1983.1,588.7 1985.1,588.7 1987.09,588.7 1989.09,588.7 1991.09,588.7 1993.08,588.7 1995.08,588.7 1997.07,588.7 1999.07,588.7 2001.07,588.7 2003.06,588.7 2005.06,588.7 2007.06,588.7 2009.05,588.7 2011.05,588.7 2013.04,588.7 2015.04,588.7 2017.04,588.7 2019.03,588.7 2021.03,588.7 2023.03,588.7 2025.02,588.7 2027.02,588.7 2029.01,588.7 2031.01,588.7 2033.01,588.7 2035,588.7 2037,588.7 2038.99,588.7 2040.99,588.7 2042.99,588.7 2044.98,588.7 2046.98,588.7 2048.98,588.7 2050.97,588.7 2052.97,588.7 2054.96,588.7 2056.96,588.7 2058.96,588.7 2060.95,588.7 2062.95,588.7 2064.95,588.7 2066.94,588.7 2068.94,588.7 2070.93,588.7 2072.93,588.7 2074.93,588.7 2076.92,588.7 2078.92,588.7 2080.91,588.7 2082.91,588.7 2084.91,588.7 2086.9,588.7 2088.9,588.7 2090.9,588.7 2092.89,588.7 2094.89,588.7 2096.88,588.7 2098.88,588.7 2100.88,588.7 2102.87,588.7 2104.87,588.7 2106.87,588.7 2108.86,588.7 2110.86,588.7 2112.85,588.7 2114.85,588.7 2116.85,588.7 2118.84,588.7 2120.84,588.7 2122.83,588.7 2124.83,588.7 2126.83,588.7 2128.82,588.7 2130.82,588.7 2132.82,588.7 2134.81,588.7 2136.81,588.7 2138.8,588.7 2140.8,588.7 2142.8,588.7 2144.79,588.7 2146.79,588.7 2148.79,588.7 2150.78,588.7 2152.78,588.7 2154.77,588.7 2156.77,588.7 2158.77,588.7 2160.76,588.7 2162.76,588.7 2164.75,588.7 2166.75,588.7 2168.75,588.7 2170.74,588.7 2172.74,588.7 2174.74,588.7 2176.73,588.7 2178.73,588.7 2180.72,588.7 2182.72,588.7 2184.72,588.7 2186.71,588.7 2188.71,588.7 2190.71,588.7 2192.7,588.7 2194.7,588.7 2196.69,588.7 2198.69,588.7 2200.69,588.7 2202.68,588.7 2204.68,588.7 2206.67,588.7 2208.67,588.7 2210.67,588.7 2212.66,588.7 2214.66,588.7 2216.66,588.7 2218.65,588.7 2220.65,588.7 2222.64,588.7 2224.64,588.7 2226.64,588.7 2228.63,588.7 2230.63,588.7 2232.63,588.7 2234.62,588.7 2236.62,588.7 2238.61,588.7 2240.61,588.7 2242.61,588.7 2244.6,588.7 2246.6,588.7 2248.59,588.7 2250.59,588.7 2252.59,588.7 2254.58,588.7 2256.58,588.7 2258.58,588.7 2260.57,588.7 2262.57,588.7 2264.56,588.7 2266.56,588.7 2268.56,588.7 2270.55,588.7 2272.55,588.7 2274.55,588.7 2276.54,588.7 2278.54,588.7 2280.53,588.7 2282.53,588.7 2284.53,588.7 2286.52,588.7 2288.52,588.7 2290.51,588.7 2292.51,588.7 \"/>\n",
       "<polyline clip-path=\"url(#clip772)\" style=\"stroke:#e26f46; stroke-linecap:round; stroke-linejoin:round; stroke-width:4; stroke-opacity:1; fill:none\" points=\"284.343,661.075 286.339,661.075 288.335,661.075 290.331,661.075 292.328,661.075 294.324,661.075 296.32,661.075 298.316,661.075 300.312,661.075 302.309,661.075 304.305,661.075 306.301,661.075 308.297,661.075 310.293,661.075 312.29,661.075 314.286,661.075 316.282,661.075 318.278,661.075 320.274,661.075 322.271,661.075 324.267,661.075 326.263,661.075 328.259,661.075 330.255,661.075 332.251,661.075 334.248,661.075 336.244,661.075 338.24,661.075 340.236,661.075 342.232,661.075 344.229,661.075 346.225,661.075 348.221,661.075 350.217,661.075 352.213,661.075 354.21,661.075 356.206,661.075 358.202,661.075 360.198,661.075 362.194,661.075 364.191,661.075 366.187,661.075 368.183,661.075 370.179,661.075 372.175,661.075 374.171,661.075 376.168,661.075 378.164,661.075 380.16,661.075 382.156,661.075 384.152,661.075 386.149,661.075 388.145,661.075 390.141,661.075 392.137,661.075 394.133,661.075 396.13,661.075 398.126,661.075 400.122,661.075 402.118,661.075 404.114,661.075 406.111,661.075 408.107,661.075 410.103,661.075 412.099,661.075 414.095,661.075 416.092,661.075 418.088,661.075 420.084,661.075 422.08,661.075 424.076,661.075 426.072,661.075 428.069,661.075 430.065,661.075 432.061,661.075 434.057,661.075 436.053,661.074 438.05,661.074 440.046,661.074 442.042,661.074 444.038,661.074 446.034,661.074 448.031,661.074 450.027,661.074 452.023,661.074 454.019,661.074 456.015,661.074 458.012,661.074 460.008,661.074 462.004,661.074 464,661.074 465.996,661.074 467.992,661.074 469.989,661.074 471.985,661.074 473.981,661.074 475.977,661.074 477.973,661.074 479.97,661.074 481.966,661.074 483.962,661.074 485.958,661.074 487.954,661.074 489.951,661.074 491.947,661.074 493.943,661.074 495.939,661.074 497.935,661.074 499.932,661.074 501.928,661.074 503.924,661.074 505.92,661.074 507.916,661.074 509.912,661.074 511.909,661.074 513.905,661.074 515.901,661.074 517.897,661.074 519.893,661.074 521.89,661.074 523.886,661.074 525.882,661.074 527.878,661.074 529.874,661.074 531.871,661.074 533.867,661.074 535.863,661.074 537.859,661.074 539.855,661.074 541.852,661.074 543.848,661.074 545.844,661.074 547.84,661.074 549.836,661.074 551.832,661.074 553.829,661.074 555.825,661.074 557.821,661.074 559.817,661.074 561.813,661.074 563.81,661.074 565.806,661.074 567.802,661.074 569.798,661.074 571.794,661.074 573.791,661.074 575.787,661.074 577.783,661.074 579.779,661.074 581.775,661.074 583.772,661.074 585.768,661.074 587.764,661.074 589.76,661.074 591.756,661.074 593.752,661.074 595.749,661.074 597.745,661.074 599.741,661.074 601.737,661.074 603.733,661.074 605.73,661.074 607.726,661.074 609.722,661.074 611.718,661.074 613.714,661.074 615.711,661.074 617.707,661.074 619.703,661.074 621.699,661.074 623.695,661.074 625.692,661.073 627.688,661.073 629.684,661.073 631.68,661.073 633.676,661.073 635.672,661.073 637.669,661.073 639.665,661.073 641.661,661.073 643.657,661.073 645.653,661.073 647.65,661.073 649.646,661.072 651.642,661.072 653.638,661.072 655.634,661.072 657.631,661.072 659.627,661.072 661.623,661.071 663.619,661.071 665.615,661.071 667.612,661.071 669.608,661.071 671.604,661.07 673.6,661.07 675.596,661.07 677.593,661.07 679.589,661.069 681.585,661.069 683.581,661.069 685.577,661.068 687.573,661.068 689.57,661.068 691.566,661.067 693.562,661.067 695.558,661.066 697.554,661.066 699.551,661.065 701.547,661.065 703.543,661.064 705.539,661.064 707.535,661.063 709.532,661.062 711.528,661.061 713.524,661.061 715.52,661.06 717.516,661.059 719.513,661.058 721.509,661.057 723.505,661.056 725.501,661.055 727.497,661.054 729.493,661.053 731.49,661.052 733.486,661.05 735.482,661.049 737.478,661.048 739.474,661.046 741.471,661.045 743.467,661.043 745.463,661.041 747.459,661.039 749.455,661.037 751.452,661.035 753.448,661.033 755.444,661.031 757.44,661.028 759.436,661.026 761.433,661.023 763.429,661.021 765.425,661.018 767.421,661.015 769.417,661.011 771.413,661.008 773.41,661.004 775.406,661.001 777.402,660.997 779.398,660.992 781.394,660.988 783.391,660.984 785.387,660.979 787.383,660.974 789.379,660.968 791.375,660.963 793.372,660.957 795.368,660.951 797.364,660.945 799.36,660.938 801.356,660.931 803.353,660.923 805.349,660.916 807.345,660.908 809.341,660.899 811.337,660.89 813.333,660.881 815.33,660.871 817.326,660.861 819.322,660.85 821.318,660.839 823.314,660.827 825.311,660.815 827.307,660.802 829.303,660.789 831.299,660.775 833.295,660.76 835.292,660.745 837.288,660.729 839.284,660.712 841.28,660.694 843.276,660.676 845.273,660.657 847.269,660.637 849.265,660.616 851.261,660.594 853.257,660.572 855.253,660.548 857.25,660.523 859.246,660.498 861.242,660.471 863.238,660.443 865.234,660.413 867.231,660.383 869.227,660.351 871.223,660.318 873.219,660.284 875.215,660.248 877.212,660.211 879.208,660.172 881.204,660.132 883.2,660.089 885.196,660.046 887.193,660 889.189,659.953 891.185,659.904 893.181,659.853 895.177,659.8 897.173,659.745 899.17,659.688 901.166,659.628 903.162,659.567 905.158,659.503 907.154,659.436 909.151,659.367 911.147,659.296 913.143,659.222 915.139,659.146 917.135,659.066 919.132,658.984 921.128,658.899 923.124,658.811 925.12,658.719 927.116,658.625 929.113,658.527 931.109,658.426 933.105,658.322 935.101,658.214 937.097,658.102 939.093,657.987 941.09,657.868 943.086,657.746 945.082,657.619 947.078,657.488 949.074,657.354 951.071,657.215 953.067,657.072 955.063,656.924 957.059,656.772 959.055,656.616 961.052,656.455 963.048,656.289 965.044,656.119 967.04,655.944 969.036,655.764 971.033,655.579 973.029,655.389 975.025,655.194 977.021,654.994 979.017,654.788 981.014,654.578 983.01,654.362 985.006,654.14 987.002,653.914 988.998,653.682 990.994,653.444 992.991,653.202 994.987,652.953 996.983,652.699 998.979,652.44 1000.98,652.175 1002.97,651.905 1004.97,651.629 1006.96,651.347 1008.96,651.061 1010.96,650.768 1012.95,650.471 1014.95,650.168 1016.94,649.86 1018.94,649.547 1020.94,649.228 1022.93,648.905 1024.93,648.577 1026.93,648.244 1028.92,647.906 1030.92,647.564 1032.91,647.217 1034.91,646.866 1036.91,646.511 1038.9,646.152 1040.9,645.79 1042.9,645.423 1044.89,645.054 1046.89,644.681 1048.88,644.306 1050.88,643.928 1052.88,643.548 1054.87,643.165 1056.87,642.781 1058.86,642.395 1060.86,642.008 1062.86,641.62 1064.85,641.231 1066.85,640.842 1068.85,640.454 1070.84,640.065 1072.84,639.677 1074.83,639.291 1076.83,638.906 1078.83,638.523 1080.82,638.142 1082.82,637.763 1084.82,637.388 1086.81,637.016 1088.81,636.647 1090.8,636.283 1092.8,635.924 1094.8,635.569 1096.79,635.22 1098.79,634.877 1100.78,634.539 1102.78,634.209 1104.78,633.885 1106.77,633.568 1108.77,633.259 1110.77,632.958 1112.76,632.665 1114.76,632.38 1116.75,632.104 1118.75,631.838 1120.75,631.581 1122.74,631.333 1124.74,631.096 1126.74,630.868 1128.73,630.651 1130.73,630.444 1132.72,630.247 1134.72,630.061 1136.72,629.886 1138.71,629.721 1140.71,629.567 1142.7,629.423 1144.7,629.29 1146.7,629.167 1148.69,629.055 1150.69,628.952 1152.69,628.86 1154.68,628.777 1156.68,628.703 1158.67,628.638 1160.67,628.581 1162.67,628.532 1164.66,628.491 1166.66,628.457 1168.66,628.43 1170.65,628.408 1172.65,628.392 1174.64,628.38 1176.64,628.373 1178.64,628.368 1180.63,628.366 1182.63,628.365 1184.62,628.365 1186.62,628.364 1188.62,628.363 1190.61,628.36 1192.61,628.354 1194.61,628.343 1196.6,628.328 1198.6,628.308 1200.59,628.28 1202.59,628.244 1204.59,628.2 1206.58,628.145 1208.58,628.08 1210.58,628.002 1212.57,627.912 1214.57,627.808 1216.56,627.689 1218.56,627.554 1220.56,627.402 1222.55,627.233 1224.55,627.046 1226.54,626.839 1228.54,626.612 1230.54,626.365 1232.53,626.096 1234.53,625.805 1236.53,625.492 1238.52,625.156 1240.52,624.796 1242.51,624.413 1244.51,624.006 1246.51,623.574 1248.5,623.118 1250.5,622.637 1252.5,622.132 1254.49,621.602 1256.49,621.049 1258.48,620.471 1260.48,619.869 1262.48,619.244 1264.47,618.596 1266.47,617.926 1268.46,617.235 1270.46,616.522 1272.46,615.789 1274.45,615.037 1276.45,614.266 1278.45,613.478 1280.44,612.673 1282.44,611.853 1284.43,611.019 1286.43,610.172 1288.43,609.313 1290.42,608.443 1292.42,607.564 1294.42,606.678 1296.41,605.784 1298.41,604.886 1300.4,603.984 1302.4,603.079 1304.4,602.174 1306.39,601.269 1308.39,600.365 1310.38,599.465 1312.38,598.57 1314.38,597.68 1316.37,596.797 1318.37,595.923 1320.37,595.058 1322.36,594.205 1324.36,593.363 1326.35,592.534 1328.35,591.72 1330.35,590.92 1332.34,590.136 1334.34,589.369 1336.34,588.62 1338.33,587.889 1340.33,587.177 1342.32,586.484 1344.32,585.811 1346.32,585.159 1348.31,584.527 1350.31,583.916 1352.3,583.327 1354.3,582.759 1356.3,582.212 1358.29,581.687 1360.29,581.183 1362.29,580.701 1364.28,580.24 1366.28,579.799 1368.27,579.38 1370.27,578.981 1372.27,578.601 1374.26,578.242 1376.26,577.901 1378.26,577.579 1380.25,577.275 1382.25,576.989 1384.24,576.72 1386.24,576.467 1388.24,576.231 1390.23,576.009 1392.23,575.802 1394.23,575.609 1396.22,575.43 1398.22,575.263 1400.21,575.109 1402.21,574.966 1404.21,574.833 1406.2,574.712 1408.2,574.599 1410.19,574.496 1412.19,574.402 1414.19,574.316 1416.18,574.237 1418.18,574.165 1420.18,574.099 1422.17,574.04 1424.17,573.986 1426.16,573.937 1428.16,573.893 1430.16,573.854 1432.15,573.818 1434.15,573.786 1436.15,573.758 1438.14,573.732 1440.14,573.71 1442.13,573.69 1444.13,573.672 1446.13,573.656 1448.12,573.642 1450.12,573.63 1452.11,573.619 1454.11,573.609 1456.11,573.601 1458.1,573.594 1460.1,573.588 1462.1,573.582 1464.09,573.577 1466.09,573.573 1468.08,573.57 1470.08,573.567 1472.08,573.564 1474.07,573.562 1476.07,573.56 1478.07,573.559 1480.06,573.557 1482.06,573.556 1484.05,573.555 1486.05,573.554 1488.05,573.554 1490.04,573.553 1492.04,573.553 1494.03,573.552 1496.03,573.552 1498.03,573.552 1500.02,573.551 1502.02,573.551 1504.02,573.551 1506.01,573.551 1508.01,573.551 1510,573.551 1512,573.551 1514,573.551 1515.99,573.55 1517.99,573.55 1519.99,573.55 1521.98,573.55 1523.98,573.55 1525.97,573.55 1527.97,573.55 1529.97,573.55 1531.96,573.55 1533.96,573.55 1535.95,573.55 1537.95,573.55 1539.95,573.55 1541.94,573.55 1543.94,573.55 1545.94,573.55 1547.93,573.55 1549.93,573.55 1551.92,573.55 1553.92,573.55 1555.92,573.55 1557.91,573.55 1559.91,573.55 1561.91,573.55 1563.9,573.55 1565.9,573.55 1567.89,573.55 1569.89,573.55 1571.89,573.55 1573.88,573.55 1575.88,573.55 1577.87,573.55 1579.87,573.55 1581.87,573.55 1583.86,573.55 1585.86,573.55 1587.86,573.55 1589.85,573.55 1591.85,573.55 1593.84,573.55 1595.84,573.55 1597.84,573.55 1599.83,573.55 1601.83,573.55 1603.83,573.55 1605.82,573.55 1607.82,573.55 1609.81,573.55 1611.81,573.55 1613.81,573.55 1615.8,573.55 1617.8,573.55 1619.79,573.55 1621.79,573.55 1623.79,573.55 1625.78,573.55 1627.78,573.55 1629.78,573.55 1631.77,573.55 1633.77,573.55 1635.76,573.55 1637.76,573.55 1639.76,573.55 1641.75,573.55 1643.75,573.55 1645.75,573.55 1647.74,573.55 1649.74,573.55 1651.73,573.55 1653.73,573.55 1655.73,573.55 1657.72,573.55 1659.72,573.55 1661.71,573.55 1663.71,573.55 1665.71,573.55 1667.7,573.55 1669.7,573.55 1671.7,573.55 1673.69,573.55 1675.69,573.55 1677.68,573.55 1679.68,573.55 1681.68,573.55 1683.67,573.55 1685.67,573.55 1687.67,573.55 1689.66,573.55 1691.66,573.55 1693.65,573.55 1695.65,573.55 1697.65,573.55 1699.64,573.55 1701.64,573.55 1703.63,573.55 1705.63,573.55 1707.63,573.55 1709.62,573.55 1711.62,573.55 1713.62,573.55 1715.61,573.55 1717.61,573.55 1719.6,573.55 1721.6,573.55 1723.6,573.55 1725.59,573.55 1727.59,573.55 1729.59,573.55 1731.58,573.55 1733.58,573.55 1735.57,573.55 1737.57,573.55 1739.57,573.55 1741.56,573.55 1743.56,573.55 1745.55,573.55 1747.55,573.55 1749.55,573.55 1751.54,573.55 1753.54,573.55 1755.54,573.55 1757.53,573.55 1759.53,573.55 1761.52,573.55 1763.52,573.55 1765.52,573.55 1767.51,573.55 1769.51,573.55 1771.51,573.55 1773.5,573.55 1775.5,573.55 1777.49,573.55 1779.49,573.55 1781.49,573.55 1783.48,573.55 1785.48,573.55 1787.47,573.55 1789.47,573.55 1791.47,573.55 1793.46,573.55 1795.46,573.55 1797.46,573.55 1799.45,573.55 1801.45,573.55 1803.44,573.55 1805.44,573.55 1807.44,573.55 1809.43,573.55 1811.43,573.55 1813.43,573.55 1815.42,573.55 1817.42,573.55 1819.41,573.55 1821.41,573.55 1823.41,573.55 1825.4,573.55 1827.4,573.55 1829.39,573.55 1831.39,573.55 1833.39,573.55 1835.38,573.55 1837.38,573.55 1839.38,573.55 1841.37,573.55 1843.37,573.55 1845.36,573.55 1847.36,573.55 1849.36,573.55 1851.35,573.55 1853.35,573.55 1855.35,573.55 1857.34,573.55 1859.34,573.55 1861.33,573.55 1863.33,573.55 1865.33,573.55 1867.32,573.55 1869.32,573.55 1871.31,573.55 1873.31,573.55 1875.31,573.55 1877.3,573.55 1879.3,573.55 1881.3,573.55 1883.29,573.55 1885.29,573.55 1887.28,573.55 1889.28,573.55 1891.28,573.55 1893.27,573.55 1895.27,573.55 1897.27,573.55 1899.26,573.55 1901.26,573.55 1903.25,573.55 1905.25,573.55 1907.25,573.55 1909.24,573.55 1911.24,573.55 1913.23,573.55 1915.23,573.55 1917.23,573.55 1919.22,573.55 1921.22,573.55 1923.22,573.55 1925.21,573.55 1927.21,573.55 1929.2,573.55 1931.2,573.55 1933.2,573.55 1935.19,573.55 1937.19,573.55 1939.19,573.55 1941.18,573.55 1943.18,573.55 1945.17,573.55 1947.17,573.55 1949.17,573.55 1951.16,573.55 1953.16,573.55 1955.15,573.55 1957.15,573.55 1959.15,573.55 1961.14,573.55 1963.14,573.55 1965.14,573.55 1967.13,573.55 1969.13,573.55 1971.12,573.55 1973.12,573.55 1975.12,573.55 1977.11,573.55 1979.11,573.55 1981.11,573.55 1983.1,573.55 1985.1,573.55 1987.09,573.55 1989.09,573.55 1991.09,573.55 1993.08,573.55 1995.08,573.55 1997.07,573.55 1999.07,573.55 2001.07,573.55 2003.06,573.55 2005.06,573.55 2007.06,573.55 2009.05,573.55 2011.05,573.55 2013.04,573.55 2015.04,573.55 2017.04,573.55 2019.03,573.55 2021.03,573.55 2023.03,573.55 2025.02,573.55 2027.02,573.55 2029.01,573.55 2031.01,573.55 2033.01,573.55 2035,573.55 2037,573.55 2038.99,573.55 2040.99,573.55 2042.99,573.55 2044.98,573.55 2046.98,573.55 2048.98,573.55 2050.97,573.55 2052.97,573.55 2054.96,573.55 2056.96,573.55 2058.96,573.55 2060.95,573.55 2062.95,573.55 2064.95,573.55 2066.94,573.55 2068.94,573.55 2070.93,573.55 2072.93,573.55 2074.93,573.55 2076.92,573.55 2078.92,573.55 2080.91,573.55 2082.91,573.55 2084.91,573.55 2086.9,573.55 2088.9,573.55 2090.9,573.55 2092.89,573.55 2094.89,573.55 2096.88,573.55 2098.88,573.55 2100.88,573.55 2102.87,573.55 2104.87,573.55 2106.87,573.55 2108.86,573.55 2110.86,573.55 2112.85,573.55 2114.85,573.55 2116.85,573.55 2118.84,573.55 2120.84,573.55 2122.83,573.55 2124.83,573.55 2126.83,573.55 2128.82,573.55 2130.82,573.55 2132.82,573.55 2134.81,573.55 2136.81,573.55 2138.8,573.55 2140.8,573.55 2142.8,573.55 2144.79,573.55 2146.79,573.55 2148.79,573.55 2150.78,573.55 2152.78,573.55 2154.77,573.55 2156.77,573.55 2158.77,573.55 2160.76,573.55 2162.76,573.55 2164.75,573.55 2166.75,573.55 2168.75,573.55 2170.74,573.55 2172.74,573.55 2174.74,573.55 2176.73,573.55 2178.73,573.55 2180.72,573.55 2182.72,573.55 2184.72,573.55 2186.71,573.55 2188.71,573.55 2190.71,573.55 2192.7,573.55 2194.7,573.55 2196.69,573.55 2198.69,573.55 2200.69,573.55 2202.68,573.55 2204.68,573.55 2206.67,573.55 2208.67,573.55 2210.67,573.55 2212.66,573.55 2214.66,573.55 2216.66,573.55 2218.65,573.55 2220.65,573.55 2222.64,573.55 2224.64,573.55 2226.64,573.55 2228.63,573.55 2230.63,573.55 2232.63,573.55 2234.62,573.55 2236.62,573.55 2238.61,573.55 2240.61,573.55 2242.61,573.55 2244.6,573.55 2246.6,573.55 2248.59,573.55 2250.59,573.55 2252.59,573.55 2254.58,573.55 2256.58,573.55 2258.58,573.55 2260.57,573.55 2262.57,573.55 2264.56,573.55 2266.56,573.55 2268.56,573.55 2270.55,573.55 2272.55,573.55 2274.55,573.55 2276.54,573.55 2278.54,573.55 2280.53,573.55 2282.53,573.55 2284.53,573.55 2286.52,573.55 2288.52,573.55 2290.51,573.55 2292.51,573.55 \"/>\n",
       "<polyline clip-path=\"url(#clip772)\" style=\"stroke:#3da44d; stroke-linecap:round; stroke-linejoin:round; stroke-width:4; stroke-opacity:1; fill:none\" points=\"284.343,661.075 286.339,661.075 288.335,661.075 290.331,661.075 292.328,661.075 294.324,661.075 296.32,661.075 298.316,661.075 300.312,661.075 302.309,661.075 304.305,661.075 306.301,661.075 308.297,661.075 310.293,661.075 312.29,661.074 314.286,661.074 316.282,661.074 318.278,661.074 320.274,661.074 322.271,661.074 324.267,661.074 326.263,661.074 328.259,661.074 330.255,661.074 332.251,661.074 334.248,661.074 336.244,661.074 338.24,661.074 340.236,661.074 342.232,661.074 344.229,661.074 346.225,661.074 348.221,661.074 350.217,661.074 352.213,661.074 354.21,661.074 356.206,661.074 358.202,661.074 360.198,661.074 362.194,661.074 364.191,661.074 366.187,661.074 368.183,661.074 370.179,661.074 372.175,661.074 374.171,661.074 376.168,661.074 378.164,661.074 380.16,661.074 382.156,661.074 384.152,661.074 386.149,661.074 388.145,661.074 390.141,661.074 392.137,661.074 394.133,661.074 396.13,661.074 398.126,661.074 400.122,661.074 402.118,661.074 404.114,661.074 406.111,661.074 408.107,661.074 410.103,661.074 412.099,661.074 414.095,661.074 416.092,661.074 418.088,661.074 420.084,661.074 422.08,661.074 424.076,661.074 426.072,661.074 428.069,661.074 430.065,661.074 432.061,661.074 434.057,661.074 436.053,661.074 438.05,661.074 440.046,661.074 442.042,661.074 444.038,661.074 446.034,661.073 448.031,661.073 450.027,661.073 452.023,661.073 454.019,661.073 456.015,661.073 458.012,661.073 460.008,661.073 462.004,661.073 464,661.073 465.996,661.073 467.992,661.073 469.989,661.072 471.985,661.072 473.981,661.072 475.977,661.072 477.973,661.072 479.97,661.072 481.966,661.072 483.962,661.072 485.958,661.071 487.954,661.071 489.951,661.071 491.947,661.071 493.943,661.071 495.939,661.071 497.935,661.07 499.932,661.07 501.928,661.07 503.924,661.07 505.92,661.07 507.916,661.069 509.912,661.069 511.909,661.069 513.905,661.068 515.901,661.068 517.897,661.068 519.893,661.068 521.89,661.067 523.886,661.067 525.882,661.067 527.878,661.066 529.874,661.066 531.871,661.065 533.867,661.065 535.863,661.065 537.859,661.064 539.855,661.064 541.852,661.063 543.848,661.063 545.844,661.062 547.84,661.062 549.836,661.061 551.832,661.061 553.829,661.06 555.825,661.059 557.821,661.059 559.817,661.058 561.813,661.057 563.81,661.056 565.806,661.056 567.802,661.055 569.798,661.054 571.794,661.053 573.791,661.052 575.787,661.051 577.783,661.051 579.779,661.05 581.775,661.048 583.772,661.047 585.768,661.046 587.764,661.045 589.76,661.044 591.756,661.043 593.752,661.041 595.749,661.04 597.745,661.039 599.741,661.037 601.737,661.036 603.733,661.034 605.73,661.033 607.726,661.031 609.722,661.029 611.718,661.028 613.714,661.026 615.711,661.024 617.707,661.022 619.703,661.02 621.699,661.018 623.695,661.016 625.692,661.013 627.688,661.011 629.684,661.009 631.68,661.006 633.676,661.004 635.672,661.001 637.669,660.998 639.665,660.995 641.661,660.992 643.657,660.989 645.653,660.986 647.65,660.983 649.646,660.98 651.642,660.976 653.638,660.972 655.634,660.969 657.631,660.965 659.627,660.961 661.623,660.957 663.619,660.952 665.615,660.948 667.612,660.944 669.608,660.939 671.604,660.934 673.6,660.929 675.596,660.924 677.593,660.918 679.589,660.913 681.585,660.907 683.581,660.901 685.577,660.895 687.573,660.889 689.57,660.882 691.566,660.876 693.562,660.869 695.558,660.861 697.554,660.854 699.551,660.846 701.547,660.839 703.543,660.831 705.539,660.822 707.535,660.813 709.532,660.805 711.528,660.795 713.524,660.786 715.52,660.776 717.516,660.766 719.513,660.756 721.509,660.745 723.505,660.734 725.501,660.722 727.497,660.711 729.493,660.699 731.49,660.686 733.486,660.673 735.482,660.66 737.478,660.646 739.474,660.632 741.471,660.618 743.467,660.603 745.463,660.587 747.459,660.571 749.455,660.555 751.452,660.538 753.448,660.521 755.444,660.503 757.44,660.484 759.436,660.465 761.433,660.446 763.429,660.426 765.425,660.405 767.421,660.384 769.417,660.362 771.413,660.339 773.41,660.316 775.406,660.292 777.402,660.267 779.398,660.242 781.394,660.216 783.391,660.189 785.387,660.162 787.383,660.133 789.379,660.104 791.375,660.074 793.372,660.043 795.368,660.011 797.364,659.979 799.36,659.945 801.356,659.911 803.353,659.875 805.349,659.839 807.345,659.801 809.341,659.763 811.337,659.723 813.333,659.683 815.33,659.641 817.326,659.598 819.322,659.554 821.318,659.509 823.314,659.462 825.311,659.415 827.307,659.366 829.303,659.315 831.299,659.264 833.295,659.211 835.292,659.156 837.288,659.1 839.284,659.043 841.28,658.984 843.276,658.924 845.273,658.862 847.269,658.798 849.265,658.733 851.261,658.666 853.257,658.597 855.253,658.527 857.25,658.455 859.246,658.381 861.242,658.305 863.238,658.227 865.234,658.147 867.231,658.065 869.227,657.982 871.223,657.896 873.219,657.808 875.215,657.718 877.212,657.625 879.208,657.531 881.204,657.434 883.2,657.335 885.196,657.233 887.193,657.129 889.189,657.022 891.185,656.913 893.181,656.802 895.177,656.687 897.173,656.571 899.17,656.451 901.166,656.329 903.162,656.203 905.158,656.075 907.154,655.944 909.151,655.81 911.147,655.674 913.143,655.534 915.139,655.39 917.135,655.244 919.132,655.095 921.128,654.942 923.124,654.786 925.12,654.626 927.116,654.463 929.113,654.297 931.109,654.127 933.105,653.953 935.101,653.776 937.097,653.595 939.093,653.411 941.09,653.222 943.086,653.03 945.082,652.834 947.078,652.634 949.074,652.43 951.071,652.222 953.067,652.01 955.063,651.793 957.059,651.573 959.055,651.348 961.052,651.119 963.048,650.885 965.044,650.648 967.04,650.406 969.036,650.159 971.033,649.908 973.029,649.652 975.025,649.392 977.021,649.127 979.017,648.858 981.014,648.583 983.01,648.304 985.006,648.021 987.002,647.732 988.998,647.439 990.994,647.141 992.991,646.838 994.987,646.53 996.983,646.218 998.979,645.9 1000.98,645.577 1002.97,645.25 1004.97,644.917 1006.96,644.58 1008.96,644.238 1010.96,643.89 1012.95,643.538 1014.95,643.181 1016.94,642.819 1018.94,642.452 1020.94,642.08 1022.93,641.703 1024.93,641.321 1026.93,640.934 1028.92,640.543 1030.92,640.147 1032.91,639.746 1034.91,639.34 1036.91,638.93 1038.9,638.515 1040.9,638.096 1042.9,637.672 1044.89,637.244 1046.89,636.811 1048.88,636.375 1050.88,635.934 1052.88,635.489 1054.87,635.04 1056.87,634.587 1058.86,634.13 1060.86,633.67 1062.86,633.206 1064.85,632.739 1066.85,632.268 1068.85,631.794 1070.84,631.317 1072.84,630.838 1074.83,630.355 1076.83,629.87 1078.83,629.383 1080.82,628.894 1082.82,628.402 1084.82,627.908 1086.81,627.413 1088.81,626.917 1090.8,626.419 1092.8,625.92 1094.8,625.42 1096.79,624.92 1098.79,624.419 1100.78,623.918 1102.78,623.418 1104.78,622.917 1106.77,622.418 1108.77,621.919 1110.77,621.421 1112.76,620.925 1114.76,620.43 1116.75,619.938 1118.75,619.448 1120.75,618.96 1122.74,618.475 1124.74,617.994 1126.74,617.516 1128.73,617.042 1130.73,616.572 1132.72,616.106 1134.72,615.646 1136.72,615.19 1138.71,614.741 1140.71,614.297 1142.7,613.859 1144.7,613.428 1146.7,613.004 1148.69,612.587 1150.69,612.177 1152.69,611.776 1154.68,611.383 1156.68,610.999 1158.67,610.624 1160.67,610.259 1162.67,609.903 1164.66,609.558 1166.66,609.223 1168.66,608.899 1170.65,608.586 1172.65,608.285 1174.64,607.996 1176.64,607.72 1178.64,607.456 1180.63,607.205 1182.63,606.967 1184.62,606.743 1186.62,606.534 1188.62,606.338 1190.61,606.157 1192.61,605.991 1194.61,605.84 1196.6,605.705 1198.6,605.586 1200.59,605.482 1202.59,605.395 1204.59,605.325 1206.58,605.271 1208.58,605.234 1210.58,605.215 1212.57,605.213 1214.57,605.228 1216.56,605.261 1218.56,605.312 1220.56,605.381 1222.55,605.468 1224.55,605.573 1226.54,605.697 1228.54,605.838 1230.54,605.999 1232.53,606.177 1234.53,606.374 1236.53,606.59 1238.52,606.824 1240.52,607.076 1242.51,607.346 1244.51,607.635 1246.51,607.941 1248.5,608.266 1250.5,608.608 1252.5,608.968 1254.49,609.345 1256.49,609.74 1258.48,610.151 1260.48,610.579 1262.48,611.024 1264.47,611.485 1266.47,611.961 1268.46,612.453 1270.46,612.96 1272.46,613.482 1274.45,614.018 1276.45,614.569 1278.45,615.132 1280.44,615.709 1282.44,616.298 1284.43,616.9 1286.43,617.513 1288.43,618.138 1290.42,618.773 1292.42,619.418 1294.42,620.072 1296.41,620.736 1298.41,621.408 1300.4,622.087 1302.4,622.774 1304.4,623.468 1306.39,624.167 1308.39,624.872 1310.38,625.582 1312.38,626.295 1314.38,627.013 1316.37,627.733 1318.37,628.455 1320.37,629.179 1322.36,629.904 1324.36,630.63 1326.35,631.355 1328.35,632.079 1330.35,632.802 1332.34,633.522 1334.34,634.24 1336.34,634.955 1338.33,635.665 1340.33,636.371 1342.32,637.073 1344.32,637.768 1346.32,638.458 1348.31,639.141 1350.31,639.817 1352.3,640.485 1354.3,641.145 1356.3,641.797 1358.29,642.44 1360.29,643.073 1362.29,643.697 1364.28,644.31 1366.28,644.913 1368.27,645.506 1370.27,646.087 1372.27,646.657 1374.26,647.215 1376.26,647.761 1378.26,648.296 1380.25,648.818 1382.25,649.327 1384.24,649.825 1386.24,650.309 1388.24,650.78 1390.23,651.239 1392.23,651.685 1394.23,652.118 1396.22,652.538 1398.22,652.945 1400.21,653.339 1402.21,653.72 1404.21,654.088 1406.2,654.444 1408.2,654.787 1410.19,655.117 1412.19,655.436 1414.19,655.742 1416.18,656.036 1418.18,656.318 1420.18,656.589 1422.17,656.848 1424.17,657.096 1426.16,657.333 1428.16,657.56 1430.16,657.776 1432.15,657.982 1434.15,658.178 1436.15,658.364 1438.14,658.541 1440.14,658.709 1442.13,658.868 1444.13,659.019 1446.13,659.161 1448.12,659.296 1450.12,659.423 1452.11,659.542 1454.11,659.655 1456.11,659.761 1458.1,659.86 1460.1,659.953 1462.1,660.04 1464.09,660.122 1466.09,660.198 1468.08,660.269 1470.08,660.336 1472.08,660.397 1474.07,660.455 1476.07,660.508 1478.07,660.557 1480.06,660.603 1482.06,660.645 1484.05,660.684 1486.05,660.72 1488.05,660.753 1490.04,660.783 1492.04,660.811 1494.03,660.837 1496.03,660.86 1498.03,660.882 1500.02,660.901 1502.02,660.919 1504.02,660.935 1506.01,660.95 1508.01,660.963 1510,660.975 1512,660.986 1514,660.996 1515.99,661.005 1517.99,661.013 1519.99,661.02 1521.98,661.026 1523.98,661.032 1525.97,661.037 1527.97,661.042 1529.97,661.046 1531.96,661.049 1533.96,661.052 1535.95,661.055 1537.95,661.058 1539.95,661.06 1541.94,661.062 1543.94,661.064 1545.94,661.065 1547.93,661.066 1549.93,661.068 1551.92,661.069 1553.92,661.069 1555.92,661.07 1557.91,661.071 1559.91,661.071 1561.91,661.072 1563.9,661.072 1565.9,661.073 1567.89,661.073 1569.89,661.073 1571.89,661.073 1573.88,661.074 1575.88,661.074 1577.87,661.074 1579.87,661.074 1581.87,661.074 1583.86,661.074 1585.86,661.074 1587.86,661.074 1589.85,661.074 1591.85,661.074 1593.84,661.074 1595.84,661.074 1597.84,661.074 1599.83,661.074 1601.83,661.074 1603.83,661.074 1605.82,661.074 1607.82,661.074 1609.81,661.074 1611.81,661.074 1613.81,661.074 1615.8,661.074 1617.8,661.074 1619.79,661.074 1621.79,661.074 1623.79,661.074 1625.78,661.074 1627.78,661.074 1629.78,661.074 1631.77,661.074 1633.77,661.074 1635.76,661.074 1637.76,661.075 1639.76,661.075 1641.75,661.075 1643.75,661.075 1645.75,661.075 1647.74,661.075 1649.74,661.075 1651.73,661.075 1653.73,661.075 1655.73,661.075 1657.72,661.075 1659.72,661.075 1661.71,661.075 1663.71,661.075 1665.71,661.075 1667.7,661.075 1669.7,661.075 1671.7,661.075 1673.69,661.075 1675.69,661.075 1677.68,661.075 1679.68,661.075 1681.68,661.075 1683.67,661.075 1685.67,661.075 1687.67,661.075 1689.66,661.075 1691.66,661.075 1693.65,661.075 1695.65,661.075 1697.65,661.075 1699.64,661.075 1701.64,661.075 1703.63,661.075 1705.63,661.075 1707.63,661.075 1709.62,661.075 1711.62,661.075 1713.62,661.075 1715.61,661.075 1717.61,661.075 1719.6,661.075 1721.6,661.075 1723.6,661.075 1725.59,661.075 1727.59,661.075 1729.59,661.075 1731.58,661.075 1733.58,661.075 1735.57,661.075 1737.57,661.075 1739.57,661.075 1741.56,661.075 1743.56,661.075 1745.55,661.075 1747.55,661.075 1749.55,661.075 1751.54,661.075 1753.54,661.075 1755.54,661.075 1757.53,661.075 1759.53,661.075 1761.52,661.075 1763.52,661.075 1765.52,661.075 1767.51,661.075 1769.51,661.075 1771.51,661.075 1773.5,661.075 1775.5,661.075 1777.49,661.075 1779.49,661.075 1781.49,661.075 1783.48,661.075 1785.48,661.075 1787.47,661.075 1789.47,661.075 1791.47,661.075 1793.46,661.075 1795.46,661.075 1797.46,661.075 1799.45,661.075 1801.45,661.075 1803.44,661.075 1805.44,661.075 1807.44,661.075 1809.43,661.075 1811.43,661.075 1813.43,661.075 1815.42,661.075 1817.42,661.075 1819.41,661.075 1821.41,661.075 1823.41,661.075 1825.4,661.075 1827.4,661.075 1829.39,661.075 1831.39,661.075 1833.39,661.075 1835.38,661.075 1837.38,661.075 1839.38,661.075 1841.37,661.075 1843.37,661.075 1845.36,661.075 1847.36,661.075 1849.36,661.075 1851.35,661.075 1853.35,661.075 1855.35,661.075 1857.34,661.075 1859.34,661.075 1861.33,661.075 1863.33,661.075 1865.33,661.075 1867.32,661.075 1869.32,661.075 1871.31,661.075 1873.31,661.075 1875.31,661.075 1877.3,661.075 1879.3,661.075 1881.3,661.075 1883.29,661.075 1885.29,661.075 1887.28,661.075 1889.28,661.075 1891.28,661.075 1893.27,661.075 1895.27,661.075 1897.27,661.075 1899.26,661.075 1901.26,661.075 1903.25,661.075 1905.25,661.075 1907.25,661.075 1909.24,661.075 1911.24,661.075 1913.23,661.075 1915.23,661.075 1917.23,661.075 1919.22,661.075 1921.22,661.075 1923.22,661.075 1925.21,661.075 1927.21,661.075 1929.2,661.075 1931.2,661.075 1933.2,661.075 1935.19,661.075 1937.19,661.075 1939.19,661.075 1941.18,661.075 1943.18,661.075 1945.17,661.075 1947.17,661.075 1949.17,661.075 1951.16,661.075 1953.16,661.075 1955.15,661.075 1957.15,661.075 1959.15,661.075 1961.14,661.075 1963.14,661.075 1965.14,661.075 1967.13,661.075 1969.13,661.075 1971.12,661.075 1973.12,661.075 1975.12,661.075 1977.11,661.075 1979.11,661.075 1981.11,661.075 1983.1,661.075 1985.1,661.075 1987.09,661.075 1989.09,661.075 1991.09,661.075 1993.08,661.075 1995.08,661.075 1997.07,661.075 1999.07,661.075 2001.07,661.075 2003.06,661.075 2005.06,661.075 2007.06,661.075 2009.05,661.075 2011.05,661.075 2013.04,661.075 2015.04,661.075 2017.04,661.075 2019.03,661.075 2021.03,661.075 2023.03,661.075 2025.02,661.075 2027.02,661.075 2029.01,661.075 2031.01,661.075 2033.01,661.075 2035,661.075 2037,661.075 2038.99,661.075 2040.99,661.075 2042.99,661.075 2044.98,661.075 2046.98,661.075 2048.98,661.075 2050.97,661.075 2052.97,661.075 2054.96,661.075 2056.96,661.075 2058.96,661.075 2060.95,661.075 2062.95,661.075 2064.95,661.075 2066.94,661.075 2068.94,661.075 2070.93,661.075 2072.93,661.075 2074.93,661.075 2076.92,661.075 2078.92,661.075 2080.91,661.075 2082.91,661.075 2084.91,661.075 2086.9,661.075 2088.9,661.075 2090.9,661.075 2092.89,661.075 2094.89,661.075 2096.88,661.075 2098.88,661.075 2100.88,661.075 2102.87,661.075 2104.87,661.075 2106.87,661.075 2108.86,661.075 2110.86,661.075 2112.85,661.075 2114.85,661.075 2116.85,661.075 2118.84,661.075 2120.84,661.075 2122.83,661.075 2124.83,661.075 2126.83,661.075 2128.82,661.075 2130.82,661.075 2132.82,661.075 2134.81,661.075 2136.81,661.075 2138.8,661.075 2140.8,661.075 2142.8,661.075 2144.79,661.075 2146.79,661.075 2148.79,661.075 2150.78,661.075 2152.78,661.075 2154.77,661.075 2156.77,661.075 2158.77,661.075 2160.76,661.075 2162.76,661.075 2164.75,661.075 2166.75,661.075 2168.75,661.075 2170.74,661.075 2172.74,661.075 2174.74,661.075 2176.73,661.075 2178.73,661.075 2180.72,661.075 2182.72,661.075 2184.72,661.075 2186.71,661.075 2188.71,661.075 2190.71,661.075 2192.7,661.075 2194.7,661.075 2196.69,661.075 2198.69,661.075 2200.69,661.075 2202.68,661.075 2204.68,661.075 2206.67,661.075 2208.67,661.075 2210.67,661.075 2212.66,661.075 2214.66,661.075 2216.66,661.075 2218.65,661.075 2220.65,661.075 2222.64,661.075 2224.64,661.075 2226.64,661.075 2228.63,661.075 2230.63,661.075 2232.63,661.075 2234.62,661.075 2236.62,661.075 2238.61,661.075 2240.61,661.075 2242.61,661.075 2244.6,661.075 2246.6,661.075 2248.59,661.075 2250.59,661.075 2252.59,661.075 2254.58,661.075 2256.58,661.075 2258.58,661.075 2260.57,661.075 2262.57,661.075 2264.56,661.075 2266.56,661.075 2268.56,661.075 2270.55,661.075 2272.55,661.075 2274.55,661.075 2276.54,661.075 2278.54,661.075 2280.53,661.075 2282.53,661.075 2284.53,661.075 2286.52,661.075 2288.52,661.075 2290.51,661.075 2292.51,661.075 \"/>\n",
       "<polyline clip-path=\"url(#clip772)\" style=\"stroke:#c271d2; stroke-linecap:round; stroke-linejoin:round; stroke-width:4; stroke-opacity:1; fill:none\" points=\"284.343,661.074 286.339,661.074 288.335,661.074 290.331,661.075 292.328,661.074 294.324,661.074 296.32,661.074 298.316,661.074 300.312,661.074 302.309,661.074 304.305,661.074 306.301,661.074 308.297,661.074 310.293,661.074 312.29,661.074 314.286,661.074 316.282,661.074 318.278,661.074 320.274,661.074 322.271,661.074 324.267,661.074 326.263,661.074 328.259,661.074 330.255,661.074 332.251,661.073 334.248,661.073 336.244,661.073 338.24,661.073 340.236,661.073 342.232,661.073 344.229,661.072 346.225,661.072 348.221,661.072 350.217,661.072 352.213,661.071 354.21,661.071 356.206,661.071 358.202,661.07 360.198,661.07 362.194,661.07 364.191,661.069 366.187,661.069 368.183,661.069 370.179,661.068 372.175,661.068 374.171,661.067 376.168,661.067 378.164,661.066 380.16,661.065 382.156,661.065 384.152,661.064 386.149,661.063 388.145,661.063 390.141,661.062 392.137,661.061 394.133,661.06 396.13,661.059 398.126,661.058 400.122,661.057 402.118,661.056 404.114,661.055 406.111,661.054 408.107,661.052 410.103,661.051 412.099,661.05 414.095,661.048 416.092,661.047 418.088,661.045 420.084,661.044 422.08,661.042 424.076,661.04 426.072,661.038 428.069,661.036 430.065,661.034 432.061,661.032 434.057,661.03 436.053,661.027 438.05,661.025 440.046,661.022 442.042,661.019 444.038,661.017 446.034,661.014 448.031,661.011 450.027,661.007 452.023,661.004 454.019,661.001 456.015,660.997 458.012,660.993 460.008,660.989 462.004,660.985 464,660.981 465.996,660.976 467.992,660.972 469.989,660.967 471.985,660.962 473.981,660.957 475.977,660.951 477.973,660.946 479.97,660.94 481.966,660.934 483.962,660.927 485.958,660.921 487.954,660.914 489.951,660.906 491.947,660.899 493.943,660.891 495.939,660.883 497.935,660.875 499.932,660.866 501.928,660.857 503.924,660.848 505.92,660.838 507.916,660.828 509.912,660.817 511.909,660.806 513.905,660.795 515.901,660.783 517.897,660.771 519.893,660.758 521.89,660.745 523.886,660.732 525.882,660.718 527.878,660.703 529.874,660.688 531.871,660.672 533.867,660.656 535.863,660.639 537.859,660.621 539.855,660.603 541.852,660.584 543.848,660.565 545.844,660.544 547.84,660.523 549.836,660.502 551.832,660.479 553.829,660.456 555.825,660.432 557.821,660.407 559.817,660.381 561.813,660.354 563.81,660.326 565.806,660.298 567.802,660.268 569.798,660.237 571.794,660.206 573.791,660.173 575.787,660.139 577.783,660.103 579.779,660.067 581.775,660.029 583.772,659.99 585.768,659.95 587.764,659.908 589.76,659.865 591.756,659.82 593.752,659.774 595.749,659.727 597.745,659.677 599.741,659.627 601.737,659.574 603.733,659.52 605.73,659.463 607.726,659.405 609.722,659.345 611.718,659.283 613.714,659.219 615.711,659.153 617.707,659.085 619.703,659.014 621.699,658.941 623.695,658.866 625.692,658.789 627.688,658.708 629.684,658.626 631.68,658.54 633.676,658.452 635.672,658.361 637.669,658.267 639.665,658.17 641.661,658.07 643.657,657.967 645.653,657.86 647.65,657.751 649.646,657.637 651.642,657.52 653.638,657.4 655.634,657.275 657.631,657.147 659.627,657.015 661.623,656.879 663.619,656.738 665.615,656.593 667.612,656.444 669.608,656.29 671.604,656.131 673.6,655.968 675.596,655.799 677.593,655.625 679.589,655.446 681.585,655.262 683.581,655.072 685.577,654.876 687.573,654.675 689.57,654.467 691.566,654.253 693.562,654.033 695.558,653.806 697.554,653.573 699.551,653.333 701.547,653.085 703.543,652.83 705.539,652.568 707.535,652.298 709.532,652.02 711.528,651.734 713.524,651.44 715.52,651.138 717.516,650.826 719.513,650.506 721.509,650.176 723.505,649.837 725.501,649.489 727.497,649.13 729.493,648.761 731.49,648.382 733.486,647.992 735.482,647.591 737.478,647.179 739.474,646.756 741.471,646.32 743.467,645.873 745.463,645.413 747.459,644.94 749.455,644.455 751.452,643.956 753.448,643.444 755.444,642.917 757.44,642.377 759.436,641.821 761.433,641.251 763.429,640.665 765.425,640.064 767.421,639.447 769.417,638.813 771.413,638.163 773.41,637.495 775.406,636.81 777.402,636.107 779.398,635.385 781.394,634.645 783.391,633.886 785.387,633.106 787.383,632.307 789.379,631.488 791.375,630.648 793.372,629.786 795.368,628.902 797.364,627.996 799.36,627.068 801.356,626.116 803.353,625.141 805.349,624.141 807.345,623.117 809.341,622.068 811.337,620.993 813.333,619.892 815.33,618.764 817.326,617.609 819.322,616.427 821.318,615.216 823.314,613.976 825.311,612.707 827.307,611.409 829.303,610.08 831.299,608.72 833.295,607.328 835.292,605.905 837.288,604.449 839.284,602.959 841.28,601.437 843.276,599.879 845.273,598.287 847.269,596.66 849.265,594.996 851.261,593.296 853.257,591.559 855.253,589.785 857.25,587.972 859.246,586.12 861.242,584.228 863.238,582.297 865.234,580.325 867.231,578.313 869.227,576.258 871.223,574.162 873.219,572.022 875.215,569.84 877.212,567.613 879.208,565.342 881.204,563.027 883.2,560.666 885.196,558.259 887.193,555.806 889.189,553.306 891.185,550.759 893.181,548.165 895.177,545.522 897.173,542.83 899.17,540.09 901.166,537.3 903.162,534.461 905.158,531.572 907.154,528.632 909.151,525.642 911.147,522.601 913.143,519.508 915.139,516.364 917.135,513.169 919.132,509.922 921.128,506.623 923.124,503.272 925.12,499.869 927.116,496.414 929.113,492.906 931.109,489.347 933.105,485.735 935.101,482.072 937.097,478.357 939.093,474.591 941.09,470.773 943.086,466.904 945.082,462.985 947.078,459.016 949.074,454.996 951.071,450.928 953.067,446.811 955.063,442.645 957.059,438.433 959.055,434.174 961.052,429.869 963.048,425.519 965.044,421.125 967.04,416.688 969.036,412.209 971.033,407.689 973.029,403.131 975.025,398.533 977.021,393.9 979.017,389.23 981.014,384.528 983.01,379.793 985.006,375.028 987.002,370.234 988.998,365.414 990.994,360.569 992.991,355.702 994.987,350.815 996.983,345.91 998.979,340.989 1000.98,336.055 1002.97,331.111 1004.97,326.159 1006.96,321.203 1008.96,316.245 1010.96,311.287 1012.95,306.334 1014.95,301.389 1016.94,296.455 1018.94,291.535 1020.94,286.633 1022.93,281.753 1024.93,276.898 1026.93,272.073 1028.92,267.282 1030.92,262.529 1032.91,257.817 1034.91,253.152 1036.91,248.538 1038.9,243.98 1040.9,239.482 1042.9,235.05 1044.89,230.687 1046.89,226.4 1048.88,222.194 1050.88,218.073 1052.88,214.044 1054.87,210.111 1056.87,206.281 1058.86,202.559 1060.86,198.95 1062.86,195.462 1064.85,192.099 1066.85,188.867 1068.85,185.774 1070.84,182.825 1072.84,180.026 1074.83,177.384 1076.83,174.905 1078.83,172.595 1080.82,170.462 1082.82,168.511 1084.82,166.749 1086.81,165.183 1088.81,163.819 1090.8,162.664 1092.8,161.725 1094.8,161.008 1096.79,160.52 1098.79,160.267 1100.78,160.256 1102.78,160.494 1104.78,160.986 1106.77,161.74 1108.77,162.762 1110.77,164.057 1112.76,165.632 1114.76,167.494 1116.75,169.647 1118.75,172.098 1120.75,174.852 1122.74,177.915 1124.74,181.292 1126.74,184.989 1128.73,189.009 1130.73,193.358 1132.72,198.041 1134.72,203.061 1136.72,208.423 1138.71,214.13 1140.71,220.186 1142.7,226.594 1144.7,233.356 1146.7,240.476 1148.69,247.955 1150.69,255.796 1152.69,263.999 1154.68,272.566 1156.68,281.498 1158.67,290.794 1160.67,300.455 1162.67,310.48 1164.66,320.869 1166.66,331.618 1168.66,342.728 1170.65,354.194 1172.65,366.015 1174.64,378.187 1176.64,390.706 1178.64,403.567 1180.63,416.766 1182.63,430.296 1184.62,444.153 1186.62,458.329 1188.62,472.816 1190.61,487.609 1192.61,502.697 1194.61,518.072 1196.6,533.725 1198.6,549.646 1200.59,565.824 1202.59,582.248 1204.59,598.906 1206.58,615.787 1208.58,632.876 1210.58,650.162 1212.57,667.629 1214.57,685.264 1216.56,703.052 1218.56,720.977 1220.56,739.023 1222.55,757.174 1224.55,775.413 1226.54,793.723 1228.54,812.087 1230.54,830.485 1232.53,848.9 1234.53,867.313 1236.53,885.704 1238.52,904.055 1240.52,922.345 1242.51,940.555 1244.51,958.664 1246.51,976.653 1248.5,994.501 1250.5,1012.19 1252.5,1029.69 1254.49,1046.99 1256.49,1064.07 1258.48,1080.9 1260.48,1097.47 1262.48,1113.76 1264.47,1129.74 1266.47,1145.39 1268.46,1160.7 1270.46,1175.65 1272.46,1190.21 1274.45,1204.38 1276.45,1218.12 1278.45,1231.43 1280.44,1244.28 1282.44,1256.66 1284.43,1268.55 1286.43,1279.94 1288.43,1290.82 1290.42,1301.16 1292.42,1310.96 1294.42,1320.2 1296.41,1328.87 1298.41,1336.96 1300.4,1344.47 1302.4,1351.38 1304.4,1357.68 1306.39,1363.37 1308.39,1368.44 1310.38,1372.89 1312.38,1376.71 1314.38,1379.9 1316.37,1382.46 1318.37,1384.39 1320.37,1385.69 1322.36,1386.35 1324.36,1386.4 1326.35,1385.81 1328.35,1384.62 1330.35,1382.81 1332.34,1380.39 1334.34,1377.38 1336.34,1373.78 1338.33,1369.61 1340.33,1364.87 1342.32,1359.59 1344.32,1353.76 1346.32,1347.41 1348.31,1340.55 1350.31,1333.2 1352.3,1325.37 1354.3,1317.08 1356.3,1308.36 1358.29,1299.22 1360.29,1289.67 1362.29,1279.75 1364.28,1269.47 1366.28,1258.85 1368.27,1247.91 1370.27,1236.69 1372.27,1225.19 1374.26,1213.44 1376.26,1201.47 1378.26,1189.3 1380.25,1176.95 1382.25,1164.45 1384.24,1151.81 1386.24,1139.07 1388.24,1126.23 1390.23,1113.33 1392.23,1100.4 1394.23,1087.44 1396.22,1074.48 1398.22,1061.54 1400.21,1048.64 1402.21,1035.81 1404.21,1023.06 1406.2,1010.41 1408.2,997.871 1410.19,985.47 1412.19,973.22 1414.19,961.135 1416.18,949.231 1418.18,937.521 1420.18,926.018 1422.17,914.735 1424.17,903.681 1426.16,892.868 1428.16,882.304 1430.16,871.997 1432.15,861.956 1434.15,852.186 1436.15,842.694 1438.14,833.482 1440.14,824.557 1442.13,815.919 1444.13,807.572 1446.13,799.516 1448.12,791.752 1450.12,784.279 1452.11,777.097 1454.11,770.203 1456.11,763.596 1458.1,757.271 1460.1,751.226 1462.1,745.456 1464.09,739.956 1466.09,734.721 1468.08,729.745 1470.08,725.023 1472.08,720.548 1474.07,716.312 1476.07,712.31 1478.07,708.533 1480.06,704.975 1482.06,701.627 1484.05,698.483 1486.05,695.533 1488.05,692.771 1490.04,690.188 1492.04,687.776 1494.03,685.528 1496.03,683.436 1498.03,681.492 1500.02,679.688 1502.02,678.018 1504.02,676.473 1506.01,675.047 1508.01,673.733 1510,672.524 1512,671.413 1514,670.394 1515.99,669.462 1517.99,668.611 1519.99,667.834 1521.98,667.126 1523.98,666.483 1525.97,665.9 1527.97,665.372 1529.97,664.895 1531.96,664.464 1533.96,664.077 1535.95,663.728 1537.95,663.416 1539.95,663.136 1541.94,662.887 1543.94,662.664 1545.94,662.466 1547.93,662.29 1549.93,662.134 1551.92,661.996 1553.92,661.875 1555.92,661.768 1557.91,661.674 1559.91,661.591 1561.91,661.519 1563.9,661.456 1565.9,661.402 1567.89,661.354 1569.89,661.313 1571.89,661.277 1573.88,661.247 1575.88,661.22 1577.87,661.198 1579.87,661.178 1581.87,661.162 1583.86,661.147 1585.86,661.135 1587.86,661.125 1589.85,661.117 1591.85,661.11 1593.84,661.103 1595.84,661.098 1597.84,661.094 1599.83,661.091 1601.83,661.088 1603.83,661.085 1605.82,661.083 1607.82,661.082 1609.81,661.08 1611.81,661.079 1613.81,661.078 1615.8,661.077 1617.8,661.077 1619.79,661.076 1621.79,661.076 1623.79,661.076 1625.78,661.075 1627.78,661.075 1629.78,661.075 1631.77,661.075 1633.77,661.075 1635.76,661.075 1637.76,661.075 1639.76,661.075 1641.75,661.075 1643.75,661.075 1645.75,661.075 1647.74,661.075 1649.74,661.075 1651.73,661.075 1653.73,661.075 1655.73,661.075 1657.72,661.075 1659.72,661.075 1661.71,661.075 1663.71,661.075 1665.71,661.075 1667.7,661.075 1669.7,661.075 1671.7,661.075 1673.69,661.075 1675.69,661.075 1677.68,661.075 1679.68,661.075 1681.68,661.075 1683.67,661.075 1685.67,661.075 1687.67,661.075 1689.66,661.075 1691.66,661.075 1693.65,661.075 1695.65,661.075 1697.65,661.075 1699.64,661.075 1701.64,661.075 1703.63,661.075 1705.63,661.075 1707.63,661.075 1709.62,661.075 1711.62,661.075 1713.62,661.075 1715.61,661.075 1717.61,661.075 1719.6,661.075 1721.6,661.075 1723.6,661.075 1725.59,661.075 1727.59,661.075 1729.59,661.075 1731.58,661.075 1733.58,661.075 1735.57,661.075 1737.57,661.075 1739.57,661.075 1741.56,661.075 1743.56,661.075 1745.55,661.075 1747.55,661.075 1749.55,661.075 1751.54,661.075 1753.54,661.075 1755.54,661.075 1757.53,661.075 1759.53,661.075 1761.52,661.075 1763.52,661.075 1765.52,661.075 1767.51,661.075 1769.51,661.075 1771.51,661.075 1773.5,661.075 1775.5,661.075 1777.49,661.075 1779.49,661.075 1781.49,661.075 1783.48,661.075 1785.48,661.075 1787.47,661.075 1789.47,661.075 1791.47,661.075 1793.46,661.075 1795.46,661.075 1797.46,661.075 1799.45,661.075 1801.45,661.075 1803.44,661.075 1805.44,661.075 1807.44,661.075 1809.43,661.075 1811.43,661.075 1813.43,661.075 1815.42,661.075 1817.42,661.075 1819.41,661.075 1821.41,661.075 1823.41,661.075 1825.4,661.075 1827.4,661.075 1829.39,661.075 1831.39,661.075 1833.39,661.075 1835.38,661.075 1837.38,661.075 1839.38,661.075 1841.37,661.075 1843.37,661.075 1845.36,661.075 1847.36,661.075 1849.36,661.075 1851.35,661.075 1853.35,661.075 1855.35,661.075 1857.34,661.075 1859.34,661.075 1861.33,661.075 1863.33,661.075 1865.33,661.075 1867.32,661.075 1869.32,661.075 1871.31,661.075 1873.31,661.075 1875.31,661.075 1877.3,661.075 1879.3,661.075 1881.3,661.075 1883.29,661.075 1885.29,661.075 1887.28,661.075 1889.28,661.075 1891.28,661.075 1893.27,661.075 1895.27,661.075 1897.27,661.075 1899.26,661.075 1901.26,661.075 1903.25,661.075 1905.25,661.075 1907.25,661.075 1909.24,661.075 1911.24,661.075 1913.23,661.075 1915.23,661.075 1917.23,661.075 1919.22,661.075 1921.22,661.075 1923.22,661.075 1925.21,661.075 1927.21,661.075 1929.2,661.075 1931.2,661.075 1933.2,661.075 1935.19,661.075 1937.19,661.075 1939.19,661.075 1941.18,661.075 1943.18,661.075 1945.17,661.075 1947.17,661.075 1949.17,661.075 1951.16,661.075 1953.16,661.075 1955.15,661.075 1957.15,661.075 1959.15,661.075 1961.14,661.075 1963.14,661.075 1965.14,661.075 1967.13,661.075 1969.13,661.075 1971.12,661.075 1973.12,661.075 1975.12,661.075 1977.11,661.075 1979.11,661.075 1981.11,661.075 1983.1,661.075 1985.1,661.075 1987.09,661.075 1989.09,661.075 1991.09,661.075 1993.08,661.075 1995.08,661.075 1997.07,661.075 1999.07,661.075 2001.07,661.075 2003.06,661.075 2005.06,661.075 2007.06,661.075 2009.05,661.075 2011.05,661.075 2013.04,661.075 2015.04,661.075 2017.04,661.075 2019.03,661.075 2021.03,661.075 2023.03,661.075 2025.02,661.075 2027.02,661.075 2029.01,661.075 2031.01,661.075 2033.01,661.075 2035,661.075 2037,661.075 2038.99,661.075 2040.99,661.075 2042.99,661.075 2044.98,661.075 2046.98,661.075 2048.98,661.075 2050.97,661.075 2052.97,661.075 2054.96,661.075 2056.96,661.075 2058.96,661.075 2060.95,661.075 2062.95,661.075 2064.95,661.075 2066.94,661.075 2068.94,661.075 2070.93,661.075 2072.93,661.075 2074.93,661.075 2076.92,661.075 2078.92,661.075 2080.91,661.075 2082.91,661.075 2084.91,661.075 2086.9,661.075 2088.9,661.075 2090.9,661.075 2092.89,661.075 2094.89,661.075 2096.88,661.075 2098.88,661.075 2100.88,661.075 2102.87,661.075 2104.87,661.075 2106.87,661.075 2108.86,661.075 2110.86,661.075 2112.85,661.075 2114.85,661.075 2116.85,661.075 2118.84,661.075 2120.84,661.075 2122.83,661.075 2124.83,661.075 2126.83,661.075 2128.82,661.075 2130.82,661.075 2132.82,661.075 2134.81,661.075 2136.81,661.075 2138.8,661.075 2140.8,661.075 2142.8,661.075 2144.79,661.075 2146.79,661.075 2148.79,661.075 2150.78,661.075 2152.78,661.075 2154.77,661.075 2156.77,661.075 2158.77,661.075 2160.76,661.075 2162.76,661.075 2164.75,661.075 2166.75,661.075 2168.75,661.075 2170.74,661.075 2172.74,661.075 2174.74,661.075 2176.73,661.075 2178.73,661.075 2180.72,661.075 2182.72,661.075 2184.72,661.075 2186.71,661.075 2188.71,661.075 2190.71,661.075 2192.7,661.075 2194.7,661.075 2196.69,661.075 2198.69,661.075 2200.69,661.075 2202.68,661.075 2204.68,661.075 2206.67,661.075 2208.67,661.075 2210.67,661.075 2212.66,661.075 2214.66,661.075 2216.66,661.075 2218.65,661.075 2220.65,661.075 2222.64,661.075 2224.64,661.075 2226.64,661.075 2228.63,661.075 2230.63,661.075 2232.63,661.075 2234.62,661.075 2236.62,661.075 2238.61,661.075 2240.61,661.075 2242.61,661.075 2244.6,661.075 2246.6,661.075 2248.59,661.075 2250.59,661.075 2252.59,661.075 2254.58,661.075 2256.58,661.075 2258.58,661.075 2260.57,661.075 2262.57,661.075 2264.56,661.075 2266.56,661.075 2268.56,661.075 2270.55,661.075 2272.55,661.075 2274.55,661.075 2276.54,661.075 2278.54,661.075 2280.53,661.075 2282.53,661.075 2284.53,661.075 2286.52,661.075 2288.52,661.075 2290.51,661.075 2292.51,661.075 \"/>\n",
       "<path clip-path=\"url(#clip770)\" d=\"M1963.7 425.996 L2281.8 425.996 L2281.8 166.796 L1963.7 166.796  Z\" fill=\"#ffffff\" fill-rule=\"evenodd\" fill-opacity=\"1\"/>\n",
       "<polyline clip-path=\"url(#clip770)\" style=\"stroke:#000000; stroke-linecap:round; stroke-linejoin:round; stroke-width:4; stroke-opacity:1; fill:none\" points=\"1963.7,425.996 2281.8,425.996 2281.8,166.796 1963.7,166.796 1963.7,425.996 \"/>\n",
       "<polyline clip-path=\"url(#clip770)\" style=\"stroke:#009af9; stroke-linecap:round; stroke-linejoin:round; stroke-width:4; stroke-opacity:1; fill:none\" points=\"1987.36,218.636 2129.27,218.636 \"/>\n",
       "<path clip-path=\"url(#clip770)\" d=\"M2173.27 214.967 Q2174.86 212.096 2177.08 210.731 Q2179.31 209.365 2182.32 209.365 Q2186.37 209.365 2188.57 212.212 Q2190.76 215.036 2190.76 220.268 L2190.76 235.916 L2186.48 235.916 L2186.48 220.407 Q2186.48 216.68 2185.16 214.874 Q2183.84 213.069 2181.14 213.069 Q2177.83 213.069 2175.9 215.268 Q2173.98 217.467 2173.98 221.263 L2173.98 235.916 L2169.7 235.916 L2169.7 220.407 Q2169.7 216.657 2168.38 214.874 Q2167.06 213.069 2164.31 213.069 Q2161.04 213.069 2159.12 215.291 Q2157.2 217.49 2157.2 221.263 L2157.2 235.916 L2152.92 235.916 L2152.92 209.99 L2157.2 209.99 L2157.2 214.018 Q2158.66 211.633 2160.7 210.499 Q2162.73 209.365 2165.53 209.365 Q2168.36 209.365 2170.33 210.8 Q2172.32 212.235 2173.27 214.967 Z\" fill=\"#000000\" fill-rule=\"evenodd\" fill-opacity=\"1\" /><polyline clip-path=\"url(#clip770)\" style=\"stroke:#e26f46; stroke-linecap:round; stroke-linejoin:round; stroke-width:4; stroke-opacity:1; fill:none\" points=\"1987.36,270.476 2129.27,270.476 \"/>\n",
       "<path clip-path=\"url(#clip770)\" d=\"M2171.69 274.816 Q2171.69 270.117 2169.75 267.455 Q2167.83 264.77 2164.45 264.77 Q2161.07 264.77 2159.12 267.455 Q2157.2 270.117 2157.2 274.816 Q2157.2 279.515 2159.12 282.2 Q2161.07 284.862 2164.45 284.862 Q2167.83 284.862 2169.75 282.2 Q2171.69 279.515 2171.69 274.816 M2157.2 265.765 Q2158.54 263.45 2160.58 262.339 Q2162.64 261.205 2165.49 261.205 Q2170.21 261.205 2173.15 264.955 Q2176.11 268.705 2176.11 274.816 Q2176.11 280.927 2173.15 284.677 Q2170.21 288.427 2165.49 288.427 Q2162.64 288.427 2160.58 287.316 Q2158.54 286.182 2157.2 283.867 L2157.2 287.756 L2152.92 287.756 L2152.92 251.737 L2157.2 251.737 L2157.2 265.765 Z\" fill=\"#000000\" fill-rule=\"evenodd\" fill-opacity=\"1\" /><path clip-path=\"url(#clip770)\" d=\"M2205.35 273.728 L2205.35 275.811 L2185.77 275.811 Q2186.04 280.209 2188.4 282.524 Q2190.79 284.816 2195.02 284.816 Q2197.48 284.816 2199.77 284.214 Q2202.08 283.612 2204.35 282.409 L2204.35 286.436 Q2202.06 287.408 2199.65 287.918 Q2197.25 288.427 2194.77 288.427 Q2188.57 288.427 2184.93 284.816 Q2181.32 281.205 2181.32 275.047 Q2181.32 268.682 2184.75 264.955 Q2188.2 261.205 2194.03 261.205 Q2199.26 261.205 2202.29 264.585 Q2205.35 267.941 2205.35 273.728 M2201.09 272.478 Q2201.04 268.983 2199.12 266.899 Q2197.22 264.816 2194.08 264.816 Q2190.51 264.816 2188.36 266.83 Q2186.23 268.844 2185.9 272.501 L2201.09 272.478 Z\" fill=\"#000000\" fill-rule=\"evenodd\" fill-opacity=\"1\" /><path clip-path=\"url(#clip770)\" d=\"M2216.55 254.469 L2216.55 261.83 L2225.32 261.83 L2225.32 265.14 L2216.55 265.14 L2216.55 279.214 Q2216.55 282.385 2217.41 283.288 Q2218.29 284.191 2220.95 284.191 L2225.32 284.191 L2225.32 287.756 L2220.95 287.756 Q2216.02 287.756 2214.14 285.927 Q2212.27 284.075 2212.27 279.214 L2212.27 265.14 L2209.14 265.14 L2209.14 261.83 L2212.27 261.83 L2212.27 254.469 L2216.55 254.469 Z\" fill=\"#000000\" fill-rule=\"evenodd\" fill-opacity=\"1\" /><path clip-path=\"url(#clip770)\" d=\"M2242.71 274.723 Q2237.55 274.723 2235.56 275.904 Q2233.57 277.084 2233.57 279.932 Q2233.57 282.2 2235.05 283.543 Q2236.55 284.862 2239.12 284.862 Q2242.66 284.862 2244.79 282.362 Q2246.95 279.839 2246.95 275.672 L2246.95 274.723 L2242.71 274.723 M2251.2 272.964 L2251.2 287.756 L2246.95 287.756 L2246.95 283.821 Q2245.49 286.182 2243.31 287.316 Q2241.14 288.427 2237.99 288.427 Q2234.01 288.427 2231.64 286.205 Q2229.31 283.959 2229.31 280.209 Q2229.31 275.834 2232.22 273.612 Q2235.16 271.39 2240.97 271.39 L2246.95 271.39 L2246.95 270.973 Q2246.95 268.034 2245 266.436 Q2243.08 264.816 2239.58 264.816 Q2237.36 264.816 2235.26 265.348 Q2233.15 265.881 2231.2 266.946 L2231.2 263.01 Q2233.54 262.108 2235.74 261.668 Q2237.94 261.205 2240.02 261.205 Q2245.65 261.205 2248.43 264.122 Q2251.2 267.038 2251.2 272.964 Z\" fill=\"#000000\" fill-rule=\"evenodd\" fill-opacity=\"1\" /><polyline clip-path=\"url(#clip770)\" style=\"stroke:#3da44d; stroke-linecap:round; stroke-linejoin:round; stroke-width:4; stroke-opacity:1; fill:none\" points=\"1987.36,322.316 2129.27,322.316 \"/>\n",
       "<path clip-path=\"url(#clip770)\" d=\"M2157.2 335.707 L2157.2 349.457 L2152.92 349.457 L2152.92 313.67 L2157.2 313.67 L2157.2 317.605 Q2158.54 315.29 2160.58 314.179 Q2162.64 313.045 2165.49 313.045 Q2170.21 313.045 2173.15 316.795 Q2176.11 320.545 2176.11 326.656 Q2176.11 332.767 2173.15 336.517 Q2170.21 340.267 2165.49 340.267 Q2162.64 340.267 2160.58 339.156 Q2158.54 338.022 2157.2 335.707 M2171.69 326.656 Q2171.69 321.957 2169.75 319.295 Q2167.83 316.61 2164.45 316.61 Q2161.07 316.61 2159.12 319.295 Q2157.2 321.957 2157.2 326.656 Q2157.2 331.355 2159.12 334.04 Q2161.07 336.702 2164.45 336.702 Q2167.83 336.702 2169.75 334.04 Q2171.69 331.355 2171.69 326.656 Z\" fill=\"#000000\" fill-rule=\"evenodd\" fill-opacity=\"1\" /><path clip-path=\"url(#clip770)\" d=\"M2199.7 314.434 L2199.7 318.462 Q2197.89 317.536 2195.95 317.073 Q2194.01 316.61 2191.92 316.61 Q2188.75 316.61 2187.15 317.582 Q2185.58 318.554 2185.58 320.499 Q2185.58 321.98 2186.71 322.837 Q2187.85 323.67 2191.27 324.434 L2192.73 324.758 Q2197.27 325.73 2199.17 327.512 Q2201.09 329.272 2201.09 332.443 Q2201.09 336.054 2198.22 338.161 Q2195.37 340.267 2190.37 340.267 Q2188.29 340.267 2186.02 339.85 Q2183.77 339.457 2181.27 338.647 L2181.27 334.249 Q2183.64 335.475 2185.93 336.1 Q2188.22 336.702 2190.46 336.702 Q2193.47 336.702 2195.09 335.684 Q2196.71 334.642 2196.71 332.767 Q2196.71 331.031 2195.53 330.105 Q2194.38 329.179 2190.42 328.323 L2188.94 327.975 Q2184.98 327.142 2183.22 325.429 Q2181.46 323.693 2181.46 320.684 Q2181.46 317.026 2184.05 315.036 Q2186.64 313.045 2191.41 313.045 Q2193.77 313.045 2195.86 313.392 Q2197.94 313.739 2199.7 314.434 Z\" fill=\"#000000\" fill-rule=\"evenodd\" fill-opacity=\"1\" /><path clip-path=\"url(#clip770)\" d=\"M2207.87 313.67 L2212.13 313.67 L2212.13 339.596 L2207.87 339.596 L2207.87 313.67 M2207.87 303.577 L2212.13 303.577 L2212.13 308.971 L2207.87 308.971 L2207.87 303.577 Z\" fill=\"#000000\" fill-rule=\"evenodd\" fill-opacity=\"1\" /><polyline clip-path=\"url(#clip770)\" style=\"stroke:#c271d2; stroke-linecap:round; stroke-linejoin:round; stroke-width:4; stroke-opacity:1; fill:none\" points=\"1987.36,374.156 2129.27,374.156 \"/>\n",
       "<path clip-path=\"url(#clip770)\" d=\"M2157.2 387.547 L2157.2 401.297 L2152.92 401.297 L2152.92 365.51 L2157.2 365.51 L2157.2 369.445 Q2158.54 367.13 2160.58 366.019 Q2162.64 364.885 2165.49 364.885 Q2170.21 364.885 2173.15 368.635 Q2176.11 372.385 2176.11 378.496 Q2176.11 384.607 2173.15 388.357 Q2170.21 392.107 2165.49 392.107 Q2162.64 392.107 2160.58 390.996 Q2158.54 389.862 2157.2 387.547 M2171.69 378.496 Q2171.69 373.797 2169.75 371.135 Q2167.83 368.45 2164.45 368.45 Q2161.07 368.45 2159.12 371.135 Q2157.2 373.797 2157.2 378.496 Q2157.2 383.195 2159.12 385.88 Q2161.07 388.542 2164.45 388.542 Q2167.83 388.542 2169.75 385.88 Q2171.69 383.195 2171.69 378.496 Z\" fill=\"#000000\" fill-rule=\"evenodd\" fill-opacity=\"1\" /><path clip-path=\"url(#clip770)\" d=\"M2199.7 366.274 L2199.7 370.302 Q2197.89 369.376 2195.95 368.913 Q2194.01 368.45 2191.92 368.45 Q2188.75 368.45 2187.15 369.422 Q2185.58 370.394 2185.58 372.339 Q2185.58 373.82 2186.71 374.677 Q2187.85 375.51 2191.27 376.274 L2192.73 376.598 Q2197.27 377.57 2199.17 379.352 Q2201.09 381.112 2201.09 384.283 Q2201.09 387.894 2198.22 390.001 Q2195.37 392.107 2190.37 392.107 Q2188.29 392.107 2186.02 391.69 Q2183.77 391.297 2181.27 390.487 L2181.27 386.089 Q2183.64 387.315 2185.93 387.94 Q2188.22 388.542 2190.46 388.542 Q2193.47 388.542 2195.09 387.524 Q2196.71 386.482 2196.71 384.607 Q2196.71 382.871 2195.53 381.945 Q2194.38 381.019 2190.42 380.163 L2188.94 379.815 Q2184.98 378.982 2183.22 377.269 Q2181.46 375.533 2181.46 372.524 Q2181.46 368.866 2184.05 366.876 Q2186.64 364.885 2191.41 364.885 Q2193.77 364.885 2195.86 365.232 Q2197.94 365.579 2199.7 366.274 Z\" fill=\"#000000\" fill-rule=\"evenodd\" fill-opacity=\"1\" /><path clip-path=\"url(#clip770)\" d=\"M2207.87 365.51 L2212.13 365.51 L2212.13 391.436 L2207.87 391.436 L2207.87 365.51 M2207.87 355.417 L2212.13 355.417 L2212.13 360.811 L2207.87 360.811 L2207.87 355.417 Z\" fill=\"#000000\" fill-rule=\"evenodd\" fill-opacity=\"1\" /><path clip-path=\"url(#clip770)\" d=\"M2222.13 385.556 L2227.01 385.556 L2227.01 389.538 L2223.22 396.945 L2220.23 396.945 L2222.13 389.538 L2222.13 385.556 Z\" fill=\"#000000\" fill-rule=\"evenodd\" fill-opacity=\"1\" /><path clip-path=\"url(#clip770)\" d=\"M2257.66 365.51 L2248.29 378.126 L2258.15 391.436 L2253.13 391.436 L2245.58 381.251 L2238.03 391.436 L2233.01 391.436 L2243.08 377.871 L2233.87 365.51 L2238.89 365.51 L2245.76 374.746 L2252.64 365.51 L2257.66 365.51 Z\" fill=\"#000000\" fill-rule=\"evenodd\" fill-opacity=\"1\" /></svg>\n"
      ]
     },
     "execution_count": 217,
     "metadata": {},
     "output_type": "execute_result"
    }
   ],
   "source": [
    "using Plots #showing initial data and the initial status of the horizon finder\n",
    "plot(initX, state_array[:,1:4], xaxis=\"x\",title=\"Initial Data\", labels=[\"m\" \"beta\" \"psi\" \"psi,x\"])#, xlim=[-0.001, 0.001])\"\"\""
   ]
  },
  {
   "cell_type": "markdown",
   "id": "9b444ece",
   "metadata": {
    "papermill": {
     "duration": null,
     "end_time": null,
     "exception": null,
     "start_time": null,
     "status": "completed"
    },
    "tags": []
   },
   "source": [
    "# Defining the initial state array for the evolution m β Ψ and Ψ,x"
   ]
  },
  {
   "cell_type": "code",
   "execution_count": 218,
   "id": "9902ffab",
   "metadata": {
    "execution": {
     "iopub.execute_input": "2023-03-01T09:50:44.779000Z",
     "iopub.status.busy": "2023-03-01T09:50:44.779000Z",
     "iopub.status.idle": "2023-03-01T09:50:53.694000Z",
     "shell.execute_reply": "2023-03-01T09:50:53.694000Z"
    },
    "papermill": {
     "duration": null,
     "end_time": null,
     "exception": null,
     "start_time": null,
     "status": "completed"
    },
    "tags": []
   },
   "outputs": [
    {
     "data": {
      "text/plain": [
       "\"/home/rita13santos/Desktop/MSc Thesis/Git/ScalarField/DATA/res1/time_step0.csv\""
      ]
     },
     "execution_count": 218,
     "metadata": {},
     "output_type": "execute_result"
    }
   ],
   "source": [
    "using CSV, Tables\n",
    "#CSV.write(dir*\"/time_step0.csv\", Tables.table(transpose(Matrix(state_array))), writeheader=false)\n",
    "CSV.write(dir*\"/time_step0.csv\", Tables.table(state_array), writeheader=false)"
   ]
  },
  {
   "cell_type": "code",
   "execution_count": 219,
   "id": "fff1426a",
   "metadata": {},
   "outputs": [
    {
     "data": {
      "text/plain": [
       "\"/home/rita13santos/Desktop/MSc Thesis/Git/ScalarField/DATA/parameters.csv\""
      ]
     },
     "execution_count": 219,
     "metadata": {},
     "output_type": "execute_result"
    }
   ],
   "source": [
    "timestep=0\n",
    "criticality=false\n",
    "explode=false\n",
    "critical_stop=0\n",
    "evol_stats = [criticality A sigma r0 timestep explode]\n",
    "monitor_ratio = zeros(L)\n",
    "CSV.write(\"/home/rita13santos/Desktop/MSc Thesis/Git/ScalarField/DATA/parameters.csv\", Tables.table(evol_stats), writeheader=true, header=[\"criticality\", \"A\", \"sigma\", \"r0\", \"timestep\", \"explode\"])"
   ]
  },
  {
   "cell_type": "markdown",
   "id": "42e2c73d",
   "metadata": {
    "papermill": {
     "duration": null,
     "end_time": null,
     "exception": null,
     "start_time": null,
     "status": "completed"
    },
    "tags": []
   },
   "source": [
    " ## Time evolution"
   ]
  },
  {
   "cell_type": "markdown",
   "id": "7da47594",
   "metadata": {
    "papermill": {
     "duration": null,
     "end_time": null,
     "exception": null,
     "start_time": null,
     "status": "completed"
    },
    "tags": []
   },
   "source": [
    "fixed grid"
   ]
  },
  {
   "cell_type": "code",
   "execution_count": 220,
   "id": "01bca6ee",
   "metadata": {
    "execution": {
     "iopub.execute_input": "2023-03-01T09:50:54.690000Z",
     "iopub.status.busy": "2023-03-01T09:50:53.766000Z",
     "iopub.status.idle": "2023-03-01T09:51:14.077000Z",
     "shell.execute_reply": "2023-03-01T09:51:14.076000Z"
    },
    "papermill": {
     "duration": null,
     "end_time": null,
     "exception": null,
     "start_time": null,
     "status": "completed"
    },
    "tags": []
   },
   "outputs": [
    {
     "name": "stderr",
     "output_type": "stream",
     "text": [
      "\u001b[32mProgress: 100%|█████████████████████████████████████████| Time: 0:00:50\u001b[39m\n"
     ]
    }
   ],
   "source": [
    "using Interpolations\n",
    "using ProgressMeter\n",
    "@showprogress for t in 1:15#00#length(T)\n",
    "    \n",
    "    if isnan(state_array[L-3,4])\n",
    "        print(\"boom at timestep=\", t)\n",
    "        explode = true\n",
    "        timestep = t\n",
    "        break\n",
    "    end\n",
    "    \n",
    "    \n",
    "    X=initX #state_array[:,5]\n",
    "    X1=X[4:L-3]\n",
    "\n",
    "    #update ghost points\n",
    "    #state_array=boundarySF(state_array,X)\n",
    "   \n",
    "    #evolve psi,x\n",
    "    global state_array[:,1:4] = rungekutta4molstep(SF_RHS,state_array[:,1:4],T,t,0,initX) #evolve psi,x\n",
    "    global state_array=ghost(state_array)\n",
    "\n",
    "    #global aux=SF_RHS(state_array[:,:], 0,0,X)\n",
    "    \n",
    "    #calculate psi from psi,x\n",
    "    global spl_derpsi = scipyinterpolate.splrep(initX[4:L-3], state_array[4:L-3,4],k=4)\n",
    "    psi0=0\n",
    "    SFconstraint_psi(psi0,x) = scipyinterpolate.splev(x, spl_derpsi)\n",
    "\n",
    "    global state_array[4:L-3,3] = rungekutta4(SFconstraint_psi,psi0,initX1)\n",
    "    global state_array=ghost(state_array);\n",
    "\n",
    "    global spl_psi = scipyinterpolate.splrep(initX[4:L-3], state_array[4:L-3,3],k=4)\n",
    "    global psi_func(x) = scipyinterpolate.splev(x, spl_psi)\n",
    "    global derpsi_func(x) = scipyinterpolate.splev(x, spl_derpsi)\n",
    "\n",
    "    global funcs = [psi_func derpsi_func]\n",
    "    \n",
    "    #evolve beta\n",
    "    global state_array[4:L-3,2]=rk4wrapper(SFconstraint_beta,beta0,X1,T[t+1],funcs)\n",
    "    global state_array=ghost(state_array)\n",
    "    \n",
    "    #evolve m\n",
    "    global state_array[4:L-3,1]=rk4wrapper(SFconstraint_m,m0,X1,T[t+1],funcs)\n",
    "    global state_array=ghost(state_array)\n",
    "    \n",
    "    #CSV.write(dir*\"/time_step$k.csv\", Tables.table(transpose(Matrix(state_array))), writeheader=false)\n",
    "    CSV.write(dir*\"/time_step$t.csv\", Tables.table(state_array), writeheader=false)\n",
    "    \n",
    "    \n",
    "    #threshold for apparent black hole formation\n",
    "    global monitor_ratio = zeros(L)\n",
    "    for i in 1:L\n",
    "        global monitor_ratio[i] = 2*state_array[i,1]/initX[i]*(1-initX[i])\n",
    "        if monitor_ratio[i]>0.6\n",
    "            global criticality = true\n",
    "            println(\"Supercritical evolution!\")\n",
    "            println(\"i = \", i, \" t = \", t, \" monitor ratio = \", monitor_ratio[i])\n",
    "            critical_stop += 1\n",
    "            timestep = t\n",
    "        end\n",
    "    end\n",
    "    \n",
    "    if critical_stop >=15\n",
    "        print(\"Found apparent horizon formation\")\n",
    "        timestep = t\n",
    "        break\n",
    "    end\n",
    "    timestep = t\n",
    "end\n",
    "\n",
    "\n",
    "global evol_stats = [criticality A sigma r0 timestep explode]\n",
    "\n",
    "CSV.write(\"/home/rita13santos/Desktop/MSc Thesis/Git/ScalarField/DATA/parameters.csv\", Tables.table(evol_stats), writeheader=true,header=[\"criticality\", \"A\", \"sigma\", \"r0\", \"timestep\", \"explode\"]);\n",
    "\n",
    "#CSV.write(\"/home/rita13santos/Desktop/MSc Thesis/Git/ScalarField/DATA/parameters.csv\", Tables.table(transpose(Array(monitor_ratio))), delim = ';', writeheader=false, append=true)"
   ]
  },
  {
   "cell_type": "code",
   "execution_count": null,
   "id": "1079ffa9",
   "metadata": {},
   "outputs": [],
   "source": []
  },
  {
   "cell_type": "code",
   "execution_count": null,
   "id": "8fc5adc6",
   "metadata": {},
   "outputs": [],
   "source": []
  },
  {
   "cell_type": "markdown",
   "id": "14770155",
   "metadata": {
    "papermill": {
     "duration": null,
     "end_time": null,
     "exception": null,
     "start_time": null,
     "status": "completed"
    },
    "tags": []
   },
   "source": [
    "## Movie of the evolution"
   ]
  },
  {
   "cell_type": "code",
   "execution_count": 117,
   "id": "f3ee0b86",
   "metadata": {
    "execution": {
     "iopub.execute_input": "2023-03-01T09:51:14.266000Z",
     "iopub.status.busy": "2023-03-01T09:51:14.266000Z"
    },
    "papermill": {
     "duration": null,
     "end_time": null,
     "exception": null,
     "start_time": null,
     "status": "completed"
    },
    "tags": []
   },
   "outputs": [
    {
     "ename": "LoadError",
     "evalue": "ArgumentError: \"/home/rita13santos/Desktop/MSc Thesis/Git/ScalarField/DATA/res2/time_step16.csv\" is not a valid file or doesn't exist",
     "output_type": "error",
     "traceback": [
      "ArgumentError: \"/home/rita13santos/Desktop/MSc Thesis/Git/ScalarField/DATA/res2/time_step16.csv\" is not a valid file or doesn't exist",
      "",
      "Stacktrace:",
      " [1] CSV.Context(source::CSV.Arg, header::CSV.Arg, normalizenames::CSV.Arg, datarow::CSV.Arg, skipto::CSV.Arg, footerskip::CSV.Arg, transpose::CSV.Arg, comment::CSV.Arg, ignoreemptyrows::CSV.Arg, ignoreemptylines::CSV.Arg, select::CSV.Arg, drop::CSV.Arg, limit::CSV.Arg, buffer_in_memory::CSV.Arg, threaded::CSV.Arg, ntasks::CSV.Arg, tasks::CSV.Arg, rows_to_check::CSV.Arg, lines_to_check::CSV.Arg, missingstrings::CSV.Arg, missingstring::CSV.Arg, delim::CSV.Arg, ignorerepeated::CSV.Arg, quoted::CSV.Arg, quotechar::CSV.Arg, openquotechar::CSV.Arg, closequotechar::CSV.Arg, escapechar::CSV.Arg, dateformat::CSV.Arg, dateformats::CSV.Arg, decimal::CSV.Arg, truestrings::CSV.Arg, falsestrings::CSV.Arg, stripwhitespace::CSV.Arg, type::CSV.Arg, types::CSV.Arg, typemap::CSV.Arg, pool::CSV.Arg, downcast::CSV.Arg, lazystrings::CSV.Arg, stringtype::CSV.Arg, strict::CSV.Arg, silencewarnings::CSV.Arg, maxwarnings::CSV.Arg, debug::CSV.Arg, parsingdebug::CSV.Arg, validate::CSV.Arg, streaming::CSV.Arg)",
      "   @ CSV ~/.julia/packages/CSV/b8ebJ/src/context.jl:306",
      " [2] #File#28",
      "   @ ~/.julia/packages/CSV/b8ebJ/src/file.jl:221 [inlined]",
      " [3] macro expansion",
      "   @ ./In[117]:6 [inlined]",
      " [4] top-level scope",
      "   @ ~/.julia/packages/Plots/bMtsB/src/animation.jl:251"
     ]
    }
   ],
   "source": [
    "using Plots, CSV, DataFrames\n",
    "import GR\n",
    "anim = @animate for n in 1:261#length(T)-1\n",
    "    time_step=T[n+1]-T[n];\n",
    "    IJulia.clear_output(true)\n",
    "    functions3=DataFrame(CSV.File(dir*\"/time_step$n.csv\",header=false, delim=\",\"))\n",
    "    plot()\n",
    "        plot1=functions3.Column1[4:L-3];\n",
    "        plot2=functions3.Column2[4:L-3];\n",
    "        plot3=functions3.Column3[4:L-3];\n",
    "        plot4=functions3.Column4[4:L-3];\n",
    "    d=round(T[n],digits=1)\n",
    "    plot!(initX[4:L-3], [plot1 plot2 plot3 plot4], labels=[\"m\" \"beta\" \"psi\" \"psi,x\"])#, xlim=[0.9 1]) |> display \n",
    "    \n",
    "    end\n",
    "\n",
    "gif(anim, \"anim_res$res.gif\", fps = 5)"
   ]
  },
  {
   "cell_type": "code",
   "execution_count": null,
   "id": "ab36cd8c",
   "metadata": {},
   "outputs": [],
   "source": []
  },
  {
   "cell_type": "code",
   "execution_count": null,
   "id": "8a0ba13b",
   "metadata": {},
   "outputs": [],
   "source": []
  },
  {
   "cell_type": "code",
   "execution_count": null,
   "id": "9460a087",
   "metadata": {},
   "outputs": [],
   "source": []
  },
  {
   "cell_type": "code",
   "execution_count": null,
   "id": "eeca1ea7",
   "metadata": {},
   "outputs": [],
   "source": []
  },
  {
   "cell_type": "code",
   "execution_count": null,
   "id": "1e97fedd",
   "metadata": {},
   "outputs": [],
   "source": []
  },
  {
   "cell_type": "code",
   "execution_count": null,
   "id": "e38f53a6",
   "metadata": {},
   "outputs": [],
   "source": []
  },
  {
   "cell_type": "code",
   "execution_count": null,
   "id": "7abd60a2",
   "metadata": {},
   "outputs": [],
   "source": []
  },
  {
   "cell_type": "code",
   "execution_count": null,
   "id": "70f2c204",
   "metadata": {},
   "outputs": [],
   "source": []
  },
  {
   "cell_type": "code",
   "execution_count": null,
   "id": "0e1bb132",
   "metadata": {},
   "outputs": [],
   "source": []
  },
  {
   "cell_type": "code",
   "execution_count": null,
   "id": "92c9d582",
   "metadata": {},
   "outputs": [],
   "source": []
  },
  {
   "cell_type": "code",
   "execution_count": null,
   "id": "dd336b87",
   "metadata": {},
   "outputs": [],
   "source": []
  },
  {
   "cell_type": "code",
   "execution_count": null,
   "id": "001bf55c",
   "metadata": {},
   "outputs": [],
   "source": []
  },
  {
   "cell_type": "code",
   "execution_count": 357,
   "id": "4d9d50bc",
   "metadata": {},
   "outputs": [],
   "source": [
    "#aux2 = range(1,10,step=0.01/2)"
   ]
  },
  {
   "cell_type": "code",
   "execution_count": 358,
   "id": "4548adb3",
   "metadata": {},
   "outputs": [
    {
     "ename": "LoadError",
     "evalue": "UndefVarError: x2 not defined",
     "output_type": "error",
     "traceback": [
      "UndefVarError: x2 not defined",
      "",
      "Stacktrace:",
      " [1] top-level scope",
      "   @ In[358]:2"
     ]
    }
   ],
   "source": [
    "#spl2 = scipyinterpolate.splrep(aux2, sin.(aux2),k=2)\n",
    "func2 = cubic_spline_interpolation(x2, var2,  extrapolation_bc = Line());\n",
    "#func2(x) = scipyinterpolate.splev(x, spl2)\n",
    "\n"
   ]
  },
  {
   "cell_type": "code",
   "execution_count": 494,
   "id": "0780fc6b",
   "metadata": {},
   "outputs": [],
   "source": [
    "#aux4 = range(1,10,step=0.01/4)\n",
    "#spl4 = scipyinterpolate.splrep(aux4, sin.(aux4),k=2)\n",
    "func4 = cubic_spline_interpolation(x4, var4,  extrapolation_bc = Line());\n",
    "#func4(x) = scipyinterpolate.splev(x, spl4)"
   ]
  },
  {
   "cell_type": "code",
   "execution_count": 508,
   "id": "6ca22fcf",
   "metadata": {},
   "outputs": [
    {
     "data": {
      "application/vnd.plotly.v1+json": {
       "data": [
        {
         "colorbar": {
          "len": 0.8657316272965879,
          "title": "",
          "x": 0.9934383202099737,
          "y": 0.5086805555555556
         },
         "legendgroup": "m",
         "marker": {
          "color": "rgba(0, 154, 250, 1.000)",
          "line": {
           "color": "rgba(0, 0, 0, 1.000)",
           "width": 1
          },
          "size": 8,
          "symbol": "circle"
         },
         "mode": "markers",
         "name": "m",
         "showlegend": true,
         "type": "scatter",
         "x": [
          0,
          0.0125,
          0.025,
          0.0375,
          0.05,
          0.0625,
          0.075,
          0.0875,
          0.1,
          0.1125,
          0.125,
          0.1375,
          0.15,
          0.1625,
          0.175,
          0.1875,
          0.2,
          0.2125,
          0.225,
          0.2375,
          0.25,
          0.2625,
          0.275,
          0.2875,
          0.3,
          0.3125,
          0.325,
          0.3375,
          0.35,
          0.3625,
          0.375,
          0.3875,
          0.4,
          0.4125,
          0.425,
          0.4375,
          0.45,
          0.4625,
          0.475,
          0.4875,
          0.5,
          0.5125,
          0.525,
          0.5375,
          0.55,
          0.5625,
          0.575,
          0.5875,
          0.6,
          0.6125,
          0.625,
          0.6375,
          0.65,
          0.6625,
          0.675,
          0.6875,
          0.7,
          0.7125,
          0.725,
          0.7375,
          0.75,
          0.7625,
          0.775,
          0.7875,
          0.8,
          0.8125,
          0.825,
          0.8375,
          0.85,
          0.8625,
          0.875,
          0.8875,
          0.9,
          0.9125,
          0.925,
          0.9375,
          0.95,
          0.9625,
          0.975,
          0.9875,
          1
         ],
         "xaxis": "x",
         "y": [
          2.524354896707238e-29,
          2.653548819787416e-13,
          3.4267112225405353e-13,
          9.395592942292557e-13,
          1.420675575019025e-12,
          1.8742113002375045e-12,
          9.107153960577793e-12,
          4.578985844218926e-11,
          6.572037829890896e-11,
          3.987475309436353e-10,
          3.773518861408886e-10,
          2.6421284038432525e-09,
          1.9166246971927022e-09,
          1.4443760461586736e-08,
          8.638871438808261e-09,
          6.986025300685386e-08,
          3.4738202990377333e-08,
          2.9737912928834176e-07,
          1.232462226039363e-07,
          1.1249401861592031e-06,
          3.753102887126339e-07,
          3.6386847290474774e-06,
          9.248651283136258e-07,
          9.638011608303909e-06,
          1.589407109591455e-06,
          1.753457245022398e-05,
          8.16209621470193e-07,
          9.065308822345242e-06,
          4.7345214393285096e-06,
          6.54255175625007e-05,
          1.2857863299867156e-05,
          0.00016716245828832244,
          1.5473389050613129e-06,
          2.0533200623451542e-05,
          6.0076637293460244e-05,
          0.0007137979816407847,
          6.776908688743699e-05,
          0.0001745918120816814,
          5.390734246885076e-05,
          0.0020224027894178986,
          1.782200546746049e-05,
          0.0007294517963032376,
          5.517052185510796e-05,
          0.0013399472947609459,
          9.845308569578215e-05,
          0.000634438899901113,
          9.065554539533505e-05,
          1.654275637963387e-05,
          6.015601903242018e-05,
          7.580763415793168e-05,
          5.6430482521130365e-05,
          5.233238802959672e-05,
          5.6365991120688186e-05,
          5.745464120066046e-05,
          5.636593917834887e-05,
          5.6074223921509514e-05,
          5.636593429236836e-05,
          5.6444097759955625e-05,
          5.636593374291898e-05,
          5.63449897478252e-05,
          5.6365933682300806e-05,
          5.6371545591571426e-05,
          5.636593367586151e-05,
          5.6364429967370455e-05,
          5.636593367519538e-05,
          5.6366336592450494e-05,
          5.6365933674973334e-05,
          5.636582571366677e-05,
          5.6365933675084356e-05,
          5.636596260338855e-05,
          5.6365933675084356e-05,
          5.636592592361822e-05,
          5.6365933675084356e-05,
          5.6365935752311636e-05,
          5.6365933674973334e-05,
          5.6365933117641376e-05,
          5.6365933675084356e-05,
          5.6365933826851844e-05,
          5.636593367519538e-05,
          5.636593362456921e-05,
          5.63659336753064e-05
         ],
         "yaxis": "y"
        },
        {
         "colorbar": {
          "len": 0.8657316272965879,
          "title": "",
          "x": 0.9934383202099737,
          "y": 0.5086805555555556
         },
         "legendgroup": "beta",
         "marker": {
          "color": "rgba(227, 111, 71, 1.000)",
          "line": {
           "color": "rgba(0, 0, 0, 1.000)",
           "width": 1
          },
          "size": 8,
          "symbol": "circle"
         },
         "mode": "markers",
         "name": "beta",
         "showlegend": true,
         "type": "scatter",
         "x": [
          0,
          0.0125,
          0.025,
          0.0375,
          0.05,
          0.0625,
          0.075,
          0.0875,
          0.1,
          0.1125,
          0.125,
          0.1375,
          0.15,
          0.1625,
          0.175,
          0.1875,
          0.2,
          0.2125,
          0.225,
          0.2375,
          0.25,
          0.2625,
          0.275,
          0.2875,
          0.3,
          0.3125,
          0.325,
          0.3375,
          0.35,
          0.3625,
          0.375,
          0.3875,
          0.4,
          0.4125,
          0.425,
          0.4375,
          0.45,
          0.4625,
          0.475,
          0.4875,
          0.5,
          0.5125,
          0.525,
          0.5375,
          0.55,
          0.5625,
          0.575,
          0.5875,
          0.6,
          0.6125,
          0.625,
          0.6375,
          0.65,
          0.6625,
          0.675,
          0.6875,
          0.7,
          0.7125,
          0.725,
          0.7375,
          0.75,
          0.7625,
          0.775,
          0.7875,
          0.8,
          0.8125,
          0.825,
          0.8375,
          0.85,
          0.8625,
          0.875,
          0.8875,
          0.9,
          0.9125,
          0.925,
          0.9375,
          0.95,
          0.9625,
          0.975,
          0.9875,
          1
         ],
         "xaxis": "x",
         "y": [
          1.9852336278994475e-23,
          4.964467068745265e-08,
          7.94303132948866e-08,
          6.949820505562747e-08,
          9.155543621861291e-12,
          1.29097786558623e-07,
          2.383689934683725e-07,
          2.2853182431822704e-07,
          1.3100999574904205e-10,
          4.665906108967497e-07,
          8.724334517401627e-07,
          8.400580139212062e-07,
          1.4781011333155785e-09,
          1.7320420245251275e-06,
          3.273596917510104e-06,
          3.222621581711114e-06,
          3.1561350064796776e-08,
          6.62903944085397e-06,
          1.207220697123112e-05,
          1.0869048849388985e-05,
          3.605721205655936e-07,
          2.1820533655669064e-05,
          4.305843075331638e-05,
          4.706370033186332e-05,
          1.249429713151009e-06,
          0.00010844906024217002,
          0.00020643116492169216,
          0.00019876180544076485,
          7.833289577515671e-06,
          0.00036955123612894547,
          0.0006552726567582851,
          0.0005553853697678988,
          6.046209492880511e-06,
          0.0009119519368012176,
          0.0014912487703323644,
          0.0011051374867650406,
          0.00020203296560594025,
          0.0020155359821253487,
          0.0031222825043121932,
          0.0024955725073512944,
          0.0006526245549163187,
          0.0014511057254083595,
          0.0026511330388845483,
          0.0021510417258286466,
          0.0008357243339297479,
          0.00017566811018648182,
          0.0005082588715210404,
          0.00011331867321157096,
          0.0004975662206839274,
          0.0008043148075560572,
          0.0008131826715101487,
          0.0006622002623003359,
          0.0004901609055615458,
          0.0004066381547856851,
          0.00040356359901202316,
          0.0004435081461054771,
          0.0004892419436866163,
          0.0005114389546416534,
          0.0005121891631641867,
          0.0005014401350183981,
          0.0004891537409434099,
          0.0004831891847490652,
          0.0004829806975530093,
          0.0004858565240627097,
          0.0004891459360371331,
          0.0004907427610856413,
          0.0004907980231679404,
          0.0004900270637659132,
          0.0004891452981005753,
          0.0004887170096535692,
          0.0004887018812104252,
          0.0004889084467061544,
          0.0004891452453700054,
          0.0004892611248487819,
          0.0004892661611653887,
          0.0004892107375316437,
          0.0004891452375393873,
          0.000489109968119128,
          0.0004891049291761082,
          0.0004891200438655943,
          0.0004891452353681658
         ],
         "yaxis": "y"
        }
       ],
       "layout": {
        "annotations": [
         {
          "font": {
           "color": "rgba(0, 0, 0, 1.000)",
           "family": "sans-serif",
           "size": 20
          },
          "rotation": 0,
          "showarrow": false,
          "text": "Initial Data",
          "x": 0.5370370370370371,
          "xanchor": "center",
          "xref": "paper",
          "y": 1,
          "yanchor": "top",
          "yref": "paper"
         }
        ],
        "height": 400,
        "legend": {
         "bgcolor": "rgba(255, 255, 255, 1.000)",
         "bordercolor": "rgba(0, 0, 0, 1.000)",
         "borderwidth": 1,
         "font": {
          "color": "rgba(0, 0, 0, 1.000)",
          "family": "sans-serif",
          "size": 11
         },
         "title": {
          "font": {
           "color": "rgba(0, 0, 0, 1.000)",
           "family": "sans-serif",
           "size": 15
          },
          "text": ""
         },
         "tracegroupgap": 0,
         "traceorder": "normal",
         "x": 1,
         "xanchor": "auto",
         "y": 1,
         "yanchor": "auto"
        },
        "margin": {
         "b": 20,
         "l": 0,
         "r": 0,
         "t": 20
        },
        "paper_bgcolor": "rgba(255, 255, 255, 1.000)",
        "plot_bgcolor": "rgba(255, 255, 255, 1.000)",
        "showlegend": true,
        "width": 600,
        "xaxis": {
         "anchor": "y",
         "domain": [
          0.08063575386410031,
          0.9934383202099737
         ],
         "gridcolor": "rgba(0, 0, 0, 0.100)",
         "gridwidth": 0.5,
         "linecolor": "rgba(0, 0, 0, 1.000)",
         "mirror": false,
         "range": [
          -0.030000000000000027,
          1.03
         ],
         "showgrid": true,
         "showline": true,
         "showticklabels": true,
         "tickangle": 0,
         "tickcolor": "rgb(0, 0, 0)",
         "tickfont": {
          "color": "rgba(0, 0, 0, 1.000)",
          "family": "sans-serif",
          "size": 11
         },
         "tickmode": "array",
         "ticks": "inside",
         "ticktext": [
          "0.00",
          "0.25",
          "0.50",
          "0.75",
          "1.00"
         ],
         "tickvals": [
          0,
          0.25,
          0.5,
          0.75,
          1
         ],
         "title": "x",
         "titlefont": {
          "color": "rgba(0, 0, 0, 1.000)",
          "family": "sans-serif",
          "size": 15
         },
         "type": "-",
         "visible": true,
         "zeroline": false,
         "zerolinecolor": "rgba(0, 0, 0, 1.000)"
        },
        "yaxis": {
         "anchor": "x",
         "domain": [
          0.07581474190726165,
          0.9415463692038496
         ],
         "gridcolor": "rgba(0, 0, 0, 0.100)",
         "gridwidth": 0.5,
         "linecolor": "rgba(0, 0, 0, 1.000)",
         "mirror": false,
         "range": [
          -9.366847512936585e-05,
          0.003215950979441559
         ],
         "showgrid": true,
         "showline": true,
         "showticklabels": true,
         "tickangle": 0,
         "tickcolor": "rgb(0, 0, 0)",
         "tickfont": {
          "color": "rgba(0, 0, 0, 1.000)",
          "family": "sans-serif",
          "size": 11
         },
         "tickmode": "array",
         "ticks": "inside",
         "ticktext": [
          "0.000",
          "0.001",
          "0.002",
          "0.003"
         ],
         "tickvals": [
          0,
          0.001,
          0.002,
          0.003
         ],
         "title": "",
         "titlefont": {
          "color": "rgba(0, 0, 0, 1.000)",
          "family": "sans-serif",
          "size": 15
         },
         "type": "-",
         "visible": true,
         "zeroline": false,
         "zerolinecolor": "rgba(0, 0, 0, 1.000)"
        }
       }
      },
      "text/html": [
       "    <div id=\"a09df3bf-d089-4e0a-a3d1-2069b3fb09e8\" style=\"width:600px;height:400px;\"></div>\n",
       "    <script>\n",
       "        requirejs.config({\n",
       "        paths: {\n",
       "            plotly: 'https://cdn.plot.ly/plotly-2.6.3.min'\n",
       "        }\n",
       "    });\n",
       "    require(['plotly'], function (Plotly) {\n",
       "\n",
       "    Plotly.newPlot('a09df3bf-d089-4e0a-a3d1-2069b3fb09e8', [\n",
       "    {\n",
       "        \"xaxis\": \"x\",\n",
       "        \"colorbar\": {\n",
       "            \"y\": 0.5086805555555556,\n",
       "            \"title\": \"\",\n",
       "            \"len\": 0.8657316272965879,\n",
       "            \"x\": 0.9934383202099737\n",
       "        },\n",
       "        \"yaxis\": \"y\",\n",
       "        \"x\": [\n",
       "            0.0,\n",
       "            0.0125,\n",
       "            0.025,\n",
       "            0.0375,\n",
       "            0.05,\n",
       "            0.0625,\n",
       "            0.075,\n",
       "            0.0875,\n",
       "            0.1,\n",
       "            0.1125,\n",
       "            0.125,\n",
       "            0.1375,\n",
       "            0.15,\n",
       "            0.1625,\n",
       "            0.175,\n",
       "            0.1875,\n",
       "            0.2,\n",
       "            0.2125,\n",
       "            0.225,\n",
       "            0.2375,\n",
       "            0.25,\n",
       "            0.2625,\n",
       "            0.275,\n",
       "            0.2875,\n",
       "            0.3,\n",
       "            0.3125,\n",
       "            0.325,\n",
       "            0.3375,\n",
       "            0.35,\n",
       "            0.3625,\n",
       "            0.375,\n",
       "            0.3875,\n",
       "            0.4,\n",
       "            0.4125,\n",
       "            0.425,\n",
       "            0.4375,\n",
       "            0.45,\n",
       "            0.4625,\n",
       "            0.475,\n",
       "            0.4875,\n",
       "            0.5,\n",
       "            0.5125,\n",
       "            0.525,\n",
       "            0.5375,\n",
       "            0.55,\n",
       "            0.5625,\n",
       "            0.575,\n",
       "            0.5875,\n",
       "            0.6,\n",
       "            0.6125,\n",
       "            0.625,\n",
       "            0.6375,\n",
       "            0.65,\n",
       "            0.6625,\n",
       "            0.675,\n",
       "            0.6875,\n",
       "            0.7,\n",
       "            0.7125,\n",
       "            0.725,\n",
       "            0.7375,\n",
       "            0.75,\n",
       "            0.7625,\n",
       "            0.775,\n",
       "            0.7875,\n",
       "            0.8,\n",
       "            0.8125,\n",
       "            0.825,\n",
       "            0.8375,\n",
       "            0.85,\n",
       "            0.8625,\n",
       "            0.875,\n",
       "            0.8875,\n",
       "            0.9,\n",
       "            0.9125,\n",
       "            0.925,\n",
       "            0.9375,\n",
       "            0.95,\n",
       "            0.9625,\n",
       "            0.975,\n",
       "            0.9875,\n",
       "            1.0\n",
       "        ],\n",
       "        \"showlegend\": true,\n",
       "        \"mode\": \"markers\",\n",
       "        \"name\": \"m\",\n",
       "        \"legendgroup\": \"m\",\n",
       "        \"marker\": {\n",
       "            \"symbol\": \"circle\",\n",
       "            \"color\": \"rgba(0, 154, 250, 1.000)\",\n",
       "            \"line\": {\n",
       "                \"color\": \"rgba(0, 0, 0, 1.000)\",\n",
       "                \"width\": 1\n",
       "            },\n",
       "            \"size\": 8\n",
       "        },\n",
       "        \"y\": [\n",
       "            2.524354896707238e-29,\n",
       "            2.653548819787416e-13,\n",
       "            3.4267112225405353e-13,\n",
       "            9.395592942292557e-13,\n",
       "            1.420675575019025e-12,\n",
       "            1.8742113002375045e-12,\n",
       "            9.107153960577793e-12,\n",
       "            4.578985844218926e-11,\n",
       "            6.572037829890896e-11,\n",
       "            3.987475309436353e-10,\n",
       "            3.773518861408886e-10,\n",
       "            2.6421284038432525e-9,\n",
       "            1.9166246971927022e-9,\n",
       "            1.4443760461586736e-8,\n",
       "            8.638871438808261e-9,\n",
       "            6.986025300685386e-8,\n",
       "            3.4738202990377333e-8,\n",
       "            2.9737912928834176e-7,\n",
       "            1.232462226039363e-7,\n",
       "            1.1249401861592031e-6,\n",
       "            3.753102887126339e-7,\n",
       "            3.6386847290474774e-6,\n",
       "            9.248651283136258e-7,\n",
       "            9.638011608303909e-6,\n",
       "            1.589407109591455e-6,\n",
       "            1.753457245022398e-5,\n",
       "            8.16209621470193e-7,\n",
       "            9.065308822345242e-6,\n",
       "            4.7345214393285096e-6,\n",
       "            6.54255175625007e-5,\n",
       "            1.2857863299867156e-5,\n",
       "            0.00016716245828832244,\n",
       "            1.5473389050613129e-6,\n",
       "            2.0533200623451542e-5,\n",
       "            6.0076637293460244e-5,\n",
       "            0.0007137979816407847,\n",
       "            6.776908688743699e-5,\n",
       "            0.0001745918120816814,\n",
       "            5.390734246885076e-5,\n",
       "            0.0020224027894178986,\n",
       "            1.782200546746049e-5,\n",
       "            0.0007294517963032376,\n",
       "            5.517052185510796e-5,\n",
       "            0.0013399472947609459,\n",
       "            9.845308569578215e-5,\n",
       "            0.000634438899901113,\n",
       "            9.065554539533505e-5,\n",
       "            1.654275637963387e-5,\n",
       "            6.015601903242018e-5,\n",
       "            7.580763415793168e-5,\n",
       "            5.6430482521130365e-5,\n",
       "            5.233238802959672e-5,\n",
       "            5.6365991120688186e-5,\n",
       "            5.745464120066046e-5,\n",
       "            5.636593917834887e-5,\n",
       "            5.6074223921509514e-5,\n",
       "            5.636593429236836e-5,\n",
       "            5.6444097759955625e-5,\n",
       "            5.636593374291898e-5,\n",
       "            5.63449897478252e-5,\n",
       "            5.6365933682300806e-5,\n",
       "            5.6371545591571426e-5,\n",
       "            5.636593367586151e-5,\n",
       "            5.6364429967370455e-5,\n",
       "            5.636593367519538e-5,\n",
       "            5.6366336592450494e-5,\n",
       "            5.6365933674973334e-5,\n",
       "            5.636582571366677e-5,\n",
       "            5.6365933675084356e-5,\n",
       "            5.636596260338855e-5,\n",
       "            5.6365933675084356e-5,\n",
       "            5.636592592361822e-5,\n",
       "            5.6365933675084356e-5,\n",
       "            5.6365935752311636e-5,\n",
       "            5.6365933674973334e-5,\n",
       "            5.6365933117641376e-5,\n",
       "            5.6365933675084356e-5,\n",
       "            5.6365933826851844e-5,\n",
       "            5.636593367519538e-5,\n",
       "            5.636593362456921e-5,\n",
       "            5.63659336753064e-5\n",
       "        ],\n",
       "        \"type\": \"scatter\"\n",
       "    },\n",
       "    {\n",
       "        \"xaxis\": \"x\",\n",
       "        \"colorbar\": {\n",
       "            \"y\": 0.5086805555555556,\n",
       "            \"title\": \"\",\n",
       "            \"len\": 0.8657316272965879,\n",
       "            \"x\": 0.9934383202099737\n",
       "        },\n",
       "        \"yaxis\": \"y\",\n",
       "        \"x\": [\n",
       "            0.0,\n",
       "            0.0125,\n",
       "            0.025,\n",
       "            0.0375,\n",
       "            0.05,\n",
       "            0.0625,\n",
       "            0.075,\n",
       "            0.0875,\n",
       "            0.1,\n",
       "            0.1125,\n",
       "            0.125,\n",
       "            0.1375,\n",
       "            0.15,\n",
       "            0.1625,\n",
       "            0.175,\n",
       "            0.1875,\n",
       "            0.2,\n",
       "            0.2125,\n",
       "            0.225,\n",
       "            0.2375,\n",
       "            0.25,\n",
       "            0.2625,\n",
       "            0.275,\n",
       "            0.2875,\n",
       "            0.3,\n",
       "            0.3125,\n",
       "            0.325,\n",
       "            0.3375,\n",
       "            0.35,\n",
       "            0.3625,\n",
       "            0.375,\n",
       "            0.3875,\n",
       "            0.4,\n",
       "            0.4125,\n",
       "            0.425,\n",
       "            0.4375,\n",
       "            0.45,\n",
       "            0.4625,\n",
       "            0.475,\n",
       "            0.4875,\n",
       "            0.5,\n",
       "            0.5125,\n",
       "            0.525,\n",
       "            0.5375,\n",
       "            0.55,\n",
       "            0.5625,\n",
       "            0.575,\n",
       "            0.5875,\n",
       "            0.6,\n",
       "            0.6125,\n",
       "            0.625,\n",
       "            0.6375,\n",
       "            0.65,\n",
       "            0.6625,\n",
       "            0.675,\n",
       "            0.6875,\n",
       "            0.7,\n",
       "            0.7125,\n",
       "            0.725,\n",
       "            0.7375,\n",
       "            0.75,\n",
       "            0.7625,\n",
       "            0.775,\n",
       "            0.7875,\n",
       "            0.8,\n",
       "            0.8125,\n",
       "            0.825,\n",
       "            0.8375,\n",
       "            0.85,\n",
       "            0.8625,\n",
       "            0.875,\n",
       "            0.8875,\n",
       "            0.9,\n",
       "            0.9125,\n",
       "            0.925,\n",
       "            0.9375,\n",
       "            0.95,\n",
       "            0.9625,\n",
       "            0.975,\n",
       "            0.9875,\n",
       "            1.0\n",
       "        ],\n",
       "        \"showlegend\": true,\n",
       "        \"mode\": \"markers\",\n",
       "        \"name\": \"beta\",\n",
       "        \"legendgroup\": \"beta\",\n",
       "        \"marker\": {\n",
       "            \"symbol\": \"circle\",\n",
       "            \"color\": \"rgba(227, 111, 71, 1.000)\",\n",
       "            \"line\": {\n",
       "                \"color\": \"rgba(0, 0, 0, 1.000)\",\n",
       "                \"width\": 1\n",
       "            },\n",
       "            \"size\": 8\n",
       "        },\n",
       "        \"y\": [\n",
       "            1.9852336278994475e-23,\n",
       "            4.964467068745265e-8,\n",
       "            7.94303132948866e-8,\n",
       "            6.949820505562747e-8,\n",
       "            9.155543621861291e-12,\n",
       "            1.29097786558623e-7,\n",
       "            2.383689934683725e-7,\n",
       "            2.2853182431822704e-7,\n",
       "            1.3100999574904205e-10,\n",
       "            4.665906108967497e-7,\n",
       "            8.724334517401627e-7,\n",
       "            8.400580139212062e-7,\n",
       "            1.4781011333155785e-9,\n",
       "            1.7320420245251275e-6,\n",
       "            3.273596917510104e-6,\n",
       "            3.222621581711114e-6,\n",
       "            3.1561350064796776e-8,\n",
       "            6.62903944085397e-6,\n",
       "            1.207220697123112e-5,\n",
       "            1.0869048849388985e-5,\n",
       "            3.605721205655936e-7,\n",
       "            2.1820533655669064e-5,\n",
       "            4.305843075331638e-5,\n",
       "            4.706370033186332e-5,\n",
       "            1.249429713151009e-6,\n",
       "            0.00010844906024217002,\n",
       "            0.00020643116492169216,\n",
       "            0.00019876180544076485,\n",
       "            7.833289577515671e-6,\n",
       "            0.00036955123612894547,\n",
       "            0.0006552726567582851,\n",
       "            0.0005553853697678988,\n",
       "            6.046209492880511e-6,\n",
       "            0.0009119519368012176,\n",
       "            0.0014912487703323644,\n",
       "            0.0011051374867650406,\n",
       "            0.00020203296560594025,\n",
       "            0.0020155359821253487,\n",
       "            0.0031222825043121932,\n",
       "            0.0024955725073512944,\n",
       "            0.0006526245549163187,\n",
       "            0.0014511057254083595,\n",
       "            0.0026511330388845483,\n",
       "            0.0021510417258286466,\n",
       "            0.0008357243339297479,\n",
       "            0.00017566811018648182,\n",
       "            0.0005082588715210404,\n",
       "            0.00011331867321157096,\n",
       "            0.0004975662206839274,\n",
       "            0.0008043148075560572,\n",
       "            0.0008131826715101487,\n",
       "            0.0006622002623003359,\n",
       "            0.0004901609055615458,\n",
       "            0.0004066381547856851,\n",
       "            0.00040356359901202316,\n",
       "            0.0004435081461054771,\n",
       "            0.0004892419436866163,\n",
       "            0.0005114389546416534,\n",
       "            0.0005121891631641867,\n",
       "            0.0005014401350183981,\n",
       "            0.0004891537409434099,\n",
       "            0.0004831891847490652,\n",
       "            0.0004829806975530093,\n",
       "            0.0004858565240627097,\n",
       "            0.0004891459360371331,\n",
       "            0.0004907427610856413,\n",
       "            0.0004907980231679404,\n",
       "            0.0004900270637659132,\n",
       "            0.0004891452981005753,\n",
       "            0.0004887170096535692,\n",
       "            0.0004887018812104252,\n",
       "            0.0004889084467061544,\n",
       "            0.0004891452453700054,\n",
       "            0.0004892611248487819,\n",
       "            0.0004892661611653887,\n",
       "            0.0004892107375316437,\n",
       "            0.0004891452375393873,\n",
       "            0.000489109968119128,\n",
       "            0.0004891049291761082,\n",
       "            0.0004891200438655943,\n",
       "            0.0004891452353681658\n",
       "        ],\n",
       "        \"type\": \"scatter\"\n",
       "    }\n",
       "]\n",
       ", {\n",
       "    \"showlegend\": true,\n",
       "    \"xaxis\": {\n",
       "        \"showticklabels\": true,\n",
       "        \"gridwidth\": 0.5,\n",
       "        \"tickvals\": [\n",
       "            0.0,\n",
       "            0.25,\n",
       "            0.5,\n",
       "            0.75,\n",
       "            1.0\n",
       "        ],\n",
       "        \"range\": [\n",
       "            -0.030000000000000027,\n",
       "            1.03\n",
       "        ],\n",
       "        \"domain\": [\n",
       "            0.08063575386410031,\n",
       "            0.9934383202099737\n",
       "        ],\n",
       "        \"mirror\": false,\n",
       "        \"tickangle\": 0,\n",
       "        \"showline\": true,\n",
       "        \"ticktext\": [\n",
       "            \"0.00\",\n",
       "            \"0.25\",\n",
       "            \"0.50\",\n",
       "            \"0.75\",\n",
       "            \"1.00\"\n",
       "        ],\n",
       "        \"zeroline\": false,\n",
       "        \"tickfont\": {\n",
       "            \"color\": \"rgba(0, 0, 0, 1.000)\",\n",
       "            \"family\": \"sans-serif\",\n",
       "            \"size\": 11\n",
       "        },\n",
       "        \"zerolinecolor\": \"rgba(0, 0, 0, 1.000)\",\n",
       "        \"anchor\": \"y\",\n",
       "        \"visible\": true,\n",
       "        \"ticks\": \"inside\",\n",
       "        \"tickmode\": \"array\",\n",
       "        \"linecolor\": \"rgba(0, 0, 0, 1.000)\",\n",
       "        \"showgrid\": true,\n",
       "        \"title\": \"x\",\n",
       "        \"gridcolor\": \"rgba(0, 0, 0, 0.100)\",\n",
       "        \"titlefont\": {\n",
       "            \"color\": \"rgba(0, 0, 0, 1.000)\",\n",
       "            \"family\": \"sans-serif\",\n",
       "            \"size\": 15\n",
       "        },\n",
       "        \"tickcolor\": \"rgb(0, 0, 0)\",\n",
       "        \"type\": \"-\"\n",
       "    },\n",
       "    \"paper_bgcolor\": \"rgba(255, 255, 255, 1.000)\",\n",
       "    \"annotations\": [\n",
       "        {\n",
       "            \"yanchor\": \"top\",\n",
       "            \"xanchor\": \"center\",\n",
       "            \"rotation\": -0.0,\n",
       "            \"y\": 1.0,\n",
       "            \"font\": {\n",
       "                \"color\": \"rgba(0, 0, 0, 1.000)\",\n",
       "                \"family\": \"sans-serif\",\n",
       "                \"size\": 20\n",
       "            },\n",
       "            \"yref\": \"paper\",\n",
       "            \"showarrow\": false,\n",
       "            \"text\": \"Initial Data\",\n",
       "            \"xref\": \"paper\",\n",
       "            \"x\": 0.5370370370370371\n",
       "        }\n",
       "    ],\n",
       "    \"height\": 400,\n",
       "    \"margin\": {\n",
       "        \"l\": 0,\n",
       "        \"b\": 20,\n",
       "        \"r\": 0,\n",
       "        \"t\": 20\n",
       "    },\n",
       "    \"plot_bgcolor\": \"rgba(255, 255, 255, 1.000)\",\n",
       "    \"yaxis\": {\n",
       "        \"showticklabels\": true,\n",
       "        \"gridwidth\": 0.5,\n",
       "        \"tickvals\": [\n",
       "            0.0,\n",
       "            0.001,\n",
       "            0.002,\n",
       "            0.003\n",
       "        ],\n",
       "        \"range\": [\n",
       "            -9.366847512936585e-5,\n",
       "            0.003215950979441559\n",
       "        ],\n",
       "        \"domain\": [\n",
       "            0.07581474190726165,\n",
       "            0.9415463692038496\n",
       "        ],\n",
       "        \"mirror\": false,\n",
       "        \"tickangle\": 0,\n",
       "        \"showline\": true,\n",
       "        \"ticktext\": [\n",
       "            \"0.000\",\n",
       "            \"0.001\",\n",
       "            \"0.002\",\n",
       "            \"0.003\"\n",
       "        ],\n",
       "        \"zeroline\": false,\n",
       "        \"tickfont\": {\n",
       "            \"color\": \"rgba(0, 0, 0, 1.000)\",\n",
       "            \"family\": \"sans-serif\",\n",
       "            \"size\": 11\n",
       "        },\n",
       "        \"zerolinecolor\": \"rgba(0, 0, 0, 1.000)\",\n",
       "        \"anchor\": \"x\",\n",
       "        \"visible\": true,\n",
       "        \"ticks\": \"inside\",\n",
       "        \"tickmode\": \"array\",\n",
       "        \"linecolor\": \"rgba(0, 0, 0, 1.000)\",\n",
       "        \"showgrid\": true,\n",
       "        \"title\": \"\",\n",
       "        \"gridcolor\": \"rgba(0, 0, 0, 0.100)\",\n",
       "        \"titlefont\": {\n",
       "            \"color\": \"rgba(0, 0, 0, 1.000)\",\n",
       "            \"family\": \"sans-serif\",\n",
       "            \"size\": 15\n",
       "        },\n",
       "        \"tickcolor\": \"rgb(0, 0, 0)\",\n",
       "        \"type\": \"-\"\n",
       "    },\n",
       "    \"legend\": {\n",
       "        \"yanchor\": \"auto\",\n",
       "        \"xanchor\": \"auto\",\n",
       "        \"bordercolor\": \"rgba(0, 0, 0, 1.000)\",\n",
       "        \"bgcolor\": \"rgba(255, 255, 255, 1.000)\",\n",
       "        \"borderwidth\": 1,\n",
       "        \"tracegroupgap\": 0,\n",
       "        \"y\": 1.0,\n",
       "        \"font\": {\n",
       "            \"color\": \"rgba(0, 0, 0, 1.000)\",\n",
       "            \"family\": \"sans-serif\",\n",
       "            \"size\": 11\n",
       "        },\n",
       "        \"title\": {\n",
       "            \"font\": {\n",
       "                \"color\": \"rgba(0, 0, 0, 1.000)\",\n",
       "                \"family\": \"sans-serif\",\n",
       "                \"size\": 15\n",
       "            },\n",
       "            \"text\": \"\"\n",
       "        },\n",
       "        \"traceorder\": \"normal\",\n",
       "        \"x\": 1.0\n",
       "    },\n",
       "    \"width\": 600\n",
       "}\n",
       ");\n",
       "    });\n",
       "    </script>\n"
      ]
     },
     "execution_count": 508,
     "metadata": {},
     "output_type": "execute_result"
    }
   ],
   "source": [
    "using Plots #showing initial data and the initial status of the horizon finder\n",
    "plotlyjs()\n",
    "aux_test = range(0,1,step=0.001)\n",
    "\n",
    "#plot(aux, [(abs.(func4(aux).-func2(aux))) abs.(func2(aux).-func(aux))], xaxis=\"x\",title=\"Initial Data\", labels=[\"m\" \"beta\" \"psi\" \"psi,x\"])#, xlim=[0, 1])#,ylim=[0.001 1*10])\n",
    "scatter(x4, [abs.((func4(x4).-func2(x4)))*16 abs.(func2(x4).-func(x4))], xaxis=\"x\",title=\"Initial Data\", labels=[\"m\" \"beta\" \"psi\" \"psi,x\"])#, xlim=[0, 1])#,ylim=[0.001 1*10])\n",
    "\n"
   ]
  },
  {
   "cell_type": "code",
   "execution_count": 502,
   "id": "ec2821c1",
   "metadata": {},
   "outputs": [
    {
     "data": {
      "text/plain": [
       "21×3 Matrix{Float64}:\n",
       " 0.0   0.0   0.0\n",
       " 0.05  0.05  0.05\n",
       " 0.1   0.1   0.1\n",
       " 0.15  0.15  0.15\n",
       " 0.2   0.2   0.2\n",
       " 0.25  0.25  0.25\n",
       " 0.3   0.3   0.3\n",
       " 0.35  0.35  0.35\n",
       " 0.4   0.4   0.4\n",
       " 0.45  0.45  0.45\n",
       " 0.5   0.5   0.5\n",
       " 0.55  0.55  0.55\n",
       " 0.6   0.6   0.6\n",
       " 0.65  0.65  0.65\n",
       " 0.7   0.7   0.7\n",
       " 0.75  0.75  0.75\n",
       " 0.8   0.8   0.8\n",
       " 0.85  0.85  0.85\n",
       " 0.9   0.9   0.9\n",
       " 0.95  0.95  0.95\n",
       " 1.0   1.0   1.0"
      ]
     },
     "execution_count": 502,
     "metadata": {},
     "output_type": "execute_result"
    }
   ],
   "source": [
    "[x1 x2[1:2:length(x2)] x4[1:4:length(x4)]]"
   ]
  },
  {
   "cell_type": "code",
   "execution_count": 33,
   "id": "a282b147",
   "metadata": {},
   "outputs": [
    {
     "data": {
      "text/plain": [
       "101-element Vector{Float64}:\n",
       " -2.168404344971009e-19\n",
       "  0.0\n",
       "  6.938893903907228e-18\n",
       "  1.3877787807814457e-17\n",
       " -1.3877787807814457e-17\n",
       "  0.0\n",
       " -2.7755575615628914e-17\n",
       "  5.551115123125783e-17\n",
       "  2.7755575615628914e-17\n",
       "  0.0\n",
       "  5.551115123125783e-17\n",
       " -5.551115123125783e-17\n",
       "  0.0\n",
       "  ⋮\n",
       "  5.551115123125783e-17\n",
       " -5.551115123125783e-17\n",
       " -5.551115123125783e-17\n",
       "  5.551115123125783e-17\n",
       "  5.551115123125783e-17\n",
       "  0.0\n",
       "  0.0\n",
       " -5.551115123125783e-17\n",
       "  2.7755575615628914e-17\n",
       "  2.7755575615628914e-17\n",
       "  2.7755575615628914e-17\n",
       "  0.0"
      ]
     },
     "execution_count": 33,
     "metadata": {},
     "output_type": "execute_result"
    }
   ],
   "source": [
    "func(aux_test).-func2(aux_test)"
   ]
  },
  {
   "cell_type": "code",
   "execution_count": 519,
   "id": "abfbd8f4",
   "metadata": {},
   "outputs": [
    {
     "data": {
      "text/plain": [
       "0.00035"
      ]
     },
     "execution_count": 519,
     "metadata": {},
     "output_type": "execute_result"
    }
   ],
   "source": [
    "T=collect(T)\n",
    "T[8]"
   ]
  },
  {
   "cell_type": "code",
   "execution_count": 498,
   "id": "a4e863b4",
   "metadata": {},
   "outputs": [
    {
     "data": {
      "text/plain": [
       "0.0006"
      ]
     },
     "execution_count": 498,
     "metadata": {},
     "output_type": "execute_result"
    }
   ],
   "source": [
    "T[7]"
   ]
  },
  {
   "cell_type": "code",
   "execution_count": 499,
   "id": "19eefd8f",
   "metadata": {},
   "outputs": [
    {
     "data": {
      "text/plain": [
       "0.00010000000000000005"
      ]
     },
     "execution_count": 499,
     "metadata": {},
     "output_type": "execute_result"
    }
   ],
   "source": [
    "T[8]-T[7]"
   ]
  },
  {
   "cell_type": "code",
   "execution_count": 500,
   "id": "cba0212f",
   "metadata": {},
   "outputs": [
    {
     "data": {
      "text/plain": [
       "0.0001"
      ]
     },
     "execution_count": 500,
     "metadata": {},
     "output_type": "execute_result"
    }
   ],
   "source": [
    "round(T[8]-T[7],digits=8)"
   ]
  },
  {
   "cell_type": "code",
   "execution_count": null,
   "id": "aab227cd",
   "metadata": {
    "papermill": {
     "duration": null,
     "end_time": null,
     "exception": null,
     "start_time": null,
     "status": "completed"
    },
    "tags": []
   },
   "outputs": [],
   "source": []
  },
  {
   "cell_type": "code",
   "execution_count": null,
   "id": "e2ad8ec7",
   "metadata": {},
   "outputs": [],
   "source": []
  },
  {
   "cell_type": "code",
   "execution_count": null,
   "id": "4f25b9c4",
   "metadata": {},
   "outputs": [],
   "source": []
  },
  {
   "cell_type": "code",
   "execution_count": null,
   "id": "92f262e0",
   "metadata": {},
   "outputs": [],
   "source": []
  },
  {
   "cell_type": "code",
   "execution_count": null,
   "id": "2d6f7925",
   "metadata": {
    "papermill": {
     "duration": null,
     "end_time": null,
     "exception": null,
     "start_time": null,
     "status": "completed"
    },
    "tags": []
   },
   "outputs": [],
   "source": []
  },
  {
   "cell_type": "code",
   "execution_count": null,
   "id": "1e5cda18",
   "metadata": {
    "papermill": {
     "duration": null,
     "end_time": null,
     "exception": null,
     "start_time": null,
     "status": "completed"
    },
    "tags": []
   },
   "outputs": [],
   "source": []
  }
 ],
 "metadata": {
  "@webio": {
   "lastCommId": null,
   "lastKernelId": null
  },
  "kernelspec": {
   "display_name": "Julia 1.8.0",
   "language": "julia",
   "name": "julia-1.8"
  },
  "language_info": {
   "file_extension": ".jl",
   "mimetype": "application/julia",
   "name": "julia",
   "version": "1.8.0"
  },
  "papermill": {
   "default_parameters": {},
   "duration": 0.964144,
   "end_time": "2023-03-10T15:49:43.780135",
   "environment_variables": {},
   "exception": null,
   "input_path": "Evolution_ScalarField.ipynb",
   "output_path": "Evolution_ScalarField.ipynb",
   "parameters": {
    "m": 3
   },
   "start_time": "2023-03-10T15:49:42.815991",
   "version": "2.4.0"
  }
 },
 "nbformat": 4,
 "nbformat_minor": 5
}
