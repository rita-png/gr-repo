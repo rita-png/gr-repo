{
 "cells": [
  {
   "cell_type": "code",
   "execution_count": null,
   "id": "306b8ccb",
   "metadata": {},
   "outputs": [],
   "source": [
    "import pandas as pd\n",
    "import numpy as np\n",
    "import os"
   ]
  },
  {
   "cell_type": "code",
   "execution_count": null,
   "id": "a22146cd",
   "metadata": {},
   "outputs": [],
   "source": [
    "#RES 1\n",
    "resolution = 1\n",
    "dir = \"/home/rita13santos/Desktop/MSc Thesis/DATA/res{}\".format(resolution)\n",
    "count=0\n",
    "for path in os.listdir(dir):\n",
    "    # check if current path is a file\n",
    "    if os.path.isfile(os.path.join(dir, path)):\n",
    "        count += 1\n",
    "print('File count in dir', dir, 'is: ', count)\n",
    "\n",
    "y=[]\n",
    "\n",
    "df = pd.read_csv(dir + \"/time_step{}.csv\".format(1), header=None)\n",
    "print(df)\n",
    "df=df.to_numpy()\n",
    "df=np.transpose(df)\n",
    "\n",
    "print(df[0])\n",
    "\n",
    "f=[]\n",
    "g=[]\n",
    "#iterate over files in dir\n",
    "for i in range(count):\n",
    "    df = pd.read_csv(dir + \"/time_step{}.csv\".format(i+1), header=None)\n",
    "    df = df.to_numpy()\n",
    "    df = np.transpose(df)\n",
    "    f.append(df[0])\n",
    "    g.append(df[1])\n",
    "\n",
    "# f[i] is the array of the values of f on the whole grid on time step i\n",
    "\n",
    "print(len(f))\n",
    "\n",
    "print(len(f[0]))"
   ]
  },
  {
   "cell_type": "code",
   "execution_count": null,
   "id": "7af4e542",
   "metadata": {},
   "outputs": [],
   "source": [
    "res=[1,2,4]\n",
    "\n",
    "dataf=[]\n",
    "datag=[]\n",
    "\n",
    "for resolution in res:\n",
    "    dir = \"/home/rita13santos/Desktop/MSc Thesis/DATA/res{}\".format(resolution)\n",
    "\n",
    "    print(dir)\n",
    "    \n",
    "    count=0\n",
    "    for path in os.listdir(dir):\n",
    "        # check if current path is a file\n",
    "        if os.path.isfile(os.path.join(dir, path)):\n",
    "            count += 1\n",
    "    print('File count in dir', dir, 'is: ', count)\n",
    "\n",
    "    y=[]\n",
    "\n",
    "    df = pd.read_csv(dir + \"/time_step{}.csv\".format(1), header=None)\n",
    "    print(df)\n",
    "    df=df.to_numpy()\n",
    "    df=np.transpose(f)\n",
    "\n",
    "    print(df[0])\n",
    "\n",
    "    f=[]\n",
    "    g=[]\n",
    "    #iterate over files in dir\n",
    "    for i in range(count):\n",
    "        df = pd.read_csv(dir + \"/time_step{}.csv\".format(i+1), header=None)\n",
    "        df = df.to_numpy()\n",
    "        df = np.transpose(df)\n",
    "        f.append(df[0])\n",
    "        g.append(df[1])\n",
    "\n",
    "    # f[i] is the array of the values of f on the whole grid on time step i\n",
    "\n",
    "    print(len(f))\n",
    "\n",
    "    print(len(f[0]))\n",
    "    \n",
    "    dataf.append(f)\n",
    "    datag.append(g)"
   ]
  },
  {
   "cell_type": "code",
   "execution_count": null,
   "id": "2519b15f",
   "metadata": {},
   "outputs": [],
   "source": [
    "print(dataf[0][0]) #this is the array of the value of f all over the grid on timestep 0 with resolution 1\n",
    "\n",
    "print(dataf[0][1]) #this is the array of the value of f all over the grid on timestep 1 with resolution 1\n",
    "\n",
    "print(dataf[1][0]) #this is the array of the value of f all over the grid on timestep 0 with resolution 2\n",
    "print(len(dataf))"
   ]
  },
  {
   "cell_type": "code",
   "execution_count": null,
   "id": "89c52505",
   "metadata": {},
   "outputs": [],
   "source": [
    "print(len(dataf[0][0])) #this gives the number of gridpoints with resolution 1\n",
    "\n",
    "print(len(dataf[1][0])) #this gives the number of gridpoints with resolution 2\n",
    "\n",
    "print(len(dataf[0])) #this give the number of timesteps"
   ]
  },
  {
   "cell_type": "code",
   "execution_count": null,
   "id": "3339aeb8",
   "metadata": {},
   "outputs": [],
   "source": [
    "print(dataf[1][0][1]) # dataf indexes give res, time then gridpoint"
   ]
  },
  {
   "cell_type": "code",
   "execution_count": null,
   "id": "d75b8911",
   "metadata": {},
   "outputs": [],
   "source": [
    "diff = []\n",
    "\n",
    "for k in range(len(dataf[0])): #iterate over timesteps\n",
    "    aux = []\n",
    "    for i in range(len(dataf[1][0])):#iterate on the grid with higher resolution\n",
    "        a = 2\n",
    "        if ((i>1) and (i < (len(dataf[1][0])-2)) and ((i%2)==0)): #ignoring ghost points\n",
    "            aux.append(dataf[1][k][i]-dataf[0][k][a])\n",
    "            a = a+1\n",
    "    diff.append(aux)"
   ]
  },
  {
   "cell_type": "code",
   "execution_count": null,
   "id": "6f6a660c",
   "metadata": {},
   "outputs": [],
   "source": [
    "print(diff)"
   ]
  },
  {
   "cell_type": "code",
   "execution_count": null,
   "id": "7189a996",
   "metadata": {},
   "outputs": [],
   "source": [
    "import matplotlib.pyplot as plt\n",
    "import numpy as np\n",
    "\n",
    "dx = 0.025 # this is the dx when the grid has resolution 1\n",
    "\n",
    "\n",
    "plt_x = np.linspace(0, 1600, len(diff[0])) * dx\n",
    "print(plt_x[len(diff[0])-1])\n",
    "\n",
    "\n",
    "plt_y = diff[99]\n",
    "\n",
    "plt.plot(plt_x, plt_y)\n",
    "\n",
    "plt.ylabel('some numbers')\n",
    "plt.show()\n",
    "\n"
   ]
  },
  {
   "cell_type": "markdown",
   "id": "52719f95",
   "metadata": {},
   "source": [
    "Plotting f with dx and dx2 and differences :D"
   ]
  },
  {
   "cell_type": "code",
   "execution_count": null,
   "id": "84d69697",
   "metadata": {},
   "outputs": [],
   "source": [
    "# for t=0\n",
    "\n",
    "aux = []\n",
    "for i in range(len(dataf[1][0])):#iterate on the grid with higher resolution\n",
    "    a = 2\n",
    "    if ((i<=1) or (i >= (len(dataf[1][0])-2)) or ((i%2)==0)): #ignoring ghost points\n",
    "        aux.append(dataf[1][0][i])\n",
    "        a = a+1\n",
    "\n",
    "\n",
    "print(len(aux))\n",
    "print(len(plt_x))\n",
    "print(len(plt_xx))\n",
    "print(len(dataf[0][0]))\n",
    "\n",
    "plt_x = np.linspace(0, 1600, 1601) * dx\n",
    "plt_xx = np.linspace(0, 1600+4,1605) * dx\n",
    "\n",
    "#plt.plot(plt_xx, dataf[0][0])\n",
    "#plt.plot(plt_xx, dataf[0][0])\n",
    "plt.plot(plt_xx, dataf[0][0]-aux)\n",
    "\n",
    "#plt.plot(plt_xx, aux)\n",
    "plt.show()\n",
    "\n"
   ]
  },
  {
   "cell_type": "markdown",
   "id": "7222bf97",
   "metadata": {},
   "source": [
    "Resolution 4"
   ]
  },
  {
   "cell_type": "code",
   "execution_count": null,
   "id": "bee07068",
   "metadata": {},
   "outputs": [],
   "source": [
    "# for t=0\n",
    "\n",
    "aux2 = []\n",
    "for i in range(len(dataf[2][0])):#iterate on the grid with higher resolution\n",
    "    a = 2\n",
    "    if ((i<=1) or (i >= (len(dataf[2][0])-2)) or (((i-2)%4)==0)): #ignoring ghost points\n",
    "        aux2.append(dataf[2][0][i])\n",
    "        a = a+1\n",
    "\n",
    "print(len(aux2))\n",
    "print(len(aux))\n",
    "print(len(plt_xx))\n",
    "\n",
    "plt.plot(plt_xx, aux-dataf[0][0])\n",
    "plt.plot(plt_xx, np.subtract(aux2,aux)*2)\n",
    "\n",
    "plt.show()"
   ]
  },
  {
   "cell_type": "code",
   "execution_count": null,
   "id": "76828f84",
   "metadata": {},
   "outputs": [],
   "source": [
    "print(plt_x)\n",
    "\n",
    "print(plt_xx)\n",
    "\n",
    "\"\"\"cst = np.zeros(len(plt_x))\n",
    "plt.scatter(plt_x,cst, 0.0001)\n",
    "plt.ylim(-0.01, 0.01)\"\"\""
   ]
  },
  {
   "cell_type": "markdown",
   "id": "126c0f2a",
   "metadata": {},
   "source": [
    "Plotting Grids\n",
    "\n",
    "\n",
    "COMPARE EXACTLY THE SAME R :)!! needs to be 4* ou 16*\n",
    "plot the same but for the higher resolution\n",
    "\n",
    "automatize :)"
   ]
  },
  {
   "cell_type": "code",
   "execution_count": null,
   "id": "02db6a61",
   "metadata": {},
   "outputs": [],
   "source": [
    "print(len(dataf[0][0]))\n",
    "print(len(aux))"
   ]
  },
  {
   "cell_type": "code",
   "execution_count": null,
   "id": "15e7c04b",
   "metadata": {},
   "outputs": [],
   "source": []
  }
 ],
 "metadata": {
  "kernelspec": {
   "display_name": "Python 3 (ipykernel)",
   "language": "python",
   "name": "python3"
  },
  "language_info": {
   "codemirror_mode": {
    "name": "ipython",
    "version": 3
   },
   "file_extension": ".py",
   "mimetype": "text/x-python",
   "name": "python",
   "nbconvert_exporter": "python",
   "pygments_lexer": "ipython3",
   "version": "3.9.12"
  }
 },
 "nbformat": 4,
 "nbformat_minor": 5
}
