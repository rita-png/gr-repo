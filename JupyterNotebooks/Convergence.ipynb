{
 "cells": [
  {
   "cell_type": "code",
   "execution_count": null,
   "id": "306b8ccb",
   "metadata": {},
   "outputs": [],
   "source": [
    "import pandas as pd\n",
    "import numpy as np\n",
    "import os\n",
    "import matplotlib.pyplot as plt\n",
    "import numpy as np"
   ]
  },
  {
   "cell_type": "markdown",
   "id": "7d60e115",
   "metadata": {},
   "source": [
    "# Reading f and g data for 3 resolutions"
   ]
  },
  {
   "cell_type": "code",
   "execution_count": null,
   "id": "a22146cd",
   "metadata": {},
   "outputs": [],
   "source": [
    "#RES 1\n",
    "resolution = 1\n",
    "dir = \"/home/rita13santos/Desktop/MSc Thesis/DATA/res{}\".format(resolution)\n",
    "count=0\n",
    "for path in os.listdir(dir):\n",
    "    # check if current path is a file\n",
    "    if os.path.isfile(os.path.join(dir, path)):\n",
    "        count += 1\n",
    "print('File count in dir', dir, 'is: ', count)\n",
    "\n",
    "y=[]\n",
    "\n",
    "df = pd.read_csv(dir + \"/time_step{}.csv\".format(1), header=None)\n",
    "print(df)\n",
    "df=df.to_numpy()\n",
    "df=np.transpose(df)\n",
    "\n",
    "print(df[0])\n",
    "\n",
    "f=[]\n",
    "g=[]\n",
    "#iterate over files in dir\n",
    "for i in range(count):\n",
    "    df = pd.read_csv(dir + \"/time_step{}.csv\".format(i+1), header=None)\n",
    "    df = df.to_numpy()\n",
    "    df = np.transpose(df)\n",
    "    f.append(df[0])\n",
    "    g.append(df[1])\n",
    "\n",
    "# f[i] is the array of the values of f on the whole grid on time step i\n",
    "\n",
    "print(len(f))\n",
    "\n",
    "print(len(f[0]))"
   ]
  },
  {
   "cell_type": "code",
   "execution_count": null,
   "id": "7af4e542",
   "metadata": {},
   "outputs": [],
   "source": [
    "res=[1,2,4]\n",
    "\n",
    "dataf=[]\n",
    "datag=[]\n",
    "\n",
    "for resolution in res:\n",
    "    dir = \"/home/rita13santos/Desktop/MSc Thesis/DATA/res{}\".format(resolution)\n",
    "\n",
    "    print(dir)\n",
    "    \n",
    "    count=0\n",
    "    for path in os.listdir(dir):\n",
    "        # check if current path is a file\n",
    "        if os.path.isfile(os.path.join(dir, path)):\n",
    "            count += 1\n",
    "    print('File count in dir', dir, 'is: ', count)\n",
    "\n",
    "\n",
    "    f=[]\n",
    "    g=[]\n",
    "    #iterate over files in dir\n",
    "    for i in range(count):\n",
    "        with pd.option_context('display.precision', 20):\n",
    "            df = pd.read_csv(dir + \"/time_step{}.csv\".format(i+1), header=None) #float_precision='round_trip')\n",
    "            #print(df)\n",
    "        df = df.to_numpy()\n",
    "        df = np.transpose(df)\n",
    "        print(\"{0:.18f}\".format(df[0][0]))\n",
    "        f.append(df[0])\n",
    "        g.append(df[1])\n",
    "\n",
    "    # f[i] is the array of the values of f on the whole grid on time step i\n",
    "    \n",
    "    print(len(f))\n",
    "\n",
    "    print(len(f[0]))\n",
    "    \n",
    "    dataf.append(f)\n",
    "    datag.append(g)"
   ]
  },
  {
   "cell_type": "code",
   "execution_count": null,
   "id": "ba049b2b",
   "metadata": {},
   "outputs": [],
   "source": [
    "print(dataf[0][0][0])\n",
    "\n",
    "print(\"{0:.79f}\".format(dataf[0][0][0]))\n",
    "print(\"{0:.64f}\".format(dataf[0][0][0]))"
   ]
  },
  {
   "cell_type": "code",
   "execution_count": null,
   "id": "2519b15f",
   "metadata": {},
   "outputs": [],
   "source": [
    "print(dataf[0][0]) #this is the array of the value of f all over the grid on timestep 0 with resolution 1\n",
    "\n",
    "print(dataf[0][1]) #this is the array of the value of f all over the grid on timestep 1 with resolution 1\n",
    "\n",
    "print(dataf[1][0]) #this is the array of the value of f all over the grid on timestep 0 with resolution 2\n",
    "print(len(dataf))"
   ]
  },
  {
   "cell_type": "code",
   "execution_count": null,
   "id": "89c52505",
   "metadata": {},
   "outputs": [],
   "source": [
    "print(len(dataf[0][0])) #this gives the number of gridpoints with resolution 1\n",
    "\n",
    "print(len(dataf[1][0])) #this gives the number of gridpoints with resolution 2\n",
    "\n",
    "print(len(dataf[0])) #this give the number of timesteps"
   ]
  },
  {
   "cell_type": "code",
   "execution_count": null,
   "id": "3339aeb8",
   "metadata": {},
   "outputs": [],
   "source": [
    "print(dataf[1][0][1]) # dataf indexes give res, time then gridpoint"
   ]
  },
  {
   "cell_type": "code",
   "execution_count": null,
   "id": "d75b8911",
   "metadata": {},
   "outputs": [],
   "source": [
    "diff = []\n",
    "\n",
    "for k in range(len(dataf[0])): #iterate over timesteps\n",
    "    aux = []\n",
    "    for i in range(len(dataf[1][0])):#iterate on the grid with higher resolution\n",
    "        a = 2\n",
    "        if ((i>1) and (i < (len(dataf[1][0])-2)) and ((i%2)==0)): #ignoring ghost points\n",
    "            aux.append(dataf[1][k][i]-dataf[0][k][a])\n",
    "            a = a+1\n",
    "    diff.append(aux)"
   ]
  },
  {
   "cell_type": "markdown",
   "id": "52719f95",
   "metadata": {},
   "source": [
    "# Plotting f with resolutions 1 and 2 and differences :D"
   ]
  },
  {
   "cell_type": "code",
   "execution_count": null,
   "id": "84d69697",
   "metadata": {},
   "outputs": [],
   "source": [
    "# for t=0\n",
    "\n",
    "aux = []\n",
    "for i in range(len(dataf[1][0])):#iterate on the grid with higher resolution\n",
    "    a = 2\n",
    "    if ((i>1) and (i < (len(dataf[1][0])-2)) and ((i%2)==0)): #ignoring ghost points\n",
    "        aux.append(dataf[1][0][i])\n",
    "        a = a+1\n",
    "\n",
    "        \n",
    "dx = 0.025 # this is the dx when the grid has resolution 1\n",
    "\n",
    "plt_x = np.linspace(0, 1600, 1601) * dx\n",
    "plt_xx = np.linspace(0, 1600+4,1605) * dx\n",
    "\n",
    "#subtracting f in both resolutions & ignoring ghost points\n",
    "diff_f_2_1 = np.subtract(dataf[0][0][2:len(dataf[0][0])-2],aux)\n",
    "\n",
    "#plt.plot(plt_x, dataf[0][0][2:len(dataf[0][0])-2], label = 'f')\n",
    "plt.plot(plt_x, diff_f_2_1, label = 'res2-res1')\n",
    "\n",
    "plt.legend()\n",
    "plt.show()\n"
   ]
  },
  {
   "cell_type": "markdown",
   "id": "7222bf97",
   "metadata": {},
   "source": [
    "Resolution 4"
   ]
  },
  {
   "cell_type": "code",
   "execution_count": null,
   "id": "bee07068",
   "metadata": {},
   "outputs": [],
   "source": [
    "# for t=0\n",
    "\n",
    "aux2 = []\n",
    "for i in range(len(dataf[2][0])):#iterate on the grid with higher resolution\n",
    "    a = 2\n",
    "    if ((i>1) and (i < (len(dataf[2][0])-2)) and (((i-2)%4)==0)): #ignoring ghost points\n",
    "        aux2.append(dataf[2][0][i])\n",
    "        a = a+1\n",
    "\n",
    "\n",
    "#subtracting f in both resolutions & ignoring ghost points\n",
    "diff_f_4_2 = np.subtract(aux,aux2)\n",
    "\n",
    "plt.plot(plt_x, diff_f_2_1, label='Res1-res2')\n",
    "plt.plot(plt_x, diff_f_4_2*2, label='Res4-res2 * 2')\n",
    "\n",
    "\n",
    "#plt.plot(plt_x,dataf[0][0][2:len(dataf[0][0])-2],label='f')\n",
    "\n",
    "plt.legend()\n",
    "plt.show()"
   ]
  },
  {
   "cell_type": "markdown",
   "id": "35f09e3c",
   "metadata": {},
   "source": [
    "# Plotting g with resolutions 1 and 2 and differences :D"
   ]
  },
  {
   "cell_type": "code",
   "execution_count": null,
   "id": "71b45af8",
   "metadata": {},
   "outputs": [],
   "source": [
    "# for t=0\n",
    "\n",
    "aux = []\n",
    "for i in range(len(datag[1][0])):#iterate on the grid with higher resolution\n",
    "    a = 2\n",
    "    if ((i>1) and (i < (len(datag[1][0])-2)) and ((i%2)==0)): #ignoring ghost points\n",
    "        aux.append(datag[1][0][i])\n",
    "        a = a+1\n",
    "\n",
    "#subtracting g in both resolutions & ignoring ghost points\n",
    "diff_g_2_1 = np.subtract(datag[0][0][2:len(datag[0][0])-2],aux)\n",
    "\n",
    "plt.plot(plt_x, diff_g_2_1, label='res2-res1')\n",
    "\n",
    "\n",
    "plt.legend()\n",
    "plt.show()\n",
    "\n",
    "plt.title('interesting zoom')\n",
    "plt.plot(plt_x, diff_g_2_1, label='res2-res1')\n",
    "\n",
    "plt.xlim([39.8,40.2])"
   ]
  },
  {
   "cell_type": "markdown",
   "id": "7d7b5ac0",
   "metadata": {},
   "source": [
    "Note: Because of the BC, diff of the value of g in the right boundary approaches 0. "
   ]
  },
  {
   "cell_type": "markdown",
   "id": "45d29ccd",
   "metadata": {},
   "source": [
    "Resolution 4"
   ]
  },
  {
   "cell_type": "code",
   "execution_count": null,
   "id": "f287ab51",
   "metadata": {},
   "outputs": [],
   "source": [
    "# for t=0\n",
    "\n",
    "aux2 = []\n",
    "for i in range(len(datag[2][0])):#iterate on the grid with higher resolution\n",
    "    a = 2\n",
    "    if ((i>1) and (i < (len(datag[2][0])-2)) and (((i-2)%4)==0)): #ignoring ghost points\n",
    "        aux2.append(datag[2][0][i])\n",
    "        a = a+1\n",
    "\n",
    "\n",
    "diff_g_4_2 = np.subtract(aux,aux2)\n",
    "\n",
    "#plt.plot(plt_x, abs(diff_g_2_1), label='Res1-res2')\n",
    "#plt.plot(plt_x, abs(diff_g_4_2)*4-2*0.00125, label='Res4-res2')\n",
    "plt.plot(plt_x[0:len(plt_x)-2], diff_g_2_1[0:len(plt_x)-2], label='Res1-res2')\n",
    "plt.plot(plt_x[0:len(plt_x)-2], diff_g_4_2[0:len(plt_x)-2]*4-2*0.00125, label='(Res4-res2)*4')\n",
    "\n",
    "\n",
    "\n",
    "plt.legend()\n",
    "plt.show()"
   ]
  },
  {
   "cell_type": "markdown",
   "id": "d6c43cb3",
   "metadata": {},
   "source": [
    "Note: not plotting last 2 gridpoints for clarity reasons: the differences was too close to 0 for the plot to look good"
   ]
  },
  {
   "cell_type": "code",
   "execution_count": null,
   "id": "42c20ecd",
   "metadata": {},
   "outputs": [],
   "source": []
  },
  {
   "cell_type": "code",
   "execution_count": null,
   "id": "ba50c3a6",
   "metadata": {},
   "outputs": [],
   "source": []
  },
  {
   "cell_type": "code",
   "execution_count": null,
   "id": "fb7a6d39",
   "metadata": {},
   "outputs": [],
   "source": []
  },
  {
   "cell_type": "markdown",
   "id": "8a29a83c",
   "metadata": {},
   "source": [
    "TO DO:\n",
    "    \n",
    "    print the aux vectors to make sure the diffs plotted are right (especially and the right border of g)\n",
    "    \n",
    "    precision\n",
    "    \n",
    "    make this convergence test evolve on time\n",
    "    \n",
    "    make the other convergence test"
   ]
  },
  {
   "cell_type": "markdown",
   "id": "126c0f2a",
   "metadata": {},
   "source": [
    "Plotting Grids\n",
    "\n",
    "\n",
    "COMPARE EXACTLY THE SAME R :)!! needs to be 4* ou 16*\n",
    "plot the same but for the higher resolution\n",
    "\n",
    "automatize :)"
   ]
  },
  {
   "cell_type": "code",
   "execution_count": null,
   "id": "76828f84",
   "metadata": {},
   "outputs": [],
   "source": [
    "##########ATENÇÃOOOOO Estes linspaces têm erros\n",
    "\n",
    "\n",
    "\n",
    "\n",
    "\n",
    "print(plt_x)\n",
    "\n",
    "print(plt_xx)\n",
    "\n",
    "\"\"\"cst = np.zeros(len(plt_x))\n",
    "plt.scatter(plt_x,cst, 0.0001)\n",
    "plt.ylim(-0.01, 0.01)\"\"\""
   ]
  },
  {
   "cell_type": "markdown",
   "id": "ef9e9ccf",
   "metadata": {},
   "source": [
    "Experimenting other way of reading data"
   ]
  },
  {
   "cell_type": "code",
   "execution_count": null,
   "id": "237e3b89",
   "metadata": {},
   "outputs": [],
   "source": [
    "\"\"\"df = pd.read_fwf(\"/home/rita13santos/Desktop/MSc Thesis/DATA/res1/time_step1.csv\", header=None)\n",
    "\n",
    "#print(df.iloc[:, 0])\n",
    "\n",
    "cols = []\n",
    "\n",
    "col1 = df.iloc[:, 0]\n",
    "col1 = col1.to_numpy()\n",
    "cols.append(col1)\n",
    "    \n",
    "\"\"\"f = col.filter((a, i) => i % 2 === 0)\n",
    "print(f)\"\"\"\n",
    "\n",
    "print(cols[0::2])\"\"\""
   ]
  },
  {
   "cell_type": "code",
   "execution_count": null,
   "id": "157195e7",
   "metadata": {},
   "outputs": [],
   "source": []
  }
 ],
 "metadata": {
  "kernelspec": {
   "display_name": "Python 3 (ipykernel)",
   "language": "python",
   "name": "python3"
  },
  "language_info": {
   "codemirror_mode": {
    "name": "ipython",
    "version": 3
   },
   "file_extension": ".py",
   "mimetype": "text/x-python",
   "name": "python",
   "nbconvert_exporter": "python",
   "pygments_lexer": "ipython3",
   "version": "3.9.12"
  }
 },
 "nbformat": 4,
 "nbformat_minor": 5
}
